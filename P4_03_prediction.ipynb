{
 "cells": [
  {
   "cell_type": "markdown",
   "source": [
    "OpenClassrooms\n",
    "Project 4, Data Scientist\n",
    "Author : Oumeima EL GHARBI\n",
    "Date : August 2022"
   ],
   "metadata": {
    "collapsed": false,
    "pycharm": {
     "name": "#%% md\n"
    }
   }
  },
  {
   "cell_type": "markdown",
   "source": [
    "Un notebook pour chaque prédiction (émissions de CO2 et consommation totale d’énergie) des différents tests de modèles mis au propre, dans lequel vous identifierez clairement le modèle final choisi.\n",
    "\n",
    "\n",
    "L’objectif est de te passer des relevés de consommation annuels futurs (attention à la fuite de données). Nous ferons de toute façon pour tout nouveau bâtiment un premier relevé de référence la première année, donc rien ne t'interdit d’en déduire des variables structurelles aux bâtiments, par exemple la nature et proportions des sources d’énergie utilisées..\n",
    "\n",
    "Fais bien attention au traitement des différentes variables, à la fois pour trouver de nouvelles informations (peut-on déduire des choses intéressantes d’une simple adresse ?) et optimiser les performances en appliquant des transformations simples aux variables (normalisation, passage au log, etc.).\n",
    "\n",
    "Mets en place une évaluation rigoureuse des performances de la régression, et optimise les hyperparamètres et le choix d’algorithmes de ML à l’aide d’une validation croisée."
   ],
   "metadata": {
    "collapsed": false,
    "pycharm": {
     "name": "#%% md\n"
    }
   }
  },
  {
   "cell_type": "markdown",
   "source": [
    "\n",
    "\n",
    "Tester les modèles suivants : **regression linéaire (avec différentes régularisation : Ridge, Lasso, Elastic), Random Forest, XGboost**\n",
    "Penser à comparer les performances des différents modèles : utiliser la **MAE** ( Mean Absolute Error)\n",
    "Penser également à optimiser les hyper paramètres de chaque modèle via **GridSearch**\n"
   ],
   "metadata": {
    "collapsed": false,
    "pycharm": {
     "name": "#%% md\n"
    }
   }
  },
  {
   "cell_type": "markdown",
   "source": [
    "Evaluate :\n",
    "\n",
    "https://cloud.google.com/automl-tables/docs/evaluate?hl=fr\n",
    "\n",
    "\n",
    "KFOLD\n",
    "\n",
    "Entrée : données X (dimension nxp), étiquettes y (dimension n), nombre de folds k\n",
    "\n",
    "Couper [0, 1, ..., n-1] en k parties de taille (n/k). (La dernière partie sera un peu plus petite si n n'est pas un multiple de k)\n",
    "\n",
    "for i=0 to (k-1):\n",
    "    Former le jeu de test (X_test, y_test) en restreignant X et y aux indices contenus dans la i-ième partie.\n",
    "    Former le jeu d'entraînement (X_train, y_train) en restreignant X et y aux autres indices.\n",
    "    Entraîner l'algorithme sur le jeu d'entraînement\n",
    "    Utiliser le modèle ainsi obtenu pour prédire sur le jeu de test\n",
    "        Calculer l'erreur du modèle en comparant les étiquettes prédites aux vraies étiquettes contenues dans y_test\n",
    "\n",
    "Sortie : la valeur moyenne des erreurs calculées sur les k folds."
   ],
   "metadata": {
    "collapsed": false,
    "pycharm": {
     "name": "#%% md\n"
    }
   }
  },
  {
   "cell_type": "code",
   "execution_count": 896,
   "outputs": [],
   "source": [
    "# 1 modele de Regression (RL classsque / Elastic / ridig / laso\n",
    "# Random Forest\n",
    "# XGBOOST\n",
    "\n",
    "# var à rpedire tottal GHE Emssion last one to predict\n",
    "# cette var deped de la consommation des bateimenst (1) prediction sur elec, steam, naturalgas et un autre energie (2) et reutiliser pour predire"
   ],
   "metadata": {
    "collapsed": false,
    "pycharm": {
     "name": "#%%\n"
    }
   }
  },
  {
   "cell_type": "markdown",
   "source": [
    "### Introduction"
   ],
   "metadata": {
    "collapsed": false,
    "pycharm": {
     "name": "#%% md\n"
    }
   }
  },
  {
   "cell_type": "markdown",
   "source": [
    "#### Importing libraries"
   ],
   "metadata": {
    "collapsed": false,
    "pycharm": {
     "name": "#%% md\n"
    }
   }
  },
  {
   "cell_type": "code",
   "execution_count": 2,
   "outputs": [
    {
     "data": {
      "application/javascript": "IPython.notebook.set_autosave_interval(300000)"
     },
     "metadata": {},
     "output_type": "display_data"
    },
    {
     "name": "stdout",
     "output_type": "stream",
     "text": [
      "Autosaving every 300 seconds\n"
     ]
    }
   ],
   "source": [
    "%reset -f\n",
    "\n",
    "import numpy as np\n",
    "import pandas as pd\n",
    "import matplotlib.pyplot as plt\n",
    "import seaborn as sns\n",
    "\n",
    "%matplotlib inline\n",
    "%autosave 300"
   ],
   "metadata": {
    "collapsed": false,
    "pycharm": {
     "name": "#%%\n"
    }
   }
  },
  {
   "cell_type": "code",
   "execution_count": 3,
   "outputs": [],
   "source": [
    "from functions import *"
   ],
   "metadata": {
    "collapsed": false,
    "pycharm": {
     "name": "#%%\n"
    }
   }
  },
  {
   "cell_type": "code",
   "execution_count": 4,
   "outputs": [],
   "source": [
    "import os, warnings\n",
    "# warnings.filterwarnings('ignore')\n",
    "warnings.filterwarnings(action=\"once\")"
   ],
   "metadata": {
    "collapsed": false,
    "pycharm": {
     "name": "#%%\n"
    }
   }
  },
  {
   "cell_type": "code",
   "execution_count": 5,
   "outputs": [
    {
     "name": "stdout",
     "output_type": "stream",
     "text": [
      "Seed value:  31\n"
     ]
    }
   ],
   "source": [
    "# Set random integer (seed) - 891\n",
    "from random import randrange\n",
    "seed = randrange(1000)\n",
    "print(\"Seed value: \", seed)"
   ],
   "metadata": {
    "collapsed": false,
    "pycharm": {
     "name": "#%%\n"
    }
   }
  },
  {
   "cell_type": "markdown",
   "source": [
    "#### Loading dataset"
   ],
   "metadata": {
    "collapsed": false,
    "pycharm": {
     "name": "#%% md\n"
    }
   }
  },
  {
   "cell_type": "code",
   "execution_count": 6,
   "outputs": [
    {
     "name": "stdout",
     "output_type": "stream",
     "text": [
      "This dictionary will be used when reading the csv file to assign a type to categorical features : {'BuildingType': 'category', 'PrimaryPropertyType': 'category', 'Neighborhood': 'category', 'ZipCode': 'category', 'CouncilDistrictCode': 'category', 'LargestPropertyUseType': 'category', 'SecondLargestPropertyUseType': 'category', 'ThirdLargestPropertyUseType': 'category'}\n"
     ]
    }
   ],
   "source": [
    "columns_to_categorize = [\"BuildingType\", \"PrimaryPropertyType\", \"Neighborhood\", \"ZipCode\", \"CouncilDistrictCode\", \"LargestPropertyUseType\", \"SecondLargestPropertyUseType\", \"ThirdLargestPropertyUseType\"]\n",
    "#  \"Neighborhood\",\n",
    "category_types = {column: 'category' for column in columns_to_categorize}\n",
    "print(\"This dictionary will be used when reading the csv file to assign a type to categorical features :\", category_types)"
   ],
   "metadata": {
    "collapsed": false,
    "pycharm": {
     "name": "#%%\n"
    }
   }
  },
  {
   "cell_type": "code",
   "execution_count": 7,
   "outputs": [],
   "source": [
    "path = \"./dataset/cleaned/\"\n",
    "filename = \"2016_Building_Energy_Prediction.csv\"\n",
    "dataset_path = \"{}{}\".format(path, filename)\n",
    "# we assign the categorical features with a categotical type\n",
    "data = pd.read_csv(dataset_path, dtype=category_types, sep=\",\")"
   ],
   "metadata": {
    "collapsed": false,
    "pycharm": {
     "name": "#%%\n"
    }
   }
  },
  {
   "cell_type": "code",
   "execution_count": 8,
   "outputs": [
    {
     "data": {
      "text/plain": "(3157, 37)"
     },
     "execution_count": 8,
     "metadata": {},
     "output_type": "execute_result"
    }
   ],
   "source": [
    "data.shape"
   ],
   "metadata": {
    "collapsed": false,
    "pycharm": {
     "name": "#%%\n"
    }
   }
  },
  {
   "cell_type": "code",
   "execution_count": 9,
   "outputs": [
    {
     "data": {
      "text/plain": "OSEBuildingID                             int64\nBuildingType                           category\nPrimaryPropertyType                    category\nZipCode                                category\nCouncilDistrictCode                    category\nNeighborhood                           category\nYearBuilt                                 int64\nNumberofBuildings                       float64\nNumberofFloors                            int64\nPropertyGFATotal                          int64\nPropertyGFAParking                        int64\nPropertyGFABuilding(s)                    int64\nLargestPropertyUseType                 category\nLargestPropertyUseTypeGFA               float64\nSecondLargestPropertyUseType           category\nSecondLargestPropertyUseTypeGFA         float64\nThirdLargestPropertyUseType            category\nThirdLargestPropertyUseTypeGFA          float64\nENERGYSTARScore                         float64\nSiteEnergyUse(kBtu)                     float64\nSteamUse(kBtu)                          float64\nElectricity(kBtu)                       float64\nNaturalGas(kBtu)                        float64\nTotalGHGEmissions                       float64\nLog-NumberofBuildings                   float64\nLog-NumberofFloors                      float64\nLog-PropertyGFATotal                    float64\nLog-PropertyGFAParking                  float64\nLog-PropertyGFABuilding(s)              float64\nLog-LargestPropertyUseTypeGFA           float64\nLog-SecondLargestPropertyUseTypeGFA     float64\nLog-ThirdLargestPropertyUseTypeGFA      float64\nLog-SiteEnergyUse(kBtu)                 float64\nLog-SteamUse(kBtu)                      float64\nLog-Electricity(kBtu)                   float64\nLog-NaturalGas(kBtu)                    float64\nLog-TotalGHGEmissions                   float64\ndtype: object"
     },
     "execution_count": 9,
     "metadata": {},
     "output_type": "execute_result"
    }
   ],
   "source": [
    "data.dtypes"
   ],
   "metadata": {
    "collapsed": false,
    "pycharm": {
     "name": "#%%\n"
    }
   }
  },
  {
   "cell_type": "code",
   "execution_count": 10,
   "outputs": [],
   "source": [
    "# predict : Electricity\n",
    "# train / test\n",
    "# standardisation = retirer la moyen et div par ecart type (scaling : les var qn sur emem echelle\n",
    "# var categ : encoding (one hot encoder)\n",
    "\n",
    "# la fin Feature engineriing\n",
    "\n",
    "# 2) entrainer le smodels\n",
    "# perf\n",
    "# temps de calcul\n",
    "# graph pour montrer la perf de chaque modele(barplot)\n",
    "# obj : finir exploration / finir feature engineering\n",
    "# obj un premier noteboook propre (try max)"
   ],
   "metadata": {
    "collapsed": false,
    "pycharm": {
     "name": "#%%\n"
    }
   }
  },
  {
   "cell_type": "code",
   "execution_count": 11,
   "outputs": [
    {
     "data": {
      "text/plain": "Index(['OSEBuildingID', 'BuildingType', 'PrimaryPropertyType', 'ZipCode',\n       'CouncilDistrictCode', 'Neighborhood', 'YearBuilt', 'NumberofBuildings',\n       'NumberofFloors', 'PropertyGFATotal', 'PropertyGFAParking',\n       'PropertyGFABuilding(s)', 'LargestPropertyUseType',\n       'LargestPropertyUseTypeGFA', 'SecondLargestPropertyUseType',\n       'SecondLargestPropertyUseTypeGFA', 'ThirdLargestPropertyUseType',\n       'ThirdLargestPropertyUseTypeGFA', 'ENERGYSTARScore',\n       'SiteEnergyUse(kBtu)', 'SteamUse(kBtu)', 'Electricity(kBtu)',\n       'NaturalGas(kBtu)', 'TotalGHGEmissions', 'Log-NumberofBuildings',\n       'Log-NumberofFloors', 'Log-PropertyGFATotal', 'Log-PropertyGFAParking',\n       'Log-PropertyGFABuilding(s)', 'Log-LargestPropertyUseTypeGFA',\n       'Log-SecondLargestPropertyUseTypeGFA',\n       'Log-ThirdLargestPropertyUseTypeGFA', 'Log-SiteEnergyUse(kBtu)',\n       'Log-SteamUse(kBtu)', 'Log-Electricity(kBtu)', 'Log-NaturalGas(kBtu)',\n       'Log-TotalGHGEmissions'],\n      dtype='object')"
     },
     "execution_count": 11,
     "metadata": {},
     "output_type": "execute_result"
    }
   ],
   "source": [
    "data.columns"
   ],
   "metadata": {
    "collapsed": false,
    "pycharm": {
     "name": "#%%\n"
    }
   }
  },
  {
   "cell_type": "code",
   "execution_count": 12,
   "outputs": [
    {
     "name": "stdout",
     "output_type": "stream",
     "text": [
      "['BuildingType', 'PrimaryPropertyType', 'Neighborhood', 'Log-NumberofFloors', 'Log-PropertyGFATotal', 'Log-PropertyGFABuilding(s)', 'Log-SecondLargestPropertyUseTypeGFA', 'Log-ThirdLargestPropertyUseTypeGFA', 'Log-Electricity(kBtu)']\n"
     ]
    }
   ],
   "source": [
    "features_for_prediction = [\"BuildingType\", \"PrimaryPropertyType\", \"Neighborhood\", \"Log-NumberofFloors\", \"Log-PropertyGFATotal\", \"Log-PropertyGFABuilding(s)\", \"Log-SecondLargestPropertyUseTypeGFA\", \"Log-ThirdLargestPropertyUseTypeGFA\"]\n",
    "\n",
    "#features_for_prediction = [\"YearBuilt\", \"NumberofBuildings\", \"NumberofFloors\", \"LargestPropertyUseTypeGFA\", \"SecondLargestPropertyUseTypeGFA\", \"ThirdLargestPropertyUseTypeGFA\",\n",
    "   #                        \"BuildingType\",\"PrimaryPropertyType\", \"Neighborhood\", \"LargestPropertyUseType\", \"SecondLargestPropertyUseType\", \"ThirdLargestPropertyUseType\"]\n",
    "\n",
    "variable_to_predict = \"Log-Electricity(kBtu)\"\n",
    "\n",
    "features_for_prediction.append(variable_to_predict)\n",
    "print(features_for_prediction)\n"
   ],
   "metadata": {
    "collapsed": false,
    "pycharm": {
     "name": "#%%\n"
    }
   }
  },
  {
   "cell_type": "code",
   "execution_count": 13,
   "outputs": [
    {
     "data": {
      "text/plain": "              BuildingType          PrimaryPropertyType      Neighborhood  \\\n0     Multifamily LR (1-4)         Low-Rise Multifamily           central   \n1           NonResidential                    Warehouse  greater duwamish   \n2     Multifamily LR (1-4)         Low-Rise Multifamily  greater duwamish   \n3     Multifamily HR (10+)        High-Rise Multifamily  greater duwamish   \n4     Multifamily LR (1-4)         Low-Rise Multifamily  greater duwamish   \n...                    ...                          ...               ...   \n3152        NonResidential           Mixed Use Property        lake union   \n3153  Multifamily LR (1-4)         Low-Rise Multifamily        lake union   \n3154        NonResidential  Small- and Mid-Sized Office        lake union   \n3155        NonResidential                 Retail Store        lake union   \n3156    Nonresidential COS           Mixed Use Property  greater duwamish   \n\n      Log-NumberofFloors  Log-PropertyGFATotal  Log-PropertyGFABuilding(s)  \\\n0               1.386294              9.939819                    9.939819   \n1               1.098612             10.164158                   10.164158   \n2               1.386294             10.131459                   10.131459   \n3               2.772589             11.210455                   11.210455   \n4               1.386294             10.501884                   10.287184   \n...                  ...                   ...                         ...   \n3152            1.386294             10.641321                   10.392129   \n3153            1.609438             10.509469                   10.509469   \n3154            1.791759             10.426469                   10.230306   \n3155            1.098612              9.929009                    9.929009   \n3156            0.693147              9.812413                    9.812413   \n\n      Log-SecondLargestPropertyUseTypeGFA  Log-ThirdLargestPropertyUseTypeGFA  \\\n0                                0.000000                            0.000000   \n1                                9.076352                            8.026497   \n2                                0.000000                            0.000000   \n3                                0.000000                            0.000000   \n4                                8.343078                            0.000000   \n...                                   ...                                 ...   \n3152                             9.555985                            9.177920   \n3153                             0.000000                            0.000000   \n3154                             9.078294                            7.313887   \n3155                             8.987322                            0.000000   \n3156                             8.987322                            7.011214   \n\n      Log-Electricity(kBtu)  \n0                 13.612540  \n1                 14.012813  \n2                 12.624928  \n3                 14.583001  \n4                 13.397146  \n...                     ...  \n3152              14.707138  \n3153              13.156997  \n3154              14.071242  \n3155              12.487428  \n3156              12.977465  \n\n[3157 rows x 9 columns]",
      "text/html": "<div>\n<style scoped>\n    .dataframe tbody tr th:only-of-type {\n        vertical-align: middle;\n    }\n\n    .dataframe tbody tr th {\n        vertical-align: top;\n    }\n\n    .dataframe thead th {\n        text-align: right;\n    }\n</style>\n<table border=\"1\" class=\"dataframe\">\n  <thead>\n    <tr style=\"text-align: right;\">\n      <th></th>\n      <th>BuildingType</th>\n      <th>PrimaryPropertyType</th>\n      <th>Neighborhood</th>\n      <th>Log-NumberofFloors</th>\n      <th>Log-PropertyGFATotal</th>\n      <th>Log-PropertyGFABuilding(s)</th>\n      <th>Log-SecondLargestPropertyUseTypeGFA</th>\n      <th>Log-ThirdLargestPropertyUseTypeGFA</th>\n      <th>Log-Electricity(kBtu)</th>\n    </tr>\n  </thead>\n  <tbody>\n    <tr>\n      <th>0</th>\n      <td>Multifamily LR (1-4)</td>\n      <td>Low-Rise Multifamily</td>\n      <td>central</td>\n      <td>1.386294</td>\n      <td>9.939819</td>\n      <td>9.939819</td>\n      <td>0.000000</td>\n      <td>0.000000</td>\n      <td>13.612540</td>\n    </tr>\n    <tr>\n      <th>1</th>\n      <td>NonResidential</td>\n      <td>Warehouse</td>\n      <td>greater duwamish</td>\n      <td>1.098612</td>\n      <td>10.164158</td>\n      <td>10.164158</td>\n      <td>9.076352</td>\n      <td>8.026497</td>\n      <td>14.012813</td>\n    </tr>\n    <tr>\n      <th>2</th>\n      <td>Multifamily LR (1-4)</td>\n      <td>Low-Rise Multifamily</td>\n      <td>greater duwamish</td>\n      <td>1.386294</td>\n      <td>10.131459</td>\n      <td>10.131459</td>\n      <td>0.000000</td>\n      <td>0.000000</td>\n      <td>12.624928</td>\n    </tr>\n    <tr>\n      <th>3</th>\n      <td>Multifamily HR (10+)</td>\n      <td>High-Rise Multifamily</td>\n      <td>greater duwamish</td>\n      <td>2.772589</td>\n      <td>11.210455</td>\n      <td>11.210455</td>\n      <td>0.000000</td>\n      <td>0.000000</td>\n      <td>14.583001</td>\n    </tr>\n    <tr>\n      <th>4</th>\n      <td>Multifamily LR (1-4)</td>\n      <td>Low-Rise Multifamily</td>\n      <td>greater duwamish</td>\n      <td>1.386294</td>\n      <td>10.501884</td>\n      <td>10.287184</td>\n      <td>8.343078</td>\n      <td>0.000000</td>\n      <td>13.397146</td>\n    </tr>\n    <tr>\n      <th>...</th>\n      <td>...</td>\n      <td>...</td>\n      <td>...</td>\n      <td>...</td>\n      <td>...</td>\n      <td>...</td>\n      <td>...</td>\n      <td>...</td>\n      <td>...</td>\n    </tr>\n    <tr>\n      <th>3152</th>\n      <td>NonResidential</td>\n      <td>Mixed Use Property</td>\n      <td>lake union</td>\n      <td>1.386294</td>\n      <td>10.641321</td>\n      <td>10.392129</td>\n      <td>9.555985</td>\n      <td>9.177920</td>\n      <td>14.707138</td>\n    </tr>\n    <tr>\n      <th>3153</th>\n      <td>Multifamily LR (1-4)</td>\n      <td>Low-Rise Multifamily</td>\n      <td>lake union</td>\n      <td>1.609438</td>\n      <td>10.509469</td>\n      <td>10.509469</td>\n      <td>0.000000</td>\n      <td>0.000000</td>\n      <td>13.156997</td>\n    </tr>\n    <tr>\n      <th>3154</th>\n      <td>NonResidential</td>\n      <td>Small- and Mid-Sized Office</td>\n      <td>lake union</td>\n      <td>1.791759</td>\n      <td>10.426469</td>\n      <td>10.230306</td>\n      <td>9.078294</td>\n      <td>7.313887</td>\n      <td>14.071242</td>\n    </tr>\n    <tr>\n      <th>3155</th>\n      <td>NonResidential</td>\n      <td>Retail Store</td>\n      <td>lake union</td>\n      <td>1.098612</td>\n      <td>9.929009</td>\n      <td>9.929009</td>\n      <td>8.987322</td>\n      <td>0.000000</td>\n      <td>12.487428</td>\n    </tr>\n    <tr>\n      <th>3156</th>\n      <td>Nonresidential COS</td>\n      <td>Mixed Use Property</td>\n      <td>greater duwamish</td>\n      <td>0.693147</td>\n      <td>9.812413</td>\n      <td>9.812413</td>\n      <td>8.987322</td>\n      <td>7.011214</td>\n      <td>12.977465</td>\n    </tr>\n  </tbody>\n</table>\n<p>3157 rows × 9 columns</p>\n</div>"
     },
     "execution_count": 13,
     "metadata": {},
     "output_type": "execute_result"
    }
   ],
   "source": [
    "data = data[features_for_prediction]\n",
    "\n",
    "data"
   ],
   "metadata": {
    "collapsed": false,
    "pycharm": {
     "name": "#%%\n"
    }
   }
  },
  {
   "cell_type": "markdown",
   "source": [
    "## I) Feature Engineering : preparing the vectors and matrices\n"
   ],
   "metadata": {
    "collapsed": false,
    "pycharm": {
     "name": "#%% md\n"
    }
   }
  },
  {
   "cell_type": "markdown",
   "source": [
    "#### 1) Separating training data and target vector"
   ],
   "metadata": {
    "collapsed": false,
    "pycharm": {
     "name": "#%% md\n"
    }
   }
  },
  {
   "cell_type": "code",
   "execution_count": 14,
   "outputs": [
    {
     "name": "stdout",
     "output_type": "stream",
     "text": [
      "Shape of X : (3157, 8)\n",
      "Shape of y : (3157,)\n"
     ]
    }
   ],
   "source": [
    "# we create the data matrix / we only take the features\n",
    "X = data[data.columns[:-1]]\n",
    "\n",
    "# we create the target vector\n",
    "y = data[variable_to_predict].values # numpy array not a DataFrame anymore\n",
    "\n",
    "print(\"Shape of X :\", X.shape)\n",
    "print(\"Shape of y :\", y.shape)"
   ],
   "metadata": {
    "collapsed": false,
    "pycharm": {
     "name": "#%%\n"
    }
   }
  },
  {
   "cell_type": "code",
   "execution_count": 15,
   "outputs": [
    {
     "data": {
      "text/plain": "              BuildingType          PrimaryPropertyType      Neighborhood  \\\n0     Multifamily LR (1-4)         Low-Rise Multifamily           central   \n1           NonResidential                    Warehouse  greater duwamish   \n2     Multifamily LR (1-4)         Low-Rise Multifamily  greater duwamish   \n3     Multifamily HR (10+)        High-Rise Multifamily  greater duwamish   \n4     Multifamily LR (1-4)         Low-Rise Multifamily  greater duwamish   \n...                    ...                          ...               ...   \n3152        NonResidential           Mixed Use Property        lake union   \n3153  Multifamily LR (1-4)         Low-Rise Multifamily        lake union   \n3154        NonResidential  Small- and Mid-Sized Office        lake union   \n3155        NonResidential                 Retail Store        lake union   \n3156    Nonresidential COS           Mixed Use Property  greater duwamish   \n\n      Log-NumberofFloors  Log-PropertyGFATotal  Log-PropertyGFABuilding(s)  \\\n0               1.386294              9.939819                    9.939819   \n1               1.098612             10.164158                   10.164158   \n2               1.386294             10.131459                   10.131459   \n3               2.772589             11.210455                   11.210455   \n4               1.386294             10.501884                   10.287184   \n...                  ...                   ...                         ...   \n3152            1.386294             10.641321                   10.392129   \n3153            1.609438             10.509469                   10.509469   \n3154            1.791759             10.426469                   10.230306   \n3155            1.098612              9.929009                    9.929009   \n3156            0.693147              9.812413                    9.812413   \n\n      Log-SecondLargestPropertyUseTypeGFA  Log-ThirdLargestPropertyUseTypeGFA  \n0                                0.000000                            0.000000  \n1                                9.076352                            8.026497  \n2                                0.000000                            0.000000  \n3                                0.000000                            0.000000  \n4                                8.343078                            0.000000  \n...                                   ...                                 ...  \n3152                             9.555985                            9.177920  \n3153                             0.000000                            0.000000  \n3154                             9.078294                            7.313887  \n3155                             8.987322                            0.000000  \n3156                             8.987322                            7.011214  \n\n[3157 rows x 8 columns]",
      "text/html": "<div>\n<style scoped>\n    .dataframe tbody tr th:only-of-type {\n        vertical-align: middle;\n    }\n\n    .dataframe tbody tr th {\n        vertical-align: top;\n    }\n\n    .dataframe thead th {\n        text-align: right;\n    }\n</style>\n<table border=\"1\" class=\"dataframe\">\n  <thead>\n    <tr style=\"text-align: right;\">\n      <th></th>\n      <th>BuildingType</th>\n      <th>PrimaryPropertyType</th>\n      <th>Neighborhood</th>\n      <th>Log-NumberofFloors</th>\n      <th>Log-PropertyGFATotal</th>\n      <th>Log-PropertyGFABuilding(s)</th>\n      <th>Log-SecondLargestPropertyUseTypeGFA</th>\n      <th>Log-ThirdLargestPropertyUseTypeGFA</th>\n    </tr>\n  </thead>\n  <tbody>\n    <tr>\n      <th>0</th>\n      <td>Multifamily LR (1-4)</td>\n      <td>Low-Rise Multifamily</td>\n      <td>central</td>\n      <td>1.386294</td>\n      <td>9.939819</td>\n      <td>9.939819</td>\n      <td>0.000000</td>\n      <td>0.000000</td>\n    </tr>\n    <tr>\n      <th>1</th>\n      <td>NonResidential</td>\n      <td>Warehouse</td>\n      <td>greater duwamish</td>\n      <td>1.098612</td>\n      <td>10.164158</td>\n      <td>10.164158</td>\n      <td>9.076352</td>\n      <td>8.026497</td>\n    </tr>\n    <tr>\n      <th>2</th>\n      <td>Multifamily LR (1-4)</td>\n      <td>Low-Rise Multifamily</td>\n      <td>greater duwamish</td>\n      <td>1.386294</td>\n      <td>10.131459</td>\n      <td>10.131459</td>\n      <td>0.000000</td>\n      <td>0.000000</td>\n    </tr>\n    <tr>\n      <th>3</th>\n      <td>Multifamily HR (10+)</td>\n      <td>High-Rise Multifamily</td>\n      <td>greater duwamish</td>\n      <td>2.772589</td>\n      <td>11.210455</td>\n      <td>11.210455</td>\n      <td>0.000000</td>\n      <td>0.000000</td>\n    </tr>\n    <tr>\n      <th>4</th>\n      <td>Multifamily LR (1-4)</td>\n      <td>Low-Rise Multifamily</td>\n      <td>greater duwamish</td>\n      <td>1.386294</td>\n      <td>10.501884</td>\n      <td>10.287184</td>\n      <td>8.343078</td>\n      <td>0.000000</td>\n    </tr>\n    <tr>\n      <th>...</th>\n      <td>...</td>\n      <td>...</td>\n      <td>...</td>\n      <td>...</td>\n      <td>...</td>\n      <td>...</td>\n      <td>...</td>\n      <td>...</td>\n    </tr>\n    <tr>\n      <th>3152</th>\n      <td>NonResidential</td>\n      <td>Mixed Use Property</td>\n      <td>lake union</td>\n      <td>1.386294</td>\n      <td>10.641321</td>\n      <td>10.392129</td>\n      <td>9.555985</td>\n      <td>9.177920</td>\n    </tr>\n    <tr>\n      <th>3153</th>\n      <td>Multifamily LR (1-4)</td>\n      <td>Low-Rise Multifamily</td>\n      <td>lake union</td>\n      <td>1.609438</td>\n      <td>10.509469</td>\n      <td>10.509469</td>\n      <td>0.000000</td>\n      <td>0.000000</td>\n    </tr>\n    <tr>\n      <th>3154</th>\n      <td>NonResidential</td>\n      <td>Small- and Mid-Sized Office</td>\n      <td>lake union</td>\n      <td>1.791759</td>\n      <td>10.426469</td>\n      <td>10.230306</td>\n      <td>9.078294</td>\n      <td>7.313887</td>\n    </tr>\n    <tr>\n      <th>3155</th>\n      <td>NonResidential</td>\n      <td>Retail Store</td>\n      <td>lake union</td>\n      <td>1.098612</td>\n      <td>9.929009</td>\n      <td>9.929009</td>\n      <td>8.987322</td>\n      <td>0.000000</td>\n    </tr>\n    <tr>\n      <th>3156</th>\n      <td>Nonresidential COS</td>\n      <td>Mixed Use Property</td>\n      <td>greater duwamish</td>\n      <td>0.693147</td>\n      <td>9.812413</td>\n      <td>9.812413</td>\n      <td>8.987322</td>\n      <td>7.011214</td>\n    </tr>\n  </tbody>\n</table>\n<p>3157 rows × 8 columns</p>\n</div>"
     },
     "execution_count": 15,
     "metadata": {},
     "output_type": "execute_result"
    }
   ],
   "source": [
    "X"
   ],
   "metadata": {
    "collapsed": false,
    "pycharm": {
     "name": "#%%\n"
    }
   }
  },
  {
   "cell_type": "markdown",
   "source": [
    "#### 2) Separation train and test dataset\n"
   ],
   "metadata": {
    "collapsed": false,
    "pycharm": {
     "name": "#%% md\n"
    }
   }
  },
  {
   "cell_type": "code",
   "execution_count": 16,
   "outputs": [
    {
     "name": "stdout",
     "output_type": "stream",
     "text": [
      "We have to separate the train / test sets before normalising the dataset.\n"
     ]
    }
   ],
   "source": [
    "print(\"We have to separate the train / test sets before normalising the dataset.\")"
   ],
   "metadata": {
    "collapsed": false,
    "pycharm": {
     "name": "#%%\n"
    }
   }
  },
  {
   "cell_type": "code",
   "execution_count": 17,
   "outputs": [],
   "source": [
    "# We create a training set and a test set (the test set contains 30% of the dataset)\n",
    "from sklearn import model_selection\n",
    "X_train, X_test, y_train, y_test = model_selection.train_test_split(X, y, test_size=0.3,  random_state=seed)"
   ],
   "metadata": {
    "collapsed": false,
    "pycharm": {
     "name": "#%%\n"
    }
   }
  },
  {
   "cell_type": "code",
   "execution_count": 18,
   "outputs": [
    {
     "data": {
      "text/plain": "(2209, 8)"
     },
     "execution_count": 18,
     "metadata": {},
     "output_type": "execute_result"
    }
   ],
   "source": [
    "X_train.shape"
   ],
   "metadata": {
    "collapsed": false,
    "pycharm": {
     "name": "#%%\n"
    }
   }
  },
  {
   "cell_type": "code",
   "execution_count": 19,
   "outputs": [
    {
     "data": {
      "text/plain": "(948, 8)"
     },
     "execution_count": 19,
     "metadata": {},
     "output_type": "execute_result"
    }
   ],
   "source": [
    "X_test.shape"
   ],
   "metadata": {
    "collapsed": false,
    "pycharm": {
     "name": "#%%\n"
    }
   }
  },
  {
   "cell_type": "markdown",
   "source": [
    "#### 3) Normalization"
   ],
   "metadata": {
    "collapsed": false,
    "pycharm": {
     "name": "#%% md\n"
    }
   }
  },
  {
   "cell_type": "code",
   "execution_count": 20,
   "outputs": [],
   "source": [
    "from sklearn.preprocessing import StandardScaler, OneHotEncoder, MinMaxScaler"
   ],
   "metadata": {
    "collapsed": false,
    "pycharm": {
     "name": "#%%\n"
    }
   }
  },
  {
   "cell_type": "code",
   "execution_count": 21,
   "outputs": [
    {
     "name": "stdout",
     "output_type": "stream",
     "text": [
      "We separate categorical variables from numerical variables.\n"
     ]
    }
   ],
   "source": [
    "print(\"We separate categorical variables from numerical variables.\")"
   ],
   "metadata": {
    "collapsed": false,
    "pycharm": {
     "name": "#%%\n"
    }
   }
  },
  {
   "cell_type": "code",
   "execution_count": 22,
   "outputs": [
    {
     "name": "stdout",
     "output_type": "stream",
     "text": [
      "We won't normalise the year so we drop it from numerical_columns.\n",
      "Shape of categorical variables :  (3,)\n",
      "Shape of numerical variables : (5,)\n"
     ]
    }
   ],
   "source": [
    "X.select_dtypes(['category','object']) # we don't have 'object' here but it is just in case.\n",
    "\n",
    "categorical_columns = X.select_dtypes(['category','object']).columns\n",
    "#numerical_columns = X.select_dtypes(include='number').columns.drop(\"YearBuilt\")\n",
    "numerical_columns = X.select_dtypes(include='number').columns\n",
    "print(\"We won't normalise the year so we drop it from numerical_columns.\")\n",
    "\n",
    "print(\"Shape of categorical variables : \", categorical_columns.shape)\n",
    "print(\"Shape of numerical variables :\", numerical_columns.shape)"
   ],
   "metadata": {
    "collapsed": false,
    "pycharm": {
     "name": "#%%\n"
    }
   }
  },
  {
   "cell_type": "markdown",
   "source": [
    "##### 1) Data Standardisation"
   ],
   "metadata": {
    "collapsed": false,
    "pycharm": {
     "name": "#%% md\n"
    }
   }
  },
  {
   "cell_type": "markdown",
   "source": [
    "We have to standardize the variables before learning a **Ridge Regression**.\n",
    "Standardizing means that each variable will have a **standard deviation** equal to 1."
   ],
   "metadata": {
    "collapsed": false,
    "pycharm": {
     "name": "#%% md\n"
    }
   }
  },
  {
   "cell_type": "code",
   "execution_count": 23,
   "outputs": [
    {
     "name": "stdout",
     "output_type": "stream",
     "text": [
      "Numerical variables standardization\n",
      "We have : 5 numerical features to standardize.\n",
      "\n",
      "Index(['Log-NumberofFloors', 'Log-PropertyGFATotal',\n",
      "       'Log-PropertyGFABuilding(s)', 'Log-SecondLargestPropertyUseTypeGFA',\n",
      "       'Log-ThirdLargestPropertyUseTypeGFA'],\n",
      "      dtype='object')\n"
     ]
    }
   ],
   "source": [
    "print(\"Numerical variables standardization\")\n",
    "print(\"We have :\", numerical_columns.shape[0], \"numerical features to standardize.\",end=\"\\n\\n\")\n",
    "\n",
    "print(numerical_columns)"
   ],
   "metadata": {
    "collapsed": false,
    "pycharm": {
     "name": "#%%\n"
    }
   }
  },
  {
   "cell_type": "raw",
   "source": [
    "print(\"Dates standardisation : not\")\n",
    "\n",
    "from datetime import datetime\n",
    "\n",
    "def convert_to_timestamp(date):\n",
    "    \"\"\"\n",
    "    Convert date objects to integers\n",
    "    :param date:\n",
    "    :return:\n",
    "    \"\"\"\n",
    "    try:\n",
    "        timestamp = datetime.timestamp(date)\n",
    "        print(\"timestamp =\", timestamp, type(timestamp))\n",
    "        print(\"OK :\", date, type(date))\n",
    "\n",
    "        return timestamp\n",
    "    except Exception as e:\n",
    "        print(\"Error :\", date, type(date))\n",
    "        print(e)\n",
    "\n",
    "def normalize_min_max(data_frame, columns_to_scale):\n",
    "    \"\"\"\n",
    "    Normalizes the dataframe for the wanted column(s) using min/max\n",
    "    :param data_frame:\n",
    "    :param columns_to_scale: (list)\n",
    "    :return:\n",
    "    \"\"\"\n",
    "    min_max_scaler = MinMaxScaler()\n",
    "    df = data_frame.copy() # we will return a copy of our dataframe\n",
    "    df[columns_to_scale] = min_max_scaler.fit_transform(df[columns_to_scale])\n",
    "    return df\n"
   ],
   "metadata": {
    "collapsed": false,
    "pycharm": {
     "name": "#%% raw\n"
    }
   }
  },
  {
   "cell_type": "code",
   "execution_count": 24,
   "outputs": [
    {
     "name": "stdout",
     "output_type": "stream",
     "text": [
      "Before\n"
     ]
    },
    {
     "data": {
      "text/plain": "              BuildingType    PrimaryPropertyType           Neighborhood  \\\n22          NonResidential       Worship Facility                ballard   \n1021  Multifamily MR (5-9)   Mid-Rise Multifamily                   east   \n2516  Multifamily LR (1-4)   Low-Rise Multifamily                   east   \n1543  Multifamily MR (5-9)   Mid-Rise Multifamily  magnolia / queen anne   \n137   Multifamily LR (1-4)   Low-Rise Multifamily                   east   \n...                    ...                    ...                    ...   \n826   Multifamily HR (10+)  High-Rise Multifamily               downtown   \n2658  Multifamily HR (10+)  High-Rise Multifamily  magnolia / queen anne   \n2942  Multifamily LR (1-4)   Low-Rise Multifamily              northeast   \n2064        NonResidential           Large Office               downtown   \n722   Multifamily MR (5-9)   Mid-Rise Multifamily             lake union   \n\n      Log-NumberofFloors  Log-PropertyGFATotal  Log-PropertyGFABuilding(s)  \\\n22              1.098612             10.090838                   10.090838   \n1021            1.945910             11.330168                   11.330168   \n2516            1.386294              9.952563                    9.952563   \n1543            2.079442             10.249839                   10.249839   \n137             1.386294             10.158169                   10.158169   \n...                  ...                   ...                         ...   \n826             2.564949             11.169590                   11.169590   \n2658            2.484907             11.090401                   11.090401   \n2942            1.609438             10.455532                   10.455532   \n2064            2.890372             12.844040                   12.591083   \n722             1.945910             11.438654                   11.438654   \n\n      Log-SecondLargestPropertyUseTypeGFA  Log-ThirdLargestPropertyUseTypeGFA  \n22                               0.000000                            0.000000  \n1021                             9.479298                            6.731018  \n2516                             0.000000                            0.000000  \n1543                             7.824446                            0.000000  \n137                              0.000000                            0.000000  \n...                                   ...                                 ...  \n826                              8.244597                            0.000000  \n2658                             0.000000                            0.000000  \n2942                             0.000000                            0.000000  \n2064                            11.330348                            9.594241  \n722                              6.981935                            6.803505  \n\n[2209 rows x 8 columns]",
      "text/html": "<div>\n<style scoped>\n    .dataframe tbody tr th:only-of-type {\n        vertical-align: middle;\n    }\n\n    .dataframe tbody tr th {\n        vertical-align: top;\n    }\n\n    .dataframe thead th {\n        text-align: right;\n    }\n</style>\n<table border=\"1\" class=\"dataframe\">\n  <thead>\n    <tr style=\"text-align: right;\">\n      <th></th>\n      <th>BuildingType</th>\n      <th>PrimaryPropertyType</th>\n      <th>Neighborhood</th>\n      <th>Log-NumberofFloors</th>\n      <th>Log-PropertyGFATotal</th>\n      <th>Log-PropertyGFABuilding(s)</th>\n      <th>Log-SecondLargestPropertyUseTypeGFA</th>\n      <th>Log-ThirdLargestPropertyUseTypeGFA</th>\n    </tr>\n  </thead>\n  <tbody>\n    <tr>\n      <th>22</th>\n      <td>NonResidential</td>\n      <td>Worship Facility</td>\n      <td>ballard</td>\n      <td>1.098612</td>\n      <td>10.090838</td>\n      <td>10.090838</td>\n      <td>0.000000</td>\n      <td>0.000000</td>\n    </tr>\n    <tr>\n      <th>1021</th>\n      <td>Multifamily MR (5-9)</td>\n      <td>Mid-Rise Multifamily</td>\n      <td>east</td>\n      <td>1.945910</td>\n      <td>11.330168</td>\n      <td>11.330168</td>\n      <td>9.479298</td>\n      <td>6.731018</td>\n    </tr>\n    <tr>\n      <th>2516</th>\n      <td>Multifamily LR (1-4)</td>\n      <td>Low-Rise Multifamily</td>\n      <td>east</td>\n      <td>1.386294</td>\n      <td>9.952563</td>\n      <td>9.952563</td>\n      <td>0.000000</td>\n      <td>0.000000</td>\n    </tr>\n    <tr>\n      <th>1543</th>\n      <td>Multifamily MR (5-9)</td>\n      <td>Mid-Rise Multifamily</td>\n      <td>magnolia / queen anne</td>\n      <td>2.079442</td>\n      <td>10.249839</td>\n      <td>10.249839</td>\n      <td>7.824446</td>\n      <td>0.000000</td>\n    </tr>\n    <tr>\n      <th>137</th>\n      <td>Multifamily LR (1-4)</td>\n      <td>Low-Rise Multifamily</td>\n      <td>east</td>\n      <td>1.386294</td>\n      <td>10.158169</td>\n      <td>10.158169</td>\n      <td>0.000000</td>\n      <td>0.000000</td>\n    </tr>\n    <tr>\n      <th>...</th>\n      <td>...</td>\n      <td>...</td>\n      <td>...</td>\n      <td>...</td>\n      <td>...</td>\n      <td>...</td>\n      <td>...</td>\n      <td>...</td>\n    </tr>\n    <tr>\n      <th>826</th>\n      <td>Multifamily HR (10+)</td>\n      <td>High-Rise Multifamily</td>\n      <td>downtown</td>\n      <td>2.564949</td>\n      <td>11.169590</td>\n      <td>11.169590</td>\n      <td>8.244597</td>\n      <td>0.000000</td>\n    </tr>\n    <tr>\n      <th>2658</th>\n      <td>Multifamily HR (10+)</td>\n      <td>High-Rise Multifamily</td>\n      <td>magnolia / queen anne</td>\n      <td>2.484907</td>\n      <td>11.090401</td>\n      <td>11.090401</td>\n      <td>0.000000</td>\n      <td>0.000000</td>\n    </tr>\n    <tr>\n      <th>2942</th>\n      <td>Multifamily LR (1-4)</td>\n      <td>Low-Rise Multifamily</td>\n      <td>northeast</td>\n      <td>1.609438</td>\n      <td>10.455532</td>\n      <td>10.455532</td>\n      <td>0.000000</td>\n      <td>0.000000</td>\n    </tr>\n    <tr>\n      <th>2064</th>\n      <td>NonResidential</td>\n      <td>Large Office</td>\n      <td>downtown</td>\n      <td>2.890372</td>\n      <td>12.844040</td>\n      <td>12.591083</td>\n      <td>11.330348</td>\n      <td>9.594241</td>\n    </tr>\n    <tr>\n      <th>722</th>\n      <td>Multifamily MR (5-9)</td>\n      <td>Mid-Rise Multifamily</td>\n      <td>lake union</td>\n      <td>1.945910</td>\n      <td>11.438654</td>\n      <td>11.438654</td>\n      <td>6.981935</td>\n      <td>6.803505</td>\n    </tr>\n  </tbody>\n</table>\n<p>2209 rows × 8 columns</p>\n</div>"
     },
     "metadata": {},
     "output_type": "display_data"
    },
    {
     "name": "stdout",
     "output_type": "stream",
     "text": [
      "After\n"
     ]
    },
    {
     "data": {
      "text/plain": "              BuildingType    PrimaryPropertyType           Neighborhood  \\\n22          NonResidential       Worship Facility                ballard   \n1021  Multifamily MR (5-9)   Mid-Rise Multifamily                   east   \n2516  Multifamily LR (1-4)   Low-Rise Multifamily                   east   \n1543  Multifamily MR (5-9)   Mid-Rise Multifamily  magnolia / queen anne   \n137   Multifamily LR (1-4)   Low-Rise Multifamily                   east   \n...                    ...                    ...                    ...   \n826   Multifamily HR (10+)  High-Rise Multifamily               downtown   \n2658  Multifamily HR (10+)  High-Rise Multifamily  magnolia / queen anne   \n2942  Multifamily LR (1-4)   Low-Rise Multifamily              northeast   \n2064        NonResidential           Large Office               downtown   \n722   Multifamily MR (5-9)   Mid-Rise Multifamily             lake union   \n\n      Log-NumberofFloors  Log-PropertyGFATotal  Log-PropertyGFABuilding(s)  \\\n22             -0.788100             -0.941065                   -0.921859   \n1021            0.687155              0.483434                    0.569958   \n2516           -0.287209             -1.099999                   -1.088305   \n1543            0.919650             -0.758307                   -0.730465   \n137            -0.287209             -0.863675                   -0.840812   \n...                  ...                   ...                         ...   \n826             1.764982              0.298864                    0.376666   \n2658            1.625618              0.207843                    0.281344   \n2942            0.101313             -0.521882                   -0.482867   \n2064            2.331585              2.223495                    2.087759   \n722             0.687155              0.608130                    0.700547   \n\n      Log-SecondLargestPropertyUseTypeGFA  Log-ThirdLargestPropertyUseTypeGFA  \n22                              -0.959295                           -0.452684  \n1021                             1.004788                            1.590186  \n2516                            -0.959295                           -0.452684  \n1543                             0.661907                           -0.452684  \n137                             -0.959295                           -0.452684  \n...                                   ...                                 ...  \n826                              0.748961                           -0.452684  \n2658                            -0.959295                           -0.452684  \n2942                            -0.959295                           -0.452684  \n2064                             1.388320                            2.459176  \n722                              0.487342                            1.612186  \n\n[2209 rows x 8 columns]",
      "text/html": "<div>\n<style scoped>\n    .dataframe tbody tr th:only-of-type {\n        vertical-align: middle;\n    }\n\n    .dataframe tbody tr th {\n        vertical-align: top;\n    }\n\n    .dataframe thead th {\n        text-align: right;\n    }\n</style>\n<table border=\"1\" class=\"dataframe\">\n  <thead>\n    <tr style=\"text-align: right;\">\n      <th></th>\n      <th>BuildingType</th>\n      <th>PrimaryPropertyType</th>\n      <th>Neighborhood</th>\n      <th>Log-NumberofFloors</th>\n      <th>Log-PropertyGFATotal</th>\n      <th>Log-PropertyGFABuilding(s)</th>\n      <th>Log-SecondLargestPropertyUseTypeGFA</th>\n      <th>Log-ThirdLargestPropertyUseTypeGFA</th>\n    </tr>\n  </thead>\n  <tbody>\n    <tr>\n      <th>22</th>\n      <td>NonResidential</td>\n      <td>Worship Facility</td>\n      <td>ballard</td>\n      <td>-0.788100</td>\n      <td>-0.941065</td>\n      <td>-0.921859</td>\n      <td>-0.959295</td>\n      <td>-0.452684</td>\n    </tr>\n    <tr>\n      <th>1021</th>\n      <td>Multifamily MR (5-9)</td>\n      <td>Mid-Rise Multifamily</td>\n      <td>east</td>\n      <td>0.687155</td>\n      <td>0.483434</td>\n      <td>0.569958</td>\n      <td>1.004788</td>\n      <td>1.590186</td>\n    </tr>\n    <tr>\n      <th>2516</th>\n      <td>Multifamily LR (1-4)</td>\n      <td>Low-Rise Multifamily</td>\n      <td>east</td>\n      <td>-0.287209</td>\n      <td>-1.099999</td>\n      <td>-1.088305</td>\n      <td>-0.959295</td>\n      <td>-0.452684</td>\n    </tr>\n    <tr>\n      <th>1543</th>\n      <td>Multifamily MR (5-9)</td>\n      <td>Mid-Rise Multifamily</td>\n      <td>magnolia / queen anne</td>\n      <td>0.919650</td>\n      <td>-0.758307</td>\n      <td>-0.730465</td>\n      <td>0.661907</td>\n      <td>-0.452684</td>\n    </tr>\n    <tr>\n      <th>137</th>\n      <td>Multifamily LR (1-4)</td>\n      <td>Low-Rise Multifamily</td>\n      <td>east</td>\n      <td>-0.287209</td>\n      <td>-0.863675</td>\n      <td>-0.840812</td>\n      <td>-0.959295</td>\n      <td>-0.452684</td>\n    </tr>\n    <tr>\n      <th>...</th>\n      <td>...</td>\n      <td>...</td>\n      <td>...</td>\n      <td>...</td>\n      <td>...</td>\n      <td>...</td>\n      <td>...</td>\n      <td>...</td>\n    </tr>\n    <tr>\n      <th>826</th>\n      <td>Multifamily HR (10+)</td>\n      <td>High-Rise Multifamily</td>\n      <td>downtown</td>\n      <td>1.764982</td>\n      <td>0.298864</td>\n      <td>0.376666</td>\n      <td>0.748961</td>\n      <td>-0.452684</td>\n    </tr>\n    <tr>\n      <th>2658</th>\n      <td>Multifamily HR (10+)</td>\n      <td>High-Rise Multifamily</td>\n      <td>magnolia / queen anne</td>\n      <td>1.625618</td>\n      <td>0.207843</td>\n      <td>0.281344</td>\n      <td>-0.959295</td>\n      <td>-0.452684</td>\n    </tr>\n    <tr>\n      <th>2942</th>\n      <td>Multifamily LR (1-4)</td>\n      <td>Low-Rise Multifamily</td>\n      <td>northeast</td>\n      <td>0.101313</td>\n      <td>-0.521882</td>\n      <td>-0.482867</td>\n      <td>-0.959295</td>\n      <td>-0.452684</td>\n    </tr>\n    <tr>\n      <th>2064</th>\n      <td>NonResidential</td>\n      <td>Large Office</td>\n      <td>downtown</td>\n      <td>2.331585</td>\n      <td>2.223495</td>\n      <td>2.087759</td>\n      <td>1.388320</td>\n      <td>2.459176</td>\n    </tr>\n    <tr>\n      <th>722</th>\n      <td>Multifamily MR (5-9)</td>\n      <td>Mid-Rise Multifamily</td>\n      <td>lake union</td>\n      <td>0.687155</td>\n      <td>0.608130</td>\n      <td>0.700547</td>\n      <td>0.487342</td>\n      <td>1.612186</td>\n    </tr>\n  </tbody>\n</table>\n<p>2209 rows × 8 columns</p>\n</div>"
     },
     "metadata": {},
     "output_type": "display_data"
    }
   ],
   "source": [
    "# We train / fit the scaler on the training set / Computes the mean and std to be used for later scaling.\n",
    "std_scale = StandardScaler().fit(X_train[numerical_columns])\n",
    "# We transform the training set and the testing set / Performs standardization by centering and scaling.\n",
    "X_train_std = X_train.copy()\n",
    "X_test_std = X_test.copy()\n",
    "\n",
    "X_train_std[numerical_columns] = std_scale.transform(X_train[numerical_columns])\n",
    "X_test_std[numerical_columns] = std_scale.transform(X_test[numerical_columns])\n",
    "\n",
    "print(\"Before\")\n",
    "display(X_train)\n",
    "print(\"After\")\n",
    "display(X_train_std)"
   ],
   "metadata": {
    "collapsed": false,
    "pycharm": {
     "name": "#%%\n"
    }
   }
  },
  {
   "cell_type": "code",
   "execution_count": 25,
   "outputs": [
    {
     "name": "stdout",
     "output_type": "stream",
     "text": [
      "We can check that the numerical variables have a Standard Normal distribution.\n"
     ]
    },
    {
     "name": "stderr",
     "output_type": "stream",
     "text": [
      "C:\\Users\\athen\\Anaconda3\\envs\\P4_OC\\lib\\site-packages\\seaborn\\distributions.py:2619: FutureWarning: `distplot` is a deprecated function and will be removed in a future version. Please adapt your code to use either `displot` (a figure-level function with similar flexibility) or `kdeplot` (an axes-level function for kernel density plots).\n",
      "  warnings.warn(msg, FutureWarning)\n",
      "C:\\Users\\athen\\Anaconda3\\envs\\P4_OC\\lib\\site-packages\\seaborn\\distributions.py:2619: FutureWarning: `distplot` is a deprecated function and will be removed in a future version. Please adapt your code to use either `displot` (a figure-level function with similar flexibility) or `kdeplot` (an axes-level function for kernel density plots).\n",
      "  warnings.warn(msg, FutureWarning)\n",
      "C:\\Users\\athen\\Anaconda3\\envs\\P4_OC\\lib\\site-packages\\seaborn\\distributions.py:2619: FutureWarning: `distplot` is a deprecated function and will be removed in a future version. Please adapt your code to use either `displot` (a figure-level function with similar flexibility) or `kdeplot` (an axes-level function for kernel density plots).\n",
      "  warnings.warn(msg, FutureWarning)\n",
      "C:\\Users\\athen\\Anaconda3\\envs\\P4_OC\\lib\\site-packages\\seaborn\\distributions.py:2619: FutureWarning: `distplot` is a deprecated function and will be removed in a future version. Please adapt your code to use either `displot` (a figure-level function with similar flexibility) or `kdeplot` (an axes-level function for kernel density plots).\n",
      "  warnings.warn(msg, FutureWarning)\n",
      "C:\\Users\\athen\\Anaconda3\\envs\\P4_OC\\lib\\site-packages\\seaborn\\distributions.py:2619: FutureWarning: `distplot` is a deprecated function and will be removed in a future version. Please adapt your code to use either `displot` (a figure-level function with similar flexibility) or `kdeplot` (an axes-level function for kernel density plots).\n",
      "  warnings.warn(msg, FutureWarning)\n"
     ]
    },
    {
     "data": {
      "text/plain": "<Figure size 864x1008 with 28 Axes>",
      "image/png": "[encoded data removed]"
     },
     "metadata": {
      "needs_background": "light"
     },
     "output_type": "display_data"
    }
   ],
   "source": [
    "print(\"We can check that the numerical variables have a Standard Normal distribution.\")\n",
    "densite(X_train[numerical_columns])"
   ],
   "metadata": {
    "collapsed": false,
    "pycharm": {
     "name": "#%%\n"
    }
   }
  },
  {
   "cell_type": "markdown",
   "source": [
    "##### 2) Feature Encoding : One Hot Encoder"
   ],
   "metadata": {
    "collapsed": false,
    "pycharm": {
     "name": "#%% md\n"
    }
   }
  },
  {
   "cell_type": "code",
   "execution_count": 26,
   "outputs": [
    {
     "name": "stdout",
     "output_type": "stream",
     "text": [
      "Categorical variables featuring\n",
      "We have : 3 categorical features to encode.\n",
      "\n",
      "Index(['BuildingType', 'PrimaryPropertyType', 'Neighborhood'], dtype='object')\n"
     ]
    }
   ],
   "source": [
    "print(\"Categorical variables featuring\")\n",
    "\n",
    "print(\"We have :\", categorical_columns.shape[0], \"categorical features to encode.\", end=\"\\n\\n\")\n",
    "print(categorical_columns)"
   ],
   "metadata": {
    "collapsed": false,
    "pycharm": {
     "name": "#%%\n"
    }
   }
  },
  {
   "cell_type": "code",
   "execution_count": 27,
   "outputs": [
    {
     "data": {
      "text/plain": "BuildingType                           category\nPrimaryPropertyType                    category\nNeighborhood                           category\nLog-NumberofFloors                      float64\nLog-PropertyGFATotal                    float64\nLog-PropertyGFABuilding(s)              float64\nLog-SecondLargestPropertyUseTypeGFA     float64\nLog-ThirdLargestPropertyUseTypeGFA      float64\ndtype: object"
     },
     "execution_count": 27,
     "metadata": {},
     "output_type": "execute_result"
    }
   ],
   "source": [
    "X.dtypes # we check that we have categories"
   ],
   "metadata": {
    "collapsed": false,
    "pycharm": {
     "name": "#%%\n"
    }
   }
  },
  {
   "cell_type": "code",
   "execution_count": 28,
   "outputs": [
    {
     "data": {
      "text/plain": "BuildingType            8\nPrimaryPropertyType    23\nNeighborhood           13\ndtype: int64"
     },
     "execution_count": 28,
     "metadata": {},
     "output_type": "execute_result"
    }
   ],
   "source": [
    "X[categorical_columns].nunique()"
   ],
   "metadata": {
    "collapsed": false,
    "pycharm": {
     "name": "#%%\n"
    }
   }
  },
  {
   "cell_type": "code",
   "execution_count": 29,
   "outputs": [
    {
     "data": {
      "text/plain": "              BuildingType    PrimaryPropertyType           Neighborhood\n22          NonResidential       Worship Facility                ballard\n1021  Multifamily MR (5-9)   Mid-Rise Multifamily                   east\n2516  Multifamily LR (1-4)   Low-Rise Multifamily                   east\n1543  Multifamily MR (5-9)   Mid-Rise Multifamily  magnolia / queen anne\n137   Multifamily LR (1-4)   Low-Rise Multifamily                   east\n...                    ...                    ...                    ...\n826   Multifamily HR (10+)  High-Rise Multifamily               downtown\n2658  Multifamily HR (10+)  High-Rise Multifamily  magnolia / queen anne\n2942  Multifamily LR (1-4)   Low-Rise Multifamily              northeast\n2064        NonResidential           Large Office               downtown\n722   Multifamily MR (5-9)   Mid-Rise Multifamily             lake union\n\n[2209 rows x 3 columns]",
      "text/html": "<div>\n<style scoped>\n    .dataframe tbody tr th:only-of-type {\n        vertical-align: middle;\n    }\n\n    .dataframe tbody tr th {\n        vertical-align: top;\n    }\n\n    .dataframe thead th {\n        text-align: right;\n    }\n</style>\n<table border=\"1\" class=\"dataframe\">\n  <thead>\n    <tr style=\"text-align: right;\">\n      <th></th>\n      <th>BuildingType</th>\n      <th>PrimaryPropertyType</th>\n      <th>Neighborhood</th>\n    </tr>\n  </thead>\n  <tbody>\n    <tr>\n      <th>22</th>\n      <td>NonResidential</td>\n      <td>Worship Facility</td>\n      <td>ballard</td>\n    </tr>\n    <tr>\n      <th>1021</th>\n      <td>Multifamily MR (5-9)</td>\n      <td>Mid-Rise Multifamily</td>\n      <td>east</td>\n    </tr>\n    <tr>\n      <th>2516</th>\n      <td>Multifamily LR (1-4)</td>\n      <td>Low-Rise Multifamily</td>\n      <td>east</td>\n    </tr>\n    <tr>\n      <th>1543</th>\n      <td>Multifamily MR (5-9)</td>\n      <td>Mid-Rise Multifamily</td>\n      <td>magnolia / queen anne</td>\n    </tr>\n    <tr>\n      <th>137</th>\n      <td>Multifamily LR (1-4)</td>\n      <td>Low-Rise Multifamily</td>\n      <td>east</td>\n    </tr>\n    <tr>\n      <th>...</th>\n      <td>...</td>\n      <td>...</td>\n      <td>...</td>\n    </tr>\n    <tr>\n      <th>826</th>\n      <td>Multifamily HR (10+)</td>\n      <td>High-Rise Multifamily</td>\n      <td>downtown</td>\n    </tr>\n    <tr>\n      <th>2658</th>\n      <td>Multifamily HR (10+)</td>\n      <td>High-Rise Multifamily</td>\n      <td>magnolia / queen anne</td>\n    </tr>\n    <tr>\n      <th>2942</th>\n      <td>Multifamily LR (1-4)</td>\n      <td>Low-Rise Multifamily</td>\n      <td>northeast</td>\n    </tr>\n    <tr>\n      <th>2064</th>\n      <td>NonResidential</td>\n      <td>Large Office</td>\n      <td>downtown</td>\n    </tr>\n    <tr>\n      <th>722</th>\n      <td>Multifamily MR (5-9)</td>\n      <td>Mid-Rise Multifamily</td>\n      <td>lake union</td>\n    </tr>\n  </tbody>\n</table>\n<p>2209 rows × 3 columns</p>\n</div>"
     },
     "execution_count": 29,
     "metadata": {},
     "output_type": "execute_result"
    }
   ],
   "source": [
    "X_train_std[categorical_columns]"
   ],
   "metadata": {
    "collapsed": false,
    "pycharm": {
     "name": "#%%\n"
    }
   }
  },
  {
   "cell_type": "markdown",
   "source": [
    "##### Encoding the categorical features of the train set\n"
   ],
   "metadata": {
    "collapsed": false,
    "pycharm": {
     "name": "#%% md\n"
    }
   }
  },
  {
   "cell_type": "code",
   "execution_count": 30,
   "outputs": [
    {
     "name": "stdout",
     "output_type": "stream",
     "text": [
      "Now, we can use the One Hot Encoder.\n",
      "With the one hot encoder, we will get : 44 columns to encodes the categorical features.\n"
     ]
    }
   ],
   "source": [
    "print(\"Now, we can use the One Hot Encoder.\")\n",
    "print(\"With the one hot encoder, we will get :\", sum([X[categorical_columns].nunique()[i] for i in range(len(categorical_columns))]), \"columns to encodes the categorical features.\")"
   ],
   "metadata": {
    "collapsed": false,
    "pycharm": {
     "name": "#%%\n"
    }
   }
  },
  {
   "cell_type": "code",
   "execution_count": 31,
   "outputs": [
    {
     "name": "stdout",
     "output_type": "stream",
     "text": [
      "We have indeed : 43 labels after encoding the categorical variables.\n"
     ]
    },
    {
     "data": {
      "text/plain": "      BuildingType_Campus  BuildingType_Multifamily HR (10+)  \\\n0                     0.0                                0.0   \n1                     0.0                                0.0   \n2                     0.0                                0.0   \n5                     0.0                                0.0   \n6                     0.0                                0.0   \n...                   ...                                ...   \n3151                  0.0                                0.0   \n3152                  0.0                                0.0   \n3153                  0.0                                0.0   \n3154                  0.0                                0.0   \n3155                  0.0                                0.0   \n\n      BuildingType_Multifamily LR (1-4)  BuildingType_Multifamily MR (5-9)  \\\n0                                   1.0                                0.0   \n1                                   0.0                                0.0   \n2                                   1.0                                0.0   \n5                                   0.0                                0.0   \n6                                   1.0                                0.0   \n...                                 ...                                ...   \n3151                                0.0                                0.0   \n3152                                0.0                                0.0   \n3153                                1.0                                0.0   \n3154                                0.0                                0.0   \n3155                                0.0                                0.0   \n\n      BuildingType_NonResidential  BuildingType_Nonresidential COS  \\\n0                             0.0                              0.0   \n1                             1.0                              0.0   \n2                             0.0                              0.0   \n5                             1.0                              0.0   \n6                             0.0                              0.0   \n...                           ...                              ...   \n3151                          1.0                              0.0   \n3152                          1.0                              0.0   \n3153                          0.0                              0.0   \n3154                          1.0                              0.0   \n3155                          1.0                              0.0   \n\n      BuildingType_SPS-District K-12  PrimaryPropertyType_Distribution Center  \\\n0                                0.0                                      0.0   \n1                                0.0                                      0.0   \n2                                0.0                                      0.0   \n5                                0.0                                      0.0   \n6                                0.0                                      0.0   \n...                              ...                                      ...   \n3151                             0.0                                      0.0   \n3152                             0.0                                      0.0   \n3153                             0.0                                      0.0   \n3154                             0.0                                      0.0   \n3155                             0.0                                      0.0   \n\n      PrimaryPropertyType_High-Rise Multifamily  PrimaryPropertyType_Hospital  \\\n0                                           0.0                           0.0   \n1                                           0.0                           0.0   \n2                                           0.0                           0.0   \n5                                           0.0                           0.0   \n6                                           0.0                           0.0   \n...                                         ...                           ...   \n3151                                        0.0                           0.0   \n3152                                        0.0                           0.0   \n3153                                        0.0                           0.0   \n3154                                        0.0                           0.0   \n3155                                        0.0                           0.0   \n\n      ...  Neighborhood_downtown  Neighborhood_east  \\\n0     ...                    0.0                0.0   \n1     ...                    0.0                0.0   \n2     ...                    0.0                0.0   \n5     ...                    0.0                0.0   \n6     ...                    0.0                0.0   \n...   ...                    ...                ...   \n3151  ...                    0.0                0.0   \n3152  ...                    0.0                0.0   \n3153  ...                    0.0                0.0   \n3154  ...                    0.0                0.0   \n3155  ...                    0.0                0.0   \n\n      Neighborhood_greater duwamish  Neighborhood_lake union  \\\n0                               0.0                      0.0   \n1                               1.0                      0.0   \n2                               1.0                      0.0   \n5                               0.0                      0.0   \n6                               0.0                      0.0   \n...                             ...                      ...   \n3151                            0.0                      1.0   \n3152                            0.0                      1.0   \n3153                            0.0                      1.0   \n3154                            0.0                      1.0   \n3155                            0.0                      1.0   \n\n      Neighborhood_magnolia / queen anne  Neighborhood_north  \\\n0                                    0.0                 0.0   \n1                                    0.0                 0.0   \n2                                    0.0                 0.0   \n5                                    0.0                 0.0   \n6                                    0.0                 0.0   \n...                                  ...                 ...   \n3151                                 0.0                 0.0   \n3152                                 0.0                 0.0   \n3153                                 0.0                 0.0   \n3154                                 0.0                 0.0   \n3155                                 0.0                 0.0   \n\n      Neighborhood_northeast  Neighborhood_northwest  Neighborhood_southeast  \\\n0                        0.0                     0.0                     0.0   \n1                        0.0                     0.0                     0.0   \n2                        0.0                     0.0                     0.0   \n5                        1.0                     0.0                     0.0   \n6                        1.0                     0.0                     0.0   \n...                      ...                     ...                     ...   \n3151                     0.0                     0.0                     0.0   \n3152                     0.0                     0.0                     0.0   \n3153                     0.0                     0.0                     0.0   \n3154                     0.0                     0.0                     0.0   \n3155                     0.0                     0.0                     0.0   \n\n      Neighborhood_southwest  \n0                        0.0  \n1                        0.0  \n2                        0.0  \n5                        0.0  \n6                        0.0  \n...                      ...  \n3151                     0.0  \n3152                     0.0  \n3153                     0.0  \n3154                     0.0  \n3155                     0.0  \n\n[2209 rows x 43 columns]",
      "text/html": "<div>\n<style scoped>\n    .dataframe tbody tr th:only-of-type {\n        vertical-align: middle;\n    }\n\n    .dataframe tbody tr th {\n        vertical-align: top;\n    }\n\n    .dataframe thead th {\n        text-align: right;\n    }\n</style>\n<table border=\"1\" class=\"dataframe\">\n  <thead>\n    <tr style=\"text-align: right;\">\n      <th></th>\n      <th>BuildingType_Campus</th>\n      <th>BuildingType_Multifamily HR (10+)</th>\n      <th>BuildingType_Multifamily LR (1-4)</th>\n      <th>BuildingType_Multifamily MR (5-9)</th>\n      <th>BuildingType_NonResidential</th>\n      <th>BuildingType_Nonresidential COS</th>\n      <th>BuildingType_SPS-District K-12</th>\n      <th>PrimaryPropertyType_Distribution Center</th>\n      <th>PrimaryPropertyType_High-Rise Multifamily</th>\n      <th>PrimaryPropertyType_Hospital</th>\n      <th>...</th>\n      <th>Neighborhood_downtown</th>\n      <th>Neighborhood_east</th>\n      <th>Neighborhood_greater duwamish</th>\n      <th>Neighborhood_lake union</th>\n      <th>Neighborhood_magnolia / queen anne</th>\n      <th>Neighborhood_north</th>\n      <th>Neighborhood_northeast</th>\n      <th>Neighborhood_northwest</th>\n      <th>Neighborhood_southeast</th>\n      <th>Neighborhood_southwest</th>\n    </tr>\n  </thead>\n  <tbody>\n    <tr>\n      <th>0</th>\n      <td>0.0</td>\n      <td>0.0</td>\n      <td>1.0</td>\n      <td>0.0</td>\n      <td>0.0</td>\n      <td>0.0</td>\n      <td>0.0</td>\n      <td>0.0</td>\n      <td>0.0</td>\n      <td>0.0</td>\n      <td>...</td>\n      <td>0.0</td>\n      <td>0.0</td>\n      <td>0.0</td>\n      <td>0.0</td>\n      <td>0.0</td>\n      <td>0.0</td>\n      <td>0.0</td>\n      <td>0.0</td>\n      <td>0.0</td>\n      <td>0.0</td>\n    </tr>\n    <tr>\n      <th>1</th>\n      <td>0.0</td>\n      <td>0.0</td>\n      <td>0.0</td>\n      <td>0.0</td>\n      <td>1.0</td>\n      <td>0.0</td>\n      <td>0.0</td>\n      <td>0.0</td>\n      <td>0.0</td>\n      <td>0.0</td>\n      <td>...</td>\n      <td>0.0</td>\n      <td>0.0</td>\n      <td>1.0</td>\n      <td>0.0</td>\n      <td>0.0</td>\n      <td>0.0</td>\n      <td>0.0</td>\n      <td>0.0</td>\n      <td>0.0</td>\n      <td>0.0</td>\n    </tr>\n    <tr>\n      <th>2</th>\n      <td>0.0</td>\n      <td>0.0</td>\n      <td>1.0</td>\n      <td>0.0</td>\n      <td>0.0</td>\n      <td>0.0</td>\n      <td>0.0</td>\n      <td>0.0</td>\n      <td>0.0</td>\n      <td>0.0</td>\n      <td>...</td>\n      <td>0.0</td>\n      <td>0.0</td>\n      <td>1.0</td>\n      <td>0.0</td>\n      <td>0.0</td>\n      <td>0.0</td>\n      <td>0.0</td>\n      <td>0.0</td>\n      <td>0.0</td>\n      <td>0.0</td>\n    </tr>\n    <tr>\n      <th>5</th>\n      <td>0.0</td>\n      <td>0.0</td>\n      <td>0.0</td>\n      <td>0.0</td>\n      <td>1.0</td>\n      <td>0.0</td>\n      <td>0.0</td>\n      <td>0.0</td>\n      <td>0.0</td>\n      <td>0.0</td>\n      <td>...</td>\n      <td>0.0</td>\n      <td>0.0</td>\n      <td>0.0</td>\n      <td>0.0</td>\n      <td>0.0</td>\n      <td>0.0</td>\n      <td>1.0</td>\n      <td>0.0</td>\n      <td>0.0</td>\n      <td>0.0</td>\n    </tr>\n    <tr>\n      <th>6</th>\n      <td>0.0</td>\n      <td>0.0</td>\n      <td>1.0</td>\n      <td>0.0</td>\n      <td>0.0</td>\n      <td>0.0</td>\n      <td>0.0</td>\n      <td>0.0</td>\n      <td>0.0</td>\n      <td>0.0</td>\n      <td>...</td>\n      <td>0.0</td>\n      <td>0.0</td>\n      <td>0.0</td>\n      <td>0.0</td>\n      <td>0.0</td>\n      <td>0.0</td>\n      <td>1.0</td>\n      <td>0.0</td>\n      <td>0.0</td>\n      <td>0.0</td>\n    </tr>\n    <tr>\n      <th>...</th>\n      <td>...</td>\n      <td>...</td>\n      <td>...</td>\n      <td>...</td>\n      <td>...</td>\n      <td>...</td>\n      <td>...</td>\n      <td>...</td>\n      <td>...</td>\n      <td>...</td>\n      <td>...</td>\n      <td>...</td>\n      <td>...</td>\n      <td>...</td>\n      <td>...</td>\n      <td>...</td>\n      <td>...</td>\n      <td>...</td>\n      <td>...</td>\n      <td>...</td>\n      <td>...</td>\n    </tr>\n    <tr>\n      <th>3151</th>\n      <td>0.0</td>\n      <td>0.0</td>\n      <td>0.0</td>\n      <td>0.0</td>\n      <td>1.0</td>\n      <td>0.0</td>\n      <td>0.0</td>\n      <td>0.0</td>\n      <td>0.0</td>\n      <td>0.0</td>\n      <td>...</td>\n      <td>0.0</td>\n      <td>0.0</td>\n      <td>0.0</td>\n      <td>1.0</td>\n      <td>0.0</td>\n      <td>0.0</td>\n      <td>0.0</td>\n      <td>0.0</td>\n      <td>0.0</td>\n      <td>0.0</td>\n    </tr>\n    <tr>\n      <th>3152</th>\n      <td>0.0</td>\n      <td>0.0</td>\n      <td>0.0</td>\n      <td>0.0</td>\n      <td>1.0</td>\n      <td>0.0</td>\n      <td>0.0</td>\n      <td>0.0</td>\n      <td>0.0</td>\n      <td>0.0</td>\n      <td>...</td>\n      <td>0.0</td>\n      <td>0.0</td>\n      <td>0.0</td>\n      <td>1.0</td>\n      <td>0.0</td>\n      <td>0.0</td>\n      <td>0.0</td>\n      <td>0.0</td>\n      <td>0.0</td>\n      <td>0.0</td>\n    </tr>\n    <tr>\n      <th>3153</th>\n      <td>0.0</td>\n      <td>0.0</td>\n      <td>1.0</td>\n      <td>0.0</td>\n      <td>0.0</td>\n      <td>0.0</td>\n      <td>0.0</td>\n      <td>0.0</td>\n      <td>0.0</td>\n      <td>0.0</td>\n      <td>...</td>\n      <td>0.0</td>\n      <td>0.0</td>\n      <td>0.0</td>\n      <td>1.0</td>\n      <td>0.0</td>\n      <td>0.0</td>\n      <td>0.0</td>\n      <td>0.0</td>\n      <td>0.0</td>\n      <td>0.0</td>\n    </tr>\n    <tr>\n      <th>3154</th>\n      <td>0.0</td>\n      <td>0.0</td>\n      <td>0.0</td>\n      <td>0.0</td>\n      <td>1.0</td>\n      <td>0.0</td>\n      <td>0.0</td>\n      <td>0.0</td>\n      <td>0.0</td>\n      <td>0.0</td>\n      <td>...</td>\n      <td>0.0</td>\n      <td>0.0</td>\n      <td>0.0</td>\n      <td>1.0</td>\n      <td>0.0</td>\n      <td>0.0</td>\n      <td>0.0</td>\n      <td>0.0</td>\n      <td>0.0</td>\n      <td>0.0</td>\n    </tr>\n    <tr>\n      <th>3155</th>\n      <td>0.0</td>\n      <td>0.0</td>\n      <td>0.0</td>\n      <td>0.0</td>\n      <td>1.0</td>\n      <td>0.0</td>\n      <td>0.0</td>\n      <td>0.0</td>\n      <td>0.0</td>\n      <td>0.0</td>\n      <td>...</td>\n      <td>0.0</td>\n      <td>0.0</td>\n      <td>0.0</td>\n      <td>1.0</td>\n      <td>0.0</td>\n      <td>0.0</td>\n      <td>0.0</td>\n      <td>0.0</td>\n      <td>0.0</td>\n      <td>0.0</td>\n    </tr>\n  </tbody>\n</table>\n<p>2209 rows × 43 columns</p>\n</div>"
     },
     "metadata": {},
     "output_type": "display_data"
    }
   ],
   "source": [
    "# 0) creating instance of one-hot-encoder\n",
    "one_hot_encoder = OneHotEncoder(handle_unknown='ignore', sparse=False) # if sparse=True (by default), we need to add .toarray() to encoded_categorical_data\n",
    "\n",
    "# 1) Fit the encoder on the training set\n",
    "one_hot_encoder.fit(X_train_std[categorical_columns])\n",
    "\n",
    "# 2) we get the encoded numpy array\n",
    "encoded_categorical_data = one_hot_encoder.transform(X_train_std[categorical_columns])\n",
    "\n",
    "# 3) we make a list of the columns names\n",
    "encoded_categorical_data_names = one_hot_encoder.get_feature_names_out().tolist()\n",
    "print(\"We have indeed :\", len(encoded_categorical_data_names), \"labels after encoding the categorical variables.\")\n",
    "\n",
    "# 4) we recreate a dataframe with the column names and the numpy array\n",
    "X_train_encoded = pd.DataFrame(columns=encoded_categorical_data_names,\n",
    "                               data=encoded_categorical_data,\n",
    "                               index=X_train_std.index)\n",
    "display(X_train_encoded.sort_index())"
   ],
   "metadata": {
    "collapsed": false,
    "pycharm": {
     "name": "#%%\n"
    }
   }
  },
  {
   "cell_type": "code",
   "execution_count": 32,
   "outputs": [
    {
     "name": "stdout",
     "output_type": "stream",
     "text": [
      "We need to add YearBuilt to the list of features.\n",
      "['Log-NumberofFloors', 'Log-PropertyGFATotal', 'Log-PropertyGFABuilding(s)', 'Log-SecondLargestPropertyUseTypeGFA', 'Log-ThirdLargestPropertyUseTypeGFA']\n",
      "\n",
      "ASK JEREMY : merge based on index ok ? or should I put back OSEBuildingID ??\n"
     ]
    },
    {
     "data": {
      "text/plain": "      Log-NumberofFloors  Log-PropertyGFATotal  Log-PropertyGFABuilding(s)  \\\n0              -0.287209             -1.114647                   -1.103645   \n1              -0.788100             -0.856790                   -0.833602   \n2              -0.287209             -0.894374                   -0.872962   \n5               0.101313             -0.389977                   -0.344728   \n6              -0.788100              1.053271                    1.166724   \n...                  ...                   ...                         ...   \n3151           -0.788100             -0.551886                   -0.514288   \n3152           -0.287209             -0.308334                   -0.559187   \n3153            0.101313             -0.459886                   -0.417941   \n3154            0.418759             -0.555287                   -0.753977   \n3155           -0.788100             -1.127073                   -1.116658   \n\n      Log-SecondLargestPropertyUseTypeGFA  Log-ThirdLargestPropertyUseTypeGFA  \\\n0                               -0.959295                           -0.452684   \n1                                0.921299                            1.983365   \n2                               -0.959295                           -0.452684   \n5                               -0.959295                           -0.452684   \n6                               -0.959295                           -0.452684   \n...                                   ...                                 ...   \n3151                             1.013698                            1.754706   \n3152                             1.020677                            2.332823   \n3153                            -0.959295                           -0.452684   \n3154                             0.921701                            1.767087   \n3155                             0.902852                           -0.452684   \n\n      BuildingType_Campus  BuildingType_Multifamily HR (10+)  \\\n0                     0.0                                0.0   \n1                     0.0                                0.0   \n2                     0.0                                0.0   \n5                     0.0                                0.0   \n6                     0.0                                0.0   \n...                   ...                                ...   \n3151                  0.0                                0.0   \n3152                  0.0                                0.0   \n3153                  0.0                                0.0   \n3154                  0.0                                0.0   \n3155                  0.0                                0.0   \n\n      BuildingType_Multifamily LR (1-4)  BuildingType_Multifamily MR (5-9)  \\\n0                                   1.0                                0.0   \n1                                   0.0                                0.0   \n2                                   1.0                                0.0   \n5                                   0.0                                0.0   \n6                                   1.0                                0.0   \n...                                 ...                                ...   \n3151                                0.0                                0.0   \n3152                                0.0                                0.0   \n3153                                1.0                                0.0   \n3154                                0.0                                0.0   \n3155                                0.0                                0.0   \n\n      BuildingType_NonResidential  ...  Neighborhood_downtown  \\\n0                             0.0  ...                    0.0   \n1                             1.0  ...                    0.0   \n2                             0.0  ...                    0.0   \n5                             1.0  ...                    0.0   \n6                             0.0  ...                    0.0   \n...                           ...  ...                    ...   \n3151                          1.0  ...                    0.0   \n3152                          1.0  ...                    0.0   \n3153                          0.0  ...                    0.0   \n3154                          1.0  ...                    0.0   \n3155                          1.0  ...                    0.0   \n\n      Neighborhood_east  Neighborhood_greater duwamish  \\\n0                   0.0                            0.0   \n1                   0.0                            1.0   \n2                   0.0                            1.0   \n5                   0.0                            0.0   \n6                   0.0                            0.0   \n...                 ...                            ...   \n3151                0.0                            0.0   \n3152                0.0                            0.0   \n3153                0.0                            0.0   \n3154                0.0                            0.0   \n3155                0.0                            0.0   \n\n      Neighborhood_lake union  Neighborhood_magnolia / queen anne  \\\n0                         0.0                                 0.0   \n1                         0.0                                 0.0   \n2                         0.0                                 0.0   \n5                         0.0                                 0.0   \n6                         0.0                                 0.0   \n...                       ...                                 ...   \n3151                      1.0                                 0.0   \n3152                      1.0                                 0.0   \n3153                      1.0                                 0.0   \n3154                      1.0                                 0.0   \n3155                      1.0                                 0.0   \n\n      Neighborhood_north  Neighborhood_northeast  Neighborhood_northwest  \\\n0                    0.0                     0.0                     0.0   \n1                    0.0                     0.0                     0.0   \n2                    0.0                     0.0                     0.0   \n5                    0.0                     1.0                     0.0   \n6                    0.0                     1.0                     0.0   \n...                  ...                     ...                     ...   \n3151                 0.0                     0.0                     0.0   \n3152                 0.0                     0.0                     0.0   \n3153                 0.0                     0.0                     0.0   \n3154                 0.0                     0.0                     0.0   \n3155                 0.0                     0.0                     0.0   \n\n      Neighborhood_southeast  Neighborhood_southwest  \n0                        0.0                     0.0  \n1                        0.0                     0.0  \n2                        0.0                     0.0  \n5                        0.0                     0.0  \n6                        0.0                     0.0  \n...                      ...                     ...  \n3151                     0.0                     0.0  \n3152                     0.0                     0.0  \n3153                     0.0                     0.0  \n3154                     0.0                     0.0  \n3155                     0.0                     0.0  \n\n[2209 rows x 48 columns]",
      "text/html": "<div>\n<style scoped>\n    .dataframe tbody tr th:only-of-type {\n        vertical-align: middle;\n    }\n\n    .dataframe tbody tr th {\n        vertical-align: top;\n    }\n\n    .dataframe thead th {\n        text-align: right;\n    }\n</style>\n<table border=\"1\" class=\"dataframe\">\n  <thead>\n    <tr style=\"text-align: right;\">\n      <th></th>\n      <th>Log-NumberofFloors</th>\n      <th>Log-PropertyGFATotal</th>\n      <th>Log-PropertyGFABuilding(s)</th>\n      <th>Log-SecondLargestPropertyUseTypeGFA</th>\n      <th>Log-ThirdLargestPropertyUseTypeGFA</th>\n      <th>BuildingType_Campus</th>\n      <th>BuildingType_Multifamily HR (10+)</th>\n      <th>BuildingType_Multifamily LR (1-4)</th>\n      <th>BuildingType_Multifamily MR (5-9)</th>\n      <th>BuildingType_NonResidential</th>\n      <th>...</th>\n      <th>Neighborhood_downtown</th>\n      <th>Neighborhood_east</th>\n      <th>Neighborhood_greater duwamish</th>\n      <th>Neighborhood_lake union</th>\n      <th>Neighborhood_magnolia / queen anne</th>\n      <th>Neighborhood_north</th>\n      <th>Neighborhood_northeast</th>\n      <th>Neighborhood_northwest</th>\n      <th>Neighborhood_southeast</th>\n      <th>Neighborhood_southwest</th>\n    </tr>\n  </thead>\n  <tbody>\n    <tr>\n      <th>0</th>\n      <td>-0.287209</td>\n      <td>-1.114647</td>\n      <td>-1.103645</td>\n      <td>-0.959295</td>\n      <td>-0.452684</td>\n      <td>0.0</td>\n      <td>0.0</td>\n      <td>1.0</td>\n      <td>0.0</td>\n      <td>0.0</td>\n      <td>...</td>\n      <td>0.0</td>\n      <td>0.0</td>\n      <td>0.0</td>\n      <td>0.0</td>\n      <td>0.0</td>\n      <td>0.0</td>\n      <td>0.0</td>\n      <td>0.0</td>\n      <td>0.0</td>\n      <td>0.0</td>\n    </tr>\n    <tr>\n      <th>1</th>\n      <td>-0.788100</td>\n      <td>-0.856790</td>\n      <td>-0.833602</td>\n      <td>0.921299</td>\n      <td>1.983365</td>\n      <td>0.0</td>\n      <td>0.0</td>\n      <td>0.0</td>\n      <td>0.0</td>\n      <td>1.0</td>\n      <td>...</td>\n      <td>0.0</td>\n      <td>0.0</td>\n      <td>1.0</td>\n      <td>0.0</td>\n      <td>0.0</td>\n      <td>0.0</td>\n      <td>0.0</td>\n      <td>0.0</td>\n      <td>0.0</td>\n      <td>0.0</td>\n    </tr>\n    <tr>\n      <th>2</th>\n      <td>-0.287209</td>\n      <td>-0.894374</td>\n      <td>-0.872962</td>\n      <td>-0.959295</td>\n      <td>-0.452684</td>\n      <td>0.0</td>\n      <td>0.0</td>\n      <td>1.0</td>\n      <td>0.0</td>\n      <td>0.0</td>\n      <td>...</td>\n      <td>0.0</td>\n      <td>0.0</td>\n      <td>1.0</td>\n      <td>0.0</td>\n      <td>0.0</td>\n      <td>0.0</td>\n      <td>0.0</td>\n      <td>0.0</td>\n      <td>0.0</td>\n      <td>0.0</td>\n    </tr>\n    <tr>\n      <th>5</th>\n      <td>0.101313</td>\n      <td>-0.389977</td>\n      <td>-0.344728</td>\n      <td>-0.959295</td>\n      <td>-0.452684</td>\n      <td>0.0</td>\n      <td>0.0</td>\n      <td>0.0</td>\n      <td>0.0</td>\n      <td>1.0</td>\n      <td>...</td>\n      <td>0.0</td>\n      <td>0.0</td>\n      <td>0.0</td>\n      <td>0.0</td>\n      <td>0.0</td>\n      <td>0.0</td>\n      <td>1.0</td>\n      <td>0.0</td>\n      <td>0.0</td>\n      <td>0.0</td>\n    </tr>\n    <tr>\n      <th>6</th>\n      <td>-0.788100</td>\n      <td>1.053271</td>\n      <td>1.166724</td>\n      <td>-0.959295</td>\n      <td>-0.452684</td>\n      <td>0.0</td>\n      <td>0.0</td>\n      <td>1.0</td>\n      <td>0.0</td>\n      <td>0.0</td>\n      <td>...</td>\n      <td>0.0</td>\n      <td>0.0</td>\n      <td>0.0</td>\n      <td>0.0</td>\n      <td>0.0</td>\n      <td>0.0</td>\n      <td>1.0</td>\n      <td>0.0</td>\n      <td>0.0</td>\n      <td>0.0</td>\n    </tr>\n    <tr>\n      <th>...</th>\n      <td>...</td>\n      <td>...</td>\n      <td>...</td>\n      <td>...</td>\n      <td>...</td>\n      <td>...</td>\n      <td>...</td>\n      <td>...</td>\n      <td>...</td>\n      <td>...</td>\n      <td>...</td>\n      <td>...</td>\n      <td>...</td>\n      <td>...</td>\n      <td>...</td>\n      <td>...</td>\n      <td>...</td>\n      <td>...</td>\n      <td>...</td>\n      <td>...</td>\n      <td>...</td>\n    </tr>\n    <tr>\n      <th>3151</th>\n      <td>-0.788100</td>\n      <td>-0.551886</td>\n      <td>-0.514288</td>\n      <td>1.013698</td>\n      <td>1.754706</td>\n      <td>0.0</td>\n      <td>0.0</td>\n      <td>0.0</td>\n      <td>0.0</td>\n      <td>1.0</td>\n      <td>...</td>\n      <td>0.0</td>\n      <td>0.0</td>\n      <td>0.0</td>\n      <td>1.0</td>\n      <td>0.0</td>\n      <td>0.0</td>\n      <td>0.0</td>\n      <td>0.0</td>\n      <td>0.0</td>\n      <td>0.0</td>\n    </tr>\n    <tr>\n      <th>3152</th>\n      <td>-0.287209</td>\n      <td>-0.308334</td>\n      <td>-0.559187</td>\n      <td>1.020677</td>\n      <td>2.332823</td>\n      <td>0.0</td>\n      <td>0.0</td>\n      <td>0.0</td>\n      <td>0.0</td>\n      <td>1.0</td>\n      <td>...</td>\n      <td>0.0</td>\n      <td>0.0</td>\n      <td>0.0</td>\n      <td>1.0</td>\n      <td>0.0</td>\n      <td>0.0</td>\n      <td>0.0</td>\n      <td>0.0</td>\n      <td>0.0</td>\n      <td>0.0</td>\n    </tr>\n    <tr>\n      <th>3153</th>\n      <td>0.101313</td>\n      <td>-0.459886</td>\n      <td>-0.417941</td>\n      <td>-0.959295</td>\n      <td>-0.452684</td>\n      <td>0.0</td>\n      <td>0.0</td>\n      <td>1.0</td>\n      <td>0.0</td>\n      <td>0.0</td>\n      <td>...</td>\n      <td>0.0</td>\n      <td>0.0</td>\n      <td>0.0</td>\n      <td>1.0</td>\n      <td>0.0</td>\n      <td>0.0</td>\n      <td>0.0</td>\n      <td>0.0</td>\n      <td>0.0</td>\n      <td>0.0</td>\n    </tr>\n    <tr>\n      <th>3154</th>\n      <td>0.418759</td>\n      <td>-0.555287</td>\n      <td>-0.753977</td>\n      <td>0.921701</td>\n      <td>1.767087</td>\n      <td>0.0</td>\n      <td>0.0</td>\n      <td>0.0</td>\n      <td>0.0</td>\n      <td>1.0</td>\n      <td>...</td>\n      <td>0.0</td>\n      <td>0.0</td>\n      <td>0.0</td>\n      <td>1.0</td>\n      <td>0.0</td>\n      <td>0.0</td>\n      <td>0.0</td>\n      <td>0.0</td>\n      <td>0.0</td>\n      <td>0.0</td>\n    </tr>\n    <tr>\n      <th>3155</th>\n      <td>-0.788100</td>\n      <td>-1.127073</td>\n      <td>-1.116658</td>\n      <td>0.902852</td>\n      <td>-0.452684</td>\n      <td>0.0</td>\n      <td>0.0</td>\n      <td>0.0</td>\n      <td>0.0</td>\n      <td>1.0</td>\n      <td>...</td>\n      <td>0.0</td>\n      <td>0.0</td>\n      <td>0.0</td>\n      <td>1.0</td>\n      <td>0.0</td>\n      <td>0.0</td>\n      <td>0.0</td>\n      <td>0.0</td>\n      <td>0.0</td>\n      <td>0.0</td>\n    </tr>\n  </tbody>\n</table>\n<p>2209 rows × 48 columns</p>\n</div>"
     },
     "metadata": {},
     "output_type": "display_data"
    }
   ],
   "source": [
    "# 5) Concatenate the two dataframes for the training set\n",
    "\n",
    "print(\"We need to add YearBuilt to the list of features.\")\n",
    "numerical_columns.tolist()\n",
    "features_to_merge = numerical_columns.tolist().copy()\n",
    "#features_to_merge.append(\"YearBuilt\")\n",
    "print(features_to_merge, end=\"\\n\\n\")\n",
    "\n",
    "print(\"ASK JEREMY : merge based on index ok ? or should I put back OSEBuildingID ??\")\n",
    "X_train_std_encoded = pd.merge(X_train_std[features_to_merge].sort_index(), X_train_encoded.sort_index(), left_index=True, right_index=True)\n",
    "display(X_train_std_encoded.sort_index())"
   ],
   "metadata": {
    "collapsed": false,
    "pycharm": {
     "name": "#%%\n"
    }
   }
  },
  {
   "cell_type": "markdown",
   "source": [
    "##### Encoding the categorical features of the test set"
   ],
   "metadata": {
    "collapsed": false,
    "pycharm": {
     "name": "#%% md\n"
    }
   }
  },
  {
   "cell_type": "code",
   "execution_count": 33,
   "outputs": [
    {
     "name": "stdout",
     "output_type": "stream",
     "text": [
      "ASK JEREMY for this method below ???\n"
     ]
    },
    {
     "data": {
      "text/plain": "      BuildingType_Campus  BuildingType_Multifamily HR (10+)  \\\n3                     0.0                                1.0   \n4                     0.0                                0.0   \n7                     0.0                                0.0   \n10                    0.0                                0.0   \n16                    0.0                                0.0   \n...                   ...                                ...   \n3142                  0.0                                0.0   \n3145                  0.0                                1.0   \n3148                  0.0                                0.0   \n3150                  0.0                                0.0   \n3156                  0.0                                0.0   \n\n      BuildingType_Multifamily LR (1-4)  BuildingType_Multifamily MR (5-9)  \\\n3                                   0.0                                0.0   \n4                                   1.0                                0.0   \n7                                   1.0                                0.0   \n10                                  0.0                                0.0   \n16                                  0.0                                0.0   \n...                                 ...                                ...   \n3142                                0.0                                1.0   \n3145                                0.0                                0.0   \n3148                                0.0                                0.0   \n3150                                0.0                                1.0   \n3156                                0.0                                0.0   \n\n      BuildingType_NonResidential  BuildingType_Nonresidential COS  \\\n3                             0.0                              0.0   \n4                             0.0                              0.0   \n7                             0.0                              0.0   \n10                            1.0                              0.0   \n16                            1.0                              0.0   \n...                           ...                              ...   \n3142                          0.0                              0.0   \n3145                          0.0                              0.0   \n3148                          1.0                              0.0   \n3150                          0.0                              0.0   \n3156                          0.0                              1.0   \n\n      BuildingType_SPS-District K-12  PrimaryPropertyType_Distribution Center  \\\n3                                0.0                                      0.0   \n4                                0.0                                      0.0   \n7                                0.0                                      0.0   \n10                               0.0                                      0.0   \n16                               0.0                                      0.0   \n...                              ...                                      ...   \n3142                             0.0                                      0.0   \n3145                             0.0                                      0.0   \n3148                             0.0                                      0.0   \n3150                             0.0                                      0.0   \n3156                             0.0                                      0.0   \n\n      PrimaryPropertyType_High-Rise Multifamily  PrimaryPropertyType_Hospital  \\\n3                                           1.0                           0.0   \n4                                           0.0                           0.0   \n7                                           0.0                           0.0   \n10                                          0.0                           0.0   \n16                                          0.0                           0.0   \n...                                         ...                           ...   \n3142                                        0.0                           0.0   \n3145                                        0.0                           0.0   \n3148                                        0.0                           0.0   \n3150                                        0.0                           0.0   \n3156                                        0.0                           0.0   \n\n      ...  Neighborhood_downtown  Neighborhood_east  \\\n3     ...                    0.0                0.0   \n4     ...                    0.0                0.0   \n7     ...                    0.0                0.0   \n10    ...                    1.0                0.0   \n16    ...                    0.0                0.0   \n...   ...                    ...                ...   \n3142  ...                    1.0                0.0   \n3145  ...                    0.0                1.0   \n3148  ...                    0.0                1.0   \n3150  ...                    0.0                1.0   \n3156  ...                    0.0                0.0   \n\n      Neighborhood_greater duwamish  Neighborhood_lake union  \\\n3                               1.0                      0.0   \n4                               1.0                      0.0   \n7                               0.0                      0.0   \n10                              0.0                      0.0   \n16                              0.0                      0.0   \n...                             ...                      ...   \n3142                            0.0                      0.0   \n3145                            0.0                      0.0   \n3148                            0.0                      0.0   \n3150                            0.0                      0.0   \n3156                            1.0                      0.0   \n\n      Neighborhood_magnolia / queen anne  Neighborhood_north  \\\n3                                    0.0                 0.0   \n4                                    0.0                 0.0   \n7                                    0.0                 0.0   \n10                                   0.0                 0.0   \n16                                   0.0                 0.0   \n...                                  ...                 ...   \n3142                                 0.0                 0.0   \n3145                                 0.0                 0.0   \n3148                                 0.0                 0.0   \n3150                                 0.0                 0.0   \n3156                                 0.0                 0.0   \n\n      Neighborhood_northeast  Neighborhood_northwest  Neighborhood_southeast  \\\n3                        0.0                     0.0                     0.0   \n4                        0.0                     0.0                     0.0   \n7                        1.0                     0.0                     0.0   \n10                       0.0                     0.0                     0.0   \n16                       0.0                     0.0                     0.0   \n...                      ...                     ...                     ...   \n3142                     0.0                     0.0                     0.0   \n3145                     0.0                     0.0                     0.0   \n3148                     0.0                     0.0                     0.0   \n3150                     0.0                     0.0                     0.0   \n3156                     0.0                     0.0                     0.0   \n\n      Neighborhood_southwest  \n3                        0.0  \n4                        0.0  \n7                        0.0  \n10                       0.0  \n16                       0.0  \n...                      ...  \n3142                     0.0  \n3145                     0.0  \n3148                     0.0  \n3150                     0.0  \n3156                     0.0  \n\n[948 rows x 43 columns]",
      "text/html": "<div>\n<style scoped>\n    .dataframe tbody tr th:only-of-type {\n        vertical-align: middle;\n    }\n\n    .dataframe tbody tr th {\n        vertical-align: top;\n    }\n\n    .dataframe thead th {\n        text-align: right;\n    }\n</style>\n<table border=\"1\" class=\"dataframe\">\n  <thead>\n    <tr style=\"text-align: right;\">\n      <th></th>\n      <th>BuildingType_Campus</th>\n      <th>BuildingType_Multifamily HR (10+)</th>\n      <th>BuildingType_Multifamily LR (1-4)</th>\n      <th>BuildingType_Multifamily MR (5-9)</th>\n      <th>BuildingType_NonResidential</th>\n      <th>BuildingType_Nonresidential COS</th>\n      <th>BuildingType_SPS-District K-12</th>\n      <th>PrimaryPropertyType_Distribution Center</th>\n      <th>PrimaryPropertyType_High-Rise Multifamily</th>\n      <th>PrimaryPropertyType_Hospital</th>\n      <th>...</th>\n      <th>Neighborhood_downtown</th>\n      <th>Neighborhood_east</th>\n      <th>Neighborhood_greater duwamish</th>\n      <th>Neighborhood_lake union</th>\n      <th>Neighborhood_magnolia / queen anne</th>\n      <th>Neighborhood_north</th>\n      <th>Neighborhood_northeast</th>\n      <th>Neighborhood_northwest</th>\n      <th>Neighborhood_southeast</th>\n      <th>Neighborhood_southwest</th>\n    </tr>\n  </thead>\n  <tbody>\n    <tr>\n      <th>3</th>\n      <td>0.0</td>\n      <td>1.0</td>\n      <td>0.0</td>\n      <td>0.0</td>\n      <td>0.0</td>\n      <td>0.0</td>\n      <td>0.0</td>\n      <td>0.0</td>\n      <td>1.0</td>\n      <td>0.0</td>\n      <td>...</td>\n      <td>0.0</td>\n      <td>0.0</td>\n      <td>1.0</td>\n      <td>0.0</td>\n      <td>0.0</td>\n      <td>0.0</td>\n      <td>0.0</td>\n      <td>0.0</td>\n      <td>0.0</td>\n      <td>0.0</td>\n    </tr>\n    <tr>\n      <th>4</th>\n      <td>0.0</td>\n      <td>0.0</td>\n      <td>1.0</td>\n      <td>0.0</td>\n      <td>0.0</td>\n      <td>0.0</td>\n      <td>0.0</td>\n      <td>0.0</td>\n      <td>0.0</td>\n      <td>0.0</td>\n      <td>...</td>\n      <td>0.0</td>\n      <td>0.0</td>\n      <td>1.0</td>\n      <td>0.0</td>\n      <td>0.0</td>\n      <td>0.0</td>\n      <td>0.0</td>\n      <td>0.0</td>\n      <td>0.0</td>\n      <td>0.0</td>\n    </tr>\n    <tr>\n      <th>7</th>\n      <td>0.0</td>\n      <td>0.0</td>\n      <td>1.0</td>\n      <td>0.0</td>\n      <td>0.0</td>\n      <td>0.0</td>\n      <td>0.0</td>\n      <td>0.0</td>\n      <td>0.0</td>\n      <td>0.0</td>\n      <td>...</td>\n      <td>0.0</td>\n      <td>0.0</td>\n      <td>0.0</td>\n      <td>0.0</td>\n      <td>0.0</td>\n      <td>0.0</td>\n      <td>1.0</td>\n      <td>0.0</td>\n      <td>0.0</td>\n      <td>0.0</td>\n    </tr>\n    <tr>\n      <th>10</th>\n      <td>0.0</td>\n      <td>0.0</td>\n      <td>0.0</td>\n      <td>0.0</td>\n      <td>1.0</td>\n      <td>0.0</td>\n      <td>0.0</td>\n      <td>0.0</td>\n      <td>0.0</td>\n      <td>0.0</td>\n      <td>...</td>\n      <td>1.0</td>\n      <td>0.0</td>\n      <td>0.0</td>\n      <td>0.0</td>\n      <td>0.0</td>\n      <td>0.0</td>\n      <td>0.0</td>\n      <td>0.0</td>\n      <td>0.0</td>\n      <td>0.0</td>\n    </tr>\n    <tr>\n      <th>16</th>\n      <td>0.0</td>\n      <td>0.0</td>\n      <td>0.0</td>\n      <td>0.0</td>\n      <td>1.0</td>\n      <td>0.0</td>\n      <td>0.0</td>\n      <td>0.0</td>\n      <td>0.0</td>\n      <td>0.0</td>\n      <td>...</td>\n      <td>0.0</td>\n      <td>0.0</td>\n      <td>0.0</td>\n      <td>0.0</td>\n      <td>0.0</td>\n      <td>0.0</td>\n      <td>0.0</td>\n      <td>0.0</td>\n      <td>0.0</td>\n      <td>0.0</td>\n    </tr>\n    <tr>\n      <th>...</th>\n      <td>...</td>\n      <td>...</td>\n      <td>...</td>\n      <td>...</td>\n      <td>...</td>\n      <td>...</td>\n      <td>...</td>\n      <td>...</td>\n      <td>...</td>\n      <td>...</td>\n      <td>...</td>\n      <td>...</td>\n      <td>...</td>\n      <td>...</td>\n      <td>...</td>\n      <td>...</td>\n      <td>...</td>\n      <td>...</td>\n      <td>...</td>\n      <td>...</td>\n      <td>...</td>\n    </tr>\n    <tr>\n      <th>3142</th>\n      <td>0.0</td>\n      <td>0.0</td>\n      <td>0.0</td>\n      <td>1.0</td>\n      <td>0.0</td>\n      <td>0.0</td>\n      <td>0.0</td>\n      <td>0.0</td>\n      <td>0.0</td>\n      <td>0.0</td>\n      <td>...</td>\n      <td>1.0</td>\n      <td>0.0</td>\n      <td>0.0</td>\n      <td>0.0</td>\n      <td>0.0</td>\n      <td>0.0</td>\n      <td>0.0</td>\n      <td>0.0</td>\n      <td>0.0</td>\n      <td>0.0</td>\n    </tr>\n    <tr>\n      <th>3145</th>\n      <td>0.0</td>\n      <td>1.0</td>\n      <td>0.0</td>\n      <td>0.0</td>\n      <td>0.0</td>\n      <td>0.0</td>\n      <td>0.0</td>\n      <td>0.0</td>\n      <td>0.0</td>\n      <td>0.0</td>\n      <td>...</td>\n      <td>0.0</td>\n      <td>1.0</td>\n      <td>0.0</td>\n      <td>0.0</td>\n      <td>0.0</td>\n      <td>0.0</td>\n      <td>0.0</td>\n      <td>0.0</td>\n      <td>0.0</td>\n      <td>0.0</td>\n    </tr>\n    <tr>\n      <th>3148</th>\n      <td>0.0</td>\n      <td>0.0</td>\n      <td>0.0</td>\n      <td>0.0</td>\n      <td>1.0</td>\n      <td>0.0</td>\n      <td>0.0</td>\n      <td>0.0</td>\n      <td>0.0</td>\n      <td>0.0</td>\n      <td>...</td>\n      <td>0.0</td>\n      <td>1.0</td>\n      <td>0.0</td>\n      <td>0.0</td>\n      <td>0.0</td>\n      <td>0.0</td>\n      <td>0.0</td>\n      <td>0.0</td>\n      <td>0.0</td>\n      <td>0.0</td>\n    </tr>\n    <tr>\n      <th>3150</th>\n      <td>0.0</td>\n      <td>0.0</td>\n      <td>0.0</td>\n      <td>1.0</td>\n      <td>0.0</td>\n      <td>0.0</td>\n      <td>0.0</td>\n      <td>0.0</td>\n      <td>0.0</td>\n      <td>0.0</td>\n      <td>...</td>\n      <td>0.0</td>\n      <td>1.0</td>\n      <td>0.0</td>\n      <td>0.0</td>\n      <td>0.0</td>\n      <td>0.0</td>\n      <td>0.0</td>\n      <td>0.0</td>\n      <td>0.0</td>\n      <td>0.0</td>\n    </tr>\n    <tr>\n      <th>3156</th>\n      <td>0.0</td>\n      <td>0.0</td>\n      <td>0.0</td>\n      <td>0.0</td>\n      <td>0.0</td>\n      <td>1.0</td>\n      <td>0.0</td>\n      <td>0.0</td>\n      <td>0.0</td>\n      <td>0.0</td>\n      <td>...</td>\n      <td>0.0</td>\n      <td>0.0</td>\n      <td>1.0</td>\n      <td>0.0</td>\n      <td>0.0</td>\n      <td>0.0</td>\n      <td>0.0</td>\n      <td>0.0</td>\n      <td>0.0</td>\n      <td>0.0</td>\n    </tr>\n  </tbody>\n</table>\n<p>948 rows × 43 columns</p>\n</div>"
     },
     "metadata": {},
     "output_type": "display_data"
    },
    {
     "name": "stdout",
     "output_type": "stream",
     "text": [
      "ASK JEREMY : merge based on index ok ? or should I put back OSEBuildingID ??\n"
     ]
    },
    {
     "data": {
      "text/plain": "      Log-NumberofFloors  Log-PropertyGFATotal  Log-PropertyGFABuilding(s)  \\\n3               2.126509              0.345834                    0.425856   \n4              -0.287209             -0.468604                   -0.685512   \n7              -0.287209              0.909765                    1.016436   \n10              1.764982              0.552232                    0.642008   \n16             -0.788100             -1.089379                   -1.077182   \n...                  ...                   ...                         ...   \n3142            0.687155              0.658263                    0.753049   \n3145            2.515031              3.019734                    3.010906   \n3148           -0.287209             -0.653711                   -0.620926   \n3150            0.418759             -0.044487                    0.017089   \n3156           -1.494068             -1.261089                   -1.257007   \n\n      Log-SecondLargestPropertyUseTypeGFA  Log-ThirdLargestPropertyUseTypeGFA  \\\n3                               -0.959295                           -0.452684   \n4                                0.769366                           -0.452684   \n7                                1.039183                           -0.452684   \n10                              -0.959295                           -0.452684   \n16                               0.876133                           -0.452684   \n...                                   ...                                 ...   \n3142                            -0.959295                           -0.452684   \n3145                             1.494665                           -0.452684   \n3148                            -0.959295                           -0.452684   \n3150                            -0.959295                           -0.452684   \n3156                             0.902852                            1.675226   \n\n      BuildingType_Campus  BuildingType_Multifamily HR (10+)  \\\n3                     0.0                                1.0   \n4                     0.0                                0.0   \n7                     0.0                                0.0   \n10                    0.0                                0.0   \n16                    0.0                                0.0   \n...                   ...                                ...   \n3142                  0.0                                0.0   \n3145                  0.0                                1.0   \n3148                  0.0                                0.0   \n3150                  0.0                                0.0   \n3156                  0.0                                0.0   \n\n      BuildingType_Multifamily LR (1-4)  BuildingType_Multifamily MR (5-9)  \\\n3                                   0.0                                0.0   \n4                                   1.0                                0.0   \n7                                   1.0                                0.0   \n10                                  0.0                                0.0   \n16                                  0.0                                0.0   \n...                                 ...                                ...   \n3142                                0.0                                1.0   \n3145                                0.0                                0.0   \n3148                                0.0                                0.0   \n3150                                0.0                                1.0   \n3156                                0.0                                0.0   \n\n      BuildingType_NonResidential  ...  Neighborhood_downtown  \\\n3                             0.0  ...                    0.0   \n4                             0.0  ...                    0.0   \n7                             0.0  ...                    0.0   \n10                            1.0  ...                    1.0   \n16                            1.0  ...                    0.0   \n...                           ...  ...                    ...   \n3142                          0.0  ...                    1.0   \n3145                          0.0  ...                    0.0   \n3148                          1.0  ...                    0.0   \n3150                          0.0  ...                    0.0   \n3156                          0.0  ...                    0.0   \n\n      Neighborhood_east  Neighborhood_greater duwamish  \\\n3                   0.0                            1.0   \n4                   0.0                            1.0   \n7                   0.0                            0.0   \n10                  0.0                            0.0   \n16                  0.0                            0.0   \n...                 ...                            ...   \n3142                0.0                            0.0   \n3145                1.0                            0.0   \n3148                1.0                            0.0   \n3150                1.0                            0.0   \n3156                0.0                            1.0   \n\n      Neighborhood_lake union  Neighborhood_magnolia / queen anne  \\\n3                         0.0                                 0.0   \n4                         0.0                                 0.0   \n7                         0.0                                 0.0   \n10                        0.0                                 0.0   \n16                        0.0                                 0.0   \n...                       ...                                 ...   \n3142                      0.0                                 0.0   \n3145                      0.0                                 0.0   \n3148                      0.0                                 0.0   \n3150                      0.0                                 0.0   \n3156                      0.0                                 0.0   \n\n      Neighborhood_north  Neighborhood_northeast  Neighborhood_northwest  \\\n3                    0.0                     0.0                     0.0   \n4                    0.0                     0.0                     0.0   \n7                    0.0                     1.0                     0.0   \n10                   0.0                     0.0                     0.0   \n16                   0.0                     0.0                     0.0   \n...                  ...                     ...                     ...   \n3142                 0.0                     0.0                     0.0   \n3145                 0.0                     0.0                     0.0   \n3148                 0.0                     0.0                     0.0   \n3150                 0.0                     0.0                     0.0   \n3156                 0.0                     0.0                     0.0   \n\n      Neighborhood_southeast  Neighborhood_southwest  \n3                        0.0                     0.0  \n4                        0.0                     0.0  \n7                        0.0                     0.0  \n10                       0.0                     0.0  \n16                       0.0                     0.0  \n...                      ...                     ...  \n3142                     0.0                     0.0  \n3145                     0.0                     0.0  \n3148                     0.0                     0.0  \n3150                     0.0                     0.0  \n3156                     0.0                     0.0  \n\n[948 rows x 48 columns]",
      "text/html": "<div>\n<style scoped>\n    .dataframe tbody tr th:only-of-type {\n        vertical-align: middle;\n    }\n\n    .dataframe tbody tr th {\n        vertical-align: top;\n    }\n\n    .dataframe thead th {\n        text-align: right;\n    }\n</style>\n<table border=\"1\" class=\"dataframe\">\n  <thead>\n    <tr style=\"text-align: right;\">\n      <th></th>\n      <th>Log-NumberofFloors</th>\n      <th>Log-PropertyGFATotal</th>\n      <th>Log-PropertyGFABuilding(s)</th>\n      <th>Log-SecondLargestPropertyUseTypeGFA</th>\n      <th>Log-ThirdLargestPropertyUseTypeGFA</th>\n      <th>BuildingType_Campus</th>\n      <th>BuildingType_Multifamily HR (10+)</th>\n      <th>BuildingType_Multifamily LR (1-4)</th>\n      <th>BuildingType_Multifamily MR (5-9)</th>\n      <th>BuildingType_NonResidential</th>\n      <th>...</th>\n      <th>Neighborhood_downtown</th>\n      <th>Neighborhood_east</th>\n      <th>Neighborhood_greater duwamish</th>\n      <th>Neighborhood_lake union</th>\n      <th>Neighborhood_magnolia / queen anne</th>\n      <th>Neighborhood_north</th>\n      <th>Neighborhood_northeast</th>\n      <th>Neighborhood_northwest</th>\n      <th>Neighborhood_southeast</th>\n      <th>Neighborhood_southwest</th>\n    </tr>\n  </thead>\n  <tbody>\n    <tr>\n      <th>3</th>\n      <td>2.126509</td>\n      <td>0.345834</td>\n      <td>0.425856</td>\n      <td>-0.959295</td>\n      <td>-0.452684</td>\n      <td>0.0</td>\n      <td>1.0</td>\n      <td>0.0</td>\n      <td>0.0</td>\n      <td>0.0</td>\n      <td>...</td>\n      <td>0.0</td>\n      <td>0.0</td>\n      <td>1.0</td>\n      <td>0.0</td>\n      <td>0.0</td>\n      <td>0.0</td>\n      <td>0.0</td>\n      <td>0.0</td>\n      <td>0.0</td>\n      <td>0.0</td>\n    </tr>\n    <tr>\n      <th>4</th>\n      <td>-0.287209</td>\n      <td>-0.468604</td>\n      <td>-0.685512</td>\n      <td>0.769366</td>\n      <td>-0.452684</td>\n      <td>0.0</td>\n      <td>0.0</td>\n      <td>1.0</td>\n      <td>0.0</td>\n      <td>0.0</td>\n      <td>...</td>\n      <td>0.0</td>\n      <td>0.0</td>\n      <td>1.0</td>\n      <td>0.0</td>\n      <td>0.0</td>\n      <td>0.0</td>\n      <td>0.0</td>\n      <td>0.0</td>\n      <td>0.0</td>\n      <td>0.0</td>\n    </tr>\n    <tr>\n      <th>7</th>\n      <td>-0.287209</td>\n      <td>0.909765</td>\n      <td>1.016436</td>\n      <td>1.039183</td>\n      <td>-0.452684</td>\n      <td>0.0</td>\n      <td>0.0</td>\n      <td>1.0</td>\n      <td>0.0</td>\n      <td>0.0</td>\n      <td>...</td>\n      <td>0.0</td>\n      <td>0.0</td>\n      <td>0.0</td>\n      <td>0.0</td>\n      <td>0.0</td>\n      <td>0.0</td>\n      <td>1.0</td>\n      <td>0.0</td>\n      <td>0.0</td>\n      <td>0.0</td>\n    </tr>\n    <tr>\n      <th>10</th>\n      <td>1.764982</td>\n      <td>0.552232</td>\n      <td>0.642008</td>\n      <td>-0.959295</td>\n      <td>-0.452684</td>\n      <td>0.0</td>\n      <td>0.0</td>\n      <td>0.0</td>\n      <td>0.0</td>\n      <td>1.0</td>\n      <td>...</td>\n      <td>1.0</td>\n      <td>0.0</td>\n      <td>0.0</td>\n      <td>0.0</td>\n      <td>0.0</td>\n      <td>0.0</td>\n      <td>0.0</td>\n      <td>0.0</td>\n      <td>0.0</td>\n      <td>0.0</td>\n    </tr>\n    <tr>\n      <th>16</th>\n      <td>-0.788100</td>\n      <td>-1.089379</td>\n      <td>-1.077182</td>\n      <td>0.876133</td>\n      <td>-0.452684</td>\n      <td>0.0</td>\n      <td>0.0</td>\n      <td>0.0</td>\n      <td>0.0</td>\n      <td>1.0</td>\n      <td>...</td>\n      <td>0.0</td>\n      <td>0.0</td>\n      <td>0.0</td>\n      <td>0.0</td>\n      <td>0.0</td>\n      <td>0.0</td>\n      <td>0.0</td>\n      <td>0.0</td>\n      <td>0.0</td>\n      <td>0.0</td>\n    </tr>\n    <tr>\n      <th>...</th>\n      <td>...</td>\n      <td>...</td>\n      <td>...</td>\n      <td>...</td>\n      <td>...</td>\n      <td>...</td>\n      <td>...</td>\n      <td>...</td>\n      <td>...</td>\n      <td>...</td>\n      <td>...</td>\n      <td>...</td>\n      <td>...</td>\n      <td>...</td>\n      <td>...</td>\n      <td>...</td>\n      <td>...</td>\n      <td>...</td>\n      <td>...</td>\n      <td>...</td>\n      <td>...</td>\n    </tr>\n    <tr>\n      <th>3142</th>\n      <td>0.687155</td>\n      <td>0.658263</td>\n      <td>0.753049</td>\n      <td>-0.959295</td>\n      <td>-0.452684</td>\n      <td>0.0</td>\n      <td>0.0</td>\n      <td>0.0</td>\n      <td>1.0</td>\n      <td>0.0</td>\n      <td>...</td>\n      <td>1.0</td>\n      <td>0.0</td>\n      <td>0.0</td>\n      <td>0.0</td>\n      <td>0.0</td>\n      <td>0.0</td>\n      <td>0.0</td>\n      <td>0.0</td>\n      <td>0.0</td>\n      <td>0.0</td>\n    </tr>\n    <tr>\n      <th>3145</th>\n      <td>2.515031</td>\n      <td>3.019734</td>\n      <td>3.010906</td>\n      <td>1.494665</td>\n      <td>-0.452684</td>\n      <td>0.0</td>\n      <td>1.0</td>\n      <td>0.0</td>\n      <td>0.0</td>\n      <td>0.0</td>\n      <td>...</td>\n      <td>0.0</td>\n      <td>1.0</td>\n      <td>0.0</td>\n      <td>0.0</td>\n      <td>0.0</td>\n      <td>0.0</td>\n      <td>0.0</td>\n      <td>0.0</td>\n      <td>0.0</td>\n      <td>0.0</td>\n    </tr>\n    <tr>\n      <th>3148</th>\n      <td>-0.287209</td>\n      <td>-0.653711</td>\n      <td>-0.620926</td>\n      <td>-0.959295</td>\n      <td>-0.452684</td>\n      <td>0.0</td>\n      <td>0.0</td>\n      <td>0.0</td>\n      <td>0.0</td>\n      <td>1.0</td>\n      <td>...</td>\n      <td>0.0</td>\n      <td>1.0</td>\n      <td>0.0</td>\n      <td>0.0</td>\n      <td>0.0</td>\n      <td>0.0</td>\n      <td>0.0</td>\n      <td>0.0</td>\n      <td>0.0</td>\n      <td>0.0</td>\n    </tr>\n    <tr>\n      <th>3150</th>\n      <td>0.418759</td>\n      <td>-0.044487</td>\n      <td>0.017089</td>\n      <td>-0.959295</td>\n      <td>-0.452684</td>\n      <td>0.0</td>\n      <td>0.0</td>\n      <td>0.0</td>\n      <td>1.0</td>\n      <td>0.0</td>\n      <td>...</td>\n      <td>0.0</td>\n      <td>1.0</td>\n      <td>0.0</td>\n      <td>0.0</td>\n      <td>0.0</td>\n      <td>0.0</td>\n      <td>0.0</td>\n      <td>0.0</td>\n      <td>0.0</td>\n      <td>0.0</td>\n    </tr>\n    <tr>\n      <th>3156</th>\n      <td>-1.494068</td>\n      <td>-1.261089</td>\n      <td>-1.257007</td>\n      <td>0.902852</td>\n      <td>1.675226</td>\n      <td>0.0</td>\n      <td>0.0</td>\n      <td>0.0</td>\n      <td>0.0</td>\n      <td>0.0</td>\n      <td>...</td>\n      <td>0.0</td>\n      <td>0.0</td>\n      <td>1.0</td>\n      <td>0.0</td>\n      <td>0.0</td>\n      <td>0.0</td>\n      <td>0.0</td>\n      <td>0.0</td>\n      <td>0.0</td>\n      <td>0.0</td>\n    </tr>\n  </tbody>\n</table>\n<p>948 rows × 48 columns</p>\n</div>"
     },
     "metadata": {},
     "output_type": "display_data"
    }
   ],
   "source": [
    "# 5) One Hot Encoding on the testing set\n",
    "\n",
    "# 5.1) we get the encoded numpy array\n",
    "TEST_encoded_categorical_data = one_hot_encoder.transform(X_test_std[categorical_columns])\n",
    "\n",
    "print(\"ASK JEREMY for this method below ???\")\n",
    "# 5.2) we recreate a dataframe with the column names and the numpy array\n",
    "X_test_encoded = pd.DataFrame(columns=encoded_categorical_data_names,\n",
    "                               data=TEST_encoded_categorical_data,\n",
    "                               index=X_test_std.index)\n",
    "display(X_test_encoded.sort_index())\n",
    "\n",
    "print(\"ASK JEREMY : merge based on index ok ? or should I put back OSEBuildingID ??\")\n",
    "X_test_std_encoded = pd.merge(X_test_std[features_to_merge].sort_index(), X_test_encoded.sort_index(), left_index=True, right_index=True)\n",
    "display(X_test_std_encoded.sort_index())"
   ],
   "metadata": {
    "collapsed": false,
    "pycharm": {
     "name": "#%%\n"
    }
   }
  },
  {
   "cell_type": "code",
   "execution_count": 34,
   "outputs": [],
   "source": [
    "# Save\n",
    "#X_train_std_encoded.to_csv(\"dataset/cleaned/electricity/X_train.csv\", index=False)\n",
    "#X_test_std_encoded.to_csv(\"dataset/cleaned/electricity/X_test.csv\", index=False)\n",
    "#y_train.to_csv(\"dataset/cleaned/electricity/y_train.csv\", index=False)\n",
    "#y_test.to_csv(\"dataset/cleaned/electricity/y_test.csv\", index=False)"
   ],
   "metadata": {
    "collapsed": false,
    "pycharm": {
     "name": "#%%\n"
    }
   }
  },
  {
   "cell_type": "markdown",
   "source": [
    "## II) Modelisation"
   ],
   "metadata": {
    "collapsed": false,
    "pycharm": {
     "name": "#%% md\n"
    }
   }
  },
  {
   "cell_type": "code",
   "execution_count": 35,
   "outputs": [],
   "source": [
    "from sklearn.model_selection import GridSearchCV\n",
    "from sklearn.metrics import mean_squared_error"
   ],
   "metadata": {
    "collapsed": false,
    "pycharm": {
     "name": "#%%\n"
    }
   }
  },
  {
   "cell_type": "code",
   "execution_count": 36,
   "outputs": [
    {
     "name": "stdout",
     "output_type": "stream",
     "text": [
      "We can start now the modelling to predict the feature wanted.\n"
     ]
    },
    {
     "data": {
      "text/plain": "      Log-NumberofFloors  Log-PropertyGFATotal  Log-PropertyGFABuilding(s)  \\\n0              -0.287209             -1.114647                   -1.103645   \n1              -0.788100             -0.856790                   -0.833602   \n2              -0.287209             -0.894374                   -0.872962   \n5               0.101313             -0.389977                   -0.344728   \n6              -0.788100              1.053271                    1.166724   \n...                  ...                   ...                         ...   \n3151           -0.788100             -0.551886                   -0.514288   \n3152           -0.287209             -0.308334                   -0.559187   \n3153            0.101313             -0.459886                   -0.417941   \n3154            0.418759             -0.555287                   -0.753977   \n3155           -0.788100             -1.127073                   -1.116658   \n\n      Log-SecondLargestPropertyUseTypeGFA  Log-ThirdLargestPropertyUseTypeGFA  \\\n0                               -0.959295                           -0.452684   \n1                                0.921299                            1.983365   \n2                               -0.959295                           -0.452684   \n5                               -0.959295                           -0.452684   \n6                               -0.959295                           -0.452684   \n...                                   ...                                 ...   \n3151                             1.013698                            1.754706   \n3152                             1.020677                            2.332823   \n3153                            -0.959295                           -0.452684   \n3154                             0.921701                            1.767087   \n3155                             0.902852                           -0.452684   \n\n      BuildingType_Campus  BuildingType_Multifamily HR (10+)  \\\n0                     0.0                                0.0   \n1                     0.0                                0.0   \n2                     0.0                                0.0   \n5                     0.0                                0.0   \n6                     0.0                                0.0   \n...                   ...                                ...   \n3151                  0.0                                0.0   \n3152                  0.0                                0.0   \n3153                  0.0                                0.0   \n3154                  0.0                                0.0   \n3155                  0.0                                0.0   \n\n      BuildingType_Multifamily LR (1-4)  BuildingType_Multifamily MR (5-9)  \\\n0                                   1.0                                0.0   \n1                                   0.0                                0.0   \n2                                   1.0                                0.0   \n5                                   0.0                                0.0   \n6                                   1.0                                0.0   \n...                                 ...                                ...   \n3151                                0.0                                0.0   \n3152                                0.0                                0.0   \n3153                                1.0                                0.0   \n3154                                0.0                                0.0   \n3155                                0.0                                0.0   \n\n      BuildingType_NonResidential  ...  Neighborhood_downtown  \\\n0                             0.0  ...                    0.0   \n1                             1.0  ...                    0.0   \n2                             0.0  ...                    0.0   \n5                             1.0  ...                    0.0   \n6                             0.0  ...                    0.0   \n...                           ...  ...                    ...   \n3151                          1.0  ...                    0.0   \n3152                          1.0  ...                    0.0   \n3153                          0.0  ...                    0.0   \n3154                          1.0  ...                    0.0   \n3155                          1.0  ...                    0.0   \n\n      Neighborhood_east  Neighborhood_greater duwamish  \\\n0                   0.0                            0.0   \n1                   0.0                            1.0   \n2                   0.0                            1.0   \n5                   0.0                            0.0   \n6                   0.0                            0.0   \n...                 ...                            ...   \n3151                0.0                            0.0   \n3152                0.0                            0.0   \n3153                0.0                            0.0   \n3154                0.0                            0.0   \n3155                0.0                            0.0   \n\n      Neighborhood_lake union  Neighborhood_magnolia / queen anne  \\\n0                         0.0                                 0.0   \n1                         0.0                                 0.0   \n2                         0.0                                 0.0   \n5                         0.0                                 0.0   \n6                         0.0                                 0.0   \n...                       ...                                 ...   \n3151                      1.0                                 0.0   \n3152                      1.0                                 0.0   \n3153                      1.0                                 0.0   \n3154                      1.0                                 0.0   \n3155                      1.0                                 0.0   \n\n      Neighborhood_north  Neighborhood_northeast  Neighborhood_northwest  \\\n0                    0.0                     0.0                     0.0   \n1                    0.0                     0.0                     0.0   \n2                    0.0                     0.0                     0.0   \n5                    0.0                     1.0                     0.0   \n6                    0.0                     1.0                     0.0   \n...                  ...                     ...                     ...   \n3151                 0.0                     0.0                     0.0   \n3152                 0.0                     0.0                     0.0   \n3153                 0.0                     0.0                     0.0   \n3154                 0.0                     0.0                     0.0   \n3155                 0.0                     0.0                     0.0   \n\n      Neighborhood_southeast  Neighborhood_southwest  \n0                        0.0                     0.0  \n1                        0.0                     0.0  \n2                        0.0                     0.0  \n5                        0.0                     0.0  \n6                        0.0                     0.0  \n...                      ...                     ...  \n3151                     0.0                     0.0  \n3152                     0.0                     0.0  \n3153                     0.0                     0.0  \n3154                     0.0                     0.0  \n3155                     0.0                     0.0  \n\n[2209 rows x 48 columns]",
      "text/html": "<div>\n<style scoped>\n    .dataframe tbody tr th:only-of-type {\n        vertical-align: middle;\n    }\n\n    .dataframe tbody tr th {\n        vertical-align: top;\n    }\n\n    .dataframe thead th {\n        text-align: right;\n    }\n</style>\n<table border=\"1\" class=\"dataframe\">\n  <thead>\n    <tr style=\"text-align: right;\">\n      <th></th>\n      <th>Log-NumberofFloors</th>\n      <th>Log-PropertyGFATotal</th>\n      <th>Log-PropertyGFABuilding(s)</th>\n      <th>Log-SecondLargestPropertyUseTypeGFA</th>\n      <th>Log-ThirdLargestPropertyUseTypeGFA</th>\n      <th>BuildingType_Campus</th>\n      <th>BuildingType_Multifamily HR (10+)</th>\n      <th>BuildingType_Multifamily LR (1-4)</th>\n      <th>BuildingType_Multifamily MR (5-9)</th>\n      <th>BuildingType_NonResidential</th>\n      <th>...</th>\n      <th>Neighborhood_downtown</th>\n      <th>Neighborhood_east</th>\n      <th>Neighborhood_greater duwamish</th>\n      <th>Neighborhood_lake union</th>\n      <th>Neighborhood_magnolia / queen anne</th>\n      <th>Neighborhood_north</th>\n      <th>Neighborhood_northeast</th>\n      <th>Neighborhood_northwest</th>\n      <th>Neighborhood_southeast</th>\n      <th>Neighborhood_southwest</th>\n    </tr>\n  </thead>\n  <tbody>\n    <tr>\n      <th>0</th>\n      <td>-0.287209</td>\n      <td>-1.114647</td>\n      <td>-1.103645</td>\n      <td>-0.959295</td>\n      <td>-0.452684</td>\n      <td>0.0</td>\n      <td>0.0</td>\n      <td>1.0</td>\n      <td>0.0</td>\n      <td>0.0</td>\n      <td>...</td>\n      <td>0.0</td>\n      <td>0.0</td>\n      <td>0.0</td>\n      <td>0.0</td>\n      <td>0.0</td>\n      <td>0.0</td>\n      <td>0.0</td>\n      <td>0.0</td>\n      <td>0.0</td>\n      <td>0.0</td>\n    </tr>\n    <tr>\n      <th>1</th>\n      <td>-0.788100</td>\n      <td>-0.856790</td>\n      <td>-0.833602</td>\n      <td>0.921299</td>\n      <td>1.983365</td>\n      <td>0.0</td>\n      <td>0.0</td>\n      <td>0.0</td>\n      <td>0.0</td>\n      <td>1.0</td>\n      <td>...</td>\n      <td>0.0</td>\n      <td>0.0</td>\n      <td>1.0</td>\n      <td>0.0</td>\n      <td>0.0</td>\n      <td>0.0</td>\n      <td>0.0</td>\n      <td>0.0</td>\n      <td>0.0</td>\n      <td>0.0</td>\n    </tr>\n    <tr>\n      <th>2</th>\n      <td>-0.287209</td>\n      <td>-0.894374</td>\n      <td>-0.872962</td>\n      <td>-0.959295</td>\n      <td>-0.452684</td>\n      <td>0.0</td>\n      <td>0.0</td>\n      <td>1.0</td>\n      <td>0.0</td>\n      <td>0.0</td>\n      <td>...</td>\n      <td>0.0</td>\n      <td>0.0</td>\n      <td>1.0</td>\n      <td>0.0</td>\n      <td>0.0</td>\n      <td>0.0</td>\n      <td>0.0</td>\n      <td>0.0</td>\n      <td>0.0</td>\n      <td>0.0</td>\n    </tr>\n    <tr>\n      <th>5</th>\n      <td>0.101313</td>\n      <td>-0.389977</td>\n      <td>-0.344728</td>\n      <td>-0.959295</td>\n      <td>-0.452684</td>\n      <td>0.0</td>\n      <td>0.0</td>\n      <td>0.0</td>\n      <td>0.0</td>\n      <td>1.0</td>\n      <td>...</td>\n      <td>0.0</td>\n      <td>0.0</td>\n      <td>0.0</td>\n      <td>0.0</td>\n      <td>0.0</td>\n      <td>0.0</td>\n      <td>1.0</td>\n      <td>0.0</td>\n      <td>0.0</td>\n      <td>0.0</td>\n    </tr>\n    <tr>\n      <th>6</th>\n      <td>-0.788100</td>\n      <td>1.053271</td>\n      <td>1.166724</td>\n      <td>-0.959295</td>\n      <td>-0.452684</td>\n      <td>0.0</td>\n      <td>0.0</td>\n      <td>1.0</td>\n      <td>0.0</td>\n      <td>0.0</td>\n      <td>...</td>\n      <td>0.0</td>\n      <td>0.0</td>\n      <td>0.0</td>\n      <td>0.0</td>\n      <td>0.0</td>\n      <td>0.0</td>\n      <td>1.0</td>\n      <td>0.0</td>\n      <td>0.0</td>\n      <td>0.0</td>\n    </tr>\n    <tr>\n      <th>...</th>\n      <td>...</td>\n      <td>...</td>\n      <td>...</td>\n      <td>...</td>\n      <td>...</td>\n      <td>...</td>\n      <td>...</td>\n      <td>...</td>\n      <td>...</td>\n      <td>...</td>\n      <td>...</td>\n      <td>...</td>\n      <td>...</td>\n      <td>...</td>\n      <td>...</td>\n      <td>...</td>\n      <td>...</td>\n      <td>...</td>\n      <td>...</td>\n      <td>...</td>\n      <td>...</td>\n    </tr>\n    <tr>\n      <th>3151</th>\n      <td>-0.788100</td>\n      <td>-0.551886</td>\n      <td>-0.514288</td>\n      <td>1.013698</td>\n      <td>1.754706</td>\n      <td>0.0</td>\n      <td>0.0</td>\n      <td>0.0</td>\n      <td>0.0</td>\n      <td>1.0</td>\n      <td>...</td>\n      <td>0.0</td>\n      <td>0.0</td>\n      <td>0.0</td>\n      <td>1.0</td>\n      <td>0.0</td>\n      <td>0.0</td>\n      <td>0.0</td>\n      <td>0.0</td>\n      <td>0.0</td>\n      <td>0.0</td>\n    </tr>\n    <tr>\n      <th>3152</th>\n      <td>-0.287209</td>\n      <td>-0.308334</td>\n      <td>-0.559187</td>\n      <td>1.020677</td>\n      <td>2.332823</td>\n      <td>0.0</td>\n      <td>0.0</td>\n      <td>0.0</td>\n      <td>0.0</td>\n      <td>1.0</td>\n      <td>...</td>\n      <td>0.0</td>\n      <td>0.0</td>\n      <td>0.0</td>\n      <td>1.0</td>\n      <td>0.0</td>\n      <td>0.0</td>\n      <td>0.0</td>\n      <td>0.0</td>\n      <td>0.0</td>\n      <td>0.0</td>\n    </tr>\n    <tr>\n      <th>3153</th>\n      <td>0.101313</td>\n      <td>-0.459886</td>\n      <td>-0.417941</td>\n      <td>-0.959295</td>\n      <td>-0.452684</td>\n      <td>0.0</td>\n      <td>0.0</td>\n      <td>1.0</td>\n      <td>0.0</td>\n      <td>0.0</td>\n      <td>...</td>\n      <td>0.0</td>\n      <td>0.0</td>\n      <td>0.0</td>\n      <td>1.0</td>\n      <td>0.0</td>\n      <td>0.0</td>\n      <td>0.0</td>\n      <td>0.0</td>\n      <td>0.0</td>\n      <td>0.0</td>\n    </tr>\n    <tr>\n      <th>3154</th>\n      <td>0.418759</td>\n      <td>-0.555287</td>\n      <td>-0.753977</td>\n      <td>0.921701</td>\n      <td>1.767087</td>\n      <td>0.0</td>\n      <td>0.0</td>\n      <td>0.0</td>\n      <td>0.0</td>\n      <td>1.0</td>\n      <td>...</td>\n      <td>0.0</td>\n      <td>0.0</td>\n      <td>0.0</td>\n      <td>1.0</td>\n      <td>0.0</td>\n      <td>0.0</td>\n      <td>0.0</td>\n      <td>0.0</td>\n      <td>0.0</td>\n      <td>0.0</td>\n    </tr>\n    <tr>\n      <th>3155</th>\n      <td>-0.788100</td>\n      <td>-1.127073</td>\n      <td>-1.116658</td>\n      <td>0.902852</td>\n      <td>-0.452684</td>\n      <td>0.0</td>\n      <td>0.0</td>\n      <td>0.0</td>\n      <td>0.0</td>\n      <td>1.0</td>\n      <td>...</td>\n      <td>0.0</td>\n      <td>0.0</td>\n      <td>0.0</td>\n      <td>1.0</td>\n      <td>0.0</td>\n      <td>0.0</td>\n      <td>0.0</td>\n      <td>0.0</td>\n      <td>0.0</td>\n      <td>0.0</td>\n    </tr>\n  </tbody>\n</table>\n<p>2209 rows × 48 columns</p>\n</div>"
     },
     "metadata": {},
     "output_type": "display_data"
    },
    {
     "data": {
      "text/plain": "      Log-NumberofFloors  Log-PropertyGFATotal  Log-PropertyGFABuilding(s)  \\\n3               2.126509              0.345834                    0.425856   \n4              -0.287209             -0.468604                   -0.685512   \n7              -0.287209              0.909765                    1.016436   \n10              1.764982              0.552232                    0.642008   \n16             -0.788100             -1.089379                   -1.077182   \n...                  ...                   ...                         ...   \n3142            0.687155              0.658263                    0.753049   \n3145            2.515031              3.019734                    3.010906   \n3148           -0.287209             -0.653711                   -0.620926   \n3150            0.418759             -0.044487                    0.017089   \n3156           -1.494068             -1.261089                   -1.257007   \n\n      Log-SecondLargestPropertyUseTypeGFA  Log-ThirdLargestPropertyUseTypeGFA  \\\n3                               -0.959295                           -0.452684   \n4                                0.769366                           -0.452684   \n7                                1.039183                           -0.452684   \n10                              -0.959295                           -0.452684   \n16                               0.876133                           -0.452684   \n...                                   ...                                 ...   \n3142                            -0.959295                           -0.452684   \n3145                             1.494665                           -0.452684   \n3148                            -0.959295                           -0.452684   \n3150                            -0.959295                           -0.452684   \n3156                             0.902852                            1.675226   \n\n      BuildingType_Campus  BuildingType_Multifamily HR (10+)  \\\n3                     0.0                                1.0   \n4                     0.0                                0.0   \n7                     0.0                                0.0   \n10                    0.0                                0.0   \n16                    0.0                                0.0   \n...                   ...                                ...   \n3142                  0.0                                0.0   \n3145                  0.0                                1.0   \n3148                  0.0                                0.0   \n3150                  0.0                                0.0   \n3156                  0.0                                0.0   \n\n      BuildingType_Multifamily LR (1-4)  BuildingType_Multifamily MR (5-9)  \\\n3                                   0.0                                0.0   \n4                                   1.0                                0.0   \n7                                   1.0                                0.0   \n10                                  0.0                                0.0   \n16                                  0.0                                0.0   \n...                                 ...                                ...   \n3142                                0.0                                1.0   \n3145                                0.0                                0.0   \n3148                                0.0                                0.0   \n3150                                0.0                                1.0   \n3156                                0.0                                0.0   \n\n      BuildingType_NonResidential  ...  Neighborhood_downtown  \\\n3                             0.0  ...                    0.0   \n4                             0.0  ...                    0.0   \n7                             0.0  ...                    0.0   \n10                            1.0  ...                    1.0   \n16                            1.0  ...                    0.0   \n...                           ...  ...                    ...   \n3142                          0.0  ...                    1.0   \n3145                          0.0  ...                    0.0   \n3148                          1.0  ...                    0.0   \n3150                          0.0  ...                    0.0   \n3156                          0.0  ...                    0.0   \n\n      Neighborhood_east  Neighborhood_greater duwamish  \\\n3                   0.0                            1.0   \n4                   0.0                            1.0   \n7                   0.0                            0.0   \n10                  0.0                            0.0   \n16                  0.0                            0.0   \n...                 ...                            ...   \n3142                0.0                            0.0   \n3145                1.0                            0.0   \n3148                1.0                            0.0   \n3150                1.0                            0.0   \n3156                0.0                            1.0   \n\n      Neighborhood_lake union  Neighborhood_magnolia / queen anne  \\\n3                         0.0                                 0.0   \n4                         0.0                                 0.0   \n7                         0.0                                 0.0   \n10                        0.0                                 0.0   \n16                        0.0                                 0.0   \n...                       ...                                 ...   \n3142                      0.0                                 0.0   \n3145                      0.0                                 0.0   \n3148                      0.0                                 0.0   \n3150                      0.0                                 0.0   \n3156                      0.0                                 0.0   \n\n      Neighborhood_north  Neighborhood_northeast  Neighborhood_northwest  \\\n3                    0.0                     0.0                     0.0   \n4                    0.0                     0.0                     0.0   \n7                    0.0                     1.0                     0.0   \n10                   0.0                     0.0                     0.0   \n16                   0.0                     0.0                     0.0   \n...                  ...                     ...                     ...   \n3142                 0.0                     0.0                     0.0   \n3145                 0.0                     0.0                     0.0   \n3148                 0.0                     0.0                     0.0   \n3150                 0.0                     0.0                     0.0   \n3156                 0.0                     0.0                     0.0   \n\n      Neighborhood_southeast  Neighborhood_southwest  \n3                        0.0                     0.0  \n4                        0.0                     0.0  \n7                        0.0                     0.0  \n10                       0.0                     0.0  \n16                       0.0                     0.0  \n...                      ...                     ...  \n3142                     0.0                     0.0  \n3145                     0.0                     0.0  \n3148                     0.0                     0.0  \n3150                     0.0                     0.0  \n3156                     0.0                     0.0  \n\n[948 rows x 48 columns]",
      "text/html": "<div>\n<style scoped>\n    .dataframe tbody tr th:only-of-type {\n        vertical-align: middle;\n    }\n\n    .dataframe tbody tr th {\n        vertical-align: top;\n    }\n\n    .dataframe thead th {\n        text-align: right;\n    }\n</style>\n<table border=\"1\" class=\"dataframe\">\n  <thead>\n    <tr style=\"text-align: right;\">\n      <th></th>\n      <th>Log-NumberofFloors</th>\n      <th>Log-PropertyGFATotal</th>\n      <th>Log-PropertyGFABuilding(s)</th>\n      <th>Log-SecondLargestPropertyUseTypeGFA</th>\n      <th>Log-ThirdLargestPropertyUseTypeGFA</th>\n      <th>BuildingType_Campus</th>\n      <th>BuildingType_Multifamily HR (10+)</th>\n      <th>BuildingType_Multifamily LR (1-4)</th>\n      <th>BuildingType_Multifamily MR (5-9)</th>\n      <th>BuildingType_NonResidential</th>\n      <th>...</th>\n      <th>Neighborhood_downtown</th>\n      <th>Neighborhood_east</th>\n      <th>Neighborhood_greater duwamish</th>\n      <th>Neighborhood_lake union</th>\n      <th>Neighborhood_magnolia / queen anne</th>\n      <th>Neighborhood_north</th>\n      <th>Neighborhood_northeast</th>\n      <th>Neighborhood_northwest</th>\n      <th>Neighborhood_southeast</th>\n      <th>Neighborhood_southwest</th>\n    </tr>\n  </thead>\n  <tbody>\n    <tr>\n      <th>3</th>\n      <td>2.126509</td>\n      <td>0.345834</td>\n      <td>0.425856</td>\n      <td>-0.959295</td>\n      <td>-0.452684</td>\n      <td>0.0</td>\n      <td>1.0</td>\n      <td>0.0</td>\n      <td>0.0</td>\n      <td>0.0</td>\n      <td>...</td>\n      <td>0.0</td>\n      <td>0.0</td>\n      <td>1.0</td>\n      <td>0.0</td>\n      <td>0.0</td>\n      <td>0.0</td>\n      <td>0.0</td>\n      <td>0.0</td>\n      <td>0.0</td>\n      <td>0.0</td>\n    </tr>\n    <tr>\n      <th>4</th>\n      <td>-0.287209</td>\n      <td>-0.468604</td>\n      <td>-0.685512</td>\n      <td>0.769366</td>\n      <td>-0.452684</td>\n      <td>0.0</td>\n      <td>0.0</td>\n      <td>1.0</td>\n      <td>0.0</td>\n      <td>0.0</td>\n      <td>...</td>\n      <td>0.0</td>\n      <td>0.0</td>\n      <td>1.0</td>\n      <td>0.0</td>\n      <td>0.0</td>\n      <td>0.0</td>\n      <td>0.0</td>\n      <td>0.0</td>\n      <td>0.0</td>\n      <td>0.0</td>\n    </tr>\n    <tr>\n      <th>7</th>\n      <td>-0.287209</td>\n      <td>0.909765</td>\n      <td>1.016436</td>\n      <td>1.039183</td>\n      <td>-0.452684</td>\n      <td>0.0</td>\n      <td>0.0</td>\n      <td>1.0</td>\n      <td>0.0</td>\n      <td>0.0</td>\n      <td>...</td>\n      <td>0.0</td>\n      <td>0.0</td>\n      <td>0.0</td>\n      <td>0.0</td>\n      <td>0.0</td>\n      <td>0.0</td>\n      <td>1.0</td>\n      <td>0.0</td>\n      <td>0.0</td>\n      <td>0.0</td>\n    </tr>\n    <tr>\n      <th>10</th>\n      <td>1.764982</td>\n      <td>0.552232</td>\n      <td>0.642008</td>\n      <td>-0.959295</td>\n      <td>-0.452684</td>\n      <td>0.0</td>\n      <td>0.0</td>\n      <td>0.0</td>\n      <td>0.0</td>\n      <td>1.0</td>\n      <td>...</td>\n      <td>1.0</td>\n      <td>0.0</td>\n      <td>0.0</td>\n      <td>0.0</td>\n      <td>0.0</td>\n      <td>0.0</td>\n      <td>0.0</td>\n      <td>0.0</td>\n      <td>0.0</td>\n      <td>0.0</td>\n    </tr>\n    <tr>\n      <th>16</th>\n      <td>-0.788100</td>\n      <td>-1.089379</td>\n      <td>-1.077182</td>\n      <td>0.876133</td>\n      <td>-0.452684</td>\n      <td>0.0</td>\n      <td>0.0</td>\n      <td>0.0</td>\n      <td>0.0</td>\n      <td>1.0</td>\n      <td>...</td>\n      <td>0.0</td>\n      <td>0.0</td>\n      <td>0.0</td>\n      <td>0.0</td>\n      <td>0.0</td>\n      <td>0.0</td>\n      <td>0.0</td>\n      <td>0.0</td>\n      <td>0.0</td>\n      <td>0.0</td>\n    </tr>\n    <tr>\n      <th>...</th>\n      <td>...</td>\n      <td>...</td>\n      <td>...</td>\n      <td>...</td>\n      <td>...</td>\n      <td>...</td>\n      <td>...</td>\n      <td>...</td>\n      <td>...</td>\n      <td>...</td>\n      <td>...</td>\n      <td>...</td>\n      <td>...</td>\n      <td>...</td>\n      <td>...</td>\n      <td>...</td>\n      <td>...</td>\n      <td>...</td>\n      <td>...</td>\n      <td>...</td>\n      <td>...</td>\n    </tr>\n    <tr>\n      <th>3142</th>\n      <td>0.687155</td>\n      <td>0.658263</td>\n      <td>0.753049</td>\n      <td>-0.959295</td>\n      <td>-0.452684</td>\n      <td>0.0</td>\n      <td>0.0</td>\n      <td>0.0</td>\n      <td>1.0</td>\n      <td>0.0</td>\n      <td>...</td>\n      <td>1.0</td>\n      <td>0.0</td>\n      <td>0.0</td>\n      <td>0.0</td>\n      <td>0.0</td>\n      <td>0.0</td>\n      <td>0.0</td>\n      <td>0.0</td>\n      <td>0.0</td>\n      <td>0.0</td>\n    </tr>\n    <tr>\n      <th>3145</th>\n      <td>2.515031</td>\n      <td>3.019734</td>\n      <td>3.010906</td>\n      <td>1.494665</td>\n      <td>-0.452684</td>\n      <td>0.0</td>\n      <td>1.0</td>\n      <td>0.0</td>\n      <td>0.0</td>\n      <td>0.0</td>\n      <td>...</td>\n      <td>0.0</td>\n      <td>1.0</td>\n      <td>0.0</td>\n      <td>0.0</td>\n      <td>0.0</td>\n      <td>0.0</td>\n      <td>0.0</td>\n      <td>0.0</td>\n      <td>0.0</td>\n      <td>0.0</td>\n    </tr>\n    <tr>\n      <th>3148</th>\n      <td>-0.287209</td>\n      <td>-0.653711</td>\n      <td>-0.620926</td>\n      <td>-0.959295</td>\n      <td>-0.452684</td>\n      <td>0.0</td>\n      <td>0.0</td>\n      <td>0.0</td>\n      <td>0.0</td>\n      <td>1.0</td>\n      <td>...</td>\n      <td>0.0</td>\n      <td>1.0</td>\n      <td>0.0</td>\n      <td>0.0</td>\n      <td>0.0</td>\n      <td>0.0</td>\n      <td>0.0</td>\n      <td>0.0</td>\n      <td>0.0</td>\n      <td>0.0</td>\n    </tr>\n    <tr>\n      <th>3150</th>\n      <td>0.418759</td>\n      <td>-0.044487</td>\n      <td>0.017089</td>\n      <td>-0.959295</td>\n      <td>-0.452684</td>\n      <td>0.0</td>\n      <td>0.0</td>\n      <td>0.0</td>\n      <td>1.0</td>\n      <td>0.0</td>\n      <td>...</td>\n      <td>0.0</td>\n      <td>1.0</td>\n      <td>0.0</td>\n      <td>0.0</td>\n      <td>0.0</td>\n      <td>0.0</td>\n      <td>0.0</td>\n      <td>0.0</td>\n      <td>0.0</td>\n      <td>0.0</td>\n    </tr>\n    <tr>\n      <th>3156</th>\n      <td>-1.494068</td>\n      <td>-1.261089</td>\n      <td>-1.257007</td>\n      <td>0.902852</td>\n      <td>1.675226</td>\n      <td>0.0</td>\n      <td>0.0</td>\n      <td>0.0</td>\n      <td>0.0</td>\n      <td>0.0</td>\n      <td>...</td>\n      <td>0.0</td>\n      <td>0.0</td>\n      <td>1.0</td>\n      <td>0.0</td>\n      <td>0.0</td>\n      <td>0.0</td>\n      <td>0.0</td>\n      <td>0.0</td>\n      <td>0.0</td>\n      <td>0.0</td>\n    </tr>\n  </tbody>\n</table>\n<p>948 rows × 48 columns</p>\n</div>"
     },
     "metadata": {},
     "output_type": "display_data"
    },
    {
     "name": "stdout",
     "output_type": "stream",
     "text": [
      "(2209,) (948,)\n"
     ]
    }
   ],
   "source": [
    "print(\"We can start now the modelling to predict the feature wanted.\")\n",
    "\n",
    "display(X_train_std_encoded)\n",
    "display(X_test_std_encoded)\n",
    "print(y_train.shape, y_test.shape)"
   ],
   "metadata": {
    "collapsed": false,
    "pycharm": {
     "name": "#%%\n"
    }
   }
  },
  {
   "cell_type": "code",
   "execution_count": 37,
   "outputs": [],
   "source": [
    "from sklearn.model_selection import GridSearchCV\n",
    "from sklearn.metrics import mean_squared_error"
   ],
   "metadata": {
    "collapsed": false,
    "pycharm": {
     "name": "#%%\n"
    }
   }
  },
  {
   "cell_type": "code",
   "execution_count": 38,
   "outputs": [
    {
     "name": "stdout",
     "output_type": "stream",
     "text": [
      "We rename X_train_std_encoded to X_train, the same for X_test.\n"
     ]
    },
    {
     "data": {
      "text/plain": "      Log-NumberofFloors  Log-PropertyGFATotal  Log-PropertyGFABuilding(s)  \\\n3               2.126509              0.345834                    0.425856   \n4              -0.287209             -0.468604                   -0.685512   \n7              -0.287209              0.909765                    1.016436   \n10              1.764982              0.552232                    0.642008   \n16             -0.788100             -1.089379                   -1.077182   \n...                  ...                   ...                         ...   \n3142            0.687155              0.658263                    0.753049   \n3145            2.515031              3.019734                    3.010906   \n3148           -0.287209             -0.653711                   -0.620926   \n3150            0.418759             -0.044487                    0.017089   \n3156           -1.494068             -1.261089                   -1.257007   \n\n      Log-SecondLargestPropertyUseTypeGFA  Log-ThirdLargestPropertyUseTypeGFA  \\\n3                               -0.959295                           -0.452684   \n4                                0.769366                           -0.452684   \n7                                1.039183                           -0.452684   \n10                              -0.959295                           -0.452684   \n16                               0.876133                           -0.452684   \n...                                   ...                                 ...   \n3142                            -0.959295                           -0.452684   \n3145                             1.494665                           -0.452684   \n3148                            -0.959295                           -0.452684   \n3150                            -0.959295                           -0.452684   \n3156                             0.902852                            1.675226   \n\n      BuildingType_Campus  BuildingType_Multifamily HR (10+)  \\\n3                     0.0                                1.0   \n4                     0.0                                0.0   \n7                     0.0                                0.0   \n10                    0.0                                0.0   \n16                    0.0                                0.0   \n...                   ...                                ...   \n3142                  0.0                                0.0   \n3145                  0.0                                1.0   \n3148                  0.0                                0.0   \n3150                  0.0                                0.0   \n3156                  0.0                                0.0   \n\n      BuildingType_Multifamily LR (1-4)  BuildingType_Multifamily MR (5-9)  \\\n3                                   0.0                                0.0   \n4                                   1.0                                0.0   \n7                                   1.0                                0.0   \n10                                  0.0                                0.0   \n16                                  0.0                                0.0   \n...                                 ...                                ...   \n3142                                0.0                                1.0   \n3145                                0.0                                0.0   \n3148                                0.0                                0.0   \n3150                                0.0                                1.0   \n3156                                0.0                                0.0   \n\n      BuildingType_NonResidential  ...  Neighborhood_downtown  \\\n3                             0.0  ...                    0.0   \n4                             0.0  ...                    0.0   \n7                             0.0  ...                    0.0   \n10                            1.0  ...                    1.0   \n16                            1.0  ...                    0.0   \n...                           ...  ...                    ...   \n3142                          0.0  ...                    1.0   \n3145                          0.0  ...                    0.0   \n3148                          1.0  ...                    0.0   \n3150                          0.0  ...                    0.0   \n3156                          0.0  ...                    0.0   \n\n      Neighborhood_east  Neighborhood_greater duwamish  \\\n3                   0.0                            1.0   \n4                   0.0                            1.0   \n7                   0.0                            0.0   \n10                  0.0                            0.0   \n16                  0.0                            0.0   \n...                 ...                            ...   \n3142                0.0                            0.0   \n3145                1.0                            0.0   \n3148                1.0                            0.0   \n3150                1.0                            0.0   \n3156                0.0                            1.0   \n\n      Neighborhood_lake union  Neighborhood_magnolia / queen anne  \\\n3                         0.0                                 0.0   \n4                         0.0                                 0.0   \n7                         0.0                                 0.0   \n10                        0.0                                 0.0   \n16                        0.0                                 0.0   \n...                       ...                                 ...   \n3142                      0.0                                 0.0   \n3145                      0.0                                 0.0   \n3148                      0.0                                 0.0   \n3150                      0.0                                 0.0   \n3156                      0.0                                 0.0   \n\n      Neighborhood_north  Neighborhood_northeast  Neighborhood_northwest  \\\n3                    0.0                     0.0                     0.0   \n4                    0.0                     0.0                     0.0   \n7                    0.0                     1.0                     0.0   \n10                   0.0                     0.0                     0.0   \n16                   0.0                     0.0                     0.0   \n...                  ...                     ...                     ...   \n3142                 0.0                     0.0                     0.0   \n3145                 0.0                     0.0                     0.0   \n3148                 0.0                     0.0                     0.0   \n3150                 0.0                     0.0                     0.0   \n3156                 0.0                     0.0                     0.0   \n\n      Neighborhood_southeast  Neighborhood_southwest  \n3                        0.0                     0.0  \n4                        0.0                     0.0  \n7                        0.0                     0.0  \n10                       0.0                     0.0  \n16                       0.0                     0.0  \n...                      ...                     ...  \n3142                     0.0                     0.0  \n3145                     0.0                     0.0  \n3148                     0.0                     0.0  \n3150                     0.0                     0.0  \n3156                     0.0                     0.0  \n\n[948 rows x 48 columns]",
      "text/html": "<div>\n<style scoped>\n    .dataframe tbody tr th:only-of-type {\n        vertical-align: middle;\n    }\n\n    .dataframe tbody tr th {\n        vertical-align: top;\n    }\n\n    .dataframe thead th {\n        text-align: right;\n    }\n</style>\n<table border=\"1\" class=\"dataframe\">\n  <thead>\n    <tr style=\"text-align: right;\">\n      <th></th>\n      <th>Log-NumberofFloors</th>\n      <th>Log-PropertyGFATotal</th>\n      <th>Log-PropertyGFABuilding(s)</th>\n      <th>Log-SecondLargestPropertyUseTypeGFA</th>\n      <th>Log-ThirdLargestPropertyUseTypeGFA</th>\n      <th>BuildingType_Campus</th>\n      <th>BuildingType_Multifamily HR (10+)</th>\n      <th>BuildingType_Multifamily LR (1-4)</th>\n      <th>BuildingType_Multifamily MR (5-9)</th>\n      <th>BuildingType_NonResidential</th>\n      <th>...</th>\n      <th>Neighborhood_downtown</th>\n      <th>Neighborhood_east</th>\n      <th>Neighborhood_greater duwamish</th>\n      <th>Neighborhood_lake union</th>\n      <th>Neighborhood_magnolia / queen anne</th>\n      <th>Neighborhood_north</th>\n      <th>Neighborhood_northeast</th>\n      <th>Neighborhood_northwest</th>\n      <th>Neighborhood_southeast</th>\n      <th>Neighborhood_southwest</th>\n    </tr>\n  </thead>\n  <tbody>\n    <tr>\n      <th>3</th>\n      <td>2.126509</td>\n      <td>0.345834</td>\n      <td>0.425856</td>\n      <td>-0.959295</td>\n      <td>-0.452684</td>\n      <td>0.0</td>\n      <td>1.0</td>\n      <td>0.0</td>\n      <td>0.0</td>\n      <td>0.0</td>\n      <td>...</td>\n      <td>0.0</td>\n      <td>0.0</td>\n      <td>1.0</td>\n      <td>0.0</td>\n      <td>0.0</td>\n      <td>0.0</td>\n      <td>0.0</td>\n      <td>0.0</td>\n      <td>0.0</td>\n      <td>0.0</td>\n    </tr>\n    <tr>\n      <th>4</th>\n      <td>-0.287209</td>\n      <td>-0.468604</td>\n      <td>-0.685512</td>\n      <td>0.769366</td>\n      <td>-0.452684</td>\n      <td>0.0</td>\n      <td>0.0</td>\n      <td>1.0</td>\n      <td>0.0</td>\n      <td>0.0</td>\n      <td>...</td>\n      <td>0.0</td>\n      <td>0.0</td>\n      <td>1.0</td>\n      <td>0.0</td>\n      <td>0.0</td>\n      <td>0.0</td>\n      <td>0.0</td>\n      <td>0.0</td>\n      <td>0.0</td>\n      <td>0.0</td>\n    </tr>\n    <tr>\n      <th>7</th>\n      <td>-0.287209</td>\n      <td>0.909765</td>\n      <td>1.016436</td>\n      <td>1.039183</td>\n      <td>-0.452684</td>\n      <td>0.0</td>\n      <td>0.0</td>\n      <td>1.0</td>\n      <td>0.0</td>\n      <td>0.0</td>\n      <td>...</td>\n      <td>0.0</td>\n      <td>0.0</td>\n      <td>0.0</td>\n      <td>0.0</td>\n      <td>0.0</td>\n      <td>0.0</td>\n      <td>1.0</td>\n      <td>0.0</td>\n      <td>0.0</td>\n      <td>0.0</td>\n    </tr>\n    <tr>\n      <th>10</th>\n      <td>1.764982</td>\n      <td>0.552232</td>\n      <td>0.642008</td>\n      <td>-0.959295</td>\n      <td>-0.452684</td>\n      <td>0.0</td>\n      <td>0.0</td>\n      <td>0.0</td>\n      <td>0.0</td>\n      <td>1.0</td>\n      <td>...</td>\n      <td>1.0</td>\n      <td>0.0</td>\n      <td>0.0</td>\n      <td>0.0</td>\n      <td>0.0</td>\n      <td>0.0</td>\n      <td>0.0</td>\n      <td>0.0</td>\n      <td>0.0</td>\n      <td>0.0</td>\n    </tr>\n    <tr>\n      <th>16</th>\n      <td>-0.788100</td>\n      <td>-1.089379</td>\n      <td>-1.077182</td>\n      <td>0.876133</td>\n      <td>-0.452684</td>\n      <td>0.0</td>\n      <td>0.0</td>\n      <td>0.0</td>\n      <td>0.0</td>\n      <td>1.0</td>\n      <td>...</td>\n      <td>0.0</td>\n      <td>0.0</td>\n      <td>0.0</td>\n      <td>0.0</td>\n      <td>0.0</td>\n      <td>0.0</td>\n      <td>0.0</td>\n      <td>0.0</td>\n      <td>0.0</td>\n      <td>0.0</td>\n    </tr>\n    <tr>\n      <th>...</th>\n      <td>...</td>\n      <td>...</td>\n      <td>...</td>\n      <td>...</td>\n      <td>...</td>\n      <td>...</td>\n      <td>...</td>\n      <td>...</td>\n      <td>...</td>\n      <td>...</td>\n      <td>...</td>\n      <td>...</td>\n      <td>...</td>\n      <td>...</td>\n      <td>...</td>\n      <td>...</td>\n      <td>...</td>\n      <td>...</td>\n      <td>...</td>\n      <td>...</td>\n      <td>...</td>\n    </tr>\n    <tr>\n      <th>3142</th>\n      <td>0.687155</td>\n      <td>0.658263</td>\n      <td>0.753049</td>\n      <td>-0.959295</td>\n      <td>-0.452684</td>\n      <td>0.0</td>\n      <td>0.0</td>\n      <td>0.0</td>\n      <td>1.0</td>\n      <td>0.0</td>\n      <td>...</td>\n      <td>1.0</td>\n      <td>0.0</td>\n      <td>0.0</td>\n      <td>0.0</td>\n      <td>0.0</td>\n      <td>0.0</td>\n      <td>0.0</td>\n      <td>0.0</td>\n      <td>0.0</td>\n      <td>0.0</td>\n    </tr>\n    <tr>\n      <th>3145</th>\n      <td>2.515031</td>\n      <td>3.019734</td>\n      <td>3.010906</td>\n      <td>1.494665</td>\n      <td>-0.452684</td>\n      <td>0.0</td>\n      <td>1.0</td>\n      <td>0.0</td>\n      <td>0.0</td>\n      <td>0.0</td>\n      <td>...</td>\n      <td>0.0</td>\n      <td>1.0</td>\n      <td>0.0</td>\n      <td>0.0</td>\n      <td>0.0</td>\n      <td>0.0</td>\n      <td>0.0</td>\n      <td>0.0</td>\n      <td>0.0</td>\n      <td>0.0</td>\n    </tr>\n    <tr>\n      <th>3148</th>\n      <td>-0.287209</td>\n      <td>-0.653711</td>\n      <td>-0.620926</td>\n      <td>-0.959295</td>\n      <td>-0.452684</td>\n      <td>0.0</td>\n      <td>0.0</td>\n      <td>0.0</td>\n      <td>0.0</td>\n      <td>1.0</td>\n      <td>...</td>\n      <td>0.0</td>\n      <td>1.0</td>\n      <td>0.0</td>\n      <td>0.0</td>\n      <td>0.0</td>\n      <td>0.0</td>\n      <td>0.0</td>\n      <td>0.0</td>\n      <td>0.0</td>\n      <td>0.0</td>\n    </tr>\n    <tr>\n      <th>3150</th>\n      <td>0.418759</td>\n      <td>-0.044487</td>\n      <td>0.017089</td>\n      <td>-0.959295</td>\n      <td>-0.452684</td>\n      <td>0.0</td>\n      <td>0.0</td>\n      <td>0.0</td>\n      <td>1.0</td>\n      <td>0.0</td>\n      <td>...</td>\n      <td>0.0</td>\n      <td>1.0</td>\n      <td>0.0</td>\n      <td>0.0</td>\n      <td>0.0</td>\n      <td>0.0</td>\n      <td>0.0</td>\n      <td>0.0</td>\n      <td>0.0</td>\n      <td>0.0</td>\n    </tr>\n    <tr>\n      <th>3156</th>\n      <td>-1.494068</td>\n      <td>-1.261089</td>\n      <td>-1.257007</td>\n      <td>0.902852</td>\n      <td>1.675226</td>\n      <td>0.0</td>\n      <td>0.0</td>\n      <td>0.0</td>\n      <td>0.0</td>\n      <td>0.0</td>\n      <td>...</td>\n      <td>0.0</td>\n      <td>0.0</td>\n      <td>1.0</td>\n      <td>0.0</td>\n      <td>0.0</td>\n      <td>0.0</td>\n      <td>0.0</td>\n      <td>0.0</td>\n      <td>0.0</td>\n      <td>0.0</td>\n    </tr>\n  </tbody>\n</table>\n<p>948 rows × 48 columns</p>\n</div>"
     },
     "execution_count": 38,
     "metadata": {},
     "output_type": "execute_result"
    }
   ],
   "source": [
    "print(\"We rename X_train_std_encoded to X_train, the same for X_test.\")\n",
    "X_train = X_train_std_encoded.copy()\n",
    "X_test = X_test_std_encoded.copy()\n",
    "\n",
    "X_train\n",
    "X_test"
   ],
   "metadata": {
    "collapsed": false,
    "pycharm": {
     "name": "#%%\n"
    }
   }
  },
  {
   "cell_type": "markdown",
   "source": [
    "### 1) Linear modelling : Linear Regression / Ridge Regression / Lasso / Elastic Net\n"
   ],
   "metadata": {
    "collapsed": false,
    "pycharm": {
     "name": "#%% md\n"
    }
   }
  },
  {
   "cell_type": "code",
   "execution_count": 39,
   "outputs": [
    {
     "data": {
      "text/plain": "(2209, 48)"
     },
     "execution_count": 39,
     "metadata": {},
     "output_type": "execute_result"
    }
   ],
   "source": [
    "X_train.shape"
   ],
   "metadata": {
    "collapsed": false,
    "pycharm": {
     "name": "#%%\n"
    }
   }
  },
  {
   "cell_type": "code",
   "execution_count": 40,
   "outputs": [
    {
     "data": {
      "text/plain": "(948, 48)"
     },
     "execution_count": 40,
     "metadata": {},
     "output_type": "execute_result"
    }
   ],
   "source": [
    "X_test.shape"
   ],
   "metadata": {
    "collapsed": false,
    "pycharm": {
     "name": "#%%\n"
    }
   }
  },
  {
   "cell_type": "markdown",
   "source": [
    "#### 1) Dummy Regression : baseline"
   ],
   "metadata": {
    "collapsed": false,
    "pycharm": {
     "name": "#%% md\n"
    }
   }
  },
  {
   "cell_type": "code",
   "execution_count": 41,
   "outputs": [],
   "source": [
    "from sklearn.metrics import mean_absolute_error, r2_score, mean_squared_error, median_absolute_error\n",
    "\n",
    "pd.set_option('display.float_format', lambda x: '%.5f' % x)\n",
    "\n",
    "global results\n",
    "results = pd.DataFrame({})\n",
    "\n",
    "def evaluate_regression(model_name, results, y_test, y_pred):\n",
    "    print(\"Prediction for : \", variable_to_predict)\n",
    "    mse = mean_squared_error(y_test, y_pred)\n",
    "    rmse = np.sqrt(mean_squared_error(y_test, y_pred))\n",
    "    mae = mean_absolute_error(y_test,y_pred)\n",
    "    median_ae = median_absolute_error(y_test, y_pred)\n",
    "    r2 = r2_score(y_test, y_pred)\n",
    "\n",
    "    #print(\"RMSE : {:.2f}\".format(rmse))\n",
    "    #print(\"MAE : {:.2f}\".format(mae))\n",
    "    #print(\"MSE : {:.2f}\".format(mse))\n",
    "    #print(\"R² : {:.2f}\".format(r2))\n",
    "    results = pd.concat([results, pd.DataFrame({\"Model\" : [model_name],\n",
    "                               \"RMSE\" : [rmse],\n",
    "                                \"MSE\": [mse],\n",
    "                                \"MAE\" : [mae],\n",
    "                                \"Median Absolute Error\": [median_ae],\n",
    "                               \"R² = 1 - RSE\" : [r2]})])\n",
    "    display(results)\n",
    "\n",
    "    # 2) graph\n",
    "    plt.title(\"Scatter plot of the predicted values as a function of the true values.\")\n",
    "    plt.legend(\"If the prediction was good, we would see a line.\")\n",
    "    plt.figure(0)\n",
    "    plt.scatter(y_test, y_pred, color='coral')\n",
    "\n",
    "    plt.title(\"Distribution of the prediction errors\")\n",
    "    err_hist = np.abs(y_test - y_pred)\n",
    "    plt.figure(1)\n",
    "    plt.hist(err_hist, bins=50, color='steelblue')\n",
    "\n",
    "    return  results\n"
   ],
   "metadata": {
    "collapsed": false,
    "pycharm": {
     "name": "#%%\n"
    }
   }
  },
  {
   "cell_type": "code",
   "execution_count": 42,
   "outputs": [],
   "source": [
    "def display_prediction(y_test, y_pred):\n",
    "    #plt.scatter(y_test, y_pred, color='coral')\n",
    "\n",
    "    sizes = {} # clé : coordonnées ; valeur : nombre de points à ces coordonnées\n",
    "    for (yt, yp) in zip(list(y_test), list(y_pred)):\n",
    "        if (yt, yp) in sizes:\n",
    "            sizes[(yt, yp)] += 1\n",
    "        else:\n",
    "            sizes[(yt, yp)] = 1\n",
    "\n",
    "    keys = sizes.keys()\n",
    "    plt.scatter(\n",
    "        [k[0] for k in keys], # vraie valeur (abscisse)\n",
    "        [k[1] for k in keys], # valeur predite (ordonnee)\n",
    "        s=[sizes[k] for k in keys], # taille du marqueur\n",
    "        color='coral', alpha =0.8)\n"
   ],
   "metadata": {
    "collapsed": false,
    "pycharm": {
     "name": "#%%\n"
    }
   }
  },
  {
   "cell_type": "code",
   "execution_count": 43,
   "outputs": [
    {
     "name": "stdout",
     "output_type": "stream",
     "text": [
      "Prediction for :  Log-Electricity(kBtu)\n"
     ]
    },
    {
     "data": {
      "text/plain": "             Model    RMSE     MSE     MAE  Median Absolute Error  \\\n0  Dummy Regressor 1.19957 1.43897 0.93551                0.75529   \n\n   R² = 1 - RSE  \n0      -0.00482  ",
      "text/html": "<div>\n<style scoped>\n    .dataframe tbody tr th:only-of-type {\n        vertical-align: middle;\n    }\n\n    .dataframe tbody tr th {\n        vertical-align: top;\n    }\n\n    .dataframe thead th {\n        text-align: right;\n    }\n</style>\n<table border=\"1\" class=\"dataframe\">\n  <thead>\n    <tr style=\"text-align: right;\">\n      <th></th>\n      <th>Model</th>\n      <th>RMSE</th>\n      <th>MSE</th>\n      <th>MAE</th>\n      <th>Median Absolute Error</th>\n      <th>R² = 1 - RSE</th>\n    </tr>\n  </thead>\n  <tbody>\n    <tr>\n      <th>0</th>\n      <td>Dummy Regressor</td>\n      <td>1.19957</td>\n      <td>1.43897</td>\n      <td>0.93551</td>\n      <td>0.75529</td>\n      <td>-0.00482</td>\n    </tr>\n  </tbody>\n</table>\n</div>"
     },
     "metadata": {},
     "output_type": "display_data"
    },
    {
     "data": {
      "text/plain": "<Figure size 432x288 with 1 Axes>",
      "image/png": "[encoded data removed]"
     },
     "metadata": {
      "needs_background": "light"
     },
     "output_type": "display_data"
    },
    {
     "data": {
      "text/plain": "<Figure size 432x288 with 1 Axes>",
      "image/png": "[encoded data removed]"
     },
     "metadata": {
      "needs_background": "light"
     },
     "output_type": "display_data"
    }
   ],
   "source": [
    "from sklearn import dummy\n",
    "\n",
    "# 0) We create a dummy regressor model that always predicts the mean value of the feature to predict\n",
    "dum = dummy.DummyRegressor(strategy='mean')\n",
    "\n",
    "# 1) Training Dummy Regression\n",
    "dum.fit(X_train, y_train)\n",
    "\n",
    "# 2) Prediction on the testing set\n",
    "y_pred_dum = dum.predict(X_test)\n",
    "\n",
    "# 3) Evaluate\n",
    "results = evaluate_regression(\"Dummy Regressor\", results, y_test, y_pred_dum)"
   ],
   "metadata": {
    "collapsed": false,
    "pycharm": {
     "name": "#%%\n"
    }
   }
  },
  {
   "cell_type": "code",
   "execution_count": 67,
   "outputs": [
    {
     "name": "stdout",
     "output_type": "stream",
     "text": [
      "R2 : -0.033648522972320905\n",
      "Baseline error = MSE : 1.438972208813029\n",
      "Prediction for :  Log-Electricity(kBtu)\n"
     ]
    },
    {
     "data": {
      "text/plain": "               Model    RMSE     MSE     MAE  Median Absolute Error  \\\n0    Dummy Regressor 1.19957 1.43897 0.93551                0.75529   \n0  Linear Regression 1.21666 1.48025 0.94763                0.76414   \n0  Linear Regression 1.21666 1.48025 0.94763                0.76414   \n\n   R² = 1 - RSE  \n0      -0.00482  \n0      -0.03365  \n0      -0.03365  ",
      "text/html": "<div>\n<style scoped>\n    .dataframe tbody tr th:only-of-type {\n        vertical-align: middle;\n    }\n\n    .dataframe tbody tr th {\n        vertical-align: top;\n    }\n\n    .dataframe thead th {\n        text-align: right;\n    }\n</style>\n<table border=\"1\" class=\"dataframe\">\n  <thead>\n    <tr style=\"text-align: right;\">\n      <th></th>\n      <th>Model</th>\n      <th>RMSE</th>\n      <th>MSE</th>\n      <th>MAE</th>\n      <th>Median Absolute Error</th>\n      <th>R² = 1 - RSE</th>\n    </tr>\n  </thead>\n  <tbody>\n    <tr>\n      <th>0</th>\n      <td>Dummy Regressor</td>\n      <td>1.19957</td>\n      <td>1.43897</td>\n      <td>0.93551</td>\n      <td>0.75529</td>\n      <td>-0.00482</td>\n    </tr>\n    <tr>\n      <th>0</th>\n      <td>Linear Regression</td>\n      <td>1.21666</td>\n      <td>1.48025</td>\n      <td>0.94763</td>\n      <td>0.76414</td>\n      <td>-0.03365</td>\n    </tr>\n    <tr>\n      <th>0</th>\n      <td>Linear Regression</td>\n      <td>1.21666</td>\n      <td>1.48025</td>\n      <td>0.94763</td>\n      <td>0.76414</td>\n      <td>-0.03365</td>\n    </tr>\n  </tbody>\n</table>\n</div>"
     },
     "metadata": {},
     "output_type": "display_data"
    },
    {
     "data": {
      "text/plain": "<Figure size 432x288 with 1 Axes>",
      "image/png": "[encoded data removed]"
     },
     "metadata": {
      "needs_background": "light"
     },
     "output_type": "display_data"
    },
    {
     "data": {
      "text/plain": "<Figure size 432x288 with 1 Axes>",
      "image/png": "[encoded data removed]"
     },
     "metadata": {
      "needs_background": "light"
     },
     "output_type": "display_data"
    }
   ],
   "source": [
    "from sklearn import linear_model\n",
    "\n",
    "# 0) We create a linear regression model\n",
    "lr = linear_model.LinearRegression()\n",
    "\n",
    "# 1) Training Linear Regression and Evaluating\n",
    "reg = lr.fit(X_train, y_train)\n",
    "y_pred_lr = reg.predict(X_test)\n",
    "\n",
    "prediction_score = lr.score(X_test, y_test)\n",
    "print('R2 : {}'.format(prediction_score))\n",
    "\n",
    "results = evaluate_regression(\"Linear Regression\", results, y_test, y_pred_lr)"
   ],
   "metadata": {
    "collapsed": false,
    "pycharm": {
     "name": "#%%\n"
    }
   }
  },
  {
   "cell_type": "code",
   "execution_count": 101,
   "outputs": [
    {
     "name": "stdout",
     "output_type": "stream",
     "text": [
      "Baseline error = MSE from Dummy Regressor : 1.438972208813029\n"
     ]
    }
   ],
   "source": [
    "baseline_error = mean_squared_error(y_test, y_pred_dum)\n",
    "print(\"Baseline error = MSE from Dummy Regressor :\", baseline_error)"
   ],
   "metadata": {
    "collapsed": false,
    "pycharm": {
     "name": "#%%\n"
    }
   }
  },
  {
   "cell_type": "markdown",
   "source": [
    "#### 2) Linear Model : Ridge"
   ],
   "metadata": {
    "collapsed": false,
    "pycharm": {
     "name": "#%% md\n"
    }
   }
  },
  {
   "cell_type": "code",
   "execution_count": 48,
   "outputs": [],
   "source": [
    "# Setting evaluation metric for regression\n",
    "scoring = 'r2'"
   ],
   "metadata": {
    "collapsed": false,
    "pycharm": {
     "name": "#%%\n"
    }
   }
  },
  {
   "cell_type": "markdown",
   "source": [
    "##### 2.1) Trying Ridge Regression / Manual optimisation hyperparameter"
   ],
   "metadata": {
    "collapsed": false,
    "pycharm": {
     "name": "#%% md\n"
    }
   }
  },
  {
   "cell_type": "markdown",
   "source": [
    "##### 1. Searching for the best hyperparameter alpha"
   ],
   "metadata": {
    "collapsed": false,
    "pycharm": {
     "name": "#%% md\n"
    }
   }
  },
  {
   "cell_type": "code",
   "execution_count": 135,
   "outputs": [],
   "source": [
    "n_alphas = 1000 # hyperparametre alpha\n",
    "alphas = np.logspace(2, 5, n_alphas)\n",
    "\n",
    "ridge = linear_model.Ridge()\n",
    "\n",
    "coefs = []\n",
    "errors = []\n",
    "for a in alphas:\n",
    "    ridge.set_params(alpha=a)\n",
    "    ridge.fit(X_train, y_train)\n",
    "    y_pred_ridge = ridge.predict(X_test)\n",
    "    coefs.append(ridge.coef_)\n",
    "    errors.append(np.mean((y_pred_ridge - y_test) ** 2))\n",
    "    #print(\"HERE :\", np.mean(( - y_test) ** 2), \"MSE :\", mean_squared_error(y_test, ridge.predict(X_test)))"
   ],
   "metadata": {
    "collapsed": false,
    "pycharm": {
     "name": "#%%\n"
    }
   }
  },
  {
   "cell_type": "markdown",
   "source": [
    "##### 2. Visualizing optimisation of alpha"
   ],
   "metadata": {
    "collapsed": false,
    "pycharm": {
     "name": "#%% md\n"
    }
   }
  },
  {
   "cell_type": "code",
   "execution_count": 156,
   "outputs": [
    {
     "name": "stdout",
     "output_type": "stream",
     "text": [
      "Minimum Mean Squared Error for Ridge Regression : 1.4386000231205016\n",
      "Best alpha for that minimal MSE :  4184.288507901585\n"
     ]
    },
    {
     "data": {
      "text/plain": "(70.79457843841381, 141253.75446227554, 1.4383115329100682, 1.4446583175396044)"
     },
     "execution_count": 156,
     "metadata": {},
     "output_type": "execute_result"
    },
    {
     "data": {
      "text/plain": "<Figure size 432x288 with 1 Axes>",
      "image/png": "[encoded data removed]"
     },
     "metadata": {
      "needs_background": "light"
     },
     "output_type": "display_data"
    }
   ],
   "source": [
    "# recupere l'erreur min\n",
    "print(\"Minimum Mean Squared Error for Ridge Regression :\", errors[np.argmin(errors)])\n",
    "print(\"Best alpha for that minimal MSE : \", alphas[np.argmin(errors)])\n",
    "\n",
    "#Observation of the error behaviour\n",
    "ax = plt.gca()\n",
    "ax.plot(alphas, errors, [10**2, 10**5], [baseline_error, baseline_error])\n",
    "ax.set_xscale('log')\n",
    "\n",
    "plt.xlabel('alpha : hyperparameter')\n",
    "plt.ylabel('error : MSE')\n",
    "plt.axis('tight')"
   ],
   "metadata": {
    "collapsed": false,
    "pycharm": {
     "name": "#%%\n"
    }
   }
  },
  {
   "cell_type": "code",
   "execution_count": 98,
   "outputs": [
    {
     "data": {
      "text/plain": "(70.79457843841381,\n 141253.75446227554,\n -0.09176544913924178,\n 0.12341886397620741)"
     },
     "execution_count": 98,
     "metadata": {},
     "output_type": "execute_result"
    },
    {
     "data": {
      "text/plain": "<Figure size 432x288 with 1 Axes>",
      "image/png": "[encoded data removed]"
     },
     "metadata": {
      "needs_background": "light"
     },
     "output_type": "display_data"
    }
   ],
   "source": [
    "# chemin de régularisation\n",
    "ax = plt.gca()\n",
    "\n",
    "# line with alpha associated to the min error\n",
    "min_alpha = alphas[np.argmin(errors)]\n",
    "plt.axvline(x=min_alpha, color='b', label='axvline - full height')\n",
    "\n",
    "ax.plot(alphas, coefs)\n",
    "ax.set_xscale('log')\n",
    "plt.xlabel('alpha')\n",
    "plt.ylabel('weights')\n",
    "plt.title('Ridge coefficients as a function of the regularization')\n",
    "plt.axis('tight')"
   ],
   "metadata": {
    "collapsed": false,
    "pycharm": {
     "name": "#%%\n"
    }
   }
  },
  {
   "cell_type": "markdown",
   "source": [
    "##### 3. Using best value of the hyperparameter alpha"
   ],
   "metadata": {
    "collapsed": false,
    "pycharm": {
     "name": "#%% md\n"
    }
   }
  },
  {
   "cell_type": "code",
   "execution_count": 140,
   "outputs": [
    {
     "name": "stdout",
     "output_type": "stream",
     "text": [
      "Getting y_pred for the best alpha :  4184.288507901585\n"
     ]
    }
   ],
   "source": [
    "print(\"Getting y_pred for the best alpha : \", min_alpha)\n",
    "ridge.set_params(alpha=min_alpha)\n",
    "ridge.fit(X_train, y_train)\n",
    "y_pred_ridge = ridge.predict(X_test)\n",
    "\n",
    "# 3) Evaluate\n",
    "results = evaluate_regression(\"Ridge manually\", results, y_test, y_pred_ridge)"
   ],
   "metadata": {
    "collapsed": false,
    "pycharm": {
     "name": "#%%\n"
    }
   }
  },
  {
   "cell_type": "markdown",
   "source": [
    "##### 2.2) Optimization of hyperparameters"
   ],
   "metadata": {
    "collapsed": false,
    "pycharm": {
     "name": "#%% md\n"
    }
   }
  },
  {
   "cell_type": "raw",
   "source": [
    "param_grid_ridge[0].keys()"
   ],
   "metadata": {
    "collapsed": false,
    "pycharm": {
     "name": "#%% raw\n"
    }
   }
  },
  {
   "cell_type": "code",
   "execution_count": 144,
   "outputs": [],
   "source": [
    "# define the model/ estimator\n",
    "model = linear_model.Ridge()\n",
    "params = {\"alpha\": np.logspace(-2, -1, n_alphas)} # alpha > 0\n",
    "scoring = \"neg_mean_squared_error\"\n",
    "\n",
    "# define the grid search\n",
    "Ridge_reg = GridSearchCV(\n",
    "    model, params, scoring=scoring,\n",
    "    cv=5,\n",
    "    n_jobs=-1,\n",
    "    return_train_score=True,\n",
    "    verbose=1)\n",
    "\n",
    "#fit the grid search\n",
    "Ridge_reg.fit(X_train.values, y_train)"
   ],
   "metadata": {
    "collapsed": false,
    "pycharm": {
     "name": "#%%\n"
    }
   }
  },
  {
   "cell_type": "code",
   "execution_count": 146,
   "outputs": [
    {
     "name": "stdout",
     "output_type": "stream",
     "text": [
      "Best estimator : Ridge(alpha=0.1)\n"
     ]
    },
    {
     "data": {
      "text/plain": "Ridge(alpha=0.1)",
      "text/html": "<style>#sk-container-id-15 {color: black;background-color: white;}#sk-container-id-15 pre{padding: 0;}#sk-container-id-15 div.sk-toggleable {background-color: white;}#sk-container-id-15 label.sk-toggleable__label {cursor: pointer;display: block;width: 100%;margin-bottom: 0;padding: 0.3em;box-sizing: border-box;text-align: center;}#sk-container-id-15 label.sk-toggleable__label-arrow:before {content: \"▸\";float: left;margin-right: 0.25em;color: #696969;}#sk-container-id-15 label.sk-toggleable__label-arrow:hover:before {color: black;}#sk-container-id-15 div.sk-estimator:hover label.sk-toggleable__label-arrow:before {color: black;}#sk-container-id-15 div.sk-toggleable__content {max-height: 0;max-width: 0;overflow: hidden;text-align: left;background-color: #f0f8ff;}#sk-container-id-15 div.sk-toggleable__content pre {margin: 0.2em;color: black;border-radius: 0.25em;background-color: #f0f8ff;}#sk-container-id-15 input.sk-toggleable__control:checked~div.sk-toggleable__content {max-height: 200px;max-width: 100%;overflow: auto;}#sk-container-id-15 input.sk-toggleable__control:checked~label.sk-toggleable__label-arrow:before {content: \"▾\";}#sk-container-id-15 div.sk-estimator input.sk-toggleable__control:checked~label.sk-toggleable__label {background-color: #d4ebff;}#sk-container-id-15 div.sk-label input.sk-toggleable__control:checked~label.sk-toggleable__label {background-color: #d4ebff;}#sk-container-id-15 input.sk-hidden--visually {border: 0;clip: rect(1px 1px 1px 1px);clip: rect(1px, 1px, 1px, 1px);height: 1px;margin: -1px;overflow: hidden;padding: 0;position: absolute;width: 1px;}#sk-container-id-15 div.sk-estimator {font-family: monospace;background-color: #f0f8ff;border: 1px dotted black;border-radius: 0.25em;box-sizing: border-box;margin-bottom: 0.5em;}#sk-container-id-15 div.sk-estimator:hover {background-color: #d4ebff;}#sk-container-id-15 div.sk-parallel-item::after {content: \"\";width: 100%;border-bottom: 1px solid gray;flex-grow: 1;}#sk-container-id-15 div.sk-label:hover label.sk-toggleable__label {background-color: #d4ebff;}#sk-container-id-15 div.sk-serial::before {content: \"\";position: absolute;border-left: 1px solid gray;box-sizing: border-box;top: 0;bottom: 0;left: 50%;z-index: 0;}#sk-container-id-15 div.sk-serial {display: flex;flex-direction: column;align-items: center;background-color: white;padding-right: 0.2em;padding-left: 0.2em;position: relative;}#sk-container-id-15 div.sk-item {position: relative;z-index: 1;}#sk-container-id-15 div.sk-parallel {display: flex;align-items: stretch;justify-content: center;background-color: white;position: relative;}#sk-container-id-15 div.sk-item::before, #sk-container-id-15 div.sk-parallel-item::before {content: \"\";position: absolute;border-left: 1px solid gray;box-sizing: border-box;top: 0;bottom: 0;left: 50%;z-index: -1;}#sk-container-id-15 div.sk-parallel-item {display: flex;flex-direction: column;z-index: 1;position: relative;background-color: white;}#sk-container-id-15 div.sk-parallel-item:first-child::after {align-self: flex-end;width: 50%;}#sk-container-id-15 div.sk-parallel-item:last-child::after {align-self: flex-start;width: 50%;}#sk-container-id-15 div.sk-parallel-item:only-child::after {width: 0;}#sk-container-id-15 div.sk-dashed-wrapped {border: 1px dashed gray;margin: 0 0.4em 0.5em 0.4em;box-sizing: border-box;padding-bottom: 0.4em;background-color: white;}#sk-container-id-15 div.sk-label label {font-family: monospace;font-weight: bold;display: inline-block;line-height: 1.2em;}#sk-container-id-15 div.sk-label-container {text-align: center;}#sk-container-id-15 div.sk-container {/* jupyter's `normalize.less` sets `[hidden] { display: none; }` but bootstrap.min.css set `[hidden] { display: none !important; }` so we also need the `!important` here to be able to override the default hidden behavior on the sphinx rendered scikit-learn.org. See: https://github.com/scikit-learn/scikit-learn/issues/21755 */display: inline-block !important;position: relative;}#sk-container-id-15 div.sk-text-repr-fallback {display: none;}</style><div id=\"sk-container-id-15\" class=\"sk-top-container\"><div class=\"sk-text-repr-fallback\"><pre>Ridge(alpha=0.1)</pre><b>In a Jupyter environment, please rerun this cell to show the HTML representation or trust the notebook. <br />On GitHub, the HTML representation is unable to render, please try loading this page with nbviewer.org.</b></div><div class=\"sk-container\" hidden><div class=\"sk-item\"><div class=\"sk-estimator sk-toggleable\"><input class=\"sk-toggleable__control sk-hidden--visually\" id=\"sk-estimator-id-29\" type=\"checkbox\" checked><label for=\"sk-estimator-id-29\" class=\"sk-toggleable__label sk-toggleable__label-arrow\">Ridge</label><div class=\"sk-toggleable__content\"><pre>Ridge(alpha=0.1)</pre></div></div></div></div></div>"
     },
     "execution_count": 146,
     "metadata": {},
     "output_type": "execute_result"
    }
   ],
   "source": [
    "# best estimator\n",
    "print(\"Best estimator :\", Ridge_reg.best_estimator_)\n",
    "\n",
    "# best model\n",
    "best_model = Ridge_reg.best_estimator_\n",
    "best_model.fit(X_train.values, y_train)\n",
    "\n",
    "y_pred_ridge = best_model.predict(X_test.values)\n",
    "\n",
    "# 3) Evaluate\n",
    "results = evaluate_regression(\"Ridge GridSearchCV\", results, y_test, y_pred_ridge)"
   ],
   "metadata": {
    "collapsed": false,
    "pycharm": {
     "name": "#%%\n"
    }
   }
  },
  {
   "cell_type": "code",
   "execution_count": 150,
   "outputs": [
    {
     "name": "stdout",
     "output_type": "stream",
     "text": [
      "QUESTION MENTOR : pourquoi optimisation alpha manuelle meilleure ??? \n"
     ]
    }
   ],
   "source": [
    "print(\"QUESTION MENTOR : pourquoi optimisation alpha manuelle meilleure ??? \")"
   ],
   "metadata": {
    "collapsed": false,
    "pycharm": {
     "name": "#%%\n"
    }
   }
  },
  {
   "cell_type": "markdown",
   "source": [
    "#### 3) Linear Model : LASSO"
   ],
   "metadata": {
    "collapsed": false,
    "pycharm": {
     "name": "#%% md\n"
    }
   }
  },
  {
   "cell_type": "markdown",
   "source": [
    "##### 3.1) Trying LASSO Regression / Manual optimisation hyperparameter"
   ],
   "metadata": {
    "collapsed": false,
    "pycharm": {
     "name": "#%% md\n"
    }
   }
  },
  {
   "cell_type": "markdown",
   "source": [
    "##### 1. Searching for the best hyperparameter alpha"
   ],
   "metadata": {
    "collapsed": false,
    "pycharm": {
     "name": "#%% md\n"
    }
   }
  },
  {
   "cell_type": "code",
   "execution_count": 173,
   "outputs": [],
   "source": [
    "n_alphas = 1000  # hyperparametre alpha\n",
    "alphas = np.logspace(-2, -1, n_alphas)\n",
    "\n",
    "lasso = linear_model.Lasso()\n",
    "\n",
    "coefs = []\n",
    "errors = []\n",
    "for a in alphas:\n",
    "    lasso.set_params(alpha=a)\n",
    "    lasso.fit(X_train, y_train)\n",
    "    y_pred_lasso = lasso.predict(X_test)\n",
    "    coefs.append(lasso.coef_)\n",
    "    errors.append(np.mean((y_pred_lasso - y_test) ** 2))\n",
    "    #print(\"HERE :\", np.mean((lasso.predict(X_test) - y_test) ** 2), \"MSE :\", mean_squared_error(y_test, lasso.predict(X_test)))"
   ],
   "metadata": {
    "collapsed": false,
    "pycharm": {
     "name": "#%%\n"
    }
   }
  },
  {
   "cell_type": "markdown",
   "source": [
    "##### 2. Visualizing optimisation of alpha"
   ],
   "metadata": {
    "collapsed": false,
    "pycharm": {
     "name": "#%% md\n"
    }
   }
  },
  {
   "cell_type": "code",
   "execution_count": 174,
   "outputs": [
    {
     "name": "stdout",
     "output_type": "stream",
     "text": [
      "Minimum Mean Squared Error for LASSO Regression : 1.4385616272233415\n",
      "Best alpha for that minimal MSE :  0.01291549665014884\n"
     ]
    },
    {
     "data": {
      "text/plain": "(0.008912509381337459,\n 0.11220184543019636,\n 1.438521561138697,\n 1.439403015000875)"
     },
     "execution_count": 174,
     "metadata": {},
     "output_type": "execute_result"
    },
    {
     "data": {
      "text/plain": "<Figure size 432x288 with 1 Axes>",
      "image/png": "[encoded data removed]"
     },
     "metadata": {
      "needs_background": "light"
     },
     "output_type": "display_data"
    }
   ],
   "source": [
    "# recupere l'erreur min\n",
    "print(\"Minimum Mean Squared Error for LASSO Regression :\", errors[np.argmin(errors)])\n",
    "print(\"Best alpha for that minimal MSE : \", alphas[np.argmin(errors)])\n",
    "\n",
    "#Observation of the error behaviour\n",
    "ax = plt.gca()\n",
    "ax.plot(alphas, errors, [10**-2, 10**-1], [baseline_error, baseline_error])\n",
    "ax.set_xscale('log')\n",
    "\n",
    "plt.xlabel('alpha : hyperparameter')\n",
    "plt.ylabel('error : MSE')\n",
    "plt.axis('tight')"
   ],
   "metadata": {
    "collapsed": false,
    "pycharm": {
     "name": "#%%\n"
    }
   }
  },
  {
   "cell_type": "code",
   "execution_count": 175,
   "outputs": [
    {
     "data": {
      "text/plain": "(0.008912509381337459,\n 0.11220184543019636,\n -0.02377317768492499,\n 0.007488522133236726)"
     },
     "execution_count": 175,
     "metadata": {},
     "output_type": "execute_result"
    },
    {
     "data": {
      "text/plain": "<Figure size 432x288 with 1 Axes>",
      "image/png": "[encoded data removed]"
     },
     "metadata": {
      "needs_background": "light"
     },
     "output_type": "display_data"
    }
   ],
   "source": [
    "# chemin de régularisation\n",
    "ax = plt.gca()\n",
    "\n",
    "# line with alpha associated to the min error\n",
    "min_alpha = alphas[np.argmin(errors)]\n",
    "plt.axvline(x=min_alpha, color='b', label='axvline - full height')\n",
    "\n",
    "ax.plot(alphas, coefs)\n",
    "ax.set_xscale('log')\n",
    "plt.xlabel('alpha')\n",
    "plt.ylabel('weights')\n",
    "plt.title('LASSO coefficients as a function of the regularization')\n",
    "plt.axis('tight')"
   ],
   "metadata": {
    "collapsed": false,
    "pycharm": {
     "name": "#%%\n"
    }
   }
  },
  {
   "cell_type": "markdown",
   "source": [
    "##### 3. Using best value of the hyperparameter alpha"
   ],
   "metadata": {
    "collapsed": false,
    "pycharm": {
     "name": "#%% md\n"
    }
   }
  },
  {
   "cell_type": "code",
   "execution_count": 181,
   "outputs": [
    {
     "name": "stdout",
     "output_type": "stream",
     "text": [
      "Getting y_pred for the best alpha :  0.01291549665014884\n",
      "Prediction for :  Log-Electricity(kBtu)\n"
     ]
    },
    {
     "data": {
      "text/plain": "                      Model    RMSE     MSE     MAE  Median Absolute Error  \\\n0           Dummy Regressor 1.19957 1.43897 0.93551                0.75529   \n0         Linear Regression 1.21666 1.48025 0.94763                0.76414   \n0         Linear Regression 1.21666 1.48025 0.94763                0.76414   \n0           Ridge Regressor 1.19955 1.43892 0.93550                0.75520   \n0           Ridge Regressor 1.19955 1.43892 0.93550                0.75520   \n0  Ridge Regressor Manually 1.19942 1.43860 0.93554                0.75111   \n0           Ridge Regressor 1.19955 1.43892 0.93550                0.75520   \n0           Ridge Regressor 1.19945 1.43867 0.93550                0.75132   \n0  Ridge Regressor Manually 1.19955 1.43892 0.93550                0.75520   \n0           Ridge Regressor 1.21642 1.47968 0.94742                0.76423   \n0            LASSO manually 1.19940 1.43856 0.93554                0.75355   \n0            LASSO manually 1.19940 1.43856 0.93554                0.75361   \n0            LASSO manually 1.19940 1.43856 0.93554                0.75361   \n0           Lasso Regressor 1.19957 1.43897 0.93551                0.75529   \n0           Lasso Regressor 1.19957 1.43897 0.93551                0.75529   \n0            LASSO manually 1.19940 1.43856 0.93554                0.75361   \n\n   R² = 1 - RSE  \n0      -0.00482  \n0      -0.03365  \n0      -0.03365  \n0      -0.00478  \n0      -0.00478  \n0      -0.00456  \n0      -0.00478  \n0      -0.00461  \n0      -0.00478  \n0      -0.03325  \n0      -0.00454  \n0      -0.00454  \n0      -0.00454  \n0      -0.00482  \n0      -0.00482  \n0      -0.00454  ",
      "text/html": "<div>\n<style scoped>\n    .dataframe tbody tr th:only-of-type {\n        vertical-align: middle;\n    }\n\n    .dataframe tbody tr th {\n        vertical-align: top;\n    }\n\n    .dataframe thead th {\n        text-align: right;\n    }\n</style>\n<table border=\"1\" class=\"dataframe\">\n  <thead>\n    <tr style=\"text-align: right;\">\n      <th></th>\n      <th>Model</th>\n      <th>RMSE</th>\n      <th>MSE</th>\n      <th>MAE</th>\n      <th>Median Absolute Error</th>\n      <th>R² = 1 - RSE</th>\n    </tr>\n  </thead>\n  <tbody>\n    <tr>\n      <th>0</th>\n      <td>Dummy Regressor</td>\n      <td>1.19957</td>\n      <td>1.43897</td>\n      <td>0.93551</td>\n      <td>0.75529</td>\n      <td>-0.00482</td>\n    </tr>\n    <tr>\n      <th>0</th>\n      <td>Linear Regression</td>\n      <td>1.21666</td>\n      <td>1.48025</td>\n      <td>0.94763</td>\n      <td>0.76414</td>\n      <td>-0.03365</td>\n    </tr>\n    <tr>\n      <th>0</th>\n      <td>Linear Regression</td>\n      <td>1.21666</td>\n      <td>1.48025</td>\n      <td>0.94763</td>\n      <td>0.76414</td>\n      <td>-0.03365</td>\n    </tr>\n    <tr>\n      <th>0</th>\n      <td>Ridge Regressor</td>\n      <td>1.19955</td>\n      <td>1.43892</td>\n      <td>0.93550</td>\n      <td>0.75520</td>\n      <td>-0.00478</td>\n    </tr>\n    <tr>\n      <th>0</th>\n      <td>Ridge Regressor</td>\n      <td>1.19955</td>\n      <td>1.43892</td>\n      <td>0.93550</td>\n      <td>0.75520</td>\n      <td>-0.00478</td>\n    </tr>\n    <tr>\n      <th>0</th>\n      <td>Ridge Regressor Manually</td>\n      <td>1.19942</td>\n      <td>1.43860</td>\n      <td>0.93554</td>\n      <td>0.75111</td>\n      <td>-0.00456</td>\n    </tr>\n    <tr>\n      <th>0</th>\n      <td>Ridge Regressor</td>\n      <td>1.19955</td>\n      <td>1.43892</td>\n      <td>0.93550</td>\n      <td>0.75520</td>\n      <td>-0.00478</td>\n    </tr>\n    <tr>\n      <th>0</th>\n      <td>Ridge Regressor</td>\n      <td>1.19945</td>\n      <td>1.43867</td>\n      <td>0.93550</td>\n      <td>0.75132</td>\n      <td>-0.00461</td>\n    </tr>\n    <tr>\n      <th>0</th>\n      <td>Ridge Regressor Manually</td>\n      <td>1.19955</td>\n      <td>1.43892</td>\n      <td>0.93550</td>\n      <td>0.75520</td>\n      <td>-0.00478</td>\n    </tr>\n    <tr>\n      <th>0</th>\n      <td>Ridge Regressor</td>\n      <td>1.21642</td>\n      <td>1.47968</td>\n      <td>0.94742</td>\n      <td>0.76423</td>\n      <td>-0.03325</td>\n    </tr>\n    <tr>\n      <th>0</th>\n      <td>LASSO manually</td>\n      <td>1.19940</td>\n      <td>1.43856</td>\n      <td>0.93554</td>\n      <td>0.75355</td>\n      <td>-0.00454</td>\n    </tr>\n    <tr>\n      <th>0</th>\n      <td>LASSO manually</td>\n      <td>1.19940</td>\n      <td>1.43856</td>\n      <td>0.93554</td>\n      <td>0.75361</td>\n      <td>-0.00454</td>\n    </tr>\n    <tr>\n      <th>0</th>\n      <td>LASSO manually</td>\n      <td>1.19940</td>\n      <td>1.43856</td>\n      <td>0.93554</td>\n      <td>0.75361</td>\n      <td>-0.00454</td>\n    </tr>\n    <tr>\n      <th>0</th>\n      <td>Lasso Regressor</td>\n      <td>1.19957</td>\n      <td>1.43897</td>\n      <td>0.93551</td>\n      <td>0.75529</td>\n      <td>-0.00482</td>\n    </tr>\n    <tr>\n      <th>0</th>\n      <td>Lasso Regressor</td>\n      <td>1.19957</td>\n      <td>1.43897</td>\n      <td>0.93551</td>\n      <td>0.75529</td>\n      <td>-0.00482</td>\n    </tr>\n    <tr>\n      <th>0</th>\n      <td>LASSO manually</td>\n      <td>1.19940</td>\n      <td>1.43856</td>\n      <td>0.93554</td>\n      <td>0.75361</td>\n      <td>-0.00454</td>\n    </tr>\n  </tbody>\n</table>\n</div>"
     },
     "metadata": {},
     "output_type": "display_data"
    },
    {
     "data": {
      "text/plain": "<Figure size 432x288 with 1 Axes>",
      "image/png": "[encoded data removed]"
     },
     "metadata": {
      "needs_background": "light"
     },
     "output_type": "display_data"
    },
    {
     "data": {
      "text/plain": "<Figure size 432x288 with 1 Axes>",
      "image/png": "[encoded data removed]"
     },
     "metadata": {
      "needs_background": "light"
     },
     "output_type": "display_data"
    }
   ],
   "source": [
    "print(\"Getting y_pred for the best alpha : \", min_alpha)\n",
    "lasso.set_params(alpha=min_alpha)\n",
    "lasso.fit(X_train, y_train)\n",
    "y_pred_lasso = lasso.predict(X_test)\n",
    "\n",
    "# 3) Evaluate\n",
    "results = evaluate_regression(\"LASSO manually\", results, y_test, y_pred_lasso)"
   ],
   "metadata": {
    "collapsed": false,
    "pycharm": {
     "name": "#%%\n"
    }
   }
  },
  {
   "cell_type": "code",
   "execution_count": 182,
   "outputs": [
    {
     "data": {
      "text/plain": "array([14.16203817, 14.13244654, 14.12782776, 14.16203817, 14.13061889,\n       14.12555981, 14.16203817, 14.16203817, 14.16203817, 14.16203817,\n       14.12785033, 14.16203817, 14.13024766, 14.16203817, 14.13245923,\n       14.11727166, 14.1288276 , 14.16203817, 14.16203817, 14.12312929,\n       14.16203817, 14.13080578, 14.12689467, 14.16203817, 14.12792623,\n       14.12787677, 14.16203817, 14.12994317, 14.12896949, 14.16203817,\n       14.16203817, 14.16203817, 14.12697589, 14.12952861, 14.16203817,\n       14.13084373, 14.13388425, 14.16203817, 14.16203817, 14.16203817,\n       14.16203817, 14.16203817, 14.16203817, 14.16203817, 14.16203817,\n       14.12614704, 14.16203817, 14.16203817, 14.13715133, 14.13435623,\n       14.13174417, 14.13197303, 14.16203817, 14.16203817, 14.16203817,\n       14.16203817, 14.16203817, 14.16203817, 14.13507715, 14.13349261,\n       14.13141627, 14.16203817, 14.16203817, 14.16203817, 14.16203817,\n       14.16203817, 14.13116992, 14.13079835, 14.12639247, 14.13753387,\n       14.1291508 , 14.16203817, 14.16203817, 14.16203817, 14.12621632,\n       14.12466714, 14.16203817, 14.16203817, 14.16203817, 14.16203817,\n       14.13129096, 14.16203817, 14.12838847, 14.13318541, 14.13753387,\n       14.13285408, 14.12744675, 14.16203817, 14.16203817, 14.16203817,\n       14.16203817, 14.133413  , 14.16203817, 14.12947451, 14.16203817,\n       14.16203817, 14.12958958, 14.16203817, 14.13118468, 14.1310884 ,\n       14.12642355, 14.16203817, 14.13213631, 14.16203817, 14.13441751,\n       14.12886093, 14.13085288, 14.13385901, 14.16203817, 14.16203817,\n       14.16203817, 14.16203817, 14.1298002 , 14.16203817, 14.16203817,\n       14.16203817, 14.16203817, 14.16203817, 14.16203817, 14.16203817,\n       14.16203817, 14.16203817, 14.16203817, 14.16203817, 14.13698965,\n       14.16203817, 14.16203817, 14.16203817, 14.16203817, 14.16203817,\n       14.16203817, 14.16203817, 14.16203817, 14.16203817, 14.16203817,\n       14.16203817, 14.16203817, 14.12315773, 14.16203817, 14.13261955,\n       14.133602  , 14.13244654, 14.16203817, 14.12658866, 14.16203817,\n       14.16203817, 14.16203817, 14.132896  , 14.12052581, 14.16203817,\n       14.1281541 , 14.12011415, 14.16203817, 14.13328239, 14.16203817,\n       14.12457539, 14.16203817, 14.16203817, 14.16203817, 14.13103242,\n       14.16203817, 14.13274405, 14.16203817, 14.16203817, 14.16203817,\n       14.12566941, 14.13263733, 14.13136985, 14.12969955, 14.16203817,\n       14.12843966, 14.16203817, 14.16203817, 14.16203817, 14.13065538,\n       14.16203817, 14.13113067, 14.16203817, 14.16203817, 14.12923105,\n       14.12793214, 14.13832444, 14.13215182, 14.16203817, 14.16203817,\n       14.16203817, 14.16203817, 14.16203817, 14.12671858, 14.16203817,\n       14.13039039, 14.12923105, 14.13753387, 14.13038802, 14.12718833,\n       14.16203817, 14.13073578, 14.16203817, 14.12728551, 14.16203817,\n       14.13016151, 14.13221769, 14.16203817, 14.16203817, 14.16203817,\n       14.13001008, 14.16203817, 14.16203817, 14.16203817, 14.16203817,\n       14.12518279, 14.12835182, 14.16203817, 14.16203817, 14.16203817,\n       14.13192898, 14.1236792 , 14.16203817, 14.16203817, 14.16203817,\n       14.13253372, 14.16203817, 14.16203817, 14.16203817, 14.13135989,\n       14.16203817, 14.16203817, 14.16203817, 14.16203817, 14.12334659,\n       14.12885909, 14.16203817, 14.16203817, 14.16203817, 14.16203817,\n       14.16203817, 14.16203817, 14.16203817, 14.12950901, 14.16203817,\n       14.12704095, 14.12830633, 14.16203817, 14.16203817, 14.16203817,\n       14.13237881, 14.16203817, 14.16203817, 14.16203817, 14.12674149,\n       14.16203817, 14.16203817, 14.16203817, 14.16203817, 14.12279354,\n       14.16203817, 14.16203817, 14.16203817, 14.16203817, 14.12661254,\n       14.16203817, 14.16203817, 14.16203817, 14.16203817, 14.12349571,\n       14.13032526, 14.16203817, 14.13386404, 14.16203817, 14.16203817,\n       14.16203817, 14.16203817, 14.16203817, 14.16203817, 14.12850519,\n       14.16203817, 14.12590039, 14.16203817, 14.16203817, 14.16203817,\n       14.13350056, 14.12749115, 14.12864058, 14.12547377, 14.16203817,\n       14.12416343, 14.12594237, 14.16203817, 14.12405148, 14.13128122,\n       14.16203817, 14.16203817, 14.13283425, 14.12454323, 14.16203817,\n       14.12729083, 14.16203817, 14.16203817, 14.16203817, 14.16203817,\n       14.12221737, 14.13143781, 14.16203817, 14.13010609, 14.12098025,\n       14.12405806, 14.16203817, 14.16203817, 14.1302851 , 14.11982271,\n       14.12581333, 14.12937014, 14.12626519, 14.12276759, 14.16203817,\n       14.16203817, 14.16203817, 14.12737369, 14.16203817, 14.16203817,\n       14.12862272, 14.16203817, 14.13129645, 14.12699472, 14.16203817,\n       14.16203817, 14.12374039, 14.16203817, 14.12440202, 14.16203817,\n       14.16203817, 14.16203817, 14.13066763, 14.16203817, 14.12599525,\n       14.16203817, 14.16203817, 14.16203817, 14.16203817, 14.13080844,\n       14.16203817, 14.13063506, 14.16203817, 14.16203817, 14.16203817,\n       14.12997668, 14.16203817, 14.16203817, 14.12032659, 14.16203817,\n       14.13200569, 14.16203817, 14.12939148, 14.16203817, 14.12509353,\n       14.16203817, 14.13140493, 14.16203817, 14.12594953, 14.12395157,\n       14.16203817, 14.16203817, 14.16203817, 14.13131543, 14.12724087,\n       14.16203817, 14.16203817, 14.13456629, 14.16203817, 14.12767498,\n       14.16203817, 14.16203817, 14.16203817, 14.13498962, 14.16203817,\n       14.12691183, 14.13045095, 14.16203817, 14.16203817, 14.16203817,\n       14.16203817, 14.12750999, 14.16203817, 14.12283661, 14.12673879,\n       14.16203817, 14.1296755 , 14.16203817, 14.13009694, 14.16203817,\n       14.16203817, 14.13076403, 14.16203817, 14.16203817, 14.12899939,\n       14.12883888, 14.12111686, 14.13191878, 14.16203817, 14.16203817,\n       14.16203817, 14.16203817, 14.12628342, 14.16203817, 14.16203817,\n       14.12341984, 14.16203817, 14.16203817, 14.16203817, 14.12705661,\n       14.16203817, 14.13180354, 14.16203817, 14.13242802, 14.16203817,\n       14.13069845, 14.16203817, 14.13079517, 14.16203817, 14.12854431,\n       14.16203817, 14.16203817, 14.16203817, 14.16203817, 14.14112186,\n       14.16203817, 14.13322305, 14.16203817, 14.13586817, 14.13228158,\n       14.16203817, 14.16203817, 14.16203817, 14.13210473, 14.16203817,\n       14.16203817, 14.16203817, 14.16203817, 14.12962446, 14.12496678,\n       14.16203817, 14.13428605, 14.16203817, 14.1315488 , 14.13008954,\n       14.16203817, 14.16203817, 14.16203817, 14.16203817, 14.16203817,\n       14.12765919, 14.16203817, 14.16203817, 14.11987117, 14.12239057,\n       14.16203817, 14.1270679 , 14.16203817, 14.16203817, 14.16203817,\n       14.12073144, 14.12922832, 14.16203817, 14.12822657, 14.12669782,\n       14.16203817, 14.12281878, 14.11733017, 14.12637368, 14.16203817,\n       14.12995737, 14.12178832, 14.12120354, 14.16203817, 14.16203817,\n       14.12270692, 14.12835341, 14.13128609, 14.16203817, 14.16203817,\n       14.16203817, 14.1277483 , 14.16203817, 14.11934289, 14.12172621,\n       14.12139366, 14.12705661, 14.16203817, 14.13130012, 14.12862071,\n       14.16203817, 14.12925259, 14.12495746, 14.12466799, 14.16203817,\n       14.16203817, 14.13201914, 14.16203817, 14.16203817, 14.11753528,\n       14.12677358, 14.12637292, 14.16203817, 14.16203817, 14.12963897,\n       14.16203817, 14.16203817, 14.16203817, 14.13238295, 14.16203817,\n       14.16203817, 14.16203817, 14.12165489, 14.16203817, 14.12789357,\n       14.12316629, 14.12903212, 14.12204625, 14.16203817, 14.12499848,\n       14.12389938, 14.12204643, 14.16203817, 14.16203817, 14.12369191,\n       14.16203817, 14.12839762, 14.12772526, 14.13586817, 14.12673879,\n       14.13026953, 14.13401319, 14.12903212, 14.16203817, 14.13272482,\n       14.12945957, 14.13024221, 14.13182827, 14.16203817, 14.16203817,\n       14.16203817, 14.16203817, 14.13609693, 14.13219481, 14.16203817,\n       14.16203817, 14.16203817, 14.16203817, 14.13124915, 14.16203817,\n       14.16203817, 14.16203817, 14.13051796, 14.16203817, 14.16203817,\n       14.16203817, 14.1259521 , 14.16203817, 14.12900163, 14.1310087 ,\n       14.13271934, 14.16203817, 14.16203817, 14.16203817, 14.12793214,\n       14.16203817, 14.16203817, 14.16203817, 14.16203817, 14.13118173,\n       14.12482712, 14.13853421, 14.16203817, 14.16203817, 14.13053516,\n       14.13304574, 14.1190848 , 14.16203817, 14.13130195, 14.13485057,\n       14.16203817, 14.16203817, 14.12946393, 14.12444537, 14.16203817,\n       14.12847365, 14.16203817, 14.12846237, 14.12232156, 14.16203817,\n       14.16203817, 14.16203817, 14.12547377, 14.16203817, 14.13182827,\n       14.12469931, 14.16203817, 14.16203817, 14.12506433, 14.11821486,\n       14.11901047, 14.12717112, 14.16203817, 14.12248719, 14.12549832,\n       14.12410477, 14.16203817, 14.12548976, 14.12035043, 14.11842245,\n       14.12556793, 14.1195118 , 14.12045905, 14.12934963, 14.16203817,\n       14.16203817, 14.12451479, 14.16203817, 14.1256936 , 14.13183324,\n       14.12633986, 14.12935492, 14.12824589, 14.12316013, 14.12373365,\n       14.12177997, 14.16203817, 14.12540516, 14.13363962, 14.16203817,\n       14.16203817, 14.16203817, 14.16203817, 14.12793214, 14.11974831,\n       14.16203817, 14.16203817, 14.16203817, 14.12485164, 14.12473628,\n       14.16203817, 14.12072298, 14.12095364, 14.12457062, 14.16203817,\n       14.12025274, 14.16203817, 14.16203817, 14.16203817, 14.16203817,\n       14.16203817, 14.16203817, 14.16203817, 14.16203817, 14.12653404,\n       14.1206637 , 14.12793214, 14.12142704, 14.12618498, 14.13253286,\n       14.16203817, 14.16203817, 14.13067993, 14.16203817, 14.12279854,\n       14.16203817, 14.13402687, 14.12628639, 14.16203817, 14.16203817,\n       14.13009911, 14.12717399, 14.11961527, 14.16203817, 14.122476  ,\n       14.13336784, 14.12568255, 14.12199477, 14.12854768, 14.16203817,\n       14.16203817, 14.12035884, 14.13571214, 14.12789287, 14.12997626,\n       14.12451109, 14.12265426, 14.12120354, 14.16203817, 14.12246521,\n       14.12568079, 14.12586061, 14.12845059, 14.12164286, 14.12226662,\n       14.14156775, 14.12131457, 14.16203817, 14.11894322, 14.16203817,\n       14.11925464, 14.12667253, 14.16203817, 14.16203817, 14.12090502,\n       14.16203817, 14.12712789, 14.16203817, 14.12527313, 14.16203817,\n       14.16203817, 14.13012534, 14.16203817, 14.13428605, 14.13182827,\n       14.16203817, 14.16203817, 14.16203817, 14.13653127, 14.16203817,\n       14.16203817, 14.16203817, 14.16203817, 14.13106659, 14.120996  ,\n       14.16203817, 14.16203817, 14.16203817, 14.16203817, 14.16203817,\n       14.13118173, 14.16203817, 14.16203817, 14.16203817, 14.16203817,\n       14.13328881, 14.13550223, 14.16203817, 14.16203817, 14.16203817,\n       14.12109808, 14.16203817, 14.12691183, 14.16203817, 14.16203817,\n       14.11748033, 14.13100927, 14.12764607, 14.16203817, 14.16203817,\n       14.12577027, 14.1278784 , 14.16203817, 14.13348808, 14.13168647,\n       14.12411733, 14.16203817, 14.16203817, 14.16203817, 14.16203817,\n       14.16203817, 14.16203817, 14.16203817, 14.12872353, 14.16203817,\n       14.13720905, 14.16203817, 14.16203817, 14.12841654, 14.16203817,\n       14.16203817, 14.12919576, 14.16203817, 14.16203817, 14.16203817,\n       14.16203817, 14.13408214, 14.16203817, 14.16203817, 14.16203817,\n       14.16203817, 14.13459093, 14.12872353, 14.16203817, 14.12723115,\n       14.16203817, 14.13065335, 14.16203817, 14.16203817, 14.13034342,\n       14.16203817, 14.16203817, 14.16203817, 14.16203817, 14.16203817,\n       14.16203817, 14.16203817, 14.1306063 , 14.16203817, 14.16203817,\n       14.13744638, 14.16203817, 14.16203817, 14.16203817, 14.16203817,\n       14.16203817, 14.16203817, 14.16203817, 14.12875918, 14.16203817,\n       14.16203817, 14.16203817, 14.12915814, 14.16203817, 14.16203817,\n       14.16203817, 14.16203817, 14.13655001, 14.16203817, 14.16203817,\n       14.13306378, 14.16203817, 14.16203817, 14.12950643, 14.13261955,\n       14.13182827, 14.12835874, 14.16203817, 14.16203817, 14.16203817,\n       14.16203817, 14.1300826 , 14.13170971, 14.16203817, 14.16203817,\n       14.16203817, 14.13068609, 14.15814156, 14.16203817, 14.13039039,\n       14.16203817, 14.13063506, 14.13387792, 14.16203817, 14.13244654,\n       14.16203817, 14.12564352, 14.16203817, 14.13108035, 14.16203817,\n       14.12524797, 14.16203817, 14.16203817, 14.13299315, 14.16203817,\n       14.16203817, 14.12928603, 14.13164581, 14.16203817, 14.13451449,\n       14.1303341 , 14.13217051, 14.16203817, 14.16203817, 14.16203817,\n       14.12776496, 14.12777919, 14.16203817, 14.13667016, 14.16203817,\n       14.16203817, 14.13016151, 14.13182827, 14.12808357, 14.13118173,\n       14.1240993 , 14.16203817, 14.16203817, 14.12937014, 14.12416965,\n       14.16203817, 14.16203817, 14.16203817, 14.16203817, 14.16203817,\n       14.12345125, 14.12512982, 14.16203817, 14.12956028, 14.12915514,\n       14.12399112, 14.16203817, 14.12911333, 14.16203817, 14.16203817,\n       14.12858018, 14.16203817, 14.16203817, 14.16203817, 14.11947294,\n       14.16203817, 14.16203817, 14.16203817, 14.12668016, 14.13182827,\n       14.13016151, 14.16203817, 14.16203817, 14.16203817, 14.16203817,\n       14.16203817, 14.13220189, 14.16203817, 14.13157644, 14.16203817,\n       14.16203817, 14.16203817, 14.16203817, 14.13007394, 14.134147  ,\n       14.13082017, 14.12479905, 14.16203817, 14.16203817, 14.16203817,\n       14.13276985, 14.1232916 , 14.16203817, 14.13998882, 14.13934333,\n       14.16203817, 14.16203817, 14.16203817, 14.12846979, 14.16203817,\n       14.16203817, 14.16203817, 14.16203817, 14.16203817, 14.12505981,\n       14.12503235, 14.16203817, 14.12777942, 14.16203817, 14.12003072,\n       14.16203817, 14.16203817, 14.13016151])"
     },
     "execution_count": 182,
     "metadata": {},
     "output_type": "execute_result"
    }
   ],
   "source": [
    "y_pred_lasso"
   ],
   "metadata": {
    "collapsed": false,
    "pycharm": {
     "name": "#%%\n"
    }
   }
  },
  {
   "cell_type": "markdown",
   "source": [
    "##### 3.2) Optimization of hyperparameters"
   ],
   "metadata": {
    "collapsed": false,
    "pycharm": {
     "name": "#%% md\n"
    }
   }
  },
  {
   "cell_type": "code",
   "execution_count": 179,
   "outputs": [
    {
     "name": "stdout",
     "output_type": "stream",
     "text": [
      "Fitting 5 folds for each of 10000 candidates, totalling 50000 fits\n",
      "Best estimator : Lasso(alpha=0.052344600213237495)\n",
      "Prediction for :  Log-Electricity(kBtu)\n"
     ]
    },
    {
     "data": {
      "text/plain": "                      Model    RMSE     MSE     MAE  Median Absolute Error  \\\n0           Dummy Regressor 1.19957 1.43897 0.93551                0.75529   \n0         Linear Regression 1.21666 1.48025 0.94763                0.76414   \n0         Linear Regression 1.21666 1.48025 0.94763                0.76414   \n0           Ridge Regressor 1.19955 1.43892 0.93550                0.75520   \n0           Ridge Regressor 1.19955 1.43892 0.93550                0.75520   \n0  Ridge Regressor Manually 1.19942 1.43860 0.93554                0.75111   \n0           Ridge Regressor 1.19955 1.43892 0.93550                0.75520   \n0           Ridge Regressor 1.19945 1.43867 0.93550                0.75132   \n0  Ridge Regressor Manually 1.19955 1.43892 0.93550                0.75520   \n0           Ridge Regressor 1.21642 1.47968 0.94742                0.76423   \n0            LASSO manually 1.19940 1.43856 0.93554                0.75355   \n0            LASSO manually 1.19940 1.43856 0.93554                0.75361   \n0            LASSO manually 1.19940 1.43856 0.93554                0.75361   \n0           Lasso Regressor 1.19957 1.43897 0.93551                0.75529   \n0           Lasso Regressor 1.19957 1.43897 0.93551                0.75529   \n\n   R² = 1 - RSE  \n0      -0.00482  \n0      -0.03365  \n0      -0.03365  \n0      -0.00478  \n0      -0.00478  \n0      -0.00456  \n0      -0.00478  \n0      -0.00461  \n0      -0.00478  \n0      -0.03325  \n0      -0.00454  \n0      -0.00454  \n0      -0.00454  \n0      -0.00482  \n0      -0.00482  ",
      "text/html": "<div>\n<style scoped>\n    .dataframe tbody tr th:only-of-type {\n        vertical-align: middle;\n    }\n\n    .dataframe tbody tr th {\n        vertical-align: top;\n    }\n\n    .dataframe thead th {\n        text-align: right;\n    }\n</style>\n<table border=\"1\" class=\"dataframe\">\n  <thead>\n    <tr style=\"text-align: right;\">\n      <th></th>\n      <th>Model</th>\n      <th>RMSE</th>\n      <th>MSE</th>\n      <th>MAE</th>\n      <th>Median Absolute Error</th>\n      <th>R² = 1 - RSE</th>\n    </tr>\n  </thead>\n  <tbody>\n    <tr>\n      <th>0</th>\n      <td>Dummy Regressor</td>\n      <td>1.19957</td>\n      <td>1.43897</td>\n      <td>0.93551</td>\n      <td>0.75529</td>\n      <td>-0.00482</td>\n    </tr>\n    <tr>\n      <th>0</th>\n      <td>Linear Regression</td>\n      <td>1.21666</td>\n      <td>1.48025</td>\n      <td>0.94763</td>\n      <td>0.76414</td>\n      <td>-0.03365</td>\n    </tr>\n    <tr>\n      <th>0</th>\n      <td>Linear Regression</td>\n      <td>1.21666</td>\n      <td>1.48025</td>\n      <td>0.94763</td>\n      <td>0.76414</td>\n      <td>-0.03365</td>\n    </tr>\n    <tr>\n      <th>0</th>\n      <td>Ridge Regressor</td>\n      <td>1.19955</td>\n      <td>1.43892</td>\n      <td>0.93550</td>\n      <td>0.75520</td>\n      <td>-0.00478</td>\n    </tr>\n    <tr>\n      <th>0</th>\n      <td>Ridge Regressor</td>\n      <td>1.19955</td>\n      <td>1.43892</td>\n      <td>0.93550</td>\n      <td>0.75520</td>\n      <td>-0.00478</td>\n    </tr>\n    <tr>\n      <th>0</th>\n      <td>Ridge Regressor Manually</td>\n      <td>1.19942</td>\n      <td>1.43860</td>\n      <td>0.93554</td>\n      <td>0.75111</td>\n      <td>-0.00456</td>\n    </tr>\n    <tr>\n      <th>0</th>\n      <td>Ridge Regressor</td>\n      <td>1.19955</td>\n      <td>1.43892</td>\n      <td>0.93550</td>\n      <td>0.75520</td>\n      <td>-0.00478</td>\n    </tr>\n    <tr>\n      <th>0</th>\n      <td>Ridge Regressor</td>\n      <td>1.19945</td>\n      <td>1.43867</td>\n      <td>0.93550</td>\n      <td>0.75132</td>\n      <td>-0.00461</td>\n    </tr>\n    <tr>\n      <th>0</th>\n      <td>Ridge Regressor Manually</td>\n      <td>1.19955</td>\n      <td>1.43892</td>\n      <td>0.93550</td>\n      <td>0.75520</td>\n      <td>-0.00478</td>\n    </tr>\n    <tr>\n      <th>0</th>\n      <td>Ridge Regressor</td>\n      <td>1.21642</td>\n      <td>1.47968</td>\n      <td>0.94742</td>\n      <td>0.76423</td>\n      <td>-0.03325</td>\n    </tr>\n    <tr>\n      <th>0</th>\n      <td>LASSO manually</td>\n      <td>1.19940</td>\n      <td>1.43856</td>\n      <td>0.93554</td>\n      <td>0.75355</td>\n      <td>-0.00454</td>\n    </tr>\n    <tr>\n      <th>0</th>\n      <td>LASSO manually</td>\n      <td>1.19940</td>\n      <td>1.43856</td>\n      <td>0.93554</td>\n      <td>0.75361</td>\n      <td>-0.00454</td>\n    </tr>\n    <tr>\n      <th>0</th>\n      <td>LASSO manually</td>\n      <td>1.19940</td>\n      <td>1.43856</td>\n      <td>0.93554</td>\n      <td>0.75361</td>\n      <td>-0.00454</td>\n    </tr>\n    <tr>\n      <th>0</th>\n      <td>Lasso Regressor</td>\n      <td>1.19957</td>\n      <td>1.43897</td>\n      <td>0.93551</td>\n      <td>0.75529</td>\n      <td>-0.00482</td>\n    </tr>\n    <tr>\n      <th>0</th>\n      <td>Lasso Regressor</td>\n      <td>1.19957</td>\n      <td>1.43897</td>\n      <td>0.93551</td>\n      <td>0.75529</td>\n      <td>-0.00482</td>\n    </tr>\n  </tbody>\n</table>\n</div>"
     },
     "metadata": {},
     "output_type": "display_data"
    },
    {
     "data": {
      "text/plain": "<Figure size 432x288 with 1 Axes>",
      "image/png": "[encoded data removed]"
     },
     "metadata": {
      "needs_background": "light"
     },
     "output_type": "display_data"
    },
    {
     "data": {
      "text/plain": "<Figure size 432x288 with 1 Axes>",
      "image/png": "[encoded data removed]"
     },
     "metadata": {
      "needs_background": "light"
     },
     "output_type": "display_data"
    }
   ],
   "source": [
    "n_alphas = 10000\n",
    "params = {\"alpha\": np.logspace(-2, 2, n_alphas)}\n",
    "\n",
    "# define the model/ estimator\n",
    "model = linear_model.Lasso()\n",
    "\n",
    "# define the grid search\n",
    "Lasso_reg = GridSearchCV(\n",
    "    model, params, scoring=scoring,\n",
    "    cv=5,\n",
    "    n_jobs=-1,\n",
    "    return_train_score=True,\n",
    "    verbose=1)\n",
    "\n",
    "#fit the grid search\n",
    "Lasso_reg.fit(X_train.values, y_train)\n",
    "\n",
    "# best estimator\n",
    "print(\"Best estimator :\", Lasso_reg.best_estimator_)\n",
    "\n",
    "# best model\n",
    "best_model = Lasso_reg.best_estimator_\n",
    "best_model.fit(X_train.values, y_train)\n",
    "\n",
    "y_pred_lasso = best_model.predict(X_test.values)\n",
    "\n",
    "# 3) Evaluate\n",
    "results = evaluate_regression(\"Lasso Regressor\", results, y_test, y_pred_lasso)"
   ],
   "metadata": {
    "collapsed": false,
    "pycharm": {
     "name": "#%%\n"
    }
   }
  },
  {
   "cell_type": "code",
   "execution_count": 183,
   "outputs": [
    {
     "name": "stdout",
     "output_type": "stream",
     "text": [
      "ASK MENTOR : pk optimisation meilleure manuelle que avec griddeach ?????\n"
     ]
    }
   ],
   "source": [
    "y_pred_lasso\n",
    "print(\"ASK MENTOR : pk optimisation meilleure manuelle que avec griddeach ?????\")"
   ],
   "metadata": {
    "collapsed": false,
    "pycharm": {
     "name": "#%%\n"
    }
   }
  },
  {
   "cell_type": "markdown",
   "source": [
    "#### 4) Linear Model : Elastic Net"
   ],
   "metadata": {
    "collapsed": false,
    "pycharm": {
     "name": "#%% md\n"
    }
   }
  },
  {
   "cell_type": "markdown",
   "source": [
    "##### 4.1) Trying Elastic Net Regression / Manual optimisation hyperparameter"
   ],
   "metadata": {
    "collapsed": false,
    "pycharm": {
     "name": "#%% md\n"
    }
   }
  },
  {
   "cell_type": "markdown",
   "source": [
    "##### 1. Searching for the best hyperparameters alpha and l1_ratio"
   ],
   "metadata": {
    "collapsed": false,
    "pycharm": {
     "name": "#%% md\n"
    }
   }
  },
  {
   "cell_type": "code",
   "execution_count": 212,
   "outputs": [
    {
     "data": {
      "text/plain": "array([0.  , 0.01, 0.02, 0.03, 0.04, 0.05, 0.06, 0.07, 0.08, 0.09, 0.1 ,\n       0.11, 0.12, 0.13, 0.14, 0.15, 0.16, 0.17, 0.18, 0.19, 0.2 , 0.21,\n       0.22, 0.23, 0.24, 0.25, 0.26, 0.27, 0.28, 0.29, 0.3 , 0.31, 0.32,\n       0.33, 0.34, 0.35, 0.36, 0.37, 0.38, 0.39, 0.4 , 0.41, 0.42, 0.43,\n       0.44, 0.45, 0.46, 0.47, 0.48, 0.49, 0.5 , 0.51, 0.52, 0.53, 0.54,\n       0.55, 0.56, 0.57, 0.58, 0.59, 0.6 , 0.61, 0.62, 0.63, 0.64, 0.65,\n       0.66, 0.67, 0.68, 0.69, 0.7 , 0.71, 0.72, 0.73, 0.74, 0.75, 0.76,\n       0.77, 0.78, 0.79, 0.8 , 0.81, 0.82, 0.83, 0.84, 0.85, 0.86, 0.87,\n       0.88, 0.89, 0.9 , 0.91, 0.92, 0.93, 0.94, 0.95, 0.96, 0.97, 0.98,\n       0.99])"
     },
     "execution_count": 212,
     "metadata": {},
     "output_type": "execute_result"
    }
   ],
   "source": [
    "n = 100\n",
    "l1_ratio = np.random.uniform(0, 1, size=(1, 100))\n",
    "l1_ratio\n",
    "\n",
    "l = [i / n for i in range(n)]\n",
    "l = np.arange(0, 1, 10**-2)\n",
    "\n",
    "l1_ratio = np.arange(start=0, stop=1, step= 1/n)\n",
    "l1_ratio"
   ],
   "metadata": {
    "collapsed": false,
    "pycharm": {
     "name": "#%%\n"
    }
   }
  },
  {
   "cell_type": "code",
   "execution_count": 229,
   "outputs": [
    {
     "name": "stdout",
     "output_type": "stream",
     "text": [
      "alpha : 0.01 l1_ratio : 0.0 MSE : 1.4563364957943399\n",
      "alpha : 0.01 l1_ratio : 0.1 MSE : 1.4520249556924008\n",
      "alpha : 0.01 l1_ratio : 0.2 MSE : 1.4485548808954143\n",
      "alpha : 0.01 l1_ratio : 0.3 MSE : 1.444770265042464\n",
      "alpha : 0.01 l1_ratio : 0.4 MSE : 1.4416932800967053\n",
      "alpha : 0.01 l1_ratio : 0.5 MSE : 1.44053487930508\n",
      "alpha : 0.01 l1_ratio : 0.6 MSE : 1.4396361901071988\n",
      "alpha : 0.01 l1_ratio : 0.7 MSE : 1.439101100919764\n",
      "alpha : 0.01 l1_ratio : 0.8 MSE : 1.439115554445024\n",
      "alpha : 0.01 l1_ratio : 0.9 MSE : 1.4392671854969228\n",
      "Prediction for :  Log-Electricity(kBtu)\n"
     ]
    },
    {
     "data": {
      "text/plain": "                                               Model    RMSE     MSE     MAE  \\\n0                                    Dummy Regressor 1.19957 1.43897 0.93551   \n0                                  Linear Regression 1.21666 1.48025 0.94763   \n0                                  Linear Regression 1.21666 1.48025 0.94763   \n0                                    Ridge Regressor 1.19955 1.43892 0.93550   \n0                                    Ridge Regressor 1.19955 1.43892 0.93550   \n0                           Ridge Regressor Manually 1.19942 1.43860 0.93554   \n0                                    Ridge Regressor 1.19955 1.43892 0.93550   \n0                                    Ridge Regressor 1.19945 1.43867 0.93550   \n0                           Ridge Regressor Manually 1.19955 1.43892 0.93550   \n0                                    Ridge Regressor 1.21642 1.47968 0.94742   \n0                                     LASSO manually 1.19940 1.43856 0.93554   \n0                                     LASSO manually 1.19940 1.43856 0.93554   \n0                                     LASSO manually 1.19940 1.43856 0.93554   \n0                                    Lasso Regressor 1.19957 1.43897 0.93551   \n0                                    Lasso Regressor 1.19957 1.43897 0.93551   \n0                                     LASSO manually 1.19940 1.43856 0.93554   \n0                Elastic, alpha 0.01, l1_ratio : 0.7 1.19963 1.43910 0.93531   \n0  Elastic, alpha 0.027825594022071243, l1_ratio ... 1.19940 1.43857 0.93553   \n0  Elastic, alpha 0.0774263682681127, l1_ratio : 0.5 1.19957 1.43897 0.93551   \n0  Elastic, alpha 0.21544346900318834, l1_ratio :... 1.19957 1.43897 0.93551   \n0  Elastic, alpha 0.5994842503189409, l1_ratio : 0.5 1.19957 1.43897 0.93551   \n0  Elastic, alpha 1.6681005372000592, l1_ratio : 0.5 1.19957 1.43897 0.93551   \n0  Elastic, alpha 4.6415888336127775, l1_ratio : 0.5 1.19957 1.43897 0.93551   \n0  Elastic, alpha 12.915496650148826, l1_ratio : 0.5 1.19957 1.43897 0.93551   \n0   Elastic, alpha 35.93813663804626, l1_ratio : 0.5 1.19957 1.43897 0.93551   \n0               Elastic, alpha 100.0, l1_ratio : 0.5 1.19957 1.43897 0.93551   \n0                Elastic, alpha 0.01, l1_ratio : 0.7 1.19963 1.43910 0.93531   \n\n   Median Absolute Error  R² = 1 - RSE  \n0                0.75529      -0.00482  \n0                0.76414      -0.03365  \n0                0.76414      -0.03365  \n0                0.75520      -0.00478  \n0                0.75520      -0.00478  \n0                0.75111      -0.00456  \n0                0.75520      -0.00478  \n0                0.75132      -0.00461  \n0                0.75520      -0.00478  \n0                0.76423      -0.03325  \n0                0.75355      -0.00454  \n0                0.75361      -0.00454  \n0                0.75361      -0.00454  \n0                0.75529      -0.00482  \n0                0.75529      -0.00482  \n0                0.75361      -0.00454  \n0                0.75289      -0.00491  \n0                0.75265      -0.00454  \n0                0.75529      -0.00482  \n0                0.75529      -0.00482  \n0                0.75529      -0.00482  \n0                0.75529      -0.00482  \n0                0.75529      -0.00482  \n0                0.75529      -0.00482  \n0                0.75529      -0.00482  \n0                0.75529      -0.00482  \n0                0.75289      -0.00491  ",
      "text/html": "<div>\n<style scoped>\n    .dataframe tbody tr th:only-of-type {\n        vertical-align: middle;\n    }\n\n    .dataframe tbody tr th {\n        vertical-align: top;\n    }\n\n    .dataframe thead th {\n        text-align: right;\n    }\n</style>\n<table border=\"1\" class=\"dataframe\">\n  <thead>\n    <tr style=\"text-align: right;\">\n      <th></th>\n      <th>Model</th>\n      <th>RMSE</th>\n      <th>MSE</th>\n      <th>MAE</th>\n      <th>Median Absolute Error</th>\n      <th>R² = 1 - RSE</th>\n    </tr>\n  </thead>\n  <tbody>\n    <tr>\n      <th>0</th>\n      <td>Dummy Regressor</td>\n      <td>1.19957</td>\n      <td>1.43897</td>\n      <td>0.93551</td>\n      <td>0.75529</td>\n      <td>-0.00482</td>\n    </tr>\n    <tr>\n      <th>0</th>\n      <td>Linear Regression</td>\n      <td>1.21666</td>\n      <td>1.48025</td>\n      <td>0.94763</td>\n      <td>0.76414</td>\n      <td>-0.03365</td>\n    </tr>\n    <tr>\n      <th>0</th>\n      <td>Linear Regression</td>\n      <td>1.21666</td>\n      <td>1.48025</td>\n      <td>0.94763</td>\n      <td>0.76414</td>\n      <td>-0.03365</td>\n    </tr>\n    <tr>\n      <th>0</th>\n      <td>Ridge Regressor</td>\n      <td>1.19955</td>\n      <td>1.43892</td>\n      <td>0.93550</td>\n      <td>0.75520</td>\n      <td>-0.00478</td>\n    </tr>\n    <tr>\n      <th>0</th>\n      <td>Ridge Regressor</td>\n      <td>1.19955</td>\n      <td>1.43892</td>\n      <td>0.93550</td>\n      <td>0.75520</td>\n      <td>-0.00478</td>\n    </tr>\n    <tr>\n      <th>0</th>\n      <td>Ridge Regressor Manually</td>\n      <td>1.19942</td>\n      <td>1.43860</td>\n      <td>0.93554</td>\n      <td>0.75111</td>\n      <td>-0.00456</td>\n    </tr>\n    <tr>\n      <th>0</th>\n      <td>Ridge Regressor</td>\n      <td>1.19955</td>\n      <td>1.43892</td>\n      <td>0.93550</td>\n      <td>0.75520</td>\n      <td>-0.00478</td>\n    </tr>\n    <tr>\n      <th>0</th>\n      <td>Ridge Regressor</td>\n      <td>1.19945</td>\n      <td>1.43867</td>\n      <td>0.93550</td>\n      <td>0.75132</td>\n      <td>-0.00461</td>\n    </tr>\n    <tr>\n      <th>0</th>\n      <td>Ridge Regressor Manually</td>\n      <td>1.19955</td>\n      <td>1.43892</td>\n      <td>0.93550</td>\n      <td>0.75520</td>\n      <td>-0.00478</td>\n    </tr>\n    <tr>\n      <th>0</th>\n      <td>Ridge Regressor</td>\n      <td>1.21642</td>\n      <td>1.47968</td>\n      <td>0.94742</td>\n      <td>0.76423</td>\n      <td>-0.03325</td>\n    </tr>\n    <tr>\n      <th>0</th>\n      <td>LASSO manually</td>\n      <td>1.19940</td>\n      <td>1.43856</td>\n      <td>0.93554</td>\n      <td>0.75355</td>\n      <td>-0.00454</td>\n    </tr>\n    <tr>\n      <th>0</th>\n      <td>LASSO manually</td>\n      <td>1.19940</td>\n      <td>1.43856</td>\n      <td>0.93554</td>\n      <td>0.75361</td>\n      <td>-0.00454</td>\n    </tr>\n    <tr>\n      <th>0</th>\n      <td>LASSO manually</td>\n      <td>1.19940</td>\n      <td>1.43856</td>\n      <td>0.93554</td>\n      <td>0.75361</td>\n      <td>-0.00454</td>\n    </tr>\n    <tr>\n      <th>0</th>\n      <td>Lasso Regressor</td>\n      <td>1.19957</td>\n      <td>1.43897</td>\n      <td>0.93551</td>\n      <td>0.75529</td>\n      <td>-0.00482</td>\n    </tr>\n    <tr>\n      <th>0</th>\n      <td>Lasso Regressor</td>\n      <td>1.19957</td>\n      <td>1.43897</td>\n      <td>0.93551</td>\n      <td>0.75529</td>\n      <td>-0.00482</td>\n    </tr>\n    <tr>\n      <th>0</th>\n      <td>LASSO manually</td>\n      <td>1.19940</td>\n      <td>1.43856</td>\n      <td>0.93554</td>\n      <td>0.75361</td>\n      <td>-0.00454</td>\n    </tr>\n    <tr>\n      <th>0</th>\n      <td>Elastic, alpha 0.01, l1_ratio : 0.7</td>\n      <td>1.19963</td>\n      <td>1.43910</td>\n      <td>0.93531</td>\n      <td>0.75289</td>\n      <td>-0.00491</td>\n    </tr>\n    <tr>\n      <th>0</th>\n      <td>Elastic, alpha 0.027825594022071243, l1_ratio ...</td>\n      <td>1.19940</td>\n      <td>1.43857</td>\n      <td>0.93553</td>\n      <td>0.75265</td>\n      <td>-0.00454</td>\n    </tr>\n    <tr>\n      <th>0</th>\n      <td>Elastic, alpha 0.0774263682681127, l1_ratio : 0.5</td>\n      <td>1.19957</td>\n      <td>1.43897</td>\n      <td>0.93551</td>\n      <td>0.75529</td>\n      <td>-0.00482</td>\n    </tr>\n    <tr>\n      <th>0</th>\n      <td>Elastic, alpha 0.21544346900318834, l1_ratio :...</td>\n      <td>1.19957</td>\n      <td>1.43897</td>\n      <td>0.93551</td>\n      <td>0.75529</td>\n      <td>-0.00482</td>\n    </tr>\n    <tr>\n      <th>0</th>\n      <td>Elastic, alpha 0.5994842503189409, l1_ratio : 0.5</td>\n      <td>1.19957</td>\n      <td>1.43897</td>\n      <td>0.93551</td>\n      <td>0.75529</td>\n      <td>-0.00482</td>\n    </tr>\n    <tr>\n      <th>0</th>\n      <td>Elastic, alpha 1.6681005372000592, l1_ratio : 0.5</td>\n      <td>1.19957</td>\n      <td>1.43897</td>\n      <td>0.93551</td>\n      <td>0.75529</td>\n      <td>-0.00482</td>\n    </tr>\n    <tr>\n      <th>0</th>\n      <td>Elastic, alpha 4.6415888336127775, l1_ratio : 0.5</td>\n      <td>1.19957</td>\n      <td>1.43897</td>\n      <td>0.93551</td>\n      <td>0.75529</td>\n      <td>-0.00482</td>\n    </tr>\n    <tr>\n      <th>0</th>\n      <td>Elastic, alpha 12.915496650148826, l1_ratio : 0.5</td>\n      <td>1.19957</td>\n      <td>1.43897</td>\n      <td>0.93551</td>\n      <td>0.75529</td>\n      <td>-0.00482</td>\n    </tr>\n    <tr>\n      <th>0</th>\n      <td>Elastic, alpha 35.93813663804626, l1_ratio : 0.5</td>\n      <td>1.19957</td>\n      <td>1.43897</td>\n      <td>0.93551</td>\n      <td>0.75529</td>\n      <td>-0.00482</td>\n    </tr>\n    <tr>\n      <th>0</th>\n      <td>Elastic, alpha 100.0, l1_ratio : 0.5</td>\n      <td>1.19957</td>\n      <td>1.43897</td>\n      <td>0.93551</td>\n      <td>0.75529</td>\n      <td>-0.00482</td>\n    </tr>\n    <tr>\n      <th>0</th>\n      <td>Elastic, alpha 0.01, l1_ratio : 0.7</td>\n      <td>1.19963</td>\n      <td>1.43910</td>\n      <td>0.93531</td>\n      <td>0.75289</td>\n      <td>-0.00491</td>\n    </tr>\n  </tbody>\n</table>\n</div>"
     },
     "metadata": {},
     "output_type": "display_data"
    },
    {
     "name": "stdout",
     "output_type": "stream",
     "text": [
      "alpha : 0.027825594022071243 l1_ratio : 0.0 MSE : 1.4475038592958283\n",
      "alpha : 0.027825594022071243 l1_ratio : 0.1 MSE : 1.442290243356249\n",
      "alpha : 0.027825594022071243 l1_ratio : 0.2 MSE : 1.4396111895009855\n",
      "alpha : 0.027825594022071243 l1_ratio : 0.3 MSE : 1.4391863038080333\n",
      "alpha : 0.027825594022071243 l1_ratio : 0.4 MSE : 1.4390146542688607\n",
      "alpha : 0.027825594022071243 l1_ratio : 0.5 MSE : 1.4385715115421367\n",
      "alpha : 0.027825594022071243 l1_ratio : 0.6 MSE : 1.438604096162885\n",
      "alpha : 0.027825594022071243 l1_ratio : 0.7 MSE : 1.4386516260517832\n",
      "alpha : 0.027825594022071243 l1_ratio : 0.8 MSE : 1.4387143481907838\n",
      "alpha : 0.027825594022071243 l1_ratio : 0.9 MSE : 1.4387925136712332\n",
      "Prediction for :  Log-Electricity(kBtu)\n"
     ]
    },
    {
     "data": {
      "text/plain": "                                               Model    RMSE     MSE     MAE  \\\n0                                    Dummy Regressor 1.19957 1.43897 0.93551   \n0                                  Linear Regression 1.21666 1.48025 0.94763   \n0                                  Linear Regression 1.21666 1.48025 0.94763   \n0                                    Ridge Regressor 1.19955 1.43892 0.93550   \n0                                    Ridge Regressor 1.19955 1.43892 0.93550   \n0                           Ridge Regressor Manually 1.19942 1.43860 0.93554   \n0                                    Ridge Regressor 1.19955 1.43892 0.93550   \n0                                    Ridge Regressor 1.19945 1.43867 0.93550   \n0                           Ridge Regressor Manually 1.19955 1.43892 0.93550   \n0                                    Ridge Regressor 1.21642 1.47968 0.94742   \n0                                     LASSO manually 1.19940 1.43856 0.93554   \n0                                     LASSO manually 1.19940 1.43856 0.93554   \n0                                     LASSO manually 1.19940 1.43856 0.93554   \n0                                    Lasso Regressor 1.19957 1.43897 0.93551   \n0                                    Lasso Regressor 1.19957 1.43897 0.93551   \n0                                     LASSO manually 1.19940 1.43856 0.93554   \n0                Elastic, alpha 0.01, l1_ratio : 0.7 1.19963 1.43910 0.93531   \n0  Elastic, alpha 0.027825594022071243, l1_ratio ... 1.19940 1.43857 0.93553   \n0  Elastic, alpha 0.0774263682681127, l1_ratio : 0.5 1.19957 1.43897 0.93551   \n0  Elastic, alpha 0.21544346900318834, l1_ratio :... 1.19957 1.43897 0.93551   \n0  Elastic, alpha 0.5994842503189409, l1_ratio : 0.5 1.19957 1.43897 0.93551   \n0  Elastic, alpha 1.6681005372000592, l1_ratio : 0.5 1.19957 1.43897 0.93551   \n0  Elastic, alpha 4.6415888336127775, l1_ratio : 0.5 1.19957 1.43897 0.93551   \n0  Elastic, alpha 12.915496650148826, l1_ratio : 0.5 1.19957 1.43897 0.93551   \n0   Elastic, alpha 35.93813663804626, l1_ratio : 0.5 1.19957 1.43897 0.93551   \n0               Elastic, alpha 100.0, l1_ratio : 0.5 1.19957 1.43897 0.93551   \n0                Elastic, alpha 0.01, l1_ratio : 0.7 1.19963 1.43910 0.93531   \n0  Elastic, alpha 0.027825594022071243, l1_ratio ... 1.19940 1.43857 0.93553   \n\n   Median Absolute Error  R² = 1 - RSE  \n0                0.75529      -0.00482  \n0                0.76414      -0.03365  \n0                0.76414      -0.03365  \n0                0.75520      -0.00478  \n0                0.75520      -0.00478  \n0                0.75111      -0.00456  \n0                0.75520      -0.00478  \n0                0.75132      -0.00461  \n0                0.75520      -0.00478  \n0                0.76423      -0.03325  \n0                0.75355      -0.00454  \n0                0.75361      -0.00454  \n0                0.75361      -0.00454  \n0                0.75529      -0.00482  \n0                0.75529      -0.00482  \n0                0.75361      -0.00454  \n0                0.75289      -0.00491  \n0                0.75265      -0.00454  \n0                0.75529      -0.00482  \n0                0.75529      -0.00482  \n0                0.75529      -0.00482  \n0                0.75529      -0.00482  \n0                0.75529      -0.00482  \n0                0.75529      -0.00482  \n0                0.75529      -0.00482  \n0                0.75529      -0.00482  \n0                0.75289      -0.00491  \n0                0.75265      -0.00454  ",
      "text/html": "<div>\n<style scoped>\n    .dataframe tbody tr th:only-of-type {\n        vertical-align: middle;\n    }\n\n    .dataframe tbody tr th {\n        vertical-align: top;\n    }\n\n    .dataframe thead th {\n        text-align: right;\n    }\n</style>\n<table border=\"1\" class=\"dataframe\">\n  <thead>\n    <tr style=\"text-align: right;\">\n      <th></th>\n      <th>Model</th>\n      <th>RMSE</th>\n      <th>MSE</th>\n      <th>MAE</th>\n      <th>Median Absolute Error</th>\n      <th>R² = 1 - RSE</th>\n    </tr>\n  </thead>\n  <tbody>\n    <tr>\n      <th>0</th>\n      <td>Dummy Regressor</td>\n      <td>1.19957</td>\n      <td>1.43897</td>\n      <td>0.93551</td>\n      <td>0.75529</td>\n      <td>-0.00482</td>\n    </tr>\n    <tr>\n      <th>0</th>\n      <td>Linear Regression</td>\n      <td>1.21666</td>\n      <td>1.48025</td>\n      <td>0.94763</td>\n      <td>0.76414</td>\n      <td>-0.03365</td>\n    </tr>\n    <tr>\n      <th>0</th>\n      <td>Linear Regression</td>\n      <td>1.21666</td>\n      <td>1.48025</td>\n      <td>0.94763</td>\n      <td>0.76414</td>\n      <td>-0.03365</td>\n    </tr>\n    <tr>\n      <th>0</th>\n      <td>Ridge Regressor</td>\n      <td>1.19955</td>\n      <td>1.43892</td>\n      <td>0.93550</td>\n      <td>0.75520</td>\n      <td>-0.00478</td>\n    </tr>\n    <tr>\n      <th>0</th>\n      <td>Ridge Regressor</td>\n      <td>1.19955</td>\n      <td>1.43892</td>\n      <td>0.93550</td>\n      <td>0.75520</td>\n      <td>-0.00478</td>\n    </tr>\n    <tr>\n      <th>0</th>\n      <td>Ridge Regressor Manually</td>\n      <td>1.19942</td>\n      <td>1.43860</td>\n      <td>0.93554</td>\n      <td>0.75111</td>\n      <td>-0.00456</td>\n    </tr>\n    <tr>\n      <th>0</th>\n      <td>Ridge Regressor</td>\n      <td>1.19955</td>\n      <td>1.43892</td>\n      <td>0.93550</td>\n      <td>0.75520</td>\n      <td>-0.00478</td>\n    </tr>\n    <tr>\n      <th>0</th>\n      <td>Ridge Regressor</td>\n      <td>1.19945</td>\n      <td>1.43867</td>\n      <td>0.93550</td>\n      <td>0.75132</td>\n      <td>-0.00461</td>\n    </tr>\n    <tr>\n      <th>0</th>\n      <td>Ridge Regressor Manually</td>\n      <td>1.19955</td>\n      <td>1.43892</td>\n      <td>0.93550</td>\n      <td>0.75520</td>\n      <td>-0.00478</td>\n    </tr>\n    <tr>\n      <th>0</th>\n      <td>Ridge Regressor</td>\n      <td>1.21642</td>\n      <td>1.47968</td>\n      <td>0.94742</td>\n      <td>0.76423</td>\n      <td>-0.03325</td>\n    </tr>\n    <tr>\n      <th>0</th>\n      <td>LASSO manually</td>\n      <td>1.19940</td>\n      <td>1.43856</td>\n      <td>0.93554</td>\n      <td>0.75355</td>\n      <td>-0.00454</td>\n    </tr>\n    <tr>\n      <th>0</th>\n      <td>LASSO manually</td>\n      <td>1.19940</td>\n      <td>1.43856</td>\n      <td>0.93554</td>\n      <td>0.75361</td>\n      <td>-0.00454</td>\n    </tr>\n    <tr>\n      <th>0</th>\n      <td>LASSO manually</td>\n      <td>1.19940</td>\n      <td>1.43856</td>\n      <td>0.93554</td>\n      <td>0.75361</td>\n      <td>-0.00454</td>\n    </tr>\n    <tr>\n      <th>0</th>\n      <td>Lasso Regressor</td>\n      <td>1.19957</td>\n      <td>1.43897</td>\n      <td>0.93551</td>\n      <td>0.75529</td>\n      <td>-0.00482</td>\n    </tr>\n    <tr>\n      <th>0</th>\n      <td>Lasso Regressor</td>\n      <td>1.19957</td>\n      <td>1.43897</td>\n      <td>0.93551</td>\n      <td>0.75529</td>\n      <td>-0.00482</td>\n    </tr>\n    <tr>\n      <th>0</th>\n      <td>LASSO manually</td>\n      <td>1.19940</td>\n      <td>1.43856</td>\n      <td>0.93554</td>\n      <td>0.75361</td>\n      <td>-0.00454</td>\n    </tr>\n    <tr>\n      <th>0</th>\n      <td>Elastic, alpha 0.01, l1_ratio : 0.7</td>\n      <td>1.19963</td>\n      <td>1.43910</td>\n      <td>0.93531</td>\n      <td>0.75289</td>\n      <td>-0.00491</td>\n    </tr>\n    <tr>\n      <th>0</th>\n      <td>Elastic, alpha 0.027825594022071243, l1_ratio ...</td>\n      <td>1.19940</td>\n      <td>1.43857</td>\n      <td>0.93553</td>\n      <td>0.75265</td>\n      <td>-0.00454</td>\n    </tr>\n    <tr>\n      <th>0</th>\n      <td>Elastic, alpha 0.0774263682681127, l1_ratio : 0.5</td>\n      <td>1.19957</td>\n      <td>1.43897</td>\n      <td>0.93551</td>\n      <td>0.75529</td>\n      <td>-0.00482</td>\n    </tr>\n    <tr>\n      <th>0</th>\n      <td>Elastic, alpha 0.21544346900318834, l1_ratio :...</td>\n      <td>1.19957</td>\n      <td>1.43897</td>\n      <td>0.93551</td>\n      <td>0.75529</td>\n      <td>-0.00482</td>\n    </tr>\n    <tr>\n      <th>0</th>\n      <td>Elastic, alpha 0.5994842503189409, l1_ratio : 0.5</td>\n      <td>1.19957</td>\n      <td>1.43897</td>\n      <td>0.93551</td>\n      <td>0.75529</td>\n      <td>-0.00482</td>\n    </tr>\n    <tr>\n      <th>0</th>\n      <td>Elastic, alpha 1.6681005372000592, l1_ratio : 0.5</td>\n      <td>1.19957</td>\n      <td>1.43897</td>\n      <td>0.93551</td>\n      <td>0.75529</td>\n      <td>-0.00482</td>\n    </tr>\n    <tr>\n      <th>0</th>\n      <td>Elastic, alpha 4.6415888336127775, l1_ratio : 0.5</td>\n      <td>1.19957</td>\n      <td>1.43897</td>\n      <td>0.93551</td>\n      <td>0.75529</td>\n      <td>-0.00482</td>\n    </tr>\n    <tr>\n      <th>0</th>\n      <td>Elastic, alpha 12.915496650148826, l1_ratio : 0.5</td>\n      <td>1.19957</td>\n      <td>1.43897</td>\n      <td>0.93551</td>\n      <td>0.75529</td>\n      <td>-0.00482</td>\n    </tr>\n    <tr>\n      <th>0</th>\n      <td>Elastic, alpha 35.93813663804626, l1_ratio : 0.5</td>\n      <td>1.19957</td>\n      <td>1.43897</td>\n      <td>0.93551</td>\n      <td>0.75529</td>\n      <td>-0.00482</td>\n    </tr>\n    <tr>\n      <th>0</th>\n      <td>Elastic, alpha 100.0, l1_ratio : 0.5</td>\n      <td>1.19957</td>\n      <td>1.43897</td>\n      <td>0.93551</td>\n      <td>0.75529</td>\n      <td>-0.00482</td>\n    </tr>\n    <tr>\n      <th>0</th>\n      <td>Elastic, alpha 0.01, l1_ratio : 0.7</td>\n      <td>1.19963</td>\n      <td>1.43910</td>\n      <td>0.93531</td>\n      <td>0.75289</td>\n      <td>-0.00491</td>\n    </tr>\n    <tr>\n      <th>0</th>\n      <td>Elastic, alpha 0.027825594022071243, l1_ratio ...</td>\n      <td>1.19940</td>\n      <td>1.43857</td>\n      <td>0.93553</td>\n      <td>0.75265</td>\n      <td>-0.00454</td>\n    </tr>\n  </tbody>\n</table>\n</div>"
     },
     "metadata": {},
     "output_type": "display_data"
    },
    {
     "name": "stdout",
     "output_type": "stream",
     "text": [
      "alpha : 0.0774263682681127 l1_ratio : 0.0 MSE : 1.4419445364256387\n",
      "alpha : 0.0774263682681127 l1_ratio : 0.1 MSE : 1.4391049916341392\n",
      "alpha : 0.0774263682681127 l1_ratio : 0.2 MSE : 1.438596863680149\n",
      "alpha : 0.0774263682681127 l1_ratio : 0.3 MSE : 1.4387486428904752\n",
      "alpha : 0.0774263682681127 l1_ratio : 0.4 MSE : 1.438972208813029\n",
      "alpha : 0.0774263682681127 l1_ratio : 0.5 MSE : 1.438972208813029\n",
      "alpha : 0.0774263682681127 l1_ratio : 0.6 MSE : 1.438972208813029\n",
      "alpha : 0.0774263682681127 l1_ratio : 0.7 MSE : 1.438972208813029\n",
      "alpha : 0.0774263682681127 l1_ratio : 0.8 MSE : 1.438972208813029\n",
      "alpha : 0.0774263682681127 l1_ratio : 0.9 MSE : 1.438972208813029\n",
      "Prediction for :  Log-Electricity(kBtu)\n"
     ]
    },
    {
     "data": {
      "text/plain": "                                               Model    RMSE     MSE     MAE  \\\n0                                    Dummy Regressor 1.19957 1.43897 0.93551   \n0                                  Linear Regression 1.21666 1.48025 0.94763   \n0                                  Linear Regression 1.21666 1.48025 0.94763   \n0                                    Ridge Regressor 1.19955 1.43892 0.93550   \n0                                    Ridge Regressor 1.19955 1.43892 0.93550   \n0                           Ridge Regressor Manually 1.19942 1.43860 0.93554   \n0                                    Ridge Regressor 1.19955 1.43892 0.93550   \n0                                    Ridge Regressor 1.19945 1.43867 0.93550   \n0                           Ridge Regressor Manually 1.19955 1.43892 0.93550   \n0                                    Ridge Regressor 1.21642 1.47968 0.94742   \n0                                     LASSO manually 1.19940 1.43856 0.93554   \n0                                     LASSO manually 1.19940 1.43856 0.93554   \n0                                     LASSO manually 1.19940 1.43856 0.93554   \n0                                    Lasso Regressor 1.19957 1.43897 0.93551   \n0                                    Lasso Regressor 1.19957 1.43897 0.93551   \n0                                     LASSO manually 1.19940 1.43856 0.93554   \n0                Elastic, alpha 0.01, l1_ratio : 0.7 1.19963 1.43910 0.93531   \n0  Elastic, alpha 0.027825594022071243, l1_ratio ... 1.19940 1.43857 0.93553   \n0  Elastic, alpha 0.0774263682681127, l1_ratio : 0.5 1.19957 1.43897 0.93551   \n0  Elastic, alpha 0.21544346900318834, l1_ratio :... 1.19957 1.43897 0.93551   \n0  Elastic, alpha 0.5994842503189409, l1_ratio : 0.5 1.19957 1.43897 0.93551   \n0  Elastic, alpha 1.6681005372000592, l1_ratio : 0.5 1.19957 1.43897 0.93551   \n0  Elastic, alpha 4.6415888336127775, l1_ratio : 0.5 1.19957 1.43897 0.93551   \n0  Elastic, alpha 12.915496650148826, l1_ratio : 0.5 1.19957 1.43897 0.93551   \n0   Elastic, alpha 35.93813663804626, l1_ratio : 0.5 1.19957 1.43897 0.93551   \n0               Elastic, alpha 100.0, l1_ratio : 0.5 1.19957 1.43897 0.93551   \n0                Elastic, alpha 0.01, l1_ratio : 0.7 1.19963 1.43910 0.93531   \n0  Elastic, alpha 0.027825594022071243, l1_ratio ... 1.19940 1.43857 0.93553   \n0  Elastic, alpha 0.0774263682681127, l1_ratio : 0.5 1.19957 1.43897 0.93551   \n\n   Median Absolute Error  R² = 1 - RSE  \n0                0.75529      -0.00482  \n0                0.76414      -0.03365  \n0                0.76414      -0.03365  \n0                0.75520      -0.00478  \n0                0.75520      -0.00478  \n0                0.75111      -0.00456  \n0                0.75520      -0.00478  \n0                0.75132      -0.00461  \n0                0.75520      -0.00478  \n0                0.76423      -0.03325  \n0                0.75355      -0.00454  \n0                0.75361      -0.00454  \n0                0.75361      -0.00454  \n0                0.75529      -0.00482  \n0                0.75529      -0.00482  \n0                0.75361      -0.00454  \n0                0.75289      -0.00491  \n0                0.75265      -0.00454  \n0                0.75529      -0.00482  \n0                0.75529      -0.00482  \n0                0.75529      -0.00482  \n0                0.75529      -0.00482  \n0                0.75529      -0.00482  \n0                0.75529      -0.00482  \n0                0.75529      -0.00482  \n0                0.75529      -0.00482  \n0                0.75289      -0.00491  \n0                0.75265      -0.00454  \n0                0.75529      -0.00482  ",
      "text/html": "<div>\n<style scoped>\n    .dataframe tbody tr th:only-of-type {\n        vertical-align: middle;\n    }\n\n    .dataframe tbody tr th {\n        vertical-align: top;\n    }\n\n    .dataframe thead th {\n        text-align: right;\n    }\n</style>\n<table border=\"1\" class=\"dataframe\">\n  <thead>\n    <tr style=\"text-align: right;\">\n      <th></th>\n      <th>Model</th>\n      <th>RMSE</th>\n      <th>MSE</th>\n      <th>MAE</th>\n      <th>Median Absolute Error</th>\n      <th>R² = 1 - RSE</th>\n    </tr>\n  </thead>\n  <tbody>\n    <tr>\n      <th>0</th>\n      <td>Dummy Regressor</td>\n      <td>1.19957</td>\n      <td>1.43897</td>\n      <td>0.93551</td>\n      <td>0.75529</td>\n      <td>-0.00482</td>\n    </tr>\n    <tr>\n      <th>0</th>\n      <td>Linear Regression</td>\n      <td>1.21666</td>\n      <td>1.48025</td>\n      <td>0.94763</td>\n      <td>0.76414</td>\n      <td>-0.03365</td>\n    </tr>\n    <tr>\n      <th>0</th>\n      <td>Linear Regression</td>\n      <td>1.21666</td>\n      <td>1.48025</td>\n      <td>0.94763</td>\n      <td>0.76414</td>\n      <td>-0.03365</td>\n    </tr>\n    <tr>\n      <th>0</th>\n      <td>Ridge Regressor</td>\n      <td>1.19955</td>\n      <td>1.43892</td>\n      <td>0.93550</td>\n      <td>0.75520</td>\n      <td>-0.00478</td>\n    </tr>\n    <tr>\n      <th>0</th>\n      <td>Ridge Regressor</td>\n      <td>1.19955</td>\n      <td>1.43892</td>\n      <td>0.93550</td>\n      <td>0.75520</td>\n      <td>-0.00478</td>\n    </tr>\n    <tr>\n      <th>0</th>\n      <td>Ridge Regressor Manually</td>\n      <td>1.19942</td>\n      <td>1.43860</td>\n      <td>0.93554</td>\n      <td>0.75111</td>\n      <td>-0.00456</td>\n    </tr>\n    <tr>\n      <th>0</th>\n      <td>Ridge Regressor</td>\n      <td>1.19955</td>\n      <td>1.43892</td>\n      <td>0.93550</td>\n      <td>0.75520</td>\n      <td>-0.00478</td>\n    </tr>\n    <tr>\n      <th>0</th>\n      <td>Ridge Regressor</td>\n      <td>1.19945</td>\n      <td>1.43867</td>\n      <td>0.93550</td>\n      <td>0.75132</td>\n      <td>-0.00461</td>\n    </tr>\n    <tr>\n      <th>0</th>\n      <td>Ridge Regressor Manually</td>\n      <td>1.19955</td>\n      <td>1.43892</td>\n      <td>0.93550</td>\n      <td>0.75520</td>\n      <td>-0.00478</td>\n    </tr>\n    <tr>\n      <th>0</th>\n      <td>Ridge Regressor</td>\n      <td>1.21642</td>\n      <td>1.47968</td>\n      <td>0.94742</td>\n      <td>0.76423</td>\n      <td>-0.03325</td>\n    </tr>\n    <tr>\n      <th>0</th>\n      <td>LASSO manually</td>\n      <td>1.19940</td>\n      <td>1.43856</td>\n      <td>0.93554</td>\n      <td>0.75355</td>\n      <td>-0.00454</td>\n    </tr>\n    <tr>\n      <th>0</th>\n      <td>LASSO manually</td>\n      <td>1.19940</td>\n      <td>1.43856</td>\n      <td>0.93554</td>\n      <td>0.75361</td>\n      <td>-0.00454</td>\n    </tr>\n    <tr>\n      <th>0</th>\n      <td>LASSO manually</td>\n      <td>1.19940</td>\n      <td>1.43856</td>\n      <td>0.93554</td>\n      <td>0.75361</td>\n      <td>-0.00454</td>\n    </tr>\n    <tr>\n      <th>0</th>\n      <td>Lasso Regressor</td>\n      <td>1.19957</td>\n      <td>1.43897</td>\n      <td>0.93551</td>\n      <td>0.75529</td>\n      <td>-0.00482</td>\n    </tr>\n    <tr>\n      <th>0</th>\n      <td>Lasso Regressor</td>\n      <td>1.19957</td>\n      <td>1.43897</td>\n      <td>0.93551</td>\n      <td>0.75529</td>\n      <td>-0.00482</td>\n    </tr>\n    <tr>\n      <th>0</th>\n      <td>LASSO manually</td>\n      <td>1.19940</td>\n      <td>1.43856</td>\n      <td>0.93554</td>\n      <td>0.75361</td>\n      <td>-0.00454</td>\n    </tr>\n    <tr>\n      <th>0</th>\n      <td>Elastic, alpha 0.01, l1_ratio : 0.7</td>\n      <td>1.19963</td>\n      <td>1.43910</td>\n      <td>0.93531</td>\n      <td>0.75289</td>\n      <td>-0.00491</td>\n    </tr>\n    <tr>\n      <th>0</th>\n      <td>Elastic, alpha 0.027825594022071243, l1_ratio ...</td>\n      <td>1.19940</td>\n      <td>1.43857</td>\n      <td>0.93553</td>\n      <td>0.75265</td>\n      <td>-0.00454</td>\n    </tr>\n    <tr>\n      <th>0</th>\n      <td>Elastic, alpha 0.0774263682681127, l1_ratio : 0.5</td>\n      <td>1.19957</td>\n      <td>1.43897</td>\n      <td>0.93551</td>\n      <td>0.75529</td>\n      <td>-0.00482</td>\n    </tr>\n    <tr>\n      <th>0</th>\n      <td>Elastic, alpha 0.21544346900318834, l1_ratio :...</td>\n      <td>1.19957</td>\n      <td>1.43897</td>\n      <td>0.93551</td>\n      <td>0.75529</td>\n      <td>-0.00482</td>\n    </tr>\n    <tr>\n      <th>0</th>\n      <td>Elastic, alpha 0.5994842503189409, l1_ratio : 0.5</td>\n      <td>1.19957</td>\n      <td>1.43897</td>\n      <td>0.93551</td>\n      <td>0.75529</td>\n      <td>-0.00482</td>\n    </tr>\n    <tr>\n      <th>0</th>\n      <td>Elastic, alpha 1.6681005372000592, l1_ratio : 0.5</td>\n      <td>1.19957</td>\n      <td>1.43897</td>\n      <td>0.93551</td>\n      <td>0.75529</td>\n      <td>-0.00482</td>\n    </tr>\n    <tr>\n      <th>0</th>\n      <td>Elastic, alpha 4.6415888336127775, l1_ratio : 0.5</td>\n      <td>1.19957</td>\n      <td>1.43897</td>\n      <td>0.93551</td>\n      <td>0.75529</td>\n      <td>-0.00482</td>\n    </tr>\n    <tr>\n      <th>0</th>\n      <td>Elastic, alpha 12.915496650148826, l1_ratio : 0.5</td>\n      <td>1.19957</td>\n      <td>1.43897</td>\n      <td>0.93551</td>\n      <td>0.75529</td>\n      <td>-0.00482</td>\n    </tr>\n    <tr>\n      <th>0</th>\n      <td>Elastic, alpha 35.93813663804626, l1_ratio : 0.5</td>\n      <td>1.19957</td>\n      <td>1.43897</td>\n      <td>0.93551</td>\n      <td>0.75529</td>\n      <td>-0.00482</td>\n    </tr>\n    <tr>\n      <th>0</th>\n      <td>Elastic, alpha 100.0, l1_ratio : 0.5</td>\n      <td>1.19957</td>\n      <td>1.43897</td>\n      <td>0.93551</td>\n      <td>0.75529</td>\n      <td>-0.00482</td>\n    </tr>\n    <tr>\n      <th>0</th>\n      <td>Elastic, alpha 0.01, l1_ratio : 0.7</td>\n      <td>1.19963</td>\n      <td>1.43910</td>\n      <td>0.93531</td>\n      <td>0.75289</td>\n      <td>-0.00491</td>\n    </tr>\n    <tr>\n      <th>0</th>\n      <td>Elastic, alpha 0.027825594022071243, l1_ratio ...</td>\n      <td>1.19940</td>\n      <td>1.43857</td>\n      <td>0.93553</td>\n      <td>0.75265</td>\n      <td>-0.00454</td>\n    </tr>\n    <tr>\n      <th>0</th>\n      <td>Elastic, alpha 0.0774263682681127, l1_ratio : 0.5</td>\n      <td>1.19957</td>\n      <td>1.43897</td>\n      <td>0.93551</td>\n      <td>0.75529</td>\n      <td>-0.00482</td>\n    </tr>\n  </tbody>\n</table>\n</div>"
     },
     "metadata": {},
     "output_type": "display_data"
    },
    {
     "name": "stdout",
     "output_type": "stream",
     "text": [
      "alpha : 0.21544346900318834 l1_ratio : 0.0 MSE : 1.4396538614183219\n",
      "alpha : 0.21544346900318834 l1_ratio : 0.1 MSE : 1.4387306179912636\n",
      "alpha : 0.21544346900318834 l1_ratio : 0.2 MSE : 1.438972208813029\n",
      "alpha : 0.21544346900318834 l1_ratio : 0.3 MSE : 1.438972208813029\n",
      "alpha : 0.21544346900318834 l1_ratio : 0.4 MSE : 1.438972208813029\n",
      "alpha : 0.21544346900318834 l1_ratio : 0.5 MSE : 1.438972208813029\n",
      "alpha : 0.21544346900318834 l1_ratio : 0.6 MSE : 1.438972208813029\n",
      "alpha : 0.21544346900318834 l1_ratio : 0.7 MSE : 1.438972208813029\n",
      "alpha : 0.21544346900318834 l1_ratio : 0.8 MSE : 1.438972208813029\n",
      "alpha : 0.21544346900318834 l1_ratio : 0.9 MSE : 1.438972208813029\n",
      "Prediction for :  Log-Electricity(kBtu)\n"
     ]
    },
    {
     "data": {
      "text/plain": "                                               Model    RMSE     MSE     MAE  \\\n0                                    Dummy Regressor 1.19957 1.43897 0.93551   \n0                                  Linear Regression 1.21666 1.48025 0.94763   \n0                                  Linear Regression 1.21666 1.48025 0.94763   \n0                                    Ridge Regressor 1.19955 1.43892 0.93550   \n0                                    Ridge Regressor 1.19955 1.43892 0.93550   \n0                           Ridge Regressor Manually 1.19942 1.43860 0.93554   \n0                                    Ridge Regressor 1.19955 1.43892 0.93550   \n0                                    Ridge Regressor 1.19945 1.43867 0.93550   \n0                           Ridge Regressor Manually 1.19955 1.43892 0.93550   \n0                                    Ridge Regressor 1.21642 1.47968 0.94742   \n0                                     LASSO manually 1.19940 1.43856 0.93554   \n0                                     LASSO manually 1.19940 1.43856 0.93554   \n0                                     LASSO manually 1.19940 1.43856 0.93554   \n0                                    Lasso Regressor 1.19957 1.43897 0.93551   \n0                                    Lasso Regressor 1.19957 1.43897 0.93551   \n0                                     LASSO manually 1.19940 1.43856 0.93554   \n0                Elastic, alpha 0.01, l1_ratio : 0.7 1.19963 1.43910 0.93531   \n0  Elastic, alpha 0.027825594022071243, l1_ratio ... 1.19940 1.43857 0.93553   \n0  Elastic, alpha 0.0774263682681127, l1_ratio : 0.5 1.19957 1.43897 0.93551   \n0  Elastic, alpha 0.21544346900318834, l1_ratio :... 1.19957 1.43897 0.93551   \n0  Elastic, alpha 0.5994842503189409, l1_ratio : 0.5 1.19957 1.43897 0.93551   \n0  Elastic, alpha 1.6681005372000592, l1_ratio : 0.5 1.19957 1.43897 0.93551   \n0  Elastic, alpha 4.6415888336127775, l1_ratio : 0.5 1.19957 1.43897 0.93551   \n0  Elastic, alpha 12.915496650148826, l1_ratio : 0.5 1.19957 1.43897 0.93551   \n0   Elastic, alpha 35.93813663804626, l1_ratio : 0.5 1.19957 1.43897 0.93551   \n0               Elastic, alpha 100.0, l1_ratio : 0.5 1.19957 1.43897 0.93551   \n0                Elastic, alpha 0.01, l1_ratio : 0.7 1.19963 1.43910 0.93531   \n0  Elastic, alpha 0.027825594022071243, l1_ratio ... 1.19940 1.43857 0.93553   \n0  Elastic, alpha 0.0774263682681127, l1_ratio : 0.5 1.19957 1.43897 0.93551   \n0  Elastic, alpha 0.21544346900318834, l1_ratio :... 1.19957 1.43897 0.93551   \n\n   Median Absolute Error  R² = 1 - RSE  \n0                0.75529      -0.00482  \n0                0.76414      -0.03365  \n0                0.76414      -0.03365  \n0                0.75520      -0.00478  \n0                0.75520      -0.00478  \n0                0.75111      -0.00456  \n0                0.75520      -0.00478  \n0                0.75132      -0.00461  \n0                0.75520      -0.00478  \n0                0.76423      -0.03325  \n0                0.75355      -0.00454  \n0                0.75361      -0.00454  \n0                0.75361      -0.00454  \n0                0.75529      -0.00482  \n0                0.75529      -0.00482  \n0                0.75361      -0.00454  \n0                0.75289      -0.00491  \n0                0.75265      -0.00454  \n0                0.75529      -0.00482  \n0                0.75529      -0.00482  \n0                0.75529      -0.00482  \n0                0.75529      -0.00482  \n0                0.75529      -0.00482  \n0                0.75529      -0.00482  \n0                0.75529      -0.00482  \n0                0.75529      -0.00482  \n0                0.75289      -0.00491  \n0                0.75265      -0.00454  \n0                0.75529      -0.00482  \n0                0.75529      -0.00482  ",
      "text/html": "<div>\n<style scoped>\n    .dataframe tbody tr th:only-of-type {\n        vertical-align: middle;\n    }\n\n    .dataframe tbody tr th {\n        vertical-align: top;\n    }\n\n    .dataframe thead th {\n        text-align: right;\n    }\n</style>\n<table border=\"1\" class=\"dataframe\">\n  <thead>\n    <tr style=\"text-align: right;\">\n      <th></th>\n      <th>Model</th>\n      <th>RMSE</th>\n      <th>MSE</th>\n      <th>MAE</th>\n      <th>Median Absolute Error</th>\n      <th>R² = 1 - RSE</th>\n    </tr>\n  </thead>\n  <tbody>\n    <tr>\n      <th>0</th>\n      <td>Dummy Regressor</td>\n      <td>1.19957</td>\n      <td>1.43897</td>\n      <td>0.93551</td>\n      <td>0.75529</td>\n      <td>-0.00482</td>\n    </tr>\n    <tr>\n      <th>0</th>\n      <td>Linear Regression</td>\n      <td>1.21666</td>\n      <td>1.48025</td>\n      <td>0.94763</td>\n      <td>0.76414</td>\n      <td>-0.03365</td>\n    </tr>\n    <tr>\n      <th>0</th>\n      <td>Linear Regression</td>\n      <td>1.21666</td>\n      <td>1.48025</td>\n      <td>0.94763</td>\n      <td>0.76414</td>\n      <td>-0.03365</td>\n    </tr>\n    <tr>\n      <th>0</th>\n      <td>Ridge Regressor</td>\n      <td>1.19955</td>\n      <td>1.43892</td>\n      <td>0.93550</td>\n      <td>0.75520</td>\n      <td>-0.00478</td>\n    </tr>\n    <tr>\n      <th>0</th>\n      <td>Ridge Regressor</td>\n      <td>1.19955</td>\n      <td>1.43892</td>\n      <td>0.93550</td>\n      <td>0.75520</td>\n      <td>-0.00478</td>\n    </tr>\n    <tr>\n      <th>0</th>\n      <td>Ridge Regressor Manually</td>\n      <td>1.19942</td>\n      <td>1.43860</td>\n      <td>0.93554</td>\n      <td>0.75111</td>\n      <td>-0.00456</td>\n    </tr>\n    <tr>\n      <th>0</th>\n      <td>Ridge Regressor</td>\n      <td>1.19955</td>\n      <td>1.43892</td>\n      <td>0.93550</td>\n      <td>0.75520</td>\n      <td>-0.00478</td>\n    </tr>\n    <tr>\n      <th>0</th>\n      <td>Ridge Regressor</td>\n      <td>1.19945</td>\n      <td>1.43867</td>\n      <td>0.93550</td>\n      <td>0.75132</td>\n      <td>-0.00461</td>\n    </tr>\n    <tr>\n      <th>0</th>\n      <td>Ridge Regressor Manually</td>\n      <td>1.19955</td>\n      <td>1.43892</td>\n      <td>0.93550</td>\n      <td>0.75520</td>\n      <td>-0.00478</td>\n    </tr>\n    <tr>\n      <th>0</th>\n      <td>Ridge Regressor</td>\n      <td>1.21642</td>\n      <td>1.47968</td>\n      <td>0.94742</td>\n      <td>0.76423</td>\n      <td>-0.03325</td>\n    </tr>\n    <tr>\n      <th>0</th>\n      <td>LASSO manually</td>\n      <td>1.19940</td>\n      <td>1.43856</td>\n      <td>0.93554</td>\n      <td>0.75355</td>\n      <td>-0.00454</td>\n    </tr>\n    <tr>\n      <th>0</th>\n      <td>LASSO manually</td>\n      <td>1.19940</td>\n      <td>1.43856</td>\n      <td>0.93554</td>\n      <td>0.75361</td>\n      <td>-0.00454</td>\n    </tr>\n    <tr>\n      <th>0</th>\n      <td>LASSO manually</td>\n      <td>1.19940</td>\n      <td>1.43856</td>\n      <td>0.93554</td>\n      <td>0.75361</td>\n      <td>-0.00454</td>\n    </tr>\n    <tr>\n      <th>0</th>\n      <td>Lasso Regressor</td>\n      <td>1.19957</td>\n      <td>1.43897</td>\n      <td>0.93551</td>\n      <td>0.75529</td>\n      <td>-0.00482</td>\n    </tr>\n    <tr>\n      <th>0</th>\n      <td>Lasso Regressor</td>\n      <td>1.19957</td>\n      <td>1.43897</td>\n      <td>0.93551</td>\n      <td>0.75529</td>\n      <td>-0.00482</td>\n    </tr>\n    <tr>\n      <th>0</th>\n      <td>LASSO manually</td>\n      <td>1.19940</td>\n      <td>1.43856</td>\n      <td>0.93554</td>\n      <td>0.75361</td>\n      <td>-0.00454</td>\n    </tr>\n    <tr>\n      <th>0</th>\n      <td>Elastic, alpha 0.01, l1_ratio : 0.7</td>\n      <td>1.19963</td>\n      <td>1.43910</td>\n      <td>0.93531</td>\n      <td>0.75289</td>\n      <td>-0.00491</td>\n    </tr>\n    <tr>\n      <th>0</th>\n      <td>Elastic, alpha 0.027825594022071243, l1_ratio ...</td>\n      <td>1.19940</td>\n      <td>1.43857</td>\n      <td>0.93553</td>\n      <td>0.75265</td>\n      <td>-0.00454</td>\n    </tr>\n    <tr>\n      <th>0</th>\n      <td>Elastic, alpha 0.0774263682681127, l1_ratio : 0.5</td>\n      <td>1.19957</td>\n      <td>1.43897</td>\n      <td>0.93551</td>\n      <td>0.75529</td>\n      <td>-0.00482</td>\n    </tr>\n    <tr>\n      <th>0</th>\n      <td>Elastic, alpha 0.21544346900318834, l1_ratio :...</td>\n      <td>1.19957</td>\n      <td>1.43897</td>\n      <td>0.93551</td>\n      <td>0.75529</td>\n      <td>-0.00482</td>\n    </tr>\n    <tr>\n      <th>0</th>\n      <td>Elastic, alpha 0.5994842503189409, l1_ratio : 0.5</td>\n      <td>1.19957</td>\n      <td>1.43897</td>\n      <td>0.93551</td>\n      <td>0.75529</td>\n      <td>-0.00482</td>\n    </tr>\n    <tr>\n      <th>0</th>\n      <td>Elastic, alpha 1.6681005372000592, l1_ratio : 0.5</td>\n      <td>1.19957</td>\n      <td>1.43897</td>\n      <td>0.93551</td>\n      <td>0.75529</td>\n      <td>-0.00482</td>\n    </tr>\n    <tr>\n      <th>0</th>\n      <td>Elastic, alpha 4.6415888336127775, l1_ratio : 0.5</td>\n      <td>1.19957</td>\n      <td>1.43897</td>\n      <td>0.93551</td>\n      <td>0.75529</td>\n      <td>-0.00482</td>\n    </tr>\n    <tr>\n      <th>0</th>\n      <td>Elastic, alpha 12.915496650148826, l1_ratio : 0.5</td>\n      <td>1.19957</td>\n      <td>1.43897</td>\n      <td>0.93551</td>\n      <td>0.75529</td>\n      <td>-0.00482</td>\n    </tr>\n    <tr>\n      <th>0</th>\n      <td>Elastic, alpha 35.93813663804626, l1_ratio : 0.5</td>\n      <td>1.19957</td>\n      <td>1.43897</td>\n      <td>0.93551</td>\n      <td>0.75529</td>\n      <td>-0.00482</td>\n    </tr>\n    <tr>\n      <th>0</th>\n      <td>Elastic, alpha 100.0, l1_ratio : 0.5</td>\n      <td>1.19957</td>\n      <td>1.43897</td>\n      <td>0.93551</td>\n      <td>0.75529</td>\n      <td>-0.00482</td>\n    </tr>\n    <tr>\n      <th>0</th>\n      <td>Elastic, alpha 0.01, l1_ratio : 0.7</td>\n      <td>1.19963</td>\n      <td>1.43910</td>\n      <td>0.93531</td>\n      <td>0.75289</td>\n      <td>-0.00491</td>\n    </tr>\n    <tr>\n      <th>0</th>\n      <td>Elastic, alpha 0.027825594022071243, l1_ratio ...</td>\n      <td>1.19940</td>\n      <td>1.43857</td>\n      <td>0.93553</td>\n      <td>0.75265</td>\n      <td>-0.00454</td>\n    </tr>\n    <tr>\n      <th>0</th>\n      <td>Elastic, alpha 0.0774263682681127, l1_ratio : 0.5</td>\n      <td>1.19957</td>\n      <td>1.43897</td>\n      <td>0.93551</td>\n      <td>0.75529</td>\n      <td>-0.00482</td>\n    </tr>\n    <tr>\n      <th>0</th>\n      <td>Elastic, alpha 0.21544346900318834, l1_ratio :...</td>\n      <td>1.19957</td>\n      <td>1.43897</td>\n      <td>0.93551</td>\n      <td>0.75529</td>\n      <td>-0.00482</td>\n    </tr>\n  </tbody>\n</table>\n</div>"
     },
     "metadata": {},
     "output_type": "display_data"
    },
    {
     "name": "stdout",
     "output_type": "stream",
     "text": [
      "alpha : 0.5994842503189409 l1_ratio : 0.0 MSE : 1.4388379786363261\n",
      "alpha : 0.5994842503189409 l1_ratio : 0.1 MSE : 1.438972208813029\n",
      "alpha : 0.5994842503189409 l1_ratio : 0.2 MSE : 1.438972208813029\n",
      "alpha : 0.5994842503189409 l1_ratio : 0.3 MSE : 1.438972208813029\n",
      "alpha : 0.5994842503189409 l1_ratio : 0.4 MSE : 1.438972208813029\n",
      "alpha : 0.5994842503189409 l1_ratio : 0.5 MSE : 1.438972208813029\n",
      "alpha : 0.5994842503189409 l1_ratio : 0.6 MSE : 1.438972208813029\n",
      "alpha : 0.5994842503189409 l1_ratio : 0.7 MSE : 1.438972208813029\n",
      "alpha : 0.5994842503189409 l1_ratio : 0.8 MSE : 1.438972208813029\n",
      "alpha : 0.5994842503189409 l1_ratio : 0.9 MSE : 1.438972208813029\n",
      "Prediction for :  Log-Electricity(kBtu)\n"
     ]
    },
    {
     "data": {
      "text/plain": "                                               Model    RMSE     MSE     MAE  \\\n0                                    Dummy Regressor 1.19957 1.43897 0.93551   \n0                                  Linear Regression 1.21666 1.48025 0.94763   \n0                                  Linear Regression 1.21666 1.48025 0.94763   \n0                                    Ridge Regressor 1.19955 1.43892 0.93550   \n0                                    Ridge Regressor 1.19955 1.43892 0.93550   \n0                           Ridge Regressor Manually 1.19942 1.43860 0.93554   \n0                                    Ridge Regressor 1.19955 1.43892 0.93550   \n0                                    Ridge Regressor 1.19945 1.43867 0.93550   \n0                           Ridge Regressor Manually 1.19955 1.43892 0.93550   \n0                                    Ridge Regressor 1.21642 1.47968 0.94742   \n0                                     LASSO manually 1.19940 1.43856 0.93554   \n0                                     LASSO manually 1.19940 1.43856 0.93554   \n0                                     LASSO manually 1.19940 1.43856 0.93554   \n0                                    Lasso Regressor 1.19957 1.43897 0.93551   \n0                                    Lasso Regressor 1.19957 1.43897 0.93551   \n0                                     LASSO manually 1.19940 1.43856 0.93554   \n0                Elastic, alpha 0.01, l1_ratio : 0.7 1.19963 1.43910 0.93531   \n0  Elastic, alpha 0.027825594022071243, l1_ratio ... 1.19940 1.43857 0.93553   \n0  Elastic, alpha 0.0774263682681127, l1_ratio : 0.5 1.19957 1.43897 0.93551   \n0  Elastic, alpha 0.21544346900318834, l1_ratio :... 1.19957 1.43897 0.93551   \n0  Elastic, alpha 0.5994842503189409, l1_ratio : 0.5 1.19957 1.43897 0.93551   \n0  Elastic, alpha 1.6681005372000592, l1_ratio : 0.5 1.19957 1.43897 0.93551   \n0  Elastic, alpha 4.6415888336127775, l1_ratio : 0.5 1.19957 1.43897 0.93551   \n0  Elastic, alpha 12.915496650148826, l1_ratio : 0.5 1.19957 1.43897 0.93551   \n0   Elastic, alpha 35.93813663804626, l1_ratio : 0.5 1.19957 1.43897 0.93551   \n0               Elastic, alpha 100.0, l1_ratio : 0.5 1.19957 1.43897 0.93551   \n0                Elastic, alpha 0.01, l1_ratio : 0.7 1.19963 1.43910 0.93531   \n0  Elastic, alpha 0.027825594022071243, l1_ratio ... 1.19940 1.43857 0.93553   \n0  Elastic, alpha 0.0774263682681127, l1_ratio : 0.5 1.19957 1.43897 0.93551   \n0  Elastic, alpha 0.21544346900318834, l1_ratio :... 1.19957 1.43897 0.93551   \n0  Elastic, alpha 0.5994842503189409, l1_ratio : 0.5 1.19957 1.43897 0.93551   \n\n   Median Absolute Error  R² = 1 - RSE  \n0                0.75529      -0.00482  \n0                0.76414      -0.03365  \n0                0.76414      -0.03365  \n0                0.75520      -0.00478  \n0                0.75520      -0.00478  \n0                0.75111      -0.00456  \n0                0.75520      -0.00478  \n0                0.75132      -0.00461  \n0                0.75520      -0.00478  \n0                0.76423      -0.03325  \n0                0.75355      -0.00454  \n0                0.75361      -0.00454  \n0                0.75361      -0.00454  \n0                0.75529      -0.00482  \n0                0.75529      -0.00482  \n0                0.75361      -0.00454  \n0                0.75289      -0.00491  \n0                0.75265      -0.00454  \n0                0.75529      -0.00482  \n0                0.75529      -0.00482  \n0                0.75529      -0.00482  \n0                0.75529      -0.00482  \n0                0.75529      -0.00482  \n0                0.75529      -0.00482  \n0                0.75529      -0.00482  \n0                0.75529      -0.00482  \n0                0.75289      -0.00491  \n0                0.75265      -0.00454  \n0                0.75529      -0.00482  \n0                0.75529      -0.00482  \n0                0.75529      -0.00482  ",
      "text/html": "<div>\n<style scoped>\n    .dataframe tbody tr th:only-of-type {\n        vertical-align: middle;\n    }\n\n    .dataframe tbody tr th {\n        vertical-align: top;\n    }\n\n    .dataframe thead th {\n        text-align: right;\n    }\n</style>\n<table border=\"1\" class=\"dataframe\">\n  <thead>\n    <tr style=\"text-align: right;\">\n      <th></th>\n      <th>Model</th>\n      <th>RMSE</th>\n      <th>MSE</th>\n      <th>MAE</th>\n      <th>Median Absolute Error</th>\n      <th>R² = 1 - RSE</th>\n    </tr>\n  </thead>\n  <tbody>\n    <tr>\n      <th>0</th>\n      <td>Dummy Regressor</td>\n      <td>1.19957</td>\n      <td>1.43897</td>\n      <td>0.93551</td>\n      <td>0.75529</td>\n      <td>-0.00482</td>\n    </tr>\n    <tr>\n      <th>0</th>\n      <td>Linear Regression</td>\n      <td>1.21666</td>\n      <td>1.48025</td>\n      <td>0.94763</td>\n      <td>0.76414</td>\n      <td>-0.03365</td>\n    </tr>\n    <tr>\n      <th>0</th>\n      <td>Linear Regression</td>\n      <td>1.21666</td>\n      <td>1.48025</td>\n      <td>0.94763</td>\n      <td>0.76414</td>\n      <td>-0.03365</td>\n    </tr>\n    <tr>\n      <th>0</th>\n      <td>Ridge Regressor</td>\n      <td>1.19955</td>\n      <td>1.43892</td>\n      <td>0.93550</td>\n      <td>0.75520</td>\n      <td>-0.00478</td>\n    </tr>\n    <tr>\n      <th>0</th>\n      <td>Ridge Regressor</td>\n      <td>1.19955</td>\n      <td>1.43892</td>\n      <td>0.93550</td>\n      <td>0.75520</td>\n      <td>-0.00478</td>\n    </tr>\n    <tr>\n      <th>0</th>\n      <td>Ridge Regressor Manually</td>\n      <td>1.19942</td>\n      <td>1.43860</td>\n      <td>0.93554</td>\n      <td>0.75111</td>\n      <td>-0.00456</td>\n    </tr>\n    <tr>\n      <th>0</th>\n      <td>Ridge Regressor</td>\n      <td>1.19955</td>\n      <td>1.43892</td>\n      <td>0.93550</td>\n      <td>0.75520</td>\n      <td>-0.00478</td>\n    </tr>\n    <tr>\n      <th>0</th>\n      <td>Ridge Regressor</td>\n      <td>1.19945</td>\n      <td>1.43867</td>\n      <td>0.93550</td>\n      <td>0.75132</td>\n      <td>-0.00461</td>\n    </tr>\n    <tr>\n      <th>0</th>\n      <td>Ridge Regressor Manually</td>\n      <td>1.19955</td>\n      <td>1.43892</td>\n      <td>0.93550</td>\n      <td>0.75520</td>\n      <td>-0.00478</td>\n    </tr>\n    <tr>\n      <th>0</th>\n      <td>Ridge Regressor</td>\n      <td>1.21642</td>\n      <td>1.47968</td>\n      <td>0.94742</td>\n      <td>0.76423</td>\n      <td>-0.03325</td>\n    </tr>\n    <tr>\n      <th>0</th>\n      <td>LASSO manually</td>\n      <td>1.19940</td>\n      <td>1.43856</td>\n      <td>0.93554</td>\n      <td>0.75355</td>\n      <td>-0.00454</td>\n    </tr>\n    <tr>\n      <th>0</th>\n      <td>LASSO manually</td>\n      <td>1.19940</td>\n      <td>1.43856</td>\n      <td>0.93554</td>\n      <td>0.75361</td>\n      <td>-0.00454</td>\n    </tr>\n    <tr>\n      <th>0</th>\n      <td>LASSO manually</td>\n      <td>1.19940</td>\n      <td>1.43856</td>\n      <td>0.93554</td>\n      <td>0.75361</td>\n      <td>-0.00454</td>\n    </tr>\n    <tr>\n      <th>0</th>\n      <td>Lasso Regressor</td>\n      <td>1.19957</td>\n      <td>1.43897</td>\n      <td>0.93551</td>\n      <td>0.75529</td>\n      <td>-0.00482</td>\n    </tr>\n    <tr>\n      <th>0</th>\n      <td>Lasso Regressor</td>\n      <td>1.19957</td>\n      <td>1.43897</td>\n      <td>0.93551</td>\n      <td>0.75529</td>\n      <td>-0.00482</td>\n    </tr>\n    <tr>\n      <th>0</th>\n      <td>LASSO manually</td>\n      <td>1.19940</td>\n      <td>1.43856</td>\n      <td>0.93554</td>\n      <td>0.75361</td>\n      <td>-0.00454</td>\n    </tr>\n    <tr>\n      <th>0</th>\n      <td>Elastic, alpha 0.01, l1_ratio : 0.7</td>\n      <td>1.19963</td>\n      <td>1.43910</td>\n      <td>0.93531</td>\n      <td>0.75289</td>\n      <td>-0.00491</td>\n    </tr>\n    <tr>\n      <th>0</th>\n      <td>Elastic, alpha 0.027825594022071243, l1_ratio ...</td>\n      <td>1.19940</td>\n      <td>1.43857</td>\n      <td>0.93553</td>\n      <td>0.75265</td>\n      <td>-0.00454</td>\n    </tr>\n    <tr>\n      <th>0</th>\n      <td>Elastic, alpha 0.0774263682681127, l1_ratio : 0.5</td>\n      <td>1.19957</td>\n      <td>1.43897</td>\n      <td>0.93551</td>\n      <td>0.75529</td>\n      <td>-0.00482</td>\n    </tr>\n    <tr>\n      <th>0</th>\n      <td>Elastic, alpha 0.21544346900318834, l1_ratio :...</td>\n      <td>1.19957</td>\n      <td>1.43897</td>\n      <td>0.93551</td>\n      <td>0.75529</td>\n      <td>-0.00482</td>\n    </tr>\n    <tr>\n      <th>0</th>\n      <td>Elastic, alpha 0.5994842503189409, l1_ratio : 0.5</td>\n      <td>1.19957</td>\n      <td>1.43897</td>\n      <td>0.93551</td>\n      <td>0.75529</td>\n      <td>-0.00482</td>\n    </tr>\n    <tr>\n      <th>0</th>\n      <td>Elastic, alpha 1.6681005372000592, l1_ratio : 0.5</td>\n      <td>1.19957</td>\n      <td>1.43897</td>\n      <td>0.93551</td>\n      <td>0.75529</td>\n      <td>-0.00482</td>\n    </tr>\n    <tr>\n      <th>0</th>\n      <td>Elastic, alpha 4.6415888336127775, l1_ratio : 0.5</td>\n      <td>1.19957</td>\n      <td>1.43897</td>\n      <td>0.93551</td>\n      <td>0.75529</td>\n      <td>-0.00482</td>\n    </tr>\n    <tr>\n      <th>0</th>\n      <td>Elastic, alpha 12.915496650148826, l1_ratio : 0.5</td>\n      <td>1.19957</td>\n      <td>1.43897</td>\n      <td>0.93551</td>\n      <td>0.75529</td>\n      <td>-0.00482</td>\n    </tr>\n    <tr>\n      <th>0</th>\n      <td>Elastic, alpha 35.93813663804626, l1_ratio : 0.5</td>\n      <td>1.19957</td>\n      <td>1.43897</td>\n      <td>0.93551</td>\n      <td>0.75529</td>\n      <td>-0.00482</td>\n    </tr>\n    <tr>\n      <th>0</th>\n      <td>Elastic, alpha 100.0, l1_ratio : 0.5</td>\n      <td>1.19957</td>\n      <td>1.43897</td>\n      <td>0.93551</td>\n      <td>0.75529</td>\n      <td>-0.00482</td>\n    </tr>\n    <tr>\n      <th>0</th>\n      <td>Elastic, alpha 0.01, l1_ratio : 0.7</td>\n      <td>1.19963</td>\n      <td>1.43910</td>\n      <td>0.93531</td>\n      <td>0.75289</td>\n      <td>-0.00491</td>\n    </tr>\n    <tr>\n      <th>0</th>\n      <td>Elastic, alpha 0.027825594022071243, l1_ratio ...</td>\n      <td>1.19940</td>\n      <td>1.43857</td>\n      <td>0.93553</td>\n      <td>0.75265</td>\n      <td>-0.00454</td>\n    </tr>\n    <tr>\n      <th>0</th>\n      <td>Elastic, alpha 0.0774263682681127, l1_ratio : 0.5</td>\n      <td>1.19957</td>\n      <td>1.43897</td>\n      <td>0.93551</td>\n      <td>0.75529</td>\n      <td>-0.00482</td>\n    </tr>\n    <tr>\n      <th>0</th>\n      <td>Elastic, alpha 0.21544346900318834, l1_ratio :...</td>\n      <td>1.19957</td>\n      <td>1.43897</td>\n      <td>0.93551</td>\n      <td>0.75529</td>\n      <td>-0.00482</td>\n    </tr>\n    <tr>\n      <th>0</th>\n      <td>Elastic, alpha 0.5994842503189409, l1_ratio : 0.5</td>\n      <td>1.19957</td>\n      <td>1.43897</td>\n      <td>0.93551</td>\n      <td>0.75529</td>\n      <td>-0.00482</td>\n    </tr>\n  </tbody>\n</table>\n</div>"
     },
     "metadata": {},
     "output_type": "display_data"
    },
    {
     "name": "stdout",
     "output_type": "stream",
     "text": [
      "alpha : 1.6681005372000592 l1_ratio : 0.0 MSE : 1.4386023353509039\n",
      "alpha : 1.6681005372000592 l1_ratio : 0.1 MSE : 1.438972208813029\n",
      "alpha : 1.6681005372000592 l1_ratio : 0.2 MSE : 1.438972208813029\n",
      "alpha : 1.6681005372000592 l1_ratio : 0.3 MSE : 1.438972208813029\n",
      "alpha : 1.6681005372000592 l1_ratio : 0.4 MSE : 1.438972208813029\n",
      "alpha : 1.6681005372000592 l1_ratio : 0.5 MSE : 1.438972208813029\n",
      "alpha : 1.6681005372000592 l1_ratio : 0.6 MSE : 1.438972208813029\n",
      "alpha : 1.6681005372000592 l1_ratio : 0.7 MSE : 1.438972208813029\n",
      "alpha : 1.6681005372000592 l1_ratio : 0.8 MSE : 1.438972208813029\n",
      "alpha : 1.6681005372000592 l1_ratio : 0.9 MSE : 1.438972208813029\n",
      "Prediction for :  Log-Electricity(kBtu)\n"
     ]
    },
    {
     "data": {
      "text/plain": "                                               Model    RMSE     MSE     MAE  \\\n0                                    Dummy Regressor 1.19957 1.43897 0.93551   \n0                                  Linear Regression 1.21666 1.48025 0.94763   \n0                                  Linear Regression 1.21666 1.48025 0.94763   \n0                                    Ridge Regressor 1.19955 1.43892 0.93550   \n0                                    Ridge Regressor 1.19955 1.43892 0.93550   \n0                           Ridge Regressor Manually 1.19942 1.43860 0.93554   \n0                                    Ridge Regressor 1.19955 1.43892 0.93550   \n0                                    Ridge Regressor 1.19945 1.43867 0.93550   \n0                           Ridge Regressor Manually 1.19955 1.43892 0.93550   \n0                                    Ridge Regressor 1.21642 1.47968 0.94742   \n0                                     LASSO manually 1.19940 1.43856 0.93554   \n0                                     LASSO manually 1.19940 1.43856 0.93554   \n0                                     LASSO manually 1.19940 1.43856 0.93554   \n0                                    Lasso Regressor 1.19957 1.43897 0.93551   \n0                                    Lasso Regressor 1.19957 1.43897 0.93551   \n0                                     LASSO manually 1.19940 1.43856 0.93554   \n0                Elastic, alpha 0.01, l1_ratio : 0.7 1.19963 1.43910 0.93531   \n0  Elastic, alpha 0.027825594022071243, l1_ratio ... 1.19940 1.43857 0.93553   \n0  Elastic, alpha 0.0774263682681127, l1_ratio : 0.5 1.19957 1.43897 0.93551   \n0  Elastic, alpha 0.21544346900318834, l1_ratio :... 1.19957 1.43897 0.93551   \n0  Elastic, alpha 0.5994842503189409, l1_ratio : 0.5 1.19957 1.43897 0.93551   \n0  Elastic, alpha 1.6681005372000592, l1_ratio : 0.5 1.19957 1.43897 0.93551   \n0  Elastic, alpha 4.6415888336127775, l1_ratio : 0.5 1.19957 1.43897 0.93551   \n0  Elastic, alpha 12.915496650148826, l1_ratio : 0.5 1.19957 1.43897 0.93551   \n0   Elastic, alpha 35.93813663804626, l1_ratio : 0.5 1.19957 1.43897 0.93551   \n0               Elastic, alpha 100.0, l1_ratio : 0.5 1.19957 1.43897 0.93551   \n0                Elastic, alpha 0.01, l1_ratio : 0.7 1.19963 1.43910 0.93531   \n0  Elastic, alpha 0.027825594022071243, l1_ratio ... 1.19940 1.43857 0.93553   \n0  Elastic, alpha 0.0774263682681127, l1_ratio : 0.5 1.19957 1.43897 0.93551   \n0  Elastic, alpha 0.21544346900318834, l1_ratio :... 1.19957 1.43897 0.93551   \n0  Elastic, alpha 0.5994842503189409, l1_ratio : 0.5 1.19957 1.43897 0.93551   \n0  Elastic, alpha 1.6681005372000592, l1_ratio : 0.5 1.19957 1.43897 0.93551   \n\n   Median Absolute Error  R² = 1 - RSE  \n0                0.75529      -0.00482  \n0                0.76414      -0.03365  \n0                0.76414      -0.03365  \n0                0.75520      -0.00478  \n0                0.75520      -0.00478  \n0                0.75111      -0.00456  \n0                0.75520      -0.00478  \n0                0.75132      -0.00461  \n0                0.75520      -0.00478  \n0                0.76423      -0.03325  \n0                0.75355      -0.00454  \n0                0.75361      -0.00454  \n0                0.75361      -0.00454  \n0                0.75529      -0.00482  \n0                0.75529      -0.00482  \n0                0.75361      -0.00454  \n0                0.75289      -0.00491  \n0                0.75265      -0.00454  \n0                0.75529      -0.00482  \n0                0.75529      -0.00482  \n0                0.75529      -0.00482  \n0                0.75529      -0.00482  \n0                0.75529      -0.00482  \n0                0.75529      -0.00482  \n0                0.75529      -0.00482  \n0                0.75529      -0.00482  \n0                0.75289      -0.00491  \n0                0.75265      -0.00454  \n0                0.75529      -0.00482  \n0                0.75529      -0.00482  \n0                0.75529      -0.00482  \n0                0.75529      -0.00482  ",
      "text/html": "<div>\n<style scoped>\n    .dataframe tbody tr th:only-of-type {\n        vertical-align: middle;\n    }\n\n    .dataframe tbody tr th {\n        vertical-align: top;\n    }\n\n    .dataframe thead th {\n        text-align: right;\n    }\n</style>\n<table border=\"1\" class=\"dataframe\">\n  <thead>\n    <tr style=\"text-align: right;\">\n      <th></th>\n      <th>Model</th>\n      <th>RMSE</th>\n      <th>MSE</th>\n      <th>MAE</th>\n      <th>Median Absolute Error</th>\n      <th>R² = 1 - RSE</th>\n    </tr>\n  </thead>\n  <tbody>\n    <tr>\n      <th>0</th>\n      <td>Dummy Regressor</td>\n      <td>1.19957</td>\n      <td>1.43897</td>\n      <td>0.93551</td>\n      <td>0.75529</td>\n      <td>-0.00482</td>\n    </tr>\n    <tr>\n      <th>0</th>\n      <td>Linear Regression</td>\n      <td>1.21666</td>\n      <td>1.48025</td>\n      <td>0.94763</td>\n      <td>0.76414</td>\n      <td>-0.03365</td>\n    </tr>\n    <tr>\n      <th>0</th>\n      <td>Linear Regression</td>\n      <td>1.21666</td>\n      <td>1.48025</td>\n      <td>0.94763</td>\n      <td>0.76414</td>\n      <td>-0.03365</td>\n    </tr>\n    <tr>\n      <th>0</th>\n      <td>Ridge Regressor</td>\n      <td>1.19955</td>\n      <td>1.43892</td>\n      <td>0.93550</td>\n      <td>0.75520</td>\n      <td>-0.00478</td>\n    </tr>\n    <tr>\n      <th>0</th>\n      <td>Ridge Regressor</td>\n      <td>1.19955</td>\n      <td>1.43892</td>\n      <td>0.93550</td>\n      <td>0.75520</td>\n      <td>-0.00478</td>\n    </tr>\n    <tr>\n      <th>0</th>\n      <td>Ridge Regressor Manually</td>\n      <td>1.19942</td>\n      <td>1.43860</td>\n      <td>0.93554</td>\n      <td>0.75111</td>\n      <td>-0.00456</td>\n    </tr>\n    <tr>\n      <th>0</th>\n      <td>Ridge Regressor</td>\n      <td>1.19955</td>\n      <td>1.43892</td>\n      <td>0.93550</td>\n      <td>0.75520</td>\n      <td>-0.00478</td>\n    </tr>\n    <tr>\n      <th>0</th>\n      <td>Ridge Regressor</td>\n      <td>1.19945</td>\n      <td>1.43867</td>\n      <td>0.93550</td>\n      <td>0.75132</td>\n      <td>-0.00461</td>\n    </tr>\n    <tr>\n      <th>0</th>\n      <td>Ridge Regressor Manually</td>\n      <td>1.19955</td>\n      <td>1.43892</td>\n      <td>0.93550</td>\n      <td>0.75520</td>\n      <td>-0.00478</td>\n    </tr>\n    <tr>\n      <th>0</th>\n      <td>Ridge Regressor</td>\n      <td>1.21642</td>\n      <td>1.47968</td>\n      <td>0.94742</td>\n      <td>0.76423</td>\n      <td>-0.03325</td>\n    </tr>\n    <tr>\n      <th>0</th>\n      <td>LASSO manually</td>\n      <td>1.19940</td>\n      <td>1.43856</td>\n      <td>0.93554</td>\n      <td>0.75355</td>\n      <td>-0.00454</td>\n    </tr>\n    <tr>\n      <th>0</th>\n      <td>LASSO manually</td>\n      <td>1.19940</td>\n      <td>1.43856</td>\n      <td>0.93554</td>\n      <td>0.75361</td>\n      <td>-0.00454</td>\n    </tr>\n    <tr>\n      <th>0</th>\n      <td>LASSO manually</td>\n      <td>1.19940</td>\n      <td>1.43856</td>\n      <td>0.93554</td>\n      <td>0.75361</td>\n      <td>-0.00454</td>\n    </tr>\n    <tr>\n      <th>0</th>\n      <td>Lasso Regressor</td>\n      <td>1.19957</td>\n      <td>1.43897</td>\n      <td>0.93551</td>\n      <td>0.75529</td>\n      <td>-0.00482</td>\n    </tr>\n    <tr>\n      <th>0</th>\n      <td>Lasso Regressor</td>\n      <td>1.19957</td>\n      <td>1.43897</td>\n      <td>0.93551</td>\n      <td>0.75529</td>\n      <td>-0.00482</td>\n    </tr>\n    <tr>\n      <th>0</th>\n      <td>LASSO manually</td>\n      <td>1.19940</td>\n      <td>1.43856</td>\n      <td>0.93554</td>\n      <td>0.75361</td>\n      <td>-0.00454</td>\n    </tr>\n    <tr>\n      <th>0</th>\n      <td>Elastic, alpha 0.01, l1_ratio : 0.7</td>\n      <td>1.19963</td>\n      <td>1.43910</td>\n      <td>0.93531</td>\n      <td>0.75289</td>\n      <td>-0.00491</td>\n    </tr>\n    <tr>\n      <th>0</th>\n      <td>Elastic, alpha 0.027825594022071243, l1_ratio ...</td>\n      <td>1.19940</td>\n      <td>1.43857</td>\n      <td>0.93553</td>\n      <td>0.75265</td>\n      <td>-0.00454</td>\n    </tr>\n    <tr>\n      <th>0</th>\n      <td>Elastic, alpha 0.0774263682681127, l1_ratio : 0.5</td>\n      <td>1.19957</td>\n      <td>1.43897</td>\n      <td>0.93551</td>\n      <td>0.75529</td>\n      <td>-0.00482</td>\n    </tr>\n    <tr>\n      <th>0</th>\n      <td>Elastic, alpha 0.21544346900318834, l1_ratio :...</td>\n      <td>1.19957</td>\n      <td>1.43897</td>\n      <td>0.93551</td>\n      <td>0.75529</td>\n      <td>-0.00482</td>\n    </tr>\n    <tr>\n      <th>0</th>\n      <td>Elastic, alpha 0.5994842503189409, l1_ratio : 0.5</td>\n      <td>1.19957</td>\n      <td>1.43897</td>\n      <td>0.93551</td>\n      <td>0.75529</td>\n      <td>-0.00482</td>\n    </tr>\n    <tr>\n      <th>0</th>\n      <td>Elastic, alpha 1.6681005372000592, l1_ratio : 0.5</td>\n      <td>1.19957</td>\n      <td>1.43897</td>\n      <td>0.93551</td>\n      <td>0.75529</td>\n      <td>-0.00482</td>\n    </tr>\n    <tr>\n      <th>0</th>\n      <td>Elastic, alpha 4.6415888336127775, l1_ratio : 0.5</td>\n      <td>1.19957</td>\n      <td>1.43897</td>\n      <td>0.93551</td>\n      <td>0.75529</td>\n      <td>-0.00482</td>\n    </tr>\n    <tr>\n      <th>0</th>\n      <td>Elastic, alpha 12.915496650148826, l1_ratio : 0.5</td>\n      <td>1.19957</td>\n      <td>1.43897</td>\n      <td>0.93551</td>\n      <td>0.75529</td>\n      <td>-0.00482</td>\n    </tr>\n    <tr>\n      <th>0</th>\n      <td>Elastic, alpha 35.93813663804626, l1_ratio : 0.5</td>\n      <td>1.19957</td>\n      <td>1.43897</td>\n      <td>0.93551</td>\n      <td>0.75529</td>\n      <td>-0.00482</td>\n    </tr>\n    <tr>\n      <th>0</th>\n      <td>Elastic, alpha 100.0, l1_ratio : 0.5</td>\n      <td>1.19957</td>\n      <td>1.43897</td>\n      <td>0.93551</td>\n      <td>0.75529</td>\n      <td>-0.00482</td>\n    </tr>\n    <tr>\n      <th>0</th>\n      <td>Elastic, alpha 0.01, l1_ratio : 0.7</td>\n      <td>1.19963</td>\n      <td>1.43910</td>\n      <td>0.93531</td>\n      <td>0.75289</td>\n      <td>-0.00491</td>\n    </tr>\n    <tr>\n      <th>0</th>\n      <td>Elastic, alpha 0.027825594022071243, l1_ratio ...</td>\n      <td>1.19940</td>\n      <td>1.43857</td>\n      <td>0.93553</td>\n      <td>0.75265</td>\n      <td>-0.00454</td>\n    </tr>\n    <tr>\n      <th>0</th>\n      <td>Elastic, alpha 0.0774263682681127, l1_ratio : 0.5</td>\n      <td>1.19957</td>\n      <td>1.43897</td>\n      <td>0.93551</td>\n      <td>0.75529</td>\n      <td>-0.00482</td>\n    </tr>\n    <tr>\n      <th>0</th>\n      <td>Elastic, alpha 0.21544346900318834, l1_ratio :...</td>\n      <td>1.19957</td>\n      <td>1.43897</td>\n      <td>0.93551</td>\n      <td>0.75529</td>\n      <td>-0.00482</td>\n    </tr>\n    <tr>\n      <th>0</th>\n      <td>Elastic, alpha 0.5994842503189409, l1_ratio : 0.5</td>\n      <td>1.19957</td>\n      <td>1.43897</td>\n      <td>0.93551</td>\n      <td>0.75529</td>\n      <td>-0.00482</td>\n    </tr>\n    <tr>\n      <th>0</th>\n      <td>Elastic, alpha 1.6681005372000592, l1_ratio : 0.5</td>\n      <td>1.19957</td>\n      <td>1.43897</td>\n      <td>0.93551</td>\n      <td>0.75529</td>\n      <td>-0.00482</td>\n    </tr>\n  </tbody>\n</table>\n</div>"
     },
     "metadata": {},
     "output_type": "display_data"
    },
    {
     "name": "stdout",
     "output_type": "stream",
     "text": [
      "alpha : 4.6415888336127775 l1_ratio : 0.0 MSE : 1.438676587541931\n",
      "alpha : 4.6415888336127775 l1_ratio : 0.1 MSE : 1.438972208813029\n",
      "alpha : 4.6415888336127775 l1_ratio : 0.2 MSE : 1.438972208813029\n",
      "alpha : 4.6415888336127775 l1_ratio : 0.3 MSE : 1.438972208813029\n",
      "alpha : 4.6415888336127775 l1_ratio : 0.4 MSE : 1.438972208813029\n",
      "alpha : 4.6415888336127775 l1_ratio : 0.5 MSE : 1.438972208813029\n",
      "alpha : 4.6415888336127775 l1_ratio : 0.6 MSE : 1.438972208813029\n",
      "alpha : 4.6415888336127775 l1_ratio : 0.7 MSE : 1.438972208813029\n",
      "alpha : 4.6415888336127775 l1_ratio : 0.8 MSE : 1.438972208813029\n",
      "alpha : 4.6415888336127775 l1_ratio : 0.9 MSE : 1.438972208813029\n",
      "Prediction for :  Log-Electricity(kBtu)\n"
     ]
    },
    {
     "data": {
      "text/plain": "                                               Model    RMSE     MSE     MAE  \\\n0                                    Dummy Regressor 1.19957 1.43897 0.93551   \n0                                  Linear Regression 1.21666 1.48025 0.94763   \n0                                  Linear Regression 1.21666 1.48025 0.94763   \n0                                    Ridge Regressor 1.19955 1.43892 0.93550   \n0                                    Ridge Regressor 1.19955 1.43892 0.93550   \n0                           Ridge Regressor Manually 1.19942 1.43860 0.93554   \n0                                    Ridge Regressor 1.19955 1.43892 0.93550   \n0                                    Ridge Regressor 1.19945 1.43867 0.93550   \n0                           Ridge Regressor Manually 1.19955 1.43892 0.93550   \n0                                    Ridge Regressor 1.21642 1.47968 0.94742   \n0                                     LASSO manually 1.19940 1.43856 0.93554   \n0                                     LASSO manually 1.19940 1.43856 0.93554   \n0                                     LASSO manually 1.19940 1.43856 0.93554   \n0                                    Lasso Regressor 1.19957 1.43897 0.93551   \n0                                    Lasso Regressor 1.19957 1.43897 0.93551   \n0                                     LASSO manually 1.19940 1.43856 0.93554   \n0                Elastic, alpha 0.01, l1_ratio : 0.7 1.19963 1.43910 0.93531   \n0  Elastic, alpha 0.027825594022071243, l1_ratio ... 1.19940 1.43857 0.93553   \n0  Elastic, alpha 0.0774263682681127, l1_ratio : 0.5 1.19957 1.43897 0.93551   \n0  Elastic, alpha 0.21544346900318834, l1_ratio :... 1.19957 1.43897 0.93551   \n0  Elastic, alpha 0.5994842503189409, l1_ratio : 0.5 1.19957 1.43897 0.93551   \n0  Elastic, alpha 1.6681005372000592, l1_ratio : 0.5 1.19957 1.43897 0.93551   \n0  Elastic, alpha 4.6415888336127775, l1_ratio : 0.5 1.19957 1.43897 0.93551   \n0  Elastic, alpha 12.915496650148826, l1_ratio : 0.5 1.19957 1.43897 0.93551   \n0   Elastic, alpha 35.93813663804626, l1_ratio : 0.5 1.19957 1.43897 0.93551   \n0               Elastic, alpha 100.0, l1_ratio : 0.5 1.19957 1.43897 0.93551   \n0                Elastic, alpha 0.01, l1_ratio : 0.7 1.19963 1.43910 0.93531   \n0  Elastic, alpha 0.027825594022071243, l1_ratio ... 1.19940 1.43857 0.93553   \n0  Elastic, alpha 0.0774263682681127, l1_ratio : 0.5 1.19957 1.43897 0.93551   \n0  Elastic, alpha 0.21544346900318834, l1_ratio :... 1.19957 1.43897 0.93551   \n0  Elastic, alpha 0.5994842503189409, l1_ratio : 0.5 1.19957 1.43897 0.93551   \n0  Elastic, alpha 1.6681005372000592, l1_ratio : 0.5 1.19957 1.43897 0.93551   \n0  Elastic, alpha 4.6415888336127775, l1_ratio : 0.5 1.19957 1.43897 0.93551   \n\n   Median Absolute Error  R² = 1 - RSE  \n0                0.75529      -0.00482  \n0                0.76414      -0.03365  \n0                0.76414      -0.03365  \n0                0.75520      -0.00478  \n0                0.75520      -0.00478  \n0                0.75111      -0.00456  \n0                0.75520      -0.00478  \n0                0.75132      -0.00461  \n0                0.75520      -0.00478  \n0                0.76423      -0.03325  \n0                0.75355      -0.00454  \n0                0.75361      -0.00454  \n0                0.75361      -0.00454  \n0                0.75529      -0.00482  \n0                0.75529      -0.00482  \n0                0.75361      -0.00454  \n0                0.75289      -0.00491  \n0                0.75265      -0.00454  \n0                0.75529      -0.00482  \n0                0.75529      -0.00482  \n0                0.75529      -0.00482  \n0                0.75529      -0.00482  \n0                0.75529      -0.00482  \n0                0.75529      -0.00482  \n0                0.75529      -0.00482  \n0                0.75529      -0.00482  \n0                0.75289      -0.00491  \n0                0.75265      -0.00454  \n0                0.75529      -0.00482  \n0                0.75529      -0.00482  \n0                0.75529      -0.00482  \n0                0.75529      -0.00482  \n0                0.75529      -0.00482  ",
      "text/html": "<div>\n<style scoped>\n    .dataframe tbody tr th:only-of-type {\n        vertical-align: middle;\n    }\n\n    .dataframe tbody tr th {\n        vertical-align: top;\n    }\n\n    .dataframe thead th {\n        text-align: right;\n    }\n</style>\n<table border=\"1\" class=\"dataframe\">\n  <thead>\n    <tr style=\"text-align: right;\">\n      <th></th>\n      <th>Model</th>\n      <th>RMSE</th>\n      <th>MSE</th>\n      <th>MAE</th>\n      <th>Median Absolute Error</th>\n      <th>R² = 1 - RSE</th>\n    </tr>\n  </thead>\n  <tbody>\n    <tr>\n      <th>0</th>\n      <td>Dummy Regressor</td>\n      <td>1.19957</td>\n      <td>1.43897</td>\n      <td>0.93551</td>\n      <td>0.75529</td>\n      <td>-0.00482</td>\n    </tr>\n    <tr>\n      <th>0</th>\n      <td>Linear Regression</td>\n      <td>1.21666</td>\n      <td>1.48025</td>\n      <td>0.94763</td>\n      <td>0.76414</td>\n      <td>-0.03365</td>\n    </tr>\n    <tr>\n      <th>0</th>\n      <td>Linear Regression</td>\n      <td>1.21666</td>\n      <td>1.48025</td>\n      <td>0.94763</td>\n      <td>0.76414</td>\n      <td>-0.03365</td>\n    </tr>\n    <tr>\n      <th>0</th>\n      <td>Ridge Regressor</td>\n      <td>1.19955</td>\n      <td>1.43892</td>\n      <td>0.93550</td>\n      <td>0.75520</td>\n      <td>-0.00478</td>\n    </tr>\n    <tr>\n      <th>0</th>\n      <td>Ridge Regressor</td>\n      <td>1.19955</td>\n      <td>1.43892</td>\n      <td>0.93550</td>\n      <td>0.75520</td>\n      <td>-0.00478</td>\n    </tr>\n    <tr>\n      <th>0</th>\n      <td>Ridge Regressor Manually</td>\n      <td>1.19942</td>\n      <td>1.43860</td>\n      <td>0.93554</td>\n      <td>0.75111</td>\n      <td>-0.00456</td>\n    </tr>\n    <tr>\n      <th>0</th>\n      <td>Ridge Regressor</td>\n      <td>1.19955</td>\n      <td>1.43892</td>\n      <td>0.93550</td>\n      <td>0.75520</td>\n      <td>-0.00478</td>\n    </tr>\n    <tr>\n      <th>0</th>\n      <td>Ridge Regressor</td>\n      <td>1.19945</td>\n      <td>1.43867</td>\n      <td>0.93550</td>\n      <td>0.75132</td>\n      <td>-0.00461</td>\n    </tr>\n    <tr>\n      <th>0</th>\n      <td>Ridge Regressor Manually</td>\n      <td>1.19955</td>\n      <td>1.43892</td>\n      <td>0.93550</td>\n      <td>0.75520</td>\n      <td>-0.00478</td>\n    </tr>\n    <tr>\n      <th>0</th>\n      <td>Ridge Regressor</td>\n      <td>1.21642</td>\n      <td>1.47968</td>\n      <td>0.94742</td>\n      <td>0.76423</td>\n      <td>-0.03325</td>\n    </tr>\n    <tr>\n      <th>0</th>\n      <td>LASSO manually</td>\n      <td>1.19940</td>\n      <td>1.43856</td>\n      <td>0.93554</td>\n      <td>0.75355</td>\n      <td>-0.00454</td>\n    </tr>\n    <tr>\n      <th>0</th>\n      <td>LASSO manually</td>\n      <td>1.19940</td>\n      <td>1.43856</td>\n      <td>0.93554</td>\n      <td>0.75361</td>\n      <td>-0.00454</td>\n    </tr>\n    <tr>\n      <th>0</th>\n      <td>LASSO manually</td>\n      <td>1.19940</td>\n      <td>1.43856</td>\n      <td>0.93554</td>\n      <td>0.75361</td>\n      <td>-0.00454</td>\n    </tr>\n    <tr>\n      <th>0</th>\n      <td>Lasso Regressor</td>\n      <td>1.19957</td>\n      <td>1.43897</td>\n      <td>0.93551</td>\n      <td>0.75529</td>\n      <td>-0.00482</td>\n    </tr>\n    <tr>\n      <th>0</th>\n      <td>Lasso Regressor</td>\n      <td>1.19957</td>\n      <td>1.43897</td>\n      <td>0.93551</td>\n      <td>0.75529</td>\n      <td>-0.00482</td>\n    </tr>\n    <tr>\n      <th>0</th>\n      <td>LASSO manually</td>\n      <td>1.19940</td>\n      <td>1.43856</td>\n      <td>0.93554</td>\n      <td>0.75361</td>\n      <td>-0.00454</td>\n    </tr>\n    <tr>\n      <th>0</th>\n      <td>Elastic, alpha 0.01, l1_ratio : 0.7</td>\n      <td>1.19963</td>\n      <td>1.43910</td>\n      <td>0.93531</td>\n      <td>0.75289</td>\n      <td>-0.00491</td>\n    </tr>\n    <tr>\n      <th>0</th>\n      <td>Elastic, alpha 0.027825594022071243, l1_ratio ...</td>\n      <td>1.19940</td>\n      <td>1.43857</td>\n      <td>0.93553</td>\n      <td>0.75265</td>\n      <td>-0.00454</td>\n    </tr>\n    <tr>\n      <th>0</th>\n      <td>Elastic, alpha 0.0774263682681127, l1_ratio : 0.5</td>\n      <td>1.19957</td>\n      <td>1.43897</td>\n      <td>0.93551</td>\n      <td>0.75529</td>\n      <td>-0.00482</td>\n    </tr>\n    <tr>\n      <th>0</th>\n      <td>Elastic, alpha 0.21544346900318834, l1_ratio :...</td>\n      <td>1.19957</td>\n      <td>1.43897</td>\n      <td>0.93551</td>\n      <td>0.75529</td>\n      <td>-0.00482</td>\n    </tr>\n    <tr>\n      <th>0</th>\n      <td>Elastic, alpha 0.5994842503189409, l1_ratio : 0.5</td>\n      <td>1.19957</td>\n      <td>1.43897</td>\n      <td>0.93551</td>\n      <td>0.75529</td>\n      <td>-0.00482</td>\n    </tr>\n    <tr>\n      <th>0</th>\n      <td>Elastic, alpha 1.6681005372000592, l1_ratio : 0.5</td>\n      <td>1.19957</td>\n      <td>1.43897</td>\n      <td>0.93551</td>\n      <td>0.75529</td>\n      <td>-0.00482</td>\n    </tr>\n    <tr>\n      <th>0</th>\n      <td>Elastic, alpha 4.6415888336127775, l1_ratio : 0.5</td>\n      <td>1.19957</td>\n      <td>1.43897</td>\n      <td>0.93551</td>\n      <td>0.75529</td>\n      <td>-0.00482</td>\n    </tr>\n    <tr>\n      <th>0</th>\n      <td>Elastic, alpha 12.915496650148826, l1_ratio : 0.5</td>\n      <td>1.19957</td>\n      <td>1.43897</td>\n      <td>0.93551</td>\n      <td>0.75529</td>\n      <td>-0.00482</td>\n    </tr>\n    <tr>\n      <th>0</th>\n      <td>Elastic, alpha 35.93813663804626, l1_ratio : 0.5</td>\n      <td>1.19957</td>\n      <td>1.43897</td>\n      <td>0.93551</td>\n      <td>0.75529</td>\n      <td>-0.00482</td>\n    </tr>\n    <tr>\n      <th>0</th>\n      <td>Elastic, alpha 100.0, l1_ratio : 0.5</td>\n      <td>1.19957</td>\n      <td>1.43897</td>\n      <td>0.93551</td>\n      <td>0.75529</td>\n      <td>-0.00482</td>\n    </tr>\n    <tr>\n      <th>0</th>\n      <td>Elastic, alpha 0.01, l1_ratio : 0.7</td>\n      <td>1.19963</td>\n      <td>1.43910</td>\n      <td>0.93531</td>\n      <td>0.75289</td>\n      <td>-0.00491</td>\n    </tr>\n    <tr>\n      <th>0</th>\n      <td>Elastic, alpha 0.027825594022071243, l1_ratio ...</td>\n      <td>1.19940</td>\n      <td>1.43857</td>\n      <td>0.93553</td>\n      <td>0.75265</td>\n      <td>-0.00454</td>\n    </tr>\n    <tr>\n      <th>0</th>\n      <td>Elastic, alpha 0.0774263682681127, l1_ratio : 0.5</td>\n      <td>1.19957</td>\n      <td>1.43897</td>\n      <td>0.93551</td>\n      <td>0.75529</td>\n      <td>-0.00482</td>\n    </tr>\n    <tr>\n      <th>0</th>\n      <td>Elastic, alpha 0.21544346900318834, l1_ratio :...</td>\n      <td>1.19957</td>\n      <td>1.43897</td>\n      <td>0.93551</td>\n      <td>0.75529</td>\n      <td>-0.00482</td>\n    </tr>\n    <tr>\n      <th>0</th>\n      <td>Elastic, alpha 0.5994842503189409, l1_ratio : 0.5</td>\n      <td>1.19957</td>\n      <td>1.43897</td>\n      <td>0.93551</td>\n      <td>0.75529</td>\n      <td>-0.00482</td>\n    </tr>\n    <tr>\n      <th>0</th>\n      <td>Elastic, alpha 1.6681005372000592, l1_ratio : 0.5</td>\n      <td>1.19957</td>\n      <td>1.43897</td>\n      <td>0.93551</td>\n      <td>0.75529</td>\n      <td>-0.00482</td>\n    </tr>\n    <tr>\n      <th>0</th>\n      <td>Elastic, alpha 4.6415888336127775, l1_ratio : 0.5</td>\n      <td>1.19957</td>\n      <td>1.43897</td>\n      <td>0.93551</td>\n      <td>0.75529</td>\n      <td>-0.00482</td>\n    </tr>\n  </tbody>\n</table>\n</div>"
     },
     "metadata": {},
     "output_type": "display_data"
    },
    {
     "name": "stdout",
     "output_type": "stream",
     "text": [
      "alpha : 12.915496650148826 l1_ratio : 0.0 MSE : 1.4388168984159466\n",
      "alpha : 12.915496650148826 l1_ratio : 0.1 MSE : 1.438972208813029\n",
      "alpha : 12.915496650148826 l1_ratio : 0.2 MSE : 1.438972208813029\n",
      "alpha : 12.915496650148826 l1_ratio : 0.3 MSE : 1.438972208813029\n",
      "alpha : 12.915496650148826 l1_ratio : 0.4 MSE : 1.438972208813029\n",
      "alpha : 12.915496650148826 l1_ratio : 0.5 MSE : 1.438972208813029\n",
      "alpha : 12.915496650148826 l1_ratio : 0.6 MSE : 1.438972208813029\n",
      "alpha : 12.915496650148826 l1_ratio : 0.7 MSE : 1.438972208813029\n",
      "alpha : 12.915496650148826 l1_ratio : 0.8 MSE : 1.438972208813029\n",
      "alpha : 12.915496650148826 l1_ratio : 0.9 MSE : 1.438972208813029\n",
      "Prediction for :  Log-Electricity(kBtu)\n"
     ]
    },
    {
     "data": {
      "text/plain": "                                               Model    RMSE     MSE     MAE  \\\n0                                    Dummy Regressor 1.19957 1.43897 0.93551   \n0                                  Linear Regression 1.21666 1.48025 0.94763   \n0                                  Linear Regression 1.21666 1.48025 0.94763   \n0                                    Ridge Regressor 1.19955 1.43892 0.93550   \n0                                    Ridge Regressor 1.19955 1.43892 0.93550   \n0                           Ridge Regressor Manually 1.19942 1.43860 0.93554   \n0                                    Ridge Regressor 1.19955 1.43892 0.93550   \n0                                    Ridge Regressor 1.19945 1.43867 0.93550   \n0                           Ridge Regressor Manually 1.19955 1.43892 0.93550   \n0                                    Ridge Regressor 1.21642 1.47968 0.94742   \n0                                     LASSO manually 1.19940 1.43856 0.93554   \n0                                     LASSO manually 1.19940 1.43856 0.93554   \n0                                     LASSO manually 1.19940 1.43856 0.93554   \n0                                    Lasso Regressor 1.19957 1.43897 0.93551   \n0                                    Lasso Regressor 1.19957 1.43897 0.93551   \n0                                     LASSO manually 1.19940 1.43856 0.93554   \n0                Elastic, alpha 0.01, l1_ratio : 0.7 1.19963 1.43910 0.93531   \n0  Elastic, alpha 0.027825594022071243, l1_ratio ... 1.19940 1.43857 0.93553   \n0  Elastic, alpha 0.0774263682681127, l1_ratio : 0.5 1.19957 1.43897 0.93551   \n0  Elastic, alpha 0.21544346900318834, l1_ratio :... 1.19957 1.43897 0.93551   \n0  Elastic, alpha 0.5994842503189409, l1_ratio : 0.5 1.19957 1.43897 0.93551   \n0  Elastic, alpha 1.6681005372000592, l1_ratio : 0.5 1.19957 1.43897 0.93551   \n0  Elastic, alpha 4.6415888336127775, l1_ratio : 0.5 1.19957 1.43897 0.93551   \n0  Elastic, alpha 12.915496650148826, l1_ratio : 0.5 1.19957 1.43897 0.93551   \n0   Elastic, alpha 35.93813663804626, l1_ratio : 0.5 1.19957 1.43897 0.93551   \n0               Elastic, alpha 100.0, l1_ratio : 0.5 1.19957 1.43897 0.93551   \n0                Elastic, alpha 0.01, l1_ratio : 0.7 1.19963 1.43910 0.93531   \n0  Elastic, alpha 0.027825594022071243, l1_ratio ... 1.19940 1.43857 0.93553   \n0  Elastic, alpha 0.0774263682681127, l1_ratio : 0.5 1.19957 1.43897 0.93551   \n0  Elastic, alpha 0.21544346900318834, l1_ratio :... 1.19957 1.43897 0.93551   \n0  Elastic, alpha 0.5994842503189409, l1_ratio : 0.5 1.19957 1.43897 0.93551   \n0  Elastic, alpha 1.6681005372000592, l1_ratio : 0.5 1.19957 1.43897 0.93551   \n0  Elastic, alpha 4.6415888336127775, l1_ratio : 0.5 1.19957 1.43897 0.93551   \n0  Elastic, alpha 12.915496650148826, l1_ratio : 0.5 1.19957 1.43897 0.93551   \n\n   Median Absolute Error  R² = 1 - RSE  \n0                0.75529      -0.00482  \n0                0.76414      -0.03365  \n0                0.76414      -0.03365  \n0                0.75520      -0.00478  \n0                0.75520      -0.00478  \n0                0.75111      -0.00456  \n0                0.75520      -0.00478  \n0                0.75132      -0.00461  \n0                0.75520      -0.00478  \n0                0.76423      -0.03325  \n0                0.75355      -0.00454  \n0                0.75361      -0.00454  \n0                0.75361      -0.00454  \n0                0.75529      -0.00482  \n0                0.75529      -0.00482  \n0                0.75361      -0.00454  \n0                0.75289      -0.00491  \n0                0.75265      -0.00454  \n0                0.75529      -0.00482  \n0                0.75529      -0.00482  \n0                0.75529      -0.00482  \n0                0.75529      -0.00482  \n0                0.75529      -0.00482  \n0                0.75529      -0.00482  \n0                0.75529      -0.00482  \n0                0.75529      -0.00482  \n0                0.75289      -0.00491  \n0                0.75265      -0.00454  \n0                0.75529      -0.00482  \n0                0.75529      -0.00482  \n0                0.75529      -0.00482  \n0                0.75529      -0.00482  \n0                0.75529      -0.00482  \n0                0.75529      -0.00482  ",
      "text/html": "<div>\n<style scoped>\n    .dataframe tbody tr th:only-of-type {\n        vertical-align: middle;\n    }\n\n    .dataframe tbody tr th {\n        vertical-align: top;\n    }\n\n    .dataframe thead th {\n        text-align: right;\n    }\n</style>\n<table border=\"1\" class=\"dataframe\">\n  <thead>\n    <tr style=\"text-align: right;\">\n      <th></th>\n      <th>Model</th>\n      <th>RMSE</th>\n      <th>MSE</th>\n      <th>MAE</th>\n      <th>Median Absolute Error</th>\n      <th>R² = 1 - RSE</th>\n    </tr>\n  </thead>\n  <tbody>\n    <tr>\n      <th>0</th>\n      <td>Dummy Regressor</td>\n      <td>1.19957</td>\n      <td>1.43897</td>\n      <td>0.93551</td>\n      <td>0.75529</td>\n      <td>-0.00482</td>\n    </tr>\n    <tr>\n      <th>0</th>\n      <td>Linear Regression</td>\n      <td>1.21666</td>\n      <td>1.48025</td>\n      <td>0.94763</td>\n      <td>0.76414</td>\n      <td>-0.03365</td>\n    </tr>\n    <tr>\n      <th>0</th>\n      <td>Linear Regression</td>\n      <td>1.21666</td>\n      <td>1.48025</td>\n      <td>0.94763</td>\n      <td>0.76414</td>\n      <td>-0.03365</td>\n    </tr>\n    <tr>\n      <th>0</th>\n      <td>Ridge Regressor</td>\n      <td>1.19955</td>\n      <td>1.43892</td>\n      <td>0.93550</td>\n      <td>0.75520</td>\n      <td>-0.00478</td>\n    </tr>\n    <tr>\n      <th>0</th>\n      <td>Ridge Regressor</td>\n      <td>1.19955</td>\n      <td>1.43892</td>\n      <td>0.93550</td>\n      <td>0.75520</td>\n      <td>-0.00478</td>\n    </tr>\n    <tr>\n      <th>0</th>\n      <td>Ridge Regressor Manually</td>\n      <td>1.19942</td>\n      <td>1.43860</td>\n      <td>0.93554</td>\n      <td>0.75111</td>\n      <td>-0.00456</td>\n    </tr>\n    <tr>\n      <th>0</th>\n      <td>Ridge Regressor</td>\n      <td>1.19955</td>\n      <td>1.43892</td>\n      <td>0.93550</td>\n      <td>0.75520</td>\n      <td>-0.00478</td>\n    </tr>\n    <tr>\n      <th>0</th>\n      <td>Ridge Regressor</td>\n      <td>1.19945</td>\n      <td>1.43867</td>\n      <td>0.93550</td>\n      <td>0.75132</td>\n      <td>-0.00461</td>\n    </tr>\n    <tr>\n      <th>0</th>\n      <td>Ridge Regressor Manually</td>\n      <td>1.19955</td>\n      <td>1.43892</td>\n      <td>0.93550</td>\n      <td>0.75520</td>\n      <td>-0.00478</td>\n    </tr>\n    <tr>\n      <th>0</th>\n      <td>Ridge Regressor</td>\n      <td>1.21642</td>\n      <td>1.47968</td>\n      <td>0.94742</td>\n      <td>0.76423</td>\n      <td>-0.03325</td>\n    </tr>\n    <tr>\n      <th>0</th>\n      <td>LASSO manually</td>\n      <td>1.19940</td>\n      <td>1.43856</td>\n      <td>0.93554</td>\n      <td>0.75355</td>\n      <td>-0.00454</td>\n    </tr>\n    <tr>\n      <th>0</th>\n      <td>LASSO manually</td>\n      <td>1.19940</td>\n      <td>1.43856</td>\n      <td>0.93554</td>\n      <td>0.75361</td>\n      <td>-0.00454</td>\n    </tr>\n    <tr>\n      <th>0</th>\n      <td>LASSO manually</td>\n      <td>1.19940</td>\n      <td>1.43856</td>\n      <td>0.93554</td>\n      <td>0.75361</td>\n      <td>-0.00454</td>\n    </tr>\n    <tr>\n      <th>0</th>\n      <td>Lasso Regressor</td>\n      <td>1.19957</td>\n      <td>1.43897</td>\n      <td>0.93551</td>\n      <td>0.75529</td>\n      <td>-0.00482</td>\n    </tr>\n    <tr>\n      <th>0</th>\n      <td>Lasso Regressor</td>\n      <td>1.19957</td>\n      <td>1.43897</td>\n      <td>0.93551</td>\n      <td>0.75529</td>\n      <td>-0.00482</td>\n    </tr>\n    <tr>\n      <th>0</th>\n      <td>LASSO manually</td>\n      <td>1.19940</td>\n      <td>1.43856</td>\n      <td>0.93554</td>\n      <td>0.75361</td>\n      <td>-0.00454</td>\n    </tr>\n    <tr>\n      <th>0</th>\n      <td>Elastic, alpha 0.01, l1_ratio : 0.7</td>\n      <td>1.19963</td>\n      <td>1.43910</td>\n      <td>0.93531</td>\n      <td>0.75289</td>\n      <td>-0.00491</td>\n    </tr>\n    <tr>\n      <th>0</th>\n      <td>Elastic, alpha 0.027825594022071243, l1_ratio ...</td>\n      <td>1.19940</td>\n      <td>1.43857</td>\n      <td>0.93553</td>\n      <td>0.75265</td>\n      <td>-0.00454</td>\n    </tr>\n    <tr>\n      <th>0</th>\n      <td>Elastic, alpha 0.0774263682681127, l1_ratio : 0.5</td>\n      <td>1.19957</td>\n      <td>1.43897</td>\n      <td>0.93551</td>\n      <td>0.75529</td>\n      <td>-0.00482</td>\n    </tr>\n    <tr>\n      <th>0</th>\n      <td>Elastic, alpha 0.21544346900318834, l1_ratio :...</td>\n      <td>1.19957</td>\n      <td>1.43897</td>\n      <td>0.93551</td>\n      <td>0.75529</td>\n      <td>-0.00482</td>\n    </tr>\n    <tr>\n      <th>0</th>\n      <td>Elastic, alpha 0.5994842503189409, l1_ratio : 0.5</td>\n      <td>1.19957</td>\n      <td>1.43897</td>\n      <td>0.93551</td>\n      <td>0.75529</td>\n      <td>-0.00482</td>\n    </tr>\n    <tr>\n      <th>0</th>\n      <td>Elastic, alpha 1.6681005372000592, l1_ratio : 0.5</td>\n      <td>1.19957</td>\n      <td>1.43897</td>\n      <td>0.93551</td>\n      <td>0.75529</td>\n      <td>-0.00482</td>\n    </tr>\n    <tr>\n      <th>0</th>\n      <td>Elastic, alpha 4.6415888336127775, l1_ratio : 0.5</td>\n      <td>1.19957</td>\n      <td>1.43897</td>\n      <td>0.93551</td>\n      <td>0.75529</td>\n      <td>-0.00482</td>\n    </tr>\n    <tr>\n      <th>0</th>\n      <td>Elastic, alpha 12.915496650148826, l1_ratio : 0.5</td>\n      <td>1.19957</td>\n      <td>1.43897</td>\n      <td>0.93551</td>\n      <td>0.75529</td>\n      <td>-0.00482</td>\n    </tr>\n    <tr>\n      <th>0</th>\n      <td>Elastic, alpha 35.93813663804626, l1_ratio : 0.5</td>\n      <td>1.19957</td>\n      <td>1.43897</td>\n      <td>0.93551</td>\n      <td>0.75529</td>\n      <td>-0.00482</td>\n    </tr>\n    <tr>\n      <th>0</th>\n      <td>Elastic, alpha 100.0, l1_ratio : 0.5</td>\n      <td>1.19957</td>\n      <td>1.43897</td>\n      <td>0.93551</td>\n      <td>0.75529</td>\n      <td>-0.00482</td>\n    </tr>\n    <tr>\n      <th>0</th>\n      <td>Elastic, alpha 0.01, l1_ratio : 0.7</td>\n      <td>1.19963</td>\n      <td>1.43910</td>\n      <td>0.93531</td>\n      <td>0.75289</td>\n      <td>-0.00491</td>\n    </tr>\n    <tr>\n      <th>0</th>\n      <td>Elastic, alpha 0.027825594022071243, l1_ratio ...</td>\n      <td>1.19940</td>\n      <td>1.43857</td>\n      <td>0.93553</td>\n      <td>0.75265</td>\n      <td>-0.00454</td>\n    </tr>\n    <tr>\n      <th>0</th>\n      <td>Elastic, alpha 0.0774263682681127, l1_ratio : 0.5</td>\n      <td>1.19957</td>\n      <td>1.43897</td>\n      <td>0.93551</td>\n      <td>0.75529</td>\n      <td>-0.00482</td>\n    </tr>\n    <tr>\n      <th>0</th>\n      <td>Elastic, alpha 0.21544346900318834, l1_ratio :...</td>\n      <td>1.19957</td>\n      <td>1.43897</td>\n      <td>0.93551</td>\n      <td>0.75529</td>\n      <td>-0.00482</td>\n    </tr>\n    <tr>\n      <th>0</th>\n      <td>Elastic, alpha 0.5994842503189409, l1_ratio : 0.5</td>\n      <td>1.19957</td>\n      <td>1.43897</td>\n      <td>0.93551</td>\n      <td>0.75529</td>\n      <td>-0.00482</td>\n    </tr>\n    <tr>\n      <th>0</th>\n      <td>Elastic, alpha 1.6681005372000592, l1_ratio : 0.5</td>\n      <td>1.19957</td>\n      <td>1.43897</td>\n      <td>0.93551</td>\n      <td>0.75529</td>\n      <td>-0.00482</td>\n    </tr>\n    <tr>\n      <th>0</th>\n      <td>Elastic, alpha 4.6415888336127775, l1_ratio : 0.5</td>\n      <td>1.19957</td>\n      <td>1.43897</td>\n      <td>0.93551</td>\n      <td>0.75529</td>\n      <td>-0.00482</td>\n    </tr>\n    <tr>\n      <th>0</th>\n      <td>Elastic, alpha 12.915496650148826, l1_ratio : 0.5</td>\n      <td>1.19957</td>\n      <td>1.43897</td>\n      <td>0.93551</td>\n      <td>0.75529</td>\n      <td>-0.00482</td>\n    </tr>\n  </tbody>\n</table>\n</div>"
     },
     "metadata": {},
     "output_type": "display_data"
    },
    {
     "name": "stdout",
     "output_type": "stream",
     "text": [
      "alpha : 35.93813663804626 l1_ratio : 0.0 MSE : 1.4389065833041987\n",
      "alpha : 35.93813663804626 l1_ratio : 0.1 MSE : 1.438972208813029\n",
      "alpha : 35.93813663804626 l1_ratio : 0.2 MSE : 1.438972208813029\n",
      "alpha : 35.93813663804626 l1_ratio : 0.3 MSE : 1.438972208813029\n",
      "alpha : 35.93813663804626 l1_ratio : 0.4 MSE : 1.438972208813029\n",
      "alpha : 35.93813663804626 l1_ratio : 0.5 MSE : 1.438972208813029\n",
      "alpha : 35.93813663804626 l1_ratio : 0.6 MSE : 1.438972208813029\n",
      "alpha : 35.93813663804626 l1_ratio : 0.7 MSE : 1.438972208813029\n",
      "alpha : 35.93813663804626 l1_ratio : 0.8 MSE : 1.438972208813029\n",
      "alpha : 35.93813663804626 l1_ratio : 0.9 MSE : 1.438972208813029\n",
      "Prediction for :  Log-Electricity(kBtu)\n"
     ]
    },
    {
     "data": {
      "text/plain": "                                               Model    RMSE     MSE     MAE  \\\n0                                    Dummy Regressor 1.19957 1.43897 0.93551   \n0                                  Linear Regression 1.21666 1.48025 0.94763   \n0                                  Linear Regression 1.21666 1.48025 0.94763   \n0                                    Ridge Regressor 1.19955 1.43892 0.93550   \n0                                    Ridge Regressor 1.19955 1.43892 0.93550   \n0                           Ridge Regressor Manually 1.19942 1.43860 0.93554   \n0                                    Ridge Regressor 1.19955 1.43892 0.93550   \n0                                    Ridge Regressor 1.19945 1.43867 0.93550   \n0                           Ridge Regressor Manually 1.19955 1.43892 0.93550   \n0                                    Ridge Regressor 1.21642 1.47968 0.94742   \n0                                     LASSO manually 1.19940 1.43856 0.93554   \n0                                     LASSO manually 1.19940 1.43856 0.93554   \n0                                     LASSO manually 1.19940 1.43856 0.93554   \n0                                    Lasso Regressor 1.19957 1.43897 0.93551   \n0                                    Lasso Regressor 1.19957 1.43897 0.93551   \n0                                     LASSO manually 1.19940 1.43856 0.93554   \n0                Elastic, alpha 0.01, l1_ratio : 0.7 1.19963 1.43910 0.93531   \n0  Elastic, alpha 0.027825594022071243, l1_ratio ... 1.19940 1.43857 0.93553   \n0  Elastic, alpha 0.0774263682681127, l1_ratio : 0.5 1.19957 1.43897 0.93551   \n0  Elastic, alpha 0.21544346900318834, l1_ratio :... 1.19957 1.43897 0.93551   \n0  Elastic, alpha 0.5994842503189409, l1_ratio : 0.5 1.19957 1.43897 0.93551   \n0  Elastic, alpha 1.6681005372000592, l1_ratio : 0.5 1.19957 1.43897 0.93551   \n0  Elastic, alpha 4.6415888336127775, l1_ratio : 0.5 1.19957 1.43897 0.93551   \n0  Elastic, alpha 12.915496650148826, l1_ratio : 0.5 1.19957 1.43897 0.93551   \n0   Elastic, alpha 35.93813663804626, l1_ratio : 0.5 1.19957 1.43897 0.93551   \n0               Elastic, alpha 100.0, l1_ratio : 0.5 1.19957 1.43897 0.93551   \n0                Elastic, alpha 0.01, l1_ratio : 0.7 1.19963 1.43910 0.93531   \n0  Elastic, alpha 0.027825594022071243, l1_ratio ... 1.19940 1.43857 0.93553   \n0  Elastic, alpha 0.0774263682681127, l1_ratio : 0.5 1.19957 1.43897 0.93551   \n0  Elastic, alpha 0.21544346900318834, l1_ratio :... 1.19957 1.43897 0.93551   \n0  Elastic, alpha 0.5994842503189409, l1_ratio : 0.5 1.19957 1.43897 0.93551   \n0  Elastic, alpha 1.6681005372000592, l1_ratio : 0.5 1.19957 1.43897 0.93551   \n0  Elastic, alpha 4.6415888336127775, l1_ratio : 0.5 1.19957 1.43897 0.93551   \n0  Elastic, alpha 12.915496650148826, l1_ratio : 0.5 1.19957 1.43897 0.93551   \n0   Elastic, alpha 35.93813663804626, l1_ratio : 0.5 1.19957 1.43897 0.93551   \n\n   Median Absolute Error  R² = 1 - RSE  \n0                0.75529      -0.00482  \n0                0.76414      -0.03365  \n0                0.76414      -0.03365  \n0                0.75520      -0.00478  \n0                0.75520      -0.00478  \n0                0.75111      -0.00456  \n0                0.75520      -0.00478  \n0                0.75132      -0.00461  \n0                0.75520      -0.00478  \n0                0.76423      -0.03325  \n0                0.75355      -0.00454  \n0                0.75361      -0.00454  \n0                0.75361      -0.00454  \n0                0.75529      -0.00482  \n0                0.75529      -0.00482  \n0                0.75361      -0.00454  \n0                0.75289      -0.00491  \n0                0.75265      -0.00454  \n0                0.75529      -0.00482  \n0                0.75529      -0.00482  \n0                0.75529      -0.00482  \n0                0.75529      -0.00482  \n0                0.75529      -0.00482  \n0                0.75529      -0.00482  \n0                0.75529      -0.00482  \n0                0.75529      -0.00482  \n0                0.75289      -0.00491  \n0                0.75265      -0.00454  \n0                0.75529      -0.00482  \n0                0.75529      -0.00482  \n0                0.75529      -0.00482  \n0                0.75529      -0.00482  \n0                0.75529      -0.00482  \n0                0.75529      -0.00482  \n0                0.75529      -0.00482  ",
      "text/html": "<div>\n<style scoped>\n    .dataframe tbody tr th:only-of-type {\n        vertical-align: middle;\n    }\n\n    .dataframe tbody tr th {\n        vertical-align: top;\n    }\n\n    .dataframe thead th {\n        text-align: right;\n    }\n</style>\n<table border=\"1\" class=\"dataframe\">\n  <thead>\n    <tr style=\"text-align: right;\">\n      <th></th>\n      <th>Model</th>\n      <th>RMSE</th>\n      <th>MSE</th>\n      <th>MAE</th>\n      <th>Median Absolute Error</th>\n      <th>R² = 1 - RSE</th>\n    </tr>\n  </thead>\n  <tbody>\n    <tr>\n      <th>0</th>\n      <td>Dummy Regressor</td>\n      <td>1.19957</td>\n      <td>1.43897</td>\n      <td>0.93551</td>\n      <td>0.75529</td>\n      <td>-0.00482</td>\n    </tr>\n    <tr>\n      <th>0</th>\n      <td>Linear Regression</td>\n      <td>1.21666</td>\n      <td>1.48025</td>\n      <td>0.94763</td>\n      <td>0.76414</td>\n      <td>-0.03365</td>\n    </tr>\n    <tr>\n      <th>0</th>\n      <td>Linear Regression</td>\n      <td>1.21666</td>\n      <td>1.48025</td>\n      <td>0.94763</td>\n      <td>0.76414</td>\n      <td>-0.03365</td>\n    </tr>\n    <tr>\n      <th>0</th>\n      <td>Ridge Regressor</td>\n      <td>1.19955</td>\n      <td>1.43892</td>\n      <td>0.93550</td>\n      <td>0.75520</td>\n      <td>-0.00478</td>\n    </tr>\n    <tr>\n      <th>0</th>\n      <td>Ridge Regressor</td>\n      <td>1.19955</td>\n      <td>1.43892</td>\n      <td>0.93550</td>\n      <td>0.75520</td>\n      <td>-0.00478</td>\n    </tr>\n    <tr>\n      <th>0</th>\n      <td>Ridge Regressor Manually</td>\n      <td>1.19942</td>\n      <td>1.43860</td>\n      <td>0.93554</td>\n      <td>0.75111</td>\n      <td>-0.00456</td>\n    </tr>\n    <tr>\n      <th>0</th>\n      <td>Ridge Regressor</td>\n      <td>1.19955</td>\n      <td>1.43892</td>\n      <td>0.93550</td>\n      <td>0.75520</td>\n      <td>-0.00478</td>\n    </tr>\n    <tr>\n      <th>0</th>\n      <td>Ridge Regressor</td>\n      <td>1.19945</td>\n      <td>1.43867</td>\n      <td>0.93550</td>\n      <td>0.75132</td>\n      <td>-0.00461</td>\n    </tr>\n    <tr>\n      <th>0</th>\n      <td>Ridge Regressor Manually</td>\n      <td>1.19955</td>\n      <td>1.43892</td>\n      <td>0.93550</td>\n      <td>0.75520</td>\n      <td>-0.00478</td>\n    </tr>\n    <tr>\n      <th>0</th>\n      <td>Ridge Regressor</td>\n      <td>1.21642</td>\n      <td>1.47968</td>\n      <td>0.94742</td>\n      <td>0.76423</td>\n      <td>-0.03325</td>\n    </tr>\n    <tr>\n      <th>0</th>\n      <td>LASSO manually</td>\n      <td>1.19940</td>\n      <td>1.43856</td>\n      <td>0.93554</td>\n      <td>0.75355</td>\n      <td>-0.00454</td>\n    </tr>\n    <tr>\n      <th>0</th>\n      <td>LASSO manually</td>\n      <td>1.19940</td>\n      <td>1.43856</td>\n      <td>0.93554</td>\n      <td>0.75361</td>\n      <td>-0.00454</td>\n    </tr>\n    <tr>\n      <th>0</th>\n      <td>LASSO manually</td>\n      <td>1.19940</td>\n      <td>1.43856</td>\n      <td>0.93554</td>\n      <td>0.75361</td>\n      <td>-0.00454</td>\n    </tr>\n    <tr>\n      <th>0</th>\n      <td>Lasso Regressor</td>\n      <td>1.19957</td>\n      <td>1.43897</td>\n      <td>0.93551</td>\n      <td>0.75529</td>\n      <td>-0.00482</td>\n    </tr>\n    <tr>\n      <th>0</th>\n      <td>Lasso Regressor</td>\n      <td>1.19957</td>\n      <td>1.43897</td>\n      <td>0.93551</td>\n      <td>0.75529</td>\n      <td>-0.00482</td>\n    </tr>\n    <tr>\n      <th>0</th>\n      <td>LASSO manually</td>\n      <td>1.19940</td>\n      <td>1.43856</td>\n      <td>0.93554</td>\n      <td>0.75361</td>\n      <td>-0.00454</td>\n    </tr>\n    <tr>\n      <th>0</th>\n      <td>Elastic, alpha 0.01, l1_ratio : 0.7</td>\n      <td>1.19963</td>\n      <td>1.43910</td>\n      <td>0.93531</td>\n      <td>0.75289</td>\n      <td>-0.00491</td>\n    </tr>\n    <tr>\n      <th>0</th>\n      <td>Elastic, alpha 0.027825594022071243, l1_ratio ...</td>\n      <td>1.19940</td>\n      <td>1.43857</td>\n      <td>0.93553</td>\n      <td>0.75265</td>\n      <td>-0.00454</td>\n    </tr>\n    <tr>\n      <th>0</th>\n      <td>Elastic, alpha 0.0774263682681127, l1_ratio : 0.5</td>\n      <td>1.19957</td>\n      <td>1.43897</td>\n      <td>0.93551</td>\n      <td>0.75529</td>\n      <td>-0.00482</td>\n    </tr>\n    <tr>\n      <th>0</th>\n      <td>Elastic, alpha 0.21544346900318834, l1_ratio :...</td>\n      <td>1.19957</td>\n      <td>1.43897</td>\n      <td>0.93551</td>\n      <td>0.75529</td>\n      <td>-0.00482</td>\n    </tr>\n    <tr>\n      <th>0</th>\n      <td>Elastic, alpha 0.5994842503189409, l1_ratio : 0.5</td>\n      <td>1.19957</td>\n      <td>1.43897</td>\n      <td>0.93551</td>\n      <td>0.75529</td>\n      <td>-0.00482</td>\n    </tr>\n    <tr>\n      <th>0</th>\n      <td>Elastic, alpha 1.6681005372000592, l1_ratio : 0.5</td>\n      <td>1.19957</td>\n      <td>1.43897</td>\n      <td>0.93551</td>\n      <td>0.75529</td>\n      <td>-0.00482</td>\n    </tr>\n    <tr>\n      <th>0</th>\n      <td>Elastic, alpha 4.6415888336127775, l1_ratio : 0.5</td>\n      <td>1.19957</td>\n      <td>1.43897</td>\n      <td>0.93551</td>\n      <td>0.75529</td>\n      <td>-0.00482</td>\n    </tr>\n    <tr>\n      <th>0</th>\n      <td>Elastic, alpha 12.915496650148826, l1_ratio : 0.5</td>\n      <td>1.19957</td>\n      <td>1.43897</td>\n      <td>0.93551</td>\n      <td>0.75529</td>\n      <td>-0.00482</td>\n    </tr>\n    <tr>\n      <th>0</th>\n      <td>Elastic, alpha 35.93813663804626, l1_ratio : 0.5</td>\n      <td>1.19957</td>\n      <td>1.43897</td>\n      <td>0.93551</td>\n      <td>0.75529</td>\n      <td>-0.00482</td>\n    </tr>\n    <tr>\n      <th>0</th>\n      <td>Elastic, alpha 100.0, l1_ratio : 0.5</td>\n      <td>1.19957</td>\n      <td>1.43897</td>\n      <td>0.93551</td>\n      <td>0.75529</td>\n      <td>-0.00482</td>\n    </tr>\n    <tr>\n      <th>0</th>\n      <td>Elastic, alpha 0.01, l1_ratio : 0.7</td>\n      <td>1.19963</td>\n      <td>1.43910</td>\n      <td>0.93531</td>\n      <td>0.75289</td>\n      <td>-0.00491</td>\n    </tr>\n    <tr>\n      <th>0</th>\n      <td>Elastic, alpha 0.027825594022071243, l1_ratio ...</td>\n      <td>1.19940</td>\n      <td>1.43857</td>\n      <td>0.93553</td>\n      <td>0.75265</td>\n      <td>-0.00454</td>\n    </tr>\n    <tr>\n      <th>0</th>\n      <td>Elastic, alpha 0.0774263682681127, l1_ratio : 0.5</td>\n      <td>1.19957</td>\n      <td>1.43897</td>\n      <td>0.93551</td>\n      <td>0.75529</td>\n      <td>-0.00482</td>\n    </tr>\n    <tr>\n      <th>0</th>\n      <td>Elastic, alpha 0.21544346900318834, l1_ratio :...</td>\n      <td>1.19957</td>\n      <td>1.43897</td>\n      <td>0.93551</td>\n      <td>0.75529</td>\n      <td>-0.00482</td>\n    </tr>\n    <tr>\n      <th>0</th>\n      <td>Elastic, alpha 0.5994842503189409, l1_ratio : 0.5</td>\n      <td>1.19957</td>\n      <td>1.43897</td>\n      <td>0.93551</td>\n      <td>0.75529</td>\n      <td>-0.00482</td>\n    </tr>\n    <tr>\n      <th>0</th>\n      <td>Elastic, alpha 1.6681005372000592, l1_ratio : 0.5</td>\n      <td>1.19957</td>\n      <td>1.43897</td>\n      <td>0.93551</td>\n      <td>0.75529</td>\n      <td>-0.00482</td>\n    </tr>\n    <tr>\n      <th>0</th>\n      <td>Elastic, alpha 4.6415888336127775, l1_ratio : 0.5</td>\n      <td>1.19957</td>\n      <td>1.43897</td>\n      <td>0.93551</td>\n      <td>0.75529</td>\n      <td>-0.00482</td>\n    </tr>\n    <tr>\n      <th>0</th>\n      <td>Elastic, alpha 12.915496650148826, l1_ratio : 0.5</td>\n      <td>1.19957</td>\n      <td>1.43897</td>\n      <td>0.93551</td>\n      <td>0.75529</td>\n      <td>-0.00482</td>\n    </tr>\n    <tr>\n      <th>0</th>\n      <td>Elastic, alpha 35.93813663804626, l1_ratio : 0.5</td>\n      <td>1.19957</td>\n      <td>1.43897</td>\n      <td>0.93551</td>\n      <td>0.75529</td>\n      <td>-0.00482</td>\n    </tr>\n  </tbody>\n</table>\n</div>"
     },
     "metadata": {},
     "output_type": "display_data"
    },
    {
     "name": "stdout",
     "output_type": "stream",
     "text": [
      "alpha : 100.0 l1_ratio : 0.0 MSE : 1.4389470933219608\n",
      "alpha : 100.0 l1_ratio : 0.1 MSE : 1.438972208813029\n",
      "alpha : 100.0 l1_ratio : 0.2 MSE : 1.438972208813029\n",
      "alpha : 100.0 l1_ratio : 0.3 MSE : 1.438972208813029\n",
      "alpha : 100.0 l1_ratio : 0.4 MSE : 1.438972208813029\n",
      "alpha : 100.0 l1_ratio : 0.5 MSE : 1.438972208813029\n",
      "alpha : 100.0 l1_ratio : 0.6 MSE : 1.438972208813029\n",
      "alpha : 100.0 l1_ratio : 0.7 MSE : 1.438972208813029\n",
      "alpha : 100.0 l1_ratio : 0.8 MSE : 1.438972208813029\n",
      "alpha : 100.0 l1_ratio : 0.9 MSE : 1.438972208813029\n",
      "Prediction for :  Log-Electricity(kBtu)\n"
     ]
    },
    {
     "data": {
      "text/plain": "                                               Model    RMSE     MSE     MAE  \\\n0                                    Dummy Regressor 1.19957 1.43897 0.93551   \n0                                  Linear Regression 1.21666 1.48025 0.94763   \n0                                  Linear Regression 1.21666 1.48025 0.94763   \n0                                    Ridge Regressor 1.19955 1.43892 0.93550   \n0                                    Ridge Regressor 1.19955 1.43892 0.93550   \n0                           Ridge Regressor Manually 1.19942 1.43860 0.93554   \n0                                    Ridge Regressor 1.19955 1.43892 0.93550   \n0                                    Ridge Regressor 1.19945 1.43867 0.93550   \n0                           Ridge Regressor Manually 1.19955 1.43892 0.93550   \n0                                    Ridge Regressor 1.21642 1.47968 0.94742   \n0                                     LASSO manually 1.19940 1.43856 0.93554   \n0                                     LASSO manually 1.19940 1.43856 0.93554   \n0                                     LASSO manually 1.19940 1.43856 0.93554   \n0                                    Lasso Regressor 1.19957 1.43897 0.93551   \n0                                    Lasso Regressor 1.19957 1.43897 0.93551   \n0                                     LASSO manually 1.19940 1.43856 0.93554   \n0                Elastic, alpha 0.01, l1_ratio : 0.7 1.19963 1.43910 0.93531   \n0  Elastic, alpha 0.027825594022071243, l1_ratio ... 1.19940 1.43857 0.93553   \n0  Elastic, alpha 0.0774263682681127, l1_ratio : 0.5 1.19957 1.43897 0.93551   \n0  Elastic, alpha 0.21544346900318834, l1_ratio :... 1.19957 1.43897 0.93551   \n0  Elastic, alpha 0.5994842503189409, l1_ratio : 0.5 1.19957 1.43897 0.93551   \n0  Elastic, alpha 1.6681005372000592, l1_ratio : 0.5 1.19957 1.43897 0.93551   \n0  Elastic, alpha 4.6415888336127775, l1_ratio : 0.5 1.19957 1.43897 0.93551   \n0  Elastic, alpha 12.915496650148826, l1_ratio : 0.5 1.19957 1.43897 0.93551   \n0   Elastic, alpha 35.93813663804626, l1_ratio : 0.5 1.19957 1.43897 0.93551   \n0               Elastic, alpha 100.0, l1_ratio : 0.5 1.19957 1.43897 0.93551   \n0                Elastic, alpha 0.01, l1_ratio : 0.7 1.19963 1.43910 0.93531   \n0  Elastic, alpha 0.027825594022071243, l1_ratio ... 1.19940 1.43857 0.93553   \n0  Elastic, alpha 0.0774263682681127, l1_ratio : 0.5 1.19957 1.43897 0.93551   \n0  Elastic, alpha 0.21544346900318834, l1_ratio :... 1.19957 1.43897 0.93551   \n0  Elastic, alpha 0.5994842503189409, l1_ratio : 0.5 1.19957 1.43897 0.93551   \n0  Elastic, alpha 1.6681005372000592, l1_ratio : 0.5 1.19957 1.43897 0.93551   \n0  Elastic, alpha 4.6415888336127775, l1_ratio : 0.5 1.19957 1.43897 0.93551   \n0  Elastic, alpha 12.915496650148826, l1_ratio : 0.5 1.19957 1.43897 0.93551   \n0   Elastic, alpha 35.93813663804626, l1_ratio : 0.5 1.19957 1.43897 0.93551   \n0               Elastic, alpha 100.0, l1_ratio : 0.5 1.19957 1.43897 0.93551   \n\n   Median Absolute Error  R² = 1 - RSE  \n0                0.75529      -0.00482  \n0                0.76414      -0.03365  \n0                0.76414      -0.03365  \n0                0.75520      -0.00478  \n0                0.75520      -0.00478  \n0                0.75111      -0.00456  \n0                0.75520      -0.00478  \n0                0.75132      -0.00461  \n0                0.75520      -0.00478  \n0                0.76423      -0.03325  \n0                0.75355      -0.00454  \n0                0.75361      -0.00454  \n0                0.75361      -0.00454  \n0                0.75529      -0.00482  \n0                0.75529      -0.00482  \n0                0.75361      -0.00454  \n0                0.75289      -0.00491  \n0                0.75265      -0.00454  \n0                0.75529      -0.00482  \n0                0.75529      -0.00482  \n0                0.75529      -0.00482  \n0                0.75529      -0.00482  \n0                0.75529      -0.00482  \n0                0.75529      -0.00482  \n0                0.75529      -0.00482  \n0                0.75529      -0.00482  \n0                0.75289      -0.00491  \n0                0.75265      -0.00454  \n0                0.75529      -0.00482  \n0                0.75529      -0.00482  \n0                0.75529      -0.00482  \n0                0.75529      -0.00482  \n0                0.75529      -0.00482  \n0                0.75529      -0.00482  \n0                0.75529      -0.00482  \n0                0.75529      -0.00482  ",
      "text/html": "<div>\n<style scoped>\n    .dataframe tbody tr th:only-of-type {\n        vertical-align: middle;\n    }\n\n    .dataframe tbody tr th {\n        vertical-align: top;\n    }\n\n    .dataframe thead th {\n        text-align: right;\n    }\n</style>\n<table border=\"1\" class=\"dataframe\">\n  <thead>\n    <tr style=\"text-align: right;\">\n      <th></th>\n      <th>Model</th>\n      <th>RMSE</th>\n      <th>MSE</th>\n      <th>MAE</th>\n      <th>Median Absolute Error</th>\n      <th>R² = 1 - RSE</th>\n    </tr>\n  </thead>\n  <tbody>\n    <tr>\n      <th>0</th>\n      <td>Dummy Regressor</td>\n      <td>1.19957</td>\n      <td>1.43897</td>\n      <td>0.93551</td>\n      <td>0.75529</td>\n      <td>-0.00482</td>\n    </tr>\n    <tr>\n      <th>0</th>\n      <td>Linear Regression</td>\n      <td>1.21666</td>\n      <td>1.48025</td>\n      <td>0.94763</td>\n      <td>0.76414</td>\n      <td>-0.03365</td>\n    </tr>\n    <tr>\n      <th>0</th>\n      <td>Linear Regression</td>\n      <td>1.21666</td>\n      <td>1.48025</td>\n      <td>0.94763</td>\n      <td>0.76414</td>\n      <td>-0.03365</td>\n    </tr>\n    <tr>\n      <th>0</th>\n      <td>Ridge Regressor</td>\n      <td>1.19955</td>\n      <td>1.43892</td>\n      <td>0.93550</td>\n      <td>0.75520</td>\n      <td>-0.00478</td>\n    </tr>\n    <tr>\n      <th>0</th>\n      <td>Ridge Regressor</td>\n      <td>1.19955</td>\n      <td>1.43892</td>\n      <td>0.93550</td>\n      <td>0.75520</td>\n      <td>-0.00478</td>\n    </tr>\n    <tr>\n      <th>0</th>\n      <td>Ridge Regressor Manually</td>\n      <td>1.19942</td>\n      <td>1.43860</td>\n      <td>0.93554</td>\n      <td>0.75111</td>\n      <td>-0.00456</td>\n    </tr>\n    <tr>\n      <th>0</th>\n      <td>Ridge Regressor</td>\n      <td>1.19955</td>\n      <td>1.43892</td>\n      <td>0.93550</td>\n      <td>0.75520</td>\n      <td>-0.00478</td>\n    </tr>\n    <tr>\n      <th>0</th>\n      <td>Ridge Regressor</td>\n      <td>1.19945</td>\n      <td>1.43867</td>\n      <td>0.93550</td>\n      <td>0.75132</td>\n      <td>-0.00461</td>\n    </tr>\n    <tr>\n      <th>0</th>\n      <td>Ridge Regressor Manually</td>\n      <td>1.19955</td>\n      <td>1.43892</td>\n      <td>0.93550</td>\n      <td>0.75520</td>\n      <td>-0.00478</td>\n    </tr>\n    <tr>\n      <th>0</th>\n      <td>Ridge Regressor</td>\n      <td>1.21642</td>\n      <td>1.47968</td>\n      <td>0.94742</td>\n      <td>0.76423</td>\n      <td>-0.03325</td>\n    </tr>\n    <tr>\n      <th>0</th>\n      <td>LASSO manually</td>\n      <td>1.19940</td>\n      <td>1.43856</td>\n      <td>0.93554</td>\n      <td>0.75355</td>\n      <td>-0.00454</td>\n    </tr>\n    <tr>\n      <th>0</th>\n      <td>LASSO manually</td>\n      <td>1.19940</td>\n      <td>1.43856</td>\n      <td>0.93554</td>\n      <td>0.75361</td>\n      <td>-0.00454</td>\n    </tr>\n    <tr>\n      <th>0</th>\n      <td>LASSO manually</td>\n      <td>1.19940</td>\n      <td>1.43856</td>\n      <td>0.93554</td>\n      <td>0.75361</td>\n      <td>-0.00454</td>\n    </tr>\n    <tr>\n      <th>0</th>\n      <td>Lasso Regressor</td>\n      <td>1.19957</td>\n      <td>1.43897</td>\n      <td>0.93551</td>\n      <td>0.75529</td>\n      <td>-0.00482</td>\n    </tr>\n    <tr>\n      <th>0</th>\n      <td>Lasso Regressor</td>\n      <td>1.19957</td>\n      <td>1.43897</td>\n      <td>0.93551</td>\n      <td>0.75529</td>\n      <td>-0.00482</td>\n    </tr>\n    <tr>\n      <th>0</th>\n      <td>LASSO manually</td>\n      <td>1.19940</td>\n      <td>1.43856</td>\n      <td>0.93554</td>\n      <td>0.75361</td>\n      <td>-0.00454</td>\n    </tr>\n    <tr>\n      <th>0</th>\n      <td>Elastic, alpha 0.01, l1_ratio : 0.7</td>\n      <td>1.19963</td>\n      <td>1.43910</td>\n      <td>0.93531</td>\n      <td>0.75289</td>\n      <td>-0.00491</td>\n    </tr>\n    <tr>\n      <th>0</th>\n      <td>Elastic, alpha 0.027825594022071243, l1_ratio ...</td>\n      <td>1.19940</td>\n      <td>1.43857</td>\n      <td>0.93553</td>\n      <td>0.75265</td>\n      <td>-0.00454</td>\n    </tr>\n    <tr>\n      <th>0</th>\n      <td>Elastic, alpha 0.0774263682681127, l1_ratio : 0.5</td>\n      <td>1.19957</td>\n      <td>1.43897</td>\n      <td>0.93551</td>\n      <td>0.75529</td>\n      <td>-0.00482</td>\n    </tr>\n    <tr>\n      <th>0</th>\n      <td>Elastic, alpha 0.21544346900318834, l1_ratio :...</td>\n      <td>1.19957</td>\n      <td>1.43897</td>\n      <td>0.93551</td>\n      <td>0.75529</td>\n      <td>-0.00482</td>\n    </tr>\n    <tr>\n      <th>0</th>\n      <td>Elastic, alpha 0.5994842503189409, l1_ratio : 0.5</td>\n      <td>1.19957</td>\n      <td>1.43897</td>\n      <td>0.93551</td>\n      <td>0.75529</td>\n      <td>-0.00482</td>\n    </tr>\n    <tr>\n      <th>0</th>\n      <td>Elastic, alpha 1.6681005372000592, l1_ratio : 0.5</td>\n      <td>1.19957</td>\n      <td>1.43897</td>\n      <td>0.93551</td>\n      <td>0.75529</td>\n      <td>-0.00482</td>\n    </tr>\n    <tr>\n      <th>0</th>\n      <td>Elastic, alpha 4.6415888336127775, l1_ratio : 0.5</td>\n      <td>1.19957</td>\n      <td>1.43897</td>\n      <td>0.93551</td>\n      <td>0.75529</td>\n      <td>-0.00482</td>\n    </tr>\n    <tr>\n      <th>0</th>\n      <td>Elastic, alpha 12.915496650148826, l1_ratio : 0.5</td>\n      <td>1.19957</td>\n      <td>1.43897</td>\n      <td>0.93551</td>\n      <td>0.75529</td>\n      <td>-0.00482</td>\n    </tr>\n    <tr>\n      <th>0</th>\n      <td>Elastic, alpha 35.93813663804626, l1_ratio : 0.5</td>\n      <td>1.19957</td>\n      <td>1.43897</td>\n      <td>0.93551</td>\n      <td>0.75529</td>\n      <td>-0.00482</td>\n    </tr>\n    <tr>\n      <th>0</th>\n      <td>Elastic, alpha 100.0, l1_ratio : 0.5</td>\n      <td>1.19957</td>\n      <td>1.43897</td>\n      <td>0.93551</td>\n      <td>0.75529</td>\n      <td>-0.00482</td>\n    </tr>\n    <tr>\n      <th>0</th>\n      <td>Elastic, alpha 0.01, l1_ratio : 0.7</td>\n      <td>1.19963</td>\n      <td>1.43910</td>\n      <td>0.93531</td>\n      <td>0.75289</td>\n      <td>-0.00491</td>\n    </tr>\n    <tr>\n      <th>0</th>\n      <td>Elastic, alpha 0.027825594022071243, l1_ratio ...</td>\n      <td>1.19940</td>\n      <td>1.43857</td>\n      <td>0.93553</td>\n      <td>0.75265</td>\n      <td>-0.00454</td>\n    </tr>\n    <tr>\n      <th>0</th>\n      <td>Elastic, alpha 0.0774263682681127, l1_ratio : 0.5</td>\n      <td>1.19957</td>\n      <td>1.43897</td>\n      <td>0.93551</td>\n      <td>0.75529</td>\n      <td>-0.00482</td>\n    </tr>\n    <tr>\n      <th>0</th>\n      <td>Elastic, alpha 0.21544346900318834, l1_ratio :...</td>\n      <td>1.19957</td>\n      <td>1.43897</td>\n      <td>0.93551</td>\n      <td>0.75529</td>\n      <td>-0.00482</td>\n    </tr>\n    <tr>\n      <th>0</th>\n      <td>Elastic, alpha 0.5994842503189409, l1_ratio : 0.5</td>\n      <td>1.19957</td>\n      <td>1.43897</td>\n      <td>0.93551</td>\n      <td>0.75529</td>\n      <td>-0.00482</td>\n    </tr>\n    <tr>\n      <th>0</th>\n      <td>Elastic, alpha 1.6681005372000592, l1_ratio : 0.5</td>\n      <td>1.19957</td>\n      <td>1.43897</td>\n      <td>0.93551</td>\n      <td>0.75529</td>\n      <td>-0.00482</td>\n    </tr>\n    <tr>\n      <th>0</th>\n      <td>Elastic, alpha 4.6415888336127775, l1_ratio : 0.5</td>\n      <td>1.19957</td>\n      <td>1.43897</td>\n      <td>0.93551</td>\n      <td>0.75529</td>\n      <td>-0.00482</td>\n    </tr>\n    <tr>\n      <th>0</th>\n      <td>Elastic, alpha 12.915496650148826, l1_ratio : 0.5</td>\n      <td>1.19957</td>\n      <td>1.43897</td>\n      <td>0.93551</td>\n      <td>0.75529</td>\n      <td>-0.00482</td>\n    </tr>\n    <tr>\n      <th>0</th>\n      <td>Elastic, alpha 35.93813663804626, l1_ratio : 0.5</td>\n      <td>1.19957</td>\n      <td>1.43897</td>\n      <td>0.93551</td>\n      <td>0.75529</td>\n      <td>-0.00482</td>\n    </tr>\n    <tr>\n      <th>0</th>\n      <td>Elastic, alpha 100.0, l1_ratio : 0.5</td>\n      <td>1.19957</td>\n      <td>1.43897</td>\n      <td>0.93551</td>\n      <td>0.75529</td>\n      <td>-0.00482</td>\n    </tr>\n  </tbody>\n</table>\n</div>"
     },
     "metadata": {},
     "output_type": "display_data"
    },
    {
     "data": {
      "text/plain": "<Figure size 432x288 with 1 Axes>",
      "image/png": "[encoded data removed]"
     },
     "metadata": {
      "needs_background": "light"
     },
     "output_type": "display_data"
    },
    {
     "data": {
      "text/plain": "<Figure size 432x288 with 1 Axes>",
      "image/png": "[encoded data removed]"
     },
     "metadata": {
      "needs_background": "light"
     },
     "output_type": "display_data"
    }
   ],
   "source": [
    "warnings.filterwarnings(\"ignore\")\n",
    "\n",
    "n_alphas = 10  # hyperparametre alpha\n",
    "alphas = np.logspace(-2, 2, n_alphas)\n",
    "\n",
    "n = 10\n",
    "#l1_ratio = np.arange(start=0, stop=1, step= 1/n)\n",
    "l1_ratio = [i / n for i in range(n)]\n",
    "\n",
    "elastic = linear_model.ElasticNet()\n",
    "\n",
    "coefs = []\n",
    "errors = []\n",
    "l1_all = []\n",
    "all_mse = []\n",
    "\n",
    "for a in alphas:\n",
    "    for l1 in l1_ratio:\n",
    "        elastic.set_params(alpha=a, l1_ratio=l1)\n",
    "        elastic.fit(X_train, y_train)\n",
    "        y_pred_elastic = elastic.predict(X_test)\n",
    "        coefs.append(elastic.coef_)\n",
    "        #print(\"HERE :\", elastic.coef_)\n",
    "        errors.append(np.mean((y_pred_elastic - y_test) ** 2))\n",
    "\n",
    "        mse = mean_squared_error(y_test, elastic.predict(X_test))\n",
    "        print(\"alpha :\", a, \"l1_ratio :\", l1, \"MSE :\", mse)\n",
    "        all_mse.append(mse)\n",
    "\n",
    "        l1_all.append(l1)\n",
    "\n",
    "    # find min mse\n",
    "    mse_min_index = np.argmin(all_mse)\n",
    "    # get l1 for the min mse\n",
    "    l1_min = l1_all[mse_min_index]\n",
    "    # train again with best l1\n",
    "    elastic.set_params(alpha=a, l1_ratio=l1_min)\n",
    "    elastic.fit(X_train, y_train)\n",
    "    y_pred_elastic = elastic.predict(X_test)\n",
    "    results = evaluate_regression(\"Elastic, alpha {}, l1_ratio : {}\".format(a, l1_min), results, y_test, y_pred_elastic)\n",
    "\n",
    "    errors.append(np.mean((y_pred_elastic - y_test) ** 2))"
   ],
   "metadata": {
    "collapsed": false,
    "pycharm": {
     "name": "#%%\n"
    }
   }
  },
  {
   "cell_type": "code",
   "execution_count": null,
   "outputs": [],
   "source": [],
   "metadata": {
    "collapsed": false,
    "pycharm": {
     "name": "#%%\n"
    }
   }
  },
  {
   "cell_type": "code",
   "execution_count": 225,
   "outputs": [
    {
     "data": {
      "text/plain": "array([1.00000000e-02, 2.78255940e-02, 7.74263683e-02, 2.15443469e-01,\n       5.99484250e-01, 1.66810054e+00, 4.64158883e+00, 1.29154967e+01,\n       3.59381366e+01, 1.00000000e+02])"
     },
     "execution_count": 225,
     "metadata": {},
     "output_type": "execute_result"
    }
   ],
   "source": [
    "alphas"
   ],
   "metadata": {
    "collapsed": false,
    "pycharm": {
     "name": "#%%\n"
    }
   }
  },
  {
   "cell_type": "code",
   "execution_count": 227,
   "outputs": [
    {
     "data": {
      "text/plain": "0.01"
     },
     "execution_count": 227,
     "metadata": {},
     "output_type": "execute_result"
    }
   ],
   "source": [
    "min_index = np.argmin(alphas)\n",
    "min_alpha = alphas[min_index]\n",
    "min_alpha"
   ],
   "metadata": {
    "collapsed": false,
    "pycharm": {
     "name": "#%%\n"
    }
   }
  },
  {
   "cell_type": "code",
   "execution_count": 224,
   "outputs": [
    {
     "data": {
      "text/plain": "100"
     },
     "execution_count": 224,
     "metadata": {},
     "output_type": "execute_result"
    }
   ],
   "source": [
    "len(errors)"
   ],
   "metadata": {
    "collapsed": false,
    "pycharm": {
     "name": "#%%\n"
    }
   }
  },
  {
   "cell_type": "code",
   "execution_count": 222,
   "outputs": [
    {
     "name": "stdout",
     "output_type": "stream",
     "text": [
      "Minimum Mean Squared Error for Elastic Net Regression : 1.4385715115421367\n"
     ]
    },
    {
     "ename": "ValueError",
     "evalue": "x and y must have same first dimension, but have shapes (10,) and (100,)",
     "output_type": "error",
     "traceback": [
      "\u001B[1;31m---------------------------------------------------------------------------\u001B[0m",
      "\u001B[1;31mValueError\u001B[0m                                Traceback (most recent call last)",
      "Input \u001B[1;32mIn [222]\u001B[0m, in \u001B[0;36m<cell line: 7>\u001B[1;34m()\u001B[0m\n\u001B[0;32m      3\u001B[0m \u001B[38;5;66;03m#print(\"Best alpha for that minimal MSE : \", alphas[np.argmin(errors)])\u001B[39;00m\n\u001B[0;32m      4\u001B[0m \n\u001B[0;32m      5\u001B[0m \u001B[38;5;66;03m#Observation of the error behaviour\u001B[39;00m\n\u001B[0;32m      6\u001B[0m ax \u001B[38;5;241m=\u001B[39m plt\u001B[38;5;241m.\u001B[39mgca()\n\u001B[1;32m----> 7\u001B[0m \u001B[43max\u001B[49m\u001B[38;5;241;43m.\u001B[39;49m\u001B[43mplot\u001B[49m\u001B[43m(\u001B[49m\u001B[43malphas\u001B[49m\u001B[43m,\u001B[49m\u001B[43m \u001B[49m\u001B[43merrors\u001B[49m\u001B[43m,\u001B[49m\u001B[43m \u001B[49m\u001B[43m[\u001B[49m\u001B[38;5;241;43m10\u001B[39;49m\u001B[38;5;241;43m*\u001B[39;49m\u001B[38;5;241;43m*\u001B[39;49m\u001B[38;5;241;43m-\u001B[39;49m\u001B[38;5;241;43m2\u001B[39;49m\u001B[43m,\u001B[49m\u001B[43m \u001B[49m\u001B[38;5;241;43m10\u001B[39;49m\u001B[38;5;241;43m*\u001B[39;49m\u001B[38;5;241;43m*\u001B[39;49m\u001B[38;5;241;43m2\u001B[39;49m\u001B[43m]\u001B[49m\u001B[43m,\u001B[49m\u001B[43m \u001B[49m\u001B[43m[\u001B[49m\u001B[43mbaseline_error\u001B[49m\u001B[43m,\u001B[49m\u001B[43m \u001B[49m\u001B[43mbaseline_error\u001B[49m\u001B[43m]\u001B[49m\u001B[43m)\u001B[49m\n\u001B[0;32m      8\u001B[0m ax\u001B[38;5;241m.\u001B[39mset_xscale(\u001B[38;5;124m'\u001B[39m\u001B[38;5;124mlog\u001B[39m\u001B[38;5;124m'\u001B[39m)\n\u001B[0;32m     10\u001B[0m plt\u001B[38;5;241m.\u001B[39mxlabel(\u001B[38;5;124m'\u001B[39m\u001B[38;5;124malpha : hyperparameter\u001B[39m\u001B[38;5;124m'\u001B[39m)\n",
      "File \u001B[1;32m~\\Anaconda3\\envs\\P4_OC\\lib\\site-packages\\matplotlib\\axes\\_axes.py:1632\u001B[0m, in \u001B[0;36mAxes.plot\u001B[1;34m(self, scalex, scaley, data, *args, **kwargs)\u001B[0m\n\u001B[0;32m   1390\u001B[0m \u001B[38;5;124;03m\"\"\"\u001B[39;00m\n\u001B[0;32m   1391\u001B[0m \u001B[38;5;124;03mPlot y versus x as lines and/or markers.\u001B[39;00m\n\u001B[0;32m   1392\u001B[0m \n\u001B[1;32m   (...)\u001B[0m\n\u001B[0;32m   1629\u001B[0m \u001B[38;5;124;03m(``'green'``) or hex strings (``'#008000'``).\u001B[39;00m\n\u001B[0;32m   1630\u001B[0m \u001B[38;5;124;03m\"\"\"\u001B[39;00m\n\u001B[0;32m   1631\u001B[0m kwargs \u001B[38;5;241m=\u001B[39m cbook\u001B[38;5;241m.\u001B[39mnormalize_kwargs(kwargs, mlines\u001B[38;5;241m.\u001B[39mLine2D)\n\u001B[1;32m-> 1632\u001B[0m lines \u001B[38;5;241m=\u001B[39m [\u001B[38;5;241m*\u001B[39m\u001B[38;5;28mself\u001B[39m\u001B[38;5;241m.\u001B[39m_get_lines(\u001B[38;5;241m*\u001B[39margs, data\u001B[38;5;241m=\u001B[39mdata, \u001B[38;5;241m*\u001B[39m\u001B[38;5;241m*\u001B[39mkwargs)]\n\u001B[0;32m   1633\u001B[0m \u001B[38;5;28;01mfor\u001B[39;00m line \u001B[38;5;129;01min\u001B[39;00m lines:\n\u001B[0;32m   1634\u001B[0m     \u001B[38;5;28mself\u001B[39m\u001B[38;5;241m.\u001B[39madd_line(line)\n",
      "File \u001B[1;32m~\\Anaconda3\\envs\\P4_OC\\lib\\site-packages\\matplotlib\\axes\\_base.py:312\u001B[0m, in \u001B[0;36m_process_plot_var_args.__call__\u001B[1;34m(self, data, *args, **kwargs)\u001B[0m\n\u001B[0;32m    310\u001B[0m     this \u001B[38;5;241m+\u001B[39m\u001B[38;5;241m=\u001B[39m args[\u001B[38;5;241m0\u001B[39m],\n\u001B[0;32m    311\u001B[0m     args \u001B[38;5;241m=\u001B[39m args[\u001B[38;5;241m1\u001B[39m:]\n\u001B[1;32m--> 312\u001B[0m \u001B[38;5;28;01myield from\u001B[39;00m \u001B[38;5;28;43mself\u001B[39;49m\u001B[38;5;241;43m.\u001B[39;49m\u001B[43m_plot_args\u001B[49m\u001B[43m(\u001B[49m\u001B[43mthis\u001B[49m\u001B[43m,\u001B[49m\u001B[43m \u001B[49m\u001B[43mkwargs\u001B[49m\u001B[43m)\u001B[49m\n",
      "File \u001B[1;32m~\\Anaconda3\\envs\\P4_OC\\lib\\site-packages\\matplotlib\\axes\\_base.py:498\u001B[0m, in \u001B[0;36m_process_plot_var_args._plot_args\u001B[1;34m(self, tup, kwargs, return_kwargs)\u001B[0m\n\u001B[0;32m    495\u001B[0m     \u001B[38;5;28mself\u001B[39m\u001B[38;5;241m.\u001B[39maxes\u001B[38;5;241m.\u001B[39myaxis\u001B[38;5;241m.\u001B[39mupdate_units(y)\n\u001B[0;32m    497\u001B[0m \u001B[38;5;28;01mif\u001B[39;00m x\u001B[38;5;241m.\u001B[39mshape[\u001B[38;5;241m0\u001B[39m] \u001B[38;5;241m!=\u001B[39m y\u001B[38;5;241m.\u001B[39mshape[\u001B[38;5;241m0\u001B[39m]:\n\u001B[1;32m--> 498\u001B[0m     \u001B[38;5;28;01mraise\u001B[39;00m \u001B[38;5;167;01mValueError\u001B[39;00m(\u001B[38;5;124mf\u001B[39m\u001B[38;5;124m\"\u001B[39m\u001B[38;5;124mx and y must have same first dimension, but \u001B[39m\u001B[38;5;124m\"\u001B[39m\n\u001B[0;32m    499\u001B[0m                      \u001B[38;5;124mf\u001B[39m\u001B[38;5;124m\"\u001B[39m\u001B[38;5;124mhave shapes \u001B[39m\u001B[38;5;132;01m{\u001B[39;00mx\u001B[38;5;241m.\u001B[39mshape\u001B[38;5;132;01m}\u001B[39;00m\u001B[38;5;124m and \u001B[39m\u001B[38;5;132;01m{\u001B[39;00my\u001B[38;5;241m.\u001B[39mshape\u001B[38;5;132;01m}\u001B[39;00m\u001B[38;5;124m\"\u001B[39m)\n\u001B[0;32m    500\u001B[0m \u001B[38;5;28;01mif\u001B[39;00m x\u001B[38;5;241m.\u001B[39mndim \u001B[38;5;241m>\u001B[39m \u001B[38;5;241m2\u001B[39m \u001B[38;5;129;01mor\u001B[39;00m y\u001B[38;5;241m.\u001B[39mndim \u001B[38;5;241m>\u001B[39m \u001B[38;5;241m2\u001B[39m:\n\u001B[0;32m    501\u001B[0m     \u001B[38;5;28;01mraise\u001B[39;00m \u001B[38;5;167;01mValueError\u001B[39;00m(\u001B[38;5;124mf\u001B[39m\u001B[38;5;124m\"\u001B[39m\u001B[38;5;124mx and y can be no greater than 2D, but have \u001B[39m\u001B[38;5;124m\"\u001B[39m\n\u001B[0;32m    502\u001B[0m                      \u001B[38;5;124mf\u001B[39m\u001B[38;5;124m\"\u001B[39m\u001B[38;5;124mshapes \u001B[39m\u001B[38;5;132;01m{\u001B[39;00mx\u001B[38;5;241m.\u001B[39mshape\u001B[38;5;132;01m}\u001B[39;00m\u001B[38;5;124m and \u001B[39m\u001B[38;5;132;01m{\u001B[39;00my\u001B[38;5;241m.\u001B[39mshape\u001B[38;5;132;01m}\u001B[39;00m\u001B[38;5;124m\"\u001B[39m)\n",
      "\u001B[1;31mValueError\u001B[0m: x and y must have same first dimension, but have shapes (10,) and (100,)"
     ]
    },
    {
     "data": {
      "text/plain": "<Figure size 432x288 with 1 Axes>",
      "image/png": "[encoded data removed]"
     },
     "metadata": {
      "needs_background": "light"
     },
     "output_type": "display_data"
    }
   ],
   "source": [
    "# recupere l'erreur min\n",
    "print(\"Minimum Mean Squared Error for Elastic Net Regression :\", errors[np.argmin(errors)])\n",
    "#print(\"Best alpha for that minimal MSE : \", alphas[np.argmin(errors)])\n",
    "\n",
    "#Observation of the error behaviour\n",
    "ax = plt.gca()\n",
    "ax.plot(alphas, errors, [10**-2, 10**2], [baseline_error, baseline_error])\n",
    "ax.set_xscale('log')\n",
    "\n",
    "plt.xlabel('alpha : hyperparameter')\n",
    "plt.ylabel('error : MSE')\n",
    "plt.axis('tight')"
   ],
   "metadata": {
    "collapsed": false,
    "pycharm": {
     "name": "#%%\n"
    }
   }
  },
  {
   "cell_type": "code",
   "execution_count": 200,
   "outputs": [
    {
     "data": {
      "text/plain": "array([[0.79703851, 0.41558502, 0.85391973, 0.92687361, 0.58690251,\n        0.72048804, 0.13508727, 0.21535323, 0.42875395, 0.68092578,\n        0.45317843, 0.49503401, 0.14048308, 0.79616509, 0.99268118,\n        0.4709335 , 0.32350676, 0.38091807, 0.38198851, 0.3151652 ,\n        0.25642182, 0.0689809 , 0.01291316, 0.50794757, 0.73596274,\n        0.58982697, 0.57362398, 0.01882716, 0.69465133, 0.69821027,\n        0.29547197, 0.94108849, 0.70374161, 0.28753001, 0.47662456,\n        0.99307018, 0.99624419, 0.6868067 , 0.5819162 , 0.89163522,\n        0.664661  , 0.74000845, 0.4204162 , 0.60781816, 0.86385601,\n        0.75806668, 0.27405144, 0.78261031, 0.17174409, 0.94259814,\n        0.21357715, 0.12294784, 0.97983523, 0.03394996, 0.19224807,\n        0.5295786 , 0.19896702, 0.67813926, 0.97209565, 0.91835969,\n        0.21212901, 0.31668356, 0.29234567, 0.18504428, 0.89197898,\n        0.30027806, 0.76457686, 0.3700678 , 0.91631333, 0.44819235,\n        0.35247132, 0.27082985, 0.9684548 , 0.04176576, 0.34613997,\n        0.32949752, 0.56218739, 0.85584917, 0.87849537, 0.4176288 ,\n        0.86631577, 0.10872487, 0.87127274, 0.35887602, 0.05767918,\n        0.98108196, 0.38446201, 0.79175583, 0.95431883, 0.96843927,\n        0.87819036, 0.29508297, 0.59758427, 0.72594633, 0.36179241,\n        0.53673885, 0.92215613, 0.80796422, 0.66551102, 0.48023081]])"
     },
     "execution_count": 200,
     "metadata": {},
     "output_type": "execute_result"
    }
   ],
   "source": [],
   "metadata": {
    "collapsed": false,
    "pycharm": {
     "name": "#%%\n"
    }
   }
  },
  {
   "cell_type": "code",
   "execution_count": 203,
   "outputs": [
    {
     "data": {
      "text/plain": "[0.0,\n 0.01,\n 0.02,\n 0.03,\n 0.04,\n 0.05,\n 0.06,\n 0.07,\n 0.08,\n 0.09,\n 0.1,\n 0.11,\n 0.12,\n 0.13,\n 0.14,\n 0.15,\n 0.16,\n 0.17,\n 0.18,\n 0.19,\n 0.2,\n 0.21,\n 0.22,\n 0.23,\n 0.24,\n 0.25,\n 0.26,\n 0.27,\n 0.28,\n 0.29,\n 0.3,\n 0.31,\n 0.32,\n 0.33,\n 0.34,\n 0.35,\n 0.36,\n 0.37,\n 0.38,\n 0.39,\n 0.4,\n 0.41,\n 0.42,\n 0.43,\n 0.44,\n 0.45,\n 0.46,\n 0.47,\n 0.48,\n 0.49,\n 0.5,\n 0.51,\n 0.52,\n 0.53,\n 0.54,\n 0.55,\n 0.56,\n 0.57,\n 0.58,\n 0.59,\n 0.6,\n 0.61,\n 0.62,\n 0.63,\n 0.64,\n 0.65,\n 0.66,\n 0.67,\n 0.68,\n 0.69,\n 0.7,\n 0.71,\n 0.72,\n 0.73,\n 0.74,\n 0.75,\n 0.76,\n 0.77,\n 0.78,\n 0.79,\n 0.8,\n 0.81,\n 0.82,\n 0.83,\n 0.84,\n 0.85,\n 0.86,\n 0.87,\n 0.88,\n 0.89,\n 0.9,\n 0.91,\n 0.92,\n 0.93,\n 0.94,\n 0.95,\n 0.96,\n 0.97,\n 0.98,\n 0.99]"
     },
     "execution_count": 203,
     "metadata": {},
     "output_type": "execute_result"
    }
   ],
   "source": [],
   "metadata": {
    "collapsed": false,
    "pycharm": {
     "name": "#%%\n"
    }
   }
  },
  {
   "cell_type": "markdown",
   "source": [
    "##### 4.2) Optimization of hyperparameters"
   ],
   "metadata": {
    "collapsed": false,
    "pycharm": {
     "name": "#%% md\n"
    }
   }
  },
  {
   "cell_type": "code",
   "execution_count": null,
   "outputs": [],
   "source": [],
   "metadata": {
    "collapsed": false,
    "pycharm": {
     "name": "#%%\n"
    }
   }
  },
  {
   "cell_type": "markdown",
   "source": [
    "### 2) Ensemble learning methods"
   ],
   "metadata": {
    "collapsed": false,
    "pycharm": {
     "name": "#%% md\n"
    }
   }
  },
  {
   "cell_type": "markdown",
   "source": [
    "#### 1) Parallelized Implementation : Random Forest"
   ],
   "metadata": {
    "collapsed": false,
    "pycharm": {
     "name": "#%% md\n"
    }
   }
  },
  {
   "cell_type": "raw",
   "source": [
    "from sklearn.ensemble import RandomForestRegressor\n",
    "\n",
    "rfr = RandomForestRegressor(n_estimators=1000) # nb of trees 1000 for the forest"
   ],
   "metadata": {
    "collapsed": false,
    "pycharm": {
     "name": "#%% raw\n"
    }
   }
  },
  {
   "cell_type": "raw",
   "source": [
    "rfr = rfr.fit(X_train.values, y_train)"
   ],
   "metadata": {
    "collapsed": false,
    "pycharm": {
     "name": "#%% raw\n"
    }
   }
  },
  {
   "cell_type": "raw",
   "source": [
    "import timeit\n",
    "\n",
    "start_time = timeit.default_timer()\n",
    "y_pred_rfr = rfr.predict(X_test.values)\n",
    "elapsed = timeit.default_timer() - start_time\n",
    "accuracy = rfr.score(X_test.values, y_test)\n",
    "print(\"accuracy {:.2f} time {:.2f}s\".format(accuracy, elapsed))"
   ],
   "metadata": {
    "collapsed": false,
    "pycharm": {
     "name": "#%% raw\n"
    }
   }
  },
  {
   "cell_type": "raw",
   "source": [
    "results = evaluate_regression(\"Random Forest Regressor\", results, y_test, y_pred_rfr)"
   ],
   "metadata": {
    "collapsed": false,
    "pycharm": {
     "name": "#%% raw\n"
    }
   }
  },
  {
   "cell_type": "raw",
   "source": [
    "from sklearn.ensemble import RandomForestRegressor\n",
    "\n",
    "parameters = {\n",
    "    'n_estimators' : [10,50,100,300,500], #nombre d'arbres de décision\n",
    "    'min_samples_leaf' : [1,3,5,10], #nombre de feuilles minimales dans un noeud\n",
    "    'max_features': ['auto', 'sqrt'] #nombre de features observées pour chaque arbre\n",
    "}"
   ],
   "metadata": {
    "collapsed": false,
    "pycharm": {
     "name": "#%% raw\n"
    }
   }
  },
  {
   "cell_type": "code",
   "execution_count": 152,
   "outputs": [],
   "source": [
    "# 1) GridSearchCV or RandomizedSearchCV"
   ],
   "metadata": {
    "collapsed": false,
    "pycharm": {
     "name": "#%%\n"
    }
   }
  },
  {
   "cell_type": "code",
   "execution_count": null,
   "outputs": [],
   "source": [],
   "metadata": {
    "collapsed": false,
    "pycharm": {
     "name": "#%%\n"
    }
   }
  },
  {
   "cell_type": "code",
   "execution_count": 151,
   "outputs": [],
   "source": [
    "# Grid of research for Random Forest\n",
    "from sklearn.ensemble import RandomForestRegressor\n",
    "from scipy.stats import randint as sp_randint\n",
    "\n",
    "# Create space of candidate values for hyperparameters\n",
    "param_grid_forest = [{\n",
    "    \"regressor\": [RandomForestRegressor(n_jobs=-1, random_state=seed, n_estimators=1000)], # random forest regressor\n",
    "    \"regressor__max_features\": sp_randint(2, 5), # number of features to consider at each node\n",
    "    \"regressor__max_depth\": sp_randint(2, 5), # maximum depth (to prune) a stump\n",
    "    \"regressor__min_samples_leaf\": sp_randint(1, 100), # minimum number of samples required to be at a leaf node\n",
    "}]\n"
   ],
   "metadata": {
    "collapsed": false,
    "pycharm": {
     "name": "#%%\n"
    }
   }
  },
  {
   "cell_type": "code",
   "execution_count": null,
   "outputs": [],
   "source": [
    "# RFR\n",
    "rfr = RandomForestRegressor(n_estimators=1000) # nb of trees 1000 for the forest\n"
   ],
   "metadata": {
    "collapsed": false,
    "pycharm": {
     "name": "#%%\n"
    }
   }
  },
  {
   "cell_type": "raw",
   "source": [
    "rfr_search.best_params_"
   ],
   "metadata": {
    "collapsed": false,
    "pycharm": {
     "name": "#%% raw\n"
    }
   }
  },
  {
   "cell_type": "raw",
   "source": [
    "rfr_best = RandomForestRegressor(n_estimators=500, min_samples_leaf=10, max_features='sqrt') # nb of trees 1000 for the forest"
   ],
   "metadata": {
    "collapsed": false,
    "pycharm": {
     "name": "#%% raw\n"
    }
   }
  },
  {
   "cell_type": "raw",
   "source": [
    "rfr_best = rfr_best.fit(X_train.values, y_train)"
   ],
   "metadata": {
    "collapsed": false,
    "pycharm": {
     "name": "#%% raw\n"
    }
   }
  },
  {
   "cell_type": "raw",
   "source": [
    "y_pred_rfr_best = rfr_best.predict(X_test.values)\n",
    "\n",
    "results = evaluate_regression(\"Random Forest Regressor Best\", results, y_test, y_pred_rfr_best)"
   ],
   "metadata": {
    "collapsed": false,
    "pycharm": {
     "name": "#%% raw\n"
    }
   }
  },
  {
   "cell_type": "raw",
   "source": [
    "display_prediction(y_test, y_pred_lr)"
   ],
   "metadata": {
    "collapsed": false,
    "pycharm": {
     "name": "#%% raw\n"
    }
   }
  },
  {
   "cell_type": "raw",
   "source": [
    "import math\n",
    "results = results.append(pd.DataFrame({\n",
    "    'Modèle' : ['Random Forest Regressor'],\n",
    "    'Score_RMSE' : [math.sqrt(mean_squared_error(rfr_search.predict(X_test), y_test))]}),\n",
    "    ignore_index=True)"
   ],
   "metadata": {
    "collapsed": false,
    "pycharm": {
     "name": "#%% raw\n"
    }
   }
  },
  {
   "cell_type": "raw",
   "source": [
    "coefficients = abs(rfr_search.best_estimator_.feature_importances_)\n",
    "liste_coefs_rer = pd.concat((pd.DataFrame(X.columns, columns = ['Variable']),\n",
    "                             pd.DataFrame(coefficients, columns = ['Coefficient'])), axis = 1).sort_values(by='Coefficient', ascending = False)"
   ],
   "metadata": {
    "collapsed": false,
    "pycharm": {
     "name": "#%% raw\n"
    }
   }
  },
  {
   "cell_type": "raw",
   "source": [
    "plt.figure(figsize=(8,8))\n",
    "plt.title('RandomForestRegressor - Importance des 20 premières Features')\n",
    "sns.barplot(y = liste_coefs_rer['Variable'].head(20),\n",
    "            x = liste_coefs_rer['Coefficient'].head(20))\n",
    "plt.show()"
   ],
   "metadata": {
    "collapsed": false,
    "pycharm": {
     "name": "#%% raw\n"
    }
   }
  },
  {
   "cell_type": "raw",
   "source": [
    "plt.figure(figsize=(10,4))\n",
    "plt.title('Comparaison des RMSE relatives des modèles (en %)')\n",
    "chart = sns.barplot(x = results['Modèle'],\n",
    "                    y = results['RMSE_%']*100)\n",
    "chart.set_xticklabels(labels = results['Modèle'],\n",
    "                      rotation=45,\n",
    "                      horizontalalignment='right',\n",
    "                      size=12,\n",
    "                      )\n",
    "ax = plt.gca()\n",
    "ax.set_ylim([0, 5])\n",
    "plt.show()"
   ],
   "metadata": {
    "collapsed": false,
    "pycharm": {
     "name": "#%% raw\n"
    }
   }
  },
  {
   "cell_type": "raw",
   "source": [
    "plt.title('Temps d\\'exécution des algorithmes pour la prédiction \\n(jeu d\\'entrainement) - échelle logarithmique')\n",
    "sns.barplot(x=nom_modeles,\n",
    "            y = [5.32, 640, 2.14, 145])\n",
    "ax = plt.gca()\n",
    "ax.set_yscale('log')"
   ],
   "metadata": {
    "collapsed": false,
    "pycharm": {
     "name": "#%% raw\n"
    }
   }
  },
  {
   "cell_type": "raw",
   "source": [
    "plt.figure(figsize=(8,6))\n",
    "sns.barplot(x = comparaison_score_melt['index'],\n",
    "            y = comparaison_score_melt['score'], hue = comparaison_score_melt['variable'])\n",
    "plt.title('Comparaison des performances des modèles (jeu de test)')"
   ],
   "metadata": {
    "collapsed": false,
    "pycharm": {
     "name": "#%% raw\n"
    }
   }
  },
  {
   "cell_type": "markdown",
   "source": [
    "#### 6) Adaboost"
   ],
   "metadata": {
    "collapsed": false,
    "pycharm": {
     "name": "#%% md\n"
    }
   }
  },
  {
   "cell_type": "code",
   "execution_count": 965,
   "outputs": [],
   "source": [
    "# Grid of research for AdaBoost\n",
    "from sklearn.ensemble import AdaBoostRegressor\n",
    "from sklearn.tree import DecisionTreeRegressor\n",
    "from scipy.stats import randint as sp_randint\n",
    "\n",
    "# Create space of candidate values for hyperparameters\n",
    "param_grid_adaboost = [{\n",
    "    \"regressor\": [AdaBoostRegressor(random_state=seed)], # AdaBoost regressor\n",
    "    \"regressor__base_estimator\": [DecisionTreeRegressor()], # Required to tune the max_depth factor\n",
    "    \"regressor__base_estimator__max_depth\": sp_randint(2, 5), #  [2,4]\n",
    "    \"regressor__n_estimators\": sp_randint(50, 1000), # number of weak models to iteratively train\n",
    "    \"regressor__learning_rate\": np.logspace(-2, 1, 4), # learning rate, from 10⁻² to 10¹\n",
    "    \"regressor__loss\": ['linear', 'square', 'exponential'], # loss function for weights update\n",
    "}]"
   ],
   "metadata": {
    "collapsed": false,
    "pycharm": {
     "name": "#%%\n"
    }
   }
  },
  {
   "cell_type": "markdown",
   "source": [
    "#### 7) Gradient Boosting Regressor"
   ],
   "metadata": {
    "collapsed": false,
    "pycharm": {
     "name": "#%% md\n"
    }
   }
  },
  {
   "cell_type": "raw",
   "source": [
    "# Grid of research for AdaBoost\n",
    "from sklearn.ensemble import GradientBoostingRegressor\n",
    "from sklearn.tree import DecisionTreeRegressor\n",
    "from scipy.stats import randint as sp_randint\n",
    "\n",
    "# Create space of candidate values for hyperparameters\n",
    "param_grid_gradientboost = [{\n",
    "    \"regressor\": GradientBoostingRegressor(random_state=seed)], # AdaBoost regressor\n",
    "    \"regressor__base_estimator\": [DecisionTreeRegressor()], # Required to tune the max_depth factor\n",
    "    \"regressor__base_estimator__max_depth\": sp_randint(2, 5), #  [2,4]\n",
    "    \"regressor__n_estimators\": sp_randint(50, 1000), # number of weak models to iteratively train\n",
    "    \"regressor__learning_rate\": np.logspace(-2, 1, 4), # learning rate, from 10⁻² to 10¹\n",
    "    \"regressor__loss\": [\"squared_error\", \"absolute_error\", \"huber\", \"quantile\"], # loss function for weights update\n",
    "}]\n",
    "\n",
    "\n",
    "               'subsample'    : [0.9, 0.5, 0.2, 0.1],\n",
    "               'max_depth'    : [4,6,8,10]\n",
    "               }"
   ],
   "metadata": {
    "collapsed": false,
    "pycharm": {
     "name": "#%% raw\n"
    }
   }
  },
  {
   "cell_type": "markdown",
   "source": [
    "#### SVR"
   ],
   "metadata": {
    "collapsed": false,
    "pycharm": {
     "name": "#%% md\n"
    }
   }
  },
  {
   "cell_type": "code",
   "execution_count": 966,
   "outputs": [],
   "source": [
    "# Grid of research for k-SVR\n",
    "from sklearn.svm import SVR\n",
    "from scipy.stats import expon\n",
    "from scipy.stats import randint as sp_randint\n",
    "\n",
    "# Create space of candidate values for hyperparameters\n",
    "param_grid_svr_poly = [{# hyper-parameters for polynomial kernel\n",
    "    \"regressor\": [SVR()], # k-SVM regressor\n",
    "    \"regressor__kernel\": ['poly'],\n",
    "    \"regressor__C\": expon(scale=100, loc=5), # C : penalty parameter of the error term\n",
    "    \"regressor__coef0\" : [0, 1], # coef0 : independent term in kernel\n",
    "    \"regressor__degree\" : sp_randint(1, 3), # degree of the polynomial kernel function\n",
    "}]\n",
    "\n",
    "param_grid_svr_linear = [{# hyper-parameters for linear kernel\n",
    "    \"regressor\": [SVR()], # k-SVM regressor\n",
    "    \"regressor__kernel\": ['linear'],\n",
    "    \"regressor__C\": expon(scale=100, loc=5), # C : penalty parameter of the error term. y = (x - loc) / scale\n",
    "}]\n",
    "\n",
    "param_grid_svr_gaussian = [{# hyper-parameters for gaussian kernel\n",
    "    \"regressor\": [SVR()], # k-SVM regressor\n",
    "    \"regressor__kernel\": ['rbf'],\n",
    "    \"regressor__C\": expon(scale=100, loc=5), # C : penalty parameter of the error term\n",
    "    \"regressor__gamma\" : [0.0001, 0.001, 0.01, 0.1], # specific for gaussian kernel\n",
    "}]\n"
   ],
   "metadata": {
    "collapsed": false,
    "pycharm": {
     "name": "#%%\n"
    }
   }
  },
  {
   "cell_type": "markdown",
   "source": [
    "### III) Evaluation"
   ],
   "metadata": {
    "collapsed": false,
    "pycharm": {
     "name": "#%% md\n"
    }
   }
  },
  {
   "cell_type": "markdown",
   "source": [
    "### 1"
   ],
   "metadata": {
    "collapsed": false,
    "pycharm": {
     "name": "#%% md\n"
    }
   }
  },
  {
   "cell_type": "code",
   "execution_count": 1011,
   "outputs": [],
   "source": [
    "\n",
    "# Dictionnary of search spaces for each family of models\n",
    "param_grids = {\n",
    "    'Ridge': param_grid_ridge, # space of search for ElasticNet\n",
    "    'LASSO': param_grid_lasso, # space of search for ElasticNet\n",
    "    'ElasticNet': param_grid_elastic, # space of search for ElasticNet\n",
    "\n",
    "    'RandomForest': param_grid_forest, # space of search for random forest\n",
    "    'AdaBoost': param_grid_adaboost, # space of search for AdaBoost regressor\n",
    "\n",
    "    'kSVR gaussian': param_grid_svr_gaussian, # space of search for k-SVR\n",
    "    'kSVM poly': param_grid_svr_poly, # space of search for k-SVR with polynomial kernel\n",
    "    'kSVM linear': param_grid_svr_linear # space of search for k-SVR\n",
    "}\n",
    "#'GradientBoosting': param_grid_gradientboost, # space of search for AdaBoost regressor\n"
   ],
   "metadata": {
    "collapsed": false,
    "pycharm": {
     "name": "#%%\n"
    }
   }
  },
  {
   "cell_type": "code",
   "execution_count": 1012,
   "outputs": [
    {
     "name": "stdout",
     "output_type": "stream",
     "text": [
      "Ridge\n",
      "[{'regressor': [Ridge(max_iter=1000)], 'regressor__alpha': array([1.e-03, 1.e-02, 1.e-01, 1.e+00, 1.e+01])}]\n",
      "LASSO\n",
      "[{'regressor': [Lasso()], 'regressor__alpha': array([1.e-03, 1.e-02, 1.e-01, 1.e+00, 1.e+01])}]\n",
      "ElasticNet\n",
      "[{'regressor': [ElasticNet()], 'regressor__alpha': array([1.e-03, 1.e-02, 1.e-01, 1.e+00, 1.e+01]), 'regressor__l1_ratio': <scipy.stats._distn_infrastructure.rv_frozen object at 0x000002BE25CD1730>}]\n",
      "RandomForest\n",
      "[{'regressor': [RandomForestRegressor(n_estimators=1000, n_jobs=-1, random_state=350)], 'regressor__max_features': <scipy.stats._distn_infrastructure.rv_frozen object at 0x000002BE266D0850>, 'regressor__max_depth': <scipy.stats._distn_infrastructure.rv_frozen object at 0x000002BE26B410A0>, 'regressor__min_samples_leaf': <scipy.stats._distn_infrastructure.rv_frozen object at 0x000002BE25E3C0D0>}]\n",
      "AdaBoost\n",
      "[{'regressor': [AdaBoostRegressor(random_state=350)], 'regressor__base_estimator': [DecisionTreeRegressor()], 'regressor__base_estimator__max_depth': <scipy.stats._distn_infrastructure.rv_frozen object at 0x000002BE0BD9C6A0>, 'regressor__n_estimators': <scipy.stats._distn_infrastructure.rv_frozen object at 0x000002BE25E3CEB0>, 'regressor__learning_rate': array([ 0.01,  0.1 ,  1.  , 10.  ]), 'regressor__loss': ['linear', 'square', 'exponential']}]\n",
      "kSVR gaussian\n",
      "[{'regressor': [SVR()], 'regressor__kernel': ['rbf'], 'regressor__C': <scipy.stats._distn_infrastructure.rv_frozen object at 0x000002BE266D0520>, 'regressor__gamma': [0.0001, 0.001, 0.01, 0.1]}]\n",
      "kSVM poly\n",
      "[{'regressor': [SVR()], 'regressor__kernel': ['poly'], 'regressor__C': <scipy.stats._distn_infrastructure.rv_frozen object at 0x000002BE25E3C6D0>, 'regressor__coef0': [0, 1], 'regressor__degree': <scipy.stats._distn_infrastructure.rv_frozen object at 0x000002BE2704BF10>}]\n",
      "kSVM linear\n",
      "[{'regressor': [SVR()], 'regressor__kernel': ['linear'], 'regressor__C': <scipy.stats._distn_infrastructure.rv_frozen object at 0x000002BE26A57520>}]\n"
     ]
    }
   ],
   "source": [
    "for model, grid in param_grids.items():\n",
    "    print(model)\n",
    "    print(grid)"
   ],
   "metadata": {
    "collapsed": false,
    "pycharm": {
     "name": "#%%\n"
    }
   }
  },
  {
   "cell_type": "markdown",
   "source": [
    "### 2"
   ],
   "metadata": {
    "collapsed": false,
    "pycharm": {
     "name": "#%% md\n"
    }
   }
  },
  {
   "cell_type": "code",
   "execution_count": 1013,
   "outputs": [
    {
     "data": {
      "text/plain": "Ridge(max_iter=1000)",
      "text/html": "<style>#sk-container-id-59 {color: black;background-color: white;}#sk-container-id-59 pre{padding: 0;}#sk-container-id-59 div.sk-toggleable {background-color: white;}#sk-container-id-59 label.sk-toggleable__label {cursor: pointer;display: block;width: 100%;margin-bottom: 0;padding: 0.3em;box-sizing: border-box;text-align: center;}#sk-container-id-59 label.sk-toggleable__label-arrow:before {content: \"▸\";float: left;margin-right: 0.25em;color: #696969;}#sk-container-id-59 label.sk-toggleable__label-arrow:hover:before {color: black;}#sk-container-id-59 div.sk-estimator:hover label.sk-toggleable__label-arrow:before {color: black;}#sk-container-id-59 div.sk-toggleable__content {max-height: 0;max-width: 0;overflow: hidden;text-align: left;background-color: #f0f8ff;}#sk-container-id-59 div.sk-toggleable__content pre {margin: 0.2em;color: black;border-radius: 0.25em;background-color: #f0f8ff;}#sk-container-id-59 input.sk-toggleable__control:checked~div.sk-toggleable__content {max-height: 200px;max-width: 100%;overflow: auto;}#sk-container-id-59 input.sk-toggleable__control:checked~label.sk-toggleable__label-arrow:before {content: \"▾\";}#sk-container-id-59 div.sk-estimator input.sk-toggleable__control:checked~label.sk-toggleable__label {background-color: #d4ebff;}#sk-container-id-59 div.sk-label input.sk-toggleable__control:checked~label.sk-toggleable__label {background-color: #d4ebff;}#sk-container-id-59 input.sk-hidden--visually {border: 0;clip: rect(1px 1px 1px 1px);clip: rect(1px, 1px, 1px, 1px);height: 1px;margin: -1px;overflow: hidden;padding: 0;position: absolute;width: 1px;}#sk-container-id-59 div.sk-estimator {font-family: monospace;background-color: #f0f8ff;border: 1px dotted black;border-radius: 0.25em;box-sizing: border-box;margin-bottom: 0.5em;}#sk-container-id-59 div.sk-estimator:hover {background-color: #d4ebff;}#sk-container-id-59 div.sk-parallel-item::after {content: \"\";width: 100%;border-bottom: 1px solid gray;flex-grow: 1;}#sk-container-id-59 div.sk-label:hover label.sk-toggleable__label {background-color: #d4ebff;}#sk-container-id-59 div.sk-serial::before {content: \"\";position: absolute;border-left: 1px solid gray;box-sizing: border-box;top: 0;bottom: 0;left: 50%;z-index: 0;}#sk-container-id-59 div.sk-serial {display: flex;flex-direction: column;align-items: center;background-color: white;padding-right: 0.2em;padding-left: 0.2em;position: relative;}#sk-container-id-59 div.sk-item {position: relative;z-index: 1;}#sk-container-id-59 div.sk-parallel {display: flex;align-items: stretch;justify-content: center;background-color: white;position: relative;}#sk-container-id-59 div.sk-item::before, #sk-container-id-59 div.sk-parallel-item::before {content: \"\";position: absolute;border-left: 1px solid gray;box-sizing: border-box;top: 0;bottom: 0;left: 50%;z-index: -1;}#sk-container-id-59 div.sk-parallel-item {display: flex;flex-direction: column;z-index: 1;position: relative;background-color: white;}#sk-container-id-59 div.sk-parallel-item:first-child::after {align-self: flex-end;width: 50%;}#sk-container-id-59 div.sk-parallel-item:last-child::after {align-self: flex-start;width: 50%;}#sk-container-id-59 div.sk-parallel-item:only-child::after {width: 0;}#sk-container-id-59 div.sk-dashed-wrapped {border: 1px dashed gray;margin: 0 0.4em 0.5em 0.4em;box-sizing: border-box;padding-bottom: 0.4em;background-color: white;}#sk-container-id-59 div.sk-label label {font-family: monospace;font-weight: bold;display: inline-block;line-height: 1.2em;}#sk-container-id-59 div.sk-label-container {text-align: center;}#sk-container-id-59 div.sk-container {/* jupyter's `normalize.less` sets `[hidden] { display: none; }` but bootstrap.min.css set `[hidden] { display: none !important; }` so we also need the `!important` here to be able to override the default hidden behavior on the sphinx rendered scikit-learn.org. See: https://github.com/scikit-learn/scikit-learn/issues/21755 */display: inline-block !important;position: relative;}#sk-container-id-59 div.sk-text-repr-fallback {display: none;}</style><div id=\"sk-container-id-59\" class=\"sk-top-container\"><div class=\"sk-text-repr-fallback\"><pre>Ridge(max_iter=1000)</pre><b>In a Jupyter environment, please rerun this cell to show the HTML representation or trust the notebook. <br />On GitHub, the HTML representation is unable to render, please try loading this page with nbviewer.org.</b></div><div class=\"sk-container\" hidden><div class=\"sk-item\"><div class=\"sk-estimator sk-toggleable\"><input class=\"sk-toggleable__control sk-hidden--visually\" id=\"sk-estimator-id-119\" type=\"checkbox\" checked><label for=\"sk-estimator-id-119\" class=\"sk-toggleable__label sk-toggleable__label-arrow\">Ridge</label><div class=\"sk-toggleable__content\"><pre>Ridge(max_iter=1000)</pre></div></div></div></div></div>"
     },
     "execution_count": 1013,
     "metadata": {},
     "output_type": "execute_result"
    }
   ],
   "source": [
    "param_grid_ridge[0][\"regressor\"][0]\n"
   ],
   "metadata": {
    "collapsed": false,
    "pycharm": {
     "name": "#%%\n"
    }
   }
  },
  {
   "cell_type": "code",
   "execution_count": 1014,
   "outputs": [],
   "source": [
    "def all_gridSearchCV(features, target):\n",
    "\n",
    "    # Load libraries\n",
    "    from sklearn.model_selection import RandomizedSearchCV\n",
    "\n",
    "    # Initialising the dict of results of RandomizedSearchCV\n",
    "    CVsearch_dict = {}\n",
    "\n",
    "    # Iterating over models and related parameters grids\n",
    "    for model, param_grid in param_grids.items():\n",
    "        print(\"\\nProceeding RandomizedSearchCV for {}…\".format(model))\n",
    "        # Handle case where there are different dicts in param_grid (k-SVR…)\n",
    "        for param_grid_dict in param_grid:\n",
    "\n",
    "            # Intenciation of RandomizedSearchCV object\n",
    "            grid = GridSearchCV(\n",
    "                estimator=param_grid_dict[\"regressor\"][0],\n",
    "                param_grid=param_grid_dict, # choice of hyper-parameters to test\n",
    "                scoring=scoring, # scoring method for regression\n",
    "                cv=10, # cross-validation generator\n",
    "                n_jobs=-1, # use all available cores (parallelization)\n",
    "                return_train_score=True, # to avoid a DeprecationWarning\n",
    "                verbose=1\n",
    "            )\n",
    "\n",
    "            # Searching for best hyper-parameters, and saving in dict\n",
    "            CVsearch_dict[model] = grid.fit(features, target)\n",
    "\n",
    "            # Getting standard deviation for best_model scores\n",
    "            best_index = grid.best_index_\n",
    "            std_score = grid.cv_results_['std_test_score'][best_index]\n",
    "\n",
    "            # Displays the parameters of the best model\n",
    "            print(\"Best parameters found for {}:\".format(model))\n",
    "\n",
    "            # Getting parameters from param_grid\n",
    "            for parameter, _ in param_grid_dict.items():\n",
    "                if parameter != 'regressor':\n",
    "                    best_parameter = grid.best_estimator_.get_params()[parameter]\n",
    "                    parameter = parameter.split(\"regressor__\")[1]\n",
    "                    # Display best parameter\n",
    "                    print(\"  - \" + parameter + \":\", best_parameter)\n",
    "\n",
    "            # Getting the best score\n",
    "            print(\"\\nMean cross-validated score of the best estimator for {}: R² = {:.3f} ± {:.3f}\".format(model, grid.best_score_, std_score))\n",
    "\n",
    "    # Returns dictionnary with results\n",
    "    return CVsearch_dict"
   ],
   "metadata": {
    "collapsed": false,
    "pycharm": {
     "name": "#%%\n"
    }
   }
  },
  {
   "cell_type": "code",
   "execution_count": 1015,
   "outputs": [
    {
     "name": "stdout",
     "output_type": "stream",
     "text": [
      "\n",
      "Proceeding RandomizedSearchCV for Ridge…\n",
      "Fitting 10 folds for each of 5 candidates, totalling 50 fits\n"
     ]
    },
    {
     "ename": "ValueError",
     "evalue": "Invalid parameter 'regressor' for estimator Ridge(max_iter=1000). Valid parameters are: ['alpha', 'copy_X', 'fit_intercept', 'max_iter', 'normalize', 'positive', 'random_state', 'solver', 'tol'].",
     "output_type": "error",
     "traceback": [
      "\u001B[1;31m---------------------------------------------------------------------------\u001B[0m",
      "\u001B[1;31m_RemoteTraceback\u001B[0m                          Traceback (most recent call last)",
      "\u001B[1;31m_RemoteTraceback\u001B[0m: \n\"\"\"\nTraceback (most recent call last):\n  File \"C:\\Users\\athen\\Anaconda3\\envs\\P4_OC\\lib\\site-packages\\joblib\\externals\\loky\\process_executor.py\", line 436, in _process_worker\n    r = call_item()\n  File \"C:\\Users\\athen\\Anaconda3\\envs\\P4_OC\\lib\\site-packages\\joblib\\externals\\loky\\process_executor.py\", line 288, in __call__\n    return self.fn(*self.args, **self.kwargs)\n  File \"C:\\Users\\athen\\Anaconda3\\envs\\P4_OC\\lib\\site-packages\\joblib\\_parallel_backends.py\", line 595, in __call__\n    return self.func(*args, **kwargs)\n  File \"C:\\Users\\athen\\Anaconda3\\envs\\P4_OC\\lib\\site-packages\\joblib\\parallel.py\", line 262, in __call__\n    return [func(*args, **kwargs)\n  File \"C:\\Users\\athen\\Anaconda3\\envs\\P4_OC\\lib\\site-packages\\joblib\\parallel.py\", line 262, in <listcomp>\n    return [func(*args, **kwargs)\n  File \"C:\\Users\\athen\\Anaconda3\\envs\\P4_OC\\lib\\site-packages\\sklearn\\utils\\fixes.py\", line 117, in __call__\n    return self.function(*args, **kwargs)\n  File \"C:\\Users\\athen\\Anaconda3\\envs\\P4_OC\\lib\\site-packages\\sklearn\\model_selection\\_validation.py\", line 674, in _fit_and_score\n    estimator = estimator.set_params(**cloned_parameters)\n  File \"C:\\Users\\athen\\Anaconda3\\envs\\P4_OC\\lib\\site-packages\\sklearn\\base.py\", line 246, in set_params\n    raise ValueError(\nValueError: Invalid parameter 'regressor' for estimator Ridge(max_iter=1000). Valid parameters are: ['alpha', 'copy_X', 'fit_intercept', 'max_iter', 'normalize', 'positive', 'random_state', 'solver', 'tol'].\n\"\"\"",
      "\nThe above exception was the direct cause of the following exception:\n",
      "\u001B[1;31mValueError\u001B[0m                                Traceback (most recent call last)",
      "Input \u001B[1;32mIn [1015]\u001B[0m, in \u001B[0;36m<cell line: 1>\u001B[1;34m()\u001B[0m\n\u001B[1;32m----> 1\u001B[0m CVsearch_dict \u001B[38;5;241m=\u001B[39m \u001B[43mall_gridSearchCV\u001B[49m\u001B[43m(\u001B[49m\u001B[43mX_train\u001B[49m\u001B[43m,\u001B[49m\u001B[43m \u001B[49m\u001B[43my_train\u001B[49m\u001B[43m)\u001B[49m\n",
      "Input \u001B[1;32mIn [1014]\u001B[0m, in \u001B[0;36mall_gridSearchCV\u001B[1;34m(features, target)\u001B[0m\n\u001B[0;32m     16\u001B[0m grid \u001B[38;5;241m=\u001B[39m GridSearchCV(\n\u001B[0;32m     17\u001B[0m     estimator\u001B[38;5;241m=\u001B[39mparam_grid_dict[\u001B[38;5;124m\"\u001B[39m\u001B[38;5;124mregressor\u001B[39m\u001B[38;5;124m\"\u001B[39m][\u001B[38;5;241m0\u001B[39m],\n\u001B[0;32m     18\u001B[0m     param_grid\u001B[38;5;241m=\u001B[39mparam_grid_dict, \u001B[38;5;66;03m# choice of hyper-parameters to test\u001B[39;00m\n\u001B[1;32m   (...)\u001B[0m\n\u001B[0;32m     23\u001B[0m     verbose\u001B[38;5;241m=\u001B[39m\u001B[38;5;241m1\u001B[39m\n\u001B[0;32m     24\u001B[0m )\n\u001B[0;32m     26\u001B[0m \u001B[38;5;66;03m# Searching for best hyper-parameters, and saving in dict\u001B[39;00m\n\u001B[1;32m---> 27\u001B[0m CVsearch_dict[model] \u001B[38;5;241m=\u001B[39m \u001B[43mgrid\u001B[49m\u001B[38;5;241;43m.\u001B[39;49m\u001B[43mfit\u001B[49m\u001B[43m(\u001B[49m\u001B[43mfeatures\u001B[49m\u001B[43m,\u001B[49m\u001B[43m \u001B[49m\u001B[43mtarget\u001B[49m\u001B[43m)\u001B[49m\n\u001B[0;32m     29\u001B[0m \u001B[38;5;66;03m# Getting standard deviation for best_model scores\u001B[39;00m\n\u001B[0;32m     30\u001B[0m best_index \u001B[38;5;241m=\u001B[39m grid\u001B[38;5;241m.\u001B[39mbest_index_\n",
      "File \u001B[1;32m~\\Anaconda3\\envs\\P4_OC\\lib\\site-packages\\sklearn\\model_selection\\_search.py:875\u001B[0m, in \u001B[0;36mBaseSearchCV.fit\u001B[1;34m(self, X, y, groups, **fit_params)\u001B[0m\n\u001B[0;32m    869\u001B[0m     results \u001B[38;5;241m=\u001B[39m \u001B[38;5;28mself\u001B[39m\u001B[38;5;241m.\u001B[39m_format_results(\n\u001B[0;32m    870\u001B[0m         all_candidate_params, n_splits, all_out, all_more_results\n\u001B[0;32m    871\u001B[0m     )\n\u001B[0;32m    873\u001B[0m     \u001B[38;5;28;01mreturn\u001B[39;00m results\n\u001B[1;32m--> 875\u001B[0m \u001B[38;5;28;43mself\u001B[39;49m\u001B[38;5;241;43m.\u001B[39;49m\u001B[43m_run_search\u001B[49m\u001B[43m(\u001B[49m\u001B[43mevaluate_candidates\u001B[49m\u001B[43m)\u001B[49m\n\u001B[0;32m    877\u001B[0m \u001B[38;5;66;03m# multimetric is determined here because in the case of a callable\u001B[39;00m\n\u001B[0;32m    878\u001B[0m \u001B[38;5;66;03m# self.scoring the return type is only known after calling\u001B[39;00m\n\u001B[0;32m    879\u001B[0m first_test_score \u001B[38;5;241m=\u001B[39m all_out[\u001B[38;5;241m0\u001B[39m][\u001B[38;5;124m\"\u001B[39m\u001B[38;5;124mtest_scores\u001B[39m\u001B[38;5;124m\"\u001B[39m]\n",
      "File \u001B[1;32m~\\Anaconda3\\envs\\P4_OC\\lib\\site-packages\\sklearn\\model_selection\\_search.py:1375\u001B[0m, in \u001B[0;36mGridSearchCV._run_search\u001B[1;34m(self, evaluate_candidates)\u001B[0m\n\u001B[0;32m   1373\u001B[0m \u001B[38;5;28;01mdef\u001B[39;00m \u001B[38;5;21m_run_search\u001B[39m(\u001B[38;5;28mself\u001B[39m, evaluate_candidates):\n\u001B[0;32m   1374\u001B[0m     \u001B[38;5;124;03m\"\"\"Search all candidates in param_grid\"\"\"\u001B[39;00m\n\u001B[1;32m-> 1375\u001B[0m     \u001B[43mevaluate_candidates\u001B[49m\u001B[43m(\u001B[49m\u001B[43mParameterGrid\u001B[49m\u001B[43m(\u001B[49m\u001B[38;5;28;43mself\u001B[39;49m\u001B[38;5;241;43m.\u001B[39;49m\u001B[43mparam_grid\u001B[49m\u001B[43m)\u001B[49m\u001B[43m)\u001B[49m\n",
      "File \u001B[1;32m~\\Anaconda3\\envs\\P4_OC\\lib\\site-packages\\sklearn\\model_selection\\_search.py:822\u001B[0m, in \u001B[0;36mBaseSearchCV.fit.<locals>.evaluate_candidates\u001B[1;34m(candidate_params, cv, more_results)\u001B[0m\n\u001B[0;32m    814\u001B[0m \u001B[38;5;28;01mif\u001B[39;00m \u001B[38;5;28mself\u001B[39m\u001B[38;5;241m.\u001B[39mverbose \u001B[38;5;241m>\u001B[39m \u001B[38;5;241m0\u001B[39m:\n\u001B[0;32m    815\u001B[0m     \u001B[38;5;28mprint\u001B[39m(\n\u001B[0;32m    816\u001B[0m         \u001B[38;5;124m\"\u001B[39m\u001B[38;5;124mFitting \u001B[39m\u001B[38;5;132;01m{0}\u001B[39;00m\u001B[38;5;124m folds for each of \u001B[39m\u001B[38;5;132;01m{1}\u001B[39;00m\u001B[38;5;124m candidates,\u001B[39m\u001B[38;5;124m\"\u001B[39m\n\u001B[0;32m    817\u001B[0m         \u001B[38;5;124m\"\u001B[39m\u001B[38;5;124m totalling \u001B[39m\u001B[38;5;132;01m{2}\u001B[39;00m\u001B[38;5;124m fits\u001B[39m\u001B[38;5;124m\"\u001B[39m\u001B[38;5;241m.\u001B[39mformat(\n\u001B[0;32m    818\u001B[0m             n_splits, n_candidates, n_candidates \u001B[38;5;241m*\u001B[39m n_splits\n\u001B[0;32m    819\u001B[0m         )\n\u001B[0;32m    820\u001B[0m     )\n\u001B[1;32m--> 822\u001B[0m out \u001B[38;5;241m=\u001B[39m \u001B[43mparallel\u001B[49m\u001B[43m(\u001B[49m\n\u001B[0;32m    823\u001B[0m \u001B[43m    \u001B[49m\u001B[43mdelayed\u001B[49m\u001B[43m(\u001B[49m\u001B[43m_fit_and_score\u001B[49m\u001B[43m)\u001B[49m\u001B[43m(\u001B[49m\n\u001B[0;32m    824\u001B[0m \u001B[43m        \u001B[49m\u001B[43mclone\u001B[49m\u001B[43m(\u001B[49m\u001B[43mbase_estimator\u001B[49m\u001B[43m)\u001B[49m\u001B[43m,\u001B[49m\n\u001B[0;32m    825\u001B[0m \u001B[43m        \u001B[49m\u001B[43mX\u001B[49m\u001B[43m,\u001B[49m\n\u001B[0;32m    826\u001B[0m \u001B[43m        \u001B[49m\u001B[43my\u001B[49m\u001B[43m,\u001B[49m\n\u001B[0;32m    827\u001B[0m \u001B[43m        \u001B[49m\u001B[43mtrain\u001B[49m\u001B[38;5;241;43m=\u001B[39;49m\u001B[43mtrain\u001B[49m\u001B[43m,\u001B[49m\n\u001B[0;32m    828\u001B[0m \u001B[43m        \u001B[49m\u001B[43mtest\u001B[49m\u001B[38;5;241;43m=\u001B[39;49m\u001B[43mtest\u001B[49m\u001B[43m,\u001B[49m\n\u001B[0;32m    829\u001B[0m \u001B[43m        \u001B[49m\u001B[43mparameters\u001B[49m\u001B[38;5;241;43m=\u001B[39;49m\u001B[43mparameters\u001B[49m\u001B[43m,\u001B[49m\n\u001B[0;32m    830\u001B[0m \u001B[43m        \u001B[49m\u001B[43msplit_progress\u001B[49m\u001B[38;5;241;43m=\u001B[39;49m\u001B[43m(\u001B[49m\u001B[43msplit_idx\u001B[49m\u001B[43m,\u001B[49m\u001B[43m \u001B[49m\u001B[43mn_splits\u001B[49m\u001B[43m)\u001B[49m\u001B[43m,\u001B[49m\n\u001B[0;32m    831\u001B[0m \u001B[43m        \u001B[49m\u001B[43mcandidate_progress\u001B[49m\u001B[38;5;241;43m=\u001B[39;49m\u001B[43m(\u001B[49m\u001B[43mcand_idx\u001B[49m\u001B[43m,\u001B[49m\u001B[43m \u001B[49m\u001B[43mn_candidates\u001B[49m\u001B[43m)\u001B[49m\u001B[43m,\u001B[49m\n\u001B[0;32m    832\u001B[0m \u001B[43m        \u001B[49m\u001B[38;5;241;43m*\u001B[39;49m\u001B[38;5;241;43m*\u001B[39;49m\u001B[43mfit_and_score_kwargs\u001B[49m\u001B[43m,\u001B[49m\n\u001B[0;32m    833\u001B[0m \u001B[43m    \u001B[49m\u001B[43m)\u001B[49m\n\u001B[0;32m    834\u001B[0m \u001B[43m    \u001B[49m\u001B[38;5;28;43;01mfor\u001B[39;49;00m\u001B[43m \u001B[49m\u001B[43m(\u001B[49m\u001B[43mcand_idx\u001B[49m\u001B[43m,\u001B[49m\u001B[43m \u001B[49m\u001B[43mparameters\u001B[49m\u001B[43m)\u001B[49m\u001B[43m,\u001B[49m\u001B[43m \u001B[49m\u001B[43m(\u001B[49m\u001B[43msplit_idx\u001B[49m\u001B[43m,\u001B[49m\u001B[43m \u001B[49m\u001B[43m(\u001B[49m\u001B[43mtrain\u001B[49m\u001B[43m,\u001B[49m\u001B[43m \u001B[49m\u001B[43mtest\u001B[49m\u001B[43m)\u001B[49m\u001B[43m)\u001B[49m\u001B[43m \u001B[49m\u001B[38;5;129;43;01min\u001B[39;49;00m\u001B[43m \u001B[49m\u001B[43mproduct\u001B[49m\u001B[43m(\u001B[49m\n\u001B[0;32m    835\u001B[0m \u001B[43m        \u001B[49m\u001B[38;5;28;43menumerate\u001B[39;49m\u001B[43m(\u001B[49m\u001B[43mcandidate_params\u001B[49m\u001B[43m)\u001B[49m\u001B[43m,\u001B[49m\u001B[43m \u001B[49m\u001B[38;5;28;43menumerate\u001B[39;49m\u001B[43m(\u001B[49m\u001B[43mcv\u001B[49m\u001B[38;5;241;43m.\u001B[39;49m\u001B[43msplit\u001B[49m\u001B[43m(\u001B[49m\u001B[43mX\u001B[49m\u001B[43m,\u001B[49m\u001B[43m \u001B[49m\u001B[43my\u001B[49m\u001B[43m,\u001B[49m\u001B[43m \u001B[49m\u001B[43mgroups\u001B[49m\u001B[43m)\u001B[49m\u001B[43m)\u001B[49m\n\u001B[0;32m    836\u001B[0m \u001B[43m    \u001B[49m\u001B[43m)\u001B[49m\n\u001B[0;32m    837\u001B[0m \u001B[43m\u001B[49m\u001B[43m)\u001B[49m\n\u001B[0;32m    839\u001B[0m \u001B[38;5;28;01mif\u001B[39;00m \u001B[38;5;28mlen\u001B[39m(out) \u001B[38;5;241m<\u001B[39m \u001B[38;5;241m1\u001B[39m:\n\u001B[0;32m    840\u001B[0m     \u001B[38;5;28;01mraise\u001B[39;00m \u001B[38;5;167;01mValueError\u001B[39;00m(\n\u001B[0;32m    841\u001B[0m         \u001B[38;5;124m\"\u001B[39m\u001B[38;5;124mNo fits were performed. \u001B[39m\u001B[38;5;124m\"\u001B[39m\n\u001B[0;32m    842\u001B[0m         \u001B[38;5;124m\"\u001B[39m\u001B[38;5;124mWas the CV iterator empty? \u001B[39m\u001B[38;5;124m\"\u001B[39m\n\u001B[0;32m    843\u001B[0m         \u001B[38;5;124m\"\u001B[39m\u001B[38;5;124mWere there no candidates?\u001B[39m\u001B[38;5;124m\"\u001B[39m\n\u001B[0;32m    844\u001B[0m     )\n",
      "File \u001B[1;32m~\\Anaconda3\\envs\\P4_OC\\lib\\site-packages\\joblib\\parallel.py:1056\u001B[0m, in \u001B[0;36mParallel.__call__\u001B[1;34m(self, iterable)\u001B[0m\n\u001B[0;32m   1053\u001B[0m     \u001B[38;5;28mself\u001B[39m\u001B[38;5;241m.\u001B[39m_iterating \u001B[38;5;241m=\u001B[39m \u001B[38;5;28;01mFalse\u001B[39;00m\n\u001B[0;32m   1055\u001B[0m \u001B[38;5;28;01mwith\u001B[39;00m \u001B[38;5;28mself\u001B[39m\u001B[38;5;241m.\u001B[39m_backend\u001B[38;5;241m.\u001B[39mretrieval_context():\n\u001B[1;32m-> 1056\u001B[0m     \u001B[38;5;28;43mself\u001B[39;49m\u001B[38;5;241;43m.\u001B[39;49m\u001B[43mretrieve\u001B[49m\u001B[43m(\u001B[49m\u001B[43m)\u001B[49m\n\u001B[0;32m   1057\u001B[0m \u001B[38;5;66;03m# Make sure that we get a last message telling us we are done\u001B[39;00m\n\u001B[0;32m   1058\u001B[0m elapsed_time \u001B[38;5;241m=\u001B[39m time\u001B[38;5;241m.\u001B[39mtime() \u001B[38;5;241m-\u001B[39m \u001B[38;5;28mself\u001B[39m\u001B[38;5;241m.\u001B[39m_start_time\n",
      "File \u001B[1;32m~\\Anaconda3\\envs\\P4_OC\\lib\\site-packages\\joblib\\parallel.py:935\u001B[0m, in \u001B[0;36mParallel.retrieve\u001B[1;34m(self)\u001B[0m\n\u001B[0;32m    933\u001B[0m \u001B[38;5;28;01mtry\u001B[39;00m:\n\u001B[0;32m    934\u001B[0m     \u001B[38;5;28;01mif\u001B[39;00m \u001B[38;5;28mgetattr\u001B[39m(\u001B[38;5;28mself\u001B[39m\u001B[38;5;241m.\u001B[39m_backend, \u001B[38;5;124m'\u001B[39m\u001B[38;5;124msupports_timeout\u001B[39m\u001B[38;5;124m'\u001B[39m, \u001B[38;5;28;01mFalse\u001B[39;00m):\n\u001B[1;32m--> 935\u001B[0m         \u001B[38;5;28mself\u001B[39m\u001B[38;5;241m.\u001B[39m_output\u001B[38;5;241m.\u001B[39mextend(\u001B[43mjob\u001B[49m\u001B[38;5;241;43m.\u001B[39;49m\u001B[43mget\u001B[49m\u001B[43m(\u001B[49m\u001B[43mtimeout\u001B[49m\u001B[38;5;241;43m=\u001B[39;49m\u001B[38;5;28;43mself\u001B[39;49m\u001B[38;5;241;43m.\u001B[39;49m\u001B[43mtimeout\u001B[49m\u001B[43m)\u001B[49m)\n\u001B[0;32m    936\u001B[0m     \u001B[38;5;28;01melse\u001B[39;00m:\n\u001B[0;32m    937\u001B[0m         \u001B[38;5;28mself\u001B[39m\u001B[38;5;241m.\u001B[39m_output\u001B[38;5;241m.\u001B[39mextend(job\u001B[38;5;241m.\u001B[39mget())\n",
      "File \u001B[1;32m~\\Anaconda3\\envs\\P4_OC\\lib\\site-packages\\joblib\\_parallel_backends.py:542\u001B[0m, in \u001B[0;36mLokyBackend.wrap_future_result\u001B[1;34m(future, timeout)\u001B[0m\n\u001B[0;32m    539\u001B[0m \u001B[38;5;124;03m\"\"\"Wrapper for Future.result to implement the same behaviour as\u001B[39;00m\n\u001B[0;32m    540\u001B[0m \u001B[38;5;124;03mAsyncResults.get from multiprocessing.\"\"\"\u001B[39;00m\n\u001B[0;32m    541\u001B[0m \u001B[38;5;28;01mtry\u001B[39;00m:\n\u001B[1;32m--> 542\u001B[0m     \u001B[38;5;28;01mreturn\u001B[39;00m \u001B[43mfuture\u001B[49m\u001B[38;5;241;43m.\u001B[39;49m\u001B[43mresult\u001B[49m\u001B[43m(\u001B[49m\u001B[43mtimeout\u001B[49m\u001B[38;5;241;43m=\u001B[39;49m\u001B[43mtimeout\u001B[49m\u001B[43m)\u001B[49m\n\u001B[0;32m    543\u001B[0m \u001B[38;5;28;01mexcept\u001B[39;00m CfTimeoutError \u001B[38;5;28;01mas\u001B[39;00m e:\n\u001B[0;32m    544\u001B[0m     \u001B[38;5;28;01mraise\u001B[39;00m \u001B[38;5;167;01mTimeoutError\u001B[39;00m \u001B[38;5;28;01mfrom\u001B[39;00m \u001B[38;5;21;01me\u001B[39;00m\n",
      "File \u001B[1;32m~\\Anaconda3\\envs\\P4_OC\\lib\\concurrent\\futures\\_base.py:446\u001B[0m, in \u001B[0;36mFuture.result\u001B[1;34m(self, timeout)\u001B[0m\n\u001B[0;32m    444\u001B[0m     \u001B[38;5;28;01mraise\u001B[39;00m CancelledError()\n\u001B[0;32m    445\u001B[0m \u001B[38;5;28;01melif\u001B[39;00m \u001B[38;5;28mself\u001B[39m\u001B[38;5;241m.\u001B[39m_state \u001B[38;5;241m==\u001B[39m FINISHED:\n\u001B[1;32m--> 446\u001B[0m     \u001B[38;5;28;01mreturn\u001B[39;00m \u001B[38;5;28;43mself\u001B[39;49m\u001B[38;5;241;43m.\u001B[39;49m\u001B[43m__get_result\u001B[49m\u001B[43m(\u001B[49m\u001B[43m)\u001B[49m\n\u001B[0;32m    447\u001B[0m \u001B[38;5;28;01melse\u001B[39;00m:\n\u001B[0;32m    448\u001B[0m     \u001B[38;5;28;01mraise\u001B[39;00m \u001B[38;5;167;01mTimeoutError\u001B[39;00m()\n",
      "File \u001B[1;32m~\\Anaconda3\\envs\\P4_OC\\lib\\concurrent\\futures\\_base.py:391\u001B[0m, in \u001B[0;36mFuture.__get_result\u001B[1;34m(self)\u001B[0m\n\u001B[0;32m    389\u001B[0m \u001B[38;5;28;01mif\u001B[39;00m \u001B[38;5;28mself\u001B[39m\u001B[38;5;241m.\u001B[39m_exception:\n\u001B[0;32m    390\u001B[0m     \u001B[38;5;28;01mtry\u001B[39;00m:\n\u001B[1;32m--> 391\u001B[0m         \u001B[38;5;28;01mraise\u001B[39;00m \u001B[38;5;28mself\u001B[39m\u001B[38;5;241m.\u001B[39m_exception\n\u001B[0;32m    392\u001B[0m     \u001B[38;5;28;01mfinally\u001B[39;00m:\n\u001B[0;32m    393\u001B[0m         \u001B[38;5;66;03m# Break a reference cycle with the exception in self._exception\u001B[39;00m\n\u001B[0;32m    394\u001B[0m         \u001B[38;5;28mself\u001B[39m \u001B[38;5;241m=\u001B[39m \u001B[38;5;28;01mNone\u001B[39;00m\n",
      "\u001B[1;31mValueError\u001B[0m: Invalid parameter 'regressor' for estimator Ridge(max_iter=1000). Valid parameters are: ['alpha', 'copy_X', 'fit_intercept', 'max_iter', 'normalize', 'positive', 'random_state', 'solver', 'tol']."
     ]
    }
   ],
   "source": [
    "CVsearch_dict = all_gridSearchCV(X_train, y_train)"
   ],
   "metadata": {
    "collapsed": false,
    "pycharm": {
     "name": "#%%\n"
    }
   }
  },
  {
   "cell_type": "code",
   "execution_count": 1003,
   "outputs": [
    {
     "ename": "NameError",
     "evalue": "name 'CVsearch_dict' is not defined",
     "output_type": "error",
     "traceback": [
      "\u001B[1;31m---------------------------------------------------------------------------\u001B[0m",
      "\u001B[1;31mNameError\u001B[0m                                 Traceback (most recent call last)",
      "Input \u001B[1;32mIn [1003]\u001B[0m, in \u001B[0;36m<cell line: 32>\u001B[1;34m()\u001B[0m\n\u001B[0;32m     28\u001B[0m             \u001B[38;5;28mprint\u001B[39m(\u001B[38;5;124m\"\u001B[39m\u001B[38;5;124m  - \u001B[39m\u001B[38;5;124m\"\u001B[39m \u001B[38;5;241m+\u001B[39m parameter \u001B[38;5;241m+\u001B[39m \u001B[38;5;124m\"\u001B[39m\u001B[38;5;124m:\u001B[39m\u001B[38;5;124m\"\u001B[39m, best_parameter)\n\u001B[0;32m     30\u001B[0m     \u001B[38;5;28;01mreturn\u001B[39;00m best_model\n\u001B[1;32m---> 32\u001B[0m model_GHG \u001B[38;5;241m=\u001B[39m get_best_model(\u001B[43mCVsearch_dict\u001B[49m)\n",
      "\u001B[1;31mNameError\u001B[0m: name 'CVsearch_dict' is not defined"
     ]
    }
   ],
   "source": [
    "def get_best_model(CVsearch_dict):\n",
    "    \"\"\"Return the best_model from CVsearch_dict.\"\"\"\n",
    "\n",
    "    # Initializing best score\n",
    "    best_score = 0\n",
    "\n",
    "    # Iterating over models\n",
    "    for model, model_CVsearch in CVsearch_dict.items():\n",
    "\n",
    "        # Selecting model with best score\n",
    "        if model_CVsearch.best_score_ > best_score:\n",
    "            # Updating best_score and best_model\n",
    "            best_model_name = model\n",
    "            best_score = model_CVsearch.best_score_\n",
    "            best_model = model_CVsearch.best_estimator_\n",
    "\n",
    "    # Display results\n",
    "    print(\"\\nThe overall best cross-validated score is : R² = {:.3f}\".format(best_score))\n",
    "    print(\"The best model is {} with parameters: \".format(best_model_name))\n",
    "\n",
    "    # Getting parameters from param_grid\n",
    "    for parameter, _ in param_grids[best_model_name][0].items():\n",
    "        if parameter != 'regressor':\n",
    "            best_parameter = best_model.get_params()[parameter]\n",
    "\n",
    "            # Display best parameter\n",
    "            parameter = parameter.split(\"regressor__\")[1]\n",
    "            print(\"  - \" + parameter + \":\", best_parameter)\n",
    "\n",
    "    return best_model\n",
    "\n",
    "model_GHG = get_best_model(CVsearch_dict)"
   ],
   "metadata": {
    "collapsed": false,
    "pycharm": {
     "name": "#%%\n"
    }
   }
  },
  {
   "cell_type": "markdown",
   "source": [
    "#### Vérification des prédictions\n"
   ],
   "metadata": {
    "collapsed": false,
    "pycharm": {
     "name": "#%% md\n"
    }
   }
  },
  {
   "cell_type": "code",
   "execution_count": null,
   "outputs": [],
   "source": [],
   "metadata": {
    "collapsed": false,
    "pycharm": {
     "name": "#%%\n"
    }
   }
  },
  {
   "cell_type": "markdown",
   "source": [
    "#### Intérêt du Energy Star Score\n"
   ],
   "metadata": {
    "collapsed": false,
    "pycharm": {
     "name": "#%% md\n"
    }
   }
  }
 ],
 "metadata": {
  "kernelspec": {
   "display_name": "Python 3",
   "language": "python",
   "name": "python3"
  },
  "language_info": {
   "codemirror_mode": {
    "name": "ipython",
    "version": 2
   },
   "file_extension": ".py",
   "mimetype": "text/x-python",
   "name": "python",
   "nbconvert_exporter": "python",
   "pygments_lexer": "ipython2",
   "version": "2.7.6"
  }
 },
 "nbformat": 4,
 "nbformat_minor": 0
}