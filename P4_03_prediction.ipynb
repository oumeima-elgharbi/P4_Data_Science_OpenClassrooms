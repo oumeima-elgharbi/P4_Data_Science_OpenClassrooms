{
 "cells": [
  {
   "cell_type": "markdown",
   "source": [
    "OpenClassrooms\n",
    "Project 4, Data Scientist\n",
    "Author : Oumeima EL GHARBI\n",
    "Date : August 2022"
   ],
   "metadata": {
    "collapsed": false,
    "pycharm": {
     "name": "#%% md\n"
    }
   }
  },
  {
   "cell_type": "markdown",
   "source": [
    "Un notebook pour chaque prédiction (émissions de CO2 et consommation totale d’énergie) des différents tests de modèles mis au propre, dans lequel vous identifierez clairement le modèle final choisi.\n",
    "\n",
    "\n",
    "L’objectif est de te passer des relevés de consommation annuels futurs (attention à la fuite de données). Nous ferons de toute façon pour tout nouveau bâtiment un premier relevé de référence la première année, donc rien ne t'interdit d’en déduire des variables structurelles aux bâtiments, par exemple la nature et proportions des sources d’énergie utilisées..\n",
    "\n",
    "Fais bien attention au traitement des différentes variables, à la fois pour trouver de nouvelles informations (peut-on déduire des choses intéressantes d’une simple adresse ?) et optimiser les performances en appliquant des transformations simples aux variables (normalisation, passage au log, etc.).\n",
    "\n",
    "Mets en place une évaluation rigoureuse des performances de la régression, et optimise les hyperparamètres et le choix d’algorithmes de ML à l’aide d’une validation croisée."
   ],
   "metadata": {
    "collapsed": false,
    "pycharm": {
     "name": "#%% md\n"
    }
   }
  },
  {
   "cell_type": "markdown",
   "source": [
    "\n",
    "\n",
    "Tester les modèles suivants : **regression linéaire (avec différentes régularisation : Ridge, Lasso, Elastic), Random Forest, XGboost**\n",
    "Penser à comparer les performances des différents modèles : utiliser la **MAE** ( Mean Absolute Error)\n",
    "Penser également à optimiser les hyper paramètres de chaque modèle via **GridSearch**\n"
   ],
   "metadata": {
    "collapsed": false,
    "pycharm": {
     "name": "#%% md\n"
    }
   }
  },
  {
   "cell_type": "markdown",
   "source": [
    "Evaluate :\n",
    "\n",
    "https://cloud.google.com/automl-tables/docs/evaluate?hl=fr\n",
    "\n",
    "\n",
    "KFOLD\n",
    "\n",
    "Entrée : données X (dimension nxp), étiquettes y (dimension n), nombre de folds k\n",
    "\n",
    "Couper [0, 1, ..., n-1] en k parties de taille (n/k). (La dernière partie sera un peu plus petite si n n'est pas un multiple de k)\n",
    "\n",
    "for i=0 to (k-1):\n",
    "    Former le jeu de test (X_test, y_test) en restreignant X et y aux indices contenus dans la i-ième partie.\n",
    "    Former le jeu d'entraînement (X_train, y_train) en restreignant X et y aux autres indices.\n",
    "    Entraîner l'algorithme sur le jeu d'entraînement\n",
    "    Utiliser le modèle ainsi obtenu pour prédire sur le jeu de test\n",
    "        Calculer l'erreur du modèle en comparant les étiquettes prédites aux vraies étiquettes contenues dans y_test\n",
    "\n",
    "Sortie : la valeur moyenne des erreurs calculées sur les k folds."
   ],
   "metadata": {
    "collapsed": false,
    "pycharm": {
     "name": "#%% md\n"
    }
   }
  },
  {
   "cell_type": "code",
   "execution_count": 896,
   "outputs": [],
   "source": [
    "# 1 modele de Regression (RL classsque / Elastic / ridig / laso\n",
    "# Random Forest\n",
    "# XGBOOST\n",
    "\n",
    "# var à rpedire tottal GHE Emssion last one to predict\n",
    "# cette var deped de la consommation des bateimenst (1) prediction sur elec, steam, naturalgas et un autre energie (2) et reutiliser pour predire"
   ],
   "metadata": {
    "collapsed": false,
    "pycharm": {
     "name": "#%%\n"
    }
   }
  },
  {
   "cell_type": "markdown",
   "source": [
    "### Introduction"
   ],
   "metadata": {
    "collapsed": false,
    "pycharm": {
     "name": "#%% md\n"
    }
   }
  },
  {
   "cell_type": "markdown",
   "source": [
    "#### Importing libraries"
   ],
   "metadata": {
    "collapsed": false,
    "pycharm": {
     "name": "#%% md\n"
    }
   }
  },
  {
   "cell_type": "code",
   "execution_count": 897,
   "outputs": [
    {
     "data": {
      "application/javascript": "IPython.notebook.set_autosave_interval(300000)"
     },
     "metadata": {},
     "output_type": "display_data"
    },
    {
     "name": "stdout",
     "output_type": "stream",
     "text": [
      "Autosaving every 300 seconds\n"
     ]
    }
   ],
   "source": [
    "%reset -f\n",
    "\n",
    "import numpy as np\n",
    "import pandas as pd\n",
    "import matplotlib.pyplot as plt\n",
    "import seaborn as sns\n",
    "\n",
    "%matplotlib inline\n",
    "%autosave 300"
   ],
   "metadata": {
    "collapsed": false,
    "pycharm": {
     "name": "#%%\n"
    }
   }
  },
  {
   "cell_type": "code",
   "execution_count": 898,
   "outputs": [],
   "source": [
    "from functions import *"
   ],
   "metadata": {
    "collapsed": false,
    "pycharm": {
     "name": "#%%\n"
    }
   }
  },
  {
   "cell_type": "code",
   "execution_count": 899,
   "outputs": [],
   "source": [
    "import os, warnings\n",
    "# warnings.filterwarnings('ignore')\n",
    "warnings.filterwarnings(action=\"once\")"
   ],
   "metadata": {
    "collapsed": false,
    "pycharm": {
     "name": "#%%\n"
    }
   }
  },
  {
   "cell_type": "code",
   "execution_count": 900,
   "outputs": [
    {
     "name": "stdout",
     "output_type": "stream",
     "text": [
      "Seed value:  350\n"
     ]
    }
   ],
   "source": [
    "# Set random integer (seed) - 891\n",
    "from random import randrange\n",
    "seed = randrange(1000)\n",
    "print(\"Seed value: \", seed)"
   ],
   "metadata": {
    "collapsed": false,
    "pycharm": {
     "name": "#%%\n"
    }
   }
  },
  {
   "cell_type": "markdown",
   "source": [
    "#### Loading dataset"
   ],
   "metadata": {
    "collapsed": false,
    "pycharm": {
     "name": "#%% md\n"
    }
   }
  },
  {
   "cell_type": "code",
   "execution_count": 901,
   "outputs": [
    {
     "name": "stdout",
     "output_type": "stream",
     "text": [
      "This dictionary will be used when reading the csv file to assign a type to categorical features : {'BuildingType': 'category', 'PrimaryPropertyType': 'category', 'Neighborhood': 'category', 'ZipCode': 'category', 'CouncilDistrictCode': 'category', 'LargestPropertyUseType': 'category', 'SecondLargestPropertyUseType': 'category', 'ThirdLargestPropertyUseType': 'category'}\n"
     ]
    }
   ],
   "source": [
    "columns_to_categorize = [\"BuildingType\", \"PrimaryPropertyType\", \"Neighborhood\", \"ZipCode\", \"CouncilDistrictCode\", \"LargestPropertyUseType\", \"SecondLargestPropertyUseType\", \"ThirdLargestPropertyUseType\"]\n",
    "#  \"Neighborhood\",\n",
    "category_types = {column: 'category' for column in columns_to_categorize}\n",
    "print(\"This dictionary will be used when reading the csv file to assign a type to categorical features :\", category_types)"
   ],
   "metadata": {
    "collapsed": false,
    "pycharm": {
     "name": "#%%\n"
    }
   }
  },
  {
   "cell_type": "code",
   "execution_count": 902,
   "outputs": [],
   "source": [
    "path = \"./dataset/cleaned/\"\n",
    "filename = \"2016_Building_Energy_Prediction.csv\"\n",
    "dataset_path = \"{}{}\".format(path, filename)\n",
    "# we assign the categorical features with a categotical type\n",
    "data = pd.read_csv(dataset_path, dtype=category_types, sep=\",\")"
   ],
   "metadata": {
    "collapsed": false,
    "pycharm": {
     "name": "#%%\n"
    }
   }
  },
  {
   "cell_type": "code",
   "execution_count": 903,
   "outputs": [
    {
     "data": {
      "text/plain": "(3157, 37)"
     },
     "execution_count": 903,
     "metadata": {},
     "output_type": "execute_result"
    }
   ],
   "source": [
    "data.shape"
   ],
   "metadata": {
    "collapsed": false,
    "pycharm": {
     "name": "#%%\n"
    }
   }
  },
  {
   "cell_type": "code",
   "execution_count": 904,
   "outputs": [
    {
     "data": {
      "text/plain": "OSEBuildingID                             int64\nBuildingType                           category\nPrimaryPropertyType                    category\nZipCode                                category\nCouncilDistrictCode                    category\nNeighborhood                           category\nYearBuilt                                 int64\nNumberofBuildings                       float64\nNumberofFloors                            int64\nPropertyGFATotal                          int64\nPropertyGFAParking                        int64\nPropertyGFABuilding(s)                    int64\nLargestPropertyUseType                 category\nLargestPropertyUseTypeGFA               float64\nSecondLargestPropertyUseType           category\nSecondLargestPropertyUseTypeGFA         float64\nThirdLargestPropertyUseType            category\nThirdLargestPropertyUseTypeGFA          float64\nENERGYSTARScore                         float64\nSiteEnergyUse(kBtu)                     float64\nSteamUse(kBtu)                          float64\nElectricity(kBtu)                       float64\nNaturalGas(kBtu)                        float64\nTotalGHGEmissions                       float64\nLog-NumberofBuildings                   float64\nLog-NumberofFloors                      float64\nLog-PropertyGFATotal                    float64\nLog-PropertyGFAParking                  float64\nLog-PropertyGFABuilding(s)              float64\nLog-LargestPropertyUseTypeGFA           float64\nLog-SecondLargestPropertyUseTypeGFA     float64\nLog-ThirdLargestPropertyUseTypeGFA      float64\nLog-SiteEnergyUse(kBtu)                 float64\nLog-SteamUse(kBtu)                      float64\nLog-Electricity(kBtu)                   float64\nLog-NaturalGas(kBtu)                    float64\nLog-TotalGHGEmissions                   float64\ndtype: object"
     },
     "execution_count": 904,
     "metadata": {},
     "output_type": "execute_result"
    }
   ],
   "source": [
    "data.dtypes"
   ],
   "metadata": {
    "collapsed": false,
    "pycharm": {
     "name": "#%%\n"
    }
   }
  },
  {
   "cell_type": "code",
   "execution_count": 905,
   "outputs": [],
   "source": [
    "# predict : Electricity\n",
    "# train / test\n",
    "# standardisation = retirer la moyen et div par ecart type (scaling : les var qn sur emem echelle\n",
    "# var categ : encoding (one hot encoder)\n",
    "\n",
    "# la fin Feature engineriing\n",
    "\n",
    "# 2) entrainer le smodels\n",
    "# perf\n",
    "# temps de calcul\n",
    "# graph pour montrer la perf de chaque modele(barplot)\n",
    "# obj : finir exploration / finir feature engineering\n",
    "# obj un premier noteboook propre (try max)"
   ],
   "metadata": {
    "collapsed": false,
    "pycharm": {
     "name": "#%%\n"
    }
   }
  },
  {
   "cell_type": "code",
   "execution_count": 906,
   "outputs": [
    {
     "data": {
      "text/plain": "Index(['OSEBuildingID', 'BuildingType', 'PrimaryPropertyType', 'ZipCode',\n       'CouncilDistrictCode', 'Neighborhood', 'YearBuilt', 'NumberofBuildings',\n       'NumberofFloors', 'PropertyGFATotal', 'PropertyGFAParking',\n       'PropertyGFABuilding(s)', 'LargestPropertyUseType',\n       'LargestPropertyUseTypeGFA', 'SecondLargestPropertyUseType',\n       'SecondLargestPropertyUseTypeGFA', 'ThirdLargestPropertyUseType',\n       'ThirdLargestPropertyUseTypeGFA', 'ENERGYSTARScore',\n       'SiteEnergyUse(kBtu)', 'SteamUse(kBtu)', 'Electricity(kBtu)',\n       'NaturalGas(kBtu)', 'TotalGHGEmissions', 'Log-NumberofBuildings',\n       'Log-NumberofFloors', 'Log-PropertyGFATotal', 'Log-PropertyGFAParking',\n       'Log-PropertyGFABuilding(s)', 'Log-LargestPropertyUseTypeGFA',\n       'Log-SecondLargestPropertyUseTypeGFA',\n       'Log-ThirdLargestPropertyUseTypeGFA', 'Log-SiteEnergyUse(kBtu)',\n       'Log-SteamUse(kBtu)', 'Log-Electricity(kBtu)', 'Log-NaturalGas(kBtu)',\n       'Log-TotalGHGEmissions'],\n      dtype='object')"
     },
     "execution_count": 906,
     "metadata": {},
     "output_type": "execute_result"
    }
   ],
   "source": [
    "data.columns"
   ],
   "metadata": {
    "collapsed": false,
    "pycharm": {
     "name": "#%%\n"
    }
   }
  },
  {
   "cell_type": "code",
   "execution_count": 907,
   "outputs": [
    {
     "name": "stdout",
     "output_type": "stream",
     "text": [
      "['BuildingType', 'PrimaryPropertyType', 'Neighborhood', 'Log-NumberofFloors', 'Log-PropertyGFATotal', 'Log-PropertyGFABuilding(s)', 'Log-SecondLargestPropertyUseTypeGFA', 'Log-ThirdLargestPropertyUseTypeGFA', 'Log-Electricity(kBtu)']\n"
     ]
    }
   ],
   "source": [
    "features_for_prediction = [\"BuildingType\", \"PrimaryPropertyType\", \"Neighborhood\", \"Log-NumberofFloors\", \"Log-PropertyGFATotal\", \"Log-PropertyGFABuilding(s)\", \"Log-SecondLargestPropertyUseTypeGFA\", \"Log-ThirdLargestPropertyUseTypeGFA\"]\n",
    "\n",
    "#features_for_prediction = [\"YearBuilt\", \"NumberofBuildings\", \"NumberofFloors\", \"LargestPropertyUseTypeGFA\", \"SecondLargestPropertyUseTypeGFA\", \"ThirdLargestPropertyUseTypeGFA\",\n",
    "   #                        \"BuildingType\",\"PrimaryPropertyType\", \"Neighborhood\", \"LargestPropertyUseType\", \"SecondLargestPropertyUseType\", \"ThirdLargestPropertyUseType\"]\n",
    "\n",
    "variable_to_predict = \"Log-Electricity(kBtu)\"\n",
    "\n",
    "features_for_prediction.append(variable_to_predict)\n",
    "print(features_for_prediction)\n"
   ],
   "metadata": {
    "collapsed": false,
    "pycharm": {
     "name": "#%%\n"
    }
   }
  },
  {
   "cell_type": "code",
   "execution_count": 908,
   "outputs": [
    {
     "data": {
      "text/plain": "              BuildingType          PrimaryPropertyType      Neighborhood  \\\n0     Multifamily LR (1-4)         Low-Rise Multifamily           central   \n1           NonResidential                    Warehouse  greater duwamish   \n2     Multifamily LR (1-4)         Low-Rise Multifamily  greater duwamish   \n3     Multifamily HR (10+)        High-Rise Multifamily  greater duwamish   \n4     Multifamily LR (1-4)         Low-Rise Multifamily  greater duwamish   \n...                    ...                          ...               ...   \n3152        NonResidential           Mixed Use Property        lake union   \n3153  Multifamily LR (1-4)         Low-Rise Multifamily        lake union   \n3154        NonResidential  Small- and Mid-Sized Office        lake union   \n3155        NonResidential                 Retail Store        lake union   \n3156    Nonresidential COS           Mixed Use Property  greater duwamish   \n\n      Log-NumberofFloors  Log-PropertyGFATotal  Log-PropertyGFABuilding(s)  \\\n0                1.38629               9.93982                     9.93982   \n1                1.09861              10.16416                    10.16416   \n2                1.38629              10.13146                    10.13146   \n3                2.77259              11.21045                    11.21045   \n4                1.38629              10.50188                    10.28718   \n...                  ...                   ...                         ...   \n3152             1.38629              10.64132                    10.39213   \n3153             1.60944              10.50947                    10.50947   \n3154             1.79176              10.42647                    10.23031   \n3155             1.09861               9.92901                     9.92901   \n3156             0.69315               9.81241                     9.81241   \n\n      Log-SecondLargestPropertyUseTypeGFA  Log-ThirdLargestPropertyUseTypeGFA  \\\n0                                 0.00000                             0.00000   \n1                                 9.07635                             8.02650   \n2                                 0.00000                             0.00000   \n3                                 0.00000                             0.00000   \n4                                 8.34308                             0.00000   \n...                                   ...                                 ...   \n3152                              9.55598                             9.17792   \n3153                              0.00000                             0.00000   \n3154                              9.07829                             7.31389   \n3155                              8.98732                             0.00000   \n3156                              8.98732                             7.01121   \n\n      Log-Electricity(kBtu)  \n0                  13.61254  \n1                  14.01281  \n2                  12.62493  \n3                  14.58300  \n4                  13.39715  \n...                     ...  \n3152               14.70714  \n3153               13.15700  \n3154               14.07124  \n3155               12.48743  \n3156               12.97747  \n\n[3157 rows x 9 columns]",
      "text/html": "<div>\n<style scoped>\n    .dataframe tbody tr th:only-of-type {\n        vertical-align: middle;\n    }\n\n    .dataframe tbody tr th {\n        vertical-align: top;\n    }\n\n    .dataframe thead th {\n        text-align: right;\n    }\n</style>\n<table border=\"1\" class=\"dataframe\">\n  <thead>\n    <tr style=\"text-align: right;\">\n      <th></th>\n      <th>BuildingType</th>\n      <th>PrimaryPropertyType</th>\n      <th>Neighborhood</th>\n      <th>Log-NumberofFloors</th>\n      <th>Log-PropertyGFATotal</th>\n      <th>Log-PropertyGFABuilding(s)</th>\n      <th>Log-SecondLargestPropertyUseTypeGFA</th>\n      <th>Log-ThirdLargestPropertyUseTypeGFA</th>\n      <th>Log-Electricity(kBtu)</th>\n    </tr>\n  </thead>\n  <tbody>\n    <tr>\n      <th>0</th>\n      <td>Multifamily LR (1-4)</td>\n      <td>Low-Rise Multifamily</td>\n      <td>central</td>\n      <td>1.38629</td>\n      <td>9.93982</td>\n      <td>9.93982</td>\n      <td>0.00000</td>\n      <td>0.00000</td>\n      <td>13.61254</td>\n    </tr>\n    <tr>\n      <th>1</th>\n      <td>NonResidential</td>\n      <td>Warehouse</td>\n      <td>greater duwamish</td>\n      <td>1.09861</td>\n      <td>10.16416</td>\n      <td>10.16416</td>\n      <td>9.07635</td>\n      <td>8.02650</td>\n      <td>14.01281</td>\n    </tr>\n    <tr>\n      <th>2</th>\n      <td>Multifamily LR (1-4)</td>\n      <td>Low-Rise Multifamily</td>\n      <td>greater duwamish</td>\n      <td>1.38629</td>\n      <td>10.13146</td>\n      <td>10.13146</td>\n      <td>0.00000</td>\n      <td>0.00000</td>\n      <td>12.62493</td>\n    </tr>\n    <tr>\n      <th>3</th>\n      <td>Multifamily HR (10+)</td>\n      <td>High-Rise Multifamily</td>\n      <td>greater duwamish</td>\n      <td>2.77259</td>\n      <td>11.21045</td>\n      <td>11.21045</td>\n      <td>0.00000</td>\n      <td>0.00000</td>\n      <td>14.58300</td>\n    </tr>\n    <tr>\n      <th>4</th>\n      <td>Multifamily LR (1-4)</td>\n      <td>Low-Rise Multifamily</td>\n      <td>greater duwamish</td>\n      <td>1.38629</td>\n      <td>10.50188</td>\n      <td>10.28718</td>\n      <td>8.34308</td>\n      <td>0.00000</td>\n      <td>13.39715</td>\n    </tr>\n    <tr>\n      <th>...</th>\n      <td>...</td>\n      <td>...</td>\n      <td>...</td>\n      <td>...</td>\n      <td>...</td>\n      <td>...</td>\n      <td>...</td>\n      <td>...</td>\n      <td>...</td>\n    </tr>\n    <tr>\n      <th>3152</th>\n      <td>NonResidential</td>\n      <td>Mixed Use Property</td>\n      <td>lake union</td>\n      <td>1.38629</td>\n      <td>10.64132</td>\n      <td>10.39213</td>\n      <td>9.55598</td>\n      <td>9.17792</td>\n      <td>14.70714</td>\n    </tr>\n    <tr>\n      <th>3153</th>\n      <td>Multifamily LR (1-4)</td>\n      <td>Low-Rise Multifamily</td>\n      <td>lake union</td>\n      <td>1.60944</td>\n      <td>10.50947</td>\n      <td>10.50947</td>\n      <td>0.00000</td>\n      <td>0.00000</td>\n      <td>13.15700</td>\n    </tr>\n    <tr>\n      <th>3154</th>\n      <td>NonResidential</td>\n      <td>Small- and Mid-Sized Office</td>\n      <td>lake union</td>\n      <td>1.79176</td>\n      <td>10.42647</td>\n      <td>10.23031</td>\n      <td>9.07829</td>\n      <td>7.31389</td>\n      <td>14.07124</td>\n    </tr>\n    <tr>\n      <th>3155</th>\n      <td>NonResidential</td>\n      <td>Retail Store</td>\n      <td>lake union</td>\n      <td>1.09861</td>\n      <td>9.92901</td>\n      <td>9.92901</td>\n      <td>8.98732</td>\n      <td>0.00000</td>\n      <td>12.48743</td>\n    </tr>\n    <tr>\n      <th>3156</th>\n      <td>Nonresidential COS</td>\n      <td>Mixed Use Property</td>\n      <td>greater duwamish</td>\n      <td>0.69315</td>\n      <td>9.81241</td>\n      <td>9.81241</td>\n      <td>8.98732</td>\n      <td>7.01121</td>\n      <td>12.97747</td>\n    </tr>\n  </tbody>\n</table>\n<p>3157 rows × 9 columns</p>\n</div>"
     },
     "execution_count": 908,
     "metadata": {},
     "output_type": "execute_result"
    }
   ],
   "source": [
    "data = data[features_for_prediction]\n",
    "\n",
    "data"
   ],
   "metadata": {
    "collapsed": false,
    "pycharm": {
     "name": "#%%\n"
    }
   }
  },
  {
   "cell_type": "markdown",
   "source": [
    "## I) Feature Engineering : preparing the vectors and matrices\n"
   ],
   "metadata": {
    "collapsed": false,
    "pycharm": {
     "name": "#%% md\n"
    }
   }
  },
  {
   "cell_type": "markdown",
   "source": [
    "#### 1) Separating training data and target vector"
   ],
   "metadata": {
    "collapsed": false,
    "pycharm": {
     "name": "#%% md\n"
    }
   }
  },
  {
   "cell_type": "code",
   "execution_count": 909,
   "outputs": [
    {
     "name": "stdout",
     "output_type": "stream",
     "text": [
      "Shape of X : (3157, 8)\n",
      "Shape of y : (3157,)\n"
     ]
    }
   ],
   "source": [
    "# we create the data matrix / we only take the features\n",
    "X = data[data.columns[:-1]]\n",
    "\n",
    "# we create the target vector\n",
    "y = data[variable_to_predict].values # numpy array not a DataFrame anymore\n",
    "\n",
    "print(\"Shape of X :\", X.shape)\n",
    "print(\"Shape of y :\", y.shape)"
   ],
   "metadata": {
    "collapsed": false,
    "pycharm": {
     "name": "#%%\n"
    }
   }
  },
  {
   "cell_type": "code",
   "execution_count": 910,
   "outputs": [
    {
     "data": {
      "text/plain": "              BuildingType          PrimaryPropertyType      Neighborhood  \\\n0     Multifamily LR (1-4)         Low-Rise Multifamily           central   \n1           NonResidential                    Warehouse  greater duwamish   \n2     Multifamily LR (1-4)         Low-Rise Multifamily  greater duwamish   \n3     Multifamily HR (10+)        High-Rise Multifamily  greater duwamish   \n4     Multifamily LR (1-4)         Low-Rise Multifamily  greater duwamish   \n...                    ...                          ...               ...   \n3152        NonResidential           Mixed Use Property        lake union   \n3153  Multifamily LR (1-4)         Low-Rise Multifamily        lake union   \n3154        NonResidential  Small- and Mid-Sized Office        lake union   \n3155        NonResidential                 Retail Store        lake union   \n3156    Nonresidential COS           Mixed Use Property  greater duwamish   \n\n      Log-NumberofFloors  Log-PropertyGFATotal  Log-PropertyGFABuilding(s)  \\\n0                1.38629               9.93982                     9.93982   \n1                1.09861              10.16416                    10.16416   \n2                1.38629              10.13146                    10.13146   \n3                2.77259              11.21045                    11.21045   \n4                1.38629              10.50188                    10.28718   \n...                  ...                   ...                         ...   \n3152             1.38629              10.64132                    10.39213   \n3153             1.60944              10.50947                    10.50947   \n3154             1.79176              10.42647                    10.23031   \n3155             1.09861               9.92901                     9.92901   \n3156             0.69315               9.81241                     9.81241   \n\n      Log-SecondLargestPropertyUseTypeGFA  Log-ThirdLargestPropertyUseTypeGFA  \n0                                 0.00000                             0.00000  \n1                                 9.07635                             8.02650  \n2                                 0.00000                             0.00000  \n3                                 0.00000                             0.00000  \n4                                 8.34308                             0.00000  \n...                                   ...                                 ...  \n3152                              9.55598                             9.17792  \n3153                              0.00000                             0.00000  \n3154                              9.07829                             7.31389  \n3155                              8.98732                             0.00000  \n3156                              8.98732                             7.01121  \n\n[3157 rows x 8 columns]",
      "text/html": "<div>\n<style scoped>\n    .dataframe tbody tr th:only-of-type {\n        vertical-align: middle;\n    }\n\n    .dataframe tbody tr th {\n        vertical-align: top;\n    }\n\n    .dataframe thead th {\n        text-align: right;\n    }\n</style>\n<table border=\"1\" class=\"dataframe\">\n  <thead>\n    <tr style=\"text-align: right;\">\n      <th></th>\n      <th>BuildingType</th>\n      <th>PrimaryPropertyType</th>\n      <th>Neighborhood</th>\n      <th>Log-NumberofFloors</th>\n      <th>Log-PropertyGFATotal</th>\n      <th>Log-PropertyGFABuilding(s)</th>\n      <th>Log-SecondLargestPropertyUseTypeGFA</th>\n      <th>Log-ThirdLargestPropertyUseTypeGFA</th>\n    </tr>\n  </thead>\n  <tbody>\n    <tr>\n      <th>0</th>\n      <td>Multifamily LR (1-4)</td>\n      <td>Low-Rise Multifamily</td>\n      <td>central</td>\n      <td>1.38629</td>\n      <td>9.93982</td>\n      <td>9.93982</td>\n      <td>0.00000</td>\n      <td>0.00000</td>\n    </tr>\n    <tr>\n      <th>1</th>\n      <td>NonResidential</td>\n      <td>Warehouse</td>\n      <td>greater duwamish</td>\n      <td>1.09861</td>\n      <td>10.16416</td>\n      <td>10.16416</td>\n      <td>9.07635</td>\n      <td>8.02650</td>\n    </tr>\n    <tr>\n      <th>2</th>\n      <td>Multifamily LR (1-4)</td>\n      <td>Low-Rise Multifamily</td>\n      <td>greater duwamish</td>\n      <td>1.38629</td>\n      <td>10.13146</td>\n      <td>10.13146</td>\n      <td>0.00000</td>\n      <td>0.00000</td>\n    </tr>\n    <tr>\n      <th>3</th>\n      <td>Multifamily HR (10+)</td>\n      <td>High-Rise Multifamily</td>\n      <td>greater duwamish</td>\n      <td>2.77259</td>\n      <td>11.21045</td>\n      <td>11.21045</td>\n      <td>0.00000</td>\n      <td>0.00000</td>\n    </tr>\n    <tr>\n      <th>4</th>\n      <td>Multifamily LR (1-4)</td>\n      <td>Low-Rise Multifamily</td>\n      <td>greater duwamish</td>\n      <td>1.38629</td>\n      <td>10.50188</td>\n      <td>10.28718</td>\n      <td>8.34308</td>\n      <td>0.00000</td>\n    </tr>\n    <tr>\n      <th>...</th>\n      <td>...</td>\n      <td>...</td>\n      <td>...</td>\n      <td>...</td>\n      <td>...</td>\n      <td>...</td>\n      <td>...</td>\n      <td>...</td>\n    </tr>\n    <tr>\n      <th>3152</th>\n      <td>NonResidential</td>\n      <td>Mixed Use Property</td>\n      <td>lake union</td>\n      <td>1.38629</td>\n      <td>10.64132</td>\n      <td>10.39213</td>\n      <td>9.55598</td>\n      <td>9.17792</td>\n    </tr>\n    <tr>\n      <th>3153</th>\n      <td>Multifamily LR (1-4)</td>\n      <td>Low-Rise Multifamily</td>\n      <td>lake union</td>\n      <td>1.60944</td>\n      <td>10.50947</td>\n      <td>10.50947</td>\n      <td>0.00000</td>\n      <td>0.00000</td>\n    </tr>\n    <tr>\n      <th>3154</th>\n      <td>NonResidential</td>\n      <td>Small- and Mid-Sized Office</td>\n      <td>lake union</td>\n      <td>1.79176</td>\n      <td>10.42647</td>\n      <td>10.23031</td>\n      <td>9.07829</td>\n      <td>7.31389</td>\n    </tr>\n    <tr>\n      <th>3155</th>\n      <td>NonResidential</td>\n      <td>Retail Store</td>\n      <td>lake union</td>\n      <td>1.09861</td>\n      <td>9.92901</td>\n      <td>9.92901</td>\n      <td>8.98732</td>\n      <td>0.00000</td>\n    </tr>\n    <tr>\n      <th>3156</th>\n      <td>Nonresidential COS</td>\n      <td>Mixed Use Property</td>\n      <td>greater duwamish</td>\n      <td>0.69315</td>\n      <td>9.81241</td>\n      <td>9.81241</td>\n      <td>8.98732</td>\n      <td>7.01121</td>\n    </tr>\n  </tbody>\n</table>\n<p>3157 rows × 8 columns</p>\n</div>"
     },
     "execution_count": 910,
     "metadata": {},
     "output_type": "execute_result"
    }
   ],
   "source": [
    "X"
   ],
   "metadata": {
    "collapsed": false,
    "pycharm": {
     "name": "#%%\n"
    }
   }
  },
  {
   "cell_type": "markdown",
   "source": [
    "#### 2) Separation train and test dataset\n"
   ],
   "metadata": {
    "collapsed": false,
    "pycharm": {
     "name": "#%% md\n"
    }
   }
  },
  {
   "cell_type": "code",
   "execution_count": 911,
   "outputs": [
    {
     "name": "stdout",
     "output_type": "stream",
     "text": [
      "We have to separate the train / test sets before normalising the dataset.\n"
     ]
    }
   ],
   "source": [
    "print(\"We have to separate the train / test sets before normalising the dataset.\")"
   ],
   "metadata": {
    "collapsed": false,
    "pycharm": {
     "name": "#%%\n"
    }
   }
  },
  {
   "cell_type": "code",
   "execution_count": 912,
   "outputs": [],
   "source": [
    "# We create a training set and a test set (the test set contains 30% of the dataset)\n",
    "from sklearn import model_selection\n",
    "X_train, X_test, y_train, y_test = model_selection.train_test_split(X, y, test_size=0.3,  random_state=seed)"
   ],
   "metadata": {
    "collapsed": false,
    "pycharm": {
     "name": "#%%\n"
    }
   }
  },
  {
   "cell_type": "code",
   "execution_count": 913,
   "outputs": [
    {
     "data": {
      "text/plain": "(2209, 8)"
     },
     "execution_count": 913,
     "metadata": {},
     "output_type": "execute_result"
    }
   ],
   "source": [
    "X_train.shape"
   ],
   "metadata": {
    "collapsed": false,
    "pycharm": {
     "name": "#%%\n"
    }
   }
  },
  {
   "cell_type": "code",
   "execution_count": 914,
   "outputs": [
    {
     "data": {
      "text/plain": "(948, 8)"
     },
     "execution_count": 914,
     "metadata": {},
     "output_type": "execute_result"
    }
   ],
   "source": [
    "X_test.shape"
   ],
   "metadata": {
    "collapsed": false,
    "pycharm": {
     "name": "#%%\n"
    }
   }
  },
  {
   "cell_type": "markdown",
   "source": [
    "#### 3) Normalization"
   ],
   "metadata": {
    "collapsed": false,
    "pycharm": {
     "name": "#%% md\n"
    }
   }
  },
  {
   "cell_type": "code",
   "execution_count": 915,
   "outputs": [],
   "source": [
    "from sklearn.preprocessing import StandardScaler, OneHotEncoder, MinMaxScaler"
   ],
   "metadata": {
    "collapsed": false,
    "pycharm": {
     "name": "#%%\n"
    }
   }
  },
  {
   "cell_type": "code",
   "execution_count": 916,
   "outputs": [
    {
     "name": "stdout",
     "output_type": "stream",
     "text": [
      "We separate categorical variables from numerical variables.\n"
     ]
    }
   ],
   "source": [
    "print(\"We separate categorical variables from numerical variables.\")"
   ],
   "metadata": {
    "collapsed": false,
    "pycharm": {
     "name": "#%%\n"
    }
   }
  },
  {
   "cell_type": "code",
   "execution_count": 917,
   "outputs": [
    {
     "name": "stdout",
     "output_type": "stream",
     "text": [
      "We won't normalise the year so we drop it from numerical_columns.\n",
      "Shape of categorical variables :  (3,)\n",
      "Shape of numerical variables : (5,)\n"
     ]
    }
   ],
   "source": [
    "X.select_dtypes(['category','object']) # we don't have 'object' here but it is just in case.\n",
    "\n",
    "categorical_columns = X.select_dtypes(['category','object']).columns\n",
    "#numerical_columns = X.select_dtypes(include='number').columns.drop(\"YearBuilt\")\n",
    "numerical_columns = X.select_dtypes(include='number').columns\n",
    "print(\"We won't normalise the year so we drop it from numerical_columns.\")\n",
    "\n",
    "print(\"Shape of categorical variables : \", categorical_columns.shape)\n",
    "print(\"Shape of numerical variables :\", numerical_columns.shape)"
   ],
   "metadata": {
    "collapsed": false,
    "pycharm": {
     "name": "#%%\n"
    }
   }
  },
  {
   "cell_type": "markdown",
   "source": [
    "##### 1) Data Standardisation"
   ],
   "metadata": {
    "collapsed": false,
    "pycharm": {
     "name": "#%% md\n"
    }
   }
  },
  {
   "cell_type": "markdown",
   "source": [
    "We have to standardize the variables before learning a **Ridge Regression**.\n",
    "Standardizing means that each variable will have a **standard deviation** equal to 1."
   ],
   "metadata": {
    "collapsed": false,
    "pycharm": {
     "name": "#%% md\n"
    }
   }
  },
  {
   "cell_type": "code",
   "execution_count": 918,
   "outputs": [
    {
     "name": "stdout",
     "output_type": "stream",
     "text": [
      "Numerical variables standardization\n",
      "We have : 5 numerical features to standardize.\n",
      "\n",
      "Index(['Log-NumberofFloors', 'Log-PropertyGFATotal',\n",
      "       'Log-PropertyGFABuilding(s)', 'Log-SecondLargestPropertyUseTypeGFA',\n",
      "       'Log-ThirdLargestPropertyUseTypeGFA'],\n",
      "      dtype='object')\n"
     ]
    }
   ],
   "source": [
    "print(\"Numerical variables standardization\")\n",
    "print(\"We have :\", numerical_columns.shape[0], \"numerical features to standardize.\",end=\"\\n\\n\")\n",
    "\n",
    "print(numerical_columns)"
   ],
   "metadata": {
    "collapsed": false,
    "pycharm": {
     "name": "#%%\n"
    }
   }
  },
  {
   "cell_type": "raw",
   "source": [
    "print(\"Dates standardisation : not\")\n",
    "\n",
    "from datetime import datetime\n",
    "\n",
    "def convert_to_timestamp(date):\n",
    "    \"\"\"\n",
    "    Convert date objects to integers\n",
    "    :param date:\n",
    "    :return:\n",
    "    \"\"\"\n",
    "    try:\n",
    "        timestamp = datetime.timestamp(date)\n",
    "        print(\"timestamp =\", timestamp, type(timestamp))\n",
    "        print(\"OK :\", date, type(date))\n",
    "\n",
    "        return timestamp\n",
    "    except Exception as e:\n",
    "        print(\"Error :\", date, type(date))\n",
    "        print(e)\n",
    "\n",
    "def normalize_min_max(data_frame, columns_to_scale):\n",
    "    \"\"\"\n",
    "    Normalizes the dataframe for the wanted column(s) using min/max\n",
    "    :param data_frame:\n",
    "    :param columns_to_scale: (list)\n",
    "    :return:\n",
    "    \"\"\"\n",
    "    min_max_scaler = MinMaxScaler()\n",
    "    df = data_frame.copy() # we will return a copy of our dataframe\n",
    "    df[columns_to_scale] = min_max_scaler.fit_transform(df[columns_to_scale])\n",
    "    return df\n"
   ],
   "metadata": {
    "collapsed": false,
    "pycharm": {
     "name": "#%% raw\n"
    }
   }
  },
  {
   "cell_type": "code",
   "execution_count": 919,
   "outputs": [
    {
     "name": "stdout",
     "output_type": "stream",
     "text": [
      "Before\n"
     ]
    },
    {
     "data": {
      "text/plain": "              BuildingType   PrimaryPropertyType           Neighborhood  \\\n2334        NonResidential    Mixed Use Property             lake union   \n7     Multifamily LR (1-4)  Low-Rise Multifamily              northeast   \n3148        NonResidential                 Other                   east   \n128         NonResidential             Warehouse       greater duwamish   \n1094        NonResidential            Laboratory             lake union   \n...                    ...                   ...                    ...   \n2121        NonResidential                 Hotel               downtown   \n296   Multifamily MR (5-9)  Mid-Rise Multifamily               downtown   \n682   Multifamily MR (5-9)  Mid-Rise Multifamily                central   \n470   Multifamily MR (5-9)  Mid-Rise Multifamily               downtown   \n1659        NonResidential                 Other  magnolia / queen anne   \n\n      Log-NumberofFloors  Log-PropertyGFATotal  Log-PropertyGFABuilding(s)  \\\n2334             1.38629              11.11812                    11.11812   \n7                1.38629              11.70108                    11.70108   \n3148             1.38629              10.34084                    10.34084   \n128              0.69315              10.28858                    10.28858   \n1094             2.19722              12.73550                    12.32644   \n...                  ...                   ...                         ...   \n2121             1.79176              12.15993                    12.15993   \n296              2.07944              11.38106                    11.38106   \n682              1.94591              11.04355                    11.04355   \n470              2.19722              11.84440                    11.84440   \n1659             1.79176              11.86160                    11.86160   \n\n      Log-SecondLargestPropertyUseTypeGFA  Log-ThirdLargestPropertyUseTypeGFA  \n2334                              9.76267                             9.52076  \n7                                 9.64530                             0.00000  \n3148                              0.00000                             0.00000  \n128                               9.73525                             0.00000  \n1094                             11.84397                             5.68698  \n...                                   ...                                 ...  \n2121                              9.85493                             0.00000  \n296                               9.34923                             0.00000  \n682                               0.00000                             0.00000  \n470                               7.27863                             6.97261  \n1659                              8.66630                             0.00000  \n\n[2209 rows x 8 columns]",
      "text/html": "<div>\n<style scoped>\n    .dataframe tbody tr th:only-of-type {\n        vertical-align: middle;\n    }\n\n    .dataframe tbody tr th {\n        vertical-align: top;\n    }\n\n    .dataframe thead th {\n        text-align: right;\n    }\n</style>\n<table border=\"1\" class=\"dataframe\">\n  <thead>\n    <tr style=\"text-align: right;\">\n      <th></th>\n      <th>BuildingType</th>\n      <th>PrimaryPropertyType</th>\n      <th>Neighborhood</th>\n      <th>Log-NumberofFloors</th>\n      <th>Log-PropertyGFATotal</th>\n      <th>Log-PropertyGFABuilding(s)</th>\n      <th>Log-SecondLargestPropertyUseTypeGFA</th>\n      <th>Log-ThirdLargestPropertyUseTypeGFA</th>\n    </tr>\n  </thead>\n  <tbody>\n    <tr>\n      <th>2334</th>\n      <td>NonResidential</td>\n      <td>Mixed Use Property</td>\n      <td>lake union</td>\n      <td>1.38629</td>\n      <td>11.11812</td>\n      <td>11.11812</td>\n      <td>9.76267</td>\n      <td>9.52076</td>\n    </tr>\n    <tr>\n      <th>7</th>\n      <td>Multifamily LR (1-4)</td>\n      <td>Low-Rise Multifamily</td>\n      <td>northeast</td>\n      <td>1.38629</td>\n      <td>11.70108</td>\n      <td>11.70108</td>\n      <td>9.64530</td>\n      <td>0.00000</td>\n    </tr>\n    <tr>\n      <th>3148</th>\n      <td>NonResidential</td>\n      <td>Other</td>\n      <td>east</td>\n      <td>1.38629</td>\n      <td>10.34084</td>\n      <td>10.34084</td>\n      <td>0.00000</td>\n      <td>0.00000</td>\n    </tr>\n    <tr>\n      <th>128</th>\n      <td>NonResidential</td>\n      <td>Warehouse</td>\n      <td>greater duwamish</td>\n      <td>0.69315</td>\n      <td>10.28858</td>\n      <td>10.28858</td>\n      <td>9.73525</td>\n      <td>0.00000</td>\n    </tr>\n    <tr>\n      <th>1094</th>\n      <td>NonResidential</td>\n      <td>Laboratory</td>\n      <td>lake union</td>\n      <td>2.19722</td>\n      <td>12.73550</td>\n      <td>12.32644</td>\n      <td>11.84397</td>\n      <td>5.68698</td>\n    </tr>\n    <tr>\n      <th>...</th>\n      <td>...</td>\n      <td>...</td>\n      <td>...</td>\n      <td>...</td>\n      <td>...</td>\n      <td>...</td>\n      <td>...</td>\n      <td>...</td>\n    </tr>\n    <tr>\n      <th>2121</th>\n      <td>NonResidential</td>\n      <td>Hotel</td>\n      <td>downtown</td>\n      <td>1.79176</td>\n      <td>12.15993</td>\n      <td>12.15993</td>\n      <td>9.85493</td>\n      <td>0.00000</td>\n    </tr>\n    <tr>\n      <th>296</th>\n      <td>Multifamily MR (5-9)</td>\n      <td>Mid-Rise Multifamily</td>\n      <td>downtown</td>\n      <td>2.07944</td>\n      <td>11.38106</td>\n      <td>11.38106</td>\n      <td>9.34923</td>\n      <td>0.00000</td>\n    </tr>\n    <tr>\n      <th>682</th>\n      <td>Multifamily MR (5-9)</td>\n      <td>Mid-Rise Multifamily</td>\n      <td>central</td>\n      <td>1.94591</td>\n      <td>11.04355</td>\n      <td>11.04355</td>\n      <td>0.00000</td>\n      <td>0.00000</td>\n    </tr>\n    <tr>\n      <th>470</th>\n      <td>Multifamily MR (5-9)</td>\n      <td>Mid-Rise Multifamily</td>\n      <td>downtown</td>\n      <td>2.19722</td>\n      <td>11.84440</td>\n      <td>11.84440</td>\n      <td>7.27863</td>\n      <td>6.97261</td>\n    </tr>\n    <tr>\n      <th>1659</th>\n      <td>NonResidential</td>\n      <td>Other</td>\n      <td>magnolia / queen anne</td>\n      <td>1.79176</td>\n      <td>11.86160</td>\n      <td>11.86160</td>\n      <td>8.66630</td>\n      <td>0.00000</td>\n    </tr>\n  </tbody>\n</table>\n<p>2209 rows × 8 columns</p>\n</div>"
     },
     "metadata": {},
     "output_type": "display_data"
    },
    {
     "name": "stdout",
     "output_type": "stream",
     "text": [
      "After\n"
     ]
    },
    {
     "data": {
      "text/plain": "              BuildingType   PrimaryPropertyType           Neighborhood  \\\n2334        NonResidential    Mixed Use Property             lake union   \n7     Multifamily LR (1-4)  Low-Rise Multifamily              northeast   \n3148        NonResidential                 Other                   east   \n128         NonResidential             Warehouse       greater duwamish   \n1094        NonResidential            Laboratory             lake union   \n...                    ...                   ...                    ...   \n2121        NonResidential                 Hotel               downtown   \n296   Multifamily MR (5-9)  Mid-Rise Multifamily               downtown   \n682   Multifamily MR (5-9)  Mid-Rise Multifamily                central   \n470   Multifamily MR (5-9)  Mid-Rise Multifamily               downtown   \n1659        NonResidential                 Other  magnolia / queen anne   \n\n      Log-NumberofFloors  Log-PropertyGFATotal  Log-PropertyGFABuilding(s)  \\\n2334            -0.28933               0.23341                     0.30690   \n7               -0.28933               0.91271                     1.01447   \n3148            -0.28933              -0.67232                    -0.63653   \n128             -1.51631              -0.73321                    -0.69996   \n1094             1.14613               2.11808                     1.77351   \n...                  ...                   ...                         ...   \n2121             0.42840               1.44739                     1.57140   \n296              0.93764               0.53981                     0.62604   \n682              0.70127               0.14652                     0.21638   \n470              1.14613               1.07972                     1.18843   \n1659             0.42840               1.09976                     1.20930   \n\n      Log-SecondLargestPropertyUseTypeGFA  Log-ThirdLargestPropertyUseTypeGFA  \n2334                              1.08771                             2.43577  \n7                                 1.06335                            -0.44866  \n3148                             -0.93852                            -0.44866  \n128                               1.08201                            -0.44866  \n1094                              1.51968                             1.27428  \n...                                   ...                                 ...  \n2121                              1.10685                            -0.44866  \n296                               1.00190                            -0.44866  \n682                              -0.93852                            -0.44866  \n470                               0.57215                             1.66377  \n1659                              0.86016                            -0.44866  \n\n[2209 rows x 8 columns]",
      "text/html": "<div>\n<style scoped>\n    .dataframe tbody tr th:only-of-type {\n        vertical-align: middle;\n    }\n\n    .dataframe tbody tr th {\n        vertical-align: top;\n    }\n\n    .dataframe thead th {\n        text-align: right;\n    }\n</style>\n<table border=\"1\" class=\"dataframe\">\n  <thead>\n    <tr style=\"text-align: right;\">\n      <th></th>\n      <th>BuildingType</th>\n      <th>PrimaryPropertyType</th>\n      <th>Neighborhood</th>\n      <th>Log-NumberofFloors</th>\n      <th>Log-PropertyGFATotal</th>\n      <th>Log-PropertyGFABuilding(s)</th>\n      <th>Log-SecondLargestPropertyUseTypeGFA</th>\n      <th>Log-ThirdLargestPropertyUseTypeGFA</th>\n    </tr>\n  </thead>\n  <tbody>\n    <tr>\n      <th>2334</th>\n      <td>NonResidential</td>\n      <td>Mixed Use Property</td>\n      <td>lake union</td>\n      <td>-0.28933</td>\n      <td>0.23341</td>\n      <td>0.30690</td>\n      <td>1.08771</td>\n      <td>2.43577</td>\n    </tr>\n    <tr>\n      <th>7</th>\n      <td>Multifamily LR (1-4)</td>\n      <td>Low-Rise Multifamily</td>\n      <td>northeast</td>\n      <td>-0.28933</td>\n      <td>0.91271</td>\n      <td>1.01447</td>\n      <td>1.06335</td>\n      <td>-0.44866</td>\n    </tr>\n    <tr>\n      <th>3148</th>\n      <td>NonResidential</td>\n      <td>Other</td>\n      <td>east</td>\n      <td>-0.28933</td>\n      <td>-0.67232</td>\n      <td>-0.63653</td>\n      <td>-0.93852</td>\n      <td>-0.44866</td>\n    </tr>\n    <tr>\n      <th>128</th>\n      <td>NonResidential</td>\n      <td>Warehouse</td>\n      <td>greater duwamish</td>\n      <td>-1.51631</td>\n      <td>-0.73321</td>\n      <td>-0.69996</td>\n      <td>1.08201</td>\n      <td>-0.44866</td>\n    </tr>\n    <tr>\n      <th>1094</th>\n      <td>NonResidential</td>\n      <td>Laboratory</td>\n      <td>lake union</td>\n      <td>1.14613</td>\n      <td>2.11808</td>\n      <td>1.77351</td>\n      <td>1.51968</td>\n      <td>1.27428</td>\n    </tr>\n    <tr>\n      <th>...</th>\n      <td>...</td>\n      <td>...</td>\n      <td>...</td>\n      <td>...</td>\n      <td>...</td>\n      <td>...</td>\n      <td>...</td>\n      <td>...</td>\n    </tr>\n    <tr>\n      <th>2121</th>\n      <td>NonResidential</td>\n      <td>Hotel</td>\n      <td>downtown</td>\n      <td>0.42840</td>\n      <td>1.44739</td>\n      <td>1.57140</td>\n      <td>1.10685</td>\n      <td>-0.44866</td>\n    </tr>\n    <tr>\n      <th>296</th>\n      <td>Multifamily MR (5-9)</td>\n      <td>Mid-Rise Multifamily</td>\n      <td>downtown</td>\n      <td>0.93764</td>\n      <td>0.53981</td>\n      <td>0.62604</td>\n      <td>1.00190</td>\n      <td>-0.44866</td>\n    </tr>\n    <tr>\n      <th>682</th>\n      <td>Multifamily MR (5-9)</td>\n      <td>Mid-Rise Multifamily</td>\n      <td>central</td>\n      <td>0.70127</td>\n      <td>0.14652</td>\n      <td>0.21638</td>\n      <td>-0.93852</td>\n      <td>-0.44866</td>\n    </tr>\n    <tr>\n      <th>470</th>\n      <td>Multifamily MR (5-9)</td>\n      <td>Mid-Rise Multifamily</td>\n      <td>downtown</td>\n      <td>1.14613</td>\n      <td>1.07972</td>\n      <td>1.18843</td>\n      <td>0.57215</td>\n      <td>1.66377</td>\n    </tr>\n    <tr>\n      <th>1659</th>\n      <td>NonResidential</td>\n      <td>Other</td>\n      <td>magnolia / queen anne</td>\n      <td>0.42840</td>\n      <td>1.09976</td>\n      <td>1.20930</td>\n      <td>0.86016</td>\n      <td>-0.44866</td>\n    </tr>\n  </tbody>\n</table>\n<p>2209 rows × 8 columns</p>\n</div>"
     },
     "metadata": {},
     "output_type": "display_data"
    }
   ],
   "source": [
    "# We train / fit the scaler on the training set / Computes the mean and std to be used for later scaling.\n",
    "std_scale = StandardScaler().fit(X_train[numerical_columns])\n",
    "# We transform the training set and the testing set / Performs standardization by centering and scaling.\n",
    "X_train_std = X_train.copy()\n",
    "X_test_std = X_test.copy()\n",
    "\n",
    "X_train_std[numerical_columns] = std_scale.transform(X_train[numerical_columns])\n",
    "X_test_std[numerical_columns] = std_scale.transform(X_test[numerical_columns])\n",
    "\n",
    "print(\"Before\")\n",
    "display(X_train)\n",
    "print(\"After\")\n",
    "display(X_train_std)"
   ],
   "metadata": {
    "collapsed": false,
    "pycharm": {
     "name": "#%%\n"
    }
   }
  },
  {
   "cell_type": "code",
   "execution_count": 920,
   "outputs": [
    {
     "name": "stdout",
     "output_type": "stream",
     "text": [
      "We can check that the numerical variables have a Standard Normal distribution.\n"
     ]
    },
    {
     "name": "stderr",
     "output_type": "stream",
     "text": [
      "C:\\Users\\athen\\Anaconda3\\envs\\P4_OC\\lib\\site-packages\\seaborn\\distributions.py:2619: FutureWarning: `distplot` is a deprecated function and will be removed in a future version. Please adapt your code to use either `displot` (a figure-level function with similar flexibility) or `kdeplot` (an axes-level function for kernel density plots).\n",
      "  warnings.warn(msg, FutureWarning)\n",
      "C:\\Users\\athen\\Anaconda3\\envs\\P4_OC\\lib\\site-packages\\seaborn\\distributions.py:2619: FutureWarning: `distplot` is a deprecated function and will be removed in a future version. Please adapt your code to use either `displot` (a figure-level function with similar flexibility) or `kdeplot` (an axes-level function for kernel density plots).\n",
      "  warnings.warn(msg, FutureWarning)\n",
      "C:\\Users\\athen\\Anaconda3\\envs\\P4_OC\\lib\\site-packages\\seaborn\\distributions.py:2619: FutureWarning: `distplot` is a deprecated function and will be removed in a future version. Please adapt your code to use either `displot` (a figure-level function with similar flexibility) or `kdeplot` (an axes-level function for kernel density plots).\n",
      "  warnings.warn(msg, FutureWarning)\n",
      "C:\\Users\\athen\\Anaconda3\\envs\\P4_OC\\lib\\site-packages\\seaborn\\distributions.py:2619: FutureWarning: `distplot` is a deprecated function and will be removed in a future version. Please adapt your code to use either `displot` (a figure-level function with similar flexibility) or `kdeplot` (an axes-level function for kernel density plots).\n",
      "  warnings.warn(msg, FutureWarning)\n",
      "C:\\Users\\athen\\Anaconda3\\envs\\P4_OC\\lib\\site-packages\\seaborn\\distributions.py:2619: FutureWarning: `distplot` is a deprecated function and will be removed in a future version. Please adapt your code to use either `displot` (a figure-level function with similar flexibility) or `kdeplot` (an axes-level function for kernel density plots).\n",
      "  warnings.warn(msg, FutureWarning)\n"
     ]
    },
    {
     "data": {
      "text/plain": "<Figure size 864x1008 with 28 Axes>",
      "image/png": "[encoded data removed]"
     },
     "metadata": {
      "needs_background": "light"
     },
     "output_type": "display_data"
    }
   ],
   "source": [
    "print(\"We can check that the numerical variables have a Standard Normal distribution.\")\n",
    "densite(X_train[numerical_columns])"
   ],
   "metadata": {
    "collapsed": false,
    "pycharm": {
     "name": "#%%\n"
    }
   }
  },
  {
   "cell_type": "markdown",
   "source": [
    "##### 2) Feature Encoding : One Hot Encoder"
   ],
   "metadata": {
    "collapsed": false,
    "pycharm": {
     "name": "#%% md\n"
    }
   }
  },
  {
   "cell_type": "code",
   "execution_count": 921,
   "outputs": [
    {
     "name": "stdout",
     "output_type": "stream",
     "text": [
      "Categorical variables featuring\n",
      "We have : 3 categorical features to encode.\n",
      "\n",
      "Index(['BuildingType', 'PrimaryPropertyType', 'Neighborhood'], dtype='object')\n"
     ]
    }
   ],
   "source": [
    "print(\"Categorical variables featuring\")\n",
    "\n",
    "print(\"We have :\", categorical_columns.shape[0], \"categorical features to encode.\", end=\"\\n\\n\")\n",
    "print(categorical_columns)"
   ],
   "metadata": {
    "collapsed": false,
    "pycharm": {
     "name": "#%%\n"
    }
   }
  },
  {
   "cell_type": "code",
   "execution_count": 922,
   "outputs": [
    {
     "data": {
      "text/plain": "BuildingType                           category\nPrimaryPropertyType                    category\nNeighborhood                           category\nLog-NumberofFloors                      float64\nLog-PropertyGFATotal                    float64\nLog-PropertyGFABuilding(s)              float64\nLog-SecondLargestPropertyUseTypeGFA     float64\nLog-ThirdLargestPropertyUseTypeGFA      float64\ndtype: object"
     },
     "execution_count": 922,
     "metadata": {},
     "output_type": "execute_result"
    }
   ],
   "source": [
    "X.dtypes # we check that we have categories"
   ],
   "metadata": {
    "collapsed": false,
    "pycharm": {
     "name": "#%%\n"
    }
   }
  },
  {
   "cell_type": "code",
   "execution_count": 923,
   "outputs": [
    {
     "data": {
      "text/plain": "BuildingType            8\nPrimaryPropertyType    23\nNeighborhood           13\ndtype: int64"
     },
     "execution_count": 923,
     "metadata": {},
     "output_type": "execute_result"
    }
   ],
   "source": [
    "X[categorical_columns].nunique()"
   ],
   "metadata": {
    "collapsed": false,
    "pycharm": {
     "name": "#%%\n"
    }
   }
  },
  {
   "cell_type": "code",
   "execution_count": 924,
   "outputs": [
    {
     "data": {
      "text/plain": "              BuildingType   PrimaryPropertyType           Neighborhood\n2334        NonResidential    Mixed Use Property             lake union\n7     Multifamily LR (1-4)  Low-Rise Multifamily              northeast\n3148        NonResidential                 Other                   east\n128         NonResidential             Warehouse       greater duwamish\n1094        NonResidential            Laboratory             lake union\n...                    ...                   ...                    ...\n2121        NonResidential                 Hotel               downtown\n296   Multifamily MR (5-9)  Mid-Rise Multifamily               downtown\n682   Multifamily MR (5-9)  Mid-Rise Multifamily                central\n470   Multifamily MR (5-9)  Mid-Rise Multifamily               downtown\n1659        NonResidential                 Other  magnolia / queen anne\n\n[2209 rows x 3 columns]",
      "text/html": "<div>\n<style scoped>\n    .dataframe tbody tr th:only-of-type {\n        vertical-align: middle;\n    }\n\n    .dataframe tbody tr th {\n        vertical-align: top;\n    }\n\n    .dataframe thead th {\n        text-align: right;\n    }\n</style>\n<table border=\"1\" class=\"dataframe\">\n  <thead>\n    <tr style=\"text-align: right;\">\n      <th></th>\n      <th>BuildingType</th>\n      <th>PrimaryPropertyType</th>\n      <th>Neighborhood</th>\n    </tr>\n  </thead>\n  <tbody>\n    <tr>\n      <th>2334</th>\n      <td>NonResidential</td>\n      <td>Mixed Use Property</td>\n      <td>lake union</td>\n    </tr>\n    <tr>\n      <th>7</th>\n      <td>Multifamily LR (1-4)</td>\n      <td>Low-Rise Multifamily</td>\n      <td>northeast</td>\n    </tr>\n    <tr>\n      <th>3148</th>\n      <td>NonResidential</td>\n      <td>Other</td>\n      <td>east</td>\n    </tr>\n    <tr>\n      <th>128</th>\n      <td>NonResidential</td>\n      <td>Warehouse</td>\n      <td>greater duwamish</td>\n    </tr>\n    <tr>\n      <th>1094</th>\n      <td>NonResidential</td>\n      <td>Laboratory</td>\n      <td>lake union</td>\n    </tr>\n    <tr>\n      <th>...</th>\n      <td>...</td>\n      <td>...</td>\n      <td>...</td>\n    </tr>\n    <tr>\n      <th>2121</th>\n      <td>NonResidential</td>\n      <td>Hotel</td>\n      <td>downtown</td>\n    </tr>\n    <tr>\n      <th>296</th>\n      <td>Multifamily MR (5-9)</td>\n      <td>Mid-Rise Multifamily</td>\n      <td>downtown</td>\n    </tr>\n    <tr>\n      <th>682</th>\n      <td>Multifamily MR (5-9)</td>\n      <td>Mid-Rise Multifamily</td>\n      <td>central</td>\n    </tr>\n    <tr>\n      <th>470</th>\n      <td>Multifamily MR (5-9)</td>\n      <td>Mid-Rise Multifamily</td>\n      <td>downtown</td>\n    </tr>\n    <tr>\n      <th>1659</th>\n      <td>NonResidential</td>\n      <td>Other</td>\n      <td>magnolia / queen anne</td>\n    </tr>\n  </tbody>\n</table>\n<p>2209 rows × 3 columns</p>\n</div>"
     },
     "execution_count": 924,
     "metadata": {},
     "output_type": "execute_result"
    }
   ],
   "source": [
    "X_train_std[categorical_columns]"
   ],
   "metadata": {
    "collapsed": false,
    "pycharm": {
     "name": "#%%\n"
    }
   }
  },
  {
   "cell_type": "markdown",
   "source": [
    "##### Encoding the categorical features of the train set\n"
   ],
   "metadata": {
    "collapsed": false,
    "pycharm": {
     "name": "#%% md\n"
    }
   }
  },
  {
   "cell_type": "code",
   "execution_count": 925,
   "outputs": [
    {
     "name": "stdout",
     "output_type": "stream",
     "text": [
      "Now, we can use the One Hot Encoder.\n",
      "With the one hot encoder, we will get : 44 columns to encodes the categorical features.\n"
     ]
    }
   ],
   "source": [
    "print(\"Now, we can use the One Hot Encoder.\")\n",
    "print(\"With the one hot encoder, we will get :\", sum([X[categorical_columns].nunique()[i] for i in range(len(categorical_columns))]), \"columns to encodes the categorical features.\")"
   ],
   "metadata": {
    "collapsed": false,
    "pycharm": {
     "name": "#%%\n"
    }
   }
  },
  {
   "cell_type": "code",
   "execution_count": 926,
   "outputs": [
    {
     "name": "stdout",
     "output_type": "stream",
     "text": [
      "We have indeed : 44 labels after encoding the categorical variables.\n"
     ]
    },
    {
     "data": {
      "text/plain": "      BuildingType_Campus  BuildingType_Multifamily HR (10+)  \\\n0                 0.00000                            0.00000   \n1                 0.00000                            0.00000   \n2                 0.00000                            0.00000   \n3                 0.00000                            1.00000   \n4                 0.00000                            0.00000   \n...                   ...                                ...   \n3152              0.00000                            0.00000   \n3153              0.00000                            0.00000   \n3154              0.00000                            0.00000   \n3155              0.00000                            0.00000   \n3156              0.00000                            0.00000   \n\n      BuildingType_Multifamily LR (1-4)  BuildingType_Multifamily MR (5-9)  \\\n0                               1.00000                            0.00000   \n1                               0.00000                            0.00000   \n2                               1.00000                            0.00000   \n3                               0.00000                            0.00000   \n4                               1.00000                            0.00000   \n...                                 ...                                ...   \n3152                            0.00000                            0.00000   \n3153                            1.00000                            0.00000   \n3154                            0.00000                            0.00000   \n3155                            0.00000                            0.00000   \n3156                            0.00000                            0.00000   \n\n      BuildingType_NonResidential  BuildingType_Nonresidential COS  \\\n0                         0.00000                          0.00000   \n1                         1.00000                          0.00000   \n2                         0.00000                          0.00000   \n3                         0.00000                          0.00000   \n4                         0.00000                          0.00000   \n...                           ...                              ...   \n3152                      1.00000                          0.00000   \n3153                      0.00000                          0.00000   \n3154                      1.00000                          0.00000   \n3155                      1.00000                          0.00000   \n3156                      0.00000                          1.00000   \n\n      BuildingType_Nonresidential WA  BuildingType_SPS-District K-12  \\\n0                            0.00000                         0.00000   \n1                            0.00000                         0.00000   \n2                            0.00000                         0.00000   \n3                            0.00000                         0.00000   \n4                            0.00000                         0.00000   \n...                              ...                             ...   \n3152                         0.00000                         0.00000   \n3153                         0.00000                         0.00000   \n3154                         0.00000                         0.00000   \n3155                         0.00000                         0.00000   \n3156                         0.00000                         0.00000   \n\n      PrimaryPropertyType_Distribution Center  \\\n0                                     0.00000   \n1                                     0.00000   \n2                                     0.00000   \n3                                     0.00000   \n4                                     0.00000   \n...                                       ...   \n3152                                  0.00000   \n3153                                  0.00000   \n3154                                  0.00000   \n3155                                  0.00000   \n3156                                  0.00000   \n\n      PrimaryPropertyType_High-Rise Multifamily  ...  Neighborhood_downtown  \\\n0                                       0.00000  ...                0.00000   \n1                                       0.00000  ...                0.00000   \n2                                       0.00000  ...                0.00000   \n3                                       1.00000  ...                0.00000   \n4                                       0.00000  ...                0.00000   \n...                                         ...  ...                    ...   \n3152                                    0.00000  ...                0.00000   \n3153                                    0.00000  ...                0.00000   \n3154                                    0.00000  ...                0.00000   \n3155                                    0.00000  ...                0.00000   \n3156                                    0.00000  ...                0.00000   \n\n      Neighborhood_east  Neighborhood_greater duwamish  \\\n0               0.00000                        0.00000   \n1               0.00000                        1.00000   \n2               0.00000                        1.00000   \n3               0.00000                        1.00000   \n4               0.00000                        1.00000   \n...                 ...                            ...   \n3152            0.00000                        0.00000   \n3153            0.00000                        0.00000   \n3154            0.00000                        0.00000   \n3155            0.00000                        0.00000   \n3156            0.00000                        1.00000   \n\n      Neighborhood_lake union  Neighborhood_magnolia / queen anne  \\\n0                     0.00000                             0.00000   \n1                     0.00000                             0.00000   \n2                     0.00000                             0.00000   \n3                     0.00000                             0.00000   \n4                     0.00000                             0.00000   \n...                       ...                                 ...   \n3152                  1.00000                             0.00000   \n3153                  1.00000                             0.00000   \n3154                  1.00000                             0.00000   \n3155                  1.00000                             0.00000   \n3156                  0.00000                             0.00000   \n\n      Neighborhood_north  Neighborhood_northeast  Neighborhood_northwest  \\\n0                0.00000                 0.00000                 0.00000   \n1                0.00000                 0.00000                 0.00000   \n2                0.00000                 0.00000                 0.00000   \n3                0.00000                 0.00000                 0.00000   \n4                0.00000                 0.00000                 0.00000   \n...                  ...                     ...                     ...   \n3152             0.00000                 0.00000                 0.00000   \n3153             0.00000                 0.00000                 0.00000   \n3154             0.00000                 0.00000                 0.00000   \n3155             0.00000                 0.00000                 0.00000   \n3156             0.00000                 0.00000                 0.00000   \n\n      Neighborhood_southeast  Neighborhood_southwest  \n0                    0.00000                 0.00000  \n1                    0.00000                 0.00000  \n2                    0.00000                 0.00000  \n3                    0.00000                 0.00000  \n4                    0.00000                 0.00000  \n...                      ...                     ...  \n3152                 0.00000                 0.00000  \n3153                 0.00000                 0.00000  \n3154                 0.00000                 0.00000  \n3155                 0.00000                 0.00000  \n3156                 0.00000                 0.00000  \n\n[2209 rows x 44 columns]",
      "text/html": "<div>\n<style scoped>\n    .dataframe tbody tr th:only-of-type {\n        vertical-align: middle;\n    }\n\n    .dataframe tbody tr th {\n        vertical-align: top;\n    }\n\n    .dataframe thead th {\n        text-align: right;\n    }\n</style>\n<table border=\"1\" class=\"dataframe\">\n  <thead>\n    <tr style=\"text-align: right;\">\n      <th></th>\n      <th>BuildingType_Campus</th>\n      <th>BuildingType_Multifamily HR (10+)</th>\n      <th>BuildingType_Multifamily LR (1-4)</th>\n      <th>BuildingType_Multifamily MR (5-9)</th>\n      <th>BuildingType_NonResidential</th>\n      <th>BuildingType_Nonresidential COS</th>\n      <th>BuildingType_Nonresidential WA</th>\n      <th>BuildingType_SPS-District K-12</th>\n      <th>PrimaryPropertyType_Distribution Center</th>\n      <th>PrimaryPropertyType_High-Rise Multifamily</th>\n      <th>...</th>\n      <th>Neighborhood_downtown</th>\n      <th>Neighborhood_east</th>\n      <th>Neighborhood_greater duwamish</th>\n      <th>Neighborhood_lake union</th>\n      <th>Neighborhood_magnolia / queen anne</th>\n      <th>Neighborhood_north</th>\n      <th>Neighborhood_northeast</th>\n      <th>Neighborhood_northwest</th>\n      <th>Neighborhood_southeast</th>\n      <th>Neighborhood_southwest</th>\n    </tr>\n  </thead>\n  <tbody>\n    <tr>\n      <th>0</th>\n      <td>0.00000</td>\n      <td>0.00000</td>\n      <td>1.00000</td>\n      <td>0.00000</td>\n      <td>0.00000</td>\n      <td>0.00000</td>\n      <td>0.00000</td>\n      <td>0.00000</td>\n      <td>0.00000</td>\n      <td>0.00000</td>\n      <td>...</td>\n      <td>0.00000</td>\n      <td>0.00000</td>\n      <td>0.00000</td>\n      <td>0.00000</td>\n      <td>0.00000</td>\n      <td>0.00000</td>\n      <td>0.00000</td>\n      <td>0.00000</td>\n      <td>0.00000</td>\n      <td>0.00000</td>\n    </tr>\n    <tr>\n      <th>1</th>\n      <td>0.00000</td>\n      <td>0.00000</td>\n      <td>0.00000</td>\n      <td>0.00000</td>\n      <td>1.00000</td>\n      <td>0.00000</td>\n      <td>0.00000</td>\n      <td>0.00000</td>\n      <td>0.00000</td>\n      <td>0.00000</td>\n      <td>...</td>\n      <td>0.00000</td>\n      <td>0.00000</td>\n      <td>1.00000</td>\n      <td>0.00000</td>\n      <td>0.00000</td>\n      <td>0.00000</td>\n      <td>0.00000</td>\n      <td>0.00000</td>\n      <td>0.00000</td>\n      <td>0.00000</td>\n    </tr>\n    <tr>\n      <th>2</th>\n      <td>0.00000</td>\n      <td>0.00000</td>\n      <td>1.00000</td>\n      <td>0.00000</td>\n      <td>0.00000</td>\n      <td>0.00000</td>\n      <td>0.00000</td>\n      <td>0.00000</td>\n      <td>0.00000</td>\n      <td>0.00000</td>\n      <td>...</td>\n      <td>0.00000</td>\n      <td>0.00000</td>\n      <td>1.00000</td>\n      <td>0.00000</td>\n      <td>0.00000</td>\n      <td>0.00000</td>\n      <td>0.00000</td>\n      <td>0.00000</td>\n      <td>0.00000</td>\n      <td>0.00000</td>\n    </tr>\n    <tr>\n      <th>3</th>\n      <td>0.00000</td>\n      <td>1.00000</td>\n      <td>0.00000</td>\n      <td>0.00000</td>\n      <td>0.00000</td>\n      <td>0.00000</td>\n      <td>0.00000</td>\n      <td>0.00000</td>\n      <td>0.00000</td>\n      <td>1.00000</td>\n      <td>...</td>\n      <td>0.00000</td>\n      <td>0.00000</td>\n      <td>1.00000</td>\n      <td>0.00000</td>\n      <td>0.00000</td>\n      <td>0.00000</td>\n      <td>0.00000</td>\n      <td>0.00000</td>\n      <td>0.00000</td>\n      <td>0.00000</td>\n    </tr>\n    <tr>\n      <th>4</th>\n      <td>0.00000</td>\n      <td>0.00000</td>\n      <td>1.00000</td>\n      <td>0.00000</td>\n      <td>0.00000</td>\n      <td>0.00000</td>\n      <td>0.00000</td>\n      <td>0.00000</td>\n      <td>0.00000</td>\n      <td>0.00000</td>\n      <td>...</td>\n      <td>0.00000</td>\n      <td>0.00000</td>\n      <td>1.00000</td>\n      <td>0.00000</td>\n      <td>0.00000</td>\n      <td>0.00000</td>\n      <td>0.00000</td>\n      <td>0.00000</td>\n      <td>0.00000</td>\n      <td>0.00000</td>\n    </tr>\n    <tr>\n      <th>...</th>\n      <td>...</td>\n      <td>...</td>\n      <td>...</td>\n      <td>...</td>\n      <td>...</td>\n      <td>...</td>\n      <td>...</td>\n      <td>...</td>\n      <td>...</td>\n      <td>...</td>\n      <td>...</td>\n      <td>...</td>\n      <td>...</td>\n      <td>...</td>\n      <td>...</td>\n      <td>...</td>\n      <td>...</td>\n      <td>...</td>\n      <td>...</td>\n      <td>...</td>\n      <td>...</td>\n    </tr>\n    <tr>\n      <th>3152</th>\n      <td>0.00000</td>\n      <td>0.00000</td>\n      <td>0.00000</td>\n      <td>0.00000</td>\n      <td>1.00000</td>\n      <td>0.00000</td>\n      <td>0.00000</td>\n      <td>0.00000</td>\n      <td>0.00000</td>\n      <td>0.00000</td>\n      <td>...</td>\n      <td>0.00000</td>\n      <td>0.00000</td>\n      <td>0.00000</td>\n      <td>1.00000</td>\n      <td>0.00000</td>\n      <td>0.00000</td>\n      <td>0.00000</td>\n      <td>0.00000</td>\n      <td>0.00000</td>\n      <td>0.00000</td>\n    </tr>\n    <tr>\n      <th>3153</th>\n      <td>0.00000</td>\n      <td>0.00000</td>\n      <td>1.00000</td>\n      <td>0.00000</td>\n      <td>0.00000</td>\n      <td>0.00000</td>\n      <td>0.00000</td>\n      <td>0.00000</td>\n      <td>0.00000</td>\n      <td>0.00000</td>\n      <td>...</td>\n      <td>0.00000</td>\n      <td>0.00000</td>\n      <td>0.00000</td>\n      <td>1.00000</td>\n      <td>0.00000</td>\n      <td>0.00000</td>\n      <td>0.00000</td>\n      <td>0.00000</td>\n      <td>0.00000</td>\n      <td>0.00000</td>\n    </tr>\n    <tr>\n      <th>3154</th>\n      <td>0.00000</td>\n      <td>0.00000</td>\n      <td>0.00000</td>\n      <td>0.00000</td>\n      <td>1.00000</td>\n      <td>0.00000</td>\n      <td>0.00000</td>\n      <td>0.00000</td>\n      <td>0.00000</td>\n      <td>0.00000</td>\n      <td>...</td>\n      <td>0.00000</td>\n      <td>0.00000</td>\n      <td>0.00000</td>\n      <td>1.00000</td>\n      <td>0.00000</td>\n      <td>0.00000</td>\n      <td>0.00000</td>\n      <td>0.00000</td>\n      <td>0.00000</td>\n      <td>0.00000</td>\n    </tr>\n    <tr>\n      <th>3155</th>\n      <td>0.00000</td>\n      <td>0.00000</td>\n      <td>0.00000</td>\n      <td>0.00000</td>\n      <td>1.00000</td>\n      <td>0.00000</td>\n      <td>0.00000</td>\n      <td>0.00000</td>\n      <td>0.00000</td>\n      <td>0.00000</td>\n      <td>...</td>\n      <td>0.00000</td>\n      <td>0.00000</td>\n      <td>0.00000</td>\n      <td>1.00000</td>\n      <td>0.00000</td>\n      <td>0.00000</td>\n      <td>0.00000</td>\n      <td>0.00000</td>\n      <td>0.00000</td>\n      <td>0.00000</td>\n    </tr>\n    <tr>\n      <th>3156</th>\n      <td>0.00000</td>\n      <td>0.00000</td>\n      <td>0.00000</td>\n      <td>0.00000</td>\n      <td>0.00000</td>\n      <td>1.00000</td>\n      <td>0.00000</td>\n      <td>0.00000</td>\n      <td>0.00000</td>\n      <td>0.00000</td>\n      <td>...</td>\n      <td>0.00000</td>\n      <td>0.00000</td>\n      <td>1.00000</td>\n      <td>0.00000</td>\n      <td>0.00000</td>\n      <td>0.00000</td>\n      <td>0.00000</td>\n      <td>0.00000</td>\n      <td>0.00000</td>\n      <td>0.00000</td>\n    </tr>\n  </tbody>\n</table>\n<p>2209 rows × 44 columns</p>\n</div>"
     },
     "metadata": {},
     "output_type": "display_data"
    }
   ],
   "source": [
    "# 0) creating instance of one-hot-encoder\n",
    "one_hot_encoder = OneHotEncoder(handle_unknown='ignore', sparse=False) # if sparse=True (by default), we need to add .toarray() to encoded_categorical_data\n",
    "\n",
    "# 1) Fit the encoder on the training set\n",
    "one_hot_encoder.fit(X_train_std[categorical_columns])\n",
    "\n",
    "# 2) we get the encoded numpy array\n",
    "encoded_categorical_data = one_hot_encoder.transform(X_train_std[categorical_columns])\n",
    "\n",
    "# 3) we make a list of the columns names\n",
    "encoded_categorical_data_names = one_hot_encoder.get_feature_names_out().tolist()\n",
    "print(\"We have indeed :\", len(encoded_categorical_data_names), \"labels after encoding the categorical variables.\")\n",
    "\n",
    "# 4) we recreate a dataframe with the column names and the numpy array\n",
    "X_train_encoded = pd.DataFrame(columns=encoded_categorical_data_names,\n",
    "                               data=encoded_categorical_data,\n",
    "                               index=X_train_std.index)\n",
    "display(X_train_encoded.sort_index())"
   ],
   "metadata": {
    "collapsed": false,
    "pycharm": {
     "name": "#%%\n"
    }
   }
  },
  {
   "cell_type": "code",
   "execution_count": 927,
   "outputs": [
    {
     "name": "stdout",
     "output_type": "stream",
     "text": [
      "We need to add YearBuilt to the list of features.\n",
      "['Log-NumberofFloors', 'Log-PropertyGFATotal', 'Log-PropertyGFABuilding(s)', 'Log-SecondLargestPropertyUseTypeGFA', 'Log-ThirdLargestPropertyUseTypeGFA']\n",
      "\n",
      "ASK JEREMY : merge based on index ok ? or should I put back OSEBuildingID ??\n"
     ]
    },
    {
     "data": {
      "text/plain": "      Log-NumberofFloors  Log-PropertyGFATotal  Log-PropertyGFABuilding(s)  \\\n0               -0.28933              -1.13961                    -1.12328   \n1               -0.79857              -0.87820                    -0.85098   \n2               -0.28933              -0.91630                    -0.89067   \n3                2.16461               0.34101                     0.41897   \n4               -0.28933              -0.48466                    -0.70166   \n...                  ...                   ...                         ...   \n3152            -0.28933              -0.32218                    -0.57428   \n3153             0.10566              -0.47582                    -0.43186   \n3154             0.42840              -0.57254                    -0.77069   \n3155            -0.79857              -1.15221                    -1.13640   \n3156            -1.51631              -1.28807                    -1.27792   \n\n      Log-SecondLargestPropertyUseTypeGFA  Log-ThirdLargestPropertyUseTypeGFA  \\\n0                                -0.93852                            -0.44866   \n1                                 0.94526                             1.98306   \n2                                -0.93852                            -0.44866   \n3                                -0.93852                            -0.44866   \n4                                 0.79307                            -0.44866   \n...                                   ...                                 ...   \n3152                              1.04481                             2.33190   \n3153                             -0.93852                            -0.44866   \n3154                              0.94566                             1.76717   \n3155                              0.92678                            -0.44866   \n3156                              0.92678                             1.67547   \n\n      BuildingType_Campus  BuildingType_Multifamily HR (10+)  \\\n0                 0.00000                            0.00000   \n1                 0.00000                            0.00000   \n2                 0.00000                            0.00000   \n3                 0.00000                            1.00000   \n4                 0.00000                            0.00000   \n...                   ...                                ...   \n3152              0.00000                            0.00000   \n3153              0.00000                            0.00000   \n3154              0.00000                            0.00000   \n3155              0.00000                            0.00000   \n3156              0.00000                            0.00000   \n\n      BuildingType_Multifamily LR (1-4)  BuildingType_Multifamily MR (5-9)  \\\n0                               1.00000                            0.00000   \n1                               0.00000                            0.00000   \n2                               1.00000                            0.00000   \n3                               0.00000                            0.00000   \n4                               1.00000                            0.00000   \n...                                 ...                                ...   \n3152                            0.00000                            0.00000   \n3153                            1.00000                            0.00000   \n3154                            0.00000                            0.00000   \n3155                            0.00000                            0.00000   \n3156                            0.00000                            0.00000   \n\n      BuildingType_NonResidential  ...  Neighborhood_downtown  \\\n0                         0.00000  ...                0.00000   \n1                         1.00000  ...                0.00000   \n2                         0.00000  ...                0.00000   \n3                         0.00000  ...                0.00000   \n4                         0.00000  ...                0.00000   \n...                           ...  ...                    ...   \n3152                      1.00000  ...                0.00000   \n3153                      0.00000  ...                0.00000   \n3154                      1.00000  ...                0.00000   \n3155                      1.00000  ...                0.00000   \n3156                      0.00000  ...                0.00000   \n\n      Neighborhood_east  Neighborhood_greater duwamish  \\\n0               0.00000                        0.00000   \n1               0.00000                        1.00000   \n2               0.00000                        1.00000   \n3               0.00000                        1.00000   \n4               0.00000                        1.00000   \n...                 ...                            ...   \n3152            0.00000                        0.00000   \n3153            0.00000                        0.00000   \n3154            0.00000                        0.00000   \n3155            0.00000                        0.00000   \n3156            0.00000                        1.00000   \n\n      Neighborhood_lake union  Neighborhood_magnolia / queen anne  \\\n0                     0.00000                             0.00000   \n1                     0.00000                             0.00000   \n2                     0.00000                             0.00000   \n3                     0.00000                             0.00000   \n4                     0.00000                             0.00000   \n...                       ...                                 ...   \n3152                  1.00000                             0.00000   \n3153                  1.00000                             0.00000   \n3154                  1.00000                             0.00000   \n3155                  1.00000                             0.00000   \n3156                  0.00000                             0.00000   \n\n      Neighborhood_north  Neighborhood_northeast  Neighborhood_northwest  \\\n0                0.00000                 0.00000                 0.00000   \n1                0.00000                 0.00000                 0.00000   \n2                0.00000                 0.00000                 0.00000   \n3                0.00000                 0.00000                 0.00000   \n4                0.00000                 0.00000                 0.00000   \n...                  ...                     ...                     ...   \n3152             0.00000                 0.00000                 0.00000   \n3153             0.00000                 0.00000                 0.00000   \n3154             0.00000                 0.00000                 0.00000   \n3155             0.00000                 0.00000                 0.00000   \n3156             0.00000                 0.00000                 0.00000   \n\n      Neighborhood_southeast  Neighborhood_southwest  \n0                    0.00000                 0.00000  \n1                    0.00000                 0.00000  \n2                    0.00000                 0.00000  \n3                    0.00000                 0.00000  \n4                    0.00000                 0.00000  \n...                      ...                     ...  \n3152                 0.00000                 0.00000  \n3153                 0.00000                 0.00000  \n3154                 0.00000                 0.00000  \n3155                 0.00000                 0.00000  \n3156                 0.00000                 0.00000  \n\n[2209 rows x 49 columns]",
      "text/html": "<div>\n<style scoped>\n    .dataframe tbody tr th:only-of-type {\n        vertical-align: middle;\n    }\n\n    .dataframe tbody tr th {\n        vertical-align: top;\n    }\n\n    .dataframe thead th {\n        text-align: right;\n    }\n</style>\n<table border=\"1\" class=\"dataframe\">\n  <thead>\n    <tr style=\"text-align: right;\">\n      <th></th>\n      <th>Log-NumberofFloors</th>\n      <th>Log-PropertyGFATotal</th>\n      <th>Log-PropertyGFABuilding(s)</th>\n      <th>Log-SecondLargestPropertyUseTypeGFA</th>\n      <th>Log-ThirdLargestPropertyUseTypeGFA</th>\n      <th>BuildingType_Campus</th>\n      <th>BuildingType_Multifamily HR (10+)</th>\n      <th>BuildingType_Multifamily LR (1-4)</th>\n      <th>BuildingType_Multifamily MR (5-9)</th>\n      <th>BuildingType_NonResidential</th>\n      <th>...</th>\n      <th>Neighborhood_downtown</th>\n      <th>Neighborhood_east</th>\n      <th>Neighborhood_greater duwamish</th>\n      <th>Neighborhood_lake union</th>\n      <th>Neighborhood_magnolia / queen anne</th>\n      <th>Neighborhood_north</th>\n      <th>Neighborhood_northeast</th>\n      <th>Neighborhood_northwest</th>\n      <th>Neighborhood_southeast</th>\n      <th>Neighborhood_southwest</th>\n    </tr>\n  </thead>\n  <tbody>\n    <tr>\n      <th>0</th>\n      <td>-0.28933</td>\n      <td>-1.13961</td>\n      <td>-1.12328</td>\n      <td>-0.93852</td>\n      <td>-0.44866</td>\n      <td>0.00000</td>\n      <td>0.00000</td>\n      <td>1.00000</td>\n      <td>0.00000</td>\n      <td>0.00000</td>\n      <td>...</td>\n      <td>0.00000</td>\n      <td>0.00000</td>\n      <td>0.00000</td>\n      <td>0.00000</td>\n      <td>0.00000</td>\n      <td>0.00000</td>\n      <td>0.00000</td>\n      <td>0.00000</td>\n      <td>0.00000</td>\n      <td>0.00000</td>\n    </tr>\n    <tr>\n      <th>1</th>\n      <td>-0.79857</td>\n      <td>-0.87820</td>\n      <td>-0.85098</td>\n      <td>0.94526</td>\n      <td>1.98306</td>\n      <td>0.00000</td>\n      <td>0.00000</td>\n      <td>0.00000</td>\n      <td>0.00000</td>\n      <td>1.00000</td>\n      <td>...</td>\n      <td>0.00000</td>\n      <td>0.00000</td>\n      <td>1.00000</td>\n      <td>0.00000</td>\n      <td>0.00000</td>\n      <td>0.00000</td>\n      <td>0.00000</td>\n      <td>0.00000</td>\n      <td>0.00000</td>\n      <td>0.00000</td>\n    </tr>\n    <tr>\n      <th>2</th>\n      <td>-0.28933</td>\n      <td>-0.91630</td>\n      <td>-0.89067</td>\n      <td>-0.93852</td>\n      <td>-0.44866</td>\n      <td>0.00000</td>\n      <td>0.00000</td>\n      <td>1.00000</td>\n      <td>0.00000</td>\n      <td>0.00000</td>\n      <td>...</td>\n      <td>0.00000</td>\n      <td>0.00000</td>\n      <td>1.00000</td>\n      <td>0.00000</td>\n      <td>0.00000</td>\n      <td>0.00000</td>\n      <td>0.00000</td>\n      <td>0.00000</td>\n      <td>0.00000</td>\n      <td>0.00000</td>\n    </tr>\n    <tr>\n      <th>3</th>\n      <td>2.16461</td>\n      <td>0.34101</td>\n      <td>0.41897</td>\n      <td>-0.93852</td>\n      <td>-0.44866</td>\n      <td>0.00000</td>\n      <td>1.00000</td>\n      <td>0.00000</td>\n      <td>0.00000</td>\n      <td>0.00000</td>\n      <td>...</td>\n      <td>0.00000</td>\n      <td>0.00000</td>\n      <td>1.00000</td>\n      <td>0.00000</td>\n      <td>0.00000</td>\n      <td>0.00000</td>\n      <td>0.00000</td>\n      <td>0.00000</td>\n      <td>0.00000</td>\n      <td>0.00000</td>\n    </tr>\n    <tr>\n      <th>4</th>\n      <td>-0.28933</td>\n      <td>-0.48466</td>\n      <td>-0.70166</td>\n      <td>0.79307</td>\n      <td>-0.44866</td>\n      <td>0.00000</td>\n      <td>0.00000</td>\n      <td>1.00000</td>\n      <td>0.00000</td>\n      <td>0.00000</td>\n      <td>...</td>\n      <td>0.00000</td>\n      <td>0.00000</td>\n      <td>1.00000</td>\n      <td>0.00000</td>\n      <td>0.00000</td>\n      <td>0.00000</td>\n      <td>0.00000</td>\n      <td>0.00000</td>\n      <td>0.00000</td>\n      <td>0.00000</td>\n    </tr>\n    <tr>\n      <th>...</th>\n      <td>...</td>\n      <td>...</td>\n      <td>...</td>\n      <td>...</td>\n      <td>...</td>\n      <td>...</td>\n      <td>...</td>\n      <td>...</td>\n      <td>...</td>\n      <td>...</td>\n      <td>...</td>\n      <td>...</td>\n      <td>...</td>\n      <td>...</td>\n      <td>...</td>\n      <td>...</td>\n      <td>...</td>\n      <td>...</td>\n      <td>...</td>\n      <td>...</td>\n      <td>...</td>\n    </tr>\n    <tr>\n      <th>3152</th>\n      <td>-0.28933</td>\n      <td>-0.32218</td>\n      <td>-0.57428</td>\n      <td>1.04481</td>\n      <td>2.33190</td>\n      <td>0.00000</td>\n      <td>0.00000</td>\n      <td>0.00000</td>\n      <td>0.00000</td>\n      <td>1.00000</td>\n      <td>...</td>\n      <td>0.00000</td>\n      <td>0.00000</td>\n      <td>0.00000</td>\n      <td>1.00000</td>\n      <td>0.00000</td>\n      <td>0.00000</td>\n      <td>0.00000</td>\n      <td>0.00000</td>\n      <td>0.00000</td>\n      <td>0.00000</td>\n    </tr>\n    <tr>\n      <th>3153</th>\n      <td>0.10566</td>\n      <td>-0.47582</td>\n      <td>-0.43186</td>\n      <td>-0.93852</td>\n      <td>-0.44866</td>\n      <td>0.00000</td>\n      <td>0.00000</td>\n      <td>1.00000</td>\n      <td>0.00000</td>\n      <td>0.00000</td>\n      <td>...</td>\n      <td>0.00000</td>\n      <td>0.00000</td>\n      <td>0.00000</td>\n      <td>1.00000</td>\n      <td>0.00000</td>\n      <td>0.00000</td>\n      <td>0.00000</td>\n      <td>0.00000</td>\n      <td>0.00000</td>\n      <td>0.00000</td>\n    </tr>\n    <tr>\n      <th>3154</th>\n      <td>0.42840</td>\n      <td>-0.57254</td>\n      <td>-0.77069</td>\n      <td>0.94566</td>\n      <td>1.76717</td>\n      <td>0.00000</td>\n      <td>0.00000</td>\n      <td>0.00000</td>\n      <td>0.00000</td>\n      <td>1.00000</td>\n      <td>...</td>\n      <td>0.00000</td>\n      <td>0.00000</td>\n      <td>0.00000</td>\n      <td>1.00000</td>\n      <td>0.00000</td>\n      <td>0.00000</td>\n      <td>0.00000</td>\n      <td>0.00000</td>\n      <td>0.00000</td>\n      <td>0.00000</td>\n    </tr>\n    <tr>\n      <th>3155</th>\n      <td>-0.79857</td>\n      <td>-1.15221</td>\n      <td>-1.13640</td>\n      <td>0.92678</td>\n      <td>-0.44866</td>\n      <td>0.00000</td>\n      <td>0.00000</td>\n      <td>0.00000</td>\n      <td>0.00000</td>\n      <td>1.00000</td>\n      <td>...</td>\n      <td>0.00000</td>\n      <td>0.00000</td>\n      <td>0.00000</td>\n      <td>1.00000</td>\n      <td>0.00000</td>\n      <td>0.00000</td>\n      <td>0.00000</td>\n      <td>0.00000</td>\n      <td>0.00000</td>\n      <td>0.00000</td>\n    </tr>\n    <tr>\n      <th>3156</th>\n      <td>-1.51631</td>\n      <td>-1.28807</td>\n      <td>-1.27792</td>\n      <td>0.92678</td>\n      <td>1.67547</td>\n      <td>0.00000</td>\n      <td>0.00000</td>\n      <td>0.00000</td>\n      <td>0.00000</td>\n      <td>0.00000</td>\n      <td>...</td>\n      <td>0.00000</td>\n      <td>0.00000</td>\n      <td>1.00000</td>\n      <td>0.00000</td>\n      <td>0.00000</td>\n      <td>0.00000</td>\n      <td>0.00000</td>\n      <td>0.00000</td>\n      <td>0.00000</td>\n      <td>0.00000</td>\n    </tr>\n  </tbody>\n</table>\n<p>2209 rows × 49 columns</p>\n</div>"
     },
     "metadata": {},
     "output_type": "display_data"
    }
   ],
   "source": [
    "# 5) Concatenate the two dataframes for the training set\n",
    "\n",
    "print(\"We need to add YearBuilt to the list of features.\")\n",
    "numerical_columns.tolist()\n",
    "features_to_merge = numerical_columns.tolist().copy()\n",
    "#features_to_merge.append(\"YearBuilt\")\n",
    "print(features_to_merge, end=\"\\n\\n\")\n",
    "\n",
    "print(\"ASK JEREMY : merge based on index ok ? or should I put back OSEBuildingID ??\")\n",
    "X_train_std_encoded = pd.merge(X_train_std[features_to_merge].sort_index(), X_train_encoded.sort_index(), left_index=True, right_index=True)\n",
    "display(X_train_std_encoded.sort_index())"
   ],
   "metadata": {
    "collapsed": false,
    "pycharm": {
     "name": "#%%\n"
    }
   }
  },
  {
   "cell_type": "markdown",
   "source": [
    "##### Encoding the categorical features of the test set"
   ],
   "metadata": {
    "collapsed": false,
    "pycharm": {
     "name": "#%% md\n"
    }
   }
  },
  {
   "cell_type": "code",
   "execution_count": 928,
   "outputs": [
    {
     "name": "stdout",
     "output_type": "stream",
     "text": [
      "ASK JEREMY for this method below ???\n"
     ]
    },
    {
     "data": {
      "text/plain": "      BuildingType_Campus  BuildingType_Multifamily HR (10+)  \\\n10                0.00000                            0.00000   \n13                0.00000                            0.00000   \n18                0.00000                            0.00000   \n19                0.00000                            0.00000   \n24                0.00000                            0.00000   \n...                   ...                                ...   \n3140              0.00000                            0.00000   \n3142              0.00000                            0.00000   \n3143              0.00000                            0.00000   \n3147              0.00000                            0.00000   \n3151              0.00000                            0.00000   \n\n      BuildingType_Multifamily LR (1-4)  BuildingType_Multifamily MR (5-9)  \\\n10                              0.00000                            0.00000   \n13                              0.00000                            0.00000   \n18                              0.00000                            0.00000   \n19                              1.00000                            0.00000   \n24                              1.00000                            0.00000   \n...                                 ...                                ...   \n3140                            0.00000                            0.00000   \n3142                            0.00000                            1.00000   \n3143                            0.00000                            0.00000   \n3147                            0.00000                            0.00000   \n3151                            0.00000                            0.00000   \n\n      BuildingType_NonResidential  BuildingType_Nonresidential COS  \\\n10                        1.00000                          0.00000   \n13                        1.00000                          0.00000   \n18                        1.00000                          0.00000   \n19                        0.00000                          0.00000   \n24                        0.00000                          0.00000   \n...                           ...                              ...   \n3140                      1.00000                          0.00000   \n3142                      0.00000                          0.00000   \n3143                      1.00000                          0.00000   \n3147                      1.00000                          0.00000   \n3151                      1.00000                          0.00000   \n\n      BuildingType_Nonresidential WA  BuildingType_SPS-District K-12  \\\n10                           0.00000                         0.00000   \n13                           0.00000                         0.00000   \n18                           0.00000                         0.00000   \n19                           0.00000                         0.00000   \n24                           0.00000                         0.00000   \n...                              ...                             ...   \n3140                         0.00000                         0.00000   \n3142                         0.00000                         0.00000   \n3143                         0.00000                         0.00000   \n3147                         0.00000                         0.00000   \n3151                         0.00000                         0.00000   \n\n      PrimaryPropertyType_Distribution Center  \\\n10                                    0.00000   \n13                                    0.00000   \n18                                    0.00000   \n19                                    0.00000   \n24                                    0.00000   \n...                                       ...   \n3140                                  0.00000   \n3142                                  0.00000   \n3143                                  0.00000   \n3147                                  0.00000   \n3151                                  0.00000   \n\n      PrimaryPropertyType_High-Rise Multifamily  ...  Neighborhood_downtown  \\\n10                                      0.00000  ...                1.00000   \n13                                      0.00000  ...                0.00000   \n18                                      0.00000  ...                0.00000   \n19                                      0.00000  ...                0.00000   \n24                                      0.00000  ...                0.00000   \n...                                         ...  ...                    ...   \n3140                                    0.00000  ...                1.00000   \n3142                                    0.00000  ...                1.00000   \n3143                                    0.00000  ...                1.00000   \n3147                                    0.00000  ...                0.00000   \n3151                                    0.00000  ...                0.00000   \n\n      Neighborhood_east  Neighborhood_greater duwamish  \\\n10              0.00000                        0.00000   \n13              0.00000                        0.00000   \n18              0.00000                        0.00000   \n19              0.00000                        0.00000   \n24              0.00000                        0.00000   \n...                 ...                            ...   \n3140            0.00000                        0.00000   \n3142            0.00000                        0.00000   \n3143            0.00000                        0.00000   \n3147            1.00000                        0.00000   \n3151            0.00000                        0.00000   \n\n      Neighborhood_lake union  Neighborhood_magnolia / queen anne  \\\n10                    0.00000                             0.00000   \n13                    0.00000                             0.00000   \n18                    0.00000                             0.00000   \n19                    0.00000                             0.00000   \n24                    0.00000                             0.00000   \n...                       ...                                 ...   \n3140                  0.00000                             0.00000   \n3142                  0.00000                             0.00000   \n3143                  0.00000                             0.00000   \n3147                  0.00000                             0.00000   \n3151                  1.00000                             0.00000   \n\n      Neighborhood_north  Neighborhood_northeast  Neighborhood_northwest  \\\n10               0.00000                 0.00000                 0.00000   \n13               0.00000                 0.00000                 0.00000   \n18               0.00000                 0.00000                 0.00000   \n19               0.00000                 0.00000                 1.00000   \n24               0.00000                 0.00000                 0.00000   \n...                  ...                     ...                     ...   \n3140             0.00000                 0.00000                 0.00000   \n3142             0.00000                 0.00000                 0.00000   \n3143             0.00000                 0.00000                 0.00000   \n3147             0.00000                 0.00000                 0.00000   \n3151             0.00000                 0.00000                 0.00000   \n\n      Neighborhood_southeast  Neighborhood_southwest  \n10                   0.00000                 0.00000  \n13                   0.00000                 0.00000  \n18                   0.00000                 0.00000  \n19                   0.00000                 0.00000  \n24                   0.00000                 0.00000  \n...                      ...                     ...  \n3140                 0.00000                 0.00000  \n3142                 0.00000                 0.00000  \n3143                 0.00000                 0.00000  \n3147                 0.00000                 0.00000  \n3151                 0.00000                 0.00000  \n\n[948 rows x 44 columns]",
      "text/html": "<div>\n<style scoped>\n    .dataframe tbody tr th:only-of-type {\n        vertical-align: middle;\n    }\n\n    .dataframe tbody tr th {\n        vertical-align: top;\n    }\n\n    .dataframe thead th {\n        text-align: right;\n    }\n</style>\n<table border=\"1\" class=\"dataframe\">\n  <thead>\n    <tr style=\"text-align: right;\">\n      <th></th>\n      <th>BuildingType_Campus</th>\n      <th>BuildingType_Multifamily HR (10+)</th>\n      <th>BuildingType_Multifamily LR (1-4)</th>\n      <th>BuildingType_Multifamily MR (5-9)</th>\n      <th>BuildingType_NonResidential</th>\n      <th>BuildingType_Nonresidential COS</th>\n      <th>BuildingType_Nonresidential WA</th>\n      <th>BuildingType_SPS-District K-12</th>\n      <th>PrimaryPropertyType_Distribution Center</th>\n      <th>PrimaryPropertyType_High-Rise Multifamily</th>\n      <th>...</th>\n      <th>Neighborhood_downtown</th>\n      <th>Neighborhood_east</th>\n      <th>Neighborhood_greater duwamish</th>\n      <th>Neighborhood_lake union</th>\n      <th>Neighborhood_magnolia / queen anne</th>\n      <th>Neighborhood_north</th>\n      <th>Neighborhood_northeast</th>\n      <th>Neighborhood_northwest</th>\n      <th>Neighborhood_southeast</th>\n      <th>Neighborhood_southwest</th>\n    </tr>\n  </thead>\n  <tbody>\n    <tr>\n      <th>10</th>\n      <td>0.00000</td>\n      <td>0.00000</td>\n      <td>0.00000</td>\n      <td>0.00000</td>\n      <td>1.00000</td>\n      <td>0.00000</td>\n      <td>0.00000</td>\n      <td>0.00000</td>\n      <td>0.00000</td>\n      <td>0.00000</td>\n      <td>...</td>\n      <td>1.00000</td>\n      <td>0.00000</td>\n      <td>0.00000</td>\n      <td>0.00000</td>\n      <td>0.00000</td>\n      <td>0.00000</td>\n      <td>0.00000</td>\n      <td>0.00000</td>\n      <td>0.00000</td>\n      <td>0.00000</td>\n    </tr>\n    <tr>\n      <th>13</th>\n      <td>0.00000</td>\n      <td>0.00000</td>\n      <td>0.00000</td>\n      <td>0.00000</td>\n      <td>1.00000</td>\n      <td>0.00000</td>\n      <td>0.00000</td>\n      <td>0.00000</td>\n      <td>0.00000</td>\n      <td>0.00000</td>\n      <td>...</td>\n      <td>0.00000</td>\n      <td>0.00000</td>\n      <td>0.00000</td>\n      <td>0.00000</td>\n      <td>0.00000</td>\n      <td>0.00000</td>\n      <td>0.00000</td>\n      <td>0.00000</td>\n      <td>0.00000</td>\n      <td>0.00000</td>\n    </tr>\n    <tr>\n      <th>18</th>\n      <td>0.00000</td>\n      <td>0.00000</td>\n      <td>0.00000</td>\n      <td>0.00000</td>\n      <td>1.00000</td>\n      <td>0.00000</td>\n      <td>0.00000</td>\n      <td>0.00000</td>\n      <td>0.00000</td>\n      <td>0.00000</td>\n      <td>...</td>\n      <td>0.00000</td>\n      <td>0.00000</td>\n      <td>0.00000</td>\n      <td>0.00000</td>\n      <td>0.00000</td>\n      <td>0.00000</td>\n      <td>0.00000</td>\n      <td>0.00000</td>\n      <td>0.00000</td>\n      <td>0.00000</td>\n    </tr>\n    <tr>\n      <th>19</th>\n      <td>0.00000</td>\n      <td>0.00000</td>\n      <td>1.00000</td>\n      <td>0.00000</td>\n      <td>0.00000</td>\n      <td>0.00000</td>\n      <td>0.00000</td>\n      <td>0.00000</td>\n      <td>0.00000</td>\n      <td>0.00000</td>\n      <td>...</td>\n      <td>0.00000</td>\n      <td>0.00000</td>\n      <td>0.00000</td>\n      <td>0.00000</td>\n      <td>0.00000</td>\n      <td>0.00000</td>\n      <td>0.00000</td>\n      <td>1.00000</td>\n      <td>0.00000</td>\n      <td>0.00000</td>\n    </tr>\n    <tr>\n      <th>24</th>\n      <td>0.00000</td>\n      <td>0.00000</td>\n      <td>1.00000</td>\n      <td>0.00000</td>\n      <td>0.00000</td>\n      <td>0.00000</td>\n      <td>0.00000</td>\n      <td>0.00000</td>\n      <td>0.00000</td>\n      <td>0.00000</td>\n      <td>...</td>\n      <td>0.00000</td>\n      <td>0.00000</td>\n      <td>0.00000</td>\n      <td>0.00000</td>\n      <td>0.00000</td>\n      <td>0.00000</td>\n      <td>0.00000</td>\n      <td>0.00000</td>\n      <td>0.00000</td>\n      <td>0.00000</td>\n    </tr>\n    <tr>\n      <th>...</th>\n      <td>...</td>\n      <td>...</td>\n      <td>...</td>\n      <td>...</td>\n      <td>...</td>\n      <td>...</td>\n      <td>...</td>\n      <td>...</td>\n      <td>...</td>\n      <td>...</td>\n      <td>...</td>\n      <td>...</td>\n      <td>...</td>\n      <td>...</td>\n      <td>...</td>\n      <td>...</td>\n      <td>...</td>\n      <td>...</td>\n      <td>...</td>\n      <td>...</td>\n      <td>...</td>\n    </tr>\n    <tr>\n      <th>3140</th>\n      <td>0.00000</td>\n      <td>0.00000</td>\n      <td>0.00000</td>\n      <td>0.00000</td>\n      <td>1.00000</td>\n      <td>0.00000</td>\n      <td>0.00000</td>\n      <td>0.00000</td>\n      <td>0.00000</td>\n      <td>0.00000</td>\n      <td>...</td>\n      <td>1.00000</td>\n      <td>0.00000</td>\n      <td>0.00000</td>\n      <td>0.00000</td>\n      <td>0.00000</td>\n      <td>0.00000</td>\n      <td>0.00000</td>\n      <td>0.00000</td>\n      <td>0.00000</td>\n      <td>0.00000</td>\n    </tr>\n    <tr>\n      <th>3142</th>\n      <td>0.00000</td>\n      <td>0.00000</td>\n      <td>0.00000</td>\n      <td>1.00000</td>\n      <td>0.00000</td>\n      <td>0.00000</td>\n      <td>0.00000</td>\n      <td>0.00000</td>\n      <td>0.00000</td>\n      <td>0.00000</td>\n      <td>...</td>\n      <td>1.00000</td>\n      <td>0.00000</td>\n      <td>0.00000</td>\n      <td>0.00000</td>\n      <td>0.00000</td>\n      <td>0.00000</td>\n      <td>0.00000</td>\n      <td>0.00000</td>\n      <td>0.00000</td>\n      <td>0.00000</td>\n    </tr>\n    <tr>\n      <th>3143</th>\n      <td>0.00000</td>\n      <td>0.00000</td>\n      <td>0.00000</td>\n      <td>0.00000</td>\n      <td>1.00000</td>\n      <td>0.00000</td>\n      <td>0.00000</td>\n      <td>0.00000</td>\n      <td>0.00000</td>\n      <td>0.00000</td>\n      <td>...</td>\n      <td>1.00000</td>\n      <td>0.00000</td>\n      <td>0.00000</td>\n      <td>0.00000</td>\n      <td>0.00000</td>\n      <td>0.00000</td>\n      <td>0.00000</td>\n      <td>0.00000</td>\n      <td>0.00000</td>\n      <td>0.00000</td>\n    </tr>\n    <tr>\n      <th>3147</th>\n      <td>0.00000</td>\n      <td>0.00000</td>\n      <td>0.00000</td>\n      <td>0.00000</td>\n      <td>1.00000</td>\n      <td>0.00000</td>\n      <td>0.00000</td>\n      <td>0.00000</td>\n      <td>0.00000</td>\n      <td>0.00000</td>\n      <td>...</td>\n      <td>0.00000</td>\n      <td>1.00000</td>\n      <td>0.00000</td>\n      <td>0.00000</td>\n      <td>0.00000</td>\n      <td>0.00000</td>\n      <td>0.00000</td>\n      <td>0.00000</td>\n      <td>0.00000</td>\n      <td>0.00000</td>\n    </tr>\n    <tr>\n      <th>3151</th>\n      <td>0.00000</td>\n      <td>0.00000</td>\n      <td>0.00000</td>\n      <td>0.00000</td>\n      <td>1.00000</td>\n      <td>0.00000</td>\n      <td>0.00000</td>\n      <td>0.00000</td>\n      <td>0.00000</td>\n      <td>0.00000</td>\n      <td>...</td>\n      <td>0.00000</td>\n      <td>0.00000</td>\n      <td>0.00000</td>\n      <td>1.00000</td>\n      <td>0.00000</td>\n      <td>0.00000</td>\n      <td>0.00000</td>\n      <td>0.00000</td>\n      <td>0.00000</td>\n      <td>0.00000</td>\n    </tr>\n  </tbody>\n</table>\n<p>948 rows × 44 columns</p>\n</div>"
     },
     "metadata": {},
     "output_type": "display_data"
    },
    {
     "name": "stdout",
     "output_type": "stream",
     "text": [
      "ASK JEREMY : merge based on index ok ? or should I put back OSEBuildingID ??\n"
     ]
    },
    {
     "data": {
      "text/plain": "      Log-NumberofFloors  Log-PropertyGFATotal  Log-PropertyGFABuilding(s)  \\\n10               1.79706               0.55025                     0.63692   \n13              -0.79857              -0.37559                    -0.32746   \n18              -0.79857              -0.99790                    -0.97567   \n19               0.10566              -0.69454                    -0.65968   \n24               0.10566              -0.19412                    -0.13843   \n...                  ...                   ...                         ...   \n3140            -0.79857              -0.87977                    -0.85262   \n3142             0.70127               0.65774                     0.74889   \n3143            -0.79857              -0.87977                    -0.85262   \n3147             0.10566              -0.38123                    -0.33333   \n3151            -0.79857              -0.56909                    -0.52901   \n\n      Log-SecondLargestPropertyUseTypeGFA  Log-ThirdLargestPropertyUseTypeGFA  \\\n10                               -0.93852                            -0.44866   \n13                               -0.93852                            -0.44866   \n18                                0.79059                            -0.44866   \n19                                0.73935                            -0.44866   \n24                                0.98149                            -0.44866   \n...                                   ...                                 ...   \n3140                             -0.93852                            -0.44866   \n3142                             -0.93852                            -0.44866   \n3143                             -0.93852                            -0.44866   \n3147                             -0.93852                            -0.44866   \n3151                              1.03782                             1.75481   \n\n      BuildingType_Campus  BuildingType_Multifamily HR (10+)  \\\n10                0.00000                            0.00000   \n13                0.00000                            0.00000   \n18                0.00000                            0.00000   \n19                0.00000                            0.00000   \n24                0.00000                            0.00000   \n...                   ...                                ...   \n3140              0.00000                            0.00000   \n3142              0.00000                            0.00000   \n3143              0.00000                            0.00000   \n3147              0.00000                            0.00000   \n3151              0.00000                            0.00000   \n\n      BuildingType_Multifamily LR (1-4)  BuildingType_Multifamily MR (5-9)  \\\n10                              0.00000                            0.00000   \n13                              0.00000                            0.00000   \n18                              0.00000                            0.00000   \n19                              1.00000                            0.00000   \n24                              1.00000                            0.00000   \n...                                 ...                                ...   \n3140                            0.00000                            0.00000   \n3142                            0.00000                            1.00000   \n3143                            0.00000                            0.00000   \n3147                            0.00000                            0.00000   \n3151                            0.00000                            0.00000   \n\n      BuildingType_NonResidential  ...  Neighborhood_downtown  \\\n10                        1.00000  ...                1.00000   \n13                        1.00000  ...                0.00000   \n18                        1.00000  ...                0.00000   \n19                        0.00000  ...                0.00000   \n24                        0.00000  ...                0.00000   \n...                           ...  ...                    ...   \n3140                      1.00000  ...                1.00000   \n3142                      0.00000  ...                1.00000   \n3143                      1.00000  ...                1.00000   \n3147                      1.00000  ...                0.00000   \n3151                      1.00000  ...                0.00000   \n\n      Neighborhood_east  Neighborhood_greater duwamish  \\\n10              0.00000                        0.00000   \n13              0.00000                        0.00000   \n18              0.00000                        0.00000   \n19              0.00000                        0.00000   \n24              0.00000                        0.00000   \n...                 ...                            ...   \n3140            0.00000                        0.00000   \n3142            0.00000                        0.00000   \n3143            0.00000                        0.00000   \n3147            1.00000                        0.00000   \n3151            0.00000                        0.00000   \n\n      Neighborhood_lake union  Neighborhood_magnolia / queen anne  \\\n10                    0.00000                             0.00000   \n13                    0.00000                             0.00000   \n18                    0.00000                             0.00000   \n19                    0.00000                             0.00000   \n24                    0.00000                             0.00000   \n...                       ...                                 ...   \n3140                  0.00000                             0.00000   \n3142                  0.00000                             0.00000   \n3143                  0.00000                             0.00000   \n3147                  0.00000                             0.00000   \n3151                  1.00000                             0.00000   \n\n      Neighborhood_north  Neighborhood_northeast  Neighborhood_northwest  \\\n10               0.00000                 0.00000                 0.00000   \n13               0.00000                 0.00000                 0.00000   \n18               0.00000                 0.00000                 0.00000   \n19               0.00000                 0.00000                 1.00000   \n24               0.00000                 0.00000                 0.00000   \n...                  ...                     ...                     ...   \n3140             0.00000                 0.00000                 0.00000   \n3142             0.00000                 0.00000                 0.00000   \n3143             0.00000                 0.00000                 0.00000   \n3147             0.00000                 0.00000                 0.00000   \n3151             0.00000                 0.00000                 0.00000   \n\n      Neighborhood_southeast  Neighborhood_southwest  \n10                   0.00000                 0.00000  \n13                   0.00000                 0.00000  \n18                   0.00000                 0.00000  \n19                   0.00000                 0.00000  \n24                   0.00000                 0.00000  \n...                      ...                     ...  \n3140                 0.00000                 0.00000  \n3142                 0.00000                 0.00000  \n3143                 0.00000                 0.00000  \n3147                 0.00000                 0.00000  \n3151                 0.00000                 0.00000  \n\n[948 rows x 49 columns]",
      "text/html": "<div>\n<style scoped>\n    .dataframe tbody tr th:only-of-type {\n        vertical-align: middle;\n    }\n\n    .dataframe tbody tr th {\n        vertical-align: top;\n    }\n\n    .dataframe thead th {\n        text-align: right;\n    }\n</style>\n<table border=\"1\" class=\"dataframe\">\n  <thead>\n    <tr style=\"text-align: right;\">\n      <th></th>\n      <th>Log-NumberofFloors</th>\n      <th>Log-PropertyGFATotal</th>\n      <th>Log-PropertyGFABuilding(s)</th>\n      <th>Log-SecondLargestPropertyUseTypeGFA</th>\n      <th>Log-ThirdLargestPropertyUseTypeGFA</th>\n      <th>BuildingType_Campus</th>\n      <th>BuildingType_Multifamily HR (10+)</th>\n      <th>BuildingType_Multifamily LR (1-4)</th>\n      <th>BuildingType_Multifamily MR (5-9)</th>\n      <th>BuildingType_NonResidential</th>\n      <th>...</th>\n      <th>Neighborhood_downtown</th>\n      <th>Neighborhood_east</th>\n      <th>Neighborhood_greater duwamish</th>\n      <th>Neighborhood_lake union</th>\n      <th>Neighborhood_magnolia / queen anne</th>\n      <th>Neighborhood_north</th>\n      <th>Neighborhood_northeast</th>\n      <th>Neighborhood_northwest</th>\n      <th>Neighborhood_southeast</th>\n      <th>Neighborhood_southwest</th>\n    </tr>\n  </thead>\n  <tbody>\n    <tr>\n      <th>10</th>\n      <td>1.79706</td>\n      <td>0.55025</td>\n      <td>0.63692</td>\n      <td>-0.93852</td>\n      <td>-0.44866</td>\n      <td>0.00000</td>\n      <td>0.00000</td>\n      <td>0.00000</td>\n      <td>0.00000</td>\n      <td>1.00000</td>\n      <td>...</td>\n      <td>1.00000</td>\n      <td>0.00000</td>\n      <td>0.00000</td>\n      <td>0.00000</td>\n      <td>0.00000</td>\n      <td>0.00000</td>\n      <td>0.00000</td>\n      <td>0.00000</td>\n      <td>0.00000</td>\n      <td>0.00000</td>\n    </tr>\n    <tr>\n      <th>13</th>\n      <td>-0.79857</td>\n      <td>-0.37559</td>\n      <td>-0.32746</td>\n      <td>-0.93852</td>\n      <td>-0.44866</td>\n      <td>0.00000</td>\n      <td>0.00000</td>\n      <td>0.00000</td>\n      <td>0.00000</td>\n      <td>1.00000</td>\n      <td>...</td>\n      <td>0.00000</td>\n      <td>0.00000</td>\n      <td>0.00000</td>\n      <td>0.00000</td>\n      <td>0.00000</td>\n      <td>0.00000</td>\n      <td>0.00000</td>\n      <td>0.00000</td>\n      <td>0.00000</td>\n      <td>0.00000</td>\n    </tr>\n    <tr>\n      <th>18</th>\n      <td>-0.79857</td>\n      <td>-0.99790</td>\n      <td>-0.97567</td>\n      <td>0.79059</td>\n      <td>-0.44866</td>\n      <td>0.00000</td>\n      <td>0.00000</td>\n      <td>0.00000</td>\n      <td>0.00000</td>\n      <td>1.00000</td>\n      <td>...</td>\n      <td>0.00000</td>\n      <td>0.00000</td>\n      <td>0.00000</td>\n      <td>0.00000</td>\n      <td>0.00000</td>\n      <td>0.00000</td>\n      <td>0.00000</td>\n      <td>0.00000</td>\n      <td>0.00000</td>\n      <td>0.00000</td>\n    </tr>\n    <tr>\n      <th>19</th>\n      <td>0.10566</td>\n      <td>-0.69454</td>\n      <td>-0.65968</td>\n      <td>0.73935</td>\n      <td>-0.44866</td>\n      <td>0.00000</td>\n      <td>0.00000</td>\n      <td>1.00000</td>\n      <td>0.00000</td>\n      <td>0.00000</td>\n      <td>...</td>\n      <td>0.00000</td>\n      <td>0.00000</td>\n      <td>0.00000</td>\n      <td>0.00000</td>\n      <td>0.00000</td>\n      <td>0.00000</td>\n      <td>0.00000</td>\n      <td>1.00000</td>\n      <td>0.00000</td>\n      <td>0.00000</td>\n    </tr>\n    <tr>\n      <th>24</th>\n      <td>0.10566</td>\n      <td>-0.19412</td>\n      <td>-0.13843</td>\n      <td>0.98149</td>\n      <td>-0.44866</td>\n      <td>0.00000</td>\n      <td>0.00000</td>\n      <td>1.00000</td>\n      <td>0.00000</td>\n      <td>0.00000</td>\n      <td>...</td>\n      <td>0.00000</td>\n      <td>0.00000</td>\n      <td>0.00000</td>\n      <td>0.00000</td>\n      <td>0.00000</td>\n      <td>0.00000</td>\n      <td>0.00000</td>\n      <td>0.00000</td>\n      <td>0.00000</td>\n      <td>0.00000</td>\n    </tr>\n    <tr>\n      <th>...</th>\n      <td>...</td>\n      <td>...</td>\n      <td>...</td>\n      <td>...</td>\n      <td>...</td>\n      <td>...</td>\n      <td>...</td>\n      <td>...</td>\n      <td>...</td>\n      <td>...</td>\n      <td>...</td>\n      <td>...</td>\n      <td>...</td>\n      <td>...</td>\n      <td>...</td>\n      <td>...</td>\n      <td>...</td>\n      <td>...</td>\n      <td>...</td>\n      <td>...</td>\n      <td>...</td>\n    </tr>\n    <tr>\n      <th>3140</th>\n      <td>-0.79857</td>\n      <td>-0.87977</td>\n      <td>-0.85262</td>\n      <td>-0.93852</td>\n      <td>-0.44866</td>\n      <td>0.00000</td>\n      <td>0.00000</td>\n      <td>0.00000</td>\n      <td>0.00000</td>\n      <td>1.00000</td>\n      <td>...</td>\n      <td>1.00000</td>\n      <td>0.00000</td>\n      <td>0.00000</td>\n      <td>0.00000</td>\n      <td>0.00000</td>\n      <td>0.00000</td>\n      <td>0.00000</td>\n      <td>0.00000</td>\n      <td>0.00000</td>\n      <td>0.00000</td>\n    </tr>\n    <tr>\n      <th>3142</th>\n      <td>0.70127</td>\n      <td>0.65774</td>\n      <td>0.74889</td>\n      <td>-0.93852</td>\n      <td>-0.44866</td>\n      <td>0.00000</td>\n      <td>0.00000</td>\n      <td>0.00000</td>\n      <td>1.00000</td>\n      <td>0.00000</td>\n      <td>...</td>\n      <td>1.00000</td>\n      <td>0.00000</td>\n      <td>0.00000</td>\n      <td>0.00000</td>\n      <td>0.00000</td>\n      <td>0.00000</td>\n      <td>0.00000</td>\n      <td>0.00000</td>\n      <td>0.00000</td>\n      <td>0.00000</td>\n    </tr>\n    <tr>\n      <th>3143</th>\n      <td>-0.79857</td>\n      <td>-0.87977</td>\n      <td>-0.85262</td>\n      <td>-0.93852</td>\n      <td>-0.44866</td>\n      <td>0.00000</td>\n      <td>0.00000</td>\n      <td>0.00000</td>\n      <td>0.00000</td>\n      <td>1.00000</td>\n      <td>...</td>\n      <td>1.00000</td>\n      <td>0.00000</td>\n      <td>0.00000</td>\n      <td>0.00000</td>\n      <td>0.00000</td>\n      <td>0.00000</td>\n      <td>0.00000</td>\n      <td>0.00000</td>\n      <td>0.00000</td>\n      <td>0.00000</td>\n    </tr>\n    <tr>\n      <th>3147</th>\n      <td>0.10566</td>\n      <td>-0.38123</td>\n      <td>-0.33333</td>\n      <td>-0.93852</td>\n      <td>-0.44866</td>\n      <td>0.00000</td>\n      <td>0.00000</td>\n      <td>0.00000</td>\n      <td>0.00000</td>\n      <td>1.00000</td>\n      <td>...</td>\n      <td>0.00000</td>\n      <td>1.00000</td>\n      <td>0.00000</td>\n      <td>0.00000</td>\n      <td>0.00000</td>\n      <td>0.00000</td>\n      <td>0.00000</td>\n      <td>0.00000</td>\n      <td>0.00000</td>\n      <td>0.00000</td>\n    </tr>\n    <tr>\n      <th>3151</th>\n      <td>-0.79857</td>\n      <td>-0.56909</td>\n      <td>-0.52901</td>\n      <td>1.03782</td>\n      <td>1.75481</td>\n      <td>0.00000</td>\n      <td>0.00000</td>\n      <td>0.00000</td>\n      <td>0.00000</td>\n      <td>1.00000</td>\n      <td>...</td>\n      <td>0.00000</td>\n      <td>0.00000</td>\n      <td>0.00000</td>\n      <td>1.00000</td>\n      <td>0.00000</td>\n      <td>0.00000</td>\n      <td>0.00000</td>\n      <td>0.00000</td>\n      <td>0.00000</td>\n      <td>0.00000</td>\n    </tr>\n  </tbody>\n</table>\n<p>948 rows × 49 columns</p>\n</div>"
     },
     "metadata": {},
     "output_type": "display_data"
    }
   ],
   "source": [
    "# 5) One Hot Encoding on the testing set\n",
    "\n",
    "# 5.1) we get the encoded numpy array\n",
    "TEST_encoded_categorical_data = one_hot_encoder.transform(X_test_std[categorical_columns])\n",
    "\n",
    "print(\"ASK JEREMY for this method below ???\")\n",
    "# 5.2) we recreate a dataframe with the column names and the numpy array\n",
    "X_test_encoded = pd.DataFrame(columns=encoded_categorical_data_names,\n",
    "                               data=TEST_encoded_categorical_data,\n",
    "                               index=X_test_std.index)\n",
    "display(X_test_encoded.sort_index())\n",
    "\n",
    "print(\"ASK JEREMY : merge based on index ok ? or should I put back OSEBuildingID ??\")\n",
    "X_test_std_encoded = pd.merge(X_test_std[features_to_merge].sort_index(), X_test_encoded.sort_index(), left_index=True, right_index=True)\n",
    "display(X_test_std_encoded.sort_index())"
   ],
   "metadata": {
    "collapsed": false,
    "pycharm": {
     "name": "#%%\n"
    }
   }
  },
  {
   "cell_type": "code",
   "execution_count": 929,
   "outputs": [],
   "source": [
    "# Save\n",
    "#X_train_std_encoded.to_csv(\"dataset/cleaned/electricity/X_train.csv\", index=False)\n",
    "#X_test_std_encoded.to_csv(\"dataset/cleaned/electricity/X_test.csv\", index=False)\n",
    "#y_train.to_csv(\"dataset/cleaned/electricity/y_train.csv\", index=False)\n",
    "#y_test.to_csv(\"dataset/cleaned/electricity/y_test.csv\", index=False)"
   ],
   "metadata": {
    "collapsed": false,
    "pycharm": {
     "name": "#%%\n"
    }
   }
  },
  {
   "cell_type": "markdown",
   "source": [
    "## II) Modelisation"
   ],
   "metadata": {
    "collapsed": false,
    "pycharm": {
     "name": "#%% md\n"
    }
   }
  },
  {
   "cell_type": "code",
   "execution_count": 930,
   "outputs": [],
   "source": [
    "from sklearn.model_selection import GridSearchCV\n",
    "from sklearn.metrics import mean_squared_error"
   ],
   "metadata": {
    "collapsed": false,
    "pycharm": {
     "name": "#%%\n"
    }
   }
  },
  {
   "cell_type": "code",
   "execution_count": 931,
   "outputs": [
    {
     "name": "stdout",
     "output_type": "stream",
     "text": [
      "We can start now the modelling to predict the feature wanted.\n"
     ]
    },
    {
     "data": {
      "text/plain": "      Log-NumberofFloors  Log-PropertyGFATotal  Log-PropertyGFABuilding(s)  \\\n0               -0.28933              -1.13961                    -1.12328   \n1               -0.79857              -0.87820                    -0.85098   \n2               -0.28933              -0.91630                    -0.89067   \n3                2.16461               0.34101                     0.41897   \n4               -0.28933              -0.48466                    -0.70166   \n...                  ...                   ...                         ...   \n3152            -0.28933              -0.32218                    -0.57428   \n3153             0.10566              -0.47582                    -0.43186   \n3154             0.42840              -0.57254                    -0.77069   \n3155            -0.79857              -1.15221                    -1.13640   \n3156            -1.51631              -1.28807                    -1.27792   \n\n      Log-SecondLargestPropertyUseTypeGFA  Log-ThirdLargestPropertyUseTypeGFA  \\\n0                                -0.93852                            -0.44866   \n1                                 0.94526                             1.98306   \n2                                -0.93852                            -0.44866   \n3                                -0.93852                            -0.44866   \n4                                 0.79307                            -0.44866   \n...                                   ...                                 ...   \n3152                              1.04481                             2.33190   \n3153                             -0.93852                            -0.44866   \n3154                              0.94566                             1.76717   \n3155                              0.92678                            -0.44866   \n3156                              0.92678                             1.67547   \n\n      BuildingType_Campus  BuildingType_Multifamily HR (10+)  \\\n0                 0.00000                            0.00000   \n1                 0.00000                            0.00000   \n2                 0.00000                            0.00000   \n3                 0.00000                            1.00000   \n4                 0.00000                            0.00000   \n...                   ...                                ...   \n3152              0.00000                            0.00000   \n3153              0.00000                            0.00000   \n3154              0.00000                            0.00000   \n3155              0.00000                            0.00000   \n3156              0.00000                            0.00000   \n\n      BuildingType_Multifamily LR (1-4)  BuildingType_Multifamily MR (5-9)  \\\n0                               1.00000                            0.00000   \n1                               0.00000                            0.00000   \n2                               1.00000                            0.00000   \n3                               0.00000                            0.00000   \n4                               1.00000                            0.00000   \n...                                 ...                                ...   \n3152                            0.00000                            0.00000   \n3153                            1.00000                            0.00000   \n3154                            0.00000                            0.00000   \n3155                            0.00000                            0.00000   \n3156                            0.00000                            0.00000   \n\n      BuildingType_NonResidential  ...  Neighborhood_downtown  \\\n0                         0.00000  ...                0.00000   \n1                         1.00000  ...                0.00000   \n2                         0.00000  ...                0.00000   \n3                         0.00000  ...                0.00000   \n4                         0.00000  ...                0.00000   \n...                           ...  ...                    ...   \n3152                      1.00000  ...                0.00000   \n3153                      0.00000  ...                0.00000   \n3154                      1.00000  ...                0.00000   \n3155                      1.00000  ...                0.00000   \n3156                      0.00000  ...                0.00000   \n\n      Neighborhood_east  Neighborhood_greater duwamish  \\\n0               0.00000                        0.00000   \n1               0.00000                        1.00000   \n2               0.00000                        1.00000   \n3               0.00000                        1.00000   \n4               0.00000                        1.00000   \n...                 ...                            ...   \n3152            0.00000                        0.00000   \n3153            0.00000                        0.00000   \n3154            0.00000                        0.00000   \n3155            0.00000                        0.00000   \n3156            0.00000                        1.00000   \n\n      Neighborhood_lake union  Neighborhood_magnolia / queen anne  \\\n0                     0.00000                             0.00000   \n1                     0.00000                             0.00000   \n2                     0.00000                             0.00000   \n3                     0.00000                             0.00000   \n4                     0.00000                             0.00000   \n...                       ...                                 ...   \n3152                  1.00000                             0.00000   \n3153                  1.00000                             0.00000   \n3154                  1.00000                             0.00000   \n3155                  1.00000                             0.00000   \n3156                  0.00000                             0.00000   \n\n      Neighborhood_north  Neighborhood_northeast  Neighborhood_northwest  \\\n0                0.00000                 0.00000                 0.00000   \n1                0.00000                 0.00000                 0.00000   \n2                0.00000                 0.00000                 0.00000   \n3                0.00000                 0.00000                 0.00000   \n4                0.00000                 0.00000                 0.00000   \n...                  ...                     ...                     ...   \n3152             0.00000                 0.00000                 0.00000   \n3153             0.00000                 0.00000                 0.00000   \n3154             0.00000                 0.00000                 0.00000   \n3155             0.00000                 0.00000                 0.00000   \n3156             0.00000                 0.00000                 0.00000   \n\n      Neighborhood_southeast  Neighborhood_southwest  \n0                    0.00000                 0.00000  \n1                    0.00000                 0.00000  \n2                    0.00000                 0.00000  \n3                    0.00000                 0.00000  \n4                    0.00000                 0.00000  \n...                      ...                     ...  \n3152                 0.00000                 0.00000  \n3153                 0.00000                 0.00000  \n3154                 0.00000                 0.00000  \n3155                 0.00000                 0.00000  \n3156                 0.00000                 0.00000  \n\n[2209 rows x 49 columns]",
      "text/html": "<div>\n<style scoped>\n    .dataframe tbody tr th:only-of-type {\n        vertical-align: middle;\n    }\n\n    .dataframe tbody tr th {\n        vertical-align: top;\n    }\n\n    .dataframe thead th {\n        text-align: right;\n    }\n</style>\n<table border=\"1\" class=\"dataframe\">\n  <thead>\n    <tr style=\"text-align: right;\">\n      <th></th>\n      <th>Log-NumberofFloors</th>\n      <th>Log-PropertyGFATotal</th>\n      <th>Log-PropertyGFABuilding(s)</th>\n      <th>Log-SecondLargestPropertyUseTypeGFA</th>\n      <th>Log-ThirdLargestPropertyUseTypeGFA</th>\n      <th>BuildingType_Campus</th>\n      <th>BuildingType_Multifamily HR (10+)</th>\n      <th>BuildingType_Multifamily LR (1-4)</th>\n      <th>BuildingType_Multifamily MR (5-9)</th>\n      <th>BuildingType_NonResidential</th>\n      <th>...</th>\n      <th>Neighborhood_downtown</th>\n      <th>Neighborhood_east</th>\n      <th>Neighborhood_greater duwamish</th>\n      <th>Neighborhood_lake union</th>\n      <th>Neighborhood_magnolia / queen anne</th>\n      <th>Neighborhood_north</th>\n      <th>Neighborhood_northeast</th>\n      <th>Neighborhood_northwest</th>\n      <th>Neighborhood_southeast</th>\n      <th>Neighborhood_southwest</th>\n    </tr>\n  </thead>\n  <tbody>\n    <tr>\n      <th>0</th>\n      <td>-0.28933</td>\n      <td>-1.13961</td>\n      <td>-1.12328</td>\n      <td>-0.93852</td>\n      <td>-0.44866</td>\n      <td>0.00000</td>\n      <td>0.00000</td>\n      <td>1.00000</td>\n      <td>0.00000</td>\n      <td>0.00000</td>\n      <td>...</td>\n      <td>0.00000</td>\n      <td>0.00000</td>\n      <td>0.00000</td>\n      <td>0.00000</td>\n      <td>0.00000</td>\n      <td>0.00000</td>\n      <td>0.00000</td>\n      <td>0.00000</td>\n      <td>0.00000</td>\n      <td>0.00000</td>\n    </tr>\n    <tr>\n      <th>1</th>\n      <td>-0.79857</td>\n      <td>-0.87820</td>\n      <td>-0.85098</td>\n      <td>0.94526</td>\n      <td>1.98306</td>\n      <td>0.00000</td>\n      <td>0.00000</td>\n      <td>0.00000</td>\n      <td>0.00000</td>\n      <td>1.00000</td>\n      <td>...</td>\n      <td>0.00000</td>\n      <td>0.00000</td>\n      <td>1.00000</td>\n      <td>0.00000</td>\n      <td>0.00000</td>\n      <td>0.00000</td>\n      <td>0.00000</td>\n      <td>0.00000</td>\n      <td>0.00000</td>\n      <td>0.00000</td>\n    </tr>\n    <tr>\n      <th>2</th>\n      <td>-0.28933</td>\n      <td>-0.91630</td>\n      <td>-0.89067</td>\n      <td>-0.93852</td>\n      <td>-0.44866</td>\n      <td>0.00000</td>\n      <td>0.00000</td>\n      <td>1.00000</td>\n      <td>0.00000</td>\n      <td>0.00000</td>\n      <td>...</td>\n      <td>0.00000</td>\n      <td>0.00000</td>\n      <td>1.00000</td>\n      <td>0.00000</td>\n      <td>0.00000</td>\n      <td>0.00000</td>\n      <td>0.00000</td>\n      <td>0.00000</td>\n      <td>0.00000</td>\n      <td>0.00000</td>\n    </tr>\n    <tr>\n      <th>3</th>\n      <td>2.16461</td>\n      <td>0.34101</td>\n      <td>0.41897</td>\n      <td>-0.93852</td>\n      <td>-0.44866</td>\n      <td>0.00000</td>\n      <td>1.00000</td>\n      <td>0.00000</td>\n      <td>0.00000</td>\n      <td>0.00000</td>\n      <td>...</td>\n      <td>0.00000</td>\n      <td>0.00000</td>\n      <td>1.00000</td>\n      <td>0.00000</td>\n      <td>0.00000</td>\n      <td>0.00000</td>\n      <td>0.00000</td>\n      <td>0.00000</td>\n      <td>0.00000</td>\n      <td>0.00000</td>\n    </tr>\n    <tr>\n      <th>4</th>\n      <td>-0.28933</td>\n      <td>-0.48466</td>\n      <td>-0.70166</td>\n      <td>0.79307</td>\n      <td>-0.44866</td>\n      <td>0.00000</td>\n      <td>0.00000</td>\n      <td>1.00000</td>\n      <td>0.00000</td>\n      <td>0.00000</td>\n      <td>...</td>\n      <td>0.00000</td>\n      <td>0.00000</td>\n      <td>1.00000</td>\n      <td>0.00000</td>\n      <td>0.00000</td>\n      <td>0.00000</td>\n      <td>0.00000</td>\n      <td>0.00000</td>\n      <td>0.00000</td>\n      <td>0.00000</td>\n    </tr>\n    <tr>\n      <th>...</th>\n      <td>...</td>\n      <td>...</td>\n      <td>...</td>\n      <td>...</td>\n      <td>...</td>\n      <td>...</td>\n      <td>...</td>\n      <td>...</td>\n      <td>...</td>\n      <td>...</td>\n      <td>...</td>\n      <td>...</td>\n      <td>...</td>\n      <td>...</td>\n      <td>...</td>\n      <td>...</td>\n      <td>...</td>\n      <td>...</td>\n      <td>...</td>\n      <td>...</td>\n      <td>...</td>\n    </tr>\n    <tr>\n      <th>3152</th>\n      <td>-0.28933</td>\n      <td>-0.32218</td>\n      <td>-0.57428</td>\n      <td>1.04481</td>\n      <td>2.33190</td>\n      <td>0.00000</td>\n      <td>0.00000</td>\n      <td>0.00000</td>\n      <td>0.00000</td>\n      <td>1.00000</td>\n      <td>...</td>\n      <td>0.00000</td>\n      <td>0.00000</td>\n      <td>0.00000</td>\n      <td>1.00000</td>\n      <td>0.00000</td>\n      <td>0.00000</td>\n      <td>0.00000</td>\n      <td>0.00000</td>\n      <td>0.00000</td>\n      <td>0.00000</td>\n    </tr>\n    <tr>\n      <th>3153</th>\n      <td>0.10566</td>\n      <td>-0.47582</td>\n      <td>-0.43186</td>\n      <td>-0.93852</td>\n      <td>-0.44866</td>\n      <td>0.00000</td>\n      <td>0.00000</td>\n      <td>1.00000</td>\n      <td>0.00000</td>\n      <td>0.00000</td>\n      <td>...</td>\n      <td>0.00000</td>\n      <td>0.00000</td>\n      <td>0.00000</td>\n      <td>1.00000</td>\n      <td>0.00000</td>\n      <td>0.00000</td>\n      <td>0.00000</td>\n      <td>0.00000</td>\n      <td>0.00000</td>\n      <td>0.00000</td>\n    </tr>\n    <tr>\n      <th>3154</th>\n      <td>0.42840</td>\n      <td>-0.57254</td>\n      <td>-0.77069</td>\n      <td>0.94566</td>\n      <td>1.76717</td>\n      <td>0.00000</td>\n      <td>0.00000</td>\n      <td>0.00000</td>\n      <td>0.00000</td>\n      <td>1.00000</td>\n      <td>...</td>\n      <td>0.00000</td>\n      <td>0.00000</td>\n      <td>0.00000</td>\n      <td>1.00000</td>\n      <td>0.00000</td>\n      <td>0.00000</td>\n      <td>0.00000</td>\n      <td>0.00000</td>\n      <td>0.00000</td>\n      <td>0.00000</td>\n    </tr>\n    <tr>\n      <th>3155</th>\n      <td>-0.79857</td>\n      <td>-1.15221</td>\n      <td>-1.13640</td>\n      <td>0.92678</td>\n      <td>-0.44866</td>\n      <td>0.00000</td>\n      <td>0.00000</td>\n      <td>0.00000</td>\n      <td>0.00000</td>\n      <td>1.00000</td>\n      <td>...</td>\n      <td>0.00000</td>\n      <td>0.00000</td>\n      <td>0.00000</td>\n      <td>1.00000</td>\n      <td>0.00000</td>\n      <td>0.00000</td>\n      <td>0.00000</td>\n      <td>0.00000</td>\n      <td>0.00000</td>\n      <td>0.00000</td>\n    </tr>\n    <tr>\n      <th>3156</th>\n      <td>-1.51631</td>\n      <td>-1.28807</td>\n      <td>-1.27792</td>\n      <td>0.92678</td>\n      <td>1.67547</td>\n      <td>0.00000</td>\n      <td>0.00000</td>\n      <td>0.00000</td>\n      <td>0.00000</td>\n      <td>0.00000</td>\n      <td>...</td>\n      <td>0.00000</td>\n      <td>0.00000</td>\n      <td>1.00000</td>\n      <td>0.00000</td>\n      <td>0.00000</td>\n      <td>0.00000</td>\n      <td>0.00000</td>\n      <td>0.00000</td>\n      <td>0.00000</td>\n      <td>0.00000</td>\n    </tr>\n  </tbody>\n</table>\n<p>2209 rows × 49 columns</p>\n</div>"
     },
     "metadata": {},
     "output_type": "display_data"
    },
    {
     "data": {
      "text/plain": "      Log-NumberofFloors  Log-PropertyGFATotal  Log-PropertyGFABuilding(s)  \\\n10               1.79706               0.55025                     0.63692   \n13              -0.79857              -0.37559                    -0.32746   \n18              -0.79857              -0.99790                    -0.97567   \n19               0.10566              -0.69454                    -0.65968   \n24               0.10566              -0.19412                    -0.13843   \n...                  ...                   ...                         ...   \n3140            -0.79857              -0.87977                    -0.85262   \n3142             0.70127               0.65774                     0.74889   \n3143            -0.79857              -0.87977                    -0.85262   \n3147             0.10566              -0.38123                    -0.33333   \n3151            -0.79857              -0.56909                    -0.52901   \n\n      Log-SecondLargestPropertyUseTypeGFA  Log-ThirdLargestPropertyUseTypeGFA  \\\n10                               -0.93852                            -0.44866   \n13                               -0.93852                            -0.44866   \n18                                0.79059                            -0.44866   \n19                                0.73935                            -0.44866   \n24                                0.98149                            -0.44866   \n...                                   ...                                 ...   \n3140                             -0.93852                            -0.44866   \n3142                             -0.93852                            -0.44866   \n3143                             -0.93852                            -0.44866   \n3147                             -0.93852                            -0.44866   \n3151                              1.03782                             1.75481   \n\n      BuildingType_Campus  BuildingType_Multifamily HR (10+)  \\\n10                0.00000                            0.00000   \n13                0.00000                            0.00000   \n18                0.00000                            0.00000   \n19                0.00000                            0.00000   \n24                0.00000                            0.00000   \n...                   ...                                ...   \n3140              0.00000                            0.00000   \n3142              0.00000                            0.00000   \n3143              0.00000                            0.00000   \n3147              0.00000                            0.00000   \n3151              0.00000                            0.00000   \n\n      BuildingType_Multifamily LR (1-4)  BuildingType_Multifamily MR (5-9)  \\\n10                              0.00000                            0.00000   \n13                              0.00000                            0.00000   \n18                              0.00000                            0.00000   \n19                              1.00000                            0.00000   \n24                              1.00000                            0.00000   \n...                                 ...                                ...   \n3140                            0.00000                            0.00000   \n3142                            0.00000                            1.00000   \n3143                            0.00000                            0.00000   \n3147                            0.00000                            0.00000   \n3151                            0.00000                            0.00000   \n\n      BuildingType_NonResidential  ...  Neighborhood_downtown  \\\n10                        1.00000  ...                1.00000   \n13                        1.00000  ...                0.00000   \n18                        1.00000  ...                0.00000   \n19                        0.00000  ...                0.00000   \n24                        0.00000  ...                0.00000   \n...                           ...  ...                    ...   \n3140                      1.00000  ...                1.00000   \n3142                      0.00000  ...                1.00000   \n3143                      1.00000  ...                1.00000   \n3147                      1.00000  ...                0.00000   \n3151                      1.00000  ...                0.00000   \n\n      Neighborhood_east  Neighborhood_greater duwamish  \\\n10              0.00000                        0.00000   \n13              0.00000                        0.00000   \n18              0.00000                        0.00000   \n19              0.00000                        0.00000   \n24              0.00000                        0.00000   \n...                 ...                            ...   \n3140            0.00000                        0.00000   \n3142            0.00000                        0.00000   \n3143            0.00000                        0.00000   \n3147            1.00000                        0.00000   \n3151            0.00000                        0.00000   \n\n      Neighborhood_lake union  Neighborhood_magnolia / queen anne  \\\n10                    0.00000                             0.00000   \n13                    0.00000                             0.00000   \n18                    0.00000                             0.00000   \n19                    0.00000                             0.00000   \n24                    0.00000                             0.00000   \n...                       ...                                 ...   \n3140                  0.00000                             0.00000   \n3142                  0.00000                             0.00000   \n3143                  0.00000                             0.00000   \n3147                  0.00000                             0.00000   \n3151                  1.00000                             0.00000   \n\n      Neighborhood_north  Neighborhood_northeast  Neighborhood_northwest  \\\n10               0.00000                 0.00000                 0.00000   \n13               0.00000                 0.00000                 0.00000   \n18               0.00000                 0.00000                 0.00000   \n19               0.00000                 0.00000                 1.00000   \n24               0.00000                 0.00000                 0.00000   \n...                  ...                     ...                     ...   \n3140             0.00000                 0.00000                 0.00000   \n3142             0.00000                 0.00000                 0.00000   \n3143             0.00000                 0.00000                 0.00000   \n3147             0.00000                 0.00000                 0.00000   \n3151             0.00000                 0.00000                 0.00000   \n\n      Neighborhood_southeast  Neighborhood_southwest  \n10                   0.00000                 0.00000  \n13                   0.00000                 0.00000  \n18                   0.00000                 0.00000  \n19                   0.00000                 0.00000  \n24                   0.00000                 0.00000  \n...                      ...                     ...  \n3140                 0.00000                 0.00000  \n3142                 0.00000                 0.00000  \n3143                 0.00000                 0.00000  \n3147                 0.00000                 0.00000  \n3151                 0.00000                 0.00000  \n\n[948 rows x 49 columns]",
      "text/html": "<div>\n<style scoped>\n    .dataframe tbody tr th:only-of-type {\n        vertical-align: middle;\n    }\n\n    .dataframe tbody tr th {\n        vertical-align: top;\n    }\n\n    .dataframe thead th {\n        text-align: right;\n    }\n</style>\n<table border=\"1\" class=\"dataframe\">\n  <thead>\n    <tr style=\"text-align: right;\">\n      <th></th>\n      <th>Log-NumberofFloors</th>\n      <th>Log-PropertyGFATotal</th>\n      <th>Log-PropertyGFABuilding(s)</th>\n      <th>Log-SecondLargestPropertyUseTypeGFA</th>\n      <th>Log-ThirdLargestPropertyUseTypeGFA</th>\n      <th>BuildingType_Campus</th>\n      <th>BuildingType_Multifamily HR (10+)</th>\n      <th>BuildingType_Multifamily LR (1-4)</th>\n      <th>BuildingType_Multifamily MR (5-9)</th>\n      <th>BuildingType_NonResidential</th>\n      <th>...</th>\n      <th>Neighborhood_downtown</th>\n      <th>Neighborhood_east</th>\n      <th>Neighborhood_greater duwamish</th>\n      <th>Neighborhood_lake union</th>\n      <th>Neighborhood_magnolia / queen anne</th>\n      <th>Neighborhood_north</th>\n      <th>Neighborhood_northeast</th>\n      <th>Neighborhood_northwest</th>\n      <th>Neighborhood_southeast</th>\n      <th>Neighborhood_southwest</th>\n    </tr>\n  </thead>\n  <tbody>\n    <tr>\n      <th>10</th>\n      <td>1.79706</td>\n      <td>0.55025</td>\n      <td>0.63692</td>\n      <td>-0.93852</td>\n      <td>-0.44866</td>\n      <td>0.00000</td>\n      <td>0.00000</td>\n      <td>0.00000</td>\n      <td>0.00000</td>\n      <td>1.00000</td>\n      <td>...</td>\n      <td>1.00000</td>\n      <td>0.00000</td>\n      <td>0.00000</td>\n      <td>0.00000</td>\n      <td>0.00000</td>\n      <td>0.00000</td>\n      <td>0.00000</td>\n      <td>0.00000</td>\n      <td>0.00000</td>\n      <td>0.00000</td>\n    </tr>\n    <tr>\n      <th>13</th>\n      <td>-0.79857</td>\n      <td>-0.37559</td>\n      <td>-0.32746</td>\n      <td>-0.93852</td>\n      <td>-0.44866</td>\n      <td>0.00000</td>\n      <td>0.00000</td>\n      <td>0.00000</td>\n      <td>0.00000</td>\n      <td>1.00000</td>\n      <td>...</td>\n      <td>0.00000</td>\n      <td>0.00000</td>\n      <td>0.00000</td>\n      <td>0.00000</td>\n      <td>0.00000</td>\n      <td>0.00000</td>\n      <td>0.00000</td>\n      <td>0.00000</td>\n      <td>0.00000</td>\n      <td>0.00000</td>\n    </tr>\n    <tr>\n      <th>18</th>\n      <td>-0.79857</td>\n      <td>-0.99790</td>\n      <td>-0.97567</td>\n      <td>0.79059</td>\n      <td>-0.44866</td>\n      <td>0.00000</td>\n      <td>0.00000</td>\n      <td>0.00000</td>\n      <td>0.00000</td>\n      <td>1.00000</td>\n      <td>...</td>\n      <td>0.00000</td>\n      <td>0.00000</td>\n      <td>0.00000</td>\n      <td>0.00000</td>\n      <td>0.00000</td>\n      <td>0.00000</td>\n      <td>0.00000</td>\n      <td>0.00000</td>\n      <td>0.00000</td>\n      <td>0.00000</td>\n    </tr>\n    <tr>\n      <th>19</th>\n      <td>0.10566</td>\n      <td>-0.69454</td>\n      <td>-0.65968</td>\n      <td>0.73935</td>\n      <td>-0.44866</td>\n      <td>0.00000</td>\n      <td>0.00000</td>\n      <td>1.00000</td>\n      <td>0.00000</td>\n      <td>0.00000</td>\n      <td>...</td>\n      <td>0.00000</td>\n      <td>0.00000</td>\n      <td>0.00000</td>\n      <td>0.00000</td>\n      <td>0.00000</td>\n      <td>0.00000</td>\n      <td>0.00000</td>\n      <td>1.00000</td>\n      <td>0.00000</td>\n      <td>0.00000</td>\n    </tr>\n    <tr>\n      <th>24</th>\n      <td>0.10566</td>\n      <td>-0.19412</td>\n      <td>-0.13843</td>\n      <td>0.98149</td>\n      <td>-0.44866</td>\n      <td>0.00000</td>\n      <td>0.00000</td>\n      <td>1.00000</td>\n      <td>0.00000</td>\n      <td>0.00000</td>\n      <td>...</td>\n      <td>0.00000</td>\n      <td>0.00000</td>\n      <td>0.00000</td>\n      <td>0.00000</td>\n      <td>0.00000</td>\n      <td>0.00000</td>\n      <td>0.00000</td>\n      <td>0.00000</td>\n      <td>0.00000</td>\n      <td>0.00000</td>\n    </tr>\n    <tr>\n      <th>...</th>\n      <td>...</td>\n      <td>...</td>\n      <td>...</td>\n      <td>...</td>\n      <td>...</td>\n      <td>...</td>\n      <td>...</td>\n      <td>...</td>\n      <td>...</td>\n      <td>...</td>\n      <td>...</td>\n      <td>...</td>\n      <td>...</td>\n      <td>...</td>\n      <td>...</td>\n      <td>...</td>\n      <td>...</td>\n      <td>...</td>\n      <td>...</td>\n      <td>...</td>\n      <td>...</td>\n    </tr>\n    <tr>\n      <th>3140</th>\n      <td>-0.79857</td>\n      <td>-0.87977</td>\n      <td>-0.85262</td>\n      <td>-0.93852</td>\n      <td>-0.44866</td>\n      <td>0.00000</td>\n      <td>0.00000</td>\n      <td>0.00000</td>\n      <td>0.00000</td>\n      <td>1.00000</td>\n      <td>...</td>\n      <td>1.00000</td>\n      <td>0.00000</td>\n      <td>0.00000</td>\n      <td>0.00000</td>\n      <td>0.00000</td>\n      <td>0.00000</td>\n      <td>0.00000</td>\n      <td>0.00000</td>\n      <td>0.00000</td>\n      <td>0.00000</td>\n    </tr>\n    <tr>\n      <th>3142</th>\n      <td>0.70127</td>\n      <td>0.65774</td>\n      <td>0.74889</td>\n      <td>-0.93852</td>\n      <td>-0.44866</td>\n      <td>0.00000</td>\n      <td>0.00000</td>\n      <td>0.00000</td>\n      <td>1.00000</td>\n      <td>0.00000</td>\n      <td>...</td>\n      <td>1.00000</td>\n      <td>0.00000</td>\n      <td>0.00000</td>\n      <td>0.00000</td>\n      <td>0.00000</td>\n      <td>0.00000</td>\n      <td>0.00000</td>\n      <td>0.00000</td>\n      <td>0.00000</td>\n      <td>0.00000</td>\n    </tr>\n    <tr>\n      <th>3143</th>\n      <td>-0.79857</td>\n      <td>-0.87977</td>\n      <td>-0.85262</td>\n      <td>-0.93852</td>\n      <td>-0.44866</td>\n      <td>0.00000</td>\n      <td>0.00000</td>\n      <td>0.00000</td>\n      <td>0.00000</td>\n      <td>1.00000</td>\n      <td>...</td>\n      <td>1.00000</td>\n      <td>0.00000</td>\n      <td>0.00000</td>\n      <td>0.00000</td>\n      <td>0.00000</td>\n      <td>0.00000</td>\n      <td>0.00000</td>\n      <td>0.00000</td>\n      <td>0.00000</td>\n      <td>0.00000</td>\n    </tr>\n    <tr>\n      <th>3147</th>\n      <td>0.10566</td>\n      <td>-0.38123</td>\n      <td>-0.33333</td>\n      <td>-0.93852</td>\n      <td>-0.44866</td>\n      <td>0.00000</td>\n      <td>0.00000</td>\n      <td>0.00000</td>\n      <td>0.00000</td>\n      <td>1.00000</td>\n      <td>...</td>\n      <td>0.00000</td>\n      <td>1.00000</td>\n      <td>0.00000</td>\n      <td>0.00000</td>\n      <td>0.00000</td>\n      <td>0.00000</td>\n      <td>0.00000</td>\n      <td>0.00000</td>\n      <td>0.00000</td>\n      <td>0.00000</td>\n    </tr>\n    <tr>\n      <th>3151</th>\n      <td>-0.79857</td>\n      <td>-0.56909</td>\n      <td>-0.52901</td>\n      <td>1.03782</td>\n      <td>1.75481</td>\n      <td>0.00000</td>\n      <td>0.00000</td>\n      <td>0.00000</td>\n      <td>0.00000</td>\n      <td>1.00000</td>\n      <td>...</td>\n      <td>0.00000</td>\n      <td>0.00000</td>\n      <td>0.00000</td>\n      <td>1.00000</td>\n      <td>0.00000</td>\n      <td>0.00000</td>\n      <td>0.00000</td>\n      <td>0.00000</td>\n      <td>0.00000</td>\n      <td>0.00000</td>\n    </tr>\n  </tbody>\n</table>\n<p>948 rows × 49 columns</p>\n</div>"
     },
     "metadata": {},
     "output_type": "display_data"
    },
    {
     "name": "stdout",
     "output_type": "stream",
     "text": [
      "(2209,) (948,)\n"
     ]
    }
   ],
   "source": [
    "print(\"We can start now the modelling to predict the feature wanted.\")\n",
    "\n",
    "display(X_train_std_encoded)\n",
    "display(X_test_std_encoded)\n",
    "print(y_train.shape, y_test.shape)"
   ],
   "metadata": {
    "collapsed": false,
    "pycharm": {
     "name": "#%%\n"
    }
   }
  },
  {
   "cell_type": "code",
   "execution_count": 932,
   "outputs": [],
   "source": [
    "from sklearn.model_selection import GridSearchCV\n",
    "from sklearn.metrics import mean_squared_error"
   ],
   "metadata": {
    "collapsed": false,
    "pycharm": {
     "name": "#%%\n"
    }
   }
  },
  {
   "cell_type": "code",
   "execution_count": 933,
   "outputs": [
    {
     "name": "stdout",
     "output_type": "stream",
     "text": [
      "We rename X_train_std_encoded to X_train, the same for X_test.\n"
     ]
    },
    {
     "data": {
      "text/plain": "      Log-NumberofFloors  Log-PropertyGFATotal  Log-PropertyGFABuilding(s)  \\\n10               1.79706               0.55025                     0.63692   \n13              -0.79857              -0.37559                    -0.32746   \n18              -0.79857              -0.99790                    -0.97567   \n19               0.10566              -0.69454                    -0.65968   \n24               0.10566              -0.19412                    -0.13843   \n...                  ...                   ...                         ...   \n3140            -0.79857              -0.87977                    -0.85262   \n3142             0.70127               0.65774                     0.74889   \n3143            -0.79857              -0.87977                    -0.85262   \n3147             0.10566              -0.38123                    -0.33333   \n3151            -0.79857              -0.56909                    -0.52901   \n\n      Log-SecondLargestPropertyUseTypeGFA  Log-ThirdLargestPropertyUseTypeGFA  \\\n10                               -0.93852                            -0.44866   \n13                               -0.93852                            -0.44866   \n18                                0.79059                            -0.44866   \n19                                0.73935                            -0.44866   \n24                                0.98149                            -0.44866   \n...                                   ...                                 ...   \n3140                             -0.93852                            -0.44866   \n3142                             -0.93852                            -0.44866   \n3143                             -0.93852                            -0.44866   \n3147                             -0.93852                            -0.44866   \n3151                              1.03782                             1.75481   \n\n      BuildingType_Campus  BuildingType_Multifamily HR (10+)  \\\n10                0.00000                            0.00000   \n13                0.00000                            0.00000   \n18                0.00000                            0.00000   \n19                0.00000                            0.00000   \n24                0.00000                            0.00000   \n...                   ...                                ...   \n3140              0.00000                            0.00000   \n3142              0.00000                            0.00000   \n3143              0.00000                            0.00000   \n3147              0.00000                            0.00000   \n3151              0.00000                            0.00000   \n\n      BuildingType_Multifamily LR (1-4)  BuildingType_Multifamily MR (5-9)  \\\n10                              0.00000                            0.00000   \n13                              0.00000                            0.00000   \n18                              0.00000                            0.00000   \n19                              1.00000                            0.00000   \n24                              1.00000                            0.00000   \n...                                 ...                                ...   \n3140                            0.00000                            0.00000   \n3142                            0.00000                            1.00000   \n3143                            0.00000                            0.00000   \n3147                            0.00000                            0.00000   \n3151                            0.00000                            0.00000   \n\n      BuildingType_NonResidential  ...  Neighborhood_downtown  \\\n10                        1.00000  ...                1.00000   \n13                        1.00000  ...                0.00000   \n18                        1.00000  ...                0.00000   \n19                        0.00000  ...                0.00000   \n24                        0.00000  ...                0.00000   \n...                           ...  ...                    ...   \n3140                      1.00000  ...                1.00000   \n3142                      0.00000  ...                1.00000   \n3143                      1.00000  ...                1.00000   \n3147                      1.00000  ...                0.00000   \n3151                      1.00000  ...                0.00000   \n\n      Neighborhood_east  Neighborhood_greater duwamish  \\\n10              0.00000                        0.00000   \n13              0.00000                        0.00000   \n18              0.00000                        0.00000   \n19              0.00000                        0.00000   \n24              0.00000                        0.00000   \n...                 ...                            ...   \n3140            0.00000                        0.00000   \n3142            0.00000                        0.00000   \n3143            0.00000                        0.00000   \n3147            1.00000                        0.00000   \n3151            0.00000                        0.00000   \n\n      Neighborhood_lake union  Neighborhood_magnolia / queen anne  \\\n10                    0.00000                             0.00000   \n13                    0.00000                             0.00000   \n18                    0.00000                             0.00000   \n19                    0.00000                             0.00000   \n24                    0.00000                             0.00000   \n...                       ...                                 ...   \n3140                  0.00000                             0.00000   \n3142                  0.00000                             0.00000   \n3143                  0.00000                             0.00000   \n3147                  0.00000                             0.00000   \n3151                  1.00000                             0.00000   \n\n      Neighborhood_north  Neighborhood_northeast  Neighborhood_northwest  \\\n10               0.00000                 0.00000                 0.00000   \n13               0.00000                 0.00000                 0.00000   \n18               0.00000                 0.00000                 0.00000   \n19               0.00000                 0.00000                 1.00000   \n24               0.00000                 0.00000                 0.00000   \n...                  ...                     ...                     ...   \n3140             0.00000                 0.00000                 0.00000   \n3142             0.00000                 0.00000                 0.00000   \n3143             0.00000                 0.00000                 0.00000   \n3147             0.00000                 0.00000                 0.00000   \n3151             0.00000                 0.00000                 0.00000   \n\n      Neighborhood_southeast  Neighborhood_southwest  \n10                   0.00000                 0.00000  \n13                   0.00000                 0.00000  \n18                   0.00000                 0.00000  \n19                   0.00000                 0.00000  \n24                   0.00000                 0.00000  \n...                      ...                     ...  \n3140                 0.00000                 0.00000  \n3142                 0.00000                 0.00000  \n3143                 0.00000                 0.00000  \n3147                 0.00000                 0.00000  \n3151                 0.00000                 0.00000  \n\n[948 rows x 49 columns]",
      "text/html": "<div>\n<style scoped>\n    .dataframe tbody tr th:only-of-type {\n        vertical-align: middle;\n    }\n\n    .dataframe tbody tr th {\n        vertical-align: top;\n    }\n\n    .dataframe thead th {\n        text-align: right;\n    }\n</style>\n<table border=\"1\" class=\"dataframe\">\n  <thead>\n    <tr style=\"text-align: right;\">\n      <th></th>\n      <th>Log-NumberofFloors</th>\n      <th>Log-PropertyGFATotal</th>\n      <th>Log-PropertyGFABuilding(s)</th>\n      <th>Log-SecondLargestPropertyUseTypeGFA</th>\n      <th>Log-ThirdLargestPropertyUseTypeGFA</th>\n      <th>BuildingType_Campus</th>\n      <th>BuildingType_Multifamily HR (10+)</th>\n      <th>BuildingType_Multifamily LR (1-4)</th>\n      <th>BuildingType_Multifamily MR (5-9)</th>\n      <th>BuildingType_NonResidential</th>\n      <th>...</th>\n      <th>Neighborhood_downtown</th>\n      <th>Neighborhood_east</th>\n      <th>Neighborhood_greater duwamish</th>\n      <th>Neighborhood_lake union</th>\n      <th>Neighborhood_magnolia / queen anne</th>\n      <th>Neighborhood_north</th>\n      <th>Neighborhood_northeast</th>\n      <th>Neighborhood_northwest</th>\n      <th>Neighborhood_southeast</th>\n      <th>Neighborhood_southwest</th>\n    </tr>\n  </thead>\n  <tbody>\n    <tr>\n      <th>10</th>\n      <td>1.79706</td>\n      <td>0.55025</td>\n      <td>0.63692</td>\n      <td>-0.93852</td>\n      <td>-0.44866</td>\n      <td>0.00000</td>\n      <td>0.00000</td>\n      <td>0.00000</td>\n      <td>0.00000</td>\n      <td>1.00000</td>\n      <td>...</td>\n      <td>1.00000</td>\n      <td>0.00000</td>\n      <td>0.00000</td>\n      <td>0.00000</td>\n      <td>0.00000</td>\n      <td>0.00000</td>\n      <td>0.00000</td>\n      <td>0.00000</td>\n      <td>0.00000</td>\n      <td>0.00000</td>\n    </tr>\n    <tr>\n      <th>13</th>\n      <td>-0.79857</td>\n      <td>-0.37559</td>\n      <td>-0.32746</td>\n      <td>-0.93852</td>\n      <td>-0.44866</td>\n      <td>0.00000</td>\n      <td>0.00000</td>\n      <td>0.00000</td>\n      <td>0.00000</td>\n      <td>1.00000</td>\n      <td>...</td>\n      <td>0.00000</td>\n      <td>0.00000</td>\n      <td>0.00000</td>\n      <td>0.00000</td>\n      <td>0.00000</td>\n      <td>0.00000</td>\n      <td>0.00000</td>\n      <td>0.00000</td>\n      <td>0.00000</td>\n      <td>0.00000</td>\n    </tr>\n    <tr>\n      <th>18</th>\n      <td>-0.79857</td>\n      <td>-0.99790</td>\n      <td>-0.97567</td>\n      <td>0.79059</td>\n      <td>-0.44866</td>\n      <td>0.00000</td>\n      <td>0.00000</td>\n      <td>0.00000</td>\n      <td>0.00000</td>\n      <td>1.00000</td>\n      <td>...</td>\n      <td>0.00000</td>\n      <td>0.00000</td>\n      <td>0.00000</td>\n      <td>0.00000</td>\n      <td>0.00000</td>\n      <td>0.00000</td>\n      <td>0.00000</td>\n      <td>0.00000</td>\n      <td>0.00000</td>\n      <td>0.00000</td>\n    </tr>\n    <tr>\n      <th>19</th>\n      <td>0.10566</td>\n      <td>-0.69454</td>\n      <td>-0.65968</td>\n      <td>0.73935</td>\n      <td>-0.44866</td>\n      <td>0.00000</td>\n      <td>0.00000</td>\n      <td>1.00000</td>\n      <td>0.00000</td>\n      <td>0.00000</td>\n      <td>...</td>\n      <td>0.00000</td>\n      <td>0.00000</td>\n      <td>0.00000</td>\n      <td>0.00000</td>\n      <td>0.00000</td>\n      <td>0.00000</td>\n      <td>0.00000</td>\n      <td>1.00000</td>\n      <td>0.00000</td>\n      <td>0.00000</td>\n    </tr>\n    <tr>\n      <th>24</th>\n      <td>0.10566</td>\n      <td>-0.19412</td>\n      <td>-0.13843</td>\n      <td>0.98149</td>\n      <td>-0.44866</td>\n      <td>0.00000</td>\n      <td>0.00000</td>\n      <td>1.00000</td>\n      <td>0.00000</td>\n      <td>0.00000</td>\n      <td>...</td>\n      <td>0.00000</td>\n      <td>0.00000</td>\n      <td>0.00000</td>\n      <td>0.00000</td>\n      <td>0.00000</td>\n      <td>0.00000</td>\n      <td>0.00000</td>\n      <td>0.00000</td>\n      <td>0.00000</td>\n      <td>0.00000</td>\n    </tr>\n    <tr>\n      <th>...</th>\n      <td>...</td>\n      <td>...</td>\n      <td>...</td>\n      <td>...</td>\n      <td>...</td>\n      <td>...</td>\n      <td>...</td>\n      <td>...</td>\n      <td>...</td>\n      <td>...</td>\n      <td>...</td>\n      <td>...</td>\n      <td>...</td>\n      <td>...</td>\n      <td>...</td>\n      <td>...</td>\n      <td>...</td>\n      <td>...</td>\n      <td>...</td>\n      <td>...</td>\n      <td>...</td>\n    </tr>\n    <tr>\n      <th>3140</th>\n      <td>-0.79857</td>\n      <td>-0.87977</td>\n      <td>-0.85262</td>\n      <td>-0.93852</td>\n      <td>-0.44866</td>\n      <td>0.00000</td>\n      <td>0.00000</td>\n      <td>0.00000</td>\n      <td>0.00000</td>\n      <td>1.00000</td>\n      <td>...</td>\n      <td>1.00000</td>\n      <td>0.00000</td>\n      <td>0.00000</td>\n      <td>0.00000</td>\n      <td>0.00000</td>\n      <td>0.00000</td>\n      <td>0.00000</td>\n      <td>0.00000</td>\n      <td>0.00000</td>\n      <td>0.00000</td>\n    </tr>\n    <tr>\n      <th>3142</th>\n      <td>0.70127</td>\n      <td>0.65774</td>\n      <td>0.74889</td>\n      <td>-0.93852</td>\n      <td>-0.44866</td>\n      <td>0.00000</td>\n      <td>0.00000</td>\n      <td>0.00000</td>\n      <td>1.00000</td>\n      <td>0.00000</td>\n      <td>...</td>\n      <td>1.00000</td>\n      <td>0.00000</td>\n      <td>0.00000</td>\n      <td>0.00000</td>\n      <td>0.00000</td>\n      <td>0.00000</td>\n      <td>0.00000</td>\n      <td>0.00000</td>\n      <td>0.00000</td>\n      <td>0.00000</td>\n    </tr>\n    <tr>\n      <th>3143</th>\n      <td>-0.79857</td>\n      <td>-0.87977</td>\n      <td>-0.85262</td>\n      <td>-0.93852</td>\n      <td>-0.44866</td>\n      <td>0.00000</td>\n      <td>0.00000</td>\n      <td>0.00000</td>\n      <td>0.00000</td>\n      <td>1.00000</td>\n      <td>...</td>\n      <td>1.00000</td>\n      <td>0.00000</td>\n      <td>0.00000</td>\n      <td>0.00000</td>\n      <td>0.00000</td>\n      <td>0.00000</td>\n      <td>0.00000</td>\n      <td>0.00000</td>\n      <td>0.00000</td>\n      <td>0.00000</td>\n    </tr>\n    <tr>\n      <th>3147</th>\n      <td>0.10566</td>\n      <td>-0.38123</td>\n      <td>-0.33333</td>\n      <td>-0.93852</td>\n      <td>-0.44866</td>\n      <td>0.00000</td>\n      <td>0.00000</td>\n      <td>0.00000</td>\n      <td>0.00000</td>\n      <td>1.00000</td>\n      <td>...</td>\n      <td>0.00000</td>\n      <td>1.00000</td>\n      <td>0.00000</td>\n      <td>0.00000</td>\n      <td>0.00000</td>\n      <td>0.00000</td>\n      <td>0.00000</td>\n      <td>0.00000</td>\n      <td>0.00000</td>\n      <td>0.00000</td>\n    </tr>\n    <tr>\n      <th>3151</th>\n      <td>-0.79857</td>\n      <td>-0.56909</td>\n      <td>-0.52901</td>\n      <td>1.03782</td>\n      <td>1.75481</td>\n      <td>0.00000</td>\n      <td>0.00000</td>\n      <td>0.00000</td>\n      <td>0.00000</td>\n      <td>1.00000</td>\n      <td>...</td>\n      <td>0.00000</td>\n      <td>0.00000</td>\n      <td>0.00000</td>\n      <td>1.00000</td>\n      <td>0.00000</td>\n      <td>0.00000</td>\n      <td>0.00000</td>\n      <td>0.00000</td>\n      <td>0.00000</td>\n      <td>0.00000</td>\n    </tr>\n  </tbody>\n</table>\n<p>948 rows × 49 columns</p>\n</div>"
     },
     "execution_count": 933,
     "metadata": {},
     "output_type": "execute_result"
    }
   ],
   "source": [
    "print(\"We rename X_train_std_encoded to X_train, the same for X_test.\")\n",
    "X_train = X_train_std_encoded.copy()\n",
    "X_test = X_test_std_encoded.copy()\n",
    "\n",
    "X_train\n",
    "X_test"
   ],
   "metadata": {
    "collapsed": false,
    "pycharm": {
     "name": "#%%\n"
    }
   }
  },
  {
   "cell_type": "markdown",
   "source": [
    "### 1) Linear modelling : Linear Regression / Ridge Regression / Lasso / Elastic Net\n"
   ],
   "metadata": {
    "collapsed": false,
    "pycharm": {
     "name": "#%% md\n"
    }
   }
  },
  {
   "cell_type": "code",
   "execution_count": 934,
   "outputs": [
    {
     "data": {
      "text/plain": "(2209, 49)"
     },
     "execution_count": 934,
     "metadata": {},
     "output_type": "execute_result"
    }
   ],
   "source": [
    "X_train.shape"
   ],
   "metadata": {
    "collapsed": false,
    "pycharm": {
     "name": "#%%\n"
    }
   }
  },
  {
   "cell_type": "code",
   "execution_count": 935,
   "outputs": [
    {
     "data": {
      "text/plain": "(948, 49)"
     },
     "execution_count": 935,
     "metadata": {},
     "output_type": "execute_result"
    }
   ],
   "source": [
    "X_test.shape"
   ],
   "metadata": {
    "collapsed": false,
    "pycharm": {
     "name": "#%%\n"
    }
   }
  },
  {
   "cell_type": "markdown",
   "source": [
    "#### 1) Dummy Regression : baseline"
   ],
   "metadata": {
    "collapsed": false,
    "pycharm": {
     "name": "#%% md\n"
    }
   }
  },
  {
   "cell_type": "code",
   "execution_count": 936,
   "outputs": [],
   "source": [
    "from sklearn.metrics import mean_absolute_error, r2_score, mean_squared_error, median_absolute_error\n",
    "\n",
    "pd.set_option('display.float_format', lambda x: '%.5f' % x)\n",
    "\n",
    "global results\n",
    "results = pd.DataFrame({})\n",
    "\n",
    "def evaluate_regression(model_name, results, y_test, y_pred):\n",
    "    print(\"Prediction for : \", variable_to_predict)\n",
    "    mse = mean_squared_error(y_test, y_pred)\n",
    "    rmse = np.sqrt(mean_squared_error(y_test, y_pred))\n",
    "    mae = mean_absolute_error(y_test,y_pred)\n",
    "    median_ae = median_absolute_error(y_test, y_pred)\n",
    "    r2 = r2_score(y_test, y_pred)\n",
    "\n",
    "    #print(\"RMSE : {:.2f}\".format(rmse))\n",
    "    #print(\"MAE : {:.2f}\".format(mae))\n",
    "    #print(\"MSE : {:.2f}\".format(mse))\n",
    "    #print(\"R² : {:.2f}\".format(r2))\n",
    "    results = pd.concat([results, pd.DataFrame({\"Model\" : [model_name],\n",
    "                               \"RMSE\" : [rmse],\n",
    "                                \"MSE\": [mse],\n",
    "                                \"MAE\" : [mae],\n",
    "                                \"Median Absolute Error\": [median_ae],\n",
    "                               \"R² = 1 - RSE\" : [r2]})])\n",
    "    display(results)\n",
    "\n",
    "    # 2) graph\n",
    "    plt.title(\"Scatter plot of the predicted values as a function of the true values.\")\n",
    "    plt.legend(\"If the prediction was good, we would see a line.\")\n",
    "    plt.figure(0)\n",
    "    plt.scatter(y_test, y_pred, color='coral')\n",
    "\n",
    "    plt.title(\"Distribution of the prediction errors\")\n",
    "    err_hist = np.abs(y_test - y_pred)\n",
    "    plt.figure(1)\n",
    "    plt.hist(err_hist, bins=50, color='steelblue')\n",
    "\n",
    "    return  results\n"
   ],
   "metadata": {
    "collapsed": false,
    "pycharm": {
     "name": "#%%\n"
    }
   }
  },
  {
   "cell_type": "code",
   "execution_count": 937,
   "outputs": [],
   "source": [
    "def display_prediction(y_test, y_pred):\n",
    "    #plt.scatter(y_test, y_pred, color='coral')\n",
    "\n",
    "    sizes = {} # clé : coordonnées ; valeur : nombre de points à ces coordonnées\n",
    "    for (yt, yp) in zip(list(y_test), list(y_pred)):\n",
    "        if (yt, yp) in sizes:\n",
    "            sizes[(yt, yp)] += 1\n",
    "        else:\n",
    "            sizes[(yt, yp)] = 1\n",
    "\n",
    "    keys = sizes.keys()\n",
    "    plt.scatter(\n",
    "        [k[0] for k in keys], # vraie valeur (abscisse)\n",
    "        [k[1] for k in keys], # valeur predite (ordonnee)\n",
    "        s=[sizes[k] for k in keys], # taille du marqueur\n",
    "        color='coral', alpha =0.8)\n"
   ],
   "metadata": {
    "collapsed": false,
    "pycharm": {
     "name": "#%%\n"
    }
   }
  },
  {
   "cell_type": "code",
   "execution_count": 938,
   "outputs": [
    {
     "name": "stdout",
     "output_type": "stream",
     "text": [
      "Prediction for :  Log-Electricity(kBtu)\n"
     ]
    },
    {
     "data": {
      "text/plain": "             Model    RMSE     MSE     MAE  Median Absolute Error  \\\n0  Dummy Regressor 1.20512 1.45232 0.93011                0.77151   \n\n   R² = 1 - RSE  \n0      -0.00031  ",
      "text/html": "<div>\n<style scoped>\n    .dataframe tbody tr th:only-of-type {\n        vertical-align: middle;\n    }\n\n    .dataframe tbody tr th {\n        vertical-align: top;\n    }\n\n    .dataframe thead th {\n        text-align: right;\n    }\n</style>\n<table border=\"1\" class=\"dataframe\">\n  <thead>\n    <tr style=\"text-align: right;\">\n      <th></th>\n      <th>Model</th>\n      <th>RMSE</th>\n      <th>MSE</th>\n      <th>MAE</th>\n      <th>Median Absolute Error</th>\n      <th>R² = 1 - RSE</th>\n    </tr>\n  </thead>\n  <tbody>\n    <tr>\n      <th>0</th>\n      <td>Dummy Regressor</td>\n      <td>1.20512</td>\n      <td>1.45232</td>\n      <td>0.93011</td>\n      <td>0.77151</td>\n      <td>-0.00031</td>\n    </tr>\n  </tbody>\n</table>\n</div>"
     },
     "metadata": {},
     "output_type": "display_data"
    },
    {
     "data": {
      "text/plain": "<Figure size 432x288 with 1 Axes>",
      "image/png": "[encoded data removed]"
     },
     "metadata": {
      "needs_background": "light"
     },
     "output_type": "display_data"
    },
    {
     "data": {
      "text/plain": "<Figure size 432x288 with 1 Axes>",
      "image/png": "[encoded data removed]"
     },
     "metadata": {
      "needs_background": "light"
     },
     "output_type": "display_data"
    }
   ],
   "source": [
    "from sklearn import dummy\n",
    "\n",
    "# 0) We create a dummy regressor model that always predicts the mean value of the feature to predict\n",
    "dum = dummy.DummyRegressor(strategy='mean')\n",
    "\n",
    "# 1) Training Dummy Regression\n",
    "dum.fit(X_train, y_train)\n",
    "\n",
    "# 2) Prediction on the testing set\n",
    "y_pred_dum = dum.predict(X_test)\n",
    "\n",
    "# 3) Evaluate\n",
    "results = evaluate_regression(\"Dummy Regressor\", results, y_test, y_pred_dum)"
   ],
   "metadata": {
    "collapsed": false,
    "pycharm": {
     "name": "#%%\n"
    }
   }
  },
  {
   "cell_type": "code",
   "execution_count": 939,
   "outputs": [
    {
     "name": "stdout",
     "output_type": "stream",
     "text": [
      "R2 : -0.03270190493938796\n",
      "Baseline error = MSE : 1.4993397054106088\n",
      "Prediction for :  Log-Electricity(kBtu)\n"
     ]
    },
    {
     "data": {
      "text/plain": "               Model    RMSE     MSE     MAE  Median Absolute Error  \\\n0    Dummy Regressor 1.20512 1.45232 0.93011                0.77151   \n0  Linear Regression 1.22448 1.49934 0.94999                0.78491   \n\n   R² = 1 - RSE  \n0      -0.00031  \n0      -0.03270  ",
      "text/html": "<div>\n<style scoped>\n    .dataframe tbody tr th:only-of-type {\n        vertical-align: middle;\n    }\n\n    .dataframe tbody tr th {\n        vertical-align: top;\n    }\n\n    .dataframe thead th {\n        text-align: right;\n    }\n</style>\n<table border=\"1\" class=\"dataframe\">\n  <thead>\n    <tr style=\"text-align: right;\">\n      <th></th>\n      <th>Model</th>\n      <th>RMSE</th>\n      <th>MSE</th>\n      <th>MAE</th>\n      <th>Median Absolute Error</th>\n      <th>R² = 1 - RSE</th>\n    </tr>\n  </thead>\n  <tbody>\n    <tr>\n      <th>0</th>\n      <td>Dummy Regressor</td>\n      <td>1.20512</td>\n      <td>1.45232</td>\n      <td>0.93011</td>\n      <td>0.77151</td>\n      <td>-0.00031</td>\n    </tr>\n    <tr>\n      <th>0</th>\n      <td>Linear Regression</td>\n      <td>1.22448</td>\n      <td>1.49934</td>\n      <td>0.94999</td>\n      <td>0.78491</td>\n      <td>-0.03270</td>\n    </tr>\n  </tbody>\n</table>\n</div>"
     },
     "metadata": {},
     "output_type": "display_data"
    },
    {
     "data": {
      "text/plain": "<Figure size 432x288 with 1 Axes>",
      "image/png": "[encoded data removed]"
     },
     "metadata": {
      "needs_background": "light"
     },
     "output_type": "display_data"
    },
    {
     "data": {
      "text/plain": "<Figure size 432x288 with 1 Axes>",
      "image/png": "[encoded data removed]"
     },
     "metadata": {
      "needs_background": "light"
     },
     "output_type": "display_data"
    }
   ],
   "source": [
    "from sklearn import linear_model\n",
    "\n",
    "# 0) We create a linear regression model\n",
    "lr = linear_model.LinearRegression()\n",
    "\n",
    "# 1) Training Linear Regression and Evaluating\n",
    "reg = lr.fit(X_train, y_train)\n",
    "y_pred_lr = reg.predict(X_test)\n",
    "\n",
    "prediction_score = lr.score(X_test, y_test)\n",
    "print('R2 : {}'.format(prediction_score))\n",
    "\n",
    "baseline_error = mean_squared_error(y_test, y_pred_lr)\n",
    "print(\"Baseline error = MSE :\", baseline_error)\n",
    "\n",
    "results = evaluate_regression(\"Linear Regression\", results, y_test, y_pred_lr)"
   ],
   "metadata": {
    "collapsed": false,
    "pycharm": {
     "name": "#%%\n"
    }
   }
  },
  {
   "cell_type": "code",
   "execution_count": 940,
   "outputs": [
    {
     "data": {
      "text/plain": "array([14.21768492, 14.42377391, 14.63756753, 13.92653659, 13.31004388,\n       13.46603818, 13.96267978, 12.33985588, 14.26830381, 13.51311274,\n       13.61424713, 15.26071325, 13.61682179, 14.14646833, 17.65557814,\n       12.25588134, 13.69256748, 14.36394579, 15.52671522, 12.18009308,\n       14.95378449, 12.94122991, 12.65739346, 12.53080842, 15.9920483 ,\n       14.03547466, 13.89786076, 13.4331529 , 15.74110108, 14.75707364,\n       13.80086179, 13.09461595, 13.45397525, 13.56319306, 14.31062744,\n       14.93907786, 14.03222227, 13.673312  , 14.97370002, 15.28046036,\n       13.05708432, 14.42468248, 14.53225609, 13.19635706, 12.61086419,\n       13.2649821 , 13.82284063, 13.43371266, 13.73185391, 15.14080307,\n       11.1961029 , 13.1609512 , 14.1864484 , 15.80446747, 14.48022431,\n       13.38059913, 13.61354858, 15.90942905, 13.90036352, 14.4555876 ,\n       17.94582009, 14.38772606, 13.34410755, 15.59188072, 15.27903028,\n       13.05830474, 15.51420747, 14.50613857, 13.69080864, 16.87070339,\n       14.84912769, 14.38865443, 14.24798105, 12.97867082, 13.78463064,\n       14.44901123, 13.59774502, 16.39073068, 12.55135949, 13.84736091,\n       14.86394822, 14.85073389, 14.24585623, 13.68535176, 15.59582647,\n       13.99395126, 16.21164546, 16.06984467, 13.36158183, 13.03747629,\n       13.42751005, 13.66752318, 15.27088849, 12.51363822, 13.78370921,\n       13.73386548, 14.14089296, 13.37288394, 12.33265684, 15.26235919,\n       13.02316826, 13.15370118, 13.70643091, 15.77025854, 13.47369467,\n       13.66527587, 13.73654743, 13.41954667, 12.09051588, 15.7747578 ,\n       14.36867702, 15.04649202, 13.63481688, 13.57605341, 12.91176826,\n       14.04839531, 16.03089251, 14.27058454, 13.05245366, 15.82498795,\n       17.43977333, 14.555182  , 13.56533619, 13.02222255, 15.1159101 ,\n       14.20402006, 13.99046337, 13.67891963, 16.15198777, 15.48059394,\n       15.17246261, 13.30771201, 15.49368187, 19.43058019, 13.72391706,\n       13.47434332, 16.67606672, 18.82931605, 13.39947073, 14.45097248,\n       15.86989746, 15.38767496, 14.93174598, 14.68617527, 13.89201409,\n       15.45067547, 12.97570952, 15.28611918, 13.80968965, 13.87506449,\n       15.19707952, 14.24535148, 16.39948275, 16.89646829, 13.88829995,\n       13.40515903, 15.31190115, 12.54678232, 13.14652121, 13.85727994,\n       12.79769915, 12.09803076, 14.93586966, 14.24298827, 17.65519843,\n       13.69472389, 15.08041975, 14.33235424, 13.65688404, 16.3606463 ,\n       12.3959572 , 13.89356267, 14.99196375, 16.4010681 , 13.66933383,\n       15.13924497, 14.11121437, 13.12607249, 13.20932425, 15.09749663,\n       13.25796363, 16.9968136 , 18.75253397, 14.24534237, 16.69758678,\n       15.15928696, 14.03753348, 15.17400403, 13.11328631, 13.24626631,\n       15.96384492, 13.24826801, 14.06527501, 14.33340871, 14.13219982,\n       14.13156432, 13.31724078, 13.29392896, 13.88324958, 15.09599958,\n       14.7535393 , 15.85433321, 15.66637444, 12.71294748, 13.10464534,\n       14.1129063 , 13.57471462, 14.29438535, 14.39375349, 13.73133189,\n       13.43501851, 13.60867579, 13.68755104, 14.17775427, 15.29133616,\n       12.88751914, 14.48621426, 13.64598952, 16.25375956, 16.75167885,\n       13.96218594, 15.37696632, 13.65311633, 14.19269484, 13.08199961,\n       14.95947791, 13.16356482, 13.0299498 , 14.2670695 , 13.26202271,\n       14.09859332, 13.56062863, 13.6783222 , 13.88784982, 15.45151406,\n       15.0459169 , 14.34008109, 13.8427852 , 13.64805357, 15.23463772,\n       13.5474141 , 14.21156284, 13.26880729, 12.71977313, 13.34411236,\n       15.77878619, 14.18115733, 15.52147427, 13.89539048, 13.19829055,\n       14.68684995, 15.45958117, 13.6681074 , 13.34744265, 14.84482779,\n       13.90365513, 14.67212177, 15.40762549, 14.50590144, 14.02432067,\n       13.28613223, 14.9222494 , 13.16693896, 13.20362626, 14.38176654,\n       12.53051929, 14.70845856, 13.26138766, 14.6017951 , 14.57312579,\n       14.7438678 , 13.57809058, 14.39876865, 15.40591284, 13.11099702,\n       17.10323658, 13.29300027, 13.23046952, 12.82624852, 14.81181544,\n       13.87822805, 16.65964196, 14.73022284, 12.67091297, 12.63915616,\n       13.69562732, 13.98174169, 14.45106252, 13.65681724, 15.47060115,\n       14.25596629, 13.20116716, 12.98597992, 15.36203828, 14.34518659,\n       13.67421769, 13.24414729, 13.70492754, 13.53308001, 12.65564714,\n       14.42873211, 13.58574136, 15.8458816 , 14.34931259, 13.79020813,\n       13.34694589, 13.68312708, 17.9841498 , 12.76609692, 16.10667923,\n       14.71177979, 12.98678418, 13.37140701, 14.67734679, 15.3764668 ,\n       13.04497681, 15.50439124, 13.77235459, 13.64693213, 16.95851899,\n       12.57869771, 14.1177196 , 12.85062289, 11.82837833, 15.05664706,\n       13.44752763, 13.61156774, 12.68388632, 14.57047459, 15.31534809,\n       15.10255818, 16.32766201, 14.48429179, 13.37564498, 13.97077604,\n       14.80649606, 16.00184606, 13.66944957,  8.72241714, 14.37490346,\n       13.75543141, 11.72706056, 12.39583727, 13.54506835, 11.93002266,\n       15.83046411, 13.80342583, 15.58096678, 12.63231703, 13.1126241 ,\n       13.36033091, 13.20335702, 13.96653837, 13.24120718, 12.96592709,\n       12.98392166, 13.43183874, 12.54450724, 12.9950844 , 13.13717711,\n       14.36254583, 15.83420465, 13.99915457, 15.75390784, 13.84121924,\n       14.8622392 , 14.22667804, 14.06419241, 14.75708105, 15.85463584,\n       14.83870473, 14.41474149, 14.28020575, 13.30926277, 15.14725607,\n       17.49241479, 14.55783545, 14.81692044, 13.95175153, 14.51112968,\n       15.446081  , 13.6289424 , 14.11932825, 14.2008301 , 13.22880231,\n       13.44068474, 12.90433671, 16.13195477, 14.21809619, 13.93453283,\n       16.78064562, 14.43033505, 14.01050645, 15.9548023 , 13.13905726,\n       13.83947412, 16.49502815, 13.74726277, 14.73052367, 12.96852898,\n       14.76225251, 14.09765784, 13.39233708, 14.93507024, 13.6759036 ,\n       13.69096382, 12.33462416, 14.1798571 , 13.60927574, 14.03007017,\n       13.33772473, 15.15050531, 13.29606287, 14.47300465, 13.91127609,\n       12.54968717, 12.95141134, 16.01438633, 16.37049442, 12.15367875,\n       14.69571929, 12.91689765, 13.94849568, 13.84974579, 12.59803365,\n       15.82087718, 13.81130171, 17.04255632, 12.86676636, 14.22687755,\n       13.58779658, 13.94568231, 13.31358521, 13.83346049, 13.43679594,\n       13.04676229, 13.36072337, 12.95131642, 13.53699963, 13.71407898,\n       13.611721  , 14.28845361, 14.37369046, 14.79154119, 12.9072974 ,\n       13.60271082, 14.65447954, 13.22635936, 12.9476504 , 15.80867159,\n       15.87703924, 13.78176037, 15.14479955, 15.52542655, 12.96905834,\n       14.2626517 , 14.07384209, 12.69703938, 13.66013079, 13.40971139,\n       16.50586891, 13.61853658, 13.62011592, 14.09031178, 17.00289105,\n       16.1234303 , 14.54994506, 13.63048736, 15.19477049, 13.72196772,\n       11.72616412, 13.93644418, 13.65371725, 14.82921253, 14.84650153,\n       15.05933801, 11.83430582, 16.91271399, 14.36397815, 14.85728403,\n       13.96998119, 13.4799539 , 14.71914068, 15.92077347, 14.59049161,\n       13.17880798, 13.05094041, 13.7641341 , 13.59806947, 14.7399615 ,\n       13.16416345, 17.53427837, 13.32773718, 13.13350508, 13.29796071,\n       12.94732881, 12.63657177, 15.14996542, 13.76665324, 12.91750169,\n       12.9338676 , 13.79750442, 13.64003035, 13.52354064, 13.89466456,\n       12.75791462, 14.72103393, 16.69424065, 13.14448097, 15.60972169,\n       13.16121287, 14.94509036, 13.49763316, 13.51614449, 13.15597609,\n       15.28398334, 14.30861285, 13.98558324, 14.28809273, 13.31146026,\n       13.29251113, 16.3241579 , 13.08856251, 12.31313621, 14.42666864,\n       12.51175425, 14.08681169, 14.34612763, 13.35721889, 14.18130995,\n       13.26620222, 13.95733646, 16.80121992, 15.01578734, 14.78284301,\n       13.48915834, 14.92082798, 17.04662091, 15.04533267, 16.45350053,\n       13.29100174, 14.16858633, 12.42366884, 12.20342915, 13.79592399,\n       14.26470032, 12.77814764, 13.62075158, 12.74284376, 12.43196043,\n       13.51969953, 14.20359618, 13.21456692, 14.40295494, 14.28805097,\n       14.29726797, 15.15899397, 13.29840358, 17.62928942, 14.28957281,\n       16.58440678, 14.05787696, 13.95599137, 15.3776927 , 14.53948806,\n       16.60425894, 15.4984043 , 13.05586881, 17.00836408, 13.74016505,\n       15.60417039, 14.40688467, 13.61156774, 13.84995643, 13.34708808,\n       16.03545051, 15.35761009, 14.49771357, 14.98912054, 13.49042841,\n       15.07615014, 15.07278363, 12.10639595, 14.06745923, 13.45511298,\n       13.43232002, 15.1007374 , 12.54705612, 13.37554406, 14.37346268,\n       14.13428133, 14.01238405, 13.14111055, 14.49277934, 13.57134253,\n       12.24558658, 13.66597753, 15.90296987, 15.01609864, 13.74260002,\n       12.92288752, 13.65240087, 13.31291762, 14.31587667, 15.0401847 ,\n       12.92100089, 16.00295401, 12.6946588 , 13.6418938 , 13.89591935,\n       13.33566182, 14.26728848, 13.13389068, 14.93548569, 13.31226778,\n       12.73765338, 14.25242911, 15.47842137, 14.99377933, 14.66672716,\n       15.72793661, 14.03439867, 13.81681471, 13.55343655, 14.50224673,\n       13.39181936, 14.09281952, 13.40825334, 15.02879914, 15.59643925,\n       18.3159922 , 13.59858886, 13.34843544, 13.75160863, 12.67609815,\n       15.25862254, 14.16941778, 13.89660748, 15.67558282, 14.68551355,\n       13.09390629, 13.52159309, 13.86256016, 13.82522324, 17.10743671,\n       12.08317028, 13.36753296, 13.17772429, 13.87145885, 14.09072878,\n       12.72973256, 15.68521484, 13.91994264, 15.85611784, 15.49619618,\n       13.65996374, 14.82246615, 14.84698825, 13.20327104, 13.98209646,\n       14.18770909, 13.87383984, 15.80309993, 14.38867134, 13.51012469,\n       14.1253403 , 13.31322834, 11.57982682, 14.17568118, 13.98898308,\n       14.26805516, 13.38453685, 13.6223153 , 14.01231835, 13.44482362,\n       14.58926444, 14.67551111, 14.41468546, 13.15942985, 12.80690715,\n       13.81837645, 12.94057048, 16.20564049, 13.16292934, 13.48284367,\n       14.77627281, 14.8698313 , 13.56057444, 13.17448893, 13.54029314,\n       15.08576059, 14.87416506, 13.18947047, 15.47414446, 14.97563429,\n       15.81312295, 13.38846067, 15.57129806, 13.81862171, 15.20846171,\n       15.14663121, 13.03653966, 11.99109566, 13.72239696, 13.48395601,\n       13.07978985, 13.71127829, 13.88297853, 13.2566967 , 15.69754391,\n       13.36247889, 13.68305744, 14.71156185, 16.58649593, 13.45564481,\n       13.57022875, 13.05266168, 14.76969304, 13.6920302 , 13.93652038,\n       12.78360974, 15.23053862, 14.14395998, 13.29566773, 12.28901116,\n       15.05154495, 16.71560622, 15.94721124, 14.28019444, 12.82004133,\n       13.5639521 , 12.45089549, 15.52584086, 13.52363169, 15.8790262 ,\n       13.56212169, 13.76810024, 13.176611  , 14.33941804, 11.83631246,\n       17.05885126, 13.23688064, 17.61149053, 12.57100391, 13.77772146,\n       14.07847541, 14.56961219, 14.85096577, 11.94019773, 13.71090087,\n       15.11052015, 14.74639863, 13.24752534, 13.49719882, 12.9301442 ,\n       13.70428957, 12.37924413, 15.24651582, 13.59161923, 12.70275168,\n       13.83045927, 16.67109267, 15.26089849, 14.29309041, 16.68296237,\n       13.80883835, 13.93614198, 15.15504921, 13.52266317, 16.52909959,\n       13.31766039, 14.29742917, 13.06749739, 15.03814122, 14.51380397,\n       15.6509331 , 13.33885123, 13.58109876, 13.12221737, 14.25716294,\n       13.49183233, 14.0540297 , 13.05338622, 14.17706836, 12.53404097,\n       13.49490576, 14.52474366, 14.719989  , 15.73208708, 12.70417163,\n       17.68675934, 13.67332237, 15.39552584, 14.92951839, 15.60947892,\n       13.17880042, 12.98193281, 13.05021195, 14.69237332, 14.02840497,\n       14.80123033, 15.79673118, 14.54839418, 18.1318961 , 13.0306822 ,\n       13.8943088 , 13.29789191, 11.62793131, 15.84864451, 14.55157737,\n       13.00953281, 14.70939207, 13.06009215, 13.0250526 , 14.94679686,\n       12.38783154, 14.09737499, 13.61942633, 14.0249324 , 15.76074148,\n       13.63669724, 17.21646431, 13.39602817, 16.31730767, 14.26145136,\n       13.42922435, 12.99991774, 14.99330272, 13.76234709, 13.73220503,\n       13.96376503, 13.12283926, 15.18822006, 13.83050557, 14.74565449,\n       14.55018444, 14.94232604, 14.5895859 , 13.52231867, 17.79832863,\n       13.43847109, 16.8439026 , 13.47299349, 13.41471802, 13.66820126,\n       14.4667951 , 12.32068622, 13.163058  , 15.13545917, 15.63806237,\n       14.10652731, 13.73406946, 13.40741449, 14.32230708, 12.25343322,\n       15.50331648, 14.04841115, 18.29116258, 13.30529975, 13.48182643,\n       14.91880586, 13.73019229, 13.64193901, 12.84248544, 13.48310863,\n       14.61805056, 13.43096216, 14.97504797, 14.05238027, 13.6127479 ,\n       14.15292307, 15.74546103, 14.66446333, 14.86814522, 15.22825939,\n       14.27379137, 14.89551105, 13.16401575, 11.48956472, 13.60714354,\n       13.89668032, 13.42399865, 15.40222238, 14.12141018, 14.74452638,\n       14.99053343, 14.53777178, 12.49260406, 15.22397753, 15.33178439,\n       15.44046821, 17.36905165, 13.29825933, 14.39893202, 13.17525939,\n       14.57083739, 15.92264338, 16.18651168, 14.92728781, 13.9656601 ,\n       12.32100718, 12.81934294, 14.69498626, 14.19714052, 13.72699296,\n       14.38046919, 13.30548295, 15.18822741, 15.40042768, 12.952379  ,\n       14.24099461, 14.10354182, 13.35193105, 13.73751118, 12.07122038,\n       13.92381324, 13.60493273, 13.34473863, 14.87018907, 15.38836145,\n       13.79657541, 13.36041446, 13.59525409, 14.46317124, 14.21955065,\n       14.307061  , 14.78284795, 15.49201423, 14.29703321, 13.16355522,\n       13.18110576, 13.65040122, 13.54305333, 12.10938552, 14.94316566,\n       14.76117833, 15.01736572, 13.3040047 , 15.20955704, 14.46420154,\n       14.00851155, 13.06963959, 13.68012602, 14.00461738, 13.9532522 ,\n       13.37408506, 14.19085042, 13.80176248])"
     },
     "execution_count": 940,
     "metadata": {},
     "output_type": "execute_result"
    }
   ],
   "source": [
    "y_test\n"
   ],
   "metadata": {
    "collapsed": false,
    "pycharm": {
     "name": "#%%\n"
    }
   }
  },
  {
   "cell_type": "code",
   "execution_count": 941,
   "outputs": [
    {
     "data": {
      "text/plain": "array([14.07144572, 14.2647788 , 13.92516918, 14.00526766, 14.05572267,\n       14.18542564, 14.13900789, 14.34369476, 14.10593185, 14.10310265,\n       14.22675053, 14.35457451, 14.29683405, 13.95234311, 14.39028342,\n       14.01080661, 14.17640131, 14.23141392, 14.08299882, 14.08387835,\n       14.06823424, 14.35290039, 14.76940893, 14.13417983, 13.88683614,\n       14.12837199, 14.13213972, 14.24010424, 14.29644398, 14.24403381,\n       14.37218078, 14.23262435, 14.25210728, 14.35161318, 14.03244316,\n       14.35919141, 14.1361521 , 14.12873873, 14.29475575, 14.22162773,\n       14.31447221, 14.279497  , 14.35809172, 14.09531592, 14.21127563,\n       14.08281985, 13.9513079 , 14.18170385, 14.13479852, 13.99788929,\n       14.00691665, 14.17984134, 14.231698  , 14.18347765, 14.13933281,\n       14.21114824, 14.11074517, 14.38204158, 14.16539829, 14.2938325 ,\n       14.10409138, 14.26487953, 14.11929551, 14.13925699, 14.05476981,\n       14.20049584, 14.32681971, 14.23751809, 14.2280207 , 14.32148219,\n       14.20310179, 14.38614941, 14.38782948, 14.11590765, 14.19689155,\n       14.0922534 , 14.21916182, 14.03376274, 14.22491661, 14.2512252 ,\n       13.80601698, 14.21234962, 14.0526042 , 13.99687935, 14.05456824,\n       14.18761421, 14.02395834, 13.45869621, 14.14807068, 14.36221764,\n       14.11959931, 14.22284729, 14.0874921 , 14.28173838, 14.28626562,\n       14.18170735, 14.13686578, 14.16309806, 14.08517753, 14.10525289,\n       14.11745175, 14.41939957, 14.36810151, 14.29852454, 14.02182613,\n       14.10060904, 14.41768166, 14.17197002, 14.05670708, 14.13411277,\n       14.12170156, 13.93073689, 14.28742614, 14.11932899, 14.26463662,\n       14.09215768, 14.05278747, 14.0992368 , 14.00751098, 14.2115908 ,\n       14.02958712, 14.13961063, 14.0896519 , 14.31839179, 14.14885769,\n       14.3033027 , 14.04438997, 14.06754442, 13.80623511, 14.26306459,\n       14.45065088, 14.16446142, 14.19912505, 14.30859776, 13.88225272,\n       13.82678719, 13.79644685, 14.18753555, 14.1890195 , 14.1587186 ,\n       14.18882327, 14.24635808, 14.2593001 , 14.1596709 , 14.20552958,\n       14.01852518, 14.11845773, 14.2281247 , 13.881314  , 14.28160713,\n       14.00389318, 14.33002725, 13.97170151, 14.08480441, 14.08943326,\n       14.00048668, 14.08606008, 14.133815  , 14.0706476 , 14.12557572,\n       14.33580947, 14.24876424, 13.76444254, 14.31444749, 14.08934818,\n       14.14072005, 14.04075223, 14.23817933, 14.07453293, 14.30869765,\n       14.34595487, 14.1368735 , 14.30876135, 14.20429065, 14.259684  ,\n       14.15697248, 14.20631878, 13.90175743, 13.87106204, 14.07261979,\n       14.11527561, 14.27930776, 14.16568632, 14.21116578, 14.19564571,\n       14.48522159, 14.35823623, 14.2164818 , 14.13832234, 14.15827874,\n       14.1116726 , 14.16962263, 14.16700008, 14.08762378, 14.56154889,\n       14.47728531, 14.33815654, 14.21936768, 14.21600677, 14.18506051,\n       14.31652317, 14.20253187, 14.104934  , 14.29202796, 14.02712019,\n       14.16375885, 14.30270977, 14.15964525, 13.85194451, 14.30437437,\n       14.30610703, 14.18497516, 14.25483094, 14.18713105, 14.30499206,\n       14.21240665, 14.02900084, 14.12336355, 14.12960624, 14.0417834 ,\n       14.19608252, 14.21010431, 14.3659693 , 14.3422393 , 14.24204421,\n       14.13504074, 14.00979955, 13.99345955, 13.96749076, 14.10004316,\n       14.06466572, 14.00385668, 14.31194456, 14.30122141, 14.1507717 ,\n       14.32125313, 14.14989424, 14.41319086, 14.2792175 , 14.11370724,\n       14.1348983 , 14.12522014, 14.14615402, 14.61813283, 14.20552958,\n       13.72229792, 14.36909812, 14.02142809, 14.19449917, 14.23673238,\n       14.10021298, 14.79681586, 14.18551926, 14.28574248, 13.98358032,\n       13.65240438, 14.06347204, 14.23549638, 14.04818858, 14.2356208 ,\n       14.32486516, 14.15264235, 14.25251765, 14.4177641 , 14.05166363,\n       14.15556582, 14.07208507, 14.26674671, 14.11359309, 14.21068323,\n       14.07960197, 14.17901326, 14.10086878, 14.1025013 , 14.21295027,\n       14.2393609 , 14.24020928, 14.0158178 , 14.12264892, 13.92181698,\n       14.09297891, 14.06760983, 14.14439514, 14.23234862, 14.03314801,\n       14.13850631, 14.14686852, 14.15537689, 13.52563186, 14.33446069,\n       14.19968211, 13.78347548, 14.17885722, 14.25686189, 14.14972375,\n       14.12772581, 14.27921291, 14.17289917, 14.22932726, 14.22514429,\n       13.97347038, 14.4100751 , 14.38762971, 14.33759126, 14.7046851 ,\n       14.80157186, 13.7746085 , 14.26091802, 14.01444639, 14.14484453,\n       14.06979773, 14.74928684, 14.75362533, 14.64913819, 14.68381297,\n       14.61912895, 14.90298635, 14.6629926 , 14.16258252, 14.36093273,\n       13.77037086, 13.69943659, 14.25345345, 14.24574066, 14.17792417,\n       14.18481644, 14.02748263, 14.19254082, 14.18886438, 14.17096165,\n       14.11047704, 14.25741686, 13.96413652, 14.19767958, 14.22104643,\n       14.3128303 , 14.23486579, 14.29949249, 14.2778203 , 14.49351205,\n       14.38429377, 13.84535195, 14.27806863, 14.2986004 , 13.77129881,\n       14.15843277, 14.38211354, 13.86225985, 14.34618083, 14.01036275,\n       14.3335543 , 14.12494115, 14.21640302, 14.18269673, 14.81085824,\n       14.00372202, 14.29239832, 14.05272333, 14.16195148, 13.97825919,\n       14.14253769, 14.26505585, 14.34506796, 13.80596107, 14.17540857,\n       13.98208706, 14.00655205, 14.12701772, 14.14992863, 14.26009459,\n       14.00476827, 13.80327011, 13.94405772, 14.20074837, 14.18156342,\n       14.18054094, 14.10914255, 14.39567792, 14.29866743, 14.3935077 ,\n       14.34068938, 14.1280126 , 14.18496626, 13.58042603, 14.08380159,\n       14.19162717, 14.11553863, 14.16278897, 14.23334757, 14.33430608,\n       14.041822  , 13.76821372, 14.00904002, 14.1170634 , 14.09201344,\n       14.21712005, 14.24757112, 14.24492654, 14.28965356, 14.22720178,\n       14.29975752, 14.00904441, 14.08102442, 13.9694462 , 14.04765965,\n       14.05204747, 14.08430119, 14.15392775, 14.11977084, 14.32229749,\n       14.19791076, 14.26861582, 14.05182951, 13.87511115, 14.12056059,\n       14.1488119 , 14.02730585, 14.04223415, 14.05684405, 14.30935068,\n       14.07161182, 14.22595555, 14.50371713, 14.06870175, 14.07563453,\n       13.71570918, 14.43436157, 13.99591534, 14.38677834, 14.09004558,\n       14.09556489, 14.13577364, 14.33564228, 14.13999869, 14.1370855 ,\n       14.22774175, 14.20512516, 13.90148132, 14.10549591, 14.07697724,\n       14.29728423, 14.10121191, 14.18487958, 14.19194927, 13.97453947,\n       13.96963924, 14.43939671, 14.24528749, 14.18220321, 14.28961104,\n       14.11356614, 14.24896345, 14.2541565 , 13.89903002, 14.12158167,\n       14.34820541, 14.00698078, 13.85366784, 14.63842837, 14.15800439,\n       14.37660524, 14.55544238, 14.28311317, 14.07967863, 14.27744535,\n       14.05624374, 14.01060385, 14.23156287, 14.16280919, 14.15819377,\n       14.17405148, 14.17790223, 14.36153894, 13.99835818, 14.10882054,\n       14.09575443, 14.18077958, 13.99348649, 14.1203623 , 14.16278954,\n       13.61764082, 13.98202669, 14.32243202, 14.00583302, 14.40315501,\n       14.85631279, 14.06176529, 14.458218  , 14.30244911, 14.16412325,\n       14.24376791, 14.17092587, 14.26029243, 14.18925002, 14.21917896,\n       14.18764768, 14.28453031, 14.01613248, 14.15431765, 14.13332039,\n       14.35476628, 14.22740247, 13.98570223, 14.25618605, 14.19452521,\n       14.17082152, 14.62171871, 14.26945401, 14.13742201, 13.96133614,\n       13.97360357, 14.19423177, 14.10575957, 14.11507379, 14.08942809,\n       14.21484959, 14.37036227, 14.27050718, 14.23235597, 14.36373481,\n       14.16463018, 13.96027863, 14.10500145, 14.2068977 , 14.24030313,\n       13.83387051, 14.08954866, 14.09327393, 14.2112655 , 14.08272505,\n       13.9694711 , 14.10849765, 14.28029349, 13.85775773, 14.07970625,\n       14.15238296, 14.29066738, 14.05332112, 14.26211625, 14.09179873,\n       14.12885652, 14.36982152, 14.32908896, 14.21631884, 14.22982205,\n       14.1886004 , 14.43248108, 14.39221114, 14.22294978, 14.05471496,\n       14.05886723, 14.21718514, 14.07424425, 14.25496022, 14.57975229,\n       14.24649949, 14.29744264, 14.22758793, 14.10886395, 14.35504083,\n       14.21969857, 14.02117986, 14.12422581, 14.60183032, 14.10455953,\n       14.44769136, 14.39114505, 14.11284378, 14.27084407, 14.35062446,\n       14.23123352, 14.30302609, 14.4057649 , 13.93146109, 14.38489327,\n       14.31533391, 13.91024166, 14.4103502 , 14.20464543, 14.15380192,\n       14.0321806 , 13.82158764, 14.07034949, 14.09846823, 14.30380645,\n       14.27317051, 14.22010509, 14.95573345, 14.07976444, 14.72758452,\n       14.276825  , 14.21994538, 13.91351192, 14.13837343, 13.97752844,\n       14.01191361, 13.90446605, 14.03613128, 14.21595875, 14.03570264,\n       14.09358413, 13.93883297, 14.00234528, 13.91080283, 14.20353709,\n       14.12651193, 13.95951783, 14.26386132, 14.13996225, 13.83363012,\n       13.63540263, 14.35998017, 13.987938  , 14.28318018, 14.06145871,\n       14.91142133, 14.0795928 , 14.0855393 , 14.36154858, 14.1161342 ,\n       13.95991691, 14.70821118, 13.92831495, 14.1115843 , 14.33191121,\n       14.08038819, 14.05844025, 14.28755118, 14.6029553 , 14.12996927,\n       14.28959815, 14.61186695, 14.10838401, 14.8682615 , 14.0510418 ,\n       14.40294128, 14.39339001, 13.94375636, 14.21433289, 14.10350301,\n       13.98194674, 13.99784963, 14.12271124, 14.29700766, 13.86603583,\n       14.22622187, 14.22541657, 14.19220097, 14.43353296, 13.98411041,\n       14.28084451, 14.23008004, 14.07854894, 14.1170612 , 14.16024395,\n       14.23939992, 14.12357161, 14.11302187, 14.13035044, 14.09011349,\n       14.46397846, 14.09649614, 14.23649252, 14.16712248, 14.24767721,\n       14.00762721, 14.18526636, 14.16961306, 14.09291788, 14.33407918,\n       13.92398327, 14.08776637, 14.05614946, 14.05299646, 13.75987177,\n       14.11519477, 13.95213775, 14.0207299 , 13.88248588, 14.0819157 ,\n       14.16546528, 13.93419345, 14.2124009 , 14.14866628, 14.02292455,\n       14.14060288, 13.98068168, 14.25664827, 14.08680072, 14.01449898,\n       14.08502362, 13.89314461, 14.16177737, 14.06383068, 14.08398975,\n       14.14436941, 14.07396708, 14.14047085, 13.88239774, 14.13465336,\n       14.293944  , 14.11813549, 14.04540527, 14.10299177, 14.13343393,\n       14.30539463, 14.30645717, 14.26604868, 14.06278031, 14.10045916,\n       14.33002355, 14.1159506 , 14.0411925 , 14.20016295, 14.29875437,\n       14.33699007, 14.39831186, 13.82492319, 14.19690933, 13.80680195,\n       14.26122174, 14.03310734, 13.88270285, 14.2884158 , 14.22692378,\n       14.04532138, 14.18235749, 14.02870973, 14.30872772, 14.2076847 ,\n       14.30840408, 14.02783644, 14.29129163, 13.87802244, 14.48369788,\n       14.14893779, 14.10417282, 14.21074706, 14.29380941, 14.21932881,\n       14.22125535, 14.12933739, 14.14337365, 14.12855538, 14.11545106,\n       14.2719776 , 14.18726604, 14.29286422, 14.20046757, 14.18180026,\n       14.0695475 , 13.76717946, 14.43970838, 14.35248048, 14.04379468,\n       14.26939368, 14.09792958, 14.31423268, 13.87035648, 14.2326752 ,\n       14.24265525, 14.19547955, 14.03415003, 13.78883362, 14.21143753,\n       13.94229893, 14.12639619, 14.30922199, 14.22399247, 14.09121732,\n       13.96362868, 14.07474348, 13.91435159, 14.2046541 , 14.00817832,\n       13.90928581, 13.93695091, 14.06981056, 14.56621034, 14.2529935 ,\n       14.08934106, 13.97751414, 14.34816332, 14.19039278, 14.08401083,\n       14.1241103 , 13.79741154, 14.16241251, 14.23752476, 14.0725506 ,\n       14.06987203, 14.41417893, 14.04623203, 14.0678304 , 14.091279  ,\n       14.26464162, 14.06209873, 13.8865397 , 14.21878954, 14.04796853,\n       14.05183315, 14.11514906, 14.28807418, 14.04573036, 13.94842614,\n       14.20201034, 14.07393819, 14.03446653, 14.10852464, 14.10353237,\n       14.01406262, 14.44995384, 14.1998972 , 14.19100509, 13.54183619,\n       14.08669443, 14.11589458, 14.182506  , 14.75615353, 14.08374026,\n       14.04354825, 13.87130909, 14.17910436, 14.20369705, 14.2912111 ,\n       14.35960929, 14.13530012, 14.0727411 , 14.16457099, 14.04656774,\n       14.08389068, 13.75514038, 14.16170137, 14.16774518, 14.18809465,\n       14.07358543, 14.21249578, 14.12882403, 13.77040711, 14.70688275,\n       14.24921014, 14.10909234, 14.22408934, 14.18955096, 14.2107308 ,\n       14.21793513, 14.27066482, 14.4922462 , 14.10227417, 14.25916214,\n       14.04210298, 14.2201717 , 13.95938381, 14.01842096, 14.0645367 ,\n       14.17795823, 14.2833304 , 14.3303319 , 14.17000779, 14.23118169,\n       13.75608853, 14.25010716, 14.55452989, 14.10080816, 14.11072657,\n       14.32071073, 14.37251576, 14.06830936, 14.00770664, 14.24858082,\n       14.30757579, 14.17519736, 14.27737422, 14.33028353, 14.25840491,\n       14.19890902, 14.00743646, 14.09410936, 14.1035635 , 14.09017528,\n       14.31208528, 14.1350781 , 14.32428354, 14.16493697, 14.12054316,\n       14.09585044, 14.16639027, 14.18323991, 14.18154679, 14.05787649,\n       14.12721149, 14.21260488, 14.07430369, 14.22793783, 14.10637086,\n       14.22168566, 14.31007088, 14.24127814, 14.17209606, 14.5369594 ,\n       14.22294649, 14.25674217, 14.23856435, 14.20424376, 14.81486178,\n       14.20740614, 14.24184392, 13.90980725, 14.15897889, 14.05974849,\n       14.48882978, 13.92623134, 14.31301749, 14.08148418, 14.24721506,\n       14.25392537, 14.74857075, 14.25350002, 14.21978586, 14.27363909,\n       14.22878825, 14.27828983, 14.39757729, 14.31821446, 14.23243063,\n       14.31123196, 14.11451513, 14.30985251, 14.12411604, 14.31349556,\n       14.28824806, 14.34388078, 14.53684208, 14.3063826 , 14.24232772,\n       14.23519554, 14.37761844, 14.19643793, 14.19743194, 14.25264912,\n       14.25655623, 14.06033127, 14.22338686, 14.11979354, 14.39615691,\n       14.33440939, 14.27144299, 13.99651876])"
     },
     "execution_count": 941,
     "metadata": {},
     "output_type": "execute_result"
    }
   ],
   "source": [
    "y_pred_lr"
   ],
   "metadata": {
    "collapsed": false,
    "pycharm": {
     "name": "#%%\n"
    }
   }
  },
  {
   "cell_type": "code",
   "execution_count": 942,
   "outputs": [
    {
     "data": {
      "text/plain": "array([14.16416781, 14.16416781, 14.16416781, 14.16416781, 14.16416781,\n       14.16416781, 14.16416781, 14.16416781, 14.16416781, 14.16416781,\n       14.16416781, 14.16416781, 14.16416781, 14.16416781, 14.16416781,\n       14.16416781, 14.16416781, 14.16416781, 14.16416781, 14.16416781,\n       14.16416781, 14.16416781, 14.16416781, 14.16416781, 14.16416781,\n       14.16416781, 14.16416781, 14.16416781, 14.16416781, 14.16416781,\n       14.16416781, 14.16416781, 14.16416781, 14.16416781, 14.16416781,\n       14.16416781, 14.16416781, 14.16416781, 14.16416781, 14.16416781,\n       14.16416781, 14.16416781, 14.16416781, 14.16416781, 14.16416781,\n       14.16416781, 14.16416781, 14.16416781, 14.16416781, 14.16416781,\n       14.16416781, 14.16416781, 14.16416781, 14.16416781, 14.16416781,\n       14.16416781, 14.16416781, 14.16416781, 14.16416781, 14.16416781,\n       14.16416781, 14.16416781, 14.16416781, 14.16416781, 14.16416781,\n       14.16416781, 14.16416781, 14.16416781, 14.16416781, 14.16416781,\n       14.16416781, 14.16416781, 14.16416781, 14.16416781, 14.16416781,\n       14.16416781, 14.16416781, 14.16416781, 14.16416781, 14.16416781,\n       14.16416781, 14.16416781, 14.16416781, 14.16416781, 14.16416781,\n       14.16416781, 14.16416781, 14.16416781, 14.16416781, 14.16416781,\n       14.16416781, 14.16416781, 14.16416781, 14.16416781, 14.16416781,\n       14.16416781, 14.16416781, 14.16416781, 14.16416781, 14.16416781,\n       14.16416781, 14.16416781, 14.16416781, 14.16416781, 14.16416781,\n       14.16416781, 14.16416781, 14.16416781, 14.16416781, 14.16416781,\n       14.16416781, 14.16416781, 14.16416781, 14.16416781, 14.16416781,\n       14.16416781, 14.16416781, 14.16416781, 14.16416781, 14.16416781,\n       14.16416781, 14.16416781, 14.16416781, 14.16416781, 14.16416781,\n       14.16416781, 14.16416781, 14.16416781, 14.16416781, 14.16416781,\n       14.16416781, 14.16416781, 14.16416781, 14.16416781, 14.16416781,\n       14.16416781, 14.16416781, 14.16416781, 14.16416781, 14.16416781,\n       14.16416781, 14.16416781, 14.16416781, 14.16416781, 14.16416781,\n       14.16416781, 14.16416781, 14.16416781, 14.16416781, 14.16416781,\n       14.16416781, 14.16416781, 14.16416781, 14.16416781, 14.16416781,\n       14.16416781, 14.16416781, 14.16416781, 14.16416781, 14.16416781,\n       14.16416781, 14.16416781, 14.16416781, 14.16416781, 14.16416781,\n       14.16416781, 14.16416781, 14.16416781, 14.16416781, 14.16416781,\n       14.16416781, 14.16416781, 14.16416781, 14.16416781, 14.16416781,\n       14.16416781, 14.16416781, 14.16416781, 14.16416781, 14.16416781,\n       14.16416781, 14.16416781, 14.16416781, 14.16416781, 14.16416781,\n       14.16416781, 14.16416781, 14.16416781, 14.16416781, 14.16416781,\n       14.16416781, 14.16416781, 14.16416781, 14.16416781, 14.16416781,\n       14.16416781, 14.16416781, 14.16416781, 14.16416781, 14.16416781,\n       14.16416781, 14.16416781, 14.16416781, 14.16416781, 14.16416781,\n       14.16416781, 14.16416781, 14.16416781, 14.16416781, 14.16416781,\n       14.16416781, 14.16416781, 14.16416781, 14.16416781, 14.16416781,\n       14.16416781, 14.16416781, 14.16416781, 14.16416781, 14.16416781,\n       14.16416781, 14.16416781, 14.16416781, 14.16416781, 14.16416781,\n       14.16416781, 14.16416781, 14.16416781, 14.16416781, 14.16416781,\n       14.16416781, 14.16416781, 14.16416781, 14.16416781, 14.16416781,\n       14.16416781, 14.16416781, 14.16416781, 14.16416781, 14.16416781,\n       14.16416781, 14.16416781, 14.16416781, 14.16416781, 14.16416781,\n       14.16416781, 14.16416781, 14.16416781, 14.16416781, 14.16416781,\n       14.16416781, 14.16416781, 14.16416781, 14.16416781, 14.16416781,\n       14.16416781, 14.16416781, 14.16416781, 14.16416781, 14.16416781,\n       14.16416781, 14.16416781, 14.16416781, 14.16416781, 14.16416781,\n       14.16416781, 14.16416781, 14.16416781, 14.16416781, 14.16416781,\n       14.16416781, 14.16416781, 14.16416781, 14.16416781, 14.16416781,\n       14.16416781, 14.16416781, 14.16416781, 14.16416781, 14.16416781,\n       14.16416781, 14.16416781, 14.16416781, 14.16416781, 14.16416781,\n       14.16416781, 14.16416781, 14.16416781, 14.16416781, 14.16416781,\n       14.16416781, 14.16416781, 14.16416781, 14.16416781, 14.16416781,\n       14.16416781, 14.16416781, 14.16416781, 14.16416781, 14.16416781,\n       14.16416781, 14.16416781, 14.16416781, 14.16416781, 14.16416781,\n       14.16416781, 14.16416781, 14.16416781, 14.16416781, 14.16416781,\n       14.16416781, 14.16416781, 14.16416781, 14.16416781, 14.16416781,\n       14.16416781, 14.16416781, 14.16416781, 14.16416781, 14.16416781,\n       14.16416781, 14.16416781, 14.16416781, 14.16416781, 14.16416781,\n       14.16416781, 14.16416781, 14.16416781, 14.16416781, 14.16416781,\n       14.16416781, 14.16416781, 14.16416781, 14.16416781, 14.16416781,\n       14.16416781, 14.16416781, 14.16416781, 14.16416781, 14.16416781,\n       14.16416781, 14.16416781, 14.16416781, 14.16416781, 14.16416781,\n       14.16416781, 14.16416781, 14.16416781, 14.16416781, 14.16416781,\n       14.16416781, 14.16416781, 14.16416781, 14.16416781, 14.16416781,\n       14.16416781, 14.16416781, 14.16416781, 14.16416781, 14.16416781,\n       14.16416781, 14.16416781, 14.16416781, 14.16416781, 14.16416781,\n       14.16416781, 14.16416781, 14.16416781, 14.16416781, 14.16416781,\n       14.16416781, 14.16416781, 14.16416781, 14.16416781, 14.16416781,\n       14.16416781, 14.16416781, 14.16416781, 14.16416781, 14.16416781,\n       14.16416781, 14.16416781, 14.16416781, 14.16416781, 14.16416781,\n       14.16416781, 14.16416781, 14.16416781, 14.16416781, 14.16416781,\n       14.16416781, 14.16416781, 14.16416781, 14.16416781, 14.16416781,\n       14.16416781, 14.16416781, 14.16416781, 14.16416781, 14.16416781,\n       14.16416781, 14.16416781, 14.16416781, 14.16416781, 14.16416781,\n       14.16416781, 14.16416781, 14.16416781, 14.16416781, 14.16416781,\n       14.16416781, 14.16416781, 14.16416781, 14.16416781, 14.16416781,\n       14.16416781, 14.16416781, 14.16416781, 14.16416781, 14.16416781,\n       14.16416781, 14.16416781, 14.16416781, 14.16416781, 14.16416781,\n       14.16416781, 14.16416781, 14.16416781, 14.16416781, 14.16416781,\n       14.16416781, 14.16416781, 14.16416781, 14.16416781, 14.16416781,\n       14.16416781, 14.16416781, 14.16416781, 14.16416781, 14.16416781,\n       14.16416781, 14.16416781, 14.16416781, 14.16416781, 14.16416781,\n       14.16416781, 14.16416781, 14.16416781, 14.16416781, 14.16416781,\n       14.16416781, 14.16416781, 14.16416781, 14.16416781, 14.16416781,\n       14.16416781, 14.16416781, 14.16416781, 14.16416781, 14.16416781,\n       14.16416781, 14.16416781, 14.16416781, 14.16416781, 14.16416781,\n       14.16416781, 14.16416781, 14.16416781, 14.16416781, 14.16416781,\n       14.16416781, 14.16416781, 14.16416781, 14.16416781, 14.16416781,\n       14.16416781, 14.16416781, 14.16416781, 14.16416781, 14.16416781,\n       14.16416781, 14.16416781, 14.16416781, 14.16416781, 14.16416781,\n       14.16416781, 14.16416781, 14.16416781, 14.16416781, 14.16416781,\n       14.16416781, 14.16416781, 14.16416781, 14.16416781, 14.16416781,\n       14.16416781, 14.16416781, 14.16416781, 14.16416781, 14.16416781,\n       14.16416781, 14.16416781, 14.16416781, 14.16416781, 14.16416781,\n       14.16416781, 14.16416781, 14.16416781, 14.16416781, 14.16416781,\n       14.16416781, 14.16416781, 14.16416781, 14.16416781, 14.16416781,\n       14.16416781, 14.16416781, 14.16416781, 14.16416781, 14.16416781,\n       14.16416781, 14.16416781, 14.16416781, 14.16416781, 14.16416781,\n       14.16416781, 14.16416781, 14.16416781, 14.16416781, 14.16416781,\n       14.16416781, 14.16416781, 14.16416781, 14.16416781, 14.16416781,\n       14.16416781, 14.16416781, 14.16416781, 14.16416781, 14.16416781,\n       14.16416781, 14.16416781, 14.16416781, 14.16416781, 14.16416781,\n       14.16416781, 14.16416781, 14.16416781, 14.16416781, 14.16416781,\n       14.16416781, 14.16416781, 14.16416781, 14.16416781, 14.16416781,\n       14.16416781, 14.16416781, 14.16416781, 14.16416781, 14.16416781,\n       14.16416781, 14.16416781, 14.16416781, 14.16416781, 14.16416781,\n       14.16416781, 14.16416781, 14.16416781, 14.16416781, 14.16416781,\n       14.16416781, 14.16416781, 14.16416781, 14.16416781, 14.16416781,\n       14.16416781, 14.16416781, 14.16416781, 14.16416781, 14.16416781,\n       14.16416781, 14.16416781, 14.16416781, 14.16416781, 14.16416781,\n       14.16416781, 14.16416781, 14.16416781, 14.16416781, 14.16416781,\n       14.16416781, 14.16416781, 14.16416781, 14.16416781, 14.16416781,\n       14.16416781, 14.16416781, 14.16416781, 14.16416781, 14.16416781,\n       14.16416781, 14.16416781, 14.16416781, 14.16416781, 14.16416781,\n       14.16416781, 14.16416781, 14.16416781, 14.16416781, 14.16416781,\n       14.16416781, 14.16416781, 14.16416781, 14.16416781, 14.16416781,\n       14.16416781, 14.16416781, 14.16416781, 14.16416781, 14.16416781,\n       14.16416781, 14.16416781, 14.16416781, 14.16416781, 14.16416781,\n       14.16416781, 14.16416781, 14.16416781, 14.16416781, 14.16416781,\n       14.16416781, 14.16416781, 14.16416781, 14.16416781, 14.16416781,\n       14.16416781, 14.16416781, 14.16416781, 14.16416781, 14.16416781,\n       14.16416781, 14.16416781, 14.16416781, 14.16416781, 14.16416781,\n       14.16416781, 14.16416781, 14.16416781, 14.16416781, 14.16416781,\n       14.16416781, 14.16416781, 14.16416781, 14.16416781, 14.16416781,\n       14.16416781, 14.16416781, 14.16416781, 14.16416781, 14.16416781,\n       14.16416781, 14.16416781, 14.16416781, 14.16416781, 14.16416781,\n       14.16416781, 14.16416781, 14.16416781, 14.16416781, 14.16416781,\n       14.16416781, 14.16416781, 14.16416781, 14.16416781, 14.16416781,\n       14.16416781, 14.16416781, 14.16416781, 14.16416781, 14.16416781,\n       14.16416781, 14.16416781, 14.16416781, 14.16416781, 14.16416781,\n       14.16416781, 14.16416781, 14.16416781, 14.16416781, 14.16416781,\n       14.16416781, 14.16416781, 14.16416781, 14.16416781, 14.16416781,\n       14.16416781, 14.16416781, 14.16416781, 14.16416781, 14.16416781,\n       14.16416781, 14.16416781, 14.16416781, 14.16416781, 14.16416781,\n       14.16416781, 14.16416781, 14.16416781, 14.16416781, 14.16416781,\n       14.16416781, 14.16416781, 14.16416781, 14.16416781, 14.16416781,\n       14.16416781, 14.16416781, 14.16416781, 14.16416781, 14.16416781,\n       14.16416781, 14.16416781, 14.16416781, 14.16416781, 14.16416781,\n       14.16416781, 14.16416781, 14.16416781, 14.16416781, 14.16416781,\n       14.16416781, 14.16416781, 14.16416781, 14.16416781, 14.16416781,\n       14.16416781, 14.16416781, 14.16416781, 14.16416781, 14.16416781,\n       14.16416781, 14.16416781, 14.16416781, 14.16416781, 14.16416781,\n       14.16416781, 14.16416781, 14.16416781, 14.16416781, 14.16416781,\n       14.16416781, 14.16416781, 14.16416781, 14.16416781, 14.16416781,\n       14.16416781, 14.16416781, 14.16416781, 14.16416781, 14.16416781,\n       14.16416781, 14.16416781, 14.16416781, 14.16416781, 14.16416781,\n       14.16416781, 14.16416781, 14.16416781, 14.16416781, 14.16416781,\n       14.16416781, 14.16416781, 14.16416781, 14.16416781, 14.16416781,\n       14.16416781, 14.16416781, 14.16416781, 14.16416781, 14.16416781,\n       14.16416781, 14.16416781, 14.16416781, 14.16416781, 14.16416781,\n       14.16416781, 14.16416781, 14.16416781, 14.16416781, 14.16416781,\n       14.16416781, 14.16416781, 14.16416781, 14.16416781, 14.16416781,\n       14.16416781, 14.16416781, 14.16416781, 14.16416781, 14.16416781,\n       14.16416781, 14.16416781, 14.16416781, 14.16416781, 14.16416781,\n       14.16416781, 14.16416781, 14.16416781, 14.16416781, 14.16416781,\n       14.16416781, 14.16416781, 14.16416781, 14.16416781, 14.16416781,\n       14.16416781, 14.16416781, 14.16416781, 14.16416781, 14.16416781,\n       14.16416781, 14.16416781, 14.16416781, 14.16416781, 14.16416781,\n       14.16416781, 14.16416781, 14.16416781, 14.16416781, 14.16416781,\n       14.16416781, 14.16416781, 14.16416781, 14.16416781, 14.16416781,\n       14.16416781, 14.16416781, 14.16416781, 14.16416781, 14.16416781,\n       14.16416781, 14.16416781, 14.16416781, 14.16416781, 14.16416781,\n       14.16416781, 14.16416781, 14.16416781, 14.16416781, 14.16416781,\n       14.16416781, 14.16416781, 14.16416781, 14.16416781, 14.16416781,\n       14.16416781, 14.16416781, 14.16416781, 14.16416781, 14.16416781,\n       14.16416781, 14.16416781, 14.16416781, 14.16416781, 14.16416781,\n       14.16416781, 14.16416781, 14.16416781, 14.16416781, 14.16416781,\n       14.16416781, 14.16416781, 14.16416781, 14.16416781, 14.16416781,\n       14.16416781, 14.16416781, 14.16416781, 14.16416781, 14.16416781,\n       14.16416781, 14.16416781, 14.16416781, 14.16416781, 14.16416781,\n       14.16416781, 14.16416781, 14.16416781, 14.16416781, 14.16416781,\n       14.16416781, 14.16416781, 14.16416781, 14.16416781, 14.16416781,\n       14.16416781, 14.16416781, 14.16416781, 14.16416781, 14.16416781,\n       14.16416781, 14.16416781, 14.16416781, 14.16416781, 14.16416781,\n       14.16416781, 14.16416781, 14.16416781, 14.16416781, 14.16416781,\n       14.16416781, 14.16416781, 14.16416781, 14.16416781, 14.16416781,\n       14.16416781, 14.16416781, 14.16416781, 14.16416781, 14.16416781,\n       14.16416781, 14.16416781, 14.16416781, 14.16416781, 14.16416781,\n       14.16416781, 14.16416781, 14.16416781, 14.16416781, 14.16416781,\n       14.16416781, 14.16416781, 14.16416781, 14.16416781, 14.16416781,\n       14.16416781, 14.16416781, 14.16416781, 14.16416781, 14.16416781,\n       14.16416781, 14.16416781, 14.16416781, 14.16416781, 14.16416781,\n       14.16416781, 14.16416781, 14.16416781])"
     },
     "execution_count": 942,
     "metadata": {},
     "output_type": "execute_result"
    }
   ],
   "source": [
    "y_pred_dum"
   ],
   "metadata": {
    "collapsed": false,
    "pycharm": {
     "name": "#%%\n"
    }
   }
  },
  {
   "cell_type": "markdown",
   "source": [
    "#### 2) Linear Model : Ridge"
   ],
   "metadata": {
    "collapsed": false,
    "pycharm": {
     "name": "#%% md\n"
    }
   }
  },
  {
   "cell_type": "code",
   "execution_count": 943,
   "outputs": [],
   "source": [
    "# Setting evaluation metric for regression\n",
    "scoring = 'r2'"
   ],
   "metadata": {
    "collapsed": false,
    "pycharm": {
     "name": "#%%\n"
    }
   }
  },
  {
   "cell_type": "markdown",
   "source": [
    "##### 2.1) Trying Ridge Regression"
   ],
   "metadata": {
    "collapsed": false,
    "pycharm": {
     "name": "#%% md\n"
    }
   }
  },
  {
   "cell_type": "code",
   "execution_count": 944,
   "outputs": [],
   "source": [
    "n_alphas = 100 #hyperparametre alpha\n",
    "alphas = np.logspace(-10, 10, n_alphas)\n",
    "\n",
    "ridge = linear_model.Ridge()\n",
    "\n",
    "coefs = []\n",
    "errors = []\n",
    "for a in alphas:\n",
    "    ridge.set_params(alpha=a)\n",
    "    ridge.fit(X_train, y_train)\n",
    "    y_pred_ridge = ridge.predict(X_test)\n",
    "    coefs.append(ridge.coef_)\n",
    "    errors.append(np.mean((y_pred_ridge - y_test) ** 2))\n",
    "    #print(\"HERE :\", np.mean(( - y_test) ** 2), \"MSE :\", mean_squared_error(y_test, ridge.predict(X_test)))"
   ],
   "metadata": {
    "collapsed": false,
    "pycharm": {
     "name": "#%%\n"
    }
   }
  },
  {
   "cell_type": "code",
   "execution_count": 945,
   "outputs": [
    {
     "data": {
      "text/plain": "<Figure size 432x288 with 1 Axes>",
      "image/png": "[encoded data removed]"
     },
     "metadata": {
      "needs_background": "light"
     },
     "output_type": "display_data"
    }
   ],
   "source": [
    "# observation du comportement de l'erreur\n",
    "\n",
    "ax = plt.gca()\n",
    "ax.plot(alphas, errors, [10**-5, 10**5], [baseline_error, baseline_error])\n",
    "ax.set_xscale('log')"
   ],
   "metadata": {
    "collapsed": false,
    "pycharm": {
     "name": "#%%\n"
    }
   }
  },
  {
   "cell_type": "code",
   "execution_count": 946,
   "outputs": [
    {
     "data": {
      "text/plain": "(1e-11, 100000000000.0, 1.449419788076806, 1.5017168443309736)"
     },
     "execution_count": 946,
     "metadata": {},
     "output_type": "execute_result"
    },
    {
     "data": {
      "text/plain": "<Figure size 432x288 with 1 Axes>",
      "image/png": "[encoded data removed]"
     },
     "metadata": {
      "needs_background": "light"
     },
     "output_type": "display_data"
    }
   ],
   "source": [
    "ax = plt.gca()\n",
    "\n",
    "ax.plot(alphas, errors)\n",
    "ax.set_xscale('log')\n",
    "plt.xlabel('alpha')\n",
    "plt.ylabel('error')\n",
    "plt.axis('tight')"
   ],
   "metadata": {
    "collapsed": false,
    "pycharm": {
     "name": "#%%\n"
    }
   }
  },
  {
   "cell_type": "code",
   "execution_count": 947,
   "outputs": [
    {
     "data": {
      "text/plain": "70"
     },
     "execution_count": 947,
     "metadata": {},
     "output_type": "execute_result"
    }
   ],
   "source": [
    "# index du min des erreurs\n",
    "np.argmin(errors)"
   ],
   "metadata": {
    "collapsed": false,
    "pycharm": {
     "name": "#%%\n"
    }
   }
  },
  {
   "cell_type": "code",
   "execution_count": 948,
   "outputs": [
    {
     "data": {
      "text/plain": "1.45179692699745"
     },
     "execution_count": 948,
     "metadata": {},
     "output_type": "execute_result"
    }
   ],
   "source": [
    "# recupere l'erreur min\n",
    "errors[np.argmin(errors)]"
   ],
   "metadata": {
    "collapsed": false,
    "pycharm": {
     "name": "#%%\n"
    }
   }
  },
  {
   "cell_type": "raw",
   "source": [
    "# recup alpha associé à cet erreur min\n",
    "alphas[np.argmin(errors)]\n",
    "# alphas[35]"
   ],
   "metadata": {
    "collapsed": false,
    "pycharm": {
     "name": "#%% raw\n"
    }
   }
  },
  {
   "cell_type": "raw",
   "source": [
    "# chemin de régularisation\n",
    "ax = plt.gca()\n",
    "ax.plot(alphas, coefs)\n",
    "ax.set_xscale('log')\n",
    "plt.show()"
   ],
   "metadata": {
    "collapsed": false,
    "pycharm": {
     "name": "#%% raw\n"
    }
   }
  },
  {
   "cell_type": "raw",
   "source": [
    "ax = plt.gca()\n",
    "\n",
    "ax.plot(alphas, coefs)\n",
    "ax.set_xscale('log')\n",
    "plt.xlabel('alpha')\n",
    "plt.ylabel('weights')\n",
    "plt.title('Ridge coefficients as a function of the regularization')\n",
    "plt.axis('tight')\n",
    "plt.show()"
   ],
   "metadata": {
    "collapsed": false,
    "pycharm": {
     "name": "#%% raw\n"
    }
   }
  },
  {
   "cell_type": "raw",
   "source": [
    "min(errors)"
   ],
   "metadata": {
    "collapsed": false,
    "pycharm": {
     "name": "#%% raw\n"
    }
   }
  },
  {
   "cell_type": "markdown",
   "source": [
    "##### 2.2) Optimization of hyperparameters"
   ],
   "metadata": {
    "collapsed": false,
    "pycharm": {
     "name": "#%% md\n"
    }
   }
  },
  {
   "cell_type": "code",
   "execution_count": 949,
   "outputs": [
    {
     "data": {
      "text/plain": "array([[-0.28933451, -1.13960905, -1.12327506, ...,  0.        ,\n         0.        ,  0.        ],\n       [-0.79857415, -0.87819694, -0.85098213, ...,  0.        ,\n         0.        ,  0.        ],\n       [-0.28933451, -0.91629926, -0.8906704 , ...,  0.        ,\n         0.        ,  0.        ],\n       ...,\n       [ 0.42839846, -0.5725373 , -0.77069426, ...,  0.        ,\n         0.        ,  0.        ],\n       [-0.79857415, -1.15220594, -1.13639627, ...,  0.        ,\n         0.        ,  0.        ],\n       [-1.51630711, -1.2880699 , -1.27791532, ...,  0.        ,\n         0.        ,  0.        ]])"
     },
     "execution_count": 949,
     "metadata": {},
     "output_type": "execute_result"
    }
   ],
   "source": [
    "X_train.values"
   ],
   "metadata": {
    "collapsed": false,
    "pycharm": {
     "name": "#%%\n"
    }
   }
  },
  {
   "cell_type": "code",
   "execution_count": 1010,
   "outputs": [],
   "source": [
    "# Grid of research for Ridge Regression\n",
    "from sklearn.linear_model import Ridge\n",
    "\n",
    "# Create space of candidate values for hyperparameters\n",
    "param_grid_ridge = [{\n",
    "    \"regressor\": [linear_model.Ridge(max_iter=1000)], # elastic net regressor\n",
    "    \"regressor__alpha\": np.logspace(-3, 1, 5), # penalty intensity (5 values between 10⁻³ and 10¹)\n",
    "}]"
   ],
   "metadata": {
    "collapsed": false,
    "pycharm": {
     "name": "#%%\n"
    }
   }
  },
  {
   "cell_type": "code",
   "execution_count": 980,
   "outputs": [
    {
     "data": {
      "text/plain": "dict_keys(['regressor', 'regressor__alpha'])"
     },
     "execution_count": 980,
     "metadata": {},
     "output_type": "execute_result"
    }
   ],
   "source": [
    "param_grid_ridge[0].keys()"
   ],
   "metadata": {
    "collapsed": false,
    "pycharm": {
     "name": "#%%\n"
    }
   }
  },
  {
   "cell_type": "code",
   "execution_count": 951,
   "outputs": [],
   "source": [
    "n_alphas = 100\n",
    "params = {\"alpha\": np.logspace(0, 3, n_alphas)} # alpha > 0\n",
    "\n",
    "# define the model/ estimator\n",
    "model = linear_model.Ridge()\n",
    "\n",
    "# define the grid search\n",
    "Ridge_reg = GridSearchCV(\n",
    "    model, params, scoring=scoring,\n",
    "    cv=10,\n",
    "    n_jobs=-1,\n",
    "    return_train_score=True,\n",
    "    verbose=1)"
   ],
   "metadata": {
    "collapsed": false,
    "pycharm": {
     "name": "#%%\n"
    }
   }
  },
  {
   "cell_type": "code",
   "execution_count": 952,
   "outputs": [
    {
     "name": "stdout",
     "output_type": "stream",
     "text": [
      "Fitting 10 folds for each of 100 candidates, totalling 1000 fits\n"
     ]
    },
    {
     "data": {
      "text/plain": "GridSearchCV(cv=10, estimator=Ridge(), n_jobs=-1,\n             param_grid={'alpha': array([   1.        ,    1.07226722,    1.149757  ,    1.23284674,\n          1.32194115,    1.41747416,    1.51991108,    1.62975083,\n          1.7475284 ,    1.87381742,    2.009233  ,    2.15443469,\n          2.3101297 ,    2.47707636,    2.65608778,    2.84803587,\n          3.05385551,    3.27454916,    3.51119173,    3.76493581,\n          4.03701726,    4.32876128,    4.64158883,    4.97702356,\n          5.33669923,    5.72236766,    6.13...\n        200.92330026,  215.443469  ,  231.01297001,  247.7076356 ,\n        265.60877829,  284.80358684,  305.38555088,  327.45491629,\n        351.11917342,  376.49358068,  403.70172586,  432.87612811,\n        464.15888336,  497.70235643,  533.66992312,  572.23676594,\n        613.59072734,  657.93322466,  705.48023107,  756.46332755,\n        811.13083079,  869.74900262,  932.60334688, 1000.        ])},\n             return_train_score=True, scoring='r2', verbose=1)",
      "text/html": "<style>#sk-container-id-53 {color: black;background-color: white;}#sk-container-id-53 pre{padding: 0;}#sk-container-id-53 div.sk-toggleable {background-color: white;}#sk-container-id-53 label.sk-toggleable__label {cursor: pointer;display: block;width: 100%;margin-bottom: 0;padding: 0.3em;box-sizing: border-box;text-align: center;}#sk-container-id-53 label.sk-toggleable__label-arrow:before {content: \"▸\";float: left;margin-right: 0.25em;color: #696969;}#sk-container-id-53 label.sk-toggleable__label-arrow:hover:before {color: black;}#sk-container-id-53 div.sk-estimator:hover label.sk-toggleable__label-arrow:before {color: black;}#sk-container-id-53 div.sk-toggleable__content {max-height: 0;max-width: 0;overflow: hidden;text-align: left;background-color: #f0f8ff;}#sk-container-id-53 div.sk-toggleable__content pre {margin: 0.2em;color: black;border-radius: 0.25em;background-color: #f0f8ff;}#sk-container-id-53 input.sk-toggleable__control:checked~div.sk-toggleable__content {max-height: 200px;max-width: 100%;overflow: auto;}#sk-container-id-53 input.sk-toggleable__control:checked~label.sk-toggleable__label-arrow:before {content: \"▾\";}#sk-container-id-53 div.sk-estimator input.sk-toggleable__control:checked~label.sk-toggleable__label {background-color: #d4ebff;}#sk-container-id-53 div.sk-label input.sk-toggleable__control:checked~label.sk-toggleable__label {background-color: #d4ebff;}#sk-container-id-53 input.sk-hidden--visually {border: 0;clip: rect(1px 1px 1px 1px);clip: rect(1px, 1px, 1px, 1px);height: 1px;margin: -1px;overflow: hidden;padding: 0;position: absolute;width: 1px;}#sk-container-id-53 div.sk-estimator {font-family: monospace;background-color: #f0f8ff;border: 1px dotted black;border-radius: 0.25em;box-sizing: border-box;margin-bottom: 0.5em;}#sk-container-id-53 div.sk-estimator:hover {background-color: #d4ebff;}#sk-container-id-53 div.sk-parallel-item::after {content: \"\";width: 100%;border-bottom: 1px solid gray;flex-grow: 1;}#sk-container-id-53 div.sk-label:hover label.sk-toggleable__label {background-color: #d4ebff;}#sk-container-id-53 div.sk-serial::before {content: \"\";position: absolute;border-left: 1px solid gray;box-sizing: border-box;top: 0;bottom: 0;left: 50%;z-index: 0;}#sk-container-id-53 div.sk-serial {display: flex;flex-direction: column;align-items: center;background-color: white;padding-right: 0.2em;padding-left: 0.2em;position: relative;}#sk-container-id-53 div.sk-item {position: relative;z-index: 1;}#sk-container-id-53 div.sk-parallel {display: flex;align-items: stretch;justify-content: center;background-color: white;position: relative;}#sk-container-id-53 div.sk-item::before, #sk-container-id-53 div.sk-parallel-item::before {content: \"\";position: absolute;border-left: 1px solid gray;box-sizing: border-box;top: 0;bottom: 0;left: 50%;z-index: -1;}#sk-container-id-53 div.sk-parallel-item {display: flex;flex-direction: column;z-index: 1;position: relative;background-color: white;}#sk-container-id-53 div.sk-parallel-item:first-child::after {align-self: flex-end;width: 50%;}#sk-container-id-53 div.sk-parallel-item:last-child::after {align-self: flex-start;width: 50%;}#sk-container-id-53 div.sk-parallel-item:only-child::after {width: 0;}#sk-container-id-53 div.sk-dashed-wrapped {border: 1px dashed gray;margin: 0 0.4em 0.5em 0.4em;box-sizing: border-box;padding-bottom: 0.4em;background-color: white;}#sk-container-id-53 div.sk-label label {font-family: monospace;font-weight: bold;display: inline-block;line-height: 1.2em;}#sk-container-id-53 div.sk-label-container {text-align: center;}#sk-container-id-53 div.sk-container {/* jupyter's `normalize.less` sets `[hidden] { display: none; }` but bootstrap.min.css set `[hidden] { display: none !important; }` so we also need the `!important` here to be able to override the default hidden behavior on the sphinx rendered scikit-learn.org. See: https://github.com/scikit-learn/scikit-learn/issues/21755 */display: inline-block !important;position: relative;}#sk-container-id-53 div.sk-text-repr-fallback {display: none;}</style><div id=\"sk-container-id-53\" class=\"sk-top-container\"><div class=\"sk-text-repr-fallback\"><pre>GridSearchCV(cv=10, estimator=Ridge(), n_jobs=-1,\n             param_grid={&#x27;alpha&#x27;: array([   1.        ,    1.07226722,    1.149757  ,    1.23284674,\n          1.32194115,    1.41747416,    1.51991108,    1.62975083,\n          1.7475284 ,    1.87381742,    2.009233  ,    2.15443469,\n          2.3101297 ,    2.47707636,    2.65608778,    2.84803587,\n          3.05385551,    3.27454916,    3.51119173,    3.76493581,\n          4.03701726,    4.32876128,    4.64158883,    4.97702356,\n          5.33669923,    5.72236766,    6.13...\n        200.92330026,  215.443469  ,  231.01297001,  247.7076356 ,\n        265.60877829,  284.80358684,  305.38555088,  327.45491629,\n        351.11917342,  376.49358068,  403.70172586,  432.87612811,\n        464.15888336,  497.70235643,  533.66992312,  572.23676594,\n        613.59072734,  657.93322466,  705.48023107,  756.46332755,\n        811.13083079,  869.74900262,  932.60334688, 1000.        ])},\n             return_train_score=True, scoring=&#x27;r2&#x27;, verbose=1)</pre><b>In a Jupyter environment, please rerun this cell to show the HTML representation or trust the notebook. <br />On GitHub, the HTML representation is unable to render, please try loading this page with nbviewer.org.</b></div><div class=\"sk-container\" hidden><div class=\"sk-item sk-dashed-wrapped\"><div class=\"sk-label-container\"><div class=\"sk-label sk-toggleable\"><input class=\"sk-toggleable__control sk-hidden--visually\" id=\"sk-estimator-id-109\" type=\"checkbox\" ><label for=\"sk-estimator-id-109\" class=\"sk-toggleable__label sk-toggleable__label-arrow\">GridSearchCV</label><div class=\"sk-toggleable__content\"><pre>GridSearchCV(cv=10, estimator=Ridge(), n_jobs=-1,\n             param_grid={&#x27;alpha&#x27;: array([   1.        ,    1.07226722,    1.149757  ,    1.23284674,\n          1.32194115,    1.41747416,    1.51991108,    1.62975083,\n          1.7475284 ,    1.87381742,    2.009233  ,    2.15443469,\n          2.3101297 ,    2.47707636,    2.65608778,    2.84803587,\n          3.05385551,    3.27454916,    3.51119173,    3.76493581,\n          4.03701726,    4.32876128,    4.64158883,    4.97702356,\n          5.33669923,    5.72236766,    6.13...\n        200.92330026,  215.443469  ,  231.01297001,  247.7076356 ,\n        265.60877829,  284.80358684,  305.38555088,  327.45491629,\n        351.11917342,  376.49358068,  403.70172586,  432.87612811,\n        464.15888336,  497.70235643,  533.66992312,  572.23676594,\n        613.59072734,  657.93322466,  705.48023107,  756.46332755,\n        811.13083079,  869.74900262,  932.60334688, 1000.        ])},\n             return_train_score=True, scoring=&#x27;r2&#x27;, verbose=1)</pre></div></div></div><div class=\"sk-parallel\"><div class=\"sk-parallel-item\"><div class=\"sk-item\"><div class=\"sk-label-container\"><div class=\"sk-label sk-toggleable\"><input class=\"sk-toggleable__control sk-hidden--visually\" id=\"sk-estimator-id-110\" type=\"checkbox\" ><label for=\"sk-estimator-id-110\" class=\"sk-toggleable__label sk-toggleable__label-arrow\">estimator: Ridge</label><div class=\"sk-toggleable__content\"><pre>Ridge()</pre></div></div></div><div class=\"sk-serial\"><div class=\"sk-item\"><div class=\"sk-estimator sk-toggleable\"><input class=\"sk-toggleable__control sk-hidden--visually\" id=\"sk-estimator-id-111\" type=\"checkbox\" ><label for=\"sk-estimator-id-111\" class=\"sk-toggleable__label sk-toggleable__label-arrow\">Ridge</label><div class=\"sk-toggleable__content\"><pre>Ridge()</pre></div></div></div></div></div></div></div></div></div></div>"
     },
     "execution_count": 952,
     "metadata": {},
     "output_type": "execute_result"
    }
   ],
   "source": [
    "#fit the grid search\n",
    "Ridge_reg.fit(X_train.values, y_train)"
   ],
   "metadata": {
    "collapsed": false,
    "pycharm": {
     "name": "#%%\n"
    }
   }
  },
  {
   "cell_type": "code",
   "execution_count": 953,
   "outputs": [
    {
     "name": "stdout",
     "output_type": "stream",
     "text": [
      "Best estimator : Ridge(alpha=1000.0)\n"
     ]
    },
    {
     "data": {
      "text/plain": "Ridge(alpha=1000.0)",
      "text/html": "<style>#sk-container-id-54 {color: black;background-color: white;}#sk-container-id-54 pre{padding: 0;}#sk-container-id-54 div.sk-toggleable {background-color: white;}#sk-container-id-54 label.sk-toggleable__label {cursor: pointer;display: block;width: 100%;margin-bottom: 0;padding: 0.3em;box-sizing: border-box;text-align: center;}#sk-container-id-54 label.sk-toggleable__label-arrow:before {content: \"▸\";float: left;margin-right: 0.25em;color: #696969;}#sk-container-id-54 label.sk-toggleable__label-arrow:hover:before {color: black;}#sk-container-id-54 div.sk-estimator:hover label.sk-toggleable__label-arrow:before {color: black;}#sk-container-id-54 div.sk-toggleable__content {max-height: 0;max-width: 0;overflow: hidden;text-align: left;background-color: #f0f8ff;}#sk-container-id-54 div.sk-toggleable__content pre {margin: 0.2em;color: black;border-radius: 0.25em;background-color: #f0f8ff;}#sk-container-id-54 input.sk-toggleable__control:checked~div.sk-toggleable__content {max-height: 200px;max-width: 100%;overflow: auto;}#sk-container-id-54 input.sk-toggleable__control:checked~label.sk-toggleable__label-arrow:before {content: \"▾\";}#sk-container-id-54 div.sk-estimator input.sk-toggleable__control:checked~label.sk-toggleable__label {background-color: #d4ebff;}#sk-container-id-54 div.sk-label input.sk-toggleable__control:checked~label.sk-toggleable__label {background-color: #d4ebff;}#sk-container-id-54 input.sk-hidden--visually {border: 0;clip: rect(1px 1px 1px 1px);clip: rect(1px, 1px, 1px, 1px);height: 1px;margin: -1px;overflow: hidden;padding: 0;position: absolute;width: 1px;}#sk-container-id-54 div.sk-estimator {font-family: monospace;background-color: #f0f8ff;border: 1px dotted black;border-radius: 0.25em;box-sizing: border-box;margin-bottom: 0.5em;}#sk-container-id-54 div.sk-estimator:hover {background-color: #d4ebff;}#sk-container-id-54 div.sk-parallel-item::after {content: \"\";width: 100%;border-bottom: 1px solid gray;flex-grow: 1;}#sk-container-id-54 div.sk-label:hover label.sk-toggleable__label {background-color: #d4ebff;}#sk-container-id-54 div.sk-serial::before {content: \"\";position: absolute;border-left: 1px solid gray;box-sizing: border-box;top: 0;bottom: 0;left: 50%;z-index: 0;}#sk-container-id-54 div.sk-serial {display: flex;flex-direction: column;align-items: center;background-color: white;padding-right: 0.2em;padding-left: 0.2em;position: relative;}#sk-container-id-54 div.sk-item {position: relative;z-index: 1;}#sk-container-id-54 div.sk-parallel {display: flex;align-items: stretch;justify-content: center;background-color: white;position: relative;}#sk-container-id-54 div.sk-item::before, #sk-container-id-54 div.sk-parallel-item::before {content: \"\";position: absolute;border-left: 1px solid gray;box-sizing: border-box;top: 0;bottom: 0;left: 50%;z-index: -1;}#sk-container-id-54 div.sk-parallel-item {display: flex;flex-direction: column;z-index: 1;position: relative;background-color: white;}#sk-container-id-54 div.sk-parallel-item:first-child::after {align-self: flex-end;width: 50%;}#sk-container-id-54 div.sk-parallel-item:last-child::after {align-self: flex-start;width: 50%;}#sk-container-id-54 div.sk-parallel-item:only-child::after {width: 0;}#sk-container-id-54 div.sk-dashed-wrapped {border: 1px dashed gray;margin: 0 0.4em 0.5em 0.4em;box-sizing: border-box;padding-bottom: 0.4em;background-color: white;}#sk-container-id-54 div.sk-label label {font-family: monospace;font-weight: bold;display: inline-block;line-height: 1.2em;}#sk-container-id-54 div.sk-label-container {text-align: center;}#sk-container-id-54 div.sk-container {/* jupyter's `normalize.less` sets `[hidden] { display: none; }` but bootstrap.min.css set `[hidden] { display: none !important; }` so we also need the `!important` here to be able to override the default hidden behavior on the sphinx rendered scikit-learn.org. See: https://github.com/scikit-learn/scikit-learn/issues/21755 */display: inline-block !important;position: relative;}#sk-container-id-54 div.sk-text-repr-fallback {display: none;}</style><div id=\"sk-container-id-54\" class=\"sk-top-container\"><div class=\"sk-text-repr-fallback\"><pre>Ridge(alpha=1000.0)</pre><b>In a Jupyter environment, please rerun this cell to show the HTML representation or trust the notebook. <br />On GitHub, the HTML representation is unable to render, please try loading this page with nbviewer.org.</b></div><div class=\"sk-container\" hidden><div class=\"sk-item\"><div class=\"sk-estimator sk-toggleable\"><input class=\"sk-toggleable__control sk-hidden--visually\" id=\"sk-estimator-id-112\" type=\"checkbox\" checked><label for=\"sk-estimator-id-112\" class=\"sk-toggleable__label sk-toggleable__label-arrow\">Ridge</label><div class=\"sk-toggleable__content\"><pre>Ridge(alpha=1000.0)</pre></div></div></div></div></div>"
     },
     "execution_count": 953,
     "metadata": {},
     "output_type": "execute_result"
    }
   ],
   "source": [
    "# best estimator\n",
    "print(\"Best estimator :\", Ridge_reg.best_estimator_)\n",
    "\n",
    "# best model\n",
    "best_model = Ridge_reg.best_estimator_\n",
    "best_model.fit(X_train.values, y_train)"
   ],
   "metadata": {
    "collapsed": false,
    "pycharm": {
     "name": "#%%\n"
    }
   }
  },
  {
   "cell_type": "code",
   "execution_count": 954,
   "outputs": [],
   "source": [
    "y_pred_ridge = best_model.predict(X_test.values)"
   ],
   "metadata": {
    "collapsed": false,
    "pycharm": {
     "name": "#%%\n"
    }
   }
  },
  {
   "cell_type": "code",
   "execution_count": 955,
   "outputs": [
    {
     "data": {
      "text/plain": "array([14.12504049, 14.21588388, 14.14948833, 14.11174646, 14.1168827 ,\n       14.22381907, 14.21504092, 14.22692588, 14.1216862 , 14.13148967,\n       14.17880294, 14.18305286, 14.21821776, 13.99297558, 14.18371263,\n       14.11968781, 14.18633328, 14.14358514, 14.15188982, 14.17376005,\n       14.14906242, 14.20625725, 14.19804446, 14.15594085, 14.12468326,\n       14.13124825, 14.20147864, 14.18136016, 14.19829266, 14.18943031,\n       14.21958826, 14.17838461, 14.17184583, 14.2409803 , 14.16010964,\n       14.22977684, 14.19430479, 14.21296359, 14.21324986, 14.15122752,\n       14.23131221, 14.16964717, 14.21499899, 14.16164936, 14.1975216 ,\n       14.15185555, 14.113769  , 14.17017656, 14.13482386, 14.12497132,\n       14.18160255, 14.16981989, 14.18728728, 14.21218051, 14.10927443,\n       14.13073168, 14.12899897, 14.19814169, 14.17520612, 14.19812342,\n       14.14054185, 14.20382013, 14.20348717, 14.1874353 , 14.14431666,\n       14.1685848 , 14.22833628, 14.05246448, 14.14003886, 14.18502114,\n       14.12780694, 14.22826405, 14.22590034, 14.09741767, 14.16509291,\n       14.14806396, 14.16905977, 14.11869738, 14.16588606, 14.16549486,\n       14.06852853, 14.17603956, 14.11014195, 14.10938946, 14.14740755,\n       14.1947131 , 14.15714063, 14.15655048, 14.21666563, 14.20648273,\n       14.11102934, 14.11578449, 14.15371243, 14.18291306, 14.18023783,\n       14.12576526, 14.2209555 , 14.16819088, 14.15326919, 14.1571136 ,\n       14.16698657, 14.22673937, 14.15990522, 14.19817759, 14.11172236,\n       14.15526216, 14.22641039, 14.1936998 , 14.12330902, 14.15904928,\n       14.15370324, 14.10466151, 14.19242662, 14.175404  , 14.19260572,\n       14.14850646, 14.16266138, 14.14940127, 14.10705812, 14.21603919,\n       14.27859659, 14.15762335, 14.21601122, 14.2320628 , 14.17115781,\n       14.18438252, 14.15127329, 14.15009867, 14.068994  , 14.19393063,\n       14.2352201 , 14.14058252, 14.15444166, 14.20095095, 14.11571558,\n       14.06025369, 14.0363213 , 14.17129332, 14.1715775 , 14.12348008,\n       14.17153992, 14.18321413, 14.20275168, 14.22018942, 14.15922349,\n       14.14856329, 14.15308205, 14.14154601, 14.1250179 , 14.16984821,\n       14.24944852, 14.22471038, 14.13127843, 14.11702415, 14.1475239 ,\n       14.10400704, 14.14687794, 14.16599365, 14.12442813, 14.15444514,\n       14.1877648 , 14.16109754, 13.99881673, 14.1567601 , 14.16061865,\n       14.13353941, 14.12535284, 14.18852845, 14.17981658, 14.17043233,\n       14.21998265, 14.12269793, 14.18258512, 14.11595723, 14.19237573,\n       14.21837032, 14.12855239, 14.17830317, 14.10614306, 14.15892234,\n       14.12967942, 14.18658727, 14.22003901, 14.22885907, 14.14013323,\n       14.22264255, 14.21589892, 14.15490328, 14.18070002, 14.21862047,\n       14.17834641, 14.13561526, 14.18698074, 14.18355918, 14.18928451,\n       14.20139827, 14.23584773, 14.18492604, 14.19217489, 14.17742152,\n       14.24903488, 14.22071144, 14.1461239 , 14.21331916, 14.15020922,\n       14.2196699 , 14.19664581, 14.17585554, 14.11385466, 14.20558444,\n       14.20591624, 14.13982897, 14.17043389, 14.16104255, 14.17718206,\n       14.18182757, 14.16717861, 14.21193425, 14.17934017, 14.17053729,\n       14.15351204, 14.18315212, 14.24372947, 14.22549021, 14.20044304,\n       14.17947146, 14.1102055 , 14.11192781, 14.12033736, 14.18142754,\n       14.15363661, 14.15026422, 14.19154424, 14.13219916, 14.12520646,\n       14.16125964, 14.04207986, 14.22925878, 14.19766977, 14.15777045,\n       14.16182851, 14.15837006, 14.2162986 , 14.24221252, 14.15922349,\n       14.21141637, 14.23158346, 14.1079803 , 14.20470822, 14.16511141,\n       14.17056078, 14.19769792, 14.14735247, 14.18491262, 14.23235669,\n       14.15246499, 14.16951643, 14.17405777, 14.102111  , 14.23936639,\n       14.21087003, 14.16716527, 14.2253799 , 14.23163278, 14.25465267,\n       14.19790764, 14.1239013 , 14.20417769, 14.15215048, 14.2012472 ,\n       14.14564122, 14.2023978 , 14.10279043, 14.15002642, 14.20688793,\n       14.21408816, 14.16197417, 14.11951493, 14.16142157, 14.1015964 ,\n       14.15555212, 14.20307814, 14.21778244, 14.17766623, 14.10151697,\n       14.16695583, 14.12732872, 14.15079722, 14.09597945, 14.23385409,\n       14.21090735, 14.1369169 , 14.19720265, 14.18093851, 14.17471339,\n       14.15574775, 14.21484334, 14.18199994, 14.17489115, 14.20873377,\n       14.10615233, 14.14880737, 14.23984953, 14.29136771, 14.24514273,\n       14.29520803, 14.02003132, 14.17046908, 14.08512857, 14.12746384,\n       14.1521051 , 14.26814744, 14.26634633, 14.25623806, 14.21033246,\n       14.18788046, 14.28125754, 14.21732229, 14.15919318, 14.18383245,\n       14.012044  , 13.96872008, 14.16494248, 14.17119836, 14.19702397,\n       14.16638654, 14.11116307, 14.16178361, 14.18207331, 14.18695041,\n       14.11643872, 14.18150128, 14.04637212, 14.13213269, 14.15805537,\n       14.19263836, 14.22105913, 14.15982142, 14.18670497, 14.17569643,\n       14.11740221, 14.0347864 , 14.20964126, 14.17556545, 14.02077512,\n       14.16810093, 14.22874978, 14.0598617 , 14.226245  , 14.13243742,\n       14.20771999, 14.15992172, 14.16774134, 14.1703667 , 14.27258906,\n       14.12937821, 14.1759231 , 14.13262631, 14.18353273, 14.13869203,\n       14.1773889 , 14.18395228, 14.22637129, 14.10425991, 14.21063529,\n       14.10544806, 14.18618646, 14.15472128, 14.12477378, 14.18518829,\n       14.12979547, 14.06920103, 14.10102023, 14.16258239, 14.21479892,\n       14.1701813 , 14.15883511, 14.24165641, 14.22828561, 14.20558618,\n       14.24070906, 14.13299093, 14.15116163, 14.10263639, 14.14017985,\n       14.17207686, 14.16005995, 14.14549546, 14.18760317, 14.18041453,\n       14.12434975, 14.0053191 , 14.10241462, 14.16595005, 14.16211516,\n       14.18449562, 14.19032697, 14.17410436, 14.21286447, 14.18642626,\n       14.217355  , 14.11601237, 14.15954033, 14.08697397, 14.16167941,\n       14.15498276, 14.14130996, 14.21457968, 14.16743067, 14.18971265,\n       14.17894312, 14.21719031, 14.10270865, 14.05219046, 14.12186637,\n       14.16643174, 14.14909723, 14.13660935, 14.14688121, 14.22273334,\n       14.14970922, 14.21296904, 14.20513444, 14.15239139, 14.14488146,\n       14.01182889, 14.19770495, 14.10551881, 14.16141515, 14.16173832,\n       14.15604733, 14.09810009, 14.21043008, 14.12319861, 14.16372571,\n       14.15673311, 14.13642603, 14.19523603, 14.13859334, 14.14513859,\n       14.1796226 , 14.15712873, 14.11486342, 14.17213855, 14.23062538,\n       14.13402678, 14.17902841, 14.17437399, 14.19821977, 14.17138095,\n       14.15214532, 14.23598648, 14.23709174, 14.22010945, 14.11016112,\n       14.22663271, 14.04526898, 13.98772239, 14.26071516, 14.19678098,\n       14.14284656, 14.21651238, 14.24252611, 14.18604961, 14.18696777,\n       14.12483859, 14.10309491, 14.19510422, 14.14520143, 14.18354322,\n       14.22164093, 14.22237834, 14.13087618, 14.14513378, 14.18117064,\n       14.10637891, 14.18784992, 14.17192347, 14.19592651, 14.23296541,\n       14.15913378, 14.07141932, 14.20730446, 14.08833351, 14.23257397,\n       14.32449351, 14.0821863 , 14.17215345, 14.24513799, 14.12545371,\n       14.17059008, 14.16325592, 14.15788702, 14.17998951, 14.23028279,\n       14.11563715, 14.22497172, 14.12821236, 14.16390077, 14.20014597,\n       14.22788911, 14.19073019, 14.11544311, 14.13532472, 14.19658087,\n       14.1578486 , 14.17107865, 14.19345497, 14.13581454, 14.10840896,\n       14.10968025, 14.14248682, 14.1355803 , 14.1775145 , 14.10586831,\n       14.19660573, 14.22556732, 14.18127877, 14.16891381, 14.1789882 ,\n       14.16900048, 14.15700575, 14.13335553, 14.16977319, 14.17377673,\n       14.0538735 , 14.11142618, 14.11647575, 14.15439302, 14.16536742,\n       14.15962314, 14.16527187, 14.20831926, 14.05279068, 14.14566119,\n       14.12905236, 14.20546051, 14.21296449, 14.17327391, 14.13052442,\n       14.20686127, 14.24191153, 14.20561647, 14.2122503 , 14.1938087 ,\n       14.12459428, 14.23445106, 14.22673942, 14.23111569, 14.17403291,\n       14.17300346, 14.13897996, 14.14096808, 14.22506466, 14.21268643,\n       14.18557122, 14.22805107, 14.15055646, 14.16082271, 14.23908105,\n       14.17818221, 14.08590878, 14.1282073 , 14.21178816, 14.22181443,\n       14.21545555, 14.22132866, 14.15200699, 14.1677871 , 14.22699415,\n       14.16810226, 14.18000106, 14.22783672, 14.09770571, 14.10832139,\n       14.20191006, 14.09792769, 14.07572083, 14.14687536, 14.20497269,\n       14.09338723, 14.1565252 , 14.17083346, 14.17621816, 14.24648885,\n       14.23953118, 14.2076349 , 14.29623537, 14.15149852, 14.1810406 ,\n       14.17596491, 14.14256686, 13.99714868, 14.15757014, 14.0634018 ,\n       14.10240541, 13.98750005, 14.13086603, 14.1471174 , 14.09946988,\n       14.09928139, 14.0550319 , 14.08069256, 14.02576963, 14.13426807,\n       14.13133894, 14.03895789, 14.14396262, 14.2121274 , 14.12654396,\n       14.20685431, 14.19978085, 14.09400453, 14.19144487, 14.12153595,\n       14.27540062, 14.12930417, 14.12072616, 14.22405245, 14.13728099,\n       14.07704647, 14.13686286, 14.0367309 , 14.1383694 , 14.18390226,\n       14.12220755, 14.11561452, 14.20357013, 14.21352801, 14.10709991,\n       14.22063675, 14.2308589 , 14.11802846, 14.28358172, 14.16622502,\n       14.2073927 , 14.18666204, 14.04683558, 14.22670508, 14.14086345,\n       14.13111739, 14.0709064 , 14.21180933, 14.24529769, 14.0381423 ,\n       14.23174229, 14.23147728, 14.22511653, 14.24401316, 14.1779865 ,\n       14.24220246, 14.23248113, 14.09781265, 14.12487186, 14.1755567 ,\n       14.16043435, 14.14464923, 14.090718  , 14.19288921, 14.13468861,\n       14.26249811, 14.1791664 , 14.23359831, 14.13535457, 14.17296393,\n       14.03491923, 14.17549446, 14.19198974, 14.15542332, 14.15302299,\n       14.14740216, 14.11504706, 14.12004447, 14.11726082, 14.12837228,\n       14.10832236, 14.05268738, 14.1307764 , 13.98512001, 14.10927614,\n       14.19134768, 14.02631526, 14.15203323, 14.14147407, 14.18084705,\n       14.1087743 , 14.08525157, 14.18750853, 14.16827034, 14.09035709,\n       14.10291098, 14.1751718 , 14.10453063, 14.13086858, 14.11507074,\n       14.1624486 , 14.08992296, 14.1845694 , 14.08566364, 14.12780883,\n       14.244711  , 14.15812898, 14.10870568, 14.16875906, 14.21386271,\n       14.20577982, 14.22977734, 14.16124381, 14.11299792, 14.14963535,\n       14.1866568 , 14.16013885, 14.13864907, 14.11311159, 14.19154714,\n       14.18415031, 14.19997311, 14.06819875, 14.15757273, 14.05743683,\n       14.17607026, 14.08740226, 14.04971627, 14.17030963, 14.18698818,\n       14.11047343, 14.18377579, 14.15805052, 14.21285369, 14.14749716,\n       14.19962085, 14.1173509 , 14.18521431, 14.11259395, 14.25895671,\n       14.13072125, 14.13633138, 14.1832752 , 14.22214871, 14.17738169,\n       14.18528753, 14.12138508, 14.16441368, 14.16255265, 14.16004319,\n       14.21298499, 14.17470953, 14.2271743 , 14.15236201, 14.13619   ,\n       14.17038083, 13.97064478, 14.23583508, 14.21668249, 14.1484662 ,\n       14.19450596, 14.12801043, 14.23126634, 14.04584233, 14.18747442,\n       14.18246383, 14.17342974, 14.15909233, 14.13891176, 14.17432736,\n       14.09130718, 14.18868745, 14.17513643, 14.20909482, 14.15890898,\n       14.1021958 , 14.12321159, 14.13892991, 14.17712546, 14.1099156 ,\n       14.15447614, 14.17789977, 14.13172074, 14.15692581, 14.23842779,\n       14.19599848, 14.06073242, 14.23776402, 14.16276041, 14.14801807,\n       14.16905064, 14.09312353, 14.20354982, 14.21110461, 14.1442909 ,\n       14.12006134, 14.23094622, 14.1241035 , 14.17005201, 14.1812262 ,\n       14.18064282, 14.1255803 , 14.12978964, 14.21709973, 14.12469009,\n       14.11485297, 14.16345324, 14.23140798, 14.13604623, 14.14491166,\n       14.19651457, 14.21506967, 14.10719637, 14.1520165 , 14.22073692,\n       14.17174076, 14.21193577, 14.10891367, 14.18186091, 14.21580549,\n       14.16574485, 14.16568079, 14.21190763, 14.28124131, 14.17309873,\n       14.16540201, 14.09422739, 14.18440897, 14.13970638, 14.16129744,\n       14.19299017, 14.17119348, 14.18484972, 14.20252479, 14.1317567 ,\n       14.19068024, 14.20308747, 14.1722681 , 14.18453621, 14.17126608,\n       14.12595937, 14.19390205, 14.15506719, 14.01924778, 14.2056004 ,\n       14.19064084, 14.12893839, 14.18583023, 14.21822561, 14.17566174,\n       14.14886072, 14.2179402 , 14.21475154, 14.15185279, 14.17858973,\n       14.15758834, 14.20113608, 14.17156385, 14.16751507, 14.1493165 ,\n       14.19740687, 14.18593366, 14.18671585, 14.17783996, 14.19406907,\n       13.98388374, 14.1703293 , 14.19301343, 14.11705525, 14.14142425,\n       14.17733651, 14.19645276, 14.15014107, 14.10526214, 14.183312  ,\n       14.2245193 , 14.13686548, 14.20904429, 14.20092057, 14.20024444,\n       14.16001081, 14.11825381, 14.15497963, 14.16432699, 14.14390673,\n       14.07692291, 14.16098213, 14.1780207 , 14.18413787, 14.16757857,\n       14.15435089, 14.15265173, 14.14995442, 14.15763786, 14.11652238,\n       14.16229529, 14.23064866, 14.21867016, 14.23342743, 14.15700355,\n       14.17525623, 14.22383341, 14.16391455, 14.13585589, 14.17735616,\n       14.15507644, 14.19446379, 14.19378152, 14.16265023, 14.27335574,\n       14.14127685, 14.1689734 , 14.08441445, 14.23411535, 14.21500205,\n       14.21996534, 14.10725414, 14.19778244, 14.21916441, 14.1562649 ,\n       14.18400689, 14.20620034, 14.22566788, 14.17293381, 14.16832235,\n       14.17373439, 14.16081621, 14.24978237, 14.2082348 , 14.1672386 ,\n       14.20689766, 14.21023979, 14.21306909, 14.16730062, 14.21525302,\n       14.22629031, 14.22265725, 14.1870317 , 14.21240461, 14.19716567,\n       14.14432429, 14.25239586, 14.1857307 , 14.18592105, 14.19649507,\n       14.18344816, 14.09402627, 14.16243426, 14.1991804 , 14.23050696,\n       14.2156106 , 14.19754012, 14.13330009])"
     },
     "execution_count": 955,
     "metadata": {},
     "output_type": "execute_result"
    }
   ],
   "source": [
    "y_pred_ridge"
   ],
   "metadata": {
    "collapsed": false,
    "pycharm": {
     "name": "#%%\n"
    }
   }
  },
  {
   "cell_type": "code",
   "execution_count": 956,
   "outputs": [
    {
     "name": "stdout",
     "output_type": "stream",
     "text": [
      "Prediction for :  Log-Electricity(kBtu)\n"
     ]
    },
    {
     "data": {
      "text/plain": "               Model    RMSE     MSE     MAE  Median Absolute Error  \\\n0    Dummy Regressor 1.20512 1.45232 0.93011                0.77151   \n0  Linear Regression 1.22448 1.49934 0.94999                0.78491   \n0    Ridge Regressor 1.20651 1.45568 0.93217                0.77031   \n\n   R² = 1 - RSE  \n0      -0.00031  \n0      -0.03270  \n0      -0.00263  ",
      "text/html": "<div>\n<style scoped>\n    .dataframe tbody tr th:only-of-type {\n        vertical-align: middle;\n    }\n\n    .dataframe tbody tr th {\n        vertical-align: top;\n    }\n\n    .dataframe thead th {\n        text-align: right;\n    }\n</style>\n<table border=\"1\" class=\"dataframe\">\n  <thead>\n    <tr style=\"text-align: right;\">\n      <th></th>\n      <th>Model</th>\n      <th>RMSE</th>\n      <th>MSE</th>\n      <th>MAE</th>\n      <th>Median Absolute Error</th>\n      <th>R² = 1 - RSE</th>\n    </tr>\n  </thead>\n  <tbody>\n    <tr>\n      <th>0</th>\n      <td>Dummy Regressor</td>\n      <td>1.20512</td>\n      <td>1.45232</td>\n      <td>0.93011</td>\n      <td>0.77151</td>\n      <td>-0.00031</td>\n    </tr>\n    <tr>\n      <th>0</th>\n      <td>Linear Regression</td>\n      <td>1.22448</td>\n      <td>1.49934</td>\n      <td>0.94999</td>\n      <td>0.78491</td>\n      <td>-0.03270</td>\n    </tr>\n    <tr>\n      <th>0</th>\n      <td>Ridge Regressor</td>\n      <td>1.20651</td>\n      <td>1.45568</td>\n      <td>0.93217</td>\n      <td>0.77031</td>\n      <td>-0.00263</td>\n    </tr>\n  </tbody>\n</table>\n</div>"
     },
     "metadata": {},
     "output_type": "display_data"
    },
    {
     "data": {
      "text/plain": "<Figure size 432x288 with 1 Axes>",
      "image/png": "[encoded data removed]"
     },
     "metadata": {
      "needs_background": "light"
     },
     "output_type": "display_data"
    },
    {
     "data": {
      "text/plain": "<Figure size 432x288 with 1 Axes>",
      "image/png": "[encoded data removed]"
     },
     "metadata": {
      "needs_background": "light"
     },
     "output_type": "display_data"
    }
   ],
   "source": [
    "# 3) Evaluate\n",
    "results = evaluate_regression(\"Ridge Regressor\", results, y_test, y_pred_ridge)"
   ],
   "metadata": {
    "collapsed": false,
    "pycharm": {
     "name": "#%%\n"
    }
   }
  },
  {
   "cell_type": "markdown",
   "source": [
    "#### 3) Linear Model : LASSO"
   ],
   "metadata": {
    "collapsed": false,
    "pycharm": {
     "name": "#%% md\n"
    }
   }
  },
  {
   "cell_type": "raw",
   "source": [
    "n_alphas = 100\n",
    "alphas = np.logspace(-5, 5, 50)\n",
    "\n",
    "lasso = linear_model.Lasso()\n",
    "\n",
    "coefs = []\n",
    "errors = []\n",
    "for a in alphas:\n",
    "    lasso.set_params(alpha=a)\n",
    "    lasso.fit(X_train, y_train)\n",
    "    coefs.append(lasso.coef_)\n",
    "    errors.append(np.mean((lasso.predict(X_test) - y_test) ** 2))"
   ],
   "metadata": {
    "collapsed": false,
    "pycharm": {
     "name": "#%% raw\n"
    }
   }
  },
  {
   "cell_type": "code",
   "execution_count": 957,
   "outputs": [],
   "source": [
    "from sklearn.linear_model import Lasso\n",
    "\n",
    "param_grid_lasso = [{\n",
    "    \"regressor\": [Lasso(max_iter=1000)], # elastic net regressor\n",
    "    \"regressor__alpha\": np.logspace(-3, 1, 5), # penalty intensity (5 values between 10⁻³ and 10¹)\n",
    "}]"
   ],
   "metadata": {
    "collapsed": false,
    "pycharm": {
     "name": "#%%\n"
    }
   }
  },
  {
   "cell_type": "code",
   "execution_count": 958,
   "outputs": [],
   "source": [
    "n_alphas = 100\n",
    "params = {\"alpha\": np.logspace(0, 3, n_alphas)}\n",
    "\n",
    "# define the model/ estimator\n",
    "model = linear_model.Lasso()\n",
    "\n",
    "# define the grid search\n",
    "Lasso_reg = GridSearchCV(\n",
    "    model, params, scoring=scoring,\n",
    "    cv=5,\n",
    "    n_jobs=-1,\n",
    "    return_train_score=True,\n",
    "    verbose=1)"
   ],
   "metadata": {
    "collapsed": false,
    "pycharm": {
     "name": "#%%\n"
    }
   }
  },
  {
   "cell_type": "code",
   "execution_count": 959,
   "outputs": [
    {
     "name": "stdout",
     "output_type": "stream",
     "text": [
      "Fitting 5 folds for each of 100 candidates, totalling 500 fits\n"
     ]
    },
    {
     "data": {
      "text/plain": "GridSearchCV(cv=5, estimator=Lasso(), n_jobs=-1,\n             param_grid={'alpha': array([   1.        ,    1.07226722,    1.149757  ,    1.23284674,\n          1.32194115,    1.41747416,    1.51991108,    1.62975083,\n          1.7475284 ,    1.87381742,    2.009233  ,    2.15443469,\n          2.3101297 ,    2.47707636,    2.65608778,    2.84803587,\n          3.05385551,    3.27454916,    3.51119173,    3.76493581,\n          4.03701726,    4.32876128,    4.64158883,    4.97702356,\n          5.33669923,    5.72236766,    6.135...\n        200.92330026,  215.443469  ,  231.01297001,  247.7076356 ,\n        265.60877829,  284.80358684,  305.38555088,  327.45491629,\n        351.11917342,  376.49358068,  403.70172586,  432.87612811,\n        464.15888336,  497.70235643,  533.66992312,  572.23676594,\n        613.59072734,  657.93322466,  705.48023107,  756.46332755,\n        811.13083079,  869.74900262,  932.60334688, 1000.        ])},\n             return_train_score=True, scoring='r2', verbose=1)",
      "text/html": "<style>#sk-container-id-55 {color: black;background-color: white;}#sk-container-id-55 pre{padding: 0;}#sk-container-id-55 div.sk-toggleable {background-color: white;}#sk-container-id-55 label.sk-toggleable__label {cursor: pointer;display: block;width: 100%;margin-bottom: 0;padding: 0.3em;box-sizing: border-box;text-align: center;}#sk-container-id-55 label.sk-toggleable__label-arrow:before {content: \"▸\";float: left;margin-right: 0.25em;color: #696969;}#sk-container-id-55 label.sk-toggleable__label-arrow:hover:before {color: black;}#sk-container-id-55 div.sk-estimator:hover label.sk-toggleable__label-arrow:before {color: black;}#sk-container-id-55 div.sk-toggleable__content {max-height: 0;max-width: 0;overflow: hidden;text-align: left;background-color: #f0f8ff;}#sk-container-id-55 div.sk-toggleable__content pre {margin: 0.2em;color: black;border-radius: 0.25em;background-color: #f0f8ff;}#sk-container-id-55 input.sk-toggleable__control:checked~div.sk-toggleable__content {max-height: 200px;max-width: 100%;overflow: auto;}#sk-container-id-55 input.sk-toggleable__control:checked~label.sk-toggleable__label-arrow:before {content: \"▾\";}#sk-container-id-55 div.sk-estimator input.sk-toggleable__control:checked~label.sk-toggleable__label {background-color: #d4ebff;}#sk-container-id-55 div.sk-label input.sk-toggleable__control:checked~label.sk-toggleable__label {background-color: #d4ebff;}#sk-container-id-55 input.sk-hidden--visually {border: 0;clip: rect(1px 1px 1px 1px);clip: rect(1px, 1px, 1px, 1px);height: 1px;margin: -1px;overflow: hidden;padding: 0;position: absolute;width: 1px;}#sk-container-id-55 div.sk-estimator {font-family: monospace;background-color: #f0f8ff;border: 1px dotted black;border-radius: 0.25em;box-sizing: border-box;margin-bottom: 0.5em;}#sk-container-id-55 div.sk-estimator:hover {background-color: #d4ebff;}#sk-container-id-55 div.sk-parallel-item::after {content: \"\";width: 100%;border-bottom: 1px solid gray;flex-grow: 1;}#sk-container-id-55 div.sk-label:hover label.sk-toggleable__label {background-color: #d4ebff;}#sk-container-id-55 div.sk-serial::before {content: \"\";position: absolute;border-left: 1px solid gray;box-sizing: border-box;top: 0;bottom: 0;left: 50%;z-index: 0;}#sk-container-id-55 div.sk-serial {display: flex;flex-direction: column;align-items: center;background-color: white;padding-right: 0.2em;padding-left: 0.2em;position: relative;}#sk-container-id-55 div.sk-item {position: relative;z-index: 1;}#sk-container-id-55 div.sk-parallel {display: flex;align-items: stretch;justify-content: center;background-color: white;position: relative;}#sk-container-id-55 div.sk-item::before, #sk-container-id-55 div.sk-parallel-item::before {content: \"\";position: absolute;border-left: 1px solid gray;box-sizing: border-box;top: 0;bottom: 0;left: 50%;z-index: -1;}#sk-container-id-55 div.sk-parallel-item {display: flex;flex-direction: column;z-index: 1;position: relative;background-color: white;}#sk-container-id-55 div.sk-parallel-item:first-child::after {align-self: flex-end;width: 50%;}#sk-container-id-55 div.sk-parallel-item:last-child::after {align-self: flex-start;width: 50%;}#sk-container-id-55 div.sk-parallel-item:only-child::after {width: 0;}#sk-container-id-55 div.sk-dashed-wrapped {border: 1px dashed gray;margin: 0 0.4em 0.5em 0.4em;box-sizing: border-box;padding-bottom: 0.4em;background-color: white;}#sk-container-id-55 div.sk-label label {font-family: monospace;font-weight: bold;display: inline-block;line-height: 1.2em;}#sk-container-id-55 div.sk-label-container {text-align: center;}#sk-container-id-55 div.sk-container {/* jupyter's `normalize.less` sets `[hidden] { display: none; }` but bootstrap.min.css set `[hidden] { display: none !important; }` so we also need the `!important` here to be able to override the default hidden behavior on the sphinx rendered scikit-learn.org. See: https://github.com/scikit-learn/scikit-learn/issues/21755 */display: inline-block !important;position: relative;}#sk-container-id-55 div.sk-text-repr-fallback {display: none;}</style><div id=\"sk-container-id-55\" class=\"sk-top-container\"><div class=\"sk-text-repr-fallback\"><pre>GridSearchCV(cv=5, estimator=Lasso(), n_jobs=-1,\n             param_grid={&#x27;alpha&#x27;: array([   1.        ,    1.07226722,    1.149757  ,    1.23284674,\n          1.32194115,    1.41747416,    1.51991108,    1.62975083,\n          1.7475284 ,    1.87381742,    2.009233  ,    2.15443469,\n          2.3101297 ,    2.47707636,    2.65608778,    2.84803587,\n          3.05385551,    3.27454916,    3.51119173,    3.76493581,\n          4.03701726,    4.32876128,    4.64158883,    4.97702356,\n          5.33669923,    5.72236766,    6.135...\n        200.92330026,  215.443469  ,  231.01297001,  247.7076356 ,\n        265.60877829,  284.80358684,  305.38555088,  327.45491629,\n        351.11917342,  376.49358068,  403.70172586,  432.87612811,\n        464.15888336,  497.70235643,  533.66992312,  572.23676594,\n        613.59072734,  657.93322466,  705.48023107,  756.46332755,\n        811.13083079,  869.74900262,  932.60334688, 1000.        ])},\n             return_train_score=True, scoring=&#x27;r2&#x27;, verbose=1)</pre><b>In a Jupyter environment, please rerun this cell to show the HTML representation or trust the notebook. <br />On GitHub, the HTML representation is unable to render, please try loading this page with nbviewer.org.</b></div><div class=\"sk-container\" hidden><div class=\"sk-item sk-dashed-wrapped\"><div class=\"sk-label-container\"><div class=\"sk-label sk-toggleable\"><input class=\"sk-toggleable__control sk-hidden--visually\" id=\"sk-estimator-id-113\" type=\"checkbox\" ><label for=\"sk-estimator-id-113\" class=\"sk-toggleable__label sk-toggleable__label-arrow\">GridSearchCV</label><div class=\"sk-toggleable__content\"><pre>GridSearchCV(cv=5, estimator=Lasso(), n_jobs=-1,\n             param_grid={&#x27;alpha&#x27;: array([   1.        ,    1.07226722,    1.149757  ,    1.23284674,\n          1.32194115,    1.41747416,    1.51991108,    1.62975083,\n          1.7475284 ,    1.87381742,    2.009233  ,    2.15443469,\n          2.3101297 ,    2.47707636,    2.65608778,    2.84803587,\n          3.05385551,    3.27454916,    3.51119173,    3.76493581,\n          4.03701726,    4.32876128,    4.64158883,    4.97702356,\n          5.33669923,    5.72236766,    6.135...\n        200.92330026,  215.443469  ,  231.01297001,  247.7076356 ,\n        265.60877829,  284.80358684,  305.38555088,  327.45491629,\n        351.11917342,  376.49358068,  403.70172586,  432.87612811,\n        464.15888336,  497.70235643,  533.66992312,  572.23676594,\n        613.59072734,  657.93322466,  705.48023107,  756.46332755,\n        811.13083079,  869.74900262,  932.60334688, 1000.        ])},\n             return_train_score=True, scoring=&#x27;r2&#x27;, verbose=1)</pre></div></div></div><div class=\"sk-parallel\"><div class=\"sk-parallel-item\"><div class=\"sk-item\"><div class=\"sk-label-container\"><div class=\"sk-label sk-toggleable\"><input class=\"sk-toggleable__control sk-hidden--visually\" id=\"sk-estimator-id-114\" type=\"checkbox\" ><label for=\"sk-estimator-id-114\" class=\"sk-toggleable__label sk-toggleable__label-arrow\">estimator: Lasso</label><div class=\"sk-toggleable__content\"><pre>Lasso()</pre></div></div></div><div class=\"sk-serial\"><div class=\"sk-item\"><div class=\"sk-estimator sk-toggleable\"><input class=\"sk-toggleable__control sk-hidden--visually\" id=\"sk-estimator-id-115\" type=\"checkbox\" ><label for=\"sk-estimator-id-115\" class=\"sk-toggleable__label sk-toggleable__label-arrow\">Lasso</label><div class=\"sk-toggleable__content\"><pre>Lasso()</pre></div></div></div></div></div></div></div></div></div></div>"
     },
     "execution_count": 959,
     "metadata": {},
     "output_type": "execute_result"
    }
   ],
   "source": [
    "#fit the grid search\n",
    "Lasso_reg.fit(X_train.values, y_train)"
   ],
   "metadata": {
    "collapsed": false,
    "pycharm": {
     "name": "#%%\n"
    }
   }
  },
  {
   "cell_type": "code",
   "execution_count": 960,
   "outputs": [
    {
     "name": "stdout",
     "output_type": "stream",
     "text": [
      "Best estimator : Lasso()\n"
     ]
    },
    {
     "data": {
      "text/plain": "Lasso()",
      "text/html": "<style>#sk-container-id-56 {color: black;background-color: white;}#sk-container-id-56 pre{padding: 0;}#sk-container-id-56 div.sk-toggleable {background-color: white;}#sk-container-id-56 label.sk-toggleable__label {cursor: pointer;display: block;width: 100%;margin-bottom: 0;padding: 0.3em;box-sizing: border-box;text-align: center;}#sk-container-id-56 label.sk-toggleable__label-arrow:before {content: \"▸\";float: left;margin-right: 0.25em;color: #696969;}#sk-container-id-56 label.sk-toggleable__label-arrow:hover:before {color: black;}#sk-container-id-56 div.sk-estimator:hover label.sk-toggleable__label-arrow:before {color: black;}#sk-container-id-56 div.sk-toggleable__content {max-height: 0;max-width: 0;overflow: hidden;text-align: left;background-color: #f0f8ff;}#sk-container-id-56 div.sk-toggleable__content pre {margin: 0.2em;color: black;border-radius: 0.25em;background-color: #f0f8ff;}#sk-container-id-56 input.sk-toggleable__control:checked~div.sk-toggleable__content {max-height: 200px;max-width: 100%;overflow: auto;}#sk-container-id-56 input.sk-toggleable__control:checked~label.sk-toggleable__label-arrow:before {content: \"▾\";}#sk-container-id-56 div.sk-estimator input.sk-toggleable__control:checked~label.sk-toggleable__label {background-color: #d4ebff;}#sk-container-id-56 div.sk-label input.sk-toggleable__control:checked~label.sk-toggleable__label {background-color: #d4ebff;}#sk-container-id-56 input.sk-hidden--visually {border: 0;clip: rect(1px 1px 1px 1px);clip: rect(1px, 1px, 1px, 1px);height: 1px;margin: -1px;overflow: hidden;padding: 0;position: absolute;width: 1px;}#sk-container-id-56 div.sk-estimator {font-family: monospace;background-color: #f0f8ff;border: 1px dotted black;border-radius: 0.25em;box-sizing: border-box;margin-bottom: 0.5em;}#sk-container-id-56 div.sk-estimator:hover {background-color: #d4ebff;}#sk-container-id-56 div.sk-parallel-item::after {content: \"\";width: 100%;border-bottom: 1px solid gray;flex-grow: 1;}#sk-container-id-56 div.sk-label:hover label.sk-toggleable__label {background-color: #d4ebff;}#sk-container-id-56 div.sk-serial::before {content: \"\";position: absolute;border-left: 1px solid gray;box-sizing: border-box;top: 0;bottom: 0;left: 50%;z-index: 0;}#sk-container-id-56 div.sk-serial {display: flex;flex-direction: column;align-items: center;background-color: white;padding-right: 0.2em;padding-left: 0.2em;position: relative;}#sk-container-id-56 div.sk-item {position: relative;z-index: 1;}#sk-container-id-56 div.sk-parallel {display: flex;align-items: stretch;justify-content: center;background-color: white;position: relative;}#sk-container-id-56 div.sk-item::before, #sk-container-id-56 div.sk-parallel-item::before {content: \"\";position: absolute;border-left: 1px solid gray;box-sizing: border-box;top: 0;bottom: 0;left: 50%;z-index: -1;}#sk-container-id-56 div.sk-parallel-item {display: flex;flex-direction: column;z-index: 1;position: relative;background-color: white;}#sk-container-id-56 div.sk-parallel-item:first-child::after {align-self: flex-end;width: 50%;}#sk-container-id-56 div.sk-parallel-item:last-child::after {align-self: flex-start;width: 50%;}#sk-container-id-56 div.sk-parallel-item:only-child::after {width: 0;}#sk-container-id-56 div.sk-dashed-wrapped {border: 1px dashed gray;margin: 0 0.4em 0.5em 0.4em;box-sizing: border-box;padding-bottom: 0.4em;background-color: white;}#sk-container-id-56 div.sk-label label {font-family: monospace;font-weight: bold;display: inline-block;line-height: 1.2em;}#sk-container-id-56 div.sk-label-container {text-align: center;}#sk-container-id-56 div.sk-container {/* jupyter's `normalize.less` sets `[hidden] { display: none; }` but bootstrap.min.css set `[hidden] { display: none !important; }` so we also need the `!important` here to be able to override the default hidden behavior on the sphinx rendered scikit-learn.org. See: https://github.com/scikit-learn/scikit-learn/issues/21755 */display: inline-block !important;position: relative;}#sk-container-id-56 div.sk-text-repr-fallback {display: none;}</style><div id=\"sk-container-id-56\" class=\"sk-top-container\"><div class=\"sk-text-repr-fallback\"><pre>Lasso()</pre><b>In a Jupyter environment, please rerun this cell to show the HTML representation or trust the notebook. <br />On GitHub, the HTML representation is unable to render, please try loading this page with nbviewer.org.</b></div><div class=\"sk-container\" hidden><div class=\"sk-item\"><div class=\"sk-estimator sk-toggleable\"><input class=\"sk-toggleable__control sk-hidden--visually\" id=\"sk-estimator-id-116\" type=\"checkbox\" checked><label for=\"sk-estimator-id-116\" class=\"sk-toggleable__label sk-toggleable__label-arrow\">Lasso</label><div class=\"sk-toggleable__content\"><pre>Lasso()</pre></div></div></div></div></div>"
     },
     "execution_count": 960,
     "metadata": {},
     "output_type": "execute_result"
    }
   ],
   "source": [
    "# best estimator\n",
    "print(\"Best estimator :\", Lasso_reg.best_estimator_)\n",
    "\n",
    "# best model\n",
    "best_model = Lasso_reg.best_estimator_\n",
    "best_model.fit(X_train.values, y_train)"
   ],
   "metadata": {
    "collapsed": false,
    "pycharm": {
     "name": "#%%\n"
    }
   }
  },
  {
   "cell_type": "code",
   "execution_count": 961,
   "outputs": [],
   "source": [
    "y_pred_lasso = best_model.predict(X_test.values)"
   ],
   "metadata": {
    "collapsed": false,
    "pycharm": {
     "name": "#%%\n"
    }
   }
  },
  {
   "cell_type": "code",
   "execution_count": 962,
   "outputs": [
    {
     "name": "stdout",
     "output_type": "stream",
     "text": [
      "Prediction for :  Log-Electricity(kBtu)\n"
     ]
    },
    {
     "data": {
      "text/plain": "               Model    RMSE     MSE     MAE  Median Absolute Error  \\\n0    Dummy Regressor 1.20512 1.45232 0.93011                0.77151   \n0  Linear Regression 1.22448 1.49934 0.94999                0.78491   \n0    Ridge Regressor 1.20651 1.45568 0.93217                0.77031   \n0    Lasso Regressor 1.20512 1.45232 0.93011                0.77151   \n\n   R² = 1 - RSE  \n0      -0.00031  \n0      -0.03270  \n0      -0.00263  \n0      -0.00031  ",
      "text/html": "<div>\n<style scoped>\n    .dataframe tbody tr th:only-of-type {\n        vertical-align: middle;\n    }\n\n    .dataframe tbody tr th {\n        vertical-align: top;\n    }\n\n    .dataframe thead th {\n        text-align: right;\n    }\n</style>\n<table border=\"1\" class=\"dataframe\">\n  <thead>\n    <tr style=\"text-align: right;\">\n      <th></th>\n      <th>Model</th>\n      <th>RMSE</th>\n      <th>MSE</th>\n      <th>MAE</th>\n      <th>Median Absolute Error</th>\n      <th>R² = 1 - RSE</th>\n    </tr>\n  </thead>\n  <tbody>\n    <tr>\n      <th>0</th>\n      <td>Dummy Regressor</td>\n      <td>1.20512</td>\n      <td>1.45232</td>\n      <td>0.93011</td>\n      <td>0.77151</td>\n      <td>-0.00031</td>\n    </tr>\n    <tr>\n      <th>0</th>\n      <td>Linear Regression</td>\n      <td>1.22448</td>\n      <td>1.49934</td>\n      <td>0.94999</td>\n      <td>0.78491</td>\n      <td>-0.03270</td>\n    </tr>\n    <tr>\n      <th>0</th>\n      <td>Ridge Regressor</td>\n      <td>1.20651</td>\n      <td>1.45568</td>\n      <td>0.93217</td>\n      <td>0.77031</td>\n      <td>-0.00263</td>\n    </tr>\n    <tr>\n      <th>0</th>\n      <td>Lasso Regressor</td>\n      <td>1.20512</td>\n      <td>1.45232</td>\n      <td>0.93011</td>\n      <td>0.77151</td>\n      <td>-0.00031</td>\n    </tr>\n  </tbody>\n</table>\n</div>"
     },
     "metadata": {},
     "output_type": "display_data"
    },
    {
     "data": {
      "text/plain": "<Figure size 432x288 with 1 Axes>",
      "image/png": "[encoded data removed]"
     },
     "metadata": {
      "needs_background": "light"
     },
     "output_type": "display_data"
    },
    {
     "data": {
      "text/plain": "<Figure size 432x288 with 1 Axes>",
      "image/png": "[encoded data removed]"
     },
     "metadata": {
      "needs_background": "light"
     },
     "output_type": "display_data"
    }
   ],
   "source": [
    "# 3) Evaluate\n",
    "results = evaluate_regression(\"Lasso Regressor\", results, y_test, y_pred_lasso)"
   ],
   "metadata": {
    "collapsed": false,
    "pycharm": {
     "name": "#%%\n"
    }
   }
  },
  {
   "cell_type": "raw",
   "source": [
    "n_alphas = 50\n",
    "alphas = np.logspace(-10, 10, n_alphas)\n",
    "lasso = linear_model.Lasso(fit_intercept=False)\n",
    "\n",
    "\"\"\"\n",
    "fit_intercept : bool, default=True\n",
    "Whether to calculate the intercept for this model. If set to False, no intercept will be used in calculations (i.e. data is expected to be centered).\n",
    "\"\"\"\n",
    "\n",
    "coefs = []\n",
    "errors = []\n",
    "for a in alphas:\n",
    "    lasso.set_params(alpha=a)\n",
    "    lasso.fit(X_train, y_train)\n",
    "    coefs.append(lasso.coef_)\n",
    "    errors.append([baseline_error, np.mean((lasso.predict(X_test) - y_test) ** 2)])"
   ],
   "metadata": {
    "collapsed": false,
    "pycharm": {
     "name": "#%% raw\n"
    }
   }
  },
  {
   "cell_type": "raw",
   "source": [
    "# observation du comportement de l'erreur\n",
    "\n",
    "ax = plt.gca()\n",
    "ax.plot(alphas, errors, [10**-5, 10**5], [baseline_error, baseline_error])\n",
    "ax.set_xscale('log')\n",
    "plt.show()"
   ],
   "metadata": {
    "collapsed": false,
    "pycharm": {
     "name": "#%% raw\n"
    }
   }
  },
  {
   "cell_type": "raw",
   "source": [
    "# recupere l'erreur min\n",
    "errors[np.argmin(errors)]"
   ],
   "metadata": {
    "collapsed": false,
    "pycharm": {
     "name": "#%% raw\n"
    }
   }
  },
  {
   "cell_type": "raw",
   "source": [
    "# recup alpha associé à cet erreur min\n",
    "alphas[np.argmin(errors)]"
   ],
   "metadata": {
    "collapsed": false,
    "pycharm": {
     "name": "#%% raw\n"
    }
   }
  },
  {
   "cell_type": "raw",
   "source": [
    "# chemin de régularisation\n",
    "ax = plt.gca()\n",
    "ax.plot(alphas, coefs)\n",
    "ax.set_xscale('log')\n",
    "plt.show()"
   ],
   "metadata": {
    "collapsed": false,
    "pycharm": {
     "name": "#%% raw\n"
    }
   }
  },
  {
   "cell_type": "raw",
   "source": [
    "ax = plt.gca()\n",
    "\n",
    "ax.plot(alphas, coefs)\n",
    "ax.set_xscale('log')\n",
    "plt.xlabel('alpha')\n",
    "plt.ylabel('weights')\n",
    "plt.axis('tight')\n",
    "plt.show()"
   ],
   "metadata": {
    "collapsed": false,
    "pycharm": {
     "name": "#%% raw\n"
    }
   }
  },
  {
   "cell_type": "raw",
   "source": [
    "import numpy as np\n",
    "\n",
    "X = np.matrix([-0.78768, -1.51760513, 0.74416271, -0.62288928])\n",
    "X = X.T\n",
    "print(X)\n",
    "\n",
    "y = np.matrix([-34.59703199, -30.79543532, 19.31018182, -19.44809959])\n",
    "y = y.T\n",
    "print(y)\n",
    "print(np.linalg.inv(X.T.dot(X)).dot(X.T))\n",
    "beta = np.linalg.inv(X.T.dot(X)).dot(X.T).dot(y)\n",
    "beta"
   ],
   "metadata": {
    "collapsed": false,
    "pycharm": {
     "name": "#%% raw\n"
    }
   }
  },
  {
   "cell_type": "markdown",
   "source": [
    "#### 4) Linear Model : Elastic Net"
   ],
   "metadata": {
    "collapsed": false,
    "pycharm": {
     "name": "#%% md\n"
    }
   }
  },
  {
   "cell_type": "code",
   "execution_count": 963,
   "outputs": [],
   "source": [
    "# Grid of research for ElasticNet\n",
    "from sklearn.linear_model import ElasticNet\n",
    "from scipy.stats import uniform  # uniform distr between 0 and 1\n",
    "\n",
    "# Create space of candidate values for hyperparameters\n",
    "param_grid_elastic = [{\n",
    "    \"regressor\": [ElasticNet(max_iter=1000)], # elastic net regressor\n",
    "    \"regressor__alpha\": np.logspace(-3, 1, 5), # penalty intensity (5 values between 10⁻³ and 10¹)\n",
    "    \"regressor__l1_ratio\": uniform() # mixing parameter for l1 and l2 penalties\n",
    "}]"
   ],
   "metadata": {
    "collapsed": false,
    "pycharm": {
     "name": "#%%\n"
    }
   }
  },
  {
   "cell_type": "raw",
   "source": [
    "from sklearn.linear_model import ElasticNet\n",
    "\n",
    "#rappel de la fonction de coût du elasticnet\n",
    "#1 / (2 * n_samples) * ||y - Xw||^2_2 + alpha * l1_ratio * ||w||_1 + 0.5 * alpha * (1 - l1_ratio) * ||w||^2_2\n",
    "\n",
    "parameters = {'tol' : [0.1,0.01,0.001,0.0001],\n",
    "              \"alpha\": [0.0001, 0.001, 0.01, 0.1, 1, 10, 100],  #alpha, coef qui multiplie le terme de pénalité)\n",
    "              \"l1_ratio\": np.arange(0.0, 1.0, 0.1)}#L1 ratio , =1 équivaut à un Lasso, 0 à un Ridge\n",
    "\n",
    "\n",
    "elastic_grid = GridSearchCV(estimator = ElasticNet(),\n",
    "                            param_grid = parameters,\n",
    "                            scoring = 'neg_mean_squared_error',\n",
    "                            cv=5,\n",
    "                            verbose=0\n",
    "                            )\n",
    "\n",
    "elastic_grid.fit(X_train, y_train)"
   ],
   "metadata": {
    "collapsed": false,
    "pycharm": {
     "name": "#%% raw\n"
    }
   }
  },
  {
   "cell_type": "raw",
   "source": [
    "elastic_grid.best_params_"
   ],
   "metadata": {
    "collapsed": false,
    "pycharm": {
     "name": "#%% raw\n"
    }
   }
  },
  {
   "cell_type": "markdown",
   "source": [
    "results = pd.DataFrame({})\n",
    "\n",
    "import math\n",
    "results = results.append(pd.DataFrame({\n",
    "    'Modèle' : ['Elasticnet Regression'],\n",
    "    'Score_RMSE' : [math.sqrt(mean_squared_error(elastic_grid.predict(X_test), y_test))]}),\n",
    "    ignore_index=True)"
   ],
   "metadata": {
    "collapsed": false,
    "pycharm": {
     "name": "#%% md\n"
    }
   }
  },
  {
   "cell_type": "markdown",
   "source": [
    "### 2) Ensemble learning methods"
   ],
   "metadata": {
    "collapsed": false,
    "pycharm": {
     "name": "#%% md\n"
    }
   }
  },
  {
   "cell_type": "markdown",
   "source": [
    "#### 1) Parallelized Implementation : Random Forest"
   ],
   "metadata": {
    "collapsed": false,
    "pycharm": {
     "name": "#%% md\n"
    }
   }
  },
  {
   "cell_type": "raw",
   "source": [
    "from sklearn.ensemble import RandomForestRegressor\n",
    "\n",
    "rfr = RandomForestRegressor(n_estimators=1000) # nb of trees 1000 for the forest"
   ],
   "metadata": {
    "collapsed": false,
    "pycharm": {
     "name": "#%% raw\n"
    }
   }
  },
  {
   "cell_type": "raw",
   "source": [
    "rfr = rfr.fit(X_train.values, y_train)"
   ],
   "metadata": {
    "collapsed": false,
    "pycharm": {
     "name": "#%% raw\n"
    }
   }
  },
  {
   "cell_type": "raw",
   "source": [
    "import timeit\n",
    "\n",
    "start_time = timeit.default_timer()\n",
    "y_pred_rfr = rfr.predict(X_test.values)\n",
    "elapsed = timeit.default_timer() - start_time\n",
    "accuracy = rfr.score(X_test.values, y_test)\n",
    "print(\"accuracy {:.2f} time {:.2f}s\".format(accuracy, elapsed))"
   ],
   "metadata": {
    "collapsed": false,
    "pycharm": {
     "name": "#%% raw\n"
    }
   }
  },
  {
   "cell_type": "raw",
   "source": [
    "results = evaluate_regression(\"Random Forest Regressor\", results, y_test, y_pred_rfr)"
   ],
   "metadata": {
    "collapsed": false,
    "pycharm": {
     "name": "#%% raw\n"
    }
   }
  },
  {
   "cell_type": "raw",
   "source": [
    "from sklearn.ensemble import RandomForestRegressor\n",
    "\n",
    "parameters = {\n",
    "    'n_estimators' : [10,50,100,300,500], #nombre d'arbres de décision\n",
    "    'min_samples_leaf' : [1,3,5,10], #nombre de feuilles minimales dans un noeud\n",
    "    'max_features': ['auto', 'sqrt'] #nombre de features observées pour chaque arbre\n",
    "}"
   ],
   "metadata": {
    "collapsed": false,
    "pycharm": {
     "name": "#%% raw\n"
    }
   }
  },
  {
   "cell_type": "code",
   "execution_count": 964,
   "outputs": [],
   "source": [
    "# Grid of research for Random Forest\n",
    "from sklearn.ensemble import RandomForestRegressor\n",
    "from scipy.stats import randint as sp_randint\n",
    "\n",
    "# Create space of candidate values for hyperparameters\n",
    "param_grid_forest = [{\n",
    "    \"regressor\": [RandomForestRegressor(n_jobs=-1, random_state=seed, n_estimators=1000)], # random forest regressor\n",
    "    \"regressor__max_features\": sp_randint(2, 5), # number of features to consider at each node\n",
    "    \"regressor__max_depth\": sp_randint(2, 5), # maximum depth (to prune) a stump\n",
    "    \"regressor__min_samples_leaf\": sp_randint(1, 100), # minimum number of samples required to be at a leaf node\n",
    "}]\n"
   ],
   "metadata": {
    "collapsed": false,
    "pycharm": {
     "name": "#%%\n"
    }
   }
  },
  {
   "cell_type": "raw",
   "source": [
    "rfr_search.best_params_"
   ],
   "metadata": {
    "collapsed": false,
    "pycharm": {
     "name": "#%% raw\n"
    }
   }
  },
  {
   "cell_type": "raw",
   "source": [
    "rfr_best = RandomForestRegressor(n_estimators=500, min_samples_leaf=10, max_features='sqrt') # nb of trees 1000 for the forest"
   ],
   "metadata": {
    "collapsed": false,
    "pycharm": {
     "name": "#%% raw\n"
    }
   }
  },
  {
   "cell_type": "raw",
   "source": [
    "rfr_best = rfr_best.fit(X_train.values, y_train)"
   ],
   "metadata": {
    "collapsed": false,
    "pycharm": {
     "name": "#%% raw\n"
    }
   }
  },
  {
   "cell_type": "raw",
   "source": [
    "y_pred_rfr_best = rfr_best.predict(X_test.values)\n",
    "\n",
    "results = evaluate_regression(\"Random Forest Regressor Best\", results, y_test, y_pred_rfr_best)"
   ],
   "metadata": {
    "collapsed": false,
    "pycharm": {
     "name": "#%% raw\n"
    }
   }
  },
  {
   "cell_type": "raw",
   "source": [
    "display_prediction(y_test, y_pred_lr)"
   ],
   "metadata": {
    "collapsed": false,
    "pycharm": {
     "name": "#%% raw\n"
    }
   }
  },
  {
   "cell_type": "raw",
   "source": [
    "import math\n",
    "results = results.append(pd.DataFrame({\n",
    "    'Modèle' : ['Random Forest Regressor'],\n",
    "    'Score_RMSE' : [math.sqrt(mean_squared_error(rfr_search.predict(X_test), y_test))]}),\n",
    "    ignore_index=True)"
   ],
   "metadata": {
    "collapsed": false,
    "pycharm": {
     "name": "#%% raw\n"
    }
   }
  },
  {
   "cell_type": "raw",
   "source": [
    "coefficients = abs(rfr_search.best_estimator_.feature_importances_)\n",
    "liste_coefs_rer = pd.concat((pd.DataFrame(X.columns, columns = ['Variable']),\n",
    "                             pd.DataFrame(coefficients, columns = ['Coefficient'])), axis = 1).sort_values(by='Coefficient', ascending = False)"
   ],
   "metadata": {
    "collapsed": false,
    "pycharm": {
     "name": "#%% raw\n"
    }
   }
  },
  {
   "cell_type": "raw",
   "source": [
    "plt.figure(figsize=(8,8))\n",
    "plt.title('RandomForestRegressor - Importance des 20 premières Features')\n",
    "sns.barplot(y = liste_coefs_rer['Variable'].head(20),\n",
    "            x = liste_coefs_rer['Coefficient'].head(20))\n",
    "plt.show()"
   ],
   "metadata": {
    "collapsed": false,
    "pycharm": {
     "name": "#%% raw\n"
    }
   }
  },
  {
   "cell_type": "raw",
   "source": [
    "plt.figure(figsize=(10,4))\n",
    "plt.title('Comparaison des RMSE relatives des modèles (en %)')\n",
    "chart = sns.barplot(x = results['Modèle'],\n",
    "                    y = results['RMSE_%']*100)\n",
    "chart.set_xticklabels(labels = results['Modèle'],\n",
    "                      rotation=45,\n",
    "                      horizontalalignment='right',\n",
    "                      size=12,\n",
    "                      )\n",
    "ax = plt.gca()\n",
    "ax.set_ylim([0, 5])\n",
    "plt.show()"
   ],
   "metadata": {
    "collapsed": false,
    "pycharm": {
     "name": "#%% raw\n"
    }
   }
  },
  {
   "cell_type": "raw",
   "source": [
    "plt.title('Temps d\\'exécution des algorithmes pour la prédiction \\n(jeu d\\'entrainement) - échelle logarithmique')\n",
    "sns.barplot(x=nom_modeles,\n",
    "            y = [5.32, 640, 2.14, 145])\n",
    "ax = plt.gca()\n",
    "ax.set_yscale('log')"
   ],
   "metadata": {
    "collapsed": false,
    "pycharm": {
     "name": "#%% raw\n"
    }
   }
  },
  {
   "cell_type": "raw",
   "source": [
    "plt.figure(figsize=(8,6))\n",
    "sns.barplot(x = comparaison_score_melt['index'],\n",
    "            y = comparaison_score_melt['score'], hue = comparaison_score_melt['variable'])\n",
    "plt.title('Comparaison des performances des modèles (jeu de test)')"
   ],
   "metadata": {
    "collapsed": false,
    "pycharm": {
     "name": "#%% raw\n"
    }
   }
  },
  {
   "cell_type": "markdown",
   "source": [
    "#### 6) Adaboost"
   ],
   "metadata": {
    "collapsed": false,
    "pycharm": {
     "name": "#%% md\n"
    }
   }
  },
  {
   "cell_type": "code",
   "execution_count": 965,
   "outputs": [],
   "source": [
    "# Grid of research for AdaBoost\n",
    "from sklearn.ensemble import AdaBoostRegressor\n",
    "from sklearn.tree import DecisionTreeRegressor\n",
    "from scipy.stats import randint as sp_randint\n",
    "\n",
    "# Create space of candidate values for hyperparameters\n",
    "param_grid_adaboost = [{\n",
    "    \"regressor\": [AdaBoostRegressor(random_state=seed)], # AdaBoost regressor\n",
    "    \"regressor__base_estimator\": [DecisionTreeRegressor()], # Required to tune the max_depth factor\n",
    "    \"regressor__base_estimator__max_depth\": sp_randint(2, 5), #  [2,4]\n",
    "    \"regressor__n_estimators\": sp_randint(50, 1000), # number of weak models to iteratively train\n",
    "    \"regressor__learning_rate\": np.logspace(-2, 1, 4), # learning rate, from 10⁻² to 10¹\n",
    "    \"regressor__loss\": ['linear', 'square', 'exponential'], # loss function for weights update\n",
    "}]"
   ],
   "metadata": {
    "collapsed": false,
    "pycharm": {
     "name": "#%%\n"
    }
   }
  },
  {
   "cell_type": "markdown",
   "source": [
    "#### 7) Gradient Boosting Regressor"
   ],
   "metadata": {
    "collapsed": false,
    "pycharm": {
     "name": "#%% md\n"
    }
   }
  },
  {
   "cell_type": "raw",
   "source": [
    "# Grid of research for AdaBoost\n",
    "from sklearn.ensemble import GradientBoostingRegressor\n",
    "from sklearn.tree import DecisionTreeRegressor\n",
    "from scipy.stats import randint as sp_randint\n",
    "\n",
    "# Create space of candidate values for hyperparameters\n",
    "param_grid_gradientboost = [{\n",
    "    \"regressor\": GradientBoostingRegressor(random_state=seed)], # AdaBoost regressor\n",
    "    \"regressor__base_estimator\": [DecisionTreeRegressor()], # Required to tune the max_depth factor\n",
    "    \"regressor__base_estimator__max_depth\": sp_randint(2, 5), #  [2,4]\n",
    "    \"regressor__n_estimators\": sp_randint(50, 1000), # number of weak models to iteratively train\n",
    "    \"regressor__learning_rate\": np.logspace(-2, 1, 4), # learning rate, from 10⁻² to 10¹\n",
    "    \"regressor__loss\": [\"squared_error\", \"absolute_error\", \"huber\", \"quantile\"], # loss function for weights update\n",
    "}]\n",
    "\n",
    "\n",
    "               'subsample'    : [0.9, 0.5, 0.2, 0.1],\n",
    "               'max_depth'    : [4,6,8,10]\n",
    "               }"
   ],
   "metadata": {
    "collapsed": false,
    "pycharm": {
     "name": "#%% raw\n"
    }
   }
  },
  {
   "cell_type": "markdown",
   "source": [
    "#### SVR"
   ],
   "metadata": {
    "collapsed": false,
    "pycharm": {
     "name": "#%% md\n"
    }
   }
  },
  {
   "cell_type": "code",
   "execution_count": 966,
   "outputs": [],
   "source": [
    "# Grid of research for k-SVR\n",
    "from sklearn.svm import SVR\n",
    "from scipy.stats import expon\n",
    "from scipy.stats import randint as sp_randint\n",
    "\n",
    "# Create space of candidate values for hyperparameters\n",
    "param_grid_svr_poly = [{# hyper-parameters for polynomial kernel\n",
    "    \"regressor\": [SVR()], # k-SVM regressor\n",
    "    \"regressor__kernel\": ['poly'],\n",
    "    \"regressor__C\": expon(scale=100, loc=5), # C : penalty parameter of the error term\n",
    "    \"regressor__coef0\" : [0, 1], # coef0 : independent term in kernel\n",
    "    \"regressor__degree\" : sp_randint(1, 3), # degree of the polynomial kernel function\n",
    "}]\n",
    "\n",
    "param_grid_svr_linear = [{# hyper-parameters for linear kernel\n",
    "    \"regressor\": [SVR()], # k-SVM regressor\n",
    "    \"regressor__kernel\": ['linear'],\n",
    "    \"regressor__C\": expon(scale=100, loc=5), # C : penalty parameter of the error term. y = (x - loc) / scale\n",
    "}]\n",
    "\n",
    "param_grid_svr_gaussian = [{# hyper-parameters for gaussian kernel\n",
    "    \"regressor\": [SVR()], # k-SVM regressor\n",
    "    \"regressor__kernel\": ['rbf'],\n",
    "    \"regressor__C\": expon(scale=100, loc=5), # C : penalty parameter of the error term\n",
    "    \"regressor__gamma\" : [0.0001, 0.001, 0.01, 0.1], # specific for gaussian kernel\n",
    "}]\n"
   ],
   "metadata": {
    "collapsed": false,
    "pycharm": {
     "name": "#%%\n"
    }
   }
  },
  {
   "cell_type": "markdown",
   "source": [
    "### III) Evaluation"
   ],
   "metadata": {
    "collapsed": false,
    "pycharm": {
     "name": "#%% md\n"
    }
   }
  },
  {
   "cell_type": "markdown",
   "source": [
    "### 1"
   ],
   "metadata": {
    "collapsed": false,
    "pycharm": {
     "name": "#%% md\n"
    }
   }
  },
  {
   "cell_type": "code",
   "execution_count": 1011,
   "outputs": [],
   "source": [
    "\n",
    "# Dictionnary of search spaces for each family of models\n",
    "param_grids = {\n",
    "    'Ridge': param_grid_ridge, # space of search for ElasticNet\n",
    "    'LASSO': param_grid_lasso, # space of search for ElasticNet\n",
    "    'ElasticNet': param_grid_elastic, # space of search for ElasticNet\n",
    "\n",
    "    'RandomForest': param_grid_forest, # space of search for random forest\n",
    "    'AdaBoost': param_grid_adaboost, # space of search for AdaBoost regressor\n",
    "\n",
    "    'kSVR gaussian': param_grid_svr_gaussian, # space of search for k-SVR\n",
    "    'kSVM poly': param_grid_svr_poly, # space of search for k-SVR with polynomial kernel\n",
    "    'kSVM linear': param_grid_svr_linear # space of search for k-SVR\n",
    "}\n",
    "#'GradientBoosting': param_grid_gradientboost, # space of search for AdaBoost regressor\n"
   ],
   "metadata": {
    "collapsed": false,
    "pycharm": {
     "name": "#%%\n"
    }
   }
  },
  {
   "cell_type": "code",
   "execution_count": 1012,
   "outputs": [
    {
     "name": "stdout",
     "output_type": "stream",
     "text": [
      "Ridge\n",
      "[{'regressor': [Ridge(max_iter=1000)], 'regressor__alpha': array([1.e-03, 1.e-02, 1.e-01, 1.e+00, 1.e+01])}]\n",
      "LASSO\n",
      "[{'regressor': [Lasso()], 'regressor__alpha': array([1.e-03, 1.e-02, 1.e-01, 1.e+00, 1.e+01])}]\n",
      "ElasticNet\n",
      "[{'regressor': [ElasticNet()], 'regressor__alpha': array([1.e-03, 1.e-02, 1.e-01, 1.e+00, 1.e+01]), 'regressor__l1_ratio': <scipy.stats._distn_infrastructure.rv_frozen object at 0x000002BE25CD1730>}]\n",
      "RandomForest\n",
      "[{'regressor': [RandomForestRegressor(n_estimators=1000, n_jobs=-1, random_state=350)], 'regressor__max_features': <scipy.stats._distn_infrastructure.rv_frozen object at 0x000002BE266D0850>, 'regressor__max_depth': <scipy.stats._distn_infrastructure.rv_frozen object at 0x000002BE26B410A0>, 'regressor__min_samples_leaf': <scipy.stats._distn_infrastructure.rv_frozen object at 0x000002BE25E3C0D0>}]\n",
      "AdaBoost\n",
      "[{'regressor': [AdaBoostRegressor(random_state=350)], 'regressor__base_estimator': [DecisionTreeRegressor()], 'regressor__base_estimator__max_depth': <scipy.stats._distn_infrastructure.rv_frozen object at 0x000002BE0BD9C6A0>, 'regressor__n_estimators': <scipy.stats._distn_infrastructure.rv_frozen object at 0x000002BE25E3CEB0>, 'regressor__learning_rate': array([ 0.01,  0.1 ,  1.  , 10.  ]), 'regressor__loss': ['linear', 'square', 'exponential']}]\n",
      "kSVR gaussian\n",
      "[{'regressor': [SVR()], 'regressor__kernel': ['rbf'], 'regressor__C': <scipy.stats._distn_infrastructure.rv_frozen object at 0x000002BE266D0520>, 'regressor__gamma': [0.0001, 0.001, 0.01, 0.1]}]\n",
      "kSVM poly\n",
      "[{'regressor': [SVR()], 'regressor__kernel': ['poly'], 'regressor__C': <scipy.stats._distn_infrastructure.rv_frozen object at 0x000002BE25E3C6D0>, 'regressor__coef0': [0, 1], 'regressor__degree': <scipy.stats._distn_infrastructure.rv_frozen object at 0x000002BE2704BF10>}]\n",
      "kSVM linear\n",
      "[{'regressor': [SVR()], 'regressor__kernel': ['linear'], 'regressor__C': <scipy.stats._distn_infrastructure.rv_frozen object at 0x000002BE26A57520>}]\n"
     ]
    }
   ],
   "source": [
    "for model, grid in param_grids.items():\n",
    "    print(model)\n",
    "    print(grid)"
   ],
   "metadata": {
    "collapsed": false,
    "pycharm": {
     "name": "#%%\n"
    }
   }
  },
  {
   "cell_type": "markdown",
   "source": [
    "### 2"
   ],
   "metadata": {
    "collapsed": false,
    "pycharm": {
     "name": "#%% md\n"
    }
   }
  },
  {
   "cell_type": "code",
   "execution_count": 1013,
   "outputs": [
    {
     "data": {
      "text/plain": "Ridge(max_iter=1000)",
      "text/html": "<style>#sk-container-id-59 {color: black;background-color: white;}#sk-container-id-59 pre{padding: 0;}#sk-container-id-59 div.sk-toggleable {background-color: white;}#sk-container-id-59 label.sk-toggleable__label {cursor: pointer;display: block;width: 100%;margin-bottom: 0;padding: 0.3em;box-sizing: border-box;text-align: center;}#sk-container-id-59 label.sk-toggleable__label-arrow:before {content: \"▸\";float: left;margin-right: 0.25em;color: #696969;}#sk-container-id-59 label.sk-toggleable__label-arrow:hover:before {color: black;}#sk-container-id-59 div.sk-estimator:hover label.sk-toggleable__label-arrow:before {color: black;}#sk-container-id-59 div.sk-toggleable__content {max-height: 0;max-width: 0;overflow: hidden;text-align: left;background-color: #f0f8ff;}#sk-container-id-59 div.sk-toggleable__content pre {margin: 0.2em;color: black;border-radius: 0.25em;background-color: #f0f8ff;}#sk-container-id-59 input.sk-toggleable__control:checked~div.sk-toggleable__content {max-height: 200px;max-width: 100%;overflow: auto;}#sk-container-id-59 input.sk-toggleable__control:checked~label.sk-toggleable__label-arrow:before {content: \"▾\";}#sk-container-id-59 div.sk-estimator input.sk-toggleable__control:checked~label.sk-toggleable__label {background-color: #d4ebff;}#sk-container-id-59 div.sk-label input.sk-toggleable__control:checked~label.sk-toggleable__label {background-color: #d4ebff;}#sk-container-id-59 input.sk-hidden--visually {border: 0;clip: rect(1px 1px 1px 1px);clip: rect(1px, 1px, 1px, 1px);height: 1px;margin: -1px;overflow: hidden;padding: 0;position: absolute;width: 1px;}#sk-container-id-59 div.sk-estimator {font-family: monospace;background-color: #f0f8ff;border: 1px dotted black;border-radius: 0.25em;box-sizing: border-box;margin-bottom: 0.5em;}#sk-container-id-59 div.sk-estimator:hover {background-color: #d4ebff;}#sk-container-id-59 div.sk-parallel-item::after {content: \"\";width: 100%;border-bottom: 1px solid gray;flex-grow: 1;}#sk-container-id-59 div.sk-label:hover label.sk-toggleable__label {background-color: #d4ebff;}#sk-container-id-59 div.sk-serial::before {content: \"\";position: absolute;border-left: 1px solid gray;box-sizing: border-box;top: 0;bottom: 0;left: 50%;z-index: 0;}#sk-container-id-59 div.sk-serial {display: flex;flex-direction: column;align-items: center;background-color: white;padding-right: 0.2em;padding-left: 0.2em;position: relative;}#sk-container-id-59 div.sk-item {position: relative;z-index: 1;}#sk-container-id-59 div.sk-parallel {display: flex;align-items: stretch;justify-content: center;background-color: white;position: relative;}#sk-container-id-59 div.sk-item::before, #sk-container-id-59 div.sk-parallel-item::before {content: \"\";position: absolute;border-left: 1px solid gray;box-sizing: border-box;top: 0;bottom: 0;left: 50%;z-index: -1;}#sk-container-id-59 div.sk-parallel-item {display: flex;flex-direction: column;z-index: 1;position: relative;background-color: white;}#sk-container-id-59 div.sk-parallel-item:first-child::after {align-self: flex-end;width: 50%;}#sk-container-id-59 div.sk-parallel-item:last-child::after {align-self: flex-start;width: 50%;}#sk-container-id-59 div.sk-parallel-item:only-child::after {width: 0;}#sk-container-id-59 div.sk-dashed-wrapped {border: 1px dashed gray;margin: 0 0.4em 0.5em 0.4em;box-sizing: border-box;padding-bottom: 0.4em;background-color: white;}#sk-container-id-59 div.sk-label label {font-family: monospace;font-weight: bold;display: inline-block;line-height: 1.2em;}#sk-container-id-59 div.sk-label-container {text-align: center;}#sk-container-id-59 div.sk-container {/* jupyter's `normalize.less` sets `[hidden] { display: none; }` but bootstrap.min.css set `[hidden] { display: none !important; }` so we also need the `!important` here to be able to override the default hidden behavior on the sphinx rendered scikit-learn.org. See: https://github.com/scikit-learn/scikit-learn/issues/21755 */display: inline-block !important;position: relative;}#sk-container-id-59 div.sk-text-repr-fallback {display: none;}</style><div id=\"sk-container-id-59\" class=\"sk-top-container\"><div class=\"sk-text-repr-fallback\"><pre>Ridge(max_iter=1000)</pre><b>In a Jupyter environment, please rerun this cell to show the HTML representation or trust the notebook. <br />On GitHub, the HTML representation is unable to render, please try loading this page with nbviewer.org.</b></div><div class=\"sk-container\" hidden><div class=\"sk-item\"><div class=\"sk-estimator sk-toggleable\"><input class=\"sk-toggleable__control sk-hidden--visually\" id=\"sk-estimator-id-119\" type=\"checkbox\" checked><label for=\"sk-estimator-id-119\" class=\"sk-toggleable__label sk-toggleable__label-arrow\">Ridge</label><div class=\"sk-toggleable__content\"><pre>Ridge(max_iter=1000)</pre></div></div></div></div></div>"
     },
     "execution_count": 1013,
     "metadata": {},
     "output_type": "execute_result"
    }
   ],
   "source": [
    "param_grid_ridge[0][\"regressor\"][0]\n"
   ],
   "metadata": {
    "collapsed": false,
    "pycharm": {
     "name": "#%%\n"
    }
   }
  },
  {
   "cell_type": "code",
   "execution_count": 1014,
   "outputs": [],
   "source": [
    "def all_gridSearchCV(features, target):\n",
    "\n",
    "    # Load libraries\n",
    "    from sklearn.model_selection import RandomizedSearchCV\n",
    "\n",
    "    # Initialising the dict of results of RandomizedSearchCV\n",
    "    CVsearch_dict = {}\n",
    "\n",
    "    # Iterating over models and related parameters grids\n",
    "    for model, param_grid in param_grids.items():\n",
    "        print(\"\\nProceeding RandomizedSearchCV for {}…\".format(model))\n",
    "        # Handle case where there are different dicts in param_grid (k-SVR…)\n",
    "        for param_grid_dict in param_grid:\n",
    "\n",
    "            # Intenciation of RandomizedSearchCV object\n",
    "            grid = GridSearchCV(\n",
    "                estimator=param_grid_dict[\"regressor\"][0],\n",
    "                param_grid=param_grid_dict, # choice of hyper-parameters to test\n",
    "                scoring=scoring, # scoring method for regression\n",
    "                cv=10, # cross-validation generator\n",
    "                n_jobs=-1, # use all available cores (parallelization)\n",
    "                return_train_score=True, # to avoid a DeprecationWarning\n",
    "                verbose=1\n",
    "            )\n",
    "\n",
    "            # Searching for best hyper-parameters, and saving in dict\n",
    "            CVsearch_dict[model] = grid.fit(features, target)\n",
    "\n",
    "            # Getting standard deviation for best_model scores\n",
    "            best_index = grid.best_index_\n",
    "            std_score = grid.cv_results_['std_test_score'][best_index]\n",
    "\n",
    "            # Displays the parameters of the best model\n",
    "            print(\"Best parameters found for {}:\".format(model))\n",
    "\n",
    "            # Getting parameters from param_grid\n",
    "            for parameter, _ in param_grid_dict.items():\n",
    "                if parameter != 'regressor':\n",
    "                    best_parameter = grid.best_estimator_.get_params()[parameter]\n",
    "                    parameter = parameter.split(\"regressor__\")[1]\n",
    "                    # Display best parameter\n",
    "                    print(\"  - \" + parameter + \":\", best_parameter)\n",
    "\n",
    "            # Getting the best score\n",
    "            print(\"\\nMean cross-validated score of the best estimator for {}: R² = {:.3f} ± {:.3f}\".format(model, grid.best_score_, std_score))\n",
    "\n",
    "    # Returns dictionnary with results\n",
    "    return CVsearch_dict"
   ],
   "metadata": {
    "collapsed": false,
    "pycharm": {
     "name": "#%%\n"
    }
   }
  },
  {
   "cell_type": "code",
   "execution_count": 1015,
   "outputs": [
    {
     "name": "stdout",
     "output_type": "stream",
     "text": [
      "\n",
      "Proceeding RandomizedSearchCV for Ridge…\n",
      "Fitting 10 folds for each of 5 candidates, totalling 50 fits\n"
     ]
    },
    {
     "ename": "ValueError",
     "evalue": "Invalid parameter 'regressor' for estimator Ridge(max_iter=1000). Valid parameters are: ['alpha', 'copy_X', 'fit_intercept', 'max_iter', 'normalize', 'positive', 'random_state', 'solver', 'tol'].",
     "output_type": "error",
     "traceback": [
      "\u001B[1;31m---------------------------------------------------------------------------\u001B[0m",
      "\u001B[1;31m_RemoteTraceback\u001B[0m                          Traceback (most recent call last)",
      "\u001B[1;31m_RemoteTraceback\u001B[0m: \n\"\"\"\nTraceback (most recent call last):\n  File \"C:\\Users\\athen\\Anaconda3\\envs\\P4_OC\\lib\\site-packages\\joblib\\externals\\loky\\process_executor.py\", line 436, in _process_worker\n    r = call_item()\n  File \"C:\\Users\\athen\\Anaconda3\\envs\\P4_OC\\lib\\site-packages\\joblib\\externals\\loky\\process_executor.py\", line 288, in __call__\n    return self.fn(*self.args, **self.kwargs)\n  File \"C:\\Users\\athen\\Anaconda3\\envs\\P4_OC\\lib\\site-packages\\joblib\\_parallel_backends.py\", line 595, in __call__\n    return self.func(*args, **kwargs)\n  File \"C:\\Users\\athen\\Anaconda3\\envs\\P4_OC\\lib\\site-packages\\joblib\\parallel.py\", line 262, in __call__\n    return [func(*args, **kwargs)\n  File \"C:\\Users\\athen\\Anaconda3\\envs\\P4_OC\\lib\\site-packages\\joblib\\parallel.py\", line 262, in <listcomp>\n    return [func(*args, **kwargs)\n  File \"C:\\Users\\athen\\Anaconda3\\envs\\P4_OC\\lib\\site-packages\\sklearn\\utils\\fixes.py\", line 117, in __call__\n    return self.function(*args, **kwargs)\n  File \"C:\\Users\\athen\\Anaconda3\\envs\\P4_OC\\lib\\site-packages\\sklearn\\model_selection\\_validation.py\", line 674, in _fit_and_score\n    estimator = estimator.set_params(**cloned_parameters)\n  File \"C:\\Users\\athen\\Anaconda3\\envs\\P4_OC\\lib\\site-packages\\sklearn\\base.py\", line 246, in set_params\n    raise ValueError(\nValueError: Invalid parameter 'regressor' for estimator Ridge(max_iter=1000). Valid parameters are: ['alpha', 'copy_X', 'fit_intercept', 'max_iter', 'normalize', 'positive', 'random_state', 'solver', 'tol'].\n\"\"\"",
      "\nThe above exception was the direct cause of the following exception:\n",
      "\u001B[1;31mValueError\u001B[0m                                Traceback (most recent call last)",
      "Input \u001B[1;32mIn [1015]\u001B[0m, in \u001B[0;36m<cell line: 1>\u001B[1;34m()\u001B[0m\n\u001B[1;32m----> 1\u001B[0m CVsearch_dict \u001B[38;5;241m=\u001B[39m \u001B[43mall_gridSearchCV\u001B[49m\u001B[43m(\u001B[49m\u001B[43mX_train\u001B[49m\u001B[43m,\u001B[49m\u001B[43m \u001B[49m\u001B[43my_train\u001B[49m\u001B[43m)\u001B[49m\n",
      "Input \u001B[1;32mIn [1014]\u001B[0m, in \u001B[0;36mall_gridSearchCV\u001B[1;34m(features, target)\u001B[0m\n\u001B[0;32m     16\u001B[0m grid \u001B[38;5;241m=\u001B[39m GridSearchCV(\n\u001B[0;32m     17\u001B[0m     estimator\u001B[38;5;241m=\u001B[39mparam_grid_dict[\u001B[38;5;124m\"\u001B[39m\u001B[38;5;124mregressor\u001B[39m\u001B[38;5;124m\"\u001B[39m][\u001B[38;5;241m0\u001B[39m],\n\u001B[0;32m     18\u001B[0m     param_grid\u001B[38;5;241m=\u001B[39mparam_grid_dict, \u001B[38;5;66;03m# choice of hyper-parameters to test\u001B[39;00m\n\u001B[1;32m   (...)\u001B[0m\n\u001B[0;32m     23\u001B[0m     verbose\u001B[38;5;241m=\u001B[39m\u001B[38;5;241m1\u001B[39m\n\u001B[0;32m     24\u001B[0m )\n\u001B[0;32m     26\u001B[0m \u001B[38;5;66;03m# Searching for best hyper-parameters, and saving in dict\u001B[39;00m\n\u001B[1;32m---> 27\u001B[0m CVsearch_dict[model] \u001B[38;5;241m=\u001B[39m \u001B[43mgrid\u001B[49m\u001B[38;5;241;43m.\u001B[39;49m\u001B[43mfit\u001B[49m\u001B[43m(\u001B[49m\u001B[43mfeatures\u001B[49m\u001B[43m,\u001B[49m\u001B[43m \u001B[49m\u001B[43mtarget\u001B[49m\u001B[43m)\u001B[49m\n\u001B[0;32m     29\u001B[0m \u001B[38;5;66;03m# Getting standard deviation for best_model scores\u001B[39;00m\n\u001B[0;32m     30\u001B[0m best_index \u001B[38;5;241m=\u001B[39m grid\u001B[38;5;241m.\u001B[39mbest_index_\n",
      "File \u001B[1;32m~\\Anaconda3\\envs\\P4_OC\\lib\\site-packages\\sklearn\\model_selection\\_search.py:875\u001B[0m, in \u001B[0;36mBaseSearchCV.fit\u001B[1;34m(self, X, y, groups, **fit_params)\u001B[0m\n\u001B[0;32m    869\u001B[0m     results \u001B[38;5;241m=\u001B[39m \u001B[38;5;28mself\u001B[39m\u001B[38;5;241m.\u001B[39m_format_results(\n\u001B[0;32m    870\u001B[0m         all_candidate_params, n_splits, all_out, all_more_results\n\u001B[0;32m    871\u001B[0m     )\n\u001B[0;32m    873\u001B[0m     \u001B[38;5;28;01mreturn\u001B[39;00m results\n\u001B[1;32m--> 875\u001B[0m \u001B[38;5;28;43mself\u001B[39;49m\u001B[38;5;241;43m.\u001B[39;49m\u001B[43m_run_search\u001B[49m\u001B[43m(\u001B[49m\u001B[43mevaluate_candidates\u001B[49m\u001B[43m)\u001B[49m\n\u001B[0;32m    877\u001B[0m \u001B[38;5;66;03m# multimetric is determined here because in the case of a callable\u001B[39;00m\n\u001B[0;32m    878\u001B[0m \u001B[38;5;66;03m# self.scoring the return type is only known after calling\u001B[39;00m\n\u001B[0;32m    879\u001B[0m first_test_score \u001B[38;5;241m=\u001B[39m all_out[\u001B[38;5;241m0\u001B[39m][\u001B[38;5;124m\"\u001B[39m\u001B[38;5;124mtest_scores\u001B[39m\u001B[38;5;124m\"\u001B[39m]\n",
      "File \u001B[1;32m~\\Anaconda3\\envs\\P4_OC\\lib\\site-packages\\sklearn\\model_selection\\_search.py:1375\u001B[0m, in \u001B[0;36mGridSearchCV._run_search\u001B[1;34m(self, evaluate_candidates)\u001B[0m\n\u001B[0;32m   1373\u001B[0m \u001B[38;5;28;01mdef\u001B[39;00m \u001B[38;5;21m_run_search\u001B[39m(\u001B[38;5;28mself\u001B[39m, evaluate_candidates):\n\u001B[0;32m   1374\u001B[0m     \u001B[38;5;124;03m\"\"\"Search all candidates in param_grid\"\"\"\u001B[39;00m\n\u001B[1;32m-> 1375\u001B[0m     \u001B[43mevaluate_candidates\u001B[49m\u001B[43m(\u001B[49m\u001B[43mParameterGrid\u001B[49m\u001B[43m(\u001B[49m\u001B[38;5;28;43mself\u001B[39;49m\u001B[38;5;241;43m.\u001B[39;49m\u001B[43mparam_grid\u001B[49m\u001B[43m)\u001B[49m\u001B[43m)\u001B[49m\n",
      "File \u001B[1;32m~\\Anaconda3\\envs\\P4_OC\\lib\\site-packages\\sklearn\\model_selection\\_search.py:822\u001B[0m, in \u001B[0;36mBaseSearchCV.fit.<locals>.evaluate_candidates\u001B[1;34m(candidate_params, cv, more_results)\u001B[0m\n\u001B[0;32m    814\u001B[0m \u001B[38;5;28;01mif\u001B[39;00m \u001B[38;5;28mself\u001B[39m\u001B[38;5;241m.\u001B[39mverbose \u001B[38;5;241m>\u001B[39m \u001B[38;5;241m0\u001B[39m:\n\u001B[0;32m    815\u001B[0m     \u001B[38;5;28mprint\u001B[39m(\n\u001B[0;32m    816\u001B[0m         \u001B[38;5;124m\"\u001B[39m\u001B[38;5;124mFitting \u001B[39m\u001B[38;5;132;01m{0}\u001B[39;00m\u001B[38;5;124m folds for each of \u001B[39m\u001B[38;5;132;01m{1}\u001B[39;00m\u001B[38;5;124m candidates,\u001B[39m\u001B[38;5;124m\"\u001B[39m\n\u001B[0;32m    817\u001B[0m         \u001B[38;5;124m\"\u001B[39m\u001B[38;5;124m totalling \u001B[39m\u001B[38;5;132;01m{2}\u001B[39;00m\u001B[38;5;124m fits\u001B[39m\u001B[38;5;124m\"\u001B[39m\u001B[38;5;241m.\u001B[39mformat(\n\u001B[0;32m    818\u001B[0m             n_splits, n_candidates, n_candidates \u001B[38;5;241m*\u001B[39m n_splits\n\u001B[0;32m    819\u001B[0m         )\n\u001B[0;32m    820\u001B[0m     )\n\u001B[1;32m--> 822\u001B[0m out \u001B[38;5;241m=\u001B[39m \u001B[43mparallel\u001B[49m\u001B[43m(\u001B[49m\n\u001B[0;32m    823\u001B[0m \u001B[43m    \u001B[49m\u001B[43mdelayed\u001B[49m\u001B[43m(\u001B[49m\u001B[43m_fit_and_score\u001B[49m\u001B[43m)\u001B[49m\u001B[43m(\u001B[49m\n\u001B[0;32m    824\u001B[0m \u001B[43m        \u001B[49m\u001B[43mclone\u001B[49m\u001B[43m(\u001B[49m\u001B[43mbase_estimator\u001B[49m\u001B[43m)\u001B[49m\u001B[43m,\u001B[49m\n\u001B[0;32m    825\u001B[0m \u001B[43m        \u001B[49m\u001B[43mX\u001B[49m\u001B[43m,\u001B[49m\n\u001B[0;32m    826\u001B[0m \u001B[43m        \u001B[49m\u001B[43my\u001B[49m\u001B[43m,\u001B[49m\n\u001B[0;32m    827\u001B[0m \u001B[43m        \u001B[49m\u001B[43mtrain\u001B[49m\u001B[38;5;241;43m=\u001B[39;49m\u001B[43mtrain\u001B[49m\u001B[43m,\u001B[49m\n\u001B[0;32m    828\u001B[0m \u001B[43m        \u001B[49m\u001B[43mtest\u001B[49m\u001B[38;5;241;43m=\u001B[39;49m\u001B[43mtest\u001B[49m\u001B[43m,\u001B[49m\n\u001B[0;32m    829\u001B[0m \u001B[43m        \u001B[49m\u001B[43mparameters\u001B[49m\u001B[38;5;241;43m=\u001B[39;49m\u001B[43mparameters\u001B[49m\u001B[43m,\u001B[49m\n\u001B[0;32m    830\u001B[0m \u001B[43m        \u001B[49m\u001B[43msplit_progress\u001B[49m\u001B[38;5;241;43m=\u001B[39;49m\u001B[43m(\u001B[49m\u001B[43msplit_idx\u001B[49m\u001B[43m,\u001B[49m\u001B[43m \u001B[49m\u001B[43mn_splits\u001B[49m\u001B[43m)\u001B[49m\u001B[43m,\u001B[49m\n\u001B[0;32m    831\u001B[0m \u001B[43m        \u001B[49m\u001B[43mcandidate_progress\u001B[49m\u001B[38;5;241;43m=\u001B[39;49m\u001B[43m(\u001B[49m\u001B[43mcand_idx\u001B[49m\u001B[43m,\u001B[49m\u001B[43m \u001B[49m\u001B[43mn_candidates\u001B[49m\u001B[43m)\u001B[49m\u001B[43m,\u001B[49m\n\u001B[0;32m    832\u001B[0m \u001B[43m        \u001B[49m\u001B[38;5;241;43m*\u001B[39;49m\u001B[38;5;241;43m*\u001B[39;49m\u001B[43mfit_and_score_kwargs\u001B[49m\u001B[43m,\u001B[49m\n\u001B[0;32m    833\u001B[0m \u001B[43m    \u001B[49m\u001B[43m)\u001B[49m\n\u001B[0;32m    834\u001B[0m \u001B[43m    \u001B[49m\u001B[38;5;28;43;01mfor\u001B[39;49;00m\u001B[43m \u001B[49m\u001B[43m(\u001B[49m\u001B[43mcand_idx\u001B[49m\u001B[43m,\u001B[49m\u001B[43m \u001B[49m\u001B[43mparameters\u001B[49m\u001B[43m)\u001B[49m\u001B[43m,\u001B[49m\u001B[43m \u001B[49m\u001B[43m(\u001B[49m\u001B[43msplit_idx\u001B[49m\u001B[43m,\u001B[49m\u001B[43m \u001B[49m\u001B[43m(\u001B[49m\u001B[43mtrain\u001B[49m\u001B[43m,\u001B[49m\u001B[43m \u001B[49m\u001B[43mtest\u001B[49m\u001B[43m)\u001B[49m\u001B[43m)\u001B[49m\u001B[43m \u001B[49m\u001B[38;5;129;43;01min\u001B[39;49;00m\u001B[43m \u001B[49m\u001B[43mproduct\u001B[49m\u001B[43m(\u001B[49m\n\u001B[0;32m    835\u001B[0m \u001B[43m        \u001B[49m\u001B[38;5;28;43menumerate\u001B[39;49m\u001B[43m(\u001B[49m\u001B[43mcandidate_params\u001B[49m\u001B[43m)\u001B[49m\u001B[43m,\u001B[49m\u001B[43m \u001B[49m\u001B[38;5;28;43menumerate\u001B[39;49m\u001B[43m(\u001B[49m\u001B[43mcv\u001B[49m\u001B[38;5;241;43m.\u001B[39;49m\u001B[43msplit\u001B[49m\u001B[43m(\u001B[49m\u001B[43mX\u001B[49m\u001B[43m,\u001B[49m\u001B[43m \u001B[49m\u001B[43my\u001B[49m\u001B[43m,\u001B[49m\u001B[43m \u001B[49m\u001B[43mgroups\u001B[49m\u001B[43m)\u001B[49m\u001B[43m)\u001B[49m\n\u001B[0;32m    836\u001B[0m \u001B[43m    \u001B[49m\u001B[43m)\u001B[49m\n\u001B[0;32m    837\u001B[0m \u001B[43m\u001B[49m\u001B[43m)\u001B[49m\n\u001B[0;32m    839\u001B[0m \u001B[38;5;28;01mif\u001B[39;00m \u001B[38;5;28mlen\u001B[39m(out) \u001B[38;5;241m<\u001B[39m \u001B[38;5;241m1\u001B[39m:\n\u001B[0;32m    840\u001B[0m     \u001B[38;5;28;01mraise\u001B[39;00m \u001B[38;5;167;01mValueError\u001B[39;00m(\n\u001B[0;32m    841\u001B[0m         \u001B[38;5;124m\"\u001B[39m\u001B[38;5;124mNo fits were performed. \u001B[39m\u001B[38;5;124m\"\u001B[39m\n\u001B[0;32m    842\u001B[0m         \u001B[38;5;124m\"\u001B[39m\u001B[38;5;124mWas the CV iterator empty? \u001B[39m\u001B[38;5;124m\"\u001B[39m\n\u001B[0;32m    843\u001B[0m         \u001B[38;5;124m\"\u001B[39m\u001B[38;5;124mWere there no candidates?\u001B[39m\u001B[38;5;124m\"\u001B[39m\n\u001B[0;32m    844\u001B[0m     )\n",
      "File \u001B[1;32m~\\Anaconda3\\envs\\P4_OC\\lib\\site-packages\\joblib\\parallel.py:1056\u001B[0m, in \u001B[0;36mParallel.__call__\u001B[1;34m(self, iterable)\u001B[0m\n\u001B[0;32m   1053\u001B[0m     \u001B[38;5;28mself\u001B[39m\u001B[38;5;241m.\u001B[39m_iterating \u001B[38;5;241m=\u001B[39m \u001B[38;5;28;01mFalse\u001B[39;00m\n\u001B[0;32m   1055\u001B[0m \u001B[38;5;28;01mwith\u001B[39;00m \u001B[38;5;28mself\u001B[39m\u001B[38;5;241m.\u001B[39m_backend\u001B[38;5;241m.\u001B[39mretrieval_context():\n\u001B[1;32m-> 1056\u001B[0m     \u001B[38;5;28;43mself\u001B[39;49m\u001B[38;5;241;43m.\u001B[39;49m\u001B[43mretrieve\u001B[49m\u001B[43m(\u001B[49m\u001B[43m)\u001B[49m\n\u001B[0;32m   1057\u001B[0m \u001B[38;5;66;03m# Make sure that we get a last message telling us we are done\u001B[39;00m\n\u001B[0;32m   1058\u001B[0m elapsed_time \u001B[38;5;241m=\u001B[39m time\u001B[38;5;241m.\u001B[39mtime() \u001B[38;5;241m-\u001B[39m \u001B[38;5;28mself\u001B[39m\u001B[38;5;241m.\u001B[39m_start_time\n",
      "File \u001B[1;32m~\\Anaconda3\\envs\\P4_OC\\lib\\site-packages\\joblib\\parallel.py:935\u001B[0m, in \u001B[0;36mParallel.retrieve\u001B[1;34m(self)\u001B[0m\n\u001B[0;32m    933\u001B[0m \u001B[38;5;28;01mtry\u001B[39;00m:\n\u001B[0;32m    934\u001B[0m     \u001B[38;5;28;01mif\u001B[39;00m \u001B[38;5;28mgetattr\u001B[39m(\u001B[38;5;28mself\u001B[39m\u001B[38;5;241m.\u001B[39m_backend, \u001B[38;5;124m'\u001B[39m\u001B[38;5;124msupports_timeout\u001B[39m\u001B[38;5;124m'\u001B[39m, \u001B[38;5;28;01mFalse\u001B[39;00m):\n\u001B[1;32m--> 935\u001B[0m         \u001B[38;5;28mself\u001B[39m\u001B[38;5;241m.\u001B[39m_output\u001B[38;5;241m.\u001B[39mextend(\u001B[43mjob\u001B[49m\u001B[38;5;241;43m.\u001B[39;49m\u001B[43mget\u001B[49m\u001B[43m(\u001B[49m\u001B[43mtimeout\u001B[49m\u001B[38;5;241;43m=\u001B[39;49m\u001B[38;5;28;43mself\u001B[39;49m\u001B[38;5;241;43m.\u001B[39;49m\u001B[43mtimeout\u001B[49m\u001B[43m)\u001B[49m)\n\u001B[0;32m    936\u001B[0m     \u001B[38;5;28;01melse\u001B[39;00m:\n\u001B[0;32m    937\u001B[0m         \u001B[38;5;28mself\u001B[39m\u001B[38;5;241m.\u001B[39m_output\u001B[38;5;241m.\u001B[39mextend(job\u001B[38;5;241m.\u001B[39mget())\n",
      "File \u001B[1;32m~\\Anaconda3\\envs\\P4_OC\\lib\\site-packages\\joblib\\_parallel_backends.py:542\u001B[0m, in \u001B[0;36mLokyBackend.wrap_future_result\u001B[1;34m(future, timeout)\u001B[0m\n\u001B[0;32m    539\u001B[0m \u001B[38;5;124;03m\"\"\"Wrapper for Future.result to implement the same behaviour as\u001B[39;00m\n\u001B[0;32m    540\u001B[0m \u001B[38;5;124;03mAsyncResults.get from multiprocessing.\"\"\"\u001B[39;00m\n\u001B[0;32m    541\u001B[0m \u001B[38;5;28;01mtry\u001B[39;00m:\n\u001B[1;32m--> 542\u001B[0m     \u001B[38;5;28;01mreturn\u001B[39;00m \u001B[43mfuture\u001B[49m\u001B[38;5;241;43m.\u001B[39;49m\u001B[43mresult\u001B[49m\u001B[43m(\u001B[49m\u001B[43mtimeout\u001B[49m\u001B[38;5;241;43m=\u001B[39;49m\u001B[43mtimeout\u001B[49m\u001B[43m)\u001B[49m\n\u001B[0;32m    543\u001B[0m \u001B[38;5;28;01mexcept\u001B[39;00m CfTimeoutError \u001B[38;5;28;01mas\u001B[39;00m e:\n\u001B[0;32m    544\u001B[0m     \u001B[38;5;28;01mraise\u001B[39;00m \u001B[38;5;167;01mTimeoutError\u001B[39;00m \u001B[38;5;28;01mfrom\u001B[39;00m \u001B[38;5;21;01me\u001B[39;00m\n",
      "File \u001B[1;32m~\\Anaconda3\\envs\\P4_OC\\lib\\concurrent\\futures\\_base.py:446\u001B[0m, in \u001B[0;36mFuture.result\u001B[1;34m(self, timeout)\u001B[0m\n\u001B[0;32m    444\u001B[0m     \u001B[38;5;28;01mraise\u001B[39;00m CancelledError()\n\u001B[0;32m    445\u001B[0m \u001B[38;5;28;01melif\u001B[39;00m \u001B[38;5;28mself\u001B[39m\u001B[38;5;241m.\u001B[39m_state \u001B[38;5;241m==\u001B[39m FINISHED:\n\u001B[1;32m--> 446\u001B[0m     \u001B[38;5;28;01mreturn\u001B[39;00m \u001B[38;5;28;43mself\u001B[39;49m\u001B[38;5;241;43m.\u001B[39;49m\u001B[43m__get_result\u001B[49m\u001B[43m(\u001B[49m\u001B[43m)\u001B[49m\n\u001B[0;32m    447\u001B[0m \u001B[38;5;28;01melse\u001B[39;00m:\n\u001B[0;32m    448\u001B[0m     \u001B[38;5;28;01mraise\u001B[39;00m \u001B[38;5;167;01mTimeoutError\u001B[39;00m()\n",
      "File \u001B[1;32m~\\Anaconda3\\envs\\P4_OC\\lib\\concurrent\\futures\\_base.py:391\u001B[0m, in \u001B[0;36mFuture.__get_result\u001B[1;34m(self)\u001B[0m\n\u001B[0;32m    389\u001B[0m \u001B[38;5;28;01mif\u001B[39;00m \u001B[38;5;28mself\u001B[39m\u001B[38;5;241m.\u001B[39m_exception:\n\u001B[0;32m    390\u001B[0m     \u001B[38;5;28;01mtry\u001B[39;00m:\n\u001B[1;32m--> 391\u001B[0m         \u001B[38;5;28;01mraise\u001B[39;00m \u001B[38;5;28mself\u001B[39m\u001B[38;5;241m.\u001B[39m_exception\n\u001B[0;32m    392\u001B[0m     \u001B[38;5;28;01mfinally\u001B[39;00m:\n\u001B[0;32m    393\u001B[0m         \u001B[38;5;66;03m# Break a reference cycle with the exception in self._exception\u001B[39;00m\n\u001B[0;32m    394\u001B[0m         \u001B[38;5;28mself\u001B[39m \u001B[38;5;241m=\u001B[39m \u001B[38;5;28;01mNone\u001B[39;00m\n",
      "\u001B[1;31mValueError\u001B[0m: Invalid parameter 'regressor' for estimator Ridge(max_iter=1000). Valid parameters are: ['alpha', 'copy_X', 'fit_intercept', 'max_iter', 'normalize', 'positive', 'random_state', 'solver', 'tol']."
     ]
    }
   ],
   "source": [
    "CVsearch_dict = all_gridSearchCV(X_train, y_train)"
   ],
   "metadata": {
    "collapsed": false,
    "pycharm": {
     "name": "#%%\n"
    }
   }
  },
  {
   "cell_type": "code",
   "execution_count": 1003,
   "outputs": [
    {
     "ename": "NameError",
     "evalue": "name 'CVsearch_dict' is not defined",
     "output_type": "error",
     "traceback": [
      "\u001B[1;31m---------------------------------------------------------------------------\u001B[0m",
      "\u001B[1;31mNameError\u001B[0m                                 Traceback (most recent call last)",
      "Input \u001B[1;32mIn [1003]\u001B[0m, in \u001B[0;36m<cell line: 32>\u001B[1;34m()\u001B[0m\n\u001B[0;32m     28\u001B[0m             \u001B[38;5;28mprint\u001B[39m(\u001B[38;5;124m\"\u001B[39m\u001B[38;5;124m  - \u001B[39m\u001B[38;5;124m\"\u001B[39m \u001B[38;5;241m+\u001B[39m parameter \u001B[38;5;241m+\u001B[39m \u001B[38;5;124m\"\u001B[39m\u001B[38;5;124m:\u001B[39m\u001B[38;5;124m\"\u001B[39m, best_parameter)\n\u001B[0;32m     30\u001B[0m     \u001B[38;5;28;01mreturn\u001B[39;00m best_model\n\u001B[1;32m---> 32\u001B[0m model_GHG \u001B[38;5;241m=\u001B[39m get_best_model(\u001B[43mCVsearch_dict\u001B[49m)\n",
      "\u001B[1;31mNameError\u001B[0m: name 'CVsearch_dict' is not defined"
     ]
    }
   ],
   "source": [
    "def get_best_model(CVsearch_dict):\n",
    "    \"\"\"Return the best_model from CVsearch_dict.\"\"\"\n",
    "\n",
    "    # Initializing best score\n",
    "    best_score = 0\n",
    "\n",
    "    # Iterating over models\n",
    "    for model, model_CVsearch in CVsearch_dict.items():\n",
    "\n",
    "        # Selecting model with best score\n",
    "        if model_CVsearch.best_score_ > best_score:\n",
    "            # Updating best_score and best_model\n",
    "            best_model_name = model\n",
    "            best_score = model_CVsearch.best_score_\n",
    "            best_model = model_CVsearch.best_estimator_\n",
    "\n",
    "    # Display results\n",
    "    print(\"\\nThe overall best cross-validated score is : R² = {:.3f}\".format(best_score))\n",
    "    print(\"The best model is {} with parameters: \".format(best_model_name))\n",
    "\n",
    "    # Getting parameters from param_grid\n",
    "    for parameter, _ in param_grids[best_model_name][0].items():\n",
    "        if parameter != 'regressor':\n",
    "            best_parameter = best_model.get_params()[parameter]\n",
    "\n",
    "            # Display best parameter\n",
    "            parameter = parameter.split(\"regressor__\")[1]\n",
    "            print(\"  - \" + parameter + \":\", best_parameter)\n",
    "\n",
    "    return best_model\n",
    "\n",
    "model_GHG = get_best_model(CVsearch_dict)"
   ],
   "metadata": {
    "collapsed": false,
    "pycharm": {
     "name": "#%%\n"
    }
   }
  },
  {
   "cell_type": "markdown",
   "source": [
    "#### Vérification des prédictions\n"
   ],
   "metadata": {
    "collapsed": false,
    "pycharm": {
     "name": "#%% md\n"
    }
   }
  },
  {
   "cell_type": "code",
   "execution_count": null,
   "outputs": [],
   "source": [],
   "metadata": {
    "collapsed": false,
    "pycharm": {
     "name": "#%%\n"
    }
   }
  },
  {
   "cell_type": "markdown",
   "source": [
    "#### Intérêt du Energy Star Score\n"
   ],
   "metadata": {
    "collapsed": false,
    "pycharm": {
     "name": "#%% md\n"
    }
   }
  }
 ],
 "metadata": {
  "kernelspec": {
   "display_name": "Python 3",
   "language": "python",
   "name": "python3"
  },
  "language_info": {
   "codemirror_mode": {
    "name": "ipython",
    "version": 2
   },
   "file_extension": ".py",
   "mimetype": "text/x-python",
   "name": "python",
   "nbconvert_exporter": "python",
   "pygments_lexer": "ipython2",
   "version": "2.7.6"
  }
 },
 "nbformat": 4,
 "nbformat_minor": 0
}