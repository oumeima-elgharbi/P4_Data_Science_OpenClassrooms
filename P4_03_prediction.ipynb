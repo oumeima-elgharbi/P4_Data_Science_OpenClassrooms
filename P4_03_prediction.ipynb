{
 "cells": [
  {
   "cell_type": "markdown",
   "source": [
    "OpenClassrooms\n",
    "Project 4, Data Scientist\n",
    "Author : Oumeima EL GHARBI\n",
    "Date : August 2022"
   ],
   "metadata": {
    "collapsed": false,
    "pycharm": {
     "name": "#%% md\n"
    }
   }
  },
  {
   "cell_type": "markdown",
   "source": [
    "Un notebook pour chaque prédiction (émissions de CO2 et consommation totale d’énergie) des différents tests de modèles mis au propre, dans lequel vous identifierez clairement le modèle final choisi.\n",
    "\n",
    "\n",
    "L’objectif est de te passer des relevés de consommation annuels futurs (attention à la fuite de données). Nous ferons de toute façon pour tout nouveau bâtiment un premier relevé de référence la première année, donc rien ne t'interdit d’en déduire des variables structurelles aux bâtiments, par exemple la nature et proportions des sources d’énergie utilisées..\n",
    "\n",
    "Fais bien attention au traitement des différentes variables, à la fois pour trouver de nouvelles informations (peut-on déduire des choses intéressantes d’une simple adresse ?) et optimiser les performances en appliquant des transformations simples aux variables (normalisation, passage au log, etc.).\n",
    "\n",
    "Mets en place une évaluation rigoureuse des performances de la régression, et optimise les hyperparamètres et le choix d’algorithmes de ML à l’aide d’une validation croisée."
   ],
   "metadata": {
    "collapsed": false,
    "pycharm": {
     "name": "#%% md\n"
    }
   }
  },
  {
   "cell_type": "markdown",
   "source": [
    "\n",
    "\n",
    "Tester les modèles suivants : **regression linéaire (avec différentes régularisation : Ridge, Lasso, Elastic), Random Forest, XGboost**\n",
    "Penser à comparer les performances des différents modèles : utiliser la **MAE** ( Mean Absolute Error)\n",
    "Penser également à optimiser les hyper paramètres de chaque modèle via **GridSearch**\n"
   ],
   "metadata": {
    "collapsed": false,
    "pycharm": {
     "name": "#%% md\n"
    }
   }
  },
  {
   "cell_type": "markdown",
   "source": [
    "Evaluate :\n",
    "\n",
    "https://cloud.google.com/automl-tables/docs/evaluate?hl=fr\n",
    "\n",
    "\n",
    "KFOLD\n",
    "\n",
    "Entrée : données X (dimension nxp), étiquettes y (dimension n), nombre de folds k\n",
    "\n",
    "Couper [0, 1, ..., n-1] en k parties de taille (n/k). (La dernière partie sera un peu plus petite si n n'est pas un multiple de k)\n",
    "\n",
    "for i=0 to (k-1):\n",
    "    Former le jeu de test (X_test, y_test) en restreignant X et y aux indices contenus dans la i-ième partie.\n",
    "    Former le jeu d'entraînement (X_train, y_train) en restreignant X et y aux autres indices.\n",
    "    Entraîner l'algorithme sur le jeu d'entraînement\n",
    "    Utiliser le modèle ainsi obtenu pour prédire sur le jeu de test\n",
    "        Calculer l'erreur du modèle en comparant les étiquettes prédites aux vraies étiquettes contenues dans y_test\n",
    "\n",
    "Sortie : la valeur moyenne des erreurs calculées sur les k folds."
   ],
   "metadata": {
    "collapsed": false,
    "pycharm": {
     "name": "#%% md\n"
    }
   }
  },
  {
   "cell_type": "code",
   "execution_count": 64,
   "outputs": [],
   "source": [
    "# 1 modele de Regression (RL classsque / Elastic / ridig / laso\n",
    "# Random Forest\n",
    "# XGBOOST\n",
    "\n",
    "# var à rpedire tottal GHE Emssion last one to predict\n",
    "# cette var deped de la consommation des bateimenst (1) prediction sur elec, steam, naturalgas et un autre energie (2) et reutiliser pour predire"
   ],
   "metadata": {
    "collapsed": false,
    "pycharm": {
     "name": "#%%\n"
    }
   }
  },
  {
   "cell_type": "markdown",
   "source": [
    "### Introduction"
   ],
   "metadata": {
    "collapsed": false,
    "pycharm": {
     "name": "#%% md\n"
    }
   }
  },
  {
   "cell_type": "markdown",
   "source": [
    "#### Importing libraries"
   ],
   "metadata": {
    "collapsed": false,
    "pycharm": {
     "name": "#%% md\n"
    }
   }
  },
  {
   "cell_type": "code",
   "execution_count": 65,
   "outputs": [
    {
     "data": {
      "application/javascript": "IPython.notebook.set_autosave_interval(300000)"
     },
     "metadata": {},
     "output_type": "display_data"
    },
    {
     "name": "stdout",
     "output_type": "stream",
     "text": [
      "Autosaving every 300 seconds\n"
     ]
    }
   ],
   "source": [
    "%reset -f\n",
    "\n",
    "import numpy as np\n",
    "import pandas as pd\n",
    "import matplotlib.pyplot as plt\n",
    "import seaborn as sns\n",
    "\n",
    "%matplotlib inline\n",
    "%autosave 300"
   ],
   "metadata": {
    "collapsed": false,
    "pycharm": {
     "name": "#%%\n"
    }
   }
  },
  {
   "cell_type": "code",
   "execution_count": 66,
   "outputs": [],
   "source": [
    "from functions import *"
   ],
   "metadata": {
    "collapsed": false,
    "pycharm": {
     "name": "#%%\n"
    }
   }
  },
  {
   "cell_type": "code",
   "execution_count": 67,
   "outputs": [],
   "source": [
    "import os, warnings\n",
    "# warnings.filterwarnings('ignore')\n",
    "warnings.filterwarnings(action=\"once\")"
   ],
   "metadata": {
    "collapsed": false,
    "pycharm": {
     "name": "#%%\n"
    }
   }
  },
  {
   "cell_type": "markdown",
   "source": [
    "#### Loading dataset"
   ],
   "metadata": {
    "collapsed": false,
    "pycharm": {
     "name": "#%% md\n"
    }
   }
  },
  {
   "cell_type": "code",
   "execution_count": 68,
   "outputs": [
    {
     "name": "stdout",
     "output_type": "stream",
     "text": [
      "This dictionary will be used when reading the csv file to assign a type to categorical features : {'BuildingType': 'category', 'PrimaryPropertyType': 'category', 'Neighborhood': 'category', 'ZipCode': 'category', 'CouncilDistrictCode': 'category', 'LargestPropertyUseType': 'category', 'SecondLargestPropertyUseType': 'category', 'ThirdLargestPropertyUseType': 'category'}\n"
     ]
    }
   ],
   "source": [
    "columns_to_categorize = [\"BuildingType\", \"PrimaryPropertyType\", \"Neighborhood\", \"ZipCode\", \"CouncilDistrictCode\", \"LargestPropertyUseType\", \"SecondLargestPropertyUseType\", \"ThirdLargestPropertyUseType\"]\n",
    "#  \"Neighborhood\",\n",
    "category_types = {column: 'category' for column in columns_to_categorize}\n",
    "print(\"This dictionary will be used when reading the csv file to assign a type to categorical features :\", category_types)"
   ],
   "metadata": {
    "collapsed": false,
    "pycharm": {
     "name": "#%%\n"
    }
   }
  },
  {
   "cell_type": "code",
   "execution_count": 69,
   "outputs": [],
   "source": [
    "dataset_path = \"dataset/cleaned/2016_Building_Energy_Prediction.csv\"\n",
    "# we assign the categorical features with a categotical type\n",
    "data = pd.read_csv(dataset_path, dtype=category_types, sep=\",\")"
   ],
   "metadata": {
    "collapsed": false,
    "pycharm": {
     "name": "#%%\n"
    }
   }
  },
  {
   "cell_type": "code",
   "execution_count": 70,
   "outputs": [
    {
     "data": {
      "text/plain": "(3131, 37)"
     },
     "execution_count": 70,
     "metadata": {},
     "output_type": "execute_result"
    }
   ],
   "source": [
    "data.shape"
   ],
   "metadata": {
    "collapsed": false,
    "pycharm": {
     "name": "#%%\n"
    }
   }
  },
  {
   "cell_type": "code",
   "execution_count": 71,
   "outputs": [
    {
     "data": {
      "text/plain": "OSEBuildingID                             int64\nBuildingType                           category\nPrimaryPropertyType                    category\nZipCode                                category\nCouncilDistrictCode                    category\nNeighborhood                           category\nYearBuilt                                 int64\nNumberofBuildings                       float64\nNumberofFloors                            int64\nPropertyGFATotal                          int64\nPropertyGFAParking                        int64\nPropertyGFABuilding(s)                    int64\nLargestPropertyUseType                 category\nLargestPropertyUseTypeGFA               float64\nSecondLargestPropertyUseType           category\nSecondLargestPropertyUseTypeGFA         float64\nThirdLargestPropertyUseType            category\nThirdLargestPropertyUseTypeGFA          float64\nENERGYSTARScore                         float64\nSiteEnergyUse(kBtu)                     float64\nSteamUse(kBtu)                          float64\nElectricity(kBtu)                       float64\nNaturalGas(kBtu)                        float64\nTotalGHGEmissions                       float64\nLog-NumberofBuildings                   float64\nLog-NumberofFloors                      float64\nLog-PropertyGFATotal                    float64\nLog-PropertyGFAParking                  float64\nLog-PropertyGFABuilding(s)              float64\nLog-LargestPropertyUseTypeGFA           float64\nLog-SecondLargestPropertyUseTypeGFA     float64\nLog-ThirdLargestPropertyUseTypeGFA      float64\nLog-SiteEnergyUse(kBtu)                 float64\nLog-SteamUse(kBtu)                      float64\nLog-Electricity(kBtu)                   float64\nLog-NaturalGas(kBtu)                    float64\nLog-TotalGHGEmissions                   float64\ndtype: object"
     },
     "execution_count": 71,
     "metadata": {},
     "output_type": "execute_result"
    }
   ],
   "source": [
    "data.dtypes"
   ],
   "metadata": {
    "collapsed": false,
    "pycharm": {
     "name": "#%%\n"
    }
   }
  },
  {
   "cell_type": "code",
   "execution_count": 72,
   "outputs": [],
   "source": [
    "# predict : Electricity\n",
    "# train / test\n",
    "# standardisation = retirer la moyen et div par ecart type (scaling : les var qn sur emem echelle\n",
    "# var categ : encoding (one hot encoder)\n",
    "\n",
    "# la fin Feature engineriing\n",
    "\n",
    "# 2) entrainer le smodels\n",
    "# perf\n",
    "# temps de calcul\n",
    "# graph pour montrer la perf de chaque modele(barplot)\n",
    "# obj : finir exploration / finir feature engineering\n",
    "# obj un premier noteboook propre (try max)"
   ],
   "metadata": {
    "collapsed": false,
    "pycharm": {
     "name": "#%%\n"
    }
   }
  },
  {
   "cell_type": "code",
   "execution_count": 73,
   "outputs": [
    {
     "data": {
      "text/plain": "Index(['OSEBuildingID', 'BuildingType', 'PrimaryPropertyType', 'ZipCode',\n       'CouncilDistrictCode', 'Neighborhood', 'YearBuilt', 'NumberofBuildings',\n       'NumberofFloors', 'PropertyGFATotal', 'PropertyGFAParking',\n       'PropertyGFABuilding(s)', 'LargestPropertyUseType',\n       'LargestPropertyUseTypeGFA', 'SecondLargestPropertyUseType',\n       'SecondLargestPropertyUseTypeGFA', 'ThirdLargestPropertyUseType',\n       'ThirdLargestPropertyUseTypeGFA', 'ENERGYSTARScore',\n       'SiteEnergyUse(kBtu)', 'SteamUse(kBtu)', 'Electricity(kBtu)',\n       'NaturalGas(kBtu)', 'TotalGHGEmissions', 'Log-NumberofBuildings',\n       'Log-NumberofFloors', 'Log-PropertyGFATotal', 'Log-PropertyGFAParking',\n       'Log-PropertyGFABuilding(s)', 'Log-LargestPropertyUseTypeGFA',\n       'Log-SecondLargestPropertyUseTypeGFA',\n       'Log-ThirdLargestPropertyUseTypeGFA', 'Log-SiteEnergyUse(kBtu)',\n       'Log-SteamUse(kBtu)', 'Log-Electricity(kBtu)', 'Log-NaturalGas(kBtu)',\n       'Log-TotalGHGEmissions'],\n      dtype='object')"
     },
     "execution_count": 73,
     "metadata": {},
     "output_type": "execute_result"
    }
   ],
   "source": [
    "data.columns"
   ],
   "metadata": {
    "collapsed": false,
    "pycharm": {
     "name": "#%%\n"
    }
   }
  },
  {
   "cell_type": "code",
   "execution_count": 74,
   "outputs": [
    {
     "name": "stdout",
     "output_type": "stream",
     "text": [
      "['BuildingType', 'PrimaryPropertyType', 'Neighborhood', 'Log-NumberofFloors', 'Log-PropertyGFATotal', 'Log-PropertyGFAParking', 'Log-SecondLargestPropertyUseTypeGFA', 'Log-ThirdLargestPropertyUseTypeGFA', 'Log-Electricity(kBtu)']\n"
     ]
    }
   ],
   "source": [
    "features_for_prediction = [\"BuildingType\", \"PrimaryPropertyType\", \"Neighborhood\", \"Log-NumberofFloors\", \"Log-PropertyGFATotal\", \"Log-PropertyGFAParking\", \"Log-SecondLargestPropertyUseTypeGFA\", \"Log-ThirdLargestPropertyUseTypeGFA\"]\n",
    "\n",
    "#features_for_prediction = [\"YearBuilt\", \"NumberofBuildings\", \"NumberofFloors\", \"LargestPropertyUseTypeGFA\", \"SecondLargestPropertyUseTypeGFA\", \"ThirdLargestPropertyUseTypeGFA\",\n",
    "   #                        \"BuildingType\",\"PrimaryPropertyType\", \"Neighborhood\", \"LargestPropertyUseType\", \"SecondLargestPropertyUseType\", \"ThirdLargestPropertyUseType\"]\n",
    "\n",
    "variable_to_predict = \"Log-Electricity(kBtu)\"\n",
    "\n",
    "features_for_prediction.append(variable_to_predict)\n",
    "print(features_for_prediction)\n"
   ],
   "metadata": {
    "collapsed": false,
    "pycharm": {
     "name": "#%%\n"
    }
   }
  },
  {
   "cell_type": "code",
   "execution_count": 75,
   "outputs": [
    {
     "data": {
      "text/plain": "              BuildingType          PrimaryPropertyType      Neighborhood  \\\n0     Multifamily LR (1-4)         Low-Rise Multifamily           central   \n1           NonResidential                    Warehouse  greater duwamish   \n2     Multifamily LR (1-4)         Low-Rise Multifamily  greater duwamish   \n3     Multifamily HR (10+)        High-Rise Multifamily  greater duwamish   \n4     Multifamily LR (1-4)         Low-Rise Multifamily  greater duwamish   \n...                    ...                          ...               ...   \n3126        NonResidential           Mixed Use Property        lake union   \n3127  Multifamily LR (1-4)         Low-Rise Multifamily        lake union   \n3128        NonResidential  Small- and Mid-Sized Office        lake union   \n3129        NonResidential                 Retail Store        lake union   \n3130    Nonresidential COS           Mixed Use Property  greater duwamish   \n\n      Log-NumberofFloors  Log-PropertyGFATotal  Log-PropertyGFAParking  \\\n0                   1.39                  9.94                    0.00   \n1                   1.10                 10.16                    0.00   \n2                   1.39                 10.13                    0.00   \n3                   2.77                 11.21                    0.00   \n4                   1.39                 10.50                    8.86   \n...                  ...                   ...                     ...   \n3126                1.39                 10.64                    9.13   \n3127                1.61                 10.51                    0.00   \n3128                1.79                 10.43                    8.70   \n3129                1.10                  9.93                    0.00   \n3130                0.69                  9.81                    0.00   \n\n      Log-SecondLargestPropertyUseTypeGFA  Log-ThirdLargestPropertyUseTypeGFA  \\\n0                                    0.00                                0.00   \n1                                    9.08                                8.03   \n2                                    0.00                                0.00   \n3                                    0.00                                0.00   \n4                                    8.34                                0.00   \n...                                   ...                                 ...   \n3126                                 9.56                                9.18   \n3127                                 0.00                                0.00   \n3128                                 9.08                                7.31   \n3129                                 8.99                                0.00   \n3130                                 8.99                                7.01   \n\n      Log-Electricity(kBtu)  \n0                     13.61  \n1                     14.01  \n2                     12.62  \n3                     14.58  \n4                     13.40  \n...                     ...  \n3126                  14.71  \n3127                  13.16  \n3128                  14.07  \n3129                  12.49  \n3130                  12.98  \n\n[3131 rows x 9 columns]",
      "text/html": "<div>\n<style scoped>\n    .dataframe tbody tr th:only-of-type {\n        vertical-align: middle;\n    }\n\n    .dataframe tbody tr th {\n        vertical-align: top;\n    }\n\n    .dataframe thead th {\n        text-align: right;\n    }\n</style>\n<table border=\"1\" class=\"dataframe\">\n  <thead>\n    <tr style=\"text-align: right;\">\n      <th></th>\n      <th>BuildingType</th>\n      <th>PrimaryPropertyType</th>\n      <th>Neighborhood</th>\n      <th>Log-NumberofFloors</th>\n      <th>Log-PropertyGFATotal</th>\n      <th>Log-PropertyGFAParking</th>\n      <th>Log-SecondLargestPropertyUseTypeGFA</th>\n      <th>Log-ThirdLargestPropertyUseTypeGFA</th>\n      <th>Log-Electricity(kBtu)</th>\n    </tr>\n  </thead>\n  <tbody>\n    <tr>\n      <th>0</th>\n      <td>Multifamily LR (1-4)</td>\n      <td>Low-Rise Multifamily</td>\n      <td>central</td>\n      <td>1.39</td>\n      <td>9.94</td>\n      <td>0.00</td>\n      <td>0.00</td>\n      <td>0.00</td>\n      <td>13.61</td>\n    </tr>\n    <tr>\n      <th>1</th>\n      <td>NonResidential</td>\n      <td>Warehouse</td>\n      <td>greater duwamish</td>\n      <td>1.10</td>\n      <td>10.16</td>\n      <td>0.00</td>\n      <td>9.08</td>\n      <td>8.03</td>\n      <td>14.01</td>\n    </tr>\n    <tr>\n      <th>2</th>\n      <td>Multifamily LR (1-4)</td>\n      <td>Low-Rise Multifamily</td>\n      <td>greater duwamish</td>\n      <td>1.39</td>\n      <td>10.13</td>\n      <td>0.00</td>\n      <td>0.00</td>\n      <td>0.00</td>\n      <td>12.62</td>\n    </tr>\n    <tr>\n      <th>3</th>\n      <td>Multifamily HR (10+)</td>\n      <td>High-Rise Multifamily</td>\n      <td>greater duwamish</td>\n      <td>2.77</td>\n      <td>11.21</td>\n      <td>0.00</td>\n      <td>0.00</td>\n      <td>0.00</td>\n      <td>14.58</td>\n    </tr>\n    <tr>\n      <th>4</th>\n      <td>Multifamily LR (1-4)</td>\n      <td>Low-Rise Multifamily</td>\n      <td>greater duwamish</td>\n      <td>1.39</td>\n      <td>10.50</td>\n      <td>8.86</td>\n      <td>8.34</td>\n      <td>0.00</td>\n      <td>13.40</td>\n    </tr>\n    <tr>\n      <th>...</th>\n      <td>...</td>\n      <td>...</td>\n      <td>...</td>\n      <td>...</td>\n      <td>...</td>\n      <td>...</td>\n      <td>...</td>\n      <td>...</td>\n      <td>...</td>\n    </tr>\n    <tr>\n      <th>3126</th>\n      <td>NonResidential</td>\n      <td>Mixed Use Property</td>\n      <td>lake union</td>\n      <td>1.39</td>\n      <td>10.64</td>\n      <td>9.13</td>\n      <td>9.56</td>\n      <td>9.18</td>\n      <td>14.71</td>\n    </tr>\n    <tr>\n      <th>3127</th>\n      <td>Multifamily LR (1-4)</td>\n      <td>Low-Rise Multifamily</td>\n      <td>lake union</td>\n      <td>1.61</td>\n      <td>10.51</td>\n      <td>0.00</td>\n      <td>0.00</td>\n      <td>0.00</td>\n      <td>13.16</td>\n    </tr>\n    <tr>\n      <th>3128</th>\n      <td>NonResidential</td>\n      <td>Small- and Mid-Sized Office</td>\n      <td>lake union</td>\n      <td>1.79</td>\n      <td>10.43</td>\n      <td>8.70</td>\n      <td>9.08</td>\n      <td>7.31</td>\n      <td>14.07</td>\n    </tr>\n    <tr>\n      <th>3129</th>\n      <td>NonResidential</td>\n      <td>Retail Store</td>\n      <td>lake union</td>\n      <td>1.10</td>\n      <td>9.93</td>\n      <td>0.00</td>\n      <td>8.99</td>\n      <td>0.00</td>\n      <td>12.49</td>\n    </tr>\n    <tr>\n      <th>3130</th>\n      <td>Nonresidential COS</td>\n      <td>Mixed Use Property</td>\n      <td>greater duwamish</td>\n      <td>0.69</td>\n      <td>9.81</td>\n      <td>0.00</td>\n      <td>8.99</td>\n      <td>7.01</td>\n      <td>12.98</td>\n    </tr>\n  </tbody>\n</table>\n<p>3131 rows × 9 columns</p>\n</div>"
     },
     "execution_count": 75,
     "metadata": {},
     "output_type": "execute_result"
    }
   ],
   "source": [
    "data = data[features_for_prediction]\n",
    "\n",
    "data"
   ],
   "metadata": {
    "collapsed": false,
    "pycharm": {
     "name": "#%%\n"
    }
   }
  },
  {
   "cell_type": "markdown",
   "source": [
    "## I) Feature Engineering : preparing the vectors and matrices\n"
   ],
   "metadata": {
    "collapsed": false,
    "pycharm": {
     "name": "#%% md\n"
    }
   }
  },
  {
   "cell_type": "markdown",
   "source": [
    "#### 1) Separating training data and target vector"
   ],
   "metadata": {
    "collapsed": false,
    "pycharm": {
     "name": "#%% md\n"
    }
   }
  },
  {
   "cell_type": "code",
   "execution_count": 76,
   "outputs": [
    {
     "name": "stdout",
     "output_type": "stream",
     "text": [
      "Shape of X : (3131, 8)\n",
      "Shape of y : (3131,)\n"
     ]
    }
   ],
   "source": [
    "# we create the data matrix / we only take the features\n",
    "X = data[data.columns[:-1]]\n",
    "\n",
    "# we create the target vector\n",
    "y = data[variable_to_predict].values # numpy array not a DataFrame anymore\n",
    "\n",
    "print(\"Shape of X :\", X.shape)\n",
    "print(\"Shape of y :\", y.shape)"
   ],
   "metadata": {
    "collapsed": false,
    "pycharm": {
     "name": "#%%\n"
    }
   }
  },
  {
   "cell_type": "code",
   "execution_count": 77,
   "outputs": [
    {
     "data": {
      "text/plain": "              BuildingType          PrimaryPropertyType      Neighborhood  \\\n0     Multifamily LR (1-4)         Low-Rise Multifamily           central   \n1           NonResidential                    Warehouse  greater duwamish   \n2     Multifamily LR (1-4)         Low-Rise Multifamily  greater duwamish   \n3     Multifamily HR (10+)        High-Rise Multifamily  greater duwamish   \n4     Multifamily LR (1-4)         Low-Rise Multifamily  greater duwamish   \n...                    ...                          ...               ...   \n3126        NonResidential           Mixed Use Property        lake union   \n3127  Multifamily LR (1-4)         Low-Rise Multifamily        lake union   \n3128        NonResidential  Small- and Mid-Sized Office        lake union   \n3129        NonResidential                 Retail Store        lake union   \n3130    Nonresidential COS           Mixed Use Property  greater duwamish   \n\n      Log-NumberofFloors  Log-PropertyGFATotal  Log-PropertyGFAParking  \\\n0                   1.39                  9.94                    0.00   \n1                   1.10                 10.16                    0.00   \n2                   1.39                 10.13                    0.00   \n3                   2.77                 11.21                    0.00   \n4                   1.39                 10.50                    8.86   \n...                  ...                   ...                     ...   \n3126                1.39                 10.64                    9.13   \n3127                1.61                 10.51                    0.00   \n3128                1.79                 10.43                    8.70   \n3129                1.10                  9.93                    0.00   \n3130                0.69                  9.81                    0.00   \n\n      Log-SecondLargestPropertyUseTypeGFA  Log-ThirdLargestPropertyUseTypeGFA  \n0                                    0.00                                0.00  \n1                                    9.08                                8.03  \n2                                    0.00                                0.00  \n3                                    0.00                                0.00  \n4                                    8.34                                0.00  \n...                                   ...                                 ...  \n3126                                 9.56                                9.18  \n3127                                 0.00                                0.00  \n3128                                 9.08                                7.31  \n3129                                 8.99                                0.00  \n3130                                 8.99                                7.01  \n\n[3131 rows x 8 columns]",
      "text/html": "<div>\n<style scoped>\n    .dataframe tbody tr th:only-of-type {\n        vertical-align: middle;\n    }\n\n    .dataframe tbody tr th {\n        vertical-align: top;\n    }\n\n    .dataframe thead th {\n        text-align: right;\n    }\n</style>\n<table border=\"1\" class=\"dataframe\">\n  <thead>\n    <tr style=\"text-align: right;\">\n      <th></th>\n      <th>BuildingType</th>\n      <th>PrimaryPropertyType</th>\n      <th>Neighborhood</th>\n      <th>Log-NumberofFloors</th>\n      <th>Log-PropertyGFATotal</th>\n      <th>Log-PropertyGFAParking</th>\n      <th>Log-SecondLargestPropertyUseTypeGFA</th>\n      <th>Log-ThirdLargestPropertyUseTypeGFA</th>\n    </tr>\n  </thead>\n  <tbody>\n    <tr>\n      <th>0</th>\n      <td>Multifamily LR (1-4)</td>\n      <td>Low-Rise Multifamily</td>\n      <td>central</td>\n      <td>1.39</td>\n      <td>9.94</td>\n      <td>0.00</td>\n      <td>0.00</td>\n      <td>0.00</td>\n    </tr>\n    <tr>\n      <th>1</th>\n      <td>NonResidential</td>\n      <td>Warehouse</td>\n      <td>greater duwamish</td>\n      <td>1.10</td>\n      <td>10.16</td>\n      <td>0.00</td>\n      <td>9.08</td>\n      <td>8.03</td>\n    </tr>\n    <tr>\n      <th>2</th>\n      <td>Multifamily LR (1-4)</td>\n      <td>Low-Rise Multifamily</td>\n      <td>greater duwamish</td>\n      <td>1.39</td>\n      <td>10.13</td>\n      <td>0.00</td>\n      <td>0.00</td>\n      <td>0.00</td>\n    </tr>\n    <tr>\n      <th>3</th>\n      <td>Multifamily HR (10+)</td>\n      <td>High-Rise Multifamily</td>\n      <td>greater duwamish</td>\n      <td>2.77</td>\n      <td>11.21</td>\n      <td>0.00</td>\n      <td>0.00</td>\n      <td>0.00</td>\n    </tr>\n    <tr>\n      <th>4</th>\n      <td>Multifamily LR (1-4)</td>\n      <td>Low-Rise Multifamily</td>\n      <td>greater duwamish</td>\n      <td>1.39</td>\n      <td>10.50</td>\n      <td>8.86</td>\n      <td>8.34</td>\n      <td>0.00</td>\n    </tr>\n    <tr>\n      <th>...</th>\n      <td>...</td>\n      <td>...</td>\n      <td>...</td>\n      <td>...</td>\n      <td>...</td>\n      <td>...</td>\n      <td>...</td>\n      <td>...</td>\n    </tr>\n    <tr>\n      <th>3126</th>\n      <td>NonResidential</td>\n      <td>Mixed Use Property</td>\n      <td>lake union</td>\n      <td>1.39</td>\n      <td>10.64</td>\n      <td>9.13</td>\n      <td>9.56</td>\n      <td>9.18</td>\n    </tr>\n    <tr>\n      <th>3127</th>\n      <td>Multifamily LR (1-4)</td>\n      <td>Low-Rise Multifamily</td>\n      <td>lake union</td>\n      <td>1.61</td>\n      <td>10.51</td>\n      <td>0.00</td>\n      <td>0.00</td>\n      <td>0.00</td>\n    </tr>\n    <tr>\n      <th>3128</th>\n      <td>NonResidential</td>\n      <td>Small- and Mid-Sized Office</td>\n      <td>lake union</td>\n      <td>1.79</td>\n      <td>10.43</td>\n      <td>8.70</td>\n      <td>9.08</td>\n      <td>7.31</td>\n    </tr>\n    <tr>\n      <th>3129</th>\n      <td>NonResidential</td>\n      <td>Retail Store</td>\n      <td>lake union</td>\n      <td>1.10</td>\n      <td>9.93</td>\n      <td>0.00</td>\n      <td>8.99</td>\n      <td>0.00</td>\n    </tr>\n    <tr>\n      <th>3130</th>\n      <td>Nonresidential COS</td>\n      <td>Mixed Use Property</td>\n      <td>greater duwamish</td>\n      <td>0.69</td>\n      <td>9.81</td>\n      <td>0.00</td>\n      <td>8.99</td>\n      <td>7.01</td>\n    </tr>\n  </tbody>\n</table>\n<p>3131 rows × 8 columns</p>\n</div>"
     },
     "execution_count": 77,
     "metadata": {},
     "output_type": "execute_result"
    }
   ],
   "source": [
    "X"
   ],
   "metadata": {
    "collapsed": false,
    "pycharm": {
     "name": "#%%\n"
    }
   }
  },
  {
   "cell_type": "markdown",
   "source": [
    "#### 2) Separation train and test dataset\n"
   ],
   "metadata": {
    "collapsed": false,
    "pycharm": {
     "name": "#%% md\n"
    }
   }
  },
  {
   "cell_type": "code",
   "execution_count": 78,
   "outputs": [
    {
     "name": "stdout",
     "output_type": "stream",
     "text": [
      "We have to separate the train / test sets before normalising the dataset.\n"
     ]
    }
   ],
   "source": [
    "print(\"We have to separate the train / test sets before normalising the dataset.\")"
   ],
   "metadata": {
    "collapsed": false,
    "pycharm": {
     "name": "#%%\n"
    }
   }
  },
  {
   "cell_type": "code",
   "execution_count": 79,
   "outputs": [],
   "source": [
    "# We create a training set and a test set (the test set contains 30% of the dataset)\n",
    "from sklearn import model_selection\n",
    "X_train, X_test, y_train, y_test = model_selection.train_test_split(X, y, test_size=0.3,  random_state=42)"
   ],
   "metadata": {
    "collapsed": false,
    "pycharm": {
     "name": "#%%\n"
    }
   }
  },
  {
   "cell_type": "code",
   "execution_count": 80,
   "outputs": [
    {
     "data": {
      "text/plain": "(2191, 8)"
     },
     "execution_count": 80,
     "metadata": {},
     "output_type": "execute_result"
    }
   ],
   "source": [
    "X_train.shape"
   ],
   "metadata": {
    "collapsed": false,
    "pycharm": {
     "name": "#%%\n"
    }
   }
  },
  {
   "cell_type": "code",
   "execution_count": 81,
   "outputs": [
    {
     "data": {
      "text/plain": "(940, 8)"
     },
     "execution_count": 81,
     "metadata": {},
     "output_type": "execute_result"
    }
   ],
   "source": [
    "X_test.shape"
   ],
   "metadata": {
    "collapsed": false,
    "pycharm": {
     "name": "#%%\n"
    }
   }
  },
  {
   "cell_type": "markdown",
   "source": [
    "#### 3) Normalization"
   ],
   "metadata": {
    "collapsed": false,
    "pycharm": {
     "name": "#%% md\n"
    }
   }
  },
  {
   "cell_type": "code",
   "execution_count": 82,
   "outputs": [],
   "source": [
    "from sklearn.preprocessing import StandardScaler, OneHotEncoder, MinMaxScaler"
   ],
   "metadata": {
    "collapsed": false,
    "pycharm": {
     "name": "#%%\n"
    }
   }
  },
  {
   "cell_type": "code",
   "execution_count": 83,
   "outputs": [
    {
     "name": "stdout",
     "output_type": "stream",
     "text": [
      "We separate categorical variables from numerical variables.\n"
     ]
    }
   ],
   "source": [
    "print(\"We separate categorical variables from numerical variables.\")"
   ],
   "metadata": {
    "collapsed": false,
    "pycharm": {
     "name": "#%%\n"
    }
   }
  },
  {
   "cell_type": "code",
   "execution_count": 84,
   "outputs": [
    {
     "name": "stdout",
     "output_type": "stream",
     "text": [
      "We won't normalise the year so we drop it from numerical_columns.\n",
      "Shape of categorical variables :  (3,)\n",
      "Shape of numerical variables : (5,)\n"
     ]
    }
   ],
   "source": [
    "X.select_dtypes(['category','object']) # we don't have 'object' here but it is just in case.\n",
    "\n",
    "categorical_columns = X.select_dtypes(['category','object']).columns\n",
    "#numerical_columns = X.select_dtypes(include='number').columns.drop(\"YearBuilt\")\n",
    "numerical_columns = X.select_dtypes(include='number').columns\n",
    "print(\"We won't normalise the year so we drop it from numerical_columns.\")\n",
    "\n",
    "print(\"Shape of categorical variables : \", categorical_columns.shape)\n",
    "print(\"Shape of numerical variables :\", numerical_columns.shape)"
   ],
   "metadata": {
    "collapsed": false,
    "pycharm": {
     "name": "#%%\n"
    }
   }
  },
  {
   "cell_type": "markdown",
   "source": [
    "##### 1) Data Standardisation"
   ],
   "metadata": {
    "collapsed": false,
    "pycharm": {
     "name": "#%% md\n"
    }
   }
  },
  {
   "cell_type": "markdown",
   "source": [
    "We have to standardize the variables before learning a **Ridge Regression**.\n",
    "Standardizing means that each variable will have a **standard deviation** equal to 1."
   ],
   "metadata": {
    "collapsed": false,
    "pycharm": {
     "name": "#%% md\n"
    }
   }
  },
  {
   "cell_type": "code",
   "execution_count": 85,
   "outputs": [
    {
     "name": "stdout",
     "output_type": "stream",
     "text": [
      "Numerical variables standardization\n",
      "We have : 5 numerical features to standardize.\n",
      "\n",
      "Index(['Log-NumberofFloors', 'Log-PropertyGFATotal', 'Log-PropertyGFAParking',\n",
      "       'Log-SecondLargestPropertyUseTypeGFA',\n",
      "       'Log-ThirdLargestPropertyUseTypeGFA'],\n",
      "      dtype='object')\n"
     ]
    }
   ],
   "source": [
    "print(\"Numerical variables standardization\")\n",
    "print(\"We have :\", numerical_columns.shape[0], \"numerical features to standardize.\",end=\"\\n\\n\")\n",
    "\n",
    "print(numerical_columns)"
   ],
   "metadata": {
    "collapsed": false,
    "pycharm": {
     "name": "#%%\n"
    }
   }
  },
  {
   "cell_type": "raw",
   "source": [
    "print(\"Dates standardisation : not\")\n",
    "\n",
    "from datetime import datetime\n",
    "\n",
    "def convert_to_timestamp(date):\n",
    "    \"\"\"\n",
    "    Convert date objects to integers\n",
    "    :param date:\n",
    "    :return:\n",
    "    \"\"\"\n",
    "    try:\n",
    "        timestamp = datetime.timestamp(date)\n",
    "        print(\"timestamp =\", timestamp, type(timestamp))\n",
    "        print(\"OK :\", date, type(date))\n",
    "\n",
    "        return timestamp\n",
    "    except Exception as e:\n",
    "        print(\"Error :\", date, type(date))\n",
    "        print(e)\n",
    "\n",
    "def normalize_min_max(data_frame, columns_to_scale):\n",
    "    \"\"\"\n",
    "    Normalizes the dataframe for the wanted column(s) using min/max\n",
    "    :param data_frame:\n",
    "    :param columns_to_scale: (list)\n",
    "    :return:\n",
    "    \"\"\"\n",
    "    min_max_scaler = MinMaxScaler()\n",
    "    df = data_frame.copy() # we will return a copy of our dataframe\n",
    "    df[columns_to_scale] = min_max_scaler.fit_transform(df[columns_to_scale])\n",
    "    return df\n"
   ],
   "metadata": {
    "collapsed": false,
    "pycharm": {
     "name": "#%% raw\n"
    }
   }
  },
  {
   "cell_type": "code",
   "execution_count": 86,
   "outputs": [
    {
     "name": "stdout",
     "output_type": "stream",
     "text": [
      "Before\n"
     ]
    },
    {
     "data": {
      "text/plain": "              BuildingType          PrimaryPropertyType  \\\n2091        NonResidential                        Hotel   \n2071        NonResidential                        Hotel   \n964     Nonresidential COS                        Other   \n2218        NonResidential  Small- and Mid-Sized Office   \n2737  Multifamily LR (1-4)         Low-Rise Multifamily   \n...                    ...                          ...   \n3092        NonResidential  Small- and Mid-Sized Office   \n1095  Multifamily MR (5-9)         Mid-Rise Multifamily   \n1130  Multifamily MR (5-9)         Mid-Rise Multifamily   \n1294  Multifamily MR (5-9)         Mid-Rise Multifamily   \n860   Multifamily MR (5-9)         Mid-Rise Multifamily   \n\n               Neighborhood  Log-NumberofFloors  Log-PropertyGFATotal  \\\n2091               downtown                2.48                 11.43   \n2071               downtown                3.04                 11.50   \n964               northeast                1.39                 10.24   \n2218             lake union                2.08                 11.45   \n2737  magnolia / queen anne                1.39                 10.40   \n...                     ...                 ...                   ...   \n3092  magnolia / queen anne                1.39                 10.60   \n1095              northeast                2.08                 11.22   \n1130                ballard                2.20                 12.99   \n1294                   east                1.79                 10.41   \n860   magnolia / queen anne                1.79                 10.45   \n\n      Log-PropertyGFAParking  Log-SecondLargestPropertyUseTypeGFA  \\\n2091                   10.13                                10.13   \n2071                    9.21                                 9.21   \n964                     0.00                                 0.00   \n2218                    0.00                                10.35   \n2737                    0.00                                 0.00   \n...                      ...                                  ...   \n3092                    0.00                                 0.00   \n1095                    0.00                                 0.00   \n1130                    0.00                                12.11   \n1294                    0.00                                 9.42   \n860                     0.00                                 0.00   \n\n      Log-ThirdLargestPropertyUseTypeGFA  \n2091                                0.00  \n2071                                8.52  \n964                                 0.00  \n2218                                0.00  \n2737                                0.00  \n...                                  ...  \n3092                                0.00  \n1095                                0.00  \n1130                                9.71  \n1294                                0.00  \n860                                 0.00  \n\n[2191 rows x 8 columns]",
      "text/html": "<div>\n<style scoped>\n    .dataframe tbody tr th:only-of-type {\n        vertical-align: middle;\n    }\n\n    .dataframe tbody tr th {\n        vertical-align: top;\n    }\n\n    .dataframe thead th {\n        text-align: right;\n    }\n</style>\n<table border=\"1\" class=\"dataframe\">\n  <thead>\n    <tr style=\"text-align: right;\">\n      <th></th>\n      <th>BuildingType</th>\n      <th>PrimaryPropertyType</th>\n      <th>Neighborhood</th>\n      <th>Log-NumberofFloors</th>\n      <th>Log-PropertyGFATotal</th>\n      <th>Log-PropertyGFAParking</th>\n      <th>Log-SecondLargestPropertyUseTypeGFA</th>\n      <th>Log-ThirdLargestPropertyUseTypeGFA</th>\n    </tr>\n  </thead>\n  <tbody>\n    <tr>\n      <th>2091</th>\n      <td>NonResidential</td>\n      <td>Hotel</td>\n      <td>downtown</td>\n      <td>2.48</td>\n      <td>11.43</td>\n      <td>10.13</td>\n      <td>10.13</td>\n      <td>0.00</td>\n    </tr>\n    <tr>\n      <th>2071</th>\n      <td>NonResidential</td>\n      <td>Hotel</td>\n      <td>downtown</td>\n      <td>3.04</td>\n      <td>11.50</td>\n      <td>9.21</td>\n      <td>9.21</td>\n      <td>8.52</td>\n    </tr>\n    <tr>\n      <th>964</th>\n      <td>Nonresidential COS</td>\n      <td>Other</td>\n      <td>northeast</td>\n      <td>1.39</td>\n      <td>10.24</td>\n      <td>0.00</td>\n      <td>0.00</td>\n      <td>0.00</td>\n    </tr>\n    <tr>\n      <th>2218</th>\n      <td>NonResidential</td>\n      <td>Small- and Mid-Sized Office</td>\n      <td>lake union</td>\n      <td>2.08</td>\n      <td>11.45</td>\n      <td>0.00</td>\n      <td>10.35</td>\n      <td>0.00</td>\n    </tr>\n    <tr>\n      <th>2737</th>\n      <td>Multifamily LR (1-4)</td>\n      <td>Low-Rise Multifamily</td>\n      <td>magnolia / queen anne</td>\n      <td>1.39</td>\n      <td>10.40</td>\n      <td>0.00</td>\n      <td>0.00</td>\n      <td>0.00</td>\n    </tr>\n    <tr>\n      <th>...</th>\n      <td>...</td>\n      <td>...</td>\n      <td>...</td>\n      <td>...</td>\n      <td>...</td>\n      <td>...</td>\n      <td>...</td>\n      <td>...</td>\n    </tr>\n    <tr>\n      <th>3092</th>\n      <td>NonResidential</td>\n      <td>Small- and Mid-Sized Office</td>\n      <td>magnolia / queen anne</td>\n      <td>1.39</td>\n      <td>10.60</td>\n      <td>0.00</td>\n      <td>0.00</td>\n      <td>0.00</td>\n    </tr>\n    <tr>\n      <th>1095</th>\n      <td>Multifamily MR (5-9)</td>\n      <td>Mid-Rise Multifamily</td>\n      <td>northeast</td>\n      <td>2.08</td>\n      <td>11.22</td>\n      <td>0.00</td>\n      <td>0.00</td>\n      <td>0.00</td>\n    </tr>\n    <tr>\n      <th>1130</th>\n      <td>Multifamily MR (5-9)</td>\n      <td>Mid-Rise Multifamily</td>\n      <td>ballard</td>\n      <td>2.20</td>\n      <td>12.99</td>\n      <td>0.00</td>\n      <td>12.11</td>\n      <td>9.71</td>\n    </tr>\n    <tr>\n      <th>1294</th>\n      <td>Multifamily MR (5-9)</td>\n      <td>Mid-Rise Multifamily</td>\n      <td>east</td>\n      <td>1.79</td>\n      <td>10.41</td>\n      <td>0.00</td>\n      <td>9.42</td>\n      <td>0.00</td>\n    </tr>\n    <tr>\n      <th>860</th>\n      <td>Multifamily MR (5-9)</td>\n      <td>Mid-Rise Multifamily</td>\n      <td>magnolia / queen anne</td>\n      <td>1.79</td>\n      <td>10.45</td>\n      <td>0.00</td>\n      <td>0.00</td>\n      <td>0.00</td>\n    </tr>\n  </tbody>\n</table>\n<p>2191 rows × 8 columns</p>\n</div>"
     },
     "metadata": {},
     "output_type": "display_data"
    },
    {
     "name": "stdout",
     "output_type": "stream",
     "text": [
      "After\n"
     ]
    },
    {
     "data": {
      "text/plain": "              BuildingType          PrimaryPropertyType  \\\n2091        NonResidential                        Hotel   \n2071        NonResidential                        Hotel   \n964     Nonresidential COS                        Other   \n2218        NonResidential  Small- and Mid-Sized Office   \n2737  Multifamily LR (1-4)         Low-Rise Multifamily   \n...                    ...                          ...   \n3092        NonResidential  Small- and Mid-Sized Office   \n1095  Multifamily MR (5-9)         Mid-Rise Multifamily   \n1130  Multifamily MR (5-9)         Mid-Rise Multifamily   \n1294  Multifamily MR (5-9)         Mid-Rise Multifamily   \n860   Multifamily MR (5-9)         Mid-Rise Multifamily   \n\n               Neighborhood  Log-NumberofFloors  Log-PropertyGFATotal  \\\n2091               downtown                1.65                  0.61   \n2071               downtown                2.63                  0.69   \n964               northeast               -0.28                 -0.81   \n2218             lake union                0.94                  0.63   \n2737  magnolia / queen anne               -0.28                 -0.62   \n...                     ...                 ...                   ...   \n3092  magnolia / queen anne               -0.28                 -0.38   \n1095              northeast                0.94                  0.35   \n1130                ballard                1.15                  2.46   \n1294                   east                0.44                 -0.60   \n860   magnolia / queen anne                0.44                 -0.56   \n\n      Log-PropertyGFAParking  Log-SecondLargestPropertyUseTypeGFA  \\\n2091                    2.31                                 1.16   \n2071                    2.06                                 0.97   \n964                    -0.42                                -0.94   \n2218                   -0.42                                 1.21   \n2737                   -0.42                                -0.94   \n...                      ...                                  ...   \n3092                   -0.42                                -0.94   \n1095                   -0.42                                -0.94   \n1130                   -0.42                                 1.57   \n1294                   -0.42                                 1.01   \n860                    -0.42                                -0.94   \n\n      Log-ThirdLargestPropertyUseTypeGFA  \n2091                               -0.44  \n2071                                2.17  \n964                                -0.44  \n2218                               -0.44  \n2737                               -0.44  \n...                                  ...  \n3092                               -0.44  \n1095                               -0.44  \n1130                                2.53  \n1294                               -0.44  \n860                                -0.44  \n\n[2191 rows x 8 columns]",
      "text/html": "<div>\n<style scoped>\n    .dataframe tbody tr th:only-of-type {\n        vertical-align: middle;\n    }\n\n    .dataframe tbody tr th {\n        vertical-align: top;\n    }\n\n    .dataframe thead th {\n        text-align: right;\n    }\n</style>\n<table border=\"1\" class=\"dataframe\">\n  <thead>\n    <tr style=\"text-align: right;\">\n      <th></th>\n      <th>BuildingType</th>\n      <th>PrimaryPropertyType</th>\n      <th>Neighborhood</th>\n      <th>Log-NumberofFloors</th>\n      <th>Log-PropertyGFATotal</th>\n      <th>Log-PropertyGFAParking</th>\n      <th>Log-SecondLargestPropertyUseTypeGFA</th>\n      <th>Log-ThirdLargestPropertyUseTypeGFA</th>\n    </tr>\n  </thead>\n  <tbody>\n    <tr>\n      <th>2091</th>\n      <td>NonResidential</td>\n      <td>Hotel</td>\n      <td>downtown</td>\n      <td>1.65</td>\n      <td>0.61</td>\n      <td>2.31</td>\n      <td>1.16</td>\n      <td>-0.44</td>\n    </tr>\n    <tr>\n      <th>2071</th>\n      <td>NonResidential</td>\n      <td>Hotel</td>\n      <td>downtown</td>\n      <td>2.63</td>\n      <td>0.69</td>\n      <td>2.06</td>\n      <td>0.97</td>\n      <td>2.17</td>\n    </tr>\n    <tr>\n      <th>964</th>\n      <td>Nonresidential COS</td>\n      <td>Other</td>\n      <td>northeast</td>\n      <td>-0.28</td>\n      <td>-0.81</td>\n      <td>-0.42</td>\n      <td>-0.94</td>\n      <td>-0.44</td>\n    </tr>\n    <tr>\n      <th>2218</th>\n      <td>NonResidential</td>\n      <td>Small- and Mid-Sized Office</td>\n      <td>lake union</td>\n      <td>0.94</td>\n      <td>0.63</td>\n      <td>-0.42</td>\n      <td>1.21</td>\n      <td>-0.44</td>\n    </tr>\n    <tr>\n      <th>2737</th>\n      <td>Multifamily LR (1-4)</td>\n      <td>Low-Rise Multifamily</td>\n      <td>magnolia / queen anne</td>\n      <td>-0.28</td>\n      <td>-0.62</td>\n      <td>-0.42</td>\n      <td>-0.94</td>\n      <td>-0.44</td>\n    </tr>\n    <tr>\n      <th>...</th>\n      <td>...</td>\n      <td>...</td>\n      <td>...</td>\n      <td>...</td>\n      <td>...</td>\n      <td>...</td>\n      <td>...</td>\n      <td>...</td>\n    </tr>\n    <tr>\n      <th>3092</th>\n      <td>NonResidential</td>\n      <td>Small- and Mid-Sized Office</td>\n      <td>magnolia / queen anne</td>\n      <td>-0.28</td>\n      <td>-0.38</td>\n      <td>-0.42</td>\n      <td>-0.94</td>\n      <td>-0.44</td>\n    </tr>\n    <tr>\n      <th>1095</th>\n      <td>Multifamily MR (5-9)</td>\n      <td>Mid-Rise Multifamily</td>\n      <td>northeast</td>\n      <td>0.94</td>\n      <td>0.35</td>\n      <td>-0.42</td>\n      <td>-0.94</td>\n      <td>-0.44</td>\n    </tr>\n    <tr>\n      <th>1130</th>\n      <td>Multifamily MR (5-9)</td>\n      <td>Mid-Rise Multifamily</td>\n      <td>ballard</td>\n      <td>1.15</td>\n      <td>2.46</td>\n      <td>-0.42</td>\n      <td>1.57</td>\n      <td>2.53</td>\n    </tr>\n    <tr>\n      <th>1294</th>\n      <td>Multifamily MR (5-9)</td>\n      <td>Mid-Rise Multifamily</td>\n      <td>east</td>\n      <td>0.44</td>\n      <td>-0.60</td>\n      <td>-0.42</td>\n      <td>1.01</td>\n      <td>-0.44</td>\n    </tr>\n    <tr>\n      <th>860</th>\n      <td>Multifamily MR (5-9)</td>\n      <td>Mid-Rise Multifamily</td>\n      <td>magnolia / queen anne</td>\n      <td>0.44</td>\n      <td>-0.56</td>\n      <td>-0.42</td>\n      <td>-0.94</td>\n      <td>-0.44</td>\n    </tr>\n  </tbody>\n</table>\n<p>2191 rows × 8 columns</p>\n</div>"
     },
     "metadata": {},
     "output_type": "display_data"
    }
   ],
   "source": [
    "# We train / fit the scaler on the training set / Computes the mean and std to be used for later scaling.\n",
    "std_scale = StandardScaler().fit(X_train[numerical_columns])\n",
    "# We transform the training set and the testing set / Performs standardization by centering and scaling.\n",
    "X_train_std = X_train.copy()\n",
    "X_test_std = X_test.copy()\n",
    "\n",
    "X_train_std[numerical_columns] = std_scale.transform(X_train[numerical_columns])\n",
    "X_test_std[numerical_columns] = std_scale.transform(X_test[numerical_columns])\n",
    "\n",
    "print(\"Before\")\n",
    "display(X_train)\n",
    "print(\"After\")\n",
    "display(X_train_std)"
   ],
   "metadata": {
    "collapsed": false,
    "pycharm": {
     "name": "#%%\n"
    }
   }
  },
  {
   "cell_type": "code",
   "execution_count": 87,
   "outputs": [
    {
     "name": "stdout",
     "output_type": "stream",
     "text": [
      "We can check that the numerical variables have a Standard Normal distribution.\n"
     ]
    },
    {
     "name": "stderr",
     "output_type": "stream",
     "text": [
      "C:\\Users\\athen\\Anaconda3\\envs\\P4_OC\\lib\\site-packages\\seaborn\\distributions.py:2619: FutureWarning: `distplot` is a deprecated function and will be removed in a future version. Please adapt your code to use either `displot` (a figure-level function with similar flexibility) or `kdeplot` (an axes-level function for kernel density plots).\n",
      "  warnings.warn(msg, FutureWarning)\n",
      "C:\\Users\\athen\\Anaconda3\\envs\\P4_OC\\lib\\site-packages\\seaborn\\distributions.py:2619: FutureWarning: `distplot` is a deprecated function and will be removed in a future version. Please adapt your code to use either `displot` (a figure-level function with similar flexibility) or `kdeplot` (an axes-level function for kernel density plots).\n",
      "  warnings.warn(msg, FutureWarning)\n",
      "C:\\Users\\athen\\Anaconda3\\envs\\P4_OC\\lib\\site-packages\\seaborn\\distributions.py:2619: FutureWarning: `distplot` is a deprecated function and will be removed in a future version. Please adapt your code to use either `displot` (a figure-level function with similar flexibility) or `kdeplot` (an axes-level function for kernel density plots).\n",
      "  warnings.warn(msg, FutureWarning)\n",
      "C:\\Users\\athen\\Anaconda3\\envs\\P4_OC\\lib\\site-packages\\seaborn\\distributions.py:2619: FutureWarning: `distplot` is a deprecated function and will be removed in a future version. Please adapt your code to use either `displot` (a figure-level function with similar flexibility) or `kdeplot` (an axes-level function for kernel density plots).\n",
      "  warnings.warn(msg, FutureWarning)\n",
      "C:\\Users\\athen\\Anaconda3\\envs\\P4_OC\\lib\\site-packages\\seaborn\\distributions.py:2619: FutureWarning: `distplot` is a deprecated function and will be removed in a future version. Please adapt your code to use either `displot` (a figure-level function with similar flexibility) or `kdeplot` (an axes-level function for kernel density plots).\n",
      "  warnings.warn(msg, FutureWarning)\n"
     ]
    },
    {
     "data": {
      "text/plain": "<Figure size 864x1008 with 28 Axes>",
      "image/png": "[encoded data removed]"
     },
     "metadata": {
      "needs_background": "light"
     },
     "output_type": "display_data"
    }
   ],
   "source": [
    "print(\"We can check that the numerical variables have a Standard Normal distribution.\")\n",
    "densite(X_train[numerical_columns])"
   ],
   "metadata": {
    "collapsed": false,
    "pycharm": {
     "name": "#%%\n"
    }
   }
  },
  {
   "cell_type": "markdown",
   "source": [
    "##### 2) Feature Encoding : One Hot Encoder"
   ],
   "metadata": {
    "collapsed": false,
    "pycharm": {
     "name": "#%% md\n"
    }
   }
  },
  {
   "cell_type": "code",
   "execution_count": 88,
   "outputs": [
    {
     "name": "stdout",
     "output_type": "stream",
     "text": [
      "Categorical variables featuring\n",
      "We have : 3 categorical features to encode.\n",
      "\n",
      "Index(['BuildingType', 'PrimaryPropertyType', 'Neighborhood'], dtype='object')\n"
     ]
    }
   ],
   "source": [
    "print(\"Categorical variables featuring\")\n",
    "\n",
    "print(\"We have :\", categorical_columns.shape[0], \"categorical features to encode.\", end=\"\\n\\n\")\n",
    "print(categorical_columns)"
   ],
   "metadata": {
    "collapsed": false,
    "pycharm": {
     "name": "#%%\n"
    }
   }
  },
  {
   "cell_type": "code",
   "execution_count": 89,
   "outputs": [
    {
     "data": {
      "text/plain": "BuildingType                           category\nPrimaryPropertyType                    category\nNeighborhood                           category\nLog-NumberofFloors                      float64\nLog-PropertyGFATotal                    float64\nLog-PropertyGFAParking                  float64\nLog-SecondLargestPropertyUseTypeGFA     float64\nLog-ThirdLargestPropertyUseTypeGFA      float64\ndtype: object"
     },
     "execution_count": 89,
     "metadata": {},
     "output_type": "execute_result"
    }
   ],
   "source": [
    "X.dtypes # we check that we have categories"
   ],
   "metadata": {
    "collapsed": false,
    "pycharm": {
     "name": "#%%\n"
    }
   }
  },
  {
   "cell_type": "code",
   "execution_count": 90,
   "outputs": [
    {
     "data": {
      "text/plain": "BuildingType            8\nPrimaryPropertyType    23\nNeighborhood           13\ndtype: int64"
     },
     "execution_count": 90,
     "metadata": {},
     "output_type": "execute_result"
    }
   ],
   "source": [
    "X[categorical_columns].nunique()"
   ],
   "metadata": {
    "collapsed": false,
    "pycharm": {
     "name": "#%%\n"
    }
   }
  },
  {
   "cell_type": "code",
   "execution_count": 91,
   "outputs": [
    {
     "data": {
      "text/plain": "              BuildingType          PrimaryPropertyType           Neighborhood\n2091        NonResidential                        Hotel               downtown\n2071        NonResidential                        Hotel               downtown\n964     Nonresidential COS                        Other              northeast\n2218        NonResidential  Small- and Mid-Sized Office             lake union\n2737  Multifamily LR (1-4)         Low-Rise Multifamily  magnolia / queen anne\n...                    ...                          ...                    ...\n3092        NonResidential  Small- and Mid-Sized Office  magnolia / queen anne\n1095  Multifamily MR (5-9)         Mid-Rise Multifamily              northeast\n1130  Multifamily MR (5-9)         Mid-Rise Multifamily                ballard\n1294  Multifamily MR (5-9)         Mid-Rise Multifamily                   east\n860   Multifamily MR (5-9)         Mid-Rise Multifamily  magnolia / queen anne\n\n[2191 rows x 3 columns]",
      "text/html": "<div>\n<style scoped>\n    .dataframe tbody tr th:only-of-type {\n        vertical-align: middle;\n    }\n\n    .dataframe tbody tr th {\n        vertical-align: top;\n    }\n\n    .dataframe thead th {\n        text-align: right;\n    }\n</style>\n<table border=\"1\" class=\"dataframe\">\n  <thead>\n    <tr style=\"text-align: right;\">\n      <th></th>\n      <th>BuildingType</th>\n      <th>PrimaryPropertyType</th>\n      <th>Neighborhood</th>\n    </tr>\n  </thead>\n  <tbody>\n    <tr>\n      <th>2091</th>\n      <td>NonResidential</td>\n      <td>Hotel</td>\n      <td>downtown</td>\n    </tr>\n    <tr>\n      <th>2071</th>\n      <td>NonResidential</td>\n      <td>Hotel</td>\n      <td>downtown</td>\n    </tr>\n    <tr>\n      <th>964</th>\n      <td>Nonresidential COS</td>\n      <td>Other</td>\n      <td>northeast</td>\n    </tr>\n    <tr>\n      <th>2218</th>\n      <td>NonResidential</td>\n      <td>Small- and Mid-Sized Office</td>\n      <td>lake union</td>\n    </tr>\n    <tr>\n      <th>2737</th>\n      <td>Multifamily LR (1-4)</td>\n      <td>Low-Rise Multifamily</td>\n      <td>magnolia / queen anne</td>\n    </tr>\n    <tr>\n      <th>...</th>\n      <td>...</td>\n      <td>...</td>\n      <td>...</td>\n    </tr>\n    <tr>\n      <th>3092</th>\n      <td>NonResidential</td>\n      <td>Small- and Mid-Sized Office</td>\n      <td>magnolia / queen anne</td>\n    </tr>\n    <tr>\n      <th>1095</th>\n      <td>Multifamily MR (5-9)</td>\n      <td>Mid-Rise Multifamily</td>\n      <td>northeast</td>\n    </tr>\n    <tr>\n      <th>1130</th>\n      <td>Multifamily MR (5-9)</td>\n      <td>Mid-Rise Multifamily</td>\n      <td>ballard</td>\n    </tr>\n    <tr>\n      <th>1294</th>\n      <td>Multifamily MR (5-9)</td>\n      <td>Mid-Rise Multifamily</td>\n      <td>east</td>\n    </tr>\n    <tr>\n      <th>860</th>\n      <td>Multifamily MR (5-9)</td>\n      <td>Mid-Rise Multifamily</td>\n      <td>magnolia / queen anne</td>\n    </tr>\n  </tbody>\n</table>\n<p>2191 rows × 3 columns</p>\n</div>"
     },
     "execution_count": 91,
     "metadata": {},
     "output_type": "execute_result"
    }
   ],
   "source": [
    "X_train_std[categorical_columns]"
   ],
   "metadata": {
    "collapsed": false,
    "pycharm": {
     "name": "#%%\n"
    }
   }
  },
  {
   "cell_type": "markdown",
   "source": [
    "##### Encoding the categorical features of the train set\n"
   ],
   "metadata": {
    "collapsed": false,
    "pycharm": {
     "name": "#%% md\n"
    }
   }
  },
  {
   "cell_type": "code",
   "execution_count": 92,
   "outputs": [
    {
     "name": "stdout",
     "output_type": "stream",
     "text": [
      "Now, we can use the One Hot Encoder.\n",
      "With the one hot encoder, we will get : 44 columns to encodes the categorical features.\n"
     ]
    }
   ],
   "source": [
    "print(\"Now, we can use the One Hot Encoder.\")\n",
    "print(\"With the one hot encoder, we will get :\", sum([X[categorical_columns].nunique()[i] for i in range(len(categorical_columns))]), \"columns to encodes the categorical features.\")"
   ],
   "metadata": {
    "collapsed": false,
    "pycharm": {
     "name": "#%%\n"
    }
   }
  },
  {
   "cell_type": "code",
   "execution_count": 93,
   "outputs": [
    {
     "name": "stdout",
     "output_type": "stream",
     "text": [
      "We have indeed : 44 labels after encoding the categorical variables.\n"
     ]
    },
    {
     "data": {
      "text/plain": "      BuildingType_Campus  BuildingType_Multifamily HR (10+)  \\\n1                    0.00                               0.00   \n2                    0.00                               0.00   \n3                    0.00                               1.00   \n4                    0.00                               0.00   \n5                    0.00                               0.00   \n...                   ...                                ...   \n3124                 0.00                               0.00   \n3125                 0.00                               0.00   \n3126                 0.00                               0.00   \n3128                 0.00                               0.00   \n3129                 0.00                               0.00   \n\n      BuildingType_Multifamily LR (1-4)  BuildingType_Multifamily MR (5-9)  \\\n1                                  0.00                               0.00   \n2                                  1.00                               0.00   \n3                                  0.00                               0.00   \n4                                  1.00                               0.00   \n5                                  0.00                               0.00   \n...                                 ...                                ...   \n3124                               0.00                               1.00   \n3125                               0.00                               0.00   \n3126                               0.00                               0.00   \n3128                               0.00                               0.00   \n3129                               0.00                               0.00   \n\n      BuildingType_NonResidential  BuildingType_Nonresidential COS  \\\n1                            1.00                             0.00   \n2                            0.00                             0.00   \n3                            0.00                             0.00   \n4                            0.00                             0.00   \n5                            1.00                             0.00   \n...                           ...                              ...   \n3124                         0.00                             0.00   \n3125                         1.00                             0.00   \n3126                         1.00                             0.00   \n3128                         1.00                             0.00   \n3129                         1.00                             0.00   \n\n      BuildingType_Nonresidential WA  BuildingType_SPS-District K-12  \\\n1                               0.00                            0.00   \n2                               0.00                            0.00   \n3                               0.00                            0.00   \n4                               0.00                            0.00   \n5                               0.00                            0.00   \n...                              ...                             ...   \n3124                            0.00                            0.00   \n3125                            0.00                            0.00   \n3126                            0.00                            0.00   \n3128                            0.00                            0.00   \n3129                            0.00                            0.00   \n\n      PrimaryPropertyType_Distribution Center  \\\n1                                        0.00   \n2                                        0.00   \n3                                        0.00   \n4                                        0.00   \n5                                        0.00   \n...                                       ...   \n3124                                     0.00   \n3125                                     0.00   \n3126                                     0.00   \n3128                                     0.00   \n3129                                     0.00   \n\n      PrimaryPropertyType_High-Rise Multifamily  ...  Neighborhood_downtown  \\\n1                                          0.00  ...                   0.00   \n2                                          0.00  ...                   0.00   \n3                                          1.00  ...                   0.00   \n4                                          0.00  ...                   0.00   \n5                                          0.00  ...                   0.00   \n...                                         ...  ...                    ...   \n3124                                       0.00  ...                   0.00   \n3125                                       0.00  ...                   0.00   \n3126                                       0.00  ...                   0.00   \n3128                                       0.00  ...                   0.00   \n3129                                       0.00  ...                   0.00   \n\n      Neighborhood_east  Neighborhood_greater duwamish  \\\n1                  0.00                           1.00   \n2                  0.00                           1.00   \n3                  0.00                           1.00   \n4                  0.00                           1.00   \n5                  0.00                           0.00   \n...                 ...                            ...   \n3124               1.00                           0.00   \n3125               0.00                           0.00   \n3126               0.00                           0.00   \n3128               0.00                           0.00   \n3129               0.00                           0.00   \n\n      Neighborhood_lake union  Neighborhood_magnolia / queen anne  \\\n1                        0.00                                0.00   \n2                        0.00                                0.00   \n3                        0.00                                0.00   \n4                        0.00                                0.00   \n5                        0.00                                0.00   \n...                       ...                                 ...   \n3124                     0.00                                0.00   \n3125                     1.00                                0.00   \n3126                     1.00                                0.00   \n3128                     1.00                                0.00   \n3129                     1.00                                0.00   \n\n      Neighborhood_north  Neighborhood_northeast  Neighborhood_northwest  \\\n1                   0.00                    0.00                    0.00   \n2                   0.00                    0.00                    0.00   \n3                   0.00                    0.00                    0.00   \n4                   0.00                    0.00                    0.00   \n5                   0.00                    1.00                    0.00   \n...                  ...                     ...                     ...   \n3124                0.00                    0.00                    0.00   \n3125                0.00                    0.00                    0.00   \n3126                0.00                    0.00                    0.00   \n3128                0.00                    0.00                    0.00   \n3129                0.00                    0.00                    0.00   \n\n      Neighborhood_southeast  Neighborhood_southwest  \n1                       0.00                    0.00  \n2                       0.00                    0.00  \n3                       0.00                    0.00  \n4                       0.00                    0.00  \n5                       0.00                    0.00  \n...                      ...                     ...  \n3124                    0.00                    0.00  \n3125                    0.00                    0.00  \n3126                    0.00                    0.00  \n3128                    0.00                    0.00  \n3129                    0.00                    0.00  \n\n[2191 rows x 44 columns]",
      "text/html": "<div>\n<style scoped>\n    .dataframe tbody tr th:only-of-type {\n        vertical-align: middle;\n    }\n\n    .dataframe tbody tr th {\n        vertical-align: top;\n    }\n\n    .dataframe thead th {\n        text-align: right;\n    }\n</style>\n<table border=\"1\" class=\"dataframe\">\n  <thead>\n    <tr style=\"text-align: right;\">\n      <th></th>\n      <th>BuildingType_Campus</th>\n      <th>BuildingType_Multifamily HR (10+)</th>\n      <th>BuildingType_Multifamily LR (1-4)</th>\n      <th>BuildingType_Multifamily MR (5-9)</th>\n      <th>BuildingType_NonResidential</th>\n      <th>BuildingType_Nonresidential COS</th>\n      <th>BuildingType_Nonresidential WA</th>\n      <th>BuildingType_SPS-District K-12</th>\n      <th>PrimaryPropertyType_Distribution Center</th>\n      <th>PrimaryPropertyType_High-Rise Multifamily</th>\n      <th>...</th>\n      <th>Neighborhood_downtown</th>\n      <th>Neighborhood_east</th>\n      <th>Neighborhood_greater duwamish</th>\n      <th>Neighborhood_lake union</th>\n      <th>Neighborhood_magnolia / queen anne</th>\n      <th>Neighborhood_north</th>\n      <th>Neighborhood_northeast</th>\n      <th>Neighborhood_northwest</th>\n      <th>Neighborhood_southeast</th>\n      <th>Neighborhood_southwest</th>\n    </tr>\n  </thead>\n  <tbody>\n    <tr>\n      <th>1</th>\n      <td>0.00</td>\n      <td>0.00</td>\n      <td>0.00</td>\n      <td>0.00</td>\n      <td>1.00</td>\n      <td>0.00</td>\n      <td>0.00</td>\n      <td>0.00</td>\n      <td>0.00</td>\n      <td>0.00</td>\n      <td>...</td>\n      <td>0.00</td>\n      <td>0.00</td>\n      <td>1.00</td>\n      <td>0.00</td>\n      <td>0.00</td>\n      <td>0.00</td>\n      <td>0.00</td>\n      <td>0.00</td>\n      <td>0.00</td>\n      <td>0.00</td>\n    </tr>\n    <tr>\n      <th>2</th>\n      <td>0.00</td>\n      <td>0.00</td>\n      <td>1.00</td>\n      <td>0.00</td>\n      <td>0.00</td>\n      <td>0.00</td>\n      <td>0.00</td>\n      <td>0.00</td>\n      <td>0.00</td>\n      <td>0.00</td>\n      <td>...</td>\n      <td>0.00</td>\n      <td>0.00</td>\n      <td>1.00</td>\n      <td>0.00</td>\n      <td>0.00</td>\n      <td>0.00</td>\n      <td>0.00</td>\n      <td>0.00</td>\n      <td>0.00</td>\n      <td>0.00</td>\n    </tr>\n    <tr>\n      <th>3</th>\n      <td>0.00</td>\n      <td>1.00</td>\n      <td>0.00</td>\n      <td>0.00</td>\n      <td>0.00</td>\n      <td>0.00</td>\n      <td>0.00</td>\n      <td>0.00</td>\n      <td>0.00</td>\n      <td>1.00</td>\n      <td>...</td>\n      <td>0.00</td>\n      <td>0.00</td>\n      <td>1.00</td>\n      <td>0.00</td>\n      <td>0.00</td>\n      <td>0.00</td>\n      <td>0.00</td>\n      <td>0.00</td>\n      <td>0.00</td>\n      <td>0.00</td>\n    </tr>\n    <tr>\n      <th>4</th>\n      <td>0.00</td>\n      <td>0.00</td>\n      <td>1.00</td>\n      <td>0.00</td>\n      <td>0.00</td>\n      <td>0.00</td>\n      <td>0.00</td>\n      <td>0.00</td>\n      <td>0.00</td>\n      <td>0.00</td>\n      <td>...</td>\n      <td>0.00</td>\n      <td>0.00</td>\n      <td>1.00</td>\n      <td>0.00</td>\n      <td>0.00</td>\n      <td>0.00</td>\n      <td>0.00</td>\n      <td>0.00</td>\n      <td>0.00</td>\n      <td>0.00</td>\n    </tr>\n    <tr>\n      <th>5</th>\n      <td>0.00</td>\n      <td>0.00</td>\n      <td>0.00</td>\n      <td>0.00</td>\n      <td>1.00</td>\n      <td>0.00</td>\n      <td>0.00</td>\n      <td>0.00</td>\n      <td>0.00</td>\n      <td>0.00</td>\n      <td>...</td>\n      <td>0.00</td>\n      <td>0.00</td>\n      <td>0.00</td>\n      <td>0.00</td>\n      <td>0.00</td>\n      <td>0.00</td>\n      <td>1.00</td>\n      <td>0.00</td>\n      <td>0.00</td>\n      <td>0.00</td>\n    </tr>\n    <tr>\n      <th>...</th>\n      <td>...</td>\n      <td>...</td>\n      <td>...</td>\n      <td>...</td>\n      <td>...</td>\n      <td>...</td>\n      <td>...</td>\n      <td>...</td>\n      <td>...</td>\n      <td>...</td>\n      <td>...</td>\n      <td>...</td>\n      <td>...</td>\n      <td>...</td>\n      <td>...</td>\n      <td>...</td>\n      <td>...</td>\n      <td>...</td>\n      <td>...</td>\n      <td>...</td>\n      <td>...</td>\n    </tr>\n    <tr>\n      <th>3124</th>\n      <td>0.00</td>\n      <td>0.00</td>\n      <td>0.00</td>\n      <td>1.00</td>\n      <td>0.00</td>\n      <td>0.00</td>\n      <td>0.00</td>\n      <td>0.00</td>\n      <td>0.00</td>\n      <td>0.00</td>\n      <td>...</td>\n      <td>0.00</td>\n      <td>1.00</td>\n      <td>0.00</td>\n      <td>0.00</td>\n      <td>0.00</td>\n      <td>0.00</td>\n      <td>0.00</td>\n      <td>0.00</td>\n      <td>0.00</td>\n      <td>0.00</td>\n    </tr>\n    <tr>\n      <th>3125</th>\n      <td>0.00</td>\n      <td>0.00</td>\n      <td>0.00</td>\n      <td>0.00</td>\n      <td>1.00</td>\n      <td>0.00</td>\n      <td>0.00</td>\n      <td>0.00</td>\n      <td>0.00</td>\n      <td>0.00</td>\n      <td>...</td>\n      <td>0.00</td>\n      <td>0.00</td>\n      <td>0.00</td>\n      <td>1.00</td>\n      <td>0.00</td>\n      <td>0.00</td>\n      <td>0.00</td>\n      <td>0.00</td>\n      <td>0.00</td>\n      <td>0.00</td>\n    </tr>\n    <tr>\n      <th>3126</th>\n      <td>0.00</td>\n      <td>0.00</td>\n      <td>0.00</td>\n      <td>0.00</td>\n      <td>1.00</td>\n      <td>0.00</td>\n      <td>0.00</td>\n      <td>0.00</td>\n      <td>0.00</td>\n      <td>0.00</td>\n      <td>...</td>\n      <td>0.00</td>\n      <td>0.00</td>\n      <td>0.00</td>\n      <td>1.00</td>\n      <td>0.00</td>\n      <td>0.00</td>\n      <td>0.00</td>\n      <td>0.00</td>\n      <td>0.00</td>\n      <td>0.00</td>\n    </tr>\n    <tr>\n      <th>3128</th>\n      <td>0.00</td>\n      <td>0.00</td>\n      <td>0.00</td>\n      <td>0.00</td>\n      <td>1.00</td>\n      <td>0.00</td>\n      <td>0.00</td>\n      <td>0.00</td>\n      <td>0.00</td>\n      <td>0.00</td>\n      <td>...</td>\n      <td>0.00</td>\n      <td>0.00</td>\n      <td>0.00</td>\n      <td>1.00</td>\n      <td>0.00</td>\n      <td>0.00</td>\n      <td>0.00</td>\n      <td>0.00</td>\n      <td>0.00</td>\n      <td>0.00</td>\n    </tr>\n    <tr>\n      <th>3129</th>\n      <td>0.00</td>\n      <td>0.00</td>\n      <td>0.00</td>\n      <td>0.00</td>\n      <td>1.00</td>\n      <td>0.00</td>\n      <td>0.00</td>\n      <td>0.00</td>\n      <td>0.00</td>\n      <td>0.00</td>\n      <td>...</td>\n      <td>0.00</td>\n      <td>0.00</td>\n      <td>0.00</td>\n      <td>1.00</td>\n      <td>0.00</td>\n      <td>0.00</td>\n      <td>0.00</td>\n      <td>0.00</td>\n      <td>0.00</td>\n      <td>0.00</td>\n    </tr>\n  </tbody>\n</table>\n<p>2191 rows × 44 columns</p>\n</div>"
     },
     "metadata": {},
     "output_type": "display_data"
    }
   ],
   "source": [
    "# 0) creating instance of one-hot-encoder\n",
    "one_hot_encoder = OneHotEncoder(handle_unknown='ignore', sparse=False) # if sparse=True (by default), we need to add .toarray() to encoded_categorical_data\n",
    "\n",
    "# 1) Fit the encoder on the training set\n",
    "one_hot_encoder.fit(X_train_std[categorical_columns])\n",
    "\n",
    "# 2) we get the encoded numpy array\n",
    "encoded_categorical_data = one_hot_encoder.transform(X_train_std[categorical_columns])\n",
    "\n",
    "# 3) we make a list of the columns names\n",
    "encoded_categorical_data_names = one_hot_encoder.get_feature_names_out().tolist()\n",
    "print(\"We have indeed :\", len(encoded_categorical_data_names), \"labels after encoding the categorical variables.\")\n",
    "\n",
    "# 4) we recreate a dataframe with the column names and the numpy array\n",
    "X_train_encoded = pd.DataFrame(columns=encoded_categorical_data_names,\n",
    "                               data=encoded_categorical_data,\n",
    "                               index=X_train_std.index)\n",
    "display(X_train_encoded.sort_index())"
   ],
   "metadata": {
    "collapsed": false,
    "pycharm": {
     "name": "#%%\n"
    }
   }
  },
  {
   "cell_type": "code",
   "execution_count": 94,
   "outputs": [
    {
     "name": "stdout",
     "output_type": "stream",
     "text": [
      "We need to add YearBuilt to the list of features.\n",
      "['Log-NumberofFloors', 'Log-PropertyGFATotal', 'Log-PropertyGFAParking', 'Log-SecondLargestPropertyUseTypeGFA', 'Log-ThirdLargestPropertyUseTypeGFA']\n",
      "\n",
      "ASK JEREMY : merge based on index ok ? or should I put back OSEBuildingID ??\n"
     ]
    },
    {
     "data": {
      "text/plain": "      Log-NumberofFloors  Log-PropertyGFATotal  Log-PropertyGFAParking  \\\n1                  -0.78                 -0.90                   -0.42   \n2                  -0.28                 -0.94                   -0.42   \n3                   2.16                  0.34                   -0.42   \n4                  -0.28                 -0.50                    1.96   \n5                   0.12                 -0.42                   -0.42   \n...                  ...                   ...                     ...   \n3124                0.44                 -0.06                   -0.42   \n3125               -0.78                 -0.58                   -0.42   \n3126               -0.28                 -0.33                    2.04   \n3128                0.44                 -0.59                    1.92   \n3129               -0.78                 -1.18                   -0.42   \n\n      Log-SecondLargestPropertyUseTypeGFA  Log-ThirdLargestPropertyUseTypeGFA  \\\n1                                    0.94                                2.02   \n2                                   -0.94                               -0.44   \n3                                   -0.94                               -0.44   \n4                                    0.79                               -0.44   \n5                                   -0.94                               -0.44   \n...                                   ...                                 ...   \n3124                                -0.94                               -0.44   \n3125                                 1.03                                1.79   \n3126                                 1.04                                2.37   \n3128                                 0.94                                1.80   \n3129                                 0.92                               -0.44   \n\n      BuildingType_Campus  BuildingType_Multifamily HR (10+)  \\\n1                    0.00                               0.00   \n2                    0.00                               0.00   \n3                    0.00                               1.00   \n4                    0.00                               0.00   \n5                    0.00                               0.00   \n...                   ...                                ...   \n3124                 0.00                               0.00   \n3125                 0.00                               0.00   \n3126                 0.00                               0.00   \n3128                 0.00                               0.00   \n3129                 0.00                               0.00   \n\n      BuildingType_Multifamily LR (1-4)  BuildingType_Multifamily MR (5-9)  \\\n1                                  0.00                               0.00   \n2                                  1.00                               0.00   \n3                                  0.00                               0.00   \n4                                  1.00                               0.00   \n5                                  0.00                               0.00   \n...                                 ...                                ...   \n3124                               0.00                               1.00   \n3125                               0.00                               0.00   \n3126                               0.00                               0.00   \n3128                               0.00                               0.00   \n3129                               0.00                               0.00   \n\n      BuildingType_NonResidential  ...  Neighborhood_downtown  \\\n1                            1.00  ...                   0.00   \n2                            0.00  ...                   0.00   \n3                            0.00  ...                   0.00   \n4                            0.00  ...                   0.00   \n5                            1.00  ...                   0.00   \n...                           ...  ...                    ...   \n3124                         0.00  ...                   0.00   \n3125                         1.00  ...                   0.00   \n3126                         1.00  ...                   0.00   \n3128                         1.00  ...                   0.00   \n3129                         1.00  ...                   0.00   \n\n      Neighborhood_east  Neighborhood_greater duwamish  \\\n1                  0.00                           1.00   \n2                  0.00                           1.00   \n3                  0.00                           1.00   \n4                  0.00                           1.00   \n5                  0.00                           0.00   \n...                 ...                            ...   \n3124               1.00                           0.00   \n3125               0.00                           0.00   \n3126               0.00                           0.00   \n3128               0.00                           0.00   \n3129               0.00                           0.00   \n\n      Neighborhood_lake union  Neighborhood_magnolia / queen anne  \\\n1                        0.00                                0.00   \n2                        0.00                                0.00   \n3                        0.00                                0.00   \n4                        0.00                                0.00   \n5                        0.00                                0.00   \n...                       ...                                 ...   \n3124                     0.00                                0.00   \n3125                     1.00                                0.00   \n3126                     1.00                                0.00   \n3128                     1.00                                0.00   \n3129                     1.00                                0.00   \n\n      Neighborhood_north  Neighborhood_northeast  Neighborhood_northwest  \\\n1                   0.00                    0.00                    0.00   \n2                   0.00                    0.00                    0.00   \n3                   0.00                    0.00                    0.00   \n4                   0.00                    0.00                    0.00   \n5                   0.00                    1.00                    0.00   \n...                  ...                     ...                     ...   \n3124                0.00                    0.00                    0.00   \n3125                0.00                    0.00                    0.00   \n3126                0.00                    0.00                    0.00   \n3128                0.00                    0.00                    0.00   \n3129                0.00                    0.00                    0.00   \n\n      Neighborhood_southeast  Neighborhood_southwest  \n1                       0.00                    0.00  \n2                       0.00                    0.00  \n3                       0.00                    0.00  \n4                       0.00                    0.00  \n5                       0.00                    0.00  \n...                      ...                     ...  \n3124                    0.00                    0.00  \n3125                    0.00                    0.00  \n3126                    0.00                    0.00  \n3128                    0.00                    0.00  \n3129                    0.00                    0.00  \n\n[2191 rows x 49 columns]",
      "text/html": "<div>\n<style scoped>\n    .dataframe tbody tr th:only-of-type {\n        vertical-align: middle;\n    }\n\n    .dataframe tbody tr th {\n        vertical-align: top;\n    }\n\n    .dataframe thead th {\n        text-align: right;\n    }\n</style>\n<table border=\"1\" class=\"dataframe\">\n  <thead>\n    <tr style=\"text-align: right;\">\n      <th></th>\n      <th>Log-NumberofFloors</th>\n      <th>Log-PropertyGFATotal</th>\n      <th>Log-PropertyGFAParking</th>\n      <th>Log-SecondLargestPropertyUseTypeGFA</th>\n      <th>Log-ThirdLargestPropertyUseTypeGFA</th>\n      <th>BuildingType_Campus</th>\n      <th>BuildingType_Multifamily HR (10+)</th>\n      <th>BuildingType_Multifamily LR (1-4)</th>\n      <th>BuildingType_Multifamily MR (5-9)</th>\n      <th>BuildingType_NonResidential</th>\n      <th>...</th>\n      <th>Neighborhood_downtown</th>\n      <th>Neighborhood_east</th>\n      <th>Neighborhood_greater duwamish</th>\n      <th>Neighborhood_lake union</th>\n      <th>Neighborhood_magnolia / queen anne</th>\n      <th>Neighborhood_north</th>\n      <th>Neighborhood_northeast</th>\n      <th>Neighborhood_northwest</th>\n      <th>Neighborhood_southeast</th>\n      <th>Neighborhood_southwest</th>\n    </tr>\n  </thead>\n  <tbody>\n    <tr>\n      <th>1</th>\n      <td>-0.78</td>\n      <td>-0.90</td>\n      <td>-0.42</td>\n      <td>0.94</td>\n      <td>2.02</td>\n      <td>0.00</td>\n      <td>0.00</td>\n      <td>0.00</td>\n      <td>0.00</td>\n      <td>1.00</td>\n      <td>...</td>\n      <td>0.00</td>\n      <td>0.00</td>\n      <td>1.00</td>\n      <td>0.00</td>\n      <td>0.00</td>\n      <td>0.00</td>\n      <td>0.00</td>\n      <td>0.00</td>\n      <td>0.00</td>\n      <td>0.00</td>\n    </tr>\n    <tr>\n      <th>2</th>\n      <td>-0.28</td>\n      <td>-0.94</td>\n      <td>-0.42</td>\n      <td>-0.94</td>\n      <td>-0.44</td>\n      <td>0.00</td>\n      <td>0.00</td>\n      <td>1.00</td>\n      <td>0.00</td>\n      <td>0.00</td>\n      <td>...</td>\n      <td>0.00</td>\n      <td>0.00</td>\n      <td>1.00</td>\n      <td>0.00</td>\n      <td>0.00</td>\n      <td>0.00</td>\n      <td>0.00</td>\n      <td>0.00</td>\n      <td>0.00</td>\n      <td>0.00</td>\n    </tr>\n    <tr>\n      <th>3</th>\n      <td>2.16</td>\n      <td>0.34</td>\n      <td>-0.42</td>\n      <td>-0.94</td>\n      <td>-0.44</td>\n      <td>0.00</td>\n      <td>1.00</td>\n      <td>0.00</td>\n      <td>0.00</td>\n      <td>0.00</td>\n      <td>...</td>\n      <td>0.00</td>\n      <td>0.00</td>\n      <td>1.00</td>\n      <td>0.00</td>\n      <td>0.00</td>\n      <td>0.00</td>\n      <td>0.00</td>\n      <td>0.00</td>\n      <td>0.00</td>\n      <td>0.00</td>\n    </tr>\n    <tr>\n      <th>4</th>\n      <td>-0.28</td>\n      <td>-0.50</td>\n      <td>1.96</td>\n      <td>0.79</td>\n      <td>-0.44</td>\n      <td>0.00</td>\n      <td>0.00</td>\n      <td>1.00</td>\n      <td>0.00</td>\n      <td>0.00</td>\n      <td>...</td>\n      <td>0.00</td>\n      <td>0.00</td>\n      <td>1.00</td>\n      <td>0.00</td>\n      <td>0.00</td>\n      <td>0.00</td>\n      <td>0.00</td>\n      <td>0.00</td>\n      <td>0.00</td>\n      <td>0.00</td>\n    </tr>\n    <tr>\n      <th>5</th>\n      <td>0.12</td>\n      <td>-0.42</td>\n      <td>-0.42</td>\n      <td>-0.94</td>\n      <td>-0.44</td>\n      <td>0.00</td>\n      <td>0.00</td>\n      <td>0.00</td>\n      <td>0.00</td>\n      <td>1.00</td>\n      <td>...</td>\n      <td>0.00</td>\n      <td>0.00</td>\n      <td>0.00</td>\n      <td>0.00</td>\n      <td>0.00</td>\n      <td>0.00</td>\n      <td>1.00</td>\n      <td>0.00</td>\n      <td>0.00</td>\n      <td>0.00</td>\n    </tr>\n    <tr>\n      <th>...</th>\n      <td>...</td>\n      <td>...</td>\n      <td>...</td>\n      <td>...</td>\n      <td>...</td>\n      <td>...</td>\n      <td>...</td>\n      <td>...</td>\n      <td>...</td>\n      <td>...</td>\n      <td>...</td>\n      <td>...</td>\n      <td>...</td>\n      <td>...</td>\n      <td>...</td>\n      <td>...</td>\n      <td>...</td>\n      <td>...</td>\n      <td>...</td>\n      <td>...</td>\n      <td>...</td>\n    </tr>\n    <tr>\n      <th>3124</th>\n      <td>0.44</td>\n      <td>-0.06</td>\n      <td>-0.42</td>\n      <td>-0.94</td>\n      <td>-0.44</td>\n      <td>0.00</td>\n      <td>0.00</td>\n      <td>0.00</td>\n      <td>1.00</td>\n      <td>0.00</td>\n      <td>...</td>\n      <td>0.00</td>\n      <td>1.00</td>\n      <td>0.00</td>\n      <td>0.00</td>\n      <td>0.00</td>\n      <td>0.00</td>\n      <td>0.00</td>\n      <td>0.00</td>\n      <td>0.00</td>\n      <td>0.00</td>\n    </tr>\n    <tr>\n      <th>3125</th>\n      <td>-0.78</td>\n      <td>-0.58</td>\n      <td>-0.42</td>\n      <td>1.03</td>\n      <td>1.79</td>\n      <td>0.00</td>\n      <td>0.00</td>\n      <td>0.00</td>\n      <td>0.00</td>\n      <td>1.00</td>\n      <td>...</td>\n      <td>0.00</td>\n      <td>0.00</td>\n      <td>0.00</td>\n      <td>1.00</td>\n      <td>0.00</td>\n      <td>0.00</td>\n      <td>0.00</td>\n      <td>0.00</td>\n      <td>0.00</td>\n      <td>0.00</td>\n    </tr>\n    <tr>\n      <th>3126</th>\n      <td>-0.28</td>\n      <td>-0.33</td>\n      <td>2.04</td>\n      <td>1.04</td>\n      <td>2.37</td>\n      <td>0.00</td>\n      <td>0.00</td>\n      <td>0.00</td>\n      <td>0.00</td>\n      <td>1.00</td>\n      <td>...</td>\n      <td>0.00</td>\n      <td>0.00</td>\n      <td>0.00</td>\n      <td>1.00</td>\n      <td>0.00</td>\n      <td>0.00</td>\n      <td>0.00</td>\n      <td>0.00</td>\n      <td>0.00</td>\n      <td>0.00</td>\n    </tr>\n    <tr>\n      <th>3128</th>\n      <td>0.44</td>\n      <td>-0.59</td>\n      <td>1.92</td>\n      <td>0.94</td>\n      <td>1.80</td>\n      <td>0.00</td>\n      <td>0.00</td>\n      <td>0.00</td>\n      <td>0.00</td>\n      <td>1.00</td>\n      <td>...</td>\n      <td>0.00</td>\n      <td>0.00</td>\n      <td>0.00</td>\n      <td>1.00</td>\n      <td>0.00</td>\n      <td>0.00</td>\n      <td>0.00</td>\n      <td>0.00</td>\n      <td>0.00</td>\n      <td>0.00</td>\n    </tr>\n    <tr>\n      <th>3129</th>\n      <td>-0.78</td>\n      <td>-1.18</td>\n      <td>-0.42</td>\n      <td>0.92</td>\n      <td>-0.44</td>\n      <td>0.00</td>\n      <td>0.00</td>\n      <td>0.00</td>\n      <td>0.00</td>\n      <td>1.00</td>\n      <td>...</td>\n      <td>0.00</td>\n      <td>0.00</td>\n      <td>0.00</td>\n      <td>1.00</td>\n      <td>0.00</td>\n      <td>0.00</td>\n      <td>0.00</td>\n      <td>0.00</td>\n      <td>0.00</td>\n      <td>0.00</td>\n    </tr>\n  </tbody>\n</table>\n<p>2191 rows × 49 columns</p>\n</div>"
     },
     "metadata": {},
     "output_type": "display_data"
    }
   ],
   "source": [
    "# 5) Concatenate the two dataframes for the training set\n",
    "\n",
    "print(\"We need to add YearBuilt to the list of features.\")\n",
    "numerical_columns.tolist()\n",
    "features_to_merge = numerical_columns.tolist().copy()\n",
    "#features_to_merge.append(\"YearBuilt\")\n",
    "print(features_to_merge, end=\"\\n\\n\")\n",
    "\n",
    "print(\"ASK JEREMY : merge based on index ok ? or should I put back OSEBuildingID ??\")\n",
    "X_train_std_encoded = pd.merge(X_train_std[features_to_merge].sort_index(), X_train_encoded.sort_index(), left_index=True, right_index=True)\n",
    "display(X_train_std_encoded.sort_index())"
   ],
   "metadata": {
    "collapsed": false,
    "pycharm": {
     "name": "#%%\n"
    }
   }
  },
  {
   "cell_type": "markdown",
   "source": [
    "##### Encoding the categorical features of the test set"
   ],
   "metadata": {
    "collapsed": false,
    "pycharm": {
     "name": "#%% md\n"
    }
   }
  },
  {
   "cell_type": "code",
   "execution_count": 95,
   "outputs": [
    {
     "name": "stdout",
     "output_type": "stream",
     "text": [
      "ASK JEREMY for this method below ???\n"
     ]
    },
    {
     "data": {
      "text/plain": "      BuildingType_Campus  BuildingType_Multifamily HR (10+)  \\\n0                    0.00                               0.00   \n7                    0.00                               0.00   \n12                   0.00                               0.00   \n14                   0.00                               0.00   \n17                   0.00                               0.00   \n...                   ...                                ...   \n3116                 0.00                               0.00   \n3118                 0.00                               0.00   \n3121                 0.00                               0.00   \n3127                 0.00                               0.00   \n3130                 0.00                               0.00   \n\n      BuildingType_Multifamily LR (1-4)  BuildingType_Multifamily MR (5-9)  \\\n0                                  1.00                               0.00   \n7                                  1.00                               0.00   \n12                                 0.00                               0.00   \n14                                 1.00                               0.00   \n17                                 0.00                               0.00   \n...                                 ...                                ...   \n3116                               0.00                               1.00   \n3118                               0.00                               1.00   \n3121                               0.00                               0.00   \n3127                               1.00                               0.00   \n3130                               0.00                               0.00   \n\n      BuildingType_NonResidential  BuildingType_Nonresidential COS  \\\n0                            0.00                             0.00   \n7                            0.00                             0.00   \n12                           1.00                             0.00   \n14                           0.00                             0.00   \n17                           1.00                             0.00   \n...                           ...                              ...   \n3116                         0.00                             0.00   \n3118                         0.00                             0.00   \n3121                         1.00                             0.00   \n3127                         0.00                             0.00   \n3130                         0.00                             1.00   \n\n      BuildingType_Nonresidential WA  BuildingType_SPS-District K-12  \\\n0                               0.00                            0.00   \n7                               0.00                            0.00   \n12                              0.00                            0.00   \n14                              0.00                            0.00   \n17                              0.00                            0.00   \n...                              ...                             ...   \n3116                            0.00                            0.00   \n3118                            0.00                            0.00   \n3121                            0.00                            0.00   \n3127                            0.00                            0.00   \n3130                            0.00                            0.00   \n\n      PrimaryPropertyType_Distribution Center  \\\n0                                        0.00   \n7                                        0.00   \n12                                       0.00   \n14                                       0.00   \n17                                       0.00   \n...                                       ...   \n3116                                     0.00   \n3118                                     0.00   \n3121                                     0.00   \n3127                                     0.00   \n3130                                     0.00   \n\n      PrimaryPropertyType_High-Rise Multifamily  ...  Neighborhood_downtown  \\\n0                                          0.00  ...                   0.00   \n7                                          0.00  ...                   0.00   \n12                                         0.00  ...                   1.00   \n14                                         0.00  ...                   0.00   \n17                                         0.00  ...                   0.00   \n...                                         ...  ...                    ...   \n3116                                       0.00  ...                   1.00   \n3118                                       0.00  ...                   1.00   \n3121                                       0.00  ...                   0.00   \n3127                                       0.00  ...                   0.00   \n3130                                       0.00  ...                   0.00   \n\n      Neighborhood_east  Neighborhood_greater duwamish  \\\n0                  0.00                           0.00   \n7                  0.00                           0.00   \n12                 0.00                           0.00   \n14                 0.00                           0.00   \n17                 0.00                           0.00   \n...                 ...                            ...   \n3116               0.00                           0.00   \n3118               0.00                           0.00   \n3121               1.00                           0.00   \n3127               0.00                           0.00   \n3130               0.00                           1.00   \n\n      Neighborhood_lake union  Neighborhood_magnolia / queen anne  \\\n0                        0.00                                0.00   \n7                        0.00                                0.00   \n12                       0.00                                0.00   \n14                       0.00                                0.00   \n17                       0.00                                0.00   \n...                       ...                                 ...   \n3116                     0.00                                0.00   \n3118                     0.00                                0.00   \n3121                     0.00                                0.00   \n3127                     1.00                                0.00   \n3130                     0.00                                0.00   \n\n      Neighborhood_north  Neighborhood_northeast  Neighborhood_northwest  \\\n0                   0.00                    0.00                    0.00   \n7                   0.00                    1.00                    0.00   \n12                  0.00                    0.00                    0.00   \n14                  0.00                    0.00                    0.00   \n17                  0.00                    0.00                    0.00   \n...                  ...                     ...                     ...   \n3116                0.00                    0.00                    0.00   \n3118                0.00                    0.00                    0.00   \n3121                0.00                    0.00                    0.00   \n3127                0.00                    0.00                    0.00   \n3130                0.00                    0.00                    0.00   \n\n      Neighborhood_southeast  Neighborhood_southwest  \n0                       0.00                    0.00  \n7                       0.00                    0.00  \n12                      0.00                    0.00  \n14                      0.00                    0.00  \n17                      0.00                    0.00  \n...                      ...                     ...  \n3116                    0.00                    0.00  \n3118                    0.00                    0.00  \n3121                    0.00                    0.00  \n3127                    0.00                    0.00  \n3130                    0.00                    0.00  \n\n[940 rows x 44 columns]",
      "text/html": "<div>\n<style scoped>\n    .dataframe tbody tr th:only-of-type {\n        vertical-align: middle;\n    }\n\n    .dataframe tbody tr th {\n        vertical-align: top;\n    }\n\n    .dataframe thead th {\n        text-align: right;\n    }\n</style>\n<table border=\"1\" class=\"dataframe\">\n  <thead>\n    <tr style=\"text-align: right;\">\n      <th></th>\n      <th>BuildingType_Campus</th>\n      <th>BuildingType_Multifamily HR (10+)</th>\n      <th>BuildingType_Multifamily LR (1-4)</th>\n      <th>BuildingType_Multifamily MR (5-9)</th>\n      <th>BuildingType_NonResidential</th>\n      <th>BuildingType_Nonresidential COS</th>\n      <th>BuildingType_Nonresidential WA</th>\n      <th>BuildingType_SPS-District K-12</th>\n      <th>PrimaryPropertyType_Distribution Center</th>\n      <th>PrimaryPropertyType_High-Rise Multifamily</th>\n      <th>...</th>\n      <th>Neighborhood_downtown</th>\n      <th>Neighborhood_east</th>\n      <th>Neighborhood_greater duwamish</th>\n      <th>Neighborhood_lake union</th>\n      <th>Neighborhood_magnolia / queen anne</th>\n      <th>Neighborhood_north</th>\n      <th>Neighborhood_northeast</th>\n      <th>Neighborhood_northwest</th>\n      <th>Neighborhood_southeast</th>\n      <th>Neighborhood_southwest</th>\n    </tr>\n  </thead>\n  <tbody>\n    <tr>\n      <th>0</th>\n      <td>0.00</td>\n      <td>0.00</td>\n      <td>1.00</td>\n      <td>0.00</td>\n      <td>0.00</td>\n      <td>0.00</td>\n      <td>0.00</td>\n      <td>0.00</td>\n      <td>0.00</td>\n      <td>0.00</td>\n      <td>...</td>\n      <td>0.00</td>\n      <td>0.00</td>\n      <td>0.00</td>\n      <td>0.00</td>\n      <td>0.00</td>\n      <td>0.00</td>\n      <td>0.00</td>\n      <td>0.00</td>\n      <td>0.00</td>\n      <td>0.00</td>\n    </tr>\n    <tr>\n      <th>7</th>\n      <td>0.00</td>\n      <td>0.00</td>\n      <td>1.00</td>\n      <td>0.00</td>\n      <td>0.00</td>\n      <td>0.00</td>\n      <td>0.00</td>\n      <td>0.00</td>\n      <td>0.00</td>\n      <td>0.00</td>\n      <td>...</td>\n      <td>0.00</td>\n      <td>0.00</td>\n      <td>0.00</td>\n      <td>0.00</td>\n      <td>0.00</td>\n      <td>0.00</td>\n      <td>1.00</td>\n      <td>0.00</td>\n      <td>0.00</td>\n      <td>0.00</td>\n    </tr>\n    <tr>\n      <th>12</th>\n      <td>0.00</td>\n      <td>0.00</td>\n      <td>0.00</td>\n      <td>0.00</td>\n      <td>1.00</td>\n      <td>0.00</td>\n      <td>0.00</td>\n      <td>0.00</td>\n      <td>0.00</td>\n      <td>0.00</td>\n      <td>...</td>\n      <td>1.00</td>\n      <td>0.00</td>\n      <td>0.00</td>\n      <td>0.00</td>\n      <td>0.00</td>\n      <td>0.00</td>\n      <td>0.00</td>\n      <td>0.00</td>\n      <td>0.00</td>\n      <td>0.00</td>\n    </tr>\n    <tr>\n      <th>14</th>\n      <td>0.00</td>\n      <td>0.00</td>\n      <td>1.00</td>\n      <td>0.00</td>\n      <td>0.00</td>\n      <td>0.00</td>\n      <td>0.00</td>\n      <td>0.00</td>\n      <td>0.00</td>\n      <td>0.00</td>\n      <td>...</td>\n      <td>0.00</td>\n      <td>0.00</td>\n      <td>0.00</td>\n      <td>0.00</td>\n      <td>0.00</td>\n      <td>0.00</td>\n      <td>0.00</td>\n      <td>0.00</td>\n      <td>0.00</td>\n      <td>0.00</td>\n    </tr>\n    <tr>\n      <th>17</th>\n      <td>0.00</td>\n      <td>0.00</td>\n      <td>0.00</td>\n      <td>0.00</td>\n      <td>1.00</td>\n      <td>0.00</td>\n      <td>0.00</td>\n      <td>0.00</td>\n      <td>0.00</td>\n      <td>0.00</td>\n      <td>...</td>\n      <td>0.00</td>\n      <td>0.00</td>\n      <td>0.00</td>\n      <td>0.00</td>\n      <td>0.00</td>\n      <td>0.00</td>\n      <td>0.00</td>\n      <td>0.00</td>\n      <td>0.00</td>\n      <td>0.00</td>\n    </tr>\n    <tr>\n      <th>...</th>\n      <td>...</td>\n      <td>...</td>\n      <td>...</td>\n      <td>...</td>\n      <td>...</td>\n      <td>...</td>\n      <td>...</td>\n      <td>...</td>\n      <td>...</td>\n      <td>...</td>\n      <td>...</td>\n      <td>...</td>\n      <td>...</td>\n      <td>...</td>\n      <td>...</td>\n      <td>...</td>\n      <td>...</td>\n      <td>...</td>\n      <td>...</td>\n      <td>...</td>\n      <td>...</td>\n    </tr>\n    <tr>\n      <th>3116</th>\n      <td>0.00</td>\n      <td>0.00</td>\n      <td>0.00</td>\n      <td>1.00</td>\n      <td>0.00</td>\n      <td>0.00</td>\n      <td>0.00</td>\n      <td>0.00</td>\n      <td>0.00</td>\n      <td>0.00</td>\n      <td>...</td>\n      <td>1.00</td>\n      <td>0.00</td>\n      <td>0.00</td>\n      <td>0.00</td>\n      <td>0.00</td>\n      <td>0.00</td>\n      <td>0.00</td>\n      <td>0.00</td>\n      <td>0.00</td>\n      <td>0.00</td>\n    </tr>\n    <tr>\n      <th>3118</th>\n      <td>0.00</td>\n      <td>0.00</td>\n      <td>0.00</td>\n      <td>1.00</td>\n      <td>0.00</td>\n      <td>0.00</td>\n      <td>0.00</td>\n      <td>0.00</td>\n      <td>0.00</td>\n      <td>0.00</td>\n      <td>...</td>\n      <td>1.00</td>\n      <td>0.00</td>\n      <td>0.00</td>\n      <td>0.00</td>\n      <td>0.00</td>\n      <td>0.00</td>\n      <td>0.00</td>\n      <td>0.00</td>\n      <td>0.00</td>\n      <td>0.00</td>\n    </tr>\n    <tr>\n      <th>3121</th>\n      <td>0.00</td>\n      <td>0.00</td>\n      <td>0.00</td>\n      <td>0.00</td>\n      <td>1.00</td>\n      <td>0.00</td>\n      <td>0.00</td>\n      <td>0.00</td>\n      <td>0.00</td>\n      <td>0.00</td>\n      <td>...</td>\n      <td>0.00</td>\n      <td>1.00</td>\n      <td>0.00</td>\n      <td>0.00</td>\n      <td>0.00</td>\n      <td>0.00</td>\n      <td>0.00</td>\n      <td>0.00</td>\n      <td>0.00</td>\n      <td>0.00</td>\n    </tr>\n    <tr>\n      <th>3127</th>\n      <td>0.00</td>\n      <td>0.00</td>\n      <td>1.00</td>\n      <td>0.00</td>\n      <td>0.00</td>\n      <td>0.00</td>\n      <td>0.00</td>\n      <td>0.00</td>\n      <td>0.00</td>\n      <td>0.00</td>\n      <td>...</td>\n      <td>0.00</td>\n      <td>0.00</td>\n      <td>0.00</td>\n      <td>1.00</td>\n      <td>0.00</td>\n      <td>0.00</td>\n      <td>0.00</td>\n      <td>0.00</td>\n      <td>0.00</td>\n      <td>0.00</td>\n    </tr>\n    <tr>\n      <th>3130</th>\n      <td>0.00</td>\n      <td>0.00</td>\n      <td>0.00</td>\n      <td>0.00</td>\n      <td>0.00</td>\n      <td>1.00</td>\n      <td>0.00</td>\n      <td>0.00</td>\n      <td>0.00</td>\n      <td>0.00</td>\n      <td>...</td>\n      <td>0.00</td>\n      <td>0.00</td>\n      <td>1.00</td>\n      <td>0.00</td>\n      <td>0.00</td>\n      <td>0.00</td>\n      <td>0.00</td>\n      <td>0.00</td>\n      <td>0.00</td>\n      <td>0.00</td>\n    </tr>\n  </tbody>\n</table>\n<p>940 rows × 44 columns</p>\n</div>"
     },
     "metadata": {},
     "output_type": "display_data"
    },
    {
     "name": "stdout",
     "output_type": "stream",
     "text": [
      "ASK JEREMY : merge based on index ok ? or should I put back OSEBuildingID ??\n"
     ]
    },
    {
     "data": {
      "text/plain": "      Log-NumberofFloors  Log-PropertyGFATotal  Log-PropertyGFAParking  \\\n0                  -0.28                 -1.17                   -0.42   \n7                  -0.28                  0.93                   -0.42   \n12                 -0.78                 -0.17                    2.26   \n14                  0.12                  1.24                   -0.42   \n17                 -1.49                 -0.70                   -0.42   \n...                  ...                   ...                     ...   \n3116                0.71                  0.67                   -0.42   \n3118                0.44                 -0.63                   -0.42   \n3121                0.12                 -0.39                   -0.42   \n3127                0.12                 -0.49                   -0.42   \n3130               -1.49                 -1.32                   -0.42   \n\n      Log-SecondLargestPropertyUseTypeGFA  Log-ThirdLargestPropertyUseTypeGFA  \\\n0                                   -0.94                               -0.44   \n7                                    1.06                               -0.44   \n12                                   0.86                               -0.44   \n14                                   1.12                                2.10   \n17                                   0.68                               -0.44   \n...                                   ...                                 ...   \n3116                                -0.94                               -0.44   \n3118                                -0.94                               -0.44   \n3121                                -0.94                               -0.44   \n3127                                -0.94                               -0.44   \n3130                                 0.92                                1.71   \n\n      BuildingType_Campus  BuildingType_Multifamily HR (10+)  \\\n0                    0.00                               0.00   \n7                    0.00                               0.00   \n12                   0.00                               0.00   \n14                   0.00                               0.00   \n17                   0.00                               0.00   \n...                   ...                                ...   \n3116                 0.00                               0.00   \n3118                 0.00                               0.00   \n3121                 0.00                               0.00   \n3127                 0.00                               0.00   \n3130                 0.00                               0.00   \n\n      BuildingType_Multifamily LR (1-4)  BuildingType_Multifamily MR (5-9)  \\\n0                                  1.00                               0.00   \n7                                  1.00                               0.00   \n12                                 0.00                               0.00   \n14                                 1.00                               0.00   \n17                                 0.00                               0.00   \n...                                 ...                                ...   \n3116                               0.00                               1.00   \n3118                               0.00                               1.00   \n3121                               0.00                               0.00   \n3127                               1.00                               0.00   \n3130                               0.00                               0.00   \n\n      BuildingType_NonResidential  ...  Neighborhood_downtown  \\\n0                            0.00  ...                   0.00   \n7                            0.00  ...                   0.00   \n12                           1.00  ...                   1.00   \n14                           0.00  ...                   0.00   \n17                           1.00  ...                   0.00   \n...                           ...  ...                    ...   \n3116                         0.00  ...                   1.00   \n3118                         0.00  ...                   1.00   \n3121                         1.00  ...                   0.00   \n3127                         0.00  ...                   0.00   \n3130                         0.00  ...                   0.00   \n\n      Neighborhood_east  Neighborhood_greater duwamish  \\\n0                  0.00                           0.00   \n7                  0.00                           0.00   \n12                 0.00                           0.00   \n14                 0.00                           0.00   \n17                 0.00                           0.00   \n...                 ...                            ...   \n3116               0.00                           0.00   \n3118               0.00                           0.00   \n3121               1.00                           0.00   \n3127               0.00                           0.00   \n3130               0.00                           1.00   \n\n      Neighborhood_lake union  Neighborhood_magnolia / queen anne  \\\n0                        0.00                                0.00   \n7                        0.00                                0.00   \n12                       0.00                                0.00   \n14                       0.00                                0.00   \n17                       0.00                                0.00   \n...                       ...                                 ...   \n3116                     0.00                                0.00   \n3118                     0.00                                0.00   \n3121                     0.00                                0.00   \n3127                     1.00                                0.00   \n3130                     0.00                                0.00   \n\n      Neighborhood_north  Neighborhood_northeast  Neighborhood_northwest  \\\n0                   0.00                    0.00                    0.00   \n7                   0.00                    1.00                    0.00   \n12                  0.00                    0.00                    0.00   \n14                  0.00                    0.00                    0.00   \n17                  0.00                    0.00                    0.00   \n...                  ...                     ...                     ...   \n3116                0.00                    0.00                    0.00   \n3118                0.00                    0.00                    0.00   \n3121                0.00                    0.00                    0.00   \n3127                0.00                    0.00                    0.00   \n3130                0.00                    0.00                    0.00   \n\n      Neighborhood_southeast  Neighborhood_southwest  \n0                       0.00                    0.00  \n7                       0.00                    0.00  \n12                      0.00                    0.00  \n14                      0.00                    0.00  \n17                      0.00                    0.00  \n...                      ...                     ...  \n3116                    0.00                    0.00  \n3118                    0.00                    0.00  \n3121                    0.00                    0.00  \n3127                    0.00                    0.00  \n3130                    0.00                    0.00  \n\n[940 rows x 49 columns]",
      "text/html": "<div>\n<style scoped>\n    .dataframe tbody tr th:only-of-type {\n        vertical-align: middle;\n    }\n\n    .dataframe tbody tr th {\n        vertical-align: top;\n    }\n\n    .dataframe thead th {\n        text-align: right;\n    }\n</style>\n<table border=\"1\" class=\"dataframe\">\n  <thead>\n    <tr style=\"text-align: right;\">\n      <th></th>\n      <th>Log-NumberofFloors</th>\n      <th>Log-PropertyGFATotal</th>\n      <th>Log-PropertyGFAParking</th>\n      <th>Log-SecondLargestPropertyUseTypeGFA</th>\n      <th>Log-ThirdLargestPropertyUseTypeGFA</th>\n      <th>BuildingType_Campus</th>\n      <th>BuildingType_Multifamily HR (10+)</th>\n      <th>BuildingType_Multifamily LR (1-4)</th>\n      <th>BuildingType_Multifamily MR (5-9)</th>\n      <th>BuildingType_NonResidential</th>\n      <th>...</th>\n      <th>Neighborhood_downtown</th>\n      <th>Neighborhood_east</th>\n      <th>Neighborhood_greater duwamish</th>\n      <th>Neighborhood_lake union</th>\n      <th>Neighborhood_magnolia / queen anne</th>\n      <th>Neighborhood_north</th>\n      <th>Neighborhood_northeast</th>\n      <th>Neighborhood_northwest</th>\n      <th>Neighborhood_southeast</th>\n      <th>Neighborhood_southwest</th>\n    </tr>\n  </thead>\n  <tbody>\n    <tr>\n      <th>0</th>\n      <td>-0.28</td>\n      <td>-1.17</td>\n      <td>-0.42</td>\n      <td>-0.94</td>\n      <td>-0.44</td>\n      <td>0.00</td>\n      <td>0.00</td>\n      <td>1.00</td>\n      <td>0.00</td>\n      <td>0.00</td>\n      <td>...</td>\n      <td>0.00</td>\n      <td>0.00</td>\n      <td>0.00</td>\n      <td>0.00</td>\n      <td>0.00</td>\n      <td>0.00</td>\n      <td>0.00</td>\n      <td>0.00</td>\n      <td>0.00</td>\n      <td>0.00</td>\n    </tr>\n    <tr>\n      <th>7</th>\n      <td>-0.28</td>\n      <td>0.93</td>\n      <td>-0.42</td>\n      <td>1.06</td>\n      <td>-0.44</td>\n      <td>0.00</td>\n      <td>0.00</td>\n      <td>1.00</td>\n      <td>0.00</td>\n      <td>0.00</td>\n      <td>...</td>\n      <td>0.00</td>\n      <td>0.00</td>\n      <td>0.00</td>\n      <td>0.00</td>\n      <td>0.00</td>\n      <td>0.00</td>\n      <td>1.00</td>\n      <td>0.00</td>\n      <td>0.00</td>\n      <td>0.00</td>\n    </tr>\n    <tr>\n      <th>12</th>\n      <td>-0.78</td>\n      <td>-0.17</td>\n      <td>2.26</td>\n      <td>0.86</td>\n      <td>-0.44</td>\n      <td>0.00</td>\n      <td>0.00</td>\n      <td>0.00</td>\n      <td>0.00</td>\n      <td>1.00</td>\n      <td>...</td>\n      <td>1.00</td>\n      <td>0.00</td>\n      <td>0.00</td>\n      <td>0.00</td>\n      <td>0.00</td>\n      <td>0.00</td>\n      <td>0.00</td>\n      <td>0.00</td>\n      <td>0.00</td>\n      <td>0.00</td>\n    </tr>\n    <tr>\n      <th>14</th>\n      <td>0.12</td>\n      <td>1.24</td>\n      <td>-0.42</td>\n      <td>1.12</td>\n      <td>2.10</td>\n      <td>0.00</td>\n      <td>0.00</td>\n      <td>1.00</td>\n      <td>0.00</td>\n      <td>0.00</td>\n      <td>...</td>\n      <td>0.00</td>\n      <td>0.00</td>\n      <td>0.00</td>\n      <td>0.00</td>\n      <td>0.00</td>\n      <td>0.00</td>\n      <td>0.00</td>\n      <td>0.00</td>\n      <td>0.00</td>\n      <td>0.00</td>\n    </tr>\n    <tr>\n      <th>17</th>\n      <td>-1.49</td>\n      <td>-0.70</td>\n      <td>-0.42</td>\n      <td>0.68</td>\n      <td>-0.44</td>\n      <td>0.00</td>\n      <td>0.00</td>\n      <td>0.00</td>\n      <td>0.00</td>\n      <td>1.00</td>\n      <td>...</td>\n      <td>0.00</td>\n      <td>0.00</td>\n      <td>0.00</td>\n      <td>0.00</td>\n      <td>0.00</td>\n      <td>0.00</td>\n      <td>0.00</td>\n      <td>0.00</td>\n      <td>0.00</td>\n      <td>0.00</td>\n    </tr>\n    <tr>\n      <th>...</th>\n      <td>...</td>\n      <td>...</td>\n      <td>...</td>\n      <td>...</td>\n      <td>...</td>\n      <td>...</td>\n      <td>...</td>\n      <td>...</td>\n      <td>...</td>\n      <td>...</td>\n      <td>...</td>\n      <td>...</td>\n      <td>...</td>\n      <td>...</td>\n      <td>...</td>\n      <td>...</td>\n      <td>...</td>\n      <td>...</td>\n      <td>...</td>\n      <td>...</td>\n      <td>...</td>\n    </tr>\n    <tr>\n      <th>3116</th>\n      <td>0.71</td>\n      <td>0.67</td>\n      <td>-0.42</td>\n      <td>-0.94</td>\n      <td>-0.44</td>\n      <td>0.00</td>\n      <td>0.00</td>\n      <td>0.00</td>\n      <td>1.00</td>\n      <td>0.00</td>\n      <td>...</td>\n      <td>1.00</td>\n      <td>0.00</td>\n      <td>0.00</td>\n      <td>0.00</td>\n      <td>0.00</td>\n      <td>0.00</td>\n      <td>0.00</td>\n      <td>0.00</td>\n      <td>0.00</td>\n      <td>0.00</td>\n    </tr>\n    <tr>\n      <th>3118</th>\n      <td>0.44</td>\n      <td>-0.63</td>\n      <td>-0.42</td>\n      <td>-0.94</td>\n      <td>-0.44</td>\n      <td>0.00</td>\n      <td>0.00</td>\n      <td>0.00</td>\n      <td>1.00</td>\n      <td>0.00</td>\n      <td>...</td>\n      <td>1.00</td>\n      <td>0.00</td>\n      <td>0.00</td>\n      <td>0.00</td>\n      <td>0.00</td>\n      <td>0.00</td>\n      <td>0.00</td>\n      <td>0.00</td>\n      <td>0.00</td>\n      <td>0.00</td>\n    </tr>\n    <tr>\n      <th>3121</th>\n      <td>0.12</td>\n      <td>-0.39</td>\n      <td>-0.42</td>\n      <td>-0.94</td>\n      <td>-0.44</td>\n      <td>0.00</td>\n      <td>0.00</td>\n      <td>0.00</td>\n      <td>0.00</td>\n      <td>1.00</td>\n      <td>...</td>\n      <td>0.00</td>\n      <td>1.00</td>\n      <td>0.00</td>\n      <td>0.00</td>\n      <td>0.00</td>\n      <td>0.00</td>\n      <td>0.00</td>\n      <td>0.00</td>\n      <td>0.00</td>\n      <td>0.00</td>\n    </tr>\n    <tr>\n      <th>3127</th>\n      <td>0.12</td>\n      <td>-0.49</td>\n      <td>-0.42</td>\n      <td>-0.94</td>\n      <td>-0.44</td>\n      <td>0.00</td>\n      <td>0.00</td>\n      <td>1.00</td>\n      <td>0.00</td>\n      <td>0.00</td>\n      <td>...</td>\n      <td>0.00</td>\n      <td>0.00</td>\n      <td>0.00</td>\n      <td>1.00</td>\n      <td>0.00</td>\n      <td>0.00</td>\n      <td>0.00</td>\n      <td>0.00</td>\n      <td>0.00</td>\n      <td>0.00</td>\n    </tr>\n    <tr>\n      <th>3130</th>\n      <td>-1.49</td>\n      <td>-1.32</td>\n      <td>-0.42</td>\n      <td>0.92</td>\n      <td>1.71</td>\n      <td>0.00</td>\n      <td>0.00</td>\n      <td>0.00</td>\n      <td>0.00</td>\n      <td>0.00</td>\n      <td>...</td>\n      <td>0.00</td>\n      <td>0.00</td>\n      <td>1.00</td>\n      <td>0.00</td>\n      <td>0.00</td>\n      <td>0.00</td>\n      <td>0.00</td>\n      <td>0.00</td>\n      <td>0.00</td>\n      <td>0.00</td>\n    </tr>\n  </tbody>\n</table>\n<p>940 rows × 49 columns</p>\n</div>"
     },
     "metadata": {},
     "output_type": "display_data"
    }
   ],
   "source": [
    "# 5) One Hot Encoding on the testing set\n",
    "\n",
    "# 5.1) we get the encoded numpy array\n",
    "TEST_encoded_categorical_data = one_hot_encoder.transform(X_test_std[categorical_columns])\n",
    "\n",
    "print(\"ASK JEREMY for this method below ???\")\n",
    "# 5.2) we recreate a dataframe with the column names and the numpy array\n",
    "X_test_encoded = pd.DataFrame(columns=encoded_categorical_data_names,\n",
    "                               data=TEST_encoded_categorical_data,\n",
    "                               index=X_test_std.index)\n",
    "display(X_test_encoded.sort_index())\n",
    "\n",
    "print(\"ASK JEREMY : merge based on index ok ? or should I put back OSEBuildingID ??\")\n",
    "X_test_std_encoded = pd.merge(X_test_std[features_to_merge].sort_index(), X_test_encoded.sort_index(), left_index=True, right_index=True)\n",
    "display(X_test_std_encoded.sort_index())"
   ],
   "metadata": {
    "collapsed": false,
    "pycharm": {
     "name": "#%%\n"
    }
   }
  },
  {
   "cell_type": "code",
   "execution_count": 96,
   "outputs": [],
   "source": [
    "# Save\n",
    "#X_train_std_encoded.to_csv(\"dataset/cleaned/electricity/X_train.csv\", index=False)\n",
    "#X_test_std_encoded.to_csv(\"dataset/cleaned/electricity/X_test.csv\", index=False)\n",
    "#y_train.to_csv(\"dataset/cleaned/electricity/y_train.csv\", index=False)\n",
    "#y_test.to_csv(\"dataset/cleaned/electricity/y_test.csv\", index=False)"
   ],
   "metadata": {
    "collapsed": false,
    "pycharm": {
     "name": "#%%\n"
    }
   }
  },
  {
   "cell_type": "markdown",
   "source": [
    "## II) Modelisation"
   ],
   "metadata": {
    "collapsed": false,
    "pycharm": {
     "name": "#%% md\n"
    }
   }
  },
  {
   "cell_type": "code",
   "execution_count": 97,
   "outputs": [],
   "source": [
    "from sklearn.model_selection import GridSearchCV\n",
    "from sklearn.metrics import mean_squared_error"
   ],
   "metadata": {
    "collapsed": false,
    "pycharm": {
     "name": "#%%\n"
    }
   }
  },
  {
   "cell_type": "code",
   "execution_count": 98,
   "outputs": [
    {
     "name": "stdout",
     "output_type": "stream",
     "text": [
      "We can start now the modelling to predict the feature wanted.\n"
     ]
    },
    {
     "data": {
      "text/plain": "      Log-NumberofFloors  Log-PropertyGFATotal  Log-PropertyGFAParking  \\\n1                  -0.78                 -0.90                   -0.42   \n2                  -0.28                 -0.94                   -0.42   \n3                   2.16                  0.34                   -0.42   \n4                  -0.28                 -0.50                    1.96   \n5                   0.12                 -0.42                   -0.42   \n...                  ...                   ...                     ...   \n3124                0.44                 -0.06                   -0.42   \n3125               -0.78                 -0.58                   -0.42   \n3126               -0.28                 -0.33                    2.04   \n3128                0.44                 -0.59                    1.92   \n3129               -0.78                 -1.18                   -0.42   \n\n      Log-SecondLargestPropertyUseTypeGFA  Log-ThirdLargestPropertyUseTypeGFA  \\\n1                                    0.94                                2.02   \n2                                   -0.94                               -0.44   \n3                                   -0.94                               -0.44   \n4                                    0.79                               -0.44   \n5                                   -0.94                               -0.44   \n...                                   ...                                 ...   \n3124                                -0.94                               -0.44   \n3125                                 1.03                                1.79   \n3126                                 1.04                                2.37   \n3128                                 0.94                                1.80   \n3129                                 0.92                               -0.44   \n\n      BuildingType_Campus  BuildingType_Multifamily HR (10+)  \\\n1                    0.00                               0.00   \n2                    0.00                               0.00   \n3                    0.00                               1.00   \n4                    0.00                               0.00   \n5                    0.00                               0.00   \n...                   ...                                ...   \n3124                 0.00                               0.00   \n3125                 0.00                               0.00   \n3126                 0.00                               0.00   \n3128                 0.00                               0.00   \n3129                 0.00                               0.00   \n\n      BuildingType_Multifamily LR (1-4)  BuildingType_Multifamily MR (5-9)  \\\n1                                  0.00                               0.00   \n2                                  1.00                               0.00   \n3                                  0.00                               0.00   \n4                                  1.00                               0.00   \n5                                  0.00                               0.00   \n...                                 ...                                ...   \n3124                               0.00                               1.00   \n3125                               0.00                               0.00   \n3126                               0.00                               0.00   \n3128                               0.00                               0.00   \n3129                               0.00                               0.00   \n\n      BuildingType_NonResidential  ...  Neighborhood_downtown  \\\n1                            1.00  ...                   0.00   \n2                            0.00  ...                   0.00   \n3                            0.00  ...                   0.00   \n4                            0.00  ...                   0.00   \n5                            1.00  ...                   0.00   \n...                           ...  ...                    ...   \n3124                         0.00  ...                   0.00   \n3125                         1.00  ...                   0.00   \n3126                         1.00  ...                   0.00   \n3128                         1.00  ...                   0.00   \n3129                         1.00  ...                   0.00   \n\n      Neighborhood_east  Neighborhood_greater duwamish  \\\n1                  0.00                           1.00   \n2                  0.00                           1.00   \n3                  0.00                           1.00   \n4                  0.00                           1.00   \n5                  0.00                           0.00   \n...                 ...                            ...   \n3124               1.00                           0.00   \n3125               0.00                           0.00   \n3126               0.00                           0.00   \n3128               0.00                           0.00   \n3129               0.00                           0.00   \n\n      Neighborhood_lake union  Neighborhood_magnolia / queen anne  \\\n1                        0.00                                0.00   \n2                        0.00                                0.00   \n3                        0.00                                0.00   \n4                        0.00                                0.00   \n5                        0.00                                0.00   \n...                       ...                                 ...   \n3124                     0.00                                0.00   \n3125                     1.00                                0.00   \n3126                     1.00                                0.00   \n3128                     1.00                                0.00   \n3129                     1.00                                0.00   \n\n      Neighborhood_north  Neighborhood_northeast  Neighborhood_northwest  \\\n1                   0.00                    0.00                    0.00   \n2                   0.00                    0.00                    0.00   \n3                   0.00                    0.00                    0.00   \n4                   0.00                    0.00                    0.00   \n5                   0.00                    1.00                    0.00   \n...                  ...                     ...                     ...   \n3124                0.00                    0.00                    0.00   \n3125                0.00                    0.00                    0.00   \n3126                0.00                    0.00                    0.00   \n3128                0.00                    0.00                    0.00   \n3129                0.00                    0.00                    0.00   \n\n      Neighborhood_southeast  Neighborhood_southwest  \n1                       0.00                    0.00  \n2                       0.00                    0.00  \n3                       0.00                    0.00  \n4                       0.00                    0.00  \n5                       0.00                    0.00  \n...                      ...                     ...  \n3124                    0.00                    0.00  \n3125                    0.00                    0.00  \n3126                    0.00                    0.00  \n3128                    0.00                    0.00  \n3129                    0.00                    0.00  \n\n[2191 rows x 49 columns]",
      "text/html": "<div>\n<style scoped>\n    .dataframe tbody tr th:only-of-type {\n        vertical-align: middle;\n    }\n\n    .dataframe tbody tr th {\n        vertical-align: top;\n    }\n\n    .dataframe thead th {\n        text-align: right;\n    }\n</style>\n<table border=\"1\" class=\"dataframe\">\n  <thead>\n    <tr style=\"text-align: right;\">\n      <th></th>\n      <th>Log-NumberofFloors</th>\n      <th>Log-PropertyGFATotal</th>\n      <th>Log-PropertyGFAParking</th>\n      <th>Log-SecondLargestPropertyUseTypeGFA</th>\n      <th>Log-ThirdLargestPropertyUseTypeGFA</th>\n      <th>BuildingType_Campus</th>\n      <th>BuildingType_Multifamily HR (10+)</th>\n      <th>BuildingType_Multifamily LR (1-4)</th>\n      <th>BuildingType_Multifamily MR (5-9)</th>\n      <th>BuildingType_NonResidential</th>\n      <th>...</th>\n      <th>Neighborhood_downtown</th>\n      <th>Neighborhood_east</th>\n      <th>Neighborhood_greater duwamish</th>\n      <th>Neighborhood_lake union</th>\n      <th>Neighborhood_magnolia / queen anne</th>\n      <th>Neighborhood_north</th>\n      <th>Neighborhood_northeast</th>\n      <th>Neighborhood_northwest</th>\n      <th>Neighborhood_southeast</th>\n      <th>Neighborhood_southwest</th>\n    </tr>\n  </thead>\n  <tbody>\n    <tr>\n      <th>1</th>\n      <td>-0.78</td>\n      <td>-0.90</td>\n      <td>-0.42</td>\n      <td>0.94</td>\n      <td>2.02</td>\n      <td>0.00</td>\n      <td>0.00</td>\n      <td>0.00</td>\n      <td>0.00</td>\n      <td>1.00</td>\n      <td>...</td>\n      <td>0.00</td>\n      <td>0.00</td>\n      <td>1.00</td>\n      <td>0.00</td>\n      <td>0.00</td>\n      <td>0.00</td>\n      <td>0.00</td>\n      <td>0.00</td>\n      <td>0.00</td>\n      <td>0.00</td>\n    </tr>\n    <tr>\n      <th>2</th>\n      <td>-0.28</td>\n      <td>-0.94</td>\n      <td>-0.42</td>\n      <td>-0.94</td>\n      <td>-0.44</td>\n      <td>0.00</td>\n      <td>0.00</td>\n      <td>1.00</td>\n      <td>0.00</td>\n      <td>0.00</td>\n      <td>...</td>\n      <td>0.00</td>\n      <td>0.00</td>\n      <td>1.00</td>\n      <td>0.00</td>\n      <td>0.00</td>\n      <td>0.00</td>\n      <td>0.00</td>\n      <td>0.00</td>\n      <td>0.00</td>\n      <td>0.00</td>\n    </tr>\n    <tr>\n      <th>3</th>\n      <td>2.16</td>\n      <td>0.34</td>\n      <td>-0.42</td>\n      <td>-0.94</td>\n      <td>-0.44</td>\n      <td>0.00</td>\n      <td>1.00</td>\n      <td>0.00</td>\n      <td>0.00</td>\n      <td>0.00</td>\n      <td>...</td>\n      <td>0.00</td>\n      <td>0.00</td>\n      <td>1.00</td>\n      <td>0.00</td>\n      <td>0.00</td>\n      <td>0.00</td>\n      <td>0.00</td>\n      <td>0.00</td>\n      <td>0.00</td>\n      <td>0.00</td>\n    </tr>\n    <tr>\n      <th>4</th>\n      <td>-0.28</td>\n      <td>-0.50</td>\n      <td>1.96</td>\n      <td>0.79</td>\n      <td>-0.44</td>\n      <td>0.00</td>\n      <td>0.00</td>\n      <td>1.00</td>\n      <td>0.00</td>\n      <td>0.00</td>\n      <td>...</td>\n      <td>0.00</td>\n      <td>0.00</td>\n      <td>1.00</td>\n      <td>0.00</td>\n      <td>0.00</td>\n      <td>0.00</td>\n      <td>0.00</td>\n      <td>0.00</td>\n      <td>0.00</td>\n      <td>0.00</td>\n    </tr>\n    <tr>\n      <th>5</th>\n      <td>0.12</td>\n      <td>-0.42</td>\n      <td>-0.42</td>\n      <td>-0.94</td>\n      <td>-0.44</td>\n      <td>0.00</td>\n      <td>0.00</td>\n      <td>0.00</td>\n      <td>0.00</td>\n      <td>1.00</td>\n      <td>...</td>\n      <td>0.00</td>\n      <td>0.00</td>\n      <td>0.00</td>\n      <td>0.00</td>\n      <td>0.00</td>\n      <td>0.00</td>\n      <td>1.00</td>\n      <td>0.00</td>\n      <td>0.00</td>\n      <td>0.00</td>\n    </tr>\n    <tr>\n      <th>...</th>\n      <td>...</td>\n      <td>...</td>\n      <td>...</td>\n      <td>...</td>\n      <td>...</td>\n      <td>...</td>\n      <td>...</td>\n      <td>...</td>\n      <td>...</td>\n      <td>...</td>\n      <td>...</td>\n      <td>...</td>\n      <td>...</td>\n      <td>...</td>\n      <td>...</td>\n      <td>...</td>\n      <td>...</td>\n      <td>...</td>\n      <td>...</td>\n      <td>...</td>\n      <td>...</td>\n    </tr>\n    <tr>\n      <th>3124</th>\n      <td>0.44</td>\n      <td>-0.06</td>\n      <td>-0.42</td>\n      <td>-0.94</td>\n      <td>-0.44</td>\n      <td>0.00</td>\n      <td>0.00</td>\n      <td>0.00</td>\n      <td>1.00</td>\n      <td>0.00</td>\n      <td>...</td>\n      <td>0.00</td>\n      <td>1.00</td>\n      <td>0.00</td>\n      <td>0.00</td>\n      <td>0.00</td>\n      <td>0.00</td>\n      <td>0.00</td>\n      <td>0.00</td>\n      <td>0.00</td>\n      <td>0.00</td>\n    </tr>\n    <tr>\n      <th>3125</th>\n      <td>-0.78</td>\n      <td>-0.58</td>\n      <td>-0.42</td>\n      <td>1.03</td>\n      <td>1.79</td>\n      <td>0.00</td>\n      <td>0.00</td>\n      <td>0.00</td>\n      <td>0.00</td>\n      <td>1.00</td>\n      <td>...</td>\n      <td>0.00</td>\n      <td>0.00</td>\n      <td>0.00</td>\n      <td>1.00</td>\n      <td>0.00</td>\n      <td>0.00</td>\n      <td>0.00</td>\n      <td>0.00</td>\n      <td>0.00</td>\n      <td>0.00</td>\n    </tr>\n    <tr>\n      <th>3126</th>\n      <td>-0.28</td>\n      <td>-0.33</td>\n      <td>2.04</td>\n      <td>1.04</td>\n      <td>2.37</td>\n      <td>0.00</td>\n      <td>0.00</td>\n      <td>0.00</td>\n      <td>0.00</td>\n      <td>1.00</td>\n      <td>...</td>\n      <td>0.00</td>\n      <td>0.00</td>\n      <td>0.00</td>\n      <td>1.00</td>\n      <td>0.00</td>\n      <td>0.00</td>\n      <td>0.00</td>\n      <td>0.00</td>\n      <td>0.00</td>\n      <td>0.00</td>\n    </tr>\n    <tr>\n      <th>3128</th>\n      <td>0.44</td>\n      <td>-0.59</td>\n      <td>1.92</td>\n      <td>0.94</td>\n      <td>1.80</td>\n      <td>0.00</td>\n      <td>0.00</td>\n      <td>0.00</td>\n      <td>0.00</td>\n      <td>1.00</td>\n      <td>...</td>\n      <td>0.00</td>\n      <td>0.00</td>\n      <td>0.00</td>\n      <td>1.00</td>\n      <td>0.00</td>\n      <td>0.00</td>\n      <td>0.00</td>\n      <td>0.00</td>\n      <td>0.00</td>\n      <td>0.00</td>\n    </tr>\n    <tr>\n      <th>3129</th>\n      <td>-0.78</td>\n      <td>-1.18</td>\n      <td>-0.42</td>\n      <td>0.92</td>\n      <td>-0.44</td>\n      <td>0.00</td>\n      <td>0.00</td>\n      <td>0.00</td>\n      <td>0.00</td>\n      <td>1.00</td>\n      <td>...</td>\n      <td>0.00</td>\n      <td>0.00</td>\n      <td>0.00</td>\n      <td>1.00</td>\n      <td>0.00</td>\n      <td>0.00</td>\n      <td>0.00</td>\n      <td>0.00</td>\n      <td>0.00</td>\n      <td>0.00</td>\n    </tr>\n  </tbody>\n</table>\n<p>2191 rows × 49 columns</p>\n</div>"
     },
     "metadata": {},
     "output_type": "display_data"
    },
    {
     "data": {
      "text/plain": "      Log-NumberofFloors  Log-PropertyGFATotal  Log-PropertyGFAParking  \\\n0                  -0.28                 -1.17                   -0.42   \n7                  -0.28                  0.93                   -0.42   \n12                 -0.78                 -0.17                    2.26   \n14                  0.12                  1.24                   -0.42   \n17                 -1.49                 -0.70                   -0.42   \n...                  ...                   ...                     ...   \n3116                0.71                  0.67                   -0.42   \n3118                0.44                 -0.63                   -0.42   \n3121                0.12                 -0.39                   -0.42   \n3127                0.12                 -0.49                   -0.42   \n3130               -1.49                 -1.32                   -0.42   \n\n      Log-SecondLargestPropertyUseTypeGFA  Log-ThirdLargestPropertyUseTypeGFA  \\\n0                                   -0.94                               -0.44   \n7                                    1.06                               -0.44   \n12                                   0.86                               -0.44   \n14                                   1.12                                2.10   \n17                                   0.68                               -0.44   \n...                                   ...                                 ...   \n3116                                -0.94                               -0.44   \n3118                                -0.94                               -0.44   \n3121                                -0.94                               -0.44   \n3127                                -0.94                               -0.44   \n3130                                 0.92                                1.71   \n\n      BuildingType_Campus  BuildingType_Multifamily HR (10+)  \\\n0                    0.00                               0.00   \n7                    0.00                               0.00   \n12                   0.00                               0.00   \n14                   0.00                               0.00   \n17                   0.00                               0.00   \n...                   ...                                ...   \n3116                 0.00                               0.00   \n3118                 0.00                               0.00   \n3121                 0.00                               0.00   \n3127                 0.00                               0.00   \n3130                 0.00                               0.00   \n\n      BuildingType_Multifamily LR (1-4)  BuildingType_Multifamily MR (5-9)  \\\n0                                  1.00                               0.00   \n7                                  1.00                               0.00   \n12                                 0.00                               0.00   \n14                                 1.00                               0.00   \n17                                 0.00                               0.00   \n...                                 ...                                ...   \n3116                               0.00                               1.00   \n3118                               0.00                               1.00   \n3121                               0.00                               0.00   \n3127                               1.00                               0.00   \n3130                               0.00                               0.00   \n\n      BuildingType_NonResidential  ...  Neighborhood_downtown  \\\n0                            0.00  ...                   0.00   \n7                            0.00  ...                   0.00   \n12                           1.00  ...                   1.00   \n14                           0.00  ...                   0.00   \n17                           1.00  ...                   0.00   \n...                           ...  ...                    ...   \n3116                         0.00  ...                   1.00   \n3118                         0.00  ...                   1.00   \n3121                         1.00  ...                   0.00   \n3127                         0.00  ...                   0.00   \n3130                         0.00  ...                   0.00   \n\n      Neighborhood_east  Neighborhood_greater duwamish  \\\n0                  0.00                           0.00   \n7                  0.00                           0.00   \n12                 0.00                           0.00   \n14                 0.00                           0.00   \n17                 0.00                           0.00   \n...                 ...                            ...   \n3116               0.00                           0.00   \n3118               0.00                           0.00   \n3121               1.00                           0.00   \n3127               0.00                           0.00   \n3130               0.00                           1.00   \n\n      Neighborhood_lake union  Neighborhood_magnolia / queen anne  \\\n0                        0.00                                0.00   \n7                        0.00                                0.00   \n12                       0.00                                0.00   \n14                       0.00                                0.00   \n17                       0.00                                0.00   \n...                       ...                                 ...   \n3116                     0.00                                0.00   \n3118                     0.00                                0.00   \n3121                     0.00                                0.00   \n3127                     1.00                                0.00   \n3130                     0.00                                0.00   \n\n      Neighborhood_north  Neighborhood_northeast  Neighborhood_northwest  \\\n0                   0.00                    0.00                    0.00   \n7                   0.00                    1.00                    0.00   \n12                  0.00                    0.00                    0.00   \n14                  0.00                    0.00                    0.00   \n17                  0.00                    0.00                    0.00   \n...                  ...                     ...                     ...   \n3116                0.00                    0.00                    0.00   \n3118                0.00                    0.00                    0.00   \n3121                0.00                    0.00                    0.00   \n3127                0.00                    0.00                    0.00   \n3130                0.00                    0.00                    0.00   \n\n      Neighborhood_southeast  Neighborhood_southwest  \n0                       0.00                    0.00  \n7                       0.00                    0.00  \n12                      0.00                    0.00  \n14                      0.00                    0.00  \n17                      0.00                    0.00  \n...                      ...                     ...  \n3116                    0.00                    0.00  \n3118                    0.00                    0.00  \n3121                    0.00                    0.00  \n3127                    0.00                    0.00  \n3130                    0.00                    0.00  \n\n[940 rows x 49 columns]",
      "text/html": "<div>\n<style scoped>\n    .dataframe tbody tr th:only-of-type {\n        vertical-align: middle;\n    }\n\n    .dataframe tbody tr th {\n        vertical-align: top;\n    }\n\n    .dataframe thead th {\n        text-align: right;\n    }\n</style>\n<table border=\"1\" class=\"dataframe\">\n  <thead>\n    <tr style=\"text-align: right;\">\n      <th></th>\n      <th>Log-NumberofFloors</th>\n      <th>Log-PropertyGFATotal</th>\n      <th>Log-PropertyGFAParking</th>\n      <th>Log-SecondLargestPropertyUseTypeGFA</th>\n      <th>Log-ThirdLargestPropertyUseTypeGFA</th>\n      <th>BuildingType_Campus</th>\n      <th>BuildingType_Multifamily HR (10+)</th>\n      <th>BuildingType_Multifamily LR (1-4)</th>\n      <th>BuildingType_Multifamily MR (5-9)</th>\n      <th>BuildingType_NonResidential</th>\n      <th>...</th>\n      <th>Neighborhood_downtown</th>\n      <th>Neighborhood_east</th>\n      <th>Neighborhood_greater duwamish</th>\n      <th>Neighborhood_lake union</th>\n      <th>Neighborhood_magnolia / queen anne</th>\n      <th>Neighborhood_north</th>\n      <th>Neighborhood_northeast</th>\n      <th>Neighborhood_northwest</th>\n      <th>Neighborhood_southeast</th>\n      <th>Neighborhood_southwest</th>\n    </tr>\n  </thead>\n  <tbody>\n    <tr>\n      <th>0</th>\n      <td>-0.28</td>\n      <td>-1.17</td>\n      <td>-0.42</td>\n      <td>-0.94</td>\n      <td>-0.44</td>\n      <td>0.00</td>\n      <td>0.00</td>\n      <td>1.00</td>\n      <td>0.00</td>\n      <td>0.00</td>\n      <td>...</td>\n      <td>0.00</td>\n      <td>0.00</td>\n      <td>0.00</td>\n      <td>0.00</td>\n      <td>0.00</td>\n      <td>0.00</td>\n      <td>0.00</td>\n      <td>0.00</td>\n      <td>0.00</td>\n      <td>0.00</td>\n    </tr>\n    <tr>\n      <th>7</th>\n      <td>-0.28</td>\n      <td>0.93</td>\n      <td>-0.42</td>\n      <td>1.06</td>\n      <td>-0.44</td>\n      <td>0.00</td>\n      <td>0.00</td>\n      <td>1.00</td>\n      <td>0.00</td>\n      <td>0.00</td>\n      <td>...</td>\n      <td>0.00</td>\n      <td>0.00</td>\n      <td>0.00</td>\n      <td>0.00</td>\n      <td>0.00</td>\n      <td>0.00</td>\n      <td>1.00</td>\n      <td>0.00</td>\n      <td>0.00</td>\n      <td>0.00</td>\n    </tr>\n    <tr>\n      <th>12</th>\n      <td>-0.78</td>\n      <td>-0.17</td>\n      <td>2.26</td>\n      <td>0.86</td>\n      <td>-0.44</td>\n      <td>0.00</td>\n      <td>0.00</td>\n      <td>0.00</td>\n      <td>0.00</td>\n      <td>1.00</td>\n      <td>...</td>\n      <td>1.00</td>\n      <td>0.00</td>\n      <td>0.00</td>\n      <td>0.00</td>\n      <td>0.00</td>\n      <td>0.00</td>\n      <td>0.00</td>\n      <td>0.00</td>\n      <td>0.00</td>\n      <td>0.00</td>\n    </tr>\n    <tr>\n      <th>14</th>\n      <td>0.12</td>\n      <td>1.24</td>\n      <td>-0.42</td>\n      <td>1.12</td>\n      <td>2.10</td>\n      <td>0.00</td>\n      <td>0.00</td>\n      <td>1.00</td>\n      <td>0.00</td>\n      <td>0.00</td>\n      <td>...</td>\n      <td>0.00</td>\n      <td>0.00</td>\n      <td>0.00</td>\n      <td>0.00</td>\n      <td>0.00</td>\n      <td>0.00</td>\n      <td>0.00</td>\n      <td>0.00</td>\n      <td>0.00</td>\n      <td>0.00</td>\n    </tr>\n    <tr>\n      <th>17</th>\n      <td>-1.49</td>\n      <td>-0.70</td>\n      <td>-0.42</td>\n      <td>0.68</td>\n      <td>-0.44</td>\n      <td>0.00</td>\n      <td>0.00</td>\n      <td>0.00</td>\n      <td>0.00</td>\n      <td>1.00</td>\n      <td>...</td>\n      <td>0.00</td>\n      <td>0.00</td>\n      <td>0.00</td>\n      <td>0.00</td>\n      <td>0.00</td>\n      <td>0.00</td>\n      <td>0.00</td>\n      <td>0.00</td>\n      <td>0.00</td>\n      <td>0.00</td>\n    </tr>\n    <tr>\n      <th>...</th>\n      <td>...</td>\n      <td>...</td>\n      <td>...</td>\n      <td>...</td>\n      <td>...</td>\n      <td>...</td>\n      <td>...</td>\n      <td>...</td>\n      <td>...</td>\n      <td>...</td>\n      <td>...</td>\n      <td>...</td>\n      <td>...</td>\n      <td>...</td>\n      <td>...</td>\n      <td>...</td>\n      <td>...</td>\n      <td>...</td>\n      <td>...</td>\n      <td>...</td>\n      <td>...</td>\n    </tr>\n    <tr>\n      <th>3116</th>\n      <td>0.71</td>\n      <td>0.67</td>\n      <td>-0.42</td>\n      <td>-0.94</td>\n      <td>-0.44</td>\n      <td>0.00</td>\n      <td>0.00</td>\n      <td>0.00</td>\n      <td>1.00</td>\n      <td>0.00</td>\n      <td>...</td>\n      <td>1.00</td>\n      <td>0.00</td>\n      <td>0.00</td>\n      <td>0.00</td>\n      <td>0.00</td>\n      <td>0.00</td>\n      <td>0.00</td>\n      <td>0.00</td>\n      <td>0.00</td>\n      <td>0.00</td>\n    </tr>\n    <tr>\n      <th>3118</th>\n      <td>0.44</td>\n      <td>-0.63</td>\n      <td>-0.42</td>\n      <td>-0.94</td>\n      <td>-0.44</td>\n      <td>0.00</td>\n      <td>0.00</td>\n      <td>0.00</td>\n      <td>1.00</td>\n      <td>0.00</td>\n      <td>...</td>\n      <td>1.00</td>\n      <td>0.00</td>\n      <td>0.00</td>\n      <td>0.00</td>\n      <td>0.00</td>\n      <td>0.00</td>\n      <td>0.00</td>\n      <td>0.00</td>\n      <td>0.00</td>\n      <td>0.00</td>\n    </tr>\n    <tr>\n      <th>3121</th>\n      <td>0.12</td>\n      <td>-0.39</td>\n      <td>-0.42</td>\n      <td>-0.94</td>\n      <td>-0.44</td>\n      <td>0.00</td>\n      <td>0.00</td>\n      <td>0.00</td>\n      <td>0.00</td>\n      <td>1.00</td>\n      <td>...</td>\n      <td>0.00</td>\n      <td>1.00</td>\n      <td>0.00</td>\n      <td>0.00</td>\n      <td>0.00</td>\n      <td>0.00</td>\n      <td>0.00</td>\n      <td>0.00</td>\n      <td>0.00</td>\n      <td>0.00</td>\n    </tr>\n    <tr>\n      <th>3127</th>\n      <td>0.12</td>\n      <td>-0.49</td>\n      <td>-0.42</td>\n      <td>-0.94</td>\n      <td>-0.44</td>\n      <td>0.00</td>\n      <td>0.00</td>\n      <td>1.00</td>\n      <td>0.00</td>\n      <td>0.00</td>\n      <td>...</td>\n      <td>0.00</td>\n      <td>0.00</td>\n      <td>0.00</td>\n      <td>1.00</td>\n      <td>0.00</td>\n      <td>0.00</td>\n      <td>0.00</td>\n      <td>0.00</td>\n      <td>0.00</td>\n      <td>0.00</td>\n    </tr>\n    <tr>\n      <th>3130</th>\n      <td>-1.49</td>\n      <td>-1.32</td>\n      <td>-0.42</td>\n      <td>0.92</td>\n      <td>1.71</td>\n      <td>0.00</td>\n      <td>0.00</td>\n      <td>0.00</td>\n      <td>0.00</td>\n      <td>0.00</td>\n      <td>...</td>\n      <td>0.00</td>\n      <td>0.00</td>\n      <td>1.00</td>\n      <td>0.00</td>\n      <td>0.00</td>\n      <td>0.00</td>\n      <td>0.00</td>\n      <td>0.00</td>\n      <td>0.00</td>\n      <td>0.00</td>\n    </tr>\n  </tbody>\n</table>\n<p>940 rows × 49 columns</p>\n</div>"
     },
     "metadata": {},
     "output_type": "display_data"
    },
    {
     "name": "stdout",
     "output_type": "stream",
     "text": [
      "(2191,) (940,)\n"
     ]
    }
   ],
   "source": [
    "print(\"We can start now the modelling to predict the feature wanted.\")\n",
    "\n",
    "display(X_train_std_encoded)\n",
    "display(X_test_std_encoded)\n",
    "print(y_train.shape, y_test.shape)"
   ],
   "metadata": {
    "collapsed": false,
    "pycharm": {
     "name": "#%%\n"
    }
   }
  },
  {
   "cell_type": "code",
   "execution_count": 99,
   "outputs": [],
   "source": [
    "from sklearn.model_selection import GridSearchCV\n",
    "from sklearn.metrics import mean_squared_error"
   ],
   "metadata": {
    "collapsed": false,
    "pycharm": {
     "name": "#%%\n"
    }
   }
  },
  {
   "cell_type": "code",
   "execution_count": 100,
   "outputs": [
    {
     "name": "stdout",
     "output_type": "stream",
     "text": [
      "We rename X_train_std_encoded to X_train, the same for X_test.\n"
     ]
    },
    {
     "data": {
      "text/plain": "      Log-NumberofFloors  Log-PropertyGFATotal  Log-PropertyGFAParking  \\\n0                  -0.28                 -1.17                   -0.42   \n7                  -0.28                  0.93                   -0.42   \n12                 -0.78                 -0.17                    2.26   \n14                  0.12                  1.24                   -0.42   \n17                 -1.49                 -0.70                   -0.42   \n...                  ...                   ...                     ...   \n3116                0.71                  0.67                   -0.42   \n3118                0.44                 -0.63                   -0.42   \n3121                0.12                 -0.39                   -0.42   \n3127                0.12                 -0.49                   -0.42   \n3130               -1.49                 -1.32                   -0.42   \n\n      Log-SecondLargestPropertyUseTypeGFA  Log-ThirdLargestPropertyUseTypeGFA  \\\n0                                   -0.94                               -0.44   \n7                                    1.06                               -0.44   \n12                                   0.86                               -0.44   \n14                                   1.12                                2.10   \n17                                   0.68                               -0.44   \n...                                   ...                                 ...   \n3116                                -0.94                               -0.44   \n3118                                -0.94                               -0.44   \n3121                                -0.94                               -0.44   \n3127                                -0.94                               -0.44   \n3130                                 0.92                                1.71   \n\n      BuildingType_Campus  BuildingType_Multifamily HR (10+)  \\\n0                    0.00                               0.00   \n7                    0.00                               0.00   \n12                   0.00                               0.00   \n14                   0.00                               0.00   \n17                   0.00                               0.00   \n...                   ...                                ...   \n3116                 0.00                               0.00   \n3118                 0.00                               0.00   \n3121                 0.00                               0.00   \n3127                 0.00                               0.00   \n3130                 0.00                               0.00   \n\n      BuildingType_Multifamily LR (1-4)  BuildingType_Multifamily MR (5-9)  \\\n0                                  1.00                               0.00   \n7                                  1.00                               0.00   \n12                                 0.00                               0.00   \n14                                 1.00                               0.00   \n17                                 0.00                               0.00   \n...                                 ...                                ...   \n3116                               0.00                               1.00   \n3118                               0.00                               1.00   \n3121                               0.00                               0.00   \n3127                               1.00                               0.00   \n3130                               0.00                               0.00   \n\n      BuildingType_NonResidential  ...  Neighborhood_downtown  \\\n0                            0.00  ...                   0.00   \n7                            0.00  ...                   0.00   \n12                           1.00  ...                   1.00   \n14                           0.00  ...                   0.00   \n17                           1.00  ...                   0.00   \n...                           ...  ...                    ...   \n3116                         0.00  ...                   1.00   \n3118                         0.00  ...                   1.00   \n3121                         1.00  ...                   0.00   \n3127                         0.00  ...                   0.00   \n3130                         0.00  ...                   0.00   \n\n      Neighborhood_east  Neighborhood_greater duwamish  \\\n0                  0.00                           0.00   \n7                  0.00                           0.00   \n12                 0.00                           0.00   \n14                 0.00                           0.00   \n17                 0.00                           0.00   \n...                 ...                            ...   \n3116               0.00                           0.00   \n3118               0.00                           0.00   \n3121               1.00                           0.00   \n3127               0.00                           0.00   \n3130               0.00                           1.00   \n\n      Neighborhood_lake union  Neighborhood_magnolia / queen anne  \\\n0                        0.00                                0.00   \n7                        0.00                                0.00   \n12                       0.00                                0.00   \n14                       0.00                                0.00   \n17                       0.00                                0.00   \n...                       ...                                 ...   \n3116                     0.00                                0.00   \n3118                     0.00                                0.00   \n3121                     0.00                                0.00   \n3127                     1.00                                0.00   \n3130                     0.00                                0.00   \n\n      Neighborhood_north  Neighborhood_northeast  Neighborhood_northwest  \\\n0                   0.00                    0.00                    0.00   \n7                   0.00                    1.00                    0.00   \n12                  0.00                    0.00                    0.00   \n14                  0.00                    0.00                    0.00   \n17                  0.00                    0.00                    0.00   \n...                  ...                     ...                     ...   \n3116                0.00                    0.00                    0.00   \n3118                0.00                    0.00                    0.00   \n3121                0.00                    0.00                    0.00   \n3127                0.00                    0.00                    0.00   \n3130                0.00                    0.00                    0.00   \n\n      Neighborhood_southeast  Neighborhood_southwest  \n0                       0.00                    0.00  \n7                       0.00                    0.00  \n12                      0.00                    0.00  \n14                      0.00                    0.00  \n17                      0.00                    0.00  \n...                      ...                     ...  \n3116                    0.00                    0.00  \n3118                    0.00                    0.00  \n3121                    0.00                    0.00  \n3127                    0.00                    0.00  \n3130                    0.00                    0.00  \n\n[940 rows x 49 columns]",
      "text/html": "<div>\n<style scoped>\n    .dataframe tbody tr th:only-of-type {\n        vertical-align: middle;\n    }\n\n    .dataframe tbody tr th {\n        vertical-align: top;\n    }\n\n    .dataframe thead th {\n        text-align: right;\n    }\n</style>\n<table border=\"1\" class=\"dataframe\">\n  <thead>\n    <tr style=\"text-align: right;\">\n      <th></th>\n      <th>Log-NumberofFloors</th>\n      <th>Log-PropertyGFATotal</th>\n      <th>Log-PropertyGFAParking</th>\n      <th>Log-SecondLargestPropertyUseTypeGFA</th>\n      <th>Log-ThirdLargestPropertyUseTypeGFA</th>\n      <th>BuildingType_Campus</th>\n      <th>BuildingType_Multifamily HR (10+)</th>\n      <th>BuildingType_Multifamily LR (1-4)</th>\n      <th>BuildingType_Multifamily MR (5-9)</th>\n      <th>BuildingType_NonResidential</th>\n      <th>...</th>\n      <th>Neighborhood_downtown</th>\n      <th>Neighborhood_east</th>\n      <th>Neighborhood_greater duwamish</th>\n      <th>Neighborhood_lake union</th>\n      <th>Neighborhood_magnolia / queen anne</th>\n      <th>Neighborhood_north</th>\n      <th>Neighborhood_northeast</th>\n      <th>Neighborhood_northwest</th>\n      <th>Neighborhood_southeast</th>\n      <th>Neighborhood_southwest</th>\n    </tr>\n  </thead>\n  <tbody>\n    <tr>\n      <th>0</th>\n      <td>-0.28</td>\n      <td>-1.17</td>\n      <td>-0.42</td>\n      <td>-0.94</td>\n      <td>-0.44</td>\n      <td>0.00</td>\n      <td>0.00</td>\n      <td>1.00</td>\n      <td>0.00</td>\n      <td>0.00</td>\n      <td>...</td>\n      <td>0.00</td>\n      <td>0.00</td>\n      <td>0.00</td>\n      <td>0.00</td>\n      <td>0.00</td>\n      <td>0.00</td>\n      <td>0.00</td>\n      <td>0.00</td>\n      <td>0.00</td>\n      <td>0.00</td>\n    </tr>\n    <tr>\n      <th>7</th>\n      <td>-0.28</td>\n      <td>0.93</td>\n      <td>-0.42</td>\n      <td>1.06</td>\n      <td>-0.44</td>\n      <td>0.00</td>\n      <td>0.00</td>\n      <td>1.00</td>\n      <td>0.00</td>\n      <td>0.00</td>\n      <td>...</td>\n      <td>0.00</td>\n      <td>0.00</td>\n      <td>0.00</td>\n      <td>0.00</td>\n      <td>0.00</td>\n      <td>0.00</td>\n      <td>1.00</td>\n      <td>0.00</td>\n      <td>0.00</td>\n      <td>0.00</td>\n    </tr>\n    <tr>\n      <th>12</th>\n      <td>-0.78</td>\n      <td>-0.17</td>\n      <td>2.26</td>\n      <td>0.86</td>\n      <td>-0.44</td>\n      <td>0.00</td>\n      <td>0.00</td>\n      <td>0.00</td>\n      <td>0.00</td>\n      <td>1.00</td>\n      <td>...</td>\n      <td>1.00</td>\n      <td>0.00</td>\n      <td>0.00</td>\n      <td>0.00</td>\n      <td>0.00</td>\n      <td>0.00</td>\n      <td>0.00</td>\n      <td>0.00</td>\n      <td>0.00</td>\n      <td>0.00</td>\n    </tr>\n    <tr>\n      <th>14</th>\n      <td>0.12</td>\n      <td>1.24</td>\n      <td>-0.42</td>\n      <td>1.12</td>\n      <td>2.10</td>\n      <td>0.00</td>\n      <td>0.00</td>\n      <td>1.00</td>\n      <td>0.00</td>\n      <td>0.00</td>\n      <td>...</td>\n      <td>0.00</td>\n      <td>0.00</td>\n      <td>0.00</td>\n      <td>0.00</td>\n      <td>0.00</td>\n      <td>0.00</td>\n      <td>0.00</td>\n      <td>0.00</td>\n      <td>0.00</td>\n      <td>0.00</td>\n    </tr>\n    <tr>\n      <th>17</th>\n      <td>-1.49</td>\n      <td>-0.70</td>\n      <td>-0.42</td>\n      <td>0.68</td>\n      <td>-0.44</td>\n      <td>0.00</td>\n      <td>0.00</td>\n      <td>0.00</td>\n      <td>0.00</td>\n      <td>1.00</td>\n      <td>...</td>\n      <td>0.00</td>\n      <td>0.00</td>\n      <td>0.00</td>\n      <td>0.00</td>\n      <td>0.00</td>\n      <td>0.00</td>\n      <td>0.00</td>\n      <td>0.00</td>\n      <td>0.00</td>\n      <td>0.00</td>\n    </tr>\n    <tr>\n      <th>...</th>\n      <td>...</td>\n      <td>...</td>\n      <td>...</td>\n      <td>...</td>\n      <td>...</td>\n      <td>...</td>\n      <td>...</td>\n      <td>...</td>\n      <td>...</td>\n      <td>...</td>\n      <td>...</td>\n      <td>...</td>\n      <td>...</td>\n      <td>...</td>\n      <td>...</td>\n      <td>...</td>\n      <td>...</td>\n      <td>...</td>\n      <td>...</td>\n      <td>...</td>\n      <td>...</td>\n    </tr>\n    <tr>\n      <th>3116</th>\n      <td>0.71</td>\n      <td>0.67</td>\n      <td>-0.42</td>\n      <td>-0.94</td>\n      <td>-0.44</td>\n      <td>0.00</td>\n      <td>0.00</td>\n      <td>0.00</td>\n      <td>1.00</td>\n      <td>0.00</td>\n      <td>...</td>\n      <td>1.00</td>\n      <td>0.00</td>\n      <td>0.00</td>\n      <td>0.00</td>\n      <td>0.00</td>\n      <td>0.00</td>\n      <td>0.00</td>\n      <td>0.00</td>\n      <td>0.00</td>\n      <td>0.00</td>\n    </tr>\n    <tr>\n      <th>3118</th>\n      <td>0.44</td>\n      <td>-0.63</td>\n      <td>-0.42</td>\n      <td>-0.94</td>\n      <td>-0.44</td>\n      <td>0.00</td>\n      <td>0.00</td>\n      <td>0.00</td>\n      <td>1.00</td>\n      <td>0.00</td>\n      <td>...</td>\n      <td>1.00</td>\n      <td>0.00</td>\n      <td>0.00</td>\n      <td>0.00</td>\n      <td>0.00</td>\n      <td>0.00</td>\n      <td>0.00</td>\n      <td>0.00</td>\n      <td>0.00</td>\n      <td>0.00</td>\n    </tr>\n    <tr>\n      <th>3121</th>\n      <td>0.12</td>\n      <td>-0.39</td>\n      <td>-0.42</td>\n      <td>-0.94</td>\n      <td>-0.44</td>\n      <td>0.00</td>\n      <td>0.00</td>\n      <td>0.00</td>\n      <td>0.00</td>\n      <td>1.00</td>\n      <td>...</td>\n      <td>0.00</td>\n      <td>1.00</td>\n      <td>0.00</td>\n      <td>0.00</td>\n      <td>0.00</td>\n      <td>0.00</td>\n      <td>0.00</td>\n      <td>0.00</td>\n      <td>0.00</td>\n      <td>0.00</td>\n    </tr>\n    <tr>\n      <th>3127</th>\n      <td>0.12</td>\n      <td>-0.49</td>\n      <td>-0.42</td>\n      <td>-0.94</td>\n      <td>-0.44</td>\n      <td>0.00</td>\n      <td>0.00</td>\n      <td>1.00</td>\n      <td>0.00</td>\n      <td>0.00</td>\n      <td>...</td>\n      <td>0.00</td>\n      <td>0.00</td>\n      <td>0.00</td>\n      <td>1.00</td>\n      <td>0.00</td>\n      <td>0.00</td>\n      <td>0.00</td>\n      <td>0.00</td>\n      <td>0.00</td>\n      <td>0.00</td>\n    </tr>\n    <tr>\n      <th>3130</th>\n      <td>-1.49</td>\n      <td>-1.32</td>\n      <td>-0.42</td>\n      <td>0.92</td>\n      <td>1.71</td>\n      <td>0.00</td>\n      <td>0.00</td>\n      <td>0.00</td>\n      <td>0.00</td>\n      <td>0.00</td>\n      <td>...</td>\n      <td>0.00</td>\n      <td>0.00</td>\n      <td>1.00</td>\n      <td>0.00</td>\n      <td>0.00</td>\n      <td>0.00</td>\n      <td>0.00</td>\n      <td>0.00</td>\n      <td>0.00</td>\n      <td>0.00</td>\n    </tr>\n  </tbody>\n</table>\n<p>940 rows × 49 columns</p>\n</div>"
     },
     "execution_count": 100,
     "metadata": {},
     "output_type": "execute_result"
    }
   ],
   "source": [
    "print(\"We rename X_train_std_encoded to X_train, the same for X_test.\")\n",
    "X_train = X_train_std_encoded.copy()\n",
    "X_test = X_test_std_encoded.copy()\n",
    "\n",
    "X_train\n",
    "X_test"
   ],
   "metadata": {
    "collapsed": false,
    "pycharm": {
     "name": "#%%\n"
    }
   }
  },
  {
   "cell_type": "markdown",
   "source": [
    "### 1) Linear modelling : Linear Regression / Ridge Regression / Lasso / Elastic Net\n"
   ],
   "metadata": {
    "collapsed": false,
    "pycharm": {
     "name": "#%% md\n"
    }
   }
  },
  {
   "cell_type": "code",
   "execution_count": 101,
   "outputs": [
    {
     "data": {
      "text/plain": "(2191, 49)"
     },
     "execution_count": 101,
     "metadata": {},
     "output_type": "execute_result"
    }
   ],
   "source": [
    "X_train.shape"
   ],
   "metadata": {
    "collapsed": false,
    "pycharm": {
     "name": "#%%\n"
    }
   }
  },
  {
   "cell_type": "code",
   "execution_count": 102,
   "outputs": [
    {
     "data": {
      "text/plain": "(940, 49)"
     },
     "execution_count": 102,
     "metadata": {},
     "output_type": "execute_result"
    }
   ],
   "source": [
    "X_test.shape"
   ],
   "metadata": {
    "collapsed": false,
    "pycharm": {
     "name": "#%%\n"
    }
   }
  },
  {
   "cell_type": "markdown",
   "source": [
    "#### 1) Dummy Regression : baseline"
   ],
   "metadata": {
    "collapsed": false,
    "pycharm": {
     "name": "#%% md\n"
    }
   }
  },
  {
   "cell_type": "code",
   "execution_count": 103,
   "outputs": [],
   "source": [
    "from sklearn.metrics import mean_absolute_error,r2_score,mean_squared_error\n",
    "\n",
    "pd.set_option('display.float_format', lambda x: '%.2f' % x)\n",
    "\n",
    "global results\n",
    "results = pd.DataFrame({})\n",
    "\n",
    "def evaluate_regression(model_name, results, y_test, y_pred):\n",
    "    print(\"Prediction for : \", variable_to_predict)\n",
    "    rmse = np.sqrt(mean_squared_error(y_test, y_pred))\n",
    "    mae = mean_absolute_error(y_test,y_pred)\n",
    "    mse = mean_squared_error(y_test, y_pred)\n",
    "    r2 = r2_score(y_test, y_pred)\n",
    "\n",
    "    #print(\"RMSE : {:.2f}\".format(rmse))\n",
    "    #print(\"MAE : {:.2f}\".format(mae))\n",
    "    #print(\"MSE : {:.2f}\".format(mse))\n",
    "    #print(\"R² : {:.2f}\".format(r2))\n",
    "    results = pd.concat([results, pd.DataFrame({\"Model\" : [model_name],\n",
    "                               'RMSE' : [rmse],\n",
    "                               'MAE' : [mae],\n",
    "                               \"MSE\": [mse],\n",
    "                               \"R²\" : [r2]})])\n",
    "    display(results)\n",
    "\n",
    "    # 2) graph\n",
    "    print(\"If the prediction was good, we would see a line which is not the case here .\")\n",
    "    plt.scatter(y_test, y_pred, color='coral')\n",
    "    return  results\n"
   ],
   "metadata": {
    "collapsed": false,
    "pycharm": {
     "name": "#%%\n"
    }
   }
  },
  {
   "cell_type": "code",
   "execution_count": 104,
   "outputs": [],
   "source": [
    "def display_prediction(y_test, y_pred):\n",
    "    #plt.scatter(y_test, y_pred, color='coral')\n",
    "\n",
    "    sizes = {} # clé : coordonnées ; valeur : nombre de points à ces coordonnées\n",
    "    for (yt, yp) in zip(list(y_test), list(y_pred)):\n",
    "        if (yt, yp) in sizes:\n",
    "            sizes[(yt, yp)] += 1\n",
    "        else:\n",
    "            sizes[(yt, yp)] = 1\n",
    "\n",
    "    keys = sizes.keys()\n",
    "    plt.scatter(\n",
    "        [k[0] for k in keys], # vraie valeur (abscisse)\n",
    "        [k[1] for k in keys], # valeur predite (ordonnee)\n",
    "        s=[sizes[k] for k in keys], # taille du marqueur\n",
    "        color='coral', alpha =0.8)\n"
   ],
   "metadata": {
    "collapsed": false,
    "pycharm": {
     "name": "#%%\n"
    }
   }
  },
  {
   "cell_type": "code",
   "execution_count": 105,
   "outputs": [
    {
     "name": "stdout",
     "output_type": "stream",
     "text": [
      "Prediction for :  Log-Electricity(kBtu)\n"
     ]
    },
    {
     "data": {
      "text/plain": "             Model  RMSE  MAE  MSE    R²\n0  Dummy Regressor  1.17 0.91 1.36 -0.00",
      "text/html": "<div>\n<style scoped>\n    .dataframe tbody tr th:only-of-type {\n        vertical-align: middle;\n    }\n\n    .dataframe tbody tr th {\n        vertical-align: top;\n    }\n\n    .dataframe thead th {\n        text-align: right;\n    }\n</style>\n<table border=\"1\" class=\"dataframe\">\n  <thead>\n    <tr style=\"text-align: right;\">\n      <th></th>\n      <th>Model</th>\n      <th>RMSE</th>\n      <th>MAE</th>\n      <th>MSE</th>\n      <th>R²</th>\n    </tr>\n  </thead>\n  <tbody>\n    <tr>\n      <th>0</th>\n      <td>Dummy Regressor</td>\n      <td>1.17</td>\n      <td>0.91</td>\n      <td>1.36</td>\n      <td>-0.00</td>\n    </tr>\n  </tbody>\n</table>\n</div>"
     },
     "metadata": {},
     "output_type": "display_data"
    },
    {
     "name": "stdout",
     "output_type": "stream",
     "text": [
      "If the prediction was good, we would see a line which is not the case here .\n"
     ]
    },
    {
     "data": {
      "text/plain": "<Figure size 432x288 with 1 Axes>",
      "image/png": "[encoded data removed]"
     },
     "metadata": {
      "needs_background": "light"
     },
     "output_type": "display_data"
    }
   ],
   "source": [
    "from sklearn import dummy\n",
    "\n",
    "# 0) We create a dummy regressor model that always predicts the mean value of the feature to predict\n",
    "dum = dummy.DummyRegressor(strategy='mean')\n",
    "\n",
    "# 1) Training Dummy Regression\n",
    "dum.fit(X_train, y_train)\n",
    "\n",
    "# 2) Prediction on the testing set\n",
    "y_pred_dum = dum.predict(X_test)\n",
    "\n",
    "# 3) Evaluate\n",
    "results = evaluate_regression(\"Dummy Regressor\", results, y_test, y_pred_dum)"
   ],
   "metadata": {
    "collapsed": false,
    "pycharm": {
     "name": "#%%\n"
    }
   }
  },
  {
   "cell_type": "code",
   "execution_count": 106,
   "outputs": [
    {
     "name": "stdout",
     "output_type": "stream",
     "text": [
      "R : -0.005432694620822298\n",
      "Prediction for :  Log-Electricity(kBtu)\n"
     ]
    },
    {
     "data": {
      "text/plain": "               Model  RMSE  MAE  MSE    R²\n0    Dummy Regressor  1.17 0.91 1.36 -0.00\n0  Linear Regression  1.17 0.91 1.37 -0.01",
      "text/html": "<div>\n<style scoped>\n    .dataframe tbody tr th:only-of-type {\n        vertical-align: middle;\n    }\n\n    .dataframe tbody tr th {\n        vertical-align: top;\n    }\n\n    .dataframe thead th {\n        text-align: right;\n    }\n</style>\n<table border=\"1\" class=\"dataframe\">\n  <thead>\n    <tr style=\"text-align: right;\">\n      <th></th>\n      <th>Model</th>\n      <th>RMSE</th>\n      <th>MAE</th>\n      <th>MSE</th>\n      <th>R²</th>\n    </tr>\n  </thead>\n  <tbody>\n    <tr>\n      <th>0</th>\n      <td>Dummy Regressor</td>\n      <td>1.17</td>\n      <td>0.91</td>\n      <td>1.36</td>\n      <td>-0.00</td>\n    </tr>\n    <tr>\n      <th>0</th>\n      <td>Linear Regression</td>\n      <td>1.17</td>\n      <td>0.91</td>\n      <td>1.37</td>\n      <td>-0.01</td>\n    </tr>\n  </tbody>\n</table>\n</div>"
     },
     "metadata": {},
     "output_type": "display_data"
    },
    {
     "name": "stdout",
     "output_type": "stream",
     "text": [
      "If the prediction was good, we would see a line which is not the case here .\n"
     ]
    },
    {
     "data": {
      "text/plain": "<Figure size 432x288 with 1 Axes>",
      "image/png": "[encoded data removed]"
     },
     "metadata": {
      "needs_background": "light"
     },
     "output_type": "display_data"
    }
   ],
   "source": [
    "from sklearn import linear_model\n",
    "\n",
    "# 0) We create a linear regression model\n",
    "lr = linear_model.LinearRegression()\n",
    "\n",
    "# 1) Training Linear Regression and Evaluating\n",
    "reg = lr.fit(X_train, y_train)\n",
    "y_pred_lr = reg.predict(X_test)\n",
    "\n",
    "prediction_score = lr.score(X_test, y_test)\n",
    "#print(\"Accuracy is : %.2f\" % (100 * prediction_score))\n",
    "print('R : {}'.format(prediction_score))\n",
    "\n",
    "results = evaluate_regression(\"Linear Regression\", results, y_test, y_pred_lr)"
   ],
   "metadata": {
    "collapsed": false,
    "pycharm": {
     "name": "#%%\n"
    }
   }
  },
  {
   "cell_type": "code",
   "execution_count": 107,
   "outputs": [
    {
     "data": {
      "text/plain": "array([15.38171002, 10.17983058, 12.32068622, 14.65549589, 13.89539048,\n       13.23371511, 16.0425582 , 12.96848933, 13.4246892 , 13.0892553 ,\n       13.05338622, 17.00836408, 16.91271399, 13.74573166, 13.73259732,\n       13.88627652, 15.59076066, 13.8688314 , 14.39366263, 16.00295401,\n       13.55284365, 13.56057444, 13.8943088 , 13.76424884, 15.49343313,\n       15.61697181, 13.16710918, 14.307061  , 17.71693427, 13.79768563,\n       14.09166772, 13.06749739, 14.78024968, 14.45106252, 13.37358113,\n       12.38409748, 13.56837524, 12.85716009, 13.68680976, 13.59026856,\n       14.33576519, 15.77683613, 15.21767507, 13.56062863, 15.43924065,\n       14.38867134, 13.10936324, 14.41359843, 14.11069492, 15.62434295,\n       12.95607972, 13.73203221, 14.85156423, 12.87842511, 17.53427837,\n       14.06244563, 15.38937269, 15.32727015, 13.37788738, 13.07978985,\n       13.6418938 , 13.89591935, 14.59297177, 13.80968965, 14.01001675,\n       14.68551355, 12.64583612, 13.47190836, 13.69096382, 15.27580765,\n       16.96582596, 14.77364932, 13.19265221, 14.41474149, 15.30303775,\n       14.47300465, 13.04781223, 13.64357448, 13.43291689, 13.39280264,\n       14.85369923, 14.77568879, 14.30861285, 13.63529957, 12.38189395,\n       13.54549157, 14.41863346, 14.84698825, 14.58886812, 13.19138558,\n       15.05933801, 14.38089198, 13.17525939, 15.47684523, 17.61149053,\n       14.719989  , 14.18130995, 14.80649606, 13.33533052, 13.90086865,\n       15.08544384, 13.74828256, 13.47848977, 13.48310863, 13.65757054,\n       13.16401575, 15.83046411, 14.37694298, 15.40042768, 14.02024082,\n       13.59806947, 14.20686322, 14.206084  , 14.94222622, 13.40405655,\n       14.40688467, 14.7763937 , 11.94019773, 14.68684995, 13.14111055,\n       14.02643091, 13.00795091, 15.81152756, 14.79169755, 14.99266042,\n       13.79854851, 14.91673443, 13.88431061, 14.05787696, 14.36388165,\n       13.84148528, 13.84985594, 15.51689828, 14.35616602, 13.61771063,\n       13.16728512, 13.11023209, 15.46037276, 13.80342583, 15.19775498,\n       12.91689765, 13.98191866, 13.3040047 , 13.32519646, 14.72841396,\n       13.15699666, 13.79076899, 15.21898204, 12.97569232, 13.32243644,\n       12.78834692, 14.09859332, 19.43058019, 14.45834186, 14.84482779,\n       15.26235919, 13.59759706, 12.9521514 , 14.62015439, 12.08820086,\n       15.87703924, 13.81850208, 15.34210063, 15.22141586, 13.36560128,\n       14.07468127, 13.33566182, 13.43501851, 14.08941262, 13.36412454,\n       14.05238027, 13.61253966, 14.73052367, 16.2857073 , 14.86276148,\n       13.63669724, 13.35721889, 11.82837833, 14.34008109, 14.11099338,\n       13.41471802, 13.14652121, 14.51903521, 17.05350576, 12.33985588,\n       14.14093196, 14.47652032, 14.31979604, 12.93932476, 14.14619249,\n       16.21164546, 13.81837645, 13.85877884, 16.01438633, 16.2754026 ,\n       15.44046821, 14.24099461, 15.22918733, 13.0355847 , 13.40971139,\n       13.45644419, 13.05094041, 15.01578734, 12.8741302 , 15.06212754,\n       15.45159819, 13.31482007, 12.3525252 , 13.31724078, 13.30770371,\n       13.35708919, 13.82981378, 15.38203032, 14.64011442, 12.93855592,\n       14.16540446, 14.17744863, 13.35989413, 13.95121297, 17.22685997,\n       13.70847753, 14.10287808, 13.93652038, 15.42811106, 15.55634105,\n       13.93453283, 13.59115377, 13.76980688, 15.09804202, 13.44722129,\n       13.45837551, 13.64647988, 14.42666864, 13.98385573, 15.50767747,\n       16.16014064, 12.58491653, 17.10743671, 13.89201409, 14.99453502,\n       16.06815176, 13.47434332, 13.19123811, 13.67867657, 14.25205823,\n       13.78907212, 12.75528306, 16.0108694 , 14.30840701, 13.60522277,\n       13.61932656, 13.36033091, 14.43597037, 13.99046337, 13.94568231,\n       15.14586373, 13.7969789 , 15.88720328, 14.03479708, 13.83715854,\n       14.8568203 , 13.62075158, 14.51588208, 13.14318118, 11.99671488,\n       11.76961984, 15.13537554, 14.28809273, 11.65306994, 13.65996374,\n       13.48395601, 14.59759264, 14.1253403 , 14.06785712, 14.7439903 ,\n       13.46504629, 12.82782586, 13.31322834, 12.86823471, 14.91554583,\n       15.01736572, 13.52860818, 12.63231703, 16.0305064 , 15.4103685 ,\n       13.97590769, 13.24752534, 13.60493273, 13.04760104, 13.20327104,\n       14.51551567, 12.10639595, 14.82688344, 14.95786729, 13.2362901 ,\n       16.3606463 , 14.83396972, 15.18907372, 13.55108136, 13.86865504,\n       11.35521847, 13.10010141, 15.1159101 , 14.12590133, 12.952379  ,\n       14.41352639, 14.02432067, 14.40196411, 14.34500581, 14.23533475,\n       15.71267784, 13.97910281, 14.4165726 , 17.68993638, 13.86704742,\n       14.55407078, 13.69888797, 14.22032812, 15.40591284, 14.8131147 ,\n       13.98384897, 15.37519084, 13.56054605, 14.74188864, 14.50613857,\n       14.754945  , 13.26880729, 14.69266371, 15.90296987, 12.34521701,\n       13.65485577, 13.5474141 , 13.41799427, 12.97746534, 13.90509986,\n       14.17142331, 13.89356267, 13.90365513, 15.10255818, 12.31158965,\n       13.34314895, 12.91196822, 13.41386664, 12.54968717, 15.69097893,\n       13.93189528, 13.31146026, 13.01685174, 14.15708547, 14.05440777,\n       14.11041722, 14.59852221, 13.10826648, 14.97370002, 14.21809619,\n       16.0564264 , 13.33772473, 17.71802177, 14.40329611, 15.98708736,\n       13.930782  , 13.84065868, 12.99375471, 13.17270662, 12.29815945,\n       15.7909096 , 16.29229758, 14.46071986, 15.02292583, 14.56082742,\n       13.21173962, 14.49761651, 13.70323732, 13.57102207, 13.69429614,\n       13.85360371, 14.94232604, 14.8581361 , 15.09696177, 13.42337423,\n       14.24233982, 13.52354064, 14.45121134, 14.49771357, 17.00732975,\n       13.69562732, 13.52363169, 14.31062744, 13.11221607, 11.72706056,\n       13.37554406, 15.70502857, 13.49490576, 14.34789785, 13.74425405,\n       16.49502815, 14.34301157, 13.03101753, 13.87963681, 14.83870473,\n       13.43679594, 16.14836255, 14.80123033, 15.14663121, 14.77286031,\n       13.2649821 , 14.11037478, 14.37396853, 12.61086419, 13.78370921,\n       13.71812593, 16.58938851, 15.86696599, 13.44410914, 13.9140845 ,\n       13.67259354, 13.44522773, 14.20402006, 15.66112717, 14.70081865,\n       13.67904687, 16.23365479, 15.31534809, 13.24322788, 12.89886226,\n       12.75791462, 12.70417163, 14.34954125, 13.4040807 , 17.16367397,\n       14.16858633, 13.6690155 , 12.77814764, 14.01231835, 13.13750023,\n       11.96349777, 13.71873531, 14.1129063 , 14.17958406, 12.3377805 ,\n       12.98584238, 13.63484323, 14.20207483, 16.35946074, 13.37288394,\n       15.2168615 , 13.2656582 , 15.40222238, 13.33593971, 14.87018907,\n       14.51618831, 12.85062289, 13.78240248, 14.88679139, 13.35193105,\n       13.62113302, 13.9674193 , 13.58350284, 13.86478537, 13.40784453,\n       13.55063183, 12.71471088, 13.7894807 , 13.28414714, 13.37609976,\n       14.48621426, 15.27467287, 16.58440678, 13.71090087, 12.99650759,\n       14.72864953, 13.19635706, 15.91423302, 12.31661173, 14.52459113,\n       13.22133412, 13.51945889, 15.7321218 , 15.7747578 , 13.79030967,\n       15.17590694, 14.06820903, 12.70275168, 14.00522307, 17.37761307,\n       14.41134861, 15.92818291, 12.4264604 , 12.05360305, 13.45397525,\n       14.07605316, 13.83820899, 14.72989187, 15.22825939, 13.0911575 ,\n       13.89111605, 14.24994659, 14.04598398, 14.50865174, 13.74016505,\n       14.39945206, 17.49241479, 13.90301581, 16.51003996, 16.56066076,\n       13.96575734, 16.03089251, 13.48182643, 13.72239696, 14.2670695 ,\n       16.72009539, 15.29133616, 13.24635289, 15.06747778, 13.18195405,\n       14.06768306, 12.78037435, 16.43753384, 14.3629537 , 13.83514749,\n       13.98898308, 14.57047459, 12.72459259, 13.18947047, 13.45304316,\n       14.1208761 , 15.18313471, 16.67241188, 15.26089849, 13.2934504 ,\n       15.74110108, 15.14080307, 12.21602298, 12.83221694, 13.16225694,\n       15.10886226, 16.11145988, 15.24630064, 14.65548121, 15.52009973,\n       13.64598952, 13.36829803, 14.54839418, 13.40779191, 14.61545802,\n       12.7221216 , 13.82522324, 13.13136276, 14.44273907, 14.28381274,\n       14.17568118, 13.46603818, 14.86814522, 16.09820126, 14.15788818,\n       15.73208708, 13.54260412, 14.23889744, 13.38404587, 14.10354182,\n       14.49277934, 12.67091297, 13.95027569, 13.30842128, 12.2584943 ,\n       15.74361149, 13.32991236, 14.14089296, 14.61555058, 13.32118801,\n       16.58824564, 13.58112151, 14.45668579, 13.76232917, 17.69666155,\n       15.55975904, 14.31587667, 14.43513229, 14.24594401, 14.39583836,\n       13.4397853 , 17.07481606, 13.76803733, 13.49231874, 13.93601167,\n       13.38641391, 14.1422542 , 15.07965593, 12.74927736, 13.35381631,\n       12.28082755, 13.67413476, 13.43540906, 13.24014108, 15.19477049,\n       13.04876635, 13.03018888, 13.20198384, 13.85632039, 13.673312  ,\n       13.84762047, 14.09953244, 14.78284301, 16.71560622, 14.9053071 ,\n       13.36876085, 13.93889653, 15.33178439, 12.97575717, 11.52559487,\n       13.08227237, 13.31766039, 15.70032312, 14.55914693, 13.06575493,\n       12.97978547, 14.7498734 , 14.13646806, 15.9548023 , 15.57395623,\n       15.28046036, 13.59525409, 13.16990133, 13.30833161, 15.28015342,\n       15.66573341, 13.08786303, 13.29796071, 11.33137961, 12.99991774,\n       13.07809796, 14.50224673, 15.48424609, 12.17509268, 12.48567214,\n       12.88183712, 12.69703938, 13.9200066 , 16.57779986, 12.70320798,\n       12.84453922, 13.73386548, 14.13156432, 14.43864077, 15.3776927 ,\n       13.49774996, 13.67493844, 15.49201423, 13.13994983, 14.48022431,\n       15.29068904, 12.72928523, 13.38059913, 14.56943482, 13.19985761,\n       16.50212913, 13.38453685, 13.18577189, 14.33340871, 16.38443822,\n       12.20771629, 14.51112968, 12.9338676 , 13.10709338, 13.04849292,\n       14.47748384, 13.14089657, 12.09803076, 13.99231442, 13.40657644,\n       15.24651582, 13.04433048, 15.02879914, 13.67994624, 15.9920483 ,\n       13.32899373, 16.3016894 , 12.02620408, 13.10125822, 13.44209048,\n       13.18670438, 13.11099702, 12.72708422, 12.27339479, 12.51683872,\n       13.59745031, 15.10657514, 15.80867159, 14.14264216, 14.18786484,\n       13.44068474, 13.41653336, 13.25479592, 15.99191795, 13.65963539,\n       13.5002805 , 13.42313145, 14.45918174, 13.12283926, 14.88858724,\n       14.00679846, 15.60972169, 13.600603  , 13.61942633, 14.03753348,\n       15.98330243, 12.93766861, 16.75195864, 12.38807749, 13.2401233 ,\n       14.52734258, 12.54784154, 15.05154495, 13.04497681, 13.06285538,\n       13.21518319, 13.67697811, 13.87463382, 13.43465269, 17.29543748,\n       13.9525331 , 15.56301262, 16.11368162, 15.66637444, 14.55157737,\n       18.1318961 , 16.20011333, 12.65721833, 13.70294414, 16.97831559,\n       17.01839593, 13.57134253, 13.49426343, 17.02454148, 16.00142531,\n       14.72297283, 15.92077347, 15.47842137, 14.54414794, 13.46632606,\n       14.92082798, 13.41461499, 14.08628703, 13.06963959, 13.21456692,\n       15.15504921, 13.59627436, 14.04841115, 15.74546103, 15.20365371,\n       14.86394822, 15.33260026, 14.85096577, 15.29514703, 14.18533882,\n       12.88024596, 14.88653648, 15.49368187, 13.99008048, 14.04839531,\n       12.89054998, 15.01609864, 13.34433825, 13.38262698, 13.58109876,\n       14.30599428, 12.08494966, 15.08784055, 13.66597753, 16.18877739,\n       13.38300308, 15.26112398, 13.1876716 , 15.29488694, 13.57258513,\n       13.41283805, 13.57984012, 14.29703321, 13.24667439, 14.25716294,\n       14.97937299, 13.00102026, 14.77091815, 13.14320272, 15.55834778,\n       16.69758678, 14.53111224, 17.79832863, 16.36230605, 13.34843544,\n       14.97952506, 13.25724561, 13.57201123, 14.76785121, 13.55723194,\n       13.23187228, 14.42898825, 14.09241855, 17.82509439, 12.99471635,\n       14.25013892, 14.34490923, 12.67609815, 13.96681605, 13.29455715,\n       17.13705423, 12.39583727, 14.04965181, 15.47414446, 13.43470099,\n       13.29840358, 13.42621944, 13.02366727, 13.09215775, 13.61779106,\n       13.23688064, 16.11220916, 13.59405433, 13.82149561, 14.69498626,\n       15.49250824, 13.04919466, 15.77151233, 13.88227348, 14.34518659,\n       14.94411812, 13.97499328, 15.23515531, 13.05266168, 13.93614198,\n       14.40295494, 14.52008816, 14.36867702, 13.05245366, 13.49547746,\n       14.56165902, 12.46164079, 13.38846067, 13.64395088, 12.55135949,\n       14.22907809, 13.61564032, 13.47369467, 13.53699963, 14.21386041,\n       14.76566808, 13.76698816, 12.99286498, 14.01815993, 15.80446747,\n       15.09804063, 13.79592399, 14.00147962, 13.10464534, 14.53906812,\n       13.87822805, 13.20362626, 13.35618887, 15.1906244 , 13.63040433,\n       15.50439124, 13.2021796 , 17.09650865, 13.66787445, 13.42787407,\n       13.59977078, 13.23046952, 15.48059394, 15.24999085, 16.03545051,\n       13.16693896, 13.72196772, 14.99053343, 14.65708335, 15.0163966 ,\n       13.96432617, 12.95603012, 14.08996072, 14.62714231, 14.38176654,\n       13.63277452, 13.76528827, 15.49167472, 17.37402121, 14.15672084,\n       13.72346873, 12.62839159, 13.26916483, 13.43232002, 12.57846345,\n       13.46550192, 14.07291021, 13.85878171, 13.93408173, 15.07615014,\n       13.55694836, 14.20736952, 13.66013079, 12.56636255, 12.32100718,\n       14.36254583, 13.59858886, 13.63076406, 13.87104744, 14.89551513,\n       12.76245801, 13.85285066, 13.72313646, 13.87764087, 15.27575309,\n       12.56989598, 13.97004117, 12.81934294, 14.30442549, 14.30695151,\n       14.94509036, 16.28902068, 13.36431455, 13.66933383, 13.88829995,\n       13.33585894, 13.29566605, 12.72973256, 15.48736386, 13.48274883,\n       15.38836145, 13.65031393, 14.29332609, 13.69130582, 14.4667951 ,\n       12.42366884, 13.79750442, 16.51392778, 13.98281323, 13.53734044,\n       12.54705612, 14.17198498, 13.89140251, 17.58135022, 12.55092042])"
     },
     "execution_count": 107,
     "metadata": {},
     "output_type": "execute_result"
    }
   ],
   "source": [
    "y_test\n"
   ],
   "metadata": {
    "collapsed": false,
    "pycharm": {
     "name": "#%%\n"
    }
   }
  },
  {
   "cell_type": "code",
   "execution_count": 108,
   "outputs": [
    {
     "data": {
      "text/plain": "array([14.43939338, 14.25654295, 13.99881521, 14.54791883, 14.11199706,\n       14.26655571, 14.15351599, 14.10233278, 13.94944526, 14.22826524,\n       13.943992  , 14.13870093, 13.923784  , 14.13577491, 14.16492189,\n       14.06234947, 14.05512855, 14.35867708, 14.42451007, 14.22008043,\n       14.14052076, 14.21811735, 14.23251718, 14.09944363, 14.20389154,\n       14.252067  , 14.47777367, 14.31979704, 14.30062795, 14.30211433,\n       13.94214428, 14.1639574 , 14.07296502, 14.17891497, 14.1963377 ,\n       14.44196137, 14.28205047, 14.06347018, 14.12714694, 14.11957165,\n       13.99270176, 14.07278538, 14.12220436, 14.05795738, 14.09223293,\n       14.17571521, 13.99980725, 13.97685015, 13.93523279, 14.0035831 ,\n       14.15536959, 14.21130129, 14.41412145, 14.29523623, 14.25358891,\n       14.12543769, 14.15009204, 14.35239745, 14.20109601, 14.10931106,\n       14.10306403, 13.9592267 , 14.1199957 , 13.76122371, 14.07706188,\n       14.28510303, 14.27333997, 14.06339912, 14.09066148, 14.17285329,\n       14.30286989, 14.1943246 , 14.18266596, 14.20761976, 14.09879911,\n       14.08470344, 14.31630609, 13.55485323, 14.14036997, 14.00897187,\n       14.14971853, 13.90724699, 14.16193153, 13.94704738, 14.31329725,\n       14.28989172, 14.38256474, 13.99950778, 14.27106947, 14.26700574,\n       13.96179143, 14.17331815, 13.99501909, 14.19265885, 14.18726691,\n       14.2014849 , 14.35761484, 14.33549722, 13.98362058, 14.14817743,\n       14.09102551, 14.4596806 , 13.94231137, 14.38203624, 14.47673208,\n       13.91886557, 14.1681951 , 14.14274281, 14.09900589, 14.27935303,\n       14.13044732, 14.13605443, 14.22918649, 14.17229975, 14.26716334,\n       14.10396378, 14.19845304, 14.13141454, 14.27806767, 14.27797939,\n       14.17126526, 14.31086178, 14.1298021 , 14.03389868, 14.11404304,\n       14.26406024, 14.25267217, 14.04480842, 14.19061958, 14.28418552,\n       14.01944362, 14.13603788, 14.14897032, 14.24272268, 14.33427002,\n       13.51104938, 14.311165  , 14.24897015, 13.9994286 , 14.03952929,\n       14.07174109, 14.18320692, 14.14407387, 14.32226899, 14.33947494,\n       14.50413938, 14.31202815, 14.01144776, 14.08760897, 14.09647631,\n       14.46526009, 14.12336256, 14.34746634, 14.15504553, 14.23752526,\n       13.80213359, 14.43412147, 14.12432723, 14.14861782, 14.08667087,\n       14.11691697, 14.18075104, 14.19351927, 13.88118627, 13.86023767,\n       14.05540221, 13.94173298, 14.18547863, 14.28439266, 14.2016607 ,\n       14.12318813, 14.0618936 , 14.24712875, 14.46929058, 14.20040154,\n       14.45040381, 14.39560632, 14.21554358, 14.08995367, 14.17487615,\n       14.12199597, 14.12821956, 14.02455748, 14.18169536, 14.1891997 ,\n       14.2077262 , 14.62195648, 13.91619002, 14.2166151 , 14.24878363,\n       14.39309611, 14.01093595, 14.20301649, 13.98889101, 14.09136175,\n       14.27922698, 14.21318805, 13.99250757, 14.00885181, 14.02753221,\n       14.10554923, 14.20095719, 14.29772875, 14.4813919 , 14.18072137,\n       14.26991533, 14.17997212, 14.12503576, 14.01333595, 14.30709312,\n       14.29451147, 14.07919962, 14.1065094 , 14.03287602, 14.25682114,\n       14.94200769, 14.25809363, 14.07536672, 14.09033733, 14.27577266,\n       14.39824425, 14.28767635, 14.40251864, 14.32079158, 14.1291953 ,\n       14.0659231 , 14.45638236, 14.10736623, 14.17126121, 14.47860726,\n       14.26565003, 14.03978716, 14.10357676, 14.2064646 , 14.13280546,\n       14.27763011, 14.31814958, 14.53219932, 14.13421944, 14.10927408,\n       14.49273295, 14.42911553, 14.48338834, 14.21406671, 14.13064477,\n       14.1633362 , 14.02355542, 14.26641714, 14.50323045, 14.21188757,\n       14.07849619, 14.26168778, 14.4401771 , 14.16160595, 14.24608776,\n       14.24151337, 14.23153541, 14.42215006, 14.3003009 , 14.04456584,\n       14.30743579, 14.30009415, 14.33800098, 14.54338686, 14.05428218,\n       14.32287529, 14.00752706, 14.25052589, 14.18643942, 14.27405432,\n       14.15439572, 14.47746389, 14.60424165, 13.95080572, 14.33012762,\n       14.11743582, 14.10433271, 14.03372751, 13.85654429, 14.20767649,\n       14.60545627, 14.16225077, 14.60677112, 14.41316098, 14.37981796,\n       14.19891828, 14.11532111, 14.32158445, 14.18249986, 14.14670337,\n       14.21623772, 14.150633  , 14.10407477, 14.22107394, 14.39480096,\n       14.3210257 , 14.27918228, 14.19211158, 14.14105132, 14.00934958,\n       14.43349835, 14.16481567, 14.26091911, 14.4246027 , 14.00674581,\n       14.16278493, 14.14111368, 14.0482574 , 14.03496539, 14.25250339,\n       14.45609221, 14.10930731, 14.02103412, 14.45410632, 14.26182246,\n       14.44604979, 14.35565845, 14.01995309, 14.72608172, 14.49928715,\n       14.54743889, 14.54166259, 14.32178088, 14.01985928, 14.02075439,\n       14.26751245, 14.09760822, 14.1823124 , 14.15394338, 14.12071277,\n       14.1731145 , 14.06270752, 13.97867227, 14.17827339, 14.34755172,\n       14.354487  , 13.9809608 , 14.16843184, 14.37039163, 14.17869035,\n       14.05450189, 13.90513317, 13.49075419, 13.92515639, 14.03670631,\n       14.02670455, 14.16309245, 14.01165439, 14.45279252, 14.18571794,\n       14.17073266, 13.94956972, 14.26228541, 14.13363947, 14.1720002 ,\n       14.01783914, 14.89190809, 14.15848601, 13.8785411 , 14.20552076,\n       13.96898531, 14.48248404, 13.99641259, 14.15560846, 14.3400357 ,\n       14.37126747, 14.20697949, 14.15037228, 14.11610809, 14.23479904,\n       14.04894663, 14.26657487, 14.18354374, 14.22990215, 14.04275545,\n       14.23130319, 14.01559866, 14.24808529, 14.55785912, 14.01916265,\n       14.1601096 , 14.19642094, 14.1844284 , 14.19279038, 14.17830344,\n       14.15847614, 13.81827162, 14.28038124, 14.26032004, 14.10516858,\n       14.21002866, 14.08666511, 14.18123508, 14.02627666, 14.15980219,\n       14.30788552, 14.15068713, 14.04633997, 14.09168657, 13.99465151,\n       14.27022518, 14.14012981, 14.37895053, 14.24863517, 14.17493177,\n       14.20064842, 14.1551307 , 13.99020011, 14.24368188, 14.10869868,\n       14.10131905, 14.05677474, 13.9817838 , 14.14585069, 14.29397032,\n       14.03743055, 14.12715684, 14.06417779, 14.19452768, 14.0550133 ,\n       14.07804755, 13.93935414, 14.20314328, 14.09680779, 14.27518766,\n       14.22915986, 14.30735471, 14.2200897 , 14.02759986, 14.20203446,\n       14.37940755, 14.05024809, 14.08253052, 14.21722209, 14.22842659,\n       14.21134286, 14.4764226 , 14.16103588, 14.17084411, 14.25820299,\n       14.29225552, 14.39730812, 14.30311067, 14.30554223, 13.93728985,\n       14.17753198, 14.29856597, 14.25176273, 14.17054105, 14.13211176,\n       14.22517495, 13.97539317, 14.2368946 , 14.23162433, 14.17175431,\n       14.2647477 , 14.17047462, 14.24254932, 14.14430423, 14.16600453,\n       14.18060537, 14.07423648, 13.89047057, 14.33610911, 14.05631635,\n       14.13207354, 13.94118865, 14.39133437, 14.44053606, 14.10909844,\n       13.95129754, 14.28037377, 14.17005491, 13.73950464, 14.57823467,\n       14.27771609, 13.94935257, 14.29237894, 14.19095492, 14.13837037,\n       14.4618048 , 14.14843739, 13.99761179, 13.94382443, 14.11365951,\n       14.06146625, 14.09341389, 13.97842346, 14.33593744, 13.83835615,\n       14.00924668, 14.12571922, 14.22913712, 14.02339238, 13.91278694,\n       14.19147404, 14.20155983, 14.05014062, 14.25614538, 13.82276911,\n       14.08332559, 14.04328995, 13.94699242, 14.25282704, 14.05654364,\n       14.08615074, 14.44797588, 14.39302131, 14.11933865, 14.24330733,\n       14.49557552, 13.97363851, 13.99602604, 13.9068255 , 13.93332546,\n       14.01518925, 13.99364529, 14.20654518, 14.05313679, 14.0983989 ,\n       14.02877215, 14.34395637, 14.36810177, 14.10751235, 14.25194505,\n       13.90551822, 14.01420181, 14.258938  , 14.16474638, 13.9404353 ,\n       14.05420705, 14.17610855, 14.10685014, 14.40757379, 13.8700797 ,\n       14.32083088, 13.98528566, 13.87937294, 14.05487969, 14.14403787,\n       14.04881469, 14.217263  , 14.14247483, 14.09239131, 14.09893821,\n       13.4358989 , 14.57903139, 14.30181807, 14.16897374, 14.26536228,\n       14.29071445, 14.24142181, 14.06014183, 14.09019342, 13.91682176,\n       14.3388019 , 14.15923661, 14.17298564, 14.39988927, 14.26431277,\n       14.01147653, 14.26324158, 14.05552334, 14.36569696, 14.19803059,\n       14.15907908, 14.39771326, 14.04692272, 14.10988892, 14.21313827,\n       14.12643566, 14.16429595, 14.07354063, 14.15983939, 14.07717717,\n       14.06748315, 14.13658311, 14.20216785, 14.31117683, 14.28157614,\n       14.00990951, 14.23571146, 14.33403074, 14.04543968, 14.34256068,\n       14.21837557, 14.0828489 , 14.32487284, 14.19361957, 14.08777764,\n       14.13712326, 14.26407833, 14.43270828, 14.39457216, 13.99889693,\n       14.23016417, 14.17090677, 14.28123836, 14.12832338, 14.03460827,\n       14.09827113, 14.3683237 , 14.17961222, 14.15159048, 14.47643123,\n       14.06163223, 14.80852351, 14.85257862, 14.20392861, 13.89396784,\n       14.05305495, 14.50832218, 14.00422638, 14.48634869, 14.06851298,\n       13.92439972, 14.19411856, 13.99068765, 14.07778595, 14.04243142,\n       13.91381758, 13.88581864, 13.89386034, 14.26147624, 14.34685609,\n       14.09067042, 14.16686731, 14.1013907 , 14.12958207, 14.09576717,\n       14.10022487, 14.10479247, 14.56190359, 14.18307629, 14.1280732 ,\n       14.08469421, 14.12831665, 14.63124855, 13.3331032 , 14.00520436,\n       14.6038465 , 14.24873193, 14.02295518, 13.98207735, 14.44047083,\n       14.19462069, 14.08471653, 14.13534425, 13.90317666, 14.09818957,\n       14.04219067, 13.8576231 , 14.32214904, 14.3300991 , 14.38912169,\n       14.15672384, 14.264083  , 13.93873369, 14.14576097, 14.22901329,\n       14.14069972, 14.4892538 , 13.9050831 , 14.18099942, 13.94530567,\n       14.16106571, 13.99793591, 14.15268393, 14.2817757 , 13.86474082,\n       14.09986736, 14.25302125, 14.0270183 , 14.05043654, 14.0922689 ,\n       14.00910805, 14.02451868, 14.0674713 , 13.9594707 , 14.3286425 ,\n       14.04220608, 14.14615367, 14.20750446, 14.1082961 , 14.05360267,\n       14.69909282, 14.00538675, 14.0202441 , 13.95603047, 14.04396457,\n       14.12111175, 14.66077261, 14.04030573, 14.16370451, 14.16166739,\n       13.98834469, 14.16820494, 14.11128982, 14.37192867, 13.87054849,\n       13.99503959, 13.99583455, 14.10490003, 14.05206587, 14.16109441,\n       14.38884313, 14.16001027, 14.36980897, 14.31140986, 14.20461498,\n       14.26194689, 14.21302522, 14.27580618, 14.18121887, 14.09554907,\n       14.18690055, 13.99183406, 14.202771  , 14.5237006 , 14.44848353,\n       14.51067793, 14.23156046, 14.14643389, 14.00954693, 14.06857493,\n       14.23514118, 14.34510877, 14.31865159, 14.019976  , 14.26728241,\n       14.31906462, 14.16473984, 14.24655845, 14.19416836, 14.25186294,\n       14.14670146, 14.1215447 , 14.15653933, 14.29778357, 14.29158757,\n       14.23175407, 14.1164451 , 14.10762955, 14.0795438 , 14.09381726,\n       14.15909032, 13.60133519, 14.21577663, 13.92125195, 14.24514869,\n       14.13469191, 14.08271576, 14.05206965, 14.13754844, 14.30600032,\n       14.35693728, 14.20176271, 14.19645317, 14.18682075, 14.21227002,\n       14.12552546, 14.39182174, 14.1054579 , 14.53805369, 14.57075348,\n       14.19624666, 14.11683273, 14.17780051, 14.07525317, 14.28849689,\n       14.23533908, 14.22816584, 14.1991498 , 14.23533908, 14.23595669,\n       14.23330937, 14.38701604, 14.09304254, 14.08748934, 14.31484235,\n       13.94068651, 14.10332025, 14.09845592, 14.28503203, 14.56780871,\n       14.14364656, 14.44037419, 14.29066118, 14.33373572, 14.26447111,\n       14.30758444, 14.39193546, 14.28849165, 14.42467928, 13.96272039,\n       14.05627472, 14.20113287, 14.23443354, 14.14216769, 14.05920388,\n       14.16256308, 14.27588431, 14.46437074, 14.27033525, 14.53679153,\n       14.13957952, 14.15941662, 14.21935867, 14.55473888, 14.13126093,\n       14.12277442, 14.00142097, 13.96408155, 14.05936932, 14.00242654,\n       14.21744802, 14.23402965, 14.17444806, 14.12145085, 14.13620217,\n       13.87488979, 14.22148945, 14.05085424, 14.38147638, 14.37878867,\n       14.01179187, 14.10780929, 14.49208993, 14.11191651, 14.40814707,\n       14.86637115, 14.10034027, 14.51894276, 14.38857426, 14.05358739,\n       14.13986288, 14.34145305, 14.04058863, 14.08940752, 14.3816232 ,\n       14.13404408, 14.19558465, 14.07629346, 13.92338891, 14.22380136,\n       14.15188321, 14.09674501, 14.12860842, 14.17928845, 14.18078954,\n       13.95302662, 14.09941804, 14.14449924, 14.00037965, 14.30263557,\n       14.32201766, 14.12843008, 14.15042039, 14.24508203, 14.14793329,\n       14.25056851, 14.53134366, 13.8426186 , 14.04455495, 14.22829104,\n       14.23223999, 14.14842877, 14.1103598 , 14.24805067, 14.18173717,\n       14.57511437, 14.38906979, 14.37071767, 14.46469124, 14.26166009,\n       14.16794583, 13.94994826, 14.26462888, 14.2629825 , 14.09013862,\n       14.14303448, 14.30391493, 14.09753115, 14.12382024, 13.99411357,\n       14.0605278 , 14.33446422, 14.26978826, 14.26163218, 14.39808715,\n       14.23004913, 14.22345725, 14.0844053 , 14.02596502, 14.18687997,\n       14.31349249, 14.04063889, 14.44288113, 14.25261854, 13.8432369 ,\n       14.25657928, 14.18697912, 14.17444507, 14.41221624, 14.10447362,\n       14.09367156, 14.1019609 , 13.50048608, 14.46142404, 14.15972759,\n       14.52455038, 14.31355946, 13.953222  , 14.22639213, 14.11393384,\n       14.02745624, 14.07971882, 13.97437247, 13.85687366, 13.95346068,\n       14.66087625, 14.03297692, 14.27479147, 14.10872486, 14.0954259 ,\n       14.21472695, 14.18196808, 14.03868113, 14.30035169, 14.27591071,\n       14.13683218, 14.15146114, 14.18093567, 14.16872902, 14.39912302,\n       14.2209359 , 14.16760693, 14.08603664, 14.28669131, 14.34507518])"
     },
     "execution_count": 108,
     "metadata": {},
     "output_type": "execute_result"
    }
   ],
   "source": [
    "y_pred_lr"
   ],
   "metadata": {
    "collapsed": false,
    "pycharm": {
     "name": "#%%\n"
    }
   }
  },
  {
   "cell_type": "code",
   "execution_count": 109,
   "outputs": [
    {
     "data": {
      "text/plain": "array([14.17097549, 14.17097549, 14.17097549, 14.17097549, 14.17097549,\n       14.17097549, 14.17097549, 14.17097549, 14.17097549, 14.17097549,\n       14.17097549, 14.17097549, 14.17097549, 14.17097549, 14.17097549,\n       14.17097549, 14.17097549, 14.17097549, 14.17097549, 14.17097549,\n       14.17097549, 14.17097549, 14.17097549, 14.17097549, 14.17097549,\n       14.17097549, 14.17097549, 14.17097549, 14.17097549, 14.17097549,\n       14.17097549, 14.17097549, 14.17097549, 14.17097549, 14.17097549,\n       14.17097549, 14.17097549, 14.17097549, 14.17097549, 14.17097549,\n       14.17097549, 14.17097549, 14.17097549, 14.17097549, 14.17097549,\n       14.17097549, 14.17097549, 14.17097549, 14.17097549, 14.17097549,\n       14.17097549, 14.17097549, 14.17097549, 14.17097549, 14.17097549,\n       14.17097549, 14.17097549, 14.17097549, 14.17097549, 14.17097549,\n       14.17097549, 14.17097549, 14.17097549, 14.17097549, 14.17097549,\n       14.17097549, 14.17097549, 14.17097549, 14.17097549, 14.17097549,\n       14.17097549, 14.17097549, 14.17097549, 14.17097549, 14.17097549,\n       14.17097549, 14.17097549, 14.17097549, 14.17097549, 14.17097549,\n       14.17097549, 14.17097549, 14.17097549, 14.17097549, 14.17097549,\n       14.17097549, 14.17097549, 14.17097549, 14.17097549, 14.17097549,\n       14.17097549, 14.17097549, 14.17097549, 14.17097549, 14.17097549,\n       14.17097549, 14.17097549, 14.17097549, 14.17097549, 14.17097549,\n       14.17097549, 14.17097549, 14.17097549, 14.17097549, 14.17097549,\n       14.17097549, 14.17097549, 14.17097549, 14.17097549, 14.17097549,\n       14.17097549, 14.17097549, 14.17097549, 14.17097549, 14.17097549,\n       14.17097549, 14.17097549, 14.17097549, 14.17097549, 14.17097549,\n       14.17097549, 14.17097549, 14.17097549, 14.17097549, 14.17097549,\n       14.17097549, 14.17097549, 14.17097549, 14.17097549, 14.17097549,\n       14.17097549, 14.17097549, 14.17097549, 14.17097549, 14.17097549,\n       14.17097549, 14.17097549, 14.17097549, 14.17097549, 14.17097549,\n       14.17097549, 14.17097549, 14.17097549, 14.17097549, 14.17097549,\n       14.17097549, 14.17097549, 14.17097549, 14.17097549, 14.17097549,\n       14.17097549, 14.17097549, 14.17097549, 14.17097549, 14.17097549,\n       14.17097549, 14.17097549, 14.17097549, 14.17097549, 14.17097549,\n       14.17097549, 14.17097549, 14.17097549, 14.17097549, 14.17097549,\n       14.17097549, 14.17097549, 14.17097549, 14.17097549, 14.17097549,\n       14.17097549, 14.17097549, 14.17097549, 14.17097549, 14.17097549,\n       14.17097549, 14.17097549, 14.17097549, 14.17097549, 14.17097549,\n       14.17097549, 14.17097549, 14.17097549, 14.17097549, 14.17097549,\n       14.17097549, 14.17097549, 14.17097549, 14.17097549, 14.17097549,\n       14.17097549, 14.17097549, 14.17097549, 14.17097549, 14.17097549,\n       14.17097549, 14.17097549, 14.17097549, 14.17097549, 14.17097549,\n       14.17097549, 14.17097549, 14.17097549, 14.17097549, 14.17097549,\n       14.17097549, 14.17097549, 14.17097549, 14.17097549, 14.17097549,\n       14.17097549, 14.17097549, 14.17097549, 14.17097549, 14.17097549,\n       14.17097549, 14.17097549, 14.17097549, 14.17097549, 14.17097549,\n       14.17097549, 14.17097549, 14.17097549, 14.17097549, 14.17097549,\n       14.17097549, 14.17097549, 14.17097549, 14.17097549, 14.17097549,\n       14.17097549, 14.17097549, 14.17097549, 14.17097549, 14.17097549,\n       14.17097549, 14.17097549, 14.17097549, 14.17097549, 14.17097549,\n       14.17097549, 14.17097549, 14.17097549, 14.17097549, 14.17097549,\n       14.17097549, 14.17097549, 14.17097549, 14.17097549, 14.17097549,\n       14.17097549, 14.17097549, 14.17097549, 14.17097549, 14.17097549,\n       14.17097549, 14.17097549, 14.17097549, 14.17097549, 14.17097549,\n       14.17097549, 14.17097549, 14.17097549, 14.17097549, 14.17097549,\n       14.17097549, 14.17097549, 14.17097549, 14.17097549, 14.17097549,\n       14.17097549, 14.17097549, 14.17097549, 14.17097549, 14.17097549,\n       14.17097549, 14.17097549, 14.17097549, 14.17097549, 14.17097549,\n       14.17097549, 14.17097549, 14.17097549, 14.17097549, 14.17097549,\n       14.17097549, 14.17097549, 14.17097549, 14.17097549, 14.17097549,\n       14.17097549, 14.17097549, 14.17097549, 14.17097549, 14.17097549,\n       14.17097549, 14.17097549, 14.17097549, 14.17097549, 14.17097549,\n       14.17097549, 14.17097549, 14.17097549, 14.17097549, 14.17097549,\n       14.17097549, 14.17097549, 14.17097549, 14.17097549, 14.17097549,\n       14.17097549, 14.17097549, 14.17097549, 14.17097549, 14.17097549,\n       14.17097549, 14.17097549, 14.17097549, 14.17097549, 14.17097549,\n       14.17097549, 14.17097549, 14.17097549, 14.17097549, 14.17097549,\n       14.17097549, 14.17097549, 14.17097549, 14.17097549, 14.17097549,\n       14.17097549, 14.17097549, 14.17097549, 14.17097549, 14.17097549,\n       14.17097549, 14.17097549, 14.17097549, 14.17097549, 14.17097549,\n       14.17097549, 14.17097549, 14.17097549, 14.17097549, 14.17097549,\n       14.17097549, 14.17097549, 14.17097549, 14.17097549, 14.17097549,\n       14.17097549, 14.17097549, 14.17097549, 14.17097549, 14.17097549,\n       14.17097549, 14.17097549, 14.17097549, 14.17097549, 14.17097549,\n       14.17097549, 14.17097549, 14.17097549, 14.17097549, 14.17097549,\n       14.17097549, 14.17097549, 14.17097549, 14.17097549, 14.17097549,\n       14.17097549, 14.17097549, 14.17097549, 14.17097549, 14.17097549,\n       14.17097549, 14.17097549, 14.17097549, 14.17097549, 14.17097549,\n       14.17097549, 14.17097549, 14.17097549, 14.17097549, 14.17097549,\n       14.17097549, 14.17097549, 14.17097549, 14.17097549, 14.17097549,\n       14.17097549, 14.17097549, 14.17097549, 14.17097549, 14.17097549,\n       14.17097549, 14.17097549, 14.17097549, 14.17097549, 14.17097549,\n       14.17097549, 14.17097549, 14.17097549, 14.17097549, 14.17097549,\n       14.17097549, 14.17097549, 14.17097549, 14.17097549, 14.17097549,\n       14.17097549, 14.17097549, 14.17097549, 14.17097549, 14.17097549,\n       14.17097549, 14.17097549, 14.17097549, 14.17097549, 14.17097549,\n       14.17097549, 14.17097549, 14.17097549, 14.17097549, 14.17097549,\n       14.17097549, 14.17097549, 14.17097549, 14.17097549, 14.17097549,\n       14.17097549, 14.17097549, 14.17097549, 14.17097549, 14.17097549,\n       14.17097549, 14.17097549, 14.17097549, 14.17097549, 14.17097549,\n       14.17097549, 14.17097549, 14.17097549, 14.17097549, 14.17097549,\n       14.17097549, 14.17097549, 14.17097549, 14.17097549, 14.17097549,\n       14.17097549, 14.17097549, 14.17097549, 14.17097549, 14.17097549,\n       14.17097549, 14.17097549, 14.17097549, 14.17097549, 14.17097549,\n       14.17097549, 14.17097549, 14.17097549, 14.17097549, 14.17097549,\n       14.17097549, 14.17097549, 14.17097549, 14.17097549, 14.17097549,\n       14.17097549, 14.17097549, 14.17097549, 14.17097549, 14.17097549,\n       14.17097549, 14.17097549, 14.17097549, 14.17097549, 14.17097549,\n       14.17097549, 14.17097549, 14.17097549, 14.17097549, 14.17097549,\n       14.17097549, 14.17097549, 14.17097549, 14.17097549, 14.17097549,\n       14.17097549, 14.17097549, 14.17097549, 14.17097549, 14.17097549,\n       14.17097549, 14.17097549, 14.17097549, 14.17097549, 14.17097549,\n       14.17097549, 14.17097549, 14.17097549, 14.17097549, 14.17097549,\n       14.17097549, 14.17097549, 14.17097549, 14.17097549, 14.17097549,\n       14.17097549, 14.17097549, 14.17097549, 14.17097549, 14.17097549,\n       14.17097549, 14.17097549, 14.17097549, 14.17097549, 14.17097549,\n       14.17097549, 14.17097549, 14.17097549, 14.17097549, 14.17097549,\n       14.17097549, 14.17097549, 14.17097549, 14.17097549, 14.17097549,\n       14.17097549, 14.17097549, 14.17097549, 14.17097549, 14.17097549,\n       14.17097549, 14.17097549, 14.17097549, 14.17097549, 14.17097549,\n       14.17097549, 14.17097549, 14.17097549, 14.17097549, 14.17097549,\n       14.17097549, 14.17097549, 14.17097549, 14.17097549, 14.17097549,\n       14.17097549, 14.17097549, 14.17097549, 14.17097549, 14.17097549,\n       14.17097549, 14.17097549, 14.17097549, 14.17097549, 14.17097549,\n       14.17097549, 14.17097549, 14.17097549, 14.17097549, 14.17097549,\n       14.17097549, 14.17097549, 14.17097549, 14.17097549, 14.17097549,\n       14.17097549, 14.17097549, 14.17097549, 14.17097549, 14.17097549,\n       14.17097549, 14.17097549, 14.17097549, 14.17097549, 14.17097549,\n       14.17097549, 14.17097549, 14.17097549, 14.17097549, 14.17097549,\n       14.17097549, 14.17097549, 14.17097549, 14.17097549, 14.17097549,\n       14.17097549, 14.17097549, 14.17097549, 14.17097549, 14.17097549,\n       14.17097549, 14.17097549, 14.17097549, 14.17097549, 14.17097549,\n       14.17097549, 14.17097549, 14.17097549, 14.17097549, 14.17097549,\n       14.17097549, 14.17097549, 14.17097549, 14.17097549, 14.17097549,\n       14.17097549, 14.17097549, 14.17097549, 14.17097549, 14.17097549,\n       14.17097549, 14.17097549, 14.17097549, 14.17097549, 14.17097549,\n       14.17097549, 14.17097549, 14.17097549, 14.17097549, 14.17097549,\n       14.17097549, 14.17097549, 14.17097549, 14.17097549, 14.17097549,\n       14.17097549, 14.17097549, 14.17097549, 14.17097549, 14.17097549,\n       14.17097549, 14.17097549, 14.17097549, 14.17097549, 14.17097549,\n       14.17097549, 14.17097549, 14.17097549, 14.17097549, 14.17097549,\n       14.17097549, 14.17097549, 14.17097549, 14.17097549, 14.17097549,\n       14.17097549, 14.17097549, 14.17097549, 14.17097549, 14.17097549,\n       14.17097549, 14.17097549, 14.17097549, 14.17097549, 14.17097549,\n       14.17097549, 14.17097549, 14.17097549, 14.17097549, 14.17097549,\n       14.17097549, 14.17097549, 14.17097549, 14.17097549, 14.17097549,\n       14.17097549, 14.17097549, 14.17097549, 14.17097549, 14.17097549,\n       14.17097549, 14.17097549, 14.17097549, 14.17097549, 14.17097549,\n       14.17097549, 14.17097549, 14.17097549, 14.17097549, 14.17097549,\n       14.17097549, 14.17097549, 14.17097549, 14.17097549, 14.17097549,\n       14.17097549, 14.17097549, 14.17097549, 14.17097549, 14.17097549,\n       14.17097549, 14.17097549, 14.17097549, 14.17097549, 14.17097549,\n       14.17097549, 14.17097549, 14.17097549, 14.17097549, 14.17097549,\n       14.17097549, 14.17097549, 14.17097549, 14.17097549, 14.17097549,\n       14.17097549, 14.17097549, 14.17097549, 14.17097549, 14.17097549,\n       14.17097549, 14.17097549, 14.17097549, 14.17097549, 14.17097549,\n       14.17097549, 14.17097549, 14.17097549, 14.17097549, 14.17097549,\n       14.17097549, 14.17097549, 14.17097549, 14.17097549, 14.17097549,\n       14.17097549, 14.17097549, 14.17097549, 14.17097549, 14.17097549,\n       14.17097549, 14.17097549, 14.17097549, 14.17097549, 14.17097549,\n       14.17097549, 14.17097549, 14.17097549, 14.17097549, 14.17097549,\n       14.17097549, 14.17097549, 14.17097549, 14.17097549, 14.17097549,\n       14.17097549, 14.17097549, 14.17097549, 14.17097549, 14.17097549,\n       14.17097549, 14.17097549, 14.17097549, 14.17097549, 14.17097549,\n       14.17097549, 14.17097549, 14.17097549, 14.17097549, 14.17097549,\n       14.17097549, 14.17097549, 14.17097549, 14.17097549, 14.17097549,\n       14.17097549, 14.17097549, 14.17097549, 14.17097549, 14.17097549,\n       14.17097549, 14.17097549, 14.17097549, 14.17097549, 14.17097549,\n       14.17097549, 14.17097549, 14.17097549, 14.17097549, 14.17097549,\n       14.17097549, 14.17097549, 14.17097549, 14.17097549, 14.17097549,\n       14.17097549, 14.17097549, 14.17097549, 14.17097549, 14.17097549,\n       14.17097549, 14.17097549, 14.17097549, 14.17097549, 14.17097549,\n       14.17097549, 14.17097549, 14.17097549, 14.17097549, 14.17097549,\n       14.17097549, 14.17097549, 14.17097549, 14.17097549, 14.17097549,\n       14.17097549, 14.17097549, 14.17097549, 14.17097549, 14.17097549,\n       14.17097549, 14.17097549, 14.17097549, 14.17097549, 14.17097549,\n       14.17097549, 14.17097549, 14.17097549, 14.17097549, 14.17097549,\n       14.17097549, 14.17097549, 14.17097549, 14.17097549, 14.17097549,\n       14.17097549, 14.17097549, 14.17097549, 14.17097549, 14.17097549,\n       14.17097549, 14.17097549, 14.17097549, 14.17097549, 14.17097549,\n       14.17097549, 14.17097549, 14.17097549, 14.17097549, 14.17097549,\n       14.17097549, 14.17097549, 14.17097549, 14.17097549, 14.17097549,\n       14.17097549, 14.17097549, 14.17097549, 14.17097549, 14.17097549,\n       14.17097549, 14.17097549, 14.17097549, 14.17097549, 14.17097549,\n       14.17097549, 14.17097549, 14.17097549, 14.17097549, 14.17097549,\n       14.17097549, 14.17097549, 14.17097549, 14.17097549, 14.17097549,\n       14.17097549, 14.17097549, 14.17097549, 14.17097549, 14.17097549,\n       14.17097549, 14.17097549, 14.17097549, 14.17097549, 14.17097549,\n       14.17097549, 14.17097549, 14.17097549, 14.17097549, 14.17097549,\n       14.17097549, 14.17097549, 14.17097549, 14.17097549, 14.17097549,\n       14.17097549, 14.17097549, 14.17097549, 14.17097549, 14.17097549,\n       14.17097549, 14.17097549, 14.17097549, 14.17097549, 14.17097549,\n       14.17097549, 14.17097549, 14.17097549, 14.17097549, 14.17097549,\n       14.17097549, 14.17097549, 14.17097549, 14.17097549, 14.17097549,\n       14.17097549, 14.17097549, 14.17097549, 14.17097549, 14.17097549,\n       14.17097549, 14.17097549, 14.17097549, 14.17097549, 14.17097549,\n       14.17097549, 14.17097549, 14.17097549, 14.17097549, 14.17097549,\n       14.17097549, 14.17097549, 14.17097549, 14.17097549, 14.17097549,\n       14.17097549, 14.17097549, 14.17097549, 14.17097549, 14.17097549,\n       14.17097549, 14.17097549, 14.17097549, 14.17097549, 14.17097549])"
     },
     "execution_count": 109,
     "metadata": {},
     "output_type": "execute_result"
    }
   ],
   "source": [
    "y_pred_dum"
   ],
   "metadata": {
    "collapsed": false,
    "pycharm": {
     "name": "#%%\n"
    }
   }
  },
  {
   "cell_type": "raw",
   "source": [
    "from sklearn.metrics import mean_absolute_error,r2_score,mean_squared_error\n",
    "\n",
    "def run_experiment(model):\n",
    "    model.fit(X_train, y_train)\n",
    "    y_pred = model.predict(X_test)\n",
    "    print(\"R² : \", r2_score(y_test, y_pred))\n",
    "    print(\"MAE :\", mean_absolute_error(y_test,y_pred))\n",
    "    print(\"RMSE:\", np.sqrt(mean_squared_error(y_test, y_pred)))\n",
    "\n",
    "run_experiment(lr)"
   ],
   "metadata": {
    "collapsed": false,
    "pycharm": {
     "name": "#%% raw\n"
    }
   }
  },
  {
   "cell_type": "markdown",
   "source": [
    "#### 2) Linear Model : Ridge"
   ],
   "metadata": {
    "collapsed": false,
    "pycharm": {
     "name": "#%% md\n"
    }
   }
  },
  {
   "cell_type": "raw",
   "source": [
    "n_alphas = 50 #hyperparametre alpha\n",
    "alphas = np.logspace(-5, 5, n_alphas)\n",
    "\n",
    "ridge = linear_model.Ridge()\n",
    "\n",
    "coefs = []\n",
    "errors = []\n",
    "for a in alphas:\n",
    "    ridge.set_params(alpha=a)\n",
    "    ridge.fit(X_train, y_train)\n",
    "    coefs.append(ridge.coef_)\n",
    "    errors.append(np.mean((ridge.predict(X_test) - y_test) ** 2))"
   ],
   "metadata": {
    "collapsed": false,
    "pycharm": {
     "name": "#%% raw\n"
    }
   }
  },
  {
   "cell_type": "raw",
   "source": [
    "# observation du comportement de l'erreur\n",
    "\n",
    "ax = plt.gca()\n",
    "ax.plot(alphas, errors, [10**-5, 10**5], [baseline_error, baseline_error])\n",
    "ax.set_xscale('log')\n",
    "plt.show()"
   ],
   "metadata": {
    "collapsed": false,
    "pycharm": {
     "name": "#%% raw\n"
    }
   }
  },
  {
   "cell_type": "raw",
   "source": [
    "ax = plt.gca()\n",
    "\n",
    "ax.plot(alphas, errors)\n",
    "ax.set_xscale('log')\n",
    "plt.xlabel('alpha')\n",
    "plt.ylabel('error')\n",
    "plt.axis('tight')\n",
    "plt.show()"
   ],
   "metadata": {
    "collapsed": false,
    "pycharm": {
     "name": "#%% raw\n"
    }
   }
  },
  {
   "cell_type": "code",
   "execution_count": 109,
   "outputs": [],
   "source": [],
   "metadata": {
    "collapsed": false,
    "pycharm": {
     "name": "#%%\n"
    }
   }
  },
  {
   "cell_type": "raw",
   "source": [
    "# index du min des erreurs\n",
    "np.argmin(errors)"
   ],
   "metadata": {
    "collapsed": false,
    "pycharm": {
     "name": "#%% raw\n"
    }
   }
  },
  {
   "cell_type": "raw",
   "source": [
    "# recupere l'erreur min\n",
    "errors[np.argmin(errors)]"
   ],
   "metadata": {
    "collapsed": false,
    "pycharm": {
     "name": "#%% raw\n"
    }
   }
  },
  {
   "cell_type": "raw",
   "source": [
    "# recup alpha associé à cet erreur min\n",
    "alphas[np.argmin(errors)]\n",
    "# alphas[35]"
   ],
   "metadata": {
    "collapsed": false,
    "pycharm": {
     "name": "#%% raw\n"
    }
   }
  },
  {
   "cell_type": "raw",
   "source": [
    "# chemin de régularisation\n",
    "ax = plt.gca()\n",
    "ax.plot(alphas, coefs)\n",
    "ax.set_xscale('log')\n",
    "plt.show()"
   ],
   "metadata": {
    "collapsed": false,
    "pycharm": {
     "name": "#%% raw\n"
    }
   }
  },
  {
   "cell_type": "raw",
   "source": [
    "ax = plt.gca()\n",
    "\n",
    "ax.plot(alphas, coefs)\n",
    "ax.set_xscale('log')\n",
    "plt.xlabel('alpha')\n",
    "plt.ylabel('weights')\n",
    "plt.title('Ridge coefficients as a function of the regularization')\n",
    "plt.axis('tight')\n",
    "plt.show()"
   ],
   "metadata": {
    "collapsed": false,
    "pycharm": {
     "name": "#%% raw\n"
    }
   }
  },
  {
   "cell_type": "raw",
   "source": [
    "min(errors)"
   ],
   "metadata": {
    "collapsed": false,
    "pycharm": {
     "name": "#%% raw\n"
    }
   }
  },
  {
   "cell_type": "code",
   "execution_count": 109,
   "outputs": [],
   "source": [],
   "metadata": {
    "collapsed": false,
    "pycharm": {
     "name": "#%%\n"
    }
   }
  },
  {
   "cell_type": "markdown",
   "source": [
    "#### 3) Linear Model : LASSO"
   ],
   "metadata": {
    "collapsed": false,
    "pycharm": {
     "name": "#%% md\n"
    }
   }
  },
  {
   "cell_type": "raw",
   "source": [
    "n_alphas = 1000\n",
    "alphas = np.logspace(-5, 5, 50)\n",
    "\n",
    "lasso = linear_model.Lasso()\n",
    "\n",
    "coefs = []\n",
    "errors = []\n",
    "for a in alphas:\n",
    "    lasso.set_params(alpha=a)\n",
    "    lasso.fit(X_train, y_train)\n",
    "    coefs.append(lasso.coef_)\n",
    "    errors.append(np.mean((lasso.predict(X_test) - y_test) ** 2))"
   ],
   "metadata": {
    "collapsed": false,
    "pycharm": {
     "name": "#%% raw\n"
    }
   }
  },
  {
   "cell_type": "raw",
   "source": [
    "n_alphas = 50\n",
    "alphas = np.logspace(-10, 10, n_alphas)\n",
    "lasso = linear_model.Lasso(fit_intercept=False)\n",
    "\n",
    "\"\"\"\n",
    "fit_intercept : bool, default=True\n",
    "Whether to calculate the intercept for this model. If set to False, no intercept will be used in calculations (i.e. data is expected to be centered).\n",
    "\"\"\"\n",
    "\n",
    "coefs = []\n",
    "errors = []\n",
    "for a in alphas:\n",
    "    lasso.set_params(alpha=a)\n",
    "    lasso.fit(X_train, y_train)\n",
    "    coefs.append(lasso.coef_)\n",
    "    errors.append([baseline_error, np.mean((lasso.predict(X_test) - y_test) ** 2)])"
   ],
   "metadata": {
    "collapsed": false,
    "pycharm": {
     "name": "#%% raw\n"
    }
   }
  },
  {
   "cell_type": "raw",
   "source": [
    "# observation du comportement de l'erreur\n",
    "\n",
    "ax = plt.gca()\n",
    "ax.plot(alphas, errors, [10**-5, 10**5], [baseline_error, baseline_error])\n",
    "ax.set_xscale('log')\n",
    "plt.show()"
   ],
   "metadata": {
    "collapsed": false,
    "pycharm": {
     "name": "#%% raw\n"
    }
   }
  },
  {
   "cell_type": "raw",
   "source": [
    "# recupere l'erreur min\n",
    "errors[np.argmin(errors)]"
   ],
   "metadata": {
    "collapsed": false,
    "pycharm": {
     "name": "#%% raw\n"
    }
   }
  },
  {
   "cell_type": "raw",
   "source": [
    "# recup alpha associé à cet erreur min\n",
    "alphas[np.argmin(errors)]"
   ],
   "metadata": {
    "collapsed": false,
    "pycharm": {
     "name": "#%% raw\n"
    }
   }
  },
  {
   "cell_type": "raw",
   "source": [
    "# chemin de régularisation\n",
    "ax = plt.gca()\n",
    "ax.plot(alphas, coefs)\n",
    "ax.set_xscale('log')\n",
    "plt.show()"
   ],
   "metadata": {
    "collapsed": false,
    "pycharm": {
     "name": "#%% raw\n"
    }
   }
  },
  {
   "cell_type": "raw",
   "source": [
    "ax = plt.gca()\n",
    "\n",
    "ax.plot(alphas, coefs)\n",
    "ax.set_xscale('log')\n",
    "plt.xlabel('alpha')\n",
    "plt.ylabel('weights')\n",
    "plt.axis('tight')\n",
    "plt.show()"
   ],
   "metadata": {
    "collapsed": false,
    "pycharm": {
     "name": "#%% raw\n"
    }
   }
  },
  {
   "cell_type": "raw",
   "source": [
    "import numpy as np\n",
    "\n",
    "X = np.matrix([-0.78768, -1.51760513, 0.74416271, -0.62288928])\n",
    "X = X.T\n",
    "print(X)\n",
    "\n",
    "y = np.matrix([-34.59703199, -30.79543532, 19.31018182, -19.44809959])\n",
    "y = y.T\n",
    "print(y)\n",
    "print(np.linalg.inv(X.T.dot(X)).dot(X.T))\n",
    "beta = np.linalg.inv(X.T.dot(X)).dot(X.T).dot(y)\n",
    "beta"
   ],
   "metadata": {
    "collapsed": false,
    "pycharm": {
     "name": "#%% raw\n"
    }
   }
  },
  {
   "cell_type": "markdown",
   "source": [
    "#### 4) Linear Model : Elastic Net"
   ],
   "metadata": {
    "collapsed": false,
    "pycharm": {
     "name": "#%% md\n"
    }
   }
  },
  {
   "cell_type": "raw",
   "source": [
    "from sklearn.linear_model import ElasticNet\n",
    "\n",
    "#rappel de la fonction de coût du elasticnet\n",
    "#1 / (2 * n_samples) * ||y - Xw||^2_2 + alpha * l1_ratio * ||w||_1 + 0.5 * alpha * (1 - l1_ratio) * ||w||^2_2\n",
    "\n",
    "parameters = {'tol' : [0.1,0.01,0.001,0.0001],\n",
    "              \"alpha\": [0.0001, 0.001, 0.01, 0.1, 1, 10, 100],  #alpha, coef qui multiplie le terme de pénalité)\n",
    "              \"l1_ratio\": np.arange(0.0, 1.0, 0.1)}#L1 ratio , =1 équivaut à un Lasso, 0 à un Ridge\n",
    "\n",
    "\n",
    "elastic_grid = GridSearchCV(estimator = ElasticNet(),\n",
    "                            param_grid = parameters,\n",
    "                            scoring = 'neg_mean_squared_error',\n",
    "                            cv=5,\n",
    "                            verbose=0\n",
    "                            )\n",
    "\n",
    "elastic_grid.fit(X_train, y_train)"
   ],
   "metadata": {
    "collapsed": false,
    "pycharm": {
     "name": "#%% raw\n"
    }
   }
  },
  {
   "cell_type": "raw",
   "source": [
    "elastic_grid.best_params_"
   ],
   "metadata": {
    "collapsed": false,
    "pycharm": {
     "name": "#%% raw\n"
    }
   }
  },
  {
   "cell_type": "markdown",
   "source": [
    "results = pd.DataFrame({})\n",
    "\n",
    "import math\n",
    "results = results.append(pd.DataFrame({\n",
    "    'Modèle' : ['Elasticnet Regression'],\n",
    "    'Score_RMSE' : [math.sqrt(mean_squared_error(elastic_grid.predict(X_test), y_test))]}),\n",
    "    ignore_index=True)"
   ],
   "metadata": {
    "collapsed": false,
    "pycharm": {
     "name": "#%% md\n"
    }
   }
  },
  {
   "cell_type": "markdown",
   "source": [
    "### 2) Ensemble learning methods"
   ],
   "metadata": {
    "collapsed": false,
    "pycharm": {
     "name": "#%% md\n"
    }
   }
  },
  {
   "cell_type": "markdown",
   "source": [
    "#### 1) Parallelized Implementation : Random Forest"
   ],
   "metadata": {
    "collapsed": false,
    "pycharm": {
     "name": "#%% md\n"
    }
   }
  },
  {
   "cell_type": "code",
   "execution_count": 110,
   "outputs": [],
   "source": [
    "from sklearn.ensemble import RandomForestRegressor\n",
    "\n",
    "rfr = RandomForestRegressor(n_estimators=1000) # nb of trees 1000 for the forest"
   ],
   "metadata": {
    "collapsed": false,
    "pycharm": {
     "name": "#%%\n"
    }
   }
  },
  {
   "cell_type": "code",
   "execution_count": 111,
   "outputs": [
    {
     "data": {
      "text/plain": "      Log-NumberofFloors  Log-PropertyGFATotal  Log-PropertyGFAParking  \\\n1                  -0.78                 -0.90                   -0.42   \n2                  -0.28                 -0.94                   -0.42   \n3                   2.16                  0.34                   -0.42   \n4                  -0.28                 -0.50                    1.96   \n5                   0.12                 -0.42                   -0.42   \n...                  ...                   ...                     ...   \n3124                0.44                 -0.06                   -0.42   \n3125               -0.78                 -0.58                   -0.42   \n3126               -0.28                 -0.33                    2.04   \n3128                0.44                 -0.59                    1.92   \n3129               -0.78                 -1.18                   -0.42   \n\n      Log-SecondLargestPropertyUseTypeGFA  Log-ThirdLargestPropertyUseTypeGFA  \\\n1                                    0.94                                2.02   \n2                                   -0.94                               -0.44   \n3                                   -0.94                               -0.44   \n4                                    0.79                               -0.44   \n5                                   -0.94                               -0.44   \n...                                   ...                                 ...   \n3124                                -0.94                               -0.44   \n3125                                 1.03                                1.79   \n3126                                 1.04                                2.37   \n3128                                 0.94                                1.80   \n3129                                 0.92                               -0.44   \n\n      BuildingType_Campus  BuildingType_Multifamily HR (10+)  \\\n1                    0.00                               0.00   \n2                    0.00                               0.00   \n3                    0.00                               1.00   \n4                    0.00                               0.00   \n5                    0.00                               0.00   \n...                   ...                                ...   \n3124                 0.00                               0.00   \n3125                 0.00                               0.00   \n3126                 0.00                               0.00   \n3128                 0.00                               0.00   \n3129                 0.00                               0.00   \n\n      BuildingType_Multifamily LR (1-4)  BuildingType_Multifamily MR (5-9)  \\\n1                                  0.00                               0.00   \n2                                  1.00                               0.00   \n3                                  0.00                               0.00   \n4                                  1.00                               0.00   \n5                                  0.00                               0.00   \n...                                 ...                                ...   \n3124                               0.00                               1.00   \n3125                               0.00                               0.00   \n3126                               0.00                               0.00   \n3128                               0.00                               0.00   \n3129                               0.00                               0.00   \n\n      BuildingType_NonResidential  ...  Neighborhood_downtown  \\\n1                            1.00  ...                   0.00   \n2                            0.00  ...                   0.00   \n3                            0.00  ...                   0.00   \n4                            0.00  ...                   0.00   \n5                            1.00  ...                   0.00   \n...                           ...  ...                    ...   \n3124                         0.00  ...                   0.00   \n3125                         1.00  ...                   0.00   \n3126                         1.00  ...                   0.00   \n3128                         1.00  ...                   0.00   \n3129                         1.00  ...                   0.00   \n\n      Neighborhood_east  Neighborhood_greater duwamish  \\\n1                  0.00                           1.00   \n2                  0.00                           1.00   \n3                  0.00                           1.00   \n4                  0.00                           1.00   \n5                  0.00                           0.00   \n...                 ...                            ...   \n3124               1.00                           0.00   \n3125               0.00                           0.00   \n3126               0.00                           0.00   \n3128               0.00                           0.00   \n3129               0.00                           0.00   \n\n      Neighborhood_lake union  Neighborhood_magnolia / queen anne  \\\n1                        0.00                                0.00   \n2                        0.00                                0.00   \n3                        0.00                                0.00   \n4                        0.00                                0.00   \n5                        0.00                                0.00   \n...                       ...                                 ...   \n3124                     0.00                                0.00   \n3125                     1.00                                0.00   \n3126                     1.00                                0.00   \n3128                     1.00                                0.00   \n3129                     1.00                                0.00   \n\n      Neighborhood_north  Neighborhood_northeast  Neighborhood_northwest  \\\n1                   0.00                    0.00                    0.00   \n2                   0.00                    0.00                    0.00   \n3                   0.00                    0.00                    0.00   \n4                   0.00                    0.00                    0.00   \n5                   0.00                    1.00                    0.00   \n...                  ...                     ...                     ...   \n3124                0.00                    0.00                    0.00   \n3125                0.00                    0.00                    0.00   \n3126                0.00                    0.00                    0.00   \n3128                0.00                    0.00                    0.00   \n3129                0.00                    0.00                    0.00   \n\n      Neighborhood_southeast  Neighborhood_southwest  \n1                       0.00                    0.00  \n2                       0.00                    0.00  \n3                       0.00                    0.00  \n4                       0.00                    0.00  \n5                       0.00                    0.00  \n...                      ...                     ...  \n3124                    0.00                    0.00  \n3125                    0.00                    0.00  \n3126                    0.00                    0.00  \n3128                    0.00                    0.00  \n3129                    0.00                    0.00  \n\n[2191 rows x 49 columns]",
      "text/html": "<div>\n<style scoped>\n    .dataframe tbody tr th:only-of-type {\n        vertical-align: middle;\n    }\n\n    .dataframe tbody tr th {\n        vertical-align: top;\n    }\n\n    .dataframe thead th {\n        text-align: right;\n    }\n</style>\n<table border=\"1\" class=\"dataframe\">\n  <thead>\n    <tr style=\"text-align: right;\">\n      <th></th>\n      <th>Log-NumberofFloors</th>\n      <th>Log-PropertyGFATotal</th>\n      <th>Log-PropertyGFAParking</th>\n      <th>Log-SecondLargestPropertyUseTypeGFA</th>\n      <th>Log-ThirdLargestPropertyUseTypeGFA</th>\n      <th>BuildingType_Campus</th>\n      <th>BuildingType_Multifamily HR (10+)</th>\n      <th>BuildingType_Multifamily LR (1-4)</th>\n      <th>BuildingType_Multifamily MR (5-9)</th>\n      <th>BuildingType_NonResidential</th>\n      <th>...</th>\n      <th>Neighborhood_downtown</th>\n      <th>Neighborhood_east</th>\n      <th>Neighborhood_greater duwamish</th>\n      <th>Neighborhood_lake union</th>\n      <th>Neighborhood_magnolia / queen anne</th>\n      <th>Neighborhood_north</th>\n      <th>Neighborhood_northeast</th>\n      <th>Neighborhood_northwest</th>\n      <th>Neighborhood_southeast</th>\n      <th>Neighborhood_southwest</th>\n    </tr>\n  </thead>\n  <tbody>\n    <tr>\n      <th>1</th>\n      <td>-0.78</td>\n      <td>-0.90</td>\n      <td>-0.42</td>\n      <td>0.94</td>\n      <td>2.02</td>\n      <td>0.00</td>\n      <td>0.00</td>\n      <td>0.00</td>\n      <td>0.00</td>\n      <td>1.00</td>\n      <td>...</td>\n      <td>0.00</td>\n      <td>0.00</td>\n      <td>1.00</td>\n      <td>0.00</td>\n      <td>0.00</td>\n      <td>0.00</td>\n      <td>0.00</td>\n      <td>0.00</td>\n      <td>0.00</td>\n      <td>0.00</td>\n    </tr>\n    <tr>\n      <th>2</th>\n      <td>-0.28</td>\n      <td>-0.94</td>\n      <td>-0.42</td>\n      <td>-0.94</td>\n      <td>-0.44</td>\n      <td>0.00</td>\n      <td>0.00</td>\n      <td>1.00</td>\n      <td>0.00</td>\n      <td>0.00</td>\n      <td>...</td>\n      <td>0.00</td>\n      <td>0.00</td>\n      <td>1.00</td>\n      <td>0.00</td>\n      <td>0.00</td>\n      <td>0.00</td>\n      <td>0.00</td>\n      <td>0.00</td>\n      <td>0.00</td>\n      <td>0.00</td>\n    </tr>\n    <tr>\n      <th>3</th>\n      <td>2.16</td>\n      <td>0.34</td>\n      <td>-0.42</td>\n      <td>-0.94</td>\n      <td>-0.44</td>\n      <td>0.00</td>\n      <td>1.00</td>\n      <td>0.00</td>\n      <td>0.00</td>\n      <td>0.00</td>\n      <td>...</td>\n      <td>0.00</td>\n      <td>0.00</td>\n      <td>1.00</td>\n      <td>0.00</td>\n      <td>0.00</td>\n      <td>0.00</td>\n      <td>0.00</td>\n      <td>0.00</td>\n      <td>0.00</td>\n      <td>0.00</td>\n    </tr>\n    <tr>\n      <th>4</th>\n      <td>-0.28</td>\n      <td>-0.50</td>\n      <td>1.96</td>\n      <td>0.79</td>\n      <td>-0.44</td>\n      <td>0.00</td>\n      <td>0.00</td>\n      <td>1.00</td>\n      <td>0.00</td>\n      <td>0.00</td>\n      <td>...</td>\n      <td>0.00</td>\n      <td>0.00</td>\n      <td>1.00</td>\n      <td>0.00</td>\n      <td>0.00</td>\n      <td>0.00</td>\n      <td>0.00</td>\n      <td>0.00</td>\n      <td>0.00</td>\n      <td>0.00</td>\n    </tr>\n    <tr>\n      <th>5</th>\n      <td>0.12</td>\n      <td>-0.42</td>\n      <td>-0.42</td>\n      <td>-0.94</td>\n      <td>-0.44</td>\n      <td>0.00</td>\n      <td>0.00</td>\n      <td>0.00</td>\n      <td>0.00</td>\n      <td>1.00</td>\n      <td>...</td>\n      <td>0.00</td>\n      <td>0.00</td>\n      <td>0.00</td>\n      <td>0.00</td>\n      <td>0.00</td>\n      <td>0.00</td>\n      <td>1.00</td>\n      <td>0.00</td>\n      <td>0.00</td>\n      <td>0.00</td>\n    </tr>\n    <tr>\n      <th>...</th>\n      <td>...</td>\n      <td>...</td>\n      <td>...</td>\n      <td>...</td>\n      <td>...</td>\n      <td>...</td>\n      <td>...</td>\n      <td>...</td>\n      <td>...</td>\n      <td>...</td>\n      <td>...</td>\n      <td>...</td>\n      <td>...</td>\n      <td>...</td>\n      <td>...</td>\n      <td>...</td>\n      <td>...</td>\n      <td>...</td>\n      <td>...</td>\n      <td>...</td>\n      <td>...</td>\n    </tr>\n    <tr>\n      <th>3124</th>\n      <td>0.44</td>\n      <td>-0.06</td>\n      <td>-0.42</td>\n      <td>-0.94</td>\n      <td>-0.44</td>\n      <td>0.00</td>\n      <td>0.00</td>\n      <td>0.00</td>\n      <td>1.00</td>\n      <td>0.00</td>\n      <td>...</td>\n      <td>0.00</td>\n      <td>1.00</td>\n      <td>0.00</td>\n      <td>0.00</td>\n      <td>0.00</td>\n      <td>0.00</td>\n      <td>0.00</td>\n      <td>0.00</td>\n      <td>0.00</td>\n      <td>0.00</td>\n    </tr>\n    <tr>\n      <th>3125</th>\n      <td>-0.78</td>\n      <td>-0.58</td>\n      <td>-0.42</td>\n      <td>1.03</td>\n      <td>1.79</td>\n      <td>0.00</td>\n      <td>0.00</td>\n      <td>0.00</td>\n      <td>0.00</td>\n      <td>1.00</td>\n      <td>...</td>\n      <td>0.00</td>\n      <td>0.00</td>\n      <td>0.00</td>\n      <td>1.00</td>\n      <td>0.00</td>\n      <td>0.00</td>\n      <td>0.00</td>\n      <td>0.00</td>\n      <td>0.00</td>\n      <td>0.00</td>\n    </tr>\n    <tr>\n      <th>3126</th>\n      <td>-0.28</td>\n      <td>-0.33</td>\n      <td>2.04</td>\n      <td>1.04</td>\n      <td>2.37</td>\n      <td>0.00</td>\n      <td>0.00</td>\n      <td>0.00</td>\n      <td>0.00</td>\n      <td>1.00</td>\n      <td>...</td>\n      <td>0.00</td>\n      <td>0.00</td>\n      <td>0.00</td>\n      <td>1.00</td>\n      <td>0.00</td>\n      <td>0.00</td>\n      <td>0.00</td>\n      <td>0.00</td>\n      <td>0.00</td>\n      <td>0.00</td>\n    </tr>\n    <tr>\n      <th>3128</th>\n      <td>0.44</td>\n      <td>-0.59</td>\n      <td>1.92</td>\n      <td>0.94</td>\n      <td>1.80</td>\n      <td>0.00</td>\n      <td>0.00</td>\n      <td>0.00</td>\n      <td>0.00</td>\n      <td>1.00</td>\n      <td>...</td>\n      <td>0.00</td>\n      <td>0.00</td>\n      <td>0.00</td>\n      <td>1.00</td>\n      <td>0.00</td>\n      <td>0.00</td>\n      <td>0.00</td>\n      <td>0.00</td>\n      <td>0.00</td>\n      <td>0.00</td>\n    </tr>\n    <tr>\n      <th>3129</th>\n      <td>-0.78</td>\n      <td>-1.18</td>\n      <td>-0.42</td>\n      <td>0.92</td>\n      <td>-0.44</td>\n      <td>0.00</td>\n      <td>0.00</td>\n      <td>0.00</td>\n      <td>0.00</td>\n      <td>1.00</td>\n      <td>...</td>\n      <td>0.00</td>\n      <td>0.00</td>\n      <td>0.00</td>\n      <td>1.00</td>\n      <td>0.00</td>\n      <td>0.00</td>\n      <td>0.00</td>\n      <td>0.00</td>\n      <td>0.00</td>\n      <td>0.00</td>\n    </tr>\n  </tbody>\n</table>\n<p>2191 rows × 49 columns</p>\n</div>"
     },
     "execution_count": 111,
     "metadata": {},
     "output_type": "execute_result"
    }
   ],
   "source": [
    "X_train"
   ],
   "metadata": {
    "collapsed": false,
    "pycharm": {
     "name": "#%%\n"
    }
   }
  },
  {
   "cell_type": "code",
   "execution_count": 112,
   "outputs": [],
   "source": [
    "rfr = rfr.fit(X_train.values, y_train)"
   ],
   "metadata": {
    "collapsed": false,
    "pycharm": {
     "name": "#%%\n"
    }
   }
  },
  {
   "cell_type": "code",
   "execution_count": 113,
   "outputs": [
    {
     "name": "stdout",
     "output_type": "stream",
     "text": [
      "accuracy -0.15 time 0.32s\n"
     ]
    }
   ],
   "source": [
    "import timeit\n",
    "\n",
    "start_time = timeit.default_timer()\n",
    "y_pred_rfr = rfr.predict(X_test.values)\n",
    "elapsed = timeit.default_timer() - start_time\n",
    "accuracy = rfr.score(X_test.values, y_test)\n",
    "print(\"accuracy {:.2f} time {:.2f}s\".format(accuracy, elapsed))"
   ],
   "metadata": {
    "collapsed": false,
    "pycharm": {
     "name": "#%%\n"
    }
   }
  },
  {
   "cell_type": "code",
   "execution_count": 114,
   "outputs": [
    {
     "name": "stdout",
     "output_type": "stream",
     "text": [
      "Prediction for :  Log-Electricity(kBtu)\n"
     ]
    },
    {
     "data": {
      "text/plain": "                     Model  RMSE  MAE  MSE    R²\n0          Dummy Regressor  1.17 0.91 1.36 -0.00\n0        Linear Regression  1.17 0.91 1.37 -0.01\n0  Random Forest Regressor  1.25 0.97 1.57 -0.15",
      "text/html": "<div>\n<style scoped>\n    .dataframe tbody tr th:only-of-type {\n        vertical-align: middle;\n    }\n\n    .dataframe tbody tr th {\n        vertical-align: top;\n    }\n\n    .dataframe thead th {\n        text-align: right;\n    }\n</style>\n<table border=\"1\" class=\"dataframe\">\n  <thead>\n    <tr style=\"text-align: right;\">\n      <th></th>\n      <th>Model</th>\n      <th>RMSE</th>\n      <th>MAE</th>\n      <th>MSE</th>\n      <th>R²</th>\n    </tr>\n  </thead>\n  <tbody>\n    <tr>\n      <th>0</th>\n      <td>Dummy Regressor</td>\n      <td>1.17</td>\n      <td>0.91</td>\n      <td>1.36</td>\n      <td>-0.00</td>\n    </tr>\n    <tr>\n      <th>0</th>\n      <td>Linear Regression</td>\n      <td>1.17</td>\n      <td>0.91</td>\n      <td>1.37</td>\n      <td>-0.01</td>\n    </tr>\n    <tr>\n      <th>0</th>\n      <td>Random Forest Regressor</td>\n      <td>1.25</td>\n      <td>0.97</td>\n      <td>1.57</td>\n      <td>-0.15</td>\n    </tr>\n  </tbody>\n</table>\n</div>"
     },
     "metadata": {},
     "output_type": "display_data"
    },
    {
     "name": "stdout",
     "output_type": "stream",
     "text": [
      "If the prediction was good, we would see a line which is not the case here .\n"
     ]
    },
    {
     "data": {
      "text/plain": "<Figure size 432x288 with 1 Axes>",
      "image/png": "[encoded data removed]"
     },
     "metadata": {
      "needs_background": "light"
     },
     "output_type": "display_data"
    }
   ],
   "source": [
    "results = evaluate_regression(\"Random Forest Regressor\", results, y_test, y_pred_rfr)"
   ],
   "metadata": {
    "collapsed": false,
    "pycharm": {
     "name": "#%%\n"
    }
   }
  },
  {
   "cell_type": "code",
   "execution_count": 115,
   "outputs": [],
   "source": [
    "from sklearn.ensemble import RandomForestRegressor\n",
    "\n",
    "parameters = {\n",
    "    'n_estimators' : [10,50,100,300,500], #nombre d'arbres de décision\n",
    "    'min_samples_leaf' : [1,3,5,10], #nombre de feuilles minimales dans un noeud\n",
    "    'max_features': ['auto', 'sqrt'] #nombre de features observées pour chaque arbre\n",
    "}"
   ],
   "metadata": {
    "collapsed": false,
    "pycharm": {
     "name": "#%%\n"
    }
   }
  },
  {
   "cell_type": "code",
   "execution_count": 116,
   "outputs": [
    {
     "name": "stdout",
     "output_type": "stream",
     "text": [
      "Fitting 5 folds for each of 40 candidates, totalling 200 fits\n",
      "[CV] END max_features=auto, min_samples_leaf=1, n_estimators=10; total time=   0.0s\n",
      "[CV] END max_features=auto, min_samples_leaf=1, n_estimators=10; total time=   0.0s\n"
     ]
    },
    {
     "name": "stderr",
     "output_type": "stream",
     "text": [
      "C:\\Users\\athen\\Anaconda3\\envs\\P4_OC\\lib\\site-packages\\sklearn\\ensemble\\_forest.py:416: FutureWarning: `max_features='auto'` has been deprecated in 1.1 and will be removed in 1.3. To keep the past behaviour, explicitly set `max_features=1.0` or remove this parameter as it is also the default value for RandomForestRegressors and ExtraTreesRegressors.\n",
      "  warn(\n",
      "C:\\Users\\athen\\Anaconda3\\envs\\P4_OC\\lib\\site-packages\\sklearn\\ensemble\\_forest.py:416: FutureWarning: `max_features='auto'` has been deprecated in 1.1 and will be removed in 1.3. To keep the past behaviour, explicitly set `max_features=1.0` or remove this parameter as it is also the default value for RandomForestRegressors and ExtraTreesRegressors.\n",
      "  warn(\n",
      "C:\\Users\\athen\\Anaconda3\\envs\\P4_OC\\lib\\site-packages\\sklearn\\ensemble\\_forest.py:416: FutureWarning: `max_features='auto'` has been deprecated in 1.1 and will be removed in 1.3. To keep the past behaviour, explicitly set `max_features=1.0` or remove this parameter as it is also the default value for RandomForestRegressors and ExtraTreesRegressors.\n",
      "  warn(\n",
      "C:\\Users\\athen\\Anaconda3\\envs\\P4_OC\\lib\\site-packages\\sklearn\\ensemble\\_forest.py:416: FutureWarning: `max_features='auto'` has been deprecated in 1.1 and will be removed in 1.3. To keep the past behaviour, explicitly set `max_features=1.0` or remove this parameter as it is also the default value for RandomForestRegressors and ExtraTreesRegressors.\n",
      "  warn(\n"
     ]
    },
    {
     "name": "stdout",
     "output_type": "stream",
     "text": [
      "[CV] END max_features=auto, min_samples_leaf=1, n_estimators=10; total time=   0.0s\n",
      "[CV] END max_features=auto, min_samples_leaf=1, n_estimators=10; total time=   0.0s\n",
      "[CV] END max_features=auto, min_samples_leaf=1, n_estimators=10; total time=   0.0s\n"
     ]
    },
    {
     "name": "stderr",
     "output_type": "stream",
     "text": [
      "C:\\Users\\athen\\Anaconda3\\envs\\P4_OC\\lib\\site-packages\\sklearn\\ensemble\\_forest.py:416: FutureWarning: `max_features='auto'` has been deprecated in 1.1 and will be removed in 1.3. To keep the past behaviour, explicitly set `max_features=1.0` or remove this parameter as it is also the default value for RandomForestRegressors and ExtraTreesRegressors.\n",
      "  warn(\n",
      "C:\\Users\\athen\\Anaconda3\\envs\\P4_OC\\lib\\site-packages\\sklearn\\ensemble\\_forest.py:416: FutureWarning: `max_features='auto'` has been deprecated in 1.1 and will be removed in 1.3. To keep the past behaviour, explicitly set `max_features=1.0` or remove this parameter as it is also the default value for RandomForestRegressors and ExtraTreesRegressors.\n",
      "  warn(\n"
     ]
    },
    {
     "name": "stdout",
     "output_type": "stream",
     "text": [
      "[CV] END max_features=auto, min_samples_leaf=1, n_estimators=50; total time=   0.4s\n"
     ]
    },
    {
     "name": "stderr",
     "output_type": "stream",
     "text": [
      "C:\\Users\\athen\\Anaconda3\\envs\\P4_OC\\lib\\site-packages\\sklearn\\ensemble\\_forest.py:416: FutureWarning: `max_features='auto'` has been deprecated in 1.1 and will be removed in 1.3. To keep the past behaviour, explicitly set `max_features=1.0` or remove this parameter as it is also the default value for RandomForestRegressors and ExtraTreesRegressors.\n",
      "  warn(\n"
     ]
    },
    {
     "name": "stdout",
     "output_type": "stream",
     "text": [
      "[CV] END max_features=auto, min_samples_leaf=1, n_estimators=50; total time=   0.4s\n"
     ]
    },
    {
     "name": "stderr",
     "output_type": "stream",
     "text": [
      "C:\\Users\\athen\\Anaconda3\\envs\\P4_OC\\lib\\site-packages\\sklearn\\ensemble\\_forest.py:416: FutureWarning: `max_features='auto'` has been deprecated in 1.1 and will be removed in 1.3. To keep the past behaviour, explicitly set `max_features=1.0` or remove this parameter as it is also the default value for RandomForestRegressors and ExtraTreesRegressors.\n",
      "  warn(\n"
     ]
    },
    {
     "name": "stdout",
     "output_type": "stream",
     "text": [
      "[CV] END max_features=auto, min_samples_leaf=1, n_estimators=50; total time=   0.5s\n"
     ]
    },
    {
     "name": "stderr",
     "output_type": "stream",
     "text": [
      "C:\\Users\\athen\\Anaconda3\\envs\\P4_OC\\lib\\site-packages\\sklearn\\ensemble\\_forest.py:416: FutureWarning: `max_features='auto'` has been deprecated in 1.1 and will be removed in 1.3. To keep the past behaviour, explicitly set `max_features=1.0` or remove this parameter as it is also the default value for RandomForestRegressors and ExtraTreesRegressors.\n",
      "  warn(\n"
     ]
    },
    {
     "name": "stdout",
     "output_type": "stream",
     "text": [
      "[CV] END max_features=auto, min_samples_leaf=1, n_estimators=50; total time=   0.3s\n"
     ]
    },
    {
     "name": "stderr",
     "output_type": "stream",
     "text": [
      "C:\\Users\\athen\\Anaconda3\\envs\\P4_OC\\lib\\site-packages\\sklearn\\ensemble\\_forest.py:416: FutureWarning: `max_features='auto'` has been deprecated in 1.1 and will be removed in 1.3. To keep the past behaviour, explicitly set `max_features=1.0` or remove this parameter as it is also the default value for RandomForestRegressors and ExtraTreesRegressors.\n",
      "  warn(\n"
     ]
    },
    {
     "name": "stdout",
     "output_type": "stream",
     "text": [
      "[CV] END max_features=auto, min_samples_leaf=1, n_estimators=50; total time=   0.4s\n"
     ]
    },
    {
     "name": "stderr",
     "output_type": "stream",
     "text": [
      "C:\\Users\\athen\\Anaconda3\\envs\\P4_OC\\lib\\site-packages\\sklearn\\ensemble\\_forest.py:416: FutureWarning: `max_features='auto'` has been deprecated in 1.1 and will be removed in 1.3. To keep the past behaviour, explicitly set `max_features=1.0` or remove this parameter as it is also the default value for RandomForestRegressors and ExtraTreesRegressors.\n",
      "  warn(\n"
     ]
    },
    {
     "name": "stdout",
     "output_type": "stream",
     "text": [
      "[CV] END max_features=auto, min_samples_leaf=1, n_estimators=100; total time=   0.9s\n"
     ]
    },
    {
     "name": "stderr",
     "output_type": "stream",
     "text": [
      "C:\\Users\\athen\\Anaconda3\\envs\\P4_OC\\lib\\site-packages\\sklearn\\ensemble\\_forest.py:416: FutureWarning: `max_features='auto'` has been deprecated in 1.1 and will be removed in 1.3. To keep the past behaviour, explicitly set `max_features=1.0` or remove this parameter as it is also the default value for RandomForestRegressors and ExtraTreesRegressors.\n",
      "  warn(\n"
     ]
    },
    {
     "name": "stdout",
     "output_type": "stream",
     "text": [
      "[CV] END max_features=auto, min_samples_leaf=1, n_estimators=100; total time=   0.9s\n"
     ]
    },
    {
     "name": "stderr",
     "output_type": "stream",
     "text": [
      "C:\\Users\\athen\\Anaconda3\\envs\\P4_OC\\lib\\site-packages\\sklearn\\ensemble\\_forest.py:416: FutureWarning: `max_features='auto'` has been deprecated in 1.1 and will be removed in 1.3. To keep the past behaviour, explicitly set `max_features=1.0` or remove this parameter as it is also the default value for RandomForestRegressors and ExtraTreesRegressors.\n",
      "  warn(\n"
     ]
    },
    {
     "name": "stdout",
     "output_type": "stream",
     "text": [
      "[CV] END max_features=auto, min_samples_leaf=1, n_estimators=100; total time=   0.9s\n"
     ]
    },
    {
     "name": "stderr",
     "output_type": "stream",
     "text": [
      "C:\\Users\\athen\\Anaconda3\\envs\\P4_OC\\lib\\site-packages\\sklearn\\ensemble\\_forest.py:416: FutureWarning: `max_features='auto'` has been deprecated in 1.1 and will be removed in 1.3. To keep the past behaviour, explicitly set `max_features=1.0` or remove this parameter as it is also the default value for RandomForestRegressors and ExtraTreesRegressors.\n",
      "  warn(\n"
     ]
    },
    {
     "name": "stdout",
     "output_type": "stream",
     "text": [
      "[CV] END max_features=auto, min_samples_leaf=1, n_estimators=100; total time=   0.9s\n"
     ]
    },
    {
     "name": "stderr",
     "output_type": "stream",
     "text": [
      "C:\\Users\\athen\\Anaconda3\\envs\\P4_OC\\lib\\site-packages\\sklearn\\ensemble\\_forest.py:416: FutureWarning: `max_features='auto'` has been deprecated in 1.1 and will be removed in 1.3. To keep the past behaviour, explicitly set `max_features=1.0` or remove this parameter as it is also the default value for RandomForestRegressors and ExtraTreesRegressors.\n",
      "  warn(\n"
     ]
    },
    {
     "name": "stdout",
     "output_type": "stream",
     "text": [
      "[CV] END max_features=auto, min_samples_leaf=1, n_estimators=100; total time=   0.8s\n"
     ]
    },
    {
     "name": "stderr",
     "output_type": "stream",
     "text": [
      "C:\\Users\\athen\\Anaconda3\\envs\\P4_OC\\lib\\site-packages\\sklearn\\ensemble\\_forest.py:416: FutureWarning: `max_features='auto'` has been deprecated in 1.1 and will be removed in 1.3. To keep the past behaviour, explicitly set `max_features=1.0` or remove this parameter as it is also the default value for RandomForestRegressors and ExtraTreesRegressors.\n",
      "  warn(\n"
     ]
    },
    {
     "name": "stdout",
     "output_type": "stream",
     "text": [
      "[CV] END max_features=auto, min_samples_leaf=1, n_estimators=300; total time=   2.5s\n"
     ]
    },
    {
     "name": "stderr",
     "output_type": "stream",
     "text": [
      "C:\\Users\\athen\\Anaconda3\\envs\\P4_OC\\lib\\site-packages\\sklearn\\ensemble\\_forest.py:416: FutureWarning: `max_features='auto'` has been deprecated in 1.1 and will be removed in 1.3. To keep the past behaviour, explicitly set `max_features=1.0` or remove this parameter as it is also the default value for RandomForestRegressors and ExtraTreesRegressors.\n",
      "  warn(\n"
     ]
    },
    {
     "name": "stdout",
     "output_type": "stream",
     "text": [
      "[CV] END max_features=auto, min_samples_leaf=1, n_estimators=300; total time=   2.8s\n"
     ]
    },
    {
     "name": "stderr",
     "output_type": "stream",
     "text": [
      "C:\\Users\\athen\\Anaconda3\\envs\\P4_OC\\lib\\site-packages\\sklearn\\ensemble\\_forest.py:416: FutureWarning: `max_features='auto'` has been deprecated in 1.1 and will be removed in 1.3. To keep the past behaviour, explicitly set `max_features=1.0` or remove this parameter as it is also the default value for RandomForestRegressors and ExtraTreesRegressors.\n",
      "  warn(\n"
     ]
    },
    {
     "name": "stdout",
     "output_type": "stream",
     "text": [
      "[CV] END max_features=auto, min_samples_leaf=1, n_estimators=300; total time=   2.6s\n"
     ]
    },
    {
     "name": "stderr",
     "output_type": "stream",
     "text": [
      "C:\\Users\\athen\\Anaconda3\\envs\\P4_OC\\lib\\site-packages\\sklearn\\ensemble\\_forest.py:416: FutureWarning: `max_features='auto'` has been deprecated in 1.1 and will be removed in 1.3. To keep the past behaviour, explicitly set `max_features=1.0` or remove this parameter as it is also the default value for RandomForestRegressors and ExtraTreesRegressors.\n",
      "  warn(\n"
     ]
    },
    {
     "name": "stdout",
     "output_type": "stream",
     "text": [
      "[CV] END max_features=auto, min_samples_leaf=1, n_estimators=300; total time=   2.4s\n"
     ]
    },
    {
     "name": "stderr",
     "output_type": "stream",
     "text": [
      "C:\\Users\\athen\\Anaconda3\\envs\\P4_OC\\lib\\site-packages\\sklearn\\ensemble\\_forest.py:416: FutureWarning: `max_features='auto'` has been deprecated in 1.1 and will be removed in 1.3. To keep the past behaviour, explicitly set `max_features=1.0` or remove this parameter as it is also the default value for RandomForestRegressors and ExtraTreesRegressors.\n",
      "  warn(\n"
     ]
    },
    {
     "name": "stdout",
     "output_type": "stream",
     "text": [
      "[CV] END max_features=auto, min_samples_leaf=1, n_estimators=300; total time=   2.5s\n"
     ]
    },
    {
     "name": "stderr",
     "output_type": "stream",
     "text": [
      "C:\\Users\\athen\\Anaconda3\\envs\\P4_OC\\lib\\site-packages\\sklearn\\ensemble\\_forest.py:416: FutureWarning: `max_features='auto'` has been deprecated in 1.1 and will be removed in 1.3. To keep the past behaviour, explicitly set `max_features=1.0` or remove this parameter as it is also the default value for RandomForestRegressors and ExtraTreesRegressors.\n",
      "  warn(\n"
     ]
    },
    {
     "name": "stdout",
     "output_type": "stream",
     "text": [
      "[CV] END max_features=auto, min_samples_leaf=1, n_estimators=500; total time=   4.3s\n"
     ]
    },
    {
     "name": "stderr",
     "output_type": "stream",
     "text": [
      "C:\\Users\\athen\\Anaconda3\\envs\\P4_OC\\lib\\site-packages\\sklearn\\ensemble\\_forest.py:416: FutureWarning: `max_features='auto'` has been deprecated in 1.1 and will be removed in 1.3. To keep the past behaviour, explicitly set `max_features=1.0` or remove this parameter as it is also the default value for RandomForestRegressors and ExtraTreesRegressors.\n",
      "  warn(\n"
     ]
    },
    {
     "name": "stdout",
     "output_type": "stream",
     "text": [
      "[CV] END max_features=auto, min_samples_leaf=1, n_estimators=500; total time=   4.3s\n"
     ]
    },
    {
     "name": "stderr",
     "output_type": "stream",
     "text": [
      "C:\\Users\\athen\\Anaconda3\\envs\\P4_OC\\lib\\site-packages\\sklearn\\ensemble\\_forest.py:416: FutureWarning: `max_features='auto'` has been deprecated in 1.1 and will be removed in 1.3. To keep the past behaviour, explicitly set `max_features=1.0` or remove this parameter as it is also the default value for RandomForestRegressors and ExtraTreesRegressors.\n",
      "  warn(\n"
     ]
    },
    {
     "name": "stdout",
     "output_type": "stream",
     "text": [
      "[CV] END max_features=auto, min_samples_leaf=1, n_estimators=500; total time=   4.2s\n"
     ]
    },
    {
     "name": "stderr",
     "output_type": "stream",
     "text": [
      "C:\\Users\\athen\\Anaconda3\\envs\\P4_OC\\lib\\site-packages\\sklearn\\ensemble\\_forest.py:416: FutureWarning: `max_features='auto'` has been deprecated in 1.1 and will be removed in 1.3. To keep the past behaviour, explicitly set `max_features=1.0` or remove this parameter as it is also the default value for RandomForestRegressors and ExtraTreesRegressors.\n",
      "  warn(\n"
     ]
    },
    {
     "name": "stdout",
     "output_type": "stream",
     "text": [
      "[CV] END max_features=auto, min_samples_leaf=1, n_estimators=500; total time=   4.2s\n"
     ]
    },
    {
     "name": "stderr",
     "output_type": "stream",
     "text": [
      "C:\\Users\\athen\\Anaconda3\\envs\\P4_OC\\lib\\site-packages\\sklearn\\ensemble\\_forest.py:416: FutureWarning: `max_features='auto'` has been deprecated in 1.1 and will be removed in 1.3. To keep the past behaviour, explicitly set `max_features=1.0` or remove this parameter as it is also the default value for RandomForestRegressors and ExtraTreesRegressors.\n",
      "  warn(\n"
     ]
    },
    {
     "name": "stdout",
     "output_type": "stream",
     "text": [
      "[CV] END max_features=auto, min_samples_leaf=1, n_estimators=500; total time=   4.2s\n",
      "[CV] END max_features=auto, min_samples_leaf=3, n_estimators=10; total time=   0.0s\n",
      "[CV] END max_features=auto, min_samples_leaf=3, n_estimators=10; total time=   0.0s\n"
     ]
    },
    {
     "name": "stderr",
     "output_type": "stream",
     "text": [
      "C:\\Users\\athen\\Anaconda3\\envs\\P4_OC\\lib\\site-packages\\sklearn\\ensemble\\_forest.py:416: FutureWarning: `max_features='auto'` has been deprecated in 1.1 and will be removed in 1.3. To keep the past behaviour, explicitly set `max_features=1.0` or remove this parameter as it is also the default value for RandomForestRegressors and ExtraTreesRegressors.\n",
      "  warn(\n",
      "C:\\Users\\athen\\Anaconda3\\envs\\P4_OC\\lib\\site-packages\\sklearn\\ensemble\\_forest.py:416: FutureWarning: `max_features='auto'` has been deprecated in 1.1 and will be removed in 1.3. To keep the past behaviour, explicitly set `max_features=1.0` or remove this parameter as it is also the default value for RandomForestRegressors and ExtraTreesRegressors.\n",
      "  warn(\n",
      "C:\\Users\\athen\\Anaconda3\\envs\\P4_OC\\lib\\site-packages\\sklearn\\ensemble\\_forest.py:416: FutureWarning: `max_features='auto'` has been deprecated in 1.1 and will be removed in 1.3. To keep the past behaviour, explicitly set `max_features=1.0` or remove this parameter as it is also the default value for RandomForestRegressors and ExtraTreesRegressors.\n",
      "  warn(\n"
     ]
    },
    {
     "name": "stdout",
     "output_type": "stream",
     "text": [
      "[CV] END max_features=auto, min_samples_leaf=3, n_estimators=10; total time=   0.0s\n",
      "[CV] END max_features=auto, min_samples_leaf=3, n_estimators=10; total time=   0.0s\n",
      "[CV] END max_features=auto, min_samples_leaf=3, n_estimators=10; total time=   0.0s\n"
     ]
    },
    {
     "name": "stderr",
     "output_type": "stream",
     "text": [
      "C:\\Users\\athen\\Anaconda3\\envs\\P4_OC\\lib\\site-packages\\sklearn\\ensemble\\_forest.py:416: FutureWarning: `max_features='auto'` has been deprecated in 1.1 and will be removed in 1.3. To keep the past behaviour, explicitly set `max_features=1.0` or remove this parameter as it is also the default value for RandomForestRegressors and ExtraTreesRegressors.\n",
      "  warn(\n",
      "C:\\Users\\athen\\Anaconda3\\envs\\P4_OC\\lib\\site-packages\\sklearn\\ensemble\\_forest.py:416: FutureWarning: `max_features='auto'` has been deprecated in 1.1 and will be removed in 1.3. To keep the past behaviour, explicitly set `max_features=1.0` or remove this parameter as it is also the default value for RandomForestRegressors and ExtraTreesRegressors.\n",
      "  warn(\n",
      "C:\\Users\\athen\\Anaconda3\\envs\\P4_OC\\lib\\site-packages\\sklearn\\ensemble\\_forest.py:416: FutureWarning: `max_features='auto'` has been deprecated in 1.1 and will be removed in 1.3. To keep the past behaviour, explicitly set `max_features=1.0` or remove this parameter as it is also the default value for RandomForestRegressors and ExtraTreesRegressors.\n",
      "  warn(\n"
     ]
    },
    {
     "name": "stdout",
     "output_type": "stream",
     "text": [
      "[CV] END max_features=auto, min_samples_leaf=3, n_estimators=50; total time=   0.2s\n"
     ]
    },
    {
     "name": "stderr",
     "output_type": "stream",
     "text": [
      "C:\\Users\\athen\\Anaconda3\\envs\\P4_OC\\lib\\site-packages\\sklearn\\ensemble\\_forest.py:416: FutureWarning: `max_features='auto'` has been deprecated in 1.1 and will be removed in 1.3. To keep the past behaviour, explicitly set `max_features=1.0` or remove this parameter as it is also the default value for RandomForestRegressors and ExtraTreesRegressors.\n",
      "  warn(\n"
     ]
    },
    {
     "name": "stdout",
     "output_type": "stream",
     "text": [
      "[CV] END max_features=auto, min_samples_leaf=3, n_estimators=50; total time=   0.3s\n"
     ]
    },
    {
     "name": "stderr",
     "output_type": "stream",
     "text": [
      "C:\\Users\\athen\\Anaconda3\\envs\\P4_OC\\lib\\site-packages\\sklearn\\ensemble\\_forest.py:416: FutureWarning: `max_features='auto'` has been deprecated in 1.1 and will be removed in 1.3. To keep the past behaviour, explicitly set `max_features=1.0` or remove this parameter as it is also the default value for RandomForestRegressors and ExtraTreesRegressors.\n",
      "  warn(\n"
     ]
    },
    {
     "name": "stdout",
     "output_type": "stream",
     "text": [
      "[CV] END max_features=auto, min_samples_leaf=3, n_estimators=50; total time=   0.2s\n"
     ]
    },
    {
     "name": "stderr",
     "output_type": "stream",
     "text": [
      "C:\\Users\\athen\\Anaconda3\\envs\\P4_OC\\lib\\site-packages\\sklearn\\ensemble\\_forest.py:416: FutureWarning: `max_features='auto'` has been deprecated in 1.1 and will be removed in 1.3. To keep the past behaviour, explicitly set `max_features=1.0` or remove this parameter as it is also the default value for RandomForestRegressors and ExtraTreesRegressors.\n",
      "  warn(\n"
     ]
    },
    {
     "name": "stdout",
     "output_type": "stream",
     "text": [
      "[CV] END max_features=auto, min_samples_leaf=3, n_estimators=50; total time=   0.2s\n"
     ]
    },
    {
     "name": "stderr",
     "output_type": "stream",
     "text": [
      "C:\\Users\\athen\\Anaconda3\\envs\\P4_OC\\lib\\site-packages\\sklearn\\ensemble\\_forest.py:416: FutureWarning: `max_features='auto'` has been deprecated in 1.1 and will be removed in 1.3. To keep the past behaviour, explicitly set `max_features=1.0` or remove this parameter as it is also the default value for RandomForestRegressors and ExtraTreesRegressors.\n",
      "  warn(\n"
     ]
    },
    {
     "name": "stdout",
     "output_type": "stream",
     "text": [
      "[CV] END max_features=auto, min_samples_leaf=3, n_estimators=50; total time=   0.2s\n"
     ]
    },
    {
     "name": "stderr",
     "output_type": "stream",
     "text": [
      "C:\\Users\\athen\\Anaconda3\\envs\\P4_OC\\lib\\site-packages\\sklearn\\ensemble\\_forest.py:416: FutureWarning: `max_features='auto'` has been deprecated in 1.1 and will be removed in 1.3. To keep the past behaviour, explicitly set `max_features=1.0` or remove this parameter as it is also the default value for RandomForestRegressors and ExtraTreesRegressors.\n",
      "  warn(\n"
     ]
    },
    {
     "name": "stdout",
     "output_type": "stream",
     "text": [
      "[CV] END max_features=auto, min_samples_leaf=3, n_estimators=100; total time=   0.6s\n"
     ]
    },
    {
     "name": "stderr",
     "output_type": "stream",
     "text": [
      "C:\\Users\\athen\\Anaconda3\\envs\\P4_OC\\lib\\site-packages\\sklearn\\ensemble\\_forest.py:416: FutureWarning: `max_features='auto'` has been deprecated in 1.1 and will be removed in 1.3. To keep the past behaviour, explicitly set `max_features=1.0` or remove this parameter as it is also the default value for RandomForestRegressors and ExtraTreesRegressors.\n",
      "  warn(\n"
     ]
    },
    {
     "name": "stdout",
     "output_type": "stream",
     "text": [
      "[CV] END max_features=auto, min_samples_leaf=3, n_estimators=100; total time=   0.7s\n"
     ]
    },
    {
     "name": "stderr",
     "output_type": "stream",
     "text": [
      "C:\\Users\\athen\\Anaconda3\\envs\\P4_OC\\lib\\site-packages\\sklearn\\ensemble\\_forest.py:416: FutureWarning: `max_features='auto'` has been deprecated in 1.1 and will be removed in 1.3. To keep the past behaviour, explicitly set `max_features=1.0` or remove this parameter as it is also the default value for RandomForestRegressors and ExtraTreesRegressors.\n",
      "  warn(\n"
     ]
    },
    {
     "name": "stdout",
     "output_type": "stream",
     "text": [
      "[CV] END max_features=auto, min_samples_leaf=3, n_estimators=100; total time=   0.6s\n"
     ]
    },
    {
     "name": "stderr",
     "output_type": "stream",
     "text": [
      "C:\\Users\\athen\\Anaconda3\\envs\\P4_OC\\lib\\site-packages\\sklearn\\ensemble\\_forest.py:416: FutureWarning: `max_features='auto'` has been deprecated in 1.1 and will be removed in 1.3. To keep the past behaviour, explicitly set `max_features=1.0` or remove this parameter as it is also the default value for RandomForestRegressors and ExtraTreesRegressors.\n",
      "  warn(\n"
     ]
    },
    {
     "name": "stdout",
     "output_type": "stream",
     "text": [
      "[CV] END max_features=auto, min_samples_leaf=3, n_estimators=100; total time=   0.7s\n"
     ]
    },
    {
     "name": "stderr",
     "output_type": "stream",
     "text": [
      "C:\\Users\\athen\\Anaconda3\\envs\\P4_OC\\lib\\site-packages\\sklearn\\ensemble\\_forest.py:416: FutureWarning: `max_features='auto'` has been deprecated in 1.1 and will be removed in 1.3. To keep the past behaviour, explicitly set `max_features=1.0` or remove this parameter as it is also the default value for RandomForestRegressors and ExtraTreesRegressors.\n",
      "  warn(\n"
     ]
    },
    {
     "name": "stdout",
     "output_type": "stream",
     "text": [
      "[CV] END max_features=auto, min_samples_leaf=3, n_estimators=100; total time=   0.6s\n"
     ]
    },
    {
     "name": "stderr",
     "output_type": "stream",
     "text": [
      "C:\\Users\\athen\\Anaconda3\\envs\\P4_OC\\lib\\site-packages\\sklearn\\ensemble\\_forest.py:416: FutureWarning: `max_features='auto'` has been deprecated in 1.1 and will be removed in 1.3. To keep the past behaviour, explicitly set `max_features=1.0` or remove this parameter as it is also the default value for RandomForestRegressors and ExtraTreesRegressors.\n",
      "  warn(\n"
     ]
    },
    {
     "name": "stdout",
     "output_type": "stream",
     "text": [
      "[CV] END max_features=auto, min_samples_leaf=3, n_estimators=300; total time=   2.0s\n"
     ]
    },
    {
     "name": "stderr",
     "output_type": "stream",
     "text": [
      "C:\\Users\\athen\\Anaconda3\\envs\\P4_OC\\lib\\site-packages\\sklearn\\ensemble\\_forest.py:416: FutureWarning: `max_features='auto'` has been deprecated in 1.1 and will be removed in 1.3. To keep the past behaviour, explicitly set `max_features=1.0` or remove this parameter as it is also the default value for RandomForestRegressors and ExtraTreesRegressors.\n",
      "  warn(\n"
     ]
    },
    {
     "name": "stdout",
     "output_type": "stream",
     "text": [
      "[CV] END max_features=auto, min_samples_leaf=3, n_estimators=300; total time=   1.9s\n"
     ]
    },
    {
     "name": "stderr",
     "output_type": "stream",
     "text": [
      "C:\\Users\\athen\\Anaconda3\\envs\\P4_OC\\lib\\site-packages\\sklearn\\ensemble\\_forest.py:416: FutureWarning: `max_features='auto'` has been deprecated in 1.1 and will be removed in 1.3. To keep the past behaviour, explicitly set `max_features=1.0` or remove this parameter as it is also the default value for RandomForestRegressors and ExtraTreesRegressors.\n",
      "  warn(\n"
     ]
    },
    {
     "name": "stdout",
     "output_type": "stream",
     "text": [
      "[CV] END max_features=auto, min_samples_leaf=3, n_estimators=300; total time=   1.9s\n"
     ]
    },
    {
     "name": "stderr",
     "output_type": "stream",
     "text": [
      "C:\\Users\\athen\\Anaconda3\\envs\\P4_OC\\lib\\site-packages\\sklearn\\ensemble\\_forest.py:416: FutureWarning: `max_features='auto'` has been deprecated in 1.1 and will be removed in 1.3. To keep the past behaviour, explicitly set `max_features=1.0` or remove this parameter as it is also the default value for RandomForestRegressors and ExtraTreesRegressors.\n",
      "  warn(\n"
     ]
    },
    {
     "name": "stdout",
     "output_type": "stream",
     "text": [
      "[CV] END max_features=auto, min_samples_leaf=3, n_estimators=300; total time=   2.0s\n"
     ]
    },
    {
     "name": "stderr",
     "output_type": "stream",
     "text": [
      "C:\\Users\\athen\\Anaconda3\\envs\\P4_OC\\lib\\site-packages\\sklearn\\ensemble\\_forest.py:416: FutureWarning: `max_features='auto'` has been deprecated in 1.1 and will be removed in 1.3. To keep the past behaviour, explicitly set `max_features=1.0` or remove this parameter as it is also the default value for RandomForestRegressors and ExtraTreesRegressors.\n",
      "  warn(\n"
     ]
    },
    {
     "name": "stdout",
     "output_type": "stream",
     "text": [
      "[CV] END max_features=auto, min_samples_leaf=3, n_estimators=300; total time=   1.9s\n"
     ]
    },
    {
     "name": "stderr",
     "output_type": "stream",
     "text": [
      "C:\\Users\\athen\\Anaconda3\\envs\\P4_OC\\lib\\site-packages\\sklearn\\ensemble\\_forest.py:416: FutureWarning: `max_features='auto'` has been deprecated in 1.1 and will be removed in 1.3. To keep the past behaviour, explicitly set `max_features=1.0` or remove this parameter as it is also the default value for RandomForestRegressors and ExtraTreesRegressors.\n",
      "  warn(\n"
     ]
    },
    {
     "name": "stdout",
     "output_type": "stream",
     "text": [
      "[CV] END max_features=auto, min_samples_leaf=3, n_estimators=500; total time=   3.0s\n"
     ]
    },
    {
     "name": "stderr",
     "output_type": "stream",
     "text": [
      "C:\\Users\\athen\\Anaconda3\\envs\\P4_OC\\lib\\site-packages\\sklearn\\ensemble\\_forest.py:416: FutureWarning: `max_features='auto'` has been deprecated in 1.1 and will be removed in 1.3. To keep the past behaviour, explicitly set `max_features=1.0` or remove this parameter as it is also the default value for RandomForestRegressors and ExtraTreesRegressors.\n",
      "  warn(\n"
     ]
    },
    {
     "name": "stdout",
     "output_type": "stream",
     "text": [
      "[CV] END max_features=auto, min_samples_leaf=3, n_estimators=500; total time=   3.7s\n"
     ]
    },
    {
     "name": "stderr",
     "output_type": "stream",
     "text": [
      "C:\\Users\\athen\\Anaconda3\\envs\\P4_OC\\lib\\site-packages\\sklearn\\ensemble\\_forest.py:416: FutureWarning: `max_features='auto'` has been deprecated in 1.1 and will be removed in 1.3. To keep the past behaviour, explicitly set `max_features=1.0` or remove this parameter as it is also the default value for RandomForestRegressors and ExtraTreesRegressors.\n",
      "  warn(\n"
     ]
    },
    {
     "name": "stdout",
     "output_type": "stream",
     "text": [
      "[CV] END max_features=auto, min_samples_leaf=3, n_estimators=500; total time=   3.2s\n"
     ]
    },
    {
     "name": "stderr",
     "output_type": "stream",
     "text": [
      "C:\\Users\\athen\\Anaconda3\\envs\\P4_OC\\lib\\site-packages\\sklearn\\ensemble\\_forest.py:416: FutureWarning: `max_features='auto'` has been deprecated in 1.1 and will be removed in 1.3. To keep the past behaviour, explicitly set `max_features=1.0` or remove this parameter as it is also the default value for RandomForestRegressors and ExtraTreesRegressors.\n",
      "  warn(\n"
     ]
    },
    {
     "name": "stdout",
     "output_type": "stream",
     "text": [
      "[CV] END max_features=auto, min_samples_leaf=3, n_estimators=500; total time=   3.2s\n"
     ]
    },
    {
     "name": "stderr",
     "output_type": "stream",
     "text": [
      "C:\\Users\\athen\\Anaconda3\\envs\\P4_OC\\lib\\site-packages\\sklearn\\ensemble\\_forest.py:416: FutureWarning: `max_features='auto'` has been deprecated in 1.1 and will be removed in 1.3. To keep the past behaviour, explicitly set `max_features=1.0` or remove this parameter as it is also the default value for RandomForestRegressors and ExtraTreesRegressors.\n",
      "  warn(\n"
     ]
    },
    {
     "name": "stdout",
     "output_type": "stream",
     "text": [
      "[CV] END max_features=auto, min_samples_leaf=3, n_estimators=500; total time=   3.5s\n",
      "[CV] END max_features=auto, min_samples_leaf=5, n_estimators=10; total time=   0.0s\n",
      "[CV] END max_features=auto, min_samples_leaf=5, n_estimators=10; total time=   0.0s\n",
      "[CV] END max_features=auto, min_samples_leaf=5, n_estimators=10; total time=   0.0s\n"
     ]
    },
    {
     "name": "stderr",
     "output_type": "stream",
     "text": [
      "C:\\Users\\athen\\Anaconda3\\envs\\P4_OC\\lib\\site-packages\\sklearn\\ensemble\\_forest.py:416: FutureWarning: `max_features='auto'` has been deprecated in 1.1 and will be removed in 1.3. To keep the past behaviour, explicitly set `max_features=1.0` or remove this parameter as it is also the default value for RandomForestRegressors and ExtraTreesRegressors.\n",
      "  warn(\n",
      "C:\\Users\\athen\\Anaconda3\\envs\\P4_OC\\lib\\site-packages\\sklearn\\ensemble\\_forest.py:416: FutureWarning: `max_features='auto'` has been deprecated in 1.1 and will be removed in 1.3. To keep the past behaviour, explicitly set `max_features=1.0` or remove this parameter as it is also the default value for RandomForestRegressors and ExtraTreesRegressors.\n",
      "  warn(\n",
      "C:\\Users\\athen\\Anaconda3\\envs\\P4_OC\\lib\\site-packages\\sklearn\\ensemble\\_forest.py:416: FutureWarning: `max_features='auto'` has been deprecated in 1.1 and will be removed in 1.3. To keep the past behaviour, explicitly set `max_features=1.0` or remove this parameter as it is also the default value for RandomForestRegressors and ExtraTreesRegressors.\n",
      "  warn(\n",
      "C:\\Users\\athen\\Anaconda3\\envs\\P4_OC\\lib\\site-packages\\sklearn\\ensemble\\_forest.py:416: FutureWarning: `max_features='auto'` has been deprecated in 1.1 and will be removed in 1.3. To keep the past behaviour, explicitly set `max_features=1.0` or remove this parameter as it is also the default value for RandomForestRegressors and ExtraTreesRegressors.\n",
      "  warn(\n",
      "C:\\Users\\athen\\Anaconda3\\envs\\P4_OC\\lib\\site-packages\\sklearn\\ensemble\\_forest.py:416: FutureWarning: `max_features='auto'` has been deprecated in 1.1 and will be removed in 1.3. To keep the past behaviour, explicitly set `max_features=1.0` or remove this parameter as it is also the default value for RandomForestRegressors and ExtraTreesRegressors.\n",
      "  warn(\n",
      "C:\\Users\\athen\\Anaconda3\\envs\\P4_OC\\lib\\site-packages\\sklearn\\ensemble\\_forest.py:416: FutureWarning: `max_features='auto'` has been deprecated in 1.1 and will be removed in 1.3. To keep the past behaviour, explicitly set `max_features=1.0` or remove this parameter as it is also the default value for RandomForestRegressors and ExtraTreesRegressors.\n",
      "  warn(\n"
     ]
    },
    {
     "name": "stdout",
     "output_type": "stream",
     "text": [
      "[CV] END max_features=auto, min_samples_leaf=5, n_estimators=10; total time=   0.0s\n",
      "[CV] END max_features=auto, min_samples_leaf=5, n_estimators=10; total time=   0.0s\n",
      "[CV] END max_features=auto, min_samples_leaf=5, n_estimators=50; total time=   0.2s\n"
     ]
    },
    {
     "name": "stderr",
     "output_type": "stream",
     "text": [
      "C:\\Users\\athen\\Anaconda3\\envs\\P4_OC\\lib\\site-packages\\sklearn\\ensemble\\_forest.py:416: FutureWarning: `max_features='auto'` has been deprecated in 1.1 and will be removed in 1.3. To keep the past behaviour, explicitly set `max_features=1.0` or remove this parameter as it is also the default value for RandomForestRegressors and ExtraTreesRegressors.\n",
      "  warn(\n"
     ]
    },
    {
     "name": "stdout",
     "output_type": "stream",
     "text": [
      "[CV] END max_features=auto, min_samples_leaf=5, n_estimators=50; total time=   0.2s\n"
     ]
    },
    {
     "name": "stderr",
     "output_type": "stream",
     "text": [
      "C:\\Users\\athen\\Anaconda3\\envs\\P4_OC\\lib\\site-packages\\sklearn\\ensemble\\_forest.py:416: FutureWarning: `max_features='auto'` has been deprecated in 1.1 and will be removed in 1.3. To keep the past behaviour, explicitly set `max_features=1.0` or remove this parameter as it is also the default value for RandomForestRegressors and ExtraTreesRegressors.\n",
      "  warn(\n"
     ]
    },
    {
     "name": "stdout",
     "output_type": "stream",
     "text": [
      "[CV] END max_features=auto, min_samples_leaf=5, n_estimators=50; total time=   0.2s\n"
     ]
    },
    {
     "name": "stderr",
     "output_type": "stream",
     "text": [
      "C:\\Users\\athen\\Anaconda3\\envs\\P4_OC\\lib\\site-packages\\sklearn\\ensemble\\_forest.py:416: FutureWarning: `max_features='auto'` has been deprecated in 1.1 and will be removed in 1.3. To keep the past behaviour, explicitly set `max_features=1.0` or remove this parameter as it is also the default value for RandomForestRegressors and ExtraTreesRegressors.\n",
      "  warn(\n"
     ]
    },
    {
     "name": "stdout",
     "output_type": "stream",
     "text": [
      "[CV] END max_features=auto, min_samples_leaf=5, n_estimators=50; total time=   0.2s\n"
     ]
    },
    {
     "name": "stderr",
     "output_type": "stream",
     "text": [
      "C:\\Users\\athen\\Anaconda3\\envs\\P4_OC\\lib\\site-packages\\sklearn\\ensemble\\_forest.py:416: FutureWarning: `max_features='auto'` has been deprecated in 1.1 and will be removed in 1.3. To keep the past behaviour, explicitly set `max_features=1.0` or remove this parameter as it is also the default value for RandomForestRegressors and ExtraTreesRegressors.\n",
      "  warn(\n"
     ]
    },
    {
     "name": "stdout",
     "output_type": "stream",
     "text": [
      "[CV] END max_features=auto, min_samples_leaf=5, n_estimators=50; total time=   0.2s\n"
     ]
    },
    {
     "name": "stderr",
     "output_type": "stream",
     "text": [
      "C:\\Users\\athen\\Anaconda3\\envs\\P4_OC\\lib\\site-packages\\sklearn\\ensemble\\_forest.py:416: FutureWarning: `max_features='auto'` has been deprecated in 1.1 and will be removed in 1.3. To keep the past behaviour, explicitly set `max_features=1.0` or remove this parameter as it is also the default value for RandomForestRegressors and ExtraTreesRegressors.\n",
      "  warn(\n"
     ]
    },
    {
     "name": "stdout",
     "output_type": "stream",
     "text": [
      "[CV] END max_features=auto, min_samples_leaf=5, n_estimators=100; total time=   0.5s\n"
     ]
    },
    {
     "name": "stderr",
     "output_type": "stream",
     "text": [
      "C:\\Users\\athen\\Anaconda3\\envs\\P4_OC\\lib\\site-packages\\sklearn\\ensemble\\_forest.py:416: FutureWarning: `max_features='auto'` has been deprecated in 1.1 and will be removed in 1.3. To keep the past behaviour, explicitly set `max_features=1.0` or remove this parameter as it is also the default value for RandomForestRegressors and ExtraTreesRegressors.\n",
      "  warn(\n"
     ]
    },
    {
     "name": "stdout",
     "output_type": "stream",
     "text": [
      "[CV] END max_features=auto, min_samples_leaf=5, n_estimators=100; total time=   0.5s\n"
     ]
    },
    {
     "name": "stderr",
     "output_type": "stream",
     "text": [
      "C:\\Users\\athen\\Anaconda3\\envs\\P4_OC\\lib\\site-packages\\sklearn\\ensemble\\_forest.py:416: FutureWarning: `max_features='auto'` has been deprecated in 1.1 and will be removed in 1.3. To keep the past behaviour, explicitly set `max_features=1.0` or remove this parameter as it is also the default value for RandomForestRegressors and ExtraTreesRegressors.\n",
      "  warn(\n"
     ]
    },
    {
     "name": "stdout",
     "output_type": "stream",
     "text": [
      "[CV] END max_features=auto, min_samples_leaf=5, n_estimators=100; total time=   0.5s\n"
     ]
    },
    {
     "name": "stderr",
     "output_type": "stream",
     "text": [
      "C:\\Users\\athen\\Anaconda3\\envs\\P4_OC\\lib\\site-packages\\sklearn\\ensemble\\_forest.py:416: FutureWarning: `max_features='auto'` has been deprecated in 1.1 and will be removed in 1.3. To keep the past behaviour, explicitly set `max_features=1.0` or remove this parameter as it is also the default value for RandomForestRegressors and ExtraTreesRegressors.\n",
      "  warn(\n"
     ]
    },
    {
     "name": "stdout",
     "output_type": "stream",
     "text": [
      "[CV] END max_features=auto, min_samples_leaf=5, n_estimators=100; total time=   0.5s\n"
     ]
    },
    {
     "name": "stderr",
     "output_type": "stream",
     "text": [
      "C:\\Users\\athen\\Anaconda3\\envs\\P4_OC\\lib\\site-packages\\sklearn\\ensemble\\_forest.py:416: FutureWarning: `max_features='auto'` has been deprecated in 1.1 and will be removed in 1.3. To keep the past behaviour, explicitly set `max_features=1.0` or remove this parameter as it is also the default value for RandomForestRegressors and ExtraTreesRegressors.\n",
      "  warn(\n"
     ]
    },
    {
     "name": "stdout",
     "output_type": "stream",
     "text": [
      "[CV] END max_features=auto, min_samples_leaf=5, n_estimators=100; total time=   0.5s\n"
     ]
    },
    {
     "name": "stderr",
     "output_type": "stream",
     "text": [
      "C:\\Users\\athen\\Anaconda3\\envs\\P4_OC\\lib\\site-packages\\sklearn\\ensemble\\_forest.py:416: FutureWarning: `max_features='auto'` has been deprecated in 1.1 and will be removed in 1.3. To keep the past behaviour, explicitly set `max_features=1.0` or remove this parameter as it is also the default value for RandomForestRegressors and ExtraTreesRegressors.\n",
      "  warn(\n"
     ]
    },
    {
     "name": "stdout",
     "output_type": "stream",
     "text": [
      "[CV] END max_features=auto, min_samples_leaf=5, n_estimators=300; total time=   1.9s\n"
     ]
    },
    {
     "name": "stderr",
     "output_type": "stream",
     "text": [
      "C:\\Users\\athen\\Anaconda3\\envs\\P4_OC\\lib\\site-packages\\sklearn\\ensemble\\_forest.py:416: FutureWarning: `max_features='auto'` has been deprecated in 1.1 and will be removed in 1.3. To keep the past behaviour, explicitly set `max_features=1.0` or remove this parameter as it is also the default value for RandomForestRegressors and ExtraTreesRegressors.\n",
      "  warn(\n"
     ]
    },
    {
     "name": "stdout",
     "output_type": "stream",
     "text": [
      "[CV] END max_features=auto, min_samples_leaf=5, n_estimators=300; total time=   1.7s\n"
     ]
    },
    {
     "name": "stderr",
     "output_type": "stream",
     "text": [
      "C:\\Users\\athen\\Anaconda3\\envs\\P4_OC\\lib\\site-packages\\sklearn\\ensemble\\_forest.py:416: FutureWarning: `max_features='auto'` has been deprecated in 1.1 and will be removed in 1.3. To keep the past behaviour, explicitly set `max_features=1.0` or remove this parameter as it is also the default value for RandomForestRegressors and ExtraTreesRegressors.\n",
      "  warn(\n"
     ]
    },
    {
     "name": "stdout",
     "output_type": "stream",
     "text": [
      "[CV] END max_features=auto, min_samples_leaf=5, n_estimators=300; total time=   1.5s\n"
     ]
    },
    {
     "name": "stderr",
     "output_type": "stream",
     "text": [
      "C:\\Users\\athen\\Anaconda3\\envs\\P4_OC\\lib\\site-packages\\sklearn\\ensemble\\_forest.py:416: FutureWarning: `max_features='auto'` has been deprecated in 1.1 and will be removed in 1.3. To keep the past behaviour, explicitly set `max_features=1.0` or remove this parameter as it is also the default value for RandomForestRegressors and ExtraTreesRegressors.\n",
      "  warn(\n"
     ]
    },
    {
     "name": "stdout",
     "output_type": "stream",
     "text": [
      "[CV] END max_features=auto, min_samples_leaf=5, n_estimators=300; total time=   1.5s\n"
     ]
    },
    {
     "name": "stderr",
     "output_type": "stream",
     "text": [
      "C:\\Users\\athen\\Anaconda3\\envs\\P4_OC\\lib\\site-packages\\sklearn\\ensemble\\_forest.py:416: FutureWarning: `max_features='auto'` has been deprecated in 1.1 and will be removed in 1.3. To keep the past behaviour, explicitly set `max_features=1.0` or remove this parameter as it is also the default value for RandomForestRegressors and ExtraTreesRegressors.\n",
      "  warn(\n"
     ]
    },
    {
     "name": "stdout",
     "output_type": "stream",
     "text": [
      "[CV] END max_features=auto, min_samples_leaf=5, n_estimators=300; total time=   1.7s\n"
     ]
    },
    {
     "name": "stderr",
     "output_type": "stream",
     "text": [
      "C:\\Users\\athen\\Anaconda3\\envs\\P4_OC\\lib\\site-packages\\sklearn\\ensemble\\_forest.py:416: FutureWarning: `max_features='auto'` has been deprecated in 1.1 and will be removed in 1.3. To keep the past behaviour, explicitly set `max_features=1.0` or remove this parameter as it is also the default value for RandomForestRegressors and ExtraTreesRegressors.\n",
      "  warn(\n"
     ]
    },
    {
     "name": "stdout",
     "output_type": "stream",
     "text": [
      "[CV] END max_features=auto, min_samples_leaf=5, n_estimators=500; total time=   3.2s\n"
     ]
    },
    {
     "name": "stderr",
     "output_type": "stream",
     "text": [
      "C:\\Users\\athen\\Anaconda3\\envs\\P4_OC\\lib\\site-packages\\sklearn\\ensemble\\_forest.py:416: FutureWarning: `max_features='auto'` has been deprecated in 1.1 and will be removed in 1.3. To keep the past behaviour, explicitly set `max_features=1.0` or remove this parameter as it is also the default value for RandomForestRegressors and ExtraTreesRegressors.\n",
      "  warn(\n"
     ]
    },
    {
     "name": "stdout",
     "output_type": "stream",
     "text": [
      "[CV] END max_features=auto, min_samples_leaf=5, n_estimators=500; total time=   2.8s\n"
     ]
    },
    {
     "name": "stderr",
     "output_type": "stream",
     "text": [
      "C:\\Users\\athen\\Anaconda3\\envs\\P4_OC\\lib\\site-packages\\sklearn\\ensemble\\_forest.py:416: FutureWarning: `max_features='auto'` has been deprecated in 1.1 and will be removed in 1.3. To keep the past behaviour, explicitly set `max_features=1.0` or remove this parameter as it is also the default value for RandomForestRegressors and ExtraTreesRegressors.\n",
      "  warn(\n"
     ]
    },
    {
     "name": "stdout",
     "output_type": "stream",
     "text": [
      "[CV] END max_features=auto, min_samples_leaf=5, n_estimators=500; total time=   2.8s\n"
     ]
    },
    {
     "name": "stderr",
     "output_type": "stream",
     "text": [
      "C:\\Users\\athen\\Anaconda3\\envs\\P4_OC\\lib\\site-packages\\sklearn\\ensemble\\_forest.py:416: FutureWarning: `max_features='auto'` has been deprecated in 1.1 and will be removed in 1.3. To keep the past behaviour, explicitly set `max_features=1.0` or remove this parameter as it is also the default value for RandomForestRegressors and ExtraTreesRegressors.\n",
      "  warn(\n"
     ]
    },
    {
     "name": "stdout",
     "output_type": "stream",
     "text": [
      "[CV] END max_features=auto, min_samples_leaf=5, n_estimators=500; total time=   2.9s\n"
     ]
    },
    {
     "name": "stderr",
     "output_type": "stream",
     "text": [
      "C:\\Users\\athen\\Anaconda3\\envs\\P4_OC\\lib\\site-packages\\sklearn\\ensemble\\_forest.py:416: FutureWarning: `max_features='auto'` has been deprecated in 1.1 and will be removed in 1.3. To keep the past behaviour, explicitly set `max_features=1.0` or remove this parameter as it is also the default value for RandomForestRegressors and ExtraTreesRegressors.\n",
      "  warn(\n"
     ]
    },
    {
     "name": "stdout",
     "output_type": "stream",
     "text": [
      "[CV] END max_features=auto, min_samples_leaf=5, n_estimators=500; total time=   2.8s\n",
      "[CV] END max_features=auto, min_samples_leaf=10, n_estimators=10; total time=   0.0s\n",
      "[CV] END max_features=auto, min_samples_leaf=10, n_estimators=10; total time=   0.0s\n",
      "[CV] END max_features=auto, min_samples_leaf=10, n_estimators=10; total time=   0.0s\n",
      "[CV] END max_features=auto, min_samples_leaf=10, n_estimators=10; total time=   0.0s\n"
     ]
    },
    {
     "name": "stderr",
     "output_type": "stream",
     "text": [
      "C:\\Users\\athen\\Anaconda3\\envs\\P4_OC\\lib\\site-packages\\sklearn\\ensemble\\_forest.py:416: FutureWarning: `max_features='auto'` has been deprecated in 1.1 and will be removed in 1.3. To keep the past behaviour, explicitly set `max_features=1.0` or remove this parameter as it is also the default value for RandomForestRegressors and ExtraTreesRegressors.\n",
      "  warn(\n",
      "C:\\Users\\athen\\Anaconda3\\envs\\P4_OC\\lib\\site-packages\\sklearn\\ensemble\\_forest.py:416: FutureWarning: `max_features='auto'` has been deprecated in 1.1 and will be removed in 1.3. To keep the past behaviour, explicitly set `max_features=1.0` or remove this parameter as it is also the default value for RandomForestRegressors and ExtraTreesRegressors.\n",
      "  warn(\n",
      "C:\\Users\\athen\\Anaconda3\\envs\\P4_OC\\lib\\site-packages\\sklearn\\ensemble\\_forest.py:416: FutureWarning: `max_features='auto'` has been deprecated in 1.1 and will be removed in 1.3. To keep the past behaviour, explicitly set `max_features=1.0` or remove this parameter as it is also the default value for RandomForestRegressors and ExtraTreesRegressors.\n",
      "  warn(\n",
      "C:\\Users\\athen\\Anaconda3\\envs\\P4_OC\\lib\\site-packages\\sklearn\\ensemble\\_forest.py:416: FutureWarning: `max_features='auto'` has been deprecated in 1.1 and will be removed in 1.3. To keep the past behaviour, explicitly set `max_features=1.0` or remove this parameter as it is also the default value for RandomForestRegressors and ExtraTreesRegressors.\n",
      "  warn(\n",
      "C:\\Users\\athen\\Anaconda3\\envs\\P4_OC\\lib\\site-packages\\sklearn\\ensemble\\_forest.py:416: FutureWarning: `max_features='auto'` has been deprecated in 1.1 and will be removed in 1.3. To keep the past behaviour, explicitly set `max_features=1.0` or remove this parameter as it is also the default value for RandomForestRegressors and ExtraTreesRegressors.\n",
      "  warn(\n",
      "C:\\Users\\athen\\Anaconda3\\envs\\P4_OC\\lib\\site-packages\\sklearn\\ensemble\\_forest.py:416: FutureWarning: `max_features='auto'` has been deprecated in 1.1 and will be removed in 1.3. To keep the past behaviour, explicitly set `max_features=1.0` or remove this parameter as it is also the default value for RandomForestRegressors and ExtraTreesRegressors.\n",
      "  warn(\n"
     ]
    },
    {
     "name": "stdout",
     "output_type": "stream",
     "text": [
      "[CV] END max_features=auto, min_samples_leaf=10, n_estimators=10; total time=   0.0s\n",
      "[CV] END max_features=auto, min_samples_leaf=10, n_estimators=50; total time=   0.2s\n"
     ]
    },
    {
     "name": "stderr",
     "output_type": "stream",
     "text": [
      "C:\\Users\\athen\\Anaconda3\\envs\\P4_OC\\lib\\site-packages\\sklearn\\ensemble\\_forest.py:416: FutureWarning: `max_features='auto'` has been deprecated in 1.1 and will be removed in 1.3. To keep the past behaviour, explicitly set `max_features=1.0` or remove this parameter as it is also the default value for RandomForestRegressors and ExtraTreesRegressors.\n",
      "  warn(\n"
     ]
    },
    {
     "name": "stdout",
     "output_type": "stream",
     "text": [
      "[CV] END max_features=auto, min_samples_leaf=10, n_estimators=50; total time=   0.2s\n"
     ]
    },
    {
     "name": "stderr",
     "output_type": "stream",
     "text": [
      "C:\\Users\\athen\\Anaconda3\\envs\\P4_OC\\lib\\site-packages\\sklearn\\ensemble\\_forest.py:416: FutureWarning: `max_features='auto'` has been deprecated in 1.1 and will be removed in 1.3. To keep the past behaviour, explicitly set `max_features=1.0` or remove this parameter as it is also the default value for RandomForestRegressors and ExtraTreesRegressors.\n",
      "  warn(\n"
     ]
    },
    {
     "name": "stdout",
     "output_type": "stream",
     "text": [
      "[CV] END max_features=auto, min_samples_leaf=10, n_estimators=50; total time=   0.1s\n"
     ]
    },
    {
     "name": "stderr",
     "output_type": "stream",
     "text": [
      "C:\\Users\\athen\\Anaconda3\\envs\\P4_OC\\lib\\site-packages\\sklearn\\ensemble\\_forest.py:416: FutureWarning: `max_features='auto'` has been deprecated in 1.1 and will be removed in 1.3. To keep the past behaviour, explicitly set `max_features=1.0` or remove this parameter as it is also the default value for RandomForestRegressors and ExtraTreesRegressors.\n",
      "  warn(\n"
     ]
    },
    {
     "name": "stdout",
     "output_type": "stream",
     "text": [
      "[CV] END max_features=auto, min_samples_leaf=10, n_estimators=50; total time=   0.2s\n"
     ]
    },
    {
     "name": "stderr",
     "output_type": "stream",
     "text": [
      "C:\\Users\\athen\\Anaconda3\\envs\\P4_OC\\lib\\site-packages\\sklearn\\ensemble\\_forest.py:416: FutureWarning: `max_features='auto'` has been deprecated in 1.1 and will be removed in 1.3. To keep the past behaviour, explicitly set `max_features=1.0` or remove this parameter as it is also the default value for RandomForestRegressors and ExtraTreesRegressors.\n",
      "  warn(\n"
     ]
    },
    {
     "name": "stdout",
     "output_type": "stream",
     "text": [
      "[CV] END max_features=auto, min_samples_leaf=10, n_estimators=50; total time=   0.1s\n"
     ]
    },
    {
     "name": "stderr",
     "output_type": "stream",
     "text": [
      "C:\\Users\\athen\\Anaconda3\\envs\\P4_OC\\lib\\site-packages\\sklearn\\ensemble\\_forest.py:416: FutureWarning: `max_features='auto'` has been deprecated in 1.1 and will be removed in 1.3. To keep the past behaviour, explicitly set `max_features=1.0` or remove this parameter as it is also the default value for RandomForestRegressors and ExtraTreesRegressors.\n",
      "  warn(\n"
     ]
    },
    {
     "name": "stdout",
     "output_type": "stream",
     "text": [
      "[CV] END max_features=auto, min_samples_leaf=10, n_estimators=100; total time=   0.5s\n"
     ]
    },
    {
     "name": "stderr",
     "output_type": "stream",
     "text": [
      "C:\\Users\\athen\\Anaconda3\\envs\\P4_OC\\lib\\site-packages\\sklearn\\ensemble\\_forest.py:416: FutureWarning: `max_features='auto'` has been deprecated in 1.1 and will be removed in 1.3. To keep the past behaviour, explicitly set `max_features=1.0` or remove this parameter as it is also the default value for RandomForestRegressors and ExtraTreesRegressors.\n",
      "  warn(\n"
     ]
    },
    {
     "name": "stdout",
     "output_type": "stream",
     "text": [
      "[CV] END max_features=auto, min_samples_leaf=10, n_estimators=100; total time=   0.5s\n"
     ]
    },
    {
     "name": "stderr",
     "output_type": "stream",
     "text": [
      "C:\\Users\\athen\\Anaconda3\\envs\\P4_OC\\lib\\site-packages\\sklearn\\ensemble\\_forest.py:416: FutureWarning: `max_features='auto'` has been deprecated in 1.1 and will be removed in 1.3. To keep the past behaviour, explicitly set `max_features=1.0` or remove this parameter as it is also the default value for RandomForestRegressors and ExtraTreesRegressors.\n",
      "  warn(\n"
     ]
    },
    {
     "name": "stdout",
     "output_type": "stream",
     "text": [
      "[CV] END max_features=auto, min_samples_leaf=10, n_estimators=100; total time=   0.5s\n"
     ]
    },
    {
     "name": "stderr",
     "output_type": "stream",
     "text": [
      "C:\\Users\\athen\\Anaconda3\\envs\\P4_OC\\lib\\site-packages\\sklearn\\ensemble\\_forest.py:416: FutureWarning: `max_features='auto'` has been deprecated in 1.1 and will be removed in 1.3. To keep the past behaviour, explicitly set `max_features=1.0` or remove this parameter as it is also the default value for RandomForestRegressors and ExtraTreesRegressors.\n",
      "  warn(\n"
     ]
    },
    {
     "name": "stdout",
     "output_type": "stream",
     "text": [
      "[CV] END max_features=auto, min_samples_leaf=10, n_estimators=100; total time=   0.4s\n"
     ]
    },
    {
     "name": "stderr",
     "output_type": "stream",
     "text": [
      "C:\\Users\\athen\\Anaconda3\\envs\\P4_OC\\lib\\site-packages\\sklearn\\ensemble\\_forest.py:416: FutureWarning: `max_features='auto'` has been deprecated in 1.1 and will be removed in 1.3. To keep the past behaviour, explicitly set `max_features=1.0` or remove this parameter as it is also the default value for RandomForestRegressors and ExtraTreesRegressors.\n",
      "  warn(\n"
     ]
    },
    {
     "name": "stdout",
     "output_type": "stream",
     "text": [
      "[CV] END max_features=auto, min_samples_leaf=10, n_estimators=100; total time=   0.4s\n"
     ]
    },
    {
     "name": "stderr",
     "output_type": "stream",
     "text": [
      "C:\\Users\\athen\\Anaconda3\\envs\\P4_OC\\lib\\site-packages\\sklearn\\ensemble\\_forest.py:416: FutureWarning: `max_features='auto'` has been deprecated in 1.1 and will be removed in 1.3. To keep the past behaviour, explicitly set `max_features=1.0` or remove this parameter as it is also the default value for RandomForestRegressors and ExtraTreesRegressors.\n",
      "  warn(\n"
     ]
    },
    {
     "name": "stdout",
     "output_type": "stream",
     "text": [
      "[CV] END max_features=auto, min_samples_leaf=10, n_estimators=300; total time=   1.4s\n"
     ]
    },
    {
     "name": "stderr",
     "output_type": "stream",
     "text": [
      "C:\\Users\\athen\\Anaconda3\\envs\\P4_OC\\lib\\site-packages\\sklearn\\ensemble\\_forest.py:416: FutureWarning: `max_features='auto'` has been deprecated in 1.1 and will be removed in 1.3. To keep the past behaviour, explicitly set `max_features=1.0` or remove this parameter as it is also the default value for RandomForestRegressors and ExtraTreesRegressors.\n",
      "  warn(\n"
     ]
    },
    {
     "name": "stdout",
     "output_type": "stream",
     "text": [
      "[CV] END max_features=auto, min_samples_leaf=10, n_estimators=300; total time=   1.4s\n"
     ]
    },
    {
     "name": "stderr",
     "output_type": "stream",
     "text": [
      "C:\\Users\\athen\\Anaconda3\\envs\\P4_OC\\lib\\site-packages\\sklearn\\ensemble\\_forest.py:416: FutureWarning: `max_features='auto'` has been deprecated in 1.1 and will be removed in 1.3. To keep the past behaviour, explicitly set `max_features=1.0` or remove this parameter as it is also the default value for RandomForestRegressors and ExtraTreesRegressors.\n",
      "  warn(\n"
     ]
    },
    {
     "name": "stdout",
     "output_type": "stream",
     "text": [
      "[CV] END max_features=auto, min_samples_leaf=10, n_estimators=300; total time=   1.3s\n"
     ]
    },
    {
     "name": "stderr",
     "output_type": "stream",
     "text": [
      "C:\\Users\\athen\\Anaconda3\\envs\\P4_OC\\lib\\site-packages\\sklearn\\ensemble\\_forest.py:416: FutureWarning: `max_features='auto'` has been deprecated in 1.1 and will be removed in 1.3. To keep the past behaviour, explicitly set `max_features=1.0` or remove this parameter as it is also the default value for RandomForestRegressors and ExtraTreesRegressors.\n",
      "  warn(\n"
     ]
    },
    {
     "name": "stdout",
     "output_type": "stream",
     "text": [
      "[CV] END max_features=auto, min_samples_leaf=10, n_estimators=300; total time=   1.3s\n"
     ]
    },
    {
     "name": "stderr",
     "output_type": "stream",
     "text": [
      "C:\\Users\\athen\\Anaconda3\\envs\\P4_OC\\lib\\site-packages\\sklearn\\ensemble\\_forest.py:416: FutureWarning: `max_features='auto'` has been deprecated in 1.1 and will be removed in 1.3. To keep the past behaviour, explicitly set `max_features=1.0` or remove this parameter as it is also the default value for RandomForestRegressors and ExtraTreesRegressors.\n",
      "  warn(\n"
     ]
    },
    {
     "name": "stdout",
     "output_type": "stream",
     "text": [
      "[CV] END max_features=auto, min_samples_leaf=10, n_estimators=300; total time=   1.6s\n"
     ]
    },
    {
     "name": "stderr",
     "output_type": "stream",
     "text": [
      "C:\\Users\\athen\\Anaconda3\\envs\\P4_OC\\lib\\site-packages\\sklearn\\ensemble\\_forest.py:416: FutureWarning: `max_features='auto'` has been deprecated in 1.1 and will be removed in 1.3. To keep the past behaviour, explicitly set `max_features=1.0` or remove this parameter as it is also the default value for RandomForestRegressors and ExtraTreesRegressors.\n",
      "  warn(\n"
     ]
    },
    {
     "name": "stdout",
     "output_type": "stream",
     "text": [
      "[CV] END max_features=auto, min_samples_leaf=10, n_estimators=500; total time=   2.6s\n"
     ]
    },
    {
     "name": "stderr",
     "output_type": "stream",
     "text": [
      "C:\\Users\\athen\\Anaconda3\\envs\\P4_OC\\lib\\site-packages\\sklearn\\ensemble\\_forest.py:416: FutureWarning: `max_features='auto'` has been deprecated in 1.1 and will be removed in 1.3. To keep the past behaviour, explicitly set `max_features=1.0` or remove this parameter as it is also the default value for RandomForestRegressors and ExtraTreesRegressors.\n",
      "  warn(\n"
     ]
    },
    {
     "name": "stdout",
     "output_type": "stream",
     "text": [
      "[CV] END max_features=auto, min_samples_leaf=10, n_estimators=500; total time=   2.3s\n"
     ]
    },
    {
     "name": "stderr",
     "output_type": "stream",
     "text": [
      "C:\\Users\\athen\\Anaconda3\\envs\\P4_OC\\lib\\site-packages\\sklearn\\ensemble\\_forest.py:416: FutureWarning: `max_features='auto'` has been deprecated in 1.1 and will be removed in 1.3. To keep the past behaviour, explicitly set `max_features=1.0` or remove this parameter as it is also the default value for RandomForestRegressors and ExtraTreesRegressors.\n",
      "  warn(\n"
     ]
    },
    {
     "name": "stdout",
     "output_type": "stream",
     "text": [
      "[CV] END max_features=auto, min_samples_leaf=10, n_estimators=500; total time=   2.6s\n"
     ]
    },
    {
     "name": "stderr",
     "output_type": "stream",
     "text": [
      "C:\\Users\\athen\\Anaconda3\\envs\\P4_OC\\lib\\site-packages\\sklearn\\ensemble\\_forest.py:416: FutureWarning: `max_features='auto'` has been deprecated in 1.1 and will be removed in 1.3. To keep the past behaviour, explicitly set `max_features=1.0` or remove this parameter as it is also the default value for RandomForestRegressors and ExtraTreesRegressors.\n",
      "  warn(\n"
     ]
    },
    {
     "name": "stdout",
     "output_type": "stream",
     "text": [
      "[CV] END max_features=auto, min_samples_leaf=10, n_estimators=500; total time=   2.9s\n"
     ]
    },
    {
     "name": "stderr",
     "output_type": "stream",
     "text": [
      "C:\\Users\\athen\\Anaconda3\\envs\\P4_OC\\lib\\site-packages\\sklearn\\ensemble\\_forest.py:416: FutureWarning: `max_features='auto'` has been deprecated in 1.1 and will be removed in 1.3. To keep the past behaviour, explicitly set `max_features=1.0` or remove this parameter as it is also the default value for RandomForestRegressors and ExtraTreesRegressors.\n",
      "  warn(\n"
     ]
    },
    {
     "name": "stdout",
     "output_type": "stream",
     "text": [
      "[CV] END max_features=auto, min_samples_leaf=10, n_estimators=500; total time=   6.3s\n",
      "[CV] END max_features=sqrt, min_samples_leaf=1, n_estimators=10; total time=   0.0s\n",
      "[CV] END max_features=sqrt, min_samples_leaf=1, n_estimators=10; total time=   0.0s\n",
      "[CV] END max_features=sqrt, min_samples_leaf=1, n_estimators=10; total time=   0.0s\n",
      "[CV] END max_features=sqrt, min_samples_leaf=1, n_estimators=10; total time=   0.0s\n",
      "[CV] END max_features=sqrt, min_samples_leaf=1, n_estimators=10; total time=   0.0s\n",
      "[CV] END max_features=sqrt, min_samples_leaf=1, n_estimators=50; total time=   0.5s\n",
      "[CV] END max_features=sqrt, min_samples_leaf=1, n_estimators=50; total time=   0.4s\n",
      "[CV] END max_features=sqrt, min_samples_leaf=1, n_estimators=50; total time=   0.4s\n",
      "[CV] END max_features=sqrt, min_samples_leaf=1, n_estimators=50; total time=   0.5s\n",
      "[CV] END max_features=sqrt, min_samples_leaf=1, n_estimators=50; total time=   0.5s\n",
      "[CV] END max_features=sqrt, min_samples_leaf=1, n_estimators=100; total time=   0.3s\n",
      "[CV] END max_features=sqrt, min_samples_leaf=1, n_estimators=100; total time=   0.2s\n",
      "[CV] END max_features=sqrt, min_samples_leaf=1, n_estimators=100; total time=   0.2s\n",
      "[CV] END max_features=sqrt, min_samples_leaf=1, n_estimators=100; total time=   0.2s\n",
      "[CV] END max_features=sqrt, min_samples_leaf=1, n_estimators=100; total time=   0.2s\n",
      "[CV] END max_features=sqrt, min_samples_leaf=1, n_estimators=300; total time=   0.8s\n",
      "[CV] END max_features=sqrt, min_samples_leaf=1, n_estimators=300; total time=   0.8s\n",
      "[CV] END max_features=sqrt, min_samples_leaf=1, n_estimators=300; total time=   0.8s\n",
      "[CV] END max_features=sqrt, min_samples_leaf=1, n_estimators=300; total time=   0.9s\n",
      "[CV] END max_features=sqrt, min_samples_leaf=1, n_estimators=300; total time=   2.5s\n",
      "[CV] END max_features=sqrt, min_samples_leaf=1, n_estimators=500; total time=   5.9s\n",
      "[CV] END max_features=sqrt, min_samples_leaf=1, n_estimators=500; total time=   5.8s\n",
      "[CV] END max_features=sqrt, min_samples_leaf=1, n_estimators=500; total time=   5.3s\n",
      "[CV] END max_features=sqrt, min_samples_leaf=1, n_estimators=500; total time=   5.2s\n",
      "[CV] END max_features=sqrt, min_samples_leaf=1, n_estimators=500; total time=   5.1s\n",
      "[CV] END max_features=sqrt, min_samples_leaf=3, n_estimators=10; total time=   0.0s\n",
      "[CV] END max_features=sqrt, min_samples_leaf=3, n_estimators=10; total time=   0.0s\n",
      "[CV] END max_features=sqrt, min_samples_leaf=3, n_estimators=10; total time=   0.0s\n",
      "[CV] END max_features=sqrt, min_samples_leaf=3, n_estimators=10; total time=   0.0s\n",
      "[CV] END max_features=sqrt, min_samples_leaf=3, n_estimators=10; total time=   0.0s\n",
      "[CV] END max_features=sqrt, min_samples_leaf=3, n_estimators=50; total time=   0.3s\n",
      "[CV] END max_features=sqrt, min_samples_leaf=3, n_estimators=50; total time=   0.3s\n",
      "[CV] END max_features=sqrt, min_samples_leaf=3, n_estimators=50; total time=   0.3s\n",
      "[CV] END max_features=sqrt, min_samples_leaf=3, n_estimators=50; total time=   0.3s\n",
      "[CV] END max_features=sqrt, min_samples_leaf=3, n_estimators=50; total time=   0.3s\n",
      "[CV] END max_features=sqrt, min_samples_leaf=3, n_estimators=100; total time=   0.6s\n",
      "[CV] END max_features=sqrt, min_samples_leaf=3, n_estimators=100; total time=   0.6s\n",
      "[CV] END max_features=sqrt, min_samples_leaf=3, n_estimators=100; total time=   0.7s\n",
      "[CV] END max_features=sqrt, min_samples_leaf=3, n_estimators=100; total time=   0.6s\n",
      "[CV] END max_features=sqrt, min_samples_leaf=3, n_estimators=100; total time=   0.6s\n",
      "[CV] END max_features=sqrt, min_samples_leaf=3, n_estimators=300; total time=   0.6s\n",
      "[CV] END max_features=sqrt, min_samples_leaf=3, n_estimators=300; total time=   0.6s\n",
      "[CV] END max_features=sqrt, min_samples_leaf=3, n_estimators=300; total time=   0.6s\n",
      "[CV] END max_features=sqrt, min_samples_leaf=3, n_estimators=300; total time=   0.6s\n",
      "[CV] END max_features=sqrt, min_samples_leaf=3, n_estimators=300; total time=   0.6s\n",
      "[CV] END max_features=sqrt, min_samples_leaf=3, n_estimators=500; total time=   0.9s\n",
      "[CV] END max_features=sqrt, min_samples_leaf=3, n_estimators=500; total time=   0.8s\n",
      "[CV] END max_features=sqrt, min_samples_leaf=3, n_estimators=500; total time=   1.1s\n",
      "[CV] END max_features=sqrt, min_samples_leaf=3, n_estimators=500; total time=   0.9s\n",
      "[CV] END max_features=sqrt, min_samples_leaf=3, n_estimators=500; total time=   1.2s\n",
      "[CV] END max_features=sqrt, min_samples_leaf=5, n_estimators=10; total time=   0.0s\n",
      "[CV] END max_features=sqrt, min_samples_leaf=5, n_estimators=10; total time=   0.0s\n",
      "[CV] END max_features=sqrt, min_samples_leaf=5, n_estimators=10; total time=   0.0s\n",
      "[CV] END max_features=sqrt, min_samples_leaf=5, n_estimators=10; total time=   0.0s\n",
      "[CV] END max_features=sqrt, min_samples_leaf=5, n_estimators=10; total time=   0.0s\n",
      "[CV] END max_features=sqrt, min_samples_leaf=5, n_estimators=50; total time=   0.0s\n",
      "[CV] END max_features=sqrt, min_samples_leaf=5, n_estimators=50; total time=   0.0s\n",
      "[CV] END max_features=sqrt, min_samples_leaf=5, n_estimators=50; total time=   0.0s\n",
      "[CV] END max_features=sqrt, min_samples_leaf=5, n_estimators=50; total time=   0.0s\n",
      "[CV] END max_features=sqrt, min_samples_leaf=5, n_estimators=50; total time=   0.0s\n",
      "[CV] END max_features=sqrt, min_samples_leaf=5, n_estimators=100; total time=   0.1s\n",
      "[CV] END max_features=sqrt, min_samples_leaf=5, n_estimators=100; total time=   0.1s\n",
      "[CV] END max_features=sqrt, min_samples_leaf=5, n_estimators=100; total time=   0.1s\n",
      "[CV] END max_features=sqrt, min_samples_leaf=5, n_estimators=100; total time=   0.1s\n",
      "[CV] END max_features=sqrt, min_samples_leaf=5, n_estimators=100; total time=   0.1s\n",
      "[CV] END max_features=sqrt, min_samples_leaf=5, n_estimators=300; total time=   0.5s\n",
      "[CV] END max_features=sqrt, min_samples_leaf=5, n_estimators=300; total time=   0.5s\n",
      "[CV] END max_features=sqrt, min_samples_leaf=5, n_estimators=300; total time=   0.4s\n",
      "[CV] END max_features=sqrt, min_samples_leaf=5, n_estimators=300; total time=   0.4s\n",
      "[CV] END max_features=sqrt, min_samples_leaf=5, n_estimators=300; total time=   0.4s\n",
      "[CV] END max_features=sqrt, min_samples_leaf=5, n_estimators=500; total time=   0.7s\n",
      "[CV] END max_features=sqrt, min_samples_leaf=5, n_estimators=500; total time=   0.7s\n",
      "[CV] END max_features=sqrt, min_samples_leaf=5, n_estimators=500; total time=   0.7s\n",
      "[CV] END max_features=sqrt, min_samples_leaf=5, n_estimators=500; total time=   0.8s\n",
      "[CV] END max_features=sqrt, min_samples_leaf=5, n_estimators=500; total time=   0.9s\n",
      "[CV] END max_features=sqrt, min_samples_leaf=10, n_estimators=10; total time=   0.0s\n",
      "[CV] END max_features=sqrt, min_samples_leaf=10, n_estimators=10; total time=   0.0s\n",
      "[CV] END max_features=sqrt, min_samples_leaf=10, n_estimators=10; total time=   0.0s\n",
      "[CV] END max_features=sqrt, min_samples_leaf=10, n_estimators=10; total time=   0.0s\n",
      "[CV] END max_features=sqrt, min_samples_leaf=10, n_estimators=10; total time=   0.0s\n",
      "[CV] END max_features=sqrt, min_samples_leaf=10, n_estimators=50; total time=   0.1s\n",
      "[CV] END max_features=sqrt, min_samples_leaf=10, n_estimators=50; total time=   0.0s\n",
      "[CV] END max_features=sqrt, min_samples_leaf=10, n_estimators=50; total time=   0.0s\n",
      "[CV] END max_features=sqrt, min_samples_leaf=10, n_estimators=50; total time=   0.0s\n",
      "[CV] END max_features=sqrt, min_samples_leaf=10, n_estimators=50; total time=   0.0s\n",
      "[CV] END max_features=sqrt, min_samples_leaf=10, n_estimators=100; total time=   0.1s\n",
      "[CV] END max_features=sqrt, min_samples_leaf=10, n_estimators=100; total time=   0.1s\n",
      "[CV] END max_features=sqrt, min_samples_leaf=10, n_estimators=100; total time=   0.2s\n",
      "[CV] END max_features=sqrt, min_samples_leaf=10, n_estimators=100; total time=   0.1s\n",
      "[CV] END max_features=sqrt, min_samples_leaf=10, n_estimators=100; total time=   0.1s\n",
      "[CV] END max_features=sqrt, min_samples_leaf=10, n_estimators=300; total time=   0.4s\n",
      "[CV] END max_features=sqrt, min_samples_leaf=10, n_estimators=300; total time=   0.6s\n",
      "[CV] END max_features=sqrt, min_samples_leaf=10, n_estimators=300; total time=   0.4s\n",
      "[CV] END max_features=sqrt, min_samples_leaf=10, n_estimators=300; total time=   0.3s\n",
      "[CV] END max_features=sqrt, min_samples_leaf=10, n_estimators=300; total time=   0.3s\n",
      "[CV] END max_features=sqrt, min_samples_leaf=10, n_estimators=500; total time=   0.7s\n",
      "[CV] END max_features=sqrt, min_samples_leaf=10, n_estimators=500; total time=   0.7s\n",
      "[CV] END max_features=sqrt, min_samples_leaf=10, n_estimators=500; total time=   0.6s\n",
      "[CV] END max_features=sqrt, min_samples_leaf=10, n_estimators=500; total time=   0.6s\n",
      "[CV] END max_features=sqrt, min_samples_leaf=10, n_estimators=500; total time=   0.7s\n"
     ]
    },
    {
     "data": {
      "text/plain": "GridSearchCV(cv=5, estimator=RandomForestRegressor(),\n             param_grid={'max_features': ['auto', 'sqrt'],\n                         'min_samples_leaf': [1, 3, 5, 10],\n                         'n_estimators': [10, 50, 100, 300, 500]},\n             verbose=2)",
      "text/html": "<style>#sk-container-id-1 {color: black;background-color: white;}#sk-container-id-1 pre{padding: 0;}#sk-container-id-1 div.sk-toggleable {background-color: white;}#sk-container-id-1 label.sk-toggleable__label {cursor: pointer;display: block;width: 100%;margin-bottom: 0;padding: 0.3em;box-sizing: border-box;text-align: center;}#sk-container-id-1 label.sk-toggleable__label-arrow:before {content: \"▸\";float: left;margin-right: 0.25em;color: #696969;}#sk-container-id-1 label.sk-toggleable__label-arrow:hover:before {color: black;}#sk-container-id-1 div.sk-estimator:hover label.sk-toggleable__label-arrow:before {color: black;}#sk-container-id-1 div.sk-toggleable__content {max-height: 0;max-width: 0;overflow: hidden;text-align: left;background-color: #f0f8ff;}#sk-container-id-1 div.sk-toggleable__content pre {margin: 0.2em;color: black;border-radius: 0.25em;background-color: #f0f8ff;}#sk-container-id-1 input.sk-toggleable__control:checked~div.sk-toggleable__content {max-height: 200px;max-width: 100%;overflow: auto;}#sk-container-id-1 input.sk-toggleable__control:checked~label.sk-toggleable__label-arrow:before {content: \"▾\";}#sk-container-id-1 div.sk-estimator input.sk-toggleable__control:checked~label.sk-toggleable__label {background-color: #d4ebff;}#sk-container-id-1 div.sk-label input.sk-toggleable__control:checked~label.sk-toggleable__label {background-color: #d4ebff;}#sk-container-id-1 input.sk-hidden--visually {border: 0;clip: rect(1px 1px 1px 1px);clip: rect(1px, 1px, 1px, 1px);height: 1px;margin: -1px;overflow: hidden;padding: 0;position: absolute;width: 1px;}#sk-container-id-1 div.sk-estimator {font-family: monospace;background-color: #f0f8ff;border: 1px dotted black;border-radius: 0.25em;box-sizing: border-box;margin-bottom: 0.5em;}#sk-container-id-1 div.sk-estimator:hover {background-color: #d4ebff;}#sk-container-id-1 div.sk-parallel-item::after {content: \"\";width: 100%;border-bottom: 1px solid gray;flex-grow: 1;}#sk-container-id-1 div.sk-label:hover label.sk-toggleable__label {background-color: #d4ebff;}#sk-container-id-1 div.sk-serial::before {content: \"\";position: absolute;border-left: 1px solid gray;box-sizing: border-box;top: 0;bottom: 0;left: 50%;z-index: 0;}#sk-container-id-1 div.sk-serial {display: flex;flex-direction: column;align-items: center;background-color: white;padding-right: 0.2em;padding-left: 0.2em;position: relative;}#sk-container-id-1 div.sk-item {position: relative;z-index: 1;}#sk-container-id-1 div.sk-parallel {display: flex;align-items: stretch;justify-content: center;background-color: white;position: relative;}#sk-container-id-1 div.sk-item::before, #sk-container-id-1 div.sk-parallel-item::before {content: \"\";position: absolute;border-left: 1px solid gray;box-sizing: border-box;top: 0;bottom: 0;left: 50%;z-index: -1;}#sk-container-id-1 div.sk-parallel-item {display: flex;flex-direction: column;z-index: 1;position: relative;background-color: white;}#sk-container-id-1 div.sk-parallel-item:first-child::after {align-self: flex-end;width: 50%;}#sk-container-id-1 div.sk-parallel-item:last-child::after {align-self: flex-start;width: 50%;}#sk-container-id-1 div.sk-parallel-item:only-child::after {width: 0;}#sk-container-id-1 div.sk-dashed-wrapped {border: 1px dashed gray;margin: 0 0.4em 0.5em 0.4em;box-sizing: border-box;padding-bottom: 0.4em;background-color: white;}#sk-container-id-1 div.sk-label label {font-family: monospace;font-weight: bold;display: inline-block;line-height: 1.2em;}#sk-container-id-1 div.sk-label-container {text-align: center;}#sk-container-id-1 div.sk-container {/* jupyter's `normalize.less` sets `[hidden] { display: none; }` but bootstrap.min.css set `[hidden] { display: none !important; }` so we also need the `!important` here to be able to override the default hidden behavior on the sphinx rendered scikit-learn.org. See: https://github.com/scikit-learn/scikit-learn/issues/21755 */display: inline-block !important;position: relative;}#sk-container-id-1 div.sk-text-repr-fallback {display: none;}</style><div id=\"sk-container-id-1\" class=\"sk-top-container\"><div class=\"sk-text-repr-fallback\"><pre>GridSearchCV(cv=5, estimator=RandomForestRegressor(),\n             param_grid={&#x27;max_features&#x27;: [&#x27;auto&#x27;, &#x27;sqrt&#x27;],\n                         &#x27;min_samples_leaf&#x27;: [1, 3, 5, 10],\n                         &#x27;n_estimators&#x27;: [10, 50, 100, 300, 500]},\n             verbose=2)</pre><b>In a Jupyter environment, please rerun this cell to show the HTML representation or trust the notebook. <br />On GitHub, the HTML representation is unable to render, please try loading this page with nbviewer.org.</b></div><div class=\"sk-container\" hidden><div class=\"sk-item sk-dashed-wrapped\"><div class=\"sk-label-container\"><div class=\"sk-label sk-toggleable\"><input class=\"sk-toggleable__control sk-hidden--visually\" id=\"sk-estimator-id-1\" type=\"checkbox\" ><label for=\"sk-estimator-id-1\" class=\"sk-toggleable__label sk-toggleable__label-arrow\">GridSearchCV</label><div class=\"sk-toggleable__content\"><pre>GridSearchCV(cv=5, estimator=RandomForestRegressor(),\n             param_grid={&#x27;max_features&#x27;: [&#x27;auto&#x27;, &#x27;sqrt&#x27;],\n                         &#x27;min_samples_leaf&#x27;: [1, 3, 5, 10],\n                         &#x27;n_estimators&#x27;: [10, 50, 100, 300, 500]},\n             verbose=2)</pre></div></div></div><div class=\"sk-parallel\"><div class=\"sk-parallel-item\"><div class=\"sk-item\"><div class=\"sk-label-container\"><div class=\"sk-label sk-toggleable\"><input class=\"sk-toggleable__control sk-hidden--visually\" id=\"sk-estimator-id-2\" type=\"checkbox\" ><label for=\"sk-estimator-id-2\" class=\"sk-toggleable__label sk-toggleable__label-arrow\">estimator: RandomForestRegressor</label><div class=\"sk-toggleable__content\"><pre>RandomForestRegressor()</pre></div></div></div><div class=\"sk-serial\"><div class=\"sk-item\"><div class=\"sk-estimator sk-toggleable\"><input class=\"sk-toggleable__control sk-hidden--visually\" id=\"sk-estimator-id-3\" type=\"checkbox\" ><label for=\"sk-estimator-id-3\" class=\"sk-toggleable__label sk-toggleable__label-arrow\">RandomForestRegressor</label><div class=\"sk-toggleable__content\"><pre>RandomForestRegressor()</pre></div></div></div></div></div></div></div></div></div></div>"
     },
     "execution_count": 116,
     "metadata": {},
     "output_type": "execute_result"
    }
   ],
   "source": [
    "rfr_search = GridSearchCV(RandomForestRegressor(),\n",
    "                          param_grid = parameters,\n",
    "                          #scoring='mean_squared_error',\n",
    "                          verbose=2,\n",
    "                          cv=5)\n",
    "\n",
    "rfr_search.fit(X_train, y_train)"
   ],
   "metadata": {
    "collapsed": false,
    "pycharm": {
     "name": "#%%\n"
    }
   }
  },
  {
   "cell_type": "code",
   "execution_count": 118,
   "outputs": [
    {
     "data": {
      "text/plain": "{'max_features': 'sqrt', 'min_samples_leaf': 10, 'n_estimators': 500}"
     },
     "execution_count": 117,
     "metadata": {},
     "output_type": "execute_result"
    },
    {
     "data": {
      "text/plain": "{'max_features': 'sqrt', 'min_samples_leaf': 10, 'n_estimators': 500}"
     },
     "execution_count": 118,
     "metadata": {},
     "output_type": "execute_result"
    }
   ],
   "source": [
    "rfr_search.best_params_"
   ],
   "metadata": {
    "collapsed": false,
    "pycharm": {
     "name": "#%%\n"
    }
   }
  },
  {
   "cell_type": "code",
   "execution_count": 119,
   "outputs": [],
   "source": [
    "rfr_best = RandomForestRegressor(n_estimators=500, min_samples_leaf=10, max_features='sqrt') # nb of trees 1000 for the forest"
   ],
   "metadata": {
    "collapsed": false,
    "pycharm": {
     "name": "#%%\n"
    }
   }
  },
  {
   "cell_type": "code",
   "execution_count": 121,
   "outputs": [],
   "source": [
    "rfr_best = rfr_best.fit(X_train.values, y_train)"
   ],
   "metadata": {
    "collapsed": false,
    "pycharm": {
     "name": "#%%\n"
    }
   }
  },
  {
   "cell_type": "code",
   "execution_count": 124,
   "outputs": [
    {
     "name": "stdout",
     "output_type": "stream",
     "text": [
      "Prediction for :  Log-Electricity(kBtu)\n"
     ]
    },
    {
     "data": {
      "text/plain": "                          Model  RMSE  MAE  MSE    R²\n0               Dummy Regressor  1.17 0.91 1.36 -0.00\n0             Linear Regression  1.17 0.91 1.37 -0.01\n0       Random Forest Regressor  1.25 0.97 1.57 -0.15\n0  Random Forest Regressor Best  1.17 0.92 1.37 -0.01",
      "text/html": "<div>\n<style scoped>\n    .dataframe tbody tr th:only-of-type {\n        vertical-align: middle;\n    }\n\n    .dataframe tbody tr th {\n        vertical-align: top;\n    }\n\n    .dataframe thead th {\n        text-align: right;\n    }\n</style>\n<table border=\"1\" class=\"dataframe\">\n  <thead>\n    <tr style=\"text-align: right;\">\n      <th></th>\n      <th>Model</th>\n      <th>RMSE</th>\n      <th>MAE</th>\n      <th>MSE</th>\n      <th>R²</th>\n    </tr>\n  </thead>\n  <tbody>\n    <tr>\n      <th>0</th>\n      <td>Dummy Regressor</td>\n      <td>1.17</td>\n      <td>0.91</td>\n      <td>1.36</td>\n      <td>-0.00</td>\n    </tr>\n    <tr>\n      <th>0</th>\n      <td>Linear Regression</td>\n      <td>1.17</td>\n      <td>0.91</td>\n      <td>1.37</td>\n      <td>-0.01</td>\n    </tr>\n    <tr>\n      <th>0</th>\n      <td>Random Forest Regressor</td>\n      <td>1.25</td>\n      <td>0.97</td>\n      <td>1.57</td>\n      <td>-0.15</td>\n    </tr>\n    <tr>\n      <th>0</th>\n      <td>Random Forest Regressor Best</td>\n      <td>1.17</td>\n      <td>0.92</td>\n      <td>1.37</td>\n      <td>-0.01</td>\n    </tr>\n  </tbody>\n</table>\n</div>"
     },
     "metadata": {},
     "output_type": "display_data"
    },
    {
     "name": "stdout",
     "output_type": "stream",
     "text": [
      "If the prediction was good, we would see a line which is not the case here .\n"
     ]
    },
    {
     "data": {
      "text/plain": "<Figure size 432x288 with 1 Axes>",
      "image/png": "[encoded data removed]"
     },
     "metadata": {
      "needs_background": "light"
     },
     "output_type": "display_data"
    }
   ],
   "source": [
    "y_pred_rfr_best = rfr_best.predict(X_test.values)\n",
    "\n",
    "results = evaluate_regression(\"Random Forest Regressor Best\", results, y_test, y_pred_rfr_best)"
   ],
   "metadata": {
    "collapsed": false,
    "pycharm": {
     "name": "#%%\n"
    }
   }
  },
  {
   "cell_type": "code",
   "execution_count": 127,
   "outputs": [
    {
     "data": {
      "text/plain": "<Figure size 432x288 with 1 Axes>",
      "image/png": "[encoded data removed]"
     },
     "metadata": {
      "needs_background": "light"
     },
     "output_type": "display_data"
    }
   ],
   "source": [
    "display_prediction(y_test, y_pred_lr)"
   ],
   "metadata": {
    "collapsed": false,
    "pycharm": {
     "name": "#%%\n"
    }
   }
  },
  {
   "cell_type": "raw",
   "source": [
    "import math\n",
    "results = results.append(pd.DataFrame({\n",
    "    'Modèle' : ['Random Forest Regressor'],\n",
    "    'Score_RMSE' : [math.sqrt(mean_squared_error(rfr_search.predict(X_test), y_test))]}),\n",
    "    ignore_index=True)"
   ],
   "metadata": {
    "collapsed": false,
    "pycharm": {
     "name": "#%% raw\n"
    }
   }
  },
  {
   "cell_type": "raw",
   "source": [
    "coefficients = abs(rfr_search.best_estimator_.feature_importances_)\n",
    "liste_coefs_rer = pd.concat((pd.DataFrame(X.columns, columns = ['Variable']),\n",
    "                             pd.DataFrame(coefficients, columns = ['Coefficient'])), axis = 1).sort_values(by='Coefficient', ascending = False)"
   ],
   "metadata": {
    "collapsed": false,
    "pycharm": {
     "name": "#%% raw\n"
    }
   }
  },
  {
   "cell_type": "raw",
   "source": [
    "plt.figure(figsize=(8,8))\n",
    "plt.title('RandomForestRegressor - Importance des 20 premières Features')\n",
    "sns.barplot(y = liste_coefs_rer['Variable'].head(20),\n",
    "            x = liste_coefs_rer['Coefficient'].head(20))\n",
    "plt.show()"
   ],
   "metadata": {
    "collapsed": false,
    "pycharm": {
     "name": "#%% raw\n"
    }
   }
  },
  {
   "cell_type": "raw",
   "source": [
    "plt.figure(figsize=(10,4))\n",
    "plt.title('Comparaison des RMSE relatives des modèles (en %)')\n",
    "chart = sns.barplot(x = results['Modèle'],\n",
    "                    y = results['RMSE_%']*100)\n",
    "chart.set_xticklabels(labels = results['Modèle'],\n",
    "                      rotation=45,\n",
    "                      horizontalalignment='right',\n",
    "                      size=12,\n",
    "                      )\n",
    "ax = plt.gca()\n",
    "ax.set_ylim([0, 5])\n",
    "plt.show()"
   ],
   "metadata": {
    "collapsed": false,
    "pycharm": {
     "name": "#%% raw\n"
    }
   }
  },
  {
   "cell_type": "raw",
   "source": [
    "plt.title('Temps d\\'exécution des algorithmes pour la prédiction \\n(jeu d\\'entrainement) - échelle logarithmique')\n",
    "sns.barplot(x=nom_modeles,\n",
    "            y = [5.32, 640, 2.14, 145])\n",
    "ax = plt.gca()\n",
    "ax.set_yscale('log')"
   ],
   "metadata": {
    "collapsed": false,
    "pycharm": {
     "name": "#%% raw\n"
    }
   }
  },
  {
   "cell_type": "raw",
   "source": [
    "plt.figure(figsize=(8,6))\n",
    "sns.barplot(x = comparaison_score_melt['index'],\n",
    "            y = comparaison_score_melt['score'], hue = comparaison_score_melt['variable'])\n",
    "plt.title('Comparaison des performances des modèles (jeu de test)')"
   ],
   "metadata": {
    "collapsed": false,
    "pycharm": {
     "name": "#%% raw\n"
    }
   }
  },
  {
   "cell_type": "markdown",
   "source": [
    "### III) Evaluation"
   ],
   "metadata": {
    "collapsed": false,
    "pycharm": {
     "name": "#%% md\n"
    }
   }
  },
  {
   "cell_type": "markdown",
   "source": [
    "#### Vérification des prédictions\n"
   ],
   "metadata": {
    "collapsed": false,
    "pycharm": {
     "name": "#%% md\n"
    }
   }
  },
  {
   "cell_type": "code",
   "execution_count": 114,
   "outputs": [],
   "source": [],
   "metadata": {
    "collapsed": false,
    "pycharm": {
     "name": "#%%\n"
    }
   }
  },
  {
   "cell_type": "markdown",
   "source": [
    "#### Intérêt du Energy Star Score\n"
   ],
   "metadata": {
    "collapsed": false,
    "pycharm": {
     "name": "#%% md\n"
    }
   }
  }
 ],
 "metadata": {
  "kernelspec": {
   "display_name": "Python 3",
   "language": "python",
   "name": "python3"
  },
  "language_info": {
   "codemirror_mode": {
    "name": "ipython",
    "version": 2
   },
   "file_extension": ".py",
   "mimetype": "text/x-python",
   "name": "python",
   "nbconvert_exporter": "python",
   "pygments_lexer": "ipython2",
   "version": "2.7.6"
  }
 },
 "nbformat": 4,
 "nbformat_minor": 0
}