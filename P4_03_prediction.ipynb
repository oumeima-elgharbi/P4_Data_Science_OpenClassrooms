{
 "cells": [
  {
   "cell_type": "markdown",
   "source": [
    "OpenClassrooms\n",
    "Project 4, Data Scientist\n",
    "Author : Oumeima EL GHARBI\n",
    "Date : August 2022"
   ],
   "metadata": {
    "collapsed": false,
    "pycharm": {
     "name": "#%% md\n"
    }
   }
  },
  {
   "cell_type": "markdown",
   "source": [
    "Un notebook pour chaque prédiction (émissions de CO2 et consommation totale d’énergie) des différents tests de modèles mis au propre, dans lequel vous identifierez clairement le modèle final choisi.\n",
    "\n",
    "\n",
    "L’objectif est de te passer des relevés de consommation annuels futurs (attention à la fuite de données). Nous ferons de toute façon pour tout nouveau bâtiment un premier relevé de référence la première année, donc rien ne t'interdit d’en déduire des variables structurelles aux bâtiments, par exemple la nature et proportions des sources d’énergie utilisées..\n",
    "\n",
    "Fais bien attention au traitement des différentes variables, à la fois pour trouver de nouvelles informations (peut-on déduire des choses intéressantes d’une simple adresse ?) et optimiser les performances en appliquant des transformations simples aux variables (normalisation, passage au log, etc.).\n",
    "\n",
    "Mets en place une évaluation rigoureuse des performances de la régression, et optimise les hyperparamètres et le choix d’algorithmes de ML à l’aide d’une validation croisée."
   ],
   "metadata": {
    "collapsed": false,
    "pycharm": {
     "name": "#%% md\n"
    }
   }
  },
  {
   "cell_type": "markdown",
   "source": [
    "\n",
    "\n",
    "Tester les modèles suivants : **regression linéaire (avec différentes régularisation : Ridge, Lasso, Elastic), Random Forest, XGboost**\n",
    "Penser à comparer les performances des différents modèles : utiliser la **MAE** ( Mean Absolute Error)\n",
    "Penser également à optimiser les hyper paramètres de chaque modèle via **GridSearch**\n"
   ],
   "metadata": {
    "collapsed": false,
    "pycharm": {
     "name": "#%% md\n"
    }
   }
  },
  {
   "cell_type": "markdown",
   "source": [
    "Evaluate :\n",
    "\n",
    "https://cloud.google.com/automl-tables/docs/evaluate?hl=fr\n",
    "\n",
    "\n",
    "KFOLD\n",
    "\n",
    "Entrée : données X (dimension nxp), étiquettes y (dimension n), nombre de folds k\n",
    "\n",
    "Couper [0, 1, ..., n-1] en k parties de taille (n/k). (La dernière partie sera un peu plus petite si n n'est pas un multiple de k)\n",
    "\n",
    "for i=0 to (k-1):\n",
    "    Former le jeu de test (X_test, y_test) en restreignant X et y aux indices contenus dans la i-ième partie.\n",
    "    Former le jeu d'entraînement (X_train, y_train) en restreignant X et y aux autres indices.\n",
    "    Entraîner l'algorithme sur le jeu d'entraînement\n",
    "    Utiliser le modèle ainsi obtenu pour prédire sur le jeu de test\n",
    "        Calculer l'erreur du modèle en comparant les étiquettes prédites aux vraies étiquettes contenues dans y_test\n",
    "\n",
    "Sortie : la valeur moyenne des erreurs calculées sur les k folds."
   ],
   "metadata": {
    "collapsed": false,
    "pycharm": {
     "name": "#%% md\n"
    }
   }
  },
  {
   "cell_type": "code",
   "execution_count": 672,
   "outputs": [],
   "source": [
    "# 1 modele de Regression (RL classsque / Elastic / ridig / laso\n",
    "# Random Forest\n",
    "# XGBOOST\n",
    "\n",
    "# var à rpedire tottal GHE Emssion last one to predict\n",
    "# cette var deped de la consommation des bateimenst (1) prediction sur elec, steam, naturalgas et un autre energie (2) et reutiliser pour predire"
   ],
   "metadata": {
    "collapsed": false,
    "pycharm": {
     "name": "#%%\n"
    }
   }
  },
  {
   "cell_type": "markdown",
   "source": [
    "### Introduction"
   ],
   "metadata": {
    "collapsed": false,
    "pycharm": {
     "name": "#%% md\n"
    }
   }
  },
  {
   "cell_type": "markdown",
   "source": [
    "#### Importing libraries"
   ],
   "metadata": {
    "collapsed": false,
    "pycharm": {
     "name": "#%% md\n"
    }
   }
  },
  {
   "cell_type": "code",
   "execution_count": 673,
   "outputs": [
    {
     "data": {
      "application/javascript": "IPython.notebook.set_autosave_interval(300000)"
     },
     "metadata": {},
     "output_type": "display_data"
    },
    {
     "name": "stdout",
     "output_type": "stream",
     "text": [
      "Autosaving every 300 seconds\n"
     ]
    }
   ],
   "source": [
    "%reset -f\n",
    "\n",
    "import numpy as np\n",
    "import pandas as pd\n",
    "import matplotlib.pyplot as plt\n",
    "import seaborn as sns\n",
    "\n",
    "%matplotlib inline\n",
    "%autosave 300"
   ],
   "metadata": {
    "collapsed": false,
    "pycharm": {
     "name": "#%%\n"
    }
   }
  },
  {
   "cell_type": "code",
   "execution_count": 674,
   "outputs": [],
   "source": [
    "from functions import *"
   ],
   "metadata": {
    "collapsed": false,
    "pycharm": {
     "name": "#%%\n"
    }
   }
  },
  {
   "cell_type": "code",
   "execution_count": 675,
   "outputs": [],
   "source": [
    "import os, warnings\n",
    "# warnings.filterwarnings('ignore')\n",
    "warnings.filterwarnings(action=\"once\")"
   ],
   "metadata": {
    "collapsed": false,
    "pycharm": {
     "name": "#%%\n"
    }
   }
  },
  {
   "cell_type": "markdown",
   "source": [
    "#### Loading dataset"
   ],
   "metadata": {
    "collapsed": false,
    "pycharm": {
     "name": "#%% md\n"
    }
   }
  },
  {
   "cell_type": "code",
   "execution_count": 676,
   "outputs": [
    {
     "name": "stdout",
     "output_type": "stream",
     "text": [
      "This dictionary will be used when reading the csv file to assign a type to categorical features : {'BuildingType': 'category', 'PrimaryPropertyType': 'category', 'Neighborhood': 'category', 'ZipCode': 'category', 'CouncilDistrictCode': 'category', 'LargestPropertyUseType': 'category', 'SecondLargestPropertyUseType': 'category', 'ThirdLargestPropertyUseType': 'category'}\n"
     ]
    }
   ],
   "source": [
    "columns_to_categorize = [\"BuildingType\", \"PrimaryPropertyType\", \"Neighborhood\", \"ZipCode\", \"CouncilDistrictCode\", \"LargestPropertyUseType\", \"SecondLargestPropertyUseType\", \"ThirdLargestPropertyUseType\"]\n",
    "#  \"Neighborhood\",\n",
    "category_types = {column: 'category' for column in columns_to_categorize}\n",
    "print(\"This dictionary will be used when reading the csv file to assign a type to categorical features :\", category_types)"
   ],
   "metadata": {
    "collapsed": false,
    "pycharm": {
     "name": "#%%\n"
    }
   }
  },
  {
   "cell_type": "code",
   "execution_count": 677,
   "outputs": [],
   "source": [
    "dataset_path = \"dataset/cleaned/2016_Building_Energy_Prediction.csv\"\n",
    "# we assign the categorical features with a categotical type\n",
    "data = pd.read_csv(dataset_path, dtype=category_types, sep=\",\")"
   ],
   "metadata": {
    "collapsed": false,
    "pycharm": {
     "name": "#%%\n"
    }
   }
  },
  {
   "cell_type": "code",
   "execution_count": 678,
   "outputs": [
    {
     "data": {
      "text/plain": "(3131, 29)"
     },
     "execution_count": 678,
     "metadata": {},
     "output_type": "execute_result"
    }
   ],
   "source": [
    "data.shape"
   ],
   "metadata": {
    "collapsed": false,
    "pycharm": {
     "name": "#%%\n"
    }
   }
  },
  {
   "cell_type": "code",
   "execution_count": 679,
   "outputs": [
    {
     "data": {
      "text/plain": "OSEBuildingID                         int64\nBuildingType                       category\nPrimaryPropertyType                category\nZipCode                            category\nCouncilDistrictCode                category\nNeighborhood                       category\nYearBuilt                             int64\nNumberofBuildings                   float64\nNumberofFloors                        int64\nPropertyGFATotal                      int64\nPropertyGFAParking                    int64\nPropertyGFABuilding(s)                int64\nLargestPropertyUseType             category\nLargestPropertyUseTypeGFA           float64\nSecondLargestPropertyUseType       category\nSecondLargestPropertyUseTypeGFA     float64\nThirdLargestPropertyUseType        category\nThirdLargestPropertyUseTypeGFA      float64\nENERGYSTARScore                     float64\nSiteEnergyUse(kBtu)                 float64\nSteamUse(kBtu)                      float64\nElectricity(kBtu)                   float64\nNaturalGas(kBtu)                    float64\nTotalGHGEmissions                   float64\nLog2-SiteEnergyUse(kBtu)            float64\nLog2-SteamUse(kBtu)                 float64\nLog2-Electricity(kBtu)              float64\nLog2-NaturalGas(kBtu)               float64\nLog2-TotalGHGEmissions              float64\ndtype: object"
     },
     "execution_count": 679,
     "metadata": {},
     "output_type": "execute_result"
    }
   ],
   "source": [
    "data.dtypes"
   ],
   "metadata": {
    "collapsed": false,
    "pycharm": {
     "name": "#%%\n"
    }
   }
  },
  {
   "cell_type": "code",
   "execution_count": 680,
   "outputs": [],
   "source": [
    "# predict : Electricity\n",
    "# train / test\n",
    "# standardisation = retirer la moyen et div par ecart type (scaling : les var qn sur emem echelle\n",
    "# var categ : encoding (one hot encoder)\n",
    "\n",
    "# la fin Feature engineriing\n",
    "\n",
    "# 2) entrainer le smodels\n",
    "# perf\n",
    "# temps de calcul\n",
    "# graph pour montrer la perf de chaque modele(barplot)\n",
    "# obj : finir exploration / finir feature engineering\n",
    "# obj un premier noteboook propre (try max)"
   ],
   "metadata": {
    "collapsed": false,
    "pycharm": {
     "name": "#%%\n"
    }
   }
  },
  {
   "cell_type": "code",
   "execution_count": 681,
   "outputs": [
    {
     "data": {
      "text/plain": "Index(['OSEBuildingID', 'BuildingType', 'PrimaryPropertyType', 'ZipCode',\n       'CouncilDistrictCode', 'Neighborhood', 'YearBuilt', 'NumberofBuildings',\n       'NumberofFloors', 'PropertyGFATotal', 'PropertyGFAParking',\n       'PropertyGFABuilding(s)', 'LargestPropertyUseType',\n       'LargestPropertyUseTypeGFA', 'SecondLargestPropertyUseType',\n       'SecondLargestPropertyUseTypeGFA', 'ThirdLargestPropertyUseType',\n       'ThirdLargestPropertyUseTypeGFA', 'ENERGYSTARScore',\n       'SiteEnergyUse(kBtu)', 'SteamUse(kBtu)', 'Electricity(kBtu)',\n       'NaturalGas(kBtu)', 'TotalGHGEmissions', 'Log2-SiteEnergyUse(kBtu)',\n       'Log2-SteamUse(kBtu)', 'Log2-Electricity(kBtu)',\n       'Log2-NaturalGas(kBtu)', 'Log2-TotalGHGEmissions'],\n      dtype='object')"
     },
     "execution_count": 681,
     "metadata": {},
     "output_type": "execute_result"
    }
   ],
   "source": [
    "data.columns"
   ],
   "metadata": {
    "collapsed": false,
    "pycharm": {
     "name": "#%%\n"
    }
   }
  },
  {
   "cell_type": "code",
   "execution_count": 682,
   "outputs": [
    {
     "name": "stdout",
     "output_type": "stream",
     "text": [
      "['BuildingType', 'PrimaryPropertyType', 'LargestPropertyUseType', 'Neighborhood', 'NumberofFloors', 'PropertyGFATotal', 'PropertyGFABuilding(s)', 'SecondLargestPropertyUseTypeGFA', 'ThirdLargestPropertyUseTypeGFA', 'Log2-SiteEnergyUse(kBtu)']\n"
     ]
    }
   ],
   "source": [
    "features_for_prediction = [\"BuildingType\", \"PrimaryPropertyType\", \"LargestPropertyUseType\", \"Neighborhood\", \"NumberofFloors\", \"PropertyGFATotal\", \"PropertyGFABuilding(s)\", \"SecondLargestPropertyUseTypeGFA\", \"ThirdLargestPropertyUseTypeGFA\"]\n",
    "\n",
    "#features_for_prediction = [\"YearBuilt\", \"NumberofBuildings\", \"NumberofFloors\", \"LargestPropertyUseTypeGFA\", \"SecondLargestPropertyUseTypeGFA\", \"ThirdLargestPropertyUseTypeGFA\",\n",
    "   #                        \"BuildingType\",\"PrimaryPropertyType\", \"Neighborhood\", \"LargestPropertyUseType\", \"SecondLargestPropertyUseType\", \"ThirdLargestPropertyUseType\"]\n",
    "\n",
    "variable_to_predict = \"Log2-SiteEnergyUse(kBtu)\"\n",
    "\n",
    "features_for_prediction.append(variable_to_predict)\n",
    "print(features_for_prediction)\n"
   ],
   "metadata": {
    "collapsed": false,
    "pycharm": {
     "name": "#%%\n"
    }
   }
  },
  {
   "cell_type": "code",
   "execution_count": 683,
   "outputs": [
    {
     "data": {
      "text/plain": "              BuildingType          PrimaryPropertyType  \\\n0     Multifamily LR (1-4)         Low-Rise Multifamily   \n1           NonResidential                    Warehouse   \n2     Multifamily LR (1-4)         Low-Rise Multifamily   \n3     Multifamily HR (10+)        High-Rise Multifamily   \n4     Multifamily LR (1-4)         Low-Rise Multifamily   \n...                    ...                          ...   \n3126        NonResidential           Mixed Use Property   \n3127  Multifamily LR (1-4)         Low-Rise Multifamily   \n3128        NonResidential  Small- and Mid-Sized Office   \n3129        NonResidential                 Retail Store   \n3130    Nonresidential COS           Mixed Use Property   \n\n          LargestPropertyUseType      Neighborhood  NumberofFloors  \\\n0            Multifamily Housing           central               3   \n1     Non-Refrigerated Warehouse  greater duwamish               2   \n2            Multifamily Housing  greater duwamish               3   \n3            Multifamily Housing  greater duwamish              15   \n4            Multifamily Housing  greater duwamish               3   \n...                          ...               ...             ...   \n3126         Multifamily Housing        lake union               3   \n3127         Multifamily Housing        lake union               4   \n3128                      Office        lake union               5   \n3129                Retail Store        lake union               2   \n3130          Other - Recreation  greater duwamish               1   \n\n      PropertyGFATotal  PropertyGFABuilding(s)  \\\n0                20739                   20739   \n1                25955                   25955   \n2                25120                   25120   \n3                73898                   73898   \n4                36383                   29353   \n...                ...                     ...   \n3126             41827                   32601   \n3127             36660                   36660   \n3128             33740                   27730   \n3129             20516                   20516   \n3130             18258                   18258   \n\n      SecondLargestPropertyUseTypeGFA  ThirdLargestPropertyUseTypeGFA  \\\n0                                 0.0                             0.0   \n1                              8745.0                          3060.0   \n2                                 0.0                             0.0   \n3                                 0.0                             0.0   \n4                              4200.0                             0.0   \n...                               ...                             ...   \n3126                          14128.0                          9680.0   \n3127                              0.0                             0.0   \n3128                           8762.0                          1500.0   \n3129                           8000.0                             0.0   \n3130                           8000.0                          1108.0   \n\n      Log2-SiteEnergyUse(kBtu)  \n0                    19.638743  \n1                    20.216217  \n2                    19.161427  \n3                    21.619415  \n4                    19.874160  \n...                        ...  \n3126                 21.999679  \n3127                 19.827444  \n3128                 20.300511  \n3129                 19.962678  \n3130                 20.136833  \n\n[3131 rows x 10 columns]",
      "text/html": "<div>\n<style scoped>\n    .dataframe tbody tr th:only-of-type {\n        vertical-align: middle;\n    }\n\n    .dataframe tbody tr th {\n        vertical-align: top;\n    }\n\n    .dataframe thead th {\n        text-align: right;\n    }\n</style>\n<table border=\"1\" class=\"dataframe\">\n  <thead>\n    <tr style=\"text-align: right;\">\n      <th></th>\n      <th>BuildingType</th>\n      <th>PrimaryPropertyType</th>\n      <th>LargestPropertyUseType</th>\n      <th>Neighborhood</th>\n      <th>NumberofFloors</th>\n      <th>PropertyGFATotal</th>\n      <th>PropertyGFABuilding(s)</th>\n      <th>SecondLargestPropertyUseTypeGFA</th>\n      <th>ThirdLargestPropertyUseTypeGFA</th>\n      <th>Log2-SiteEnergyUse(kBtu)</th>\n    </tr>\n  </thead>\n  <tbody>\n    <tr>\n      <th>0</th>\n      <td>Multifamily LR (1-4)</td>\n      <td>Low-Rise Multifamily</td>\n      <td>Multifamily Housing</td>\n      <td>central</td>\n      <td>3</td>\n      <td>20739</td>\n      <td>20739</td>\n      <td>0.0</td>\n      <td>0.0</td>\n      <td>19.638743</td>\n    </tr>\n    <tr>\n      <th>1</th>\n      <td>NonResidential</td>\n      <td>Warehouse</td>\n      <td>Non-Refrigerated Warehouse</td>\n      <td>greater duwamish</td>\n      <td>2</td>\n      <td>25955</td>\n      <td>25955</td>\n      <td>8745.0</td>\n      <td>3060.0</td>\n      <td>20.216217</td>\n    </tr>\n    <tr>\n      <th>2</th>\n      <td>Multifamily LR (1-4)</td>\n      <td>Low-Rise Multifamily</td>\n      <td>Multifamily Housing</td>\n      <td>greater duwamish</td>\n      <td>3</td>\n      <td>25120</td>\n      <td>25120</td>\n      <td>0.0</td>\n      <td>0.0</td>\n      <td>19.161427</td>\n    </tr>\n    <tr>\n      <th>3</th>\n      <td>Multifamily HR (10+)</td>\n      <td>High-Rise Multifamily</td>\n      <td>Multifamily Housing</td>\n      <td>greater duwamish</td>\n      <td>15</td>\n      <td>73898</td>\n      <td>73898</td>\n      <td>0.0</td>\n      <td>0.0</td>\n      <td>21.619415</td>\n    </tr>\n    <tr>\n      <th>4</th>\n      <td>Multifamily LR (1-4)</td>\n      <td>Low-Rise Multifamily</td>\n      <td>Multifamily Housing</td>\n      <td>greater duwamish</td>\n      <td>3</td>\n      <td>36383</td>\n      <td>29353</td>\n      <td>4200.0</td>\n      <td>0.0</td>\n      <td>19.874160</td>\n    </tr>\n    <tr>\n      <th>...</th>\n      <td>...</td>\n      <td>...</td>\n      <td>...</td>\n      <td>...</td>\n      <td>...</td>\n      <td>...</td>\n      <td>...</td>\n      <td>...</td>\n      <td>...</td>\n      <td>...</td>\n    </tr>\n    <tr>\n      <th>3126</th>\n      <td>NonResidential</td>\n      <td>Mixed Use Property</td>\n      <td>Multifamily Housing</td>\n      <td>lake union</td>\n      <td>3</td>\n      <td>41827</td>\n      <td>32601</td>\n      <td>14128.0</td>\n      <td>9680.0</td>\n      <td>21.999679</td>\n    </tr>\n    <tr>\n      <th>3127</th>\n      <td>Multifamily LR (1-4)</td>\n      <td>Low-Rise Multifamily</td>\n      <td>Multifamily Housing</td>\n      <td>lake union</td>\n      <td>4</td>\n      <td>36660</td>\n      <td>36660</td>\n      <td>0.0</td>\n      <td>0.0</td>\n      <td>19.827444</td>\n    </tr>\n    <tr>\n      <th>3128</th>\n      <td>NonResidential</td>\n      <td>Small- and Mid-Sized Office</td>\n      <td>Office</td>\n      <td>lake union</td>\n      <td>5</td>\n      <td>33740</td>\n      <td>27730</td>\n      <td>8762.0</td>\n      <td>1500.0</td>\n      <td>20.300511</td>\n    </tr>\n    <tr>\n      <th>3129</th>\n      <td>NonResidential</td>\n      <td>Retail Store</td>\n      <td>Retail Store</td>\n      <td>lake union</td>\n      <td>2</td>\n      <td>20516</td>\n      <td>20516</td>\n      <td>8000.0</td>\n      <td>0.0</td>\n      <td>19.962678</td>\n    </tr>\n    <tr>\n      <th>3130</th>\n      <td>Nonresidential COS</td>\n      <td>Mixed Use Property</td>\n      <td>Other - Recreation</td>\n      <td>greater duwamish</td>\n      <td>1</td>\n      <td>18258</td>\n      <td>18258</td>\n      <td>8000.0</td>\n      <td>1108.0</td>\n      <td>20.136833</td>\n    </tr>\n  </tbody>\n</table>\n<p>3131 rows × 10 columns</p>\n</div>"
     },
     "execution_count": 683,
     "metadata": {},
     "output_type": "execute_result"
    }
   ],
   "source": [
    "data = data[features_for_prediction]\n",
    "\n",
    "data"
   ],
   "metadata": {
    "collapsed": false,
    "pycharm": {
     "name": "#%%\n"
    }
   }
  },
  {
   "cell_type": "markdown",
   "source": [
    "## I) Feature Engineering : preparing the vectors and matrices\n"
   ],
   "metadata": {
    "collapsed": false,
    "pycharm": {
     "name": "#%% md\n"
    }
   }
  },
  {
   "cell_type": "markdown",
   "source": [
    "#### 1) Separating training data and target vector"
   ],
   "metadata": {
    "collapsed": false,
    "pycharm": {
     "name": "#%% md\n"
    }
   }
  },
  {
   "cell_type": "code",
   "execution_count": 684,
   "outputs": [
    {
     "name": "stdout",
     "output_type": "stream",
     "text": [
      "Shape of X : (3131, 9)\n",
      "Shape of y : (3131,)\n"
     ]
    }
   ],
   "source": [
    "# we create the data matrix / we only take the features\n",
    "X = data[data.columns[:-1]]\n",
    "\n",
    "# we create the target vector\n",
    "y = data[variable_to_predict].values # numpy array not a DataFrame anymore\n",
    "\n",
    "print(\"Shape of X :\", X.shape)\n",
    "print(\"Shape of y :\", y.shape)"
   ],
   "metadata": {
    "collapsed": false,
    "pycharm": {
     "name": "#%%\n"
    }
   }
  },
  {
   "cell_type": "code",
   "execution_count": 685,
   "outputs": [
    {
     "data": {
      "text/plain": "              BuildingType          PrimaryPropertyType  \\\n0     Multifamily LR (1-4)         Low-Rise Multifamily   \n1           NonResidential                    Warehouse   \n2     Multifamily LR (1-4)         Low-Rise Multifamily   \n3     Multifamily HR (10+)        High-Rise Multifamily   \n4     Multifamily LR (1-4)         Low-Rise Multifamily   \n...                    ...                          ...   \n3126        NonResidential           Mixed Use Property   \n3127  Multifamily LR (1-4)         Low-Rise Multifamily   \n3128        NonResidential  Small- and Mid-Sized Office   \n3129        NonResidential                 Retail Store   \n3130    Nonresidential COS           Mixed Use Property   \n\n          LargestPropertyUseType      Neighborhood  NumberofFloors  \\\n0            Multifamily Housing           central               3   \n1     Non-Refrigerated Warehouse  greater duwamish               2   \n2            Multifamily Housing  greater duwamish               3   \n3            Multifamily Housing  greater duwamish              15   \n4            Multifamily Housing  greater duwamish               3   \n...                          ...               ...             ...   \n3126         Multifamily Housing        lake union               3   \n3127         Multifamily Housing        lake union               4   \n3128                      Office        lake union               5   \n3129                Retail Store        lake union               2   \n3130          Other - Recreation  greater duwamish               1   \n\n      PropertyGFATotal  PropertyGFABuilding(s)  \\\n0                20739                   20739   \n1                25955                   25955   \n2                25120                   25120   \n3                73898                   73898   \n4                36383                   29353   \n...                ...                     ...   \n3126             41827                   32601   \n3127             36660                   36660   \n3128             33740                   27730   \n3129             20516                   20516   \n3130             18258                   18258   \n\n      SecondLargestPropertyUseTypeGFA  ThirdLargestPropertyUseTypeGFA  \n0                                 0.0                             0.0  \n1                              8745.0                          3060.0  \n2                                 0.0                             0.0  \n3                                 0.0                             0.0  \n4                              4200.0                             0.0  \n...                               ...                             ...  \n3126                          14128.0                          9680.0  \n3127                              0.0                             0.0  \n3128                           8762.0                          1500.0  \n3129                           8000.0                             0.0  \n3130                           8000.0                          1108.0  \n\n[3131 rows x 9 columns]",
      "text/html": "<div>\n<style scoped>\n    .dataframe tbody tr th:only-of-type {\n        vertical-align: middle;\n    }\n\n    .dataframe tbody tr th {\n        vertical-align: top;\n    }\n\n    .dataframe thead th {\n        text-align: right;\n    }\n</style>\n<table border=\"1\" class=\"dataframe\">\n  <thead>\n    <tr style=\"text-align: right;\">\n      <th></th>\n      <th>BuildingType</th>\n      <th>PrimaryPropertyType</th>\n      <th>LargestPropertyUseType</th>\n      <th>Neighborhood</th>\n      <th>NumberofFloors</th>\n      <th>PropertyGFATotal</th>\n      <th>PropertyGFABuilding(s)</th>\n      <th>SecondLargestPropertyUseTypeGFA</th>\n      <th>ThirdLargestPropertyUseTypeGFA</th>\n    </tr>\n  </thead>\n  <tbody>\n    <tr>\n      <th>0</th>\n      <td>Multifamily LR (1-4)</td>\n      <td>Low-Rise Multifamily</td>\n      <td>Multifamily Housing</td>\n      <td>central</td>\n      <td>3</td>\n      <td>20739</td>\n      <td>20739</td>\n      <td>0.0</td>\n      <td>0.0</td>\n    </tr>\n    <tr>\n      <th>1</th>\n      <td>NonResidential</td>\n      <td>Warehouse</td>\n      <td>Non-Refrigerated Warehouse</td>\n      <td>greater duwamish</td>\n      <td>2</td>\n      <td>25955</td>\n      <td>25955</td>\n      <td>8745.0</td>\n      <td>3060.0</td>\n    </tr>\n    <tr>\n      <th>2</th>\n      <td>Multifamily LR (1-4)</td>\n      <td>Low-Rise Multifamily</td>\n      <td>Multifamily Housing</td>\n      <td>greater duwamish</td>\n      <td>3</td>\n      <td>25120</td>\n      <td>25120</td>\n      <td>0.0</td>\n      <td>0.0</td>\n    </tr>\n    <tr>\n      <th>3</th>\n      <td>Multifamily HR (10+)</td>\n      <td>High-Rise Multifamily</td>\n      <td>Multifamily Housing</td>\n      <td>greater duwamish</td>\n      <td>15</td>\n      <td>73898</td>\n      <td>73898</td>\n      <td>0.0</td>\n      <td>0.0</td>\n    </tr>\n    <tr>\n      <th>4</th>\n      <td>Multifamily LR (1-4)</td>\n      <td>Low-Rise Multifamily</td>\n      <td>Multifamily Housing</td>\n      <td>greater duwamish</td>\n      <td>3</td>\n      <td>36383</td>\n      <td>29353</td>\n      <td>4200.0</td>\n      <td>0.0</td>\n    </tr>\n    <tr>\n      <th>...</th>\n      <td>...</td>\n      <td>...</td>\n      <td>...</td>\n      <td>...</td>\n      <td>...</td>\n      <td>...</td>\n      <td>...</td>\n      <td>...</td>\n      <td>...</td>\n    </tr>\n    <tr>\n      <th>3126</th>\n      <td>NonResidential</td>\n      <td>Mixed Use Property</td>\n      <td>Multifamily Housing</td>\n      <td>lake union</td>\n      <td>3</td>\n      <td>41827</td>\n      <td>32601</td>\n      <td>14128.0</td>\n      <td>9680.0</td>\n    </tr>\n    <tr>\n      <th>3127</th>\n      <td>Multifamily LR (1-4)</td>\n      <td>Low-Rise Multifamily</td>\n      <td>Multifamily Housing</td>\n      <td>lake union</td>\n      <td>4</td>\n      <td>36660</td>\n      <td>36660</td>\n      <td>0.0</td>\n      <td>0.0</td>\n    </tr>\n    <tr>\n      <th>3128</th>\n      <td>NonResidential</td>\n      <td>Small- and Mid-Sized Office</td>\n      <td>Office</td>\n      <td>lake union</td>\n      <td>5</td>\n      <td>33740</td>\n      <td>27730</td>\n      <td>8762.0</td>\n      <td>1500.0</td>\n    </tr>\n    <tr>\n      <th>3129</th>\n      <td>NonResidential</td>\n      <td>Retail Store</td>\n      <td>Retail Store</td>\n      <td>lake union</td>\n      <td>2</td>\n      <td>20516</td>\n      <td>20516</td>\n      <td>8000.0</td>\n      <td>0.0</td>\n    </tr>\n    <tr>\n      <th>3130</th>\n      <td>Nonresidential COS</td>\n      <td>Mixed Use Property</td>\n      <td>Other - Recreation</td>\n      <td>greater duwamish</td>\n      <td>1</td>\n      <td>18258</td>\n      <td>18258</td>\n      <td>8000.0</td>\n      <td>1108.0</td>\n    </tr>\n  </tbody>\n</table>\n<p>3131 rows × 9 columns</p>\n</div>"
     },
     "execution_count": 685,
     "metadata": {},
     "output_type": "execute_result"
    }
   ],
   "source": [
    "X"
   ],
   "metadata": {
    "collapsed": false,
    "pycharm": {
     "name": "#%%\n"
    }
   }
  },
  {
   "cell_type": "markdown",
   "source": [
    "#### 2) Separation train and test dataset\n"
   ],
   "metadata": {
    "collapsed": false,
    "pycharm": {
     "name": "#%% md\n"
    }
   }
  },
  {
   "cell_type": "code",
   "execution_count": 686,
   "outputs": [
    {
     "name": "stdout",
     "output_type": "stream",
     "text": [
      "We have to separate the train / test sets before normalising the dataset.\n"
     ]
    }
   ],
   "source": [
    "print(\"We have to separate the train / test sets before normalising the dataset.\")"
   ],
   "metadata": {
    "collapsed": false,
    "pycharm": {
     "name": "#%%\n"
    }
   }
  },
  {
   "cell_type": "code",
   "execution_count": 687,
   "outputs": [],
   "source": [
    "# We create a training set and a test set (the test set contains 30% of the dataset)\n",
    "from sklearn import model_selection\n",
    "X_train, X_test, y_train, y_test = model_selection.train_test_split(X, y, test_size=0.3,  random_state=42)"
   ],
   "metadata": {
    "collapsed": false,
    "pycharm": {
     "name": "#%%\n"
    }
   }
  },
  {
   "cell_type": "code",
   "execution_count": 688,
   "outputs": [
    {
     "data": {
      "text/plain": "(2191, 9)"
     },
     "execution_count": 688,
     "metadata": {},
     "output_type": "execute_result"
    }
   ],
   "source": [
    "X_train.shape"
   ],
   "metadata": {
    "collapsed": false,
    "pycharm": {
     "name": "#%%\n"
    }
   }
  },
  {
   "cell_type": "code",
   "execution_count": 689,
   "outputs": [
    {
     "data": {
      "text/plain": "(940, 9)"
     },
     "execution_count": 689,
     "metadata": {},
     "output_type": "execute_result"
    }
   ],
   "source": [
    "X_test.shape"
   ],
   "metadata": {
    "collapsed": false,
    "pycharm": {
     "name": "#%%\n"
    }
   }
  },
  {
   "cell_type": "markdown",
   "source": [
    "#### 3) Normalization"
   ],
   "metadata": {
    "collapsed": false,
    "pycharm": {
     "name": "#%% md\n"
    }
   }
  },
  {
   "cell_type": "code",
   "execution_count": 690,
   "outputs": [],
   "source": [
    "from sklearn.preprocessing import StandardScaler, OneHotEncoder, MinMaxScaler"
   ],
   "metadata": {
    "collapsed": false,
    "pycharm": {
     "name": "#%%\n"
    }
   }
  },
  {
   "cell_type": "code",
   "execution_count": 691,
   "outputs": [
    {
     "name": "stdout",
     "output_type": "stream",
     "text": [
      "We separate categorical variables from numerical variables.\n"
     ]
    }
   ],
   "source": [
    "print(\"We separate categorical variables from numerical variables.\")"
   ],
   "metadata": {
    "collapsed": false,
    "pycharm": {
     "name": "#%%\n"
    }
   }
  },
  {
   "cell_type": "code",
   "execution_count": 692,
   "outputs": [
    {
     "name": "stdout",
     "output_type": "stream",
     "text": [
      "We won't normalise the year so we drop it from numerical_columns.\n",
      "Shape of categorical variables :  (4,)\n",
      "Shape of numerical variables : (5,)\n"
     ]
    }
   ],
   "source": [
    "X.select_dtypes(['category','object']) # we don't have 'object' here but it is just in case.\n",
    "\n",
    "categorical_columns = X.select_dtypes(['category','object']).columns\n",
    "#numerical_columns = X.select_dtypes(include='number').columns.drop(\"YearBuilt\")\n",
    "numerical_columns = X.select_dtypes(include='number').columns\n",
    "print(\"We won't normalise the year so we drop it from numerical_columns.\")\n",
    "\n",
    "print(\"Shape of categorical variables : \", categorical_columns.shape)\n",
    "print(\"Shape of numerical variables :\", numerical_columns.shape)"
   ],
   "metadata": {
    "collapsed": false,
    "pycharm": {
     "name": "#%%\n"
    }
   }
  },
  {
   "cell_type": "markdown",
   "source": [
    "##### 1) Data Standardisation"
   ],
   "metadata": {
    "collapsed": false,
    "pycharm": {
     "name": "#%% md\n"
    }
   }
  },
  {
   "cell_type": "markdown",
   "source": [
    "We have to standardize the variables before learning a **Ridge Regression**.\n",
    "Standardizing means that each variable will have a **standard deviation** equal to 1."
   ],
   "metadata": {
    "collapsed": false,
    "pycharm": {
     "name": "#%% md\n"
    }
   }
  },
  {
   "cell_type": "code",
   "execution_count": 693,
   "outputs": [
    {
     "name": "stdout",
     "output_type": "stream",
     "text": [
      "Numerical variables standardization\n",
      "We have : 5 numerical features to standardize.\n",
      "\n",
      "Index(['NumberofFloors', 'PropertyGFATotal', 'PropertyGFABuilding(s)',\n",
      "       'SecondLargestPropertyUseTypeGFA', 'ThirdLargestPropertyUseTypeGFA'],\n",
      "      dtype='object')\n"
     ]
    }
   ],
   "source": [
    "print(\"Numerical variables standardization\")\n",
    "print(\"We have :\", numerical_columns.shape[0], \"numerical features to standardize.\",end=\"\\n\\n\")\n",
    "\n",
    "print(numerical_columns)"
   ],
   "metadata": {
    "collapsed": false,
    "pycharm": {
     "name": "#%%\n"
    }
   }
  },
  {
   "cell_type": "raw",
   "source": [
    "print(\"Dates standardisation : not\")\n",
    "\n",
    "from datetime import datetime\n",
    "\n",
    "def convert_to_timestamp(date):\n",
    "    \"\"\"\n",
    "    Convert date objects to integers\n",
    "    :param date:\n",
    "    :return:\n",
    "    \"\"\"\n",
    "    try:\n",
    "        timestamp = datetime.timestamp(date)\n",
    "        print(\"timestamp =\", timestamp, type(timestamp))\n",
    "        print(\"OK :\", date, type(date))\n",
    "\n",
    "        return timestamp\n",
    "    except Exception as e:\n",
    "        print(\"Error :\", date, type(date))\n",
    "        print(e)\n",
    "\n",
    "def normalize_min_max(data_frame, columns_to_scale):\n",
    "    \"\"\"\n",
    "    Normalizes the dataframe for the wanted column(s) using min/max\n",
    "    :param data_frame:\n",
    "    :param columns_to_scale: (list)\n",
    "    :return:\n",
    "    \"\"\"\n",
    "    min_max_scaler = MinMaxScaler()\n",
    "    df = data_frame.copy() # we will return a copy of our dataframe\n",
    "    df[columns_to_scale] = min_max_scaler.fit_transform(df[columns_to_scale])\n",
    "    return df\n"
   ],
   "metadata": {
    "collapsed": false,
    "pycharm": {
     "name": "#%% raw\n"
    }
   }
  },
  {
   "cell_type": "code",
   "execution_count": 694,
   "outputs": [
    {
     "name": "stdout",
     "output_type": "stream",
     "text": [
      "Before\n"
     ]
    },
    {
     "data": {
      "text/plain": "              BuildingType          PrimaryPropertyType  \\\n2091        NonResidential                        Hotel   \n2071        NonResidential                        Hotel   \n964     Nonresidential COS                        Other   \n2218        NonResidential  Small- and Mid-Sized Office   \n2737  Multifamily LR (1-4)         Low-Rise Multifamily   \n...                    ...                          ...   \n3092        NonResidential  Small- and Mid-Sized Office   \n1095  Multifamily MR (5-9)         Mid-Rise Multifamily   \n1130  Multifamily MR (5-9)         Mid-Rise Multifamily   \n1294  Multifamily MR (5-9)         Mid-Rise Multifamily   \n860   Multifamily MR (5-9)         Mid-Rise Multifamily   \n\n     LargestPropertyUseType           Neighborhood  NumberofFloors  \\\n2091                  Hotel               downtown              11   \n2071                  Hotel               downtown              20   \n964                   Other              northeast               3   \n2218                 Office             lake union               7   \n2737    Multifamily Housing  magnolia / queen anne               3   \n...                     ...                    ...             ...   \n3092                 Office  magnolia / queen anne               3   \n1095    Multifamily Housing              northeast               7   \n1130    Multifamily Housing                ballard               8   \n1294    Multifamily Housing                   east               5   \n860     Multifamily Housing  magnolia / queen anne               5   \n\n      PropertyGFATotal  PropertyGFABuilding(s)  \\\n2091             92190                   66990   \n2071             98634                   88591   \n964              27908                   27908   \n2218             94002                   94002   \n2737             32908                   32908   \n...                ...                     ...   \n3092             40067                   40067   \n1095             74421                   74421   \n1130            439262                  439262   \n1294             33274                   33274   \n860              34480                   34480   \n\n      SecondLargestPropertyUseTypeGFA  ThirdLargestPropertyUseTypeGFA  \n2091                          25200.0                             0.0  \n2071                          10043.0                          5000.0  \n964                               0.0                             0.0  \n2218                          31348.0                             0.0  \n2737                              0.0                             0.0  \n...                               ...                             ...  \n3092                              0.0                             0.0  \n1095                              0.0                             0.0  \n1130                         181729.0                         16415.0  \n1294                          12344.0                             0.0  \n860                               0.0                             0.0  \n\n[2191 rows x 9 columns]",
      "text/html": "<div>\n<style scoped>\n    .dataframe tbody tr th:only-of-type {\n        vertical-align: middle;\n    }\n\n    .dataframe tbody tr th {\n        vertical-align: top;\n    }\n\n    .dataframe thead th {\n        text-align: right;\n    }\n</style>\n<table border=\"1\" class=\"dataframe\">\n  <thead>\n    <tr style=\"text-align: right;\">\n      <th></th>\n      <th>BuildingType</th>\n      <th>PrimaryPropertyType</th>\n      <th>LargestPropertyUseType</th>\n      <th>Neighborhood</th>\n      <th>NumberofFloors</th>\n      <th>PropertyGFATotal</th>\n      <th>PropertyGFABuilding(s)</th>\n      <th>SecondLargestPropertyUseTypeGFA</th>\n      <th>ThirdLargestPropertyUseTypeGFA</th>\n    </tr>\n  </thead>\n  <tbody>\n    <tr>\n      <th>2091</th>\n      <td>NonResidential</td>\n      <td>Hotel</td>\n      <td>Hotel</td>\n      <td>downtown</td>\n      <td>11</td>\n      <td>92190</td>\n      <td>66990</td>\n      <td>25200.0</td>\n      <td>0.0</td>\n    </tr>\n    <tr>\n      <th>2071</th>\n      <td>NonResidential</td>\n      <td>Hotel</td>\n      <td>Hotel</td>\n      <td>downtown</td>\n      <td>20</td>\n      <td>98634</td>\n      <td>88591</td>\n      <td>10043.0</td>\n      <td>5000.0</td>\n    </tr>\n    <tr>\n      <th>964</th>\n      <td>Nonresidential COS</td>\n      <td>Other</td>\n      <td>Other</td>\n      <td>northeast</td>\n      <td>3</td>\n      <td>27908</td>\n      <td>27908</td>\n      <td>0.0</td>\n      <td>0.0</td>\n    </tr>\n    <tr>\n      <th>2218</th>\n      <td>NonResidential</td>\n      <td>Small- and Mid-Sized Office</td>\n      <td>Office</td>\n      <td>lake union</td>\n      <td>7</td>\n      <td>94002</td>\n      <td>94002</td>\n      <td>31348.0</td>\n      <td>0.0</td>\n    </tr>\n    <tr>\n      <th>2737</th>\n      <td>Multifamily LR (1-4)</td>\n      <td>Low-Rise Multifamily</td>\n      <td>Multifamily Housing</td>\n      <td>magnolia / queen anne</td>\n      <td>3</td>\n      <td>32908</td>\n      <td>32908</td>\n      <td>0.0</td>\n      <td>0.0</td>\n    </tr>\n    <tr>\n      <th>...</th>\n      <td>...</td>\n      <td>...</td>\n      <td>...</td>\n      <td>...</td>\n      <td>...</td>\n      <td>...</td>\n      <td>...</td>\n      <td>...</td>\n      <td>...</td>\n    </tr>\n    <tr>\n      <th>3092</th>\n      <td>NonResidential</td>\n      <td>Small- and Mid-Sized Office</td>\n      <td>Office</td>\n      <td>magnolia / queen anne</td>\n      <td>3</td>\n      <td>40067</td>\n      <td>40067</td>\n      <td>0.0</td>\n      <td>0.0</td>\n    </tr>\n    <tr>\n      <th>1095</th>\n      <td>Multifamily MR (5-9)</td>\n      <td>Mid-Rise Multifamily</td>\n      <td>Multifamily Housing</td>\n      <td>northeast</td>\n      <td>7</td>\n      <td>74421</td>\n      <td>74421</td>\n      <td>0.0</td>\n      <td>0.0</td>\n    </tr>\n    <tr>\n      <th>1130</th>\n      <td>Multifamily MR (5-9)</td>\n      <td>Mid-Rise Multifamily</td>\n      <td>Multifamily Housing</td>\n      <td>ballard</td>\n      <td>8</td>\n      <td>439262</td>\n      <td>439262</td>\n      <td>181729.0</td>\n      <td>16415.0</td>\n    </tr>\n    <tr>\n      <th>1294</th>\n      <td>Multifamily MR (5-9)</td>\n      <td>Mid-Rise Multifamily</td>\n      <td>Multifamily Housing</td>\n      <td>east</td>\n      <td>5</td>\n      <td>33274</td>\n      <td>33274</td>\n      <td>12344.0</td>\n      <td>0.0</td>\n    </tr>\n    <tr>\n      <th>860</th>\n      <td>Multifamily MR (5-9)</td>\n      <td>Mid-Rise Multifamily</td>\n      <td>Multifamily Housing</td>\n      <td>magnolia / queen anne</td>\n      <td>5</td>\n      <td>34480</td>\n      <td>34480</td>\n      <td>0.0</td>\n      <td>0.0</td>\n    </tr>\n  </tbody>\n</table>\n<p>2191 rows × 9 columns</p>\n</div>"
     },
     "metadata": {},
     "output_type": "display_data"
    },
    {
     "name": "stdout",
     "output_type": "stream",
     "text": [
      "After\n"
     ]
    },
    {
     "data": {
      "text/plain": "              BuildingType          PrimaryPropertyType  \\\n2091        NonResidential                        Hotel   \n2071        NonResidential                        Hotel   \n964     Nonresidential COS                        Other   \n2218        NonResidential  Small- and Mid-Sized Office   \n2737  Multifamily LR (1-4)         Low-Rise Multifamily   \n...                    ...                          ...   \n3092        NonResidential  Small- and Mid-Sized Office   \n1095  Multifamily MR (5-9)         Mid-Rise Multifamily   \n1130  Multifamily MR (5-9)         Mid-Rise Multifamily   \n1294  Multifamily MR (5-9)         Mid-Rise Multifamily   \n860   Multifamily MR (5-9)         Mid-Rise Multifamily   \n\n     LargestPropertyUseType           Neighborhood  NumberofFloors  \\\n2091                  Hotel               downtown        1.165681   \n2071                  Hotel               downtown        2.831097   \n964                   Other              northeast       -0.314688   \n2218                 Office             lake union        0.425496   \n2737    Multifamily Housing  magnolia / queen anne       -0.314688   \n...                     ...                    ...             ...   \n3092                 Office  magnolia / queen anne       -0.314688   \n1095    Multifamily Housing              northeast        0.425496   \n1130    Multifamily Housing                ballard        0.610543   \n1294    Multifamily Housing                   east        0.055404   \n860     Multifamily Housing  magnolia / queen anne        0.055404   \n\n      PropertyGFATotal  PropertyGFABuilding(s)  \\\n2091          0.028850               -0.110564   \n2071          0.076627                0.075324   \n964          -0.447747               -0.446885   \n2218          0.042285                0.121888   \n2737         -0.410676               -0.403857   \n...                ...                     ...   \n3092         -0.357598               -0.342250   \n1095         -0.102892               -0.046617   \n1130          2.602097                3.093028   \n1294         -0.407962               -0.400708   \n860          -0.399021               -0.390329   \n\n      SecondLargestPropertyUseTypeGFA  ThirdLargestPropertyUseTypeGFA  \n2091                         0.311646                       -0.207072  \n2071                        -0.105775                        0.350267  \n964                         -0.382358                       -0.207072  \n2218                         0.480961                       -0.207072  \n2737                        -0.382358                       -0.207072  \n...                               ...                             ...  \n3092                        -0.382358                       -0.207072  \n1095                        -0.382358                       -0.207072  \n1130                         4.622429                        1.622672  \n1294                        -0.042406                       -0.207072  \n860                         -0.382358                       -0.207072  \n\n[2191 rows x 9 columns]",
      "text/html": "<div>\n<style scoped>\n    .dataframe tbody tr th:only-of-type {\n        vertical-align: middle;\n    }\n\n    .dataframe tbody tr th {\n        vertical-align: top;\n    }\n\n    .dataframe thead th {\n        text-align: right;\n    }\n</style>\n<table border=\"1\" class=\"dataframe\">\n  <thead>\n    <tr style=\"text-align: right;\">\n      <th></th>\n      <th>BuildingType</th>\n      <th>PrimaryPropertyType</th>\n      <th>LargestPropertyUseType</th>\n      <th>Neighborhood</th>\n      <th>NumberofFloors</th>\n      <th>PropertyGFATotal</th>\n      <th>PropertyGFABuilding(s)</th>\n      <th>SecondLargestPropertyUseTypeGFA</th>\n      <th>ThirdLargestPropertyUseTypeGFA</th>\n    </tr>\n  </thead>\n  <tbody>\n    <tr>\n      <th>2091</th>\n      <td>NonResidential</td>\n      <td>Hotel</td>\n      <td>Hotel</td>\n      <td>downtown</td>\n      <td>1.165681</td>\n      <td>0.028850</td>\n      <td>-0.110564</td>\n      <td>0.311646</td>\n      <td>-0.207072</td>\n    </tr>\n    <tr>\n      <th>2071</th>\n      <td>NonResidential</td>\n      <td>Hotel</td>\n      <td>Hotel</td>\n      <td>downtown</td>\n      <td>2.831097</td>\n      <td>0.076627</td>\n      <td>0.075324</td>\n      <td>-0.105775</td>\n      <td>0.350267</td>\n    </tr>\n    <tr>\n      <th>964</th>\n      <td>Nonresidential COS</td>\n      <td>Other</td>\n      <td>Other</td>\n      <td>northeast</td>\n      <td>-0.314688</td>\n      <td>-0.447747</td>\n      <td>-0.446885</td>\n      <td>-0.382358</td>\n      <td>-0.207072</td>\n    </tr>\n    <tr>\n      <th>2218</th>\n      <td>NonResidential</td>\n      <td>Small- and Mid-Sized Office</td>\n      <td>Office</td>\n      <td>lake union</td>\n      <td>0.425496</td>\n      <td>0.042285</td>\n      <td>0.121888</td>\n      <td>0.480961</td>\n      <td>-0.207072</td>\n    </tr>\n    <tr>\n      <th>2737</th>\n      <td>Multifamily LR (1-4)</td>\n      <td>Low-Rise Multifamily</td>\n      <td>Multifamily Housing</td>\n      <td>magnolia / queen anne</td>\n      <td>-0.314688</td>\n      <td>-0.410676</td>\n      <td>-0.403857</td>\n      <td>-0.382358</td>\n      <td>-0.207072</td>\n    </tr>\n    <tr>\n      <th>...</th>\n      <td>...</td>\n      <td>...</td>\n      <td>...</td>\n      <td>...</td>\n      <td>...</td>\n      <td>...</td>\n      <td>...</td>\n      <td>...</td>\n      <td>...</td>\n    </tr>\n    <tr>\n      <th>3092</th>\n      <td>NonResidential</td>\n      <td>Small- and Mid-Sized Office</td>\n      <td>Office</td>\n      <td>magnolia / queen anne</td>\n      <td>-0.314688</td>\n      <td>-0.357598</td>\n      <td>-0.342250</td>\n      <td>-0.382358</td>\n      <td>-0.207072</td>\n    </tr>\n    <tr>\n      <th>1095</th>\n      <td>Multifamily MR (5-9)</td>\n      <td>Mid-Rise Multifamily</td>\n      <td>Multifamily Housing</td>\n      <td>northeast</td>\n      <td>0.425496</td>\n      <td>-0.102892</td>\n      <td>-0.046617</td>\n      <td>-0.382358</td>\n      <td>-0.207072</td>\n    </tr>\n    <tr>\n      <th>1130</th>\n      <td>Multifamily MR (5-9)</td>\n      <td>Mid-Rise Multifamily</td>\n      <td>Multifamily Housing</td>\n      <td>ballard</td>\n      <td>0.610543</td>\n      <td>2.602097</td>\n      <td>3.093028</td>\n      <td>4.622429</td>\n      <td>1.622672</td>\n    </tr>\n    <tr>\n      <th>1294</th>\n      <td>Multifamily MR (5-9)</td>\n      <td>Mid-Rise Multifamily</td>\n      <td>Multifamily Housing</td>\n      <td>east</td>\n      <td>0.055404</td>\n      <td>-0.407962</td>\n      <td>-0.400708</td>\n      <td>-0.042406</td>\n      <td>-0.207072</td>\n    </tr>\n    <tr>\n      <th>860</th>\n      <td>Multifamily MR (5-9)</td>\n      <td>Mid-Rise Multifamily</td>\n      <td>Multifamily Housing</td>\n      <td>magnolia / queen anne</td>\n      <td>0.055404</td>\n      <td>-0.399021</td>\n      <td>-0.390329</td>\n      <td>-0.382358</td>\n      <td>-0.207072</td>\n    </tr>\n  </tbody>\n</table>\n<p>2191 rows × 9 columns</p>\n</div>"
     },
     "metadata": {},
     "output_type": "display_data"
    }
   ],
   "source": [
    "# We train / fit the scaler on the training set / Computes the mean and std to be used for later scaling.\n",
    "std_scale = StandardScaler().fit(X_train[numerical_columns])\n",
    "# We transform the training set and the testing set / Performs standardization by centering and scaling.\n",
    "X_train_std = X_train.copy()\n",
    "X_test_std = X_test.copy()\n",
    "\n",
    "X_train_std[numerical_columns] = std_scale.transform(X_train[numerical_columns])\n",
    "X_test_std[numerical_columns] = std_scale.transform(X_test[numerical_columns])\n",
    "\n",
    "print(\"Before\")\n",
    "display(X_train)\n",
    "print(\"After\")\n",
    "display(X_train_std)"
   ],
   "metadata": {
    "collapsed": false,
    "pycharm": {
     "name": "#%%\n"
    }
   }
  },
  {
   "cell_type": "code",
   "execution_count": 695,
   "outputs": [
    {
     "name": "stdout",
     "output_type": "stream",
     "text": [
      "We can check that the numerical variables have a Standard Normal distribution.\n"
     ]
    },
    {
     "name": "stderr",
     "output_type": "stream",
     "text": [
      "C:\\Users\\athen\\Anaconda3\\envs\\P4_OC\\lib\\site-packages\\seaborn\\distributions.py:2619: FutureWarning: `distplot` is a deprecated function and will be removed in a future version. Please adapt your code to use either `displot` (a figure-level function with similar flexibility) or `kdeplot` (an axes-level function for kernel density plots).\n",
      "  warnings.warn(msg, FutureWarning)\n",
      "C:\\Users\\athen\\Anaconda3\\envs\\P4_OC\\lib\\site-packages\\seaborn\\distributions.py:2619: FutureWarning: `distplot` is a deprecated function and will be removed in a future version. Please adapt your code to use either `displot` (a figure-level function with similar flexibility) or `kdeplot` (an axes-level function for kernel density plots).\n",
      "  warnings.warn(msg, FutureWarning)\n",
      "C:\\Users\\athen\\Anaconda3\\envs\\P4_OC\\lib\\site-packages\\seaborn\\distributions.py:2619: FutureWarning: `distplot` is a deprecated function and will be removed in a future version. Please adapt your code to use either `displot` (a figure-level function with similar flexibility) or `kdeplot` (an axes-level function for kernel density plots).\n",
      "  warnings.warn(msg, FutureWarning)\n",
      "C:\\Users\\athen\\Anaconda3\\envs\\P4_OC\\lib\\site-packages\\seaborn\\distributions.py:2619: FutureWarning: `distplot` is a deprecated function and will be removed in a future version. Please adapt your code to use either `displot` (a figure-level function with similar flexibility) or `kdeplot` (an axes-level function for kernel density plots).\n",
      "  warnings.warn(msg, FutureWarning)\n",
      "C:\\Users\\athen\\Anaconda3\\envs\\P4_OC\\lib\\site-packages\\seaborn\\distributions.py:2619: FutureWarning: `distplot` is a deprecated function and will be removed in a future version. Please adapt your code to use either `displot` (a figure-level function with similar flexibility) or `kdeplot` (an axes-level function for kernel density plots).\n",
      "  warnings.warn(msg, FutureWarning)\n"
     ]
    },
    {
     "data": {
      "text/plain": "<Figure size 864x1008 with 28 Axes>",
      "image/png": "[encoded data removed]"
     },
     "metadata": {
      "needs_background": "light"
     },
     "output_type": "display_data"
    }
   ],
   "source": [
    "print(\"We can check that the numerical variables have a Standard Normal distribution.\")\n",
    "densite(X_train[numerical_columns])"
   ],
   "metadata": {
    "collapsed": false,
    "pycharm": {
     "name": "#%%\n"
    }
   }
  },
  {
   "cell_type": "markdown",
   "source": [
    "##### 2) Feature Encoding : One Hot Encoder"
   ],
   "metadata": {
    "collapsed": false,
    "pycharm": {
     "name": "#%% md\n"
    }
   }
  },
  {
   "cell_type": "code",
   "execution_count": 696,
   "outputs": [
    {
     "name": "stdout",
     "output_type": "stream",
     "text": [
      "Categorical variables featuring\n",
      "We have : 4 categorical features to encode.\n",
      "\n",
      "Index(['BuildingType', 'PrimaryPropertyType', 'LargestPropertyUseType',\n",
      "       'Neighborhood'],\n",
      "      dtype='object')\n"
     ]
    }
   ],
   "source": [
    "print(\"Categorical variables featuring\")\n",
    "\n",
    "print(\"We have :\", categorical_columns.shape[0], \"categorical features to encode.\", end=\"\\n\\n\")\n",
    "print(categorical_columns)"
   ],
   "metadata": {
    "collapsed": false,
    "pycharm": {
     "name": "#%%\n"
    }
   }
  },
  {
   "cell_type": "code",
   "execution_count": 697,
   "outputs": [
    {
     "data": {
      "text/plain": "BuildingType                       category\nPrimaryPropertyType                category\nLargestPropertyUseType             category\nNeighborhood                       category\nNumberofFloors                        int64\nPropertyGFATotal                      int64\nPropertyGFABuilding(s)                int64\nSecondLargestPropertyUseTypeGFA     float64\nThirdLargestPropertyUseTypeGFA      float64\ndtype: object"
     },
     "execution_count": 697,
     "metadata": {},
     "output_type": "execute_result"
    }
   ],
   "source": [
    "X.dtypes # we check that we have categories"
   ],
   "metadata": {
    "collapsed": false,
    "pycharm": {
     "name": "#%%\n"
    }
   }
  },
  {
   "cell_type": "code",
   "execution_count": 698,
   "outputs": [
    {
     "data": {
      "text/plain": "BuildingType               8\nPrimaryPropertyType       23\nLargestPropertyUseType    55\nNeighborhood              13\ndtype: int64"
     },
     "execution_count": 698,
     "metadata": {},
     "output_type": "execute_result"
    }
   ],
   "source": [
    "X[categorical_columns].nunique()"
   ],
   "metadata": {
    "collapsed": false,
    "pycharm": {
     "name": "#%%\n"
    }
   }
  },
  {
   "cell_type": "code",
   "execution_count": 699,
   "outputs": [
    {
     "data": {
      "text/plain": "              BuildingType          PrimaryPropertyType  \\\n2091        NonResidential                        Hotel   \n2071        NonResidential                        Hotel   \n964     Nonresidential COS                        Other   \n2218        NonResidential  Small- and Mid-Sized Office   \n2737  Multifamily LR (1-4)         Low-Rise Multifamily   \n...                    ...                          ...   \n3092        NonResidential  Small- and Mid-Sized Office   \n1095  Multifamily MR (5-9)         Mid-Rise Multifamily   \n1130  Multifamily MR (5-9)         Mid-Rise Multifamily   \n1294  Multifamily MR (5-9)         Mid-Rise Multifamily   \n860   Multifamily MR (5-9)         Mid-Rise Multifamily   \n\n     LargestPropertyUseType           Neighborhood  \n2091                  Hotel               downtown  \n2071                  Hotel               downtown  \n964                   Other              northeast  \n2218                 Office             lake union  \n2737    Multifamily Housing  magnolia / queen anne  \n...                     ...                    ...  \n3092                 Office  magnolia / queen anne  \n1095    Multifamily Housing              northeast  \n1130    Multifamily Housing                ballard  \n1294    Multifamily Housing                   east  \n860     Multifamily Housing  magnolia / queen anne  \n\n[2191 rows x 4 columns]",
      "text/html": "<div>\n<style scoped>\n    .dataframe tbody tr th:only-of-type {\n        vertical-align: middle;\n    }\n\n    .dataframe tbody tr th {\n        vertical-align: top;\n    }\n\n    .dataframe thead th {\n        text-align: right;\n    }\n</style>\n<table border=\"1\" class=\"dataframe\">\n  <thead>\n    <tr style=\"text-align: right;\">\n      <th></th>\n      <th>BuildingType</th>\n      <th>PrimaryPropertyType</th>\n      <th>LargestPropertyUseType</th>\n      <th>Neighborhood</th>\n    </tr>\n  </thead>\n  <tbody>\n    <tr>\n      <th>2091</th>\n      <td>NonResidential</td>\n      <td>Hotel</td>\n      <td>Hotel</td>\n      <td>downtown</td>\n    </tr>\n    <tr>\n      <th>2071</th>\n      <td>NonResidential</td>\n      <td>Hotel</td>\n      <td>Hotel</td>\n      <td>downtown</td>\n    </tr>\n    <tr>\n      <th>964</th>\n      <td>Nonresidential COS</td>\n      <td>Other</td>\n      <td>Other</td>\n      <td>northeast</td>\n    </tr>\n    <tr>\n      <th>2218</th>\n      <td>NonResidential</td>\n      <td>Small- and Mid-Sized Office</td>\n      <td>Office</td>\n      <td>lake union</td>\n    </tr>\n    <tr>\n      <th>2737</th>\n      <td>Multifamily LR (1-4)</td>\n      <td>Low-Rise Multifamily</td>\n      <td>Multifamily Housing</td>\n      <td>magnolia / queen anne</td>\n    </tr>\n    <tr>\n      <th>...</th>\n      <td>...</td>\n      <td>...</td>\n      <td>...</td>\n      <td>...</td>\n    </tr>\n    <tr>\n      <th>3092</th>\n      <td>NonResidential</td>\n      <td>Small- and Mid-Sized Office</td>\n      <td>Office</td>\n      <td>magnolia / queen anne</td>\n    </tr>\n    <tr>\n      <th>1095</th>\n      <td>Multifamily MR (5-9)</td>\n      <td>Mid-Rise Multifamily</td>\n      <td>Multifamily Housing</td>\n      <td>northeast</td>\n    </tr>\n    <tr>\n      <th>1130</th>\n      <td>Multifamily MR (5-9)</td>\n      <td>Mid-Rise Multifamily</td>\n      <td>Multifamily Housing</td>\n      <td>ballard</td>\n    </tr>\n    <tr>\n      <th>1294</th>\n      <td>Multifamily MR (5-9)</td>\n      <td>Mid-Rise Multifamily</td>\n      <td>Multifamily Housing</td>\n      <td>east</td>\n    </tr>\n    <tr>\n      <th>860</th>\n      <td>Multifamily MR (5-9)</td>\n      <td>Mid-Rise Multifamily</td>\n      <td>Multifamily Housing</td>\n      <td>magnolia / queen anne</td>\n    </tr>\n  </tbody>\n</table>\n<p>2191 rows × 4 columns</p>\n</div>"
     },
     "execution_count": 699,
     "metadata": {},
     "output_type": "execute_result"
    }
   ],
   "source": [
    "X_train_std[categorical_columns]"
   ],
   "metadata": {
    "collapsed": false,
    "pycharm": {
     "name": "#%%\n"
    }
   }
  },
  {
   "cell_type": "markdown",
   "source": [
    "##### Encoding the categorical features of the train set\n"
   ],
   "metadata": {
    "collapsed": false,
    "pycharm": {
     "name": "#%% md\n"
    }
   }
  },
  {
   "cell_type": "code",
   "execution_count": 700,
   "outputs": [
    {
     "name": "stdout",
     "output_type": "stream",
     "text": [
      "Now, we can use the One Hot Encoder.\n",
      "With the one hot encoder, we will get : 99 columns to encodes the categorical features.\n"
     ]
    }
   ],
   "source": [
    "print(\"Now, we can use the One Hot Encoder.\")\n",
    "print(\"With the one hot encoder, we will get :\", sum([X[categorical_columns].nunique()[i] for i in range(len(categorical_columns))]), \"columns to encodes the categorical features.\")"
   ],
   "metadata": {
    "collapsed": false,
    "pycharm": {
     "name": "#%%\n"
    }
   }
  },
  {
   "cell_type": "code",
   "execution_count": 701,
   "outputs": [
    {
     "name": "stdout",
     "output_type": "stream",
     "text": [
      "We have indeed : 94 labels after encoding the categorical variables.\n"
     ]
    },
    {
     "data": {
      "text/plain": "      BuildingType_Campus  BuildingType_Multifamily HR (10+)  \\\n1                     0.0                                0.0   \n2                     0.0                                0.0   \n3                     0.0                                1.0   \n4                     0.0                                0.0   \n5                     0.0                                0.0   \n...                   ...                                ...   \n3124                  0.0                                0.0   \n3125                  0.0                                0.0   \n3126                  0.0                                0.0   \n3128                  0.0                                0.0   \n3129                  0.0                                0.0   \n\n      BuildingType_Multifamily LR (1-4)  BuildingType_Multifamily MR (5-9)  \\\n1                                   0.0                                0.0   \n2                                   1.0                                0.0   \n3                                   0.0                                0.0   \n4                                   1.0                                0.0   \n5                                   0.0                                0.0   \n...                                 ...                                ...   \n3124                                0.0                                1.0   \n3125                                0.0                                0.0   \n3126                                0.0                                0.0   \n3128                                0.0                                0.0   \n3129                                0.0                                0.0   \n\n      BuildingType_NonResidential  BuildingType_Nonresidential COS  \\\n1                             1.0                              0.0   \n2                             0.0                              0.0   \n3                             0.0                              0.0   \n4                             0.0                              0.0   \n5                             1.0                              0.0   \n...                           ...                              ...   \n3124                          0.0                              0.0   \n3125                          1.0                              0.0   \n3126                          1.0                              0.0   \n3128                          1.0                              0.0   \n3129                          1.0                              0.0   \n\n      BuildingType_Nonresidential WA  BuildingType_SPS-District K-12  \\\n1                                0.0                             0.0   \n2                                0.0                             0.0   \n3                                0.0                             0.0   \n4                                0.0                             0.0   \n5                                0.0                             0.0   \n...                              ...                             ...   \n3124                             0.0                             0.0   \n3125                             0.0                             0.0   \n3126                             0.0                             0.0   \n3128                             0.0                             0.0   \n3129                             0.0                             0.0   \n\n      PrimaryPropertyType_Distribution Center  \\\n1                                         0.0   \n2                                         0.0   \n3                                         0.0   \n4                                         0.0   \n5                                         0.0   \n...                                       ...   \n3124                                      0.0   \n3125                                      0.0   \n3126                                      0.0   \n3128                                      0.0   \n3129                                      0.0   \n\n      PrimaryPropertyType_High-Rise Multifamily  ...  Neighborhood_downtown  \\\n1                                           0.0  ...                    0.0   \n2                                           0.0  ...                    0.0   \n3                                           1.0  ...                    0.0   \n4                                           0.0  ...                    0.0   \n5                                           0.0  ...                    0.0   \n...                                         ...  ...                    ...   \n3124                                        0.0  ...                    0.0   \n3125                                        0.0  ...                    0.0   \n3126                                        0.0  ...                    0.0   \n3128                                        0.0  ...                    0.0   \n3129                                        0.0  ...                    0.0   \n\n      Neighborhood_east  Neighborhood_greater duwamish  \\\n1                   0.0                            1.0   \n2                   0.0                            1.0   \n3                   0.0                            1.0   \n4                   0.0                            1.0   \n5                   0.0                            0.0   \n...                 ...                            ...   \n3124                1.0                            0.0   \n3125                0.0                            0.0   \n3126                0.0                            0.0   \n3128                0.0                            0.0   \n3129                0.0                            0.0   \n\n      Neighborhood_lake union  Neighborhood_magnolia / queen anne  \\\n1                         0.0                                 0.0   \n2                         0.0                                 0.0   \n3                         0.0                                 0.0   \n4                         0.0                                 0.0   \n5                         0.0                                 0.0   \n...                       ...                                 ...   \n3124                      0.0                                 0.0   \n3125                      1.0                                 0.0   \n3126                      1.0                                 0.0   \n3128                      1.0                                 0.0   \n3129                      1.0                                 0.0   \n\n      Neighborhood_north  Neighborhood_northeast  Neighborhood_northwest  \\\n1                    0.0                     0.0                     0.0   \n2                    0.0                     0.0                     0.0   \n3                    0.0                     0.0                     0.0   \n4                    0.0                     0.0                     0.0   \n5                    0.0                     1.0                     0.0   \n...                  ...                     ...                     ...   \n3124                 0.0                     0.0                     0.0   \n3125                 0.0                     0.0                     0.0   \n3126                 0.0                     0.0                     0.0   \n3128                 0.0                     0.0                     0.0   \n3129                 0.0                     0.0                     0.0   \n\n      Neighborhood_southeast  Neighborhood_southwest  \n1                        0.0                     0.0  \n2                        0.0                     0.0  \n3                        0.0                     0.0  \n4                        0.0                     0.0  \n5                        0.0                     0.0  \n...                      ...                     ...  \n3124                     0.0                     0.0  \n3125                     0.0                     0.0  \n3126                     0.0                     0.0  \n3128                     0.0                     0.0  \n3129                     0.0                     0.0  \n\n[2191 rows x 94 columns]",
      "text/html": "<div>\n<style scoped>\n    .dataframe tbody tr th:only-of-type {\n        vertical-align: middle;\n    }\n\n    .dataframe tbody tr th {\n        vertical-align: top;\n    }\n\n    .dataframe thead th {\n        text-align: right;\n    }\n</style>\n<table border=\"1\" class=\"dataframe\">\n  <thead>\n    <tr style=\"text-align: right;\">\n      <th></th>\n      <th>BuildingType_Campus</th>\n      <th>BuildingType_Multifamily HR (10+)</th>\n      <th>BuildingType_Multifamily LR (1-4)</th>\n      <th>BuildingType_Multifamily MR (5-9)</th>\n      <th>BuildingType_NonResidential</th>\n      <th>BuildingType_Nonresidential COS</th>\n      <th>BuildingType_Nonresidential WA</th>\n      <th>BuildingType_SPS-District K-12</th>\n      <th>PrimaryPropertyType_Distribution Center</th>\n      <th>PrimaryPropertyType_High-Rise Multifamily</th>\n      <th>...</th>\n      <th>Neighborhood_downtown</th>\n      <th>Neighborhood_east</th>\n      <th>Neighborhood_greater duwamish</th>\n      <th>Neighborhood_lake union</th>\n      <th>Neighborhood_magnolia / queen anne</th>\n      <th>Neighborhood_north</th>\n      <th>Neighborhood_northeast</th>\n      <th>Neighborhood_northwest</th>\n      <th>Neighborhood_southeast</th>\n      <th>Neighborhood_southwest</th>\n    </tr>\n  </thead>\n  <tbody>\n    <tr>\n      <th>1</th>\n      <td>0.0</td>\n      <td>0.0</td>\n      <td>0.0</td>\n      <td>0.0</td>\n      <td>1.0</td>\n      <td>0.0</td>\n      <td>0.0</td>\n      <td>0.0</td>\n      <td>0.0</td>\n      <td>0.0</td>\n      <td>...</td>\n      <td>0.0</td>\n      <td>0.0</td>\n      <td>1.0</td>\n      <td>0.0</td>\n      <td>0.0</td>\n      <td>0.0</td>\n      <td>0.0</td>\n      <td>0.0</td>\n      <td>0.0</td>\n      <td>0.0</td>\n    </tr>\n    <tr>\n      <th>2</th>\n      <td>0.0</td>\n      <td>0.0</td>\n      <td>1.0</td>\n      <td>0.0</td>\n      <td>0.0</td>\n      <td>0.0</td>\n      <td>0.0</td>\n      <td>0.0</td>\n      <td>0.0</td>\n      <td>0.0</td>\n      <td>...</td>\n      <td>0.0</td>\n      <td>0.0</td>\n      <td>1.0</td>\n      <td>0.0</td>\n      <td>0.0</td>\n      <td>0.0</td>\n      <td>0.0</td>\n      <td>0.0</td>\n      <td>0.0</td>\n      <td>0.0</td>\n    </tr>\n    <tr>\n      <th>3</th>\n      <td>0.0</td>\n      <td>1.0</td>\n      <td>0.0</td>\n      <td>0.0</td>\n      <td>0.0</td>\n      <td>0.0</td>\n      <td>0.0</td>\n      <td>0.0</td>\n      <td>0.0</td>\n      <td>1.0</td>\n      <td>...</td>\n      <td>0.0</td>\n      <td>0.0</td>\n      <td>1.0</td>\n      <td>0.0</td>\n      <td>0.0</td>\n      <td>0.0</td>\n      <td>0.0</td>\n      <td>0.0</td>\n      <td>0.0</td>\n      <td>0.0</td>\n    </tr>\n    <tr>\n      <th>4</th>\n      <td>0.0</td>\n      <td>0.0</td>\n      <td>1.0</td>\n      <td>0.0</td>\n      <td>0.0</td>\n      <td>0.0</td>\n      <td>0.0</td>\n      <td>0.0</td>\n      <td>0.0</td>\n      <td>0.0</td>\n      <td>...</td>\n      <td>0.0</td>\n      <td>0.0</td>\n      <td>1.0</td>\n      <td>0.0</td>\n      <td>0.0</td>\n      <td>0.0</td>\n      <td>0.0</td>\n      <td>0.0</td>\n      <td>0.0</td>\n      <td>0.0</td>\n    </tr>\n    <tr>\n      <th>5</th>\n      <td>0.0</td>\n      <td>0.0</td>\n      <td>0.0</td>\n      <td>0.0</td>\n      <td>1.0</td>\n      <td>0.0</td>\n      <td>0.0</td>\n      <td>0.0</td>\n      <td>0.0</td>\n      <td>0.0</td>\n      <td>...</td>\n      <td>0.0</td>\n      <td>0.0</td>\n      <td>0.0</td>\n      <td>0.0</td>\n      <td>0.0</td>\n      <td>0.0</td>\n      <td>1.0</td>\n      <td>0.0</td>\n      <td>0.0</td>\n      <td>0.0</td>\n    </tr>\n    <tr>\n      <th>...</th>\n      <td>...</td>\n      <td>...</td>\n      <td>...</td>\n      <td>...</td>\n      <td>...</td>\n      <td>...</td>\n      <td>...</td>\n      <td>...</td>\n      <td>...</td>\n      <td>...</td>\n      <td>...</td>\n      <td>...</td>\n      <td>...</td>\n      <td>...</td>\n      <td>...</td>\n      <td>...</td>\n      <td>...</td>\n      <td>...</td>\n      <td>...</td>\n      <td>...</td>\n      <td>...</td>\n    </tr>\n    <tr>\n      <th>3124</th>\n      <td>0.0</td>\n      <td>0.0</td>\n      <td>0.0</td>\n      <td>1.0</td>\n      <td>0.0</td>\n      <td>0.0</td>\n      <td>0.0</td>\n      <td>0.0</td>\n      <td>0.0</td>\n      <td>0.0</td>\n      <td>...</td>\n      <td>0.0</td>\n      <td>1.0</td>\n      <td>0.0</td>\n      <td>0.0</td>\n      <td>0.0</td>\n      <td>0.0</td>\n      <td>0.0</td>\n      <td>0.0</td>\n      <td>0.0</td>\n      <td>0.0</td>\n    </tr>\n    <tr>\n      <th>3125</th>\n      <td>0.0</td>\n      <td>0.0</td>\n      <td>0.0</td>\n      <td>0.0</td>\n      <td>1.0</td>\n      <td>0.0</td>\n      <td>0.0</td>\n      <td>0.0</td>\n      <td>0.0</td>\n      <td>0.0</td>\n      <td>...</td>\n      <td>0.0</td>\n      <td>0.0</td>\n      <td>0.0</td>\n      <td>1.0</td>\n      <td>0.0</td>\n      <td>0.0</td>\n      <td>0.0</td>\n      <td>0.0</td>\n      <td>0.0</td>\n      <td>0.0</td>\n    </tr>\n    <tr>\n      <th>3126</th>\n      <td>0.0</td>\n      <td>0.0</td>\n      <td>0.0</td>\n      <td>0.0</td>\n      <td>1.0</td>\n      <td>0.0</td>\n      <td>0.0</td>\n      <td>0.0</td>\n      <td>0.0</td>\n      <td>0.0</td>\n      <td>...</td>\n      <td>0.0</td>\n      <td>0.0</td>\n      <td>0.0</td>\n      <td>1.0</td>\n      <td>0.0</td>\n      <td>0.0</td>\n      <td>0.0</td>\n      <td>0.0</td>\n      <td>0.0</td>\n      <td>0.0</td>\n    </tr>\n    <tr>\n      <th>3128</th>\n      <td>0.0</td>\n      <td>0.0</td>\n      <td>0.0</td>\n      <td>0.0</td>\n      <td>1.0</td>\n      <td>0.0</td>\n      <td>0.0</td>\n      <td>0.0</td>\n      <td>0.0</td>\n      <td>0.0</td>\n      <td>...</td>\n      <td>0.0</td>\n      <td>0.0</td>\n      <td>0.0</td>\n      <td>1.0</td>\n      <td>0.0</td>\n      <td>0.0</td>\n      <td>0.0</td>\n      <td>0.0</td>\n      <td>0.0</td>\n      <td>0.0</td>\n    </tr>\n    <tr>\n      <th>3129</th>\n      <td>0.0</td>\n      <td>0.0</td>\n      <td>0.0</td>\n      <td>0.0</td>\n      <td>1.0</td>\n      <td>0.0</td>\n      <td>0.0</td>\n      <td>0.0</td>\n      <td>0.0</td>\n      <td>0.0</td>\n      <td>...</td>\n      <td>0.0</td>\n      <td>0.0</td>\n      <td>0.0</td>\n      <td>1.0</td>\n      <td>0.0</td>\n      <td>0.0</td>\n      <td>0.0</td>\n      <td>0.0</td>\n      <td>0.0</td>\n      <td>0.0</td>\n    </tr>\n  </tbody>\n</table>\n<p>2191 rows × 94 columns</p>\n</div>"
     },
     "metadata": {},
     "output_type": "display_data"
    }
   ],
   "source": [
    "# 0) creating instance of one-hot-encoder\n",
    "one_hot_encoder = OneHotEncoder(handle_unknown='ignore', sparse=False) # if sparse=True (by default), we need to add .toarray() to encoded_categorical_data\n",
    "\n",
    "# 1) Fit the encoder on the training set\n",
    "one_hot_encoder.fit(X_train_std[categorical_columns])\n",
    "\n",
    "# 2) we get the encoded numpy array\n",
    "encoded_categorical_data = one_hot_encoder.transform(X_train_std[categorical_columns])\n",
    "\n",
    "# 3) we make a list of the columns names\n",
    "encoded_categorical_data_names = one_hot_encoder.get_feature_names_out().tolist()\n",
    "print(\"We have indeed :\", len(encoded_categorical_data_names), \"labels after encoding the categorical variables.\")\n",
    "\n",
    "# 4) we recreate a dataframe with the column names and the numpy array\n",
    "X_train_encoded = pd.DataFrame(columns=encoded_categorical_data_names,\n",
    "                               data=encoded_categorical_data,\n",
    "                               index=X_train_std.index)\n",
    "display(X_train_encoded.sort_index())"
   ],
   "metadata": {
    "collapsed": false,
    "pycharm": {
     "name": "#%%\n"
    }
   }
  },
  {
   "cell_type": "code",
   "execution_count": 702,
   "outputs": [
    {
     "name": "stdout",
     "output_type": "stream",
     "text": [
      "We need to add YearBuilt to the list of features.\n",
      "['NumberofFloors', 'PropertyGFATotal', 'PropertyGFABuilding(s)', 'SecondLargestPropertyUseTypeGFA', 'ThirdLargestPropertyUseTypeGFA']\n",
      "\n",
      "ASK JEREMY : merge based on index ok ? or should I put back OSEBuildingID ??\n"
     ]
    },
    {
     "data": {
      "text/plain": "      NumberofFloors  PropertyGFATotal  PropertyGFABuilding(s)  \\\n1          -0.499734         -0.462226               -0.463691   \n2          -0.314688         -0.468417               -0.470877   \n3           1.905866         -0.106769               -0.051117   \n4          -0.314688         -0.384912               -0.434450   \n5          -0.129642         -0.365813               -0.351785   \n...              ...               ...                     ...   \n3124        0.055404         -0.264528               -0.234225   \n3125       -0.499734         -0.403766               -0.395837   \n3126       -0.314688         -0.344549               -0.406499   \n3128        0.055404         -0.404507               -0.448417   \n3129       -0.499734         -0.502552               -0.510497   \n\n      SecondLargestPropertyUseTypeGFA  ThirdLargestPropertyUseTypeGFA  \\\n1                           -0.141522                        0.134019   \n2                           -0.382358                       -0.207072   \n3                           -0.382358                       -0.207072   \n4                           -0.266691                       -0.207072   \n5                           -0.382358                       -0.207072   \n...                               ...                             ...   \n3124                        -0.382358                       -0.207072   \n3125                        -0.006164                       -0.046558   \n3126                         0.006725                        0.871936   \n3128                        -0.141054                       -0.039870   \n3129                        -0.162039                       -0.207072   \n\n      BuildingType_Campus  BuildingType_Multifamily HR (10+)  \\\n1                     0.0                                0.0   \n2                     0.0                                0.0   \n3                     0.0                                1.0   \n4                     0.0                                0.0   \n5                     0.0                                0.0   \n...                   ...                                ...   \n3124                  0.0                                0.0   \n3125                  0.0                                0.0   \n3126                  0.0                                0.0   \n3128                  0.0                                0.0   \n3129                  0.0                                0.0   \n\n      BuildingType_Multifamily LR (1-4)  BuildingType_Multifamily MR (5-9)  \\\n1                                   0.0                                0.0   \n2                                   1.0                                0.0   \n3                                   0.0                                0.0   \n4                                   1.0                                0.0   \n5                                   0.0                                0.0   \n...                                 ...                                ...   \n3124                                0.0                                1.0   \n3125                                0.0                                0.0   \n3126                                0.0                                0.0   \n3128                                0.0                                0.0   \n3129                                0.0                                0.0   \n\n      BuildingType_NonResidential  ...  Neighborhood_downtown  \\\n1                             1.0  ...                    0.0   \n2                             0.0  ...                    0.0   \n3                             0.0  ...                    0.0   \n4                             0.0  ...                    0.0   \n5                             1.0  ...                    0.0   \n...                           ...  ...                    ...   \n3124                          0.0  ...                    0.0   \n3125                          1.0  ...                    0.0   \n3126                          1.0  ...                    0.0   \n3128                          1.0  ...                    0.0   \n3129                          1.0  ...                    0.0   \n\n      Neighborhood_east  Neighborhood_greater duwamish  \\\n1                   0.0                            1.0   \n2                   0.0                            1.0   \n3                   0.0                            1.0   \n4                   0.0                            1.0   \n5                   0.0                            0.0   \n...                 ...                            ...   \n3124                1.0                            0.0   \n3125                0.0                            0.0   \n3126                0.0                            0.0   \n3128                0.0                            0.0   \n3129                0.0                            0.0   \n\n      Neighborhood_lake union  Neighborhood_magnolia / queen anne  \\\n1                         0.0                                 0.0   \n2                         0.0                                 0.0   \n3                         0.0                                 0.0   \n4                         0.0                                 0.0   \n5                         0.0                                 0.0   \n...                       ...                                 ...   \n3124                      0.0                                 0.0   \n3125                      1.0                                 0.0   \n3126                      1.0                                 0.0   \n3128                      1.0                                 0.0   \n3129                      1.0                                 0.0   \n\n      Neighborhood_north  Neighborhood_northeast  Neighborhood_northwest  \\\n1                    0.0                     0.0                     0.0   \n2                    0.0                     0.0                     0.0   \n3                    0.0                     0.0                     0.0   \n4                    0.0                     0.0                     0.0   \n5                    0.0                     1.0                     0.0   \n...                  ...                     ...                     ...   \n3124                 0.0                     0.0                     0.0   \n3125                 0.0                     0.0                     0.0   \n3126                 0.0                     0.0                     0.0   \n3128                 0.0                     0.0                     0.0   \n3129                 0.0                     0.0                     0.0   \n\n      Neighborhood_southeast  Neighborhood_southwest  \n1                        0.0                     0.0  \n2                        0.0                     0.0  \n3                        0.0                     0.0  \n4                        0.0                     0.0  \n5                        0.0                     0.0  \n...                      ...                     ...  \n3124                     0.0                     0.0  \n3125                     0.0                     0.0  \n3126                     0.0                     0.0  \n3128                     0.0                     0.0  \n3129                     0.0                     0.0  \n\n[2191 rows x 99 columns]",
      "text/html": "<div>\n<style scoped>\n    .dataframe tbody tr th:only-of-type {\n        vertical-align: middle;\n    }\n\n    .dataframe tbody tr th {\n        vertical-align: top;\n    }\n\n    .dataframe thead th {\n        text-align: right;\n    }\n</style>\n<table border=\"1\" class=\"dataframe\">\n  <thead>\n    <tr style=\"text-align: right;\">\n      <th></th>\n      <th>NumberofFloors</th>\n      <th>PropertyGFATotal</th>\n      <th>PropertyGFABuilding(s)</th>\n      <th>SecondLargestPropertyUseTypeGFA</th>\n      <th>ThirdLargestPropertyUseTypeGFA</th>\n      <th>BuildingType_Campus</th>\n      <th>BuildingType_Multifamily HR (10+)</th>\n      <th>BuildingType_Multifamily LR (1-4)</th>\n      <th>BuildingType_Multifamily MR (5-9)</th>\n      <th>BuildingType_NonResidential</th>\n      <th>...</th>\n      <th>Neighborhood_downtown</th>\n      <th>Neighborhood_east</th>\n      <th>Neighborhood_greater duwamish</th>\n      <th>Neighborhood_lake union</th>\n      <th>Neighborhood_magnolia / queen anne</th>\n      <th>Neighborhood_north</th>\n      <th>Neighborhood_northeast</th>\n      <th>Neighborhood_northwest</th>\n      <th>Neighborhood_southeast</th>\n      <th>Neighborhood_southwest</th>\n    </tr>\n  </thead>\n  <tbody>\n    <tr>\n      <th>1</th>\n      <td>-0.499734</td>\n      <td>-0.462226</td>\n      <td>-0.463691</td>\n      <td>-0.141522</td>\n      <td>0.134019</td>\n      <td>0.0</td>\n      <td>0.0</td>\n      <td>0.0</td>\n      <td>0.0</td>\n      <td>1.0</td>\n      <td>...</td>\n      <td>0.0</td>\n      <td>0.0</td>\n      <td>1.0</td>\n      <td>0.0</td>\n      <td>0.0</td>\n      <td>0.0</td>\n      <td>0.0</td>\n      <td>0.0</td>\n      <td>0.0</td>\n      <td>0.0</td>\n    </tr>\n    <tr>\n      <th>2</th>\n      <td>-0.314688</td>\n      <td>-0.468417</td>\n      <td>-0.470877</td>\n      <td>-0.382358</td>\n      <td>-0.207072</td>\n      <td>0.0</td>\n      <td>0.0</td>\n      <td>1.0</td>\n      <td>0.0</td>\n      <td>0.0</td>\n      <td>...</td>\n      <td>0.0</td>\n      <td>0.0</td>\n      <td>1.0</td>\n      <td>0.0</td>\n      <td>0.0</td>\n      <td>0.0</td>\n      <td>0.0</td>\n      <td>0.0</td>\n      <td>0.0</td>\n      <td>0.0</td>\n    </tr>\n    <tr>\n      <th>3</th>\n      <td>1.905866</td>\n      <td>-0.106769</td>\n      <td>-0.051117</td>\n      <td>-0.382358</td>\n      <td>-0.207072</td>\n      <td>0.0</td>\n      <td>1.0</td>\n      <td>0.0</td>\n      <td>0.0</td>\n      <td>0.0</td>\n      <td>...</td>\n      <td>0.0</td>\n      <td>0.0</td>\n      <td>1.0</td>\n      <td>0.0</td>\n      <td>0.0</td>\n      <td>0.0</td>\n      <td>0.0</td>\n      <td>0.0</td>\n      <td>0.0</td>\n      <td>0.0</td>\n    </tr>\n    <tr>\n      <th>4</th>\n      <td>-0.314688</td>\n      <td>-0.384912</td>\n      <td>-0.434450</td>\n      <td>-0.266691</td>\n      <td>-0.207072</td>\n      <td>0.0</td>\n      <td>0.0</td>\n      <td>1.0</td>\n      <td>0.0</td>\n      <td>0.0</td>\n      <td>...</td>\n      <td>0.0</td>\n      <td>0.0</td>\n      <td>1.0</td>\n      <td>0.0</td>\n      <td>0.0</td>\n      <td>0.0</td>\n      <td>0.0</td>\n      <td>0.0</td>\n      <td>0.0</td>\n      <td>0.0</td>\n    </tr>\n    <tr>\n      <th>5</th>\n      <td>-0.129642</td>\n      <td>-0.365813</td>\n      <td>-0.351785</td>\n      <td>-0.382358</td>\n      <td>-0.207072</td>\n      <td>0.0</td>\n      <td>0.0</td>\n      <td>0.0</td>\n      <td>0.0</td>\n      <td>1.0</td>\n      <td>...</td>\n      <td>0.0</td>\n      <td>0.0</td>\n      <td>0.0</td>\n      <td>0.0</td>\n      <td>0.0</td>\n      <td>0.0</td>\n      <td>1.0</td>\n      <td>0.0</td>\n      <td>0.0</td>\n      <td>0.0</td>\n    </tr>\n    <tr>\n      <th>...</th>\n      <td>...</td>\n      <td>...</td>\n      <td>...</td>\n      <td>...</td>\n      <td>...</td>\n      <td>...</td>\n      <td>...</td>\n      <td>...</td>\n      <td>...</td>\n      <td>...</td>\n      <td>...</td>\n      <td>...</td>\n      <td>...</td>\n      <td>...</td>\n      <td>...</td>\n      <td>...</td>\n      <td>...</td>\n      <td>...</td>\n      <td>...</td>\n      <td>...</td>\n      <td>...</td>\n    </tr>\n    <tr>\n      <th>3124</th>\n      <td>0.055404</td>\n      <td>-0.264528</td>\n      <td>-0.234225</td>\n      <td>-0.382358</td>\n      <td>-0.207072</td>\n      <td>0.0</td>\n      <td>0.0</td>\n      <td>0.0</td>\n      <td>1.0</td>\n      <td>0.0</td>\n      <td>...</td>\n      <td>0.0</td>\n      <td>1.0</td>\n      <td>0.0</td>\n      <td>0.0</td>\n      <td>0.0</td>\n      <td>0.0</td>\n      <td>0.0</td>\n      <td>0.0</td>\n      <td>0.0</td>\n      <td>0.0</td>\n    </tr>\n    <tr>\n      <th>3125</th>\n      <td>-0.499734</td>\n      <td>-0.403766</td>\n      <td>-0.395837</td>\n      <td>-0.006164</td>\n      <td>-0.046558</td>\n      <td>0.0</td>\n      <td>0.0</td>\n      <td>0.0</td>\n      <td>0.0</td>\n      <td>1.0</td>\n      <td>...</td>\n      <td>0.0</td>\n      <td>0.0</td>\n      <td>0.0</td>\n      <td>1.0</td>\n      <td>0.0</td>\n      <td>0.0</td>\n      <td>0.0</td>\n      <td>0.0</td>\n      <td>0.0</td>\n      <td>0.0</td>\n    </tr>\n    <tr>\n      <th>3126</th>\n      <td>-0.314688</td>\n      <td>-0.344549</td>\n      <td>-0.406499</td>\n      <td>0.006725</td>\n      <td>0.871936</td>\n      <td>0.0</td>\n      <td>0.0</td>\n      <td>0.0</td>\n      <td>0.0</td>\n      <td>1.0</td>\n      <td>...</td>\n      <td>0.0</td>\n      <td>0.0</td>\n      <td>0.0</td>\n      <td>1.0</td>\n      <td>0.0</td>\n      <td>0.0</td>\n      <td>0.0</td>\n      <td>0.0</td>\n      <td>0.0</td>\n      <td>0.0</td>\n    </tr>\n    <tr>\n      <th>3128</th>\n      <td>0.055404</td>\n      <td>-0.404507</td>\n      <td>-0.448417</td>\n      <td>-0.141054</td>\n      <td>-0.039870</td>\n      <td>0.0</td>\n      <td>0.0</td>\n      <td>0.0</td>\n      <td>0.0</td>\n      <td>1.0</td>\n      <td>...</td>\n      <td>0.0</td>\n      <td>0.0</td>\n      <td>0.0</td>\n      <td>1.0</td>\n      <td>0.0</td>\n      <td>0.0</td>\n      <td>0.0</td>\n      <td>0.0</td>\n      <td>0.0</td>\n      <td>0.0</td>\n    </tr>\n    <tr>\n      <th>3129</th>\n      <td>-0.499734</td>\n      <td>-0.502552</td>\n      <td>-0.510497</td>\n      <td>-0.162039</td>\n      <td>-0.207072</td>\n      <td>0.0</td>\n      <td>0.0</td>\n      <td>0.0</td>\n      <td>0.0</td>\n      <td>1.0</td>\n      <td>...</td>\n      <td>0.0</td>\n      <td>0.0</td>\n      <td>0.0</td>\n      <td>1.0</td>\n      <td>0.0</td>\n      <td>0.0</td>\n      <td>0.0</td>\n      <td>0.0</td>\n      <td>0.0</td>\n      <td>0.0</td>\n    </tr>\n  </tbody>\n</table>\n<p>2191 rows × 99 columns</p>\n</div>"
     },
     "metadata": {},
     "output_type": "display_data"
    }
   ],
   "source": [
    "# 5) Concatenate the two dataframes for the training set\n",
    "\n",
    "print(\"We need to add YearBuilt to the list of features.\")\n",
    "numerical_columns.tolist()\n",
    "features_to_merge = numerical_columns.tolist().copy()\n",
    "#features_to_merge.append(\"YearBuilt\")\n",
    "print(features_to_merge, end=\"\\n\\n\")\n",
    "\n",
    "print(\"ASK JEREMY : merge based on index ok ? or should I put back OSEBuildingID ??\")\n",
    "X_train_std_encoded = pd.merge(X_train_std[features_to_merge].sort_index(), X_train_encoded.sort_index(), left_index=True, right_index=True)\n",
    "display(X_train_std_encoded.sort_index())"
   ],
   "metadata": {
    "collapsed": false,
    "pycharm": {
     "name": "#%%\n"
    }
   }
  },
  {
   "cell_type": "markdown",
   "source": [
    "##### Encoding the categorical features of the test set"
   ],
   "metadata": {
    "collapsed": false,
    "pycharm": {
     "name": "#%% md\n"
    }
   }
  },
  {
   "cell_type": "code",
   "execution_count": 703,
   "outputs": [
    {
     "name": "stdout",
     "output_type": "stream",
     "text": [
      "ASK JEREMY for this method below ???\n"
     ]
    },
    {
     "data": {
      "text/plain": "      BuildingType_Campus  BuildingType_Multifamily HR (10+)  \\\n0                     0.0                                0.0   \n7                     0.0                                0.0   \n12                    0.0                                0.0   \n14                    0.0                                0.0   \n17                    0.0                                0.0   \n...                   ...                                ...   \n3116                  0.0                                0.0   \n3118                  0.0                                0.0   \n3121                  0.0                                0.0   \n3127                  0.0                                0.0   \n3130                  0.0                                0.0   \n\n      BuildingType_Multifamily LR (1-4)  BuildingType_Multifamily MR (5-9)  \\\n0                                   1.0                                0.0   \n7                                   1.0                                0.0   \n12                                  0.0                                0.0   \n14                                  1.0                                0.0   \n17                                  0.0                                0.0   \n...                                 ...                                ...   \n3116                                0.0                                1.0   \n3118                                0.0                                1.0   \n3121                                0.0                                0.0   \n3127                                1.0                                0.0   \n3130                                0.0                                0.0   \n\n      BuildingType_NonResidential  BuildingType_Nonresidential COS  \\\n0                             0.0                              0.0   \n7                             0.0                              0.0   \n12                            1.0                              0.0   \n14                            0.0                              0.0   \n17                            1.0                              0.0   \n...                           ...                              ...   \n3116                          0.0                              0.0   \n3118                          0.0                              0.0   \n3121                          1.0                              0.0   \n3127                          0.0                              0.0   \n3130                          0.0                              1.0   \n\n      BuildingType_Nonresidential WA  BuildingType_SPS-District K-12  \\\n0                                0.0                             0.0   \n7                                0.0                             0.0   \n12                               0.0                             0.0   \n14                               0.0                             0.0   \n17                               0.0                             0.0   \n...                              ...                             ...   \n3116                             0.0                             0.0   \n3118                             0.0                             0.0   \n3121                             0.0                             0.0   \n3127                             0.0                             0.0   \n3130                             0.0                             0.0   \n\n      PrimaryPropertyType_Distribution Center  \\\n0                                         0.0   \n7                                         0.0   \n12                                        0.0   \n14                                        0.0   \n17                                        0.0   \n...                                       ...   \n3116                                      0.0   \n3118                                      0.0   \n3121                                      0.0   \n3127                                      0.0   \n3130                                      0.0   \n\n      PrimaryPropertyType_High-Rise Multifamily  ...  Neighborhood_downtown  \\\n0                                           0.0  ...                    0.0   \n7                                           0.0  ...                    0.0   \n12                                          0.0  ...                    1.0   \n14                                          0.0  ...                    0.0   \n17                                          0.0  ...                    0.0   \n...                                         ...  ...                    ...   \n3116                                        0.0  ...                    1.0   \n3118                                        0.0  ...                    1.0   \n3121                                        0.0  ...                    0.0   \n3127                                        0.0  ...                    0.0   \n3130                                        0.0  ...                    0.0   \n\n      Neighborhood_east  Neighborhood_greater duwamish  \\\n0                   0.0                            0.0   \n7                   0.0                            0.0   \n12                  0.0                            0.0   \n14                  0.0                            0.0   \n17                  0.0                            0.0   \n...                 ...                            ...   \n3116                0.0                            0.0   \n3118                0.0                            0.0   \n3121                1.0                            0.0   \n3127                0.0                            0.0   \n3130                0.0                            1.0   \n\n      Neighborhood_lake union  Neighborhood_magnolia / queen anne  \\\n0                         0.0                                 0.0   \n7                         0.0                                 0.0   \n12                        0.0                                 0.0   \n14                        0.0                                 0.0   \n17                        0.0                                 0.0   \n...                       ...                                 ...   \n3116                      0.0                                 0.0   \n3118                      0.0                                 0.0   \n3121                      0.0                                 0.0   \n3127                      1.0                                 0.0   \n3130                      0.0                                 0.0   \n\n      Neighborhood_north  Neighborhood_northeast  Neighborhood_northwest  \\\n0                    0.0                     0.0                     0.0   \n7                    0.0                     1.0                     0.0   \n12                   0.0                     0.0                     0.0   \n14                   0.0                     0.0                     0.0   \n17                   0.0                     0.0                     0.0   \n...                  ...                     ...                     ...   \n3116                 0.0                     0.0                     0.0   \n3118                 0.0                     0.0                     0.0   \n3121                 0.0                     0.0                     0.0   \n3127                 0.0                     0.0                     0.0   \n3130                 0.0                     0.0                     0.0   \n\n      Neighborhood_southeast  Neighborhood_southwest  \n0                        0.0                     0.0  \n7                        0.0                     0.0  \n12                       0.0                     0.0  \n14                       0.0                     0.0  \n17                       0.0                     0.0  \n...                      ...                     ...  \n3116                     0.0                     0.0  \n3118                     0.0                     0.0  \n3121                     0.0                     0.0  \n3127                     0.0                     0.0  \n3130                     0.0                     0.0  \n\n[940 rows x 94 columns]",
      "text/html": "<div>\n<style scoped>\n    .dataframe tbody tr th:only-of-type {\n        vertical-align: middle;\n    }\n\n    .dataframe tbody tr th {\n        vertical-align: top;\n    }\n\n    .dataframe thead th {\n        text-align: right;\n    }\n</style>\n<table border=\"1\" class=\"dataframe\">\n  <thead>\n    <tr style=\"text-align: right;\">\n      <th></th>\n      <th>BuildingType_Campus</th>\n      <th>BuildingType_Multifamily HR (10+)</th>\n      <th>BuildingType_Multifamily LR (1-4)</th>\n      <th>BuildingType_Multifamily MR (5-9)</th>\n      <th>BuildingType_NonResidential</th>\n      <th>BuildingType_Nonresidential COS</th>\n      <th>BuildingType_Nonresidential WA</th>\n      <th>BuildingType_SPS-District K-12</th>\n      <th>PrimaryPropertyType_Distribution Center</th>\n      <th>PrimaryPropertyType_High-Rise Multifamily</th>\n      <th>...</th>\n      <th>Neighborhood_downtown</th>\n      <th>Neighborhood_east</th>\n      <th>Neighborhood_greater duwamish</th>\n      <th>Neighborhood_lake union</th>\n      <th>Neighborhood_magnolia / queen anne</th>\n      <th>Neighborhood_north</th>\n      <th>Neighborhood_northeast</th>\n      <th>Neighborhood_northwest</th>\n      <th>Neighborhood_southeast</th>\n      <th>Neighborhood_southwest</th>\n    </tr>\n  </thead>\n  <tbody>\n    <tr>\n      <th>0</th>\n      <td>0.0</td>\n      <td>0.0</td>\n      <td>1.0</td>\n      <td>0.0</td>\n      <td>0.0</td>\n      <td>0.0</td>\n      <td>0.0</td>\n      <td>0.0</td>\n      <td>0.0</td>\n      <td>0.0</td>\n      <td>...</td>\n      <td>0.0</td>\n      <td>0.0</td>\n      <td>0.0</td>\n      <td>0.0</td>\n      <td>0.0</td>\n      <td>0.0</td>\n      <td>0.0</td>\n      <td>0.0</td>\n      <td>0.0</td>\n      <td>0.0</td>\n    </tr>\n    <tr>\n      <th>7</th>\n      <td>0.0</td>\n      <td>0.0</td>\n      <td>1.0</td>\n      <td>0.0</td>\n      <td>0.0</td>\n      <td>0.0</td>\n      <td>0.0</td>\n      <td>0.0</td>\n      <td>0.0</td>\n      <td>0.0</td>\n      <td>...</td>\n      <td>0.0</td>\n      <td>0.0</td>\n      <td>0.0</td>\n      <td>0.0</td>\n      <td>0.0</td>\n      <td>0.0</td>\n      <td>1.0</td>\n      <td>0.0</td>\n      <td>0.0</td>\n      <td>0.0</td>\n    </tr>\n    <tr>\n      <th>12</th>\n      <td>0.0</td>\n      <td>0.0</td>\n      <td>0.0</td>\n      <td>0.0</td>\n      <td>1.0</td>\n      <td>0.0</td>\n      <td>0.0</td>\n      <td>0.0</td>\n      <td>0.0</td>\n      <td>0.0</td>\n      <td>...</td>\n      <td>1.0</td>\n      <td>0.0</td>\n      <td>0.0</td>\n      <td>0.0</td>\n      <td>0.0</td>\n      <td>0.0</td>\n      <td>0.0</td>\n      <td>0.0</td>\n      <td>0.0</td>\n      <td>0.0</td>\n    </tr>\n    <tr>\n      <th>14</th>\n      <td>0.0</td>\n      <td>0.0</td>\n      <td>1.0</td>\n      <td>0.0</td>\n      <td>0.0</td>\n      <td>0.0</td>\n      <td>0.0</td>\n      <td>0.0</td>\n      <td>0.0</td>\n      <td>0.0</td>\n      <td>...</td>\n      <td>0.0</td>\n      <td>0.0</td>\n      <td>0.0</td>\n      <td>0.0</td>\n      <td>0.0</td>\n      <td>0.0</td>\n      <td>0.0</td>\n      <td>0.0</td>\n      <td>0.0</td>\n      <td>0.0</td>\n    </tr>\n    <tr>\n      <th>17</th>\n      <td>0.0</td>\n      <td>0.0</td>\n      <td>0.0</td>\n      <td>0.0</td>\n      <td>1.0</td>\n      <td>0.0</td>\n      <td>0.0</td>\n      <td>0.0</td>\n      <td>0.0</td>\n      <td>0.0</td>\n      <td>...</td>\n      <td>0.0</td>\n      <td>0.0</td>\n      <td>0.0</td>\n      <td>0.0</td>\n      <td>0.0</td>\n      <td>0.0</td>\n      <td>0.0</td>\n      <td>0.0</td>\n      <td>0.0</td>\n      <td>0.0</td>\n    </tr>\n    <tr>\n      <th>...</th>\n      <td>...</td>\n      <td>...</td>\n      <td>...</td>\n      <td>...</td>\n      <td>...</td>\n      <td>...</td>\n      <td>...</td>\n      <td>...</td>\n      <td>...</td>\n      <td>...</td>\n      <td>...</td>\n      <td>...</td>\n      <td>...</td>\n      <td>...</td>\n      <td>...</td>\n      <td>...</td>\n      <td>...</td>\n      <td>...</td>\n      <td>...</td>\n      <td>...</td>\n      <td>...</td>\n    </tr>\n    <tr>\n      <th>3116</th>\n      <td>0.0</td>\n      <td>0.0</td>\n      <td>0.0</td>\n      <td>1.0</td>\n      <td>0.0</td>\n      <td>0.0</td>\n      <td>0.0</td>\n      <td>0.0</td>\n      <td>0.0</td>\n      <td>0.0</td>\n      <td>...</td>\n      <td>1.0</td>\n      <td>0.0</td>\n      <td>0.0</td>\n      <td>0.0</td>\n      <td>0.0</td>\n      <td>0.0</td>\n      <td>0.0</td>\n      <td>0.0</td>\n      <td>0.0</td>\n      <td>0.0</td>\n    </tr>\n    <tr>\n      <th>3118</th>\n      <td>0.0</td>\n      <td>0.0</td>\n      <td>0.0</td>\n      <td>1.0</td>\n      <td>0.0</td>\n      <td>0.0</td>\n      <td>0.0</td>\n      <td>0.0</td>\n      <td>0.0</td>\n      <td>0.0</td>\n      <td>...</td>\n      <td>1.0</td>\n      <td>0.0</td>\n      <td>0.0</td>\n      <td>0.0</td>\n      <td>0.0</td>\n      <td>0.0</td>\n      <td>0.0</td>\n      <td>0.0</td>\n      <td>0.0</td>\n      <td>0.0</td>\n    </tr>\n    <tr>\n      <th>3121</th>\n      <td>0.0</td>\n      <td>0.0</td>\n      <td>0.0</td>\n      <td>0.0</td>\n      <td>1.0</td>\n      <td>0.0</td>\n      <td>0.0</td>\n      <td>0.0</td>\n      <td>0.0</td>\n      <td>0.0</td>\n      <td>...</td>\n      <td>0.0</td>\n      <td>1.0</td>\n      <td>0.0</td>\n      <td>0.0</td>\n      <td>0.0</td>\n      <td>0.0</td>\n      <td>0.0</td>\n      <td>0.0</td>\n      <td>0.0</td>\n      <td>0.0</td>\n    </tr>\n    <tr>\n      <th>3127</th>\n      <td>0.0</td>\n      <td>0.0</td>\n      <td>1.0</td>\n      <td>0.0</td>\n      <td>0.0</td>\n      <td>0.0</td>\n      <td>0.0</td>\n      <td>0.0</td>\n      <td>0.0</td>\n      <td>0.0</td>\n      <td>...</td>\n      <td>0.0</td>\n      <td>0.0</td>\n      <td>0.0</td>\n      <td>1.0</td>\n      <td>0.0</td>\n      <td>0.0</td>\n      <td>0.0</td>\n      <td>0.0</td>\n      <td>0.0</td>\n      <td>0.0</td>\n    </tr>\n    <tr>\n      <th>3130</th>\n      <td>0.0</td>\n      <td>0.0</td>\n      <td>0.0</td>\n      <td>0.0</td>\n      <td>0.0</td>\n      <td>1.0</td>\n      <td>0.0</td>\n      <td>0.0</td>\n      <td>0.0</td>\n      <td>0.0</td>\n      <td>...</td>\n      <td>0.0</td>\n      <td>0.0</td>\n      <td>1.0</td>\n      <td>0.0</td>\n      <td>0.0</td>\n      <td>0.0</td>\n      <td>0.0</td>\n      <td>0.0</td>\n      <td>0.0</td>\n      <td>0.0</td>\n    </tr>\n  </tbody>\n</table>\n<p>940 rows × 94 columns</p>\n</div>"
     },
     "metadata": {},
     "output_type": "display_data"
    },
    {
     "name": "stdout",
     "output_type": "stream",
     "text": [
      "ASK JEREMY : merge based on index ok ? or should I put back OSEBuildingID ??\n"
     ]
    },
    {
     "data": {
      "text/plain": "      NumberofFloors  PropertyGFATotal  PropertyGFABuilding(s)  \\\n0          -0.314688         -0.500899               -0.508578   \n7          -0.314688          0.240235                0.351647   \n12         -0.499734         -0.299056               -0.458322   \n14         -0.129642          0.514730                0.670249   \n17         -0.684781         -0.427565               -0.423461   \n...              ...               ...                     ...   \n3116        0.240450          0.064364                0.147515   \n3118        0.055404         -0.413997               -0.407713   \n3121       -0.129642         -0.359874               -0.344892   \n3127       -0.129642         -0.382858               -0.371569   \n3130       -0.684781         -0.519293               -0.529928   \n\n      SecondLargestPropertyUseTypeGFA  ThirdLargestPropertyUseTypeGFA  \\\n0                           -0.382358                       -0.207072   \n7                            0.043078                       -0.207072   \n12                          -0.217119                       -0.207072   \n14                           0.201569                        0.245487   \n17                          -0.315106                       -0.207072   \n...                               ...                             ...   \n3116                        -0.382358                       -0.207072   \n3118                        -0.382358                       -0.207072   \n3121                        -0.382358                       -0.207072   \n3127                        -0.382358                       -0.207072   \n3130                        -0.162039                       -0.083566   \n\n      BuildingType_Campus  BuildingType_Multifamily HR (10+)  \\\n0                     0.0                                0.0   \n7                     0.0                                0.0   \n12                    0.0                                0.0   \n14                    0.0                                0.0   \n17                    0.0                                0.0   \n...                   ...                                ...   \n3116                  0.0                                0.0   \n3118                  0.0                                0.0   \n3121                  0.0                                0.0   \n3127                  0.0                                0.0   \n3130                  0.0                                0.0   \n\n      BuildingType_Multifamily LR (1-4)  BuildingType_Multifamily MR (5-9)  \\\n0                                   1.0                                0.0   \n7                                   1.0                                0.0   \n12                                  0.0                                0.0   \n14                                  1.0                                0.0   \n17                                  0.0                                0.0   \n...                                 ...                                ...   \n3116                                0.0                                1.0   \n3118                                0.0                                1.0   \n3121                                0.0                                0.0   \n3127                                1.0                                0.0   \n3130                                0.0                                0.0   \n\n      BuildingType_NonResidential  ...  Neighborhood_downtown  \\\n0                             0.0  ...                    0.0   \n7                             0.0  ...                    0.0   \n12                            1.0  ...                    1.0   \n14                            0.0  ...                    0.0   \n17                            1.0  ...                    0.0   \n...                           ...  ...                    ...   \n3116                          0.0  ...                    1.0   \n3118                          0.0  ...                    1.0   \n3121                          1.0  ...                    0.0   \n3127                          0.0  ...                    0.0   \n3130                          0.0  ...                    0.0   \n\n      Neighborhood_east  Neighborhood_greater duwamish  \\\n0                   0.0                            0.0   \n7                   0.0                            0.0   \n12                  0.0                            0.0   \n14                  0.0                            0.0   \n17                  0.0                            0.0   \n...                 ...                            ...   \n3116                0.0                            0.0   \n3118                0.0                            0.0   \n3121                1.0                            0.0   \n3127                0.0                            0.0   \n3130                0.0                            1.0   \n\n      Neighborhood_lake union  Neighborhood_magnolia / queen anne  \\\n0                         0.0                                 0.0   \n7                         0.0                                 0.0   \n12                        0.0                                 0.0   \n14                        0.0                                 0.0   \n17                        0.0                                 0.0   \n...                       ...                                 ...   \n3116                      0.0                                 0.0   \n3118                      0.0                                 0.0   \n3121                      0.0                                 0.0   \n3127                      1.0                                 0.0   \n3130                      0.0                                 0.0   \n\n      Neighborhood_north  Neighborhood_northeast  Neighborhood_northwest  \\\n0                    0.0                     0.0                     0.0   \n7                    0.0                     1.0                     0.0   \n12                   0.0                     0.0                     0.0   \n14                   0.0                     0.0                     0.0   \n17                   0.0                     0.0                     0.0   \n...                  ...                     ...                     ...   \n3116                 0.0                     0.0                     0.0   \n3118                 0.0                     0.0                     0.0   \n3121                 0.0                     0.0                     0.0   \n3127                 0.0                     0.0                     0.0   \n3130                 0.0                     0.0                     0.0   \n\n      Neighborhood_southeast  Neighborhood_southwest  \n0                        0.0                     0.0  \n7                        0.0                     0.0  \n12                       0.0                     0.0  \n14                       0.0                     0.0  \n17                       0.0                     0.0  \n...                      ...                     ...  \n3116                     0.0                     0.0  \n3118                     0.0                     0.0  \n3121                     0.0                     0.0  \n3127                     0.0                     0.0  \n3130                     0.0                     0.0  \n\n[940 rows x 99 columns]",
      "text/html": "<div>\n<style scoped>\n    .dataframe tbody tr th:only-of-type {\n        vertical-align: middle;\n    }\n\n    .dataframe tbody tr th {\n        vertical-align: top;\n    }\n\n    .dataframe thead th {\n        text-align: right;\n    }\n</style>\n<table border=\"1\" class=\"dataframe\">\n  <thead>\n    <tr style=\"text-align: right;\">\n      <th></th>\n      <th>NumberofFloors</th>\n      <th>PropertyGFATotal</th>\n      <th>PropertyGFABuilding(s)</th>\n      <th>SecondLargestPropertyUseTypeGFA</th>\n      <th>ThirdLargestPropertyUseTypeGFA</th>\n      <th>BuildingType_Campus</th>\n      <th>BuildingType_Multifamily HR (10+)</th>\n      <th>BuildingType_Multifamily LR (1-4)</th>\n      <th>BuildingType_Multifamily MR (5-9)</th>\n      <th>BuildingType_NonResidential</th>\n      <th>...</th>\n      <th>Neighborhood_downtown</th>\n      <th>Neighborhood_east</th>\n      <th>Neighborhood_greater duwamish</th>\n      <th>Neighborhood_lake union</th>\n      <th>Neighborhood_magnolia / queen anne</th>\n      <th>Neighborhood_north</th>\n      <th>Neighborhood_northeast</th>\n      <th>Neighborhood_northwest</th>\n      <th>Neighborhood_southeast</th>\n      <th>Neighborhood_southwest</th>\n    </tr>\n  </thead>\n  <tbody>\n    <tr>\n      <th>0</th>\n      <td>-0.314688</td>\n      <td>-0.500899</td>\n      <td>-0.508578</td>\n      <td>-0.382358</td>\n      <td>-0.207072</td>\n      <td>0.0</td>\n      <td>0.0</td>\n      <td>1.0</td>\n      <td>0.0</td>\n      <td>0.0</td>\n      <td>...</td>\n      <td>0.0</td>\n      <td>0.0</td>\n      <td>0.0</td>\n      <td>0.0</td>\n      <td>0.0</td>\n      <td>0.0</td>\n      <td>0.0</td>\n      <td>0.0</td>\n      <td>0.0</td>\n      <td>0.0</td>\n    </tr>\n    <tr>\n      <th>7</th>\n      <td>-0.314688</td>\n      <td>0.240235</td>\n      <td>0.351647</td>\n      <td>0.043078</td>\n      <td>-0.207072</td>\n      <td>0.0</td>\n      <td>0.0</td>\n      <td>1.0</td>\n      <td>0.0</td>\n      <td>0.0</td>\n      <td>...</td>\n      <td>0.0</td>\n      <td>0.0</td>\n      <td>0.0</td>\n      <td>0.0</td>\n      <td>0.0</td>\n      <td>0.0</td>\n      <td>1.0</td>\n      <td>0.0</td>\n      <td>0.0</td>\n      <td>0.0</td>\n    </tr>\n    <tr>\n      <th>12</th>\n      <td>-0.499734</td>\n      <td>-0.299056</td>\n      <td>-0.458322</td>\n      <td>-0.217119</td>\n      <td>-0.207072</td>\n      <td>0.0</td>\n      <td>0.0</td>\n      <td>0.0</td>\n      <td>0.0</td>\n      <td>1.0</td>\n      <td>...</td>\n      <td>1.0</td>\n      <td>0.0</td>\n      <td>0.0</td>\n      <td>0.0</td>\n      <td>0.0</td>\n      <td>0.0</td>\n      <td>0.0</td>\n      <td>0.0</td>\n      <td>0.0</td>\n      <td>0.0</td>\n    </tr>\n    <tr>\n      <th>14</th>\n      <td>-0.129642</td>\n      <td>0.514730</td>\n      <td>0.670249</td>\n      <td>0.201569</td>\n      <td>0.245487</td>\n      <td>0.0</td>\n      <td>0.0</td>\n      <td>1.0</td>\n      <td>0.0</td>\n      <td>0.0</td>\n      <td>...</td>\n      <td>0.0</td>\n      <td>0.0</td>\n      <td>0.0</td>\n      <td>0.0</td>\n      <td>0.0</td>\n      <td>0.0</td>\n      <td>0.0</td>\n      <td>0.0</td>\n      <td>0.0</td>\n      <td>0.0</td>\n    </tr>\n    <tr>\n      <th>17</th>\n      <td>-0.684781</td>\n      <td>-0.427565</td>\n      <td>-0.423461</td>\n      <td>-0.315106</td>\n      <td>-0.207072</td>\n      <td>0.0</td>\n      <td>0.0</td>\n      <td>0.0</td>\n      <td>0.0</td>\n      <td>1.0</td>\n      <td>...</td>\n      <td>0.0</td>\n      <td>0.0</td>\n      <td>0.0</td>\n      <td>0.0</td>\n      <td>0.0</td>\n      <td>0.0</td>\n      <td>0.0</td>\n      <td>0.0</td>\n      <td>0.0</td>\n      <td>0.0</td>\n    </tr>\n    <tr>\n      <th>...</th>\n      <td>...</td>\n      <td>...</td>\n      <td>...</td>\n      <td>...</td>\n      <td>...</td>\n      <td>...</td>\n      <td>...</td>\n      <td>...</td>\n      <td>...</td>\n      <td>...</td>\n      <td>...</td>\n      <td>...</td>\n      <td>...</td>\n      <td>...</td>\n      <td>...</td>\n      <td>...</td>\n      <td>...</td>\n      <td>...</td>\n      <td>...</td>\n      <td>...</td>\n      <td>...</td>\n    </tr>\n    <tr>\n      <th>3116</th>\n      <td>0.240450</td>\n      <td>0.064364</td>\n      <td>0.147515</td>\n      <td>-0.382358</td>\n      <td>-0.207072</td>\n      <td>0.0</td>\n      <td>0.0</td>\n      <td>0.0</td>\n      <td>1.0</td>\n      <td>0.0</td>\n      <td>...</td>\n      <td>1.0</td>\n      <td>0.0</td>\n      <td>0.0</td>\n      <td>0.0</td>\n      <td>0.0</td>\n      <td>0.0</td>\n      <td>0.0</td>\n      <td>0.0</td>\n      <td>0.0</td>\n      <td>0.0</td>\n    </tr>\n    <tr>\n      <th>3118</th>\n      <td>0.055404</td>\n      <td>-0.413997</td>\n      <td>-0.407713</td>\n      <td>-0.382358</td>\n      <td>-0.207072</td>\n      <td>0.0</td>\n      <td>0.0</td>\n      <td>0.0</td>\n      <td>1.0</td>\n      <td>0.0</td>\n      <td>...</td>\n      <td>1.0</td>\n      <td>0.0</td>\n      <td>0.0</td>\n      <td>0.0</td>\n      <td>0.0</td>\n      <td>0.0</td>\n      <td>0.0</td>\n      <td>0.0</td>\n      <td>0.0</td>\n      <td>0.0</td>\n    </tr>\n    <tr>\n      <th>3121</th>\n      <td>-0.129642</td>\n      <td>-0.359874</td>\n      <td>-0.344892</td>\n      <td>-0.382358</td>\n      <td>-0.207072</td>\n      <td>0.0</td>\n      <td>0.0</td>\n      <td>0.0</td>\n      <td>0.0</td>\n      <td>1.0</td>\n      <td>...</td>\n      <td>0.0</td>\n      <td>1.0</td>\n      <td>0.0</td>\n      <td>0.0</td>\n      <td>0.0</td>\n      <td>0.0</td>\n      <td>0.0</td>\n      <td>0.0</td>\n      <td>0.0</td>\n      <td>0.0</td>\n    </tr>\n    <tr>\n      <th>3127</th>\n      <td>-0.129642</td>\n      <td>-0.382858</td>\n      <td>-0.371569</td>\n      <td>-0.382358</td>\n      <td>-0.207072</td>\n      <td>0.0</td>\n      <td>0.0</td>\n      <td>1.0</td>\n      <td>0.0</td>\n      <td>0.0</td>\n      <td>...</td>\n      <td>0.0</td>\n      <td>0.0</td>\n      <td>0.0</td>\n      <td>1.0</td>\n      <td>0.0</td>\n      <td>0.0</td>\n      <td>0.0</td>\n      <td>0.0</td>\n      <td>0.0</td>\n      <td>0.0</td>\n    </tr>\n    <tr>\n      <th>3130</th>\n      <td>-0.684781</td>\n      <td>-0.519293</td>\n      <td>-0.529928</td>\n      <td>-0.162039</td>\n      <td>-0.083566</td>\n      <td>0.0</td>\n      <td>0.0</td>\n      <td>0.0</td>\n      <td>0.0</td>\n      <td>0.0</td>\n      <td>...</td>\n      <td>0.0</td>\n      <td>0.0</td>\n      <td>1.0</td>\n      <td>0.0</td>\n      <td>0.0</td>\n      <td>0.0</td>\n      <td>0.0</td>\n      <td>0.0</td>\n      <td>0.0</td>\n      <td>0.0</td>\n    </tr>\n  </tbody>\n</table>\n<p>940 rows × 99 columns</p>\n</div>"
     },
     "metadata": {},
     "output_type": "display_data"
    }
   ],
   "source": [
    "# 5) One Hot Encoding on the testing set\n",
    "\n",
    "# 5.1) we get the encoded numpy array\n",
    "TEST_encoded_categorical_data = one_hot_encoder.transform(X_test_std[categorical_columns])\n",
    "\n",
    "print(\"ASK JEREMY for this method below ???\")\n",
    "# 5.2) we recreate a dataframe with the column names and the numpy array\n",
    "X_test_encoded = pd.DataFrame(columns=encoded_categorical_data_names,\n",
    "                               data=TEST_encoded_categorical_data,\n",
    "                               index=X_test_std.index)\n",
    "display(X_test_encoded.sort_index())\n",
    "\n",
    "print(\"ASK JEREMY : merge based on index ok ? or should I put back OSEBuildingID ??\")\n",
    "X_test_std_encoded = pd.merge(X_test_std[features_to_merge].sort_index(), X_test_encoded.sort_index(), left_index=True, right_index=True)\n",
    "display(X_test_std_encoded.sort_index())"
   ],
   "metadata": {
    "collapsed": false,
    "pycharm": {
     "name": "#%%\n"
    }
   }
  },
  {
   "cell_type": "code",
   "execution_count": 704,
   "outputs": [],
   "source": [
    "# Save\n",
    "#X_train_std_encoded.to_csv(\"dataset/cleaned/electricity/X_train.csv\", index=False)\n",
    "#X_test_std_encoded.to_csv(\"dataset/cleaned/electricity/X_test.csv\", index=False)\n",
    "#y_train.to_csv(\"dataset/cleaned/electricity/y_train.csv\", index=False)\n",
    "#y_test.to_csv(\"dataset/cleaned/electricity/y_test.csv\", index=False)"
   ],
   "metadata": {
    "collapsed": false,
    "pycharm": {
     "name": "#%%\n"
    }
   }
  },
  {
   "cell_type": "markdown",
   "source": [
    "## II) Modelisation"
   ],
   "metadata": {
    "collapsed": false,
    "pycharm": {
     "name": "#%% md\n"
    }
   }
  },
  {
   "cell_type": "code",
   "execution_count": 705,
   "outputs": [],
   "source": [
    "from sklearn.model_selection import GridSearchCV\n",
    "from sklearn.metrics import mean_squared_error"
   ],
   "metadata": {
    "collapsed": false,
    "pycharm": {
     "name": "#%%\n"
    }
   }
  },
  {
   "cell_type": "code",
   "execution_count": 706,
   "outputs": [
    {
     "name": "stdout",
     "output_type": "stream",
     "text": [
      "We can start now the modelling to predict the feature wanted.\n"
     ]
    },
    {
     "data": {
      "text/plain": "      NumberofFloors  PropertyGFATotal  PropertyGFABuilding(s)  \\\n1          -0.499734         -0.462226               -0.463691   \n2          -0.314688         -0.468417               -0.470877   \n3           1.905866         -0.106769               -0.051117   \n4          -0.314688         -0.384912               -0.434450   \n5          -0.129642         -0.365813               -0.351785   \n...              ...               ...                     ...   \n3124        0.055404         -0.264528               -0.234225   \n3125       -0.499734         -0.403766               -0.395837   \n3126       -0.314688         -0.344549               -0.406499   \n3128        0.055404         -0.404507               -0.448417   \n3129       -0.499734         -0.502552               -0.510497   \n\n      SecondLargestPropertyUseTypeGFA  ThirdLargestPropertyUseTypeGFA  \\\n1                           -0.141522                        0.134019   \n2                           -0.382358                       -0.207072   \n3                           -0.382358                       -0.207072   \n4                           -0.266691                       -0.207072   \n5                           -0.382358                       -0.207072   \n...                               ...                             ...   \n3124                        -0.382358                       -0.207072   \n3125                        -0.006164                       -0.046558   \n3126                         0.006725                        0.871936   \n3128                        -0.141054                       -0.039870   \n3129                        -0.162039                       -0.207072   \n\n      BuildingType_Campus  BuildingType_Multifamily HR (10+)  \\\n1                     0.0                                0.0   \n2                     0.0                                0.0   \n3                     0.0                                1.0   \n4                     0.0                                0.0   \n5                     0.0                                0.0   \n...                   ...                                ...   \n3124                  0.0                                0.0   \n3125                  0.0                                0.0   \n3126                  0.0                                0.0   \n3128                  0.0                                0.0   \n3129                  0.0                                0.0   \n\n      BuildingType_Multifamily LR (1-4)  BuildingType_Multifamily MR (5-9)  \\\n1                                   0.0                                0.0   \n2                                   1.0                                0.0   \n3                                   0.0                                0.0   \n4                                   1.0                                0.0   \n5                                   0.0                                0.0   \n...                                 ...                                ...   \n3124                                0.0                                1.0   \n3125                                0.0                                0.0   \n3126                                0.0                                0.0   \n3128                                0.0                                0.0   \n3129                                0.0                                0.0   \n\n      BuildingType_NonResidential  ...  Neighborhood_downtown  \\\n1                             1.0  ...                    0.0   \n2                             0.0  ...                    0.0   \n3                             0.0  ...                    0.0   \n4                             0.0  ...                    0.0   \n5                             1.0  ...                    0.0   \n...                           ...  ...                    ...   \n3124                          0.0  ...                    0.0   \n3125                          1.0  ...                    0.0   \n3126                          1.0  ...                    0.0   \n3128                          1.0  ...                    0.0   \n3129                          1.0  ...                    0.0   \n\n      Neighborhood_east  Neighborhood_greater duwamish  \\\n1                   0.0                            1.0   \n2                   0.0                            1.0   \n3                   0.0                            1.0   \n4                   0.0                            1.0   \n5                   0.0                            0.0   \n...                 ...                            ...   \n3124                1.0                            0.0   \n3125                0.0                            0.0   \n3126                0.0                            0.0   \n3128                0.0                            0.0   \n3129                0.0                            0.0   \n\n      Neighborhood_lake union  Neighborhood_magnolia / queen anne  \\\n1                         0.0                                 0.0   \n2                         0.0                                 0.0   \n3                         0.0                                 0.0   \n4                         0.0                                 0.0   \n5                         0.0                                 0.0   \n...                       ...                                 ...   \n3124                      0.0                                 0.0   \n3125                      1.0                                 0.0   \n3126                      1.0                                 0.0   \n3128                      1.0                                 0.0   \n3129                      1.0                                 0.0   \n\n      Neighborhood_north  Neighborhood_northeast  Neighborhood_northwest  \\\n1                    0.0                     0.0                     0.0   \n2                    0.0                     0.0                     0.0   \n3                    0.0                     0.0                     0.0   \n4                    0.0                     0.0                     0.0   \n5                    0.0                     1.0                     0.0   \n...                  ...                     ...                     ...   \n3124                 0.0                     0.0                     0.0   \n3125                 0.0                     0.0                     0.0   \n3126                 0.0                     0.0                     0.0   \n3128                 0.0                     0.0                     0.0   \n3129                 0.0                     0.0                     0.0   \n\n      Neighborhood_southeast  Neighborhood_southwest  \n1                        0.0                     0.0  \n2                        0.0                     0.0  \n3                        0.0                     0.0  \n4                        0.0                     0.0  \n5                        0.0                     0.0  \n...                      ...                     ...  \n3124                     0.0                     0.0  \n3125                     0.0                     0.0  \n3126                     0.0                     0.0  \n3128                     0.0                     0.0  \n3129                     0.0                     0.0  \n\n[2191 rows x 99 columns]",
      "text/html": "<div>\n<style scoped>\n    .dataframe tbody tr th:only-of-type {\n        vertical-align: middle;\n    }\n\n    .dataframe tbody tr th {\n        vertical-align: top;\n    }\n\n    .dataframe thead th {\n        text-align: right;\n    }\n</style>\n<table border=\"1\" class=\"dataframe\">\n  <thead>\n    <tr style=\"text-align: right;\">\n      <th></th>\n      <th>NumberofFloors</th>\n      <th>PropertyGFATotal</th>\n      <th>PropertyGFABuilding(s)</th>\n      <th>SecondLargestPropertyUseTypeGFA</th>\n      <th>ThirdLargestPropertyUseTypeGFA</th>\n      <th>BuildingType_Campus</th>\n      <th>BuildingType_Multifamily HR (10+)</th>\n      <th>BuildingType_Multifamily LR (1-4)</th>\n      <th>BuildingType_Multifamily MR (5-9)</th>\n      <th>BuildingType_NonResidential</th>\n      <th>...</th>\n      <th>Neighborhood_downtown</th>\n      <th>Neighborhood_east</th>\n      <th>Neighborhood_greater duwamish</th>\n      <th>Neighborhood_lake union</th>\n      <th>Neighborhood_magnolia / queen anne</th>\n      <th>Neighborhood_north</th>\n      <th>Neighborhood_northeast</th>\n      <th>Neighborhood_northwest</th>\n      <th>Neighborhood_southeast</th>\n      <th>Neighborhood_southwest</th>\n    </tr>\n  </thead>\n  <tbody>\n    <tr>\n      <th>1</th>\n      <td>-0.499734</td>\n      <td>-0.462226</td>\n      <td>-0.463691</td>\n      <td>-0.141522</td>\n      <td>0.134019</td>\n      <td>0.0</td>\n      <td>0.0</td>\n      <td>0.0</td>\n      <td>0.0</td>\n      <td>1.0</td>\n      <td>...</td>\n      <td>0.0</td>\n      <td>0.0</td>\n      <td>1.0</td>\n      <td>0.0</td>\n      <td>0.0</td>\n      <td>0.0</td>\n      <td>0.0</td>\n      <td>0.0</td>\n      <td>0.0</td>\n      <td>0.0</td>\n    </tr>\n    <tr>\n      <th>2</th>\n      <td>-0.314688</td>\n      <td>-0.468417</td>\n      <td>-0.470877</td>\n      <td>-0.382358</td>\n      <td>-0.207072</td>\n      <td>0.0</td>\n      <td>0.0</td>\n      <td>1.0</td>\n      <td>0.0</td>\n      <td>0.0</td>\n      <td>...</td>\n      <td>0.0</td>\n      <td>0.0</td>\n      <td>1.0</td>\n      <td>0.0</td>\n      <td>0.0</td>\n      <td>0.0</td>\n      <td>0.0</td>\n      <td>0.0</td>\n      <td>0.0</td>\n      <td>0.0</td>\n    </tr>\n    <tr>\n      <th>3</th>\n      <td>1.905866</td>\n      <td>-0.106769</td>\n      <td>-0.051117</td>\n      <td>-0.382358</td>\n      <td>-0.207072</td>\n      <td>0.0</td>\n      <td>1.0</td>\n      <td>0.0</td>\n      <td>0.0</td>\n      <td>0.0</td>\n      <td>...</td>\n      <td>0.0</td>\n      <td>0.0</td>\n      <td>1.0</td>\n      <td>0.0</td>\n      <td>0.0</td>\n      <td>0.0</td>\n      <td>0.0</td>\n      <td>0.0</td>\n      <td>0.0</td>\n      <td>0.0</td>\n    </tr>\n    <tr>\n      <th>4</th>\n      <td>-0.314688</td>\n      <td>-0.384912</td>\n      <td>-0.434450</td>\n      <td>-0.266691</td>\n      <td>-0.207072</td>\n      <td>0.0</td>\n      <td>0.0</td>\n      <td>1.0</td>\n      <td>0.0</td>\n      <td>0.0</td>\n      <td>...</td>\n      <td>0.0</td>\n      <td>0.0</td>\n      <td>1.0</td>\n      <td>0.0</td>\n      <td>0.0</td>\n      <td>0.0</td>\n      <td>0.0</td>\n      <td>0.0</td>\n      <td>0.0</td>\n      <td>0.0</td>\n    </tr>\n    <tr>\n      <th>5</th>\n      <td>-0.129642</td>\n      <td>-0.365813</td>\n      <td>-0.351785</td>\n      <td>-0.382358</td>\n      <td>-0.207072</td>\n      <td>0.0</td>\n      <td>0.0</td>\n      <td>0.0</td>\n      <td>0.0</td>\n      <td>1.0</td>\n      <td>...</td>\n      <td>0.0</td>\n      <td>0.0</td>\n      <td>0.0</td>\n      <td>0.0</td>\n      <td>0.0</td>\n      <td>0.0</td>\n      <td>1.0</td>\n      <td>0.0</td>\n      <td>0.0</td>\n      <td>0.0</td>\n    </tr>\n    <tr>\n      <th>...</th>\n      <td>...</td>\n      <td>...</td>\n      <td>...</td>\n      <td>...</td>\n      <td>...</td>\n      <td>...</td>\n      <td>...</td>\n      <td>...</td>\n      <td>...</td>\n      <td>...</td>\n      <td>...</td>\n      <td>...</td>\n      <td>...</td>\n      <td>...</td>\n      <td>...</td>\n      <td>...</td>\n      <td>...</td>\n      <td>...</td>\n      <td>...</td>\n      <td>...</td>\n      <td>...</td>\n    </tr>\n    <tr>\n      <th>3124</th>\n      <td>0.055404</td>\n      <td>-0.264528</td>\n      <td>-0.234225</td>\n      <td>-0.382358</td>\n      <td>-0.207072</td>\n      <td>0.0</td>\n      <td>0.0</td>\n      <td>0.0</td>\n      <td>1.0</td>\n      <td>0.0</td>\n      <td>...</td>\n      <td>0.0</td>\n      <td>1.0</td>\n      <td>0.0</td>\n      <td>0.0</td>\n      <td>0.0</td>\n      <td>0.0</td>\n      <td>0.0</td>\n      <td>0.0</td>\n      <td>0.0</td>\n      <td>0.0</td>\n    </tr>\n    <tr>\n      <th>3125</th>\n      <td>-0.499734</td>\n      <td>-0.403766</td>\n      <td>-0.395837</td>\n      <td>-0.006164</td>\n      <td>-0.046558</td>\n      <td>0.0</td>\n      <td>0.0</td>\n      <td>0.0</td>\n      <td>0.0</td>\n      <td>1.0</td>\n      <td>...</td>\n      <td>0.0</td>\n      <td>0.0</td>\n      <td>0.0</td>\n      <td>1.0</td>\n      <td>0.0</td>\n      <td>0.0</td>\n      <td>0.0</td>\n      <td>0.0</td>\n      <td>0.0</td>\n      <td>0.0</td>\n    </tr>\n    <tr>\n      <th>3126</th>\n      <td>-0.314688</td>\n      <td>-0.344549</td>\n      <td>-0.406499</td>\n      <td>0.006725</td>\n      <td>0.871936</td>\n      <td>0.0</td>\n      <td>0.0</td>\n      <td>0.0</td>\n      <td>0.0</td>\n      <td>1.0</td>\n      <td>...</td>\n      <td>0.0</td>\n      <td>0.0</td>\n      <td>0.0</td>\n      <td>1.0</td>\n      <td>0.0</td>\n      <td>0.0</td>\n      <td>0.0</td>\n      <td>0.0</td>\n      <td>0.0</td>\n      <td>0.0</td>\n    </tr>\n    <tr>\n      <th>3128</th>\n      <td>0.055404</td>\n      <td>-0.404507</td>\n      <td>-0.448417</td>\n      <td>-0.141054</td>\n      <td>-0.039870</td>\n      <td>0.0</td>\n      <td>0.0</td>\n      <td>0.0</td>\n      <td>0.0</td>\n      <td>1.0</td>\n      <td>...</td>\n      <td>0.0</td>\n      <td>0.0</td>\n      <td>0.0</td>\n      <td>1.0</td>\n      <td>0.0</td>\n      <td>0.0</td>\n      <td>0.0</td>\n      <td>0.0</td>\n      <td>0.0</td>\n      <td>0.0</td>\n    </tr>\n    <tr>\n      <th>3129</th>\n      <td>-0.499734</td>\n      <td>-0.502552</td>\n      <td>-0.510497</td>\n      <td>-0.162039</td>\n      <td>-0.207072</td>\n      <td>0.0</td>\n      <td>0.0</td>\n      <td>0.0</td>\n      <td>0.0</td>\n      <td>1.0</td>\n      <td>...</td>\n      <td>0.0</td>\n      <td>0.0</td>\n      <td>0.0</td>\n      <td>1.0</td>\n      <td>0.0</td>\n      <td>0.0</td>\n      <td>0.0</td>\n      <td>0.0</td>\n      <td>0.0</td>\n      <td>0.0</td>\n    </tr>\n  </tbody>\n</table>\n<p>2191 rows × 99 columns</p>\n</div>"
     },
     "metadata": {},
     "output_type": "display_data"
    },
    {
     "data": {
      "text/plain": "      NumberofFloors  PropertyGFATotal  PropertyGFABuilding(s)  \\\n0          -0.314688         -0.500899               -0.508578   \n7          -0.314688          0.240235                0.351647   \n12         -0.499734         -0.299056               -0.458322   \n14         -0.129642          0.514730                0.670249   \n17         -0.684781         -0.427565               -0.423461   \n...              ...               ...                     ...   \n3116        0.240450          0.064364                0.147515   \n3118        0.055404         -0.413997               -0.407713   \n3121       -0.129642         -0.359874               -0.344892   \n3127       -0.129642         -0.382858               -0.371569   \n3130       -0.684781         -0.519293               -0.529928   \n\n      SecondLargestPropertyUseTypeGFA  ThirdLargestPropertyUseTypeGFA  \\\n0                           -0.382358                       -0.207072   \n7                            0.043078                       -0.207072   \n12                          -0.217119                       -0.207072   \n14                           0.201569                        0.245487   \n17                          -0.315106                       -0.207072   \n...                               ...                             ...   \n3116                        -0.382358                       -0.207072   \n3118                        -0.382358                       -0.207072   \n3121                        -0.382358                       -0.207072   \n3127                        -0.382358                       -0.207072   \n3130                        -0.162039                       -0.083566   \n\n      BuildingType_Campus  BuildingType_Multifamily HR (10+)  \\\n0                     0.0                                0.0   \n7                     0.0                                0.0   \n12                    0.0                                0.0   \n14                    0.0                                0.0   \n17                    0.0                                0.0   \n...                   ...                                ...   \n3116                  0.0                                0.0   \n3118                  0.0                                0.0   \n3121                  0.0                                0.0   \n3127                  0.0                                0.0   \n3130                  0.0                                0.0   \n\n      BuildingType_Multifamily LR (1-4)  BuildingType_Multifamily MR (5-9)  \\\n0                                   1.0                                0.0   \n7                                   1.0                                0.0   \n12                                  0.0                                0.0   \n14                                  1.0                                0.0   \n17                                  0.0                                0.0   \n...                                 ...                                ...   \n3116                                0.0                                1.0   \n3118                                0.0                                1.0   \n3121                                0.0                                0.0   \n3127                                1.0                                0.0   \n3130                                0.0                                0.0   \n\n      BuildingType_NonResidential  ...  Neighborhood_downtown  \\\n0                             0.0  ...                    0.0   \n7                             0.0  ...                    0.0   \n12                            1.0  ...                    1.0   \n14                            0.0  ...                    0.0   \n17                            1.0  ...                    0.0   \n...                           ...  ...                    ...   \n3116                          0.0  ...                    1.0   \n3118                          0.0  ...                    1.0   \n3121                          1.0  ...                    0.0   \n3127                          0.0  ...                    0.0   \n3130                          0.0  ...                    0.0   \n\n      Neighborhood_east  Neighborhood_greater duwamish  \\\n0                   0.0                            0.0   \n7                   0.0                            0.0   \n12                  0.0                            0.0   \n14                  0.0                            0.0   \n17                  0.0                            0.0   \n...                 ...                            ...   \n3116                0.0                            0.0   \n3118                0.0                            0.0   \n3121                1.0                            0.0   \n3127                0.0                            0.0   \n3130                0.0                            1.0   \n\n      Neighborhood_lake union  Neighborhood_magnolia / queen anne  \\\n0                         0.0                                 0.0   \n7                         0.0                                 0.0   \n12                        0.0                                 0.0   \n14                        0.0                                 0.0   \n17                        0.0                                 0.0   \n...                       ...                                 ...   \n3116                      0.0                                 0.0   \n3118                      0.0                                 0.0   \n3121                      0.0                                 0.0   \n3127                      1.0                                 0.0   \n3130                      0.0                                 0.0   \n\n      Neighborhood_north  Neighborhood_northeast  Neighborhood_northwest  \\\n0                    0.0                     0.0                     0.0   \n7                    0.0                     1.0                     0.0   \n12                   0.0                     0.0                     0.0   \n14                   0.0                     0.0                     0.0   \n17                   0.0                     0.0                     0.0   \n...                  ...                     ...                     ...   \n3116                 0.0                     0.0                     0.0   \n3118                 0.0                     0.0                     0.0   \n3121                 0.0                     0.0                     0.0   \n3127                 0.0                     0.0                     0.0   \n3130                 0.0                     0.0                     0.0   \n\n      Neighborhood_southeast  Neighborhood_southwest  \n0                        0.0                     0.0  \n7                        0.0                     0.0  \n12                       0.0                     0.0  \n14                       0.0                     0.0  \n17                       0.0                     0.0  \n...                      ...                     ...  \n3116                     0.0                     0.0  \n3118                     0.0                     0.0  \n3121                     0.0                     0.0  \n3127                     0.0                     0.0  \n3130                     0.0                     0.0  \n\n[940 rows x 99 columns]",
      "text/html": "<div>\n<style scoped>\n    .dataframe tbody tr th:only-of-type {\n        vertical-align: middle;\n    }\n\n    .dataframe tbody tr th {\n        vertical-align: top;\n    }\n\n    .dataframe thead th {\n        text-align: right;\n    }\n</style>\n<table border=\"1\" class=\"dataframe\">\n  <thead>\n    <tr style=\"text-align: right;\">\n      <th></th>\n      <th>NumberofFloors</th>\n      <th>PropertyGFATotal</th>\n      <th>PropertyGFABuilding(s)</th>\n      <th>SecondLargestPropertyUseTypeGFA</th>\n      <th>ThirdLargestPropertyUseTypeGFA</th>\n      <th>BuildingType_Campus</th>\n      <th>BuildingType_Multifamily HR (10+)</th>\n      <th>BuildingType_Multifamily LR (1-4)</th>\n      <th>BuildingType_Multifamily MR (5-9)</th>\n      <th>BuildingType_NonResidential</th>\n      <th>...</th>\n      <th>Neighborhood_downtown</th>\n      <th>Neighborhood_east</th>\n      <th>Neighborhood_greater duwamish</th>\n      <th>Neighborhood_lake union</th>\n      <th>Neighborhood_magnolia / queen anne</th>\n      <th>Neighborhood_north</th>\n      <th>Neighborhood_northeast</th>\n      <th>Neighborhood_northwest</th>\n      <th>Neighborhood_southeast</th>\n      <th>Neighborhood_southwest</th>\n    </tr>\n  </thead>\n  <tbody>\n    <tr>\n      <th>0</th>\n      <td>-0.314688</td>\n      <td>-0.500899</td>\n      <td>-0.508578</td>\n      <td>-0.382358</td>\n      <td>-0.207072</td>\n      <td>0.0</td>\n      <td>0.0</td>\n      <td>1.0</td>\n      <td>0.0</td>\n      <td>0.0</td>\n      <td>...</td>\n      <td>0.0</td>\n      <td>0.0</td>\n      <td>0.0</td>\n      <td>0.0</td>\n      <td>0.0</td>\n      <td>0.0</td>\n      <td>0.0</td>\n      <td>0.0</td>\n      <td>0.0</td>\n      <td>0.0</td>\n    </tr>\n    <tr>\n      <th>7</th>\n      <td>-0.314688</td>\n      <td>0.240235</td>\n      <td>0.351647</td>\n      <td>0.043078</td>\n      <td>-0.207072</td>\n      <td>0.0</td>\n      <td>0.0</td>\n      <td>1.0</td>\n      <td>0.0</td>\n      <td>0.0</td>\n      <td>...</td>\n      <td>0.0</td>\n      <td>0.0</td>\n      <td>0.0</td>\n      <td>0.0</td>\n      <td>0.0</td>\n      <td>0.0</td>\n      <td>1.0</td>\n      <td>0.0</td>\n      <td>0.0</td>\n      <td>0.0</td>\n    </tr>\n    <tr>\n      <th>12</th>\n      <td>-0.499734</td>\n      <td>-0.299056</td>\n      <td>-0.458322</td>\n      <td>-0.217119</td>\n      <td>-0.207072</td>\n      <td>0.0</td>\n      <td>0.0</td>\n      <td>0.0</td>\n      <td>0.0</td>\n      <td>1.0</td>\n      <td>...</td>\n      <td>1.0</td>\n      <td>0.0</td>\n      <td>0.0</td>\n      <td>0.0</td>\n      <td>0.0</td>\n      <td>0.0</td>\n      <td>0.0</td>\n      <td>0.0</td>\n      <td>0.0</td>\n      <td>0.0</td>\n    </tr>\n    <tr>\n      <th>14</th>\n      <td>-0.129642</td>\n      <td>0.514730</td>\n      <td>0.670249</td>\n      <td>0.201569</td>\n      <td>0.245487</td>\n      <td>0.0</td>\n      <td>0.0</td>\n      <td>1.0</td>\n      <td>0.0</td>\n      <td>0.0</td>\n      <td>...</td>\n      <td>0.0</td>\n      <td>0.0</td>\n      <td>0.0</td>\n      <td>0.0</td>\n      <td>0.0</td>\n      <td>0.0</td>\n      <td>0.0</td>\n      <td>0.0</td>\n      <td>0.0</td>\n      <td>0.0</td>\n    </tr>\n    <tr>\n      <th>17</th>\n      <td>-0.684781</td>\n      <td>-0.427565</td>\n      <td>-0.423461</td>\n      <td>-0.315106</td>\n      <td>-0.207072</td>\n      <td>0.0</td>\n      <td>0.0</td>\n      <td>0.0</td>\n      <td>0.0</td>\n      <td>1.0</td>\n      <td>...</td>\n      <td>0.0</td>\n      <td>0.0</td>\n      <td>0.0</td>\n      <td>0.0</td>\n      <td>0.0</td>\n      <td>0.0</td>\n      <td>0.0</td>\n      <td>0.0</td>\n      <td>0.0</td>\n      <td>0.0</td>\n    </tr>\n    <tr>\n      <th>...</th>\n      <td>...</td>\n      <td>...</td>\n      <td>...</td>\n      <td>...</td>\n      <td>...</td>\n      <td>...</td>\n      <td>...</td>\n      <td>...</td>\n      <td>...</td>\n      <td>...</td>\n      <td>...</td>\n      <td>...</td>\n      <td>...</td>\n      <td>...</td>\n      <td>...</td>\n      <td>...</td>\n      <td>...</td>\n      <td>...</td>\n      <td>...</td>\n      <td>...</td>\n      <td>...</td>\n    </tr>\n    <tr>\n      <th>3116</th>\n      <td>0.240450</td>\n      <td>0.064364</td>\n      <td>0.147515</td>\n      <td>-0.382358</td>\n      <td>-0.207072</td>\n      <td>0.0</td>\n      <td>0.0</td>\n      <td>0.0</td>\n      <td>1.0</td>\n      <td>0.0</td>\n      <td>...</td>\n      <td>1.0</td>\n      <td>0.0</td>\n      <td>0.0</td>\n      <td>0.0</td>\n      <td>0.0</td>\n      <td>0.0</td>\n      <td>0.0</td>\n      <td>0.0</td>\n      <td>0.0</td>\n      <td>0.0</td>\n    </tr>\n    <tr>\n      <th>3118</th>\n      <td>0.055404</td>\n      <td>-0.413997</td>\n      <td>-0.407713</td>\n      <td>-0.382358</td>\n      <td>-0.207072</td>\n      <td>0.0</td>\n      <td>0.0</td>\n      <td>0.0</td>\n      <td>1.0</td>\n      <td>0.0</td>\n      <td>...</td>\n      <td>1.0</td>\n      <td>0.0</td>\n      <td>0.0</td>\n      <td>0.0</td>\n      <td>0.0</td>\n      <td>0.0</td>\n      <td>0.0</td>\n      <td>0.0</td>\n      <td>0.0</td>\n      <td>0.0</td>\n    </tr>\n    <tr>\n      <th>3121</th>\n      <td>-0.129642</td>\n      <td>-0.359874</td>\n      <td>-0.344892</td>\n      <td>-0.382358</td>\n      <td>-0.207072</td>\n      <td>0.0</td>\n      <td>0.0</td>\n      <td>0.0</td>\n      <td>0.0</td>\n      <td>1.0</td>\n      <td>...</td>\n      <td>0.0</td>\n      <td>1.0</td>\n      <td>0.0</td>\n      <td>0.0</td>\n      <td>0.0</td>\n      <td>0.0</td>\n      <td>0.0</td>\n      <td>0.0</td>\n      <td>0.0</td>\n      <td>0.0</td>\n    </tr>\n    <tr>\n      <th>3127</th>\n      <td>-0.129642</td>\n      <td>-0.382858</td>\n      <td>-0.371569</td>\n      <td>-0.382358</td>\n      <td>-0.207072</td>\n      <td>0.0</td>\n      <td>0.0</td>\n      <td>1.0</td>\n      <td>0.0</td>\n      <td>0.0</td>\n      <td>...</td>\n      <td>0.0</td>\n      <td>0.0</td>\n      <td>0.0</td>\n      <td>1.0</td>\n      <td>0.0</td>\n      <td>0.0</td>\n      <td>0.0</td>\n      <td>0.0</td>\n      <td>0.0</td>\n      <td>0.0</td>\n    </tr>\n    <tr>\n      <th>3130</th>\n      <td>-0.684781</td>\n      <td>-0.519293</td>\n      <td>-0.529928</td>\n      <td>-0.162039</td>\n      <td>-0.083566</td>\n      <td>0.0</td>\n      <td>0.0</td>\n      <td>0.0</td>\n      <td>0.0</td>\n      <td>0.0</td>\n      <td>...</td>\n      <td>0.0</td>\n      <td>0.0</td>\n      <td>1.0</td>\n      <td>0.0</td>\n      <td>0.0</td>\n      <td>0.0</td>\n      <td>0.0</td>\n      <td>0.0</td>\n      <td>0.0</td>\n      <td>0.0</td>\n    </tr>\n  </tbody>\n</table>\n<p>940 rows × 99 columns</p>\n</div>"
     },
     "metadata": {},
     "output_type": "display_data"
    },
    {
     "name": "stdout",
     "output_type": "stream",
     "text": [
      "(2191,) (940,)\n"
     ]
    }
   ],
   "source": [
    "print(\"We can start now the modelling to predict the feature wanted.\")\n",
    "\n",
    "display(X_train_std_encoded)\n",
    "display(X_test_std_encoded)\n",
    "print(y_train.shape, y_test.shape)"
   ],
   "metadata": {
    "collapsed": false,
    "pycharm": {
     "name": "#%%\n"
    }
   }
  },
  {
   "cell_type": "code",
   "execution_count": 707,
   "outputs": [],
   "source": [
    "from sklearn.model_selection import GridSearchCV\n",
    "from sklearn.metrics import mean_squared_error"
   ],
   "metadata": {
    "collapsed": false,
    "pycharm": {
     "name": "#%%\n"
    }
   }
  },
  {
   "cell_type": "code",
   "execution_count": 708,
   "outputs": [
    {
     "name": "stdout",
     "output_type": "stream",
     "text": [
      "We rename X_train_std_encoded to X_train, the same for X_test.\n"
     ]
    },
    {
     "data": {
      "text/plain": "      NumberofFloors  PropertyGFATotal  PropertyGFABuilding(s)  \\\n0          -0.314688         -0.500899               -0.508578   \n7          -0.314688          0.240235                0.351647   \n12         -0.499734         -0.299056               -0.458322   \n14         -0.129642          0.514730                0.670249   \n17         -0.684781         -0.427565               -0.423461   \n...              ...               ...                     ...   \n3116        0.240450          0.064364                0.147515   \n3118        0.055404         -0.413997               -0.407713   \n3121       -0.129642         -0.359874               -0.344892   \n3127       -0.129642         -0.382858               -0.371569   \n3130       -0.684781         -0.519293               -0.529928   \n\n      SecondLargestPropertyUseTypeGFA  ThirdLargestPropertyUseTypeGFA  \\\n0                           -0.382358                       -0.207072   \n7                            0.043078                       -0.207072   \n12                          -0.217119                       -0.207072   \n14                           0.201569                        0.245487   \n17                          -0.315106                       -0.207072   \n...                               ...                             ...   \n3116                        -0.382358                       -0.207072   \n3118                        -0.382358                       -0.207072   \n3121                        -0.382358                       -0.207072   \n3127                        -0.382358                       -0.207072   \n3130                        -0.162039                       -0.083566   \n\n      BuildingType_Campus  BuildingType_Multifamily HR (10+)  \\\n0                     0.0                                0.0   \n7                     0.0                                0.0   \n12                    0.0                                0.0   \n14                    0.0                                0.0   \n17                    0.0                                0.0   \n...                   ...                                ...   \n3116                  0.0                                0.0   \n3118                  0.0                                0.0   \n3121                  0.0                                0.0   \n3127                  0.0                                0.0   \n3130                  0.0                                0.0   \n\n      BuildingType_Multifamily LR (1-4)  BuildingType_Multifamily MR (5-9)  \\\n0                                   1.0                                0.0   \n7                                   1.0                                0.0   \n12                                  0.0                                0.0   \n14                                  1.0                                0.0   \n17                                  0.0                                0.0   \n...                                 ...                                ...   \n3116                                0.0                                1.0   \n3118                                0.0                                1.0   \n3121                                0.0                                0.0   \n3127                                1.0                                0.0   \n3130                                0.0                                0.0   \n\n      BuildingType_NonResidential  ...  Neighborhood_downtown  \\\n0                             0.0  ...                    0.0   \n7                             0.0  ...                    0.0   \n12                            1.0  ...                    1.0   \n14                            0.0  ...                    0.0   \n17                            1.0  ...                    0.0   \n...                           ...  ...                    ...   \n3116                          0.0  ...                    1.0   \n3118                          0.0  ...                    1.0   \n3121                          1.0  ...                    0.0   \n3127                          0.0  ...                    0.0   \n3130                          0.0  ...                    0.0   \n\n      Neighborhood_east  Neighborhood_greater duwamish  \\\n0                   0.0                            0.0   \n7                   0.0                            0.0   \n12                  0.0                            0.0   \n14                  0.0                            0.0   \n17                  0.0                            0.0   \n...                 ...                            ...   \n3116                0.0                            0.0   \n3118                0.0                            0.0   \n3121                1.0                            0.0   \n3127                0.0                            0.0   \n3130                0.0                            1.0   \n\n      Neighborhood_lake union  Neighborhood_magnolia / queen anne  \\\n0                         0.0                                 0.0   \n7                         0.0                                 0.0   \n12                        0.0                                 0.0   \n14                        0.0                                 0.0   \n17                        0.0                                 0.0   \n...                       ...                                 ...   \n3116                      0.0                                 0.0   \n3118                      0.0                                 0.0   \n3121                      0.0                                 0.0   \n3127                      1.0                                 0.0   \n3130                      0.0                                 0.0   \n\n      Neighborhood_north  Neighborhood_northeast  Neighborhood_northwest  \\\n0                    0.0                     0.0                     0.0   \n7                    0.0                     1.0                     0.0   \n12                   0.0                     0.0                     0.0   \n14                   0.0                     0.0                     0.0   \n17                   0.0                     0.0                     0.0   \n...                  ...                     ...                     ...   \n3116                 0.0                     0.0                     0.0   \n3118                 0.0                     0.0                     0.0   \n3121                 0.0                     0.0                     0.0   \n3127                 0.0                     0.0                     0.0   \n3130                 0.0                     0.0                     0.0   \n\n      Neighborhood_southeast  Neighborhood_southwest  \n0                        0.0                     0.0  \n7                        0.0                     0.0  \n12                       0.0                     0.0  \n14                       0.0                     0.0  \n17                       0.0                     0.0  \n...                      ...                     ...  \n3116                     0.0                     0.0  \n3118                     0.0                     0.0  \n3121                     0.0                     0.0  \n3127                     0.0                     0.0  \n3130                     0.0                     0.0  \n\n[940 rows x 99 columns]",
      "text/html": "<div>\n<style scoped>\n    .dataframe tbody tr th:only-of-type {\n        vertical-align: middle;\n    }\n\n    .dataframe tbody tr th {\n        vertical-align: top;\n    }\n\n    .dataframe thead th {\n        text-align: right;\n    }\n</style>\n<table border=\"1\" class=\"dataframe\">\n  <thead>\n    <tr style=\"text-align: right;\">\n      <th></th>\n      <th>NumberofFloors</th>\n      <th>PropertyGFATotal</th>\n      <th>PropertyGFABuilding(s)</th>\n      <th>SecondLargestPropertyUseTypeGFA</th>\n      <th>ThirdLargestPropertyUseTypeGFA</th>\n      <th>BuildingType_Campus</th>\n      <th>BuildingType_Multifamily HR (10+)</th>\n      <th>BuildingType_Multifamily LR (1-4)</th>\n      <th>BuildingType_Multifamily MR (5-9)</th>\n      <th>BuildingType_NonResidential</th>\n      <th>...</th>\n      <th>Neighborhood_downtown</th>\n      <th>Neighborhood_east</th>\n      <th>Neighborhood_greater duwamish</th>\n      <th>Neighborhood_lake union</th>\n      <th>Neighborhood_magnolia / queen anne</th>\n      <th>Neighborhood_north</th>\n      <th>Neighborhood_northeast</th>\n      <th>Neighborhood_northwest</th>\n      <th>Neighborhood_southeast</th>\n      <th>Neighborhood_southwest</th>\n    </tr>\n  </thead>\n  <tbody>\n    <tr>\n      <th>0</th>\n      <td>-0.314688</td>\n      <td>-0.500899</td>\n      <td>-0.508578</td>\n      <td>-0.382358</td>\n      <td>-0.207072</td>\n      <td>0.0</td>\n      <td>0.0</td>\n      <td>1.0</td>\n      <td>0.0</td>\n      <td>0.0</td>\n      <td>...</td>\n      <td>0.0</td>\n      <td>0.0</td>\n      <td>0.0</td>\n      <td>0.0</td>\n      <td>0.0</td>\n      <td>0.0</td>\n      <td>0.0</td>\n      <td>0.0</td>\n      <td>0.0</td>\n      <td>0.0</td>\n    </tr>\n    <tr>\n      <th>7</th>\n      <td>-0.314688</td>\n      <td>0.240235</td>\n      <td>0.351647</td>\n      <td>0.043078</td>\n      <td>-0.207072</td>\n      <td>0.0</td>\n      <td>0.0</td>\n      <td>1.0</td>\n      <td>0.0</td>\n      <td>0.0</td>\n      <td>...</td>\n      <td>0.0</td>\n      <td>0.0</td>\n      <td>0.0</td>\n      <td>0.0</td>\n      <td>0.0</td>\n      <td>0.0</td>\n      <td>1.0</td>\n      <td>0.0</td>\n      <td>0.0</td>\n      <td>0.0</td>\n    </tr>\n    <tr>\n      <th>12</th>\n      <td>-0.499734</td>\n      <td>-0.299056</td>\n      <td>-0.458322</td>\n      <td>-0.217119</td>\n      <td>-0.207072</td>\n      <td>0.0</td>\n      <td>0.0</td>\n      <td>0.0</td>\n      <td>0.0</td>\n      <td>1.0</td>\n      <td>...</td>\n      <td>1.0</td>\n      <td>0.0</td>\n      <td>0.0</td>\n      <td>0.0</td>\n      <td>0.0</td>\n      <td>0.0</td>\n      <td>0.0</td>\n      <td>0.0</td>\n      <td>0.0</td>\n      <td>0.0</td>\n    </tr>\n    <tr>\n      <th>14</th>\n      <td>-0.129642</td>\n      <td>0.514730</td>\n      <td>0.670249</td>\n      <td>0.201569</td>\n      <td>0.245487</td>\n      <td>0.0</td>\n      <td>0.0</td>\n      <td>1.0</td>\n      <td>0.0</td>\n      <td>0.0</td>\n      <td>...</td>\n      <td>0.0</td>\n      <td>0.0</td>\n      <td>0.0</td>\n      <td>0.0</td>\n      <td>0.0</td>\n      <td>0.0</td>\n      <td>0.0</td>\n      <td>0.0</td>\n      <td>0.0</td>\n      <td>0.0</td>\n    </tr>\n    <tr>\n      <th>17</th>\n      <td>-0.684781</td>\n      <td>-0.427565</td>\n      <td>-0.423461</td>\n      <td>-0.315106</td>\n      <td>-0.207072</td>\n      <td>0.0</td>\n      <td>0.0</td>\n      <td>0.0</td>\n      <td>0.0</td>\n      <td>1.0</td>\n      <td>...</td>\n      <td>0.0</td>\n      <td>0.0</td>\n      <td>0.0</td>\n      <td>0.0</td>\n      <td>0.0</td>\n      <td>0.0</td>\n      <td>0.0</td>\n      <td>0.0</td>\n      <td>0.0</td>\n      <td>0.0</td>\n    </tr>\n    <tr>\n      <th>...</th>\n      <td>...</td>\n      <td>...</td>\n      <td>...</td>\n      <td>...</td>\n      <td>...</td>\n      <td>...</td>\n      <td>...</td>\n      <td>...</td>\n      <td>...</td>\n      <td>...</td>\n      <td>...</td>\n      <td>...</td>\n      <td>...</td>\n      <td>...</td>\n      <td>...</td>\n      <td>...</td>\n      <td>...</td>\n      <td>...</td>\n      <td>...</td>\n      <td>...</td>\n      <td>...</td>\n    </tr>\n    <tr>\n      <th>3116</th>\n      <td>0.240450</td>\n      <td>0.064364</td>\n      <td>0.147515</td>\n      <td>-0.382358</td>\n      <td>-0.207072</td>\n      <td>0.0</td>\n      <td>0.0</td>\n      <td>0.0</td>\n      <td>1.0</td>\n      <td>0.0</td>\n      <td>...</td>\n      <td>1.0</td>\n      <td>0.0</td>\n      <td>0.0</td>\n      <td>0.0</td>\n      <td>0.0</td>\n      <td>0.0</td>\n      <td>0.0</td>\n      <td>0.0</td>\n      <td>0.0</td>\n      <td>0.0</td>\n    </tr>\n    <tr>\n      <th>3118</th>\n      <td>0.055404</td>\n      <td>-0.413997</td>\n      <td>-0.407713</td>\n      <td>-0.382358</td>\n      <td>-0.207072</td>\n      <td>0.0</td>\n      <td>0.0</td>\n      <td>0.0</td>\n      <td>1.0</td>\n      <td>0.0</td>\n      <td>...</td>\n      <td>1.0</td>\n      <td>0.0</td>\n      <td>0.0</td>\n      <td>0.0</td>\n      <td>0.0</td>\n      <td>0.0</td>\n      <td>0.0</td>\n      <td>0.0</td>\n      <td>0.0</td>\n      <td>0.0</td>\n    </tr>\n    <tr>\n      <th>3121</th>\n      <td>-0.129642</td>\n      <td>-0.359874</td>\n      <td>-0.344892</td>\n      <td>-0.382358</td>\n      <td>-0.207072</td>\n      <td>0.0</td>\n      <td>0.0</td>\n      <td>0.0</td>\n      <td>0.0</td>\n      <td>1.0</td>\n      <td>...</td>\n      <td>0.0</td>\n      <td>1.0</td>\n      <td>0.0</td>\n      <td>0.0</td>\n      <td>0.0</td>\n      <td>0.0</td>\n      <td>0.0</td>\n      <td>0.0</td>\n      <td>0.0</td>\n      <td>0.0</td>\n    </tr>\n    <tr>\n      <th>3127</th>\n      <td>-0.129642</td>\n      <td>-0.382858</td>\n      <td>-0.371569</td>\n      <td>-0.382358</td>\n      <td>-0.207072</td>\n      <td>0.0</td>\n      <td>0.0</td>\n      <td>1.0</td>\n      <td>0.0</td>\n      <td>0.0</td>\n      <td>...</td>\n      <td>0.0</td>\n      <td>0.0</td>\n      <td>0.0</td>\n      <td>1.0</td>\n      <td>0.0</td>\n      <td>0.0</td>\n      <td>0.0</td>\n      <td>0.0</td>\n      <td>0.0</td>\n      <td>0.0</td>\n    </tr>\n    <tr>\n      <th>3130</th>\n      <td>-0.684781</td>\n      <td>-0.519293</td>\n      <td>-0.529928</td>\n      <td>-0.162039</td>\n      <td>-0.083566</td>\n      <td>0.0</td>\n      <td>0.0</td>\n      <td>0.0</td>\n      <td>0.0</td>\n      <td>0.0</td>\n      <td>...</td>\n      <td>0.0</td>\n      <td>0.0</td>\n      <td>1.0</td>\n      <td>0.0</td>\n      <td>0.0</td>\n      <td>0.0</td>\n      <td>0.0</td>\n      <td>0.0</td>\n      <td>0.0</td>\n      <td>0.0</td>\n    </tr>\n  </tbody>\n</table>\n<p>940 rows × 99 columns</p>\n</div>"
     },
     "execution_count": 708,
     "metadata": {},
     "output_type": "execute_result"
    }
   ],
   "source": [
    "print(\"We rename X_train_std_encoded to X_train, the same for X_test.\")\n",
    "X_train = X_train_std_encoded.copy()\n",
    "X_test = X_test_std_encoded.copy()\n",
    "\n",
    "X_train\n",
    "X_test"
   ],
   "metadata": {
    "collapsed": false,
    "pycharm": {
     "name": "#%%\n"
    }
   }
  },
  {
   "cell_type": "markdown",
   "source": [
    "### 1) Linear modelling : Linear Regression / Ridge Regression / Lasso / Elastic Net\n"
   ],
   "metadata": {
    "collapsed": false,
    "pycharm": {
     "name": "#%% md\n"
    }
   }
  },
  {
   "cell_type": "code",
   "execution_count": 709,
   "outputs": [
    {
     "data": {
      "text/plain": "(2191, 99)"
     },
     "execution_count": 709,
     "metadata": {},
     "output_type": "execute_result"
    }
   ],
   "source": [
    "X_train.shape"
   ],
   "metadata": {
    "collapsed": false,
    "pycharm": {
     "name": "#%%\n"
    }
   }
  },
  {
   "cell_type": "code",
   "execution_count": 710,
   "outputs": [
    {
     "data": {
      "text/plain": "(940, 99)"
     },
     "execution_count": 710,
     "metadata": {},
     "output_type": "execute_result"
    }
   ],
   "source": [
    "X_test.shape"
   ],
   "metadata": {
    "collapsed": false,
    "pycharm": {
     "name": "#%%\n"
    }
   }
  },
  {
   "cell_type": "markdown",
   "source": [
    "#### 1) Dummy Regression : baseline"
   ],
   "metadata": {
    "collapsed": false,
    "pycharm": {
     "name": "#%% md\n"
    }
   }
  },
  {
   "cell_type": "code",
   "execution_count": 711,
   "outputs": [],
   "source": [
    "from sklearn.metrics import mean_absolute_error,r2_score,mean_squared_error\n",
    "\n",
    "pd.set_option('display.float_format', lambda x: '%.2f' % x)\n",
    "\n",
    "global results\n",
    "results = pd.DataFrame({})\n",
    "\n",
    "def evaluate_regression(model_name, results, y_test, y_pred):\n",
    "    print(\"Prediction for : \", variable_to_predict)\n",
    "    rmse = np.sqrt(mean_squared_error(y_test, y_pred))\n",
    "    mae = mean_absolute_error(y_test,y_pred)\n",
    "    mse = mean_squared_error(y_test, y_pred)\n",
    "    r2 = r2_score(y_test, y_pred)\n",
    "\n",
    "    #print(\"RMSE : {:.2f}\".format(rmse))\n",
    "    #print(\"MAE : {:.2f}\".format(mae))\n",
    "    #print(\"MSE : {:.2f}\".format(mse))\n",
    "    #print(\"R² : {:.2f}\".format(r2))\n",
    "    results = pd.concat([results, pd.DataFrame({\"Model\" : [model_name],\n",
    "                               'RMSE' : [rmse],\n",
    "                               'MAE' : [mae],\n",
    "                               \"MSE\": [mse],\n",
    "                               \"R²\" : [r2]})])\n",
    "    display(results)\n",
    "\n",
    "    # 2) graph\n",
    "    print(\"If the prediction was good, we would see a line which is not the case here .\")\n",
    "    plt.scatter(y_test, y_pred, color='coral')\n",
    "    return  results\n"
   ],
   "metadata": {
    "collapsed": false,
    "pycharm": {
     "name": "#%%\n"
    }
   }
  },
  {
   "cell_type": "code",
   "execution_count": 712,
   "outputs": [],
   "source": [
    "def display_prediction(y_test, y_pred):\n",
    "    #plt.scatter(y_test, y_pred, color='coral')\n",
    "\n",
    "    sizes = {} # clé : coordonnées ; valeur : nombre de points à ces coordonnées\n",
    "    for (yt, yp) in zip(list(y_test), list(y_pred)):\n",
    "        if (yt, yp) in sizes:\n",
    "            sizes[(yt, yp)] += 1\n",
    "        else:\n",
    "            sizes[(yt, yp)] = 1\n",
    "\n",
    "    keys = sizes.keys()\n",
    "    plt.scatter(\n",
    "        [k[0] for k in keys], # vraie valeur (abscisse)\n",
    "        [k[1] for k in keys], # valeur predite (ordonnee)\n",
    "        s=[sizes[k] for k in keys], # taille du marqueur\n",
    "        color='coral', alpha =0.8)\n"
   ],
   "metadata": {
    "collapsed": false,
    "pycharm": {
     "name": "#%%\n"
    }
   }
  },
  {
   "cell_type": "code",
   "execution_count": 713,
   "outputs": [
    {
     "name": "stdout",
     "output_type": "stream",
     "text": [
      "Prediction for :  Log2-SiteEnergyUse(kBtu)\n"
     ]
    },
    {
     "data": {
      "text/plain": "             Model  RMSE  MAE  MSE    R²\n0  Dummy Regressor  1.62 1.30 2.62 -0.00",
      "text/html": "<div>\n<style scoped>\n    .dataframe tbody tr th:only-of-type {\n        vertical-align: middle;\n    }\n\n    .dataframe tbody tr th {\n        vertical-align: top;\n    }\n\n    .dataframe thead th {\n        text-align: right;\n    }\n</style>\n<table border=\"1\" class=\"dataframe\">\n  <thead>\n    <tr style=\"text-align: right;\">\n      <th></th>\n      <th>Model</th>\n      <th>RMSE</th>\n      <th>MAE</th>\n      <th>MSE</th>\n      <th>R²</th>\n    </tr>\n  </thead>\n  <tbody>\n    <tr>\n      <th>0</th>\n      <td>Dummy Regressor</td>\n      <td>1.62</td>\n      <td>1.30</td>\n      <td>2.62</td>\n      <td>-0.00</td>\n    </tr>\n  </tbody>\n</table>\n</div>"
     },
     "metadata": {},
     "output_type": "display_data"
    },
    {
     "name": "stdout",
     "output_type": "stream",
     "text": [
      "If the prediction was good, we would see a line which is not the case here .\n"
     ]
    },
    {
     "data": {
      "text/plain": "<Figure size 432x288 with 1 Axes>",
      "image/png": "[encoded data removed]"
     },
     "metadata": {
      "needs_background": "light"
     },
     "output_type": "display_data"
    }
   ],
   "source": [
    "from sklearn import dummy\n",
    "\n",
    "# 0) We create a dummy regressor model that always predicts the mean value of the feature to predict\n",
    "dum = dummy.DummyRegressor(strategy='mean')\n",
    "\n",
    "# 1) Training Dummy Regression\n",
    "dum.fit(X_train, y_train)\n",
    "\n",
    "# 2) Prediction on the testing set\n",
    "y_pred_dum = dum.predict(X_test)\n",
    "\n",
    "# 3) Evaluate\n",
    "results = evaluate_regression(\"Dummy Regressor\", results, y_test, y_pred_dum)"
   ],
   "metadata": {
    "collapsed": false,
    "pycharm": {
     "name": "#%%\n"
    }
   }
  },
  {
   "cell_type": "code",
   "execution_count": 714,
   "outputs": [
    {
     "name": "stdout",
     "output_type": "stream",
     "text": [
      "R : -8.788766130463918e+19\n",
      "Prediction for :  Log2-SiteEnergyUse(kBtu)\n"
     ]
    },
    {
     "data": {
      "text/plain": "               Model           RMSE           MAE                      MSE  \\\n0    Dummy Regressor           1.62          1.30                     2.62   \n0  Linear Regression 15165194252.78 1287151626.88 229983116724570030080.00   \n\n                        R²  \n0                    -0.00  \n0 -87887661304639176704.00  ",
      "text/html": "<div>\n<style scoped>\n    .dataframe tbody tr th:only-of-type {\n        vertical-align: middle;\n    }\n\n    .dataframe tbody tr th {\n        vertical-align: top;\n    }\n\n    .dataframe thead th {\n        text-align: right;\n    }\n</style>\n<table border=\"1\" class=\"dataframe\">\n  <thead>\n    <tr style=\"text-align: right;\">\n      <th></th>\n      <th>Model</th>\n      <th>RMSE</th>\n      <th>MAE</th>\n      <th>MSE</th>\n      <th>R²</th>\n    </tr>\n  </thead>\n  <tbody>\n    <tr>\n      <th>0</th>\n      <td>Dummy Regressor</td>\n      <td>1.62</td>\n      <td>1.30</td>\n      <td>2.62</td>\n      <td>-0.00</td>\n    </tr>\n    <tr>\n      <th>0</th>\n      <td>Linear Regression</td>\n      <td>15165194252.78</td>\n      <td>1287151626.88</td>\n      <td>229983116724570030080.00</td>\n      <td>-87887661304639176704.00</td>\n    </tr>\n  </tbody>\n</table>\n</div>"
     },
     "metadata": {},
     "output_type": "display_data"
    },
    {
     "name": "stdout",
     "output_type": "stream",
     "text": [
      "If the prediction was good, we would see a line which is not the case here .\n"
     ]
    },
    {
     "data": {
      "text/plain": "<Figure size 432x288 with 1 Axes>",
      "image/png": "[encoded data removed]"
     },
     "metadata": {
      "needs_background": "light"
     },
     "output_type": "display_data"
    }
   ],
   "source": [
    "from sklearn import linear_model\n",
    "\n",
    "# 0) We create a linear regression model\n",
    "lr = linear_model.LinearRegression()\n",
    "\n",
    "# 1) Training Linear Regression and Evaluating\n",
    "reg = lr.fit(X_train, y_train)\n",
    "y_pred_lr = reg.predict(X_test)\n",
    "\n",
    "prediction_score = lr.score(X_test, y_test)\n",
    "#print(\"Accuracy is : %.2f\" % (100 * prediction_score))\n",
    "print('R : {}'.format(prediction_score))\n",
    "\n",
    "results = evaluate_regression(\"Linear Regression\", results, y_test, y_pred_lr)"
   ],
   "metadata": {
    "collapsed": false,
    "pycharm": {
     "name": "#%%\n"
    }
   }
  },
  {
   "cell_type": "code",
   "execution_count": 715,
   "outputs": [
    {
     "data": {
      "text/plain": "array([22.26769411, 19.1804437 , 20.07479038, 22.18275289, 20.04681161,\n       19.09221613, 23.80906626, 21.64914608, 19.36773227, 19.53470884,\n       18.8320546 , 25.42292366, 25.66400485, 19.83089842, 19.81195103,\n       20.03366177, 22.99753752, 20.64743778, 21.05396034, 23.77569135,\n       20.0565552 , 19.56519542, 20.0452504 , 20.84133697, 22.59719112,\n       22.53052803, 18.99612338, 21.47644388, 25.66164234, 19.90585383,\n       20.98875385, 21.64340715, 23.13793423, 21.38444624, 19.69271829,\n       17.86647423, 20.09312222, 18.5489611 , 19.74589227, 19.60661373,\n       20.68213724, 23.48460031, 22.54894429, 19.56385296, 22.2741162 ,\n       20.75846519, 19.78484938, 21.53958222, 21.12221645, 23.96526933,\n       19.49691362, 19.81113427, 21.42627807, 19.03360549, 25.29661663,\n       20.886716  , 23.1710407 , 22.96514698, 21.8169642 , 19.71458963,\n       21.08775579, 20.04757477, 21.05320817, 19.92317059, 20.24298522,\n       21.24959106, 20.41798768, 19.43585513, 19.75188643, 22.03833211,\n       24.72257414, 22.30928066, 20.72733282, 21.30962109, 22.07761668,\n       21.84729405, 19.52466856, 21.00612504, 19.37960232, 19.43110682,\n       21.42935859, 21.66194876, 21.54697109, 19.6715794 , 19.93146081,\n       19.54201446, 20.80169119, 21.83423291, 22.07582757, 19.72916577,\n       21.91739676, 20.77239221, 21.34546995, 22.37794193, 25.41324406,\n       21.23645513, 20.45930591, 22.63275264, 19.23881492, 20.3394817 ,\n       21.76369512, 19.83457887, 19.44535073, 19.45201357, 19.94923095,\n       21.20693714, 23.46689024, 21.17827885, 23.08623084, 20.22901211,\n       20.34266692, 20.49617136, 20.64450523, 21.55707567, 19.3379666 ,\n       20.78474107, 21.75045501, 19.2145674 , 21.42802593, 19.57985453,\n       20.23586261, 18.76650566, 23.34336832, 21.33990925, 21.62983706,\n       19.90709852, 21.89247852, 20.03082573, 20.80798139, 20.72270082,\n       20.96267691, 19.98111892, 22.38615247, 20.71156941, 21.41515272,\n       18.99637746, 18.91406591, 23.25022251, 19.91413445, 21.95045943,\n       21.04535623, 20.60386819, 19.19362311, 20.68539835, 21.77112904,\n       19.82744428, 20.06242269, 21.9563501 , 19.57536728, 19.22021225,\n       21.08349134, 21.14865346, 28.03318823, 21.21976233, 22.01064403,\n       22.53427486, 20.58026202, 18.68600321, 21.62841617, 20.00405069,\n       22.90572587, 19.93588442, 23.18648999, 23.16010716, 19.28248668,\n       20.92590155, 19.23929362, 20.64968444, 21.20026046, 19.28035705,\n       20.75104731, 19.63874258, 21.25165374, 25.35084023, 22.0921758 ,\n       20.54463929, 19.8300991 , 18.95868492, 20.69046887, 21.89005716,\n       19.35334675, 21.24130414, 22.67885735, 24.6077857 , 18.3394151 ,\n       20.94970562, 21.84293342, 20.65909852, 21.32170904, 20.40864176,\n       24.21395685, 19.93570335, 19.99399124, 23.85820975, 24.19197947,\n       22.27588721, 20.73779435, 22.97919376, 19.13672614, 20.11745366,\n       19.41354452, 18.82852798, 21.66320226, 20.41358338, 23.15089417,\n       22.29194436, 19.20922488, 20.39428186, 19.21271649, 19.19895844,\n       20.4479446 , 19.95220429, 22.99437925, 21.12122079, 20.06466811,\n       20.43635864, 20.45373483, 19.27425301, 20.41603027, 25.5151138 ,\n       19.77715286, 20.34615186, 20.10614868, 23.20757904, 22.44305634,\n       20.7182563 , 20.36879804, 20.47674695, 21.78187054, 20.24348592,\n       19.98650897, 19.98197371, 20.8132831 , 21.67498939, 23.12735883,\n       23.68551224, 19.57744508, 25.01958212, 20.04193983, 21.77979479,\n       23.18144317, 20.37669005, 19.03093347, 19.73415969, 21.23510006,\n       21.81400161, 20.08381008, 23.82460094, 20.8790969 , 19.71179803,\n       19.64853577, 20.06096733, 20.82670335, 20.18397242, 20.98519814,\n       21.8508626 , 20.92805331, 23.06113268, 20.24793273, 20.11802919,\n       21.43900018, 19.65059141, 20.94199136, 18.9616023 , 19.88114403,\n       19.50402973, 21.83573124, 20.61336031, 19.64989753, 19.70716194,\n       20.60460345, 21.05987484, 20.378558  , 20.29562728, 22.06352066,\n       20.64400037, 21.06633428, 21.33264263, 20.49274951, 21.51858401,\n       21.78457724, 19.51765521, 19.14541802, 23.12713224, 22.80115161,\n       20.98236365, 19.1121396 , 19.97654804, 21.34542068, 19.83710047,\n       21.73683234, 20.14794971, 22.00439862, 22.29612125, 19.09593137,\n       24.29338064, 22.69595401, 22.1353863 , 19.55007753, 20.00824036,\n       17.7959363 , 18.89945281, 23.10621307, 20.85475569, 21.64246711,\n       21.1350479 , 20.23281789, 20.90788491, 20.69546928, 20.53724708,\n       22.94986918, 20.72695256, 20.7987182 , 25.52869915, 20.37866939,\n       22.29177747, 21.08554669, 22.13014051, 23.54196438, 21.37080738,\n       20.94442289, 22.18171173, 20.94197381, 21.26805006, 20.92793472,\n       21.58556546, 19.14284279, 21.19703322, 23.80274531, 17.81037963,\n       19.69979302, 19.54478654, 20.0002834 , 20.13683251, 20.0608191 ,\n       20.44504289, 21.12989817, 20.75969093, 22.55972425, 17.76186872,\n       19.25009395, 20.61235964, 19.35211821, 18.67996003, 22.82071947,\n       20.67870651, 20.98120395, 19.10786533, 21.36550801, 20.27622524,\n       22.65317276, 21.06121576, 18.91123105, 22.32366366, 20.51237687,\n       23.71084983, 19.24227019, 26.11320835, 21.15719441, 23.16980652,\n       21.18265592, 20.85643674, 20.88242709, 19.71253057, 19.80672159,\n       23.45268151, 23.72980182, 20.86240874, 22.79256691, 21.33509931,\n       20.23917924, 21.13291151, 19.91278511, 19.57884646, 19.75669344,\n       20.88427134, 21.55722014, 21.48408816, 22.45546456, 19.36583623,\n       20.54735326, 20.24491573, 20.84869113, 21.68654669, 25.81684082,\n       19.75861341, 19.51047674, 21.3891953 , 19.67893534, 18.84434929,\n       20.96779908, 22.94349361, 20.08541913, 20.69964107, 22.30428182,\n       25.00750062, 20.69343517, 21.03454191, 21.21612061, 21.40772599,\n       19.38519821, 23.67831988, 22.73783931, 21.85196992, 21.34049152,\n       19.13732421, 20.35696798, 21.34380217, 19.35146728, 19.88568939,\n       20.23353528, 23.93342872, 22.9730794 , 20.59433121, 20.07378038,\n       19.72538353, 19.67390027, 20.78181283, 23.15765024, 22.34768813,\n       21.05711024, 23.86443215, 22.09537706, 20.3445893 , 18.97581465,\n       19.69889253, 21.09072593, 21.60107003, 19.33800116, 24.76194748,\n       20.44094975, 19.72022056, 20.79183398, 20.21550234, 18.95340786,\n       19.48014884, 19.7919506 , 21.08020792, 20.93087645, 20.11039585,\n       20.26159282, 19.6709205 , 20.48926318, 23.6017131 , 19.45172903,\n       22.14457283, 19.13829899, 23.12723885, 20.34626443, 22.18198418,\n       20.94243307, 19.88934446, 19.88380344, 22.01350601, 19.26276543,\n       19.65114106, 20.15072625, 19.59685275, 20.56887392, 19.34343122,\n       19.549429  , 20.01674743, 19.89401635, 19.86589427, 19.29763279,\n       21.95126879, 22.61494108, 24.12606156, 20.6457854 , 18.74999839,\n       22.67935123, 19.76742293, 23.15552068, 19.45744939, 21.51182973,\n       19.07435219, 19.50445727, 24.21128834, 23.17529233, 21.21814563,\n       21.89420606, 20.94867789, 20.52590309, 20.73764119, 26.02095504,\n       21.55409814, 23.79806257, 18.80168942, 19.36618105, 19.40998337,\n       20.30745293, 19.96431645, 21.38313947, 22.6019751 , 20.94987087,\n       20.0406439 , 21.31347859, 20.48449767, 22.03407587, 20.42137325,\n       21.42920303, 25.23622026, 20.78257136, 24.07504517, 23.90661008,\n       20.14832932, 23.87681686, 19.45016552, 19.79723375, 20.58303065,\n       25.51231142, 22.06073518, 19.11044683, 21.73777568, 19.01754008,\n       20.29537701, 19.936146  , 24.66813259, 21.25562509, 19.9598992 ,\n       20.63262674, 21.02075144, 20.60488494, 19.0283828 , 19.40863826,\n       20.37211779, 23.48808174, 24.32683206, 22.70556458, 19.17839542,\n       22.70960868, 22.32084392, 18.93991113, 19.82679537, 18.98912256,\n       21.79748075, 23.47859905, 22.8337538 , 22.0849146 , 22.62353548,\n       19.68866886, 19.28637812, 20.98889658, 19.72137606, 21.6117518 ,\n       20.22398062, 22.1078907 , 19.61978385, 20.83646803, 21.41933016,\n       20.4511852 , 21.20502612, 21.930321  , 23.80356032, 20.42551545,\n       22.69660423, 19.90770763, 20.54238696, 19.35190113, 21.24423882,\n       21.00263357, 21.07153536, 20.12599419, 19.19999338, 20.21828903,\n       22.71323054, 19.23099802, 20.40099575, 21.39916799, 20.7401471 ,\n       24.39783761, 19.59341643, 21.88752445, 20.02884326, 25.53088604,\n       22.5045648 , 20.70748794, 20.82549425, 21.75443839, 22.03168522,\n       19.38951135, 24.66977754, 20.56056223, 19.77654287, 20.10541461,\n       19.55587936, 20.40296039, 21.94132267, 19.76838819, 19.26548528,\n       20.33542498, 19.84359859, 20.24562901, 19.1014854 , 21.92141994,\n       19.47930291, 20.24517752, 19.90160247, 19.99044446, 19.9483052 ,\n       21.12095796, 20.3413258 , 22.49302082, 24.3014484 , 22.49523119,\n       20.10573479, 20.79615351, 22.11908946, 18.72005947, 18.04707864,\n       21.30486765, 19.9638321 , 22.66651648, 21.60163932, 19.89058389,\n       19.97179937, 21.40014772, 20.78722964, 23.01791433, 22.46846943,\n       22.82667921, 19.61380655, 19.44420583, 19.19986447, 22.95635232,\n       22.60087602, 19.84439852, 19.18490197, 20.9049834 , 18.75491624,\n       20.99978294, 20.92231999, 23.36907438, 19.16755811, 18.74557616,\n       19.38413422, 18.31795878, 20.0823253 , 23.97950396, 20.51682992,\n       18.53075459, 19.81377943, 21.04204624, 21.42847992, 23.04749539,\n       19.47313656, 19.72876556, 22.92163068, 20.48446768, 20.89054827,\n       22.1285128 , 19.64043008, 19.30412513, 21.0192517 , 21.12345238,\n       24.10245064, 19.30980467, 19.02304669, 20.67873788, 24.00761273,\n       20.27705933, 21.83900459, 19.69217074, 18.90953835, 19.52367322,\n       20.88659424, 20.98609783, 19.55512458, 20.71382248, 19.34160216,\n       22.36922218, 18.81898934, 21.97955402, 19.7359904 , 23.0716491 ,\n       20.94450395, 24.59329121, 18.92137117, 18.90112054, 19.39283767,\n       19.02439251, 21.40240292, 18.36130302, 18.58301182, 19.28105657,\n       19.91311412, 22.58649268, 23.73327864, 20.4035201 , 20.46876212,\n       20.25781424, 19.35596533, 19.12262786, 23.97311708, 19.70668845,\n       20.65018764, 19.36548491, 20.86019045, 18.93225513, 21.47969097,\n       21.07695876, 22.79675784, 19.6215225 , 19.6552893 , 20.25187994,\n       23.65560944, 20.72480297, 24.16796789, 20.02036351, 19.10146103,\n       20.95852555, 18.76952372, 22.34522358, 19.53353506, 18.84571764,\n       20.34421259, 19.73170766, 21.11738533, 19.38210682, 24.95626186,\n       21.28419406, 22.98249535, 23.70309375, 23.64752507, 22.12879454,\n       26.16180788, 24.98764962, 19.53185712, 20.70498137, 25.23037778,\n       24.55235559, 19.5793088 , 19.88005701, 24.56122168, 23.38999585,\n       21.24076004, 23.52008546, 22.33064202, 22.82899682, 19.42780208,\n       21.7947038 , 19.35319853, 21.30044194, 19.88080644, 19.06458934,\n       22.39474881, 19.80260728, 20.26757396, 23.48037014, 23.52800512,\n       21.44414464, 22.7049111 , 22.46881133, 22.06623277, 20.94254967,\n       18.58226846, 22.96074119, 22.35265827, 20.18342034, 20.26755053,\n       19.85798887, 22.20427217, 19.25181206, 19.30704929, 19.59338474,\n       20.63918734, 20.26172049, 22.50710564, 19.71583802, 23.89418644,\n       19.30759287, 22.67015927, 19.02578791, 22.87315636, 19.58110218,\n       20.04649674, 19.59156766, 20.62625869, 19.11091145, 21.23839278,\n       22.71849002, 21.38898058, 21.98182176, 18.9616348 , 23.13830196,\n       24.14793504, 21.17741467, 25.75445514, 23.78648471, 19.44974639,\n       21.61197552, 21.31891705, 19.93273037, 21.30550571, 19.55895187,\n       19.08955571, 20.99832986, 21.75244905, 25.75171865, 21.06589532,\n       20.55860522, 20.69532909, 19.39582697, 21.79614965, 19.17999259,\n       25.78367753, 20.01018387, 21.81784   , 22.32447174, 19.38217728,\n       19.18554135, 19.36994087, 19.15826975, 18.88799226, 19.9196317 ,\n       20.63865123, 23.2450044 , 19.72192828, 19.94161891, 22.95600643,\n       22.85529994, 18.82600716, 22.75348273, 20.5537283 , 21.5657773 ,\n       21.55980522, 20.16165397, 21.97968319, 19.65663729, 20.10560308,\n       21.5337229 , 20.94805892, 21.73308589, 19.75223505, 19.46985964,\n       21.00803377, 20.24354999, 19.31546553, 20.24794431, 19.87902826,\n       21.07853035, 19.64321699, 20.105566  , 19.52976188, 20.50626581,\n       21.30235612, 19.86156611, 18.74474157, 20.2239304 , 23.24448172,\n       21.78186824, 19.90331167, 20.51145155, 18.90600684, 21.43889158,\n       20.76920508, 21.11234278, 20.1458039 , 23.05131135, 20.32515199,\n       22.36810863, 19.0467182 , 24.67697905, 19.71857468, 20.12543822,\n       20.4761708 , 19.08753325, 22.89717621, 22.92197202, 23.64144344,\n       18.9958778 , 21.83343408, 21.62676824, 21.17955986, 22.10942004,\n       20.89794062, 19.0669258 , 22.9421541 , 21.46282775, 21.39511596,\n       19.66793597, 19.88531683, 22.62194566, 25.27546459, 20.42383108,\n       19.94517661, 20.26382322, 19.14335861, 20.12210853, 20.28099132,\n       20.62223351, 22.36486951, 19.99399651, 20.10263141, 21.91156992,\n       20.21335553, 20.49690228, 19.70740232, 19.02558873, 21.23641075,\n       20.72077406, 21.54700394, 20.29406399, 22.41373225, 21.72908526,\n       19.45657939, 19.98543938, 20.74310022, 20.57354249, 22.77999471,\n       18.1345291 , 20.75113876, 18.49440444, 21.89361742, 20.64056832,\n       22.06794602, 24.24607333, 19.38944412, 19.72068118, 20.29613918,\n       20.15111288, 19.18159118, 20.63921892, 23.09941026, 19.45149613,\n       23.3604119 , 20.9224042 , 21.31226048, 19.7523785 , 21.54059361,\n       17.92356542, 19.90559101, 23.82456181, 20.58132312, 19.53025451,\n       18.2803259 , 20.92183894, 21.53610442, 25.63827054, 18.51558748])"
     },
     "execution_count": 715,
     "metadata": {},
     "output_type": "execute_result"
    }
   ],
   "source": [
    "y_test\n"
   ],
   "metadata": {
    "collapsed": false,
    "pycharm": {
     "name": "#%%\n"
    }
   }
  },
  {
   "cell_type": "code",
   "execution_count": 716,
   "outputs": [
    {
     "data": {
      "text/plain": "array([ 2.12830811e+01,  2.12062988e+01,  2.14626465e+01,  2.13988037e+01,\n        2.09251709e+01,  2.12122803e+01,  2.11993408e+01,  2.08343506e+01,\n        2.06170654e+01,  2.12528076e+01,  2.07039795e+01,  2.11597900e+01,\n        2.06717529e+01,  2.11588135e+01,  2.11734619e+01,  2.10938721e+01,\n        2.11617432e+01,  2.12160645e+01,  2.14029541e+01,  2.10775146e+01,\n        2.09970703e+01,  2.10570068e+01,  2.12576904e+01, -1.59886643e+11,\n        2.12180176e+01,  2.13841553e+01,  2.11555176e+01,  2.11754150e+01,\n        2.12464600e+01,  2.12111816e+01,  2.14804688e+01, -2.50602669e+11,\n        2.11695557e+01,  2.11839600e+01,  2.10938721e+01,  2.12810059e+01,\n        2.11544189e+01,  2.10965576e+01,  2.08533936e+01,  2.11856689e+01,\n        2.09293213e+01,  2.11685791e+01,  2.11510010e+01,  2.10953369e+01,\n        2.10340576e+01,  2.11773682e+01,  2.08890381e+01,  2.10938721e+01,\n        2.06077881e+01,  2.08341064e+01,  2.09938965e+01,  2.11845703e+01,\n        2.12515869e+01,  2.10108643e+01,  2.10333252e+01,  2.11522217e+01,\n        2.11651611e+01,  2.08167725e+01,  2.11148682e+01,  2.07100830e+01,\n        2.10227051e+01,  2.10831299e+01,  2.11065674e+01,  2.08890381e+01,\n        2.11068115e+01,  2.12755127e+01,  2.12163086e+01,  2.10224609e+01,\n        2.10321045e+01,  2.10063477e+01,  2.12291260e+01,  2.10200195e+01,\n        2.10162354e+01,  2.09904785e+01,  2.10192871e+01,  2.10467529e+01,\n        2.13382568e+01,  1.95197754e+01,  2.11605225e+01,  2.04924316e+01,\n        2.10064697e+01,  2.08150635e+01,  2.11732178e+01,  2.06324463e+01,\n        2.07579346e+01,  2.12253418e+01,  2.12280273e+01,  2.07719727e+01,\n        2.12131348e+01,  2.11445312e+01,  2.10850830e+01,  2.10477295e+01,\n        2.10682373e+01,  2.09805908e+01,  2.11478271e+01,  2.10441895e+01,\n        2.12156982e+01,  2.12677002e+01,  2.09604492e+01,  2.12413330e+01,\n        2.07174072e+01,  2.12923584e+01,  2.10946045e+01,  2.12906494e+01,\n        2.12789307e+01,  2.05521240e+01,  2.11582031e+01,  2.08892822e+01,\n        2.08323975e+01,  2.12127686e+01,  2.11544189e+01,  2.11588135e+01,\n        2.12684326e+01,  2.10965576e+01,  2.11896973e+01,  2.10366211e+01,\n        2.10035400e+01,  2.08790283e+01,  2.11162109e+01,  2.11162109e+01,\n        2.11058350e+01,  2.11691895e+01,  2.11820068e+01,  2.05035400e+01,\n        2.07091064e+01,  2.10986328e+01,  2.11032715e+01,  2.05181885e+01,\n        2.11213379e+01,  2.11627197e+01,  2.09685059e+01,  2.10572510e+01,\n        2.11885986e+01,  2.12000732e+01,  2.12846680e+01,  2.06042480e+01,\n        2.12130127e+01,  2.12033691e+01,  2.09635010e+01,  2.10794678e+01,\n        2.09552002e+01,  2.11876221e+01,  2.11622314e+01,  2.13770752e+01,\n        2.13221436e+01,  2.13763428e+01,  2.10638428e+01,  2.09810791e+01,\n        2.07916260e+01,  2.07811279e+01,  2.12943115e+01,  2.10616455e+01,\n        2.12296143e+01,  2.10263672e+01,  2.12501221e+01,  2.06534424e+01,\n        2.12786865e+01,  2.11120605e+01,  2.10797119e+01,  2.09544678e+01,\n        2.10452881e+01,  2.11246338e+01,  2.10223389e+01,  2.06375732e+01,\n        2.07650146e+01,  2.10914307e+01,  2.07083740e+01,  2.11895752e+01,\n        2.13602295e+01,  2.12591553e+01,  2.11116943e+01,  2.10972900e+01,\n        2.12028809e+01,  2.12979736e+01,  2.11539307e+01,  2.14107666e+01,\n        2.12073975e+01,  2.12608643e+01,  2.07795410e+01,  2.10301514e+01,\n        2.10511475e+01,  2.10766602e+01,  2.09731445e+01,  2.10332031e+01,\n        2.10382080e+01,  2.10485840e+01,  2.13797607e+01,  2.08067627e+01,\n        2.11820068e+01,  2.12042236e+01,  2.12333984e+01,  2.06638184e+01,\n        2.10845947e+01,  2.08172607e+01,  2.11192627e+01,  2.10128174e+01,\n        2.11853027e+01,  2.11124268e+01,  2.08240967e+01,  2.08441162e+01,\n        2.08365479e+01,  2.11988525e+01,  2.11968994e+01,  2.13565674e+01,\n        2.11076660e+01,  2.11228027e+01,  2.12290039e+01,  2.11865234e+01,\n        2.07135010e+01,  2.11141357e+01,  2.12128906e+01,  2.09080811e+01,\n        2.08370361e+01,  2.08492432e+01,  2.12611084e+01,  2.16906738e+01,\n        2.12089844e+01,  2.11060791e+01,  2.07034912e+01,  2.12225342e+01,\n        2.12476807e+01,  2.11905518e+01,  2.12020264e+01,  2.12567139e+01,\n        2.08553467e+01,  2.10950928e+01,  2.12906494e+01,  2.08377686e+01,\n        2.11981201e+01,  2.15443115e+01,  2.11402588e+01,  2.08980713e+01,\n        2.07103271e+01,  2.12042236e+01,  2.10921631e+01,  2.11334229e+01,\n        2.11976318e+01,  2.13906250e+01,  2.11580811e+01,  2.07257080e+01,\n        2.14074707e+01,  2.13839111e+01,  2.14436035e+01,  2.12371826e+01,\n        2.11905518e+01,  2.12022705e+01,  2.07698975e+01,  2.12111816e+01,\n        2.13759766e+01,  2.11568604e+01,  2.09965820e+01,  2.11779785e+01,\n        2.12756348e+01,  2.12249756e+01,  2.11959229e+01,  2.11634521e+01,\n        2.11993408e+01,  2.11898193e+01,  2.11613770e+01,  2.06839600e+01,\n        2.12315674e+01,  2.13289795e+01,  2.12696533e+01,  2.13985596e+01,\n        2.10219727e+01,  2.12584229e+01,  2.08566895e+01,  2.10726318e+01,\n        2.10444336e+01,  2.11129150e+01,  2.11673584e+01,  2.12701416e+01,\n        2.18216553e+01,  2.08197021e+01,  2.11977539e+01,  2.09790039e+01,\n        2.10384521e+01,  2.12564697e+01,  2.07872314e+01,  2.12130127e+01,\n        2.14912109e+01,  2.12005615e+01,  2.07464600e+01,  2.13846436e+01,\n        2.12303467e+01,  2.10426025e+01,  2.09777832e+01,  2.10626221e+01,\n        2.10335693e+01,  2.11634521e+01,  2.12479248e+01,  2.10075684e+01,\n        2.11109619e+01,  2.11884766e+01,  2.13006592e+01,  2.12296143e+01,\n        2.12178955e+01,  2.10394287e+01,  2.11936035e+01,  2.11531982e+01,\n        2.12784424e+01,  2.10140381e+01,  2.10877686e+01,  2.12796631e+01,\n        2.11378174e+01,  2.10303955e+01,  2.14273682e+01,  2.06585693e+01,\n        2.07158203e+01,  2.13425293e+01, -1.59886643e+11,  2.07662354e+01,\n        2.11671143e+01,  2.15656738e+01,  2.12554932e+01,  2.12711182e+01,\n        2.05433350e+01,  2.03389893e+01,  2.36131592e+01,  2.16781006e+01,\n        2.17442627e+01,  2.16733398e+01,  2.15985107e+01,  2.05585938e+01,\n        2.04125977e+01,  2.11223145e+01,  2.10836182e+01,  2.10396729e+01,\n        2.11363525e+01,  2.10913086e+01,  2.10081787e+01,  2.10187988e+01,\n        2.11085205e+01,  2.11502686e+01,  2.12784424e+01,  2.12066650e+01,\n        2.11351318e+01,  2.09040527e+01,  2.12225342e+01,  2.10220947e+01,\n        2.10906982e+01,  2.05539551e+01,  1.96483154e+01,  2.08179932e+01,\n        2.12137451e+01,  2.09797363e+01,  2.12144775e+01,  2.11534424e+01,\n        2.13981934e+01,  2.10367432e+01,  2.10518799e+01,  2.10823975e+01,\n        2.12551270e+01,  2.10902100e+01,  2.10462646e+01, -1.59886643e+11,\n        2.19804688e+01,  2.10335693e+01,  2.06611328e+01,  2.11483154e+01,\n        2.07677002e+01,  2.14433594e+01,  2.07413330e+01,  2.10954590e+01,\n        2.12686768e+01,  2.11343994e+01,  2.10239258e+01,  2.10482178e+01,\n        2.10268555e+01,  2.11020508e+01,  2.06254883e+01,  2.11091309e+01,\n        2.11048584e+01,  2.12567139e+01,  2.00506592e+01,  2.11632080e+01,\n        2.07884521e+01,  2.10917969e+01,  2.14046631e+01,  2.06071777e+01,\n        2.11113281e+01,  2.10222168e+01,  2.11947021e+01,  2.12171631e+01,\n        2.11832275e+01,  2.10994873e+01,  2.06595459e+01,  2.11561279e+01,\n        2.11103516e+01,  2.10396729e+01,  2.10295410e+01,  2.07182617e+01,\n        2.10153809e+01,  2.06169434e+01,  2.11202393e+01,  2.13199463e+01,\n        2.11654053e+01,  2.10897217e+01,  2.11839600e+01,  2.09481201e+01,\n        2.11475830e+01,  2.09517822e+01,  2.12529297e+01,  2.12552490e+01,\n        2.11768799e+01,  2.11497803e+01,  2.11676025e+01,  2.11151123e+01,\n        2.12628174e+01,  2.09738770e+01,  2.11331787e+01,  2.10921631e+01,\n        2.11014404e+01,  2.11629639e+01,  2.12437744e+01,  2.07414551e+01,\n        2.11529541e+01,  2.10936279e+01,  2.10405273e+01,  2.08153076e+01,\n        2.05655518e+01,  2.06112061e+01,  2.12658691e+01,  2.11246338e+01,\n        2.11135254e+01,  2.11939697e+01,  2.11987305e+01,  2.11778564e+01,\n        2.06441650e+01,  2.10443115e+01,  2.12266846e+01,  2.11602783e+01,\n        2.06979980e+01,  2.10906982e+01,  2.11936035e+01,  2.10496826e+01,\n        2.12218018e+01,  2.11108398e+01,  2.10285645e+01,  2.12781982e+01,\n        2.12430420e+01,  2.13594971e+01,  2.12476807e+01,  2.12486572e+01,\n        2.06094971e+01,  2.10202637e+01,  2.12457275e+01,  2.10974121e+01,\n        2.10284424e+01,  2.08214111e+01,  2.12083740e+01,  2.08160400e+01,\n        2.10697021e+01,  2.12611084e+01,  2.12076416e+01,  2.12347412e+01,\n        2.11088867e+01,  2.10760498e+01,  2.11009521e+01,  2.11024170e+01,\n        2.12791748e+01,  2.10084229e+01,  1.99433594e+01,  2.11573486e+01,\n        2.08671875e+01,  2.11573486e+01,  2.06174316e+01,  2.12321777e+01,\n        2.12835693e+01,  2.11495361e+01,  1.93941650e+01,  2.12419434e+01,\n        2.11390381e+01,  1.93500977e+01,  2.14822998e+01,  2.12353516e+01,\n        2.10797119e+01,  2.12430420e+01,  2.11558838e+01,  2.11597900e+01,\n        2.11282959e+01,  2.07342529e+01,  2.07559814e+01,  2.04124756e+01,\n        2.07301025e+01,  2.08663330e+01,  2.10358887e+01,  2.17159424e+01,\n        2.11257324e+01,  2.08468018e+01,  2.07725830e+01,  2.10576172e+01,\n        2.16207275e+01,  1.99957275e+01,  2.07740479e+01,  2.10391846e+01,\n        2.11292725e+01,  2.09178467e+01,  2.11187744e+01,  2.06260986e+01,\n        2.07220459e+01,  2.09805908e+01,  2.01558838e+01,  2.10886230e+01,\n        2.07567139e+01,  2.09332275e+01,  2.13009033e+01,  2.13226318e+01,\n        2.07012939e+01,  2.10229492e+01,  2.14216309e+01,  2.08663330e+01,\n        2.13826904e+01,  2.07484131e+01,  2.07940674e+01,  2.07425537e+01,\n        2.09460449e+01,  2.10374756e+01,  2.09466553e+01,  2.21544189e+01,\n        2.09300537e+01,  2.12464600e+01,  2.12867432e+01,  2.09405518e+01,\n        2.10684814e+01,  2.07075195e+01,  2.08057861e+01,  2.09957275e+01,\n        2.10083008e+01,  2.10750732e+01,  2.05860596e+01,  2.10051270e+01,\n        2.06727295e+01,  2.12379150e+01,  2.06477051e+01,  2.13093262e+01,\n        2.06745605e+01,  2.06513672e+01,  2.07110596e+01,  2.09422607e+01,\n        2.08251953e+01,  2.09346924e+01,  2.11922607e+01,  2.10614014e+01,\n        2.21129150e+01,  2.04803467e+01,  2.16641846e+01,  2.12769775e+01,\n        2.10423584e+01,  2.11190186e+01,  2.13472900e+01,  2.11068115e+01,\n        2.10286865e+01,  2.10111084e+01,  2.05894775e+01,  2.12945557e+01,\n        2.11070557e+01,  2.10311279e+01,  2.12741699e+01,  2.11182861e+01,\n        2.05953369e+01,  2.12132568e+01,  2.11080322e+01,  2.12355957e+01,\n        2.10142822e+01,  2.11075439e+01,  2.12359619e+01,  2.10230713e+01,\n        2.10693359e+01,  2.11656494e+01,  2.11868896e+01,  2.10310059e+01,\n        2.11046143e+01,  2.09945068e+01,  2.11072998e+01,  2.11651611e+01,\n        2.11590576e+01,  2.10740967e+01,  2.11701660e+01,  2.11541748e+01,\n        2.08304443e+01,  2.13770752e+01,  2.12664795e+01,  2.10892334e+01,\n        2.13205566e+01,  2.11179199e+01,  2.11116943e+01,  2.11854248e+01,\n        2.10394287e+01,  2.11158447e+01,  2.09877930e+01,  2.11253662e+01,\n        2.13218994e+01,  2.12349854e+01,  2.10974121e+01,  2.10541992e+01,\n        2.10354004e+01,  2.11350098e+01,  2.10648193e+01,  2.09019775e+01,\n        2.11119385e+01,  2.12380371e+01,  2.11514893e+01,  2.09023438e+01,\n        2.13935547e+01,  2.08465576e+01,  2.15565186e+01,  2.16114502e+01,\n        2.10404053e+01,  2.09239502e+01,  2.07375488e+01,  2.10875244e+01,\n        2.07506104e+01,  2.13383789e+01,  2.10183105e+01,  2.07052002e+01,\n        2.12985840e+01,  2.06999512e+01,  2.15332031e+01,  2.09844971e+01,\n        2.08834229e+01,  2.07603760e+01,  2.09729004e+01,  2.13374023e+01,\n        2.14056396e+01,  2.10102539e+01,  2.08105469e+01,  2.04359131e+01,\n        2.10789795e+01,  2.07604980e+01,  2.06068115e+01,  2.07719727e+01,\n        2.08345947e+01, -1.59886643e+11,  2.09536133e+01,  2.07493896e+01,\n        2.08563232e+01,  2.11865234e+01,  1.96185303e+01,  2.08116455e+01,\n        2.12171631e+01,  2.12095947e+01,  2.07816162e+01,  2.07106934e+01,\n        2.12298584e+01,  2.11423340e+01,  2.09664307e+01,  2.09272461e+01,\n        2.08277588e+01,  2.08770752e+01,  2.12293701e+01,  2.05736084e+01,\n        2.12222900e+01,  2.12301025e+01,  2.13385010e+01,  2.10352783e+01,\n        2.10102539e+01,  2.06477051e+01, -1.59886643e+11,  2.10460205e+01,\n        2.10621338e+01,  2.12427979e+01,  2.07014160e+01,  2.09515381e+01,\n        2.07220459e+01,  2.10570068e+01,  2.08553467e+01,  2.19440918e+01,\n        2.11998291e+01,  2.06276855e+01,  2.10047607e+01,  2.10291748e+01,\n        2.07661133e+01,  2.09305420e+01,  2.10115967e+01,  2.07370605e+01,\n        2.09304199e+01,  2.12077637e+01,  2.06975098e+01,  2.13120117e+01,\n        2.07032471e+01,  2.09311523e+01,  2.10048828e+01,  2.08863525e+01,\n        2.09547119e+01,  2.18194580e+01,  2.03470459e+01,  2.10103760e+01,\n        2.07484131e+01,  2.05941162e+01,  2.09071045e+01,  2.17218018e+01,\n        2.07242432e+01,  2.09576416e+01,  2.11319580e+01,  2.07928467e+01,\n        2.09100342e+01,  2.07232666e+01,  2.12947998e+01,  1.92498779e+01,\n        2.04782715e+01,  2.08214111e+01,  2.08360596e+01,  2.10924072e+01,\n        2.10400391e+01,  2.12310791e+01,  2.10814209e+01,  2.12229004e+01,\n        2.13081055e+01,  2.10931396e+01,  2.10936279e+01,  2.10992432e+01,\n        2.11514893e+01,  2.13360596e+01,  2.11258545e+01,  2.10372314e+01,\n        2.01707764e+01,  2.11075439e+01,  2.13167725e+01,  2.12867432e+01,\n        2.13861084e+01,  2.10313721e+01,  2.11480713e+01,  2.07484131e+01,\n        2.08160400e+01,  2.12581787e+01,  2.12723389e+01,  2.12562256e+01,\n        2.14000244e+01,  2.11225586e+01,  2.11470947e+01,  2.12435303e+01,\n        2.10495605e+01,  2.10531006e+01,  2.09224854e+01,  2.08255615e+01,\n        2.10478516e+01,  2.09653320e+01,  2.12467041e+01,  2.12823486e+01,\n        2.11944580e+01,  2.10552979e+01,  2.10771484e+01, -1.59886643e+11,\n        2.10106201e+01,  2.11081543e+01,  2.09683838e+01,  2.10928955e+01,\n        2.08670654e+01,  2.12015381e+01,  2.11583252e+01,  2.11121826e+01,\n        2.10894775e+01,  2.11593018e+01,  2.11425781e+01,  1.90484619e+01,\n        2.10250244e+01,  2.10415039e+01,  2.10372314e+01,  2.10520020e+01,\n        2.09066162e+01,  2.12891846e+01,  2.10549316e+01,  2.13936768e+01,\n        2.14113770e+01,  2.12569580e+01,  2.08048096e+01,  2.11829834e+01,\n        2.07437744e+01,  2.11578369e+01,  2.11965332e+01,  2.11936035e+01,\n        2.11475830e+01,  2.11965332e+01,  2.11967773e+01,  2.12484131e+01,\n        2.12299805e+01,  2.09763184e+01,  2.10346680e+01,  2.12637939e+01,\n        2.06334229e+01,  2.09313965e+01,  2.09241943e+01,  2.11291504e+01,\n        2.17762451e+01,  2.11300049e+01,  2.12736816e+01,  2.11553955e+01,\n        2.13128662e+01,  2.11446533e+01,  2.12515869e+01,  2.12008057e+01,\n        2.12601318e+01,  2.13682861e+01,  2.05363770e+01,  2.10919189e+01,\n        2.11101074e+01,  2.10312500e+01,  2.10594482e+01,  2.17917480e+01,\n        2.10408936e+01,  2.13062744e+01,  2.12950439e+01,  2.11475830e+01,\n        2.13930664e+01,  2.09980469e+01,  2.10743408e+01,  2.11204834e+01,\n        2.14083252e+01,  2.11224365e+01,  2.11142578e+01,  2.13208008e+01,\n        2.08458252e+01,  2.07199707e+01,  2.09300537e+01,  2.11120605e+01,\n        2.11746826e+01,  2.10322266e+01,  2.12557373e+01,  2.11198730e+01,\n        2.16939697e+01,  2.12542725e+01,  2.03922119e+01,  2.12857666e+01,\n        2.12846680e+01,  2.09699707e+01,  2.10281982e+01,  2.13157959e+01,\n        2.10194092e+01,  2.14177246e+01,  2.19724121e+01,  2.09420166e+01,\n        2.13846436e+01,  2.12628174e+01,  2.14123535e+01,  2.12513428e+01,\n        2.12481689e+01,  2.09438477e+01,  2.08532715e+01,  2.13374023e+01,\n        2.10537109e+01,  2.11745605e+01,  2.08258057e+01,  2.06722412e+01,\n        2.12420654e+01,  2.11658936e+01,  2.09584961e+01,  2.10424805e+01,\n        2.10321045e+01,  2.12095947e+01,  2.06813965e+01,  2.00827637e+01,\n        2.11624756e+01,  2.08243408e+01,  2.12071533e+01,  2.12220459e+01,\n        2.12510986e+01,  2.11651611e+01,  2.11345215e+01,  2.10045166e+01,\n        2.11801758e+01,  2.13900146e+01,  2.06163330e+01,  2.10889893e+01,\n        2.11936035e+01,  2.12525635e+01,  2.10947266e+01,  2.07698975e+01,\n        2.10991211e+01,  2.10430908e+01,  2.14810791e+01,  2.12312012e+01,\n        2.13509521e+01,  2.13156738e+01,  2.12335205e+01,  2.10416260e+01,\n        2.05162354e+01,  2.11081543e+01,  2.11065674e+01,  2.09653320e+01,\n        2.09995117e+01,  2.11721191e+01,  2.10336914e+01,  2.12001953e+01,\n        2.11116943e+01,  2.07268066e+01,  2.12115479e+01,  2.11105957e+01,\n        2.11724854e+01,  2.12375488e+01,  2.10687256e+01,  2.11214600e+01,\n        2.11455078e+01,  2.09252930e+01,  2.10372314e+01,  2.11846924e+01,\n        2.05869141e+01,  2.12924805e+01,  2.11118164e+01,  2.04532471e+01,\n        2.12752686e+01,  2.14659424e+01,  2.11195068e+01,  2.12617188e+01,\n        2.10255127e+01,  2.11944580e+01,  2.11302490e+01,  2.05423584e+01,\n        2.13370361e+01,  2.07823486e+01,  2.24976807e+01,  2.12491455e+01,\n        2.11492920e+01,  2.12662354e+01,  2.11405029e+01,  2.11778564e+01,\n        2.11092529e+01,  2.10985107e+01,  2.15753174e+01,  2.07674561e+01,\n        2.13986816e+01,  2.10434570e+01,  2.11693115e+01,  2.10228271e+01,\n        2.10086670e+01,  2.10599365e+01,  2.15157471e+01,  2.10865479e+01,\n        2.11168213e+01,  2.12781982e+01,  2.10606689e+01,  2.07645264e+01,\n        2.09908447e+01,  2.10083008e+01,  2.12738037e+01,  2.11055908e+01,\n        2.10460205e+01,  2.10736084e+01,  2.11571045e+01,  2.15999756e+01])"
     },
     "execution_count": 716,
     "metadata": {},
     "output_type": "execute_result"
    }
   ],
   "source": [
    "y_pred_lr"
   ],
   "metadata": {
    "collapsed": false,
    "pycharm": {
     "name": "#%%\n"
    }
   }
  },
  {
   "cell_type": "code",
   "execution_count": 717,
   "outputs": [
    {
     "data": {
      "text/plain": "array([21.06695085, 21.06695085, 21.06695085, 21.06695085, 21.06695085,\n       21.06695085, 21.06695085, 21.06695085, 21.06695085, 21.06695085,\n       21.06695085, 21.06695085, 21.06695085, 21.06695085, 21.06695085,\n       21.06695085, 21.06695085, 21.06695085, 21.06695085, 21.06695085,\n       21.06695085, 21.06695085, 21.06695085, 21.06695085, 21.06695085,\n       21.06695085, 21.06695085, 21.06695085, 21.06695085, 21.06695085,\n       21.06695085, 21.06695085, 21.06695085, 21.06695085, 21.06695085,\n       21.06695085, 21.06695085, 21.06695085, 21.06695085, 21.06695085,\n       21.06695085, 21.06695085, 21.06695085, 21.06695085, 21.06695085,\n       21.06695085, 21.06695085, 21.06695085, 21.06695085, 21.06695085,\n       21.06695085, 21.06695085, 21.06695085, 21.06695085, 21.06695085,\n       21.06695085, 21.06695085, 21.06695085, 21.06695085, 21.06695085,\n       21.06695085, 21.06695085, 21.06695085, 21.06695085, 21.06695085,\n       21.06695085, 21.06695085, 21.06695085, 21.06695085, 21.06695085,\n       21.06695085, 21.06695085, 21.06695085, 21.06695085, 21.06695085,\n       21.06695085, 21.06695085, 21.06695085, 21.06695085, 21.06695085,\n       21.06695085, 21.06695085, 21.06695085, 21.06695085, 21.06695085,\n       21.06695085, 21.06695085, 21.06695085, 21.06695085, 21.06695085,\n       21.06695085, 21.06695085, 21.06695085, 21.06695085, 21.06695085,\n       21.06695085, 21.06695085, 21.06695085, 21.06695085, 21.06695085,\n       21.06695085, 21.06695085, 21.06695085, 21.06695085, 21.06695085,\n       21.06695085, 21.06695085, 21.06695085, 21.06695085, 21.06695085,\n       21.06695085, 21.06695085, 21.06695085, 21.06695085, 21.06695085,\n       21.06695085, 21.06695085, 21.06695085, 21.06695085, 21.06695085,\n       21.06695085, 21.06695085, 21.06695085, 21.06695085, 21.06695085,\n       21.06695085, 21.06695085, 21.06695085, 21.06695085, 21.06695085,\n       21.06695085, 21.06695085, 21.06695085, 21.06695085, 21.06695085,\n       21.06695085, 21.06695085, 21.06695085, 21.06695085, 21.06695085,\n       21.06695085, 21.06695085, 21.06695085, 21.06695085, 21.06695085,\n       21.06695085, 21.06695085, 21.06695085, 21.06695085, 21.06695085,\n       21.06695085, 21.06695085, 21.06695085, 21.06695085, 21.06695085,\n       21.06695085, 21.06695085, 21.06695085, 21.06695085, 21.06695085,\n       21.06695085, 21.06695085, 21.06695085, 21.06695085, 21.06695085,\n       21.06695085, 21.06695085, 21.06695085, 21.06695085, 21.06695085,\n       21.06695085, 21.06695085, 21.06695085, 21.06695085, 21.06695085,\n       21.06695085, 21.06695085, 21.06695085, 21.06695085, 21.06695085,\n       21.06695085, 21.06695085, 21.06695085, 21.06695085, 21.06695085,\n       21.06695085, 21.06695085, 21.06695085, 21.06695085, 21.06695085,\n       21.06695085, 21.06695085, 21.06695085, 21.06695085, 21.06695085,\n       21.06695085, 21.06695085, 21.06695085, 21.06695085, 21.06695085,\n       21.06695085, 21.06695085, 21.06695085, 21.06695085, 21.06695085,\n       21.06695085, 21.06695085, 21.06695085, 21.06695085, 21.06695085,\n       21.06695085, 21.06695085, 21.06695085, 21.06695085, 21.06695085,\n       21.06695085, 21.06695085, 21.06695085, 21.06695085, 21.06695085,\n       21.06695085, 21.06695085, 21.06695085, 21.06695085, 21.06695085,\n       21.06695085, 21.06695085, 21.06695085, 21.06695085, 21.06695085,\n       21.06695085, 21.06695085, 21.06695085, 21.06695085, 21.06695085,\n       21.06695085, 21.06695085, 21.06695085, 21.06695085, 21.06695085,\n       21.06695085, 21.06695085, 21.06695085, 21.06695085, 21.06695085,\n       21.06695085, 21.06695085, 21.06695085, 21.06695085, 21.06695085,\n       21.06695085, 21.06695085, 21.06695085, 21.06695085, 21.06695085,\n       21.06695085, 21.06695085, 21.06695085, 21.06695085, 21.06695085,\n       21.06695085, 21.06695085, 21.06695085, 21.06695085, 21.06695085,\n       21.06695085, 21.06695085, 21.06695085, 21.06695085, 21.06695085,\n       21.06695085, 21.06695085, 21.06695085, 21.06695085, 21.06695085,\n       21.06695085, 21.06695085, 21.06695085, 21.06695085, 21.06695085,\n       21.06695085, 21.06695085, 21.06695085, 21.06695085, 21.06695085,\n       21.06695085, 21.06695085, 21.06695085, 21.06695085, 21.06695085,\n       21.06695085, 21.06695085, 21.06695085, 21.06695085, 21.06695085,\n       21.06695085, 21.06695085, 21.06695085, 21.06695085, 21.06695085,\n       21.06695085, 21.06695085, 21.06695085, 21.06695085, 21.06695085,\n       21.06695085, 21.06695085, 21.06695085, 21.06695085, 21.06695085,\n       21.06695085, 21.06695085, 21.06695085, 21.06695085, 21.06695085,\n       21.06695085, 21.06695085, 21.06695085, 21.06695085, 21.06695085,\n       21.06695085, 21.06695085, 21.06695085, 21.06695085, 21.06695085,\n       21.06695085, 21.06695085, 21.06695085, 21.06695085, 21.06695085,\n       21.06695085, 21.06695085, 21.06695085, 21.06695085, 21.06695085,\n       21.06695085, 21.06695085, 21.06695085, 21.06695085, 21.06695085,\n       21.06695085, 21.06695085, 21.06695085, 21.06695085, 21.06695085,\n       21.06695085, 21.06695085, 21.06695085, 21.06695085, 21.06695085,\n       21.06695085, 21.06695085, 21.06695085, 21.06695085, 21.06695085,\n       21.06695085, 21.06695085, 21.06695085, 21.06695085, 21.06695085,\n       21.06695085, 21.06695085, 21.06695085, 21.06695085, 21.06695085,\n       21.06695085, 21.06695085, 21.06695085, 21.06695085, 21.06695085,\n       21.06695085, 21.06695085, 21.06695085, 21.06695085, 21.06695085,\n       21.06695085, 21.06695085, 21.06695085, 21.06695085, 21.06695085,\n       21.06695085, 21.06695085, 21.06695085, 21.06695085, 21.06695085,\n       21.06695085, 21.06695085, 21.06695085, 21.06695085, 21.06695085,\n       21.06695085, 21.06695085, 21.06695085, 21.06695085, 21.06695085,\n       21.06695085, 21.06695085, 21.06695085, 21.06695085, 21.06695085,\n       21.06695085, 21.06695085, 21.06695085, 21.06695085, 21.06695085,\n       21.06695085, 21.06695085, 21.06695085, 21.06695085, 21.06695085,\n       21.06695085, 21.06695085, 21.06695085, 21.06695085, 21.06695085,\n       21.06695085, 21.06695085, 21.06695085, 21.06695085, 21.06695085,\n       21.06695085, 21.06695085, 21.06695085, 21.06695085, 21.06695085,\n       21.06695085, 21.06695085, 21.06695085, 21.06695085, 21.06695085,\n       21.06695085, 21.06695085, 21.06695085, 21.06695085, 21.06695085,\n       21.06695085, 21.06695085, 21.06695085, 21.06695085, 21.06695085,\n       21.06695085, 21.06695085, 21.06695085, 21.06695085, 21.06695085,\n       21.06695085, 21.06695085, 21.06695085, 21.06695085, 21.06695085,\n       21.06695085, 21.06695085, 21.06695085, 21.06695085, 21.06695085,\n       21.06695085, 21.06695085, 21.06695085, 21.06695085, 21.06695085,\n       21.06695085, 21.06695085, 21.06695085, 21.06695085, 21.06695085,\n       21.06695085, 21.06695085, 21.06695085, 21.06695085, 21.06695085,\n       21.06695085, 21.06695085, 21.06695085, 21.06695085, 21.06695085,\n       21.06695085, 21.06695085, 21.06695085, 21.06695085, 21.06695085,\n       21.06695085, 21.06695085, 21.06695085, 21.06695085, 21.06695085,\n       21.06695085, 21.06695085, 21.06695085, 21.06695085, 21.06695085,\n       21.06695085, 21.06695085, 21.06695085, 21.06695085, 21.06695085,\n       21.06695085, 21.06695085, 21.06695085, 21.06695085, 21.06695085,\n       21.06695085, 21.06695085, 21.06695085, 21.06695085, 21.06695085,\n       21.06695085, 21.06695085, 21.06695085, 21.06695085, 21.06695085,\n       21.06695085, 21.06695085, 21.06695085, 21.06695085, 21.06695085,\n       21.06695085, 21.06695085, 21.06695085, 21.06695085, 21.06695085,\n       21.06695085, 21.06695085, 21.06695085, 21.06695085, 21.06695085,\n       21.06695085, 21.06695085, 21.06695085, 21.06695085, 21.06695085,\n       21.06695085, 21.06695085, 21.06695085, 21.06695085, 21.06695085,\n       21.06695085, 21.06695085, 21.06695085, 21.06695085, 21.06695085,\n       21.06695085, 21.06695085, 21.06695085, 21.06695085, 21.06695085,\n       21.06695085, 21.06695085, 21.06695085, 21.06695085, 21.06695085,\n       21.06695085, 21.06695085, 21.06695085, 21.06695085, 21.06695085,\n       21.06695085, 21.06695085, 21.06695085, 21.06695085, 21.06695085,\n       21.06695085, 21.06695085, 21.06695085, 21.06695085, 21.06695085,\n       21.06695085, 21.06695085, 21.06695085, 21.06695085, 21.06695085,\n       21.06695085, 21.06695085, 21.06695085, 21.06695085, 21.06695085,\n       21.06695085, 21.06695085, 21.06695085, 21.06695085, 21.06695085,\n       21.06695085, 21.06695085, 21.06695085, 21.06695085, 21.06695085,\n       21.06695085, 21.06695085, 21.06695085, 21.06695085, 21.06695085,\n       21.06695085, 21.06695085, 21.06695085, 21.06695085, 21.06695085,\n       21.06695085, 21.06695085, 21.06695085, 21.06695085, 21.06695085,\n       21.06695085, 21.06695085, 21.06695085, 21.06695085, 21.06695085,\n       21.06695085, 21.06695085, 21.06695085, 21.06695085, 21.06695085,\n       21.06695085, 21.06695085, 21.06695085, 21.06695085, 21.06695085,\n       21.06695085, 21.06695085, 21.06695085, 21.06695085, 21.06695085,\n       21.06695085, 21.06695085, 21.06695085, 21.06695085, 21.06695085,\n       21.06695085, 21.06695085, 21.06695085, 21.06695085, 21.06695085,\n       21.06695085, 21.06695085, 21.06695085, 21.06695085, 21.06695085,\n       21.06695085, 21.06695085, 21.06695085, 21.06695085, 21.06695085,\n       21.06695085, 21.06695085, 21.06695085, 21.06695085, 21.06695085,\n       21.06695085, 21.06695085, 21.06695085, 21.06695085, 21.06695085,\n       21.06695085, 21.06695085, 21.06695085, 21.06695085, 21.06695085,\n       21.06695085, 21.06695085, 21.06695085, 21.06695085, 21.06695085,\n       21.06695085, 21.06695085, 21.06695085, 21.06695085, 21.06695085,\n       21.06695085, 21.06695085, 21.06695085, 21.06695085, 21.06695085,\n       21.06695085, 21.06695085, 21.06695085, 21.06695085, 21.06695085,\n       21.06695085, 21.06695085, 21.06695085, 21.06695085, 21.06695085,\n       21.06695085, 21.06695085, 21.06695085, 21.06695085, 21.06695085,\n       21.06695085, 21.06695085, 21.06695085, 21.06695085, 21.06695085,\n       21.06695085, 21.06695085, 21.06695085, 21.06695085, 21.06695085,\n       21.06695085, 21.06695085, 21.06695085, 21.06695085, 21.06695085,\n       21.06695085, 21.06695085, 21.06695085, 21.06695085, 21.06695085,\n       21.06695085, 21.06695085, 21.06695085, 21.06695085, 21.06695085,\n       21.06695085, 21.06695085, 21.06695085, 21.06695085, 21.06695085,\n       21.06695085, 21.06695085, 21.06695085, 21.06695085, 21.06695085,\n       21.06695085, 21.06695085, 21.06695085, 21.06695085, 21.06695085,\n       21.06695085, 21.06695085, 21.06695085, 21.06695085, 21.06695085,\n       21.06695085, 21.06695085, 21.06695085, 21.06695085, 21.06695085,\n       21.06695085, 21.06695085, 21.06695085, 21.06695085, 21.06695085,\n       21.06695085, 21.06695085, 21.06695085, 21.06695085, 21.06695085,\n       21.06695085, 21.06695085, 21.06695085, 21.06695085, 21.06695085,\n       21.06695085, 21.06695085, 21.06695085, 21.06695085, 21.06695085,\n       21.06695085, 21.06695085, 21.06695085, 21.06695085, 21.06695085,\n       21.06695085, 21.06695085, 21.06695085, 21.06695085, 21.06695085,\n       21.06695085, 21.06695085, 21.06695085, 21.06695085, 21.06695085,\n       21.06695085, 21.06695085, 21.06695085, 21.06695085, 21.06695085,\n       21.06695085, 21.06695085, 21.06695085, 21.06695085, 21.06695085,\n       21.06695085, 21.06695085, 21.06695085, 21.06695085, 21.06695085,\n       21.06695085, 21.06695085, 21.06695085, 21.06695085, 21.06695085,\n       21.06695085, 21.06695085, 21.06695085, 21.06695085, 21.06695085,\n       21.06695085, 21.06695085, 21.06695085, 21.06695085, 21.06695085,\n       21.06695085, 21.06695085, 21.06695085, 21.06695085, 21.06695085,\n       21.06695085, 21.06695085, 21.06695085, 21.06695085, 21.06695085,\n       21.06695085, 21.06695085, 21.06695085, 21.06695085, 21.06695085,\n       21.06695085, 21.06695085, 21.06695085, 21.06695085, 21.06695085,\n       21.06695085, 21.06695085, 21.06695085, 21.06695085, 21.06695085,\n       21.06695085, 21.06695085, 21.06695085, 21.06695085, 21.06695085,\n       21.06695085, 21.06695085, 21.06695085, 21.06695085, 21.06695085,\n       21.06695085, 21.06695085, 21.06695085, 21.06695085, 21.06695085,\n       21.06695085, 21.06695085, 21.06695085, 21.06695085, 21.06695085,\n       21.06695085, 21.06695085, 21.06695085, 21.06695085, 21.06695085,\n       21.06695085, 21.06695085, 21.06695085, 21.06695085, 21.06695085,\n       21.06695085, 21.06695085, 21.06695085, 21.06695085, 21.06695085,\n       21.06695085, 21.06695085, 21.06695085, 21.06695085, 21.06695085,\n       21.06695085, 21.06695085, 21.06695085, 21.06695085, 21.06695085,\n       21.06695085, 21.06695085, 21.06695085, 21.06695085, 21.06695085,\n       21.06695085, 21.06695085, 21.06695085, 21.06695085, 21.06695085,\n       21.06695085, 21.06695085, 21.06695085, 21.06695085, 21.06695085,\n       21.06695085, 21.06695085, 21.06695085, 21.06695085, 21.06695085,\n       21.06695085, 21.06695085, 21.06695085, 21.06695085, 21.06695085,\n       21.06695085, 21.06695085, 21.06695085, 21.06695085, 21.06695085,\n       21.06695085, 21.06695085, 21.06695085, 21.06695085, 21.06695085,\n       21.06695085, 21.06695085, 21.06695085, 21.06695085, 21.06695085,\n       21.06695085, 21.06695085, 21.06695085, 21.06695085, 21.06695085,\n       21.06695085, 21.06695085, 21.06695085, 21.06695085, 21.06695085,\n       21.06695085, 21.06695085, 21.06695085, 21.06695085, 21.06695085,\n       21.06695085, 21.06695085, 21.06695085, 21.06695085, 21.06695085,\n       21.06695085, 21.06695085, 21.06695085, 21.06695085, 21.06695085,\n       21.06695085, 21.06695085, 21.06695085, 21.06695085, 21.06695085])"
     },
     "execution_count": 717,
     "metadata": {},
     "output_type": "execute_result"
    }
   ],
   "source": [
    "y_pred_dum"
   ],
   "metadata": {
    "collapsed": false,
    "pycharm": {
     "name": "#%%\n"
    }
   }
  },
  {
   "cell_type": "raw",
   "source": [
    "from sklearn.metrics import mean_absolute_error,r2_score,mean_squared_error\n",
    "\n",
    "def run_experiment(model):\n",
    "    model.fit(X_train, y_train)\n",
    "    y_pred = model.predict(X_test)\n",
    "    print(\"R² : \", r2_score(y_test, y_pred))\n",
    "    print(\"MAE :\", mean_absolute_error(y_test,y_pred))\n",
    "    print(\"RMSE:\", np.sqrt(mean_squared_error(y_test, y_pred)))\n",
    "\n",
    "run_experiment(lr)"
   ],
   "metadata": {
    "collapsed": false,
    "pycharm": {
     "name": "#%% raw\n"
    }
   }
  },
  {
   "cell_type": "markdown",
   "source": [
    "#### 2) Linear Model : Ridge"
   ],
   "metadata": {
    "collapsed": false,
    "pycharm": {
     "name": "#%% md\n"
    }
   }
  },
  {
   "cell_type": "raw",
   "source": [
    "n_alphas = 50 #hyperparametre alpha\n",
    "alphas = np.logspace(-5, 5, n_alphas)\n",
    "\n",
    "ridge = linear_model.Ridge()\n",
    "\n",
    "coefs = []\n",
    "errors = []\n",
    "for a in alphas:\n",
    "    ridge.set_params(alpha=a)\n",
    "    ridge.fit(X_train, y_train)\n",
    "    coefs.append(ridge.coef_)\n",
    "    errors.append(np.mean((ridge.predict(X_test) - y_test) ** 2))"
   ],
   "metadata": {
    "collapsed": false,
    "pycharm": {
     "name": "#%% raw\n"
    }
   }
  },
  {
   "cell_type": "raw",
   "source": [
    "# observation du comportement de l'erreur\n",
    "\n",
    "ax = plt.gca()\n",
    "ax.plot(alphas, errors, [10**-5, 10**5], [baseline_error, baseline_error])\n",
    "ax.set_xscale('log')\n",
    "plt.show()"
   ],
   "metadata": {
    "collapsed": false,
    "pycharm": {
     "name": "#%% raw\n"
    }
   }
  },
  {
   "cell_type": "raw",
   "source": [
    "ax = plt.gca()\n",
    "\n",
    "ax.plot(alphas, errors)\n",
    "ax.set_xscale('log')\n",
    "plt.xlabel('alpha')\n",
    "plt.ylabel('error')\n",
    "plt.axis('tight')\n",
    "plt.show()"
   ],
   "metadata": {
    "collapsed": false,
    "pycharm": {
     "name": "#%% raw\n"
    }
   }
  },
  {
   "cell_type": "code",
   "execution_count": 717,
   "outputs": [],
   "source": [],
   "metadata": {
    "collapsed": false,
    "pycharm": {
     "name": "#%%\n"
    }
   }
  },
  {
   "cell_type": "raw",
   "source": [
    "# index du min des erreurs\n",
    "np.argmin(errors)"
   ],
   "metadata": {
    "collapsed": false,
    "pycharm": {
     "name": "#%% raw\n"
    }
   }
  },
  {
   "cell_type": "raw",
   "source": [
    "# recupere l'erreur min\n",
    "errors[np.argmin(errors)]"
   ],
   "metadata": {
    "collapsed": false,
    "pycharm": {
     "name": "#%% raw\n"
    }
   }
  },
  {
   "cell_type": "raw",
   "source": [
    "# recup alpha associé à cet erreur min\n",
    "alphas[np.argmin(errors)]\n",
    "# alphas[35]"
   ],
   "metadata": {
    "collapsed": false,
    "pycharm": {
     "name": "#%% raw\n"
    }
   }
  },
  {
   "cell_type": "raw",
   "source": [
    "# chemin de régularisation\n",
    "ax = plt.gca()\n",
    "ax.plot(alphas, coefs)\n",
    "ax.set_xscale('log')\n",
    "plt.show()"
   ],
   "metadata": {
    "collapsed": false,
    "pycharm": {
     "name": "#%% raw\n"
    }
   }
  },
  {
   "cell_type": "raw",
   "source": [
    "ax = plt.gca()\n",
    "\n",
    "ax.plot(alphas, coefs)\n",
    "ax.set_xscale('log')\n",
    "plt.xlabel('alpha')\n",
    "plt.ylabel('weights')\n",
    "plt.title('Ridge coefficients as a function of the regularization')\n",
    "plt.axis('tight')\n",
    "plt.show()"
   ],
   "metadata": {
    "collapsed": false,
    "pycharm": {
     "name": "#%% raw\n"
    }
   }
  },
  {
   "cell_type": "raw",
   "source": [
    "min(errors)"
   ],
   "metadata": {
    "collapsed": false,
    "pycharm": {
     "name": "#%% raw\n"
    }
   }
  },
  {
   "cell_type": "code",
   "execution_count": 717,
   "outputs": [],
   "source": [],
   "metadata": {
    "collapsed": false,
    "pycharm": {
     "name": "#%%\n"
    }
   }
  },
  {
   "cell_type": "markdown",
   "source": [
    "#### 3) Linear Model : LASSO"
   ],
   "metadata": {
    "collapsed": false,
    "pycharm": {
     "name": "#%% md\n"
    }
   }
  },
  {
   "cell_type": "raw",
   "source": [
    "n_alphas = 1000\n",
    "alphas = np.logspace(-5, 5, 50)\n",
    "\n",
    "lasso = linear_model.Lasso()\n",
    "\n",
    "coefs = []\n",
    "errors = []\n",
    "for a in alphas:\n",
    "    lasso.set_params(alpha=a)\n",
    "    lasso.fit(X_train, y_train)\n",
    "    coefs.append(lasso.coef_)\n",
    "    errors.append(np.mean((lasso.predict(X_test) - y_test) ** 2))"
   ],
   "metadata": {
    "collapsed": false,
    "pycharm": {
     "name": "#%% raw\n"
    }
   }
  },
  {
   "cell_type": "raw",
   "source": [
    "n_alphas = 50\n",
    "alphas = np.logspace(-10, 10, n_alphas)\n",
    "lasso = linear_model.Lasso(fit_intercept=False)\n",
    "\n",
    "\"\"\"\n",
    "fit_intercept : bool, default=True\n",
    "Whether to calculate the intercept for this model. If set to False, no intercept will be used in calculations (i.e. data is expected to be centered).\n",
    "\"\"\"\n",
    "\n",
    "coefs = []\n",
    "errors = []\n",
    "for a in alphas:\n",
    "    lasso.set_params(alpha=a)\n",
    "    lasso.fit(X_train, y_train)\n",
    "    coefs.append(lasso.coef_)\n",
    "    errors.append([baseline_error, np.mean((lasso.predict(X_test) - y_test) ** 2)])"
   ],
   "metadata": {
    "collapsed": false,
    "pycharm": {
     "name": "#%% raw\n"
    }
   }
  },
  {
   "cell_type": "raw",
   "source": [
    "# observation du comportement de l'erreur\n",
    "\n",
    "ax = plt.gca()\n",
    "ax.plot(alphas, errors, [10**-5, 10**5], [baseline_error, baseline_error])\n",
    "ax.set_xscale('log')\n",
    "plt.show()"
   ],
   "metadata": {
    "collapsed": false,
    "pycharm": {
     "name": "#%% raw\n"
    }
   }
  },
  {
   "cell_type": "raw",
   "source": [
    "# recupere l'erreur min\n",
    "errors[np.argmin(errors)]"
   ],
   "metadata": {
    "collapsed": false,
    "pycharm": {
     "name": "#%% raw\n"
    }
   }
  },
  {
   "cell_type": "raw",
   "source": [
    "# recup alpha associé à cet erreur min\n",
    "alphas[np.argmin(errors)]"
   ],
   "metadata": {
    "collapsed": false,
    "pycharm": {
     "name": "#%% raw\n"
    }
   }
  },
  {
   "cell_type": "raw",
   "source": [
    "# chemin de régularisation\n",
    "ax = plt.gca()\n",
    "ax.plot(alphas, coefs)\n",
    "ax.set_xscale('log')\n",
    "plt.show()"
   ],
   "metadata": {
    "collapsed": false,
    "pycharm": {
     "name": "#%% raw\n"
    }
   }
  },
  {
   "cell_type": "raw",
   "source": [
    "ax = plt.gca()\n",
    "\n",
    "ax.plot(alphas, coefs)\n",
    "ax.set_xscale('log')\n",
    "plt.xlabel('alpha')\n",
    "plt.ylabel('weights')\n",
    "plt.axis('tight')\n",
    "plt.show()"
   ],
   "metadata": {
    "collapsed": false,
    "pycharm": {
     "name": "#%% raw\n"
    }
   }
  },
  {
   "cell_type": "raw",
   "source": [
    "import numpy as np\n",
    "\n",
    "X = np.matrix([-0.78768, -1.51760513, 0.74416271, -0.62288928])\n",
    "X = X.T\n",
    "print(X)\n",
    "\n",
    "y = np.matrix([-34.59703199, -30.79543532, 19.31018182, -19.44809959])\n",
    "y = y.T\n",
    "print(y)\n",
    "print(np.linalg.inv(X.T.dot(X)).dot(X.T))\n",
    "beta = np.linalg.inv(X.T.dot(X)).dot(X.T).dot(y)\n",
    "beta"
   ],
   "metadata": {
    "collapsed": false,
    "pycharm": {
     "name": "#%% raw\n"
    }
   }
  },
  {
   "cell_type": "markdown",
   "source": [
    "#### 4) Linear Model : Elastic Net"
   ],
   "metadata": {
    "collapsed": false,
    "pycharm": {
     "name": "#%% md\n"
    }
   }
  },
  {
   "cell_type": "raw",
   "source": [
    "from sklearn.linear_model import ElasticNet\n",
    "\n",
    "#rappel de la fonction de coût du elasticnet\n",
    "#1 / (2 * n_samples) * ||y - Xw||^2_2 + alpha * l1_ratio * ||w||_1 + 0.5 * alpha * (1 - l1_ratio) * ||w||^2_2\n",
    "\n",
    "parameters = {'tol' : [0.1,0.01,0.001,0.0001],\n",
    "              \"alpha\": [0.0001, 0.001, 0.01, 0.1, 1, 10, 100],  #alpha, coef qui multiplie le terme de pénalité)\n",
    "              \"l1_ratio\": np.arange(0.0, 1.0, 0.1)}#L1 ratio , =1 équivaut à un Lasso, 0 à un Ridge\n",
    "\n",
    "\n",
    "elastic_grid = GridSearchCV(estimator = ElasticNet(),\n",
    "                            param_grid = parameters,\n",
    "                            scoring = 'neg_mean_squared_error',\n",
    "                            cv=5,\n",
    "                            verbose=0\n",
    "                            )\n",
    "\n",
    "elastic_grid.fit(X_train, y_train)"
   ],
   "metadata": {
    "collapsed": false,
    "pycharm": {
     "name": "#%% raw\n"
    }
   }
  },
  {
   "cell_type": "raw",
   "source": [
    "elastic_grid.best_params_"
   ],
   "metadata": {
    "collapsed": false,
    "pycharm": {
     "name": "#%% raw\n"
    }
   }
  },
  {
   "cell_type": "markdown",
   "source": [
    "results = pd.DataFrame({})\n",
    "\n",
    "import math\n",
    "results = results.append(pd.DataFrame({\n",
    "    'Modèle' : ['Elasticnet Regression'],\n",
    "    'Score_RMSE' : [math.sqrt(mean_squared_error(elastic_grid.predict(X_test), y_test))]}),\n",
    "    ignore_index=True)"
   ],
   "metadata": {
    "collapsed": false,
    "pycharm": {
     "name": "#%% md\n"
    }
   }
  },
  {
   "cell_type": "markdown",
   "source": [
    "### 2) Ensemble learning methods"
   ],
   "metadata": {
    "collapsed": false,
    "pycharm": {
     "name": "#%% md\n"
    }
   }
  },
  {
   "cell_type": "markdown",
   "source": [
    "#### 1) Parallelized Implementation : Random Forest"
   ],
   "metadata": {
    "collapsed": false,
    "pycharm": {
     "name": "#%% md\n"
    }
   }
  },
  {
   "cell_type": "code",
   "execution_count": 718,
   "outputs": [],
   "source": [
    "from sklearn.ensemble import RandomForestRegressor\n",
    "\n",
    "rfr = RandomForestRegressor(n_estimators=1000) # nb of trees 1000 for the forest"
   ],
   "metadata": {
    "collapsed": false,
    "pycharm": {
     "name": "#%%\n"
    }
   }
  },
  {
   "cell_type": "code",
   "execution_count": 719,
   "outputs": [
    {
     "data": {
      "text/plain": "      NumberofFloors  PropertyGFATotal  PropertyGFABuilding(s)  \\\n1              -0.50             -0.46                   -0.46   \n2              -0.31             -0.47                   -0.47   \n3               1.91             -0.11                   -0.05   \n4              -0.31             -0.38                   -0.43   \n5              -0.13             -0.37                   -0.35   \n...              ...               ...                     ...   \n3124            0.06             -0.26                   -0.23   \n3125           -0.50             -0.40                   -0.40   \n3126           -0.31             -0.34                   -0.41   \n3128            0.06             -0.40                   -0.45   \n3129           -0.50             -0.50                   -0.51   \n\n      SecondLargestPropertyUseTypeGFA  ThirdLargestPropertyUseTypeGFA  \\\n1                               -0.14                            0.13   \n2                               -0.38                           -0.21   \n3                               -0.38                           -0.21   \n4                               -0.27                           -0.21   \n5                               -0.38                           -0.21   \n...                               ...                             ...   \n3124                            -0.38                           -0.21   \n3125                            -0.01                           -0.05   \n3126                             0.01                            0.87   \n3128                            -0.14                           -0.04   \n3129                            -0.16                           -0.21   \n\n      BuildingType_Campus  BuildingType_Multifamily HR (10+)  \\\n1                    0.00                               0.00   \n2                    0.00                               0.00   \n3                    0.00                               1.00   \n4                    0.00                               0.00   \n5                    0.00                               0.00   \n...                   ...                                ...   \n3124                 0.00                               0.00   \n3125                 0.00                               0.00   \n3126                 0.00                               0.00   \n3128                 0.00                               0.00   \n3129                 0.00                               0.00   \n\n      BuildingType_Multifamily LR (1-4)  BuildingType_Multifamily MR (5-9)  \\\n1                                  0.00                               0.00   \n2                                  1.00                               0.00   \n3                                  0.00                               0.00   \n4                                  1.00                               0.00   \n5                                  0.00                               0.00   \n...                                 ...                                ...   \n3124                               0.00                               1.00   \n3125                               0.00                               0.00   \n3126                               0.00                               0.00   \n3128                               0.00                               0.00   \n3129                               0.00                               0.00   \n\n      BuildingType_NonResidential  ...  Neighborhood_downtown  \\\n1                            1.00  ...                   0.00   \n2                            0.00  ...                   0.00   \n3                            0.00  ...                   0.00   \n4                            0.00  ...                   0.00   \n5                            1.00  ...                   0.00   \n...                           ...  ...                    ...   \n3124                         0.00  ...                   0.00   \n3125                         1.00  ...                   0.00   \n3126                         1.00  ...                   0.00   \n3128                         1.00  ...                   0.00   \n3129                         1.00  ...                   0.00   \n\n      Neighborhood_east  Neighborhood_greater duwamish  \\\n1                  0.00                           1.00   \n2                  0.00                           1.00   \n3                  0.00                           1.00   \n4                  0.00                           1.00   \n5                  0.00                           0.00   \n...                 ...                            ...   \n3124               1.00                           0.00   \n3125               0.00                           0.00   \n3126               0.00                           0.00   \n3128               0.00                           0.00   \n3129               0.00                           0.00   \n\n      Neighborhood_lake union  Neighborhood_magnolia / queen anne  \\\n1                        0.00                                0.00   \n2                        0.00                                0.00   \n3                        0.00                                0.00   \n4                        0.00                                0.00   \n5                        0.00                                0.00   \n...                       ...                                 ...   \n3124                     0.00                                0.00   \n3125                     1.00                                0.00   \n3126                     1.00                                0.00   \n3128                     1.00                                0.00   \n3129                     1.00                                0.00   \n\n      Neighborhood_north  Neighborhood_northeast  Neighborhood_northwest  \\\n1                   0.00                    0.00                    0.00   \n2                   0.00                    0.00                    0.00   \n3                   0.00                    0.00                    0.00   \n4                   0.00                    0.00                    0.00   \n5                   0.00                    1.00                    0.00   \n...                  ...                     ...                     ...   \n3124                0.00                    0.00                    0.00   \n3125                0.00                    0.00                    0.00   \n3126                0.00                    0.00                    0.00   \n3128                0.00                    0.00                    0.00   \n3129                0.00                    0.00                    0.00   \n\n      Neighborhood_southeast  Neighborhood_southwest  \n1                       0.00                    0.00  \n2                       0.00                    0.00  \n3                       0.00                    0.00  \n4                       0.00                    0.00  \n5                       0.00                    0.00  \n...                      ...                     ...  \n3124                    0.00                    0.00  \n3125                    0.00                    0.00  \n3126                    0.00                    0.00  \n3128                    0.00                    0.00  \n3129                    0.00                    0.00  \n\n[2191 rows x 99 columns]",
      "text/html": "<div>\n<style scoped>\n    .dataframe tbody tr th:only-of-type {\n        vertical-align: middle;\n    }\n\n    .dataframe tbody tr th {\n        vertical-align: top;\n    }\n\n    .dataframe thead th {\n        text-align: right;\n    }\n</style>\n<table border=\"1\" class=\"dataframe\">\n  <thead>\n    <tr style=\"text-align: right;\">\n      <th></th>\n      <th>NumberofFloors</th>\n      <th>PropertyGFATotal</th>\n      <th>PropertyGFABuilding(s)</th>\n      <th>SecondLargestPropertyUseTypeGFA</th>\n      <th>ThirdLargestPropertyUseTypeGFA</th>\n      <th>BuildingType_Campus</th>\n      <th>BuildingType_Multifamily HR (10+)</th>\n      <th>BuildingType_Multifamily LR (1-4)</th>\n      <th>BuildingType_Multifamily MR (5-9)</th>\n      <th>BuildingType_NonResidential</th>\n      <th>...</th>\n      <th>Neighborhood_downtown</th>\n      <th>Neighborhood_east</th>\n      <th>Neighborhood_greater duwamish</th>\n      <th>Neighborhood_lake union</th>\n      <th>Neighborhood_magnolia / queen anne</th>\n      <th>Neighborhood_north</th>\n      <th>Neighborhood_northeast</th>\n      <th>Neighborhood_northwest</th>\n      <th>Neighborhood_southeast</th>\n      <th>Neighborhood_southwest</th>\n    </tr>\n  </thead>\n  <tbody>\n    <tr>\n      <th>1</th>\n      <td>-0.50</td>\n      <td>-0.46</td>\n      <td>-0.46</td>\n      <td>-0.14</td>\n      <td>0.13</td>\n      <td>0.00</td>\n      <td>0.00</td>\n      <td>0.00</td>\n      <td>0.00</td>\n      <td>1.00</td>\n      <td>...</td>\n      <td>0.00</td>\n      <td>0.00</td>\n      <td>1.00</td>\n      <td>0.00</td>\n      <td>0.00</td>\n      <td>0.00</td>\n      <td>0.00</td>\n      <td>0.00</td>\n      <td>0.00</td>\n      <td>0.00</td>\n    </tr>\n    <tr>\n      <th>2</th>\n      <td>-0.31</td>\n      <td>-0.47</td>\n      <td>-0.47</td>\n      <td>-0.38</td>\n      <td>-0.21</td>\n      <td>0.00</td>\n      <td>0.00</td>\n      <td>1.00</td>\n      <td>0.00</td>\n      <td>0.00</td>\n      <td>...</td>\n      <td>0.00</td>\n      <td>0.00</td>\n      <td>1.00</td>\n      <td>0.00</td>\n      <td>0.00</td>\n      <td>0.00</td>\n      <td>0.00</td>\n      <td>0.00</td>\n      <td>0.00</td>\n      <td>0.00</td>\n    </tr>\n    <tr>\n      <th>3</th>\n      <td>1.91</td>\n      <td>-0.11</td>\n      <td>-0.05</td>\n      <td>-0.38</td>\n      <td>-0.21</td>\n      <td>0.00</td>\n      <td>1.00</td>\n      <td>0.00</td>\n      <td>0.00</td>\n      <td>0.00</td>\n      <td>...</td>\n      <td>0.00</td>\n      <td>0.00</td>\n      <td>1.00</td>\n      <td>0.00</td>\n      <td>0.00</td>\n      <td>0.00</td>\n      <td>0.00</td>\n      <td>0.00</td>\n      <td>0.00</td>\n      <td>0.00</td>\n    </tr>\n    <tr>\n      <th>4</th>\n      <td>-0.31</td>\n      <td>-0.38</td>\n      <td>-0.43</td>\n      <td>-0.27</td>\n      <td>-0.21</td>\n      <td>0.00</td>\n      <td>0.00</td>\n      <td>1.00</td>\n      <td>0.00</td>\n      <td>0.00</td>\n      <td>...</td>\n      <td>0.00</td>\n      <td>0.00</td>\n      <td>1.00</td>\n      <td>0.00</td>\n      <td>0.00</td>\n      <td>0.00</td>\n      <td>0.00</td>\n      <td>0.00</td>\n      <td>0.00</td>\n      <td>0.00</td>\n    </tr>\n    <tr>\n      <th>5</th>\n      <td>-0.13</td>\n      <td>-0.37</td>\n      <td>-0.35</td>\n      <td>-0.38</td>\n      <td>-0.21</td>\n      <td>0.00</td>\n      <td>0.00</td>\n      <td>0.00</td>\n      <td>0.00</td>\n      <td>1.00</td>\n      <td>...</td>\n      <td>0.00</td>\n      <td>0.00</td>\n      <td>0.00</td>\n      <td>0.00</td>\n      <td>0.00</td>\n      <td>0.00</td>\n      <td>1.00</td>\n      <td>0.00</td>\n      <td>0.00</td>\n      <td>0.00</td>\n    </tr>\n    <tr>\n      <th>...</th>\n      <td>...</td>\n      <td>...</td>\n      <td>...</td>\n      <td>...</td>\n      <td>...</td>\n      <td>...</td>\n      <td>...</td>\n      <td>...</td>\n      <td>...</td>\n      <td>...</td>\n      <td>...</td>\n      <td>...</td>\n      <td>...</td>\n      <td>...</td>\n      <td>...</td>\n      <td>...</td>\n      <td>...</td>\n      <td>...</td>\n      <td>...</td>\n      <td>...</td>\n      <td>...</td>\n    </tr>\n    <tr>\n      <th>3124</th>\n      <td>0.06</td>\n      <td>-0.26</td>\n      <td>-0.23</td>\n      <td>-0.38</td>\n      <td>-0.21</td>\n      <td>0.00</td>\n      <td>0.00</td>\n      <td>0.00</td>\n      <td>1.00</td>\n      <td>0.00</td>\n      <td>...</td>\n      <td>0.00</td>\n      <td>1.00</td>\n      <td>0.00</td>\n      <td>0.00</td>\n      <td>0.00</td>\n      <td>0.00</td>\n      <td>0.00</td>\n      <td>0.00</td>\n      <td>0.00</td>\n      <td>0.00</td>\n    </tr>\n    <tr>\n      <th>3125</th>\n      <td>-0.50</td>\n      <td>-0.40</td>\n      <td>-0.40</td>\n      <td>-0.01</td>\n      <td>-0.05</td>\n      <td>0.00</td>\n      <td>0.00</td>\n      <td>0.00</td>\n      <td>0.00</td>\n      <td>1.00</td>\n      <td>...</td>\n      <td>0.00</td>\n      <td>0.00</td>\n      <td>0.00</td>\n      <td>1.00</td>\n      <td>0.00</td>\n      <td>0.00</td>\n      <td>0.00</td>\n      <td>0.00</td>\n      <td>0.00</td>\n      <td>0.00</td>\n    </tr>\n    <tr>\n      <th>3126</th>\n      <td>-0.31</td>\n      <td>-0.34</td>\n      <td>-0.41</td>\n      <td>0.01</td>\n      <td>0.87</td>\n      <td>0.00</td>\n      <td>0.00</td>\n      <td>0.00</td>\n      <td>0.00</td>\n      <td>1.00</td>\n      <td>...</td>\n      <td>0.00</td>\n      <td>0.00</td>\n      <td>0.00</td>\n      <td>1.00</td>\n      <td>0.00</td>\n      <td>0.00</td>\n      <td>0.00</td>\n      <td>0.00</td>\n      <td>0.00</td>\n      <td>0.00</td>\n    </tr>\n    <tr>\n      <th>3128</th>\n      <td>0.06</td>\n      <td>-0.40</td>\n      <td>-0.45</td>\n      <td>-0.14</td>\n      <td>-0.04</td>\n      <td>0.00</td>\n      <td>0.00</td>\n      <td>0.00</td>\n      <td>0.00</td>\n      <td>1.00</td>\n      <td>...</td>\n      <td>0.00</td>\n      <td>0.00</td>\n      <td>0.00</td>\n      <td>1.00</td>\n      <td>0.00</td>\n      <td>0.00</td>\n      <td>0.00</td>\n      <td>0.00</td>\n      <td>0.00</td>\n      <td>0.00</td>\n    </tr>\n    <tr>\n      <th>3129</th>\n      <td>-0.50</td>\n      <td>-0.50</td>\n      <td>-0.51</td>\n      <td>-0.16</td>\n      <td>-0.21</td>\n      <td>0.00</td>\n      <td>0.00</td>\n      <td>0.00</td>\n      <td>0.00</td>\n      <td>1.00</td>\n      <td>...</td>\n      <td>0.00</td>\n      <td>0.00</td>\n      <td>0.00</td>\n      <td>1.00</td>\n      <td>0.00</td>\n      <td>0.00</td>\n      <td>0.00</td>\n      <td>0.00</td>\n      <td>0.00</td>\n      <td>0.00</td>\n    </tr>\n  </tbody>\n</table>\n<p>2191 rows × 99 columns</p>\n</div>"
     },
     "execution_count": 719,
     "metadata": {},
     "output_type": "execute_result"
    }
   ],
   "source": [
    "X_train"
   ],
   "metadata": {
    "collapsed": false,
    "pycharm": {
     "name": "#%%\n"
    }
   }
  },
  {
   "cell_type": "code",
   "execution_count": 720,
   "outputs": [],
   "source": [
    "rfr = rfr.fit(X_train.values, y_train)"
   ],
   "metadata": {
    "collapsed": false,
    "pycharm": {
     "name": "#%%\n"
    }
   }
  },
  {
   "cell_type": "code",
   "execution_count": 721,
   "outputs": [
    {
     "name": "stdout",
     "output_type": "stream",
     "text": [
      "accuracy -0.15 time 0.24s\n"
     ]
    }
   ],
   "source": [
    "import timeit\n",
    "\n",
    "start_time = timeit.default_timer()\n",
    "y_pred_rfr = rfr.predict(X_test.values)\n",
    "elapsed = timeit.default_timer() - start_time\n",
    "accuracy = rfr.score(X_test.values, y_test)\n",
    "print(\"accuracy {:.2f} time {:.2f}s\".format(accuracy, elapsed))"
   ],
   "metadata": {
    "collapsed": false,
    "pycharm": {
     "name": "#%%\n"
    }
   }
  },
  {
   "cell_type": "code",
   "execution_count": 722,
   "outputs": [
    {
     "name": "stdout",
     "output_type": "stream",
     "text": [
      "Prediction for :  Log2-SiteEnergyUse(kBtu)\n"
     ]
    },
    {
     "data": {
      "text/plain": "                     Model           RMSE           MAE  \\\n0          Dummy Regressor           1.62          1.30   \n0        Linear Regression 15165194252.78 1287151626.88   \n0  Random Forest Regressor           1.73          1.38   \n\n                       MSE                       R²  \n0                     2.62                    -0.00  \n0 229983116724570030080.00 -87887661304639176704.00  \n0                     3.00                    -0.15  ",
      "text/html": "<div>\n<style scoped>\n    .dataframe tbody tr th:only-of-type {\n        vertical-align: middle;\n    }\n\n    .dataframe tbody tr th {\n        vertical-align: top;\n    }\n\n    .dataframe thead th {\n        text-align: right;\n    }\n</style>\n<table border=\"1\" class=\"dataframe\">\n  <thead>\n    <tr style=\"text-align: right;\">\n      <th></th>\n      <th>Model</th>\n      <th>RMSE</th>\n      <th>MAE</th>\n      <th>MSE</th>\n      <th>R²</th>\n    </tr>\n  </thead>\n  <tbody>\n    <tr>\n      <th>0</th>\n      <td>Dummy Regressor</td>\n      <td>1.62</td>\n      <td>1.30</td>\n      <td>2.62</td>\n      <td>-0.00</td>\n    </tr>\n    <tr>\n      <th>0</th>\n      <td>Linear Regression</td>\n      <td>15165194252.78</td>\n      <td>1287151626.88</td>\n      <td>229983116724570030080.00</td>\n      <td>-87887661304639176704.00</td>\n    </tr>\n    <tr>\n      <th>0</th>\n      <td>Random Forest Regressor</td>\n      <td>1.73</td>\n      <td>1.38</td>\n      <td>3.00</td>\n      <td>-0.15</td>\n    </tr>\n  </tbody>\n</table>\n</div>"
     },
     "metadata": {},
     "output_type": "display_data"
    },
    {
     "name": "stdout",
     "output_type": "stream",
     "text": [
      "If the prediction was good, we would see a line which is not the case here .\n"
     ]
    },
    {
     "data": {
      "text/plain": "<Figure size 432x288 with 1 Axes>",
      "image/png": "[encoded data removed]"
     },
     "metadata": {
      "needs_background": "light"
     },
     "output_type": "display_data"
    }
   ],
   "source": [
    "results = evaluate_regression(\"Random Forest Regressor\", results, y_test, y_pred_rfr)"
   ],
   "metadata": {
    "collapsed": false,
    "pycharm": {
     "name": "#%%\n"
    }
   }
  },
  {
   "cell_type": "raw",
   "source": [
    "from sklearn.ensemble import RandomForestRegressor\n",
    "\n",
    "parameters = {\n",
    "    'n_estimators' : [10,50,100,300,500], #nombre d'arbres de décision\n",
    "    'min_samples_leaf' : [1,3,5,10], #nombre de feuilles minimales dans un noeud\n",
    "    'max_features': ['auto', 'sqrt'] #nombre de features observées pour chaque arbre\n",
    "}"
   ],
   "metadata": {
    "collapsed": false,
    "pycharm": {
     "name": "#%% raw\n"
    }
   }
  },
  {
   "cell_type": "raw",
   "source": [
    "rfr_search = GridSearchCV(RandomForestRegressor(),\n",
    "                          param_grid = parameters,\n",
    "                          #scoring='mean_squared_error',\n",
    "                          verbose=2,\n",
    "                          cv=5)\n",
    "\n",
    "rfr_search.fit(X_train, y_train)"
   ],
   "metadata": {
    "collapsed": false,
    "pycharm": {
     "name": "#%% raw\n"
    }
   }
  },
  {
   "cell_type": "raw",
   "source": [
    "rfr_search.best_params_"
   ],
   "metadata": {
    "collapsed": false,
    "pycharm": {
     "name": "#%% raw\n"
    }
   }
  },
  {
   "cell_type": "raw",
   "source": [
    "import math\n",
    "results = results.append(pd.DataFrame({\n",
    "    'Modèle' : ['Random Forest Regressor'],\n",
    "    'Score_RMSE' : [math.sqrt(mean_squared_error(rfr_search.predict(X_test), y_test))]}),\n",
    "    ignore_index=True)"
   ],
   "metadata": {
    "collapsed": false,
    "pycharm": {
     "name": "#%% raw\n"
    }
   }
  },
  {
   "cell_type": "raw",
   "source": [
    "coefficients = abs(rfr_search.best_estimator_.feature_importances_)\n",
    "liste_coefs_rer = pd.concat((pd.DataFrame(X.columns, columns = ['Variable']),\n",
    "                             pd.DataFrame(coefficients, columns = ['Coefficient'])), axis = 1).sort_values(by='Coefficient', ascending = False)"
   ],
   "metadata": {
    "collapsed": false,
    "pycharm": {
     "name": "#%% raw\n"
    }
   }
  },
  {
   "cell_type": "raw",
   "source": [
    "plt.figure(figsize=(8,8))\n",
    "plt.title('RandomForestRegressor - Importance des 20 premières Features')\n",
    "sns.barplot(y = liste_coefs_rer['Variable'].head(20),\n",
    "            x = liste_coefs_rer['Coefficient'].head(20))\n",
    "plt.show()"
   ],
   "metadata": {
    "collapsed": false,
    "pycharm": {
     "name": "#%% raw\n"
    }
   }
  },
  {
   "cell_type": "raw",
   "source": [
    "plt.figure(figsize=(10,4))\n",
    "plt.title('Comparaison des RMSE relatives des modèles (en %)')\n",
    "chart = sns.barplot(x = results['Modèle'],\n",
    "                    y = results['RMSE_%']*100)\n",
    "chart.set_xticklabels(labels = results['Modèle'],\n",
    "                      rotation=45,\n",
    "                      horizontalalignment='right',\n",
    "                      size=12,\n",
    "                      )\n",
    "ax = plt.gca()\n",
    "ax.set_ylim([0, 5])\n",
    "plt.show()"
   ],
   "metadata": {
    "collapsed": false,
    "pycharm": {
     "name": "#%% raw\n"
    }
   }
  },
  {
   "cell_type": "raw",
   "source": [
    "plt.title('Temps d\\'exécution des algorithmes pour la prédiction \\n(jeu d\\'entrainement) - échelle logarithmique')\n",
    "sns.barplot(x=nom_modeles,\n",
    "            y = [5.32, 640, 2.14, 145])\n",
    "ax = plt.gca()\n",
    "ax.set_yscale('log')"
   ],
   "metadata": {
    "collapsed": false,
    "pycharm": {
     "name": "#%% raw\n"
    }
   }
  },
  {
   "cell_type": "raw",
   "source": [
    "plt.figure(figsize=(8,6))\n",
    "sns.barplot(x = comparaison_score_melt['index'],\n",
    "            y = comparaison_score_melt['score'], hue = comparaison_score_melt['variable'])\n",
    "plt.title('Comparaison des performances des modèles (jeu de test)')"
   ],
   "metadata": {
    "collapsed": false,
    "pycharm": {
     "name": "#%% raw\n"
    }
   }
  },
  {
   "cell_type": "markdown",
   "source": [
    "### III) Evaluation"
   ],
   "metadata": {
    "collapsed": false,
    "pycharm": {
     "name": "#%% md\n"
    }
   }
  },
  {
   "cell_type": "markdown",
   "source": [
    "#### Vérification des prédictions\n"
   ],
   "metadata": {
    "collapsed": false,
    "pycharm": {
     "name": "#%% md\n"
    }
   }
  },
  {
   "cell_type": "code",
   "execution_count": 722,
   "outputs": [],
   "source": [],
   "metadata": {
    "collapsed": false,
    "pycharm": {
     "name": "#%%\n"
    }
   }
  },
  {
   "cell_type": "markdown",
   "source": [
    "#### Intérêt du Energy Star Score\n"
   ],
   "metadata": {
    "collapsed": false,
    "pycharm": {
     "name": "#%% md\n"
    }
   }
  }
 ],
 "metadata": {
  "kernelspec": {
   "display_name": "Python 3",
   "language": "python",
   "name": "python3"
  },
  "language_info": {
   "codemirror_mode": {
    "name": "ipython",
    "version": 2
   },
   "file_extension": ".py",
   "mimetype": "text/x-python",
   "name": "python",
   "nbconvert_exporter": "python",
   "pygments_lexer": "ipython2",
   "version": "2.7.6"
  }
 },
 "nbformat": 4,
 "nbformat_minor": 0
}