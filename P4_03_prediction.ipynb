{
 "cells": [
  {
   "cell_type": "markdown",
   "source": [
    "OpenClassrooms\n",
    "Project 4, Data Scientist\n",
    "Author : Oumeima EL GHARBI\n",
    "Date : August 2022"
   ],
   "metadata": {
    "collapsed": false,
    "pycharm": {
     "name": "#%% md\n"
    }
   }
  },
  {
   "cell_type": "markdown",
   "source": [
    "Un notebook pour chaque prédiction (émissions de CO2 et consommation totale d’énergie) des différents tests de modèles mis au propre, dans lequel vous identifierez clairement le modèle final choisi.\n",
    "\n",
    "\n",
    "L’objectif est de te passer des relevés de consommation annuels futurs (attention à la fuite de données). Nous ferons de toute façon pour tout nouveau bâtiment un premier relevé de référence la première année, donc rien ne t'interdit d’en déduire des variables structurelles aux bâtiments, par exemple la nature et proportions des sources d’énergie utilisées..\n",
    "\n",
    "Fais bien attention au traitement des différentes variables, à la fois pour trouver de nouvelles informations (peut-on déduire des choses intéressantes d’une simple adresse ?) et optimiser les performances en appliquant des transformations simples aux variables (normalisation, passage au log, etc.).\n",
    "\n",
    "Mets en place une évaluation rigoureuse des performances de la régression, et optimise les hyperparamètres et le choix d’algorithmes de ML à l’aide d’une validation croisée."
   ],
   "metadata": {
    "collapsed": false,
    "pycharm": {
     "name": "#%% md\n"
    }
   }
  },
  {
   "cell_type": "markdown",
   "source": [
    "\n",
    "\n",
    "Tester les modèles suivants : **regression linéaire (avec différentes régularisation : Ridge, Lasso, Elastic), Random Forest, XGboost**\n",
    "Penser à comparer les performances des différents modèles : utiliser la **MAE** ( Mean Absolute Error)\n",
    "Penser également à optimiser les hyper paramètres de chaque modèle via **GridSearch**\n"
   ],
   "metadata": {
    "collapsed": false,
    "pycharm": {
     "name": "#%% md\n"
    }
   }
  },
  {
   "cell_type": "markdown",
   "source": [
    "Evaluate :\n",
    "\n",
    "https://cloud.google.com/automl-tables/docs/evaluate?hl=fr\n",
    "\n",
    "\n",
    "KFOLD\n",
    "\n",
    "Entrée : données X (dimension nxp), étiquettes y (dimension n), nombre de folds k\n",
    "\n",
    "Couper [0, 1, ..., n-1] en k parties de taille (n/k). (La dernière partie sera un peu plus petite si n n'est pas un multiple de k)\n",
    "\n",
    "for i=0 to (k-1):\n",
    "    Former le jeu de test (X_test, y_test) en restreignant X et y aux indices contenus dans la i-ième partie.\n",
    "    Former le jeu d'entraînement (X_train, y_train) en restreignant X et y aux autres indices.\n",
    "    Entraîner l'algorithme sur le jeu d'entraînement\n",
    "    Utiliser le modèle ainsi obtenu pour prédire sur le jeu de test\n",
    "        Calculer l'erreur du modèle en comparant les étiquettes prédites aux vraies étiquettes contenues dans y_test\n",
    "\n",
    "Sortie : la valeur moyenne des erreurs calculées sur les k folds."
   ],
   "metadata": {
    "collapsed": false,
    "pycharm": {
     "name": "#%% md\n"
    }
   }
  },
  {
   "cell_type": "code",
   "execution_count": 231,
   "outputs": [],
   "source": [
    "# 1 modele de Regression (RL classsque / Elastic / ridig / laso\n",
    "# Random Forest\n",
    "# XGBOOST\n",
    "\n",
    "# var à rpedire tottal GHE Emssion last one to predict\n",
    "# cette var deped de la consommation des bateimenst (1) prediction sur elec, steam, naturalgas et un autre energie (2) et reutiliser pour predire"
   ],
   "metadata": {
    "collapsed": false,
    "pycharm": {
     "name": "#%%\n"
    }
   }
  },
  {
   "cell_type": "markdown",
   "source": [
    "### Introduction"
   ],
   "metadata": {
    "collapsed": false,
    "pycharm": {
     "name": "#%% md\n"
    }
   }
  },
  {
   "cell_type": "markdown",
   "source": [
    "#### Importing libraries"
   ],
   "metadata": {
    "collapsed": false,
    "pycharm": {
     "name": "#%% md\n"
    }
   }
  },
  {
   "cell_type": "code",
   "execution_count": 232,
   "outputs": [
    {
     "data": {
      "application/javascript": "IPython.notebook.set_autosave_interval(300000)"
     },
     "metadata": {},
     "output_type": "display_data"
    },
    {
     "name": "stdout",
     "output_type": "stream",
     "text": [
      "Autosaving every 300 seconds\n"
     ]
    }
   ],
   "source": [
    "%reset -f\n",
    "\n",
    "import numpy as np\n",
    "import pandas as pd\n",
    "import matplotlib.pyplot as plt\n",
    "import seaborn as sns\n",
    "\n",
    "%matplotlib inline\n",
    "%autosave 300"
   ],
   "metadata": {
    "collapsed": false,
    "pycharm": {
     "name": "#%%\n"
    }
   }
  },
  {
   "cell_type": "code",
   "execution_count": 233,
   "outputs": [],
   "source": [
    "from functions import *"
   ],
   "metadata": {
    "collapsed": false,
    "pycharm": {
     "name": "#%%\n"
    }
   }
  },
  {
   "cell_type": "code",
   "execution_count": 234,
   "outputs": [],
   "source": [
    "import os, warnings\n",
    "# warnings.filterwarnings('ignore')\n",
    "warnings.filterwarnings(action=\"once\")"
   ],
   "metadata": {
    "collapsed": false,
    "pycharm": {
     "name": "#%%\n"
    }
   }
  },
  {
   "cell_type": "code",
   "execution_count": 235,
   "outputs": [
    {
     "name": "stdout",
     "output_type": "stream",
     "text": [
      "Seed value:  513\n"
     ]
    }
   ],
   "source": [
    "# Set random integer (seed) - 891\n",
    "from random import randrange\n",
    "seed = randrange(1000)\n",
    "print(\"Seed value: \", seed)"
   ],
   "metadata": {
    "collapsed": false,
    "pycharm": {
     "name": "#%%\n"
    }
   }
  },
  {
   "cell_type": "markdown",
   "source": [
    "#### Loading dataset"
   ],
   "metadata": {
    "collapsed": false,
    "pycharm": {
     "name": "#%% md\n"
    }
   }
  },
  {
   "cell_type": "code",
   "execution_count": 236,
   "outputs": [
    {
     "name": "stdout",
     "output_type": "stream",
     "text": [
      "This dictionary will be used when reading the csv file to assign a type to categorical features : {'BuildingType': 'category', 'PrimaryPropertyType': 'category', 'Neighborhood': 'category', 'ZipCode': 'category', 'CouncilDistrictCode': 'category', 'LargestPropertyUseType': 'category', 'SecondLargestPropertyUseType': 'category', 'ThirdLargestPropertyUseType': 'category'}\n"
     ]
    }
   ],
   "source": [
    "columns_to_categorize = [\"BuildingType\", \"PrimaryPropertyType\", \"Neighborhood\", \"ZipCode\", \"CouncilDistrictCode\", \"LargestPropertyUseType\", \"SecondLargestPropertyUseType\", \"ThirdLargestPropertyUseType\"]\n",
    "#  \"Neighborhood\",\n",
    "category_types = {column: 'category' for column in columns_to_categorize}\n",
    "print(\"This dictionary will be used when reading the csv file to assign a type to categorical features :\", category_types)"
   ],
   "metadata": {
    "collapsed": false,
    "pycharm": {
     "name": "#%%\n"
    }
   }
  },
  {
   "cell_type": "code",
   "execution_count": 237,
   "outputs": [],
   "source": [
    "path = \"./dataset/cleaned/\"\n",
    "filename = \"2016_Building_Energy_Prediction.csv\"\n",
    "dataset_path = \"{}{}\".format(path, filename)\n",
    "# we assign the categorical features with a categotical type\n",
    "data = pd.read_csv(dataset_path, dtype=category_types, sep=\",\")"
   ],
   "metadata": {
    "collapsed": false,
    "pycharm": {
     "name": "#%%\n"
    }
   }
  },
  {
   "cell_type": "code",
   "execution_count": 238,
   "outputs": [
    {
     "data": {
      "text/plain": "(3157, 37)"
     },
     "execution_count": 238,
     "metadata": {},
     "output_type": "execute_result"
    }
   ],
   "source": [
    "data.shape"
   ],
   "metadata": {
    "collapsed": false,
    "pycharm": {
     "name": "#%%\n"
    }
   }
  },
  {
   "cell_type": "code",
   "execution_count": 239,
   "outputs": [
    {
     "data": {
      "text/plain": "OSEBuildingID                             int64\nBuildingType                           category\nPrimaryPropertyType                    category\nZipCode                                category\nCouncilDistrictCode                    category\nNeighborhood                           category\nYearBuilt                                 int64\nNumberofBuildings                       float64\nNumberofFloors                            int64\nPropertyGFATotal                          int64\nPropertyGFAParking                        int64\nPropertyGFABuilding(s)                    int64\nLargestPropertyUseType                 category\nLargestPropertyUseTypeGFA               float64\nSecondLargestPropertyUseType           category\nSecondLargestPropertyUseTypeGFA         float64\nThirdLargestPropertyUseType            category\nThirdLargestPropertyUseTypeGFA          float64\nENERGYSTARScore                         float64\nSiteEnergyUse(kBtu)                     float64\nSteamUse(kBtu)                          float64\nElectricity(kBtu)                       float64\nNaturalGas(kBtu)                        float64\nTotalGHGEmissions                       float64\nLog-NumberofBuildings                   float64\nLog-NumberofFloors                      float64\nLog-PropertyGFATotal                    float64\nLog-PropertyGFAParking                  float64\nLog-PropertyGFABuilding(s)              float64\nLog-LargestPropertyUseTypeGFA           float64\nLog-SecondLargestPropertyUseTypeGFA     float64\nLog-ThirdLargestPropertyUseTypeGFA      float64\nLog-SiteEnergyUse(kBtu)                 float64\nLog-SteamUse(kBtu)                      float64\nLog-Electricity(kBtu)                   float64\nLog-NaturalGas(kBtu)                    float64\nLog-TotalGHGEmissions                   float64\ndtype: object"
     },
     "execution_count": 239,
     "metadata": {},
     "output_type": "execute_result"
    }
   ],
   "source": [
    "data.dtypes"
   ],
   "metadata": {
    "collapsed": false,
    "pycharm": {
     "name": "#%%\n"
    }
   }
  },
  {
   "cell_type": "code",
   "execution_count": 240,
   "outputs": [],
   "source": [
    "# predict : Electricity\n",
    "# train / test\n",
    "# standardisation = retirer la moyen et div par ecart type (scaling : les var qn sur emem echelle\n",
    "# var categ : encoding (one hot encoder)\n",
    "\n",
    "# la fin Feature engineriing\n",
    "\n",
    "# 2) entrainer le smodels\n",
    "# perf\n",
    "# temps de calcul\n",
    "# graph pour montrer la perf de chaque modele(barplot)\n",
    "# obj : finir exploration / finir feature engineering\n",
    "# obj un premier noteboook propre (try max)"
   ],
   "metadata": {
    "collapsed": false,
    "pycharm": {
     "name": "#%%\n"
    }
   }
  },
  {
   "cell_type": "code",
   "execution_count": 241,
   "outputs": [
    {
     "data": {
      "text/plain": "Index(['OSEBuildingID', 'BuildingType', 'PrimaryPropertyType', 'ZipCode',\n       'CouncilDistrictCode', 'Neighborhood', 'YearBuilt', 'NumberofBuildings',\n       'NumberofFloors', 'PropertyGFATotal', 'PropertyGFAParking',\n       'PropertyGFABuilding(s)', 'LargestPropertyUseType',\n       'LargestPropertyUseTypeGFA', 'SecondLargestPropertyUseType',\n       'SecondLargestPropertyUseTypeGFA', 'ThirdLargestPropertyUseType',\n       'ThirdLargestPropertyUseTypeGFA', 'ENERGYSTARScore',\n       'SiteEnergyUse(kBtu)', 'SteamUse(kBtu)', 'Electricity(kBtu)',\n       'NaturalGas(kBtu)', 'TotalGHGEmissions', 'Log-NumberofBuildings',\n       'Log-NumberofFloors', 'Log-PropertyGFATotal', 'Log-PropertyGFAParking',\n       'Log-PropertyGFABuilding(s)', 'Log-LargestPropertyUseTypeGFA',\n       'Log-SecondLargestPropertyUseTypeGFA',\n       'Log-ThirdLargestPropertyUseTypeGFA', 'Log-SiteEnergyUse(kBtu)',\n       'Log-SteamUse(kBtu)', 'Log-Electricity(kBtu)', 'Log-NaturalGas(kBtu)',\n       'Log-TotalGHGEmissions'],\n      dtype='object')"
     },
     "execution_count": 241,
     "metadata": {},
     "output_type": "execute_result"
    }
   ],
   "source": [
    "data.columns"
   ],
   "metadata": {
    "collapsed": false,
    "pycharm": {
     "name": "#%%\n"
    }
   }
  },
  {
   "cell_type": "code",
   "execution_count": 242,
   "outputs": [
    {
     "name": "stdout",
     "output_type": "stream",
     "text": [
      "['BuildingType', 'PrimaryPropertyType', 'Neighborhood', 'Log-NumberofFloors', 'Log-PropertyGFATotal', 'Log-PropertyGFABuilding(s)', 'Log-SecondLargestPropertyUseTypeGFA', 'Log-ThirdLargestPropertyUseTypeGFA', 'Log-Electricity(kBtu)']\n"
     ]
    }
   ],
   "source": [
    "features_for_prediction = [\"BuildingType\", \"PrimaryPropertyType\", \"Neighborhood\", \"Log-NumberofFloors\", \"Log-PropertyGFATotal\", \"Log-PropertyGFABuilding(s)\", \"Log-SecondLargestPropertyUseTypeGFA\", \"Log-ThirdLargestPropertyUseTypeGFA\"]\n",
    "\n",
    "#features_for_prediction = [\"YearBuilt\", \"NumberofBuildings\", \"NumberofFloors\", \"LargestPropertyUseTypeGFA\", \"SecondLargestPropertyUseTypeGFA\", \"ThirdLargestPropertyUseTypeGFA\",\n",
    "   #                        \"BuildingType\",\"PrimaryPropertyType\", \"Neighborhood\", \"LargestPropertyUseType\", \"SecondLargestPropertyUseType\", \"ThirdLargestPropertyUseType\"]\n",
    "\n",
    "variable_to_predict = \"Log-Electricity(kBtu)\"\n",
    "\n",
    "features_for_prediction.append(variable_to_predict)\n",
    "print(features_for_prediction)\n"
   ],
   "metadata": {
    "collapsed": false,
    "pycharm": {
     "name": "#%%\n"
    }
   }
  },
  {
   "cell_type": "code",
   "execution_count": 243,
   "outputs": [
    {
     "data": {
      "text/plain": "              BuildingType          PrimaryPropertyType      Neighborhood  \\\n0     Multifamily LR (1-4)         Low-Rise Multifamily           central   \n1           NonResidential                    Warehouse  greater duwamish   \n2     Multifamily LR (1-4)         Low-Rise Multifamily  greater duwamish   \n3     Multifamily HR (10+)        High-Rise Multifamily  greater duwamish   \n4     Multifamily LR (1-4)         Low-Rise Multifamily  greater duwamish   \n...                    ...                          ...               ...   \n3152        NonResidential           Mixed Use Property        lake union   \n3153  Multifamily LR (1-4)         Low-Rise Multifamily        lake union   \n3154        NonResidential  Small- and Mid-Sized Office        lake union   \n3155        NonResidential                 Retail Store        lake union   \n3156    Nonresidential COS           Mixed Use Property  greater duwamish   \n\n      Log-NumberofFloors  Log-PropertyGFATotal  Log-PropertyGFABuilding(s)  \\\n0                1.38629               9.93982                     9.93982   \n1                1.09861              10.16416                    10.16416   \n2                1.38629              10.13146                    10.13146   \n3                2.77259              11.21045                    11.21045   \n4                1.38629              10.50188                    10.28718   \n...                  ...                   ...                         ...   \n3152             1.38629              10.64132                    10.39213   \n3153             1.60944              10.50947                    10.50947   \n3154             1.79176              10.42647                    10.23031   \n3155             1.09861               9.92901                     9.92901   \n3156             0.69315               9.81241                     9.81241   \n\n      Log-SecondLargestPropertyUseTypeGFA  Log-ThirdLargestPropertyUseTypeGFA  \\\n0                                 0.00000                             0.00000   \n1                                 9.07635                             8.02650   \n2                                 0.00000                             0.00000   \n3                                 0.00000                             0.00000   \n4                                 8.34308                             0.00000   \n...                                   ...                                 ...   \n3152                              9.55598                             9.17792   \n3153                              0.00000                             0.00000   \n3154                              9.07829                             7.31389   \n3155                              8.98732                             0.00000   \n3156                              8.98732                             7.01121   \n\n      Log-Electricity(kBtu)  \n0                  13.61254  \n1                  14.01281  \n2                  12.62493  \n3                  14.58300  \n4                  13.39715  \n...                     ...  \n3152               14.70714  \n3153               13.15700  \n3154               14.07124  \n3155               12.48743  \n3156               12.97747  \n\n[3157 rows x 9 columns]",
      "text/html": "<div>\n<style scoped>\n    .dataframe tbody tr th:only-of-type {\n        vertical-align: middle;\n    }\n\n    .dataframe tbody tr th {\n        vertical-align: top;\n    }\n\n    .dataframe thead th {\n        text-align: right;\n    }\n</style>\n<table border=\"1\" class=\"dataframe\">\n  <thead>\n    <tr style=\"text-align: right;\">\n      <th></th>\n      <th>BuildingType</th>\n      <th>PrimaryPropertyType</th>\n      <th>Neighborhood</th>\n      <th>Log-NumberofFloors</th>\n      <th>Log-PropertyGFATotal</th>\n      <th>Log-PropertyGFABuilding(s)</th>\n      <th>Log-SecondLargestPropertyUseTypeGFA</th>\n      <th>Log-ThirdLargestPropertyUseTypeGFA</th>\n      <th>Log-Electricity(kBtu)</th>\n    </tr>\n  </thead>\n  <tbody>\n    <tr>\n      <th>0</th>\n      <td>Multifamily LR (1-4)</td>\n      <td>Low-Rise Multifamily</td>\n      <td>central</td>\n      <td>1.38629</td>\n      <td>9.93982</td>\n      <td>9.93982</td>\n      <td>0.00000</td>\n      <td>0.00000</td>\n      <td>13.61254</td>\n    </tr>\n    <tr>\n      <th>1</th>\n      <td>NonResidential</td>\n      <td>Warehouse</td>\n      <td>greater duwamish</td>\n      <td>1.09861</td>\n      <td>10.16416</td>\n      <td>10.16416</td>\n      <td>9.07635</td>\n      <td>8.02650</td>\n      <td>14.01281</td>\n    </tr>\n    <tr>\n      <th>2</th>\n      <td>Multifamily LR (1-4)</td>\n      <td>Low-Rise Multifamily</td>\n      <td>greater duwamish</td>\n      <td>1.38629</td>\n      <td>10.13146</td>\n      <td>10.13146</td>\n      <td>0.00000</td>\n      <td>0.00000</td>\n      <td>12.62493</td>\n    </tr>\n    <tr>\n      <th>3</th>\n      <td>Multifamily HR (10+)</td>\n      <td>High-Rise Multifamily</td>\n      <td>greater duwamish</td>\n      <td>2.77259</td>\n      <td>11.21045</td>\n      <td>11.21045</td>\n      <td>0.00000</td>\n      <td>0.00000</td>\n      <td>14.58300</td>\n    </tr>\n    <tr>\n      <th>4</th>\n      <td>Multifamily LR (1-4)</td>\n      <td>Low-Rise Multifamily</td>\n      <td>greater duwamish</td>\n      <td>1.38629</td>\n      <td>10.50188</td>\n      <td>10.28718</td>\n      <td>8.34308</td>\n      <td>0.00000</td>\n      <td>13.39715</td>\n    </tr>\n    <tr>\n      <th>...</th>\n      <td>...</td>\n      <td>...</td>\n      <td>...</td>\n      <td>...</td>\n      <td>...</td>\n      <td>...</td>\n      <td>...</td>\n      <td>...</td>\n      <td>...</td>\n    </tr>\n    <tr>\n      <th>3152</th>\n      <td>NonResidential</td>\n      <td>Mixed Use Property</td>\n      <td>lake union</td>\n      <td>1.38629</td>\n      <td>10.64132</td>\n      <td>10.39213</td>\n      <td>9.55598</td>\n      <td>9.17792</td>\n      <td>14.70714</td>\n    </tr>\n    <tr>\n      <th>3153</th>\n      <td>Multifamily LR (1-4)</td>\n      <td>Low-Rise Multifamily</td>\n      <td>lake union</td>\n      <td>1.60944</td>\n      <td>10.50947</td>\n      <td>10.50947</td>\n      <td>0.00000</td>\n      <td>0.00000</td>\n      <td>13.15700</td>\n    </tr>\n    <tr>\n      <th>3154</th>\n      <td>NonResidential</td>\n      <td>Small- and Mid-Sized Office</td>\n      <td>lake union</td>\n      <td>1.79176</td>\n      <td>10.42647</td>\n      <td>10.23031</td>\n      <td>9.07829</td>\n      <td>7.31389</td>\n      <td>14.07124</td>\n    </tr>\n    <tr>\n      <th>3155</th>\n      <td>NonResidential</td>\n      <td>Retail Store</td>\n      <td>lake union</td>\n      <td>1.09861</td>\n      <td>9.92901</td>\n      <td>9.92901</td>\n      <td>8.98732</td>\n      <td>0.00000</td>\n      <td>12.48743</td>\n    </tr>\n    <tr>\n      <th>3156</th>\n      <td>Nonresidential COS</td>\n      <td>Mixed Use Property</td>\n      <td>greater duwamish</td>\n      <td>0.69315</td>\n      <td>9.81241</td>\n      <td>9.81241</td>\n      <td>8.98732</td>\n      <td>7.01121</td>\n      <td>12.97747</td>\n    </tr>\n  </tbody>\n</table>\n<p>3157 rows × 9 columns</p>\n</div>"
     },
     "execution_count": 243,
     "metadata": {},
     "output_type": "execute_result"
    }
   ],
   "source": [
    "data = data[features_for_prediction]\n",
    "\n",
    "data"
   ],
   "metadata": {
    "collapsed": false,
    "pycharm": {
     "name": "#%%\n"
    }
   }
  },
  {
   "cell_type": "markdown",
   "source": [
    "## I) Feature Engineering : preparing the vectors and matrices\n"
   ],
   "metadata": {
    "collapsed": false,
    "pycharm": {
     "name": "#%% md\n"
    }
   }
  },
  {
   "cell_type": "markdown",
   "source": [
    "#### 1) Separating training data and target vector"
   ],
   "metadata": {
    "collapsed": false,
    "pycharm": {
     "name": "#%% md\n"
    }
   }
  },
  {
   "cell_type": "code",
   "execution_count": 244,
   "outputs": [
    {
     "name": "stdout",
     "output_type": "stream",
     "text": [
      "Shape of X : (3157, 8)\n",
      "Shape of y : (3157,)\n"
     ]
    }
   ],
   "source": [
    "# we create the data matrix / we only take the features\n",
    "X = data[data.columns[:-1]]\n",
    "\n",
    "# we create the target vector\n",
    "y = data[variable_to_predict].values # numpy array not a DataFrame anymore\n",
    "\n",
    "print(\"Shape of X :\", X.shape)\n",
    "print(\"Shape of y :\", y.shape)"
   ],
   "metadata": {
    "collapsed": false,
    "pycharm": {
     "name": "#%%\n"
    }
   }
  },
  {
   "cell_type": "code",
   "execution_count": 245,
   "outputs": [
    {
     "data": {
      "text/plain": "              BuildingType          PrimaryPropertyType      Neighborhood  \\\n0     Multifamily LR (1-4)         Low-Rise Multifamily           central   \n1           NonResidential                    Warehouse  greater duwamish   \n2     Multifamily LR (1-4)         Low-Rise Multifamily  greater duwamish   \n3     Multifamily HR (10+)        High-Rise Multifamily  greater duwamish   \n4     Multifamily LR (1-4)         Low-Rise Multifamily  greater duwamish   \n...                    ...                          ...               ...   \n3152        NonResidential           Mixed Use Property        lake union   \n3153  Multifamily LR (1-4)         Low-Rise Multifamily        lake union   \n3154        NonResidential  Small- and Mid-Sized Office        lake union   \n3155        NonResidential                 Retail Store        lake union   \n3156    Nonresidential COS           Mixed Use Property  greater duwamish   \n\n      Log-NumberofFloors  Log-PropertyGFATotal  Log-PropertyGFABuilding(s)  \\\n0                1.38629               9.93982                     9.93982   \n1                1.09861              10.16416                    10.16416   \n2                1.38629              10.13146                    10.13146   \n3                2.77259              11.21045                    11.21045   \n4                1.38629              10.50188                    10.28718   \n...                  ...                   ...                         ...   \n3152             1.38629              10.64132                    10.39213   \n3153             1.60944              10.50947                    10.50947   \n3154             1.79176              10.42647                    10.23031   \n3155             1.09861               9.92901                     9.92901   \n3156             0.69315               9.81241                     9.81241   \n\n      Log-SecondLargestPropertyUseTypeGFA  Log-ThirdLargestPropertyUseTypeGFA  \n0                                 0.00000                             0.00000  \n1                                 9.07635                             8.02650  \n2                                 0.00000                             0.00000  \n3                                 0.00000                             0.00000  \n4                                 8.34308                             0.00000  \n...                                   ...                                 ...  \n3152                              9.55598                             9.17792  \n3153                              0.00000                             0.00000  \n3154                              9.07829                             7.31389  \n3155                              8.98732                             0.00000  \n3156                              8.98732                             7.01121  \n\n[3157 rows x 8 columns]",
      "text/html": "<div>\n<style scoped>\n    .dataframe tbody tr th:only-of-type {\n        vertical-align: middle;\n    }\n\n    .dataframe tbody tr th {\n        vertical-align: top;\n    }\n\n    .dataframe thead th {\n        text-align: right;\n    }\n</style>\n<table border=\"1\" class=\"dataframe\">\n  <thead>\n    <tr style=\"text-align: right;\">\n      <th></th>\n      <th>BuildingType</th>\n      <th>PrimaryPropertyType</th>\n      <th>Neighborhood</th>\n      <th>Log-NumberofFloors</th>\n      <th>Log-PropertyGFATotal</th>\n      <th>Log-PropertyGFABuilding(s)</th>\n      <th>Log-SecondLargestPropertyUseTypeGFA</th>\n      <th>Log-ThirdLargestPropertyUseTypeGFA</th>\n    </tr>\n  </thead>\n  <tbody>\n    <tr>\n      <th>0</th>\n      <td>Multifamily LR (1-4)</td>\n      <td>Low-Rise Multifamily</td>\n      <td>central</td>\n      <td>1.38629</td>\n      <td>9.93982</td>\n      <td>9.93982</td>\n      <td>0.00000</td>\n      <td>0.00000</td>\n    </tr>\n    <tr>\n      <th>1</th>\n      <td>NonResidential</td>\n      <td>Warehouse</td>\n      <td>greater duwamish</td>\n      <td>1.09861</td>\n      <td>10.16416</td>\n      <td>10.16416</td>\n      <td>9.07635</td>\n      <td>8.02650</td>\n    </tr>\n    <tr>\n      <th>2</th>\n      <td>Multifamily LR (1-4)</td>\n      <td>Low-Rise Multifamily</td>\n      <td>greater duwamish</td>\n      <td>1.38629</td>\n      <td>10.13146</td>\n      <td>10.13146</td>\n      <td>0.00000</td>\n      <td>0.00000</td>\n    </tr>\n    <tr>\n      <th>3</th>\n      <td>Multifamily HR (10+)</td>\n      <td>High-Rise Multifamily</td>\n      <td>greater duwamish</td>\n      <td>2.77259</td>\n      <td>11.21045</td>\n      <td>11.21045</td>\n      <td>0.00000</td>\n      <td>0.00000</td>\n    </tr>\n    <tr>\n      <th>4</th>\n      <td>Multifamily LR (1-4)</td>\n      <td>Low-Rise Multifamily</td>\n      <td>greater duwamish</td>\n      <td>1.38629</td>\n      <td>10.50188</td>\n      <td>10.28718</td>\n      <td>8.34308</td>\n      <td>0.00000</td>\n    </tr>\n    <tr>\n      <th>...</th>\n      <td>...</td>\n      <td>...</td>\n      <td>...</td>\n      <td>...</td>\n      <td>...</td>\n      <td>...</td>\n      <td>...</td>\n      <td>...</td>\n    </tr>\n    <tr>\n      <th>3152</th>\n      <td>NonResidential</td>\n      <td>Mixed Use Property</td>\n      <td>lake union</td>\n      <td>1.38629</td>\n      <td>10.64132</td>\n      <td>10.39213</td>\n      <td>9.55598</td>\n      <td>9.17792</td>\n    </tr>\n    <tr>\n      <th>3153</th>\n      <td>Multifamily LR (1-4)</td>\n      <td>Low-Rise Multifamily</td>\n      <td>lake union</td>\n      <td>1.60944</td>\n      <td>10.50947</td>\n      <td>10.50947</td>\n      <td>0.00000</td>\n      <td>0.00000</td>\n    </tr>\n    <tr>\n      <th>3154</th>\n      <td>NonResidential</td>\n      <td>Small- and Mid-Sized Office</td>\n      <td>lake union</td>\n      <td>1.79176</td>\n      <td>10.42647</td>\n      <td>10.23031</td>\n      <td>9.07829</td>\n      <td>7.31389</td>\n    </tr>\n    <tr>\n      <th>3155</th>\n      <td>NonResidential</td>\n      <td>Retail Store</td>\n      <td>lake union</td>\n      <td>1.09861</td>\n      <td>9.92901</td>\n      <td>9.92901</td>\n      <td>8.98732</td>\n      <td>0.00000</td>\n    </tr>\n    <tr>\n      <th>3156</th>\n      <td>Nonresidential COS</td>\n      <td>Mixed Use Property</td>\n      <td>greater duwamish</td>\n      <td>0.69315</td>\n      <td>9.81241</td>\n      <td>9.81241</td>\n      <td>8.98732</td>\n      <td>7.01121</td>\n    </tr>\n  </tbody>\n</table>\n<p>3157 rows × 8 columns</p>\n</div>"
     },
     "execution_count": 245,
     "metadata": {},
     "output_type": "execute_result"
    }
   ],
   "source": [
    "X"
   ],
   "metadata": {
    "collapsed": false,
    "pycharm": {
     "name": "#%%\n"
    }
   }
  },
  {
   "cell_type": "markdown",
   "source": [
    "#### 2) Separation train and test dataset\n"
   ],
   "metadata": {
    "collapsed": false,
    "pycharm": {
     "name": "#%% md\n"
    }
   }
  },
  {
   "cell_type": "code",
   "execution_count": 246,
   "outputs": [
    {
     "name": "stdout",
     "output_type": "stream",
     "text": [
      "We have to separate the train / test sets before normalising the dataset.\n"
     ]
    }
   ],
   "source": [
    "print(\"We have to separate the train / test sets before normalising the dataset.\")"
   ],
   "metadata": {
    "collapsed": false,
    "pycharm": {
     "name": "#%%\n"
    }
   }
  },
  {
   "cell_type": "code",
   "execution_count": 247,
   "outputs": [],
   "source": [
    "# We create a training set and a test set (the test set contains 30% of the dataset)\n",
    "from sklearn import model_selection\n",
    "X_train, X_test, y_train, y_test = model_selection.train_test_split(X, y, test_size=0.3,  random_state=seed)"
   ],
   "metadata": {
    "collapsed": false,
    "pycharm": {
     "name": "#%%\n"
    }
   }
  },
  {
   "cell_type": "code",
   "execution_count": 248,
   "outputs": [
    {
     "data": {
      "text/plain": "(2209, 8)"
     },
     "execution_count": 248,
     "metadata": {},
     "output_type": "execute_result"
    }
   ],
   "source": [
    "X_train.shape"
   ],
   "metadata": {
    "collapsed": false,
    "pycharm": {
     "name": "#%%\n"
    }
   }
  },
  {
   "cell_type": "code",
   "execution_count": 249,
   "outputs": [
    {
     "data": {
      "text/plain": "(948, 8)"
     },
     "execution_count": 249,
     "metadata": {},
     "output_type": "execute_result"
    }
   ],
   "source": [
    "X_test.shape"
   ],
   "metadata": {
    "collapsed": false,
    "pycharm": {
     "name": "#%%\n"
    }
   }
  },
  {
   "cell_type": "markdown",
   "source": [
    "#### 3) Normalization"
   ],
   "metadata": {
    "collapsed": false,
    "pycharm": {
     "name": "#%% md\n"
    }
   }
  },
  {
   "cell_type": "code",
   "execution_count": 250,
   "outputs": [],
   "source": [
    "from sklearn.preprocessing import StandardScaler, OneHotEncoder, MinMaxScaler"
   ],
   "metadata": {
    "collapsed": false,
    "pycharm": {
     "name": "#%%\n"
    }
   }
  },
  {
   "cell_type": "code",
   "execution_count": 251,
   "outputs": [
    {
     "name": "stdout",
     "output_type": "stream",
     "text": [
      "We separate categorical variables from numerical variables.\n"
     ]
    }
   ],
   "source": [
    "print(\"We separate categorical variables from numerical variables.\")"
   ],
   "metadata": {
    "collapsed": false,
    "pycharm": {
     "name": "#%%\n"
    }
   }
  },
  {
   "cell_type": "code",
   "execution_count": 252,
   "outputs": [
    {
     "name": "stdout",
     "output_type": "stream",
     "text": [
      "We won't normalise the year so we drop it from numerical_columns.\n",
      "Shape of categorical variables :  (3,)\n",
      "Shape of numerical variables : (5,)\n"
     ]
    }
   ],
   "source": [
    "X.select_dtypes(['category','object']) # we don't have 'object' here but it is just in case.\n",
    "\n",
    "categorical_columns = X.select_dtypes(['category','object']).columns\n",
    "#numerical_columns = X.select_dtypes(include='number').columns.drop(\"YearBuilt\")\n",
    "numerical_columns = X.select_dtypes(include='number').columns\n",
    "print(\"We won't normalise the year so we drop it from numerical_columns.\")\n",
    "\n",
    "print(\"Shape of categorical variables : \", categorical_columns.shape)\n",
    "print(\"Shape of numerical variables :\", numerical_columns.shape)"
   ],
   "metadata": {
    "collapsed": false,
    "pycharm": {
     "name": "#%%\n"
    }
   }
  },
  {
   "cell_type": "markdown",
   "source": [
    "##### 1) Data Standardisation"
   ],
   "metadata": {
    "collapsed": false,
    "pycharm": {
     "name": "#%% md\n"
    }
   }
  },
  {
   "cell_type": "markdown",
   "source": [
    "We have to standardize the variables before learning a **Ridge Regression**.\n",
    "Standardizing means that each variable will have a **standard deviation** equal to 1."
   ],
   "metadata": {
    "collapsed": false,
    "pycharm": {
     "name": "#%% md\n"
    }
   }
  },
  {
   "cell_type": "code",
   "execution_count": 253,
   "outputs": [
    {
     "name": "stdout",
     "output_type": "stream",
     "text": [
      "Numerical variables standardization\n",
      "We have : 5 numerical features to standardize.\n",
      "\n",
      "Index(['Log-NumberofFloors', 'Log-PropertyGFATotal',\n",
      "       'Log-PropertyGFABuilding(s)', 'Log-SecondLargestPropertyUseTypeGFA',\n",
      "       'Log-ThirdLargestPropertyUseTypeGFA'],\n",
      "      dtype='object')\n"
     ]
    }
   ],
   "source": [
    "print(\"Numerical variables standardization\")\n",
    "print(\"We have :\", numerical_columns.shape[0], \"numerical features to standardize.\",end=\"\\n\\n\")\n",
    "\n",
    "print(numerical_columns)"
   ],
   "metadata": {
    "collapsed": false,
    "pycharm": {
     "name": "#%%\n"
    }
   }
  },
  {
   "cell_type": "raw",
   "source": [
    "print(\"Dates standardisation : not\")\n",
    "\n",
    "from datetime import datetime\n",
    "\n",
    "def convert_to_timestamp(date):\n",
    "    \"\"\"\n",
    "    Convert date objects to integers\n",
    "    :param date:\n",
    "    :return:\n",
    "    \"\"\"\n",
    "    try:\n",
    "        timestamp = datetime.timestamp(date)\n",
    "        print(\"timestamp =\", timestamp, type(timestamp))\n",
    "        print(\"OK :\", date, type(date))\n",
    "\n",
    "        return timestamp\n",
    "    except Exception as e:\n",
    "        print(\"Error :\", date, type(date))\n",
    "        print(e)\n",
    "\n",
    "def normalize_min_max(data_frame, columns_to_scale):\n",
    "    \"\"\"\n",
    "    Normalizes the dataframe for the wanted column(s) using min/max\n",
    "    :param data_frame:\n",
    "    :param columns_to_scale: (list)\n",
    "    :return:\n",
    "    \"\"\"\n",
    "    min_max_scaler = MinMaxScaler()\n",
    "    df = data_frame.copy() # we will return a copy of our dataframe\n",
    "    df[columns_to_scale] = min_max_scaler.fit_transform(df[columns_to_scale])\n",
    "    return df\n"
   ],
   "metadata": {
    "collapsed": false,
    "pycharm": {
     "name": "#%% raw\n"
    }
   }
  },
  {
   "cell_type": "code",
   "execution_count": 254,
   "outputs": [
    {
     "name": "stdout",
     "output_type": "stream",
     "text": [
      "Before\n"
     ]
    },
    {
     "data": {
      "text/plain": "              BuildingType   PrimaryPropertyType           Neighborhood  \\\n138   Multifamily LR (1-4)  Low-Rise Multifamily                   east   \n2633  Multifamily MR (5-9)  Mid-Rise Multifamily                   east   \n1196        NonResidential    Mixed Use Property               downtown   \n1984  Multifamily LR (1-4)  Low-Rise Multifamily               delridge   \n2490        NonResidential                 Other               downtown   \n...                    ...                   ...                    ...   \n835   Multifamily MR (5-9)  Mid-Rise Multifamily  magnolia / queen anne   \n2141        NonResidential                 Other              northeast   \n2023        NonResidential          Large Office               downtown   \n1534  Multifamily LR (1-4)  Low-Rise Multifamily                   east   \n660      SPS-District K-12           K-12 School              southeast   \n\n      Log-NumberofFloors  Log-PropertyGFATotal  Log-PropertyGFABuilding(s)  \\\n138              1.38629              10.29313                    10.29313   \n2633             1.79176              10.70587                    10.70587   \n1196             1.38629              10.16589                    10.16589   \n1984             1.60944              10.94408                    10.94408   \n2490             1.09861              10.03060                    10.03060   \n...                  ...                   ...                         ...   \n835              2.07944              10.49626                    10.49626   \n2141             1.09861              12.24016                    12.24016   \n2023             3.63759              13.86665                    13.69678   \n1534             1.60944              10.17945                    10.17945   \n660              1.38629              10.85269                    10.85269   \n\n      Log-SecondLargestPropertyUseTypeGFA  Log-ThirdLargestPropertyUseTypeGFA  \n138                               0.00000                             0.00000  \n2633                              0.00000                             0.00000  \n1196                              9.47278                             0.00000  \n1984                              0.00000                             0.00000  \n2490                              0.00000                             0.00000  \n...                                   ...                                 ...  \n835                               7.98310                             0.00000  \n2141                              0.00000                             0.00000  \n2023                             12.13125                            11.54712  \n1534                              0.00000                             0.00000  \n660                               0.00000                             0.00000  \n\n[2209 rows x 8 columns]",
      "text/html": "<div>\n<style scoped>\n    .dataframe tbody tr th:only-of-type {\n        vertical-align: middle;\n    }\n\n    .dataframe tbody tr th {\n        vertical-align: top;\n    }\n\n    .dataframe thead th {\n        text-align: right;\n    }\n</style>\n<table border=\"1\" class=\"dataframe\">\n  <thead>\n    <tr style=\"text-align: right;\">\n      <th></th>\n      <th>BuildingType</th>\n      <th>PrimaryPropertyType</th>\n      <th>Neighborhood</th>\n      <th>Log-NumberofFloors</th>\n      <th>Log-PropertyGFATotal</th>\n      <th>Log-PropertyGFABuilding(s)</th>\n      <th>Log-SecondLargestPropertyUseTypeGFA</th>\n      <th>Log-ThirdLargestPropertyUseTypeGFA</th>\n    </tr>\n  </thead>\n  <tbody>\n    <tr>\n      <th>138</th>\n      <td>Multifamily LR (1-4)</td>\n      <td>Low-Rise Multifamily</td>\n      <td>east</td>\n      <td>1.38629</td>\n      <td>10.29313</td>\n      <td>10.29313</td>\n      <td>0.00000</td>\n      <td>0.00000</td>\n    </tr>\n    <tr>\n      <th>2633</th>\n      <td>Multifamily MR (5-9)</td>\n      <td>Mid-Rise Multifamily</td>\n      <td>east</td>\n      <td>1.79176</td>\n      <td>10.70587</td>\n      <td>10.70587</td>\n      <td>0.00000</td>\n      <td>0.00000</td>\n    </tr>\n    <tr>\n      <th>1196</th>\n      <td>NonResidential</td>\n      <td>Mixed Use Property</td>\n      <td>downtown</td>\n      <td>1.38629</td>\n      <td>10.16589</td>\n      <td>10.16589</td>\n      <td>9.47278</td>\n      <td>0.00000</td>\n    </tr>\n    <tr>\n      <th>1984</th>\n      <td>Multifamily LR (1-4)</td>\n      <td>Low-Rise Multifamily</td>\n      <td>delridge</td>\n      <td>1.60944</td>\n      <td>10.94408</td>\n      <td>10.94408</td>\n      <td>0.00000</td>\n      <td>0.00000</td>\n    </tr>\n    <tr>\n      <th>2490</th>\n      <td>NonResidential</td>\n      <td>Other</td>\n      <td>downtown</td>\n      <td>1.09861</td>\n      <td>10.03060</td>\n      <td>10.03060</td>\n      <td>0.00000</td>\n      <td>0.00000</td>\n    </tr>\n    <tr>\n      <th>...</th>\n      <td>...</td>\n      <td>...</td>\n      <td>...</td>\n      <td>...</td>\n      <td>...</td>\n      <td>...</td>\n      <td>...</td>\n      <td>...</td>\n    </tr>\n    <tr>\n      <th>835</th>\n      <td>Multifamily MR (5-9)</td>\n      <td>Mid-Rise Multifamily</td>\n      <td>magnolia / queen anne</td>\n      <td>2.07944</td>\n      <td>10.49626</td>\n      <td>10.49626</td>\n      <td>7.98310</td>\n      <td>0.00000</td>\n    </tr>\n    <tr>\n      <th>2141</th>\n      <td>NonResidential</td>\n      <td>Other</td>\n      <td>northeast</td>\n      <td>1.09861</td>\n      <td>12.24016</td>\n      <td>12.24016</td>\n      <td>0.00000</td>\n      <td>0.00000</td>\n    </tr>\n    <tr>\n      <th>2023</th>\n      <td>NonResidential</td>\n      <td>Large Office</td>\n      <td>downtown</td>\n      <td>3.63759</td>\n      <td>13.86665</td>\n      <td>13.69678</td>\n      <td>12.13125</td>\n      <td>11.54712</td>\n    </tr>\n    <tr>\n      <th>1534</th>\n      <td>Multifamily LR (1-4)</td>\n      <td>Low-Rise Multifamily</td>\n      <td>east</td>\n      <td>1.60944</td>\n      <td>10.17945</td>\n      <td>10.17945</td>\n      <td>0.00000</td>\n      <td>0.00000</td>\n    </tr>\n    <tr>\n      <th>660</th>\n      <td>SPS-District K-12</td>\n      <td>K-12 School</td>\n      <td>southeast</td>\n      <td>1.38629</td>\n      <td>10.85269</td>\n      <td>10.85269</td>\n      <td>0.00000</td>\n      <td>0.00000</td>\n    </tr>\n  </tbody>\n</table>\n<p>2209 rows × 8 columns</p>\n</div>"
     },
     "metadata": {},
     "output_type": "display_data"
    },
    {
     "name": "stdout",
     "output_type": "stream",
     "text": [
      "After\n"
     ]
    },
    {
     "data": {
      "text/plain": "              BuildingType   PrimaryPropertyType           Neighborhood  \\\n138   Multifamily LR (1-4)  Low-Rise Multifamily                   east   \n2633  Multifamily MR (5-9)  Mid-Rise Multifamily                   east   \n1196        NonResidential    Mixed Use Property               downtown   \n1984  Multifamily LR (1-4)  Low-Rise Multifamily               delridge   \n2490        NonResidential                 Other               downtown   \n...                    ...                   ...                    ...   \n835   Multifamily MR (5-9)  Mid-Rise Multifamily  magnolia / queen anne   \n2141        NonResidential                 Other              northeast   \n2023        NonResidential          Large Office               downtown   \n1534  Multifamily LR (1-4)  Low-Rise Multifamily                   east   \n660      SPS-District K-12           K-12 School              southeast   \n\n      Log-NumberofFloors  Log-PropertyGFATotal  Log-PropertyGFABuilding(s)  \\\n138             -0.27787              -0.72840                    -0.69697   \n2633             0.42475              -0.25582                    -0.20412   \n1196            -0.27787              -0.87408                    -0.84890   \n1984             0.10881               0.01693                     0.08033   \n2490            -0.77639              -1.02898                    -1.01045   \n...                  ...                   ...                         ...   \n835              0.92327              -0.49581                    -0.45441   \n2141            -0.77639               1.50091                     1.62796   \n2023             3.62336               3.36320                     3.36729   \n1534             0.10881              -0.85855                    -0.83271   \n660             -0.27787              -0.08771                    -0.02880   \n\n      Log-SecondLargestPropertyUseTypeGFA  Log-ThirdLargestPropertyUseTypeGFA  \n138                              -0.94637                            -0.45420  \n2633                             -0.94637                            -0.45420  \n1196                              1.01233                            -0.45420  \n1984                             -0.94637                            -0.45420  \n2490                             -0.94637                            -0.45420  \n...                                   ...                                 ...  \n835                               0.70430                            -0.45420  \n2141                             -0.94637                            -0.45420  \n2023                              1.56202                             3.02602  \n1534                             -0.94637                            -0.45420  \n660                              -0.94637                            -0.45420  \n\n[2209 rows x 8 columns]",
      "text/html": "<div>\n<style scoped>\n    .dataframe tbody tr th:only-of-type {\n        vertical-align: middle;\n    }\n\n    .dataframe tbody tr th {\n        vertical-align: top;\n    }\n\n    .dataframe thead th {\n        text-align: right;\n    }\n</style>\n<table border=\"1\" class=\"dataframe\">\n  <thead>\n    <tr style=\"text-align: right;\">\n      <th></th>\n      <th>BuildingType</th>\n      <th>PrimaryPropertyType</th>\n      <th>Neighborhood</th>\n      <th>Log-NumberofFloors</th>\n      <th>Log-PropertyGFATotal</th>\n      <th>Log-PropertyGFABuilding(s)</th>\n      <th>Log-SecondLargestPropertyUseTypeGFA</th>\n      <th>Log-ThirdLargestPropertyUseTypeGFA</th>\n    </tr>\n  </thead>\n  <tbody>\n    <tr>\n      <th>138</th>\n      <td>Multifamily LR (1-4)</td>\n      <td>Low-Rise Multifamily</td>\n      <td>east</td>\n      <td>-0.27787</td>\n      <td>-0.72840</td>\n      <td>-0.69697</td>\n      <td>-0.94637</td>\n      <td>-0.45420</td>\n    </tr>\n    <tr>\n      <th>2633</th>\n      <td>Multifamily MR (5-9)</td>\n      <td>Mid-Rise Multifamily</td>\n      <td>east</td>\n      <td>0.42475</td>\n      <td>-0.25582</td>\n      <td>-0.20412</td>\n      <td>-0.94637</td>\n      <td>-0.45420</td>\n    </tr>\n    <tr>\n      <th>1196</th>\n      <td>NonResidential</td>\n      <td>Mixed Use Property</td>\n      <td>downtown</td>\n      <td>-0.27787</td>\n      <td>-0.87408</td>\n      <td>-0.84890</td>\n      <td>1.01233</td>\n      <td>-0.45420</td>\n    </tr>\n    <tr>\n      <th>1984</th>\n      <td>Multifamily LR (1-4)</td>\n      <td>Low-Rise Multifamily</td>\n      <td>delridge</td>\n      <td>0.10881</td>\n      <td>0.01693</td>\n      <td>0.08033</td>\n      <td>-0.94637</td>\n      <td>-0.45420</td>\n    </tr>\n    <tr>\n      <th>2490</th>\n      <td>NonResidential</td>\n      <td>Other</td>\n      <td>downtown</td>\n      <td>-0.77639</td>\n      <td>-1.02898</td>\n      <td>-1.01045</td>\n      <td>-0.94637</td>\n      <td>-0.45420</td>\n    </tr>\n    <tr>\n      <th>...</th>\n      <td>...</td>\n      <td>...</td>\n      <td>...</td>\n      <td>...</td>\n      <td>...</td>\n      <td>...</td>\n      <td>...</td>\n      <td>...</td>\n    </tr>\n    <tr>\n      <th>835</th>\n      <td>Multifamily MR (5-9)</td>\n      <td>Mid-Rise Multifamily</td>\n      <td>magnolia / queen anne</td>\n      <td>0.92327</td>\n      <td>-0.49581</td>\n      <td>-0.45441</td>\n      <td>0.70430</td>\n      <td>-0.45420</td>\n    </tr>\n    <tr>\n      <th>2141</th>\n      <td>NonResidential</td>\n      <td>Other</td>\n      <td>northeast</td>\n      <td>-0.77639</td>\n      <td>1.50091</td>\n      <td>1.62796</td>\n      <td>-0.94637</td>\n      <td>-0.45420</td>\n    </tr>\n    <tr>\n      <th>2023</th>\n      <td>NonResidential</td>\n      <td>Large Office</td>\n      <td>downtown</td>\n      <td>3.62336</td>\n      <td>3.36320</td>\n      <td>3.36729</td>\n      <td>1.56202</td>\n      <td>3.02602</td>\n    </tr>\n    <tr>\n      <th>1534</th>\n      <td>Multifamily LR (1-4)</td>\n      <td>Low-Rise Multifamily</td>\n      <td>east</td>\n      <td>0.10881</td>\n      <td>-0.85855</td>\n      <td>-0.83271</td>\n      <td>-0.94637</td>\n      <td>-0.45420</td>\n    </tr>\n    <tr>\n      <th>660</th>\n      <td>SPS-District K-12</td>\n      <td>K-12 School</td>\n      <td>southeast</td>\n      <td>-0.27787</td>\n      <td>-0.08771</td>\n      <td>-0.02880</td>\n      <td>-0.94637</td>\n      <td>-0.45420</td>\n    </tr>\n  </tbody>\n</table>\n<p>2209 rows × 8 columns</p>\n</div>"
     },
     "metadata": {},
     "output_type": "display_data"
    }
   ],
   "source": [
    "# We train / fit the scaler on the training set / Computes the mean and std to be used for later scaling.\n",
    "std_scale = StandardScaler().fit(X_train[numerical_columns])\n",
    "# We transform the training set and the testing set / Performs standardization by centering and scaling.\n",
    "X_train_std = X_train.copy()\n",
    "X_test_std = X_test.copy()\n",
    "\n",
    "X_train_std[numerical_columns] = std_scale.transform(X_train[numerical_columns])\n",
    "X_test_std[numerical_columns] = std_scale.transform(X_test[numerical_columns])\n",
    "\n",
    "print(\"Before\")\n",
    "display(X_train)\n",
    "print(\"After\")\n",
    "display(X_train_std)"
   ],
   "metadata": {
    "collapsed": false,
    "pycharm": {
     "name": "#%%\n"
    }
   }
  },
  {
   "cell_type": "code",
   "execution_count": 255,
   "outputs": [
    {
     "name": "stdout",
     "output_type": "stream",
     "text": [
      "We can check that the numerical variables have a Standard Normal distribution.\n"
     ]
    },
    {
     "name": "stderr",
     "output_type": "stream",
     "text": [
      "C:\\Users\\athen\\Anaconda3\\envs\\P4_OC\\lib\\site-packages\\seaborn\\distributions.py:2619: FutureWarning: `distplot` is a deprecated function and will be removed in a future version. Please adapt your code to use either `displot` (a figure-level function with similar flexibility) or `kdeplot` (an axes-level function for kernel density plots).\n",
      "  warnings.warn(msg, FutureWarning)\n",
      "C:\\Users\\athen\\Anaconda3\\envs\\P4_OC\\lib\\site-packages\\seaborn\\distributions.py:2619: FutureWarning: `distplot` is a deprecated function and will be removed in a future version. Please adapt your code to use either `displot` (a figure-level function with similar flexibility) or `kdeplot` (an axes-level function for kernel density plots).\n",
      "  warnings.warn(msg, FutureWarning)\n",
      "C:\\Users\\athen\\Anaconda3\\envs\\P4_OC\\lib\\site-packages\\seaborn\\distributions.py:2619: FutureWarning: `distplot` is a deprecated function and will be removed in a future version. Please adapt your code to use either `displot` (a figure-level function with similar flexibility) or `kdeplot` (an axes-level function for kernel density plots).\n",
      "  warnings.warn(msg, FutureWarning)\n",
      "C:\\Users\\athen\\Anaconda3\\envs\\P4_OC\\lib\\site-packages\\seaborn\\distributions.py:2619: FutureWarning: `distplot` is a deprecated function and will be removed in a future version. Please adapt your code to use either `displot` (a figure-level function with similar flexibility) or `kdeplot` (an axes-level function for kernel density plots).\n",
      "  warnings.warn(msg, FutureWarning)\n",
      "C:\\Users\\athen\\Anaconda3\\envs\\P4_OC\\lib\\site-packages\\seaborn\\distributions.py:2619: FutureWarning: `distplot` is a deprecated function and will be removed in a future version. Please adapt your code to use either `displot` (a figure-level function with similar flexibility) or `kdeplot` (an axes-level function for kernel density plots).\n",
      "  warnings.warn(msg, FutureWarning)\n"
     ]
    },
    {
     "data": {
      "text/plain": "<Figure size 864x1008 with 28 Axes>",
      "image/png": "[encoded data removed]"
     },
     "metadata": {
      "needs_background": "light"
     },
     "output_type": "display_data"
    }
   ],
   "source": [
    "print(\"We can check that the numerical variables have a Standard Normal distribution.\")\n",
    "densite(X_train[numerical_columns])"
   ],
   "metadata": {
    "collapsed": false,
    "pycharm": {
     "name": "#%%\n"
    }
   }
  },
  {
   "cell_type": "markdown",
   "source": [
    "##### 2) Feature Encoding : One Hot Encoder"
   ],
   "metadata": {
    "collapsed": false,
    "pycharm": {
     "name": "#%% md\n"
    }
   }
  },
  {
   "cell_type": "code",
   "execution_count": 256,
   "outputs": [
    {
     "name": "stdout",
     "output_type": "stream",
     "text": [
      "Categorical variables featuring\n",
      "We have : 3 categorical features to encode.\n",
      "\n",
      "Index(['BuildingType', 'PrimaryPropertyType', 'Neighborhood'], dtype='object')\n"
     ]
    }
   ],
   "source": [
    "print(\"Categorical variables featuring\")\n",
    "\n",
    "print(\"We have :\", categorical_columns.shape[0], \"categorical features to encode.\", end=\"\\n\\n\")\n",
    "print(categorical_columns)"
   ],
   "metadata": {
    "collapsed": false,
    "pycharm": {
     "name": "#%%\n"
    }
   }
  },
  {
   "cell_type": "code",
   "execution_count": 257,
   "outputs": [
    {
     "data": {
      "text/plain": "BuildingType                           category\nPrimaryPropertyType                    category\nNeighborhood                           category\nLog-NumberofFloors                      float64\nLog-PropertyGFATotal                    float64\nLog-PropertyGFABuilding(s)              float64\nLog-SecondLargestPropertyUseTypeGFA     float64\nLog-ThirdLargestPropertyUseTypeGFA      float64\ndtype: object"
     },
     "execution_count": 257,
     "metadata": {},
     "output_type": "execute_result"
    }
   ],
   "source": [
    "X.dtypes # we check that we have categories"
   ],
   "metadata": {
    "collapsed": false,
    "pycharm": {
     "name": "#%%\n"
    }
   }
  },
  {
   "cell_type": "code",
   "execution_count": 258,
   "outputs": [
    {
     "data": {
      "text/plain": "BuildingType            8\nPrimaryPropertyType    23\nNeighborhood           13\ndtype: int64"
     },
     "execution_count": 258,
     "metadata": {},
     "output_type": "execute_result"
    }
   ],
   "source": [
    "X[categorical_columns].nunique()"
   ],
   "metadata": {
    "collapsed": false,
    "pycharm": {
     "name": "#%%\n"
    }
   }
  },
  {
   "cell_type": "code",
   "execution_count": 259,
   "outputs": [
    {
     "data": {
      "text/plain": "              BuildingType   PrimaryPropertyType           Neighborhood\n138   Multifamily LR (1-4)  Low-Rise Multifamily                   east\n2633  Multifamily MR (5-9)  Mid-Rise Multifamily                   east\n1196        NonResidential    Mixed Use Property               downtown\n1984  Multifamily LR (1-4)  Low-Rise Multifamily               delridge\n2490        NonResidential                 Other               downtown\n...                    ...                   ...                    ...\n835   Multifamily MR (5-9)  Mid-Rise Multifamily  magnolia / queen anne\n2141        NonResidential                 Other              northeast\n2023        NonResidential          Large Office               downtown\n1534  Multifamily LR (1-4)  Low-Rise Multifamily                   east\n660      SPS-District K-12           K-12 School              southeast\n\n[2209 rows x 3 columns]",
      "text/html": "<div>\n<style scoped>\n    .dataframe tbody tr th:only-of-type {\n        vertical-align: middle;\n    }\n\n    .dataframe tbody tr th {\n        vertical-align: top;\n    }\n\n    .dataframe thead th {\n        text-align: right;\n    }\n</style>\n<table border=\"1\" class=\"dataframe\">\n  <thead>\n    <tr style=\"text-align: right;\">\n      <th></th>\n      <th>BuildingType</th>\n      <th>PrimaryPropertyType</th>\n      <th>Neighborhood</th>\n    </tr>\n  </thead>\n  <tbody>\n    <tr>\n      <th>138</th>\n      <td>Multifamily LR (1-4)</td>\n      <td>Low-Rise Multifamily</td>\n      <td>east</td>\n    </tr>\n    <tr>\n      <th>2633</th>\n      <td>Multifamily MR (5-9)</td>\n      <td>Mid-Rise Multifamily</td>\n      <td>east</td>\n    </tr>\n    <tr>\n      <th>1196</th>\n      <td>NonResidential</td>\n      <td>Mixed Use Property</td>\n      <td>downtown</td>\n    </tr>\n    <tr>\n      <th>1984</th>\n      <td>Multifamily LR (1-4)</td>\n      <td>Low-Rise Multifamily</td>\n      <td>delridge</td>\n    </tr>\n    <tr>\n      <th>2490</th>\n      <td>NonResidential</td>\n      <td>Other</td>\n      <td>downtown</td>\n    </tr>\n    <tr>\n      <th>...</th>\n      <td>...</td>\n      <td>...</td>\n      <td>...</td>\n    </tr>\n    <tr>\n      <th>835</th>\n      <td>Multifamily MR (5-9)</td>\n      <td>Mid-Rise Multifamily</td>\n      <td>magnolia / queen anne</td>\n    </tr>\n    <tr>\n      <th>2141</th>\n      <td>NonResidential</td>\n      <td>Other</td>\n      <td>northeast</td>\n    </tr>\n    <tr>\n      <th>2023</th>\n      <td>NonResidential</td>\n      <td>Large Office</td>\n      <td>downtown</td>\n    </tr>\n    <tr>\n      <th>1534</th>\n      <td>Multifamily LR (1-4)</td>\n      <td>Low-Rise Multifamily</td>\n      <td>east</td>\n    </tr>\n    <tr>\n      <th>660</th>\n      <td>SPS-District K-12</td>\n      <td>K-12 School</td>\n      <td>southeast</td>\n    </tr>\n  </tbody>\n</table>\n<p>2209 rows × 3 columns</p>\n</div>"
     },
     "execution_count": 259,
     "metadata": {},
     "output_type": "execute_result"
    }
   ],
   "source": [
    "X_train_std[categorical_columns]"
   ],
   "metadata": {
    "collapsed": false,
    "pycharm": {
     "name": "#%%\n"
    }
   }
  },
  {
   "cell_type": "markdown",
   "source": [
    "##### Encoding the categorical features of the train set\n"
   ],
   "metadata": {
    "collapsed": false,
    "pycharm": {
     "name": "#%% md\n"
    }
   }
  },
  {
   "cell_type": "code",
   "execution_count": 260,
   "outputs": [
    {
     "name": "stdout",
     "output_type": "stream",
     "text": [
      "Now, we can use the One Hot Encoder.\n",
      "With the one hot encoder, we will get : 44 columns to encodes the categorical features.\n"
     ]
    }
   ],
   "source": [
    "print(\"Now, we can use the One Hot Encoder.\")\n",
    "print(\"With the one hot encoder, we will get :\", sum([X[categorical_columns].nunique()[i] for i in range(len(categorical_columns))]), \"columns to encodes the categorical features.\")"
   ],
   "metadata": {
    "collapsed": false,
    "pycharm": {
     "name": "#%%\n"
    }
   }
  },
  {
   "cell_type": "code",
   "execution_count": 261,
   "outputs": [
    {
     "name": "stdout",
     "output_type": "stream",
     "text": [
      "We have indeed : 44 labels after encoding the categorical variables.\n"
     ]
    },
    {
     "data": {
      "text/plain": "      BuildingType_Campus  BuildingType_Multifamily HR (10+)  \\\n0                 0.00000                            0.00000   \n4                 0.00000                            0.00000   \n5                 0.00000                            0.00000   \n6                 0.00000                            0.00000   \n7                 0.00000                            0.00000   \n...                   ...                                ...   \n3149              0.00000                            0.00000   \n3150              0.00000                            0.00000   \n3152              0.00000                            0.00000   \n3153              0.00000                            0.00000   \n3155              0.00000                            0.00000   \n\n      BuildingType_Multifamily LR (1-4)  BuildingType_Multifamily MR (5-9)  \\\n0                               1.00000                            0.00000   \n4                               1.00000                            0.00000   \n5                               0.00000                            0.00000   \n6                               1.00000                            0.00000   \n7                               1.00000                            0.00000   \n...                                 ...                                ...   \n3149                            0.00000                            0.00000   \n3150                            0.00000                            1.00000   \n3152                            0.00000                            0.00000   \n3153                            1.00000                            0.00000   \n3155                            0.00000                            0.00000   \n\n      BuildingType_NonResidential  BuildingType_Nonresidential COS  \\\n0                         0.00000                          0.00000   \n4                         0.00000                          0.00000   \n5                         1.00000                          0.00000   \n6                         0.00000                          0.00000   \n7                         0.00000                          0.00000   \n...                           ...                              ...   \n3149                      1.00000                          0.00000   \n3150                      0.00000                          0.00000   \n3152                      1.00000                          0.00000   \n3153                      0.00000                          0.00000   \n3155                      1.00000                          0.00000   \n\n      BuildingType_Nonresidential WA  BuildingType_SPS-District K-12  \\\n0                            0.00000                         0.00000   \n4                            0.00000                         0.00000   \n5                            0.00000                         0.00000   \n6                            0.00000                         0.00000   \n7                            0.00000                         0.00000   \n...                              ...                             ...   \n3149                         0.00000                         0.00000   \n3150                         0.00000                         0.00000   \n3152                         0.00000                         0.00000   \n3153                         0.00000                         0.00000   \n3155                         0.00000                         0.00000   \n\n      PrimaryPropertyType_Distribution Center  \\\n0                                     0.00000   \n4                                     0.00000   \n5                                     0.00000   \n6                                     0.00000   \n7                                     0.00000   \n...                                       ...   \n3149                                  0.00000   \n3150                                  0.00000   \n3152                                  0.00000   \n3153                                  0.00000   \n3155                                  0.00000   \n\n      PrimaryPropertyType_High-Rise Multifamily  ...  Neighborhood_downtown  \\\n0                                       0.00000  ...                0.00000   \n4                                       0.00000  ...                0.00000   \n5                                       0.00000  ...                0.00000   \n6                                       0.00000  ...                0.00000   \n7                                       0.00000  ...                0.00000   \n...                                         ...  ...                    ...   \n3149                                    0.00000  ...                0.00000   \n3150                                    0.00000  ...                0.00000   \n3152                                    0.00000  ...                0.00000   \n3153                                    0.00000  ...                0.00000   \n3155                                    0.00000  ...                0.00000   \n\n      Neighborhood_east  Neighborhood_greater duwamish  \\\n0               0.00000                        0.00000   \n4               0.00000                        1.00000   \n5               0.00000                        0.00000   \n6               0.00000                        0.00000   \n7               0.00000                        0.00000   \n...                 ...                            ...   \n3149            1.00000                        0.00000   \n3150            1.00000                        0.00000   \n3152            0.00000                        0.00000   \n3153            0.00000                        0.00000   \n3155            0.00000                        0.00000   \n\n      Neighborhood_lake union  Neighborhood_magnolia / queen anne  \\\n0                     0.00000                             0.00000   \n4                     0.00000                             0.00000   \n5                     0.00000                             0.00000   \n6                     0.00000                             0.00000   \n7                     0.00000                             0.00000   \n...                       ...                                 ...   \n3149                  0.00000                             0.00000   \n3150                  0.00000                             0.00000   \n3152                  1.00000                             0.00000   \n3153                  1.00000                             0.00000   \n3155                  1.00000                             0.00000   \n\n      Neighborhood_north  Neighborhood_northeast  Neighborhood_northwest  \\\n0                0.00000                 0.00000                 0.00000   \n4                0.00000                 0.00000                 0.00000   \n5                0.00000                 1.00000                 0.00000   \n6                0.00000                 1.00000                 0.00000   \n7                0.00000                 1.00000                 0.00000   \n...                  ...                     ...                     ...   \n3149             0.00000                 0.00000                 0.00000   \n3150             0.00000                 0.00000                 0.00000   \n3152             0.00000                 0.00000                 0.00000   \n3153             0.00000                 0.00000                 0.00000   \n3155             0.00000                 0.00000                 0.00000   \n\n      Neighborhood_southeast  Neighborhood_southwest  \n0                    0.00000                 0.00000  \n4                    0.00000                 0.00000  \n5                    0.00000                 0.00000  \n6                    0.00000                 0.00000  \n7                    0.00000                 0.00000  \n...                      ...                     ...  \n3149                 0.00000                 0.00000  \n3150                 0.00000                 0.00000  \n3152                 0.00000                 0.00000  \n3153                 0.00000                 0.00000  \n3155                 0.00000                 0.00000  \n\n[2209 rows x 44 columns]",
      "text/html": "<div>\n<style scoped>\n    .dataframe tbody tr th:only-of-type {\n        vertical-align: middle;\n    }\n\n    .dataframe tbody tr th {\n        vertical-align: top;\n    }\n\n    .dataframe thead th {\n        text-align: right;\n    }\n</style>\n<table border=\"1\" class=\"dataframe\">\n  <thead>\n    <tr style=\"text-align: right;\">\n      <th></th>\n      <th>BuildingType_Campus</th>\n      <th>BuildingType_Multifamily HR (10+)</th>\n      <th>BuildingType_Multifamily LR (1-4)</th>\n      <th>BuildingType_Multifamily MR (5-9)</th>\n      <th>BuildingType_NonResidential</th>\n      <th>BuildingType_Nonresidential COS</th>\n      <th>BuildingType_Nonresidential WA</th>\n      <th>BuildingType_SPS-District K-12</th>\n      <th>PrimaryPropertyType_Distribution Center</th>\n      <th>PrimaryPropertyType_High-Rise Multifamily</th>\n      <th>...</th>\n      <th>Neighborhood_downtown</th>\n      <th>Neighborhood_east</th>\n      <th>Neighborhood_greater duwamish</th>\n      <th>Neighborhood_lake union</th>\n      <th>Neighborhood_magnolia / queen anne</th>\n      <th>Neighborhood_north</th>\n      <th>Neighborhood_northeast</th>\n      <th>Neighborhood_northwest</th>\n      <th>Neighborhood_southeast</th>\n      <th>Neighborhood_southwest</th>\n    </tr>\n  </thead>\n  <tbody>\n    <tr>\n      <th>0</th>\n      <td>0.00000</td>\n      <td>0.00000</td>\n      <td>1.00000</td>\n      <td>0.00000</td>\n      <td>0.00000</td>\n      <td>0.00000</td>\n      <td>0.00000</td>\n      <td>0.00000</td>\n      <td>0.00000</td>\n      <td>0.00000</td>\n      <td>...</td>\n      <td>0.00000</td>\n      <td>0.00000</td>\n      <td>0.00000</td>\n      <td>0.00000</td>\n      <td>0.00000</td>\n      <td>0.00000</td>\n      <td>0.00000</td>\n      <td>0.00000</td>\n      <td>0.00000</td>\n      <td>0.00000</td>\n    </tr>\n    <tr>\n      <th>4</th>\n      <td>0.00000</td>\n      <td>0.00000</td>\n      <td>1.00000</td>\n      <td>0.00000</td>\n      <td>0.00000</td>\n      <td>0.00000</td>\n      <td>0.00000</td>\n      <td>0.00000</td>\n      <td>0.00000</td>\n      <td>0.00000</td>\n      <td>...</td>\n      <td>0.00000</td>\n      <td>0.00000</td>\n      <td>1.00000</td>\n      <td>0.00000</td>\n      <td>0.00000</td>\n      <td>0.00000</td>\n      <td>0.00000</td>\n      <td>0.00000</td>\n      <td>0.00000</td>\n      <td>0.00000</td>\n    </tr>\n    <tr>\n      <th>5</th>\n      <td>0.00000</td>\n      <td>0.00000</td>\n      <td>0.00000</td>\n      <td>0.00000</td>\n      <td>1.00000</td>\n      <td>0.00000</td>\n      <td>0.00000</td>\n      <td>0.00000</td>\n      <td>0.00000</td>\n      <td>0.00000</td>\n      <td>...</td>\n      <td>0.00000</td>\n      <td>0.00000</td>\n      <td>0.00000</td>\n      <td>0.00000</td>\n      <td>0.00000</td>\n      <td>0.00000</td>\n      <td>1.00000</td>\n      <td>0.00000</td>\n      <td>0.00000</td>\n      <td>0.00000</td>\n    </tr>\n    <tr>\n      <th>6</th>\n      <td>0.00000</td>\n      <td>0.00000</td>\n      <td>1.00000</td>\n      <td>0.00000</td>\n      <td>0.00000</td>\n      <td>0.00000</td>\n      <td>0.00000</td>\n      <td>0.00000</td>\n      <td>0.00000</td>\n      <td>0.00000</td>\n      <td>...</td>\n      <td>0.00000</td>\n      <td>0.00000</td>\n      <td>0.00000</td>\n      <td>0.00000</td>\n      <td>0.00000</td>\n      <td>0.00000</td>\n      <td>1.00000</td>\n      <td>0.00000</td>\n      <td>0.00000</td>\n      <td>0.00000</td>\n    </tr>\n    <tr>\n      <th>7</th>\n      <td>0.00000</td>\n      <td>0.00000</td>\n      <td>1.00000</td>\n      <td>0.00000</td>\n      <td>0.00000</td>\n      <td>0.00000</td>\n      <td>0.00000</td>\n      <td>0.00000</td>\n      <td>0.00000</td>\n      <td>0.00000</td>\n      <td>...</td>\n      <td>0.00000</td>\n      <td>0.00000</td>\n      <td>0.00000</td>\n      <td>0.00000</td>\n      <td>0.00000</td>\n      <td>0.00000</td>\n      <td>1.00000</td>\n      <td>0.00000</td>\n      <td>0.00000</td>\n      <td>0.00000</td>\n    </tr>\n    <tr>\n      <th>...</th>\n      <td>...</td>\n      <td>...</td>\n      <td>...</td>\n      <td>...</td>\n      <td>...</td>\n      <td>...</td>\n      <td>...</td>\n      <td>...</td>\n      <td>...</td>\n      <td>...</td>\n      <td>...</td>\n      <td>...</td>\n      <td>...</td>\n      <td>...</td>\n      <td>...</td>\n      <td>...</td>\n      <td>...</td>\n      <td>...</td>\n      <td>...</td>\n      <td>...</td>\n      <td>...</td>\n    </tr>\n    <tr>\n      <th>3149</th>\n      <td>0.00000</td>\n      <td>0.00000</td>\n      <td>0.00000</td>\n      <td>0.00000</td>\n      <td>1.00000</td>\n      <td>0.00000</td>\n      <td>0.00000</td>\n      <td>0.00000</td>\n      <td>0.00000</td>\n      <td>0.00000</td>\n      <td>...</td>\n      <td>0.00000</td>\n      <td>1.00000</td>\n      <td>0.00000</td>\n      <td>0.00000</td>\n      <td>0.00000</td>\n      <td>0.00000</td>\n      <td>0.00000</td>\n      <td>0.00000</td>\n      <td>0.00000</td>\n      <td>0.00000</td>\n    </tr>\n    <tr>\n      <th>3150</th>\n      <td>0.00000</td>\n      <td>0.00000</td>\n      <td>0.00000</td>\n      <td>1.00000</td>\n      <td>0.00000</td>\n      <td>0.00000</td>\n      <td>0.00000</td>\n      <td>0.00000</td>\n      <td>0.00000</td>\n      <td>0.00000</td>\n      <td>...</td>\n      <td>0.00000</td>\n      <td>1.00000</td>\n      <td>0.00000</td>\n      <td>0.00000</td>\n      <td>0.00000</td>\n      <td>0.00000</td>\n      <td>0.00000</td>\n      <td>0.00000</td>\n      <td>0.00000</td>\n      <td>0.00000</td>\n    </tr>\n    <tr>\n      <th>3152</th>\n      <td>0.00000</td>\n      <td>0.00000</td>\n      <td>0.00000</td>\n      <td>0.00000</td>\n      <td>1.00000</td>\n      <td>0.00000</td>\n      <td>0.00000</td>\n      <td>0.00000</td>\n      <td>0.00000</td>\n      <td>0.00000</td>\n      <td>...</td>\n      <td>0.00000</td>\n      <td>0.00000</td>\n      <td>0.00000</td>\n      <td>1.00000</td>\n      <td>0.00000</td>\n      <td>0.00000</td>\n      <td>0.00000</td>\n      <td>0.00000</td>\n      <td>0.00000</td>\n      <td>0.00000</td>\n    </tr>\n    <tr>\n      <th>3153</th>\n      <td>0.00000</td>\n      <td>0.00000</td>\n      <td>1.00000</td>\n      <td>0.00000</td>\n      <td>0.00000</td>\n      <td>0.00000</td>\n      <td>0.00000</td>\n      <td>0.00000</td>\n      <td>0.00000</td>\n      <td>0.00000</td>\n      <td>...</td>\n      <td>0.00000</td>\n      <td>0.00000</td>\n      <td>0.00000</td>\n      <td>1.00000</td>\n      <td>0.00000</td>\n      <td>0.00000</td>\n      <td>0.00000</td>\n      <td>0.00000</td>\n      <td>0.00000</td>\n      <td>0.00000</td>\n    </tr>\n    <tr>\n      <th>3155</th>\n      <td>0.00000</td>\n      <td>0.00000</td>\n      <td>0.00000</td>\n      <td>0.00000</td>\n      <td>1.00000</td>\n      <td>0.00000</td>\n      <td>0.00000</td>\n      <td>0.00000</td>\n      <td>0.00000</td>\n      <td>0.00000</td>\n      <td>...</td>\n      <td>0.00000</td>\n      <td>0.00000</td>\n      <td>0.00000</td>\n      <td>1.00000</td>\n      <td>0.00000</td>\n      <td>0.00000</td>\n      <td>0.00000</td>\n      <td>0.00000</td>\n      <td>0.00000</td>\n      <td>0.00000</td>\n    </tr>\n  </tbody>\n</table>\n<p>2209 rows × 44 columns</p>\n</div>"
     },
     "metadata": {},
     "output_type": "display_data"
    }
   ],
   "source": [
    "# 0) creating instance of one-hot-encoder\n",
    "one_hot_encoder = OneHotEncoder(handle_unknown='ignore', sparse=False) # if sparse=True (by default), we need to add .toarray() to encoded_categorical_data\n",
    "\n",
    "# 1) Fit the encoder on the training set\n",
    "one_hot_encoder.fit(X_train_std[categorical_columns])\n",
    "\n",
    "# 2) we get the encoded numpy array\n",
    "encoded_categorical_data = one_hot_encoder.transform(X_train_std[categorical_columns])\n",
    "\n",
    "# 3) we make a list of the columns names\n",
    "encoded_categorical_data_names = one_hot_encoder.get_feature_names_out().tolist()\n",
    "print(\"We have indeed :\", len(encoded_categorical_data_names), \"labels after encoding the categorical variables.\")\n",
    "\n",
    "# 4) we recreate a dataframe with the column names and the numpy array\n",
    "X_train_encoded = pd.DataFrame(columns=encoded_categorical_data_names,\n",
    "                               data=encoded_categorical_data,\n",
    "                               index=X_train_std.index)\n",
    "display(X_train_encoded.sort_index())"
   ],
   "metadata": {
    "collapsed": false,
    "pycharm": {
     "name": "#%%\n"
    }
   }
  },
  {
   "cell_type": "code",
   "execution_count": 262,
   "outputs": [
    {
     "name": "stdout",
     "output_type": "stream",
     "text": [
      "We need to add YearBuilt to the list of features.\n",
      "['Log-NumberofFloors', 'Log-PropertyGFATotal', 'Log-PropertyGFABuilding(s)', 'Log-SecondLargestPropertyUseTypeGFA', 'Log-ThirdLargestPropertyUseTypeGFA']\n",
      "\n",
      "ASK JEREMY : merge based on index ok ? or should I put back OSEBuildingID ??\n"
     ]
    },
    {
     "data": {
      "text/plain": "      Log-NumberofFloors  Log-PropertyGFATotal  Log-PropertyGFABuilding(s)  \\\n0               -0.27787              -1.13293                    -1.11885   \n4               -0.27787              -0.48937                    -0.70407   \n5                0.10881              -0.41105                    -0.36601   \n6               -0.77639               1.02663                     1.13333   \n7               -0.27787               0.88368                     0.98425   \n...                  ...                   ...                         ...   \n3149            -0.27787              -1.03115                    -1.01271   \n3150             0.42475              -0.06689                    -0.00710   \n3152            -0.27787              -0.32972                    -0.57875   \n3153             0.10881              -0.48069                    -0.43864   \n3155            -0.77639              -1.14530                    -1.13176   \n\n      Log-SecondLargestPropertyUseTypeGFA  Log-ThirdLargestPropertyUseTypeGFA  \\\n0                                -0.94637                            -0.45420   \n4                                 0.77874                            -0.45420   \n5                                -0.94637                            -0.45420   \n6                                -0.94637                            -0.45420   \n7                                 1.04800                            -0.45420   \n...                                   ...                                 ...   \n3149                             -0.94637                            -0.45420   \n3150                             -0.94637                            -0.45420   \n3152                              1.02953                             2.31196   \n3153                             -0.94637                            -0.45420   \n3155                              0.91195                            -0.45420   \n\n      BuildingType_Campus  BuildingType_Multifamily HR (10+)  \\\n0                 0.00000                            0.00000   \n4                 0.00000                            0.00000   \n5                 0.00000                            0.00000   \n6                 0.00000                            0.00000   \n7                 0.00000                            0.00000   \n...                   ...                                ...   \n3149              0.00000                            0.00000   \n3150              0.00000                            0.00000   \n3152              0.00000                            0.00000   \n3153              0.00000                            0.00000   \n3155              0.00000                            0.00000   \n\n      BuildingType_Multifamily LR (1-4)  BuildingType_Multifamily MR (5-9)  \\\n0                               1.00000                            0.00000   \n4                               1.00000                            0.00000   \n5                               0.00000                            0.00000   \n6                               1.00000                            0.00000   \n7                               1.00000                            0.00000   \n...                                 ...                                ...   \n3149                            0.00000                            0.00000   \n3150                            0.00000                            1.00000   \n3152                            0.00000                            0.00000   \n3153                            1.00000                            0.00000   \n3155                            0.00000                            0.00000   \n\n      BuildingType_NonResidential  ...  Neighborhood_downtown  \\\n0                         0.00000  ...                0.00000   \n4                         0.00000  ...                0.00000   \n5                         1.00000  ...                0.00000   \n6                         0.00000  ...                0.00000   \n7                         0.00000  ...                0.00000   \n...                           ...  ...                    ...   \n3149                      1.00000  ...                0.00000   \n3150                      0.00000  ...                0.00000   \n3152                      1.00000  ...                0.00000   \n3153                      0.00000  ...                0.00000   \n3155                      1.00000  ...                0.00000   \n\n      Neighborhood_east  Neighborhood_greater duwamish  \\\n0               0.00000                        0.00000   \n4               0.00000                        1.00000   \n5               0.00000                        0.00000   \n6               0.00000                        0.00000   \n7               0.00000                        0.00000   \n...                 ...                            ...   \n3149            1.00000                        0.00000   \n3150            1.00000                        0.00000   \n3152            0.00000                        0.00000   \n3153            0.00000                        0.00000   \n3155            0.00000                        0.00000   \n\n      Neighborhood_lake union  Neighborhood_magnolia / queen anne  \\\n0                     0.00000                             0.00000   \n4                     0.00000                             0.00000   \n5                     0.00000                             0.00000   \n6                     0.00000                             0.00000   \n7                     0.00000                             0.00000   \n...                       ...                                 ...   \n3149                  0.00000                             0.00000   \n3150                  0.00000                             0.00000   \n3152                  1.00000                             0.00000   \n3153                  1.00000                             0.00000   \n3155                  1.00000                             0.00000   \n\n      Neighborhood_north  Neighborhood_northeast  Neighborhood_northwest  \\\n0                0.00000                 0.00000                 0.00000   \n4                0.00000                 0.00000                 0.00000   \n5                0.00000                 1.00000                 0.00000   \n6                0.00000                 1.00000                 0.00000   \n7                0.00000                 1.00000                 0.00000   \n...                  ...                     ...                     ...   \n3149             0.00000                 0.00000                 0.00000   \n3150             0.00000                 0.00000                 0.00000   \n3152             0.00000                 0.00000                 0.00000   \n3153             0.00000                 0.00000                 0.00000   \n3155             0.00000                 0.00000                 0.00000   \n\n      Neighborhood_southeast  Neighborhood_southwest  \n0                    0.00000                 0.00000  \n4                    0.00000                 0.00000  \n5                    0.00000                 0.00000  \n6                    0.00000                 0.00000  \n7                    0.00000                 0.00000  \n...                      ...                     ...  \n3149                 0.00000                 0.00000  \n3150                 0.00000                 0.00000  \n3152                 0.00000                 0.00000  \n3153                 0.00000                 0.00000  \n3155                 0.00000                 0.00000  \n\n[2209 rows x 49 columns]",
      "text/html": "<div>\n<style scoped>\n    .dataframe tbody tr th:only-of-type {\n        vertical-align: middle;\n    }\n\n    .dataframe tbody tr th {\n        vertical-align: top;\n    }\n\n    .dataframe thead th {\n        text-align: right;\n    }\n</style>\n<table border=\"1\" class=\"dataframe\">\n  <thead>\n    <tr style=\"text-align: right;\">\n      <th></th>\n      <th>Log-NumberofFloors</th>\n      <th>Log-PropertyGFATotal</th>\n      <th>Log-PropertyGFABuilding(s)</th>\n      <th>Log-SecondLargestPropertyUseTypeGFA</th>\n      <th>Log-ThirdLargestPropertyUseTypeGFA</th>\n      <th>BuildingType_Campus</th>\n      <th>BuildingType_Multifamily HR (10+)</th>\n      <th>BuildingType_Multifamily LR (1-4)</th>\n      <th>BuildingType_Multifamily MR (5-9)</th>\n      <th>BuildingType_NonResidential</th>\n      <th>...</th>\n      <th>Neighborhood_downtown</th>\n      <th>Neighborhood_east</th>\n      <th>Neighborhood_greater duwamish</th>\n      <th>Neighborhood_lake union</th>\n      <th>Neighborhood_magnolia / queen anne</th>\n      <th>Neighborhood_north</th>\n      <th>Neighborhood_northeast</th>\n      <th>Neighborhood_northwest</th>\n      <th>Neighborhood_southeast</th>\n      <th>Neighborhood_southwest</th>\n    </tr>\n  </thead>\n  <tbody>\n    <tr>\n      <th>0</th>\n      <td>-0.27787</td>\n      <td>-1.13293</td>\n      <td>-1.11885</td>\n      <td>-0.94637</td>\n      <td>-0.45420</td>\n      <td>0.00000</td>\n      <td>0.00000</td>\n      <td>1.00000</td>\n      <td>0.00000</td>\n      <td>0.00000</td>\n      <td>...</td>\n      <td>0.00000</td>\n      <td>0.00000</td>\n      <td>0.00000</td>\n      <td>0.00000</td>\n      <td>0.00000</td>\n      <td>0.00000</td>\n      <td>0.00000</td>\n      <td>0.00000</td>\n      <td>0.00000</td>\n      <td>0.00000</td>\n    </tr>\n    <tr>\n      <th>4</th>\n      <td>-0.27787</td>\n      <td>-0.48937</td>\n      <td>-0.70407</td>\n      <td>0.77874</td>\n      <td>-0.45420</td>\n      <td>0.00000</td>\n      <td>0.00000</td>\n      <td>1.00000</td>\n      <td>0.00000</td>\n      <td>0.00000</td>\n      <td>...</td>\n      <td>0.00000</td>\n      <td>0.00000</td>\n      <td>1.00000</td>\n      <td>0.00000</td>\n      <td>0.00000</td>\n      <td>0.00000</td>\n      <td>0.00000</td>\n      <td>0.00000</td>\n      <td>0.00000</td>\n      <td>0.00000</td>\n    </tr>\n    <tr>\n      <th>5</th>\n      <td>0.10881</td>\n      <td>-0.41105</td>\n      <td>-0.36601</td>\n      <td>-0.94637</td>\n      <td>-0.45420</td>\n      <td>0.00000</td>\n      <td>0.00000</td>\n      <td>0.00000</td>\n      <td>0.00000</td>\n      <td>1.00000</td>\n      <td>...</td>\n      <td>0.00000</td>\n      <td>0.00000</td>\n      <td>0.00000</td>\n      <td>0.00000</td>\n      <td>0.00000</td>\n      <td>0.00000</td>\n      <td>1.00000</td>\n      <td>0.00000</td>\n      <td>0.00000</td>\n      <td>0.00000</td>\n    </tr>\n    <tr>\n      <th>6</th>\n      <td>-0.77639</td>\n      <td>1.02663</td>\n      <td>1.13333</td>\n      <td>-0.94637</td>\n      <td>-0.45420</td>\n      <td>0.00000</td>\n      <td>0.00000</td>\n      <td>1.00000</td>\n      <td>0.00000</td>\n      <td>0.00000</td>\n      <td>...</td>\n      <td>0.00000</td>\n      <td>0.00000</td>\n      <td>0.00000</td>\n      <td>0.00000</td>\n      <td>0.00000</td>\n      <td>0.00000</td>\n      <td>1.00000</td>\n      <td>0.00000</td>\n      <td>0.00000</td>\n      <td>0.00000</td>\n    </tr>\n    <tr>\n      <th>7</th>\n      <td>-0.27787</td>\n      <td>0.88368</td>\n      <td>0.98425</td>\n      <td>1.04800</td>\n      <td>-0.45420</td>\n      <td>0.00000</td>\n      <td>0.00000</td>\n      <td>1.00000</td>\n      <td>0.00000</td>\n      <td>0.00000</td>\n      <td>...</td>\n      <td>0.00000</td>\n      <td>0.00000</td>\n      <td>0.00000</td>\n      <td>0.00000</td>\n      <td>0.00000</td>\n      <td>0.00000</td>\n      <td>1.00000</td>\n      <td>0.00000</td>\n      <td>0.00000</td>\n      <td>0.00000</td>\n    </tr>\n    <tr>\n      <th>...</th>\n      <td>...</td>\n      <td>...</td>\n      <td>...</td>\n      <td>...</td>\n      <td>...</td>\n      <td>...</td>\n      <td>...</td>\n      <td>...</td>\n      <td>...</td>\n      <td>...</td>\n      <td>...</td>\n      <td>...</td>\n      <td>...</td>\n      <td>...</td>\n      <td>...</td>\n      <td>...</td>\n      <td>...</td>\n      <td>...</td>\n      <td>...</td>\n      <td>...</td>\n      <td>...</td>\n    </tr>\n    <tr>\n      <th>3149</th>\n      <td>-0.27787</td>\n      <td>-1.03115</td>\n      <td>-1.01271</td>\n      <td>-0.94637</td>\n      <td>-0.45420</td>\n      <td>0.00000</td>\n      <td>0.00000</td>\n      <td>0.00000</td>\n      <td>0.00000</td>\n      <td>1.00000</td>\n      <td>...</td>\n      <td>0.00000</td>\n      <td>1.00000</td>\n      <td>0.00000</td>\n      <td>0.00000</td>\n      <td>0.00000</td>\n      <td>0.00000</td>\n      <td>0.00000</td>\n      <td>0.00000</td>\n      <td>0.00000</td>\n      <td>0.00000</td>\n    </tr>\n    <tr>\n      <th>3150</th>\n      <td>0.42475</td>\n      <td>-0.06689</td>\n      <td>-0.00710</td>\n      <td>-0.94637</td>\n      <td>-0.45420</td>\n      <td>0.00000</td>\n      <td>0.00000</td>\n      <td>0.00000</td>\n      <td>1.00000</td>\n      <td>0.00000</td>\n      <td>...</td>\n      <td>0.00000</td>\n      <td>1.00000</td>\n      <td>0.00000</td>\n      <td>0.00000</td>\n      <td>0.00000</td>\n      <td>0.00000</td>\n      <td>0.00000</td>\n      <td>0.00000</td>\n      <td>0.00000</td>\n      <td>0.00000</td>\n    </tr>\n    <tr>\n      <th>3152</th>\n      <td>-0.27787</td>\n      <td>-0.32972</td>\n      <td>-0.57875</td>\n      <td>1.02953</td>\n      <td>2.31196</td>\n      <td>0.00000</td>\n      <td>0.00000</td>\n      <td>0.00000</td>\n      <td>0.00000</td>\n      <td>1.00000</td>\n      <td>...</td>\n      <td>0.00000</td>\n      <td>0.00000</td>\n      <td>0.00000</td>\n      <td>1.00000</td>\n      <td>0.00000</td>\n      <td>0.00000</td>\n      <td>0.00000</td>\n      <td>0.00000</td>\n      <td>0.00000</td>\n      <td>0.00000</td>\n    </tr>\n    <tr>\n      <th>3153</th>\n      <td>0.10881</td>\n      <td>-0.48069</td>\n      <td>-0.43864</td>\n      <td>-0.94637</td>\n      <td>-0.45420</td>\n      <td>0.00000</td>\n      <td>0.00000</td>\n      <td>1.00000</td>\n      <td>0.00000</td>\n      <td>0.00000</td>\n      <td>...</td>\n      <td>0.00000</td>\n      <td>0.00000</td>\n      <td>0.00000</td>\n      <td>1.00000</td>\n      <td>0.00000</td>\n      <td>0.00000</td>\n      <td>0.00000</td>\n      <td>0.00000</td>\n      <td>0.00000</td>\n      <td>0.00000</td>\n    </tr>\n    <tr>\n      <th>3155</th>\n      <td>-0.77639</td>\n      <td>-1.14530</td>\n      <td>-1.13176</td>\n      <td>0.91195</td>\n      <td>-0.45420</td>\n      <td>0.00000</td>\n      <td>0.00000</td>\n      <td>0.00000</td>\n      <td>0.00000</td>\n      <td>1.00000</td>\n      <td>...</td>\n      <td>0.00000</td>\n      <td>0.00000</td>\n      <td>0.00000</td>\n      <td>1.00000</td>\n      <td>0.00000</td>\n      <td>0.00000</td>\n      <td>0.00000</td>\n      <td>0.00000</td>\n      <td>0.00000</td>\n      <td>0.00000</td>\n    </tr>\n  </tbody>\n</table>\n<p>2209 rows × 49 columns</p>\n</div>"
     },
     "metadata": {},
     "output_type": "display_data"
    }
   ],
   "source": [
    "# 5) Concatenate the two dataframes for the training set\n",
    "\n",
    "print(\"We need to add YearBuilt to the list of features.\")\n",
    "numerical_columns.tolist()\n",
    "features_to_merge = numerical_columns.tolist().copy()\n",
    "#features_to_merge.append(\"YearBuilt\")\n",
    "print(features_to_merge, end=\"\\n\\n\")\n",
    "\n",
    "print(\"ASK JEREMY : merge based on index ok ? or should I put back OSEBuildingID ??\")\n",
    "X_train_std_encoded = pd.merge(X_train_std[features_to_merge].sort_index(), X_train_encoded.sort_index(), left_index=True, right_index=True)\n",
    "display(X_train_std_encoded.sort_index())"
   ],
   "metadata": {
    "collapsed": false,
    "pycharm": {
     "name": "#%%\n"
    }
   }
  },
  {
   "cell_type": "markdown",
   "source": [
    "##### Encoding the categorical features of the test set"
   ],
   "metadata": {
    "collapsed": false,
    "pycharm": {
     "name": "#%% md\n"
    }
   }
  },
  {
   "cell_type": "code",
   "execution_count": 263,
   "outputs": [
    {
     "name": "stdout",
     "output_type": "stream",
     "text": [
      "ASK JEREMY for this method below ???\n"
     ]
    },
    {
     "data": {
      "text/plain": "      BuildingType_Campus  BuildingType_Multifamily HR (10+)  \\\n1                 0.00000                            0.00000   \n2                 0.00000                            0.00000   \n3                 0.00000                            1.00000   \n9                 0.00000                            0.00000   \n11                0.00000                            0.00000   \n...                   ...                                ...   \n3147              0.00000                            0.00000   \n3148              0.00000                            0.00000   \n3151              0.00000                            0.00000   \n3154              0.00000                            0.00000   \n3156              0.00000                            0.00000   \n\n      BuildingType_Multifamily LR (1-4)  BuildingType_Multifamily MR (5-9)  \\\n1                               0.00000                            0.00000   \n2                               1.00000                            0.00000   \n3                               0.00000                            0.00000   \n9                               0.00000                            0.00000   \n11                              0.00000                            0.00000   \n...                                 ...                                ...   \n3147                            0.00000                            0.00000   \n3148                            0.00000                            0.00000   \n3151                            0.00000                            0.00000   \n3154                            0.00000                            0.00000   \n3156                            0.00000                            0.00000   \n\n      BuildingType_NonResidential  BuildingType_Nonresidential COS  \\\n1                         1.00000                          0.00000   \n2                         0.00000                          0.00000   \n3                         0.00000                          0.00000   \n9                         1.00000                          0.00000   \n11                        1.00000                          0.00000   \n...                           ...                              ...   \n3147                      1.00000                          0.00000   \n3148                      1.00000                          0.00000   \n3151                      1.00000                          0.00000   \n3154                      1.00000                          0.00000   \n3156                      0.00000                          1.00000   \n\n      BuildingType_Nonresidential WA  BuildingType_SPS-District K-12  \\\n1                            0.00000                         0.00000   \n2                            0.00000                         0.00000   \n3                            0.00000                         0.00000   \n9                            0.00000                         0.00000   \n11                           0.00000                         0.00000   \n...                              ...                             ...   \n3147                         0.00000                         0.00000   \n3148                         0.00000                         0.00000   \n3151                         0.00000                         0.00000   \n3154                         0.00000                         0.00000   \n3156                         0.00000                         0.00000   \n\n      PrimaryPropertyType_Distribution Center  \\\n1                                     0.00000   \n2                                     0.00000   \n3                                     0.00000   \n9                                     0.00000   \n11                                    0.00000   \n...                                       ...   \n3147                                  0.00000   \n3148                                  0.00000   \n3151                                  0.00000   \n3154                                  0.00000   \n3156                                  0.00000   \n\n      PrimaryPropertyType_High-Rise Multifamily  ...  Neighborhood_downtown  \\\n1                                       0.00000  ...                0.00000   \n2                                       0.00000  ...                0.00000   \n3                                       1.00000  ...                0.00000   \n9                                       0.00000  ...                0.00000   \n11                                      0.00000  ...                1.00000   \n...                                         ...  ...                    ...   \n3147                                    0.00000  ...                0.00000   \n3148                                    0.00000  ...                0.00000   \n3151                                    0.00000  ...                0.00000   \n3154                                    0.00000  ...                0.00000   \n3156                                    0.00000  ...                0.00000   \n\n      Neighborhood_east  Neighborhood_greater duwamish  \\\n1               0.00000                        1.00000   \n2               0.00000                        1.00000   \n3               0.00000                        1.00000   \n9               0.00000                        0.00000   \n11              0.00000                        0.00000   \n...                 ...                            ...   \n3147            1.00000                        0.00000   \n3148            1.00000                        0.00000   \n3151            0.00000                        0.00000   \n3154            0.00000                        0.00000   \n3156            0.00000                        1.00000   \n\n      Neighborhood_lake union  Neighborhood_magnolia / queen anne  \\\n1                     0.00000                             0.00000   \n2                     0.00000                             0.00000   \n3                     0.00000                             0.00000   \n9                     0.00000                             0.00000   \n11                    0.00000                             0.00000   \n...                       ...                                 ...   \n3147                  0.00000                             0.00000   \n3148                  0.00000                             0.00000   \n3151                  1.00000                             0.00000   \n3154                  1.00000                             0.00000   \n3156                  0.00000                             0.00000   \n\n      Neighborhood_north  Neighborhood_northeast  Neighborhood_northwest  \\\n1                0.00000                 0.00000                 0.00000   \n2                0.00000                 0.00000                 0.00000   \n3                0.00000                 0.00000                 0.00000   \n9                0.00000                 1.00000                 0.00000   \n11               0.00000                 0.00000                 0.00000   \n...                  ...                     ...                     ...   \n3147             0.00000                 0.00000                 0.00000   \n3148             0.00000                 0.00000                 0.00000   \n3151             0.00000                 0.00000                 0.00000   \n3154             0.00000                 0.00000                 0.00000   \n3156             0.00000                 0.00000                 0.00000   \n\n      Neighborhood_southeast  Neighborhood_southwest  \n1                    0.00000                 0.00000  \n2                    0.00000                 0.00000  \n3                    0.00000                 0.00000  \n9                    0.00000                 0.00000  \n11                   0.00000                 0.00000  \n...                      ...                     ...  \n3147                 0.00000                 0.00000  \n3148                 0.00000                 0.00000  \n3151                 0.00000                 0.00000  \n3154                 0.00000                 0.00000  \n3156                 0.00000                 0.00000  \n\n[948 rows x 44 columns]",
      "text/html": "<div>\n<style scoped>\n    .dataframe tbody tr th:only-of-type {\n        vertical-align: middle;\n    }\n\n    .dataframe tbody tr th {\n        vertical-align: top;\n    }\n\n    .dataframe thead th {\n        text-align: right;\n    }\n</style>\n<table border=\"1\" class=\"dataframe\">\n  <thead>\n    <tr style=\"text-align: right;\">\n      <th></th>\n      <th>BuildingType_Campus</th>\n      <th>BuildingType_Multifamily HR (10+)</th>\n      <th>BuildingType_Multifamily LR (1-4)</th>\n      <th>BuildingType_Multifamily MR (5-9)</th>\n      <th>BuildingType_NonResidential</th>\n      <th>BuildingType_Nonresidential COS</th>\n      <th>BuildingType_Nonresidential WA</th>\n      <th>BuildingType_SPS-District K-12</th>\n      <th>PrimaryPropertyType_Distribution Center</th>\n      <th>PrimaryPropertyType_High-Rise Multifamily</th>\n      <th>...</th>\n      <th>Neighborhood_downtown</th>\n      <th>Neighborhood_east</th>\n      <th>Neighborhood_greater duwamish</th>\n      <th>Neighborhood_lake union</th>\n      <th>Neighborhood_magnolia / queen anne</th>\n      <th>Neighborhood_north</th>\n      <th>Neighborhood_northeast</th>\n      <th>Neighborhood_northwest</th>\n      <th>Neighborhood_southeast</th>\n      <th>Neighborhood_southwest</th>\n    </tr>\n  </thead>\n  <tbody>\n    <tr>\n      <th>1</th>\n      <td>0.00000</td>\n      <td>0.00000</td>\n      <td>0.00000</td>\n      <td>0.00000</td>\n      <td>1.00000</td>\n      <td>0.00000</td>\n      <td>0.00000</td>\n      <td>0.00000</td>\n      <td>0.00000</td>\n      <td>0.00000</td>\n      <td>...</td>\n      <td>0.00000</td>\n      <td>0.00000</td>\n      <td>1.00000</td>\n      <td>0.00000</td>\n      <td>0.00000</td>\n      <td>0.00000</td>\n      <td>0.00000</td>\n      <td>0.00000</td>\n      <td>0.00000</td>\n      <td>0.00000</td>\n    </tr>\n    <tr>\n      <th>2</th>\n      <td>0.00000</td>\n      <td>0.00000</td>\n      <td>1.00000</td>\n      <td>0.00000</td>\n      <td>0.00000</td>\n      <td>0.00000</td>\n      <td>0.00000</td>\n      <td>0.00000</td>\n      <td>0.00000</td>\n      <td>0.00000</td>\n      <td>...</td>\n      <td>0.00000</td>\n      <td>0.00000</td>\n      <td>1.00000</td>\n      <td>0.00000</td>\n      <td>0.00000</td>\n      <td>0.00000</td>\n      <td>0.00000</td>\n      <td>0.00000</td>\n      <td>0.00000</td>\n      <td>0.00000</td>\n    </tr>\n    <tr>\n      <th>3</th>\n      <td>0.00000</td>\n      <td>1.00000</td>\n      <td>0.00000</td>\n      <td>0.00000</td>\n      <td>0.00000</td>\n      <td>0.00000</td>\n      <td>0.00000</td>\n      <td>0.00000</td>\n      <td>0.00000</td>\n      <td>1.00000</td>\n      <td>...</td>\n      <td>0.00000</td>\n      <td>0.00000</td>\n      <td>1.00000</td>\n      <td>0.00000</td>\n      <td>0.00000</td>\n      <td>0.00000</td>\n      <td>0.00000</td>\n      <td>0.00000</td>\n      <td>0.00000</td>\n      <td>0.00000</td>\n    </tr>\n    <tr>\n      <th>9</th>\n      <td>0.00000</td>\n      <td>0.00000</td>\n      <td>0.00000</td>\n      <td>0.00000</td>\n      <td>1.00000</td>\n      <td>0.00000</td>\n      <td>0.00000</td>\n      <td>0.00000</td>\n      <td>0.00000</td>\n      <td>0.00000</td>\n      <td>...</td>\n      <td>0.00000</td>\n      <td>0.00000</td>\n      <td>0.00000</td>\n      <td>0.00000</td>\n      <td>0.00000</td>\n      <td>0.00000</td>\n      <td>1.00000</td>\n      <td>0.00000</td>\n      <td>0.00000</td>\n      <td>0.00000</td>\n    </tr>\n    <tr>\n      <th>11</th>\n      <td>0.00000</td>\n      <td>0.00000</td>\n      <td>0.00000</td>\n      <td>0.00000</td>\n      <td>1.00000</td>\n      <td>0.00000</td>\n      <td>0.00000</td>\n      <td>0.00000</td>\n      <td>0.00000</td>\n      <td>0.00000</td>\n      <td>...</td>\n      <td>1.00000</td>\n      <td>0.00000</td>\n      <td>0.00000</td>\n      <td>0.00000</td>\n      <td>0.00000</td>\n      <td>0.00000</td>\n      <td>0.00000</td>\n      <td>0.00000</td>\n      <td>0.00000</td>\n      <td>0.00000</td>\n    </tr>\n    <tr>\n      <th>...</th>\n      <td>...</td>\n      <td>...</td>\n      <td>...</td>\n      <td>...</td>\n      <td>...</td>\n      <td>...</td>\n      <td>...</td>\n      <td>...</td>\n      <td>...</td>\n      <td>...</td>\n      <td>...</td>\n      <td>...</td>\n      <td>...</td>\n      <td>...</td>\n      <td>...</td>\n      <td>...</td>\n      <td>...</td>\n      <td>...</td>\n      <td>...</td>\n      <td>...</td>\n      <td>...</td>\n    </tr>\n    <tr>\n      <th>3147</th>\n      <td>0.00000</td>\n      <td>0.00000</td>\n      <td>0.00000</td>\n      <td>0.00000</td>\n      <td>1.00000</td>\n      <td>0.00000</td>\n      <td>0.00000</td>\n      <td>0.00000</td>\n      <td>0.00000</td>\n      <td>0.00000</td>\n      <td>...</td>\n      <td>0.00000</td>\n      <td>1.00000</td>\n      <td>0.00000</td>\n      <td>0.00000</td>\n      <td>0.00000</td>\n      <td>0.00000</td>\n      <td>0.00000</td>\n      <td>0.00000</td>\n      <td>0.00000</td>\n      <td>0.00000</td>\n    </tr>\n    <tr>\n      <th>3148</th>\n      <td>0.00000</td>\n      <td>0.00000</td>\n      <td>0.00000</td>\n      <td>0.00000</td>\n      <td>1.00000</td>\n      <td>0.00000</td>\n      <td>0.00000</td>\n      <td>0.00000</td>\n      <td>0.00000</td>\n      <td>0.00000</td>\n      <td>...</td>\n      <td>0.00000</td>\n      <td>1.00000</td>\n      <td>0.00000</td>\n      <td>0.00000</td>\n      <td>0.00000</td>\n      <td>0.00000</td>\n      <td>0.00000</td>\n      <td>0.00000</td>\n      <td>0.00000</td>\n      <td>0.00000</td>\n    </tr>\n    <tr>\n      <th>3151</th>\n      <td>0.00000</td>\n      <td>0.00000</td>\n      <td>0.00000</td>\n      <td>0.00000</td>\n      <td>1.00000</td>\n      <td>0.00000</td>\n      <td>0.00000</td>\n      <td>0.00000</td>\n      <td>0.00000</td>\n      <td>0.00000</td>\n      <td>...</td>\n      <td>0.00000</td>\n      <td>0.00000</td>\n      <td>0.00000</td>\n      <td>1.00000</td>\n      <td>0.00000</td>\n      <td>0.00000</td>\n      <td>0.00000</td>\n      <td>0.00000</td>\n      <td>0.00000</td>\n      <td>0.00000</td>\n    </tr>\n    <tr>\n      <th>3154</th>\n      <td>0.00000</td>\n      <td>0.00000</td>\n      <td>0.00000</td>\n      <td>0.00000</td>\n      <td>1.00000</td>\n      <td>0.00000</td>\n      <td>0.00000</td>\n      <td>0.00000</td>\n      <td>0.00000</td>\n      <td>0.00000</td>\n      <td>...</td>\n      <td>0.00000</td>\n      <td>0.00000</td>\n      <td>0.00000</td>\n      <td>1.00000</td>\n      <td>0.00000</td>\n      <td>0.00000</td>\n      <td>0.00000</td>\n      <td>0.00000</td>\n      <td>0.00000</td>\n      <td>0.00000</td>\n    </tr>\n    <tr>\n      <th>3156</th>\n      <td>0.00000</td>\n      <td>0.00000</td>\n      <td>0.00000</td>\n      <td>0.00000</td>\n      <td>0.00000</td>\n      <td>1.00000</td>\n      <td>0.00000</td>\n      <td>0.00000</td>\n      <td>0.00000</td>\n      <td>0.00000</td>\n      <td>...</td>\n      <td>0.00000</td>\n      <td>0.00000</td>\n      <td>1.00000</td>\n      <td>0.00000</td>\n      <td>0.00000</td>\n      <td>0.00000</td>\n      <td>0.00000</td>\n      <td>0.00000</td>\n      <td>0.00000</td>\n      <td>0.00000</td>\n    </tr>\n  </tbody>\n</table>\n<p>948 rows × 44 columns</p>\n</div>"
     },
     "metadata": {},
     "output_type": "display_data"
    },
    {
     "name": "stdout",
     "output_type": "stream",
     "text": [
      "ASK JEREMY : merge based on index ok ? or should I put back OSEBuildingID ??\n"
     ]
    },
    {
     "data": {
      "text/plain": "      Log-NumberofFloors  Log-PropertyGFATotal  Log-PropertyGFABuilding(s)  \\\n1               -0.77639              -0.87606                    -0.85097   \n2               -0.27787              -0.91350                    -0.89002   \n3                2.12442               0.32192                     0.39840   \n9               -0.27787              -1.03850                    -1.02037   \n11              -1.47902              -0.97036                    -0.94931   \n...                  ...                   ...                         ...   \n3147             0.10881              -0.38775                    -0.34171   \n3148            -0.27787              -0.67377                    -0.64000   \n3151            -0.77639              -0.57234                    -0.53422   \n3154             0.42475              -0.57572                    -0.77199   \n3156            -1.47902              -1.27880                    -1.27099   \n\n      Log-SecondLargestPropertyUseTypeGFA  Log-ThirdLargestPropertyUseTypeGFA  \\\n1                                 0.93036                             1.96493   \n2                                -0.94637                            -0.45420   \n3                                -0.94637                            -0.45420   \n9                                -0.94637                            -0.45420   \n11                                0.79300                            -0.45420   \n...                                   ...                                 ...   \n3147                             -0.94637                            -0.45420   \n3148                             -0.94637                            -0.45420   \n3151                              1.02257                             1.73786   \n3154                              0.93076                             1.75015   \n3156                              0.91195                             1.65893   \n\n      BuildingType_Campus  BuildingType_Multifamily HR (10+)  \\\n1                 0.00000                            0.00000   \n2                 0.00000                            0.00000   \n3                 0.00000                            1.00000   \n9                 0.00000                            0.00000   \n11                0.00000                            0.00000   \n...                   ...                                ...   \n3147              0.00000                            0.00000   \n3148              0.00000                            0.00000   \n3151              0.00000                            0.00000   \n3154              0.00000                            0.00000   \n3156              0.00000                            0.00000   \n\n      BuildingType_Multifamily LR (1-4)  BuildingType_Multifamily MR (5-9)  \\\n1                               0.00000                            0.00000   \n2                               1.00000                            0.00000   \n3                               0.00000                            0.00000   \n9                               0.00000                            0.00000   \n11                              0.00000                            0.00000   \n...                                 ...                                ...   \n3147                            0.00000                            0.00000   \n3148                            0.00000                            0.00000   \n3151                            0.00000                            0.00000   \n3154                            0.00000                            0.00000   \n3156                            0.00000                            0.00000   \n\n      BuildingType_NonResidential  ...  Neighborhood_downtown  \\\n1                         1.00000  ...                0.00000   \n2                         0.00000  ...                0.00000   \n3                         0.00000  ...                0.00000   \n9                         1.00000  ...                0.00000   \n11                        1.00000  ...                1.00000   \n...                           ...  ...                    ...   \n3147                      1.00000  ...                0.00000   \n3148                      1.00000  ...                0.00000   \n3151                      1.00000  ...                0.00000   \n3154                      1.00000  ...                0.00000   \n3156                      0.00000  ...                0.00000   \n\n      Neighborhood_east  Neighborhood_greater duwamish  \\\n1               0.00000                        1.00000   \n2               0.00000                        1.00000   \n3               0.00000                        1.00000   \n9               0.00000                        0.00000   \n11              0.00000                        0.00000   \n...                 ...                            ...   \n3147            1.00000                        0.00000   \n3148            1.00000                        0.00000   \n3151            0.00000                        0.00000   \n3154            0.00000                        0.00000   \n3156            0.00000                        1.00000   \n\n      Neighborhood_lake union  Neighborhood_magnolia / queen anne  \\\n1                     0.00000                             0.00000   \n2                     0.00000                             0.00000   \n3                     0.00000                             0.00000   \n9                     0.00000                             0.00000   \n11                    0.00000                             0.00000   \n...                       ...                                 ...   \n3147                  0.00000                             0.00000   \n3148                  0.00000                             0.00000   \n3151                  1.00000                             0.00000   \n3154                  1.00000                             0.00000   \n3156                  0.00000                             0.00000   \n\n      Neighborhood_north  Neighborhood_northeast  Neighborhood_northwest  \\\n1                0.00000                 0.00000                 0.00000   \n2                0.00000                 0.00000                 0.00000   \n3                0.00000                 0.00000                 0.00000   \n9                0.00000                 1.00000                 0.00000   \n11               0.00000                 0.00000                 0.00000   \n...                  ...                     ...                     ...   \n3147             0.00000                 0.00000                 0.00000   \n3148             0.00000                 0.00000                 0.00000   \n3151             0.00000                 0.00000                 0.00000   \n3154             0.00000                 0.00000                 0.00000   \n3156             0.00000                 0.00000                 0.00000   \n\n      Neighborhood_southeast  Neighborhood_southwest  \n1                    0.00000                 0.00000  \n2                    0.00000                 0.00000  \n3                    0.00000                 0.00000  \n9                    0.00000                 0.00000  \n11                   0.00000                 0.00000  \n...                      ...                     ...  \n3147                 0.00000                 0.00000  \n3148                 0.00000                 0.00000  \n3151                 0.00000                 0.00000  \n3154                 0.00000                 0.00000  \n3156                 0.00000                 0.00000  \n\n[948 rows x 49 columns]",
      "text/html": "<div>\n<style scoped>\n    .dataframe tbody tr th:only-of-type {\n        vertical-align: middle;\n    }\n\n    .dataframe tbody tr th {\n        vertical-align: top;\n    }\n\n    .dataframe thead th {\n        text-align: right;\n    }\n</style>\n<table border=\"1\" class=\"dataframe\">\n  <thead>\n    <tr style=\"text-align: right;\">\n      <th></th>\n      <th>Log-NumberofFloors</th>\n      <th>Log-PropertyGFATotal</th>\n      <th>Log-PropertyGFABuilding(s)</th>\n      <th>Log-SecondLargestPropertyUseTypeGFA</th>\n      <th>Log-ThirdLargestPropertyUseTypeGFA</th>\n      <th>BuildingType_Campus</th>\n      <th>BuildingType_Multifamily HR (10+)</th>\n      <th>BuildingType_Multifamily LR (1-4)</th>\n      <th>BuildingType_Multifamily MR (5-9)</th>\n      <th>BuildingType_NonResidential</th>\n      <th>...</th>\n      <th>Neighborhood_downtown</th>\n      <th>Neighborhood_east</th>\n      <th>Neighborhood_greater duwamish</th>\n      <th>Neighborhood_lake union</th>\n      <th>Neighborhood_magnolia / queen anne</th>\n      <th>Neighborhood_north</th>\n      <th>Neighborhood_northeast</th>\n      <th>Neighborhood_northwest</th>\n      <th>Neighborhood_southeast</th>\n      <th>Neighborhood_southwest</th>\n    </tr>\n  </thead>\n  <tbody>\n    <tr>\n      <th>1</th>\n      <td>-0.77639</td>\n      <td>-0.87606</td>\n      <td>-0.85097</td>\n      <td>0.93036</td>\n      <td>1.96493</td>\n      <td>0.00000</td>\n      <td>0.00000</td>\n      <td>0.00000</td>\n      <td>0.00000</td>\n      <td>1.00000</td>\n      <td>...</td>\n      <td>0.00000</td>\n      <td>0.00000</td>\n      <td>1.00000</td>\n      <td>0.00000</td>\n      <td>0.00000</td>\n      <td>0.00000</td>\n      <td>0.00000</td>\n      <td>0.00000</td>\n      <td>0.00000</td>\n      <td>0.00000</td>\n    </tr>\n    <tr>\n      <th>2</th>\n      <td>-0.27787</td>\n      <td>-0.91350</td>\n      <td>-0.89002</td>\n      <td>-0.94637</td>\n      <td>-0.45420</td>\n      <td>0.00000</td>\n      <td>0.00000</td>\n      <td>1.00000</td>\n      <td>0.00000</td>\n      <td>0.00000</td>\n      <td>...</td>\n      <td>0.00000</td>\n      <td>0.00000</td>\n      <td>1.00000</td>\n      <td>0.00000</td>\n      <td>0.00000</td>\n      <td>0.00000</td>\n      <td>0.00000</td>\n      <td>0.00000</td>\n      <td>0.00000</td>\n      <td>0.00000</td>\n    </tr>\n    <tr>\n      <th>3</th>\n      <td>2.12442</td>\n      <td>0.32192</td>\n      <td>0.39840</td>\n      <td>-0.94637</td>\n      <td>-0.45420</td>\n      <td>0.00000</td>\n      <td>1.00000</td>\n      <td>0.00000</td>\n      <td>0.00000</td>\n      <td>0.00000</td>\n      <td>...</td>\n      <td>0.00000</td>\n      <td>0.00000</td>\n      <td>1.00000</td>\n      <td>0.00000</td>\n      <td>0.00000</td>\n      <td>0.00000</td>\n      <td>0.00000</td>\n      <td>0.00000</td>\n      <td>0.00000</td>\n      <td>0.00000</td>\n    </tr>\n    <tr>\n      <th>9</th>\n      <td>-0.27787</td>\n      <td>-1.03850</td>\n      <td>-1.02037</td>\n      <td>-0.94637</td>\n      <td>-0.45420</td>\n      <td>0.00000</td>\n      <td>0.00000</td>\n      <td>0.00000</td>\n      <td>0.00000</td>\n      <td>1.00000</td>\n      <td>...</td>\n      <td>0.00000</td>\n      <td>0.00000</td>\n      <td>0.00000</td>\n      <td>0.00000</td>\n      <td>0.00000</td>\n      <td>0.00000</td>\n      <td>1.00000</td>\n      <td>0.00000</td>\n      <td>0.00000</td>\n      <td>0.00000</td>\n    </tr>\n    <tr>\n      <th>11</th>\n      <td>-1.47902</td>\n      <td>-0.97036</td>\n      <td>-0.94931</td>\n      <td>0.79300</td>\n      <td>-0.45420</td>\n      <td>0.00000</td>\n      <td>0.00000</td>\n      <td>0.00000</td>\n      <td>0.00000</td>\n      <td>1.00000</td>\n      <td>...</td>\n      <td>1.00000</td>\n      <td>0.00000</td>\n      <td>0.00000</td>\n      <td>0.00000</td>\n      <td>0.00000</td>\n      <td>0.00000</td>\n      <td>0.00000</td>\n      <td>0.00000</td>\n      <td>0.00000</td>\n      <td>0.00000</td>\n    </tr>\n    <tr>\n      <th>...</th>\n      <td>...</td>\n      <td>...</td>\n      <td>...</td>\n      <td>...</td>\n      <td>...</td>\n      <td>...</td>\n      <td>...</td>\n      <td>...</td>\n      <td>...</td>\n      <td>...</td>\n      <td>...</td>\n      <td>...</td>\n      <td>...</td>\n      <td>...</td>\n      <td>...</td>\n      <td>...</td>\n      <td>...</td>\n      <td>...</td>\n      <td>...</td>\n      <td>...</td>\n      <td>...</td>\n    </tr>\n    <tr>\n      <th>3147</th>\n      <td>0.10881</td>\n      <td>-0.38775</td>\n      <td>-0.34171</td>\n      <td>-0.94637</td>\n      <td>-0.45420</td>\n      <td>0.00000</td>\n      <td>0.00000</td>\n      <td>0.00000</td>\n      <td>0.00000</td>\n      <td>1.00000</td>\n      <td>...</td>\n      <td>0.00000</td>\n      <td>1.00000</td>\n      <td>0.00000</td>\n      <td>0.00000</td>\n      <td>0.00000</td>\n      <td>0.00000</td>\n      <td>0.00000</td>\n      <td>0.00000</td>\n      <td>0.00000</td>\n      <td>0.00000</td>\n    </tr>\n    <tr>\n      <th>3148</th>\n      <td>-0.27787</td>\n      <td>-0.67377</td>\n      <td>-0.64000</td>\n      <td>-0.94637</td>\n      <td>-0.45420</td>\n      <td>0.00000</td>\n      <td>0.00000</td>\n      <td>0.00000</td>\n      <td>0.00000</td>\n      <td>1.00000</td>\n      <td>...</td>\n      <td>0.00000</td>\n      <td>1.00000</td>\n      <td>0.00000</td>\n      <td>0.00000</td>\n      <td>0.00000</td>\n      <td>0.00000</td>\n      <td>0.00000</td>\n      <td>0.00000</td>\n      <td>0.00000</td>\n      <td>0.00000</td>\n    </tr>\n    <tr>\n      <th>3151</th>\n      <td>-0.77639</td>\n      <td>-0.57234</td>\n      <td>-0.53422</td>\n      <td>1.02257</td>\n      <td>1.73786</td>\n      <td>0.00000</td>\n      <td>0.00000</td>\n      <td>0.00000</td>\n      <td>0.00000</td>\n      <td>1.00000</td>\n      <td>...</td>\n      <td>0.00000</td>\n      <td>0.00000</td>\n      <td>0.00000</td>\n      <td>1.00000</td>\n      <td>0.00000</td>\n      <td>0.00000</td>\n      <td>0.00000</td>\n      <td>0.00000</td>\n      <td>0.00000</td>\n      <td>0.00000</td>\n    </tr>\n    <tr>\n      <th>3154</th>\n      <td>0.42475</td>\n      <td>-0.57572</td>\n      <td>-0.77199</td>\n      <td>0.93076</td>\n      <td>1.75015</td>\n      <td>0.00000</td>\n      <td>0.00000</td>\n      <td>0.00000</td>\n      <td>0.00000</td>\n      <td>1.00000</td>\n      <td>...</td>\n      <td>0.00000</td>\n      <td>0.00000</td>\n      <td>0.00000</td>\n      <td>1.00000</td>\n      <td>0.00000</td>\n      <td>0.00000</td>\n      <td>0.00000</td>\n      <td>0.00000</td>\n      <td>0.00000</td>\n      <td>0.00000</td>\n    </tr>\n    <tr>\n      <th>3156</th>\n      <td>-1.47902</td>\n      <td>-1.27880</td>\n      <td>-1.27099</td>\n      <td>0.91195</td>\n      <td>1.65893</td>\n      <td>0.00000</td>\n      <td>0.00000</td>\n      <td>0.00000</td>\n      <td>0.00000</td>\n      <td>0.00000</td>\n      <td>...</td>\n      <td>0.00000</td>\n      <td>0.00000</td>\n      <td>1.00000</td>\n      <td>0.00000</td>\n      <td>0.00000</td>\n      <td>0.00000</td>\n      <td>0.00000</td>\n      <td>0.00000</td>\n      <td>0.00000</td>\n      <td>0.00000</td>\n    </tr>\n  </tbody>\n</table>\n<p>948 rows × 49 columns</p>\n</div>"
     },
     "metadata": {},
     "output_type": "display_data"
    }
   ],
   "source": [
    "# 5) One Hot Encoding on the testing set\n",
    "\n",
    "# 5.1) we get the encoded numpy array\n",
    "TEST_encoded_categorical_data = one_hot_encoder.transform(X_test_std[categorical_columns])\n",
    "\n",
    "print(\"ASK JEREMY for this method below ???\")\n",
    "# 5.2) we recreate a dataframe with the column names and the numpy array\n",
    "X_test_encoded = pd.DataFrame(columns=encoded_categorical_data_names,\n",
    "                               data=TEST_encoded_categorical_data,\n",
    "                               index=X_test_std.index)\n",
    "display(X_test_encoded.sort_index())\n",
    "\n",
    "print(\"ASK JEREMY : merge based on index ok ? or should I put back OSEBuildingID ??\")\n",
    "X_test_std_encoded = pd.merge(X_test_std[features_to_merge].sort_index(), X_test_encoded.sort_index(), left_index=True, right_index=True)\n",
    "display(X_test_std_encoded.sort_index())"
   ],
   "metadata": {
    "collapsed": false,
    "pycharm": {
     "name": "#%%\n"
    }
   }
  },
  {
   "cell_type": "code",
   "execution_count": 264,
   "outputs": [],
   "source": [
    "# Save\n",
    "#X_train_std_encoded.to_csv(\"dataset/cleaned/electricity/X_train.csv\", index=False)\n",
    "#X_test_std_encoded.to_csv(\"dataset/cleaned/electricity/X_test.csv\", index=False)\n",
    "#y_train.to_csv(\"dataset/cleaned/electricity/y_train.csv\", index=False)\n",
    "#y_test.to_csv(\"dataset/cleaned/electricity/y_test.csv\", index=False)"
   ],
   "metadata": {
    "collapsed": false,
    "pycharm": {
     "name": "#%%\n"
    }
   }
  },
  {
   "cell_type": "markdown",
   "source": [
    "## II) Modelisation"
   ],
   "metadata": {
    "collapsed": false,
    "pycharm": {
     "name": "#%% md\n"
    }
   }
  },
  {
   "cell_type": "code",
   "execution_count": 265,
   "outputs": [],
   "source": [
    "from sklearn.model_selection import GridSearchCV\n",
    "from sklearn.metrics import mean_squared_error"
   ],
   "metadata": {
    "collapsed": false,
    "pycharm": {
     "name": "#%%\n"
    }
   }
  },
  {
   "cell_type": "code",
   "execution_count": 266,
   "outputs": [
    {
     "name": "stdout",
     "output_type": "stream",
     "text": [
      "We can start now the modelling to predict the feature wanted.\n"
     ]
    },
    {
     "data": {
      "text/plain": "      Log-NumberofFloors  Log-PropertyGFATotal  Log-PropertyGFABuilding(s)  \\\n0               -0.27787              -1.13293                    -1.11885   \n4               -0.27787              -0.48937                    -0.70407   \n5                0.10881              -0.41105                    -0.36601   \n6               -0.77639               1.02663                     1.13333   \n7               -0.27787               0.88368                     0.98425   \n...                  ...                   ...                         ...   \n3149            -0.27787              -1.03115                    -1.01271   \n3150             0.42475              -0.06689                    -0.00710   \n3152            -0.27787              -0.32972                    -0.57875   \n3153             0.10881              -0.48069                    -0.43864   \n3155            -0.77639              -1.14530                    -1.13176   \n\n      Log-SecondLargestPropertyUseTypeGFA  Log-ThirdLargestPropertyUseTypeGFA  \\\n0                                -0.94637                            -0.45420   \n4                                 0.77874                            -0.45420   \n5                                -0.94637                            -0.45420   \n6                                -0.94637                            -0.45420   \n7                                 1.04800                            -0.45420   \n...                                   ...                                 ...   \n3149                             -0.94637                            -0.45420   \n3150                             -0.94637                            -0.45420   \n3152                              1.02953                             2.31196   \n3153                             -0.94637                            -0.45420   \n3155                              0.91195                            -0.45420   \n\n      BuildingType_Campus  BuildingType_Multifamily HR (10+)  \\\n0                 0.00000                            0.00000   \n4                 0.00000                            0.00000   \n5                 0.00000                            0.00000   \n6                 0.00000                            0.00000   \n7                 0.00000                            0.00000   \n...                   ...                                ...   \n3149              0.00000                            0.00000   \n3150              0.00000                            0.00000   \n3152              0.00000                            0.00000   \n3153              0.00000                            0.00000   \n3155              0.00000                            0.00000   \n\n      BuildingType_Multifamily LR (1-4)  BuildingType_Multifamily MR (5-9)  \\\n0                               1.00000                            0.00000   \n4                               1.00000                            0.00000   \n5                               0.00000                            0.00000   \n6                               1.00000                            0.00000   \n7                               1.00000                            0.00000   \n...                                 ...                                ...   \n3149                            0.00000                            0.00000   \n3150                            0.00000                            1.00000   \n3152                            0.00000                            0.00000   \n3153                            1.00000                            0.00000   \n3155                            0.00000                            0.00000   \n\n      BuildingType_NonResidential  ...  Neighborhood_downtown  \\\n0                         0.00000  ...                0.00000   \n4                         0.00000  ...                0.00000   \n5                         1.00000  ...                0.00000   \n6                         0.00000  ...                0.00000   \n7                         0.00000  ...                0.00000   \n...                           ...  ...                    ...   \n3149                      1.00000  ...                0.00000   \n3150                      0.00000  ...                0.00000   \n3152                      1.00000  ...                0.00000   \n3153                      0.00000  ...                0.00000   \n3155                      1.00000  ...                0.00000   \n\n      Neighborhood_east  Neighborhood_greater duwamish  \\\n0               0.00000                        0.00000   \n4               0.00000                        1.00000   \n5               0.00000                        0.00000   \n6               0.00000                        0.00000   \n7               0.00000                        0.00000   \n...                 ...                            ...   \n3149            1.00000                        0.00000   \n3150            1.00000                        0.00000   \n3152            0.00000                        0.00000   \n3153            0.00000                        0.00000   \n3155            0.00000                        0.00000   \n\n      Neighborhood_lake union  Neighborhood_magnolia / queen anne  \\\n0                     0.00000                             0.00000   \n4                     0.00000                             0.00000   \n5                     0.00000                             0.00000   \n6                     0.00000                             0.00000   \n7                     0.00000                             0.00000   \n...                       ...                                 ...   \n3149                  0.00000                             0.00000   \n3150                  0.00000                             0.00000   \n3152                  1.00000                             0.00000   \n3153                  1.00000                             0.00000   \n3155                  1.00000                             0.00000   \n\n      Neighborhood_north  Neighborhood_northeast  Neighborhood_northwest  \\\n0                0.00000                 0.00000                 0.00000   \n4                0.00000                 0.00000                 0.00000   \n5                0.00000                 1.00000                 0.00000   \n6                0.00000                 1.00000                 0.00000   \n7                0.00000                 1.00000                 0.00000   \n...                  ...                     ...                     ...   \n3149             0.00000                 0.00000                 0.00000   \n3150             0.00000                 0.00000                 0.00000   \n3152             0.00000                 0.00000                 0.00000   \n3153             0.00000                 0.00000                 0.00000   \n3155             0.00000                 0.00000                 0.00000   \n\n      Neighborhood_southeast  Neighborhood_southwest  \n0                    0.00000                 0.00000  \n4                    0.00000                 0.00000  \n5                    0.00000                 0.00000  \n6                    0.00000                 0.00000  \n7                    0.00000                 0.00000  \n...                      ...                     ...  \n3149                 0.00000                 0.00000  \n3150                 0.00000                 0.00000  \n3152                 0.00000                 0.00000  \n3153                 0.00000                 0.00000  \n3155                 0.00000                 0.00000  \n\n[2209 rows x 49 columns]",
      "text/html": "<div>\n<style scoped>\n    .dataframe tbody tr th:only-of-type {\n        vertical-align: middle;\n    }\n\n    .dataframe tbody tr th {\n        vertical-align: top;\n    }\n\n    .dataframe thead th {\n        text-align: right;\n    }\n</style>\n<table border=\"1\" class=\"dataframe\">\n  <thead>\n    <tr style=\"text-align: right;\">\n      <th></th>\n      <th>Log-NumberofFloors</th>\n      <th>Log-PropertyGFATotal</th>\n      <th>Log-PropertyGFABuilding(s)</th>\n      <th>Log-SecondLargestPropertyUseTypeGFA</th>\n      <th>Log-ThirdLargestPropertyUseTypeGFA</th>\n      <th>BuildingType_Campus</th>\n      <th>BuildingType_Multifamily HR (10+)</th>\n      <th>BuildingType_Multifamily LR (1-4)</th>\n      <th>BuildingType_Multifamily MR (5-9)</th>\n      <th>BuildingType_NonResidential</th>\n      <th>...</th>\n      <th>Neighborhood_downtown</th>\n      <th>Neighborhood_east</th>\n      <th>Neighborhood_greater duwamish</th>\n      <th>Neighborhood_lake union</th>\n      <th>Neighborhood_magnolia / queen anne</th>\n      <th>Neighborhood_north</th>\n      <th>Neighborhood_northeast</th>\n      <th>Neighborhood_northwest</th>\n      <th>Neighborhood_southeast</th>\n      <th>Neighborhood_southwest</th>\n    </tr>\n  </thead>\n  <tbody>\n    <tr>\n      <th>0</th>\n      <td>-0.27787</td>\n      <td>-1.13293</td>\n      <td>-1.11885</td>\n      <td>-0.94637</td>\n      <td>-0.45420</td>\n      <td>0.00000</td>\n      <td>0.00000</td>\n      <td>1.00000</td>\n      <td>0.00000</td>\n      <td>0.00000</td>\n      <td>...</td>\n      <td>0.00000</td>\n      <td>0.00000</td>\n      <td>0.00000</td>\n      <td>0.00000</td>\n      <td>0.00000</td>\n      <td>0.00000</td>\n      <td>0.00000</td>\n      <td>0.00000</td>\n      <td>0.00000</td>\n      <td>0.00000</td>\n    </tr>\n    <tr>\n      <th>4</th>\n      <td>-0.27787</td>\n      <td>-0.48937</td>\n      <td>-0.70407</td>\n      <td>0.77874</td>\n      <td>-0.45420</td>\n      <td>0.00000</td>\n      <td>0.00000</td>\n      <td>1.00000</td>\n      <td>0.00000</td>\n      <td>0.00000</td>\n      <td>...</td>\n      <td>0.00000</td>\n      <td>0.00000</td>\n      <td>1.00000</td>\n      <td>0.00000</td>\n      <td>0.00000</td>\n      <td>0.00000</td>\n      <td>0.00000</td>\n      <td>0.00000</td>\n      <td>0.00000</td>\n      <td>0.00000</td>\n    </tr>\n    <tr>\n      <th>5</th>\n      <td>0.10881</td>\n      <td>-0.41105</td>\n      <td>-0.36601</td>\n      <td>-0.94637</td>\n      <td>-0.45420</td>\n      <td>0.00000</td>\n      <td>0.00000</td>\n      <td>0.00000</td>\n      <td>0.00000</td>\n      <td>1.00000</td>\n      <td>...</td>\n      <td>0.00000</td>\n      <td>0.00000</td>\n      <td>0.00000</td>\n      <td>0.00000</td>\n      <td>0.00000</td>\n      <td>0.00000</td>\n      <td>1.00000</td>\n      <td>0.00000</td>\n      <td>0.00000</td>\n      <td>0.00000</td>\n    </tr>\n    <tr>\n      <th>6</th>\n      <td>-0.77639</td>\n      <td>1.02663</td>\n      <td>1.13333</td>\n      <td>-0.94637</td>\n      <td>-0.45420</td>\n      <td>0.00000</td>\n      <td>0.00000</td>\n      <td>1.00000</td>\n      <td>0.00000</td>\n      <td>0.00000</td>\n      <td>...</td>\n      <td>0.00000</td>\n      <td>0.00000</td>\n      <td>0.00000</td>\n      <td>0.00000</td>\n      <td>0.00000</td>\n      <td>0.00000</td>\n      <td>1.00000</td>\n      <td>0.00000</td>\n      <td>0.00000</td>\n      <td>0.00000</td>\n    </tr>\n    <tr>\n      <th>7</th>\n      <td>-0.27787</td>\n      <td>0.88368</td>\n      <td>0.98425</td>\n      <td>1.04800</td>\n      <td>-0.45420</td>\n      <td>0.00000</td>\n      <td>0.00000</td>\n      <td>1.00000</td>\n      <td>0.00000</td>\n      <td>0.00000</td>\n      <td>...</td>\n      <td>0.00000</td>\n      <td>0.00000</td>\n      <td>0.00000</td>\n      <td>0.00000</td>\n      <td>0.00000</td>\n      <td>0.00000</td>\n      <td>1.00000</td>\n      <td>0.00000</td>\n      <td>0.00000</td>\n      <td>0.00000</td>\n    </tr>\n    <tr>\n      <th>...</th>\n      <td>...</td>\n      <td>...</td>\n      <td>...</td>\n      <td>...</td>\n      <td>...</td>\n      <td>...</td>\n      <td>...</td>\n      <td>...</td>\n      <td>...</td>\n      <td>...</td>\n      <td>...</td>\n      <td>...</td>\n      <td>...</td>\n      <td>...</td>\n      <td>...</td>\n      <td>...</td>\n      <td>...</td>\n      <td>...</td>\n      <td>...</td>\n      <td>...</td>\n      <td>...</td>\n    </tr>\n    <tr>\n      <th>3149</th>\n      <td>-0.27787</td>\n      <td>-1.03115</td>\n      <td>-1.01271</td>\n      <td>-0.94637</td>\n      <td>-0.45420</td>\n      <td>0.00000</td>\n      <td>0.00000</td>\n      <td>0.00000</td>\n      <td>0.00000</td>\n      <td>1.00000</td>\n      <td>...</td>\n      <td>0.00000</td>\n      <td>1.00000</td>\n      <td>0.00000</td>\n      <td>0.00000</td>\n      <td>0.00000</td>\n      <td>0.00000</td>\n      <td>0.00000</td>\n      <td>0.00000</td>\n      <td>0.00000</td>\n      <td>0.00000</td>\n    </tr>\n    <tr>\n      <th>3150</th>\n      <td>0.42475</td>\n      <td>-0.06689</td>\n      <td>-0.00710</td>\n      <td>-0.94637</td>\n      <td>-0.45420</td>\n      <td>0.00000</td>\n      <td>0.00000</td>\n      <td>0.00000</td>\n      <td>1.00000</td>\n      <td>0.00000</td>\n      <td>...</td>\n      <td>0.00000</td>\n      <td>1.00000</td>\n      <td>0.00000</td>\n      <td>0.00000</td>\n      <td>0.00000</td>\n      <td>0.00000</td>\n      <td>0.00000</td>\n      <td>0.00000</td>\n      <td>0.00000</td>\n      <td>0.00000</td>\n    </tr>\n    <tr>\n      <th>3152</th>\n      <td>-0.27787</td>\n      <td>-0.32972</td>\n      <td>-0.57875</td>\n      <td>1.02953</td>\n      <td>2.31196</td>\n      <td>0.00000</td>\n      <td>0.00000</td>\n      <td>0.00000</td>\n      <td>0.00000</td>\n      <td>1.00000</td>\n      <td>...</td>\n      <td>0.00000</td>\n      <td>0.00000</td>\n      <td>0.00000</td>\n      <td>1.00000</td>\n      <td>0.00000</td>\n      <td>0.00000</td>\n      <td>0.00000</td>\n      <td>0.00000</td>\n      <td>0.00000</td>\n      <td>0.00000</td>\n    </tr>\n    <tr>\n      <th>3153</th>\n      <td>0.10881</td>\n      <td>-0.48069</td>\n      <td>-0.43864</td>\n      <td>-0.94637</td>\n      <td>-0.45420</td>\n      <td>0.00000</td>\n      <td>0.00000</td>\n      <td>1.00000</td>\n      <td>0.00000</td>\n      <td>0.00000</td>\n      <td>...</td>\n      <td>0.00000</td>\n      <td>0.00000</td>\n      <td>0.00000</td>\n      <td>1.00000</td>\n      <td>0.00000</td>\n      <td>0.00000</td>\n      <td>0.00000</td>\n      <td>0.00000</td>\n      <td>0.00000</td>\n      <td>0.00000</td>\n    </tr>\n    <tr>\n      <th>3155</th>\n      <td>-0.77639</td>\n      <td>-1.14530</td>\n      <td>-1.13176</td>\n      <td>0.91195</td>\n      <td>-0.45420</td>\n      <td>0.00000</td>\n      <td>0.00000</td>\n      <td>0.00000</td>\n      <td>0.00000</td>\n      <td>1.00000</td>\n      <td>...</td>\n      <td>0.00000</td>\n      <td>0.00000</td>\n      <td>0.00000</td>\n      <td>1.00000</td>\n      <td>0.00000</td>\n      <td>0.00000</td>\n      <td>0.00000</td>\n      <td>0.00000</td>\n      <td>0.00000</td>\n      <td>0.00000</td>\n    </tr>\n  </tbody>\n</table>\n<p>2209 rows × 49 columns</p>\n</div>"
     },
     "metadata": {},
     "output_type": "display_data"
    },
    {
     "data": {
      "text/plain": "      Log-NumberofFloors  Log-PropertyGFATotal  Log-PropertyGFABuilding(s)  \\\n1               -0.77639              -0.87606                    -0.85097   \n2               -0.27787              -0.91350                    -0.89002   \n3                2.12442               0.32192                     0.39840   \n9               -0.27787              -1.03850                    -1.02037   \n11              -1.47902              -0.97036                    -0.94931   \n...                  ...                   ...                         ...   \n3147             0.10881              -0.38775                    -0.34171   \n3148            -0.27787              -0.67377                    -0.64000   \n3151            -0.77639              -0.57234                    -0.53422   \n3154             0.42475              -0.57572                    -0.77199   \n3156            -1.47902              -1.27880                    -1.27099   \n\n      Log-SecondLargestPropertyUseTypeGFA  Log-ThirdLargestPropertyUseTypeGFA  \\\n1                                 0.93036                             1.96493   \n2                                -0.94637                            -0.45420   \n3                                -0.94637                            -0.45420   \n9                                -0.94637                            -0.45420   \n11                                0.79300                            -0.45420   \n...                                   ...                                 ...   \n3147                             -0.94637                            -0.45420   \n3148                             -0.94637                            -0.45420   \n3151                              1.02257                             1.73786   \n3154                              0.93076                             1.75015   \n3156                              0.91195                             1.65893   \n\n      BuildingType_Campus  BuildingType_Multifamily HR (10+)  \\\n1                 0.00000                            0.00000   \n2                 0.00000                            0.00000   \n3                 0.00000                            1.00000   \n9                 0.00000                            0.00000   \n11                0.00000                            0.00000   \n...                   ...                                ...   \n3147              0.00000                            0.00000   \n3148              0.00000                            0.00000   \n3151              0.00000                            0.00000   \n3154              0.00000                            0.00000   \n3156              0.00000                            0.00000   \n\n      BuildingType_Multifamily LR (1-4)  BuildingType_Multifamily MR (5-9)  \\\n1                               0.00000                            0.00000   \n2                               1.00000                            0.00000   \n3                               0.00000                            0.00000   \n9                               0.00000                            0.00000   \n11                              0.00000                            0.00000   \n...                                 ...                                ...   \n3147                            0.00000                            0.00000   \n3148                            0.00000                            0.00000   \n3151                            0.00000                            0.00000   \n3154                            0.00000                            0.00000   \n3156                            0.00000                            0.00000   \n\n      BuildingType_NonResidential  ...  Neighborhood_downtown  \\\n1                         1.00000  ...                0.00000   \n2                         0.00000  ...                0.00000   \n3                         0.00000  ...                0.00000   \n9                         1.00000  ...                0.00000   \n11                        1.00000  ...                1.00000   \n...                           ...  ...                    ...   \n3147                      1.00000  ...                0.00000   \n3148                      1.00000  ...                0.00000   \n3151                      1.00000  ...                0.00000   \n3154                      1.00000  ...                0.00000   \n3156                      0.00000  ...                0.00000   \n\n      Neighborhood_east  Neighborhood_greater duwamish  \\\n1               0.00000                        1.00000   \n2               0.00000                        1.00000   \n3               0.00000                        1.00000   \n9               0.00000                        0.00000   \n11              0.00000                        0.00000   \n...                 ...                            ...   \n3147            1.00000                        0.00000   \n3148            1.00000                        0.00000   \n3151            0.00000                        0.00000   \n3154            0.00000                        0.00000   \n3156            0.00000                        1.00000   \n\n      Neighborhood_lake union  Neighborhood_magnolia / queen anne  \\\n1                     0.00000                             0.00000   \n2                     0.00000                             0.00000   \n3                     0.00000                             0.00000   \n9                     0.00000                             0.00000   \n11                    0.00000                             0.00000   \n...                       ...                                 ...   \n3147                  0.00000                             0.00000   \n3148                  0.00000                             0.00000   \n3151                  1.00000                             0.00000   \n3154                  1.00000                             0.00000   \n3156                  0.00000                             0.00000   \n\n      Neighborhood_north  Neighborhood_northeast  Neighborhood_northwest  \\\n1                0.00000                 0.00000                 0.00000   \n2                0.00000                 0.00000                 0.00000   \n3                0.00000                 0.00000                 0.00000   \n9                0.00000                 1.00000                 0.00000   \n11               0.00000                 0.00000                 0.00000   \n...                  ...                     ...                     ...   \n3147             0.00000                 0.00000                 0.00000   \n3148             0.00000                 0.00000                 0.00000   \n3151             0.00000                 0.00000                 0.00000   \n3154             0.00000                 0.00000                 0.00000   \n3156             0.00000                 0.00000                 0.00000   \n\n      Neighborhood_southeast  Neighborhood_southwest  \n1                    0.00000                 0.00000  \n2                    0.00000                 0.00000  \n3                    0.00000                 0.00000  \n9                    0.00000                 0.00000  \n11                   0.00000                 0.00000  \n...                      ...                     ...  \n3147                 0.00000                 0.00000  \n3148                 0.00000                 0.00000  \n3151                 0.00000                 0.00000  \n3154                 0.00000                 0.00000  \n3156                 0.00000                 0.00000  \n\n[948 rows x 49 columns]",
      "text/html": "<div>\n<style scoped>\n    .dataframe tbody tr th:only-of-type {\n        vertical-align: middle;\n    }\n\n    .dataframe tbody tr th {\n        vertical-align: top;\n    }\n\n    .dataframe thead th {\n        text-align: right;\n    }\n</style>\n<table border=\"1\" class=\"dataframe\">\n  <thead>\n    <tr style=\"text-align: right;\">\n      <th></th>\n      <th>Log-NumberofFloors</th>\n      <th>Log-PropertyGFATotal</th>\n      <th>Log-PropertyGFABuilding(s)</th>\n      <th>Log-SecondLargestPropertyUseTypeGFA</th>\n      <th>Log-ThirdLargestPropertyUseTypeGFA</th>\n      <th>BuildingType_Campus</th>\n      <th>BuildingType_Multifamily HR (10+)</th>\n      <th>BuildingType_Multifamily LR (1-4)</th>\n      <th>BuildingType_Multifamily MR (5-9)</th>\n      <th>BuildingType_NonResidential</th>\n      <th>...</th>\n      <th>Neighborhood_downtown</th>\n      <th>Neighborhood_east</th>\n      <th>Neighborhood_greater duwamish</th>\n      <th>Neighborhood_lake union</th>\n      <th>Neighborhood_magnolia / queen anne</th>\n      <th>Neighborhood_north</th>\n      <th>Neighborhood_northeast</th>\n      <th>Neighborhood_northwest</th>\n      <th>Neighborhood_southeast</th>\n      <th>Neighborhood_southwest</th>\n    </tr>\n  </thead>\n  <tbody>\n    <tr>\n      <th>1</th>\n      <td>-0.77639</td>\n      <td>-0.87606</td>\n      <td>-0.85097</td>\n      <td>0.93036</td>\n      <td>1.96493</td>\n      <td>0.00000</td>\n      <td>0.00000</td>\n      <td>0.00000</td>\n      <td>0.00000</td>\n      <td>1.00000</td>\n      <td>...</td>\n      <td>0.00000</td>\n      <td>0.00000</td>\n      <td>1.00000</td>\n      <td>0.00000</td>\n      <td>0.00000</td>\n      <td>0.00000</td>\n      <td>0.00000</td>\n      <td>0.00000</td>\n      <td>0.00000</td>\n      <td>0.00000</td>\n    </tr>\n    <tr>\n      <th>2</th>\n      <td>-0.27787</td>\n      <td>-0.91350</td>\n      <td>-0.89002</td>\n      <td>-0.94637</td>\n      <td>-0.45420</td>\n      <td>0.00000</td>\n      <td>0.00000</td>\n      <td>1.00000</td>\n      <td>0.00000</td>\n      <td>0.00000</td>\n      <td>...</td>\n      <td>0.00000</td>\n      <td>0.00000</td>\n      <td>1.00000</td>\n      <td>0.00000</td>\n      <td>0.00000</td>\n      <td>0.00000</td>\n      <td>0.00000</td>\n      <td>0.00000</td>\n      <td>0.00000</td>\n      <td>0.00000</td>\n    </tr>\n    <tr>\n      <th>3</th>\n      <td>2.12442</td>\n      <td>0.32192</td>\n      <td>0.39840</td>\n      <td>-0.94637</td>\n      <td>-0.45420</td>\n      <td>0.00000</td>\n      <td>1.00000</td>\n      <td>0.00000</td>\n      <td>0.00000</td>\n      <td>0.00000</td>\n      <td>...</td>\n      <td>0.00000</td>\n      <td>0.00000</td>\n      <td>1.00000</td>\n      <td>0.00000</td>\n      <td>0.00000</td>\n      <td>0.00000</td>\n      <td>0.00000</td>\n      <td>0.00000</td>\n      <td>0.00000</td>\n      <td>0.00000</td>\n    </tr>\n    <tr>\n      <th>9</th>\n      <td>-0.27787</td>\n      <td>-1.03850</td>\n      <td>-1.02037</td>\n      <td>-0.94637</td>\n      <td>-0.45420</td>\n      <td>0.00000</td>\n      <td>0.00000</td>\n      <td>0.00000</td>\n      <td>0.00000</td>\n      <td>1.00000</td>\n      <td>...</td>\n      <td>0.00000</td>\n      <td>0.00000</td>\n      <td>0.00000</td>\n      <td>0.00000</td>\n      <td>0.00000</td>\n      <td>0.00000</td>\n      <td>1.00000</td>\n      <td>0.00000</td>\n      <td>0.00000</td>\n      <td>0.00000</td>\n    </tr>\n    <tr>\n      <th>11</th>\n      <td>-1.47902</td>\n      <td>-0.97036</td>\n      <td>-0.94931</td>\n      <td>0.79300</td>\n      <td>-0.45420</td>\n      <td>0.00000</td>\n      <td>0.00000</td>\n      <td>0.00000</td>\n      <td>0.00000</td>\n      <td>1.00000</td>\n      <td>...</td>\n      <td>1.00000</td>\n      <td>0.00000</td>\n      <td>0.00000</td>\n      <td>0.00000</td>\n      <td>0.00000</td>\n      <td>0.00000</td>\n      <td>0.00000</td>\n      <td>0.00000</td>\n      <td>0.00000</td>\n      <td>0.00000</td>\n    </tr>\n    <tr>\n      <th>...</th>\n      <td>...</td>\n      <td>...</td>\n      <td>...</td>\n      <td>...</td>\n      <td>...</td>\n      <td>...</td>\n      <td>...</td>\n      <td>...</td>\n      <td>...</td>\n      <td>...</td>\n      <td>...</td>\n      <td>...</td>\n      <td>...</td>\n      <td>...</td>\n      <td>...</td>\n      <td>...</td>\n      <td>...</td>\n      <td>...</td>\n      <td>...</td>\n      <td>...</td>\n      <td>...</td>\n    </tr>\n    <tr>\n      <th>3147</th>\n      <td>0.10881</td>\n      <td>-0.38775</td>\n      <td>-0.34171</td>\n      <td>-0.94637</td>\n      <td>-0.45420</td>\n      <td>0.00000</td>\n      <td>0.00000</td>\n      <td>0.00000</td>\n      <td>0.00000</td>\n      <td>1.00000</td>\n      <td>...</td>\n      <td>0.00000</td>\n      <td>1.00000</td>\n      <td>0.00000</td>\n      <td>0.00000</td>\n      <td>0.00000</td>\n      <td>0.00000</td>\n      <td>0.00000</td>\n      <td>0.00000</td>\n      <td>0.00000</td>\n      <td>0.00000</td>\n    </tr>\n    <tr>\n      <th>3148</th>\n      <td>-0.27787</td>\n      <td>-0.67377</td>\n      <td>-0.64000</td>\n      <td>-0.94637</td>\n      <td>-0.45420</td>\n      <td>0.00000</td>\n      <td>0.00000</td>\n      <td>0.00000</td>\n      <td>0.00000</td>\n      <td>1.00000</td>\n      <td>...</td>\n      <td>0.00000</td>\n      <td>1.00000</td>\n      <td>0.00000</td>\n      <td>0.00000</td>\n      <td>0.00000</td>\n      <td>0.00000</td>\n      <td>0.00000</td>\n      <td>0.00000</td>\n      <td>0.00000</td>\n      <td>0.00000</td>\n    </tr>\n    <tr>\n      <th>3151</th>\n      <td>-0.77639</td>\n      <td>-0.57234</td>\n      <td>-0.53422</td>\n      <td>1.02257</td>\n      <td>1.73786</td>\n      <td>0.00000</td>\n      <td>0.00000</td>\n      <td>0.00000</td>\n      <td>0.00000</td>\n      <td>1.00000</td>\n      <td>...</td>\n      <td>0.00000</td>\n      <td>0.00000</td>\n      <td>0.00000</td>\n      <td>1.00000</td>\n      <td>0.00000</td>\n      <td>0.00000</td>\n      <td>0.00000</td>\n      <td>0.00000</td>\n      <td>0.00000</td>\n      <td>0.00000</td>\n    </tr>\n    <tr>\n      <th>3154</th>\n      <td>0.42475</td>\n      <td>-0.57572</td>\n      <td>-0.77199</td>\n      <td>0.93076</td>\n      <td>1.75015</td>\n      <td>0.00000</td>\n      <td>0.00000</td>\n      <td>0.00000</td>\n      <td>0.00000</td>\n      <td>1.00000</td>\n      <td>...</td>\n      <td>0.00000</td>\n      <td>0.00000</td>\n      <td>0.00000</td>\n      <td>1.00000</td>\n      <td>0.00000</td>\n      <td>0.00000</td>\n      <td>0.00000</td>\n      <td>0.00000</td>\n      <td>0.00000</td>\n      <td>0.00000</td>\n    </tr>\n    <tr>\n      <th>3156</th>\n      <td>-1.47902</td>\n      <td>-1.27880</td>\n      <td>-1.27099</td>\n      <td>0.91195</td>\n      <td>1.65893</td>\n      <td>0.00000</td>\n      <td>0.00000</td>\n      <td>0.00000</td>\n      <td>0.00000</td>\n      <td>0.00000</td>\n      <td>...</td>\n      <td>0.00000</td>\n      <td>0.00000</td>\n      <td>1.00000</td>\n      <td>0.00000</td>\n      <td>0.00000</td>\n      <td>0.00000</td>\n      <td>0.00000</td>\n      <td>0.00000</td>\n      <td>0.00000</td>\n      <td>0.00000</td>\n    </tr>\n  </tbody>\n</table>\n<p>948 rows × 49 columns</p>\n</div>"
     },
     "metadata": {},
     "output_type": "display_data"
    },
    {
     "name": "stdout",
     "output_type": "stream",
     "text": [
      "(2209,) (948,)\n"
     ]
    }
   ],
   "source": [
    "print(\"We can start now the modelling to predict the feature wanted.\")\n",
    "\n",
    "display(X_train_std_encoded)\n",
    "display(X_test_std_encoded)\n",
    "print(y_train.shape, y_test.shape)"
   ],
   "metadata": {
    "collapsed": false,
    "pycharm": {
     "name": "#%%\n"
    }
   }
  },
  {
   "cell_type": "code",
   "execution_count": 267,
   "outputs": [],
   "source": [
    "from sklearn.model_selection import GridSearchCV\n",
    "from sklearn.metrics import mean_squared_error"
   ],
   "metadata": {
    "collapsed": false,
    "pycharm": {
     "name": "#%%\n"
    }
   }
  },
  {
   "cell_type": "code",
   "execution_count": 268,
   "outputs": [
    {
     "name": "stdout",
     "output_type": "stream",
     "text": [
      "We rename X_train_std_encoded to X_train, the same for X_test.\n"
     ]
    },
    {
     "data": {
      "text/plain": "      Log-NumberofFloors  Log-PropertyGFATotal  Log-PropertyGFABuilding(s)  \\\n1               -0.77639              -0.87606                    -0.85097   \n2               -0.27787              -0.91350                    -0.89002   \n3                2.12442               0.32192                     0.39840   \n9               -0.27787              -1.03850                    -1.02037   \n11              -1.47902              -0.97036                    -0.94931   \n...                  ...                   ...                         ...   \n3147             0.10881              -0.38775                    -0.34171   \n3148            -0.27787              -0.67377                    -0.64000   \n3151            -0.77639              -0.57234                    -0.53422   \n3154             0.42475              -0.57572                    -0.77199   \n3156            -1.47902              -1.27880                    -1.27099   \n\n      Log-SecondLargestPropertyUseTypeGFA  Log-ThirdLargestPropertyUseTypeGFA  \\\n1                                 0.93036                             1.96493   \n2                                -0.94637                            -0.45420   \n3                                -0.94637                            -0.45420   \n9                                -0.94637                            -0.45420   \n11                                0.79300                            -0.45420   \n...                                   ...                                 ...   \n3147                             -0.94637                            -0.45420   \n3148                             -0.94637                            -0.45420   \n3151                              1.02257                             1.73786   \n3154                              0.93076                             1.75015   \n3156                              0.91195                             1.65893   \n\n      BuildingType_Campus  BuildingType_Multifamily HR (10+)  \\\n1                 0.00000                            0.00000   \n2                 0.00000                            0.00000   \n3                 0.00000                            1.00000   \n9                 0.00000                            0.00000   \n11                0.00000                            0.00000   \n...                   ...                                ...   \n3147              0.00000                            0.00000   \n3148              0.00000                            0.00000   \n3151              0.00000                            0.00000   \n3154              0.00000                            0.00000   \n3156              0.00000                            0.00000   \n\n      BuildingType_Multifamily LR (1-4)  BuildingType_Multifamily MR (5-9)  \\\n1                               0.00000                            0.00000   \n2                               1.00000                            0.00000   \n3                               0.00000                            0.00000   \n9                               0.00000                            0.00000   \n11                              0.00000                            0.00000   \n...                                 ...                                ...   \n3147                            0.00000                            0.00000   \n3148                            0.00000                            0.00000   \n3151                            0.00000                            0.00000   \n3154                            0.00000                            0.00000   \n3156                            0.00000                            0.00000   \n\n      BuildingType_NonResidential  ...  Neighborhood_downtown  \\\n1                         1.00000  ...                0.00000   \n2                         0.00000  ...                0.00000   \n3                         0.00000  ...                0.00000   \n9                         1.00000  ...                0.00000   \n11                        1.00000  ...                1.00000   \n...                           ...  ...                    ...   \n3147                      1.00000  ...                0.00000   \n3148                      1.00000  ...                0.00000   \n3151                      1.00000  ...                0.00000   \n3154                      1.00000  ...                0.00000   \n3156                      0.00000  ...                0.00000   \n\n      Neighborhood_east  Neighborhood_greater duwamish  \\\n1               0.00000                        1.00000   \n2               0.00000                        1.00000   \n3               0.00000                        1.00000   \n9               0.00000                        0.00000   \n11              0.00000                        0.00000   \n...                 ...                            ...   \n3147            1.00000                        0.00000   \n3148            1.00000                        0.00000   \n3151            0.00000                        0.00000   \n3154            0.00000                        0.00000   \n3156            0.00000                        1.00000   \n\n      Neighborhood_lake union  Neighborhood_magnolia / queen anne  \\\n1                     0.00000                             0.00000   \n2                     0.00000                             0.00000   \n3                     0.00000                             0.00000   \n9                     0.00000                             0.00000   \n11                    0.00000                             0.00000   \n...                       ...                                 ...   \n3147                  0.00000                             0.00000   \n3148                  0.00000                             0.00000   \n3151                  1.00000                             0.00000   \n3154                  1.00000                             0.00000   \n3156                  0.00000                             0.00000   \n\n      Neighborhood_north  Neighborhood_northeast  Neighborhood_northwest  \\\n1                0.00000                 0.00000                 0.00000   \n2                0.00000                 0.00000                 0.00000   \n3                0.00000                 0.00000                 0.00000   \n9                0.00000                 1.00000                 0.00000   \n11               0.00000                 0.00000                 0.00000   \n...                  ...                     ...                     ...   \n3147             0.00000                 0.00000                 0.00000   \n3148             0.00000                 0.00000                 0.00000   \n3151             0.00000                 0.00000                 0.00000   \n3154             0.00000                 0.00000                 0.00000   \n3156             0.00000                 0.00000                 0.00000   \n\n      Neighborhood_southeast  Neighborhood_southwest  \n1                    0.00000                 0.00000  \n2                    0.00000                 0.00000  \n3                    0.00000                 0.00000  \n9                    0.00000                 0.00000  \n11                   0.00000                 0.00000  \n...                      ...                     ...  \n3147                 0.00000                 0.00000  \n3148                 0.00000                 0.00000  \n3151                 0.00000                 0.00000  \n3154                 0.00000                 0.00000  \n3156                 0.00000                 0.00000  \n\n[948 rows x 49 columns]",
      "text/html": "<div>\n<style scoped>\n    .dataframe tbody tr th:only-of-type {\n        vertical-align: middle;\n    }\n\n    .dataframe tbody tr th {\n        vertical-align: top;\n    }\n\n    .dataframe thead th {\n        text-align: right;\n    }\n</style>\n<table border=\"1\" class=\"dataframe\">\n  <thead>\n    <tr style=\"text-align: right;\">\n      <th></th>\n      <th>Log-NumberofFloors</th>\n      <th>Log-PropertyGFATotal</th>\n      <th>Log-PropertyGFABuilding(s)</th>\n      <th>Log-SecondLargestPropertyUseTypeGFA</th>\n      <th>Log-ThirdLargestPropertyUseTypeGFA</th>\n      <th>BuildingType_Campus</th>\n      <th>BuildingType_Multifamily HR (10+)</th>\n      <th>BuildingType_Multifamily LR (1-4)</th>\n      <th>BuildingType_Multifamily MR (5-9)</th>\n      <th>BuildingType_NonResidential</th>\n      <th>...</th>\n      <th>Neighborhood_downtown</th>\n      <th>Neighborhood_east</th>\n      <th>Neighborhood_greater duwamish</th>\n      <th>Neighborhood_lake union</th>\n      <th>Neighborhood_magnolia / queen anne</th>\n      <th>Neighborhood_north</th>\n      <th>Neighborhood_northeast</th>\n      <th>Neighborhood_northwest</th>\n      <th>Neighborhood_southeast</th>\n      <th>Neighborhood_southwest</th>\n    </tr>\n  </thead>\n  <tbody>\n    <tr>\n      <th>1</th>\n      <td>-0.77639</td>\n      <td>-0.87606</td>\n      <td>-0.85097</td>\n      <td>0.93036</td>\n      <td>1.96493</td>\n      <td>0.00000</td>\n      <td>0.00000</td>\n      <td>0.00000</td>\n      <td>0.00000</td>\n      <td>1.00000</td>\n      <td>...</td>\n      <td>0.00000</td>\n      <td>0.00000</td>\n      <td>1.00000</td>\n      <td>0.00000</td>\n      <td>0.00000</td>\n      <td>0.00000</td>\n      <td>0.00000</td>\n      <td>0.00000</td>\n      <td>0.00000</td>\n      <td>0.00000</td>\n    </tr>\n    <tr>\n      <th>2</th>\n      <td>-0.27787</td>\n      <td>-0.91350</td>\n      <td>-0.89002</td>\n      <td>-0.94637</td>\n      <td>-0.45420</td>\n      <td>0.00000</td>\n      <td>0.00000</td>\n      <td>1.00000</td>\n      <td>0.00000</td>\n      <td>0.00000</td>\n      <td>...</td>\n      <td>0.00000</td>\n      <td>0.00000</td>\n      <td>1.00000</td>\n      <td>0.00000</td>\n      <td>0.00000</td>\n      <td>0.00000</td>\n      <td>0.00000</td>\n      <td>0.00000</td>\n      <td>0.00000</td>\n      <td>0.00000</td>\n    </tr>\n    <tr>\n      <th>3</th>\n      <td>2.12442</td>\n      <td>0.32192</td>\n      <td>0.39840</td>\n      <td>-0.94637</td>\n      <td>-0.45420</td>\n      <td>0.00000</td>\n      <td>1.00000</td>\n      <td>0.00000</td>\n      <td>0.00000</td>\n      <td>0.00000</td>\n      <td>...</td>\n      <td>0.00000</td>\n      <td>0.00000</td>\n      <td>1.00000</td>\n      <td>0.00000</td>\n      <td>0.00000</td>\n      <td>0.00000</td>\n      <td>0.00000</td>\n      <td>0.00000</td>\n      <td>0.00000</td>\n      <td>0.00000</td>\n    </tr>\n    <tr>\n      <th>9</th>\n      <td>-0.27787</td>\n      <td>-1.03850</td>\n      <td>-1.02037</td>\n      <td>-0.94637</td>\n      <td>-0.45420</td>\n      <td>0.00000</td>\n      <td>0.00000</td>\n      <td>0.00000</td>\n      <td>0.00000</td>\n      <td>1.00000</td>\n      <td>...</td>\n      <td>0.00000</td>\n      <td>0.00000</td>\n      <td>0.00000</td>\n      <td>0.00000</td>\n      <td>0.00000</td>\n      <td>0.00000</td>\n      <td>1.00000</td>\n      <td>0.00000</td>\n      <td>0.00000</td>\n      <td>0.00000</td>\n    </tr>\n    <tr>\n      <th>11</th>\n      <td>-1.47902</td>\n      <td>-0.97036</td>\n      <td>-0.94931</td>\n      <td>0.79300</td>\n      <td>-0.45420</td>\n      <td>0.00000</td>\n      <td>0.00000</td>\n      <td>0.00000</td>\n      <td>0.00000</td>\n      <td>1.00000</td>\n      <td>...</td>\n      <td>1.00000</td>\n      <td>0.00000</td>\n      <td>0.00000</td>\n      <td>0.00000</td>\n      <td>0.00000</td>\n      <td>0.00000</td>\n      <td>0.00000</td>\n      <td>0.00000</td>\n      <td>0.00000</td>\n      <td>0.00000</td>\n    </tr>\n    <tr>\n      <th>...</th>\n      <td>...</td>\n      <td>...</td>\n      <td>...</td>\n      <td>...</td>\n      <td>...</td>\n      <td>...</td>\n      <td>...</td>\n      <td>...</td>\n      <td>...</td>\n      <td>...</td>\n      <td>...</td>\n      <td>...</td>\n      <td>...</td>\n      <td>...</td>\n      <td>...</td>\n      <td>...</td>\n      <td>...</td>\n      <td>...</td>\n      <td>...</td>\n      <td>...</td>\n      <td>...</td>\n    </tr>\n    <tr>\n      <th>3147</th>\n      <td>0.10881</td>\n      <td>-0.38775</td>\n      <td>-0.34171</td>\n      <td>-0.94637</td>\n      <td>-0.45420</td>\n      <td>0.00000</td>\n      <td>0.00000</td>\n      <td>0.00000</td>\n      <td>0.00000</td>\n      <td>1.00000</td>\n      <td>...</td>\n      <td>0.00000</td>\n      <td>1.00000</td>\n      <td>0.00000</td>\n      <td>0.00000</td>\n      <td>0.00000</td>\n      <td>0.00000</td>\n      <td>0.00000</td>\n      <td>0.00000</td>\n      <td>0.00000</td>\n      <td>0.00000</td>\n    </tr>\n    <tr>\n      <th>3148</th>\n      <td>-0.27787</td>\n      <td>-0.67377</td>\n      <td>-0.64000</td>\n      <td>-0.94637</td>\n      <td>-0.45420</td>\n      <td>0.00000</td>\n      <td>0.00000</td>\n      <td>0.00000</td>\n      <td>0.00000</td>\n      <td>1.00000</td>\n      <td>...</td>\n      <td>0.00000</td>\n      <td>1.00000</td>\n      <td>0.00000</td>\n      <td>0.00000</td>\n      <td>0.00000</td>\n      <td>0.00000</td>\n      <td>0.00000</td>\n      <td>0.00000</td>\n      <td>0.00000</td>\n      <td>0.00000</td>\n    </tr>\n    <tr>\n      <th>3151</th>\n      <td>-0.77639</td>\n      <td>-0.57234</td>\n      <td>-0.53422</td>\n      <td>1.02257</td>\n      <td>1.73786</td>\n      <td>0.00000</td>\n      <td>0.00000</td>\n      <td>0.00000</td>\n      <td>0.00000</td>\n      <td>1.00000</td>\n      <td>...</td>\n      <td>0.00000</td>\n      <td>0.00000</td>\n      <td>0.00000</td>\n      <td>1.00000</td>\n      <td>0.00000</td>\n      <td>0.00000</td>\n      <td>0.00000</td>\n      <td>0.00000</td>\n      <td>0.00000</td>\n      <td>0.00000</td>\n    </tr>\n    <tr>\n      <th>3154</th>\n      <td>0.42475</td>\n      <td>-0.57572</td>\n      <td>-0.77199</td>\n      <td>0.93076</td>\n      <td>1.75015</td>\n      <td>0.00000</td>\n      <td>0.00000</td>\n      <td>0.00000</td>\n      <td>0.00000</td>\n      <td>1.00000</td>\n      <td>...</td>\n      <td>0.00000</td>\n      <td>0.00000</td>\n      <td>0.00000</td>\n      <td>1.00000</td>\n      <td>0.00000</td>\n      <td>0.00000</td>\n      <td>0.00000</td>\n      <td>0.00000</td>\n      <td>0.00000</td>\n      <td>0.00000</td>\n    </tr>\n    <tr>\n      <th>3156</th>\n      <td>-1.47902</td>\n      <td>-1.27880</td>\n      <td>-1.27099</td>\n      <td>0.91195</td>\n      <td>1.65893</td>\n      <td>0.00000</td>\n      <td>0.00000</td>\n      <td>0.00000</td>\n      <td>0.00000</td>\n      <td>0.00000</td>\n      <td>...</td>\n      <td>0.00000</td>\n      <td>0.00000</td>\n      <td>1.00000</td>\n      <td>0.00000</td>\n      <td>0.00000</td>\n      <td>0.00000</td>\n      <td>0.00000</td>\n      <td>0.00000</td>\n      <td>0.00000</td>\n      <td>0.00000</td>\n    </tr>\n  </tbody>\n</table>\n<p>948 rows × 49 columns</p>\n</div>"
     },
     "execution_count": 268,
     "metadata": {},
     "output_type": "execute_result"
    }
   ],
   "source": [
    "print(\"We rename X_train_std_encoded to X_train, the same for X_test.\")\n",
    "X_train = X_train_std_encoded.copy()\n",
    "X_test = X_test_std_encoded.copy()\n",
    "\n",
    "X_train\n",
    "X_test"
   ],
   "metadata": {
    "collapsed": false,
    "pycharm": {
     "name": "#%%\n"
    }
   }
  },
  {
   "cell_type": "markdown",
   "source": [
    "### 1) Linear modelling : Linear Regression / Ridge Regression / Lasso / Elastic Net\n"
   ],
   "metadata": {
    "collapsed": false,
    "pycharm": {
     "name": "#%% md\n"
    }
   }
  },
  {
   "cell_type": "code",
   "execution_count": 269,
   "outputs": [
    {
     "data": {
      "text/plain": "(2209, 49)"
     },
     "execution_count": 269,
     "metadata": {},
     "output_type": "execute_result"
    }
   ],
   "source": [
    "X_train.shape"
   ],
   "metadata": {
    "collapsed": false,
    "pycharm": {
     "name": "#%%\n"
    }
   }
  },
  {
   "cell_type": "code",
   "execution_count": 270,
   "outputs": [
    {
     "data": {
      "text/plain": "(948, 49)"
     },
     "execution_count": 270,
     "metadata": {},
     "output_type": "execute_result"
    }
   ],
   "source": [
    "X_test.shape"
   ],
   "metadata": {
    "collapsed": false,
    "pycharm": {
     "name": "#%%\n"
    }
   }
  },
  {
   "cell_type": "markdown",
   "source": [
    "#### 1) Dummy Regression : baseline"
   ],
   "metadata": {
    "collapsed": false,
    "pycharm": {
     "name": "#%% md\n"
    }
   }
  },
  {
   "cell_type": "code",
   "execution_count": 271,
   "outputs": [],
   "source": [
    "from sklearn.metrics import mean_absolute_error, r2_score, mean_squared_error, median_absolute_error\n",
    "\n",
    "pd.set_option('display.float_format', lambda x: '%.5f' % x)\n",
    "\n",
    "global results\n",
    "results = pd.DataFrame({})\n",
    "\n",
    "def evaluate_regression(model_name, results, y_test, y_pred):\n",
    "    print(\"Prediction for : \", variable_to_predict)\n",
    "    mse = mean_squared_error(y_test, y_pred)\n",
    "    rmse = np.sqrt(mean_squared_error(y_test, y_pred))\n",
    "    mae = mean_absolute_error(y_test,y_pred)\n",
    "    median_ae = median_absolute_error(y_test, y_pred)\n",
    "    r2 = r2_score(y_test, y_pred)\n",
    "\n",
    "    #print(\"RMSE : {:.2f}\".format(rmse))\n",
    "    #print(\"MAE : {:.2f}\".format(mae))\n",
    "    #print(\"MSE : {:.2f}\".format(mse))\n",
    "    #print(\"R² : {:.2f}\".format(r2))\n",
    "    results = pd.concat([results, pd.DataFrame({\"Model\" : [model_name],\n",
    "                               \"RMSE\" : [rmse],\n",
    "                                \"MSE\": [mse],\n",
    "                                \"MAE\" : [mae],\n",
    "                                \"Median Absolute Error\": [median_ae],\n",
    "                               \"R² = 1 - RSE\" : [r2]})])\n",
    "    display(results)\n",
    "\n",
    "    # 2) graph\n",
    "    plt.title(\"Scatter plot of the predicted values as a function of the true values.\")\n",
    "    plt.legend(\"If the prediction was good, we would see a line.\")\n",
    "    plt.figure(0)\n",
    "    plt.scatter(y_test, y_pred, color='coral')\n",
    "\n",
    "    plt.title(\"Distribution of the prediction errors\")\n",
    "    err_hist = np.abs(y_test - y_pred)\n",
    "    plt.figure(1)\n",
    "    plt.hist(err_hist, bins=50, color='steelblue')\n",
    "\n",
    "    return  results\n"
   ],
   "metadata": {
    "collapsed": false,
    "pycharm": {
     "name": "#%%\n"
    }
   }
  },
  {
   "cell_type": "code",
   "execution_count": 272,
   "outputs": [],
   "source": [
    "def display_prediction(y_test, y_pred):\n",
    "    #plt.scatter(y_test, y_pred, color='coral')\n",
    "\n",
    "    sizes = {} # clé : coordonnées ; valeur : nombre de points à ces coordonnées\n",
    "    for (yt, yp) in zip(list(y_test), list(y_pred)):\n",
    "        if (yt, yp) in sizes:\n",
    "            sizes[(yt, yp)] += 1\n",
    "        else:\n",
    "            sizes[(yt, yp)] = 1\n",
    "\n",
    "    keys = sizes.keys()\n",
    "    plt.scatter(\n",
    "        [k[0] for k in keys], # vraie valeur (abscisse)\n",
    "        [k[1] for k in keys], # valeur predite (ordonnee)\n",
    "        s=[sizes[k] for k in keys], # taille du marqueur\n",
    "        color='coral', alpha =0.8)\n"
   ],
   "metadata": {
    "collapsed": false,
    "pycharm": {
     "name": "#%%\n"
    }
   }
  },
  {
   "cell_type": "code",
   "execution_count": 273,
   "outputs": [
    {
     "name": "stdout",
     "output_type": "stream",
     "text": [
      "Prediction for :  Log-Electricity(kBtu)\n"
     ]
    },
    {
     "data": {
      "text/plain": "             Model    RMSE     MSE     MAE  Median Absolute Error  \\\n0  Dummy Regressor 1.19055 1.41742 0.93884                0.76211   \n\n   R² = 1 - RSE  \n0      -0.00016  ",
      "text/html": "<div>\n<style scoped>\n    .dataframe tbody tr th:only-of-type {\n        vertical-align: middle;\n    }\n\n    .dataframe tbody tr th {\n        vertical-align: top;\n    }\n\n    .dataframe thead th {\n        text-align: right;\n    }\n</style>\n<table border=\"1\" class=\"dataframe\">\n  <thead>\n    <tr style=\"text-align: right;\">\n      <th></th>\n      <th>Model</th>\n      <th>RMSE</th>\n      <th>MSE</th>\n      <th>MAE</th>\n      <th>Median Absolute Error</th>\n      <th>R² = 1 - RSE</th>\n    </tr>\n  </thead>\n  <tbody>\n    <tr>\n      <th>0</th>\n      <td>Dummy Regressor</td>\n      <td>1.19055</td>\n      <td>1.41742</td>\n      <td>0.93884</td>\n      <td>0.76211</td>\n      <td>-0.00016</td>\n    </tr>\n  </tbody>\n</table>\n</div>"
     },
     "metadata": {},
     "output_type": "display_data"
    },
    {
     "data": {
      "text/plain": "<Figure size 432x288 with 1 Axes>",
      "image/png": "[encoded data removed]"
     },
     "metadata": {
      "needs_background": "light"
     },
     "output_type": "display_data"
    },
    {
     "data": {
      "text/plain": "<Figure size 432x288 with 1 Axes>",
      "image/png": "[encoded data removed]"
     },
     "metadata": {
      "needs_background": "light"
     },
     "output_type": "display_data"
    }
   ],
   "source": [
    "from sklearn import dummy\n",
    "\n",
    "# 0) We create a dummy regressor model that always predicts the mean value of the feature to predict\n",
    "dum = dummy.DummyRegressor(strategy='mean')\n",
    "\n",
    "# 1) Training Dummy Regression\n",
    "dum.fit(X_train, y_train)\n",
    "\n",
    "# 2) Prediction on the testing set\n",
    "y_pred_dum = dum.predict(X_test)\n",
    "\n",
    "# 3) Evaluate\n",
    "results = evaluate_regression(\"Dummy Regressor\", results, y_test, y_pred_dum)"
   ],
   "metadata": {
    "collapsed": false,
    "pycharm": {
     "name": "#%%\n"
    }
   }
  },
  {
   "cell_type": "code",
   "execution_count": 274,
   "outputs": [
    {
     "name": "stdout",
     "output_type": "stream",
     "text": [
      "R2 : -0.050334021796269335\n",
      "Prediction for :  Log-Electricity(kBtu)\n"
     ]
    },
    {
     "data": {
      "text/plain": "               Model    RMSE     MSE     MAE  Median Absolute Error  \\\n0    Dummy Regressor 1.19055 1.41742 0.93884                0.76211   \n0  Linear Regression 1.22005 1.48853 0.95991                0.79181   \n\n   R² = 1 - RSE  \n0      -0.00016  \n0      -0.05033  ",
      "text/html": "<div>\n<style scoped>\n    .dataframe tbody tr th:only-of-type {\n        vertical-align: middle;\n    }\n\n    .dataframe tbody tr th {\n        vertical-align: top;\n    }\n\n    .dataframe thead th {\n        text-align: right;\n    }\n</style>\n<table border=\"1\" class=\"dataframe\">\n  <thead>\n    <tr style=\"text-align: right;\">\n      <th></th>\n      <th>Model</th>\n      <th>RMSE</th>\n      <th>MSE</th>\n      <th>MAE</th>\n      <th>Median Absolute Error</th>\n      <th>R² = 1 - RSE</th>\n    </tr>\n  </thead>\n  <tbody>\n    <tr>\n      <th>0</th>\n      <td>Dummy Regressor</td>\n      <td>1.19055</td>\n      <td>1.41742</td>\n      <td>0.93884</td>\n      <td>0.76211</td>\n      <td>-0.00016</td>\n    </tr>\n    <tr>\n      <th>0</th>\n      <td>Linear Regression</td>\n      <td>1.22005</td>\n      <td>1.48853</td>\n      <td>0.95991</td>\n      <td>0.79181</td>\n      <td>-0.05033</td>\n    </tr>\n  </tbody>\n</table>\n</div>"
     },
     "metadata": {},
     "output_type": "display_data"
    },
    {
     "data": {
      "text/plain": "<Figure size 432x288 with 1 Axes>",
      "image/png": "[encoded data removed]"
     },
     "metadata": {
      "needs_background": "light"
     },
     "output_type": "display_data"
    },
    {
     "data": {
      "text/plain": "<Figure size 432x288 with 1 Axes>",
      "image/png": "[encoded data removed]"
     },
     "metadata": {
      "needs_background": "light"
     },
     "output_type": "display_data"
    }
   ],
   "source": [
    "from sklearn import linear_model\n",
    "\n",
    "# 0) We create a linear regression model\n",
    "lr = linear_model.LinearRegression()\n",
    "\n",
    "# 1) Training Linear Regression and Evaluating\n",
    "reg = lr.fit(X_train, y_train)\n",
    "y_pred_lr = reg.predict(X_test)\n",
    "\n",
    "prediction_score = lr.score(X_test, y_test)\n",
    "print('R2 : {}'.format(prediction_score))\n",
    "\n",
    "results = evaluate_regression(\"Linear Regression\", results, y_test, y_pred_lr)"
   ],
   "metadata": {
    "collapsed": false,
    "pycharm": {
     "name": "#%%\n"
    }
   }
  },
  {
   "cell_type": "code",
   "execution_count": 275,
   "outputs": [
    {
     "name": "stdout",
     "output_type": "stream",
     "text": [
      "Baseline error = MSE from Dummy Regressor : 1.417418177914121\n"
     ]
    }
   ],
   "source": [
    "baseline_error = mean_squared_error(y_test, y_pred_dum)\n",
    "print(\"Baseline error = MSE from Dummy Regressor :\", baseline_error)"
   ],
   "metadata": {
    "collapsed": false,
    "pycharm": {
     "name": "#%%\n"
    }
   }
  },
  {
   "cell_type": "markdown",
   "source": [
    "#### 2) Linear Model : Ridge"
   ],
   "metadata": {
    "collapsed": false,
    "pycharm": {
     "name": "#%% md\n"
    }
   }
  },
  {
   "cell_type": "code",
   "execution_count": 276,
   "outputs": [],
   "source": [
    "# Setting evaluation metric for regression\n",
    "scoring = 'r2'"
   ],
   "metadata": {
    "collapsed": false,
    "pycharm": {
     "name": "#%%\n"
    }
   }
  },
  {
   "cell_type": "markdown",
   "source": [
    "##### 2.1) Trying Ridge Regression / Manual optimisation hyperparameter"
   ],
   "metadata": {
    "collapsed": false,
    "pycharm": {
     "name": "#%% md\n"
    }
   }
  },
  {
   "cell_type": "markdown",
   "source": [
    "##### 1. Searching for the best hyperparameter alpha"
   ],
   "metadata": {
    "collapsed": false,
    "pycharm": {
     "name": "#%% md\n"
    }
   }
  },
  {
   "cell_type": "code",
   "execution_count": 277,
   "outputs": [],
   "source": [
    "n_alphas = 1000 # hyperparametre alpha\n",
    "alphas = np.logspace(2, 5, n_alphas)\n",
    "\n",
    "ridge = linear_model.Ridge()\n",
    "\n",
    "coefs = []\n",
    "errors = []\n",
    "for a in alphas:\n",
    "    ridge.set_params(alpha=a)\n",
    "    ridge.fit(X_train, y_train)\n",
    "    y_pred_ridge = ridge.predict(X_test)\n",
    "    coefs.append(ridge.coef_)\n",
    "    errors.append(np.mean((y_pred_ridge - y_test) ** 2))\n",
    "    #print(\"HERE :\", np.mean(( - y_test) ** 2), \"MSE :\", mean_squared_error(y_test, ridge.predict(X_test)))"
   ],
   "metadata": {
    "collapsed": false,
    "pycharm": {
     "name": "#%%\n"
    }
   }
  },
  {
   "cell_type": "markdown",
   "source": [
    "##### 2. Visualizing optimisation of alpha"
   ],
   "metadata": {
    "collapsed": false,
    "pycharm": {
     "name": "#%% md\n"
    }
   }
  },
  {
   "cell_type": "code",
   "execution_count": 278,
   "outputs": [
    {
     "name": "stdout",
     "output_type": "stream",
     "text": [
      "Minimum Mean Squared Error for Ridge Regression : 1.417536073415985\n",
      "Best alpha for that minimal MSE :  100000.0\n"
     ]
    },
    {
     "data": {
      "text/plain": "(70.79457843841381, 141253.75446227554, 1.4160378552037762, 1.446404954831364)"
     },
     "execution_count": 278,
     "metadata": {},
     "output_type": "execute_result"
    },
    {
     "data": {
      "text/plain": "<Figure size 432x288 with 1 Axes>",
      "image/png": "[encoded data removed]"
     },
     "metadata": {
      "needs_background": "light"
     },
     "output_type": "display_data"
    }
   ],
   "source": [
    "# recupere l'erreur min\n",
    "print(\"Minimum Mean Squared Error for Ridge Regression :\", errors[np.argmin(errors)])\n",
    "print(\"Best alpha for that minimal MSE : \", alphas[np.argmin(errors)])\n",
    "\n",
    "#Observation of the error behaviour\n",
    "ax = plt.gca()\n",
    "ax.plot(alphas, errors, [10**2, 10**5], [baseline_error, baseline_error])\n",
    "ax.set_xscale('log')\n",
    "\n",
    "plt.xlabel('alpha : hyperparameter')\n",
    "plt.ylabel('error : MSE')\n",
    "plt.axis('tight')"
   ],
   "metadata": {
    "collapsed": false,
    "pycharm": {
     "name": "#%%\n"
    }
   }
  },
  {
   "cell_type": "code",
   "execution_count": 279,
   "outputs": [
    {
     "data": {
      "text/plain": "(70.79457843841381,\n 141253.75446227554,\n -0.16615323015564062,\n 0.13333474689591684)"
     },
     "execution_count": 279,
     "metadata": {},
     "output_type": "execute_result"
    },
    {
     "data": {
      "text/plain": "<Figure size 432x288 with 1 Axes>",
      "image/png": "[encoded data removed]"
     },
     "metadata": {
      "needs_background": "light"
     },
     "output_type": "display_data"
    }
   ],
   "source": [
    "# chemin de régularisation\n",
    "ax = plt.gca()\n",
    "\n",
    "# line with alpha associated to the min error\n",
    "min_alpha = alphas[np.argmin(errors)]\n",
    "plt.axvline(x=min_alpha, color='b', label='axvline - full height')\n",
    "\n",
    "ax.plot(alphas, coefs)\n",
    "ax.set_xscale('log')\n",
    "plt.xlabel('alpha')\n",
    "plt.ylabel('weights')\n",
    "plt.title('Ridge coefficients as a function of the regularization')\n",
    "plt.axis('tight')"
   ],
   "metadata": {
    "collapsed": false,
    "pycharm": {
     "name": "#%%\n"
    }
   }
  },
  {
   "cell_type": "markdown",
   "source": [
    "##### 3. Using best value of the hyperparameter alpha"
   ],
   "metadata": {
    "collapsed": false,
    "pycharm": {
     "name": "#%% md\n"
    }
   }
  },
  {
   "cell_type": "code",
   "execution_count": 280,
   "outputs": [
    {
     "name": "stdout",
     "output_type": "stream",
     "text": [
      "Getting y_pred for the best alpha :  100000.0\n",
      "Prediction for :  Log-Electricity(kBtu)\n"
     ]
    },
    {
     "data": {
      "text/plain": "               Model    RMSE     MSE     MAE  Median Absolute Error  \\\n0    Dummy Regressor 1.19055 1.41742 0.93884                0.76211   \n0  Linear Regression 1.22005 1.48853 0.95991                0.79181   \n0     Ridge manually 1.19060 1.41754 0.93887                0.76249   \n\n   R² = 1 - RSE  \n0      -0.00016  \n0      -0.05033  \n0      -0.00024  ",
      "text/html": "<div>\n<style scoped>\n    .dataframe tbody tr th:only-of-type {\n        vertical-align: middle;\n    }\n\n    .dataframe tbody tr th {\n        vertical-align: top;\n    }\n\n    .dataframe thead th {\n        text-align: right;\n    }\n</style>\n<table border=\"1\" class=\"dataframe\">\n  <thead>\n    <tr style=\"text-align: right;\">\n      <th></th>\n      <th>Model</th>\n      <th>RMSE</th>\n      <th>MSE</th>\n      <th>MAE</th>\n      <th>Median Absolute Error</th>\n      <th>R² = 1 - RSE</th>\n    </tr>\n  </thead>\n  <tbody>\n    <tr>\n      <th>0</th>\n      <td>Dummy Regressor</td>\n      <td>1.19055</td>\n      <td>1.41742</td>\n      <td>0.93884</td>\n      <td>0.76211</td>\n      <td>-0.00016</td>\n    </tr>\n    <tr>\n      <th>0</th>\n      <td>Linear Regression</td>\n      <td>1.22005</td>\n      <td>1.48853</td>\n      <td>0.95991</td>\n      <td>0.79181</td>\n      <td>-0.05033</td>\n    </tr>\n    <tr>\n      <th>0</th>\n      <td>Ridge manually</td>\n      <td>1.19060</td>\n      <td>1.41754</td>\n      <td>0.93887</td>\n      <td>0.76249</td>\n      <td>-0.00024</td>\n    </tr>\n  </tbody>\n</table>\n</div>"
     },
     "metadata": {},
     "output_type": "display_data"
    },
    {
     "data": {
      "text/plain": "<Figure size 432x288 with 1 Axes>",
      "image/png": "[encoded data removed]"
     },
     "metadata": {
      "needs_background": "light"
     },
     "output_type": "display_data"
    },
    {
     "data": {
      "text/plain": "<Figure size 432x288 with 1 Axes>",
      "image/png": "[encoded data removed]"
     },
     "metadata": {
      "needs_background": "light"
     },
     "output_type": "display_data"
    }
   ],
   "source": [
    "print(\"Getting y_pred for the best alpha : \", min_alpha)\n",
    "ridge.set_params(alpha=min_alpha)\n",
    "ridge.fit(X_train, y_train)\n",
    "y_pred_ridge = ridge.predict(X_test)\n",
    "\n",
    "# 3) Evaluate\n",
    "results = evaluate_regression(\"Ridge manually\", results, y_test, y_pred_ridge)"
   ],
   "metadata": {
    "collapsed": false,
    "pycharm": {
     "name": "#%%\n"
    }
   }
  },
  {
   "cell_type": "markdown",
   "source": [
    "##### 2.2) Optimization of hyperparameters"
   ],
   "metadata": {
    "collapsed": false,
    "pycharm": {
     "name": "#%% md\n"
    }
   }
  },
  {
   "cell_type": "raw",
   "source": [
    "param_grid_ridge[0].keys()"
   ],
   "metadata": {
    "collapsed": false,
    "pycharm": {
     "name": "#%% raw\n"
    }
   }
  },
  {
   "cell_type": "code",
   "execution_count": 281,
   "outputs": [
    {
     "name": "stdout",
     "output_type": "stream",
     "text": [
      "Fitting 5 folds for each of 1000 candidates, totalling 5000 fits\n"
     ]
    },
    {
     "data": {
      "text/plain": "GridSearchCV(cv=5, estimator=Ridge(), n_jobs=-1,\n             param_grid={'alpha': array([0.01      , 0.01002308, 0.0100462 , 0.01006939, 0.01009262,\n       0.01011591, 0.01013925, 0.01016265, 0.0101861 , 0.01020961,\n       0.01023317, 0.01025678, 0.01028045, 0.01030417, 0.01032795,\n       0.01035178, 0.01037567, 0.01039961, 0.01042361, 0.01044766,\n       0.01047177, 0.01049593, 0.01052015, 0.01054443, 0.01056876,\n       0.01059315...\n       0.09353432, 0.09375015, 0.09396648, 0.09418332, 0.09440065,\n       0.09461848, 0.09483682, 0.09505566, 0.095275  , 0.09549486,\n       0.09571522, 0.09593608, 0.09615746, 0.09637935, 0.09660175,\n       0.09682466, 0.09704809, 0.09727203, 0.09749649, 0.09772147,\n       0.09794697, 0.09817298, 0.09839952, 0.09862658, 0.09885417,\n       0.09908228, 0.09931092, 0.09954008, 0.09976978, 0.1       ])},\n             return_train_score=True, scoring='neg_mean_squared_error',\n             verbose=1)",
      "text/html": "<style>#sk-container-id-16 {color: black;background-color: white;}#sk-container-id-16 pre{padding: 0;}#sk-container-id-16 div.sk-toggleable {background-color: white;}#sk-container-id-16 label.sk-toggleable__label {cursor: pointer;display: block;width: 100%;margin-bottom: 0;padding: 0.3em;box-sizing: border-box;text-align: center;}#sk-container-id-16 label.sk-toggleable__label-arrow:before {content: \"▸\";float: left;margin-right: 0.25em;color: #696969;}#sk-container-id-16 label.sk-toggleable__label-arrow:hover:before {color: black;}#sk-container-id-16 div.sk-estimator:hover label.sk-toggleable__label-arrow:before {color: black;}#sk-container-id-16 div.sk-toggleable__content {max-height: 0;max-width: 0;overflow: hidden;text-align: left;background-color: #f0f8ff;}#sk-container-id-16 div.sk-toggleable__content pre {margin: 0.2em;color: black;border-radius: 0.25em;background-color: #f0f8ff;}#sk-container-id-16 input.sk-toggleable__control:checked~div.sk-toggleable__content {max-height: 200px;max-width: 100%;overflow: auto;}#sk-container-id-16 input.sk-toggleable__control:checked~label.sk-toggleable__label-arrow:before {content: \"▾\";}#sk-container-id-16 div.sk-estimator input.sk-toggleable__control:checked~label.sk-toggleable__label {background-color: #d4ebff;}#sk-container-id-16 div.sk-label input.sk-toggleable__control:checked~label.sk-toggleable__label {background-color: #d4ebff;}#sk-container-id-16 input.sk-hidden--visually {border: 0;clip: rect(1px 1px 1px 1px);clip: rect(1px, 1px, 1px, 1px);height: 1px;margin: -1px;overflow: hidden;padding: 0;position: absolute;width: 1px;}#sk-container-id-16 div.sk-estimator {font-family: monospace;background-color: #f0f8ff;border: 1px dotted black;border-radius: 0.25em;box-sizing: border-box;margin-bottom: 0.5em;}#sk-container-id-16 div.sk-estimator:hover {background-color: #d4ebff;}#sk-container-id-16 div.sk-parallel-item::after {content: \"\";width: 100%;border-bottom: 1px solid gray;flex-grow: 1;}#sk-container-id-16 div.sk-label:hover label.sk-toggleable__label {background-color: #d4ebff;}#sk-container-id-16 div.sk-serial::before {content: \"\";position: absolute;border-left: 1px solid gray;box-sizing: border-box;top: 0;bottom: 0;left: 50%;z-index: 0;}#sk-container-id-16 div.sk-serial {display: flex;flex-direction: column;align-items: center;background-color: white;padding-right: 0.2em;padding-left: 0.2em;position: relative;}#sk-container-id-16 div.sk-item {position: relative;z-index: 1;}#sk-container-id-16 div.sk-parallel {display: flex;align-items: stretch;justify-content: center;background-color: white;position: relative;}#sk-container-id-16 div.sk-item::before, #sk-container-id-16 div.sk-parallel-item::before {content: \"\";position: absolute;border-left: 1px solid gray;box-sizing: border-box;top: 0;bottom: 0;left: 50%;z-index: -1;}#sk-container-id-16 div.sk-parallel-item {display: flex;flex-direction: column;z-index: 1;position: relative;background-color: white;}#sk-container-id-16 div.sk-parallel-item:first-child::after {align-self: flex-end;width: 50%;}#sk-container-id-16 div.sk-parallel-item:last-child::after {align-self: flex-start;width: 50%;}#sk-container-id-16 div.sk-parallel-item:only-child::after {width: 0;}#sk-container-id-16 div.sk-dashed-wrapped {border: 1px dashed gray;margin: 0 0.4em 0.5em 0.4em;box-sizing: border-box;padding-bottom: 0.4em;background-color: white;}#sk-container-id-16 div.sk-label label {font-family: monospace;font-weight: bold;display: inline-block;line-height: 1.2em;}#sk-container-id-16 div.sk-label-container {text-align: center;}#sk-container-id-16 div.sk-container {/* jupyter's `normalize.less` sets `[hidden] { display: none; }` but bootstrap.min.css set `[hidden] { display: none !important; }` so we also need the `!important` here to be able to override the default hidden behavior on the sphinx rendered scikit-learn.org. See: https://github.com/scikit-learn/scikit-learn/issues/21755 */display: inline-block !important;position: relative;}#sk-container-id-16 div.sk-text-repr-fallback {display: none;}</style><div id=\"sk-container-id-16\" class=\"sk-top-container\"><div class=\"sk-text-repr-fallback\"><pre>GridSearchCV(cv=5, estimator=Ridge(), n_jobs=-1,\n             param_grid={&#x27;alpha&#x27;: array([0.01      , 0.01002308, 0.0100462 , 0.01006939, 0.01009262,\n       0.01011591, 0.01013925, 0.01016265, 0.0101861 , 0.01020961,\n       0.01023317, 0.01025678, 0.01028045, 0.01030417, 0.01032795,\n       0.01035178, 0.01037567, 0.01039961, 0.01042361, 0.01044766,\n       0.01047177, 0.01049593, 0.01052015, 0.01054443, 0.01056876,\n       0.01059315...\n       0.09353432, 0.09375015, 0.09396648, 0.09418332, 0.09440065,\n       0.09461848, 0.09483682, 0.09505566, 0.095275  , 0.09549486,\n       0.09571522, 0.09593608, 0.09615746, 0.09637935, 0.09660175,\n       0.09682466, 0.09704809, 0.09727203, 0.09749649, 0.09772147,\n       0.09794697, 0.09817298, 0.09839952, 0.09862658, 0.09885417,\n       0.09908228, 0.09931092, 0.09954008, 0.09976978, 0.1       ])},\n             return_train_score=True, scoring=&#x27;neg_mean_squared_error&#x27;,\n             verbose=1)</pre><b>In a Jupyter environment, please rerun this cell to show the HTML representation or trust the notebook. <br />On GitHub, the HTML representation is unable to render, please try loading this page with nbviewer.org.</b></div><div class=\"sk-container\" hidden><div class=\"sk-item sk-dashed-wrapped\"><div class=\"sk-label-container\"><div class=\"sk-label sk-toggleable\"><input class=\"sk-toggleable__control sk-hidden--visually\" id=\"sk-estimator-id-30\" type=\"checkbox\" ><label for=\"sk-estimator-id-30\" class=\"sk-toggleable__label sk-toggleable__label-arrow\">GridSearchCV</label><div class=\"sk-toggleable__content\"><pre>GridSearchCV(cv=5, estimator=Ridge(), n_jobs=-1,\n             param_grid={&#x27;alpha&#x27;: array([0.01      , 0.01002308, 0.0100462 , 0.01006939, 0.01009262,\n       0.01011591, 0.01013925, 0.01016265, 0.0101861 , 0.01020961,\n       0.01023317, 0.01025678, 0.01028045, 0.01030417, 0.01032795,\n       0.01035178, 0.01037567, 0.01039961, 0.01042361, 0.01044766,\n       0.01047177, 0.01049593, 0.01052015, 0.01054443, 0.01056876,\n       0.01059315...\n       0.09353432, 0.09375015, 0.09396648, 0.09418332, 0.09440065,\n       0.09461848, 0.09483682, 0.09505566, 0.095275  , 0.09549486,\n       0.09571522, 0.09593608, 0.09615746, 0.09637935, 0.09660175,\n       0.09682466, 0.09704809, 0.09727203, 0.09749649, 0.09772147,\n       0.09794697, 0.09817298, 0.09839952, 0.09862658, 0.09885417,\n       0.09908228, 0.09931092, 0.09954008, 0.09976978, 0.1       ])},\n             return_train_score=True, scoring=&#x27;neg_mean_squared_error&#x27;,\n             verbose=1)</pre></div></div></div><div class=\"sk-parallel\"><div class=\"sk-parallel-item\"><div class=\"sk-item\"><div class=\"sk-label-container\"><div class=\"sk-label sk-toggleable\"><input class=\"sk-toggleable__control sk-hidden--visually\" id=\"sk-estimator-id-31\" type=\"checkbox\" ><label for=\"sk-estimator-id-31\" class=\"sk-toggleable__label sk-toggleable__label-arrow\">estimator: Ridge</label><div class=\"sk-toggleable__content\"><pre>Ridge()</pre></div></div></div><div class=\"sk-serial\"><div class=\"sk-item\"><div class=\"sk-estimator sk-toggleable\"><input class=\"sk-toggleable__control sk-hidden--visually\" id=\"sk-estimator-id-32\" type=\"checkbox\" ><label for=\"sk-estimator-id-32\" class=\"sk-toggleable__label sk-toggleable__label-arrow\">Ridge</label><div class=\"sk-toggleable__content\"><pre>Ridge()</pre></div></div></div></div></div></div></div></div></div></div>"
     },
     "execution_count": 281,
     "metadata": {},
     "output_type": "execute_result"
    }
   ],
   "source": [
    "# define the model/ estimator\n",
    "model = linear_model.Ridge()\n",
    "params = {\"alpha\": np.logspace(-2, -1, n_alphas)} # alpha > 0\n",
    "scoring = \"neg_mean_squared_error\"\n",
    "\n",
    "# define the grid search\n",
    "Ridge_reg = GridSearchCV(\n",
    "    model, params, scoring=scoring,\n",
    "    cv=5,\n",
    "    n_jobs=-1,\n",
    "    return_train_score=True,\n",
    "    verbose=1)\n",
    "\n",
    "#fit the grid search\n",
    "Ridge_reg.fit(X_train.values, y_train)"
   ],
   "metadata": {
    "collapsed": false,
    "pycharm": {
     "name": "#%%\n"
    }
   }
  },
  {
   "cell_type": "code",
   "execution_count": 282,
   "outputs": [
    {
     "name": "stdout",
     "output_type": "stream",
     "text": [
      "Best estimator : Ridge(alpha=0.1)\n",
      "Prediction for :  Log-Electricity(kBtu)\n"
     ]
    },
    {
     "data": {
      "text/plain": "                Model    RMSE     MSE     MAE  Median Absolute Error  \\\n0     Dummy Regressor 1.19055 1.41742 0.93884                0.76211   \n0   Linear Regression 1.22005 1.48853 0.95991                0.79181   \n0      Ridge manually 1.19060 1.41754 0.93887                0.76249   \n0  Ridge GridSearchCV 1.21995 1.48828 0.95983                0.79163   \n\n   R² = 1 - RSE  \n0      -0.00016  \n0      -0.05033  \n0      -0.00024  \n0      -0.05016  ",
      "text/html": "<div>\n<style scoped>\n    .dataframe tbody tr th:only-of-type {\n        vertical-align: middle;\n    }\n\n    .dataframe tbody tr th {\n        vertical-align: top;\n    }\n\n    .dataframe thead th {\n        text-align: right;\n    }\n</style>\n<table border=\"1\" class=\"dataframe\">\n  <thead>\n    <tr style=\"text-align: right;\">\n      <th></th>\n      <th>Model</th>\n      <th>RMSE</th>\n      <th>MSE</th>\n      <th>MAE</th>\n      <th>Median Absolute Error</th>\n      <th>R² = 1 - RSE</th>\n    </tr>\n  </thead>\n  <tbody>\n    <tr>\n      <th>0</th>\n      <td>Dummy Regressor</td>\n      <td>1.19055</td>\n      <td>1.41742</td>\n      <td>0.93884</td>\n      <td>0.76211</td>\n      <td>-0.00016</td>\n    </tr>\n    <tr>\n      <th>0</th>\n      <td>Linear Regression</td>\n      <td>1.22005</td>\n      <td>1.48853</td>\n      <td>0.95991</td>\n      <td>0.79181</td>\n      <td>-0.05033</td>\n    </tr>\n    <tr>\n      <th>0</th>\n      <td>Ridge manually</td>\n      <td>1.19060</td>\n      <td>1.41754</td>\n      <td>0.93887</td>\n      <td>0.76249</td>\n      <td>-0.00024</td>\n    </tr>\n    <tr>\n      <th>0</th>\n      <td>Ridge GridSearchCV</td>\n      <td>1.21995</td>\n      <td>1.48828</td>\n      <td>0.95983</td>\n      <td>0.79163</td>\n      <td>-0.05016</td>\n    </tr>\n  </tbody>\n</table>\n</div>"
     },
     "metadata": {},
     "output_type": "display_data"
    },
    {
     "data": {
      "text/plain": "<Figure size 432x288 with 1 Axes>",
      "image/png": "[encoded data removed]"
     },
     "metadata": {
      "needs_background": "light"
     },
     "output_type": "display_data"
    },
    {
     "data": {
      "text/plain": "<Figure size 432x288 with 1 Axes>",
      "image/png": "[encoded data removed]"
     },
     "metadata": {
      "needs_background": "light"
     },
     "output_type": "display_data"
    }
   ],
   "source": [
    "# best estimator\n",
    "print(\"Best estimator :\", Ridge_reg.best_estimator_)\n",
    "\n",
    "# best model\n",
    "best_model = Ridge_reg.best_estimator_\n",
    "best_model.fit(X_train.values, y_train)\n",
    "\n",
    "y_pred_ridge = best_model.predict(X_test.values)\n",
    "\n",
    "# 3) Evaluate\n",
    "results = evaluate_regression(\"Ridge GridSearchCV\", results, y_test, y_pred_ridge)"
   ],
   "metadata": {
    "collapsed": false,
    "pycharm": {
     "name": "#%%\n"
    }
   }
  },
  {
   "cell_type": "code",
   "execution_count": 283,
   "outputs": [
    {
     "name": "stdout",
     "output_type": "stream",
     "text": [
      "QUESTION MENTOR : pourquoi optimisation alpha manuelle meilleure ??? \n"
     ]
    }
   ],
   "source": [
    "print(\"QUESTION MENTOR : pourquoi optimisation alpha manuelle meilleure ??? \")"
   ],
   "metadata": {
    "collapsed": false,
    "pycharm": {
     "name": "#%%\n"
    }
   }
  },
  {
   "cell_type": "markdown",
   "source": [
    "#### 3) Linear Model : LASSO"
   ],
   "metadata": {
    "collapsed": false,
    "pycharm": {
     "name": "#%% md\n"
    }
   }
  },
  {
   "cell_type": "markdown",
   "source": [
    "##### 3.1) Trying LASSO Regression / Manual optimisation hyperparameter"
   ],
   "metadata": {
    "collapsed": false,
    "pycharm": {
     "name": "#%% md\n"
    }
   }
  },
  {
   "cell_type": "markdown",
   "source": [
    "##### 1. Searching for the best hyperparameter alpha"
   ],
   "metadata": {
    "collapsed": false,
    "pycharm": {
     "name": "#%% md\n"
    }
   }
  },
  {
   "cell_type": "code",
   "execution_count": 284,
   "outputs": [],
   "source": [
    "n_alphas = 1000  # hyperparametre alpha\n",
    "alphas = np.logspace(-2, -1, n_alphas)\n",
    "\n",
    "lasso = linear_model.Lasso()\n",
    "\n",
    "coefs = []\n",
    "errors = []\n",
    "for a in alphas:\n",
    "    lasso.set_params(alpha=a)\n",
    "    lasso.fit(X_train, y_train)\n",
    "    y_pred_lasso = lasso.predict(X_test)\n",
    "    coefs.append(lasso.coef_)\n",
    "    errors.append(np.mean((y_pred_lasso - y_test) ** 2))\n",
    "    #print(\"HERE :\", np.mean((lasso.predict(X_test) - y_test) ** 2), \"MSE :\", mean_squared_error(y_test, lasso.predict(X_test)))"
   ],
   "metadata": {
    "collapsed": false,
    "pycharm": {
     "name": "#%%\n"
    }
   }
  },
  {
   "cell_type": "markdown",
   "source": [
    "##### 2. Visualizing optimisation of alpha"
   ],
   "metadata": {
    "collapsed": false,
    "pycharm": {
     "name": "#%% md\n"
    }
   }
  },
  {
   "cell_type": "code",
   "execution_count": 285,
   "outputs": [
    {
     "name": "stdout",
     "output_type": "stream",
     "text": [
      "Minimum Mean Squared Error for LASSO Regression : 1.417418177914121\n",
      "Best alpha for that minimal MSE :  0.020621218039991434\n"
     ]
    },
    {
     "data": {
      "text/plain": "(0.008912509381337459,\n 0.11220184543019636,\n 1.4170541437239226,\n 1.425062895908288)"
     },
     "execution_count": 285,
     "metadata": {},
     "output_type": "execute_result"
    },
    {
     "data": {
      "text/plain": "<Figure size 432x288 with 1 Axes>",
      "image/png": "[encoded data removed]"
     },
     "metadata": {
      "needs_background": "light"
     },
     "output_type": "display_data"
    }
   ],
   "source": [
    "# recupere l'erreur min\n",
    "print(\"Minimum Mean Squared Error for LASSO Regression :\", errors[np.argmin(errors)])\n",
    "print(\"Best alpha for that minimal MSE : \", alphas[np.argmin(errors)])\n",
    "\n",
    "#Observation of the error behaviour\n",
    "ax = plt.gca()\n",
    "ax.plot(alphas, errors, [10**-2, 10**-1], [baseline_error, baseline_error])\n",
    "ax.set_xscale('log')\n",
    "\n",
    "plt.xlabel('alpha : hyperparameter')\n",
    "plt.ylabel('error : MSE')\n",
    "plt.axis('tight')"
   ],
   "metadata": {
    "collapsed": false,
    "pycharm": {
     "name": "#%%\n"
    }
   }
  },
  {
   "cell_type": "code",
   "execution_count": 286,
   "outputs": [
    {
     "data": {
      "text/plain": "(0.008912509381337459,\n 0.11220184543019636,\n -0.10095787942430898,\n 0.06550825815348027)"
     },
     "execution_count": 286,
     "metadata": {},
     "output_type": "execute_result"
    },
    {
     "data": {
      "text/plain": "<Figure size 432x288 with 1 Axes>",
      "image/png": "[encoded data removed]"
     },
     "metadata": {
      "needs_background": "light"
     },
     "output_type": "display_data"
    }
   ],
   "source": [
    "# chemin de régularisation\n",
    "ax = plt.gca()\n",
    "\n",
    "# line with alpha associated to the min error\n",
    "min_alpha = alphas[np.argmin(errors)]\n",
    "plt.axvline(x=min_alpha, color='b', label='axvline - full height')\n",
    "\n",
    "ax.plot(alphas, coefs)\n",
    "ax.set_xscale('log')\n",
    "plt.xlabel('alpha')\n",
    "plt.ylabel('weights')\n",
    "plt.title('LASSO coefficients as a function of the regularization')\n",
    "plt.axis('tight')"
   ],
   "metadata": {
    "collapsed": false,
    "pycharm": {
     "name": "#%%\n"
    }
   }
  },
  {
   "cell_type": "markdown",
   "source": [
    "##### 3. Using best value of the hyperparameter alpha"
   ],
   "metadata": {
    "collapsed": false,
    "pycharm": {
     "name": "#%% md\n"
    }
   }
  },
  {
   "cell_type": "code",
   "execution_count": 287,
   "outputs": [
    {
     "name": "stdout",
     "output_type": "stream",
     "text": [
      "Getting y_pred for the best alpha :  0.020621218039991434\n",
      "Prediction for :  Log-Electricity(kBtu)\n"
     ]
    },
    {
     "data": {
      "text/plain": "                Model    RMSE     MSE     MAE  Median Absolute Error  \\\n0     Dummy Regressor 1.19055 1.41742 0.93884                0.76211   \n0   Linear Regression 1.22005 1.48853 0.95991                0.79181   \n0      Ridge manually 1.19060 1.41754 0.93887                0.76249   \n0  Ridge GridSearchCV 1.21995 1.48828 0.95983                0.79163   \n0      LASSO manually 1.19055 1.41742 0.93884                0.76211   \n\n   R² = 1 - RSE  \n0      -0.00016  \n0      -0.05033  \n0      -0.00024  \n0      -0.05016  \n0      -0.00016  ",
      "text/html": "<div>\n<style scoped>\n    .dataframe tbody tr th:only-of-type {\n        vertical-align: middle;\n    }\n\n    .dataframe tbody tr th {\n        vertical-align: top;\n    }\n\n    .dataframe thead th {\n        text-align: right;\n    }\n</style>\n<table border=\"1\" class=\"dataframe\">\n  <thead>\n    <tr style=\"text-align: right;\">\n      <th></th>\n      <th>Model</th>\n      <th>RMSE</th>\n      <th>MSE</th>\n      <th>MAE</th>\n      <th>Median Absolute Error</th>\n      <th>R² = 1 - RSE</th>\n    </tr>\n  </thead>\n  <tbody>\n    <tr>\n      <th>0</th>\n      <td>Dummy Regressor</td>\n      <td>1.19055</td>\n      <td>1.41742</td>\n      <td>0.93884</td>\n      <td>0.76211</td>\n      <td>-0.00016</td>\n    </tr>\n    <tr>\n      <th>0</th>\n      <td>Linear Regression</td>\n      <td>1.22005</td>\n      <td>1.48853</td>\n      <td>0.95991</td>\n      <td>0.79181</td>\n      <td>-0.05033</td>\n    </tr>\n    <tr>\n      <th>0</th>\n      <td>Ridge manually</td>\n      <td>1.19060</td>\n      <td>1.41754</td>\n      <td>0.93887</td>\n      <td>0.76249</td>\n      <td>-0.00024</td>\n    </tr>\n    <tr>\n      <th>0</th>\n      <td>Ridge GridSearchCV</td>\n      <td>1.21995</td>\n      <td>1.48828</td>\n      <td>0.95983</td>\n      <td>0.79163</td>\n      <td>-0.05016</td>\n    </tr>\n    <tr>\n      <th>0</th>\n      <td>LASSO manually</td>\n      <td>1.19055</td>\n      <td>1.41742</td>\n      <td>0.93884</td>\n      <td>0.76211</td>\n      <td>-0.00016</td>\n    </tr>\n  </tbody>\n</table>\n</div>"
     },
     "metadata": {},
     "output_type": "display_data"
    },
    {
     "data": {
      "text/plain": "<Figure size 432x288 with 1 Axes>",
      "image/png": "[encoded data removed]"
     },
     "metadata": {
      "needs_background": "light"
     },
     "output_type": "display_data"
    },
    {
     "data": {
      "text/plain": "<Figure size 432x288 with 1 Axes>",
      "image/png": "[encoded data removed]"
     },
     "metadata": {
      "needs_background": "light"
     },
     "output_type": "display_data"
    }
   ],
   "source": [
    "print(\"Getting y_pred for the best alpha : \", min_alpha)\n",
    "lasso.set_params(alpha=min_alpha)\n",
    "lasso.fit(X_train, y_train)\n",
    "y_pred_lasso = lasso.predict(X_test)\n",
    "\n",
    "# 3) Evaluate\n",
    "results = evaluate_regression(\"LASSO manually\", results, y_test, y_pred_lasso)"
   ],
   "metadata": {
    "collapsed": false,
    "pycharm": {
     "name": "#%%\n"
    }
   }
  },
  {
   "cell_type": "code",
   "execution_count": 288,
   "outputs": [
    {
     "data": {
      "text/plain": "array([14.16607876, 14.16607876, 14.16607876, 14.16607876, 14.16607876,\n       14.16607876, 14.16607876, 14.16607876, 14.16607876, 14.16607876,\n       14.16607876, 14.16607876, 14.16607876, 14.16607876, 14.16607876,\n       14.16607876, 14.16607876, 14.16607876, 14.16607876, 14.16607876,\n       14.16607876, 14.16607876, 14.16607876, 14.16607876, 14.16607876,\n       14.16607876, 14.16607876, 14.16607876, 14.16607876, 14.16607876,\n       14.16607876, 14.16607876, 14.16607876, 14.16607876, 14.16607876,\n       14.16607876, 14.16607876, 14.16607876, 14.16607876, 14.16607876,\n       14.16607876, 14.16607876, 14.16607876, 14.16607876, 14.16607876,\n       14.16607876, 14.16607876, 14.16607876, 14.16607876, 14.16607876,\n       14.16607876, 14.16607876, 14.16607876, 14.16607876, 14.16607876,\n       14.16607876, 14.16607876, 14.16607876, 14.16607876, 14.16607876,\n       14.16607876, 14.16607876, 14.16607876, 14.16607876, 14.16607876,\n       14.16607876, 14.16607876, 14.16607876, 14.16607876, 14.16607876,\n       14.16607876, 14.16607876, 14.16607876, 14.16607876, 14.16607876,\n       14.16607876, 14.16607876, 14.16607876, 14.16607876, 14.16607876,\n       14.16607876, 14.16607876, 14.16607876, 14.16607876, 14.16607876,\n       14.16607876, 14.16607876, 14.16607876, 14.16607876, 14.16607876,\n       14.16607876, 14.16607876, 14.16607876, 14.16607876, 14.16607876,\n       14.16607876, 14.16607876, 14.16607876, 14.16607876, 14.16607876,\n       14.16607876, 14.16607876, 14.16607876, 14.16607876, 14.16607876,\n       14.16607876, 14.16607876, 14.16607876, 14.16607876, 14.16607876,\n       14.16607876, 14.16607876, 14.16607876, 14.16607876, 14.16607876,\n       14.16607876, 14.16607876, 14.16607876, 14.16607876, 14.16607876,\n       14.16607876, 14.16607876, 14.16607876, 14.16607876, 14.16607876,\n       14.16607876, 14.16607876, 14.16607876, 14.16607876, 14.16607876,\n       14.16607876, 14.16607876, 14.16607876, 14.16607876, 14.16607876,\n       14.16607876, 14.16607876, 14.16607876, 14.16607876, 14.16607876,\n       14.16607876, 14.16607876, 14.16607876, 14.16607876, 14.16607876,\n       14.16607876, 14.16607876, 14.16607876, 14.16607876, 14.16607876,\n       14.16607876, 14.16607876, 14.16607876, 14.16607876, 14.16607876,\n       14.16607876, 14.16607876, 14.16607876, 14.16607876, 14.16607876,\n       14.16607876, 14.16607876, 14.16607876, 14.16607876, 14.16607876,\n       14.16607876, 14.16607876, 14.16607876, 14.16607876, 14.16607876,\n       14.16607876, 14.16607876, 14.16607876, 14.16607876, 14.16607876,\n       14.16607876, 14.16607876, 14.16607876, 14.16607876, 14.16607876,\n       14.16607876, 14.16607876, 14.16607876, 14.16607876, 14.16607876,\n       14.16607876, 14.16607876, 14.16607876, 14.16607876, 14.16607876,\n       14.16607876, 14.16607876, 14.16607876, 14.16607876, 14.16607876,\n       14.16607876, 14.16607876, 14.16607876, 14.16607876, 14.16607876,\n       14.16607876, 14.16607876, 14.16607876, 14.16607876, 14.16607876,\n       14.16607876, 14.16607876, 14.16607876, 14.16607876, 14.16607876,\n       14.16607876, 14.16607876, 14.16607876, 14.16607876, 14.16607876,\n       14.16607876, 14.16607876, 14.16607876, 14.16607876, 14.16607876,\n       14.16607876, 14.16607876, 14.16607876, 14.16607876, 14.16607876,\n       14.16607876, 14.16607876, 14.16607876, 14.16607876, 14.16607876,\n       14.16607876, 14.16607876, 14.16607876, 14.16607876, 14.16607876,\n       14.16607876, 14.16607876, 14.16607876, 14.16607876, 14.16607876,\n       14.16607876, 14.16607876, 14.16607876, 14.16607876, 14.16607876,\n       14.16607876, 14.16607876, 14.16607876, 14.16607876, 14.16607876,\n       14.16607876, 14.16607876, 14.16607876, 14.16607876, 14.16607876,\n       14.16607876, 14.16607876, 14.16607876, 14.16607876, 14.16607876,\n       14.16607876, 14.16607876, 14.16607876, 14.16607876, 14.16607876,\n       14.16607876, 14.16607876, 14.16607876, 14.16607876, 14.16607876,\n       14.16607876, 14.16607876, 14.16607876, 14.16607876, 14.16607876,\n       14.16607876, 14.16607876, 14.16607876, 14.16607876, 14.16607876,\n       14.16607876, 14.16607876, 14.16607876, 14.16607876, 14.16607876,\n       14.16607876, 14.16607876, 14.16607876, 14.16607876, 14.16607876,\n       14.16607876, 14.16607876, 14.16607876, 14.16607876, 14.16607876,\n       14.16607876, 14.16607876, 14.16607876, 14.16607876, 14.16607876,\n       14.16607876, 14.16607876, 14.16607876, 14.16607876, 14.16607876,\n       14.16607876, 14.16607876, 14.16607876, 14.16607876, 14.16607876,\n       14.16607876, 14.16607876, 14.16607876, 14.16607876, 14.16607876,\n       14.16607876, 14.16607876, 14.16607876, 14.16607876, 14.16607876,\n       14.16607876, 14.16607876, 14.16607876, 14.16607876, 14.16607876,\n       14.16607876, 14.16607876, 14.16607876, 14.16607876, 14.16607876,\n       14.16607876, 14.16607876, 14.16607876, 14.16607876, 14.16607876,\n       14.16607876, 14.16607876, 14.16607876, 14.16607876, 14.16607876,\n       14.16607876, 14.16607876, 14.16607876, 14.16607876, 14.16607876,\n       14.16607876, 14.16607876, 14.16607876, 14.16607876, 14.16607876,\n       14.16607876, 14.16607876, 14.16607876, 14.16607876, 14.16607876,\n       14.16607876, 14.16607876, 14.16607876, 14.16607876, 14.16607876,\n       14.16607876, 14.16607876, 14.16607876, 14.16607876, 14.16607876,\n       14.16607876, 14.16607876, 14.16607876, 14.16607876, 14.16607876,\n       14.16607876, 14.16607876, 14.16607876, 14.16607876, 14.16607876,\n       14.16607876, 14.16607876, 14.16607876, 14.16607876, 14.16607876,\n       14.16607876, 14.16607876, 14.16607876, 14.16607876, 14.16607876,\n       14.16607876, 14.16607876, 14.16607876, 14.16607876, 14.16607876,\n       14.16607876, 14.16607876, 14.16607876, 14.16607876, 14.16607876,\n       14.16607876, 14.16607876, 14.16607876, 14.16607876, 14.16607876,\n       14.16607876, 14.16607876, 14.16607876, 14.16607876, 14.16607876,\n       14.16607876, 14.16607876, 14.16607876, 14.16607876, 14.16607876,\n       14.16607876, 14.16607876, 14.16607876, 14.16607876, 14.16607876,\n       14.16607876, 14.16607876, 14.16607876, 14.16607876, 14.16607876,\n       14.16607876, 14.16607876, 14.16607876, 14.16607876, 14.16607876,\n       14.16607876, 14.16607876, 14.16607876, 14.16607876, 14.16607876,\n       14.16607876, 14.16607876, 14.16607876, 14.16607876, 14.16607876,\n       14.16607876, 14.16607876, 14.16607876, 14.16607876, 14.16607876,\n       14.16607876, 14.16607876, 14.16607876, 14.16607876, 14.16607876,\n       14.16607876, 14.16607876, 14.16607876, 14.16607876, 14.16607876,\n       14.16607876, 14.16607876, 14.16607876, 14.16607876, 14.16607876,\n       14.16607876, 14.16607876, 14.16607876, 14.16607876, 14.16607876,\n       14.16607876, 14.16607876, 14.16607876, 14.16607876, 14.16607876,\n       14.16607876, 14.16607876, 14.16607876, 14.16607876, 14.16607876,\n       14.16607876, 14.16607876, 14.16607876, 14.16607876, 14.16607876,\n       14.16607876, 14.16607876, 14.16607876, 14.16607876, 14.16607876,\n       14.16607876, 14.16607876, 14.16607876, 14.16607876, 14.16607876,\n       14.16607876, 14.16607876, 14.16607876, 14.16607876, 14.16607876,\n       14.16607876, 14.16607876, 14.16607876, 14.16607876, 14.16607876,\n       14.16607876, 14.16607876, 14.16607876, 14.16607876, 14.16607876,\n       14.16607876, 14.16607876, 14.16607876, 14.16607876, 14.16607876,\n       14.16607876, 14.16607876, 14.16607876, 14.16607876, 14.16607876,\n       14.16607876, 14.16607876, 14.16607876, 14.16607876, 14.16607876,\n       14.16607876, 14.16607876, 14.16607876, 14.16607876, 14.16607876,\n       14.16607876, 14.16607876, 14.16607876, 14.16607876, 14.16607876,\n       14.16607876, 14.16607876, 14.16607876, 14.16607876, 14.16607876,\n       14.16607876, 14.16607876, 14.16607876, 14.16607876, 14.16607876,\n       14.16607876, 14.16607876, 14.16607876, 14.16607876, 14.16607876,\n       14.16607876, 14.16607876, 14.16607876, 14.16607876, 14.16607876,\n       14.16607876, 14.16607876, 14.16607876, 14.16607876, 14.16607876,\n       14.16607876, 14.16607876, 14.16607876, 14.16607876, 14.16607876,\n       14.16607876, 14.16607876, 14.16607876, 14.16607876, 14.16607876,\n       14.16607876, 14.16607876, 14.16607876, 14.16607876, 14.16607876,\n       14.16607876, 14.16607876, 14.16607876, 14.16607876, 14.16607876,\n       14.16607876, 14.16607876, 14.16607876, 14.16607876, 14.16607876,\n       14.16607876, 14.16607876, 14.16607876, 14.16607876, 14.16607876,\n       14.16607876, 14.16607876, 14.16607876, 14.16607876, 14.16607876,\n       14.16607876, 14.16607876, 14.16607876, 14.16607876, 14.16607876,\n       14.16607876, 14.16607876, 14.16607876, 14.16607876, 14.16607876,\n       14.16607876, 14.16607876, 14.16607876, 14.16607876, 14.16607876,\n       14.16607876, 14.16607876, 14.16607876, 14.16607876, 14.16607876,\n       14.16607876, 14.16607876, 14.16607876, 14.16607876, 14.16607876,\n       14.16607876, 14.16607876, 14.16607876, 14.16607876, 14.16607876,\n       14.16607876, 14.16607876, 14.16607876, 14.16607876, 14.16607876,\n       14.16607876, 14.16607876, 14.16607876, 14.16607876, 14.16607876,\n       14.16607876, 14.16607876, 14.16607876, 14.16607876, 14.16607876,\n       14.16607876, 14.16607876, 14.16607876, 14.16607876, 14.16607876,\n       14.16607876, 14.16607876, 14.16607876, 14.16607876, 14.16607876,\n       14.16607876, 14.16607876, 14.16607876, 14.16607876, 14.16607876,\n       14.16607876, 14.16607876, 14.16607876, 14.16607876, 14.16607876,\n       14.16607876, 14.16607876, 14.16607876, 14.16607876, 14.16607876,\n       14.16607876, 14.16607876, 14.16607876, 14.16607876, 14.16607876,\n       14.16607876, 14.16607876, 14.16607876, 14.16607876, 14.16607876,\n       14.16607876, 14.16607876, 14.16607876, 14.16607876, 14.16607876,\n       14.16607876, 14.16607876, 14.16607876, 14.16607876, 14.16607876,\n       14.16607876, 14.16607876, 14.16607876, 14.16607876, 14.16607876,\n       14.16607876, 14.16607876, 14.16607876, 14.16607876, 14.16607876,\n       14.16607876, 14.16607876, 14.16607876, 14.16607876, 14.16607876,\n       14.16607876, 14.16607876, 14.16607876, 14.16607876, 14.16607876,\n       14.16607876, 14.16607876, 14.16607876, 14.16607876, 14.16607876,\n       14.16607876, 14.16607876, 14.16607876, 14.16607876, 14.16607876,\n       14.16607876, 14.16607876, 14.16607876, 14.16607876, 14.16607876,\n       14.16607876, 14.16607876, 14.16607876, 14.16607876, 14.16607876,\n       14.16607876, 14.16607876, 14.16607876, 14.16607876, 14.16607876,\n       14.16607876, 14.16607876, 14.16607876, 14.16607876, 14.16607876,\n       14.16607876, 14.16607876, 14.16607876, 14.16607876, 14.16607876,\n       14.16607876, 14.16607876, 14.16607876, 14.16607876, 14.16607876,\n       14.16607876, 14.16607876, 14.16607876, 14.16607876, 14.16607876,\n       14.16607876, 14.16607876, 14.16607876, 14.16607876, 14.16607876,\n       14.16607876, 14.16607876, 14.16607876, 14.16607876, 14.16607876,\n       14.16607876, 14.16607876, 14.16607876, 14.16607876, 14.16607876,\n       14.16607876, 14.16607876, 14.16607876, 14.16607876, 14.16607876,\n       14.16607876, 14.16607876, 14.16607876, 14.16607876, 14.16607876,\n       14.16607876, 14.16607876, 14.16607876, 14.16607876, 14.16607876,\n       14.16607876, 14.16607876, 14.16607876, 14.16607876, 14.16607876,\n       14.16607876, 14.16607876, 14.16607876, 14.16607876, 14.16607876,\n       14.16607876, 14.16607876, 14.16607876, 14.16607876, 14.16607876,\n       14.16607876, 14.16607876, 14.16607876, 14.16607876, 14.16607876,\n       14.16607876, 14.16607876, 14.16607876, 14.16607876, 14.16607876,\n       14.16607876, 14.16607876, 14.16607876, 14.16607876, 14.16607876,\n       14.16607876, 14.16607876, 14.16607876, 14.16607876, 14.16607876,\n       14.16607876, 14.16607876, 14.16607876, 14.16607876, 14.16607876,\n       14.16607876, 14.16607876, 14.16607876, 14.16607876, 14.16607876,\n       14.16607876, 14.16607876, 14.16607876, 14.16607876, 14.16607876,\n       14.16607876, 14.16607876, 14.16607876, 14.16607876, 14.16607876,\n       14.16607876, 14.16607876, 14.16607876, 14.16607876, 14.16607876,\n       14.16607876, 14.16607876, 14.16607876, 14.16607876, 14.16607876,\n       14.16607876, 14.16607876, 14.16607876, 14.16607876, 14.16607876,\n       14.16607876, 14.16607876, 14.16607876, 14.16607876, 14.16607876,\n       14.16607876, 14.16607876, 14.16607876, 14.16607876, 14.16607876,\n       14.16607876, 14.16607876, 14.16607876, 14.16607876, 14.16607876,\n       14.16607876, 14.16607876, 14.16607876, 14.16607876, 14.16607876,\n       14.16607876, 14.16607876, 14.16607876, 14.16607876, 14.16607876,\n       14.16607876, 14.16607876, 14.16607876, 14.16607876, 14.16607876,\n       14.16607876, 14.16607876, 14.16607876, 14.16607876, 14.16607876,\n       14.16607876, 14.16607876, 14.16607876, 14.16607876, 14.16607876,\n       14.16607876, 14.16607876, 14.16607876, 14.16607876, 14.16607876,\n       14.16607876, 14.16607876, 14.16607876, 14.16607876, 14.16607876,\n       14.16607876, 14.16607876, 14.16607876, 14.16607876, 14.16607876,\n       14.16607876, 14.16607876, 14.16607876, 14.16607876, 14.16607876,\n       14.16607876, 14.16607876, 14.16607876, 14.16607876, 14.16607876,\n       14.16607876, 14.16607876, 14.16607876, 14.16607876, 14.16607876,\n       14.16607876, 14.16607876, 14.16607876, 14.16607876, 14.16607876,\n       14.16607876, 14.16607876, 14.16607876, 14.16607876, 14.16607876,\n       14.16607876, 14.16607876, 14.16607876, 14.16607876, 14.16607876,\n       14.16607876, 14.16607876, 14.16607876, 14.16607876, 14.16607876,\n       14.16607876, 14.16607876, 14.16607876, 14.16607876, 14.16607876,\n       14.16607876, 14.16607876, 14.16607876, 14.16607876, 14.16607876,\n       14.16607876, 14.16607876, 14.16607876, 14.16607876, 14.16607876,\n       14.16607876, 14.16607876, 14.16607876])"
     },
     "execution_count": 288,
     "metadata": {},
     "output_type": "execute_result"
    }
   ],
   "source": [
    "y_pred_lasso"
   ],
   "metadata": {
    "collapsed": false,
    "pycharm": {
     "name": "#%%\n"
    }
   }
  },
  {
   "cell_type": "markdown",
   "source": [
    "##### 3.2) Optimization of hyperparameters"
   ],
   "metadata": {
    "collapsed": false,
    "pycharm": {
     "name": "#%% md\n"
    }
   }
  },
  {
   "cell_type": "code",
   "execution_count": 289,
   "outputs": [
    {
     "name": "stdout",
     "output_type": "stream",
     "text": [
      "Fitting 5 folds for each of 10000 candidates, totalling 50000 fits\n",
      "Best estimator : Lasso(alpha=0.0402587685177346)\n",
      "Prediction for :  Log-Electricity(kBtu)\n"
     ]
    },
    {
     "data": {
      "text/plain": "                Model    RMSE     MSE     MAE  Median Absolute Error  \\\n0     Dummy Regressor 1.19055 1.41742 0.93884                0.76211   \n0   Linear Regression 1.22005 1.48853 0.95991                0.79181   \n0      Ridge manually 1.19060 1.41754 0.93887                0.76249   \n0  Ridge GridSearchCV 1.21995 1.48828 0.95983                0.79163   \n0      LASSO manually 1.19055 1.41742 0.93884                0.76211   \n0     Lasso Regressor 1.19055 1.41742 0.93884                0.76211   \n\n   R² = 1 - RSE  \n0      -0.00016  \n0      -0.05033  \n0      -0.00024  \n0      -0.05016  \n0      -0.00016  \n0      -0.00016  ",
      "text/html": "<div>\n<style scoped>\n    .dataframe tbody tr th:only-of-type {\n        vertical-align: middle;\n    }\n\n    .dataframe tbody tr th {\n        vertical-align: top;\n    }\n\n    .dataframe thead th {\n        text-align: right;\n    }\n</style>\n<table border=\"1\" class=\"dataframe\">\n  <thead>\n    <tr style=\"text-align: right;\">\n      <th></th>\n      <th>Model</th>\n      <th>RMSE</th>\n      <th>MSE</th>\n      <th>MAE</th>\n      <th>Median Absolute Error</th>\n      <th>R² = 1 - RSE</th>\n    </tr>\n  </thead>\n  <tbody>\n    <tr>\n      <th>0</th>\n      <td>Dummy Regressor</td>\n      <td>1.19055</td>\n      <td>1.41742</td>\n      <td>0.93884</td>\n      <td>0.76211</td>\n      <td>-0.00016</td>\n    </tr>\n    <tr>\n      <th>0</th>\n      <td>Linear Regression</td>\n      <td>1.22005</td>\n      <td>1.48853</td>\n      <td>0.95991</td>\n      <td>0.79181</td>\n      <td>-0.05033</td>\n    </tr>\n    <tr>\n      <th>0</th>\n      <td>Ridge manually</td>\n      <td>1.19060</td>\n      <td>1.41754</td>\n      <td>0.93887</td>\n      <td>0.76249</td>\n      <td>-0.00024</td>\n    </tr>\n    <tr>\n      <th>0</th>\n      <td>Ridge GridSearchCV</td>\n      <td>1.21995</td>\n      <td>1.48828</td>\n      <td>0.95983</td>\n      <td>0.79163</td>\n      <td>-0.05016</td>\n    </tr>\n    <tr>\n      <th>0</th>\n      <td>LASSO manually</td>\n      <td>1.19055</td>\n      <td>1.41742</td>\n      <td>0.93884</td>\n      <td>0.76211</td>\n      <td>-0.00016</td>\n    </tr>\n    <tr>\n      <th>0</th>\n      <td>Lasso Regressor</td>\n      <td>1.19055</td>\n      <td>1.41742</td>\n      <td>0.93884</td>\n      <td>0.76211</td>\n      <td>-0.00016</td>\n    </tr>\n  </tbody>\n</table>\n</div>"
     },
     "metadata": {},
     "output_type": "display_data"
    },
    {
     "data": {
      "text/plain": "<Figure size 432x288 with 1 Axes>",
      "image/png": "[encoded data removed]"
     },
     "metadata": {
      "needs_background": "light"
     },
     "output_type": "display_data"
    },
    {
     "data": {
      "text/plain": "<Figure size 432x288 with 1 Axes>",
      "image/png": "[encoded data removed]"
     },
     "metadata": {
      "needs_background": "light"
     },
     "output_type": "display_data"
    }
   ],
   "source": [
    "n_alphas = 10000\n",
    "params = {\"alpha\": np.logspace(-2, 2, n_alphas)}\n",
    "\n",
    "# define the model/ estimator\n",
    "model = linear_model.Lasso()\n",
    "\n",
    "# define the grid search\n",
    "Lasso_reg = GridSearchCV(\n",
    "    model, params, scoring=scoring,\n",
    "    cv=5,\n",
    "    n_jobs=-1,\n",
    "    return_train_score=True,\n",
    "    verbose=1)\n",
    "\n",
    "#fit the grid search\n",
    "Lasso_reg.fit(X_train.values, y_train)\n",
    "\n",
    "# best estimator\n",
    "print(\"Best estimator :\", Lasso_reg.best_estimator_)\n",
    "\n",
    "# best model\n",
    "best_model = Lasso_reg.best_estimator_\n",
    "best_model.fit(X_train.values, y_train)\n",
    "\n",
    "y_pred_lasso = best_model.predict(X_test.values)\n",
    "\n",
    "# 3) Evaluate\n",
    "results = evaluate_regression(\"LASSO GridSearchCV\", results, y_test, y_pred_lasso)"
   ],
   "metadata": {
    "collapsed": false,
    "pycharm": {
     "name": "#%%\n"
    }
   }
  },
  {
   "cell_type": "code",
   "execution_count": 290,
   "outputs": [
    {
     "name": "stdout",
     "output_type": "stream",
     "text": [
      "ASK MENTOR : pk optimisation meilleure manuelle que avec griddeach ?????\n"
     ]
    }
   ],
   "source": [
    "y_pred_lasso\n",
    "print(\"ASK MENTOR : pk optimisation meilleure manuelle que avec griddeach ?????\")"
   ],
   "metadata": {
    "collapsed": false,
    "pycharm": {
     "name": "#%%\n"
    }
   }
  },
  {
   "cell_type": "markdown",
   "source": [
    "#### 4) Linear Model : Elastic Net"
   ],
   "metadata": {
    "collapsed": false,
    "pycharm": {
     "name": "#%% md\n"
    }
   }
  },
  {
   "cell_type": "markdown",
   "source": [
    "##### 4.1) Trying Elastic Net Regression / Manual optimisation hyperparameter"
   ],
   "metadata": {
    "collapsed": false,
    "pycharm": {
     "name": "#%% md\n"
    }
   }
  },
  {
   "cell_type": "markdown",
   "source": [
    "##### 1. Searching for the best hyperparameters alpha and l1_ratio"
   ],
   "metadata": {
    "collapsed": false,
    "pycharm": {
     "name": "#%% md\n"
    }
   }
  },
  {
   "cell_type": "code",
   "execution_count": 291,
   "outputs": [
    {
     "data": {
      "text/plain": "array([0.  , 0.01, 0.02, 0.03, 0.04, 0.05, 0.06, 0.07, 0.08, 0.09, 0.1 ,\n       0.11, 0.12, 0.13, 0.14, 0.15, 0.16, 0.17, 0.18, 0.19, 0.2 , 0.21,\n       0.22, 0.23, 0.24, 0.25, 0.26, 0.27, 0.28, 0.29, 0.3 , 0.31, 0.32,\n       0.33, 0.34, 0.35, 0.36, 0.37, 0.38, 0.39, 0.4 , 0.41, 0.42, 0.43,\n       0.44, 0.45, 0.46, 0.47, 0.48, 0.49, 0.5 , 0.51, 0.52, 0.53, 0.54,\n       0.55, 0.56, 0.57, 0.58, 0.59, 0.6 , 0.61, 0.62, 0.63, 0.64, 0.65,\n       0.66, 0.67, 0.68, 0.69, 0.7 , 0.71, 0.72, 0.73, 0.74, 0.75, 0.76,\n       0.77, 0.78, 0.79, 0.8 , 0.81, 0.82, 0.83, 0.84, 0.85, 0.86, 0.87,\n       0.88, 0.89, 0.9 , 0.91, 0.92, 0.93, 0.94, 0.95, 0.96, 0.97, 0.98,\n       0.99])"
     },
     "execution_count": 291,
     "metadata": {},
     "output_type": "execute_result"
    }
   ],
   "source": [
    "n = 100\n",
    "l1_ratio = np.random.uniform(0, 1, size=(1, 100))\n",
    "l1_ratio\n",
    "\n",
    "l = [i / n for i in range(n)]\n",
    "l = np.arange(0, 1, 10**-2)\n",
    "\n",
    "l1_ratio = np.arange(start=0, stop=1, step= 1/n)\n",
    "l1_ratio"
   ],
   "metadata": {
    "collapsed": false,
    "pycharm": {
     "name": "#%%\n"
    }
   }
  },
  {
   "cell_type": "code",
   "execution_count": 292,
   "outputs": [
    {
     "name": "stdout",
     "output_type": "stream",
     "text": [
      "alpha : 0.01 l1_ratio : 0.0 MSE : 1.4646878141441442\n",
      "alpha : 0.01 l1_ratio : 0.1 MSE : 1.4561413063469626\n",
      "alpha : 0.01 l1_ratio : 0.2 MSE : 1.448527132738155\n",
      "alpha : 0.01 l1_ratio : 0.3 MSE : 1.442137925051948\n",
      "alpha : 0.01 l1_ratio : 0.4 MSE : 1.4374025976728833\n",
      "alpha : 0.01 l1_ratio : 0.5 MSE : 1.4335945167250184\n",
      "alpha : 0.01 l1_ratio : 0.6 MSE : 1.430835885876238\n",
      "alpha : 0.01 l1_ratio : 0.7 MSE : 1.4291796190816024\n",
      "alpha : 0.01 l1_ratio : 0.8 MSE : 1.4275650606881798\n",
      "alpha : 0.01 l1_ratio : 0.9 MSE : 1.426031967390148\n",
      "Prediction for :  Log-Electricity(kBtu)\n"
     ]
    },
    {
     "data": {
      "text/plain": "                                 Model    RMSE     MSE     MAE  \\\n0                      Dummy Regressor 1.19055 1.41742 0.93884   \n0                    Linear Regression 1.22005 1.48853 0.95991   \n0                       Ridge manually 1.19060 1.41754 0.93887   \n0                   Ridge GridSearchCV 1.21995 1.48828 0.95983   \n0                       LASSO manually 1.19055 1.41742 0.93884   \n0                      Lasso Regressor 1.19055 1.41742 0.93884   \n0  Elastic, alpha 0.01, l1_ratio : 0.9 1.19417 1.42603 0.94187   \n\n   Median Absolute Error  R² = 1 - RSE  \n0                0.76211      -0.00016  \n0                0.79181      -0.05033  \n0                0.76249      -0.00024  \n0                0.79163      -0.05016  \n0                0.76211      -0.00016  \n0                0.76211      -0.00016  \n0                0.75694      -0.00624  ",
      "text/html": "<div>\n<style scoped>\n    .dataframe tbody tr th:only-of-type {\n        vertical-align: middle;\n    }\n\n    .dataframe tbody tr th {\n        vertical-align: top;\n    }\n\n    .dataframe thead th {\n        text-align: right;\n    }\n</style>\n<table border=\"1\" class=\"dataframe\">\n  <thead>\n    <tr style=\"text-align: right;\">\n      <th></th>\n      <th>Model</th>\n      <th>RMSE</th>\n      <th>MSE</th>\n      <th>MAE</th>\n      <th>Median Absolute Error</th>\n      <th>R² = 1 - RSE</th>\n    </tr>\n  </thead>\n  <tbody>\n    <tr>\n      <th>0</th>\n      <td>Dummy Regressor</td>\n      <td>1.19055</td>\n      <td>1.41742</td>\n      <td>0.93884</td>\n      <td>0.76211</td>\n      <td>-0.00016</td>\n    </tr>\n    <tr>\n      <th>0</th>\n      <td>Linear Regression</td>\n      <td>1.22005</td>\n      <td>1.48853</td>\n      <td>0.95991</td>\n      <td>0.79181</td>\n      <td>-0.05033</td>\n    </tr>\n    <tr>\n      <th>0</th>\n      <td>Ridge manually</td>\n      <td>1.19060</td>\n      <td>1.41754</td>\n      <td>0.93887</td>\n      <td>0.76249</td>\n      <td>-0.00024</td>\n    </tr>\n    <tr>\n      <th>0</th>\n      <td>Ridge GridSearchCV</td>\n      <td>1.21995</td>\n      <td>1.48828</td>\n      <td>0.95983</td>\n      <td>0.79163</td>\n      <td>-0.05016</td>\n    </tr>\n    <tr>\n      <th>0</th>\n      <td>LASSO manually</td>\n      <td>1.19055</td>\n      <td>1.41742</td>\n      <td>0.93884</td>\n      <td>0.76211</td>\n      <td>-0.00016</td>\n    </tr>\n    <tr>\n      <th>0</th>\n      <td>Lasso Regressor</td>\n      <td>1.19055</td>\n      <td>1.41742</td>\n      <td>0.93884</td>\n      <td>0.76211</td>\n      <td>-0.00016</td>\n    </tr>\n    <tr>\n      <th>0</th>\n      <td>Elastic, alpha 0.01, l1_ratio : 0.9</td>\n      <td>1.19417</td>\n      <td>1.42603</td>\n      <td>0.94187</td>\n      <td>0.75694</td>\n      <td>-0.00624</td>\n    </tr>\n  </tbody>\n</table>\n</div>"
     },
     "metadata": {},
     "output_type": "display_data"
    },
    {
     "name": "stdout",
     "output_type": "stream",
     "text": [
      "alpha : 0.027825594022071243 l1_ratio : 0.0 MSE : 1.4513995826152724\n",
      "alpha : 0.027825594022071243 l1_ratio : 0.1 MSE : 1.4371064179778077\n",
      "alpha : 0.027825594022071243 l1_ratio : 0.2 MSE : 1.42913576008732\n",
      "alpha : 0.027825594022071243 l1_ratio : 0.3 MSE : 1.425231673039139\n",
      "alpha : 0.027825594022071243 l1_ratio : 0.4 MSE : 1.422275119914795\n",
      "alpha : 0.027825594022071243 l1_ratio : 0.5 MSE : 1.41950503478817\n",
      "alpha : 0.027825594022071243 l1_ratio : 0.6 MSE : 1.4179694878970106\n",
      "alpha : 0.027825594022071243 l1_ratio : 0.7 MSE : 1.4175038024199889\n",
      "alpha : 0.027825594022071243 l1_ratio : 0.8 MSE : 1.417418177914121\n",
      "alpha : 0.027825594022071243 l1_ratio : 0.9 MSE : 1.417418177914121\n",
      "Prediction for :  Log-Electricity(kBtu)\n"
     ]
    },
    {
     "data": {
      "text/plain": "                                               Model    RMSE     MSE     MAE  \\\n0                                    Dummy Regressor 1.19055 1.41742 0.93884   \n0                                  Linear Regression 1.22005 1.48853 0.95991   \n0                                     Ridge manually 1.19060 1.41754 0.93887   \n0                                 Ridge GridSearchCV 1.21995 1.48828 0.95983   \n0                                     LASSO manually 1.19055 1.41742 0.93884   \n0                                    Lasso Regressor 1.19055 1.41742 0.93884   \n0                Elastic, alpha 0.01, l1_ratio : 0.9 1.19417 1.42603 0.94187   \n0  Elastic, alpha 0.027825594022071243, l1_ratio ... 1.19055 1.41742 0.93884   \n\n   Median Absolute Error  R² = 1 - RSE  \n0                0.76211      -0.00016  \n0                0.79181      -0.05033  \n0                0.76249      -0.00024  \n0                0.79163      -0.05016  \n0                0.76211      -0.00016  \n0                0.76211      -0.00016  \n0                0.75694      -0.00624  \n0                0.76211      -0.00016  ",
      "text/html": "<div>\n<style scoped>\n    .dataframe tbody tr th:only-of-type {\n        vertical-align: middle;\n    }\n\n    .dataframe tbody tr th {\n        vertical-align: top;\n    }\n\n    .dataframe thead th {\n        text-align: right;\n    }\n</style>\n<table border=\"1\" class=\"dataframe\">\n  <thead>\n    <tr style=\"text-align: right;\">\n      <th></th>\n      <th>Model</th>\n      <th>RMSE</th>\n      <th>MSE</th>\n      <th>MAE</th>\n      <th>Median Absolute Error</th>\n      <th>R² = 1 - RSE</th>\n    </tr>\n  </thead>\n  <tbody>\n    <tr>\n      <th>0</th>\n      <td>Dummy Regressor</td>\n      <td>1.19055</td>\n      <td>1.41742</td>\n      <td>0.93884</td>\n      <td>0.76211</td>\n      <td>-0.00016</td>\n    </tr>\n    <tr>\n      <th>0</th>\n      <td>Linear Regression</td>\n      <td>1.22005</td>\n      <td>1.48853</td>\n      <td>0.95991</td>\n      <td>0.79181</td>\n      <td>-0.05033</td>\n    </tr>\n    <tr>\n      <th>0</th>\n      <td>Ridge manually</td>\n      <td>1.19060</td>\n      <td>1.41754</td>\n      <td>0.93887</td>\n      <td>0.76249</td>\n      <td>-0.00024</td>\n    </tr>\n    <tr>\n      <th>0</th>\n      <td>Ridge GridSearchCV</td>\n      <td>1.21995</td>\n      <td>1.48828</td>\n      <td>0.95983</td>\n      <td>0.79163</td>\n      <td>-0.05016</td>\n    </tr>\n    <tr>\n      <th>0</th>\n      <td>LASSO manually</td>\n      <td>1.19055</td>\n      <td>1.41742</td>\n      <td>0.93884</td>\n      <td>0.76211</td>\n      <td>-0.00016</td>\n    </tr>\n    <tr>\n      <th>0</th>\n      <td>Lasso Regressor</td>\n      <td>1.19055</td>\n      <td>1.41742</td>\n      <td>0.93884</td>\n      <td>0.76211</td>\n      <td>-0.00016</td>\n    </tr>\n    <tr>\n      <th>0</th>\n      <td>Elastic, alpha 0.01, l1_ratio : 0.9</td>\n      <td>1.19417</td>\n      <td>1.42603</td>\n      <td>0.94187</td>\n      <td>0.75694</td>\n      <td>-0.00624</td>\n    </tr>\n    <tr>\n      <th>0</th>\n      <td>Elastic, alpha 0.027825594022071243, l1_ratio ...</td>\n      <td>1.19055</td>\n      <td>1.41742</td>\n      <td>0.93884</td>\n      <td>0.76211</td>\n      <td>-0.00016</td>\n    </tr>\n  </tbody>\n</table>\n</div>"
     },
     "metadata": {},
     "output_type": "display_data"
    },
    {
     "name": "stdout",
     "output_type": "stream",
     "text": [
      "alpha : 0.0774263682681127 l1_ratio : 0.0 MSE : 1.4385616279793487\n",
      "alpha : 0.0774263682681127 l1_ratio : 0.1 MSE : 1.4235450096112165\n",
      "alpha : 0.0774263682681127 l1_ratio : 0.2 MSE : 1.4183352344749274\n",
      "alpha : 0.0774263682681127 l1_ratio : 0.3 MSE : 1.417418177914121\n",
      "alpha : 0.0774263682681127 l1_ratio : 0.4 MSE : 1.417418177914121\n",
      "alpha : 0.0774263682681127 l1_ratio : 0.5 MSE : 1.417418177914121\n",
      "alpha : 0.0774263682681127 l1_ratio : 0.6 MSE : 1.417418177914121\n",
      "alpha : 0.0774263682681127 l1_ratio : 0.7 MSE : 1.417418177914121\n",
      "alpha : 0.0774263682681127 l1_ratio : 0.8 MSE : 1.417418177914121\n",
      "alpha : 0.0774263682681127 l1_ratio : 0.9 MSE : 1.417418177914121\n",
      "Prediction for :  Log-Electricity(kBtu)\n"
     ]
    },
    {
     "data": {
      "text/plain": "                                               Model    RMSE     MSE     MAE  \\\n0                                    Dummy Regressor 1.19055 1.41742 0.93884   \n0                                  Linear Regression 1.22005 1.48853 0.95991   \n0                                     Ridge manually 1.19060 1.41754 0.93887   \n0                                 Ridge GridSearchCV 1.21995 1.48828 0.95983   \n0                                     LASSO manually 1.19055 1.41742 0.93884   \n0                                    Lasso Regressor 1.19055 1.41742 0.93884   \n0                Elastic, alpha 0.01, l1_ratio : 0.9 1.19417 1.42603 0.94187   \n0  Elastic, alpha 0.027825594022071243, l1_ratio ... 1.19055 1.41742 0.93884   \n0  Elastic, alpha 0.0774263682681127, l1_ratio : 0.8 1.19055 1.41742 0.93884   \n\n   Median Absolute Error  R² = 1 - RSE  \n0                0.76211      -0.00016  \n0                0.79181      -0.05033  \n0                0.76249      -0.00024  \n0                0.79163      -0.05016  \n0                0.76211      -0.00016  \n0                0.76211      -0.00016  \n0                0.75694      -0.00624  \n0                0.76211      -0.00016  \n0                0.76211      -0.00016  ",
      "text/html": "<div>\n<style scoped>\n    .dataframe tbody tr th:only-of-type {\n        vertical-align: middle;\n    }\n\n    .dataframe tbody tr th {\n        vertical-align: top;\n    }\n\n    .dataframe thead th {\n        text-align: right;\n    }\n</style>\n<table border=\"1\" class=\"dataframe\">\n  <thead>\n    <tr style=\"text-align: right;\">\n      <th></th>\n      <th>Model</th>\n      <th>RMSE</th>\n      <th>MSE</th>\n      <th>MAE</th>\n      <th>Median Absolute Error</th>\n      <th>R² = 1 - RSE</th>\n    </tr>\n  </thead>\n  <tbody>\n    <tr>\n      <th>0</th>\n      <td>Dummy Regressor</td>\n      <td>1.19055</td>\n      <td>1.41742</td>\n      <td>0.93884</td>\n      <td>0.76211</td>\n      <td>-0.00016</td>\n    </tr>\n    <tr>\n      <th>0</th>\n      <td>Linear Regression</td>\n      <td>1.22005</td>\n      <td>1.48853</td>\n      <td>0.95991</td>\n      <td>0.79181</td>\n      <td>-0.05033</td>\n    </tr>\n    <tr>\n      <th>0</th>\n      <td>Ridge manually</td>\n      <td>1.19060</td>\n      <td>1.41754</td>\n      <td>0.93887</td>\n      <td>0.76249</td>\n      <td>-0.00024</td>\n    </tr>\n    <tr>\n      <th>0</th>\n      <td>Ridge GridSearchCV</td>\n      <td>1.21995</td>\n      <td>1.48828</td>\n      <td>0.95983</td>\n      <td>0.79163</td>\n      <td>-0.05016</td>\n    </tr>\n    <tr>\n      <th>0</th>\n      <td>LASSO manually</td>\n      <td>1.19055</td>\n      <td>1.41742</td>\n      <td>0.93884</td>\n      <td>0.76211</td>\n      <td>-0.00016</td>\n    </tr>\n    <tr>\n      <th>0</th>\n      <td>Lasso Regressor</td>\n      <td>1.19055</td>\n      <td>1.41742</td>\n      <td>0.93884</td>\n      <td>0.76211</td>\n      <td>-0.00016</td>\n    </tr>\n    <tr>\n      <th>0</th>\n      <td>Elastic, alpha 0.01, l1_ratio : 0.9</td>\n      <td>1.19417</td>\n      <td>1.42603</td>\n      <td>0.94187</td>\n      <td>0.75694</td>\n      <td>-0.00624</td>\n    </tr>\n    <tr>\n      <th>0</th>\n      <td>Elastic, alpha 0.027825594022071243, l1_ratio ...</td>\n      <td>1.19055</td>\n      <td>1.41742</td>\n      <td>0.93884</td>\n      <td>0.76211</td>\n      <td>-0.00016</td>\n    </tr>\n    <tr>\n      <th>0</th>\n      <td>Elastic, alpha 0.0774263682681127, l1_ratio : 0.8</td>\n      <td>1.19055</td>\n      <td>1.41742</td>\n      <td>0.93884</td>\n      <td>0.76211</td>\n      <td>-0.00016</td>\n    </tr>\n  </tbody>\n</table>\n</div>"
     },
     "metadata": {},
     "output_type": "display_data"
    },
    {
     "name": "stdout",
     "output_type": "stream",
     "text": [
      "alpha : 0.21544346900318834 l1_ratio : 0.0 MSE : 1.4290559038417436\n",
      "alpha : 0.21544346900318834 l1_ratio : 0.1 MSE : 1.417418177914121\n",
      "alpha : 0.21544346900318834 l1_ratio : 0.2 MSE : 1.417418177914121\n",
      "alpha : 0.21544346900318834 l1_ratio : 0.3 MSE : 1.417418177914121\n",
      "alpha : 0.21544346900318834 l1_ratio : 0.4 MSE : 1.417418177914121\n",
      "alpha : 0.21544346900318834 l1_ratio : 0.5 MSE : 1.417418177914121\n",
      "alpha : 0.21544346900318834 l1_ratio : 0.6 MSE : 1.417418177914121\n",
      "alpha : 0.21544346900318834 l1_ratio : 0.7 MSE : 1.417418177914121\n",
      "alpha : 0.21544346900318834 l1_ratio : 0.8 MSE : 1.417418177914121\n",
      "alpha : 0.21544346900318834 l1_ratio : 0.9 MSE : 1.417418177914121\n",
      "Prediction for :  Log-Electricity(kBtu)\n"
     ]
    },
    {
     "data": {
      "text/plain": "                                               Model    RMSE     MSE     MAE  \\\n0                                    Dummy Regressor 1.19055 1.41742 0.93884   \n0                                  Linear Regression 1.22005 1.48853 0.95991   \n0                                     Ridge manually 1.19060 1.41754 0.93887   \n0                                 Ridge GridSearchCV 1.21995 1.48828 0.95983   \n0                                     LASSO manually 1.19055 1.41742 0.93884   \n0                                    Lasso Regressor 1.19055 1.41742 0.93884   \n0                Elastic, alpha 0.01, l1_ratio : 0.9 1.19417 1.42603 0.94187   \n0  Elastic, alpha 0.027825594022071243, l1_ratio ... 1.19055 1.41742 0.93884   \n0  Elastic, alpha 0.0774263682681127, l1_ratio : 0.8 1.19055 1.41742 0.93884   \n0  Elastic, alpha 0.21544346900318834, l1_ratio :... 1.19055 1.41742 0.93884   \n\n   Median Absolute Error  R² = 1 - RSE  \n0                0.76211      -0.00016  \n0                0.79181      -0.05033  \n0                0.76249      -0.00024  \n0                0.79163      -0.05016  \n0                0.76211      -0.00016  \n0                0.76211      -0.00016  \n0                0.75694      -0.00624  \n0                0.76211      -0.00016  \n0                0.76211      -0.00016  \n0                0.76211      -0.00016  ",
      "text/html": "<div>\n<style scoped>\n    .dataframe tbody tr th:only-of-type {\n        vertical-align: middle;\n    }\n\n    .dataframe tbody tr th {\n        vertical-align: top;\n    }\n\n    .dataframe thead th {\n        text-align: right;\n    }\n</style>\n<table border=\"1\" class=\"dataframe\">\n  <thead>\n    <tr style=\"text-align: right;\">\n      <th></th>\n      <th>Model</th>\n      <th>RMSE</th>\n      <th>MSE</th>\n      <th>MAE</th>\n      <th>Median Absolute Error</th>\n      <th>R² = 1 - RSE</th>\n    </tr>\n  </thead>\n  <tbody>\n    <tr>\n      <th>0</th>\n      <td>Dummy Regressor</td>\n      <td>1.19055</td>\n      <td>1.41742</td>\n      <td>0.93884</td>\n      <td>0.76211</td>\n      <td>-0.00016</td>\n    </tr>\n    <tr>\n      <th>0</th>\n      <td>Linear Regression</td>\n      <td>1.22005</td>\n      <td>1.48853</td>\n      <td>0.95991</td>\n      <td>0.79181</td>\n      <td>-0.05033</td>\n    </tr>\n    <tr>\n      <th>0</th>\n      <td>Ridge manually</td>\n      <td>1.19060</td>\n      <td>1.41754</td>\n      <td>0.93887</td>\n      <td>0.76249</td>\n      <td>-0.00024</td>\n    </tr>\n    <tr>\n      <th>0</th>\n      <td>Ridge GridSearchCV</td>\n      <td>1.21995</td>\n      <td>1.48828</td>\n      <td>0.95983</td>\n      <td>0.79163</td>\n      <td>-0.05016</td>\n    </tr>\n    <tr>\n      <th>0</th>\n      <td>LASSO manually</td>\n      <td>1.19055</td>\n      <td>1.41742</td>\n      <td>0.93884</td>\n      <td>0.76211</td>\n      <td>-0.00016</td>\n    </tr>\n    <tr>\n      <th>0</th>\n      <td>Lasso Regressor</td>\n      <td>1.19055</td>\n      <td>1.41742</td>\n      <td>0.93884</td>\n      <td>0.76211</td>\n      <td>-0.00016</td>\n    </tr>\n    <tr>\n      <th>0</th>\n      <td>Elastic, alpha 0.01, l1_ratio : 0.9</td>\n      <td>1.19417</td>\n      <td>1.42603</td>\n      <td>0.94187</td>\n      <td>0.75694</td>\n      <td>-0.00624</td>\n    </tr>\n    <tr>\n      <th>0</th>\n      <td>Elastic, alpha 0.027825594022071243, l1_ratio ...</td>\n      <td>1.19055</td>\n      <td>1.41742</td>\n      <td>0.93884</td>\n      <td>0.76211</td>\n      <td>-0.00016</td>\n    </tr>\n    <tr>\n      <th>0</th>\n      <td>Elastic, alpha 0.0774263682681127, l1_ratio : 0.8</td>\n      <td>1.19055</td>\n      <td>1.41742</td>\n      <td>0.93884</td>\n      <td>0.76211</td>\n      <td>-0.00016</td>\n    </tr>\n    <tr>\n      <th>0</th>\n      <td>Elastic, alpha 0.21544346900318834, l1_ratio :...</td>\n      <td>1.19055</td>\n      <td>1.41742</td>\n      <td>0.93884</td>\n      <td>0.76211</td>\n      <td>-0.00016</td>\n    </tr>\n  </tbody>\n</table>\n</div>"
     },
     "metadata": {},
     "output_type": "display_data"
    },
    {
     "name": "stdout",
     "output_type": "stream",
     "text": [
      "alpha : 0.5994842503189409 l1_ratio : 0.0 MSE : 1.4232224161916252\n",
      "alpha : 0.5994842503189409 l1_ratio : 0.1 MSE : 1.417418177914121\n",
      "alpha : 0.5994842503189409 l1_ratio : 0.2 MSE : 1.417418177914121\n",
      "alpha : 0.5994842503189409 l1_ratio : 0.3 MSE : 1.417418177914121\n",
      "alpha : 0.5994842503189409 l1_ratio : 0.4 MSE : 1.417418177914121\n",
      "alpha : 0.5994842503189409 l1_ratio : 0.5 MSE : 1.417418177914121\n",
      "alpha : 0.5994842503189409 l1_ratio : 0.6 MSE : 1.417418177914121\n",
      "alpha : 0.5994842503189409 l1_ratio : 0.7 MSE : 1.417418177914121\n",
      "alpha : 0.5994842503189409 l1_ratio : 0.8 MSE : 1.417418177914121\n",
      "alpha : 0.5994842503189409 l1_ratio : 0.9 MSE : 1.417418177914121\n",
      "Prediction for :  Log-Electricity(kBtu)\n"
     ]
    },
    {
     "data": {
      "text/plain": "                                               Model    RMSE     MSE     MAE  \\\n0                                    Dummy Regressor 1.19055 1.41742 0.93884   \n0                                  Linear Regression 1.22005 1.48853 0.95991   \n0                                     Ridge manually 1.19060 1.41754 0.93887   \n0                                 Ridge GridSearchCV 1.21995 1.48828 0.95983   \n0                                     LASSO manually 1.19055 1.41742 0.93884   \n0                                    Lasso Regressor 1.19055 1.41742 0.93884   \n0                Elastic, alpha 0.01, l1_ratio : 0.9 1.19417 1.42603 0.94187   \n0  Elastic, alpha 0.027825594022071243, l1_ratio ... 1.19055 1.41742 0.93884   \n0  Elastic, alpha 0.0774263682681127, l1_ratio : 0.8 1.19055 1.41742 0.93884   \n0  Elastic, alpha 0.21544346900318834, l1_ratio :... 1.19055 1.41742 0.93884   \n0  Elastic, alpha 0.5994842503189409, l1_ratio : 0.8 1.19055 1.41742 0.93884   \n\n   Median Absolute Error  R² = 1 - RSE  \n0                0.76211      -0.00016  \n0                0.79181      -0.05033  \n0                0.76249      -0.00024  \n0                0.79163      -0.05016  \n0                0.76211      -0.00016  \n0                0.76211      -0.00016  \n0                0.75694      -0.00624  \n0                0.76211      -0.00016  \n0                0.76211      -0.00016  \n0                0.76211      -0.00016  \n0                0.76211      -0.00016  ",
      "text/html": "<div>\n<style scoped>\n    .dataframe tbody tr th:only-of-type {\n        vertical-align: middle;\n    }\n\n    .dataframe tbody tr th {\n        vertical-align: top;\n    }\n\n    .dataframe thead th {\n        text-align: right;\n    }\n</style>\n<table border=\"1\" class=\"dataframe\">\n  <thead>\n    <tr style=\"text-align: right;\">\n      <th></th>\n      <th>Model</th>\n      <th>RMSE</th>\n      <th>MSE</th>\n      <th>MAE</th>\n      <th>Median Absolute Error</th>\n      <th>R² = 1 - RSE</th>\n    </tr>\n  </thead>\n  <tbody>\n    <tr>\n      <th>0</th>\n      <td>Dummy Regressor</td>\n      <td>1.19055</td>\n      <td>1.41742</td>\n      <td>0.93884</td>\n      <td>0.76211</td>\n      <td>-0.00016</td>\n    </tr>\n    <tr>\n      <th>0</th>\n      <td>Linear Regression</td>\n      <td>1.22005</td>\n      <td>1.48853</td>\n      <td>0.95991</td>\n      <td>0.79181</td>\n      <td>-0.05033</td>\n    </tr>\n    <tr>\n      <th>0</th>\n      <td>Ridge manually</td>\n      <td>1.19060</td>\n      <td>1.41754</td>\n      <td>0.93887</td>\n      <td>0.76249</td>\n      <td>-0.00024</td>\n    </tr>\n    <tr>\n      <th>0</th>\n      <td>Ridge GridSearchCV</td>\n      <td>1.21995</td>\n      <td>1.48828</td>\n      <td>0.95983</td>\n      <td>0.79163</td>\n      <td>-0.05016</td>\n    </tr>\n    <tr>\n      <th>0</th>\n      <td>LASSO manually</td>\n      <td>1.19055</td>\n      <td>1.41742</td>\n      <td>0.93884</td>\n      <td>0.76211</td>\n      <td>-0.00016</td>\n    </tr>\n    <tr>\n      <th>0</th>\n      <td>Lasso Regressor</td>\n      <td>1.19055</td>\n      <td>1.41742</td>\n      <td>0.93884</td>\n      <td>0.76211</td>\n      <td>-0.00016</td>\n    </tr>\n    <tr>\n      <th>0</th>\n      <td>Elastic, alpha 0.01, l1_ratio : 0.9</td>\n      <td>1.19417</td>\n      <td>1.42603</td>\n      <td>0.94187</td>\n      <td>0.75694</td>\n      <td>-0.00624</td>\n    </tr>\n    <tr>\n      <th>0</th>\n      <td>Elastic, alpha 0.027825594022071243, l1_ratio ...</td>\n      <td>1.19055</td>\n      <td>1.41742</td>\n      <td>0.93884</td>\n      <td>0.76211</td>\n      <td>-0.00016</td>\n    </tr>\n    <tr>\n      <th>0</th>\n      <td>Elastic, alpha 0.0774263682681127, l1_ratio : 0.8</td>\n      <td>1.19055</td>\n      <td>1.41742</td>\n      <td>0.93884</td>\n      <td>0.76211</td>\n      <td>-0.00016</td>\n    </tr>\n    <tr>\n      <th>0</th>\n      <td>Elastic, alpha 0.21544346900318834, l1_ratio :...</td>\n      <td>1.19055</td>\n      <td>1.41742</td>\n      <td>0.93884</td>\n      <td>0.76211</td>\n      <td>-0.00016</td>\n    </tr>\n    <tr>\n      <th>0</th>\n      <td>Elastic, alpha 0.5994842503189409, l1_ratio : 0.8</td>\n      <td>1.19055</td>\n      <td>1.41742</td>\n      <td>0.93884</td>\n      <td>0.76211</td>\n      <td>-0.00016</td>\n    </tr>\n  </tbody>\n</table>\n</div>"
     },
     "metadata": {},
     "output_type": "display_data"
    },
    {
     "name": "stdout",
     "output_type": "stream",
     "text": [
      "alpha : 1.6681005372000592 l1_ratio : 0.0 MSE : 1.4200126596519667\n",
      "alpha : 1.6681005372000592 l1_ratio : 0.1 MSE : 1.417418177914121\n",
      "alpha : 1.6681005372000592 l1_ratio : 0.2 MSE : 1.417418177914121\n",
      "alpha : 1.6681005372000592 l1_ratio : 0.3 MSE : 1.417418177914121\n",
      "alpha : 1.6681005372000592 l1_ratio : 0.4 MSE : 1.417418177914121\n",
      "alpha : 1.6681005372000592 l1_ratio : 0.5 MSE : 1.417418177914121\n",
      "alpha : 1.6681005372000592 l1_ratio : 0.6 MSE : 1.417418177914121\n",
      "alpha : 1.6681005372000592 l1_ratio : 0.7 MSE : 1.417418177914121\n",
      "alpha : 1.6681005372000592 l1_ratio : 0.8 MSE : 1.417418177914121\n",
      "alpha : 1.6681005372000592 l1_ratio : 0.9 MSE : 1.417418177914121\n",
      "Prediction for :  Log-Electricity(kBtu)\n"
     ]
    },
    {
     "data": {
      "text/plain": "                                               Model    RMSE     MSE     MAE  \\\n0                                    Dummy Regressor 1.19055 1.41742 0.93884   \n0                                  Linear Regression 1.22005 1.48853 0.95991   \n0                                     Ridge manually 1.19060 1.41754 0.93887   \n0                                 Ridge GridSearchCV 1.21995 1.48828 0.95983   \n0                                     LASSO manually 1.19055 1.41742 0.93884   \n0                                    Lasso Regressor 1.19055 1.41742 0.93884   \n0                Elastic, alpha 0.01, l1_ratio : 0.9 1.19417 1.42603 0.94187   \n0  Elastic, alpha 0.027825594022071243, l1_ratio ... 1.19055 1.41742 0.93884   \n0  Elastic, alpha 0.0774263682681127, l1_ratio : 0.8 1.19055 1.41742 0.93884   \n0  Elastic, alpha 0.21544346900318834, l1_ratio :... 1.19055 1.41742 0.93884   \n0  Elastic, alpha 0.5994842503189409, l1_ratio : 0.8 1.19055 1.41742 0.93884   \n0  Elastic, alpha 1.6681005372000592, l1_ratio : 0.8 1.19055 1.41742 0.93884   \n\n   Median Absolute Error  R² = 1 - RSE  \n0                0.76211      -0.00016  \n0                0.79181      -0.05033  \n0                0.76249      -0.00024  \n0                0.79163      -0.05016  \n0                0.76211      -0.00016  \n0                0.76211      -0.00016  \n0                0.75694      -0.00624  \n0                0.76211      -0.00016  \n0                0.76211      -0.00016  \n0                0.76211      -0.00016  \n0                0.76211      -0.00016  \n0                0.76211      -0.00016  ",
      "text/html": "<div>\n<style scoped>\n    .dataframe tbody tr th:only-of-type {\n        vertical-align: middle;\n    }\n\n    .dataframe tbody tr th {\n        vertical-align: top;\n    }\n\n    .dataframe thead th {\n        text-align: right;\n    }\n</style>\n<table border=\"1\" class=\"dataframe\">\n  <thead>\n    <tr style=\"text-align: right;\">\n      <th></th>\n      <th>Model</th>\n      <th>RMSE</th>\n      <th>MSE</th>\n      <th>MAE</th>\n      <th>Median Absolute Error</th>\n      <th>R² = 1 - RSE</th>\n    </tr>\n  </thead>\n  <tbody>\n    <tr>\n      <th>0</th>\n      <td>Dummy Regressor</td>\n      <td>1.19055</td>\n      <td>1.41742</td>\n      <td>0.93884</td>\n      <td>0.76211</td>\n      <td>-0.00016</td>\n    </tr>\n    <tr>\n      <th>0</th>\n      <td>Linear Regression</td>\n      <td>1.22005</td>\n      <td>1.48853</td>\n      <td>0.95991</td>\n      <td>0.79181</td>\n      <td>-0.05033</td>\n    </tr>\n    <tr>\n      <th>0</th>\n      <td>Ridge manually</td>\n      <td>1.19060</td>\n      <td>1.41754</td>\n      <td>0.93887</td>\n      <td>0.76249</td>\n      <td>-0.00024</td>\n    </tr>\n    <tr>\n      <th>0</th>\n      <td>Ridge GridSearchCV</td>\n      <td>1.21995</td>\n      <td>1.48828</td>\n      <td>0.95983</td>\n      <td>0.79163</td>\n      <td>-0.05016</td>\n    </tr>\n    <tr>\n      <th>0</th>\n      <td>LASSO manually</td>\n      <td>1.19055</td>\n      <td>1.41742</td>\n      <td>0.93884</td>\n      <td>0.76211</td>\n      <td>-0.00016</td>\n    </tr>\n    <tr>\n      <th>0</th>\n      <td>Lasso Regressor</td>\n      <td>1.19055</td>\n      <td>1.41742</td>\n      <td>0.93884</td>\n      <td>0.76211</td>\n      <td>-0.00016</td>\n    </tr>\n    <tr>\n      <th>0</th>\n      <td>Elastic, alpha 0.01, l1_ratio : 0.9</td>\n      <td>1.19417</td>\n      <td>1.42603</td>\n      <td>0.94187</td>\n      <td>0.75694</td>\n      <td>-0.00624</td>\n    </tr>\n    <tr>\n      <th>0</th>\n      <td>Elastic, alpha 0.027825594022071243, l1_ratio ...</td>\n      <td>1.19055</td>\n      <td>1.41742</td>\n      <td>0.93884</td>\n      <td>0.76211</td>\n      <td>-0.00016</td>\n    </tr>\n    <tr>\n      <th>0</th>\n      <td>Elastic, alpha 0.0774263682681127, l1_ratio : 0.8</td>\n      <td>1.19055</td>\n      <td>1.41742</td>\n      <td>0.93884</td>\n      <td>0.76211</td>\n      <td>-0.00016</td>\n    </tr>\n    <tr>\n      <th>0</th>\n      <td>Elastic, alpha 0.21544346900318834, l1_ratio :...</td>\n      <td>1.19055</td>\n      <td>1.41742</td>\n      <td>0.93884</td>\n      <td>0.76211</td>\n      <td>-0.00016</td>\n    </tr>\n    <tr>\n      <th>0</th>\n      <td>Elastic, alpha 0.5994842503189409, l1_ratio : 0.8</td>\n      <td>1.19055</td>\n      <td>1.41742</td>\n      <td>0.93884</td>\n      <td>0.76211</td>\n      <td>-0.00016</td>\n    </tr>\n    <tr>\n      <th>0</th>\n      <td>Elastic, alpha 1.6681005372000592, l1_ratio : 0.8</td>\n      <td>1.19055</td>\n      <td>1.41742</td>\n      <td>0.93884</td>\n      <td>0.76211</td>\n      <td>-0.00016</td>\n    </tr>\n  </tbody>\n</table>\n</div>"
     },
     "metadata": {},
     "output_type": "display_data"
    },
    {
     "name": "stdout",
     "output_type": "stream",
     "text": [
      "alpha : 4.6415888336127775 l1_ratio : 0.0 MSE : 1.4184716128780437\n",
      "alpha : 4.6415888336127775 l1_ratio : 0.1 MSE : 1.417418177914121\n",
      "alpha : 4.6415888336127775 l1_ratio : 0.2 MSE : 1.417418177914121\n",
      "alpha : 4.6415888336127775 l1_ratio : 0.3 MSE : 1.417418177914121\n",
      "alpha : 4.6415888336127775 l1_ratio : 0.4 MSE : 1.417418177914121\n",
      "alpha : 4.6415888336127775 l1_ratio : 0.5 MSE : 1.417418177914121\n",
      "alpha : 4.6415888336127775 l1_ratio : 0.6 MSE : 1.417418177914121\n",
      "alpha : 4.6415888336127775 l1_ratio : 0.7 MSE : 1.417418177914121\n",
      "alpha : 4.6415888336127775 l1_ratio : 0.8 MSE : 1.417418177914121\n",
      "alpha : 4.6415888336127775 l1_ratio : 0.9 MSE : 1.417418177914121\n",
      "Prediction for :  Log-Electricity(kBtu)\n"
     ]
    },
    {
     "data": {
      "text/plain": "                                               Model    RMSE     MSE     MAE  \\\n0                                    Dummy Regressor 1.19055 1.41742 0.93884   \n0                                  Linear Regression 1.22005 1.48853 0.95991   \n0                                     Ridge manually 1.19060 1.41754 0.93887   \n0                                 Ridge GridSearchCV 1.21995 1.48828 0.95983   \n0                                     LASSO manually 1.19055 1.41742 0.93884   \n0                                    Lasso Regressor 1.19055 1.41742 0.93884   \n0                Elastic, alpha 0.01, l1_ratio : 0.9 1.19417 1.42603 0.94187   \n0  Elastic, alpha 0.027825594022071243, l1_ratio ... 1.19055 1.41742 0.93884   \n0  Elastic, alpha 0.0774263682681127, l1_ratio : 0.8 1.19055 1.41742 0.93884   \n0  Elastic, alpha 0.21544346900318834, l1_ratio :... 1.19055 1.41742 0.93884   \n0  Elastic, alpha 0.5994842503189409, l1_ratio : 0.8 1.19055 1.41742 0.93884   \n0  Elastic, alpha 1.6681005372000592, l1_ratio : 0.8 1.19055 1.41742 0.93884   \n0  Elastic, alpha 4.6415888336127775, l1_ratio : 0.8 1.19055 1.41742 0.93884   \n\n   Median Absolute Error  R² = 1 - RSE  \n0                0.76211      -0.00016  \n0                0.79181      -0.05033  \n0                0.76249      -0.00024  \n0                0.79163      -0.05016  \n0                0.76211      -0.00016  \n0                0.76211      -0.00016  \n0                0.75694      -0.00624  \n0                0.76211      -0.00016  \n0                0.76211      -0.00016  \n0                0.76211      -0.00016  \n0                0.76211      -0.00016  \n0                0.76211      -0.00016  \n0                0.76211      -0.00016  ",
      "text/html": "<div>\n<style scoped>\n    .dataframe tbody tr th:only-of-type {\n        vertical-align: middle;\n    }\n\n    .dataframe tbody tr th {\n        vertical-align: top;\n    }\n\n    .dataframe thead th {\n        text-align: right;\n    }\n</style>\n<table border=\"1\" class=\"dataframe\">\n  <thead>\n    <tr style=\"text-align: right;\">\n      <th></th>\n      <th>Model</th>\n      <th>RMSE</th>\n      <th>MSE</th>\n      <th>MAE</th>\n      <th>Median Absolute Error</th>\n      <th>R² = 1 - RSE</th>\n    </tr>\n  </thead>\n  <tbody>\n    <tr>\n      <th>0</th>\n      <td>Dummy Regressor</td>\n      <td>1.19055</td>\n      <td>1.41742</td>\n      <td>0.93884</td>\n      <td>0.76211</td>\n      <td>-0.00016</td>\n    </tr>\n    <tr>\n      <th>0</th>\n      <td>Linear Regression</td>\n      <td>1.22005</td>\n      <td>1.48853</td>\n      <td>0.95991</td>\n      <td>0.79181</td>\n      <td>-0.05033</td>\n    </tr>\n    <tr>\n      <th>0</th>\n      <td>Ridge manually</td>\n      <td>1.19060</td>\n      <td>1.41754</td>\n      <td>0.93887</td>\n      <td>0.76249</td>\n      <td>-0.00024</td>\n    </tr>\n    <tr>\n      <th>0</th>\n      <td>Ridge GridSearchCV</td>\n      <td>1.21995</td>\n      <td>1.48828</td>\n      <td>0.95983</td>\n      <td>0.79163</td>\n      <td>-0.05016</td>\n    </tr>\n    <tr>\n      <th>0</th>\n      <td>LASSO manually</td>\n      <td>1.19055</td>\n      <td>1.41742</td>\n      <td>0.93884</td>\n      <td>0.76211</td>\n      <td>-0.00016</td>\n    </tr>\n    <tr>\n      <th>0</th>\n      <td>Lasso Regressor</td>\n      <td>1.19055</td>\n      <td>1.41742</td>\n      <td>0.93884</td>\n      <td>0.76211</td>\n      <td>-0.00016</td>\n    </tr>\n    <tr>\n      <th>0</th>\n      <td>Elastic, alpha 0.01, l1_ratio : 0.9</td>\n      <td>1.19417</td>\n      <td>1.42603</td>\n      <td>0.94187</td>\n      <td>0.75694</td>\n      <td>-0.00624</td>\n    </tr>\n    <tr>\n      <th>0</th>\n      <td>Elastic, alpha 0.027825594022071243, l1_ratio ...</td>\n      <td>1.19055</td>\n      <td>1.41742</td>\n      <td>0.93884</td>\n      <td>0.76211</td>\n      <td>-0.00016</td>\n    </tr>\n    <tr>\n      <th>0</th>\n      <td>Elastic, alpha 0.0774263682681127, l1_ratio : 0.8</td>\n      <td>1.19055</td>\n      <td>1.41742</td>\n      <td>0.93884</td>\n      <td>0.76211</td>\n      <td>-0.00016</td>\n    </tr>\n    <tr>\n      <th>0</th>\n      <td>Elastic, alpha 0.21544346900318834, l1_ratio :...</td>\n      <td>1.19055</td>\n      <td>1.41742</td>\n      <td>0.93884</td>\n      <td>0.76211</td>\n      <td>-0.00016</td>\n    </tr>\n    <tr>\n      <th>0</th>\n      <td>Elastic, alpha 0.5994842503189409, l1_ratio : 0.8</td>\n      <td>1.19055</td>\n      <td>1.41742</td>\n      <td>0.93884</td>\n      <td>0.76211</td>\n      <td>-0.00016</td>\n    </tr>\n    <tr>\n      <th>0</th>\n      <td>Elastic, alpha 1.6681005372000592, l1_ratio : 0.8</td>\n      <td>1.19055</td>\n      <td>1.41742</td>\n      <td>0.93884</td>\n      <td>0.76211</td>\n      <td>-0.00016</td>\n    </tr>\n    <tr>\n      <th>0</th>\n      <td>Elastic, alpha 4.6415888336127775, l1_ratio : 0.8</td>\n      <td>1.19055</td>\n      <td>1.41742</td>\n      <td>0.93884</td>\n      <td>0.76211</td>\n      <td>-0.00016</td>\n    </tr>\n  </tbody>\n</table>\n</div>"
     },
     "metadata": {},
     "output_type": "display_data"
    },
    {
     "name": "stdout",
     "output_type": "stream",
     "text": [
      "alpha : 12.915496650148826 l1_ratio : 0.0 MSE : 1.4178198791676202\n",
      "alpha : 12.915496650148826 l1_ratio : 0.1 MSE : 1.417418177914121\n",
      "alpha : 12.915496650148826 l1_ratio : 0.2 MSE : 1.417418177914121\n",
      "alpha : 12.915496650148826 l1_ratio : 0.3 MSE : 1.417418177914121\n",
      "alpha : 12.915496650148826 l1_ratio : 0.4 MSE : 1.417418177914121\n",
      "alpha : 12.915496650148826 l1_ratio : 0.5 MSE : 1.417418177914121\n",
      "alpha : 12.915496650148826 l1_ratio : 0.6 MSE : 1.417418177914121\n",
      "alpha : 12.915496650148826 l1_ratio : 0.7 MSE : 1.417418177914121\n",
      "alpha : 12.915496650148826 l1_ratio : 0.8 MSE : 1.417418177914121\n",
      "alpha : 12.915496650148826 l1_ratio : 0.9 MSE : 1.417418177914121\n",
      "Prediction for :  Log-Electricity(kBtu)\n"
     ]
    },
    {
     "data": {
      "text/plain": "                                               Model    RMSE     MSE     MAE  \\\n0                                    Dummy Regressor 1.19055 1.41742 0.93884   \n0                                  Linear Regression 1.22005 1.48853 0.95991   \n0                                     Ridge manually 1.19060 1.41754 0.93887   \n0                                 Ridge GridSearchCV 1.21995 1.48828 0.95983   \n0                                     LASSO manually 1.19055 1.41742 0.93884   \n0                                    Lasso Regressor 1.19055 1.41742 0.93884   \n0                Elastic, alpha 0.01, l1_ratio : 0.9 1.19417 1.42603 0.94187   \n0  Elastic, alpha 0.027825594022071243, l1_ratio ... 1.19055 1.41742 0.93884   \n0  Elastic, alpha 0.0774263682681127, l1_ratio : 0.8 1.19055 1.41742 0.93884   \n0  Elastic, alpha 0.21544346900318834, l1_ratio :... 1.19055 1.41742 0.93884   \n0  Elastic, alpha 0.5994842503189409, l1_ratio : 0.8 1.19055 1.41742 0.93884   \n0  Elastic, alpha 1.6681005372000592, l1_ratio : 0.8 1.19055 1.41742 0.93884   \n0  Elastic, alpha 4.6415888336127775, l1_ratio : 0.8 1.19055 1.41742 0.93884   \n0  Elastic, alpha 12.915496650148826, l1_ratio : 0.8 1.19055 1.41742 0.93884   \n\n   Median Absolute Error  R² = 1 - RSE  \n0                0.76211      -0.00016  \n0                0.79181      -0.05033  \n0                0.76249      -0.00024  \n0                0.79163      -0.05016  \n0                0.76211      -0.00016  \n0                0.76211      -0.00016  \n0                0.75694      -0.00624  \n0                0.76211      -0.00016  \n0                0.76211      -0.00016  \n0                0.76211      -0.00016  \n0                0.76211      -0.00016  \n0                0.76211      -0.00016  \n0                0.76211      -0.00016  \n0                0.76211      -0.00016  ",
      "text/html": "<div>\n<style scoped>\n    .dataframe tbody tr th:only-of-type {\n        vertical-align: middle;\n    }\n\n    .dataframe tbody tr th {\n        vertical-align: top;\n    }\n\n    .dataframe thead th {\n        text-align: right;\n    }\n</style>\n<table border=\"1\" class=\"dataframe\">\n  <thead>\n    <tr style=\"text-align: right;\">\n      <th></th>\n      <th>Model</th>\n      <th>RMSE</th>\n      <th>MSE</th>\n      <th>MAE</th>\n      <th>Median Absolute Error</th>\n      <th>R² = 1 - RSE</th>\n    </tr>\n  </thead>\n  <tbody>\n    <tr>\n      <th>0</th>\n      <td>Dummy Regressor</td>\n      <td>1.19055</td>\n      <td>1.41742</td>\n      <td>0.93884</td>\n      <td>0.76211</td>\n      <td>-0.00016</td>\n    </tr>\n    <tr>\n      <th>0</th>\n      <td>Linear Regression</td>\n      <td>1.22005</td>\n      <td>1.48853</td>\n      <td>0.95991</td>\n      <td>0.79181</td>\n      <td>-0.05033</td>\n    </tr>\n    <tr>\n      <th>0</th>\n      <td>Ridge manually</td>\n      <td>1.19060</td>\n      <td>1.41754</td>\n      <td>0.93887</td>\n      <td>0.76249</td>\n      <td>-0.00024</td>\n    </tr>\n    <tr>\n      <th>0</th>\n      <td>Ridge GridSearchCV</td>\n      <td>1.21995</td>\n      <td>1.48828</td>\n      <td>0.95983</td>\n      <td>0.79163</td>\n      <td>-0.05016</td>\n    </tr>\n    <tr>\n      <th>0</th>\n      <td>LASSO manually</td>\n      <td>1.19055</td>\n      <td>1.41742</td>\n      <td>0.93884</td>\n      <td>0.76211</td>\n      <td>-0.00016</td>\n    </tr>\n    <tr>\n      <th>0</th>\n      <td>Lasso Regressor</td>\n      <td>1.19055</td>\n      <td>1.41742</td>\n      <td>0.93884</td>\n      <td>0.76211</td>\n      <td>-0.00016</td>\n    </tr>\n    <tr>\n      <th>0</th>\n      <td>Elastic, alpha 0.01, l1_ratio : 0.9</td>\n      <td>1.19417</td>\n      <td>1.42603</td>\n      <td>0.94187</td>\n      <td>0.75694</td>\n      <td>-0.00624</td>\n    </tr>\n    <tr>\n      <th>0</th>\n      <td>Elastic, alpha 0.027825594022071243, l1_ratio ...</td>\n      <td>1.19055</td>\n      <td>1.41742</td>\n      <td>0.93884</td>\n      <td>0.76211</td>\n      <td>-0.00016</td>\n    </tr>\n    <tr>\n      <th>0</th>\n      <td>Elastic, alpha 0.0774263682681127, l1_ratio : 0.8</td>\n      <td>1.19055</td>\n      <td>1.41742</td>\n      <td>0.93884</td>\n      <td>0.76211</td>\n      <td>-0.00016</td>\n    </tr>\n    <tr>\n      <th>0</th>\n      <td>Elastic, alpha 0.21544346900318834, l1_ratio :...</td>\n      <td>1.19055</td>\n      <td>1.41742</td>\n      <td>0.93884</td>\n      <td>0.76211</td>\n      <td>-0.00016</td>\n    </tr>\n    <tr>\n      <th>0</th>\n      <td>Elastic, alpha 0.5994842503189409, l1_ratio : 0.8</td>\n      <td>1.19055</td>\n      <td>1.41742</td>\n      <td>0.93884</td>\n      <td>0.76211</td>\n      <td>-0.00016</td>\n    </tr>\n    <tr>\n      <th>0</th>\n      <td>Elastic, alpha 1.6681005372000592, l1_ratio : 0.8</td>\n      <td>1.19055</td>\n      <td>1.41742</td>\n      <td>0.93884</td>\n      <td>0.76211</td>\n      <td>-0.00016</td>\n    </tr>\n    <tr>\n      <th>0</th>\n      <td>Elastic, alpha 4.6415888336127775, l1_ratio : 0.8</td>\n      <td>1.19055</td>\n      <td>1.41742</td>\n      <td>0.93884</td>\n      <td>0.76211</td>\n      <td>-0.00016</td>\n    </tr>\n    <tr>\n      <th>0</th>\n      <td>Elastic, alpha 12.915496650148826, l1_ratio : 0.8</td>\n      <td>1.19055</td>\n      <td>1.41742</td>\n      <td>0.93884</td>\n      <td>0.76211</td>\n      <td>-0.00016</td>\n    </tr>\n  </tbody>\n</table>\n</div>"
     },
     "metadata": {},
     "output_type": "display_data"
    },
    {
     "name": "stdout",
     "output_type": "stream",
     "text": [
      "alpha : 35.93813663804626 l1_ratio : 0.0 MSE : 1.4175662255639778\n",
      "alpha : 35.93813663804626 l1_ratio : 0.1 MSE : 1.417418177914121\n",
      "alpha : 35.93813663804626 l1_ratio : 0.2 MSE : 1.417418177914121\n",
      "alpha : 35.93813663804626 l1_ratio : 0.3 MSE : 1.417418177914121\n",
      "alpha : 35.93813663804626 l1_ratio : 0.4 MSE : 1.417418177914121\n",
      "alpha : 35.93813663804626 l1_ratio : 0.5 MSE : 1.417418177914121\n",
      "alpha : 35.93813663804626 l1_ratio : 0.6 MSE : 1.417418177914121\n",
      "alpha : 35.93813663804626 l1_ratio : 0.7 MSE : 1.417418177914121\n",
      "alpha : 35.93813663804626 l1_ratio : 0.8 MSE : 1.417418177914121\n",
      "alpha : 35.93813663804626 l1_ratio : 0.9 MSE : 1.417418177914121\n",
      "Prediction for :  Log-Electricity(kBtu)\n"
     ]
    },
    {
     "data": {
      "text/plain": "                                               Model    RMSE     MSE     MAE  \\\n0                                    Dummy Regressor 1.19055 1.41742 0.93884   \n0                                  Linear Regression 1.22005 1.48853 0.95991   \n0                                     Ridge manually 1.19060 1.41754 0.93887   \n0                                 Ridge GridSearchCV 1.21995 1.48828 0.95983   \n0                                     LASSO manually 1.19055 1.41742 0.93884   \n0                                    Lasso Regressor 1.19055 1.41742 0.93884   \n0                Elastic, alpha 0.01, l1_ratio : 0.9 1.19417 1.42603 0.94187   \n0  Elastic, alpha 0.027825594022071243, l1_ratio ... 1.19055 1.41742 0.93884   \n0  Elastic, alpha 0.0774263682681127, l1_ratio : 0.8 1.19055 1.41742 0.93884   \n0  Elastic, alpha 0.21544346900318834, l1_ratio :... 1.19055 1.41742 0.93884   \n0  Elastic, alpha 0.5994842503189409, l1_ratio : 0.8 1.19055 1.41742 0.93884   \n0  Elastic, alpha 1.6681005372000592, l1_ratio : 0.8 1.19055 1.41742 0.93884   \n0  Elastic, alpha 4.6415888336127775, l1_ratio : 0.8 1.19055 1.41742 0.93884   \n0  Elastic, alpha 12.915496650148826, l1_ratio : 0.8 1.19055 1.41742 0.93884   \n0   Elastic, alpha 35.93813663804626, l1_ratio : 0.8 1.19055 1.41742 0.93884   \n\n   Median Absolute Error  R² = 1 - RSE  \n0                0.76211      -0.00016  \n0                0.79181      -0.05033  \n0                0.76249      -0.00024  \n0                0.79163      -0.05016  \n0                0.76211      -0.00016  \n0                0.76211      -0.00016  \n0                0.75694      -0.00624  \n0                0.76211      -0.00016  \n0                0.76211      -0.00016  \n0                0.76211      -0.00016  \n0                0.76211      -0.00016  \n0                0.76211      -0.00016  \n0                0.76211      -0.00016  \n0                0.76211      -0.00016  \n0                0.76211      -0.00016  ",
      "text/html": "<div>\n<style scoped>\n    .dataframe tbody tr th:only-of-type {\n        vertical-align: middle;\n    }\n\n    .dataframe tbody tr th {\n        vertical-align: top;\n    }\n\n    .dataframe thead th {\n        text-align: right;\n    }\n</style>\n<table border=\"1\" class=\"dataframe\">\n  <thead>\n    <tr style=\"text-align: right;\">\n      <th></th>\n      <th>Model</th>\n      <th>RMSE</th>\n      <th>MSE</th>\n      <th>MAE</th>\n      <th>Median Absolute Error</th>\n      <th>R² = 1 - RSE</th>\n    </tr>\n  </thead>\n  <tbody>\n    <tr>\n      <th>0</th>\n      <td>Dummy Regressor</td>\n      <td>1.19055</td>\n      <td>1.41742</td>\n      <td>0.93884</td>\n      <td>0.76211</td>\n      <td>-0.00016</td>\n    </tr>\n    <tr>\n      <th>0</th>\n      <td>Linear Regression</td>\n      <td>1.22005</td>\n      <td>1.48853</td>\n      <td>0.95991</td>\n      <td>0.79181</td>\n      <td>-0.05033</td>\n    </tr>\n    <tr>\n      <th>0</th>\n      <td>Ridge manually</td>\n      <td>1.19060</td>\n      <td>1.41754</td>\n      <td>0.93887</td>\n      <td>0.76249</td>\n      <td>-0.00024</td>\n    </tr>\n    <tr>\n      <th>0</th>\n      <td>Ridge GridSearchCV</td>\n      <td>1.21995</td>\n      <td>1.48828</td>\n      <td>0.95983</td>\n      <td>0.79163</td>\n      <td>-0.05016</td>\n    </tr>\n    <tr>\n      <th>0</th>\n      <td>LASSO manually</td>\n      <td>1.19055</td>\n      <td>1.41742</td>\n      <td>0.93884</td>\n      <td>0.76211</td>\n      <td>-0.00016</td>\n    </tr>\n    <tr>\n      <th>0</th>\n      <td>Lasso Regressor</td>\n      <td>1.19055</td>\n      <td>1.41742</td>\n      <td>0.93884</td>\n      <td>0.76211</td>\n      <td>-0.00016</td>\n    </tr>\n    <tr>\n      <th>0</th>\n      <td>Elastic, alpha 0.01, l1_ratio : 0.9</td>\n      <td>1.19417</td>\n      <td>1.42603</td>\n      <td>0.94187</td>\n      <td>0.75694</td>\n      <td>-0.00624</td>\n    </tr>\n    <tr>\n      <th>0</th>\n      <td>Elastic, alpha 0.027825594022071243, l1_ratio ...</td>\n      <td>1.19055</td>\n      <td>1.41742</td>\n      <td>0.93884</td>\n      <td>0.76211</td>\n      <td>-0.00016</td>\n    </tr>\n    <tr>\n      <th>0</th>\n      <td>Elastic, alpha 0.0774263682681127, l1_ratio : 0.8</td>\n      <td>1.19055</td>\n      <td>1.41742</td>\n      <td>0.93884</td>\n      <td>0.76211</td>\n      <td>-0.00016</td>\n    </tr>\n    <tr>\n      <th>0</th>\n      <td>Elastic, alpha 0.21544346900318834, l1_ratio :...</td>\n      <td>1.19055</td>\n      <td>1.41742</td>\n      <td>0.93884</td>\n      <td>0.76211</td>\n      <td>-0.00016</td>\n    </tr>\n    <tr>\n      <th>0</th>\n      <td>Elastic, alpha 0.5994842503189409, l1_ratio : 0.8</td>\n      <td>1.19055</td>\n      <td>1.41742</td>\n      <td>0.93884</td>\n      <td>0.76211</td>\n      <td>-0.00016</td>\n    </tr>\n    <tr>\n      <th>0</th>\n      <td>Elastic, alpha 1.6681005372000592, l1_ratio : 0.8</td>\n      <td>1.19055</td>\n      <td>1.41742</td>\n      <td>0.93884</td>\n      <td>0.76211</td>\n      <td>-0.00016</td>\n    </tr>\n    <tr>\n      <th>0</th>\n      <td>Elastic, alpha 4.6415888336127775, l1_ratio : 0.8</td>\n      <td>1.19055</td>\n      <td>1.41742</td>\n      <td>0.93884</td>\n      <td>0.76211</td>\n      <td>-0.00016</td>\n    </tr>\n    <tr>\n      <th>0</th>\n      <td>Elastic, alpha 12.915496650148826, l1_ratio : 0.8</td>\n      <td>1.19055</td>\n      <td>1.41742</td>\n      <td>0.93884</td>\n      <td>0.76211</td>\n      <td>-0.00016</td>\n    </tr>\n    <tr>\n      <th>0</th>\n      <td>Elastic, alpha 35.93813663804626, l1_ratio : 0.8</td>\n      <td>1.19055</td>\n      <td>1.41742</td>\n      <td>0.93884</td>\n      <td>0.76211</td>\n      <td>-0.00016</td>\n    </tr>\n  </tbody>\n</table>\n</div>"
     },
     "metadata": {},
     "output_type": "display_data"
    },
    {
     "name": "stdout",
     "output_type": "stream",
     "text": [
      "alpha : 100.0 l1_ratio : 0.0 MSE : 1.417471905399795\n",
      "alpha : 100.0 l1_ratio : 0.1 MSE : 1.417418177914121\n",
      "alpha : 100.0 l1_ratio : 0.2 MSE : 1.417418177914121\n",
      "alpha : 100.0 l1_ratio : 0.3 MSE : 1.417418177914121\n",
      "alpha : 100.0 l1_ratio : 0.4 MSE : 1.417418177914121\n",
      "alpha : 100.0 l1_ratio : 0.5 MSE : 1.417418177914121\n",
      "alpha : 100.0 l1_ratio : 0.6 MSE : 1.417418177914121\n",
      "alpha : 100.0 l1_ratio : 0.7 MSE : 1.417418177914121\n",
      "alpha : 100.0 l1_ratio : 0.8 MSE : 1.417418177914121\n",
      "alpha : 100.0 l1_ratio : 0.9 MSE : 1.417418177914121\n",
      "Prediction for :  Log-Electricity(kBtu)\n"
     ]
    },
    {
     "data": {
      "text/plain": "                                               Model    RMSE     MSE     MAE  \\\n0                                    Dummy Regressor 1.19055 1.41742 0.93884   \n0                                  Linear Regression 1.22005 1.48853 0.95991   \n0                                     Ridge manually 1.19060 1.41754 0.93887   \n0                                 Ridge GridSearchCV 1.21995 1.48828 0.95983   \n0                                     LASSO manually 1.19055 1.41742 0.93884   \n0                                    Lasso Regressor 1.19055 1.41742 0.93884   \n0                Elastic, alpha 0.01, l1_ratio : 0.9 1.19417 1.42603 0.94187   \n0  Elastic, alpha 0.027825594022071243, l1_ratio ... 1.19055 1.41742 0.93884   \n0  Elastic, alpha 0.0774263682681127, l1_ratio : 0.8 1.19055 1.41742 0.93884   \n0  Elastic, alpha 0.21544346900318834, l1_ratio :... 1.19055 1.41742 0.93884   \n0  Elastic, alpha 0.5994842503189409, l1_ratio : 0.8 1.19055 1.41742 0.93884   \n0  Elastic, alpha 1.6681005372000592, l1_ratio : 0.8 1.19055 1.41742 0.93884   \n0  Elastic, alpha 4.6415888336127775, l1_ratio : 0.8 1.19055 1.41742 0.93884   \n0  Elastic, alpha 12.915496650148826, l1_ratio : 0.8 1.19055 1.41742 0.93884   \n0   Elastic, alpha 35.93813663804626, l1_ratio : 0.8 1.19055 1.41742 0.93884   \n0               Elastic, alpha 100.0, l1_ratio : 0.8 1.19055 1.41742 0.93884   \n\n   Median Absolute Error  R² = 1 - RSE  \n0                0.76211      -0.00016  \n0                0.79181      -0.05033  \n0                0.76249      -0.00024  \n0                0.79163      -0.05016  \n0                0.76211      -0.00016  \n0                0.76211      -0.00016  \n0                0.75694      -0.00624  \n0                0.76211      -0.00016  \n0                0.76211      -0.00016  \n0                0.76211      -0.00016  \n0                0.76211      -0.00016  \n0                0.76211      -0.00016  \n0                0.76211      -0.00016  \n0                0.76211      -0.00016  \n0                0.76211      -0.00016  \n0                0.76211      -0.00016  ",
      "text/html": "<div>\n<style scoped>\n    .dataframe tbody tr th:only-of-type {\n        vertical-align: middle;\n    }\n\n    .dataframe tbody tr th {\n        vertical-align: top;\n    }\n\n    .dataframe thead th {\n        text-align: right;\n    }\n</style>\n<table border=\"1\" class=\"dataframe\">\n  <thead>\n    <tr style=\"text-align: right;\">\n      <th></th>\n      <th>Model</th>\n      <th>RMSE</th>\n      <th>MSE</th>\n      <th>MAE</th>\n      <th>Median Absolute Error</th>\n      <th>R² = 1 - RSE</th>\n    </tr>\n  </thead>\n  <tbody>\n    <tr>\n      <th>0</th>\n      <td>Dummy Regressor</td>\n      <td>1.19055</td>\n      <td>1.41742</td>\n      <td>0.93884</td>\n      <td>0.76211</td>\n      <td>-0.00016</td>\n    </tr>\n    <tr>\n      <th>0</th>\n      <td>Linear Regression</td>\n      <td>1.22005</td>\n      <td>1.48853</td>\n      <td>0.95991</td>\n      <td>0.79181</td>\n      <td>-0.05033</td>\n    </tr>\n    <tr>\n      <th>0</th>\n      <td>Ridge manually</td>\n      <td>1.19060</td>\n      <td>1.41754</td>\n      <td>0.93887</td>\n      <td>0.76249</td>\n      <td>-0.00024</td>\n    </tr>\n    <tr>\n      <th>0</th>\n      <td>Ridge GridSearchCV</td>\n      <td>1.21995</td>\n      <td>1.48828</td>\n      <td>0.95983</td>\n      <td>0.79163</td>\n      <td>-0.05016</td>\n    </tr>\n    <tr>\n      <th>0</th>\n      <td>LASSO manually</td>\n      <td>1.19055</td>\n      <td>1.41742</td>\n      <td>0.93884</td>\n      <td>0.76211</td>\n      <td>-0.00016</td>\n    </tr>\n    <tr>\n      <th>0</th>\n      <td>Lasso Regressor</td>\n      <td>1.19055</td>\n      <td>1.41742</td>\n      <td>0.93884</td>\n      <td>0.76211</td>\n      <td>-0.00016</td>\n    </tr>\n    <tr>\n      <th>0</th>\n      <td>Elastic, alpha 0.01, l1_ratio : 0.9</td>\n      <td>1.19417</td>\n      <td>1.42603</td>\n      <td>0.94187</td>\n      <td>0.75694</td>\n      <td>-0.00624</td>\n    </tr>\n    <tr>\n      <th>0</th>\n      <td>Elastic, alpha 0.027825594022071243, l1_ratio ...</td>\n      <td>1.19055</td>\n      <td>1.41742</td>\n      <td>0.93884</td>\n      <td>0.76211</td>\n      <td>-0.00016</td>\n    </tr>\n    <tr>\n      <th>0</th>\n      <td>Elastic, alpha 0.0774263682681127, l1_ratio : 0.8</td>\n      <td>1.19055</td>\n      <td>1.41742</td>\n      <td>0.93884</td>\n      <td>0.76211</td>\n      <td>-0.00016</td>\n    </tr>\n    <tr>\n      <th>0</th>\n      <td>Elastic, alpha 0.21544346900318834, l1_ratio :...</td>\n      <td>1.19055</td>\n      <td>1.41742</td>\n      <td>0.93884</td>\n      <td>0.76211</td>\n      <td>-0.00016</td>\n    </tr>\n    <tr>\n      <th>0</th>\n      <td>Elastic, alpha 0.5994842503189409, l1_ratio : 0.8</td>\n      <td>1.19055</td>\n      <td>1.41742</td>\n      <td>0.93884</td>\n      <td>0.76211</td>\n      <td>-0.00016</td>\n    </tr>\n    <tr>\n      <th>0</th>\n      <td>Elastic, alpha 1.6681005372000592, l1_ratio : 0.8</td>\n      <td>1.19055</td>\n      <td>1.41742</td>\n      <td>0.93884</td>\n      <td>0.76211</td>\n      <td>-0.00016</td>\n    </tr>\n    <tr>\n      <th>0</th>\n      <td>Elastic, alpha 4.6415888336127775, l1_ratio : 0.8</td>\n      <td>1.19055</td>\n      <td>1.41742</td>\n      <td>0.93884</td>\n      <td>0.76211</td>\n      <td>-0.00016</td>\n    </tr>\n    <tr>\n      <th>0</th>\n      <td>Elastic, alpha 12.915496650148826, l1_ratio : 0.8</td>\n      <td>1.19055</td>\n      <td>1.41742</td>\n      <td>0.93884</td>\n      <td>0.76211</td>\n      <td>-0.00016</td>\n    </tr>\n    <tr>\n      <th>0</th>\n      <td>Elastic, alpha 35.93813663804626, l1_ratio : 0.8</td>\n      <td>1.19055</td>\n      <td>1.41742</td>\n      <td>0.93884</td>\n      <td>0.76211</td>\n      <td>-0.00016</td>\n    </tr>\n    <tr>\n      <th>0</th>\n      <td>Elastic, alpha 100.0, l1_ratio : 0.8</td>\n      <td>1.19055</td>\n      <td>1.41742</td>\n      <td>0.93884</td>\n      <td>0.76211</td>\n      <td>-0.00016</td>\n    </tr>\n  </tbody>\n</table>\n</div>"
     },
     "metadata": {},
     "output_type": "display_data"
    },
    {
     "data": {
      "text/plain": "<Figure size 432x288 with 1 Axes>",
      "image/png": "[encoded data removed]"
     },
     "metadata": {
      "needs_background": "light"
     },
     "output_type": "display_data"
    },
    {
     "data": {
      "text/plain": "<Figure size 432x288 with 1 Axes>",
      "image/png": "[encoded data removed]"
     },
     "metadata": {
      "needs_background": "light"
     },
     "output_type": "display_data"
    }
   ],
   "source": [
    "warnings.filterwarnings(\"ignore\")\n",
    "\n",
    "n_alphas = 10  # hyperparametre alpha\n",
    "alphas = np.logspace(-2, 2, n_alphas)\n",
    "\n",
    "n = 10\n",
    "#l1_ratio = np.arange(start=0, stop=1, step= 1/n)\n",
    "l1_ratio = [i / n for i in range(n)]\n",
    "\n",
    "elastic = linear_model.ElasticNet()\n",
    "\n",
    "coefs = []\n",
    "errors = []\n",
    "l1_all = []\n",
    "all_mse = []\n",
    "\n",
    "for a in alphas:\n",
    "    for l1 in l1_ratio:\n",
    "        elastic.set_params(alpha=a, l1_ratio=l1)\n",
    "        elastic.fit(X_train, y_train)\n",
    "        y_pred_elastic = elastic.predict(X_test)\n",
    "        coefs.append(elastic.coef_)\n",
    "        #print(\"HERE :\", elastic.coef_)\n",
    "        errors.append(np.mean((y_pred_elastic - y_test) ** 2))\n",
    "\n",
    "        mse = mean_squared_error(y_test, elastic.predict(X_test))\n",
    "        print(\"alpha :\", a, \"l1_ratio :\", l1, \"MSE :\", mse)\n",
    "        all_mse.append(mse)\n",
    "\n",
    "        l1_all.append(l1)\n",
    "\n",
    "    # find min mse\n",
    "    mse_min_index = np.argmin(all_mse)\n",
    "    # get l1 for the min mse\n",
    "    l1_min = l1_all[mse_min_index]\n",
    "    # train again with best l1\n",
    "    elastic.set_params(alpha=a, l1_ratio=l1_min)\n",
    "    elastic.fit(X_train, y_train)\n",
    "    y_pred_elastic = elastic.predict(X_test)\n",
    "    results = evaluate_regression(\"Elastic, alpha {}, l1_ratio : {}\".format(a, l1_min), results, y_test, y_pred_elastic)\n",
    "\n",
    "    errors.append(np.mean((y_pred_elastic - y_test) ** 2))"
   ],
   "metadata": {
    "collapsed": false,
    "pycharm": {
     "name": "#%%\n"
    }
   }
  },
  {
   "cell_type": "code",
   "execution_count": 292,
   "outputs": [],
   "source": [],
   "metadata": {
    "collapsed": false,
    "pycharm": {
     "name": "#%%\n"
    }
   }
  },
  {
   "cell_type": "code",
   "execution_count": 293,
   "outputs": [
    {
     "data": {
      "text/plain": "array([1.00000000e-02, 2.78255940e-02, 7.74263683e-02, 2.15443469e-01,\n       5.99484250e-01, 1.66810054e+00, 4.64158883e+00, 1.29154967e+01,\n       3.59381366e+01, 1.00000000e+02])"
     },
     "execution_count": 293,
     "metadata": {},
     "output_type": "execute_result"
    }
   ],
   "source": [
    "alphas"
   ],
   "metadata": {
    "collapsed": false,
    "pycharm": {
     "name": "#%%\n"
    }
   }
  },
  {
   "cell_type": "code",
   "execution_count": 294,
   "outputs": [
    {
     "data": {
      "text/plain": "0.01"
     },
     "execution_count": 294,
     "metadata": {},
     "output_type": "execute_result"
    }
   ],
   "source": [
    "min_index = np.argmin(alphas)\n",
    "min_alpha = alphas[min_index]\n",
    "min_alpha"
   ],
   "metadata": {
    "collapsed": false,
    "pycharm": {
     "name": "#%%\n"
    }
   }
  },
  {
   "cell_type": "code",
   "execution_count": 295,
   "outputs": [
    {
     "data": {
      "text/plain": "110"
     },
     "execution_count": 295,
     "metadata": {},
     "output_type": "execute_result"
    }
   ],
   "source": [
    "len(errors)"
   ],
   "metadata": {
    "collapsed": false,
    "pycharm": {
     "name": "#%%\n"
    }
   }
  },
  {
   "cell_type": "code",
   "execution_count": 296,
   "outputs": [
    {
     "name": "stdout",
     "output_type": "stream",
     "text": [
      "Minimum Mean Squared Error for Elastic Net Regression : 1.417418177914121\n"
     ]
    },
    {
     "ename": "ValueError",
     "evalue": "x and y must have same first dimension, but have shapes (10,) and (110,)",
     "output_type": "error",
     "traceback": [
      "\u001B[1;31m---------------------------------------------------------------------------\u001B[0m",
      "\u001B[1;31mValueError\u001B[0m                                Traceback (most recent call last)",
      "Input \u001B[1;32mIn [296]\u001B[0m, in \u001B[0;36m<cell line: 7>\u001B[1;34m()\u001B[0m\n\u001B[0;32m      3\u001B[0m \u001B[38;5;66;03m#print(\"Best alpha for that minimal MSE : \", alphas[np.argmin(errors)])\u001B[39;00m\n\u001B[0;32m      4\u001B[0m \n\u001B[0;32m      5\u001B[0m \u001B[38;5;66;03m#Observation of the error behaviour\u001B[39;00m\n\u001B[0;32m      6\u001B[0m ax \u001B[38;5;241m=\u001B[39m plt\u001B[38;5;241m.\u001B[39mgca()\n\u001B[1;32m----> 7\u001B[0m \u001B[43max\u001B[49m\u001B[38;5;241;43m.\u001B[39;49m\u001B[43mplot\u001B[49m\u001B[43m(\u001B[49m\u001B[43malphas\u001B[49m\u001B[43m,\u001B[49m\u001B[43m \u001B[49m\u001B[43merrors\u001B[49m\u001B[43m,\u001B[49m\u001B[43m \u001B[49m\u001B[43m[\u001B[49m\u001B[38;5;241;43m10\u001B[39;49m\u001B[38;5;241;43m*\u001B[39;49m\u001B[38;5;241;43m*\u001B[39;49m\u001B[38;5;241;43m-\u001B[39;49m\u001B[38;5;241;43m2\u001B[39;49m\u001B[43m,\u001B[49m\u001B[43m \u001B[49m\u001B[38;5;241;43m10\u001B[39;49m\u001B[38;5;241;43m*\u001B[39;49m\u001B[38;5;241;43m*\u001B[39;49m\u001B[38;5;241;43m2\u001B[39;49m\u001B[43m]\u001B[49m\u001B[43m,\u001B[49m\u001B[43m \u001B[49m\u001B[43m[\u001B[49m\u001B[43mbaseline_error\u001B[49m\u001B[43m,\u001B[49m\u001B[43m \u001B[49m\u001B[43mbaseline_error\u001B[49m\u001B[43m]\u001B[49m\u001B[43m)\u001B[49m\n\u001B[0;32m      8\u001B[0m ax\u001B[38;5;241m.\u001B[39mset_xscale(\u001B[38;5;124m'\u001B[39m\u001B[38;5;124mlog\u001B[39m\u001B[38;5;124m'\u001B[39m)\n\u001B[0;32m     10\u001B[0m plt\u001B[38;5;241m.\u001B[39mxlabel(\u001B[38;5;124m'\u001B[39m\u001B[38;5;124malpha : hyperparameter\u001B[39m\u001B[38;5;124m'\u001B[39m)\n",
      "File \u001B[1;32m~\\Anaconda3\\envs\\P4_OC\\lib\\site-packages\\matplotlib\\axes\\_axes.py:1632\u001B[0m, in \u001B[0;36mAxes.plot\u001B[1;34m(self, scalex, scaley, data, *args, **kwargs)\u001B[0m\n\u001B[0;32m   1390\u001B[0m \u001B[38;5;124;03m\"\"\"\u001B[39;00m\n\u001B[0;32m   1391\u001B[0m \u001B[38;5;124;03mPlot y versus x as lines and/or markers.\u001B[39;00m\n\u001B[0;32m   1392\u001B[0m \n\u001B[1;32m   (...)\u001B[0m\n\u001B[0;32m   1629\u001B[0m \u001B[38;5;124;03m(``'green'``) or hex strings (``'#008000'``).\u001B[39;00m\n\u001B[0;32m   1630\u001B[0m \u001B[38;5;124;03m\"\"\"\u001B[39;00m\n\u001B[0;32m   1631\u001B[0m kwargs \u001B[38;5;241m=\u001B[39m cbook\u001B[38;5;241m.\u001B[39mnormalize_kwargs(kwargs, mlines\u001B[38;5;241m.\u001B[39mLine2D)\n\u001B[1;32m-> 1632\u001B[0m lines \u001B[38;5;241m=\u001B[39m [\u001B[38;5;241m*\u001B[39m\u001B[38;5;28mself\u001B[39m\u001B[38;5;241m.\u001B[39m_get_lines(\u001B[38;5;241m*\u001B[39margs, data\u001B[38;5;241m=\u001B[39mdata, \u001B[38;5;241m*\u001B[39m\u001B[38;5;241m*\u001B[39mkwargs)]\n\u001B[0;32m   1633\u001B[0m \u001B[38;5;28;01mfor\u001B[39;00m line \u001B[38;5;129;01min\u001B[39;00m lines:\n\u001B[0;32m   1634\u001B[0m     \u001B[38;5;28mself\u001B[39m\u001B[38;5;241m.\u001B[39madd_line(line)\n",
      "File \u001B[1;32m~\\Anaconda3\\envs\\P4_OC\\lib\\site-packages\\matplotlib\\axes\\_base.py:312\u001B[0m, in \u001B[0;36m_process_plot_var_args.__call__\u001B[1;34m(self, data, *args, **kwargs)\u001B[0m\n\u001B[0;32m    310\u001B[0m     this \u001B[38;5;241m+\u001B[39m\u001B[38;5;241m=\u001B[39m args[\u001B[38;5;241m0\u001B[39m],\n\u001B[0;32m    311\u001B[0m     args \u001B[38;5;241m=\u001B[39m args[\u001B[38;5;241m1\u001B[39m:]\n\u001B[1;32m--> 312\u001B[0m \u001B[38;5;28;01myield from\u001B[39;00m \u001B[38;5;28;43mself\u001B[39;49m\u001B[38;5;241;43m.\u001B[39;49m\u001B[43m_plot_args\u001B[49m\u001B[43m(\u001B[49m\u001B[43mthis\u001B[49m\u001B[43m,\u001B[49m\u001B[43m \u001B[49m\u001B[43mkwargs\u001B[49m\u001B[43m)\u001B[49m\n",
      "File \u001B[1;32m~\\Anaconda3\\envs\\P4_OC\\lib\\site-packages\\matplotlib\\axes\\_base.py:498\u001B[0m, in \u001B[0;36m_process_plot_var_args._plot_args\u001B[1;34m(self, tup, kwargs, return_kwargs)\u001B[0m\n\u001B[0;32m    495\u001B[0m     \u001B[38;5;28mself\u001B[39m\u001B[38;5;241m.\u001B[39maxes\u001B[38;5;241m.\u001B[39myaxis\u001B[38;5;241m.\u001B[39mupdate_units(y)\n\u001B[0;32m    497\u001B[0m \u001B[38;5;28;01mif\u001B[39;00m x\u001B[38;5;241m.\u001B[39mshape[\u001B[38;5;241m0\u001B[39m] \u001B[38;5;241m!=\u001B[39m y\u001B[38;5;241m.\u001B[39mshape[\u001B[38;5;241m0\u001B[39m]:\n\u001B[1;32m--> 498\u001B[0m     \u001B[38;5;28;01mraise\u001B[39;00m \u001B[38;5;167;01mValueError\u001B[39;00m(\u001B[38;5;124mf\u001B[39m\u001B[38;5;124m\"\u001B[39m\u001B[38;5;124mx and y must have same first dimension, but \u001B[39m\u001B[38;5;124m\"\u001B[39m\n\u001B[0;32m    499\u001B[0m                      \u001B[38;5;124mf\u001B[39m\u001B[38;5;124m\"\u001B[39m\u001B[38;5;124mhave shapes \u001B[39m\u001B[38;5;132;01m{\u001B[39;00mx\u001B[38;5;241m.\u001B[39mshape\u001B[38;5;132;01m}\u001B[39;00m\u001B[38;5;124m and \u001B[39m\u001B[38;5;132;01m{\u001B[39;00my\u001B[38;5;241m.\u001B[39mshape\u001B[38;5;132;01m}\u001B[39;00m\u001B[38;5;124m\"\u001B[39m)\n\u001B[0;32m    500\u001B[0m \u001B[38;5;28;01mif\u001B[39;00m x\u001B[38;5;241m.\u001B[39mndim \u001B[38;5;241m>\u001B[39m \u001B[38;5;241m2\u001B[39m \u001B[38;5;129;01mor\u001B[39;00m y\u001B[38;5;241m.\u001B[39mndim \u001B[38;5;241m>\u001B[39m \u001B[38;5;241m2\u001B[39m:\n\u001B[0;32m    501\u001B[0m     \u001B[38;5;28;01mraise\u001B[39;00m \u001B[38;5;167;01mValueError\u001B[39;00m(\u001B[38;5;124mf\u001B[39m\u001B[38;5;124m\"\u001B[39m\u001B[38;5;124mx and y can be no greater than 2D, but have \u001B[39m\u001B[38;5;124m\"\u001B[39m\n\u001B[0;32m    502\u001B[0m                      \u001B[38;5;124mf\u001B[39m\u001B[38;5;124m\"\u001B[39m\u001B[38;5;124mshapes \u001B[39m\u001B[38;5;132;01m{\u001B[39;00mx\u001B[38;5;241m.\u001B[39mshape\u001B[38;5;132;01m}\u001B[39;00m\u001B[38;5;124m and \u001B[39m\u001B[38;5;132;01m{\u001B[39;00my\u001B[38;5;241m.\u001B[39mshape\u001B[38;5;132;01m}\u001B[39;00m\u001B[38;5;124m\"\u001B[39m)\n",
      "\u001B[1;31mValueError\u001B[0m: x and y must have same first dimension, but have shapes (10,) and (110,)"
     ]
    },
    {
     "data": {
      "text/plain": "<Figure size 432x288 with 1 Axes>",
      "image/png": "[encoded data removed]"
     },
     "metadata": {
      "needs_background": "light"
     },
     "output_type": "display_data"
    }
   ],
   "source": [
    "# recupere l'erreur min\n",
    "print(\"Minimum Mean Squared Error for Elastic Net Regression :\", errors[np.argmin(errors)])\n",
    "#print(\"Best alpha for that minimal MSE : \", alphas[np.argmin(errors)])\n",
    "\n",
    "#Observation of the error behaviour\n",
    "ax = plt.gca()\n",
    "ax.plot(alphas, errors, [10**-2, 10**2], [baseline_error, baseline_error])\n",
    "ax.set_xscale('log')\n",
    "\n",
    "plt.xlabel('alpha : hyperparameter')\n",
    "plt.ylabel('error : MSE')\n",
    "plt.axis('tight')"
   ],
   "metadata": {
    "collapsed": false,
    "pycharm": {
     "name": "#%%\n"
    }
   }
  },
  {
   "cell_type": "code",
   "execution_count": null,
   "outputs": [],
   "source": [],
   "metadata": {
    "collapsed": false,
    "pycharm": {
     "name": "#%%\n"
    }
   }
  },
  {
   "cell_type": "code",
   "execution_count": 300,
   "outputs": [
    {
     "data": {
      "text/plain": "                                               Model    RMSE     MSE     MAE  \\\n0                                    Dummy Regressor 1.19055 1.41742 0.93884   \n0                                  Linear Regression 1.22005 1.48853 0.95991   \n0                                     Ridge manually 1.19060 1.41754 0.93887   \n0                                 Ridge GridSearchCV 1.21995 1.48828 0.95983   \n0                                     LASSO manually 1.19055 1.41742 0.93884   \n0                                    Lasso Regressor 1.19055 1.41742 0.93884   \n0                Elastic, alpha 0.01, l1_ratio : 0.9 1.19417 1.42603 0.94187   \n0  Elastic, alpha 0.027825594022071243, l1_ratio ... 1.19055 1.41742 0.93884   \n0  Elastic, alpha 0.0774263682681127, l1_ratio : 0.8 1.19055 1.41742 0.93884   \n0  Elastic, alpha 0.21544346900318834, l1_ratio :... 1.19055 1.41742 0.93884   \n0  Elastic, alpha 0.5994842503189409, l1_ratio : 0.8 1.19055 1.41742 0.93884   \n0  Elastic, alpha 1.6681005372000592, l1_ratio : 0.8 1.19055 1.41742 0.93884   \n0  Elastic, alpha 4.6415888336127775, l1_ratio : 0.8 1.19055 1.41742 0.93884   \n0  Elastic, alpha 12.915496650148826, l1_ratio : 0.8 1.19055 1.41742 0.93884   \n0   Elastic, alpha 35.93813663804626, l1_ratio : 0.8 1.19055 1.41742 0.93884   \n0               Elastic, alpha 100.0, l1_ratio : 0.8 1.19055 1.41742 0.93884   \n\n   Median Absolute Error  R² = 1 - RSE  \n0                0.76211      -0.00016  \n0                0.79181      -0.05033  \n0                0.76249      -0.00024  \n0                0.79163      -0.05016  \n0                0.76211      -0.00016  \n0                0.76211      -0.00016  \n0                0.75694      -0.00624  \n0                0.76211      -0.00016  \n0                0.76211      -0.00016  \n0                0.76211      -0.00016  \n0                0.76211      -0.00016  \n0                0.76211      -0.00016  \n0                0.76211      -0.00016  \n0                0.76211      -0.00016  \n0                0.76211      -0.00016  \n0                0.76211      -0.00016  ",
      "text/html": "<div>\n<style scoped>\n    .dataframe tbody tr th:only-of-type {\n        vertical-align: middle;\n    }\n\n    .dataframe tbody tr th {\n        vertical-align: top;\n    }\n\n    .dataframe thead th {\n        text-align: right;\n    }\n</style>\n<table border=\"1\" class=\"dataframe\">\n  <thead>\n    <tr style=\"text-align: right;\">\n      <th></th>\n      <th>Model</th>\n      <th>RMSE</th>\n      <th>MSE</th>\n      <th>MAE</th>\n      <th>Median Absolute Error</th>\n      <th>R² = 1 - RSE</th>\n    </tr>\n  </thead>\n  <tbody>\n    <tr>\n      <th>0</th>\n      <td>Dummy Regressor</td>\n      <td>1.19055</td>\n      <td>1.41742</td>\n      <td>0.93884</td>\n      <td>0.76211</td>\n      <td>-0.00016</td>\n    </tr>\n    <tr>\n      <th>0</th>\n      <td>Linear Regression</td>\n      <td>1.22005</td>\n      <td>1.48853</td>\n      <td>0.95991</td>\n      <td>0.79181</td>\n      <td>-0.05033</td>\n    </tr>\n    <tr>\n      <th>0</th>\n      <td>Ridge manually</td>\n      <td>1.19060</td>\n      <td>1.41754</td>\n      <td>0.93887</td>\n      <td>0.76249</td>\n      <td>-0.00024</td>\n    </tr>\n    <tr>\n      <th>0</th>\n      <td>Ridge GridSearchCV</td>\n      <td>1.21995</td>\n      <td>1.48828</td>\n      <td>0.95983</td>\n      <td>0.79163</td>\n      <td>-0.05016</td>\n    </tr>\n    <tr>\n      <th>0</th>\n      <td>LASSO manually</td>\n      <td>1.19055</td>\n      <td>1.41742</td>\n      <td>0.93884</td>\n      <td>0.76211</td>\n      <td>-0.00016</td>\n    </tr>\n    <tr>\n      <th>0</th>\n      <td>Lasso Regressor</td>\n      <td>1.19055</td>\n      <td>1.41742</td>\n      <td>0.93884</td>\n      <td>0.76211</td>\n      <td>-0.00016</td>\n    </tr>\n    <tr>\n      <th>0</th>\n      <td>Elastic, alpha 0.01, l1_ratio : 0.9</td>\n      <td>1.19417</td>\n      <td>1.42603</td>\n      <td>0.94187</td>\n      <td>0.75694</td>\n      <td>-0.00624</td>\n    </tr>\n    <tr>\n      <th>0</th>\n      <td>Elastic, alpha 0.027825594022071243, l1_ratio ...</td>\n      <td>1.19055</td>\n      <td>1.41742</td>\n      <td>0.93884</td>\n      <td>0.76211</td>\n      <td>-0.00016</td>\n    </tr>\n    <tr>\n      <th>0</th>\n      <td>Elastic, alpha 0.0774263682681127, l1_ratio : 0.8</td>\n      <td>1.19055</td>\n      <td>1.41742</td>\n      <td>0.93884</td>\n      <td>0.76211</td>\n      <td>-0.00016</td>\n    </tr>\n    <tr>\n      <th>0</th>\n      <td>Elastic, alpha 0.21544346900318834, l1_ratio :...</td>\n      <td>1.19055</td>\n      <td>1.41742</td>\n      <td>0.93884</td>\n      <td>0.76211</td>\n      <td>-0.00016</td>\n    </tr>\n    <tr>\n      <th>0</th>\n      <td>Elastic, alpha 0.5994842503189409, l1_ratio : 0.8</td>\n      <td>1.19055</td>\n      <td>1.41742</td>\n      <td>0.93884</td>\n      <td>0.76211</td>\n      <td>-0.00016</td>\n    </tr>\n    <tr>\n      <th>0</th>\n      <td>Elastic, alpha 1.6681005372000592, l1_ratio : 0.8</td>\n      <td>1.19055</td>\n      <td>1.41742</td>\n      <td>0.93884</td>\n      <td>0.76211</td>\n      <td>-0.00016</td>\n    </tr>\n    <tr>\n      <th>0</th>\n      <td>Elastic, alpha 4.6415888336127775, l1_ratio : 0.8</td>\n      <td>1.19055</td>\n      <td>1.41742</td>\n      <td>0.93884</td>\n      <td>0.76211</td>\n      <td>-0.00016</td>\n    </tr>\n    <tr>\n      <th>0</th>\n      <td>Elastic, alpha 12.915496650148826, l1_ratio : 0.8</td>\n      <td>1.19055</td>\n      <td>1.41742</td>\n      <td>0.93884</td>\n      <td>0.76211</td>\n      <td>-0.00016</td>\n    </tr>\n    <tr>\n      <th>0</th>\n      <td>Elastic, alpha 35.93813663804626, l1_ratio : 0.8</td>\n      <td>1.19055</td>\n      <td>1.41742</td>\n      <td>0.93884</td>\n      <td>0.76211</td>\n      <td>-0.00016</td>\n    </tr>\n    <tr>\n      <th>0</th>\n      <td>Elastic, alpha 100.0, l1_ratio : 0.8</td>\n      <td>1.19055</td>\n      <td>1.41742</td>\n      <td>0.93884</td>\n      <td>0.76211</td>\n      <td>-0.00016</td>\n    </tr>\n  </tbody>\n</table>\n</div>"
     },
     "execution_count": 300,
     "metadata": {},
     "output_type": "execute_result"
    }
   ],
   "source": [
    "results"
   ],
   "metadata": {
    "collapsed": false,
    "pycharm": {
     "name": "#%%\n"
    }
   }
  },
  {
   "cell_type": "markdown",
   "source": [
    "##### 4.2) Optimization of hyperparameters"
   ],
   "metadata": {
    "collapsed": false,
    "pycharm": {
     "name": "#%% md\n"
    }
   }
  },
  {
   "cell_type": "code",
   "execution_count": 301,
   "outputs": [
    {
     "data": {
      "text/plain": "[0.0, 0.1, 0.2, 0.3, 0.4, 0.5, 0.6, 0.7, 0.8, 0.9]"
     },
     "execution_count": 301,
     "metadata": {},
     "output_type": "execute_result"
    }
   ],
   "source": [
    "l1_ratio"
   ],
   "metadata": {
    "collapsed": false,
    "pycharm": {
     "name": "#%%\n"
    }
   }
  },
  {
   "cell_type": "code",
   "execution_count": 304,
   "outputs": [
    {
     "data": {
      "text/plain": "'neg_mean_squared_error'"
     },
     "execution_count": 304,
     "metadata": {},
     "output_type": "execute_result"
    }
   ],
   "source": [
    "scoring\n"
   ],
   "metadata": {
    "collapsed": false,
    "pycharm": {
     "name": "#%%\n"
    }
   }
  },
  {
   "cell_type": "code",
   "execution_count": 320,
   "outputs": [
    {
     "name": "stdout",
     "output_type": "stream",
     "text": [
      "R2 : -1.417418177914121 RMSE : 1.1905537274369944 Best params : {'l1_ratio': 0.1, 'alpha': 10.985411419875572}\n"
     ]
    }
   ],
   "source": [
    "from sklearn.model_selection import RandomizedSearchCV\n",
    "\n",
    "from sklearn.model_selection import KFold\n",
    "\n",
    "regressor = linear_model.ElasticNet()\n",
    "\n",
    "# Define the cross-validation generator\n",
    "cv_inner = KFold(\n",
    "    n_splits=10, # number of folds (default=5)\n",
    "    shuffle=True, # shuffle the data before splitting into batche\n",
    "    random_state=seed, # seeding the random number generator for shuffling\n",
    ")\n",
    "\n",
    "param_grid_elastic = [{\n",
    "    \"alpha\": np.logspace(-3, 3, 50), # penalty intensity (5 values between 10⁻³ and 10¹)\n",
    "    \"l1_ratio\": l1_ratio # mixing parameter for l1 and l2 penalties\n",
    "}]\n",
    "\n",
    "\n",
    "\n",
    "# Intenciation of RandomizedSearchCV object\n",
    "randomsearch = RandomizedSearchCV(\n",
    "    estimator=regressor,\n",
    "    param_distributions=param_grid_elastic, # choice of hyper-parameters to test\n",
    "    scoring=\"neg_mean_squared_error\", # scoring method for regression\n",
    "    cv=cv_inner, # cross-validation generator\n",
    "    n_jobs=-1, # use all available cores (parallelization)\n",
    "    return_train_score=True, # to avoid a DeprecationWarning\n",
    "    n_iter=10, # number of combinations of hyper-parameters to try\n",
    ")\n",
    "\n",
    "\n",
    "# Call the RanddomizedSearch with Cross Validation using the chosen regressor\n",
    "randomsearch.fit(X_train, y_train)\n",
    "# Results\n",
    "y_pred_elastic = randomsearch.predict(X_test)\n",
    "R2_score = randomsearch.score(X_test, y_test)\n",
    "RMSE_score = np.sqrt(mean_squared_error(y_test, y_pred_elastic))\n",
    "\n",
    "print(\"R2 :\", R2_score, \"RMSE :\", RMSE_score, \"Best params :\", randomsearch.best_params_)\n"
   ],
   "metadata": {
    "collapsed": false,
    "pycharm": {
     "name": "#%%\n"
    }
   }
  },
  {
   "cell_type": "code",
   "execution_count": 311,
   "outputs": [
    {
     "name": "stdout",
     "output_type": "stream",
     "text": [
      "R2 : -0.0001578678515519183 RMSE : 1.1905537274369944 Best params : {'l1_ratio': 0.1, 'alpha': 2.023589647725158}\n",
      "Train score : [4.45992693e-03 0.00000000e+00 5.77816124e-04 1.78645366e-02\n",
      " 0.00000000e+00 1.89861175e-02 0.00000000e+00 0.00000000e+00\n",
      " 0.00000000e+00 0.00000000e+00 0.00000000e+00 0.00000000e+00\n",
      " 2.12357406e-02 0.00000000e+00 0.00000000e+00 0.00000000e+00\n",
      " 2.32205860e-02 0.00000000e+00 0.00000000e+00 0.00000000e+00\n",
      " 0.00000000e+00 1.71850670e-02 0.00000000e+00 0.00000000e+00\n",
      " 2.17010459e-02 0.00000000e+00 0.00000000e+00 0.00000000e+00\n",
      " 0.00000000e+00 1.10330030e-02 2.55973092e-04 9.47491912e-03\n",
      " 0.00000000e+00 0.00000000e+00 2.13623952e-02 0.00000000e+00\n",
      " 0.00000000e+00 2.58854298e-04 1.16285467e-02 1.91519286e-03\n",
      " 0.00000000e+00 0.00000000e+00 0.00000000e+00 0.00000000e+00\n",
      " 0.00000000e+00 0.00000000e+00 0.00000000e+00 0.00000000e+00\n",
      " 1.62030269e-05 1.84634319e-03 6.71702443e-03 0.00000000e+00\n",
      " 0.00000000e+00 5.63000453e-03 0.00000000e+00 0.00000000e+00\n",
      " 0.00000000e+00 0.00000000e+00 0.00000000e+00 9.97749833e-03\n",
      " 0.00000000e+00 0.00000000e+00 5.34201712e-03 0.00000000e+00\n",
      " 0.00000000e+00 2.16877807e-03 0.00000000e+00 5.77391764e-04\n",
      " 0.00000000e+00 1.64101694e-02 2.12149729e-02 1.13773489e-04\n",
      " 2.07459259e-02 0.00000000e+00 0.00000000e+00 0.00000000e+00\n",
      " 2.02045358e-02 0.00000000e+00 2.43336188e-02 0.00000000e+00\n",
      " 0.00000000e+00 2.40165790e-02 0.00000000e+00 1.71704406e-02\n",
      " 0.00000000e+00 0.00000000e+00 5.98388091e-04 0.00000000e+00\n",
      " 4.59082507e-03 0.00000000e+00 0.00000000e+00 5.00855069e-03\n",
      " 0.00000000e+00 0.00000000e+00 0.00000000e+00 0.00000000e+00\n",
      " 0.00000000e+00 1.95931756e-04 0.00000000e+00 0.00000000e+00]\n"
     ]
    }
   ],
   "source": [
    "rs_cv= RandomizedSearchCV(estimator=regressor,\n",
    "                          param_distributions=param_grid_elastic,\n",
    "                          n_iter = 100,\n",
    "                          scoring=\"r2\",\n",
    "                          cv=5,\n",
    "                          verbose=0,\n",
    "                          refit=True,\n",
    "                          n_jobs=-1,\n",
    "                          return_train_score=True)\n",
    "rs_cv.fit(X_train, y_train)\n",
    "\n",
    "# Results\n",
    "y_pred_elastic = rs_cv.predict(X_test)\n",
    "R2_score = rs_cv.score(X_test, y_test)\n",
    "RMSE_score = np.sqrt(mean_squared_error(y_test, y_pred_elastic))\n",
    "\n",
    "print(\"R2 :\", R2_score, \"RMSE :\", RMSE_score, \"Best params :\", rs_cv.best_params_)\n",
    "print(\"Train score :\", rs_cv.cv_results_[\"mean_train_score\"])\n"
   ],
   "metadata": {
    "collapsed": false,
    "pycharm": {
     "name": "#%%\n"
    }
   }
  },
  {
   "cell_type": "markdown",
   "source": [
    "### 2) Ensemble learning methods"
   ],
   "metadata": {
    "collapsed": false,
    "pycharm": {
     "name": "#%% md\n"
    }
   }
  },
  {
   "cell_type": "markdown",
   "source": [
    "#### 1) Parallelized Implementation : Random Forest"
   ],
   "metadata": {
    "collapsed": false,
    "pycharm": {
     "name": "#%% md\n"
    }
   }
  },
  {
   "cell_type": "code",
   "execution_count": 323,
   "outputs": [
    {
     "name": "stdout",
     "output_type": "stream",
     "text": [
      "R2 : -1.4243609163633604 RMSE : 1.1934659259331035 Best params : {'n_estimators': 950, 'min_samples_split': 10, 'min_samples_leaf': 4, 'max_features': 2, 'max_depth': 4, 'bootstrap': False}\n",
      "R2 : -1.4211472245321195 RMSE : 1.1921187963169273 Best params : {'n_estimators': 550, 'min_samples_split': 2, 'min_samples_leaf': 5, 'max_features': 2, 'max_depth': 2, 'bootstrap': True}\n"
     ]
    }
   ],
   "source": [
    "# Grid of research for Random Forest\n",
    "from sklearn.ensemble import RandomForestRegressor\n",
    "from scipy.stats import randint as sp_randint\n",
    "\n",
    "regressor = RandomForestRegressor(n_jobs=-1, random_state=seed, n_estimators=1000)\n",
    "\n",
    "# Create space of candidate values for hyperparameters\n",
    "param_grid_forest = [{\n",
    "    \"max_features\": [i for i in range(2, 8)], # number of features to consider at each node\n",
    "    \"max_depth\": [i for i in range(2, 10)], # maximum depth (to prune) a stump\n",
    "    \"min_samples_leaf\": [i for i in range(2, 10)], # minimum number of samples required to be at a leaf node\n",
    "    'bootstrap': [True, False],\n",
    "    'min_samples_split': [2, 5, 10],\n",
    "    'n_estimators': [i for i in range(50, 1000, 100)]\n",
    "}]\n",
    "\n",
    "# Intenciation of RandomizedSearchCV object\n",
    "randomsearch = RandomizedSearchCV(\n",
    "    estimator=regressor,\n",
    "    param_distributions=param_grid_forest, # choice of hyper-parameters to test\n",
    "    scoring=\"neg_mean_squared_error\", # scoring method for regression\n",
    "    cv=cv_inner, # cross-validation generator\n",
    "    n_jobs=-1, # use all available cores (parallelization)\n",
    "    return_train_score=True, # to avoid a DeprecationWarning\n",
    ")\n",
    "\n",
    "\n",
    "# Call the RanddomizedSearch with Cross Validation using the chosen regressor\n",
    "randomsearch.fit(X_train, y_train)\n",
    "# Results\n",
    "y_pred_rfr = randomsearch.predict(X_test)\n",
    "R2_score = randomsearch.score(X_test, y_test)\n",
    "RMSE_score = np.sqrt(mean_squared_error(y_test, y_pred_rfr))\n",
    "\n",
    "print(\"R2 :\", R2_score, \"RMSE :\", RMSE_score, \"Best params :\", randomsearch.best_params_)"
   ],
   "metadata": {
    "collapsed": false,
    "pycharm": {
     "name": "#%%\n"
    }
   }
  },
  {
   "cell_type": "raw",
   "source": [
    "from sklearn.ensemble import RandomForestRegressor\n",
    "\n",
    "rfr = RandomForestRegressor(n_estimators=1000) # nb of trees 1000 for the forest"
   ],
   "metadata": {
    "collapsed": false,
    "pycharm": {
     "name": "#%% raw\n"
    }
   }
  },
  {
   "cell_type": "raw",
   "source": [
    "rfr = rfr.fit(X_train.values, y_train)"
   ],
   "metadata": {
    "collapsed": false,
    "pycharm": {
     "name": "#%% raw\n"
    }
   }
  },
  {
   "cell_type": "raw",
   "source": [
    "import timeit\n",
    "\n",
    "start_time = timeit.default_timer()\n",
    "y_pred_rfr = rfr.predict(X_test.values)\n",
    "elapsed = timeit.default_timer() - start_time\n",
    "accuracy = rfr.score(X_test.values, y_test)\n",
    "print(\"accuracy {:.2f} time {:.2f}s\".format(accuracy, elapsed))"
   ],
   "metadata": {
    "collapsed": false,
    "pycharm": {
     "name": "#%% raw\n"
    }
   }
  },
  {
   "cell_type": "raw",
   "source": [
    "results = evaluate_regression(\"Random Forest Regressor\", results, y_test, y_pred_rfr)"
   ],
   "metadata": {
    "collapsed": false,
    "pycharm": {
     "name": "#%% raw\n"
    }
   }
  },
  {
   "cell_type": "raw",
   "source": [
    "from sklearn.ensemble import RandomForestRegressor\n",
    "\n",
    "parameters = {\n",
    "    'n_estimators' : [10,50,100,300,500], #nombre d'arbres de décision\n",
    "    'min_samples_leaf' : [1,3,5,10], #nombre de feuilles minimales dans un noeud\n",
    "    'max_features': ['auto', 'sqrt'] #nombre de features observées pour chaque arbre\n",
    "}"
   ],
   "metadata": {
    "collapsed": false,
    "pycharm": {
     "name": "#%% raw\n"
    }
   }
  },
  {
   "cell_type": "code",
   "execution_count": null,
   "outputs": [],
   "source": [
    "# 1) GridSearchCV or RandomizedSearchCV"
   ],
   "metadata": {
    "collapsed": false,
    "pycharm": {
     "name": "#%%\n"
    }
   }
  },
  {
   "cell_type": "code",
   "execution_count": null,
   "outputs": [],
   "source": [],
   "metadata": {
    "collapsed": false,
    "pycharm": {
     "name": "#%%\n"
    }
   }
  },
  {
   "cell_type": "raw",
   "source": [
    "# Grid of research for Random Forest\n",
    "from sklearn.ensemble import RandomForestRegressor\n",
    "from scipy.stats import randint as sp_randint\n",
    "\n",
    "# Create space of candidate values for hyperparameters\n",
    "param_grid_forest = [{\n",
    "    \"regressor\": [RandomForestRegressor(n_jobs=-1, random_state=seed, n_estimators=1000)], # random forest regressor\n",
    "    \"regressor__max_features\": sp_randint(2, 5), # number of features to consider at each node\n",
    "    \"regressor__max_depth\": sp_randint(2, 5), # maximum depth (to prune) a stump\n",
    "    \"regressor__min_samples_leaf\": sp_randint(1, 100), # minimum number of samples required to be at a leaf node\n",
    "}]\n"
   ],
   "metadata": {
    "collapsed": false,
    "pycharm": {
     "name": "#%% raw\n"
    }
   }
  },
  {
   "cell_type": "code",
   "execution_count": null,
   "outputs": [],
   "source": [
    "# RFR\n",
    "rfr = RandomForestRegressor(n_estimators=1000) # nb of trees 1000 for the forest\n"
   ],
   "metadata": {
    "collapsed": false,
    "pycharm": {
     "name": "#%%\n"
    }
   }
  },
  {
   "cell_type": "raw",
   "source": [
    "rfr_search.best_params_"
   ],
   "metadata": {
    "collapsed": false,
    "pycharm": {
     "name": "#%% raw\n"
    }
   }
  },
  {
   "cell_type": "raw",
   "source": [
    "rfr_best = RandomForestRegressor(n_estimators=500, min_samples_leaf=10, max_features='sqrt') # nb of trees 1000 for the forest"
   ],
   "metadata": {
    "collapsed": false,
    "pycharm": {
     "name": "#%% raw\n"
    }
   }
  },
  {
   "cell_type": "raw",
   "source": [
    "rfr_best = rfr_best.fit(X_train.values, y_train)"
   ],
   "metadata": {
    "collapsed": false,
    "pycharm": {
     "name": "#%% raw\n"
    }
   }
  },
  {
   "cell_type": "raw",
   "source": [
    "y_pred_rfr_best = rfr_best.predict(X_test.values)\n",
    "\n",
    "results = evaluate_regression(\"Random Forest Regressor Best\", results, y_test, y_pred_rfr_best)"
   ],
   "metadata": {
    "collapsed": false,
    "pycharm": {
     "name": "#%% raw\n"
    }
   }
  },
  {
   "cell_type": "raw",
   "source": [
    "display_prediction(y_test, y_pred_lr)"
   ],
   "metadata": {
    "collapsed": false,
    "pycharm": {
     "name": "#%% raw\n"
    }
   }
  },
  {
   "cell_type": "markdown",
   "source": [
    "#### 6) Adaboost"
   ],
   "metadata": {
    "collapsed": false,
    "pycharm": {
     "name": "#%% md\n"
    }
   }
  },
  {
   "cell_type": "code",
   "execution_count": null,
   "outputs": [],
   "source": [
    "# Grid of research for AdaBoost\n",
    "from sklearn.ensemble import AdaBoostRegressor\n",
    "from sklearn.tree import DecisionTreeRegressor\n",
    "from scipy.stats import randint as sp_randint\n",
    "\n",
    "# Create space of candidate values for hyperparameters\n",
    "param_grid_adaboost = [{\n",
    "    \"regressor\": [AdaBoostRegressor(random_state=seed)], # AdaBoost regressor\n",
    "    \"regressor__base_estimator\": [DecisionTreeRegressor()], # Required to tune the max_depth factor\n",
    "    \"regressor__base_estimator__max_depth\": sp_randint(2, 5), #  [2,4]\n",
    "    \"regressor__n_estimators\": sp_randint(50, 1000), # number of weak models to iteratively train\n",
    "    \"regressor__learning_rate\": np.logspace(-2, 1, 4), # learning rate, from 10⁻² to 10¹\n",
    "    \"regressor__loss\": ['linear', 'square', 'exponential'], # loss function for weights update\n",
    "}]"
   ],
   "metadata": {
    "collapsed": false,
    "pycharm": {
     "name": "#%%\n"
    }
   }
  },
  {
   "cell_type": "markdown",
   "source": [
    "#### 7) Gradient Boosting Regressor"
   ],
   "metadata": {
    "collapsed": false,
    "pycharm": {
     "name": "#%% md\n"
    }
   }
  },
  {
   "cell_type": "raw",
   "source": [
    "# Grid of research for AdaBoost\n",
    "from sklearn.ensemble import GradientBoostingRegressor\n",
    "from sklearn.tree import DecisionTreeRegressor\n",
    "from scipy.stats import randint as sp_randint\n",
    "\n",
    "# Create space of candidate values for hyperparameters\n",
    "param_grid_gradientboost = [{\n",
    "    \"regressor\": GradientBoostingRegressor(random_state=seed)], # AdaBoost regressor\n",
    "    \"regressor__base_estimator\": [DecisionTreeRegressor()], # Required to tune the max_depth factor\n",
    "    \"regressor__base_estimator__max_depth\": sp_randint(2, 5), #  [2,4]\n",
    "    \"regressor__n_estimators\": sp_randint(50, 1000), # number of weak models to iteratively train\n",
    "    \"regressor__learning_rate\": np.logspace(-2, 1, 4), # learning rate, from 10⁻² to 10¹\n",
    "    \"regressor__loss\": [\"squared_error\", \"absolute_error\", \"huber\", \"quantile\"], # loss function for weights update\n",
    "}]\n",
    "\n",
    "\n",
    "               'subsample'    : [0.9, 0.5, 0.2, 0.1],\n",
    "               'max_depth'    : [4,6,8,10]\n",
    "               }"
   ],
   "metadata": {
    "collapsed": false,
    "pycharm": {
     "name": "#%% raw\n"
    }
   }
  },
  {
   "cell_type": "markdown",
   "source": [
    "#### SVR"
   ],
   "metadata": {
    "collapsed": false,
    "pycharm": {
     "name": "#%% md\n"
    }
   }
  },
  {
   "cell_type": "code",
   "execution_count": null,
   "outputs": [],
   "source": [
    "# Grid of research for k-SVR\n",
    "from sklearn.svm import SVR\n",
    "from scipy.stats import expon\n",
    "from scipy.stats import randint as sp_randint\n",
    "\n",
    "# Create space of candidate values for hyperparameters\n",
    "param_grid_svr_poly = [{# hyper-parameters for polynomial kernel\n",
    "    \"regressor\": [SVR()], # k-SVM regressor\n",
    "    \"regressor__kernel\": ['poly'],\n",
    "    \"regressor__C\": expon(scale=100, loc=5), # C : penalty parameter of the error term\n",
    "    \"regressor__coef0\" : [0, 1], # coef0 : independent term in kernel\n",
    "    \"regressor__degree\" : sp_randint(1, 3), # degree of the polynomial kernel function\n",
    "}]\n",
    "\n",
    "param_grid_svr_linear = [{# hyper-parameters for linear kernel\n",
    "    \"regressor\": [SVR()], # k-SVM regressor\n",
    "    \"regressor__kernel\": ['linear'],\n",
    "    \"regressor__C\": expon(scale=100, loc=5), # C : penalty parameter of the error term. y = (x - loc) / scale\n",
    "}]\n",
    "\n",
    "param_grid_svr_gaussian = [{# hyper-parameters for gaussian kernel\n",
    "    \"regressor\": [SVR()], # k-SVM regressor\n",
    "    \"regressor__kernel\": ['rbf'],\n",
    "    \"regressor__C\": expon(scale=100, loc=5), # C : penalty parameter of the error term\n",
    "    \"regressor__gamma\" : [0.0001, 0.001, 0.01, 0.1], # specific for gaussian kernel\n",
    "}]\n"
   ],
   "metadata": {
    "collapsed": false,
    "pycharm": {
     "name": "#%%\n"
    }
   }
  },
  {
   "cell_type": "markdown",
   "source": [
    "### III) Evaluation"
   ],
   "metadata": {
    "collapsed": false,
    "pycharm": {
     "name": "#%% md\n"
    }
   }
  },
  {
   "cell_type": "markdown",
   "source": [
    "### 1"
   ],
   "metadata": {
    "collapsed": false,
    "pycharm": {
     "name": "#%% md\n"
    }
   }
  },
  {
   "cell_type": "code",
   "execution_count": null,
   "outputs": [],
   "source": [
    "\n",
    "# Dictionnary of search spaces for each family of models\n",
    "param_grids = {\n",
    "    'Ridge': param_grid_ridge, # space of search for ElasticNet\n",
    "    'LASSO': param_grid_lasso, # space of search for ElasticNet\n",
    "    'ElasticNet': param_grid_elastic, # space of search for ElasticNet\n",
    "\n",
    "    'RandomForest': param_grid_forest, # space of search for random forest\n",
    "    'AdaBoost': param_grid_adaboost, # space of search for AdaBoost regressor\n",
    "\n",
    "    'kSVR gaussian': param_grid_svr_gaussian, # space of search for k-SVR\n",
    "    'kSVM poly': param_grid_svr_poly, # space of search for k-SVR with polynomial kernel\n",
    "    'kSVM linear': param_grid_svr_linear # space of search for k-SVR\n",
    "}\n",
    "#'GradientBoosting': param_grid_gradientboost, # space of search for AdaBoost regressor\n"
   ],
   "metadata": {
    "collapsed": false,
    "pycharm": {
     "name": "#%%\n"
    }
   }
  },
  {
   "cell_type": "code",
   "execution_count": null,
   "outputs": [],
   "source": [
    "for model, grid in param_grids.items():\n",
    "    print(model)\n",
    "    print(grid)"
   ],
   "metadata": {
    "collapsed": false,
    "pycharm": {
     "name": "#%%\n"
    }
   }
  },
  {
   "cell_type": "markdown",
   "source": [
    "### 2"
   ],
   "metadata": {
    "collapsed": false,
    "pycharm": {
     "name": "#%% md\n"
    }
   }
  },
  {
   "cell_type": "code",
   "execution_count": null,
   "outputs": [],
   "source": [
    "param_grid_ridge[0][\"regressor\"][0]\n"
   ],
   "metadata": {
    "collapsed": false,
    "pycharm": {
     "name": "#%%\n"
    }
   }
  },
  {
   "cell_type": "code",
   "execution_count": null,
   "outputs": [],
   "source": [
    "def all_gridSearchCV(features, target):\n",
    "\n",
    "    # Load libraries\n",
    "    from sklearn.model_selection import RandomizedSearchCV\n",
    "\n",
    "    # Initialising the dict of results of RandomizedSearchCV\n",
    "    CVsearch_dict = {}\n",
    "\n",
    "    # Iterating over models and related parameters grids\n",
    "    for model, param_grid in param_grids.items():\n",
    "        print(\"\\nProceeding RandomizedSearchCV for {}…\".format(model))\n",
    "        # Handle case where there are different dicts in param_grid (k-SVR…)\n",
    "        for param_grid_dict in param_grid:\n",
    "\n",
    "            # Intenciation of RandomizedSearchCV object\n",
    "            grid = GridSearchCV(\n",
    "                estimator=param_grid_dict[\"regressor\"][0],\n",
    "                param_grid=param_grid_dict, # choice of hyper-parameters to test\n",
    "                scoring=scoring, # scoring method for regression\n",
    "                cv=10, # cross-validation generator\n",
    "                n_jobs=-1, # use all available cores (parallelization)\n",
    "                return_train_score=True, # to avoid a DeprecationWarning\n",
    "                verbose=1\n",
    "            )\n",
    "\n",
    "            # Searching for best hyper-parameters, and saving in dict\n",
    "            CVsearch_dict[model] = grid.fit(features, target)\n",
    "\n",
    "            # Getting standard deviation for best_model scores\n",
    "            best_index = grid.best_index_\n",
    "            std_score = grid.cv_results_['std_test_score'][best_index]\n",
    "\n",
    "            # Displays the parameters of the best model\n",
    "            print(\"Best parameters found for {}:\".format(model))\n",
    "\n",
    "            # Getting parameters from param_grid\n",
    "            for parameter, _ in param_grid_dict.items():\n",
    "                if parameter != 'regressor':\n",
    "                    best_parameter = grid.best_estimator_.get_params()[parameter]\n",
    "                    parameter = parameter.split(\"regressor__\")[1]\n",
    "                    # Display best parameter\n",
    "                    print(\"  - \" + parameter + \":\", best_parameter)\n",
    "\n",
    "            # Getting the best score\n",
    "            print(\"\\nMean cross-validated score of the best estimator for {}: R² = {:.3f} ± {:.3f}\".format(model, grid.best_score_, std_score))\n",
    "\n",
    "    # Returns dictionnary with results\n",
    "    return CVsearch_dict"
   ],
   "metadata": {
    "collapsed": false,
    "pycharm": {
     "name": "#%%\n"
    }
   }
  },
  {
   "cell_type": "code",
   "execution_count": null,
   "outputs": [],
   "source": [
    "CVsearch_dict = all_gridSearchCV(X_train, y_train)"
   ],
   "metadata": {
    "collapsed": false,
    "pycharm": {
     "name": "#%%\n"
    }
   }
  },
  {
   "cell_type": "code",
   "execution_count": null,
   "outputs": [],
   "source": [
    "def get_best_model(CVsearch_dict):\n",
    "    \"\"\"Return the best_model from CVsearch_dict.\"\"\"\n",
    "\n",
    "    # Initializing best score\n",
    "    best_score = 0\n",
    "\n",
    "    # Iterating over models\n",
    "    for model, model_CVsearch in CVsearch_dict.items():\n",
    "\n",
    "        # Selecting model with best score\n",
    "        if model_CVsearch.best_score_ > best_score:\n",
    "            # Updating best_score and best_model\n",
    "            best_model_name = model\n",
    "            best_score = model_CVsearch.best_score_\n",
    "            best_model = model_CVsearch.best_estimator_\n",
    "\n",
    "    # Display results\n",
    "    print(\"\\nThe overall best cross-validated score is : R² = {:.3f}\".format(best_score))\n",
    "    print(\"The best model is {} with parameters: \".format(best_model_name))\n",
    "\n",
    "    # Getting parameters from param_grid\n",
    "    for parameter, _ in param_grids[best_model_name][0].items():\n",
    "        if parameter != 'regressor':\n",
    "            best_parameter = best_model.get_params()[parameter]\n",
    "\n",
    "            # Display best parameter\n",
    "            parameter = parameter.split(\"regressor__\")[1]\n",
    "            print(\"  - \" + parameter + \":\", best_parameter)\n",
    "\n",
    "    return best_model\n",
    "\n",
    "model_GHG = get_best_model(CVsearch_dict)"
   ],
   "metadata": {
    "collapsed": false,
    "pycharm": {
     "name": "#%%\n"
    }
   }
  },
  {
   "cell_type": "markdown",
   "source": [
    "#### Vérification des prédictions\n"
   ],
   "metadata": {
    "collapsed": false,
    "pycharm": {
     "name": "#%% md\n"
    }
   }
  },
  {
   "cell_type": "code",
   "execution_count": null,
   "outputs": [],
   "source": [],
   "metadata": {
    "collapsed": false,
    "pycharm": {
     "name": "#%%\n"
    }
   }
  },
  {
   "cell_type": "markdown",
   "source": [
    "#### Intérêt du Energy Star Score\n"
   ],
   "metadata": {
    "collapsed": false,
    "pycharm": {
     "name": "#%% md\n"
    }
   }
  }
 ],
 "metadata": {
  "kernelspec": {
   "display_name": "Python 3",
   "language": "python",
   "name": "python3"
  },
  "language_info": {
   "codemirror_mode": {
    "name": "ipython",
    "version": 2
   },
   "file_extension": ".py",
   "mimetype": "text/x-python",
   "name": "python",
   "nbconvert_exporter": "python",
   "pygments_lexer": "ipython2",
   "version": "2.7.6"
  }
 },
 "nbformat": 4,
 "nbformat_minor": 0
}