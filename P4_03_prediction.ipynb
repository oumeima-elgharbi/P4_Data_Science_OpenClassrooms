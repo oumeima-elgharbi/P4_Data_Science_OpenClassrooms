{
 "cells": [
  {
   "cell_type": "markdown",
   "source": [
    "OpenClassrooms\n",
    "Project 4, Data Scientist\n",
    "Author : Oumeima EL GHARBI\n",
    "Date : August 2022"
   ],
   "metadata": {
    "collapsed": false,
    "pycharm": {
     "name": "#%% md\n"
    }
   }
  },
  {
   "cell_type": "markdown",
   "source": [
    "Un notebook pour chaque prédiction (émissions de CO2 et consommation totale d’énergie) des différents tests de modèles mis au propre, dans lequel vous identifierez clairement le modèle final choisi.\n",
    "\n",
    "\n",
    "L’objectif est de te passer des relevés de consommation annuels futurs (attention à la fuite de données). Nous ferons de toute façon pour tout nouveau bâtiment un premier relevé de référence la première année, donc rien ne t'interdit d’en déduire des variables structurelles aux bâtiments, par exemple la nature et proportions des sources d’énergie utilisées..\n",
    "\n",
    "Fais bien attention au traitement des différentes variables, à la fois pour trouver de nouvelles informations (peut-on déduire des choses intéressantes d’une simple adresse ?) et optimiser les performances en appliquant des transformations simples aux variables (normalisation, passage au log, etc.).\n",
    "\n",
    "Mets en place une évaluation rigoureuse des performances de la régression, et optimise les hyperparamètres et le choix d’algorithmes de ML à l’aide d’une validation croisée."
   ],
   "metadata": {
    "collapsed": false,
    "pycharm": {
     "name": "#%% md\n"
    }
   }
  },
  {
   "cell_type": "markdown",
   "source": [
    "\n",
    "\n",
    "Tester les modèles suivants : **regression linéaire (avec différentes régularisation : Ridge, Lasso, Elastic), Random Forest, XGboost**\n",
    "Penser à comparer les performances des différents modèles : utiliser la **MAE** ( Mean Absolute Error)\n",
    "Penser également à optimiser les hyper paramètres de chaque modèle via **GridSearch**\n"
   ],
   "metadata": {
    "collapsed": false,
    "pycharm": {
     "name": "#%% md\n"
    }
   }
  },
  {
   "cell_type": "markdown",
   "source": [
    "Evaluate :\n",
    "\n",
    "https://cloud.google.com/automl-tables/docs/evaluate?hl=fr\n",
    "\n",
    "\n",
    "KFOLD\n",
    "\n",
    "Entrée : données X (dimension nxp), étiquettes y (dimension n), nombre de folds k\n",
    "\n",
    "Couper [0, 1, ..., n-1] en k parties de taille (n/k). (La dernière partie sera un peu plus petite si n n'est pas un multiple de k)\n",
    "\n",
    "for i=0 to (k-1):\n",
    "    Former le jeu de test (X_test, y_test) en restreignant X et y aux indices contenus dans la i-ième partie.\n",
    "    Former le jeu d'entraînement (X_train, y_train) en restreignant X et y aux autres indices.\n",
    "    Entraîner l'algorithme sur le jeu d'entraînement\n",
    "    Utiliser le modèle ainsi obtenu pour prédire sur le jeu de test\n",
    "        Calculer l'erreur du modèle en comparant les étiquettes prédites aux vraies étiquettes contenues dans y_test\n",
    "\n",
    "Sortie : la valeur moyenne des erreurs calculées sur les k folds."
   ],
   "metadata": {
    "collapsed": false,
    "pycharm": {
     "name": "#%% md\n"
    }
   }
  },
  {
   "cell_type": "code",
   "execution_count": 723,
   "outputs": [],
   "source": [
    "# 1 modele de Regression (RL classsque / Elastic / ridig / laso\n",
    "# Random Forest\n",
    "# XGBOOST\n",
    "\n",
    "# var à rpedire tottal GHE Emssion last one to predict\n",
    "# cette var deped de la consommation des bateimenst (1) prediction sur elec, steam, naturalgas et un autre energie (2) et reutiliser pour predire"
   ],
   "metadata": {
    "collapsed": false,
    "pycharm": {
     "name": "#%%\n"
    }
   }
  },
  {
   "cell_type": "markdown",
   "source": [
    "### Introduction"
   ],
   "metadata": {
    "collapsed": false,
    "pycharm": {
     "name": "#%% md\n"
    }
   }
  },
  {
   "cell_type": "markdown",
   "source": [
    "#### Importing libraries"
   ],
   "metadata": {
    "collapsed": false,
    "pycharm": {
     "name": "#%% md\n"
    }
   }
  },
  {
   "cell_type": "code",
   "execution_count": 724,
   "outputs": [
    {
     "data": {
      "application/javascript": "IPython.notebook.set_autosave_interval(300000)"
     },
     "metadata": {},
     "output_type": "display_data"
    },
    {
     "name": "stdout",
     "output_type": "stream",
     "text": [
      "Autosaving every 300 seconds\n"
     ]
    }
   ],
   "source": [
    "%reset -f\n",
    "\n",
    "import numpy as np\n",
    "import pandas as pd\n",
    "import matplotlib.pyplot as plt\n",
    "import seaborn as sns\n",
    "\n",
    "%matplotlib inline\n",
    "%autosave 300"
   ],
   "metadata": {
    "collapsed": false,
    "pycharm": {
     "name": "#%%\n"
    }
   }
  },
  {
   "cell_type": "code",
   "execution_count": 725,
   "outputs": [],
   "source": [
    "from functions import *"
   ],
   "metadata": {
    "collapsed": false,
    "pycharm": {
     "name": "#%%\n"
    }
   }
  },
  {
   "cell_type": "code",
   "execution_count": 726,
   "outputs": [],
   "source": [
    "import os, warnings\n",
    "# warnings.filterwarnings('ignore')\n",
    "warnings.filterwarnings(action=\"once\")"
   ],
   "metadata": {
    "collapsed": false,
    "pycharm": {
     "name": "#%%\n"
    }
   }
  },
  {
   "cell_type": "markdown",
   "source": [
    "#### Loading dataset"
   ],
   "metadata": {
    "collapsed": false,
    "pycharm": {
     "name": "#%% md\n"
    }
   }
  },
  {
   "cell_type": "code",
   "execution_count": 727,
   "outputs": [
    {
     "name": "stdout",
     "output_type": "stream",
     "text": [
      "This dictionary will be used when reading the csv file to assign a type to categorical features : {'BuildingType': 'category', 'PrimaryPropertyType': 'category', 'Neighborhood': 'category', 'ZipCode': 'category', 'CouncilDistrictCode': 'category', 'LargestPropertyUseType': 'category', 'SecondLargestPropertyUseType': 'category', 'ThirdLargestPropertyUseType': 'category'}\n"
     ]
    }
   ],
   "source": [
    "columns_to_categorize = [\"BuildingType\", \"PrimaryPropertyType\", \"Neighborhood\", \"ZipCode\", \"CouncilDistrictCode\", \"LargestPropertyUseType\", \"SecondLargestPropertyUseType\", \"ThirdLargestPropertyUseType\"]\n",
    "#  \"Neighborhood\",\n",
    "category_types = {column: 'category' for column in columns_to_categorize}\n",
    "print(\"This dictionary will be used when reading the csv file to assign a type to categorical features :\", category_types)"
   ],
   "metadata": {
    "collapsed": false,
    "pycharm": {
     "name": "#%%\n"
    }
   }
  },
  {
   "cell_type": "code",
   "execution_count": 728,
   "outputs": [],
   "source": [
    "dataset_path = \"dataset/cleaned/2016_Building_Energy_Prediction.csv\"\n",
    "# we assign the categorical features with a categotical type\n",
    "data = pd.read_csv(dataset_path, dtype=category_types, sep=\",\")"
   ],
   "metadata": {
    "collapsed": false,
    "pycharm": {
     "name": "#%%\n"
    }
   }
  },
  {
   "cell_type": "code",
   "execution_count": 729,
   "outputs": [
    {
     "data": {
      "text/plain": "(3131, 29)"
     },
     "execution_count": 729,
     "metadata": {},
     "output_type": "execute_result"
    }
   ],
   "source": [
    "data.shape"
   ],
   "metadata": {
    "collapsed": false,
    "pycharm": {
     "name": "#%%\n"
    }
   }
  },
  {
   "cell_type": "code",
   "execution_count": 730,
   "outputs": [
    {
     "data": {
      "text/plain": "OSEBuildingID                         int64\nBuildingType                       category\nPrimaryPropertyType                category\nZipCode                            category\nCouncilDistrictCode                category\nNeighborhood                       category\nYearBuilt                             int64\nNumberofBuildings                   float64\nNumberofFloors                        int64\nPropertyGFATotal                      int64\nPropertyGFAParking                    int64\nPropertyGFABuilding(s)                int64\nLargestPropertyUseType             category\nLargestPropertyUseTypeGFA           float64\nSecondLargestPropertyUseType       category\nSecondLargestPropertyUseTypeGFA     float64\nThirdLargestPropertyUseType        category\nThirdLargestPropertyUseTypeGFA      float64\nENERGYSTARScore                     float64\nSiteEnergyUse(kBtu)                 float64\nSteamUse(kBtu)                      float64\nElectricity(kBtu)                   float64\nNaturalGas(kBtu)                    float64\nTotalGHGEmissions                   float64\nLog2-SiteEnergyUse(kBtu)            float64\nLog2-SteamUse(kBtu)                 float64\nLog2-Electricity(kBtu)              float64\nLog2-NaturalGas(kBtu)               float64\nLog2-TotalGHGEmissions              float64\ndtype: object"
     },
     "execution_count": 730,
     "metadata": {},
     "output_type": "execute_result"
    }
   ],
   "source": [
    "data.dtypes"
   ],
   "metadata": {
    "collapsed": false,
    "pycharm": {
     "name": "#%%\n"
    }
   }
  },
  {
   "cell_type": "code",
   "execution_count": 731,
   "outputs": [],
   "source": [
    "# predict : Electricity\n",
    "# train / test\n",
    "# standardisation = retirer la moyen et div par ecart type (scaling : les var qn sur emem echelle\n",
    "# var categ : encoding (one hot encoder)\n",
    "\n",
    "# la fin Feature engineriing\n",
    "\n",
    "# 2) entrainer le smodels\n",
    "# perf\n",
    "# temps de calcul\n",
    "# graph pour montrer la perf de chaque modele(barplot)\n",
    "# obj : finir exploration / finir feature engineering\n",
    "# obj un premier noteboook propre (try max)"
   ],
   "metadata": {
    "collapsed": false,
    "pycharm": {
     "name": "#%%\n"
    }
   }
  },
  {
   "cell_type": "code",
   "execution_count": 732,
   "outputs": [
    {
     "data": {
      "text/plain": "Index(['OSEBuildingID', 'BuildingType', 'PrimaryPropertyType', 'ZipCode',\n       'CouncilDistrictCode', 'Neighborhood', 'YearBuilt', 'NumberofBuildings',\n       'NumberofFloors', 'PropertyGFATotal', 'PropertyGFAParking',\n       'PropertyGFABuilding(s)', 'LargestPropertyUseType',\n       'LargestPropertyUseTypeGFA', 'SecondLargestPropertyUseType',\n       'SecondLargestPropertyUseTypeGFA', 'ThirdLargestPropertyUseType',\n       'ThirdLargestPropertyUseTypeGFA', 'ENERGYSTARScore',\n       'SiteEnergyUse(kBtu)', 'SteamUse(kBtu)', 'Electricity(kBtu)',\n       'NaturalGas(kBtu)', 'TotalGHGEmissions', 'Log2-SiteEnergyUse(kBtu)',\n       'Log2-SteamUse(kBtu)', 'Log2-Electricity(kBtu)',\n       'Log2-NaturalGas(kBtu)', 'Log2-TotalGHGEmissions'],\n      dtype='object')"
     },
     "execution_count": 732,
     "metadata": {},
     "output_type": "execute_result"
    }
   ],
   "source": [
    "data.columns"
   ],
   "metadata": {
    "collapsed": false,
    "pycharm": {
     "name": "#%%\n"
    }
   }
  },
  {
   "cell_type": "code",
   "execution_count": 733,
   "outputs": [
    {
     "name": "stdout",
     "output_type": "stream",
     "text": [
      "['BuildingType', 'PrimaryPropertyType', 'LargestPropertyUseType', 'Neighborhood', 'NumberofFloors', 'PropertyGFATotal', 'PropertyGFABuilding(s)', 'SecondLargestPropertyUseTypeGFA', 'ThirdLargestPropertyUseTypeGFA', 'Log2-Electricity(kBtu)']\n"
     ]
    }
   ],
   "source": [
    "features_for_prediction = [\"BuildingType\", \"PrimaryPropertyType\", \"LargestPropertyUseType\", \"Neighborhood\", \"NumberofFloors\", \"PropertyGFATotal\", \"PropertyGFABuilding(s)\", \"SecondLargestPropertyUseTypeGFA\", \"ThirdLargestPropertyUseTypeGFA\"]\n",
    "\n",
    "#features_for_prediction = [\"YearBuilt\", \"NumberofBuildings\", \"NumberofFloors\", \"LargestPropertyUseTypeGFA\", \"SecondLargestPropertyUseTypeGFA\", \"ThirdLargestPropertyUseTypeGFA\",\n",
    "   #                        \"BuildingType\",\"PrimaryPropertyType\", \"Neighborhood\", \"LargestPropertyUseType\", \"SecondLargestPropertyUseType\", \"ThirdLargestPropertyUseType\"]\n",
    "\n",
    "variable_to_predict = \"Log2-Electricity(kBtu)\"\n",
    "\n",
    "features_for_prediction.append(variable_to_predict)\n",
    "print(features_for_prediction)\n"
   ],
   "metadata": {
    "collapsed": false,
    "pycharm": {
     "name": "#%%\n"
    }
   }
  },
  {
   "cell_type": "code",
   "execution_count": 734,
   "outputs": [
    {
     "data": {
      "text/plain": "              BuildingType          PrimaryPropertyType  \\\n0     Multifamily LR (1-4)         Low-Rise Multifamily   \n1           NonResidential                    Warehouse   \n2     Multifamily LR (1-4)         Low-Rise Multifamily   \n3     Multifamily HR (10+)        High-Rise Multifamily   \n4     Multifamily LR (1-4)         Low-Rise Multifamily   \n...                    ...                          ...   \n3126        NonResidential           Mixed Use Property   \n3127  Multifamily LR (1-4)         Low-Rise Multifamily   \n3128        NonResidential  Small- and Mid-Sized Office   \n3129        NonResidential                 Retail Store   \n3130    Nonresidential COS           Mixed Use Property   \n\n          LargestPropertyUseType      Neighborhood  NumberofFloors  \\\n0            Multifamily Housing           central               3   \n1     Non-Refrigerated Warehouse  greater duwamish               2   \n2            Multifamily Housing  greater duwamish               3   \n3            Multifamily Housing  greater duwamish              15   \n4            Multifamily Housing  greater duwamish               3   \n...                          ...               ...             ...   \n3126         Multifamily Housing        lake union               3   \n3127         Multifamily Housing        lake union               4   \n3128                      Office        lake union               5   \n3129                Retail Store        lake union               2   \n3130          Other - Recreation  greater duwamish               1   \n\n      PropertyGFATotal  PropertyGFABuilding(s)  \\\n0                20739                   20739   \n1                25955                   25955   \n2                25120                   25120   \n3                73898                   73898   \n4                36383                   29353   \n...                ...                     ...   \n3126             41827                   32601   \n3127             36660                   36660   \n3128             33740                   27730   \n3129             20516                   20516   \n3130             18258                   18258   \n\n      SecondLargestPropertyUseTypeGFA  ThirdLargestPropertyUseTypeGFA  \\\n0                                0.00                            0.00   \n1                             8745.00                         3060.00   \n2                                0.00                            0.00   \n3                                0.00                            0.00   \n4                             4200.00                            0.00   \n...                               ...                             ...   \n3126                         14128.00                         9680.00   \n3127                             0.00                            0.00   \n3128                          8762.00                         1500.00   \n3129                          8000.00                            0.00   \n3130                          8000.00                         1108.00   \n\n      Log2-Electricity(kBtu)  \n0                      19.64  \n1                      20.22  \n2                      18.21  \n3                      21.04  \n4                      19.33  \n...                      ...  \n3126                   21.22  \n3127                   18.98  \n3128                   20.30  \n3129                   18.02  \n3130                   18.72  \n\n[3131 rows x 10 columns]",
      "text/html": "<div>\n<style scoped>\n    .dataframe tbody tr th:only-of-type {\n        vertical-align: middle;\n    }\n\n    .dataframe tbody tr th {\n        vertical-align: top;\n    }\n\n    .dataframe thead th {\n        text-align: right;\n    }\n</style>\n<table border=\"1\" class=\"dataframe\">\n  <thead>\n    <tr style=\"text-align: right;\">\n      <th></th>\n      <th>BuildingType</th>\n      <th>PrimaryPropertyType</th>\n      <th>LargestPropertyUseType</th>\n      <th>Neighborhood</th>\n      <th>NumberofFloors</th>\n      <th>PropertyGFATotal</th>\n      <th>PropertyGFABuilding(s)</th>\n      <th>SecondLargestPropertyUseTypeGFA</th>\n      <th>ThirdLargestPropertyUseTypeGFA</th>\n      <th>Log2-Electricity(kBtu)</th>\n    </tr>\n  </thead>\n  <tbody>\n    <tr>\n      <th>0</th>\n      <td>Multifamily LR (1-4)</td>\n      <td>Low-Rise Multifamily</td>\n      <td>Multifamily Housing</td>\n      <td>central</td>\n      <td>3</td>\n      <td>20739</td>\n      <td>20739</td>\n      <td>0.00</td>\n      <td>0.00</td>\n      <td>19.64</td>\n    </tr>\n    <tr>\n      <th>1</th>\n      <td>NonResidential</td>\n      <td>Warehouse</td>\n      <td>Non-Refrigerated Warehouse</td>\n      <td>greater duwamish</td>\n      <td>2</td>\n      <td>25955</td>\n      <td>25955</td>\n      <td>8745.00</td>\n      <td>3060.00</td>\n      <td>20.22</td>\n    </tr>\n    <tr>\n      <th>2</th>\n      <td>Multifamily LR (1-4)</td>\n      <td>Low-Rise Multifamily</td>\n      <td>Multifamily Housing</td>\n      <td>greater duwamish</td>\n      <td>3</td>\n      <td>25120</td>\n      <td>25120</td>\n      <td>0.00</td>\n      <td>0.00</td>\n      <td>18.21</td>\n    </tr>\n    <tr>\n      <th>3</th>\n      <td>Multifamily HR (10+)</td>\n      <td>High-Rise Multifamily</td>\n      <td>Multifamily Housing</td>\n      <td>greater duwamish</td>\n      <td>15</td>\n      <td>73898</td>\n      <td>73898</td>\n      <td>0.00</td>\n      <td>0.00</td>\n      <td>21.04</td>\n    </tr>\n    <tr>\n      <th>4</th>\n      <td>Multifamily LR (1-4)</td>\n      <td>Low-Rise Multifamily</td>\n      <td>Multifamily Housing</td>\n      <td>greater duwamish</td>\n      <td>3</td>\n      <td>36383</td>\n      <td>29353</td>\n      <td>4200.00</td>\n      <td>0.00</td>\n      <td>19.33</td>\n    </tr>\n    <tr>\n      <th>...</th>\n      <td>...</td>\n      <td>...</td>\n      <td>...</td>\n      <td>...</td>\n      <td>...</td>\n      <td>...</td>\n      <td>...</td>\n      <td>...</td>\n      <td>...</td>\n      <td>...</td>\n    </tr>\n    <tr>\n      <th>3126</th>\n      <td>NonResidential</td>\n      <td>Mixed Use Property</td>\n      <td>Multifamily Housing</td>\n      <td>lake union</td>\n      <td>3</td>\n      <td>41827</td>\n      <td>32601</td>\n      <td>14128.00</td>\n      <td>9680.00</td>\n      <td>21.22</td>\n    </tr>\n    <tr>\n      <th>3127</th>\n      <td>Multifamily LR (1-4)</td>\n      <td>Low-Rise Multifamily</td>\n      <td>Multifamily Housing</td>\n      <td>lake union</td>\n      <td>4</td>\n      <td>36660</td>\n      <td>36660</td>\n      <td>0.00</td>\n      <td>0.00</td>\n      <td>18.98</td>\n    </tr>\n    <tr>\n      <th>3128</th>\n      <td>NonResidential</td>\n      <td>Small- and Mid-Sized Office</td>\n      <td>Office</td>\n      <td>lake union</td>\n      <td>5</td>\n      <td>33740</td>\n      <td>27730</td>\n      <td>8762.00</td>\n      <td>1500.00</td>\n      <td>20.30</td>\n    </tr>\n    <tr>\n      <th>3129</th>\n      <td>NonResidential</td>\n      <td>Retail Store</td>\n      <td>Retail Store</td>\n      <td>lake union</td>\n      <td>2</td>\n      <td>20516</td>\n      <td>20516</td>\n      <td>8000.00</td>\n      <td>0.00</td>\n      <td>18.02</td>\n    </tr>\n    <tr>\n      <th>3130</th>\n      <td>Nonresidential COS</td>\n      <td>Mixed Use Property</td>\n      <td>Other - Recreation</td>\n      <td>greater duwamish</td>\n      <td>1</td>\n      <td>18258</td>\n      <td>18258</td>\n      <td>8000.00</td>\n      <td>1108.00</td>\n      <td>18.72</td>\n    </tr>\n  </tbody>\n</table>\n<p>3131 rows × 10 columns</p>\n</div>"
     },
     "execution_count": 734,
     "metadata": {},
     "output_type": "execute_result"
    }
   ],
   "source": [
    "data = data[features_for_prediction]\n",
    "\n",
    "data"
   ],
   "metadata": {
    "collapsed": false,
    "pycharm": {
     "name": "#%%\n"
    }
   }
  },
  {
   "cell_type": "markdown",
   "source": [
    "## I) Feature Engineering : preparing the vectors and matrices\n"
   ],
   "metadata": {
    "collapsed": false,
    "pycharm": {
     "name": "#%% md\n"
    }
   }
  },
  {
   "cell_type": "markdown",
   "source": [
    "#### 1) Separating training data and target vector"
   ],
   "metadata": {
    "collapsed": false,
    "pycharm": {
     "name": "#%% md\n"
    }
   }
  },
  {
   "cell_type": "code",
   "execution_count": 735,
   "outputs": [
    {
     "name": "stdout",
     "output_type": "stream",
     "text": [
      "Shape of X : (3131, 9)\n",
      "Shape of y : (3131,)\n"
     ]
    }
   ],
   "source": [
    "# we create the data matrix / we only take the features\n",
    "X = data[data.columns[:-1]]\n",
    "\n",
    "# we create the target vector\n",
    "y = data[variable_to_predict].values # numpy array not a DataFrame anymore\n",
    "\n",
    "print(\"Shape of X :\", X.shape)\n",
    "print(\"Shape of y :\", y.shape)"
   ],
   "metadata": {
    "collapsed": false,
    "pycharm": {
     "name": "#%%\n"
    }
   }
  },
  {
   "cell_type": "code",
   "execution_count": 736,
   "outputs": [
    {
     "data": {
      "text/plain": "              BuildingType          PrimaryPropertyType  \\\n0     Multifamily LR (1-4)         Low-Rise Multifamily   \n1           NonResidential                    Warehouse   \n2     Multifamily LR (1-4)         Low-Rise Multifamily   \n3     Multifamily HR (10+)        High-Rise Multifamily   \n4     Multifamily LR (1-4)         Low-Rise Multifamily   \n...                    ...                          ...   \n3126        NonResidential           Mixed Use Property   \n3127  Multifamily LR (1-4)         Low-Rise Multifamily   \n3128        NonResidential  Small- and Mid-Sized Office   \n3129        NonResidential                 Retail Store   \n3130    Nonresidential COS           Mixed Use Property   \n\n          LargestPropertyUseType      Neighborhood  NumberofFloors  \\\n0            Multifamily Housing           central               3   \n1     Non-Refrigerated Warehouse  greater duwamish               2   \n2            Multifamily Housing  greater duwamish               3   \n3            Multifamily Housing  greater duwamish              15   \n4            Multifamily Housing  greater duwamish               3   \n...                          ...               ...             ...   \n3126         Multifamily Housing        lake union               3   \n3127         Multifamily Housing        lake union               4   \n3128                      Office        lake union               5   \n3129                Retail Store        lake union               2   \n3130          Other - Recreation  greater duwamish               1   \n\n      PropertyGFATotal  PropertyGFABuilding(s)  \\\n0                20739                   20739   \n1                25955                   25955   \n2                25120                   25120   \n3                73898                   73898   \n4                36383                   29353   \n...                ...                     ...   \n3126             41827                   32601   \n3127             36660                   36660   \n3128             33740                   27730   \n3129             20516                   20516   \n3130             18258                   18258   \n\n      SecondLargestPropertyUseTypeGFA  ThirdLargestPropertyUseTypeGFA  \n0                                0.00                            0.00  \n1                             8745.00                         3060.00  \n2                                0.00                            0.00  \n3                                0.00                            0.00  \n4                             4200.00                            0.00  \n...                               ...                             ...  \n3126                         14128.00                         9680.00  \n3127                             0.00                            0.00  \n3128                          8762.00                         1500.00  \n3129                          8000.00                            0.00  \n3130                          8000.00                         1108.00  \n\n[3131 rows x 9 columns]",
      "text/html": "<div>\n<style scoped>\n    .dataframe tbody tr th:only-of-type {\n        vertical-align: middle;\n    }\n\n    .dataframe tbody tr th {\n        vertical-align: top;\n    }\n\n    .dataframe thead th {\n        text-align: right;\n    }\n</style>\n<table border=\"1\" class=\"dataframe\">\n  <thead>\n    <tr style=\"text-align: right;\">\n      <th></th>\n      <th>BuildingType</th>\n      <th>PrimaryPropertyType</th>\n      <th>LargestPropertyUseType</th>\n      <th>Neighborhood</th>\n      <th>NumberofFloors</th>\n      <th>PropertyGFATotal</th>\n      <th>PropertyGFABuilding(s)</th>\n      <th>SecondLargestPropertyUseTypeGFA</th>\n      <th>ThirdLargestPropertyUseTypeGFA</th>\n    </tr>\n  </thead>\n  <tbody>\n    <tr>\n      <th>0</th>\n      <td>Multifamily LR (1-4)</td>\n      <td>Low-Rise Multifamily</td>\n      <td>Multifamily Housing</td>\n      <td>central</td>\n      <td>3</td>\n      <td>20739</td>\n      <td>20739</td>\n      <td>0.00</td>\n      <td>0.00</td>\n    </tr>\n    <tr>\n      <th>1</th>\n      <td>NonResidential</td>\n      <td>Warehouse</td>\n      <td>Non-Refrigerated Warehouse</td>\n      <td>greater duwamish</td>\n      <td>2</td>\n      <td>25955</td>\n      <td>25955</td>\n      <td>8745.00</td>\n      <td>3060.00</td>\n    </tr>\n    <tr>\n      <th>2</th>\n      <td>Multifamily LR (1-4)</td>\n      <td>Low-Rise Multifamily</td>\n      <td>Multifamily Housing</td>\n      <td>greater duwamish</td>\n      <td>3</td>\n      <td>25120</td>\n      <td>25120</td>\n      <td>0.00</td>\n      <td>0.00</td>\n    </tr>\n    <tr>\n      <th>3</th>\n      <td>Multifamily HR (10+)</td>\n      <td>High-Rise Multifamily</td>\n      <td>Multifamily Housing</td>\n      <td>greater duwamish</td>\n      <td>15</td>\n      <td>73898</td>\n      <td>73898</td>\n      <td>0.00</td>\n      <td>0.00</td>\n    </tr>\n    <tr>\n      <th>4</th>\n      <td>Multifamily LR (1-4)</td>\n      <td>Low-Rise Multifamily</td>\n      <td>Multifamily Housing</td>\n      <td>greater duwamish</td>\n      <td>3</td>\n      <td>36383</td>\n      <td>29353</td>\n      <td>4200.00</td>\n      <td>0.00</td>\n    </tr>\n    <tr>\n      <th>...</th>\n      <td>...</td>\n      <td>...</td>\n      <td>...</td>\n      <td>...</td>\n      <td>...</td>\n      <td>...</td>\n      <td>...</td>\n      <td>...</td>\n      <td>...</td>\n    </tr>\n    <tr>\n      <th>3126</th>\n      <td>NonResidential</td>\n      <td>Mixed Use Property</td>\n      <td>Multifamily Housing</td>\n      <td>lake union</td>\n      <td>3</td>\n      <td>41827</td>\n      <td>32601</td>\n      <td>14128.00</td>\n      <td>9680.00</td>\n    </tr>\n    <tr>\n      <th>3127</th>\n      <td>Multifamily LR (1-4)</td>\n      <td>Low-Rise Multifamily</td>\n      <td>Multifamily Housing</td>\n      <td>lake union</td>\n      <td>4</td>\n      <td>36660</td>\n      <td>36660</td>\n      <td>0.00</td>\n      <td>0.00</td>\n    </tr>\n    <tr>\n      <th>3128</th>\n      <td>NonResidential</td>\n      <td>Small- and Mid-Sized Office</td>\n      <td>Office</td>\n      <td>lake union</td>\n      <td>5</td>\n      <td>33740</td>\n      <td>27730</td>\n      <td>8762.00</td>\n      <td>1500.00</td>\n    </tr>\n    <tr>\n      <th>3129</th>\n      <td>NonResidential</td>\n      <td>Retail Store</td>\n      <td>Retail Store</td>\n      <td>lake union</td>\n      <td>2</td>\n      <td>20516</td>\n      <td>20516</td>\n      <td>8000.00</td>\n      <td>0.00</td>\n    </tr>\n    <tr>\n      <th>3130</th>\n      <td>Nonresidential COS</td>\n      <td>Mixed Use Property</td>\n      <td>Other - Recreation</td>\n      <td>greater duwamish</td>\n      <td>1</td>\n      <td>18258</td>\n      <td>18258</td>\n      <td>8000.00</td>\n      <td>1108.00</td>\n    </tr>\n  </tbody>\n</table>\n<p>3131 rows × 9 columns</p>\n</div>"
     },
     "execution_count": 736,
     "metadata": {},
     "output_type": "execute_result"
    }
   ],
   "source": [
    "X"
   ],
   "metadata": {
    "collapsed": false,
    "pycharm": {
     "name": "#%%\n"
    }
   }
  },
  {
   "cell_type": "markdown",
   "source": [
    "#### 2) Separation train and test dataset\n"
   ],
   "metadata": {
    "collapsed": false,
    "pycharm": {
     "name": "#%% md\n"
    }
   }
  },
  {
   "cell_type": "code",
   "execution_count": 737,
   "outputs": [
    {
     "name": "stdout",
     "output_type": "stream",
     "text": [
      "We have to separate the train / test sets before normalising the dataset.\n"
     ]
    }
   ],
   "source": [
    "print(\"We have to separate the train / test sets before normalising the dataset.\")"
   ],
   "metadata": {
    "collapsed": false,
    "pycharm": {
     "name": "#%%\n"
    }
   }
  },
  {
   "cell_type": "code",
   "execution_count": 738,
   "outputs": [],
   "source": [
    "# We create a training set and a test set (the test set contains 30% of the dataset)\n",
    "from sklearn import model_selection\n",
    "X_train, X_test, y_train, y_test = model_selection.train_test_split(X, y, test_size=0.3,  random_state=42)"
   ],
   "metadata": {
    "collapsed": false,
    "pycharm": {
     "name": "#%%\n"
    }
   }
  },
  {
   "cell_type": "code",
   "execution_count": 739,
   "outputs": [
    {
     "data": {
      "text/plain": "(2191, 9)"
     },
     "execution_count": 739,
     "metadata": {},
     "output_type": "execute_result"
    }
   ],
   "source": [
    "X_train.shape"
   ],
   "metadata": {
    "collapsed": false,
    "pycharm": {
     "name": "#%%\n"
    }
   }
  },
  {
   "cell_type": "code",
   "execution_count": 740,
   "outputs": [
    {
     "data": {
      "text/plain": "(940, 9)"
     },
     "execution_count": 740,
     "metadata": {},
     "output_type": "execute_result"
    }
   ],
   "source": [
    "X_test.shape"
   ],
   "metadata": {
    "collapsed": false,
    "pycharm": {
     "name": "#%%\n"
    }
   }
  },
  {
   "cell_type": "markdown",
   "source": [
    "#### 3) Normalization"
   ],
   "metadata": {
    "collapsed": false,
    "pycharm": {
     "name": "#%% md\n"
    }
   }
  },
  {
   "cell_type": "code",
   "execution_count": 741,
   "outputs": [],
   "source": [
    "from sklearn.preprocessing import StandardScaler, OneHotEncoder, MinMaxScaler"
   ],
   "metadata": {
    "collapsed": false,
    "pycharm": {
     "name": "#%%\n"
    }
   }
  },
  {
   "cell_type": "code",
   "execution_count": 742,
   "outputs": [
    {
     "name": "stdout",
     "output_type": "stream",
     "text": [
      "We separate categorical variables from numerical variables.\n"
     ]
    }
   ],
   "source": [
    "print(\"We separate categorical variables from numerical variables.\")"
   ],
   "metadata": {
    "collapsed": false,
    "pycharm": {
     "name": "#%%\n"
    }
   }
  },
  {
   "cell_type": "code",
   "execution_count": 743,
   "outputs": [
    {
     "name": "stdout",
     "output_type": "stream",
     "text": [
      "We won't normalise the year so we drop it from numerical_columns.\n",
      "Shape of categorical variables :  (4,)\n",
      "Shape of numerical variables : (5,)\n"
     ]
    }
   ],
   "source": [
    "X.select_dtypes(['category','object']) # we don't have 'object' here but it is just in case.\n",
    "\n",
    "categorical_columns = X.select_dtypes(['category','object']).columns\n",
    "#numerical_columns = X.select_dtypes(include='number').columns.drop(\"YearBuilt\")\n",
    "numerical_columns = X.select_dtypes(include='number').columns\n",
    "print(\"We won't normalise the year so we drop it from numerical_columns.\")\n",
    "\n",
    "print(\"Shape of categorical variables : \", categorical_columns.shape)\n",
    "print(\"Shape of numerical variables :\", numerical_columns.shape)"
   ],
   "metadata": {
    "collapsed": false,
    "pycharm": {
     "name": "#%%\n"
    }
   }
  },
  {
   "cell_type": "markdown",
   "source": [
    "##### 1) Data Standardisation"
   ],
   "metadata": {
    "collapsed": false,
    "pycharm": {
     "name": "#%% md\n"
    }
   }
  },
  {
   "cell_type": "markdown",
   "source": [
    "We have to standardize the variables before learning a **Ridge Regression**.\n",
    "Standardizing means that each variable will have a **standard deviation** equal to 1."
   ],
   "metadata": {
    "collapsed": false,
    "pycharm": {
     "name": "#%% md\n"
    }
   }
  },
  {
   "cell_type": "code",
   "execution_count": 744,
   "outputs": [
    {
     "name": "stdout",
     "output_type": "stream",
     "text": [
      "Numerical variables standardization\n",
      "We have : 5 numerical features to standardize.\n",
      "\n",
      "Index(['NumberofFloors', 'PropertyGFATotal', 'PropertyGFABuilding(s)',\n",
      "       'SecondLargestPropertyUseTypeGFA', 'ThirdLargestPropertyUseTypeGFA'],\n",
      "      dtype='object')\n"
     ]
    }
   ],
   "source": [
    "print(\"Numerical variables standardization\")\n",
    "print(\"We have :\", numerical_columns.shape[0], \"numerical features to standardize.\",end=\"\\n\\n\")\n",
    "\n",
    "print(numerical_columns)"
   ],
   "metadata": {
    "collapsed": false,
    "pycharm": {
     "name": "#%%\n"
    }
   }
  },
  {
   "cell_type": "raw",
   "source": [
    "print(\"Dates standardisation : not\")\n",
    "\n",
    "from datetime import datetime\n",
    "\n",
    "def convert_to_timestamp(date):\n",
    "    \"\"\"\n",
    "    Convert date objects to integers\n",
    "    :param date:\n",
    "    :return:\n",
    "    \"\"\"\n",
    "    try:\n",
    "        timestamp = datetime.timestamp(date)\n",
    "        print(\"timestamp =\", timestamp, type(timestamp))\n",
    "        print(\"OK :\", date, type(date))\n",
    "\n",
    "        return timestamp\n",
    "    except Exception as e:\n",
    "        print(\"Error :\", date, type(date))\n",
    "        print(e)\n",
    "\n",
    "def normalize_min_max(data_frame, columns_to_scale):\n",
    "    \"\"\"\n",
    "    Normalizes the dataframe for the wanted column(s) using min/max\n",
    "    :param data_frame:\n",
    "    :param columns_to_scale: (list)\n",
    "    :return:\n",
    "    \"\"\"\n",
    "    min_max_scaler = MinMaxScaler()\n",
    "    df = data_frame.copy() # we will return a copy of our dataframe\n",
    "    df[columns_to_scale] = min_max_scaler.fit_transform(df[columns_to_scale])\n",
    "    return df\n"
   ],
   "metadata": {
    "collapsed": false,
    "pycharm": {
     "name": "#%% raw\n"
    }
   }
  },
  {
   "cell_type": "code",
   "execution_count": 745,
   "outputs": [
    {
     "name": "stdout",
     "output_type": "stream",
     "text": [
      "Before\n"
     ]
    },
    {
     "data": {
      "text/plain": "              BuildingType          PrimaryPropertyType  \\\n2091        NonResidential                        Hotel   \n2071        NonResidential                        Hotel   \n964     Nonresidential COS                        Other   \n2218        NonResidential  Small- and Mid-Sized Office   \n2737  Multifamily LR (1-4)         Low-Rise Multifamily   \n...                    ...                          ...   \n3092        NonResidential  Small- and Mid-Sized Office   \n1095  Multifamily MR (5-9)         Mid-Rise Multifamily   \n1130  Multifamily MR (5-9)         Mid-Rise Multifamily   \n1294  Multifamily MR (5-9)         Mid-Rise Multifamily   \n860   Multifamily MR (5-9)         Mid-Rise Multifamily   \n\n     LargestPropertyUseType           Neighborhood  NumberofFloors  \\\n2091                  Hotel               downtown              11   \n2071                  Hotel               downtown              20   \n964                   Other              northeast               3   \n2218                 Office             lake union               7   \n2737    Multifamily Housing  magnolia / queen anne               3   \n...                     ...                    ...             ...   \n3092                 Office  magnolia / queen anne               3   \n1095    Multifamily Housing              northeast               7   \n1130    Multifamily Housing                ballard               8   \n1294    Multifamily Housing                   east               5   \n860     Multifamily Housing  magnolia / queen anne               5   \n\n      PropertyGFATotal  PropertyGFABuilding(s)  \\\n2091             92190                   66990   \n2071             98634                   88591   \n964              27908                   27908   \n2218             94002                   94002   \n2737             32908                   32908   \n...                ...                     ...   \n3092             40067                   40067   \n1095             74421                   74421   \n1130            439262                  439262   \n1294             33274                   33274   \n860              34480                   34480   \n\n      SecondLargestPropertyUseTypeGFA  ThirdLargestPropertyUseTypeGFA  \n2091                         25200.00                            0.00  \n2071                         10043.00                         5000.00  \n964                              0.00                            0.00  \n2218                         31348.00                            0.00  \n2737                             0.00                            0.00  \n...                               ...                             ...  \n3092                             0.00                            0.00  \n1095                             0.00                            0.00  \n1130                        181729.00                        16415.00  \n1294                         12344.00                            0.00  \n860                              0.00                            0.00  \n\n[2191 rows x 9 columns]",
      "text/html": "<div>\n<style scoped>\n    .dataframe tbody tr th:only-of-type {\n        vertical-align: middle;\n    }\n\n    .dataframe tbody tr th {\n        vertical-align: top;\n    }\n\n    .dataframe thead th {\n        text-align: right;\n    }\n</style>\n<table border=\"1\" class=\"dataframe\">\n  <thead>\n    <tr style=\"text-align: right;\">\n      <th></th>\n      <th>BuildingType</th>\n      <th>PrimaryPropertyType</th>\n      <th>LargestPropertyUseType</th>\n      <th>Neighborhood</th>\n      <th>NumberofFloors</th>\n      <th>PropertyGFATotal</th>\n      <th>PropertyGFABuilding(s)</th>\n      <th>SecondLargestPropertyUseTypeGFA</th>\n      <th>ThirdLargestPropertyUseTypeGFA</th>\n    </tr>\n  </thead>\n  <tbody>\n    <tr>\n      <th>2091</th>\n      <td>NonResidential</td>\n      <td>Hotel</td>\n      <td>Hotel</td>\n      <td>downtown</td>\n      <td>11</td>\n      <td>92190</td>\n      <td>66990</td>\n      <td>25200.00</td>\n      <td>0.00</td>\n    </tr>\n    <tr>\n      <th>2071</th>\n      <td>NonResidential</td>\n      <td>Hotel</td>\n      <td>Hotel</td>\n      <td>downtown</td>\n      <td>20</td>\n      <td>98634</td>\n      <td>88591</td>\n      <td>10043.00</td>\n      <td>5000.00</td>\n    </tr>\n    <tr>\n      <th>964</th>\n      <td>Nonresidential COS</td>\n      <td>Other</td>\n      <td>Other</td>\n      <td>northeast</td>\n      <td>3</td>\n      <td>27908</td>\n      <td>27908</td>\n      <td>0.00</td>\n      <td>0.00</td>\n    </tr>\n    <tr>\n      <th>2218</th>\n      <td>NonResidential</td>\n      <td>Small- and Mid-Sized Office</td>\n      <td>Office</td>\n      <td>lake union</td>\n      <td>7</td>\n      <td>94002</td>\n      <td>94002</td>\n      <td>31348.00</td>\n      <td>0.00</td>\n    </tr>\n    <tr>\n      <th>2737</th>\n      <td>Multifamily LR (1-4)</td>\n      <td>Low-Rise Multifamily</td>\n      <td>Multifamily Housing</td>\n      <td>magnolia / queen anne</td>\n      <td>3</td>\n      <td>32908</td>\n      <td>32908</td>\n      <td>0.00</td>\n      <td>0.00</td>\n    </tr>\n    <tr>\n      <th>...</th>\n      <td>...</td>\n      <td>...</td>\n      <td>...</td>\n      <td>...</td>\n      <td>...</td>\n      <td>...</td>\n      <td>...</td>\n      <td>...</td>\n      <td>...</td>\n    </tr>\n    <tr>\n      <th>3092</th>\n      <td>NonResidential</td>\n      <td>Small- and Mid-Sized Office</td>\n      <td>Office</td>\n      <td>magnolia / queen anne</td>\n      <td>3</td>\n      <td>40067</td>\n      <td>40067</td>\n      <td>0.00</td>\n      <td>0.00</td>\n    </tr>\n    <tr>\n      <th>1095</th>\n      <td>Multifamily MR (5-9)</td>\n      <td>Mid-Rise Multifamily</td>\n      <td>Multifamily Housing</td>\n      <td>northeast</td>\n      <td>7</td>\n      <td>74421</td>\n      <td>74421</td>\n      <td>0.00</td>\n      <td>0.00</td>\n    </tr>\n    <tr>\n      <th>1130</th>\n      <td>Multifamily MR (5-9)</td>\n      <td>Mid-Rise Multifamily</td>\n      <td>Multifamily Housing</td>\n      <td>ballard</td>\n      <td>8</td>\n      <td>439262</td>\n      <td>439262</td>\n      <td>181729.00</td>\n      <td>16415.00</td>\n    </tr>\n    <tr>\n      <th>1294</th>\n      <td>Multifamily MR (5-9)</td>\n      <td>Mid-Rise Multifamily</td>\n      <td>Multifamily Housing</td>\n      <td>east</td>\n      <td>5</td>\n      <td>33274</td>\n      <td>33274</td>\n      <td>12344.00</td>\n      <td>0.00</td>\n    </tr>\n    <tr>\n      <th>860</th>\n      <td>Multifamily MR (5-9)</td>\n      <td>Mid-Rise Multifamily</td>\n      <td>Multifamily Housing</td>\n      <td>magnolia / queen anne</td>\n      <td>5</td>\n      <td>34480</td>\n      <td>34480</td>\n      <td>0.00</td>\n      <td>0.00</td>\n    </tr>\n  </tbody>\n</table>\n<p>2191 rows × 9 columns</p>\n</div>"
     },
     "metadata": {},
     "output_type": "display_data"
    },
    {
     "name": "stdout",
     "output_type": "stream",
     "text": [
      "After\n"
     ]
    },
    {
     "data": {
      "text/plain": "              BuildingType          PrimaryPropertyType  \\\n2091        NonResidential                        Hotel   \n2071        NonResidential                        Hotel   \n964     Nonresidential COS                        Other   \n2218        NonResidential  Small- and Mid-Sized Office   \n2737  Multifamily LR (1-4)         Low-Rise Multifamily   \n...                    ...                          ...   \n3092        NonResidential  Small- and Mid-Sized Office   \n1095  Multifamily MR (5-9)         Mid-Rise Multifamily   \n1130  Multifamily MR (5-9)         Mid-Rise Multifamily   \n1294  Multifamily MR (5-9)         Mid-Rise Multifamily   \n860   Multifamily MR (5-9)         Mid-Rise Multifamily   \n\n     LargestPropertyUseType           Neighborhood  NumberofFloors  \\\n2091                  Hotel               downtown            1.17   \n2071                  Hotel               downtown            2.83   \n964                   Other              northeast           -0.31   \n2218                 Office             lake union            0.43   \n2737    Multifamily Housing  magnolia / queen anne           -0.31   \n...                     ...                    ...             ...   \n3092                 Office  magnolia / queen anne           -0.31   \n1095    Multifamily Housing              northeast            0.43   \n1130    Multifamily Housing                ballard            0.61   \n1294    Multifamily Housing                   east            0.06   \n860     Multifamily Housing  magnolia / queen anne            0.06   \n\n      PropertyGFATotal  PropertyGFABuilding(s)  \\\n2091              0.03                   -0.11   \n2071              0.08                    0.08   \n964              -0.45                   -0.45   \n2218              0.04                    0.12   \n2737             -0.41                   -0.40   \n...                ...                     ...   \n3092             -0.36                   -0.34   \n1095             -0.10                   -0.05   \n1130              2.60                    3.09   \n1294             -0.41                   -0.40   \n860              -0.40                   -0.39   \n\n      SecondLargestPropertyUseTypeGFA  ThirdLargestPropertyUseTypeGFA  \n2091                             0.31                           -0.21  \n2071                            -0.11                            0.35  \n964                             -0.38                           -0.21  \n2218                             0.48                           -0.21  \n2737                            -0.38                           -0.21  \n...                               ...                             ...  \n3092                            -0.38                           -0.21  \n1095                            -0.38                           -0.21  \n1130                             4.62                            1.62  \n1294                            -0.04                           -0.21  \n860                             -0.38                           -0.21  \n\n[2191 rows x 9 columns]",
      "text/html": "<div>\n<style scoped>\n    .dataframe tbody tr th:only-of-type {\n        vertical-align: middle;\n    }\n\n    .dataframe tbody tr th {\n        vertical-align: top;\n    }\n\n    .dataframe thead th {\n        text-align: right;\n    }\n</style>\n<table border=\"1\" class=\"dataframe\">\n  <thead>\n    <tr style=\"text-align: right;\">\n      <th></th>\n      <th>BuildingType</th>\n      <th>PrimaryPropertyType</th>\n      <th>LargestPropertyUseType</th>\n      <th>Neighborhood</th>\n      <th>NumberofFloors</th>\n      <th>PropertyGFATotal</th>\n      <th>PropertyGFABuilding(s)</th>\n      <th>SecondLargestPropertyUseTypeGFA</th>\n      <th>ThirdLargestPropertyUseTypeGFA</th>\n    </tr>\n  </thead>\n  <tbody>\n    <tr>\n      <th>2091</th>\n      <td>NonResidential</td>\n      <td>Hotel</td>\n      <td>Hotel</td>\n      <td>downtown</td>\n      <td>1.17</td>\n      <td>0.03</td>\n      <td>-0.11</td>\n      <td>0.31</td>\n      <td>-0.21</td>\n    </tr>\n    <tr>\n      <th>2071</th>\n      <td>NonResidential</td>\n      <td>Hotel</td>\n      <td>Hotel</td>\n      <td>downtown</td>\n      <td>2.83</td>\n      <td>0.08</td>\n      <td>0.08</td>\n      <td>-0.11</td>\n      <td>0.35</td>\n    </tr>\n    <tr>\n      <th>964</th>\n      <td>Nonresidential COS</td>\n      <td>Other</td>\n      <td>Other</td>\n      <td>northeast</td>\n      <td>-0.31</td>\n      <td>-0.45</td>\n      <td>-0.45</td>\n      <td>-0.38</td>\n      <td>-0.21</td>\n    </tr>\n    <tr>\n      <th>2218</th>\n      <td>NonResidential</td>\n      <td>Small- and Mid-Sized Office</td>\n      <td>Office</td>\n      <td>lake union</td>\n      <td>0.43</td>\n      <td>0.04</td>\n      <td>0.12</td>\n      <td>0.48</td>\n      <td>-0.21</td>\n    </tr>\n    <tr>\n      <th>2737</th>\n      <td>Multifamily LR (1-4)</td>\n      <td>Low-Rise Multifamily</td>\n      <td>Multifamily Housing</td>\n      <td>magnolia / queen anne</td>\n      <td>-0.31</td>\n      <td>-0.41</td>\n      <td>-0.40</td>\n      <td>-0.38</td>\n      <td>-0.21</td>\n    </tr>\n    <tr>\n      <th>...</th>\n      <td>...</td>\n      <td>...</td>\n      <td>...</td>\n      <td>...</td>\n      <td>...</td>\n      <td>...</td>\n      <td>...</td>\n      <td>...</td>\n      <td>...</td>\n    </tr>\n    <tr>\n      <th>3092</th>\n      <td>NonResidential</td>\n      <td>Small- and Mid-Sized Office</td>\n      <td>Office</td>\n      <td>magnolia / queen anne</td>\n      <td>-0.31</td>\n      <td>-0.36</td>\n      <td>-0.34</td>\n      <td>-0.38</td>\n      <td>-0.21</td>\n    </tr>\n    <tr>\n      <th>1095</th>\n      <td>Multifamily MR (5-9)</td>\n      <td>Mid-Rise Multifamily</td>\n      <td>Multifamily Housing</td>\n      <td>northeast</td>\n      <td>0.43</td>\n      <td>-0.10</td>\n      <td>-0.05</td>\n      <td>-0.38</td>\n      <td>-0.21</td>\n    </tr>\n    <tr>\n      <th>1130</th>\n      <td>Multifamily MR (5-9)</td>\n      <td>Mid-Rise Multifamily</td>\n      <td>Multifamily Housing</td>\n      <td>ballard</td>\n      <td>0.61</td>\n      <td>2.60</td>\n      <td>3.09</td>\n      <td>4.62</td>\n      <td>1.62</td>\n    </tr>\n    <tr>\n      <th>1294</th>\n      <td>Multifamily MR (5-9)</td>\n      <td>Mid-Rise Multifamily</td>\n      <td>Multifamily Housing</td>\n      <td>east</td>\n      <td>0.06</td>\n      <td>-0.41</td>\n      <td>-0.40</td>\n      <td>-0.04</td>\n      <td>-0.21</td>\n    </tr>\n    <tr>\n      <th>860</th>\n      <td>Multifamily MR (5-9)</td>\n      <td>Mid-Rise Multifamily</td>\n      <td>Multifamily Housing</td>\n      <td>magnolia / queen anne</td>\n      <td>0.06</td>\n      <td>-0.40</td>\n      <td>-0.39</td>\n      <td>-0.38</td>\n      <td>-0.21</td>\n    </tr>\n  </tbody>\n</table>\n<p>2191 rows × 9 columns</p>\n</div>"
     },
     "metadata": {},
     "output_type": "display_data"
    }
   ],
   "source": [
    "# We train / fit the scaler on the training set / Computes the mean and std to be used for later scaling.\n",
    "std_scale = StandardScaler().fit(X_train[numerical_columns])\n",
    "# We transform the training set and the testing set / Performs standardization by centering and scaling.\n",
    "X_train_std = X_train.copy()\n",
    "X_test_std = X_test.copy()\n",
    "\n",
    "X_train_std[numerical_columns] = std_scale.transform(X_train[numerical_columns])\n",
    "X_test_std[numerical_columns] = std_scale.transform(X_test[numerical_columns])\n",
    "\n",
    "print(\"Before\")\n",
    "display(X_train)\n",
    "print(\"After\")\n",
    "display(X_train_std)"
   ],
   "metadata": {
    "collapsed": false,
    "pycharm": {
     "name": "#%%\n"
    }
   }
  },
  {
   "cell_type": "code",
   "execution_count": 746,
   "outputs": [
    {
     "name": "stdout",
     "output_type": "stream",
     "text": [
      "We can check that the numerical variables have a Standard Normal distribution.\n"
     ]
    },
    {
     "name": "stderr",
     "output_type": "stream",
     "text": [
      "C:\\Users\\athen\\Anaconda3\\envs\\P4_OC\\lib\\site-packages\\seaborn\\distributions.py:2619: FutureWarning: `distplot` is a deprecated function and will be removed in a future version. Please adapt your code to use either `displot` (a figure-level function with similar flexibility) or `kdeplot` (an axes-level function for kernel density plots).\n",
      "  warnings.warn(msg, FutureWarning)\n",
      "C:\\Users\\athen\\Anaconda3\\envs\\P4_OC\\lib\\site-packages\\seaborn\\distributions.py:2619: FutureWarning: `distplot` is a deprecated function and will be removed in a future version. Please adapt your code to use either `displot` (a figure-level function with similar flexibility) or `kdeplot` (an axes-level function for kernel density plots).\n",
      "  warnings.warn(msg, FutureWarning)\n",
      "C:\\Users\\athen\\Anaconda3\\envs\\P4_OC\\lib\\site-packages\\seaborn\\distributions.py:2619: FutureWarning: `distplot` is a deprecated function and will be removed in a future version. Please adapt your code to use either `displot` (a figure-level function with similar flexibility) or `kdeplot` (an axes-level function for kernel density plots).\n",
      "  warnings.warn(msg, FutureWarning)\n",
      "C:\\Users\\athen\\Anaconda3\\envs\\P4_OC\\lib\\site-packages\\seaborn\\distributions.py:2619: FutureWarning: `distplot` is a deprecated function and will be removed in a future version. Please adapt your code to use either `displot` (a figure-level function with similar flexibility) or `kdeplot` (an axes-level function for kernel density plots).\n",
      "  warnings.warn(msg, FutureWarning)\n",
      "C:\\Users\\athen\\Anaconda3\\envs\\P4_OC\\lib\\site-packages\\seaborn\\distributions.py:2619: FutureWarning: `distplot` is a deprecated function and will be removed in a future version. Please adapt your code to use either `displot` (a figure-level function with similar flexibility) or `kdeplot` (an axes-level function for kernel density plots).\n",
      "  warnings.warn(msg, FutureWarning)\n"
     ]
    },
    {
     "data": {
      "text/plain": "<Figure size 864x1008 with 28 Axes>",
      "image/png": "[encoded data removed]"
     },
     "metadata": {
      "needs_background": "light"
     },
     "output_type": "display_data"
    }
   ],
   "source": [
    "print(\"We can check that the numerical variables have a Standard Normal distribution.\")\n",
    "densite(X_train[numerical_columns])"
   ],
   "metadata": {
    "collapsed": false,
    "pycharm": {
     "name": "#%%\n"
    }
   }
  },
  {
   "cell_type": "markdown",
   "source": [
    "##### 2) Feature Encoding : One Hot Encoder"
   ],
   "metadata": {
    "collapsed": false,
    "pycharm": {
     "name": "#%% md\n"
    }
   }
  },
  {
   "cell_type": "code",
   "execution_count": 747,
   "outputs": [
    {
     "name": "stdout",
     "output_type": "stream",
     "text": [
      "Categorical variables featuring\n",
      "We have : 4 categorical features to encode.\n",
      "\n",
      "Index(['BuildingType', 'PrimaryPropertyType', 'LargestPropertyUseType',\n",
      "       'Neighborhood'],\n",
      "      dtype='object')\n"
     ]
    }
   ],
   "source": [
    "print(\"Categorical variables featuring\")\n",
    "\n",
    "print(\"We have :\", categorical_columns.shape[0], \"categorical features to encode.\", end=\"\\n\\n\")\n",
    "print(categorical_columns)"
   ],
   "metadata": {
    "collapsed": false,
    "pycharm": {
     "name": "#%%\n"
    }
   }
  },
  {
   "cell_type": "code",
   "execution_count": 748,
   "outputs": [
    {
     "data": {
      "text/plain": "BuildingType                       category\nPrimaryPropertyType                category\nLargestPropertyUseType             category\nNeighborhood                       category\nNumberofFloors                        int64\nPropertyGFATotal                      int64\nPropertyGFABuilding(s)                int64\nSecondLargestPropertyUseTypeGFA     float64\nThirdLargestPropertyUseTypeGFA      float64\ndtype: object"
     },
     "execution_count": 748,
     "metadata": {},
     "output_type": "execute_result"
    }
   ],
   "source": [
    "X.dtypes # we check that we have categories"
   ],
   "metadata": {
    "collapsed": false,
    "pycharm": {
     "name": "#%%\n"
    }
   }
  },
  {
   "cell_type": "code",
   "execution_count": 749,
   "outputs": [
    {
     "data": {
      "text/plain": "BuildingType               8\nPrimaryPropertyType       23\nLargestPropertyUseType    55\nNeighborhood              13\ndtype: int64"
     },
     "execution_count": 749,
     "metadata": {},
     "output_type": "execute_result"
    }
   ],
   "source": [
    "X[categorical_columns].nunique()"
   ],
   "metadata": {
    "collapsed": false,
    "pycharm": {
     "name": "#%%\n"
    }
   }
  },
  {
   "cell_type": "code",
   "execution_count": 750,
   "outputs": [
    {
     "data": {
      "text/plain": "              BuildingType          PrimaryPropertyType  \\\n2091        NonResidential                        Hotel   \n2071        NonResidential                        Hotel   \n964     Nonresidential COS                        Other   \n2218        NonResidential  Small- and Mid-Sized Office   \n2737  Multifamily LR (1-4)         Low-Rise Multifamily   \n...                    ...                          ...   \n3092        NonResidential  Small- and Mid-Sized Office   \n1095  Multifamily MR (5-9)         Mid-Rise Multifamily   \n1130  Multifamily MR (5-9)         Mid-Rise Multifamily   \n1294  Multifamily MR (5-9)         Mid-Rise Multifamily   \n860   Multifamily MR (5-9)         Mid-Rise Multifamily   \n\n     LargestPropertyUseType           Neighborhood  \n2091                  Hotel               downtown  \n2071                  Hotel               downtown  \n964                   Other              northeast  \n2218                 Office             lake union  \n2737    Multifamily Housing  magnolia / queen anne  \n...                     ...                    ...  \n3092                 Office  magnolia / queen anne  \n1095    Multifamily Housing              northeast  \n1130    Multifamily Housing                ballard  \n1294    Multifamily Housing                   east  \n860     Multifamily Housing  magnolia / queen anne  \n\n[2191 rows x 4 columns]",
      "text/html": "<div>\n<style scoped>\n    .dataframe tbody tr th:only-of-type {\n        vertical-align: middle;\n    }\n\n    .dataframe tbody tr th {\n        vertical-align: top;\n    }\n\n    .dataframe thead th {\n        text-align: right;\n    }\n</style>\n<table border=\"1\" class=\"dataframe\">\n  <thead>\n    <tr style=\"text-align: right;\">\n      <th></th>\n      <th>BuildingType</th>\n      <th>PrimaryPropertyType</th>\n      <th>LargestPropertyUseType</th>\n      <th>Neighborhood</th>\n    </tr>\n  </thead>\n  <tbody>\n    <tr>\n      <th>2091</th>\n      <td>NonResidential</td>\n      <td>Hotel</td>\n      <td>Hotel</td>\n      <td>downtown</td>\n    </tr>\n    <tr>\n      <th>2071</th>\n      <td>NonResidential</td>\n      <td>Hotel</td>\n      <td>Hotel</td>\n      <td>downtown</td>\n    </tr>\n    <tr>\n      <th>964</th>\n      <td>Nonresidential COS</td>\n      <td>Other</td>\n      <td>Other</td>\n      <td>northeast</td>\n    </tr>\n    <tr>\n      <th>2218</th>\n      <td>NonResidential</td>\n      <td>Small- and Mid-Sized Office</td>\n      <td>Office</td>\n      <td>lake union</td>\n    </tr>\n    <tr>\n      <th>2737</th>\n      <td>Multifamily LR (1-4)</td>\n      <td>Low-Rise Multifamily</td>\n      <td>Multifamily Housing</td>\n      <td>magnolia / queen anne</td>\n    </tr>\n    <tr>\n      <th>...</th>\n      <td>...</td>\n      <td>...</td>\n      <td>...</td>\n      <td>...</td>\n    </tr>\n    <tr>\n      <th>3092</th>\n      <td>NonResidential</td>\n      <td>Small- and Mid-Sized Office</td>\n      <td>Office</td>\n      <td>magnolia / queen anne</td>\n    </tr>\n    <tr>\n      <th>1095</th>\n      <td>Multifamily MR (5-9)</td>\n      <td>Mid-Rise Multifamily</td>\n      <td>Multifamily Housing</td>\n      <td>northeast</td>\n    </tr>\n    <tr>\n      <th>1130</th>\n      <td>Multifamily MR (5-9)</td>\n      <td>Mid-Rise Multifamily</td>\n      <td>Multifamily Housing</td>\n      <td>ballard</td>\n    </tr>\n    <tr>\n      <th>1294</th>\n      <td>Multifamily MR (5-9)</td>\n      <td>Mid-Rise Multifamily</td>\n      <td>Multifamily Housing</td>\n      <td>east</td>\n    </tr>\n    <tr>\n      <th>860</th>\n      <td>Multifamily MR (5-9)</td>\n      <td>Mid-Rise Multifamily</td>\n      <td>Multifamily Housing</td>\n      <td>magnolia / queen anne</td>\n    </tr>\n  </tbody>\n</table>\n<p>2191 rows × 4 columns</p>\n</div>"
     },
     "execution_count": 750,
     "metadata": {},
     "output_type": "execute_result"
    }
   ],
   "source": [
    "X_train_std[categorical_columns]"
   ],
   "metadata": {
    "collapsed": false,
    "pycharm": {
     "name": "#%%\n"
    }
   }
  },
  {
   "cell_type": "markdown",
   "source": [
    "##### Encoding the categorical features of the train set\n"
   ],
   "metadata": {
    "collapsed": false,
    "pycharm": {
     "name": "#%% md\n"
    }
   }
  },
  {
   "cell_type": "code",
   "execution_count": 751,
   "outputs": [
    {
     "name": "stdout",
     "output_type": "stream",
     "text": [
      "Now, we can use the One Hot Encoder.\n",
      "With the one hot encoder, we will get : 99 columns to encodes the categorical features.\n"
     ]
    }
   ],
   "source": [
    "print(\"Now, we can use the One Hot Encoder.\")\n",
    "print(\"With the one hot encoder, we will get :\", sum([X[categorical_columns].nunique()[i] for i in range(len(categorical_columns))]), \"columns to encodes the categorical features.\")"
   ],
   "metadata": {
    "collapsed": false,
    "pycharm": {
     "name": "#%%\n"
    }
   }
  },
  {
   "cell_type": "code",
   "execution_count": 752,
   "outputs": [
    {
     "name": "stdout",
     "output_type": "stream",
     "text": [
      "We have indeed : 94 labels after encoding the categorical variables.\n"
     ]
    },
    {
     "data": {
      "text/plain": "      BuildingType_Campus  BuildingType_Multifamily HR (10+)  \\\n1                    0.00                               0.00   \n2                    0.00                               0.00   \n3                    0.00                               1.00   \n4                    0.00                               0.00   \n5                    0.00                               0.00   \n...                   ...                                ...   \n3124                 0.00                               0.00   \n3125                 0.00                               0.00   \n3126                 0.00                               0.00   \n3128                 0.00                               0.00   \n3129                 0.00                               0.00   \n\n      BuildingType_Multifamily LR (1-4)  BuildingType_Multifamily MR (5-9)  \\\n1                                  0.00                               0.00   \n2                                  1.00                               0.00   \n3                                  0.00                               0.00   \n4                                  1.00                               0.00   \n5                                  0.00                               0.00   \n...                                 ...                                ...   \n3124                               0.00                               1.00   \n3125                               0.00                               0.00   \n3126                               0.00                               0.00   \n3128                               0.00                               0.00   \n3129                               0.00                               0.00   \n\n      BuildingType_NonResidential  BuildingType_Nonresidential COS  \\\n1                            1.00                             0.00   \n2                            0.00                             0.00   \n3                            0.00                             0.00   \n4                            0.00                             0.00   \n5                            1.00                             0.00   \n...                           ...                              ...   \n3124                         0.00                             0.00   \n3125                         1.00                             0.00   \n3126                         1.00                             0.00   \n3128                         1.00                             0.00   \n3129                         1.00                             0.00   \n\n      BuildingType_Nonresidential WA  BuildingType_SPS-District K-12  \\\n1                               0.00                            0.00   \n2                               0.00                            0.00   \n3                               0.00                            0.00   \n4                               0.00                            0.00   \n5                               0.00                            0.00   \n...                              ...                             ...   \n3124                            0.00                            0.00   \n3125                            0.00                            0.00   \n3126                            0.00                            0.00   \n3128                            0.00                            0.00   \n3129                            0.00                            0.00   \n\n      PrimaryPropertyType_Distribution Center  \\\n1                                        0.00   \n2                                        0.00   \n3                                        0.00   \n4                                        0.00   \n5                                        0.00   \n...                                       ...   \n3124                                     0.00   \n3125                                     0.00   \n3126                                     0.00   \n3128                                     0.00   \n3129                                     0.00   \n\n      PrimaryPropertyType_High-Rise Multifamily  ...  Neighborhood_downtown  \\\n1                                          0.00  ...                   0.00   \n2                                          0.00  ...                   0.00   \n3                                          1.00  ...                   0.00   \n4                                          0.00  ...                   0.00   \n5                                          0.00  ...                   0.00   \n...                                         ...  ...                    ...   \n3124                                       0.00  ...                   0.00   \n3125                                       0.00  ...                   0.00   \n3126                                       0.00  ...                   0.00   \n3128                                       0.00  ...                   0.00   \n3129                                       0.00  ...                   0.00   \n\n      Neighborhood_east  Neighborhood_greater duwamish  \\\n1                  0.00                           1.00   \n2                  0.00                           1.00   \n3                  0.00                           1.00   \n4                  0.00                           1.00   \n5                  0.00                           0.00   \n...                 ...                            ...   \n3124               1.00                           0.00   \n3125               0.00                           0.00   \n3126               0.00                           0.00   \n3128               0.00                           0.00   \n3129               0.00                           0.00   \n\n      Neighborhood_lake union  Neighborhood_magnolia / queen anne  \\\n1                        0.00                                0.00   \n2                        0.00                                0.00   \n3                        0.00                                0.00   \n4                        0.00                                0.00   \n5                        0.00                                0.00   \n...                       ...                                 ...   \n3124                     0.00                                0.00   \n3125                     1.00                                0.00   \n3126                     1.00                                0.00   \n3128                     1.00                                0.00   \n3129                     1.00                                0.00   \n\n      Neighborhood_north  Neighborhood_northeast  Neighborhood_northwest  \\\n1                   0.00                    0.00                    0.00   \n2                   0.00                    0.00                    0.00   \n3                   0.00                    0.00                    0.00   \n4                   0.00                    0.00                    0.00   \n5                   0.00                    1.00                    0.00   \n...                  ...                     ...                     ...   \n3124                0.00                    0.00                    0.00   \n3125                0.00                    0.00                    0.00   \n3126                0.00                    0.00                    0.00   \n3128                0.00                    0.00                    0.00   \n3129                0.00                    0.00                    0.00   \n\n      Neighborhood_southeast  Neighborhood_southwest  \n1                       0.00                    0.00  \n2                       0.00                    0.00  \n3                       0.00                    0.00  \n4                       0.00                    0.00  \n5                       0.00                    0.00  \n...                      ...                     ...  \n3124                    0.00                    0.00  \n3125                    0.00                    0.00  \n3126                    0.00                    0.00  \n3128                    0.00                    0.00  \n3129                    0.00                    0.00  \n\n[2191 rows x 94 columns]",
      "text/html": "<div>\n<style scoped>\n    .dataframe tbody tr th:only-of-type {\n        vertical-align: middle;\n    }\n\n    .dataframe tbody tr th {\n        vertical-align: top;\n    }\n\n    .dataframe thead th {\n        text-align: right;\n    }\n</style>\n<table border=\"1\" class=\"dataframe\">\n  <thead>\n    <tr style=\"text-align: right;\">\n      <th></th>\n      <th>BuildingType_Campus</th>\n      <th>BuildingType_Multifamily HR (10+)</th>\n      <th>BuildingType_Multifamily LR (1-4)</th>\n      <th>BuildingType_Multifamily MR (5-9)</th>\n      <th>BuildingType_NonResidential</th>\n      <th>BuildingType_Nonresidential COS</th>\n      <th>BuildingType_Nonresidential WA</th>\n      <th>BuildingType_SPS-District K-12</th>\n      <th>PrimaryPropertyType_Distribution Center</th>\n      <th>PrimaryPropertyType_High-Rise Multifamily</th>\n      <th>...</th>\n      <th>Neighborhood_downtown</th>\n      <th>Neighborhood_east</th>\n      <th>Neighborhood_greater duwamish</th>\n      <th>Neighborhood_lake union</th>\n      <th>Neighborhood_magnolia / queen anne</th>\n      <th>Neighborhood_north</th>\n      <th>Neighborhood_northeast</th>\n      <th>Neighborhood_northwest</th>\n      <th>Neighborhood_southeast</th>\n      <th>Neighborhood_southwest</th>\n    </tr>\n  </thead>\n  <tbody>\n    <tr>\n      <th>1</th>\n      <td>0.00</td>\n      <td>0.00</td>\n      <td>0.00</td>\n      <td>0.00</td>\n      <td>1.00</td>\n      <td>0.00</td>\n      <td>0.00</td>\n      <td>0.00</td>\n      <td>0.00</td>\n      <td>0.00</td>\n      <td>...</td>\n      <td>0.00</td>\n      <td>0.00</td>\n      <td>1.00</td>\n      <td>0.00</td>\n      <td>0.00</td>\n      <td>0.00</td>\n      <td>0.00</td>\n      <td>0.00</td>\n      <td>0.00</td>\n      <td>0.00</td>\n    </tr>\n    <tr>\n      <th>2</th>\n      <td>0.00</td>\n      <td>0.00</td>\n      <td>1.00</td>\n      <td>0.00</td>\n      <td>0.00</td>\n      <td>0.00</td>\n      <td>0.00</td>\n      <td>0.00</td>\n      <td>0.00</td>\n      <td>0.00</td>\n      <td>...</td>\n      <td>0.00</td>\n      <td>0.00</td>\n      <td>1.00</td>\n      <td>0.00</td>\n      <td>0.00</td>\n      <td>0.00</td>\n      <td>0.00</td>\n      <td>0.00</td>\n      <td>0.00</td>\n      <td>0.00</td>\n    </tr>\n    <tr>\n      <th>3</th>\n      <td>0.00</td>\n      <td>1.00</td>\n      <td>0.00</td>\n      <td>0.00</td>\n      <td>0.00</td>\n      <td>0.00</td>\n      <td>0.00</td>\n      <td>0.00</td>\n      <td>0.00</td>\n      <td>1.00</td>\n      <td>...</td>\n      <td>0.00</td>\n      <td>0.00</td>\n      <td>1.00</td>\n      <td>0.00</td>\n      <td>0.00</td>\n      <td>0.00</td>\n      <td>0.00</td>\n      <td>0.00</td>\n      <td>0.00</td>\n      <td>0.00</td>\n    </tr>\n    <tr>\n      <th>4</th>\n      <td>0.00</td>\n      <td>0.00</td>\n      <td>1.00</td>\n      <td>0.00</td>\n      <td>0.00</td>\n      <td>0.00</td>\n      <td>0.00</td>\n      <td>0.00</td>\n      <td>0.00</td>\n      <td>0.00</td>\n      <td>...</td>\n      <td>0.00</td>\n      <td>0.00</td>\n      <td>1.00</td>\n      <td>0.00</td>\n      <td>0.00</td>\n      <td>0.00</td>\n      <td>0.00</td>\n      <td>0.00</td>\n      <td>0.00</td>\n      <td>0.00</td>\n    </tr>\n    <tr>\n      <th>5</th>\n      <td>0.00</td>\n      <td>0.00</td>\n      <td>0.00</td>\n      <td>0.00</td>\n      <td>1.00</td>\n      <td>0.00</td>\n      <td>0.00</td>\n      <td>0.00</td>\n      <td>0.00</td>\n      <td>0.00</td>\n      <td>...</td>\n      <td>0.00</td>\n      <td>0.00</td>\n      <td>0.00</td>\n      <td>0.00</td>\n      <td>0.00</td>\n      <td>0.00</td>\n      <td>1.00</td>\n      <td>0.00</td>\n      <td>0.00</td>\n      <td>0.00</td>\n    </tr>\n    <tr>\n      <th>...</th>\n      <td>...</td>\n      <td>...</td>\n      <td>...</td>\n      <td>...</td>\n      <td>...</td>\n      <td>...</td>\n      <td>...</td>\n      <td>...</td>\n      <td>...</td>\n      <td>...</td>\n      <td>...</td>\n      <td>...</td>\n      <td>...</td>\n      <td>...</td>\n      <td>...</td>\n      <td>...</td>\n      <td>...</td>\n      <td>...</td>\n      <td>...</td>\n      <td>...</td>\n      <td>...</td>\n    </tr>\n    <tr>\n      <th>3124</th>\n      <td>0.00</td>\n      <td>0.00</td>\n      <td>0.00</td>\n      <td>1.00</td>\n      <td>0.00</td>\n      <td>0.00</td>\n      <td>0.00</td>\n      <td>0.00</td>\n      <td>0.00</td>\n      <td>0.00</td>\n      <td>...</td>\n      <td>0.00</td>\n      <td>1.00</td>\n      <td>0.00</td>\n      <td>0.00</td>\n      <td>0.00</td>\n      <td>0.00</td>\n      <td>0.00</td>\n      <td>0.00</td>\n      <td>0.00</td>\n      <td>0.00</td>\n    </tr>\n    <tr>\n      <th>3125</th>\n      <td>0.00</td>\n      <td>0.00</td>\n      <td>0.00</td>\n      <td>0.00</td>\n      <td>1.00</td>\n      <td>0.00</td>\n      <td>0.00</td>\n      <td>0.00</td>\n      <td>0.00</td>\n      <td>0.00</td>\n      <td>...</td>\n      <td>0.00</td>\n      <td>0.00</td>\n      <td>0.00</td>\n      <td>1.00</td>\n      <td>0.00</td>\n      <td>0.00</td>\n      <td>0.00</td>\n      <td>0.00</td>\n      <td>0.00</td>\n      <td>0.00</td>\n    </tr>\n    <tr>\n      <th>3126</th>\n      <td>0.00</td>\n      <td>0.00</td>\n      <td>0.00</td>\n      <td>0.00</td>\n      <td>1.00</td>\n      <td>0.00</td>\n      <td>0.00</td>\n      <td>0.00</td>\n      <td>0.00</td>\n      <td>0.00</td>\n      <td>...</td>\n      <td>0.00</td>\n      <td>0.00</td>\n      <td>0.00</td>\n      <td>1.00</td>\n      <td>0.00</td>\n      <td>0.00</td>\n      <td>0.00</td>\n      <td>0.00</td>\n      <td>0.00</td>\n      <td>0.00</td>\n    </tr>\n    <tr>\n      <th>3128</th>\n      <td>0.00</td>\n      <td>0.00</td>\n      <td>0.00</td>\n      <td>0.00</td>\n      <td>1.00</td>\n      <td>0.00</td>\n      <td>0.00</td>\n      <td>0.00</td>\n      <td>0.00</td>\n      <td>0.00</td>\n      <td>...</td>\n      <td>0.00</td>\n      <td>0.00</td>\n      <td>0.00</td>\n      <td>1.00</td>\n      <td>0.00</td>\n      <td>0.00</td>\n      <td>0.00</td>\n      <td>0.00</td>\n      <td>0.00</td>\n      <td>0.00</td>\n    </tr>\n    <tr>\n      <th>3129</th>\n      <td>0.00</td>\n      <td>0.00</td>\n      <td>0.00</td>\n      <td>0.00</td>\n      <td>1.00</td>\n      <td>0.00</td>\n      <td>0.00</td>\n      <td>0.00</td>\n      <td>0.00</td>\n      <td>0.00</td>\n      <td>...</td>\n      <td>0.00</td>\n      <td>0.00</td>\n      <td>0.00</td>\n      <td>1.00</td>\n      <td>0.00</td>\n      <td>0.00</td>\n      <td>0.00</td>\n      <td>0.00</td>\n      <td>0.00</td>\n      <td>0.00</td>\n    </tr>\n  </tbody>\n</table>\n<p>2191 rows × 94 columns</p>\n</div>"
     },
     "metadata": {},
     "output_type": "display_data"
    }
   ],
   "source": [
    "# 0) creating instance of one-hot-encoder\n",
    "one_hot_encoder = OneHotEncoder(handle_unknown='ignore', sparse=False) # if sparse=True (by default), we need to add .toarray() to encoded_categorical_data\n",
    "\n",
    "# 1) Fit the encoder on the training set\n",
    "one_hot_encoder.fit(X_train_std[categorical_columns])\n",
    "\n",
    "# 2) we get the encoded numpy array\n",
    "encoded_categorical_data = one_hot_encoder.transform(X_train_std[categorical_columns])\n",
    "\n",
    "# 3) we make a list of the columns names\n",
    "encoded_categorical_data_names = one_hot_encoder.get_feature_names_out().tolist()\n",
    "print(\"We have indeed :\", len(encoded_categorical_data_names), \"labels after encoding the categorical variables.\")\n",
    "\n",
    "# 4) we recreate a dataframe with the column names and the numpy array\n",
    "X_train_encoded = pd.DataFrame(columns=encoded_categorical_data_names,\n",
    "                               data=encoded_categorical_data,\n",
    "                               index=X_train_std.index)\n",
    "display(X_train_encoded.sort_index())"
   ],
   "metadata": {
    "collapsed": false,
    "pycharm": {
     "name": "#%%\n"
    }
   }
  },
  {
   "cell_type": "code",
   "execution_count": 753,
   "outputs": [
    {
     "name": "stdout",
     "output_type": "stream",
     "text": [
      "We need to add YearBuilt to the list of features.\n",
      "['NumberofFloors', 'PropertyGFATotal', 'PropertyGFABuilding(s)', 'SecondLargestPropertyUseTypeGFA', 'ThirdLargestPropertyUseTypeGFA']\n",
      "\n",
      "ASK JEREMY : merge based on index ok ? or should I put back OSEBuildingID ??\n"
     ]
    },
    {
     "data": {
      "text/plain": "      NumberofFloors  PropertyGFATotal  PropertyGFABuilding(s)  \\\n1              -0.50             -0.46                   -0.46   \n2              -0.31             -0.47                   -0.47   \n3               1.91             -0.11                   -0.05   \n4              -0.31             -0.38                   -0.43   \n5              -0.13             -0.37                   -0.35   \n...              ...               ...                     ...   \n3124            0.06             -0.26                   -0.23   \n3125           -0.50             -0.40                   -0.40   \n3126           -0.31             -0.34                   -0.41   \n3128            0.06             -0.40                   -0.45   \n3129           -0.50             -0.50                   -0.51   \n\n      SecondLargestPropertyUseTypeGFA  ThirdLargestPropertyUseTypeGFA  \\\n1                               -0.14                            0.13   \n2                               -0.38                           -0.21   \n3                               -0.38                           -0.21   \n4                               -0.27                           -0.21   \n5                               -0.38                           -0.21   \n...                               ...                             ...   \n3124                            -0.38                           -0.21   \n3125                            -0.01                           -0.05   \n3126                             0.01                            0.87   \n3128                            -0.14                           -0.04   \n3129                            -0.16                           -0.21   \n\n      BuildingType_Campus  BuildingType_Multifamily HR (10+)  \\\n1                    0.00                               0.00   \n2                    0.00                               0.00   \n3                    0.00                               1.00   \n4                    0.00                               0.00   \n5                    0.00                               0.00   \n...                   ...                                ...   \n3124                 0.00                               0.00   \n3125                 0.00                               0.00   \n3126                 0.00                               0.00   \n3128                 0.00                               0.00   \n3129                 0.00                               0.00   \n\n      BuildingType_Multifamily LR (1-4)  BuildingType_Multifamily MR (5-9)  \\\n1                                  0.00                               0.00   \n2                                  1.00                               0.00   \n3                                  0.00                               0.00   \n4                                  1.00                               0.00   \n5                                  0.00                               0.00   \n...                                 ...                                ...   \n3124                               0.00                               1.00   \n3125                               0.00                               0.00   \n3126                               0.00                               0.00   \n3128                               0.00                               0.00   \n3129                               0.00                               0.00   \n\n      BuildingType_NonResidential  ...  Neighborhood_downtown  \\\n1                            1.00  ...                   0.00   \n2                            0.00  ...                   0.00   \n3                            0.00  ...                   0.00   \n4                            0.00  ...                   0.00   \n5                            1.00  ...                   0.00   \n...                           ...  ...                    ...   \n3124                         0.00  ...                   0.00   \n3125                         1.00  ...                   0.00   \n3126                         1.00  ...                   0.00   \n3128                         1.00  ...                   0.00   \n3129                         1.00  ...                   0.00   \n\n      Neighborhood_east  Neighborhood_greater duwamish  \\\n1                  0.00                           1.00   \n2                  0.00                           1.00   \n3                  0.00                           1.00   \n4                  0.00                           1.00   \n5                  0.00                           0.00   \n...                 ...                            ...   \n3124               1.00                           0.00   \n3125               0.00                           0.00   \n3126               0.00                           0.00   \n3128               0.00                           0.00   \n3129               0.00                           0.00   \n\n      Neighborhood_lake union  Neighborhood_magnolia / queen anne  \\\n1                        0.00                                0.00   \n2                        0.00                                0.00   \n3                        0.00                                0.00   \n4                        0.00                                0.00   \n5                        0.00                                0.00   \n...                       ...                                 ...   \n3124                     0.00                                0.00   \n3125                     1.00                                0.00   \n3126                     1.00                                0.00   \n3128                     1.00                                0.00   \n3129                     1.00                                0.00   \n\n      Neighborhood_north  Neighborhood_northeast  Neighborhood_northwest  \\\n1                   0.00                    0.00                    0.00   \n2                   0.00                    0.00                    0.00   \n3                   0.00                    0.00                    0.00   \n4                   0.00                    0.00                    0.00   \n5                   0.00                    1.00                    0.00   \n...                  ...                     ...                     ...   \n3124                0.00                    0.00                    0.00   \n3125                0.00                    0.00                    0.00   \n3126                0.00                    0.00                    0.00   \n3128                0.00                    0.00                    0.00   \n3129                0.00                    0.00                    0.00   \n\n      Neighborhood_southeast  Neighborhood_southwest  \n1                       0.00                    0.00  \n2                       0.00                    0.00  \n3                       0.00                    0.00  \n4                       0.00                    0.00  \n5                       0.00                    0.00  \n...                      ...                     ...  \n3124                    0.00                    0.00  \n3125                    0.00                    0.00  \n3126                    0.00                    0.00  \n3128                    0.00                    0.00  \n3129                    0.00                    0.00  \n\n[2191 rows x 99 columns]",
      "text/html": "<div>\n<style scoped>\n    .dataframe tbody tr th:only-of-type {\n        vertical-align: middle;\n    }\n\n    .dataframe tbody tr th {\n        vertical-align: top;\n    }\n\n    .dataframe thead th {\n        text-align: right;\n    }\n</style>\n<table border=\"1\" class=\"dataframe\">\n  <thead>\n    <tr style=\"text-align: right;\">\n      <th></th>\n      <th>NumberofFloors</th>\n      <th>PropertyGFATotal</th>\n      <th>PropertyGFABuilding(s)</th>\n      <th>SecondLargestPropertyUseTypeGFA</th>\n      <th>ThirdLargestPropertyUseTypeGFA</th>\n      <th>BuildingType_Campus</th>\n      <th>BuildingType_Multifamily HR (10+)</th>\n      <th>BuildingType_Multifamily LR (1-4)</th>\n      <th>BuildingType_Multifamily MR (5-9)</th>\n      <th>BuildingType_NonResidential</th>\n      <th>...</th>\n      <th>Neighborhood_downtown</th>\n      <th>Neighborhood_east</th>\n      <th>Neighborhood_greater duwamish</th>\n      <th>Neighborhood_lake union</th>\n      <th>Neighborhood_magnolia / queen anne</th>\n      <th>Neighborhood_north</th>\n      <th>Neighborhood_northeast</th>\n      <th>Neighborhood_northwest</th>\n      <th>Neighborhood_southeast</th>\n      <th>Neighborhood_southwest</th>\n    </tr>\n  </thead>\n  <tbody>\n    <tr>\n      <th>1</th>\n      <td>-0.50</td>\n      <td>-0.46</td>\n      <td>-0.46</td>\n      <td>-0.14</td>\n      <td>0.13</td>\n      <td>0.00</td>\n      <td>0.00</td>\n      <td>0.00</td>\n      <td>0.00</td>\n      <td>1.00</td>\n      <td>...</td>\n      <td>0.00</td>\n      <td>0.00</td>\n      <td>1.00</td>\n      <td>0.00</td>\n      <td>0.00</td>\n      <td>0.00</td>\n      <td>0.00</td>\n      <td>0.00</td>\n      <td>0.00</td>\n      <td>0.00</td>\n    </tr>\n    <tr>\n      <th>2</th>\n      <td>-0.31</td>\n      <td>-0.47</td>\n      <td>-0.47</td>\n      <td>-0.38</td>\n      <td>-0.21</td>\n      <td>0.00</td>\n      <td>0.00</td>\n      <td>1.00</td>\n      <td>0.00</td>\n      <td>0.00</td>\n      <td>...</td>\n      <td>0.00</td>\n      <td>0.00</td>\n      <td>1.00</td>\n      <td>0.00</td>\n      <td>0.00</td>\n      <td>0.00</td>\n      <td>0.00</td>\n      <td>0.00</td>\n      <td>0.00</td>\n      <td>0.00</td>\n    </tr>\n    <tr>\n      <th>3</th>\n      <td>1.91</td>\n      <td>-0.11</td>\n      <td>-0.05</td>\n      <td>-0.38</td>\n      <td>-0.21</td>\n      <td>0.00</td>\n      <td>1.00</td>\n      <td>0.00</td>\n      <td>0.00</td>\n      <td>0.00</td>\n      <td>...</td>\n      <td>0.00</td>\n      <td>0.00</td>\n      <td>1.00</td>\n      <td>0.00</td>\n      <td>0.00</td>\n      <td>0.00</td>\n      <td>0.00</td>\n      <td>0.00</td>\n      <td>0.00</td>\n      <td>0.00</td>\n    </tr>\n    <tr>\n      <th>4</th>\n      <td>-0.31</td>\n      <td>-0.38</td>\n      <td>-0.43</td>\n      <td>-0.27</td>\n      <td>-0.21</td>\n      <td>0.00</td>\n      <td>0.00</td>\n      <td>1.00</td>\n      <td>0.00</td>\n      <td>0.00</td>\n      <td>...</td>\n      <td>0.00</td>\n      <td>0.00</td>\n      <td>1.00</td>\n      <td>0.00</td>\n      <td>0.00</td>\n      <td>0.00</td>\n      <td>0.00</td>\n      <td>0.00</td>\n      <td>0.00</td>\n      <td>0.00</td>\n    </tr>\n    <tr>\n      <th>5</th>\n      <td>-0.13</td>\n      <td>-0.37</td>\n      <td>-0.35</td>\n      <td>-0.38</td>\n      <td>-0.21</td>\n      <td>0.00</td>\n      <td>0.00</td>\n      <td>0.00</td>\n      <td>0.00</td>\n      <td>1.00</td>\n      <td>...</td>\n      <td>0.00</td>\n      <td>0.00</td>\n      <td>0.00</td>\n      <td>0.00</td>\n      <td>0.00</td>\n      <td>0.00</td>\n      <td>1.00</td>\n      <td>0.00</td>\n      <td>0.00</td>\n      <td>0.00</td>\n    </tr>\n    <tr>\n      <th>...</th>\n      <td>...</td>\n      <td>...</td>\n      <td>...</td>\n      <td>...</td>\n      <td>...</td>\n      <td>...</td>\n      <td>...</td>\n      <td>...</td>\n      <td>...</td>\n      <td>...</td>\n      <td>...</td>\n      <td>...</td>\n      <td>...</td>\n      <td>...</td>\n      <td>...</td>\n      <td>...</td>\n      <td>...</td>\n      <td>...</td>\n      <td>...</td>\n      <td>...</td>\n      <td>...</td>\n    </tr>\n    <tr>\n      <th>3124</th>\n      <td>0.06</td>\n      <td>-0.26</td>\n      <td>-0.23</td>\n      <td>-0.38</td>\n      <td>-0.21</td>\n      <td>0.00</td>\n      <td>0.00</td>\n      <td>0.00</td>\n      <td>1.00</td>\n      <td>0.00</td>\n      <td>...</td>\n      <td>0.00</td>\n      <td>1.00</td>\n      <td>0.00</td>\n      <td>0.00</td>\n      <td>0.00</td>\n      <td>0.00</td>\n      <td>0.00</td>\n      <td>0.00</td>\n      <td>0.00</td>\n      <td>0.00</td>\n    </tr>\n    <tr>\n      <th>3125</th>\n      <td>-0.50</td>\n      <td>-0.40</td>\n      <td>-0.40</td>\n      <td>-0.01</td>\n      <td>-0.05</td>\n      <td>0.00</td>\n      <td>0.00</td>\n      <td>0.00</td>\n      <td>0.00</td>\n      <td>1.00</td>\n      <td>...</td>\n      <td>0.00</td>\n      <td>0.00</td>\n      <td>0.00</td>\n      <td>1.00</td>\n      <td>0.00</td>\n      <td>0.00</td>\n      <td>0.00</td>\n      <td>0.00</td>\n      <td>0.00</td>\n      <td>0.00</td>\n    </tr>\n    <tr>\n      <th>3126</th>\n      <td>-0.31</td>\n      <td>-0.34</td>\n      <td>-0.41</td>\n      <td>0.01</td>\n      <td>0.87</td>\n      <td>0.00</td>\n      <td>0.00</td>\n      <td>0.00</td>\n      <td>0.00</td>\n      <td>1.00</td>\n      <td>...</td>\n      <td>0.00</td>\n      <td>0.00</td>\n      <td>0.00</td>\n      <td>1.00</td>\n      <td>0.00</td>\n      <td>0.00</td>\n      <td>0.00</td>\n      <td>0.00</td>\n      <td>0.00</td>\n      <td>0.00</td>\n    </tr>\n    <tr>\n      <th>3128</th>\n      <td>0.06</td>\n      <td>-0.40</td>\n      <td>-0.45</td>\n      <td>-0.14</td>\n      <td>-0.04</td>\n      <td>0.00</td>\n      <td>0.00</td>\n      <td>0.00</td>\n      <td>0.00</td>\n      <td>1.00</td>\n      <td>...</td>\n      <td>0.00</td>\n      <td>0.00</td>\n      <td>0.00</td>\n      <td>1.00</td>\n      <td>0.00</td>\n      <td>0.00</td>\n      <td>0.00</td>\n      <td>0.00</td>\n      <td>0.00</td>\n      <td>0.00</td>\n    </tr>\n    <tr>\n      <th>3129</th>\n      <td>-0.50</td>\n      <td>-0.50</td>\n      <td>-0.51</td>\n      <td>-0.16</td>\n      <td>-0.21</td>\n      <td>0.00</td>\n      <td>0.00</td>\n      <td>0.00</td>\n      <td>0.00</td>\n      <td>1.00</td>\n      <td>...</td>\n      <td>0.00</td>\n      <td>0.00</td>\n      <td>0.00</td>\n      <td>1.00</td>\n      <td>0.00</td>\n      <td>0.00</td>\n      <td>0.00</td>\n      <td>0.00</td>\n      <td>0.00</td>\n      <td>0.00</td>\n    </tr>\n  </tbody>\n</table>\n<p>2191 rows × 99 columns</p>\n</div>"
     },
     "metadata": {},
     "output_type": "display_data"
    }
   ],
   "source": [
    "# 5) Concatenate the two dataframes for the training set\n",
    "\n",
    "print(\"We need to add YearBuilt to the list of features.\")\n",
    "numerical_columns.tolist()\n",
    "features_to_merge = numerical_columns.tolist().copy()\n",
    "#features_to_merge.append(\"YearBuilt\")\n",
    "print(features_to_merge, end=\"\\n\\n\")\n",
    "\n",
    "print(\"ASK JEREMY : merge based on index ok ? or should I put back OSEBuildingID ??\")\n",
    "X_train_std_encoded = pd.merge(X_train_std[features_to_merge].sort_index(), X_train_encoded.sort_index(), left_index=True, right_index=True)\n",
    "display(X_train_std_encoded.sort_index())"
   ],
   "metadata": {
    "collapsed": false,
    "pycharm": {
     "name": "#%%\n"
    }
   }
  },
  {
   "cell_type": "markdown",
   "source": [
    "##### Encoding the categorical features of the test set"
   ],
   "metadata": {
    "collapsed": false,
    "pycharm": {
     "name": "#%% md\n"
    }
   }
  },
  {
   "cell_type": "code",
   "execution_count": 754,
   "outputs": [
    {
     "name": "stdout",
     "output_type": "stream",
     "text": [
      "ASK JEREMY for this method below ???\n"
     ]
    },
    {
     "data": {
      "text/plain": "      BuildingType_Campus  BuildingType_Multifamily HR (10+)  \\\n0                    0.00                               0.00   \n7                    0.00                               0.00   \n12                   0.00                               0.00   \n14                   0.00                               0.00   \n17                   0.00                               0.00   \n...                   ...                                ...   \n3116                 0.00                               0.00   \n3118                 0.00                               0.00   \n3121                 0.00                               0.00   \n3127                 0.00                               0.00   \n3130                 0.00                               0.00   \n\n      BuildingType_Multifamily LR (1-4)  BuildingType_Multifamily MR (5-9)  \\\n0                                  1.00                               0.00   \n7                                  1.00                               0.00   \n12                                 0.00                               0.00   \n14                                 1.00                               0.00   \n17                                 0.00                               0.00   \n...                                 ...                                ...   \n3116                               0.00                               1.00   \n3118                               0.00                               1.00   \n3121                               0.00                               0.00   \n3127                               1.00                               0.00   \n3130                               0.00                               0.00   \n\n      BuildingType_NonResidential  BuildingType_Nonresidential COS  \\\n0                            0.00                             0.00   \n7                            0.00                             0.00   \n12                           1.00                             0.00   \n14                           0.00                             0.00   \n17                           1.00                             0.00   \n...                           ...                              ...   \n3116                         0.00                             0.00   \n3118                         0.00                             0.00   \n3121                         1.00                             0.00   \n3127                         0.00                             0.00   \n3130                         0.00                             1.00   \n\n      BuildingType_Nonresidential WA  BuildingType_SPS-District K-12  \\\n0                               0.00                            0.00   \n7                               0.00                            0.00   \n12                              0.00                            0.00   \n14                              0.00                            0.00   \n17                              0.00                            0.00   \n...                              ...                             ...   \n3116                            0.00                            0.00   \n3118                            0.00                            0.00   \n3121                            0.00                            0.00   \n3127                            0.00                            0.00   \n3130                            0.00                            0.00   \n\n      PrimaryPropertyType_Distribution Center  \\\n0                                        0.00   \n7                                        0.00   \n12                                       0.00   \n14                                       0.00   \n17                                       0.00   \n...                                       ...   \n3116                                     0.00   \n3118                                     0.00   \n3121                                     0.00   \n3127                                     0.00   \n3130                                     0.00   \n\n      PrimaryPropertyType_High-Rise Multifamily  ...  Neighborhood_downtown  \\\n0                                          0.00  ...                   0.00   \n7                                          0.00  ...                   0.00   \n12                                         0.00  ...                   1.00   \n14                                         0.00  ...                   0.00   \n17                                         0.00  ...                   0.00   \n...                                         ...  ...                    ...   \n3116                                       0.00  ...                   1.00   \n3118                                       0.00  ...                   1.00   \n3121                                       0.00  ...                   0.00   \n3127                                       0.00  ...                   0.00   \n3130                                       0.00  ...                   0.00   \n\n      Neighborhood_east  Neighborhood_greater duwamish  \\\n0                  0.00                           0.00   \n7                  0.00                           0.00   \n12                 0.00                           0.00   \n14                 0.00                           0.00   \n17                 0.00                           0.00   \n...                 ...                            ...   \n3116               0.00                           0.00   \n3118               0.00                           0.00   \n3121               1.00                           0.00   \n3127               0.00                           0.00   \n3130               0.00                           1.00   \n\n      Neighborhood_lake union  Neighborhood_magnolia / queen anne  \\\n0                        0.00                                0.00   \n7                        0.00                                0.00   \n12                       0.00                                0.00   \n14                       0.00                                0.00   \n17                       0.00                                0.00   \n...                       ...                                 ...   \n3116                     0.00                                0.00   \n3118                     0.00                                0.00   \n3121                     0.00                                0.00   \n3127                     1.00                                0.00   \n3130                     0.00                                0.00   \n\n      Neighborhood_north  Neighborhood_northeast  Neighborhood_northwest  \\\n0                   0.00                    0.00                    0.00   \n7                   0.00                    1.00                    0.00   \n12                  0.00                    0.00                    0.00   \n14                  0.00                    0.00                    0.00   \n17                  0.00                    0.00                    0.00   \n...                  ...                     ...                     ...   \n3116                0.00                    0.00                    0.00   \n3118                0.00                    0.00                    0.00   \n3121                0.00                    0.00                    0.00   \n3127                0.00                    0.00                    0.00   \n3130                0.00                    0.00                    0.00   \n\n      Neighborhood_southeast  Neighborhood_southwest  \n0                       0.00                    0.00  \n7                       0.00                    0.00  \n12                      0.00                    0.00  \n14                      0.00                    0.00  \n17                      0.00                    0.00  \n...                      ...                     ...  \n3116                    0.00                    0.00  \n3118                    0.00                    0.00  \n3121                    0.00                    0.00  \n3127                    0.00                    0.00  \n3130                    0.00                    0.00  \n\n[940 rows x 94 columns]",
      "text/html": "<div>\n<style scoped>\n    .dataframe tbody tr th:only-of-type {\n        vertical-align: middle;\n    }\n\n    .dataframe tbody tr th {\n        vertical-align: top;\n    }\n\n    .dataframe thead th {\n        text-align: right;\n    }\n</style>\n<table border=\"1\" class=\"dataframe\">\n  <thead>\n    <tr style=\"text-align: right;\">\n      <th></th>\n      <th>BuildingType_Campus</th>\n      <th>BuildingType_Multifamily HR (10+)</th>\n      <th>BuildingType_Multifamily LR (1-4)</th>\n      <th>BuildingType_Multifamily MR (5-9)</th>\n      <th>BuildingType_NonResidential</th>\n      <th>BuildingType_Nonresidential COS</th>\n      <th>BuildingType_Nonresidential WA</th>\n      <th>BuildingType_SPS-District K-12</th>\n      <th>PrimaryPropertyType_Distribution Center</th>\n      <th>PrimaryPropertyType_High-Rise Multifamily</th>\n      <th>...</th>\n      <th>Neighborhood_downtown</th>\n      <th>Neighborhood_east</th>\n      <th>Neighborhood_greater duwamish</th>\n      <th>Neighborhood_lake union</th>\n      <th>Neighborhood_magnolia / queen anne</th>\n      <th>Neighborhood_north</th>\n      <th>Neighborhood_northeast</th>\n      <th>Neighborhood_northwest</th>\n      <th>Neighborhood_southeast</th>\n      <th>Neighborhood_southwest</th>\n    </tr>\n  </thead>\n  <tbody>\n    <tr>\n      <th>0</th>\n      <td>0.00</td>\n      <td>0.00</td>\n      <td>1.00</td>\n      <td>0.00</td>\n      <td>0.00</td>\n      <td>0.00</td>\n      <td>0.00</td>\n      <td>0.00</td>\n      <td>0.00</td>\n      <td>0.00</td>\n      <td>...</td>\n      <td>0.00</td>\n      <td>0.00</td>\n      <td>0.00</td>\n      <td>0.00</td>\n      <td>0.00</td>\n      <td>0.00</td>\n      <td>0.00</td>\n      <td>0.00</td>\n      <td>0.00</td>\n      <td>0.00</td>\n    </tr>\n    <tr>\n      <th>7</th>\n      <td>0.00</td>\n      <td>0.00</td>\n      <td>1.00</td>\n      <td>0.00</td>\n      <td>0.00</td>\n      <td>0.00</td>\n      <td>0.00</td>\n      <td>0.00</td>\n      <td>0.00</td>\n      <td>0.00</td>\n      <td>...</td>\n      <td>0.00</td>\n      <td>0.00</td>\n      <td>0.00</td>\n      <td>0.00</td>\n      <td>0.00</td>\n      <td>0.00</td>\n      <td>1.00</td>\n      <td>0.00</td>\n      <td>0.00</td>\n      <td>0.00</td>\n    </tr>\n    <tr>\n      <th>12</th>\n      <td>0.00</td>\n      <td>0.00</td>\n      <td>0.00</td>\n      <td>0.00</td>\n      <td>1.00</td>\n      <td>0.00</td>\n      <td>0.00</td>\n      <td>0.00</td>\n      <td>0.00</td>\n      <td>0.00</td>\n      <td>...</td>\n      <td>1.00</td>\n      <td>0.00</td>\n      <td>0.00</td>\n      <td>0.00</td>\n      <td>0.00</td>\n      <td>0.00</td>\n      <td>0.00</td>\n      <td>0.00</td>\n      <td>0.00</td>\n      <td>0.00</td>\n    </tr>\n    <tr>\n      <th>14</th>\n      <td>0.00</td>\n      <td>0.00</td>\n      <td>1.00</td>\n      <td>0.00</td>\n      <td>0.00</td>\n      <td>0.00</td>\n      <td>0.00</td>\n      <td>0.00</td>\n      <td>0.00</td>\n      <td>0.00</td>\n      <td>...</td>\n      <td>0.00</td>\n      <td>0.00</td>\n      <td>0.00</td>\n      <td>0.00</td>\n      <td>0.00</td>\n      <td>0.00</td>\n      <td>0.00</td>\n      <td>0.00</td>\n      <td>0.00</td>\n      <td>0.00</td>\n    </tr>\n    <tr>\n      <th>17</th>\n      <td>0.00</td>\n      <td>0.00</td>\n      <td>0.00</td>\n      <td>0.00</td>\n      <td>1.00</td>\n      <td>0.00</td>\n      <td>0.00</td>\n      <td>0.00</td>\n      <td>0.00</td>\n      <td>0.00</td>\n      <td>...</td>\n      <td>0.00</td>\n      <td>0.00</td>\n      <td>0.00</td>\n      <td>0.00</td>\n      <td>0.00</td>\n      <td>0.00</td>\n      <td>0.00</td>\n      <td>0.00</td>\n      <td>0.00</td>\n      <td>0.00</td>\n    </tr>\n    <tr>\n      <th>...</th>\n      <td>...</td>\n      <td>...</td>\n      <td>...</td>\n      <td>...</td>\n      <td>...</td>\n      <td>...</td>\n      <td>...</td>\n      <td>...</td>\n      <td>...</td>\n      <td>...</td>\n      <td>...</td>\n      <td>...</td>\n      <td>...</td>\n      <td>...</td>\n      <td>...</td>\n      <td>...</td>\n      <td>...</td>\n      <td>...</td>\n      <td>...</td>\n      <td>...</td>\n      <td>...</td>\n    </tr>\n    <tr>\n      <th>3116</th>\n      <td>0.00</td>\n      <td>0.00</td>\n      <td>0.00</td>\n      <td>1.00</td>\n      <td>0.00</td>\n      <td>0.00</td>\n      <td>0.00</td>\n      <td>0.00</td>\n      <td>0.00</td>\n      <td>0.00</td>\n      <td>...</td>\n      <td>1.00</td>\n      <td>0.00</td>\n      <td>0.00</td>\n      <td>0.00</td>\n      <td>0.00</td>\n      <td>0.00</td>\n      <td>0.00</td>\n      <td>0.00</td>\n      <td>0.00</td>\n      <td>0.00</td>\n    </tr>\n    <tr>\n      <th>3118</th>\n      <td>0.00</td>\n      <td>0.00</td>\n      <td>0.00</td>\n      <td>1.00</td>\n      <td>0.00</td>\n      <td>0.00</td>\n      <td>0.00</td>\n      <td>0.00</td>\n      <td>0.00</td>\n      <td>0.00</td>\n      <td>...</td>\n      <td>1.00</td>\n      <td>0.00</td>\n      <td>0.00</td>\n      <td>0.00</td>\n      <td>0.00</td>\n      <td>0.00</td>\n      <td>0.00</td>\n      <td>0.00</td>\n      <td>0.00</td>\n      <td>0.00</td>\n    </tr>\n    <tr>\n      <th>3121</th>\n      <td>0.00</td>\n      <td>0.00</td>\n      <td>0.00</td>\n      <td>0.00</td>\n      <td>1.00</td>\n      <td>0.00</td>\n      <td>0.00</td>\n      <td>0.00</td>\n      <td>0.00</td>\n      <td>0.00</td>\n      <td>...</td>\n      <td>0.00</td>\n      <td>1.00</td>\n      <td>0.00</td>\n      <td>0.00</td>\n      <td>0.00</td>\n      <td>0.00</td>\n      <td>0.00</td>\n      <td>0.00</td>\n      <td>0.00</td>\n      <td>0.00</td>\n    </tr>\n    <tr>\n      <th>3127</th>\n      <td>0.00</td>\n      <td>0.00</td>\n      <td>1.00</td>\n      <td>0.00</td>\n      <td>0.00</td>\n      <td>0.00</td>\n      <td>0.00</td>\n      <td>0.00</td>\n      <td>0.00</td>\n      <td>0.00</td>\n      <td>...</td>\n      <td>0.00</td>\n      <td>0.00</td>\n      <td>0.00</td>\n      <td>1.00</td>\n      <td>0.00</td>\n      <td>0.00</td>\n      <td>0.00</td>\n      <td>0.00</td>\n      <td>0.00</td>\n      <td>0.00</td>\n    </tr>\n    <tr>\n      <th>3130</th>\n      <td>0.00</td>\n      <td>0.00</td>\n      <td>0.00</td>\n      <td>0.00</td>\n      <td>0.00</td>\n      <td>1.00</td>\n      <td>0.00</td>\n      <td>0.00</td>\n      <td>0.00</td>\n      <td>0.00</td>\n      <td>...</td>\n      <td>0.00</td>\n      <td>0.00</td>\n      <td>1.00</td>\n      <td>0.00</td>\n      <td>0.00</td>\n      <td>0.00</td>\n      <td>0.00</td>\n      <td>0.00</td>\n      <td>0.00</td>\n      <td>0.00</td>\n    </tr>\n  </tbody>\n</table>\n<p>940 rows × 94 columns</p>\n</div>"
     },
     "metadata": {},
     "output_type": "display_data"
    },
    {
     "name": "stdout",
     "output_type": "stream",
     "text": [
      "ASK JEREMY : merge based on index ok ? or should I put back OSEBuildingID ??\n"
     ]
    },
    {
     "data": {
      "text/plain": "      NumberofFloors  PropertyGFATotal  PropertyGFABuilding(s)  \\\n0              -0.31             -0.50                   -0.51   \n7              -0.31              0.24                    0.35   \n12             -0.50             -0.30                   -0.46   \n14             -0.13              0.51                    0.67   \n17             -0.68             -0.43                   -0.42   \n...              ...               ...                     ...   \n3116            0.24              0.06                    0.15   \n3118            0.06             -0.41                   -0.41   \n3121           -0.13             -0.36                   -0.34   \n3127           -0.13             -0.38                   -0.37   \n3130           -0.68             -0.52                   -0.53   \n\n      SecondLargestPropertyUseTypeGFA  ThirdLargestPropertyUseTypeGFA  \\\n0                               -0.38                           -0.21   \n7                                0.04                           -0.21   \n12                              -0.22                           -0.21   \n14                               0.20                            0.25   \n17                              -0.32                           -0.21   \n...                               ...                             ...   \n3116                            -0.38                           -0.21   \n3118                            -0.38                           -0.21   \n3121                            -0.38                           -0.21   \n3127                            -0.38                           -0.21   \n3130                            -0.16                           -0.08   \n\n      BuildingType_Campus  BuildingType_Multifamily HR (10+)  \\\n0                    0.00                               0.00   \n7                    0.00                               0.00   \n12                   0.00                               0.00   \n14                   0.00                               0.00   \n17                   0.00                               0.00   \n...                   ...                                ...   \n3116                 0.00                               0.00   \n3118                 0.00                               0.00   \n3121                 0.00                               0.00   \n3127                 0.00                               0.00   \n3130                 0.00                               0.00   \n\n      BuildingType_Multifamily LR (1-4)  BuildingType_Multifamily MR (5-9)  \\\n0                                  1.00                               0.00   \n7                                  1.00                               0.00   \n12                                 0.00                               0.00   \n14                                 1.00                               0.00   \n17                                 0.00                               0.00   \n...                                 ...                                ...   \n3116                               0.00                               1.00   \n3118                               0.00                               1.00   \n3121                               0.00                               0.00   \n3127                               1.00                               0.00   \n3130                               0.00                               0.00   \n\n      BuildingType_NonResidential  ...  Neighborhood_downtown  \\\n0                            0.00  ...                   0.00   \n7                            0.00  ...                   0.00   \n12                           1.00  ...                   1.00   \n14                           0.00  ...                   0.00   \n17                           1.00  ...                   0.00   \n...                           ...  ...                    ...   \n3116                         0.00  ...                   1.00   \n3118                         0.00  ...                   1.00   \n3121                         1.00  ...                   0.00   \n3127                         0.00  ...                   0.00   \n3130                         0.00  ...                   0.00   \n\n      Neighborhood_east  Neighborhood_greater duwamish  \\\n0                  0.00                           0.00   \n7                  0.00                           0.00   \n12                 0.00                           0.00   \n14                 0.00                           0.00   \n17                 0.00                           0.00   \n...                 ...                            ...   \n3116               0.00                           0.00   \n3118               0.00                           0.00   \n3121               1.00                           0.00   \n3127               0.00                           0.00   \n3130               0.00                           1.00   \n\n      Neighborhood_lake union  Neighborhood_magnolia / queen anne  \\\n0                        0.00                                0.00   \n7                        0.00                                0.00   \n12                       0.00                                0.00   \n14                       0.00                                0.00   \n17                       0.00                                0.00   \n...                       ...                                 ...   \n3116                     0.00                                0.00   \n3118                     0.00                                0.00   \n3121                     0.00                                0.00   \n3127                     1.00                                0.00   \n3130                     0.00                                0.00   \n\n      Neighborhood_north  Neighborhood_northeast  Neighborhood_northwest  \\\n0                   0.00                    0.00                    0.00   \n7                   0.00                    1.00                    0.00   \n12                  0.00                    0.00                    0.00   \n14                  0.00                    0.00                    0.00   \n17                  0.00                    0.00                    0.00   \n...                  ...                     ...                     ...   \n3116                0.00                    0.00                    0.00   \n3118                0.00                    0.00                    0.00   \n3121                0.00                    0.00                    0.00   \n3127                0.00                    0.00                    0.00   \n3130                0.00                    0.00                    0.00   \n\n      Neighborhood_southeast  Neighborhood_southwest  \n0                       0.00                    0.00  \n7                       0.00                    0.00  \n12                      0.00                    0.00  \n14                      0.00                    0.00  \n17                      0.00                    0.00  \n...                      ...                     ...  \n3116                    0.00                    0.00  \n3118                    0.00                    0.00  \n3121                    0.00                    0.00  \n3127                    0.00                    0.00  \n3130                    0.00                    0.00  \n\n[940 rows x 99 columns]",
      "text/html": "<div>\n<style scoped>\n    .dataframe tbody tr th:only-of-type {\n        vertical-align: middle;\n    }\n\n    .dataframe tbody tr th {\n        vertical-align: top;\n    }\n\n    .dataframe thead th {\n        text-align: right;\n    }\n</style>\n<table border=\"1\" class=\"dataframe\">\n  <thead>\n    <tr style=\"text-align: right;\">\n      <th></th>\n      <th>NumberofFloors</th>\n      <th>PropertyGFATotal</th>\n      <th>PropertyGFABuilding(s)</th>\n      <th>SecondLargestPropertyUseTypeGFA</th>\n      <th>ThirdLargestPropertyUseTypeGFA</th>\n      <th>BuildingType_Campus</th>\n      <th>BuildingType_Multifamily HR (10+)</th>\n      <th>BuildingType_Multifamily LR (1-4)</th>\n      <th>BuildingType_Multifamily MR (5-9)</th>\n      <th>BuildingType_NonResidential</th>\n      <th>...</th>\n      <th>Neighborhood_downtown</th>\n      <th>Neighborhood_east</th>\n      <th>Neighborhood_greater duwamish</th>\n      <th>Neighborhood_lake union</th>\n      <th>Neighborhood_magnolia / queen anne</th>\n      <th>Neighborhood_north</th>\n      <th>Neighborhood_northeast</th>\n      <th>Neighborhood_northwest</th>\n      <th>Neighborhood_southeast</th>\n      <th>Neighborhood_southwest</th>\n    </tr>\n  </thead>\n  <tbody>\n    <tr>\n      <th>0</th>\n      <td>-0.31</td>\n      <td>-0.50</td>\n      <td>-0.51</td>\n      <td>-0.38</td>\n      <td>-0.21</td>\n      <td>0.00</td>\n      <td>0.00</td>\n      <td>1.00</td>\n      <td>0.00</td>\n      <td>0.00</td>\n      <td>...</td>\n      <td>0.00</td>\n      <td>0.00</td>\n      <td>0.00</td>\n      <td>0.00</td>\n      <td>0.00</td>\n      <td>0.00</td>\n      <td>0.00</td>\n      <td>0.00</td>\n      <td>0.00</td>\n      <td>0.00</td>\n    </tr>\n    <tr>\n      <th>7</th>\n      <td>-0.31</td>\n      <td>0.24</td>\n      <td>0.35</td>\n      <td>0.04</td>\n      <td>-0.21</td>\n      <td>0.00</td>\n      <td>0.00</td>\n      <td>1.00</td>\n      <td>0.00</td>\n      <td>0.00</td>\n      <td>...</td>\n      <td>0.00</td>\n      <td>0.00</td>\n      <td>0.00</td>\n      <td>0.00</td>\n      <td>0.00</td>\n      <td>0.00</td>\n      <td>1.00</td>\n      <td>0.00</td>\n      <td>0.00</td>\n      <td>0.00</td>\n    </tr>\n    <tr>\n      <th>12</th>\n      <td>-0.50</td>\n      <td>-0.30</td>\n      <td>-0.46</td>\n      <td>-0.22</td>\n      <td>-0.21</td>\n      <td>0.00</td>\n      <td>0.00</td>\n      <td>0.00</td>\n      <td>0.00</td>\n      <td>1.00</td>\n      <td>...</td>\n      <td>1.00</td>\n      <td>0.00</td>\n      <td>0.00</td>\n      <td>0.00</td>\n      <td>0.00</td>\n      <td>0.00</td>\n      <td>0.00</td>\n      <td>0.00</td>\n      <td>0.00</td>\n      <td>0.00</td>\n    </tr>\n    <tr>\n      <th>14</th>\n      <td>-0.13</td>\n      <td>0.51</td>\n      <td>0.67</td>\n      <td>0.20</td>\n      <td>0.25</td>\n      <td>0.00</td>\n      <td>0.00</td>\n      <td>1.00</td>\n      <td>0.00</td>\n      <td>0.00</td>\n      <td>...</td>\n      <td>0.00</td>\n      <td>0.00</td>\n      <td>0.00</td>\n      <td>0.00</td>\n      <td>0.00</td>\n      <td>0.00</td>\n      <td>0.00</td>\n      <td>0.00</td>\n      <td>0.00</td>\n      <td>0.00</td>\n    </tr>\n    <tr>\n      <th>17</th>\n      <td>-0.68</td>\n      <td>-0.43</td>\n      <td>-0.42</td>\n      <td>-0.32</td>\n      <td>-0.21</td>\n      <td>0.00</td>\n      <td>0.00</td>\n      <td>0.00</td>\n      <td>0.00</td>\n      <td>1.00</td>\n      <td>...</td>\n      <td>0.00</td>\n      <td>0.00</td>\n      <td>0.00</td>\n      <td>0.00</td>\n      <td>0.00</td>\n      <td>0.00</td>\n      <td>0.00</td>\n      <td>0.00</td>\n      <td>0.00</td>\n      <td>0.00</td>\n    </tr>\n    <tr>\n      <th>...</th>\n      <td>...</td>\n      <td>...</td>\n      <td>...</td>\n      <td>...</td>\n      <td>...</td>\n      <td>...</td>\n      <td>...</td>\n      <td>...</td>\n      <td>...</td>\n      <td>...</td>\n      <td>...</td>\n      <td>...</td>\n      <td>...</td>\n      <td>...</td>\n      <td>...</td>\n      <td>...</td>\n      <td>...</td>\n      <td>...</td>\n      <td>...</td>\n      <td>...</td>\n      <td>...</td>\n    </tr>\n    <tr>\n      <th>3116</th>\n      <td>0.24</td>\n      <td>0.06</td>\n      <td>0.15</td>\n      <td>-0.38</td>\n      <td>-0.21</td>\n      <td>0.00</td>\n      <td>0.00</td>\n      <td>0.00</td>\n      <td>1.00</td>\n      <td>0.00</td>\n      <td>...</td>\n      <td>1.00</td>\n      <td>0.00</td>\n      <td>0.00</td>\n      <td>0.00</td>\n      <td>0.00</td>\n      <td>0.00</td>\n      <td>0.00</td>\n      <td>0.00</td>\n      <td>0.00</td>\n      <td>0.00</td>\n    </tr>\n    <tr>\n      <th>3118</th>\n      <td>0.06</td>\n      <td>-0.41</td>\n      <td>-0.41</td>\n      <td>-0.38</td>\n      <td>-0.21</td>\n      <td>0.00</td>\n      <td>0.00</td>\n      <td>0.00</td>\n      <td>1.00</td>\n      <td>0.00</td>\n      <td>...</td>\n      <td>1.00</td>\n      <td>0.00</td>\n      <td>0.00</td>\n      <td>0.00</td>\n      <td>0.00</td>\n      <td>0.00</td>\n      <td>0.00</td>\n      <td>0.00</td>\n      <td>0.00</td>\n      <td>0.00</td>\n    </tr>\n    <tr>\n      <th>3121</th>\n      <td>-0.13</td>\n      <td>-0.36</td>\n      <td>-0.34</td>\n      <td>-0.38</td>\n      <td>-0.21</td>\n      <td>0.00</td>\n      <td>0.00</td>\n      <td>0.00</td>\n      <td>0.00</td>\n      <td>1.00</td>\n      <td>...</td>\n      <td>0.00</td>\n      <td>1.00</td>\n      <td>0.00</td>\n      <td>0.00</td>\n      <td>0.00</td>\n      <td>0.00</td>\n      <td>0.00</td>\n      <td>0.00</td>\n      <td>0.00</td>\n      <td>0.00</td>\n    </tr>\n    <tr>\n      <th>3127</th>\n      <td>-0.13</td>\n      <td>-0.38</td>\n      <td>-0.37</td>\n      <td>-0.38</td>\n      <td>-0.21</td>\n      <td>0.00</td>\n      <td>0.00</td>\n      <td>1.00</td>\n      <td>0.00</td>\n      <td>0.00</td>\n      <td>...</td>\n      <td>0.00</td>\n      <td>0.00</td>\n      <td>0.00</td>\n      <td>1.00</td>\n      <td>0.00</td>\n      <td>0.00</td>\n      <td>0.00</td>\n      <td>0.00</td>\n      <td>0.00</td>\n      <td>0.00</td>\n    </tr>\n    <tr>\n      <th>3130</th>\n      <td>-0.68</td>\n      <td>-0.52</td>\n      <td>-0.53</td>\n      <td>-0.16</td>\n      <td>-0.08</td>\n      <td>0.00</td>\n      <td>0.00</td>\n      <td>0.00</td>\n      <td>0.00</td>\n      <td>0.00</td>\n      <td>...</td>\n      <td>0.00</td>\n      <td>0.00</td>\n      <td>1.00</td>\n      <td>0.00</td>\n      <td>0.00</td>\n      <td>0.00</td>\n      <td>0.00</td>\n      <td>0.00</td>\n      <td>0.00</td>\n      <td>0.00</td>\n    </tr>\n  </tbody>\n</table>\n<p>940 rows × 99 columns</p>\n</div>"
     },
     "metadata": {},
     "output_type": "display_data"
    }
   ],
   "source": [
    "# 5) One Hot Encoding on the testing set\n",
    "\n",
    "# 5.1) we get the encoded numpy array\n",
    "TEST_encoded_categorical_data = one_hot_encoder.transform(X_test_std[categorical_columns])\n",
    "\n",
    "print(\"ASK JEREMY for this method below ???\")\n",
    "# 5.2) we recreate a dataframe with the column names and the numpy array\n",
    "X_test_encoded = pd.DataFrame(columns=encoded_categorical_data_names,\n",
    "                               data=TEST_encoded_categorical_data,\n",
    "                               index=X_test_std.index)\n",
    "display(X_test_encoded.sort_index())\n",
    "\n",
    "print(\"ASK JEREMY : merge based on index ok ? or should I put back OSEBuildingID ??\")\n",
    "X_test_std_encoded = pd.merge(X_test_std[features_to_merge].sort_index(), X_test_encoded.sort_index(), left_index=True, right_index=True)\n",
    "display(X_test_std_encoded.sort_index())"
   ],
   "metadata": {
    "collapsed": false,
    "pycharm": {
     "name": "#%%\n"
    }
   }
  },
  {
   "cell_type": "code",
   "execution_count": 755,
   "outputs": [],
   "source": [
    "# Save\n",
    "#X_train_std_encoded.to_csv(\"dataset/cleaned/electricity/X_train.csv\", index=False)\n",
    "#X_test_std_encoded.to_csv(\"dataset/cleaned/electricity/X_test.csv\", index=False)\n",
    "#y_train.to_csv(\"dataset/cleaned/electricity/y_train.csv\", index=False)\n",
    "#y_test.to_csv(\"dataset/cleaned/electricity/y_test.csv\", index=False)"
   ],
   "metadata": {
    "collapsed": false,
    "pycharm": {
     "name": "#%%\n"
    }
   }
  },
  {
   "cell_type": "markdown",
   "source": [
    "## II) Modelisation"
   ],
   "metadata": {
    "collapsed": false,
    "pycharm": {
     "name": "#%% md\n"
    }
   }
  },
  {
   "cell_type": "code",
   "execution_count": 756,
   "outputs": [],
   "source": [
    "from sklearn.model_selection import GridSearchCV\n",
    "from sklearn.metrics import mean_squared_error"
   ],
   "metadata": {
    "collapsed": false,
    "pycharm": {
     "name": "#%%\n"
    }
   }
  },
  {
   "cell_type": "code",
   "execution_count": 757,
   "outputs": [
    {
     "name": "stdout",
     "output_type": "stream",
     "text": [
      "We can start now the modelling to predict the feature wanted.\n"
     ]
    },
    {
     "data": {
      "text/plain": "      NumberofFloors  PropertyGFATotal  PropertyGFABuilding(s)  \\\n1              -0.50             -0.46                   -0.46   \n2              -0.31             -0.47                   -0.47   \n3               1.91             -0.11                   -0.05   \n4              -0.31             -0.38                   -0.43   \n5              -0.13             -0.37                   -0.35   \n...              ...               ...                     ...   \n3124            0.06             -0.26                   -0.23   \n3125           -0.50             -0.40                   -0.40   \n3126           -0.31             -0.34                   -0.41   \n3128            0.06             -0.40                   -0.45   \n3129           -0.50             -0.50                   -0.51   \n\n      SecondLargestPropertyUseTypeGFA  ThirdLargestPropertyUseTypeGFA  \\\n1                               -0.14                            0.13   \n2                               -0.38                           -0.21   \n3                               -0.38                           -0.21   \n4                               -0.27                           -0.21   \n5                               -0.38                           -0.21   \n...                               ...                             ...   \n3124                            -0.38                           -0.21   \n3125                            -0.01                           -0.05   \n3126                             0.01                            0.87   \n3128                            -0.14                           -0.04   \n3129                            -0.16                           -0.21   \n\n      BuildingType_Campus  BuildingType_Multifamily HR (10+)  \\\n1                    0.00                               0.00   \n2                    0.00                               0.00   \n3                    0.00                               1.00   \n4                    0.00                               0.00   \n5                    0.00                               0.00   \n...                   ...                                ...   \n3124                 0.00                               0.00   \n3125                 0.00                               0.00   \n3126                 0.00                               0.00   \n3128                 0.00                               0.00   \n3129                 0.00                               0.00   \n\n      BuildingType_Multifamily LR (1-4)  BuildingType_Multifamily MR (5-9)  \\\n1                                  0.00                               0.00   \n2                                  1.00                               0.00   \n3                                  0.00                               0.00   \n4                                  1.00                               0.00   \n5                                  0.00                               0.00   \n...                                 ...                                ...   \n3124                               0.00                               1.00   \n3125                               0.00                               0.00   \n3126                               0.00                               0.00   \n3128                               0.00                               0.00   \n3129                               0.00                               0.00   \n\n      BuildingType_NonResidential  ...  Neighborhood_downtown  \\\n1                            1.00  ...                   0.00   \n2                            0.00  ...                   0.00   \n3                            0.00  ...                   0.00   \n4                            0.00  ...                   0.00   \n5                            1.00  ...                   0.00   \n...                           ...  ...                    ...   \n3124                         0.00  ...                   0.00   \n3125                         1.00  ...                   0.00   \n3126                         1.00  ...                   0.00   \n3128                         1.00  ...                   0.00   \n3129                         1.00  ...                   0.00   \n\n      Neighborhood_east  Neighborhood_greater duwamish  \\\n1                  0.00                           1.00   \n2                  0.00                           1.00   \n3                  0.00                           1.00   \n4                  0.00                           1.00   \n5                  0.00                           0.00   \n...                 ...                            ...   \n3124               1.00                           0.00   \n3125               0.00                           0.00   \n3126               0.00                           0.00   \n3128               0.00                           0.00   \n3129               0.00                           0.00   \n\n      Neighborhood_lake union  Neighborhood_magnolia / queen anne  \\\n1                        0.00                                0.00   \n2                        0.00                                0.00   \n3                        0.00                                0.00   \n4                        0.00                                0.00   \n5                        0.00                                0.00   \n...                       ...                                 ...   \n3124                     0.00                                0.00   \n3125                     1.00                                0.00   \n3126                     1.00                                0.00   \n3128                     1.00                                0.00   \n3129                     1.00                                0.00   \n\n      Neighborhood_north  Neighborhood_northeast  Neighborhood_northwest  \\\n1                   0.00                    0.00                    0.00   \n2                   0.00                    0.00                    0.00   \n3                   0.00                    0.00                    0.00   \n4                   0.00                    0.00                    0.00   \n5                   0.00                    1.00                    0.00   \n...                  ...                     ...                     ...   \n3124                0.00                    0.00                    0.00   \n3125                0.00                    0.00                    0.00   \n3126                0.00                    0.00                    0.00   \n3128                0.00                    0.00                    0.00   \n3129                0.00                    0.00                    0.00   \n\n      Neighborhood_southeast  Neighborhood_southwest  \n1                       0.00                    0.00  \n2                       0.00                    0.00  \n3                       0.00                    0.00  \n4                       0.00                    0.00  \n5                       0.00                    0.00  \n...                      ...                     ...  \n3124                    0.00                    0.00  \n3125                    0.00                    0.00  \n3126                    0.00                    0.00  \n3128                    0.00                    0.00  \n3129                    0.00                    0.00  \n\n[2191 rows x 99 columns]",
      "text/html": "<div>\n<style scoped>\n    .dataframe tbody tr th:only-of-type {\n        vertical-align: middle;\n    }\n\n    .dataframe tbody tr th {\n        vertical-align: top;\n    }\n\n    .dataframe thead th {\n        text-align: right;\n    }\n</style>\n<table border=\"1\" class=\"dataframe\">\n  <thead>\n    <tr style=\"text-align: right;\">\n      <th></th>\n      <th>NumberofFloors</th>\n      <th>PropertyGFATotal</th>\n      <th>PropertyGFABuilding(s)</th>\n      <th>SecondLargestPropertyUseTypeGFA</th>\n      <th>ThirdLargestPropertyUseTypeGFA</th>\n      <th>BuildingType_Campus</th>\n      <th>BuildingType_Multifamily HR (10+)</th>\n      <th>BuildingType_Multifamily LR (1-4)</th>\n      <th>BuildingType_Multifamily MR (5-9)</th>\n      <th>BuildingType_NonResidential</th>\n      <th>...</th>\n      <th>Neighborhood_downtown</th>\n      <th>Neighborhood_east</th>\n      <th>Neighborhood_greater duwamish</th>\n      <th>Neighborhood_lake union</th>\n      <th>Neighborhood_magnolia / queen anne</th>\n      <th>Neighborhood_north</th>\n      <th>Neighborhood_northeast</th>\n      <th>Neighborhood_northwest</th>\n      <th>Neighborhood_southeast</th>\n      <th>Neighborhood_southwest</th>\n    </tr>\n  </thead>\n  <tbody>\n    <tr>\n      <th>1</th>\n      <td>-0.50</td>\n      <td>-0.46</td>\n      <td>-0.46</td>\n      <td>-0.14</td>\n      <td>0.13</td>\n      <td>0.00</td>\n      <td>0.00</td>\n      <td>0.00</td>\n      <td>0.00</td>\n      <td>1.00</td>\n      <td>...</td>\n      <td>0.00</td>\n      <td>0.00</td>\n      <td>1.00</td>\n      <td>0.00</td>\n      <td>0.00</td>\n      <td>0.00</td>\n      <td>0.00</td>\n      <td>0.00</td>\n      <td>0.00</td>\n      <td>0.00</td>\n    </tr>\n    <tr>\n      <th>2</th>\n      <td>-0.31</td>\n      <td>-0.47</td>\n      <td>-0.47</td>\n      <td>-0.38</td>\n      <td>-0.21</td>\n      <td>0.00</td>\n      <td>0.00</td>\n      <td>1.00</td>\n      <td>0.00</td>\n      <td>0.00</td>\n      <td>...</td>\n      <td>0.00</td>\n      <td>0.00</td>\n      <td>1.00</td>\n      <td>0.00</td>\n      <td>0.00</td>\n      <td>0.00</td>\n      <td>0.00</td>\n      <td>0.00</td>\n      <td>0.00</td>\n      <td>0.00</td>\n    </tr>\n    <tr>\n      <th>3</th>\n      <td>1.91</td>\n      <td>-0.11</td>\n      <td>-0.05</td>\n      <td>-0.38</td>\n      <td>-0.21</td>\n      <td>0.00</td>\n      <td>1.00</td>\n      <td>0.00</td>\n      <td>0.00</td>\n      <td>0.00</td>\n      <td>...</td>\n      <td>0.00</td>\n      <td>0.00</td>\n      <td>1.00</td>\n      <td>0.00</td>\n      <td>0.00</td>\n      <td>0.00</td>\n      <td>0.00</td>\n      <td>0.00</td>\n      <td>0.00</td>\n      <td>0.00</td>\n    </tr>\n    <tr>\n      <th>4</th>\n      <td>-0.31</td>\n      <td>-0.38</td>\n      <td>-0.43</td>\n      <td>-0.27</td>\n      <td>-0.21</td>\n      <td>0.00</td>\n      <td>0.00</td>\n      <td>1.00</td>\n      <td>0.00</td>\n      <td>0.00</td>\n      <td>...</td>\n      <td>0.00</td>\n      <td>0.00</td>\n      <td>1.00</td>\n      <td>0.00</td>\n      <td>0.00</td>\n      <td>0.00</td>\n      <td>0.00</td>\n      <td>0.00</td>\n      <td>0.00</td>\n      <td>0.00</td>\n    </tr>\n    <tr>\n      <th>5</th>\n      <td>-0.13</td>\n      <td>-0.37</td>\n      <td>-0.35</td>\n      <td>-0.38</td>\n      <td>-0.21</td>\n      <td>0.00</td>\n      <td>0.00</td>\n      <td>0.00</td>\n      <td>0.00</td>\n      <td>1.00</td>\n      <td>...</td>\n      <td>0.00</td>\n      <td>0.00</td>\n      <td>0.00</td>\n      <td>0.00</td>\n      <td>0.00</td>\n      <td>0.00</td>\n      <td>1.00</td>\n      <td>0.00</td>\n      <td>0.00</td>\n      <td>0.00</td>\n    </tr>\n    <tr>\n      <th>...</th>\n      <td>...</td>\n      <td>...</td>\n      <td>...</td>\n      <td>...</td>\n      <td>...</td>\n      <td>...</td>\n      <td>...</td>\n      <td>...</td>\n      <td>...</td>\n      <td>...</td>\n      <td>...</td>\n      <td>...</td>\n      <td>...</td>\n      <td>...</td>\n      <td>...</td>\n      <td>...</td>\n      <td>...</td>\n      <td>...</td>\n      <td>...</td>\n      <td>...</td>\n      <td>...</td>\n    </tr>\n    <tr>\n      <th>3124</th>\n      <td>0.06</td>\n      <td>-0.26</td>\n      <td>-0.23</td>\n      <td>-0.38</td>\n      <td>-0.21</td>\n      <td>0.00</td>\n      <td>0.00</td>\n      <td>0.00</td>\n      <td>1.00</td>\n      <td>0.00</td>\n      <td>...</td>\n      <td>0.00</td>\n      <td>1.00</td>\n      <td>0.00</td>\n      <td>0.00</td>\n      <td>0.00</td>\n      <td>0.00</td>\n      <td>0.00</td>\n      <td>0.00</td>\n      <td>0.00</td>\n      <td>0.00</td>\n    </tr>\n    <tr>\n      <th>3125</th>\n      <td>-0.50</td>\n      <td>-0.40</td>\n      <td>-0.40</td>\n      <td>-0.01</td>\n      <td>-0.05</td>\n      <td>0.00</td>\n      <td>0.00</td>\n      <td>0.00</td>\n      <td>0.00</td>\n      <td>1.00</td>\n      <td>...</td>\n      <td>0.00</td>\n      <td>0.00</td>\n      <td>0.00</td>\n      <td>1.00</td>\n      <td>0.00</td>\n      <td>0.00</td>\n      <td>0.00</td>\n      <td>0.00</td>\n      <td>0.00</td>\n      <td>0.00</td>\n    </tr>\n    <tr>\n      <th>3126</th>\n      <td>-0.31</td>\n      <td>-0.34</td>\n      <td>-0.41</td>\n      <td>0.01</td>\n      <td>0.87</td>\n      <td>0.00</td>\n      <td>0.00</td>\n      <td>0.00</td>\n      <td>0.00</td>\n      <td>1.00</td>\n      <td>...</td>\n      <td>0.00</td>\n      <td>0.00</td>\n      <td>0.00</td>\n      <td>1.00</td>\n      <td>0.00</td>\n      <td>0.00</td>\n      <td>0.00</td>\n      <td>0.00</td>\n      <td>0.00</td>\n      <td>0.00</td>\n    </tr>\n    <tr>\n      <th>3128</th>\n      <td>0.06</td>\n      <td>-0.40</td>\n      <td>-0.45</td>\n      <td>-0.14</td>\n      <td>-0.04</td>\n      <td>0.00</td>\n      <td>0.00</td>\n      <td>0.00</td>\n      <td>0.00</td>\n      <td>1.00</td>\n      <td>...</td>\n      <td>0.00</td>\n      <td>0.00</td>\n      <td>0.00</td>\n      <td>1.00</td>\n      <td>0.00</td>\n      <td>0.00</td>\n      <td>0.00</td>\n      <td>0.00</td>\n      <td>0.00</td>\n      <td>0.00</td>\n    </tr>\n    <tr>\n      <th>3129</th>\n      <td>-0.50</td>\n      <td>-0.50</td>\n      <td>-0.51</td>\n      <td>-0.16</td>\n      <td>-0.21</td>\n      <td>0.00</td>\n      <td>0.00</td>\n      <td>0.00</td>\n      <td>0.00</td>\n      <td>1.00</td>\n      <td>...</td>\n      <td>0.00</td>\n      <td>0.00</td>\n      <td>0.00</td>\n      <td>1.00</td>\n      <td>0.00</td>\n      <td>0.00</td>\n      <td>0.00</td>\n      <td>0.00</td>\n      <td>0.00</td>\n      <td>0.00</td>\n    </tr>\n  </tbody>\n</table>\n<p>2191 rows × 99 columns</p>\n</div>"
     },
     "metadata": {},
     "output_type": "display_data"
    },
    {
     "data": {
      "text/plain": "      NumberofFloors  PropertyGFATotal  PropertyGFABuilding(s)  \\\n0              -0.31             -0.50                   -0.51   \n7              -0.31              0.24                    0.35   \n12             -0.50             -0.30                   -0.46   \n14             -0.13              0.51                    0.67   \n17             -0.68             -0.43                   -0.42   \n...              ...               ...                     ...   \n3116            0.24              0.06                    0.15   \n3118            0.06             -0.41                   -0.41   \n3121           -0.13             -0.36                   -0.34   \n3127           -0.13             -0.38                   -0.37   \n3130           -0.68             -0.52                   -0.53   \n\n      SecondLargestPropertyUseTypeGFA  ThirdLargestPropertyUseTypeGFA  \\\n0                               -0.38                           -0.21   \n7                                0.04                           -0.21   \n12                              -0.22                           -0.21   \n14                               0.20                            0.25   \n17                              -0.32                           -0.21   \n...                               ...                             ...   \n3116                            -0.38                           -0.21   \n3118                            -0.38                           -0.21   \n3121                            -0.38                           -0.21   \n3127                            -0.38                           -0.21   \n3130                            -0.16                           -0.08   \n\n      BuildingType_Campus  BuildingType_Multifamily HR (10+)  \\\n0                    0.00                               0.00   \n7                    0.00                               0.00   \n12                   0.00                               0.00   \n14                   0.00                               0.00   \n17                   0.00                               0.00   \n...                   ...                                ...   \n3116                 0.00                               0.00   \n3118                 0.00                               0.00   \n3121                 0.00                               0.00   \n3127                 0.00                               0.00   \n3130                 0.00                               0.00   \n\n      BuildingType_Multifamily LR (1-4)  BuildingType_Multifamily MR (5-9)  \\\n0                                  1.00                               0.00   \n7                                  1.00                               0.00   \n12                                 0.00                               0.00   \n14                                 1.00                               0.00   \n17                                 0.00                               0.00   \n...                                 ...                                ...   \n3116                               0.00                               1.00   \n3118                               0.00                               1.00   \n3121                               0.00                               0.00   \n3127                               1.00                               0.00   \n3130                               0.00                               0.00   \n\n      BuildingType_NonResidential  ...  Neighborhood_downtown  \\\n0                            0.00  ...                   0.00   \n7                            0.00  ...                   0.00   \n12                           1.00  ...                   1.00   \n14                           0.00  ...                   0.00   \n17                           1.00  ...                   0.00   \n...                           ...  ...                    ...   \n3116                         0.00  ...                   1.00   \n3118                         0.00  ...                   1.00   \n3121                         1.00  ...                   0.00   \n3127                         0.00  ...                   0.00   \n3130                         0.00  ...                   0.00   \n\n      Neighborhood_east  Neighborhood_greater duwamish  \\\n0                  0.00                           0.00   \n7                  0.00                           0.00   \n12                 0.00                           0.00   \n14                 0.00                           0.00   \n17                 0.00                           0.00   \n...                 ...                            ...   \n3116               0.00                           0.00   \n3118               0.00                           0.00   \n3121               1.00                           0.00   \n3127               0.00                           0.00   \n3130               0.00                           1.00   \n\n      Neighborhood_lake union  Neighborhood_magnolia / queen anne  \\\n0                        0.00                                0.00   \n7                        0.00                                0.00   \n12                       0.00                                0.00   \n14                       0.00                                0.00   \n17                       0.00                                0.00   \n...                       ...                                 ...   \n3116                     0.00                                0.00   \n3118                     0.00                                0.00   \n3121                     0.00                                0.00   \n3127                     1.00                                0.00   \n3130                     0.00                                0.00   \n\n      Neighborhood_north  Neighborhood_northeast  Neighborhood_northwest  \\\n0                   0.00                    0.00                    0.00   \n7                   0.00                    1.00                    0.00   \n12                  0.00                    0.00                    0.00   \n14                  0.00                    0.00                    0.00   \n17                  0.00                    0.00                    0.00   \n...                  ...                     ...                     ...   \n3116                0.00                    0.00                    0.00   \n3118                0.00                    0.00                    0.00   \n3121                0.00                    0.00                    0.00   \n3127                0.00                    0.00                    0.00   \n3130                0.00                    0.00                    0.00   \n\n      Neighborhood_southeast  Neighborhood_southwest  \n0                       0.00                    0.00  \n7                       0.00                    0.00  \n12                      0.00                    0.00  \n14                      0.00                    0.00  \n17                      0.00                    0.00  \n...                      ...                     ...  \n3116                    0.00                    0.00  \n3118                    0.00                    0.00  \n3121                    0.00                    0.00  \n3127                    0.00                    0.00  \n3130                    0.00                    0.00  \n\n[940 rows x 99 columns]",
      "text/html": "<div>\n<style scoped>\n    .dataframe tbody tr th:only-of-type {\n        vertical-align: middle;\n    }\n\n    .dataframe tbody tr th {\n        vertical-align: top;\n    }\n\n    .dataframe thead th {\n        text-align: right;\n    }\n</style>\n<table border=\"1\" class=\"dataframe\">\n  <thead>\n    <tr style=\"text-align: right;\">\n      <th></th>\n      <th>NumberofFloors</th>\n      <th>PropertyGFATotal</th>\n      <th>PropertyGFABuilding(s)</th>\n      <th>SecondLargestPropertyUseTypeGFA</th>\n      <th>ThirdLargestPropertyUseTypeGFA</th>\n      <th>BuildingType_Campus</th>\n      <th>BuildingType_Multifamily HR (10+)</th>\n      <th>BuildingType_Multifamily LR (1-4)</th>\n      <th>BuildingType_Multifamily MR (5-9)</th>\n      <th>BuildingType_NonResidential</th>\n      <th>...</th>\n      <th>Neighborhood_downtown</th>\n      <th>Neighborhood_east</th>\n      <th>Neighborhood_greater duwamish</th>\n      <th>Neighborhood_lake union</th>\n      <th>Neighborhood_magnolia / queen anne</th>\n      <th>Neighborhood_north</th>\n      <th>Neighborhood_northeast</th>\n      <th>Neighborhood_northwest</th>\n      <th>Neighborhood_southeast</th>\n      <th>Neighborhood_southwest</th>\n    </tr>\n  </thead>\n  <tbody>\n    <tr>\n      <th>0</th>\n      <td>-0.31</td>\n      <td>-0.50</td>\n      <td>-0.51</td>\n      <td>-0.38</td>\n      <td>-0.21</td>\n      <td>0.00</td>\n      <td>0.00</td>\n      <td>1.00</td>\n      <td>0.00</td>\n      <td>0.00</td>\n      <td>...</td>\n      <td>0.00</td>\n      <td>0.00</td>\n      <td>0.00</td>\n      <td>0.00</td>\n      <td>0.00</td>\n      <td>0.00</td>\n      <td>0.00</td>\n      <td>0.00</td>\n      <td>0.00</td>\n      <td>0.00</td>\n    </tr>\n    <tr>\n      <th>7</th>\n      <td>-0.31</td>\n      <td>0.24</td>\n      <td>0.35</td>\n      <td>0.04</td>\n      <td>-0.21</td>\n      <td>0.00</td>\n      <td>0.00</td>\n      <td>1.00</td>\n      <td>0.00</td>\n      <td>0.00</td>\n      <td>...</td>\n      <td>0.00</td>\n      <td>0.00</td>\n      <td>0.00</td>\n      <td>0.00</td>\n      <td>0.00</td>\n      <td>0.00</td>\n      <td>1.00</td>\n      <td>0.00</td>\n      <td>0.00</td>\n      <td>0.00</td>\n    </tr>\n    <tr>\n      <th>12</th>\n      <td>-0.50</td>\n      <td>-0.30</td>\n      <td>-0.46</td>\n      <td>-0.22</td>\n      <td>-0.21</td>\n      <td>0.00</td>\n      <td>0.00</td>\n      <td>0.00</td>\n      <td>0.00</td>\n      <td>1.00</td>\n      <td>...</td>\n      <td>1.00</td>\n      <td>0.00</td>\n      <td>0.00</td>\n      <td>0.00</td>\n      <td>0.00</td>\n      <td>0.00</td>\n      <td>0.00</td>\n      <td>0.00</td>\n      <td>0.00</td>\n      <td>0.00</td>\n    </tr>\n    <tr>\n      <th>14</th>\n      <td>-0.13</td>\n      <td>0.51</td>\n      <td>0.67</td>\n      <td>0.20</td>\n      <td>0.25</td>\n      <td>0.00</td>\n      <td>0.00</td>\n      <td>1.00</td>\n      <td>0.00</td>\n      <td>0.00</td>\n      <td>...</td>\n      <td>0.00</td>\n      <td>0.00</td>\n      <td>0.00</td>\n      <td>0.00</td>\n      <td>0.00</td>\n      <td>0.00</td>\n      <td>0.00</td>\n      <td>0.00</td>\n      <td>0.00</td>\n      <td>0.00</td>\n    </tr>\n    <tr>\n      <th>17</th>\n      <td>-0.68</td>\n      <td>-0.43</td>\n      <td>-0.42</td>\n      <td>-0.32</td>\n      <td>-0.21</td>\n      <td>0.00</td>\n      <td>0.00</td>\n      <td>0.00</td>\n      <td>0.00</td>\n      <td>1.00</td>\n      <td>...</td>\n      <td>0.00</td>\n      <td>0.00</td>\n      <td>0.00</td>\n      <td>0.00</td>\n      <td>0.00</td>\n      <td>0.00</td>\n      <td>0.00</td>\n      <td>0.00</td>\n      <td>0.00</td>\n      <td>0.00</td>\n    </tr>\n    <tr>\n      <th>...</th>\n      <td>...</td>\n      <td>...</td>\n      <td>...</td>\n      <td>...</td>\n      <td>...</td>\n      <td>...</td>\n      <td>...</td>\n      <td>...</td>\n      <td>...</td>\n      <td>...</td>\n      <td>...</td>\n      <td>...</td>\n      <td>...</td>\n      <td>...</td>\n      <td>...</td>\n      <td>...</td>\n      <td>...</td>\n      <td>...</td>\n      <td>...</td>\n      <td>...</td>\n      <td>...</td>\n    </tr>\n    <tr>\n      <th>3116</th>\n      <td>0.24</td>\n      <td>0.06</td>\n      <td>0.15</td>\n      <td>-0.38</td>\n      <td>-0.21</td>\n      <td>0.00</td>\n      <td>0.00</td>\n      <td>0.00</td>\n      <td>1.00</td>\n      <td>0.00</td>\n      <td>...</td>\n      <td>1.00</td>\n      <td>0.00</td>\n      <td>0.00</td>\n      <td>0.00</td>\n      <td>0.00</td>\n      <td>0.00</td>\n      <td>0.00</td>\n      <td>0.00</td>\n      <td>0.00</td>\n      <td>0.00</td>\n    </tr>\n    <tr>\n      <th>3118</th>\n      <td>0.06</td>\n      <td>-0.41</td>\n      <td>-0.41</td>\n      <td>-0.38</td>\n      <td>-0.21</td>\n      <td>0.00</td>\n      <td>0.00</td>\n      <td>0.00</td>\n      <td>1.00</td>\n      <td>0.00</td>\n      <td>...</td>\n      <td>1.00</td>\n      <td>0.00</td>\n      <td>0.00</td>\n      <td>0.00</td>\n      <td>0.00</td>\n      <td>0.00</td>\n      <td>0.00</td>\n      <td>0.00</td>\n      <td>0.00</td>\n      <td>0.00</td>\n    </tr>\n    <tr>\n      <th>3121</th>\n      <td>-0.13</td>\n      <td>-0.36</td>\n      <td>-0.34</td>\n      <td>-0.38</td>\n      <td>-0.21</td>\n      <td>0.00</td>\n      <td>0.00</td>\n      <td>0.00</td>\n      <td>0.00</td>\n      <td>1.00</td>\n      <td>...</td>\n      <td>0.00</td>\n      <td>1.00</td>\n      <td>0.00</td>\n      <td>0.00</td>\n      <td>0.00</td>\n      <td>0.00</td>\n      <td>0.00</td>\n      <td>0.00</td>\n      <td>0.00</td>\n      <td>0.00</td>\n    </tr>\n    <tr>\n      <th>3127</th>\n      <td>-0.13</td>\n      <td>-0.38</td>\n      <td>-0.37</td>\n      <td>-0.38</td>\n      <td>-0.21</td>\n      <td>0.00</td>\n      <td>0.00</td>\n      <td>1.00</td>\n      <td>0.00</td>\n      <td>0.00</td>\n      <td>...</td>\n      <td>0.00</td>\n      <td>0.00</td>\n      <td>0.00</td>\n      <td>1.00</td>\n      <td>0.00</td>\n      <td>0.00</td>\n      <td>0.00</td>\n      <td>0.00</td>\n      <td>0.00</td>\n      <td>0.00</td>\n    </tr>\n    <tr>\n      <th>3130</th>\n      <td>-0.68</td>\n      <td>-0.52</td>\n      <td>-0.53</td>\n      <td>-0.16</td>\n      <td>-0.08</td>\n      <td>0.00</td>\n      <td>0.00</td>\n      <td>0.00</td>\n      <td>0.00</td>\n      <td>0.00</td>\n      <td>...</td>\n      <td>0.00</td>\n      <td>0.00</td>\n      <td>1.00</td>\n      <td>0.00</td>\n      <td>0.00</td>\n      <td>0.00</td>\n      <td>0.00</td>\n      <td>0.00</td>\n      <td>0.00</td>\n      <td>0.00</td>\n    </tr>\n  </tbody>\n</table>\n<p>940 rows × 99 columns</p>\n</div>"
     },
     "metadata": {},
     "output_type": "display_data"
    },
    {
     "name": "stdout",
     "output_type": "stream",
     "text": [
      "(2191,) (940,)\n"
     ]
    }
   ],
   "source": [
    "print(\"We can start now the modelling to predict the feature wanted.\")\n",
    "\n",
    "display(X_train_std_encoded)\n",
    "display(X_test_std_encoded)\n",
    "print(y_train.shape, y_test.shape)"
   ],
   "metadata": {
    "collapsed": false,
    "pycharm": {
     "name": "#%%\n"
    }
   }
  },
  {
   "cell_type": "code",
   "execution_count": 758,
   "outputs": [],
   "source": [
    "from sklearn.model_selection import GridSearchCV\n",
    "from sklearn.metrics import mean_squared_error"
   ],
   "metadata": {
    "collapsed": false,
    "pycharm": {
     "name": "#%%\n"
    }
   }
  },
  {
   "cell_type": "code",
   "execution_count": 759,
   "outputs": [
    {
     "name": "stdout",
     "output_type": "stream",
     "text": [
      "We rename X_train_std_encoded to X_train, the same for X_test.\n"
     ]
    },
    {
     "data": {
      "text/plain": "      NumberofFloors  PropertyGFATotal  PropertyGFABuilding(s)  \\\n0              -0.31             -0.50                   -0.51   \n7              -0.31              0.24                    0.35   \n12             -0.50             -0.30                   -0.46   \n14             -0.13              0.51                    0.67   \n17             -0.68             -0.43                   -0.42   \n...              ...               ...                     ...   \n3116            0.24              0.06                    0.15   \n3118            0.06             -0.41                   -0.41   \n3121           -0.13             -0.36                   -0.34   \n3127           -0.13             -0.38                   -0.37   \n3130           -0.68             -0.52                   -0.53   \n\n      SecondLargestPropertyUseTypeGFA  ThirdLargestPropertyUseTypeGFA  \\\n0                               -0.38                           -0.21   \n7                                0.04                           -0.21   \n12                              -0.22                           -0.21   \n14                               0.20                            0.25   \n17                              -0.32                           -0.21   \n...                               ...                             ...   \n3116                            -0.38                           -0.21   \n3118                            -0.38                           -0.21   \n3121                            -0.38                           -0.21   \n3127                            -0.38                           -0.21   \n3130                            -0.16                           -0.08   \n\n      BuildingType_Campus  BuildingType_Multifamily HR (10+)  \\\n0                    0.00                               0.00   \n7                    0.00                               0.00   \n12                   0.00                               0.00   \n14                   0.00                               0.00   \n17                   0.00                               0.00   \n...                   ...                                ...   \n3116                 0.00                               0.00   \n3118                 0.00                               0.00   \n3121                 0.00                               0.00   \n3127                 0.00                               0.00   \n3130                 0.00                               0.00   \n\n      BuildingType_Multifamily LR (1-4)  BuildingType_Multifamily MR (5-9)  \\\n0                                  1.00                               0.00   \n7                                  1.00                               0.00   \n12                                 0.00                               0.00   \n14                                 1.00                               0.00   \n17                                 0.00                               0.00   \n...                                 ...                                ...   \n3116                               0.00                               1.00   \n3118                               0.00                               1.00   \n3121                               0.00                               0.00   \n3127                               1.00                               0.00   \n3130                               0.00                               0.00   \n\n      BuildingType_NonResidential  ...  Neighborhood_downtown  \\\n0                            0.00  ...                   0.00   \n7                            0.00  ...                   0.00   \n12                           1.00  ...                   1.00   \n14                           0.00  ...                   0.00   \n17                           1.00  ...                   0.00   \n...                           ...  ...                    ...   \n3116                         0.00  ...                   1.00   \n3118                         0.00  ...                   1.00   \n3121                         1.00  ...                   0.00   \n3127                         0.00  ...                   0.00   \n3130                         0.00  ...                   0.00   \n\n      Neighborhood_east  Neighborhood_greater duwamish  \\\n0                  0.00                           0.00   \n7                  0.00                           0.00   \n12                 0.00                           0.00   \n14                 0.00                           0.00   \n17                 0.00                           0.00   \n...                 ...                            ...   \n3116               0.00                           0.00   \n3118               0.00                           0.00   \n3121               1.00                           0.00   \n3127               0.00                           0.00   \n3130               0.00                           1.00   \n\n      Neighborhood_lake union  Neighborhood_magnolia / queen anne  \\\n0                        0.00                                0.00   \n7                        0.00                                0.00   \n12                       0.00                                0.00   \n14                       0.00                                0.00   \n17                       0.00                                0.00   \n...                       ...                                 ...   \n3116                     0.00                                0.00   \n3118                     0.00                                0.00   \n3121                     0.00                                0.00   \n3127                     1.00                                0.00   \n3130                     0.00                                0.00   \n\n      Neighborhood_north  Neighborhood_northeast  Neighborhood_northwest  \\\n0                   0.00                    0.00                    0.00   \n7                   0.00                    1.00                    0.00   \n12                  0.00                    0.00                    0.00   \n14                  0.00                    0.00                    0.00   \n17                  0.00                    0.00                    0.00   \n...                  ...                     ...                     ...   \n3116                0.00                    0.00                    0.00   \n3118                0.00                    0.00                    0.00   \n3121                0.00                    0.00                    0.00   \n3127                0.00                    0.00                    0.00   \n3130                0.00                    0.00                    0.00   \n\n      Neighborhood_southeast  Neighborhood_southwest  \n0                       0.00                    0.00  \n7                       0.00                    0.00  \n12                      0.00                    0.00  \n14                      0.00                    0.00  \n17                      0.00                    0.00  \n...                      ...                     ...  \n3116                    0.00                    0.00  \n3118                    0.00                    0.00  \n3121                    0.00                    0.00  \n3127                    0.00                    0.00  \n3130                    0.00                    0.00  \n\n[940 rows x 99 columns]",
      "text/html": "<div>\n<style scoped>\n    .dataframe tbody tr th:only-of-type {\n        vertical-align: middle;\n    }\n\n    .dataframe tbody tr th {\n        vertical-align: top;\n    }\n\n    .dataframe thead th {\n        text-align: right;\n    }\n</style>\n<table border=\"1\" class=\"dataframe\">\n  <thead>\n    <tr style=\"text-align: right;\">\n      <th></th>\n      <th>NumberofFloors</th>\n      <th>PropertyGFATotal</th>\n      <th>PropertyGFABuilding(s)</th>\n      <th>SecondLargestPropertyUseTypeGFA</th>\n      <th>ThirdLargestPropertyUseTypeGFA</th>\n      <th>BuildingType_Campus</th>\n      <th>BuildingType_Multifamily HR (10+)</th>\n      <th>BuildingType_Multifamily LR (1-4)</th>\n      <th>BuildingType_Multifamily MR (5-9)</th>\n      <th>BuildingType_NonResidential</th>\n      <th>...</th>\n      <th>Neighborhood_downtown</th>\n      <th>Neighborhood_east</th>\n      <th>Neighborhood_greater duwamish</th>\n      <th>Neighborhood_lake union</th>\n      <th>Neighborhood_magnolia / queen anne</th>\n      <th>Neighborhood_north</th>\n      <th>Neighborhood_northeast</th>\n      <th>Neighborhood_northwest</th>\n      <th>Neighborhood_southeast</th>\n      <th>Neighborhood_southwest</th>\n    </tr>\n  </thead>\n  <tbody>\n    <tr>\n      <th>0</th>\n      <td>-0.31</td>\n      <td>-0.50</td>\n      <td>-0.51</td>\n      <td>-0.38</td>\n      <td>-0.21</td>\n      <td>0.00</td>\n      <td>0.00</td>\n      <td>1.00</td>\n      <td>0.00</td>\n      <td>0.00</td>\n      <td>...</td>\n      <td>0.00</td>\n      <td>0.00</td>\n      <td>0.00</td>\n      <td>0.00</td>\n      <td>0.00</td>\n      <td>0.00</td>\n      <td>0.00</td>\n      <td>0.00</td>\n      <td>0.00</td>\n      <td>0.00</td>\n    </tr>\n    <tr>\n      <th>7</th>\n      <td>-0.31</td>\n      <td>0.24</td>\n      <td>0.35</td>\n      <td>0.04</td>\n      <td>-0.21</td>\n      <td>0.00</td>\n      <td>0.00</td>\n      <td>1.00</td>\n      <td>0.00</td>\n      <td>0.00</td>\n      <td>...</td>\n      <td>0.00</td>\n      <td>0.00</td>\n      <td>0.00</td>\n      <td>0.00</td>\n      <td>0.00</td>\n      <td>0.00</td>\n      <td>1.00</td>\n      <td>0.00</td>\n      <td>0.00</td>\n      <td>0.00</td>\n    </tr>\n    <tr>\n      <th>12</th>\n      <td>-0.50</td>\n      <td>-0.30</td>\n      <td>-0.46</td>\n      <td>-0.22</td>\n      <td>-0.21</td>\n      <td>0.00</td>\n      <td>0.00</td>\n      <td>0.00</td>\n      <td>0.00</td>\n      <td>1.00</td>\n      <td>...</td>\n      <td>1.00</td>\n      <td>0.00</td>\n      <td>0.00</td>\n      <td>0.00</td>\n      <td>0.00</td>\n      <td>0.00</td>\n      <td>0.00</td>\n      <td>0.00</td>\n      <td>0.00</td>\n      <td>0.00</td>\n    </tr>\n    <tr>\n      <th>14</th>\n      <td>-0.13</td>\n      <td>0.51</td>\n      <td>0.67</td>\n      <td>0.20</td>\n      <td>0.25</td>\n      <td>0.00</td>\n      <td>0.00</td>\n      <td>1.00</td>\n      <td>0.00</td>\n      <td>0.00</td>\n      <td>...</td>\n      <td>0.00</td>\n      <td>0.00</td>\n      <td>0.00</td>\n      <td>0.00</td>\n      <td>0.00</td>\n      <td>0.00</td>\n      <td>0.00</td>\n      <td>0.00</td>\n      <td>0.00</td>\n      <td>0.00</td>\n    </tr>\n    <tr>\n      <th>17</th>\n      <td>-0.68</td>\n      <td>-0.43</td>\n      <td>-0.42</td>\n      <td>-0.32</td>\n      <td>-0.21</td>\n      <td>0.00</td>\n      <td>0.00</td>\n      <td>0.00</td>\n      <td>0.00</td>\n      <td>1.00</td>\n      <td>...</td>\n      <td>0.00</td>\n      <td>0.00</td>\n      <td>0.00</td>\n      <td>0.00</td>\n      <td>0.00</td>\n      <td>0.00</td>\n      <td>0.00</td>\n      <td>0.00</td>\n      <td>0.00</td>\n      <td>0.00</td>\n    </tr>\n    <tr>\n      <th>...</th>\n      <td>...</td>\n      <td>...</td>\n      <td>...</td>\n      <td>...</td>\n      <td>...</td>\n      <td>...</td>\n      <td>...</td>\n      <td>...</td>\n      <td>...</td>\n      <td>...</td>\n      <td>...</td>\n      <td>...</td>\n      <td>...</td>\n      <td>...</td>\n      <td>...</td>\n      <td>...</td>\n      <td>...</td>\n      <td>...</td>\n      <td>...</td>\n      <td>...</td>\n      <td>...</td>\n    </tr>\n    <tr>\n      <th>3116</th>\n      <td>0.24</td>\n      <td>0.06</td>\n      <td>0.15</td>\n      <td>-0.38</td>\n      <td>-0.21</td>\n      <td>0.00</td>\n      <td>0.00</td>\n      <td>0.00</td>\n      <td>1.00</td>\n      <td>0.00</td>\n      <td>...</td>\n      <td>1.00</td>\n      <td>0.00</td>\n      <td>0.00</td>\n      <td>0.00</td>\n      <td>0.00</td>\n      <td>0.00</td>\n      <td>0.00</td>\n      <td>0.00</td>\n      <td>0.00</td>\n      <td>0.00</td>\n    </tr>\n    <tr>\n      <th>3118</th>\n      <td>0.06</td>\n      <td>-0.41</td>\n      <td>-0.41</td>\n      <td>-0.38</td>\n      <td>-0.21</td>\n      <td>0.00</td>\n      <td>0.00</td>\n      <td>0.00</td>\n      <td>1.00</td>\n      <td>0.00</td>\n      <td>...</td>\n      <td>1.00</td>\n      <td>0.00</td>\n      <td>0.00</td>\n      <td>0.00</td>\n      <td>0.00</td>\n      <td>0.00</td>\n      <td>0.00</td>\n      <td>0.00</td>\n      <td>0.00</td>\n      <td>0.00</td>\n    </tr>\n    <tr>\n      <th>3121</th>\n      <td>-0.13</td>\n      <td>-0.36</td>\n      <td>-0.34</td>\n      <td>-0.38</td>\n      <td>-0.21</td>\n      <td>0.00</td>\n      <td>0.00</td>\n      <td>0.00</td>\n      <td>0.00</td>\n      <td>1.00</td>\n      <td>...</td>\n      <td>0.00</td>\n      <td>1.00</td>\n      <td>0.00</td>\n      <td>0.00</td>\n      <td>0.00</td>\n      <td>0.00</td>\n      <td>0.00</td>\n      <td>0.00</td>\n      <td>0.00</td>\n      <td>0.00</td>\n    </tr>\n    <tr>\n      <th>3127</th>\n      <td>-0.13</td>\n      <td>-0.38</td>\n      <td>-0.37</td>\n      <td>-0.38</td>\n      <td>-0.21</td>\n      <td>0.00</td>\n      <td>0.00</td>\n      <td>1.00</td>\n      <td>0.00</td>\n      <td>0.00</td>\n      <td>...</td>\n      <td>0.00</td>\n      <td>0.00</td>\n      <td>0.00</td>\n      <td>1.00</td>\n      <td>0.00</td>\n      <td>0.00</td>\n      <td>0.00</td>\n      <td>0.00</td>\n      <td>0.00</td>\n      <td>0.00</td>\n    </tr>\n    <tr>\n      <th>3130</th>\n      <td>-0.68</td>\n      <td>-0.52</td>\n      <td>-0.53</td>\n      <td>-0.16</td>\n      <td>-0.08</td>\n      <td>0.00</td>\n      <td>0.00</td>\n      <td>0.00</td>\n      <td>0.00</td>\n      <td>0.00</td>\n      <td>...</td>\n      <td>0.00</td>\n      <td>0.00</td>\n      <td>1.00</td>\n      <td>0.00</td>\n      <td>0.00</td>\n      <td>0.00</td>\n      <td>0.00</td>\n      <td>0.00</td>\n      <td>0.00</td>\n      <td>0.00</td>\n    </tr>\n  </tbody>\n</table>\n<p>940 rows × 99 columns</p>\n</div>"
     },
     "execution_count": 759,
     "metadata": {},
     "output_type": "execute_result"
    }
   ],
   "source": [
    "print(\"We rename X_train_std_encoded to X_train, the same for X_test.\")\n",
    "X_train = X_train_std_encoded.copy()\n",
    "X_test = X_test_std_encoded.copy()\n",
    "\n",
    "X_train\n",
    "X_test"
   ],
   "metadata": {
    "collapsed": false,
    "pycharm": {
     "name": "#%%\n"
    }
   }
  },
  {
   "cell_type": "markdown",
   "source": [
    "### 1) Linear modelling : Linear Regression / Ridge Regression / Lasso / Elastic Net\n"
   ],
   "metadata": {
    "collapsed": false,
    "pycharm": {
     "name": "#%% md\n"
    }
   }
  },
  {
   "cell_type": "code",
   "execution_count": 760,
   "outputs": [
    {
     "data": {
      "text/plain": "(2191, 99)"
     },
     "execution_count": 760,
     "metadata": {},
     "output_type": "execute_result"
    }
   ],
   "source": [
    "X_train.shape"
   ],
   "metadata": {
    "collapsed": false,
    "pycharm": {
     "name": "#%%\n"
    }
   }
  },
  {
   "cell_type": "code",
   "execution_count": 761,
   "outputs": [
    {
     "data": {
      "text/plain": "(940, 99)"
     },
     "execution_count": 761,
     "metadata": {},
     "output_type": "execute_result"
    }
   ],
   "source": [
    "X_test.shape"
   ],
   "metadata": {
    "collapsed": false,
    "pycharm": {
     "name": "#%%\n"
    }
   }
  },
  {
   "cell_type": "markdown",
   "source": [
    "#### 1) Dummy Regression : baseline"
   ],
   "metadata": {
    "collapsed": false,
    "pycharm": {
     "name": "#%% md\n"
    }
   }
  },
  {
   "cell_type": "code",
   "execution_count": 762,
   "outputs": [],
   "source": [
    "from sklearn.metrics import mean_absolute_error,r2_score,mean_squared_error\n",
    "\n",
    "pd.set_option('display.float_format', lambda x: '%.2f' % x)\n",
    "\n",
    "global results\n",
    "results = pd.DataFrame({})\n",
    "\n",
    "def evaluate_regression(model_name, results, y_test, y_pred):\n",
    "    print(\"Prediction for : \", variable_to_predict)\n",
    "    rmse = np.sqrt(mean_squared_error(y_test, y_pred))\n",
    "    mae = mean_absolute_error(y_test,y_pred)\n",
    "    mse = mean_squared_error(y_test, y_pred)\n",
    "    r2 = r2_score(y_test, y_pred)\n",
    "\n",
    "    #print(\"RMSE : {:.2f}\".format(rmse))\n",
    "    #print(\"MAE : {:.2f}\".format(mae))\n",
    "    #print(\"MSE : {:.2f}\".format(mse))\n",
    "    #print(\"R² : {:.2f}\".format(r2))\n",
    "    results = pd.concat([results, pd.DataFrame({\"Model\" : [model_name],\n",
    "                               'RMSE' : [rmse],\n",
    "                               'MAE' : [mae],\n",
    "                               \"MSE\": [mse],\n",
    "                               \"R²\" : [r2]})])\n",
    "    display(results)\n",
    "\n",
    "    # 2) graph\n",
    "    print(\"If the prediction was good, we would see a line which is not the case here .\")\n",
    "    plt.scatter(y_test, y_pred, color='coral')\n",
    "    return  results\n"
   ],
   "metadata": {
    "collapsed": false,
    "pycharm": {
     "name": "#%%\n"
    }
   }
  },
  {
   "cell_type": "code",
   "execution_count": 763,
   "outputs": [],
   "source": [
    "def display_prediction(y_test, y_pred):\n",
    "    #plt.scatter(y_test, y_pred, color='coral')\n",
    "\n",
    "    sizes = {} # clé : coordonnées ; valeur : nombre de points à ces coordonnées\n",
    "    for (yt, yp) in zip(list(y_test), list(y_pred)):\n",
    "        if (yt, yp) in sizes:\n",
    "            sizes[(yt, yp)] += 1\n",
    "        else:\n",
    "            sizes[(yt, yp)] = 1\n",
    "\n",
    "    keys = sizes.keys()\n",
    "    plt.scatter(\n",
    "        [k[0] for k in keys], # vraie valeur (abscisse)\n",
    "        [k[1] for k in keys], # valeur predite (ordonnee)\n",
    "        s=[sizes[k] for k in keys], # taille du marqueur\n",
    "        color='coral', alpha =0.8)\n"
   ],
   "metadata": {
    "collapsed": false,
    "pycharm": {
     "name": "#%%\n"
    }
   }
  },
  {
   "cell_type": "code",
   "execution_count": 764,
   "outputs": [
    {
     "name": "stdout",
     "output_type": "stream",
     "text": [
      "Prediction for :  Log2-Electricity(kBtu)\n"
     ]
    },
    {
     "data": {
      "text/plain": "             Model  RMSE  MAE  MSE    R²\n0  Dummy Regressor  1.68 1.32 2.83 -0.00",
      "text/html": "<div>\n<style scoped>\n    .dataframe tbody tr th:only-of-type {\n        vertical-align: middle;\n    }\n\n    .dataframe tbody tr th {\n        vertical-align: top;\n    }\n\n    .dataframe thead th {\n        text-align: right;\n    }\n</style>\n<table border=\"1\" class=\"dataframe\">\n  <thead>\n    <tr style=\"text-align: right;\">\n      <th></th>\n      <th>Model</th>\n      <th>RMSE</th>\n      <th>MAE</th>\n      <th>MSE</th>\n      <th>R²</th>\n    </tr>\n  </thead>\n  <tbody>\n    <tr>\n      <th>0</th>\n      <td>Dummy Regressor</td>\n      <td>1.68</td>\n      <td>1.32</td>\n      <td>2.83</td>\n      <td>-0.00</td>\n    </tr>\n  </tbody>\n</table>\n</div>"
     },
     "metadata": {},
     "output_type": "display_data"
    },
    {
     "name": "stdout",
     "output_type": "stream",
     "text": [
      "If the prediction was good, we would see a line which is not the case here .\n"
     ]
    },
    {
     "data": {
      "text/plain": "<Figure size 432x288 with 1 Axes>",
      "image/png": "[encoded data removed]"
     },
     "metadata": {
      "needs_background": "light"
     },
     "output_type": "display_data"
    }
   ],
   "source": [
    "from sklearn import dummy\n",
    "\n",
    "# 0) We create a dummy regressor model that always predicts the mean value of the feature to predict\n",
    "dum = dummy.DummyRegressor(strategy='mean')\n",
    "\n",
    "# 1) Training Dummy Regression\n",
    "dum.fit(X_train, y_train)\n",
    "\n",
    "# 2) Prediction on the testing set\n",
    "y_pred_dum = dum.predict(X_test)\n",
    "\n",
    "# 3) Evaluate\n",
    "results = evaluate_regression(\"Dummy Regressor\", results, y_test, y_pred_dum)"
   ],
   "metadata": {
    "collapsed": false,
    "pycharm": {
     "name": "#%%\n"
    }
   }
  },
  {
   "cell_type": "code",
   "execution_count": 765,
   "outputs": [
    {
     "name": "stdout",
     "output_type": "stream",
     "text": [
      "R : -4.274950696680197e+19\n",
      "Prediction for :  Log2-Electricity(kBtu)\n"
     ]
    },
    {
     "data": {
      "text/plain": "               Model           RMSE          MAE                      MSE  \\\n0    Dummy Regressor           1.68         1.32                     2.83   \n0  Linear Regression 11000001254.68 933629288.25 121000027602960891904.00   \n\n                        R²  \n0                    -0.00  \n0 -42749506966801973248.00  ",
      "text/html": "<div>\n<style scoped>\n    .dataframe tbody tr th:only-of-type {\n        vertical-align: middle;\n    }\n\n    .dataframe tbody tr th {\n        vertical-align: top;\n    }\n\n    .dataframe thead th {\n        text-align: right;\n    }\n</style>\n<table border=\"1\" class=\"dataframe\">\n  <thead>\n    <tr style=\"text-align: right;\">\n      <th></th>\n      <th>Model</th>\n      <th>RMSE</th>\n      <th>MAE</th>\n      <th>MSE</th>\n      <th>R²</th>\n    </tr>\n  </thead>\n  <tbody>\n    <tr>\n      <th>0</th>\n      <td>Dummy Regressor</td>\n      <td>1.68</td>\n      <td>1.32</td>\n      <td>2.83</td>\n      <td>-0.00</td>\n    </tr>\n    <tr>\n      <th>0</th>\n      <td>Linear Regression</td>\n      <td>11000001254.68</td>\n      <td>933629288.25</td>\n      <td>121000027602960891904.00</td>\n      <td>-42749506966801973248.00</td>\n    </tr>\n  </tbody>\n</table>\n</div>"
     },
     "metadata": {},
     "output_type": "display_data"
    },
    {
     "name": "stdout",
     "output_type": "stream",
     "text": [
      "If the prediction was good, we would see a line which is not the case here .\n"
     ]
    },
    {
     "data": {
      "text/plain": "<Figure size 432x288 with 1 Axes>",
      "image/png": "[encoded data removed]"
     },
     "metadata": {
      "needs_background": "light"
     },
     "output_type": "display_data"
    }
   ],
   "source": [
    "from sklearn import linear_model\n",
    "\n",
    "# 0) We create a linear regression model\n",
    "lr = linear_model.LinearRegression()\n",
    "\n",
    "# 1) Training Linear Regression and Evaluating\n",
    "reg = lr.fit(X_train, y_train)\n",
    "y_pred_lr = reg.predict(X_test)\n",
    "\n",
    "prediction_score = lr.score(X_test, y_test)\n",
    "#print(\"Accuracy is : %.2f\" % (100 * prediction_score))\n",
    "print('R : {}'.format(prediction_score))\n",
    "\n",
    "results = evaluate_regression(\"Linear Regression\", results, y_test, y_pred_lr)"
   ],
   "metadata": {
    "collapsed": false,
    "pycharm": {
     "name": "#%%\n"
    }
   }
  },
  {
   "cell_type": "code",
   "execution_count": 766,
   "outputs": [
    {
     "data": {
      "text/plain": "array([22.19111676, 14.6863911 , 17.77499291, 21.14341124, 20.04681094,\n       19.09221516, 23.14451915, 18.70957524, 19.36773254, 18.88380372,\n       18.83205557, 24.53788251, 24.39988861, 19.8308989 , 19.81195005,\n       20.03366228, 22.49271309, 20.00849428, 20.76566569, 23.08738239,\n       19.55262032, 19.56377349, 20.0452504 , 19.85761355, 22.35229915,\n       22.53052779, 18.99612312, 20.64072596, 25.56013321, 19.90585264,\n       20.32997914, 18.85241369, 21.32339292, 20.84847624, 19.29399918,\n       17.86647603, 19.57502767, 18.5489611 , 19.74589257, 19.60661305,\n       20.68213734, 22.76116325, 21.95446436, 19.56385168, 22.27411592,\n       20.75846479, 18.91281334, 20.79442697, 20.35742958, 22.54116209,\n       18.69167197, 19.81113476, 21.42627807, 18.57964004, 25.29661645,\n       20.28782058, 22.20217166, 22.11257663, 19.30021178, 18.87014795,\n       19.68109254, 20.04757394, 21.05320801, 19.92317077, 20.21218168,\n       21.18671757, 18.24408505, 19.43585539, 19.75188562, 22.03833195,\n       24.47651298, 21.31387061, 19.03297392, 20.79607606, 22.07761668,\n       20.88013204, 18.824014  , 19.68351725, 19.37960259, 19.32172996,\n       21.42935821, 21.31681294, 20.6429648 , 19.67157907, 17.86329701,\n       19.54201352, 20.80169099, 21.41967632, 21.0472877 , 19.03114656,\n       21.72603226, 20.74724154, 19.00788138, 22.32836787, 25.40801004,\n       21.23645513, 20.45930553, 21.36125844, 19.23881522, 20.05471427,\n       21.76369502, 19.83457907, 19.44535035, 19.45201395, 19.70370929,\n       18.99166024, 22.83853207, 20.74154434, 22.21812064, 20.2269319 ,\n       19.61786739, 20.49617111, 20.49504694, 21.55707567, 19.33796592,\n       20.78474107, 21.31782992, 17.22606405, 21.18864559, 18.95861502,\n       20.23586231, 18.76650626, 22.81121239, 21.33990871, 21.62983684,\n       19.90709751, 21.52029879, 20.03082606, 20.28122938, 20.72270082,\n       19.96904216, 19.98111849, 22.3861522 , 20.71156952, 19.64620359,\n       18.99637694, 18.91406682, 22.3046031 , 19.91413399, 21.92572574,\n       18.63514418, 20.17164472, 19.19362161, 19.22419485, 21.24860978,\n       18.98153384, 19.89587404, 21.95634992, 18.71996697, 19.22021298,\n       18.44968469, 20.33997067, 28.03240169, 20.8589781 , 21.41655943,\n       22.01892991, 19.61718584, 18.6860046 , 21.09242423, 17.43958743,\n       22.90572578, 19.93588442, 22.1339725 , 21.95986118, 19.28248668,\n       20.30547287, 19.23929318, 19.38263458, 20.32672572, 19.2803562 ,\n       20.27329933, 19.63874347, 21.25165345, 23.49530915, 21.44243228,\n       19.67359548, 19.27039345, 17.06474276, 20.68836387, 20.35786016,\n       19.35334716, 18.96642096, 20.94654009, 24.60300819, 17.80264889,\n       20.40105241, 20.88520407, 20.65909874, 18.66749967, 20.40864176,\n       23.38846052, 19.93570317, 19.9939915 , 23.10387574, 23.48044262,\n       22.27588692, 20.5454123 , 21.97107303, 18.8063734 , 19.34612413,\n       19.41354529, 18.82852701, 21.66320193, 18.57344379, 21.7300567 ,\n       22.29194408, 19.20922488, 17.82092685, 19.21271723, 19.19895814,\n       19.27020634, 19.95220375, 22.19157886, 21.12122047, 18.66639046,\n       20.43635877, 20.45373483, 19.27425301, 20.12734576, 24.85310544,\n       19.77715256, 20.34615227, 20.10614884, 22.25805932, 22.44305609,\n       20.1032814 , 19.60789015, 19.86563209, 21.78187034, 19.40023946,\n       19.4163316 , 19.68770886, 20.8132833 , 20.17443932, 22.37284939,\n       23.31415476, 18.15619667, 24.68081411, 20.04193983, 21.63254132,\n       23.18144286, 19.43936828, 19.0309338 , 19.73415886, 20.56137372,\n       19.89342597, 18.40198361, 23.09880188, 20.64266784, 19.62818741,\n       19.64853489, 19.27488315, 20.82670287, 20.18397212, 20.11936672,\n       21.8508625 , 19.90483304, 22.92038939, 20.24793215, 19.96280001,\n       21.43386098, 19.65059075, 20.94199109, 18.9616023 , 17.30760107,\n       16.97997218, 21.83573124, 20.61336053, 16.81182622, 19.70716194,\n       19.45323647, 21.05987451, 20.3785584 , 20.2956277 , 21.27108169,\n       19.4259555 , 18.50664075, 19.2069285 , 18.5649384 , 21.51858401,\n       21.66547905, 19.51765593, 18.22458113, 23.12713208, 22.23246221,\n       20.16297271, 19.11213912, 19.62776898, 18.82370931, 19.04829365,\n       20.94146247, 17.46583739, 21.39067122, 21.57964096, 19.09593008,\n       23.60342328, 21.40089455, 21.91320133, 19.55007788, 20.00823985,\n       16.38211737, 18.89945134, 21.80764854, 20.37936779, 18.68633296,\n       20.79432305, 20.23281789, 20.7776422 , 20.69546875, 20.53724684,\n       22.6686024 , 20.1675823 , 20.7987178 , 25.5211835 , 20.00592055,\n       20.99708574, 19.76331775, 20.51559686, 22.22603405, 21.37080711,\n       20.17442956, 22.18171158, 19.56373253, 21.26804964, 20.92793417,\n       21.28688597, 19.14284248, 21.19703307, 22.94313577, 17.81038335,\n       19.69979271, 19.54478713, 19.3580738 , 18.72252489, 20.06081861,\n       20.44504213, 20.04417396, 20.0587343 , 21.78838579, 17.76186933,\n       19.25009482, 18.62803252, 19.35211888, 18.10537145, 22.63729749,\n       20.09947624, 19.20437771, 18.77934745, 20.424357  , 20.27622439,\n       20.35702895, 21.06121559, 18.91123105, 21.60248276, 20.51237687,\n       23.16452674, 19.24226932, 25.56170214, 20.77956387, 23.06449165,\n       20.0978701 , 19.96784964, 18.74602548, 19.00419852, 17.74249366,\n       22.78146698, 23.50481693, 20.86240883, 21.67350059, 21.00683352,\n       19.06051123, 20.91563944, 19.76959252, 19.57884623, 19.75669313,\n       19.98652537, 21.55721967, 21.43575927, 21.78031188, 19.36583543,\n       20.54735303, 19.51034502, 20.84869094, 20.91577947, 24.53639029,\n       19.75861361, 19.51047638, 20.64587124, 18.9169291 , 16.91857212,\n       19.29683109, 22.65756684, 19.46903362, 20.69964107, 19.82876717,\n       23.79729531, 20.69259167, 18.79978437, 20.02408319, 21.40772573,\n       19.38519887, 23.29716257, 21.3536616 , 21.85196973, 21.31273231,\n       19.1373239 , 20.35696772, 20.73725312, 18.19363123, 19.88568893,\n       19.79107225, 23.93342854, 22.89119315, 19.39574958, 20.0737807 ,\n       19.7253829 , 19.39736337, 20.4920693 , 22.59423051, 21.20879816,\n       19.73469308, 23.42021327, 22.09537674, 19.10593919, 18.60912462,\n       18.40578016, 18.32824541, 20.702012  , 19.33800075, 24.76194732,\n       20.44094924, 19.72022087, 18.43497023, 20.21550219, 18.95340644,\n       17.25967891, 19.79195139, 20.36061993, 20.45681561, 17.79965475,\n       18.7346104 , 19.67092071, 20.48926293, 23.60171288, 19.29299334,\n       21.95329062, 19.1382993 , 22.22070984, 19.23969408, 21.45314803,\n       20.94243289, 18.53952992, 19.88380372, 21.47710011, 19.26276471,\n       19.65114106, 20.15072656, 19.59685218, 20.00265709, 19.34343081,\n       19.54942935, 18.34345033, 19.89401542, 19.1649732 , 19.29763279,\n       20.89918947, 22.0366948 , 23.92624142, 19.78064869, 18.74999706,\n       21.24894963, 19.03831888, 22.95938506, 17.76911466, 20.95455559,\n       19.07435317, 19.5044563 , 22.6966541 , 22.75816485, 19.89521137,\n       21.89420569, 20.2961354 , 18.32619685, 20.20526587, 25.0705962 ,\n       20.79118118, 22.9795105 , 17.9275928 , 17.38967335, 19.40998337,\n       20.3074521 , 19.96431548, 21.25074195, 21.96973431, 18.886548  ,\n       20.04064424, 20.55832728, 20.26407143, 20.93155991, 19.82286798,\n       20.77401808, 25.23622008, 20.05781197, 23.81895278, 23.89198316,\n       20.14832886, 23.12768913, 19.45016413, 19.79723405, 20.58303042,\n       24.1219987 , 22.06073485, 19.11044763, 21.73777547, 19.01753974,\n       20.29537659, 18.4381827 , 23.71434856, 20.72136208, 19.95989867,\n       20.18183651, 21.02075144, 18.35770663, 19.02838364, 19.40863865,\n       20.37211793, 21.90463315, 24.05320594, 22.01682257, 19.17839496,\n       22.70960847, 21.8435615 , 17.62399577, 18.51297574, 18.98912282,\n       21.79748066, 23.24392327, 21.99576232, 21.14339007, 22.39077091,\n       19.68700141, 19.28637727, 20.98889614, 19.3433549 , 21.0856488 ,\n       18.35414175, 19.945581  , 18.94455194, 20.83646803, 20.60718581,\n       20.45118495, 19.42738651, 21.45019938, 23.22479513, 20.42551507,\n       22.69660401, 19.5378478 , 20.54238673, 19.30909661, 20.34710984,\n       20.90866088, 18.2802633 , 20.12599356, 19.19999338, 17.68526894,\n       22.71323022, 19.23099846, 20.40099614, 21.08578234, 19.21841188,\n       23.93177973, 19.59341666, 20.8565889 , 19.85484404, 25.53088586,\n       22.44798721, 20.65344428, 20.82549377, 20.55255278, 20.76880462,\n       19.38951161, 24.63375245, 19.86307917, 19.46530134, 20.10541493,\n       19.31251297, 20.40296   , 21.75534483, 18.39331923, 19.26548457,\n       17.71748901, 19.72760641, 19.38319802, 19.10148588, 21.92142003,\n       18.82539051, 18.79858887, 19.04643662, 19.99044472, 19.72641941,\n       19.97789338, 20.34132553, 21.3271343 , 24.1155222 , 21.50381264,\n       19.28704498, 20.10957691, 22.1190893 , 18.72006052, 16.62791856,\n       18.87372947, 19.2133226 , 22.6507783 , 21.00440908, 18.84989984,\n       18.72587214, 21.27956921, 20.39461237, 23.01791416, 22.46846943,\n       22.04504438, 19.61380565, 19.00015134, 19.19986402, 22.04460157,\n       22.60087591, 18.88179508, 19.18490197, 16.34772517, 18.75491685,\n       18.86770707, 20.92231944, 22.33904505, 17.56494584, 18.01301728,\n       18.58456253, 18.31795575, 20.08232449, 23.91670965, 18.32685516,\n       18.53075304, 19.81377963, 20.38753777, 20.83055544, 22.185321  ,\n       19.47313693, 19.72876587, 22.35025211, 18.95694045, 20.89054781,\n       22.05980125, 18.36447668, 19.30412401, 21.01925136, 19.04336911,\n       23.80753987, 19.30980494, 19.02304771, 20.67873767, 23.63774777,\n       17.61201176, 20.93513483, 18.65962664, 18.90953862, 18.82499602,\n       20.88659414, 18.95830632, 17.45376898, 20.18664262, 19.34160134,\n       21.99607277, 18.8189909 , 21.68197398, 19.7359906 , 23.07164877,\n       19.22967316, 23.51836645, 17.35014498, 18.90112027, 19.39283727,\n       19.02439301, 18.91517039, 18.36130128, 17.7067658 , 18.05798115,\n       19.61697414, 21.79418103, 22.80709211, 20.40351971, 20.46876224,\n       19.39080921, 19.35596614, 19.12262834, 23.07146073, 19.70668824,\n       19.47678773, 19.36548518, 20.86018979, 18.93225513, 21.47969097,\n       20.20753868, 22.52006807, 19.6215225 , 19.64867882, 20.25187994,\n       23.05903116, 18.66511034, 24.16796766, 17.87221795, 19.10146023,\n       20.9585251 , 18.10270877, 21.71478926, 18.81992335, 18.84571668,\n       19.06547925, 19.73170849, 20.0168654 , 19.38210682, 24.95204188,\n       20.12925031, 22.45268113, 23.24712857, 22.60180071, 20.99348851,\n       26.15879659, 23.37182316, 18.26050611, 19.76916956, 24.4945317 ,\n       24.55235542, 19.57930857, 19.46810693, 24.56122157, 23.08517694,\n       21.24075989, 22.96882093, 22.33064175, 20.98277011, 19.42780183,\n       21.52620454, 19.35319853, 20.32221645, 18.85550422, 19.06459016,\n       21.86411434, 19.6152776 , 20.2675731 , 22.71589854, 21.93423581,\n       21.44414439, 22.12026636, 21.42541467, 22.06623277, 20.46511796,\n       18.58226697, 21.47673236, 22.352658  , 20.18341973, 20.26755025,\n       18.59713253, 21.66365104, 19.25181061, 19.30704957, 19.59338383,\n       20.639187  , 17.43489695, 21.76715274, 19.71583802, 23.35546886,\n       19.30759217, 22.01714789, 19.02578842, 22.06585753, 19.58110126,\n       19.35063493, 19.591568  , 20.62625892, 19.11091145, 20.56873827,\n       21.61066713, 18.75650746, 21.30993037, 18.96163339, 22.44595119,\n       24.08952564, 20.96396357, 25.67756046, 23.6058178 , 19.25772161,\n       21.61088651, 19.12616249, 19.58027329, 21.30550571, 19.55895128,\n       19.08955652, 20.8166298 , 20.33106235, 25.71617528, 18.74741284,\n       20.55860475, 20.69532941, 18.28774394, 20.14985625, 19.17999168,\n       24.72354315, 17.88341295, 20.269363  , 22.32447147, 19.38217649,\n       19.1855409 , 19.36994021, 18.78918019, 18.88799105, 19.64631963,\n       19.09678206, 23.24500425, 19.61207477, 19.94020318, 21.2003838 ,\n       22.3509648 , 18.82600842, 22.75348262, 20.0278871 , 20.69572956,\n       21.55980511, 20.16165351, 21.97968301, 18.83101028, 20.10560292,\n       20.77907167, 20.94805918, 20.72961908, 18.83071016, 19.4698584 ,\n       21.00803326, 17.97834737, 19.31546581, 19.68406028, 18.10778409,\n       20.52822039, 19.64321677, 19.43843248, 19.52976224, 20.50626593,\n       21.30235612, 19.86156554, 18.74474188, 20.22392981, 22.80102684,\n       21.78186834, 19.90331112, 20.19986521, 18.90600684, 20.97544148,\n       20.02205078, 19.04880613, 19.26890745, 21.91543849, 19.66451673,\n       22.36810836, 19.04671903, 24.66504825, 19.71857468, 19.37232733,\n       19.62032186, 19.08753277, 22.33377611, 22.00108618, 23.13426493,\n       18.99587754, 19.79661477, 21.62676824, 21.14570146, 21.66408091,\n       20.14626412, 18.69160041, 20.32751646, 21.10250567, 20.74850326,\n       19.66793619, 19.85911312, 22.3497623 , 25.06541424, 20.42383095,\n       19.79878028, 18.21891793, 19.1433583 , 19.37874148, 18.14688684,\n       19.42661284, 20.30291777, 19.99399565, 20.10263061, 21.75028704,\n       19.55854216, 20.49690155, 19.70740295, 18.12942893, 17.77545596,\n       20.72077364, 19.61861671, 19.66503572, 20.01169135, 21.4896858 ,\n       18.41233488, 19.98543895, 19.79830092, 20.02120366, 22.03825323,\n       18.13452659, 20.15450911, 18.49440248, 20.63692371, 20.64056799,\n       21.56120776, 23.50008936, 19.28063033, 19.72068014, 20.03658146,\n       19.23957755, 19.18159148, 18.36512203, 22.34354304, 19.45149487,\n       22.20071276, 19.69324021, 20.62091067, 19.75237901, 20.87117355,\n       17.92356542, 19.9055912 , 23.82456171, 20.1729353 , 19.53025391,\n       18.10157564, 20.44585245, 20.04105751, 25.36452677, 18.10715065])"
     },
     "execution_count": 766,
     "metadata": {},
     "output_type": "execute_result"
    }
   ],
   "source": [
    "y_test\n"
   ],
   "metadata": {
    "collapsed": false,
    "pycharm": {
     "name": "#%%\n"
    }
   }
  },
  {
   "cell_type": "code",
   "execution_count": 767,
   "outputs": [
    {
     "data": {
      "text/plain": "array([ 2.07762451e+01,  2.06024170e+01,  2.11503906e+01,  2.08858643e+01,\n        2.04355469e+01,  2.05830078e+01,  2.05463867e+01,  2.03375244e+01,\n        1.97518311e+01,  2.05396729e+01,  2.00405273e+01,  2.03865967e+01,\n        2.00142822e+01,  2.03854980e+01,  2.03990479e+01,  2.02713623e+01,\n        2.03867188e+01,  2.06707764e+01,  2.07539062e+01,  2.04362793e+01,\n        2.03424072e+01,  2.04608154e+01,  2.06179199e+01, -1.15973013e+11,\n        2.05751953e+01,  2.04744873e+01,  2.04405518e+01,  2.05522461e+01,\n        2.06147461e+01,  2.05736084e+01,  2.14114990e+01, -1.81773450e+11,\n        2.03925781e+01,  2.04083252e+01,  2.04450684e+01,  2.07386475e+01,\n        2.05755615e+01,  2.02708740e+01,  2.03547363e+01,  2.03604736e+01,\n        2.03471680e+01,  2.03952637e+01,  2.03814697e+01,  2.02669678e+01,\n        2.03955078e+01,  2.04667969e+01,  2.03338623e+01,  2.02644043e+01,\n        1.97445068e+01,  2.03372803e+01,  2.03786621e+01,  2.05424805e+01,\n        2.07030029e+01,  2.05172119e+01,  2.05354004e+01,  2.03825684e+01,\n        2.03913574e+01,  2.04970703e+01,  2.05130615e+01,  2.00229492e+01,\n        2.03881836e+01,  2.02572021e+01,  2.02937012e+01,  2.01518555e+01,\n        2.02830811e+01,  2.05234375e+01,  2.06678467e+01,  2.04222412e+01,\n        2.03674316e+01,  2.03792725e+01,  2.05471191e+01,  2.03767090e+01,\n        2.03874512e+01,  2.03808594e+01,  2.03892822e+01,  2.02683105e+01,\n        2.06110840e+01,  1.96770020e+01,  2.03872070e+01,  1.92293701e+01,\n        2.03510742e+01,  2.00590820e+01,  2.04016113e+01,  1.97899170e+01,\n        1.95777588e+01,  2.06730957e+01,  2.06787109e+01,  2.03134766e+01,\n        2.06483154e+01,  2.05332031e+01,  2.02585449e+01,  2.03793945e+01,\n        2.02762451e+01,  2.03818359e+01,  2.05439453e+01,  2.04492188e+01,\n        2.06704102e+01,  2.06340332e+01,  2.03044434e+01,  2.04860840e+01,\n        2.02257080e+01,  2.07846680e+01,  2.02581787e+01,  2.07792969e+01,\n        2.07799072e+01,  2.01168213e+01,  2.04500732e+01,  2.03431396e+01,\n        2.03356934e+01,  2.05712891e+01,  2.03845215e+01,  2.03856201e+01,\n        2.05070801e+01,  2.05139160e+01,  2.05570068e+01,  2.04396973e+01,\n        2.03851318e+01,  2.03135986e+01,  2.05323486e+01,  2.05322266e+01,\n        2.05179443e+01,  2.05671387e+01,  2.03485107e+01,  1.92365723e+01,\n        2.00191650e+01,  2.05164795e+01,  2.05177002e+01,  2.00832520e+01,\n        2.05300293e+01,  2.05755615e+01,  2.03223877e+01,  2.04591064e+01,\n        2.05451660e+01,  2.05534668e+01,  2.06274414e+01,  1.93728027e+01,\n        2.06164551e+01,  2.05563965e+01,  2.03063965e+01,  2.02583008e+01,\n        2.03055420e+01,  2.04117432e+01,  2.03886719e+01,  2.05231934e+01,\n        2.07852783e+01,  2.09686279e+01,  2.06676025e+01,  2.03068848e+01,\n        2.02049561e+01,  2.01987305e+01,  2.07835693e+01,  2.04586182e+01,\n        2.06466064e+01,  2.04289551e+01,  2.06147461e+01,  1.99794922e+01,\n        2.07752686e+01,  2.04682617e+01,  2.04753418e+01,  2.03073730e+01,\n        2.04188232e+01,  2.04399414e+01,  2.03929443e+01,  1.99726562e+01,\n        2.01085205e+01,  2.02662354e+01,  1.99754639e+01,  2.04135742e+01,\n        2.06993408e+01,  2.06018066e+01,  2.03012695e+01,  2.02689209e+01,\n        2.05590820e+01,  2.07897949e+01,  2.05488281e+01,  2.08234863e+01,\n        2.06724854e+01,  2.06035156e+01,  2.00468750e+01,  2.04365234e+01,\n        2.04514160e+01,  2.04456787e+01,  2.03187256e+01,  2.04392090e+01,\n        2.04409180e+01,  2.04531250e+01,  2.08697510e+01,  2.00305176e+01,\n        2.05405273e+01,  2.05859375e+01,  2.06835938e+01,  2.01606445e+01,\n        2.05795898e+01,  2.01887207e+01,  2.02885742e+01,  2.06406250e+01,\n        2.05429688e+01,  2.02774658e+01,  2.03273926e+01,  2.03424072e+01,\n        2.03393555e+01,  2.05999756e+01,  2.07003174e+01,  2.08896484e+01,\n        2.04417725e+01,  2.06896973e+01,  2.05742188e+01,  2.05383301e+01,\n        2.00905762e+01,  2.04992676e+01,  2.05781250e+01,  2.02902832e+01,\n        2.03399658e+01,  2.03466797e+01,  2.06274414e+01,  2.15023193e+01,\n        2.05615234e+01,  2.02766113e+01,  2.00899658e+01,  2.05739746e+01,\n        2.06860352e+01,  2.06625977e+01,  2.06748047e+01,  2.06916504e+01,\n        2.03564453e+01,  2.02755127e+01,  2.07860107e+01,  2.03404541e+01,\n        2.04697266e+01,  2.08747559e+01,  2.05070801e+01,  2.03428955e+01,\n        2.00961914e+01,  2.06029053e+01,  2.05828857e+01,  2.06208496e+01,\n        2.06793213e+01,  2.09759521e+01,  2.03850098e+01,  2.01130371e+01,\n        2.09121094e+01,  2.09686279e+01,  2.10174561e+01,  2.05910645e+01,\n        2.05424805e+01,  2.05532227e+01,  2.06711426e+01,  2.05607910e+01,\n        2.09683838e+01,  2.04113770e+01,  2.03887939e+01,  2.05063477e+01,\n        2.07135010e+01,  2.02474365e+01,  2.05820312e+01,  2.04907227e+01,\n        2.05051270e+01,  2.07119141e+01,  2.05600586e+01,  2.00837402e+01,\n        2.06799316e+01,  2.06811523e+01,  2.06357422e+01,  2.09887695e+01,\n        2.03529053e+01,  2.06257324e+01,  2.02275391e+01,  2.04704590e+01,\n        2.04061279e+01,  2.05263672e+01,  2.03933105e+01,  2.07432861e+01,\n        2.11760254e+01,  2.03316650e+01,  2.06539307e+01,  2.03261719e+01,\n        2.04058838e+01,  2.05687256e+01,  2.01163330e+01,  2.05665283e+01,\n        2.10919189e+01,  2.05522461e+01,  2.04389648e+01,  2.07182617e+01,\n        2.06673584e+01,  2.04477539e+01,  2.03249512e+01,  2.05284424e+01,\n        2.04395752e+01,  2.03897705e+01,  2.06125488e+01,  2.03519287e+01,\n        2.02922363e+01,  2.05458984e+01,  2.07908936e+01,  2.06798096e+01,\n        2.06699219e+01,  2.04420166e+01,  2.05454102e+01,  2.03103027e+01,\n        2.07750244e+01,  2.03735352e+01,  2.05111084e+01,  2.07019043e+01,\n        2.03039551e+01,  2.03934326e+01,  2.06264648e+01,  2.01613770e+01,\n        2.00351562e+01,  2.06180420e+01, -1.15973013e+11,  2.03151855e+01,\n        2.03208008e+01,  2.08973389e+01,  2.05356445e+01,  2.07735596e+01,\n        2.02254639e+01,  1.97392578e+01,  2.31925049e+01,  2.13034668e+01,\n        2.13851318e+01,  2.13336182e+01,  2.10819092e+01,  2.01079102e+01,\n        2.00684814e+01,  2.05114746e+01,  2.02756348e+01,  2.04047852e+01,\n        2.04359131e+01,  2.04217529e+01,  2.04792480e+01,  2.02471924e+01,\n        2.02673340e+01,  2.05632324e+01,  2.06437988e+01,  2.06550293e+01,\n        2.02990723e+01,  2.03702393e+01,  2.06632080e+01,  2.03675537e+01,\n        2.02657471e+01,  1.99693604e+01,  1.97601318e+01,  2.00241699e+01,\n        2.03546143e+01,  2.03231201e+01,  2.03669434e+01,  2.03048096e+01,\n        2.09840088e+01,  2.04395752e+01,  2.03979492e+01,  2.02541504e+01,\n        2.06298828e+01,  2.04403076e+01,  2.03843994e+01, -1.15973013e+11,\n        2.18388672e+01,  2.04721680e+01,  2.00897217e+01,  2.05723877e+01,\n        2.02255859e+01,  2.10161133e+01,  2.01746826e+01,  2.05111084e+01,\n        2.06320801e+01,  2.03437500e+01,  2.03885498e+01,  2.03782959e+01,\n        2.03945312e+01,  2.05177002e+01,  2.01518555e+01,  2.05229492e+01,\n        2.05183105e+01,  2.06166992e+01,  1.98044434e+01,  2.05015869e+01,\n        2.02290039e+01,  2.04923096e+01,  2.07823486e+01,  2.01147461e+01,\n        2.04904785e+01,  2.03898926e+01,  2.04211426e+01,  2.05678711e+01,\n        2.04079590e+01,  2.04925537e+01,  1.99947510e+01,  2.05783691e+01,\n        2.04587402e+01,  2.04190674e+01,  2.03966064e+01,  2.02147217e+01,\n        2.03923340e+01,  2.01264648e+01,  2.03745117e+01,  2.05975342e+01,\n        2.03916016e+01,  2.02618408e+01,  2.04051514e+01,  2.02766113e+01,\n        2.05721436e+01,  2.03344727e+01,  2.08894043e+01,  2.05378418e+01,\n        2.03990479e+01,  2.05480957e+01,  2.03936768e+01,  2.02756348e+01,\n        2.06232910e+01,  2.03214111e+01,  2.03041992e+01,  2.02669678e+01,\n        2.02766113e+01,  2.03894043e+01,  2.06123047e+01,  2.02648926e+01,\n        2.03833008e+01,  2.02740479e+01,  2.04429932e+01,  2.03229980e+01,\n        1.93867188e+01,  1.98625488e+01,  2.06057129e+01,  2.02935791e+01,\n        2.05269775e+01,  2.05478516e+01,  2.06319580e+01,  2.05947266e+01,\n        2.02175293e+01,  2.04464111e+01,  2.06774902e+01,  2.03824463e+01,\n        2.02041016e+01,  2.05850830e+01,  2.05476074e+01,  2.04511719e+01,\n        2.07080078e+01,  2.04759521e+01,  2.04350586e+01,  2.06337891e+01,\n        2.06118164e+01,  2.07363281e+01,  2.06157227e+01,  2.06169434e+01,\n        2.01269531e+01,  2.03701172e+01,  2.06140137e+01,  2.04974365e+01,\n        2.04349365e+01,  2.03367920e+01,  2.06105957e+01,  2.03217773e+01,\n        2.04693604e+01,  2.06198730e+01,  2.05578613e+01,  2.06165771e+01,\n        2.05153809e+01,  2.06268311e+01,  2.05687256e+01,  2.05142822e+01,\n        2.10200195e+01,  2.03747559e+01,  1.97011719e+01,  2.05638428e+01,\n        2.03360596e+01,  2.03842773e+01,  2.01613770e+01,  2.06795654e+01,\n        2.07767334e+01,  2.03218994e+01,  1.96835938e+01,  2.06231689e+01,\n        2.03387451e+01,  1.95383301e+01,  2.10866699e+01,  2.06250000e+01,\n        2.02534180e+01,  2.06118164e+01,  2.05726318e+01,  2.03864746e+01,\n        2.05096436e+01,  2.01181641e+01,  2.02637939e+01,  1.94433594e+01,\n        2.01171875e+01,  2.03269043e+01,  2.03963623e+01,  2.16254883e+01,\n        2.08005371e+01,  1.99133301e+01,  2.02280273e+01,  2.04219971e+01,\n        2.11810303e+01,  1.88414307e+01,  2.00932617e+01,  2.04417725e+01,\n        2.05317383e+01,  2.04023438e+01,  2.04652100e+01,  1.95123291e+01,\n        2.02463379e+01,  2.02203369e+01,  1.99760742e+01,  2.05356445e+01,\n        2.02548828e+01,  2.03818359e+01,  2.08326416e+01,  2.07413330e+01,\n        2.10981445e+01,  2.04281006e+01,  2.08271484e+01,  2.03022461e+01,\n        2.09925537e+01,  2.01813965e+01,  2.01162109e+01,  2.02783203e+01,\n        2.03867188e+01,  2.05089111e+01,  2.03713379e+01,  2.17749023e+01,\n        2.04158936e+01,  2.06467285e+01,  2.06831055e+01,  2.02866211e+01,\n        2.04455566e+01,  2.01750488e+01,  2.00308838e+01,  2.04034424e+01,\n        2.03802490e+01,  2.04877930e+01,  2.01225586e+01,  2.03916016e+01,\n        2.02751465e+01,  2.06817627e+01,  2.00450439e+01,  2.06257324e+01,\n        2.00926514e+01,  2.00108643e+01,  2.01052246e+01,  2.03448486e+01,\n        2.02719727e+01,  2.05755615e+01,  2.04891357e+01,  2.03830566e+01,\n        2.17973633e+01,  1.91895752e+01,  2.11739502e+01,  2.07016602e+01,\n        2.03757324e+01,  2.05056152e+01,  2.06546631e+01,  2.04946289e+01,\n        2.03641357e+01,  2.03808594e+01,  1.97395020e+01,  2.07214355e+01,\n        2.04926758e+01,  2.03707275e+01,  2.07089844e+01,  2.05051270e+01,\n        2.01068115e+01,  2.06042480e+01,  2.02795410e+01,  2.06376953e+01,\n        2.04091797e+01,  2.04926758e+01,  2.06859131e+01,  2.03562012e+01,\n        2.03997803e+01,  2.05860596e+01,  2.04729004e+01,  2.03657227e+01,\n        2.02755127e+01,  2.03439941e+01,  2.02778320e+01,  2.03892822e+01,\n        2.03858643e+01,  2.04039307e+01,  2.05651855e+01,  2.05507812e+01,\n        2.03310547e+01,  2.06451416e+01,  2.06328125e+01,  2.02615967e+01,\n        2.07840576e+01,  2.04588623e+01,  2.02818604e+01,  2.06037598e+01,\n        2.04448242e+01,  2.02856445e+01,  2.03267822e+01,  2.06165771e+01,\n        2.07886963e+01,  2.06878662e+01,  2.04693604e+01,  2.04218750e+01,\n        2.03759766e+01,  2.05229492e+01,  2.04183350e+01,  2.03278809e+01,\n        2.04522705e+01,  2.06646729e+01,  2.04512939e+01,  2.03913574e+01,\n        2.08016357e+01,  2.03612061e+01,  2.09399414e+01,  2.10987549e+01,\n        2.04179688e+01,  2.02124023e+01,  2.03806152e+01,  2.05974121e+01,\n        2.02082520e+01,  2.07934570e+01,  2.05313721e+01,  2.01331787e+01,\n        2.04443359e+01,  2.01213379e+01,  2.10151367e+01,  2.04576416e+01,\n        2.03173828e+01,  2.02158203e+01,  2.02661133e+01,  2.04971924e+01,\n        2.06772461e+01,  2.03935547e+01,  2.03535156e+01,  2.02397461e+01,\n        2.04990234e+01,  2.03046875e+01,  1.93391113e+01,  2.03122559e+01,\n        2.04936523e+01, -1.15973013e+11,  2.02666016e+01,  2.02573242e+01,\n        2.04099121e+01,  1.99124756e+01,  1.95827637e+01,  2.03107910e+01,\n        2.11213379e+01,  2.05438232e+01,  2.03288574e+01,  2.01837158e+01,\n        2.06999512e+01,  2.06481934e+01,  2.04499512e+01,  2.02897949e+01,\n        2.01484375e+01,  2.02447510e+01,  2.03603516e+01,  1.99628906e+01,\n        2.06246338e+01,  2.06317139e+01,  2.07302246e+01,  2.03765869e+01,\n        2.04777832e+01,  1.99309082e+01, -1.15973013e+11,  2.04208984e+01,\n        2.04163818e+01,  2.05743408e+01,  2.00153809e+01,  2.03924561e+01,\n        2.01225586e+01,  2.05162354e+01,  2.00811768e+01,  2.10212402e+01,\n        2.05531006e+01,  2.00118408e+01,  2.03778076e+01,  2.05368652e+01,\n        2.02387695e+01,  2.04467773e+01,  2.03948975e+01,  2.02241211e+01,\n        2.02937012e+01,  2.07275391e+01,  2.01633301e+01,  2.07324219e+01,\n        1.97731934e+01,  2.04912109e+01,  2.03924561e+01,  2.03867188e+01,\n        2.05458984e+01,  2.13743896e+01,  1.95450439e+01,  2.03594971e+01,\n        2.01413574e+01,  2.02465820e+01,  2.04017334e+01,  2.12647705e+01,\n        2.01585693e+01,  2.03964844e+01,  2.04213867e+01,  1.99846191e+01,\n        2.04061279e+01,  2.02305908e+01,  2.06904297e+01,  1.91877441e+01,\n        2.00842285e+01,  2.03240967e+01,  2.03389893e+01,  2.02642822e+01,\n        2.03758545e+01,  2.06815186e+01,  2.04749756e+01,  2.06740723e+01,\n        2.06791992e+01,  2.04589844e+01,  2.04824219e+01,  2.04672852e+01,\n        2.05729980e+01,  2.05822754e+01,  2.02976074e+01,  2.04400635e+01,\n        1.95822754e+01,  2.03397217e+01,  2.07475586e+01,  2.07796631e+01,\n        2.08944092e+01,  2.04489746e+01,  2.03536377e+01,  2.01810303e+01,\n        2.02830811e+01,  2.06220703e+01,  2.06354980e+01,  2.06208496e+01,\n        2.10026855e+01,  2.06901855e+01,  2.07183838e+01,  2.04122314e+01,\n        2.06828613e+01,  2.04553223e+01,  2.01588135e+01,  2.03842773e+01,\n        2.04498291e+01,  2.03497314e+01,  2.05959473e+01,  2.05625000e+01,\n        2.05402832e+01,  2.04403076e+01,  2.03972168e+01, -1.15973013e+11,\n        2.02017822e+01,  2.04951172e+01,  1.95478516e+01,  2.04134521e+01,\n        2.00091553e+01,  2.05578613e+01,  2.03851318e+01,  2.02850342e+01,\n        2.02645264e+01,  2.03862305e+01,  2.05562744e+01,  1.94062500e+01,\n        2.04946289e+01,  2.04438477e+01,  2.04399414e+01,  2.04562988e+01,\n        2.06595459e+01,  2.07641602e+01,  2.04089355e+01,  2.09815674e+01,\n        2.09947510e+01,  2.04993896e+01,  2.03261719e+01,  2.04075928e+01,\n        2.02360840e+01,  2.05786133e+01,  2.05502930e+01,  2.05476074e+01,\n        2.05689697e+01,  2.05502930e+01,  2.05505371e+01,  2.05344238e+01,\n        2.06833496e+01,  2.03232422e+01,  2.03950195e+01,  2.05754395e+01,\n        1.99343262e+01,  2.03116455e+01,  2.02659912e+01,  2.07049561e+01,\n        2.14012451e+01,  2.05450439e+01,  2.07202148e+01,  2.05546875e+01,\n        2.06557617e+01,  2.05697021e+01,  2.06164551e+01,  2.07833252e+01,\n        2.06242676e+01,  2.07497559e+01,  2.00560303e+01,  2.02667236e+01,\n        2.04682617e+01,  2.03063965e+01,  2.03612061e+01,  2.08764648e+01,\n        2.03767090e+01,  2.06623535e+01,  2.07869873e+01,  2.05722656e+01,\n        2.09809570e+01,  2.03536377e+01,  2.03718262e+01,  2.04775391e+01,\n        2.09976807e+01,  2.04707031e+01,  2.04689941e+01,  2.09257812e+01,\n        2.02139893e+01,  1.99733887e+01,  2.03123779e+01,  2.04685059e+01,\n        2.04713135e+01,  2.03638916e+01,  2.03646240e+01,  2.04750977e+01,\n        2.05246582e+01,  2.06008301e+01,  2.00740967e+01,  2.06845703e+01,\n        2.06833496e+01,  2.03133545e+01,  2.03963623e+01,  2.08060303e+01,\n        2.04798584e+01,  2.09321289e+01,  2.18314209e+01,  2.02935791e+01,\n        2.09732666e+01,  2.07980957e+01,  2.09095459e+01,  2.04293213e+01,\n        2.06179199e+01,  2.01922607e+01,  2.03269043e+01,  2.07226562e+01,\n        2.04526367e+01,  2.04752197e+01,  2.03325195e+01,  2.00943604e+01,\n        2.05705566e+01,  2.03920898e+01,  2.03160400e+01,  2.03657227e+01,\n        2.04382324e+01,  2.05159912e+01,  2.02391357e+01,  1.87946777e+01,\n        2.03889160e+01,  2.03262939e+01,  2.06109619e+01,  2.06246338e+01,\n        2.04675293e+01,  2.03942871e+01,  2.05531006e+01,  2.03492432e+01,\n        2.05484619e+01,  2.09810791e+01,  1.97297363e+01,  2.02612305e+01,\n        2.05476074e+01,  2.06162109e+01,  2.05085449e+01,  2.03194580e+01,\n        2.05168457e+01,  2.04020996e+01,  2.10855713e+01,  2.06816406e+01,\n        2.07314453e+01,  2.08470459e+01,  2.06154785e+01,  2.03750000e+01,\n        2.00797119e+01,  2.05220947e+01,  2.05234375e+01,  2.03135986e+01,\n        2.03447266e+01,  2.08218994e+01,  2.04368896e+01,  2.04809570e+01,\n        2.08392334e+01,  2.02770996e+01,  2.06407471e+01,  2.05272217e+01,\n        2.05252686e+01,  2.06903076e+01,  2.04714355e+01,  2.05498047e+01,\n        2.04589844e+01,  2.02696533e+01,  2.04400635e+01,  2.05605469e+01,\n        2.01048584e+01,  2.07226562e+01,  2.04992676e+01,  1.94953613e+01,\n        2.06374512e+01,  2.10856934e+01,  2.05004883e+01,  2.07031250e+01,\n        2.03887939e+01,  2.04162598e+01,  2.02985840e+01,  1.92836914e+01,\n        2.08038330e+01,  2.00678711e+01,  2.13570557e+01,  2.05146484e+01,\n        2.06290283e+01,  2.04860840e+01,  2.03017578e+01,  2.03183594e+01,\n        2.02795410e+01,  2.02655029e+01,  2.16317139e+01,  2.00378418e+01,\n        2.07573242e+01,  2.03437500e+01,  2.05111084e+01,  2.04881592e+01,\n        2.04783936e+01,  2.04619141e+01,  2.10738525e+01,  2.02590332e+01,\n        2.05285645e+01,  2.06674805e+01,  2.04609375e+01,  2.00809326e+01,\n        2.03728027e+01,  2.03830566e+01,  2.07087402e+01,  2.04354248e+01,\n        2.03784180e+01,  2.02862549e+01,  2.05809326e+01,  2.10845947e+01])"
     },
     "execution_count": 767,
     "metadata": {},
     "output_type": "execute_result"
    }
   ],
   "source": [
    "y_pred_lr"
   ],
   "metadata": {
    "collapsed": false,
    "pycharm": {
     "name": "#%%\n"
    }
   }
  },
  {
   "cell_type": "code",
   "execution_count": 768,
   "outputs": [
    {
     "data": {
      "text/plain": "array([20.44439606, 20.44439606, 20.44439606, 20.44439606, 20.44439606,\n       20.44439606, 20.44439606, 20.44439606, 20.44439606, 20.44439606,\n       20.44439606, 20.44439606, 20.44439606, 20.44439606, 20.44439606,\n       20.44439606, 20.44439606, 20.44439606, 20.44439606, 20.44439606,\n       20.44439606, 20.44439606, 20.44439606, 20.44439606, 20.44439606,\n       20.44439606, 20.44439606, 20.44439606, 20.44439606, 20.44439606,\n       20.44439606, 20.44439606, 20.44439606, 20.44439606, 20.44439606,\n       20.44439606, 20.44439606, 20.44439606, 20.44439606, 20.44439606,\n       20.44439606, 20.44439606, 20.44439606, 20.44439606, 20.44439606,\n       20.44439606, 20.44439606, 20.44439606, 20.44439606, 20.44439606,\n       20.44439606, 20.44439606, 20.44439606, 20.44439606, 20.44439606,\n       20.44439606, 20.44439606, 20.44439606, 20.44439606, 20.44439606,\n       20.44439606, 20.44439606, 20.44439606, 20.44439606, 20.44439606,\n       20.44439606, 20.44439606, 20.44439606, 20.44439606, 20.44439606,\n       20.44439606, 20.44439606, 20.44439606, 20.44439606, 20.44439606,\n       20.44439606, 20.44439606, 20.44439606, 20.44439606, 20.44439606,\n       20.44439606, 20.44439606, 20.44439606, 20.44439606, 20.44439606,\n       20.44439606, 20.44439606, 20.44439606, 20.44439606, 20.44439606,\n       20.44439606, 20.44439606, 20.44439606, 20.44439606, 20.44439606,\n       20.44439606, 20.44439606, 20.44439606, 20.44439606, 20.44439606,\n       20.44439606, 20.44439606, 20.44439606, 20.44439606, 20.44439606,\n       20.44439606, 20.44439606, 20.44439606, 20.44439606, 20.44439606,\n       20.44439606, 20.44439606, 20.44439606, 20.44439606, 20.44439606,\n       20.44439606, 20.44439606, 20.44439606, 20.44439606, 20.44439606,\n       20.44439606, 20.44439606, 20.44439606, 20.44439606, 20.44439606,\n       20.44439606, 20.44439606, 20.44439606, 20.44439606, 20.44439606,\n       20.44439606, 20.44439606, 20.44439606, 20.44439606, 20.44439606,\n       20.44439606, 20.44439606, 20.44439606, 20.44439606, 20.44439606,\n       20.44439606, 20.44439606, 20.44439606, 20.44439606, 20.44439606,\n       20.44439606, 20.44439606, 20.44439606, 20.44439606, 20.44439606,\n       20.44439606, 20.44439606, 20.44439606, 20.44439606, 20.44439606,\n       20.44439606, 20.44439606, 20.44439606, 20.44439606, 20.44439606,\n       20.44439606, 20.44439606, 20.44439606, 20.44439606, 20.44439606,\n       20.44439606, 20.44439606, 20.44439606, 20.44439606, 20.44439606,\n       20.44439606, 20.44439606, 20.44439606, 20.44439606, 20.44439606,\n       20.44439606, 20.44439606, 20.44439606, 20.44439606, 20.44439606,\n       20.44439606, 20.44439606, 20.44439606, 20.44439606, 20.44439606,\n       20.44439606, 20.44439606, 20.44439606, 20.44439606, 20.44439606,\n       20.44439606, 20.44439606, 20.44439606, 20.44439606, 20.44439606,\n       20.44439606, 20.44439606, 20.44439606, 20.44439606, 20.44439606,\n       20.44439606, 20.44439606, 20.44439606, 20.44439606, 20.44439606,\n       20.44439606, 20.44439606, 20.44439606, 20.44439606, 20.44439606,\n       20.44439606, 20.44439606, 20.44439606, 20.44439606, 20.44439606,\n       20.44439606, 20.44439606, 20.44439606, 20.44439606, 20.44439606,\n       20.44439606, 20.44439606, 20.44439606, 20.44439606, 20.44439606,\n       20.44439606, 20.44439606, 20.44439606, 20.44439606, 20.44439606,\n       20.44439606, 20.44439606, 20.44439606, 20.44439606, 20.44439606,\n       20.44439606, 20.44439606, 20.44439606, 20.44439606, 20.44439606,\n       20.44439606, 20.44439606, 20.44439606, 20.44439606, 20.44439606,\n       20.44439606, 20.44439606, 20.44439606, 20.44439606, 20.44439606,\n       20.44439606, 20.44439606, 20.44439606, 20.44439606, 20.44439606,\n       20.44439606, 20.44439606, 20.44439606, 20.44439606, 20.44439606,\n       20.44439606, 20.44439606, 20.44439606, 20.44439606, 20.44439606,\n       20.44439606, 20.44439606, 20.44439606, 20.44439606, 20.44439606,\n       20.44439606, 20.44439606, 20.44439606, 20.44439606, 20.44439606,\n       20.44439606, 20.44439606, 20.44439606, 20.44439606, 20.44439606,\n       20.44439606, 20.44439606, 20.44439606, 20.44439606, 20.44439606,\n       20.44439606, 20.44439606, 20.44439606, 20.44439606, 20.44439606,\n       20.44439606, 20.44439606, 20.44439606, 20.44439606, 20.44439606,\n       20.44439606, 20.44439606, 20.44439606, 20.44439606, 20.44439606,\n       20.44439606, 20.44439606, 20.44439606, 20.44439606, 20.44439606,\n       20.44439606, 20.44439606, 20.44439606, 20.44439606, 20.44439606,\n       20.44439606, 20.44439606, 20.44439606, 20.44439606, 20.44439606,\n       20.44439606, 20.44439606, 20.44439606, 20.44439606, 20.44439606,\n       20.44439606, 20.44439606, 20.44439606, 20.44439606, 20.44439606,\n       20.44439606, 20.44439606, 20.44439606, 20.44439606, 20.44439606,\n       20.44439606, 20.44439606, 20.44439606, 20.44439606, 20.44439606,\n       20.44439606, 20.44439606, 20.44439606, 20.44439606, 20.44439606,\n       20.44439606, 20.44439606, 20.44439606, 20.44439606, 20.44439606,\n       20.44439606, 20.44439606, 20.44439606, 20.44439606, 20.44439606,\n       20.44439606, 20.44439606, 20.44439606, 20.44439606, 20.44439606,\n       20.44439606, 20.44439606, 20.44439606, 20.44439606, 20.44439606,\n       20.44439606, 20.44439606, 20.44439606, 20.44439606, 20.44439606,\n       20.44439606, 20.44439606, 20.44439606, 20.44439606, 20.44439606,\n       20.44439606, 20.44439606, 20.44439606, 20.44439606, 20.44439606,\n       20.44439606, 20.44439606, 20.44439606, 20.44439606, 20.44439606,\n       20.44439606, 20.44439606, 20.44439606, 20.44439606, 20.44439606,\n       20.44439606, 20.44439606, 20.44439606, 20.44439606, 20.44439606,\n       20.44439606, 20.44439606, 20.44439606, 20.44439606, 20.44439606,\n       20.44439606, 20.44439606, 20.44439606, 20.44439606, 20.44439606,\n       20.44439606, 20.44439606, 20.44439606, 20.44439606, 20.44439606,\n       20.44439606, 20.44439606, 20.44439606, 20.44439606, 20.44439606,\n       20.44439606, 20.44439606, 20.44439606, 20.44439606, 20.44439606,\n       20.44439606, 20.44439606, 20.44439606, 20.44439606, 20.44439606,\n       20.44439606, 20.44439606, 20.44439606, 20.44439606, 20.44439606,\n       20.44439606, 20.44439606, 20.44439606, 20.44439606, 20.44439606,\n       20.44439606, 20.44439606, 20.44439606, 20.44439606, 20.44439606,\n       20.44439606, 20.44439606, 20.44439606, 20.44439606, 20.44439606,\n       20.44439606, 20.44439606, 20.44439606, 20.44439606, 20.44439606,\n       20.44439606, 20.44439606, 20.44439606, 20.44439606, 20.44439606,\n       20.44439606, 20.44439606, 20.44439606, 20.44439606, 20.44439606,\n       20.44439606, 20.44439606, 20.44439606, 20.44439606, 20.44439606,\n       20.44439606, 20.44439606, 20.44439606, 20.44439606, 20.44439606,\n       20.44439606, 20.44439606, 20.44439606, 20.44439606, 20.44439606,\n       20.44439606, 20.44439606, 20.44439606, 20.44439606, 20.44439606,\n       20.44439606, 20.44439606, 20.44439606, 20.44439606, 20.44439606,\n       20.44439606, 20.44439606, 20.44439606, 20.44439606, 20.44439606,\n       20.44439606, 20.44439606, 20.44439606, 20.44439606, 20.44439606,\n       20.44439606, 20.44439606, 20.44439606, 20.44439606, 20.44439606,\n       20.44439606, 20.44439606, 20.44439606, 20.44439606, 20.44439606,\n       20.44439606, 20.44439606, 20.44439606, 20.44439606, 20.44439606,\n       20.44439606, 20.44439606, 20.44439606, 20.44439606, 20.44439606,\n       20.44439606, 20.44439606, 20.44439606, 20.44439606, 20.44439606,\n       20.44439606, 20.44439606, 20.44439606, 20.44439606, 20.44439606,\n       20.44439606, 20.44439606, 20.44439606, 20.44439606, 20.44439606,\n       20.44439606, 20.44439606, 20.44439606, 20.44439606, 20.44439606,\n       20.44439606, 20.44439606, 20.44439606, 20.44439606, 20.44439606,\n       20.44439606, 20.44439606, 20.44439606, 20.44439606, 20.44439606,\n       20.44439606, 20.44439606, 20.44439606, 20.44439606, 20.44439606,\n       20.44439606, 20.44439606, 20.44439606, 20.44439606, 20.44439606,\n       20.44439606, 20.44439606, 20.44439606, 20.44439606, 20.44439606,\n       20.44439606, 20.44439606, 20.44439606, 20.44439606, 20.44439606,\n       20.44439606, 20.44439606, 20.44439606, 20.44439606, 20.44439606,\n       20.44439606, 20.44439606, 20.44439606, 20.44439606, 20.44439606,\n       20.44439606, 20.44439606, 20.44439606, 20.44439606, 20.44439606,\n       20.44439606, 20.44439606, 20.44439606, 20.44439606, 20.44439606,\n       20.44439606, 20.44439606, 20.44439606, 20.44439606, 20.44439606,\n       20.44439606, 20.44439606, 20.44439606, 20.44439606, 20.44439606,\n       20.44439606, 20.44439606, 20.44439606, 20.44439606, 20.44439606,\n       20.44439606, 20.44439606, 20.44439606, 20.44439606, 20.44439606,\n       20.44439606, 20.44439606, 20.44439606, 20.44439606, 20.44439606,\n       20.44439606, 20.44439606, 20.44439606, 20.44439606, 20.44439606,\n       20.44439606, 20.44439606, 20.44439606, 20.44439606, 20.44439606,\n       20.44439606, 20.44439606, 20.44439606, 20.44439606, 20.44439606,\n       20.44439606, 20.44439606, 20.44439606, 20.44439606, 20.44439606,\n       20.44439606, 20.44439606, 20.44439606, 20.44439606, 20.44439606,\n       20.44439606, 20.44439606, 20.44439606, 20.44439606, 20.44439606,\n       20.44439606, 20.44439606, 20.44439606, 20.44439606, 20.44439606,\n       20.44439606, 20.44439606, 20.44439606, 20.44439606, 20.44439606,\n       20.44439606, 20.44439606, 20.44439606, 20.44439606, 20.44439606,\n       20.44439606, 20.44439606, 20.44439606, 20.44439606, 20.44439606,\n       20.44439606, 20.44439606, 20.44439606, 20.44439606, 20.44439606,\n       20.44439606, 20.44439606, 20.44439606, 20.44439606, 20.44439606,\n       20.44439606, 20.44439606, 20.44439606, 20.44439606, 20.44439606,\n       20.44439606, 20.44439606, 20.44439606, 20.44439606, 20.44439606,\n       20.44439606, 20.44439606, 20.44439606, 20.44439606, 20.44439606,\n       20.44439606, 20.44439606, 20.44439606, 20.44439606, 20.44439606,\n       20.44439606, 20.44439606, 20.44439606, 20.44439606, 20.44439606,\n       20.44439606, 20.44439606, 20.44439606, 20.44439606, 20.44439606,\n       20.44439606, 20.44439606, 20.44439606, 20.44439606, 20.44439606,\n       20.44439606, 20.44439606, 20.44439606, 20.44439606, 20.44439606,\n       20.44439606, 20.44439606, 20.44439606, 20.44439606, 20.44439606,\n       20.44439606, 20.44439606, 20.44439606, 20.44439606, 20.44439606,\n       20.44439606, 20.44439606, 20.44439606, 20.44439606, 20.44439606,\n       20.44439606, 20.44439606, 20.44439606, 20.44439606, 20.44439606,\n       20.44439606, 20.44439606, 20.44439606, 20.44439606, 20.44439606,\n       20.44439606, 20.44439606, 20.44439606, 20.44439606, 20.44439606,\n       20.44439606, 20.44439606, 20.44439606, 20.44439606, 20.44439606,\n       20.44439606, 20.44439606, 20.44439606, 20.44439606, 20.44439606,\n       20.44439606, 20.44439606, 20.44439606, 20.44439606, 20.44439606,\n       20.44439606, 20.44439606, 20.44439606, 20.44439606, 20.44439606,\n       20.44439606, 20.44439606, 20.44439606, 20.44439606, 20.44439606,\n       20.44439606, 20.44439606, 20.44439606, 20.44439606, 20.44439606,\n       20.44439606, 20.44439606, 20.44439606, 20.44439606, 20.44439606,\n       20.44439606, 20.44439606, 20.44439606, 20.44439606, 20.44439606,\n       20.44439606, 20.44439606, 20.44439606, 20.44439606, 20.44439606,\n       20.44439606, 20.44439606, 20.44439606, 20.44439606, 20.44439606,\n       20.44439606, 20.44439606, 20.44439606, 20.44439606, 20.44439606,\n       20.44439606, 20.44439606, 20.44439606, 20.44439606, 20.44439606,\n       20.44439606, 20.44439606, 20.44439606, 20.44439606, 20.44439606,\n       20.44439606, 20.44439606, 20.44439606, 20.44439606, 20.44439606,\n       20.44439606, 20.44439606, 20.44439606, 20.44439606, 20.44439606,\n       20.44439606, 20.44439606, 20.44439606, 20.44439606, 20.44439606,\n       20.44439606, 20.44439606, 20.44439606, 20.44439606, 20.44439606,\n       20.44439606, 20.44439606, 20.44439606, 20.44439606, 20.44439606,\n       20.44439606, 20.44439606, 20.44439606, 20.44439606, 20.44439606,\n       20.44439606, 20.44439606, 20.44439606, 20.44439606, 20.44439606,\n       20.44439606, 20.44439606, 20.44439606, 20.44439606, 20.44439606,\n       20.44439606, 20.44439606, 20.44439606, 20.44439606, 20.44439606,\n       20.44439606, 20.44439606, 20.44439606, 20.44439606, 20.44439606,\n       20.44439606, 20.44439606, 20.44439606, 20.44439606, 20.44439606,\n       20.44439606, 20.44439606, 20.44439606, 20.44439606, 20.44439606,\n       20.44439606, 20.44439606, 20.44439606, 20.44439606, 20.44439606,\n       20.44439606, 20.44439606, 20.44439606, 20.44439606, 20.44439606,\n       20.44439606, 20.44439606, 20.44439606, 20.44439606, 20.44439606,\n       20.44439606, 20.44439606, 20.44439606, 20.44439606, 20.44439606,\n       20.44439606, 20.44439606, 20.44439606, 20.44439606, 20.44439606,\n       20.44439606, 20.44439606, 20.44439606, 20.44439606, 20.44439606,\n       20.44439606, 20.44439606, 20.44439606, 20.44439606, 20.44439606,\n       20.44439606, 20.44439606, 20.44439606, 20.44439606, 20.44439606,\n       20.44439606, 20.44439606, 20.44439606, 20.44439606, 20.44439606,\n       20.44439606, 20.44439606, 20.44439606, 20.44439606, 20.44439606,\n       20.44439606, 20.44439606, 20.44439606, 20.44439606, 20.44439606,\n       20.44439606, 20.44439606, 20.44439606, 20.44439606, 20.44439606,\n       20.44439606, 20.44439606, 20.44439606, 20.44439606, 20.44439606,\n       20.44439606, 20.44439606, 20.44439606, 20.44439606, 20.44439606,\n       20.44439606, 20.44439606, 20.44439606, 20.44439606, 20.44439606,\n       20.44439606, 20.44439606, 20.44439606, 20.44439606, 20.44439606])"
     },
     "execution_count": 768,
     "metadata": {},
     "output_type": "execute_result"
    }
   ],
   "source": [
    "y_pred_dum"
   ],
   "metadata": {
    "collapsed": false,
    "pycharm": {
     "name": "#%%\n"
    }
   }
  },
  {
   "cell_type": "raw",
   "source": [
    "from sklearn.metrics import mean_absolute_error,r2_score,mean_squared_error\n",
    "\n",
    "def run_experiment(model):\n",
    "    model.fit(X_train, y_train)\n",
    "    y_pred = model.predict(X_test)\n",
    "    print(\"R² : \", r2_score(y_test, y_pred))\n",
    "    print(\"MAE :\", mean_absolute_error(y_test,y_pred))\n",
    "    print(\"RMSE:\", np.sqrt(mean_squared_error(y_test, y_pred)))\n",
    "\n",
    "run_experiment(lr)"
   ],
   "metadata": {
    "collapsed": false,
    "pycharm": {
     "name": "#%% raw\n"
    }
   }
  },
  {
   "cell_type": "markdown",
   "source": [
    "#### 2) Linear Model : Ridge"
   ],
   "metadata": {
    "collapsed": false,
    "pycharm": {
     "name": "#%% md\n"
    }
   }
  },
  {
   "cell_type": "raw",
   "source": [
    "n_alphas = 50 #hyperparametre alpha\n",
    "alphas = np.logspace(-5, 5, n_alphas)\n",
    "\n",
    "ridge = linear_model.Ridge()\n",
    "\n",
    "coefs = []\n",
    "errors = []\n",
    "for a in alphas:\n",
    "    ridge.set_params(alpha=a)\n",
    "    ridge.fit(X_train, y_train)\n",
    "    coefs.append(ridge.coef_)\n",
    "    errors.append(np.mean((ridge.predict(X_test) - y_test) ** 2))"
   ],
   "metadata": {
    "collapsed": false,
    "pycharm": {
     "name": "#%% raw\n"
    }
   }
  },
  {
   "cell_type": "raw",
   "source": [
    "# observation du comportement de l'erreur\n",
    "\n",
    "ax = plt.gca()\n",
    "ax.plot(alphas, errors, [10**-5, 10**5], [baseline_error, baseline_error])\n",
    "ax.set_xscale('log')\n",
    "plt.show()"
   ],
   "metadata": {
    "collapsed": false,
    "pycharm": {
     "name": "#%% raw\n"
    }
   }
  },
  {
   "cell_type": "raw",
   "source": [
    "ax = plt.gca()\n",
    "\n",
    "ax.plot(alphas, errors)\n",
    "ax.set_xscale('log')\n",
    "plt.xlabel('alpha')\n",
    "plt.ylabel('error')\n",
    "plt.axis('tight')\n",
    "plt.show()"
   ],
   "metadata": {
    "collapsed": false,
    "pycharm": {
     "name": "#%% raw\n"
    }
   }
  },
  {
   "cell_type": "code",
   "execution_count": 768,
   "outputs": [],
   "source": [],
   "metadata": {
    "collapsed": false,
    "pycharm": {
     "name": "#%%\n"
    }
   }
  },
  {
   "cell_type": "raw",
   "source": [
    "# index du min des erreurs\n",
    "np.argmin(errors)"
   ],
   "metadata": {
    "collapsed": false,
    "pycharm": {
     "name": "#%% raw\n"
    }
   }
  },
  {
   "cell_type": "raw",
   "source": [
    "# recupere l'erreur min\n",
    "errors[np.argmin(errors)]"
   ],
   "metadata": {
    "collapsed": false,
    "pycharm": {
     "name": "#%% raw\n"
    }
   }
  },
  {
   "cell_type": "raw",
   "source": [
    "# recup alpha associé à cet erreur min\n",
    "alphas[np.argmin(errors)]\n",
    "# alphas[35]"
   ],
   "metadata": {
    "collapsed": false,
    "pycharm": {
     "name": "#%% raw\n"
    }
   }
  },
  {
   "cell_type": "raw",
   "source": [
    "# chemin de régularisation\n",
    "ax = plt.gca()\n",
    "ax.plot(alphas, coefs)\n",
    "ax.set_xscale('log')\n",
    "plt.show()"
   ],
   "metadata": {
    "collapsed": false,
    "pycharm": {
     "name": "#%% raw\n"
    }
   }
  },
  {
   "cell_type": "raw",
   "source": [
    "ax = plt.gca()\n",
    "\n",
    "ax.plot(alphas, coefs)\n",
    "ax.set_xscale('log')\n",
    "plt.xlabel('alpha')\n",
    "plt.ylabel('weights')\n",
    "plt.title('Ridge coefficients as a function of the regularization')\n",
    "plt.axis('tight')\n",
    "plt.show()"
   ],
   "metadata": {
    "collapsed": false,
    "pycharm": {
     "name": "#%% raw\n"
    }
   }
  },
  {
   "cell_type": "raw",
   "source": [
    "min(errors)"
   ],
   "metadata": {
    "collapsed": false,
    "pycharm": {
     "name": "#%% raw\n"
    }
   }
  },
  {
   "cell_type": "code",
   "execution_count": 768,
   "outputs": [],
   "source": [],
   "metadata": {
    "collapsed": false,
    "pycharm": {
     "name": "#%%\n"
    }
   }
  },
  {
   "cell_type": "markdown",
   "source": [
    "#### 3) Linear Model : LASSO"
   ],
   "metadata": {
    "collapsed": false,
    "pycharm": {
     "name": "#%% md\n"
    }
   }
  },
  {
   "cell_type": "raw",
   "source": [
    "n_alphas = 1000\n",
    "alphas = np.logspace(-5, 5, 50)\n",
    "\n",
    "lasso = linear_model.Lasso()\n",
    "\n",
    "coefs = []\n",
    "errors = []\n",
    "for a in alphas:\n",
    "    lasso.set_params(alpha=a)\n",
    "    lasso.fit(X_train, y_train)\n",
    "    coefs.append(lasso.coef_)\n",
    "    errors.append(np.mean((lasso.predict(X_test) - y_test) ** 2))"
   ],
   "metadata": {
    "collapsed": false,
    "pycharm": {
     "name": "#%% raw\n"
    }
   }
  },
  {
   "cell_type": "raw",
   "source": [
    "n_alphas = 50\n",
    "alphas = np.logspace(-10, 10, n_alphas)\n",
    "lasso = linear_model.Lasso(fit_intercept=False)\n",
    "\n",
    "\"\"\"\n",
    "fit_intercept : bool, default=True\n",
    "Whether to calculate the intercept for this model. If set to False, no intercept will be used in calculations (i.e. data is expected to be centered).\n",
    "\"\"\"\n",
    "\n",
    "coefs = []\n",
    "errors = []\n",
    "for a in alphas:\n",
    "    lasso.set_params(alpha=a)\n",
    "    lasso.fit(X_train, y_train)\n",
    "    coefs.append(lasso.coef_)\n",
    "    errors.append([baseline_error, np.mean((lasso.predict(X_test) - y_test) ** 2)])"
   ],
   "metadata": {
    "collapsed": false,
    "pycharm": {
     "name": "#%% raw\n"
    }
   }
  },
  {
   "cell_type": "raw",
   "source": [
    "# observation du comportement de l'erreur\n",
    "\n",
    "ax = plt.gca()\n",
    "ax.plot(alphas, errors, [10**-5, 10**5], [baseline_error, baseline_error])\n",
    "ax.set_xscale('log')\n",
    "plt.show()"
   ],
   "metadata": {
    "collapsed": false,
    "pycharm": {
     "name": "#%% raw\n"
    }
   }
  },
  {
   "cell_type": "raw",
   "source": [
    "# recupere l'erreur min\n",
    "errors[np.argmin(errors)]"
   ],
   "metadata": {
    "collapsed": false,
    "pycharm": {
     "name": "#%% raw\n"
    }
   }
  },
  {
   "cell_type": "raw",
   "source": [
    "# recup alpha associé à cet erreur min\n",
    "alphas[np.argmin(errors)]"
   ],
   "metadata": {
    "collapsed": false,
    "pycharm": {
     "name": "#%% raw\n"
    }
   }
  },
  {
   "cell_type": "raw",
   "source": [
    "# chemin de régularisation\n",
    "ax = plt.gca()\n",
    "ax.plot(alphas, coefs)\n",
    "ax.set_xscale('log')\n",
    "plt.show()"
   ],
   "metadata": {
    "collapsed": false,
    "pycharm": {
     "name": "#%% raw\n"
    }
   }
  },
  {
   "cell_type": "raw",
   "source": [
    "ax = plt.gca()\n",
    "\n",
    "ax.plot(alphas, coefs)\n",
    "ax.set_xscale('log')\n",
    "plt.xlabel('alpha')\n",
    "plt.ylabel('weights')\n",
    "plt.axis('tight')\n",
    "plt.show()"
   ],
   "metadata": {
    "collapsed": false,
    "pycharm": {
     "name": "#%% raw\n"
    }
   }
  },
  {
   "cell_type": "raw",
   "source": [
    "import numpy as np\n",
    "\n",
    "X = np.matrix([-0.78768, -1.51760513, 0.74416271, -0.62288928])\n",
    "X = X.T\n",
    "print(X)\n",
    "\n",
    "y = np.matrix([-34.59703199, -30.79543532, 19.31018182, -19.44809959])\n",
    "y = y.T\n",
    "print(y)\n",
    "print(np.linalg.inv(X.T.dot(X)).dot(X.T))\n",
    "beta = np.linalg.inv(X.T.dot(X)).dot(X.T).dot(y)\n",
    "beta"
   ],
   "metadata": {
    "collapsed": false,
    "pycharm": {
     "name": "#%% raw\n"
    }
   }
  },
  {
   "cell_type": "markdown",
   "source": [
    "#### 4) Linear Model : Elastic Net"
   ],
   "metadata": {
    "collapsed": false,
    "pycharm": {
     "name": "#%% md\n"
    }
   }
  },
  {
   "cell_type": "raw",
   "source": [
    "from sklearn.linear_model import ElasticNet\n",
    "\n",
    "#rappel de la fonction de coût du elasticnet\n",
    "#1 / (2 * n_samples) * ||y - Xw||^2_2 + alpha * l1_ratio * ||w||_1 + 0.5 * alpha * (1 - l1_ratio) * ||w||^2_2\n",
    "\n",
    "parameters = {'tol' : [0.1,0.01,0.001,0.0001],\n",
    "              \"alpha\": [0.0001, 0.001, 0.01, 0.1, 1, 10, 100],  #alpha, coef qui multiplie le terme de pénalité)\n",
    "              \"l1_ratio\": np.arange(0.0, 1.0, 0.1)}#L1 ratio , =1 équivaut à un Lasso, 0 à un Ridge\n",
    "\n",
    "\n",
    "elastic_grid = GridSearchCV(estimator = ElasticNet(),\n",
    "                            param_grid = parameters,\n",
    "                            scoring = 'neg_mean_squared_error',\n",
    "                            cv=5,\n",
    "                            verbose=0\n",
    "                            )\n",
    "\n",
    "elastic_grid.fit(X_train, y_train)"
   ],
   "metadata": {
    "collapsed": false,
    "pycharm": {
     "name": "#%% raw\n"
    }
   }
  },
  {
   "cell_type": "raw",
   "source": [
    "elastic_grid.best_params_"
   ],
   "metadata": {
    "collapsed": false,
    "pycharm": {
     "name": "#%% raw\n"
    }
   }
  },
  {
   "cell_type": "markdown",
   "source": [
    "results = pd.DataFrame({})\n",
    "\n",
    "import math\n",
    "results = results.append(pd.DataFrame({\n",
    "    'Modèle' : ['Elasticnet Regression'],\n",
    "    'Score_RMSE' : [math.sqrt(mean_squared_error(elastic_grid.predict(X_test), y_test))]}),\n",
    "    ignore_index=True)"
   ],
   "metadata": {
    "collapsed": false,
    "pycharm": {
     "name": "#%% md\n"
    }
   }
  },
  {
   "cell_type": "markdown",
   "source": [
    "### 2) Ensemble learning methods"
   ],
   "metadata": {
    "collapsed": false,
    "pycharm": {
     "name": "#%% md\n"
    }
   }
  },
  {
   "cell_type": "markdown",
   "source": [
    "#### 1) Parallelized Implementation : Random Forest"
   ],
   "metadata": {
    "collapsed": false,
    "pycharm": {
     "name": "#%% md\n"
    }
   }
  },
  {
   "cell_type": "code",
   "execution_count": 769,
   "outputs": [],
   "source": [
    "from sklearn.ensemble import RandomForestRegressor\n",
    "\n",
    "rfr = RandomForestRegressor(n_estimators=1000) # nb of trees 1000 for the forest"
   ],
   "metadata": {
    "collapsed": false,
    "pycharm": {
     "name": "#%%\n"
    }
   }
  },
  {
   "cell_type": "code",
   "execution_count": 770,
   "outputs": [
    {
     "data": {
      "text/plain": "      NumberofFloors  PropertyGFATotal  PropertyGFABuilding(s)  \\\n1              -0.50             -0.46                   -0.46   \n2              -0.31             -0.47                   -0.47   \n3               1.91             -0.11                   -0.05   \n4              -0.31             -0.38                   -0.43   \n5              -0.13             -0.37                   -0.35   \n...              ...               ...                     ...   \n3124            0.06             -0.26                   -0.23   \n3125           -0.50             -0.40                   -0.40   \n3126           -0.31             -0.34                   -0.41   \n3128            0.06             -0.40                   -0.45   \n3129           -0.50             -0.50                   -0.51   \n\n      SecondLargestPropertyUseTypeGFA  ThirdLargestPropertyUseTypeGFA  \\\n1                               -0.14                            0.13   \n2                               -0.38                           -0.21   \n3                               -0.38                           -0.21   \n4                               -0.27                           -0.21   \n5                               -0.38                           -0.21   \n...                               ...                             ...   \n3124                            -0.38                           -0.21   \n3125                            -0.01                           -0.05   \n3126                             0.01                            0.87   \n3128                            -0.14                           -0.04   \n3129                            -0.16                           -0.21   \n\n      BuildingType_Campus  BuildingType_Multifamily HR (10+)  \\\n1                    0.00                               0.00   \n2                    0.00                               0.00   \n3                    0.00                               1.00   \n4                    0.00                               0.00   \n5                    0.00                               0.00   \n...                   ...                                ...   \n3124                 0.00                               0.00   \n3125                 0.00                               0.00   \n3126                 0.00                               0.00   \n3128                 0.00                               0.00   \n3129                 0.00                               0.00   \n\n      BuildingType_Multifamily LR (1-4)  BuildingType_Multifamily MR (5-9)  \\\n1                                  0.00                               0.00   \n2                                  1.00                               0.00   \n3                                  0.00                               0.00   \n4                                  1.00                               0.00   \n5                                  0.00                               0.00   \n...                                 ...                                ...   \n3124                               0.00                               1.00   \n3125                               0.00                               0.00   \n3126                               0.00                               0.00   \n3128                               0.00                               0.00   \n3129                               0.00                               0.00   \n\n      BuildingType_NonResidential  ...  Neighborhood_downtown  \\\n1                            1.00  ...                   0.00   \n2                            0.00  ...                   0.00   \n3                            0.00  ...                   0.00   \n4                            0.00  ...                   0.00   \n5                            1.00  ...                   0.00   \n...                           ...  ...                    ...   \n3124                         0.00  ...                   0.00   \n3125                         1.00  ...                   0.00   \n3126                         1.00  ...                   0.00   \n3128                         1.00  ...                   0.00   \n3129                         1.00  ...                   0.00   \n\n      Neighborhood_east  Neighborhood_greater duwamish  \\\n1                  0.00                           1.00   \n2                  0.00                           1.00   \n3                  0.00                           1.00   \n4                  0.00                           1.00   \n5                  0.00                           0.00   \n...                 ...                            ...   \n3124               1.00                           0.00   \n3125               0.00                           0.00   \n3126               0.00                           0.00   \n3128               0.00                           0.00   \n3129               0.00                           0.00   \n\n      Neighborhood_lake union  Neighborhood_magnolia / queen anne  \\\n1                        0.00                                0.00   \n2                        0.00                                0.00   \n3                        0.00                                0.00   \n4                        0.00                                0.00   \n5                        0.00                                0.00   \n...                       ...                                 ...   \n3124                     0.00                                0.00   \n3125                     1.00                                0.00   \n3126                     1.00                                0.00   \n3128                     1.00                                0.00   \n3129                     1.00                                0.00   \n\n      Neighborhood_north  Neighborhood_northeast  Neighborhood_northwest  \\\n1                   0.00                    0.00                    0.00   \n2                   0.00                    0.00                    0.00   \n3                   0.00                    0.00                    0.00   \n4                   0.00                    0.00                    0.00   \n5                   0.00                    1.00                    0.00   \n...                  ...                     ...                     ...   \n3124                0.00                    0.00                    0.00   \n3125                0.00                    0.00                    0.00   \n3126                0.00                    0.00                    0.00   \n3128                0.00                    0.00                    0.00   \n3129                0.00                    0.00                    0.00   \n\n      Neighborhood_southeast  Neighborhood_southwest  \n1                       0.00                    0.00  \n2                       0.00                    0.00  \n3                       0.00                    0.00  \n4                       0.00                    0.00  \n5                       0.00                    0.00  \n...                      ...                     ...  \n3124                    0.00                    0.00  \n3125                    0.00                    0.00  \n3126                    0.00                    0.00  \n3128                    0.00                    0.00  \n3129                    0.00                    0.00  \n\n[2191 rows x 99 columns]",
      "text/html": "<div>\n<style scoped>\n    .dataframe tbody tr th:only-of-type {\n        vertical-align: middle;\n    }\n\n    .dataframe tbody tr th {\n        vertical-align: top;\n    }\n\n    .dataframe thead th {\n        text-align: right;\n    }\n</style>\n<table border=\"1\" class=\"dataframe\">\n  <thead>\n    <tr style=\"text-align: right;\">\n      <th></th>\n      <th>NumberofFloors</th>\n      <th>PropertyGFATotal</th>\n      <th>PropertyGFABuilding(s)</th>\n      <th>SecondLargestPropertyUseTypeGFA</th>\n      <th>ThirdLargestPropertyUseTypeGFA</th>\n      <th>BuildingType_Campus</th>\n      <th>BuildingType_Multifamily HR (10+)</th>\n      <th>BuildingType_Multifamily LR (1-4)</th>\n      <th>BuildingType_Multifamily MR (5-9)</th>\n      <th>BuildingType_NonResidential</th>\n      <th>...</th>\n      <th>Neighborhood_downtown</th>\n      <th>Neighborhood_east</th>\n      <th>Neighborhood_greater duwamish</th>\n      <th>Neighborhood_lake union</th>\n      <th>Neighborhood_magnolia / queen anne</th>\n      <th>Neighborhood_north</th>\n      <th>Neighborhood_northeast</th>\n      <th>Neighborhood_northwest</th>\n      <th>Neighborhood_southeast</th>\n      <th>Neighborhood_southwest</th>\n    </tr>\n  </thead>\n  <tbody>\n    <tr>\n      <th>1</th>\n      <td>-0.50</td>\n      <td>-0.46</td>\n      <td>-0.46</td>\n      <td>-0.14</td>\n      <td>0.13</td>\n      <td>0.00</td>\n      <td>0.00</td>\n      <td>0.00</td>\n      <td>0.00</td>\n      <td>1.00</td>\n      <td>...</td>\n      <td>0.00</td>\n      <td>0.00</td>\n      <td>1.00</td>\n      <td>0.00</td>\n      <td>0.00</td>\n      <td>0.00</td>\n      <td>0.00</td>\n      <td>0.00</td>\n      <td>0.00</td>\n      <td>0.00</td>\n    </tr>\n    <tr>\n      <th>2</th>\n      <td>-0.31</td>\n      <td>-0.47</td>\n      <td>-0.47</td>\n      <td>-0.38</td>\n      <td>-0.21</td>\n      <td>0.00</td>\n      <td>0.00</td>\n      <td>1.00</td>\n      <td>0.00</td>\n      <td>0.00</td>\n      <td>...</td>\n      <td>0.00</td>\n      <td>0.00</td>\n      <td>1.00</td>\n      <td>0.00</td>\n      <td>0.00</td>\n      <td>0.00</td>\n      <td>0.00</td>\n      <td>0.00</td>\n      <td>0.00</td>\n      <td>0.00</td>\n    </tr>\n    <tr>\n      <th>3</th>\n      <td>1.91</td>\n      <td>-0.11</td>\n      <td>-0.05</td>\n      <td>-0.38</td>\n      <td>-0.21</td>\n      <td>0.00</td>\n      <td>1.00</td>\n      <td>0.00</td>\n      <td>0.00</td>\n      <td>0.00</td>\n      <td>...</td>\n      <td>0.00</td>\n      <td>0.00</td>\n      <td>1.00</td>\n      <td>0.00</td>\n      <td>0.00</td>\n      <td>0.00</td>\n      <td>0.00</td>\n      <td>0.00</td>\n      <td>0.00</td>\n      <td>0.00</td>\n    </tr>\n    <tr>\n      <th>4</th>\n      <td>-0.31</td>\n      <td>-0.38</td>\n      <td>-0.43</td>\n      <td>-0.27</td>\n      <td>-0.21</td>\n      <td>0.00</td>\n      <td>0.00</td>\n      <td>1.00</td>\n      <td>0.00</td>\n      <td>0.00</td>\n      <td>...</td>\n      <td>0.00</td>\n      <td>0.00</td>\n      <td>1.00</td>\n      <td>0.00</td>\n      <td>0.00</td>\n      <td>0.00</td>\n      <td>0.00</td>\n      <td>0.00</td>\n      <td>0.00</td>\n      <td>0.00</td>\n    </tr>\n    <tr>\n      <th>5</th>\n      <td>-0.13</td>\n      <td>-0.37</td>\n      <td>-0.35</td>\n      <td>-0.38</td>\n      <td>-0.21</td>\n      <td>0.00</td>\n      <td>0.00</td>\n      <td>0.00</td>\n      <td>0.00</td>\n      <td>1.00</td>\n      <td>...</td>\n      <td>0.00</td>\n      <td>0.00</td>\n      <td>0.00</td>\n      <td>0.00</td>\n      <td>0.00</td>\n      <td>0.00</td>\n      <td>1.00</td>\n      <td>0.00</td>\n      <td>0.00</td>\n      <td>0.00</td>\n    </tr>\n    <tr>\n      <th>...</th>\n      <td>...</td>\n      <td>...</td>\n      <td>...</td>\n      <td>...</td>\n      <td>...</td>\n      <td>...</td>\n      <td>...</td>\n      <td>...</td>\n      <td>...</td>\n      <td>...</td>\n      <td>...</td>\n      <td>...</td>\n      <td>...</td>\n      <td>...</td>\n      <td>...</td>\n      <td>...</td>\n      <td>...</td>\n      <td>...</td>\n      <td>...</td>\n      <td>...</td>\n      <td>...</td>\n    </tr>\n    <tr>\n      <th>3124</th>\n      <td>0.06</td>\n      <td>-0.26</td>\n      <td>-0.23</td>\n      <td>-0.38</td>\n      <td>-0.21</td>\n      <td>0.00</td>\n      <td>0.00</td>\n      <td>0.00</td>\n      <td>1.00</td>\n      <td>0.00</td>\n      <td>...</td>\n      <td>0.00</td>\n      <td>1.00</td>\n      <td>0.00</td>\n      <td>0.00</td>\n      <td>0.00</td>\n      <td>0.00</td>\n      <td>0.00</td>\n      <td>0.00</td>\n      <td>0.00</td>\n      <td>0.00</td>\n    </tr>\n    <tr>\n      <th>3125</th>\n      <td>-0.50</td>\n      <td>-0.40</td>\n      <td>-0.40</td>\n      <td>-0.01</td>\n      <td>-0.05</td>\n      <td>0.00</td>\n      <td>0.00</td>\n      <td>0.00</td>\n      <td>0.00</td>\n      <td>1.00</td>\n      <td>...</td>\n      <td>0.00</td>\n      <td>0.00</td>\n      <td>0.00</td>\n      <td>1.00</td>\n      <td>0.00</td>\n      <td>0.00</td>\n      <td>0.00</td>\n      <td>0.00</td>\n      <td>0.00</td>\n      <td>0.00</td>\n    </tr>\n    <tr>\n      <th>3126</th>\n      <td>-0.31</td>\n      <td>-0.34</td>\n      <td>-0.41</td>\n      <td>0.01</td>\n      <td>0.87</td>\n      <td>0.00</td>\n      <td>0.00</td>\n      <td>0.00</td>\n      <td>0.00</td>\n      <td>1.00</td>\n      <td>...</td>\n      <td>0.00</td>\n      <td>0.00</td>\n      <td>0.00</td>\n      <td>1.00</td>\n      <td>0.00</td>\n      <td>0.00</td>\n      <td>0.00</td>\n      <td>0.00</td>\n      <td>0.00</td>\n      <td>0.00</td>\n    </tr>\n    <tr>\n      <th>3128</th>\n      <td>0.06</td>\n      <td>-0.40</td>\n      <td>-0.45</td>\n      <td>-0.14</td>\n      <td>-0.04</td>\n      <td>0.00</td>\n      <td>0.00</td>\n      <td>0.00</td>\n      <td>0.00</td>\n      <td>1.00</td>\n      <td>...</td>\n      <td>0.00</td>\n      <td>0.00</td>\n      <td>0.00</td>\n      <td>1.00</td>\n      <td>0.00</td>\n      <td>0.00</td>\n      <td>0.00</td>\n      <td>0.00</td>\n      <td>0.00</td>\n      <td>0.00</td>\n    </tr>\n    <tr>\n      <th>3129</th>\n      <td>-0.50</td>\n      <td>-0.50</td>\n      <td>-0.51</td>\n      <td>-0.16</td>\n      <td>-0.21</td>\n      <td>0.00</td>\n      <td>0.00</td>\n      <td>0.00</td>\n      <td>0.00</td>\n      <td>1.00</td>\n      <td>...</td>\n      <td>0.00</td>\n      <td>0.00</td>\n      <td>0.00</td>\n      <td>1.00</td>\n      <td>0.00</td>\n      <td>0.00</td>\n      <td>0.00</td>\n      <td>0.00</td>\n      <td>0.00</td>\n      <td>0.00</td>\n    </tr>\n  </tbody>\n</table>\n<p>2191 rows × 99 columns</p>\n</div>"
     },
     "execution_count": 770,
     "metadata": {},
     "output_type": "execute_result"
    }
   ],
   "source": [
    "X_train"
   ],
   "metadata": {
    "collapsed": false,
    "pycharm": {
     "name": "#%%\n"
    }
   }
  },
  {
   "cell_type": "code",
   "execution_count": 771,
   "outputs": [],
   "source": [
    "rfr = rfr.fit(X_train.values, y_train)"
   ],
   "metadata": {
    "collapsed": false,
    "pycharm": {
     "name": "#%%\n"
    }
   }
  },
  {
   "cell_type": "code",
   "execution_count": 772,
   "outputs": [
    {
     "name": "stdout",
     "output_type": "stream",
     "text": [
      "accuracy -0.15 time 0.21s\n"
     ]
    }
   ],
   "source": [
    "import timeit\n",
    "\n",
    "start_time = timeit.default_timer()\n",
    "y_pred_rfr = rfr.predict(X_test.values)\n",
    "elapsed = timeit.default_timer() - start_time\n",
    "accuracy = rfr.score(X_test.values, y_test)\n",
    "print(\"accuracy {:.2f} time {:.2f}s\".format(accuracy, elapsed))"
   ],
   "metadata": {
    "collapsed": false,
    "pycharm": {
     "name": "#%%\n"
    }
   }
  },
  {
   "cell_type": "code",
   "execution_count": 773,
   "outputs": [
    {
     "name": "stdout",
     "output_type": "stream",
     "text": [
      "Prediction for :  Log2-Electricity(kBtu)\n"
     ]
    },
    {
     "data": {
      "text/plain": "                     Model           RMSE          MAE  \\\n0          Dummy Regressor           1.68         1.32   \n0        Linear Regression 11000001254.68 933629288.25   \n0  Random Forest Regressor           1.80         1.40   \n\n                       MSE                       R²  \n0                     2.83                    -0.00  \n0 121000027602960891904.00 -42749506966801973248.00  \n0                     3.26                    -0.15  ",
      "text/html": "<div>\n<style scoped>\n    .dataframe tbody tr th:only-of-type {\n        vertical-align: middle;\n    }\n\n    .dataframe tbody tr th {\n        vertical-align: top;\n    }\n\n    .dataframe thead th {\n        text-align: right;\n    }\n</style>\n<table border=\"1\" class=\"dataframe\">\n  <thead>\n    <tr style=\"text-align: right;\">\n      <th></th>\n      <th>Model</th>\n      <th>RMSE</th>\n      <th>MAE</th>\n      <th>MSE</th>\n      <th>R²</th>\n    </tr>\n  </thead>\n  <tbody>\n    <tr>\n      <th>0</th>\n      <td>Dummy Regressor</td>\n      <td>1.68</td>\n      <td>1.32</td>\n      <td>2.83</td>\n      <td>-0.00</td>\n    </tr>\n    <tr>\n      <th>0</th>\n      <td>Linear Regression</td>\n      <td>11000001254.68</td>\n      <td>933629288.25</td>\n      <td>121000027602960891904.00</td>\n      <td>-42749506966801973248.00</td>\n    </tr>\n    <tr>\n      <th>0</th>\n      <td>Random Forest Regressor</td>\n      <td>1.80</td>\n      <td>1.40</td>\n      <td>3.26</td>\n      <td>-0.15</td>\n    </tr>\n  </tbody>\n</table>\n</div>"
     },
     "metadata": {},
     "output_type": "display_data"
    },
    {
     "name": "stdout",
     "output_type": "stream",
     "text": [
      "If the prediction was good, we would see a line which is not the case here .\n"
     ]
    },
    {
     "data": {
      "text/plain": "<Figure size 432x288 with 1 Axes>",
      "image/png": "[encoded data removed]"
     },
     "metadata": {
      "needs_background": "light"
     },
     "output_type": "display_data"
    }
   ],
   "source": [
    "results = evaluate_regression(\"Random Forest Regressor\", results, y_test, y_pred_rfr)"
   ],
   "metadata": {
    "collapsed": false,
    "pycharm": {
     "name": "#%%\n"
    }
   }
  },
  {
   "cell_type": "raw",
   "source": [
    "from sklearn.ensemble import RandomForestRegressor\n",
    "\n",
    "parameters = {\n",
    "    'n_estimators' : [10,50,100,300,500], #nombre d'arbres de décision\n",
    "    'min_samples_leaf' : [1,3,5,10], #nombre de feuilles minimales dans un noeud\n",
    "    'max_features': ['auto', 'sqrt'] #nombre de features observées pour chaque arbre\n",
    "}"
   ],
   "metadata": {
    "collapsed": false,
    "pycharm": {
     "name": "#%% raw\n"
    }
   }
  },
  {
   "cell_type": "raw",
   "source": [
    "rfr_search = GridSearchCV(RandomForestRegressor(),\n",
    "                          param_grid = parameters,\n",
    "                          #scoring='mean_squared_error',\n",
    "                          verbose=2,\n",
    "                          cv=5)\n",
    "\n",
    "rfr_search.fit(X_train, y_train)"
   ],
   "metadata": {
    "collapsed": false,
    "pycharm": {
     "name": "#%% raw\n"
    }
   }
  },
  {
   "cell_type": "raw",
   "source": [
    "rfr_search.best_params_"
   ],
   "metadata": {
    "collapsed": false,
    "pycharm": {
     "name": "#%% raw\n"
    }
   }
  },
  {
   "cell_type": "raw",
   "source": [
    "import math\n",
    "results = results.append(pd.DataFrame({\n",
    "    'Modèle' : ['Random Forest Regressor'],\n",
    "    'Score_RMSE' : [math.sqrt(mean_squared_error(rfr_search.predict(X_test), y_test))]}),\n",
    "    ignore_index=True)"
   ],
   "metadata": {
    "collapsed": false,
    "pycharm": {
     "name": "#%% raw\n"
    }
   }
  },
  {
   "cell_type": "raw",
   "source": [
    "coefficients = abs(rfr_search.best_estimator_.feature_importances_)\n",
    "liste_coefs_rer = pd.concat((pd.DataFrame(X.columns, columns = ['Variable']),\n",
    "                             pd.DataFrame(coefficients, columns = ['Coefficient'])), axis = 1).sort_values(by='Coefficient', ascending = False)"
   ],
   "metadata": {
    "collapsed": false,
    "pycharm": {
     "name": "#%% raw\n"
    }
   }
  },
  {
   "cell_type": "raw",
   "source": [
    "plt.figure(figsize=(8,8))\n",
    "plt.title('RandomForestRegressor - Importance des 20 premières Features')\n",
    "sns.barplot(y = liste_coefs_rer['Variable'].head(20),\n",
    "            x = liste_coefs_rer['Coefficient'].head(20))\n",
    "plt.show()"
   ],
   "metadata": {
    "collapsed": false,
    "pycharm": {
     "name": "#%% raw\n"
    }
   }
  },
  {
   "cell_type": "raw",
   "source": [
    "plt.figure(figsize=(10,4))\n",
    "plt.title('Comparaison des RMSE relatives des modèles (en %)')\n",
    "chart = sns.barplot(x = results['Modèle'],\n",
    "                    y = results['RMSE_%']*100)\n",
    "chart.set_xticklabels(labels = results['Modèle'],\n",
    "                      rotation=45,\n",
    "                      horizontalalignment='right',\n",
    "                      size=12,\n",
    "                      )\n",
    "ax = plt.gca()\n",
    "ax.set_ylim([0, 5])\n",
    "plt.show()"
   ],
   "metadata": {
    "collapsed": false,
    "pycharm": {
     "name": "#%% raw\n"
    }
   }
  },
  {
   "cell_type": "raw",
   "source": [
    "plt.title('Temps d\\'exécution des algorithmes pour la prédiction \\n(jeu d\\'entrainement) - échelle logarithmique')\n",
    "sns.barplot(x=nom_modeles,\n",
    "            y = [5.32, 640, 2.14, 145])\n",
    "ax = plt.gca()\n",
    "ax.set_yscale('log')"
   ],
   "metadata": {
    "collapsed": false,
    "pycharm": {
     "name": "#%% raw\n"
    }
   }
  },
  {
   "cell_type": "raw",
   "source": [
    "plt.figure(figsize=(8,6))\n",
    "sns.barplot(x = comparaison_score_melt['index'],\n",
    "            y = comparaison_score_melt['score'], hue = comparaison_score_melt['variable'])\n",
    "plt.title('Comparaison des performances des modèles (jeu de test)')"
   ],
   "metadata": {
    "collapsed": false,
    "pycharm": {
     "name": "#%% raw\n"
    }
   }
  },
  {
   "cell_type": "markdown",
   "source": [
    "### III) Evaluation"
   ],
   "metadata": {
    "collapsed": false,
    "pycharm": {
     "name": "#%% md\n"
    }
   }
  },
  {
   "cell_type": "markdown",
   "source": [
    "#### Vérification des prédictions\n"
   ],
   "metadata": {
    "collapsed": false,
    "pycharm": {
     "name": "#%% md\n"
    }
   }
  },
  {
   "cell_type": "code",
   "execution_count": 773,
   "outputs": [],
   "source": [],
   "metadata": {
    "collapsed": false,
    "pycharm": {
     "name": "#%%\n"
    }
   }
  },
  {
   "cell_type": "markdown",
   "source": [
    "#### Intérêt du Energy Star Score\n"
   ],
   "metadata": {
    "collapsed": false,
    "pycharm": {
     "name": "#%% md\n"
    }
   }
  }
 ],
 "metadata": {
  "kernelspec": {
   "display_name": "Python 3",
   "language": "python",
   "name": "python3"
  },
  "language_info": {
   "codemirror_mode": {
    "name": "ipython",
    "version": 2
   },
   "file_extension": ".py",
   "mimetype": "text/x-python",
   "name": "python",
   "nbconvert_exporter": "python",
   "pygments_lexer": "ipython2",
   "version": "2.7.6"
  }
 },
 "nbformat": 4,
 "nbformat_minor": 0
}