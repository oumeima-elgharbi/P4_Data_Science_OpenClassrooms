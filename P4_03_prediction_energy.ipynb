{
 "cells": [
  {
   "cell_type": "markdown",
   "source": [
    "OpenClassrooms\n",
    "Project 4, Data Scientist\n",
    "Author : Oumeima EL GHARBI\n",
    "Date : August 2022"
   ],
   "metadata": {
    "collapsed": false,
    "pycharm": {
     "name": "#%% md\n"
    }
   }
  },
  {
   "cell_type": "markdown",
   "source": [
    "Un notebook pour chaque prédiction (émissions de CO2 et consommation totale d’énergie) des différents tests de modèles mis au propre, dans lequel vous identifierez clairement le modèle final choisi.\n",
    "\n",
    "\n",
    "L’objectif est de te passer des relevés de consommation annuels futurs (attention à la fuite de données). Nous ferons de toute façon pour tout nouveau bâtiment un premier relevé de référence la première année, donc rien ne t'interdit d’en déduire des variables structurelles aux bâtiments, par exemple la nature et proportions des sources d’énergie utilisées..\n",
    "\n",
    "Fais bien attention au traitement des différentes variables, à la fois pour trouver de nouvelles informations (peut-on déduire des choses intéressantes d’une simple adresse ?) et optimiser les performances en appliquant des transformations simples aux variables (normalisation, passage au log, etc.).\n",
    "\n",
    "Mets en place une évaluation rigoureuse des performances de la régression, et optimise les hyperparamètres et le choix d’algorithmes de ML à l’aide d’une validation croisée."
   ],
   "metadata": {
    "collapsed": false,
    "pycharm": {
     "name": "#%% md\n"
    }
   }
  },
  {
   "cell_type": "markdown",
   "source": [
    "\n",
    "\n",
    "Tester les modèles suivants : **regression linéaire (avec différentes régularisation : Ridge, Lasso, Elastic), Random Forest, XGboost**\n",
    "Penser à comparer les performances des différents modèles : utiliser la **MAE** ( Mean Absolute Error)\n",
    "Penser également à optimiser les hyper paramètres de chaque modèle via **GridSearch**\n"
   ],
   "metadata": {
    "collapsed": false,
    "pycharm": {
     "name": "#%% md\n"
    }
   }
  },
  {
   "cell_type": "markdown",
   "source": [
    "Evaluate :\n",
    "\n",
    "https://cloud.google.com/automl-tables/docs/evaluate?hl=fr\n",
    "\n",
    "\n",
    "KFOLD\n",
    "\n",
    "Entrée : données X (dimension nxp), étiquettes y (dimension n), nombre de folds k\n",
    "\n",
    "Couper [0, 1, ..., n-1] en k parties de taille (n/k). (La dernière partie sera un peu plus petite si n n'est pas un multiple de k)\n",
    "\n",
    "for i=0 to (k-1):\n",
    "    Former le jeu de test (X_test, y_test) en restreignant X et y aux indices contenus dans la i-ième partie.\n",
    "    Former le jeu d'entraînement (X_train, y_train) en restreignant X et y aux autres indices.\n",
    "    Entraîner l'algorithme sur le jeu d'entraînement\n",
    "    Utiliser le modèle ainsi obtenu pour prédire sur le jeu de test\n",
    "        Calculer l'erreur du modèle en comparant les étiquettes prédites aux vraies étiquettes contenues dans y_test\n",
    "\n",
    "Sortie : la valeur moyenne des erreurs calculées sur les k folds."
   ],
   "metadata": {
    "collapsed": false,
    "pycharm": {
     "name": "#%% md\n"
    }
   }
  },
  {
   "cell_type": "code",
   "execution_count": 1,
   "outputs": [],
   "source": [
    "# 1 modele de Regression (RL classsque / Elastic / ridig / laso\n",
    "# Random Forest\n",
    "# XGBOOST\n",
    "\n",
    "# var à rpedire tottal GHE Emssion last one to predict\n",
    "# cette var deped de la consommation des bateimenst (1) prediction sur elec, steam, naturalgas et un autre energie (2) et reutiliser pour predire"
   ],
   "metadata": {
    "collapsed": false,
    "pycharm": {
     "name": "#%%\n"
    }
   }
  },
  {
   "cell_type": "markdown",
   "source": [
    "### Introduction"
   ],
   "metadata": {
    "collapsed": false,
    "pycharm": {
     "name": "#%% md\n"
    }
   }
  },
  {
   "cell_type": "markdown",
   "source": [
    "#### Importing libraries"
   ],
   "metadata": {
    "collapsed": false,
    "pycharm": {
     "name": "#%% md\n"
    }
   }
  },
  {
   "cell_type": "code",
   "execution_count": 2,
   "outputs": [
    {
     "data": {
      "application/javascript": "IPython.notebook.set_autosave_interval(300000)"
     },
     "metadata": {},
     "output_type": "display_data"
    },
    {
     "name": "stdout",
     "output_type": "stream",
     "text": [
      "Autosaving every 300 seconds\n"
     ]
    }
   ],
   "source": [
    "%reset -f\n",
    "\n",
    "import numpy as np\n",
    "import pandas as pd\n",
    "import matplotlib.pyplot as plt\n",
    "import seaborn as sns\n",
    "\n",
    "%matplotlib inline\n",
    "%autosave 300"
   ],
   "metadata": {
    "collapsed": false,
    "pycharm": {
     "name": "#%%\n"
    }
   }
  },
  {
   "cell_type": "code",
   "execution_count": 3,
   "outputs": [],
   "source": [
    "from functions import *"
   ],
   "metadata": {
    "collapsed": false,
    "pycharm": {
     "name": "#%%\n"
    }
   }
  },
  {
   "cell_type": "code",
   "execution_count": 4,
   "outputs": [],
   "source": [
    "import os, warnings\n",
    "# warnings.filterwarnings('ignore')\n",
    "warnings.filterwarnings(action=\"ignore\")"
   ],
   "metadata": {
    "collapsed": false,
    "pycharm": {
     "name": "#%%\n"
    }
   }
  },
  {
   "cell_type": "code",
   "execution_count": 5,
   "outputs": [
    {
     "name": "stdout",
     "output_type": "stream",
     "text": [
      "Seed value:  42\n"
     ]
    }
   ],
   "source": [
    "# Set random integer (seed) - 891\n",
    "from random import randrange\n",
    "#seed = randrange(1000)\n",
    "seed = 42\n",
    "print(\"Seed value: \", seed)"
   ],
   "metadata": {
    "collapsed": false,
    "pycharm": {
     "name": "#%%\n"
    }
   }
  },
  {
   "cell_type": "markdown",
   "source": [
    "#### Loading dataset"
   ],
   "metadata": {
    "collapsed": false,
    "pycharm": {
     "name": "#%% md\n"
    }
   }
  },
  {
   "cell_type": "code",
   "execution_count": 6,
   "outputs": [
    {
     "name": "stdout",
     "output_type": "stream",
     "text": [
      "This dictionary will be used when reading the csv file to assign a type to categorical features : {'BuildingType': 'category', 'PrimaryPropertyType': 'category', 'Neighborhood': 'category', 'ZipCode': 'category', 'CouncilDistrictCode': 'category', 'LargestPropertyUseType': 'category', 'SecondLargestPropertyUseType': 'category', 'ThirdLargestPropertyUseType': 'category'}\n"
     ]
    }
   ],
   "source": [
    "columns_to_categorize = [\"BuildingType\", \"PrimaryPropertyType\", \"Neighborhood\", \"ZipCode\", \"CouncilDistrictCode\", \"LargestPropertyUseType\", \"SecondLargestPropertyUseType\", \"ThirdLargestPropertyUseType\"]\n",
    "#  \"Neighborhood\",\n",
    "category_types = {column: 'category' for column in columns_to_categorize}\n",
    "print(\"This dictionary will be used when reading the csv file to assign a type to categorical features :\", category_types)"
   ],
   "metadata": {
    "collapsed": false,
    "pycharm": {
     "name": "#%%\n"
    }
   }
  },
  {
   "cell_type": "code",
   "execution_count": 7,
   "outputs": [],
   "source": [
    "path = \"./dataset/cleaned/\"\n",
    "filename = \"2016_Building_Energy_Prediction.csv\"\n",
    "dataset_path = \"{}{}\".format(path, filename)\n",
    "# we assign the categorical features with a categotical type\n",
    "data = pd.read_csv(dataset_path, dtype=category_types, sep=\",\")"
   ],
   "metadata": {
    "collapsed": false,
    "pycharm": {
     "name": "#%%\n"
    }
   }
  },
  {
   "cell_type": "code",
   "execution_count": 8,
   "outputs": [
    {
     "data": {
      "text/plain": "(3157, 37)"
     },
     "execution_count": 8,
     "metadata": {},
     "output_type": "execute_result"
    }
   ],
   "source": [
    "data.shape"
   ],
   "metadata": {
    "collapsed": false,
    "pycharm": {
     "name": "#%%\n"
    }
   }
  },
  {
   "cell_type": "code",
   "execution_count": 9,
   "outputs": [
    {
     "data": {
      "text/plain": "OSEBuildingID                             int64\nBuildingType                           category\nPrimaryPropertyType                    category\nZipCode                                category\nCouncilDistrictCode                    category\nNeighborhood                           category\nYearBuilt                                 int64\nNumberofBuildings                       float64\nNumberofFloors                            int64\nPropertyGFATotal                          int64\nPropertyGFAParking                        int64\nPropertyGFABuilding(s)                    int64\nLargestPropertyUseType                 category\nLargestPropertyUseTypeGFA               float64\nSecondLargestPropertyUseType           category\nSecondLargestPropertyUseTypeGFA         float64\nThirdLargestPropertyUseType            category\nThirdLargestPropertyUseTypeGFA          float64\nENERGYSTARScore                         float64\nSiteEnergyUse(kBtu)                     float64\nSteamUse(kBtu)                          float64\nElectricity(kBtu)                       float64\nNaturalGas(kBtu)                        float64\nTotalGHGEmissions                       float64\nLog-NumberofBuildings                   float64\nLog-NumberofFloors                      float64\nLog-PropertyGFATotal                    float64\nLog-PropertyGFAParking                  float64\nLog-PropertyGFABuilding(s)              float64\nLog-LargestPropertyUseTypeGFA           float64\nLog-SecondLargestPropertyUseTypeGFA     float64\nLog-ThirdLargestPropertyUseTypeGFA      float64\nLog-SiteEnergyUse(kBtu)                 float64\nLog-SteamUse(kBtu)                      float64\nLog-Electricity(kBtu)                   float64\nLog-NaturalGas(kBtu)                    float64\nLog-TotalGHGEmissions                   float64\ndtype: object"
     },
     "execution_count": 9,
     "metadata": {},
     "output_type": "execute_result"
    }
   ],
   "source": [
    "data.dtypes"
   ],
   "metadata": {
    "collapsed": false,
    "pycharm": {
     "name": "#%%\n"
    }
   }
  },
  {
   "cell_type": "code",
   "execution_count": 10,
   "outputs": [],
   "source": [
    "# predict : Electricity\n",
    "# train / test\n",
    "# standardisation = retirer la moyen et div par ecart type (scaling : les var qn sur emem echelle\n",
    "# var categ : encoding (one hot encoder)\n",
    "\n",
    "# la fin Feature engineriing\n",
    "\n",
    "# 2) entrainer le smodels\n",
    "# perf\n",
    "# temps de calcul\n",
    "# graph pour montrer la perf de chaque modele(barplot)\n",
    "# obj : finir exploration / finir feature engineering\n",
    "# obj un premier noteboook propre (try max)"
   ],
   "metadata": {
    "collapsed": false,
    "pycharm": {
     "name": "#%%\n"
    }
   }
  },
  {
   "cell_type": "code",
   "execution_count": 11,
   "outputs": [
    {
     "data": {
      "text/plain": "Index(['OSEBuildingID', 'BuildingType', 'PrimaryPropertyType', 'ZipCode',\n       'CouncilDistrictCode', 'Neighborhood', 'YearBuilt', 'NumberofBuildings',\n       'NumberofFloors', 'PropertyGFATotal', 'PropertyGFAParking',\n       'PropertyGFABuilding(s)', 'LargestPropertyUseType',\n       'LargestPropertyUseTypeGFA', 'SecondLargestPropertyUseType',\n       'SecondLargestPropertyUseTypeGFA', 'ThirdLargestPropertyUseType',\n       'ThirdLargestPropertyUseTypeGFA', 'ENERGYSTARScore',\n       'SiteEnergyUse(kBtu)', 'SteamUse(kBtu)', 'Electricity(kBtu)',\n       'NaturalGas(kBtu)', 'TotalGHGEmissions', 'Log-NumberofBuildings',\n       'Log-NumberofFloors', 'Log-PropertyGFATotal', 'Log-PropertyGFAParking',\n       'Log-PropertyGFABuilding(s)', 'Log-LargestPropertyUseTypeGFA',\n       'Log-SecondLargestPropertyUseTypeGFA',\n       'Log-ThirdLargestPropertyUseTypeGFA', 'Log-SiteEnergyUse(kBtu)',\n       'Log-SteamUse(kBtu)', 'Log-Electricity(kBtu)', 'Log-NaturalGas(kBtu)',\n       'Log-TotalGHGEmissions'],\n      dtype='object')"
     },
     "execution_count": 11,
     "metadata": {},
     "output_type": "execute_result"
    }
   ],
   "source": [
    "data.columns"
   ],
   "metadata": {
    "collapsed": false,
    "pycharm": {
     "name": "#%%\n"
    }
   }
  },
  {
   "cell_type": "code",
   "execution_count": 12,
   "outputs": [
    {
     "name": "stdout",
     "output_type": "stream",
     "text": [
      "['YearBuilt', 'BuildingType', 'PrimaryPropertyType', 'Neighborhood', 'LargestPropertyUseType', 'Log-NumberofFloors', 'Log-PropertyGFATotal', 'Log-PropertyGFABuilding(s)', 'Log-PropertyGFAParking', 'Log-LargestPropertyUseTypeGFA', 'Log-SecondLargestPropertyUseTypeGFA', 'Log-ThirdLargestPropertyUseTypeGFA', 'Log-SiteEnergyUse(kBtu)']\n"
     ]
    }
   ],
   "source": [
    "features_for_prediction = [\"YearBuilt\", \"BuildingType\", \"PrimaryPropertyType\", \"Neighborhood\", \"LargestPropertyUseType\", \"Log-NumberofFloors\", \"Log-PropertyGFATotal\", \"Log-PropertyGFABuilding(s)\", \"Log-PropertyGFAParking\", \"Log-LargestPropertyUseTypeGFA\", \"Log-SecondLargestPropertyUseTypeGFA\", \"Log-ThirdLargestPropertyUseTypeGFA\"]\n",
    "\n",
    "#features_for_prediction = [\"YearBuilt\", \"NumberofBuildings\", \"NumberofFloors\", \"LargestPropertyUseTypeGFA\", \"SecondLargestPropertyUseTypeGFA\", \"ThirdLargestPropertyUseTypeGFA\",\n",
    "   #                        \"BuildingType\",\"PrimaryPropertyType\", \"Neighborhood\", \"LargestPropertyUseType\", \"SecondLargestPropertyUseType\", \"ThirdLargestPropertyUseType\"]\n",
    "\n",
    "variable_to_predict = \"Log-SiteEnergyUse(kBtu)\"\n",
    "\n",
    "features_for_prediction.append(variable_to_predict)\n",
    "print(features_for_prediction)\n"
   ],
   "metadata": {
    "collapsed": false,
    "pycharm": {
     "name": "#%%\n"
    }
   }
  },
  {
   "cell_type": "code",
   "execution_count": 13,
   "outputs": [
    {
     "data": {
      "text/plain": "      YearBuilt          BuildingType          PrimaryPropertyType  \\\n0          1978  Multifamily LR (1-4)         Low-Rise Multifamily   \n1          1928        NonResidential                    Warehouse   \n2          1925  Multifamily LR (1-4)         Low-Rise Multifamily   \n3          1971  Multifamily HR (10+)        High-Rise Multifamily   \n4          2001  Multifamily LR (1-4)         Low-Rise Multifamily   \n...         ...                   ...                          ...   \n3152       2001        NonResidential           Mixed Use Property   \n3153       1907  Multifamily LR (1-4)         Low-Rise Multifamily   \n3154       2001        NonResidential  Small- and Mid-Sized Office   \n3155       1911        NonResidential                 Retail Store   \n3156       1938    Nonresidential COS           Mixed Use Property   \n\n          Neighborhood      LargestPropertyUseType  Log-NumberofFloors  \\\n0              central         Multifamily Housing            1.386294   \n1     greater duwamish  Non-Refrigerated Warehouse            1.098612   \n2     greater duwamish         Multifamily Housing            1.386294   \n3     greater duwamish         Multifamily Housing            2.772589   \n4     greater duwamish         Multifamily Housing            1.386294   \n...                ...                         ...                 ...   \n3152        lake union         Multifamily Housing            1.386294   \n3153        lake union         Multifamily Housing            1.609438   \n3154        lake union                      Office            1.791759   \n3155        lake union                Retail Store            1.098612   \n3156  greater duwamish          Other - Recreation            0.693147   \n\n      Log-PropertyGFATotal  Log-PropertyGFABuilding(s)  \\\n0                 9.939819                    9.939819   \n1                10.164158                   10.164158   \n2                10.131459                   10.131459   \n3                11.210455                   11.210455   \n4                10.501884                   10.287184   \n...                    ...                         ...   \n3152             10.641321                   10.392129   \n3153             10.509469                   10.509469   \n3154             10.426469                   10.230306   \n3155              9.929009                    9.929009   \n3156              9.812413                    9.812413   \n\n      Log-PropertyGFAParking  Log-LargestPropertyUseTypeGFA  \\\n0                   0.000000                       9.777301   \n1                   0.000000                       9.557541   \n2                   0.000000                      10.131459   \n3                   0.000000                      11.288694   \n4                   8.858084                      10.132772   \n...                      ...                            ...   \n3152                9.129889                       9.566195   \n3153                0.000000                      10.509469   \n3154                8.701346                       9.674640   \n3155                0.000000                       9.225820   \n3156                0.000000                       9.020632   \n\n      Log-SecondLargestPropertyUseTypeGFA  Log-ThirdLargestPropertyUseTypeGFA  \\\n0                                0.000000                            0.000000   \n1                                9.076352                            8.026497   \n2                                0.000000                            0.000000   \n3                                0.000000                            0.000000   \n4                                8.343078                            0.000000   \n...                                   ...                                 ...   \n3152                             9.555985                            9.177920   \n3153                             0.000000                            0.000000   \n3154                             9.078294                            7.313887   \n3155                             8.987322                            0.000000   \n3156                             8.987322                            7.011214   \n\n      Log-SiteEnergyUse(kBtu)  \n0                   13.612539  \n1                   14.012813  \n2                   13.281689  \n3                   14.985437  \n4                   13.775718  \n...                       ...  \n3152                15.249016  \n3153                13.743337  \n3154                14.071242  \n3155                13.837074  \n3156                13.957789  \n\n[3157 rows x 13 columns]",
      "text/html": "<div>\n<style scoped>\n    .dataframe tbody tr th:only-of-type {\n        vertical-align: middle;\n    }\n\n    .dataframe tbody tr th {\n        vertical-align: top;\n    }\n\n    .dataframe thead th {\n        text-align: right;\n    }\n</style>\n<table border=\"1\" class=\"dataframe\">\n  <thead>\n    <tr style=\"text-align: right;\">\n      <th></th>\n      <th>YearBuilt</th>\n      <th>BuildingType</th>\n      <th>PrimaryPropertyType</th>\n      <th>Neighborhood</th>\n      <th>LargestPropertyUseType</th>\n      <th>Log-NumberofFloors</th>\n      <th>Log-PropertyGFATotal</th>\n      <th>Log-PropertyGFABuilding(s)</th>\n      <th>Log-PropertyGFAParking</th>\n      <th>Log-LargestPropertyUseTypeGFA</th>\n      <th>Log-SecondLargestPropertyUseTypeGFA</th>\n      <th>Log-ThirdLargestPropertyUseTypeGFA</th>\n      <th>Log-SiteEnergyUse(kBtu)</th>\n    </tr>\n  </thead>\n  <tbody>\n    <tr>\n      <th>0</th>\n      <td>1978</td>\n      <td>Multifamily LR (1-4)</td>\n      <td>Low-Rise Multifamily</td>\n      <td>central</td>\n      <td>Multifamily Housing</td>\n      <td>1.386294</td>\n      <td>9.939819</td>\n      <td>9.939819</td>\n      <td>0.000000</td>\n      <td>9.777301</td>\n      <td>0.000000</td>\n      <td>0.000000</td>\n      <td>13.612539</td>\n    </tr>\n    <tr>\n      <th>1</th>\n      <td>1928</td>\n      <td>NonResidential</td>\n      <td>Warehouse</td>\n      <td>greater duwamish</td>\n      <td>Non-Refrigerated Warehouse</td>\n      <td>1.098612</td>\n      <td>10.164158</td>\n      <td>10.164158</td>\n      <td>0.000000</td>\n      <td>9.557541</td>\n      <td>9.076352</td>\n      <td>8.026497</td>\n      <td>14.012813</td>\n    </tr>\n    <tr>\n      <th>2</th>\n      <td>1925</td>\n      <td>Multifamily LR (1-4)</td>\n      <td>Low-Rise Multifamily</td>\n      <td>greater duwamish</td>\n      <td>Multifamily Housing</td>\n      <td>1.386294</td>\n      <td>10.131459</td>\n      <td>10.131459</td>\n      <td>0.000000</td>\n      <td>10.131459</td>\n      <td>0.000000</td>\n      <td>0.000000</td>\n      <td>13.281689</td>\n    </tr>\n    <tr>\n      <th>3</th>\n      <td>1971</td>\n      <td>Multifamily HR (10+)</td>\n      <td>High-Rise Multifamily</td>\n      <td>greater duwamish</td>\n      <td>Multifamily Housing</td>\n      <td>2.772589</td>\n      <td>11.210455</td>\n      <td>11.210455</td>\n      <td>0.000000</td>\n      <td>11.288694</td>\n      <td>0.000000</td>\n      <td>0.000000</td>\n      <td>14.985437</td>\n    </tr>\n    <tr>\n      <th>4</th>\n      <td>2001</td>\n      <td>Multifamily LR (1-4)</td>\n      <td>Low-Rise Multifamily</td>\n      <td>greater duwamish</td>\n      <td>Multifamily Housing</td>\n      <td>1.386294</td>\n      <td>10.501884</td>\n      <td>10.287184</td>\n      <td>8.858084</td>\n      <td>10.132772</td>\n      <td>8.343078</td>\n      <td>0.000000</td>\n      <td>13.775718</td>\n    </tr>\n    <tr>\n      <th>...</th>\n      <td>...</td>\n      <td>...</td>\n      <td>...</td>\n      <td>...</td>\n      <td>...</td>\n      <td>...</td>\n      <td>...</td>\n      <td>...</td>\n      <td>...</td>\n      <td>...</td>\n      <td>...</td>\n      <td>...</td>\n      <td>...</td>\n    </tr>\n    <tr>\n      <th>3152</th>\n      <td>2001</td>\n      <td>NonResidential</td>\n      <td>Mixed Use Property</td>\n      <td>lake union</td>\n      <td>Multifamily Housing</td>\n      <td>1.386294</td>\n      <td>10.641321</td>\n      <td>10.392129</td>\n      <td>9.129889</td>\n      <td>9.566195</td>\n      <td>9.555985</td>\n      <td>9.177920</td>\n      <td>15.249016</td>\n    </tr>\n    <tr>\n      <th>3153</th>\n      <td>1907</td>\n      <td>Multifamily LR (1-4)</td>\n      <td>Low-Rise Multifamily</td>\n      <td>lake union</td>\n      <td>Multifamily Housing</td>\n      <td>1.609438</td>\n      <td>10.509469</td>\n      <td>10.509469</td>\n      <td>0.000000</td>\n      <td>10.509469</td>\n      <td>0.000000</td>\n      <td>0.000000</td>\n      <td>13.743337</td>\n    </tr>\n    <tr>\n      <th>3154</th>\n      <td>2001</td>\n      <td>NonResidential</td>\n      <td>Small- and Mid-Sized Office</td>\n      <td>lake union</td>\n      <td>Office</td>\n      <td>1.791759</td>\n      <td>10.426469</td>\n      <td>10.230306</td>\n      <td>8.701346</td>\n      <td>9.674640</td>\n      <td>9.078294</td>\n      <td>7.313887</td>\n      <td>14.071242</td>\n    </tr>\n    <tr>\n      <th>3155</th>\n      <td>1911</td>\n      <td>NonResidential</td>\n      <td>Retail Store</td>\n      <td>lake union</td>\n      <td>Retail Store</td>\n      <td>1.098612</td>\n      <td>9.929009</td>\n      <td>9.929009</td>\n      <td>0.000000</td>\n      <td>9.225820</td>\n      <td>8.987322</td>\n      <td>0.000000</td>\n      <td>13.837074</td>\n    </tr>\n    <tr>\n      <th>3156</th>\n      <td>1938</td>\n      <td>Nonresidential COS</td>\n      <td>Mixed Use Property</td>\n      <td>greater duwamish</td>\n      <td>Other - Recreation</td>\n      <td>0.693147</td>\n      <td>9.812413</td>\n      <td>9.812413</td>\n      <td>0.000000</td>\n      <td>9.020632</td>\n      <td>8.987322</td>\n      <td>7.011214</td>\n      <td>13.957789</td>\n    </tr>\n  </tbody>\n</table>\n<p>3157 rows × 13 columns</p>\n</div>"
     },
     "execution_count": 13,
     "metadata": {},
     "output_type": "execute_result"
    }
   ],
   "source": [
    "data = data[features_for_prediction]\n",
    "\n",
    "data"
   ],
   "metadata": {
    "collapsed": false,
    "pycharm": {
     "name": "#%%\n"
    }
   }
  },
  {
   "cell_type": "markdown",
   "source": [
    "## I) Feature Engineering : preparing the vectors and matrices\n"
   ],
   "metadata": {
    "collapsed": false,
    "pycharm": {
     "name": "#%% md\n"
    }
   }
  },
  {
   "cell_type": "markdown",
   "source": [
    "#### 1) Separating training data and target vector"
   ],
   "metadata": {
    "collapsed": false,
    "pycharm": {
     "name": "#%% md\n"
    }
   }
  },
  {
   "cell_type": "code",
   "execution_count": 14,
   "outputs": [
    {
     "name": "stdout",
     "output_type": "stream",
     "text": [
      "Shape of X : (3157, 12)\n",
      "Shape of y : (3157,)\n"
     ]
    }
   ],
   "source": [
    "# we create the data matrix / we only take the features\n",
    "X = data[data.columns[:-1]]\n",
    "\n",
    "# we create the target vector\n",
    "y = data[variable_to_predict].values # numpy array not a DataFrame anymore\n",
    "\n",
    "print(\"Shape of X :\", X.shape)\n",
    "print(\"Shape of y :\", y.shape)"
   ],
   "metadata": {
    "collapsed": false,
    "pycharm": {
     "name": "#%%\n"
    }
   }
  },
  {
   "cell_type": "code",
   "execution_count": 15,
   "outputs": [
    {
     "data": {
      "text/plain": "      YearBuilt          BuildingType          PrimaryPropertyType  \\\n0          1978  Multifamily LR (1-4)         Low-Rise Multifamily   \n1          1928        NonResidential                    Warehouse   \n2          1925  Multifamily LR (1-4)         Low-Rise Multifamily   \n3          1971  Multifamily HR (10+)        High-Rise Multifamily   \n4          2001  Multifamily LR (1-4)         Low-Rise Multifamily   \n...         ...                   ...                          ...   \n3152       2001        NonResidential           Mixed Use Property   \n3153       1907  Multifamily LR (1-4)         Low-Rise Multifamily   \n3154       2001        NonResidential  Small- and Mid-Sized Office   \n3155       1911        NonResidential                 Retail Store   \n3156       1938    Nonresidential COS           Mixed Use Property   \n\n          Neighborhood      LargestPropertyUseType  Log-NumberofFloors  \\\n0              central         Multifamily Housing            1.386294   \n1     greater duwamish  Non-Refrigerated Warehouse            1.098612   \n2     greater duwamish         Multifamily Housing            1.386294   \n3     greater duwamish         Multifamily Housing            2.772589   \n4     greater duwamish         Multifamily Housing            1.386294   \n...                ...                         ...                 ...   \n3152        lake union         Multifamily Housing            1.386294   \n3153        lake union         Multifamily Housing            1.609438   \n3154        lake union                      Office            1.791759   \n3155        lake union                Retail Store            1.098612   \n3156  greater duwamish          Other - Recreation            0.693147   \n\n      Log-PropertyGFATotal  Log-PropertyGFABuilding(s)  \\\n0                 9.939819                    9.939819   \n1                10.164158                   10.164158   \n2                10.131459                   10.131459   \n3                11.210455                   11.210455   \n4                10.501884                   10.287184   \n...                    ...                         ...   \n3152             10.641321                   10.392129   \n3153             10.509469                   10.509469   \n3154             10.426469                   10.230306   \n3155              9.929009                    9.929009   \n3156              9.812413                    9.812413   \n\n      Log-PropertyGFAParking  Log-LargestPropertyUseTypeGFA  \\\n0                   0.000000                       9.777301   \n1                   0.000000                       9.557541   \n2                   0.000000                      10.131459   \n3                   0.000000                      11.288694   \n4                   8.858084                      10.132772   \n...                      ...                            ...   \n3152                9.129889                       9.566195   \n3153                0.000000                      10.509469   \n3154                8.701346                       9.674640   \n3155                0.000000                       9.225820   \n3156                0.000000                       9.020632   \n\n      Log-SecondLargestPropertyUseTypeGFA  Log-ThirdLargestPropertyUseTypeGFA  \n0                                0.000000                            0.000000  \n1                                9.076352                            8.026497  \n2                                0.000000                            0.000000  \n3                                0.000000                            0.000000  \n4                                8.343078                            0.000000  \n...                                   ...                                 ...  \n3152                             9.555985                            9.177920  \n3153                             0.000000                            0.000000  \n3154                             9.078294                            7.313887  \n3155                             8.987322                            0.000000  \n3156                             8.987322                            7.011214  \n\n[3157 rows x 12 columns]",
      "text/html": "<div>\n<style scoped>\n    .dataframe tbody tr th:only-of-type {\n        vertical-align: middle;\n    }\n\n    .dataframe tbody tr th {\n        vertical-align: top;\n    }\n\n    .dataframe thead th {\n        text-align: right;\n    }\n</style>\n<table border=\"1\" class=\"dataframe\">\n  <thead>\n    <tr style=\"text-align: right;\">\n      <th></th>\n      <th>YearBuilt</th>\n      <th>BuildingType</th>\n      <th>PrimaryPropertyType</th>\n      <th>Neighborhood</th>\n      <th>LargestPropertyUseType</th>\n      <th>Log-NumberofFloors</th>\n      <th>Log-PropertyGFATotal</th>\n      <th>Log-PropertyGFABuilding(s)</th>\n      <th>Log-PropertyGFAParking</th>\n      <th>Log-LargestPropertyUseTypeGFA</th>\n      <th>Log-SecondLargestPropertyUseTypeGFA</th>\n      <th>Log-ThirdLargestPropertyUseTypeGFA</th>\n    </tr>\n  </thead>\n  <tbody>\n    <tr>\n      <th>0</th>\n      <td>1978</td>\n      <td>Multifamily LR (1-4)</td>\n      <td>Low-Rise Multifamily</td>\n      <td>central</td>\n      <td>Multifamily Housing</td>\n      <td>1.386294</td>\n      <td>9.939819</td>\n      <td>9.939819</td>\n      <td>0.000000</td>\n      <td>9.777301</td>\n      <td>0.000000</td>\n      <td>0.000000</td>\n    </tr>\n    <tr>\n      <th>1</th>\n      <td>1928</td>\n      <td>NonResidential</td>\n      <td>Warehouse</td>\n      <td>greater duwamish</td>\n      <td>Non-Refrigerated Warehouse</td>\n      <td>1.098612</td>\n      <td>10.164158</td>\n      <td>10.164158</td>\n      <td>0.000000</td>\n      <td>9.557541</td>\n      <td>9.076352</td>\n      <td>8.026497</td>\n    </tr>\n    <tr>\n      <th>2</th>\n      <td>1925</td>\n      <td>Multifamily LR (1-4)</td>\n      <td>Low-Rise Multifamily</td>\n      <td>greater duwamish</td>\n      <td>Multifamily Housing</td>\n      <td>1.386294</td>\n      <td>10.131459</td>\n      <td>10.131459</td>\n      <td>0.000000</td>\n      <td>10.131459</td>\n      <td>0.000000</td>\n      <td>0.000000</td>\n    </tr>\n    <tr>\n      <th>3</th>\n      <td>1971</td>\n      <td>Multifamily HR (10+)</td>\n      <td>High-Rise Multifamily</td>\n      <td>greater duwamish</td>\n      <td>Multifamily Housing</td>\n      <td>2.772589</td>\n      <td>11.210455</td>\n      <td>11.210455</td>\n      <td>0.000000</td>\n      <td>11.288694</td>\n      <td>0.000000</td>\n      <td>0.000000</td>\n    </tr>\n    <tr>\n      <th>4</th>\n      <td>2001</td>\n      <td>Multifamily LR (1-4)</td>\n      <td>Low-Rise Multifamily</td>\n      <td>greater duwamish</td>\n      <td>Multifamily Housing</td>\n      <td>1.386294</td>\n      <td>10.501884</td>\n      <td>10.287184</td>\n      <td>8.858084</td>\n      <td>10.132772</td>\n      <td>8.343078</td>\n      <td>0.000000</td>\n    </tr>\n    <tr>\n      <th>...</th>\n      <td>...</td>\n      <td>...</td>\n      <td>...</td>\n      <td>...</td>\n      <td>...</td>\n      <td>...</td>\n      <td>...</td>\n      <td>...</td>\n      <td>...</td>\n      <td>...</td>\n      <td>...</td>\n      <td>...</td>\n    </tr>\n    <tr>\n      <th>3152</th>\n      <td>2001</td>\n      <td>NonResidential</td>\n      <td>Mixed Use Property</td>\n      <td>lake union</td>\n      <td>Multifamily Housing</td>\n      <td>1.386294</td>\n      <td>10.641321</td>\n      <td>10.392129</td>\n      <td>9.129889</td>\n      <td>9.566195</td>\n      <td>9.555985</td>\n      <td>9.177920</td>\n    </tr>\n    <tr>\n      <th>3153</th>\n      <td>1907</td>\n      <td>Multifamily LR (1-4)</td>\n      <td>Low-Rise Multifamily</td>\n      <td>lake union</td>\n      <td>Multifamily Housing</td>\n      <td>1.609438</td>\n      <td>10.509469</td>\n      <td>10.509469</td>\n      <td>0.000000</td>\n      <td>10.509469</td>\n      <td>0.000000</td>\n      <td>0.000000</td>\n    </tr>\n    <tr>\n      <th>3154</th>\n      <td>2001</td>\n      <td>NonResidential</td>\n      <td>Small- and Mid-Sized Office</td>\n      <td>lake union</td>\n      <td>Office</td>\n      <td>1.791759</td>\n      <td>10.426469</td>\n      <td>10.230306</td>\n      <td>8.701346</td>\n      <td>9.674640</td>\n      <td>9.078294</td>\n      <td>7.313887</td>\n    </tr>\n    <tr>\n      <th>3155</th>\n      <td>1911</td>\n      <td>NonResidential</td>\n      <td>Retail Store</td>\n      <td>lake union</td>\n      <td>Retail Store</td>\n      <td>1.098612</td>\n      <td>9.929009</td>\n      <td>9.929009</td>\n      <td>0.000000</td>\n      <td>9.225820</td>\n      <td>8.987322</td>\n      <td>0.000000</td>\n    </tr>\n    <tr>\n      <th>3156</th>\n      <td>1938</td>\n      <td>Nonresidential COS</td>\n      <td>Mixed Use Property</td>\n      <td>greater duwamish</td>\n      <td>Other - Recreation</td>\n      <td>0.693147</td>\n      <td>9.812413</td>\n      <td>9.812413</td>\n      <td>0.000000</td>\n      <td>9.020632</td>\n      <td>8.987322</td>\n      <td>7.011214</td>\n    </tr>\n  </tbody>\n</table>\n<p>3157 rows × 12 columns</p>\n</div>"
     },
     "execution_count": 15,
     "metadata": {},
     "output_type": "execute_result"
    }
   ],
   "source": [
    "X"
   ],
   "metadata": {
    "collapsed": false,
    "pycharm": {
     "name": "#%%\n"
    }
   }
  },
  {
   "cell_type": "markdown",
   "source": [
    "#### 2) Separation train and test dataset\n"
   ],
   "metadata": {
    "collapsed": false,
    "pycharm": {
     "name": "#%% md\n"
    }
   }
  },
  {
   "cell_type": "code",
   "execution_count": 16,
   "outputs": [
    {
     "name": "stdout",
     "output_type": "stream",
     "text": [
      "We have to separate the train / test sets before normalising the dataset.\n"
     ]
    }
   ],
   "source": [
    "print(\"We have to separate the train / test sets before normalising the dataset.\")"
   ],
   "metadata": {
    "collapsed": false,
    "pycharm": {
     "name": "#%%\n"
    }
   }
  },
  {
   "cell_type": "code",
   "execution_count": 17,
   "outputs": [],
   "source": [
    "# We create a training set and a test set (the test set contains 30% of the dataset)\n",
    "from sklearn import model_selection\n",
    "X_train, X_test, y_train, y_test = model_selection.train_test_split(X, y, test_size=0.3,  random_state=seed)"
   ],
   "metadata": {
    "collapsed": false,
    "pycharm": {
     "name": "#%%\n"
    }
   }
  },
  {
   "cell_type": "code",
   "execution_count": 18,
   "outputs": [
    {
     "data": {
      "text/plain": "(2209, 12)"
     },
     "execution_count": 18,
     "metadata": {},
     "output_type": "execute_result"
    }
   ],
   "source": [
    "X_train.shape"
   ],
   "metadata": {
    "collapsed": false,
    "pycharm": {
     "name": "#%%\n"
    }
   }
  },
  {
   "cell_type": "code",
   "execution_count": 19,
   "outputs": [
    {
     "data": {
      "text/plain": "(948, 12)"
     },
     "execution_count": 19,
     "metadata": {},
     "output_type": "execute_result"
    }
   ],
   "source": [
    "X_test.shape"
   ],
   "metadata": {
    "collapsed": false,
    "pycharm": {
     "name": "#%%\n"
    }
   }
  },
  {
   "cell_type": "markdown",
   "source": [
    "#### 3) Normalization"
   ],
   "metadata": {
    "collapsed": false,
    "pycharm": {
     "name": "#%% md\n"
    }
   }
  },
  {
   "cell_type": "code",
   "execution_count": 20,
   "outputs": [],
   "source": [
    "from sklearn.preprocessing import StandardScaler, OneHotEncoder, MinMaxScaler"
   ],
   "metadata": {
    "collapsed": false,
    "pycharm": {
     "name": "#%%\n"
    }
   }
  },
  {
   "cell_type": "code",
   "execution_count": 21,
   "outputs": [
    {
     "name": "stdout",
     "output_type": "stream",
     "text": [
      "We separate categorical variables from numerical variables.\n"
     ]
    }
   ],
   "source": [
    "print(\"We separate categorical variables from numerical variables.\")"
   ],
   "metadata": {
    "collapsed": false,
    "pycharm": {
     "name": "#%%\n"
    }
   }
  },
  {
   "cell_type": "code",
   "execution_count": 22,
   "outputs": [
    {
     "name": "stdout",
     "output_type": "stream",
     "text": [
      "We won't normalise the year so we drop it from numerical_columns.\n",
      "Shape of categorical variables :  (4,)\n",
      "Shape of numerical variables : (7,)\n"
     ]
    }
   ],
   "source": [
    "X.select_dtypes(['category','object']) # we don't have 'object' here but it is just in case.\n",
    "\n",
    "categorical_columns = X.select_dtypes(['category','object']).columns\n",
    "numerical_columns = X.select_dtypes(include='number').columns.drop(\"YearBuilt\") ###\n",
    "#numerical_columns = X.select_dtypes(include='number').columns\n",
    "print(\"We won't normalise the year so we drop it from numerical_columns.\")\n",
    "\n",
    "print(\"Shape of categorical variables : \", categorical_columns.shape)\n",
    "print(\"Shape of numerical variables :\", numerical_columns.shape)"
   ],
   "metadata": {
    "collapsed": false,
    "pycharm": {
     "name": "#%%\n"
    }
   }
  },
  {
   "cell_type": "markdown",
   "source": [
    "##### 1) Data Standardisation"
   ],
   "metadata": {
    "collapsed": false,
    "pycharm": {
     "name": "#%% md\n"
    }
   }
  },
  {
   "cell_type": "markdown",
   "source": [
    "We have to standardize the variables before learning a **Ridge Regression**.\n",
    "Standardizing means that each variable will have a **standard deviation** equal to 1."
   ],
   "metadata": {
    "collapsed": false,
    "pycharm": {
     "name": "#%% md\n"
    }
   }
  },
  {
   "cell_type": "code",
   "execution_count": 23,
   "outputs": [
    {
     "name": "stdout",
     "output_type": "stream",
     "text": [
      "Numerical variables standardization\n",
      "We have : 7 numerical features to standardize.\n",
      "\n",
      "Index(['Log-NumberofFloors', 'Log-PropertyGFATotal',\n",
      "       'Log-PropertyGFABuilding(s)', 'Log-PropertyGFAParking',\n",
      "       'Log-LargestPropertyUseTypeGFA', 'Log-SecondLargestPropertyUseTypeGFA',\n",
      "       'Log-ThirdLargestPropertyUseTypeGFA'],\n",
      "      dtype='object')\n"
     ]
    }
   ],
   "source": [
    "print(\"Numerical variables standardization\")\n",
    "print(\"We have :\", numerical_columns.shape[0], \"numerical features to standardize.\",end=\"\\n\\n\")\n",
    "\n",
    "print(numerical_columns)"
   ],
   "metadata": {
    "collapsed": false,
    "pycharm": {
     "name": "#%%\n"
    }
   }
  },
  {
   "cell_type": "raw",
   "source": [
    "print(\"Dates standardisation : not\")\n",
    "\n",
    "from datetime import datetime\n",
    "\n",
    "def convert_to_timestamp(date):\n",
    "    \"\"\"\n",
    "    Convert date objects to integers\n",
    "    :param date:\n",
    "    :return:\n",
    "    \"\"\"\n",
    "    try:\n",
    "        timestamp = datetime.timestamp(date)\n",
    "        print(\"timestamp =\", timestamp, type(timestamp))\n",
    "        print(\"OK :\", date, type(date))\n",
    "\n",
    "        return timestamp\n",
    "    except Exception as e:\n",
    "        print(\"Error :\", date, type(date))\n",
    "        print(e)\n",
    "\n",
    "def normalize_min_max(data_frame, columns_to_scale):\n",
    "    \"\"\"\n",
    "    Normalizes the dataframe for the wanted column(s) using min/max\n",
    "    :param data_frame:\n",
    "    :param columns_to_scale: (list)\n",
    "    :return:\n",
    "    \"\"\"\n",
    "    min_max_scaler = MinMaxScaler()\n",
    "    df = data_frame.copy() # we will return a copy of our dataframe\n",
    "    df[columns_to_scale] = min_max_scaler.fit_transform(df[columns_to_scale])\n",
    "    return df\n"
   ],
   "metadata": {
    "collapsed": false,
    "pycharm": {
     "name": "#%% raw\n"
    }
   }
  },
  {
   "cell_type": "code",
   "execution_count": 24,
   "outputs": [
    {
     "name": "stdout",
     "output_type": "stream",
     "text": [
      "Before\n"
     ]
    },
    {
     "data": {
      "text/plain": "      YearBuilt          BuildingType          PrimaryPropertyType  \\\n748        2001  Multifamily LR (1-4)         Low-Rise Multifamily   \n2581       1977  Multifamily LR (1-4)         Low-Rise Multifamily   \n662        1966  Multifamily LR (1-4)         Low-Rise Multifamily   \n480        1957        NonResidential             Worship Facility   \n803        1908  Multifamily MR (5-9)         Mid-Rise Multifamily   \n...         ...                   ...                          ...   \n3092       1985        NonResidential                 Large Office   \n1095       2013  Multifamily MR (5-9)         Mid-Rise Multifamily   \n1130       2014  Multifamily MR (5-9)         Mid-Rise Multifamily   \n1294       1947  Multifamily LR (1-4)         Low-Rise Multifamily   \n860        2008        NonResidential  Supermarket / Grocery Store   \n\n          Neighborhood     LargestPropertyUseType  Log-NumberofFloors  \\\n748   greater duwamish        Multifamily Housing            1.386294   \n2581        lake union        Multifamily Housing            1.386294   \n662          southeast        Multifamily Housing            1.098612   \n480           delridge           Worship Facility            1.098612   \n803           downtown        Multifamily Housing            2.079442   \n...                ...                        ...                 ...   \n3092        lake union                     Office            1.791759   \n1095         northeast        Multifamily Housing            1.945910   \n1130         northwest        Multifamily Housing            1.945910   \n1294         northwest        Multifamily Housing            1.386294   \n860          southwest  Supermarket/Grocery Store            0.693147   \n\n      Log-PropertyGFATotal  Log-PropertyGFABuilding(s)  \\\n748              11.708788                   11.708788   \n2581              9.922506                    9.922506   \n662               9.966509                    9.966509   \n480              10.095140                   10.095140   \n803              11.981935                   11.981935   \n...                    ...                         ...   \n3092             11.833116                   11.317336   \n1095             11.345429                   11.345429   \n1130             12.585799                   12.585799   \n1294             10.123466                   10.123466   \n860              10.541782                   10.541782   \n\n      Log-PropertyGFAParking  Log-LargestPropertyUseTypeGFA  \\\n748                 0.000000                      11.708788   \n2581                0.000000                       9.922506   \n662                 0.000000                       9.966509   \n480                 0.000000                      10.095140   \n803                 0.000000                      11.753367   \n...                      ...                            ...   \n3092               10.924228                      11.261858   \n1095                0.000000                      10.569264   \n1130                0.000000                      12.328140   \n1294                0.000000                      10.123466   \n860                 0.000000                      10.541782   \n\n      Log-SecondLargestPropertyUseTypeGFA  Log-ThirdLargestPropertyUseTypeGFA  \n748                              0.000000                            0.000000  \n2581                             6.645091                            0.000000  \n662                              0.000000                            0.000000  \n480                              0.000000                            0.000000  \n803                              0.000000                            0.000000  \n...                                   ...                                 ...  \n3092                            10.924228                            8.398184  \n1095                             9.888425                            0.000000  \n1130                            10.852516                           10.278390  \n1294                             0.000000                            0.000000  \n860                              0.000000                            0.000000  \n\n[2209 rows x 12 columns]",
      "text/html": "<div>\n<style scoped>\n    .dataframe tbody tr th:only-of-type {\n        vertical-align: middle;\n    }\n\n    .dataframe tbody tr th {\n        vertical-align: top;\n    }\n\n    .dataframe thead th {\n        text-align: right;\n    }\n</style>\n<table border=\"1\" class=\"dataframe\">\n  <thead>\n    <tr style=\"text-align: right;\">\n      <th></th>\n      <th>YearBuilt</th>\n      <th>BuildingType</th>\n      <th>PrimaryPropertyType</th>\n      <th>Neighborhood</th>\n      <th>LargestPropertyUseType</th>\n      <th>Log-NumberofFloors</th>\n      <th>Log-PropertyGFATotal</th>\n      <th>Log-PropertyGFABuilding(s)</th>\n      <th>Log-PropertyGFAParking</th>\n      <th>Log-LargestPropertyUseTypeGFA</th>\n      <th>Log-SecondLargestPropertyUseTypeGFA</th>\n      <th>Log-ThirdLargestPropertyUseTypeGFA</th>\n    </tr>\n  </thead>\n  <tbody>\n    <tr>\n      <th>748</th>\n      <td>2001</td>\n      <td>Multifamily LR (1-4)</td>\n      <td>Low-Rise Multifamily</td>\n      <td>greater duwamish</td>\n      <td>Multifamily Housing</td>\n      <td>1.386294</td>\n      <td>11.708788</td>\n      <td>11.708788</td>\n      <td>0.000000</td>\n      <td>11.708788</td>\n      <td>0.000000</td>\n      <td>0.000000</td>\n    </tr>\n    <tr>\n      <th>2581</th>\n      <td>1977</td>\n      <td>Multifamily LR (1-4)</td>\n      <td>Low-Rise Multifamily</td>\n      <td>lake union</td>\n      <td>Multifamily Housing</td>\n      <td>1.386294</td>\n      <td>9.922506</td>\n      <td>9.922506</td>\n      <td>0.000000</td>\n      <td>9.922506</td>\n      <td>6.645091</td>\n      <td>0.000000</td>\n    </tr>\n    <tr>\n      <th>662</th>\n      <td>1966</td>\n      <td>Multifamily LR (1-4)</td>\n      <td>Low-Rise Multifamily</td>\n      <td>southeast</td>\n      <td>Multifamily Housing</td>\n      <td>1.098612</td>\n      <td>9.966509</td>\n      <td>9.966509</td>\n      <td>0.000000</td>\n      <td>9.966509</td>\n      <td>0.000000</td>\n      <td>0.000000</td>\n    </tr>\n    <tr>\n      <th>480</th>\n      <td>1957</td>\n      <td>NonResidential</td>\n      <td>Worship Facility</td>\n      <td>delridge</td>\n      <td>Worship Facility</td>\n      <td>1.098612</td>\n      <td>10.095140</td>\n      <td>10.095140</td>\n      <td>0.000000</td>\n      <td>10.095140</td>\n      <td>0.000000</td>\n      <td>0.000000</td>\n    </tr>\n    <tr>\n      <th>803</th>\n      <td>1908</td>\n      <td>Multifamily MR (5-9)</td>\n      <td>Mid-Rise Multifamily</td>\n      <td>downtown</td>\n      <td>Multifamily Housing</td>\n      <td>2.079442</td>\n      <td>11.981935</td>\n      <td>11.981935</td>\n      <td>0.000000</td>\n      <td>11.753367</td>\n      <td>0.000000</td>\n      <td>0.000000</td>\n    </tr>\n    <tr>\n      <th>...</th>\n      <td>...</td>\n      <td>...</td>\n      <td>...</td>\n      <td>...</td>\n      <td>...</td>\n      <td>...</td>\n      <td>...</td>\n      <td>...</td>\n      <td>...</td>\n      <td>...</td>\n      <td>...</td>\n      <td>...</td>\n    </tr>\n    <tr>\n      <th>3092</th>\n      <td>1985</td>\n      <td>NonResidential</td>\n      <td>Large Office</td>\n      <td>lake union</td>\n      <td>Office</td>\n      <td>1.791759</td>\n      <td>11.833116</td>\n      <td>11.317336</td>\n      <td>10.924228</td>\n      <td>11.261858</td>\n      <td>10.924228</td>\n      <td>8.398184</td>\n    </tr>\n    <tr>\n      <th>1095</th>\n      <td>2013</td>\n      <td>Multifamily MR (5-9)</td>\n      <td>Mid-Rise Multifamily</td>\n      <td>northeast</td>\n      <td>Multifamily Housing</td>\n      <td>1.945910</td>\n      <td>11.345429</td>\n      <td>11.345429</td>\n      <td>0.000000</td>\n      <td>10.569264</td>\n      <td>9.888425</td>\n      <td>0.000000</td>\n    </tr>\n    <tr>\n      <th>1130</th>\n      <td>2014</td>\n      <td>Multifamily MR (5-9)</td>\n      <td>Mid-Rise Multifamily</td>\n      <td>northwest</td>\n      <td>Multifamily Housing</td>\n      <td>1.945910</td>\n      <td>12.585799</td>\n      <td>12.585799</td>\n      <td>0.000000</td>\n      <td>12.328140</td>\n      <td>10.852516</td>\n      <td>10.278390</td>\n    </tr>\n    <tr>\n      <th>1294</th>\n      <td>1947</td>\n      <td>Multifamily LR (1-4)</td>\n      <td>Low-Rise Multifamily</td>\n      <td>northwest</td>\n      <td>Multifamily Housing</td>\n      <td>1.386294</td>\n      <td>10.123466</td>\n      <td>10.123466</td>\n      <td>0.000000</td>\n      <td>10.123466</td>\n      <td>0.000000</td>\n      <td>0.000000</td>\n    </tr>\n    <tr>\n      <th>860</th>\n      <td>2008</td>\n      <td>NonResidential</td>\n      <td>Supermarket / Grocery Store</td>\n      <td>southwest</td>\n      <td>Supermarket/Grocery Store</td>\n      <td>0.693147</td>\n      <td>10.541782</td>\n      <td>10.541782</td>\n      <td>0.000000</td>\n      <td>10.541782</td>\n      <td>0.000000</td>\n      <td>0.000000</td>\n    </tr>\n  </tbody>\n</table>\n<p>2209 rows × 12 columns</p>\n</div>"
     },
     "metadata": {},
     "output_type": "display_data"
    },
    {
     "name": "stdout",
     "output_type": "stream",
     "text": [
      "After\n"
     ]
    },
    {
     "data": {
      "text/plain": "      YearBuilt          BuildingType          PrimaryPropertyType  \\\n748        2001  Multifamily LR (1-4)         Low-Rise Multifamily   \n2581       1977  Multifamily LR (1-4)         Low-Rise Multifamily   \n662        1966  Multifamily LR (1-4)         Low-Rise Multifamily   \n480        1957        NonResidential             Worship Facility   \n803        1908  Multifamily MR (5-9)         Mid-Rise Multifamily   \n...         ...                   ...                          ...   \n3092       1985        NonResidential                 Large Office   \n1095       2013  Multifamily MR (5-9)         Mid-Rise Multifamily   \n1130       2014  Multifamily MR (5-9)         Mid-Rise Multifamily   \n1294       1947  Multifamily LR (1-4)         Low-Rise Multifamily   \n860        2008        NonResidential  Supermarket / Grocery Store   \n\n          Neighborhood     LargestPropertyUseType  Log-NumberofFloors  \\\n748   greater duwamish        Multifamily Housing           -0.287845   \n2581        lake union        Multifamily Housing           -0.287845   \n662          southeast        Multifamily Housing           -0.779034   \n480           delridge           Worship Facility           -0.779034   \n803           downtown        Multifamily Housing            0.895635   \n...                ...                        ...                 ...   \n3092        lake union                     Office            0.404446   \n1095         northeast        Multifamily Housing            0.667643   \n1130         northwest        Multifamily Housing            0.667643   \n1294         northwest        Multifamily Housing           -0.287845   \n860          southwest  Supermarket/Grocery Store           -1.471325   \n\n      Log-PropertyGFATotal  Log-PropertyGFABuilding(s)  \\\n748               0.884483                    0.993927   \n2581             -1.160191                   -1.146519   \n662              -1.109822                   -1.093790   \n480              -0.962584                   -0.939656   \n803               1.197141                    1.321230   \n...                    ...                         ...   \n3092              1.026795                    0.524863   \n1095              0.468563                    0.558526   \n1130              1.888357                    2.044821   \n1294             -0.930161                   -0.905714   \n860              -0.451334                   -0.404459   \n\n      Log-PropertyGFAParking  Log-LargestPropertyUseTypeGFA  \\\n748                -0.431261                       1.102711   \n2581               -0.431261                      -0.984524   \n662                -0.431261                      -0.933106   \n480                -0.431261                      -0.782803   \n803                -0.431261                       1.154800   \n...                      ...                            ...   \n3092                2.460933                       0.580482   \n1095               -0.431261                      -0.228800   \n1130               -0.431261                       1.826411   \n1294               -0.431261                      -0.749706   \n860                -0.431261                      -0.260911   \n\n      Log-SecondLargestPropertyUseTypeGFA  Log-ThirdLargestPropertyUseTypeGFA  \n748                             -0.957452                           -0.457763  \n2581                             0.416765                           -0.457763  \n662                             -0.957452                           -0.457763  \n480                             -0.957452                           -0.457763  \n803                             -0.957452                           -0.457763  \n...                                   ...                                 ...  \n3092                             1.301698                            2.056650  \n1095                             1.087492                           -0.457763  \n1130                             1.286868                            2.619583  \n1294                            -0.957452                           -0.457763  \n860                             -0.957452                           -0.457763  \n\n[2209 rows x 12 columns]",
      "text/html": "<div>\n<style scoped>\n    .dataframe tbody tr th:only-of-type {\n        vertical-align: middle;\n    }\n\n    .dataframe tbody tr th {\n        vertical-align: top;\n    }\n\n    .dataframe thead th {\n        text-align: right;\n    }\n</style>\n<table border=\"1\" class=\"dataframe\">\n  <thead>\n    <tr style=\"text-align: right;\">\n      <th></th>\n      <th>YearBuilt</th>\n      <th>BuildingType</th>\n      <th>PrimaryPropertyType</th>\n      <th>Neighborhood</th>\n      <th>LargestPropertyUseType</th>\n      <th>Log-NumberofFloors</th>\n      <th>Log-PropertyGFATotal</th>\n      <th>Log-PropertyGFABuilding(s)</th>\n      <th>Log-PropertyGFAParking</th>\n      <th>Log-LargestPropertyUseTypeGFA</th>\n      <th>Log-SecondLargestPropertyUseTypeGFA</th>\n      <th>Log-ThirdLargestPropertyUseTypeGFA</th>\n    </tr>\n  </thead>\n  <tbody>\n    <tr>\n      <th>748</th>\n      <td>2001</td>\n      <td>Multifamily LR (1-4)</td>\n      <td>Low-Rise Multifamily</td>\n      <td>greater duwamish</td>\n      <td>Multifamily Housing</td>\n      <td>-0.287845</td>\n      <td>0.884483</td>\n      <td>0.993927</td>\n      <td>-0.431261</td>\n      <td>1.102711</td>\n      <td>-0.957452</td>\n      <td>-0.457763</td>\n    </tr>\n    <tr>\n      <th>2581</th>\n      <td>1977</td>\n      <td>Multifamily LR (1-4)</td>\n      <td>Low-Rise Multifamily</td>\n      <td>lake union</td>\n      <td>Multifamily Housing</td>\n      <td>-0.287845</td>\n      <td>-1.160191</td>\n      <td>-1.146519</td>\n      <td>-0.431261</td>\n      <td>-0.984524</td>\n      <td>0.416765</td>\n      <td>-0.457763</td>\n    </tr>\n    <tr>\n      <th>662</th>\n      <td>1966</td>\n      <td>Multifamily LR (1-4)</td>\n      <td>Low-Rise Multifamily</td>\n      <td>southeast</td>\n      <td>Multifamily Housing</td>\n      <td>-0.779034</td>\n      <td>-1.109822</td>\n      <td>-1.093790</td>\n      <td>-0.431261</td>\n      <td>-0.933106</td>\n      <td>-0.957452</td>\n      <td>-0.457763</td>\n    </tr>\n    <tr>\n      <th>480</th>\n      <td>1957</td>\n      <td>NonResidential</td>\n      <td>Worship Facility</td>\n      <td>delridge</td>\n      <td>Worship Facility</td>\n      <td>-0.779034</td>\n      <td>-0.962584</td>\n      <td>-0.939656</td>\n      <td>-0.431261</td>\n      <td>-0.782803</td>\n      <td>-0.957452</td>\n      <td>-0.457763</td>\n    </tr>\n    <tr>\n      <th>803</th>\n      <td>1908</td>\n      <td>Multifamily MR (5-9)</td>\n      <td>Mid-Rise Multifamily</td>\n      <td>downtown</td>\n      <td>Multifamily Housing</td>\n      <td>0.895635</td>\n      <td>1.197141</td>\n      <td>1.321230</td>\n      <td>-0.431261</td>\n      <td>1.154800</td>\n      <td>-0.957452</td>\n      <td>-0.457763</td>\n    </tr>\n    <tr>\n      <th>...</th>\n      <td>...</td>\n      <td>...</td>\n      <td>...</td>\n      <td>...</td>\n      <td>...</td>\n      <td>...</td>\n      <td>...</td>\n      <td>...</td>\n      <td>...</td>\n      <td>...</td>\n      <td>...</td>\n      <td>...</td>\n    </tr>\n    <tr>\n      <th>3092</th>\n      <td>1985</td>\n      <td>NonResidential</td>\n      <td>Large Office</td>\n      <td>lake union</td>\n      <td>Office</td>\n      <td>0.404446</td>\n      <td>1.026795</td>\n      <td>0.524863</td>\n      <td>2.460933</td>\n      <td>0.580482</td>\n      <td>1.301698</td>\n      <td>2.056650</td>\n    </tr>\n    <tr>\n      <th>1095</th>\n      <td>2013</td>\n      <td>Multifamily MR (5-9)</td>\n      <td>Mid-Rise Multifamily</td>\n      <td>northeast</td>\n      <td>Multifamily Housing</td>\n      <td>0.667643</td>\n      <td>0.468563</td>\n      <td>0.558526</td>\n      <td>-0.431261</td>\n      <td>-0.228800</td>\n      <td>1.087492</td>\n      <td>-0.457763</td>\n    </tr>\n    <tr>\n      <th>1130</th>\n      <td>2014</td>\n      <td>Multifamily MR (5-9)</td>\n      <td>Mid-Rise Multifamily</td>\n      <td>northwest</td>\n      <td>Multifamily Housing</td>\n      <td>0.667643</td>\n      <td>1.888357</td>\n      <td>2.044821</td>\n      <td>-0.431261</td>\n      <td>1.826411</td>\n      <td>1.286868</td>\n      <td>2.619583</td>\n    </tr>\n    <tr>\n      <th>1294</th>\n      <td>1947</td>\n      <td>Multifamily LR (1-4)</td>\n      <td>Low-Rise Multifamily</td>\n      <td>northwest</td>\n      <td>Multifamily Housing</td>\n      <td>-0.287845</td>\n      <td>-0.930161</td>\n      <td>-0.905714</td>\n      <td>-0.431261</td>\n      <td>-0.749706</td>\n      <td>-0.957452</td>\n      <td>-0.457763</td>\n    </tr>\n    <tr>\n      <th>860</th>\n      <td>2008</td>\n      <td>NonResidential</td>\n      <td>Supermarket / Grocery Store</td>\n      <td>southwest</td>\n      <td>Supermarket/Grocery Store</td>\n      <td>-1.471325</td>\n      <td>-0.451334</td>\n      <td>-0.404459</td>\n      <td>-0.431261</td>\n      <td>-0.260911</td>\n      <td>-0.957452</td>\n      <td>-0.457763</td>\n    </tr>\n  </tbody>\n</table>\n<p>2209 rows × 12 columns</p>\n</div>"
     },
     "metadata": {},
     "output_type": "display_data"
    }
   ],
   "source": [
    "# We train / fit the scaler on the training set / Computes the mean and std to be used for later scaling.\n",
    "std_scale = StandardScaler().fit(X_train[numerical_columns])\n",
    "# We transform the training set and the testing set / Performs standardization by centering and scaling.\n",
    "X_train_std = X_train.copy()\n",
    "X_test_std = X_test.copy()\n",
    "\n",
    "X_train_std[numerical_columns] = std_scale.transform(X_train[numerical_columns])\n",
    "X_test_std[numerical_columns] = std_scale.transform(X_test[numerical_columns])\n",
    "\n",
    "print(\"Before\")\n",
    "display(X_train)\n",
    "print(\"After\")\n",
    "display(X_train_std)"
   ],
   "metadata": {
    "collapsed": false,
    "pycharm": {
     "name": "#%%\n"
    }
   }
  },
  {
   "cell_type": "code",
   "execution_count": 25,
   "outputs": [
    {
     "name": "stdout",
     "output_type": "stream",
     "text": [
      "We can check that the numerical variables have a Standard Normal distribution.\n"
     ]
    },
    {
     "data": {
      "text/plain": "<Figure size 864x1008 with 28 Axes>",
      "image/png": "[encoded data removed]"
     },
     "metadata": {
      "needs_background": "light"
     },
     "output_type": "display_data"
    }
   ],
   "source": [
    "print(\"We can check that the numerical variables have a Standard Normal distribution.\")\n",
    "densite(X_train[numerical_columns])"
   ],
   "metadata": {
    "collapsed": false,
    "pycharm": {
     "name": "#%%\n"
    }
   }
  },
  {
   "cell_type": "markdown",
   "source": [
    "##### 2) Feature Encoding : One Hot Encoder"
   ],
   "metadata": {
    "collapsed": false,
    "pycharm": {
     "name": "#%% md\n"
    }
   }
  },
  {
   "cell_type": "code",
   "execution_count": 26,
   "outputs": [
    {
     "name": "stdout",
     "output_type": "stream",
     "text": [
      "Categorical variables featuring\n",
      "We have : 4 categorical features to encode.\n",
      "\n",
      "Index(['BuildingType', 'PrimaryPropertyType', 'Neighborhood',\n",
      "       'LargestPropertyUseType'],\n",
      "      dtype='object')\n"
     ]
    }
   ],
   "source": [
    "print(\"Categorical variables featuring\")\n",
    "\n",
    "print(\"We have :\", categorical_columns.shape[0], \"categorical features to encode.\", end=\"\\n\\n\")\n",
    "print(categorical_columns)"
   ],
   "metadata": {
    "collapsed": false,
    "pycharm": {
     "name": "#%%\n"
    }
   }
  },
  {
   "cell_type": "code",
   "execution_count": 27,
   "outputs": [
    {
     "data": {
      "text/plain": "YearBuilt                                 int64\nBuildingType                           category\nPrimaryPropertyType                    category\nNeighborhood                           category\nLargestPropertyUseType                 category\nLog-NumberofFloors                      float64\nLog-PropertyGFATotal                    float64\nLog-PropertyGFABuilding(s)              float64\nLog-PropertyGFAParking                  float64\nLog-LargestPropertyUseTypeGFA           float64\nLog-SecondLargestPropertyUseTypeGFA     float64\nLog-ThirdLargestPropertyUseTypeGFA      float64\ndtype: object"
     },
     "execution_count": 27,
     "metadata": {},
     "output_type": "execute_result"
    }
   ],
   "source": [
    "X.dtypes # we check that we have categories"
   ],
   "metadata": {
    "collapsed": false,
    "pycharm": {
     "name": "#%%\n"
    }
   }
  },
  {
   "cell_type": "code",
   "execution_count": 28,
   "outputs": [
    {
     "data": {
      "text/plain": "BuildingType               8\nPrimaryPropertyType       23\nNeighborhood              13\nLargestPropertyUseType    55\ndtype: int64"
     },
     "execution_count": 28,
     "metadata": {},
     "output_type": "execute_result"
    }
   ],
   "source": [
    "X[categorical_columns].nunique()"
   ],
   "metadata": {
    "collapsed": false,
    "pycharm": {
     "name": "#%%\n"
    }
   }
  },
  {
   "cell_type": "code",
   "execution_count": 29,
   "outputs": [
    {
     "data": {
      "text/plain": "              BuildingType          PrimaryPropertyType      Neighborhood  \\\n748   Multifamily LR (1-4)         Low-Rise Multifamily  greater duwamish   \n2581  Multifamily LR (1-4)         Low-Rise Multifamily        lake union   \n662   Multifamily LR (1-4)         Low-Rise Multifamily         southeast   \n480         NonResidential             Worship Facility          delridge   \n803   Multifamily MR (5-9)         Mid-Rise Multifamily          downtown   \n...                    ...                          ...               ...   \n3092        NonResidential                 Large Office        lake union   \n1095  Multifamily MR (5-9)         Mid-Rise Multifamily         northeast   \n1130  Multifamily MR (5-9)         Mid-Rise Multifamily         northwest   \n1294  Multifamily LR (1-4)         Low-Rise Multifamily         northwest   \n860         NonResidential  Supermarket / Grocery Store         southwest   \n\n         LargestPropertyUseType  \n748         Multifamily Housing  \n2581        Multifamily Housing  \n662         Multifamily Housing  \n480            Worship Facility  \n803         Multifamily Housing  \n...                         ...  \n3092                     Office  \n1095        Multifamily Housing  \n1130        Multifamily Housing  \n1294        Multifamily Housing  \n860   Supermarket/Grocery Store  \n\n[2209 rows x 4 columns]",
      "text/html": "<div>\n<style scoped>\n    .dataframe tbody tr th:only-of-type {\n        vertical-align: middle;\n    }\n\n    .dataframe tbody tr th {\n        vertical-align: top;\n    }\n\n    .dataframe thead th {\n        text-align: right;\n    }\n</style>\n<table border=\"1\" class=\"dataframe\">\n  <thead>\n    <tr style=\"text-align: right;\">\n      <th></th>\n      <th>BuildingType</th>\n      <th>PrimaryPropertyType</th>\n      <th>Neighborhood</th>\n      <th>LargestPropertyUseType</th>\n    </tr>\n  </thead>\n  <tbody>\n    <tr>\n      <th>748</th>\n      <td>Multifamily LR (1-4)</td>\n      <td>Low-Rise Multifamily</td>\n      <td>greater duwamish</td>\n      <td>Multifamily Housing</td>\n    </tr>\n    <tr>\n      <th>2581</th>\n      <td>Multifamily LR (1-4)</td>\n      <td>Low-Rise Multifamily</td>\n      <td>lake union</td>\n      <td>Multifamily Housing</td>\n    </tr>\n    <tr>\n      <th>662</th>\n      <td>Multifamily LR (1-4)</td>\n      <td>Low-Rise Multifamily</td>\n      <td>southeast</td>\n      <td>Multifamily Housing</td>\n    </tr>\n    <tr>\n      <th>480</th>\n      <td>NonResidential</td>\n      <td>Worship Facility</td>\n      <td>delridge</td>\n      <td>Worship Facility</td>\n    </tr>\n    <tr>\n      <th>803</th>\n      <td>Multifamily MR (5-9)</td>\n      <td>Mid-Rise Multifamily</td>\n      <td>downtown</td>\n      <td>Multifamily Housing</td>\n    </tr>\n    <tr>\n      <th>...</th>\n      <td>...</td>\n      <td>...</td>\n      <td>...</td>\n      <td>...</td>\n    </tr>\n    <tr>\n      <th>3092</th>\n      <td>NonResidential</td>\n      <td>Large Office</td>\n      <td>lake union</td>\n      <td>Office</td>\n    </tr>\n    <tr>\n      <th>1095</th>\n      <td>Multifamily MR (5-9)</td>\n      <td>Mid-Rise Multifamily</td>\n      <td>northeast</td>\n      <td>Multifamily Housing</td>\n    </tr>\n    <tr>\n      <th>1130</th>\n      <td>Multifamily MR (5-9)</td>\n      <td>Mid-Rise Multifamily</td>\n      <td>northwest</td>\n      <td>Multifamily Housing</td>\n    </tr>\n    <tr>\n      <th>1294</th>\n      <td>Multifamily LR (1-4)</td>\n      <td>Low-Rise Multifamily</td>\n      <td>northwest</td>\n      <td>Multifamily Housing</td>\n    </tr>\n    <tr>\n      <th>860</th>\n      <td>NonResidential</td>\n      <td>Supermarket / Grocery Store</td>\n      <td>southwest</td>\n      <td>Supermarket/Grocery Store</td>\n    </tr>\n  </tbody>\n</table>\n<p>2209 rows × 4 columns</p>\n</div>"
     },
     "execution_count": 29,
     "metadata": {},
     "output_type": "execute_result"
    }
   ],
   "source": [
    "X_train_std[categorical_columns]"
   ],
   "metadata": {
    "collapsed": false,
    "pycharm": {
     "name": "#%%\n"
    }
   }
  },
  {
   "cell_type": "markdown",
   "source": [
    "##### Encoding the categorical features of the train set\n"
   ],
   "metadata": {
    "collapsed": false,
    "pycharm": {
     "name": "#%% md\n"
    }
   }
  },
  {
   "cell_type": "code",
   "execution_count": 30,
   "outputs": [
    {
     "name": "stdout",
     "output_type": "stream",
     "text": [
      "Now, we can use the One Hot Encoder.\n",
      "With the one hot encoder, we will get : 99 columns to encodes the categorical features.\n"
     ]
    }
   ],
   "source": [
    "print(\"Now, we can use the One Hot Encoder.\")\n",
    "print(\"With the one hot encoder, we will get :\", sum([X[categorical_columns].nunique()[i] for i in range(len(categorical_columns))]), \"columns to encodes the categorical features.\")"
   ],
   "metadata": {
    "collapsed": false,
    "pycharm": {
     "name": "#%%\n"
    }
   }
  },
  {
   "cell_type": "code",
   "execution_count": 31,
   "outputs": [
    {
     "name": "stdout",
     "output_type": "stream",
     "text": [
      "We have indeed : 94 labels after encoding the categorical variables.\n"
     ]
    },
    {
     "data": {
      "text/plain": "      BuildingType_Campus  BuildingType_Multifamily HR (10+)  \\\n1                     0.0                                0.0   \n2                     0.0                                0.0   \n3                     0.0                                1.0   \n4                     0.0                                0.0   \n5                     0.0                                0.0   \n...                   ...                                ...   \n3148                  0.0                                0.0   \n3149                  0.0                                0.0   \n3151                  0.0                                0.0   \n3154                  0.0                                0.0   \n3155                  0.0                                0.0   \n\n      BuildingType_Multifamily LR (1-4)  BuildingType_Multifamily MR (5-9)  \\\n1                                   0.0                                0.0   \n2                                   1.0                                0.0   \n3                                   0.0                                0.0   \n4                                   1.0                                0.0   \n5                                   0.0                                0.0   \n...                                 ...                                ...   \n3148                                0.0                                0.0   \n3149                                0.0                                0.0   \n3151                                0.0                                0.0   \n3154                                0.0                                0.0   \n3155                                0.0                                0.0   \n\n      BuildingType_NonResidential  BuildingType_Nonresidential COS  \\\n1                             1.0                              0.0   \n2                             0.0                              0.0   \n3                             0.0                              0.0   \n4                             0.0                              0.0   \n5                             1.0                              0.0   \n...                           ...                              ...   \n3148                          1.0                              0.0   \n3149                          1.0                              0.0   \n3151                          1.0                              0.0   \n3154                          1.0                              0.0   \n3155                          1.0                              0.0   \n\n      BuildingType_Nonresidential WA  BuildingType_SPS-District K-12  \\\n1                                0.0                             0.0   \n2                                0.0                             0.0   \n3                                0.0                             0.0   \n4                                0.0                             0.0   \n5                                0.0                             0.0   \n...                              ...                             ...   \n3148                             0.0                             0.0   \n3149                             0.0                             0.0   \n3151                             0.0                             0.0   \n3154                             0.0                             0.0   \n3155                             0.0                             0.0   \n\n      PrimaryPropertyType_Distribution Center  \\\n1                                         0.0   \n2                                         0.0   \n3                                         0.0   \n4                                         0.0   \n5                                         0.0   \n...                                       ...   \n3148                                      0.0   \n3149                                      0.0   \n3151                                      0.0   \n3154                                      0.0   \n3155                                      0.0   \n\n      PrimaryPropertyType_High-Rise Multifamily  ...  \\\n1                                           0.0  ...   \n2                                           0.0  ...   \n3                                           1.0  ...   \n4                                           0.0  ...   \n5                                           0.0  ...   \n...                                         ...  ...   \n3148                                        0.0  ...   \n3149                                        0.0  ...   \n3151                                        0.0  ...   \n3154                                        0.0  ...   \n3155                                        0.0  ...   \n\n      LargestPropertyUseType_Restaurant  LargestPropertyUseType_Retail Store  \\\n1                                   0.0                                  0.0   \n2                                   0.0                                  0.0   \n3                                   0.0                                  0.0   \n4                                   0.0                                  0.0   \n5                                   0.0                                  0.0   \n...                                 ...                                  ...   \n3148                                0.0                                  0.0   \n3149                                0.0                                  0.0   \n3151                                0.0                                  0.0   \n3154                                0.0                                  0.0   \n3155                                0.0                                  1.0   \n\n      LargestPropertyUseType_Self-Storage Facility  \\\n1                                              0.0   \n2                                              0.0   \n3                                              0.0   \n4                                              0.0   \n5                                              1.0   \n...                                            ...   \n3148                                           0.0   \n3149                                           0.0   \n3151                                           0.0   \n3154                                           0.0   \n3155                                           0.0   \n\n      LargestPropertyUseType_Senior Care Community  \\\n1                                              0.0   \n2                                              0.0   \n3                                              0.0   \n4                                              0.0   \n5                                              0.0   \n...                                            ...   \n3148                                           0.0   \n3149                                           0.0   \n3151                                           0.0   \n3154                                           0.0   \n3155                                           0.0   \n\n      LargestPropertyUseType_Social/Meeting Hall  \\\n1                                            0.0   \n2                                            0.0   \n3                                            0.0   \n4                                            0.0   \n5                                            0.0   \n...                                          ...   \n3148                                         0.0   \n3149                                         0.0   \n3151                                         0.0   \n3154                                         0.0   \n3155                                         0.0   \n\n      LargestPropertyUseType_Strip Mall  \\\n1                                   0.0   \n2                                   0.0   \n3                                   0.0   \n4                                   0.0   \n5                                   0.0   \n...                                 ...   \n3148                                0.0   \n3149                                0.0   \n3151                                0.0   \n3154                                0.0   \n3155                                0.0   \n\n      LargestPropertyUseType_Supermarket/Grocery Store  \\\n1                                                  0.0   \n2                                                  0.0   \n3                                                  0.0   \n4                                                  0.0   \n5                                                  0.0   \n...                                                ...   \n3148                                               0.0   \n3149                                               0.0   \n3151                                               0.0   \n3154                                               0.0   \n3155                                               0.0   \n\n      LargestPropertyUseType_Urgent Care/Clinic/Other Outpatient  \\\n1                                                   0.0            \n2                                                   0.0            \n3                                                   0.0            \n4                                                   0.0            \n5                                                   0.0            \n...                                                 ...            \n3148                                                0.0            \n3149                                                0.0            \n3151                                                0.0            \n3154                                                0.0            \n3155                                                0.0            \n\n      LargestPropertyUseType_Wholesale Club/Supercenter  \\\n1                                                   0.0   \n2                                                   0.0   \n3                                                   0.0   \n4                                                   0.0   \n5                                                   0.0   \n...                                                 ...   \n3148                                                0.0   \n3149                                                0.0   \n3151                                                0.0   \n3154                                                0.0   \n3155                                                0.0   \n\n      LargestPropertyUseType_Worship Facility  \n1                                         0.0  \n2                                         0.0  \n3                                         0.0  \n4                                         0.0  \n5                                         0.0  \n...                                       ...  \n3148                                      0.0  \n3149                                      0.0  \n3151                                      0.0  \n3154                                      0.0  \n3155                                      0.0  \n\n[2209 rows x 94 columns]",
      "text/html": "<div>\n<style scoped>\n    .dataframe tbody tr th:only-of-type {\n        vertical-align: middle;\n    }\n\n    .dataframe tbody tr th {\n        vertical-align: top;\n    }\n\n    .dataframe thead th {\n        text-align: right;\n    }\n</style>\n<table border=\"1\" class=\"dataframe\">\n  <thead>\n    <tr style=\"text-align: right;\">\n      <th></th>\n      <th>BuildingType_Campus</th>\n      <th>BuildingType_Multifamily HR (10+)</th>\n      <th>BuildingType_Multifamily LR (1-4)</th>\n      <th>BuildingType_Multifamily MR (5-9)</th>\n      <th>BuildingType_NonResidential</th>\n      <th>BuildingType_Nonresidential COS</th>\n      <th>BuildingType_Nonresidential WA</th>\n      <th>BuildingType_SPS-District K-12</th>\n      <th>PrimaryPropertyType_Distribution Center</th>\n      <th>PrimaryPropertyType_High-Rise Multifamily</th>\n      <th>...</th>\n      <th>LargestPropertyUseType_Restaurant</th>\n      <th>LargestPropertyUseType_Retail Store</th>\n      <th>LargestPropertyUseType_Self-Storage Facility</th>\n      <th>LargestPropertyUseType_Senior Care Community</th>\n      <th>LargestPropertyUseType_Social/Meeting Hall</th>\n      <th>LargestPropertyUseType_Strip Mall</th>\n      <th>LargestPropertyUseType_Supermarket/Grocery Store</th>\n      <th>LargestPropertyUseType_Urgent Care/Clinic/Other Outpatient</th>\n      <th>LargestPropertyUseType_Wholesale Club/Supercenter</th>\n      <th>LargestPropertyUseType_Worship Facility</th>\n    </tr>\n  </thead>\n  <tbody>\n    <tr>\n      <th>1</th>\n      <td>0.0</td>\n      <td>0.0</td>\n      <td>0.0</td>\n      <td>0.0</td>\n      <td>1.0</td>\n      <td>0.0</td>\n      <td>0.0</td>\n      <td>0.0</td>\n      <td>0.0</td>\n      <td>0.0</td>\n      <td>...</td>\n      <td>0.0</td>\n      <td>0.0</td>\n      <td>0.0</td>\n      <td>0.0</td>\n      <td>0.0</td>\n      <td>0.0</td>\n      <td>0.0</td>\n      <td>0.0</td>\n      <td>0.0</td>\n      <td>0.0</td>\n    </tr>\n    <tr>\n      <th>2</th>\n      <td>0.0</td>\n      <td>0.0</td>\n      <td>1.0</td>\n      <td>0.0</td>\n      <td>0.0</td>\n      <td>0.0</td>\n      <td>0.0</td>\n      <td>0.0</td>\n      <td>0.0</td>\n      <td>0.0</td>\n      <td>...</td>\n      <td>0.0</td>\n      <td>0.0</td>\n      <td>0.0</td>\n      <td>0.0</td>\n      <td>0.0</td>\n      <td>0.0</td>\n      <td>0.0</td>\n      <td>0.0</td>\n      <td>0.0</td>\n      <td>0.0</td>\n    </tr>\n    <tr>\n      <th>3</th>\n      <td>0.0</td>\n      <td>1.0</td>\n      <td>0.0</td>\n      <td>0.0</td>\n      <td>0.0</td>\n      <td>0.0</td>\n      <td>0.0</td>\n      <td>0.0</td>\n      <td>0.0</td>\n      <td>1.0</td>\n      <td>...</td>\n      <td>0.0</td>\n      <td>0.0</td>\n      <td>0.0</td>\n      <td>0.0</td>\n      <td>0.0</td>\n      <td>0.0</td>\n      <td>0.0</td>\n      <td>0.0</td>\n      <td>0.0</td>\n      <td>0.0</td>\n    </tr>\n    <tr>\n      <th>4</th>\n      <td>0.0</td>\n      <td>0.0</td>\n      <td>1.0</td>\n      <td>0.0</td>\n      <td>0.0</td>\n      <td>0.0</td>\n      <td>0.0</td>\n      <td>0.0</td>\n      <td>0.0</td>\n      <td>0.0</td>\n      <td>...</td>\n      <td>0.0</td>\n      <td>0.0</td>\n      <td>0.0</td>\n      <td>0.0</td>\n      <td>0.0</td>\n      <td>0.0</td>\n      <td>0.0</td>\n      <td>0.0</td>\n      <td>0.0</td>\n      <td>0.0</td>\n    </tr>\n    <tr>\n      <th>5</th>\n      <td>0.0</td>\n      <td>0.0</td>\n      <td>0.0</td>\n      <td>0.0</td>\n      <td>1.0</td>\n      <td>0.0</td>\n      <td>0.0</td>\n      <td>0.0</td>\n      <td>0.0</td>\n      <td>0.0</td>\n      <td>...</td>\n      <td>0.0</td>\n      <td>0.0</td>\n      <td>1.0</td>\n      <td>0.0</td>\n      <td>0.0</td>\n      <td>0.0</td>\n      <td>0.0</td>\n      <td>0.0</td>\n      <td>0.0</td>\n      <td>0.0</td>\n    </tr>\n    <tr>\n      <th>...</th>\n      <td>...</td>\n      <td>...</td>\n      <td>...</td>\n      <td>...</td>\n      <td>...</td>\n      <td>...</td>\n      <td>...</td>\n      <td>...</td>\n      <td>...</td>\n      <td>...</td>\n      <td>...</td>\n      <td>...</td>\n      <td>...</td>\n      <td>...</td>\n      <td>...</td>\n      <td>...</td>\n      <td>...</td>\n      <td>...</td>\n      <td>...</td>\n      <td>...</td>\n      <td>...</td>\n    </tr>\n    <tr>\n      <th>3148</th>\n      <td>0.0</td>\n      <td>0.0</td>\n      <td>0.0</td>\n      <td>0.0</td>\n      <td>1.0</td>\n      <td>0.0</td>\n      <td>0.0</td>\n      <td>0.0</td>\n      <td>0.0</td>\n      <td>0.0</td>\n      <td>...</td>\n      <td>0.0</td>\n      <td>0.0</td>\n      <td>0.0</td>\n      <td>0.0</td>\n      <td>0.0</td>\n      <td>0.0</td>\n      <td>0.0</td>\n      <td>0.0</td>\n      <td>0.0</td>\n      <td>0.0</td>\n    </tr>\n    <tr>\n      <th>3149</th>\n      <td>0.0</td>\n      <td>0.0</td>\n      <td>0.0</td>\n      <td>0.0</td>\n      <td>1.0</td>\n      <td>0.0</td>\n      <td>0.0</td>\n      <td>0.0</td>\n      <td>0.0</td>\n      <td>0.0</td>\n      <td>...</td>\n      <td>0.0</td>\n      <td>0.0</td>\n      <td>0.0</td>\n      <td>0.0</td>\n      <td>0.0</td>\n      <td>0.0</td>\n      <td>0.0</td>\n      <td>0.0</td>\n      <td>0.0</td>\n      <td>0.0</td>\n    </tr>\n    <tr>\n      <th>3151</th>\n      <td>0.0</td>\n      <td>0.0</td>\n      <td>0.0</td>\n      <td>0.0</td>\n      <td>1.0</td>\n      <td>0.0</td>\n      <td>0.0</td>\n      <td>0.0</td>\n      <td>0.0</td>\n      <td>0.0</td>\n      <td>...</td>\n      <td>0.0</td>\n      <td>0.0</td>\n      <td>0.0</td>\n      <td>0.0</td>\n      <td>0.0</td>\n      <td>0.0</td>\n      <td>0.0</td>\n      <td>0.0</td>\n      <td>0.0</td>\n      <td>0.0</td>\n    </tr>\n    <tr>\n      <th>3154</th>\n      <td>0.0</td>\n      <td>0.0</td>\n      <td>0.0</td>\n      <td>0.0</td>\n      <td>1.0</td>\n      <td>0.0</td>\n      <td>0.0</td>\n      <td>0.0</td>\n      <td>0.0</td>\n      <td>0.0</td>\n      <td>...</td>\n      <td>0.0</td>\n      <td>0.0</td>\n      <td>0.0</td>\n      <td>0.0</td>\n      <td>0.0</td>\n      <td>0.0</td>\n      <td>0.0</td>\n      <td>0.0</td>\n      <td>0.0</td>\n      <td>0.0</td>\n    </tr>\n    <tr>\n      <th>3155</th>\n      <td>0.0</td>\n      <td>0.0</td>\n      <td>0.0</td>\n      <td>0.0</td>\n      <td>1.0</td>\n      <td>0.0</td>\n      <td>0.0</td>\n      <td>0.0</td>\n      <td>0.0</td>\n      <td>0.0</td>\n      <td>...</td>\n      <td>0.0</td>\n      <td>1.0</td>\n      <td>0.0</td>\n      <td>0.0</td>\n      <td>0.0</td>\n      <td>0.0</td>\n      <td>0.0</td>\n      <td>0.0</td>\n      <td>0.0</td>\n      <td>0.0</td>\n    </tr>\n  </tbody>\n</table>\n<p>2209 rows × 94 columns</p>\n</div>"
     },
     "metadata": {},
     "output_type": "display_data"
    }
   ],
   "source": [
    "# 0) creating instance of one-hot-encoder\n",
    "one_hot_encoder = OneHotEncoder(handle_unknown='ignore', sparse=False) # if sparse=True (by default), we need to add .toarray() to encoded_categorical_data\n",
    "\n",
    "# 1) Fit the encoder on the training set\n",
    "one_hot_encoder.fit(X_train_std[categorical_columns])\n",
    "\n",
    "# 2) we get the encoded numpy array\n",
    "encoded_categorical_data = one_hot_encoder.transform(X_train_std[categorical_columns])\n",
    "\n",
    "# 3) we make a list of the columns names\n",
    "encoded_categorical_data_names = one_hot_encoder.get_feature_names_out().tolist()\n",
    "print(\"We have indeed :\", len(encoded_categorical_data_names), \"labels after encoding the categorical variables.\")\n",
    "\n",
    "# 4) we recreate a dataframe with the column names and the numpy array\n",
    "X_train_encoded = pd.DataFrame(columns=encoded_categorical_data_names,\n",
    "                               data=encoded_categorical_data,\n",
    "                               index=X_train_std.index)\n",
    "display(X_train_encoded.sort_index())"
   ],
   "metadata": {
    "collapsed": false,
    "pycharm": {
     "name": "#%%\n"
    }
   }
  },
  {
   "cell_type": "code",
   "execution_count": 32,
   "outputs": [
    {
     "name": "stdout",
     "output_type": "stream",
     "text": [
      "We need to add YearBuilt to the list of features.\n",
      "['Log-NumberofFloors', 'Log-PropertyGFATotal', 'Log-PropertyGFABuilding(s)', 'Log-PropertyGFAParking', 'Log-LargestPropertyUseTypeGFA', 'Log-SecondLargestPropertyUseTypeGFA', 'Log-ThirdLargestPropertyUseTypeGFA', 'YearBuilt']\n",
      "\n",
      "ASK JEREMY : merge based on index ok ? or should I put back OSEBuildingID ??\n"
     ]
    },
    {
     "data": {
      "text/plain": "      Log-NumberofFloors  Log-PropertyGFATotal  Log-PropertyGFABuilding(s)  \\\n1              -0.779034             -0.883583                   -0.856954   \n2              -0.287845             -0.921011                   -0.896136   \n3               2.079115              0.314064                    0.396790   \n4              -0.287845             -0.497003                   -0.709536   \n5               0.093150             -0.418702                   -0.370298   \n...                  ...                   ...                         ...   \n3148           -0.287845             -0.681344                   -0.645243   \n3149           -0.287845             -1.038624                   -1.019258   \n3151           -0.779034             -0.579940                   -0.539089   \n3154            0.404446             -0.583328                   -0.777691   \n3155           -0.779034             -1.152747                   -1.138726   \n\n      Log-PropertyGFAParking  Log-LargestPropertyUseTypeGFA  \\\n1                  -0.431261                      -1.410978   \n2                  -0.431261                      -0.740365   \n3                  -0.431261                       0.611839   \n4                   1.913920                      -0.738832   \n5                  -0.431261                      -0.227600   \n...                      ...                            ...   \n3148               -0.431261                      -0.495710   \n3149               -0.431261                      -0.860427   \n3151               -0.431261                      -1.082719   \n3154                1.872424                      -1.274149   \n3155               -0.431261                      -1.798587   \n\n      Log-SecondLargestPropertyUseTypeGFA  Log-ThirdLargestPropertyUseTypeGFA  \\\n1                                0.919554                            1.945367   \n2                               -0.957452                           -0.457763   \n3                               -0.957452                           -0.457763   \n4                                0.767912                           -0.457763   \n5                               -0.957452                           -0.457763   \n...                                   ...                                 ...   \n3148                            -0.957452                           -0.457763   \n3149                            -0.957452                           -0.457763   \n3151                             1.011777                            1.719798   \n3154                             0.919955                            1.732012   \n3155                             0.901142                           -0.457763   \n\n      YearBuilt  BuildingType_Campus  BuildingType_Multifamily HR (10+)  ...  \\\n1          1928                  0.0                                0.0  ...   \n2          1925                  0.0                                0.0  ...   \n3          1971                  0.0                                1.0  ...   \n4          2001                  0.0                                0.0  ...   \n5          1996                  0.0                                0.0  ...   \n...         ...                  ...                                ...  ...   \n3148       1920                  0.0                                0.0  ...   \n3149       1946                  0.0                                0.0  ...   \n3151       1927                  0.0                                0.0  ...   \n3154       2001                  0.0                                0.0  ...   \n3155       1911                  0.0                                0.0  ...   \n\n      LargestPropertyUseType_Restaurant  LargestPropertyUseType_Retail Store  \\\n1                                   0.0                                  0.0   \n2                                   0.0                                  0.0   \n3                                   0.0                                  0.0   \n4                                   0.0                                  0.0   \n5                                   0.0                                  0.0   \n...                                 ...                                  ...   \n3148                                0.0                                  0.0   \n3149                                0.0                                  0.0   \n3151                                0.0                                  0.0   \n3154                                0.0                                  0.0   \n3155                                0.0                                  1.0   \n\n      LargestPropertyUseType_Self-Storage Facility  \\\n1                                              0.0   \n2                                              0.0   \n3                                              0.0   \n4                                              0.0   \n5                                              1.0   \n...                                            ...   \n3148                                           0.0   \n3149                                           0.0   \n3151                                           0.0   \n3154                                           0.0   \n3155                                           0.0   \n\n      LargestPropertyUseType_Senior Care Community  \\\n1                                              0.0   \n2                                              0.0   \n3                                              0.0   \n4                                              0.0   \n5                                              0.0   \n...                                            ...   \n3148                                           0.0   \n3149                                           0.0   \n3151                                           0.0   \n3154                                           0.0   \n3155                                           0.0   \n\n      LargestPropertyUseType_Social/Meeting Hall  \\\n1                                            0.0   \n2                                            0.0   \n3                                            0.0   \n4                                            0.0   \n5                                            0.0   \n...                                          ...   \n3148                                         0.0   \n3149                                         0.0   \n3151                                         0.0   \n3154                                         0.0   \n3155                                         0.0   \n\n      LargestPropertyUseType_Strip Mall  \\\n1                                   0.0   \n2                                   0.0   \n3                                   0.0   \n4                                   0.0   \n5                                   0.0   \n...                                 ...   \n3148                                0.0   \n3149                                0.0   \n3151                                0.0   \n3154                                0.0   \n3155                                0.0   \n\n      LargestPropertyUseType_Supermarket/Grocery Store  \\\n1                                                  0.0   \n2                                                  0.0   \n3                                                  0.0   \n4                                                  0.0   \n5                                                  0.0   \n...                                                ...   \n3148                                               0.0   \n3149                                               0.0   \n3151                                               0.0   \n3154                                               0.0   \n3155                                               0.0   \n\n      LargestPropertyUseType_Urgent Care/Clinic/Other Outpatient  \\\n1                                                   0.0            \n2                                                   0.0            \n3                                                   0.0            \n4                                                   0.0            \n5                                                   0.0            \n...                                                 ...            \n3148                                                0.0            \n3149                                                0.0            \n3151                                                0.0            \n3154                                                0.0            \n3155                                                0.0            \n\n      LargestPropertyUseType_Wholesale Club/Supercenter  \\\n1                                                   0.0   \n2                                                   0.0   \n3                                                   0.0   \n4                                                   0.0   \n5                                                   0.0   \n...                                                 ...   \n3148                                                0.0   \n3149                                                0.0   \n3151                                                0.0   \n3154                                                0.0   \n3155                                                0.0   \n\n      LargestPropertyUseType_Worship Facility  \n1                                         0.0  \n2                                         0.0  \n3                                         0.0  \n4                                         0.0  \n5                                         0.0  \n...                                       ...  \n3148                                      0.0  \n3149                                      0.0  \n3151                                      0.0  \n3154                                      0.0  \n3155                                      0.0  \n\n[2209 rows x 102 columns]",
      "text/html": "<div>\n<style scoped>\n    .dataframe tbody tr th:only-of-type {\n        vertical-align: middle;\n    }\n\n    .dataframe tbody tr th {\n        vertical-align: top;\n    }\n\n    .dataframe thead th {\n        text-align: right;\n    }\n</style>\n<table border=\"1\" class=\"dataframe\">\n  <thead>\n    <tr style=\"text-align: right;\">\n      <th></th>\n      <th>Log-NumberofFloors</th>\n      <th>Log-PropertyGFATotal</th>\n      <th>Log-PropertyGFABuilding(s)</th>\n      <th>Log-PropertyGFAParking</th>\n      <th>Log-LargestPropertyUseTypeGFA</th>\n      <th>Log-SecondLargestPropertyUseTypeGFA</th>\n      <th>Log-ThirdLargestPropertyUseTypeGFA</th>\n      <th>YearBuilt</th>\n      <th>BuildingType_Campus</th>\n      <th>BuildingType_Multifamily HR (10+)</th>\n      <th>...</th>\n      <th>LargestPropertyUseType_Restaurant</th>\n      <th>LargestPropertyUseType_Retail Store</th>\n      <th>LargestPropertyUseType_Self-Storage Facility</th>\n      <th>LargestPropertyUseType_Senior Care Community</th>\n      <th>LargestPropertyUseType_Social/Meeting Hall</th>\n      <th>LargestPropertyUseType_Strip Mall</th>\n      <th>LargestPropertyUseType_Supermarket/Grocery Store</th>\n      <th>LargestPropertyUseType_Urgent Care/Clinic/Other Outpatient</th>\n      <th>LargestPropertyUseType_Wholesale Club/Supercenter</th>\n      <th>LargestPropertyUseType_Worship Facility</th>\n    </tr>\n  </thead>\n  <tbody>\n    <tr>\n      <th>1</th>\n      <td>-0.779034</td>\n      <td>-0.883583</td>\n      <td>-0.856954</td>\n      <td>-0.431261</td>\n      <td>-1.410978</td>\n      <td>0.919554</td>\n      <td>1.945367</td>\n      <td>1928</td>\n      <td>0.0</td>\n      <td>0.0</td>\n      <td>...</td>\n      <td>0.0</td>\n      <td>0.0</td>\n      <td>0.0</td>\n      <td>0.0</td>\n      <td>0.0</td>\n      <td>0.0</td>\n      <td>0.0</td>\n      <td>0.0</td>\n      <td>0.0</td>\n      <td>0.0</td>\n    </tr>\n    <tr>\n      <th>2</th>\n      <td>-0.287845</td>\n      <td>-0.921011</td>\n      <td>-0.896136</td>\n      <td>-0.431261</td>\n      <td>-0.740365</td>\n      <td>-0.957452</td>\n      <td>-0.457763</td>\n      <td>1925</td>\n      <td>0.0</td>\n      <td>0.0</td>\n      <td>...</td>\n      <td>0.0</td>\n      <td>0.0</td>\n      <td>0.0</td>\n      <td>0.0</td>\n      <td>0.0</td>\n      <td>0.0</td>\n      <td>0.0</td>\n      <td>0.0</td>\n      <td>0.0</td>\n      <td>0.0</td>\n    </tr>\n    <tr>\n      <th>3</th>\n      <td>2.079115</td>\n      <td>0.314064</td>\n      <td>0.396790</td>\n      <td>-0.431261</td>\n      <td>0.611839</td>\n      <td>-0.957452</td>\n      <td>-0.457763</td>\n      <td>1971</td>\n      <td>0.0</td>\n      <td>1.0</td>\n      <td>...</td>\n      <td>0.0</td>\n      <td>0.0</td>\n      <td>0.0</td>\n      <td>0.0</td>\n      <td>0.0</td>\n      <td>0.0</td>\n      <td>0.0</td>\n      <td>0.0</td>\n      <td>0.0</td>\n      <td>0.0</td>\n    </tr>\n    <tr>\n      <th>4</th>\n      <td>-0.287845</td>\n      <td>-0.497003</td>\n      <td>-0.709536</td>\n      <td>1.913920</td>\n      <td>-0.738832</td>\n      <td>0.767912</td>\n      <td>-0.457763</td>\n      <td>2001</td>\n      <td>0.0</td>\n      <td>0.0</td>\n      <td>...</td>\n      <td>0.0</td>\n      <td>0.0</td>\n      <td>0.0</td>\n      <td>0.0</td>\n      <td>0.0</td>\n      <td>0.0</td>\n      <td>0.0</td>\n      <td>0.0</td>\n      <td>0.0</td>\n      <td>0.0</td>\n    </tr>\n    <tr>\n      <th>5</th>\n      <td>0.093150</td>\n      <td>-0.418702</td>\n      <td>-0.370298</td>\n      <td>-0.431261</td>\n      <td>-0.227600</td>\n      <td>-0.957452</td>\n      <td>-0.457763</td>\n      <td>1996</td>\n      <td>0.0</td>\n      <td>0.0</td>\n      <td>...</td>\n      <td>0.0</td>\n      <td>0.0</td>\n      <td>1.0</td>\n      <td>0.0</td>\n      <td>0.0</td>\n      <td>0.0</td>\n      <td>0.0</td>\n      <td>0.0</td>\n      <td>0.0</td>\n      <td>0.0</td>\n    </tr>\n    <tr>\n      <th>...</th>\n      <td>...</td>\n      <td>...</td>\n      <td>...</td>\n      <td>...</td>\n      <td>...</td>\n      <td>...</td>\n      <td>...</td>\n      <td>...</td>\n      <td>...</td>\n      <td>...</td>\n      <td>...</td>\n      <td>...</td>\n      <td>...</td>\n      <td>...</td>\n      <td>...</td>\n      <td>...</td>\n      <td>...</td>\n      <td>...</td>\n      <td>...</td>\n      <td>...</td>\n      <td>...</td>\n    </tr>\n    <tr>\n      <th>3148</th>\n      <td>-0.287845</td>\n      <td>-0.681344</td>\n      <td>-0.645243</td>\n      <td>-0.431261</td>\n      <td>-0.495710</td>\n      <td>-0.957452</td>\n      <td>-0.457763</td>\n      <td>1920</td>\n      <td>0.0</td>\n      <td>0.0</td>\n      <td>...</td>\n      <td>0.0</td>\n      <td>0.0</td>\n      <td>0.0</td>\n      <td>0.0</td>\n      <td>0.0</td>\n      <td>0.0</td>\n      <td>0.0</td>\n      <td>0.0</td>\n      <td>0.0</td>\n      <td>0.0</td>\n    </tr>\n    <tr>\n      <th>3149</th>\n      <td>-0.287845</td>\n      <td>-1.038624</td>\n      <td>-1.019258</td>\n      <td>-0.431261</td>\n      <td>-0.860427</td>\n      <td>-0.957452</td>\n      <td>-0.457763</td>\n      <td>1946</td>\n      <td>0.0</td>\n      <td>0.0</td>\n      <td>...</td>\n      <td>0.0</td>\n      <td>0.0</td>\n      <td>0.0</td>\n      <td>0.0</td>\n      <td>0.0</td>\n      <td>0.0</td>\n      <td>0.0</td>\n      <td>0.0</td>\n      <td>0.0</td>\n      <td>0.0</td>\n    </tr>\n    <tr>\n      <th>3151</th>\n      <td>-0.779034</td>\n      <td>-0.579940</td>\n      <td>-0.539089</td>\n      <td>-0.431261</td>\n      <td>-1.082719</td>\n      <td>1.011777</td>\n      <td>1.719798</td>\n      <td>1927</td>\n      <td>0.0</td>\n      <td>0.0</td>\n      <td>...</td>\n      <td>0.0</td>\n      <td>0.0</td>\n      <td>0.0</td>\n      <td>0.0</td>\n      <td>0.0</td>\n      <td>0.0</td>\n      <td>0.0</td>\n      <td>0.0</td>\n      <td>0.0</td>\n      <td>0.0</td>\n    </tr>\n    <tr>\n      <th>3154</th>\n      <td>0.404446</td>\n      <td>-0.583328</td>\n      <td>-0.777691</td>\n      <td>1.872424</td>\n      <td>-1.274149</td>\n      <td>0.919955</td>\n      <td>1.732012</td>\n      <td>2001</td>\n      <td>0.0</td>\n      <td>0.0</td>\n      <td>...</td>\n      <td>0.0</td>\n      <td>0.0</td>\n      <td>0.0</td>\n      <td>0.0</td>\n      <td>0.0</td>\n      <td>0.0</td>\n      <td>0.0</td>\n      <td>0.0</td>\n      <td>0.0</td>\n      <td>0.0</td>\n    </tr>\n    <tr>\n      <th>3155</th>\n      <td>-0.779034</td>\n      <td>-1.152747</td>\n      <td>-1.138726</td>\n      <td>-0.431261</td>\n      <td>-1.798587</td>\n      <td>0.901142</td>\n      <td>-0.457763</td>\n      <td>1911</td>\n      <td>0.0</td>\n      <td>0.0</td>\n      <td>...</td>\n      <td>0.0</td>\n      <td>1.0</td>\n      <td>0.0</td>\n      <td>0.0</td>\n      <td>0.0</td>\n      <td>0.0</td>\n      <td>0.0</td>\n      <td>0.0</td>\n      <td>0.0</td>\n      <td>0.0</td>\n    </tr>\n  </tbody>\n</table>\n<p>2209 rows × 102 columns</p>\n</div>"
     },
     "metadata": {},
     "output_type": "display_data"
    }
   ],
   "source": [
    "# 5) Concatenate the two dataframes for the training set\n",
    "\n",
    "print(\"We need to add YearBuilt to the list of features.\")\n",
    "numerical_columns.tolist()\n",
    "features_to_merge = numerical_columns.tolist().copy()\n",
    "features_to_merge.append(\"YearBuilt\") ###\n",
    "print(features_to_merge, end=\"\\n\\n\")\n",
    "\n",
    "print(\"ASK JEREMY : merge based on index ok ? or should I put back OSEBuildingID ??\")\n",
    "X_train_std_encoded = pd.merge(X_train_std[features_to_merge].sort_index(), X_train_encoded.sort_index(), left_index=True, right_index=True)\n",
    "display(X_train_std_encoded.sort_index())"
   ],
   "metadata": {
    "collapsed": false,
    "pycharm": {
     "name": "#%%\n"
    }
   }
  },
  {
   "cell_type": "markdown",
   "source": [
    "##### Encoding the categorical features of the test set"
   ],
   "metadata": {
    "collapsed": false,
    "pycharm": {
     "name": "#%% md\n"
    }
   }
  },
  {
   "cell_type": "code",
   "execution_count": 33,
   "outputs": [
    {
     "name": "stdout",
     "output_type": "stream",
     "text": [
      "ASK JEREMY for this method below ???\n"
     ]
    },
    {
     "data": {
      "text/plain": "      BuildingType_Campus  BuildingType_Multifamily HR (10+)  \\\n0                     0.0                                0.0   \n7                     0.0                                0.0   \n12                    0.0                                0.0   \n14                    0.0                                0.0   \n17                    0.0                                0.0   \n...                   ...                                ...   \n3147                  0.0                                0.0   \n3150                  0.0                                0.0   \n3152                  0.0                                0.0   \n3153                  0.0                                0.0   \n3156                  0.0                                0.0   \n\n      BuildingType_Multifamily LR (1-4)  BuildingType_Multifamily MR (5-9)  \\\n0                                   1.0                                0.0   \n7                                   1.0                                0.0   \n12                                  0.0                                0.0   \n14                                  1.0                                0.0   \n17                                  0.0                                0.0   \n...                                 ...                                ...   \n3147                                0.0                                0.0   \n3150                                0.0                                1.0   \n3152                                0.0                                0.0   \n3153                                1.0                                0.0   \n3156                                0.0                                0.0   \n\n      BuildingType_NonResidential  BuildingType_Nonresidential COS  \\\n0                             0.0                              0.0   \n7                             0.0                              0.0   \n12                            1.0                              0.0   \n14                            0.0                              0.0   \n17                            1.0                              0.0   \n...                           ...                              ...   \n3147                          1.0                              0.0   \n3150                          0.0                              0.0   \n3152                          1.0                              0.0   \n3153                          0.0                              0.0   \n3156                          0.0                              1.0   \n\n      BuildingType_Nonresidential WA  BuildingType_SPS-District K-12  \\\n0                                0.0                             0.0   \n7                                0.0                             0.0   \n12                               0.0                             0.0   \n14                               0.0                             0.0   \n17                               0.0                             0.0   \n...                              ...                             ...   \n3147                             0.0                             0.0   \n3150                             0.0                             0.0   \n3152                             0.0                             0.0   \n3153                             0.0                             0.0   \n3156                             0.0                             0.0   \n\n      PrimaryPropertyType_Distribution Center  \\\n0                                         0.0   \n7                                         0.0   \n12                                        0.0   \n14                                        0.0   \n17                                        0.0   \n...                                       ...   \n3147                                      0.0   \n3150                                      0.0   \n3152                                      0.0   \n3153                                      0.0   \n3156                                      0.0   \n\n      PrimaryPropertyType_High-Rise Multifamily  ...  \\\n0                                           0.0  ...   \n7                                           0.0  ...   \n12                                          0.0  ...   \n14                                          0.0  ...   \n17                                          0.0  ...   \n...                                         ...  ...   \n3147                                        0.0  ...   \n3150                                        0.0  ...   \n3152                                        0.0  ...   \n3153                                        0.0  ...   \n3156                                        0.0  ...   \n\n      LargestPropertyUseType_Restaurant  LargestPropertyUseType_Retail Store  \\\n0                                   0.0                                  0.0   \n7                                   0.0                                  0.0   \n12                                  0.0                                  0.0   \n14                                  0.0                                  0.0   \n17                                  0.0                                  0.0   \n...                                 ...                                  ...   \n3147                                0.0                                  0.0   \n3150                                0.0                                  0.0   \n3152                                0.0                                  0.0   \n3153                                0.0                                  0.0   \n3156                                0.0                                  0.0   \n\n      LargestPropertyUseType_Self-Storage Facility  \\\n0                                              0.0   \n7                                              0.0   \n12                                             0.0   \n14                                             0.0   \n17                                             0.0   \n...                                            ...   \n3147                                           0.0   \n3150                                           0.0   \n3152                                           0.0   \n3153                                           0.0   \n3156                                           0.0   \n\n      LargestPropertyUseType_Senior Care Community  \\\n0                                              0.0   \n7                                              0.0   \n12                                             0.0   \n14                                             0.0   \n17                                             0.0   \n...                                            ...   \n3147                                           0.0   \n3150                                           0.0   \n3152                                           0.0   \n3153                                           0.0   \n3156                                           0.0   \n\n      LargestPropertyUseType_Social/Meeting Hall  \\\n0                                            0.0   \n7                                            0.0   \n12                                           0.0   \n14                                           0.0   \n17                                           0.0   \n...                                          ...   \n3147                                         0.0   \n3150                                         0.0   \n3152                                         0.0   \n3153                                         0.0   \n3156                                         0.0   \n\n      LargestPropertyUseType_Strip Mall  \\\n0                                   0.0   \n7                                   0.0   \n12                                  0.0   \n14                                  0.0   \n17                                  0.0   \n...                                 ...   \n3147                                0.0   \n3150                                0.0   \n3152                                0.0   \n3153                                0.0   \n3156                                0.0   \n\n      LargestPropertyUseType_Supermarket/Grocery Store  \\\n0                                                  0.0   \n7                                                  0.0   \n12                                                 0.0   \n14                                                 0.0   \n17                                                 1.0   \n...                                                ...   \n3147                                               0.0   \n3150                                               0.0   \n3152                                               0.0   \n3153                                               0.0   \n3156                                               0.0   \n\n      LargestPropertyUseType_Urgent Care/Clinic/Other Outpatient  \\\n0                                                   0.0            \n7                                                   0.0            \n12                                                  0.0            \n14                                                  0.0            \n17                                                  0.0            \n...                                                 ...            \n3147                                                0.0            \n3150                                                0.0            \n3152                                                0.0            \n3153                                                0.0            \n3156                                                0.0            \n\n      LargestPropertyUseType_Wholesale Club/Supercenter  \\\n0                                                   0.0   \n7                                                   0.0   \n12                                                  0.0   \n14                                                  0.0   \n17                                                  0.0   \n...                                                 ...   \n3147                                                0.0   \n3150                                                0.0   \n3152                                                0.0   \n3153                                                0.0   \n3156                                                0.0   \n\n      LargestPropertyUseType_Worship Facility  \n0                                         0.0  \n7                                         0.0  \n12                                        0.0  \n14                                        0.0  \n17                                        0.0  \n...                                       ...  \n3147                                      0.0  \n3150                                      0.0  \n3152                                      0.0  \n3153                                      0.0  \n3156                                      0.0  \n\n[948 rows x 94 columns]",
      "text/html": "<div>\n<style scoped>\n    .dataframe tbody tr th:only-of-type {\n        vertical-align: middle;\n    }\n\n    .dataframe tbody tr th {\n        vertical-align: top;\n    }\n\n    .dataframe thead th {\n        text-align: right;\n    }\n</style>\n<table border=\"1\" class=\"dataframe\">\n  <thead>\n    <tr style=\"text-align: right;\">\n      <th></th>\n      <th>BuildingType_Campus</th>\n      <th>BuildingType_Multifamily HR (10+)</th>\n      <th>BuildingType_Multifamily LR (1-4)</th>\n      <th>BuildingType_Multifamily MR (5-9)</th>\n      <th>BuildingType_NonResidential</th>\n      <th>BuildingType_Nonresidential COS</th>\n      <th>BuildingType_Nonresidential WA</th>\n      <th>BuildingType_SPS-District K-12</th>\n      <th>PrimaryPropertyType_Distribution Center</th>\n      <th>PrimaryPropertyType_High-Rise Multifamily</th>\n      <th>...</th>\n      <th>LargestPropertyUseType_Restaurant</th>\n      <th>LargestPropertyUseType_Retail Store</th>\n      <th>LargestPropertyUseType_Self-Storage Facility</th>\n      <th>LargestPropertyUseType_Senior Care Community</th>\n      <th>LargestPropertyUseType_Social/Meeting Hall</th>\n      <th>LargestPropertyUseType_Strip Mall</th>\n      <th>LargestPropertyUseType_Supermarket/Grocery Store</th>\n      <th>LargestPropertyUseType_Urgent Care/Clinic/Other Outpatient</th>\n      <th>LargestPropertyUseType_Wholesale Club/Supercenter</th>\n      <th>LargestPropertyUseType_Worship Facility</th>\n    </tr>\n  </thead>\n  <tbody>\n    <tr>\n      <th>0</th>\n      <td>0.0</td>\n      <td>0.0</td>\n      <td>1.0</td>\n      <td>0.0</td>\n      <td>0.0</td>\n      <td>0.0</td>\n      <td>0.0</td>\n      <td>0.0</td>\n      <td>0.0</td>\n      <td>0.0</td>\n      <td>...</td>\n      <td>0.0</td>\n      <td>0.0</td>\n      <td>0.0</td>\n      <td>0.0</td>\n      <td>0.0</td>\n      <td>0.0</td>\n      <td>0.0</td>\n      <td>0.0</td>\n      <td>0.0</td>\n      <td>0.0</td>\n    </tr>\n    <tr>\n      <th>7</th>\n      <td>0.0</td>\n      <td>0.0</td>\n      <td>1.0</td>\n      <td>0.0</td>\n      <td>0.0</td>\n      <td>0.0</td>\n      <td>0.0</td>\n      <td>0.0</td>\n      <td>0.0</td>\n      <td>0.0</td>\n      <td>...</td>\n      <td>0.0</td>\n      <td>0.0</td>\n      <td>0.0</td>\n      <td>0.0</td>\n      <td>0.0</td>\n      <td>0.0</td>\n      <td>0.0</td>\n      <td>0.0</td>\n      <td>0.0</td>\n      <td>0.0</td>\n    </tr>\n    <tr>\n      <th>12</th>\n      <td>0.0</td>\n      <td>0.0</td>\n      <td>0.0</td>\n      <td>0.0</td>\n      <td>1.0</td>\n      <td>0.0</td>\n      <td>0.0</td>\n      <td>0.0</td>\n      <td>0.0</td>\n      <td>0.0</td>\n      <td>...</td>\n      <td>0.0</td>\n      <td>0.0</td>\n      <td>0.0</td>\n      <td>0.0</td>\n      <td>0.0</td>\n      <td>0.0</td>\n      <td>0.0</td>\n      <td>0.0</td>\n      <td>0.0</td>\n      <td>0.0</td>\n    </tr>\n    <tr>\n      <th>14</th>\n      <td>0.0</td>\n      <td>0.0</td>\n      <td>1.0</td>\n      <td>0.0</td>\n      <td>0.0</td>\n      <td>0.0</td>\n      <td>0.0</td>\n      <td>0.0</td>\n      <td>0.0</td>\n      <td>0.0</td>\n      <td>...</td>\n      <td>0.0</td>\n      <td>0.0</td>\n      <td>0.0</td>\n      <td>0.0</td>\n      <td>0.0</td>\n      <td>0.0</td>\n      <td>0.0</td>\n      <td>0.0</td>\n      <td>0.0</td>\n      <td>0.0</td>\n    </tr>\n    <tr>\n      <th>17</th>\n      <td>0.0</td>\n      <td>0.0</td>\n      <td>0.0</td>\n      <td>0.0</td>\n      <td>1.0</td>\n      <td>0.0</td>\n      <td>0.0</td>\n      <td>0.0</td>\n      <td>0.0</td>\n      <td>0.0</td>\n      <td>...</td>\n      <td>0.0</td>\n      <td>0.0</td>\n      <td>0.0</td>\n      <td>0.0</td>\n      <td>0.0</td>\n      <td>0.0</td>\n      <td>1.0</td>\n      <td>0.0</td>\n      <td>0.0</td>\n      <td>0.0</td>\n    </tr>\n    <tr>\n      <th>...</th>\n      <td>...</td>\n      <td>...</td>\n      <td>...</td>\n      <td>...</td>\n      <td>...</td>\n      <td>...</td>\n      <td>...</td>\n      <td>...</td>\n      <td>...</td>\n      <td>...</td>\n      <td>...</td>\n      <td>...</td>\n      <td>...</td>\n      <td>...</td>\n      <td>...</td>\n      <td>...</td>\n      <td>...</td>\n      <td>...</td>\n      <td>...</td>\n      <td>...</td>\n      <td>...</td>\n    </tr>\n    <tr>\n      <th>3147</th>\n      <td>0.0</td>\n      <td>0.0</td>\n      <td>0.0</td>\n      <td>0.0</td>\n      <td>1.0</td>\n      <td>0.0</td>\n      <td>0.0</td>\n      <td>0.0</td>\n      <td>0.0</td>\n      <td>0.0</td>\n      <td>...</td>\n      <td>0.0</td>\n      <td>0.0</td>\n      <td>0.0</td>\n      <td>0.0</td>\n      <td>0.0</td>\n      <td>0.0</td>\n      <td>0.0</td>\n      <td>0.0</td>\n      <td>0.0</td>\n      <td>0.0</td>\n    </tr>\n    <tr>\n      <th>3150</th>\n      <td>0.0</td>\n      <td>0.0</td>\n      <td>0.0</td>\n      <td>1.0</td>\n      <td>0.0</td>\n      <td>0.0</td>\n      <td>0.0</td>\n      <td>0.0</td>\n      <td>0.0</td>\n      <td>0.0</td>\n      <td>...</td>\n      <td>0.0</td>\n      <td>0.0</td>\n      <td>0.0</td>\n      <td>0.0</td>\n      <td>0.0</td>\n      <td>0.0</td>\n      <td>0.0</td>\n      <td>0.0</td>\n      <td>0.0</td>\n      <td>0.0</td>\n    </tr>\n    <tr>\n      <th>3152</th>\n      <td>0.0</td>\n      <td>0.0</td>\n      <td>0.0</td>\n      <td>0.0</td>\n      <td>1.0</td>\n      <td>0.0</td>\n      <td>0.0</td>\n      <td>0.0</td>\n      <td>0.0</td>\n      <td>0.0</td>\n      <td>...</td>\n      <td>0.0</td>\n      <td>0.0</td>\n      <td>0.0</td>\n      <td>0.0</td>\n      <td>0.0</td>\n      <td>0.0</td>\n      <td>0.0</td>\n      <td>0.0</td>\n      <td>0.0</td>\n      <td>0.0</td>\n    </tr>\n    <tr>\n      <th>3153</th>\n      <td>0.0</td>\n      <td>0.0</td>\n      <td>1.0</td>\n      <td>0.0</td>\n      <td>0.0</td>\n      <td>0.0</td>\n      <td>0.0</td>\n      <td>0.0</td>\n      <td>0.0</td>\n      <td>0.0</td>\n      <td>...</td>\n      <td>0.0</td>\n      <td>0.0</td>\n      <td>0.0</td>\n      <td>0.0</td>\n      <td>0.0</td>\n      <td>0.0</td>\n      <td>0.0</td>\n      <td>0.0</td>\n      <td>0.0</td>\n      <td>0.0</td>\n    </tr>\n    <tr>\n      <th>3156</th>\n      <td>0.0</td>\n      <td>0.0</td>\n      <td>0.0</td>\n      <td>0.0</td>\n      <td>0.0</td>\n      <td>1.0</td>\n      <td>0.0</td>\n      <td>0.0</td>\n      <td>0.0</td>\n      <td>0.0</td>\n      <td>...</td>\n      <td>0.0</td>\n      <td>0.0</td>\n      <td>0.0</td>\n      <td>0.0</td>\n      <td>0.0</td>\n      <td>0.0</td>\n      <td>0.0</td>\n      <td>0.0</td>\n      <td>0.0</td>\n      <td>0.0</td>\n    </tr>\n  </tbody>\n</table>\n<p>948 rows × 94 columns</p>\n</div>"
     },
     "metadata": {},
     "output_type": "display_data"
    },
    {
     "name": "stdout",
     "output_type": "stream",
     "text": [
      "ASK JEREMY : merge based on index ok ? or should I put back OSEBuildingID ??\n"
     ]
    },
    {
     "data": {
      "text/plain": "      Log-NumberofFloors  Log-PropertyGFATotal  Log-PropertyGFABuilding(s)  \\\n0              -0.287845             -1.140373                   -1.125772   \n7              -0.287845              0.875660                    0.984690   \n12             -0.779034             -0.180711                   -0.828488   \n14              0.093150              1.181887                    1.305261   \n17             -1.471325             -0.694017                   -0.658509   \n...                  ...                   ...                         ...   \n3147            0.093150             -0.395407                   -0.345912   \n3150            0.404446             -0.074642                   -0.010123   \n3152           -0.287845             -0.337396                   -0.583784   \n3153            0.093150             -0.488322                   -0.443179   \n3156           -1.471325             -1.286208                   -1.278438   \n\n      Log-PropertyGFAParking  Log-LargestPropertyUseTypeGFA  \\\n0                  -0.431261                      -1.154193   \n7                  -0.431261                       0.854504   \n12                  2.208418                      -0.547035   \n14                 -0.431261                       0.009116   \n17                 -0.431261                      -0.594093   \n...                      ...                            ...   \n3147               -0.431261                      -0.203820   \n3150               -0.431261                      -0.034118   \n3152                1.985881                      -1.400865   \n3153               -0.431261                      -0.298669   \n3156               -0.431261                      -2.038345   \n\n      Log-SecondLargestPropertyUseTypeGFA  Log-ThirdLargestPropertyUseTypeGFA  \\\n0                               -0.957452                           -0.457763   \n7                                1.037213                           -0.457763   \n12                               0.841658                           -0.457763   \n14                               1.102696                            2.030004   \n17                               0.655805                           -0.457763   \n...                                   ...                                 ...   \n3147                            -0.957452                           -0.457763   \n3150                            -0.957452                           -0.457763   \n3152                             1.018743                            2.290103   \n3153                            -0.957452                           -0.457763   \n3156                             0.901142                            1.641392   \n\n      YearBuilt  BuildingType_Campus  BuildingType_Multifamily HR (10+)  ...  \\\n0          1978                  0.0                                0.0  ...   \n7          1977                  0.0                                0.0  ...   \n12         1991                  0.0                                0.0  ...   \n14         2010                  0.0                                0.0  ...   \n17         1980                  0.0                                0.0  ...   \n...         ...                  ...                                ...  ...   \n3147       1925                  0.0                                0.0  ...   \n3150       1925                  0.0                                0.0  ...   \n3152       2001                  0.0                                0.0  ...   \n3153       1907                  0.0                                0.0  ...   \n3156       1938                  0.0                                0.0  ...   \n\n      LargestPropertyUseType_Restaurant  LargestPropertyUseType_Retail Store  \\\n0                                   0.0                                  0.0   \n7                                   0.0                                  0.0   \n12                                  0.0                                  0.0   \n14                                  0.0                                  0.0   \n17                                  0.0                                  0.0   \n...                                 ...                                  ...   \n3147                                0.0                                  0.0   \n3150                                0.0                                  0.0   \n3152                                0.0                                  0.0   \n3153                                0.0                                  0.0   \n3156                                0.0                                  0.0   \n\n      LargestPropertyUseType_Self-Storage Facility  \\\n0                                              0.0   \n7                                              0.0   \n12                                             0.0   \n14                                             0.0   \n17                                             0.0   \n...                                            ...   \n3147                                           0.0   \n3150                                           0.0   \n3152                                           0.0   \n3153                                           0.0   \n3156                                           0.0   \n\n      LargestPropertyUseType_Senior Care Community  \\\n0                                              0.0   \n7                                              0.0   \n12                                             0.0   \n14                                             0.0   \n17                                             0.0   \n...                                            ...   \n3147                                           0.0   \n3150                                           0.0   \n3152                                           0.0   \n3153                                           0.0   \n3156                                           0.0   \n\n      LargestPropertyUseType_Social/Meeting Hall  \\\n0                                            0.0   \n7                                            0.0   \n12                                           0.0   \n14                                           0.0   \n17                                           0.0   \n...                                          ...   \n3147                                         0.0   \n3150                                         0.0   \n3152                                         0.0   \n3153                                         0.0   \n3156                                         0.0   \n\n      LargestPropertyUseType_Strip Mall  \\\n0                                   0.0   \n7                                   0.0   \n12                                  0.0   \n14                                  0.0   \n17                                  0.0   \n...                                 ...   \n3147                                0.0   \n3150                                0.0   \n3152                                0.0   \n3153                                0.0   \n3156                                0.0   \n\n      LargestPropertyUseType_Supermarket/Grocery Store  \\\n0                                                  0.0   \n7                                                  0.0   \n12                                                 0.0   \n14                                                 0.0   \n17                                                 1.0   \n...                                                ...   \n3147                                               0.0   \n3150                                               0.0   \n3152                                               0.0   \n3153                                               0.0   \n3156                                               0.0   \n\n      LargestPropertyUseType_Urgent Care/Clinic/Other Outpatient  \\\n0                                                   0.0            \n7                                                   0.0            \n12                                                  0.0            \n14                                                  0.0            \n17                                                  0.0            \n...                                                 ...            \n3147                                                0.0            \n3150                                                0.0            \n3152                                                0.0            \n3153                                                0.0            \n3156                                                0.0            \n\n      LargestPropertyUseType_Wholesale Club/Supercenter  \\\n0                                                   0.0   \n7                                                   0.0   \n12                                                  0.0   \n14                                                  0.0   \n17                                                  0.0   \n...                                                 ...   \n3147                                                0.0   \n3150                                                0.0   \n3152                                                0.0   \n3153                                                0.0   \n3156                                                0.0   \n\n      LargestPropertyUseType_Worship Facility  \n0                                         0.0  \n7                                         0.0  \n12                                        0.0  \n14                                        0.0  \n17                                        0.0  \n...                                       ...  \n3147                                      0.0  \n3150                                      0.0  \n3152                                      0.0  \n3153                                      0.0  \n3156                                      0.0  \n\n[948 rows x 102 columns]",
      "text/html": "<div>\n<style scoped>\n    .dataframe tbody tr th:only-of-type {\n        vertical-align: middle;\n    }\n\n    .dataframe tbody tr th {\n        vertical-align: top;\n    }\n\n    .dataframe thead th {\n        text-align: right;\n    }\n</style>\n<table border=\"1\" class=\"dataframe\">\n  <thead>\n    <tr style=\"text-align: right;\">\n      <th></th>\n      <th>Log-NumberofFloors</th>\n      <th>Log-PropertyGFATotal</th>\n      <th>Log-PropertyGFABuilding(s)</th>\n      <th>Log-PropertyGFAParking</th>\n      <th>Log-LargestPropertyUseTypeGFA</th>\n      <th>Log-SecondLargestPropertyUseTypeGFA</th>\n      <th>Log-ThirdLargestPropertyUseTypeGFA</th>\n      <th>YearBuilt</th>\n      <th>BuildingType_Campus</th>\n      <th>BuildingType_Multifamily HR (10+)</th>\n      <th>...</th>\n      <th>LargestPropertyUseType_Restaurant</th>\n      <th>LargestPropertyUseType_Retail Store</th>\n      <th>LargestPropertyUseType_Self-Storage Facility</th>\n      <th>LargestPropertyUseType_Senior Care Community</th>\n      <th>LargestPropertyUseType_Social/Meeting Hall</th>\n      <th>LargestPropertyUseType_Strip Mall</th>\n      <th>LargestPropertyUseType_Supermarket/Grocery Store</th>\n      <th>LargestPropertyUseType_Urgent Care/Clinic/Other Outpatient</th>\n      <th>LargestPropertyUseType_Wholesale Club/Supercenter</th>\n      <th>LargestPropertyUseType_Worship Facility</th>\n    </tr>\n  </thead>\n  <tbody>\n    <tr>\n      <th>0</th>\n      <td>-0.287845</td>\n      <td>-1.140373</td>\n      <td>-1.125772</td>\n      <td>-0.431261</td>\n      <td>-1.154193</td>\n      <td>-0.957452</td>\n      <td>-0.457763</td>\n      <td>1978</td>\n      <td>0.0</td>\n      <td>0.0</td>\n      <td>...</td>\n      <td>0.0</td>\n      <td>0.0</td>\n      <td>0.0</td>\n      <td>0.0</td>\n      <td>0.0</td>\n      <td>0.0</td>\n      <td>0.0</td>\n      <td>0.0</td>\n      <td>0.0</td>\n      <td>0.0</td>\n    </tr>\n    <tr>\n      <th>7</th>\n      <td>-0.287845</td>\n      <td>0.875660</td>\n      <td>0.984690</td>\n      <td>-0.431261</td>\n      <td>0.854504</td>\n      <td>1.037213</td>\n      <td>-0.457763</td>\n      <td>1977</td>\n      <td>0.0</td>\n      <td>0.0</td>\n      <td>...</td>\n      <td>0.0</td>\n      <td>0.0</td>\n      <td>0.0</td>\n      <td>0.0</td>\n      <td>0.0</td>\n      <td>0.0</td>\n      <td>0.0</td>\n      <td>0.0</td>\n      <td>0.0</td>\n      <td>0.0</td>\n    </tr>\n    <tr>\n      <th>12</th>\n      <td>-0.779034</td>\n      <td>-0.180711</td>\n      <td>-0.828488</td>\n      <td>2.208418</td>\n      <td>-0.547035</td>\n      <td>0.841658</td>\n      <td>-0.457763</td>\n      <td>1991</td>\n      <td>0.0</td>\n      <td>0.0</td>\n      <td>...</td>\n      <td>0.0</td>\n      <td>0.0</td>\n      <td>0.0</td>\n      <td>0.0</td>\n      <td>0.0</td>\n      <td>0.0</td>\n      <td>0.0</td>\n      <td>0.0</td>\n      <td>0.0</td>\n      <td>0.0</td>\n    </tr>\n    <tr>\n      <th>14</th>\n      <td>0.093150</td>\n      <td>1.181887</td>\n      <td>1.305261</td>\n      <td>-0.431261</td>\n      <td>0.009116</td>\n      <td>1.102696</td>\n      <td>2.030004</td>\n      <td>2010</td>\n      <td>0.0</td>\n      <td>0.0</td>\n      <td>...</td>\n      <td>0.0</td>\n      <td>0.0</td>\n      <td>0.0</td>\n      <td>0.0</td>\n      <td>0.0</td>\n      <td>0.0</td>\n      <td>0.0</td>\n      <td>0.0</td>\n      <td>0.0</td>\n      <td>0.0</td>\n    </tr>\n    <tr>\n      <th>17</th>\n      <td>-1.471325</td>\n      <td>-0.694017</td>\n      <td>-0.658509</td>\n      <td>-0.431261</td>\n      <td>-0.594093</td>\n      <td>0.655805</td>\n      <td>-0.457763</td>\n      <td>1980</td>\n      <td>0.0</td>\n      <td>0.0</td>\n      <td>...</td>\n      <td>0.0</td>\n      <td>0.0</td>\n      <td>0.0</td>\n      <td>0.0</td>\n      <td>0.0</td>\n      <td>0.0</td>\n      <td>1.0</td>\n      <td>0.0</td>\n      <td>0.0</td>\n      <td>0.0</td>\n    </tr>\n    <tr>\n      <th>...</th>\n      <td>...</td>\n      <td>...</td>\n      <td>...</td>\n      <td>...</td>\n      <td>...</td>\n      <td>...</td>\n      <td>...</td>\n      <td>...</td>\n      <td>...</td>\n      <td>...</td>\n      <td>...</td>\n      <td>...</td>\n      <td>...</td>\n      <td>...</td>\n      <td>...</td>\n      <td>...</td>\n      <td>...</td>\n      <td>...</td>\n      <td>...</td>\n      <td>...</td>\n      <td>...</td>\n    </tr>\n    <tr>\n      <th>3147</th>\n      <td>0.093150</td>\n      <td>-0.395407</td>\n      <td>-0.345912</td>\n      <td>-0.431261</td>\n      <td>-0.203820</td>\n      <td>-0.957452</td>\n      <td>-0.457763</td>\n      <td>1925</td>\n      <td>0.0</td>\n      <td>0.0</td>\n      <td>...</td>\n      <td>0.0</td>\n      <td>0.0</td>\n      <td>0.0</td>\n      <td>0.0</td>\n      <td>0.0</td>\n      <td>0.0</td>\n      <td>0.0</td>\n      <td>0.0</td>\n      <td>0.0</td>\n      <td>0.0</td>\n    </tr>\n    <tr>\n      <th>3150</th>\n      <td>0.404446</td>\n      <td>-0.074642</td>\n      <td>-0.010123</td>\n      <td>-0.431261</td>\n      <td>-0.034118</td>\n      <td>-0.957452</td>\n      <td>-0.457763</td>\n      <td>1925</td>\n      <td>0.0</td>\n      <td>0.0</td>\n      <td>...</td>\n      <td>0.0</td>\n      <td>0.0</td>\n      <td>0.0</td>\n      <td>0.0</td>\n      <td>0.0</td>\n      <td>0.0</td>\n      <td>0.0</td>\n      <td>0.0</td>\n      <td>0.0</td>\n      <td>0.0</td>\n    </tr>\n    <tr>\n      <th>3152</th>\n      <td>-0.287845</td>\n      <td>-0.337396</td>\n      <td>-0.583784</td>\n      <td>1.985881</td>\n      <td>-1.400865</td>\n      <td>1.018743</td>\n      <td>2.290103</td>\n      <td>2001</td>\n      <td>0.0</td>\n      <td>0.0</td>\n      <td>...</td>\n      <td>0.0</td>\n      <td>0.0</td>\n      <td>0.0</td>\n      <td>0.0</td>\n      <td>0.0</td>\n      <td>0.0</td>\n      <td>0.0</td>\n      <td>0.0</td>\n      <td>0.0</td>\n      <td>0.0</td>\n    </tr>\n    <tr>\n      <th>3153</th>\n      <td>0.093150</td>\n      <td>-0.488322</td>\n      <td>-0.443179</td>\n      <td>-0.431261</td>\n      <td>-0.298669</td>\n      <td>-0.957452</td>\n      <td>-0.457763</td>\n      <td>1907</td>\n      <td>0.0</td>\n      <td>0.0</td>\n      <td>...</td>\n      <td>0.0</td>\n      <td>0.0</td>\n      <td>0.0</td>\n      <td>0.0</td>\n      <td>0.0</td>\n      <td>0.0</td>\n      <td>0.0</td>\n      <td>0.0</td>\n      <td>0.0</td>\n      <td>0.0</td>\n    </tr>\n    <tr>\n      <th>3156</th>\n      <td>-1.471325</td>\n      <td>-1.286208</td>\n      <td>-1.278438</td>\n      <td>-0.431261</td>\n      <td>-2.038345</td>\n      <td>0.901142</td>\n      <td>1.641392</td>\n      <td>1938</td>\n      <td>0.0</td>\n      <td>0.0</td>\n      <td>...</td>\n      <td>0.0</td>\n      <td>0.0</td>\n      <td>0.0</td>\n      <td>0.0</td>\n      <td>0.0</td>\n      <td>0.0</td>\n      <td>0.0</td>\n      <td>0.0</td>\n      <td>0.0</td>\n      <td>0.0</td>\n    </tr>\n  </tbody>\n</table>\n<p>948 rows × 102 columns</p>\n</div>"
     },
     "metadata": {},
     "output_type": "display_data"
    }
   ],
   "source": [
    "# 5) One Hot Encoding on the testing set\n",
    "\n",
    "# 5.1) we get the encoded numpy array\n",
    "TEST_encoded_categorical_data = one_hot_encoder.transform(X_test_std[categorical_columns])\n",
    "\n",
    "print(\"ASK JEREMY for this method below ???\")\n",
    "# 5.2) we recreate a dataframe with the column names and the numpy array\n",
    "X_test_encoded = pd.DataFrame(columns=encoded_categorical_data_names,\n",
    "                               data=TEST_encoded_categorical_data,\n",
    "                               index=X_test_std.index)\n",
    "display(X_test_encoded.sort_index())\n",
    "\n",
    "print(\"ASK JEREMY : merge based on index ok ? or should I put back OSEBuildingID ??\")\n",
    "X_test_std_encoded = pd.merge(X_test_std[features_to_merge].sort_index(), X_test_encoded.sort_index(), left_index=True, right_index=True)\n",
    "display(X_test_std_encoded.sort_index())"
   ],
   "metadata": {
    "collapsed": false,
    "pycharm": {
     "name": "#%%\n"
    }
   }
  },
  {
   "cell_type": "code",
   "execution_count": 34,
   "outputs": [],
   "source": [
    "# Save\n",
    "#X_train_std_encoded.to_csv(\"dataset/cleaned/electricity/X_train.csv\", index=False)\n",
    "#X_test_std_encoded.to_csv(\"dataset/cleaned/electricity/X_test.csv\", index=False)\n",
    "#y_train.to_csv(\"dataset/cleaned/electricity/y_train.csv\", index=False)\n",
    "#y_test.to_csv(\"dataset/cleaned/electricity/y_test.csv\", index=False)"
   ],
   "metadata": {
    "collapsed": false,
    "pycharm": {
     "name": "#%%\n"
    }
   }
  },
  {
   "cell_type": "markdown",
   "source": [
    "## II) Modelisation"
   ],
   "metadata": {
    "collapsed": false,
    "pycharm": {
     "name": "#%% md\n"
    }
   }
  },
  {
   "cell_type": "code",
   "execution_count": 35,
   "outputs": [],
   "source": [
    "from sklearn.model_selection import GridSearchCV\n",
    "from sklearn.metrics import mean_squared_error"
   ],
   "metadata": {
    "collapsed": false,
    "pycharm": {
     "name": "#%%\n"
    }
   }
  },
  {
   "cell_type": "code",
   "execution_count": 36,
   "outputs": [
    {
     "name": "stdout",
     "output_type": "stream",
     "text": [
      "We can start now the modelling to predict the feature wanted.\n"
     ]
    },
    {
     "data": {
      "text/plain": "      Log-NumberofFloors  Log-PropertyGFATotal  Log-PropertyGFABuilding(s)  \\\n1              -0.779034             -0.883583                   -0.856954   \n2              -0.287845             -0.921011                   -0.896136   \n3               2.079115              0.314064                    0.396790   \n4              -0.287845             -0.497003                   -0.709536   \n5               0.093150             -0.418702                   -0.370298   \n...                  ...                   ...                         ...   \n3148           -0.287845             -0.681344                   -0.645243   \n3149           -0.287845             -1.038624                   -1.019258   \n3151           -0.779034             -0.579940                   -0.539089   \n3154            0.404446             -0.583328                   -0.777691   \n3155           -0.779034             -1.152747                   -1.138726   \n\n      Log-PropertyGFAParking  Log-LargestPropertyUseTypeGFA  \\\n1                  -0.431261                      -1.410978   \n2                  -0.431261                      -0.740365   \n3                  -0.431261                       0.611839   \n4                   1.913920                      -0.738832   \n5                  -0.431261                      -0.227600   \n...                      ...                            ...   \n3148               -0.431261                      -0.495710   \n3149               -0.431261                      -0.860427   \n3151               -0.431261                      -1.082719   \n3154                1.872424                      -1.274149   \n3155               -0.431261                      -1.798587   \n\n      Log-SecondLargestPropertyUseTypeGFA  Log-ThirdLargestPropertyUseTypeGFA  \\\n1                                0.919554                            1.945367   \n2                               -0.957452                           -0.457763   \n3                               -0.957452                           -0.457763   \n4                                0.767912                           -0.457763   \n5                               -0.957452                           -0.457763   \n...                                   ...                                 ...   \n3148                            -0.957452                           -0.457763   \n3149                            -0.957452                           -0.457763   \n3151                             1.011777                            1.719798   \n3154                             0.919955                            1.732012   \n3155                             0.901142                           -0.457763   \n\n      YearBuilt  BuildingType_Campus  BuildingType_Multifamily HR (10+)  ...  \\\n1          1928                  0.0                                0.0  ...   \n2          1925                  0.0                                0.0  ...   \n3          1971                  0.0                                1.0  ...   \n4          2001                  0.0                                0.0  ...   \n5          1996                  0.0                                0.0  ...   \n...         ...                  ...                                ...  ...   \n3148       1920                  0.0                                0.0  ...   \n3149       1946                  0.0                                0.0  ...   \n3151       1927                  0.0                                0.0  ...   \n3154       2001                  0.0                                0.0  ...   \n3155       1911                  0.0                                0.0  ...   \n\n      LargestPropertyUseType_Restaurant  LargestPropertyUseType_Retail Store  \\\n1                                   0.0                                  0.0   \n2                                   0.0                                  0.0   \n3                                   0.0                                  0.0   \n4                                   0.0                                  0.0   \n5                                   0.0                                  0.0   \n...                                 ...                                  ...   \n3148                                0.0                                  0.0   \n3149                                0.0                                  0.0   \n3151                                0.0                                  0.0   \n3154                                0.0                                  0.0   \n3155                                0.0                                  1.0   \n\n      LargestPropertyUseType_Self-Storage Facility  \\\n1                                              0.0   \n2                                              0.0   \n3                                              0.0   \n4                                              0.0   \n5                                              1.0   \n...                                            ...   \n3148                                           0.0   \n3149                                           0.0   \n3151                                           0.0   \n3154                                           0.0   \n3155                                           0.0   \n\n      LargestPropertyUseType_Senior Care Community  \\\n1                                              0.0   \n2                                              0.0   \n3                                              0.0   \n4                                              0.0   \n5                                              0.0   \n...                                            ...   \n3148                                           0.0   \n3149                                           0.0   \n3151                                           0.0   \n3154                                           0.0   \n3155                                           0.0   \n\n      LargestPropertyUseType_Social/Meeting Hall  \\\n1                                            0.0   \n2                                            0.0   \n3                                            0.0   \n4                                            0.0   \n5                                            0.0   \n...                                          ...   \n3148                                         0.0   \n3149                                         0.0   \n3151                                         0.0   \n3154                                         0.0   \n3155                                         0.0   \n\n      LargestPropertyUseType_Strip Mall  \\\n1                                   0.0   \n2                                   0.0   \n3                                   0.0   \n4                                   0.0   \n5                                   0.0   \n...                                 ...   \n3148                                0.0   \n3149                                0.0   \n3151                                0.0   \n3154                                0.0   \n3155                                0.0   \n\n      LargestPropertyUseType_Supermarket/Grocery Store  \\\n1                                                  0.0   \n2                                                  0.0   \n3                                                  0.0   \n4                                                  0.0   \n5                                                  0.0   \n...                                                ...   \n3148                                               0.0   \n3149                                               0.0   \n3151                                               0.0   \n3154                                               0.0   \n3155                                               0.0   \n\n      LargestPropertyUseType_Urgent Care/Clinic/Other Outpatient  \\\n1                                                   0.0            \n2                                                   0.0            \n3                                                   0.0            \n4                                                   0.0            \n5                                                   0.0            \n...                                                 ...            \n3148                                                0.0            \n3149                                                0.0            \n3151                                                0.0            \n3154                                                0.0            \n3155                                                0.0            \n\n      LargestPropertyUseType_Wholesale Club/Supercenter  \\\n1                                                   0.0   \n2                                                   0.0   \n3                                                   0.0   \n4                                                   0.0   \n5                                                   0.0   \n...                                                 ...   \n3148                                                0.0   \n3149                                                0.0   \n3151                                                0.0   \n3154                                                0.0   \n3155                                                0.0   \n\n      LargestPropertyUseType_Worship Facility  \n1                                         0.0  \n2                                         0.0  \n3                                         0.0  \n4                                         0.0  \n5                                         0.0  \n...                                       ...  \n3148                                      0.0  \n3149                                      0.0  \n3151                                      0.0  \n3154                                      0.0  \n3155                                      0.0  \n\n[2209 rows x 102 columns]",
      "text/html": "<div>\n<style scoped>\n    .dataframe tbody tr th:only-of-type {\n        vertical-align: middle;\n    }\n\n    .dataframe tbody tr th {\n        vertical-align: top;\n    }\n\n    .dataframe thead th {\n        text-align: right;\n    }\n</style>\n<table border=\"1\" class=\"dataframe\">\n  <thead>\n    <tr style=\"text-align: right;\">\n      <th></th>\n      <th>Log-NumberofFloors</th>\n      <th>Log-PropertyGFATotal</th>\n      <th>Log-PropertyGFABuilding(s)</th>\n      <th>Log-PropertyGFAParking</th>\n      <th>Log-LargestPropertyUseTypeGFA</th>\n      <th>Log-SecondLargestPropertyUseTypeGFA</th>\n      <th>Log-ThirdLargestPropertyUseTypeGFA</th>\n      <th>YearBuilt</th>\n      <th>BuildingType_Campus</th>\n      <th>BuildingType_Multifamily HR (10+)</th>\n      <th>...</th>\n      <th>LargestPropertyUseType_Restaurant</th>\n      <th>LargestPropertyUseType_Retail Store</th>\n      <th>LargestPropertyUseType_Self-Storage Facility</th>\n      <th>LargestPropertyUseType_Senior Care Community</th>\n      <th>LargestPropertyUseType_Social/Meeting Hall</th>\n      <th>LargestPropertyUseType_Strip Mall</th>\n      <th>LargestPropertyUseType_Supermarket/Grocery Store</th>\n      <th>LargestPropertyUseType_Urgent Care/Clinic/Other Outpatient</th>\n      <th>LargestPropertyUseType_Wholesale Club/Supercenter</th>\n      <th>LargestPropertyUseType_Worship Facility</th>\n    </tr>\n  </thead>\n  <tbody>\n    <tr>\n      <th>1</th>\n      <td>-0.779034</td>\n      <td>-0.883583</td>\n      <td>-0.856954</td>\n      <td>-0.431261</td>\n      <td>-1.410978</td>\n      <td>0.919554</td>\n      <td>1.945367</td>\n      <td>1928</td>\n      <td>0.0</td>\n      <td>0.0</td>\n      <td>...</td>\n      <td>0.0</td>\n      <td>0.0</td>\n      <td>0.0</td>\n      <td>0.0</td>\n      <td>0.0</td>\n      <td>0.0</td>\n      <td>0.0</td>\n      <td>0.0</td>\n      <td>0.0</td>\n      <td>0.0</td>\n    </tr>\n    <tr>\n      <th>2</th>\n      <td>-0.287845</td>\n      <td>-0.921011</td>\n      <td>-0.896136</td>\n      <td>-0.431261</td>\n      <td>-0.740365</td>\n      <td>-0.957452</td>\n      <td>-0.457763</td>\n      <td>1925</td>\n      <td>0.0</td>\n      <td>0.0</td>\n      <td>...</td>\n      <td>0.0</td>\n      <td>0.0</td>\n      <td>0.0</td>\n      <td>0.0</td>\n      <td>0.0</td>\n      <td>0.0</td>\n      <td>0.0</td>\n      <td>0.0</td>\n      <td>0.0</td>\n      <td>0.0</td>\n    </tr>\n    <tr>\n      <th>3</th>\n      <td>2.079115</td>\n      <td>0.314064</td>\n      <td>0.396790</td>\n      <td>-0.431261</td>\n      <td>0.611839</td>\n      <td>-0.957452</td>\n      <td>-0.457763</td>\n      <td>1971</td>\n      <td>0.0</td>\n      <td>1.0</td>\n      <td>...</td>\n      <td>0.0</td>\n      <td>0.0</td>\n      <td>0.0</td>\n      <td>0.0</td>\n      <td>0.0</td>\n      <td>0.0</td>\n      <td>0.0</td>\n      <td>0.0</td>\n      <td>0.0</td>\n      <td>0.0</td>\n    </tr>\n    <tr>\n      <th>4</th>\n      <td>-0.287845</td>\n      <td>-0.497003</td>\n      <td>-0.709536</td>\n      <td>1.913920</td>\n      <td>-0.738832</td>\n      <td>0.767912</td>\n      <td>-0.457763</td>\n      <td>2001</td>\n      <td>0.0</td>\n      <td>0.0</td>\n      <td>...</td>\n      <td>0.0</td>\n      <td>0.0</td>\n      <td>0.0</td>\n      <td>0.0</td>\n      <td>0.0</td>\n      <td>0.0</td>\n      <td>0.0</td>\n      <td>0.0</td>\n      <td>0.0</td>\n      <td>0.0</td>\n    </tr>\n    <tr>\n      <th>5</th>\n      <td>0.093150</td>\n      <td>-0.418702</td>\n      <td>-0.370298</td>\n      <td>-0.431261</td>\n      <td>-0.227600</td>\n      <td>-0.957452</td>\n      <td>-0.457763</td>\n      <td>1996</td>\n      <td>0.0</td>\n      <td>0.0</td>\n      <td>...</td>\n      <td>0.0</td>\n      <td>0.0</td>\n      <td>1.0</td>\n      <td>0.0</td>\n      <td>0.0</td>\n      <td>0.0</td>\n      <td>0.0</td>\n      <td>0.0</td>\n      <td>0.0</td>\n      <td>0.0</td>\n    </tr>\n    <tr>\n      <th>...</th>\n      <td>...</td>\n      <td>...</td>\n      <td>...</td>\n      <td>...</td>\n      <td>...</td>\n      <td>...</td>\n      <td>...</td>\n      <td>...</td>\n      <td>...</td>\n      <td>...</td>\n      <td>...</td>\n      <td>...</td>\n      <td>...</td>\n      <td>...</td>\n      <td>...</td>\n      <td>...</td>\n      <td>...</td>\n      <td>...</td>\n      <td>...</td>\n      <td>...</td>\n      <td>...</td>\n    </tr>\n    <tr>\n      <th>3148</th>\n      <td>-0.287845</td>\n      <td>-0.681344</td>\n      <td>-0.645243</td>\n      <td>-0.431261</td>\n      <td>-0.495710</td>\n      <td>-0.957452</td>\n      <td>-0.457763</td>\n      <td>1920</td>\n      <td>0.0</td>\n      <td>0.0</td>\n      <td>...</td>\n      <td>0.0</td>\n      <td>0.0</td>\n      <td>0.0</td>\n      <td>0.0</td>\n      <td>0.0</td>\n      <td>0.0</td>\n      <td>0.0</td>\n      <td>0.0</td>\n      <td>0.0</td>\n      <td>0.0</td>\n    </tr>\n    <tr>\n      <th>3149</th>\n      <td>-0.287845</td>\n      <td>-1.038624</td>\n      <td>-1.019258</td>\n      <td>-0.431261</td>\n      <td>-0.860427</td>\n      <td>-0.957452</td>\n      <td>-0.457763</td>\n      <td>1946</td>\n      <td>0.0</td>\n      <td>0.0</td>\n      <td>...</td>\n      <td>0.0</td>\n      <td>0.0</td>\n      <td>0.0</td>\n      <td>0.0</td>\n      <td>0.0</td>\n      <td>0.0</td>\n      <td>0.0</td>\n      <td>0.0</td>\n      <td>0.0</td>\n      <td>0.0</td>\n    </tr>\n    <tr>\n      <th>3151</th>\n      <td>-0.779034</td>\n      <td>-0.579940</td>\n      <td>-0.539089</td>\n      <td>-0.431261</td>\n      <td>-1.082719</td>\n      <td>1.011777</td>\n      <td>1.719798</td>\n      <td>1927</td>\n      <td>0.0</td>\n      <td>0.0</td>\n      <td>...</td>\n      <td>0.0</td>\n      <td>0.0</td>\n      <td>0.0</td>\n      <td>0.0</td>\n      <td>0.0</td>\n      <td>0.0</td>\n      <td>0.0</td>\n      <td>0.0</td>\n      <td>0.0</td>\n      <td>0.0</td>\n    </tr>\n    <tr>\n      <th>3154</th>\n      <td>0.404446</td>\n      <td>-0.583328</td>\n      <td>-0.777691</td>\n      <td>1.872424</td>\n      <td>-1.274149</td>\n      <td>0.919955</td>\n      <td>1.732012</td>\n      <td>2001</td>\n      <td>0.0</td>\n      <td>0.0</td>\n      <td>...</td>\n      <td>0.0</td>\n      <td>0.0</td>\n      <td>0.0</td>\n      <td>0.0</td>\n      <td>0.0</td>\n      <td>0.0</td>\n      <td>0.0</td>\n      <td>0.0</td>\n      <td>0.0</td>\n      <td>0.0</td>\n    </tr>\n    <tr>\n      <th>3155</th>\n      <td>-0.779034</td>\n      <td>-1.152747</td>\n      <td>-1.138726</td>\n      <td>-0.431261</td>\n      <td>-1.798587</td>\n      <td>0.901142</td>\n      <td>-0.457763</td>\n      <td>1911</td>\n      <td>0.0</td>\n      <td>0.0</td>\n      <td>...</td>\n      <td>0.0</td>\n      <td>1.0</td>\n      <td>0.0</td>\n      <td>0.0</td>\n      <td>0.0</td>\n      <td>0.0</td>\n      <td>0.0</td>\n      <td>0.0</td>\n      <td>0.0</td>\n      <td>0.0</td>\n    </tr>\n  </tbody>\n</table>\n<p>2209 rows × 102 columns</p>\n</div>"
     },
     "metadata": {},
     "output_type": "display_data"
    },
    {
     "data": {
      "text/plain": "      Log-NumberofFloors  Log-PropertyGFATotal  Log-PropertyGFABuilding(s)  \\\n0              -0.287845             -1.140373                   -1.125772   \n7              -0.287845              0.875660                    0.984690   \n12             -0.779034             -0.180711                   -0.828488   \n14              0.093150              1.181887                    1.305261   \n17             -1.471325             -0.694017                   -0.658509   \n...                  ...                   ...                         ...   \n3147            0.093150             -0.395407                   -0.345912   \n3150            0.404446             -0.074642                   -0.010123   \n3152           -0.287845             -0.337396                   -0.583784   \n3153            0.093150             -0.488322                   -0.443179   \n3156           -1.471325             -1.286208                   -1.278438   \n\n      Log-PropertyGFAParking  Log-LargestPropertyUseTypeGFA  \\\n0                  -0.431261                      -1.154193   \n7                  -0.431261                       0.854504   \n12                  2.208418                      -0.547035   \n14                 -0.431261                       0.009116   \n17                 -0.431261                      -0.594093   \n...                      ...                            ...   \n3147               -0.431261                      -0.203820   \n3150               -0.431261                      -0.034118   \n3152                1.985881                      -1.400865   \n3153               -0.431261                      -0.298669   \n3156               -0.431261                      -2.038345   \n\n      Log-SecondLargestPropertyUseTypeGFA  Log-ThirdLargestPropertyUseTypeGFA  \\\n0                               -0.957452                           -0.457763   \n7                                1.037213                           -0.457763   \n12                               0.841658                           -0.457763   \n14                               1.102696                            2.030004   \n17                               0.655805                           -0.457763   \n...                                   ...                                 ...   \n3147                            -0.957452                           -0.457763   \n3150                            -0.957452                           -0.457763   \n3152                             1.018743                            2.290103   \n3153                            -0.957452                           -0.457763   \n3156                             0.901142                            1.641392   \n\n      YearBuilt  BuildingType_Campus  BuildingType_Multifamily HR (10+)  ...  \\\n0          1978                  0.0                                0.0  ...   \n7          1977                  0.0                                0.0  ...   \n12         1991                  0.0                                0.0  ...   \n14         2010                  0.0                                0.0  ...   \n17         1980                  0.0                                0.0  ...   \n...         ...                  ...                                ...  ...   \n3147       1925                  0.0                                0.0  ...   \n3150       1925                  0.0                                0.0  ...   \n3152       2001                  0.0                                0.0  ...   \n3153       1907                  0.0                                0.0  ...   \n3156       1938                  0.0                                0.0  ...   \n\n      LargestPropertyUseType_Restaurant  LargestPropertyUseType_Retail Store  \\\n0                                   0.0                                  0.0   \n7                                   0.0                                  0.0   \n12                                  0.0                                  0.0   \n14                                  0.0                                  0.0   \n17                                  0.0                                  0.0   \n...                                 ...                                  ...   \n3147                                0.0                                  0.0   \n3150                                0.0                                  0.0   \n3152                                0.0                                  0.0   \n3153                                0.0                                  0.0   \n3156                                0.0                                  0.0   \n\n      LargestPropertyUseType_Self-Storage Facility  \\\n0                                              0.0   \n7                                              0.0   \n12                                             0.0   \n14                                             0.0   \n17                                             0.0   \n...                                            ...   \n3147                                           0.0   \n3150                                           0.0   \n3152                                           0.0   \n3153                                           0.0   \n3156                                           0.0   \n\n      LargestPropertyUseType_Senior Care Community  \\\n0                                              0.0   \n7                                              0.0   \n12                                             0.0   \n14                                             0.0   \n17                                             0.0   \n...                                            ...   \n3147                                           0.0   \n3150                                           0.0   \n3152                                           0.0   \n3153                                           0.0   \n3156                                           0.0   \n\n      LargestPropertyUseType_Social/Meeting Hall  \\\n0                                            0.0   \n7                                            0.0   \n12                                           0.0   \n14                                           0.0   \n17                                           0.0   \n...                                          ...   \n3147                                         0.0   \n3150                                         0.0   \n3152                                         0.0   \n3153                                         0.0   \n3156                                         0.0   \n\n      LargestPropertyUseType_Strip Mall  \\\n0                                   0.0   \n7                                   0.0   \n12                                  0.0   \n14                                  0.0   \n17                                  0.0   \n...                                 ...   \n3147                                0.0   \n3150                                0.0   \n3152                                0.0   \n3153                                0.0   \n3156                                0.0   \n\n      LargestPropertyUseType_Supermarket/Grocery Store  \\\n0                                                  0.0   \n7                                                  0.0   \n12                                                 0.0   \n14                                                 0.0   \n17                                                 1.0   \n...                                                ...   \n3147                                               0.0   \n3150                                               0.0   \n3152                                               0.0   \n3153                                               0.0   \n3156                                               0.0   \n\n      LargestPropertyUseType_Urgent Care/Clinic/Other Outpatient  \\\n0                                                   0.0            \n7                                                   0.0            \n12                                                  0.0            \n14                                                  0.0            \n17                                                  0.0            \n...                                                 ...            \n3147                                                0.0            \n3150                                                0.0            \n3152                                                0.0            \n3153                                                0.0            \n3156                                                0.0            \n\n      LargestPropertyUseType_Wholesale Club/Supercenter  \\\n0                                                   0.0   \n7                                                   0.0   \n12                                                  0.0   \n14                                                  0.0   \n17                                                  0.0   \n...                                                 ...   \n3147                                                0.0   \n3150                                                0.0   \n3152                                                0.0   \n3153                                                0.0   \n3156                                                0.0   \n\n      LargestPropertyUseType_Worship Facility  \n0                                         0.0  \n7                                         0.0  \n12                                        0.0  \n14                                        0.0  \n17                                        0.0  \n...                                       ...  \n3147                                      0.0  \n3150                                      0.0  \n3152                                      0.0  \n3153                                      0.0  \n3156                                      0.0  \n\n[948 rows x 102 columns]",
      "text/html": "<div>\n<style scoped>\n    .dataframe tbody tr th:only-of-type {\n        vertical-align: middle;\n    }\n\n    .dataframe tbody tr th {\n        vertical-align: top;\n    }\n\n    .dataframe thead th {\n        text-align: right;\n    }\n</style>\n<table border=\"1\" class=\"dataframe\">\n  <thead>\n    <tr style=\"text-align: right;\">\n      <th></th>\n      <th>Log-NumberofFloors</th>\n      <th>Log-PropertyGFATotal</th>\n      <th>Log-PropertyGFABuilding(s)</th>\n      <th>Log-PropertyGFAParking</th>\n      <th>Log-LargestPropertyUseTypeGFA</th>\n      <th>Log-SecondLargestPropertyUseTypeGFA</th>\n      <th>Log-ThirdLargestPropertyUseTypeGFA</th>\n      <th>YearBuilt</th>\n      <th>BuildingType_Campus</th>\n      <th>BuildingType_Multifamily HR (10+)</th>\n      <th>...</th>\n      <th>LargestPropertyUseType_Restaurant</th>\n      <th>LargestPropertyUseType_Retail Store</th>\n      <th>LargestPropertyUseType_Self-Storage Facility</th>\n      <th>LargestPropertyUseType_Senior Care Community</th>\n      <th>LargestPropertyUseType_Social/Meeting Hall</th>\n      <th>LargestPropertyUseType_Strip Mall</th>\n      <th>LargestPropertyUseType_Supermarket/Grocery Store</th>\n      <th>LargestPropertyUseType_Urgent Care/Clinic/Other Outpatient</th>\n      <th>LargestPropertyUseType_Wholesale Club/Supercenter</th>\n      <th>LargestPropertyUseType_Worship Facility</th>\n    </tr>\n  </thead>\n  <tbody>\n    <tr>\n      <th>0</th>\n      <td>-0.287845</td>\n      <td>-1.140373</td>\n      <td>-1.125772</td>\n      <td>-0.431261</td>\n      <td>-1.154193</td>\n      <td>-0.957452</td>\n      <td>-0.457763</td>\n      <td>1978</td>\n      <td>0.0</td>\n      <td>0.0</td>\n      <td>...</td>\n      <td>0.0</td>\n      <td>0.0</td>\n      <td>0.0</td>\n      <td>0.0</td>\n      <td>0.0</td>\n      <td>0.0</td>\n      <td>0.0</td>\n      <td>0.0</td>\n      <td>0.0</td>\n      <td>0.0</td>\n    </tr>\n    <tr>\n      <th>7</th>\n      <td>-0.287845</td>\n      <td>0.875660</td>\n      <td>0.984690</td>\n      <td>-0.431261</td>\n      <td>0.854504</td>\n      <td>1.037213</td>\n      <td>-0.457763</td>\n      <td>1977</td>\n      <td>0.0</td>\n      <td>0.0</td>\n      <td>...</td>\n      <td>0.0</td>\n      <td>0.0</td>\n      <td>0.0</td>\n      <td>0.0</td>\n      <td>0.0</td>\n      <td>0.0</td>\n      <td>0.0</td>\n      <td>0.0</td>\n      <td>0.0</td>\n      <td>0.0</td>\n    </tr>\n    <tr>\n      <th>12</th>\n      <td>-0.779034</td>\n      <td>-0.180711</td>\n      <td>-0.828488</td>\n      <td>2.208418</td>\n      <td>-0.547035</td>\n      <td>0.841658</td>\n      <td>-0.457763</td>\n      <td>1991</td>\n      <td>0.0</td>\n      <td>0.0</td>\n      <td>...</td>\n      <td>0.0</td>\n      <td>0.0</td>\n      <td>0.0</td>\n      <td>0.0</td>\n      <td>0.0</td>\n      <td>0.0</td>\n      <td>0.0</td>\n      <td>0.0</td>\n      <td>0.0</td>\n      <td>0.0</td>\n    </tr>\n    <tr>\n      <th>14</th>\n      <td>0.093150</td>\n      <td>1.181887</td>\n      <td>1.305261</td>\n      <td>-0.431261</td>\n      <td>0.009116</td>\n      <td>1.102696</td>\n      <td>2.030004</td>\n      <td>2010</td>\n      <td>0.0</td>\n      <td>0.0</td>\n      <td>...</td>\n      <td>0.0</td>\n      <td>0.0</td>\n      <td>0.0</td>\n      <td>0.0</td>\n      <td>0.0</td>\n      <td>0.0</td>\n      <td>0.0</td>\n      <td>0.0</td>\n      <td>0.0</td>\n      <td>0.0</td>\n    </tr>\n    <tr>\n      <th>17</th>\n      <td>-1.471325</td>\n      <td>-0.694017</td>\n      <td>-0.658509</td>\n      <td>-0.431261</td>\n      <td>-0.594093</td>\n      <td>0.655805</td>\n      <td>-0.457763</td>\n      <td>1980</td>\n      <td>0.0</td>\n      <td>0.0</td>\n      <td>...</td>\n      <td>0.0</td>\n      <td>0.0</td>\n      <td>0.0</td>\n      <td>0.0</td>\n      <td>0.0</td>\n      <td>0.0</td>\n      <td>1.0</td>\n      <td>0.0</td>\n      <td>0.0</td>\n      <td>0.0</td>\n    </tr>\n    <tr>\n      <th>...</th>\n      <td>...</td>\n      <td>...</td>\n      <td>...</td>\n      <td>...</td>\n      <td>...</td>\n      <td>...</td>\n      <td>...</td>\n      <td>...</td>\n      <td>...</td>\n      <td>...</td>\n      <td>...</td>\n      <td>...</td>\n      <td>...</td>\n      <td>...</td>\n      <td>...</td>\n      <td>...</td>\n      <td>...</td>\n      <td>...</td>\n      <td>...</td>\n      <td>...</td>\n      <td>...</td>\n    </tr>\n    <tr>\n      <th>3147</th>\n      <td>0.093150</td>\n      <td>-0.395407</td>\n      <td>-0.345912</td>\n      <td>-0.431261</td>\n      <td>-0.203820</td>\n      <td>-0.957452</td>\n      <td>-0.457763</td>\n      <td>1925</td>\n      <td>0.0</td>\n      <td>0.0</td>\n      <td>...</td>\n      <td>0.0</td>\n      <td>0.0</td>\n      <td>0.0</td>\n      <td>0.0</td>\n      <td>0.0</td>\n      <td>0.0</td>\n      <td>0.0</td>\n      <td>0.0</td>\n      <td>0.0</td>\n      <td>0.0</td>\n    </tr>\n    <tr>\n      <th>3150</th>\n      <td>0.404446</td>\n      <td>-0.074642</td>\n      <td>-0.010123</td>\n      <td>-0.431261</td>\n      <td>-0.034118</td>\n      <td>-0.957452</td>\n      <td>-0.457763</td>\n      <td>1925</td>\n      <td>0.0</td>\n      <td>0.0</td>\n      <td>...</td>\n      <td>0.0</td>\n      <td>0.0</td>\n      <td>0.0</td>\n      <td>0.0</td>\n      <td>0.0</td>\n      <td>0.0</td>\n      <td>0.0</td>\n      <td>0.0</td>\n      <td>0.0</td>\n      <td>0.0</td>\n    </tr>\n    <tr>\n      <th>3152</th>\n      <td>-0.287845</td>\n      <td>-0.337396</td>\n      <td>-0.583784</td>\n      <td>1.985881</td>\n      <td>-1.400865</td>\n      <td>1.018743</td>\n      <td>2.290103</td>\n      <td>2001</td>\n      <td>0.0</td>\n      <td>0.0</td>\n      <td>...</td>\n      <td>0.0</td>\n      <td>0.0</td>\n      <td>0.0</td>\n      <td>0.0</td>\n      <td>0.0</td>\n      <td>0.0</td>\n      <td>0.0</td>\n      <td>0.0</td>\n      <td>0.0</td>\n      <td>0.0</td>\n    </tr>\n    <tr>\n      <th>3153</th>\n      <td>0.093150</td>\n      <td>-0.488322</td>\n      <td>-0.443179</td>\n      <td>-0.431261</td>\n      <td>-0.298669</td>\n      <td>-0.957452</td>\n      <td>-0.457763</td>\n      <td>1907</td>\n      <td>0.0</td>\n      <td>0.0</td>\n      <td>...</td>\n      <td>0.0</td>\n      <td>0.0</td>\n      <td>0.0</td>\n      <td>0.0</td>\n      <td>0.0</td>\n      <td>0.0</td>\n      <td>0.0</td>\n      <td>0.0</td>\n      <td>0.0</td>\n      <td>0.0</td>\n    </tr>\n    <tr>\n      <th>3156</th>\n      <td>-1.471325</td>\n      <td>-1.286208</td>\n      <td>-1.278438</td>\n      <td>-0.431261</td>\n      <td>-2.038345</td>\n      <td>0.901142</td>\n      <td>1.641392</td>\n      <td>1938</td>\n      <td>0.0</td>\n      <td>0.0</td>\n      <td>...</td>\n      <td>0.0</td>\n      <td>0.0</td>\n      <td>0.0</td>\n      <td>0.0</td>\n      <td>0.0</td>\n      <td>0.0</td>\n      <td>0.0</td>\n      <td>0.0</td>\n      <td>0.0</td>\n      <td>0.0</td>\n    </tr>\n  </tbody>\n</table>\n<p>948 rows × 102 columns</p>\n</div>"
     },
     "metadata": {},
     "output_type": "display_data"
    },
    {
     "name": "stdout",
     "output_type": "stream",
     "text": [
      "(2209,) (948,)\n"
     ]
    }
   ],
   "source": [
    "print(\"We can start now the modelling to predict the feature wanted.\")\n",
    "\n",
    "display(X_train_std_encoded)\n",
    "display(X_test_std_encoded)\n",
    "print(y_train.shape, y_test.shape)"
   ],
   "metadata": {
    "collapsed": false,
    "pycharm": {
     "name": "#%%\n"
    }
   }
  },
  {
   "cell_type": "code",
   "execution_count": 37,
   "outputs": [],
   "source": [
    "from sklearn.model_selection import GridSearchCV\n",
    "from sklearn.metrics import mean_squared_error"
   ],
   "metadata": {
    "collapsed": false,
    "pycharm": {
     "name": "#%%\n"
    }
   }
  },
  {
   "cell_type": "code",
   "execution_count": 38,
   "outputs": [
    {
     "name": "stdout",
     "output_type": "stream",
     "text": [
      "We rename X_train_std_encoded to X_train, the same for X_test.\n"
     ]
    },
    {
     "data": {
      "text/plain": "      Log-NumberofFloors  Log-PropertyGFATotal  Log-PropertyGFABuilding(s)  \\\n0              -0.287845             -1.140373                   -1.125772   \n7              -0.287845              0.875660                    0.984690   \n12             -0.779034             -0.180711                   -0.828488   \n14              0.093150              1.181887                    1.305261   \n17             -1.471325             -0.694017                   -0.658509   \n...                  ...                   ...                         ...   \n3147            0.093150             -0.395407                   -0.345912   \n3150            0.404446             -0.074642                   -0.010123   \n3152           -0.287845             -0.337396                   -0.583784   \n3153            0.093150             -0.488322                   -0.443179   \n3156           -1.471325             -1.286208                   -1.278438   \n\n      Log-PropertyGFAParking  Log-LargestPropertyUseTypeGFA  \\\n0                  -0.431261                      -1.154193   \n7                  -0.431261                       0.854504   \n12                  2.208418                      -0.547035   \n14                 -0.431261                       0.009116   \n17                 -0.431261                      -0.594093   \n...                      ...                            ...   \n3147               -0.431261                      -0.203820   \n3150               -0.431261                      -0.034118   \n3152                1.985881                      -1.400865   \n3153               -0.431261                      -0.298669   \n3156               -0.431261                      -2.038345   \n\n      Log-SecondLargestPropertyUseTypeGFA  Log-ThirdLargestPropertyUseTypeGFA  \\\n0                               -0.957452                           -0.457763   \n7                                1.037213                           -0.457763   \n12                               0.841658                           -0.457763   \n14                               1.102696                            2.030004   \n17                               0.655805                           -0.457763   \n...                                   ...                                 ...   \n3147                            -0.957452                           -0.457763   \n3150                            -0.957452                           -0.457763   \n3152                             1.018743                            2.290103   \n3153                            -0.957452                           -0.457763   \n3156                             0.901142                            1.641392   \n\n      YearBuilt  BuildingType_Campus  BuildingType_Multifamily HR (10+)  ...  \\\n0          1978                  0.0                                0.0  ...   \n7          1977                  0.0                                0.0  ...   \n12         1991                  0.0                                0.0  ...   \n14         2010                  0.0                                0.0  ...   \n17         1980                  0.0                                0.0  ...   \n...         ...                  ...                                ...  ...   \n3147       1925                  0.0                                0.0  ...   \n3150       1925                  0.0                                0.0  ...   \n3152       2001                  0.0                                0.0  ...   \n3153       1907                  0.0                                0.0  ...   \n3156       1938                  0.0                                0.0  ...   \n\n      LargestPropertyUseType_Restaurant  LargestPropertyUseType_Retail Store  \\\n0                                   0.0                                  0.0   \n7                                   0.0                                  0.0   \n12                                  0.0                                  0.0   \n14                                  0.0                                  0.0   \n17                                  0.0                                  0.0   \n...                                 ...                                  ...   \n3147                                0.0                                  0.0   \n3150                                0.0                                  0.0   \n3152                                0.0                                  0.0   \n3153                                0.0                                  0.0   \n3156                                0.0                                  0.0   \n\n      LargestPropertyUseType_Self-Storage Facility  \\\n0                                              0.0   \n7                                              0.0   \n12                                             0.0   \n14                                             0.0   \n17                                             0.0   \n...                                            ...   \n3147                                           0.0   \n3150                                           0.0   \n3152                                           0.0   \n3153                                           0.0   \n3156                                           0.0   \n\n      LargestPropertyUseType_Senior Care Community  \\\n0                                              0.0   \n7                                              0.0   \n12                                             0.0   \n14                                             0.0   \n17                                             0.0   \n...                                            ...   \n3147                                           0.0   \n3150                                           0.0   \n3152                                           0.0   \n3153                                           0.0   \n3156                                           0.0   \n\n      LargestPropertyUseType_Social/Meeting Hall  \\\n0                                            0.0   \n7                                            0.0   \n12                                           0.0   \n14                                           0.0   \n17                                           0.0   \n...                                          ...   \n3147                                         0.0   \n3150                                         0.0   \n3152                                         0.0   \n3153                                         0.0   \n3156                                         0.0   \n\n      LargestPropertyUseType_Strip Mall  \\\n0                                   0.0   \n7                                   0.0   \n12                                  0.0   \n14                                  0.0   \n17                                  0.0   \n...                                 ...   \n3147                                0.0   \n3150                                0.0   \n3152                                0.0   \n3153                                0.0   \n3156                                0.0   \n\n      LargestPropertyUseType_Supermarket/Grocery Store  \\\n0                                                  0.0   \n7                                                  0.0   \n12                                                 0.0   \n14                                                 0.0   \n17                                                 1.0   \n...                                                ...   \n3147                                               0.0   \n3150                                               0.0   \n3152                                               0.0   \n3153                                               0.0   \n3156                                               0.0   \n\n      LargestPropertyUseType_Urgent Care/Clinic/Other Outpatient  \\\n0                                                   0.0            \n7                                                   0.0            \n12                                                  0.0            \n14                                                  0.0            \n17                                                  0.0            \n...                                                 ...            \n3147                                                0.0            \n3150                                                0.0            \n3152                                                0.0            \n3153                                                0.0            \n3156                                                0.0            \n\n      LargestPropertyUseType_Wholesale Club/Supercenter  \\\n0                                                   0.0   \n7                                                   0.0   \n12                                                  0.0   \n14                                                  0.0   \n17                                                  0.0   \n...                                                 ...   \n3147                                                0.0   \n3150                                                0.0   \n3152                                                0.0   \n3153                                                0.0   \n3156                                                0.0   \n\n      LargestPropertyUseType_Worship Facility  \n0                                         0.0  \n7                                         0.0  \n12                                        0.0  \n14                                        0.0  \n17                                        0.0  \n...                                       ...  \n3147                                      0.0  \n3150                                      0.0  \n3152                                      0.0  \n3153                                      0.0  \n3156                                      0.0  \n\n[948 rows x 102 columns]",
      "text/html": "<div>\n<style scoped>\n    .dataframe tbody tr th:only-of-type {\n        vertical-align: middle;\n    }\n\n    .dataframe tbody tr th {\n        vertical-align: top;\n    }\n\n    .dataframe thead th {\n        text-align: right;\n    }\n</style>\n<table border=\"1\" class=\"dataframe\">\n  <thead>\n    <tr style=\"text-align: right;\">\n      <th></th>\n      <th>Log-NumberofFloors</th>\n      <th>Log-PropertyGFATotal</th>\n      <th>Log-PropertyGFABuilding(s)</th>\n      <th>Log-PropertyGFAParking</th>\n      <th>Log-LargestPropertyUseTypeGFA</th>\n      <th>Log-SecondLargestPropertyUseTypeGFA</th>\n      <th>Log-ThirdLargestPropertyUseTypeGFA</th>\n      <th>YearBuilt</th>\n      <th>BuildingType_Campus</th>\n      <th>BuildingType_Multifamily HR (10+)</th>\n      <th>...</th>\n      <th>LargestPropertyUseType_Restaurant</th>\n      <th>LargestPropertyUseType_Retail Store</th>\n      <th>LargestPropertyUseType_Self-Storage Facility</th>\n      <th>LargestPropertyUseType_Senior Care Community</th>\n      <th>LargestPropertyUseType_Social/Meeting Hall</th>\n      <th>LargestPropertyUseType_Strip Mall</th>\n      <th>LargestPropertyUseType_Supermarket/Grocery Store</th>\n      <th>LargestPropertyUseType_Urgent Care/Clinic/Other Outpatient</th>\n      <th>LargestPropertyUseType_Wholesale Club/Supercenter</th>\n      <th>LargestPropertyUseType_Worship Facility</th>\n    </tr>\n  </thead>\n  <tbody>\n    <tr>\n      <th>0</th>\n      <td>-0.287845</td>\n      <td>-1.140373</td>\n      <td>-1.125772</td>\n      <td>-0.431261</td>\n      <td>-1.154193</td>\n      <td>-0.957452</td>\n      <td>-0.457763</td>\n      <td>1978</td>\n      <td>0.0</td>\n      <td>0.0</td>\n      <td>...</td>\n      <td>0.0</td>\n      <td>0.0</td>\n      <td>0.0</td>\n      <td>0.0</td>\n      <td>0.0</td>\n      <td>0.0</td>\n      <td>0.0</td>\n      <td>0.0</td>\n      <td>0.0</td>\n      <td>0.0</td>\n    </tr>\n    <tr>\n      <th>7</th>\n      <td>-0.287845</td>\n      <td>0.875660</td>\n      <td>0.984690</td>\n      <td>-0.431261</td>\n      <td>0.854504</td>\n      <td>1.037213</td>\n      <td>-0.457763</td>\n      <td>1977</td>\n      <td>0.0</td>\n      <td>0.0</td>\n      <td>...</td>\n      <td>0.0</td>\n      <td>0.0</td>\n      <td>0.0</td>\n      <td>0.0</td>\n      <td>0.0</td>\n      <td>0.0</td>\n      <td>0.0</td>\n      <td>0.0</td>\n      <td>0.0</td>\n      <td>0.0</td>\n    </tr>\n    <tr>\n      <th>12</th>\n      <td>-0.779034</td>\n      <td>-0.180711</td>\n      <td>-0.828488</td>\n      <td>2.208418</td>\n      <td>-0.547035</td>\n      <td>0.841658</td>\n      <td>-0.457763</td>\n      <td>1991</td>\n      <td>0.0</td>\n      <td>0.0</td>\n      <td>...</td>\n      <td>0.0</td>\n      <td>0.0</td>\n      <td>0.0</td>\n      <td>0.0</td>\n      <td>0.0</td>\n      <td>0.0</td>\n      <td>0.0</td>\n      <td>0.0</td>\n      <td>0.0</td>\n      <td>0.0</td>\n    </tr>\n    <tr>\n      <th>14</th>\n      <td>0.093150</td>\n      <td>1.181887</td>\n      <td>1.305261</td>\n      <td>-0.431261</td>\n      <td>0.009116</td>\n      <td>1.102696</td>\n      <td>2.030004</td>\n      <td>2010</td>\n      <td>0.0</td>\n      <td>0.0</td>\n      <td>...</td>\n      <td>0.0</td>\n      <td>0.0</td>\n      <td>0.0</td>\n      <td>0.0</td>\n      <td>0.0</td>\n      <td>0.0</td>\n      <td>0.0</td>\n      <td>0.0</td>\n      <td>0.0</td>\n      <td>0.0</td>\n    </tr>\n    <tr>\n      <th>17</th>\n      <td>-1.471325</td>\n      <td>-0.694017</td>\n      <td>-0.658509</td>\n      <td>-0.431261</td>\n      <td>-0.594093</td>\n      <td>0.655805</td>\n      <td>-0.457763</td>\n      <td>1980</td>\n      <td>0.0</td>\n      <td>0.0</td>\n      <td>...</td>\n      <td>0.0</td>\n      <td>0.0</td>\n      <td>0.0</td>\n      <td>0.0</td>\n      <td>0.0</td>\n      <td>0.0</td>\n      <td>1.0</td>\n      <td>0.0</td>\n      <td>0.0</td>\n      <td>0.0</td>\n    </tr>\n    <tr>\n      <th>...</th>\n      <td>...</td>\n      <td>...</td>\n      <td>...</td>\n      <td>...</td>\n      <td>...</td>\n      <td>...</td>\n      <td>...</td>\n      <td>...</td>\n      <td>...</td>\n      <td>...</td>\n      <td>...</td>\n      <td>...</td>\n      <td>...</td>\n      <td>...</td>\n      <td>...</td>\n      <td>...</td>\n      <td>...</td>\n      <td>...</td>\n      <td>...</td>\n      <td>...</td>\n      <td>...</td>\n    </tr>\n    <tr>\n      <th>3147</th>\n      <td>0.093150</td>\n      <td>-0.395407</td>\n      <td>-0.345912</td>\n      <td>-0.431261</td>\n      <td>-0.203820</td>\n      <td>-0.957452</td>\n      <td>-0.457763</td>\n      <td>1925</td>\n      <td>0.0</td>\n      <td>0.0</td>\n      <td>...</td>\n      <td>0.0</td>\n      <td>0.0</td>\n      <td>0.0</td>\n      <td>0.0</td>\n      <td>0.0</td>\n      <td>0.0</td>\n      <td>0.0</td>\n      <td>0.0</td>\n      <td>0.0</td>\n      <td>0.0</td>\n    </tr>\n    <tr>\n      <th>3150</th>\n      <td>0.404446</td>\n      <td>-0.074642</td>\n      <td>-0.010123</td>\n      <td>-0.431261</td>\n      <td>-0.034118</td>\n      <td>-0.957452</td>\n      <td>-0.457763</td>\n      <td>1925</td>\n      <td>0.0</td>\n      <td>0.0</td>\n      <td>...</td>\n      <td>0.0</td>\n      <td>0.0</td>\n      <td>0.0</td>\n      <td>0.0</td>\n      <td>0.0</td>\n      <td>0.0</td>\n      <td>0.0</td>\n      <td>0.0</td>\n      <td>0.0</td>\n      <td>0.0</td>\n    </tr>\n    <tr>\n      <th>3152</th>\n      <td>-0.287845</td>\n      <td>-0.337396</td>\n      <td>-0.583784</td>\n      <td>1.985881</td>\n      <td>-1.400865</td>\n      <td>1.018743</td>\n      <td>2.290103</td>\n      <td>2001</td>\n      <td>0.0</td>\n      <td>0.0</td>\n      <td>...</td>\n      <td>0.0</td>\n      <td>0.0</td>\n      <td>0.0</td>\n      <td>0.0</td>\n      <td>0.0</td>\n      <td>0.0</td>\n      <td>0.0</td>\n      <td>0.0</td>\n      <td>0.0</td>\n      <td>0.0</td>\n    </tr>\n    <tr>\n      <th>3153</th>\n      <td>0.093150</td>\n      <td>-0.488322</td>\n      <td>-0.443179</td>\n      <td>-0.431261</td>\n      <td>-0.298669</td>\n      <td>-0.957452</td>\n      <td>-0.457763</td>\n      <td>1907</td>\n      <td>0.0</td>\n      <td>0.0</td>\n      <td>...</td>\n      <td>0.0</td>\n      <td>0.0</td>\n      <td>0.0</td>\n      <td>0.0</td>\n      <td>0.0</td>\n      <td>0.0</td>\n      <td>0.0</td>\n      <td>0.0</td>\n      <td>0.0</td>\n      <td>0.0</td>\n    </tr>\n    <tr>\n      <th>3156</th>\n      <td>-1.471325</td>\n      <td>-1.286208</td>\n      <td>-1.278438</td>\n      <td>-0.431261</td>\n      <td>-2.038345</td>\n      <td>0.901142</td>\n      <td>1.641392</td>\n      <td>1938</td>\n      <td>0.0</td>\n      <td>0.0</td>\n      <td>...</td>\n      <td>0.0</td>\n      <td>0.0</td>\n      <td>0.0</td>\n      <td>0.0</td>\n      <td>0.0</td>\n      <td>0.0</td>\n      <td>0.0</td>\n      <td>0.0</td>\n      <td>0.0</td>\n      <td>0.0</td>\n    </tr>\n  </tbody>\n</table>\n<p>948 rows × 102 columns</p>\n</div>"
     },
     "execution_count": 38,
     "metadata": {},
     "output_type": "execute_result"
    }
   ],
   "source": [
    "print(\"We rename X_train_std_encoded to X_train, the same for X_test.\")\n",
    "X_train = X_train_std_encoded.copy()\n",
    "X_test = X_test_std_encoded.copy()\n",
    "\n",
    "X_train\n",
    "X_test"
   ],
   "metadata": {
    "collapsed": false,
    "pycharm": {
     "name": "#%%\n"
    }
   }
  },
  {
   "cell_type": "markdown",
   "source": [
    "### 1) Linear modelling : Linear Regression / Ridge Regression / Lasso / Elastic Net\n"
   ],
   "metadata": {
    "collapsed": false,
    "pycharm": {
     "name": "#%% md\n"
    }
   }
  },
  {
   "cell_type": "code",
   "execution_count": 39,
   "outputs": [
    {
     "data": {
      "text/plain": "(2209, 102)"
     },
     "execution_count": 39,
     "metadata": {},
     "output_type": "execute_result"
    }
   ],
   "source": [
    "X_train.shape"
   ],
   "metadata": {
    "collapsed": false,
    "pycharm": {
     "name": "#%%\n"
    }
   }
  },
  {
   "cell_type": "code",
   "execution_count": 40,
   "outputs": [
    {
     "data": {
      "text/plain": "(948, 102)"
     },
     "execution_count": 40,
     "metadata": {},
     "output_type": "execute_result"
    }
   ],
   "source": [
    "X_test.shape"
   ],
   "metadata": {
    "collapsed": false,
    "pycharm": {
     "name": "#%%\n"
    }
   }
  },
  {
   "cell_type": "markdown",
   "source": [
    "#### 1) Dummy Regression : baseline"
   ],
   "metadata": {
    "collapsed": false,
    "pycharm": {
     "name": "#%% md\n"
    }
   }
  },
  {
   "cell_type": "code",
   "execution_count": 41,
   "outputs": [],
   "source": [
    "from sklearn.metrics import mean_absolute_error, r2_score, mean_squared_error, median_absolute_error\n",
    "\n",
    "pd.set_option('display.float_format', lambda x: '%.5f' % x)\n",
    "\n",
    "global results\n",
    "results = pd.DataFrame({})\n",
    "\n",
    "def evaluate_regression(model_name, results, y_test, y_pred):\n",
    "    print(\"Prediction for : \", variable_to_predict)\n",
    "    mse = mean_squared_error(y_test, y_pred)\n",
    "    rmse = np.sqrt(mean_squared_error(y_test, y_pred))\n",
    "    mae = mean_absolute_error(y_test,y_pred)\n",
    "    median_ae = median_absolute_error(y_test, y_pred)\n",
    "    r2 = r2_score(y_test, y_pred)\n",
    "\n",
    "    #print(\"RMSE : {:.2f}\".format(rmse))\n",
    "    #print(\"MAE : {:.2f}\".format(mae))\n",
    "    #print(\"MSE : {:.2f}\".format(mse))\n",
    "    #print(\"R² : {:.2f}\".format(r2))\n",
    "    results = pd.concat([results, pd.DataFrame({\"Model\" : [model_name],\n",
    "                               \"RMSE\" : [rmse],\n",
    "                                \"MSE\": [mse],\n",
    "                                \"MAE\" : [mae],\n",
    "                                \"Median Absolute Error\": [median_ae],\n",
    "                               \"R² = 1 - RSE\" : [r2]})])\n",
    "    display(results)\n",
    "\n",
    "    # 2) graph\n",
    "    plt.title(\"Scatter plot of the predicted values as a function of the true values.\")\n",
    "    plt.legend(\"If the prediction was good, we would see a line.\")\n",
    "    plt.figure(0)\n",
    "    plt.scatter(y_test, y_pred, color='coral')\n",
    "\n",
    "    plt.title(\"Distribution of the prediction errors\")\n",
    "    err_hist = np.abs(y_test - y_pred)\n",
    "    plt.figure(1)\n",
    "    plt.hist(err_hist, bins=50, color='steelblue')\n",
    "\n",
    "    return  results\n"
   ],
   "metadata": {
    "collapsed": false,
    "pycharm": {
     "name": "#%%\n"
    }
   }
  },
  {
   "cell_type": "code",
   "execution_count": 42,
   "outputs": [],
   "source": [
    "def display_prediction(y_test, y_pred):\n",
    "    #plt.scatter(y_test, y_pred, color='coral')\n",
    "\n",
    "    sizes = {} # clé : coordonnées ; valeur : nombre de points à ces coordonnées\n",
    "    for (yt, yp) in zip(list(y_test), list(y_pred)):\n",
    "        if (yt, yp) in sizes:\n",
    "            sizes[(yt, yp)] += 1\n",
    "        else:\n",
    "            sizes[(yt, yp)] = 1\n",
    "\n",
    "    keys = sizes.keys()\n",
    "    plt.scatter(\n",
    "        [k[0] for k in keys], # vraie valeur (abscisse)\n",
    "        [k[1] for k in keys], # valeur predite (ordonnee)\n",
    "        s=[sizes[k] for k in keys], # taille du marqueur\n",
    "        color='coral', alpha =0.8)\n"
   ],
   "metadata": {
    "collapsed": false,
    "pycharm": {
     "name": "#%%\n"
    }
   }
  },
  {
   "cell_type": "code",
   "execution_count": 43,
   "outputs": [
    {
     "name": "stdout",
     "output_type": "stream",
     "text": [
      "Prediction for :  Log-SiteEnergyUse(kBtu)\n"
     ]
    },
    {
     "data": {
      "text/plain": "             Model    RMSE     MSE     MAE  Median Absolute Error  \\\n0  Dummy Regressor 1.11603 1.24552 0.88553                0.78896   \n\n   R² = 1 - RSE  \n0      -0.00250  ",
      "text/html": "<div>\n<style scoped>\n    .dataframe tbody tr th:only-of-type {\n        vertical-align: middle;\n    }\n\n    .dataframe tbody tr th {\n        vertical-align: top;\n    }\n\n    .dataframe thead th {\n        text-align: right;\n    }\n</style>\n<table border=\"1\" class=\"dataframe\">\n  <thead>\n    <tr style=\"text-align: right;\">\n      <th></th>\n      <th>Model</th>\n      <th>RMSE</th>\n      <th>MSE</th>\n      <th>MAE</th>\n      <th>Median Absolute Error</th>\n      <th>R² = 1 - RSE</th>\n    </tr>\n  </thead>\n  <tbody>\n    <tr>\n      <th>0</th>\n      <td>Dummy Regressor</td>\n      <td>1.11603</td>\n      <td>1.24552</td>\n      <td>0.88553</td>\n      <td>0.78896</td>\n      <td>-0.00250</td>\n    </tr>\n  </tbody>\n</table>\n</div>"
     },
     "metadata": {},
     "output_type": "display_data"
    },
    {
     "data": {
      "text/plain": "<Figure size 432x288 with 1 Axes>",
      "image/png": "[encoded data removed]"
     },
     "metadata": {
      "needs_background": "light"
     },
     "output_type": "display_data"
    },
    {
     "data": {
      "text/plain": "<Figure size 432x288 with 1 Axes>",
      "image/png": "[encoded data removed]"
     },
     "metadata": {
      "needs_background": "light"
     },
     "output_type": "display_data"
    }
   ],
   "source": [
    "from sklearn import dummy\n",
    "\n",
    "# 0) We create a dummy regressor model that always predicts the mean value of the feature to predict\n",
    "dum = dummy.DummyRegressor(strategy='mean')\n",
    "\n",
    "# 1) Training Dummy Regression\n",
    "dum.fit(X_train, y_train)\n",
    "\n",
    "# 2) Prediction on the testing set\n",
    "y_pred_dum = dum.predict(X_test)\n",
    "\n",
    "# 3) Evaluate\n",
    "results = evaluate_regression(\"Dummy Regressor\", results, y_test, y_pred_dum)"
   ],
   "metadata": {
    "collapsed": false,
    "pycharm": {
     "name": "#%%\n"
    }
   }
  },
  {
   "cell_type": "markdown",
   "source": [
    "#### 2) baseline : Linear Regression"
   ],
   "metadata": {
    "collapsed": false,
    "pycharm": {
     "name": "#%% md\n"
    }
   }
  },
  {
   "cell_type": "code",
   "execution_count": 44,
   "outputs": [
    {
     "name": "stdout",
     "output_type": "stream",
     "text": [
      "R2 : -0.04809488433619258\n",
      "Prediction for :  Log-SiteEnergyUse(kBtu)\n"
     ]
    },
    {
     "data": {
      "text/plain": "               Model    RMSE     MSE     MAE  Median Absolute Error  \\\n0    Dummy Regressor 1.11603 1.24552 0.88553                0.78896   \n0  Linear Regression 1.14112 1.30216 0.90765                0.79077   \n\n   R² = 1 - RSE  \n0      -0.00250  \n0      -0.04809  ",
      "text/html": "<div>\n<style scoped>\n    .dataframe tbody tr th:only-of-type {\n        vertical-align: middle;\n    }\n\n    .dataframe tbody tr th {\n        vertical-align: top;\n    }\n\n    .dataframe thead th {\n        text-align: right;\n    }\n</style>\n<table border=\"1\" class=\"dataframe\">\n  <thead>\n    <tr style=\"text-align: right;\">\n      <th></th>\n      <th>Model</th>\n      <th>RMSE</th>\n      <th>MSE</th>\n      <th>MAE</th>\n      <th>Median Absolute Error</th>\n      <th>R² = 1 - RSE</th>\n    </tr>\n  </thead>\n  <tbody>\n    <tr>\n      <th>0</th>\n      <td>Dummy Regressor</td>\n      <td>1.11603</td>\n      <td>1.24552</td>\n      <td>0.88553</td>\n      <td>0.78896</td>\n      <td>-0.00250</td>\n    </tr>\n    <tr>\n      <th>0</th>\n      <td>Linear Regression</td>\n      <td>1.14112</td>\n      <td>1.30216</td>\n      <td>0.90765</td>\n      <td>0.79077</td>\n      <td>-0.04809</td>\n    </tr>\n  </tbody>\n</table>\n</div>"
     },
     "metadata": {},
     "output_type": "display_data"
    },
    {
     "data": {
      "text/plain": "<Figure size 432x288 with 1 Axes>",
      "image/png": "[encoded data removed]"
     },
     "metadata": {
      "needs_background": "light"
     },
     "output_type": "display_data"
    },
    {
     "data": {
      "text/plain": "<Figure size 432x288 with 1 Axes>",
      "image/png": "[encoded data removed]"
     },
     "metadata": {
      "needs_background": "light"
     },
     "output_type": "display_data"
    }
   ],
   "source": [
    "from sklearn import linear_model\n",
    "\n",
    "# 0) We create a linear regression model\n",
    "lr = linear_model.LinearRegression()\n",
    "\n",
    "# 1) Training Linear Regression and Evaluating\n",
    "reg = lr.fit(X_train, y_train)\n",
    "y_pred_lr = reg.predict(X_test)\n",
    "\n",
    "prediction_score = lr.score(X_test, y_test)\n",
    "print('R2 : {}'.format(prediction_score))\n",
    "\n",
    "results = evaluate_regression(\"Linear Regression\", results, y_test, y_pred_lr)"
   ],
   "metadata": {
    "collapsed": false,
    "pycharm": {
     "name": "#%%\n"
    }
   }
  },
  {
   "cell_type": "code",
   "execution_count": 45,
   "outputs": [
    {
     "name": "stdout",
     "output_type": "stream",
     "text": [
      "Baseline error = MSE from Dummy Regressor : 1.2455165739508098\n"
     ]
    }
   ],
   "source": [
    "baseline_error = mean_squared_error(y_test, y_pred_dum)\n",
    "print(\"Baseline error = MSE from Dummy Regressor :\", baseline_error)"
   ],
   "metadata": {
    "collapsed": false,
    "pycharm": {
     "name": "#%%\n"
    }
   }
  },
  {
   "cell_type": "markdown",
   "source": [
    "#### 2) Linear Model : Ridge"
   ],
   "metadata": {
    "collapsed": false,
    "pycharm": {
     "name": "#%% md\n"
    }
   }
  },
  {
   "cell_type": "code",
   "execution_count": 46,
   "outputs": [],
   "source": [
    "# Setting evaluation metric for regression\n",
    "scoring = 'neg_mean_squared_error'"
   ],
   "metadata": {
    "collapsed": false,
    "pycharm": {
     "name": "#%%\n"
    }
   }
  },
  {
   "cell_type": "markdown",
   "source": [
    "##### 2.1) Trying Ridge Regression / Manual optimisation hyperparameter"
   ],
   "metadata": {
    "collapsed": false,
    "pycharm": {
     "name": "#%% md\n"
    }
   }
  },
  {
   "cell_type": "markdown",
   "source": [
    "##### 1. Searching for the best hyperparameter alpha"
   ],
   "metadata": {
    "collapsed": false,
    "pycharm": {
     "name": "#%% md\n"
    }
   }
  },
  {
   "cell_type": "code",
   "execution_count": 47,
   "outputs": [],
   "source": [
    "a, b = -5, 5\n",
    "n_alphas = 1000 # hyperparametre alpha\n",
    "alphas = np.logspace(a, b, n_alphas)\n",
    "\n",
    "ridge = linear_model.Ridge()\n",
    "\n",
    "coefs = []\n",
    "errors = []\n",
    "for a in alphas:\n",
    "    ridge.set_params(alpha=a)\n",
    "    ridge.fit(X_train, y_train)\n",
    "    y_pred_ridge = ridge.predict(X_test)\n",
    "    coefs.append(ridge.coef_)\n",
    "    errors.append(np.mean((y_pred_ridge - y_test) ** 2))\n",
    "    #print(\"HERE :\", np.mean(( - y_test) ** 2), \"MSE :\", mean_squared_error(y_test, ridge.predict(X_test)))"
   ],
   "metadata": {
    "collapsed": false,
    "pycharm": {
     "name": "#%%\n"
    }
   }
  },
  {
   "cell_type": "markdown",
   "source": [
    "##### 2. Visualizing optimisation of alpha"
   ],
   "metadata": {
    "collapsed": false,
    "pycharm": {
     "name": "#%% md\n"
    }
   }
  },
  {
   "cell_type": "code",
   "execution_count": 48,
   "outputs": [
    {
     "name": "stdout",
     "output_type": "stream",
     "text": [
      "Minimum Mean Squared Error for Ridge Regression : 1.2473909540622137\n",
      "Best alpha for that minimal MSE :  100000.0\n"
     ]
    },
    {
     "data": {
      "text/plain": "(3.162277660168379e-06,\n 316227.7660168379,\n 1.2426842482435916,\n 1.3049954138023911)"
     },
     "execution_count": 48,
     "metadata": {},
     "output_type": "execute_result"
    },
    {
     "data": {
      "text/plain": "<Figure size 432x288 with 1 Axes>",
      "image/png": "[encoded data removed]"
     },
     "metadata": {
      "needs_background": "light"
     },
     "output_type": "display_data"
    }
   ],
   "source": [
    "# recupere l'erreur min\n",
    "print(\"Minimum Mean Squared Error for Ridge Regression :\", errors[np.argmin(errors)])\n",
    "print(\"Best alpha for that minimal MSE : \", alphas[np.argmin(errors)])\n",
    "\n",
    "#Observation of the error behaviour\n",
    "ax = plt.gca()\n",
    "ax.plot(alphas, errors, [baseline_error, baseline_error])\n",
    "ax.set_xscale('log')\n",
    "\n",
    "plt.xlabel('alpha : hyperparameter')\n",
    "plt.ylabel('error : MSE')\n",
    "plt.axis('tight')"
   ],
   "metadata": {
    "collapsed": false,
    "pycharm": {
     "name": "#%%\n"
    }
   }
  },
  {
   "cell_type": "code",
   "execution_count": 49,
   "outputs": [
    {
     "data": {
      "text/plain": "(3.162277660168379e-06,\n 316227.7660168379,\n -3.130394080125405,\n 3.6274324585043467)"
     },
     "execution_count": 49,
     "metadata": {},
     "output_type": "execute_result"
    },
    {
     "data": {
      "text/plain": "<Figure size 432x288 with 1 Axes>",
      "image/png": "[encoded data removed]"
     },
     "metadata": {
      "needs_background": "light"
     },
     "output_type": "display_data"
    }
   ],
   "source": [
    "# chemin de régularisation\n",
    "ax = plt.gca()\n",
    "\n",
    "# line with alpha associated to the min error\n",
    "min_alpha = alphas[np.argmin(errors)]\n",
    "plt.axvline(x=min_alpha, color='b', label='axvline - full height')\n",
    "\n",
    "ax.plot(alphas, coefs)\n",
    "ax.set_xscale('log')\n",
    "plt.xlabel('alpha')\n",
    "plt.ylabel('weights')\n",
    "plt.title('Ridge coefficients as a function of the regularization')\n",
    "plt.axis('tight')"
   ],
   "metadata": {
    "collapsed": false,
    "pycharm": {
     "name": "#%%\n"
    }
   }
  },
  {
   "cell_type": "markdown",
   "source": [
    "##### 3. Using best value of the hyperparameter alpha"
   ],
   "metadata": {
    "collapsed": false,
    "pycharm": {
     "name": "#%% md\n"
    }
   }
  },
  {
   "cell_type": "code",
   "execution_count": 50,
   "outputs": [
    {
     "name": "stdout",
     "output_type": "stream",
     "text": [
      "Getting y_pred for the best alpha :  100000.0\n",
      "Prediction for :  Log-SiteEnergyUse(kBtu)\n"
     ]
    },
    {
     "data": {
      "text/plain": "               Model    RMSE     MSE     MAE  Median Absolute Error  \\\n0    Dummy Regressor 1.11603 1.24552 0.88553                0.78896   \n0  Linear Regression 1.14112 1.30216 0.90765                0.79077   \n0     Ridge manually 1.11687 1.24739 0.88610                0.78998   \n\n   R² = 1 - RSE  \n0      -0.00250  \n0      -0.04809  \n0      -0.00401  ",
      "text/html": "<div>\n<style scoped>\n    .dataframe tbody tr th:only-of-type {\n        vertical-align: middle;\n    }\n\n    .dataframe tbody tr th {\n        vertical-align: top;\n    }\n\n    .dataframe thead th {\n        text-align: right;\n    }\n</style>\n<table border=\"1\" class=\"dataframe\">\n  <thead>\n    <tr style=\"text-align: right;\">\n      <th></th>\n      <th>Model</th>\n      <th>RMSE</th>\n      <th>MSE</th>\n      <th>MAE</th>\n      <th>Median Absolute Error</th>\n      <th>R² = 1 - RSE</th>\n    </tr>\n  </thead>\n  <tbody>\n    <tr>\n      <th>0</th>\n      <td>Dummy Regressor</td>\n      <td>1.11603</td>\n      <td>1.24552</td>\n      <td>0.88553</td>\n      <td>0.78896</td>\n      <td>-0.00250</td>\n    </tr>\n    <tr>\n      <th>0</th>\n      <td>Linear Regression</td>\n      <td>1.14112</td>\n      <td>1.30216</td>\n      <td>0.90765</td>\n      <td>0.79077</td>\n      <td>-0.04809</td>\n    </tr>\n    <tr>\n      <th>0</th>\n      <td>Ridge manually</td>\n      <td>1.11687</td>\n      <td>1.24739</td>\n      <td>0.88610</td>\n      <td>0.78998</td>\n      <td>-0.00401</td>\n    </tr>\n  </tbody>\n</table>\n</div>"
     },
     "metadata": {},
     "output_type": "display_data"
    },
    {
     "data": {
      "text/plain": "<Figure size 432x288 with 1 Axes>",
      "image/png": "[encoded data removed]"
     },
     "metadata": {
      "needs_background": "light"
     },
     "output_type": "display_data"
    },
    {
     "data": {
      "text/plain": "<Figure size 432x288 with 1 Axes>",
      "image/png": "[encoded data removed]"
     },
     "metadata": {
      "needs_background": "light"
     },
     "output_type": "display_data"
    }
   ],
   "source": [
    "print(\"Getting y_pred for the best alpha : \", min_alpha)\n",
    "ridge.set_params(alpha=min_alpha)\n",
    "ridge.fit(X_train, y_train)\n",
    "y_pred_ridge = ridge.predict(X_test)\n",
    "\n",
    "# 3) Evaluate\n",
    "results = evaluate_regression(\"Ridge manually\", results, y_test, y_pred_ridge)"
   ],
   "metadata": {
    "collapsed": false,
    "pycharm": {
     "name": "#%%\n"
    }
   }
  },
  {
   "cell_type": "markdown",
   "source": [
    "##### 2.2) Optimization of hyperparameters"
   ],
   "metadata": {
    "collapsed": false,
    "pycharm": {
     "name": "#%% md\n"
    }
   }
  },
  {
   "cell_type": "raw",
   "source": [
    "param_grid_ridge[0].keys()"
   ],
   "metadata": {
    "collapsed": false,
    "pycharm": {
     "name": "#%% raw\n"
    }
   }
  },
  {
   "cell_type": "code",
   "execution_count": 51,
   "outputs": [
    {
     "name": "stdout",
     "output_type": "stream",
     "text": [
      "Fitting 5 folds for each of 1000 candidates, totalling 5000 fits\n"
     ]
    },
    {
     "data": {
      "text/plain": "GridSearchCV(cv=5, estimator=Ridge(), n_jobs=-1,\n             param_grid={'alpha': array([            inf,             inf,             inf,             inf,\n                   inf,             inf,             inf,             inf,\n                   inf,             inf,             inf,             inf,\n                   inf,             inf,             inf,             inf,\n                   inf,             inf,             inf,             inf,\n                   inf,             inf,             inf,             inf,\n                   inf,             inf,             inf,             inf,\n                   inf,             inf,             inf,             inf,\n                   inf,             inf,             inf,             inf,\n                   inf,             inf,             inf,             inf,\n                   inf,             inf,             inf,             inf,\n                   inf,             inf,             inf,             inf,\n                   inf,             inf,             inf,             inf,\n                   inf,             inf,             inf,             inf,\n                   inf,             inf,             inf,             inf,\n                   inf,             inf,             inf,             inf,\n                   inf,             inf,             inf,             inf,\n                   inf,             i...\n                   inf,             inf,             inf,             inf,\n                   inf,             inf,             inf,             inf,\n                   inf,             inf,             inf,             inf,\n                   inf,             inf,             inf,             inf,\n                   inf,             inf,             inf,             inf,\n                   inf,             inf,             inf,             inf,\n                   inf,             inf,             inf,             inf,\n                   inf,             inf,             inf,             inf,\n                   inf,             inf,             inf,             inf,\n                   inf,             inf,             inf,             inf,\n                   inf,             inf,             inf,             inf,\n                   inf,             inf,             inf,             inf,\n                   inf,             inf,             inf,             inf,\n                   inf,             inf,             inf,             inf,\n       1.92879151e+305, 1.54949504e+205, 1.24478715e+105, 1.00000000e+005])},\n             return_train_score=True, scoring='neg_mean_squared_error',\n             verbose=1)",
      "text/html": "<style>#sk-container-id-1 {color: black;background-color: white;}#sk-container-id-1 pre{padding: 0;}#sk-container-id-1 div.sk-toggleable {background-color: white;}#sk-container-id-1 label.sk-toggleable__label {cursor: pointer;display: block;width: 100%;margin-bottom: 0;padding: 0.3em;box-sizing: border-box;text-align: center;}#sk-container-id-1 label.sk-toggleable__label-arrow:before {content: \"▸\";float: left;margin-right: 0.25em;color: #696969;}#sk-container-id-1 label.sk-toggleable__label-arrow:hover:before {color: black;}#sk-container-id-1 div.sk-estimator:hover label.sk-toggleable__label-arrow:before {color: black;}#sk-container-id-1 div.sk-toggleable__content {max-height: 0;max-width: 0;overflow: hidden;text-align: left;background-color: #f0f8ff;}#sk-container-id-1 div.sk-toggleable__content pre {margin: 0.2em;color: black;border-radius: 0.25em;background-color: #f0f8ff;}#sk-container-id-1 input.sk-toggleable__control:checked~div.sk-toggleable__content {max-height: 200px;max-width: 100%;overflow: auto;}#sk-container-id-1 input.sk-toggleable__control:checked~label.sk-toggleable__label-arrow:before {content: \"▾\";}#sk-container-id-1 div.sk-estimator input.sk-toggleable__control:checked~label.sk-toggleable__label {background-color: #d4ebff;}#sk-container-id-1 div.sk-label input.sk-toggleable__control:checked~label.sk-toggleable__label {background-color: #d4ebff;}#sk-container-id-1 input.sk-hidden--visually {border: 0;clip: rect(1px 1px 1px 1px);clip: rect(1px, 1px, 1px, 1px);height: 1px;margin: -1px;overflow: hidden;padding: 0;position: absolute;width: 1px;}#sk-container-id-1 div.sk-estimator {font-family: monospace;background-color: #f0f8ff;border: 1px dotted black;border-radius: 0.25em;box-sizing: border-box;margin-bottom: 0.5em;}#sk-container-id-1 div.sk-estimator:hover {background-color: #d4ebff;}#sk-container-id-1 div.sk-parallel-item::after {content: \"\";width: 100%;border-bottom: 1px solid gray;flex-grow: 1;}#sk-container-id-1 div.sk-label:hover label.sk-toggleable__label {background-color: #d4ebff;}#sk-container-id-1 div.sk-serial::before {content: \"\";position: absolute;border-left: 1px solid gray;box-sizing: border-box;top: 0;bottom: 0;left: 50%;z-index: 0;}#sk-container-id-1 div.sk-serial {display: flex;flex-direction: column;align-items: center;background-color: white;padding-right: 0.2em;padding-left: 0.2em;position: relative;}#sk-container-id-1 div.sk-item {position: relative;z-index: 1;}#sk-container-id-1 div.sk-parallel {display: flex;align-items: stretch;justify-content: center;background-color: white;position: relative;}#sk-container-id-1 div.sk-item::before, #sk-container-id-1 div.sk-parallel-item::before {content: \"\";position: absolute;border-left: 1px solid gray;box-sizing: border-box;top: 0;bottom: 0;left: 50%;z-index: -1;}#sk-container-id-1 div.sk-parallel-item {display: flex;flex-direction: column;z-index: 1;position: relative;background-color: white;}#sk-container-id-1 div.sk-parallel-item:first-child::after {align-self: flex-end;width: 50%;}#sk-container-id-1 div.sk-parallel-item:last-child::after {align-self: flex-start;width: 50%;}#sk-container-id-1 div.sk-parallel-item:only-child::after {width: 0;}#sk-container-id-1 div.sk-dashed-wrapped {border: 1px dashed gray;margin: 0 0.4em 0.5em 0.4em;box-sizing: border-box;padding-bottom: 0.4em;background-color: white;}#sk-container-id-1 div.sk-label label {font-family: monospace;font-weight: bold;display: inline-block;line-height: 1.2em;}#sk-container-id-1 div.sk-label-container {text-align: center;}#sk-container-id-1 div.sk-container {/* jupyter's `normalize.less` sets `[hidden] { display: none; }` but bootstrap.min.css set `[hidden] { display: none !important; }` so we also need the `!important` here to be able to override the default hidden behavior on the sphinx rendered scikit-learn.org. See: https://github.com/scikit-learn/scikit-learn/issues/21755 */display: inline-block !important;position: relative;}#sk-container-id-1 div.sk-text-repr-fallback {display: none;}</style><div id=\"sk-container-id-1\" class=\"sk-top-container\"><div class=\"sk-text-repr-fallback\"><pre>GridSearchCV(cv=5, estimator=Ridge(), n_jobs=-1,\n             param_grid={&#x27;alpha&#x27;: array([            inf,             inf,             inf,             inf,\n                   inf,             inf,             inf,             inf,\n                   inf,             inf,             inf,             inf,\n                   inf,             inf,             inf,             inf,\n                   inf,             inf,             inf,             inf,\n                   inf,             inf,             inf,             inf,\n                   inf,             inf,             inf,             inf,\n                   inf,             inf,             inf,             inf,\n                   inf,             inf,             inf,             inf,\n                   inf,             inf,             inf,             inf,\n                   inf,             inf,             inf,             inf,\n                   inf,             inf,             inf,             inf,\n                   inf,             inf,             inf,             inf,\n                   inf,             inf,             inf,             inf,\n                   inf,             inf,             inf,             inf,\n                   inf,             inf,             inf,             inf,\n                   inf,             inf,             inf,             inf,\n                   inf,             i...\n                   inf,             inf,             inf,             inf,\n                   inf,             inf,             inf,             inf,\n                   inf,             inf,             inf,             inf,\n                   inf,             inf,             inf,             inf,\n                   inf,             inf,             inf,             inf,\n                   inf,             inf,             inf,             inf,\n                   inf,             inf,             inf,             inf,\n                   inf,             inf,             inf,             inf,\n                   inf,             inf,             inf,             inf,\n                   inf,             inf,             inf,             inf,\n                   inf,             inf,             inf,             inf,\n                   inf,             inf,             inf,             inf,\n                   inf,             inf,             inf,             inf,\n                   inf,             inf,             inf,             inf,\n       1.92879151e+305, 1.54949504e+205, 1.24478715e+105, 1.00000000e+005])},\n             return_train_score=True, scoring=&#x27;neg_mean_squared_error&#x27;,\n             verbose=1)</pre><b>In a Jupyter environment, please rerun this cell to show the HTML representation or trust the notebook. <br />On GitHub, the HTML representation is unable to render, please try loading this page with nbviewer.org.</b></div><div class=\"sk-container\" hidden><div class=\"sk-item sk-dashed-wrapped\"><div class=\"sk-label-container\"><div class=\"sk-label sk-toggleable\"><input class=\"sk-toggleable__control sk-hidden--visually\" id=\"sk-estimator-id-1\" type=\"checkbox\" ><label for=\"sk-estimator-id-1\" class=\"sk-toggleable__label sk-toggleable__label-arrow\">GridSearchCV</label><div class=\"sk-toggleable__content\"><pre>GridSearchCV(cv=5, estimator=Ridge(), n_jobs=-1,\n             param_grid={&#x27;alpha&#x27;: array([            inf,             inf,             inf,             inf,\n                   inf,             inf,             inf,             inf,\n                   inf,             inf,             inf,             inf,\n                   inf,             inf,             inf,             inf,\n                   inf,             inf,             inf,             inf,\n                   inf,             inf,             inf,             inf,\n                   inf,             inf,             inf,             inf,\n                   inf,             inf,             inf,             inf,\n                   inf,             inf,             inf,             inf,\n                   inf,             inf,             inf,             inf,\n                   inf,             inf,             inf,             inf,\n                   inf,             inf,             inf,             inf,\n                   inf,             inf,             inf,             inf,\n                   inf,             inf,             inf,             inf,\n                   inf,             inf,             inf,             inf,\n                   inf,             inf,             inf,             inf,\n                   inf,             inf,             inf,             inf,\n                   inf,             i...\n                   inf,             inf,             inf,             inf,\n                   inf,             inf,             inf,             inf,\n                   inf,             inf,             inf,             inf,\n                   inf,             inf,             inf,             inf,\n                   inf,             inf,             inf,             inf,\n                   inf,             inf,             inf,             inf,\n                   inf,             inf,             inf,             inf,\n                   inf,             inf,             inf,             inf,\n                   inf,             inf,             inf,             inf,\n                   inf,             inf,             inf,             inf,\n                   inf,             inf,             inf,             inf,\n                   inf,             inf,             inf,             inf,\n                   inf,             inf,             inf,             inf,\n                   inf,             inf,             inf,             inf,\n       1.92879151e+305, 1.54949504e+205, 1.24478715e+105, 1.00000000e+005])},\n             return_train_score=True, scoring=&#x27;neg_mean_squared_error&#x27;,\n             verbose=1)</pre></div></div></div><div class=\"sk-parallel\"><div class=\"sk-parallel-item\"><div class=\"sk-item\"><div class=\"sk-label-container\"><div class=\"sk-label sk-toggleable\"><input class=\"sk-toggleable__control sk-hidden--visually\" id=\"sk-estimator-id-2\" type=\"checkbox\" ><label for=\"sk-estimator-id-2\" class=\"sk-toggleable__label sk-toggleable__label-arrow\">estimator: Ridge</label><div class=\"sk-toggleable__content\"><pre>Ridge()</pre></div></div></div><div class=\"sk-serial\"><div class=\"sk-item\"><div class=\"sk-estimator sk-toggleable\"><input class=\"sk-toggleable__control sk-hidden--visually\" id=\"sk-estimator-id-3\" type=\"checkbox\" ><label for=\"sk-estimator-id-3\" class=\"sk-toggleable__label sk-toggleable__label-arrow\">Ridge</label><div class=\"sk-toggleable__content\"><pre>Ridge()</pre></div></div></div></div></div></div></div></div></div></div>"
     },
     "execution_count": 51,
     "metadata": {},
     "output_type": "execute_result"
    }
   ],
   "source": [
    "# define the model/ estimator\n",
    "model = linear_model.Ridge()\n",
    "params = {\"alpha\": np.logspace(a, b, n_alphas)} # alpha > 0\n",
    "scoring = \"neg_mean_squared_error\"\n",
    "\n",
    "# define the grid search\n",
    "Ridge_reg = GridSearchCV(\n",
    "    model, params, scoring=scoring,\n",
    "    cv=5,\n",
    "    n_jobs=-1,\n",
    "    return_train_score=True,\n",
    "    verbose=1)\n",
    "\n",
    "#fit the grid search\n",
    "Ridge_reg.fit(X_train.values, y_train)"
   ],
   "metadata": {
    "collapsed": false,
    "pycharm": {
     "name": "#%%\n"
    }
   }
  },
  {
   "cell_type": "code",
   "execution_count": 52,
   "outputs": [
    {
     "name": "stdout",
     "output_type": "stream",
     "text": [
      "Best estimator : Ridge(alpha=1.9287915080669688e+305)\n",
      "Prediction for :  Log-SiteEnergyUse(kBtu)\n"
     ]
    },
    {
     "data": {
      "text/plain": "                Model    RMSE     MSE     MAE  Median Absolute Error  \\\n0     Dummy Regressor 1.11603 1.24552 0.88553                0.78896   \n0   Linear Regression 1.14112 1.30216 0.90765                0.79077   \n0      Ridge manually 1.11687 1.24739 0.88610                0.78998   \n0  Ridge GridSearchCV 1.11603 1.24552 0.88553                0.78896   \n\n   R² = 1 - RSE  \n0      -0.00250  \n0      -0.04809  \n0      -0.00401  \n0      -0.00250  ",
      "text/html": "<div>\n<style scoped>\n    .dataframe tbody tr th:only-of-type {\n        vertical-align: middle;\n    }\n\n    .dataframe tbody tr th {\n        vertical-align: top;\n    }\n\n    .dataframe thead th {\n        text-align: right;\n    }\n</style>\n<table border=\"1\" class=\"dataframe\">\n  <thead>\n    <tr style=\"text-align: right;\">\n      <th></th>\n      <th>Model</th>\n      <th>RMSE</th>\n      <th>MSE</th>\n      <th>MAE</th>\n      <th>Median Absolute Error</th>\n      <th>R² = 1 - RSE</th>\n    </tr>\n  </thead>\n  <tbody>\n    <tr>\n      <th>0</th>\n      <td>Dummy Regressor</td>\n      <td>1.11603</td>\n      <td>1.24552</td>\n      <td>0.88553</td>\n      <td>0.78896</td>\n      <td>-0.00250</td>\n    </tr>\n    <tr>\n      <th>0</th>\n      <td>Linear Regression</td>\n      <td>1.14112</td>\n      <td>1.30216</td>\n      <td>0.90765</td>\n      <td>0.79077</td>\n      <td>-0.04809</td>\n    </tr>\n    <tr>\n      <th>0</th>\n      <td>Ridge manually</td>\n      <td>1.11687</td>\n      <td>1.24739</td>\n      <td>0.88610</td>\n      <td>0.78998</td>\n      <td>-0.00401</td>\n    </tr>\n    <tr>\n      <th>0</th>\n      <td>Ridge GridSearchCV</td>\n      <td>1.11603</td>\n      <td>1.24552</td>\n      <td>0.88553</td>\n      <td>0.78896</td>\n      <td>-0.00250</td>\n    </tr>\n  </tbody>\n</table>\n</div>"
     },
     "metadata": {},
     "output_type": "display_data"
    },
    {
     "data": {
      "text/plain": "<Figure size 432x288 with 1 Axes>",
      "image/png": "[encoded data removed]"
     },
     "metadata": {
      "needs_background": "light"
     },
     "output_type": "display_data"
    },
    {
     "data": {
      "text/plain": "<Figure size 432x288 with 1 Axes>",
      "image/png": "[encoded data removed]"
     },
     "metadata": {
      "needs_background": "light"
     },
     "output_type": "display_data"
    }
   ],
   "source": [
    "# best estimator\n",
    "print(\"Best estimator :\", Ridge_reg.best_estimator_)\n",
    "\n",
    "# best model\n",
    "best_model = Ridge_reg.best_estimator_\n",
    "best_model.fit(X_train.values, y_train)\n",
    "\n",
    "y_pred_ridge = best_model.predict(X_test.values)\n",
    "\n",
    "# 3) Evaluate\n",
    "results = evaluate_regression(\"Ridge GridSearchCV\", results, y_test, y_pred_ridge)"
   ],
   "metadata": {
    "collapsed": false,
    "pycharm": {
     "name": "#%%\n"
    }
   }
  },
  {
   "cell_type": "code",
   "execution_count": 53,
   "outputs": [
    {
     "name": "stdout",
     "output_type": "stream",
     "text": [
      "QUESTION MENTOR : pourquoi optimisation alpha manuelle meilleure ??? \n"
     ]
    }
   ],
   "source": [
    "print(\"QUESTION MENTOR : pourquoi optimisation alpha manuelle meilleure ??? \")"
   ],
   "metadata": {
    "collapsed": false,
    "pycharm": {
     "name": "#%%\n"
    }
   }
  },
  {
   "cell_type": "markdown",
   "source": [
    "#### 3) Linear Model : LASSO"
   ],
   "metadata": {
    "collapsed": false,
    "pycharm": {
     "name": "#%% md\n"
    }
   }
  },
  {
   "cell_type": "markdown",
   "source": [
    "##### 3.1) Trying LASSO Regression / Manual optimisation hyperparameter"
   ],
   "metadata": {
    "collapsed": false,
    "pycharm": {
     "name": "#%% md\n"
    }
   }
  },
  {
   "cell_type": "markdown",
   "source": [
    "##### 1. Searching for the best hyperparameter alpha"
   ],
   "metadata": {
    "collapsed": false,
    "pycharm": {
     "name": "#%% md\n"
    }
   }
  },
  {
   "cell_type": "code",
   "execution_count": 54,
   "outputs": [],
   "source": [
    "n_alphas = 500  # hyperparametre alpha\n",
    "a, b = -5, 5\n",
    "alphas = np.logspace(a, b, n_alphas)\n",
    "\n",
    "lasso = linear_model.Lasso()\n",
    "\n",
    "coefs = []\n",
    "errors = []\n",
    "for a in alphas:\n",
    "    lasso.set_params(alpha=a)\n",
    "    lasso.fit(X_train, y_train)\n",
    "    y_pred_lasso = lasso.predict(X_test)\n",
    "    coefs.append(lasso.coef_)\n",
    "    errors.append(np.mean((y_pred_lasso - y_test) ** 2))\n",
    "    #print(\"HERE :\", np.mean((lasso.predict(X_test) - y_test) ** 2), \"MSE :\", mean_squared_error(y_test, lasso.predict(X_test)))"
   ],
   "metadata": {
    "collapsed": false,
    "pycharm": {
     "name": "#%%\n"
    }
   }
  },
  {
   "cell_type": "markdown",
   "source": [
    "##### 2. Visualizing optimisation of alpha"
   ],
   "metadata": {
    "collapsed": false,
    "pycharm": {
     "name": "#%% md\n"
    }
   }
  },
  {
   "cell_type": "code",
   "execution_count": 55,
   "outputs": [
    {
     "name": "stdout",
     "output_type": "stream",
     "text": [
      "Minimum Mean Squared Error for LASSO Regression : 1.2455165739508098\n",
      "Best alpha for that minimal MSE :  0.489078709413959\n"
     ]
    },
    {
     "data": {
      "text/plain": "(3.162277660168379e-06,\n 316227.7660168379,\n 1.2427361532159251,\n 1.3039054093833902)"
     },
     "execution_count": 55,
     "metadata": {},
     "output_type": "execute_result"
    },
    {
     "data": {
      "text/plain": "<Figure size 432x288 with 1 Axes>",
      "image/png": "[encoded data removed]"
     },
     "metadata": {
      "needs_background": "light"
     },
     "output_type": "display_data"
    }
   ],
   "source": [
    "# recupere l'erreur min\n",
    "print(\"Minimum Mean Squared Error for LASSO Regression :\", errors[np.argmin(errors)])\n",
    "print(\"Best alpha for that minimal MSE : \", alphas[np.argmin(errors)])\n",
    "\n",
    "#Observation of the error behaviour\n",
    "ax = plt.gca()\n",
    "ax.plot(alphas, errors, [baseline_error, baseline_error])\n",
    "ax.set_xscale('log')\n",
    "\n",
    "plt.xlabel('alpha : hyperparameter')\n",
    "plt.ylabel('error : MSE')\n",
    "plt.axis('tight')"
   ],
   "metadata": {
    "collapsed": false,
    "pycharm": {
     "name": "#%%\n"
    }
   }
  },
  {
   "cell_type": "code",
   "execution_count": 56,
   "outputs": [
    {
     "data": {
      "text/plain": "(3.162277660168379e-06,\n 316227.7660168379,\n -3.2511647333096603,\n 3.605490943027467)"
     },
     "execution_count": 56,
     "metadata": {},
     "output_type": "execute_result"
    },
    {
     "data": {
      "text/plain": "<Figure size 432x288 with 1 Axes>",
      "image/png": "[encoded data removed]"
     },
     "metadata": {
      "needs_background": "light"
     },
     "output_type": "display_data"
    }
   ],
   "source": [
    "# chemin de régularisation\n",
    "ax = plt.gca()\n",
    "\n",
    "# line with alpha associated to the min error\n",
    "min_alpha = alphas[np.argmin(errors)]\n",
    "plt.axvline(x=min_alpha, color='b', label='axvline - full height')\n",
    "\n",
    "ax.plot(alphas, coefs)\n",
    "ax.set_xscale('log')\n",
    "plt.xlabel('alpha')\n",
    "plt.ylabel('weights')\n",
    "plt.title('LASSO coefficients as a function of the regularization')\n",
    "plt.axis('tight')"
   ],
   "metadata": {
    "collapsed": false,
    "pycharm": {
     "name": "#%%\n"
    }
   }
  },
  {
   "cell_type": "markdown",
   "source": [
    "##### 3. Using best value of the hyperparameter alpha"
   ],
   "metadata": {
    "collapsed": false,
    "pycharm": {
     "name": "#%% md\n"
    }
   }
  },
  {
   "cell_type": "code",
   "execution_count": 57,
   "outputs": [
    {
     "name": "stdout",
     "output_type": "stream",
     "text": [
      "Getting y_pred for the best alpha :  0.489078709413959\n",
      "Prediction for :  Log-SiteEnergyUse(kBtu)\n"
     ]
    },
    {
     "data": {
      "text/plain": "                Model    RMSE     MSE     MAE  Median Absolute Error  \\\n0     Dummy Regressor 1.11603 1.24552 0.88553                0.78896   \n0   Linear Regression 1.14112 1.30216 0.90765                0.79077   \n0      Ridge manually 1.11687 1.24739 0.88610                0.78998   \n0  Ridge GridSearchCV 1.11603 1.24552 0.88553                0.78896   \n0      LASSO manually 1.11603 1.24552 0.88553                0.78896   \n\n   R² = 1 - RSE  \n0      -0.00250  \n0      -0.04809  \n0      -0.00401  \n0      -0.00250  \n0      -0.00250  ",
      "text/html": "<div>\n<style scoped>\n    .dataframe tbody tr th:only-of-type {\n        vertical-align: middle;\n    }\n\n    .dataframe tbody tr th {\n        vertical-align: top;\n    }\n\n    .dataframe thead th {\n        text-align: right;\n    }\n</style>\n<table border=\"1\" class=\"dataframe\">\n  <thead>\n    <tr style=\"text-align: right;\">\n      <th></th>\n      <th>Model</th>\n      <th>RMSE</th>\n      <th>MSE</th>\n      <th>MAE</th>\n      <th>Median Absolute Error</th>\n      <th>R² = 1 - RSE</th>\n    </tr>\n  </thead>\n  <tbody>\n    <tr>\n      <th>0</th>\n      <td>Dummy Regressor</td>\n      <td>1.11603</td>\n      <td>1.24552</td>\n      <td>0.88553</td>\n      <td>0.78896</td>\n      <td>-0.00250</td>\n    </tr>\n    <tr>\n      <th>0</th>\n      <td>Linear Regression</td>\n      <td>1.14112</td>\n      <td>1.30216</td>\n      <td>0.90765</td>\n      <td>0.79077</td>\n      <td>-0.04809</td>\n    </tr>\n    <tr>\n      <th>0</th>\n      <td>Ridge manually</td>\n      <td>1.11687</td>\n      <td>1.24739</td>\n      <td>0.88610</td>\n      <td>0.78998</td>\n      <td>-0.00401</td>\n    </tr>\n    <tr>\n      <th>0</th>\n      <td>Ridge GridSearchCV</td>\n      <td>1.11603</td>\n      <td>1.24552</td>\n      <td>0.88553</td>\n      <td>0.78896</td>\n      <td>-0.00250</td>\n    </tr>\n    <tr>\n      <th>0</th>\n      <td>LASSO manually</td>\n      <td>1.11603</td>\n      <td>1.24552</td>\n      <td>0.88553</td>\n      <td>0.78896</td>\n      <td>-0.00250</td>\n    </tr>\n  </tbody>\n</table>\n</div>"
     },
     "metadata": {},
     "output_type": "display_data"
    },
    {
     "data": {
      "text/plain": "<Figure size 432x288 with 1 Axes>",
      "image/png": "[encoded data removed]"
     },
     "metadata": {
      "needs_background": "light"
     },
     "output_type": "display_data"
    },
    {
     "data": {
      "text/plain": "<Figure size 432x288 with 1 Axes>",
      "image/png": "[encoded data removed]"
     },
     "metadata": {
      "needs_background": "light"
     },
     "output_type": "display_data"
    }
   ],
   "source": [
    "print(\"Getting y_pred for the best alpha : \", min_alpha)\n",
    "lasso.set_params(alpha=min_alpha)\n",
    "lasso.fit(X_train, y_train)\n",
    "y_pred_lasso = lasso.predict(X_test)\n",
    "\n",
    "# 3) Evaluate\n",
    "results = evaluate_regression(\"LASSO manually\", results, y_test, y_pred_lasso)"
   ],
   "metadata": {
    "collapsed": false,
    "pycharm": {
     "name": "#%%\n"
    }
   }
  },
  {
   "cell_type": "code",
   "execution_count": 58,
   "outputs": [
    {
     "data": {
      "text/plain": "array([14.60670448, 14.60670448, 14.60670448, 14.60670448, 14.60670448,\n       14.60670448, 14.60670448, 14.60670448, 14.60670448, 14.60670448,\n       14.60670448, 14.60670448, 14.60670448, 14.60670448, 14.60670448,\n       14.60670448, 14.60670448, 14.60670448, 14.60670448, 14.60670448,\n       14.60670448, 14.60670448, 14.60670448, 14.60670448, 14.60670448,\n       14.60670448, 14.60670448, 14.60670448, 14.60670448, 14.60670448,\n       14.60670448, 14.60670448, 14.60670448, 14.60670448, 14.60670448,\n       14.60670448, 14.60670448, 14.60670448, 14.60670448, 14.60670448,\n       14.60670448, 14.60670448, 14.60670448, 14.60670448, 14.60670448,\n       14.60670448, 14.60670448, 14.60670448, 14.60670448, 14.60670448,\n       14.60670448, 14.60670448, 14.60670448, 14.60670448, 14.60670448,\n       14.60670448, 14.60670448, 14.60670448, 14.60670448, 14.60670448,\n       14.60670448, 14.60670448, 14.60670448, 14.60670448, 14.60670448,\n       14.60670448, 14.60670448, 14.60670448, 14.60670448, 14.60670448,\n       14.60670448, 14.60670448, 14.60670448, 14.60670448, 14.60670448,\n       14.60670448, 14.60670448, 14.60670448, 14.60670448, 14.60670448,\n       14.60670448, 14.60670448, 14.60670448, 14.60670448, 14.60670448,\n       14.60670448, 14.60670448, 14.60670448, 14.60670448, 14.60670448,\n       14.60670448, 14.60670448, 14.60670448, 14.60670448, 14.60670448,\n       14.60670448, 14.60670448, 14.60670448, 14.60670448, 14.60670448,\n       14.60670448, 14.60670448, 14.60670448, 14.60670448, 14.60670448,\n       14.60670448, 14.60670448, 14.60670448, 14.60670448, 14.60670448,\n       14.60670448, 14.60670448, 14.60670448, 14.60670448, 14.60670448,\n       14.60670448, 14.60670448, 14.60670448, 14.60670448, 14.60670448,\n       14.60670448, 14.60670448, 14.60670448, 14.60670448, 14.60670448,\n       14.60670448, 14.60670448, 14.60670448, 14.60670448, 14.60670448,\n       14.60670448, 14.60670448, 14.60670448, 14.60670448, 14.60670448,\n       14.60670448, 14.60670448, 14.60670448, 14.60670448, 14.60670448,\n       14.60670448, 14.60670448, 14.60670448, 14.60670448, 14.60670448,\n       14.60670448, 14.60670448, 14.60670448, 14.60670448, 14.60670448,\n       14.60670448, 14.60670448, 14.60670448, 14.60670448, 14.60670448,\n       14.60670448, 14.60670448, 14.60670448, 14.60670448, 14.60670448,\n       14.60670448, 14.60670448, 14.60670448, 14.60670448, 14.60670448,\n       14.60670448, 14.60670448, 14.60670448, 14.60670448, 14.60670448,\n       14.60670448, 14.60670448, 14.60670448, 14.60670448, 14.60670448,\n       14.60670448, 14.60670448, 14.60670448, 14.60670448, 14.60670448,\n       14.60670448, 14.60670448, 14.60670448, 14.60670448, 14.60670448,\n       14.60670448, 14.60670448, 14.60670448, 14.60670448, 14.60670448,\n       14.60670448, 14.60670448, 14.60670448, 14.60670448, 14.60670448,\n       14.60670448, 14.60670448, 14.60670448, 14.60670448, 14.60670448,\n       14.60670448, 14.60670448, 14.60670448, 14.60670448, 14.60670448,\n       14.60670448, 14.60670448, 14.60670448, 14.60670448, 14.60670448,\n       14.60670448, 14.60670448, 14.60670448, 14.60670448, 14.60670448,\n       14.60670448, 14.60670448, 14.60670448, 14.60670448, 14.60670448,\n       14.60670448, 14.60670448, 14.60670448, 14.60670448, 14.60670448,\n       14.60670448, 14.60670448, 14.60670448, 14.60670448, 14.60670448,\n       14.60670448, 14.60670448, 14.60670448, 14.60670448, 14.60670448,\n       14.60670448, 14.60670448, 14.60670448, 14.60670448, 14.60670448,\n       14.60670448, 14.60670448, 14.60670448, 14.60670448, 14.60670448,\n       14.60670448, 14.60670448, 14.60670448, 14.60670448, 14.60670448,\n       14.60670448, 14.60670448, 14.60670448, 14.60670448, 14.60670448,\n       14.60670448, 14.60670448, 14.60670448, 14.60670448, 14.60670448,\n       14.60670448, 14.60670448, 14.60670448, 14.60670448, 14.60670448,\n       14.60670448, 14.60670448, 14.60670448, 14.60670448, 14.60670448,\n       14.60670448, 14.60670448, 14.60670448, 14.60670448, 14.60670448,\n       14.60670448, 14.60670448, 14.60670448, 14.60670448, 14.60670448,\n       14.60670448, 14.60670448, 14.60670448, 14.60670448, 14.60670448,\n       14.60670448, 14.60670448, 14.60670448, 14.60670448, 14.60670448,\n       14.60670448, 14.60670448, 14.60670448, 14.60670448, 14.60670448,\n       14.60670448, 14.60670448, 14.60670448, 14.60670448, 14.60670448,\n       14.60670448, 14.60670448, 14.60670448, 14.60670448, 14.60670448,\n       14.60670448, 14.60670448, 14.60670448, 14.60670448, 14.60670448,\n       14.60670448, 14.60670448, 14.60670448, 14.60670448, 14.60670448,\n       14.60670448, 14.60670448, 14.60670448, 14.60670448, 14.60670448,\n       14.60670448, 14.60670448, 14.60670448, 14.60670448, 14.60670448,\n       14.60670448, 14.60670448, 14.60670448, 14.60670448, 14.60670448,\n       14.60670448, 14.60670448, 14.60670448, 14.60670448, 14.60670448,\n       14.60670448, 14.60670448, 14.60670448, 14.60670448, 14.60670448,\n       14.60670448, 14.60670448, 14.60670448, 14.60670448, 14.60670448,\n       14.60670448, 14.60670448, 14.60670448, 14.60670448, 14.60670448,\n       14.60670448, 14.60670448, 14.60670448, 14.60670448, 14.60670448,\n       14.60670448, 14.60670448, 14.60670448, 14.60670448, 14.60670448,\n       14.60670448, 14.60670448, 14.60670448, 14.60670448, 14.60670448,\n       14.60670448, 14.60670448, 14.60670448, 14.60670448, 14.60670448,\n       14.60670448, 14.60670448, 14.60670448, 14.60670448, 14.60670448,\n       14.60670448, 14.60670448, 14.60670448, 14.60670448, 14.60670448,\n       14.60670448, 14.60670448, 14.60670448, 14.60670448, 14.60670448,\n       14.60670448, 14.60670448, 14.60670448, 14.60670448, 14.60670448,\n       14.60670448, 14.60670448, 14.60670448, 14.60670448, 14.60670448,\n       14.60670448, 14.60670448, 14.60670448, 14.60670448, 14.60670448,\n       14.60670448, 14.60670448, 14.60670448, 14.60670448, 14.60670448,\n       14.60670448, 14.60670448, 14.60670448, 14.60670448, 14.60670448,\n       14.60670448, 14.60670448, 14.60670448, 14.60670448, 14.60670448,\n       14.60670448, 14.60670448, 14.60670448, 14.60670448, 14.60670448,\n       14.60670448, 14.60670448, 14.60670448, 14.60670448, 14.60670448,\n       14.60670448, 14.60670448, 14.60670448, 14.60670448, 14.60670448,\n       14.60670448, 14.60670448, 14.60670448, 14.60670448, 14.60670448,\n       14.60670448, 14.60670448, 14.60670448, 14.60670448, 14.60670448,\n       14.60670448, 14.60670448, 14.60670448, 14.60670448, 14.60670448,\n       14.60670448, 14.60670448, 14.60670448, 14.60670448, 14.60670448,\n       14.60670448, 14.60670448, 14.60670448, 14.60670448, 14.60670448,\n       14.60670448, 14.60670448, 14.60670448, 14.60670448, 14.60670448,\n       14.60670448, 14.60670448, 14.60670448, 14.60670448, 14.60670448,\n       14.60670448, 14.60670448, 14.60670448, 14.60670448, 14.60670448,\n       14.60670448, 14.60670448, 14.60670448, 14.60670448, 14.60670448,\n       14.60670448, 14.60670448, 14.60670448, 14.60670448, 14.60670448,\n       14.60670448, 14.60670448, 14.60670448, 14.60670448, 14.60670448,\n       14.60670448, 14.60670448, 14.60670448, 14.60670448, 14.60670448,\n       14.60670448, 14.60670448, 14.60670448, 14.60670448, 14.60670448,\n       14.60670448, 14.60670448, 14.60670448, 14.60670448, 14.60670448,\n       14.60670448, 14.60670448, 14.60670448, 14.60670448, 14.60670448,\n       14.60670448, 14.60670448, 14.60670448, 14.60670448, 14.60670448,\n       14.60670448, 14.60670448, 14.60670448, 14.60670448, 14.60670448,\n       14.60670448, 14.60670448, 14.60670448, 14.60670448, 14.60670448,\n       14.60670448, 14.60670448, 14.60670448, 14.60670448, 14.60670448,\n       14.60670448, 14.60670448, 14.60670448, 14.60670448, 14.60670448,\n       14.60670448, 14.60670448, 14.60670448, 14.60670448, 14.60670448,\n       14.60670448, 14.60670448, 14.60670448, 14.60670448, 14.60670448,\n       14.60670448, 14.60670448, 14.60670448, 14.60670448, 14.60670448,\n       14.60670448, 14.60670448, 14.60670448, 14.60670448, 14.60670448,\n       14.60670448, 14.60670448, 14.60670448, 14.60670448, 14.60670448,\n       14.60670448, 14.60670448, 14.60670448, 14.60670448, 14.60670448,\n       14.60670448, 14.60670448, 14.60670448, 14.60670448, 14.60670448,\n       14.60670448, 14.60670448, 14.60670448, 14.60670448, 14.60670448,\n       14.60670448, 14.60670448, 14.60670448, 14.60670448, 14.60670448,\n       14.60670448, 14.60670448, 14.60670448, 14.60670448, 14.60670448,\n       14.60670448, 14.60670448, 14.60670448, 14.60670448, 14.60670448,\n       14.60670448, 14.60670448, 14.60670448, 14.60670448, 14.60670448,\n       14.60670448, 14.60670448, 14.60670448, 14.60670448, 14.60670448,\n       14.60670448, 14.60670448, 14.60670448, 14.60670448, 14.60670448,\n       14.60670448, 14.60670448, 14.60670448, 14.60670448, 14.60670448,\n       14.60670448, 14.60670448, 14.60670448, 14.60670448, 14.60670448,\n       14.60670448, 14.60670448, 14.60670448, 14.60670448, 14.60670448,\n       14.60670448, 14.60670448, 14.60670448, 14.60670448, 14.60670448,\n       14.60670448, 14.60670448, 14.60670448, 14.60670448, 14.60670448,\n       14.60670448, 14.60670448, 14.60670448, 14.60670448, 14.60670448,\n       14.60670448, 14.60670448, 14.60670448, 14.60670448, 14.60670448,\n       14.60670448, 14.60670448, 14.60670448, 14.60670448, 14.60670448,\n       14.60670448, 14.60670448, 14.60670448, 14.60670448, 14.60670448,\n       14.60670448, 14.60670448, 14.60670448, 14.60670448, 14.60670448,\n       14.60670448, 14.60670448, 14.60670448, 14.60670448, 14.60670448,\n       14.60670448, 14.60670448, 14.60670448, 14.60670448, 14.60670448,\n       14.60670448, 14.60670448, 14.60670448, 14.60670448, 14.60670448,\n       14.60670448, 14.60670448, 14.60670448, 14.60670448, 14.60670448,\n       14.60670448, 14.60670448, 14.60670448, 14.60670448, 14.60670448,\n       14.60670448, 14.60670448, 14.60670448, 14.60670448, 14.60670448,\n       14.60670448, 14.60670448, 14.60670448, 14.60670448, 14.60670448,\n       14.60670448, 14.60670448, 14.60670448, 14.60670448, 14.60670448,\n       14.60670448, 14.60670448, 14.60670448, 14.60670448, 14.60670448,\n       14.60670448, 14.60670448, 14.60670448, 14.60670448, 14.60670448,\n       14.60670448, 14.60670448, 14.60670448, 14.60670448, 14.60670448,\n       14.60670448, 14.60670448, 14.60670448, 14.60670448, 14.60670448,\n       14.60670448, 14.60670448, 14.60670448, 14.60670448, 14.60670448,\n       14.60670448, 14.60670448, 14.60670448, 14.60670448, 14.60670448,\n       14.60670448, 14.60670448, 14.60670448, 14.60670448, 14.60670448,\n       14.60670448, 14.60670448, 14.60670448, 14.60670448, 14.60670448,\n       14.60670448, 14.60670448, 14.60670448, 14.60670448, 14.60670448,\n       14.60670448, 14.60670448, 14.60670448, 14.60670448, 14.60670448,\n       14.60670448, 14.60670448, 14.60670448, 14.60670448, 14.60670448,\n       14.60670448, 14.60670448, 14.60670448, 14.60670448, 14.60670448,\n       14.60670448, 14.60670448, 14.60670448, 14.60670448, 14.60670448,\n       14.60670448, 14.60670448, 14.60670448, 14.60670448, 14.60670448,\n       14.60670448, 14.60670448, 14.60670448, 14.60670448, 14.60670448,\n       14.60670448, 14.60670448, 14.60670448, 14.60670448, 14.60670448,\n       14.60670448, 14.60670448, 14.60670448, 14.60670448, 14.60670448,\n       14.60670448, 14.60670448, 14.60670448, 14.60670448, 14.60670448,\n       14.60670448, 14.60670448, 14.60670448, 14.60670448, 14.60670448,\n       14.60670448, 14.60670448, 14.60670448, 14.60670448, 14.60670448,\n       14.60670448, 14.60670448, 14.60670448, 14.60670448, 14.60670448,\n       14.60670448, 14.60670448, 14.60670448, 14.60670448, 14.60670448,\n       14.60670448, 14.60670448, 14.60670448, 14.60670448, 14.60670448,\n       14.60670448, 14.60670448, 14.60670448, 14.60670448, 14.60670448,\n       14.60670448, 14.60670448, 14.60670448, 14.60670448, 14.60670448,\n       14.60670448, 14.60670448, 14.60670448, 14.60670448, 14.60670448,\n       14.60670448, 14.60670448, 14.60670448, 14.60670448, 14.60670448,\n       14.60670448, 14.60670448, 14.60670448, 14.60670448, 14.60670448,\n       14.60670448, 14.60670448, 14.60670448, 14.60670448, 14.60670448,\n       14.60670448, 14.60670448, 14.60670448, 14.60670448, 14.60670448,\n       14.60670448, 14.60670448, 14.60670448, 14.60670448, 14.60670448,\n       14.60670448, 14.60670448, 14.60670448, 14.60670448, 14.60670448,\n       14.60670448, 14.60670448, 14.60670448, 14.60670448, 14.60670448,\n       14.60670448, 14.60670448, 14.60670448, 14.60670448, 14.60670448,\n       14.60670448, 14.60670448, 14.60670448, 14.60670448, 14.60670448,\n       14.60670448, 14.60670448, 14.60670448, 14.60670448, 14.60670448,\n       14.60670448, 14.60670448, 14.60670448, 14.60670448, 14.60670448,\n       14.60670448, 14.60670448, 14.60670448, 14.60670448, 14.60670448,\n       14.60670448, 14.60670448, 14.60670448, 14.60670448, 14.60670448,\n       14.60670448, 14.60670448, 14.60670448, 14.60670448, 14.60670448,\n       14.60670448, 14.60670448, 14.60670448, 14.60670448, 14.60670448,\n       14.60670448, 14.60670448, 14.60670448, 14.60670448, 14.60670448,\n       14.60670448, 14.60670448, 14.60670448, 14.60670448, 14.60670448,\n       14.60670448, 14.60670448, 14.60670448, 14.60670448, 14.60670448,\n       14.60670448, 14.60670448, 14.60670448, 14.60670448, 14.60670448,\n       14.60670448, 14.60670448, 14.60670448, 14.60670448, 14.60670448,\n       14.60670448, 14.60670448, 14.60670448, 14.60670448, 14.60670448,\n       14.60670448, 14.60670448, 14.60670448, 14.60670448, 14.60670448,\n       14.60670448, 14.60670448, 14.60670448, 14.60670448, 14.60670448,\n       14.60670448, 14.60670448, 14.60670448, 14.60670448, 14.60670448,\n       14.60670448, 14.60670448, 14.60670448, 14.60670448, 14.60670448,\n       14.60670448, 14.60670448, 14.60670448])"
     },
     "execution_count": 58,
     "metadata": {},
     "output_type": "execute_result"
    }
   ],
   "source": [
    "y_pred_lasso"
   ],
   "metadata": {
    "collapsed": false,
    "pycharm": {
     "name": "#%%\n"
    }
   }
  },
  {
   "cell_type": "markdown",
   "source": [
    "##### 3.2) Optimization of hyperparameters"
   ],
   "metadata": {
    "collapsed": false,
    "pycharm": {
     "name": "#%% md\n"
    }
   }
  },
  {
   "cell_type": "code",
   "execution_count": 59,
   "outputs": [
    {
     "name": "stdout",
     "output_type": "stream",
     "text": [
      "Fitting 5 folds for each of 1000 candidates, totalling 5000 fits\n",
      "Best estimator : Lasso(alpha=1.9287915080669688e+305)\n",
      "Prediction for :  Log-SiteEnergyUse(kBtu)\n"
     ]
    },
    {
     "data": {
      "text/plain": "                Model    RMSE     MSE     MAE  Median Absolute Error  \\\n0     Dummy Regressor 1.11603 1.24552 0.88553                0.78896   \n0   Linear Regression 1.14112 1.30216 0.90765                0.79077   \n0      Ridge manually 1.11687 1.24739 0.88610                0.78998   \n0  Ridge GridSearchCV 1.11603 1.24552 0.88553                0.78896   \n0      LASSO manually 1.11603 1.24552 0.88553                0.78896   \n0  LASSO GridSearchCV 1.11603 1.24552 0.88553                0.78896   \n\n   R² = 1 - RSE  \n0      -0.00250  \n0      -0.04809  \n0      -0.00401  \n0      -0.00250  \n0      -0.00250  \n0      -0.00250  ",
      "text/html": "<div>\n<style scoped>\n    .dataframe tbody tr th:only-of-type {\n        vertical-align: middle;\n    }\n\n    .dataframe tbody tr th {\n        vertical-align: top;\n    }\n\n    .dataframe thead th {\n        text-align: right;\n    }\n</style>\n<table border=\"1\" class=\"dataframe\">\n  <thead>\n    <tr style=\"text-align: right;\">\n      <th></th>\n      <th>Model</th>\n      <th>RMSE</th>\n      <th>MSE</th>\n      <th>MAE</th>\n      <th>Median Absolute Error</th>\n      <th>R² = 1 - RSE</th>\n    </tr>\n  </thead>\n  <tbody>\n    <tr>\n      <th>0</th>\n      <td>Dummy Regressor</td>\n      <td>1.11603</td>\n      <td>1.24552</td>\n      <td>0.88553</td>\n      <td>0.78896</td>\n      <td>-0.00250</td>\n    </tr>\n    <tr>\n      <th>0</th>\n      <td>Linear Regression</td>\n      <td>1.14112</td>\n      <td>1.30216</td>\n      <td>0.90765</td>\n      <td>0.79077</td>\n      <td>-0.04809</td>\n    </tr>\n    <tr>\n      <th>0</th>\n      <td>Ridge manually</td>\n      <td>1.11687</td>\n      <td>1.24739</td>\n      <td>0.88610</td>\n      <td>0.78998</td>\n      <td>-0.00401</td>\n    </tr>\n    <tr>\n      <th>0</th>\n      <td>Ridge GridSearchCV</td>\n      <td>1.11603</td>\n      <td>1.24552</td>\n      <td>0.88553</td>\n      <td>0.78896</td>\n      <td>-0.00250</td>\n    </tr>\n    <tr>\n      <th>0</th>\n      <td>LASSO manually</td>\n      <td>1.11603</td>\n      <td>1.24552</td>\n      <td>0.88553</td>\n      <td>0.78896</td>\n      <td>-0.00250</td>\n    </tr>\n    <tr>\n      <th>0</th>\n      <td>LASSO GridSearchCV</td>\n      <td>1.11603</td>\n      <td>1.24552</td>\n      <td>0.88553</td>\n      <td>0.78896</td>\n      <td>-0.00250</td>\n    </tr>\n  </tbody>\n</table>\n</div>"
     },
     "metadata": {},
     "output_type": "display_data"
    },
    {
     "data": {
      "text/plain": "<Figure size 432x288 with 1 Axes>",
      "image/png": "[encoded data removed]"
     },
     "metadata": {
      "needs_background": "light"
     },
     "output_type": "display_data"
    },
    {
     "data": {
      "text/plain": "<Figure size 432x288 with 1 Axes>",
      "image/png": "[encoded data removed]"
     },
     "metadata": {
      "needs_background": "light"
     },
     "output_type": "display_data"
    }
   ],
   "source": [
    "n_alphas = 1000\n",
    "params = {\"alpha\": np.logspace(a, b, n_alphas)}\n",
    "\n",
    "# define the model/ estimator\n",
    "model = linear_model.Lasso()\n",
    "\n",
    "# define the grid search\n",
    "Lasso_reg = GridSearchCV(\n",
    "    model, params, scoring=scoring,\n",
    "    cv=5,\n",
    "    n_jobs=-1,\n",
    "    return_train_score=True,\n",
    "    verbose=1)\n",
    "\n",
    "#fit the grid search\n",
    "Lasso_reg.fit(X_train.values, y_train)\n",
    "\n",
    "# best estimator\n",
    "print(\"Best estimator :\", Lasso_reg.best_estimator_)\n",
    "\n",
    "# best model\n",
    "best_model = Lasso_reg.best_estimator_\n",
    "best_model.fit(X_train.values, y_train)\n",
    "\n",
    "y_pred_lasso = best_model.predict(X_test.values)\n",
    "\n",
    "# 3) Evaluate\n",
    "results = evaluate_regression(\"LASSO GridSearchCV\", results, y_test, y_pred_lasso)"
   ],
   "metadata": {
    "collapsed": false,
    "pycharm": {
     "name": "#%%\n"
    }
   }
  },
  {
   "cell_type": "code",
   "execution_count": 60,
   "outputs": [
    {
     "name": "stdout",
     "output_type": "stream",
     "text": [
      "ASK MENTOR : pk optimisation meilleure manuelle que avec griddeach ?????\n"
     ]
    }
   ],
   "source": [
    "y_pred_lasso\n",
    "print(\"ASK MENTOR : pk optimisation meilleure manuelle que avec griddeach ?????\")"
   ],
   "metadata": {
    "collapsed": false,
    "pycharm": {
     "name": "#%%\n"
    }
   }
  },
  {
   "cell_type": "markdown",
   "source": [
    "#### 4) Linear Model : Elastic Net"
   ],
   "metadata": {
    "collapsed": false,
    "pycharm": {
     "name": "#%% md\n"
    }
   }
  },
  {
   "cell_type": "markdown",
   "source": [
    "##### 4.1) Trying Elastic Net Regression / Manual optimisation hyperparameter"
   ],
   "metadata": {
    "collapsed": false,
    "pycharm": {
     "name": "#%% md\n"
    }
   }
  },
  {
   "cell_type": "markdown",
   "source": [
    "##### 1. Searching for the best hyperparameters alpha and l1_ratio"
   ],
   "metadata": {
    "collapsed": false,
    "pycharm": {
     "name": "#%% md\n"
    }
   }
  },
  {
   "cell_type": "code",
   "execution_count": 61,
   "outputs": [
    {
     "data": {
      "text/plain": "array([0.  , 0.01, 0.02, 0.03, 0.04, 0.05, 0.06, 0.07, 0.08, 0.09, 0.1 ,\n       0.11, 0.12, 0.13, 0.14, 0.15, 0.16, 0.17, 0.18, 0.19, 0.2 , 0.21,\n       0.22, 0.23, 0.24, 0.25, 0.26, 0.27, 0.28, 0.29, 0.3 , 0.31, 0.32,\n       0.33, 0.34, 0.35, 0.36, 0.37, 0.38, 0.39, 0.4 , 0.41, 0.42, 0.43,\n       0.44, 0.45, 0.46, 0.47, 0.48, 0.49, 0.5 , 0.51, 0.52, 0.53, 0.54,\n       0.55, 0.56, 0.57, 0.58, 0.59, 0.6 , 0.61, 0.62, 0.63, 0.64, 0.65,\n       0.66, 0.67, 0.68, 0.69, 0.7 , 0.71, 0.72, 0.73, 0.74, 0.75, 0.76,\n       0.77, 0.78, 0.79, 0.8 , 0.81, 0.82, 0.83, 0.84, 0.85, 0.86, 0.87,\n       0.88, 0.89, 0.9 , 0.91, 0.92, 0.93, 0.94, 0.95, 0.96, 0.97, 0.98,\n       0.99])"
     },
     "execution_count": 61,
     "metadata": {},
     "output_type": "execute_result"
    }
   ],
   "source": [
    "n = 100\n",
    "l1_ratio = np.random.uniform(0, 1, size=(1, 100))\n",
    "l1_ratio\n",
    "\n",
    "l = [i / n for i in range(n)]\n",
    "l = np.arange(0, 1, 10**-2)\n",
    "\n",
    "l1_ratio = np.arange(start=0, stop=1, step= 1/n)\n",
    "l1_ratio"
   ],
   "metadata": {
    "collapsed": false,
    "pycharm": {
     "name": "#%%\n"
    }
   }
  },
  {
   "cell_type": "markdown",
   "source": [
    "min_index = np.argmin(alphas)\n",
    "min_alpha = alphas[min_index]\n",
    "min_alpha"
   ],
   "metadata": {
    "collapsed": false,
    "pycharm": {
     "name": "#%% md\n"
    }
   }
  },
  {
   "cell_type": "markdown",
   "source": [
    "##### 4.2) Optimization of hyperparameters"
   ],
   "metadata": {
    "collapsed": false,
    "pycharm": {
     "name": "#%% md\n"
    }
   }
  },
  {
   "cell_type": "raw",
   "source": [
    "l1_ratio"
   ],
   "metadata": {
    "collapsed": false,
    "pycharm": {
     "name": "#%% raw\n"
    }
   }
  },
  {
   "cell_type": "code",
   "execution_count": 62,
   "outputs": [
    {
     "data": {
      "text/plain": "'neg_mean_squared_error'"
     },
     "execution_count": 62,
     "metadata": {},
     "output_type": "execute_result"
    }
   ],
   "source": [
    "scoring"
   ],
   "metadata": {
    "collapsed": false,
    "pycharm": {
     "name": "#%%\n"
    }
   }
  },
  {
   "cell_type": "code",
   "execution_count": 63,
   "outputs": [
    {
     "name": "stdout",
     "output_type": "stream",
     "text": [
      "R2 : -1.2455165739508098 RMSE : 1.1160271385368772 Best params : {'l1_ratio': 0.98, 'alpha': 104.81131341546853}\n",
      "Prediction for :  Log-SiteEnergyUse(kBtu)\n"
     ]
    },
    {
     "data": {
      "text/plain": "                Model    RMSE     MSE     MAE  Median Absolute Error  \\\n0     Dummy Regressor 1.11603 1.24552 0.88553                0.78896   \n0   Linear Regression 1.14112 1.30216 0.90765                0.79077   \n0      Ridge manually 1.11687 1.24739 0.88610                0.78998   \n0  Ridge GridSearchCV 1.11603 1.24552 0.88553                0.78896   \n0      LASSO manually 1.11603 1.24552 0.88553                0.78896   \n0  LASSO GridSearchCV 1.11603 1.24552 0.88553                0.78896   \n0       Elastic Net 1 1.11603 1.24552 0.88553                0.78896   \n\n   R² = 1 - RSE  \n0      -0.00250  \n0      -0.04809  \n0      -0.00401  \n0      -0.00250  \n0      -0.00250  \n0      -0.00250  \n0      -0.00250  ",
      "text/html": "<div>\n<style scoped>\n    .dataframe tbody tr th:only-of-type {\n        vertical-align: middle;\n    }\n\n    .dataframe tbody tr th {\n        vertical-align: top;\n    }\n\n    .dataframe thead th {\n        text-align: right;\n    }\n</style>\n<table border=\"1\" class=\"dataframe\">\n  <thead>\n    <tr style=\"text-align: right;\">\n      <th></th>\n      <th>Model</th>\n      <th>RMSE</th>\n      <th>MSE</th>\n      <th>MAE</th>\n      <th>Median Absolute Error</th>\n      <th>R² = 1 - RSE</th>\n    </tr>\n  </thead>\n  <tbody>\n    <tr>\n      <th>0</th>\n      <td>Dummy Regressor</td>\n      <td>1.11603</td>\n      <td>1.24552</td>\n      <td>0.88553</td>\n      <td>0.78896</td>\n      <td>-0.00250</td>\n    </tr>\n    <tr>\n      <th>0</th>\n      <td>Linear Regression</td>\n      <td>1.14112</td>\n      <td>1.30216</td>\n      <td>0.90765</td>\n      <td>0.79077</td>\n      <td>-0.04809</td>\n    </tr>\n    <tr>\n      <th>0</th>\n      <td>Ridge manually</td>\n      <td>1.11687</td>\n      <td>1.24739</td>\n      <td>0.88610</td>\n      <td>0.78998</td>\n      <td>-0.00401</td>\n    </tr>\n    <tr>\n      <th>0</th>\n      <td>Ridge GridSearchCV</td>\n      <td>1.11603</td>\n      <td>1.24552</td>\n      <td>0.88553</td>\n      <td>0.78896</td>\n      <td>-0.00250</td>\n    </tr>\n    <tr>\n      <th>0</th>\n      <td>LASSO manually</td>\n      <td>1.11603</td>\n      <td>1.24552</td>\n      <td>0.88553</td>\n      <td>0.78896</td>\n      <td>-0.00250</td>\n    </tr>\n    <tr>\n      <th>0</th>\n      <td>LASSO GridSearchCV</td>\n      <td>1.11603</td>\n      <td>1.24552</td>\n      <td>0.88553</td>\n      <td>0.78896</td>\n      <td>-0.00250</td>\n    </tr>\n    <tr>\n      <th>0</th>\n      <td>Elastic Net 1</td>\n      <td>1.11603</td>\n      <td>1.24552</td>\n      <td>0.88553</td>\n      <td>0.78896</td>\n      <td>-0.00250</td>\n    </tr>\n  </tbody>\n</table>\n</div>"
     },
     "metadata": {},
     "output_type": "display_data"
    },
    {
     "data": {
      "text/plain": "<Figure size 432x288 with 1 Axes>",
      "image/png": "[encoded data removed]"
     },
     "metadata": {
      "needs_background": "light"
     },
     "output_type": "display_data"
    },
    {
     "data": {
      "text/plain": "<Figure size 432x288 with 1 Axes>",
      "image/png": "[encoded data removed]"
     },
     "metadata": {
      "needs_background": "light"
     },
     "output_type": "display_data"
    }
   ],
   "source": [
    "from sklearn.model_selection import RandomizedSearchCV\n",
    "\n",
    "from sklearn.model_selection import KFold\n",
    "\n",
    "regressor = linear_model.ElasticNet()\n",
    "\n",
    "# Define the cross-validation generator\n",
    "cv_inner = KFold(\n",
    "    n_splits=10, # number of folds (default=5)\n",
    "    shuffle=True, # shuffle the data before splitting into batche\n",
    "    random_state=seed, # seeding the random number generator for shuffling\n",
    ")\n",
    "\n",
    "a, b , n_alphas = -3, 3, 50\n",
    "param_grid_elastic = [{\n",
    "    \"alpha\": np.logspace(a, b, n_alphas), # penalty intensity (5 values between 10⁻³ and 10¹)\n",
    "    \"l1_ratio\": l1_ratio # mixing parameter for l1 and l2 penalties\n",
    "}]\n",
    "\n",
    "\n",
    "\n",
    "# Intenciation of RandomizedSearchCV object\n",
    "randomsearch = RandomizedSearchCV(\n",
    "    estimator=regressor,\n",
    "    param_distributions=param_grid_elastic, # choice of hyper-parameters to test\n",
    "    scoring=scoring, # scoring method for regression\n",
    "    cv=cv_inner, # cross-validation generator\n",
    "    n_jobs=-1, # use all available cores (parallelization)\n",
    "    return_train_score=True, # to avoid a DeprecationWarning\n",
    "    n_iter=10, # number of combinations of hyper-parameters to try\n",
    ")\n",
    "\n",
    "\n",
    "# Call the RanddomizedSearch with Cross Validation using the chosen regressor\n",
    "randomsearch.fit(X_train, y_train)\n",
    "# Results\n",
    "y_pred_elastic = randomsearch.predict(X_test)\n",
    "R2_score = randomsearch.score(X_test, y_test)\n",
    "RMSE_score = np.sqrt(mean_squared_error(y_test, y_pred_elastic))\n",
    "\n",
    "print(\"R2 :\", R2_score, \"RMSE :\", RMSE_score, \"Best params :\", randomsearch.best_params_)\n",
    "results = evaluate_regression(\"Elastic Net 1\", results, y_test, y_pred_elastic)"
   ],
   "metadata": {
    "collapsed": false,
    "pycharm": {
     "name": "#%%\n"
    }
   }
  },
  {
   "cell_type": "code",
   "execution_count": 64,
   "outputs": [
    {
     "name": "stdout",
     "output_type": "stream",
     "text": [
      "R2 : -1.2455165739508098 RMSE : 1.1160271385368772 Best params : {'l1_ratio': 0.12, 'alpha': 33.9322177189533}\n",
      "Prediction for :  Log-SiteEnergyUse(kBtu)\n"
     ]
    },
    {
     "data": {
      "text/plain": "                Model    RMSE     MSE     MAE  Median Absolute Error  \\\n0     Dummy Regressor 1.11603 1.24552 0.88553                0.78896   \n0   Linear Regression 1.14112 1.30216 0.90765                0.79077   \n0      Ridge manually 1.11687 1.24739 0.88610                0.78998   \n0  Ridge GridSearchCV 1.11603 1.24552 0.88553                0.78896   \n0      LASSO manually 1.11603 1.24552 0.88553                0.78896   \n0  LASSO GridSearchCV 1.11603 1.24552 0.88553                0.78896   \n0       Elastic Net 1 1.11603 1.24552 0.88553                0.78896   \n0       Elastic Net 2 1.11603 1.24552 0.88553                0.78896   \n\n   R² = 1 - RSE  \n0      -0.00250  \n0      -0.04809  \n0      -0.00401  \n0      -0.00250  \n0      -0.00250  \n0      -0.00250  \n0      -0.00250  \n0      -0.00250  ",
      "text/html": "<div>\n<style scoped>\n    .dataframe tbody tr th:only-of-type {\n        vertical-align: middle;\n    }\n\n    .dataframe tbody tr th {\n        vertical-align: top;\n    }\n\n    .dataframe thead th {\n        text-align: right;\n    }\n</style>\n<table border=\"1\" class=\"dataframe\">\n  <thead>\n    <tr style=\"text-align: right;\">\n      <th></th>\n      <th>Model</th>\n      <th>RMSE</th>\n      <th>MSE</th>\n      <th>MAE</th>\n      <th>Median Absolute Error</th>\n      <th>R² = 1 - RSE</th>\n    </tr>\n  </thead>\n  <tbody>\n    <tr>\n      <th>0</th>\n      <td>Dummy Regressor</td>\n      <td>1.11603</td>\n      <td>1.24552</td>\n      <td>0.88553</td>\n      <td>0.78896</td>\n      <td>-0.00250</td>\n    </tr>\n    <tr>\n      <th>0</th>\n      <td>Linear Regression</td>\n      <td>1.14112</td>\n      <td>1.30216</td>\n      <td>0.90765</td>\n      <td>0.79077</td>\n      <td>-0.04809</td>\n    </tr>\n    <tr>\n      <th>0</th>\n      <td>Ridge manually</td>\n      <td>1.11687</td>\n      <td>1.24739</td>\n      <td>0.88610</td>\n      <td>0.78998</td>\n      <td>-0.00401</td>\n    </tr>\n    <tr>\n      <th>0</th>\n      <td>Ridge GridSearchCV</td>\n      <td>1.11603</td>\n      <td>1.24552</td>\n      <td>0.88553</td>\n      <td>0.78896</td>\n      <td>-0.00250</td>\n    </tr>\n    <tr>\n      <th>0</th>\n      <td>LASSO manually</td>\n      <td>1.11603</td>\n      <td>1.24552</td>\n      <td>0.88553</td>\n      <td>0.78896</td>\n      <td>-0.00250</td>\n    </tr>\n    <tr>\n      <th>0</th>\n      <td>LASSO GridSearchCV</td>\n      <td>1.11603</td>\n      <td>1.24552</td>\n      <td>0.88553</td>\n      <td>0.78896</td>\n      <td>-0.00250</td>\n    </tr>\n    <tr>\n      <th>0</th>\n      <td>Elastic Net 1</td>\n      <td>1.11603</td>\n      <td>1.24552</td>\n      <td>0.88553</td>\n      <td>0.78896</td>\n      <td>-0.00250</td>\n    </tr>\n    <tr>\n      <th>0</th>\n      <td>Elastic Net 2</td>\n      <td>1.11603</td>\n      <td>1.24552</td>\n      <td>0.88553</td>\n      <td>0.78896</td>\n      <td>-0.00250</td>\n    </tr>\n  </tbody>\n</table>\n</div>"
     },
     "metadata": {},
     "output_type": "display_data"
    },
    {
     "data": {
      "text/plain": "<Figure size 432x288 with 1 Axes>",
      "image/png": "[encoded data removed]"
     },
     "metadata": {
      "needs_background": "light"
     },
     "output_type": "display_data"
    },
    {
     "data": {
      "text/plain": "<Figure size 432x288 with 1 Axes>",
      "image/png": "[encoded data removed]"
     },
     "metadata": {
      "needs_background": "light"
     },
     "output_type": "display_data"
    }
   ],
   "source": [
    "rs_cv= RandomizedSearchCV(estimator=regressor,\n",
    "                          param_distributions=param_grid_elastic,\n",
    "                          n_iter = 100,\n",
    "                          scoring=scoring,\n",
    "                          cv=5,\n",
    "                          verbose=0,\n",
    "                          refit=True,\n",
    "                          n_jobs=-1,\n",
    "                          return_train_score=True)\n",
    "rs_cv.fit(X_train, y_train)\n",
    "\n",
    "# Results\n",
    "y_pred_elastic = rs_cv.predict(X_test)\n",
    "R2_score = rs_cv.score(X_test, y_test)\n",
    "RMSE_score = np.sqrt(mean_squared_error(y_test, y_pred_elastic))\n",
    "\n",
    "print(\"R2 :\", R2_score, \"RMSE :\", RMSE_score, \"Best params :\", rs_cv.best_params_)\n",
    "#print(\"Train score :\", rs_cv.cv_results_[\"mean_train_score\"])\n",
    "\n",
    "results = evaluate_regression(\"Elastic Net 2\", results, y_test, y_pred_elastic)"
   ],
   "metadata": {
    "collapsed": false,
    "pycharm": {
     "name": "#%%\n"
    }
   }
  },
  {
   "cell_type": "markdown",
   "source": [
    "### 2) Ensemble learning methods"
   ],
   "metadata": {
    "collapsed": false,
    "pycharm": {
     "name": "#%% md\n"
    }
   }
  },
  {
   "cell_type": "markdown",
   "source": [
    "#### 1) Parallelized Implementation : Random Forest"
   ],
   "metadata": {
    "collapsed": false,
    "pycharm": {
     "name": "#%% md\n"
    }
   }
  },
  {
   "cell_type": "code",
   "execution_count": 65,
   "outputs": [
    {
     "name": "stdout",
     "output_type": "stream",
     "text": [
      "R2 : -1.2469979801090474 RMSE : 1.1166906376024863 Best params : {'n_estimators': 50, 'min_samples_split': 5, 'min_samples_leaf': 7, 'max_features': 2, 'max_depth': 3, 'bootstrap': True}\n"
     ]
    }
   ],
   "source": [
    "# Grid of research for Random Forest\n",
    "from sklearn.ensemble import RandomForestRegressor\n",
    "from scipy.stats import randint as sp_randint\n",
    "\n",
    "regressor = RandomForestRegressor(n_jobs=-1, random_state=seed, n_estimators=1000)\n",
    "\n",
    "# Create space of candidate values for hyperparameters\n",
    "param_grid_forest = [{\n",
    "    \"max_features\": [i for i in range(2, 8)], # number of features to consider at each node\n",
    "    \"max_depth\": [i for i in range(2, 10)], # maximum depth (to prune) a stump\n",
    "    \"min_samples_leaf\": [i for i in range(2, 10)], # minimum number of samples required to be at a leaf node\n",
    "    'bootstrap': [True, False],\n",
    "    'min_samples_split': [2, 5, 10],\n",
    "    'n_estimators': [i for i in range(50, 1000, 100)]\n",
    "}]\n",
    "\n",
    "# Intenciation of RandomizedSearchCV object\n",
    "randomsearch = RandomizedSearchCV(\n",
    "    estimator=regressor,\n",
    "    param_distributions=param_grid_forest, # choice of hyper-parameters to test\n",
    "    scoring=scoring, # scoring method for regression\n",
    "    cv=cv_inner, # cross-validation generator\n",
    "    n_jobs=-1, # use all available cores (parallelization)\n",
    "    return_train_score=True, # to avoid a DeprecationWarning\n",
    ")\n",
    "\n",
    "\n",
    "# Call the RanddomizedSearch with Cross Validation using the chosen regressor\n",
    "randomsearch.fit(X_train, y_train)\n",
    "# Results\n",
    "y_pred_rfr = randomsearch.predict(X_test)\n",
    "R2_score = randomsearch.score(X_test, y_test)\n",
    "RMSE_score = np.sqrt(mean_squared_error(y_test, y_pred_rfr))\n",
    "\n",
    "print(\"R2 :\", R2_score, \"RMSE :\", RMSE_score, \"Best params :\", randomsearch.best_params_)"
   ],
   "metadata": {
    "collapsed": false,
    "pycharm": {
     "name": "#%%\n"
    }
   }
  },
  {
   "cell_type": "code",
   "execution_count": 66,
   "outputs": [
    {
     "name": "stdout",
     "output_type": "stream",
     "text": [
      "Prediction for :  Log-SiteEnergyUse(kBtu)\n"
     ]
    },
    {
     "data": {
      "text/plain": "                Model    RMSE     MSE     MAE  Median Absolute Error  \\\n0     Dummy Regressor 1.11603 1.24552 0.88553                0.78896   \n0   Linear Regression 1.14112 1.30216 0.90765                0.79077   \n0      Ridge manually 1.11687 1.24739 0.88610                0.78998   \n0  Ridge GridSearchCV 1.11603 1.24552 0.88553                0.78896   \n0      LASSO manually 1.11603 1.24552 0.88553                0.78896   \n0  LASSO GridSearchCV 1.11603 1.24552 0.88553                0.78896   \n0       Elastic Net 1 1.11603 1.24552 0.88553                0.78896   \n0       Elastic Net 2 1.11603 1.24552 0.88553                0.78896   \n0       Random Forest 1.11669 1.24700 0.88607                0.79162   \n\n   R² = 1 - RSE  \n0      -0.00250  \n0      -0.04809  \n0      -0.00401  \n0      -0.00250  \n0      -0.00250  \n0      -0.00250  \n0      -0.00250  \n0      -0.00250  \n0      -0.00369  ",
      "text/html": "<div>\n<style scoped>\n    .dataframe tbody tr th:only-of-type {\n        vertical-align: middle;\n    }\n\n    .dataframe tbody tr th {\n        vertical-align: top;\n    }\n\n    .dataframe thead th {\n        text-align: right;\n    }\n</style>\n<table border=\"1\" class=\"dataframe\">\n  <thead>\n    <tr style=\"text-align: right;\">\n      <th></th>\n      <th>Model</th>\n      <th>RMSE</th>\n      <th>MSE</th>\n      <th>MAE</th>\n      <th>Median Absolute Error</th>\n      <th>R² = 1 - RSE</th>\n    </tr>\n  </thead>\n  <tbody>\n    <tr>\n      <th>0</th>\n      <td>Dummy Regressor</td>\n      <td>1.11603</td>\n      <td>1.24552</td>\n      <td>0.88553</td>\n      <td>0.78896</td>\n      <td>-0.00250</td>\n    </tr>\n    <tr>\n      <th>0</th>\n      <td>Linear Regression</td>\n      <td>1.14112</td>\n      <td>1.30216</td>\n      <td>0.90765</td>\n      <td>0.79077</td>\n      <td>-0.04809</td>\n    </tr>\n    <tr>\n      <th>0</th>\n      <td>Ridge manually</td>\n      <td>1.11687</td>\n      <td>1.24739</td>\n      <td>0.88610</td>\n      <td>0.78998</td>\n      <td>-0.00401</td>\n    </tr>\n    <tr>\n      <th>0</th>\n      <td>Ridge GridSearchCV</td>\n      <td>1.11603</td>\n      <td>1.24552</td>\n      <td>0.88553</td>\n      <td>0.78896</td>\n      <td>-0.00250</td>\n    </tr>\n    <tr>\n      <th>0</th>\n      <td>LASSO manually</td>\n      <td>1.11603</td>\n      <td>1.24552</td>\n      <td>0.88553</td>\n      <td>0.78896</td>\n      <td>-0.00250</td>\n    </tr>\n    <tr>\n      <th>0</th>\n      <td>LASSO GridSearchCV</td>\n      <td>1.11603</td>\n      <td>1.24552</td>\n      <td>0.88553</td>\n      <td>0.78896</td>\n      <td>-0.00250</td>\n    </tr>\n    <tr>\n      <th>0</th>\n      <td>Elastic Net 1</td>\n      <td>1.11603</td>\n      <td>1.24552</td>\n      <td>0.88553</td>\n      <td>0.78896</td>\n      <td>-0.00250</td>\n    </tr>\n    <tr>\n      <th>0</th>\n      <td>Elastic Net 2</td>\n      <td>1.11603</td>\n      <td>1.24552</td>\n      <td>0.88553</td>\n      <td>0.78896</td>\n      <td>-0.00250</td>\n    </tr>\n    <tr>\n      <th>0</th>\n      <td>Random Forest</td>\n      <td>1.11669</td>\n      <td>1.24700</td>\n      <td>0.88607</td>\n      <td>0.79162</td>\n      <td>-0.00369</td>\n    </tr>\n  </tbody>\n</table>\n</div>"
     },
     "metadata": {},
     "output_type": "display_data"
    },
    {
     "data": {
      "text/plain": "<Figure size 432x288 with 1 Axes>",
      "image/png": "[encoded data removed]"
     },
     "metadata": {
      "needs_background": "light"
     },
     "output_type": "display_data"
    },
    {
     "data": {
      "text/plain": "<Figure size 432x288 with 1 Axes>",
      "image/png": "[encoded data removed]"
     },
     "metadata": {
      "needs_background": "light"
     },
     "output_type": "display_data"
    }
   ],
   "source": [
    "results = evaluate_regression(\"Random Forest\", results, y_test, y_pred_rfr)"
   ],
   "metadata": {
    "collapsed": false,
    "pycharm": {
     "name": "#%%\n"
    }
   }
  },
  {
   "cell_type": "raw",
   "source": [
    "from sklearn.ensemble import RandomForestRegressor\n",
    "\n",
    "rfr = RandomForestRegressor(n_estimators=1000) # nb of trees 1000 for the forest"
   ],
   "metadata": {
    "collapsed": false,
    "pycharm": {
     "name": "#%% raw\n"
    }
   }
  },
  {
   "cell_type": "raw",
   "source": [
    "rfr = rfr.fit(X_train.values, y_train)"
   ],
   "metadata": {
    "collapsed": false,
    "pycharm": {
     "name": "#%% raw\n"
    }
   }
  },
  {
   "cell_type": "raw",
   "source": [
    "import timeit\n",
    "\n",
    "start_time = timeit.default_timer()\n",
    "y_pred_rfr = rfr.predict(X_test.values)\n",
    "elapsed = timeit.default_timer() - start_time\n",
    "accuracy = rfr.score(X_test.values, y_test)\n",
    "print(\"accuracy {:.2f} time {:.2f}s\".format(accuracy, elapsed))"
   ],
   "metadata": {
    "collapsed": false,
    "pycharm": {
     "name": "#%% raw\n"
    }
   }
  },
  {
   "cell_type": "raw",
   "source": [
    "results = evaluate_regression(\"Random Forest Regressor\", results, y_test, y_pred_rfr)"
   ],
   "metadata": {
    "collapsed": false,
    "pycharm": {
     "name": "#%% raw\n"
    }
   }
  },
  {
   "cell_type": "raw",
   "source": [
    "from sklearn.ensemble import RandomForestRegressor\n",
    "\n",
    "parameters = {\n",
    "    'n_estimators' : [10,50,100,300,500], #nombre d'arbres de décision\n",
    "    'min_samples_leaf' : [1,3,5,10], #nombre de feuilles minimales dans un noeud\n",
    "    'max_features': ['auto', 'sqrt'] #nombre de features observées pour chaque arbre\n",
    "}"
   ],
   "metadata": {
    "collapsed": false,
    "pycharm": {
     "name": "#%% raw\n"
    }
   }
  },
  {
   "cell_type": "code",
   "execution_count": 67,
   "outputs": [],
   "source": [
    "# 1) GridSearchCV or RandomizedSearchCV"
   ],
   "metadata": {
    "collapsed": false,
    "pycharm": {
     "name": "#%%\n"
    }
   }
  },
  {
   "cell_type": "raw",
   "source": [
    "# Grid of research for Random Forest\n",
    "from sklearn.ensemble import RandomForestRegressor\n",
    "from scipy.stats import randint as sp_randint\n",
    "\n",
    "# Create space of candidate values for hyperparameters\n",
    "param_grid_forest = [{\n",
    "    \"regressor\": [RandomForestRegressor(n_jobs=-1, random_state=seed, n_estimators=1000)], # random forest regressor\n",
    "    \"regressor__max_features\": sp_randint(2, 5), # number of features to consider at each node\n",
    "    \"regressor__max_depth\": sp_randint(2, 5), # maximum depth (to prune) a stump\n",
    "    \"regressor__min_samples_leaf\": sp_randint(1, 100), # minimum number of samples required to be at a leaf node\n",
    "}]\n"
   ],
   "metadata": {
    "collapsed": false,
    "pycharm": {
     "name": "#%% raw\n"
    }
   }
  },
  {
   "cell_type": "raw",
   "source": [
    "rfr_search.best_params_"
   ],
   "metadata": {
    "collapsed": false,
    "pycharm": {
     "name": "#%% raw\n"
    }
   }
  },
  {
   "cell_type": "raw",
   "source": [
    "rfr_best = RandomForestRegressor(n_estimators=500, min_samples_leaf=10, max_features='sqrt') # nb of trees 1000 for the forest"
   ],
   "metadata": {
    "collapsed": false,
    "pycharm": {
     "name": "#%% raw\n"
    }
   }
  },
  {
   "cell_type": "raw",
   "source": [
    "rfr_best = rfr_best.fit(X_train.values, y_train)"
   ],
   "metadata": {
    "collapsed": false,
    "pycharm": {
     "name": "#%% raw\n"
    }
   }
  },
  {
   "cell_type": "raw",
   "source": [
    "y_pred_rfr_best = rfr_best.predict(X_test.values)\n",
    "\n",
    "results = evaluate_regression(\"Random Forest Regressor Best\", results, y_test, y_pred_rfr_best)"
   ],
   "metadata": {
    "collapsed": false,
    "pycharm": {
     "name": "#%% raw\n"
    }
   }
  },
  {
   "cell_type": "raw",
   "source": [
    "display_prediction(y_test, y_pred_lr)"
   ],
   "metadata": {
    "collapsed": false,
    "pycharm": {
     "name": "#%% raw\n"
    }
   }
  },
  {
   "cell_type": "markdown",
   "source": [
    "#### 2) Sequential method : XGBoost"
   ],
   "metadata": {
    "collapsed": false,
    "pycharm": {
     "name": "#%% md\n"
    }
   }
  },
  {
   "cell_type": "raw",
   "source": [
    "from xgboost import XGBRegressor\n",
    "from sklearn.model_selection import  train_test_split\n",
    "\n",
    "# Split train into train set and validation set\n",
    "X_train, X_val, train_labels, val_labels = train_test_split(X_train, y_train, test_size=0.2, random_state=42)\n",
    "\n",
    "xgbr = XGBRegressor(n_estimators=1000, learning_rate=0.05, max_depth=8, objective='multi:softmax')\n",
    "\n",
    "# Train Xgboost regressor\n",
    "xgb.fit(X_train.values, y_train)\n",
    "\n",
    "# Evaluate model on validation set\n",
    "y_pred_xgb = xgb.predict(X_.values)\n",
    "score_val = f1_score(val_labels, pred_val, average='weighted')\n",
    "print(score_val)\n",
    "pred_val_prob = xgb.predict_proba(X_val.values)\n",
    "np.savetxt('submit_xgb/pred_val_prob.csv',pred_val_prob ,delimiter=',')\n",
    "\n",
    "# Make prediction for the test set\n",
    "test_pred = xgb.predict(X_test.values)\n",
    "pred_test_prob = xgb.predict_proba(X_test.values)\n"
   ],
   "metadata": {
    "collapsed": false,
    "pycharm": {
     "name": "#%% raw\n"
    }
   }
  },
  {
   "cell_type": "raw",
   "source": [
    "from xgboost import XGBRegressor\n",
    "from sklearn.model_selection import cross_val_score\n",
    "\n",
    "learning_rate = 0.02\n",
    "xgbr = XGBRegressor(verbosity=0)\n",
    "print(xgbr)\n",
    "\n",
    "XGBRegressor(base_score=0.5, booster='gbtree', colsample_bylevel=1,\n",
    "             colsample_bynode=1, colsample_bytree=1, gamma=0,\n",
    "             importance_type='gain', learning_rate=0.1, max_delta_step=0,\n",
    "             max_depth=3, min_child_weight=1, missing=None, n_estimators=100,\n",
    "             n_jobs=1, nthread=None, objective='reg:linear', random_state=0,\n",
    "             reg_alpha=0, reg_lambda=1, scale_pos_weight=1, seed=None,\n",
    "             silent=None, subsample=1, verbosity=1)\n",
    "\n",
    "#Next, we'll fit the model with train data.\n",
    "xgbr.fit(X_train, y_train)\n",
    "\n",
    "\n",
    "#Predicting and checking the results\n",
    "#After training the model, we'll check the model training score.\n",
    "\n",
    "score = xgbr.score(X_train, y_train)\n",
    "print(\"Training score R2 : \", score)\n",
    "\n",
    "#We can also apply the cross-validation method to evaluate the training score.\n",
    "\n",
    "scores = cross_val_score(xgbr, X_train, y_train, cv=10)\n",
    "print(\"Mean cross-validation score: %.2f\" % scores.mean())\n",
    "\n",
    "#Or if you want to use the KFlold method in cross-validation it goes as below.\n",
    "\n",
    "kfold = KFold(n_splits=10, shuffle=True)\n",
    "kf_cv_scores = cross_val_score(xgbr, X_train, y_train, cv=kfold )\n",
    "print(\"K-fold CV average score: %.2f\" % kf_cv_scores.mean())\n",
    "\n",
    "# Both methods show that the model is around 87 %  accurate on average.\n",
    "\n",
    "# Next, we can predict test data, then check the prediction accuracy. Here, we'll use MSE and RMSE as accuracy metrics.\n",
    "\n",
    "y_pred_xgbr = xgbr.predict(X_test)\n",
    "mse = mean_squared_error(y_test, y_pred_xgbr)\n",
    "print(\"MSE: %.2f\" % mse)\n",
    "print(\"RMSE: %.2f\" % (mse**(1/2.0)))\n",
    "\n",
    "\n",
    "#Finally, we'll visualize the original and predicted test data in a plot to compare visually.\n",
    "x_ax = range(len(y_test))\n",
    "plt.plot(x_ax, y_test, label=\"original\")\n",
    "plt.plot(x_ax, y_pred_xgbr, label=\"predicted\")\n",
    "plt.title(\"Boston test and predicted data\")\n",
    "plt.legend()"
   ],
   "metadata": {
    "collapsed": false,
    "pycharm": {
     "name": "#%% raw\n"
    }
   }
  },
  {
   "cell_type": "raw",
   "source": [
    "results = evaluate_regression(\"XGBoost Regressor\", results, y_test, y_pred_xgbr)"
   ],
   "metadata": {
    "collapsed": false,
    "pycharm": {
     "name": "#%% raw\n"
    }
   }
  },
  {
   "cell_type": "code",
   "execution_count": null,
   "outputs": [
    {
     "name": "stdout",
     "output_type": "stream",
     "text": [
      "GridSearchCV XGBoost Regressor\n"
     ]
    }
   ],
   "source": [
    "from xgboost import XGBRegressor\n",
    "print(\"GridSearchCV XGBoost Regressor\")\n",
    "\n",
    "gsc = GridSearchCV(\n",
    "    estimator=XGBRegressor(),\n",
    "    param_grid={\"learning_rate\": (0.05, 0.10, 0.15),\n",
    "                \"max_depth\": [ 3, 4, 5, 6, 8],\n",
    "                \"min_child_weight\": [ 1, 3, 5, 7],\n",
    "                \"gamma\":[ 0.0, 0.1, 0.2],\n",
    "                \"colsample_bytree\":[ 0.3, 0.4],},\n",
    "    cv=5, scoring='neg_mean_squared_error', verbose=0, n_jobs=-1)\n",
    "\n",
    "#fit the grid search\n",
    "gsc.fit(X_train.values, y_train)\n",
    "\n",
    "# best estimator\n",
    "print(\"Best estimator :\", gsc.best_estimator_)\n",
    "\n",
    "# best model\n",
    "best_model = gsc.best_estimator_\n",
    "best_model.fit(X_train.values, y_train)\n",
    "\n",
    "y_pred_xgbr = best_model.predict(X_test.values)\n",
    "\n",
    "# 3) Evaluate\n",
    "results = evaluate_regression(\"XGBoost GridSearchCV\", results, y_test, y_pred_xgbr)\n"
   ],
   "metadata": {
    "collapsed": false,
    "pycharm": {
     "name": "#%%\n",
     "is_executing": true
    }
   }
  },
  {
   "cell_type": "markdown",
   "source": [
    "### III) Evaluation"
   ],
   "metadata": {
    "collapsed": false,
    "pycharm": {
     "name": "#%% md\n"
    }
   }
  },
  {
   "cell_type": "code",
   "execution_count": null,
   "outputs": [],
   "source": [
    "sns.set(rc={'figure.figsize':(14, 10)})\n",
    "plt.title('Root Mean Squared Error per model')\n",
    "graph = sns.barplot(x=results[\"Model\"],\n",
    "            y =results[\"RMSE\"])\n",
    "\n",
    "baseline_rmse = results[\"RMSE\"][results[\"Model\"] == \"Linear Regression\"][0] # we take the value inside\n",
    "#Drawing a horizontal line at point 1.25\n",
    "graph.axhline(baseline_rmse, color=\"b\")"
   ],
   "metadata": {
    "collapsed": false,
    "pycharm": {
     "name": "#%%\n",
     "is_executing": true
    }
   }
  },
  {
   "cell_type": "code",
   "execution_count": null,
   "outputs": [],
   "source": [
    "plt.title('Mean Absolute Error per model')\n",
    "graph = sns.barplot(x=results[\"Model\"],\n",
    "            y =results[\"MAE\"])\n",
    "\n",
    "baseline_mae = results[\"MAE\"][results[\"Model\"] == \"Linear Regression\"][0] # we take the value inside\n",
    "#Drawing a horizontal line at point 1.25\n",
    "graph.axhline(baseline_mae, color='b')"
   ],
   "metadata": {
    "collapsed": false,
    "pycharm": {
     "name": "#%%\n",
     "is_executing": true
    }
   }
  },
  {
   "cell_type": "markdown",
   "source": [
    "#### Intérêt du Energy Star Score\n"
   ],
   "metadata": {
    "collapsed": false,
    "pycharm": {
     "name": "#%% md\n"
    }
   }
  }
 ],
 "metadata": {
  "kernelspec": {
   "display_name": "Python 3",
   "language": "python",
   "name": "python3"
  },
  "language_info": {
   "codemirror_mode": {
    "name": "ipython",
    "version": 2
   },
   "file_extension": ".py",
   "mimetype": "text/x-python",
   "name": "python",
   "nbconvert_exporter": "python",
   "pygments_lexer": "ipython2",
   "version": "2.7.6"
  }
 },
 "nbformat": 4,
 "nbformat_minor": 0
}