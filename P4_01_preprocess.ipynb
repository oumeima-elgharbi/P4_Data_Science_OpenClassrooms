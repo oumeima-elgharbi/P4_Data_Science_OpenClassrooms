{
 "cells": [
  {
   "cell_type": "code",
   "execution_count": 4,
   "metadata": {
    "collapsed": true,
    "pycharm": {
     "name": "#%%\n"
    }
   },
   "outputs": [
    {
     "data": {
      "application/javascript": "IPython.notebook.set_autosave_interval(300000)"
     },
     "metadata": {},
     "output_type": "display_data"
    },
    {
     "name": "stdout",
     "output_type": "stream",
     "text": [
      "Autosaving every 300 seconds\n"
     ]
    }
   ],
   "source": [
    "%reset -f\n",
    "%matplotlib inline\n",
    "%autosave 300\n",
    "\n",
    "import pandas as pd\n",
    "import seaborn as sns"
   ]
  },
  {
   "cell_type": "code",
   "execution_count": 8,
   "outputs": [
    {
     "data": {
      "text/plain": "      OSEBuildingID  DataYear        BuildingType PrimaryPropertyType  \\\n0                 1      2016      NonResidential               Hotel   \n1                 2      2016      NonResidential               Hotel   \n2                 3      2016      NonResidential               Hotel   \n3                 5      2016      NonResidential               Hotel   \n4                 8      2016      NonResidential               Hotel   \n...             ...       ...                 ...                 ...   \n3371          50222      2016  Nonresidential COS              Office   \n3372          50223      2016  Nonresidential COS               Other   \n3373          50224      2016  Nonresidential COS               Other   \n3374          50225      2016  Nonresidential COS  Mixed Use Property   \n3375          50226      2016  Nonresidential COS  Mixed Use Property   \n\n                             PropertyName           Address     City State  \\\n0                    Mayflower park hotel     405 Olive way  Seattle    WA   \n1                         Paramount Hotel   724 Pine street  Seattle    WA   \n2                 5673-The Westin Seattle   1900 5th Avenue  Seattle    WA   \n3                               HOTEL MAX    620 STEWART ST  Seattle    WA   \n4             WARWICK SEATTLE HOTEL (ID8)     401 LENORA ST  Seattle    WA   \n...                                   ...               ...      ...   ...   \n3371                Horticulture building  1600 S Dakota St  Seattle    WA   \n3372  International district/Chinatown CC     719 8th Ave S  Seattle    WA   \n3373                      Queen Anne Pool    1920 1st Ave W  Seattle    WA   \n3374          South Park Community Center    8319 8th Ave S  Seattle    WA   \n3375          Van Asselt Community Center  2820 S Myrtle St  Seattle    WA   \n\n      ZipCode TaxParcelIdentificationNumber  ...  Electricity(kWh)  \\\n0     98101.0                    0659000030  ...      1.156514e+06   \n1     98101.0                    0659000220  ...      9.504252e+05   \n2     98101.0                    0659000475  ...      1.451544e+07   \n3     98101.0                    0659000640  ...      8.115253e+05   \n4     98121.0                    0659000970  ...      1.573449e+06   \n...       ...                           ...  ...               ...   \n3371      NaN                    1624049080  ...      1.536550e+05   \n3372      NaN                    3558300000  ...      1.162210e+05   \n3373      NaN                    1794501150  ...      5.252517e+05   \n3374      NaN                    7883603155  ...      1.022480e+05   \n3375      NaN                    7857002030  ...      1.267744e+05   \n\n     Electricity(kBtu)  NaturalGas(therms)  NaturalGas(kBtu)  DefaultData  \\\n0         3.946027e+06        12764.529300      1.276453e+06        False   \n1         3.242851e+06        51450.816410      5.145082e+06        False   \n2         4.952666e+07        14938.000000      1.493800e+06        False   \n3         2.768924e+06        18112.130860      1.811213e+06        False   \n4         5.368607e+06        88039.984380      8.803998e+06        False   \n...                ...                 ...               ...          ...   \n3371      5.242709e+05         3254.750244      3.254750e+05         True   \n3372      3.965461e+05         5537.299805      5.537300e+05        False   \n3373      1.792159e+06        39737.390630      3.973739e+06        False   \n3374      3.488702e+05         3706.010010      3.706010e+05        False   \n3375      4.325542e+05         7203.419922      7.203420e+05        False   \n\n      Comments              ComplianceStatus  Outlier  TotalGHGEmissions  \\\n0          NaN                     Compliant      NaN             249.98   \n1          NaN                     Compliant      NaN             295.86   \n2          NaN                     Compliant      NaN            2089.28   \n3          NaN                     Compliant      NaN             286.43   \n4          NaN                     Compliant      NaN             505.01   \n...        ...                           ...      ...                ...   \n3371       NaN  Error - Correct Default Data      NaN              20.94   \n3372       NaN                     Compliant      NaN              32.17   \n3373       NaN                     Compliant      NaN             223.54   \n3374       NaN                     Compliant      NaN              22.11   \n3375       NaN                     Compliant      NaN              41.27   \n\n      GHGEmissionsIntensity  \n0                      2.83  \n1                      2.86  \n2                      2.19  \n3                      4.67  \n4                      2.88  \n...                     ...  \n3371                   1.70  \n3372                   2.01  \n3373                  16.99  \n3374                   1.57  \n3375                   2.26  \n\n[3376 rows x 46 columns]",
      "text/html": "<div>\n<style scoped>\n    .dataframe tbody tr th:only-of-type {\n        vertical-align: middle;\n    }\n\n    .dataframe tbody tr th {\n        vertical-align: top;\n    }\n\n    .dataframe thead th {\n        text-align: right;\n    }\n</style>\n<table border=\"1\" class=\"dataframe\">\n  <thead>\n    <tr style=\"text-align: right;\">\n      <th></th>\n      <th>OSEBuildingID</th>\n      <th>DataYear</th>\n      <th>BuildingType</th>\n      <th>PrimaryPropertyType</th>\n      <th>PropertyName</th>\n      <th>Address</th>\n      <th>City</th>\n      <th>State</th>\n      <th>ZipCode</th>\n      <th>TaxParcelIdentificationNumber</th>\n      <th>...</th>\n      <th>Electricity(kWh)</th>\n      <th>Electricity(kBtu)</th>\n      <th>NaturalGas(therms)</th>\n      <th>NaturalGas(kBtu)</th>\n      <th>DefaultData</th>\n      <th>Comments</th>\n      <th>ComplianceStatus</th>\n      <th>Outlier</th>\n      <th>TotalGHGEmissions</th>\n      <th>GHGEmissionsIntensity</th>\n    </tr>\n  </thead>\n  <tbody>\n    <tr>\n      <th>0</th>\n      <td>1</td>\n      <td>2016</td>\n      <td>NonResidential</td>\n      <td>Hotel</td>\n      <td>Mayflower park hotel</td>\n      <td>405 Olive way</td>\n      <td>Seattle</td>\n      <td>WA</td>\n      <td>98101.0</td>\n      <td>0659000030</td>\n      <td>...</td>\n      <td>1.156514e+06</td>\n      <td>3.946027e+06</td>\n      <td>12764.529300</td>\n      <td>1.276453e+06</td>\n      <td>False</td>\n      <td>NaN</td>\n      <td>Compliant</td>\n      <td>NaN</td>\n      <td>249.98</td>\n      <td>2.83</td>\n    </tr>\n    <tr>\n      <th>1</th>\n      <td>2</td>\n      <td>2016</td>\n      <td>NonResidential</td>\n      <td>Hotel</td>\n      <td>Paramount Hotel</td>\n      <td>724 Pine street</td>\n      <td>Seattle</td>\n      <td>WA</td>\n      <td>98101.0</td>\n      <td>0659000220</td>\n      <td>...</td>\n      <td>9.504252e+05</td>\n      <td>3.242851e+06</td>\n      <td>51450.816410</td>\n      <td>5.145082e+06</td>\n      <td>False</td>\n      <td>NaN</td>\n      <td>Compliant</td>\n      <td>NaN</td>\n      <td>295.86</td>\n      <td>2.86</td>\n    </tr>\n    <tr>\n      <th>2</th>\n      <td>3</td>\n      <td>2016</td>\n      <td>NonResidential</td>\n      <td>Hotel</td>\n      <td>5673-The Westin Seattle</td>\n      <td>1900 5th Avenue</td>\n      <td>Seattle</td>\n      <td>WA</td>\n      <td>98101.0</td>\n      <td>0659000475</td>\n      <td>...</td>\n      <td>1.451544e+07</td>\n      <td>4.952666e+07</td>\n      <td>14938.000000</td>\n      <td>1.493800e+06</td>\n      <td>False</td>\n      <td>NaN</td>\n      <td>Compliant</td>\n      <td>NaN</td>\n      <td>2089.28</td>\n      <td>2.19</td>\n    </tr>\n    <tr>\n      <th>3</th>\n      <td>5</td>\n      <td>2016</td>\n      <td>NonResidential</td>\n      <td>Hotel</td>\n      <td>HOTEL MAX</td>\n      <td>620 STEWART ST</td>\n      <td>Seattle</td>\n      <td>WA</td>\n      <td>98101.0</td>\n      <td>0659000640</td>\n      <td>...</td>\n      <td>8.115253e+05</td>\n      <td>2.768924e+06</td>\n      <td>18112.130860</td>\n      <td>1.811213e+06</td>\n      <td>False</td>\n      <td>NaN</td>\n      <td>Compliant</td>\n      <td>NaN</td>\n      <td>286.43</td>\n      <td>4.67</td>\n    </tr>\n    <tr>\n      <th>4</th>\n      <td>8</td>\n      <td>2016</td>\n      <td>NonResidential</td>\n      <td>Hotel</td>\n      <td>WARWICK SEATTLE HOTEL (ID8)</td>\n      <td>401 LENORA ST</td>\n      <td>Seattle</td>\n      <td>WA</td>\n      <td>98121.0</td>\n      <td>0659000970</td>\n      <td>...</td>\n      <td>1.573449e+06</td>\n      <td>5.368607e+06</td>\n      <td>88039.984380</td>\n      <td>8.803998e+06</td>\n      <td>False</td>\n      <td>NaN</td>\n      <td>Compliant</td>\n      <td>NaN</td>\n      <td>505.01</td>\n      <td>2.88</td>\n    </tr>\n    <tr>\n      <th>...</th>\n      <td>...</td>\n      <td>...</td>\n      <td>...</td>\n      <td>...</td>\n      <td>...</td>\n      <td>...</td>\n      <td>...</td>\n      <td>...</td>\n      <td>...</td>\n      <td>...</td>\n      <td>...</td>\n      <td>...</td>\n      <td>...</td>\n      <td>...</td>\n      <td>...</td>\n      <td>...</td>\n      <td>...</td>\n      <td>...</td>\n      <td>...</td>\n      <td>...</td>\n      <td>...</td>\n    </tr>\n    <tr>\n      <th>3371</th>\n      <td>50222</td>\n      <td>2016</td>\n      <td>Nonresidential COS</td>\n      <td>Office</td>\n      <td>Horticulture building</td>\n      <td>1600 S Dakota St</td>\n      <td>Seattle</td>\n      <td>WA</td>\n      <td>NaN</td>\n      <td>1624049080</td>\n      <td>...</td>\n      <td>1.536550e+05</td>\n      <td>5.242709e+05</td>\n      <td>3254.750244</td>\n      <td>3.254750e+05</td>\n      <td>True</td>\n      <td>NaN</td>\n      <td>Error - Correct Default Data</td>\n      <td>NaN</td>\n      <td>20.94</td>\n      <td>1.70</td>\n    </tr>\n    <tr>\n      <th>3372</th>\n      <td>50223</td>\n      <td>2016</td>\n      <td>Nonresidential COS</td>\n      <td>Other</td>\n      <td>International district/Chinatown CC</td>\n      <td>719 8th Ave S</td>\n      <td>Seattle</td>\n      <td>WA</td>\n      <td>NaN</td>\n      <td>3558300000</td>\n      <td>...</td>\n      <td>1.162210e+05</td>\n      <td>3.965461e+05</td>\n      <td>5537.299805</td>\n      <td>5.537300e+05</td>\n      <td>False</td>\n      <td>NaN</td>\n      <td>Compliant</td>\n      <td>NaN</td>\n      <td>32.17</td>\n      <td>2.01</td>\n    </tr>\n    <tr>\n      <th>3373</th>\n      <td>50224</td>\n      <td>2016</td>\n      <td>Nonresidential COS</td>\n      <td>Other</td>\n      <td>Queen Anne Pool</td>\n      <td>1920 1st Ave W</td>\n      <td>Seattle</td>\n      <td>WA</td>\n      <td>NaN</td>\n      <td>1794501150</td>\n      <td>...</td>\n      <td>5.252517e+05</td>\n      <td>1.792159e+06</td>\n      <td>39737.390630</td>\n      <td>3.973739e+06</td>\n      <td>False</td>\n      <td>NaN</td>\n      <td>Compliant</td>\n      <td>NaN</td>\n      <td>223.54</td>\n      <td>16.99</td>\n    </tr>\n    <tr>\n      <th>3374</th>\n      <td>50225</td>\n      <td>2016</td>\n      <td>Nonresidential COS</td>\n      <td>Mixed Use Property</td>\n      <td>South Park Community Center</td>\n      <td>8319 8th Ave S</td>\n      <td>Seattle</td>\n      <td>WA</td>\n      <td>NaN</td>\n      <td>7883603155</td>\n      <td>...</td>\n      <td>1.022480e+05</td>\n      <td>3.488702e+05</td>\n      <td>3706.010010</td>\n      <td>3.706010e+05</td>\n      <td>False</td>\n      <td>NaN</td>\n      <td>Compliant</td>\n      <td>NaN</td>\n      <td>22.11</td>\n      <td>1.57</td>\n    </tr>\n    <tr>\n      <th>3375</th>\n      <td>50226</td>\n      <td>2016</td>\n      <td>Nonresidential COS</td>\n      <td>Mixed Use Property</td>\n      <td>Van Asselt Community Center</td>\n      <td>2820 S Myrtle St</td>\n      <td>Seattle</td>\n      <td>WA</td>\n      <td>NaN</td>\n      <td>7857002030</td>\n      <td>...</td>\n      <td>1.267744e+05</td>\n      <td>4.325542e+05</td>\n      <td>7203.419922</td>\n      <td>7.203420e+05</td>\n      <td>False</td>\n      <td>NaN</td>\n      <td>Compliant</td>\n      <td>NaN</td>\n      <td>41.27</td>\n      <td>2.26</td>\n    </tr>\n  </tbody>\n</table>\n<p>3376 rows × 46 columns</p>\n</div>"
     },
     "metadata": {},
     "output_type": "display_data"
    }
   ],
   "source": [
    "# load raw dataset\n",
    "#all_data = pd.read_csv(\"dataset/2016_Building_Energy_Benchmarking.csv\", sep = ',', encoding = 'utf-8')\n",
    "all_data = pd.read_csv(\"dataset/2016_Building_Energy_Benchmarking.csv\")\n",
    "\n",
    "display(all_data)"
   ],
   "metadata": {
    "collapsed": false,
    "pycharm": {
     "name": "#%%\n"
    }
   }
  },
  {
   "cell_type": "code",
   "execution_count": 9,
   "outputs": [
    {
     "name": "stdout",
     "output_type": "stream",
     "text": [
      "<class 'pandas.core.frame.DataFrame'>\n",
      "RangeIndex: 3376 entries, 0 to 3375\n",
      "Data columns (total 46 columns):\n",
      " #   Column                           Non-Null Count  Dtype  \n",
      "---  ------                           --------------  -----  \n",
      " 0   OSEBuildingID                    3376 non-null   int64  \n",
      " 1   DataYear                         3376 non-null   int64  \n",
      " 2   BuildingType                     3376 non-null   object \n",
      " 3   PrimaryPropertyType              3376 non-null   object \n",
      " 4   PropertyName                     3376 non-null   object \n",
      " 5   Address                          3376 non-null   object \n",
      " 6   City                             3376 non-null   object \n",
      " 7   State                            3376 non-null   object \n",
      " 8   ZipCode                          3360 non-null   float64\n",
      " 9   TaxParcelIdentificationNumber    3376 non-null   object \n",
      " 10  CouncilDistrictCode              3376 non-null   int64  \n",
      " 11  Neighborhood                     3376 non-null   object \n",
      " 12  Latitude                         3376 non-null   float64\n",
      " 13  Longitude                        3376 non-null   float64\n",
      " 14  YearBuilt                        3376 non-null   int64  \n",
      " 15  NumberofBuildings                3368 non-null   float64\n",
      " 16  NumberofFloors                   3376 non-null   int64  \n",
      " 17  PropertyGFATotal                 3376 non-null   int64  \n",
      " 18  PropertyGFAParking               3376 non-null   int64  \n",
      " 19  PropertyGFABuilding(s)           3376 non-null   int64  \n",
      " 20  ListOfAllPropertyUseTypes        3367 non-null   object \n",
      " 21  LargestPropertyUseType           3356 non-null   object \n",
      " 22  LargestPropertyUseTypeGFA        3356 non-null   float64\n",
      " 23  SecondLargestPropertyUseType     1679 non-null   object \n",
      " 24  SecondLargestPropertyUseTypeGFA  1679 non-null   float64\n",
      " 25  ThirdLargestPropertyUseType      596 non-null    object \n",
      " 26  ThirdLargestPropertyUseTypeGFA   596 non-null    float64\n",
      " 27  YearsENERGYSTARCertified         119 non-null    object \n",
      " 28  ENERGYSTARScore                  2533 non-null   float64\n",
      " 29  SiteEUI(kBtu/sf)                 3369 non-null   float64\n",
      " 30  SiteEUIWN(kBtu/sf)               3370 non-null   float64\n",
      " 31  SourceEUI(kBtu/sf)               3367 non-null   float64\n",
      " 32  SourceEUIWN(kBtu/sf)             3367 non-null   float64\n",
      " 33  SiteEnergyUse(kBtu)              3371 non-null   float64\n",
      " 34  SiteEnergyUseWN(kBtu)            3370 non-null   float64\n",
      " 35  SteamUse(kBtu)                   3367 non-null   float64\n",
      " 36  Electricity(kWh)                 3367 non-null   float64\n",
      " 37  Electricity(kBtu)                3367 non-null   float64\n",
      " 38  NaturalGas(therms)               3367 non-null   float64\n",
      " 39  NaturalGas(kBtu)                 3367 non-null   float64\n",
      " 40  DefaultData                      3376 non-null   bool   \n",
      " 41  Comments                         0 non-null      float64\n",
      " 42  ComplianceStatus                 3376 non-null   object \n",
      " 43  Outlier                          32 non-null     object \n",
      " 44  TotalGHGEmissions                3367 non-null   float64\n",
      " 45  GHGEmissionsIntensity            3367 non-null   float64\n",
      "dtypes: bool(1), float64(22), int64(8), object(15)\n",
      "memory usage: 1.2+ MB\n"
     ]
    }
   ],
   "source": [
    "all_data.info()"
   ],
   "metadata": {
    "collapsed": false,
    "pycharm": {
     "name": "#%%\n"
    }
   }
  },
  {
   "cell_type": "code",
   "execution_count": 11,
   "outputs": [
    {
     "data": {
      "text/plain": "(3376,)"
     },
     "execution_count": 11,
     "metadata": {},
     "output_type": "execute_result"
    }
   ],
   "source": [
    "# Primary Key : OSEBuilding ID\n",
    "all_data[\"OSEBuildingID\"].unique().shape"
   ],
   "metadata": {
    "collapsed": false,
    "pycharm": {
     "name": "#%%\n"
    }
   }
  },
  {
   "cell_type": "code",
   "execution_count": null,
   "outputs": [],
   "source": [],
   "metadata": {
    "collapsed": false,
    "pycharm": {
     "name": "#%%\n"
    }
   }
  }
 ],
 "metadata": {
  "kernelspec": {
   "display_name": "Python 3",
   "language": "python",
   "name": "python3"
  },
  "language_info": {
   "codemirror_mode": {
    "name": "ipython",
    "version": 2
   },
   "file_extension": ".py",
   "mimetype": "text/x-python",
   "name": "python",
   "nbconvert_exporter": "python",
   "pygments_lexer": "ipython2",
   "version": "2.7.6"
  }
 },
 "nbformat": 4,
 "nbformat_minor": 0
}