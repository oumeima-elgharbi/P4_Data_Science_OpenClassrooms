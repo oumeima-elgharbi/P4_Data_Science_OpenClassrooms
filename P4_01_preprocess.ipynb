{
 "cells": [
  {
   "cell_type": "markdown",
   "source": [
    "CONTEXTE : Vous travaillez pour la ville de Seattle. Pour atteindre son objectif de ville neutre en émissions de carbone en 2050, votre équipe s’intéresse de près à la consommation et aux émissions des bâtiments non destinés à l’habitation.\n",
    "\n",
    "OBJECTIF : vous voulez tenter de prédire les émissions de CO2 et la consommation totale d’énergie de bâtiments non destinés à l’habitation pour lesquels elles n’ont pas encore été mesurées.\n",
    "\n",
    "NB : Votre prédiction se basera sur les données structurelles des bâtiments (taille et usage des bâtiments, date de construction, situation géographique, ...)\n",
    "\n",
    "\n",
    "TO DO :\n",
    "En + : Vous cherchez également à évaluer l’intérêt de l’\"ENERGY STAR Score\" pour la prédiction d’émissions, qui est fastidieux à calculer avec l’approche utilisée actuellement par votre équipe. Vous l'intégrerez dans la modélisation et jugerez de son intérêt.\n",
    "\n",
    "1) Réaliser une courte analyse exploratoire.\n",
    "2) Tester différents modèles de prédiction afin de répondre au mieux à la problématique.\n",
    "\n",
    "\n",
    "CONSEILS :\n",
    "L’objectif est de te passer des relevés de consommation annuels futurs (attention à la fuite de données / DATA LEAKS). Nous ferons de toute façon pour tout nouveau bâtiment un premier relevé de référence la première année, donc rien ne t'interdit d’en déduire des variables structurelles aux bâtiments, par exemple la nature et proportions des sources d’énergie utilisées..\n",
    "\n",
    "Fais bien attention au traitement des différentes variables, à la fois pour trouver de nouvelles informations (peut-on déduire des choses intéressantes d’une simple adresse ?) et optimiser les performances en appliquant des transformations simples aux variables (normalisation, passage au log, etc.).\n",
    "\n",
    "Mets en place une évaluation rigoureuse des performances de la régression, et optimise les hyperparamètres et le choix d’algorithmes de ML à l’aide d’une validation croisée."
   ],
   "metadata": {
    "collapsed": false,
    "pycharm": {
     "name": "#%% md\n"
    }
   }
  },
  {
   "cell_type": "markdown",
   "source": [
    "fuite des données ? :"
   ],
   "metadata": {
    "collapsed": false,
    "pycharm": {
     "name": "#%% md\n"
    }
   }
  },
  {
   "cell_type": "code",
   "execution_count": 42,
   "metadata": {
    "collapsed": true,
    "pycharm": {
     "name": "#%%\n"
    }
   },
   "outputs": [
    {
     "data": {
      "application/javascript": "IPython.notebook.set_autosave_interval(300000)"
     },
     "metadata": {},
     "output_type": "display_data"
    },
    {
     "name": "stdout",
     "output_type": "stream",
     "text": [
      "Autosaving every 300 seconds\n"
     ]
    }
   ],
   "source": [
    "%reset -f\n",
    "%matplotlib inline\n",
    "%autosave 300\n",
    "\n",
    "import pandas as pd\n",
    "import numpy as np\n",
    "import seaborn as sns\n"
   ]
  },
  {
   "cell_type": "code",
   "execution_count": 43,
   "outputs": [
    {
     "data": {
      "text/plain": "      OSEBuildingID  DataYear        BuildingType PrimaryPropertyType  \\\n0                 1      2016      NonResidential               Hotel   \n1                 2      2016      NonResidential               Hotel   \n2                 3      2016      NonResidential               Hotel   \n3                 5      2016      NonResidential               Hotel   \n4                 8      2016      NonResidential               Hotel   \n...             ...       ...                 ...                 ...   \n3371          50222      2016  Nonresidential COS              Office   \n3372          50223      2016  Nonresidential COS               Other   \n3373          50224      2016  Nonresidential COS               Other   \n3374          50225      2016  Nonresidential COS  Mixed Use Property   \n3375          50226      2016  Nonresidential COS  Mixed Use Property   \n\n                             PropertyName           Address     City State  \\\n0                    Mayflower park hotel     405 Olive way  Seattle    WA   \n1                         Paramount Hotel   724 Pine street  Seattle    WA   \n2                 5673-The Westin Seattle   1900 5th Avenue  Seattle    WA   \n3                               HOTEL MAX    620 STEWART ST  Seattle    WA   \n4             WARWICK SEATTLE HOTEL (ID8)     401 LENORA ST  Seattle    WA   \n...                                   ...               ...      ...   ...   \n3371                Horticulture building  1600 S Dakota St  Seattle    WA   \n3372  International district/Chinatown CC     719 8th Ave S  Seattle    WA   \n3373                      Queen Anne Pool    1920 1st Ave W  Seattle    WA   \n3374          South Park Community Center    8319 8th Ave S  Seattle    WA   \n3375          Van Asselt Community Center  2820 S Myrtle St  Seattle    WA   \n\n         ZipCode TaxParcelIdentificationNumber  ...  Electricity(kWh)  \\\n0    98101.00000                    0659000030  ...     1156514.25000   \n1    98101.00000                    0659000220  ...      950425.18750   \n2    98101.00000                    0659000475  ...    14515435.00000   \n3    98101.00000                    0659000640  ...      811525.31250   \n4    98121.00000                    0659000970  ...     1573448.62500   \n...          ...                           ...  ...               ...   \n3371         NaN                    1624049080  ...      153655.00000   \n3372         NaN                    3558300000  ...      116221.00000   \n3373         NaN                    1794501150  ...      525251.68750   \n3374         NaN                    7883603155  ...      102248.00000   \n3375         NaN                    7857002030  ...      126774.39840   \n\n     Electricity(kBtu)  NaturalGas(therms)  NaturalGas(kBtu)  DefaultData  \\\n0        3946027.00000         12764.52930     1276453.00000        False   \n1        3242851.00000         51450.81641     5145082.00000        False   \n2       49526664.00000         14938.00000     1493800.00000        False   \n3        2768924.00000         18112.13086     1811213.00000        False   \n4        5368607.00000         88039.98438     8803998.00000        False   \n...                ...                 ...               ...          ...   \n3371      524270.86000          3254.75024      325475.02440         True   \n3372      396546.05200          5537.29980      553729.98050        False   \n3373     1792158.75800         39737.39063     3973739.06300        False   \n3374      348870.17600          3706.01001      370601.00100        False   \n3375      432554.24750          7203.41992      720341.99220        False   \n\n      Comments              ComplianceStatus  Outlier  TotalGHGEmissions  \\\n0          NaN                     Compliant      NaN          249.98000   \n1          NaN                     Compliant      NaN          295.86000   \n2          NaN                     Compliant      NaN         2089.28000   \n3          NaN                     Compliant      NaN          286.43000   \n4          NaN                     Compliant      NaN          505.01000   \n...        ...                           ...      ...                ...   \n3371       NaN  Error - Correct Default Data      NaN           20.94000   \n3372       NaN                     Compliant      NaN           32.17000   \n3373       NaN                     Compliant      NaN          223.54000   \n3374       NaN                     Compliant      NaN           22.11000   \n3375       NaN                     Compliant      NaN           41.27000   \n\n      GHGEmissionsIntensity  \n0                   2.83000  \n1                   2.86000  \n2                   2.19000  \n3                   4.67000  \n4                   2.88000  \n...                     ...  \n3371                1.70000  \n3372                2.01000  \n3373               16.99000  \n3374                1.57000  \n3375                2.26000  \n\n[3376 rows x 46 columns]",
      "text/html": "<div>\n<style scoped>\n    .dataframe tbody tr th:only-of-type {\n        vertical-align: middle;\n    }\n\n    .dataframe tbody tr th {\n        vertical-align: top;\n    }\n\n    .dataframe thead th {\n        text-align: right;\n    }\n</style>\n<table border=\"1\" class=\"dataframe\">\n  <thead>\n    <tr style=\"text-align: right;\">\n      <th></th>\n      <th>OSEBuildingID</th>\n      <th>DataYear</th>\n      <th>BuildingType</th>\n      <th>PrimaryPropertyType</th>\n      <th>PropertyName</th>\n      <th>Address</th>\n      <th>City</th>\n      <th>State</th>\n      <th>ZipCode</th>\n      <th>TaxParcelIdentificationNumber</th>\n      <th>...</th>\n      <th>Electricity(kWh)</th>\n      <th>Electricity(kBtu)</th>\n      <th>NaturalGas(therms)</th>\n      <th>NaturalGas(kBtu)</th>\n      <th>DefaultData</th>\n      <th>Comments</th>\n      <th>ComplianceStatus</th>\n      <th>Outlier</th>\n      <th>TotalGHGEmissions</th>\n      <th>GHGEmissionsIntensity</th>\n    </tr>\n  </thead>\n  <tbody>\n    <tr>\n      <th>0</th>\n      <td>1</td>\n      <td>2016</td>\n      <td>NonResidential</td>\n      <td>Hotel</td>\n      <td>Mayflower park hotel</td>\n      <td>405 Olive way</td>\n      <td>Seattle</td>\n      <td>WA</td>\n      <td>98101.00000</td>\n      <td>0659000030</td>\n      <td>...</td>\n      <td>1156514.25000</td>\n      <td>3946027.00000</td>\n      <td>12764.52930</td>\n      <td>1276453.00000</td>\n      <td>False</td>\n      <td>NaN</td>\n      <td>Compliant</td>\n      <td>NaN</td>\n      <td>249.98000</td>\n      <td>2.83000</td>\n    </tr>\n    <tr>\n      <th>1</th>\n      <td>2</td>\n      <td>2016</td>\n      <td>NonResidential</td>\n      <td>Hotel</td>\n      <td>Paramount Hotel</td>\n      <td>724 Pine street</td>\n      <td>Seattle</td>\n      <td>WA</td>\n      <td>98101.00000</td>\n      <td>0659000220</td>\n      <td>...</td>\n      <td>950425.18750</td>\n      <td>3242851.00000</td>\n      <td>51450.81641</td>\n      <td>5145082.00000</td>\n      <td>False</td>\n      <td>NaN</td>\n      <td>Compliant</td>\n      <td>NaN</td>\n      <td>295.86000</td>\n      <td>2.86000</td>\n    </tr>\n    <tr>\n      <th>2</th>\n      <td>3</td>\n      <td>2016</td>\n      <td>NonResidential</td>\n      <td>Hotel</td>\n      <td>5673-The Westin Seattle</td>\n      <td>1900 5th Avenue</td>\n      <td>Seattle</td>\n      <td>WA</td>\n      <td>98101.00000</td>\n      <td>0659000475</td>\n      <td>...</td>\n      <td>14515435.00000</td>\n      <td>49526664.00000</td>\n      <td>14938.00000</td>\n      <td>1493800.00000</td>\n      <td>False</td>\n      <td>NaN</td>\n      <td>Compliant</td>\n      <td>NaN</td>\n      <td>2089.28000</td>\n      <td>2.19000</td>\n    </tr>\n    <tr>\n      <th>3</th>\n      <td>5</td>\n      <td>2016</td>\n      <td>NonResidential</td>\n      <td>Hotel</td>\n      <td>HOTEL MAX</td>\n      <td>620 STEWART ST</td>\n      <td>Seattle</td>\n      <td>WA</td>\n      <td>98101.00000</td>\n      <td>0659000640</td>\n      <td>...</td>\n      <td>811525.31250</td>\n      <td>2768924.00000</td>\n      <td>18112.13086</td>\n      <td>1811213.00000</td>\n      <td>False</td>\n      <td>NaN</td>\n      <td>Compliant</td>\n      <td>NaN</td>\n      <td>286.43000</td>\n      <td>4.67000</td>\n    </tr>\n    <tr>\n      <th>4</th>\n      <td>8</td>\n      <td>2016</td>\n      <td>NonResidential</td>\n      <td>Hotel</td>\n      <td>WARWICK SEATTLE HOTEL (ID8)</td>\n      <td>401 LENORA ST</td>\n      <td>Seattle</td>\n      <td>WA</td>\n      <td>98121.00000</td>\n      <td>0659000970</td>\n      <td>...</td>\n      <td>1573448.62500</td>\n      <td>5368607.00000</td>\n      <td>88039.98438</td>\n      <td>8803998.00000</td>\n      <td>False</td>\n      <td>NaN</td>\n      <td>Compliant</td>\n      <td>NaN</td>\n      <td>505.01000</td>\n      <td>2.88000</td>\n    </tr>\n    <tr>\n      <th>...</th>\n      <td>...</td>\n      <td>...</td>\n      <td>...</td>\n      <td>...</td>\n      <td>...</td>\n      <td>...</td>\n      <td>...</td>\n      <td>...</td>\n      <td>...</td>\n      <td>...</td>\n      <td>...</td>\n      <td>...</td>\n      <td>...</td>\n      <td>...</td>\n      <td>...</td>\n      <td>...</td>\n      <td>...</td>\n      <td>...</td>\n      <td>...</td>\n      <td>...</td>\n      <td>...</td>\n    </tr>\n    <tr>\n      <th>3371</th>\n      <td>50222</td>\n      <td>2016</td>\n      <td>Nonresidential COS</td>\n      <td>Office</td>\n      <td>Horticulture building</td>\n      <td>1600 S Dakota St</td>\n      <td>Seattle</td>\n      <td>WA</td>\n      <td>NaN</td>\n      <td>1624049080</td>\n      <td>...</td>\n      <td>153655.00000</td>\n      <td>524270.86000</td>\n      <td>3254.75024</td>\n      <td>325475.02440</td>\n      <td>True</td>\n      <td>NaN</td>\n      <td>Error - Correct Default Data</td>\n      <td>NaN</td>\n      <td>20.94000</td>\n      <td>1.70000</td>\n    </tr>\n    <tr>\n      <th>3372</th>\n      <td>50223</td>\n      <td>2016</td>\n      <td>Nonresidential COS</td>\n      <td>Other</td>\n      <td>International district/Chinatown CC</td>\n      <td>719 8th Ave S</td>\n      <td>Seattle</td>\n      <td>WA</td>\n      <td>NaN</td>\n      <td>3558300000</td>\n      <td>...</td>\n      <td>116221.00000</td>\n      <td>396546.05200</td>\n      <td>5537.29980</td>\n      <td>553729.98050</td>\n      <td>False</td>\n      <td>NaN</td>\n      <td>Compliant</td>\n      <td>NaN</td>\n      <td>32.17000</td>\n      <td>2.01000</td>\n    </tr>\n    <tr>\n      <th>3373</th>\n      <td>50224</td>\n      <td>2016</td>\n      <td>Nonresidential COS</td>\n      <td>Other</td>\n      <td>Queen Anne Pool</td>\n      <td>1920 1st Ave W</td>\n      <td>Seattle</td>\n      <td>WA</td>\n      <td>NaN</td>\n      <td>1794501150</td>\n      <td>...</td>\n      <td>525251.68750</td>\n      <td>1792158.75800</td>\n      <td>39737.39063</td>\n      <td>3973739.06300</td>\n      <td>False</td>\n      <td>NaN</td>\n      <td>Compliant</td>\n      <td>NaN</td>\n      <td>223.54000</td>\n      <td>16.99000</td>\n    </tr>\n    <tr>\n      <th>3374</th>\n      <td>50225</td>\n      <td>2016</td>\n      <td>Nonresidential COS</td>\n      <td>Mixed Use Property</td>\n      <td>South Park Community Center</td>\n      <td>8319 8th Ave S</td>\n      <td>Seattle</td>\n      <td>WA</td>\n      <td>NaN</td>\n      <td>7883603155</td>\n      <td>...</td>\n      <td>102248.00000</td>\n      <td>348870.17600</td>\n      <td>3706.01001</td>\n      <td>370601.00100</td>\n      <td>False</td>\n      <td>NaN</td>\n      <td>Compliant</td>\n      <td>NaN</td>\n      <td>22.11000</td>\n      <td>1.57000</td>\n    </tr>\n    <tr>\n      <th>3375</th>\n      <td>50226</td>\n      <td>2016</td>\n      <td>Nonresidential COS</td>\n      <td>Mixed Use Property</td>\n      <td>Van Asselt Community Center</td>\n      <td>2820 S Myrtle St</td>\n      <td>Seattle</td>\n      <td>WA</td>\n      <td>NaN</td>\n      <td>7857002030</td>\n      <td>...</td>\n      <td>126774.39840</td>\n      <td>432554.24750</td>\n      <td>7203.41992</td>\n      <td>720341.99220</td>\n      <td>False</td>\n      <td>NaN</td>\n      <td>Compliant</td>\n      <td>NaN</td>\n      <td>41.27000</td>\n      <td>2.26000</td>\n    </tr>\n  </tbody>\n</table>\n<p>3376 rows × 46 columns</p>\n</div>"
     },
     "metadata": {},
     "output_type": "display_data"
    }
   ],
   "source": [
    "# load raw dataset\n",
    "#all_data = pd.read_csv(\"dataset/2016_Building_Energy_Benchmarking.csv\", sep = ',', encoding = 'utf-8')\n",
    "all_data = pd.read_csv(\"dataset/2016_Building_Energy_Benchmarking.csv\")\n",
    "\n",
    "display(all_data)"
   ],
   "metadata": {
    "collapsed": false,
    "pycharm": {
     "name": "#%%\n"
    }
   }
  },
  {
   "cell_type": "markdown",
   "source": [
    "What's in this Dataset?\n",
    "Rows : 3,376\n",
    "Columns : 46\n",
    "Each row is a : Building\n",
    "\n",
    "\n",
    "source : https://data.seattle.gov/dataset/2016-Building-Energy-Benchmarking/2bpz-gwpy"
   ],
   "metadata": {
    "collapsed": false,
    "pycharm": {
     "name": "#%% md\n"
    }
   }
  },
  {
   "cell_type": "code",
   "execution_count": 44,
   "outputs": [
    {
     "name": "stdout",
     "output_type": "stream",
     "text": [
      "<class 'pandas.core.frame.DataFrame'>\n",
      "RangeIndex: 3376 entries, 0 to 3375\n",
      "Data columns (total 46 columns):\n",
      " #   Column                           Non-Null Count  Dtype  \n",
      "---  ------                           --------------  -----  \n",
      " 0   OSEBuildingID                    3376 non-null   int64  \n",
      " 1   DataYear                         3376 non-null   int64  \n",
      " 2   BuildingType                     3376 non-null   object \n",
      " 3   PrimaryPropertyType              3376 non-null   object \n",
      " 4   PropertyName                     3376 non-null   object \n",
      " 5   Address                          3376 non-null   object \n",
      " 6   City                             3376 non-null   object \n",
      " 7   State                            3376 non-null   object \n",
      " 8   ZipCode                          3360 non-null   float64\n",
      " 9   TaxParcelIdentificationNumber    3376 non-null   object \n",
      " 10  CouncilDistrictCode              3376 non-null   int64  \n",
      " 11  Neighborhood                     3376 non-null   object \n",
      " 12  Latitude                         3376 non-null   float64\n",
      " 13  Longitude                        3376 non-null   float64\n",
      " 14  YearBuilt                        3376 non-null   int64  \n",
      " 15  NumberofBuildings                3368 non-null   float64\n",
      " 16  NumberofFloors                   3376 non-null   int64  \n",
      " 17  PropertyGFATotal                 3376 non-null   int64  \n",
      " 18  PropertyGFAParking               3376 non-null   int64  \n",
      " 19  PropertyGFABuilding(s)           3376 non-null   int64  \n",
      " 20  ListOfAllPropertyUseTypes        3367 non-null   object \n",
      " 21  LargestPropertyUseType           3356 non-null   object \n",
      " 22  LargestPropertyUseTypeGFA        3356 non-null   float64\n",
      " 23  SecondLargestPropertyUseType     1679 non-null   object \n",
      " 24  SecondLargestPropertyUseTypeGFA  1679 non-null   float64\n",
      " 25  ThirdLargestPropertyUseType      596 non-null    object \n",
      " 26  ThirdLargestPropertyUseTypeGFA   596 non-null    float64\n",
      " 27  YearsENERGYSTARCertified         119 non-null    object \n",
      " 28  ENERGYSTARScore                  2533 non-null   float64\n",
      " 29  SiteEUI(kBtu/sf)                 3369 non-null   float64\n",
      " 30  SiteEUIWN(kBtu/sf)               3370 non-null   float64\n",
      " 31  SourceEUI(kBtu/sf)               3367 non-null   float64\n",
      " 32  SourceEUIWN(kBtu/sf)             3367 non-null   float64\n",
      " 33  SiteEnergyUse(kBtu)              3371 non-null   float64\n",
      " 34  SiteEnergyUseWN(kBtu)            3370 non-null   float64\n",
      " 35  SteamUse(kBtu)                   3367 non-null   float64\n",
      " 36  Electricity(kWh)                 3367 non-null   float64\n",
      " 37  Electricity(kBtu)                3367 non-null   float64\n",
      " 38  NaturalGas(therms)               3367 non-null   float64\n",
      " 39  NaturalGas(kBtu)                 3367 non-null   float64\n",
      " 40  DefaultData                      3376 non-null   bool   \n",
      " 41  Comments                         0 non-null      float64\n",
      " 42  ComplianceStatus                 3376 non-null   object \n",
      " 43  Outlier                          32 non-null     object \n",
      " 44  TotalGHGEmissions                3367 non-null   float64\n",
      " 45  GHGEmissionsIntensity            3367 non-null   float64\n",
      "dtypes: bool(1), float64(22), int64(8), object(15)\n",
      "memory usage: 1.2+ MB\n"
     ]
    }
   ],
   "source": [
    "all_data.info()"
   ],
   "metadata": {
    "collapsed": false,
    "pycharm": {
     "name": "#%%\n"
    }
   }
  },
  {
   "cell_type": "code",
   "execution_count": 45,
   "outputs": [
    {
     "data": {
      "text/plain": "(3376,)"
     },
     "execution_count": 45,
     "metadata": {},
     "output_type": "execute_result"
    }
   ],
   "source": [
    "# Primary Key : OSEBuilding ID\n",
    "all_data[\"OSEBuildingID\"].unique().shape"
   ],
   "metadata": {
    "collapsed": false,
    "pycharm": {
     "name": "#%%\n"
    }
   }
  },
  {
   "cell_type": "code",
   "execution_count": 46,
   "outputs": [
    {
     "data": {
      "text/plain": "       OSEBuildingID   DataYear     ZipCode  CouncilDistrictCode   Latitude  \\\ncount     3376.00000 3376.00000  3360.00000           3376.00000 3376.00000   \nmean     21208.99111 2016.00000 98116.94911              4.43928   47.62403   \nstd      12223.75701    0.00000    18.61520              2.12063    0.04776   \nmin          1.00000 2016.00000 98006.00000              1.00000   47.49917   \n25%      19990.75000 2016.00000 98105.00000              3.00000   47.59986   \n50%      23112.00000 2016.00000 98115.00000              4.00000   47.61867   \n75%      25994.25000 2016.00000 98122.00000              7.00000   47.65712   \nmax      50226.00000 2016.00000 98272.00000              7.00000   47.73387   \n\n       Longitude  YearBuilt  NumberofBuildings  NumberofFloors  \\\ncount 3376.00000 3376.00000         3368.00000      3376.00000   \nmean  -122.33480 1968.57316            1.10689         4.70912   \nstd      0.02720   33.08816            2.10840         5.49446   \nmin   -122.41425 1900.00000            0.00000         0.00000   \n25%   -122.35066 1948.00000            1.00000         2.00000   \n50%   -122.33249 1975.00000            1.00000         4.00000   \n75%   -122.31941 1997.00000            1.00000         5.00000   \nmax   -122.22097 2015.00000          111.00000        99.00000   \n\n       PropertyGFATotal  ...  SiteEnergyUse(kBtu)  SiteEnergyUseWN(kBtu)  \\\ncount        3376.00000  ...           3371.00000             3370.00000   \nmean        94833.53732  ...        5403667.29453          5276725.71439   \nstd        218837.60712  ...       21610628.62764         15938786.48412   \nmin         11285.00000  ...              0.00000                0.00000   \n25%         28487.00000  ...         925128.59375           970182.23438   \n50%         44175.00000  ...        1803753.25000          1904452.00000   \n75%         90992.00000  ...        4222455.25000          4381429.12500   \nmax       9320156.00000  ...      873923712.00000        471613856.00000   \n\n       SteamUse(kBtu)  Electricity(kWh)  Electricity(kBtu)  \\\ncount      3367.00000        3367.00000         3367.00000   \nmean     274595.89821     1086638.96657      3707612.16159   \nstd     3912173.39270     4352478.35521     14850656.13896   \nmin           0.00000      -33826.80078      -115417.00000   \n25%           0.00000      187422.94535       639487.00000   \n50%           0.00000      345129.90630      1177583.00000   \n75%           0.00000      829317.84375      2829632.50000   \nmax   134943456.00000   192577488.00000    657074389.00000   \n\n       NaturalGas(therms)  NaturalGas(kBtu)  Comments  TotalGHGEmissions  \\\ncount          3367.00000        3367.00000   0.00000         3367.00000   \nmean          13685.04538     1368504.54144       NaN          119.72397   \nstd           67097.80830     6709780.83488       NaN          538.83223   \nmin               0.00000           0.00000       NaN           -0.80000   \n25%               0.00000           0.00000       NaN            9.49500   \n50%            3237.53760      323754.00000       NaN           33.92000   \n75%           11890.33496     1189033.50000       NaN           93.94000   \nmax         2979090.00000   297909000.00000       NaN        16870.98000   \n\n       GHGEmissionsIntensity  \ncount             3367.00000  \nmean                 1.17592  \nstd                  1.82145  \nmin                 -0.02000  \n25%                  0.21000  \n50%                  0.61000  \n75%                  1.37000  \nmax                 34.09000  \n\n[8 rows x 30 columns]",
      "text/html": "<div>\n<style scoped>\n    .dataframe tbody tr th:only-of-type {\n        vertical-align: middle;\n    }\n\n    .dataframe tbody tr th {\n        vertical-align: top;\n    }\n\n    .dataframe thead th {\n        text-align: right;\n    }\n</style>\n<table border=\"1\" class=\"dataframe\">\n  <thead>\n    <tr style=\"text-align: right;\">\n      <th></th>\n      <th>OSEBuildingID</th>\n      <th>DataYear</th>\n      <th>ZipCode</th>\n      <th>CouncilDistrictCode</th>\n      <th>Latitude</th>\n      <th>Longitude</th>\n      <th>YearBuilt</th>\n      <th>NumberofBuildings</th>\n      <th>NumberofFloors</th>\n      <th>PropertyGFATotal</th>\n      <th>...</th>\n      <th>SiteEnergyUse(kBtu)</th>\n      <th>SiteEnergyUseWN(kBtu)</th>\n      <th>SteamUse(kBtu)</th>\n      <th>Electricity(kWh)</th>\n      <th>Electricity(kBtu)</th>\n      <th>NaturalGas(therms)</th>\n      <th>NaturalGas(kBtu)</th>\n      <th>Comments</th>\n      <th>TotalGHGEmissions</th>\n      <th>GHGEmissionsIntensity</th>\n    </tr>\n  </thead>\n  <tbody>\n    <tr>\n      <th>count</th>\n      <td>3376.00000</td>\n      <td>3376.00000</td>\n      <td>3360.00000</td>\n      <td>3376.00000</td>\n      <td>3376.00000</td>\n      <td>3376.00000</td>\n      <td>3376.00000</td>\n      <td>3368.00000</td>\n      <td>3376.00000</td>\n      <td>3376.00000</td>\n      <td>...</td>\n      <td>3371.00000</td>\n      <td>3370.00000</td>\n      <td>3367.00000</td>\n      <td>3367.00000</td>\n      <td>3367.00000</td>\n      <td>3367.00000</td>\n      <td>3367.00000</td>\n      <td>0.00000</td>\n      <td>3367.00000</td>\n      <td>3367.00000</td>\n    </tr>\n    <tr>\n      <th>mean</th>\n      <td>21208.99111</td>\n      <td>2016.00000</td>\n      <td>98116.94911</td>\n      <td>4.43928</td>\n      <td>47.62403</td>\n      <td>-122.33480</td>\n      <td>1968.57316</td>\n      <td>1.10689</td>\n      <td>4.70912</td>\n      <td>94833.53732</td>\n      <td>...</td>\n      <td>5403667.29453</td>\n      <td>5276725.71439</td>\n      <td>274595.89821</td>\n      <td>1086638.96657</td>\n      <td>3707612.16159</td>\n      <td>13685.04538</td>\n      <td>1368504.54144</td>\n      <td>NaN</td>\n      <td>119.72397</td>\n      <td>1.17592</td>\n    </tr>\n    <tr>\n      <th>std</th>\n      <td>12223.75701</td>\n      <td>0.00000</td>\n      <td>18.61520</td>\n      <td>2.12063</td>\n      <td>0.04776</td>\n      <td>0.02720</td>\n      <td>33.08816</td>\n      <td>2.10840</td>\n      <td>5.49446</td>\n      <td>218837.60712</td>\n      <td>...</td>\n      <td>21610628.62764</td>\n      <td>15938786.48412</td>\n      <td>3912173.39270</td>\n      <td>4352478.35521</td>\n      <td>14850656.13896</td>\n      <td>67097.80830</td>\n      <td>6709780.83488</td>\n      <td>NaN</td>\n      <td>538.83223</td>\n      <td>1.82145</td>\n    </tr>\n    <tr>\n      <th>min</th>\n      <td>1.00000</td>\n      <td>2016.00000</td>\n      <td>98006.00000</td>\n      <td>1.00000</td>\n      <td>47.49917</td>\n      <td>-122.41425</td>\n      <td>1900.00000</td>\n      <td>0.00000</td>\n      <td>0.00000</td>\n      <td>11285.00000</td>\n      <td>...</td>\n      <td>0.00000</td>\n      <td>0.00000</td>\n      <td>0.00000</td>\n      <td>-33826.80078</td>\n      <td>-115417.00000</td>\n      <td>0.00000</td>\n      <td>0.00000</td>\n      <td>NaN</td>\n      <td>-0.80000</td>\n      <td>-0.02000</td>\n    </tr>\n    <tr>\n      <th>25%</th>\n      <td>19990.75000</td>\n      <td>2016.00000</td>\n      <td>98105.00000</td>\n      <td>3.00000</td>\n      <td>47.59986</td>\n      <td>-122.35066</td>\n      <td>1948.00000</td>\n      <td>1.00000</td>\n      <td>2.00000</td>\n      <td>28487.00000</td>\n      <td>...</td>\n      <td>925128.59375</td>\n      <td>970182.23438</td>\n      <td>0.00000</td>\n      <td>187422.94535</td>\n      <td>639487.00000</td>\n      <td>0.00000</td>\n      <td>0.00000</td>\n      <td>NaN</td>\n      <td>9.49500</td>\n      <td>0.21000</td>\n    </tr>\n    <tr>\n      <th>50%</th>\n      <td>23112.00000</td>\n      <td>2016.00000</td>\n      <td>98115.00000</td>\n      <td>4.00000</td>\n      <td>47.61867</td>\n      <td>-122.33249</td>\n      <td>1975.00000</td>\n      <td>1.00000</td>\n      <td>4.00000</td>\n      <td>44175.00000</td>\n      <td>...</td>\n      <td>1803753.25000</td>\n      <td>1904452.00000</td>\n      <td>0.00000</td>\n      <td>345129.90630</td>\n      <td>1177583.00000</td>\n      <td>3237.53760</td>\n      <td>323754.00000</td>\n      <td>NaN</td>\n      <td>33.92000</td>\n      <td>0.61000</td>\n    </tr>\n    <tr>\n      <th>75%</th>\n      <td>25994.25000</td>\n      <td>2016.00000</td>\n      <td>98122.00000</td>\n      <td>7.00000</td>\n      <td>47.65712</td>\n      <td>-122.31941</td>\n      <td>1997.00000</td>\n      <td>1.00000</td>\n      <td>5.00000</td>\n      <td>90992.00000</td>\n      <td>...</td>\n      <td>4222455.25000</td>\n      <td>4381429.12500</td>\n      <td>0.00000</td>\n      <td>829317.84375</td>\n      <td>2829632.50000</td>\n      <td>11890.33496</td>\n      <td>1189033.50000</td>\n      <td>NaN</td>\n      <td>93.94000</td>\n      <td>1.37000</td>\n    </tr>\n    <tr>\n      <th>max</th>\n      <td>50226.00000</td>\n      <td>2016.00000</td>\n      <td>98272.00000</td>\n      <td>7.00000</td>\n      <td>47.73387</td>\n      <td>-122.22097</td>\n      <td>2015.00000</td>\n      <td>111.00000</td>\n      <td>99.00000</td>\n      <td>9320156.00000</td>\n      <td>...</td>\n      <td>873923712.00000</td>\n      <td>471613856.00000</td>\n      <td>134943456.00000</td>\n      <td>192577488.00000</td>\n      <td>657074389.00000</td>\n      <td>2979090.00000</td>\n      <td>297909000.00000</td>\n      <td>NaN</td>\n      <td>16870.98000</td>\n      <td>34.09000</td>\n    </tr>\n  </tbody>\n</table>\n<p>8 rows × 30 columns</p>\n</div>"
     },
     "execution_count": 46,
     "metadata": {},
     "output_type": "execute_result"
    }
   ],
   "source": [
    "pd.set_option('display.float_format', lambda x: '%.5f' % x)\n",
    "all_data.describe()"
   ],
   "metadata": {
    "collapsed": false,
    "pycharm": {
     "name": "#%%\n"
    }
   }
  },
  {
   "cell_type": "code",
   "execution_count": 47,
   "outputs": [
    {
     "data": {
      "text/plain": "['Hotel',\n 'Hotel, Parking, Restaurant',\n 'Hotel, Parking, Swimming Pool',\n 'Police Station',\n 'Other - Entertainment/Public Assembly',\n 'Multifamily Housing',\n 'Hotel, Parking',\n 'Data Center, Library, Parking',\n 'Fitness Center/Health Club/Gym, Office, Swimming Pool',\n 'Office, Other, Other - Lodging/Residential, Restaurant, Social/Meeting Hall',\n 'Courthouse',\n 'Other',\n 'K-12 School',\n 'College/University',\n 'Automobile Dealership',\n 'Hotel, Parking, Retail Store, Swimming Pool',\n 'K-12 School, Multifamily Housing, Office, Other - Entertainment/Public Assembly',\n 'Self-Storage Facility',\n 'Energy/Power Station, Laboratory, Manufacturing/Industrial Plant, Non-Refrigerated Warehouse, Office',\n 'Non-Refrigerated Warehouse, Office, Refrigerated Warehouse',\n 'Non-Refrigerated Warehouse, Office',\n 'Office, Other - Education',\n 'Office, Self-Storage Facility, Vocational School',\n 'Data Center, Office, Retail Store',\n 'Other - Mall, Personal Services (Health/Beauty, Dry Cleaning, etc)',\n 'Office, Retail Store',\n 'Office, Other - Entertainment/Public Assembly, Restaurant',\n 'Hotel, Parking, Restaurant, Retail Store',\n 'Hotel, Other - Entertainment/Public Assembly, Retail Store',\n 'Office',\n 'Parking, Senior Care Community',\n 'Senior Care Community',\n 'Medical Office',\n 'Data Center, Medical Office, Non-Refrigerated Warehouse, Office, Other, Parking',\n 'Retail Store',\n 'Office, Other, Parking, Retail Store',\n 'Office, Other, Parking',\n 'Data Center, Distribution Center, Office, Parking, Retail Store',\n 'Hotel, Swimming Pool',\n 'Office, Parking',\n 'Other, Parking',\n 'Hospital (General Medical & Surgical), Parking',\n 'Office, Other',\n 'Museum',\n 'Data Center, Office',\n 'Repair Services (Vehicle, Shoe, Locksmith, etc)',\n 'Food Service, Office, Other - Lodging/Residential',\n 'Residence Hall/Dormitory',\n 'K-12 School, Parking',\n 'Courthouse, Other',\n 'Non-Refrigerated Warehouse, Office, Other - Services',\n 'Restaurant, Retail Store',\n 'Other/Specialty Hospital',\n 'Hospital (General Medical & Surgical)',\n 'Financial Office, Medical Office, Parking',\n 'Non-Refrigerated Warehouse',\n 'Non-Refrigerated Warehouse, Office, Other - Services, Residence Hall/Dormitory',\n 'Data Center, Distribution Center, Office, Other, Parking',\n 'Office, Restaurant, Self-Storage Facility',\n 'Other - Entertainment/Public Assembly, Parking',\n 'Data Center, Distribution Center, Office, Other',\n 'Non-Refrigerated Warehouse, Office, Other, Other - Services',\n 'Food Service, Hotel, Parking',\n 'Laboratory, Non-Refrigerated Warehouse, Office, Other - Utility',\n 'Fast Food Restaurant, Medical Office, Movie Theater, Parking, Retail Store',\n 'Financial Office, Multifamily Housing, Parking, Retail Store, Supermarket/Grocery Store',\n 'Multifamily Housing, Office, Other - Lodging/Residential, Retail Store',\n 'Hotel, Other, Parking, Restaurant, Retail Store',\n 'Non-Refrigerated Warehouse, Parking',\n 'K-12 School, Medical Office, Office, Restaurant, Retail Store, Senior Care Community',\n 'Office, Restaurant',\n 'Worship Facility',\n 'Office, Other, Other - Entertainment/Public Assembly',\n 'Office, Residence Hall/Dormitory, Retail Store',\n 'Medical Office, Multifamily Housing, Office, Retail Store',\n 'Medical Office, Office',\n 'Other, Restaurant, Retail Store',\n 'Non-Refrigerated Warehouse, Other - Services',\n 'Financial Office, Laboratory, Office, Parking',\n 'Lifestyle Center, Office, Other, Parking, Restaurant',\n 'Office, Parking, Restaurant',\n 'Office, Other - Recreation, Parking, Retail Store',\n 'Fitness Center/Health Club/Gym, Office, Other, Parking, Restaurant',\n 'Office, Retail Store, Social/Meeting Hall',\n 'Convenience Store without Gas Station, Food Service, Office',\n 'Office, Parking, Pre-school/Daycare',\n 'Data Center, Office, Parking',\n 'Financial Office, Food Sales, Office, Other, Parking',\n 'Convenience Store without Gas Station, Data Center, Financial Office, Fitness Center/Health Club/Gym, Office, Other, Parking, Personal Services (Health/Beauty, Dry Cleaning, etc), Restaurant',\n 'Financial Office, Office, Parking, Retail Store',\n 'Non-Refrigerated Warehouse, Office, Retail Store',\n 'Data Center, Office, Other',\n 'Office, Other, Parking, Restaurant',\n 'Data Center',\n 'Fitness Center/Health Club/Gym, Office, Parking',\n 'Laboratory, Office, Parking',\n 'Office, Other, Other - Restaurant/Bar, Parking',\n 'Laboratory, Office, Other, Parking',\n 'Supermarket/Grocery Store',\n 'Office, Other, Restaurant',\n 'Office, Other - Restaurant/Bar, Retail Store, Single Family Home',\n 'Non-Refrigerated Warehouse, Other',\n 'Office, Performing Arts, Retail Store',\n 'Office, Other - Restaurant/Bar, Parking',\n 'Office, Other - Education, Parking',\n 'Financial Office, Office, Other, Parking, Restaurant',\n 'Distribution Center, Non-Refrigerated Warehouse, Office',\n 'Office, Parking, Personal Services (Health/Beauty, Dry Cleaning, etc)',\n 'College/University, Office, Restaurant',\n 'Financial Office, Office, Other, Parking, Restaurant, Retail Store',\n 'Office, Parking, Retail Store',\n 'Office, Other, Retail Store',\n 'Office, Restaurant, Retail Store',\n 'Bank Branch, Office, Other, Parking, Restaurant',\n 'Medical Office, Office, Supermarket/Grocery Store',\n 'Food Sales, Multifamily Housing, Office, Other - Education, Other - Restaurant/Bar, Pre-school/Daycare, Restaurant, Retail Store, Supermarket/Grocery Store',\n 'Office, Other - Restaurant/Bar, Parking, Retail Store',\n 'Movie Theater, Other - Restaurant/Bar, Parking',\n 'Laboratory, Office',\n 'Data Center, Office, Parking, Restaurant, Retail Store',\n 'Other, Retail Store',\n 'Convention Center, Parking',\n 'Urgent Care/Clinic/Other Outpatient',\n 'Medical Office, Parking',\n 'Data Center, Office, Parking, Performing Arts, Restaurant, Retail Store',\n 'Data Center, Financial Office, Office, Other, Parking, Restaurant',\n 'Distribution Center, Office',\n 'Distribution Center',\n 'Adult Education, Bank Branch, Office, Parking',\n 'Data Center, Office, Other, Restaurant',\n 'Parking, Retail Store, Supermarket/Grocery Store',\n 'Data Center, Laboratory',\n 'Laboratory',\n 'Financial Office, Food Service, Office, Other, Parking',\n 'Medical Office, Office, Parking',\n 'Fitness Center/Health Club/Gym, Office, Parking, Restaurant',\n 'Bank Branch, Office, Parking',\n 'Non-Refrigerated Warehouse, Office, Other, Other - Entertainment/Public Assembly, Parking',\n 'Fitness Center/Health Club/Gym, Office, Other - Education, Other - Recreation, Other - Restaurant/Bar, Outpatient Rehabilitation/Physical Therapy, Personal Services (Health/Beauty, Dry Cleaning, etc), Restaurant, Retail Store, Self-Storage Facility, Vocat',\n 'Parking, Supermarket/Grocery Store',\n 'Office, Other - Services',\n 'Parking, Strip Mall',\n 'Wholesale Club/Supercenter',\n 'Retail Store, Supermarket/Grocery Store',\n 'Data Center, Office, Parking, Restaurant',\n 'Data Center, Library, Non-Refrigerated Warehouse, Office, Other - Entertainment/Public Assembly, Other - Recreation, Other - Services, Restaurant, Social/Meeting Hall',\n 'Multifamily Housing, Non-Refrigerated Warehouse, Office, Parking, Retail Store',\n 'Parking, Retail Store',\n 'Parking, Self-Storage Facility',\n 'Distribution Center, Parking',\n 'Office, Parking, Refrigerated Warehouse',\n 'Office, Other - Services, Parking',\n 'Strip Mall',\n 'Medical Office, Retail Store',\n 'Restaurant',\n 'Refrigerated Warehouse',\n 'Multifamily Housing, Parking, Restaurant, Retail Store',\n 'Food Service, Office, Parking, Restaurant',\n 'Enclosed Mall, Office',\n 'Data Center, Office, Other, Other - Entertainment/Public Assembly',\n 'Non-Refrigerated Warehouse, Retail Store',\n 'Distribution Center, Office, Other',\n 'Manufacturing/Industrial Plant',\n 'Multifamily Housing, Non-Refrigerated Warehouse, Office, Parking',\n 'Distribution Center, Office, Parking',\n 'Distribution Center, Non-Refrigerated Warehouse, Office, Retail Store',\n 'Distribution Center, Office, Other, Other - Recreation, Parking',\n 'Medical Office, Other, Parking',\n 'Multifamily Housing, Other - Lodging/Residential, Parking',\n 'Financial Office, Hotel, Multifamily Housing, Other, Parking, Restaurant, Supermarket/Grocery Store',\n 'Data Center, Office, Restaurant',\n 'Data Center, Financial Office, Office, Parking, Restaurant',\n 'Other - Recreation, Parking, Swimming Pool',\n 'Medical Office, Multifamily Housing, Office, Other, Parking',\n 'Library, Multifamily Housing, Office, Other - Entertainment/Public Assembly, Parking, Restaurant',\n 'Lifestyle Center',\n 'Multifamily Housing, Parking, Retail Store',\n 'Personal Services (Health/Beauty, Dry Cleaning, etc), Retail Store, Supermarket/Grocery Store',\n 'Non-Refrigerated Warehouse, Office, Other, Other - Recreation, Other - Services, Restaurant',\n 'Adult Education, Fitness Center/Health Club/Gym, Office, Other - Restaurant/Bar, Parking, Retail Store',\n 'Non-Refrigerated Warehouse, Office, Other',\n 'Distribution Center, Office, Retail Store',\n 'Other - Public Services, Parking',\n 'Multifamily Housing, Non-Refrigerated Warehouse, Office, Parking, Retail Store, Worship Facility',\n 'Data Center, Office, Other, Parking',\n 'Bar/Nightclub, Office, Personal Services (Health/Beauty, Dry Cleaning, etc)',\n 'Medical Office, Parking, Retail Store',\n 'Office, Other - Entertainment/Public Assembly, Other - Mall, Restaurant',\n 'Office, Performing Arts, Restaurant, Retail Store, Self-Storage Facility',\n 'Office, Other - Restaurant/Bar, Other - Technology/Science, Parking',\n 'Office, Other - Technology/Science, Parking',\n 'Financial Office, Food Service, Office, Other',\n 'Data Center, Medical Office, Office, Parking, Restaurant',\n nan,\n 'College/University, Parking',\n 'Data Center, Non-Refrigerated Warehouse, Office, Retail Store',\n 'Non-Refrigerated Warehouse, Other, Parking, Retail Store',\n 'Other, Parking, Restaurant, Retail Store',\n 'Distribution Center, Non-Refrigerated Warehouse, Refrigerated Warehouse',\n 'Non-Refrigerated Warehouse, Office, Other - Services, Retail Store',\n 'Multifamily Housing, Office, Parking, Retail Store',\n 'Non-Refrigerated Warehouse, Other, Restaurant, Retail Store',\n 'Financial Office',\n 'Other - Entertainment/Public Assembly, Restaurant',\n 'Hotel, Parking, Restaurant, Swimming Pool',\n 'Data Center, Non-Refrigerated Warehouse, Other, Refrigerated Warehouse, Repair Services (Vehicle, Shoe, Locksmith, etc), Restaurant',\n 'Laboratory, Medical Office',\n 'Automobile Dealership, Office',\n 'Manufacturing/Industrial Plant, Office, Parking, Retail Store',\n 'Multifamily Housing, Parking',\n 'Multifamily Housing, Office, Parking',\n 'Multifamily Housing, Office, Parking, Swimming Pool',\n 'Multifamily Housing, Restaurant, Retail Store',\n 'Multifamily Housing, Other - Restaurant/Bar',\n 'Multifamily Housing, Office, Retail Store',\n 'Multifamily Housing, Office, Other, Parking',\n 'Office, Other, Retail Store, Swimming Pool',\n 'Multifamily Housing, Office',\n 'Medical Office, Office, Other, Other - Services, Parking, Retail Store',\n 'Parking, Restaurant',\n 'Medical Office, Multifamily Housing, Office, Parking, Restaurant',\n 'Multifamily Housing, Retail Store',\n 'Multifamily Housing, Swimming Pool',\n 'Social/Meeting Hall',\n 'Office, Other - Lodging/Residential',\n 'Bank Branch, Office',\n 'Multifamily Housing, Restaurant',\n 'Food Service, Multifamily Housing, Office',\n 'Other - Education',\n 'K-12 School, Worship Facility',\n 'Multifamily Housing, Other',\n 'Food Service, Multifamily Housing',\n 'Bank Branch, Other, Parking',\n 'Multifamily Housing, Parking, Swimming Pool',\n 'Fast Food Restaurant, Multifamily Housing, Retail Store',\n 'Multifamily Housing, Parking, Restaurant, Swimming Pool',\n 'Fire Station',\n 'Other - Entertainment/Public Assembly, Parking, Social/Meeting Hall, Swimming Pool',\n 'Non-Refrigerated Warehouse, Office, Other, Retail Store',\n 'Non-Refrigerated Warehouse, Other, Retail Store',\n 'Bank Branch, Financial Office',\n 'Multifamily Housing, Office, Restaurant, Retail Store, Social/Meeting Hall, Supermarket/Grocery Store',\n 'Bank Branch, Parking, Senior Care Community',\n 'Multifamily Housing, Office, Other, Other - Lodging/Residential, Worship Facility',\n 'Multifamily Housing, Parking, Personal Services (Health/Beauty, Dry Cleaning, etc), Restaurant',\n 'Multifamily Housing, Office, Other',\n 'Parking, Worship Facility',\n 'Multifamily Housing, Non-Refrigerated Warehouse, Parking, Residence Hall/Dormitory',\n 'Medical Office, Multifamily Housing, Office, Restaurant, Retail Store',\n 'Multifamily Housing, Other - Entertainment/Public Assembly',\n 'Medical Office, Multifamily Housing, Other - Restaurant/Bar',\n 'Other, Worship Facility',\n 'Parking, Residence Hall/Dormitory',\n 'Medical Office, Multifamily Housing, Parking',\n 'Office, Residence Hall/Dormitory',\n 'Hotel, Restaurant',\n 'Office, Social/Meeting Hall',\n 'Performing Arts',\n 'Non-Refrigerated Warehouse, Office, Other - Recreation, Restaurant',\n 'Multifamily Housing, Office, Retail Store, Supermarket/Grocery Store',\n 'Other - Recreation, Parking, Restaurant',\n 'Fitness Center/Health Club/Gym, Swimming Pool',\n 'Multifamily Housing, Parking, Senior Care Community',\n 'Food Service, Retail Store, Supermarket/Grocery Store',\n 'Multifamily Housing, Parking, Restaurant',\n 'Other - Mall, Restaurant',\n 'Distribution Center, Office, Refrigerated Warehouse',\n 'K-12 School, Office, Retail Store',\n 'Other - Recreation',\n 'Other - Services',\n 'Fitness Center/Health Club/Gym, Office, Other - Recreation, Pre-school/Daycare',\n 'Non-Refrigerated Warehouse, Office, Self-Storage Facility',\n 'Automobile Dealership, Parking',\n 'Multifamily Housing, Other - Restaurant/Bar, Parking, Retail Store',\n 'Non-Refrigerated Warehouse, Other - Recreation',\n 'Multifamily Housing, Other, Retail Store',\n 'Multifamily Housing, Office, Other - Mall, Parking, Restaurant',\n 'Hotel, Retail Store',\n 'Bank Branch, Bar/Nightclub, Office, Parking',\n 'Multifamily Housing, Office, Other, Parking, Retail Store',\n 'Residential Care Facility',\n 'Lifestyle Center, Multifamily Housing, Office, Parking',\n 'Bank Branch',\n 'Multifamily Housing, Office, Parking, Restaurant',\n 'Office, Worship Facility',\n 'Other - Education, Parking',\n 'Food Service, Office, Other - Entertainment/Public Assembly',\n 'Office, Other, Other - Services, Residence Hall/Dormitory, Restaurant',\n 'Food Service, Office, Parking',\n 'Bank Branch, Office, Parking, Restaurant',\n 'Other - Entertainment/Public Assembly, Restaurant, Retail Store',\n 'Food Sales, Office, Restaurant, Retail Store, Self-Storage Facility, Social/Meeting Hall',\n 'Bar/Nightclub, Food Sales, Multifamily Housing, Restaurant, Retail Store, Self-Storage Facility',\n 'Food Sales, Office, Restaurant',\n 'Medical Office, Multifamily Housing, Other - Restaurant/Bar, Retail Store',\n 'Food Sales, Manufacturing/Industrial Plant, Office, Other - Entertainment/Public Assembly, Other - Restaurant/Bar, Restaurant, Retail Store, Self-Storage Facility',\n 'Multifamily Housing, Office, Restaurant, Retail Store',\n 'Multifamily Housing, Office, Restaurant',\n 'Food Service',\n 'Hotel, Multifamily Housing, Parking, Retail Store',\n 'Medical Office, Office, Retail Store',\n 'Other - Recreation, Self-Storage Facility',\n 'Office, Repair Services (Vehicle, Shoe, Locksmith, etc), Retail Store',\n 'Multifamily Housing, Retail Store, Self-Storage Facility, Supermarket/Grocery Store',\n 'Adult Education, Parking',\n 'Fitness Center/Health Club/Gym, Multifamily Housing, Personal Services (Health/Beauty, Dry Cleaning, etc)',\n 'Office, Other - Recreation',\n 'Medical Office, Non-Refrigerated Warehouse, Office, Retail Store',\n 'Food Sales, Multifamily Housing, Parking',\n 'Bank Branch, Medical Office, Parking, Retail Store',\n 'Multifamily Housing, Other, Parking',\n 'Financial Office, Multifamily Housing, Parking, Supermarket/Grocery Store',\n 'Multifamily Housing, Parking, Supermarket/Grocery Store',\n 'Library, Other - Services',\n 'Fitness Center/Health Club/Gym, Office',\n 'Distribution Center, Non-Refrigerated Warehouse',\n 'Multifamily Housing, Non-Refrigerated Warehouse, Parking',\n 'Multifamily Housing, Office, Other, Strip Mall',\n 'Fitness Center/Health Club/Gym, Other - Recreation, Swimming Pool',\n 'Multifamily Housing, Parking, Retail Store, Swimming Pool',\n 'Food Sales, Food Service, Medical Office, Multifamily Housing, Other',\n 'Office, Senior Care Community',\n 'Office, Parking, Self-Storage Facility',\n 'Office, Repair Services (Vehicle, Shoe, Locksmith, etc)',\n 'Data Center, Non-Refrigerated Warehouse, Office',\n 'Medical Office, Office, Worship Facility',\n 'Multifamily Housing, Office, Swimming Pool',\n 'Medical Office, Other/Specialty Hospital, Outpatient Rehabilitation/Physical Therapy, Parking',\n 'Adult Education',\n 'Multifamily Housing, Other/Specialty Hospital',\n 'Museum, Parking',\n 'Bank Branch, Multifamily Housing, Office, Other, Retail Store',\n 'Multifamily Housing, Office, Parking, Restaurant, Retail Store, Swimming Pool, Urgent Care/Clinic/Other Outpatient',\n 'Office, Other - Utility, Parking',\n 'Office, Restaurant, Supermarket/Grocery Store',\n 'Multifamily Housing, Non-Refrigerated Warehouse, Office, Retail Store',\n 'Multifamily Housing, Other, Restaurant, Supermarket/Grocery Store',\n 'Restaurant, Senior Care Community',\n 'Other - Recreation, Worship Facility',\n 'Non-Refrigerated Warehouse, Office, Other, Parking, Retail Store',\n 'Medical Office, Non-Refrigerated Warehouse, Office, Other',\n 'Multifamily Housing, Parking, Social/Meeting Hall',\n 'Fitness Center/Health Club/Gym, Multifamily Housing, Other - Restaurant/Bar, Parking, Personal Services (Health/Beauty, Dry Cleaning, etc), Restaurant',\n 'Other - Lodging/Residential, Parking',\n 'Multifamily Housing, Office, Parking, Personal Services (Health/Beauty, Dry Cleaning, etc), Restaurant, Retail Store',\n 'K-12 School, Multifamily Housing, Office',\n 'Manufacturing/Industrial Plant, Parking',\n 'Office, Refrigerated Warehouse',\n 'Office, Other - Public Services',\n 'Non-Refrigerated Warehouse, Parking, Repair Services (Vehicle, Shoe, Locksmith, etc), Retail Store',\n 'Financial Office, Multifamily Housing, Retail Store',\n 'Food Service, Non-Refrigerated Warehouse, Retail Store',\n 'Fitness Center/Health Club/Gym, Office, Other - Recreation',\n 'Distribution Center, Non-Refrigerated Warehouse, Office, Other - Education, Parking',\n 'Movie Theater',\n 'Fast Food Restaurant, Other, Other - Entertainment/Public Assembly',\n 'College/University, Medical Office',\n 'Fitness Center/Health Club/Gym, Office, Other - Recreation, Other - Technology/Science, Pre-school/Daycare, Swimming Pool',\n 'Food Service, Other, Other - Education, Other - Entertainment/Public Assembly, Other - Recreation, Social/Meeting Hall',\n 'Multifamily Housing, Restaurant, Retail Store, Self-Storage Facility',\n 'Other, Other - Entertainment/Public Assembly, Self-Storage Facility',\n 'Other, Refrigerated Warehouse',\n 'Non-Refrigerated Warehouse, Office, Social/Meeting Hall',\n 'Other, Supermarket/Grocery Store',\n 'Bank Branch, Retail Store',\n 'Non-Refrigerated Warehouse, Other, Refrigerated Warehouse',\n 'Other - Mall, Parking',\n 'Non-Refrigerated Warehouse, Worship Facility',\n 'Multifamily Housing, Office, Parking, Pre-school/Daycare',\n 'Personal Services (Health/Beauty, Dry Cleaning, etc)',\n 'Non-Refrigerated Warehouse, Office, Repair Services (Vehicle, Shoe, Locksmith, etc)',\n 'Hotel, Multifamily Housing, Parking',\n 'College/University, Restaurant',\n 'Office, Other, Refrigerated Warehouse',\n 'Multifamily Housing, Other, Parking, Retail Store',\n 'Food Service, Multifamily Housing, Other, Other - Entertainment/Public Assembly, Restaurant, Retail Store',\n 'Other, Parking, Restaurant',\n 'Multifamily Housing, Other - Recreation, Parking, Restaurant',\n 'Financial Office, Multifamily Housing, Parking, Residence Hall/Dormitory',\n 'Office, Restaurant, Retail Store, Self-Storage Facility',\n 'Bar/Nightclub, Multifamily Housing',\n 'Multifamily Housing, Other - Education, Other - Entertainment/Public Assembly, Other - Restaurant/Bar',\n 'Office, Other, Worship Facility',\n 'Food Sales, Non-Refrigerated Warehouse, Office',\n 'Multifamily Housing, Office, Other - Entertainment/Public Assembly, Parking',\n 'Medical Office, Office, Other, Restaurant, Retail Store',\n 'Pre-school/Daycare, Worship Facility',\n 'Parking, Senior Care Community, Worship Facility',\n 'Office, Parking, Residence Hall/Dormitory, Restaurant, Social/Meeting Hall',\n 'Fitness Center/Health Club/Gym, Office, Other, Other - Utility, Restaurant, Retail Store',\n 'Bank Branch, Parking',\n 'Office, Other - Restaurant/Bar',\n 'Manufacturing/Industrial Plant, Office, Retail Store',\n 'Food Service, Library, Office, Parking',\n 'K-12 School, Office, Supermarket/Grocery Store, Worship Facility',\n 'Fast Food Restaurant, Fitness Center/Health Club/Gym, Medical Office, Multifamily Housing, Other, Parking, Personal Services (Health/Beauty, Dry Cleaning, etc), Restaurant',\n 'Bar/Nightclub, Food Sales, Museum, Retail Store, Supermarket/Grocery Store',\n 'Office, Other - Entertainment/Public Assembly',\n 'Other - Lodging/Residential',\n 'Multifamily Housing, Non-Refrigerated Warehouse',\n 'Food Sales, Multifamily Housing, Other - Restaurant/Bar, Retail Store, Self-Storage Facility, Social/Meeting Hall',\n 'Medical Office, Multifamily Housing, Supermarket/Grocery Store',\n 'Multifamily Housing, Retail Store, Social/Meeting Hall',\n 'Fitness Center/Health Club/Gym, Office, Other - Recreation, Other - Technology/Science, Parking, Pre-school/Daycare',\n 'Other - Education, Performing Arts, Social/Meeting Hall',\n 'Office, Supermarket/Grocery Store',\n 'Fitness Center/Health Club/Gym, Medical Office, Office, Parking, Restaurant',\n 'Non-Refrigerated Warehouse, Office, Parking',\n 'Multifamily Housing, Museum',\n 'Bank Branch, Multifamily Housing, Parking, Restaurant, Strip Mall',\n 'Office, Parking, Senior Care Community',\n 'Multifamily Housing, Office, Other, Other - Recreation, Parking, Restaurant',\n 'Financial Office, Food Service, Multifamily Housing, Other, Parking',\n 'Non-Refrigerated Warehouse, Office, Restaurant, Retail Store',\n 'Office, Other - Entertainment/Public Assembly, Other - Public Services, Restaurant, Urgent Care/Clinic/Other Outpatient',\n 'Other - Education, Worship Facility',\n 'Library, Parking',\n 'Multifamily Housing, Other, Parking, Urgent Care/Clinic/Other Outpatient',\n 'Other - Services, Retail Store',\n 'K-12 School, Office, Social/Meeting Hall, Worship Facility',\n 'Fast Food Restaurant, Multifamily Housing, Parking',\n 'Food Service, Multifamily Housing, Office, Other, Retail Store',\n 'Hospital (General Medical & Surgical), Multifamily Housing, Parking',\n 'Laboratory, Other',\n 'Fast Food Restaurant, Multifamily Housing, Office, Other, Restaurant, Retail Store',\n 'Multifamily Housing, Other, Restaurant',\n 'Distribution Center, Non-Refrigerated Warehouse, Supermarket/Grocery Store',\n 'Multifamily Housing, Non-Refrigerated Warehouse, Office, Restaurant',\n 'Fitness Center/Health Club/Gym, Multifamily Housing, Parking, Restaurant',\n 'Office, Other, Other - Restaurant/Bar, Strip Mall',\n 'Multifamily Housing, Parking, Retail Store, Senior Care Community',\n 'Multifamily Housing, Parking, Personal Services (Health/Beauty, Dry Cleaning, etc), Retail Store, Supermarket/Grocery Store',\n 'Multifamily Housing, Office, Parking, Residence Hall/Dormitory, Retail Store',\n 'Financial Office, Multifamily Housing, Office, Retail Store, Supermarket/Grocery Store',\n 'Residence Hall/Dormitory, Supermarket/Grocery Store',\n 'Other - Utility',\n 'Hospital (General Medical & Surgical), Other',\n 'Food Service, Multifamily Housing, Parking',\n 'Hotel, Parking, Retail Store',\n 'Data Center, Multifamily Housing, Office, Other, Parking',\n 'Data Center, Parking',\n 'Food Service, Medical Office, Multifamily Housing, Office',\n 'Convenience Store without Gas Station, Laboratory, Parking',\n 'Lifestyle Center, Medical Office',\n 'Bar/Nightclub, Multifamily Housing, Parking',\n 'Parking, Pre-school/Daycare',\n 'Fitness Center/Health Club/Gym, Office, Other - Education, Other - Recreation, Other - Technology/Science, Pre-school/Daycare, Swimming Pool',\n 'Multifamily Housing, Other - Restaurant/Bar, Parking, Restaurant',\n 'Multifamily Housing, Parking, Retail Store, Supermarket/Grocery Store',\n 'Movie Theater, Office, Vocational School',\n 'Food Sales, Multifamily Housing, Restaurant, Retail Store',\n 'Bar/Nightclub, Multifamily Housing, Other - Restaurant/Bar, Restaurant, Retail Store',\n 'Office, Other - Public Services, Personal Services (Health/Beauty, Dry Cleaning, etc), Senior Care Community',\n 'Pre-school/Daycare',\n 'Multifamily Housing, Office, Other, Parking, Performing Arts, Restaurant',\n 'Multifamily Housing, Office, Parking, Restaurant, Retail Store',\n 'Multifamily Housing, Office, Other - Lodging/Residential, Parking, Retail Store',\n 'Multifamily Housing, Other - Restaurant/Bar, Parking, Personal Services (Health/Beauty, Dry Cleaning, etc)',\n 'College/University, Multifamily Housing, Office, Other, Parking',\n 'Multifamily Housing, Parking, Personal Services (Health/Beauty, Dry Cleaning, etc), Restaurant, Self-Storage Facility',\n 'Multifamily Housing, Other - Public Services, Parking',\n 'Data Center, Laboratory, Museum, Office, Other, Parking',\n 'Fitness Center/Health Club/Gym, Office, Other - Recreation, Pre-school/Daycare, Social/Meeting Hall',\n 'Prison/Incarceration',\n 'Fitness Center/Health Club/Gym, Food Service, Office, Other - Recreation, Pre-school/Daycare',\n 'Fitness Center/Health Club/Gym, Office, Other - Recreation, Swimming Pool',\n 'Fitness Center/Health Club/Gym, Office, Other - Recreation, Other - Technology/Science']"
     },
     "execution_count": 47,
     "metadata": {},
     "output_type": "execute_result"
    }
   ],
   "source": [
    "all_data[\"ListOfAllPropertyUseTypes\"].unique().tolist()"
   ],
   "metadata": {
    "collapsed": false,
    "pycharm": {
     "name": "#%%\n"
    }
   }
  },
  {
   "cell_type": "code",
   "execution_count": 48,
   "outputs": [
    {
     "data": {
      "text/plain": "array(['NonResidential', 'Nonresidential COS', 'Multifamily MR (5-9)',\n       'SPS-District K-12', 'Campus', 'Multifamily LR (1-4)',\n       'Multifamily HR (10+)', 'Nonresidential WA'], dtype=object)"
     },
     "execution_count": 48,
     "metadata": {},
     "output_type": "execute_result"
    }
   ],
   "source": [
    "all_data[\"BuildingType\"].unique()"
   ],
   "metadata": {
    "collapsed": false,
    "pycharm": {
     "name": "#%%\n"
    }
   }
  },
  {
   "cell_type": "code",
   "execution_count": 49,
   "outputs": [
    {
     "data": {
      "text/plain": "['Distribution Center',\n 'High-Rise Multifamily',\n 'Hospital',\n 'Hotel',\n 'K-12 School',\n 'Laboratory',\n 'Large Office',\n 'Low-Rise Multifamily',\n 'Medical Office',\n 'Mid-Rise Multifamily',\n 'Mixed Use Property',\n 'Office',\n 'Other',\n 'Refrigerated Warehouse',\n 'Residence Hall',\n 'Restaurant',\n 'Retail Store',\n 'Self-Storage Facility',\n 'Senior Care Community',\n 'Small- and Mid-Sized Office',\n 'Supermarket / Grocery Store',\n 'University',\n 'Warehouse',\n 'Worship Facility']"
     },
     "execution_count": 49,
     "metadata": {},
     "output_type": "execute_result"
    }
   ],
   "source": [
    "#all_data[\"PropertyName\"].unique()\n",
    "l = sorted(all_data[\"PrimaryPropertyType\"].unique().tolist())\n",
    "l"
   ],
   "metadata": {
    "collapsed": false,
    "pycharm": {
     "name": "#%%\n"
    }
   }
  },
  {
   "cell_type": "markdown",
   "source": [],
   "metadata": {
    "collapsed": false,
    "pycharm": {
     "name": "#%% md\n"
    }
   }
  },
  {
   "cell_type": "code",
   "execution_count": 50,
   "outputs": [
    {
     "data": {
      "text/plain": "array(['Distribution Center', 'High-Rise Multifamily', 'Hospital',\n       'Hotel', 'K-12 School', 'Laboratory', 'Large Office',\n       'Low-Rise Multifamily', 'Medical Office', 'Mid-Rise Multifamily',\n       'Mixed Use Property', 'Office', 'Other', 'Refrigerated Warehouse',\n       'Residence Hall', 'Restaurant', 'Retail Store',\n       'Self-Storage Facility', 'Senior Care Community',\n       'Small- and Mid-Sized Office', 'Supermarket / Grocery Store',\n       'University', 'Warehouse', 'Worship Facility'], dtype=object)"
     },
     "execution_count": 50,
     "metadata": {},
     "output_type": "execute_result"
    }
   ],
   "source": [
    "np.sort(all_data[\"PrimaryPropertyType\"].unique())"
   ],
   "metadata": {
    "collapsed": false,
    "pycharm": {
     "name": "#%%\n"
    }
   }
  },
  {
   "cell_type": "raw",
   "source": [
    "def delete_columns_by_filling_rate(data_frame, min_filling_rate):\n",
    "    \"\"\"\n",
    "    Returns a copy of the DataFrame entered as a parameter and in which the columns with less than the minimum filling rate are deleted.\n",
    "    :param data_frame: (DataFrame) a DataFrame\n",
    "    :param min_filling_rate: (float) minimum filling rate necessary to not drop the column\n",
    "    :return: a copy of the dataframe entered as parameter\n",
    "    :rtype: DataFrame\n",
    "\n",
    "    CU: We take the first column as our reference\n",
    "    \"\"\"\n",
    "    df = data_frame.copy()\n",
    "    columns = df.columns.tolist()\n",
    "    print(\"We had\", df.shape[1], \"columns.\") # before : the number of columns\n",
    "    for column in columns:\n",
    "        # notna returns a Boolean, mean computes the average of True for our column\n",
    "        if df[column].notna().mean() < min_filling_rate: # it means there is more than 50% of our data missing\n",
    "            df = df.drop(columns=column)\n",
    "    print(\"Now, we only have\", df.shape[1], \"columns.\") # after : the new number of columns\n",
    "    return df\n",
    "\n",
    "x = delete_columns_by_filling_rate(all_data, 0.5)"
   ],
   "metadata": {
    "collapsed": false,
    "pycharm": {
     "name": "#%% raw\n"
    }
   }
  },
  {
   "cell_type": "raw",
   "source": [
    "x"
   ],
   "metadata": {
    "collapsed": false,
    "pycharm": {
     "name": "#%% raw\n"
    }
   }
  },
  {
   "cell_type": "code",
   "execution_count": 53,
   "outputs": [
    {
     "data": {
      "text/plain": "19"
     },
     "execution_count": 53,
     "metadata": {},
     "output_type": "execute_result"
    }
   ],
   "source": [
    "all_data[\"City\"].unique()\n",
    "all_data[\"State\"].unique()\n",
    "#all_data[\"ZipCode\"].unique()\n",
    "#all_data[\"CouncilDistrictCode\"].unique() # 1 to 7\n",
    "\n",
    "# Idea : councildistrictcode / neighborhood\n",
    "\n",
    "a = all_data[\"Neighborhood\"].unique().tolist()\n",
    "\n",
    "\n",
    "b = [e.lower() for e in a]\n",
    "b = set(b)\n",
    "b\n",
    "\n",
    "b = list(b)\n",
    "len(b) # 14 après\n",
    "\n",
    "len(a) # 19 avant:"
   ],
   "metadata": {
    "collapsed": false,
    "pycharm": {
     "name": "#%%\n"
    }
   }
  },
  {
   "cell_type": "markdown",
   "source": [
    "19 unique neighborhoods, but because of upper case / lower case we get 14 neighborhoods.\n",
    "We will use CouncilDistrictCode to localize the buildings."
   ],
   "metadata": {
    "collapsed": false,
    "pycharm": {
     "name": "#%% md\n"
    }
   }
  },
  {
   "cell_type": "code",
   "execution_count": 54,
   "outputs": [],
   "source": [
    "columns_to_drop = [\"PropertyName\", \"Address\", \"City\", \"State\", \"TaxParcelIdentificationNumber\", \"Neighborhood\", \"YearsENERGYSTARCertified\", \"DefaultData\", \"Comments\", \"ComplianceStatus\"] ###"
   ],
   "metadata": {
    "collapsed": false,
    "pycharm": {
     "name": "#%%\n"
    }
   }
  },
  {
   "cell_type": "code",
   "execution_count": 59,
   "outputs": [
    {
     "data": {
      "text/plain": "      OSEBuildingID  DataYear        BuildingType PrimaryPropertyType  \\\n0                 1      2016      NonResidential               Hotel   \n1                 2      2016      NonResidential               Hotel   \n2                 3      2016      NonResidential               Hotel   \n3                 5      2016      NonResidential               Hotel   \n4                 8      2016      NonResidential               Hotel   \n...             ...       ...                 ...                 ...   \n3371          50222      2016  Nonresidential COS              Office   \n3372          50223      2016  Nonresidential COS               Other   \n3373          50224      2016  Nonresidential COS               Other   \n3374          50225      2016  Nonresidential COS  Mixed Use Property   \n3375          50226      2016  Nonresidential COS  Mixed Use Property   \n\n         ZipCode  CouncilDistrictCode  Latitude  Longitude  YearBuilt  \\\n0    98101.00000                    7  47.61220 -122.33799       1927   \n1    98101.00000                    7  47.61317 -122.33393       1996   \n2    98101.00000                    7  47.61393 -122.33810       1969   \n3    98101.00000                    7  47.61412 -122.33664       1926   \n4    98121.00000                    7  47.61375 -122.34047       1980   \n...          ...                  ...       ...        ...        ...   \n3371         NaN                    2  47.56722 -122.31154       1990   \n3372         NaN                    2  47.59625 -122.32283       2004   \n3373         NaN                    7  47.63644 -122.35784       1974   \n3374         NaN                    1  47.52832 -122.32431       1989   \n3375         NaN                    2  47.53939 -122.29536       1938   \n\n      NumberofBuildings  ...  SiteEnergyUse(kBtu)  SiteEnergyUseWN(kBtu)  \\\n0               1.00000  ...        7226362.50000          7456910.00000   \n1               1.00000  ...        8387933.00000          8664479.00000   \n2               1.00000  ...       72587024.00000         73937112.00000   \n3               1.00000  ...        6794584.00000          6946800.50000   \n4               1.00000  ...       14172606.00000         14656503.00000   \n...                 ...  ...                  ...                    ...   \n3371            1.00000  ...         849745.68750           943003.18750   \n3372            1.00000  ...         950276.18750          1053705.75000   \n3373            1.00000  ...        5765898.00000          6053764.50000   \n3374            1.00000  ...         719471.18750           782841.31250   \n3375            1.00000  ...        1152896.25000          1293722.37500   \n\n      SteamUse(kBtu)  Electricity(kWh) Electricity(kBtu) NaturalGas(therms)  \\\n0      2003882.00000     1156514.25000     3946027.00000        12764.52930   \n1            0.00000      950425.18750     3242851.00000        51450.81641   \n2     21566554.00000    14515435.00000    49526664.00000        14938.00000   \n3      2214446.25000      811525.31250     2768924.00000        18112.13086   \n4            0.00000     1573448.62500     5368607.00000        88039.98438   \n...              ...               ...               ...                ...   \n3371         0.00000      153655.00000      524270.86000         3254.75024   \n3372         0.00000      116221.00000      396546.05200         5537.29980   \n3373         0.00000      525251.68750     1792158.75800        39737.39063   \n3374         0.00000      102248.00000      348870.17600         3706.01001   \n3375         0.00000      126774.39840      432554.24750         7203.41992   \n\n      NaturalGas(kBtu) Outlier  TotalGHGEmissions GHGEmissionsIntensity  \n0        1276453.00000     NaN          249.98000               2.83000  \n1        5145082.00000     NaN          295.86000               2.86000  \n2        1493800.00000     NaN         2089.28000               2.19000  \n3        1811213.00000     NaN          286.43000               4.67000  \n4        8803998.00000     NaN          505.01000               2.88000  \n...                ...     ...                ...                   ...  \n3371      325475.02440     NaN           20.94000               1.70000  \n3372      553729.98050     NaN           32.17000               2.01000  \n3373     3973739.06300     NaN          223.54000              16.99000  \n3374      370601.00100     NaN           22.11000               1.57000  \n3375      720341.99220     NaN           41.27000               2.26000  \n\n[3376 rows x 36 columns]",
      "text/html": "<div>\n<style scoped>\n    .dataframe tbody tr th:only-of-type {\n        vertical-align: middle;\n    }\n\n    .dataframe tbody tr th {\n        vertical-align: top;\n    }\n\n    .dataframe thead th {\n        text-align: right;\n    }\n</style>\n<table border=\"1\" class=\"dataframe\">\n  <thead>\n    <tr style=\"text-align: right;\">\n      <th></th>\n      <th>OSEBuildingID</th>\n      <th>DataYear</th>\n      <th>BuildingType</th>\n      <th>PrimaryPropertyType</th>\n      <th>ZipCode</th>\n      <th>CouncilDistrictCode</th>\n      <th>Latitude</th>\n      <th>Longitude</th>\n      <th>YearBuilt</th>\n      <th>NumberofBuildings</th>\n      <th>...</th>\n      <th>SiteEnergyUse(kBtu)</th>\n      <th>SiteEnergyUseWN(kBtu)</th>\n      <th>SteamUse(kBtu)</th>\n      <th>Electricity(kWh)</th>\n      <th>Electricity(kBtu)</th>\n      <th>NaturalGas(therms)</th>\n      <th>NaturalGas(kBtu)</th>\n      <th>Outlier</th>\n      <th>TotalGHGEmissions</th>\n      <th>GHGEmissionsIntensity</th>\n    </tr>\n  </thead>\n  <tbody>\n    <tr>\n      <th>0</th>\n      <td>1</td>\n      <td>2016</td>\n      <td>NonResidential</td>\n      <td>Hotel</td>\n      <td>98101.00000</td>\n      <td>7</td>\n      <td>47.61220</td>\n      <td>-122.33799</td>\n      <td>1927</td>\n      <td>1.00000</td>\n      <td>...</td>\n      <td>7226362.50000</td>\n      <td>7456910.00000</td>\n      <td>2003882.00000</td>\n      <td>1156514.25000</td>\n      <td>3946027.00000</td>\n      <td>12764.52930</td>\n      <td>1276453.00000</td>\n      <td>NaN</td>\n      <td>249.98000</td>\n      <td>2.83000</td>\n    </tr>\n    <tr>\n      <th>1</th>\n      <td>2</td>\n      <td>2016</td>\n      <td>NonResidential</td>\n      <td>Hotel</td>\n      <td>98101.00000</td>\n      <td>7</td>\n      <td>47.61317</td>\n      <td>-122.33393</td>\n      <td>1996</td>\n      <td>1.00000</td>\n      <td>...</td>\n      <td>8387933.00000</td>\n      <td>8664479.00000</td>\n      <td>0.00000</td>\n      <td>950425.18750</td>\n      <td>3242851.00000</td>\n      <td>51450.81641</td>\n      <td>5145082.00000</td>\n      <td>NaN</td>\n      <td>295.86000</td>\n      <td>2.86000</td>\n    </tr>\n    <tr>\n      <th>2</th>\n      <td>3</td>\n      <td>2016</td>\n      <td>NonResidential</td>\n      <td>Hotel</td>\n      <td>98101.00000</td>\n      <td>7</td>\n      <td>47.61393</td>\n      <td>-122.33810</td>\n      <td>1969</td>\n      <td>1.00000</td>\n      <td>...</td>\n      <td>72587024.00000</td>\n      <td>73937112.00000</td>\n      <td>21566554.00000</td>\n      <td>14515435.00000</td>\n      <td>49526664.00000</td>\n      <td>14938.00000</td>\n      <td>1493800.00000</td>\n      <td>NaN</td>\n      <td>2089.28000</td>\n      <td>2.19000</td>\n    </tr>\n    <tr>\n      <th>3</th>\n      <td>5</td>\n      <td>2016</td>\n      <td>NonResidential</td>\n      <td>Hotel</td>\n      <td>98101.00000</td>\n      <td>7</td>\n      <td>47.61412</td>\n      <td>-122.33664</td>\n      <td>1926</td>\n      <td>1.00000</td>\n      <td>...</td>\n      <td>6794584.00000</td>\n      <td>6946800.50000</td>\n      <td>2214446.25000</td>\n      <td>811525.31250</td>\n      <td>2768924.00000</td>\n      <td>18112.13086</td>\n      <td>1811213.00000</td>\n      <td>NaN</td>\n      <td>286.43000</td>\n      <td>4.67000</td>\n    </tr>\n    <tr>\n      <th>4</th>\n      <td>8</td>\n      <td>2016</td>\n      <td>NonResidential</td>\n      <td>Hotel</td>\n      <td>98121.00000</td>\n      <td>7</td>\n      <td>47.61375</td>\n      <td>-122.34047</td>\n      <td>1980</td>\n      <td>1.00000</td>\n      <td>...</td>\n      <td>14172606.00000</td>\n      <td>14656503.00000</td>\n      <td>0.00000</td>\n      <td>1573448.62500</td>\n      <td>5368607.00000</td>\n      <td>88039.98438</td>\n      <td>8803998.00000</td>\n      <td>NaN</td>\n      <td>505.01000</td>\n      <td>2.88000</td>\n    </tr>\n    <tr>\n      <th>...</th>\n      <td>...</td>\n      <td>...</td>\n      <td>...</td>\n      <td>...</td>\n      <td>...</td>\n      <td>...</td>\n      <td>...</td>\n      <td>...</td>\n      <td>...</td>\n      <td>...</td>\n      <td>...</td>\n      <td>...</td>\n      <td>...</td>\n      <td>...</td>\n      <td>...</td>\n      <td>...</td>\n      <td>...</td>\n      <td>...</td>\n      <td>...</td>\n      <td>...</td>\n      <td>...</td>\n    </tr>\n    <tr>\n      <th>3371</th>\n      <td>50222</td>\n      <td>2016</td>\n      <td>Nonresidential COS</td>\n      <td>Office</td>\n      <td>NaN</td>\n      <td>2</td>\n      <td>47.56722</td>\n      <td>-122.31154</td>\n      <td>1990</td>\n      <td>1.00000</td>\n      <td>...</td>\n      <td>849745.68750</td>\n      <td>943003.18750</td>\n      <td>0.00000</td>\n      <td>153655.00000</td>\n      <td>524270.86000</td>\n      <td>3254.75024</td>\n      <td>325475.02440</td>\n      <td>NaN</td>\n      <td>20.94000</td>\n      <td>1.70000</td>\n    </tr>\n    <tr>\n      <th>3372</th>\n      <td>50223</td>\n      <td>2016</td>\n      <td>Nonresidential COS</td>\n      <td>Other</td>\n      <td>NaN</td>\n      <td>2</td>\n      <td>47.59625</td>\n      <td>-122.32283</td>\n      <td>2004</td>\n      <td>1.00000</td>\n      <td>...</td>\n      <td>950276.18750</td>\n      <td>1053705.75000</td>\n      <td>0.00000</td>\n      <td>116221.00000</td>\n      <td>396546.05200</td>\n      <td>5537.29980</td>\n      <td>553729.98050</td>\n      <td>NaN</td>\n      <td>32.17000</td>\n      <td>2.01000</td>\n    </tr>\n    <tr>\n      <th>3373</th>\n      <td>50224</td>\n      <td>2016</td>\n      <td>Nonresidential COS</td>\n      <td>Other</td>\n      <td>NaN</td>\n      <td>7</td>\n      <td>47.63644</td>\n      <td>-122.35784</td>\n      <td>1974</td>\n      <td>1.00000</td>\n      <td>...</td>\n      <td>5765898.00000</td>\n      <td>6053764.50000</td>\n      <td>0.00000</td>\n      <td>525251.68750</td>\n      <td>1792158.75800</td>\n      <td>39737.39063</td>\n      <td>3973739.06300</td>\n      <td>NaN</td>\n      <td>223.54000</td>\n      <td>16.99000</td>\n    </tr>\n    <tr>\n      <th>3374</th>\n      <td>50225</td>\n      <td>2016</td>\n      <td>Nonresidential COS</td>\n      <td>Mixed Use Property</td>\n      <td>NaN</td>\n      <td>1</td>\n      <td>47.52832</td>\n      <td>-122.32431</td>\n      <td>1989</td>\n      <td>1.00000</td>\n      <td>...</td>\n      <td>719471.18750</td>\n      <td>782841.31250</td>\n      <td>0.00000</td>\n      <td>102248.00000</td>\n      <td>348870.17600</td>\n      <td>3706.01001</td>\n      <td>370601.00100</td>\n      <td>NaN</td>\n      <td>22.11000</td>\n      <td>1.57000</td>\n    </tr>\n    <tr>\n      <th>3375</th>\n      <td>50226</td>\n      <td>2016</td>\n      <td>Nonresidential COS</td>\n      <td>Mixed Use Property</td>\n      <td>NaN</td>\n      <td>2</td>\n      <td>47.53939</td>\n      <td>-122.29536</td>\n      <td>1938</td>\n      <td>1.00000</td>\n      <td>...</td>\n      <td>1152896.25000</td>\n      <td>1293722.37500</td>\n      <td>0.00000</td>\n      <td>126774.39840</td>\n      <td>432554.24750</td>\n      <td>7203.41992</td>\n      <td>720341.99220</td>\n      <td>NaN</td>\n      <td>41.27000</td>\n      <td>2.26000</td>\n    </tr>\n  </tbody>\n</table>\n<p>3376 rows × 36 columns</p>\n</div>"
     },
     "metadata": {},
     "output_type": "display_data"
    },
    {
     "name": "stdout",
     "output_type": "stream",
     "text": [
      "<class 'pandas.core.frame.DataFrame'>\n",
      "RangeIndex: 3376 entries, 0 to 3375\n",
      "Data columns (total 36 columns):\n",
      " #   Column                           Non-Null Count  Dtype  \n",
      "---  ------                           --------------  -----  \n",
      " 0   OSEBuildingID                    3376 non-null   int64  \n",
      " 1   DataYear                         3376 non-null   int64  \n",
      " 2   BuildingType                     3376 non-null   object \n",
      " 3   PrimaryPropertyType              3376 non-null   object \n",
      " 4   ZipCode                          3360 non-null   float64\n",
      " 5   CouncilDistrictCode              3376 non-null   int64  \n",
      " 6   Latitude                         3376 non-null   float64\n",
      " 7   Longitude                        3376 non-null   float64\n",
      " 8   YearBuilt                        3376 non-null   int64  \n",
      " 9   NumberofBuildings                3368 non-null   float64\n",
      " 10  NumberofFloors                   3376 non-null   int64  \n",
      " 11  PropertyGFATotal                 3376 non-null   int64  \n",
      " 12  PropertyGFAParking               3376 non-null   int64  \n",
      " 13  PropertyGFABuilding(s)           3376 non-null   int64  \n",
      " 14  ListOfAllPropertyUseTypes        3367 non-null   object \n",
      " 15  LargestPropertyUseType           3356 non-null   object \n",
      " 16  LargestPropertyUseTypeGFA        3356 non-null   float64\n",
      " 17  SecondLargestPropertyUseType     1679 non-null   object \n",
      " 18  SecondLargestPropertyUseTypeGFA  1679 non-null   float64\n",
      " 19  ThirdLargestPropertyUseType      596 non-null    object \n",
      " 20  ThirdLargestPropertyUseTypeGFA   596 non-null    float64\n",
      " 21  ENERGYSTARScore                  2533 non-null   float64\n",
      " 22  SiteEUI(kBtu/sf)                 3369 non-null   float64\n",
      " 23  SiteEUIWN(kBtu/sf)               3370 non-null   float64\n",
      " 24  SourceEUI(kBtu/sf)               3367 non-null   float64\n",
      " 25  SourceEUIWN(kBtu/sf)             3367 non-null   float64\n",
      " 26  SiteEnergyUse(kBtu)              3371 non-null   float64\n",
      " 27  SiteEnergyUseWN(kBtu)            3370 non-null   float64\n",
      " 28  SteamUse(kBtu)                   3367 non-null   float64\n",
      " 29  Electricity(kWh)                 3367 non-null   float64\n",
      " 30  Electricity(kBtu)                3367 non-null   float64\n",
      " 31  NaturalGas(therms)               3367 non-null   float64\n",
      " 32  NaturalGas(kBtu)                 3367 non-null   float64\n",
      " 33  Outlier                          32 non-null     object \n",
      " 34  TotalGHGEmissions                3367 non-null   float64\n",
      " 35  GHGEmissionsIntensity            3367 non-null   float64\n",
      "dtypes: float64(21), int64(8), object(7)\n",
      "memory usage: 949.6+ KB\n"
     ]
    }
   ],
   "source": [
    "all_data_v1 = all_data.drop(columns=columns_to_drop)\n",
    "display(all_data_v1)\n",
    "# fillNaN for GFA\n",
    "columns_to_fill = [\"PropertyGFATotal\", \"PropertyGFAParking\", \"PropertyGFABuilding(s)\", \"ListOfAllPropertyUseTypes\", \"LargestPropertyUseType\", \"LargestPropertyUseTypeGFA\", \"SecondLargestPropertyUseType\", \"SecondLargestPropertyUseTypeGFA\", \"ThirdLargestPropertyUseType\", \"ThirdLargestPropertyUseTypeGFA\", \"Outlier\"]\n",
    "\n",
    "all_data_v1[columns_to_fill]\n",
    "\n",
    "#GFA_outlier_example = all_data_v1.iloc[16]\n",
    "GFA_outlier_example = all_data[all_data.index.isin([16])]\n",
    "GFA_outlier_example\n",
    "\n",
    "\n"
   ],
   "metadata": {
    "collapsed": false,
    "pycharm": {
     "name": "#%%\n"
    }
   }
  },
  {
   "cell_type": "code",
   "execution_count": 75,
   "outputs": [
    {
     "name": "stdout",
     "output_type": "stream",
     "text": [
      "<class 'pandas.core.frame.DataFrame'>\n",
      "RangeIndex: 3376 entries, 0 to 3375\n",
      "Data columns (total 36 columns):\n",
      " #   Column                           Non-Null Count  Dtype  \n",
      "---  ------                           --------------  -----  \n",
      " 0   OSEBuildingID                    3376 non-null   int64  \n",
      " 1   DataYear                         3376 non-null   int64  \n",
      " 2   BuildingType                     3376 non-null   object \n",
      " 3   PrimaryPropertyType              3376 non-null   object \n",
      " 4   ZipCode                          3360 non-null   float64\n",
      " 5   CouncilDistrictCode              3376 non-null   int64  \n",
      " 6   Latitude                         3376 non-null   float64\n",
      " 7   Longitude                        3376 non-null   float64\n",
      " 8   YearBuilt                        3376 non-null   int64  \n",
      " 9   NumberofBuildings                3368 non-null   float64\n",
      " 10  NumberofFloors                   3376 non-null   int64  \n",
      " 11  PropertyGFATotal                 3376 non-null   int64  \n",
      " 12  PropertyGFAParking               3376 non-null   int64  \n",
      " 13  PropertyGFABuilding(s)           3376 non-null   int64  \n",
      " 14  ListOfAllPropertyUseTypes        3367 non-null   object \n",
      " 15  LargestPropertyUseType           3356 non-null   object \n",
      " 16  LargestPropertyUseTypeGFA        3356 non-null   float64\n",
      " 17  SecondLargestPropertyUseType     1679 non-null   object \n",
      " 18  SecondLargestPropertyUseTypeGFA  1679 non-null   float64\n",
      " 19  ThirdLargestPropertyUseType      596 non-null    object \n",
      " 20  ThirdLargestPropertyUseTypeGFA   596 non-null    float64\n",
      " 21  ENERGYSTARScore                  2533 non-null   float64\n",
      " 22  SiteEUI(kBtu/sf)                 3369 non-null   float64\n",
      " 23  SiteEUIWN(kBtu/sf)               3370 non-null   float64\n",
      " 24  SourceEUI(kBtu/sf)               3367 non-null   float64\n",
      " 25  SourceEUIWN(kBtu/sf)             3367 non-null   float64\n",
      " 26  SiteEnergyUse(kBtu)              3371 non-null   float64\n",
      " 27  SiteEnergyUseWN(kBtu)            3370 non-null   float64\n",
      " 28  SteamUse(kBtu)                   3367 non-null   float64\n",
      " 29  Electricity(kWh)                 3367 non-null   float64\n",
      " 30  Electricity(kBtu)                3367 non-null   float64\n",
      " 31  NaturalGas(therms)               3367 non-null   float64\n",
      " 32  NaturalGas(kBtu)                 3367 non-null   float64\n",
      " 33  Outlier                          32 non-null     object \n",
      " 34  TotalGHGEmissions                3367 non-null   float64\n",
      " 35  GHGEmissionsIntensity            3367 non-null   float64\n",
      "dtypes: float64(21), int64(8), object(7)\n",
      "memory usage: 949.6+ KB\n",
      "[98101.0, 98121.0, 98104.0, 98154.0, 98118.0, 98105.0, 98112.0, 98125.0, 98109.0, 98070.0, 98108.0, 98199.0, 98115.0, 98107.0, 98144.0, 98103.0, 98119.0, 98136.0, 98122.0, 98126.0, 98133.0, 98146.0, 98033.0, 98106.0, 98111.0, 98134.0, 98117.0, 98116.0, 98191.0, 98164.0, 98195.0, 98185.0, 98181.0, 98102.0, 98168.0, 98155.0, 98006.0, 98124.0, 98053.0, 98012.0, 98013.0, 98028.0, 98178.0, 98114.0, 98127.0, 98165.0, 98011.0, 98198.0, 98113.0, 98040.0, 98204.0, 98177.0, 98020.0, 98272.0, 98145.0, nan]\n"
     ]
    }
   ],
   "source": [
    "all_data_v1.info()\n",
    "# ZipCode missing 16 $$$\n",
    "\n",
    "l = all_data[\"ZipCode\"].unique().tolist()\n",
    "\n",
    "print(l)\n",
    "zipcode_na = all_data[all_data[\"ZipCode\"].isna()]\n",
    "zipcode_na_list_address = zipcode_na[\"Address\"].tolist()\n",
    "\n",
    "\n",
    "zipcode_na_list = [[i, \"\"] for i in zipcode_na_list_address]"
   ],
   "metadata": {
    "collapsed": false,
    "pycharm": {
     "name": "#%%\n"
    }
   }
  },
  {
   "cell_type": "code",
   "execution_count": 77,
   "outputs": [
    {
     "name": "stdout",
     "output_type": "stream",
     "text": [
      "16\n",
      "[['10510 5th Ave NE', 98125], ['405 MLK Jr Way S', 98144], ['8729 15th Ave NW', 98117], ['2806 NE 127th St', 98125], ['6020 28th ave NW', 98107], ['1471 NW 67th St', 98117], ['1403 w howe', 98119], ['1400 E Galer St', 98112], ['2323 East Cherry St', 98122], ['4420 S Genesee', 98118], ['6920 34th Ave SW', 98126], ['1600 S Dakota St', 98108], ['719 8th Ave S', 98104], ['1920 1st Ave W', 98119], ['8319 8th Ave S', 98108], ['2820 S Myrtle St', 98108]]\n"
     ]
    }
   ],
   "source": [
    "zipcode_na_list\n",
    "\n",
    "right_zipcode = [98125, 98144, 98117, 98125, 98107, 98117, 98119, 98112, 98122, 98118, 98126, 98108, 98104, 98119, 98108, 98108]\n",
    "\n",
    "print(len(right_zipcode))\n",
    "\n",
    "for i, zipcode in enumerate(right_zipcode):\n",
    "    zipcode_na_list[i][1] = zipcode\n",
    "\n",
    "print(zipcode_na_list)"
   ],
   "metadata": {
    "collapsed": false,
    "pycharm": {
     "name": "#%%\n"
    }
   }
  },
  {
   "cell_type": "code",
   "execution_count": 73,
   "outputs": [
    {
     "data": {
      "text/plain": "'b'"
     },
     "execution_count": 73,
     "metadata": {},
     "output_type": "execute_result"
    }
   ],
   "source": [
    "l = [(\"a\", \"b\")]\n",
    "\n",
    "l[0][1]"
   ],
   "metadata": {
    "collapsed": false,
    "pycharm": {
     "name": "#%%\n"
    }
   }
  },
  {
   "cell_type": "code",
   "execution_count": 56,
   "outputs": [],
   "source": [
    "def fill_second_third_property(data_frame, columns_to_fill):\n",
    "    \"\"\"\n",
    "\n",
    "    :param data_frame:\n",
    "    :param columns_to_fill:\n",
    "    :return:\n",
    "    \"\"\"\n",
    "    df = data_frame.copy()\n",
    "    df = df\n",
    "    pass"
   ],
   "metadata": {
    "collapsed": false,
    "pycharm": {
     "name": "#%%\n"
    }
   }
  },
  {
   "cell_type": "code",
   "execution_count": 57,
   "outputs": [
    {
     "name": "stdout",
     "output_type": "stream",
     "text": [
      "<class 'pandas.core.frame.DataFrame'>\n",
      "RangeIndex: 3376 entries, 0 to 3375\n",
      "Data columns (total 36 columns):\n",
      " #   Column                           Non-Null Count  Dtype  \n",
      "---  ------                           --------------  -----  \n",
      " 0   OSEBuildingID                    3376 non-null   int64  \n",
      " 1   DataYear                         3376 non-null   int64  \n",
      " 2   BuildingType                     3376 non-null   object \n",
      " 3   PrimaryPropertyType              3376 non-null   object \n",
      " 4   ZipCode                          3360 non-null   float64\n",
      " 5   CouncilDistrictCode              3376 non-null   int64  \n",
      " 6   Latitude                         3376 non-null   float64\n",
      " 7   Longitude                        3376 non-null   float64\n",
      " 8   YearBuilt                        3376 non-null   int64  \n",
      " 9   NumberofBuildings                3368 non-null   float64\n",
      " 10  NumberofFloors                   3376 non-null   int64  \n",
      " 11  PropertyGFATotal                 3376 non-null   int64  \n",
      " 12  PropertyGFAParking               3376 non-null   int64  \n",
      " 13  PropertyGFABuilding(s)           3376 non-null   int64  \n",
      " 14  ListOfAllPropertyUseTypes        3367 non-null   object \n",
      " 15  LargestPropertyUseType           3356 non-null   object \n",
      " 16  LargestPropertyUseTypeGFA        3356 non-null   float64\n",
      " 17  SecondLargestPropertyUseType     1679 non-null   object \n",
      " 18  SecondLargestPropertyUseTypeGFA  1679 non-null   float64\n",
      " 19  ThirdLargestPropertyUseType      596 non-null    object \n",
      " 20  ThirdLargestPropertyUseTypeGFA   596 non-null    float64\n",
      " 21  ENERGYSTARScore                  2533 non-null   float64\n",
      " 22  SiteEUI(kBtu/sf)                 3369 non-null   float64\n",
      " 23  SiteEUIWN(kBtu/sf)               3370 non-null   float64\n",
      " 24  SourceEUI(kBtu/sf)               3367 non-null   float64\n",
      " 25  SourceEUIWN(kBtu/sf)             3367 non-null   float64\n",
      " 26  SiteEnergyUse(kBtu)              3371 non-null   float64\n",
      " 27  SiteEnergyUseWN(kBtu)            3370 non-null   float64\n",
      " 28  SteamUse(kBtu)                   3367 non-null   float64\n",
      " 29  Electricity(kWh)                 3367 non-null   float64\n",
      " 30  Electricity(kBtu)                3367 non-null   float64\n",
      " 31  NaturalGas(therms)               3367 non-null   float64\n",
      " 32  NaturalGas(kBtu)                 3367 non-null   float64\n",
      " 33  Outlier                          32 non-null     object \n",
      " 34  TotalGHGEmissions                3367 non-null   float64\n",
      " 35  GHGEmissionsIntensity            3367 non-null   float64\n",
      "dtypes: float64(21), int64(8), object(7)\n",
      "memory usage: 949.6+ KB\n"
     ]
    }
   ],
   "source": [
    "all_data_v1.info()"
   ],
   "metadata": {
    "collapsed": false,
    "pycharm": {
     "name": "#%%\n"
    }
   }
  },
  {
   "cell_type": "code",
   "execution_count": 58,
   "outputs": [
    {
     "data": {
      "text/plain": "      OSEBuildingID  DataYear          BuildingType  \\\n226             350      2016        NonResidential   \n384             539      2016        NonResidential   \n448             608      2016        NonResidential   \n517             704      2016        NonResidential   \n720           19708      2016  Multifamily HR (10+)   \n834           19934      2016  Multifamily LR (1-4)   \n839           19967      2016     SPS-District K-12   \n962           20367      2016  Multifamily LR (1-4)   \n1045          20617      2016        NonResidential   \n1229          21315      2016        NonResidential   \n1295          21474      2016        NonResidential   \n1341          21562      2016  Multifamily LR (1-4)   \n1611          22830      2016        NonResidential   \n1707          23174      2016  Multifamily LR (1-4)   \n1888          23708      2016  Multifamily LR (1-4)   \n1945          23912      2016        NonResidential   \n2129          24547      2016        NonResidential   \n2189          24717      2016        NonResidential   \n2216          24825      2016        NonResidential   \n2353          25358      2016  Multifamily LR (1-4)   \n2410          25553      2016        NonResidential   \n2450          25674      2016        NonResidential   \n2476          25756      2016  Multifamily LR (1-4)   \n2763          26852      2016  Multifamily LR (1-4)   \n2801          27007      2016        NonResidential   \n2863          27245      2016  Multifamily LR (1-4)   \n2922          27526      2016  Multifamily LR (1-4)   \n3082          28735      2016  Multifamily LR (1-4)   \n3092          29390      2016  Multifamily MR (5-9)   \n3152          43948      2016    Nonresidential COS   \n3265          49943      2016  Multifamily LR (1-4)   \n3341          50071      2016  Multifamily MR (5-9)   \n\n              PrimaryPropertyType                    PropertyName  \\\n226                  Large Office      Second And Spring Building   \n384                  Retail Store               University Center   \n448                  Large Office          411 1ST AVE  S (ID608)   \n517                  Large Office            401 Elliott Ave West   \n720         High-Rise Multifamily                       Bay Vista   \n834          Low-Rise Multifamily                   Belmont Lofts   \n839                   K-12 School                  Queen Anne Gym   \n962          Low-Rise Multifamily           City Lights on Harbor   \n1045                 Retail Store           Seattle Habitat Store   \n1229  Small- and Mid-Sized Office                 1518 Fifith Ave   \n1295                        Other                  The Lusty Lady   \n1341         Low-Rise Multifamily           Diplomat Condominiums   \n1611             Worship Facility                  Freedom Church   \n1707         Mid-Rise Multifamily         Taylor Anne Condominium   \n1888         Low-Rise Multifamily           Anne Vista Apartments   \n1945  Small- and Mid-Sized Office                  1416 S Jackson   \n2129                  K-12 School       Islamic School of Seattle   \n2189                        Other        1701 First Ave South LLC   \n2216  Small- and Mid-Sized Office                   2233 Building   \n2353         Low-Rise Multifamily           One West Condominiums   \n2410                        Hotel  J & M HOTEL BUILDING (ID25553)   \n2450         Low-Rise Multifamily          (ID25674) COMET TAVERN   \n2476         Low-Rise Multifamily       West Olympic Condominiums   \n2763         Low-Rise Multifamily                  Atlas Building   \n2801             Worship Facility        Seattle Community Church   \n2863         Low-Rise Multifamily            St. Johns Apartments   \n2922         Low-Rise Multifamily                        Vali Hai   \n3082         Low-Rise Multifamily                      Building 4   \n3092         Mid-Rise Multifamily    Commodore Duchess Apartments   \n3152                        Other           Georgetown Steamplant   \n3265         Low-Rise Multifamily                   Stewart House   \n3341         Mid-Rise Multifamily       The Westside Off Broadway   \n\n                        Address     City State     ZipCode  \\\n226          1100 Second Avenue  Seattle    WA 98101.00000   \n384       4501 Roosevelt Way NE  Seattle    WA 98105.00000   \n448               411 1ST AVE S  Seattle    WA 98104.00000   \n517         401 Elliot Ave West  Seattle    WA 98119.00000   \n720                2821 2nd Ave  Seattle    WA 98121.00000   \n834           231 Belmont Ave E  Seattle    WA 98102.00000   \n839              1431 2nd Ave N  Seattle    WA 98109.00000   \n962         2349 Harbor Ave. SW  Seattle    WA 98126.00000   \n1045             21 S Nevada St  Seattle    WA 98134.00000   \n1229             1520 Fifth Ave  Seattle    WA 98101.00000   \n1295               1315 1st Ave  Seattle    WA 98101.00000   \n1341        4444 44th Avenue SW  Seattle    WA 98116.00000   \n1611              9601 35th Ave  Seattle    WA 98126.00000   \n1707          1730 Taylor Ave N  Seattle    WA 98109.00000   \n1888       2416-2420 54th Pl Sw  Seattle    WA 98116.00000   \n1945  1416 South Jackson Street  Seattle    WA 98133.00000   \n2129               720 25TH AVE  Seattle    WA 98122.00000   \n2189       1701 First Ave South  Seattle    WA 98134.00000   \n2216         2233 1st AVE.South  Seattle    WA 98104.00000   \n2353     5000 California Ave SW  Seattle    WA 98116.00000   \n2410              210 1St Ave S  Seattle    WA 98104.00000   \n2450              916 E PIKE ST  Seattle    WA 98122.00000   \n2476  5601 California Avenue SW  Seattle    WA 98116.00000   \n2763   420 Maynard Avenue South  Seattle    WA 98104.00000   \n2801        4501 46th Avenue NE  Seattle    WA 98105.00000   \n2863         725 E. Pike Street  Seattle    WA 98122.00000   \n2922             800 1st Ave N.  Seattle    WA 98112.00000   \n3082      400 NE Thornton Place  Seattle    WA 98125.00000   \n3092           4005 15th Ave NE  Seattle    WA 98105.00000   \n3152     6605 13th Avenue South  Seattle    WA 98108.00000   \n3265          80 Stewart Street  Seattle    WA 98101.00000   \n3341            801 E Thomas St  Seattle    WA 98102.00000   \n\n     TaxParcelIdentificationNumber  ...  Electricity(kWh) Electricity(kBtu)  \\\n226                     0942000045  ...    11663150.00000    39794668.00000   \n384                     5335200380  ...       93482.60156      318963.00000   \n448                     5247800200  ...      471503.00000     1608768.00000   \n517                     7666202110  ...     7953454.50000    27137187.00000   \n720                     0586400000  ...      626561.62500     2137828.00000   \n834                     0704600000  ...       75020.89844      255971.00000   \n839                     0811000005  ...       72282.39844      246628.00000   \n962                     1595200000  ...      205885.50000      702481.00000   \n1045                    1824049074  ...       14362.50000       49005.00000   \n1229                    1975700135  ...        7064.89990       24105.00000   \n1295                    1976200060  ...       12981.70020       44294.00000   \n1341                    2041200000  ...       56124.80078      191498.00000   \n1611                    2858600090  ...       29555.00000      100842.00000   \n1707                    8567250000  ...     1961077.75000     6691197.00000   \n1888                    3505100761  ...       48305.39844      164818.00000   \n1945                    3320000165  ...       41554.60156      141784.00000   \n2129                    6840700175  ...       47292.89844      161363.00000   \n2189                    7666207085  ...        4926.39990       16809.00000   \n2216                    7666207190  ...       34489.89844      117680.00000   \n2353                    6391900000  ...       58633.19922      200056.00000   \n2410                    5247800130  ...      147639.09380      503745.00000   \n2450                    6003500480  ...        3332.50000       11370.00000   \n2476                    9270000000  ...       45368.69922      154798.00000   \n2763                    5247802315  ...      514840.68750     1756636.00000   \n2801                    5364200005  ...       30692.30078      104722.00000   \n2863                    7502500061  ...      293781.31250     1002382.00000   \n2922                    5457300300  ...      584334.68750     1993750.00000   \n3082                    8632880000  ...     1161542.75000     3963184.00000   \n3092                    1142002395  ...      459770.00000     1568735.00000   \n3152                    0000000000  ...       21210.59961       72371.00000   \n3265                    8008550000  ...     1054888.87500     3599281.00000   \n3341                    6003501185  ...        3930.00000       13409.00000   \n\n      NaturalGas(therms)  NaturalGas(kBtu)  DefaultData  Comments  \\\n226          16048.30957     1604831.00000        False       NaN   \n384              0.00000           0.00000        False       NaN   \n448           3430.50049      343050.00000        False       NaN   \n517              0.00000           0.00000        False       NaN   \n720           2700.76001      270076.00000        False       NaN   \n834              0.00000           0.00000        False       NaN   \n839           1848.43958      184844.00000         True       NaN   \n962              0.00000           0.00000        False       NaN   \n1045           964.64001       96464.00000         True       NaN   \n1229             0.00000           0.00000        False       NaN   \n1295             0.00000           0.00000        False       NaN   \n1341             0.00000           0.00000        False       NaN   \n1611             0.00000           0.00000        False       NaN   \n1707          1432.32996      143233.00000        False       NaN   \n1888             0.00000           0.00000        False       NaN   \n1945          1430.72986      143073.00000        False       NaN   \n2129             0.00000           0.00000        False       NaN   \n2189             0.00000           0.00000        False       NaN   \n2216           868.19391       86819.00000        False       NaN   \n2353             0.00000           0.00000        False       NaN   \n2410             0.00000           0.00000        False       NaN   \n2450           968.30017       96830.00000        False       NaN   \n2476             0.00000           0.00000        False       NaN   \n2763         51247.68750     5124769.00000        False       NaN   \n2801             0.00000           0.00000        False       NaN   \n2863         16793.89063     1679389.00000        False       NaN   \n2922         25253.65039     2525365.00000        False       NaN   \n3082         94960.35938     9496036.00000        False       NaN   \n3092           696.96002       69696.00000        False       NaN   \n3152             0.00000           0.00000        False       NaN   \n3265         10035.12012     1003512.00000        False       NaN   \n3341             0.00000           0.00000        False       NaN   \n\n                  ComplianceStatus       Outlier  TotalGHGEmissions  \\\n226                  Non-Compliant  High outlier          362.66000   \n384                  Non-Compliant   Low outlier            2.22000   \n448                  Non-Compliant   Low outlier           29.43000   \n517                  Non-Compliant  High outlier          189.18000   \n720                  Non-Compliant   Low outlier           29.25000   \n834                  Non-Compliant   Low outlier            1.78000   \n839   Error - Correct Default Data   Low outlier           11.54000   \n962                  Non-Compliant   Low outlier            4.90000   \n1045  Error - Correct Default Data   Low outlier            5.46000   \n1229                 Non-Compliant   Low outlier            0.17000   \n1295                 Non-Compliant   Low outlier            0.31000   \n1341                 Non-Compliant   Low outlier            1.34000   \n1611                 Non-Compliant   Low outlier            0.70000   \n1707                 Non-Compliant  High outlier           54.25000   \n1888                 Non-Compliant   Low outlier            1.15000   \n1945                 Non-Compliant   Low outlier            8.59000   \n2129                 Non-Compliant   Low outlier            1.12000   \n2189                 Non-Compliant   Low outlier            0.12000   \n2216                 Non-Compliant   Low outlier            5.43000   \n2353                 Non-Compliant   Low outlier            1.39000   \n2410                 Non-Compliant   Low outlier            3.51000   \n2450                 Non-Compliant   Low outlier            5.22000   \n2476                 Non-Compliant   Low outlier            1.08000   \n2763                 Non-Compliant  High outlier          284.42000   \n2801                 Non-Compliant   Low outlier            0.73000   \n2863                 Non-Compliant  High outlier           96.18000   \n2922                 Non-Compliant  High outlier          148.02000   \n3082                 Non-Compliant  High outlier          531.96000   \n3092                 Non-Compliant  High outlier          686.53000   \n3152                 Non-Compliant   Low outlier            0.50000   \n3265                 Non-Compliant  High outlier           78.39000   \n3341                 Non-Compliant   Low outlier            0.09000   \n\n      GHGEmissionsIntensity  \n226                 2.10000  \n384                 0.03000  \n448                 0.19000  \n517                 1.46000  \n720                 0.17000  \n834                 0.06000  \n839                 0.32000  \n962                 0.07000  \n1045                0.14000  \n1229                0.00000  \n1295                0.01000  \n1341                0.04000  \n1611                0.03000  \n1707                1.77000  \n1888                0.06000  \n1945                0.19000  \n2129                0.05000  \n2189                0.00000  \n2216                0.26000  \n2353                0.05000  \n2410                0.14000  \n2450                0.16000  \n2476                0.05000  \n2763                6.11000  \n2801                0.04000  \n2863                3.90000  \n2922                3.41000  \n3082               11.38000  \n3092                7.01000  \n3152                0.01000  \n3265                1.60000  \n3341                0.00000  \n\n[32 rows x 46 columns]",
      "text/html": "<div>\n<style scoped>\n    .dataframe tbody tr th:only-of-type {\n        vertical-align: middle;\n    }\n\n    .dataframe tbody tr th {\n        vertical-align: top;\n    }\n\n    .dataframe thead th {\n        text-align: right;\n    }\n</style>\n<table border=\"1\" class=\"dataframe\">\n  <thead>\n    <tr style=\"text-align: right;\">\n      <th></th>\n      <th>OSEBuildingID</th>\n      <th>DataYear</th>\n      <th>BuildingType</th>\n      <th>PrimaryPropertyType</th>\n      <th>PropertyName</th>\n      <th>Address</th>\n      <th>City</th>\n      <th>State</th>\n      <th>ZipCode</th>\n      <th>TaxParcelIdentificationNumber</th>\n      <th>...</th>\n      <th>Electricity(kWh)</th>\n      <th>Electricity(kBtu)</th>\n      <th>NaturalGas(therms)</th>\n      <th>NaturalGas(kBtu)</th>\n      <th>DefaultData</th>\n      <th>Comments</th>\n      <th>ComplianceStatus</th>\n      <th>Outlier</th>\n      <th>TotalGHGEmissions</th>\n      <th>GHGEmissionsIntensity</th>\n    </tr>\n  </thead>\n  <tbody>\n    <tr>\n      <th>226</th>\n      <td>350</td>\n      <td>2016</td>\n      <td>NonResidential</td>\n      <td>Large Office</td>\n      <td>Second And Spring Building</td>\n      <td>1100 Second Avenue</td>\n      <td>Seattle</td>\n      <td>WA</td>\n      <td>98101.00000</td>\n      <td>0942000045</td>\n      <td>...</td>\n      <td>11663150.00000</td>\n      <td>39794668.00000</td>\n      <td>16048.30957</td>\n      <td>1604831.00000</td>\n      <td>False</td>\n      <td>NaN</td>\n      <td>Non-Compliant</td>\n      <td>High outlier</td>\n      <td>362.66000</td>\n      <td>2.10000</td>\n    </tr>\n    <tr>\n      <th>384</th>\n      <td>539</td>\n      <td>2016</td>\n      <td>NonResidential</td>\n      <td>Retail Store</td>\n      <td>University Center</td>\n      <td>4501 Roosevelt Way NE</td>\n      <td>Seattle</td>\n      <td>WA</td>\n      <td>98105.00000</td>\n      <td>5335200380</td>\n      <td>...</td>\n      <td>93482.60156</td>\n      <td>318963.00000</td>\n      <td>0.00000</td>\n      <td>0.00000</td>\n      <td>False</td>\n      <td>NaN</td>\n      <td>Non-Compliant</td>\n      <td>Low outlier</td>\n      <td>2.22000</td>\n      <td>0.03000</td>\n    </tr>\n    <tr>\n      <th>448</th>\n      <td>608</td>\n      <td>2016</td>\n      <td>NonResidential</td>\n      <td>Large Office</td>\n      <td>411 1ST AVE  S (ID608)</td>\n      <td>411 1ST AVE S</td>\n      <td>Seattle</td>\n      <td>WA</td>\n      <td>98104.00000</td>\n      <td>5247800200</td>\n      <td>...</td>\n      <td>471503.00000</td>\n      <td>1608768.00000</td>\n      <td>3430.50049</td>\n      <td>343050.00000</td>\n      <td>False</td>\n      <td>NaN</td>\n      <td>Non-Compliant</td>\n      <td>Low outlier</td>\n      <td>29.43000</td>\n      <td>0.19000</td>\n    </tr>\n    <tr>\n      <th>517</th>\n      <td>704</td>\n      <td>2016</td>\n      <td>NonResidential</td>\n      <td>Large Office</td>\n      <td>401 Elliott Ave West</td>\n      <td>401 Elliot Ave West</td>\n      <td>Seattle</td>\n      <td>WA</td>\n      <td>98119.00000</td>\n      <td>7666202110</td>\n      <td>...</td>\n      <td>7953454.50000</td>\n      <td>27137187.00000</td>\n      <td>0.00000</td>\n      <td>0.00000</td>\n      <td>False</td>\n      <td>NaN</td>\n      <td>Non-Compliant</td>\n      <td>High outlier</td>\n      <td>189.18000</td>\n      <td>1.46000</td>\n    </tr>\n    <tr>\n      <th>720</th>\n      <td>19708</td>\n      <td>2016</td>\n      <td>Multifamily HR (10+)</td>\n      <td>High-Rise Multifamily</td>\n      <td>Bay Vista</td>\n      <td>2821 2nd Ave</td>\n      <td>Seattle</td>\n      <td>WA</td>\n      <td>98121.00000</td>\n      <td>0586400000</td>\n      <td>...</td>\n      <td>626561.62500</td>\n      <td>2137828.00000</td>\n      <td>2700.76001</td>\n      <td>270076.00000</td>\n      <td>False</td>\n      <td>NaN</td>\n      <td>Non-Compliant</td>\n      <td>Low outlier</td>\n      <td>29.25000</td>\n      <td>0.17000</td>\n    </tr>\n    <tr>\n      <th>834</th>\n      <td>19934</td>\n      <td>2016</td>\n      <td>Multifamily LR (1-4)</td>\n      <td>Low-Rise Multifamily</td>\n      <td>Belmont Lofts</td>\n      <td>231 Belmont Ave E</td>\n      <td>Seattle</td>\n      <td>WA</td>\n      <td>98102.00000</td>\n      <td>0704600000</td>\n      <td>...</td>\n      <td>75020.89844</td>\n      <td>255971.00000</td>\n      <td>0.00000</td>\n      <td>0.00000</td>\n      <td>False</td>\n      <td>NaN</td>\n      <td>Non-Compliant</td>\n      <td>Low outlier</td>\n      <td>1.78000</td>\n      <td>0.06000</td>\n    </tr>\n    <tr>\n      <th>839</th>\n      <td>19967</td>\n      <td>2016</td>\n      <td>SPS-District K-12</td>\n      <td>K-12 School</td>\n      <td>Queen Anne Gym</td>\n      <td>1431 2nd Ave N</td>\n      <td>Seattle</td>\n      <td>WA</td>\n      <td>98109.00000</td>\n      <td>0811000005</td>\n      <td>...</td>\n      <td>72282.39844</td>\n      <td>246628.00000</td>\n      <td>1848.43958</td>\n      <td>184844.00000</td>\n      <td>True</td>\n      <td>NaN</td>\n      <td>Error - Correct Default Data</td>\n      <td>Low outlier</td>\n      <td>11.54000</td>\n      <td>0.32000</td>\n    </tr>\n    <tr>\n      <th>962</th>\n      <td>20367</td>\n      <td>2016</td>\n      <td>Multifamily LR (1-4)</td>\n      <td>Low-Rise Multifamily</td>\n      <td>City Lights on Harbor</td>\n      <td>2349 Harbor Ave. SW</td>\n      <td>Seattle</td>\n      <td>WA</td>\n      <td>98126.00000</td>\n      <td>1595200000</td>\n      <td>...</td>\n      <td>205885.50000</td>\n      <td>702481.00000</td>\n      <td>0.00000</td>\n      <td>0.00000</td>\n      <td>False</td>\n      <td>NaN</td>\n      <td>Non-Compliant</td>\n      <td>Low outlier</td>\n      <td>4.90000</td>\n      <td>0.07000</td>\n    </tr>\n    <tr>\n      <th>1045</th>\n      <td>20617</td>\n      <td>2016</td>\n      <td>NonResidential</td>\n      <td>Retail Store</td>\n      <td>Seattle Habitat Store</td>\n      <td>21 S Nevada St</td>\n      <td>Seattle</td>\n      <td>WA</td>\n      <td>98134.00000</td>\n      <td>1824049074</td>\n      <td>...</td>\n      <td>14362.50000</td>\n      <td>49005.00000</td>\n      <td>964.64001</td>\n      <td>96464.00000</td>\n      <td>True</td>\n      <td>NaN</td>\n      <td>Error - Correct Default Data</td>\n      <td>Low outlier</td>\n      <td>5.46000</td>\n      <td>0.14000</td>\n    </tr>\n    <tr>\n      <th>1229</th>\n      <td>21315</td>\n      <td>2016</td>\n      <td>NonResidential</td>\n      <td>Small- and Mid-Sized Office</td>\n      <td>1518 Fifith Ave</td>\n      <td>1520 Fifth Ave</td>\n      <td>Seattle</td>\n      <td>WA</td>\n      <td>98101.00000</td>\n      <td>1975700135</td>\n      <td>...</td>\n      <td>7064.89990</td>\n      <td>24105.00000</td>\n      <td>0.00000</td>\n      <td>0.00000</td>\n      <td>False</td>\n      <td>NaN</td>\n      <td>Non-Compliant</td>\n      <td>Low outlier</td>\n      <td>0.17000</td>\n      <td>0.00000</td>\n    </tr>\n    <tr>\n      <th>1295</th>\n      <td>21474</td>\n      <td>2016</td>\n      <td>NonResidential</td>\n      <td>Other</td>\n      <td>The Lusty Lady</td>\n      <td>1315 1st Ave</td>\n      <td>Seattle</td>\n      <td>WA</td>\n      <td>98101.00000</td>\n      <td>1976200060</td>\n      <td>...</td>\n      <td>12981.70020</td>\n      <td>44294.00000</td>\n      <td>0.00000</td>\n      <td>0.00000</td>\n      <td>False</td>\n      <td>NaN</td>\n      <td>Non-Compliant</td>\n      <td>Low outlier</td>\n      <td>0.31000</td>\n      <td>0.01000</td>\n    </tr>\n    <tr>\n      <th>1341</th>\n      <td>21562</td>\n      <td>2016</td>\n      <td>Multifamily LR (1-4)</td>\n      <td>Low-Rise Multifamily</td>\n      <td>Diplomat Condominiums</td>\n      <td>4444 44th Avenue SW</td>\n      <td>Seattle</td>\n      <td>WA</td>\n      <td>98116.00000</td>\n      <td>2041200000</td>\n      <td>...</td>\n      <td>56124.80078</td>\n      <td>191498.00000</td>\n      <td>0.00000</td>\n      <td>0.00000</td>\n      <td>False</td>\n      <td>NaN</td>\n      <td>Non-Compliant</td>\n      <td>Low outlier</td>\n      <td>1.34000</td>\n      <td>0.04000</td>\n    </tr>\n    <tr>\n      <th>1611</th>\n      <td>22830</td>\n      <td>2016</td>\n      <td>NonResidential</td>\n      <td>Worship Facility</td>\n      <td>Freedom Church</td>\n      <td>9601 35th Ave</td>\n      <td>Seattle</td>\n      <td>WA</td>\n      <td>98126.00000</td>\n      <td>2858600090</td>\n      <td>...</td>\n      <td>29555.00000</td>\n      <td>100842.00000</td>\n      <td>0.00000</td>\n      <td>0.00000</td>\n      <td>False</td>\n      <td>NaN</td>\n      <td>Non-Compliant</td>\n      <td>Low outlier</td>\n      <td>0.70000</td>\n      <td>0.03000</td>\n    </tr>\n    <tr>\n      <th>1707</th>\n      <td>23174</td>\n      <td>2016</td>\n      <td>Multifamily LR (1-4)</td>\n      <td>Mid-Rise Multifamily</td>\n      <td>Taylor Anne Condominium</td>\n      <td>1730 Taylor Ave N</td>\n      <td>Seattle</td>\n      <td>WA</td>\n      <td>98109.00000</td>\n      <td>8567250000</td>\n      <td>...</td>\n      <td>1961077.75000</td>\n      <td>6691197.00000</td>\n      <td>1432.32996</td>\n      <td>143233.00000</td>\n      <td>False</td>\n      <td>NaN</td>\n      <td>Non-Compliant</td>\n      <td>High outlier</td>\n      <td>54.25000</td>\n      <td>1.77000</td>\n    </tr>\n    <tr>\n      <th>1888</th>\n      <td>23708</td>\n      <td>2016</td>\n      <td>Multifamily LR (1-4)</td>\n      <td>Low-Rise Multifamily</td>\n      <td>Anne Vista Apartments</td>\n      <td>2416-2420 54th Pl Sw</td>\n      <td>Seattle</td>\n      <td>WA</td>\n      <td>98116.00000</td>\n      <td>3505100761</td>\n      <td>...</td>\n      <td>48305.39844</td>\n      <td>164818.00000</td>\n      <td>0.00000</td>\n      <td>0.00000</td>\n      <td>False</td>\n      <td>NaN</td>\n      <td>Non-Compliant</td>\n      <td>Low outlier</td>\n      <td>1.15000</td>\n      <td>0.06000</td>\n    </tr>\n    <tr>\n      <th>1945</th>\n      <td>23912</td>\n      <td>2016</td>\n      <td>NonResidential</td>\n      <td>Small- and Mid-Sized Office</td>\n      <td>1416 S Jackson</td>\n      <td>1416 South Jackson Street</td>\n      <td>Seattle</td>\n      <td>WA</td>\n      <td>98133.00000</td>\n      <td>3320000165</td>\n      <td>...</td>\n      <td>41554.60156</td>\n      <td>141784.00000</td>\n      <td>1430.72986</td>\n      <td>143073.00000</td>\n      <td>False</td>\n      <td>NaN</td>\n      <td>Non-Compliant</td>\n      <td>Low outlier</td>\n      <td>8.59000</td>\n      <td>0.19000</td>\n    </tr>\n    <tr>\n      <th>2129</th>\n      <td>24547</td>\n      <td>2016</td>\n      <td>NonResidential</td>\n      <td>K-12 School</td>\n      <td>Islamic School of Seattle</td>\n      <td>720 25TH AVE</td>\n      <td>Seattle</td>\n      <td>WA</td>\n      <td>98122.00000</td>\n      <td>6840700175</td>\n      <td>...</td>\n      <td>47292.89844</td>\n      <td>161363.00000</td>\n      <td>0.00000</td>\n      <td>0.00000</td>\n      <td>False</td>\n      <td>NaN</td>\n      <td>Non-Compliant</td>\n      <td>Low outlier</td>\n      <td>1.12000</td>\n      <td>0.05000</td>\n    </tr>\n    <tr>\n      <th>2189</th>\n      <td>24717</td>\n      <td>2016</td>\n      <td>NonResidential</td>\n      <td>Other</td>\n      <td>1701 First Ave South LLC</td>\n      <td>1701 First Ave South</td>\n      <td>Seattle</td>\n      <td>WA</td>\n      <td>98134.00000</td>\n      <td>7666207085</td>\n      <td>...</td>\n      <td>4926.39990</td>\n      <td>16809.00000</td>\n      <td>0.00000</td>\n      <td>0.00000</td>\n      <td>False</td>\n      <td>NaN</td>\n      <td>Non-Compliant</td>\n      <td>Low outlier</td>\n      <td>0.12000</td>\n      <td>0.00000</td>\n    </tr>\n    <tr>\n      <th>2216</th>\n      <td>24825</td>\n      <td>2016</td>\n      <td>NonResidential</td>\n      <td>Small- and Mid-Sized Office</td>\n      <td>2233 Building</td>\n      <td>2233 1st AVE.South</td>\n      <td>Seattle</td>\n      <td>WA</td>\n      <td>98104.00000</td>\n      <td>7666207190</td>\n      <td>...</td>\n      <td>34489.89844</td>\n      <td>117680.00000</td>\n      <td>868.19391</td>\n      <td>86819.00000</td>\n      <td>False</td>\n      <td>NaN</td>\n      <td>Non-Compliant</td>\n      <td>Low outlier</td>\n      <td>5.43000</td>\n      <td>0.26000</td>\n    </tr>\n    <tr>\n      <th>2353</th>\n      <td>25358</td>\n      <td>2016</td>\n      <td>Multifamily LR (1-4)</td>\n      <td>Low-Rise Multifamily</td>\n      <td>One West Condominiums</td>\n      <td>5000 California Ave SW</td>\n      <td>Seattle</td>\n      <td>WA</td>\n      <td>98116.00000</td>\n      <td>6391900000</td>\n      <td>...</td>\n      <td>58633.19922</td>\n      <td>200056.00000</td>\n      <td>0.00000</td>\n      <td>0.00000</td>\n      <td>False</td>\n      <td>NaN</td>\n      <td>Non-Compliant</td>\n      <td>Low outlier</td>\n      <td>1.39000</td>\n      <td>0.05000</td>\n    </tr>\n    <tr>\n      <th>2410</th>\n      <td>25553</td>\n      <td>2016</td>\n      <td>NonResidential</td>\n      <td>Hotel</td>\n      <td>J &amp; M HOTEL BUILDING (ID25553)</td>\n      <td>210 1St Ave S</td>\n      <td>Seattle</td>\n      <td>WA</td>\n      <td>98104.00000</td>\n      <td>5247800130</td>\n      <td>...</td>\n      <td>147639.09380</td>\n      <td>503745.00000</td>\n      <td>0.00000</td>\n      <td>0.00000</td>\n      <td>False</td>\n      <td>NaN</td>\n      <td>Non-Compliant</td>\n      <td>Low outlier</td>\n      <td>3.51000</td>\n      <td>0.14000</td>\n    </tr>\n    <tr>\n      <th>2450</th>\n      <td>25674</td>\n      <td>2016</td>\n      <td>NonResidential</td>\n      <td>Low-Rise Multifamily</td>\n      <td>(ID25674) COMET TAVERN</td>\n      <td>916 E PIKE ST</td>\n      <td>Seattle</td>\n      <td>WA</td>\n      <td>98122.00000</td>\n      <td>6003500480</td>\n      <td>...</td>\n      <td>3332.50000</td>\n      <td>11370.00000</td>\n      <td>968.30017</td>\n      <td>96830.00000</td>\n      <td>False</td>\n      <td>NaN</td>\n      <td>Non-Compliant</td>\n      <td>Low outlier</td>\n      <td>5.22000</td>\n      <td>0.16000</td>\n    </tr>\n    <tr>\n      <th>2476</th>\n      <td>25756</td>\n      <td>2016</td>\n      <td>Multifamily LR (1-4)</td>\n      <td>Low-Rise Multifamily</td>\n      <td>West Olympic Condominiums</td>\n      <td>5601 California Avenue SW</td>\n      <td>Seattle</td>\n      <td>WA</td>\n      <td>98116.00000</td>\n      <td>9270000000</td>\n      <td>...</td>\n      <td>45368.69922</td>\n      <td>154798.00000</td>\n      <td>0.00000</td>\n      <td>0.00000</td>\n      <td>False</td>\n      <td>NaN</td>\n      <td>Non-Compliant</td>\n      <td>Low outlier</td>\n      <td>1.08000</td>\n      <td>0.05000</td>\n    </tr>\n    <tr>\n      <th>2763</th>\n      <td>26852</td>\n      <td>2016</td>\n      <td>Multifamily LR (1-4)</td>\n      <td>Low-Rise Multifamily</td>\n      <td>Atlas Building</td>\n      <td>420 Maynard Avenue South</td>\n      <td>Seattle</td>\n      <td>WA</td>\n      <td>98104.00000</td>\n      <td>5247802315</td>\n      <td>...</td>\n      <td>514840.68750</td>\n      <td>1756636.00000</td>\n      <td>51247.68750</td>\n      <td>5124769.00000</td>\n      <td>False</td>\n      <td>NaN</td>\n      <td>Non-Compliant</td>\n      <td>High outlier</td>\n      <td>284.42000</td>\n      <td>6.11000</td>\n    </tr>\n    <tr>\n      <th>2801</th>\n      <td>27007</td>\n      <td>2016</td>\n      <td>NonResidential</td>\n      <td>Worship Facility</td>\n      <td>Seattle Community Church</td>\n      <td>4501 46th Avenue NE</td>\n      <td>Seattle</td>\n      <td>WA</td>\n      <td>98105.00000</td>\n      <td>5364200005</td>\n      <td>...</td>\n      <td>30692.30078</td>\n      <td>104722.00000</td>\n      <td>0.00000</td>\n      <td>0.00000</td>\n      <td>False</td>\n      <td>NaN</td>\n      <td>Non-Compliant</td>\n      <td>Low outlier</td>\n      <td>0.73000</td>\n      <td>0.04000</td>\n    </tr>\n    <tr>\n      <th>2863</th>\n      <td>27245</td>\n      <td>2016</td>\n      <td>Multifamily LR (1-4)</td>\n      <td>Low-Rise Multifamily</td>\n      <td>St. Johns Apartments</td>\n      <td>725 E. Pike Street</td>\n      <td>Seattle</td>\n      <td>WA</td>\n      <td>98122.00000</td>\n      <td>7502500061</td>\n      <td>...</td>\n      <td>293781.31250</td>\n      <td>1002382.00000</td>\n      <td>16793.89063</td>\n      <td>1679389.00000</td>\n      <td>False</td>\n      <td>NaN</td>\n      <td>Non-Compliant</td>\n      <td>High outlier</td>\n      <td>96.18000</td>\n      <td>3.90000</td>\n    </tr>\n    <tr>\n      <th>2922</th>\n      <td>27526</td>\n      <td>2016</td>\n      <td>Multifamily LR (1-4)</td>\n      <td>Low-Rise Multifamily</td>\n      <td>Vali Hai</td>\n      <td>800 1st Ave N.</td>\n      <td>Seattle</td>\n      <td>WA</td>\n      <td>98112.00000</td>\n      <td>5457300300</td>\n      <td>...</td>\n      <td>584334.68750</td>\n      <td>1993750.00000</td>\n      <td>25253.65039</td>\n      <td>2525365.00000</td>\n      <td>False</td>\n      <td>NaN</td>\n      <td>Non-Compliant</td>\n      <td>High outlier</td>\n      <td>148.02000</td>\n      <td>3.41000</td>\n    </tr>\n    <tr>\n      <th>3082</th>\n      <td>28735</td>\n      <td>2016</td>\n      <td>Multifamily LR (1-4)</td>\n      <td>Low-Rise Multifamily</td>\n      <td>Building 4</td>\n      <td>400 NE Thornton Place</td>\n      <td>Seattle</td>\n      <td>WA</td>\n      <td>98125.00000</td>\n      <td>8632880000</td>\n      <td>...</td>\n      <td>1161542.75000</td>\n      <td>3963184.00000</td>\n      <td>94960.35938</td>\n      <td>9496036.00000</td>\n      <td>False</td>\n      <td>NaN</td>\n      <td>Non-Compliant</td>\n      <td>High outlier</td>\n      <td>531.96000</td>\n      <td>11.38000</td>\n    </tr>\n    <tr>\n      <th>3092</th>\n      <td>29390</td>\n      <td>2016</td>\n      <td>Multifamily MR (5-9)</td>\n      <td>Mid-Rise Multifamily</td>\n      <td>Commodore Duchess Apartments</td>\n      <td>4005 15th Ave NE</td>\n      <td>Seattle</td>\n      <td>WA</td>\n      <td>98105.00000</td>\n      <td>1142002395</td>\n      <td>...</td>\n      <td>459770.00000</td>\n      <td>1568735.00000</td>\n      <td>696.96002</td>\n      <td>69696.00000</td>\n      <td>False</td>\n      <td>NaN</td>\n      <td>Non-Compliant</td>\n      <td>High outlier</td>\n      <td>686.53000</td>\n      <td>7.01000</td>\n    </tr>\n    <tr>\n      <th>3152</th>\n      <td>43948</td>\n      <td>2016</td>\n      <td>Nonresidential COS</td>\n      <td>Other</td>\n      <td>Georgetown Steamplant</td>\n      <td>6605 13th Avenue South</td>\n      <td>Seattle</td>\n      <td>WA</td>\n      <td>98108.00000</td>\n      <td>0000000000</td>\n      <td>...</td>\n      <td>21210.59961</td>\n      <td>72371.00000</td>\n      <td>0.00000</td>\n      <td>0.00000</td>\n      <td>False</td>\n      <td>NaN</td>\n      <td>Non-Compliant</td>\n      <td>Low outlier</td>\n      <td>0.50000</td>\n      <td>0.01000</td>\n    </tr>\n    <tr>\n      <th>3265</th>\n      <td>49943</td>\n      <td>2016</td>\n      <td>Multifamily LR (1-4)</td>\n      <td>Low-Rise Multifamily</td>\n      <td>Stewart House</td>\n      <td>80 Stewart Street</td>\n      <td>Seattle</td>\n      <td>WA</td>\n      <td>98101.00000</td>\n      <td>8008550000</td>\n      <td>...</td>\n      <td>1054888.87500</td>\n      <td>3599281.00000</td>\n      <td>10035.12012</td>\n      <td>1003512.00000</td>\n      <td>False</td>\n      <td>NaN</td>\n      <td>Non-Compliant</td>\n      <td>High outlier</td>\n      <td>78.39000</td>\n      <td>1.60000</td>\n    </tr>\n    <tr>\n      <th>3341</th>\n      <td>50071</td>\n      <td>2016</td>\n      <td>Multifamily MR (5-9)</td>\n      <td>Mid-Rise Multifamily</td>\n      <td>The Westside Off Broadway</td>\n      <td>801 E Thomas St</td>\n      <td>Seattle</td>\n      <td>WA</td>\n      <td>98102.00000</td>\n      <td>6003501185</td>\n      <td>...</td>\n      <td>3930.00000</td>\n      <td>13409.00000</td>\n      <td>0.00000</td>\n      <td>0.00000</td>\n      <td>False</td>\n      <td>NaN</td>\n      <td>Non-Compliant</td>\n      <td>Low outlier</td>\n      <td>0.09000</td>\n      <td>0.00000</td>\n    </tr>\n  </tbody>\n</table>\n<p>32 rows × 46 columns</p>\n</div>"
     },
     "execution_count": 58,
     "metadata": {},
     "output_type": "execute_result"
    }
   ],
   "source": [
    "all_data[~all_data[\"Outlier\"].isna()]"
   ],
   "metadata": {
    "collapsed": false,
    "pycharm": {
     "name": "#%%\n"
    }
   }
  }
 ],
 "metadata": {
  "kernelspec": {
   "display_name": "Python 3",
   "language": "python",
   "name": "python3"
  },
  "language_info": {
   "codemirror_mode": {
    "name": "ipython",
    "version": 2
   },
   "file_extension": ".py",
   "mimetype": "text/x-python",
   "name": "python",
   "nbconvert_exporter": "python",
   "pygments_lexer": "ipython2",
   "version": "2.7.6"
  }
 },
 "nbformat": 4,
 "nbformat_minor": 0
}