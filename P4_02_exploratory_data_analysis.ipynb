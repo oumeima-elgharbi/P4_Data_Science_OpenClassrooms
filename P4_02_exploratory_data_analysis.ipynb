{
 "cells": [
  {
   "cell_type": "markdown",
   "source": [
    "OpenClassrooms\n",
    "Project 4, Data Scientist\n",
    "Author : Oumeima EL GHARBI\n",
    "Date : August 2022"
   ],
   "metadata": {
    "collapsed": false,
    "pycharm": {
     "name": "#%% md\n"
    }
   }
  },
  {
   "cell_type": "markdown",
   "source": [
    "# PART 2 : Exploration of the dataset and Feature Engineering"
   ],
   "metadata": {
    "collapsed": false,
    "pycharm": {
     "name": "#%% md\n"
    }
   }
  },
  {
   "cell_type": "markdown",
   "source": [
    "### Introduction"
   ],
   "metadata": {
    "collapsed": false,
    "pycharm": {
     "name": "#%% md\n"
    }
   }
  },
  {
   "cell_type": "markdown",
   "source": [
    "#### Idea :\n",
    "\n",
    "- The variable that we want to predict is : \"TotalGHGEmissions\"\n",
    "\n",
    "1) Data visualization of \"TotalGHGEmissions\" and categorical features (like \"BuildingType\" for instance)\n",
    "    Feature Engineering : delete features that do not help for the prediction.\n",
    "2) Study distribution of quantitative features (energy variables etc)\n",
    "    Feature Engineering :\n",
    "    - delete features that won't be useful for the prediction of \"TotalGHGEmissions\"\n",
    "    - apply transformations (log ? normalization ? etc skewness ??)\n",
    "3) Correlation Matrix :\n",
    "    Feature Engineering : delete features that are correlated (repeeated features like kWh and kBtu)."
   ],
   "metadata": {
    "collapsed": false,
    "pycharm": {
     "name": "#%% md\n"
    }
   }
  },
  {
   "cell_type": "markdown",
   "source": [
    "#### **Conclusion** of the exploration and feature engineering :"
   ],
   "metadata": {
    "collapsed": false,
    "pycharm": {
     "name": "#%% md\n"
    }
   }
  },
  {
   "cell_type": "code",
   "execution_count": 1,
   "outputs": [
    {
     "name": "stdout",
     "output_type": "stream",
     "text": [
      "Source Energy Accounts for Total Energy Use\n",
      "Features to predict :  ['SiteEnergyUse(kBtu)', 'SteamUse(kBtu)', 'Electricity(kBtu)', 'NaturalGas(kBtu)', 'TotalGHGEmissions']\n"
     ]
    }
   ],
   "source": [
    "print(\"Source Energy Accounts for Total Energy Use\")\n",
    "features_to_predict = [\n",
    "    \"SiteEnergyUse(kBtu)\",\n",
    "    \"SteamUse(kBtu)\",\n",
    "    \"Electricity(kBtu)\",\n",
    "    \"NaturalGas(kBtu)\",\n",
    "    \"TotalGHGEmissions\"]\n",
    "\n",
    "# pour prédire les 4 premieres : avec le meme groupe de var (utilisation des carstetiques des bat)\n",
    "\n",
    "print(\"Features to predict : \", features_to_predict)"
   ],
   "metadata": {
    "collapsed": false,
    "pycharm": {
     "name": "#%%\n"
    }
   }
  },
  {
   "cell_type": "markdown",
   "source": [
    "### Starting exploration"
   ],
   "metadata": {
    "collapsed": false,
    "pycharm": {
     "name": "#%% md\n"
    }
   }
  },
  {
   "cell_type": "markdown",
   "source": [
    "#### Importing libraries"
   ],
   "metadata": {
    "collapsed": false,
    "pycharm": {
     "name": "#%% md\n"
    }
   }
  },
  {
   "cell_type": "code",
   "execution_count": 2,
   "outputs": [
    {
     "name": "stderr",
     "output_type": "stream",
     "text": [
      "UsageError: Line magic function `%` not found.\n"
     ]
    }
   ],
   "source": [
    "% reset -f\n",
    "\n",
    "import numpy as np\n",
    "import pandas as pd\n",
    "import matplotlib.pyplot as plt\n",
    "import seaborn as sns\n",
    "\n",
    "% matplotlib inline\n",
    "% autosave 300"
   ],
   "metadata": {
    "collapsed": false,
    "pycharm": {
     "name": "#%%\n"
    }
   }
  },
  {
   "cell_type": "code",
   "execution_count": null,
   "outputs": [],
   "source": [
    "from functions import *"
   ],
   "metadata": {
    "collapsed": false,
    "pycharm": {
     "name": "#%%\n"
    }
   }
  },
  {
   "cell_type": "markdown",
   "source": [
    "#### Loading dataset"
   ],
   "metadata": {
    "collapsed": false,
    "pycharm": {
     "name": "#%% md\n"
    }
   }
  },
  {
   "cell_type": "code",
   "execution_count": null,
   "outputs": [],
   "source": [
    "columns_to_categorize = [\"BuildingType\", \"PrimaryPropertyType\", \"Neighborhood\", \"ZipCode\", \"CouncilDistrictCode\",\n",
    "                         \"LargestPropertyUseType\", \"SecondLargestPropertyUseType\", \"ThirdLargestPropertyUseType\"]\n",
    "\n",
    "category_types = {column: 'category' for column in columns_to_categorize}\n",
    "print(\"This dictionary will be used when reading the csv file to assign a type to categorical features :\",\n",
    "      category_types)"
   ],
   "metadata": {
    "collapsed": false,
    "pycharm": {
     "name": "#%%\n"
    }
   }
  },
  {
   "cell_type": "code",
   "execution_count": null,
   "outputs": [],
   "source": [
    "path = \"./dataset/cleaned/\"\n",
    "filename = \"2016_Building_Energy_Cleaned.csv\"\n",
    "\n",
    "dataset_path = \"{}{}\".format(path, filename)\n",
    "# we assign the categorical features with a categotical type\n",
    "dataset = pd.read_csv(dataset_path, dtype=category_types)"
   ],
   "metadata": {
    "collapsed": false,
    "pycharm": {
     "name": "#%%\n"
    }
   }
  },
  {
   "cell_type": "code",
   "execution_count": null,
   "outputs": [],
   "source": [
    "dataset.shape"
   ],
   "metadata": {
    "collapsed": false,
    "pycharm": {
     "name": "#%%\n"
    }
   }
  },
  {
   "cell_type": "code",
   "execution_count": null,
   "outputs": [],
   "source": [
    "dataset[:10]"
   ],
   "metadata": {
    "collapsed": false,
    "pycharm": {
     "name": "#%%\n"
    }
   }
  },
  {
   "cell_type": "code",
   "execution_count": null,
   "outputs": [],
   "source": [
    "dataset.dtypes"
   ],
   "metadata": {
    "collapsed": false,
    "pycharm": {
     "name": "#%%\n"
    }
   }
  },
  {
   "cell_type": "code",
   "execution_count": null,
   "outputs": [],
   "source": [
    "pd.set_option('display.float_format', lambda x: '%.0f' % x)\n",
    "pd.set_option('display.max_columns', None)\n",
    "\n",
    "dataset.describe()"
   ],
   "metadata": {
    "collapsed": false,
    "pycharm": {
     "name": "#%%\n"
    }
   }
  },
  {
   "cell_type": "markdown",
   "source": [
    "### 1) Plot kWh / kBtu and therms / kBtu"
   ],
   "metadata": {
    "collapsed": false,
    "pycharm": {
     "name": "#%% md\n"
    }
   }
  },
  {
   "cell_type": "code",
   "execution_count": null,
   "outputs": [],
   "source": [
    "print(\"Natural Gas\")\n",
    "dataset.plot.scatter(\"NaturalGas(therms)\", \"NaturalGas(kBtu)\", c=\"g\")"
   ],
   "metadata": {
    "collapsed": false,
    "pycharm": {
     "name": "#%%\n"
    }
   }
  },
  {
   "cell_type": "code",
   "execution_count": null,
   "outputs": [],
   "source": [
    "# Easy Linear Regression : x = kWh y = kBtu\n",
    "print(\"Electricity\")\n",
    "plt.plot(dataset[\"Electricity(kWh)\"], dataset[\"Electricity(kBtu)\"], \"ro\", markersize=4)\n",
    "plt.show()"
   ],
   "metadata": {
    "collapsed": false,
    "pycharm": {
     "name": "#%%\n"
    }
   }
  },
  {
   "cell_type": "code",
   "execution_count": null,
   "outputs": [],
   "source": [
    "print(\n",
    "    \"After checking that the Electricity in kWh = 3.412 Electricity in kBtu and that NaturalGas(therms) = 100 NaturalGas(kBtu) ; we drop the kWh and therms.\")\n",
    "dataset_v1 = dataset.drop(columns=[\"Electricity(kWh)\", \"NaturalGas(therms)\"])"
   ],
   "metadata": {
    "collapsed": false,
    "pycharm": {
     "name": "#%%\n"
    }
   }
  },
  {
   "cell_type": "markdown",
   "source": [
    "We tried to implement linear regression to verify that :\n",
    "- the Electricity in kWh x 3.412 = Electricity in kBtu,\n",
    "- the NaturalGas in Therms x 99.98 = NaturalGas in kBtu.\n"
   ],
   "metadata": {
    "collapsed": false,
    "pycharm": {
     "name": "#%% md\n"
    }
   }
  },
  {
   "cell_type": "markdown",
   "source": [
    "#### Manual Linear Regression"
   ],
   "metadata": {
    "collapsed": false,
    "pycharm": {
     "name": "#%% md\n"
    }
   }
  },
  {
   "cell_type": "code",
   "execution_count": null,
   "outputs": [],
   "source": [
    "# Linear Regression \"manually\" / we transform the dataset into matrices to compute theta\n",
    "X = np.matrix([np.ones(dataset.shape[0]), dataset[\"Electricity(kWh)\"]]).T\n",
    "Y = np.matrix(dataset[\"Electricity(kBtu)\"]).T"
   ],
   "metadata": {
    "collapsed": false,
    "pycharm": {
     "name": "#%%\n"
    }
   }
  },
  {
   "cell_type": "code",
   "execution_count": null,
   "outputs": [],
   "source": [
    "np.set_printoptions(suppress=True)  # remove scientific notation\n",
    "X[:10]"
   ],
   "metadata": {
    "collapsed": false,
    "pycharm": {
     "name": "#%%\n"
    }
   }
  },
  {
   "cell_type": "code",
   "execution_count": null,
   "outputs": [],
   "source": [
    "# Computing the exact value of the parameter theta\n",
    "theta = np.linalg.inv(X.T.dot(X)).dot(X.T).dot(Y)\n",
    "\n",
    "# displaying theta with a = slope ; and b = y-intercept\n",
    "print(theta)\n",
    "\n",
    "# we test Y = aX + b for X = 10\n",
    "print(theta.item(0) + theta.item(1) * 10)"
   ],
   "metadata": {
    "collapsed": false,
    "pycharm": {
     "name": "#%%\n"
    }
   }
  },
  {
   "cell_type": "code",
   "execution_count": null,
   "outputs": [],
   "source": [
    "plt.xlabel(\"Electricity(kWh)\")\n",
    "plt.ylabel(\"Electricity(kBtu)\")\n",
    "\n",
    "x_min = 0\n",
    "x_max = 200000000\n",
    "y_min = theta.item(0)\n",
    "y_max = theta.item(0) + x_max * theta.item(1)\n",
    "\n",
    "plt.plot([x_min, x_max], [y_min, y_max], linestyle=\"--\", c=\"#000000\")\n",
    "plt.plot(dataset[\"Electricity(kWh)\"], dataset[\"Electricity(kBtu)\"], \"ro\", markersize=4)\n",
    "\n",
    "plt.show()"
   ],
   "metadata": {
    "collapsed": false,
    "pycharm": {
     "name": "#%%\n"
    }
   }
  },
  {
   "cell_type": "markdown",
   "source": [
    "#### Automatic Linear Regression"
   ],
   "metadata": {
    "collapsed": false,
    "pycharm": {
     "name": "#%% md\n"
    }
   }
  },
  {
   "cell_type": "code",
   "execution_count": null,
   "outputs": [],
   "source": [
    "# 0) Getting data and Sampling\n",
    "from sklearn.linear_model import LinearRegression\n",
    "\n",
    "X = dataset[\"Electricity(kWh)\"]\n",
    "y = dataset[\"Electricity(kBtu)\"]  # target\n",
    "\n",
    "from sklearn.model_selection import train_test_split\n",
    "\n",
    "X_train, X_test, y_train, y_test = train_test_split(X, y, train_size=0.8)\n",
    "\n",
    "# reshape to get 2D array instead of 1D array.\n",
    "# values to get a numpy array instead of a pandas Series\n",
    "X_train = X_train.values.reshape(-1, 1)\n",
    "X_test = X_test.values.reshape(-1, 1)\n",
    "y_train = y_train.values.reshape(-1, 1)\n",
    "y_test = y_test.values.reshape(-1, 1)"
   ],
   "metadata": {
    "collapsed": false,
    "pycharm": {
     "name": "#%%\n"
    }
   }
  },
  {
   "cell_type": "code",
   "execution_count": null,
   "outputs": [],
   "source": [
    "X_train"
   ],
   "metadata": {
    "collapsed": false,
    "pycharm": {
     "name": "#%%\n"
    }
   }
  },
  {
   "cell_type": "code",
   "execution_count": null,
   "outputs": [],
   "source": [
    "# 1) Training Linear Regression and Evaluating\n",
    "reg = LinearRegression().fit(X_train, y_train)\n",
    "prediction_score = reg.score(X_test, y_test)\n",
    "#print(\"Accuracy is : %.2f\" % (100 * prediction_score))\n",
    "print('Accuracy is : {:.0%}'.format(prediction_score))\n",
    "\n",
    "# 2) Trying to predict a value\n",
    "reg.predict([[10]])  # if X = 10 kWh then Y = 34.12 kBtu ;)"
   ],
   "metadata": {
    "collapsed": false,
    "pycharm": {
     "name": "#%%\n"
    }
   }
  },
  {
   "cell_type": "code",
   "execution_count": null,
   "outputs": [],
   "source": [
    "print(\"Electricity prediction\")\n",
    "plt.plot(reg.predict(X_test), y_test, \"ro\", markersize=4)\n",
    "plt.show()"
   ],
   "metadata": {
    "collapsed": false,
    "pycharm": {
     "name": "#%%\n"
    }
   }
  },
  {
   "cell_type": "markdown",
   "source": [
    "#### Conclusion :\n",
    "This Linear Rregression was for training purposes.\n",
    "We remove the redundant features like Electricity in kWh and NaturalGas in Therms.\n",
    "\n",
    "Thanks to the correlation matrix below, we will be able to choose the features that will help our prediction model."
   ],
   "metadata": {
    "collapsed": false,
    "pycharm": {
     "name": "#%% md\n"
    }
   }
  },
  {
   "cell_type": "markdown",
   "source": [
    "for column in dataset_v1.select_dtypes(['int32', 'float64']).columns:\n",
    "    plt.figure(figsize=(12,6))\n",
    "    plt.title('Distribution de ' + column)\n",
    "    sns.histplot(data[column], bins=20)"
   ],
   "metadata": {
    "collapsed": false,
    "pycharm": {
     "name": "#%% md\n"
    }
   }
  },
  {
   "cell_type": "markdown",
   "source": [
    "### 2) Correlation Matrix"
   ],
   "metadata": {
    "collapsed": false,
    "pycharm": {
     "name": "#%% md\n"
    }
   }
  },
  {
   "cell_type": "markdown",
   "source": [
    "#### 2.1) Correlation between energy variables"
   ],
   "metadata": {
    "collapsed": false,
    "pycharm": {
     "name": "#%% md\n"
    }
   }
  },
  {
   "cell_type": "code",
   "execution_count": null,
   "outputs": [],
   "source": [
    "all_energy_features = [\"SiteEUI(kBtu/sf)\", \"SiteEUIWN(kBtu/sf)\", \"SourceEUI(kBtu/sf)\", \"SourceEUIWN(kBtu/sf)\",\n",
    "                       \"SiteEnergyUse(kBtu)\", \"SiteEnergyUseWN(kBtu)\", \"SteamUse(kBtu)\", \"Electricity(kBtu)\",\n",
    "                       \"NaturalGas(kBtu)\", \"TotalGHGEmissions\", \"GHGEmissionsIntensity\"]"
   ],
   "metadata": {
    "collapsed": false,
    "pycharm": {
     "name": "#%%\n"
    }
   }
  },
  {
   "cell_type": "code",
   "execution_count": null,
   "outputs": [],
   "source": [
    "# exploration : matrice corrélation et corrélation entre categorielles et quantitatives (GHGE corrélé avec var consom E (elctricity, steam etc)\n",
    "# predict : consomation bat puis avec ca predire l'emission CO2\n",
    "# 1) prediction consommation sur l'énergie puis predire CO2 (le + long le +complexe)\n",
    "# categories batiments mal ecrites / numeriques incohérentes"
   ],
   "metadata": {
    "collapsed": false,
    "pycharm": {
     "name": "#%%\n"
    }
   }
  },
  {
   "cell_type": "code",
   "execution_count": null,
   "outputs": [],
   "source": [
    "# we create a dataframe with all the energy features.\n",
    "df_to_corr = dataset_v1[all_energy_features]\n",
    "\n",
    "# we assign the type float to all the values of the matrix\n",
    "df_to_corr = df_to_corr.astype(float)\n",
    "corr_df = df_to_corr.corr(method='spearman')\n",
    "\n",
    "print(\"We display here the correlation matrix without options to justify the display below.\")\n",
    "plt.figure(figsize=(10, 8))\n",
    "plt.title('Correlation matrix for energy features.')\n",
    "sns.heatmap(corr_df, annot=True, vmin=-1, cmap='coolwarm')\n",
    "plt.show()"
   ],
   "metadata": {
    "collapsed": false,
    "pycharm": {
     "name": "#%%\n"
    }
   }
  },
  {
   "cell_type": "code",
   "execution_count": null,
   "outputs": [],
   "source": [
    "plt.figure(figsize=(10, 8))\n",
    "sns.set(font_scale=1)\n",
    "plt.title('Correlation matrix for energy features with upper triangle masked.')\n",
    "\n",
    "# to hide the upper triangle of the matrix\n",
    "trimask = np.zeros_like(corr_df)\n",
    "trimask[np.triu_indices_from(trimask)] = True\n",
    "sns.heatmap(corr_df, annot=True, mask=trimask | (np.abs(corr_df) <= 0.4), vmin=0,\n",
    "            cmap='coolwarm')  # we don't have negative correlations here\n",
    "\n",
    "plt.show()"
   ],
   "metadata": {
    "collapsed": false,
    "pycharm": {
     "name": "#%%\n"
    }
   }
  },
  {
   "cell_type": "markdown",
   "source": [
    "**Interpretation** :\n",
    "\n",
    "- We can see a strong correlation between the variables.\n",
    "\n",
    "\n",
    "**Conclusion** :\n",
    "- We will drop the variables Weather Normalized,\n",
    "- We drop the variable GHGEmissionsIntensity."
   ],
   "metadata": {
    "collapsed": false,
    "pycharm": {
     "name": "#%% md\n"
    }
   }
  },
  {
   "cell_type": "markdown",
   "source": [
    "#### 2.2) Correlation matrix with all features"
   ],
   "metadata": {
    "collapsed": false,
    "pycharm": {
     "name": "#%% md\n"
    }
   }
  },
  {
   "cell_type": "code",
   "execution_count": null,
   "outputs": [],
   "source": [
    "numeric_columns = dataset_v1.select_dtypes(include=['int64', 'float64']).columns\n",
    "corr = dataset_v1[numeric_columns].corr()\n",
    "\n",
    "plt.figure(figsize=(13, 11))\n",
    "sns.set(font_scale=1)\n",
    "plt.title('Correlation matrix for all numeric features.')\n",
    "\n",
    "# to hide the upper triangle of the matrix\n",
    "trimask = np.zeros_like(corr)\n",
    "trimask[np.triu_indices_from(trimask)] = True\n",
    "sns.heatmap(corr, annot=True, vmin=0, cmap='coolwarm')  # we don't have negative correlations here\n",
    "\n",
    "plt.show()"
   ],
   "metadata": {
    "collapsed": false,
    "pycharm": {
     "name": "#%%\n"
    }
   }
  },
  {
   "cell_type": "markdown",
   "source": [
    "dataset_v1.columns"
   ],
   "metadata": {
    "collapsed": false,
    "pycharm": {
     "name": "#%% md\n"
    }
   }
  },
  {
   "cell_type": "code",
   "execution_count": null,
   "outputs": [],
   "source": [
    "print(\"ASK MENTOR INTERPRETATION CORR MATRIX\")\n",
    "# carac bat interess pour predirection / redtirer quand trop correlees entre elles"
   ],
   "metadata": {
    "collapsed": false,
    "pycharm": {
     "name": "#%%\n"
    }
   }
  },
  {
   "cell_type": "markdown",
   "source": [
    "**Interpretation** :\n",
    "\n",
    "- We can see a strong correlation between the variables.\n",
    "\n",
    "\n",
    "**Conclusion** :\n",
    "- We will drop the variables Weather Normalized,\n",
    "- We drop the variable GHGEmissionsIntensity."
   ],
   "metadata": {
    "collapsed": false,
    "pycharm": {
     "name": "#%% md\n"
    }
   }
  },
  {
   "cell_type": "code",
   "execution_count": null,
   "outputs": [],
   "source": [
    "correlated_features = [\"SiteEUI(kBtu/sf)\", 'SiteEUIWN(kBtu/sf)', 'SiteEnergyUseWN(kBtu)', 'SourceEUI(kBtu/sf)',\n",
    "                       'SourceEUIWN(kBtu/sf)', \"GHGEmissionsIntensity\"]"
   ],
   "metadata": {
    "collapsed": false,
    "pycharm": {
     "name": "#%%\n"
    }
   }
  },
  {
   "cell_type": "code",
   "execution_count": null,
   "outputs": [],
   "source": [
    "dataset_v2 = dataset_v1.drop(columns=correlated_features, inplace=False)"
   ],
   "metadata": {
    "collapsed": false,
    "pycharm": {
     "name": "#%%\n"
    }
   }
  },
  {
   "cell_type": "markdown",
   "source": [
    "### 3) Distribution of quantitative variables"
   ],
   "metadata": {
    "collapsed": false,
    "pycharm": {
     "name": "#%% md\n"
    }
   }
  },
  {
   "cell_type": "markdown",
   "source": [
    "#### 3.1) Boxplot per primary property type"
   ],
   "metadata": {
    "collapsed": false,
    "pycharm": {
     "name": "#%% md\n"
    }
   }
  },
  {
   "cell_type": "code",
   "execution_count": null,
   "outputs": [],
   "source": [
    "dataset_v2.dtypes"
   ],
   "metadata": {
    "collapsed": false,
    "pycharm": {
     "name": "#%%\n"
    }
   }
  },
  {
   "cell_type": "code",
   "execution_count": null,
   "outputs": [],
   "source": [
    "from functions import *\n",
    "\n",
    "print(\"After removing outliers, we display boxplot per energy feature and per Primary Property Type.\")\n",
    "print(\n",
    "    \"We suppose that a K-12 School has different energy needed compared to a hospital, so the boxplot must represent that difference.\")\n",
    "\n",
    "data_plot = dataset_v2.copy()\n",
    "data_plot.loc[data_plot[\"ENERGYSTARScore\"] == -1] = np.nan\n",
    "\n",
    "list_features_to_plot = data_plot.select_dtypes(include=\"number\").columns.tolist()\n",
    "list_features_to_plot.remove(\"OSEBuildingID\")"
   ],
   "metadata": {
    "collapsed": false,
    "pycharm": {
     "name": "#%%\n"
    }
   }
  },
  {
   "cell_type": "code",
   "execution_count": null,
   "outputs": [],
   "source": [
    "display_boxplot_per_feature(data_plot, list_features_to_plot, \"PrimaryPropertyType\")"
   ],
   "metadata": {
    "collapsed": false,
    "pycharm": {
     "name": "#%%\n"
    }
   }
  },
  {
   "cell_type": "markdown",
   "source": [
    "#### 3.2) Histograms"
   ],
   "metadata": {
    "collapsed": false,
    "pycharm": {
     "name": "#%% md\n"
    }
   }
  },
  {
   "cell_type": "code",
   "execution_count": null,
   "outputs": [],
   "source": [
    "display_distribution_per_feature(data_plot, list_features_to_plot, 10)"
   ],
   "metadata": {
    "collapsed": false,
    "pycharm": {
     "name": "#%%\n"
    }
   }
  },
  {
   "cell_type": "code",
   "execution_count": null,
   "outputs": [],
   "source": [
    "dataset_v2.columns"
   ],
   "metadata": {
    "collapsed": false,
    "pycharm": {
     "name": "#%%\n"
    }
   }
  },
  {
   "cell_type": "markdown",
   "source": [
    "#### 3.3) Distribution"
   ],
   "metadata": {
    "collapsed": false,
    "pycharm": {
     "name": "#%% md\n"
    }
   }
  },
  {
   "cell_type": "code",
   "execution_count": null,
   "outputs": [],
   "source": [
    "dataset_v2.dtypes"
   ],
   "metadata": {
    "collapsed": false,
    "pycharm": {
     "name": "#%%\n"
    }
   }
  },
  {
   "cell_type": "code",
   "execution_count": null,
   "outputs": [],
   "source": [
    "features_for_prediction = [\"YearBuilt\", \"CouncilDistrictCode\", \"Neighborhood\", \"NumberofBuildings\", \"NumberofFloors\",\n",
    "                           \"BuildingType\", \"PrimaryPropertyType\", \"LargestPropertyUseType\",\n",
    "                           \"SecondLargestPropertyUseType\", \"ThirdLargestPropertyUseType\", \"PropertyGFABuilding(s)\",\n",
    "                           \"LargestPropertyUseTypeGFA\", \"SecondLargestPropertyUseTypeGFA\",\n",
    "                           \"ThirdLargestPropertyUseTypeGFA\"]\n",
    "\n",
    "densite(data_plot[list_features_to_plot])"
   ],
   "metadata": {
    "collapsed": false,
    "pycharm": {
     "name": "#%%\n"
    }
   }
  },
  {
   "cell_type": "raw",
   "source": [
    "# nettoyer : filtrer en ligne / quelques graphiques pour la presentation et mieux visualier / pour justifier des filtres"
   ],
   "metadata": {
    "collapsed": false,
    "pycharm": {
     "name": "#%% raw\n"
    }
   }
  },
  {
   "cell_type": "markdown",
   "source": [
    "### 4) Logarithmic transformation of the variables to predict"
   ],
   "metadata": {
    "collapsed": false,
    "pycharm": {
     "name": "#%% md\n"
    }
   }
  },
  {
   "cell_type": "markdown",
   "source": [
    "#### 4.1) Log Graphs ??"
   ],
   "metadata": {
    "collapsed": false,
    "pycharm": {
     "name": "#%% md\n"
    }
   }
  },
  {
   "cell_type": "code",
   "execution_count": null,
   "outputs": [],
   "source": [
    "print(\"We check the effect of a log transformation on the variable we want to predict.\")\n",
    "all_log_transformations = compute_log_for_feature(dataset_v2, \"SiteEnergyUse(kBtu)\")\n",
    "log_distribution(all_log_transformations)"
   ],
   "metadata": {
    "collapsed": false,
    "pycharm": {
     "name": "#%%\n"
    }
   }
  },
  {
   "cell_type": "markdown",
   "source": [
    "#### 4.2) Log transformation for the features to predict"
   ],
   "metadata": {
    "collapsed": false,
    "pycharm": {
     "name": "#%% md\n"
    }
   }
  },
  {
   "cell_type": "code",
   "execution_count": null,
   "outputs": [],
   "source": [
    "features_to_predict = [\n",
    "    \"SiteEnergyUse(kBtu)\",\n",
    "    \"SteamUse(kBtu)\",\n",
    "    \"Electricity(kBtu)\",\n",
    "    \"NaturalGas(kBtu)\",\n",
    "    \"TotalGHGEmissions\"]\n",
    "\n",
    "print(features_to_predict)"
   ],
   "metadata": {
    "collapsed": false,
    "pycharm": {
     "name": "#%%\n"
    }
   }
  },
  {
   "cell_type": "code",
   "execution_count": null,
   "outputs": [],
   "source": [
    "dataset_v3 = log_transformation(dataset_v2, features_to_predict)\n",
    "display(dataset_v3)"
   ],
   "metadata": {
    "collapsed": false,
    "pycharm": {
     "name": "#%%\n"
    }
   }
  },
  {
   "cell_type": "markdown",
   "source": [
    "### 5) Saving cleaned dataset"
   ],
   "metadata": {
    "collapsed": false,
    "pycharm": {
     "name": "#%% md\n"
    }
   }
  },
  {
   "cell_type": "code",
   "execution_count": null,
   "outputs": [],
   "source": [
    "# We reset the index\n",
    "final_dataset = dataset_v3.reset_index(drop=True)\n",
    "\n",
    "# Save\n",
    "export_path = \"./dataset/cleaned/\"\n",
    "export_filename = \"2016_Building_Energy_Prediction.csv\"\n",
    "final_dataset.to_csv(\"{}{}\".format(export_path, export_filename), index=False)"
   ],
   "metadata": {
    "collapsed": false,
    "pycharm": {
     "name": "#%%\n"
    }
   }
  }
 ],
 "metadata": {
  "kernelspec": {
   "display_name": "Python 3",
   "language": "python",
   "name": "python3"
  },
  "language_info": {
   "codemirror_mode": {
    "name": "ipython",
    "version": 2
   },
   "file_extension": ".py",
   "mimetype": "text/x-python",
   "name": "python",
   "nbconvert_exporter": "python",
   "pygments_lexer": "ipython2",
   "version": "2.7.6"
  }
 },
 "nbformat": 4,
 "nbformat_minor": 0
}