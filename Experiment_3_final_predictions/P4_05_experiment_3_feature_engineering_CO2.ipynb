{
 "cells": [
  {
   "cell_type": "markdown",
   "source": [
    "OpenClassrooms\n",
    "Project 4, Data Scientist\n",
    "Author : Oumeima EL GHARBI\n",
    "Date : August,September 2022"
   ],
   "metadata": {
    "collapsed": false,
    "pycharm": {
     "name": "#%% md\n"
    }
   }
  },
  {
   "cell_type": "markdown",
   "source": [
    "# Feature Engineering to predict CO2"
   ],
   "metadata": {
    "collapsed": false,
    "pycharm": {
     "name": "#%% md\n"
    }
   }
  },
  {
   "cell_type": "markdown",
   "source": [
    "### Introduction"
   ],
   "metadata": {
    "collapsed": false,
    "pycharm": {
     "name": "#%% md\n"
    }
   }
  },
  {
   "cell_type": "markdown",
   "source": [
    "#### Importing libraries"
   ],
   "metadata": {
    "collapsed": false,
    "pycharm": {
     "name": "#%% md\n"
    }
   }
  },
  {
   "cell_type": "code",
   "execution_count": 143,
   "outputs": [
    {
     "data": {
      "application/javascript": "IPython.notebook.set_autosave_interval(300000)"
     },
     "metadata": {},
     "output_type": "display_data"
    },
    {
     "name": "stdout",
     "output_type": "stream",
     "text": [
      "Autosaving every 300 seconds\n"
     ]
    }
   ],
   "source": [
    "%reset -f\n",
    "\n",
    "import pickle\n",
    "\n",
    "import warnings\n",
    "warnings.filterwarnings(action=\"ignore\")\n",
    "\n",
    "from exploration import *\n",
    "\n",
    "from sklearn. model_selection import train_test_split\n",
    "from sklearn.preprocessing import StandardScaler, OneHotEncoder\n",
    "\n",
    "%matplotlib inline\n",
    "%autosave 300"
   ],
   "metadata": {
    "collapsed": false,
    "pycharm": {
     "name": "#%%\n"
    }
   }
  },
  {
   "cell_type": "code",
   "execution_count": 144,
   "outputs": [
    {
     "name": "stdout",
     "output_type": "stream",
     "text": [
      "Seed value:  1\n"
     ]
    }
   ],
   "source": [
    "# Heure démarrage\n",
    "t0 = time()\n",
    "\n",
    "# seed pour les générateurs aléatoires\n",
    "seed = 1\n",
    "print(\"Seed value: \", seed)"
   ],
   "metadata": {
    "collapsed": false,
    "pycharm": {
     "name": "#%%\n"
    }
   }
  },
  {
   "cell_type": "code",
   "execution_count": 145,
   "outputs": [],
   "source": [
    "all_energy_dir = [\"total_energy\"]\n",
    "#all_energy_dir = [\"electricity\", \"steam\", \"gas\", \"steam_gas\"]\n",
    "#all_energy_names = [\"Ratio_Electricity\",\"Ratio_Steam\", \"Ratio_Gas\",  \"Ratio_Steam+Gas\"]\n",
    "\n",
    "all_energy_names = [\"Log-TotalEnergy(kBtu)\"]\n",
    "\n",
    "experiment_dir = \"./Experiment_3_final_predictions/\"\n",
    "path_energy = \"dataset/energy/\""
   ],
   "metadata": {
    "collapsed": false,
    "pycharm": {
     "name": "#%%\n"
    }
   }
  },
  {
   "cell_type": "markdown",
   "source": [
    "#### Loading dataset"
   ],
   "metadata": {
    "collapsed": false,
    "pycharm": {
     "name": "#%% md\n"
    }
   }
  },
  {
   "cell_type": "code",
   "execution_count": 146,
   "outputs": [],
   "source": [
    "train_energy_file = path_energy + \"train_energy.csv\"\n",
    "test_energy_file =  path_energy + \"test_energy.csv\"\n",
    "\n",
    "train_energy = pd.read_csv(train_energy_file, sep=\",\")\n",
    "test_energy = pd.read_csv(test_energy_file, sep=\",\")\n",
    "\n",
    "dataset = pd.concat([train_energy, test_energy], ignore_index=True) # reindexation"
   ],
   "metadata": {
    "collapsed": false,
    "pycharm": {
     "name": "#%%\n"
    }
   }
  },
  {
   "cell_type": "code",
   "execution_count": 147,
   "outputs": [
    {
     "data": {
      "text/plain": "      Neighborhood_Ballard  Neighborhood_Central  Neighborhood_Delridge  \\\n0                      0.0                   0.0                    0.0   \n1                      0.0                   0.0                    0.0   \n2                      0.0                   0.0                    0.0   \n3                      0.0                   0.0                    0.0   \n4                      0.0                   0.0                    0.0   \n...                    ...                   ...                    ...   \n3142                   0.0                   0.0                    0.0   \n3143                   0.0                   0.0                    0.0   \n3144                   0.0                   0.0                    0.0   \n3145                   0.0                   0.0                    0.0   \n3146                   0.0                   0.0                    0.0   \n\n      Neighborhood_Downtown  Neighborhood_East  Neighborhood_Greater duwamish  \\\n0                       1.0                0.0                            0.0   \n1                       1.0                0.0                            0.0   \n2                       1.0                0.0                            0.0   \n3                       1.0                0.0                            0.0   \n4                       1.0                0.0                            0.0   \n...                     ...                ...                            ...   \n3142                    0.0                0.0                            0.0   \n3143                    0.0                1.0                            0.0   \n3144                    0.0                0.0                            0.0   \n3145                    0.0                0.0                            0.0   \n3146                    0.0                0.0                            0.0   \n\n      Neighborhood_Lake union  Neighborhood_Magnolia / queen anne  \\\n0                         0.0                                 0.0   \n1                         0.0                                 0.0   \n2                         0.0                                 0.0   \n3                         0.0                                 0.0   \n4                         0.0                                 0.0   \n...                       ...                                 ...   \n3142                      0.0                                 0.0   \n3143                      0.0                                 0.0   \n3144                      1.0                                 0.0   \n3145                      0.0                                 0.0   \n3146                      0.0                                 0.0   \n\n      Neighborhood_North  Neighborhood_Northeast  ...  \\\n0                    0.0                     0.0  ...   \n1                    0.0                     0.0  ...   \n2                    0.0                     0.0  ...   \n3                    0.0                     0.0  ...   \n4                    0.0                     0.0  ...   \n...                  ...                     ...  ...   \n3142                 0.0                     1.0  ...   \n3143                 0.0                     0.0  ...   \n3144                 0.0                     0.0  ...   \n3145                 0.0                     0.0  ...   \n3146                 0.0                     1.0  ...   \n\n      Log-ThirdLargestPropertyUseTypeGFA  YearBuilt  Log-TotalEnergy(kBtu)  \\\n0                              -0.439239       1927              15.793246   \n1                               2.153810       1996              15.942305   \n2                              -0.439239       1969              18.100297   \n3                              -0.439239       1999              16.307609   \n4                              -0.439239       1926              15.655764   \n...                                  ...        ...                    ...   \n3142                           -0.439239       2015              15.696876   \n3143                            1.780089       2015              14.586193   \n3144                            3.044854       2015              17.488365   \n3145                           -0.439239       2015              15.083074   \n3146                           -0.439239       1962              14.972650   \n\n      Ratio_Electricity  Ratio_Steam  Ratio_Gas  Ratio_Steam+Gas  \\\n0              0.546060     0.277302   0.176638         0.453940   \n1              0.386609     0.000000   0.613391         0.613391   \n2              0.682307     0.297113   0.020579         0.317693   \n3              0.609884     0.000000   0.390116         0.390116   \n4              0.577418     0.361423   0.061159         0.422582   \n...                 ...          ...        ...              ...   \n3142           0.472329     0.000000   0.527671         0.527671   \n3143           1.000000     0.000000   0.000000         0.000000   \n3144           0.600466     0.000000   0.399534         0.399534   \n3145           0.559873     0.000000   0.440127         0.440127   \n3146           1.000000     0.000000   0.000000         0.000000   \n\n      Ratio_Steam+Gas+Other  ENERGYSTARScore  Log-TotalGHGEmissions  \n0              4.539401e-01             60.0               5.525373  \n1              6.133909e-01             61.0               5.693261  \n2              3.176926e-01             43.0               7.645053  \n3              3.901160e-01              NaN               5.713106  \n4              4.225819e-01              NaN               5.404972  \n...                     ...              ...                    ...  \n3142           5.276708e-01            100.0               5.330397  \n3143           1.156743e-07             84.0               2.776954  \n3144           3.995342e-01              NaN               6.908815  \n3145           4.401271e-01            100.0               4.583947  \n3146           7.859610e-08              NaN               3.142858  \n\n[3147 rows x 58 columns]",
      "text/html": "<div>\n<style scoped>\n    .dataframe tbody tr th:only-of-type {\n        vertical-align: middle;\n    }\n\n    .dataframe tbody tr th {\n        vertical-align: top;\n    }\n\n    .dataframe thead th {\n        text-align: right;\n    }\n</style>\n<table border=\"1\" class=\"dataframe\">\n  <thead>\n    <tr style=\"text-align: right;\">\n      <th></th>\n      <th>Neighborhood_Ballard</th>\n      <th>Neighborhood_Central</th>\n      <th>Neighborhood_Delridge</th>\n      <th>Neighborhood_Downtown</th>\n      <th>Neighborhood_East</th>\n      <th>Neighborhood_Greater duwamish</th>\n      <th>Neighborhood_Lake union</th>\n      <th>Neighborhood_Magnolia / queen anne</th>\n      <th>Neighborhood_North</th>\n      <th>Neighborhood_Northeast</th>\n      <th>...</th>\n      <th>Log-ThirdLargestPropertyUseTypeGFA</th>\n      <th>YearBuilt</th>\n      <th>Log-TotalEnergy(kBtu)</th>\n      <th>Ratio_Electricity</th>\n      <th>Ratio_Steam</th>\n      <th>Ratio_Gas</th>\n      <th>Ratio_Steam+Gas</th>\n      <th>Ratio_Steam+Gas+Other</th>\n      <th>ENERGYSTARScore</th>\n      <th>Log-TotalGHGEmissions</th>\n    </tr>\n  </thead>\n  <tbody>\n    <tr>\n      <th>0</th>\n      <td>0.0</td>\n      <td>0.0</td>\n      <td>0.0</td>\n      <td>1.0</td>\n      <td>0.0</td>\n      <td>0.0</td>\n      <td>0.0</td>\n      <td>0.0</td>\n      <td>0.0</td>\n      <td>0.0</td>\n      <td>...</td>\n      <td>-0.439239</td>\n      <td>1927</td>\n      <td>15.793246</td>\n      <td>0.546060</td>\n      <td>0.277302</td>\n      <td>0.176638</td>\n      <td>0.453940</td>\n      <td>4.539401e-01</td>\n      <td>60.0</td>\n      <td>5.525373</td>\n    </tr>\n    <tr>\n      <th>1</th>\n      <td>0.0</td>\n      <td>0.0</td>\n      <td>0.0</td>\n      <td>1.0</td>\n      <td>0.0</td>\n      <td>0.0</td>\n      <td>0.0</td>\n      <td>0.0</td>\n      <td>0.0</td>\n      <td>0.0</td>\n      <td>...</td>\n      <td>2.153810</td>\n      <td>1996</td>\n      <td>15.942305</td>\n      <td>0.386609</td>\n      <td>0.000000</td>\n      <td>0.613391</td>\n      <td>0.613391</td>\n      <td>6.133909e-01</td>\n      <td>61.0</td>\n      <td>5.693261</td>\n    </tr>\n    <tr>\n      <th>2</th>\n      <td>0.0</td>\n      <td>0.0</td>\n      <td>0.0</td>\n      <td>1.0</td>\n      <td>0.0</td>\n      <td>0.0</td>\n      <td>0.0</td>\n      <td>0.0</td>\n      <td>0.0</td>\n      <td>0.0</td>\n      <td>...</td>\n      <td>-0.439239</td>\n      <td>1969</td>\n      <td>18.100297</td>\n      <td>0.682307</td>\n      <td>0.297113</td>\n      <td>0.020579</td>\n      <td>0.317693</td>\n      <td>3.176926e-01</td>\n      <td>43.0</td>\n      <td>7.645053</td>\n    </tr>\n    <tr>\n      <th>3</th>\n      <td>0.0</td>\n      <td>0.0</td>\n      <td>0.0</td>\n      <td>1.0</td>\n      <td>0.0</td>\n      <td>0.0</td>\n      <td>0.0</td>\n      <td>0.0</td>\n      <td>0.0</td>\n      <td>0.0</td>\n      <td>...</td>\n      <td>-0.439239</td>\n      <td>1999</td>\n      <td>16.307609</td>\n      <td>0.609884</td>\n      <td>0.000000</td>\n      <td>0.390116</td>\n      <td>0.390116</td>\n      <td>3.901160e-01</td>\n      <td>NaN</td>\n      <td>5.713106</td>\n    </tr>\n    <tr>\n      <th>4</th>\n      <td>0.0</td>\n      <td>0.0</td>\n      <td>0.0</td>\n      <td>1.0</td>\n      <td>0.0</td>\n      <td>0.0</td>\n      <td>0.0</td>\n      <td>0.0</td>\n      <td>0.0</td>\n      <td>0.0</td>\n      <td>...</td>\n      <td>-0.439239</td>\n      <td>1926</td>\n      <td>15.655764</td>\n      <td>0.577418</td>\n      <td>0.361423</td>\n      <td>0.061159</td>\n      <td>0.422582</td>\n      <td>4.225819e-01</td>\n      <td>NaN</td>\n      <td>5.404972</td>\n    </tr>\n    <tr>\n      <th>...</th>\n      <td>...</td>\n      <td>...</td>\n      <td>...</td>\n      <td>...</td>\n      <td>...</td>\n      <td>...</td>\n      <td>...</td>\n      <td>...</td>\n      <td>...</td>\n      <td>...</td>\n      <td>...</td>\n      <td>...</td>\n      <td>...</td>\n      <td>...</td>\n      <td>...</td>\n      <td>...</td>\n      <td>...</td>\n      <td>...</td>\n      <td>...</td>\n      <td>...</td>\n      <td>...</td>\n    </tr>\n    <tr>\n      <th>3142</th>\n      <td>0.0</td>\n      <td>0.0</td>\n      <td>0.0</td>\n      <td>0.0</td>\n      <td>0.0</td>\n      <td>0.0</td>\n      <td>0.0</td>\n      <td>0.0</td>\n      <td>0.0</td>\n      <td>1.0</td>\n      <td>...</td>\n      <td>-0.439239</td>\n      <td>2015</td>\n      <td>15.696876</td>\n      <td>0.472329</td>\n      <td>0.000000</td>\n      <td>0.527671</td>\n      <td>0.527671</td>\n      <td>5.276708e-01</td>\n      <td>100.0</td>\n      <td>5.330397</td>\n    </tr>\n    <tr>\n      <th>3143</th>\n      <td>0.0</td>\n      <td>0.0</td>\n      <td>0.0</td>\n      <td>0.0</td>\n      <td>1.0</td>\n      <td>0.0</td>\n      <td>0.0</td>\n      <td>0.0</td>\n      <td>0.0</td>\n      <td>0.0</td>\n      <td>...</td>\n      <td>1.780089</td>\n      <td>2015</td>\n      <td>14.586193</td>\n      <td>1.000000</td>\n      <td>0.000000</td>\n      <td>0.000000</td>\n      <td>0.000000</td>\n      <td>1.156743e-07</td>\n      <td>84.0</td>\n      <td>2.776954</td>\n    </tr>\n    <tr>\n      <th>3144</th>\n      <td>0.0</td>\n      <td>0.0</td>\n      <td>0.0</td>\n      <td>0.0</td>\n      <td>0.0</td>\n      <td>0.0</td>\n      <td>1.0</td>\n      <td>0.0</td>\n      <td>0.0</td>\n      <td>0.0</td>\n      <td>...</td>\n      <td>3.044854</td>\n      <td>2015</td>\n      <td>17.488365</td>\n      <td>0.600466</td>\n      <td>0.000000</td>\n      <td>0.399534</td>\n      <td>0.399534</td>\n      <td>3.995342e-01</td>\n      <td>NaN</td>\n      <td>6.908815</td>\n    </tr>\n    <tr>\n      <th>3145</th>\n      <td>0.0</td>\n      <td>0.0</td>\n      <td>0.0</td>\n      <td>0.0</td>\n      <td>0.0</td>\n      <td>0.0</td>\n      <td>0.0</td>\n      <td>0.0</td>\n      <td>0.0</td>\n      <td>0.0</td>\n      <td>...</td>\n      <td>-0.439239</td>\n      <td>2015</td>\n      <td>15.083074</td>\n      <td>0.559873</td>\n      <td>0.000000</td>\n      <td>0.440127</td>\n      <td>0.440127</td>\n      <td>4.401271e-01</td>\n      <td>100.0</td>\n      <td>4.583947</td>\n    </tr>\n    <tr>\n      <th>3146</th>\n      <td>0.0</td>\n      <td>0.0</td>\n      <td>0.0</td>\n      <td>0.0</td>\n      <td>0.0</td>\n      <td>0.0</td>\n      <td>0.0</td>\n      <td>0.0</td>\n      <td>0.0</td>\n      <td>1.0</td>\n      <td>...</td>\n      <td>-0.439239</td>\n      <td>1962</td>\n      <td>14.972650</td>\n      <td>1.000000</td>\n      <td>0.000000</td>\n      <td>0.000000</td>\n      <td>0.000000</td>\n      <td>7.859610e-08</td>\n      <td>NaN</td>\n      <td>3.142858</td>\n    </tr>\n  </tbody>\n</table>\n<p>3147 rows × 58 columns</p>\n</div>"
     },
     "execution_count": 147,
     "metadata": {},
     "output_type": "execute_result"
    }
   ],
   "source": [
    "dataset"
   ],
   "metadata": {
    "collapsed": false,
    "pycharm": {
     "name": "#%%\n"
    }
   }
  },
  {
   "cell_type": "code",
   "execution_count": 148,
   "outputs": [],
   "source": [
    "dataset_energy = dataset.iloc[:, :-8] # -8 for exp 3 ; -6 for exp 1 ; -7 for exp 2"
   ],
   "metadata": {
    "collapsed": false,
    "pycharm": {
     "name": "#%%\n"
    }
   }
  },
  {
   "cell_type": "code",
   "execution_count": 149,
   "outputs": [
    {
     "data": {
      "text/plain": "(3147, 50)"
     },
     "execution_count": 149,
     "metadata": {},
     "output_type": "execute_result"
    }
   ],
   "source": [
    "dataset_energy.shape"
   ],
   "metadata": {
    "collapsed": false,
    "pycharm": {
     "name": "#%%\n"
    }
   }
  },
  {
   "cell_type": "code",
   "execution_count": 150,
   "outputs": [
    {
     "data": {
      "text/plain": "Index(['Neighborhood_Ballard', 'Neighborhood_Central', 'Neighborhood_Delridge',\n       'Neighborhood_Downtown', 'Neighborhood_East',\n       'Neighborhood_Greater duwamish', 'Neighborhood_Lake union',\n       'Neighborhood_Magnolia / queen anne', 'Neighborhood_North',\n       'Neighborhood_Northeast', 'Neighborhood_Northwest',\n       'Neighborhood_Southeast', 'Neighborhood_Southwest',\n       'BuildingType_Campus', 'BuildingType_Multifamily hr (10+)',\n       'BuildingType_Multifamily lr (1-4)',\n       'BuildingType_Multifamily mr (5-9)', 'BuildingType_Nonresidential',\n       'BuildingType_Nonresidential cos', 'BuildingType_Sps-district k-12',\n       'PrimaryPropertyType_Distribution center',\n       'PrimaryPropertyType_High-rise multifamily',\n       'PrimaryPropertyType_Hospital', 'PrimaryPropertyType_Hotel',\n       'PrimaryPropertyType_K-12 school', 'PrimaryPropertyType_Laboratory',\n       'PrimaryPropertyType_Large office',\n       'PrimaryPropertyType_Low-rise multifamily',\n       'PrimaryPropertyType_Medical office',\n       'PrimaryPropertyType_Mid-rise multifamily',\n       'PrimaryPropertyType_Mixed use property', 'PrimaryPropertyType_Other',\n       'PrimaryPropertyType_Refrigerated warehouse',\n       'PrimaryPropertyType_Residence hall', 'PrimaryPropertyType_Restaurant',\n       'PrimaryPropertyType_Retail store',\n       'PrimaryPropertyType_Self-storage facility',\n       'PrimaryPropertyType_Senior care community',\n       'PrimaryPropertyType_Small- and mid-sized office',\n       'PrimaryPropertyType_Supermarket / grocery store',\n       'PrimaryPropertyType_University', 'PrimaryPropertyType_Warehouse',\n       'PrimaryPropertyType_Worship facility', 'Log-NumberofFloors',\n       'Log-PropertyGFATotal', 'Log-PropertyGFABuilding(s)',\n       'Log-LargestPropertyUseTypeGFA', 'Log-SecondLargestPropertyUseTypeGFA',\n       'Log-ThirdLargestPropertyUseTypeGFA', 'YearBuilt'],\n      dtype='object')"
     },
     "execution_count": 150,
     "metadata": {},
     "output_type": "execute_result"
    }
   ],
   "source": [
    "dataset_energy.columns"
   ],
   "metadata": {
    "collapsed": false,
    "pycharm": {
     "name": "#%%\n"
    }
   }
  },
  {
   "cell_type": "code",
   "execution_count": 151,
   "outputs": [
    {
     "data": {
      "text/plain": "      Neighborhood_Ballard  Neighborhood_Central  Neighborhood_Delridge  \\\n0                      0.0                   0.0                    0.0   \n1                      0.0                   0.0                    0.0   \n2                      0.0                   0.0                    0.0   \n3                      0.0                   0.0                    0.0   \n4                      0.0                   0.0                    0.0   \n...                    ...                   ...                    ...   \n3142                   0.0                   0.0                    0.0   \n3143                   0.0                   0.0                    0.0   \n3144                   0.0                   0.0                    0.0   \n3145                   0.0                   0.0                    0.0   \n3146                   0.0                   0.0                    0.0   \n\n      Neighborhood_Downtown  Neighborhood_East  Neighborhood_Greater duwamish  \\\n0                       1.0                0.0                            0.0   \n1                       1.0                0.0                            0.0   \n2                       1.0                0.0                            0.0   \n3                       1.0                0.0                            0.0   \n4                       1.0                0.0                            0.0   \n...                     ...                ...                            ...   \n3142                    0.0                0.0                            0.0   \n3143                    0.0                1.0                            0.0   \n3144                    0.0                0.0                            0.0   \n3145                    0.0                0.0                            0.0   \n3146                    0.0                0.0                            0.0   \n\n      Neighborhood_Lake union  Neighborhood_Magnolia / queen anne  \\\n0                         0.0                                 0.0   \n1                         0.0                                 0.0   \n2                         0.0                                 0.0   \n3                         0.0                                 0.0   \n4                         0.0                                 0.0   \n...                       ...                                 ...   \n3142                      0.0                                 0.0   \n3143                      0.0                                 0.0   \n3144                      1.0                                 0.0   \n3145                      0.0                                 0.0   \n3146                      0.0                                 0.0   \n\n      Neighborhood_North  Neighborhood_Northeast  ...  \\\n0                    0.0                     0.0  ...   \n1                    0.0                     0.0  ...   \n2                    0.0                     0.0  ...   \n3                    0.0                     0.0  ...   \n4                    0.0                     0.0  ...   \n...                  ...                     ...  ...   \n3142                 0.0                     1.0  ...   \n3143                 0.0                     0.0  ...   \n3144                 0.0                     0.0  ...   \n3145                 0.0                     0.0  ...   \n3146                 0.0                     1.0  ...   \n\n      Log-ThirdLargestPropertyUseTypeGFA  YearBuilt  Log-TotalEnergy(kBtu)  \\\n0                              -0.439239       1927              15.793246   \n1                               2.153810       1996              15.942305   \n2                              -0.439239       1969              18.100297   \n3                              -0.439239       1999              16.307609   \n4                              -0.439239       1926              15.655764   \n...                                  ...        ...                    ...   \n3142                           -0.439239       2015              15.696876   \n3143                            1.780089       2015              14.586193   \n3144                            3.044854       2015              17.488365   \n3145                           -0.439239       2015              15.083074   \n3146                           -0.439239       1962              14.972650   \n\n      Ratio_Electricity  Ratio_Steam  Ratio_Gas  Ratio_Steam+Gas  \\\n0              0.546060     0.277302   0.176638         0.453940   \n1              0.386609     0.000000   0.613391         0.613391   \n2              0.682307     0.297113   0.020579         0.317693   \n3              0.609884     0.000000   0.390116         0.390116   \n4              0.577418     0.361423   0.061159         0.422582   \n...                 ...          ...        ...              ...   \n3142           0.472329     0.000000   0.527671         0.527671   \n3143           1.000000     0.000000   0.000000         0.000000   \n3144           0.600466     0.000000   0.399534         0.399534   \n3145           0.559873     0.000000   0.440127         0.440127   \n3146           1.000000     0.000000   0.000000         0.000000   \n\n      Ratio_Steam+Gas+Other  ENERGYSTARScore  Log-TotalGHGEmissions  \n0              4.539401e-01             60.0               5.525373  \n1              6.133909e-01             61.0               5.693261  \n2              3.176926e-01             43.0               7.645053  \n3              3.901160e-01              NaN               5.713106  \n4              4.225819e-01              NaN               5.404972  \n...                     ...              ...                    ...  \n3142           5.276708e-01            100.0               5.330397  \n3143           1.156743e-07             84.0               2.776954  \n3144           3.995342e-01              NaN               6.908815  \n3145           4.401271e-01            100.0               4.583947  \n3146           7.859610e-08              NaN               3.142858  \n\n[3147 rows x 58 columns]",
      "text/html": "<div>\n<style scoped>\n    .dataframe tbody tr th:only-of-type {\n        vertical-align: middle;\n    }\n\n    .dataframe tbody tr th {\n        vertical-align: top;\n    }\n\n    .dataframe thead th {\n        text-align: right;\n    }\n</style>\n<table border=\"1\" class=\"dataframe\">\n  <thead>\n    <tr style=\"text-align: right;\">\n      <th></th>\n      <th>Neighborhood_Ballard</th>\n      <th>Neighborhood_Central</th>\n      <th>Neighborhood_Delridge</th>\n      <th>Neighborhood_Downtown</th>\n      <th>Neighborhood_East</th>\n      <th>Neighborhood_Greater duwamish</th>\n      <th>Neighborhood_Lake union</th>\n      <th>Neighborhood_Magnolia / queen anne</th>\n      <th>Neighborhood_North</th>\n      <th>Neighborhood_Northeast</th>\n      <th>...</th>\n      <th>Log-ThirdLargestPropertyUseTypeGFA</th>\n      <th>YearBuilt</th>\n      <th>Log-TotalEnergy(kBtu)</th>\n      <th>Ratio_Electricity</th>\n      <th>Ratio_Steam</th>\n      <th>Ratio_Gas</th>\n      <th>Ratio_Steam+Gas</th>\n      <th>Ratio_Steam+Gas+Other</th>\n      <th>ENERGYSTARScore</th>\n      <th>Log-TotalGHGEmissions</th>\n    </tr>\n  </thead>\n  <tbody>\n    <tr>\n      <th>0</th>\n      <td>0.0</td>\n      <td>0.0</td>\n      <td>0.0</td>\n      <td>1.0</td>\n      <td>0.0</td>\n      <td>0.0</td>\n      <td>0.0</td>\n      <td>0.0</td>\n      <td>0.0</td>\n      <td>0.0</td>\n      <td>...</td>\n      <td>-0.439239</td>\n      <td>1927</td>\n      <td>15.793246</td>\n      <td>0.546060</td>\n      <td>0.277302</td>\n      <td>0.176638</td>\n      <td>0.453940</td>\n      <td>4.539401e-01</td>\n      <td>60.0</td>\n      <td>5.525373</td>\n    </tr>\n    <tr>\n      <th>1</th>\n      <td>0.0</td>\n      <td>0.0</td>\n      <td>0.0</td>\n      <td>1.0</td>\n      <td>0.0</td>\n      <td>0.0</td>\n      <td>0.0</td>\n      <td>0.0</td>\n      <td>0.0</td>\n      <td>0.0</td>\n      <td>...</td>\n      <td>2.153810</td>\n      <td>1996</td>\n      <td>15.942305</td>\n      <td>0.386609</td>\n      <td>0.000000</td>\n      <td>0.613391</td>\n      <td>0.613391</td>\n      <td>6.133909e-01</td>\n      <td>61.0</td>\n      <td>5.693261</td>\n    </tr>\n    <tr>\n      <th>2</th>\n      <td>0.0</td>\n      <td>0.0</td>\n      <td>0.0</td>\n      <td>1.0</td>\n      <td>0.0</td>\n      <td>0.0</td>\n      <td>0.0</td>\n      <td>0.0</td>\n      <td>0.0</td>\n      <td>0.0</td>\n      <td>...</td>\n      <td>-0.439239</td>\n      <td>1969</td>\n      <td>18.100297</td>\n      <td>0.682307</td>\n      <td>0.297113</td>\n      <td>0.020579</td>\n      <td>0.317693</td>\n      <td>3.176926e-01</td>\n      <td>43.0</td>\n      <td>7.645053</td>\n    </tr>\n    <tr>\n      <th>3</th>\n      <td>0.0</td>\n      <td>0.0</td>\n      <td>0.0</td>\n      <td>1.0</td>\n      <td>0.0</td>\n      <td>0.0</td>\n      <td>0.0</td>\n      <td>0.0</td>\n      <td>0.0</td>\n      <td>0.0</td>\n      <td>...</td>\n      <td>-0.439239</td>\n      <td>1999</td>\n      <td>16.307609</td>\n      <td>0.609884</td>\n      <td>0.000000</td>\n      <td>0.390116</td>\n      <td>0.390116</td>\n      <td>3.901160e-01</td>\n      <td>NaN</td>\n      <td>5.713106</td>\n    </tr>\n    <tr>\n      <th>4</th>\n      <td>0.0</td>\n      <td>0.0</td>\n      <td>0.0</td>\n      <td>1.0</td>\n      <td>0.0</td>\n      <td>0.0</td>\n      <td>0.0</td>\n      <td>0.0</td>\n      <td>0.0</td>\n      <td>0.0</td>\n      <td>...</td>\n      <td>-0.439239</td>\n      <td>1926</td>\n      <td>15.655764</td>\n      <td>0.577418</td>\n      <td>0.361423</td>\n      <td>0.061159</td>\n      <td>0.422582</td>\n      <td>4.225819e-01</td>\n      <td>NaN</td>\n      <td>5.404972</td>\n    </tr>\n    <tr>\n      <th>...</th>\n      <td>...</td>\n      <td>...</td>\n      <td>...</td>\n      <td>...</td>\n      <td>...</td>\n      <td>...</td>\n      <td>...</td>\n      <td>...</td>\n      <td>...</td>\n      <td>...</td>\n      <td>...</td>\n      <td>...</td>\n      <td>...</td>\n      <td>...</td>\n      <td>...</td>\n      <td>...</td>\n      <td>...</td>\n      <td>...</td>\n      <td>...</td>\n      <td>...</td>\n      <td>...</td>\n    </tr>\n    <tr>\n      <th>3142</th>\n      <td>0.0</td>\n      <td>0.0</td>\n      <td>0.0</td>\n      <td>0.0</td>\n      <td>0.0</td>\n      <td>0.0</td>\n      <td>0.0</td>\n      <td>0.0</td>\n      <td>0.0</td>\n      <td>1.0</td>\n      <td>...</td>\n      <td>-0.439239</td>\n      <td>2015</td>\n      <td>15.696876</td>\n      <td>0.472329</td>\n      <td>0.000000</td>\n      <td>0.527671</td>\n      <td>0.527671</td>\n      <td>5.276708e-01</td>\n      <td>100.0</td>\n      <td>5.330397</td>\n    </tr>\n    <tr>\n      <th>3143</th>\n      <td>0.0</td>\n      <td>0.0</td>\n      <td>0.0</td>\n      <td>0.0</td>\n      <td>1.0</td>\n      <td>0.0</td>\n      <td>0.0</td>\n      <td>0.0</td>\n      <td>0.0</td>\n      <td>0.0</td>\n      <td>...</td>\n      <td>1.780089</td>\n      <td>2015</td>\n      <td>14.586193</td>\n      <td>1.000000</td>\n      <td>0.000000</td>\n      <td>0.000000</td>\n      <td>0.000000</td>\n      <td>1.156743e-07</td>\n      <td>84.0</td>\n      <td>2.776954</td>\n    </tr>\n    <tr>\n      <th>3144</th>\n      <td>0.0</td>\n      <td>0.0</td>\n      <td>0.0</td>\n      <td>0.0</td>\n      <td>0.0</td>\n      <td>0.0</td>\n      <td>1.0</td>\n      <td>0.0</td>\n      <td>0.0</td>\n      <td>0.0</td>\n      <td>...</td>\n      <td>3.044854</td>\n      <td>2015</td>\n      <td>17.488365</td>\n      <td>0.600466</td>\n      <td>0.000000</td>\n      <td>0.399534</td>\n      <td>0.399534</td>\n      <td>3.995342e-01</td>\n      <td>NaN</td>\n      <td>6.908815</td>\n    </tr>\n    <tr>\n      <th>3145</th>\n      <td>0.0</td>\n      <td>0.0</td>\n      <td>0.0</td>\n      <td>0.0</td>\n      <td>0.0</td>\n      <td>0.0</td>\n      <td>0.0</td>\n      <td>0.0</td>\n      <td>0.0</td>\n      <td>0.0</td>\n      <td>...</td>\n      <td>-0.439239</td>\n      <td>2015</td>\n      <td>15.083074</td>\n      <td>0.559873</td>\n      <td>0.000000</td>\n      <td>0.440127</td>\n      <td>0.440127</td>\n      <td>4.401271e-01</td>\n      <td>100.0</td>\n      <td>4.583947</td>\n    </tr>\n    <tr>\n      <th>3146</th>\n      <td>0.0</td>\n      <td>0.0</td>\n      <td>0.0</td>\n      <td>0.0</td>\n      <td>0.0</td>\n      <td>0.0</td>\n      <td>0.0</td>\n      <td>0.0</td>\n      <td>0.0</td>\n      <td>1.0</td>\n      <td>...</td>\n      <td>-0.439239</td>\n      <td>1962</td>\n      <td>14.972650</td>\n      <td>1.000000</td>\n      <td>0.000000</td>\n      <td>0.000000</td>\n      <td>0.000000</td>\n      <td>7.859610e-08</td>\n      <td>NaN</td>\n      <td>3.142858</td>\n    </tr>\n  </tbody>\n</table>\n<p>3147 rows × 58 columns</p>\n</div>"
     },
     "execution_count": 151,
     "metadata": {},
     "output_type": "execute_result"
    }
   ],
   "source": [
    "dataset"
   ],
   "metadata": {
    "collapsed": false,
    "pycharm": {
     "name": "#%%\n"
    }
   }
  },
  {
   "cell_type": "markdown",
   "source": [
    "### 1) Predict each energy"
   ],
   "metadata": {
    "collapsed": false,
    "pycharm": {
     "name": "#%% md\n"
    }
   }
  },
  {
   "cell_type": "code",
   "execution_count": 152,
   "outputs": [
    {
     "name": "stdout",
     "output_type": "stream",
     "text": [
      "Step : 0 total_energy\n"
     ]
    },
    {
     "data": {
      "text/plain": "      Log-TotalEnergy(kBtu)\n0                 15.895193\n1                 15.710253\n2                 18.056078\n3                 16.020353\n4                 15.950182\n...                     ...\n3142              15.324675\n3143              14.759732\n3144              17.094656\n3145              15.337204\n3146              15.246939\n\n[3147 rows x 1 columns]",
      "text/html": "<div>\n<style scoped>\n    .dataframe tbody tr th:only-of-type {\n        vertical-align: middle;\n    }\n\n    .dataframe tbody tr th {\n        vertical-align: top;\n    }\n\n    .dataframe thead th {\n        text-align: right;\n    }\n</style>\n<table border=\"1\" class=\"dataframe\">\n  <thead>\n    <tr style=\"text-align: right;\">\n      <th></th>\n      <th>Log-TotalEnergy(kBtu)</th>\n    </tr>\n  </thead>\n  <tbody>\n    <tr>\n      <th>0</th>\n      <td>15.895193</td>\n    </tr>\n    <tr>\n      <th>1</th>\n      <td>15.710253</td>\n    </tr>\n    <tr>\n      <th>2</th>\n      <td>18.056078</td>\n    </tr>\n    <tr>\n      <th>3</th>\n      <td>16.020353</td>\n    </tr>\n    <tr>\n      <th>4</th>\n      <td>15.950182</td>\n    </tr>\n    <tr>\n      <th>...</th>\n      <td>...</td>\n    </tr>\n    <tr>\n      <th>3142</th>\n      <td>15.324675</td>\n    </tr>\n    <tr>\n      <th>3143</th>\n      <td>14.759732</td>\n    </tr>\n    <tr>\n      <th>3144</th>\n      <td>17.094656</td>\n    </tr>\n    <tr>\n      <th>3145</th>\n      <td>15.337204</td>\n    </tr>\n    <tr>\n      <th>3146</th>\n      <td>15.246939</td>\n    </tr>\n  </tbody>\n</table>\n<p>3147 rows × 1 columns</p>\n</div>"
     },
     "metadata": {},
     "output_type": "display_data"
    }
   ],
   "source": [
    "\n",
    "def predict_energies(df_energy, list_energy_dir):\n",
    "    \"\"\"\n",
    "\n",
    "    \"\"\"\n",
    "    for index, energy_dir in enumerate(list_energy_dir):\n",
    "\n",
    "        # we load each best model for each energy features\n",
    "        filename = 'model/{}/best_model_{}.sav'.format(energy_dir, energy_dir)\n",
    "        best_model_energy = pickle.load(open(filename, 'rb'))\n",
    "\n",
    "        y_pred_energy = best_model_energy.predict(df_energy)\n",
    "        series_y_pred = pd.Series(y_pred_energy)\n",
    "        # we put into one Series the prediction of the train set and test set\n",
    "        df_pred = pd.DataFrame(series_y_pred, columns=[all_energy_names[index]])\n",
    "\n",
    "        print(\"Step :\", index, energy_dir)\n",
    "        #display(df_pred) # OK\n",
    "\n",
    "        if index == 0:\n",
    "            df_energy_after = pd.DataFrame({})\n",
    "        df_energy_after = pd.concat([df_energy_after, df_pred], axis=1)\n",
    "\n",
    "    display(df_energy_after)\n",
    "    return df_energy_after\n",
    "\n",
    "dataset_predicted_energies = predict_energies(dataset_energy, all_energy_dir)"
   ],
   "metadata": {
    "collapsed": false,
    "pycharm": {
     "name": "#%%\n"
    }
   }
  },
  {
   "cell_type": "code",
   "execution_count": 153,
   "outputs": [],
   "source": [
    "#dataset[\"Log-TotalGHGEmissions\"].index.unique()"
   ],
   "metadata": {
    "collapsed": false,
    "pycharm": {
     "name": "#%%\n"
    }
   }
  },
  {
   "cell_type": "code",
   "execution_count": 154,
   "outputs": [],
   "source": [
    "#dataset_predicted_energies.index"
   ],
   "metadata": {
    "collapsed": false,
    "pycharm": {
     "name": "#%%\n"
    }
   }
  },
  {
   "cell_type": "code",
   "execution_count": 155,
   "outputs": [
    {
     "data": {
      "text/plain": "      Neighborhood_Ballard  Neighborhood_Central  Neighborhood_Delridge  \\\n0                      0.0                   0.0                    0.0   \n1                      0.0                   0.0                    0.0   \n2                      0.0                   0.0                    0.0   \n3                      0.0                   0.0                    0.0   \n4                      0.0                   0.0                    0.0   \n...                    ...                   ...                    ...   \n3142                   0.0                   0.0                    0.0   \n3143                   0.0                   0.0                    0.0   \n3144                   0.0                   0.0                    0.0   \n3145                   0.0                   0.0                    0.0   \n3146                   0.0                   0.0                    0.0   \n\n      Neighborhood_Downtown  Neighborhood_East  Neighborhood_Greater duwamish  \\\n0                       1.0                0.0                            0.0   \n1                       1.0                0.0                            0.0   \n2                       1.0                0.0                            0.0   \n3                       1.0                0.0                            0.0   \n4                       1.0                0.0                            0.0   \n...                     ...                ...                            ...   \n3142                    0.0                0.0                            0.0   \n3143                    0.0                1.0                            0.0   \n3144                    0.0                0.0                            0.0   \n3145                    0.0                0.0                            0.0   \n3146                    0.0                0.0                            0.0   \n\n      Neighborhood_Lake union  Neighborhood_Magnolia / queen anne  \\\n0                         0.0                                 0.0   \n1                         0.0                                 0.0   \n2                         0.0                                 0.0   \n3                         0.0                                 0.0   \n4                         0.0                                 0.0   \n...                       ...                                 ...   \n3142                      0.0                                 0.0   \n3143                      0.0                                 0.0   \n3144                      1.0                                 0.0   \n3145                      0.0                                 0.0   \n3146                      0.0                                 0.0   \n\n      Neighborhood_North  Neighborhood_Northeast  ...  \\\n0                    0.0                     0.0  ...   \n1                    0.0                     0.0  ...   \n2                    0.0                     0.0  ...   \n3                    0.0                     0.0  ...   \n4                    0.0                     0.0  ...   \n...                  ...                     ...  ...   \n3142                 0.0                     1.0  ...   \n3143                 0.0                     0.0  ...   \n3144                 0.0                     0.0  ...   \n3145                 0.0                     0.0  ...   \n3146                 0.0                     1.0  ...   \n\n      Log-ThirdLargestPropertyUseTypeGFA  YearBuilt  Ratio_Electricity  \\\n0                              -0.439239       1927           0.546060   \n1                               2.153810       1996           0.386609   \n2                              -0.439239       1969           0.682307   \n3                              -0.439239       1999           0.609884   \n4                              -0.439239       1926           0.577418   \n...                                  ...        ...                ...   \n3142                           -0.439239       2015           0.472329   \n3143                            1.780089       2015           1.000000   \n3144                            3.044854       2015           0.600466   \n3145                           -0.439239       2015           0.559873   \n3146                           -0.439239       1962           1.000000   \n\n      Ratio_Steam  Ratio_Gas  Ratio_Steam+Gas  Ratio_Steam+Gas+Other  \\\n0        0.277302   0.176638         0.453940           4.539401e-01   \n1        0.000000   0.613391         0.613391           6.133909e-01   \n2        0.297113   0.020579         0.317693           3.176926e-01   \n3        0.000000   0.390116         0.390116           3.901160e-01   \n4        0.361423   0.061159         0.422582           4.225819e-01   \n...           ...        ...              ...                    ...   \n3142     0.000000   0.527671         0.527671           5.276708e-01   \n3143     0.000000   0.000000         0.000000           1.156743e-07   \n3144     0.000000   0.399534         0.399534           3.995342e-01   \n3145     0.000000   0.440127         0.440127           4.401271e-01   \n3146     0.000000   0.000000         0.000000           7.859610e-08   \n\n      ENERGYSTARScore  Log-TotalEnergy(kBtu)  Log-TotalGHGEmissions  \n0                60.0              15.895193               5.525373  \n1                61.0              15.710253               5.693261  \n2                43.0              18.056078               7.645053  \n3                 NaN              16.020353               5.713106  \n4                 NaN              15.950182               5.404972  \n...               ...                    ...                    ...  \n3142            100.0              15.324675               5.330397  \n3143             84.0              14.759732               2.776954  \n3144              NaN              17.094656               6.908815  \n3145            100.0              15.337204               4.583947  \n3146              NaN              15.246939               3.142858  \n\n[3147 rows x 58 columns]",
      "text/html": "<div>\n<style scoped>\n    .dataframe tbody tr th:only-of-type {\n        vertical-align: middle;\n    }\n\n    .dataframe tbody tr th {\n        vertical-align: top;\n    }\n\n    .dataframe thead th {\n        text-align: right;\n    }\n</style>\n<table border=\"1\" class=\"dataframe\">\n  <thead>\n    <tr style=\"text-align: right;\">\n      <th></th>\n      <th>Neighborhood_Ballard</th>\n      <th>Neighborhood_Central</th>\n      <th>Neighborhood_Delridge</th>\n      <th>Neighborhood_Downtown</th>\n      <th>Neighborhood_East</th>\n      <th>Neighborhood_Greater duwamish</th>\n      <th>Neighborhood_Lake union</th>\n      <th>Neighborhood_Magnolia / queen anne</th>\n      <th>Neighborhood_North</th>\n      <th>Neighborhood_Northeast</th>\n      <th>...</th>\n      <th>Log-ThirdLargestPropertyUseTypeGFA</th>\n      <th>YearBuilt</th>\n      <th>Ratio_Electricity</th>\n      <th>Ratio_Steam</th>\n      <th>Ratio_Gas</th>\n      <th>Ratio_Steam+Gas</th>\n      <th>Ratio_Steam+Gas+Other</th>\n      <th>ENERGYSTARScore</th>\n      <th>Log-TotalEnergy(kBtu)</th>\n      <th>Log-TotalGHGEmissions</th>\n    </tr>\n  </thead>\n  <tbody>\n    <tr>\n      <th>0</th>\n      <td>0.0</td>\n      <td>0.0</td>\n      <td>0.0</td>\n      <td>1.0</td>\n      <td>0.0</td>\n      <td>0.0</td>\n      <td>0.0</td>\n      <td>0.0</td>\n      <td>0.0</td>\n      <td>0.0</td>\n      <td>...</td>\n      <td>-0.439239</td>\n      <td>1927</td>\n      <td>0.546060</td>\n      <td>0.277302</td>\n      <td>0.176638</td>\n      <td>0.453940</td>\n      <td>4.539401e-01</td>\n      <td>60.0</td>\n      <td>15.895193</td>\n      <td>5.525373</td>\n    </tr>\n    <tr>\n      <th>1</th>\n      <td>0.0</td>\n      <td>0.0</td>\n      <td>0.0</td>\n      <td>1.0</td>\n      <td>0.0</td>\n      <td>0.0</td>\n      <td>0.0</td>\n      <td>0.0</td>\n      <td>0.0</td>\n      <td>0.0</td>\n      <td>...</td>\n      <td>2.153810</td>\n      <td>1996</td>\n      <td>0.386609</td>\n      <td>0.000000</td>\n      <td>0.613391</td>\n      <td>0.613391</td>\n      <td>6.133909e-01</td>\n      <td>61.0</td>\n      <td>15.710253</td>\n      <td>5.693261</td>\n    </tr>\n    <tr>\n      <th>2</th>\n      <td>0.0</td>\n      <td>0.0</td>\n      <td>0.0</td>\n      <td>1.0</td>\n      <td>0.0</td>\n      <td>0.0</td>\n      <td>0.0</td>\n      <td>0.0</td>\n      <td>0.0</td>\n      <td>0.0</td>\n      <td>...</td>\n      <td>-0.439239</td>\n      <td>1969</td>\n      <td>0.682307</td>\n      <td>0.297113</td>\n      <td>0.020579</td>\n      <td>0.317693</td>\n      <td>3.176926e-01</td>\n      <td>43.0</td>\n      <td>18.056078</td>\n      <td>7.645053</td>\n    </tr>\n    <tr>\n      <th>3</th>\n      <td>0.0</td>\n      <td>0.0</td>\n      <td>0.0</td>\n      <td>1.0</td>\n      <td>0.0</td>\n      <td>0.0</td>\n      <td>0.0</td>\n      <td>0.0</td>\n      <td>0.0</td>\n      <td>0.0</td>\n      <td>...</td>\n      <td>-0.439239</td>\n      <td>1999</td>\n      <td>0.609884</td>\n      <td>0.000000</td>\n      <td>0.390116</td>\n      <td>0.390116</td>\n      <td>3.901160e-01</td>\n      <td>NaN</td>\n      <td>16.020353</td>\n      <td>5.713106</td>\n    </tr>\n    <tr>\n      <th>4</th>\n      <td>0.0</td>\n      <td>0.0</td>\n      <td>0.0</td>\n      <td>1.0</td>\n      <td>0.0</td>\n      <td>0.0</td>\n      <td>0.0</td>\n      <td>0.0</td>\n      <td>0.0</td>\n      <td>0.0</td>\n      <td>...</td>\n      <td>-0.439239</td>\n      <td>1926</td>\n      <td>0.577418</td>\n      <td>0.361423</td>\n      <td>0.061159</td>\n      <td>0.422582</td>\n      <td>4.225819e-01</td>\n      <td>NaN</td>\n      <td>15.950182</td>\n      <td>5.404972</td>\n    </tr>\n    <tr>\n      <th>...</th>\n      <td>...</td>\n      <td>...</td>\n      <td>...</td>\n      <td>...</td>\n      <td>...</td>\n      <td>...</td>\n      <td>...</td>\n      <td>...</td>\n      <td>...</td>\n      <td>...</td>\n      <td>...</td>\n      <td>...</td>\n      <td>...</td>\n      <td>...</td>\n      <td>...</td>\n      <td>...</td>\n      <td>...</td>\n      <td>...</td>\n      <td>...</td>\n      <td>...</td>\n      <td>...</td>\n    </tr>\n    <tr>\n      <th>3142</th>\n      <td>0.0</td>\n      <td>0.0</td>\n      <td>0.0</td>\n      <td>0.0</td>\n      <td>0.0</td>\n      <td>0.0</td>\n      <td>0.0</td>\n      <td>0.0</td>\n      <td>0.0</td>\n      <td>1.0</td>\n      <td>...</td>\n      <td>-0.439239</td>\n      <td>2015</td>\n      <td>0.472329</td>\n      <td>0.000000</td>\n      <td>0.527671</td>\n      <td>0.527671</td>\n      <td>5.276708e-01</td>\n      <td>100.0</td>\n      <td>15.324675</td>\n      <td>5.330397</td>\n    </tr>\n    <tr>\n      <th>3143</th>\n      <td>0.0</td>\n      <td>0.0</td>\n      <td>0.0</td>\n      <td>0.0</td>\n      <td>1.0</td>\n      <td>0.0</td>\n      <td>0.0</td>\n      <td>0.0</td>\n      <td>0.0</td>\n      <td>0.0</td>\n      <td>...</td>\n      <td>1.780089</td>\n      <td>2015</td>\n      <td>1.000000</td>\n      <td>0.000000</td>\n      <td>0.000000</td>\n      <td>0.000000</td>\n      <td>1.156743e-07</td>\n      <td>84.0</td>\n      <td>14.759732</td>\n      <td>2.776954</td>\n    </tr>\n    <tr>\n      <th>3144</th>\n      <td>0.0</td>\n      <td>0.0</td>\n      <td>0.0</td>\n      <td>0.0</td>\n      <td>0.0</td>\n      <td>0.0</td>\n      <td>1.0</td>\n      <td>0.0</td>\n      <td>0.0</td>\n      <td>0.0</td>\n      <td>...</td>\n      <td>3.044854</td>\n      <td>2015</td>\n      <td>0.600466</td>\n      <td>0.000000</td>\n      <td>0.399534</td>\n      <td>0.399534</td>\n      <td>3.995342e-01</td>\n      <td>NaN</td>\n      <td>17.094656</td>\n      <td>6.908815</td>\n    </tr>\n    <tr>\n      <th>3145</th>\n      <td>0.0</td>\n      <td>0.0</td>\n      <td>0.0</td>\n      <td>0.0</td>\n      <td>0.0</td>\n      <td>0.0</td>\n      <td>0.0</td>\n      <td>0.0</td>\n      <td>0.0</td>\n      <td>0.0</td>\n      <td>...</td>\n      <td>-0.439239</td>\n      <td>2015</td>\n      <td>0.559873</td>\n      <td>0.000000</td>\n      <td>0.440127</td>\n      <td>0.440127</td>\n      <td>4.401271e-01</td>\n      <td>100.0</td>\n      <td>15.337204</td>\n      <td>4.583947</td>\n    </tr>\n    <tr>\n      <th>3146</th>\n      <td>0.0</td>\n      <td>0.0</td>\n      <td>0.0</td>\n      <td>0.0</td>\n      <td>0.0</td>\n      <td>0.0</td>\n      <td>0.0</td>\n      <td>0.0</td>\n      <td>0.0</td>\n      <td>1.0</td>\n      <td>...</td>\n      <td>-0.439239</td>\n      <td>1962</td>\n      <td>1.000000</td>\n      <td>0.000000</td>\n      <td>0.000000</td>\n      <td>0.000000</td>\n      <td>7.859610e-08</td>\n      <td>NaN</td>\n      <td>15.246939</td>\n      <td>3.142858</td>\n    </tr>\n  </tbody>\n</table>\n<p>3147 rows × 58 columns</p>\n</div>"
     },
     "metadata": {},
     "output_type": "display_data"
    }
   ],
   "source": [
    "dataset_CO2 = pd.concat([dataset.iloc[:, :-8], dataset.iloc[:, -7:-1], dataset_predicted_energies, dataset.iloc[:, -1]], axis=1)\n",
    "\n",
    "display(dataset_CO2)"
   ],
   "metadata": {
    "collapsed": false,
    "pycharm": {
     "name": "#%%\n"
    }
   }
  },
  {
   "cell_type": "markdown",
   "source": [
    "### 2) Preparing dataset CO2 without ENERGYSTARScore"
   ],
   "metadata": {
    "collapsed": false,
    "pycharm": {
     "name": "#%% md\n"
    }
   }
  },
  {
   "cell_type": "markdown",
   "source": [
    "#### 1) Selection of features"
   ],
   "metadata": {
    "collapsed": false,
    "pycharm": {
     "name": "#%% md\n"
    }
   }
  },
  {
   "cell_type": "code",
   "execution_count": 156,
   "outputs": [
    {
     "data": {
      "text/plain": "['Neighborhood_Ballard',\n 'Neighborhood_Central',\n 'Neighborhood_Delridge',\n 'Neighborhood_Downtown',\n 'Neighborhood_East',\n 'Neighborhood_Greater duwamish',\n 'Neighborhood_Lake union',\n 'Neighborhood_Magnolia / queen anne',\n 'Neighborhood_North',\n 'Neighborhood_Northeast',\n 'Neighborhood_Northwest',\n 'Neighborhood_Southeast',\n 'Neighborhood_Southwest',\n 'BuildingType_Campus',\n 'BuildingType_Multifamily hr (10+)',\n 'BuildingType_Multifamily lr (1-4)',\n 'BuildingType_Multifamily mr (5-9)',\n 'BuildingType_Nonresidential',\n 'BuildingType_Nonresidential cos',\n 'BuildingType_Sps-district k-12',\n 'PrimaryPropertyType_Distribution center',\n 'PrimaryPropertyType_High-rise multifamily',\n 'PrimaryPropertyType_Hospital',\n 'PrimaryPropertyType_Hotel',\n 'PrimaryPropertyType_K-12 school',\n 'PrimaryPropertyType_Laboratory',\n 'PrimaryPropertyType_Large office',\n 'PrimaryPropertyType_Low-rise multifamily',\n 'PrimaryPropertyType_Medical office',\n 'PrimaryPropertyType_Mid-rise multifamily',\n 'PrimaryPropertyType_Mixed use property',\n 'PrimaryPropertyType_Other',\n 'PrimaryPropertyType_Refrigerated warehouse',\n 'PrimaryPropertyType_Residence hall',\n 'PrimaryPropertyType_Restaurant',\n 'PrimaryPropertyType_Retail store',\n 'PrimaryPropertyType_Self-storage facility',\n 'PrimaryPropertyType_Senior care community',\n 'PrimaryPropertyType_Small- and mid-sized office',\n 'PrimaryPropertyType_Supermarket / grocery store',\n 'PrimaryPropertyType_University',\n 'PrimaryPropertyType_Warehouse',\n 'PrimaryPropertyType_Worship facility',\n 'Log-NumberofFloors',\n 'Log-PropertyGFATotal',\n 'Log-PropertyGFABuilding(s)',\n 'Log-LargestPropertyUseTypeGFA',\n 'Log-SecondLargestPropertyUseTypeGFA',\n 'Log-ThirdLargestPropertyUseTypeGFA',\n 'YearBuilt',\n 'Ratio_Electricity',\n 'Ratio_Steam',\n 'Ratio_Gas',\n 'Ratio_Steam+Gas',\n 'Ratio_Steam+Gas+Other',\n 'Log-TotalEnergy(kBtu)',\n 'Log-TotalGHGEmissions']"
     },
     "execution_count": 156,
     "metadata": {},
     "output_type": "execute_result"
    }
   ],
   "source": [
    "# liste des variables et étiquettes\n",
    "model_CO2_target = ['Log-TotalGHGEmissions']\n",
    "model_CO2_features = dataset_CO2.columns.tolist()[:-1]\n",
    "model_CO2_features.remove(\"ENERGYSTARScore\")\n",
    "#model_CO2_features = ['Log-SteamUse(kBtu)', 'Log-Electricity(kBtu)', 'Log-NaturalGas(kBtu)', 'Log-TotalEnergy(kBtu)']\n",
    "model_CO2 = model_CO2_features + model_CO2_target\n",
    "\n",
    "model_CO2"
   ],
   "metadata": {
    "collapsed": false,
    "pycharm": {
     "name": "#%%\n"
    }
   }
  },
  {
   "cell_type": "markdown",
   "source": [
    "#### 2) Separation train and test dataset\n"
   ],
   "metadata": {
    "collapsed": false,
    "pycharm": {
     "name": "#%% md\n"
    }
   }
  },
  {
   "cell_type": "code",
   "execution_count": 157,
   "outputs": [
    {
     "data": {
      "text/plain": "      Neighborhood_Ballard  Neighborhood_Central  Neighborhood_Delridge  \\\n1008                   1.0                   0.0                    0.0   \n1784                   0.0                   0.0                    0.0   \n1563                   0.0                   0.0                    0.0   \n452                    0.0                   0.0                    0.0   \n1561                   0.0                   0.0                    0.0   \n...                    ...                   ...                    ...   \n2763                   0.0                   1.0                    0.0   \n905                    0.0                   0.0                    0.0   \n1096                   0.0                   0.0                    0.0   \n235                    0.0                   0.0                    0.0   \n1061                   0.0                   0.0                    0.0   \n\n      Neighborhood_Downtown  Neighborhood_East  Neighborhood_Greater duwamish  \\\n1008                    0.0                0.0                            0.0   \n1784                    0.0                0.0                            0.0   \n1563                    0.0                0.0                            0.0   \n452                     1.0                0.0                            0.0   \n1561                    0.0                0.0                            0.0   \n...                     ...                ...                            ...   \n2763                    0.0                0.0                            0.0   \n905                     0.0                0.0                            1.0   \n1096                    0.0                0.0                            0.0   \n235                     0.0                0.0                            1.0   \n1061                    1.0                0.0                            0.0   \n\n      Neighborhood_Lake union  Neighborhood_Magnolia / queen anne  \\\n1008                      0.0                                 0.0   \n1784                      0.0                                 0.0   \n1563                      0.0                                 0.0   \n452                       0.0                                 0.0   \n1561                      0.0                                 0.0   \n...                       ...                                 ...   \n2763                      0.0                                 0.0   \n905                       0.0                                 0.0   \n1096                      0.0                                 1.0   \n235                       0.0                                 0.0   \n1061                      0.0                                 0.0   \n\n      Neighborhood_North  Neighborhood_Northeast  ...  \\\n1008                 0.0                     0.0  ...   \n1784                 1.0                     0.0  ...   \n1563                 0.0                     1.0  ...   \n452                  0.0                     0.0  ...   \n1561                 0.0                     1.0  ...   \n...                  ...                     ...  ...   \n2763                 0.0                     0.0  ...   \n905                  0.0                     0.0  ...   \n1096                 0.0                     0.0  ...   \n235                  0.0                     0.0  ...   \n1061                 0.0                     0.0  ...   \n\n      Log-ThirdLargestPropertyUseTypeGFA  YearBuilt  Ratio_Electricity  \\\n1008                           -0.439239       1990           1.000000   \n1784                           -0.439239       1954           0.469661   \n1563                           -0.439239       1985           1.000000   \n452                            -0.439239       1917           0.758858   \n1561                           -0.439239       1988           1.000000   \n...                                  ...        ...                ...   \n2763                           -0.439239       1907           0.691415   \n905                            -0.439239       1964           0.999999   \n1096                           -0.439239       1929           0.561847   \n235                            -0.439239       1940           0.834923   \n1061                            2.422981       1901           0.999999   \n\n      Ratio_Steam  Ratio_Gas  Ratio_Steam+Gas  Ratio_Steam+Gas+Other  \\\n1008          0.0   0.000000         0.000000           3.993639e-07   \n1784          0.0   0.530340         0.530340           5.303392e-01   \n1563          0.0   0.000000         0.000000           1.420960e-07   \n452           0.0   0.241141         0.241141           2.411416e-01   \n1561          0.0   0.000000         0.000000           1.793910e-07   \n...           ...        ...              ...                    ...   \n2763          0.0   0.308585         0.308585           3.085848e-01   \n905           0.0   0.000000         0.000000           1.072840e-06   \n1096          0.0   0.438153         0.438153           4.381528e-01   \n235           0.0   0.165076         0.165076           1.650767e-01   \n1061          0.0   0.000000         0.000000           6.410625e-07   \n\n      ENERGYSTARScore  Log-TotalEnergy(kBtu)  Log-TotalGHGEmissions  \n1008             60.0              13.547426               1.865629  \n1784             90.0              13.378095               3.089223  \n1563             98.0              14.555510               2.585506  \n452               NaN              13.874565               3.421653  \n1561             82.0              13.492342               1.536867  \n...               ...                    ...                    ...  \n2763             47.0              14.113312               3.639689  \n905              53.0              13.880654               1.291984  \n1096             63.0              14.301472               3.507058  \n235               NaN              15.172963               4.321613  \n1061              NaN              14.338427               2.214846  \n\n[2202 rows x 58 columns]",
      "text/html": "<div>\n<style scoped>\n    .dataframe tbody tr th:only-of-type {\n        vertical-align: middle;\n    }\n\n    .dataframe tbody tr th {\n        vertical-align: top;\n    }\n\n    .dataframe thead th {\n        text-align: right;\n    }\n</style>\n<table border=\"1\" class=\"dataframe\">\n  <thead>\n    <tr style=\"text-align: right;\">\n      <th></th>\n      <th>Neighborhood_Ballard</th>\n      <th>Neighborhood_Central</th>\n      <th>Neighborhood_Delridge</th>\n      <th>Neighborhood_Downtown</th>\n      <th>Neighborhood_East</th>\n      <th>Neighborhood_Greater duwamish</th>\n      <th>Neighborhood_Lake union</th>\n      <th>Neighborhood_Magnolia / queen anne</th>\n      <th>Neighborhood_North</th>\n      <th>Neighborhood_Northeast</th>\n      <th>...</th>\n      <th>Log-ThirdLargestPropertyUseTypeGFA</th>\n      <th>YearBuilt</th>\n      <th>Ratio_Electricity</th>\n      <th>Ratio_Steam</th>\n      <th>Ratio_Gas</th>\n      <th>Ratio_Steam+Gas</th>\n      <th>Ratio_Steam+Gas+Other</th>\n      <th>ENERGYSTARScore</th>\n      <th>Log-TotalEnergy(kBtu)</th>\n      <th>Log-TotalGHGEmissions</th>\n    </tr>\n  </thead>\n  <tbody>\n    <tr>\n      <th>1008</th>\n      <td>1.0</td>\n      <td>0.0</td>\n      <td>0.0</td>\n      <td>0.0</td>\n      <td>0.0</td>\n      <td>0.0</td>\n      <td>0.0</td>\n      <td>0.0</td>\n      <td>0.0</td>\n      <td>0.0</td>\n      <td>...</td>\n      <td>-0.439239</td>\n      <td>1990</td>\n      <td>1.000000</td>\n      <td>0.0</td>\n      <td>0.000000</td>\n      <td>0.000000</td>\n      <td>3.993639e-07</td>\n      <td>60.0</td>\n      <td>13.547426</td>\n      <td>1.865629</td>\n    </tr>\n    <tr>\n      <th>1784</th>\n      <td>0.0</td>\n      <td>0.0</td>\n      <td>0.0</td>\n      <td>0.0</td>\n      <td>0.0</td>\n      <td>0.0</td>\n      <td>0.0</td>\n      <td>0.0</td>\n      <td>1.0</td>\n      <td>0.0</td>\n      <td>...</td>\n      <td>-0.439239</td>\n      <td>1954</td>\n      <td>0.469661</td>\n      <td>0.0</td>\n      <td>0.530340</td>\n      <td>0.530340</td>\n      <td>5.303392e-01</td>\n      <td>90.0</td>\n      <td>13.378095</td>\n      <td>3.089223</td>\n    </tr>\n    <tr>\n      <th>1563</th>\n      <td>0.0</td>\n      <td>0.0</td>\n      <td>0.0</td>\n      <td>0.0</td>\n      <td>0.0</td>\n      <td>0.0</td>\n      <td>0.0</td>\n      <td>0.0</td>\n      <td>0.0</td>\n      <td>1.0</td>\n      <td>...</td>\n      <td>-0.439239</td>\n      <td>1985</td>\n      <td>1.000000</td>\n      <td>0.0</td>\n      <td>0.000000</td>\n      <td>0.000000</td>\n      <td>1.420960e-07</td>\n      <td>98.0</td>\n      <td>14.555510</td>\n      <td>2.585506</td>\n    </tr>\n    <tr>\n      <th>452</th>\n      <td>0.0</td>\n      <td>0.0</td>\n      <td>0.0</td>\n      <td>1.0</td>\n      <td>0.0</td>\n      <td>0.0</td>\n      <td>0.0</td>\n      <td>0.0</td>\n      <td>0.0</td>\n      <td>0.0</td>\n      <td>...</td>\n      <td>-0.439239</td>\n      <td>1917</td>\n      <td>0.758858</td>\n      <td>0.0</td>\n      <td>0.241141</td>\n      <td>0.241141</td>\n      <td>2.411416e-01</td>\n      <td>NaN</td>\n      <td>13.874565</td>\n      <td>3.421653</td>\n    </tr>\n    <tr>\n      <th>1561</th>\n      <td>0.0</td>\n      <td>0.0</td>\n      <td>0.0</td>\n      <td>0.0</td>\n      <td>0.0</td>\n      <td>0.0</td>\n      <td>0.0</td>\n      <td>0.0</td>\n      <td>0.0</td>\n      <td>1.0</td>\n      <td>...</td>\n      <td>-0.439239</td>\n      <td>1988</td>\n      <td>1.000000</td>\n      <td>0.0</td>\n      <td>0.000000</td>\n      <td>0.000000</td>\n      <td>1.793910e-07</td>\n      <td>82.0</td>\n      <td>13.492342</td>\n      <td>1.536867</td>\n    </tr>\n    <tr>\n      <th>...</th>\n      <td>...</td>\n      <td>...</td>\n      <td>...</td>\n      <td>...</td>\n      <td>...</td>\n      <td>...</td>\n      <td>...</td>\n      <td>...</td>\n      <td>...</td>\n      <td>...</td>\n      <td>...</td>\n      <td>...</td>\n      <td>...</td>\n      <td>...</td>\n      <td>...</td>\n      <td>...</td>\n      <td>...</td>\n      <td>...</td>\n      <td>...</td>\n      <td>...</td>\n      <td>...</td>\n    </tr>\n    <tr>\n      <th>2763</th>\n      <td>0.0</td>\n      <td>1.0</td>\n      <td>0.0</td>\n      <td>0.0</td>\n      <td>0.0</td>\n      <td>0.0</td>\n      <td>0.0</td>\n      <td>0.0</td>\n      <td>0.0</td>\n      <td>0.0</td>\n      <td>...</td>\n      <td>-0.439239</td>\n      <td>1907</td>\n      <td>0.691415</td>\n      <td>0.0</td>\n      <td>0.308585</td>\n      <td>0.308585</td>\n      <td>3.085848e-01</td>\n      <td>47.0</td>\n      <td>14.113312</td>\n      <td>3.639689</td>\n    </tr>\n    <tr>\n      <th>905</th>\n      <td>0.0</td>\n      <td>0.0</td>\n      <td>0.0</td>\n      <td>0.0</td>\n      <td>0.0</td>\n      <td>1.0</td>\n      <td>0.0</td>\n      <td>0.0</td>\n      <td>0.0</td>\n      <td>0.0</td>\n      <td>...</td>\n      <td>-0.439239</td>\n      <td>1964</td>\n      <td>0.999999</td>\n      <td>0.0</td>\n      <td>0.000000</td>\n      <td>0.000000</td>\n      <td>1.072840e-06</td>\n      <td>53.0</td>\n      <td>13.880654</td>\n      <td>1.291984</td>\n    </tr>\n    <tr>\n      <th>1096</th>\n      <td>0.0</td>\n      <td>0.0</td>\n      <td>0.0</td>\n      <td>0.0</td>\n      <td>0.0</td>\n      <td>0.0</td>\n      <td>0.0</td>\n      <td>1.0</td>\n      <td>0.0</td>\n      <td>0.0</td>\n      <td>...</td>\n      <td>-0.439239</td>\n      <td>1929</td>\n      <td>0.561847</td>\n      <td>0.0</td>\n      <td>0.438153</td>\n      <td>0.438153</td>\n      <td>4.381528e-01</td>\n      <td>63.0</td>\n      <td>14.301472</td>\n      <td>3.507058</td>\n    </tr>\n    <tr>\n      <th>235</th>\n      <td>0.0</td>\n      <td>0.0</td>\n      <td>0.0</td>\n      <td>0.0</td>\n      <td>0.0</td>\n      <td>1.0</td>\n      <td>0.0</td>\n      <td>0.0</td>\n      <td>0.0</td>\n      <td>0.0</td>\n      <td>...</td>\n      <td>-0.439239</td>\n      <td>1940</td>\n      <td>0.834923</td>\n      <td>0.0</td>\n      <td>0.165076</td>\n      <td>0.165076</td>\n      <td>1.650767e-01</td>\n      <td>NaN</td>\n      <td>15.172963</td>\n      <td>4.321613</td>\n    </tr>\n    <tr>\n      <th>1061</th>\n      <td>0.0</td>\n      <td>0.0</td>\n      <td>0.0</td>\n      <td>1.0</td>\n      <td>0.0</td>\n      <td>0.0</td>\n      <td>0.0</td>\n      <td>0.0</td>\n      <td>0.0</td>\n      <td>0.0</td>\n      <td>...</td>\n      <td>2.422981</td>\n      <td>1901</td>\n      <td>0.999999</td>\n      <td>0.0</td>\n      <td>0.000000</td>\n      <td>0.000000</td>\n      <td>6.410625e-07</td>\n      <td>NaN</td>\n      <td>14.338427</td>\n      <td>2.214846</td>\n    </tr>\n  </tbody>\n</table>\n<p>2202 rows × 58 columns</p>\n</div>"
     },
     "execution_count": 157,
     "metadata": {},
     "output_type": "execute_result"
    }
   ],
   "source": [
    "# We create a training set and a test set (the test set contains 30% of the dataset)\n",
    "train_common, test_common = train_test_split(dataset_CO2, test_size=0.3,  random_state=seed)\n",
    "\n",
    "train_common"
   ],
   "metadata": {
    "collapsed": false,
    "pycharm": {
     "name": "#%%\n"
    }
   }
  },
  {
   "cell_type": "code",
   "execution_count": 158,
   "outputs": [],
   "source": [
    "# Selection des variables pour modélisation CO2\n",
    "train_CO2, test_CO2 = train_common[model_CO2], test_common[model_CO2]"
   ],
   "metadata": {
    "collapsed": false,
    "pycharm": {
     "name": "#%%\n"
    }
   }
  },
  {
   "cell_type": "code",
   "execution_count": 159,
   "outputs": [
    {
     "data": {
      "text/plain": "      Neighborhood_Ballard  Neighborhood_Central  Neighborhood_Delridge  \\\n1008                   1.0                   0.0                    0.0   \n1784                   0.0                   0.0                    0.0   \n1563                   0.0                   0.0                    0.0   \n452                    0.0                   0.0                    0.0   \n1561                   0.0                   0.0                    0.0   \n...                    ...                   ...                    ...   \n2763                   0.0                   1.0                    0.0   \n905                    0.0                   0.0                    0.0   \n1096                   0.0                   0.0                    0.0   \n235                    0.0                   0.0                    0.0   \n1061                   0.0                   0.0                    0.0   \n\n      Neighborhood_Downtown  Neighborhood_East  Neighborhood_Greater duwamish  \\\n1008                    0.0                0.0                            0.0   \n1784                    0.0                0.0                            0.0   \n1563                    0.0                0.0                            0.0   \n452                     1.0                0.0                            0.0   \n1561                    0.0                0.0                            0.0   \n...                     ...                ...                            ...   \n2763                    0.0                0.0                            0.0   \n905                     0.0                0.0                            1.0   \n1096                    0.0                0.0                            0.0   \n235                     0.0                0.0                            1.0   \n1061                    1.0                0.0                            0.0   \n\n      Neighborhood_Lake union  Neighborhood_Magnolia / queen anne  \\\n1008                      0.0                                 0.0   \n1784                      0.0                                 0.0   \n1563                      0.0                                 0.0   \n452                       0.0                                 0.0   \n1561                      0.0                                 0.0   \n...                       ...                                 ...   \n2763                      0.0                                 0.0   \n905                       0.0                                 0.0   \n1096                      0.0                                 1.0   \n235                       0.0                                 0.0   \n1061                      0.0                                 0.0   \n\n      Neighborhood_North  Neighborhood_Northeast  ...  \\\n1008                 0.0                     0.0  ...   \n1784                 1.0                     0.0  ...   \n1563                 0.0                     1.0  ...   \n452                  0.0                     0.0  ...   \n1561                 0.0                     1.0  ...   \n...                  ...                     ...  ...   \n2763                 0.0                     0.0  ...   \n905                  0.0                     0.0  ...   \n1096                 0.0                     0.0  ...   \n235                  0.0                     0.0  ...   \n1061                 0.0                     0.0  ...   \n\n      Log-SecondLargestPropertyUseTypeGFA  Log-ThirdLargestPropertyUseTypeGFA  \\\n1008                            -0.923528                           -0.439239   \n1784                            -0.923528                           -0.439239   \n1563                            -0.923528                           -0.439239   \n452                              0.919706                           -0.439239   \n1561                            -0.923528                           -0.439239   \n...                                   ...                                 ...   \n2763                             0.941569                           -0.439239   \n905                             -0.923528                           -0.439239   \n1096                            -0.923528                           -0.439239   \n235                              1.017233                           -0.439239   \n1061                             1.009527                            2.422981   \n\n      YearBuilt  Ratio_Electricity  Ratio_Steam  Ratio_Gas  Ratio_Steam+Gas  \\\n1008       1990           1.000000          0.0   0.000000         0.000000   \n1784       1954           0.469661          0.0   0.530340         0.530340   \n1563       1985           1.000000          0.0   0.000000         0.000000   \n452        1917           0.758858          0.0   0.241141         0.241141   \n1561       1988           1.000000          0.0   0.000000         0.000000   \n...         ...                ...          ...        ...              ...   \n2763       1907           0.691415          0.0   0.308585         0.308585   \n905        1964           0.999999          0.0   0.000000         0.000000   \n1096       1929           0.561847          0.0   0.438153         0.438153   \n235        1940           0.834923          0.0   0.165076         0.165076   \n1061       1901           0.999999          0.0   0.000000         0.000000   \n\n      Ratio_Steam+Gas+Other  Log-TotalEnergy(kBtu)  Log-TotalGHGEmissions  \n1008           3.993639e-07              13.547426               1.865629  \n1784           5.303392e-01              13.378095               3.089223  \n1563           1.420960e-07              14.555510               2.585506  \n452            2.411416e-01              13.874565               3.421653  \n1561           1.793910e-07              13.492342               1.536867  \n...                     ...                    ...                    ...  \n2763           3.085848e-01              14.113312               3.639689  \n905            1.072840e-06              13.880654               1.291984  \n1096           4.381528e-01              14.301472               3.507058  \n235            1.650767e-01              15.172963               4.321613  \n1061           6.410625e-07              14.338427               2.214846  \n\n[2202 rows x 57 columns]",
      "text/html": "<div>\n<style scoped>\n    .dataframe tbody tr th:only-of-type {\n        vertical-align: middle;\n    }\n\n    .dataframe tbody tr th {\n        vertical-align: top;\n    }\n\n    .dataframe thead th {\n        text-align: right;\n    }\n</style>\n<table border=\"1\" class=\"dataframe\">\n  <thead>\n    <tr style=\"text-align: right;\">\n      <th></th>\n      <th>Neighborhood_Ballard</th>\n      <th>Neighborhood_Central</th>\n      <th>Neighborhood_Delridge</th>\n      <th>Neighborhood_Downtown</th>\n      <th>Neighborhood_East</th>\n      <th>Neighborhood_Greater duwamish</th>\n      <th>Neighborhood_Lake union</th>\n      <th>Neighborhood_Magnolia / queen anne</th>\n      <th>Neighborhood_North</th>\n      <th>Neighborhood_Northeast</th>\n      <th>...</th>\n      <th>Log-SecondLargestPropertyUseTypeGFA</th>\n      <th>Log-ThirdLargestPropertyUseTypeGFA</th>\n      <th>YearBuilt</th>\n      <th>Ratio_Electricity</th>\n      <th>Ratio_Steam</th>\n      <th>Ratio_Gas</th>\n      <th>Ratio_Steam+Gas</th>\n      <th>Ratio_Steam+Gas+Other</th>\n      <th>Log-TotalEnergy(kBtu)</th>\n      <th>Log-TotalGHGEmissions</th>\n    </tr>\n  </thead>\n  <tbody>\n    <tr>\n      <th>1008</th>\n      <td>1.0</td>\n      <td>0.0</td>\n      <td>0.0</td>\n      <td>0.0</td>\n      <td>0.0</td>\n      <td>0.0</td>\n      <td>0.0</td>\n      <td>0.0</td>\n      <td>0.0</td>\n      <td>0.0</td>\n      <td>...</td>\n      <td>-0.923528</td>\n      <td>-0.439239</td>\n      <td>1990</td>\n      <td>1.000000</td>\n      <td>0.0</td>\n      <td>0.000000</td>\n      <td>0.000000</td>\n      <td>3.993639e-07</td>\n      <td>13.547426</td>\n      <td>1.865629</td>\n    </tr>\n    <tr>\n      <th>1784</th>\n      <td>0.0</td>\n      <td>0.0</td>\n      <td>0.0</td>\n      <td>0.0</td>\n      <td>0.0</td>\n      <td>0.0</td>\n      <td>0.0</td>\n      <td>0.0</td>\n      <td>1.0</td>\n      <td>0.0</td>\n      <td>...</td>\n      <td>-0.923528</td>\n      <td>-0.439239</td>\n      <td>1954</td>\n      <td>0.469661</td>\n      <td>0.0</td>\n      <td>0.530340</td>\n      <td>0.530340</td>\n      <td>5.303392e-01</td>\n      <td>13.378095</td>\n      <td>3.089223</td>\n    </tr>\n    <tr>\n      <th>1563</th>\n      <td>0.0</td>\n      <td>0.0</td>\n      <td>0.0</td>\n      <td>0.0</td>\n      <td>0.0</td>\n      <td>0.0</td>\n      <td>0.0</td>\n      <td>0.0</td>\n      <td>0.0</td>\n      <td>1.0</td>\n      <td>...</td>\n      <td>-0.923528</td>\n      <td>-0.439239</td>\n      <td>1985</td>\n      <td>1.000000</td>\n      <td>0.0</td>\n      <td>0.000000</td>\n      <td>0.000000</td>\n      <td>1.420960e-07</td>\n      <td>14.555510</td>\n      <td>2.585506</td>\n    </tr>\n    <tr>\n      <th>452</th>\n      <td>0.0</td>\n      <td>0.0</td>\n      <td>0.0</td>\n      <td>1.0</td>\n      <td>0.0</td>\n      <td>0.0</td>\n      <td>0.0</td>\n      <td>0.0</td>\n      <td>0.0</td>\n      <td>0.0</td>\n      <td>...</td>\n      <td>0.919706</td>\n      <td>-0.439239</td>\n      <td>1917</td>\n      <td>0.758858</td>\n      <td>0.0</td>\n      <td>0.241141</td>\n      <td>0.241141</td>\n      <td>2.411416e-01</td>\n      <td>13.874565</td>\n      <td>3.421653</td>\n    </tr>\n    <tr>\n      <th>1561</th>\n      <td>0.0</td>\n      <td>0.0</td>\n      <td>0.0</td>\n      <td>0.0</td>\n      <td>0.0</td>\n      <td>0.0</td>\n      <td>0.0</td>\n      <td>0.0</td>\n      <td>0.0</td>\n      <td>1.0</td>\n      <td>...</td>\n      <td>-0.923528</td>\n      <td>-0.439239</td>\n      <td>1988</td>\n      <td>1.000000</td>\n      <td>0.0</td>\n      <td>0.000000</td>\n      <td>0.000000</td>\n      <td>1.793910e-07</td>\n      <td>13.492342</td>\n      <td>1.536867</td>\n    </tr>\n    <tr>\n      <th>...</th>\n      <td>...</td>\n      <td>...</td>\n      <td>...</td>\n      <td>...</td>\n      <td>...</td>\n      <td>...</td>\n      <td>...</td>\n      <td>...</td>\n      <td>...</td>\n      <td>...</td>\n      <td>...</td>\n      <td>...</td>\n      <td>...</td>\n      <td>...</td>\n      <td>...</td>\n      <td>...</td>\n      <td>...</td>\n      <td>...</td>\n      <td>...</td>\n      <td>...</td>\n      <td>...</td>\n    </tr>\n    <tr>\n      <th>2763</th>\n      <td>0.0</td>\n      <td>1.0</td>\n      <td>0.0</td>\n      <td>0.0</td>\n      <td>0.0</td>\n      <td>0.0</td>\n      <td>0.0</td>\n      <td>0.0</td>\n      <td>0.0</td>\n      <td>0.0</td>\n      <td>...</td>\n      <td>0.941569</td>\n      <td>-0.439239</td>\n      <td>1907</td>\n      <td>0.691415</td>\n      <td>0.0</td>\n      <td>0.308585</td>\n      <td>0.308585</td>\n      <td>3.085848e-01</td>\n      <td>14.113312</td>\n      <td>3.639689</td>\n    </tr>\n    <tr>\n      <th>905</th>\n      <td>0.0</td>\n      <td>0.0</td>\n      <td>0.0</td>\n      <td>0.0</td>\n      <td>0.0</td>\n      <td>1.0</td>\n      <td>0.0</td>\n      <td>0.0</td>\n      <td>0.0</td>\n      <td>0.0</td>\n      <td>...</td>\n      <td>-0.923528</td>\n      <td>-0.439239</td>\n      <td>1964</td>\n      <td>0.999999</td>\n      <td>0.0</td>\n      <td>0.000000</td>\n      <td>0.000000</td>\n      <td>1.072840e-06</td>\n      <td>13.880654</td>\n      <td>1.291984</td>\n    </tr>\n    <tr>\n      <th>1096</th>\n      <td>0.0</td>\n      <td>0.0</td>\n      <td>0.0</td>\n      <td>0.0</td>\n      <td>0.0</td>\n      <td>0.0</td>\n      <td>0.0</td>\n      <td>1.0</td>\n      <td>0.0</td>\n      <td>0.0</td>\n      <td>...</td>\n      <td>-0.923528</td>\n      <td>-0.439239</td>\n      <td>1929</td>\n      <td>0.561847</td>\n      <td>0.0</td>\n      <td>0.438153</td>\n      <td>0.438153</td>\n      <td>4.381528e-01</td>\n      <td>14.301472</td>\n      <td>3.507058</td>\n    </tr>\n    <tr>\n      <th>235</th>\n      <td>0.0</td>\n      <td>0.0</td>\n      <td>0.0</td>\n      <td>0.0</td>\n      <td>0.0</td>\n      <td>1.0</td>\n      <td>0.0</td>\n      <td>0.0</td>\n      <td>0.0</td>\n      <td>0.0</td>\n      <td>...</td>\n      <td>1.017233</td>\n      <td>-0.439239</td>\n      <td>1940</td>\n      <td>0.834923</td>\n      <td>0.0</td>\n      <td>0.165076</td>\n      <td>0.165076</td>\n      <td>1.650767e-01</td>\n      <td>15.172963</td>\n      <td>4.321613</td>\n    </tr>\n    <tr>\n      <th>1061</th>\n      <td>0.0</td>\n      <td>0.0</td>\n      <td>0.0</td>\n      <td>1.0</td>\n      <td>0.0</td>\n      <td>0.0</td>\n      <td>0.0</td>\n      <td>0.0</td>\n      <td>0.0</td>\n      <td>0.0</td>\n      <td>...</td>\n      <td>1.009527</td>\n      <td>2.422981</td>\n      <td>1901</td>\n      <td>0.999999</td>\n      <td>0.0</td>\n      <td>0.000000</td>\n      <td>0.000000</td>\n      <td>6.410625e-07</td>\n      <td>14.338427</td>\n      <td>2.214846</td>\n    </tr>\n  </tbody>\n</table>\n<p>2202 rows × 57 columns</p>\n</div>"
     },
     "execution_count": 159,
     "metadata": {},
     "output_type": "execute_result"
    }
   ],
   "source": [
    "train_CO2"
   ],
   "metadata": {
    "collapsed": false,
    "pycharm": {
     "name": "#%%\n"
    }
   }
  },
  {
   "cell_type": "markdown",
   "source": [
    "#### 3) Standardization of numerical variables"
   ],
   "metadata": {
    "collapsed": false,
    "pycharm": {
     "name": "#%% md\n"
    }
   }
  },
  {
   "cell_type": "code",
   "execution_count": 160,
   "outputs": [
    {
     "data": {
      "text/plain": "      Ratio_Electricity  Ratio_Steam  Ratio_Gas  Ratio_Steam+Gas  \\\n1008           1.000000          0.0   0.000000         0.000000   \n1784           0.469661          0.0   0.530340         0.530340   \n1563           1.000000          0.0   0.000000         0.000000   \n452            0.758858          0.0   0.241141         0.241141   \n1561           1.000000          0.0   0.000000         0.000000   \n...                 ...          ...        ...              ...   \n2763           0.691415          0.0   0.308585         0.308585   \n905            0.999999          0.0   0.000000         0.000000   \n1096           0.561847          0.0   0.438153         0.438153   \n235            0.834923          0.0   0.165076         0.165076   \n1061           0.999999          0.0   0.000000         0.000000   \n\n      Ratio_Steam+Gas+Other  Log-TotalEnergy(kBtu)  \n1008           3.993639e-07              13.547426  \n1784           5.303392e-01              13.378095  \n1563           1.420960e-07              14.555510  \n452            2.411416e-01              13.874565  \n1561           1.793910e-07              13.492342  \n...                     ...                    ...  \n2763           3.085848e-01              14.113312  \n905            1.072840e-06              13.880654  \n1096           4.381528e-01              14.301472  \n235            1.650767e-01              15.172963  \n1061           6.410625e-07              14.338427  \n\n[2202 rows x 6 columns]",
      "text/html": "<div>\n<style scoped>\n    .dataframe tbody tr th:only-of-type {\n        vertical-align: middle;\n    }\n\n    .dataframe tbody tr th {\n        vertical-align: top;\n    }\n\n    .dataframe thead th {\n        text-align: right;\n    }\n</style>\n<table border=\"1\" class=\"dataframe\">\n  <thead>\n    <tr style=\"text-align: right;\">\n      <th></th>\n      <th>Ratio_Electricity</th>\n      <th>Ratio_Steam</th>\n      <th>Ratio_Gas</th>\n      <th>Ratio_Steam+Gas</th>\n      <th>Ratio_Steam+Gas+Other</th>\n      <th>Log-TotalEnergy(kBtu)</th>\n    </tr>\n  </thead>\n  <tbody>\n    <tr>\n      <th>1008</th>\n      <td>1.000000</td>\n      <td>0.0</td>\n      <td>0.000000</td>\n      <td>0.000000</td>\n      <td>3.993639e-07</td>\n      <td>13.547426</td>\n    </tr>\n    <tr>\n      <th>1784</th>\n      <td>0.469661</td>\n      <td>0.0</td>\n      <td>0.530340</td>\n      <td>0.530340</td>\n      <td>5.303392e-01</td>\n      <td>13.378095</td>\n    </tr>\n    <tr>\n      <th>1563</th>\n      <td>1.000000</td>\n      <td>0.0</td>\n      <td>0.000000</td>\n      <td>0.000000</td>\n      <td>1.420960e-07</td>\n      <td>14.555510</td>\n    </tr>\n    <tr>\n      <th>452</th>\n      <td>0.758858</td>\n      <td>0.0</td>\n      <td>0.241141</td>\n      <td>0.241141</td>\n      <td>2.411416e-01</td>\n      <td>13.874565</td>\n    </tr>\n    <tr>\n      <th>1561</th>\n      <td>1.000000</td>\n      <td>0.0</td>\n      <td>0.000000</td>\n      <td>0.000000</td>\n      <td>1.793910e-07</td>\n      <td>13.492342</td>\n    </tr>\n    <tr>\n      <th>...</th>\n      <td>...</td>\n      <td>...</td>\n      <td>...</td>\n      <td>...</td>\n      <td>...</td>\n      <td>...</td>\n    </tr>\n    <tr>\n      <th>2763</th>\n      <td>0.691415</td>\n      <td>0.0</td>\n      <td>0.308585</td>\n      <td>0.308585</td>\n      <td>3.085848e-01</td>\n      <td>14.113312</td>\n    </tr>\n    <tr>\n      <th>905</th>\n      <td>0.999999</td>\n      <td>0.0</td>\n      <td>0.000000</td>\n      <td>0.000000</td>\n      <td>1.072840e-06</td>\n      <td>13.880654</td>\n    </tr>\n    <tr>\n      <th>1096</th>\n      <td>0.561847</td>\n      <td>0.0</td>\n      <td>0.438153</td>\n      <td>0.438153</td>\n      <td>4.381528e-01</td>\n      <td>14.301472</td>\n    </tr>\n    <tr>\n      <th>235</th>\n      <td>0.834923</td>\n      <td>0.0</td>\n      <td>0.165076</td>\n      <td>0.165076</td>\n      <td>1.650767e-01</td>\n      <td>15.172963</td>\n    </tr>\n    <tr>\n      <th>1061</th>\n      <td>0.999999</td>\n      <td>0.0</td>\n      <td>0.000000</td>\n      <td>0.000000</td>\n      <td>6.410625e-07</td>\n      <td>14.338427</td>\n    </tr>\n  </tbody>\n</table>\n<p>2202 rows × 6 columns</p>\n</div>"
     },
     "execution_count": 160,
     "metadata": {},
     "output_type": "execute_result"
    }
   ],
   "source": [
    "model_CO2_features_std = [\"Ratio_Electricity\", \"Ratio_Steam\", \"Ratio_Gas\", \"Ratio_Steam+Gas\", \"Ratio_Steam+Gas+Other\", \"Log-TotalEnergy(kBtu)\"]\n",
    "\n",
    "train_CO2[model_CO2_features_std]"
   ],
   "metadata": {
    "collapsed": false,
    "pycharm": {
     "name": "#%%\n"
    }
   }
  },
  {
   "cell_type": "code",
   "execution_count": 161,
   "outputs": [],
   "source": [
    "# We train / fit the scaler on the training set / Computes the mean and std to be used for later scaling.\n",
    "std_scaler_CO2 = StandardScaler().fit(train_CO2[model_CO2_features_std])\n",
    "# We transform the training set and the testing set / Performs standardization by centering and scaling.\n",
    "train_CO2_std, test_CO2_std = train_CO2.copy(), test_CO2.copy()\n",
    "\n",
    "train_CO2_std[model_CO2_features_std] = std_scaler_CO2.transform(train_CO2[model_CO2_features_std])\n",
    "test_CO2_std[model_CO2_features_std] = std_scaler_CO2.transform(test_CO2[model_CO2_features_std])"
   ],
   "metadata": {
    "collapsed": false,
    "pycharm": {
     "name": "#%%\n"
    }
   }
  },
  {
   "cell_type": "code",
   "execution_count": 162,
   "outputs": [
    {
     "name": "stdout",
     "output_type": "stream",
     "text": [
      "Before\n"
     ]
    },
    {
     "data": {
      "text/plain": "      Neighborhood_Ballard  Neighborhood_Central  Neighborhood_Delridge  \\\n1008                   1.0                   0.0                    0.0   \n1784                   0.0                   0.0                    0.0   \n1563                   0.0                   0.0                    0.0   \n452                    0.0                   0.0                    0.0   \n1561                   0.0                   0.0                    0.0   \n...                    ...                   ...                    ...   \n2763                   0.0                   1.0                    0.0   \n905                    0.0                   0.0                    0.0   \n1096                   0.0                   0.0                    0.0   \n235                    0.0                   0.0                    0.0   \n1061                   0.0                   0.0                    0.0   \n\n      Neighborhood_Downtown  Neighborhood_East  Neighborhood_Greater duwamish  \\\n1008                    0.0                0.0                            0.0   \n1784                    0.0                0.0                            0.0   \n1563                    0.0                0.0                            0.0   \n452                     1.0                0.0                            0.0   \n1561                    0.0                0.0                            0.0   \n...                     ...                ...                            ...   \n2763                    0.0                0.0                            0.0   \n905                     0.0                0.0                            1.0   \n1096                    0.0                0.0                            0.0   \n235                     0.0                0.0                            1.0   \n1061                    1.0                0.0                            0.0   \n\n      Neighborhood_Lake union  Neighborhood_Magnolia / queen anne  \\\n1008                      0.0                                 0.0   \n1784                      0.0                                 0.0   \n1563                      0.0                                 0.0   \n452                       0.0                                 0.0   \n1561                      0.0                                 0.0   \n...                       ...                                 ...   \n2763                      0.0                                 0.0   \n905                       0.0                                 0.0   \n1096                      0.0                                 1.0   \n235                       0.0                                 0.0   \n1061                      0.0                                 0.0   \n\n      Neighborhood_North  Neighborhood_Northeast  ...  \\\n1008                 0.0                     0.0  ...   \n1784                 1.0                     0.0  ...   \n1563                 0.0                     1.0  ...   \n452                  0.0                     0.0  ...   \n1561                 0.0                     1.0  ...   \n...                  ...                     ...  ...   \n2763                 0.0                     0.0  ...   \n905                  0.0                     0.0  ...   \n1096                 0.0                     0.0  ...   \n235                  0.0                     0.0  ...   \n1061                 0.0                     0.0  ...   \n\n      Log-SecondLargestPropertyUseTypeGFA  Log-ThirdLargestPropertyUseTypeGFA  \\\n1008                            -0.923528                           -0.439239   \n1784                            -0.923528                           -0.439239   \n1563                            -0.923528                           -0.439239   \n452                              0.919706                           -0.439239   \n1561                            -0.923528                           -0.439239   \n...                                   ...                                 ...   \n2763                             0.941569                           -0.439239   \n905                             -0.923528                           -0.439239   \n1096                            -0.923528                           -0.439239   \n235                              1.017233                           -0.439239   \n1061                             1.009527                            2.422981   \n\n      YearBuilt  Ratio_Electricity  Ratio_Steam  Ratio_Gas  Ratio_Steam+Gas  \\\n1008       1990           1.000000          0.0   0.000000         0.000000   \n1784       1954           0.469661          0.0   0.530340         0.530340   \n1563       1985           1.000000          0.0   0.000000         0.000000   \n452        1917           0.758858          0.0   0.241141         0.241141   \n1561       1988           1.000000          0.0   0.000000         0.000000   \n...         ...                ...          ...        ...              ...   \n2763       1907           0.691415          0.0   0.308585         0.308585   \n905        1964           0.999999          0.0   0.000000         0.000000   \n1096       1929           0.561847          0.0   0.438153         0.438153   \n235        1940           0.834923          0.0   0.165076         0.165076   \n1061       1901           0.999999          0.0   0.000000         0.000000   \n\n      Ratio_Steam+Gas+Other  Log-TotalEnergy(kBtu)  Log-TotalGHGEmissions  \n1008           3.993639e-07              13.547426               1.865629  \n1784           5.303392e-01              13.378095               3.089223  \n1563           1.420960e-07              14.555510               2.585506  \n452            2.411416e-01              13.874565               3.421653  \n1561           1.793910e-07              13.492342               1.536867  \n...                     ...                    ...                    ...  \n2763           3.085848e-01              14.113312               3.639689  \n905            1.072840e-06              13.880654               1.291984  \n1096           4.381528e-01              14.301472               3.507058  \n235            1.650767e-01              15.172963               4.321613  \n1061           6.410625e-07              14.338427               2.214846  \n\n[2202 rows x 57 columns]",
      "text/html": "<div>\n<style scoped>\n    .dataframe tbody tr th:only-of-type {\n        vertical-align: middle;\n    }\n\n    .dataframe tbody tr th {\n        vertical-align: top;\n    }\n\n    .dataframe thead th {\n        text-align: right;\n    }\n</style>\n<table border=\"1\" class=\"dataframe\">\n  <thead>\n    <tr style=\"text-align: right;\">\n      <th></th>\n      <th>Neighborhood_Ballard</th>\n      <th>Neighborhood_Central</th>\n      <th>Neighborhood_Delridge</th>\n      <th>Neighborhood_Downtown</th>\n      <th>Neighborhood_East</th>\n      <th>Neighborhood_Greater duwamish</th>\n      <th>Neighborhood_Lake union</th>\n      <th>Neighborhood_Magnolia / queen anne</th>\n      <th>Neighborhood_North</th>\n      <th>Neighborhood_Northeast</th>\n      <th>...</th>\n      <th>Log-SecondLargestPropertyUseTypeGFA</th>\n      <th>Log-ThirdLargestPropertyUseTypeGFA</th>\n      <th>YearBuilt</th>\n      <th>Ratio_Electricity</th>\n      <th>Ratio_Steam</th>\n      <th>Ratio_Gas</th>\n      <th>Ratio_Steam+Gas</th>\n      <th>Ratio_Steam+Gas+Other</th>\n      <th>Log-TotalEnergy(kBtu)</th>\n      <th>Log-TotalGHGEmissions</th>\n    </tr>\n  </thead>\n  <tbody>\n    <tr>\n      <th>1008</th>\n      <td>1.0</td>\n      <td>0.0</td>\n      <td>0.0</td>\n      <td>0.0</td>\n      <td>0.0</td>\n      <td>0.0</td>\n      <td>0.0</td>\n      <td>0.0</td>\n      <td>0.0</td>\n      <td>0.0</td>\n      <td>...</td>\n      <td>-0.923528</td>\n      <td>-0.439239</td>\n      <td>1990</td>\n      <td>1.000000</td>\n      <td>0.0</td>\n      <td>0.000000</td>\n      <td>0.000000</td>\n      <td>3.993639e-07</td>\n      <td>13.547426</td>\n      <td>1.865629</td>\n    </tr>\n    <tr>\n      <th>1784</th>\n      <td>0.0</td>\n      <td>0.0</td>\n      <td>0.0</td>\n      <td>0.0</td>\n      <td>0.0</td>\n      <td>0.0</td>\n      <td>0.0</td>\n      <td>0.0</td>\n      <td>1.0</td>\n      <td>0.0</td>\n      <td>...</td>\n      <td>-0.923528</td>\n      <td>-0.439239</td>\n      <td>1954</td>\n      <td>0.469661</td>\n      <td>0.0</td>\n      <td>0.530340</td>\n      <td>0.530340</td>\n      <td>5.303392e-01</td>\n      <td>13.378095</td>\n      <td>3.089223</td>\n    </tr>\n    <tr>\n      <th>1563</th>\n      <td>0.0</td>\n      <td>0.0</td>\n      <td>0.0</td>\n      <td>0.0</td>\n      <td>0.0</td>\n      <td>0.0</td>\n      <td>0.0</td>\n      <td>0.0</td>\n      <td>0.0</td>\n      <td>1.0</td>\n      <td>...</td>\n      <td>-0.923528</td>\n      <td>-0.439239</td>\n      <td>1985</td>\n      <td>1.000000</td>\n      <td>0.0</td>\n      <td>0.000000</td>\n      <td>0.000000</td>\n      <td>1.420960e-07</td>\n      <td>14.555510</td>\n      <td>2.585506</td>\n    </tr>\n    <tr>\n      <th>452</th>\n      <td>0.0</td>\n      <td>0.0</td>\n      <td>0.0</td>\n      <td>1.0</td>\n      <td>0.0</td>\n      <td>0.0</td>\n      <td>0.0</td>\n      <td>0.0</td>\n      <td>0.0</td>\n      <td>0.0</td>\n      <td>...</td>\n      <td>0.919706</td>\n      <td>-0.439239</td>\n      <td>1917</td>\n      <td>0.758858</td>\n      <td>0.0</td>\n      <td>0.241141</td>\n      <td>0.241141</td>\n      <td>2.411416e-01</td>\n      <td>13.874565</td>\n      <td>3.421653</td>\n    </tr>\n    <tr>\n      <th>1561</th>\n      <td>0.0</td>\n      <td>0.0</td>\n      <td>0.0</td>\n      <td>0.0</td>\n      <td>0.0</td>\n      <td>0.0</td>\n      <td>0.0</td>\n      <td>0.0</td>\n      <td>0.0</td>\n      <td>1.0</td>\n      <td>...</td>\n      <td>-0.923528</td>\n      <td>-0.439239</td>\n      <td>1988</td>\n      <td>1.000000</td>\n      <td>0.0</td>\n      <td>0.000000</td>\n      <td>0.000000</td>\n      <td>1.793910e-07</td>\n      <td>13.492342</td>\n      <td>1.536867</td>\n    </tr>\n    <tr>\n      <th>...</th>\n      <td>...</td>\n      <td>...</td>\n      <td>...</td>\n      <td>...</td>\n      <td>...</td>\n      <td>...</td>\n      <td>...</td>\n      <td>...</td>\n      <td>...</td>\n      <td>...</td>\n      <td>...</td>\n      <td>...</td>\n      <td>...</td>\n      <td>...</td>\n      <td>...</td>\n      <td>...</td>\n      <td>...</td>\n      <td>...</td>\n      <td>...</td>\n      <td>...</td>\n      <td>...</td>\n    </tr>\n    <tr>\n      <th>2763</th>\n      <td>0.0</td>\n      <td>1.0</td>\n      <td>0.0</td>\n      <td>0.0</td>\n      <td>0.0</td>\n      <td>0.0</td>\n      <td>0.0</td>\n      <td>0.0</td>\n      <td>0.0</td>\n      <td>0.0</td>\n      <td>...</td>\n      <td>0.941569</td>\n      <td>-0.439239</td>\n      <td>1907</td>\n      <td>0.691415</td>\n      <td>0.0</td>\n      <td>0.308585</td>\n      <td>0.308585</td>\n      <td>3.085848e-01</td>\n      <td>14.113312</td>\n      <td>3.639689</td>\n    </tr>\n    <tr>\n      <th>905</th>\n      <td>0.0</td>\n      <td>0.0</td>\n      <td>0.0</td>\n      <td>0.0</td>\n      <td>0.0</td>\n      <td>1.0</td>\n      <td>0.0</td>\n      <td>0.0</td>\n      <td>0.0</td>\n      <td>0.0</td>\n      <td>...</td>\n      <td>-0.923528</td>\n      <td>-0.439239</td>\n      <td>1964</td>\n      <td>0.999999</td>\n      <td>0.0</td>\n      <td>0.000000</td>\n      <td>0.000000</td>\n      <td>1.072840e-06</td>\n      <td>13.880654</td>\n      <td>1.291984</td>\n    </tr>\n    <tr>\n      <th>1096</th>\n      <td>0.0</td>\n      <td>0.0</td>\n      <td>0.0</td>\n      <td>0.0</td>\n      <td>0.0</td>\n      <td>0.0</td>\n      <td>0.0</td>\n      <td>1.0</td>\n      <td>0.0</td>\n      <td>0.0</td>\n      <td>...</td>\n      <td>-0.923528</td>\n      <td>-0.439239</td>\n      <td>1929</td>\n      <td>0.561847</td>\n      <td>0.0</td>\n      <td>0.438153</td>\n      <td>0.438153</td>\n      <td>4.381528e-01</td>\n      <td>14.301472</td>\n      <td>3.507058</td>\n    </tr>\n    <tr>\n      <th>235</th>\n      <td>0.0</td>\n      <td>0.0</td>\n      <td>0.0</td>\n      <td>0.0</td>\n      <td>0.0</td>\n      <td>1.0</td>\n      <td>0.0</td>\n      <td>0.0</td>\n      <td>0.0</td>\n      <td>0.0</td>\n      <td>...</td>\n      <td>1.017233</td>\n      <td>-0.439239</td>\n      <td>1940</td>\n      <td>0.834923</td>\n      <td>0.0</td>\n      <td>0.165076</td>\n      <td>0.165076</td>\n      <td>1.650767e-01</td>\n      <td>15.172963</td>\n      <td>4.321613</td>\n    </tr>\n    <tr>\n      <th>1061</th>\n      <td>0.0</td>\n      <td>0.0</td>\n      <td>0.0</td>\n      <td>1.0</td>\n      <td>0.0</td>\n      <td>0.0</td>\n      <td>0.0</td>\n      <td>0.0</td>\n      <td>0.0</td>\n      <td>0.0</td>\n      <td>...</td>\n      <td>1.009527</td>\n      <td>2.422981</td>\n      <td>1901</td>\n      <td>0.999999</td>\n      <td>0.0</td>\n      <td>0.000000</td>\n      <td>0.000000</td>\n      <td>6.410625e-07</td>\n      <td>14.338427</td>\n      <td>2.214846</td>\n    </tr>\n  </tbody>\n</table>\n<p>2202 rows × 57 columns</p>\n</div>"
     },
     "metadata": {},
     "output_type": "display_data"
    },
    {
     "name": "stdout",
     "output_type": "stream",
     "text": [
      "After\n"
     ]
    },
    {
     "data": {
      "text/plain": "      Neighborhood_Ballard  Neighborhood_Central  Neighborhood_Delridge  \\\n1008                   1.0                   0.0                    0.0   \n1784                   0.0                   0.0                    0.0   \n1563                   0.0                   0.0                    0.0   \n452                    0.0                   0.0                    0.0   \n1561                   0.0                   0.0                    0.0   \n...                    ...                   ...                    ...   \n2763                   0.0                   1.0                    0.0   \n905                    0.0                   0.0                    0.0   \n1096                   0.0                   0.0                    0.0   \n235                    0.0                   0.0                    0.0   \n1061                   0.0                   0.0                    0.0   \n\n      Neighborhood_Downtown  Neighborhood_East  Neighborhood_Greater duwamish  \\\n1008                    0.0                0.0                            0.0   \n1784                    0.0                0.0                            0.0   \n1563                    0.0                0.0                            0.0   \n452                     1.0                0.0                            0.0   \n1561                    0.0                0.0                            0.0   \n...                     ...                ...                            ...   \n2763                    0.0                0.0                            0.0   \n905                     0.0                0.0                            1.0   \n1096                    0.0                0.0                            0.0   \n235                     0.0                0.0                            1.0   \n1061                    1.0                0.0                            0.0   \n\n      Neighborhood_Lake union  Neighborhood_Magnolia / queen anne  \\\n1008                      0.0                                 0.0   \n1784                      0.0                                 0.0   \n1563                      0.0                                 0.0   \n452                       0.0                                 0.0   \n1561                      0.0                                 0.0   \n...                       ...                                 ...   \n2763                      0.0                                 0.0   \n905                       0.0                                 0.0   \n1096                      0.0                                 1.0   \n235                       0.0                                 0.0   \n1061                      0.0                                 0.0   \n\n      Neighborhood_North  Neighborhood_Northeast  ...  \\\n1008                 0.0                     0.0  ...   \n1784                 1.0                     0.0  ...   \n1563                 0.0                     1.0  ...   \n452                  0.0                     0.0  ...   \n1561                 0.0                     1.0  ...   \n...                  ...                     ...  ...   \n2763                 0.0                     0.0  ...   \n905                  0.0                     0.0  ...   \n1096                 0.0                     0.0  ...   \n235                  0.0                     0.0  ...   \n1061                 0.0                     0.0  ...   \n\n      Log-SecondLargestPropertyUseTypeGFA  Log-ThirdLargestPropertyUseTypeGFA  \\\n1008                            -0.923528                           -0.439239   \n1784                            -0.923528                           -0.439239   \n1563                            -0.923528                           -0.439239   \n452                              0.919706                           -0.439239   \n1561                            -0.923528                           -0.439239   \n...                                   ...                                 ...   \n2763                             0.941569                           -0.439239   \n905                             -0.923528                           -0.439239   \n1096                            -0.923528                           -0.439239   \n235                              1.017233                           -0.439239   \n1061                             1.009527                            2.422981   \n\n      YearBuilt  Ratio_Electricity  Ratio_Steam  Ratio_Gas  Ratio_Steam+Gas  \\\n1008       1990           0.968885    -0.166239  -0.932205        -0.968852   \n1784       1954          -0.978452    -0.166239   1.019114         0.978477   \n1563       1985           0.968886    -0.166239  -0.932205        -0.968852   \n452        1917           0.083445    -0.166239  -0.044955        -0.083416   \n1561       1988           0.968886    -0.166239  -0.932205        -0.968852   \n...         ...                ...          ...        ...              ...   \n2763       1907          -0.164198    -0.166239   0.203193         0.164225   \n905        1964           0.968883    -0.166239  -0.932205        -0.968852   \n1096       1929          -0.639956    -0.166239   0.679924         0.639981   \n235        1940           0.362746    -0.166239  -0.324827        -0.362715   \n1061       1901           0.968884    -0.166239  -0.932205        -0.968852   \n\n      Ratio_Steam+Gas+Other  Log-TotalEnergy(kBtu)  Log-TotalGHGEmissions  \n1008              -0.968885              -0.999833               1.865629  \n1784               0.978452              -1.161182               3.089223  \n1563              -0.968886              -0.039272               2.585506  \n452               -0.083445              -0.688116               3.421653  \n1561              -0.968886              -1.052320               1.536867  \n...                     ...                    ...                    ...  \n2763               0.164198              -0.460624               3.639689  \n905               -0.968883              -0.682313               1.291984  \n1096               0.639956              -0.281334               3.507058  \n235               -0.362746               0.549074               4.321613  \n1061              -0.968884              -0.246121               2.214846  \n\n[2202 rows x 57 columns]",
      "text/html": "<div>\n<style scoped>\n    .dataframe tbody tr th:only-of-type {\n        vertical-align: middle;\n    }\n\n    .dataframe tbody tr th {\n        vertical-align: top;\n    }\n\n    .dataframe thead th {\n        text-align: right;\n    }\n</style>\n<table border=\"1\" class=\"dataframe\">\n  <thead>\n    <tr style=\"text-align: right;\">\n      <th></th>\n      <th>Neighborhood_Ballard</th>\n      <th>Neighborhood_Central</th>\n      <th>Neighborhood_Delridge</th>\n      <th>Neighborhood_Downtown</th>\n      <th>Neighborhood_East</th>\n      <th>Neighborhood_Greater duwamish</th>\n      <th>Neighborhood_Lake union</th>\n      <th>Neighborhood_Magnolia / queen anne</th>\n      <th>Neighborhood_North</th>\n      <th>Neighborhood_Northeast</th>\n      <th>...</th>\n      <th>Log-SecondLargestPropertyUseTypeGFA</th>\n      <th>Log-ThirdLargestPropertyUseTypeGFA</th>\n      <th>YearBuilt</th>\n      <th>Ratio_Electricity</th>\n      <th>Ratio_Steam</th>\n      <th>Ratio_Gas</th>\n      <th>Ratio_Steam+Gas</th>\n      <th>Ratio_Steam+Gas+Other</th>\n      <th>Log-TotalEnergy(kBtu)</th>\n      <th>Log-TotalGHGEmissions</th>\n    </tr>\n  </thead>\n  <tbody>\n    <tr>\n      <th>1008</th>\n      <td>1.0</td>\n      <td>0.0</td>\n      <td>0.0</td>\n      <td>0.0</td>\n      <td>0.0</td>\n      <td>0.0</td>\n      <td>0.0</td>\n      <td>0.0</td>\n      <td>0.0</td>\n      <td>0.0</td>\n      <td>...</td>\n      <td>-0.923528</td>\n      <td>-0.439239</td>\n      <td>1990</td>\n      <td>0.968885</td>\n      <td>-0.166239</td>\n      <td>-0.932205</td>\n      <td>-0.968852</td>\n      <td>-0.968885</td>\n      <td>-0.999833</td>\n      <td>1.865629</td>\n    </tr>\n    <tr>\n      <th>1784</th>\n      <td>0.0</td>\n      <td>0.0</td>\n      <td>0.0</td>\n      <td>0.0</td>\n      <td>0.0</td>\n      <td>0.0</td>\n      <td>0.0</td>\n      <td>0.0</td>\n      <td>1.0</td>\n      <td>0.0</td>\n      <td>...</td>\n      <td>-0.923528</td>\n      <td>-0.439239</td>\n      <td>1954</td>\n      <td>-0.978452</td>\n      <td>-0.166239</td>\n      <td>1.019114</td>\n      <td>0.978477</td>\n      <td>0.978452</td>\n      <td>-1.161182</td>\n      <td>3.089223</td>\n    </tr>\n    <tr>\n      <th>1563</th>\n      <td>0.0</td>\n      <td>0.0</td>\n      <td>0.0</td>\n      <td>0.0</td>\n      <td>0.0</td>\n      <td>0.0</td>\n      <td>0.0</td>\n      <td>0.0</td>\n      <td>0.0</td>\n      <td>1.0</td>\n      <td>...</td>\n      <td>-0.923528</td>\n      <td>-0.439239</td>\n      <td>1985</td>\n      <td>0.968886</td>\n      <td>-0.166239</td>\n      <td>-0.932205</td>\n      <td>-0.968852</td>\n      <td>-0.968886</td>\n      <td>-0.039272</td>\n      <td>2.585506</td>\n    </tr>\n    <tr>\n      <th>452</th>\n      <td>0.0</td>\n      <td>0.0</td>\n      <td>0.0</td>\n      <td>1.0</td>\n      <td>0.0</td>\n      <td>0.0</td>\n      <td>0.0</td>\n      <td>0.0</td>\n      <td>0.0</td>\n      <td>0.0</td>\n      <td>...</td>\n      <td>0.919706</td>\n      <td>-0.439239</td>\n      <td>1917</td>\n      <td>0.083445</td>\n      <td>-0.166239</td>\n      <td>-0.044955</td>\n      <td>-0.083416</td>\n      <td>-0.083445</td>\n      <td>-0.688116</td>\n      <td>3.421653</td>\n    </tr>\n    <tr>\n      <th>1561</th>\n      <td>0.0</td>\n      <td>0.0</td>\n      <td>0.0</td>\n      <td>0.0</td>\n      <td>0.0</td>\n      <td>0.0</td>\n      <td>0.0</td>\n      <td>0.0</td>\n      <td>0.0</td>\n      <td>1.0</td>\n      <td>...</td>\n      <td>-0.923528</td>\n      <td>-0.439239</td>\n      <td>1988</td>\n      <td>0.968886</td>\n      <td>-0.166239</td>\n      <td>-0.932205</td>\n      <td>-0.968852</td>\n      <td>-0.968886</td>\n      <td>-1.052320</td>\n      <td>1.536867</td>\n    </tr>\n    <tr>\n      <th>...</th>\n      <td>...</td>\n      <td>...</td>\n      <td>...</td>\n      <td>...</td>\n      <td>...</td>\n      <td>...</td>\n      <td>...</td>\n      <td>...</td>\n      <td>...</td>\n      <td>...</td>\n      <td>...</td>\n      <td>...</td>\n      <td>...</td>\n      <td>...</td>\n      <td>...</td>\n      <td>...</td>\n      <td>...</td>\n      <td>...</td>\n      <td>...</td>\n      <td>...</td>\n      <td>...</td>\n    </tr>\n    <tr>\n      <th>2763</th>\n      <td>0.0</td>\n      <td>1.0</td>\n      <td>0.0</td>\n      <td>0.0</td>\n      <td>0.0</td>\n      <td>0.0</td>\n      <td>0.0</td>\n      <td>0.0</td>\n      <td>0.0</td>\n      <td>0.0</td>\n      <td>...</td>\n      <td>0.941569</td>\n      <td>-0.439239</td>\n      <td>1907</td>\n      <td>-0.164198</td>\n      <td>-0.166239</td>\n      <td>0.203193</td>\n      <td>0.164225</td>\n      <td>0.164198</td>\n      <td>-0.460624</td>\n      <td>3.639689</td>\n    </tr>\n    <tr>\n      <th>905</th>\n      <td>0.0</td>\n      <td>0.0</td>\n      <td>0.0</td>\n      <td>0.0</td>\n      <td>0.0</td>\n      <td>1.0</td>\n      <td>0.0</td>\n      <td>0.0</td>\n      <td>0.0</td>\n      <td>0.0</td>\n      <td>...</td>\n      <td>-0.923528</td>\n      <td>-0.439239</td>\n      <td>1964</td>\n      <td>0.968883</td>\n      <td>-0.166239</td>\n      <td>-0.932205</td>\n      <td>-0.968852</td>\n      <td>-0.968883</td>\n      <td>-0.682313</td>\n      <td>1.291984</td>\n    </tr>\n    <tr>\n      <th>1096</th>\n      <td>0.0</td>\n      <td>0.0</td>\n      <td>0.0</td>\n      <td>0.0</td>\n      <td>0.0</td>\n      <td>0.0</td>\n      <td>0.0</td>\n      <td>1.0</td>\n      <td>0.0</td>\n      <td>0.0</td>\n      <td>...</td>\n      <td>-0.923528</td>\n      <td>-0.439239</td>\n      <td>1929</td>\n      <td>-0.639956</td>\n      <td>-0.166239</td>\n      <td>0.679924</td>\n      <td>0.639981</td>\n      <td>0.639956</td>\n      <td>-0.281334</td>\n      <td>3.507058</td>\n    </tr>\n    <tr>\n      <th>235</th>\n      <td>0.0</td>\n      <td>0.0</td>\n      <td>0.0</td>\n      <td>0.0</td>\n      <td>0.0</td>\n      <td>1.0</td>\n      <td>0.0</td>\n      <td>0.0</td>\n      <td>0.0</td>\n      <td>0.0</td>\n      <td>...</td>\n      <td>1.017233</td>\n      <td>-0.439239</td>\n      <td>1940</td>\n      <td>0.362746</td>\n      <td>-0.166239</td>\n      <td>-0.324827</td>\n      <td>-0.362715</td>\n      <td>-0.362746</td>\n      <td>0.549074</td>\n      <td>4.321613</td>\n    </tr>\n    <tr>\n      <th>1061</th>\n      <td>0.0</td>\n      <td>0.0</td>\n      <td>0.0</td>\n      <td>1.0</td>\n      <td>0.0</td>\n      <td>0.0</td>\n      <td>0.0</td>\n      <td>0.0</td>\n      <td>0.0</td>\n      <td>0.0</td>\n      <td>...</td>\n      <td>1.009527</td>\n      <td>2.422981</td>\n      <td>1901</td>\n      <td>0.968884</td>\n      <td>-0.166239</td>\n      <td>-0.932205</td>\n      <td>-0.968852</td>\n      <td>-0.968884</td>\n      <td>-0.246121</td>\n      <td>2.214846</td>\n    </tr>\n  </tbody>\n</table>\n<p>2202 rows × 57 columns</p>\n</div>"
     },
     "metadata": {},
     "output_type": "display_data"
    }
   ],
   "source": [
    "print(\"Before\")\n",
    "display(train_CO2)\n",
    "print(\"After\")\n",
    "display(train_CO2_std)"
   ],
   "metadata": {
    "collapsed": false,
    "pycharm": {
     "name": "#%%\n"
    }
   }
  },
  {
   "cell_type": "markdown",
   "source": [
    "#### 4) Distribution of variables"
   ],
   "metadata": {
    "collapsed": false,
    "pycharm": {
     "name": "#%% md\n"
    }
   }
  },
  {
   "cell_type": "code",
   "execution_count": 163,
   "outputs": [
    {
     "data": {
      "text/plain": "<Figure size 576x360 with 1 Axes>",
      "image/png": "[encoded data removed]"
     },
     "metadata": {
      "needs_background": "light"
     },
     "output_type": "display_data"
    }
   ],
   "source": [
    "# Distribution des variables du jeu d'entrainement\n",
    "plt.figure(figsize=(8,5))\n",
    "plt.title('Données d\\'entrainement pour la modélisation des émissions de CO2')\n",
    "bp = sns.boxplot(x='value', y='variable', data=pd.melt(train_CO2_std[model_CO2_features_std]), palette='bright',\n",
    "                 flierprops=dict(markersize=1, markerfacecolor='gray'))\n",
    "bp.set_xlabel(\"\")\n",
    "bp.set_ylabel(\"\")\n",
    "plt.show()"
   ],
   "metadata": {
    "collapsed": false,
    "pycharm": {
     "name": "#%%\n"
    }
   }
  },
  {
   "cell_type": "markdown",
   "source": [
    "#### 5) Saving dataset"
   ],
   "metadata": {
    "collapsed": false,
    "pycharm": {
     "name": "#%% md\n"
    }
   }
  },
  {
   "cell_type": "code",
   "execution_count": 164,
   "outputs": [],
   "source": [
    "path_save_CO2 = \"dataset/CO2/\"\n",
    "\n",
    "# Sauvegarde des jeux de données\n",
    "train_CO2_std.to_csv(\"{}{}\".format(path_save_CO2, \"train_CO2.csv\"), encoding='utf-8', index=False)\n",
    "test_CO2_std.to_csv(\"{}{}\".format(path_save_CO2, \"test_CO2.csv\"), encoding='utf-8', index=False)\n",
    "\n",
    "# Sauvegarde du modèle pour standardiser\n",
    "model = {'scaler': std_scaler_CO2, 'scaler_features': model_CO2_features}\n",
    "filename = 'model/scaler_CO2.sav'\n",
    "pickle.dump(model, open(filename, 'wb'))"
   ],
   "metadata": {
    "collapsed": false,
    "pycharm": {
     "name": "#%%\n"
    }
   }
  },
  {
   "cell_type": "markdown",
   "source": [
    "### 3) Preparing dataset CO2 with ENERGYSTARScore"
   ],
   "metadata": {
    "collapsed": false,
    "pycharm": {
     "name": "#%% md\n"
    }
   }
  },
  {
   "cell_type": "markdown",
   "source": [
    "#### 1) Selection of features"
   ],
   "metadata": {
    "collapsed": false,
    "pycharm": {
     "name": "#%% md\n"
    }
   }
  },
  {
   "cell_type": "code",
   "execution_count": 165,
   "outputs": [
    {
     "data": {
      "text/plain": "['Neighborhood_Ballard',\n 'Neighborhood_Central',\n 'Neighborhood_Delridge',\n 'Neighborhood_Downtown',\n 'Neighborhood_East',\n 'Neighborhood_Greater duwamish',\n 'Neighborhood_Lake union',\n 'Neighborhood_Magnolia / queen anne',\n 'Neighborhood_North',\n 'Neighborhood_Northeast',\n 'Neighborhood_Northwest',\n 'Neighborhood_Southeast',\n 'Neighborhood_Southwest',\n 'BuildingType_Campus',\n 'BuildingType_Multifamily hr (10+)',\n 'BuildingType_Multifamily lr (1-4)',\n 'BuildingType_Multifamily mr (5-9)',\n 'BuildingType_Nonresidential',\n 'BuildingType_Nonresidential cos',\n 'BuildingType_Sps-district k-12',\n 'PrimaryPropertyType_Distribution center',\n 'PrimaryPropertyType_High-rise multifamily',\n 'PrimaryPropertyType_Hospital',\n 'PrimaryPropertyType_Hotel',\n 'PrimaryPropertyType_K-12 school',\n 'PrimaryPropertyType_Laboratory',\n 'PrimaryPropertyType_Large office',\n 'PrimaryPropertyType_Low-rise multifamily',\n 'PrimaryPropertyType_Medical office',\n 'PrimaryPropertyType_Mid-rise multifamily',\n 'PrimaryPropertyType_Mixed use property',\n 'PrimaryPropertyType_Other',\n 'PrimaryPropertyType_Refrigerated warehouse',\n 'PrimaryPropertyType_Residence hall',\n 'PrimaryPropertyType_Restaurant',\n 'PrimaryPropertyType_Retail store',\n 'PrimaryPropertyType_Self-storage facility',\n 'PrimaryPropertyType_Senior care community',\n 'PrimaryPropertyType_Small- and mid-sized office',\n 'PrimaryPropertyType_Supermarket / grocery store',\n 'PrimaryPropertyType_University',\n 'PrimaryPropertyType_Warehouse',\n 'PrimaryPropertyType_Worship facility',\n 'Log-NumberofFloors',\n 'Log-PropertyGFATotal',\n 'Log-PropertyGFABuilding(s)',\n 'Log-LargestPropertyUseTypeGFA',\n 'Log-SecondLargestPropertyUseTypeGFA',\n 'Log-ThirdLargestPropertyUseTypeGFA',\n 'YearBuilt',\n 'Ratio_Electricity',\n 'Ratio_Steam',\n 'Ratio_Gas',\n 'Ratio_Steam+Gas',\n 'Ratio_Steam+Gas+Other',\n 'Log-TotalEnergy(kBtu)',\n 'ENERGYSTARScore',\n 'Log-TotalGHGEmissions']"
     },
     "execution_count": 165,
     "metadata": {},
     "output_type": "execute_result"
    }
   ],
   "source": [
    "# Liste des variables et étiquettes pour la modélisation\n",
    "model_EnergyStarScore_target = ['Log-TotalGHGEmissions']\n",
    "model_EnergyStarScore_features = model_CO2_features + ['ENERGYSTARScore']\n",
    "model_EnergyStarScore = model_EnergyStarScore_features + model_EnergyStarScore_target\n",
    "\n",
    "model_EnergyStarScore"
   ],
   "metadata": {
    "collapsed": false,
    "pycharm": {
     "name": "#%%\n"
    }
   }
  },
  {
   "cell_type": "markdown",
   "source": [
    "#### 2) Separation train and test dataset\n"
   ],
   "metadata": {
    "collapsed": false,
    "pycharm": {
     "name": "#%% md\n"
    }
   }
  },
  {
   "cell_type": "code",
   "execution_count": 166,
   "outputs": [
    {
     "data": {
      "text/plain": "      Neighborhood_Ballard  Neighborhood_Central  Neighborhood_Delridge  \\\n920                    0.0                   0.0                    0.0   \n2752                   0.0                   0.0                    1.0   \n478                    0.0                   0.0                    0.0   \n679                    0.0                   0.0                    0.0   \n147                    0.0                   0.0                    0.0   \n...                    ...                   ...                    ...   \n1296                   0.0                   0.0                    0.0   \n1219                   0.0                   0.0                    0.0   \n1483                   0.0                   0.0                    0.0   \n330                    0.0                   0.0                    0.0   \n1436                   0.0                   0.0                    0.0   \n\n      Neighborhood_Downtown  Neighborhood_East  Neighborhood_Greater duwamish  \\\n920                     0.0                0.0                            0.0   \n2752                    0.0                0.0                            0.0   \n478                     0.0                0.0                            0.0   \n679                     0.0                0.0                            0.0   \n147                     1.0                0.0                            0.0   \n...                     ...                ...                            ...   \n1296                    0.0                0.0                            0.0   \n1219                    0.0                0.0                            0.0   \n1483                    0.0                1.0                            0.0   \n330                     1.0                0.0                            0.0   \n1436                    0.0                0.0                            0.0   \n\n      Neighborhood_Lake union  Neighborhood_Magnolia / queen anne  \\\n920                       1.0                                 0.0   \n2752                      0.0                                 0.0   \n478                       0.0                                 0.0   \n679                       0.0                                 1.0   \n147                       0.0                                 0.0   \n...                       ...                                 ...   \n1296                      0.0                                 0.0   \n1219                      0.0                                 1.0   \n1483                      0.0                                 0.0   \n330                       0.0                                 0.0   \n1436                      0.0                                 1.0   \n\n      Neighborhood_North  Neighborhood_Northeast  ...  \\\n920                  0.0                     0.0  ...   \n2752                 0.0                     0.0  ...   \n478                  0.0                     1.0  ...   \n679                  0.0                     0.0  ...   \n147                  0.0                     0.0  ...   \n...                  ...                     ...  ...   \n1296                 1.0                     0.0  ...   \n1219                 0.0                     0.0  ...   \n1483                 0.0                     0.0  ...   \n330                  0.0                     0.0  ...   \n1436                 0.0                     0.0  ...   \n\n      Log-ThirdLargestPropertyUseTypeGFA  YearBuilt  Ratio_Electricity  \\\n920                            -0.439239       2009           0.550123   \n2752                           -0.439239       1957           0.552604   \n478                            -0.439239       1984           1.000000   \n679                            -0.439239       1910           0.572266   \n147                             2.598793       1976           1.000000   \n...                                  ...        ...                ...   \n1296                           -0.439239       1968           0.999999   \n1219                           -0.439239       1979           0.087370   \n1483                           -0.439239       1928           0.169051   \n330                            -0.439239       1910           0.689684   \n1436                           -0.439239       1948           1.000000   \n\n      Ratio_Steam  Ratio_Gas  Ratio_Steam+Gas  Ratio_Steam+Gas+Other  \\\n920           0.0   0.449877         0.449877           4.498773e-01   \n2752          0.0   0.447396         0.447396           4.473962e-01   \n478           0.0   0.000000         0.000000          -7.460411e-08   \n679           0.0   0.427735         0.427735           4.277344e-01   \n147           0.0   0.000000         0.000000           1.237624e-07   \n...           ...        ...              ...                    ...   \n1296          0.0   0.000000         0.000000           6.266929e-07   \n1219          0.0   0.912630         0.912630           9.126299e-01   \n1483          0.0   0.830949         0.830949           8.309491e-01   \n330           0.0   0.310316         0.310316           3.103158e-01   \n1436          0.0   0.000000         0.000000           2.285391e-07   \n\n      ENERGYSTARScore  Log-TotalEnergy(kBtu)  Log-TotalGHGEmissions  \n920              89.0              15.942636               5.486414  \n2752             52.0              13.320335               3.322515  \n478              59.0              14.295299               2.540026  \n679              92.0              13.732145               3.033028  \n147              69.0              17.631159               5.825912  \n...               ...                    ...                    ...  \n1296             77.0              13.302039               1.499623  \n1219            100.0              14.407993               4.120175  \n1483             80.0              13.773218               3.884446  \n330              89.0              15.191804               4.248781  \n1436             96.0              13.536949               1.350667  \n\n[1659 rows x 58 columns]",
      "text/html": "<div>\n<style scoped>\n    .dataframe tbody tr th:only-of-type {\n        vertical-align: middle;\n    }\n\n    .dataframe tbody tr th {\n        vertical-align: top;\n    }\n\n    .dataframe thead th {\n        text-align: right;\n    }\n</style>\n<table border=\"1\" class=\"dataframe\">\n  <thead>\n    <tr style=\"text-align: right;\">\n      <th></th>\n      <th>Neighborhood_Ballard</th>\n      <th>Neighborhood_Central</th>\n      <th>Neighborhood_Delridge</th>\n      <th>Neighborhood_Downtown</th>\n      <th>Neighborhood_East</th>\n      <th>Neighborhood_Greater duwamish</th>\n      <th>Neighborhood_Lake union</th>\n      <th>Neighborhood_Magnolia / queen anne</th>\n      <th>Neighborhood_North</th>\n      <th>Neighborhood_Northeast</th>\n      <th>...</th>\n      <th>Log-ThirdLargestPropertyUseTypeGFA</th>\n      <th>YearBuilt</th>\n      <th>Ratio_Electricity</th>\n      <th>Ratio_Steam</th>\n      <th>Ratio_Gas</th>\n      <th>Ratio_Steam+Gas</th>\n      <th>Ratio_Steam+Gas+Other</th>\n      <th>ENERGYSTARScore</th>\n      <th>Log-TotalEnergy(kBtu)</th>\n      <th>Log-TotalGHGEmissions</th>\n    </tr>\n  </thead>\n  <tbody>\n    <tr>\n      <th>920</th>\n      <td>0.0</td>\n      <td>0.0</td>\n      <td>0.0</td>\n      <td>0.0</td>\n      <td>0.0</td>\n      <td>0.0</td>\n      <td>1.0</td>\n      <td>0.0</td>\n      <td>0.0</td>\n      <td>0.0</td>\n      <td>...</td>\n      <td>-0.439239</td>\n      <td>2009</td>\n      <td>0.550123</td>\n      <td>0.0</td>\n      <td>0.449877</td>\n      <td>0.449877</td>\n      <td>4.498773e-01</td>\n      <td>89.0</td>\n      <td>15.942636</td>\n      <td>5.486414</td>\n    </tr>\n    <tr>\n      <th>2752</th>\n      <td>0.0</td>\n      <td>0.0</td>\n      <td>1.0</td>\n      <td>0.0</td>\n      <td>0.0</td>\n      <td>0.0</td>\n      <td>0.0</td>\n      <td>0.0</td>\n      <td>0.0</td>\n      <td>0.0</td>\n      <td>...</td>\n      <td>-0.439239</td>\n      <td>1957</td>\n      <td>0.552604</td>\n      <td>0.0</td>\n      <td>0.447396</td>\n      <td>0.447396</td>\n      <td>4.473962e-01</td>\n      <td>52.0</td>\n      <td>13.320335</td>\n      <td>3.322515</td>\n    </tr>\n    <tr>\n      <th>478</th>\n      <td>0.0</td>\n      <td>0.0</td>\n      <td>0.0</td>\n      <td>0.0</td>\n      <td>0.0</td>\n      <td>0.0</td>\n      <td>0.0</td>\n      <td>0.0</td>\n      <td>0.0</td>\n      <td>1.0</td>\n      <td>...</td>\n      <td>-0.439239</td>\n      <td>1984</td>\n      <td>1.000000</td>\n      <td>0.0</td>\n      <td>0.000000</td>\n      <td>0.000000</td>\n      <td>-7.460411e-08</td>\n      <td>59.0</td>\n      <td>14.295299</td>\n      <td>2.540026</td>\n    </tr>\n    <tr>\n      <th>679</th>\n      <td>0.0</td>\n      <td>0.0</td>\n      <td>0.0</td>\n      <td>0.0</td>\n      <td>0.0</td>\n      <td>0.0</td>\n      <td>0.0</td>\n      <td>1.0</td>\n      <td>0.0</td>\n      <td>0.0</td>\n      <td>...</td>\n      <td>-0.439239</td>\n      <td>1910</td>\n      <td>0.572266</td>\n      <td>0.0</td>\n      <td>0.427735</td>\n      <td>0.427735</td>\n      <td>4.277344e-01</td>\n      <td>92.0</td>\n      <td>13.732145</td>\n      <td>3.033028</td>\n    </tr>\n    <tr>\n      <th>147</th>\n      <td>0.0</td>\n      <td>0.0</td>\n      <td>0.0</td>\n      <td>1.0</td>\n      <td>0.0</td>\n      <td>0.0</td>\n      <td>0.0</td>\n      <td>0.0</td>\n      <td>0.0</td>\n      <td>0.0</td>\n      <td>...</td>\n      <td>2.598793</td>\n      <td>1976</td>\n      <td>1.000000</td>\n      <td>0.0</td>\n      <td>0.000000</td>\n      <td>0.000000</td>\n      <td>1.237624e-07</td>\n      <td>69.0</td>\n      <td>17.631159</td>\n      <td>5.825912</td>\n    </tr>\n    <tr>\n      <th>...</th>\n      <td>...</td>\n      <td>...</td>\n      <td>...</td>\n      <td>...</td>\n      <td>...</td>\n      <td>...</td>\n      <td>...</td>\n      <td>...</td>\n      <td>...</td>\n      <td>...</td>\n      <td>...</td>\n      <td>...</td>\n      <td>...</td>\n      <td>...</td>\n      <td>...</td>\n      <td>...</td>\n      <td>...</td>\n      <td>...</td>\n      <td>...</td>\n      <td>...</td>\n      <td>...</td>\n    </tr>\n    <tr>\n      <th>1296</th>\n      <td>0.0</td>\n      <td>0.0</td>\n      <td>0.0</td>\n      <td>0.0</td>\n      <td>0.0</td>\n      <td>0.0</td>\n      <td>0.0</td>\n      <td>0.0</td>\n      <td>1.0</td>\n      <td>0.0</td>\n      <td>...</td>\n      <td>-0.439239</td>\n      <td>1968</td>\n      <td>0.999999</td>\n      <td>0.0</td>\n      <td>0.000000</td>\n      <td>0.000000</td>\n      <td>6.266929e-07</td>\n      <td>77.0</td>\n      <td>13.302039</td>\n      <td>1.499623</td>\n    </tr>\n    <tr>\n      <th>1219</th>\n      <td>0.0</td>\n      <td>0.0</td>\n      <td>0.0</td>\n      <td>0.0</td>\n      <td>0.0</td>\n      <td>0.0</td>\n      <td>0.0</td>\n      <td>1.0</td>\n      <td>0.0</td>\n      <td>0.0</td>\n      <td>...</td>\n      <td>-0.439239</td>\n      <td>1979</td>\n      <td>0.087370</td>\n      <td>0.0</td>\n      <td>0.912630</td>\n      <td>0.912630</td>\n      <td>9.126299e-01</td>\n      <td>100.0</td>\n      <td>14.407993</td>\n      <td>4.120175</td>\n    </tr>\n    <tr>\n      <th>1483</th>\n      <td>0.0</td>\n      <td>0.0</td>\n      <td>0.0</td>\n      <td>0.0</td>\n      <td>1.0</td>\n      <td>0.0</td>\n      <td>0.0</td>\n      <td>0.0</td>\n      <td>0.0</td>\n      <td>0.0</td>\n      <td>...</td>\n      <td>-0.439239</td>\n      <td>1928</td>\n      <td>0.169051</td>\n      <td>0.0</td>\n      <td>0.830949</td>\n      <td>0.830949</td>\n      <td>8.309491e-01</td>\n      <td>80.0</td>\n      <td>13.773218</td>\n      <td>3.884446</td>\n    </tr>\n    <tr>\n      <th>330</th>\n      <td>0.0</td>\n      <td>0.0</td>\n      <td>0.0</td>\n      <td>1.0</td>\n      <td>0.0</td>\n      <td>0.0</td>\n      <td>0.0</td>\n      <td>0.0</td>\n      <td>0.0</td>\n      <td>0.0</td>\n      <td>...</td>\n      <td>-0.439239</td>\n      <td>1910</td>\n      <td>0.689684</td>\n      <td>0.0</td>\n      <td>0.310316</td>\n      <td>0.310316</td>\n      <td>3.103158e-01</td>\n      <td>89.0</td>\n      <td>15.191804</td>\n      <td>4.248781</td>\n    </tr>\n    <tr>\n      <th>1436</th>\n      <td>0.0</td>\n      <td>0.0</td>\n      <td>0.0</td>\n      <td>0.0</td>\n      <td>0.0</td>\n      <td>0.0</td>\n      <td>0.0</td>\n      <td>1.0</td>\n      <td>0.0</td>\n      <td>0.0</td>\n      <td>...</td>\n      <td>-0.439239</td>\n      <td>1948</td>\n      <td>1.000000</td>\n      <td>0.0</td>\n      <td>0.000000</td>\n      <td>0.000000</td>\n      <td>2.285391e-07</td>\n      <td>96.0</td>\n      <td>13.536949</td>\n      <td>1.350667</td>\n    </tr>\n  </tbody>\n</table>\n<p>1659 rows × 58 columns</p>\n</div>"
     },
     "execution_count": 166,
     "metadata": {},
     "output_type": "execute_result"
    }
   ],
   "source": [
    "# we drop the buildings for which the EnergyStarScore is missing\n",
    "dataset_clean = dataset_CO2.dropna(axis=0)\n",
    "\n",
    "train_clean, test_clean = train_test_split(dataset_clean, test_size=0.3, random_state=seed)\n",
    "\n",
    "train_clean"
   ],
   "metadata": {
    "collapsed": false,
    "pycharm": {
     "name": "#%%\n"
    }
   }
  },
  {
   "cell_type": "code",
   "execution_count": 167,
   "outputs": [],
   "source": [
    "# Selection des variables pour modélisation CO2\n",
    "train_EnergyStarScore, test_EnergyStarScore = train_clean[model_EnergyStarScore], test_clean[model_EnergyStarScore]"
   ],
   "metadata": {
    "collapsed": false,
    "pycharm": {
     "name": "#%%\n"
    }
   }
  },
  {
   "cell_type": "code",
   "execution_count": 168,
   "outputs": [
    {
     "data": {
      "text/plain": "      Neighborhood_Ballard  Neighborhood_Central  Neighborhood_Delridge  \\\n920                    0.0                   0.0                    0.0   \n2752                   0.0                   0.0                    1.0   \n478                    0.0                   0.0                    0.0   \n679                    0.0                   0.0                    0.0   \n147                    0.0                   0.0                    0.0   \n...                    ...                   ...                    ...   \n1296                   0.0                   0.0                    0.0   \n1219                   0.0                   0.0                    0.0   \n1483                   0.0                   0.0                    0.0   \n330                    0.0                   0.0                    0.0   \n1436                   0.0                   0.0                    0.0   \n\n      Neighborhood_Downtown  Neighborhood_East  Neighborhood_Greater duwamish  \\\n920                     0.0                0.0                            0.0   \n2752                    0.0                0.0                            0.0   \n478                     0.0                0.0                            0.0   \n679                     0.0                0.0                            0.0   \n147                     1.0                0.0                            0.0   \n...                     ...                ...                            ...   \n1296                    0.0                0.0                            0.0   \n1219                    0.0                0.0                            0.0   \n1483                    0.0                1.0                            0.0   \n330                     1.0                0.0                            0.0   \n1436                    0.0                0.0                            0.0   \n\n      Neighborhood_Lake union  Neighborhood_Magnolia / queen anne  \\\n920                       1.0                                 0.0   \n2752                      0.0                                 0.0   \n478                       0.0                                 0.0   \n679                       0.0                                 1.0   \n147                       0.0                                 0.0   \n...                       ...                                 ...   \n1296                      0.0                                 0.0   \n1219                      0.0                                 1.0   \n1483                      0.0                                 0.0   \n330                       0.0                                 0.0   \n1436                      0.0                                 1.0   \n\n      Neighborhood_North  Neighborhood_Northeast  ...  \\\n920                  0.0                     0.0  ...   \n2752                 0.0                     0.0  ...   \n478                  0.0                     1.0  ...   \n679                  0.0                     0.0  ...   \n147                  0.0                     0.0  ...   \n...                  ...                     ...  ...   \n1296                 1.0                     0.0  ...   \n1219                 0.0                     0.0  ...   \n1483                 0.0                     0.0  ...   \n330                  0.0                     0.0  ...   \n1436                 0.0                     0.0  ...   \n\n      Log-ThirdLargestPropertyUseTypeGFA  YearBuilt  Ratio_Electricity  \\\n920                            -0.439239       2009           0.550123   \n2752                           -0.439239       1957           0.552604   \n478                            -0.439239       1984           1.000000   \n679                            -0.439239       1910           0.572266   \n147                             2.598793       1976           1.000000   \n...                                  ...        ...                ...   \n1296                           -0.439239       1968           0.999999   \n1219                           -0.439239       1979           0.087370   \n1483                           -0.439239       1928           0.169051   \n330                            -0.439239       1910           0.689684   \n1436                           -0.439239       1948           1.000000   \n\n      Ratio_Steam  Ratio_Gas  Ratio_Steam+Gas  Ratio_Steam+Gas+Other  \\\n920           0.0   0.449877         0.449877           4.498773e-01   \n2752          0.0   0.447396         0.447396           4.473962e-01   \n478           0.0   0.000000         0.000000          -7.460411e-08   \n679           0.0   0.427735         0.427735           4.277344e-01   \n147           0.0   0.000000         0.000000           1.237624e-07   \n...           ...        ...              ...                    ...   \n1296          0.0   0.000000         0.000000           6.266929e-07   \n1219          0.0   0.912630         0.912630           9.126299e-01   \n1483          0.0   0.830949         0.830949           8.309491e-01   \n330           0.0   0.310316         0.310316           3.103158e-01   \n1436          0.0   0.000000         0.000000           2.285391e-07   \n\n      Log-TotalEnergy(kBtu)  ENERGYSTARScore  Log-TotalGHGEmissions  \n920               15.942636             89.0               5.486414  \n2752              13.320335             52.0               3.322515  \n478               14.295299             59.0               2.540026  \n679               13.732145             92.0               3.033028  \n147               17.631159             69.0               5.825912  \n...                     ...              ...                    ...  \n1296              13.302039             77.0               1.499623  \n1219              14.407993            100.0               4.120175  \n1483              13.773218             80.0               3.884446  \n330               15.191804             89.0               4.248781  \n1436              13.536949             96.0               1.350667  \n\n[1659 rows x 58 columns]",
      "text/html": "<div>\n<style scoped>\n    .dataframe tbody tr th:only-of-type {\n        vertical-align: middle;\n    }\n\n    .dataframe tbody tr th {\n        vertical-align: top;\n    }\n\n    .dataframe thead th {\n        text-align: right;\n    }\n</style>\n<table border=\"1\" class=\"dataframe\">\n  <thead>\n    <tr style=\"text-align: right;\">\n      <th></th>\n      <th>Neighborhood_Ballard</th>\n      <th>Neighborhood_Central</th>\n      <th>Neighborhood_Delridge</th>\n      <th>Neighborhood_Downtown</th>\n      <th>Neighborhood_East</th>\n      <th>Neighborhood_Greater duwamish</th>\n      <th>Neighborhood_Lake union</th>\n      <th>Neighborhood_Magnolia / queen anne</th>\n      <th>Neighborhood_North</th>\n      <th>Neighborhood_Northeast</th>\n      <th>...</th>\n      <th>Log-ThirdLargestPropertyUseTypeGFA</th>\n      <th>YearBuilt</th>\n      <th>Ratio_Electricity</th>\n      <th>Ratio_Steam</th>\n      <th>Ratio_Gas</th>\n      <th>Ratio_Steam+Gas</th>\n      <th>Ratio_Steam+Gas+Other</th>\n      <th>Log-TotalEnergy(kBtu)</th>\n      <th>ENERGYSTARScore</th>\n      <th>Log-TotalGHGEmissions</th>\n    </tr>\n  </thead>\n  <tbody>\n    <tr>\n      <th>920</th>\n      <td>0.0</td>\n      <td>0.0</td>\n      <td>0.0</td>\n      <td>0.0</td>\n      <td>0.0</td>\n      <td>0.0</td>\n      <td>1.0</td>\n      <td>0.0</td>\n      <td>0.0</td>\n      <td>0.0</td>\n      <td>...</td>\n      <td>-0.439239</td>\n      <td>2009</td>\n      <td>0.550123</td>\n      <td>0.0</td>\n      <td>0.449877</td>\n      <td>0.449877</td>\n      <td>4.498773e-01</td>\n      <td>15.942636</td>\n      <td>89.0</td>\n      <td>5.486414</td>\n    </tr>\n    <tr>\n      <th>2752</th>\n      <td>0.0</td>\n      <td>0.0</td>\n      <td>1.0</td>\n      <td>0.0</td>\n      <td>0.0</td>\n      <td>0.0</td>\n      <td>0.0</td>\n      <td>0.0</td>\n      <td>0.0</td>\n      <td>0.0</td>\n      <td>...</td>\n      <td>-0.439239</td>\n      <td>1957</td>\n      <td>0.552604</td>\n      <td>0.0</td>\n      <td>0.447396</td>\n      <td>0.447396</td>\n      <td>4.473962e-01</td>\n      <td>13.320335</td>\n      <td>52.0</td>\n      <td>3.322515</td>\n    </tr>\n    <tr>\n      <th>478</th>\n      <td>0.0</td>\n      <td>0.0</td>\n      <td>0.0</td>\n      <td>0.0</td>\n      <td>0.0</td>\n      <td>0.0</td>\n      <td>0.0</td>\n      <td>0.0</td>\n      <td>0.0</td>\n      <td>1.0</td>\n      <td>...</td>\n      <td>-0.439239</td>\n      <td>1984</td>\n      <td>1.000000</td>\n      <td>0.0</td>\n      <td>0.000000</td>\n      <td>0.000000</td>\n      <td>-7.460411e-08</td>\n      <td>14.295299</td>\n      <td>59.0</td>\n      <td>2.540026</td>\n    </tr>\n    <tr>\n      <th>679</th>\n      <td>0.0</td>\n      <td>0.0</td>\n      <td>0.0</td>\n      <td>0.0</td>\n      <td>0.0</td>\n      <td>0.0</td>\n      <td>0.0</td>\n      <td>1.0</td>\n      <td>0.0</td>\n      <td>0.0</td>\n      <td>...</td>\n      <td>-0.439239</td>\n      <td>1910</td>\n      <td>0.572266</td>\n      <td>0.0</td>\n      <td>0.427735</td>\n      <td>0.427735</td>\n      <td>4.277344e-01</td>\n      <td>13.732145</td>\n      <td>92.0</td>\n      <td>3.033028</td>\n    </tr>\n    <tr>\n      <th>147</th>\n      <td>0.0</td>\n      <td>0.0</td>\n      <td>0.0</td>\n      <td>1.0</td>\n      <td>0.0</td>\n      <td>0.0</td>\n      <td>0.0</td>\n      <td>0.0</td>\n      <td>0.0</td>\n      <td>0.0</td>\n      <td>...</td>\n      <td>2.598793</td>\n      <td>1976</td>\n      <td>1.000000</td>\n      <td>0.0</td>\n      <td>0.000000</td>\n      <td>0.000000</td>\n      <td>1.237624e-07</td>\n      <td>17.631159</td>\n      <td>69.0</td>\n      <td>5.825912</td>\n    </tr>\n    <tr>\n      <th>...</th>\n      <td>...</td>\n      <td>...</td>\n      <td>...</td>\n      <td>...</td>\n      <td>...</td>\n      <td>...</td>\n      <td>...</td>\n      <td>...</td>\n      <td>...</td>\n      <td>...</td>\n      <td>...</td>\n      <td>...</td>\n      <td>...</td>\n      <td>...</td>\n      <td>...</td>\n      <td>...</td>\n      <td>...</td>\n      <td>...</td>\n      <td>...</td>\n      <td>...</td>\n      <td>...</td>\n    </tr>\n    <tr>\n      <th>1296</th>\n      <td>0.0</td>\n      <td>0.0</td>\n      <td>0.0</td>\n      <td>0.0</td>\n      <td>0.0</td>\n      <td>0.0</td>\n      <td>0.0</td>\n      <td>0.0</td>\n      <td>1.0</td>\n      <td>0.0</td>\n      <td>...</td>\n      <td>-0.439239</td>\n      <td>1968</td>\n      <td>0.999999</td>\n      <td>0.0</td>\n      <td>0.000000</td>\n      <td>0.000000</td>\n      <td>6.266929e-07</td>\n      <td>13.302039</td>\n      <td>77.0</td>\n      <td>1.499623</td>\n    </tr>\n    <tr>\n      <th>1219</th>\n      <td>0.0</td>\n      <td>0.0</td>\n      <td>0.0</td>\n      <td>0.0</td>\n      <td>0.0</td>\n      <td>0.0</td>\n      <td>0.0</td>\n      <td>1.0</td>\n      <td>0.0</td>\n      <td>0.0</td>\n      <td>...</td>\n      <td>-0.439239</td>\n      <td>1979</td>\n      <td>0.087370</td>\n      <td>0.0</td>\n      <td>0.912630</td>\n      <td>0.912630</td>\n      <td>9.126299e-01</td>\n      <td>14.407993</td>\n      <td>100.0</td>\n      <td>4.120175</td>\n    </tr>\n    <tr>\n      <th>1483</th>\n      <td>0.0</td>\n      <td>0.0</td>\n      <td>0.0</td>\n      <td>0.0</td>\n      <td>1.0</td>\n      <td>0.0</td>\n      <td>0.0</td>\n      <td>0.0</td>\n      <td>0.0</td>\n      <td>0.0</td>\n      <td>...</td>\n      <td>-0.439239</td>\n      <td>1928</td>\n      <td>0.169051</td>\n      <td>0.0</td>\n      <td>0.830949</td>\n      <td>0.830949</td>\n      <td>8.309491e-01</td>\n      <td>13.773218</td>\n      <td>80.0</td>\n      <td>3.884446</td>\n    </tr>\n    <tr>\n      <th>330</th>\n      <td>0.0</td>\n      <td>0.0</td>\n      <td>0.0</td>\n      <td>1.0</td>\n      <td>0.0</td>\n      <td>0.0</td>\n      <td>0.0</td>\n      <td>0.0</td>\n      <td>0.0</td>\n      <td>0.0</td>\n      <td>...</td>\n      <td>-0.439239</td>\n      <td>1910</td>\n      <td>0.689684</td>\n      <td>0.0</td>\n      <td>0.310316</td>\n      <td>0.310316</td>\n      <td>3.103158e-01</td>\n      <td>15.191804</td>\n      <td>89.0</td>\n      <td>4.248781</td>\n    </tr>\n    <tr>\n      <th>1436</th>\n      <td>0.0</td>\n      <td>0.0</td>\n      <td>0.0</td>\n      <td>0.0</td>\n      <td>0.0</td>\n      <td>0.0</td>\n      <td>0.0</td>\n      <td>1.0</td>\n      <td>0.0</td>\n      <td>0.0</td>\n      <td>...</td>\n      <td>-0.439239</td>\n      <td>1948</td>\n      <td>1.000000</td>\n      <td>0.0</td>\n      <td>0.000000</td>\n      <td>0.000000</td>\n      <td>2.285391e-07</td>\n      <td>13.536949</td>\n      <td>96.0</td>\n      <td>1.350667</td>\n    </tr>\n  </tbody>\n</table>\n<p>1659 rows × 58 columns</p>\n</div>"
     },
     "execution_count": 168,
     "metadata": {},
     "output_type": "execute_result"
    }
   ],
   "source": [
    "train_EnergyStarScore"
   ],
   "metadata": {
    "collapsed": false,
    "pycharm": {
     "name": "#%%\n"
    }
   }
  },
  {
   "cell_type": "markdown",
   "source": [
    "#### 3) Standardization of numerical variables"
   ],
   "metadata": {
    "collapsed": false,
    "pycharm": {
     "name": "#%% md\n"
    }
   }
  },
  {
   "cell_type": "code",
   "execution_count": 169,
   "outputs": [],
   "source": [
    "model_EnergyStarScore_features_std = [\"Ratio_Electricity\", \"Ratio_Steam\", \"Ratio_Gas\", \"Ratio_Steam+Gas\", \"Ratio_Steam+Gas+Other\", \"Log-TotalEnergy(kBtu)\", \"ENERGYSTARScore\"]"
   ],
   "metadata": {
    "collapsed": false,
    "pycharm": {
     "name": "#%%\n"
    }
   }
  },
  {
   "cell_type": "code",
   "execution_count": 170,
   "outputs": [],
   "source": [
    "# We transform the training set and the testing set / Performs standardization by centering and scaling.\n",
    "train_EnergyStarScore_std, test_EnergyStarScore_std = train_EnergyStarScore.copy(), test_EnergyStarScore.copy()\n",
    "\n",
    "std_scaler_EnergyStarScore = StandardScaler()  # other way of writing the scaling\n",
    "train_EnergyStarScore_std[model_EnergyStarScore_features_std] = std_scaler_EnergyStarScore.fit_transform(\n",
    "    train_EnergyStarScore[model_EnergyStarScore_features_std])\n",
    "\n",
    "test_EnergyStarScore_std[model_EnergyStarScore_features_std] = std_scaler_EnergyStarScore.transform(\n",
    "    test_EnergyStarScore[model_EnergyStarScore_features_std])"
   ],
   "metadata": {
    "collapsed": false,
    "pycharm": {
     "name": "#%%\n"
    }
   }
  },
  {
   "cell_type": "code",
   "execution_count": 171,
   "outputs": [
    {
     "data": {
      "text/plain": "      Neighborhood_Ballard  Neighborhood_Central  Neighborhood_Delridge  \\\n920                    0.0                   0.0                    0.0   \n2752                   0.0                   0.0                    1.0   \n478                    0.0                   0.0                    0.0   \n679                    0.0                   0.0                    0.0   \n147                    0.0                   0.0                    0.0   \n...                    ...                   ...                    ...   \n1296                   0.0                   0.0                    0.0   \n1219                   0.0                   0.0                    0.0   \n1483                   0.0                   0.0                    0.0   \n330                    0.0                   0.0                    0.0   \n1436                   0.0                   0.0                    0.0   \n\n      Neighborhood_Downtown  Neighborhood_East  Neighborhood_Greater duwamish  \\\n920                     0.0                0.0                            0.0   \n2752                    0.0                0.0                            0.0   \n478                     0.0                0.0                            0.0   \n679                     0.0                0.0                            0.0   \n147                     1.0                0.0                            0.0   \n...                     ...                ...                            ...   \n1296                    0.0                0.0                            0.0   \n1219                    0.0                0.0                            0.0   \n1483                    0.0                1.0                            0.0   \n330                     1.0                0.0                            0.0   \n1436                    0.0                0.0                            0.0   \n\n      Neighborhood_Lake union  Neighborhood_Magnolia / queen anne  \\\n920                       1.0                                 0.0   \n2752                      0.0                                 0.0   \n478                       0.0                                 0.0   \n679                       0.0                                 1.0   \n147                       0.0                                 0.0   \n...                       ...                                 ...   \n1296                      0.0                                 0.0   \n1219                      0.0                                 1.0   \n1483                      0.0                                 0.0   \n330                       0.0                                 0.0   \n1436                      0.0                                 1.0   \n\n      Neighborhood_North  Neighborhood_Northeast  ...  \\\n920                  0.0                     0.0  ...   \n2752                 0.0                     0.0  ...   \n478                  0.0                     1.0  ...   \n679                  0.0                     0.0  ...   \n147                  0.0                     0.0  ...   \n...                  ...                     ...  ...   \n1296                 1.0                     0.0  ...   \n1219                 0.0                     0.0  ...   \n1483                 0.0                     0.0  ...   \n330                  0.0                     0.0  ...   \n1436                 0.0                     0.0  ...   \n\n      Log-ThirdLargestPropertyUseTypeGFA  YearBuilt  Ratio_Electricity  \\\n920                            -0.439239       2009          -0.749204   \n2752                           -0.439239       1957          -0.740022   \n478                            -0.439239       1984           0.915641   \n679                            -0.439239       1910          -0.667260   \n147                             2.598793       1976           0.915640   \n...                                  ...        ...                ...   \n1296                           -0.439239       1968           0.915638   \n1219                           -0.439239       1979          -2.461696   \n1483                           -0.439239       1928          -2.159422   \n330                            -0.439239       1910          -0.232734   \n1436                           -0.439239       1948           0.915640   \n\n      Ratio_Steam  Ratio_Gas  Ratio_Steam+Gas  Ratio_Steam+Gas+Other  \\\n920     -0.177668   0.802209         0.749211               0.749204   \n2752    -0.177668   0.792966         0.740029               0.740022   \n478     -0.177668  -0.873480        -0.915639              -0.915641   \n679     -0.177668   0.719733         0.667269               0.667260   \n147     -0.177668  -0.873480        -0.915639              -0.915640   \n...           ...        ...              ...                    ...   \n1296    -0.177668  -0.873480        -0.915639              -0.915638   \n1219    -0.177668   2.525857         2.461711               2.461696   \n1483    -0.177668   2.221612         2.159434               2.159422   \n330     -0.177668   0.282375         0.232740               0.232734   \n1436    -0.177668  -0.873480        -0.915639              -0.915640   \n\n      Log-TotalEnergy(kBtu)  ENERGYSTARScore  Log-TotalGHGEmissions  \n920                1.266266         0.804084               5.486414  \n2752              -1.235245        -0.579475               3.322515  \n478               -0.305191        -0.317721               2.540026  \n679               -0.842404         0.916265               3.033028  \n147                2.877011         0.056214               5.825912  \n...                     ...              ...                    ...  \n1296              -1.252698         0.355362               1.499623  \n1219              -0.197687         1.215413               4.120175  \n1483              -0.803223         0.467543               3.884446  \n330                0.550019         0.804084               4.248781  \n1436              -1.028609         1.065839               1.350667  \n\n[1659 rows x 58 columns]",
      "text/html": "<div>\n<style scoped>\n    .dataframe tbody tr th:only-of-type {\n        vertical-align: middle;\n    }\n\n    .dataframe tbody tr th {\n        vertical-align: top;\n    }\n\n    .dataframe thead th {\n        text-align: right;\n    }\n</style>\n<table border=\"1\" class=\"dataframe\">\n  <thead>\n    <tr style=\"text-align: right;\">\n      <th></th>\n      <th>Neighborhood_Ballard</th>\n      <th>Neighborhood_Central</th>\n      <th>Neighborhood_Delridge</th>\n      <th>Neighborhood_Downtown</th>\n      <th>Neighborhood_East</th>\n      <th>Neighborhood_Greater duwamish</th>\n      <th>Neighborhood_Lake union</th>\n      <th>Neighborhood_Magnolia / queen anne</th>\n      <th>Neighborhood_North</th>\n      <th>Neighborhood_Northeast</th>\n      <th>...</th>\n      <th>Log-ThirdLargestPropertyUseTypeGFA</th>\n      <th>YearBuilt</th>\n      <th>Ratio_Electricity</th>\n      <th>Ratio_Steam</th>\n      <th>Ratio_Gas</th>\n      <th>Ratio_Steam+Gas</th>\n      <th>Ratio_Steam+Gas+Other</th>\n      <th>Log-TotalEnergy(kBtu)</th>\n      <th>ENERGYSTARScore</th>\n      <th>Log-TotalGHGEmissions</th>\n    </tr>\n  </thead>\n  <tbody>\n    <tr>\n      <th>920</th>\n      <td>0.0</td>\n      <td>0.0</td>\n      <td>0.0</td>\n      <td>0.0</td>\n      <td>0.0</td>\n      <td>0.0</td>\n      <td>1.0</td>\n      <td>0.0</td>\n      <td>0.0</td>\n      <td>0.0</td>\n      <td>...</td>\n      <td>-0.439239</td>\n      <td>2009</td>\n      <td>-0.749204</td>\n      <td>-0.177668</td>\n      <td>0.802209</td>\n      <td>0.749211</td>\n      <td>0.749204</td>\n      <td>1.266266</td>\n      <td>0.804084</td>\n      <td>5.486414</td>\n    </tr>\n    <tr>\n      <th>2752</th>\n      <td>0.0</td>\n      <td>0.0</td>\n      <td>1.0</td>\n      <td>0.0</td>\n      <td>0.0</td>\n      <td>0.0</td>\n      <td>0.0</td>\n      <td>0.0</td>\n      <td>0.0</td>\n      <td>0.0</td>\n      <td>...</td>\n      <td>-0.439239</td>\n      <td>1957</td>\n      <td>-0.740022</td>\n      <td>-0.177668</td>\n      <td>0.792966</td>\n      <td>0.740029</td>\n      <td>0.740022</td>\n      <td>-1.235245</td>\n      <td>-0.579475</td>\n      <td>3.322515</td>\n    </tr>\n    <tr>\n      <th>478</th>\n      <td>0.0</td>\n      <td>0.0</td>\n      <td>0.0</td>\n      <td>0.0</td>\n      <td>0.0</td>\n      <td>0.0</td>\n      <td>0.0</td>\n      <td>0.0</td>\n      <td>0.0</td>\n      <td>1.0</td>\n      <td>...</td>\n      <td>-0.439239</td>\n      <td>1984</td>\n      <td>0.915641</td>\n      <td>-0.177668</td>\n      <td>-0.873480</td>\n      <td>-0.915639</td>\n      <td>-0.915641</td>\n      <td>-0.305191</td>\n      <td>-0.317721</td>\n      <td>2.540026</td>\n    </tr>\n    <tr>\n      <th>679</th>\n      <td>0.0</td>\n      <td>0.0</td>\n      <td>0.0</td>\n      <td>0.0</td>\n      <td>0.0</td>\n      <td>0.0</td>\n      <td>0.0</td>\n      <td>1.0</td>\n      <td>0.0</td>\n      <td>0.0</td>\n      <td>...</td>\n      <td>-0.439239</td>\n      <td>1910</td>\n      <td>-0.667260</td>\n      <td>-0.177668</td>\n      <td>0.719733</td>\n      <td>0.667269</td>\n      <td>0.667260</td>\n      <td>-0.842404</td>\n      <td>0.916265</td>\n      <td>3.033028</td>\n    </tr>\n    <tr>\n      <th>147</th>\n      <td>0.0</td>\n      <td>0.0</td>\n      <td>0.0</td>\n      <td>1.0</td>\n      <td>0.0</td>\n      <td>0.0</td>\n      <td>0.0</td>\n      <td>0.0</td>\n      <td>0.0</td>\n      <td>0.0</td>\n      <td>...</td>\n      <td>2.598793</td>\n      <td>1976</td>\n      <td>0.915640</td>\n      <td>-0.177668</td>\n      <td>-0.873480</td>\n      <td>-0.915639</td>\n      <td>-0.915640</td>\n      <td>2.877011</td>\n      <td>0.056214</td>\n      <td>5.825912</td>\n    </tr>\n    <tr>\n      <th>...</th>\n      <td>...</td>\n      <td>...</td>\n      <td>...</td>\n      <td>...</td>\n      <td>...</td>\n      <td>...</td>\n      <td>...</td>\n      <td>...</td>\n      <td>...</td>\n      <td>...</td>\n      <td>...</td>\n      <td>...</td>\n      <td>...</td>\n      <td>...</td>\n      <td>...</td>\n      <td>...</td>\n      <td>...</td>\n      <td>...</td>\n      <td>...</td>\n      <td>...</td>\n      <td>...</td>\n    </tr>\n    <tr>\n      <th>1296</th>\n      <td>0.0</td>\n      <td>0.0</td>\n      <td>0.0</td>\n      <td>0.0</td>\n      <td>0.0</td>\n      <td>0.0</td>\n      <td>0.0</td>\n      <td>0.0</td>\n      <td>1.0</td>\n      <td>0.0</td>\n      <td>...</td>\n      <td>-0.439239</td>\n      <td>1968</td>\n      <td>0.915638</td>\n      <td>-0.177668</td>\n      <td>-0.873480</td>\n      <td>-0.915639</td>\n      <td>-0.915638</td>\n      <td>-1.252698</td>\n      <td>0.355362</td>\n      <td>1.499623</td>\n    </tr>\n    <tr>\n      <th>1219</th>\n      <td>0.0</td>\n      <td>0.0</td>\n      <td>0.0</td>\n      <td>0.0</td>\n      <td>0.0</td>\n      <td>0.0</td>\n      <td>0.0</td>\n      <td>1.0</td>\n      <td>0.0</td>\n      <td>0.0</td>\n      <td>...</td>\n      <td>-0.439239</td>\n      <td>1979</td>\n      <td>-2.461696</td>\n      <td>-0.177668</td>\n      <td>2.525857</td>\n      <td>2.461711</td>\n      <td>2.461696</td>\n      <td>-0.197687</td>\n      <td>1.215413</td>\n      <td>4.120175</td>\n    </tr>\n    <tr>\n      <th>1483</th>\n      <td>0.0</td>\n      <td>0.0</td>\n      <td>0.0</td>\n      <td>0.0</td>\n      <td>1.0</td>\n      <td>0.0</td>\n      <td>0.0</td>\n      <td>0.0</td>\n      <td>0.0</td>\n      <td>0.0</td>\n      <td>...</td>\n      <td>-0.439239</td>\n      <td>1928</td>\n      <td>-2.159422</td>\n      <td>-0.177668</td>\n      <td>2.221612</td>\n      <td>2.159434</td>\n      <td>2.159422</td>\n      <td>-0.803223</td>\n      <td>0.467543</td>\n      <td>3.884446</td>\n    </tr>\n    <tr>\n      <th>330</th>\n      <td>0.0</td>\n      <td>0.0</td>\n      <td>0.0</td>\n      <td>1.0</td>\n      <td>0.0</td>\n      <td>0.0</td>\n      <td>0.0</td>\n      <td>0.0</td>\n      <td>0.0</td>\n      <td>0.0</td>\n      <td>...</td>\n      <td>-0.439239</td>\n      <td>1910</td>\n      <td>-0.232734</td>\n      <td>-0.177668</td>\n      <td>0.282375</td>\n      <td>0.232740</td>\n      <td>0.232734</td>\n      <td>0.550019</td>\n      <td>0.804084</td>\n      <td>4.248781</td>\n    </tr>\n    <tr>\n      <th>1436</th>\n      <td>0.0</td>\n      <td>0.0</td>\n      <td>0.0</td>\n      <td>0.0</td>\n      <td>0.0</td>\n      <td>0.0</td>\n      <td>0.0</td>\n      <td>1.0</td>\n      <td>0.0</td>\n      <td>0.0</td>\n      <td>...</td>\n      <td>-0.439239</td>\n      <td>1948</td>\n      <td>0.915640</td>\n      <td>-0.177668</td>\n      <td>-0.873480</td>\n      <td>-0.915639</td>\n      <td>-0.915640</td>\n      <td>-1.028609</td>\n      <td>1.065839</td>\n      <td>1.350667</td>\n    </tr>\n  </tbody>\n</table>\n<p>1659 rows × 58 columns</p>\n</div>"
     },
     "execution_count": 171,
     "metadata": {},
     "output_type": "execute_result"
    }
   ],
   "source": [
    "train_EnergyStarScore_std"
   ],
   "metadata": {
    "collapsed": false,
    "pycharm": {
     "name": "#%%\n"
    }
   }
  },
  {
   "cell_type": "markdown",
   "source": [
    "#### 4) Distribution of variables"
   ],
   "metadata": {
    "collapsed": false,
    "pycharm": {
     "name": "#%% md\n"
    }
   }
  },
  {
   "cell_type": "code",
   "execution_count": 172,
   "outputs": [
    {
     "data": {
      "text/plain": "<Figure size 576x360 with 1 Axes>",
      "image/png": "[encoded data removed]"
     },
     "metadata": {
      "needs_background": "light"
     },
     "output_type": "display_data"
    }
   ],
   "source": [
    "# Distribution des variables du jeu d'entrainement\n",
    "plt.figure(figsize=(8,5))\n",
    "plt.title('Données d\\'entrainement pour la modélisation des émissions de CO2')\n",
    "bp = sns.boxplot(x='value', y='variable', data=pd.melt(train_EnergyStarScore_std[model_EnergyStarScore_features_std]), palette='bright',\n",
    "                 flierprops=dict(markersize=1, markerfacecolor='gray'))\n",
    "bp.set_xlabel(\"\")\n",
    "bp.set_ylabel(\"\")\n",
    "plt.show()"
   ],
   "metadata": {
    "collapsed": false,
    "pycharm": {
     "name": "#%%\n"
    }
   }
  },
  {
   "cell_type": "markdown",
   "source": [
    "#### 5) Saving dataset"
   ],
   "metadata": {
    "collapsed": false,
    "pycharm": {
     "name": "#%% md\n"
    }
   }
  },
  {
   "cell_type": "code",
   "execution_count": 173,
   "outputs": [],
   "source": [
    "path_save_EnergyStarScore = \"dataset/CO2_EnergyStarScore/\"\n",
    "\n",
    "# Sauvegarde des jeux de données\n",
    "train_EnergyStarScore_std.to_csv(\"{}{}\".format(path_save_EnergyStarScore, \"train_EnergyStarScore.csv\"), encoding='utf-8', index=False)\n",
    "test_EnergyStarScore_std.to_csv(\"{}{}\".format(path_save_EnergyStarScore, \"test_EnergyStarScore.csv\"), encoding='utf-8', index=False)\n",
    "\n",
    "# Sauvegarde du modèle pour standardiser\n",
    "model = {'scaler': std_scaler_EnergyStarScore, 'scaler_features': model_EnergyStarScore_features}\n",
    "filename = 'model/scaler_EnergyStarScore.sav'\n",
    "pickle.dump(model, open(filename, 'wb'))"
   ],
   "metadata": {
    "collapsed": false,
    "pycharm": {
     "name": "#%%\n"
    }
   }
  },
  {
   "cell_type": "code",
   "execution_count": 174,
   "outputs": [
    {
     "name": "stdout",
     "output_type": "stream",
     "text": [
      "computing time : 1.654256 sec\n",
      "computing time : 00:00:01\n"
     ]
    }
   ],
   "source": [
    "t1 = time()\n",
    "print(\"computing time : {:8.6f} sec\".format(t1-t0))\n",
    "print(\"computing time : \" + strftime('%H:%M:%S', gmtime(t1-t0)))"
   ],
   "metadata": {
    "collapsed": false,
    "pycharm": {
     "name": "#%%\n"
    }
   }
  }
 ],
 "metadata": {
  "kernelspec": {
   "display_name": "Python 3",
   "language": "python",
   "name": "python3"
  },
  "language_info": {
   "codemirror_mode": {
    "name": "ipython",
    "version": 2
   },
   "file_extension": ".py",
   "mimetype": "text/x-python",
   "name": "python",
   "nbconvert_exporter": "python",
   "pygments_lexer": "ipython2",
   "version": "2.7.6"
  }
 },
 "nbformat": 4,
 "nbformat_minor": 0
}