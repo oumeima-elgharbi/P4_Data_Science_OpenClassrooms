{
 "cells": [
  {
   "cell_type": "markdown",
   "source": [
    "OpenClassrooms\n",
    "Project 4, Data Scientist\n",
    "Author : Oumeima EL GHARBI\n",
    "Date : August,September 2022"
   ],
   "metadata": {
    "collapsed": false,
    "pycharm": {
     "name": "#%% md\n"
    }
   }
  },
  {
   "cell_type": "markdown",
   "source": [
    "# Feature Engineering to predict CO2"
   ],
   "metadata": {
    "collapsed": false,
    "pycharm": {
     "name": "#%% md\n"
    }
   }
  },
  {
   "cell_type": "markdown",
   "source": [
    "### Introduction"
   ],
   "metadata": {
    "collapsed": false,
    "pycharm": {
     "name": "#%% md\n"
    }
   }
  },
  {
   "cell_type": "markdown",
   "source": [
    "#### Importing libraries"
   ],
   "metadata": {
    "collapsed": false,
    "pycharm": {
     "name": "#%% md\n"
    }
   }
  },
  {
   "cell_type": "code",
   "execution_count": 5,
   "outputs": [
    {
     "data": {
      "application/javascript": "IPython.notebook.set_autosave_interval(300000)"
     },
     "metadata": {},
     "output_type": "display_data"
    },
    {
     "name": "stdout",
     "output_type": "stream",
     "text": [
      "Autosaving every 300 seconds\n"
     ]
    }
   ],
   "source": [
    "%reset -f\n",
    "\n",
    "import pickle\n",
    "\n",
    "import warnings\n",
    "warnings.filterwarnings(action=\"ignore\")\n",
    "\n",
    "from exploration import *\n",
    "\n",
    "from sklearn. model_selection import train_test_split\n",
    "from sklearn.preprocessing import StandardScaler, OneHotEncoder\n",
    "\n",
    "%matplotlib inline\n",
    "%autosave 300"
   ],
   "metadata": {
    "collapsed": false,
    "pycharm": {
     "name": "#%%\n"
    }
   }
  },
  {
   "cell_type": "code",
   "execution_count": 6,
   "outputs": [
    {
     "name": "stdout",
     "output_type": "stream",
     "text": [
      "Seed value:  1\n"
     ]
    }
   ],
   "source": [
    "# Heure démarrage\n",
    "t0 = time()\n",
    "\n",
    "# seed pour les générateurs aléatoires\n",
    "seed = 1\n",
    "print(\"Seed value: \", seed)"
   ],
   "metadata": {
    "collapsed": false,
    "pycharm": {
     "name": "#%%\n"
    }
   }
  },
  {
   "cell_type": "code",
   "execution_count": 7,
   "outputs": [],
   "source": [
    "all_energy_dir = [\"steam\", \"electricity\", \"gas\", \"total_energy\"]\n",
    "#all_energy_dir = [\"electricity\", \"steam\", \"gas\", \"steam_gas\"]\n",
    "#all_energy_names = [\"Ratio_Electricity\",\"Ratio_Steam\", \"Ratio_Gas\",  \"Ratio_Steam+Gas\"]\n",
    "\n",
    "all_energy_names = [\"Log-SteamUse(kBtu)\", \"Log-Electricity(kBtu)\", \"Log-NaturalGas(kBtu)\", \"Log-TotalEnergy(kBtu)\"]\n",
    "\n",
    "experiment_dir = \"./Experiment_1_log/\"\n",
    "path_energy = \"dataset/energy/\""
   ],
   "metadata": {
    "collapsed": false,
    "pycharm": {
     "name": "#%%\n"
    }
   }
  },
  {
   "cell_type": "markdown",
   "source": [
    "#### Loading dataset"
   ],
   "metadata": {
    "collapsed": false,
    "pycharm": {
     "name": "#%% md\n"
    }
   }
  },
  {
   "cell_type": "code",
   "execution_count": 8,
   "outputs": [],
   "source": [
    "train_energy_file = path_energy + \"train_energy.csv\"\n",
    "test_energy_file =  path_energy + \"test_energy.csv\"\n",
    "\n",
    "train_energy = pd.read_csv(train_energy_file, sep=\",\")\n",
    "test_energy = pd.read_csv(test_energy_file, sep=\",\")\n",
    "\n",
    "dataset = pd.concat([train_energy, test_energy], ignore_index=True) # reindexation"
   ],
   "metadata": {
    "collapsed": false,
    "pycharm": {
     "name": "#%%\n"
    }
   }
  },
  {
   "cell_type": "code",
   "execution_count": 9,
   "outputs": [],
   "source": [
    "dataset_energy = dataset.iloc[:, :-6]"
   ],
   "metadata": {
    "collapsed": false,
    "pycharm": {
     "name": "#%%\n"
    }
   }
  },
  {
   "cell_type": "code",
   "execution_count": 10,
   "outputs": [
    {
     "data": {
      "text/plain": "(3147, 50)"
     },
     "execution_count": 10,
     "metadata": {},
     "output_type": "execute_result"
    }
   ],
   "source": [
    "dataset_energy.shape"
   ],
   "metadata": {
    "collapsed": false,
    "pycharm": {
     "name": "#%%\n"
    }
   }
  },
  {
   "cell_type": "code",
   "execution_count": 11,
   "outputs": [
    {
     "data": {
      "text/plain": "Index(['Neighborhood_Ballard', 'Neighborhood_Central', 'Neighborhood_Delridge',\n       'Neighborhood_Downtown', 'Neighborhood_East',\n       'Neighborhood_Greater duwamish', 'Neighborhood_Lake union',\n       'Neighborhood_Magnolia / queen anne', 'Neighborhood_North',\n       'Neighborhood_Northeast', 'Neighborhood_Northwest',\n       'Neighborhood_Southeast', 'Neighborhood_Southwest',\n       'BuildingType_Campus', 'BuildingType_Multifamily hr (10+)',\n       'BuildingType_Multifamily lr (1-4)',\n       'BuildingType_Multifamily mr (5-9)', 'BuildingType_Nonresidential',\n       'BuildingType_Nonresidential cos', 'BuildingType_Sps-district k-12',\n       'PrimaryPropertyType_Distribution center',\n       'PrimaryPropertyType_High-rise multifamily',\n       'PrimaryPropertyType_Hospital', 'PrimaryPropertyType_Hotel',\n       'PrimaryPropertyType_K-12 school', 'PrimaryPropertyType_Laboratory',\n       'PrimaryPropertyType_Large office',\n       'PrimaryPropertyType_Low-rise multifamily',\n       'PrimaryPropertyType_Medical office',\n       'PrimaryPropertyType_Mid-rise multifamily',\n       'PrimaryPropertyType_Mixed use property', 'PrimaryPropertyType_Other',\n       'PrimaryPropertyType_Refrigerated warehouse',\n       'PrimaryPropertyType_Residence hall', 'PrimaryPropertyType_Restaurant',\n       'PrimaryPropertyType_Retail store',\n       'PrimaryPropertyType_Self-storage facility',\n       'PrimaryPropertyType_Senior care community',\n       'PrimaryPropertyType_Small- and mid-sized office',\n       'PrimaryPropertyType_Supermarket / grocery store',\n       'PrimaryPropertyType_University', 'PrimaryPropertyType_Warehouse',\n       'PrimaryPropertyType_Worship facility', 'Log-NumberofFloors',\n       'Log-PropertyGFATotal', 'Log-PropertyGFABuilding(s)',\n       'Log-LargestPropertyUseTypeGFA', 'Log-SecondLargestPropertyUseTypeGFA',\n       'Log-ThirdLargestPropertyUseTypeGFA', 'YearBuilt'],\n      dtype='object')"
     },
     "execution_count": 11,
     "metadata": {},
     "output_type": "execute_result"
    }
   ],
   "source": [
    "dataset_energy.columns"
   ],
   "metadata": {
    "collapsed": false,
    "pycharm": {
     "name": "#%%\n"
    }
   }
  },
  {
   "cell_type": "code",
   "execution_count": 12,
   "outputs": [
    {
     "data": {
      "text/plain": "      Neighborhood_Ballard  Neighborhood_Central  Neighborhood_Delridge  \\\n0                      0.0                   0.0                    0.0   \n1                      0.0                   0.0                    0.0   \n2                      0.0                   0.0                    0.0   \n3                      0.0                   0.0                    0.0   \n4                      0.0                   0.0                    0.0   \n...                    ...                   ...                    ...   \n3142                   0.0                   0.0                    0.0   \n3143                   0.0                   0.0                    0.0   \n3144                   0.0                   0.0                    0.0   \n3145                   0.0                   0.0                    0.0   \n3146                   0.0                   0.0                    0.0   \n\n      Neighborhood_Downtown  Neighborhood_East  Neighborhood_Greater duwamish  \\\n0                       1.0                0.0                            0.0   \n1                       1.0                0.0                            0.0   \n2                       1.0                0.0                            0.0   \n3                       1.0                0.0                            0.0   \n4                       1.0                0.0                            0.0   \n...                     ...                ...                            ...   \n3142                    0.0                0.0                            0.0   \n3143                    0.0                1.0                            0.0   \n3144                    0.0                0.0                            0.0   \n3145                    0.0                0.0                            0.0   \n3146                    0.0                0.0                            0.0   \n\n      Neighborhood_Lake union  Neighborhood_Magnolia / queen anne  \\\n0                         0.0                                 0.0   \n1                         0.0                                 0.0   \n2                         0.0                                 0.0   \n3                         0.0                                 0.0   \n4                         0.0                                 0.0   \n...                       ...                                 ...   \n3142                      0.0                                 0.0   \n3143                      0.0                                 0.0   \n3144                      1.0                                 0.0   \n3145                      0.0                                 0.0   \n3146                      0.0                                 0.0   \n\n      Neighborhood_North  Neighborhood_Northeast  ...  \\\n0                    0.0                     0.0  ...   \n1                    0.0                     0.0  ...   \n2                    0.0                     0.0  ...   \n3                    0.0                     0.0  ...   \n4                    0.0                     0.0  ...   \n...                  ...                     ...  ...   \n3142                 0.0                     1.0  ...   \n3143                 0.0                     0.0  ...   \n3144                 0.0                     0.0  ...   \n3145                 0.0                     0.0  ...   \n3146                 0.0                     1.0  ...   \n\n      Log-LargestPropertyUseTypeGFA  Log-SecondLargestPropertyUseTypeGFA  \\\n0                          0.733123                            -0.923528   \n1                          0.670863                             1.072892   \n2                          3.260821                            -0.923528   \n3                          0.738385                            -0.923528   \n4                          0.909942                            -0.923528   \n...                             ...                                  ...   \n3142                       1.393305                             1.527976   \n3143                       0.590684                             0.944811   \n3144                       1.367249                             1.478762   \n3145                       1.490359                             1.298680   \n3146                       0.439463                            -0.923528   \n\n      Log-ThirdLargestPropertyUseTypeGFA  YearBuilt  Log-TotalEnergy(kBtu)  \\\n0                              -0.439239       1927              15.793246   \n1                               2.153810       1996              15.942305   \n2                              -0.439239       1969              18.100297   \n3                              -0.439239       1999              16.307609   \n4                              -0.439239       1926              15.655764   \n...                                  ...        ...                    ...   \n3142                           -0.439239       2015              15.696876   \n3143                            1.780089       2015              14.586193   \n3144                            3.044854       2015              17.488365   \n3145                           -0.439239       2015              15.083074   \n3146                           -0.439239       1962              14.972650   \n\n      Log-SteamUse(kBtu)  Log-Electricity(kBtu)  Log-NaturalGas(kBtu)  \\\n0              14.510597              15.188220             14.059596   \n1               0.000000              14.991964             15.453552   \n2              16.886654              17.718022             14.216834   \n3               0.000000              15.813123             15.366298   \n4              14.638056              15.106575             12.861492   \n...                  ...                    ...                   ...   \n3142            0.000000              14.946797             15.057593   \n3143            0.000000              14.586193              0.000000   \n3144            0.000000              16.978316             16.570909   \n3145            0.000000              14.503028             14.262382   \n3146            0.000000              14.972650              0.000000   \n\n      ENERGYSTARScore  Log-TotalGHGEmissions  \n0                60.0               5.525373  \n1                61.0               5.693261  \n2                43.0               7.645053  \n3                 NaN               5.713106  \n4                 NaN               5.404972  \n...               ...                    ...  \n3142            100.0               5.330397  \n3143             84.0               2.776954  \n3144              NaN               6.908815  \n3145            100.0               4.583947  \n3146              NaN               3.142858  \n\n[3147 rows x 56 columns]",
      "text/html": "<div>\n<style scoped>\n    .dataframe tbody tr th:only-of-type {\n        vertical-align: middle;\n    }\n\n    .dataframe tbody tr th {\n        vertical-align: top;\n    }\n\n    .dataframe thead th {\n        text-align: right;\n    }\n</style>\n<table border=\"1\" class=\"dataframe\">\n  <thead>\n    <tr style=\"text-align: right;\">\n      <th></th>\n      <th>Neighborhood_Ballard</th>\n      <th>Neighborhood_Central</th>\n      <th>Neighborhood_Delridge</th>\n      <th>Neighborhood_Downtown</th>\n      <th>Neighborhood_East</th>\n      <th>Neighborhood_Greater duwamish</th>\n      <th>Neighborhood_Lake union</th>\n      <th>Neighborhood_Magnolia / queen anne</th>\n      <th>Neighborhood_North</th>\n      <th>Neighborhood_Northeast</th>\n      <th>...</th>\n      <th>Log-LargestPropertyUseTypeGFA</th>\n      <th>Log-SecondLargestPropertyUseTypeGFA</th>\n      <th>Log-ThirdLargestPropertyUseTypeGFA</th>\n      <th>YearBuilt</th>\n      <th>Log-TotalEnergy(kBtu)</th>\n      <th>Log-SteamUse(kBtu)</th>\n      <th>Log-Electricity(kBtu)</th>\n      <th>Log-NaturalGas(kBtu)</th>\n      <th>ENERGYSTARScore</th>\n      <th>Log-TotalGHGEmissions</th>\n    </tr>\n  </thead>\n  <tbody>\n    <tr>\n      <th>0</th>\n      <td>0.0</td>\n      <td>0.0</td>\n      <td>0.0</td>\n      <td>1.0</td>\n      <td>0.0</td>\n      <td>0.0</td>\n      <td>0.0</td>\n      <td>0.0</td>\n      <td>0.0</td>\n      <td>0.0</td>\n      <td>...</td>\n      <td>0.733123</td>\n      <td>-0.923528</td>\n      <td>-0.439239</td>\n      <td>1927</td>\n      <td>15.793246</td>\n      <td>14.510597</td>\n      <td>15.188220</td>\n      <td>14.059596</td>\n      <td>60.0</td>\n      <td>5.525373</td>\n    </tr>\n    <tr>\n      <th>1</th>\n      <td>0.0</td>\n      <td>0.0</td>\n      <td>0.0</td>\n      <td>1.0</td>\n      <td>0.0</td>\n      <td>0.0</td>\n      <td>0.0</td>\n      <td>0.0</td>\n      <td>0.0</td>\n      <td>0.0</td>\n      <td>...</td>\n      <td>0.670863</td>\n      <td>1.072892</td>\n      <td>2.153810</td>\n      <td>1996</td>\n      <td>15.942305</td>\n      <td>0.000000</td>\n      <td>14.991964</td>\n      <td>15.453552</td>\n      <td>61.0</td>\n      <td>5.693261</td>\n    </tr>\n    <tr>\n      <th>2</th>\n      <td>0.0</td>\n      <td>0.0</td>\n      <td>0.0</td>\n      <td>1.0</td>\n      <td>0.0</td>\n      <td>0.0</td>\n      <td>0.0</td>\n      <td>0.0</td>\n      <td>0.0</td>\n      <td>0.0</td>\n      <td>...</td>\n      <td>3.260821</td>\n      <td>-0.923528</td>\n      <td>-0.439239</td>\n      <td>1969</td>\n      <td>18.100297</td>\n      <td>16.886654</td>\n      <td>17.718022</td>\n      <td>14.216834</td>\n      <td>43.0</td>\n      <td>7.645053</td>\n    </tr>\n    <tr>\n      <th>3</th>\n      <td>0.0</td>\n      <td>0.0</td>\n      <td>0.0</td>\n      <td>1.0</td>\n      <td>0.0</td>\n      <td>0.0</td>\n      <td>0.0</td>\n      <td>0.0</td>\n      <td>0.0</td>\n      <td>0.0</td>\n      <td>...</td>\n      <td>0.738385</td>\n      <td>-0.923528</td>\n      <td>-0.439239</td>\n      <td>1999</td>\n      <td>16.307609</td>\n      <td>0.000000</td>\n      <td>15.813123</td>\n      <td>15.366298</td>\n      <td>NaN</td>\n      <td>5.713106</td>\n    </tr>\n    <tr>\n      <th>4</th>\n      <td>0.0</td>\n      <td>0.0</td>\n      <td>0.0</td>\n      <td>1.0</td>\n      <td>0.0</td>\n      <td>0.0</td>\n      <td>0.0</td>\n      <td>0.0</td>\n      <td>0.0</td>\n      <td>0.0</td>\n      <td>...</td>\n      <td>0.909942</td>\n      <td>-0.923528</td>\n      <td>-0.439239</td>\n      <td>1926</td>\n      <td>15.655764</td>\n      <td>14.638056</td>\n      <td>15.106575</td>\n      <td>12.861492</td>\n      <td>NaN</td>\n      <td>5.404972</td>\n    </tr>\n    <tr>\n      <th>...</th>\n      <td>...</td>\n      <td>...</td>\n      <td>...</td>\n      <td>...</td>\n      <td>...</td>\n      <td>...</td>\n      <td>...</td>\n      <td>...</td>\n      <td>...</td>\n      <td>...</td>\n      <td>...</td>\n      <td>...</td>\n      <td>...</td>\n      <td>...</td>\n      <td>...</td>\n      <td>...</td>\n      <td>...</td>\n      <td>...</td>\n      <td>...</td>\n      <td>...</td>\n      <td>...</td>\n    </tr>\n    <tr>\n      <th>3142</th>\n      <td>0.0</td>\n      <td>0.0</td>\n      <td>0.0</td>\n      <td>0.0</td>\n      <td>0.0</td>\n      <td>0.0</td>\n      <td>0.0</td>\n      <td>0.0</td>\n      <td>0.0</td>\n      <td>1.0</td>\n      <td>...</td>\n      <td>1.393305</td>\n      <td>1.527976</td>\n      <td>-0.439239</td>\n      <td>2015</td>\n      <td>15.696876</td>\n      <td>0.000000</td>\n      <td>14.946797</td>\n      <td>15.057593</td>\n      <td>100.0</td>\n      <td>5.330397</td>\n    </tr>\n    <tr>\n      <th>3143</th>\n      <td>0.0</td>\n      <td>0.0</td>\n      <td>0.0</td>\n      <td>0.0</td>\n      <td>1.0</td>\n      <td>0.0</td>\n      <td>0.0</td>\n      <td>0.0</td>\n      <td>0.0</td>\n      <td>0.0</td>\n      <td>...</td>\n      <td>0.590684</td>\n      <td>0.944811</td>\n      <td>1.780089</td>\n      <td>2015</td>\n      <td>14.586193</td>\n      <td>0.000000</td>\n      <td>14.586193</td>\n      <td>0.000000</td>\n      <td>84.0</td>\n      <td>2.776954</td>\n    </tr>\n    <tr>\n      <th>3144</th>\n      <td>0.0</td>\n      <td>0.0</td>\n      <td>0.0</td>\n      <td>0.0</td>\n      <td>0.0</td>\n      <td>0.0</td>\n      <td>1.0</td>\n      <td>0.0</td>\n      <td>0.0</td>\n      <td>0.0</td>\n      <td>...</td>\n      <td>1.367249</td>\n      <td>1.478762</td>\n      <td>3.044854</td>\n      <td>2015</td>\n      <td>17.488365</td>\n      <td>0.000000</td>\n      <td>16.978316</td>\n      <td>16.570909</td>\n      <td>NaN</td>\n      <td>6.908815</td>\n    </tr>\n    <tr>\n      <th>3145</th>\n      <td>0.0</td>\n      <td>0.0</td>\n      <td>0.0</td>\n      <td>0.0</td>\n      <td>0.0</td>\n      <td>0.0</td>\n      <td>0.0</td>\n      <td>0.0</td>\n      <td>0.0</td>\n      <td>0.0</td>\n      <td>...</td>\n      <td>1.490359</td>\n      <td>1.298680</td>\n      <td>-0.439239</td>\n      <td>2015</td>\n      <td>15.083074</td>\n      <td>0.000000</td>\n      <td>14.503028</td>\n      <td>14.262382</td>\n      <td>100.0</td>\n      <td>4.583947</td>\n    </tr>\n    <tr>\n      <th>3146</th>\n      <td>0.0</td>\n      <td>0.0</td>\n      <td>0.0</td>\n      <td>0.0</td>\n      <td>0.0</td>\n      <td>0.0</td>\n      <td>0.0</td>\n      <td>0.0</td>\n      <td>0.0</td>\n      <td>1.0</td>\n      <td>...</td>\n      <td>0.439463</td>\n      <td>-0.923528</td>\n      <td>-0.439239</td>\n      <td>1962</td>\n      <td>14.972650</td>\n      <td>0.000000</td>\n      <td>14.972650</td>\n      <td>0.000000</td>\n      <td>NaN</td>\n      <td>3.142858</td>\n    </tr>\n  </tbody>\n</table>\n<p>3147 rows × 56 columns</p>\n</div>"
     },
     "execution_count": 12,
     "metadata": {},
     "output_type": "execute_result"
    }
   ],
   "source": [
    "dataset"
   ],
   "metadata": {
    "collapsed": false,
    "pycharm": {
     "name": "#%%\n"
    }
   }
  },
  {
   "cell_type": "markdown",
   "source": [
    "### 1) Predict each energy"
   ],
   "metadata": {
    "collapsed": false,
    "pycharm": {
     "name": "#%% md\n"
    }
   }
  },
  {
   "cell_type": "code",
   "execution_count": 13,
   "outputs": [
    {
     "name": "stdout",
     "output_type": "stream",
     "text": [
      "Step : 0 steam\n",
      "Step : 1 electricity\n",
      "Step : 2 gas\n",
      "Step : 3 total_energy\n"
     ]
    },
    {
     "data": {
      "text/plain": "      Log-SteamUse(kBtu)  Log-Electricity(kBtu)  Log-NaturalGas(kBtu)  \\\n0              13.433270              15.101191             13.840356   \n1               0.820941              15.090989             13.924869   \n2              13.953497              17.477129             14.844642   \n3               0.603927              15.555330             11.665644   \n4              11.798197              15.732164             10.142128   \n...                  ...                    ...                   ...   \n3142            0.100415              14.958304             11.901426   \n3143            0.000000              14.420412             10.942769   \n3144            0.231586              16.336266             14.065565   \n3145            0.000000              14.983027             13.481304   \n3146            0.000000              14.885985             13.128232   \n\n      Log-TotalEnergy(kBtu)  \n0                 15.895193  \n1                 15.710253  \n2                 18.056078  \n3                 16.020353  \n4                 15.950182  \n...                     ...  \n3142              15.324675  \n3143              14.759732  \n3144              17.094656  \n3145              15.337204  \n3146              15.246939  \n\n[3147 rows x 4 columns]",
      "text/html": "<div>\n<style scoped>\n    .dataframe tbody tr th:only-of-type {\n        vertical-align: middle;\n    }\n\n    .dataframe tbody tr th {\n        vertical-align: top;\n    }\n\n    .dataframe thead th {\n        text-align: right;\n    }\n</style>\n<table border=\"1\" class=\"dataframe\">\n  <thead>\n    <tr style=\"text-align: right;\">\n      <th></th>\n      <th>Log-SteamUse(kBtu)</th>\n      <th>Log-Electricity(kBtu)</th>\n      <th>Log-NaturalGas(kBtu)</th>\n      <th>Log-TotalEnergy(kBtu)</th>\n    </tr>\n  </thead>\n  <tbody>\n    <tr>\n      <th>0</th>\n      <td>13.433270</td>\n      <td>15.101191</td>\n      <td>13.840356</td>\n      <td>15.895193</td>\n    </tr>\n    <tr>\n      <th>1</th>\n      <td>0.820941</td>\n      <td>15.090989</td>\n      <td>13.924869</td>\n      <td>15.710253</td>\n    </tr>\n    <tr>\n      <th>2</th>\n      <td>13.953497</td>\n      <td>17.477129</td>\n      <td>14.844642</td>\n      <td>18.056078</td>\n    </tr>\n    <tr>\n      <th>3</th>\n      <td>0.603927</td>\n      <td>15.555330</td>\n      <td>11.665644</td>\n      <td>16.020353</td>\n    </tr>\n    <tr>\n      <th>4</th>\n      <td>11.798197</td>\n      <td>15.732164</td>\n      <td>10.142128</td>\n      <td>15.950182</td>\n    </tr>\n    <tr>\n      <th>...</th>\n      <td>...</td>\n      <td>...</td>\n      <td>...</td>\n      <td>...</td>\n    </tr>\n    <tr>\n      <th>3142</th>\n      <td>0.100415</td>\n      <td>14.958304</td>\n      <td>11.901426</td>\n      <td>15.324675</td>\n    </tr>\n    <tr>\n      <th>3143</th>\n      <td>0.000000</td>\n      <td>14.420412</td>\n      <td>10.942769</td>\n      <td>14.759732</td>\n    </tr>\n    <tr>\n      <th>3144</th>\n      <td>0.231586</td>\n      <td>16.336266</td>\n      <td>14.065565</td>\n      <td>17.094656</td>\n    </tr>\n    <tr>\n      <th>3145</th>\n      <td>0.000000</td>\n      <td>14.983027</td>\n      <td>13.481304</td>\n      <td>15.337204</td>\n    </tr>\n    <tr>\n      <th>3146</th>\n      <td>0.000000</td>\n      <td>14.885985</td>\n      <td>13.128232</td>\n      <td>15.246939</td>\n    </tr>\n  </tbody>\n</table>\n<p>3147 rows × 4 columns</p>\n</div>"
     },
     "metadata": {},
     "output_type": "display_data"
    }
   ],
   "source": [
    "\n",
    "def predict_energies(df_energy, list_energy_dir):\n",
    "    \"\"\"\n",
    "\n",
    "    \"\"\"\n",
    "    for index, energy_dir in enumerate(list_energy_dir):\n",
    "\n",
    "        # we load each best model for each energy features\n",
    "        filename = 'model/{}/best_model_{}.sav'.format(energy_dir, energy_dir)\n",
    "        best_model_energy = pickle.load(open(filename, 'rb'))\n",
    "\n",
    "        y_pred_energy = best_model_energy.predict(df_energy)\n",
    "        series_y_pred = pd.Series(y_pred_energy)\n",
    "        # we put into one Series the prediction of the train set and test set\n",
    "        df_pred = pd.DataFrame(series_y_pred, columns=[all_energy_names[index]])\n",
    "\n",
    "        print(\"Step :\", index, energy_dir)\n",
    "        #display(df_pred) # OK\n",
    "\n",
    "        if index == 0:\n",
    "            df_energy_after = pd.DataFrame({})\n",
    "        df_energy_after = pd.concat([df_energy_after, df_pred], axis=1)\n",
    "\n",
    "    display(df_energy_after)\n",
    "    return df_energy_after\n",
    "\n",
    "dataset_predicted_energies = predict_energies(dataset_energy, all_energy_dir)"
   ],
   "metadata": {
    "collapsed": false,
    "pycharm": {
     "name": "#%%\n"
    }
   }
  },
  {
   "cell_type": "code",
   "execution_count": 14,
   "outputs": [],
   "source": [
    "#dataset[\"Log-TotalGHGEmissions\"].index.unique()"
   ],
   "metadata": {
    "collapsed": false,
    "pycharm": {
     "name": "#%%\n"
    }
   }
  },
  {
   "cell_type": "code",
   "execution_count": 15,
   "outputs": [],
   "source": [
    "#dataset_predicted_energies.index"
   ],
   "metadata": {
    "collapsed": false,
    "pycharm": {
     "name": "#%%\n"
    }
   }
  },
  {
   "cell_type": "code",
   "execution_count": 16,
   "outputs": [
    {
     "data": {
      "text/plain": "      Log-SteamUse(kBtu)  Log-Electricity(kBtu)  Log-NaturalGas(kBtu)  \\\n0              13.433270              15.101191             13.840356   \n1               0.820941              15.090989             13.924869   \n2              13.953497              17.477129             14.844642   \n3               0.603927              15.555330             11.665644   \n4              11.798197              15.732164             10.142128   \n...                  ...                    ...                   ...   \n3142            0.100415              14.958304             11.901426   \n3143            0.000000              14.420412             10.942769   \n3144            0.231586              16.336266             14.065565   \n3145            0.000000              14.983027             13.481304   \n3146            0.000000              14.885985             13.128232   \n\n      Log-TotalEnergy(kBtu)  Log-TotalGHGEmissions  ENERGYSTARScore  \n0                 15.895193               5.525373             60.0  \n1                 15.710253               5.693261             61.0  \n2                 18.056078               7.645053             43.0  \n3                 16.020353               5.713106              NaN  \n4                 15.950182               5.404972              NaN  \n...                     ...                    ...              ...  \n3142              15.324675               5.330397            100.0  \n3143              14.759732               2.776954             84.0  \n3144              17.094656               6.908815              NaN  \n3145              15.337204               4.583947            100.0  \n3146              15.246939               3.142858              NaN  \n\n[3147 rows x 6 columns]",
      "text/html": "<div>\n<style scoped>\n    .dataframe tbody tr th:only-of-type {\n        vertical-align: middle;\n    }\n\n    .dataframe tbody tr th {\n        vertical-align: top;\n    }\n\n    .dataframe thead th {\n        text-align: right;\n    }\n</style>\n<table border=\"1\" class=\"dataframe\">\n  <thead>\n    <tr style=\"text-align: right;\">\n      <th></th>\n      <th>Log-SteamUse(kBtu)</th>\n      <th>Log-Electricity(kBtu)</th>\n      <th>Log-NaturalGas(kBtu)</th>\n      <th>Log-TotalEnergy(kBtu)</th>\n      <th>Log-TotalGHGEmissions</th>\n      <th>ENERGYSTARScore</th>\n    </tr>\n  </thead>\n  <tbody>\n    <tr>\n      <th>0</th>\n      <td>13.433270</td>\n      <td>15.101191</td>\n      <td>13.840356</td>\n      <td>15.895193</td>\n      <td>5.525373</td>\n      <td>60.0</td>\n    </tr>\n    <tr>\n      <th>1</th>\n      <td>0.820941</td>\n      <td>15.090989</td>\n      <td>13.924869</td>\n      <td>15.710253</td>\n      <td>5.693261</td>\n      <td>61.0</td>\n    </tr>\n    <tr>\n      <th>2</th>\n      <td>13.953497</td>\n      <td>17.477129</td>\n      <td>14.844642</td>\n      <td>18.056078</td>\n      <td>7.645053</td>\n      <td>43.0</td>\n    </tr>\n    <tr>\n      <th>3</th>\n      <td>0.603927</td>\n      <td>15.555330</td>\n      <td>11.665644</td>\n      <td>16.020353</td>\n      <td>5.713106</td>\n      <td>NaN</td>\n    </tr>\n    <tr>\n      <th>4</th>\n      <td>11.798197</td>\n      <td>15.732164</td>\n      <td>10.142128</td>\n      <td>15.950182</td>\n      <td>5.404972</td>\n      <td>NaN</td>\n    </tr>\n    <tr>\n      <th>...</th>\n      <td>...</td>\n      <td>...</td>\n      <td>...</td>\n      <td>...</td>\n      <td>...</td>\n      <td>...</td>\n    </tr>\n    <tr>\n      <th>3142</th>\n      <td>0.100415</td>\n      <td>14.958304</td>\n      <td>11.901426</td>\n      <td>15.324675</td>\n      <td>5.330397</td>\n      <td>100.0</td>\n    </tr>\n    <tr>\n      <th>3143</th>\n      <td>0.000000</td>\n      <td>14.420412</td>\n      <td>10.942769</td>\n      <td>14.759732</td>\n      <td>2.776954</td>\n      <td>84.0</td>\n    </tr>\n    <tr>\n      <th>3144</th>\n      <td>0.231586</td>\n      <td>16.336266</td>\n      <td>14.065565</td>\n      <td>17.094656</td>\n      <td>6.908815</td>\n      <td>NaN</td>\n    </tr>\n    <tr>\n      <th>3145</th>\n      <td>0.000000</td>\n      <td>14.983027</td>\n      <td>13.481304</td>\n      <td>15.337204</td>\n      <td>4.583947</td>\n      <td>100.0</td>\n    </tr>\n    <tr>\n      <th>3146</th>\n      <td>0.000000</td>\n      <td>14.885985</td>\n      <td>13.128232</td>\n      <td>15.246939</td>\n      <td>3.142858</td>\n      <td>NaN</td>\n    </tr>\n  </tbody>\n</table>\n<p>3147 rows × 6 columns</p>\n</div>"
     },
     "metadata": {},
     "output_type": "display_data"
    }
   ],
   "source": [
    "dataset_CO2 = pd.concat([dataset_predicted_energies, dataset[\"Log-TotalGHGEmissions\"], dataset[\"ENERGYSTARScore\"]], axis=1)\n",
    "\n",
    "display(dataset_CO2)"
   ],
   "metadata": {
    "collapsed": false,
    "pycharm": {
     "name": "#%%\n"
    }
   }
  },
  {
   "cell_type": "markdown",
   "source": [
    "### 2) Preparing dataset CO2 without ENERGYSTARScore"
   ],
   "metadata": {
    "collapsed": false,
    "pycharm": {
     "name": "#%% md\n"
    }
   }
  },
  {
   "cell_type": "markdown",
   "source": [
    "#### 1) Selection of features"
   ],
   "metadata": {
    "collapsed": false,
    "pycharm": {
     "name": "#%% md\n"
    }
   }
  },
  {
   "cell_type": "code",
   "execution_count": 17,
   "outputs": [
    {
     "data": {
      "text/plain": "['Log-SteamUse(kBtu)',\n 'Log-Electricity(kBtu)',\n 'Log-NaturalGas(kBtu)',\n 'Log-TotalEnergy(kBtu)',\n 'Log-TotalGHGEmissions']"
     },
     "execution_count": 17,
     "metadata": {},
     "output_type": "execute_result"
    }
   ],
   "source": [
    "# liste des variables et étiquettes\n",
    "model_CO2_target = ['Log-TotalGHGEmissions']\n",
    "model_CO2_features = dataset_CO2.columns.tolist()[:-2]\n",
    "#model_CO2_features = ['Log-SteamUse(kBtu)', 'Log-Electricity(kBtu)', 'Log-NaturalGas(kBtu)', 'Log-TotalEnergy(kBtu)']\n",
    "model_CO2 = model_CO2_features + model_CO2_target\n",
    "\n",
    "model_CO2"
   ],
   "metadata": {
    "collapsed": false,
    "pycharm": {
     "name": "#%%\n"
    }
   }
  },
  {
   "cell_type": "markdown",
   "source": [
    "#### 2) Separation train and test dataset\n"
   ],
   "metadata": {
    "collapsed": false,
    "pycharm": {
     "name": "#%% md\n"
    }
   }
  },
  {
   "cell_type": "code",
   "execution_count": 18,
   "outputs": [
    {
     "data": {
      "text/plain": "      Log-SteamUse(kBtu)  Log-Electricity(kBtu)  Log-NaturalGas(kBtu)  \\\n1008            0.000000              13.448071              4.381390   \n1784            0.000000              12.415562             11.690739   \n1563            0.000000              14.563994              1.622976   \n452             0.512560              13.693683              9.180675   \n1561            0.000000              13.617261              1.517397   \n...                  ...                    ...                   ...   \n2763            0.081262              13.789087              9.567516   \n905             0.000000              13.567349              7.850429   \n1096            0.000000              13.076702             12.619469   \n235             0.000000              14.675672             11.805671   \n1061            1.161951              13.949873              8.214270   \n\n      Log-TotalEnergy(kBtu)  Log-TotalGHGEmissions  ENERGYSTARScore  \n1008              13.547426               1.865629             60.0  \n1784              13.378095               3.089223             90.0  \n1563              14.555510               2.585506             98.0  \n452               13.874565               3.421653              NaN  \n1561              13.492342               1.536867             82.0  \n...                     ...                    ...              ...  \n2763              14.113312               3.639689             47.0  \n905               13.880654               1.291984             53.0  \n1096              14.301472               3.507058             63.0  \n235               15.172963               4.321613              NaN  \n1061              14.338427               2.214846              NaN  \n\n[2202 rows x 6 columns]",
      "text/html": "<div>\n<style scoped>\n    .dataframe tbody tr th:only-of-type {\n        vertical-align: middle;\n    }\n\n    .dataframe tbody tr th {\n        vertical-align: top;\n    }\n\n    .dataframe thead th {\n        text-align: right;\n    }\n</style>\n<table border=\"1\" class=\"dataframe\">\n  <thead>\n    <tr style=\"text-align: right;\">\n      <th></th>\n      <th>Log-SteamUse(kBtu)</th>\n      <th>Log-Electricity(kBtu)</th>\n      <th>Log-NaturalGas(kBtu)</th>\n      <th>Log-TotalEnergy(kBtu)</th>\n      <th>Log-TotalGHGEmissions</th>\n      <th>ENERGYSTARScore</th>\n    </tr>\n  </thead>\n  <tbody>\n    <tr>\n      <th>1008</th>\n      <td>0.000000</td>\n      <td>13.448071</td>\n      <td>4.381390</td>\n      <td>13.547426</td>\n      <td>1.865629</td>\n      <td>60.0</td>\n    </tr>\n    <tr>\n      <th>1784</th>\n      <td>0.000000</td>\n      <td>12.415562</td>\n      <td>11.690739</td>\n      <td>13.378095</td>\n      <td>3.089223</td>\n      <td>90.0</td>\n    </tr>\n    <tr>\n      <th>1563</th>\n      <td>0.000000</td>\n      <td>14.563994</td>\n      <td>1.622976</td>\n      <td>14.555510</td>\n      <td>2.585506</td>\n      <td>98.0</td>\n    </tr>\n    <tr>\n      <th>452</th>\n      <td>0.512560</td>\n      <td>13.693683</td>\n      <td>9.180675</td>\n      <td>13.874565</td>\n      <td>3.421653</td>\n      <td>NaN</td>\n    </tr>\n    <tr>\n      <th>1561</th>\n      <td>0.000000</td>\n      <td>13.617261</td>\n      <td>1.517397</td>\n      <td>13.492342</td>\n      <td>1.536867</td>\n      <td>82.0</td>\n    </tr>\n    <tr>\n      <th>...</th>\n      <td>...</td>\n      <td>...</td>\n      <td>...</td>\n      <td>...</td>\n      <td>...</td>\n      <td>...</td>\n    </tr>\n    <tr>\n      <th>2763</th>\n      <td>0.081262</td>\n      <td>13.789087</td>\n      <td>9.567516</td>\n      <td>14.113312</td>\n      <td>3.639689</td>\n      <td>47.0</td>\n    </tr>\n    <tr>\n      <th>905</th>\n      <td>0.000000</td>\n      <td>13.567349</td>\n      <td>7.850429</td>\n      <td>13.880654</td>\n      <td>1.291984</td>\n      <td>53.0</td>\n    </tr>\n    <tr>\n      <th>1096</th>\n      <td>0.000000</td>\n      <td>13.076702</td>\n      <td>12.619469</td>\n      <td>14.301472</td>\n      <td>3.507058</td>\n      <td>63.0</td>\n    </tr>\n    <tr>\n      <th>235</th>\n      <td>0.000000</td>\n      <td>14.675672</td>\n      <td>11.805671</td>\n      <td>15.172963</td>\n      <td>4.321613</td>\n      <td>NaN</td>\n    </tr>\n    <tr>\n      <th>1061</th>\n      <td>1.161951</td>\n      <td>13.949873</td>\n      <td>8.214270</td>\n      <td>14.338427</td>\n      <td>2.214846</td>\n      <td>NaN</td>\n    </tr>\n  </tbody>\n</table>\n<p>2202 rows × 6 columns</p>\n</div>"
     },
     "execution_count": 18,
     "metadata": {},
     "output_type": "execute_result"
    }
   ],
   "source": [
    "# We create a training set and a test set (the test set contains 30% of the dataset)\n",
    "train_common, test_common = train_test_split(dataset_CO2, test_size=0.3,  random_state=seed)\n",
    "\n",
    "train_common"
   ],
   "metadata": {
    "collapsed": false,
    "pycharm": {
     "name": "#%%\n"
    }
   }
  },
  {
   "cell_type": "code",
   "execution_count": 19,
   "outputs": [],
   "source": [
    "# Selection des variables pour modélisation CO2\n",
    "train_CO2, test_CO2 = train_common[model_CO2], test_common[model_CO2]"
   ],
   "metadata": {
    "collapsed": false,
    "pycharm": {
     "name": "#%%\n"
    }
   }
  },
  {
   "cell_type": "code",
   "execution_count": 20,
   "outputs": [
    {
     "data": {
      "text/plain": "      Log-SteamUse(kBtu)  Log-Electricity(kBtu)  Log-NaturalGas(kBtu)  \\\n1008            0.000000              13.448071              4.381390   \n1784            0.000000              12.415562             11.690739   \n1563            0.000000              14.563994              1.622976   \n452             0.512560              13.693683              9.180675   \n1561            0.000000              13.617261              1.517397   \n...                  ...                    ...                   ...   \n2763            0.081262              13.789087              9.567516   \n905             0.000000              13.567349              7.850429   \n1096            0.000000              13.076702             12.619469   \n235             0.000000              14.675672             11.805671   \n1061            1.161951              13.949873              8.214270   \n\n      Log-TotalEnergy(kBtu)  Log-TotalGHGEmissions  \n1008              13.547426               1.865629  \n1784              13.378095               3.089223  \n1563              14.555510               2.585506  \n452               13.874565               3.421653  \n1561              13.492342               1.536867  \n...                     ...                    ...  \n2763              14.113312               3.639689  \n905               13.880654               1.291984  \n1096              14.301472               3.507058  \n235               15.172963               4.321613  \n1061              14.338427               2.214846  \n\n[2202 rows x 5 columns]",
      "text/html": "<div>\n<style scoped>\n    .dataframe tbody tr th:only-of-type {\n        vertical-align: middle;\n    }\n\n    .dataframe tbody tr th {\n        vertical-align: top;\n    }\n\n    .dataframe thead th {\n        text-align: right;\n    }\n</style>\n<table border=\"1\" class=\"dataframe\">\n  <thead>\n    <tr style=\"text-align: right;\">\n      <th></th>\n      <th>Log-SteamUse(kBtu)</th>\n      <th>Log-Electricity(kBtu)</th>\n      <th>Log-NaturalGas(kBtu)</th>\n      <th>Log-TotalEnergy(kBtu)</th>\n      <th>Log-TotalGHGEmissions</th>\n    </tr>\n  </thead>\n  <tbody>\n    <tr>\n      <th>1008</th>\n      <td>0.000000</td>\n      <td>13.448071</td>\n      <td>4.381390</td>\n      <td>13.547426</td>\n      <td>1.865629</td>\n    </tr>\n    <tr>\n      <th>1784</th>\n      <td>0.000000</td>\n      <td>12.415562</td>\n      <td>11.690739</td>\n      <td>13.378095</td>\n      <td>3.089223</td>\n    </tr>\n    <tr>\n      <th>1563</th>\n      <td>0.000000</td>\n      <td>14.563994</td>\n      <td>1.622976</td>\n      <td>14.555510</td>\n      <td>2.585506</td>\n    </tr>\n    <tr>\n      <th>452</th>\n      <td>0.512560</td>\n      <td>13.693683</td>\n      <td>9.180675</td>\n      <td>13.874565</td>\n      <td>3.421653</td>\n    </tr>\n    <tr>\n      <th>1561</th>\n      <td>0.000000</td>\n      <td>13.617261</td>\n      <td>1.517397</td>\n      <td>13.492342</td>\n      <td>1.536867</td>\n    </tr>\n    <tr>\n      <th>...</th>\n      <td>...</td>\n      <td>...</td>\n      <td>...</td>\n      <td>...</td>\n      <td>...</td>\n    </tr>\n    <tr>\n      <th>2763</th>\n      <td>0.081262</td>\n      <td>13.789087</td>\n      <td>9.567516</td>\n      <td>14.113312</td>\n      <td>3.639689</td>\n    </tr>\n    <tr>\n      <th>905</th>\n      <td>0.000000</td>\n      <td>13.567349</td>\n      <td>7.850429</td>\n      <td>13.880654</td>\n      <td>1.291984</td>\n    </tr>\n    <tr>\n      <th>1096</th>\n      <td>0.000000</td>\n      <td>13.076702</td>\n      <td>12.619469</td>\n      <td>14.301472</td>\n      <td>3.507058</td>\n    </tr>\n    <tr>\n      <th>235</th>\n      <td>0.000000</td>\n      <td>14.675672</td>\n      <td>11.805671</td>\n      <td>15.172963</td>\n      <td>4.321613</td>\n    </tr>\n    <tr>\n      <th>1061</th>\n      <td>1.161951</td>\n      <td>13.949873</td>\n      <td>8.214270</td>\n      <td>14.338427</td>\n      <td>2.214846</td>\n    </tr>\n  </tbody>\n</table>\n<p>2202 rows × 5 columns</p>\n</div>"
     },
     "execution_count": 20,
     "metadata": {},
     "output_type": "execute_result"
    }
   ],
   "source": [
    "train_CO2"
   ],
   "metadata": {
    "collapsed": false,
    "pycharm": {
     "name": "#%%\n"
    }
   }
  },
  {
   "cell_type": "markdown",
   "source": [
    "#### 3) Standardization of numerical variables"
   ],
   "metadata": {
    "collapsed": false,
    "pycharm": {
     "name": "#%% md\n"
    }
   }
  },
  {
   "cell_type": "code",
   "execution_count": 21,
   "outputs": [
    {
     "data": {
      "text/plain": "      Log-SteamUse(kBtu)  Log-Electricity(kBtu)  Log-NaturalGas(kBtu)  \\\n1008            0.000000              13.448071              4.381390   \n1784            0.000000              12.415562             11.690739   \n1563            0.000000              14.563994              1.622976   \n452             0.512560              13.693683              9.180675   \n1561            0.000000              13.617261              1.517397   \n...                  ...                    ...                   ...   \n2763            0.081262              13.789087              9.567516   \n905             0.000000              13.567349              7.850429   \n1096            0.000000              13.076702             12.619469   \n235             0.000000              14.675672             11.805671   \n1061            1.161951              13.949873              8.214270   \n\n      Log-TotalEnergy(kBtu)  \n1008              13.547426  \n1784              13.378095  \n1563              14.555510  \n452               13.874565  \n1561              13.492342  \n...                     ...  \n2763              14.113312  \n905               13.880654  \n1096              14.301472  \n235               15.172963  \n1061              14.338427  \n\n[2202 rows x 4 columns]",
      "text/html": "<div>\n<style scoped>\n    .dataframe tbody tr th:only-of-type {\n        vertical-align: middle;\n    }\n\n    .dataframe tbody tr th {\n        vertical-align: top;\n    }\n\n    .dataframe thead th {\n        text-align: right;\n    }\n</style>\n<table border=\"1\" class=\"dataframe\">\n  <thead>\n    <tr style=\"text-align: right;\">\n      <th></th>\n      <th>Log-SteamUse(kBtu)</th>\n      <th>Log-Electricity(kBtu)</th>\n      <th>Log-NaturalGas(kBtu)</th>\n      <th>Log-TotalEnergy(kBtu)</th>\n    </tr>\n  </thead>\n  <tbody>\n    <tr>\n      <th>1008</th>\n      <td>0.000000</td>\n      <td>13.448071</td>\n      <td>4.381390</td>\n      <td>13.547426</td>\n    </tr>\n    <tr>\n      <th>1784</th>\n      <td>0.000000</td>\n      <td>12.415562</td>\n      <td>11.690739</td>\n      <td>13.378095</td>\n    </tr>\n    <tr>\n      <th>1563</th>\n      <td>0.000000</td>\n      <td>14.563994</td>\n      <td>1.622976</td>\n      <td>14.555510</td>\n    </tr>\n    <tr>\n      <th>452</th>\n      <td>0.512560</td>\n      <td>13.693683</td>\n      <td>9.180675</td>\n      <td>13.874565</td>\n    </tr>\n    <tr>\n      <th>1561</th>\n      <td>0.000000</td>\n      <td>13.617261</td>\n      <td>1.517397</td>\n      <td>13.492342</td>\n    </tr>\n    <tr>\n      <th>...</th>\n      <td>...</td>\n      <td>...</td>\n      <td>...</td>\n      <td>...</td>\n    </tr>\n    <tr>\n      <th>2763</th>\n      <td>0.081262</td>\n      <td>13.789087</td>\n      <td>9.567516</td>\n      <td>14.113312</td>\n    </tr>\n    <tr>\n      <th>905</th>\n      <td>0.000000</td>\n      <td>13.567349</td>\n      <td>7.850429</td>\n      <td>13.880654</td>\n    </tr>\n    <tr>\n      <th>1096</th>\n      <td>0.000000</td>\n      <td>13.076702</td>\n      <td>12.619469</td>\n      <td>14.301472</td>\n    </tr>\n    <tr>\n      <th>235</th>\n      <td>0.000000</td>\n      <td>14.675672</td>\n      <td>11.805671</td>\n      <td>15.172963</td>\n    </tr>\n    <tr>\n      <th>1061</th>\n      <td>1.161951</td>\n      <td>13.949873</td>\n      <td>8.214270</td>\n      <td>14.338427</td>\n    </tr>\n  </tbody>\n</table>\n<p>2202 rows × 4 columns</p>\n</div>"
     },
     "execution_count": 21,
     "metadata": {},
     "output_type": "execute_result"
    }
   ],
   "source": [
    "train_CO2[model_CO2_features]"
   ],
   "metadata": {
    "collapsed": false,
    "pycharm": {
     "name": "#%%\n"
    }
   }
  },
  {
   "cell_type": "code",
   "execution_count": 22,
   "outputs": [],
   "source": [
    "# We train / fit the scaler on the training set / Computes the mean and std to be used for later scaling.\n",
    "std_scaler_CO2 = StandardScaler().fit(train_CO2[model_CO2_features])\n",
    "# We transform the training set and the testing set / Performs standardization by centering and scaling.\n",
    "train_CO2_std, test_CO2_std = train_CO2.copy(), test_CO2.copy()\n",
    "\n",
    "train_CO2_std[model_CO2_features] = std_scaler_CO2.transform(train_CO2[model_CO2_features])\n",
    "test_CO2_std[model_CO2_features] = std_scaler_CO2.transform(test_CO2[model_CO2_features])"
   ],
   "metadata": {
    "collapsed": false,
    "pycharm": {
     "name": "#%%\n"
    }
   }
  },
  {
   "cell_type": "code",
   "execution_count": 23,
   "outputs": [
    {
     "name": "stdout",
     "output_type": "stream",
     "text": [
      "Before\n"
     ]
    },
    {
     "data": {
      "text/plain": "      Log-SteamUse(kBtu)  Log-Electricity(kBtu)  Log-NaturalGas(kBtu)  \\\n1008            0.000000              13.448071              4.381390   \n1784            0.000000              12.415562             11.690739   \n1563            0.000000              14.563994              1.622976   \n452             0.512560              13.693683              9.180675   \n1561            0.000000              13.617261              1.517397   \n...                  ...                    ...                   ...   \n2763            0.081262              13.789087              9.567516   \n905             0.000000              13.567349              7.850429   \n1096            0.000000              13.076702             12.619469   \n235             0.000000              14.675672             11.805671   \n1061            1.161951              13.949873              8.214270   \n\n      Log-TotalEnergy(kBtu)  Log-TotalGHGEmissions  \n1008              13.547426               1.865629  \n1784              13.378095               3.089223  \n1563              14.555510               2.585506  \n452               13.874565               3.421653  \n1561              13.492342               1.536867  \n...                     ...                    ...  \n2763              14.113312               3.639689  \n905               13.880654               1.291984  \n1096              14.301472               3.507058  \n235               15.172963               4.321613  \n1061              14.338427               2.214846  \n\n[2202 rows x 5 columns]",
      "text/html": "<div>\n<style scoped>\n    .dataframe tbody tr th:only-of-type {\n        vertical-align: middle;\n    }\n\n    .dataframe tbody tr th {\n        vertical-align: top;\n    }\n\n    .dataframe thead th {\n        text-align: right;\n    }\n</style>\n<table border=\"1\" class=\"dataframe\">\n  <thead>\n    <tr style=\"text-align: right;\">\n      <th></th>\n      <th>Log-SteamUse(kBtu)</th>\n      <th>Log-Electricity(kBtu)</th>\n      <th>Log-NaturalGas(kBtu)</th>\n      <th>Log-TotalEnergy(kBtu)</th>\n      <th>Log-TotalGHGEmissions</th>\n    </tr>\n  </thead>\n  <tbody>\n    <tr>\n      <th>1008</th>\n      <td>0.000000</td>\n      <td>13.448071</td>\n      <td>4.381390</td>\n      <td>13.547426</td>\n      <td>1.865629</td>\n    </tr>\n    <tr>\n      <th>1784</th>\n      <td>0.000000</td>\n      <td>12.415562</td>\n      <td>11.690739</td>\n      <td>13.378095</td>\n      <td>3.089223</td>\n    </tr>\n    <tr>\n      <th>1563</th>\n      <td>0.000000</td>\n      <td>14.563994</td>\n      <td>1.622976</td>\n      <td>14.555510</td>\n      <td>2.585506</td>\n    </tr>\n    <tr>\n      <th>452</th>\n      <td>0.512560</td>\n      <td>13.693683</td>\n      <td>9.180675</td>\n      <td>13.874565</td>\n      <td>3.421653</td>\n    </tr>\n    <tr>\n      <th>1561</th>\n      <td>0.000000</td>\n      <td>13.617261</td>\n      <td>1.517397</td>\n      <td>13.492342</td>\n      <td>1.536867</td>\n    </tr>\n    <tr>\n      <th>...</th>\n      <td>...</td>\n      <td>...</td>\n      <td>...</td>\n      <td>...</td>\n      <td>...</td>\n    </tr>\n    <tr>\n      <th>2763</th>\n      <td>0.081262</td>\n      <td>13.789087</td>\n      <td>9.567516</td>\n      <td>14.113312</td>\n      <td>3.639689</td>\n    </tr>\n    <tr>\n      <th>905</th>\n      <td>0.000000</td>\n      <td>13.567349</td>\n      <td>7.850429</td>\n      <td>13.880654</td>\n      <td>1.291984</td>\n    </tr>\n    <tr>\n      <th>1096</th>\n      <td>0.000000</td>\n      <td>13.076702</td>\n      <td>12.619469</td>\n      <td>14.301472</td>\n      <td>3.507058</td>\n    </tr>\n    <tr>\n      <th>235</th>\n      <td>0.000000</td>\n      <td>14.675672</td>\n      <td>11.805671</td>\n      <td>15.172963</td>\n      <td>4.321613</td>\n    </tr>\n    <tr>\n      <th>1061</th>\n      <td>1.161951</td>\n      <td>13.949873</td>\n      <td>8.214270</td>\n      <td>14.338427</td>\n      <td>2.214846</td>\n    </tr>\n  </tbody>\n</table>\n<p>2202 rows × 5 columns</p>\n</div>"
     },
     "metadata": {},
     "output_type": "display_data"
    },
    {
     "name": "stdout",
     "output_type": "stream",
     "text": [
      "After\n"
     ]
    },
    {
     "data": {
      "text/plain": "      Log-SteamUse(kBtu)  Log-Electricity(kBtu)  Log-NaturalGas(kBtu)  \\\n1008           -0.272743              -0.648469             -1.068137   \n1784           -0.272743              -1.573642              0.828958   \n1563           -0.272743               0.351445             -1.784066   \n452            -0.018022              -0.428391              0.177487   \n1561           -0.272743              -0.496868             -1.811469   \n...                  ...                    ...                   ...   \n2763           -0.232359              -0.342904              0.277889   \n905            -0.272743              -0.541591             -0.167770   \n1096           -0.272743              -0.981232              1.070004   \n235            -0.272743               0.451513              0.858788   \n1061            0.304699              -0.198834             -0.073337   \n\n      Log-TotalEnergy(kBtu)  Log-TotalGHGEmissions  \n1008              -0.999833               1.865629  \n1784              -1.161182               3.089223  \n1563              -0.039272               2.585506  \n452               -0.688116               3.421653  \n1561              -1.052320               1.536867  \n...                     ...                    ...  \n2763              -0.460624               3.639689  \n905               -0.682313               1.291984  \n1096              -0.281334               3.507058  \n235                0.549074               4.321613  \n1061              -0.246121               2.214846  \n\n[2202 rows x 5 columns]",
      "text/html": "<div>\n<style scoped>\n    .dataframe tbody tr th:only-of-type {\n        vertical-align: middle;\n    }\n\n    .dataframe tbody tr th {\n        vertical-align: top;\n    }\n\n    .dataframe thead th {\n        text-align: right;\n    }\n</style>\n<table border=\"1\" class=\"dataframe\">\n  <thead>\n    <tr style=\"text-align: right;\">\n      <th></th>\n      <th>Log-SteamUse(kBtu)</th>\n      <th>Log-Electricity(kBtu)</th>\n      <th>Log-NaturalGas(kBtu)</th>\n      <th>Log-TotalEnergy(kBtu)</th>\n      <th>Log-TotalGHGEmissions</th>\n    </tr>\n  </thead>\n  <tbody>\n    <tr>\n      <th>1008</th>\n      <td>-0.272743</td>\n      <td>-0.648469</td>\n      <td>-1.068137</td>\n      <td>-0.999833</td>\n      <td>1.865629</td>\n    </tr>\n    <tr>\n      <th>1784</th>\n      <td>-0.272743</td>\n      <td>-1.573642</td>\n      <td>0.828958</td>\n      <td>-1.161182</td>\n      <td>3.089223</td>\n    </tr>\n    <tr>\n      <th>1563</th>\n      <td>-0.272743</td>\n      <td>0.351445</td>\n      <td>-1.784066</td>\n      <td>-0.039272</td>\n      <td>2.585506</td>\n    </tr>\n    <tr>\n      <th>452</th>\n      <td>-0.018022</td>\n      <td>-0.428391</td>\n      <td>0.177487</td>\n      <td>-0.688116</td>\n      <td>3.421653</td>\n    </tr>\n    <tr>\n      <th>1561</th>\n      <td>-0.272743</td>\n      <td>-0.496868</td>\n      <td>-1.811469</td>\n      <td>-1.052320</td>\n      <td>1.536867</td>\n    </tr>\n    <tr>\n      <th>...</th>\n      <td>...</td>\n      <td>...</td>\n      <td>...</td>\n      <td>...</td>\n      <td>...</td>\n    </tr>\n    <tr>\n      <th>2763</th>\n      <td>-0.232359</td>\n      <td>-0.342904</td>\n      <td>0.277889</td>\n      <td>-0.460624</td>\n      <td>3.639689</td>\n    </tr>\n    <tr>\n      <th>905</th>\n      <td>-0.272743</td>\n      <td>-0.541591</td>\n      <td>-0.167770</td>\n      <td>-0.682313</td>\n      <td>1.291984</td>\n    </tr>\n    <tr>\n      <th>1096</th>\n      <td>-0.272743</td>\n      <td>-0.981232</td>\n      <td>1.070004</td>\n      <td>-0.281334</td>\n      <td>3.507058</td>\n    </tr>\n    <tr>\n      <th>235</th>\n      <td>-0.272743</td>\n      <td>0.451513</td>\n      <td>0.858788</td>\n      <td>0.549074</td>\n      <td>4.321613</td>\n    </tr>\n    <tr>\n      <th>1061</th>\n      <td>0.304699</td>\n      <td>-0.198834</td>\n      <td>-0.073337</td>\n      <td>-0.246121</td>\n      <td>2.214846</td>\n    </tr>\n  </tbody>\n</table>\n<p>2202 rows × 5 columns</p>\n</div>"
     },
     "metadata": {},
     "output_type": "display_data"
    }
   ],
   "source": [
    "print(\"Before\")\n",
    "display(train_CO2)\n",
    "print(\"After\")\n",
    "display(train_CO2_std)"
   ],
   "metadata": {
    "collapsed": false,
    "pycharm": {
     "name": "#%%\n"
    }
   }
  },
  {
   "cell_type": "markdown",
   "source": [
    "#### 4) Distribution of variables"
   ],
   "metadata": {
    "collapsed": false,
    "pycharm": {
     "name": "#%% md\n"
    }
   }
  },
  {
   "cell_type": "code",
   "execution_count": 24,
   "outputs": [
    {
     "data": {
      "text/plain": "<Figure size 576x360 with 1 Axes>",
      "image/png": "[encoded data removed]"
     },
     "metadata": {
      "needs_background": "light"
     },
     "output_type": "display_data"
    }
   ],
   "source": [
    "# Distribution des variables du jeu d'entrainement\n",
    "plt.figure(figsize=(8,5))\n",
    "plt.title('Données d\\'entrainement pour la modélisation des émissions de CO2')\n",
    "bp = sns.boxplot(x='value', y='variable', data=pd.melt(train_CO2_std), palette='bright',\n",
    "                 flierprops=dict(markersize=1, markerfacecolor='gray'))\n",
    "bp.set_xlabel(\"\")\n",
    "bp.set_ylabel(\"\")\n",
    "plt.show()"
   ],
   "metadata": {
    "collapsed": false,
    "pycharm": {
     "name": "#%%\n"
    }
   }
  },
  {
   "cell_type": "markdown",
   "source": [
    "#### 5) Saving dataset"
   ],
   "metadata": {
    "collapsed": false,
    "pycharm": {
     "name": "#%% md\n"
    }
   }
  },
  {
   "cell_type": "code",
   "execution_count": 25,
   "outputs": [],
   "source": [
    "path_save_CO2 = \"dataset/CO2/\"\n",
    "\n",
    "# Sauvegarde des jeux de données\n",
    "train_CO2_std.to_csv(\"{}{}\".format(path_save_CO2, \"train_CO2.csv\"), encoding='utf-8', index=False)\n",
    "test_CO2_std.to_csv(\"{}{}\".format(path_save_CO2, \"test_CO2.csv\"), encoding='utf-8', index=False)\n",
    "\n",
    "# Sauvegarde du modèle pour standardiser\n",
    "model = {'scaler': std_scaler_CO2, 'scaler_features': model_CO2_features}\n",
    "filename = 'model/scaler_CO2.sav'\n",
    "pickle.dump(model, open(filename, 'wb'))"
   ],
   "metadata": {
    "collapsed": false,
    "pycharm": {
     "name": "#%%\n"
    }
   }
  },
  {
   "cell_type": "markdown",
   "source": [
    "### 3) Preparing dataset CO2 with ENERGYSTARScore"
   ],
   "metadata": {
    "collapsed": false,
    "pycharm": {
     "name": "#%% md\n"
    }
   }
  },
  {
   "cell_type": "markdown",
   "source": [
    "#### 1) Selection of features"
   ],
   "metadata": {
    "collapsed": false,
    "pycharm": {
     "name": "#%% md\n"
    }
   }
  },
  {
   "cell_type": "code",
   "execution_count": 26,
   "outputs": [
    {
     "data": {
      "text/plain": "['Log-SteamUse(kBtu)',\n 'Log-Electricity(kBtu)',\n 'Log-NaturalGas(kBtu)',\n 'Log-TotalEnergy(kBtu)',\n 'ENERGYSTARScore',\n 'Log-TotalGHGEmissions']"
     },
     "execution_count": 26,
     "metadata": {},
     "output_type": "execute_result"
    }
   ],
   "source": [
    "# Liste des variables et étiquettes pour la modélisation\n",
    "model_EnergyStarScore_target = ['Log-TotalGHGEmissions']\n",
    "model_EnergyStarScore_features = model_CO2_features + ['ENERGYSTARScore']\n",
    "model_EnergyStarScore = model_EnergyStarScore_features + model_EnergyStarScore_target\n",
    "\n",
    "model_EnergyStarScore"
   ],
   "metadata": {
    "collapsed": false,
    "pycharm": {
     "name": "#%%\n"
    }
   }
  },
  {
   "cell_type": "markdown",
   "source": [
    "#### 2) Separation train and test dataset\n"
   ],
   "metadata": {
    "collapsed": false,
    "pycharm": {
     "name": "#%% md\n"
    }
   }
  },
  {
   "cell_type": "code",
   "execution_count": 27,
   "outputs": [
    {
     "data": {
      "text/plain": "      Log-SteamUse(kBtu)  Log-Electricity(kBtu)  Log-NaturalGas(kBtu)  \\\n920             0.000000              15.516685             13.467231   \n2752            0.000000              12.632865             10.385438   \n478             0.000000              14.251281              1.961806   \n679             0.000000              12.819279             11.502287   \n147             1.401288              17.516304              4.691753   \n...                  ...                    ...                   ...   \n1296            0.000000              13.209440              0.176087   \n1219            0.000000              13.861011              8.280871   \n1483            0.027089              12.544075             11.923407   \n330             0.543223              15.024944              9.964292   \n1436            0.000000              12.528109              5.008014   \n\n      Log-TotalEnergy(kBtu)  Log-TotalGHGEmissions  ENERGYSTARScore  \n920               15.942636               5.486414             89.0  \n2752              13.320335               3.322515             52.0  \n478               14.295299               2.540026             59.0  \n679               13.732145               3.033028             92.0  \n147               17.631159               5.825912             69.0  \n...                     ...                    ...              ...  \n1296              13.302039               1.499623             77.0  \n1219              14.407993               4.120175            100.0  \n1483              13.773218               3.884446             80.0  \n330               15.191804               4.248781             89.0  \n1436              13.536949               1.350667             96.0  \n\n[1659 rows x 6 columns]",
      "text/html": "<div>\n<style scoped>\n    .dataframe tbody tr th:only-of-type {\n        vertical-align: middle;\n    }\n\n    .dataframe tbody tr th {\n        vertical-align: top;\n    }\n\n    .dataframe thead th {\n        text-align: right;\n    }\n</style>\n<table border=\"1\" class=\"dataframe\">\n  <thead>\n    <tr style=\"text-align: right;\">\n      <th></th>\n      <th>Log-SteamUse(kBtu)</th>\n      <th>Log-Electricity(kBtu)</th>\n      <th>Log-NaturalGas(kBtu)</th>\n      <th>Log-TotalEnergy(kBtu)</th>\n      <th>Log-TotalGHGEmissions</th>\n      <th>ENERGYSTARScore</th>\n    </tr>\n  </thead>\n  <tbody>\n    <tr>\n      <th>920</th>\n      <td>0.000000</td>\n      <td>15.516685</td>\n      <td>13.467231</td>\n      <td>15.942636</td>\n      <td>5.486414</td>\n      <td>89.0</td>\n    </tr>\n    <tr>\n      <th>2752</th>\n      <td>0.000000</td>\n      <td>12.632865</td>\n      <td>10.385438</td>\n      <td>13.320335</td>\n      <td>3.322515</td>\n      <td>52.0</td>\n    </tr>\n    <tr>\n      <th>478</th>\n      <td>0.000000</td>\n      <td>14.251281</td>\n      <td>1.961806</td>\n      <td>14.295299</td>\n      <td>2.540026</td>\n      <td>59.0</td>\n    </tr>\n    <tr>\n      <th>679</th>\n      <td>0.000000</td>\n      <td>12.819279</td>\n      <td>11.502287</td>\n      <td>13.732145</td>\n      <td>3.033028</td>\n      <td>92.0</td>\n    </tr>\n    <tr>\n      <th>147</th>\n      <td>1.401288</td>\n      <td>17.516304</td>\n      <td>4.691753</td>\n      <td>17.631159</td>\n      <td>5.825912</td>\n      <td>69.0</td>\n    </tr>\n    <tr>\n      <th>...</th>\n      <td>...</td>\n      <td>...</td>\n      <td>...</td>\n      <td>...</td>\n      <td>...</td>\n      <td>...</td>\n    </tr>\n    <tr>\n      <th>1296</th>\n      <td>0.000000</td>\n      <td>13.209440</td>\n      <td>0.176087</td>\n      <td>13.302039</td>\n      <td>1.499623</td>\n      <td>77.0</td>\n    </tr>\n    <tr>\n      <th>1219</th>\n      <td>0.000000</td>\n      <td>13.861011</td>\n      <td>8.280871</td>\n      <td>14.407993</td>\n      <td>4.120175</td>\n      <td>100.0</td>\n    </tr>\n    <tr>\n      <th>1483</th>\n      <td>0.027089</td>\n      <td>12.544075</td>\n      <td>11.923407</td>\n      <td>13.773218</td>\n      <td>3.884446</td>\n      <td>80.0</td>\n    </tr>\n    <tr>\n      <th>330</th>\n      <td>0.543223</td>\n      <td>15.024944</td>\n      <td>9.964292</td>\n      <td>15.191804</td>\n      <td>4.248781</td>\n      <td>89.0</td>\n    </tr>\n    <tr>\n      <th>1436</th>\n      <td>0.000000</td>\n      <td>12.528109</td>\n      <td>5.008014</td>\n      <td>13.536949</td>\n      <td>1.350667</td>\n      <td>96.0</td>\n    </tr>\n  </tbody>\n</table>\n<p>1659 rows × 6 columns</p>\n</div>"
     },
     "execution_count": 27,
     "metadata": {},
     "output_type": "execute_result"
    }
   ],
   "source": [
    "# we drop the buildings for which the EnergyStarScore is missing\n",
    "dataset_clean = dataset_CO2.dropna(axis=0)\n",
    "\n",
    "train_clean, test_clean = train_test_split(dataset_clean, test_size=0.3, random_state=seed)\n",
    "\n",
    "train_clean"
   ],
   "metadata": {
    "collapsed": false,
    "pycharm": {
     "name": "#%%\n"
    }
   }
  },
  {
   "cell_type": "code",
   "execution_count": 28,
   "outputs": [],
   "source": [
    "# Selection des variables pour modélisation CO2\n",
    "train_EnergyStarScore, test_EnergyStarScore = train_clean[model_EnergyStarScore], test_clean[model_EnergyStarScore]"
   ],
   "metadata": {
    "collapsed": false,
    "pycharm": {
     "name": "#%%\n"
    }
   }
  },
  {
   "cell_type": "code",
   "execution_count": 29,
   "outputs": [
    {
     "data": {
      "text/plain": "      Log-SteamUse(kBtu)  Log-Electricity(kBtu)  Log-NaturalGas(kBtu)  \\\n920             0.000000              15.516685             13.467231   \n2752            0.000000              12.632865             10.385438   \n478             0.000000              14.251281              1.961806   \n679             0.000000              12.819279             11.502287   \n147             1.401288              17.516304              4.691753   \n...                  ...                    ...                   ...   \n1296            0.000000              13.209440              0.176087   \n1219            0.000000              13.861011              8.280871   \n1483            0.027089              12.544075             11.923407   \n330             0.543223              15.024944              9.964292   \n1436            0.000000              12.528109              5.008014   \n\n      Log-TotalEnergy(kBtu)  ENERGYSTARScore  Log-TotalGHGEmissions  \n920               15.942636             89.0               5.486414  \n2752              13.320335             52.0               3.322515  \n478               14.295299             59.0               2.540026  \n679               13.732145             92.0               3.033028  \n147               17.631159             69.0               5.825912  \n...                     ...              ...                    ...  \n1296              13.302039             77.0               1.499623  \n1219              14.407993            100.0               4.120175  \n1483              13.773218             80.0               3.884446  \n330               15.191804             89.0               4.248781  \n1436              13.536949             96.0               1.350667  \n\n[1659 rows x 6 columns]",
      "text/html": "<div>\n<style scoped>\n    .dataframe tbody tr th:only-of-type {\n        vertical-align: middle;\n    }\n\n    .dataframe tbody tr th {\n        vertical-align: top;\n    }\n\n    .dataframe thead th {\n        text-align: right;\n    }\n</style>\n<table border=\"1\" class=\"dataframe\">\n  <thead>\n    <tr style=\"text-align: right;\">\n      <th></th>\n      <th>Log-SteamUse(kBtu)</th>\n      <th>Log-Electricity(kBtu)</th>\n      <th>Log-NaturalGas(kBtu)</th>\n      <th>Log-TotalEnergy(kBtu)</th>\n      <th>ENERGYSTARScore</th>\n      <th>Log-TotalGHGEmissions</th>\n    </tr>\n  </thead>\n  <tbody>\n    <tr>\n      <th>920</th>\n      <td>0.000000</td>\n      <td>15.516685</td>\n      <td>13.467231</td>\n      <td>15.942636</td>\n      <td>89.0</td>\n      <td>5.486414</td>\n    </tr>\n    <tr>\n      <th>2752</th>\n      <td>0.000000</td>\n      <td>12.632865</td>\n      <td>10.385438</td>\n      <td>13.320335</td>\n      <td>52.0</td>\n      <td>3.322515</td>\n    </tr>\n    <tr>\n      <th>478</th>\n      <td>0.000000</td>\n      <td>14.251281</td>\n      <td>1.961806</td>\n      <td>14.295299</td>\n      <td>59.0</td>\n      <td>2.540026</td>\n    </tr>\n    <tr>\n      <th>679</th>\n      <td>0.000000</td>\n      <td>12.819279</td>\n      <td>11.502287</td>\n      <td>13.732145</td>\n      <td>92.0</td>\n      <td>3.033028</td>\n    </tr>\n    <tr>\n      <th>147</th>\n      <td>1.401288</td>\n      <td>17.516304</td>\n      <td>4.691753</td>\n      <td>17.631159</td>\n      <td>69.0</td>\n      <td>5.825912</td>\n    </tr>\n    <tr>\n      <th>...</th>\n      <td>...</td>\n      <td>...</td>\n      <td>...</td>\n      <td>...</td>\n      <td>...</td>\n      <td>...</td>\n    </tr>\n    <tr>\n      <th>1296</th>\n      <td>0.000000</td>\n      <td>13.209440</td>\n      <td>0.176087</td>\n      <td>13.302039</td>\n      <td>77.0</td>\n      <td>1.499623</td>\n    </tr>\n    <tr>\n      <th>1219</th>\n      <td>0.000000</td>\n      <td>13.861011</td>\n      <td>8.280871</td>\n      <td>14.407993</td>\n      <td>100.0</td>\n      <td>4.120175</td>\n    </tr>\n    <tr>\n      <th>1483</th>\n      <td>0.027089</td>\n      <td>12.544075</td>\n      <td>11.923407</td>\n      <td>13.773218</td>\n      <td>80.0</td>\n      <td>3.884446</td>\n    </tr>\n    <tr>\n      <th>330</th>\n      <td>0.543223</td>\n      <td>15.024944</td>\n      <td>9.964292</td>\n      <td>15.191804</td>\n      <td>89.0</td>\n      <td>4.248781</td>\n    </tr>\n    <tr>\n      <th>1436</th>\n      <td>0.000000</td>\n      <td>12.528109</td>\n      <td>5.008014</td>\n      <td>13.536949</td>\n      <td>96.0</td>\n      <td>1.350667</td>\n    </tr>\n  </tbody>\n</table>\n<p>1659 rows × 6 columns</p>\n</div>"
     },
     "execution_count": 29,
     "metadata": {},
     "output_type": "execute_result"
    }
   ],
   "source": [
    "train_EnergyStarScore"
   ],
   "metadata": {
    "collapsed": false,
    "pycharm": {
     "name": "#%%\n"
    }
   }
  },
  {
   "cell_type": "markdown",
   "source": [
    "#### 3) Standardization of numerical variables"
   ],
   "metadata": {
    "collapsed": false,
    "pycharm": {
     "name": "#%% md\n"
    }
   }
  },
  {
   "cell_type": "code",
   "execution_count": 30,
   "outputs": [],
   "source": [
    "# We transform the training set and the testing set / Performs standardization by centering and scaling.\n",
    "train_EnergyStarScore_std, test_EnergyStarScore_std = train_EnergyStarScore.copy(), test_EnergyStarScore.copy()\n",
    "\n",
    "std_scaler_EnergyStarScore = StandardScaler()  # other way of writing the scaling\n",
    "train_EnergyStarScore_std[model_EnergyStarScore_features] = std_scaler_EnergyStarScore.fit_transform(\n",
    "    train_EnergyStarScore[model_EnergyStarScore_features])\n",
    "\n",
    "test_EnergyStarScore_std[model_EnergyStarScore_features] = std_scaler_EnergyStarScore.transform(\n",
    "    test_EnergyStarScore[model_EnergyStarScore_features])"
   ],
   "metadata": {
    "collapsed": false,
    "pycharm": {
     "name": "#%%\n"
    }
   }
  },
  {
   "cell_type": "code",
   "execution_count": 31,
   "outputs": [
    {
     "data": {
      "text/plain": "      Log-SteamUse(kBtu)  Log-Electricity(kBtu)  Log-NaturalGas(kBtu)  \\\n920            -0.263290               1.194726              1.312321   \n2752           -0.263290              -1.468029              0.546047   \n478            -0.263290               0.026324             -1.548452   \n679            -0.263290              -1.295906              0.823746   \n147             0.383692               3.041061             -0.869663   \n...                  ...                    ...                   ...   \n1296           -0.263290              -0.935653             -1.992464   \n1219           -0.263290              -0.334030              0.022755   \n1483           -0.250783              -1.550013              0.928456   \n330            -0.012481               0.740681              0.441330   \n1436           -0.263290              -1.564755             -0.791026   \n\n      Log-TotalEnergy(kBtu)  ENERGYSTARScore  Log-TotalGHGEmissions  \n920                1.266266         0.804084               5.486414  \n2752              -1.235245        -0.579475               3.322515  \n478               -0.305191        -0.317721               2.540026  \n679               -0.842404         0.916265               3.033028  \n147                2.877011         0.056214               5.825912  \n...                     ...              ...                    ...  \n1296              -1.252698         0.355362               1.499623  \n1219              -0.197687         1.215413               4.120175  \n1483              -0.803223         0.467543               3.884446  \n330                0.550019         0.804084               4.248781  \n1436              -1.028609         1.065839               1.350667  \n\n[1659 rows x 6 columns]",
      "text/html": "<div>\n<style scoped>\n    .dataframe tbody tr th:only-of-type {\n        vertical-align: middle;\n    }\n\n    .dataframe tbody tr th {\n        vertical-align: top;\n    }\n\n    .dataframe thead th {\n        text-align: right;\n    }\n</style>\n<table border=\"1\" class=\"dataframe\">\n  <thead>\n    <tr style=\"text-align: right;\">\n      <th></th>\n      <th>Log-SteamUse(kBtu)</th>\n      <th>Log-Electricity(kBtu)</th>\n      <th>Log-NaturalGas(kBtu)</th>\n      <th>Log-TotalEnergy(kBtu)</th>\n      <th>ENERGYSTARScore</th>\n      <th>Log-TotalGHGEmissions</th>\n    </tr>\n  </thead>\n  <tbody>\n    <tr>\n      <th>920</th>\n      <td>-0.263290</td>\n      <td>1.194726</td>\n      <td>1.312321</td>\n      <td>1.266266</td>\n      <td>0.804084</td>\n      <td>5.486414</td>\n    </tr>\n    <tr>\n      <th>2752</th>\n      <td>-0.263290</td>\n      <td>-1.468029</td>\n      <td>0.546047</td>\n      <td>-1.235245</td>\n      <td>-0.579475</td>\n      <td>3.322515</td>\n    </tr>\n    <tr>\n      <th>478</th>\n      <td>-0.263290</td>\n      <td>0.026324</td>\n      <td>-1.548452</td>\n      <td>-0.305191</td>\n      <td>-0.317721</td>\n      <td>2.540026</td>\n    </tr>\n    <tr>\n      <th>679</th>\n      <td>-0.263290</td>\n      <td>-1.295906</td>\n      <td>0.823746</td>\n      <td>-0.842404</td>\n      <td>0.916265</td>\n      <td>3.033028</td>\n    </tr>\n    <tr>\n      <th>147</th>\n      <td>0.383692</td>\n      <td>3.041061</td>\n      <td>-0.869663</td>\n      <td>2.877011</td>\n      <td>0.056214</td>\n      <td>5.825912</td>\n    </tr>\n    <tr>\n      <th>...</th>\n      <td>...</td>\n      <td>...</td>\n      <td>...</td>\n      <td>...</td>\n      <td>...</td>\n      <td>...</td>\n    </tr>\n    <tr>\n      <th>1296</th>\n      <td>-0.263290</td>\n      <td>-0.935653</td>\n      <td>-1.992464</td>\n      <td>-1.252698</td>\n      <td>0.355362</td>\n      <td>1.499623</td>\n    </tr>\n    <tr>\n      <th>1219</th>\n      <td>-0.263290</td>\n      <td>-0.334030</td>\n      <td>0.022755</td>\n      <td>-0.197687</td>\n      <td>1.215413</td>\n      <td>4.120175</td>\n    </tr>\n    <tr>\n      <th>1483</th>\n      <td>-0.250783</td>\n      <td>-1.550013</td>\n      <td>0.928456</td>\n      <td>-0.803223</td>\n      <td>0.467543</td>\n      <td>3.884446</td>\n    </tr>\n    <tr>\n      <th>330</th>\n      <td>-0.012481</td>\n      <td>0.740681</td>\n      <td>0.441330</td>\n      <td>0.550019</td>\n      <td>0.804084</td>\n      <td>4.248781</td>\n    </tr>\n    <tr>\n      <th>1436</th>\n      <td>-0.263290</td>\n      <td>-1.564755</td>\n      <td>-0.791026</td>\n      <td>-1.028609</td>\n      <td>1.065839</td>\n      <td>1.350667</td>\n    </tr>\n  </tbody>\n</table>\n<p>1659 rows × 6 columns</p>\n</div>"
     },
     "execution_count": 31,
     "metadata": {},
     "output_type": "execute_result"
    }
   ],
   "source": [
    "train_EnergyStarScore_std"
   ],
   "metadata": {
    "collapsed": false,
    "pycharm": {
     "name": "#%%\n"
    }
   }
  },
  {
   "cell_type": "markdown",
   "source": [
    "#### 4) Distribution of variables"
   ],
   "metadata": {
    "collapsed": false,
    "pycharm": {
     "name": "#%% md\n"
    }
   }
  },
  {
   "cell_type": "code",
   "execution_count": 32,
   "outputs": [
    {
     "data": {
      "text/plain": "<Figure size 576x360 with 1 Axes>",
      "image/png": "[encoded data removed]"
     },
     "metadata": {
      "needs_background": "light"
     },
     "output_type": "display_data"
    }
   ],
   "source": [
    "# Distribution des variables du jeu d'entrainement\n",
    "plt.figure(figsize=(8,5))\n",
    "plt.title('Données d\\'entrainement pour la modélisation des émissions de CO2')\n",
    "bp = sns.boxplot(x='value', y='variable', data=pd.melt(train_EnergyStarScore_std), palette='bright',\n",
    "                 flierprops=dict(markersize=1, markerfacecolor='gray'))\n",
    "bp.set_xlabel(\"\")\n",
    "bp.set_ylabel(\"\")\n",
    "plt.show()"
   ],
   "metadata": {
    "collapsed": false,
    "pycharm": {
     "name": "#%%\n"
    }
   }
  },
  {
   "cell_type": "markdown",
   "source": [
    "#### 5) Saving dataset"
   ],
   "metadata": {
    "collapsed": false,
    "pycharm": {
     "name": "#%% md\n"
    }
   }
  },
  {
   "cell_type": "code",
   "execution_count": 33,
   "outputs": [],
   "source": [
    "path_save_EnergyStarScore = \"dataset/CO2_EnergyStarScore/\"\n",
    "\n",
    "# Sauvegarde des jeux de données\n",
    "train_EnergyStarScore_std.to_csv(\"{}{}\".format(path_save_EnergyStarScore, \"train_EnergyStarScore.csv\"), encoding='utf-8', index=False)\n",
    "test_EnergyStarScore_std.to_csv(\"{}{}\".format(path_save_EnergyStarScore, \"test_EnergyStarScore.csv\"), encoding='utf-8', index=False)\n",
    "\n",
    "# Sauvegarde du modèle pour standardiser\n",
    "model = {'scaler': std_scaler_EnergyStarScore, 'scaler_features': model_EnergyStarScore_features}\n",
    "filename = 'model/scaler_EnergyStarScore.sav'\n",
    "pickle.dump(model, open(filename, 'wb'))"
   ],
   "metadata": {
    "collapsed": false,
    "pycharm": {
     "name": "#%%\n"
    }
   }
  },
  {
   "cell_type": "code",
   "execution_count": 34,
   "outputs": [
    {
     "name": "stdout",
     "output_type": "stream",
     "text": [
      "computing time : 2.682095 sec\n",
      "computing time : 00:00:02\n"
     ]
    }
   ],
   "source": [
    "t1 = time()\n",
    "print(\"computing time : {:8.6f} sec\".format(t1-t0))\n",
    "print(\"computing time : \" + strftime('%H:%M:%S', gmtime(t1-t0)))"
   ],
   "metadata": {
    "collapsed": false,
    "pycharm": {
     "name": "#%%\n"
    }
   }
  }
 ],
 "metadata": {
  "kernelspec": {
   "display_name": "Python 3",
   "language": "python",
   "name": "python3"
  },
  "language_info": {
   "codemirror_mode": {
    "name": "ipython",
    "version": 2
   },
   "file_extension": ".py",
   "mimetype": "text/x-python",
   "name": "python",
   "nbconvert_exporter": "python",
   "pygments_lexer": "ipython2",
   "version": "2.7.6"
  }
 },
 "nbformat": 4,
 "nbformat_minor": 0
}