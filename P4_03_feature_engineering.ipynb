{
 "cells": [
  {
   "cell_type": "markdown",
   "source": [
    "OpenClassrooms\n",
    "Project 4, Data Scientist\n",
    "Author : Oumeima EL GHARBI\n",
    "Date : August 2022"
   ],
   "metadata": {
    "collapsed": false,
    "pycharm": {
     "name": "#%% md\n"
    }
   }
  },
  {
   "cell_type": "markdown",
   "source": [
    "Un notebook pour chaque prédiction (émissions de CO2 et consommation totale d’énergie) des différents tests de modèles mis au propre, dans lequel vous identifierez clairement le modèle final choisi.\n",
    "\n",
    "\n",
    "L’objectif est de te passer des relevés de consommation annuels futurs (attention à la fuite de données). Nous ferons de toute façon pour tout nouveau bâtiment un premier relevé de référence la première année, donc rien ne t'interdit d’en déduire des variables structurelles aux bâtiments, par exemple la nature et proportions des sources d’énergie utilisées..\n",
    "\n",
    "Fais bien attention au traitement des différentes variables, à la fois pour trouver de nouvelles informations (peut-on déduire des choses intéressantes d’une simple adresse ?) et optimiser les performances en appliquant des transformations simples aux variables (normalisation, passage au log, etc.).\n",
    "\n",
    "Mets en place une évaluation rigoureuse des performances de la régression, et optimise les hyperparamètres et le choix d’algorithmes de ML à l’aide d’une validation croisée."
   ],
   "metadata": {
    "collapsed": false,
    "pycharm": {
     "name": "#%% md\n"
    }
   }
  },
  {
   "cell_type": "markdown",
   "source": [
    "\n",
    "\n",
    "Tester les modèles suivants : **regression linéaire (avec différentes régularisation : Ridge, Lasso, Elastic), Random Forest, XGboost**\n",
    "Penser à comparer les performances des différents modèles : utiliser la **MAE** ( Mean Absolute Error)\n",
    "Penser également à optimiser les hyper paramètres de chaque modèle via **GridSearch**\n"
   ],
   "metadata": {
    "collapsed": false,
    "pycharm": {
     "name": "#%% md\n"
    }
   }
  },
  {
   "cell_type": "markdown",
   "source": [
    "Evaluate :\n",
    "\n",
    "https://cloud.google.com/automl-tables/docs/evaluate?hl=fr\n",
    "\n",
    "\n",
    "KFOLD\n",
    "\n",
    "Entrée : données X (dimension nxp), étiquettes y (dimension n), nombre de folds k\n",
    "\n",
    "Couper [0, 1, ..., n-1] en k parties de taille (n/k). (La dernière partie sera un peu plus petite si n n'est pas un multiple de k)\n",
    "\n",
    "for i=0 to (k-1):\n",
    "    Former le jeu de test (X_test, y_test) en restreignant X et y aux indices contenus dans la i-ième partie.\n",
    "    Former le jeu d'entraînement (X_train, y_train) en restreignant X et y aux autres indices.\n",
    "    Entraîner l'algorithme sur le jeu d'entraînement\n",
    "    Utiliser le modèle ainsi obtenu pour prédire sur le jeu de test\n",
    "        Calculer l'erreur du modèle en comparant les étiquettes prédites aux vraies étiquettes contenues dans y_test\n",
    "\n",
    "Sortie : la valeur moyenne des erreurs calculées sur les k folds."
   ],
   "metadata": {
    "collapsed": false,
    "pycharm": {
     "name": "#%% md\n"
    }
   }
  },
  {
   "cell_type": "code",
   "execution_count": 305,
   "outputs": [],
   "source": [
    "# 1 modele de Regression (RL classsque / Elastic / ridig / laso\n",
    "# Random Forest\n",
    "# XGBOOST\n",
    "\n",
    "# var à rpedire tottal GHE Emssion last one to predict\n",
    "# cette var deped de la consommation des bateimenst (1) prediction sur elec, steam, naturalgas et un autre energie (2) et reutiliser pour predire"
   ],
   "metadata": {
    "collapsed": false,
    "pycharm": {
     "name": "#%%\n"
    }
   }
  },
  {
   "cell_type": "markdown",
   "source": [
    "### Introduction"
   ],
   "metadata": {
    "collapsed": false,
    "pycharm": {
     "name": "#%% md\n"
    }
   }
  },
  {
   "cell_type": "markdown",
   "source": [
    "#### Importing libraries"
   ],
   "metadata": {
    "collapsed": false,
    "pycharm": {
     "name": "#%% md\n"
    }
   }
  },
  {
   "cell_type": "code",
   "execution_count": 306,
   "outputs": [
    {
     "data": {
      "application/javascript": "IPython.notebook.set_autosave_interval(300000)"
     },
     "metadata": {},
     "output_type": "display_data"
    },
    {
     "name": "stdout",
     "output_type": "stream",
     "text": [
      "Autosaving every 300 seconds\n"
     ]
    }
   ],
   "source": [
    "%reset -f\n",
    "\n",
    "import numpy as np\n",
    "import pandas as pd\n",
    "import matplotlib.pyplot as plt\n",
    "import seaborn as sns\n",
    "\n",
    "%matplotlib inline\n",
    "%autosave 300"
   ],
   "metadata": {
    "collapsed": false,
    "pycharm": {
     "name": "#%%\n"
    }
   }
  },
  {
   "cell_type": "code",
   "execution_count": 307,
   "outputs": [],
   "source": [
    "from functions import *"
   ],
   "metadata": {
    "collapsed": false,
    "pycharm": {
     "name": "#%%\n"
    }
   }
  },
  {
   "cell_type": "code",
   "execution_count": 308,
   "outputs": [],
   "source": [
    "import os, warnings\n",
    "# warnings.filterwarnings('ignore')\n",
    "warnings.filterwarnings(action=\"ignore\")\n",
    "\n",
    "from exploration import *"
   ],
   "metadata": {
    "collapsed": false,
    "pycharm": {
     "name": "#%%\n"
    }
   }
  },
  {
   "cell_type": "code",
   "execution_count": 309,
   "outputs": [
    {
     "name": "stdout",
     "output_type": "stream",
     "text": [
      "Seed value:  1\n"
     ]
    }
   ],
   "source": [
    "# Set random integer (seed) - 891\n",
    "from random import randrange\n",
    "#seed = randrange(1000)\n",
    "seed = 1\n",
    "print(\"Seed value: \", seed)"
   ],
   "metadata": {
    "collapsed": false,
    "pycharm": {
     "name": "#%%\n"
    }
   }
  },
  {
   "cell_type": "markdown",
   "source": [
    "#### Loading dataset"
   ],
   "metadata": {
    "collapsed": false,
    "pycharm": {
     "name": "#%% md\n"
    }
   }
  },
  {
   "cell_type": "raw",
   "source": [
    "columns_to_categorize = [\"BuildingType\", \"PrimaryPropertyType\", \"Neighborhood\", \"ZipCode\", \"CouncilDistrictCode\", \"LargestPropertyUseType\", \"SecondLargestPropertyUseType\", \"ThirdLargestPropertyUseType\"]\n",
    "#  \"Neighborhood\",\n",
    "category_types = {column: 'category' for column in columns_to_categorize}\n",
    "print(\"This dictionary will be used when reading the csv file to assign a type to categorical features :\", category_types)"
   ],
   "metadata": {
    "collapsed": false,
    "pycharm": {
     "name": "#%% raw\n"
    }
   }
  },
  {
   "cell_type": "raw",
   "source": [
    "path = \"./dataset/cleaned/\"\n",
    "filename = \"2016_Building_Energy_Prediction.csv\"\n",
    "dataset_path = \"{}{}\".format(path, filename)\n",
    "# we assign the categorical features with a categotical type\n",
    "data = pd.read_csv(dataset_path, dtype=category_types, sep=\",\")"
   ],
   "metadata": {
    "collapsed": false,
    "pycharm": {
     "name": "#%% raw\n"
    }
   }
  },
  {
   "cell_type": "code",
   "execution_count": 310,
   "outputs": [],
   "source": [
    "global columns_to_categorize\n",
    "columns_to_categorize = [\"BuildingType\", \"PrimaryPropertyType\", \"Neighborhood\"]\n",
    "category_types = {column: 'object' for column in columns_to_categorize}\n",
    "\n",
    "\n",
    "dataset = pd.read_csv(r\"C:\\Users\\oumei\\Documents\\OC_projets\\P4\\P4_Data_Science_OpenClassrooms\\dataset\\cleaned\\data_2016_tryout_2.csv\", encoding='utf-8', dtype=category_types)"
   ],
   "metadata": {
    "collapsed": false,
    "pycharm": {
     "name": "#%%\n"
    }
   }
  },
  {
   "cell_type": "code",
   "execution_count": 311,
   "outputs": [
    {
     "data": {
      "text/plain": "(3147, 16)"
     },
     "execution_count": 311,
     "metadata": {},
     "output_type": "execute_result"
    }
   ],
   "source": [
    "dataset.shape"
   ],
   "metadata": {
    "collapsed": false,
    "pycharm": {
     "name": "#%%\n"
    }
   }
  },
  {
   "cell_type": "code",
   "execution_count": 312,
   "outputs": [
    {
     "data": {
      "text/plain": "Neighborhood                            object\nBuildingType                            object\nPrimaryPropertyType                     object\nENERGYSTARScore                        float64\nYearBuilt                                int64\nLog-NumberofBuildings                  float64\nLog-NumberofFloors                     float64\nLog-PropertyGFATotal                   float64\nLog-PropertyGFAParking                 float64\nLog-SecondLargestPropertyUseTypeGFA    float64\nLog-ThirdLargestPropertyUseTypeGFA     float64\nLog-TotalEnergy(kBtu)                  float64\nLog-SteamUse(kBtu)                     float64\nLog-Electricity(kBtu)                  float64\nLog-NaturalGas(kBtu)                   float64\nLog-TotalGHGEmissions                  float64\ndtype: object"
     },
     "execution_count": 312,
     "metadata": {},
     "output_type": "execute_result"
    }
   ],
   "source": [
    "dataset.dtypes"
   ],
   "metadata": {
    "collapsed": false,
    "pycharm": {
     "name": "#%%\n"
    }
   }
  },
  {
   "cell_type": "code",
   "execution_count": 313,
   "outputs": [],
   "source": [
    "# predict : Electricity\n",
    "# train / test\n",
    "# standardisation = retirer la moyen et div par ecart type (scaling : les var qn sur emem echelle\n",
    "# var categ : encoding (one hot encoder)\n",
    "\n",
    "# la fin Feature engineriing\n",
    "\n",
    "# 2) entrainer le smodels\n",
    "# perf\n",
    "# temps de calcul\n",
    "# graph pour montrer la perf de chaque modele(barplot)\n",
    "# obj : finir exploration / finir feature engineering\n",
    "# obj un premier noteboook propre (try max)"
   ],
   "metadata": {
    "collapsed": false,
    "pycharm": {
     "name": "#%%\n"
    }
   }
  },
  {
   "cell_type": "code",
   "execution_count": 314,
   "outputs": [
    {
     "data": {
      "text/plain": "Index(['Neighborhood', 'BuildingType', 'PrimaryPropertyType',\n       'ENERGYSTARScore', 'YearBuilt', 'Log-NumberofBuildings',\n       'Log-NumberofFloors', 'Log-PropertyGFATotal', 'Log-PropertyGFAParking',\n       'Log-SecondLargestPropertyUseTypeGFA',\n       'Log-ThirdLargestPropertyUseTypeGFA', 'Log-TotalEnergy(kBtu)',\n       'Log-SteamUse(kBtu)', 'Log-Electricity(kBtu)', 'Log-NaturalGas(kBtu)',\n       'Log-TotalGHGEmissions'],\n      dtype='object')"
     },
     "execution_count": 314,
     "metadata": {},
     "output_type": "execute_result"
    }
   ],
   "source": [
    "dataset.columns"
   ],
   "metadata": {
    "collapsed": false,
    "pycharm": {
     "name": "#%%\n"
    }
   }
  },
  {
   "cell_type": "markdown",
   "source": [
    "### TRYOUT"
   ],
   "metadata": {
    "collapsed": false,
    "pycharm": {
     "name": "#%% md\n"
    }
   }
  },
  {
   "cell_type": "code",
   "execution_count": 315,
   "outputs": [],
   "source": [
    "#features_for_prediction = [\"YearBuilt\", \"BuildingType\", \"PrimaryPropertyType\", \"Neighborhood\", \"Log-NumberofBuildings\", \"Log-NumberofFloors\", \"Log-PropertyGFATotal\", \"Log-PropertyGFAParking\", \"Log-SecondLargestPropertyUseTypeGFA\", \"Log-ThirdLargestPropertyUseTypeGFA\", \"Electricity_ratio\"]\n",
    "\n",
    "#features_for_prediction = [\"YearBuilt\", \"NumberofBuildings\", \"NumberofFloors\", \"LargestPropertyUseTypeGFA\", \"SecondLargestPropertyUseTypeGFA\", \"ThirdLargestPropertyUseTypeGFA\",\n",
    "   #                        \"BuildingType\",\"PrimaryPropertyType\", \"Neighborhood\", \"LargestPropertyUseType\", \"SecondLargestPropertyUseType\", \"ThirdLargestPropertyUseType\"]\n",
    "\n",
    "#variable_to_predict = \"Log-Electricity(kBtu)\"\n",
    "\n",
    "#features_for_prediction.append(variable_to_predict)\n",
    "#print(features_for_prediction)\n"
   ],
   "metadata": {
    "collapsed": false,
    "pycharm": {
     "name": "#%%\n"
    }
   }
  },
  {
   "cell_type": "raw",
   "source": [
    "data = data[features_for_prediction]\n",
    "\n",
    "data"
   ],
   "metadata": {
    "collapsed": false,
    "pycharm": {
     "name": "#%% raw\n"
    }
   }
  },
  {
   "cell_type": "code",
   "execution_count": 316,
   "outputs": [],
   "source": [
    "data = dataset.drop(['ENERGYSTARScore'], axis=1).copy()"
   ],
   "metadata": {
    "collapsed": false,
    "pycharm": {
     "name": "#%%\n"
    }
   }
  },
  {
   "cell_type": "code",
   "execution_count": 317,
   "outputs": [],
   "source": [
    "# liste des variables et étiquettes\n",
    "model_CO2_target = ['Log-TotalGHGEmissions']\n",
    "model_CO2_features = ['Log-SteamUse(kBtu)', 'Log-Electricity(kBtu)', 'Log-NaturalGas(kBtu)', 'Log-TotalEnergy(kBtu)']\n",
    "model_CO2 = model_CO2_features + model_CO2_target"
   ],
   "metadata": {
    "collapsed": false,
    "pycharm": {
     "name": "#%%\n"
    }
   }
  },
  {
   "cell_type": "code",
   "execution_count": 318,
   "outputs": [],
   "source": [
    "# Liste des variables et étiquettes pour la modélisation\n",
    "model_EnerStar_target = ['Log-TotalGHGEmissions']\n",
    "model_EnerStar_features = model_CO2_features + ['ENERGYSTARScore']\n",
    "\n",
    "model_EnerStar = model_EnerStar_features + model_EnerStar_target"
   ],
   "metadata": {
    "collapsed": false,
    "pycharm": {
     "name": "#%%\n"
    }
   }
  },
  {
   "cell_type": "code",
   "execution_count": 319,
   "outputs": [],
   "source": [
    "# Liste des variables et étiquettes\n",
    "models_energy_target = model_CO2_features\n",
    "models_energy_features = [var for var in dataset.columns if var not in ['ENERGYSTARScore', *model_CO2_target, *model_CO2_features]]\n",
    "models_energy = models_energy_features + models_energy_target"
   ],
   "metadata": {
    "collapsed": false,
    "pycharm": {
     "name": "#%%\n"
    }
   }
  },
  {
   "cell_type": "markdown",
   "source": [
    "## I) Feature Engineering : preparing the vectors and matrices\n"
   ],
   "metadata": {
    "collapsed": false,
    "pycharm": {
     "name": "#%% md\n"
    }
   }
  },
  {
   "cell_type": "markdown",
   "source": [
    "#### 1) Separating training data and target vector"
   ],
   "metadata": {
    "collapsed": false,
    "pycharm": {
     "name": "#%% md\n"
    }
   }
  },
  {
   "cell_type": "raw",
   "source": [
    "# we create the data matrix / we only take the features\n",
    "X = data[models_energy_features]\n",
    "\n",
    "# we create the target vector\n",
    "#y = data[variable_to_predict].values # numpy array not a DataFrame anymore\n",
    "\n",
    "print(\"Shape of X :\", X.shape)\n",
    "#print(\"Shape of y :\", y.shape)"
   ],
   "metadata": {
    "collapsed": false,
    "pycharm": {
     "name": "#%% raw\n"
    }
   }
  },
  {
   "cell_type": "markdown",
   "source": [
    "#### 2) Separation train and test dataset\n"
   ],
   "metadata": {
    "collapsed": false,
    "pycharm": {
     "name": "#%% md\n"
    }
   }
  },
  {
   "cell_type": "code",
   "execution_count": 320,
   "outputs": [
    {
     "name": "stdout",
     "output_type": "stream",
     "text": [
      "We have to separate the train / test sets before normalising the dataset.\n"
     ]
    }
   ],
   "source": [
    "print(\"We have to separate the train / test sets before normalising the dataset.\")"
   ],
   "metadata": {
    "collapsed": false,
    "pycharm": {
     "name": "#%%\n"
    }
   }
  },
  {
   "cell_type": "code",
   "execution_count": 321,
   "outputs": [],
   "source": [
    "# We create a training set and a test set (the test set contains 30% of the dataset)\n",
    "from sklearn. model_selection import train_test_split\n",
    "#X_train, X_test, y_train, y_test = train_test_split(X, y, test_size=0.3,  random_state=seed)\n",
    "\n",
    "train, test = train_test_split(data, test_size=0.3,  random_state=seed)"
   ],
   "metadata": {
    "collapsed": false,
    "pycharm": {
     "name": "#%%\n"
    }
   }
  },
  {
   "cell_type": "code",
   "execution_count": 322,
   "outputs": [
    {
     "data": {
      "text/plain": "(2202, 15)"
     },
     "execution_count": 322,
     "metadata": {},
     "output_type": "execute_result"
    }
   ],
   "source": [
    "train.shape"
   ],
   "metadata": {
    "collapsed": false,
    "pycharm": {
     "name": "#%%\n"
    }
   }
  },
  {
   "cell_type": "code",
   "execution_count": 323,
   "outputs": [
    {
     "data": {
      "text/plain": "(945, 15)"
     },
     "execution_count": 323,
     "metadata": {},
     "output_type": "execute_result"
    }
   ],
   "source": [
    "test.shape"
   ],
   "metadata": {
    "collapsed": false,
    "pycharm": {
     "name": "#%%\n"
    }
   }
  },
  {
   "cell_type": "markdown",
   "source": [
    "#### 3) Normalization"
   ],
   "metadata": {
    "collapsed": false,
    "pycharm": {
     "name": "#%% md\n"
    }
   }
  },
  {
   "cell_type": "code",
   "execution_count": 324,
   "outputs": [],
   "source": [
    "from sklearn.preprocessing import StandardScaler, OneHotEncoder"
   ],
   "metadata": {
    "collapsed": false,
    "pycharm": {
     "name": "#%%\n"
    }
   }
  },
  {
   "cell_type": "code",
   "execution_count": 325,
   "outputs": [
    {
     "name": "stdout",
     "output_type": "stream",
     "text": [
      "We separate categorical variables from numerical variables.\n"
     ]
    }
   ],
   "source": [
    "print(\"We separate categorical variables from numerical variables.\")"
   ],
   "metadata": {
    "collapsed": false,
    "pycharm": {
     "name": "#%%\n"
    }
   }
  },
  {
   "cell_type": "code",
   "execution_count": 326,
   "outputs": [
    {
     "name": "stdout",
     "output_type": "stream",
     "text": [
      "We won't normalise the year so we drop it from numerical_columns.\n",
      "Shape of categorical variables :  (3,)\n",
      "Shape of numerical variables : (6,)\n"
     ]
    }
   ],
   "source": [
    "data.select_dtypes(['category','object']) # we don't have 'object' here but it is just in case.\n",
    "\n",
    "categorical_columns = data.select_dtypes(['category','object']).columns\n",
    "numerical_columns = data[models_energy_features].select_dtypes(include='number').columns.drop(\"YearBuilt\") ###\n",
    "#numerical_columns = X.select_dtypes(include='number').columns\n",
    "print(\"We won't normalise the year so we drop it from numerical_columns.\")\n",
    "\n",
    "print(\"Shape of categorical variables : \", categorical_columns.shape)\n",
    "print(\"Shape of numerical variables :\", numerical_columns.shape)"
   ],
   "metadata": {
    "collapsed": false,
    "pycharm": {
     "name": "#%%\n"
    }
   }
  },
  {
   "cell_type": "markdown",
   "source": [
    "##### 1) Data Standardisation"
   ],
   "metadata": {
    "collapsed": false,
    "pycharm": {
     "name": "#%% md\n"
    }
   }
  },
  {
   "cell_type": "markdown",
   "source": [
    "We have to standardize the variables before learning a **Ridge Regression**.\n",
    "Standardizing means that each variable will have a **standard deviation** equal to 1."
   ],
   "metadata": {
    "collapsed": false,
    "pycharm": {
     "name": "#%% md\n"
    }
   }
  },
  {
   "cell_type": "code",
   "execution_count": 327,
   "outputs": [
    {
     "name": "stdout",
     "output_type": "stream",
     "text": [
      "Numerical variables standardization\n",
      "We have : 6 numerical features to standardize.\n",
      "\n",
      "Index(['Log-NumberofBuildings', 'Log-NumberofFloors', 'Log-PropertyGFATotal',\n",
      "       'Log-PropertyGFAParking', 'Log-SecondLargestPropertyUseTypeGFA',\n",
      "       'Log-ThirdLargestPropertyUseTypeGFA'],\n",
      "      dtype='object')\n"
     ]
    }
   ],
   "source": [
    "print(\"Numerical variables standardization\")\n",
    "print(\"We have :\", numerical_columns.shape[0], \"numerical features to standardize.\",end=\"\\n\\n\")\n",
    "\n",
    "print(numerical_columns)"
   ],
   "metadata": {
    "collapsed": false,
    "pycharm": {
     "name": "#%%\n"
    }
   }
  },
  {
   "cell_type": "code",
   "execution_count": 328,
   "outputs": [
    {
     "name": "stdout",
     "output_type": "stream",
     "text": [
      "Before\n"
     ]
    },
    {
     "data": {
      "text/plain": "               Neighborhood          BuildingType  \\\n1008              Northeast  Multifamily lr (1-4)   \n1784                  North  Multifamily lr (1-4)   \n1563             Lake union  Multifamily lr (1-4)   \n452   Magnolia / queen anne        Nonresidential   \n1561               Downtown  Multifamily hr (10+)   \n...                     ...                   ...   \n2763                   East  Multifamily mr (5-9)   \n905               Southwest        Nonresidential   \n1096              Northwest  Multifamily lr (1-4)   \n235                Downtown        Nonresidential   \n1061             Lake union        Nonresidential   \n\n              PrimaryPropertyType  YearBuilt  Log-NumberofBuildings  \\\n1008         Low-rise multifamily       1997               0.693147   \n1784         Low-rise multifamily       1979               0.693147   \n1563         Low-rise multifamily       1988               0.693147   \n452   Small- and mid-sized office       1982               0.693147   \n1561        High-rise multifamily       1980               0.693147   \n...                           ...        ...                    ...   \n2763         Mid-rise multifamily       1985               0.693147   \n905   Small- and mid-sized office       1981               0.693147   \n1096         Low-rise multifamily       1978               2.833213   \n235   Small- and mid-sized office       1906               0.693147   \n1061                    Warehouse       1927               0.693147   \n\n      Log-NumberofFloors  Log-PropertyGFATotal  Log-PropertyGFAParking  \\\n1008            1.386294             10.727246                     0.0   \n1784            1.098612             10.429783                     0.0   \n1563            1.609438             10.120533                     0.0   \n452             1.791759             11.499526                     0.0   \n1561            2.944439             11.738139                     0.0   \n...                  ...                   ...                     ...   \n2763            1.791759             10.556620                     0.0   \n905             1.386294             10.677938                     0.0   \n1096            1.386294             11.397167                     0.0   \n235             1.609438             11.059441                     0.0   \n1061            1.098612             10.429428                     0.0   \n\n      Log-SecondLargestPropertyUseTypeGFA  Log-ThirdLargestPropertyUseTypeGFA  \\\n1008                             9.792444                            7.848153   \n1784                             6.240276                            0.000000   \n1563                             0.000000                            0.000000   \n452                              0.000000                            0.000000   \n1561                             9.063811                            0.000000   \n...                                   ...                                 ...   \n2763                             0.000000                            0.000000   \n905                              0.000000                            0.000000   \n1096                             8.752423                            0.000000   \n235                              0.000000                            0.000000   \n1061                             9.522300                            7.273093   \n\n      Log-TotalEnergy(kBtu)  Log-SteamUse(kBtu)  Log-Electricity(kBtu)  \\\n1008              14.067857                 0.0              14.067857   \n1784              13.734070                 0.0              13.734069   \n1563              13.380600                 0.0              13.380599   \n452               15.295147                 0.0              15.295147   \n1561              15.389618                 0.0              14.915060   \n...                     ...                 ...                    ...   \n2763              14.117894                 0.0              14.117894   \n905               14.803849                 0.0              14.671030   \n1096              14.907515                 0.0              14.907515   \n235               15.073534                 0.0              14.702697   \n1061              14.616453                 0.0              14.034399   \n\n      Log-NaturalGas(kBtu)  Log-TotalGHGEmissions  \n1008              0.000000               2.299581  \n1784              0.000000               2.005526  \n1563              0.000000               1.706565  \n452               0.000000               3.453474  \n1561             14.416334               4.777357  \n...                    ...                    ...  \n2763              0.000000               2.344686  \n905              12.719411               3.559625  \n1096              0.000000               3.080992  \n235              13.901848               4.328494  \n1061             13.798311               4.125197  \n\n[2202 rows x 15 columns]",
      "text/html": "<div>\n<style scoped>\n    .dataframe tbody tr th:only-of-type {\n        vertical-align: middle;\n    }\n\n    .dataframe tbody tr th {\n        vertical-align: top;\n    }\n\n    .dataframe thead th {\n        text-align: right;\n    }\n</style>\n<table border=\"1\" class=\"dataframe\">\n  <thead>\n    <tr style=\"text-align: right;\">\n      <th></th>\n      <th>Neighborhood</th>\n      <th>BuildingType</th>\n      <th>PrimaryPropertyType</th>\n      <th>YearBuilt</th>\n      <th>Log-NumberofBuildings</th>\n      <th>Log-NumberofFloors</th>\n      <th>Log-PropertyGFATotal</th>\n      <th>Log-PropertyGFAParking</th>\n      <th>Log-SecondLargestPropertyUseTypeGFA</th>\n      <th>Log-ThirdLargestPropertyUseTypeGFA</th>\n      <th>Log-TotalEnergy(kBtu)</th>\n      <th>Log-SteamUse(kBtu)</th>\n      <th>Log-Electricity(kBtu)</th>\n      <th>Log-NaturalGas(kBtu)</th>\n      <th>Log-TotalGHGEmissions</th>\n    </tr>\n  </thead>\n  <tbody>\n    <tr>\n      <th>1008</th>\n      <td>Northeast</td>\n      <td>Multifamily lr (1-4)</td>\n      <td>Low-rise multifamily</td>\n      <td>1997</td>\n      <td>0.693147</td>\n      <td>1.386294</td>\n      <td>10.727246</td>\n      <td>0.0</td>\n      <td>9.792444</td>\n      <td>7.848153</td>\n      <td>14.067857</td>\n      <td>0.0</td>\n      <td>14.067857</td>\n      <td>0.000000</td>\n      <td>2.299581</td>\n    </tr>\n    <tr>\n      <th>1784</th>\n      <td>North</td>\n      <td>Multifamily lr (1-4)</td>\n      <td>Low-rise multifamily</td>\n      <td>1979</td>\n      <td>0.693147</td>\n      <td>1.098612</td>\n      <td>10.429783</td>\n      <td>0.0</td>\n      <td>6.240276</td>\n      <td>0.000000</td>\n      <td>13.734070</td>\n      <td>0.0</td>\n      <td>13.734069</td>\n      <td>0.000000</td>\n      <td>2.005526</td>\n    </tr>\n    <tr>\n      <th>1563</th>\n      <td>Lake union</td>\n      <td>Multifamily lr (1-4)</td>\n      <td>Low-rise multifamily</td>\n      <td>1988</td>\n      <td>0.693147</td>\n      <td>1.609438</td>\n      <td>10.120533</td>\n      <td>0.0</td>\n      <td>0.000000</td>\n      <td>0.000000</td>\n      <td>13.380600</td>\n      <td>0.0</td>\n      <td>13.380599</td>\n      <td>0.000000</td>\n      <td>1.706565</td>\n    </tr>\n    <tr>\n      <th>452</th>\n      <td>Magnolia / queen anne</td>\n      <td>Nonresidential</td>\n      <td>Small- and mid-sized office</td>\n      <td>1982</td>\n      <td>0.693147</td>\n      <td>1.791759</td>\n      <td>11.499526</td>\n      <td>0.0</td>\n      <td>0.000000</td>\n      <td>0.000000</td>\n      <td>15.295147</td>\n      <td>0.0</td>\n      <td>15.295147</td>\n      <td>0.000000</td>\n      <td>3.453474</td>\n    </tr>\n    <tr>\n      <th>1561</th>\n      <td>Downtown</td>\n      <td>Multifamily hr (10+)</td>\n      <td>High-rise multifamily</td>\n      <td>1980</td>\n      <td>0.693147</td>\n      <td>2.944439</td>\n      <td>11.738139</td>\n      <td>0.0</td>\n      <td>9.063811</td>\n      <td>0.000000</td>\n      <td>15.389618</td>\n      <td>0.0</td>\n      <td>14.915060</td>\n      <td>14.416334</td>\n      <td>4.777357</td>\n    </tr>\n    <tr>\n      <th>...</th>\n      <td>...</td>\n      <td>...</td>\n      <td>...</td>\n      <td>...</td>\n      <td>...</td>\n      <td>...</td>\n      <td>...</td>\n      <td>...</td>\n      <td>...</td>\n      <td>...</td>\n      <td>...</td>\n      <td>...</td>\n      <td>...</td>\n      <td>...</td>\n      <td>...</td>\n    </tr>\n    <tr>\n      <th>2763</th>\n      <td>East</td>\n      <td>Multifamily mr (5-9)</td>\n      <td>Mid-rise multifamily</td>\n      <td>1985</td>\n      <td>0.693147</td>\n      <td>1.791759</td>\n      <td>10.556620</td>\n      <td>0.0</td>\n      <td>0.000000</td>\n      <td>0.000000</td>\n      <td>14.117894</td>\n      <td>0.0</td>\n      <td>14.117894</td>\n      <td>0.000000</td>\n      <td>2.344686</td>\n    </tr>\n    <tr>\n      <th>905</th>\n      <td>Southwest</td>\n      <td>Nonresidential</td>\n      <td>Small- and mid-sized office</td>\n      <td>1981</td>\n      <td>0.693147</td>\n      <td>1.386294</td>\n      <td>10.677938</td>\n      <td>0.0</td>\n      <td>0.000000</td>\n      <td>0.000000</td>\n      <td>14.803849</td>\n      <td>0.0</td>\n      <td>14.671030</td>\n      <td>12.719411</td>\n      <td>3.559625</td>\n    </tr>\n    <tr>\n      <th>1096</th>\n      <td>Northwest</td>\n      <td>Multifamily lr (1-4)</td>\n      <td>Low-rise multifamily</td>\n      <td>1978</td>\n      <td>2.833213</td>\n      <td>1.386294</td>\n      <td>11.397167</td>\n      <td>0.0</td>\n      <td>8.752423</td>\n      <td>0.000000</td>\n      <td>14.907515</td>\n      <td>0.0</td>\n      <td>14.907515</td>\n      <td>0.000000</td>\n      <td>3.080992</td>\n    </tr>\n    <tr>\n      <th>235</th>\n      <td>Downtown</td>\n      <td>Nonresidential</td>\n      <td>Small- and mid-sized office</td>\n      <td>1906</td>\n      <td>0.693147</td>\n      <td>1.609438</td>\n      <td>11.059441</td>\n      <td>0.0</td>\n      <td>0.000000</td>\n      <td>0.000000</td>\n      <td>15.073534</td>\n      <td>0.0</td>\n      <td>14.702697</td>\n      <td>13.901848</td>\n      <td>4.328494</td>\n    </tr>\n    <tr>\n      <th>1061</th>\n      <td>Lake union</td>\n      <td>Nonresidential</td>\n      <td>Warehouse</td>\n      <td>1927</td>\n      <td>0.693147</td>\n      <td>1.098612</td>\n      <td>10.429428</td>\n      <td>0.0</td>\n      <td>9.522300</td>\n      <td>7.273093</td>\n      <td>14.616453</td>\n      <td>0.0</td>\n      <td>14.034399</td>\n      <td>13.798311</td>\n      <td>4.125197</td>\n    </tr>\n  </tbody>\n</table>\n<p>2202 rows × 15 columns</p>\n</div>"
     },
     "metadata": {},
     "output_type": "display_data"
    },
    {
     "name": "stdout",
     "output_type": "stream",
     "text": [
      "After\n"
     ]
    },
    {
     "data": {
      "text/plain": "               Neighborhood          BuildingType  \\\n1008              Northeast  Multifamily lr (1-4)   \n1784                  North  Multifamily lr (1-4)   \n1563             Lake union  Multifamily lr (1-4)   \n452   Magnolia / queen anne        Nonresidential   \n1561               Downtown  Multifamily hr (10+)   \n...                     ...                   ...   \n2763                   East  Multifamily mr (5-9)   \n905               Southwest        Nonresidential   \n1096              Northwest  Multifamily lr (1-4)   \n235                Downtown        Nonresidential   \n1061             Lake union        Nonresidential   \n\n              PrimaryPropertyType  YearBuilt  Log-NumberofBuildings  \\\n1008         Low-rise multifamily       1997              -0.035067   \n1784         Low-rise multifamily       1979              -0.035067   \n1563         Low-rise multifamily       1988              -0.035067   \n452   Small- and mid-sized office       1982              -0.035067   \n1561        High-rise multifamily       1980              -0.035067   \n...                           ...        ...                    ...   \n2763         Mid-rise multifamily       1985              -0.035067   \n905   Small- and mid-sized office       1981              -0.035067   \n1096         Low-rise multifamily       1978              10.208154   \n235   Small- and mid-sized office       1906              -0.035067   \n1061                    Warehouse       1927              -0.035067   \n\n      Log-NumberofFloors  Log-PropertyGFATotal  Log-PropertyGFAParking  \\\n1008           -0.287309             -0.238103               -0.405348   \n1784           -0.782088             -0.582698               -0.405348   \n1563            0.096471             -0.940947               -0.405348   \n452             0.410042              0.656541               -0.405348   \n1561            2.392512              0.932961               -0.405348   \n...                  ...                   ...                     ...   \n2763            0.410042             -0.435764               -0.405348   \n905            -0.287309             -0.295223               -0.405348   \n1096           -0.287309              0.537964               -0.405348   \n235             0.096471              0.146726               -0.405348   \n1061           -0.782088             -0.583108               -0.405348   \n\n      Log-SecondLargestPropertyUseTypeGFA  Log-ThirdLargestPropertyUseTypeGFA  \\\n1008                             1.108652                            1.972318   \n1784                             0.371487                           -0.439239   \n1563                            -0.923528                           -0.439239   \n452                             -0.923528                           -0.439239   \n1561                             0.957442                           -0.439239   \n...                                   ...                                 ...   \n2763                            -0.923528                           -0.439239   \n905                             -0.923528                           -0.439239   \n1096                             0.892821                           -0.439239   \n235                             -0.923528                           -0.439239   \n1061                             1.052590                            1.795615   \n\n      Log-TotalEnergy(kBtu)  Log-SteamUse(kBtu)  Log-Electricity(kBtu)  \\\n1008              14.067857                 0.0              14.067857   \n1784              13.734070                 0.0              13.734069   \n1563              13.380600                 0.0              13.380599   \n452               15.295147                 0.0              15.295147   \n1561              15.389618                 0.0              14.915060   \n...                     ...                 ...                    ...   \n2763              14.117894                 0.0              14.117894   \n905               14.803849                 0.0              14.671030   \n1096              14.907515                 0.0              14.907515   \n235               15.073534                 0.0              14.702697   \n1061              14.616453                 0.0              14.034399   \n\n      Log-NaturalGas(kBtu)  Log-TotalGHGEmissions  \n1008              0.000000               2.299581  \n1784              0.000000               2.005526  \n1563              0.000000               1.706565  \n452               0.000000               3.453474  \n1561             14.416334               4.777357  \n...                    ...                    ...  \n2763              0.000000               2.344686  \n905              12.719411               3.559625  \n1096              0.000000               3.080992  \n235              13.901848               4.328494  \n1061             13.798311               4.125197  \n\n[2202 rows x 15 columns]",
      "text/html": "<div>\n<style scoped>\n    .dataframe tbody tr th:only-of-type {\n        vertical-align: middle;\n    }\n\n    .dataframe tbody tr th {\n        vertical-align: top;\n    }\n\n    .dataframe thead th {\n        text-align: right;\n    }\n</style>\n<table border=\"1\" class=\"dataframe\">\n  <thead>\n    <tr style=\"text-align: right;\">\n      <th></th>\n      <th>Neighborhood</th>\n      <th>BuildingType</th>\n      <th>PrimaryPropertyType</th>\n      <th>YearBuilt</th>\n      <th>Log-NumberofBuildings</th>\n      <th>Log-NumberofFloors</th>\n      <th>Log-PropertyGFATotal</th>\n      <th>Log-PropertyGFAParking</th>\n      <th>Log-SecondLargestPropertyUseTypeGFA</th>\n      <th>Log-ThirdLargestPropertyUseTypeGFA</th>\n      <th>Log-TotalEnergy(kBtu)</th>\n      <th>Log-SteamUse(kBtu)</th>\n      <th>Log-Electricity(kBtu)</th>\n      <th>Log-NaturalGas(kBtu)</th>\n      <th>Log-TotalGHGEmissions</th>\n    </tr>\n  </thead>\n  <tbody>\n    <tr>\n      <th>1008</th>\n      <td>Northeast</td>\n      <td>Multifamily lr (1-4)</td>\n      <td>Low-rise multifamily</td>\n      <td>1997</td>\n      <td>-0.035067</td>\n      <td>-0.287309</td>\n      <td>-0.238103</td>\n      <td>-0.405348</td>\n      <td>1.108652</td>\n      <td>1.972318</td>\n      <td>14.067857</td>\n      <td>0.0</td>\n      <td>14.067857</td>\n      <td>0.000000</td>\n      <td>2.299581</td>\n    </tr>\n    <tr>\n      <th>1784</th>\n      <td>North</td>\n      <td>Multifamily lr (1-4)</td>\n      <td>Low-rise multifamily</td>\n      <td>1979</td>\n      <td>-0.035067</td>\n      <td>-0.782088</td>\n      <td>-0.582698</td>\n      <td>-0.405348</td>\n      <td>0.371487</td>\n      <td>-0.439239</td>\n      <td>13.734070</td>\n      <td>0.0</td>\n      <td>13.734069</td>\n      <td>0.000000</td>\n      <td>2.005526</td>\n    </tr>\n    <tr>\n      <th>1563</th>\n      <td>Lake union</td>\n      <td>Multifamily lr (1-4)</td>\n      <td>Low-rise multifamily</td>\n      <td>1988</td>\n      <td>-0.035067</td>\n      <td>0.096471</td>\n      <td>-0.940947</td>\n      <td>-0.405348</td>\n      <td>-0.923528</td>\n      <td>-0.439239</td>\n      <td>13.380600</td>\n      <td>0.0</td>\n      <td>13.380599</td>\n      <td>0.000000</td>\n      <td>1.706565</td>\n    </tr>\n    <tr>\n      <th>452</th>\n      <td>Magnolia / queen anne</td>\n      <td>Nonresidential</td>\n      <td>Small- and mid-sized office</td>\n      <td>1982</td>\n      <td>-0.035067</td>\n      <td>0.410042</td>\n      <td>0.656541</td>\n      <td>-0.405348</td>\n      <td>-0.923528</td>\n      <td>-0.439239</td>\n      <td>15.295147</td>\n      <td>0.0</td>\n      <td>15.295147</td>\n      <td>0.000000</td>\n      <td>3.453474</td>\n    </tr>\n    <tr>\n      <th>1561</th>\n      <td>Downtown</td>\n      <td>Multifamily hr (10+)</td>\n      <td>High-rise multifamily</td>\n      <td>1980</td>\n      <td>-0.035067</td>\n      <td>2.392512</td>\n      <td>0.932961</td>\n      <td>-0.405348</td>\n      <td>0.957442</td>\n      <td>-0.439239</td>\n      <td>15.389618</td>\n      <td>0.0</td>\n      <td>14.915060</td>\n      <td>14.416334</td>\n      <td>4.777357</td>\n    </tr>\n    <tr>\n      <th>...</th>\n      <td>...</td>\n      <td>...</td>\n      <td>...</td>\n      <td>...</td>\n      <td>...</td>\n      <td>...</td>\n      <td>...</td>\n      <td>...</td>\n      <td>...</td>\n      <td>...</td>\n      <td>...</td>\n      <td>...</td>\n      <td>...</td>\n      <td>...</td>\n      <td>...</td>\n    </tr>\n    <tr>\n      <th>2763</th>\n      <td>East</td>\n      <td>Multifamily mr (5-9)</td>\n      <td>Mid-rise multifamily</td>\n      <td>1985</td>\n      <td>-0.035067</td>\n      <td>0.410042</td>\n      <td>-0.435764</td>\n      <td>-0.405348</td>\n      <td>-0.923528</td>\n      <td>-0.439239</td>\n      <td>14.117894</td>\n      <td>0.0</td>\n      <td>14.117894</td>\n      <td>0.000000</td>\n      <td>2.344686</td>\n    </tr>\n    <tr>\n      <th>905</th>\n      <td>Southwest</td>\n      <td>Nonresidential</td>\n      <td>Small- and mid-sized office</td>\n      <td>1981</td>\n      <td>-0.035067</td>\n      <td>-0.287309</td>\n      <td>-0.295223</td>\n      <td>-0.405348</td>\n      <td>-0.923528</td>\n      <td>-0.439239</td>\n      <td>14.803849</td>\n      <td>0.0</td>\n      <td>14.671030</td>\n      <td>12.719411</td>\n      <td>3.559625</td>\n    </tr>\n    <tr>\n      <th>1096</th>\n      <td>Northwest</td>\n      <td>Multifamily lr (1-4)</td>\n      <td>Low-rise multifamily</td>\n      <td>1978</td>\n      <td>10.208154</td>\n      <td>-0.287309</td>\n      <td>0.537964</td>\n      <td>-0.405348</td>\n      <td>0.892821</td>\n      <td>-0.439239</td>\n      <td>14.907515</td>\n      <td>0.0</td>\n      <td>14.907515</td>\n      <td>0.000000</td>\n      <td>3.080992</td>\n    </tr>\n    <tr>\n      <th>235</th>\n      <td>Downtown</td>\n      <td>Nonresidential</td>\n      <td>Small- and mid-sized office</td>\n      <td>1906</td>\n      <td>-0.035067</td>\n      <td>0.096471</td>\n      <td>0.146726</td>\n      <td>-0.405348</td>\n      <td>-0.923528</td>\n      <td>-0.439239</td>\n      <td>15.073534</td>\n      <td>0.0</td>\n      <td>14.702697</td>\n      <td>13.901848</td>\n      <td>4.328494</td>\n    </tr>\n    <tr>\n      <th>1061</th>\n      <td>Lake union</td>\n      <td>Nonresidential</td>\n      <td>Warehouse</td>\n      <td>1927</td>\n      <td>-0.035067</td>\n      <td>-0.782088</td>\n      <td>-0.583108</td>\n      <td>-0.405348</td>\n      <td>1.052590</td>\n      <td>1.795615</td>\n      <td>14.616453</td>\n      <td>0.0</td>\n      <td>14.034399</td>\n      <td>13.798311</td>\n      <td>4.125197</td>\n    </tr>\n  </tbody>\n</table>\n<p>2202 rows × 15 columns</p>\n</div>"
     },
     "metadata": {},
     "output_type": "display_data"
    }
   ],
   "source": [
    "# We train / fit the scaler on the training set / Computes the mean and std to be used for later scaling.\n",
    "std_scale = StandardScaler().fit(train[numerical_columns])\n",
    "# We transform the training set and the testing set / Performs standardization by centering and scaling.\n",
    "train_std = train.copy()\n",
    "test_std = test.copy()\n",
    "\n",
    "train_std[numerical_columns] = std_scale.transform(train[numerical_columns])\n",
    "test_std[numerical_columns] = std_scale.transform(test[numerical_columns])\n",
    "\n",
    "print(\"Before\")\n",
    "display(train)\n",
    "print(\"After\")\n",
    "display(train_std)"
   ],
   "metadata": {
    "collapsed": false,
    "pycharm": {
     "name": "#%%\n"
    }
   }
  },
  {
   "cell_type": "code",
   "execution_count": 329,
   "outputs": [
    {
     "name": "stdout",
     "output_type": "stream",
     "text": [
      "We can check that the numerical variables have a Standard Normal distribution.\n"
     ]
    }
   ],
   "source": [
    "print(\"We can check that the numerical variables have a Standard Normal distribution.\")\n",
    "#densite(train[numerical_columns])"
   ],
   "metadata": {
    "collapsed": false,
    "pycharm": {
     "name": "#%%\n"
    }
   }
  },
  {
   "cell_type": "markdown",
   "source": [
    "##### 2) Feature Encoding : One Hot Encoder"
   ],
   "metadata": {
    "collapsed": false,
    "pycharm": {
     "name": "#%% md\n"
    }
   }
  },
  {
   "cell_type": "code",
   "execution_count": 330,
   "outputs": [
    {
     "name": "stdout",
     "output_type": "stream",
     "text": [
      "Categorical variables featuring\n",
      "We have : 3 categorical features to encode.\n",
      "\n",
      "Index(['Neighborhood', 'BuildingType', 'PrimaryPropertyType'], dtype='object')\n"
     ]
    }
   ],
   "source": [
    "print(\"Categorical variables featuring\")\n",
    "\n",
    "print(\"We have :\", categorical_columns.shape[0], \"categorical features to encode.\", end=\"\\n\\n\")\n",
    "print(categorical_columns)"
   ],
   "metadata": {
    "collapsed": false,
    "pycharm": {
     "name": "#%%\n"
    }
   }
  },
  {
   "cell_type": "code",
   "execution_count": 331,
   "outputs": [
    {
     "data": {
      "text/plain": "Neighborhood                            object\nBuildingType                            object\nPrimaryPropertyType                     object\nYearBuilt                                int64\nLog-NumberofBuildings                  float64\nLog-NumberofFloors                     float64\nLog-PropertyGFATotal                   float64\nLog-PropertyGFAParking                 float64\nLog-SecondLargestPropertyUseTypeGFA    float64\nLog-ThirdLargestPropertyUseTypeGFA     float64\nLog-TotalEnergy(kBtu)                  float64\nLog-SteamUse(kBtu)                     float64\nLog-Electricity(kBtu)                  float64\nLog-NaturalGas(kBtu)                   float64\nLog-TotalGHGEmissions                  float64\ndtype: object"
     },
     "execution_count": 331,
     "metadata": {},
     "output_type": "execute_result"
    }
   ],
   "source": [
    "train.dtypes # we check that we have categories"
   ],
   "metadata": {
    "collapsed": false,
    "pycharm": {
     "name": "#%%\n"
    }
   }
  },
  {
   "cell_type": "code",
   "execution_count": 332,
   "outputs": [
    {
     "data": {
      "text/plain": "Neighborhood           13\nBuildingType            7\nPrimaryPropertyType    23\ndtype: int64"
     },
     "execution_count": 332,
     "metadata": {},
     "output_type": "execute_result"
    }
   ],
   "source": [
    "train[categorical_columns].nunique()"
   ],
   "metadata": {
    "collapsed": false,
    "pycharm": {
     "name": "#%%\n"
    }
   }
  },
  {
   "cell_type": "code",
   "execution_count": 333,
   "outputs": [
    {
     "data": {
      "text/plain": "               Neighborhood          BuildingType          PrimaryPropertyType\n1008              Northeast  Multifamily lr (1-4)         Low-rise multifamily\n1784                  North  Multifamily lr (1-4)         Low-rise multifamily\n1563             Lake union  Multifamily lr (1-4)         Low-rise multifamily\n452   Magnolia / queen anne        Nonresidential  Small- and mid-sized office\n1561               Downtown  Multifamily hr (10+)        High-rise multifamily\n...                     ...                   ...                          ...\n2763                   East  Multifamily mr (5-9)         Mid-rise multifamily\n905               Southwest        Nonresidential  Small- and mid-sized office\n1096              Northwest  Multifamily lr (1-4)         Low-rise multifamily\n235                Downtown        Nonresidential  Small- and mid-sized office\n1061             Lake union        Nonresidential                    Warehouse\n\n[2202 rows x 3 columns]",
      "text/html": "<div>\n<style scoped>\n    .dataframe tbody tr th:only-of-type {\n        vertical-align: middle;\n    }\n\n    .dataframe tbody tr th {\n        vertical-align: top;\n    }\n\n    .dataframe thead th {\n        text-align: right;\n    }\n</style>\n<table border=\"1\" class=\"dataframe\">\n  <thead>\n    <tr style=\"text-align: right;\">\n      <th></th>\n      <th>Neighborhood</th>\n      <th>BuildingType</th>\n      <th>PrimaryPropertyType</th>\n    </tr>\n  </thead>\n  <tbody>\n    <tr>\n      <th>1008</th>\n      <td>Northeast</td>\n      <td>Multifamily lr (1-4)</td>\n      <td>Low-rise multifamily</td>\n    </tr>\n    <tr>\n      <th>1784</th>\n      <td>North</td>\n      <td>Multifamily lr (1-4)</td>\n      <td>Low-rise multifamily</td>\n    </tr>\n    <tr>\n      <th>1563</th>\n      <td>Lake union</td>\n      <td>Multifamily lr (1-4)</td>\n      <td>Low-rise multifamily</td>\n    </tr>\n    <tr>\n      <th>452</th>\n      <td>Magnolia / queen anne</td>\n      <td>Nonresidential</td>\n      <td>Small- and mid-sized office</td>\n    </tr>\n    <tr>\n      <th>1561</th>\n      <td>Downtown</td>\n      <td>Multifamily hr (10+)</td>\n      <td>High-rise multifamily</td>\n    </tr>\n    <tr>\n      <th>...</th>\n      <td>...</td>\n      <td>...</td>\n      <td>...</td>\n    </tr>\n    <tr>\n      <th>2763</th>\n      <td>East</td>\n      <td>Multifamily mr (5-9)</td>\n      <td>Mid-rise multifamily</td>\n    </tr>\n    <tr>\n      <th>905</th>\n      <td>Southwest</td>\n      <td>Nonresidential</td>\n      <td>Small- and mid-sized office</td>\n    </tr>\n    <tr>\n      <th>1096</th>\n      <td>Northwest</td>\n      <td>Multifamily lr (1-4)</td>\n      <td>Low-rise multifamily</td>\n    </tr>\n    <tr>\n      <th>235</th>\n      <td>Downtown</td>\n      <td>Nonresidential</td>\n      <td>Small- and mid-sized office</td>\n    </tr>\n    <tr>\n      <th>1061</th>\n      <td>Lake union</td>\n      <td>Nonresidential</td>\n      <td>Warehouse</td>\n    </tr>\n  </tbody>\n</table>\n<p>2202 rows × 3 columns</p>\n</div>"
     },
     "execution_count": 333,
     "metadata": {},
     "output_type": "execute_result"
    }
   ],
   "source": [
    "train_std[categorical_columns]"
   ],
   "metadata": {
    "collapsed": false,
    "pycharm": {
     "name": "#%%\n"
    }
   }
  },
  {
   "cell_type": "markdown",
   "source": [
    "##### Encoding the categorical features of the train set\n"
   ],
   "metadata": {
    "collapsed": false,
    "pycharm": {
     "name": "#%% md\n"
    }
   }
  },
  {
   "cell_type": "code",
   "execution_count": 334,
   "outputs": [
    {
     "name": "stdout",
     "output_type": "stream",
     "text": [
      "Now, we can use the One Hot Encoder.\n",
      "With the one hot encoder, we will get : 43 columns to encodes the categorical features.\n"
     ]
    }
   ],
   "source": [
    "print(\"Now, we can use the One Hot Encoder.\")\n",
    "print(\"With the one hot encoder, we will get :\", sum([train[categorical_columns].nunique()[i] for i in range(len(categorical_columns))]), \"columns to encodes the categorical features.\")"
   ],
   "metadata": {
    "collapsed": false,
    "pycharm": {
     "name": "#%%\n"
    }
   }
  },
  {
   "cell_type": "code",
   "execution_count": 335,
   "outputs": [
    {
     "name": "stdout",
     "output_type": "stream",
     "text": [
      "We have indeed : 43 labels after encoding the categorical variables.\n"
     ]
    },
    {
     "data": {
      "text/plain": "      Neighborhood_Ballard  Neighborhood_Central  Neighborhood_Delridge  \\\n0                      0.0                   0.0                    0.0   \n1                      0.0                   0.0                    0.0   \n2                      0.0                   0.0                    0.0   \n5                      0.0                   0.0                    0.0   \n7                      0.0                   0.0                    0.0   \n...                    ...                   ...                    ...   \n3138                   0.0                   0.0                    0.0   \n3139                   0.0                   1.0                    0.0   \n3140                   0.0                   0.0                    0.0   \n3141                   0.0                   0.0                    0.0   \n3145                   0.0                   1.0                    0.0   \n\n      Neighborhood_Downtown  Neighborhood_East  Neighborhood_Greater duwamish  \\\n0                       1.0                0.0                            0.0   \n1                       1.0                0.0                            0.0   \n2                       1.0                0.0                            0.0   \n5                       1.0                0.0                            0.0   \n7                       1.0                0.0                            0.0   \n...                     ...                ...                            ...   \n3138                    0.0                0.0                            0.0   \n3139                    0.0                0.0                            0.0   \n3140                    0.0                0.0                            0.0   \n3141                    0.0                0.0                            0.0   \n3145                    0.0                0.0                            0.0   \n\n      Neighborhood_Lake union  Neighborhood_Magnolia / queen anne  \\\n0                         0.0                                 0.0   \n1                         0.0                                 0.0   \n2                         0.0                                 0.0   \n5                         0.0                                 0.0   \n7                         0.0                                 0.0   \n...                       ...                                 ...   \n3138                      1.0                                 0.0   \n3139                      0.0                                 0.0   \n3140                      0.0                                 0.0   \n3141                      0.0                                 0.0   \n3145                      0.0                                 0.0   \n\n      Neighborhood_North  Neighborhood_Northeast  ...  \\\n0                    0.0                     0.0  ...   \n1                    0.0                     0.0  ...   \n2                    0.0                     0.0  ...   \n5                    0.0                     0.0  ...   \n7                    0.0                     0.0  ...   \n...                  ...                     ...  ...   \n3138                 0.0                     0.0  ...   \n3139                 0.0                     0.0  ...   \n3140                 0.0                     1.0  ...   \n3141                 0.0                     1.0  ...   \n3145                 0.0                     0.0  ...   \n\n      PrimaryPropertyType_Residence hall  PrimaryPropertyType_Restaurant  \\\n0                                    0.0                             0.0   \n1                                    0.0                             0.0   \n2                                    0.0                             0.0   \n5                                    0.0                             0.0   \n7                                    0.0                             0.0   \n...                                  ...                             ...   \n3138                                 0.0                             0.0   \n3139                                 0.0                             0.0   \n3140                                 0.0                             0.0   \n3141                                 1.0                             0.0   \n3145                                 0.0                             0.0   \n\n      PrimaryPropertyType_Retail store  \\\n0                                  0.0   \n1                                  0.0   \n2                                  0.0   \n5                                  0.0   \n7                                  0.0   \n...                                ...   \n3138                               0.0   \n3139                               0.0   \n3140                               0.0   \n3141                               0.0   \n3145                               0.0   \n\n      PrimaryPropertyType_Self-storage facility  \\\n0                                           0.0   \n1                                           0.0   \n2                                           0.0   \n5                                           0.0   \n7                                           0.0   \n...                                         ...   \n3138                                        0.0   \n3139                                        0.0   \n3140                                        0.0   \n3141                                        0.0   \n3145                                        0.0   \n\n      PrimaryPropertyType_Senior care community  \\\n0                                           0.0   \n1                                           0.0   \n2                                           0.0   \n5                                           0.0   \n7                                           0.0   \n...                                         ...   \n3138                                        0.0   \n3139                                        0.0   \n3140                                        0.0   \n3141                                        0.0   \n3145                                        0.0   \n\n      PrimaryPropertyType_Small- and mid-sized office  \\\n0                                                 0.0   \n1                                                 0.0   \n2                                                 0.0   \n5                                                 0.0   \n7                                                 0.0   \n...                                               ...   \n3138                                              0.0   \n3139                                              0.0   \n3140                                              0.0   \n3141                                              0.0   \n3145                                              0.0   \n\n      PrimaryPropertyType_Supermarket / grocery store  \\\n0                                                 0.0   \n1                                                 0.0   \n2                                                 0.0   \n5                                                 0.0   \n7                                                 0.0   \n...                                               ...   \n3138                                              0.0   \n3139                                              0.0   \n3140                                              0.0   \n3141                                              0.0   \n3145                                              0.0   \n\n      PrimaryPropertyType_University  PrimaryPropertyType_Warehouse  \\\n0                                0.0                            0.0   \n1                                0.0                            0.0   \n2                                0.0                            0.0   \n5                                0.0                            0.0   \n7                                0.0                            0.0   \n...                              ...                            ...   \n3138                             0.0                            0.0   \n3139                             0.0                            0.0   \n3140                             0.0                            0.0   \n3141                             0.0                            0.0   \n3145                             0.0                            0.0   \n\n      PrimaryPropertyType_Worship facility  \n0                                      0.0  \n1                                      0.0  \n2                                      0.0  \n5                                      0.0  \n7                                      0.0  \n...                                    ...  \n3138                                   0.0  \n3139                                   0.0  \n3140                                   0.0  \n3141                                   0.0  \n3145                                   0.0  \n\n[2202 rows x 43 columns]",
      "text/html": "<div>\n<style scoped>\n    .dataframe tbody tr th:only-of-type {\n        vertical-align: middle;\n    }\n\n    .dataframe tbody tr th {\n        vertical-align: top;\n    }\n\n    .dataframe thead th {\n        text-align: right;\n    }\n</style>\n<table border=\"1\" class=\"dataframe\">\n  <thead>\n    <tr style=\"text-align: right;\">\n      <th></th>\n      <th>Neighborhood_Ballard</th>\n      <th>Neighborhood_Central</th>\n      <th>Neighborhood_Delridge</th>\n      <th>Neighborhood_Downtown</th>\n      <th>Neighborhood_East</th>\n      <th>Neighborhood_Greater duwamish</th>\n      <th>Neighborhood_Lake union</th>\n      <th>Neighborhood_Magnolia / queen anne</th>\n      <th>Neighborhood_North</th>\n      <th>Neighborhood_Northeast</th>\n      <th>...</th>\n      <th>PrimaryPropertyType_Residence hall</th>\n      <th>PrimaryPropertyType_Restaurant</th>\n      <th>PrimaryPropertyType_Retail store</th>\n      <th>PrimaryPropertyType_Self-storage facility</th>\n      <th>PrimaryPropertyType_Senior care community</th>\n      <th>PrimaryPropertyType_Small- and mid-sized office</th>\n      <th>PrimaryPropertyType_Supermarket / grocery store</th>\n      <th>PrimaryPropertyType_University</th>\n      <th>PrimaryPropertyType_Warehouse</th>\n      <th>PrimaryPropertyType_Worship facility</th>\n    </tr>\n  </thead>\n  <tbody>\n    <tr>\n      <th>0</th>\n      <td>0.0</td>\n      <td>0.0</td>\n      <td>0.0</td>\n      <td>1.0</td>\n      <td>0.0</td>\n      <td>0.0</td>\n      <td>0.0</td>\n      <td>0.0</td>\n      <td>0.0</td>\n      <td>0.0</td>\n      <td>...</td>\n      <td>0.0</td>\n      <td>0.0</td>\n      <td>0.0</td>\n      <td>0.0</td>\n      <td>0.0</td>\n      <td>0.0</td>\n      <td>0.0</td>\n      <td>0.0</td>\n      <td>0.0</td>\n      <td>0.0</td>\n    </tr>\n    <tr>\n      <th>1</th>\n      <td>0.0</td>\n      <td>0.0</td>\n      <td>0.0</td>\n      <td>1.0</td>\n      <td>0.0</td>\n      <td>0.0</td>\n      <td>0.0</td>\n      <td>0.0</td>\n      <td>0.0</td>\n      <td>0.0</td>\n      <td>...</td>\n      <td>0.0</td>\n      <td>0.0</td>\n      <td>0.0</td>\n      <td>0.0</td>\n      <td>0.0</td>\n      <td>0.0</td>\n      <td>0.0</td>\n      <td>0.0</td>\n      <td>0.0</td>\n      <td>0.0</td>\n    </tr>\n    <tr>\n      <th>2</th>\n      <td>0.0</td>\n      <td>0.0</td>\n      <td>0.0</td>\n      <td>1.0</td>\n      <td>0.0</td>\n      <td>0.0</td>\n      <td>0.0</td>\n      <td>0.0</td>\n      <td>0.0</td>\n      <td>0.0</td>\n      <td>...</td>\n      <td>0.0</td>\n      <td>0.0</td>\n      <td>0.0</td>\n      <td>0.0</td>\n      <td>0.0</td>\n      <td>0.0</td>\n      <td>0.0</td>\n      <td>0.0</td>\n      <td>0.0</td>\n      <td>0.0</td>\n    </tr>\n    <tr>\n      <th>5</th>\n      <td>0.0</td>\n      <td>0.0</td>\n      <td>0.0</td>\n      <td>1.0</td>\n      <td>0.0</td>\n      <td>0.0</td>\n      <td>0.0</td>\n      <td>0.0</td>\n      <td>0.0</td>\n      <td>0.0</td>\n      <td>...</td>\n      <td>0.0</td>\n      <td>0.0</td>\n      <td>0.0</td>\n      <td>0.0</td>\n      <td>0.0</td>\n      <td>0.0</td>\n      <td>0.0</td>\n      <td>0.0</td>\n      <td>0.0</td>\n      <td>0.0</td>\n    </tr>\n    <tr>\n      <th>7</th>\n      <td>0.0</td>\n      <td>0.0</td>\n      <td>0.0</td>\n      <td>1.0</td>\n      <td>0.0</td>\n      <td>0.0</td>\n      <td>0.0</td>\n      <td>0.0</td>\n      <td>0.0</td>\n      <td>0.0</td>\n      <td>...</td>\n      <td>0.0</td>\n      <td>0.0</td>\n      <td>0.0</td>\n      <td>0.0</td>\n      <td>0.0</td>\n      <td>0.0</td>\n      <td>0.0</td>\n      <td>0.0</td>\n      <td>0.0</td>\n      <td>0.0</td>\n    </tr>\n    <tr>\n      <th>...</th>\n      <td>...</td>\n      <td>...</td>\n      <td>...</td>\n      <td>...</td>\n      <td>...</td>\n      <td>...</td>\n      <td>...</td>\n      <td>...</td>\n      <td>...</td>\n      <td>...</td>\n      <td>...</td>\n      <td>...</td>\n      <td>...</td>\n      <td>...</td>\n      <td>...</td>\n      <td>...</td>\n      <td>...</td>\n      <td>...</td>\n      <td>...</td>\n      <td>...</td>\n      <td>...</td>\n    </tr>\n    <tr>\n      <th>3138</th>\n      <td>0.0</td>\n      <td>0.0</td>\n      <td>0.0</td>\n      <td>0.0</td>\n      <td>0.0</td>\n      <td>0.0</td>\n      <td>1.0</td>\n      <td>0.0</td>\n      <td>0.0</td>\n      <td>0.0</td>\n      <td>...</td>\n      <td>0.0</td>\n      <td>0.0</td>\n      <td>0.0</td>\n      <td>0.0</td>\n      <td>0.0</td>\n      <td>0.0</td>\n      <td>0.0</td>\n      <td>0.0</td>\n      <td>0.0</td>\n      <td>0.0</td>\n    </tr>\n    <tr>\n      <th>3139</th>\n      <td>0.0</td>\n      <td>1.0</td>\n      <td>0.0</td>\n      <td>0.0</td>\n      <td>0.0</td>\n      <td>0.0</td>\n      <td>0.0</td>\n      <td>0.0</td>\n      <td>0.0</td>\n      <td>0.0</td>\n      <td>...</td>\n      <td>0.0</td>\n      <td>0.0</td>\n      <td>0.0</td>\n      <td>0.0</td>\n      <td>0.0</td>\n      <td>0.0</td>\n      <td>0.0</td>\n      <td>0.0</td>\n      <td>0.0</td>\n      <td>0.0</td>\n    </tr>\n    <tr>\n      <th>3140</th>\n      <td>0.0</td>\n      <td>0.0</td>\n      <td>0.0</td>\n      <td>0.0</td>\n      <td>0.0</td>\n      <td>0.0</td>\n      <td>0.0</td>\n      <td>0.0</td>\n      <td>0.0</td>\n      <td>1.0</td>\n      <td>...</td>\n      <td>0.0</td>\n      <td>0.0</td>\n      <td>0.0</td>\n      <td>0.0</td>\n      <td>0.0</td>\n      <td>0.0</td>\n      <td>0.0</td>\n      <td>0.0</td>\n      <td>0.0</td>\n      <td>0.0</td>\n    </tr>\n    <tr>\n      <th>3141</th>\n      <td>0.0</td>\n      <td>0.0</td>\n      <td>0.0</td>\n      <td>0.0</td>\n      <td>0.0</td>\n      <td>0.0</td>\n      <td>0.0</td>\n      <td>0.0</td>\n      <td>0.0</td>\n      <td>1.0</td>\n      <td>...</td>\n      <td>1.0</td>\n      <td>0.0</td>\n      <td>0.0</td>\n      <td>0.0</td>\n      <td>0.0</td>\n      <td>0.0</td>\n      <td>0.0</td>\n      <td>0.0</td>\n      <td>0.0</td>\n      <td>0.0</td>\n    </tr>\n    <tr>\n      <th>3145</th>\n      <td>0.0</td>\n      <td>1.0</td>\n      <td>0.0</td>\n      <td>0.0</td>\n      <td>0.0</td>\n      <td>0.0</td>\n      <td>0.0</td>\n      <td>0.0</td>\n      <td>0.0</td>\n      <td>0.0</td>\n      <td>...</td>\n      <td>0.0</td>\n      <td>0.0</td>\n      <td>0.0</td>\n      <td>0.0</td>\n      <td>0.0</td>\n      <td>0.0</td>\n      <td>0.0</td>\n      <td>0.0</td>\n      <td>0.0</td>\n      <td>0.0</td>\n    </tr>\n  </tbody>\n</table>\n<p>2202 rows × 43 columns</p>\n</div>"
     },
     "metadata": {},
     "output_type": "display_data"
    }
   ],
   "source": [
    "# 0) creating instance of one-hot-encoder\n",
    "one_hot_encoder = OneHotEncoder(handle_unknown='ignore', sparse=False) # if sparse=True (by default), we need to add .toarray() to encoded_categorical_data\n",
    "\n",
    "# 1) Fit the encoder on the training set\n",
    "one_hot_encoder.fit(train_std[categorical_columns])\n",
    "\n",
    "# 2) we get the encoded numpy array\n",
    "encoded_categorical_data = one_hot_encoder.transform(train_std[categorical_columns])\n",
    "\n",
    "# 3) we make a list of the columns names\n",
    "encoded_categorical_data_names = one_hot_encoder.get_feature_names_out().tolist()\n",
    "print(\"We have indeed :\", len(encoded_categorical_data_names), \"labels after encoding the categorical variables.\")\n",
    "\n",
    "# 4) we recreate a dataframe with the column names and the numpy array\n",
    "train_encoded = pd.DataFrame(columns=encoded_categorical_data_names,\n",
    "                               data=encoded_categorical_data,\n",
    "                               index=train_std.index)\n",
    "display(train_encoded.sort_index())"
   ],
   "metadata": {
    "collapsed": false,
    "pycharm": {
     "name": "#%%\n"
    }
   }
  },
  {
   "cell_type": "code",
   "execution_count": 336,
   "outputs": [
    {
     "name": "stdout",
     "output_type": "stream",
     "text": [
      "We need to add YearBuilt to the list of features.\n",
      "['Log-NumberofBuildings', 'Log-NumberofFloors', 'Log-PropertyGFATotal', 'Log-PropertyGFAParking', 'Log-SecondLargestPropertyUseTypeGFA', 'Log-ThirdLargestPropertyUseTypeGFA', 'YearBuilt', 'Log-SteamUse(kBtu)', 'Log-Electricity(kBtu)', 'Log-NaturalGas(kBtu)', 'Log-TotalEnergy(kBtu)']\n",
      "\n",
      "ASK JEREMY : merge based on index ok ? or should I put back OSEBuildingID ??\n"
     ]
    },
    {
     "data": {
      "text/plain": "      Log-NumberofBuildings  Log-NumberofFloors  Log-PropertyGFATotal  \\\n0                 -0.035067            1.739835              0.529688   \n1                 -0.035067            1.602172              0.712666   \n2                 -0.035067            3.756773              3.287491   \n5                 -0.035067           -0.782088              0.640225   \n7                 -0.035067            1.107393              0.703626   \n...                     ...                 ...                   ...   \n3138              -0.035067            0.096471             -0.349445   \n3139              -0.035067           -0.287309             -0.913535   \n3140              -0.035067            0.904820              0.151911   \n3141              -0.035067            0.904820              2.037475   \n3145              -0.035067            0.096471             -1.178163   \n\n      Log-PropertyGFAParking  Log-SecondLargestPropertyUseTypeGFA  \\\n0                  -0.405348                            -0.923528   \n1                   2.274807                             1.072892   \n2                   2.990638                            -0.923528   \n5                   2.526634                            -0.923528   \n7                  -0.405348                            -0.923528   \n...                      ...                                  ...   \n3138               -0.405348                             0.841584   \n3139                1.379140                             0.866893   \n3140                1.959102                            -0.923528   \n3141               -0.405348                            -0.923528   \n3145                1.783304                            -0.923528   \n\n      Log-ThirdLargestPropertyUseTypeGFA  YearBuilt  Log-SteamUse(kBtu)  \\\n0                              -0.439239       1927           14.510597   \n1                               2.153810       1996            0.000000   \n2                              -0.439239       1969           16.886654   \n5                              -0.439239       1999            0.000000   \n7                              -0.439239       1926           14.638056   \n...                                  ...        ...                 ...   \n3138                           -0.439239       2015            0.000000   \n3139                            2.071010       2015            0.000000   \n3140                           -0.439239       2015            0.000000   \n3141                           -0.439239       2015            0.000000   \n3145                           -0.439239       2014            0.000000   \n\n      Log-Electricity(kBtu)  Log-NaturalGas(kBtu)  ...  \\\n0                 15.188220             14.059596  ...   \n1                 14.991964             15.453552  ...   \n2                 17.718022             14.216834  ...   \n5                 15.813123             15.366298  ...   \n7                 15.106575             12.861492  ...   \n...                     ...                   ...  ...   \n3138              13.513113             12.975567  ...   \n3139              13.679047             14.085077  ...   \n3140              14.223590             13.633661  ...   \n3141              15.991918             15.850596  ...   \n3145              13.122217             12.577367  ...   \n\n      PrimaryPropertyType_Residence hall  PrimaryPropertyType_Restaurant  \\\n0                                    0.0                             0.0   \n1                                    0.0                             0.0   \n2                                    0.0                             0.0   \n5                                    0.0                             0.0   \n7                                    0.0                             0.0   \n...                                  ...                             ...   \n3138                                 0.0                             0.0   \n3139                                 0.0                             0.0   \n3140                                 0.0                             0.0   \n3141                                 1.0                             0.0   \n3145                                 0.0                             0.0   \n\n      PrimaryPropertyType_Retail store  \\\n0                                  0.0   \n1                                  0.0   \n2                                  0.0   \n5                                  0.0   \n7                                  0.0   \n...                                ...   \n3138                               0.0   \n3139                               0.0   \n3140                               0.0   \n3141                               0.0   \n3145                               0.0   \n\n      PrimaryPropertyType_Self-storage facility  \\\n0                                           0.0   \n1                                           0.0   \n2                                           0.0   \n5                                           0.0   \n7                                           0.0   \n...                                         ...   \n3138                                        0.0   \n3139                                        0.0   \n3140                                        0.0   \n3141                                        0.0   \n3145                                        0.0   \n\n      PrimaryPropertyType_Senior care community  \\\n0                                           0.0   \n1                                           0.0   \n2                                           0.0   \n5                                           0.0   \n7                                           0.0   \n...                                         ...   \n3138                                        0.0   \n3139                                        0.0   \n3140                                        0.0   \n3141                                        0.0   \n3145                                        0.0   \n\n      PrimaryPropertyType_Small- and mid-sized office  \\\n0                                                 0.0   \n1                                                 0.0   \n2                                                 0.0   \n5                                                 0.0   \n7                                                 0.0   \n...                                               ...   \n3138                                              0.0   \n3139                                              0.0   \n3140                                              0.0   \n3141                                              0.0   \n3145                                              0.0   \n\n      PrimaryPropertyType_Supermarket / grocery store  \\\n0                                                 0.0   \n1                                                 0.0   \n2                                                 0.0   \n5                                                 0.0   \n7                                                 0.0   \n...                                               ...   \n3138                                              0.0   \n3139                                              0.0   \n3140                                              0.0   \n3141                                              0.0   \n3145                                              0.0   \n\n      PrimaryPropertyType_University  PrimaryPropertyType_Warehouse  \\\n0                                0.0                            0.0   \n1                                0.0                            0.0   \n2                                0.0                            0.0   \n5                                0.0                            0.0   \n7                                0.0                            0.0   \n...                              ...                            ...   \n3138                             0.0                            0.0   \n3139                             0.0                            0.0   \n3140                             0.0                            0.0   \n3141                             0.0                            0.0   \n3145                             0.0                            0.0   \n\n      PrimaryPropertyType_Worship facility  \n0                                      0.0  \n1                                      0.0  \n2                                      0.0  \n5                                      0.0  \n7                                      0.0  \n...                                    ...  \n3138                                   0.0  \n3139                                   0.0  \n3140                                   0.0  \n3141                                   0.0  \n3145                                   0.0  \n\n[2202 rows x 54 columns]",
      "text/html": "<div>\n<style scoped>\n    .dataframe tbody tr th:only-of-type {\n        vertical-align: middle;\n    }\n\n    .dataframe tbody tr th {\n        vertical-align: top;\n    }\n\n    .dataframe thead th {\n        text-align: right;\n    }\n</style>\n<table border=\"1\" class=\"dataframe\">\n  <thead>\n    <tr style=\"text-align: right;\">\n      <th></th>\n      <th>Log-NumberofBuildings</th>\n      <th>Log-NumberofFloors</th>\n      <th>Log-PropertyGFATotal</th>\n      <th>Log-PropertyGFAParking</th>\n      <th>Log-SecondLargestPropertyUseTypeGFA</th>\n      <th>Log-ThirdLargestPropertyUseTypeGFA</th>\n      <th>YearBuilt</th>\n      <th>Log-SteamUse(kBtu)</th>\n      <th>Log-Electricity(kBtu)</th>\n      <th>Log-NaturalGas(kBtu)</th>\n      <th>...</th>\n      <th>PrimaryPropertyType_Residence hall</th>\n      <th>PrimaryPropertyType_Restaurant</th>\n      <th>PrimaryPropertyType_Retail store</th>\n      <th>PrimaryPropertyType_Self-storage facility</th>\n      <th>PrimaryPropertyType_Senior care community</th>\n      <th>PrimaryPropertyType_Small- and mid-sized office</th>\n      <th>PrimaryPropertyType_Supermarket / grocery store</th>\n      <th>PrimaryPropertyType_University</th>\n      <th>PrimaryPropertyType_Warehouse</th>\n      <th>PrimaryPropertyType_Worship facility</th>\n    </tr>\n  </thead>\n  <tbody>\n    <tr>\n      <th>0</th>\n      <td>-0.035067</td>\n      <td>1.739835</td>\n      <td>0.529688</td>\n      <td>-0.405348</td>\n      <td>-0.923528</td>\n      <td>-0.439239</td>\n      <td>1927</td>\n      <td>14.510597</td>\n      <td>15.188220</td>\n      <td>14.059596</td>\n      <td>...</td>\n      <td>0.0</td>\n      <td>0.0</td>\n      <td>0.0</td>\n      <td>0.0</td>\n      <td>0.0</td>\n      <td>0.0</td>\n      <td>0.0</td>\n      <td>0.0</td>\n      <td>0.0</td>\n      <td>0.0</td>\n    </tr>\n    <tr>\n      <th>1</th>\n      <td>-0.035067</td>\n      <td>1.602172</td>\n      <td>0.712666</td>\n      <td>2.274807</td>\n      <td>1.072892</td>\n      <td>2.153810</td>\n      <td>1996</td>\n      <td>0.000000</td>\n      <td>14.991964</td>\n      <td>15.453552</td>\n      <td>...</td>\n      <td>0.0</td>\n      <td>0.0</td>\n      <td>0.0</td>\n      <td>0.0</td>\n      <td>0.0</td>\n      <td>0.0</td>\n      <td>0.0</td>\n      <td>0.0</td>\n      <td>0.0</td>\n      <td>0.0</td>\n    </tr>\n    <tr>\n      <th>2</th>\n      <td>-0.035067</td>\n      <td>3.756773</td>\n      <td>3.287491</td>\n      <td>2.990638</td>\n      <td>-0.923528</td>\n      <td>-0.439239</td>\n      <td>1969</td>\n      <td>16.886654</td>\n      <td>17.718022</td>\n      <td>14.216834</td>\n      <td>...</td>\n      <td>0.0</td>\n      <td>0.0</td>\n      <td>0.0</td>\n      <td>0.0</td>\n      <td>0.0</td>\n      <td>0.0</td>\n      <td>0.0</td>\n      <td>0.0</td>\n      <td>0.0</td>\n      <td>0.0</td>\n    </tr>\n    <tr>\n      <th>5</th>\n      <td>-0.035067</td>\n      <td>-0.782088</td>\n      <td>0.640225</td>\n      <td>2.526634</td>\n      <td>-0.923528</td>\n      <td>-0.439239</td>\n      <td>1999</td>\n      <td>0.000000</td>\n      <td>15.813123</td>\n      <td>15.366298</td>\n      <td>...</td>\n      <td>0.0</td>\n      <td>0.0</td>\n      <td>0.0</td>\n      <td>0.0</td>\n      <td>0.0</td>\n      <td>0.0</td>\n      <td>0.0</td>\n      <td>0.0</td>\n      <td>0.0</td>\n      <td>0.0</td>\n    </tr>\n    <tr>\n      <th>7</th>\n      <td>-0.035067</td>\n      <td>1.107393</td>\n      <td>0.703626</td>\n      <td>-0.405348</td>\n      <td>-0.923528</td>\n      <td>-0.439239</td>\n      <td>1926</td>\n      <td>14.638056</td>\n      <td>15.106575</td>\n      <td>12.861492</td>\n      <td>...</td>\n      <td>0.0</td>\n      <td>0.0</td>\n      <td>0.0</td>\n      <td>0.0</td>\n      <td>0.0</td>\n      <td>0.0</td>\n      <td>0.0</td>\n      <td>0.0</td>\n      <td>0.0</td>\n      <td>0.0</td>\n    </tr>\n    <tr>\n      <th>...</th>\n      <td>...</td>\n      <td>...</td>\n      <td>...</td>\n      <td>...</td>\n      <td>...</td>\n      <td>...</td>\n      <td>...</td>\n      <td>...</td>\n      <td>...</td>\n      <td>...</td>\n      <td>...</td>\n      <td>...</td>\n      <td>...</td>\n      <td>...</td>\n      <td>...</td>\n      <td>...</td>\n      <td>...</td>\n      <td>...</td>\n      <td>...</td>\n      <td>...</td>\n      <td>...</td>\n    </tr>\n    <tr>\n      <th>3138</th>\n      <td>-0.035067</td>\n      <td>0.096471</td>\n      <td>-0.349445</td>\n      <td>-0.405348</td>\n      <td>0.841584</td>\n      <td>-0.439239</td>\n      <td>2015</td>\n      <td>0.000000</td>\n      <td>13.513113</td>\n      <td>12.975567</td>\n      <td>...</td>\n      <td>0.0</td>\n      <td>0.0</td>\n      <td>0.0</td>\n      <td>0.0</td>\n      <td>0.0</td>\n      <td>0.0</td>\n      <td>0.0</td>\n      <td>0.0</td>\n      <td>0.0</td>\n      <td>0.0</td>\n    </tr>\n    <tr>\n      <th>3139</th>\n      <td>-0.035067</td>\n      <td>-0.287309</td>\n      <td>-0.913535</td>\n      <td>1.379140</td>\n      <td>0.866893</td>\n      <td>2.071010</td>\n      <td>2015</td>\n      <td>0.000000</td>\n      <td>13.679047</td>\n      <td>14.085077</td>\n      <td>...</td>\n      <td>0.0</td>\n      <td>0.0</td>\n      <td>0.0</td>\n      <td>0.0</td>\n      <td>0.0</td>\n      <td>0.0</td>\n      <td>0.0</td>\n      <td>0.0</td>\n      <td>0.0</td>\n      <td>0.0</td>\n    </tr>\n    <tr>\n      <th>3140</th>\n      <td>-0.035067</td>\n      <td>0.904820</td>\n      <td>0.151911</td>\n      <td>1.959102</td>\n      <td>-0.923528</td>\n      <td>-0.439239</td>\n      <td>2015</td>\n      <td>0.000000</td>\n      <td>14.223590</td>\n      <td>13.633661</td>\n      <td>...</td>\n      <td>0.0</td>\n      <td>0.0</td>\n      <td>0.0</td>\n      <td>0.0</td>\n      <td>0.0</td>\n      <td>0.0</td>\n      <td>0.0</td>\n      <td>0.0</td>\n      <td>0.0</td>\n      <td>0.0</td>\n    </tr>\n    <tr>\n      <th>3141</th>\n      <td>-0.035067</td>\n      <td>0.904820</td>\n      <td>2.037475</td>\n      <td>-0.405348</td>\n      <td>-0.923528</td>\n      <td>-0.439239</td>\n      <td>2015</td>\n      <td>0.000000</td>\n      <td>15.991918</td>\n      <td>15.850596</td>\n      <td>...</td>\n      <td>1.0</td>\n      <td>0.0</td>\n      <td>0.0</td>\n      <td>0.0</td>\n      <td>0.0</td>\n      <td>0.0</td>\n      <td>0.0</td>\n      <td>0.0</td>\n      <td>0.0</td>\n      <td>0.0</td>\n    </tr>\n    <tr>\n      <th>3145</th>\n      <td>-0.035067</td>\n      <td>0.096471</td>\n      <td>-1.178163</td>\n      <td>1.783304</td>\n      <td>-0.923528</td>\n      <td>-0.439239</td>\n      <td>2014</td>\n      <td>0.000000</td>\n      <td>13.122217</td>\n      <td>12.577367</td>\n      <td>...</td>\n      <td>0.0</td>\n      <td>0.0</td>\n      <td>0.0</td>\n      <td>0.0</td>\n      <td>0.0</td>\n      <td>0.0</td>\n      <td>0.0</td>\n      <td>0.0</td>\n      <td>0.0</td>\n      <td>0.0</td>\n    </tr>\n  </tbody>\n</table>\n<p>2202 rows × 54 columns</p>\n</div>"
     },
     "metadata": {},
     "output_type": "display_data"
    }
   ],
   "source": [
    "# 5) Concatenate the two dataframes for the training set\n",
    "\n",
    "print(\"We need to add YearBuilt to the list of features.\")\n",
    "numerical_columns.tolist()\n",
    "features_to_merge = numerical_columns.tolist().copy()\n",
    "features_to_merge.append(\"YearBuilt\")\n",
    "features_to_merge.extend(models_energy_target)###\n",
    "print(features_to_merge, end=\"\\n\\n\")\n",
    "\n",
    "print(\"ASK JEREMY : merge based on index ok ? or should I put back OSEBuildingID ??\")\n",
    "train_std_encoded = pd.merge(train_std[features_to_merge].sort_index(), train_encoded.sort_index(), left_index=True, right_index=True)\n",
    "display(train_std_encoded.sort_index())"
   ],
   "metadata": {
    "collapsed": false,
    "pycharm": {
     "name": "#%%\n"
    }
   }
  },
  {
   "cell_type": "markdown",
   "source": [
    "##### Encoding the categorical features of the test set"
   ],
   "metadata": {
    "collapsed": false,
    "pycharm": {
     "name": "#%% md\n"
    }
   }
  },
  {
   "cell_type": "code",
   "execution_count": 337,
   "outputs": [
    {
     "name": "stdout",
     "output_type": "stream",
     "text": [
      "ASK JEREMY for this method below ???\n"
     ]
    },
    {
     "data": {
      "text/plain": "      Neighborhood_Ballard  Neighborhood_Central  Neighborhood_Delridge  \\\n3                      0.0                   0.0                    0.0   \n4                      0.0                   0.0                    0.0   \n6                      0.0                   0.0                    0.0   \n10                     0.0                   0.0                    0.0   \n12                     0.0                   0.0                    0.0   \n...                    ...                   ...                    ...   \n3137                   0.0                   0.0                    0.0   \n3142                   0.0                   0.0                    0.0   \n3143                   0.0                   0.0                    0.0   \n3144                   0.0                   0.0                    0.0   \n3146                   0.0                   0.0                    0.0   \n\n      Neighborhood_Downtown  Neighborhood_East  Neighborhood_Greater duwamish  \\\n3                       1.0                0.0                            0.0   \n4                       1.0                0.0                            0.0   \n6                       1.0                0.0                            0.0   \n10                      1.0                0.0                            0.0   \n12                      1.0                0.0                            0.0   \n...                     ...                ...                            ...   \n3137                    0.0                0.0                            0.0   \n3142                    0.0                1.0                            0.0   \n3143                    0.0                0.0                            0.0   \n3144                    0.0                0.0                            0.0   \n3146                    0.0                0.0                            0.0   \n\n      Neighborhood_Lake union  Neighborhood_Magnolia / queen anne  \\\n3                         0.0                                 0.0   \n4                         0.0                                 0.0   \n6                         0.0                                 0.0   \n10                        0.0                                 0.0   \n12                        0.0                                 0.0   \n...                       ...                                 ...   \n3137                      0.0                                 0.0   \n3142                      0.0                                 0.0   \n3143                      1.0                                 0.0   \n3144                      0.0                                 0.0   \n3146                      0.0                                 0.0   \n\n      Neighborhood_North  Neighborhood_Northeast  ...  \\\n3                    0.0                     0.0  ...   \n4                    0.0                     0.0  ...   \n6                    0.0                     0.0  ...   \n10                   0.0                     0.0  ...   \n12                   0.0                     0.0  ...   \n...                  ...                     ...  ...   \n3137                 0.0                     1.0  ...   \n3142                 0.0                     0.0  ...   \n3143                 0.0                     0.0  ...   \n3144                 0.0                     0.0  ...   \n3146                 0.0                     1.0  ...   \n\n      PrimaryPropertyType_Residence hall  PrimaryPropertyType_Restaurant  \\\n3                                    0.0                             0.0   \n4                                    0.0                             0.0   \n6                                    0.0                             0.0   \n10                                   0.0                             0.0   \n12                                   0.0                             0.0   \n...                                  ...                             ...   \n3137                                 0.0                             0.0   \n3142                                 0.0                             0.0   \n3143                                 0.0                             0.0   \n3144                                 0.0                             0.0   \n3146                                 0.0                             0.0   \n\n      PrimaryPropertyType_Retail store  \\\n3                                  0.0   \n4                                  0.0   \n6                                  0.0   \n10                                 0.0   \n12                                 0.0   \n...                                ...   \n3137                               0.0   \n3142                               0.0   \n3143                               0.0   \n3144                               0.0   \n3146                               0.0   \n\n      PrimaryPropertyType_Self-storage facility  \\\n3                                           0.0   \n4                                           0.0   \n6                                           0.0   \n10                                          0.0   \n12                                          0.0   \n...                                         ...   \n3137                                        0.0   \n3142                                        0.0   \n3143                                        0.0   \n3144                                        0.0   \n3146                                        0.0   \n\n      PrimaryPropertyType_Senior care community  \\\n3                                           0.0   \n4                                           0.0   \n6                                           0.0   \n10                                          0.0   \n12                                          0.0   \n...                                         ...   \n3137                                        0.0   \n3142                                        0.0   \n3143                                        0.0   \n3144                                        0.0   \n3146                                        0.0   \n\n      PrimaryPropertyType_Small- and mid-sized office  \\\n3                                                 0.0   \n4                                                 0.0   \n6                                                 0.0   \n10                                                0.0   \n12                                                0.0   \n...                                               ...   \n3137                                              0.0   \n3142                                              0.0   \n3143                                              0.0   \n3144                                              0.0   \n3146                                              0.0   \n\n      PrimaryPropertyType_Supermarket / grocery store  \\\n3                                                 0.0   \n4                                                 0.0   \n6                                                 0.0   \n10                                                0.0   \n12                                                0.0   \n...                                               ...   \n3137                                              0.0   \n3142                                              0.0   \n3143                                              0.0   \n3144                                              0.0   \n3146                                              0.0   \n\n      PrimaryPropertyType_University  PrimaryPropertyType_Warehouse  \\\n3                                0.0                            0.0   \n4                                0.0                            0.0   \n6                                0.0                            0.0   \n10                               0.0                            0.0   \n12                               0.0                            0.0   \n...                              ...                            ...   \n3137                             0.0                            0.0   \n3142                             0.0                            0.0   \n3143                             0.0                            0.0   \n3144                             0.0                            0.0   \n3146                             1.0                            0.0   \n\n      PrimaryPropertyType_Worship facility  \n3                                      0.0  \n4                                      0.0  \n6                                      0.0  \n10                                     0.0  \n12                                     0.0  \n...                                    ...  \n3137                                   0.0  \n3142                                   0.0  \n3143                                   0.0  \n3144                                   0.0  \n3146                                   0.0  \n\n[945 rows x 43 columns]",
      "text/html": "<div>\n<style scoped>\n    .dataframe tbody tr th:only-of-type {\n        vertical-align: middle;\n    }\n\n    .dataframe tbody tr th {\n        vertical-align: top;\n    }\n\n    .dataframe thead th {\n        text-align: right;\n    }\n</style>\n<table border=\"1\" class=\"dataframe\">\n  <thead>\n    <tr style=\"text-align: right;\">\n      <th></th>\n      <th>Neighborhood_Ballard</th>\n      <th>Neighborhood_Central</th>\n      <th>Neighborhood_Delridge</th>\n      <th>Neighborhood_Downtown</th>\n      <th>Neighborhood_East</th>\n      <th>Neighborhood_Greater duwamish</th>\n      <th>Neighborhood_Lake union</th>\n      <th>Neighborhood_Magnolia / queen anne</th>\n      <th>Neighborhood_North</th>\n      <th>Neighborhood_Northeast</th>\n      <th>...</th>\n      <th>PrimaryPropertyType_Residence hall</th>\n      <th>PrimaryPropertyType_Restaurant</th>\n      <th>PrimaryPropertyType_Retail store</th>\n      <th>PrimaryPropertyType_Self-storage facility</th>\n      <th>PrimaryPropertyType_Senior care community</th>\n      <th>PrimaryPropertyType_Small- and mid-sized office</th>\n      <th>PrimaryPropertyType_Supermarket / grocery store</th>\n      <th>PrimaryPropertyType_University</th>\n      <th>PrimaryPropertyType_Warehouse</th>\n      <th>PrimaryPropertyType_Worship facility</th>\n    </tr>\n  </thead>\n  <tbody>\n    <tr>\n      <th>3</th>\n      <td>0.0</td>\n      <td>0.0</td>\n      <td>0.0</td>\n      <td>1.0</td>\n      <td>0.0</td>\n      <td>0.0</td>\n      <td>0.0</td>\n      <td>0.0</td>\n      <td>0.0</td>\n      <td>0.0</td>\n      <td>...</td>\n      <td>0.0</td>\n      <td>0.0</td>\n      <td>0.0</td>\n      <td>0.0</td>\n      <td>0.0</td>\n      <td>0.0</td>\n      <td>0.0</td>\n      <td>0.0</td>\n      <td>0.0</td>\n      <td>0.0</td>\n    </tr>\n    <tr>\n      <th>4</th>\n      <td>0.0</td>\n      <td>0.0</td>\n      <td>0.0</td>\n      <td>1.0</td>\n      <td>0.0</td>\n      <td>0.0</td>\n      <td>0.0</td>\n      <td>0.0</td>\n      <td>0.0</td>\n      <td>0.0</td>\n      <td>...</td>\n      <td>0.0</td>\n      <td>0.0</td>\n      <td>0.0</td>\n      <td>0.0</td>\n      <td>0.0</td>\n      <td>0.0</td>\n      <td>0.0</td>\n      <td>0.0</td>\n      <td>0.0</td>\n      <td>0.0</td>\n    </tr>\n    <tr>\n      <th>6</th>\n      <td>0.0</td>\n      <td>0.0</td>\n      <td>0.0</td>\n      <td>1.0</td>\n      <td>0.0</td>\n      <td>0.0</td>\n      <td>0.0</td>\n      <td>0.0</td>\n      <td>0.0</td>\n      <td>0.0</td>\n      <td>...</td>\n      <td>0.0</td>\n      <td>0.0</td>\n      <td>0.0</td>\n      <td>0.0</td>\n      <td>0.0</td>\n      <td>0.0</td>\n      <td>0.0</td>\n      <td>0.0</td>\n      <td>0.0</td>\n      <td>0.0</td>\n    </tr>\n    <tr>\n      <th>10</th>\n      <td>0.0</td>\n      <td>0.0</td>\n      <td>0.0</td>\n      <td>1.0</td>\n      <td>0.0</td>\n      <td>0.0</td>\n      <td>0.0</td>\n      <td>0.0</td>\n      <td>0.0</td>\n      <td>0.0</td>\n      <td>...</td>\n      <td>0.0</td>\n      <td>0.0</td>\n      <td>0.0</td>\n      <td>0.0</td>\n      <td>0.0</td>\n      <td>0.0</td>\n      <td>0.0</td>\n      <td>0.0</td>\n      <td>0.0</td>\n      <td>0.0</td>\n    </tr>\n    <tr>\n      <th>12</th>\n      <td>0.0</td>\n      <td>0.0</td>\n      <td>0.0</td>\n      <td>1.0</td>\n      <td>0.0</td>\n      <td>0.0</td>\n      <td>0.0</td>\n      <td>0.0</td>\n      <td>0.0</td>\n      <td>0.0</td>\n      <td>...</td>\n      <td>0.0</td>\n      <td>0.0</td>\n      <td>0.0</td>\n      <td>0.0</td>\n      <td>0.0</td>\n      <td>0.0</td>\n      <td>0.0</td>\n      <td>0.0</td>\n      <td>0.0</td>\n      <td>0.0</td>\n    </tr>\n    <tr>\n      <th>...</th>\n      <td>...</td>\n      <td>...</td>\n      <td>...</td>\n      <td>...</td>\n      <td>...</td>\n      <td>...</td>\n      <td>...</td>\n      <td>...</td>\n      <td>...</td>\n      <td>...</td>\n      <td>...</td>\n      <td>...</td>\n      <td>...</td>\n      <td>...</td>\n      <td>...</td>\n      <td>...</td>\n      <td>...</td>\n      <td>...</td>\n      <td>...</td>\n      <td>...</td>\n      <td>...</td>\n    </tr>\n    <tr>\n      <th>3137</th>\n      <td>0.0</td>\n      <td>0.0</td>\n      <td>0.0</td>\n      <td>0.0</td>\n      <td>0.0</td>\n      <td>0.0</td>\n      <td>0.0</td>\n      <td>0.0</td>\n      <td>0.0</td>\n      <td>1.0</td>\n      <td>...</td>\n      <td>0.0</td>\n      <td>0.0</td>\n      <td>0.0</td>\n      <td>0.0</td>\n      <td>0.0</td>\n      <td>0.0</td>\n      <td>0.0</td>\n      <td>0.0</td>\n      <td>0.0</td>\n      <td>0.0</td>\n    </tr>\n    <tr>\n      <th>3142</th>\n      <td>0.0</td>\n      <td>0.0</td>\n      <td>0.0</td>\n      <td>0.0</td>\n      <td>1.0</td>\n      <td>0.0</td>\n      <td>0.0</td>\n      <td>0.0</td>\n      <td>0.0</td>\n      <td>0.0</td>\n      <td>...</td>\n      <td>0.0</td>\n      <td>0.0</td>\n      <td>0.0</td>\n      <td>0.0</td>\n      <td>0.0</td>\n      <td>0.0</td>\n      <td>0.0</td>\n      <td>0.0</td>\n      <td>0.0</td>\n      <td>0.0</td>\n    </tr>\n    <tr>\n      <th>3143</th>\n      <td>0.0</td>\n      <td>0.0</td>\n      <td>0.0</td>\n      <td>0.0</td>\n      <td>0.0</td>\n      <td>0.0</td>\n      <td>1.0</td>\n      <td>0.0</td>\n      <td>0.0</td>\n      <td>0.0</td>\n      <td>...</td>\n      <td>0.0</td>\n      <td>0.0</td>\n      <td>0.0</td>\n      <td>0.0</td>\n      <td>0.0</td>\n      <td>0.0</td>\n      <td>0.0</td>\n      <td>0.0</td>\n      <td>0.0</td>\n      <td>0.0</td>\n    </tr>\n    <tr>\n      <th>3144</th>\n      <td>0.0</td>\n      <td>0.0</td>\n      <td>0.0</td>\n      <td>0.0</td>\n      <td>0.0</td>\n      <td>0.0</td>\n      <td>0.0</td>\n      <td>0.0</td>\n      <td>0.0</td>\n      <td>0.0</td>\n      <td>...</td>\n      <td>0.0</td>\n      <td>0.0</td>\n      <td>0.0</td>\n      <td>0.0</td>\n      <td>0.0</td>\n      <td>0.0</td>\n      <td>0.0</td>\n      <td>0.0</td>\n      <td>0.0</td>\n      <td>0.0</td>\n    </tr>\n    <tr>\n      <th>3146</th>\n      <td>0.0</td>\n      <td>0.0</td>\n      <td>0.0</td>\n      <td>0.0</td>\n      <td>0.0</td>\n      <td>0.0</td>\n      <td>0.0</td>\n      <td>0.0</td>\n      <td>0.0</td>\n      <td>1.0</td>\n      <td>...</td>\n      <td>0.0</td>\n      <td>0.0</td>\n      <td>0.0</td>\n      <td>0.0</td>\n      <td>0.0</td>\n      <td>0.0</td>\n      <td>0.0</td>\n      <td>1.0</td>\n      <td>0.0</td>\n      <td>0.0</td>\n    </tr>\n  </tbody>\n</table>\n<p>945 rows × 43 columns</p>\n</div>"
     },
     "metadata": {},
     "output_type": "display_data"
    },
    {
     "name": "stdout",
     "output_type": "stream",
     "text": [
      "ASK JEREMY : merge based on index ok ? or should I put back OSEBuildingID ??\n"
     ]
    },
    {
     "data": {
      "text/plain": "      Log-NumberofBuildings  Log-NumberofFloors  Log-PropertyGFATotal  \\\n3                 -0.035067            1.452522              0.105529   \n4                 -0.035067            2.392512              1.324188   \n6                 -0.035067            1.602172              0.456337   \n10                -0.035067            1.602172              1.165954   \n12                -0.035067            1.288600              0.173204   \n...                     ...                 ...                   ...   \n3137              -0.035067            0.904820              1.553162   \n3142              -0.035067            0.675162              0.497963   \n3143              -0.035067            0.675162              2.107630   \n3144              -0.035067            0.904820              1.521235   \n3146              -0.035067           -1.479439              0.226538   \n\n      Log-PropertyGFAParking  Log-SecondLargestPropertyUseTypeGFA  \\\n3                  -0.405348                            -0.923528   \n4                   2.668961                             1.385691   \n6                  -0.405348                            -0.923528   \n10                  2.343535                            -0.923528   \n12                 -0.405348                            -0.923528   \n...                      ...                                  ...   \n3137                2.618557                             1.527976   \n3142                2.128455                             0.944811   \n3143                2.756954                             1.478762   \n3144                2.654283                             1.298680   \n3146               -0.405348                            -0.923528   \n\n      Log-ThirdLargestPropertyUseTypeGFA  YearBuilt  Log-SteamUse(kBtu)  \\\n3                              -0.439239       1926           14.610513   \n4                              -0.439239       1980            0.000000   \n6                              -0.439239       1926            0.000000   \n10                             -0.439239       1969           15.471291   \n12                             -0.439239       1928           14.320129   \n...                                  ...        ...                 ...   \n3137                           -0.439239       2015            0.000000   \n3142                            1.780089       2015            0.000000   \n3143                            3.044854       2015            0.000000   \n3144                           -0.439239       2015            0.000000   \n3146                           -0.439239       1962            0.000000   \n\n      Log-Electricity(kBtu)  Log-NaturalGas(kBtu)  ...  \\\n3                 14.833970             14.409508  ...   \n4                 15.496079             15.990717  ...   \n6                 14.849128             14.896495  ...   \n10                15.638062             15.339794  ...   \n12                14.110417             15.095529  ...   \n...                     ...                   ...  ...   \n3137              14.946797             15.057593  ...   \n3142              14.586193              0.000000  ...   \n3143              16.978316             16.570909  ...   \n3144              14.503028             14.262382  ...   \n3146              14.972650              0.000000  ...   \n\n      PrimaryPropertyType_Residence hall  PrimaryPropertyType_Restaurant  \\\n3                                    0.0                             0.0   \n4                                    0.0                             0.0   \n6                                    0.0                             0.0   \n10                                   0.0                             0.0   \n12                                   0.0                             0.0   \n...                                  ...                             ...   \n3137                                 0.0                             0.0   \n3142                                 0.0                             0.0   \n3143                                 0.0                             0.0   \n3144                                 0.0                             0.0   \n3146                                 0.0                             0.0   \n\n      PrimaryPropertyType_Retail store  \\\n3                                  0.0   \n4                                  0.0   \n6                                  0.0   \n10                                 0.0   \n12                                 0.0   \n...                                ...   \n3137                               0.0   \n3142                               0.0   \n3143                               0.0   \n3144                               0.0   \n3146                               0.0   \n\n      PrimaryPropertyType_Self-storage facility  \\\n3                                           0.0   \n4                                           0.0   \n6                                           0.0   \n10                                          0.0   \n12                                          0.0   \n...                                         ...   \n3137                                        0.0   \n3142                                        0.0   \n3143                                        0.0   \n3144                                        0.0   \n3146                                        0.0   \n\n      PrimaryPropertyType_Senior care community  \\\n3                                           0.0   \n4                                           0.0   \n6                                           0.0   \n10                                          0.0   \n12                                          0.0   \n...                                         ...   \n3137                                        0.0   \n3142                                        0.0   \n3143                                        0.0   \n3144                                        0.0   \n3146                                        0.0   \n\n      PrimaryPropertyType_Small- and mid-sized office  \\\n3                                                 0.0   \n4                                                 0.0   \n6                                                 0.0   \n10                                                0.0   \n12                                                0.0   \n...                                               ...   \n3137                                              0.0   \n3142                                              0.0   \n3143                                              0.0   \n3144                                              0.0   \n3146                                              0.0   \n\n      PrimaryPropertyType_Supermarket / grocery store  \\\n3                                                 0.0   \n4                                                 0.0   \n6                                                 0.0   \n10                                                0.0   \n12                                                0.0   \n...                                               ...   \n3137                                              0.0   \n3142                                              0.0   \n3143                                              0.0   \n3144                                              0.0   \n3146                                              0.0   \n\n      PrimaryPropertyType_University  PrimaryPropertyType_Warehouse  \\\n3                                0.0                            0.0   \n4                                0.0                            0.0   \n6                                0.0                            0.0   \n10                               0.0                            0.0   \n12                               0.0                            0.0   \n...                              ...                            ...   \n3137                             0.0                            0.0   \n3142                             0.0                            0.0   \n3143                             0.0                            0.0   \n3144                             0.0                            0.0   \n3146                             1.0                            0.0   \n\n      PrimaryPropertyType_Worship facility  \n3                                      0.0  \n4                                      0.0  \n6                                      0.0  \n10                                     0.0  \n12                                     0.0  \n...                                    ...  \n3137                                   0.0  \n3142                                   0.0  \n3143                                   0.0  \n3144                                   0.0  \n3146                                   0.0  \n\n[945 rows x 54 columns]",
      "text/html": "<div>\n<style scoped>\n    .dataframe tbody tr th:only-of-type {\n        vertical-align: middle;\n    }\n\n    .dataframe tbody tr th {\n        vertical-align: top;\n    }\n\n    .dataframe thead th {\n        text-align: right;\n    }\n</style>\n<table border=\"1\" class=\"dataframe\">\n  <thead>\n    <tr style=\"text-align: right;\">\n      <th></th>\n      <th>Log-NumberofBuildings</th>\n      <th>Log-NumberofFloors</th>\n      <th>Log-PropertyGFATotal</th>\n      <th>Log-PropertyGFAParking</th>\n      <th>Log-SecondLargestPropertyUseTypeGFA</th>\n      <th>Log-ThirdLargestPropertyUseTypeGFA</th>\n      <th>YearBuilt</th>\n      <th>Log-SteamUse(kBtu)</th>\n      <th>Log-Electricity(kBtu)</th>\n      <th>Log-NaturalGas(kBtu)</th>\n      <th>...</th>\n      <th>PrimaryPropertyType_Residence hall</th>\n      <th>PrimaryPropertyType_Restaurant</th>\n      <th>PrimaryPropertyType_Retail store</th>\n      <th>PrimaryPropertyType_Self-storage facility</th>\n      <th>PrimaryPropertyType_Senior care community</th>\n      <th>PrimaryPropertyType_Small- and mid-sized office</th>\n      <th>PrimaryPropertyType_Supermarket / grocery store</th>\n      <th>PrimaryPropertyType_University</th>\n      <th>PrimaryPropertyType_Warehouse</th>\n      <th>PrimaryPropertyType_Worship facility</th>\n    </tr>\n  </thead>\n  <tbody>\n    <tr>\n      <th>3</th>\n      <td>-0.035067</td>\n      <td>1.452522</td>\n      <td>0.105529</td>\n      <td>-0.405348</td>\n      <td>-0.923528</td>\n      <td>-0.439239</td>\n      <td>1926</td>\n      <td>14.610513</td>\n      <td>14.833970</td>\n      <td>14.409508</td>\n      <td>...</td>\n      <td>0.0</td>\n      <td>0.0</td>\n      <td>0.0</td>\n      <td>0.0</td>\n      <td>0.0</td>\n      <td>0.0</td>\n      <td>0.0</td>\n      <td>0.0</td>\n      <td>0.0</td>\n      <td>0.0</td>\n    </tr>\n    <tr>\n      <th>4</th>\n      <td>-0.035067</td>\n      <td>2.392512</td>\n      <td>1.324188</td>\n      <td>2.668961</td>\n      <td>1.385691</td>\n      <td>-0.439239</td>\n      <td>1980</td>\n      <td>0.000000</td>\n      <td>15.496079</td>\n      <td>15.990717</td>\n      <td>...</td>\n      <td>0.0</td>\n      <td>0.0</td>\n      <td>0.0</td>\n      <td>0.0</td>\n      <td>0.0</td>\n      <td>0.0</td>\n      <td>0.0</td>\n      <td>0.0</td>\n      <td>0.0</td>\n      <td>0.0</td>\n    </tr>\n    <tr>\n      <th>6</th>\n      <td>-0.035067</td>\n      <td>1.602172</td>\n      <td>0.456337</td>\n      <td>-0.405348</td>\n      <td>-0.923528</td>\n      <td>-0.439239</td>\n      <td>1926</td>\n      <td>0.000000</td>\n      <td>14.849128</td>\n      <td>14.896495</td>\n      <td>...</td>\n      <td>0.0</td>\n      <td>0.0</td>\n      <td>0.0</td>\n      <td>0.0</td>\n      <td>0.0</td>\n      <td>0.0</td>\n      <td>0.0</td>\n      <td>0.0</td>\n      <td>0.0</td>\n      <td>0.0</td>\n    </tr>\n    <tr>\n      <th>10</th>\n      <td>-0.035067</td>\n      <td>1.602172</td>\n      <td>1.165954</td>\n      <td>2.343535</td>\n      <td>-0.923528</td>\n      <td>-0.439239</td>\n      <td>1969</td>\n      <td>15.471291</td>\n      <td>15.638062</td>\n      <td>15.339794</td>\n      <td>...</td>\n      <td>0.0</td>\n      <td>0.0</td>\n      <td>0.0</td>\n      <td>0.0</td>\n      <td>0.0</td>\n      <td>0.0</td>\n      <td>0.0</td>\n      <td>0.0</td>\n      <td>0.0</td>\n      <td>0.0</td>\n    </tr>\n    <tr>\n      <th>12</th>\n      <td>-0.035067</td>\n      <td>1.288600</td>\n      <td>0.173204</td>\n      <td>-0.405348</td>\n      <td>-0.923528</td>\n      <td>-0.439239</td>\n      <td>1928</td>\n      <td>14.320129</td>\n      <td>14.110417</td>\n      <td>15.095529</td>\n      <td>...</td>\n      <td>0.0</td>\n      <td>0.0</td>\n      <td>0.0</td>\n      <td>0.0</td>\n      <td>0.0</td>\n      <td>0.0</td>\n      <td>0.0</td>\n      <td>0.0</td>\n      <td>0.0</td>\n      <td>0.0</td>\n    </tr>\n    <tr>\n      <th>...</th>\n      <td>...</td>\n      <td>...</td>\n      <td>...</td>\n      <td>...</td>\n      <td>...</td>\n      <td>...</td>\n      <td>...</td>\n      <td>...</td>\n      <td>...</td>\n      <td>...</td>\n      <td>...</td>\n      <td>...</td>\n      <td>...</td>\n      <td>...</td>\n      <td>...</td>\n      <td>...</td>\n      <td>...</td>\n      <td>...</td>\n      <td>...</td>\n      <td>...</td>\n      <td>...</td>\n    </tr>\n    <tr>\n      <th>3137</th>\n      <td>-0.035067</td>\n      <td>0.904820</td>\n      <td>1.553162</td>\n      <td>2.618557</td>\n      <td>1.527976</td>\n      <td>-0.439239</td>\n      <td>2015</td>\n      <td>0.000000</td>\n      <td>14.946797</td>\n      <td>15.057593</td>\n      <td>...</td>\n      <td>0.0</td>\n      <td>0.0</td>\n      <td>0.0</td>\n      <td>0.0</td>\n      <td>0.0</td>\n      <td>0.0</td>\n      <td>0.0</td>\n      <td>0.0</td>\n      <td>0.0</td>\n      <td>0.0</td>\n    </tr>\n    <tr>\n      <th>3142</th>\n      <td>-0.035067</td>\n      <td>0.675162</td>\n      <td>0.497963</td>\n      <td>2.128455</td>\n      <td>0.944811</td>\n      <td>1.780089</td>\n      <td>2015</td>\n      <td>0.000000</td>\n      <td>14.586193</td>\n      <td>0.000000</td>\n      <td>...</td>\n      <td>0.0</td>\n      <td>0.0</td>\n      <td>0.0</td>\n      <td>0.0</td>\n      <td>0.0</td>\n      <td>0.0</td>\n      <td>0.0</td>\n      <td>0.0</td>\n      <td>0.0</td>\n      <td>0.0</td>\n    </tr>\n    <tr>\n      <th>3143</th>\n      <td>-0.035067</td>\n      <td>0.675162</td>\n      <td>2.107630</td>\n      <td>2.756954</td>\n      <td>1.478762</td>\n      <td>3.044854</td>\n      <td>2015</td>\n      <td>0.000000</td>\n      <td>16.978316</td>\n      <td>16.570909</td>\n      <td>...</td>\n      <td>0.0</td>\n      <td>0.0</td>\n      <td>0.0</td>\n      <td>0.0</td>\n      <td>0.0</td>\n      <td>0.0</td>\n      <td>0.0</td>\n      <td>0.0</td>\n      <td>0.0</td>\n      <td>0.0</td>\n    </tr>\n    <tr>\n      <th>3144</th>\n      <td>-0.035067</td>\n      <td>0.904820</td>\n      <td>1.521235</td>\n      <td>2.654283</td>\n      <td>1.298680</td>\n      <td>-0.439239</td>\n      <td>2015</td>\n      <td>0.000000</td>\n      <td>14.503028</td>\n      <td>14.262382</td>\n      <td>...</td>\n      <td>0.0</td>\n      <td>0.0</td>\n      <td>0.0</td>\n      <td>0.0</td>\n      <td>0.0</td>\n      <td>0.0</td>\n      <td>0.0</td>\n      <td>0.0</td>\n      <td>0.0</td>\n      <td>0.0</td>\n    </tr>\n    <tr>\n      <th>3146</th>\n      <td>-0.035067</td>\n      <td>-1.479439</td>\n      <td>0.226538</td>\n      <td>-0.405348</td>\n      <td>-0.923528</td>\n      <td>-0.439239</td>\n      <td>1962</td>\n      <td>0.000000</td>\n      <td>14.972650</td>\n      <td>0.000000</td>\n      <td>...</td>\n      <td>0.0</td>\n      <td>0.0</td>\n      <td>0.0</td>\n      <td>0.0</td>\n      <td>0.0</td>\n      <td>0.0</td>\n      <td>0.0</td>\n      <td>1.0</td>\n      <td>0.0</td>\n      <td>0.0</td>\n    </tr>\n  </tbody>\n</table>\n<p>945 rows × 54 columns</p>\n</div>"
     },
     "metadata": {},
     "output_type": "display_data"
    }
   ],
   "source": [
    "# 5) One Hot Encoding on the testing set\n",
    "\n",
    "# 5.1) we get the encoded numpy array\n",
    "TEST_encoded_categorical_data = one_hot_encoder.transform(test_std[categorical_columns])\n",
    "\n",
    "print(\"ASK JEREMY for this method below ???\")\n",
    "# 5.2) we recreate a dataframe with the column names and the numpy array\n",
    "test_encoded = pd.DataFrame(columns=encoded_categorical_data_names,\n",
    "                               data=TEST_encoded_categorical_data,\n",
    "                               index=test_std.index)\n",
    "display(test_encoded.sort_index())\n",
    "\n",
    "print(\"ASK JEREMY : merge based on index ok ? or should I put back OSEBuildingID ??\")\n",
    "test_std_encoded = pd.merge(test_std[features_to_merge].sort_index(), test_encoded.sort_index(), left_index=True, right_index=True)\n",
    "display(test_std_encoded.sort_index())"
   ],
   "metadata": {
    "collapsed": false,
    "pycharm": {
     "name": "#%%\n"
    }
   }
  },
  {
   "cell_type": "code",
   "execution_count": 338,
   "outputs": [
    {
     "name": "stdout",
     "output_type": "stream",
     "text": [
      "We can start now the modelling to predict the feature wanted.\n"
     ]
    },
    {
     "data": {
      "text/plain": "      Log-NumberofBuildings  Log-NumberofFloors  Log-PropertyGFATotal  \\\n0                 -0.035067            1.739835              0.529688   \n1                 -0.035067            1.602172              0.712666   \n2                 -0.035067            3.756773              3.287491   \n5                 -0.035067           -0.782088              0.640225   \n7                 -0.035067            1.107393              0.703626   \n...                     ...                 ...                   ...   \n3138              -0.035067            0.096471             -0.349445   \n3139              -0.035067           -0.287309             -0.913535   \n3140              -0.035067            0.904820              0.151911   \n3141              -0.035067            0.904820              2.037475   \n3145              -0.035067            0.096471             -1.178163   \n\n      Log-PropertyGFAParking  Log-SecondLargestPropertyUseTypeGFA  \\\n0                  -0.405348                            -0.923528   \n1                   2.274807                             1.072892   \n2                   2.990638                            -0.923528   \n5                   2.526634                            -0.923528   \n7                  -0.405348                            -0.923528   \n...                      ...                                  ...   \n3138               -0.405348                             0.841584   \n3139                1.379140                             0.866893   \n3140                1.959102                            -0.923528   \n3141               -0.405348                            -0.923528   \n3145                1.783304                            -0.923528   \n\n      Log-ThirdLargestPropertyUseTypeGFA  YearBuilt  Log-SteamUse(kBtu)  \\\n0                              -0.439239       1927           14.510597   \n1                               2.153810       1996            0.000000   \n2                              -0.439239       1969           16.886654   \n5                              -0.439239       1999            0.000000   \n7                              -0.439239       1926           14.638056   \n...                                  ...        ...                 ...   \n3138                           -0.439239       2015            0.000000   \n3139                            2.071010       2015            0.000000   \n3140                           -0.439239       2015            0.000000   \n3141                           -0.439239       2015            0.000000   \n3145                           -0.439239       2014            0.000000   \n\n      Log-Electricity(kBtu)  Log-NaturalGas(kBtu)  ...  \\\n0                 15.188220             14.059596  ...   \n1                 14.991964             15.453552  ...   \n2                 17.718022             14.216834  ...   \n5                 15.813123             15.366298  ...   \n7                 15.106575             12.861492  ...   \n...                     ...                   ...  ...   \n3138              13.513113             12.975567  ...   \n3139              13.679047             14.085077  ...   \n3140              14.223590             13.633661  ...   \n3141              15.991918             15.850596  ...   \n3145              13.122217             12.577367  ...   \n\n      PrimaryPropertyType_Residence hall  PrimaryPropertyType_Restaurant  \\\n0                                    0.0                             0.0   \n1                                    0.0                             0.0   \n2                                    0.0                             0.0   \n5                                    0.0                             0.0   \n7                                    0.0                             0.0   \n...                                  ...                             ...   \n3138                                 0.0                             0.0   \n3139                                 0.0                             0.0   \n3140                                 0.0                             0.0   \n3141                                 1.0                             0.0   \n3145                                 0.0                             0.0   \n\n      PrimaryPropertyType_Retail store  \\\n0                                  0.0   \n1                                  0.0   \n2                                  0.0   \n5                                  0.0   \n7                                  0.0   \n...                                ...   \n3138                               0.0   \n3139                               0.0   \n3140                               0.0   \n3141                               0.0   \n3145                               0.0   \n\n      PrimaryPropertyType_Self-storage facility  \\\n0                                           0.0   \n1                                           0.0   \n2                                           0.0   \n5                                           0.0   \n7                                           0.0   \n...                                         ...   \n3138                                        0.0   \n3139                                        0.0   \n3140                                        0.0   \n3141                                        0.0   \n3145                                        0.0   \n\n      PrimaryPropertyType_Senior care community  \\\n0                                           0.0   \n1                                           0.0   \n2                                           0.0   \n5                                           0.0   \n7                                           0.0   \n...                                         ...   \n3138                                        0.0   \n3139                                        0.0   \n3140                                        0.0   \n3141                                        0.0   \n3145                                        0.0   \n\n      PrimaryPropertyType_Small- and mid-sized office  \\\n0                                                 0.0   \n1                                                 0.0   \n2                                                 0.0   \n5                                                 0.0   \n7                                                 0.0   \n...                                               ...   \n3138                                              0.0   \n3139                                              0.0   \n3140                                              0.0   \n3141                                              0.0   \n3145                                              0.0   \n\n      PrimaryPropertyType_Supermarket / grocery store  \\\n0                                                 0.0   \n1                                                 0.0   \n2                                                 0.0   \n5                                                 0.0   \n7                                                 0.0   \n...                                               ...   \n3138                                              0.0   \n3139                                              0.0   \n3140                                              0.0   \n3141                                              0.0   \n3145                                              0.0   \n\n      PrimaryPropertyType_University  PrimaryPropertyType_Warehouse  \\\n0                                0.0                            0.0   \n1                                0.0                            0.0   \n2                                0.0                            0.0   \n5                                0.0                            0.0   \n7                                0.0                            0.0   \n...                              ...                            ...   \n3138                             0.0                            0.0   \n3139                             0.0                            0.0   \n3140                             0.0                            0.0   \n3141                             0.0                            0.0   \n3145                             0.0                            0.0   \n\n      PrimaryPropertyType_Worship facility  \n0                                      0.0  \n1                                      0.0  \n2                                      0.0  \n5                                      0.0  \n7                                      0.0  \n...                                    ...  \n3138                                   0.0  \n3139                                   0.0  \n3140                                   0.0  \n3141                                   0.0  \n3145                                   0.0  \n\n[2202 rows x 54 columns]",
      "text/html": "<div>\n<style scoped>\n    .dataframe tbody tr th:only-of-type {\n        vertical-align: middle;\n    }\n\n    .dataframe tbody tr th {\n        vertical-align: top;\n    }\n\n    .dataframe thead th {\n        text-align: right;\n    }\n</style>\n<table border=\"1\" class=\"dataframe\">\n  <thead>\n    <tr style=\"text-align: right;\">\n      <th></th>\n      <th>Log-NumberofBuildings</th>\n      <th>Log-NumberofFloors</th>\n      <th>Log-PropertyGFATotal</th>\n      <th>Log-PropertyGFAParking</th>\n      <th>Log-SecondLargestPropertyUseTypeGFA</th>\n      <th>Log-ThirdLargestPropertyUseTypeGFA</th>\n      <th>YearBuilt</th>\n      <th>Log-SteamUse(kBtu)</th>\n      <th>Log-Electricity(kBtu)</th>\n      <th>Log-NaturalGas(kBtu)</th>\n      <th>...</th>\n      <th>PrimaryPropertyType_Residence hall</th>\n      <th>PrimaryPropertyType_Restaurant</th>\n      <th>PrimaryPropertyType_Retail store</th>\n      <th>PrimaryPropertyType_Self-storage facility</th>\n      <th>PrimaryPropertyType_Senior care community</th>\n      <th>PrimaryPropertyType_Small- and mid-sized office</th>\n      <th>PrimaryPropertyType_Supermarket / grocery store</th>\n      <th>PrimaryPropertyType_University</th>\n      <th>PrimaryPropertyType_Warehouse</th>\n      <th>PrimaryPropertyType_Worship facility</th>\n    </tr>\n  </thead>\n  <tbody>\n    <tr>\n      <th>0</th>\n      <td>-0.035067</td>\n      <td>1.739835</td>\n      <td>0.529688</td>\n      <td>-0.405348</td>\n      <td>-0.923528</td>\n      <td>-0.439239</td>\n      <td>1927</td>\n      <td>14.510597</td>\n      <td>15.188220</td>\n      <td>14.059596</td>\n      <td>...</td>\n      <td>0.0</td>\n      <td>0.0</td>\n      <td>0.0</td>\n      <td>0.0</td>\n      <td>0.0</td>\n      <td>0.0</td>\n      <td>0.0</td>\n      <td>0.0</td>\n      <td>0.0</td>\n      <td>0.0</td>\n    </tr>\n    <tr>\n      <th>1</th>\n      <td>-0.035067</td>\n      <td>1.602172</td>\n      <td>0.712666</td>\n      <td>2.274807</td>\n      <td>1.072892</td>\n      <td>2.153810</td>\n      <td>1996</td>\n      <td>0.000000</td>\n      <td>14.991964</td>\n      <td>15.453552</td>\n      <td>...</td>\n      <td>0.0</td>\n      <td>0.0</td>\n      <td>0.0</td>\n      <td>0.0</td>\n      <td>0.0</td>\n      <td>0.0</td>\n      <td>0.0</td>\n      <td>0.0</td>\n      <td>0.0</td>\n      <td>0.0</td>\n    </tr>\n    <tr>\n      <th>2</th>\n      <td>-0.035067</td>\n      <td>3.756773</td>\n      <td>3.287491</td>\n      <td>2.990638</td>\n      <td>-0.923528</td>\n      <td>-0.439239</td>\n      <td>1969</td>\n      <td>16.886654</td>\n      <td>17.718022</td>\n      <td>14.216834</td>\n      <td>...</td>\n      <td>0.0</td>\n      <td>0.0</td>\n      <td>0.0</td>\n      <td>0.0</td>\n      <td>0.0</td>\n      <td>0.0</td>\n      <td>0.0</td>\n      <td>0.0</td>\n      <td>0.0</td>\n      <td>0.0</td>\n    </tr>\n    <tr>\n      <th>5</th>\n      <td>-0.035067</td>\n      <td>-0.782088</td>\n      <td>0.640225</td>\n      <td>2.526634</td>\n      <td>-0.923528</td>\n      <td>-0.439239</td>\n      <td>1999</td>\n      <td>0.000000</td>\n      <td>15.813123</td>\n      <td>15.366298</td>\n      <td>...</td>\n      <td>0.0</td>\n      <td>0.0</td>\n      <td>0.0</td>\n      <td>0.0</td>\n      <td>0.0</td>\n      <td>0.0</td>\n      <td>0.0</td>\n      <td>0.0</td>\n      <td>0.0</td>\n      <td>0.0</td>\n    </tr>\n    <tr>\n      <th>7</th>\n      <td>-0.035067</td>\n      <td>1.107393</td>\n      <td>0.703626</td>\n      <td>-0.405348</td>\n      <td>-0.923528</td>\n      <td>-0.439239</td>\n      <td>1926</td>\n      <td>14.638056</td>\n      <td>15.106575</td>\n      <td>12.861492</td>\n      <td>...</td>\n      <td>0.0</td>\n      <td>0.0</td>\n      <td>0.0</td>\n      <td>0.0</td>\n      <td>0.0</td>\n      <td>0.0</td>\n      <td>0.0</td>\n      <td>0.0</td>\n      <td>0.0</td>\n      <td>0.0</td>\n    </tr>\n    <tr>\n      <th>...</th>\n      <td>...</td>\n      <td>...</td>\n      <td>...</td>\n      <td>...</td>\n      <td>...</td>\n      <td>...</td>\n      <td>...</td>\n      <td>...</td>\n      <td>...</td>\n      <td>...</td>\n      <td>...</td>\n      <td>...</td>\n      <td>...</td>\n      <td>...</td>\n      <td>...</td>\n      <td>...</td>\n      <td>...</td>\n      <td>...</td>\n      <td>...</td>\n      <td>...</td>\n      <td>...</td>\n    </tr>\n    <tr>\n      <th>3138</th>\n      <td>-0.035067</td>\n      <td>0.096471</td>\n      <td>-0.349445</td>\n      <td>-0.405348</td>\n      <td>0.841584</td>\n      <td>-0.439239</td>\n      <td>2015</td>\n      <td>0.000000</td>\n      <td>13.513113</td>\n      <td>12.975567</td>\n      <td>...</td>\n      <td>0.0</td>\n      <td>0.0</td>\n      <td>0.0</td>\n      <td>0.0</td>\n      <td>0.0</td>\n      <td>0.0</td>\n      <td>0.0</td>\n      <td>0.0</td>\n      <td>0.0</td>\n      <td>0.0</td>\n    </tr>\n    <tr>\n      <th>3139</th>\n      <td>-0.035067</td>\n      <td>-0.287309</td>\n      <td>-0.913535</td>\n      <td>1.379140</td>\n      <td>0.866893</td>\n      <td>2.071010</td>\n      <td>2015</td>\n      <td>0.000000</td>\n      <td>13.679047</td>\n      <td>14.085077</td>\n      <td>...</td>\n      <td>0.0</td>\n      <td>0.0</td>\n      <td>0.0</td>\n      <td>0.0</td>\n      <td>0.0</td>\n      <td>0.0</td>\n      <td>0.0</td>\n      <td>0.0</td>\n      <td>0.0</td>\n      <td>0.0</td>\n    </tr>\n    <tr>\n      <th>3140</th>\n      <td>-0.035067</td>\n      <td>0.904820</td>\n      <td>0.151911</td>\n      <td>1.959102</td>\n      <td>-0.923528</td>\n      <td>-0.439239</td>\n      <td>2015</td>\n      <td>0.000000</td>\n      <td>14.223590</td>\n      <td>13.633661</td>\n      <td>...</td>\n      <td>0.0</td>\n      <td>0.0</td>\n      <td>0.0</td>\n      <td>0.0</td>\n      <td>0.0</td>\n      <td>0.0</td>\n      <td>0.0</td>\n      <td>0.0</td>\n      <td>0.0</td>\n      <td>0.0</td>\n    </tr>\n    <tr>\n      <th>3141</th>\n      <td>-0.035067</td>\n      <td>0.904820</td>\n      <td>2.037475</td>\n      <td>-0.405348</td>\n      <td>-0.923528</td>\n      <td>-0.439239</td>\n      <td>2015</td>\n      <td>0.000000</td>\n      <td>15.991918</td>\n      <td>15.850596</td>\n      <td>...</td>\n      <td>1.0</td>\n      <td>0.0</td>\n      <td>0.0</td>\n      <td>0.0</td>\n      <td>0.0</td>\n      <td>0.0</td>\n      <td>0.0</td>\n      <td>0.0</td>\n      <td>0.0</td>\n      <td>0.0</td>\n    </tr>\n    <tr>\n      <th>3145</th>\n      <td>-0.035067</td>\n      <td>0.096471</td>\n      <td>-1.178163</td>\n      <td>1.783304</td>\n      <td>-0.923528</td>\n      <td>-0.439239</td>\n      <td>2014</td>\n      <td>0.000000</td>\n      <td>13.122217</td>\n      <td>12.577367</td>\n      <td>...</td>\n      <td>0.0</td>\n      <td>0.0</td>\n      <td>0.0</td>\n      <td>0.0</td>\n      <td>0.0</td>\n      <td>0.0</td>\n      <td>0.0</td>\n      <td>0.0</td>\n      <td>0.0</td>\n      <td>0.0</td>\n    </tr>\n  </tbody>\n</table>\n<p>2202 rows × 54 columns</p>\n</div>"
     },
     "metadata": {},
     "output_type": "display_data"
    },
    {
     "data": {
      "text/plain": "      Log-NumberofBuildings  Log-NumberofFloors  Log-PropertyGFATotal  \\\n3                 -0.035067            1.452522              0.105529   \n4                 -0.035067            2.392512              1.324188   \n6                 -0.035067            1.602172              0.456337   \n10                -0.035067            1.602172              1.165954   \n12                -0.035067            1.288600              0.173204   \n...                     ...                 ...                   ...   \n3137              -0.035067            0.904820              1.553162   \n3142              -0.035067            0.675162              0.497963   \n3143              -0.035067            0.675162              2.107630   \n3144              -0.035067            0.904820              1.521235   \n3146              -0.035067           -1.479439              0.226538   \n\n      Log-PropertyGFAParking  Log-SecondLargestPropertyUseTypeGFA  \\\n3                  -0.405348                            -0.923528   \n4                   2.668961                             1.385691   \n6                  -0.405348                            -0.923528   \n10                  2.343535                            -0.923528   \n12                 -0.405348                            -0.923528   \n...                      ...                                  ...   \n3137                2.618557                             1.527976   \n3142                2.128455                             0.944811   \n3143                2.756954                             1.478762   \n3144                2.654283                             1.298680   \n3146               -0.405348                            -0.923528   \n\n      Log-ThirdLargestPropertyUseTypeGFA  YearBuilt  Log-SteamUse(kBtu)  \\\n3                              -0.439239       1926           14.610513   \n4                              -0.439239       1980            0.000000   \n6                              -0.439239       1926            0.000000   \n10                             -0.439239       1969           15.471291   \n12                             -0.439239       1928           14.320129   \n...                                  ...        ...                 ...   \n3137                           -0.439239       2015            0.000000   \n3142                            1.780089       2015            0.000000   \n3143                            3.044854       2015            0.000000   \n3144                           -0.439239       2015            0.000000   \n3146                           -0.439239       1962            0.000000   \n\n      Log-Electricity(kBtu)  Log-NaturalGas(kBtu)  ...  \\\n3                 14.833970             14.409508  ...   \n4                 15.496079             15.990717  ...   \n6                 14.849128             14.896495  ...   \n10                15.638062             15.339794  ...   \n12                14.110417             15.095529  ...   \n...                     ...                   ...  ...   \n3137              14.946797             15.057593  ...   \n3142              14.586193              0.000000  ...   \n3143              16.978316             16.570909  ...   \n3144              14.503028             14.262382  ...   \n3146              14.972650              0.000000  ...   \n\n      PrimaryPropertyType_Residence hall  PrimaryPropertyType_Restaurant  \\\n3                                    0.0                             0.0   \n4                                    0.0                             0.0   \n6                                    0.0                             0.0   \n10                                   0.0                             0.0   \n12                                   0.0                             0.0   \n...                                  ...                             ...   \n3137                                 0.0                             0.0   \n3142                                 0.0                             0.0   \n3143                                 0.0                             0.0   \n3144                                 0.0                             0.0   \n3146                                 0.0                             0.0   \n\n      PrimaryPropertyType_Retail store  \\\n3                                  0.0   \n4                                  0.0   \n6                                  0.0   \n10                                 0.0   \n12                                 0.0   \n...                                ...   \n3137                               0.0   \n3142                               0.0   \n3143                               0.0   \n3144                               0.0   \n3146                               0.0   \n\n      PrimaryPropertyType_Self-storage facility  \\\n3                                           0.0   \n4                                           0.0   \n6                                           0.0   \n10                                          0.0   \n12                                          0.0   \n...                                         ...   \n3137                                        0.0   \n3142                                        0.0   \n3143                                        0.0   \n3144                                        0.0   \n3146                                        0.0   \n\n      PrimaryPropertyType_Senior care community  \\\n3                                           0.0   \n4                                           0.0   \n6                                           0.0   \n10                                          0.0   \n12                                          0.0   \n...                                         ...   \n3137                                        0.0   \n3142                                        0.0   \n3143                                        0.0   \n3144                                        0.0   \n3146                                        0.0   \n\n      PrimaryPropertyType_Small- and mid-sized office  \\\n3                                                 0.0   \n4                                                 0.0   \n6                                                 0.0   \n10                                                0.0   \n12                                                0.0   \n...                                               ...   \n3137                                              0.0   \n3142                                              0.0   \n3143                                              0.0   \n3144                                              0.0   \n3146                                              0.0   \n\n      PrimaryPropertyType_Supermarket / grocery store  \\\n3                                                 0.0   \n4                                                 0.0   \n6                                                 0.0   \n10                                                0.0   \n12                                                0.0   \n...                                               ...   \n3137                                              0.0   \n3142                                              0.0   \n3143                                              0.0   \n3144                                              0.0   \n3146                                              0.0   \n\n      PrimaryPropertyType_University  PrimaryPropertyType_Warehouse  \\\n3                                0.0                            0.0   \n4                                0.0                            0.0   \n6                                0.0                            0.0   \n10                               0.0                            0.0   \n12                               0.0                            0.0   \n...                              ...                            ...   \n3137                             0.0                            0.0   \n3142                             0.0                            0.0   \n3143                             0.0                            0.0   \n3144                             0.0                            0.0   \n3146                             1.0                            0.0   \n\n      PrimaryPropertyType_Worship facility  \n3                                      0.0  \n4                                      0.0  \n6                                      0.0  \n10                                     0.0  \n12                                     0.0  \n...                                    ...  \n3137                                   0.0  \n3142                                   0.0  \n3143                                   0.0  \n3144                                   0.0  \n3146                                   0.0  \n\n[945 rows x 54 columns]",
      "text/html": "<div>\n<style scoped>\n    .dataframe tbody tr th:only-of-type {\n        vertical-align: middle;\n    }\n\n    .dataframe tbody tr th {\n        vertical-align: top;\n    }\n\n    .dataframe thead th {\n        text-align: right;\n    }\n</style>\n<table border=\"1\" class=\"dataframe\">\n  <thead>\n    <tr style=\"text-align: right;\">\n      <th></th>\n      <th>Log-NumberofBuildings</th>\n      <th>Log-NumberofFloors</th>\n      <th>Log-PropertyGFATotal</th>\n      <th>Log-PropertyGFAParking</th>\n      <th>Log-SecondLargestPropertyUseTypeGFA</th>\n      <th>Log-ThirdLargestPropertyUseTypeGFA</th>\n      <th>YearBuilt</th>\n      <th>Log-SteamUse(kBtu)</th>\n      <th>Log-Electricity(kBtu)</th>\n      <th>Log-NaturalGas(kBtu)</th>\n      <th>...</th>\n      <th>PrimaryPropertyType_Residence hall</th>\n      <th>PrimaryPropertyType_Restaurant</th>\n      <th>PrimaryPropertyType_Retail store</th>\n      <th>PrimaryPropertyType_Self-storage facility</th>\n      <th>PrimaryPropertyType_Senior care community</th>\n      <th>PrimaryPropertyType_Small- and mid-sized office</th>\n      <th>PrimaryPropertyType_Supermarket / grocery store</th>\n      <th>PrimaryPropertyType_University</th>\n      <th>PrimaryPropertyType_Warehouse</th>\n      <th>PrimaryPropertyType_Worship facility</th>\n    </tr>\n  </thead>\n  <tbody>\n    <tr>\n      <th>3</th>\n      <td>-0.035067</td>\n      <td>1.452522</td>\n      <td>0.105529</td>\n      <td>-0.405348</td>\n      <td>-0.923528</td>\n      <td>-0.439239</td>\n      <td>1926</td>\n      <td>14.610513</td>\n      <td>14.833970</td>\n      <td>14.409508</td>\n      <td>...</td>\n      <td>0.0</td>\n      <td>0.0</td>\n      <td>0.0</td>\n      <td>0.0</td>\n      <td>0.0</td>\n      <td>0.0</td>\n      <td>0.0</td>\n      <td>0.0</td>\n      <td>0.0</td>\n      <td>0.0</td>\n    </tr>\n    <tr>\n      <th>4</th>\n      <td>-0.035067</td>\n      <td>2.392512</td>\n      <td>1.324188</td>\n      <td>2.668961</td>\n      <td>1.385691</td>\n      <td>-0.439239</td>\n      <td>1980</td>\n      <td>0.000000</td>\n      <td>15.496079</td>\n      <td>15.990717</td>\n      <td>...</td>\n      <td>0.0</td>\n      <td>0.0</td>\n      <td>0.0</td>\n      <td>0.0</td>\n      <td>0.0</td>\n      <td>0.0</td>\n      <td>0.0</td>\n      <td>0.0</td>\n      <td>0.0</td>\n      <td>0.0</td>\n    </tr>\n    <tr>\n      <th>6</th>\n      <td>-0.035067</td>\n      <td>1.602172</td>\n      <td>0.456337</td>\n      <td>-0.405348</td>\n      <td>-0.923528</td>\n      <td>-0.439239</td>\n      <td>1926</td>\n      <td>0.000000</td>\n      <td>14.849128</td>\n      <td>14.896495</td>\n      <td>...</td>\n      <td>0.0</td>\n      <td>0.0</td>\n      <td>0.0</td>\n      <td>0.0</td>\n      <td>0.0</td>\n      <td>0.0</td>\n      <td>0.0</td>\n      <td>0.0</td>\n      <td>0.0</td>\n      <td>0.0</td>\n    </tr>\n    <tr>\n      <th>10</th>\n      <td>-0.035067</td>\n      <td>1.602172</td>\n      <td>1.165954</td>\n      <td>2.343535</td>\n      <td>-0.923528</td>\n      <td>-0.439239</td>\n      <td>1969</td>\n      <td>15.471291</td>\n      <td>15.638062</td>\n      <td>15.339794</td>\n      <td>...</td>\n      <td>0.0</td>\n      <td>0.0</td>\n      <td>0.0</td>\n      <td>0.0</td>\n      <td>0.0</td>\n      <td>0.0</td>\n      <td>0.0</td>\n      <td>0.0</td>\n      <td>0.0</td>\n      <td>0.0</td>\n    </tr>\n    <tr>\n      <th>12</th>\n      <td>-0.035067</td>\n      <td>1.288600</td>\n      <td>0.173204</td>\n      <td>-0.405348</td>\n      <td>-0.923528</td>\n      <td>-0.439239</td>\n      <td>1928</td>\n      <td>14.320129</td>\n      <td>14.110417</td>\n      <td>15.095529</td>\n      <td>...</td>\n      <td>0.0</td>\n      <td>0.0</td>\n      <td>0.0</td>\n      <td>0.0</td>\n      <td>0.0</td>\n      <td>0.0</td>\n      <td>0.0</td>\n      <td>0.0</td>\n      <td>0.0</td>\n      <td>0.0</td>\n    </tr>\n    <tr>\n      <th>...</th>\n      <td>...</td>\n      <td>...</td>\n      <td>...</td>\n      <td>...</td>\n      <td>...</td>\n      <td>...</td>\n      <td>...</td>\n      <td>...</td>\n      <td>...</td>\n      <td>...</td>\n      <td>...</td>\n      <td>...</td>\n      <td>...</td>\n      <td>...</td>\n      <td>...</td>\n      <td>...</td>\n      <td>...</td>\n      <td>...</td>\n      <td>...</td>\n      <td>...</td>\n      <td>...</td>\n    </tr>\n    <tr>\n      <th>3137</th>\n      <td>-0.035067</td>\n      <td>0.904820</td>\n      <td>1.553162</td>\n      <td>2.618557</td>\n      <td>1.527976</td>\n      <td>-0.439239</td>\n      <td>2015</td>\n      <td>0.000000</td>\n      <td>14.946797</td>\n      <td>15.057593</td>\n      <td>...</td>\n      <td>0.0</td>\n      <td>0.0</td>\n      <td>0.0</td>\n      <td>0.0</td>\n      <td>0.0</td>\n      <td>0.0</td>\n      <td>0.0</td>\n      <td>0.0</td>\n      <td>0.0</td>\n      <td>0.0</td>\n    </tr>\n    <tr>\n      <th>3142</th>\n      <td>-0.035067</td>\n      <td>0.675162</td>\n      <td>0.497963</td>\n      <td>2.128455</td>\n      <td>0.944811</td>\n      <td>1.780089</td>\n      <td>2015</td>\n      <td>0.000000</td>\n      <td>14.586193</td>\n      <td>0.000000</td>\n      <td>...</td>\n      <td>0.0</td>\n      <td>0.0</td>\n      <td>0.0</td>\n      <td>0.0</td>\n      <td>0.0</td>\n      <td>0.0</td>\n      <td>0.0</td>\n      <td>0.0</td>\n      <td>0.0</td>\n      <td>0.0</td>\n    </tr>\n    <tr>\n      <th>3143</th>\n      <td>-0.035067</td>\n      <td>0.675162</td>\n      <td>2.107630</td>\n      <td>2.756954</td>\n      <td>1.478762</td>\n      <td>3.044854</td>\n      <td>2015</td>\n      <td>0.000000</td>\n      <td>16.978316</td>\n      <td>16.570909</td>\n      <td>...</td>\n      <td>0.0</td>\n      <td>0.0</td>\n      <td>0.0</td>\n      <td>0.0</td>\n      <td>0.0</td>\n      <td>0.0</td>\n      <td>0.0</td>\n      <td>0.0</td>\n      <td>0.0</td>\n      <td>0.0</td>\n    </tr>\n    <tr>\n      <th>3144</th>\n      <td>-0.035067</td>\n      <td>0.904820</td>\n      <td>1.521235</td>\n      <td>2.654283</td>\n      <td>1.298680</td>\n      <td>-0.439239</td>\n      <td>2015</td>\n      <td>0.000000</td>\n      <td>14.503028</td>\n      <td>14.262382</td>\n      <td>...</td>\n      <td>0.0</td>\n      <td>0.0</td>\n      <td>0.0</td>\n      <td>0.0</td>\n      <td>0.0</td>\n      <td>0.0</td>\n      <td>0.0</td>\n      <td>0.0</td>\n      <td>0.0</td>\n      <td>0.0</td>\n    </tr>\n    <tr>\n      <th>3146</th>\n      <td>-0.035067</td>\n      <td>-1.479439</td>\n      <td>0.226538</td>\n      <td>-0.405348</td>\n      <td>-0.923528</td>\n      <td>-0.439239</td>\n      <td>1962</td>\n      <td>0.000000</td>\n      <td>14.972650</td>\n      <td>0.000000</td>\n      <td>...</td>\n      <td>0.0</td>\n      <td>0.0</td>\n      <td>0.0</td>\n      <td>0.0</td>\n      <td>0.0</td>\n      <td>0.0</td>\n      <td>0.0</td>\n      <td>1.0</td>\n      <td>0.0</td>\n      <td>0.0</td>\n    </tr>\n  </tbody>\n</table>\n<p>945 rows × 54 columns</p>\n</div>"
     },
     "metadata": {},
     "output_type": "display_data"
    }
   ],
   "source": [
    "print(\"We can start now the modelling to predict the feature wanted.\")\n",
    "\n",
    "display(train_std_encoded)\n",
    "display(test_std_encoded)\n"
   ],
   "metadata": {
    "collapsed": false,
    "pycharm": {
     "name": "#%%\n"
    }
   }
  },
  {
   "cell_type": "code",
   "execution_count": 339,
   "outputs": [],
   "source": [
    "from sklearn.model_selection import GridSearchCV\n",
    "from sklearn.metrics import mean_squared_error"
   ],
   "metadata": {
    "collapsed": false,
    "pycharm": {
     "name": "#%%\n"
    }
   }
  },
  {
   "cell_type": "code",
   "execution_count": 340,
   "outputs": [
    {
     "name": "stdout",
     "output_type": "stream",
     "text": [
      "We rename X_train_std_encoded to X_train, the same for X_test.\n"
     ]
    },
    {
     "data": {
      "text/plain": "      Log-NumberofBuildings  Log-NumberofFloors  Log-PropertyGFATotal  \\\n3                 -0.035067            1.452522              0.105529   \n4                 -0.035067            2.392512              1.324188   \n6                 -0.035067            1.602172              0.456337   \n10                -0.035067            1.602172              1.165954   \n12                -0.035067            1.288600              0.173204   \n...                     ...                 ...                   ...   \n3137              -0.035067            0.904820              1.553162   \n3142              -0.035067            0.675162              0.497963   \n3143              -0.035067            0.675162              2.107630   \n3144              -0.035067            0.904820              1.521235   \n3146              -0.035067           -1.479439              0.226538   \n\n      Log-PropertyGFAParking  Log-SecondLargestPropertyUseTypeGFA  \\\n3                  -0.405348                            -0.923528   \n4                   2.668961                             1.385691   \n6                  -0.405348                            -0.923528   \n10                  2.343535                            -0.923528   \n12                 -0.405348                            -0.923528   \n...                      ...                                  ...   \n3137                2.618557                             1.527976   \n3142                2.128455                             0.944811   \n3143                2.756954                             1.478762   \n3144                2.654283                             1.298680   \n3146               -0.405348                            -0.923528   \n\n      Log-ThirdLargestPropertyUseTypeGFA  YearBuilt  Log-SteamUse(kBtu)  \\\n3                              -0.439239       1926           14.610513   \n4                              -0.439239       1980            0.000000   \n6                              -0.439239       1926            0.000000   \n10                             -0.439239       1969           15.471291   \n12                             -0.439239       1928           14.320129   \n...                                  ...        ...                 ...   \n3137                           -0.439239       2015            0.000000   \n3142                            1.780089       2015            0.000000   \n3143                            3.044854       2015            0.000000   \n3144                           -0.439239       2015            0.000000   \n3146                           -0.439239       1962            0.000000   \n\n      Log-Electricity(kBtu)  Log-NaturalGas(kBtu)  ...  \\\n3                 14.833970             14.409508  ...   \n4                 15.496079             15.990717  ...   \n6                 14.849128             14.896495  ...   \n10                15.638062             15.339794  ...   \n12                14.110417             15.095529  ...   \n...                     ...                   ...  ...   \n3137              14.946797             15.057593  ...   \n3142              14.586193              0.000000  ...   \n3143              16.978316             16.570909  ...   \n3144              14.503028             14.262382  ...   \n3146              14.972650              0.000000  ...   \n\n      PrimaryPropertyType_Residence hall  PrimaryPropertyType_Restaurant  \\\n3                                    0.0                             0.0   \n4                                    0.0                             0.0   \n6                                    0.0                             0.0   \n10                                   0.0                             0.0   \n12                                   0.0                             0.0   \n...                                  ...                             ...   \n3137                                 0.0                             0.0   \n3142                                 0.0                             0.0   \n3143                                 0.0                             0.0   \n3144                                 0.0                             0.0   \n3146                                 0.0                             0.0   \n\n      PrimaryPropertyType_Retail store  \\\n3                                  0.0   \n4                                  0.0   \n6                                  0.0   \n10                                 0.0   \n12                                 0.0   \n...                                ...   \n3137                               0.0   \n3142                               0.0   \n3143                               0.0   \n3144                               0.0   \n3146                               0.0   \n\n      PrimaryPropertyType_Self-storage facility  \\\n3                                           0.0   \n4                                           0.0   \n6                                           0.0   \n10                                          0.0   \n12                                          0.0   \n...                                         ...   \n3137                                        0.0   \n3142                                        0.0   \n3143                                        0.0   \n3144                                        0.0   \n3146                                        0.0   \n\n      PrimaryPropertyType_Senior care community  \\\n3                                           0.0   \n4                                           0.0   \n6                                           0.0   \n10                                          0.0   \n12                                          0.0   \n...                                         ...   \n3137                                        0.0   \n3142                                        0.0   \n3143                                        0.0   \n3144                                        0.0   \n3146                                        0.0   \n\n      PrimaryPropertyType_Small- and mid-sized office  \\\n3                                                 0.0   \n4                                                 0.0   \n6                                                 0.0   \n10                                                0.0   \n12                                                0.0   \n...                                               ...   \n3137                                              0.0   \n3142                                              0.0   \n3143                                              0.0   \n3144                                              0.0   \n3146                                              0.0   \n\n      PrimaryPropertyType_Supermarket / grocery store  \\\n3                                                 0.0   \n4                                                 0.0   \n6                                                 0.0   \n10                                                0.0   \n12                                                0.0   \n...                                               ...   \n3137                                              0.0   \n3142                                              0.0   \n3143                                              0.0   \n3144                                              0.0   \n3146                                              0.0   \n\n      PrimaryPropertyType_University  PrimaryPropertyType_Warehouse  \\\n3                                0.0                            0.0   \n4                                0.0                            0.0   \n6                                0.0                            0.0   \n10                               0.0                            0.0   \n12                               0.0                            0.0   \n...                              ...                            ...   \n3137                             0.0                            0.0   \n3142                             0.0                            0.0   \n3143                             0.0                            0.0   \n3144                             0.0                            0.0   \n3146                             1.0                            0.0   \n\n      PrimaryPropertyType_Worship facility  \n3                                      0.0  \n4                                      0.0  \n6                                      0.0  \n10                                     0.0  \n12                                     0.0  \n...                                    ...  \n3137                                   0.0  \n3142                                   0.0  \n3143                                   0.0  \n3144                                   0.0  \n3146                                   0.0  \n\n[945 rows x 54 columns]",
      "text/html": "<div>\n<style scoped>\n    .dataframe tbody tr th:only-of-type {\n        vertical-align: middle;\n    }\n\n    .dataframe tbody tr th {\n        vertical-align: top;\n    }\n\n    .dataframe thead th {\n        text-align: right;\n    }\n</style>\n<table border=\"1\" class=\"dataframe\">\n  <thead>\n    <tr style=\"text-align: right;\">\n      <th></th>\n      <th>Log-NumberofBuildings</th>\n      <th>Log-NumberofFloors</th>\n      <th>Log-PropertyGFATotal</th>\n      <th>Log-PropertyGFAParking</th>\n      <th>Log-SecondLargestPropertyUseTypeGFA</th>\n      <th>Log-ThirdLargestPropertyUseTypeGFA</th>\n      <th>YearBuilt</th>\n      <th>Log-SteamUse(kBtu)</th>\n      <th>Log-Electricity(kBtu)</th>\n      <th>Log-NaturalGas(kBtu)</th>\n      <th>...</th>\n      <th>PrimaryPropertyType_Residence hall</th>\n      <th>PrimaryPropertyType_Restaurant</th>\n      <th>PrimaryPropertyType_Retail store</th>\n      <th>PrimaryPropertyType_Self-storage facility</th>\n      <th>PrimaryPropertyType_Senior care community</th>\n      <th>PrimaryPropertyType_Small- and mid-sized office</th>\n      <th>PrimaryPropertyType_Supermarket / grocery store</th>\n      <th>PrimaryPropertyType_University</th>\n      <th>PrimaryPropertyType_Warehouse</th>\n      <th>PrimaryPropertyType_Worship facility</th>\n    </tr>\n  </thead>\n  <tbody>\n    <tr>\n      <th>3</th>\n      <td>-0.035067</td>\n      <td>1.452522</td>\n      <td>0.105529</td>\n      <td>-0.405348</td>\n      <td>-0.923528</td>\n      <td>-0.439239</td>\n      <td>1926</td>\n      <td>14.610513</td>\n      <td>14.833970</td>\n      <td>14.409508</td>\n      <td>...</td>\n      <td>0.0</td>\n      <td>0.0</td>\n      <td>0.0</td>\n      <td>0.0</td>\n      <td>0.0</td>\n      <td>0.0</td>\n      <td>0.0</td>\n      <td>0.0</td>\n      <td>0.0</td>\n      <td>0.0</td>\n    </tr>\n    <tr>\n      <th>4</th>\n      <td>-0.035067</td>\n      <td>2.392512</td>\n      <td>1.324188</td>\n      <td>2.668961</td>\n      <td>1.385691</td>\n      <td>-0.439239</td>\n      <td>1980</td>\n      <td>0.000000</td>\n      <td>15.496079</td>\n      <td>15.990717</td>\n      <td>...</td>\n      <td>0.0</td>\n      <td>0.0</td>\n      <td>0.0</td>\n      <td>0.0</td>\n      <td>0.0</td>\n      <td>0.0</td>\n      <td>0.0</td>\n      <td>0.0</td>\n      <td>0.0</td>\n      <td>0.0</td>\n    </tr>\n    <tr>\n      <th>6</th>\n      <td>-0.035067</td>\n      <td>1.602172</td>\n      <td>0.456337</td>\n      <td>-0.405348</td>\n      <td>-0.923528</td>\n      <td>-0.439239</td>\n      <td>1926</td>\n      <td>0.000000</td>\n      <td>14.849128</td>\n      <td>14.896495</td>\n      <td>...</td>\n      <td>0.0</td>\n      <td>0.0</td>\n      <td>0.0</td>\n      <td>0.0</td>\n      <td>0.0</td>\n      <td>0.0</td>\n      <td>0.0</td>\n      <td>0.0</td>\n      <td>0.0</td>\n      <td>0.0</td>\n    </tr>\n    <tr>\n      <th>10</th>\n      <td>-0.035067</td>\n      <td>1.602172</td>\n      <td>1.165954</td>\n      <td>2.343535</td>\n      <td>-0.923528</td>\n      <td>-0.439239</td>\n      <td>1969</td>\n      <td>15.471291</td>\n      <td>15.638062</td>\n      <td>15.339794</td>\n      <td>...</td>\n      <td>0.0</td>\n      <td>0.0</td>\n      <td>0.0</td>\n      <td>0.0</td>\n      <td>0.0</td>\n      <td>0.0</td>\n      <td>0.0</td>\n      <td>0.0</td>\n      <td>0.0</td>\n      <td>0.0</td>\n    </tr>\n    <tr>\n      <th>12</th>\n      <td>-0.035067</td>\n      <td>1.288600</td>\n      <td>0.173204</td>\n      <td>-0.405348</td>\n      <td>-0.923528</td>\n      <td>-0.439239</td>\n      <td>1928</td>\n      <td>14.320129</td>\n      <td>14.110417</td>\n      <td>15.095529</td>\n      <td>...</td>\n      <td>0.0</td>\n      <td>0.0</td>\n      <td>0.0</td>\n      <td>0.0</td>\n      <td>0.0</td>\n      <td>0.0</td>\n      <td>0.0</td>\n      <td>0.0</td>\n      <td>0.0</td>\n      <td>0.0</td>\n    </tr>\n    <tr>\n      <th>...</th>\n      <td>...</td>\n      <td>...</td>\n      <td>...</td>\n      <td>...</td>\n      <td>...</td>\n      <td>...</td>\n      <td>...</td>\n      <td>...</td>\n      <td>...</td>\n      <td>...</td>\n      <td>...</td>\n      <td>...</td>\n      <td>...</td>\n      <td>...</td>\n      <td>...</td>\n      <td>...</td>\n      <td>...</td>\n      <td>...</td>\n      <td>...</td>\n      <td>...</td>\n      <td>...</td>\n    </tr>\n    <tr>\n      <th>3137</th>\n      <td>-0.035067</td>\n      <td>0.904820</td>\n      <td>1.553162</td>\n      <td>2.618557</td>\n      <td>1.527976</td>\n      <td>-0.439239</td>\n      <td>2015</td>\n      <td>0.000000</td>\n      <td>14.946797</td>\n      <td>15.057593</td>\n      <td>...</td>\n      <td>0.0</td>\n      <td>0.0</td>\n      <td>0.0</td>\n      <td>0.0</td>\n      <td>0.0</td>\n      <td>0.0</td>\n      <td>0.0</td>\n      <td>0.0</td>\n      <td>0.0</td>\n      <td>0.0</td>\n    </tr>\n    <tr>\n      <th>3142</th>\n      <td>-0.035067</td>\n      <td>0.675162</td>\n      <td>0.497963</td>\n      <td>2.128455</td>\n      <td>0.944811</td>\n      <td>1.780089</td>\n      <td>2015</td>\n      <td>0.000000</td>\n      <td>14.586193</td>\n      <td>0.000000</td>\n      <td>...</td>\n      <td>0.0</td>\n      <td>0.0</td>\n      <td>0.0</td>\n      <td>0.0</td>\n      <td>0.0</td>\n      <td>0.0</td>\n      <td>0.0</td>\n      <td>0.0</td>\n      <td>0.0</td>\n      <td>0.0</td>\n    </tr>\n    <tr>\n      <th>3143</th>\n      <td>-0.035067</td>\n      <td>0.675162</td>\n      <td>2.107630</td>\n      <td>2.756954</td>\n      <td>1.478762</td>\n      <td>3.044854</td>\n      <td>2015</td>\n      <td>0.000000</td>\n      <td>16.978316</td>\n      <td>16.570909</td>\n      <td>...</td>\n      <td>0.0</td>\n      <td>0.0</td>\n      <td>0.0</td>\n      <td>0.0</td>\n      <td>0.0</td>\n      <td>0.0</td>\n      <td>0.0</td>\n      <td>0.0</td>\n      <td>0.0</td>\n      <td>0.0</td>\n    </tr>\n    <tr>\n      <th>3144</th>\n      <td>-0.035067</td>\n      <td>0.904820</td>\n      <td>1.521235</td>\n      <td>2.654283</td>\n      <td>1.298680</td>\n      <td>-0.439239</td>\n      <td>2015</td>\n      <td>0.000000</td>\n      <td>14.503028</td>\n      <td>14.262382</td>\n      <td>...</td>\n      <td>0.0</td>\n      <td>0.0</td>\n      <td>0.0</td>\n      <td>0.0</td>\n      <td>0.0</td>\n      <td>0.0</td>\n      <td>0.0</td>\n      <td>0.0</td>\n      <td>0.0</td>\n      <td>0.0</td>\n    </tr>\n    <tr>\n      <th>3146</th>\n      <td>-0.035067</td>\n      <td>-1.479439</td>\n      <td>0.226538</td>\n      <td>-0.405348</td>\n      <td>-0.923528</td>\n      <td>-0.439239</td>\n      <td>1962</td>\n      <td>0.000000</td>\n      <td>14.972650</td>\n      <td>0.000000</td>\n      <td>...</td>\n      <td>0.0</td>\n      <td>0.0</td>\n      <td>0.0</td>\n      <td>0.0</td>\n      <td>0.0</td>\n      <td>0.0</td>\n      <td>0.0</td>\n      <td>1.0</td>\n      <td>0.0</td>\n      <td>0.0</td>\n    </tr>\n  </tbody>\n</table>\n<p>945 rows × 54 columns</p>\n</div>"
     },
     "execution_count": 340,
     "metadata": {},
     "output_type": "execute_result"
    }
   ],
   "source": [
    "print(\"We rename X_train_std_encoded to X_train, the same for X_test.\")\n",
    "train_preprocess = train_std_encoded.copy()\n",
    "test_preprocess = test_std_encoded.copy()\n",
    "\n",
    "train_preprocess\n",
    "test_preprocess"
   ],
   "metadata": {
    "collapsed": false,
    "pycharm": {
     "name": "#%%\n"
    }
   }
  },
  {
   "cell_type": "code",
   "execution_count": 341,
   "outputs": [],
   "source": [
    "# Sauvegarde des jeux de données\n",
    "train_preprocess.to_csv(r'C:\\Users\\oumei\\Documents\\OC_projets\\P4\\P4_Data_Science_OpenClassrooms\\other_documents\\Example\\output\\try\\train_energy.csv', encoding='utf-8', index=False)\n",
    "test_preprocess.to_csv(r'C:\\Users\\oumei\\Documents\\OC_projets\\P4\\P4_Data_Science_OpenClassrooms\\other_documents\\Example\\output\\try\\test_energy.csv', encoding='utf-8', index=False)\n"
   ],
   "metadata": {
    "collapsed": false,
    "pycharm": {
     "name": "#%%\n"
    }
   }
  }
 ],
 "metadata": {
  "kernelspec": {
   "display_name": "Python 3",
   "language": "python",
   "name": "python3"
  },
  "language_info": {
   "codemirror_mode": {
    "name": "ipython",
    "version": 2
   },
   "file_extension": ".py",
   "mimetype": "text/x-python",
   "name": "python",
   "nbconvert_exporter": "python",
   "pygments_lexer": "ipython2",
   "version": "2.7.6"
  }
 },
 "nbformat": 4,
 "nbformat_minor": 0
}