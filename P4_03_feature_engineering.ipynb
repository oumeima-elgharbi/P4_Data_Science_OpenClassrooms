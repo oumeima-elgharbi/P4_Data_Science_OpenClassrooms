{
 "cells": [
  {
   "cell_type": "markdown",
   "source": [
    "OpenClassrooms\n",
    "Project 4, Data Scientist\n",
    "Author : Oumeima EL GHARBI\n",
    "Date : August 2022"
   ],
   "metadata": {
    "collapsed": false,
    "pycharm": {
     "name": "#%% md\n"
    }
   }
  },
  {
   "cell_type": "markdown",
   "source": [
    "Un notebook pour chaque prédiction (émissions de CO2 et consommation totale d’énergie) des différents tests de modèles mis au propre, dans lequel vous identifierez clairement le modèle final choisi.\n",
    "\n",
    "\n",
    "L’objectif est de te passer des relevés de consommation annuels futurs (attention à la fuite de données). Nous ferons de toute façon pour tout nouveau bâtiment un premier relevé de référence la première année, donc rien ne t'interdit d’en déduire des variables structurelles aux bâtiments, par exemple la nature et proportions des sources d’énergie utilisées..\n",
    "\n",
    "Fais bien attention au traitement des différentes variables, à la fois pour trouver de nouvelles informations (peut-on déduire des choses intéressantes d’une simple adresse ?) et optimiser les performances en appliquant des transformations simples aux variables (normalisation, passage au log, etc.).\n",
    "\n",
    "Mets en place une évaluation rigoureuse des performances de la régression, et optimise les hyperparamètres et le choix d’algorithmes de ML à l’aide d’une validation croisée."
   ],
   "metadata": {
    "collapsed": false,
    "pycharm": {
     "name": "#%% md\n"
    }
   }
  },
  {
   "cell_type": "markdown",
   "source": [
    "\n",
    "\n",
    "Tester les modèles suivants : **regression linéaire (avec différentes régularisation : Ridge, Lasso, Elastic), Random Forest, XGboost**\n",
    "Penser à comparer les performances des différents modèles : utiliser la **MAE** ( Mean Absolute Error)\n",
    "Penser également à optimiser les hyper paramètres de chaque modèle via **GridSearch**\n"
   ],
   "metadata": {
    "collapsed": false,
    "pycharm": {
     "name": "#%% md\n"
    }
   }
  },
  {
   "cell_type": "markdown",
   "source": [
    "Evaluate :\n",
    "\n",
    "https://cloud.google.com/automl-tables/docs/evaluate?hl=fr\n",
    "\n",
    "\n",
    "KFOLD\n",
    "\n",
    "Entrée : données X (dimension nxp), étiquettes y (dimension n), nombre de folds k\n",
    "\n",
    "Couper [0, 1, ..., n-1] en k parties de taille (n/k). (La dernière partie sera un peu plus petite si n n'est pas un multiple de k)\n",
    "\n",
    "for i=0 to (k-1):\n",
    "    Former le jeu de test (X_test, y_test) en restreignant X et y aux indices contenus dans la i-ième partie.\n",
    "    Former le jeu d'entraînement (X_train, y_train) en restreignant X et y aux autres indices.\n",
    "    Entraîner l'algorithme sur le jeu d'entraînement\n",
    "    Utiliser le modèle ainsi obtenu pour prédire sur le jeu de test\n",
    "        Calculer l'erreur du modèle en comparant les étiquettes prédites aux vraies étiquettes contenues dans y_test\n",
    "\n",
    "Sortie : la valeur moyenne des erreurs calculées sur les k folds."
   ],
   "metadata": {
    "collapsed": false,
    "pycharm": {
     "name": "#%% md\n"
    }
   }
  },
  {
   "cell_type": "code",
   "execution_count": 2,
   "outputs": [],
   "source": [
    "# 1 modele de Regression (RL classsque / Elastic / ridig / laso\n",
    "# Random Forest\n",
    "# XGBOOST\n",
    "\n",
    "# var à rpedire tottal GHE Emssion last one to predict\n",
    "# cette var deped de la consommation des bateimenst (1) prediction sur elec, steam, naturalgas et un autre energie (2) et reutiliser pour predire"
   ],
   "metadata": {
    "collapsed": false,
    "pycharm": {
     "name": "#%%\n"
    }
   }
  },
  {
   "cell_type": "markdown",
   "source": [
    "### Introduction"
   ],
   "metadata": {
    "collapsed": false,
    "pycharm": {
     "name": "#%% md\n"
    }
   }
  },
  {
   "cell_type": "markdown",
   "source": [
    "#### Importing libraries"
   ],
   "metadata": {
    "collapsed": false,
    "pycharm": {
     "name": "#%% md\n"
    }
   }
  },
  {
   "cell_type": "code",
   "execution_count": 3,
   "outputs": [
    {
     "data": {
      "application/javascript": "IPython.notebook.set_autosave_interval(300000)"
     },
     "metadata": {},
     "output_type": "display_data"
    },
    {
     "name": "stdout",
     "output_type": "stream",
     "text": [
      "Autosaving every 300 seconds\n"
     ]
    }
   ],
   "source": [
    "%reset -f\n",
    "\n",
    "import numpy as np\n",
    "import pandas as pd\n",
    "import matplotlib.pyplot as plt\n",
    "import seaborn as sns\n",
    "\n",
    "%matplotlib inline\n",
    "%autosave 300"
   ],
   "metadata": {
    "collapsed": false,
    "pycharm": {
     "name": "#%%\n"
    }
   }
  },
  {
   "cell_type": "code",
   "execution_count": 4,
   "outputs": [],
   "source": [
    "from functions import *"
   ],
   "metadata": {
    "collapsed": false,
    "pycharm": {
     "name": "#%%\n"
    }
   }
  },
  {
   "cell_type": "code",
   "execution_count": 5,
   "outputs": [],
   "source": [
    "import os, warnings\n",
    "# warnings.filterwarnings('ignore')\n",
    "warnings.filterwarnings(action=\"ignore\")"
   ],
   "metadata": {
    "collapsed": false,
    "pycharm": {
     "name": "#%%\n"
    }
   }
  },
  {
   "cell_type": "code",
   "execution_count": 6,
   "outputs": [
    {
     "name": "stdout",
     "output_type": "stream",
     "text": [
      "Seed value:  1\n"
     ]
    }
   ],
   "source": [
    "# Set random integer (seed) - 891\n",
    "from random import randrange\n",
    "#seed = randrange(1000)\n",
    "seed = 1\n",
    "print(\"Seed value: \", seed)"
   ],
   "metadata": {
    "collapsed": false,
    "pycharm": {
     "name": "#%%\n"
    }
   }
  },
  {
   "cell_type": "markdown",
   "source": [
    "#### Loading dataset"
   ],
   "metadata": {
    "collapsed": false,
    "pycharm": {
     "name": "#%% md\n"
    }
   }
  },
  {
   "cell_type": "code",
   "execution_count": 7,
   "outputs": [
    {
     "name": "stdout",
     "output_type": "stream",
     "text": [
      "This dictionary will be used when reading the csv file to assign a type to categorical features : {'BuildingType': 'category', 'PrimaryPropertyType': 'category', 'Neighborhood': 'category', 'ZipCode': 'category', 'CouncilDistrictCode': 'category', 'LargestPropertyUseType': 'category', 'SecondLargestPropertyUseType': 'category', 'ThirdLargestPropertyUseType': 'category'}\n"
     ]
    }
   ],
   "source": [
    "columns_to_categorize = [\"BuildingType\", \"PrimaryPropertyType\", \"Neighborhood\", \"ZipCode\", \"CouncilDistrictCode\", \"LargestPropertyUseType\", \"SecondLargestPropertyUseType\", \"ThirdLargestPropertyUseType\"]\n",
    "#  \"Neighborhood\",\n",
    "category_types = {column: 'category' for column in columns_to_categorize}\n",
    "print(\"This dictionary will be used when reading the csv file to assign a type to categorical features :\", category_types)"
   ],
   "metadata": {
    "collapsed": false,
    "pycharm": {
     "name": "#%%\n"
    }
   }
  },
  {
   "cell_type": "code",
   "execution_count": 8,
   "outputs": [],
   "source": [
    "path = \"./dataset/cleaned/\"\n",
    "filename = \"2016_Building_Energy_Prediction.csv\"\n",
    "dataset_path = \"{}{}\".format(path, filename)\n",
    "# we assign the categorical features with a categotical type\n",
    "data = pd.read_csv(dataset_path, dtype=category_types, sep=\",\")"
   ],
   "metadata": {
    "collapsed": false,
    "pycharm": {
     "name": "#%%\n"
    }
   }
  },
  {
   "cell_type": "code",
   "execution_count": 12,
   "outputs": [
    {
     "data": {
      "text/plain": "(3157, 37)"
     },
     "execution_count": 12,
     "metadata": {},
     "output_type": "execute_result"
    }
   ],
   "source": [
    "data.shape"
   ],
   "metadata": {
    "collapsed": false,
    "pycharm": {
     "name": "#%%\n"
    }
   }
  },
  {
   "cell_type": "code",
   "execution_count": 13,
   "outputs": [
    {
     "data": {
      "text/plain": "OSEBuildingID                             int64\nBuildingType                           category\nPrimaryPropertyType                    category\nZipCode                                category\nCouncilDistrictCode                    category\nNeighborhood                           category\nYearBuilt                                 int64\nNumberofBuildings                       float64\nNumberofFloors                            int64\nPropertyGFATotal                          int64\nPropertyGFAParking                        int64\nPropertyGFABuilding(s)                    int64\nLargestPropertyUseType                 category\nLargestPropertyUseTypeGFA               float64\nSecondLargestPropertyUseType           category\nSecondLargestPropertyUseTypeGFA         float64\nThirdLargestPropertyUseType            category\nThirdLargestPropertyUseTypeGFA          float64\nENERGYSTARScore                         float64\nSiteEnergyUse(kBtu)                     float64\nSteamUse(kBtu)                          float64\nElectricity(kBtu)                       float64\nNaturalGas(kBtu)                        float64\nTotalGHGEmissions                       float64\nLog-NumberofBuildings                   float64\nLog-NumberofFloors                      float64\nLog-PropertyGFATotal                    float64\nLog-PropertyGFAParking                  float64\nLog-PropertyGFABuilding(s)              float64\nLog-LargestPropertyUseTypeGFA           float64\nLog-SecondLargestPropertyUseTypeGFA     float64\nLog-ThirdLargestPropertyUseTypeGFA      float64\nLog-SiteEnergyUse(kBtu)                 float64\nLog-SteamUse(kBtu)                      float64\nLog-Electricity(kBtu)                   float64\nLog-NaturalGas(kBtu)                    float64\nLog-TotalGHGEmissions                   float64\ndtype: object"
     },
     "execution_count": 13,
     "metadata": {},
     "output_type": "execute_result"
    }
   ],
   "source": [
    "data.dtypes"
   ],
   "metadata": {
    "collapsed": false,
    "pycharm": {
     "name": "#%%\n"
    }
   }
  },
  {
   "cell_type": "code",
   "execution_count": 14,
   "outputs": [],
   "source": [
    "# predict : Electricity\n",
    "# train / test\n",
    "# standardisation = retirer la moyen et div par ecart type (scaling : les var qn sur emem echelle\n",
    "# var categ : encoding (one hot encoder)\n",
    "\n",
    "# la fin Feature engineriing\n",
    "\n",
    "# 2) entrainer le smodels\n",
    "# perf\n",
    "# temps de calcul\n",
    "# graph pour montrer la perf de chaque modele(barplot)\n",
    "# obj : finir exploration / finir feature engineering\n",
    "# obj un premier noteboook propre (try max)"
   ],
   "metadata": {
    "collapsed": false,
    "pycharm": {
     "name": "#%%\n"
    }
   }
  },
  {
   "cell_type": "code",
   "execution_count": 15,
   "outputs": [
    {
     "data": {
      "text/plain": "Index(['OSEBuildingID', 'BuildingType', 'PrimaryPropertyType', 'ZipCode',\n       'CouncilDistrictCode', 'Neighborhood', 'YearBuilt', 'NumberofBuildings',\n       'NumberofFloors', 'PropertyGFATotal', 'PropertyGFAParking',\n       'PropertyGFABuilding(s)', 'LargestPropertyUseType',\n       'LargestPropertyUseTypeGFA', 'SecondLargestPropertyUseType',\n       'SecondLargestPropertyUseTypeGFA', 'ThirdLargestPropertyUseType',\n       'ThirdLargestPropertyUseTypeGFA', 'ENERGYSTARScore',\n       'SiteEnergyUse(kBtu)', 'SteamUse(kBtu)', 'Electricity(kBtu)',\n       'NaturalGas(kBtu)', 'TotalGHGEmissions', 'Log-NumberofBuildings',\n       'Log-NumberofFloors', 'Log-PropertyGFATotal', 'Log-PropertyGFAParking',\n       'Log-PropertyGFABuilding(s)', 'Log-LargestPropertyUseTypeGFA',\n       'Log-SecondLargestPropertyUseTypeGFA',\n       'Log-ThirdLargestPropertyUseTypeGFA', 'Log-SiteEnergyUse(kBtu)',\n       'Log-SteamUse(kBtu)', 'Log-Electricity(kBtu)', 'Log-NaturalGas(kBtu)',\n       'Log-TotalGHGEmissions'],\n      dtype='object')"
     },
     "execution_count": 15,
     "metadata": {},
     "output_type": "execute_result"
    }
   ],
   "source": [
    "data.columns"
   ],
   "metadata": {
    "collapsed": false,
    "pycharm": {
     "name": "#%%\n"
    }
   }
  },
  {
   "cell_type": "markdown",
   "source": [
    "### TRYOUT"
   ],
   "metadata": {
    "collapsed": false,
    "pycharm": {
     "name": "#%% md\n"
    }
   }
  },
  {
   "cell_type": "code",
   "execution_count": null,
   "outputs": [],
   "source": [
    "data['Steam_ratio'] = data['SteamUse(kBtu)'] / data['Log-SiteEnergyUse(kBtu)']\n",
    "data['Electricity_ratio'] = data['Electricity(kBtu)'] / data['Log-SiteEnergyUse(kBtu)']\n",
    "data['NaturalGas_ratio'] = data['NaturalGas(kBtu)'] / data['Log-SiteEnergyUse(kBtu)']\n",
    "#data['Others_ratio'] = data['Others(kBtu)'] / data['Log-SiteEnergyUse(kBtu)']"
   ],
   "metadata": {
    "collapsed": false,
    "pycharm": {
     "name": "#%%\n"
    }
   }
  },
  {
   "cell_type": "code",
   "execution_count": 16,
   "outputs": [
    {
     "name": "stdout",
     "output_type": "stream",
     "text": [
      "['YearBuilt', 'BuildingType', 'PrimaryPropertyType', 'Neighborhood', 'LargestPropertyUseType', 'Log-NumberofFloors', 'Log-PropertyGFATotal', 'Log-PropertyGFABuilding(s)', 'Log-PropertyGFAParking', 'Log-LargestPropertyUseTypeGFA', 'Log-SecondLargestPropertyUseTypeGFA', 'Log-ThirdLargestPropertyUseTypeGFA', 'Log-Electricity(kBtu)']\n"
     ]
    }
   ],
   "source": [
    "features_for_prediction = [\"YearBuilt\", \"BuildingType\", \"PrimaryPropertyType\", \"Neighborhood\", \"Log-NumberofBuildings\", \"Log-NumberofFloors\", \"Log-PropertyGFATotal\", \"Log-PropertyGFAParking\", \"Log-SecondLargestPropertyUseTypeGFA\", \"Log-ThirdLargestPropertyUseTypeGFA\", \"Electricity_ratio\"]\n",
    "\n",
    "#features_for_prediction = [\"YearBuilt\", \"NumberofBuildings\", \"NumberofFloors\", \"LargestPropertyUseTypeGFA\", \"SecondLargestPropertyUseTypeGFA\", \"ThirdLargestPropertyUseTypeGFA\",\n",
    "   #                        \"BuildingType\",\"PrimaryPropertyType\", \"Neighborhood\", \"LargestPropertyUseType\", \"SecondLargestPropertyUseType\", \"ThirdLargestPropertyUseType\"]\n",
    "\n",
    "variable_to_predict = \"Electricity_ratio\"\n",
    "\n",
    "features_for_prediction.append(variable_to_predict)\n",
    "print(features_for_prediction)\n"
   ],
   "metadata": {
    "collapsed": false,
    "pycharm": {
     "name": "#%%\n"
    }
   }
  },
  {
   "cell_type": "code",
   "execution_count": 17,
   "outputs": [
    {
     "data": {
      "text/plain": "      YearBuilt          BuildingType          PrimaryPropertyType  \\\n0          1978  Multifamily LR (1-4)         Low-Rise Multifamily   \n1          1928        NonResidential                    Warehouse   \n2          1925  Multifamily LR (1-4)         Low-Rise Multifamily   \n3          1971  Multifamily HR (10+)        High-Rise Multifamily   \n4          2001  Multifamily LR (1-4)         Low-Rise Multifamily   \n...         ...                   ...                          ...   \n3152       2001        NonResidential           Mixed Use Property   \n3153       1907  Multifamily LR (1-4)         Low-Rise Multifamily   \n3154       2001        NonResidential  Small- and Mid-Sized Office   \n3155       1911        NonResidential                 Retail Store   \n3156       1938    Nonresidential COS           Mixed Use Property   \n\n          Neighborhood      LargestPropertyUseType  Log-NumberofFloors  \\\n0              central         Multifamily Housing            1.386294   \n1     greater duwamish  Non-Refrigerated Warehouse            1.098612   \n2     greater duwamish         Multifamily Housing            1.386294   \n3     greater duwamish         Multifamily Housing            2.772589   \n4     greater duwamish         Multifamily Housing            1.386294   \n...                ...                         ...                 ...   \n3152        lake union         Multifamily Housing            1.386294   \n3153        lake union         Multifamily Housing            1.609438   \n3154        lake union                      Office            1.791759   \n3155        lake union                Retail Store            1.098612   \n3156  greater duwamish          Other - Recreation            0.693147   \n\n      Log-PropertyGFATotal  Log-PropertyGFABuilding(s)  \\\n0                 9.939819                    9.939819   \n1                10.164158                   10.164158   \n2                10.131459                   10.131459   \n3                11.210455                   11.210455   \n4                10.501884                   10.287184   \n...                    ...                         ...   \n3152             10.641321                   10.392129   \n3153             10.509469                   10.509469   \n3154             10.426469                   10.230306   \n3155              9.929009                    9.929009   \n3156              9.812413                    9.812413   \n\n      Log-PropertyGFAParking  Log-LargestPropertyUseTypeGFA  \\\n0                   0.000000                       9.777301   \n1                   0.000000                       9.557541   \n2                   0.000000                      10.131459   \n3                   0.000000                      11.288694   \n4                   8.858084                      10.132772   \n...                      ...                            ...   \n3152                9.129889                       9.566195   \n3153                0.000000                      10.509469   \n3154                8.701346                       9.674640   \n3155                0.000000                       9.225820   \n3156                0.000000                       9.020632   \n\n      Log-SecondLargestPropertyUseTypeGFA  Log-ThirdLargestPropertyUseTypeGFA  \\\n0                                0.000000                            0.000000   \n1                                9.076352                            8.026497   \n2                                0.000000                            0.000000   \n3                                0.000000                            0.000000   \n4                                8.343078                            0.000000   \n...                                   ...                                 ...   \n3152                             9.555985                            9.177920   \n3153                             0.000000                            0.000000   \n3154                             9.078294                            7.313887   \n3155                             8.987322                            0.000000   \n3156                             8.987322                            7.011214   \n\n      Log-Electricity(kBtu)  \n0                 13.612540  \n1                 14.012813  \n2                 12.624928  \n3                 14.583001  \n4                 13.397146  \n...                     ...  \n3152              14.707138  \n3153              13.156997  \n3154              14.071242  \n3155              12.487428  \n3156              12.977465  \n\n[3157 rows x 13 columns]",
      "text/html": "<div>\n<style scoped>\n    .dataframe tbody tr th:only-of-type {\n        vertical-align: middle;\n    }\n\n    .dataframe tbody tr th {\n        vertical-align: top;\n    }\n\n    .dataframe thead th {\n        text-align: right;\n    }\n</style>\n<table border=\"1\" class=\"dataframe\">\n  <thead>\n    <tr style=\"text-align: right;\">\n      <th></th>\n      <th>YearBuilt</th>\n      <th>BuildingType</th>\n      <th>PrimaryPropertyType</th>\n      <th>Neighborhood</th>\n      <th>LargestPropertyUseType</th>\n      <th>Log-NumberofFloors</th>\n      <th>Log-PropertyGFATotal</th>\n      <th>Log-PropertyGFABuilding(s)</th>\n      <th>Log-PropertyGFAParking</th>\n      <th>Log-LargestPropertyUseTypeGFA</th>\n      <th>Log-SecondLargestPropertyUseTypeGFA</th>\n      <th>Log-ThirdLargestPropertyUseTypeGFA</th>\n      <th>Log-Electricity(kBtu)</th>\n    </tr>\n  </thead>\n  <tbody>\n    <tr>\n      <th>0</th>\n      <td>1978</td>\n      <td>Multifamily LR (1-4)</td>\n      <td>Low-Rise Multifamily</td>\n      <td>central</td>\n      <td>Multifamily Housing</td>\n      <td>1.386294</td>\n      <td>9.939819</td>\n      <td>9.939819</td>\n      <td>0.000000</td>\n      <td>9.777301</td>\n      <td>0.000000</td>\n      <td>0.000000</td>\n      <td>13.612540</td>\n    </tr>\n    <tr>\n      <th>1</th>\n      <td>1928</td>\n      <td>NonResidential</td>\n      <td>Warehouse</td>\n      <td>greater duwamish</td>\n      <td>Non-Refrigerated Warehouse</td>\n      <td>1.098612</td>\n      <td>10.164158</td>\n      <td>10.164158</td>\n      <td>0.000000</td>\n      <td>9.557541</td>\n      <td>9.076352</td>\n      <td>8.026497</td>\n      <td>14.012813</td>\n    </tr>\n    <tr>\n      <th>2</th>\n      <td>1925</td>\n      <td>Multifamily LR (1-4)</td>\n      <td>Low-Rise Multifamily</td>\n      <td>greater duwamish</td>\n      <td>Multifamily Housing</td>\n      <td>1.386294</td>\n      <td>10.131459</td>\n      <td>10.131459</td>\n      <td>0.000000</td>\n      <td>10.131459</td>\n      <td>0.000000</td>\n      <td>0.000000</td>\n      <td>12.624928</td>\n    </tr>\n    <tr>\n      <th>3</th>\n      <td>1971</td>\n      <td>Multifamily HR (10+)</td>\n      <td>High-Rise Multifamily</td>\n      <td>greater duwamish</td>\n      <td>Multifamily Housing</td>\n      <td>2.772589</td>\n      <td>11.210455</td>\n      <td>11.210455</td>\n      <td>0.000000</td>\n      <td>11.288694</td>\n      <td>0.000000</td>\n      <td>0.000000</td>\n      <td>14.583001</td>\n    </tr>\n    <tr>\n      <th>4</th>\n      <td>2001</td>\n      <td>Multifamily LR (1-4)</td>\n      <td>Low-Rise Multifamily</td>\n      <td>greater duwamish</td>\n      <td>Multifamily Housing</td>\n      <td>1.386294</td>\n      <td>10.501884</td>\n      <td>10.287184</td>\n      <td>8.858084</td>\n      <td>10.132772</td>\n      <td>8.343078</td>\n      <td>0.000000</td>\n      <td>13.397146</td>\n    </tr>\n    <tr>\n      <th>...</th>\n      <td>...</td>\n      <td>...</td>\n      <td>...</td>\n      <td>...</td>\n      <td>...</td>\n      <td>...</td>\n      <td>...</td>\n      <td>...</td>\n      <td>...</td>\n      <td>...</td>\n      <td>...</td>\n      <td>...</td>\n      <td>...</td>\n    </tr>\n    <tr>\n      <th>3152</th>\n      <td>2001</td>\n      <td>NonResidential</td>\n      <td>Mixed Use Property</td>\n      <td>lake union</td>\n      <td>Multifamily Housing</td>\n      <td>1.386294</td>\n      <td>10.641321</td>\n      <td>10.392129</td>\n      <td>9.129889</td>\n      <td>9.566195</td>\n      <td>9.555985</td>\n      <td>9.177920</td>\n      <td>14.707138</td>\n    </tr>\n    <tr>\n      <th>3153</th>\n      <td>1907</td>\n      <td>Multifamily LR (1-4)</td>\n      <td>Low-Rise Multifamily</td>\n      <td>lake union</td>\n      <td>Multifamily Housing</td>\n      <td>1.609438</td>\n      <td>10.509469</td>\n      <td>10.509469</td>\n      <td>0.000000</td>\n      <td>10.509469</td>\n      <td>0.000000</td>\n      <td>0.000000</td>\n      <td>13.156997</td>\n    </tr>\n    <tr>\n      <th>3154</th>\n      <td>2001</td>\n      <td>NonResidential</td>\n      <td>Small- and Mid-Sized Office</td>\n      <td>lake union</td>\n      <td>Office</td>\n      <td>1.791759</td>\n      <td>10.426469</td>\n      <td>10.230306</td>\n      <td>8.701346</td>\n      <td>9.674640</td>\n      <td>9.078294</td>\n      <td>7.313887</td>\n      <td>14.071242</td>\n    </tr>\n    <tr>\n      <th>3155</th>\n      <td>1911</td>\n      <td>NonResidential</td>\n      <td>Retail Store</td>\n      <td>lake union</td>\n      <td>Retail Store</td>\n      <td>1.098612</td>\n      <td>9.929009</td>\n      <td>9.929009</td>\n      <td>0.000000</td>\n      <td>9.225820</td>\n      <td>8.987322</td>\n      <td>0.000000</td>\n      <td>12.487428</td>\n    </tr>\n    <tr>\n      <th>3156</th>\n      <td>1938</td>\n      <td>Nonresidential COS</td>\n      <td>Mixed Use Property</td>\n      <td>greater duwamish</td>\n      <td>Other - Recreation</td>\n      <td>0.693147</td>\n      <td>9.812413</td>\n      <td>9.812413</td>\n      <td>0.000000</td>\n      <td>9.020632</td>\n      <td>8.987322</td>\n      <td>7.011214</td>\n      <td>12.977465</td>\n    </tr>\n  </tbody>\n</table>\n<p>3157 rows × 13 columns</p>\n</div>"
     },
     "execution_count": 17,
     "metadata": {},
     "output_type": "execute_result"
    }
   ],
   "source": [
    "data = data[features_for_prediction]\n",
    "\n",
    "data"
   ],
   "metadata": {
    "collapsed": false,
    "pycharm": {
     "name": "#%%\n"
    }
   }
  },
  {
   "cell_type": "markdown",
   "source": [
    "## I) Feature Engineering : preparing the vectors and matrices\n"
   ],
   "metadata": {
    "collapsed": false,
    "pycharm": {
     "name": "#%% md\n"
    }
   }
  },
  {
   "cell_type": "markdown",
   "source": [
    "#### 1) Separating training data and target vector"
   ],
   "metadata": {
    "collapsed": false,
    "pycharm": {
     "name": "#%% md\n"
    }
   }
  },
  {
   "cell_type": "code",
   "execution_count": 18,
   "outputs": [
    {
     "name": "stdout",
     "output_type": "stream",
     "text": [
      "Shape of X : (3157, 12)\n",
      "Shape of y : (3157,)\n"
     ]
    }
   ],
   "source": [
    "# we create the data matrix / we only take the features\n",
    "X = data[data.columns[:-1]]\n",
    "\n",
    "# we create the target vector\n",
    "y = data[variable_to_predict].values # numpy array not a DataFrame anymore\n",
    "\n",
    "print(\"Shape of X :\", X.shape)\n",
    "print(\"Shape of y :\", y.shape)"
   ],
   "metadata": {
    "collapsed": false,
    "pycharm": {
     "name": "#%%\n"
    }
   }
  },
  {
   "cell_type": "markdown",
   "source": [
    "#### 2) Separation train and test dataset\n"
   ],
   "metadata": {
    "collapsed": false,
    "pycharm": {
     "name": "#%% md\n"
    }
   }
  },
  {
   "cell_type": "code",
   "execution_count": 20,
   "outputs": [
    {
     "name": "stdout",
     "output_type": "stream",
     "text": [
      "We have to separate the train / test sets before normalising the dataset.\n"
     ]
    }
   ],
   "source": [
    "print(\"We have to separate the train / test sets before normalising the dataset.\")"
   ],
   "metadata": {
    "collapsed": false,
    "pycharm": {
     "name": "#%%\n"
    }
   }
  },
  {
   "cell_type": "code",
   "execution_count": 21,
   "outputs": [],
   "source": [
    "# We create a training set and a test set (the test set contains 30% of the dataset)\n",
    "from sklearn. model_selection import train_test_split\n",
    "X_train, X_test, y_train, y_test = train_test_split(X, y, test_size=0.3,  random_state=seed)"
   ],
   "metadata": {
    "collapsed": false,
    "pycharm": {
     "name": "#%%\n"
    }
   }
  },
  {
   "cell_type": "code",
   "execution_count": null,
   "outputs": [],
   "source": [
    "train, test = train_test_split(data, test_size=0.3, random_state=seed)"
   ],
   "metadata": {
    "collapsed": false,
    "pycharm": {
     "name": "#%%\n"
    }
   }
  },
  {
   "cell_type": "code",
   "execution_count": 22,
   "outputs": [
    {
     "data": {
      "text/plain": "(2209, 12)"
     },
     "execution_count": 22,
     "metadata": {},
     "output_type": "execute_result"
    }
   ],
   "source": [
    "X_train.shape"
   ],
   "metadata": {
    "collapsed": false,
    "pycharm": {
     "name": "#%%\n"
    }
   }
  },
  {
   "cell_type": "code",
   "execution_count": 23,
   "outputs": [
    {
     "data": {
      "text/plain": "(948, 12)"
     },
     "execution_count": 23,
     "metadata": {},
     "output_type": "execute_result"
    }
   ],
   "source": [
    "X_test.shape"
   ],
   "metadata": {
    "collapsed": false,
    "pycharm": {
     "name": "#%%\n"
    }
   }
  },
  {
   "cell_type": "code",
   "execution_count": null,
   "outputs": [],
   "source": [
    "train.shape"
   ],
   "metadata": {
    "collapsed": false,
    "pycharm": {
     "name": "#%%\n"
    }
   }
  },
  {
   "cell_type": "code",
   "execution_count": null,
   "outputs": [],
   "source": [
    "test.shape"
   ],
   "metadata": {
    "collapsed": false,
    "pycharm": {
     "name": "#%%\n"
    }
   }
  },
  {
   "cell_type": "markdown",
   "source": [
    "#### 3) Normalization"
   ],
   "metadata": {
    "collapsed": false,
    "pycharm": {
     "name": "#%% md\n"
    }
   }
  },
  {
   "cell_type": "code",
   "execution_count": 24,
   "outputs": [],
   "source": [
    "from sklearn.preprocessing import StandardScaler, OneHotEncoder"
   ],
   "metadata": {
    "collapsed": false,
    "pycharm": {
     "name": "#%%\n"
    }
   }
  },
  {
   "cell_type": "code",
   "execution_count": 25,
   "outputs": [
    {
     "name": "stdout",
     "output_type": "stream",
     "text": [
      "We separate categorical variables from numerical variables.\n"
     ]
    }
   ],
   "source": [
    "print(\"We separate categorical variables from numerical variables.\")"
   ],
   "metadata": {
    "collapsed": false,
    "pycharm": {
     "name": "#%%\n"
    }
   }
  },
  {
   "cell_type": "code",
   "execution_count": 26,
   "outputs": [
    {
     "name": "stdout",
     "output_type": "stream",
     "text": [
      "We won't normalise the year so we drop it from numerical_columns.\n",
      "Shape of categorical variables :  (4,)\n",
      "Shape of numerical variables : (7,)\n"
     ]
    }
   ],
   "source": [
    "X.select_dtypes(['category','object']) # we don't have 'object' here but it is just in case.\n",
    "\n",
    "categorical_columns = X.select_dtypes(['category','object']).columns\n",
    "numerical_columns = X.select_dtypes(include='number').columns.drop(\"YearBuilt\") ###\n",
    "#numerical_columns = X.select_dtypes(include='number').columns\n",
    "print(\"We won't normalise the year so we drop it from numerical_columns.\")\n",
    "\n",
    "print(\"Shape of categorical variables : \", categorical_columns.shape)\n",
    "print(\"Shape of numerical variables :\", numerical_columns.shape)"
   ],
   "metadata": {
    "collapsed": false,
    "pycharm": {
     "name": "#%%\n"
    }
   }
  },
  {
   "cell_type": "markdown",
   "source": [
    "##### 1) Data Standardisation"
   ],
   "metadata": {
    "collapsed": false,
    "pycharm": {
     "name": "#%% md\n"
    }
   }
  },
  {
   "cell_type": "markdown",
   "source": [
    "We have to standardize the variables before learning a **Ridge Regression**.\n",
    "Standardizing means that each variable will have a **standard deviation** equal to 1."
   ],
   "metadata": {
    "collapsed": false,
    "pycharm": {
     "name": "#%% md\n"
    }
   }
  },
  {
   "cell_type": "code",
   "execution_count": 27,
   "outputs": [
    {
     "name": "stdout",
     "output_type": "stream",
     "text": [
      "Numerical variables standardization\n",
      "We have : 7 numerical features to standardize.\n",
      "\n",
      "Index(['Log-NumberofFloors', 'Log-PropertyGFATotal',\n",
      "       'Log-PropertyGFABuilding(s)', 'Log-PropertyGFAParking',\n",
      "       'Log-LargestPropertyUseTypeGFA', 'Log-SecondLargestPropertyUseTypeGFA',\n",
      "       'Log-ThirdLargestPropertyUseTypeGFA'],\n",
      "      dtype='object')\n"
     ]
    }
   ],
   "source": [
    "print(\"Numerical variables standardization\")\n",
    "print(\"We have :\", numerical_columns.shape[0], \"numerical features to standardize.\",end=\"\\n\\n\")\n",
    "\n",
    "print(numerical_columns)"
   ],
   "metadata": {
    "collapsed": false,
    "pycharm": {
     "name": "#%%\n"
    }
   }
  },
  {
   "cell_type": "code",
   "execution_count": 28,
   "outputs": [
    {
     "name": "stdout",
     "output_type": "stream",
     "text": [
      "Before\n"
     ]
    },
    {
     "data": {
      "text/plain": "      YearBuilt          BuildingType          PrimaryPropertyType  \\\n1866       1984  Multifamily LR (1-4)         Low-Rise Multifamily   \n635        1965        NonResidential  Supermarket / Grocery Store   \n720        2009  Multifamily MR (5-9)         Mid-Rise Multifamily   \n254        1962  Multifamily LR (1-4)         Low-Rise Multifamily   \n2227       1971        NonResidential       Refrigerated Warehouse   \n...         ...                   ...                          ...   \n2763       1988  Multifamily MR (5-9)         Mid-Rise Multifamily   \n905        1973  Multifamily MR (5-9)         Mid-Rise Multifamily   \n1096       2013  Multifamily MR (5-9)         Mid-Rise Multifamily   \n235        1910  Multifamily LR (1-4)         Low-Rise Multifamily   \n1061       2014  Multifamily MR (5-9)         Mid-Rise Multifamily   \n\n               Neighborhood     LargestPropertyUseType  Log-NumberofFloors  \\\n1866              northeast        Multifamily Housing            1.609438   \n635               northeast  Supermarket/Grocery Store            0.693147   \n720                 central        Multifamily Housing            2.079442   \n254               southwest        Multifamily Housing            1.386294   \n2227       greater duwamish     Refrigerated Warehouse            0.693147   \n...                     ...                        ...                 ...   \n2763               downtown        Multifamily Housing            1.791759   \n905   magnolia / queen anne        Multifamily Housing            1.791759   \n1096               downtown        Multifamily Housing            2.197225   \n235                    east        Multifamily Housing            1.386294   \n1061              northeast        Multifamily Housing            2.079442   \n\n      Log-PropertyGFATotal  Log-PropertyGFABuilding(s)  \\\n1866             10.965730                   10.965730   \n635              10.398885                   10.398885   \n720              11.867708                   11.867708   \n254              10.042510                   10.042510   \n2227             11.243149                   11.243149   \n...                    ...                         ...   \n2763             11.884620                   11.884620   \n905              10.418315                   10.418315   \n1096             10.891336                   10.891336   \n235              10.215704                   10.215704   \n1061             10.654762                   10.654762   \n\n      Log-PropertyGFAParking  Log-LargestPropertyUseTypeGFA  \\\n1866                     0.0                      10.997807   \n635                      0.0                      10.464331   \n720                      0.0                      11.458480   \n254                      0.0                       9.750628   \n2227                     0.0                      11.244876   \n...                      ...                            ...   \n2763                     0.0                      10.899864   \n905                      0.0                      10.418315   \n1096                     0.0                      11.396403   \n235                      0.0                      10.215704   \n1061                     0.0                      10.365617   \n\n      Log-SecondLargestPropertyUseTypeGFA  Log-ThirdLargestPropertyUseTypeGFA  \n1866                             0.000000                            0.000000  \n635                              0.000000                            0.000000  \n720                             10.391024                            8.493310  \n254                              8.668884                            0.000000  \n2227                             0.000000                            0.000000  \n...                                   ...                                 ...  \n2763                             9.446282                            8.615408  \n905                              0.000000                            0.000000  \n1096                            10.130663                            8.486940  \n235                              0.000000                            0.000000  \n1061                             0.000000                            0.000000  \n\n[2209 rows x 12 columns]",
      "text/html": "<div>\n<style scoped>\n    .dataframe tbody tr th:only-of-type {\n        vertical-align: middle;\n    }\n\n    .dataframe tbody tr th {\n        vertical-align: top;\n    }\n\n    .dataframe thead th {\n        text-align: right;\n    }\n</style>\n<table border=\"1\" class=\"dataframe\">\n  <thead>\n    <tr style=\"text-align: right;\">\n      <th></th>\n      <th>YearBuilt</th>\n      <th>BuildingType</th>\n      <th>PrimaryPropertyType</th>\n      <th>Neighborhood</th>\n      <th>LargestPropertyUseType</th>\n      <th>Log-NumberofFloors</th>\n      <th>Log-PropertyGFATotal</th>\n      <th>Log-PropertyGFABuilding(s)</th>\n      <th>Log-PropertyGFAParking</th>\n      <th>Log-LargestPropertyUseTypeGFA</th>\n      <th>Log-SecondLargestPropertyUseTypeGFA</th>\n      <th>Log-ThirdLargestPropertyUseTypeGFA</th>\n    </tr>\n  </thead>\n  <tbody>\n    <tr>\n      <th>1866</th>\n      <td>1984</td>\n      <td>Multifamily LR (1-4)</td>\n      <td>Low-Rise Multifamily</td>\n      <td>northeast</td>\n      <td>Multifamily Housing</td>\n      <td>1.609438</td>\n      <td>10.965730</td>\n      <td>10.965730</td>\n      <td>0.0</td>\n      <td>10.997807</td>\n      <td>0.000000</td>\n      <td>0.000000</td>\n    </tr>\n    <tr>\n      <th>635</th>\n      <td>1965</td>\n      <td>NonResidential</td>\n      <td>Supermarket / Grocery Store</td>\n      <td>northeast</td>\n      <td>Supermarket/Grocery Store</td>\n      <td>0.693147</td>\n      <td>10.398885</td>\n      <td>10.398885</td>\n      <td>0.0</td>\n      <td>10.464331</td>\n      <td>0.000000</td>\n      <td>0.000000</td>\n    </tr>\n    <tr>\n      <th>720</th>\n      <td>2009</td>\n      <td>Multifamily MR (5-9)</td>\n      <td>Mid-Rise Multifamily</td>\n      <td>central</td>\n      <td>Multifamily Housing</td>\n      <td>2.079442</td>\n      <td>11.867708</td>\n      <td>11.867708</td>\n      <td>0.0</td>\n      <td>11.458480</td>\n      <td>10.391024</td>\n      <td>8.493310</td>\n    </tr>\n    <tr>\n      <th>254</th>\n      <td>1962</td>\n      <td>Multifamily LR (1-4)</td>\n      <td>Low-Rise Multifamily</td>\n      <td>southwest</td>\n      <td>Multifamily Housing</td>\n      <td>1.386294</td>\n      <td>10.042510</td>\n      <td>10.042510</td>\n      <td>0.0</td>\n      <td>9.750628</td>\n      <td>8.668884</td>\n      <td>0.000000</td>\n    </tr>\n    <tr>\n      <th>2227</th>\n      <td>1971</td>\n      <td>NonResidential</td>\n      <td>Refrigerated Warehouse</td>\n      <td>greater duwamish</td>\n      <td>Refrigerated Warehouse</td>\n      <td>0.693147</td>\n      <td>11.243149</td>\n      <td>11.243149</td>\n      <td>0.0</td>\n      <td>11.244876</td>\n      <td>0.000000</td>\n      <td>0.000000</td>\n    </tr>\n    <tr>\n      <th>...</th>\n      <td>...</td>\n      <td>...</td>\n      <td>...</td>\n      <td>...</td>\n      <td>...</td>\n      <td>...</td>\n      <td>...</td>\n      <td>...</td>\n      <td>...</td>\n      <td>...</td>\n      <td>...</td>\n      <td>...</td>\n    </tr>\n    <tr>\n      <th>2763</th>\n      <td>1988</td>\n      <td>Multifamily MR (5-9)</td>\n      <td>Mid-Rise Multifamily</td>\n      <td>downtown</td>\n      <td>Multifamily Housing</td>\n      <td>1.791759</td>\n      <td>11.884620</td>\n      <td>11.884620</td>\n      <td>0.0</td>\n      <td>10.899864</td>\n      <td>9.446282</td>\n      <td>8.615408</td>\n    </tr>\n    <tr>\n      <th>905</th>\n      <td>1973</td>\n      <td>Multifamily MR (5-9)</td>\n      <td>Mid-Rise Multifamily</td>\n      <td>magnolia / queen anne</td>\n      <td>Multifamily Housing</td>\n      <td>1.791759</td>\n      <td>10.418315</td>\n      <td>10.418315</td>\n      <td>0.0</td>\n      <td>10.418315</td>\n      <td>0.000000</td>\n      <td>0.000000</td>\n    </tr>\n    <tr>\n      <th>1096</th>\n      <td>2013</td>\n      <td>Multifamily MR (5-9)</td>\n      <td>Mid-Rise Multifamily</td>\n      <td>downtown</td>\n      <td>Multifamily Housing</td>\n      <td>2.197225</td>\n      <td>10.891336</td>\n      <td>10.891336</td>\n      <td>0.0</td>\n      <td>11.396403</td>\n      <td>10.130663</td>\n      <td>8.486940</td>\n    </tr>\n    <tr>\n      <th>235</th>\n      <td>1910</td>\n      <td>Multifamily LR (1-4)</td>\n      <td>Low-Rise Multifamily</td>\n      <td>east</td>\n      <td>Multifamily Housing</td>\n      <td>1.386294</td>\n      <td>10.215704</td>\n      <td>10.215704</td>\n      <td>0.0</td>\n      <td>10.215704</td>\n      <td>0.000000</td>\n      <td>0.000000</td>\n    </tr>\n    <tr>\n      <th>1061</th>\n      <td>2014</td>\n      <td>Multifamily MR (5-9)</td>\n      <td>Mid-Rise Multifamily</td>\n      <td>northeast</td>\n      <td>Multifamily Housing</td>\n      <td>2.079442</td>\n      <td>10.654762</td>\n      <td>10.654762</td>\n      <td>0.0</td>\n      <td>10.365617</td>\n      <td>0.000000</td>\n      <td>0.000000</td>\n    </tr>\n  </tbody>\n</table>\n<p>2209 rows × 12 columns</p>\n</div>"
     },
     "metadata": {},
     "output_type": "display_data"
    },
    {
     "name": "stdout",
     "output_type": "stream",
     "text": [
      "After\n"
     ]
    },
    {
     "data": {
      "text/plain": "      YearBuilt          BuildingType          PrimaryPropertyType  \\\n1866       1984  Multifamily LR (1-4)         Low-Rise Multifamily   \n635        1965        NonResidential  Supermarket / Grocery Store   \n720        2009  Multifamily MR (5-9)         Mid-Rise Multifamily   \n254        1962  Multifamily LR (1-4)         Low-Rise Multifamily   \n2227       1971        NonResidential       Refrigerated Warehouse   \n...         ...                   ...                          ...   \n2763       1988  Multifamily MR (5-9)         Mid-Rise Multifamily   \n905        1973  Multifamily MR (5-9)         Mid-Rise Multifamily   \n1096       2013  Multifamily MR (5-9)         Mid-Rise Multifamily   \n235        1910  Multifamily LR (1-4)         Low-Rise Multifamily   \n1061       2014  Multifamily MR (5-9)         Mid-Rise Multifamily   \n\n               Neighborhood     LargestPropertyUseType  Log-NumberofFloors  \\\n1866              northeast        Multifamily Housing            0.089427   \n635               northeast  Supermarket/Grocery Store           -1.510458   \n720                 central        Multifamily Housing            0.910074   \n254               southwest        Multifamily Housing           -0.300192   \n2227       greater duwamish     Refrigerated Warehouse           -1.510458   \n...                     ...                        ...                 ...   \n2763               downtown        Multifamily Housing            0.407768   \n905   magnolia / queen anne        Multifamily Housing            0.407768   \n1096               downtown        Multifamily Housing            1.115728   \n235                    east        Multifamily Housing           -0.300192   \n1061              northeast        Multifamily Housing            0.910074   \n\n      Log-PropertyGFATotal  Log-PropertyGFABuilding(s)  \\\n1866              0.049873                    0.117626   \n635              -0.611899                   -0.572959   \n720               1.102901                    1.216501   \n254              -1.027954                   -1.007129   \n2227              0.373750                    0.455604   \n...                    ...                         ...   \n2763              1.122645                    1.237106   \n905              -0.589215                   -0.549287   \n1096             -0.036980                    0.026992   \n235              -0.825757                   -0.796128   \n1061             -0.313171                   -0.261225   \n\n      Log-PropertyGFAParking  Log-LargestPropertyUseTypeGFA  \\\n1866               -0.414469                       0.286702   \n635                -0.414469                      -0.345137   \n720                -0.414469                       0.832315   \n254                -0.414469                      -1.190435   \n2227               -0.414469                       0.579326   \n...                      ...                            ...   \n2763               -0.414469                       0.170700   \n905                -0.414469                      -0.399638   \n1096               -0.414469                       0.758792   \n235                -0.414469                      -0.639607   \n1061               -0.414469                      -0.462053   \n\n      Log-SecondLargestPropertyUseTypeGFA  Log-ThirdLargestPropertyUseTypeGFA  \n1866                            -0.926010                           -0.438704  \n635                             -0.926010                           -0.438704  \n720                              1.236396                            2.168713  \n254                              0.878013                           -0.438704  \n2227                            -0.926010                           -0.438704  \n...                                   ...                                 ...  \n2763                             1.039792                            2.206197  \n905                             -0.926010                           -0.438704  \n1096                             1.182214                            2.166757  \n235                             -0.926010                           -0.438704  \n1061                            -0.926010                           -0.438704  \n\n[2209 rows x 12 columns]",
      "text/html": "<div>\n<style scoped>\n    .dataframe tbody tr th:only-of-type {\n        vertical-align: middle;\n    }\n\n    .dataframe tbody tr th {\n        vertical-align: top;\n    }\n\n    .dataframe thead th {\n        text-align: right;\n    }\n</style>\n<table border=\"1\" class=\"dataframe\">\n  <thead>\n    <tr style=\"text-align: right;\">\n      <th></th>\n      <th>YearBuilt</th>\n      <th>BuildingType</th>\n      <th>PrimaryPropertyType</th>\n      <th>Neighborhood</th>\n      <th>LargestPropertyUseType</th>\n      <th>Log-NumberofFloors</th>\n      <th>Log-PropertyGFATotal</th>\n      <th>Log-PropertyGFABuilding(s)</th>\n      <th>Log-PropertyGFAParking</th>\n      <th>Log-LargestPropertyUseTypeGFA</th>\n      <th>Log-SecondLargestPropertyUseTypeGFA</th>\n      <th>Log-ThirdLargestPropertyUseTypeGFA</th>\n    </tr>\n  </thead>\n  <tbody>\n    <tr>\n      <th>1866</th>\n      <td>1984</td>\n      <td>Multifamily LR (1-4)</td>\n      <td>Low-Rise Multifamily</td>\n      <td>northeast</td>\n      <td>Multifamily Housing</td>\n      <td>0.089427</td>\n      <td>0.049873</td>\n      <td>0.117626</td>\n      <td>-0.414469</td>\n      <td>0.286702</td>\n      <td>-0.926010</td>\n      <td>-0.438704</td>\n    </tr>\n    <tr>\n      <th>635</th>\n      <td>1965</td>\n      <td>NonResidential</td>\n      <td>Supermarket / Grocery Store</td>\n      <td>northeast</td>\n      <td>Supermarket/Grocery Store</td>\n      <td>-1.510458</td>\n      <td>-0.611899</td>\n      <td>-0.572959</td>\n      <td>-0.414469</td>\n      <td>-0.345137</td>\n      <td>-0.926010</td>\n      <td>-0.438704</td>\n    </tr>\n    <tr>\n      <th>720</th>\n      <td>2009</td>\n      <td>Multifamily MR (5-9)</td>\n      <td>Mid-Rise Multifamily</td>\n      <td>central</td>\n      <td>Multifamily Housing</td>\n      <td>0.910074</td>\n      <td>1.102901</td>\n      <td>1.216501</td>\n      <td>-0.414469</td>\n      <td>0.832315</td>\n      <td>1.236396</td>\n      <td>2.168713</td>\n    </tr>\n    <tr>\n      <th>254</th>\n      <td>1962</td>\n      <td>Multifamily LR (1-4)</td>\n      <td>Low-Rise Multifamily</td>\n      <td>southwest</td>\n      <td>Multifamily Housing</td>\n      <td>-0.300192</td>\n      <td>-1.027954</td>\n      <td>-1.007129</td>\n      <td>-0.414469</td>\n      <td>-1.190435</td>\n      <td>0.878013</td>\n      <td>-0.438704</td>\n    </tr>\n    <tr>\n      <th>2227</th>\n      <td>1971</td>\n      <td>NonResidential</td>\n      <td>Refrigerated Warehouse</td>\n      <td>greater duwamish</td>\n      <td>Refrigerated Warehouse</td>\n      <td>-1.510458</td>\n      <td>0.373750</td>\n      <td>0.455604</td>\n      <td>-0.414469</td>\n      <td>0.579326</td>\n      <td>-0.926010</td>\n      <td>-0.438704</td>\n    </tr>\n    <tr>\n      <th>...</th>\n      <td>...</td>\n      <td>...</td>\n      <td>...</td>\n      <td>...</td>\n      <td>...</td>\n      <td>...</td>\n      <td>...</td>\n      <td>...</td>\n      <td>...</td>\n      <td>...</td>\n      <td>...</td>\n      <td>...</td>\n    </tr>\n    <tr>\n      <th>2763</th>\n      <td>1988</td>\n      <td>Multifamily MR (5-9)</td>\n      <td>Mid-Rise Multifamily</td>\n      <td>downtown</td>\n      <td>Multifamily Housing</td>\n      <td>0.407768</td>\n      <td>1.122645</td>\n      <td>1.237106</td>\n      <td>-0.414469</td>\n      <td>0.170700</td>\n      <td>1.039792</td>\n      <td>2.206197</td>\n    </tr>\n    <tr>\n      <th>905</th>\n      <td>1973</td>\n      <td>Multifamily MR (5-9)</td>\n      <td>Mid-Rise Multifamily</td>\n      <td>magnolia / queen anne</td>\n      <td>Multifamily Housing</td>\n      <td>0.407768</td>\n      <td>-0.589215</td>\n      <td>-0.549287</td>\n      <td>-0.414469</td>\n      <td>-0.399638</td>\n      <td>-0.926010</td>\n      <td>-0.438704</td>\n    </tr>\n    <tr>\n      <th>1096</th>\n      <td>2013</td>\n      <td>Multifamily MR (5-9)</td>\n      <td>Mid-Rise Multifamily</td>\n      <td>downtown</td>\n      <td>Multifamily Housing</td>\n      <td>1.115728</td>\n      <td>-0.036980</td>\n      <td>0.026992</td>\n      <td>-0.414469</td>\n      <td>0.758792</td>\n      <td>1.182214</td>\n      <td>2.166757</td>\n    </tr>\n    <tr>\n      <th>235</th>\n      <td>1910</td>\n      <td>Multifamily LR (1-4)</td>\n      <td>Low-Rise Multifamily</td>\n      <td>east</td>\n      <td>Multifamily Housing</td>\n      <td>-0.300192</td>\n      <td>-0.825757</td>\n      <td>-0.796128</td>\n      <td>-0.414469</td>\n      <td>-0.639607</td>\n      <td>-0.926010</td>\n      <td>-0.438704</td>\n    </tr>\n    <tr>\n      <th>1061</th>\n      <td>2014</td>\n      <td>Multifamily MR (5-9)</td>\n      <td>Mid-Rise Multifamily</td>\n      <td>northeast</td>\n      <td>Multifamily Housing</td>\n      <td>0.910074</td>\n      <td>-0.313171</td>\n      <td>-0.261225</td>\n      <td>-0.414469</td>\n      <td>-0.462053</td>\n      <td>-0.926010</td>\n      <td>-0.438704</td>\n    </tr>\n  </tbody>\n</table>\n<p>2209 rows × 12 columns</p>\n</div>"
     },
     "metadata": {},
     "output_type": "display_data"
    }
   ],
   "source": [
    "# We train / fit the scaler on the training set / Computes the mean and std to be used for later scaling.\n",
    "std_scale = StandardScaler().fit(X_train[numerical_columns])\n",
    "# We transform the training set and the testing set / Performs standardization by centering and scaling.\n",
    "X_train_std = X_train.copy()\n",
    "X_test_std = X_test.copy()\n",
    "\n",
    "X_train_std[numerical_columns] = std_scale.transform(X_train[numerical_columns])\n",
    "X_test_std[numerical_columns] = std_scale.transform(X_test[numerical_columns])\n",
    "\n",
    "print(\"Before\")\n",
    "display(X_train)\n",
    "print(\"After\")\n",
    "display(X_train_std)"
   ],
   "metadata": {
    "collapsed": false,
    "pycharm": {
     "name": "#%%\n"
    }
   }
  },
  {
   "cell_type": "code",
   "execution_count": 29,
   "outputs": [
    {
     "name": "stdout",
     "output_type": "stream",
     "text": [
      "We can check that the numerical variables have a Standard Normal distribution.\n"
     ]
    },
    {
     "data": {
      "text/plain": "<Figure size 864x1008 with 28 Axes>",
      "image/png": "[encoded data removed]"
     },
     "metadata": {
      "needs_background": "light"
     },
     "output_type": "display_data"
    }
   ],
   "source": [
    "print(\"We can check that the numerical variables have a Standard Normal distribution.\")\n",
    "densite(X_train[numerical_columns])"
   ],
   "metadata": {
    "collapsed": false,
    "pycharm": {
     "name": "#%%\n"
    }
   }
  },
  {
   "cell_type": "markdown",
   "source": [
    "##### 2) Feature Encoding : One Hot Encoder"
   ],
   "metadata": {
    "collapsed": false,
    "pycharm": {
     "name": "#%% md\n"
    }
   }
  },
  {
   "cell_type": "code",
   "execution_count": 30,
   "outputs": [
    {
     "name": "stdout",
     "output_type": "stream",
     "text": [
      "Categorical variables featuring\n",
      "We have : 4 categorical features to encode.\n",
      "\n",
      "Index(['BuildingType', 'PrimaryPropertyType', 'Neighborhood',\n",
      "       'LargestPropertyUseType'],\n",
      "      dtype='object')\n"
     ]
    }
   ],
   "source": [
    "print(\"Categorical variables featuring\")\n",
    "\n",
    "print(\"We have :\", categorical_columns.shape[0], \"categorical features to encode.\", end=\"\\n\\n\")\n",
    "print(categorical_columns)"
   ],
   "metadata": {
    "collapsed": false,
    "pycharm": {
     "name": "#%%\n"
    }
   }
  },
  {
   "cell_type": "code",
   "execution_count": 31,
   "outputs": [
    {
     "data": {
      "text/plain": "YearBuilt                                 int64\nBuildingType                           category\nPrimaryPropertyType                    category\nNeighborhood                           category\nLargestPropertyUseType                 category\nLog-NumberofFloors                      float64\nLog-PropertyGFATotal                    float64\nLog-PropertyGFABuilding(s)              float64\nLog-PropertyGFAParking                  float64\nLog-LargestPropertyUseTypeGFA           float64\nLog-SecondLargestPropertyUseTypeGFA     float64\nLog-ThirdLargestPropertyUseTypeGFA      float64\ndtype: object"
     },
     "execution_count": 31,
     "metadata": {},
     "output_type": "execute_result"
    }
   ],
   "source": [
    "X.dtypes # we check that we have categories"
   ],
   "metadata": {
    "collapsed": false,
    "pycharm": {
     "name": "#%%\n"
    }
   }
  },
  {
   "cell_type": "code",
   "execution_count": 32,
   "outputs": [
    {
     "data": {
      "text/plain": "BuildingType               8\nPrimaryPropertyType       23\nNeighborhood              13\nLargestPropertyUseType    55\ndtype: int64"
     },
     "execution_count": 32,
     "metadata": {},
     "output_type": "execute_result"
    }
   ],
   "source": [
    "X[categorical_columns].nunique()"
   ],
   "metadata": {
    "collapsed": false,
    "pycharm": {
     "name": "#%%\n"
    }
   }
  },
  {
   "cell_type": "code",
   "execution_count": 33,
   "outputs": [
    {
     "data": {
      "text/plain": "              BuildingType          PrimaryPropertyType  \\\n1866  Multifamily LR (1-4)         Low-Rise Multifamily   \n635         NonResidential  Supermarket / Grocery Store   \n720   Multifamily MR (5-9)         Mid-Rise Multifamily   \n254   Multifamily LR (1-4)         Low-Rise Multifamily   \n2227        NonResidential       Refrigerated Warehouse   \n...                    ...                          ...   \n2763  Multifamily MR (5-9)         Mid-Rise Multifamily   \n905   Multifamily MR (5-9)         Mid-Rise Multifamily   \n1096  Multifamily MR (5-9)         Mid-Rise Multifamily   \n235   Multifamily LR (1-4)         Low-Rise Multifamily   \n1061  Multifamily MR (5-9)         Mid-Rise Multifamily   \n\n               Neighborhood     LargestPropertyUseType  \n1866              northeast        Multifamily Housing  \n635               northeast  Supermarket/Grocery Store  \n720                 central        Multifamily Housing  \n254               southwest        Multifamily Housing  \n2227       greater duwamish     Refrigerated Warehouse  \n...                     ...                        ...  \n2763               downtown        Multifamily Housing  \n905   magnolia / queen anne        Multifamily Housing  \n1096               downtown        Multifamily Housing  \n235                    east        Multifamily Housing  \n1061              northeast        Multifamily Housing  \n\n[2209 rows x 4 columns]",
      "text/html": "<div>\n<style scoped>\n    .dataframe tbody tr th:only-of-type {\n        vertical-align: middle;\n    }\n\n    .dataframe tbody tr th {\n        vertical-align: top;\n    }\n\n    .dataframe thead th {\n        text-align: right;\n    }\n</style>\n<table border=\"1\" class=\"dataframe\">\n  <thead>\n    <tr style=\"text-align: right;\">\n      <th></th>\n      <th>BuildingType</th>\n      <th>PrimaryPropertyType</th>\n      <th>Neighborhood</th>\n      <th>LargestPropertyUseType</th>\n    </tr>\n  </thead>\n  <tbody>\n    <tr>\n      <th>1866</th>\n      <td>Multifamily LR (1-4)</td>\n      <td>Low-Rise Multifamily</td>\n      <td>northeast</td>\n      <td>Multifamily Housing</td>\n    </tr>\n    <tr>\n      <th>635</th>\n      <td>NonResidential</td>\n      <td>Supermarket / Grocery Store</td>\n      <td>northeast</td>\n      <td>Supermarket/Grocery Store</td>\n    </tr>\n    <tr>\n      <th>720</th>\n      <td>Multifamily MR (5-9)</td>\n      <td>Mid-Rise Multifamily</td>\n      <td>central</td>\n      <td>Multifamily Housing</td>\n    </tr>\n    <tr>\n      <th>254</th>\n      <td>Multifamily LR (1-4)</td>\n      <td>Low-Rise Multifamily</td>\n      <td>southwest</td>\n      <td>Multifamily Housing</td>\n    </tr>\n    <tr>\n      <th>2227</th>\n      <td>NonResidential</td>\n      <td>Refrigerated Warehouse</td>\n      <td>greater duwamish</td>\n      <td>Refrigerated Warehouse</td>\n    </tr>\n    <tr>\n      <th>...</th>\n      <td>...</td>\n      <td>...</td>\n      <td>...</td>\n      <td>...</td>\n    </tr>\n    <tr>\n      <th>2763</th>\n      <td>Multifamily MR (5-9)</td>\n      <td>Mid-Rise Multifamily</td>\n      <td>downtown</td>\n      <td>Multifamily Housing</td>\n    </tr>\n    <tr>\n      <th>905</th>\n      <td>Multifamily MR (5-9)</td>\n      <td>Mid-Rise Multifamily</td>\n      <td>magnolia / queen anne</td>\n      <td>Multifamily Housing</td>\n    </tr>\n    <tr>\n      <th>1096</th>\n      <td>Multifamily MR (5-9)</td>\n      <td>Mid-Rise Multifamily</td>\n      <td>downtown</td>\n      <td>Multifamily Housing</td>\n    </tr>\n    <tr>\n      <th>235</th>\n      <td>Multifamily LR (1-4)</td>\n      <td>Low-Rise Multifamily</td>\n      <td>east</td>\n      <td>Multifamily Housing</td>\n    </tr>\n    <tr>\n      <th>1061</th>\n      <td>Multifamily MR (5-9)</td>\n      <td>Mid-Rise Multifamily</td>\n      <td>northeast</td>\n      <td>Multifamily Housing</td>\n    </tr>\n  </tbody>\n</table>\n<p>2209 rows × 4 columns</p>\n</div>"
     },
     "execution_count": 33,
     "metadata": {},
     "output_type": "execute_result"
    }
   ],
   "source": [
    "X_train_std[categorical_columns]"
   ],
   "metadata": {
    "collapsed": false,
    "pycharm": {
     "name": "#%%\n"
    }
   }
  },
  {
   "cell_type": "markdown",
   "source": [
    "##### Encoding the categorical features of the train set\n"
   ],
   "metadata": {
    "collapsed": false,
    "pycharm": {
     "name": "#%% md\n"
    }
   }
  },
  {
   "cell_type": "code",
   "execution_count": 34,
   "outputs": [
    {
     "name": "stdout",
     "output_type": "stream",
     "text": [
      "Now, we can use the One Hot Encoder.\n",
      "With the one hot encoder, we will get : 99 columns to encodes the categorical features.\n"
     ]
    }
   ],
   "source": [
    "print(\"Now, we can use the One Hot Encoder.\")\n",
    "print(\"With the one hot encoder, we will get :\", sum([X[categorical_columns].nunique()[i] for i in range(len(categorical_columns))]), \"columns to encodes the categorical features.\")"
   ],
   "metadata": {
    "collapsed": false,
    "pycharm": {
     "name": "#%%\n"
    }
   }
  },
  {
   "cell_type": "code",
   "execution_count": 35,
   "outputs": [
    {
     "name": "stdout",
     "output_type": "stream",
     "text": [
      "We have indeed : 97 labels after encoding the categorical variables.\n"
     ]
    },
    {
     "data": {
      "text/plain": "      BuildingType_Campus  BuildingType_Multifamily HR (10+)  \\\n0                     0.0                                0.0   \n1                     0.0                                0.0   \n2                     0.0                                0.0   \n5                     0.0                                0.0   \n7                     0.0                                0.0   \n...                   ...                                ...   \n3147                  0.0                                0.0   \n3148                  0.0                                0.0   \n3149                  0.0                                0.0   \n3150                  0.0                                0.0   \n3155                  0.0                                0.0   \n\n      BuildingType_Multifamily LR (1-4)  BuildingType_Multifamily MR (5-9)  \\\n0                                   1.0                                0.0   \n1                                   0.0                                0.0   \n2                                   1.0                                0.0   \n5                                   0.0                                0.0   \n7                                   1.0                                0.0   \n...                                 ...                                ...   \n3147                                0.0                                0.0   \n3148                                0.0                                0.0   \n3149                                0.0                                0.0   \n3150                                0.0                                1.0   \n3155                                0.0                                0.0   \n\n      BuildingType_NonResidential  BuildingType_Nonresidential COS  \\\n0                             0.0                              0.0   \n1                             1.0                              0.0   \n2                             0.0                              0.0   \n5                             1.0                              0.0   \n7                             0.0                              0.0   \n...                           ...                              ...   \n3147                          1.0                              0.0   \n3148                          1.0                              0.0   \n3149                          1.0                              0.0   \n3150                          0.0                              0.0   \n3155                          1.0                              0.0   \n\n      BuildingType_SPS-District K-12  PrimaryPropertyType_Distribution Center  \\\n0                                0.0                                      0.0   \n1                                0.0                                      0.0   \n2                                0.0                                      0.0   \n5                                0.0                                      0.0   \n7                                0.0                                      0.0   \n...                              ...                                      ...   \n3147                             0.0                                      0.0   \n3148                             0.0                                      0.0   \n3149                             0.0                                      0.0   \n3150                             0.0                                      0.0   \n3155                             0.0                                      0.0   \n\n      PrimaryPropertyType_High-Rise Multifamily  PrimaryPropertyType_Hospital  \\\n0                                           0.0                           0.0   \n1                                           0.0                           0.0   \n2                                           0.0                           0.0   \n5                                           0.0                           0.0   \n7                                           0.0                           0.0   \n...                                         ...                           ...   \n3147                                        0.0                           0.0   \n3148                                        0.0                           0.0   \n3149                                        0.0                           0.0   \n3150                                        0.0                           0.0   \n3155                                        0.0                           0.0   \n\n      ...  LargestPropertyUseType_Restaurant  \\\n0     ...                                0.0   \n1     ...                                0.0   \n2     ...                                0.0   \n5     ...                                0.0   \n7     ...                                0.0   \n...   ...                                ...   \n3147  ...                                0.0   \n3148  ...                                0.0   \n3149  ...                                0.0   \n3150  ...                                0.0   \n3155  ...                                0.0   \n\n      LargestPropertyUseType_Retail Store  \\\n0                                     0.0   \n1                                     0.0   \n2                                     0.0   \n5                                     0.0   \n7                                     0.0   \n...                                   ...   \n3147                                  0.0   \n3148                                  0.0   \n3149                                  0.0   \n3150                                  0.0   \n3155                                  1.0   \n\n      LargestPropertyUseType_Self-Storage Facility  \\\n0                                              0.0   \n1                                              0.0   \n2                                              0.0   \n5                                              1.0   \n7                                              0.0   \n...                                            ...   \n3147                                           0.0   \n3148                                           0.0   \n3149                                           0.0   \n3150                                           0.0   \n3155                                           0.0   \n\n      LargestPropertyUseType_Senior Care Community  \\\n0                                              0.0   \n1                                              0.0   \n2                                              0.0   \n5                                              0.0   \n7                                              0.0   \n...                                            ...   \n3147                                           0.0   \n3148                                           0.0   \n3149                                           0.0   \n3150                                           0.0   \n3155                                           0.0   \n\n      LargestPropertyUseType_Social/Meeting Hall  \\\n0                                            0.0   \n1                                            0.0   \n2                                            0.0   \n5                                            0.0   \n7                                            0.0   \n...                                          ...   \n3147                                         0.0   \n3148                                         0.0   \n3149                                         0.0   \n3150                                         0.0   \n3155                                         0.0   \n\n      LargestPropertyUseType_Strip Mall  \\\n0                                   0.0   \n1                                   0.0   \n2                                   0.0   \n5                                   0.0   \n7                                   0.0   \n...                                 ...   \n3147                                0.0   \n3148                                0.0   \n3149                                0.0   \n3150                                0.0   \n3155                                0.0   \n\n      LargestPropertyUseType_Supermarket/Grocery Store  \\\n0                                                  0.0   \n1                                                  0.0   \n2                                                  0.0   \n5                                                  0.0   \n7                                                  0.0   \n...                                                ...   \n3147                                               0.0   \n3148                                               0.0   \n3149                                               0.0   \n3150                                               0.0   \n3155                                               0.0   \n\n      LargestPropertyUseType_Urgent Care/Clinic/Other Outpatient  \\\n0                                                   0.0            \n1                                                   0.0            \n2                                                   0.0            \n5                                                   0.0            \n7                                                   0.0            \n...                                                 ...            \n3147                                                0.0            \n3148                                                0.0            \n3149                                                0.0            \n3150                                                0.0            \n3155                                                0.0            \n\n      LargestPropertyUseType_Wholesale Club/Supercenter  \\\n0                                                   0.0   \n1                                                   0.0   \n2                                                   0.0   \n5                                                   0.0   \n7                                                   0.0   \n...                                                 ...   \n3147                                                0.0   \n3148                                                0.0   \n3149                                                0.0   \n3150                                                0.0   \n3155                                                0.0   \n\n      LargestPropertyUseType_Worship Facility  \n0                                         0.0  \n1                                         0.0  \n2                                         0.0  \n5                                         0.0  \n7                                         0.0  \n...                                       ...  \n3147                                      0.0  \n3148                                      0.0  \n3149                                      0.0  \n3150                                      0.0  \n3155                                      0.0  \n\n[2209 rows x 97 columns]",
      "text/html": "<div>\n<style scoped>\n    .dataframe tbody tr th:only-of-type {\n        vertical-align: middle;\n    }\n\n    .dataframe tbody tr th {\n        vertical-align: top;\n    }\n\n    .dataframe thead th {\n        text-align: right;\n    }\n</style>\n<table border=\"1\" class=\"dataframe\">\n  <thead>\n    <tr style=\"text-align: right;\">\n      <th></th>\n      <th>BuildingType_Campus</th>\n      <th>BuildingType_Multifamily HR (10+)</th>\n      <th>BuildingType_Multifamily LR (1-4)</th>\n      <th>BuildingType_Multifamily MR (5-9)</th>\n      <th>BuildingType_NonResidential</th>\n      <th>BuildingType_Nonresidential COS</th>\n      <th>BuildingType_SPS-District K-12</th>\n      <th>PrimaryPropertyType_Distribution Center</th>\n      <th>PrimaryPropertyType_High-Rise Multifamily</th>\n      <th>PrimaryPropertyType_Hospital</th>\n      <th>...</th>\n      <th>LargestPropertyUseType_Restaurant</th>\n      <th>LargestPropertyUseType_Retail Store</th>\n      <th>LargestPropertyUseType_Self-Storage Facility</th>\n      <th>LargestPropertyUseType_Senior Care Community</th>\n      <th>LargestPropertyUseType_Social/Meeting Hall</th>\n      <th>LargestPropertyUseType_Strip Mall</th>\n      <th>LargestPropertyUseType_Supermarket/Grocery Store</th>\n      <th>LargestPropertyUseType_Urgent Care/Clinic/Other Outpatient</th>\n      <th>LargestPropertyUseType_Wholesale Club/Supercenter</th>\n      <th>LargestPropertyUseType_Worship Facility</th>\n    </tr>\n  </thead>\n  <tbody>\n    <tr>\n      <th>0</th>\n      <td>0.0</td>\n      <td>0.0</td>\n      <td>1.0</td>\n      <td>0.0</td>\n      <td>0.0</td>\n      <td>0.0</td>\n      <td>0.0</td>\n      <td>0.0</td>\n      <td>0.0</td>\n      <td>0.0</td>\n      <td>...</td>\n      <td>0.0</td>\n      <td>0.0</td>\n      <td>0.0</td>\n      <td>0.0</td>\n      <td>0.0</td>\n      <td>0.0</td>\n      <td>0.0</td>\n      <td>0.0</td>\n      <td>0.0</td>\n      <td>0.0</td>\n    </tr>\n    <tr>\n      <th>1</th>\n      <td>0.0</td>\n      <td>0.0</td>\n      <td>0.0</td>\n      <td>0.0</td>\n      <td>1.0</td>\n      <td>0.0</td>\n      <td>0.0</td>\n      <td>0.0</td>\n      <td>0.0</td>\n      <td>0.0</td>\n      <td>...</td>\n      <td>0.0</td>\n      <td>0.0</td>\n      <td>0.0</td>\n      <td>0.0</td>\n      <td>0.0</td>\n      <td>0.0</td>\n      <td>0.0</td>\n      <td>0.0</td>\n      <td>0.0</td>\n      <td>0.0</td>\n    </tr>\n    <tr>\n      <th>2</th>\n      <td>0.0</td>\n      <td>0.0</td>\n      <td>1.0</td>\n      <td>0.0</td>\n      <td>0.0</td>\n      <td>0.0</td>\n      <td>0.0</td>\n      <td>0.0</td>\n      <td>0.0</td>\n      <td>0.0</td>\n      <td>...</td>\n      <td>0.0</td>\n      <td>0.0</td>\n      <td>0.0</td>\n      <td>0.0</td>\n      <td>0.0</td>\n      <td>0.0</td>\n      <td>0.0</td>\n      <td>0.0</td>\n      <td>0.0</td>\n      <td>0.0</td>\n    </tr>\n    <tr>\n      <th>5</th>\n      <td>0.0</td>\n      <td>0.0</td>\n      <td>0.0</td>\n      <td>0.0</td>\n      <td>1.0</td>\n      <td>0.0</td>\n      <td>0.0</td>\n      <td>0.0</td>\n      <td>0.0</td>\n      <td>0.0</td>\n      <td>...</td>\n      <td>0.0</td>\n      <td>0.0</td>\n      <td>1.0</td>\n      <td>0.0</td>\n      <td>0.0</td>\n      <td>0.0</td>\n      <td>0.0</td>\n      <td>0.0</td>\n      <td>0.0</td>\n      <td>0.0</td>\n    </tr>\n    <tr>\n      <th>7</th>\n      <td>0.0</td>\n      <td>0.0</td>\n      <td>1.0</td>\n      <td>0.0</td>\n      <td>0.0</td>\n      <td>0.0</td>\n      <td>0.0</td>\n      <td>0.0</td>\n      <td>0.0</td>\n      <td>0.0</td>\n      <td>...</td>\n      <td>0.0</td>\n      <td>0.0</td>\n      <td>0.0</td>\n      <td>0.0</td>\n      <td>0.0</td>\n      <td>0.0</td>\n      <td>0.0</td>\n      <td>0.0</td>\n      <td>0.0</td>\n      <td>0.0</td>\n    </tr>\n    <tr>\n      <th>...</th>\n      <td>...</td>\n      <td>...</td>\n      <td>...</td>\n      <td>...</td>\n      <td>...</td>\n      <td>...</td>\n      <td>...</td>\n      <td>...</td>\n      <td>...</td>\n      <td>...</td>\n      <td>...</td>\n      <td>...</td>\n      <td>...</td>\n      <td>...</td>\n      <td>...</td>\n      <td>...</td>\n      <td>...</td>\n      <td>...</td>\n      <td>...</td>\n      <td>...</td>\n      <td>...</td>\n    </tr>\n    <tr>\n      <th>3147</th>\n      <td>0.0</td>\n      <td>0.0</td>\n      <td>0.0</td>\n      <td>0.0</td>\n      <td>1.0</td>\n      <td>0.0</td>\n      <td>0.0</td>\n      <td>0.0</td>\n      <td>0.0</td>\n      <td>0.0</td>\n      <td>...</td>\n      <td>0.0</td>\n      <td>0.0</td>\n      <td>0.0</td>\n      <td>0.0</td>\n      <td>0.0</td>\n      <td>0.0</td>\n      <td>0.0</td>\n      <td>0.0</td>\n      <td>0.0</td>\n      <td>0.0</td>\n    </tr>\n    <tr>\n      <th>3148</th>\n      <td>0.0</td>\n      <td>0.0</td>\n      <td>0.0</td>\n      <td>0.0</td>\n      <td>1.0</td>\n      <td>0.0</td>\n      <td>0.0</td>\n      <td>0.0</td>\n      <td>0.0</td>\n      <td>0.0</td>\n      <td>...</td>\n      <td>0.0</td>\n      <td>0.0</td>\n      <td>0.0</td>\n      <td>0.0</td>\n      <td>0.0</td>\n      <td>0.0</td>\n      <td>0.0</td>\n      <td>0.0</td>\n      <td>0.0</td>\n      <td>0.0</td>\n    </tr>\n    <tr>\n      <th>3149</th>\n      <td>0.0</td>\n      <td>0.0</td>\n      <td>0.0</td>\n      <td>0.0</td>\n      <td>1.0</td>\n      <td>0.0</td>\n      <td>0.0</td>\n      <td>0.0</td>\n      <td>0.0</td>\n      <td>0.0</td>\n      <td>...</td>\n      <td>0.0</td>\n      <td>0.0</td>\n      <td>0.0</td>\n      <td>0.0</td>\n      <td>0.0</td>\n      <td>0.0</td>\n      <td>0.0</td>\n      <td>0.0</td>\n      <td>0.0</td>\n      <td>0.0</td>\n    </tr>\n    <tr>\n      <th>3150</th>\n      <td>0.0</td>\n      <td>0.0</td>\n      <td>0.0</td>\n      <td>1.0</td>\n      <td>0.0</td>\n      <td>0.0</td>\n      <td>0.0</td>\n      <td>0.0</td>\n      <td>0.0</td>\n      <td>0.0</td>\n      <td>...</td>\n      <td>0.0</td>\n      <td>0.0</td>\n      <td>0.0</td>\n      <td>0.0</td>\n      <td>0.0</td>\n      <td>0.0</td>\n      <td>0.0</td>\n      <td>0.0</td>\n      <td>0.0</td>\n      <td>0.0</td>\n    </tr>\n    <tr>\n      <th>3155</th>\n      <td>0.0</td>\n      <td>0.0</td>\n      <td>0.0</td>\n      <td>0.0</td>\n      <td>1.0</td>\n      <td>0.0</td>\n      <td>0.0</td>\n      <td>0.0</td>\n      <td>0.0</td>\n      <td>0.0</td>\n      <td>...</td>\n      <td>0.0</td>\n      <td>1.0</td>\n      <td>0.0</td>\n      <td>0.0</td>\n      <td>0.0</td>\n      <td>0.0</td>\n      <td>0.0</td>\n      <td>0.0</td>\n      <td>0.0</td>\n      <td>0.0</td>\n    </tr>\n  </tbody>\n</table>\n<p>2209 rows × 97 columns</p>\n</div>"
     },
     "metadata": {},
     "output_type": "display_data"
    }
   ],
   "source": [
    "# 0) creating instance of one-hot-encoder\n",
    "one_hot_encoder = OneHotEncoder(handle_unknown='ignore', sparse=False) # if sparse=True (by default), we need to add .toarray() to encoded_categorical_data\n",
    "\n",
    "# 1) Fit the encoder on the training set\n",
    "one_hot_encoder.fit(X_train_std[categorical_columns])\n",
    "\n",
    "# 2) we get the encoded numpy array\n",
    "encoded_categorical_data = one_hot_encoder.transform(X_train_std[categorical_columns])\n",
    "\n",
    "# 3) we make a list of the columns names\n",
    "encoded_categorical_data_names = one_hot_encoder.get_feature_names_out().tolist()\n",
    "print(\"We have indeed :\", len(encoded_categorical_data_names), \"labels after encoding the categorical variables.\")\n",
    "\n",
    "# 4) we recreate a dataframe with the column names and the numpy array\n",
    "X_train_encoded = pd.DataFrame(columns=encoded_categorical_data_names,\n",
    "                               data=encoded_categorical_data,\n",
    "                               index=X_train_std.index)\n",
    "display(X_train_encoded.sort_index())"
   ],
   "metadata": {
    "collapsed": false,
    "pycharm": {
     "name": "#%%\n"
    }
   }
  },
  {
   "cell_type": "code",
   "execution_count": 36,
   "outputs": [
    {
     "name": "stdout",
     "output_type": "stream",
     "text": [
      "We need to add YearBuilt to the list of features.\n",
      "['Log-NumberofFloors', 'Log-PropertyGFATotal', 'Log-PropertyGFABuilding(s)', 'Log-PropertyGFAParking', 'Log-LargestPropertyUseTypeGFA', 'Log-SecondLargestPropertyUseTypeGFA', 'Log-ThirdLargestPropertyUseTypeGFA', 'YearBuilt']\n",
      "\n",
      "ASK JEREMY : merge based on index ok ? or should I put back OSEBuildingID ??\n"
     ]
    },
    {
     "data": {
      "text/plain": "      Log-NumberofFloors  Log-PropertyGFATotal  Log-PropertyGFABuilding(s)  \\\n0              -0.300192             -1.147842                   -1.132236   \n1              -0.802498             -0.885935                   -0.858926   \n2              -0.300192             -0.924109                   -0.898762   \n5               0.089427             -0.411789                   -0.364136   \n7              -0.300192              0.908369                    1.013500   \n...                  ...                   ...                         ...   \n3147            0.089427             -0.388030                   -0.339342   \n3148           -0.300192             -0.679666                   -0.643676   \n3149           -0.300192             -1.044066                   -1.023942   \n3150            0.407768             -0.060872                    0.002059   \n3155           -0.802498             -1.160463                   -1.145407   \n\n      Log-PropertyGFAParking  Log-LargestPropertyUseTypeGFA  \\\n0                  -0.414469                      -1.158844   \n1                  -0.414469                      -1.419124   \n2                  -0.414469                      -0.739385   \n5                  -0.414469                      -0.219641   \n7                  -0.414469                       0.877190   \n...                      ...                            ...   \n3147               -0.414469                      -0.195537   \n3148               -0.414469                      -0.491399   \n3149               -0.414469                      -0.861080   \n3150               -0.414469                      -0.023526   \n3155               -0.414469                      -1.812008   \n\n      Log-SecondLargestPropertyUseTypeGFA  Log-ThirdLargestPropertyUseTypeGFA  \\\n0                               -0.926010                           -0.438704   \n1                                0.962808                            2.025403   \n2                               -0.926010                           -0.438704   \n5                               -0.926010                           -0.438704   \n7                                1.081208                           -0.438704   \n...                                   ...                                 ...   \n3147                            -0.926010                           -0.438704   \n3148                            -0.926010                           -0.438704   \n3149                            -0.926010                           -0.438704   \n3150                            -0.926010                           -0.438704   \n3155                             0.944281                           -0.438704   \n\n      YearBuilt  BuildingType_Campus  BuildingType_Multifamily HR (10+)  ...  \\\n0          1978                  0.0                                0.0  ...   \n1          1928                  0.0                                0.0  ...   \n2          1925                  0.0                                0.0  ...   \n5          1996                  0.0                                0.0  ...   \n7          1977                  0.0                                0.0  ...   \n...         ...                  ...                                ...  ...   \n3147       1925                  0.0                                0.0  ...   \n3148       1920                  0.0                                0.0  ...   \n3149       1946                  0.0                                0.0  ...   \n3150       1925                  0.0                                0.0  ...   \n3155       1911                  0.0                                0.0  ...   \n\n      LargestPropertyUseType_Restaurant  LargestPropertyUseType_Retail Store  \\\n0                                   0.0                                  0.0   \n1                                   0.0                                  0.0   \n2                                   0.0                                  0.0   \n5                                   0.0                                  0.0   \n7                                   0.0                                  0.0   \n...                                 ...                                  ...   \n3147                                0.0                                  0.0   \n3148                                0.0                                  0.0   \n3149                                0.0                                  0.0   \n3150                                0.0                                  0.0   \n3155                                0.0                                  1.0   \n\n      LargestPropertyUseType_Self-Storage Facility  \\\n0                                              0.0   \n1                                              0.0   \n2                                              0.0   \n5                                              1.0   \n7                                              0.0   \n...                                            ...   \n3147                                           0.0   \n3148                                           0.0   \n3149                                           0.0   \n3150                                           0.0   \n3155                                           0.0   \n\n      LargestPropertyUseType_Senior Care Community  \\\n0                                              0.0   \n1                                              0.0   \n2                                              0.0   \n5                                              0.0   \n7                                              0.0   \n...                                            ...   \n3147                                           0.0   \n3148                                           0.0   \n3149                                           0.0   \n3150                                           0.0   \n3155                                           0.0   \n\n      LargestPropertyUseType_Social/Meeting Hall  \\\n0                                            0.0   \n1                                            0.0   \n2                                            0.0   \n5                                            0.0   \n7                                            0.0   \n...                                          ...   \n3147                                         0.0   \n3148                                         0.0   \n3149                                         0.0   \n3150                                         0.0   \n3155                                         0.0   \n\n      LargestPropertyUseType_Strip Mall  \\\n0                                   0.0   \n1                                   0.0   \n2                                   0.0   \n5                                   0.0   \n7                                   0.0   \n...                                 ...   \n3147                                0.0   \n3148                                0.0   \n3149                                0.0   \n3150                                0.0   \n3155                                0.0   \n\n      LargestPropertyUseType_Supermarket/Grocery Store  \\\n0                                                  0.0   \n1                                                  0.0   \n2                                                  0.0   \n5                                                  0.0   \n7                                                  0.0   \n...                                                ...   \n3147                                               0.0   \n3148                                               0.0   \n3149                                               0.0   \n3150                                               0.0   \n3155                                               0.0   \n\n      LargestPropertyUseType_Urgent Care/Clinic/Other Outpatient  \\\n0                                                   0.0            \n1                                                   0.0            \n2                                                   0.0            \n5                                                   0.0            \n7                                                   0.0            \n...                                                 ...            \n3147                                                0.0            \n3148                                                0.0            \n3149                                                0.0            \n3150                                                0.0            \n3155                                                0.0            \n\n      LargestPropertyUseType_Wholesale Club/Supercenter  \\\n0                                                   0.0   \n1                                                   0.0   \n2                                                   0.0   \n5                                                   0.0   \n7                                                   0.0   \n...                                                 ...   \n3147                                                0.0   \n3148                                                0.0   \n3149                                                0.0   \n3150                                                0.0   \n3155                                                0.0   \n\n      LargestPropertyUseType_Worship Facility  \n0                                         0.0  \n1                                         0.0  \n2                                         0.0  \n5                                         0.0  \n7                                         0.0  \n...                                       ...  \n3147                                      0.0  \n3148                                      0.0  \n3149                                      0.0  \n3150                                      0.0  \n3155                                      0.0  \n\n[2209 rows x 105 columns]",
      "text/html": "<div>\n<style scoped>\n    .dataframe tbody tr th:only-of-type {\n        vertical-align: middle;\n    }\n\n    .dataframe tbody tr th {\n        vertical-align: top;\n    }\n\n    .dataframe thead th {\n        text-align: right;\n    }\n</style>\n<table border=\"1\" class=\"dataframe\">\n  <thead>\n    <tr style=\"text-align: right;\">\n      <th></th>\n      <th>Log-NumberofFloors</th>\n      <th>Log-PropertyGFATotal</th>\n      <th>Log-PropertyGFABuilding(s)</th>\n      <th>Log-PropertyGFAParking</th>\n      <th>Log-LargestPropertyUseTypeGFA</th>\n      <th>Log-SecondLargestPropertyUseTypeGFA</th>\n      <th>Log-ThirdLargestPropertyUseTypeGFA</th>\n      <th>YearBuilt</th>\n      <th>BuildingType_Campus</th>\n      <th>BuildingType_Multifamily HR (10+)</th>\n      <th>...</th>\n      <th>LargestPropertyUseType_Restaurant</th>\n      <th>LargestPropertyUseType_Retail Store</th>\n      <th>LargestPropertyUseType_Self-Storage Facility</th>\n      <th>LargestPropertyUseType_Senior Care Community</th>\n      <th>LargestPropertyUseType_Social/Meeting Hall</th>\n      <th>LargestPropertyUseType_Strip Mall</th>\n      <th>LargestPropertyUseType_Supermarket/Grocery Store</th>\n      <th>LargestPropertyUseType_Urgent Care/Clinic/Other Outpatient</th>\n      <th>LargestPropertyUseType_Wholesale Club/Supercenter</th>\n      <th>LargestPropertyUseType_Worship Facility</th>\n    </tr>\n  </thead>\n  <tbody>\n    <tr>\n      <th>0</th>\n      <td>-0.300192</td>\n      <td>-1.147842</td>\n      <td>-1.132236</td>\n      <td>-0.414469</td>\n      <td>-1.158844</td>\n      <td>-0.926010</td>\n      <td>-0.438704</td>\n      <td>1978</td>\n      <td>0.0</td>\n      <td>0.0</td>\n      <td>...</td>\n      <td>0.0</td>\n      <td>0.0</td>\n      <td>0.0</td>\n      <td>0.0</td>\n      <td>0.0</td>\n      <td>0.0</td>\n      <td>0.0</td>\n      <td>0.0</td>\n      <td>0.0</td>\n      <td>0.0</td>\n    </tr>\n    <tr>\n      <th>1</th>\n      <td>-0.802498</td>\n      <td>-0.885935</td>\n      <td>-0.858926</td>\n      <td>-0.414469</td>\n      <td>-1.419124</td>\n      <td>0.962808</td>\n      <td>2.025403</td>\n      <td>1928</td>\n      <td>0.0</td>\n      <td>0.0</td>\n      <td>...</td>\n      <td>0.0</td>\n      <td>0.0</td>\n      <td>0.0</td>\n      <td>0.0</td>\n      <td>0.0</td>\n      <td>0.0</td>\n      <td>0.0</td>\n      <td>0.0</td>\n      <td>0.0</td>\n      <td>0.0</td>\n    </tr>\n    <tr>\n      <th>2</th>\n      <td>-0.300192</td>\n      <td>-0.924109</td>\n      <td>-0.898762</td>\n      <td>-0.414469</td>\n      <td>-0.739385</td>\n      <td>-0.926010</td>\n      <td>-0.438704</td>\n      <td>1925</td>\n      <td>0.0</td>\n      <td>0.0</td>\n      <td>...</td>\n      <td>0.0</td>\n      <td>0.0</td>\n      <td>0.0</td>\n      <td>0.0</td>\n      <td>0.0</td>\n      <td>0.0</td>\n      <td>0.0</td>\n      <td>0.0</td>\n      <td>0.0</td>\n      <td>0.0</td>\n    </tr>\n    <tr>\n      <th>5</th>\n      <td>0.089427</td>\n      <td>-0.411789</td>\n      <td>-0.364136</td>\n      <td>-0.414469</td>\n      <td>-0.219641</td>\n      <td>-0.926010</td>\n      <td>-0.438704</td>\n      <td>1996</td>\n      <td>0.0</td>\n      <td>0.0</td>\n      <td>...</td>\n      <td>0.0</td>\n      <td>0.0</td>\n      <td>1.0</td>\n      <td>0.0</td>\n      <td>0.0</td>\n      <td>0.0</td>\n      <td>0.0</td>\n      <td>0.0</td>\n      <td>0.0</td>\n      <td>0.0</td>\n    </tr>\n    <tr>\n      <th>7</th>\n      <td>-0.300192</td>\n      <td>0.908369</td>\n      <td>1.013500</td>\n      <td>-0.414469</td>\n      <td>0.877190</td>\n      <td>1.081208</td>\n      <td>-0.438704</td>\n      <td>1977</td>\n      <td>0.0</td>\n      <td>0.0</td>\n      <td>...</td>\n      <td>0.0</td>\n      <td>0.0</td>\n      <td>0.0</td>\n      <td>0.0</td>\n      <td>0.0</td>\n      <td>0.0</td>\n      <td>0.0</td>\n      <td>0.0</td>\n      <td>0.0</td>\n      <td>0.0</td>\n    </tr>\n    <tr>\n      <th>...</th>\n      <td>...</td>\n      <td>...</td>\n      <td>...</td>\n      <td>...</td>\n      <td>...</td>\n      <td>...</td>\n      <td>...</td>\n      <td>...</td>\n      <td>...</td>\n      <td>...</td>\n      <td>...</td>\n      <td>...</td>\n      <td>...</td>\n      <td>...</td>\n      <td>...</td>\n      <td>...</td>\n      <td>...</td>\n      <td>...</td>\n      <td>...</td>\n      <td>...</td>\n      <td>...</td>\n    </tr>\n    <tr>\n      <th>3147</th>\n      <td>0.089427</td>\n      <td>-0.388030</td>\n      <td>-0.339342</td>\n      <td>-0.414469</td>\n      <td>-0.195537</td>\n      <td>-0.926010</td>\n      <td>-0.438704</td>\n      <td>1925</td>\n      <td>0.0</td>\n      <td>0.0</td>\n      <td>...</td>\n      <td>0.0</td>\n      <td>0.0</td>\n      <td>0.0</td>\n      <td>0.0</td>\n      <td>0.0</td>\n      <td>0.0</td>\n      <td>0.0</td>\n      <td>0.0</td>\n      <td>0.0</td>\n      <td>0.0</td>\n    </tr>\n    <tr>\n      <th>3148</th>\n      <td>-0.300192</td>\n      <td>-0.679666</td>\n      <td>-0.643676</td>\n      <td>-0.414469</td>\n      <td>-0.491399</td>\n      <td>-0.926010</td>\n      <td>-0.438704</td>\n      <td>1920</td>\n      <td>0.0</td>\n      <td>0.0</td>\n      <td>...</td>\n      <td>0.0</td>\n      <td>0.0</td>\n      <td>0.0</td>\n      <td>0.0</td>\n      <td>0.0</td>\n      <td>0.0</td>\n      <td>0.0</td>\n      <td>0.0</td>\n      <td>0.0</td>\n      <td>0.0</td>\n    </tr>\n    <tr>\n      <th>3149</th>\n      <td>-0.300192</td>\n      <td>-1.044066</td>\n      <td>-1.023942</td>\n      <td>-0.414469</td>\n      <td>-0.861080</td>\n      <td>-0.926010</td>\n      <td>-0.438704</td>\n      <td>1946</td>\n      <td>0.0</td>\n      <td>0.0</td>\n      <td>...</td>\n      <td>0.0</td>\n      <td>0.0</td>\n      <td>0.0</td>\n      <td>0.0</td>\n      <td>0.0</td>\n      <td>0.0</td>\n      <td>0.0</td>\n      <td>0.0</td>\n      <td>0.0</td>\n      <td>0.0</td>\n    </tr>\n    <tr>\n      <th>3150</th>\n      <td>0.407768</td>\n      <td>-0.060872</td>\n      <td>0.002059</td>\n      <td>-0.414469</td>\n      <td>-0.023526</td>\n      <td>-0.926010</td>\n      <td>-0.438704</td>\n      <td>1925</td>\n      <td>0.0</td>\n      <td>0.0</td>\n      <td>...</td>\n      <td>0.0</td>\n      <td>0.0</td>\n      <td>0.0</td>\n      <td>0.0</td>\n      <td>0.0</td>\n      <td>0.0</td>\n      <td>0.0</td>\n      <td>0.0</td>\n      <td>0.0</td>\n      <td>0.0</td>\n    </tr>\n    <tr>\n      <th>3155</th>\n      <td>-0.802498</td>\n      <td>-1.160463</td>\n      <td>-1.145407</td>\n      <td>-0.414469</td>\n      <td>-1.812008</td>\n      <td>0.944281</td>\n      <td>-0.438704</td>\n      <td>1911</td>\n      <td>0.0</td>\n      <td>0.0</td>\n      <td>...</td>\n      <td>0.0</td>\n      <td>1.0</td>\n      <td>0.0</td>\n      <td>0.0</td>\n      <td>0.0</td>\n      <td>0.0</td>\n      <td>0.0</td>\n      <td>0.0</td>\n      <td>0.0</td>\n      <td>0.0</td>\n    </tr>\n  </tbody>\n</table>\n<p>2209 rows × 105 columns</p>\n</div>"
     },
     "metadata": {},
     "output_type": "display_data"
    }
   ],
   "source": [
    "# 5) Concatenate the two dataframes for the training set\n",
    "\n",
    "print(\"We need to add YearBuilt to the list of features.\")\n",
    "numerical_columns.tolist()\n",
    "features_to_merge = numerical_columns.tolist().copy()\n",
    "features_to_merge.append(\"YearBuilt\") ###\n",
    "print(features_to_merge, end=\"\\n\\n\")\n",
    "\n",
    "print(\"ASK JEREMY : merge based on index ok ? or should I put back OSEBuildingID ??\")\n",
    "X_train_std_encoded = pd.merge(X_train_std[features_to_merge].sort_index(), X_train_encoded.sort_index(), left_index=True, right_index=True)\n",
    "display(X_train_std_encoded.sort_index())"
   ],
   "metadata": {
    "collapsed": false,
    "pycharm": {
     "name": "#%%\n"
    }
   }
  },
  {
   "cell_type": "markdown",
   "source": [
    "##### Encoding the categorical features of the test set"
   ],
   "metadata": {
    "collapsed": false,
    "pycharm": {
     "name": "#%% md\n"
    }
   }
  },
  {
   "cell_type": "code",
   "execution_count": 37,
   "outputs": [
    {
     "name": "stdout",
     "output_type": "stream",
     "text": [
      "ASK JEREMY for this method below ???\n"
     ]
    },
    {
     "data": {
      "text/plain": "      BuildingType_Campus  BuildingType_Multifamily HR (10+)  \\\n3                     0.0                                1.0   \n4                     0.0                                0.0   \n6                     0.0                                0.0   \n10                    0.0                                0.0   \n12                    0.0                                0.0   \n...                   ...                                ...   \n3151                  0.0                                0.0   \n3152                  0.0                                0.0   \n3153                  0.0                                0.0   \n3154                  0.0                                0.0   \n3156                  0.0                                0.0   \n\n      BuildingType_Multifamily LR (1-4)  BuildingType_Multifamily MR (5-9)  \\\n3                                   0.0                                0.0   \n4                                   1.0                                0.0   \n6                                   1.0                                0.0   \n10                                  0.0                                0.0   \n12                                  0.0                                0.0   \n...                                 ...                                ...   \n3151                                0.0                                0.0   \n3152                                0.0                                0.0   \n3153                                1.0                                0.0   \n3154                                0.0                                0.0   \n3156                                0.0                                0.0   \n\n      BuildingType_NonResidential  BuildingType_Nonresidential COS  \\\n3                             0.0                              0.0   \n4                             0.0                              0.0   \n6                             0.0                              0.0   \n10                            1.0                              0.0   \n12                            1.0                              0.0   \n...                           ...                              ...   \n3151                          1.0                              0.0   \n3152                          1.0                              0.0   \n3153                          0.0                              0.0   \n3154                          1.0                              0.0   \n3156                          0.0                              1.0   \n\n      BuildingType_SPS-District K-12  PrimaryPropertyType_Distribution Center  \\\n3                                0.0                                      0.0   \n4                                0.0                                      0.0   \n6                                0.0                                      0.0   \n10                               0.0                                      0.0   \n12                               0.0                                      0.0   \n...                              ...                                      ...   \n3151                             0.0                                      0.0   \n3152                             0.0                                      0.0   \n3153                             0.0                                      0.0   \n3154                             0.0                                      0.0   \n3156                             0.0                                      0.0   \n\n      PrimaryPropertyType_High-Rise Multifamily  PrimaryPropertyType_Hospital  \\\n3                                           1.0                           0.0   \n4                                           0.0                           0.0   \n6                                           0.0                           0.0   \n10                                          0.0                           0.0   \n12                                          0.0                           0.0   \n...                                         ...                           ...   \n3151                                        0.0                           0.0   \n3152                                        0.0                           0.0   \n3153                                        0.0                           0.0   \n3154                                        0.0                           0.0   \n3156                                        0.0                           0.0   \n\n      ...  LargestPropertyUseType_Restaurant  \\\n3     ...                                0.0   \n4     ...                                0.0   \n6     ...                                0.0   \n10    ...                                0.0   \n12    ...                                0.0   \n...   ...                                ...   \n3151  ...                                0.0   \n3152  ...                                0.0   \n3153  ...                                0.0   \n3154  ...                                0.0   \n3156  ...                                0.0   \n\n      LargestPropertyUseType_Retail Store  \\\n3                                     0.0   \n4                                     0.0   \n6                                     0.0   \n10                                    0.0   \n12                                    0.0   \n...                                   ...   \n3151                                  0.0   \n3152                                  0.0   \n3153                                  0.0   \n3154                                  0.0   \n3156                                  0.0   \n\n      LargestPropertyUseType_Self-Storage Facility  \\\n3                                              0.0   \n4                                              0.0   \n6                                              0.0   \n10                                             0.0   \n12                                             0.0   \n...                                            ...   \n3151                                           0.0   \n3152                                           0.0   \n3153                                           0.0   \n3154                                           0.0   \n3156                                           0.0   \n\n      LargestPropertyUseType_Senior Care Community  \\\n3                                              0.0   \n4                                              0.0   \n6                                              0.0   \n10                                             0.0   \n12                                             0.0   \n...                                            ...   \n3151                                           0.0   \n3152                                           0.0   \n3153                                           0.0   \n3154                                           0.0   \n3156                                           0.0   \n\n      LargestPropertyUseType_Social/Meeting Hall  \\\n3                                            0.0   \n4                                            0.0   \n6                                            0.0   \n10                                           0.0   \n12                                           0.0   \n...                                          ...   \n3151                                         0.0   \n3152                                         0.0   \n3153                                         0.0   \n3154                                         0.0   \n3156                                         0.0   \n\n      LargestPropertyUseType_Strip Mall  \\\n3                                   0.0   \n4                                   0.0   \n6                                   0.0   \n10                                  0.0   \n12                                  0.0   \n...                                 ...   \n3151                                0.0   \n3152                                0.0   \n3153                                0.0   \n3154                                0.0   \n3156                                0.0   \n\n      LargestPropertyUseType_Supermarket/Grocery Store  \\\n3                                                  0.0   \n4                                                  0.0   \n6                                                  0.0   \n10                                                 0.0   \n12                                                 0.0   \n...                                                ...   \n3151                                               0.0   \n3152                                               0.0   \n3153                                               0.0   \n3154                                               0.0   \n3156                                               0.0   \n\n      LargestPropertyUseType_Urgent Care/Clinic/Other Outpatient  \\\n3                                                   0.0            \n4                                                   0.0            \n6                                                   0.0            \n10                                                  0.0            \n12                                                  0.0            \n...                                                 ...            \n3151                                                0.0            \n3152                                                0.0            \n3153                                                0.0            \n3154                                                0.0            \n3156                                                0.0            \n\n      LargestPropertyUseType_Wholesale Club/Supercenter  \\\n3                                                   0.0   \n4                                                   0.0   \n6                                                   0.0   \n10                                                  0.0   \n12                                                  0.0   \n...                                                 ...   \n3151                                                0.0   \n3152                                                0.0   \n3153                                                0.0   \n3154                                                0.0   \n3156                                                0.0   \n\n      LargestPropertyUseType_Worship Facility  \n3                                         0.0  \n4                                         0.0  \n6                                         0.0  \n10                                        0.0  \n12                                        0.0  \n...                                       ...  \n3151                                      0.0  \n3152                                      0.0  \n3153                                      0.0  \n3154                                      0.0  \n3156                                      0.0  \n\n[948 rows x 97 columns]",
      "text/html": "<div>\n<style scoped>\n    .dataframe tbody tr th:only-of-type {\n        vertical-align: middle;\n    }\n\n    .dataframe tbody tr th {\n        vertical-align: top;\n    }\n\n    .dataframe thead th {\n        text-align: right;\n    }\n</style>\n<table border=\"1\" class=\"dataframe\">\n  <thead>\n    <tr style=\"text-align: right;\">\n      <th></th>\n      <th>BuildingType_Campus</th>\n      <th>BuildingType_Multifamily HR (10+)</th>\n      <th>BuildingType_Multifamily LR (1-4)</th>\n      <th>BuildingType_Multifamily MR (5-9)</th>\n      <th>BuildingType_NonResidential</th>\n      <th>BuildingType_Nonresidential COS</th>\n      <th>BuildingType_SPS-District K-12</th>\n      <th>PrimaryPropertyType_Distribution Center</th>\n      <th>PrimaryPropertyType_High-Rise Multifamily</th>\n      <th>PrimaryPropertyType_Hospital</th>\n      <th>...</th>\n      <th>LargestPropertyUseType_Restaurant</th>\n      <th>LargestPropertyUseType_Retail Store</th>\n      <th>LargestPropertyUseType_Self-Storage Facility</th>\n      <th>LargestPropertyUseType_Senior Care Community</th>\n      <th>LargestPropertyUseType_Social/Meeting Hall</th>\n      <th>LargestPropertyUseType_Strip Mall</th>\n      <th>LargestPropertyUseType_Supermarket/Grocery Store</th>\n      <th>LargestPropertyUseType_Urgent Care/Clinic/Other Outpatient</th>\n      <th>LargestPropertyUseType_Wholesale Club/Supercenter</th>\n      <th>LargestPropertyUseType_Worship Facility</th>\n    </tr>\n  </thead>\n  <tbody>\n    <tr>\n      <th>3</th>\n      <td>0.0</td>\n      <td>1.0</td>\n      <td>0.0</td>\n      <td>0.0</td>\n      <td>0.0</td>\n      <td>0.0</td>\n      <td>0.0</td>\n      <td>0.0</td>\n      <td>1.0</td>\n      <td>0.0</td>\n      <td>...</td>\n      <td>0.0</td>\n      <td>0.0</td>\n      <td>0.0</td>\n      <td>0.0</td>\n      <td>0.0</td>\n      <td>0.0</td>\n      <td>0.0</td>\n      <td>0.0</td>\n      <td>0.0</td>\n      <td>0.0</td>\n    </tr>\n    <tr>\n      <th>4</th>\n      <td>0.0</td>\n      <td>0.0</td>\n      <td>1.0</td>\n      <td>0.0</td>\n      <td>0.0</td>\n      <td>0.0</td>\n      <td>0.0</td>\n      <td>0.0</td>\n      <td>0.0</td>\n      <td>0.0</td>\n      <td>...</td>\n      <td>0.0</td>\n      <td>0.0</td>\n      <td>0.0</td>\n      <td>0.0</td>\n      <td>0.0</td>\n      <td>0.0</td>\n      <td>0.0</td>\n      <td>0.0</td>\n      <td>0.0</td>\n      <td>0.0</td>\n    </tr>\n    <tr>\n      <th>6</th>\n      <td>0.0</td>\n      <td>0.0</td>\n      <td>1.0</td>\n      <td>0.0</td>\n      <td>0.0</td>\n      <td>0.0</td>\n      <td>0.0</td>\n      <td>0.0</td>\n      <td>0.0</td>\n      <td>0.0</td>\n      <td>...</td>\n      <td>0.0</td>\n      <td>0.0</td>\n      <td>0.0</td>\n      <td>0.0</td>\n      <td>0.0</td>\n      <td>0.0</td>\n      <td>0.0</td>\n      <td>0.0</td>\n      <td>0.0</td>\n      <td>0.0</td>\n    </tr>\n    <tr>\n      <th>10</th>\n      <td>0.0</td>\n      <td>0.0</td>\n      <td>0.0</td>\n      <td>0.0</td>\n      <td>1.0</td>\n      <td>0.0</td>\n      <td>0.0</td>\n      <td>0.0</td>\n      <td>0.0</td>\n      <td>0.0</td>\n      <td>...</td>\n      <td>0.0</td>\n      <td>0.0</td>\n      <td>0.0</td>\n      <td>0.0</td>\n      <td>0.0</td>\n      <td>0.0</td>\n      <td>0.0</td>\n      <td>0.0</td>\n      <td>0.0</td>\n      <td>0.0</td>\n    </tr>\n    <tr>\n      <th>12</th>\n      <td>0.0</td>\n      <td>0.0</td>\n      <td>0.0</td>\n      <td>0.0</td>\n      <td>1.0</td>\n      <td>0.0</td>\n      <td>0.0</td>\n      <td>0.0</td>\n      <td>0.0</td>\n      <td>0.0</td>\n      <td>...</td>\n      <td>0.0</td>\n      <td>0.0</td>\n      <td>0.0</td>\n      <td>0.0</td>\n      <td>0.0</td>\n      <td>0.0</td>\n      <td>0.0</td>\n      <td>0.0</td>\n      <td>0.0</td>\n      <td>0.0</td>\n    </tr>\n    <tr>\n      <th>...</th>\n      <td>...</td>\n      <td>...</td>\n      <td>...</td>\n      <td>...</td>\n      <td>...</td>\n      <td>...</td>\n      <td>...</td>\n      <td>...</td>\n      <td>...</td>\n      <td>...</td>\n      <td>...</td>\n      <td>...</td>\n      <td>...</td>\n      <td>...</td>\n      <td>...</td>\n      <td>...</td>\n      <td>...</td>\n      <td>...</td>\n      <td>...</td>\n      <td>...</td>\n      <td>...</td>\n    </tr>\n    <tr>\n      <th>3151</th>\n      <td>0.0</td>\n      <td>0.0</td>\n      <td>0.0</td>\n      <td>0.0</td>\n      <td>1.0</td>\n      <td>0.0</td>\n      <td>0.0</td>\n      <td>0.0</td>\n      <td>0.0</td>\n      <td>0.0</td>\n      <td>...</td>\n      <td>0.0</td>\n      <td>0.0</td>\n      <td>0.0</td>\n      <td>0.0</td>\n      <td>0.0</td>\n      <td>0.0</td>\n      <td>0.0</td>\n      <td>0.0</td>\n      <td>0.0</td>\n      <td>0.0</td>\n    </tr>\n    <tr>\n      <th>3152</th>\n      <td>0.0</td>\n      <td>0.0</td>\n      <td>0.0</td>\n      <td>0.0</td>\n      <td>1.0</td>\n      <td>0.0</td>\n      <td>0.0</td>\n      <td>0.0</td>\n      <td>0.0</td>\n      <td>0.0</td>\n      <td>...</td>\n      <td>0.0</td>\n      <td>0.0</td>\n      <td>0.0</td>\n      <td>0.0</td>\n      <td>0.0</td>\n      <td>0.0</td>\n      <td>0.0</td>\n      <td>0.0</td>\n      <td>0.0</td>\n      <td>0.0</td>\n    </tr>\n    <tr>\n      <th>3153</th>\n      <td>0.0</td>\n      <td>0.0</td>\n      <td>1.0</td>\n      <td>0.0</td>\n      <td>0.0</td>\n      <td>0.0</td>\n      <td>0.0</td>\n      <td>0.0</td>\n      <td>0.0</td>\n      <td>0.0</td>\n      <td>...</td>\n      <td>0.0</td>\n      <td>0.0</td>\n      <td>0.0</td>\n      <td>0.0</td>\n      <td>0.0</td>\n      <td>0.0</td>\n      <td>0.0</td>\n      <td>0.0</td>\n      <td>0.0</td>\n      <td>0.0</td>\n    </tr>\n    <tr>\n      <th>3154</th>\n      <td>0.0</td>\n      <td>0.0</td>\n      <td>0.0</td>\n      <td>0.0</td>\n      <td>1.0</td>\n      <td>0.0</td>\n      <td>0.0</td>\n      <td>0.0</td>\n      <td>0.0</td>\n      <td>0.0</td>\n      <td>...</td>\n      <td>0.0</td>\n      <td>0.0</td>\n      <td>0.0</td>\n      <td>0.0</td>\n      <td>0.0</td>\n      <td>0.0</td>\n      <td>0.0</td>\n      <td>0.0</td>\n      <td>0.0</td>\n      <td>0.0</td>\n    </tr>\n    <tr>\n      <th>3156</th>\n      <td>0.0</td>\n      <td>0.0</td>\n      <td>0.0</td>\n      <td>0.0</td>\n      <td>0.0</td>\n      <td>1.0</td>\n      <td>0.0</td>\n      <td>0.0</td>\n      <td>0.0</td>\n      <td>0.0</td>\n      <td>...</td>\n      <td>0.0</td>\n      <td>0.0</td>\n      <td>0.0</td>\n      <td>0.0</td>\n      <td>0.0</td>\n      <td>0.0</td>\n      <td>0.0</td>\n      <td>0.0</td>\n      <td>0.0</td>\n      <td>0.0</td>\n    </tr>\n  </tbody>\n</table>\n<p>948 rows × 97 columns</p>\n</div>"
     },
     "metadata": {},
     "output_type": "display_data"
    },
    {
     "name": "stdout",
     "output_type": "stream",
     "text": [
      "ASK JEREMY : merge based on index ok ? or should I put back OSEBuildingID ??\n"
     ]
    },
    {
     "data": {
      "text/plain": "      Log-NumberofFloors  Log-PropertyGFATotal  Log-PropertyGFABuilding(s)  \\\n3               2.120340              0.335580                    0.415773   \n4              -0.300192             -0.491651                   -0.709044   \n6              -0.802498              1.054129                    1.165606   \n10              1.757792              0.545220                    0.634540   \n12             -0.802498             -0.169055                   -0.829984   \n...                  ...                   ...                         ...   \n3151           -0.802498             -0.576241                   -0.535748   \n3152           -0.300192             -0.328863                   -0.581190   \n3153            0.089427             -0.482796                   -0.438235   \n3154            0.407768             -0.579696                   -0.778338   \n3156           -1.510458             -1.296584                   -1.287455   \n\n      Log-PropertyGFAParking  Log-LargestPropertyUseTypeGFA  \\\n3                  -0.414469                       0.631223   \n4                   2.006790                      -0.737830   \n6                  -0.414469                       1.043939   \n10                 -0.414469                       0.751236   \n12                  2.310842                      -0.543423   \n...                      ...                            ...   \n3151               -0.414469                      -1.086397   \n3152                2.081085                      -1.408874   \n3153               -0.414469                      -0.291677   \n3154                1.963948                      -1.280433   \n3156               -0.414469                      -2.055030   \n\n      Log-SecondLargestPropertyUseTypeGFA  Log-ThirdLargestPropertyUseTypeGFA  \\\n3                               -0.926010                           -0.438704   \n4                                0.810212                           -0.438704   \n6                               -0.926010                           -0.438704   \n10                              -0.926010                           -0.438704   \n12                               0.884422                           -0.438704   \n...                                   ...                                 ...   \n3151                             1.055612                            1.794110   \n3152                             1.062621                            2.378886   \n3153                            -0.926010                           -0.438704   \n3154                             0.963212                            1.806634   \n3156                             0.944281                            1.713714   \n\n      YearBuilt  BuildingType_Campus  BuildingType_Multifamily HR (10+)  ...  \\\n3          1971                  0.0                                1.0  ...   \n4          2001                  0.0                                0.0  ...   \n6          1972                  0.0                                0.0  ...   \n10         1927                  0.0                                0.0  ...   \n12         1991                  0.0                                0.0  ...   \n...         ...                  ...                                ...  ...   \n3151       1927                  0.0                                0.0  ...   \n3152       2001                  0.0                                0.0  ...   \n3153       1907                  0.0                                0.0  ...   \n3154       2001                  0.0                                0.0  ...   \n3156       1938                  0.0                                0.0  ...   \n\n      LargestPropertyUseType_Restaurant  LargestPropertyUseType_Retail Store  \\\n3                                   0.0                                  0.0   \n4                                   0.0                                  0.0   \n6                                   0.0                                  0.0   \n10                                  0.0                                  0.0   \n12                                  0.0                                  0.0   \n...                                 ...                                  ...   \n3151                                0.0                                  0.0   \n3152                                0.0                                  0.0   \n3153                                0.0                                  0.0   \n3154                                0.0                                  0.0   \n3156                                0.0                                  0.0   \n\n      LargestPropertyUseType_Self-Storage Facility  \\\n3                                              0.0   \n4                                              0.0   \n6                                              0.0   \n10                                             0.0   \n12                                             0.0   \n...                                            ...   \n3151                                           0.0   \n3152                                           0.0   \n3153                                           0.0   \n3154                                           0.0   \n3156                                           0.0   \n\n      LargestPropertyUseType_Senior Care Community  \\\n3                                              0.0   \n4                                              0.0   \n6                                              0.0   \n10                                             0.0   \n12                                             0.0   \n...                                            ...   \n3151                                           0.0   \n3152                                           0.0   \n3153                                           0.0   \n3154                                           0.0   \n3156                                           0.0   \n\n      LargestPropertyUseType_Social/Meeting Hall  \\\n3                                            0.0   \n4                                            0.0   \n6                                            0.0   \n10                                           0.0   \n12                                           0.0   \n...                                          ...   \n3151                                         0.0   \n3152                                         0.0   \n3153                                         0.0   \n3154                                         0.0   \n3156                                         0.0   \n\n      LargestPropertyUseType_Strip Mall  \\\n3                                   0.0   \n4                                   0.0   \n6                                   0.0   \n10                                  0.0   \n12                                  0.0   \n...                                 ...   \n3151                                0.0   \n3152                                0.0   \n3153                                0.0   \n3154                                0.0   \n3156                                0.0   \n\n      LargestPropertyUseType_Supermarket/Grocery Store  \\\n3                                                  0.0   \n4                                                  0.0   \n6                                                  0.0   \n10                                                 0.0   \n12                                                 0.0   \n...                                                ...   \n3151                                               0.0   \n3152                                               0.0   \n3153                                               0.0   \n3154                                               0.0   \n3156                                               0.0   \n\n      LargestPropertyUseType_Urgent Care/Clinic/Other Outpatient  \\\n3                                                   0.0            \n4                                                   0.0            \n6                                                   0.0            \n10                                                  0.0            \n12                                                  0.0            \n...                                                 ...            \n3151                                                0.0            \n3152                                                0.0            \n3153                                                0.0            \n3154                                                0.0            \n3156                                                0.0            \n\n      LargestPropertyUseType_Wholesale Club/Supercenter  \\\n3                                                   0.0   \n4                                                   0.0   \n6                                                   0.0   \n10                                                  0.0   \n12                                                  0.0   \n...                                                 ...   \n3151                                                0.0   \n3152                                                0.0   \n3153                                                0.0   \n3154                                                0.0   \n3156                                                0.0   \n\n      LargestPropertyUseType_Worship Facility  \n3                                         0.0  \n4                                         0.0  \n6                                         0.0  \n10                                        0.0  \n12                                        0.0  \n...                                       ...  \n3151                                      0.0  \n3152                                      0.0  \n3153                                      0.0  \n3154                                      0.0  \n3156                                      0.0  \n\n[948 rows x 105 columns]",
      "text/html": "<div>\n<style scoped>\n    .dataframe tbody tr th:only-of-type {\n        vertical-align: middle;\n    }\n\n    .dataframe tbody tr th {\n        vertical-align: top;\n    }\n\n    .dataframe thead th {\n        text-align: right;\n    }\n</style>\n<table border=\"1\" class=\"dataframe\">\n  <thead>\n    <tr style=\"text-align: right;\">\n      <th></th>\n      <th>Log-NumberofFloors</th>\n      <th>Log-PropertyGFATotal</th>\n      <th>Log-PropertyGFABuilding(s)</th>\n      <th>Log-PropertyGFAParking</th>\n      <th>Log-LargestPropertyUseTypeGFA</th>\n      <th>Log-SecondLargestPropertyUseTypeGFA</th>\n      <th>Log-ThirdLargestPropertyUseTypeGFA</th>\n      <th>YearBuilt</th>\n      <th>BuildingType_Campus</th>\n      <th>BuildingType_Multifamily HR (10+)</th>\n      <th>...</th>\n      <th>LargestPropertyUseType_Restaurant</th>\n      <th>LargestPropertyUseType_Retail Store</th>\n      <th>LargestPropertyUseType_Self-Storage Facility</th>\n      <th>LargestPropertyUseType_Senior Care Community</th>\n      <th>LargestPropertyUseType_Social/Meeting Hall</th>\n      <th>LargestPropertyUseType_Strip Mall</th>\n      <th>LargestPropertyUseType_Supermarket/Grocery Store</th>\n      <th>LargestPropertyUseType_Urgent Care/Clinic/Other Outpatient</th>\n      <th>LargestPropertyUseType_Wholesale Club/Supercenter</th>\n      <th>LargestPropertyUseType_Worship Facility</th>\n    </tr>\n  </thead>\n  <tbody>\n    <tr>\n      <th>3</th>\n      <td>2.120340</td>\n      <td>0.335580</td>\n      <td>0.415773</td>\n      <td>-0.414469</td>\n      <td>0.631223</td>\n      <td>-0.926010</td>\n      <td>-0.438704</td>\n      <td>1971</td>\n      <td>0.0</td>\n      <td>1.0</td>\n      <td>...</td>\n      <td>0.0</td>\n      <td>0.0</td>\n      <td>0.0</td>\n      <td>0.0</td>\n      <td>0.0</td>\n      <td>0.0</td>\n      <td>0.0</td>\n      <td>0.0</td>\n      <td>0.0</td>\n      <td>0.0</td>\n    </tr>\n    <tr>\n      <th>4</th>\n      <td>-0.300192</td>\n      <td>-0.491651</td>\n      <td>-0.709044</td>\n      <td>2.006790</td>\n      <td>-0.737830</td>\n      <td>0.810212</td>\n      <td>-0.438704</td>\n      <td>2001</td>\n      <td>0.0</td>\n      <td>0.0</td>\n      <td>...</td>\n      <td>0.0</td>\n      <td>0.0</td>\n      <td>0.0</td>\n      <td>0.0</td>\n      <td>0.0</td>\n      <td>0.0</td>\n      <td>0.0</td>\n      <td>0.0</td>\n      <td>0.0</td>\n      <td>0.0</td>\n    </tr>\n    <tr>\n      <th>6</th>\n      <td>-0.802498</td>\n      <td>1.054129</td>\n      <td>1.165606</td>\n      <td>-0.414469</td>\n      <td>1.043939</td>\n      <td>-0.926010</td>\n      <td>-0.438704</td>\n      <td>1972</td>\n      <td>0.0</td>\n      <td>0.0</td>\n      <td>...</td>\n      <td>0.0</td>\n      <td>0.0</td>\n      <td>0.0</td>\n      <td>0.0</td>\n      <td>0.0</td>\n      <td>0.0</td>\n      <td>0.0</td>\n      <td>0.0</td>\n      <td>0.0</td>\n      <td>0.0</td>\n    </tr>\n    <tr>\n      <th>10</th>\n      <td>1.757792</td>\n      <td>0.545220</td>\n      <td>0.634540</td>\n      <td>-0.414469</td>\n      <td>0.751236</td>\n      <td>-0.926010</td>\n      <td>-0.438704</td>\n      <td>1927</td>\n      <td>0.0</td>\n      <td>0.0</td>\n      <td>...</td>\n      <td>0.0</td>\n      <td>0.0</td>\n      <td>0.0</td>\n      <td>0.0</td>\n      <td>0.0</td>\n      <td>0.0</td>\n      <td>0.0</td>\n      <td>0.0</td>\n      <td>0.0</td>\n      <td>0.0</td>\n    </tr>\n    <tr>\n      <th>12</th>\n      <td>-0.802498</td>\n      <td>-0.169055</td>\n      <td>-0.829984</td>\n      <td>2.310842</td>\n      <td>-0.543423</td>\n      <td>0.884422</td>\n      <td>-0.438704</td>\n      <td>1991</td>\n      <td>0.0</td>\n      <td>0.0</td>\n      <td>...</td>\n      <td>0.0</td>\n      <td>0.0</td>\n      <td>0.0</td>\n      <td>0.0</td>\n      <td>0.0</td>\n      <td>0.0</td>\n      <td>0.0</td>\n      <td>0.0</td>\n      <td>0.0</td>\n      <td>0.0</td>\n    </tr>\n    <tr>\n      <th>...</th>\n      <td>...</td>\n      <td>...</td>\n      <td>...</td>\n      <td>...</td>\n      <td>...</td>\n      <td>...</td>\n      <td>...</td>\n      <td>...</td>\n      <td>...</td>\n      <td>...</td>\n      <td>...</td>\n      <td>...</td>\n      <td>...</td>\n      <td>...</td>\n      <td>...</td>\n      <td>...</td>\n      <td>...</td>\n      <td>...</td>\n      <td>...</td>\n      <td>...</td>\n      <td>...</td>\n    </tr>\n    <tr>\n      <th>3151</th>\n      <td>-0.802498</td>\n      <td>-0.576241</td>\n      <td>-0.535748</td>\n      <td>-0.414469</td>\n      <td>-1.086397</td>\n      <td>1.055612</td>\n      <td>1.794110</td>\n      <td>1927</td>\n      <td>0.0</td>\n      <td>0.0</td>\n      <td>...</td>\n      <td>0.0</td>\n      <td>0.0</td>\n      <td>0.0</td>\n      <td>0.0</td>\n      <td>0.0</td>\n      <td>0.0</td>\n      <td>0.0</td>\n      <td>0.0</td>\n      <td>0.0</td>\n      <td>0.0</td>\n    </tr>\n    <tr>\n      <th>3152</th>\n      <td>-0.300192</td>\n      <td>-0.328863</td>\n      <td>-0.581190</td>\n      <td>2.081085</td>\n      <td>-1.408874</td>\n      <td>1.062621</td>\n      <td>2.378886</td>\n      <td>2001</td>\n      <td>0.0</td>\n      <td>0.0</td>\n      <td>...</td>\n      <td>0.0</td>\n      <td>0.0</td>\n      <td>0.0</td>\n      <td>0.0</td>\n      <td>0.0</td>\n      <td>0.0</td>\n      <td>0.0</td>\n      <td>0.0</td>\n      <td>0.0</td>\n      <td>0.0</td>\n    </tr>\n    <tr>\n      <th>3153</th>\n      <td>0.089427</td>\n      <td>-0.482796</td>\n      <td>-0.438235</td>\n      <td>-0.414469</td>\n      <td>-0.291677</td>\n      <td>-0.926010</td>\n      <td>-0.438704</td>\n      <td>1907</td>\n      <td>0.0</td>\n      <td>0.0</td>\n      <td>...</td>\n      <td>0.0</td>\n      <td>0.0</td>\n      <td>0.0</td>\n      <td>0.0</td>\n      <td>0.0</td>\n      <td>0.0</td>\n      <td>0.0</td>\n      <td>0.0</td>\n      <td>0.0</td>\n      <td>0.0</td>\n    </tr>\n    <tr>\n      <th>3154</th>\n      <td>0.407768</td>\n      <td>-0.579696</td>\n      <td>-0.778338</td>\n      <td>1.963948</td>\n      <td>-1.280433</td>\n      <td>0.963212</td>\n      <td>1.806634</td>\n      <td>2001</td>\n      <td>0.0</td>\n      <td>0.0</td>\n      <td>...</td>\n      <td>0.0</td>\n      <td>0.0</td>\n      <td>0.0</td>\n      <td>0.0</td>\n      <td>0.0</td>\n      <td>0.0</td>\n      <td>0.0</td>\n      <td>0.0</td>\n      <td>0.0</td>\n      <td>0.0</td>\n    </tr>\n    <tr>\n      <th>3156</th>\n      <td>-1.510458</td>\n      <td>-1.296584</td>\n      <td>-1.287455</td>\n      <td>-0.414469</td>\n      <td>-2.055030</td>\n      <td>0.944281</td>\n      <td>1.713714</td>\n      <td>1938</td>\n      <td>0.0</td>\n      <td>0.0</td>\n      <td>...</td>\n      <td>0.0</td>\n      <td>0.0</td>\n      <td>0.0</td>\n      <td>0.0</td>\n      <td>0.0</td>\n      <td>0.0</td>\n      <td>0.0</td>\n      <td>0.0</td>\n      <td>0.0</td>\n      <td>0.0</td>\n    </tr>\n  </tbody>\n</table>\n<p>948 rows × 105 columns</p>\n</div>"
     },
     "metadata": {},
     "output_type": "display_data"
    }
   ],
   "source": [
    "# 5) One Hot Encoding on the testing set\n",
    "\n",
    "# 5.1) we get the encoded numpy array\n",
    "TEST_encoded_categorical_data = one_hot_encoder.transform(X_test_std[categorical_columns])\n",
    "\n",
    "print(\"ASK JEREMY for this method below ???\")\n",
    "# 5.2) we recreate a dataframe with the column names and the numpy array\n",
    "X_test_encoded = pd.DataFrame(columns=encoded_categorical_data_names,\n",
    "                               data=TEST_encoded_categorical_data,\n",
    "                               index=X_test_std.index)\n",
    "display(X_test_encoded.sort_index())\n",
    "\n",
    "print(\"ASK JEREMY : merge based on index ok ? or should I put back OSEBuildingID ??\")\n",
    "X_test_std_encoded = pd.merge(X_test_std[features_to_merge].sort_index(), X_test_encoded.sort_index(), left_index=True, right_index=True)\n",
    "display(X_test_std_encoded.sort_index())"
   ],
   "metadata": {
    "collapsed": false,
    "pycharm": {
     "name": "#%%\n"
    }
   }
  },
  {
   "cell_type": "code",
   "execution_count": 38,
   "outputs": [],
   "source": [
    "# Save\n",
    "#X_train_std_encoded.to_csv(\"dataset/cleaned/electricity/X_train.csv\", index=False)\n",
    "#X_test_std_encoded.to_csv(\"dataset/cleaned/electricity/X_test.csv\", index=False)\n",
    "#y_train.to_csv(\"dataset/cleaned/electricity/y_train.csv\", index=False)\n",
    "#y_test.to_csv(\"dataset/cleaned/electricity/y_test.csv\", index=False)"
   ],
   "metadata": {
    "collapsed": false,
    "pycharm": {
     "name": "#%%\n"
    }
   }
  },
  {
   "cell_type": "markdown",
   "source": [
    "## II) Modelisation"
   ],
   "metadata": {
    "collapsed": false,
    "pycharm": {
     "name": "#%% md\n"
    }
   }
  },
  {
   "cell_type": "code",
   "execution_count": 40,
   "outputs": [
    {
     "name": "stdout",
     "output_type": "stream",
     "text": [
      "We can start now the modelling to predict the feature wanted.\n"
     ]
    },
    {
     "data": {
      "text/plain": "      Log-NumberofFloors  Log-PropertyGFATotal  Log-PropertyGFABuilding(s)  \\\n0              -0.300192             -1.147842                   -1.132236   \n1              -0.802498             -0.885935                   -0.858926   \n2              -0.300192             -0.924109                   -0.898762   \n5               0.089427             -0.411789                   -0.364136   \n7              -0.300192              0.908369                    1.013500   \n...                  ...                   ...                         ...   \n3147            0.089427             -0.388030                   -0.339342   \n3148           -0.300192             -0.679666                   -0.643676   \n3149           -0.300192             -1.044066                   -1.023942   \n3150            0.407768             -0.060872                    0.002059   \n3155           -0.802498             -1.160463                   -1.145407   \n\n      Log-PropertyGFAParking  Log-LargestPropertyUseTypeGFA  \\\n0                  -0.414469                      -1.158844   \n1                  -0.414469                      -1.419124   \n2                  -0.414469                      -0.739385   \n5                  -0.414469                      -0.219641   \n7                  -0.414469                       0.877190   \n...                      ...                            ...   \n3147               -0.414469                      -0.195537   \n3148               -0.414469                      -0.491399   \n3149               -0.414469                      -0.861080   \n3150               -0.414469                      -0.023526   \n3155               -0.414469                      -1.812008   \n\n      Log-SecondLargestPropertyUseTypeGFA  Log-ThirdLargestPropertyUseTypeGFA  \\\n0                               -0.926010                           -0.438704   \n1                                0.962808                            2.025403   \n2                               -0.926010                           -0.438704   \n5                               -0.926010                           -0.438704   \n7                                1.081208                           -0.438704   \n...                                   ...                                 ...   \n3147                            -0.926010                           -0.438704   \n3148                            -0.926010                           -0.438704   \n3149                            -0.926010                           -0.438704   \n3150                            -0.926010                           -0.438704   \n3155                             0.944281                           -0.438704   \n\n      YearBuilt  BuildingType_Campus  BuildingType_Multifamily HR (10+)  ...  \\\n0          1978                  0.0                                0.0  ...   \n1          1928                  0.0                                0.0  ...   \n2          1925                  0.0                                0.0  ...   \n5          1996                  0.0                                0.0  ...   \n7          1977                  0.0                                0.0  ...   \n...         ...                  ...                                ...  ...   \n3147       1925                  0.0                                0.0  ...   \n3148       1920                  0.0                                0.0  ...   \n3149       1946                  0.0                                0.0  ...   \n3150       1925                  0.0                                0.0  ...   \n3155       1911                  0.0                                0.0  ...   \n\n      LargestPropertyUseType_Restaurant  LargestPropertyUseType_Retail Store  \\\n0                                   0.0                                  0.0   \n1                                   0.0                                  0.0   \n2                                   0.0                                  0.0   \n5                                   0.0                                  0.0   \n7                                   0.0                                  0.0   \n...                                 ...                                  ...   \n3147                                0.0                                  0.0   \n3148                                0.0                                  0.0   \n3149                                0.0                                  0.0   \n3150                                0.0                                  0.0   \n3155                                0.0                                  1.0   \n\n      LargestPropertyUseType_Self-Storage Facility  \\\n0                                              0.0   \n1                                              0.0   \n2                                              0.0   \n5                                              1.0   \n7                                              0.0   \n...                                            ...   \n3147                                           0.0   \n3148                                           0.0   \n3149                                           0.0   \n3150                                           0.0   \n3155                                           0.0   \n\n      LargestPropertyUseType_Senior Care Community  \\\n0                                              0.0   \n1                                              0.0   \n2                                              0.0   \n5                                              0.0   \n7                                              0.0   \n...                                            ...   \n3147                                           0.0   \n3148                                           0.0   \n3149                                           0.0   \n3150                                           0.0   \n3155                                           0.0   \n\n      LargestPropertyUseType_Social/Meeting Hall  \\\n0                                            0.0   \n1                                            0.0   \n2                                            0.0   \n5                                            0.0   \n7                                            0.0   \n...                                          ...   \n3147                                         0.0   \n3148                                         0.0   \n3149                                         0.0   \n3150                                         0.0   \n3155                                         0.0   \n\n      LargestPropertyUseType_Strip Mall  \\\n0                                   0.0   \n1                                   0.0   \n2                                   0.0   \n5                                   0.0   \n7                                   0.0   \n...                                 ...   \n3147                                0.0   \n3148                                0.0   \n3149                                0.0   \n3150                                0.0   \n3155                                0.0   \n\n      LargestPropertyUseType_Supermarket/Grocery Store  \\\n0                                                  0.0   \n1                                                  0.0   \n2                                                  0.0   \n5                                                  0.0   \n7                                                  0.0   \n...                                                ...   \n3147                                               0.0   \n3148                                               0.0   \n3149                                               0.0   \n3150                                               0.0   \n3155                                               0.0   \n\n      LargestPropertyUseType_Urgent Care/Clinic/Other Outpatient  \\\n0                                                   0.0            \n1                                                   0.0            \n2                                                   0.0            \n5                                                   0.0            \n7                                                   0.0            \n...                                                 ...            \n3147                                                0.0            \n3148                                                0.0            \n3149                                                0.0            \n3150                                                0.0            \n3155                                                0.0            \n\n      LargestPropertyUseType_Wholesale Club/Supercenter  \\\n0                                                   0.0   \n1                                                   0.0   \n2                                                   0.0   \n5                                                   0.0   \n7                                                   0.0   \n...                                                 ...   \n3147                                                0.0   \n3148                                                0.0   \n3149                                                0.0   \n3150                                                0.0   \n3155                                                0.0   \n\n      LargestPropertyUseType_Worship Facility  \n0                                         0.0  \n1                                         0.0  \n2                                         0.0  \n5                                         0.0  \n7                                         0.0  \n...                                       ...  \n3147                                      0.0  \n3148                                      0.0  \n3149                                      0.0  \n3150                                      0.0  \n3155                                      0.0  \n\n[2209 rows x 105 columns]",
      "text/html": "<div>\n<style scoped>\n    .dataframe tbody tr th:only-of-type {\n        vertical-align: middle;\n    }\n\n    .dataframe tbody tr th {\n        vertical-align: top;\n    }\n\n    .dataframe thead th {\n        text-align: right;\n    }\n</style>\n<table border=\"1\" class=\"dataframe\">\n  <thead>\n    <tr style=\"text-align: right;\">\n      <th></th>\n      <th>Log-NumberofFloors</th>\n      <th>Log-PropertyGFATotal</th>\n      <th>Log-PropertyGFABuilding(s)</th>\n      <th>Log-PropertyGFAParking</th>\n      <th>Log-LargestPropertyUseTypeGFA</th>\n      <th>Log-SecondLargestPropertyUseTypeGFA</th>\n      <th>Log-ThirdLargestPropertyUseTypeGFA</th>\n      <th>YearBuilt</th>\n      <th>BuildingType_Campus</th>\n      <th>BuildingType_Multifamily HR (10+)</th>\n      <th>...</th>\n      <th>LargestPropertyUseType_Restaurant</th>\n      <th>LargestPropertyUseType_Retail Store</th>\n      <th>LargestPropertyUseType_Self-Storage Facility</th>\n      <th>LargestPropertyUseType_Senior Care Community</th>\n      <th>LargestPropertyUseType_Social/Meeting Hall</th>\n      <th>LargestPropertyUseType_Strip Mall</th>\n      <th>LargestPropertyUseType_Supermarket/Grocery Store</th>\n      <th>LargestPropertyUseType_Urgent Care/Clinic/Other Outpatient</th>\n      <th>LargestPropertyUseType_Wholesale Club/Supercenter</th>\n      <th>LargestPropertyUseType_Worship Facility</th>\n    </tr>\n  </thead>\n  <tbody>\n    <tr>\n      <th>0</th>\n      <td>-0.300192</td>\n      <td>-1.147842</td>\n      <td>-1.132236</td>\n      <td>-0.414469</td>\n      <td>-1.158844</td>\n      <td>-0.926010</td>\n      <td>-0.438704</td>\n      <td>1978</td>\n      <td>0.0</td>\n      <td>0.0</td>\n      <td>...</td>\n      <td>0.0</td>\n      <td>0.0</td>\n      <td>0.0</td>\n      <td>0.0</td>\n      <td>0.0</td>\n      <td>0.0</td>\n      <td>0.0</td>\n      <td>0.0</td>\n      <td>0.0</td>\n      <td>0.0</td>\n    </tr>\n    <tr>\n      <th>1</th>\n      <td>-0.802498</td>\n      <td>-0.885935</td>\n      <td>-0.858926</td>\n      <td>-0.414469</td>\n      <td>-1.419124</td>\n      <td>0.962808</td>\n      <td>2.025403</td>\n      <td>1928</td>\n      <td>0.0</td>\n      <td>0.0</td>\n      <td>...</td>\n      <td>0.0</td>\n      <td>0.0</td>\n      <td>0.0</td>\n      <td>0.0</td>\n      <td>0.0</td>\n      <td>0.0</td>\n      <td>0.0</td>\n      <td>0.0</td>\n      <td>0.0</td>\n      <td>0.0</td>\n    </tr>\n    <tr>\n      <th>2</th>\n      <td>-0.300192</td>\n      <td>-0.924109</td>\n      <td>-0.898762</td>\n      <td>-0.414469</td>\n      <td>-0.739385</td>\n      <td>-0.926010</td>\n      <td>-0.438704</td>\n      <td>1925</td>\n      <td>0.0</td>\n      <td>0.0</td>\n      <td>...</td>\n      <td>0.0</td>\n      <td>0.0</td>\n      <td>0.0</td>\n      <td>0.0</td>\n      <td>0.0</td>\n      <td>0.0</td>\n      <td>0.0</td>\n      <td>0.0</td>\n      <td>0.0</td>\n      <td>0.0</td>\n    </tr>\n    <tr>\n      <th>5</th>\n      <td>0.089427</td>\n      <td>-0.411789</td>\n      <td>-0.364136</td>\n      <td>-0.414469</td>\n      <td>-0.219641</td>\n      <td>-0.926010</td>\n      <td>-0.438704</td>\n      <td>1996</td>\n      <td>0.0</td>\n      <td>0.0</td>\n      <td>...</td>\n      <td>0.0</td>\n      <td>0.0</td>\n      <td>1.0</td>\n      <td>0.0</td>\n      <td>0.0</td>\n      <td>0.0</td>\n      <td>0.0</td>\n      <td>0.0</td>\n      <td>0.0</td>\n      <td>0.0</td>\n    </tr>\n    <tr>\n      <th>7</th>\n      <td>-0.300192</td>\n      <td>0.908369</td>\n      <td>1.013500</td>\n      <td>-0.414469</td>\n      <td>0.877190</td>\n      <td>1.081208</td>\n      <td>-0.438704</td>\n      <td>1977</td>\n      <td>0.0</td>\n      <td>0.0</td>\n      <td>...</td>\n      <td>0.0</td>\n      <td>0.0</td>\n      <td>0.0</td>\n      <td>0.0</td>\n      <td>0.0</td>\n      <td>0.0</td>\n      <td>0.0</td>\n      <td>0.0</td>\n      <td>0.0</td>\n      <td>0.0</td>\n    </tr>\n    <tr>\n      <th>...</th>\n      <td>...</td>\n      <td>...</td>\n      <td>...</td>\n      <td>...</td>\n      <td>...</td>\n      <td>...</td>\n      <td>...</td>\n      <td>...</td>\n      <td>...</td>\n      <td>...</td>\n      <td>...</td>\n      <td>...</td>\n      <td>...</td>\n      <td>...</td>\n      <td>...</td>\n      <td>...</td>\n      <td>...</td>\n      <td>...</td>\n      <td>...</td>\n      <td>...</td>\n      <td>...</td>\n    </tr>\n    <tr>\n      <th>3147</th>\n      <td>0.089427</td>\n      <td>-0.388030</td>\n      <td>-0.339342</td>\n      <td>-0.414469</td>\n      <td>-0.195537</td>\n      <td>-0.926010</td>\n      <td>-0.438704</td>\n      <td>1925</td>\n      <td>0.0</td>\n      <td>0.0</td>\n      <td>...</td>\n      <td>0.0</td>\n      <td>0.0</td>\n      <td>0.0</td>\n      <td>0.0</td>\n      <td>0.0</td>\n      <td>0.0</td>\n      <td>0.0</td>\n      <td>0.0</td>\n      <td>0.0</td>\n      <td>0.0</td>\n    </tr>\n    <tr>\n      <th>3148</th>\n      <td>-0.300192</td>\n      <td>-0.679666</td>\n      <td>-0.643676</td>\n      <td>-0.414469</td>\n      <td>-0.491399</td>\n      <td>-0.926010</td>\n      <td>-0.438704</td>\n      <td>1920</td>\n      <td>0.0</td>\n      <td>0.0</td>\n      <td>...</td>\n      <td>0.0</td>\n      <td>0.0</td>\n      <td>0.0</td>\n      <td>0.0</td>\n      <td>0.0</td>\n      <td>0.0</td>\n      <td>0.0</td>\n      <td>0.0</td>\n      <td>0.0</td>\n      <td>0.0</td>\n    </tr>\n    <tr>\n      <th>3149</th>\n      <td>-0.300192</td>\n      <td>-1.044066</td>\n      <td>-1.023942</td>\n      <td>-0.414469</td>\n      <td>-0.861080</td>\n      <td>-0.926010</td>\n      <td>-0.438704</td>\n      <td>1946</td>\n      <td>0.0</td>\n      <td>0.0</td>\n      <td>...</td>\n      <td>0.0</td>\n      <td>0.0</td>\n      <td>0.0</td>\n      <td>0.0</td>\n      <td>0.0</td>\n      <td>0.0</td>\n      <td>0.0</td>\n      <td>0.0</td>\n      <td>0.0</td>\n      <td>0.0</td>\n    </tr>\n    <tr>\n      <th>3150</th>\n      <td>0.407768</td>\n      <td>-0.060872</td>\n      <td>0.002059</td>\n      <td>-0.414469</td>\n      <td>-0.023526</td>\n      <td>-0.926010</td>\n      <td>-0.438704</td>\n      <td>1925</td>\n      <td>0.0</td>\n      <td>0.0</td>\n      <td>...</td>\n      <td>0.0</td>\n      <td>0.0</td>\n      <td>0.0</td>\n      <td>0.0</td>\n      <td>0.0</td>\n      <td>0.0</td>\n      <td>0.0</td>\n      <td>0.0</td>\n      <td>0.0</td>\n      <td>0.0</td>\n    </tr>\n    <tr>\n      <th>3155</th>\n      <td>-0.802498</td>\n      <td>-1.160463</td>\n      <td>-1.145407</td>\n      <td>-0.414469</td>\n      <td>-1.812008</td>\n      <td>0.944281</td>\n      <td>-0.438704</td>\n      <td>1911</td>\n      <td>0.0</td>\n      <td>0.0</td>\n      <td>...</td>\n      <td>0.0</td>\n      <td>1.0</td>\n      <td>0.0</td>\n      <td>0.0</td>\n      <td>0.0</td>\n      <td>0.0</td>\n      <td>0.0</td>\n      <td>0.0</td>\n      <td>0.0</td>\n      <td>0.0</td>\n    </tr>\n  </tbody>\n</table>\n<p>2209 rows × 105 columns</p>\n</div>"
     },
     "metadata": {},
     "output_type": "display_data"
    },
    {
     "data": {
      "text/plain": "      Log-NumberofFloors  Log-PropertyGFATotal  Log-PropertyGFABuilding(s)  \\\n3               2.120340              0.335580                    0.415773   \n4              -0.300192             -0.491651                   -0.709044   \n6              -0.802498              1.054129                    1.165606   \n10              1.757792              0.545220                    0.634540   \n12             -0.802498             -0.169055                   -0.829984   \n...                  ...                   ...                         ...   \n3151           -0.802498             -0.576241                   -0.535748   \n3152           -0.300192             -0.328863                   -0.581190   \n3153            0.089427             -0.482796                   -0.438235   \n3154            0.407768             -0.579696                   -0.778338   \n3156           -1.510458             -1.296584                   -1.287455   \n\n      Log-PropertyGFAParking  Log-LargestPropertyUseTypeGFA  \\\n3                  -0.414469                       0.631223   \n4                   2.006790                      -0.737830   \n6                  -0.414469                       1.043939   \n10                 -0.414469                       0.751236   \n12                  2.310842                      -0.543423   \n...                      ...                            ...   \n3151               -0.414469                      -1.086397   \n3152                2.081085                      -1.408874   \n3153               -0.414469                      -0.291677   \n3154                1.963948                      -1.280433   \n3156               -0.414469                      -2.055030   \n\n      Log-SecondLargestPropertyUseTypeGFA  Log-ThirdLargestPropertyUseTypeGFA  \\\n3                               -0.926010                           -0.438704   \n4                                0.810212                           -0.438704   \n6                               -0.926010                           -0.438704   \n10                              -0.926010                           -0.438704   \n12                               0.884422                           -0.438704   \n...                                   ...                                 ...   \n3151                             1.055612                            1.794110   \n3152                             1.062621                            2.378886   \n3153                            -0.926010                           -0.438704   \n3154                             0.963212                            1.806634   \n3156                             0.944281                            1.713714   \n\n      YearBuilt  BuildingType_Campus  BuildingType_Multifamily HR (10+)  ...  \\\n3          1971                  0.0                                1.0  ...   \n4          2001                  0.0                                0.0  ...   \n6          1972                  0.0                                0.0  ...   \n10         1927                  0.0                                0.0  ...   \n12         1991                  0.0                                0.0  ...   \n...         ...                  ...                                ...  ...   \n3151       1927                  0.0                                0.0  ...   \n3152       2001                  0.0                                0.0  ...   \n3153       1907                  0.0                                0.0  ...   \n3154       2001                  0.0                                0.0  ...   \n3156       1938                  0.0                                0.0  ...   \n\n      LargestPropertyUseType_Restaurant  LargestPropertyUseType_Retail Store  \\\n3                                   0.0                                  0.0   \n4                                   0.0                                  0.0   \n6                                   0.0                                  0.0   \n10                                  0.0                                  0.0   \n12                                  0.0                                  0.0   \n...                                 ...                                  ...   \n3151                                0.0                                  0.0   \n3152                                0.0                                  0.0   \n3153                                0.0                                  0.0   \n3154                                0.0                                  0.0   \n3156                                0.0                                  0.0   \n\n      LargestPropertyUseType_Self-Storage Facility  \\\n3                                              0.0   \n4                                              0.0   \n6                                              0.0   \n10                                             0.0   \n12                                             0.0   \n...                                            ...   \n3151                                           0.0   \n3152                                           0.0   \n3153                                           0.0   \n3154                                           0.0   \n3156                                           0.0   \n\n      LargestPropertyUseType_Senior Care Community  \\\n3                                              0.0   \n4                                              0.0   \n6                                              0.0   \n10                                             0.0   \n12                                             0.0   \n...                                            ...   \n3151                                           0.0   \n3152                                           0.0   \n3153                                           0.0   \n3154                                           0.0   \n3156                                           0.0   \n\n      LargestPropertyUseType_Social/Meeting Hall  \\\n3                                            0.0   \n4                                            0.0   \n6                                            0.0   \n10                                           0.0   \n12                                           0.0   \n...                                          ...   \n3151                                         0.0   \n3152                                         0.0   \n3153                                         0.0   \n3154                                         0.0   \n3156                                         0.0   \n\n      LargestPropertyUseType_Strip Mall  \\\n3                                   0.0   \n4                                   0.0   \n6                                   0.0   \n10                                  0.0   \n12                                  0.0   \n...                                 ...   \n3151                                0.0   \n3152                                0.0   \n3153                                0.0   \n3154                                0.0   \n3156                                0.0   \n\n      LargestPropertyUseType_Supermarket/Grocery Store  \\\n3                                                  0.0   \n4                                                  0.0   \n6                                                  0.0   \n10                                                 0.0   \n12                                                 0.0   \n...                                                ...   \n3151                                               0.0   \n3152                                               0.0   \n3153                                               0.0   \n3154                                               0.0   \n3156                                               0.0   \n\n      LargestPropertyUseType_Urgent Care/Clinic/Other Outpatient  \\\n3                                                   0.0            \n4                                                   0.0            \n6                                                   0.0            \n10                                                  0.0            \n12                                                  0.0            \n...                                                 ...            \n3151                                                0.0            \n3152                                                0.0            \n3153                                                0.0            \n3154                                                0.0            \n3156                                                0.0            \n\n      LargestPropertyUseType_Wholesale Club/Supercenter  \\\n3                                                   0.0   \n4                                                   0.0   \n6                                                   0.0   \n10                                                  0.0   \n12                                                  0.0   \n...                                                 ...   \n3151                                                0.0   \n3152                                                0.0   \n3153                                                0.0   \n3154                                                0.0   \n3156                                                0.0   \n\n      LargestPropertyUseType_Worship Facility  \n3                                         0.0  \n4                                         0.0  \n6                                         0.0  \n10                                        0.0  \n12                                        0.0  \n...                                       ...  \n3151                                      0.0  \n3152                                      0.0  \n3153                                      0.0  \n3154                                      0.0  \n3156                                      0.0  \n\n[948 rows x 105 columns]",
      "text/html": "<div>\n<style scoped>\n    .dataframe tbody tr th:only-of-type {\n        vertical-align: middle;\n    }\n\n    .dataframe tbody tr th {\n        vertical-align: top;\n    }\n\n    .dataframe thead th {\n        text-align: right;\n    }\n</style>\n<table border=\"1\" class=\"dataframe\">\n  <thead>\n    <tr style=\"text-align: right;\">\n      <th></th>\n      <th>Log-NumberofFloors</th>\n      <th>Log-PropertyGFATotal</th>\n      <th>Log-PropertyGFABuilding(s)</th>\n      <th>Log-PropertyGFAParking</th>\n      <th>Log-LargestPropertyUseTypeGFA</th>\n      <th>Log-SecondLargestPropertyUseTypeGFA</th>\n      <th>Log-ThirdLargestPropertyUseTypeGFA</th>\n      <th>YearBuilt</th>\n      <th>BuildingType_Campus</th>\n      <th>BuildingType_Multifamily HR (10+)</th>\n      <th>...</th>\n      <th>LargestPropertyUseType_Restaurant</th>\n      <th>LargestPropertyUseType_Retail Store</th>\n      <th>LargestPropertyUseType_Self-Storage Facility</th>\n      <th>LargestPropertyUseType_Senior Care Community</th>\n      <th>LargestPropertyUseType_Social/Meeting Hall</th>\n      <th>LargestPropertyUseType_Strip Mall</th>\n      <th>LargestPropertyUseType_Supermarket/Grocery Store</th>\n      <th>LargestPropertyUseType_Urgent Care/Clinic/Other Outpatient</th>\n      <th>LargestPropertyUseType_Wholesale Club/Supercenter</th>\n      <th>LargestPropertyUseType_Worship Facility</th>\n    </tr>\n  </thead>\n  <tbody>\n    <tr>\n      <th>3</th>\n      <td>2.120340</td>\n      <td>0.335580</td>\n      <td>0.415773</td>\n      <td>-0.414469</td>\n      <td>0.631223</td>\n      <td>-0.926010</td>\n      <td>-0.438704</td>\n      <td>1971</td>\n      <td>0.0</td>\n      <td>1.0</td>\n      <td>...</td>\n      <td>0.0</td>\n      <td>0.0</td>\n      <td>0.0</td>\n      <td>0.0</td>\n      <td>0.0</td>\n      <td>0.0</td>\n      <td>0.0</td>\n      <td>0.0</td>\n      <td>0.0</td>\n      <td>0.0</td>\n    </tr>\n    <tr>\n      <th>4</th>\n      <td>-0.300192</td>\n      <td>-0.491651</td>\n      <td>-0.709044</td>\n      <td>2.006790</td>\n      <td>-0.737830</td>\n      <td>0.810212</td>\n      <td>-0.438704</td>\n      <td>2001</td>\n      <td>0.0</td>\n      <td>0.0</td>\n      <td>...</td>\n      <td>0.0</td>\n      <td>0.0</td>\n      <td>0.0</td>\n      <td>0.0</td>\n      <td>0.0</td>\n      <td>0.0</td>\n      <td>0.0</td>\n      <td>0.0</td>\n      <td>0.0</td>\n      <td>0.0</td>\n    </tr>\n    <tr>\n      <th>6</th>\n      <td>-0.802498</td>\n      <td>1.054129</td>\n      <td>1.165606</td>\n      <td>-0.414469</td>\n      <td>1.043939</td>\n      <td>-0.926010</td>\n      <td>-0.438704</td>\n      <td>1972</td>\n      <td>0.0</td>\n      <td>0.0</td>\n      <td>...</td>\n      <td>0.0</td>\n      <td>0.0</td>\n      <td>0.0</td>\n      <td>0.0</td>\n      <td>0.0</td>\n      <td>0.0</td>\n      <td>0.0</td>\n      <td>0.0</td>\n      <td>0.0</td>\n      <td>0.0</td>\n    </tr>\n    <tr>\n      <th>10</th>\n      <td>1.757792</td>\n      <td>0.545220</td>\n      <td>0.634540</td>\n      <td>-0.414469</td>\n      <td>0.751236</td>\n      <td>-0.926010</td>\n      <td>-0.438704</td>\n      <td>1927</td>\n      <td>0.0</td>\n      <td>0.0</td>\n      <td>...</td>\n      <td>0.0</td>\n      <td>0.0</td>\n      <td>0.0</td>\n      <td>0.0</td>\n      <td>0.0</td>\n      <td>0.0</td>\n      <td>0.0</td>\n      <td>0.0</td>\n      <td>0.0</td>\n      <td>0.0</td>\n    </tr>\n    <tr>\n      <th>12</th>\n      <td>-0.802498</td>\n      <td>-0.169055</td>\n      <td>-0.829984</td>\n      <td>2.310842</td>\n      <td>-0.543423</td>\n      <td>0.884422</td>\n      <td>-0.438704</td>\n      <td>1991</td>\n      <td>0.0</td>\n      <td>0.0</td>\n      <td>...</td>\n      <td>0.0</td>\n      <td>0.0</td>\n      <td>0.0</td>\n      <td>0.0</td>\n      <td>0.0</td>\n      <td>0.0</td>\n      <td>0.0</td>\n      <td>0.0</td>\n      <td>0.0</td>\n      <td>0.0</td>\n    </tr>\n    <tr>\n      <th>...</th>\n      <td>...</td>\n      <td>...</td>\n      <td>...</td>\n      <td>...</td>\n      <td>...</td>\n      <td>...</td>\n      <td>...</td>\n      <td>...</td>\n      <td>...</td>\n      <td>...</td>\n      <td>...</td>\n      <td>...</td>\n      <td>...</td>\n      <td>...</td>\n      <td>...</td>\n      <td>...</td>\n      <td>...</td>\n      <td>...</td>\n      <td>...</td>\n      <td>...</td>\n      <td>...</td>\n    </tr>\n    <tr>\n      <th>3151</th>\n      <td>-0.802498</td>\n      <td>-0.576241</td>\n      <td>-0.535748</td>\n      <td>-0.414469</td>\n      <td>-1.086397</td>\n      <td>1.055612</td>\n      <td>1.794110</td>\n      <td>1927</td>\n      <td>0.0</td>\n      <td>0.0</td>\n      <td>...</td>\n      <td>0.0</td>\n      <td>0.0</td>\n      <td>0.0</td>\n      <td>0.0</td>\n      <td>0.0</td>\n      <td>0.0</td>\n      <td>0.0</td>\n      <td>0.0</td>\n      <td>0.0</td>\n      <td>0.0</td>\n    </tr>\n    <tr>\n      <th>3152</th>\n      <td>-0.300192</td>\n      <td>-0.328863</td>\n      <td>-0.581190</td>\n      <td>2.081085</td>\n      <td>-1.408874</td>\n      <td>1.062621</td>\n      <td>2.378886</td>\n      <td>2001</td>\n      <td>0.0</td>\n      <td>0.0</td>\n      <td>...</td>\n      <td>0.0</td>\n      <td>0.0</td>\n      <td>0.0</td>\n      <td>0.0</td>\n      <td>0.0</td>\n      <td>0.0</td>\n      <td>0.0</td>\n      <td>0.0</td>\n      <td>0.0</td>\n      <td>0.0</td>\n    </tr>\n    <tr>\n      <th>3153</th>\n      <td>0.089427</td>\n      <td>-0.482796</td>\n      <td>-0.438235</td>\n      <td>-0.414469</td>\n      <td>-0.291677</td>\n      <td>-0.926010</td>\n      <td>-0.438704</td>\n      <td>1907</td>\n      <td>0.0</td>\n      <td>0.0</td>\n      <td>...</td>\n      <td>0.0</td>\n      <td>0.0</td>\n      <td>0.0</td>\n      <td>0.0</td>\n      <td>0.0</td>\n      <td>0.0</td>\n      <td>0.0</td>\n      <td>0.0</td>\n      <td>0.0</td>\n      <td>0.0</td>\n    </tr>\n    <tr>\n      <th>3154</th>\n      <td>0.407768</td>\n      <td>-0.579696</td>\n      <td>-0.778338</td>\n      <td>1.963948</td>\n      <td>-1.280433</td>\n      <td>0.963212</td>\n      <td>1.806634</td>\n      <td>2001</td>\n      <td>0.0</td>\n      <td>0.0</td>\n      <td>...</td>\n      <td>0.0</td>\n      <td>0.0</td>\n      <td>0.0</td>\n      <td>0.0</td>\n      <td>0.0</td>\n      <td>0.0</td>\n      <td>0.0</td>\n      <td>0.0</td>\n      <td>0.0</td>\n      <td>0.0</td>\n    </tr>\n    <tr>\n      <th>3156</th>\n      <td>-1.510458</td>\n      <td>-1.296584</td>\n      <td>-1.287455</td>\n      <td>-0.414469</td>\n      <td>-2.055030</td>\n      <td>0.944281</td>\n      <td>1.713714</td>\n      <td>1938</td>\n      <td>0.0</td>\n      <td>0.0</td>\n      <td>...</td>\n      <td>0.0</td>\n      <td>0.0</td>\n      <td>0.0</td>\n      <td>0.0</td>\n      <td>0.0</td>\n      <td>0.0</td>\n      <td>0.0</td>\n      <td>0.0</td>\n      <td>0.0</td>\n      <td>0.0</td>\n    </tr>\n  </tbody>\n</table>\n<p>948 rows × 105 columns</p>\n</div>"
     },
     "metadata": {},
     "output_type": "display_data"
    },
    {
     "name": "stdout",
     "output_type": "stream",
     "text": [
      "(2209,) (948,)\n"
     ]
    }
   ],
   "source": [
    "print(\"We can start now the modelling to predict the feature wanted.\")\n",
    "\n",
    "display(X_train_std_encoded)\n",
    "display(X_test_std_encoded)\n",
    "print(y_train.shape, y_test.shape)"
   ],
   "metadata": {
    "collapsed": false,
    "pycharm": {
     "name": "#%%\n"
    }
   }
  },
  {
   "cell_type": "code",
   "execution_count": 41,
   "outputs": [],
   "source": [
    "from sklearn.model_selection import GridSearchCV\n",
    "from sklearn.metrics import mean_squared_error"
   ],
   "metadata": {
    "collapsed": false,
    "pycharm": {
     "name": "#%%\n"
    }
   }
  },
  {
   "cell_type": "code",
   "execution_count": 42,
   "outputs": [
    {
     "name": "stdout",
     "output_type": "stream",
     "text": [
      "We rename X_train_std_encoded to X_train, the same for X_test.\n"
     ]
    },
    {
     "data": {
      "text/plain": "      Log-NumberofFloors  Log-PropertyGFATotal  Log-PropertyGFABuilding(s)  \\\n3               2.120340              0.335580                    0.415773   \n4              -0.300192             -0.491651                   -0.709044   \n6              -0.802498              1.054129                    1.165606   \n10              1.757792              0.545220                    0.634540   \n12             -0.802498             -0.169055                   -0.829984   \n...                  ...                   ...                         ...   \n3151           -0.802498             -0.576241                   -0.535748   \n3152           -0.300192             -0.328863                   -0.581190   \n3153            0.089427             -0.482796                   -0.438235   \n3154            0.407768             -0.579696                   -0.778338   \n3156           -1.510458             -1.296584                   -1.287455   \n\n      Log-PropertyGFAParking  Log-LargestPropertyUseTypeGFA  \\\n3                  -0.414469                       0.631223   \n4                   2.006790                      -0.737830   \n6                  -0.414469                       1.043939   \n10                 -0.414469                       0.751236   \n12                  2.310842                      -0.543423   \n...                      ...                            ...   \n3151               -0.414469                      -1.086397   \n3152                2.081085                      -1.408874   \n3153               -0.414469                      -0.291677   \n3154                1.963948                      -1.280433   \n3156               -0.414469                      -2.055030   \n\n      Log-SecondLargestPropertyUseTypeGFA  Log-ThirdLargestPropertyUseTypeGFA  \\\n3                               -0.926010                           -0.438704   \n4                                0.810212                           -0.438704   \n6                               -0.926010                           -0.438704   \n10                              -0.926010                           -0.438704   \n12                               0.884422                           -0.438704   \n...                                   ...                                 ...   \n3151                             1.055612                            1.794110   \n3152                             1.062621                            2.378886   \n3153                            -0.926010                           -0.438704   \n3154                             0.963212                            1.806634   \n3156                             0.944281                            1.713714   \n\n      YearBuilt  BuildingType_Campus  BuildingType_Multifamily HR (10+)  ...  \\\n3          1971                  0.0                                1.0  ...   \n4          2001                  0.0                                0.0  ...   \n6          1972                  0.0                                0.0  ...   \n10         1927                  0.0                                0.0  ...   \n12         1991                  0.0                                0.0  ...   \n...         ...                  ...                                ...  ...   \n3151       1927                  0.0                                0.0  ...   \n3152       2001                  0.0                                0.0  ...   \n3153       1907                  0.0                                0.0  ...   \n3154       2001                  0.0                                0.0  ...   \n3156       1938                  0.0                                0.0  ...   \n\n      LargestPropertyUseType_Restaurant  LargestPropertyUseType_Retail Store  \\\n3                                   0.0                                  0.0   \n4                                   0.0                                  0.0   \n6                                   0.0                                  0.0   \n10                                  0.0                                  0.0   \n12                                  0.0                                  0.0   \n...                                 ...                                  ...   \n3151                                0.0                                  0.0   \n3152                                0.0                                  0.0   \n3153                                0.0                                  0.0   \n3154                                0.0                                  0.0   \n3156                                0.0                                  0.0   \n\n      LargestPropertyUseType_Self-Storage Facility  \\\n3                                              0.0   \n4                                              0.0   \n6                                              0.0   \n10                                             0.0   \n12                                             0.0   \n...                                            ...   \n3151                                           0.0   \n3152                                           0.0   \n3153                                           0.0   \n3154                                           0.0   \n3156                                           0.0   \n\n      LargestPropertyUseType_Senior Care Community  \\\n3                                              0.0   \n4                                              0.0   \n6                                              0.0   \n10                                             0.0   \n12                                             0.0   \n...                                            ...   \n3151                                           0.0   \n3152                                           0.0   \n3153                                           0.0   \n3154                                           0.0   \n3156                                           0.0   \n\n      LargestPropertyUseType_Social/Meeting Hall  \\\n3                                            0.0   \n4                                            0.0   \n6                                            0.0   \n10                                           0.0   \n12                                           0.0   \n...                                          ...   \n3151                                         0.0   \n3152                                         0.0   \n3153                                         0.0   \n3154                                         0.0   \n3156                                         0.0   \n\n      LargestPropertyUseType_Strip Mall  \\\n3                                   0.0   \n4                                   0.0   \n6                                   0.0   \n10                                  0.0   \n12                                  0.0   \n...                                 ...   \n3151                                0.0   \n3152                                0.0   \n3153                                0.0   \n3154                                0.0   \n3156                                0.0   \n\n      LargestPropertyUseType_Supermarket/Grocery Store  \\\n3                                                  0.0   \n4                                                  0.0   \n6                                                  0.0   \n10                                                 0.0   \n12                                                 0.0   \n...                                                ...   \n3151                                               0.0   \n3152                                               0.0   \n3153                                               0.0   \n3154                                               0.0   \n3156                                               0.0   \n\n      LargestPropertyUseType_Urgent Care/Clinic/Other Outpatient  \\\n3                                                   0.0            \n4                                                   0.0            \n6                                                   0.0            \n10                                                  0.0            \n12                                                  0.0            \n...                                                 ...            \n3151                                                0.0            \n3152                                                0.0            \n3153                                                0.0            \n3154                                                0.0            \n3156                                                0.0            \n\n      LargestPropertyUseType_Wholesale Club/Supercenter  \\\n3                                                   0.0   \n4                                                   0.0   \n6                                                   0.0   \n10                                                  0.0   \n12                                                  0.0   \n...                                                 ...   \n3151                                                0.0   \n3152                                                0.0   \n3153                                                0.0   \n3154                                                0.0   \n3156                                                0.0   \n\n      LargestPropertyUseType_Worship Facility  \n3                                         0.0  \n4                                         0.0  \n6                                         0.0  \n10                                        0.0  \n12                                        0.0  \n...                                       ...  \n3151                                      0.0  \n3152                                      0.0  \n3153                                      0.0  \n3154                                      0.0  \n3156                                      0.0  \n\n[948 rows x 105 columns]",
      "text/html": "<div>\n<style scoped>\n    .dataframe tbody tr th:only-of-type {\n        vertical-align: middle;\n    }\n\n    .dataframe tbody tr th {\n        vertical-align: top;\n    }\n\n    .dataframe thead th {\n        text-align: right;\n    }\n</style>\n<table border=\"1\" class=\"dataframe\">\n  <thead>\n    <tr style=\"text-align: right;\">\n      <th></th>\n      <th>Log-NumberofFloors</th>\n      <th>Log-PropertyGFATotal</th>\n      <th>Log-PropertyGFABuilding(s)</th>\n      <th>Log-PropertyGFAParking</th>\n      <th>Log-LargestPropertyUseTypeGFA</th>\n      <th>Log-SecondLargestPropertyUseTypeGFA</th>\n      <th>Log-ThirdLargestPropertyUseTypeGFA</th>\n      <th>YearBuilt</th>\n      <th>BuildingType_Campus</th>\n      <th>BuildingType_Multifamily HR (10+)</th>\n      <th>...</th>\n      <th>LargestPropertyUseType_Restaurant</th>\n      <th>LargestPropertyUseType_Retail Store</th>\n      <th>LargestPropertyUseType_Self-Storage Facility</th>\n      <th>LargestPropertyUseType_Senior Care Community</th>\n      <th>LargestPropertyUseType_Social/Meeting Hall</th>\n      <th>LargestPropertyUseType_Strip Mall</th>\n      <th>LargestPropertyUseType_Supermarket/Grocery Store</th>\n      <th>LargestPropertyUseType_Urgent Care/Clinic/Other Outpatient</th>\n      <th>LargestPropertyUseType_Wholesale Club/Supercenter</th>\n      <th>LargestPropertyUseType_Worship Facility</th>\n    </tr>\n  </thead>\n  <tbody>\n    <tr>\n      <th>3</th>\n      <td>2.120340</td>\n      <td>0.335580</td>\n      <td>0.415773</td>\n      <td>-0.414469</td>\n      <td>0.631223</td>\n      <td>-0.926010</td>\n      <td>-0.438704</td>\n      <td>1971</td>\n      <td>0.0</td>\n      <td>1.0</td>\n      <td>...</td>\n      <td>0.0</td>\n      <td>0.0</td>\n      <td>0.0</td>\n      <td>0.0</td>\n      <td>0.0</td>\n      <td>0.0</td>\n      <td>0.0</td>\n      <td>0.0</td>\n      <td>0.0</td>\n      <td>0.0</td>\n    </tr>\n    <tr>\n      <th>4</th>\n      <td>-0.300192</td>\n      <td>-0.491651</td>\n      <td>-0.709044</td>\n      <td>2.006790</td>\n      <td>-0.737830</td>\n      <td>0.810212</td>\n      <td>-0.438704</td>\n      <td>2001</td>\n      <td>0.0</td>\n      <td>0.0</td>\n      <td>...</td>\n      <td>0.0</td>\n      <td>0.0</td>\n      <td>0.0</td>\n      <td>0.0</td>\n      <td>0.0</td>\n      <td>0.0</td>\n      <td>0.0</td>\n      <td>0.0</td>\n      <td>0.0</td>\n      <td>0.0</td>\n    </tr>\n    <tr>\n      <th>6</th>\n      <td>-0.802498</td>\n      <td>1.054129</td>\n      <td>1.165606</td>\n      <td>-0.414469</td>\n      <td>1.043939</td>\n      <td>-0.926010</td>\n      <td>-0.438704</td>\n      <td>1972</td>\n      <td>0.0</td>\n      <td>0.0</td>\n      <td>...</td>\n      <td>0.0</td>\n      <td>0.0</td>\n      <td>0.0</td>\n      <td>0.0</td>\n      <td>0.0</td>\n      <td>0.0</td>\n      <td>0.0</td>\n      <td>0.0</td>\n      <td>0.0</td>\n      <td>0.0</td>\n    </tr>\n    <tr>\n      <th>10</th>\n      <td>1.757792</td>\n      <td>0.545220</td>\n      <td>0.634540</td>\n      <td>-0.414469</td>\n      <td>0.751236</td>\n      <td>-0.926010</td>\n      <td>-0.438704</td>\n      <td>1927</td>\n      <td>0.0</td>\n      <td>0.0</td>\n      <td>...</td>\n      <td>0.0</td>\n      <td>0.0</td>\n      <td>0.0</td>\n      <td>0.0</td>\n      <td>0.0</td>\n      <td>0.0</td>\n      <td>0.0</td>\n      <td>0.0</td>\n      <td>0.0</td>\n      <td>0.0</td>\n    </tr>\n    <tr>\n      <th>12</th>\n      <td>-0.802498</td>\n      <td>-0.169055</td>\n      <td>-0.829984</td>\n      <td>2.310842</td>\n      <td>-0.543423</td>\n      <td>0.884422</td>\n      <td>-0.438704</td>\n      <td>1991</td>\n      <td>0.0</td>\n      <td>0.0</td>\n      <td>...</td>\n      <td>0.0</td>\n      <td>0.0</td>\n      <td>0.0</td>\n      <td>0.0</td>\n      <td>0.0</td>\n      <td>0.0</td>\n      <td>0.0</td>\n      <td>0.0</td>\n      <td>0.0</td>\n      <td>0.0</td>\n    </tr>\n    <tr>\n      <th>...</th>\n      <td>...</td>\n      <td>...</td>\n      <td>...</td>\n      <td>...</td>\n      <td>...</td>\n      <td>...</td>\n      <td>...</td>\n      <td>...</td>\n      <td>...</td>\n      <td>...</td>\n      <td>...</td>\n      <td>...</td>\n      <td>...</td>\n      <td>...</td>\n      <td>...</td>\n      <td>...</td>\n      <td>...</td>\n      <td>...</td>\n      <td>...</td>\n      <td>...</td>\n      <td>...</td>\n    </tr>\n    <tr>\n      <th>3151</th>\n      <td>-0.802498</td>\n      <td>-0.576241</td>\n      <td>-0.535748</td>\n      <td>-0.414469</td>\n      <td>-1.086397</td>\n      <td>1.055612</td>\n      <td>1.794110</td>\n      <td>1927</td>\n      <td>0.0</td>\n      <td>0.0</td>\n      <td>...</td>\n      <td>0.0</td>\n      <td>0.0</td>\n      <td>0.0</td>\n      <td>0.0</td>\n      <td>0.0</td>\n      <td>0.0</td>\n      <td>0.0</td>\n      <td>0.0</td>\n      <td>0.0</td>\n      <td>0.0</td>\n    </tr>\n    <tr>\n      <th>3152</th>\n      <td>-0.300192</td>\n      <td>-0.328863</td>\n      <td>-0.581190</td>\n      <td>2.081085</td>\n      <td>-1.408874</td>\n      <td>1.062621</td>\n      <td>2.378886</td>\n      <td>2001</td>\n      <td>0.0</td>\n      <td>0.0</td>\n      <td>...</td>\n      <td>0.0</td>\n      <td>0.0</td>\n      <td>0.0</td>\n      <td>0.0</td>\n      <td>0.0</td>\n      <td>0.0</td>\n      <td>0.0</td>\n      <td>0.0</td>\n      <td>0.0</td>\n      <td>0.0</td>\n    </tr>\n    <tr>\n      <th>3153</th>\n      <td>0.089427</td>\n      <td>-0.482796</td>\n      <td>-0.438235</td>\n      <td>-0.414469</td>\n      <td>-0.291677</td>\n      <td>-0.926010</td>\n      <td>-0.438704</td>\n      <td>1907</td>\n      <td>0.0</td>\n      <td>0.0</td>\n      <td>...</td>\n      <td>0.0</td>\n      <td>0.0</td>\n      <td>0.0</td>\n      <td>0.0</td>\n      <td>0.0</td>\n      <td>0.0</td>\n      <td>0.0</td>\n      <td>0.0</td>\n      <td>0.0</td>\n      <td>0.0</td>\n    </tr>\n    <tr>\n      <th>3154</th>\n      <td>0.407768</td>\n      <td>-0.579696</td>\n      <td>-0.778338</td>\n      <td>1.963948</td>\n      <td>-1.280433</td>\n      <td>0.963212</td>\n      <td>1.806634</td>\n      <td>2001</td>\n      <td>0.0</td>\n      <td>0.0</td>\n      <td>...</td>\n      <td>0.0</td>\n      <td>0.0</td>\n      <td>0.0</td>\n      <td>0.0</td>\n      <td>0.0</td>\n      <td>0.0</td>\n      <td>0.0</td>\n      <td>0.0</td>\n      <td>0.0</td>\n      <td>0.0</td>\n    </tr>\n    <tr>\n      <th>3156</th>\n      <td>-1.510458</td>\n      <td>-1.296584</td>\n      <td>-1.287455</td>\n      <td>-0.414469</td>\n      <td>-2.055030</td>\n      <td>0.944281</td>\n      <td>1.713714</td>\n      <td>1938</td>\n      <td>0.0</td>\n      <td>0.0</td>\n      <td>...</td>\n      <td>0.0</td>\n      <td>0.0</td>\n      <td>0.0</td>\n      <td>0.0</td>\n      <td>0.0</td>\n      <td>0.0</td>\n      <td>0.0</td>\n      <td>0.0</td>\n      <td>0.0</td>\n      <td>0.0</td>\n    </tr>\n  </tbody>\n</table>\n<p>948 rows × 105 columns</p>\n</div>"
     },
     "execution_count": 42,
     "metadata": {},
     "output_type": "execute_result"
    }
   ],
   "source": [
    "print(\"We rename X_train_std_encoded to X_train, the same for X_test.\")\n",
    "X_train = X_train_std_encoded.copy()\n",
    "X_test = X_test_std_encoded.copy()\n",
    "\n",
    "X_train\n",
    "X_test"
   ],
   "metadata": {
    "collapsed": false,
    "pycharm": {
     "name": "#%%\n"
    }
   }
  },
  {
   "cell_type": "code",
   "execution_count": 43,
   "outputs": [
    {
     "data": {
      "text/plain": "(2209, 105)"
     },
     "execution_count": 43,
     "metadata": {},
     "output_type": "execute_result"
    }
   ],
   "source": [
    "X_train.shape"
   ],
   "metadata": {
    "collapsed": false,
    "pycharm": {
     "name": "#%%\n"
    }
   }
  },
  {
   "cell_type": "code",
   "execution_count": 44,
   "outputs": [
    {
     "data": {
      "text/plain": "(948, 105)"
     },
     "execution_count": 44,
     "metadata": {},
     "output_type": "execute_result"
    }
   ],
   "source": [
    "X_test.shape"
   ],
   "metadata": {
    "collapsed": false,
    "pycharm": {
     "name": "#%%\n"
    }
   }
  },
  {
   "cell_type": "code",
   "execution_count": 53,
   "outputs": [
    {
     "data": {
      "text/plain": "      BuildingType_Campus  BuildingType_Multifamily hr (10+)  \\\n0                     0.0                                0.0   \n1                     0.0                                0.0   \n2                     0.0                                0.0   \n3                     0.0                                0.0   \n4                     0.0                                0.0   \n...                   ...                                ...   \n2218                  0.0                                0.0   \n2219                  0.0                                0.0   \n2220                  0.0                                0.0   \n2221                  0.0                                0.0   \n2222                  0.0                                0.0   \n\n      BuildingType_Multifamily lr (1-4)  BuildingType_Multifamily mr (5-9)  \\\n0                                   0.0                                0.0   \n1                                   1.0                                0.0   \n2                                   1.0                                0.0   \n3                                   1.0                                0.0   \n4                                   0.0                                0.0   \n...                                 ...                                ...   \n2218                                0.0                                0.0   \n2219                                1.0                                0.0   \n2220                                0.0                                0.0   \n2221                                0.0                                0.0   \n2222                                0.0                                0.0   \n\n      BuildingType_Nonresidential  BuildingType_Nonresidential cos  \\\n0                             1.0                              0.0   \n1                             0.0                              0.0   \n2                             0.0                              0.0   \n3                             0.0                              0.0   \n4                             1.0                              0.0   \n...                           ...                              ...   \n2218                          1.0                              0.0   \n2219                          0.0                              0.0   \n2220                          1.0                              0.0   \n2221                          1.0                              0.0   \n2222                          1.0                              0.0   \n\n      BuildingType_Sps-district k-12  PrimaryPropertyType_Distribution center  \\\n0                                0.0                                      0.0   \n1                                0.0                                      0.0   \n2                                0.0                                      0.0   \n3                                0.0                                      0.0   \n4                                0.0                                      0.0   \n...                              ...                                      ...   \n2218                             0.0                                      0.0   \n2219                             0.0                                      0.0   \n2220                             0.0                                      1.0   \n2221                             0.0                                      0.0   \n2222                             0.0                                      0.0   \n\n      PrimaryPropertyType_High-rise multifamily  PrimaryPropertyType_Hospital  \\\n0                                           0.0                           0.0   \n1                                           0.0                           0.0   \n2                                           0.0                           0.0   \n3                                           0.0                           0.0   \n4                                           0.0                           0.0   \n...                                         ...                           ...   \n2218                                        0.0                           0.0   \n2219                                        0.0                           0.0   \n2220                                        0.0                           0.0   \n2221                                        0.0                           0.0   \n2222                                        0.0                           0.0   \n\n      ...  Neighborhood_Southeast  Neighborhood_Southwest   ZipCode  \\\n0     ...                     0.0                     0.0 -0.482826   \n1     ...                     0.0                     0.0  0.418635   \n2     ...                     0.0                     0.0 -0.747962   \n3     ...                     0.0                     0.0 -0.429799   \n4     ...                     0.0                     0.0  4.130534   \n...   ...                     ...                     ...       ...   \n2218  ...                     0.0                     0.0 -0.482826   \n2219  ...                     0.0                     0.0 -0.005582   \n2220  ...                     0.0                     0.0 -0.588880   \n2221  ...                     0.0                     0.0 -0.854016   \n2222  ...                     0.0                     0.0  0.206527   \n\n      YearBuilt  NumberofBuildings  NumberofFloors  PropertyGFATotal  \\\n0      0.020691          -0.033194       -0.790841         -0.882240   \n1      0.200127          -0.033194       -0.288833          0.408582   \n2      0.648719          -0.033194        0.100555         -0.899256   \n3      0.499189          -0.033194        0.100555         -0.940794   \n4      0.080503          -0.033194        2.837806          2.445734   \n...         ...                ...             ...               ...   \n2218  -0.218558          -0.033194       -1.498382         -0.895358   \n2219   1.037499          -0.033194        0.100555         -0.301505   \n2220   0.080503           1.765236       -0.790841         -0.776884   \n2221  -1.743770          -0.033194        1.476421          0.969014   \n2222  -1.474615          -0.033194       -0.790841         -0.880120   \n\n      PropertyGFAParking  SecondLargestPropertyUseTypeGFA  \\\n0              -0.418726                        -0.942943   \n1              -0.418726                         0.735179   \n2              -0.418726                         0.953456   \n3              -0.418726                         0.826133   \n4              -0.418726                        -0.942943   \n...                  ...                              ...   \n2218           -0.418726                         0.928042   \n2219           -0.418726                         0.906033   \n2220           -0.418726                         0.955852   \n2221           -0.418726                         1.211596   \n2222           -0.418726                        -0.942943   \n\n      ThirdLargestPropertyUseTypeGFA  \n0                          -0.437746  \n1                          -0.437746  \n2                          -0.437746  \n3                          -0.437746  \n4                          -0.437746  \n...                              ...  \n2218                        2.138091  \n2219                        1.709350  \n2220                       -0.437746  \n2221                        2.448165  \n2222                       -0.437746  \n\n[2223 rows x 51 columns]",
      "text/html": "<div>\n<style scoped>\n    .dataframe tbody tr th:only-of-type {\n        vertical-align: middle;\n    }\n\n    .dataframe tbody tr th {\n        vertical-align: top;\n    }\n\n    .dataframe thead th {\n        text-align: right;\n    }\n</style>\n<table border=\"1\" class=\"dataframe\">\n  <thead>\n    <tr style=\"text-align: right;\">\n      <th></th>\n      <th>BuildingType_Campus</th>\n      <th>BuildingType_Multifamily hr (10+)</th>\n      <th>BuildingType_Multifamily lr (1-4)</th>\n      <th>BuildingType_Multifamily mr (5-9)</th>\n      <th>BuildingType_Nonresidential</th>\n      <th>BuildingType_Nonresidential cos</th>\n      <th>BuildingType_Sps-district k-12</th>\n      <th>PrimaryPropertyType_Distribution center</th>\n      <th>PrimaryPropertyType_High-rise multifamily</th>\n      <th>PrimaryPropertyType_Hospital</th>\n      <th>...</th>\n      <th>Neighborhood_Southeast</th>\n      <th>Neighborhood_Southwest</th>\n      <th>ZipCode</th>\n      <th>YearBuilt</th>\n      <th>NumberofBuildings</th>\n      <th>NumberofFloors</th>\n      <th>PropertyGFATotal</th>\n      <th>PropertyGFAParking</th>\n      <th>SecondLargestPropertyUseTypeGFA</th>\n      <th>ThirdLargestPropertyUseTypeGFA</th>\n    </tr>\n  </thead>\n  <tbody>\n    <tr>\n      <th>0</th>\n      <td>0.0</td>\n      <td>0.0</td>\n      <td>0.0</td>\n      <td>0.0</td>\n      <td>1.0</td>\n      <td>0.0</td>\n      <td>0.0</td>\n      <td>0.0</td>\n      <td>0.0</td>\n      <td>0.0</td>\n      <td>...</td>\n      <td>0.0</td>\n      <td>0.0</td>\n      <td>-0.482826</td>\n      <td>0.020691</td>\n      <td>-0.033194</td>\n      <td>-0.790841</td>\n      <td>-0.882240</td>\n      <td>-0.418726</td>\n      <td>-0.942943</td>\n      <td>-0.437746</td>\n    </tr>\n    <tr>\n      <th>1</th>\n      <td>0.0</td>\n      <td>0.0</td>\n      <td>1.0</td>\n      <td>0.0</td>\n      <td>0.0</td>\n      <td>0.0</td>\n      <td>0.0</td>\n      <td>0.0</td>\n      <td>0.0</td>\n      <td>0.0</td>\n      <td>...</td>\n      <td>0.0</td>\n      <td>0.0</td>\n      <td>0.418635</td>\n      <td>0.200127</td>\n      <td>-0.033194</td>\n      <td>-0.288833</td>\n      <td>0.408582</td>\n      <td>-0.418726</td>\n      <td>0.735179</td>\n      <td>-0.437746</td>\n    </tr>\n    <tr>\n      <th>2</th>\n      <td>0.0</td>\n      <td>0.0</td>\n      <td>1.0</td>\n      <td>0.0</td>\n      <td>0.0</td>\n      <td>0.0</td>\n      <td>0.0</td>\n      <td>0.0</td>\n      <td>0.0</td>\n      <td>0.0</td>\n      <td>...</td>\n      <td>0.0</td>\n      <td>0.0</td>\n      <td>-0.747962</td>\n      <td>0.648719</td>\n      <td>-0.033194</td>\n      <td>0.100555</td>\n      <td>-0.899256</td>\n      <td>-0.418726</td>\n      <td>0.953456</td>\n      <td>-0.437746</td>\n    </tr>\n    <tr>\n      <th>3</th>\n      <td>0.0</td>\n      <td>0.0</td>\n      <td>1.0</td>\n      <td>0.0</td>\n      <td>0.0</td>\n      <td>0.0</td>\n      <td>0.0</td>\n      <td>0.0</td>\n      <td>0.0</td>\n      <td>0.0</td>\n      <td>...</td>\n      <td>0.0</td>\n      <td>0.0</td>\n      <td>-0.429799</td>\n      <td>0.499189</td>\n      <td>-0.033194</td>\n      <td>0.100555</td>\n      <td>-0.940794</td>\n      <td>-0.418726</td>\n      <td>0.826133</td>\n      <td>-0.437746</td>\n    </tr>\n    <tr>\n      <th>4</th>\n      <td>0.0</td>\n      <td>0.0</td>\n      <td>0.0</td>\n      <td>0.0</td>\n      <td>1.0</td>\n      <td>0.0</td>\n      <td>0.0</td>\n      <td>0.0</td>\n      <td>0.0</td>\n      <td>0.0</td>\n      <td>...</td>\n      <td>0.0</td>\n      <td>0.0</td>\n      <td>4.130534</td>\n      <td>0.080503</td>\n      <td>-0.033194</td>\n      <td>2.837806</td>\n      <td>2.445734</td>\n      <td>-0.418726</td>\n      <td>-0.942943</td>\n      <td>-0.437746</td>\n    </tr>\n    <tr>\n      <th>...</th>\n      <td>...</td>\n      <td>...</td>\n      <td>...</td>\n      <td>...</td>\n      <td>...</td>\n      <td>...</td>\n      <td>...</td>\n      <td>...</td>\n      <td>...</td>\n      <td>...</td>\n      <td>...</td>\n      <td>...</td>\n      <td>...</td>\n      <td>...</td>\n      <td>...</td>\n      <td>...</td>\n      <td>...</td>\n      <td>...</td>\n      <td>...</td>\n      <td>...</td>\n      <td>...</td>\n    </tr>\n    <tr>\n      <th>2218</th>\n      <td>0.0</td>\n      <td>0.0</td>\n      <td>0.0</td>\n      <td>0.0</td>\n      <td>1.0</td>\n      <td>0.0</td>\n      <td>0.0</td>\n      <td>0.0</td>\n      <td>0.0</td>\n      <td>0.0</td>\n      <td>...</td>\n      <td>0.0</td>\n      <td>0.0</td>\n      <td>-0.482826</td>\n      <td>-0.218558</td>\n      <td>-0.033194</td>\n      <td>-1.498382</td>\n      <td>-0.895358</td>\n      <td>-0.418726</td>\n      <td>0.928042</td>\n      <td>2.138091</td>\n    </tr>\n    <tr>\n      <th>2219</th>\n      <td>0.0</td>\n      <td>0.0</td>\n      <td>1.0</td>\n      <td>0.0</td>\n      <td>0.0</td>\n      <td>0.0</td>\n      <td>0.0</td>\n      <td>0.0</td>\n      <td>0.0</td>\n      <td>0.0</td>\n      <td>...</td>\n      <td>0.0</td>\n      <td>0.0</td>\n      <td>-0.005582</td>\n      <td>1.037499</td>\n      <td>-0.033194</td>\n      <td>0.100555</td>\n      <td>-0.301505</td>\n      <td>-0.418726</td>\n      <td>0.906033</td>\n      <td>1.709350</td>\n    </tr>\n    <tr>\n      <th>2220</th>\n      <td>0.0</td>\n      <td>0.0</td>\n      <td>0.0</td>\n      <td>0.0</td>\n      <td>1.0</td>\n      <td>0.0</td>\n      <td>0.0</td>\n      <td>1.0</td>\n      <td>0.0</td>\n      <td>0.0</td>\n      <td>...</td>\n      <td>0.0</td>\n      <td>0.0</td>\n      <td>-0.588880</td>\n      <td>0.080503</td>\n      <td>1.765236</td>\n      <td>-0.790841</td>\n      <td>-0.776884</td>\n      <td>-0.418726</td>\n      <td>0.955852</td>\n      <td>-0.437746</td>\n    </tr>\n    <tr>\n      <th>2221</th>\n      <td>0.0</td>\n      <td>0.0</td>\n      <td>0.0</td>\n      <td>0.0</td>\n      <td>1.0</td>\n      <td>0.0</td>\n      <td>0.0</td>\n      <td>0.0</td>\n      <td>0.0</td>\n      <td>0.0</td>\n      <td>...</td>\n      <td>0.0</td>\n      <td>0.0</td>\n      <td>-0.854016</td>\n      <td>-1.743770</td>\n      <td>-0.033194</td>\n      <td>1.476421</td>\n      <td>0.969014</td>\n      <td>-0.418726</td>\n      <td>1.211596</td>\n      <td>2.448165</td>\n    </tr>\n    <tr>\n      <th>2222</th>\n      <td>0.0</td>\n      <td>0.0</td>\n      <td>0.0</td>\n      <td>0.0</td>\n      <td>1.0</td>\n      <td>0.0</td>\n      <td>0.0</td>\n      <td>0.0</td>\n      <td>0.0</td>\n      <td>0.0</td>\n      <td>...</td>\n      <td>0.0</td>\n      <td>0.0</td>\n      <td>0.206527</td>\n      <td>-1.474615</td>\n      <td>-0.033194</td>\n      <td>-0.790841</td>\n      <td>-0.880120</td>\n      <td>-0.418726</td>\n      <td>-0.942943</td>\n      <td>-0.437746</td>\n    </tr>\n  </tbody>\n</table>\n<p>2223 rows × 51 columns</p>\n</div>"
     },
     "execution_count": 53,
     "metadata": {},
     "output_type": "execute_result"
    }
   ],
   "source": [
    "X_train"
   ],
   "metadata": {
    "collapsed": false,
    "pycharm": {
     "name": "#%%\n"
    }
   }
  },
  {
   "cell_type": "code",
   "execution_count": null,
   "outputs": [],
   "source": [
    "# Sauvegarde des jeux de données\n",
    "train_preprocess.to_csv('dataset/cleaned/train_energy.csv', encoding='utf-8', index=False)\n",
    "test_preprocess.to_csv('output/test_energy.csv', encoding='utf-8', index=False)"
   ],
   "metadata": {
    "collapsed": false,
    "pycharm": {
     "name": "#%%\n"
    }
   }
  }
 ],
 "metadata": {
  "kernelspec": {
   "display_name": "Python 3",
   "language": "python",
   "name": "python3"
  },
  "language_info": {
   "codemirror_mode": {
    "name": "ipython",
    "version": 2
   },
   "file_extension": ".py",
   "mimetype": "text/x-python",
   "name": "python",
   "nbconvert_exporter": "python",
   "pygments_lexer": "ipython2",
   "version": "2.7.6"
  }
 },
 "nbformat": 4,
 "nbformat_minor": 0
}