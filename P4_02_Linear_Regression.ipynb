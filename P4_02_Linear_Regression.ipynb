{
 "cells": [
  {
   "cell_type": "code",
   "execution_count": 57,
   "outputs": [],
   "source": [
    "import numpy as np\n",
    "import pandas as pd\n",
    "import matplotlib.pyplot as plt"
   ],
   "metadata": {
    "collapsed": false,
    "pycharm": {
     "name": "#%%\n"
    }
   }
  },
  {
   "cell_type": "code",
   "execution_count": 58,
   "outputs": [],
   "source": [
    "dataset_path = \"dataset/2016_Building_Energy_Benchmarking.csv\"\n",
    "data = pd.read_csv(dataset_path)"
   ],
   "metadata": {
    "collapsed": false,
    "pycharm": {
     "name": "#%%\n"
    }
   }
  },
  {
   "cell_type": "code",
   "execution_count": 59,
   "outputs": [
    {
     "data": {
      "text/plain": "(3376, 46)"
     },
     "execution_count": 59,
     "metadata": {},
     "output_type": "execute_result"
    }
   ],
   "source": [
    "data.shape"
   ],
   "metadata": {
    "collapsed": false,
    "pycharm": {
     "name": "#%%\n"
    }
   }
  },
  {
   "cell_type": "code",
   "execution_count": 60,
   "outputs": [
    {
     "data": {
      "text/plain": "   OSEBuildingID  DataYear          BuildingType   PrimaryPropertyType  \\\n0              1      2016        NonResidential                 Hotel   \n1              2      2016        NonResidential                 Hotel   \n2              3      2016        NonResidential                 Hotel   \n3              5      2016        NonResidential                 Hotel   \n4              8      2016        NonResidential                 Hotel   \n5              9      2016    Nonresidential COS                 Other   \n6             10      2016        NonResidential                 Hotel   \n7             11      2016        NonResidential                 Other   \n8             12      2016        NonResidential                 Hotel   \n9             13      2016  Multifamily MR (5-9)  Mid-Rise Multifamily   \n\n                  PropertyName          Address     City State     ZipCode  \\\n0         Mayflower park hotel    405 Olive way  Seattle    WA 98101.00000   \n1              Paramount Hotel  724 Pine street  Seattle    WA 98101.00000   \n2      5673-The Westin Seattle  1900 5th Avenue  Seattle    WA 98101.00000   \n3                    HOTEL MAX   620 STEWART ST  Seattle    WA 98101.00000   \n4  WARWICK SEATTLE HOTEL (ID8)    401 LENORA ST  Seattle    WA 98121.00000   \n5                West Precinct  810 Virginia St  Seattle    WA 98101.00000   \n6                       Camlin  1619 9th Avenue  Seattle    WA 98101.00000   \n7            Paramount Theatre      911 Pine St  Seattle    WA 98101.00000   \n8         311wh-Pioneer Square      612 2nd Ave  Seattle    WA 98104.00000   \n9                Lyon Building   607 - 3rd Ave.  Seattle    WA 98104.00000   \n\n  TaxParcelIdentificationNumber  ...  Electricity(kWh) Electricity(kBtu)  \\\n0                    0659000030  ...     1156514.25000     3946027.00000   \n1                    0659000220  ...      950425.18750     3242851.00000   \n2                    0659000475  ...    14515435.00000    49526664.00000   \n3                    0659000640  ...      811525.31250     2768924.00000   \n4                    0659000970  ...     1573448.62500     5368607.00000   \n5                    0660000560  ...     2160443.75000     7371434.00000   \n6                    0660000825  ...      823919.87500     2811215.00000   \n7                    0660000955  ...     1065842.75000     3636655.00000   \n8                    0939000080  ...     2138897.75000     7297919.00000   \n9                    0939000105  ...      742091.18750     2532015.00000   \n\n   NaturalGas(therms)  NaturalGas(kBtu)  DefaultData  Comments  \\\n0         12764.52930     1276453.00000        False       NaN   \n1         51450.81641     5145082.00000        False       NaN   \n2         14938.00000     1493800.00000        False       NaN   \n3         18112.13086     1811213.00000        False       NaN   \n4         88039.98438     8803998.00000        False       NaN   \n5         47151.81641     4715182.00000        False       NaN   \n6         29475.80078     2947580.00000        False       NaN   \n7          3851.89014      385189.00000        False       NaN   \n8         64259.00000     6425900.00000        False       NaN   \n9         10020.25977     1002026.00000        False       NaN   \n\n   ComplianceStatus  Outlier  TotalGHGEmissions  GHGEmissionsIntensity  \n0         Compliant      NaN          249.98000                2.83000  \n1         Compliant      NaN          295.86000                2.86000  \n2         Compliant      NaN         2089.28000                2.19000  \n3         Compliant      NaN          286.43000                4.67000  \n4         Compliant      NaN          505.01000                2.88000  \n5         Compliant      NaN          301.81000                3.10000  \n6         Compliant      NaN          176.14000                2.12000  \n7         Compliant      NaN          221.51000                2.16000  \n8         Compliant      NaN          392.16000                2.39000  \n9         Compliant      NaN          151.12000                2.37000  \n\n[10 rows x 46 columns]",
      "text/html": "<div>\n<style scoped>\n    .dataframe tbody tr th:only-of-type {\n        vertical-align: middle;\n    }\n\n    .dataframe tbody tr th {\n        vertical-align: top;\n    }\n\n    .dataframe thead th {\n        text-align: right;\n    }\n</style>\n<table border=\"1\" class=\"dataframe\">\n  <thead>\n    <tr style=\"text-align: right;\">\n      <th></th>\n      <th>OSEBuildingID</th>\n      <th>DataYear</th>\n      <th>BuildingType</th>\n      <th>PrimaryPropertyType</th>\n      <th>PropertyName</th>\n      <th>Address</th>\n      <th>City</th>\n      <th>State</th>\n      <th>ZipCode</th>\n      <th>TaxParcelIdentificationNumber</th>\n      <th>...</th>\n      <th>Electricity(kWh)</th>\n      <th>Electricity(kBtu)</th>\n      <th>NaturalGas(therms)</th>\n      <th>NaturalGas(kBtu)</th>\n      <th>DefaultData</th>\n      <th>Comments</th>\n      <th>ComplianceStatus</th>\n      <th>Outlier</th>\n      <th>TotalGHGEmissions</th>\n      <th>GHGEmissionsIntensity</th>\n    </tr>\n  </thead>\n  <tbody>\n    <tr>\n      <th>0</th>\n      <td>1</td>\n      <td>2016</td>\n      <td>NonResidential</td>\n      <td>Hotel</td>\n      <td>Mayflower park hotel</td>\n      <td>405 Olive way</td>\n      <td>Seattle</td>\n      <td>WA</td>\n      <td>98101.00000</td>\n      <td>0659000030</td>\n      <td>...</td>\n      <td>1156514.25000</td>\n      <td>3946027.00000</td>\n      <td>12764.52930</td>\n      <td>1276453.00000</td>\n      <td>False</td>\n      <td>NaN</td>\n      <td>Compliant</td>\n      <td>NaN</td>\n      <td>249.98000</td>\n      <td>2.83000</td>\n    </tr>\n    <tr>\n      <th>1</th>\n      <td>2</td>\n      <td>2016</td>\n      <td>NonResidential</td>\n      <td>Hotel</td>\n      <td>Paramount Hotel</td>\n      <td>724 Pine street</td>\n      <td>Seattle</td>\n      <td>WA</td>\n      <td>98101.00000</td>\n      <td>0659000220</td>\n      <td>...</td>\n      <td>950425.18750</td>\n      <td>3242851.00000</td>\n      <td>51450.81641</td>\n      <td>5145082.00000</td>\n      <td>False</td>\n      <td>NaN</td>\n      <td>Compliant</td>\n      <td>NaN</td>\n      <td>295.86000</td>\n      <td>2.86000</td>\n    </tr>\n    <tr>\n      <th>2</th>\n      <td>3</td>\n      <td>2016</td>\n      <td>NonResidential</td>\n      <td>Hotel</td>\n      <td>5673-The Westin Seattle</td>\n      <td>1900 5th Avenue</td>\n      <td>Seattle</td>\n      <td>WA</td>\n      <td>98101.00000</td>\n      <td>0659000475</td>\n      <td>...</td>\n      <td>14515435.00000</td>\n      <td>49526664.00000</td>\n      <td>14938.00000</td>\n      <td>1493800.00000</td>\n      <td>False</td>\n      <td>NaN</td>\n      <td>Compliant</td>\n      <td>NaN</td>\n      <td>2089.28000</td>\n      <td>2.19000</td>\n    </tr>\n    <tr>\n      <th>3</th>\n      <td>5</td>\n      <td>2016</td>\n      <td>NonResidential</td>\n      <td>Hotel</td>\n      <td>HOTEL MAX</td>\n      <td>620 STEWART ST</td>\n      <td>Seattle</td>\n      <td>WA</td>\n      <td>98101.00000</td>\n      <td>0659000640</td>\n      <td>...</td>\n      <td>811525.31250</td>\n      <td>2768924.00000</td>\n      <td>18112.13086</td>\n      <td>1811213.00000</td>\n      <td>False</td>\n      <td>NaN</td>\n      <td>Compliant</td>\n      <td>NaN</td>\n      <td>286.43000</td>\n      <td>4.67000</td>\n    </tr>\n    <tr>\n      <th>4</th>\n      <td>8</td>\n      <td>2016</td>\n      <td>NonResidential</td>\n      <td>Hotel</td>\n      <td>WARWICK SEATTLE HOTEL (ID8)</td>\n      <td>401 LENORA ST</td>\n      <td>Seattle</td>\n      <td>WA</td>\n      <td>98121.00000</td>\n      <td>0659000970</td>\n      <td>...</td>\n      <td>1573448.62500</td>\n      <td>5368607.00000</td>\n      <td>88039.98438</td>\n      <td>8803998.00000</td>\n      <td>False</td>\n      <td>NaN</td>\n      <td>Compliant</td>\n      <td>NaN</td>\n      <td>505.01000</td>\n      <td>2.88000</td>\n    </tr>\n    <tr>\n      <th>5</th>\n      <td>9</td>\n      <td>2016</td>\n      <td>Nonresidential COS</td>\n      <td>Other</td>\n      <td>West Precinct</td>\n      <td>810 Virginia St</td>\n      <td>Seattle</td>\n      <td>WA</td>\n      <td>98101.00000</td>\n      <td>0660000560</td>\n      <td>...</td>\n      <td>2160443.75000</td>\n      <td>7371434.00000</td>\n      <td>47151.81641</td>\n      <td>4715182.00000</td>\n      <td>False</td>\n      <td>NaN</td>\n      <td>Compliant</td>\n      <td>NaN</td>\n      <td>301.81000</td>\n      <td>3.10000</td>\n    </tr>\n    <tr>\n      <th>6</th>\n      <td>10</td>\n      <td>2016</td>\n      <td>NonResidential</td>\n      <td>Hotel</td>\n      <td>Camlin</td>\n      <td>1619 9th Avenue</td>\n      <td>Seattle</td>\n      <td>WA</td>\n      <td>98101.00000</td>\n      <td>0660000825</td>\n      <td>...</td>\n      <td>823919.87500</td>\n      <td>2811215.00000</td>\n      <td>29475.80078</td>\n      <td>2947580.00000</td>\n      <td>False</td>\n      <td>NaN</td>\n      <td>Compliant</td>\n      <td>NaN</td>\n      <td>176.14000</td>\n      <td>2.12000</td>\n    </tr>\n    <tr>\n      <th>7</th>\n      <td>11</td>\n      <td>2016</td>\n      <td>NonResidential</td>\n      <td>Other</td>\n      <td>Paramount Theatre</td>\n      <td>911 Pine St</td>\n      <td>Seattle</td>\n      <td>WA</td>\n      <td>98101.00000</td>\n      <td>0660000955</td>\n      <td>...</td>\n      <td>1065842.75000</td>\n      <td>3636655.00000</td>\n      <td>3851.89014</td>\n      <td>385189.00000</td>\n      <td>False</td>\n      <td>NaN</td>\n      <td>Compliant</td>\n      <td>NaN</td>\n      <td>221.51000</td>\n      <td>2.16000</td>\n    </tr>\n    <tr>\n      <th>8</th>\n      <td>12</td>\n      <td>2016</td>\n      <td>NonResidential</td>\n      <td>Hotel</td>\n      <td>311wh-Pioneer Square</td>\n      <td>612 2nd Ave</td>\n      <td>Seattle</td>\n      <td>WA</td>\n      <td>98104.00000</td>\n      <td>0939000080</td>\n      <td>...</td>\n      <td>2138897.75000</td>\n      <td>7297919.00000</td>\n      <td>64259.00000</td>\n      <td>6425900.00000</td>\n      <td>False</td>\n      <td>NaN</td>\n      <td>Compliant</td>\n      <td>NaN</td>\n      <td>392.16000</td>\n      <td>2.39000</td>\n    </tr>\n    <tr>\n      <th>9</th>\n      <td>13</td>\n      <td>2016</td>\n      <td>Multifamily MR (5-9)</td>\n      <td>Mid-Rise Multifamily</td>\n      <td>Lyon Building</td>\n      <td>607 - 3rd Ave.</td>\n      <td>Seattle</td>\n      <td>WA</td>\n      <td>98104.00000</td>\n      <td>0939000105</td>\n      <td>...</td>\n      <td>742091.18750</td>\n      <td>2532015.00000</td>\n      <td>10020.25977</td>\n      <td>1002026.00000</td>\n      <td>False</td>\n      <td>NaN</td>\n      <td>Compliant</td>\n      <td>NaN</td>\n      <td>151.12000</td>\n      <td>2.37000</td>\n    </tr>\n  </tbody>\n</table>\n<p>10 rows × 46 columns</p>\n</div>"
     },
     "execution_count": 60,
     "metadata": {},
     "output_type": "execute_result"
    }
   ],
   "source": [
    "data[:10]"
   ],
   "metadata": {
    "collapsed": false,
    "pycharm": {
     "name": "#%%\n"
    }
   }
  },
  {
   "cell_type": "code",
   "execution_count": 61,
   "outputs": [
    {
     "data": {
      "text/plain": "<Figure size 432x288 with 1 Axes>",
      "image/png": "[encoded data removed]"
     },
     "metadata": {},
     "output_type": "display_data"
    }
   ],
   "source": [
    "# propertyTotalGFA as a function of Electricity\n",
    "plt.plot(data[\"PropertyGFATotal\"], data[\"Electricity(kBtu)\"], \"ro\", markersize=4)\n",
    "plt.show()"
   ],
   "metadata": {
    "collapsed": false,
    "pycharm": {
     "name": "#%%\n"
    }
   }
  },
  {
   "cell_type": "code",
   "execution_count": 62,
   "outputs": [
    {
     "data": {
      "text/plain": "<Figure size 432x288 with 1 Axes>",
      "image/png": "[encoded data removed]"
     },
     "metadata": {},
     "output_type": "display_data"
    }
   ],
   "source": [
    "# remove outliers : Elctricity > 1 million\n",
    "\n",
    "data = data[(data[\"Electricity(kBtu)\"] > 0) & (data[\"PropertyGFATotal\"] > 0) & (data[\"Electricity(kWh)\"] > 0)]\n",
    "\n",
    "plt.plot(data[\"PropertyGFATotal\"], data[\"Electricity(kBtu)\"], \"ro\", markersize=4)\n",
    "plt.show()"
   ],
   "metadata": {
    "collapsed": false,
    "pycharm": {
     "name": "#%%\n"
    }
   }
  },
  {
   "cell_type": "code",
   "execution_count": 63,
   "outputs": [
    {
     "data": {
      "text/plain": "<Figure size 432x288 with 1 Axes>",
      "image/png": "[encoded data removed]"
     },
     "metadata": {},
     "output_type": "display_data"
    }
   ],
   "source": [
    "# Easy Linear Regression : x = kWh y = kBtu\n",
    "plt.plot(data[\"Electricity(kWh)\"], data[\"Electricity(kBtu)\"], \"ro\", markersize=4)\n",
    "plt.show()"
   ],
   "metadata": {
    "collapsed": false,
    "pycharm": {
     "name": "#%%\n"
    }
   }
  },
  {
   "cell_type": "code",
   "execution_count": 92,
   "outputs": [],
   "source": [
    "# Linear Regression \"manually\" / we transform the dataset into matrices to compute theta\n",
    "X = np.matrix([np.ones(data.shape[0]), data[\"Electricity(kWh)\"]]).T\n",
    "Y = np.matrix(data[\"Electricity(kBtu)\"]).T"
   ],
   "metadata": {
    "collapsed": false,
    "pycharm": {
     "name": "#%%\n"
    }
   }
  },
  {
   "cell_type": "code",
   "execution_count": 93,
   "outputs": [
    {
     "data": {
      "text/plain": "matrix([[       1.    ,  1156514.25  ],\n        [       1.    ,   950425.1875],\n        [       1.    , 14515435.    ],\n        [       1.    ,   811525.3125],\n        [       1.    ,  1573448.625 ],\n        [       1.    ,  2160443.75  ],\n        [       1.    ,   823919.875 ],\n        [       1.    ,  1065842.75  ],\n        [       1.    ,  2138897.75  ],\n        [       1.    ,   742091.1875]])"
     },
     "execution_count": 93,
     "metadata": {},
     "output_type": "execute_result"
    }
   ],
   "source": [
    "np.set_printoptions(suppress=True) # remove scientific notation\n",
    "X[:10]"
   ],
   "metadata": {
    "collapsed": false,
    "pycharm": {
     "name": "#%%\n"
    }
   }
  },
  {
   "cell_type": "code",
   "execution_count": 94,
   "outputs": [
    {
     "name": "stdout",
     "output_type": "stream",
     "text": [
      "[[0.00993694]\n",
      " [3.412     ]]\n",
      "34.1299369180409\n"
     ]
    }
   ],
   "source": [
    "# Computing the exact value of the parameter theta\n",
    "theta = np.linalg.inv(X.T.dot(X)).dot(X.T).dot(Y)\n",
    "\n",
    "# displaying theta with a = slope ; and b = y-intercept\n",
    "print(theta)\n",
    "\n",
    "# we test Y = aX + b for X = 10\n",
    "print(theta.item(0) + theta.item(1) * 10)"
   ],
   "metadata": {
    "collapsed": false,
    "pycharm": {
     "name": "#%%\n"
    }
   }
  },
  {
   "cell_type": "code",
   "execution_count": 97,
   "outputs": [
    {
     "data": {
      "text/plain": "<Figure size 432x288 with 1 Axes>",
      "image/png": "[encoded data removed]"
     },
     "metadata": {},
     "output_type": "display_data"
    }
   ],
   "source": [
    "plt.xlabel(\"Electricity(kWh)\")\n",
    "plt.ylabel(\"Electricity(kBtu)\")\n",
    "\n",
    "x_min = 0\n",
    "x_max = 200000000\n",
    "y_min = theta.item(0)\n",
    "y_max = theta.item(0) + x_max * theta.item(1)\n",
    "\n",
    "plt.plot([x_min, x_max], [y_min, y_max], linestyle=\"--\", c=\"#000000\")\n",
    "plt.plot(data[\"Electricity(kWh)\"], data[\"Electricity(kBtu)\"], \"ro\", markersize=4)\n",
    "\n",
    "plt.show()"
   ],
   "metadata": {
    "collapsed": false,
    "pycharm": {
     "name": "#%%\n"
    }
   }
  },
  {
   "cell_type": "code",
   "execution_count": null,
   "outputs": [],
   "source": [],
   "metadata": {
    "collapsed": false,
    "pycharm": {
     "name": "#%%\n"
    }
   }
  },
  {
   "cell_type": "code",
   "execution_count": 100,
   "outputs": [
    {
     "data": {
      "text/plain": "array([16.])"
     },
     "execution_count": 100,
     "metadata": {},
     "output_type": "execute_result"
    }
   ],
   "source": [
    "# Automatic implementation ******* ????\n",
    "\n",
    "from sklearn import linear_model\n",
    "regr = linear_model.LinearRegression()\n",
    "\n",
    "#X = data[\"Electricity(kWh)\"].values\n",
    "#y = data[\"Electricity(kBtu)\"].values\n",
    "\n",
    "#from sklearn.model_selection import train_test_split\n",
    "#xtrain, xtest, ytrain, ytest = train_test_split(X, y, train_size=0.8)\n",
    "\n",
    "#regr.fit(X, y)\n",
    "\n",
    "#regr.predict(??)\n",
    "\n",
    "\n",
    "import numpy as np\n",
    "from sklearn.linear_model import LinearRegression\n",
    "X = np.array([[1, 1], [1, 2], [2, 2], [2, 3]])\n",
    "# y = 1 * x_0 + 2 * x_1 + 3\n",
    "y = np.dot(X, np.array([1, 2])) + 3\n",
    "reg = LinearRegression().fit(X, y)\n",
    "reg.score(X, y)\n",
    "\n",
    "reg.coef_\n",
    "\n",
    "reg.intercept_\n",
    "\n",
    "reg.predict(np.array([[3, 5]]))"
   ],
   "metadata": {
    "collapsed": false,
    "pycharm": {
     "name": "#%%\n"
    }
   }
  }
 ],
 "metadata": {
  "kernelspec": {
   "display_name": "Python 3",
   "language": "python",
   "name": "python3"
  },
  "language_info": {
   "codemirror_mode": {
    "name": "ipython",
    "version": 2
   },
   "file_extension": ".py",
   "mimetype": "text/x-python",
   "name": "python",
   "nbconvert_exporter": "python",
   "pygments_lexer": "ipython2",
   "version": "2.7.6"
  }
 },
 "nbformat": 4,
 "nbformat_minor": 0
}