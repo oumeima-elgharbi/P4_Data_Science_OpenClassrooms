{
 "cells": [
  {
   "cell_type": "code",
   "execution_count": 1,
   "outputs": [
    {
     "data": {
      "application/javascript": "IPython.notebook.set_autosave_interval(300000)"
     },
     "metadata": {},
     "output_type": "display_data"
    },
    {
     "name": "stdout",
     "output_type": "stream",
     "text": [
      "Autosaving every 300 seconds\n"
     ]
    }
   ],
   "source": [
    "%reset -f\n",
    "\n",
    "import numpy as np\n",
    "import pandas as pd\n",
    "import matplotlib.pyplot as plt\n",
    "\n",
    "%matplotlib inline\n",
    "%autosave 300"
   ],
   "metadata": {
    "collapsed": false,
    "pycharm": {
     "name": "#%%\n"
    }
   }
  },
  {
   "cell_type": "markdown",
   "source": [
    "### Exploration and Modelisation"
   ],
   "metadata": {
    "collapsed": false,
    "pycharm": {
     "name": "#%% md\n"
    }
   }
  },
  {
   "cell_type": "code",
   "execution_count": 2,
   "outputs": [],
   "source": [
    "dataset_path = \"dataset/2016_Building_Energy_Benchmarking.csv\"\n",
    "data = pd.read_csv(dataset_path)"
   ],
   "metadata": {
    "collapsed": false,
    "pycharm": {
     "name": "#%%\n"
    }
   }
  },
  {
   "cell_type": "code",
   "execution_count": 3,
   "outputs": [
    {
     "data": {
      "text/plain": "(3376, 46)"
     },
     "execution_count": 3,
     "metadata": {},
     "output_type": "execute_result"
    }
   ],
   "source": [
    "data.shape"
   ],
   "metadata": {
    "collapsed": false,
    "pycharm": {
     "name": "#%%\n"
    }
   }
  },
  {
   "cell_type": "code",
   "execution_count": 4,
   "outputs": [
    {
     "data": {
      "text/plain": "   OSEBuildingID  DataYear          BuildingType   PrimaryPropertyType  \\\n0              1      2016        NonResidential                 Hotel   \n1              2      2016        NonResidential                 Hotel   \n2              3      2016        NonResidential                 Hotel   \n3              5      2016        NonResidential                 Hotel   \n4              8      2016        NonResidential                 Hotel   \n5              9      2016    Nonresidential COS                 Other   \n6             10      2016        NonResidential                 Hotel   \n7             11      2016        NonResidential                 Other   \n8             12      2016        NonResidential                 Hotel   \n9             13      2016  Multifamily MR (5-9)  Mid-Rise Multifamily   \n\n                  PropertyName          Address     City State  ZipCode  \\\n0         Mayflower park hotel    405 Olive way  Seattle    WA  98101.0   \n1              Paramount Hotel  724 Pine street  Seattle    WA  98101.0   \n2      5673-The Westin Seattle  1900 5th Avenue  Seattle    WA  98101.0   \n3                    HOTEL MAX   620 STEWART ST  Seattle    WA  98101.0   \n4  WARWICK SEATTLE HOTEL (ID8)    401 LENORA ST  Seattle    WA  98121.0   \n5                West Precinct  810 Virginia St  Seattle    WA  98101.0   \n6                       Camlin  1619 9th Avenue  Seattle    WA  98101.0   \n7            Paramount Theatre      911 Pine St  Seattle    WA  98101.0   \n8         311wh-Pioneer Square      612 2nd Ave  Seattle    WA  98104.0   \n9                Lyon Building   607 - 3rd Ave.  Seattle    WA  98104.0   \n\n  TaxParcelIdentificationNumber  ...  Electricity(kWh) Electricity(kBtu)  \\\n0                    0659000030  ...      1.156514e+06         3946027.0   \n1                    0659000220  ...      9.504252e+05         3242851.0   \n2                    0659000475  ...      1.451544e+07        49526664.0   \n3                    0659000640  ...      8.115253e+05         2768924.0   \n4                    0659000970  ...      1.573449e+06         5368607.0   \n5                    0660000560  ...      2.160444e+06         7371434.0   \n6                    0660000825  ...      8.239199e+05         2811215.0   \n7                    0660000955  ...      1.065843e+06         3636655.0   \n8                    0939000080  ...      2.138898e+06         7297919.0   \n9                    0939000105  ...      7.420912e+05         2532015.0   \n\n   NaturalGas(therms)  NaturalGas(kBtu)  DefaultData  Comments  \\\n0        12764.529300         1276453.0        False       NaN   \n1        51450.816410         5145082.0        False       NaN   \n2        14938.000000         1493800.0        False       NaN   \n3        18112.130860         1811213.0        False       NaN   \n4        88039.984380         8803998.0        False       NaN   \n5        47151.816410         4715182.0        False       NaN   \n6        29475.800780         2947580.0        False       NaN   \n7         3851.890137          385189.0        False       NaN   \n8        64259.000000         6425900.0        False       NaN   \n9        10020.259770         1002026.0        False       NaN   \n\n   ComplianceStatus  Outlier  TotalGHGEmissions  GHGEmissionsIntensity  \n0         Compliant      NaN             249.98                   2.83  \n1         Compliant      NaN             295.86                   2.86  \n2         Compliant      NaN            2089.28                   2.19  \n3         Compliant      NaN             286.43                   4.67  \n4         Compliant      NaN             505.01                   2.88  \n5         Compliant      NaN             301.81                   3.10  \n6         Compliant      NaN             176.14                   2.12  \n7         Compliant      NaN             221.51                   2.16  \n8         Compliant      NaN             392.16                   2.39  \n9         Compliant      NaN             151.12                   2.37  \n\n[10 rows x 46 columns]",
      "text/html": "<div>\n<style scoped>\n    .dataframe tbody tr th:only-of-type {\n        vertical-align: middle;\n    }\n\n    .dataframe tbody tr th {\n        vertical-align: top;\n    }\n\n    .dataframe thead th {\n        text-align: right;\n    }\n</style>\n<table border=\"1\" class=\"dataframe\">\n  <thead>\n    <tr style=\"text-align: right;\">\n      <th></th>\n      <th>OSEBuildingID</th>\n      <th>DataYear</th>\n      <th>BuildingType</th>\n      <th>PrimaryPropertyType</th>\n      <th>PropertyName</th>\n      <th>Address</th>\n      <th>City</th>\n      <th>State</th>\n      <th>ZipCode</th>\n      <th>TaxParcelIdentificationNumber</th>\n      <th>...</th>\n      <th>Electricity(kWh)</th>\n      <th>Electricity(kBtu)</th>\n      <th>NaturalGas(therms)</th>\n      <th>NaturalGas(kBtu)</th>\n      <th>DefaultData</th>\n      <th>Comments</th>\n      <th>ComplianceStatus</th>\n      <th>Outlier</th>\n      <th>TotalGHGEmissions</th>\n      <th>GHGEmissionsIntensity</th>\n    </tr>\n  </thead>\n  <tbody>\n    <tr>\n      <th>0</th>\n      <td>1</td>\n      <td>2016</td>\n      <td>NonResidential</td>\n      <td>Hotel</td>\n      <td>Mayflower park hotel</td>\n      <td>405 Olive way</td>\n      <td>Seattle</td>\n      <td>WA</td>\n      <td>98101.0</td>\n      <td>0659000030</td>\n      <td>...</td>\n      <td>1.156514e+06</td>\n      <td>3946027.0</td>\n      <td>12764.529300</td>\n      <td>1276453.0</td>\n      <td>False</td>\n      <td>NaN</td>\n      <td>Compliant</td>\n      <td>NaN</td>\n      <td>249.98</td>\n      <td>2.83</td>\n    </tr>\n    <tr>\n      <th>1</th>\n      <td>2</td>\n      <td>2016</td>\n      <td>NonResidential</td>\n      <td>Hotel</td>\n      <td>Paramount Hotel</td>\n      <td>724 Pine street</td>\n      <td>Seattle</td>\n      <td>WA</td>\n      <td>98101.0</td>\n      <td>0659000220</td>\n      <td>...</td>\n      <td>9.504252e+05</td>\n      <td>3242851.0</td>\n      <td>51450.816410</td>\n      <td>5145082.0</td>\n      <td>False</td>\n      <td>NaN</td>\n      <td>Compliant</td>\n      <td>NaN</td>\n      <td>295.86</td>\n      <td>2.86</td>\n    </tr>\n    <tr>\n      <th>2</th>\n      <td>3</td>\n      <td>2016</td>\n      <td>NonResidential</td>\n      <td>Hotel</td>\n      <td>5673-The Westin Seattle</td>\n      <td>1900 5th Avenue</td>\n      <td>Seattle</td>\n      <td>WA</td>\n      <td>98101.0</td>\n      <td>0659000475</td>\n      <td>...</td>\n      <td>1.451544e+07</td>\n      <td>49526664.0</td>\n      <td>14938.000000</td>\n      <td>1493800.0</td>\n      <td>False</td>\n      <td>NaN</td>\n      <td>Compliant</td>\n      <td>NaN</td>\n      <td>2089.28</td>\n      <td>2.19</td>\n    </tr>\n    <tr>\n      <th>3</th>\n      <td>5</td>\n      <td>2016</td>\n      <td>NonResidential</td>\n      <td>Hotel</td>\n      <td>HOTEL MAX</td>\n      <td>620 STEWART ST</td>\n      <td>Seattle</td>\n      <td>WA</td>\n      <td>98101.0</td>\n      <td>0659000640</td>\n      <td>...</td>\n      <td>8.115253e+05</td>\n      <td>2768924.0</td>\n      <td>18112.130860</td>\n      <td>1811213.0</td>\n      <td>False</td>\n      <td>NaN</td>\n      <td>Compliant</td>\n      <td>NaN</td>\n      <td>286.43</td>\n      <td>4.67</td>\n    </tr>\n    <tr>\n      <th>4</th>\n      <td>8</td>\n      <td>2016</td>\n      <td>NonResidential</td>\n      <td>Hotel</td>\n      <td>WARWICK SEATTLE HOTEL (ID8)</td>\n      <td>401 LENORA ST</td>\n      <td>Seattle</td>\n      <td>WA</td>\n      <td>98121.0</td>\n      <td>0659000970</td>\n      <td>...</td>\n      <td>1.573449e+06</td>\n      <td>5368607.0</td>\n      <td>88039.984380</td>\n      <td>8803998.0</td>\n      <td>False</td>\n      <td>NaN</td>\n      <td>Compliant</td>\n      <td>NaN</td>\n      <td>505.01</td>\n      <td>2.88</td>\n    </tr>\n    <tr>\n      <th>5</th>\n      <td>9</td>\n      <td>2016</td>\n      <td>Nonresidential COS</td>\n      <td>Other</td>\n      <td>West Precinct</td>\n      <td>810 Virginia St</td>\n      <td>Seattle</td>\n      <td>WA</td>\n      <td>98101.0</td>\n      <td>0660000560</td>\n      <td>...</td>\n      <td>2.160444e+06</td>\n      <td>7371434.0</td>\n      <td>47151.816410</td>\n      <td>4715182.0</td>\n      <td>False</td>\n      <td>NaN</td>\n      <td>Compliant</td>\n      <td>NaN</td>\n      <td>301.81</td>\n      <td>3.10</td>\n    </tr>\n    <tr>\n      <th>6</th>\n      <td>10</td>\n      <td>2016</td>\n      <td>NonResidential</td>\n      <td>Hotel</td>\n      <td>Camlin</td>\n      <td>1619 9th Avenue</td>\n      <td>Seattle</td>\n      <td>WA</td>\n      <td>98101.0</td>\n      <td>0660000825</td>\n      <td>...</td>\n      <td>8.239199e+05</td>\n      <td>2811215.0</td>\n      <td>29475.800780</td>\n      <td>2947580.0</td>\n      <td>False</td>\n      <td>NaN</td>\n      <td>Compliant</td>\n      <td>NaN</td>\n      <td>176.14</td>\n      <td>2.12</td>\n    </tr>\n    <tr>\n      <th>7</th>\n      <td>11</td>\n      <td>2016</td>\n      <td>NonResidential</td>\n      <td>Other</td>\n      <td>Paramount Theatre</td>\n      <td>911 Pine St</td>\n      <td>Seattle</td>\n      <td>WA</td>\n      <td>98101.0</td>\n      <td>0660000955</td>\n      <td>...</td>\n      <td>1.065843e+06</td>\n      <td>3636655.0</td>\n      <td>3851.890137</td>\n      <td>385189.0</td>\n      <td>False</td>\n      <td>NaN</td>\n      <td>Compliant</td>\n      <td>NaN</td>\n      <td>221.51</td>\n      <td>2.16</td>\n    </tr>\n    <tr>\n      <th>8</th>\n      <td>12</td>\n      <td>2016</td>\n      <td>NonResidential</td>\n      <td>Hotel</td>\n      <td>311wh-Pioneer Square</td>\n      <td>612 2nd Ave</td>\n      <td>Seattle</td>\n      <td>WA</td>\n      <td>98104.0</td>\n      <td>0939000080</td>\n      <td>...</td>\n      <td>2.138898e+06</td>\n      <td>7297919.0</td>\n      <td>64259.000000</td>\n      <td>6425900.0</td>\n      <td>False</td>\n      <td>NaN</td>\n      <td>Compliant</td>\n      <td>NaN</td>\n      <td>392.16</td>\n      <td>2.39</td>\n    </tr>\n    <tr>\n      <th>9</th>\n      <td>13</td>\n      <td>2016</td>\n      <td>Multifamily MR (5-9)</td>\n      <td>Mid-Rise Multifamily</td>\n      <td>Lyon Building</td>\n      <td>607 - 3rd Ave.</td>\n      <td>Seattle</td>\n      <td>WA</td>\n      <td>98104.0</td>\n      <td>0939000105</td>\n      <td>...</td>\n      <td>7.420912e+05</td>\n      <td>2532015.0</td>\n      <td>10020.259770</td>\n      <td>1002026.0</td>\n      <td>False</td>\n      <td>NaN</td>\n      <td>Compliant</td>\n      <td>NaN</td>\n      <td>151.12</td>\n      <td>2.37</td>\n    </tr>\n  </tbody>\n</table>\n<p>10 rows × 46 columns</p>\n</div>"
     },
     "execution_count": 4,
     "metadata": {},
     "output_type": "execute_result"
    }
   ],
   "source": [
    "data[:10]"
   ],
   "metadata": {
    "collapsed": false,
    "pycharm": {
     "name": "#%%\n"
    }
   }
  },
  {
   "cell_type": "code",
   "execution_count": 5,
   "outputs": [
    {
     "data": {
      "text/plain": "<Figure size 432x288 with 1 Axes>",
      "image/png": "[encoded data removed]"
     },
     "metadata": {
      "needs_background": "light"
     },
     "output_type": "display_data"
    }
   ],
   "source": [
    "# propertyTotalGFA as a function of Electricity\n",
    "plt.plot(data[\"PropertyGFATotal\"], data[\"Electricity(kBtu)\"], \"ro\", markersize=4)\n",
    "plt.show()"
   ],
   "metadata": {
    "collapsed": false,
    "pycharm": {
     "name": "#%%\n"
    }
   }
  },
  {
   "cell_type": "code",
   "execution_count": 6,
   "outputs": [
    {
     "data": {
      "text/plain": "<Figure size 432x288 with 1 Axes>",
      "image/png": "[encoded data removed]"
     },
     "metadata": {
      "needs_background": "light"
     },
     "output_type": "display_data"
    }
   ],
   "source": [
    "# remove outliers : Elctricity > 1 million\n",
    "\n",
    "data = data[(data[\"Electricity(kBtu)\"] > 0) & (data[\"PropertyGFATotal\"] > 0) & (data[\"Electricity(kWh)\"] > 0)]\n",
    "\n",
    "plt.plot(data[\"PropertyGFATotal\"], data[\"Electricity(kBtu)\"], \"ro\", markersize=4)\n",
    "plt.show()"
   ],
   "metadata": {
    "collapsed": false,
    "pycharm": {
     "name": "#%%\n"
    }
   }
  },
  {
   "cell_type": "code",
   "execution_count": 7,
   "outputs": [
    {
     "data": {
      "text/plain": "<Figure size 432x288 with 1 Axes>",
      "image/png": "[encoded data removed]"
     },
     "metadata": {
      "needs_background": "light"
     },
     "output_type": "display_data"
    }
   ],
   "source": [
    "# Easy Linear Regression : x = kWh y = kBtu\n",
    "plt.plot(data[\"Electricity(kWh)\"], data[\"Electricity(kBtu)\"], \"ro\", markersize=4)\n",
    "plt.show()"
   ],
   "metadata": {
    "collapsed": false,
    "pycharm": {
     "name": "#%%\n"
    }
   }
  },
  {
   "cell_type": "markdown",
   "source": [
    "### Manual Linear Regression"
   ],
   "metadata": {
    "collapsed": false,
    "pycharm": {
     "name": "#%% md\n"
    }
   }
  },
  {
   "cell_type": "code",
   "execution_count": 8,
   "outputs": [],
   "source": [
    "# Linear Regression \"manually\" / we transform the dataset into matrices to compute theta\n",
    "X = np.matrix([np.ones(data.shape[0]), data[\"Electricity(kWh)\"]]).T\n",
    "Y = np.matrix(data[\"Electricity(kBtu)\"]).T"
   ],
   "metadata": {
    "collapsed": false,
    "pycharm": {
     "name": "#%%\n"
    }
   }
  },
  {
   "cell_type": "code",
   "execution_count": 9,
   "outputs": [
    {
     "data": {
      "text/plain": "matrix([[       1.    ,  1156514.25  ],\n        [       1.    ,   950425.1875],\n        [       1.    , 14515435.    ],\n        [       1.    ,   811525.3125],\n        [       1.    ,  1573448.625 ],\n        [       1.    ,  2160443.75  ],\n        [       1.    ,   823919.875 ],\n        [       1.    ,  1065842.75  ],\n        [       1.    ,  2138897.75  ],\n        [       1.    ,   742091.1875]])"
     },
     "execution_count": 9,
     "metadata": {},
     "output_type": "execute_result"
    }
   ],
   "source": [
    "np.set_printoptions(suppress=True) # remove scientific notation\n",
    "X[:10]"
   ],
   "metadata": {
    "collapsed": false,
    "pycharm": {
     "name": "#%%\n"
    }
   }
  },
  {
   "cell_type": "code",
   "execution_count": 10,
   "outputs": [
    {
     "name": "stdout",
     "output_type": "stream",
     "text": [
      "[[0.00993694]\n",
      " [3.412     ]]\n",
      "34.1299369180409\n"
     ]
    }
   ],
   "source": [
    "# Computing the exact value of the parameter theta\n",
    "theta = np.linalg.inv(X.T.dot(X)).dot(X.T).dot(Y)\n",
    "\n",
    "# displaying theta with a = slope ; and b = y-intercept\n",
    "print(theta)\n",
    "\n",
    "# we test Y = aX + b for X = 10\n",
    "print(theta.item(0) + theta.item(1) * 10)"
   ],
   "metadata": {
    "collapsed": false,
    "pycharm": {
     "name": "#%%\n"
    }
   }
  },
  {
   "cell_type": "code",
   "execution_count": 11,
   "outputs": [
    {
     "data": {
      "text/plain": "<Figure size 432x288 with 1 Axes>",
      "image/png": "[encoded data removed]"
     },
     "metadata": {
      "needs_background": "light"
     },
     "output_type": "display_data"
    }
   ],
   "source": [
    "plt.xlabel(\"Electricity(kWh)\")\n",
    "plt.ylabel(\"Electricity(kBtu)\")\n",
    "\n",
    "x_min = 0\n",
    "x_max = 200000000\n",
    "y_min = theta.item(0)\n",
    "y_max = theta.item(0) + x_max * theta.item(1)\n",
    "\n",
    "plt.plot([x_min, x_max], [y_min, y_max], linestyle=\"--\", c=\"#000000\")\n",
    "plt.plot(data[\"Electricity(kWh)\"], data[\"Electricity(kBtu)\"], \"ro\", markersize=4)\n",
    "\n",
    "plt.show()"
   ],
   "metadata": {
    "collapsed": false,
    "pycharm": {
     "name": "#%%\n"
    }
   }
  },
  {
   "cell_type": "markdown",
   "source": [
    "### Automatic Linear Regression"
   ],
   "metadata": {
    "collapsed": false,
    "pycharm": {
     "name": "#%% md\n"
    }
   }
  },
  {
   "cell_type": "code",
   "execution_count": 12,
   "outputs": [],
   "source": [
    "# 0) Getting data and Sampling\n",
    "from sklearn.linear_model import LinearRegression\n",
    "\n",
    "X = data[\"Electricity(kWh)\"]\n",
    "y = data[\"Electricity(kBtu)\"] # target\n",
    "\n",
    "from sklearn.model_selection import train_test_split\n",
    "X_train, X_test, y_train, y_test = train_test_split(X, y, train_size=0.8)\n",
    "\n",
    "# reshape to get 2D array instead of 1D array.\n",
    "# values to get a numpy array instead of a pandas Series\n",
    "X_train = X_train.values.reshape(-1, 1)\n",
    "X_test = X_test.values.reshape(-1, 1)\n",
    "y_train = y_train.values.reshape(-1, 1)\n",
    "y_test = y_test.values.reshape(-1, 1)"
   ],
   "metadata": {
    "collapsed": false,
    "pycharm": {
     "name": "#%%\n"
    }
   }
  },
  {
   "cell_type": "code",
   "execution_count": 13,
   "outputs": [
    {
     "name": "stdout",
     "output_type": "stream",
     "text": [
      "Accuracy is :  0.9999999999999991\n"
     ]
    },
    {
     "data": {
      "text/plain": "array([[34.12880736]])"
     },
     "execution_count": 13,
     "metadata": {},
     "output_type": "execute_result"
    }
   ],
   "source": [
    "# 1) Training Linear Regression and Evaluating\n",
    "reg = LinearRegression().fit(X_train, y_train)\n",
    "prediction_score = reg.score(X_test, y_test)\n",
    "print(\"Accuracy is : \", prediction_score)\n",
    "\n",
    "# 2) Trying to predict a value\n",
    "reg.predict([[10]]) # if X = 10 kWh then Y = 34.12 kBtu ;)"
   ],
   "metadata": {
    "collapsed": false,
    "pycharm": {
     "name": "#%%\n"
    }
   }
  },
  {
   "cell_type": "raw",
   "source": [
    "reg.coef_\n",
    "\n",
    "reg.intercept_"
   ],
   "metadata": {
    "collapsed": false,
    "pycharm": {
     "name": "#%% raw\n"
    }
   }
  }
 ],
 "metadata": {
  "kernelspec": {
   "display_name": "Python 3",
   "language": "python",
   "name": "python3"
  },
  "language_info": {
   "codemirror_mode": {
    "name": "ipython",
    "version": 2
   },
   "file_extension": ".py",
   "mimetype": "text/x-python",
   "name": "python",
   "nbconvert_exporter": "python",
   "pygments_lexer": "ipython2",
   "version": "2.7.6"
  }
 },
 "nbformat": 4,
 "nbformat_minor": 0
}