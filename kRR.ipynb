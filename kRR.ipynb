{
 "cells": [
  {
   "cell_type": "code",
   "execution_count": null,
   "outputs": [],
   "source": [],
   "metadata": {
    "collapsed": false,
    "pycharm": {
     "name": "#%%\n"
    }
   }
  },
  {
   "cell_type": "code",
   "execution_count": null,
   "outputs": [],
   "source": [
    "# kRR\n",
    "# charger les données\n",
    "import pandas as pd\n",
    "data = pd.read_csv('winequality-white.csv', sep=';')\n",
    "\n",
    "# créer la matrice de données\n",
    "X = data[data.columns[:-1]].values\n",
    "\n",
    "# créer le vecteur d'étiquettes\n",
    "y = data['quality'].values\n",
    "\n",
    "# créer un jeu d'entrainement et un jeu de test (30% des données)\n",
    "from sklearn import model_selection\n",
    "X_train, X_test, y_train, y_test = model_selection.train_test_split(X, y, test_size=0.3)\n",
    "\n",
    "# standardiser les données\n",
    "from sklearn import preprocessing\n",
    "std_scale = preprocessing.StandardScaler().fit(X_train)\n",
    "X_train_std = std_scale.transform(X_train)\n",
    "X_test_std = std_scale.transform(X_test)"
   ],
   "metadata": {
    "collapsed": false,
    "pycharm": {
     "name": "#%%\n"
    }
   }
  },
  {
   "cell_type": "code",
   "execution_count": null,
   "outputs": [],
   "source": [],
   "metadata": {
    "collapsed": false,
    "pycharm": {
     "name": "#%%\n"
    }
   }
  },
  {
   "cell_type": "code",
   "execution_count": null,
   "outputs": [],
   "source": [
    "from sklearn import kernel_ridge\n",
    "predicteur = kernel_ridge.KernelRidge(\n",
    "    alpha=1.0, # valeur par défaut\n",
    "    kernel='rbf', # noyau Gaussien\n",
    "    gamma=0.01)   # valeur de 1/(2 * sigma**2)\n",
    "\n",
    "# entraîner le classifieur sur le jeu d'entrainement\n",
    "predicteur.fit(X_train_std, y_train)\n",
    "\n",
    "# prédire sur le jeu de test\n",
    "y_test_pred = predicteur.predict(X_test_std)\n",
    "\n",
    "# calculer la RMSE sur le jeu de test\n",
    "from sklearn import metrics\n",
    "rmse = np.sqrt(metrics.mean_squared_error(y_test, y_test_pred))\n",
    "print(\"RMSE: {:.2f}\".format(rmse))\n"
   ],
   "metadata": {
    "collapsed": false,
    "pycharm": {
     "name": "#%%\n"
    }
   }
  },
  {
   "cell_type": "code",
   "execution_count": null,
   "outputs": [],
   "source": [],
   "metadata": {
    "collapsed": false,
    "pycharm": {
     "name": "#%%\n"
    }
   }
  },
  {
   "cell_type": "code",
   "execution_count": null,
   "outputs": [],
   "source": [
    "# créer une figure\n",
    "fig = plt.figure(figsize=(6, 6))\n",
    "\n",
    "# Compter, pour chaque paire de valeurs (y, y') où y est un vrai score et y' le score prédit,\n",
    "# le nombre de ces paires.\n",
    "# Ce nombre sera utilisé pour modifier la taille des marqueurs correspondants\n",
    "# dans un nuage de points\n",
    "sizes = {}\n",
    "for (yt, yp) in zip(list(y_test), list(y_test_pred)):\n",
    "    if (yt, yp) in sizes.keys():\n",
    "        sizes[(yt, yp)] += 1\n",
    "    else:\n",
    "        sizes[(yt, yp)] = 1\n",
    "keys = sizes.keys()\n",
    "\n",
    "# afficher les prédictions\n",
    "plt.scatter([k[0] for k in keys],\n",
    "            [k[1] for k in keys],\n",
    "            s=[sizes[k] for k in keys],\n",
    "            label=\"gamma = 0.01: RMSE = {:.2f}\".format(rmse))\n",
    "\n",
    "# étiqueter les axes et le graphique\n",
    "plt.xlabel('Vrai score', fontsize=16)\n",
    "plt.ylabel(u'Score prédit', fontsize=16)\n",
    "plt.title('kernel Ridge Regression', fontsize=16)\n",
    "\n",
    "# limites des axes\n",
    "plt.xlim([2.9, 9.1])\n",
    "plt.ylim([2.9, 9.1])\n",
    "\n",
    "# afficher la légende\n",
    "plt.legend(loc=\"lower right\", fontsize=12)"
   ],
   "metadata": {
    "collapsed": false,
    "pycharm": {
     "name": "#%%\n"
    }
   }
  },
  {
   "cell_type": "code",
   "execution_count": null,
   "outputs": [],
   "source": [
    "# valeurs du paramètre C\n",
    "alpha_range = np.logspace(-2, 2, 5)\n",
    "\n",
    "# valeurs du paramètre gamma\n",
    "gamma_range = np.logspace(-2, 1, 4)\n",
    "\n",
    "# grille de paramètres\n",
    "param_grid = {'alpha': alpha_range, 'gamma': gamma_range}\n",
    "\n",
    "# score pour sélectionner le modèle optimal\n",
    "score = 'neg_mean_squared_error'\n",
    "\n",
    "# initialiser la validation croisée\n",
    "grid_pred = model_selection.GridSearchCV(\n",
    "    kernel_ridge.KernelRidge(kernel='rbf'),\n",
    "    param_grid,\n",
    "    cv=5,\n",
    "    scoring=score)\n",
    "\n",
    "# exécuter la validation croisée sur le jeu d'entraînement\n",
    "grid_pred.fit(X_train_std, y_train)\n",
    "\n",
    "# prédire sur le jeu de test avec le modèle sélectionné\n",
    "y_test_pred_cv = grid_pred.predict(X_test_std)\n",
    "\n",
    "# calculer la RMSE correspondante\n",
    "rmse_cv = np.sqrt(metrics.mean_squared_error(y_test, y_test_pred_cv))\n"
   ],
   "metadata": {
    "collapsed": false,
    "pycharm": {
     "name": "#%%\n"
    }
   }
  },
  {
   "cell_type": "raw",
   "source": [
    "# choisir 6 valeurs pour C, entre 1e-2 et 1e3\n",
    "C_range = np.logspace(-2, 3, 6)\n",
    "\n",
    "# choisir 4 valeurs pour gamma, entre 1e-2 et 10\n",
    "gamma_range = np.logspace(-2, 1, 4)\n",
    "\n",
    "# grille de paramètres\n",
    "param_grid = {'C': C_range, 'gamma': gamma_range}\n",
    "\n",
    "# critère de sélection du meilleur modèle\n",
    "score = 'roc_auc'\n",
    "\n",
    "# initialiser une recherche sur grille\n",
    "grid = model_selection.GridSearchCV(svm.SVC(kernel='rbf'),\n",
    "                                    param_grid,\n",
    "                                    cv=5,  # 5 folds de validation croisée\n",
    "                                    scoring=score)\n",
    "\n",
    "# faire tourner la recherche sur grille\n",
    "grid.fit(X_train_std, y_train)\n",
    "\n",
    "# afficher les paramètres optimaux\n",
    "print(\"The optimal parameters are {} with a score of {:.2f}\".format(grid.best_params_, grid.best_score_))"
   ],
   "metadata": {
    "collapsed": false,
    "pycharm": {
     "name": "#%% raw\n"
    }
   }
  },
  {
   "cell_type": "raw",
   "source": [
    "# prédire sur le jeu de test avec le modèle optimisé\n",
    "y_test_pred_cv = grid.decision_function(X_test_std)\n",
    "\n",
    "# construire la courbe ROC du modèle optimisé\n",
    "fpr_cv, tpr_cv, thr_cv = metrics.roc_curve(y_test, y_test_pred_cv)\n",
    "\n",
    "# calculer l'aire sous la courbe ROC du modèle optimisé\n",
    "auc_cv = metrics.auc(fpr_cv, tpr_cv)\n",
    "\n",
    "# créer une figure\n",
    "fig = plt.figure(figsize=(6, 6))\n",
    "\n",
    "# afficher la courbe ROC précédente\n",
    "plt.plot(fpr, tpr, '-', lw=2, label='gamma=0.01, AUC=%.2f' % auc)\n",
    "\n",
    "# afficher la courbe ROC du modèle optimisé\n",
    "plt.plot(fpr_cv, tpr_cv, '-', lw=2, label='gamma=%.1e, AUC=%.2f' %\n",
    "                                          (grid.best_params_['gamma'], auc_cv))\n",
    "\n",
    "\n",
    "# donner un titre aux axes et au graphique\n",
    "plt.xlabel('False Positive Rate', fontsize=16)\n",
    "plt.ylabel('True Positive Rate', fontsize=16)\n",
    "plt.title('SVM ROC Curve', fontsize=16)\n",
    "\n",
    "# afficher la légende\n",
    "plt.legend(loc=\"lower right\", fontsize=14)\n",
    "\n",
    "# afficher l'image\n",
    "plt.show()"
   ],
   "metadata": {
    "collapsed": false,
    "pycharm": {
     "name": "#%% raw\n"
    }
   }
  }
 ],
 "metadata": {
  "kernelspec": {
   "display_name": "Python 3",
   "language": "python",
   "name": "python3"
  },
  "language_info": {
   "codemirror_mode": {
    "name": "ipython",
    "version": 2
   },
   "file_extension": ".py",
   "mimetype": "text/x-python",
   "name": "python",
   "nbconvert_exporter": "python",
   "pygments_lexer": "ipython2",
   "version": "2.7.6"
  }
 },
 "nbformat": 4,
 "nbformat_minor": 0
}