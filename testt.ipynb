{
 "cells": [
  {
   "cell_type": "code",
   "execution_count": 35,
   "outputs": [
    {
     "data": {
      "application/javascript": "IPython.notebook.set_autosave_interval(300000)"
     },
     "metadata": {},
     "output_type": "display_data"
    },
    {
     "name": "stdout",
     "output_type": "stream",
     "text": [
      "Autosaving every 300 seconds\n"
     ]
    }
   ],
   "source": [
    "%reset -f\n",
    "\n",
    "import pandas as pd\n",
    "import pickle\n",
    "\n",
    "import warnings\n",
    "warnings.filterwarnings(action=\"ignore\")\n",
    "\n",
    "from exploration import *\n",
    "\n",
    "from sklearn. model_selection import train_test_split\n",
    "from sklearn.preprocessing import StandardScaler\n",
    "\n",
    "%matplotlib inline\n",
    "%autosave 300"
   ],
   "metadata": {
    "collapsed": false,
    "pycharm": {
     "name": "#%%\n"
    }
   }
  },
  {
   "cell_type": "code",
   "execution_count": 36,
   "outputs": [],
   "source": [
    "true = pd.read_csv(r\"C:\\Users\\oumei\\Documents\\OC_projets\\P4\\P4_Data_Science_OpenClassrooms\\dataset\\cleaned\\data_exploration.csv\")\n",
    "\n",
    "new = pd.read_csv(r\"C:\\Users\\oumei\\Documents\\OC_projets\\P4\\P4_Data_Science_OpenClassrooms\\dataset\\cleaned\\TESTdata_exploration.csv\")\n",
    "\n",
    "d = pd.concat([true, new]).drop_duplicates(keep=False)"
   ],
   "metadata": {
    "collapsed": false,
    "pycharm": {
     "name": "#%%\n"
    }
   }
  },
  {
   "cell_type": "code",
   "execution_count": 37,
   "outputs": [
    {
     "data": {
      "text/plain": "Empty DataFrame\nColumns: [Neighborhood, BuildingType, PrimaryPropertyType, ENERGYSTARScore, YearBuilt, Log-NumberofBuildings, Log-NumberofFloors, Log-PropertyGFATotal, Log-PropertyGFAParking, Log-SecondLargestPropertyUseTypeGFA, Log-ThirdLargestPropertyUseTypeGFA, Log-TotalEnergy(kBtu), Log-SteamUse(kBtu), Log-Electricity(kBtu), Log-NaturalGas(kBtu), Log-TotalGHGEmissions]\nIndex: []",
      "text/html": "<div>\n<style scoped>\n    .dataframe tbody tr th:only-of-type {\n        vertical-align: middle;\n    }\n\n    .dataframe tbody tr th {\n        vertical-align: top;\n    }\n\n    .dataframe thead th {\n        text-align: right;\n    }\n</style>\n<table border=\"1\" class=\"dataframe\">\n  <thead>\n    <tr style=\"text-align: right;\">\n      <th></th>\n      <th>Neighborhood</th>\n      <th>BuildingType</th>\n      <th>PrimaryPropertyType</th>\n      <th>ENERGYSTARScore</th>\n      <th>YearBuilt</th>\n      <th>Log-NumberofBuildings</th>\n      <th>Log-NumberofFloors</th>\n      <th>Log-PropertyGFATotal</th>\n      <th>Log-PropertyGFAParking</th>\n      <th>Log-SecondLargestPropertyUseTypeGFA</th>\n      <th>Log-ThirdLargestPropertyUseTypeGFA</th>\n      <th>Log-TotalEnergy(kBtu)</th>\n      <th>Log-SteamUse(kBtu)</th>\n      <th>Log-Electricity(kBtu)</th>\n      <th>Log-NaturalGas(kBtu)</th>\n      <th>Log-TotalGHGEmissions</th>\n    </tr>\n  </thead>\n  <tbody>\n  </tbody>\n</table>\n</div>"
     },
     "execution_count": 37,
     "metadata": {},
     "output_type": "execute_result"
    }
   ],
   "source": [
    "d"
   ],
   "metadata": {
    "collapsed": false,
    "pycharm": {
     "name": "#%%\n"
    }
   }
  }
 ],
 "metadata": {
  "kernelspec": {
   "display_name": "Python 3",
   "language": "python",
   "name": "python3"
  },
  "language_info": {
   "codemirror_mode": {
    "name": "ipython",
    "version": 2
   },
   "file_extension": ".py",
   "mimetype": "text/x-python",
   "name": "python",
   "nbconvert_exporter": "python",
   "pygments_lexer": "ipython2",
   "version": "2.7.6"
  }
 },
 "nbformat": 4,
 "nbformat_minor": 0
}