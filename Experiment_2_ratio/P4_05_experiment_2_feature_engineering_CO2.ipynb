{
 "cells": [
  {
   "cell_type": "markdown",
   "source": [
    "OpenClassrooms\n",
    "Project 4, Data Scientist\n",
    "Author : Oumeima EL GHARBI\n",
    "Date : August,September 2022"
   ],
   "metadata": {
    "collapsed": false,
    "pycharm": {
     "name": "#%% md\n"
    }
   }
  },
  {
   "cell_type": "markdown",
   "source": [
    "# Feature Engineering to predict Energies"
   ],
   "metadata": {
    "collapsed": false,
    "pycharm": {
     "name": "#%% md\n"
    }
   }
  },
  {
   "cell_type": "markdown",
   "source": [
    "### Introduction"
   ],
   "metadata": {
    "collapsed": false,
    "pycharm": {
     "name": "#%% md\n"
    }
   }
  },
  {
   "cell_type": "markdown",
   "source": [
    "#### Importing libraries"
   ],
   "metadata": {
    "collapsed": false,
    "pycharm": {
     "name": "#%% md\n"
    }
   }
  },
  {
   "cell_type": "code",
   "execution_count": 29,
   "outputs": [
    {
     "data": {
      "application/javascript": "IPython.notebook.set_autosave_interval(300000)"
     },
     "metadata": {},
     "output_type": "display_data"
    },
    {
     "name": "stdout",
     "output_type": "stream",
     "text": [
      "Autosaving every 300 seconds\n"
     ]
    }
   ],
   "source": [
    "%reset -f\n",
    "\n",
    "import pickle\n",
    "\n",
    "import warnings\n",
    "warnings.filterwarnings(action=\"ignore\")\n",
    "\n",
    "from exploration import *\n",
    "\n",
    "from sklearn. model_selection import train_test_split\n",
    "from sklearn.preprocessing import StandardScaler, OneHotEncoder\n",
    "\n",
    "%matplotlib inline\n",
    "%autosave 300"
   ],
   "metadata": {
    "collapsed": false,
    "pycharm": {
     "name": "#%%\n"
    }
   }
  },
  {
   "cell_type": "code",
   "execution_count": 30,
   "outputs": [
    {
     "name": "stdout",
     "output_type": "stream",
     "text": [
      "Seed value:  1\n"
     ]
    }
   ],
   "source": [
    "# Heure démarrage\n",
    "t0 = time()\n",
    "\n",
    "# seed pour les générateurs aléatoires\n",
    "seed = 1\n",
    "print(\"Seed value: \", seed)"
   ],
   "metadata": {
    "collapsed": false,
    "pycharm": {
     "name": "#%%\n"
    }
   }
  },
  {
   "cell_type": "code",
   "execution_count": 31,
   "outputs": [],
   "source": [
    "all_energy_dir = [\"electricity\", \"steam\", \"gas\", \"steam_gas\"]\n",
    "all_energy_names = [\"Ratio_Electricity\",\"Ratio_Steam\", \"Ratio_Gas\",  \"Ratio_Steam+Gas\"] #\"Log-TotalEnergy(kBtu)\"\n",
    "\n",
    "#all_energy_names = [\"Log-SteamUse(kBtu)\", \"Log-Electricity(kBtu)\", \"Log-NaturalGas(kBtu)\", \"Log-TotalEnergy(kBtu)\"]\n",
    "\n",
    "experiment_dir = \"./Experiment_2_ratio/\"\n",
    "path_energy = \"dataset/energy/\""
   ],
   "metadata": {
    "collapsed": false,
    "pycharm": {
     "name": "#%%\n"
    }
   }
  },
  {
   "cell_type": "markdown",
   "source": [
    "#### Loading dataset"
   ],
   "metadata": {
    "collapsed": false,
    "pycharm": {
     "name": "#%% md\n"
    }
   }
  },
  {
   "cell_type": "code",
   "execution_count": 32,
   "outputs": [],
   "source": [
    "#train_energy_file = experiment_dir + path_energy + \"train_energy.csv\"\n",
    "\n",
    "#test_energy_file = experiment_dir + path_energy + \"test_energy.csv\"\n",
    "\n",
    "train_energy_file = path_energy + \"train_energy.csv\"\n",
    "\n",
    "test_energy_file = path_energy + \"test_energy.csv\"\n",
    "\n",
    "train_energy = pd.read_csv(train_energy_file, sep=\",\")\n",
    "test_energy = pd.read_csv(test_energy_file, sep=\",\")\n",
    "\n",
    "dataset = pd.concat([train_energy, test_energy], ignore_index=True) # reindexation"
   ],
   "metadata": {
    "collapsed": false,
    "pycharm": {
     "name": "#%%\n"
    }
   }
  },
  {
   "cell_type": "code",
   "execution_count": 33,
   "outputs": [],
   "source": [
    "dataset_energy = dataset.iloc[:, :-7] # -6 for experiment 1"
   ],
   "metadata": {
    "collapsed": false,
    "pycharm": {
     "name": "#%%\n"
    }
   }
  },
  {
   "cell_type": "code",
   "execution_count": 34,
   "outputs": [
    {
     "data": {
      "text/plain": "(3147, 50)"
     },
     "execution_count": 34,
     "metadata": {},
     "output_type": "execute_result"
    }
   ],
   "source": [
    "dataset_energy.shape"
   ],
   "metadata": {
    "collapsed": false,
    "pycharm": {
     "name": "#%%\n"
    }
   }
  },
  {
   "cell_type": "code",
   "execution_count": 35,
   "outputs": [
    {
     "data": {
      "text/plain": "Index(['Neighborhood_Ballard', 'Neighborhood_Central', 'Neighborhood_Delridge',\n       'Neighborhood_Downtown', 'Neighborhood_East',\n       'Neighborhood_Greater duwamish', 'Neighborhood_Lake union',\n       'Neighborhood_Magnolia / queen anne', 'Neighborhood_North',\n       'Neighborhood_Northeast', 'Neighborhood_Northwest',\n       'Neighborhood_Southeast', 'Neighborhood_Southwest',\n       'BuildingType_Campus', 'BuildingType_Multifamily hr (10+)',\n       'BuildingType_Multifamily lr (1-4)',\n       'BuildingType_Multifamily mr (5-9)', 'BuildingType_Nonresidential',\n       'BuildingType_Nonresidential cos', 'BuildingType_Sps-district k-12',\n       'PrimaryPropertyType_Distribution center',\n       'PrimaryPropertyType_High-rise multifamily',\n       'PrimaryPropertyType_Hospital', 'PrimaryPropertyType_Hotel',\n       'PrimaryPropertyType_K-12 school', 'PrimaryPropertyType_Laboratory',\n       'PrimaryPropertyType_Large office',\n       'PrimaryPropertyType_Low-rise multifamily',\n       'PrimaryPropertyType_Medical office',\n       'PrimaryPropertyType_Mid-rise multifamily',\n       'PrimaryPropertyType_Mixed use property', 'PrimaryPropertyType_Other',\n       'PrimaryPropertyType_Refrigerated warehouse',\n       'PrimaryPropertyType_Residence hall', 'PrimaryPropertyType_Restaurant',\n       'PrimaryPropertyType_Retail store',\n       'PrimaryPropertyType_Self-storage facility',\n       'PrimaryPropertyType_Senior care community',\n       'PrimaryPropertyType_Small- and mid-sized office',\n       'PrimaryPropertyType_Supermarket / grocery store',\n       'PrimaryPropertyType_University', 'PrimaryPropertyType_Warehouse',\n       'PrimaryPropertyType_Worship facility', 'Log-NumberofFloors',\n       'Log-PropertyGFATotal', 'Log-PropertyGFABuilding(s)',\n       'Log-LargestPropertyUseTypeGFA', 'Log-SecondLargestPropertyUseTypeGFA',\n       'Log-ThirdLargestPropertyUseTypeGFA', 'YearBuilt'],\n      dtype='object')"
     },
     "execution_count": 35,
     "metadata": {},
     "output_type": "execute_result"
    }
   ],
   "source": [
    "dataset_energy.columns"
   ],
   "metadata": {
    "collapsed": false,
    "pycharm": {
     "name": "#%%\n"
    }
   }
  },
  {
   "cell_type": "code",
   "execution_count": 36,
   "outputs": [
    {
     "data": {
      "text/plain": "      Neighborhood_Ballard  Neighborhood_Central  Neighborhood_Delridge  \\\n0                      0.0                   0.0                    0.0   \n1                      0.0                   0.0                    0.0   \n2                      0.0                   0.0                    0.0   \n3                      0.0                   0.0                    0.0   \n4                      0.0                   0.0                    0.0   \n...                    ...                   ...                    ...   \n3142                   0.0                   0.0                    0.0   \n3143                   0.0                   0.0                    0.0   \n3144                   0.0                   0.0                    0.0   \n3145                   0.0                   0.0                    0.0   \n3146                   0.0                   0.0                    0.0   \n\n      Neighborhood_Downtown  Neighborhood_East  Neighborhood_Greater duwamish  \\\n0                       1.0                0.0                            0.0   \n1                       1.0                0.0                            0.0   \n2                       1.0                0.0                            0.0   \n3                       1.0                0.0                            0.0   \n4                       1.0                0.0                            0.0   \n...                     ...                ...                            ...   \n3142                    0.0                0.0                            0.0   \n3143                    0.0                1.0                            0.0   \n3144                    0.0                0.0                            0.0   \n3145                    0.0                0.0                            0.0   \n3146                    0.0                0.0                            0.0   \n\n      Neighborhood_Lake union  Neighborhood_Magnolia / queen anne  \\\n0                         0.0                                 0.0   \n1                         0.0                                 0.0   \n2                         0.0                                 0.0   \n3                         0.0                                 0.0   \n4                         0.0                                 0.0   \n...                       ...                                 ...   \n3142                      0.0                                 0.0   \n3143                      0.0                                 0.0   \n3144                      1.0                                 0.0   \n3145                      0.0                                 0.0   \n3146                      0.0                                 0.0   \n\n      Neighborhood_North  Neighborhood_Northeast  ...  \\\n0                    0.0                     0.0  ...   \n1                    0.0                     0.0  ...   \n2                    0.0                     0.0  ...   \n3                    0.0                     0.0  ...   \n4                    0.0                     0.0  ...   \n...                  ...                     ...  ...   \n3142                 0.0                     1.0  ...   \n3143                 0.0                     0.0  ...   \n3144                 0.0                     0.0  ...   \n3145                 0.0                     0.0  ...   \n3146                 0.0                     1.0  ...   \n\n      Log-SecondLargestPropertyUseTypeGFA  Log-ThirdLargestPropertyUseTypeGFA  \\\n0                               -0.923528                           -0.439239   \n1                                1.072892                            2.153810   \n2                               -0.923528                           -0.439239   \n3                               -0.923528                           -0.439239   \n4                               -0.923528                           -0.439239   \n...                                   ...                                 ...   \n3142                             1.527976                           -0.439239   \n3143                             0.944811                            1.780089   \n3144                             1.478762                            3.044854   \n3145                             1.298680                           -0.439239   \n3146                            -0.923528                           -0.439239   \n\n      YearBuilt  Ratio_Electricity  Ratio_Steam  Ratio_Gas  Ratio_Steam+Gas  \\\n0          1927           0.546060     0.277302   0.176638         0.453940   \n1          1996           0.386609     0.000000   0.613391         0.613391   \n2          1969           0.682307     0.297113   0.020579         0.317693   \n3          1999           0.609884     0.000000   0.390116         0.390116   \n4          1926           0.577418     0.361423   0.061159         0.422582   \n...         ...                ...          ...        ...              ...   \n3142       2015           0.472329     0.000000   0.527671         0.527671   \n3143       2015           1.000000     0.000000   0.000000         0.000000   \n3144       2015           0.600466     0.000000   0.399534         0.399534   \n3145       2015           0.559873     0.000000   0.440127         0.440127   \n3146       1962           1.000000     0.000000   0.000000         0.000000   \n\n      Ratio_Steam+Gas+Other  ENERGYSTARScore  Log-TotalGHGEmissions  \n0              4.539401e-01             60.0               5.525373  \n1              6.133909e-01             61.0               5.693261  \n2              3.176926e-01             43.0               7.645053  \n3              3.901160e-01              NaN               5.713106  \n4              4.225819e-01              NaN               5.404972  \n...                     ...              ...                    ...  \n3142           5.276708e-01            100.0               5.330397  \n3143           1.156743e-07             84.0               2.776954  \n3144           3.995342e-01              NaN               6.908815  \n3145           4.401271e-01            100.0               4.583947  \n3146           7.859610e-08              NaN               3.142858  \n\n[3147 rows x 57 columns]",
      "text/html": "<div>\n<style scoped>\n    .dataframe tbody tr th:only-of-type {\n        vertical-align: middle;\n    }\n\n    .dataframe tbody tr th {\n        vertical-align: top;\n    }\n\n    .dataframe thead th {\n        text-align: right;\n    }\n</style>\n<table border=\"1\" class=\"dataframe\">\n  <thead>\n    <tr style=\"text-align: right;\">\n      <th></th>\n      <th>Neighborhood_Ballard</th>\n      <th>Neighborhood_Central</th>\n      <th>Neighborhood_Delridge</th>\n      <th>Neighborhood_Downtown</th>\n      <th>Neighborhood_East</th>\n      <th>Neighborhood_Greater duwamish</th>\n      <th>Neighborhood_Lake union</th>\n      <th>Neighborhood_Magnolia / queen anne</th>\n      <th>Neighborhood_North</th>\n      <th>Neighborhood_Northeast</th>\n      <th>...</th>\n      <th>Log-SecondLargestPropertyUseTypeGFA</th>\n      <th>Log-ThirdLargestPropertyUseTypeGFA</th>\n      <th>YearBuilt</th>\n      <th>Ratio_Electricity</th>\n      <th>Ratio_Steam</th>\n      <th>Ratio_Gas</th>\n      <th>Ratio_Steam+Gas</th>\n      <th>Ratio_Steam+Gas+Other</th>\n      <th>ENERGYSTARScore</th>\n      <th>Log-TotalGHGEmissions</th>\n    </tr>\n  </thead>\n  <tbody>\n    <tr>\n      <th>0</th>\n      <td>0.0</td>\n      <td>0.0</td>\n      <td>0.0</td>\n      <td>1.0</td>\n      <td>0.0</td>\n      <td>0.0</td>\n      <td>0.0</td>\n      <td>0.0</td>\n      <td>0.0</td>\n      <td>0.0</td>\n      <td>...</td>\n      <td>-0.923528</td>\n      <td>-0.439239</td>\n      <td>1927</td>\n      <td>0.546060</td>\n      <td>0.277302</td>\n      <td>0.176638</td>\n      <td>0.453940</td>\n      <td>4.539401e-01</td>\n      <td>60.0</td>\n      <td>5.525373</td>\n    </tr>\n    <tr>\n      <th>1</th>\n      <td>0.0</td>\n      <td>0.0</td>\n      <td>0.0</td>\n      <td>1.0</td>\n      <td>0.0</td>\n      <td>0.0</td>\n      <td>0.0</td>\n      <td>0.0</td>\n      <td>0.0</td>\n      <td>0.0</td>\n      <td>...</td>\n      <td>1.072892</td>\n      <td>2.153810</td>\n      <td>1996</td>\n      <td>0.386609</td>\n      <td>0.000000</td>\n      <td>0.613391</td>\n      <td>0.613391</td>\n      <td>6.133909e-01</td>\n      <td>61.0</td>\n      <td>5.693261</td>\n    </tr>\n    <tr>\n      <th>2</th>\n      <td>0.0</td>\n      <td>0.0</td>\n      <td>0.0</td>\n      <td>1.0</td>\n      <td>0.0</td>\n      <td>0.0</td>\n      <td>0.0</td>\n      <td>0.0</td>\n      <td>0.0</td>\n      <td>0.0</td>\n      <td>...</td>\n      <td>-0.923528</td>\n      <td>-0.439239</td>\n      <td>1969</td>\n      <td>0.682307</td>\n      <td>0.297113</td>\n      <td>0.020579</td>\n      <td>0.317693</td>\n      <td>3.176926e-01</td>\n      <td>43.0</td>\n      <td>7.645053</td>\n    </tr>\n    <tr>\n      <th>3</th>\n      <td>0.0</td>\n      <td>0.0</td>\n      <td>0.0</td>\n      <td>1.0</td>\n      <td>0.0</td>\n      <td>0.0</td>\n      <td>0.0</td>\n      <td>0.0</td>\n      <td>0.0</td>\n      <td>0.0</td>\n      <td>...</td>\n      <td>-0.923528</td>\n      <td>-0.439239</td>\n      <td>1999</td>\n      <td>0.609884</td>\n      <td>0.000000</td>\n      <td>0.390116</td>\n      <td>0.390116</td>\n      <td>3.901160e-01</td>\n      <td>NaN</td>\n      <td>5.713106</td>\n    </tr>\n    <tr>\n      <th>4</th>\n      <td>0.0</td>\n      <td>0.0</td>\n      <td>0.0</td>\n      <td>1.0</td>\n      <td>0.0</td>\n      <td>0.0</td>\n      <td>0.0</td>\n      <td>0.0</td>\n      <td>0.0</td>\n      <td>0.0</td>\n      <td>...</td>\n      <td>-0.923528</td>\n      <td>-0.439239</td>\n      <td>1926</td>\n      <td>0.577418</td>\n      <td>0.361423</td>\n      <td>0.061159</td>\n      <td>0.422582</td>\n      <td>4.225819e-01</td>\n      <td>NaN</td>\n      <td>5.404972</td>\n    </tr>\n    <tr>\n      <th>...</th>\n      <td>...</td>\n      <td>...</td>\n      <td>...</td>\n      <td>...</td>\n      <td>...</td>\n      <td>...</td>\n      <td>...</td>\n      <td>...</td>\n      <td>...</td>\n      <td>...</td>\n      <td>...</td>\n      <td>...</td>\n      <td>...</td>\n      <td>...</td>\n      <td>...</td>\n      <td>...</td>\n      <td>...</td>\n      <td>...</td>\n      <td>...</td>\n      <td>...</td>\n      <td>...</td>\n    </tr>\n    <tr>\n      <th>3142</th>\n      <td>0.0</td>\n      <td>0.0</td>\n      <td>0.0</td>\n      <td>0.0</td>\n      <td>0.0</td>\n      <td>0.0</td>\n      <td>0.0</td>\n      <td>0.0</td>\n      <td>0.0</td>\n      <td>1.0</td>\n      <td>...</td>\n      <td>1.527976</td>\n      <td>-0.439239</td>\n      <td>2015</td>\n      <td>0.472329</td>\n      <td>0.000000</td>\n      <td>0.527671</td>\n      <td>0.527671</td>\n      <td>5.276708e-01</td>\n      <td>100.0</td>\n      <td>5.330397</td>\n    </tr>\n    <tr>\n      <th>3143</th>\n      <td>0.0</td>\n      <td>0.0</td>\n      <td>0.0</td>\n      <td>0.0</td>\n      <td>1.0</td>\n      <td>0.0</td>\n      <td>0.0</td>\n      <td>0.0</td>\n      <td>0.0</td>\n      <td>0.0</td>\n      <td>...</td>\n      <td>0.944811</td>\n      <td>1.780089</td>\n      <td>2015</td>\n      <td>1.000000</td>\n      <td>0.000000</td>\n      <td>0.000000</td>\n      <td>0.000000</td>\n      <td>1.156743e-07</td>\n      <td>84.0</td>\n      <td>2.776954</td>\n    </tr>\n    <tr>\n      <th>3144</th>\n      <td>0.0</td>\n      <td>0.0</td>\n      <td>0.0</td>\n      <td>0.0</td>\n      <td>0.0</td>\n      <td>0.0</td>\n      <td>1.0</td>\n      <td>0.0</td>\n      <td>0.0</td>\n      <td>0.0</td>\n      <td>...</td>\n      <td>1.478762</td>\n      <td>3.044854</td>\n      <td>2015</td>\n      <td>0.600466</td>\n      <td>0.000000</td>\n      <td>0.399534</td>\n      <td>0.399534</td>\n      <td>3.995342e-01</td>\n      <td>NaN</td>\n      <td>6.908815</td>\n    </tr>\n    <tr>\n      <th>3145</th>\n      <td>0.0</td>\n      <td>0.0</td>\n      <td>0.0</td>\n      <td>0.0</td>\n      <td>0.0</td>\n      <td>0.0</td>\n      <td>0.0</td>\n      <td>0.0</td>\n      <td>0.0</td>\n      <td>0.0</td>\n      <td>...</td>\n      <td>1.298680</td>\n      <td>-0.439239</td>\n      <td>2015</td>\n      <td>0.559873</td>\n      <td>0.000000</td>\n      <td>0.440127</td>\n      <td>0.440127</td>\n      <td>4.401271e-01</td>\n      <td>100.0</td>\n      <td>4.583947</td>\n    </tr>\n    <tr>\n      <th>3146</th>\n      <td>0.0</td>\n      <td>0.0</td>\n      <td>0.0</td>\n      <td>0.0</td>\n      <td>0.0</td>\n      <td>0.0</td>\n      <td>0.0</td>\n      <td>0.0</td>\n      <td>0.0</td>\n      <td>1.0</td>\n      <td>...</td>\n      <td>-0.923528</td>\n      <td>-0.439239</td>\n      <td>1962</td>\n      <td>1.000000</td>\n      <td>0.000000</td>\n      <td>0.000000</td>\n      <td>0.000000</td>\n      <td>7.859610e-08</td>\n      <td>NaN</td>\n      <td>3.142858</td>\n    </tr>\n  </tbody>\n</table>\n<p>3147 rows × 57 columns</p>\n</div>"
     },
     "execution_count": 36,
     "metadata": {},
     "output_type": "execute_result"
    }
   ],
   "source": [
    "dataset"
   ],
   "metadata": {
    "collapsed": false,
    "pycharm": {
     "name": "#%%\n"
    }
   }
  },
  {
   "cell_type": "markdown",
   "source": [
    "### 1) Predict each energy"
   ],
   "metadata": {
    "collapsed": false,
    "pycharm": {
     "name": "#%% md\n"
    }
   }
  },
  {
   "cell_type": "code",
   "execution_count": 37,
   "outputs": [
    {
     "name": "stdout",
     "output_type": "stream",
     "text": [
      "Step : 0 electricity\n",
      "Step : 1 steam\n",
      "Step : 2 gas\n",
      "Step : 3 steam_gas\n"
     ]
    },
    {
     "data": {
      "text/plain": "      Ratio_Electricity  Ratio_Steam  Ratio_Gas  Ratio_Steam+Gas\n0              0.546002     0.277190   0.198674         0.472914\n1              0.513258     0.045499   0.445521         0.501814\n2              0.581044     0.216133   0.202555         0.405701\n3              0.676572     0.005698   0.295001         0.330792\n4              0.653771     0.203643   0.191364         0.340176\n...                 ...          ...        ...              ...\n3142           0.704852     0.000979   0.247629         0.297068\n3143           0.753962     0.002626   0.264936         0.247165\n3144           0.703051     0.002689   0.288172         0.280553\n3145           0.692616     0.000979   0.314655         0.311241\n3146           0.641443     0.002767   0.370475         0.346594\n\n[3147 rows x 4 columns]",
      "text/html": "<div>\n<style scoped>\n    .dataframe tbody tr th:only-of-type {\n        vertical-align: middle;\n    }\n\n    .dataframe tbody tr th {\n        vertical-align: top;\n    }\n\n    .dataframe thead th {\n        text-align: right;\n    }\n</style>\n<table border=\"1\" class=\"dataframe\">\n  <thead>\n    <tr style=\"text-align: right;\">\n      <th></th>\n      <th>Ratio_Electricity</th>\n      <th>Ratio_Steam</th>\n      <th>Ratio_Gas</th>\n      <th>Ratio_Steam+Gas</th>\n    </tr>\n  </thead>\n  <tbody>\n    <tr>\n      <th>0</th>\n      <td>0.546002</td>\n      <td>0.277190</td>\n      <td>0.198674</td>\n      <td>0.472914</td>\n    </tr>\n    <tr>\n      <th>1</th>\n      <td>0.513258</td>\n      <td>0.045499</td>\n      <td>0.445521</td>\n      <td>0.501814</td>\n    </tr>\n    <tr>\n      <th>2</th>\n      <td>0.581044</td>\n      <td>0.216133</td>\n      <td>0.202555</td>\n      <td>0.405701</td>\n    </tr>\n    <tr>\n      <th>3</th>\n      <td>0.676572</td>\n      <td>0.005698</td>\n      <td>0.295001</td>\n      <td>0.330792</td>\n    </tr>\n    <tr>\n      <th>4</th>\n      <td>0.653771</td>\n      <td>0.203643</td>\n      <td>0.191364</td>\n      <td>0.340176</td>\n    </tr>\n    <tr>\n      <th>...</th>\n      <td>...</td>\n      <td>...</td>\n      <td>...</td>\n      <td>...</td>\n    </tr>\n    <tr>\n      <th>3142</th>\n      <td>0.704852</td>\n      <td>0.000979</td>\n      <td>0.247629</td>\n      <td>0.297068</td>\n    </tr>\n    <tr>\n      <th>3143</th>\n      <td>0.753962</td>\n      <td>0.002626</td>\n      <td>0.264936</td>\n      <td>0.247165</td>\n    </tr>\n    <tr>\n      <th>3144</th>\n      <td>0.703051</td>\n      <td>0.002689</td>\n      <td>0.288172</td>\n      <td>0.280553</td>\n    </tr>\n    <tr>\n      <th>3145</th>\n      <td>0.692616</td>\n      <td>0.000979</td>\n      <td>0.314655</td>\n      <td>0.311241</td>\n    </tr>\n    <tr>\n      <th>3146</th>\n      <td>0.641443</td>\n      <td>0.002767</td>\n      <td>0.370475</td>\n      <td>0.346594</td>\n    </tr>\n  </tbody>\n</table>\n<p>3147 rows × 4 columns</p>\n</div>"
     },
     "metadata": {},
     "output_type": "display_data"
    }
   ],
   "source": [
    "\n",
    "def predict_energies(df_energy, list_energy_dir):\n",
    "    \"\"\"\n",
    "\n",
    "    \"\"\"\n",
    "    for index, energy_dir in enumerate(list_energy_dir):\n",
    "\n",
    "        # we load each best model for each energy features\n",
    "        filename = 'model/{}/best_model_{}.sav'.format(energy_dir, energy_dir)\n",
    "        best_model_energy = pickle.load(open(filename, 'rb'))\n",
    "\n",
    "        y_pred_energy = best_model_energy.predict(df_energy)\n",
    "        series_y_pred = pd.Series(y_pred_energy)\n",
    "        # we put into one Series the prediction of the train set and test set\n",
    "        df_pred = pd.DataFrame(series_y_pred, columns=[all_energy_names[index]])\n",
    "\n",
    "        print(\"Step :\", index, energy_dir)\n",
    "        #display(df_pred) # OK\n",
    "\n",
    "        if index == 0:\n",
    "            df_energy_after = pd.DataFrame({})\n",
    "        df_energy_after = pd.concat([df_energy_after, df_pred], axis=1)\n",
    "\n",
    "    display(df_energy_after)\n",
    "    return df_energy_after\n",
    "\n",
    "dataset_predicted_energies = predict_energies(dataset_energy, all_energy_dir)"
   ],
   "metadata": {
    "collapsed": false,
    "pycharm": {
     "name": "#%%\n"
    }
   }
  },
  {
   "cell_type": "code",
   "execution_count": 38,
   "outputs": [],
   "source": [
    "#dataset[\"Log-TotalGHGEmissions\"].index.unique()"
   ],
   "metadata": {
    "collapsed": false,
    "pycharm": {
     "name": "#%%\n"
    }
   }
  },
  {
   "cell_type": "code",
   "execution_count": 39,
   "outputs": [],
   "source": [
    "#dataset_predicted_energies.index"
   ],
   "metadata": {
    "collapsed": false,
    "pycharm": {
     "name": "#%%\n"
    }
   }
  },
  {
   "cell_type": "code",
   "execution_count": 40,
   "outputs": [
    {
     "data": {
      "text/plain": "      Ratio_Electricity  Ratio_Steam  Ratio_Gas  Ratio_Steam+Gas  \\\n0              0.546002     0.277190   0.198674         0.472914   \n1              0.513258     0.045499   0.445521         0.501814   \n2              0.581044     0.216133   0.202555         0.405701   \n3              0.676572     0.005698   0.295001         0.330792   \n4              0.653771     0.203643   0.191364         0.340176   \n...                 ...          ...        ...              ...   \n3142           0.704852     0.000979   0.247629         0.297068   \n3143           0.753962     0.002626   0.264936         0.247165   \n3144           0.703051     0.002689   0.288172         0.280553   \n3145           0.692616     0.000979   0.314655         0.311241   \n3146           0.641443     0.002767   0.370475         0.346594   \n\n      Log-TotalGHGEmissions  ENERGYSTARScore  \n0                  5.525373             60.0  \n1                  5.693261             61.0  \n2                  7.645053             43.0  \n3                  5.713106              NaN  \n4                  5.404972              NaN  \n...                     ...              ...  \n3142               5.330397            100.0  \n3143               2.776954             84.0  \n3144               6.908815              NaN  \n3145               4.583947            100.0  \n3146               3.142858              NaN  \n\n[3147 rows x 6 columns]",
      "text/html": "<div>\n<style scoped>\n    .dataframe tbody tr th:only-of-type {\n        vertical-align: middle;\n    }\n\n    .dataframe tbody tr th {\n        vertical-align: top;\n    }\n\n    .dataframe thead th {\n        text-align: right;\n    }\n</style>\n<table border=\"1\" class=\"dataframe\">\n  <thead>\n    <tr style=\"text-align: right;\">\n      <th></th>\n      <th>Ratio_Electricity</th>\n      <th>Ratio_Steam</th>\n      <th>Ratio_Gas</th>\n      <th>Ratio_Steam+Gas</th>\n      <th>Log-TotalGHGEmissions</th>\n      <th>ENERGYSTARScore</th>\n    </tr>\n  </thead>\n  <tbody>\n    <tr>\n      <th>0</th>\n      <td>0.546002</td>\n      <td>0.277190</td>\n      <td>0.198674</td>\n      <td>0.472914</td>\n      <td>5.525373</td>\n      <td>60.0</td>\n    </tr>\n    <tr>\n      <th>1</th>\n      <td>0.513258</td>\n      <td>0.045499</td>\n      <td>0.445521</td>\n      <td>0.501814</td>\n      <td>5.693261</td>\n      <td>61.0</td>\n    </tr>\n    <tr>\n      <th>2</th>\n      <td>0.581044</td>\n      <td>0.216133</td>\n      <td>0.202555</td>\n      <td>0.405701</td>\n      <td>7.645053</td>\n      <td>43.0</td>\n    </tr>\n    <tr>\n      <th>3</th>\n      <td>0.676572</td>\n      <td>0.005698</td>\n      <td>0.295001</td>\n      <td>0.330792</td>\n      <td>5.713106</td>\n      <td>NaN</td>\n    </tr>\n    <tr>\n      <th>4</th>\n      <td>0.653771</td>\n      <td>0.203643</td>\n      <td>0.191364</td>\n      <td>0.340176</td>\n      <td>5.404972</td>\n      <td>NaN</td>\n    </tr>\n    <tr>\n      <th>...</th>\n      <td>...</td>\n      <td>...</td>\n      <td>...</td>\n      <td>...</td>\n      <td>...</td>\n      <td>...</td>\n    </tr>\n    <tr>\n      <th>3142</th>\n      <td>0.704852</td>\n      <td>0.000979</td>\n      <td>0.247629</td>\n      <td>0.297068</td>\n      <td>5.330397</td>\n      <td>100.0</td>\n    </tr>\n    <tr>\n      <th>3143</th>\n      <td>0.753962</td>\n      <td>0.002626</td>\n      <td>0.264936</td>\n      <td>0.247165</td>\n      <td>2.776954</td>\n      <td>84.0</td>\n    </tr>\n    <tr>\n      <th>3144</th>\n      <td>0.703051</td>\n      <td>0.002689</td>\n      <td>0.288172</td>\n      <td>0.280553</td>\n      <td>6.908815</td>\n      <td>NaN</td>\n    </tr>\n    <tr>\n      <th>3145</th>\n      <td>0.692616</td>\n      <td>0.000979</td>\n      <td>0.314655</td>\n      <td>0.311241</td>\n      <td>4.583947</td>\n      <td>100.0</td>\n    </tr>\n    <tr>\n      <th>3146</th>\n      <td>0.641443</td>\n      <td>0.002767</td>\n      <td>0.370475</td>\n      <td>0.346594</td>\n      <td>3.142858</td>\n      <td>NaN</td>\n    </tr>\n  </tbody>\n</table>\n<p>3147 rows × 6 columns</p>\n</div>"
     },
     "metadata": {},
     "output_type": "display_data"
    }
   ],
   "source": [
    "dataset_CO2 = pd.concat([dataset_predicted_energies, dataset[\"Log-TotalGHGEmissions\"], dataset[\"ENERGYSTARScore\"]], axis=1)\n",
    "\n",
    "display(dataset_CO2)"
   ],
   "metadata": {
    "collapsed": false,
    "pycharm": {
     "name": "#%%\n"
    }
   }
  },
  {
   "cell_type": "markdown",
   "source": [
    "### 2) Preparing dataset CO2 without ENERGYSTARScore"
   ],
   "metadata": {
    "collapsed": false,
    "pycharm": {
     "name": "#%% md\n"
    }
   }
  },
  {
   "cell_type": "markdown",
   "source": [
    "#### 1) Selection of features"
   ],
   "metadata": {
    "collapsed": false,
    "pycharm": {
     "name": "#%% md\n"
    }
   }
  },
  {
   "cell_type": "code",
   "execution_count": 41,
   "outputs": [
    {
     "data": {
      "text/plain": "['Ratio_Electricity',\n 'Ratio_Steam',\n 'Ratio_Gas',\n 'Ratio_Steam+Gas',\n 'Log-TotalGHGEmissions']"
     },
     "execution_count": 41,
     "metadata": {},
     "output_type": "execute_result"
    }
   ],
   "source": [
    "# liste des variables et étiquettes\n",
    "model_CO2_target = ['Log-TotalGHGEmissions']\n",
    "model_CO2_features = dataset_CO2.columns.tolist()[:-2]\n",
    "#model_CO2_features = ['Log-SteamUse(kBtu)', 'Log-Electricity(kBtu)', 'Log-NaturalGas(kBtu)', 'Log-TotalEnergy(kBtu)']\n",
    "model_CO2 = model_CO2_features + model_CO2_target\n",
    "\n",
    "model_CO2"
   ],
   "metadata": {
    "collapsed": false,
    "pycharm": {
     "name": "#%%\n"
    }
   }
  },
  {
   "cell_type": "markdown",
   "source": [
    "#### 2) Separation train and test dataset\n"
   ],
   "metadata": {
    "collapsed": false,
    "pycharm": {
     "name": "#%% md\n"
    }
   }
  },
  {
   "cell_type": "code",
   "execution_count": 42,
   "outputs": [
    {
     "data": {
      "text/plain": "      Ratio_Electricity  Ratio_Steam  Ratio_Gas  Ratio_Steam+Gas  \\\n1008           0.854342     0.001442   0.171921         0.137230   \n1784           0.390878     0.002786   0.555777         0.623363   \n1563           0.944326     0.001442   0.058196         0.052989   \n452            0.791006     0.016417   0.160123         0.198429   \n1561           0.958737     0.001442   0.049718         0.031791   \n...                 ...          ...        ...              ...   \n2763           0.748376     0.002767   0.355986         0.261885   \n905            0.684290     0.001442   0.268090         0.317799   \n1096           0.368116     0.002767   0.622640         0.623057   \n235            0.722768     0.003732   0.281762         0.287231   \n1061           0.819290     0.016417   0.251842         0.189934   \n\n      Log-TotalGHGEmissions  ENERGYSTARScore  \n1008               1.865629             60.0  \n1784               3.089223             90.0  \n1563               2.585506             98.0  \n452                3.421653              NaN  \n1561               1.536867             82.0  \n...                     ...              ...  \n2763               3.639689             47.0  \n905                1.291984             53.0  \n1096               3.507058             63.0  \n235                4.321613              NaN  \n1061               2.214846              NaN  \n\n[2202 rows x 6 columns]",
      "text/html": "<div>\n<style scoped>\n    .dataframe tbody tr th:only-of-type {\n        vertical-align: middle;\n    }\n\n    .dataframe tbody tr th {\n        vertical-align: top;\n    }\n\n    .dataframe thead th {\n        text-align: right;\n    }\n</style>\n<table border=\"1\" class=\"dataframe\">\n  <thead>\n    <tr style=\"text-align: right;\">\n      <th></th>\n      <th>Ratio_Electricity</th>\n      <th>Ratio_Steam</th>\n      <th>Ratio_Gas</th>\n      <th>Ratio_Steam+Gas</th>\n      <th>Log-TotalGHGEmissions</th>\n      <th>ENERGYSTARScore</th>\n    </tr>\n  </thead>\n  <tbody>\n    <tr>\n      <th>1008</th>\n      <td>0.854342</td>\n      <td>0.001442</td>\n      <td>0.171921</td>\n      <td>0.137230</td>\n      <td>1.865629</td>\n      <td>60.0</td>\n    </tr>\n    <tr>\n      <th>1784</th>\n      <td>0.390878</td>\n      <td>0.002786</td>\n      <td>0.555777</td>\n      <td>0.623363</td>\n      <td>3.089223</td>\n      <td>90.0</td>\n    </tr>\n    <tr>\n      <th>1563</th>\n      <td>0.944326</td>\n      <td>0.001442</td>\n      <td>0.058196</td>\n      <td>0.052989</td>\n      <td>2.585506</td>\n      <td>98.0</td>\n    </tr>\n    <tr>\n      <th>452</th>\n      <td>0.791006</td>\n      <td>0.016417</td>\n      <td>0.160123</td>\n      <td>0.198429</td>\n      <td>3.421653</td>\n      <td>NaN</td>\n    </tr>\n    <tr>\n      <th>1561</th>\n      <td>0.958737</td>\n      <td>0.001442</td>\n      <td>0.049718</td>\n      <td>0.031791</td>\n      <td>1.536867</td>\n      <td>82.0</td>\n    </tr>\n    <tr>\n      <th>...</th>\n      <td>...</td>\n      <td>...</td>\n      <td>...</td>\n      <td>...</td>\n      <td>...</td>\n      <td>...</td>\n    </tr>\n    <tr>\n      <th>2763</th>\n      <td>0.748376</td>\n      <td>0.002767</td>\n      <td>0.355986</td>\n      <td>0.261885</td>\n      <td>3.639689</td>\n      <td>47.0</td>\n    </tr>\n    <tr>\n      <th>905</th>\n      <td>0.684290</td>\n      <td>0.001442</td>\n      <td>0.268090</td>\n      <td>0.317799</td>\n      <td>1.291984</td>\n      <td>53.0</td>\n    </tr>\n    <tr>\n      <th>1096</th>\n      <td>0.368116</td>\n      <td>0.002767</td>\n      <td>0.622640</td>\n      <td>0.623057</td>\n      <td>3.507058</td>\n      <td>63.0</td>\n    </tr>\n    <tr>\n      <th>235</th>\n      <td>0.722768</td>\n      <td>0.003732</td>\n      <td>0.281762</td>\n      <td>0.287231</td>\n      <td>4.321613</td>\n      <td>NaN</td>\n    </tr>\n    <tr>\n      <th>1061</th>\n      <td>0.819290</td>\n      <td>0.016417</td>\n      <td>0.251842</td>\n      <td>0.189934</td>\n      <td>2.214846</td>\n      <td>NaN</td>\n    </tr>\n  </tbody>\n</table>\n<p>2202 rows × 6 columns</p>\n</div>"
     },
     "execution_count": 42,
     "metadata": {},
     "output_type": "execute_result"
    }
   ],
   "source": [
    "# We create a training set and a test set (the test set contains 30% of the dataset)\n",
    "train_common, test_common = train_test_split(dataset_CO2, test_size=0.3,  random_state=seed)\n",
    "\n",
    "train_common"
   ],
   "metadata": {
    "collapsed": false,
    "pycharm": {
     "name": "#%%\n"
    }
   }
  },
  {
   "cell_type": "code",
   "execution_count": 43,
   "outputs": [],
   "source": [
    "# Selection des variables pour modélisation CO2\n",
    "train_CO2, test_CO2 = train_common[model_CO2], test_common[model_CO2]"
   ],
   "metadata": {
    "collapsed": false,
    "pycharm": {
     "name": "#%%\n"
    }
   }
  },
  {
   "cell_type": "code",
   "execution_count": 44,
   "outputs": [
    {
     "data": {
      "text/plain": "      Ratio_Electricity  Ratio_Steam  Ratio_Gas  Ratio_Steam+Gas  \\\n1008           0.854342     0.001442   0.171921         0.137230   \n1784           0.390878     0.002786   0.555777         0.623363   \n1563           0.944326     0.001442   0.058196         0.052989   \n452            0.791006     0.016417   0.160123         0.198429   \n1561           0.958737     0.001442   0.049718         0.031791   \n...                 ...          ...        ...              ...   \n2763           0.748376     0.002767   0.355986         0.261885   \n905            0.684290     0.001442   0.268090         0.317799   \n1096           0.368116     0.002767   0.622640         0.623057   \n235            0.722768     0.003732   0.281762         0.287231   \n1061           0.819290     0.016417   0.251842         0.189934   \n\n      Log-TotalGHGEmissions  \n1008               1.865629  \n1784               3.089223  \n1563               2.585506  \n452                3.421653  \n1561               1.536867  \n...                     ...  \n2763               3.639689  \n905                1.291984  \n1096               3.507058  \n235                4.321613  \n1061               2.214846  \n\n[2202 rows x 5 columns]",
      "text/html": "<div>\n<style scoped>\n    .dataframe tbody tr th:only-of-type {\n        vertical-align: middle;\n    }\n\n    .dataframe tbody tr th {\n        vertical-align: top;\n    }\n\n    .dataframe thead th {\n        text-align: right;\n    }\n</style>\n<table border=\"1\" class=\"dataframe\">\n  <thead>\n    <tr style=\"text-align: right;\">\n      <th></th>\n      <th>Ratio_Electricity</th>\n      <th>Ratio_Steam</th>\n      <th>Ratio_Gas</th>\n      <th>Ratio_Steam+Gas</th>\n      <th>Log-TotalGHGEmissions</th>\n    </tr>\n  </thead>\n  <tbody>\n    <tr>\n      <th>1008</th>\n      <td>0.854342</td>\n      <td>0.001442</td>\n      <td>0.171921</td>\n      <td>0.137230</td>\n      <td>1.865629</td>\n    </tr>\n    <tr>\n      <th>1784</th>\n      <td>0.390878</td>\n      <td>0.002786</td>\n      <td>0.555777</td>\n      <td>0.623363</td>\n      <td>3.089223</td>\n    </tr>\n    <tr>\n      <th>1563</th>\n      <td>0.944326</td>\n      <td>0.001442</td>\n      <td>0.058196</td>\n      <td>0.052989</td>\n      <td>2.585506</td>\n    </tr>\n    <tr>\n      <th>452</th>\n      <td>0.791006</td>\n      <td>0.016417</td>\n      <td>0.160123</td>\n      <td>0.198429</td>\n      <td>3.421653</td>\n    </tr>\n    <tr>\n      <th>1561</th>\n      <td>0.958737</td>\n      <td>0.001442</td>\n      <td>0.049718</td>\n      <td>0.031791</td>\n      <td>1.536867</td>\n    </tr>\n    <tr>\n      <th>...</th>\n      <td>...</td>\n      <td>...</td>\n      <td>...</td>\n      <td>...</td>\n      <td>...</td>\n    </tr>\n    <tr>\n      <th>2763</th>\n      <td>0.748376</td>\n      <td>0.002767</td>\n      <td>0.355986</td>\n      <td>0.261885</td>\n      <td>3.639689</td>\n    </tr>\n    <tr>\n      <th>905</th>\n      <td>0.684290</td>\n      <td>0.001442</td>\n      <td>0.268090</td>\n      <td>0.317799</td>\n      <td>1.291984</td>\n    </tr>\n    <tr>\n      <th>1096</th>\n      <td>0.368116</td>\n      <td>0.002767</td>\n      <td>0.622640</td>\n      <td>0.623057</td>\n      <td>3.507058</td>\n    </tr>\n    <tr>\n      <th>235</th>\n      <td>0.722768</td>\n      <td>0.003732</td>\n      <td>0.281762</td>\n      <td>0.287231</td>\n      <td>4.321613</td>\n    </tr>\n    <tr>\n      <th>1061</th>\n      <td>0.819290</td>\n      <td>0.016417</td>\n      <td>0.251842</td>\n      <td>0.189934</td>\n      <td>2.214846</td>\n    </tr>\n  </tbody>\n</table>\n<p>2202 rows × 5 columns</p>\n</div>"
     },
     "execution_count": 44,
     "metadata": {},
     "output_type": "execute_result"
    }
   ],
   "source": [
    "train_CO2"
   ],
   "metadata": {
    "collapsed": false,
    "pycharm": {
     "name": "#%%\n"
    }
   }
  },
  {
   "cell_type": "markdown",
   "source": [
    "#### 3) Standardization of numerical variables"
   ],
   "metadata": {
    "collapsed": false,
    "pycharm": {
     "name": "#%% md\n"
    }
   }
  },
  {
   "cell_type": "code",
   "execution_count": 45,
   "outputs": [
    {
     "data": {
      "text/plain": "      Ratio_Electricity  Ratio_Steam  Ratio_Gas  Ratio_Steam+Gas\n1008           0.854342     0.001442   0.171921         0.137230\n1784           0.390878     0.002786   0.555777         0.623363\n1563           0.944326     0.001442   0.058196         0.052989\n452            0.791006     0.016417   0.160123         0.198429\n1561           0.958737     0.001442   0.049718         0.031791\n...                 ...          ...        ...              ...\n2763           0.748376     0.002767   0.355986         0.261885\n905            0.684290     0.001442   0.268090         0.317799\n1096           0.368116     0.002767   0.622640         0.623057\n235            0.722768     0.003732   0.281762         0.287231\n1061           0.819290     0.016417   0.251842         0.189934\n\n[2202 rows x 4 columns]",
      "text/html": "<div>\n<style scoped>\n    .dataframe tbody tr th:only-of-type {\n        vertical-align: middle;\n    }\n\n    .dataframe tbody tr th {\n        vertical-align: top;\n    }\n\n    .dataframe thead th {\n        text-align: right;\n    }\n</style>\n<table border=\"1\" class=\"dataframe\">\n  <thead>\n    <tr style=\"text-align: right;\">\n      <th></th>\n      <th>Ratio_Electricity</th>\n      <th>Ratio_Steam</th>\n      <th>Ratio_Gas</th>\n      <th>Ratio_Steam+Gas</th>\n    </tr>\n  </thead>\n  <tbody>\n    <tr>\n      <th>1008</th>\n      <td>0.854342</td>\n      <td>0.001442</td>\n      <td>0.171921</td>\n      <td>0.137230</td>\n    </tr>\n    <tr>\n      <th>1784</th>\n      <td>0.390878</td>\n      <td>0.002786</td>\n      <td>0.555777</td>\n      <td>0.623363</td>\n    </tr>\n    <tr>\n      <th>1563</th>\n      <td>0.944326</td>\n      <td>0.001442</td>\n      <td>0.058196</td>\n      <td>0.052989</td>\n    </tr>\n    <tr>\n      <th>452</th>\n      <td>0.791006</td>\n      <td>0.016417</td>\n      <td>0.160123</td>\n      <td>0.198429</td>\n    </tr>\n    <tr>\n      <th>1561</th>\n      <td>0.958737</td>\n      <td>0.001442</td>\n      <td>0.049718</td>\n      <td>0.031791</td>\n    </tr>\n    <tr>\n      <th>...</th>\n      <td>...</td>\n      <td>...</td>\n      <td>...</td>\n      <td>...</td>\n    </tr>\n    <tr>\n      <th>2763</th>\n      <td>0.748376</td>\n      <td>0.002767</td>\n      <td>0.355986</td>\n      <td>0.261885</td>\n    </tr>\n    <tr>\n      <th>905</th>\n      <td>0.684290</td>\n      <td>0.001442</td>\n      <td>0.268090</td>\n      <td>0.317799</td>\n    </tr>\n    <tr>\n      <th>1096</th>\n      <td>0.368116</td>\n      <td>0.002767</td>\n      <td>0.622640</td>\n      <td>0.623057</td>\n    </tr>\n    <tr>\n      <th>235</th>\n      <td>0.722768</td>\n      <td>0.003732</td>\n      <td>0.281762</td>\n      <td>0.287231</td>\n    </tr>\n    <tr>\n      <th>1061</th>\n      <td>0.819290</td>\n      <td>0.016417</td>\n      <td>0.251842</td>\n      <td>0.189934</td>\n    </tr>\n  </tbody>\n</table>\n<p>2202 rows × 4 columns</p>\n</div>"
     },
     "execution_count": 45,
     "metadata": {},
     "output_type": "execute_result"
    }
   ],
   "source": [
    "train_CO2[model_CO2_features]"
   ],
   "metadata": {
    "collapsed": false,
    "pycharm": {
     "name": "#%%\n"
    }
   }
  },
  {
   "cell_type": "code",
   "execution_count": 46,
   "outputs": [],
   "source": [
    "# We train / fit the scaler on the training set / Computes the mean and std to be used for later scaling.\n",
    "std_scaler_CO2 = StandardScaler().fit(train_CO2[model_CO2_features])\n",
    "# We transform the training set and the testing set / Performs standardization by centering and scaling.\n",
    "train_CO2_std, test_CO2_std = train_CO2.copy(), test_CO2.copy()\n",
    "\n",
    "train_CO2_std[model_CO2_features] = std_scaler_CO2.transform(train_CO2[model_CO2_features])\n",
    "test_CO2_std[model_CO2_features] = std_scaler_CO2.transform(test_CO2[model_CO2_features])"
   ],
   "metadata": {
    "collapsed": false,
    "pycharm": {
     "name": "#%%\n"
    }
   }
  },
  {
   "cell_type": "code",
   "execution_count": 47,
   "outputs": [
    {
     "name": "stdout",
     "output_type": "stream",
     "text": [
      "Before\n"
     ]
    },
    {
     "data": {
      "text/plain": "      Ratio_Electricity  Ratio_Steam  Ratio_Gas  Ratio_Steam+Gas  \\\n1008           0.854342     0.001442   0.171921         0.137230   \n1784           0.390878     0.002786   0.555777         0.623363   \n1563           0.944326     0.001442   0.058196         0.052989   \n452            0.791006     0.016417   0.160123         0.198429   \n1561           0.958737     0.001442   0.049718         0.031791   \n...                 ...          ...        ...              ...   \n2763           0.748376     0.002767   0.355986         0.261885   \n905            0.684290     0.001442   0.268090         0.317799   \n1096           0.368116     0.002767   0.622640         0.623057   \n235            0.722768     0.003732   0.281762         0.287231   \n1061           0.819290     0.016417   0.251842         0.189934   \n\n      Log-TotalGHGEmissions  \n1008               1.865629  \n1784               3.089223  \n1563               2.585506  \n452                3.421653  \n1561               1.536867  \n...                     ...  \n2763               3.639689  \n905                1.291984  \n1096               3.507058  \n235                4.321613  \n1061               2.214846  \n\n[2202 rows x 5 columns]",
      "text/html": "<div>\n<style scoped>\n    .dataframe tbody tr th:only-of-type {\n        vertical-align: middle;\n    }\n\n    .dataframe tbody tr th {\n        vertical-align: top;\n    }\n\n    .dataframe thead th {\n        text-align: right;\n    }\n</style>\n<table border=\"1\" class=\"dataframe\">\n  <thead>\n    <tr style=\"text-align: right;\">\n      <th></th>\n      <th>Ratio_Electricity</th>\n      <th>Ratio_Steam</th>\n      <th>Ratio_Gas</th>\n      <th>Ratio_Steam+Gas</th>\n      <th>Log-TotalGHGEmissions</th>\n    </tr>\n  </thead>\n  <tbody>\n    <tr>\n      <th>1008</th>\n      <td>0.854342</td>\n      <td>0.001442</td>\n      <td>0.171921</td>\n      <td>0.137230</td>\n      <td>1.865629</td>\n    </tr>\n    <tr>\n      <th>1784</th>\n      <td>0.390878</td>\n      <td>0.002786</td>\n      <td>0.555777</td>\n      <td>0.623363</td>\n      <td>3.089223</td>\n    </tr>\n    <tr>\n      <th>1563</th>\n      <td>0.944326</td>\n      <td>0.001442</td>\n      <td>0.058196</td>\n      <td>0.052989</td>\n      <td>2.585506</td>\n    </tr>\n    <tr>\n      <th>452</th>\n      <td>0.791006</td>\n      <td>0.016417</td>\n      <td>0.160123</td>\n      <td>0.198429</td>\n      <td>3.421653</td>\n    </tr>\n    <tr>\n      <th>1561</th>\n      <td>0.958737</td>\n      <td>0.001442</td>\n      <td>0.049718</td>\n      <td>0.031791</td>\n      <td>1.536867</td>\n    </tr>\n    <tr>\n      <th>...</th>\n      <td>...</td>\n      <td>...</td>\n      <td>...</td>\n      <td>...</td>\n      <td>...</td>\n    </tr>\n    <tr>\n      <th>2763</th>\n      <td>0.748376</td>\n      <td>0.002767</td>\n      <td>0.355986</td>\n      <td>0.261885</td>\n      <td>3.639689</td>\n    </tr>\n    <tr>\n      <th>905</th>\n      <td>0.684290</td>\n      <td>0.001442</td>\n      <td>0.268090</td>\n      <td>0.317799</td>\n      <td>1.291984</td>\n    </tr>\n    <tr>\n      <th>1096</th>\n      <td>0.368116</td>\n      <td>0.002767</td>\n      <td>0.622640</td>\n      <td>0.623057</td>\n      <td>3.507058</td>\n    </tr>\n    <tr>\n      <th>235</th>\n      <td>0.722768</td>\n      <td>0.003732</td>\n      <td>0.281762</td>\n      <td>0.287231</td>\n      <td>4.321613</td>\n    </tr>\n    <tr>\n      <th>1061</th>\n      <td>0.819290</td>\n      <td>0.016417</td>\n      <td>0.251842</td>\n      <td>0.189934</td>\n      <td>2.214846</td>\n    </tr>\n  </tbody>\n</table>\n<p>2202 rows × 5 columns</p>\n</div>"
     },
     "metadata": {},
     "output_type": "display_data"
    },
    {
     "name": "stdout",
     "output_type": "stream",
     "text": [
      "After\n"
     ]
    },
    {
     "data": {
      "text/plain": "      Ratio_Electricity  Ratio_Steam  Ratio_Gas  Ratio_Steam+Gas  \\\n1008           0.775627    -0.291490  -0.543152        -0.815812   \n1784          -2.168321    -0.254859   2.000406         2.230628   \n1563           1.347213    -0.291490  -1.296733        -1.343727   \n452            0.373317     0.116762  -0.621332        -0.432299   \n1561           1.438753    -0.291490  -1.352912        -1.476565   \n...                 ...          ...        ...              ...   \n2763           0.102524    -0.255376   0.676522        -0.034639   \n905           -0.304549    -0.291490   0.094098         0.315756   \n1096          -2.312906    -0.255376   2.443463         2.228710   \n235           -0.060136    -0.229079   0.184688         0.124193   \n1061           0.552979     0.116762  -0.013571        -0.485535   \n\n      Log-TotalGHGEmissions  \n1008               1.865629  \n1784               3.089223  \n1563               2.585506  \n452                3.421653  \n1561               1.536867  \n...                     ...  \n2763               3.639689  \n905                1.291984  \n1096               3.507058  \n235                4.321613  \n1061               2.214846  \n\n[2202 rows x 5 columns]",
      "text/html": "<div>\n<style scoped>\n    .dataframe tbody tr th:only-of-type {\n        vertical-align: middle;\n    }\n\n    .dataframe tbody tr th {\n        vertical-align: top;\n    }\n\n    .dataframe thead th {\n        text-align: right;\n    }\n</style>\n<table border=\"1\" class=\"dataframe\">\n  <thead>\n    <tr style=\"text-align: right;\">\n      <th></th>\n      <th>Ratio_Electricity</th>\n      <th>Ratio_Steam</th>\n      <th>Ratio_Gas</th>\n      <th>Ratio_Steam+Gas</th>\n      <th>Log-TotalGHGEmissions</th>\n    </tr>\n  </thead>\n  <tbody>\n    <tr>\n      <th>1008</th>\n      <td>0.775627</td>\n      <td>-0.291490</td>\n      <td>-0.543152</td>\n      <td>-0.815812</td>\n      <td>1.865629</td>\n    </tr>\n    <tr>\n      <th>1784</th>\n      <td>-2.168321</td>\n      <td>-0.254859</td>\n      <td>2.000406</td>\n      <td>2.230628</td>\n      <td>3.089223</td>\n    </tr>\n    <tr>\n      <th>1563</th>\n      <td>1.347213</td>\n      <td>-0.291490</td>\n      <td>-1.296733</td>\n      <td>-1.343727</td>\n      <td>2.585506</td>\n    </tr>\n    <tr>\n      <th>452</th>\n      <td>0.373317</td>\n      <td>0.116762</td>\n      <td>-0.621332</td>\n      <td>-0.432299</td>\n      <td>3.421653</td>\n    </tr>\n    <tr>\n      <th>1561</th>\n      <td>1.438753</td>\n      <td>-0.291490</td>\n      <td>-1.352912</td>\n      <td>-1.476565</td>\n      <td>1.536867</td>\n    </tr>\n    <tr>\n      <th>...</th>\n      <td>...</td>\n      <td>...</td>\n      <td>...</td>\n      <td>...</td>\n      <td>...</td>\n    </tr>\n    <tr>\n      <th>2763</th>\n      <td>0.102524</td>\n      <td>-0.255376</td>\n      <td>0.676522</td>\n      <td>-0.034639</td>\n      <td>3.639689</td>\n    </tr>\n    <tr>\n      <th>905</th>\n      <td>-0.304549</td>\n      <td>-0.291490</td>\n      <td>0.094098</td>\n      <td>0.315756</td>\n      <td>1.291984</td>\n    </tr>\n    <tr>\n      <th>1096</th>\n      <td>-2.312906</td>\n      <td>-0.255376</td>\n      <td>2.443463</td>\n      <td>2.228710</td>\n      <td>3.507058</td>\n    </tr>\n    <tr>\n      <th>235</th>\n      <td>-0.060136</td>\n      <td>-0.229079</td>\n      <td>0.184688</td>\n      <td>0.124193</td>\n      <td>4.321613</td>\n    </tr>\n    <tr>\n      <th>1061</th>\n      <td>0.552979</td>\n      <td>0.116762</td>\n      <td>-0.013571</td>\n      <td>-0.485535</td>\n      <td>2.214846</td>\n    </tr>\n  </tbody>\n</table>\n<p>2202 rows × 5 columns</p>\n</div>"
     },
     "metadata": {},
     "output_type": "display_data"
    }
   ],
   "source": [
    "print(\"Before\")\n",
    "display(train_CO2)\n",
    "print(\"After\")\n",
    "display(train_CO2_std)"
   ],
   "metadata": {
    "collapsed": false,
    "pycharm": {
     "name": "#%%\n"
    }
   }
  },
  {
   "cell_type": "markdown",
   "source": [
    "#### 4) Distribution of variables"
   ],
   "metadata": {
    "collapsed": false,
    "pycharm": {
     "name": "#%% md\n"
    }
   }
  },
  {
   "cell_type": "code",
   "execution_count": 48,
   "outputs": [
    {
     "data": {
      "text/plain": "<Figure size 576x360 with 1 Axes>",
      "image/png": "[encoded data removed]"
     },
     "metadata": {
      "needs_background": "light"
     },
     "output_type": "display_data"
    }
   ],
   "source": [
    "# Distribution des variables du jeu d'entrainement\n",
    "plt.figure(figsize=(8,5))\n",
    "plt.title('Données d\\'entrainement pour la modélisation des émissions de CO2')\n",
    "bp = sns.boxplot(x='value', y='variable', data=pd.melt(train_CO2_std), palette='bright',\n",
    "                 flierprops=dict(markersize=1, markerfacecolor='gray'))\n",
    "bp.set_xlabel(\"\")\n",
    "bp.set_ylabel(\"\")\n",
    "plt.show()"
   ],
   "metadata": {
    "collapsed": false,
    "pycharm": {
     "name": "#%%\n"
    }
   }
  },
  {
   "cell_type": "markdown",
   "source": [
    "#### 5) Saving dataset"
   ],
   "metadata": {
    "collapsed": false,
    "pycharm": {
     "name": "#%% md\n"
    }
   }
  },
  {
   "cell_type": "code",
   "execution_count": 49,
   "outputs": [],
   "source": [
    "path_save_CO2 = \"dataset/CO2/\"\n",
    "\n",
    "# Sauvegarde des jeux de données\n",
    "train_CO2_std.to_csv(\"{}{}\".format(path_save_CO2, \"train_CO2.csv\"), encoding='utf-8', index=False)\n",
    "test_CO2_std.to_csv(\"{}{}\".format(path_save_CO2, \"test_CO2.csv\"), encoding='utf-8', index=False)\n",
    "\n",
    "# Sauvegarde du modèle pour standardiser\n",
    "model = {'scaler': std_scaler_CO2, 'scaler_features': model_CO2_features}\n",
    "filename = 'model/scaler_CO2.sav'\n",
    "pickle.dump(model, open(filename, 'wb'))"
   ],
   "metadata": {
    "collapsed": false,
    "pycharm": {
     "name": "#%%\n"
    }
   }
  },
  {
   "cell_type": "markdown",
   "source": [
    "### 3) Preparing dataset CO2 with ENERGYSTARScore"
   ],
   "metadata": {
    "collapsed": false,
    "pycharm": {
     "name": "#%% md\n"
    }
   }
  },
  {
   "cell_type": "markdown",
   "source": [
    "#### 1) Selection of features"
   ],
   "metadata": {
    "collapsed": false,
    "pycharm": {
     "name": "#%% md\n"
    }
   }
  },
  {
   "cell_type": "code",
   "execution_count": 50,
   "outputs": [
    {
     "data": {
      "text/plain": "['Ratio_Electricity',\n 'Ratio_Steam',\n 'Ratio_Gas',\n 'Ratio_Steam+Gas',\n 'ENERGYSTARScore',\n 'Log-TotalGHGEmissions']"
     },
     "execution_count": 50,
     "metadata": {},
     "output_type": "execute_result"
    }
   ],
   "source": [
    "# Liste des variables et étiquettes pour la modélisation\n",
    "model_EnergyStarScore_target = ['Log-TotalGHGEmissions']\n",
    "model_EnergyStarScore_features = model_CO2_features + ['ENERGYSTARScore']\n",
    "model_EnergyStarScore = model_EnergyStarScore_features + model_EnergyStarScore_target\n",
    "\n",
    "model_EnergyStarScore"
   ],
   "metadata": {
    "collapsed": false,
    "pycharm": {
     "name": "#%%\n"
    }
   }
  },
  {
   "cell_type": "markdown",
   "source": [
    "#### 2) Separation train and test dataset\n"
   ],
   "metadata": {
    "collapsed": false,
    "pycharm": {
     "name": "#%% md\n"
    }
   }
  },
  {
   "cell_type": "code",
   "execution_count": 51,
   "outputs": [
    {
     "data": {
      "text/plain": "      Ratio_Electricity  Ratio_Steam  Ratio_Gas  Ratio_Steam+Gas  \\\n920            0.677096     0.010471   0.290017         0.329086   \n2752           0.439647     0.002786   0.510547         0.552855   \n478            0.935194     0.001442   0.058196         0.059630   \n679            0.530201     0.002767   0.488296         0.483229   \n147            0.944726     0.012529   0.028754         0.040840   \n...                 ...          ...        ...              ...   \n1296           0.985210     0.001442  -0.007830         0.005284   \n1219           0.668143     0.001442   0.274989         0.310044   \n1483           0.293711     0.004265   0.622699         0.716724   \n330            0.797425     0.029535   0.164302         0.179315   \n1436           0.700002     0.002767   0.375508         0.304104   \n\n      Log-TotalGHGEmissions  ENERGYSTARScore  \n920                5.486414             89.0  \n2752               3.322515             52.0  \n478                2.540026             59.0  \n679                3.033028             92.0  \n147                5.825912             69.0  \n...                     ...              ...  \n1296               1.499623             77.0  \n1219               4.120175            100.0  \n1483               3.884446             80.0  \n330                4.248781             89.0  \n1436               1.350667             96.0  \n\n[1659 rows x 6 columns]",
      "text/html": "<div>\n<style scoped>\n    .dataframe tbody tr th:only-of-type {\n        vertical-align: middle;\n    }\n\n    .dataframe tbody tr th {\n        vertical-align: top;\n    }\n\n    .dataframe thead th {\n        text-align: right;\n    }\n</style>\n<table border=\"1\" class=\"dataframe\">\n  <thead>\n    <tr style=\"text-align: right;\">\n      <th></th>\n      <th>Ratio_Electricity</th>\n      <th>Ratio_Steam</th>\n      <th>Ratio_Gas</th>\n      <th>Ratio_Steam+Gas</th>\n      <th>Log-TotalGHGEmissions</th>\n      <th>ENERGYSTARScore</th>\n    </tr>\n  </thead>\n  <tbody>\n    <tr>\n      <th>920</th>\n      <td>0.677096</td>\n      <td>0.010471</td>\n      <td>0.290017</td>\n      <td>0.329086</td>\n      <td>5.486414</td>\n      <td>89.0</td>\n    </tr>\n    <tr>\n      <th>2752</th>\n      <td>0.439647</td>\n      <td>0.002786</td>\n      <td>0.510547</td>\n      <td>0.552855</td>\n      <td>3.322515</td>\n      <td>52.0</td>\n    </tr>\n    <tr>\n      <th>478</th>\n      <td>0.935194</td>\n      <td>0.001442</td>\n      <td>0.058196</td>\n      <td>0.059630</td>\n      <td>2.540026</td>\n      <td>59.0</td>\n    </tr>\n    <tr>\n      <th>679</th>\n      <td>0.530201</td>\n      <td>0.002767</td>\n      <td>0.488296</td>\n      <td>0.483229</td>\n      <td>3.033028</td>\n      <td>92.0</td>\n    </tr>\n    <tr>\n      <th>147</th>\n      <td>0.944726</td>\n      <td>0.012529</td>\n      <td>0.028754</td>\n      <td>0.040840</td>\n      <td>5.825912</td>\n      <td>69.0</td>\n    </tr>\n    <tr>\n      <th>...</th>\n      <td>...</td>\n      <td>...</td>\n      <td>...</td>\n      <td>...</td>\n      <td>...</td>\n      <td>...</td>\n    </tr>\n    <tr>\n      <th>1296</th>\n      <td>0.985210</td>\n      <td>0.001442</td>\n      <td>-0.007830</td>\n      <td>0.005284</td>\n      <td>1.499623</td>\n      <td>77.0</td>\n    </tr>\n    <tr>\n      <th>1219</th>\n      <td>0.668143</td>\n      <td>0.001442</td>\n      <td>0.274989</td>\n      <td>0.310044</td>\n      <td>4.120175</td>\n      <td>100.0</td>\n    </tr>\n    <tr>\n      <th>1483</th>\n      <td>0.293711</td>\n      <td>0.004265</td>\n      <td>0.622699</td>\n      <td>0.716724</td>\n      <td>3.884446</td>\n      <td>80.0</td>\n    </tr>\n    <tr>\n      <th>330</th>\n      <td>0.797425</td>\n      <td>0.029535</td>\n      <td>0.164302</td>\n      <td>0.179315</td>\n      <td>4.248781</td>\n      <td>89.0</td>\n    </tr>\n    <tr>\n      <th>1436</th>\n      <td>0.700002</td>\n      <td>0.002767</td>\n      <td>0.375508</td>\n      <td>0.304104</td>\n      <td>1.350667</td>\n      <td>96.0</td>\n    </tr>\n  </tbody>\n</table>\n<p>1659 rows × 6 columns</p>\n</div>"
     },
     "execution_count": 51,
     "metadata": {},
     "output_type": "execute_result"
    }
   ],
   "source": [
    "# we drop the buildings for which the EnergyStarScore is missing\n",
    "dataset_clean = dataset_CO2.dropna(axis=0)\n",
    "\n",
    "train_clean, test_clean = train_test_split(dataset_clean, test_size=0.3, random_state=seed)\n",
    "\n",
    "train_clean"
   ],
   "metadata": {
    "collapsed": false,
    "pycharm": {
     "name": "#%%\n"
    }
   }
  },
  {
   "cell_type": "code",
   "execution_count": 52,
   "outputs": [],
   "source": [
    "# Selection des variables pour modélisation CO2\n",
    "train_EnergyStarScore, test_EnergyStarScore = train_clean[model_EnergyStarScore], test_clean[model_EnergyStarScore]"
   ],
   "metadata": {
    "collapsed": false,
    "pycharm": {
     "name": "#%%\n"
    }
   }
  },
  {
   "cell_type": "code",
   "execution_count": 53,
   "outputs": [
    {
     "data": {
      "text/plain": "      Ratio_Electricity  Ratio_Steam  Ratio_Gas  Ratio_Steam+Gas  \\\n920            0.677096     0.010471   0.290017         0.329086   \n2752           0.439647     0.002786   0.510547         0.552855   \n478            0.935194     0.001442   0.058196         0.059630   \n679            0.530201     0.002767   0.488296         0.483229   \n147            0.944726     0.012529   0.028754         0.040840   \n...                 ...          ...        ...              ...   \n1296           0.985210     0.001442  -0.007830         0.005284   \n1219           0.668143     0.001442   0.274989         0.310044   \n1483           0.293711     0.004265   0.622699         0.716724   \n330            0.797425     0.029535   0.164302         0.179315   \n1436           0.700002     0.002767   0.375508         0.304104   \n\n      ENERGYSTARScore  Log-TotalGHGEmissions  \n920              89.0               5.486414  \n2752             52.0               3.322515  \n478              59.0               2.540026  \n679              92.0               3.033028  \n147              69.0               5.825912  \n...               ...                    ...  \n1296             77.0               1.499623  \n1219            100.0               4.120175  \n1483             80.0               3.884446  \n330              89.0               4.248781  \n1436             96.0               1.350667  \n\n[1659 rows x 6 columns]",
      "text/html": "<div>\n<style scoped>\n    .dataframe tbody tr th:only-of-type {\n        vertical-align: middle;\n    }\n\n    .dataframe tbody tr th {\n        vertical-align: top;\n    }\n\n    .dataframe thead th {\n        text-align: right;\n    }\n</style>\n<table border=\"1\" class=\"dataframe\">\n  <thead>\n    <tr style=\"text-align: right;\">\n      <th></th>\n      <th>Ratio_Electricity</th>\n      <th>Ratio_Steam</th>\n      <th>Ratio_Gas</th>\n      <th>Ratio_Steam+Gas</th>\n      <th>ENERGYSTARScore</th>\n      <th>Log-TotalGHGEmissions</th>\n    </tr>\n  </thead>\n  <tbody>\n    <tr>\n      <th>920</th>\n      <td>0.677096</td>\n      <td>0.010471</td>\n      <td>0.290017</td>\n      <td>0.329086</td>\n      <td>89.0</td>\n      <td>5.486414</td>\n    </tr>\n    <tr>\n      <th>2752</th>\n      <td>0.439647</td>\n      <td>0.002786</td>\n      <td>0.510547</td>\n      <td>0.552855</td>\n      <td>52.0</td>\n      <td>3.322515</td>\n    </tr>\n    <tr>\n      <th>478</th>\n      <td>0.935194</td>\n      <td>0.001442</td>\n      <td>0.058196</td>\n      <td>0.059630</td>\n      <td>59.0</td>\n      <td>2.540026</td>\n    </tr>\n    <tr>\n      <th>679</th>\n      <td>0.530201</td>\n      <td>0.002767</td>\n      <td>0.488296</td>\n      <td>0.483229</td>\n      <td>92.0</td>\n      <td>3.033028</td>\n    </tr>\n    <tr>\n      <th>147</th>\n      <td>0.944726</td>\n      <td>0.012529</td>\n      <td>0.028754</td>\n      <td>0.040840</td>\n      <td>69.0</td>\n      <td>5.825912</td>\n    </tr>\n    <tr>\n      <th>...</th>\n      <td>...</td>\n      <td>...</td>\n      <td>...</td>\n      <td>...</td>\n      <td>...</td>\n      <td>...</td>\n    </tr>\n    <tr>\n      <th>1296</th>\n      <td>0.985210</td>\n      <td>0.001442</td>\n      <td>-0.007830</td>\n      <td>0.005284</td>\n      <td>77.0</td>\n      <td>1.499623</td>\n    </tr>\n    <tr>\n      <th>1219</th>\n      <td>0.668143</td>\n      <td>0.001442</td>\n      <td>0.274989</td>\n      <td>0.310044</td>\n      <td>100.0</td>\n      <td>4.120175</td>\n    </tr>\n    <tr>\n      <th>1483</th>\n      <td>0.293711</td>\n      <td>0.004265</td>\n      <td>0.622699</td>\n      <td>0.716724</td>\n      <td>80.0</td>\n      <td>3.884446</td>\n    </tr>\n    <tr>\n      <th>330</th>\n      <td>0.797425</td>\n      <td>0.029535</td>\n      <td>0.164302</td>\n      <td>0.179315</td>\n      <td>89.0</td>\n      <td>4.248781</td>\n    </tr>\n    <tr>\n      <th>1436</th>\n      <td>0.700002</td>\n      <td>0.002767</td>\n      <td>0.375508</td>\n      <td>0.304104</td>\n      <td>96.0</td>\n      <td>1.350667</td>\n    </tr>\n  </tbody>\n</table>\n<p>1659 rows × 6 columns</p>\n</div>"
     },
     "execution_count": 53,
     "metadata": {},
     "output_type": "execute_result"
    }
   ],
   "source": [
    "train_EnergyStarScore"
   ],
   "metadata": {
    "collapsed": false,
    "pycharm": {
     "name": "#%%\n"
    }
   }
  },
  {
   "cell_type": "markdown",
   "source": [
    "#### 3) Standardization of numerical variables"
   ],
   "metadata": {
    "collapsed": false,
    "pycharm": {
     "name": "#%% md\n"
    }
   }
  },
  {
   "cell_type": "code",
   "execution_count": 54,
   "outputs": [],
   "source": [
    "# We transform the training set and the testing set / Performs standardization by centering and scaling.\n",
    "train_EnergyStarScore_std, test_EnergyStarScore_std = train_EnergyStarScore.copy(), test_EnergyStarScore.copy()\n",
    "\n",
    "std_scaler_EnergyStarScore = StandardScaler()  # other way of writing the scaling\n",
    "train_EnergyStarScore_std[model_EnergyStarScore_features] = std_scaler_EnergyStarScore.fit_transform(\n",
    "    train_EnergyStarScore[model_EnergyStarScore_features])\n",
    "\n",
    "test_EnergyStarScore_std[model_EnergyStarScore_features] = std_scaler_EnergyStarScore.transform(\n",
    "    test_EnergyStarScore[model_EnergyStarScore_features])"
   ],
   "metadata": {
    "collapsed": false,
    "pycharm": {
     "name": "#%%\n"
    }
   }
  },
  {
   "cell_type": "code",
   "execution_count": 55,
   "outputs": [
    {
     "data": {
      "text/plain": "      Ratio_Electricity  Ratio_Steam  Ratio_Gas  Ratio_Steam+Gas  \\\n920           -0.404450    -0.054118   0.313321         0.439685   \n2752          -1.854114    -0.249104   1.729085         1.789226   \n478            1.171282    -0.283197  -1.174927        -1.185387   \n679           -1.301266    -0.249585   1.586238         1.369315   \n147            1.229475    -0.001889  -1.363937        -1.298711   \n...                 ...          ...        ...              ...   \n1296           1.476634    -0.283197  -1.598801        -1.513148   \n1219          -0.459108    -0.283197   0.216845         0.324845   \n1483          -2.745077    -0.211579   2.449086         2.777511   \n330            0.330180     0.429600  -0.493743        -0.463574   \n1436          -0.264607    -0.249585   0.862164         0.289023   \n\n      ENERGYSTARScore  Log-TotalGHGEmissions  \n920          0.804084               5.486414  \n2752        -0.579475               3.322515  \n478         -0.317721               2.540026  \n679          0.916265               3.033028  \n147          0.056214               5.825912  \n...               ...                    ...  \n1296         0.355362               1.499623  \n1219         1.215413               4.120175  \n1483         0.467543               3.884446  \n330          0.804084               4.248781  \n1436         1.065839               1.350667  \n\n[1659 rows x 6 columns]",
      "text/html": "<div>\n<style scoped>\n    .dataframe tbody tr th:only-of-type {\n        vertical-align: middle;\n    }\n\n    .dataframe tbody tr th {\n        vertical-align: top;\n    }\n\n    .dataframe thead th {\n        text-align: right;\n    }\n</style>\n<table border=\"1\" class=\"dataframe\">\n  <thead>\n    <tr style=\"text-align: right;\">\n      <th></th>\n      <th>Ratio_Electricity</th>\n      <th>Ratio_Steam</th>\n      <th>Ratio_Gas</th>\n      <th>Ratio_Steam+Gas</th>\n      <th>ENERGYSTARScore</th>\n      <th>Log-TotalGHGEmissions</th>\n    </tr>\n  </thead>\n  <tbody>\n    <tr>\n      <th>920</th>\n      <td>-0.404450</td>\n      <td>-0.054118</td>\n      <td>0.313321</td>\n      <td>0.439685</td>\n      <td>0.804084</td>\n      <td>5.486414</td>\n    </tr>\n    <tr>\n      <th>2752</th>\n      <td>-1.854114</td>\n      <td>-0.249104</td>\n      <td>1.729085</td>\n      <td>1.789226</td>\n      <td>-0.579475</td>\n      <td>3.322515</td>\n    </tr>\n    <tr>\n      <th>478</th>\n      <td>1.171282</td>\n      <td>-0.283197</td>\n      <td>-1.174927</td>\n      <td>-1.185387</td>\n      <td>-0.317721</td>\n      <td>2.540026</td>\n    </tr>\n    <tr>\n      <th>679</th>\n      <td>-1.301266</td>\n      <td>-0.249585</td>\n      <td>1.586238</td>\n      <td>1.369315</td>\n      <td>0.916265</td>\n      <td>3.033028</td>\n    </tr>\n    <tr>\n      <th>147</th>\n      <td>1.229475</td>\n      <td>-0.001889</td>\n      <td>-1.363937</td>\n      <td>-1.298711</td>\n      <td>0.056214</td>\n      <td>5.825912</td>\n    </tr>\n    <tr>\n      <th>...</th>\n      <td>...</td>\n      <td>...</td>\n      <td>...</td>\n      <td>...</td>\n      <td>...</td>\n      <td>...</td>\n    </tr>\n    <tr>\n      <th>1296</th>\n      <td>1.476634</td>\n      <td>-0.283197</td>\n      <td>-1.598801</td>\n      <td>-1.513148</td>\n      <td>0.355362</td>\n      <td>1.499623</td>\n    </tr>\n    <tr>\n      <th>1219</th>\n      <td>-0.459108</td>\n      <td>-0.283197</td>\n      <td>0.216845</td>\n      <td>0.324845</td>\n      <td>1.215413</td>\n      <td>4.120175</td>\n    </tr>\n    <tr>\n      <th>1483</th>\n      <td>-2.745077</td>\n      <td>-0.211579</td>\n      <td>2.449086</td>\n      <td>2.777511</td>\n      <td>0.467543</td>\n      <td>3.884446</td>\n    </tr>\n    <tr>\n      <th>330</th>\n      <td>0.330180</td>\n      <td>0.429600</td>\n      <td>-0.493743</td>\n      <td>-0.463574</td>\n      <td>0.804084</td>\n      <td>4.248781</td>\n    </tr>\n    <tr>\n      <th>1436</th>\n      <td>-0.264607</td>\n      <td>-0.249585</td>\n      <td>0.862164</td>\n      <td>0.289023</td>\n      <td>1.065839</td>\n      <td>1.350667</td>\n    </tr>\n  </tbody>\n</table>\n<p>1659 rows × 6 columns</p>\n</div>"
     },
     "execution_count": 55,
     "metadata": {},
     "output_type": "execute_result"
    }
   ],
   "source": [
    "train_EnergyStarScore_std"
   ],
   "metadata": {
    "collapsed": false,
    "pycharm": {
     "name": "#%%\n"
    }
   }
  },
  {
   "cell_type": "markdown",
   "source": [
    "#### 4) Distribution of variables"
   ],
   "metadata": {
    "collapsed": false,
    "pycharm": {
     "name": "#%% md\n"
    }
   }
  },
  {
   "cell_type": "code",
   "execution_count": 56,
   "outputs": [
    {
     "data": {
      "text/plain": "<Figure size 576x360 with 1 Axes>",
      "image/png": "[encoded data removed]"
     },
     "metadata": {
      "needs_background": "light"
     },
     "output_type": "display_data"
    }
   ],
   "source": [
    "# Distribution des variables du jeu d'entrainement\n",
    "plt.figure(figsize=(8,5))\n",
    "plt.title('Données d\\'entrainement pour la modélisation des émissions de CO2')\n",
    "bp = sns.boxplot(x='value', y='variable', data=pd.melt(train_EnergyStarScore_std), palette='bright',\n",
    "                 flierprops=dict(markersize=1, markerfacecolor='gray'))\n",
    "bp.set_xlabel(\"\")\n",
    "bp.set_ylabel(\"\")\n",
    "plt.show()"
   ],
   "metadata": {
    "collapsed": false,
    "pycharm": {
     "name": "#%%\n"
    }
   }
  },
  {
   "cell_type": "markdown",
   "source": [
    "#### 5) Saving dataset"
   ],
   "metadata": {
    "collapsed": false,
    "pycharm": {
     "name": "#%% md\n"
    }
   }
  },
  {
   "cell_type": "code",
   "execution_count": 57,
   "outputs": [],
   "source": [
    "path_save_EnergyStarScore = \"dataset/CO2_EnergyStarScore/\"\n",
    "\n",
    "# Sauvegarde des jeux de données\n",
    "train_EnergyStarScore_std.to_csv(\"{}{}\".format(path_save_EnergyStarScore, \"train_EnergyStarScore.csv\"), encoding='utf-8', index=False)\n",
    "test_EnergyStarScore_std.to_csv(\"{}{}\".format(path_save_EnergyStarScore, \"test_EnergyStarScore.csv\"), encoding='utf-8', index=False)\n",
    "\n",
    "# Sauvegarde du modèle pour standardiser\n",
    "model = {'scaler': std_scaler_EnergyStarScore, 'scaler_features': model_EnergyStarScore_features}\n",
    "filename = 'model/scaler_EnergyStarScore.sav'\n",
    "pickle.dump(model, open(filename, 'wb'))"
   ],
   "metadata": {
    "collapsed": false,
    "pycharm": {
     "name": "#%%\n"
    }
   }
  },
  {
   "cell_type": "code",
   "execution_count": 58,
   "outputs": [
    {
     "name": "stdout",
     "output_type": "stream",
     "text": [
      "computing time : 1.507609 sec\n",
      "computing time : 00:00:01\n"
     ]
    }
   ],
   "source": [
    "t1 = time()\n",
    "print(\"computing time : {:8.6f} sec\".format(t1-t0))\n",
    "print(\"computing time : \" + strftime('%H:%M:%S', gmtime(t1-t0)))"
   ],
   "metadata": {
    "collapsed": false,
    "pycharm": {
     "name": "#%%\n"
    }
   }
  }
 ],
 "metadata": {
  "kernelspec": {
   "display_name": "Python 3",
   "language": "python",
   "name": "python3"
  },
  "language_info": {
   "codemirror_mode": {
    "name": "ipython",
    "version": 2
   },
   "file_extension": ".py",
   "mimetype": "text/x-python",
   "name": "python",
   "nbconvert_exporter": "python",
   "pygments_lexer": "ipython2",
   "version": "2.7.6"
  }
 },
 "nbformat": 4,
 "nbformat_minor": 0
}