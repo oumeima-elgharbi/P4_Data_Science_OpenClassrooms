{
 "cells": [
  {
   "cell_type": "markdown",
   "source": [
    "OpenClassrooms\n",
    "Project 4, Data Scientist\n",
    "Author : Oumeima EL GHARBI\n",
    "Date : August 2022"
   ],
   "metadata": {
    "collapsed": false,
    "pycharm": {
     "name": "#%% md\n"
    }
   }
  },
  {
   "cell_type": "markdown",
   "source": [
    "Un notebook pour chaque prédiction (émissions de CO2 et consommation totale d’énergie) des différents tests de modèles mis au propre, dans lequel vous identifierez clairement le modèle final choisi.\n",
    "\n",
    "\n",
    "L’objectif est de te passer des relevés de consommation annuels futurs (attention à la fuite de données). Nous ferons de toute façon pour tout nouveau bâtiment un premier relevé de référence la première année, donc rien ne t'interdit d’en déduire des variables structurelles aux bâtiments, par exemple la nature et proportions des sources d’énergie utilisées..\n",
    "\n",
    "Fais bien attention au traitement des différentes variables, à la fois pour trouver de nouvelles informations (peut-on déduire des choses intéressantes d’une simple adresse ?) et optimiser les performances en appliquant des transformations simples aux variables (normalisation, passage au log, etc.).\n",
    "\n",
    "Mets en place une évaluation rigoureuse des performances de la régression, et optimise les hyperparamètres et le choix d’algorithmes de ML à l’aide d’une validation croisée."
   ],
   "metadata": {
    "collapsed": false,
    "pycharm": {
     "name": "#%% md\n"
    }
   }
  },
  {
   "cell_type": "markdown",
   "source": [
    "\n",
    "\n",
    "Tester les modèles suivants : **regression linéaire (avec différentes régularisation : Ridge, Lasso, Elastic), Random Forest, XGboost**\n",
    "Penser à comparer les performances des différents modèles : utiliser la **MAE**\n",
    "Penser également à optimiser les hyper paramètres de chaque modèle via **GridSearch**\n"
   ],
   "metadata": {
    "collapsed": false,
    "pycharm": {
     "name": "#%% md\n"
    }
   }
  },
  {
   "cell_type": "markdown",
   "source": [
    "Evaluate :\n",
    "\n",
    "https://cloud.google.com/automl-tables/docs/evaluate?hl=fr\n",
    "\n",
    "\n",
    "KFOLD\n",
    "\n",
    "Entrée : données X (dimension nxp), étiquettes y (dimension n), nombre de folds k\n",
    "\n",
    "Couper [0, 1, ..., n-1] en k parties de taille (n/k). (La dernière partie sera un peu plus petite si n n'est pas un multiple de k)\n",
    "\n",
    "for i=0 to (k-1):\n",
    "    Former le jeu de test (X_test, y_test) en restreignant X et y aux indices contenus dans la i-ième partie.\n",
    "    Former le jeu d'entraînement (X_train, y_train) en restreignant X et y aux autres indices.\n",
    "    Entraîner l'algorithme sur le jeu d'entraînement\n",
    "    Utiliser le modèle ainsi obtenu pour prédire sur le jeu de test\n",
    "        Calculer l'erreur du modèle en comparant les étiquettes prédites aux vraies étiquettes contenues dans y_test\n",
    "\n",
    "Sortie : la valeur moyenne des erreurs calculées sur les k folds."
   ],
   "metadata": {
    "collapsed": false,
    "pycharm": {
     "name": "#%% md\n"
    }
   }
  },
  {
   "cell_type": "code",
   "execution_count": 1455,
   "outputs": [],
   "source": [
    "# 1 modele de Regression (RL classsque / Elastic / ridig / laso\n",
    "# Random Forest\n",
    "# XGBOOST\n",
    "\n",
    "# var à rpedire tottal GHE Emssion last one to predict\n",
    "# cette var deped de la consommation des bateimenst (1) prediction sur elec, steam, naturalgas et un autre energie (2) et reutiliser pour predire"
   ],
   "metadata": {
    "collapsed": false,
    "pycharm": {
     "name": "#%%\n"
    }
   }
  },
  {
   "cell_type": "markdown",
   "source": [
    "### Introduction"
   ],
   "metadata": {
    "collapsed": false,
    "pycharm": {
     "name": "#%% md\n"
    }
   }
  },
  {
   "cell_type": "markdown",
   "source": [
    "#### Importing libraries"
   ],
   "metadata": {
    "collapsed": false,
    "pycharm": {
     "name": "#%% md\n"
    }
   }
  },
  {
   "cell_type": "code",
   "execution_count": 1456,
   "outputs": [
    {
     "data": {
      "application/javascript": "IPython.notebook.set_autosave_interval(300000)"
     },
     "metadata": {},
     "output_type": "display_data"
    },
    {
     "name": "stdout",
     "output_type": "stream",
     "text": [
      "Autosaving every 300 seconds\n"
     ]
    }
   ],
   "source": [
    "%reset -f\n",
    "\n",
    "import numpy as np\n",
    "import pandas as pd\n",
    "import matplotlib.pyplot as plt\n",
    "import seaborn as sns\n",
    "\n",
    "%matplotlib inline\n",
    "%autosave 300"
   ],
   "metadata": {
    "collapsed": false,
    "pycharm": {
     "name": "#%%\n"
    }
   }
  },
  {
   "cell_type": "markdown",
   "source": [
    "#### Loading dataset"
   ],
   "metadata": {
    "collapsed": false,
    "pycharm": {
     "name": "#%% md\n"
    }
   }
  },
  {
   "cell_type": "code",
   "execution_count": 1457,
   "outputs": [
    {
     "name": "stdout",
     "output_type": "stream",
     "text": [
      "This dictionary will be used when reading the csv file to assign a type to categorical features : {'BuildingType': 'category', 'PrimaryPropertyType': 'category', 'ZipCode': 'category', 'CouncilDistrictCode': 'category', 'LargestPropertyUseType': 'category', 'SecondLargestPropertyUseType': 'category', 'ThirdLargestPropertyUseType': 'category'}\n"
     ]
    }
   ],
   "source": [
    "columns_to_categorize = [\"BuildingType\", \"PrimaryPropertyType\", \"ZipCode\", \"CouncilDistrictCode\", \"LargestPropertyUseType\", \"SecondLargestPropertyUseType\", \"ThirdLargestPropertyUseType\"]\n",
    "#  \"Neighborhood\",\n",
    "category_types = {column: 'category' for column in columns_to_categorize}\n",
    "print(\"This dictionary will be used when reading the csv file to assign a type to categorical features :\", category_types)"
   ],
   "metadata": {
    "collapsed": false,
    "pycharm": {
     "name": "#%%\n"
    }
   }
  },
  {
   "cell_type": "code",
   "execution_count": 1458,
   "outputs": [],
   "source": [
    "dataset_path = \"dataset/2016_Building_Energy_Prediction.csv\"\n",
    "# we assign the categorical features with a categotical type\n",
    "data = pd.read_csv(dataset_path, dtype=category_types, sep=\",\")"
   ],
   "metadata": {
    "collapsed": false,
    "pycharm": {
     "name": "#%%\n"
    }
   }
  },
  {
   "cell_type": "code",
   "execution_count": 1459,
   "outputs": [
    {
     "data": {
      "text/plain": "(3157, 23)"
     },
     "execution_count": 1459,
     "metadata": {},
     "output_type": "execute_result"
    }
   ],
   "source": [
    "data.shape"
   ],
   "metadata": {
    "collapsed": false,
    "pycharm": {
     "name": "#%%\n"
    }
   }
  },
  {
   "cell_type": "code",
   "execution_count": 1460,
   "outputs": [
    {
     "data": {
      "text/plain": "DataYear                              int64\nBuildingType                       category\nPrimaryPropertyType                category\nZipCode                            category\nCouncilDistrictCode                category\nYearBuilt                             int64\nNumberofBuildings                   float64\nNumberofFloors                        int64\nPropertyGFATotal                      int64\nPropertyGFAParking                    int64\nPropertyGFABuilding(s)                int64\nLargestPropertyUseType             category\nLargestPropertyUseTypeGFA           float64\nSecondLargestPropertyUseType       category\nSecondLargestPropertyUseTypeGFA     float64\nThirdLargestPropertyUseType        category\nThirdLargestPropertyUseTypeGFA      float64\nENERGYSTARScore                     float64\nSiteEnergyUse(kBtu)                 float64\nSteamUse(kBtu)                      float64\nElectricity(kBtu)                   float64\nNaturalGas(kBtu)                    float64\nTotalGHGEmissions                   float64\ndtype: object"
     },
     "execution_count": 1460,
     "metadata": {},
     "output_type": "execute_result"
    }
   ],
   "source": [
    "data.dtypes"
   ],
   "metadata": {
    "collapsed": false,
    "pycharm": {
     "name": "#%%\n"
    }
   }
  },
  {
   "cell_type": "code",
   "execution_count": 1461,
   "outputs": [],
   "source": [
    "# predict : Electricity\n",
    "# train / test\n",
    "# standardisation = retirer la moyen et div par ecart type (scaling : les var qn sur emem echelle\n",
    "# var categ : encoding (one hot encoder)\n",
    "\n",
    "# la fin Feature engineriing\n",
    "\n",
    "# 2) entrainer le smodels\n",
    "# perf\n",
    "# temps de calcul\n",
    "# graph pour montrer la perf de chaque modele(barplot)\n",
    "# obj : finir exploration / finir feature engineering\n",
    "# obj un premier noteboook propre (try max)"
   ],
   "metadata": {
    "collapsed": false,
    "pycharm": {
     "name": "#%%\n"
    }
   }
  },
  {
   "cell_type": "code",
   "execution_count": 1462,
   "outputs": [
    {
     "data": {
      "text/plain": "Index(['DataYear', 'BuildingType', 'PrimaryPropertyType', 'ZipCode',\n       'CouncilDistrictCode', 'YearBuilt', 'NumberofBuildings',\n       'NumberofFloors', 'PropertyGFATotal', 'PropertyGFAParking',\n       'PropertyGFABuilding(s)', 'LargestPropertyUseType',\n       'LargestPropertyUseTypeGFA', 'SecondLargestPropertyUseType',\n       'SecondLargestPropertyUseTypeGFA', 'ThirdLargestPropertyUseType',\n       'ThirdLargestPropertyUseTypeGFA', 'ENERGYSTARScore',\n       'SiteEnergyUse(kBtu)', 'SteamUse(kBtu)', 'Electricity(kBtu)',\n       'NaturalGas(kBtu)', 'TotalGHGEmissions'],\n      dtype='object')"
     },
     "execution_count": 1462,
     "metadata": {},
     "output_type": "execute_result"
    }
   ],
   "source": [
    "data.columns"
   ],
   "metadata": {
    "collapsed": false,
    "pycharm": {
     "name": "#%%\n"
    }
   }
  },
  {
   "cell_type": "code",
   "execution_count": 1463,
   "outputs": [
    {
     "name": "stdout",
     "output_type": "stream",
     "text": [
      "['YearBuilt', 'BuildingType', 'PrimaryPropertyType', 'CouncilDistrictCode', 'NumberofFloors', 'PropertyGFATotal', 'PropertyGFAParking', 'SecondLargestPropertyUseTypeGFA', 'ThirdLargestPropertyUseTypeGFA', 'Electricity(kBtu)']\n"
     ]
    }
   ],
   "source": [
    "features_for_prediction = [\"YearBuilt\",  \"BuildingType\",\"PrimaryPropertyType\", \"CouncilDistrictCode\", \"NumberofFloors\", \"PropertyGFATotal\", \"PropertyGFAParking\", \"SecondLargestPropertyUseTypeGFA\", \"ThirdLargestPropertyUseTypeGFA\"]\n",
    "\n",
    "variable_to_predict = \"Electricity(kBtu)\"\n",
    "\n",
    "features_for_prediction.append(variable_to_predict)\n",
    "print(features_for_prediction)\n"
   ],
   "metadata": {
    "collapsed": false,
    "pycharm": {
     "name": "#%%\n"
    }
   }
  },
  {
   "cell_type": "code",
   "execution_count": 1464,
   "outputs": [
    {
     "data": {
      "text/plain": "      YearBuilt          BuildingType          PrimaryPropertyType  \\\n0          1978  Multifamily LR (1-4)         Low-Rise Multifamily   \n1          1928        NonResidential                    Warehouse   \n2          1925  Multifamily LR (1-4)         Low-Rise Multifamily   \n3          1971  Multifamily HR (10+)        High-Rise Multifamily   \n4          2001  Multifamily LR (1-4)         Low-Rise Multifamily   \n...         ...                   ...                          ...   \n3152       2001        NonResidential           Mixed Use Property   \n3153       1907  Multifamily LR (1-4)         Low-Rise Multifamily   \n3154       2001        NonResidential  Small- and Mid-Sized Office   \n3155       1911        NonResidential                 Retail Store   \n3156       1938    Nonresidential COS           Mixed Use Property   \n\n     CouncilDistrictCode  NumberofFloors  PropertyGFATotal  \\\n0                      3               3             20739   \n1                      3               2             25955   \n2                      2               3             25120   \n3                      2              15             73898   \n4                      2               3             36383   \n...                  ...             ...               ...   \n3152                   6               3             41827   \n3153                   6               4             36660   \n3154                   6               5             33740   \n3155                   6               2             20516   \n3156                   2               1             18258   \n\n      PropertyGFAParking  SecondLargestPropertyUseTypeGFA  \\\n0                      0                              0.0   \n1                      0                           8745.0   \n2                      0                              0.0   \n3                      0                              0.0   \n4                   7030                           4200.0   \n...                  ...                              ...   \n3152                9226                          14128.0   \n3153                   0                              0.0   \n3154                6010                           8762.0   \n3155                   0                           8000.0   \n3156                   0                           8000.0   \n\n      ThirdLargestPropertyUseTypeGFA  Electricity(kBtu)  \n0                                0.0       8.163010e+05  \n1                             3060.0       1.218112e+06  \n2                                0.0       3.040430e+05  \n3                                0.0       2.154352e+06  \n4                                0.0       6.581210e+05  \n...                              ...                ...  \n3152                          9680.0       2.439095e+06  \n3153                             0.0       5.176190e+05  \n3154                          1500.0       1.291405e+06  \n3155                             0.0       2.649840e+05  \n3156                          1108.0       4.325542e+05  \n\n[3157 rows x 10 columns]",
      "text/html": "<div>\n<style scoped>\n    .dataframe tbody tr th:only-of-type {\n        vertical-align: middle;\n    }\n\n    .dataframe tbody tr th {\n        vertical-align: top;\n    }\n\n    .dataframe thead th {\n        text-align: right;\n    }\n</style>\n<table border=\"1\" class=\"dataframe\">\n  <thead>\n    <tr style=\"text-align: right;\">\n      <th></th>\n      <th>YearBuilt</th>\n      <th>BuildingType</th>\n      <th>PrimaryPropertyType</th>\n      <th>CouncilDistrictCode</th>\n      <th>NumberofFloors</th>\n      <th>PropertyGFATotal</th>\n      <th>PropertyGFAParking</th>\n      <th>SecondLargestPropertyUseTypeGFA</th>\n      <th>ThirdLargestPropertyUseTypeGFA</th>\n      <th>Electricity(kBtu)</th>\n    </tr>\n  </thead>\n  <tbody>\n    <tr>\n      <th>0</th>\n      <td>1978</td>\n      <td>Multifamily LR (1-4)</td>\n      <td>Low-Rise Multifamily</td>\n      <td>3</td>\n      <td>3</td>\n      <td>20739</td>\n      <td>0</td>\n      <td>0.0</td>\n      <td>0.0</td>\n      <td>8.163010e+05</td>\n    </tr>\n    <tr>\n      <th>1</th>\n      <td>1928</td>\n      <td>NonResidential</td>\n      <td>Warehouse</td>\n      <td>3</td>\n      <td>2</td>\n      <td>25955</td>\n      <td>0</td>\n      <td>8745.0</td>\n      <td>3060.0</td>\n      <td>1.218112e+06</td>\n    </tr>\n    <tr>\n      <th>2</th>\n      <td>1925</td>\n      <td>Multifamily LR (1-4)</td>\n      <td>Low-Rise Multifamily</td>\n      <td>2</td>\n      <td>3</td>\n      <td>25120</td>\n      <td>0</td>\n      <td>0.0</td>\n      <td>0.0</td>\n      <td>3.040430e+05</td>\n    </tr>\n    <tr>\n      <th>3</th>\n      <td>1971</td>\n      <td>Multifamily HR (10+)</td>\n      <td>High-Rise Multifamily</td>\n      <td>2</td>\n      <td>15</td>\n      <td>73898</td>\n      <td>0</td>\n      <td>0.0</td>\n      <td>0.0</td>\n      <td>2.154352e+06</td>\n    </tr>\n    <tr>\n      <th>4</th>\n      <td>2001</td>\n      <td>Multifamily LR (1-4)</td>\n      <td>Low-Rise Multifamily</td>\n      <td>2</td>\n      <td>3</td>\n      <td>36383</td>\n      <td>7030</td>\n      <td>4200.0</td>\n      <td>0.0</td>\n      <td>6.581210e+05</td>\n    </tr>\n    <tr>\n      <th>...</th>\n      <td>...</td>\n      <td>...</td>\n      <td>...</td>\n      <td>...</td>\n      <td>...</td>\n      <td>...</td>\n      <td>...</td>\n      <td>...</td>\n      <td>...</td>\n      <td>...</td>\n    </tr>\n    <tr>\n      <th>3152</th>\n      <td>2001</td>\n      <td>NonResidential</td>\n      <td>Mixed Use Property</td>\n      <td>6</td>\n      <td>3</td>\n      <td>41827</td>\n      <td>9226</td>\n      <td>14128.0</td>\n      <td>9680.0</td>\n      <td>2.439095e+06</td>\n    </tr>\n    <tr>\n      <th>3153</th>\n      <td>1907</td>\n      <td>Multifamily LR (1-4)</td>\n      <td>Low-Rise Multifamily</td>\n      <td>6</td>\n      <td>4</td>\n      <td>36660</td>\n      <td>0</td>\n      <td>0.0</td>\n      <td>0.0</td>\n      <td>5.176190e+05</td>\n    </tr>\n    <tr>\n      <th>3154</th>\n      <td>2001</td>\n      <td>NonResidential</td>\n      <td>Small- and Mid-Sized Office</td>\n      <td>6</td>\n      <td>5</td>\n      <td>33740</td>\n      <td>6010</td>\n      <td>8762.0</td>\n      <td>1500.0</td>\n      <td>1.291405e+06</td>\n    </tr>\n    <tr>\n      <th>3155</th>\n      <td>1911</td>\n      <td>NonResidential</td>\n      <td>Retail Store</td>\n      <td>6</td>\n      <td>2</td>\n      <td>20516</td>\n      <td>0</td>\n      <td>8000.0</td>\n      <td>0.0</td>\n      <td>2.649840e+05</td>\n    </tr>\n    <tr>\n      <th>3156</th>\n      <td>1938</td>\n      <td>Nonresidential COS</td>\n      <td>Mixed Use Property</td>\n      <td>2</td>\n      <td>1</td>\n      <td>18258</td>\n      <td>0</td>\n      <td>8000.0</td>\n      <td>1108.0</td>\n      <td>4.325542e+05</td>\n    </tr>\n  </tbody>\n</table>\n<p>3157 rows × 10 columns</p>\n</div>"
     },
     "execution_count": 1464,
     "metadata": {},
     "output_type": "execute_result"
    }
   ],
   "source": [
    "data = data[features_for_prediction]\n",
    "\n",
    "data"
   ],
   "metadata": {
    "collapsed": false,
    "pycharm": {
     "name": "#%%\n"
    }
   }
  },
  {
   "cell_type": "markdown",
   "source": [
    "## I) Feature Engineering : preparing the vectors and matrices\n"
   ],
   "metadata": {
    "collapsed": false,
    "pycharm": {
     "name": "#%% md\n"
    }
   }
  },
  {
   "cell_type": "markdown",
   "source": [
    "#### 1) Separating training data and target vector"
   ],
   "metadata": {
    "collapsed": false,
    "pycharm": {
     "name": "#%% md\n"
    }
   }
  },
  {
   "cell_type": "code",
   "execution_count": 1465,
   "outputs": [
    {
     "name": "stdout",
     "output_type": "stream",
     "text": [
      "Shape of X : (3157, 9)\n",
      "Shape of y : (3157,)\n"
     ]
    }
   ],
   "source": [
    "# we create the data matrix / we only take the features\n",
    "X = data[data.columns[:-1]]\n",
    "\n",
    "# we create the target vector\n",
    "y = data[variable_to_predict].values # numpy array not a DataFrame anymore\n",
    "\n",
    "print(\"Shape of X :\", X.shape)\n",
    "print(\"Shape of y :\", y.shape)"
   ],
   "metadata": {
    "collapsed": false,
    "pycharm": {
     "name": "#%%\n"
    }
   }
  },
  {
   "cell_type": "code",
   "execution_count": 1466,
   "outputs": [
    {
     "data": {
      "text/plain": "      YearBuilt          BuildingType          PrimaryPropertyType  \\\n0          1978  Multifamily LR (1-4)         Low-Rise Multifamily   \n1          1928        NonResidential                    Warehouse   \n2          1925  Multifamily LR (1-4)         Low-Rise Multifamily   \n3          1971  Multifamily HR (10+)        High-Rise Multifamily   \n4          2001  Multifamily LR (1-4)         Low-Rise Multifamily   \n...         ...                   ...                          ...   \n3152       2001        NonResidential           Mixed Use Property   \n3153       1907  Multifamily LR (1-4)         Low-Rise Multifamily   \n3154       2001        NonResidential  Small- and Mid-Sized Office   \n3155       1911        NonResidential                 Retail Store   \n3156       1938    Nonresidential COS           Mixed Use Property   \n\n     CouncilDistrictCode  NumberofFloors  PropertyGFATotal  \\\n0                      3               3             20739   \n1                      3               2             25955   \n2                      2               3             25120   \n3                      2              15             73898   \n4                      2               3             36383   \n...                  ...             ...               ...   \n3152                   6               3             41827   \n3153                   6               4             36660   \n3154                   6               5             33740   \n3155                   6               2             20516   \n3156                   2               1             18258   \n\n      PropertyGFAParking  SecondLargestPropertyUseTypeGFA  \\\n0                      0                              0.0   \n1                      0                           8745.0   \n2                      0                              0.0   \n3                      0                              0.0   \n4                   7030                           4200.0   \n...                  ...                              ...   \n3152                9226                          14128.0   \n3153                   0                              0.0   \n3154                6010                           8762.0   \n3155                   0                           8000.0   \n3156                   0                           8000.0   \n\n      ThirdLargestPropertyUseTypeGFA  \n0                                0.0  \n1                             3060.0  \n2                                0.0  \n3                                0.0  \n4                                0.0  \n...                              ...  \n3152                          9680.0  \n3153                             0.0  \n3154                          1500.0  \n3155                             0.0  \n3156                          1108.0  \n\n[3157 rows x 9 columns]",
      "text/html": "<div>\n<style scoped>\n    .dataframe tbody tr th:only-of-type {\n        vertical-align: middle;\n    }\n\n    .dataframe tbody tr th {\n        vertical-align: top;\n    }\n\n    .dataframe thead th {\n        text-align: right;\n    }\n</style>\n<table border=\"1\" class=\"dataframe\">\n  <thead>\n    <tr style=\"text-align: right;\">\n      <th></th>\n      <th>YearBuilt</th>\n      <th>BuildingType</th>\n      <th>PrimaryPropertyType</th>\n      <th>CouncilDistrictCode</th>\n      <th>NumberofFloors</th>\n      <th>PropertyGFATotal</th>\n      <th>PropertyGFAParking</th>\n      <th>SecondLargestPropertyUseTypeGFA</th>\n      <th>ThirdLargestPropertyUseTypeGFA</th>\n    </tr>\n  </thead>\n  <tbody>\n    <tr>\n      <th>0</th>\n      <td>1978</td>\n      <td>Multifamily LR (1-4)</td>\n      <td>Low-Rise Multifamily</td>\n      <td>3</td>\n      <td>3</td>\n      <td>20739</td>\n      <td>0</td>\n      <td>0.0</td>\n      <td>0.0</td>\n    </tr>\n    <tr>\n      <th>1</th>\n      <td>1928</td>\n      <td>NonResidential</td>\n      <td>Warehouse</td>\n      <td>3</td>\n      <td>2</td>\n      <td>25955</td>\n      <td>0</td>\n      <td>8745.0</td>\n      <td>3060.0</td>\n    </tr>\n    <tr>\n      <th>2</th>\n      <td>1925</td>\n      <td>Multifamily LR (1-4)</td>\n      <td>Low-Rise Multifamily</td>\n      <td>2</td>\n      <td>3</td>\n      <td>25120</td>\n      <td>0</td>\n      <td>0.0</td>\n      <td>0.0</td>\n    </tr>\n    <tr>\n      <th>3</th>\n      <td>1971</td>\n      <td>Multifamily HR (10+)</td>\n      <td>High-Rise Multifamily</td>\n      <td>2</td>\n      <td>15</td>\n      <td>73898</td>\n      <td>0</td>\n      <td>0.0</td>\n      <td>0.0</td>\n    </tr>\n    <tr>\n      <th>4</th>\n      <td>2001</td>\n      <td>Multifamily LR (1-4)</td>\n      <td>Low-Rise Multifamily</td>\n      <td>2</td>\n      <td>3</td>\n      <td>36383</td>\n      <td>7030</td>\n      <td>4200.0</td>\n      <td>0.0</td>\n    </tr>\n    <tr>\n      <th>...</th>\n      <td>...</td>\n      <td>...</td>\n      <td>...</td>\n      <td>...</td>\n      <td>...</td>\n      <td>...</td>\n      <td>...</td>\n      <td>...</td>\n      <td>...</td>\n    </tr>\n    <tr>\n      <th>3152</th>\n      <td>2001</td>\n      <td>NonResidential</td>\n      <td>Mixed Use Property</td>\n      <td>6</td>\n      <td>3</td>\n      <td>41827</td>\n      <td>9226</td>\n      <td>14128.0</td>\n      <td>9680.0</td>\n    </tr>\n    <tr>\n      <th>3153</th>\n      <td>1907</td>\n      <td>Multifamily LR (1-4)</td>\n      <td>Low-Rise Multifamily</td>\n      <td>6</td>\n      <td>4</td>\n      <td>36660</td>\n      <td>0</td>\n      <td>0.0</td>\n      <td>0.0</td>\n    </tr>\n    <tr>\n      <th>3154</th>\n      <td>2001</td>\n      <td>NonResidential</td>\n      <td>Small- and Mid-Sized Office</td>\n      <td>6</td>\n      <td>5</td>\n      <td>33740</td>\n      <td>6010</td>\n      <td>8762.0</td>\n      <td>1500.0</td>\n    </tr>\n    <tr>\n      <th>3155</th>\n      <td>1911</td>\n      <td>NonResidential</td>\n      <td>Retail Store</td>\n      <td>6</td>\n      <td>2</td>\n      <td>20516</td>\n      <td>0</td>\n      <td>8000.0</td>\n      <td>0.0</td>\n    </tr>\n    <tr>\n      <th>3156</th>\n      <td>1938</td>\n      <td>Nonresidential COS</td>\n      <td>Mixed Use Property</td>\n      <td>2</td>\n      <td>1</td>\n      <td>18258</td>\n      <td>0</td>\n      <td>8000.0</td>\n      <td>1108.0</td>\n    </tr>\n  </tbody>\n</table>\n<p>3157 rows × 9 columns</p>\n</div>"
     },
     "execution_count": 1466,
     "metadata": {},
     "output_type": "execute_result"
    }
   ],
   "source": [
    "X"
   ],
   "metadata": {
    "collapsed": false,
    "pycharm": {
     "name": "#%%\n"
    }
   }
  },
  {
   "cell_type": "markdown",
   "source": [
    "#### 2) Separation train and test dataset\n"
   ],
   "metadata": {
    "collapsed": false,
    "pycharm": {
     "name": "#%% md\n"
    }
   }
  },
  {
   "cell_type": "code",
   "execution_count": 1467,
   "outputs": [
    {
     "name": "stdout",
     "output_type": "stream",
     "text": [
      "We have to separate the train / test sets before normalising the dataset.\n"
     ]
    }
   ],
   "source": [
    "print(\"We have to separate the train / test sets before normalising the dataset.\")"
   ],
   "metadata": {
    "collapsed": false,
    "pycharm": {
     "name": "#%%\n"
    }
   }
  },
  {
   "cell_type": "code",
   "execution_count": 1468,
   "outputs": [],
   "source": [
    "# We create a training set and a test set (the test set contains 30% of the dataset)\n",
    "from sklearn import model_selection\n",
    "X_train, X_test, y_train, y_test = model_selection.train_test_split(X, y, test_size=0.3,  random_state=42)"
   ],
   "metadata": {
    "collapsed": false,
    "pycharm": {
     "name": "#%%\n"
    }
   }
  },
  {
   "cell_type": "code",
   "execution_count": 1469,
   "outputs": [
    {
     "data": {
      "text/plain": "(2209, 9)"
     },
     "execution_count": 1469,
     "metadata": {},
     "output_type": "execute_result"
    }
   ],
   "source": [
    "X_train.shape"
   ],
   "metadata": {
    "collapsed": false,
    "pycharm": {
     "name": "#%%\n"
    }
   }
  },
  {
   "cell_type": "code",
   "execution_count": 1470,
   "outputs": [
    {
     "data": {
      "text/plain": "(948, 9)"
     },
     "execution_count": 1470,
     "metadata": {},
     "output_type": "execute_result"
    }
   ],
   "source": [
    "X_test.shape"
   ],
   "metadata": {
    "collapsed": false,
    "pycharm": {
     "name": "#%%\n"
    }
   }
  },
  {
   "cell_type": "markdown",
   "source": [
    "#### 3) Normalization"
   ],
   "metadata": {
    "collapsed": false,
    "pycharm": {
     "name": "#%% md\n"
    }
   }
  },
  {
   "cell_type": "code",
   "execution_count": 1471,
   "outputs": [],
   "source": [
    "from sklearn.preprocessing import StandardScaler, OneHotEncoder, MinMaxScaler"
   ],
   "metadata": {
    "collapsed": false,
    "pycharm": {
     "name": "#%%\n"
    }
   }
  },
  {
   "cell_type": "code",
   "execution_count": 1472,
   "outputs": [
    {
     "name": "stdout",
     "output_type": "stream",
     "text": [
      "We separate categorical variables from numerical variables.\n"
     ]
    }
   ],
   "source": [
    "print(\"We separate categorical variables from numerical variables.\")"
   ],
   "metadata": {
    "collapsed": false,
    "pycharm": {
     "name": "#%%\n"
    }
   }
  },
  {
   "cell_type": "code",
   "execution_count": 1473,
   "outputs": [
    {
     "name": "stdout",
     "output_type": "stream",
     "text": [
      "We won't normalise the year so we drop it from numerical_columns.\n",
      "Shape of categorical variables :  (3,)\n",
      "Shape of numerical variables : (5,)\n"
     ]
    }
   ],
   "source": [
    "X.select_dtypes(['category','object']) # we don't have 'object' here but it is just in case.\n",
    "\n",
    "categorical_columns = X.select_dtypes(['category','object']).columns\n",
    "numerical_columns = X.select_dtypes(include='number').columns.drop(\"YearBuilt\")\n",
    "print(\"We won't normalise the year so we drop it from numerical_columns.\")\n",
    "\n",
    "print(\"Shape of categorical variables : \", categorical_columns.shape)\n",
    "print(\"Shape of numerical variables :\", numerical_columns.shape)"
   ],
   "metadata": {
    "collapsed": false,
    "pycharm": {
     "name": "#%%\n"
    }
   }
  },
  {
   "cell_type": "markdown",
   "source": [
    "##### 1) Data Standardisation"
   ],
   "metadata": {
    "collapsed": false,
    "pycharm": {
     "name": "#%% md\n"
    }
   }
  },
  {
   "cell_type": "markdown",
   "source": [
    "We have to standardize the variables before learning a **Ridge Regression**.\n",
    "Standardizing means that each variable will have a **standard deviation** equal to 1."
   ],
   "metadata": {
    "collapsed": false,
    "pycharm": {
     "name": "#%% md\n"
    }
   }
  },
  {
   "cell_type": "code",
   "execution_count": 1474,
   "outputs": [
    {
     "name": "stdout",
     "output_type": "stream",
     "text": [
      "Numerical variables standardization\n",
      "We have : 5 numerical features to standardize.\n",
      "\n",
      "Index(['NumberofFloors', 'PropertyGFATotal', 'PropertyGFAParking',\n",
      "       'SecondLargestPropertyUseTypeGFA', 'ThirdLargestPropertyUseTypeGFA'],\n",
      "      dtype='object')\n"
     ]
    }
   ],
   "source": [
    "print(\"Numerical variables standardization\")\n",
    "print(\"We have :\", numerical_columns.shape[0], \"numerical features to standardize.\",end=\"\\n\\n\")\n",
    "\n",
    "print(numerical_columns)"
   ],
   "metadata": {
    "collapsed": false,
    "pycharm": {
     "name": "#%%\n"
    }
   }
  },
  {
   "cell_type": "raw",
   "source": [
    "print(\"Dates standardisation : not\")\n",
    "\n",
    "from datetime import datetime\n",
    "\n",
    "def convert_to_timestamp(date):\n",
    "    \"\"\"\n",
    "    Convert date objects to integers\n",
    "    :param date:\n",
    "    :return:\n",
    "    \"\"\"\n",
    "    try:\n",
    "        timestamp = datetime.timestamp(date)\n",
    "        print(\"timestamp =\", timestamp, type(timestamp))\n",
    "        print(\"OK :\", date, type(date))\n",
    "\n",
    "        return timestamp\n",
    "    except Exception as e:\n",
    "        print(\"Error :\", date, type(date))\n",
    "        print(e)\n",
    "\n",
    "def normalize_min_max(data_frame, columns_to_scale):\n",
    "    \"\"\"\n",
    "    Normalizes the dataframe for the wanted column(s) using min/max\n",
    "    :param data_frame:\n",
    "    :param columns_to_scale: (list)\n",
    "    :return:\n",
    "    \"\"\"\n",
    "    min_max_scaler = MinMaxScaler()\n",
    "    df = data_frame.copy() # we will return a copy of our dataframe\n",
    "    df[columns_to_scale] = min_max_scaler.fit_transform(df[columns_to_scale])\n",
    "    return df\n"
   ],
   "metadata": {
    "collapsed": false,
    "pycharm": {
     "name": "#%% raw\n"
    }
   }
  },
  {
   "cell_type": "code",
   "execution_count": 1475,
   "outputs": [
    {
     "name": "stdout",
     "output_type": "stream",
     "text": [
      "Before\n"
     ]
    },
    {
     "data": {
      "text/plain": "      YearBuilt          BuildingType          PrimaryPropertyType  \\\n748        2001  Multifamily LR (1-4)         Low-Rise Multifamily   \n2581       1977  Multifamily LR (1-4)         Low-Rise Multifamily   \n662        1966  Multifamily LR (1-4)         Low-Rise Multifamily   \n480        1957        NonResidential             Worship Facility   \n803        1908  Multifamily MR (5-9)         Mid-Rise Multifamily   \n...         ...                   ...                          ...   \n3092       1985        NonResidential                 Large Office   \n1095       2013  Multifamily MR (5-9)         Mid-Rise Multifamily   \n1130       2014  Multifamily MR (5-9)         Mid-Rise Multifamily   \n1294       1947  Multifamily LR (1-4)         Low-Rise Multifamily   \n860        2008        NonResidential  Supermarket / Grocery Store   \n\n     CouncilDistrictCode  NumberofFloors  PropertyGFATotal  \\\n748                    2               3            121635   \n2581                   4               3             20383   \n662                    2               2             21300   \n480                    1               2             24224   \n803                    7               7            159840   \n...                  ...             ...               ...   \n3092                   4               5            137738   \n1095                   4               6             84577   \n1130                   6               6            292376   \n1294                   6               3             24920   \n860                    1               1             37864   \n\n      PropertyGFAParking  SecondLargestPropertyUseTypeGFA  \\\n748                    0                              0.0   \n2581                   0                            768.0   \n662                    0                              0.0   \n480                    0                              0.0   \n803                    0                              0.0   \n...                  ...                              ...   \n3092               55504                          55504.0   \n1095                   0                          19700.0   \n1130                   0                          51663.0   \n1294                   0                              0.0   \n860                    0                              0.0   \n\n      ThirdLargestPropertyUseTypeGFA  \n748                              0.0  \n2581                             0.0  \n662                              0.0  \n480                              0.0  \n803                              0.0  \n...                              ...  \n3092                          4438.0  \n1095                             0.0  \n1130                         29096.0  \n1294                             0.0  \n860                              0.0  \n\n[2209 rows x 9 columns]",
      "text/html": "<div>\n<style scoped>\n    .dataframe tbody tr th:only-of-type {\n        vertical-align: middle;\n    }\n\n    .dataframe tbody tr th {\n        vertical-align: top;\n    }\n\n    .dataframe thead th {\n        text-align: right;\n    }\n</style>\n<table border=\"1\" class=\"dataframe\">\n  <thead>\n    <tr style=\"text-align: right;\">\n      <th></th>\n      <th>YearBuilt</th>\n      <th>BuildingType</th>\n      <th>PrimaryPropertyType</th>\n      <th>CouncilDistrictCode</th>\n      <th>NumberofFloors</th>\n      <th>PropertyGFATotal</th>\n      <th>PropertyGFAParking</th>\n      <th>SecondLargestPropertyUseTypeGFA</th>\n      <th>ThirdLargestPropertyUseTypeGFA</th>\n    </tr>\n  </thead>\n  <tbody>\n    <tr>\n      <th>748</th>\n      <td>2001</td>\n      <td>Multifamily LR (1-4)</td>\n      <td>Low-Rise Multifamily</td>\n      <td>2</td>\n      <td>3</td>\n      <td>121635</td>\n      <td>0</td>\n      <td>0.0</td>\n      <td>0.0</td>\n    </tr>\n    <tr>\n      <th>2581</th>\n      <td>1977</td>\n      <td>Multifamily LR (1-4)</td>\n      <td>Low-Rise Multifamily</td>\n      <td>4</td>\n      <td>3</td>\n      <td>20383</td>\n      <td>0</td>\n      <td>768.0</td>\n      <td>0.0</td>\n    </tr>\n    <tr>\n      <th>662</th>\n      <td>1966</td>\n      <td>Multifamily LR (1-4)</td>\n      <td>Low-Rise Multifamily</td>\n      <td>2</td>\n      <td>2</td>\n      <td>21300</td>\n      <td>0</td>\n      <td>0.0</td>\n      <td>0.0</td>\n    </tr>\n    <tr>\n      <th>480</th>\n      <td>1957</td>\n      <td>NonResidential</td>\n      <td>Worship Facility</td>\n      <td>1</td>\n      <td>2</td>\n      <td>24224</td>\n      <td>0</td>\n      <td>0.0</td>\n      <td>0.0</td>\n    </tr>\n    <tr>\n      <th>803</th>\n      <td>1908</td>\n      <td>Multifamily MR (5-9)</td>\n      <td>Mid-Rise Multifamily</td>\n      <td>7</td>\n      <td>7</td>\n      <td>159840</td>\n      <td>0</td>\n      <td>0.0</td>\n      <td>0.0</td>\n    </tr>\n    <tr>\n      <th>...</th>\n      <td>...</td>\n      <td>...</td>\n      <td>...</td>\n      <td>...</td>\n      <td>...</td>\n      <td>...</td>\n      <td>...</td>\n      <td>...</td>\n      <td>...</td>\n    </tr>\n    <tr>\n      <th>3092</th>\n      <td>1985</td>\n      <td>NonResidential</td>\n      <td>Large Office</td>\n      <td>4</td>\n      <td>5</td>\n      <td>137738</td>\n      <td>55504</td>\n      <td>55504.0</td>\n      <td>4438.0</td>\n    </tr>\n    <tr>\n      <th>1095</th>\n      <td>2013</td>\n      <td>Multifamily MR (5-9)</td>\n      <td>Mid-Rise Multifamily</td>\n      <td>4</td>\n      <td>6</td>\n      <td>84577</td>\n      <td>0</td>\n      <td>19700.0</td>\n      <td>0.0</td>\n    </tr>\n    <tr>\n      <th>1130</th>\n      <td>2014</td>\n      <td>Multifamily MR (5-9)</td>\n      <td>Mid-Rise Multifamily</td>\n      <td>6</td>\n      <td>6</td>\n      <td>292376</td>\n      <td>0</td>\n      <td>51663.0</td>\n      <td>29096.0</td>\n    </tr>\n    <tr>\n      <th>1294</th>\n      <td>1947</td>\n      <td>Multifamily LR (1-4)</td>\n      <td>Low-Rise Multifamily</td>\n      <td>6</td>\n      <td>3</td>\n      <td>24920</td>\n      <td>0</td>\n      <td>0.0</td>\n      <td>0.0</td>\n    </tr>\n    <tr>\n      <th>860</th>\n      <td>2008</td>\n      <td>NonResidential</td>\n      <td>Supermarket / Grocery Store</td>\n      <td>1</td>\n      <td>1</td>\n      <td>37864</td>\n      <td>0</td>\n      <td>0.0</td>\n      <td>0.0</td>\n    </tr>\n  </tbody>\n</table>\n<p>2209 rows × 9 columns</p>\n</div>"
     },
     "metadata": {},
     "output_type": "display_data"
    },
    {
     "name": "stdout",
     "output_type": "stream",
     "text": [
      "After\n"
     ]
    },
    {
     "data": {
      "text/plain": "      YearBuilt          BuildingType          PrimaryPropertyType  \\\n748        2001  Multifamily LR (1-4)         Low-Rise Multifamily   \n2581       1977  Multifamily LR (1-4)         Low-Rise Multifamily   \n662        1966  Multifamily LR (1-4)         Low-Rise Multifamily   \n480        1957        NonResidential             Worship Facility   \n803        1908  Multifamily MR (5-9)         Mid-Rise Multifamily   \n...         ...                   ...                          ...   \n3092       1985        NonResidential                 Large Office   \n1095       2013  Multifamily MR (5-9)         Mid-Rise Multifamily   \n1130       2014  Multifamily MR (5-9)         Mid-Rise Multifamily   \n1294       1947  Multifamily LR (1-4)         Low-Rise Multifamily   \n860        2008        NonResidential  Supermarket / Grocery Store   \n\n     CouncilDistrictCode  NumberofFloors  PropertyGFATotal  \\\n748                    2       -0.330868          0.173149   \n2581                   4       -0.330868         -0.465258   \n662                    2       -0.509613         -0.459476   \n480                    1       -0.509613         -0.441040   \n803                    7        0.384111          0.414037   \n...                  ...             ...               ...   \n3092                   4        0.026622          0.274681   \n1095                   4        0.205366         -0.060506   \n1130                   6        0.205366          1.249695   \n1294                   6       -0.330868         -0.436652   \n860                    1       -0.688357         -0.355038   \n\n      PropertyGFAParking  SecondLargestPropertyUseTypeGFA  \\\n748            -0.252593                        -0.372413   \n2581           -0.252593                        -0.353459   \n662            -0.252593                        -0.372413   \n480            -0.252593                        -0.372413   \n803            -0.252593                        -0.372413   \n...                  ...                              ...   \n3092            1.314047                         0.997429   \n1095           -0.252593                         0.113784   \n1130           -0.252593                         0.902633   \n1294           -0.252593                        -0.372413   \n860            -0.252593                        -0.372413   \n\n      ThirdLargestPropertyUseTypeGFA  \n748                        -0.192538  \n2581                       -0.192538  \n662                        -0.192538  \n480                        -0.192538  \n803                        -0.192538  \n...                              ...  \n3092                        0.200441  \n1095                       -0.192538  \n1130                        2.383877  \n1294                       -0.192538  \n860                        -0.192538  \n\n[2209 rows x 9 columns]",
      "text/html": "<div>\n<style scoped>\n    .dataframe tbody tr th:only-of-type {\n        vertical-align: middle;\n    }\n\n    .dataframe tbody tr th {\n        vertical-align: top;\n    }\n\n    .dataframe thead th {\n        text-align: right;\n    }\n</style>\n<table border=\"1\" class=\"dataframe\">\n  <thead>\n    <tr style=\"text-align: right;\">\n      <th></th>\n      <th>YearBuilt</th>\n      <th>BuildingType</th>\n      <th>PrimaryPropertyType</th>\n      <th>CouncilDistrictCode</th>\n      <th>NumberofFloors</th>\n      <th>PropertyGFATotal</th>\n      <th>PropertyGFAParking</th>\n      <th>SecondLargestPropertyUseTypeGFA</th>\n      <th>ThirdLargestPropertyUseTypeGFA</th>\n    </tr>\n  </thead>\n  <tbody>\n    <tr>\n      <th>748</th>\n      <td>2001</td>\n      <td>Multifamily LR (1-4)</td>\n      <td>Low-Rise Multifamily</td>\n      <td>2</td>\n      <td>-0.330868</td>\n      <td>0.173149</td>\n      <td>-0.252593</td>\n      <td>-0.372413</td>\n      <td>-0.192538</td>\n    </tr>\n    <tr>\n      <th>2581</th>\n      <td>1977</td>\n      <td>Multifamily LR (1-4)</td>\n      <td>Low-Rise Multifamily</td>\n      <td>4</td>\n      <td>-0.330868</td>\n      <td>-0.465258</td>\n      <td>-0.252593</td>\n      <td>-0.353459</td>\n      <td>-0.192538</td>\n    </tr>\n    <tr>\n      <th>662</th>\n      <td>1966</td>\n      <td>Multifamily LR (1-4)</td>\n      <td>Low-Rise Multifamily</td>\n      <td>2</td>\n      <td>-0.509613</td>\n      <td>-0.459476</td>\n      <td>-0.252593</td>\n      <td>-0.372413</td>\n      <td>-0.192538</td>\n    </tr>\n    <tr>\n      <th>480</th>\n      <td>1957</td>\n      <td>NonResidential</td>\n      <td>Worship Facility</td>\n      <td>1</td>\n      <td>-0.509613</td>\n      <td>-0.441040</td>\n      <td>-0.252593</td>\n      <td>-0.372413</td>\n      <td>-0.192538</td>\n    </tr>\n    <tr>\n      <th>803</th>\n      <td>1908</td>\n      <td>Multifamily MR (5-9)</td>\n      <td>Mid-Rise Multifamily</td>\n      <td>7</td>\n      <td>0.384111</td>\n      <td>0.414037</td>\n      <td>-0.252593</td>\n      <td>-0.372413</td>\n      <td>-0.192538</td>\n    </tr>\n    <tr>\n      <th>...</th>\n      <td>...</td>\n      <td>...</td>\n      <td>...</td>\n      <td>...</td>\n      <td>...</td>\n      <td>...</td>\n      <td>...</td>\n      <td>...</td>\n      <td>...</td>\n    </tr>\n    <tr>\n      <th>3092</th>\n      <td>1985</td>\n      <td>NonResidential</td>\n      <td>Large Office</td>\n      <td>4</td>\n      <td>0.026622</td>\n      <td>0.274681</td>\n      <td>1.314047</td>\n      <td>0.997429</td>\n      <td>0.200441</td>\n    </tr>\n    <tr>\n      <th>1095</th>\n      <td>2013</td>\n      <td>Multifamily MR (5-9)</td>\n      <td>Mid-Rise Multifamily</td>\n      <td>4</td>\n      <td>0.205366</td>\n      <td>-0.060506</td>\n      <td>-0.252593</td>\n      <td>0.113784</td>\n      <td>-0.192538</td>\n    </tr>\n    <tr>\n      <th>1130</th>\n      <td>2014</td>\n      <td>Multifamily MR (5-9)</td>\n      <td>Mid-Rise Multifamily</td>\n      <td>6</td>\n      <td>0.205366</td>\n      <td>1.249695</td>\n      <td>-0.252593</td>\n      <td>0.902633</td>\n      <td>2.383877</td>\n    </tr>\n    <tr>\n      <th>1294</th>\n      <td>1947</td>\n      <td>Multifamily LR (1-4)</td>\n      <td>Low-Rise Multifamily</td>\n      <td>6</td>\n      <td>-0.330868</td>\n      <td>-0.436652</td>\n      <td>-0.252593</td>\n      <td>-0.372413</td>\n      <td>-0.192538</td>\n    </tr>\n    <tr>\n      <th>860</th>\n      <td>2008</td>\n      <td>NonResidential</td>\n      <td>Supermarket / Grocery Store</td>\n      <td>1</td>\n      <td>-0.688357</td>\n      <td>-0.355038</td>\n      <td>-0.252593</td>\n      <td>-0.372413</td>\n      <td>-0.192538</td>\n    </tr>\n  </tbody>\n</table>\n<p>2209 rows × 9 columns</p>\n</div>"
     },
     "metadata": {},
     "output_type": "display_data"
    }
   ],
   "source": [
    "# We train / fit the scaler on the training set / Computes the mean and std to be used for later scaling.\n",
    "std_scale = StandardScaler().fit(X_train[numerical_columns])\n",
    "# We transform the training set and the testing set / Performs standardization by centering and scaling.\n",
    "X_train_std = X_train.copy()\n",
    "X_test_std = X_test.copy()\n",
    "\n",
    "X_train_std[numerical_columns] = std_scale.transform(X_train[numerical_columns])\n",
    "X_test_std[numerical_columns] = std_scale.transform(X_test[numerical_columns])\n",
    "\n",
    "print(\"Before\")\n",
    "display(X_train)\n",
    "print(\"After\")\n",
    "display(X_train_std)"
   ],
   "metadata": {
    "collapsed": false,
    "pycharm": {
     "name": "#%%\n"
    }
   }
  },
  {
   "cell_type": "code",
   "execution_count": 1476,
   "outputs": [
    {
     "name": "stdout",
     "output_type": "stream",
     "text": [
      "We can check that the numerical variables have a Standard Normal distribution.\n"
     ]
    },
    {
     "name": "stderr",
     "output_type": "stream",
     "text": [
      "C:\\ProgramData\\Anaconda3\\lib\\site-packages\\seaborn\\distributions.py:2619: FutureWarning: `distplot` is a deprecated function and will be removed in a future version. Please adapt your code to use either `displot` (a figure-level function with similar flexibility) or `kdeplot` (an axes-level function for kernel density plots).\n",
      "  warnings.warn(msg, FutureWarning)\n",
      "C:\\ProgramData\\Anaconda3\\lib\\site-packages\\seaborn\\distributions.py:2619: FutureWarning: `distplot` is a deprecated function and will be removed in a future version. Please adapt your code to use either `displot` (a figure-level function with similar flexibility) or `kdeplot` (an axes-level function for kernel density plots).\n",
      "  warnings.warn(msg, FutureWarning)\n",
      "C:\\ProgramData\\Anaconda3\\lib\\site-packages\\seaborn\\distributions.py:2619: FutureWarning: `distplot` is a deprecated function and will be removed in a future version. Please adapt your code to use either `displot` (a figure-level function with similar flexibility) or `kdeplot` (an axes-level function for kernel density plots).\n",
      "  warnings.warn(msg, FutureWarning)\n",
      "C:\\ProgramData\\Anaconda3\\lib\\site-packages\\seaborn\\distributions.py:2619: FutureWarning: `distplot` is a deprecated function and will be removed in a future version. Please adapt your code to use either `displot` (a figure-level function with similar flexibility) or `kdeplot` (an axes-level function for kernel density plots).\n",
      "  warnings.warn(msg, FutureWarning)\n",
      "C:\\ProgramData\\Anaconda3\\lib\\site-packages\\seaborn\\distributions.py:2619: FutureWarning: `distplot` is a deprecated function and will be removed in a future version. Please adapt your code to use either `displot` (a figure-level function with similar flexibility) or `kdeplot` (an axes-level function for kernel density plots).\n",
      "  warnings.warn(msg, FutureWarning)\n"
     ]
    },
    {
     "name": "stdout",
     "output_type": "stream",
     "text": [
      "IMPORT FUNCTIONS / DENSITE\n"
     ]
    },
    {
     "data": {
      "text/plain": "<Figure size 864x1008 with 28 Axes>",
      "image/png": "[encoded data removed]"
     },
     "metadata": {
      "needs_background": "light"
     },
     "output_type": "display_data"
    }
   ],
   "source": [
    "def densite(df, lines=7, cols=4):\n",
    "    \"\"\"\n",
    "    Input : dataframe, lignes, colonnes\n",
    "    Output : grille des courbes de densités des variables numériques du dataframe\n",
    "    \"\"\"\n",
    "    df = df.select_dtypes(include='number').copy()\n",
    "\n",
    "    fig, ax = plt.subplots(lines, cols, figsize=(min(15, cols * 3), lines * 2))\n",
    "\n",
    "    for i, val in enumerate(df.columns.tolist()):\n",
    "        bp = sns.distplot(df[val], hist=False, ax=ax[i // cols, i % cols], kde_kws={'shade': True})\n",
    "        bp.set_title(\"skewness : \" + str(round(df[val].skew(), 1)), fontsize=12)\n",
    "        bp.set_yticks([])\n",
    "        imax = i\n",
    "\n",
    "    for i in range(imax + 1, lines * cols):\n",
    "        ax[i // cols, i % cols].axis('off')\n",
    "\n",
    "    plt.tight_layout()\n",
    "\n",
    "print(\"We can check that the numerical variables have a Standard Normal distribution.\")\n",
    "densite(X_train[numerical_columns])\n",
    "\n",
    "print(\"IMPORT FUNCTIONS / DENSITE\")"
   ],
   "metadata": {
    "collapsed": false,
    "pycharm": {
     "name": "#%%\n"
    }
   }
  },
  {
   "cell_type": "markdown",
   "source": [
    "##### 2) Feature Encoding : One Hot Encoder"
   ],
   "metadata": {
    "collapsed": false,
    "pycharm": {
     "name": "#%% md\n"
    }
   }
  },
  {
   "cell_type": "code",
   "execution_count": 1477,
   "outputs": [
    {
     "name": "stdout",
     "output_type": "stream",
     "text": [
      "Categorical variables featuring\n",
      "We have : 3 categorical features to encode.\n",
      "\n",
      "Index(['BuildingType', 'PrimaryPropertyType', 'CouncilDistrictCode'], dtype='object')\n"
     ]
    }
   ],
   "source": [
    "print(\"Categorical variables featuring\")\n",
    "\n",
    "print(\"We have :\", categorical_columns.shape[0], \"categorical features to encode.\", end=\"\\n\\n\")\n",
    "print(categorical_columns)"
   ],
   "metadata": {
    "collapsed": false,
    "pycharm": {
     "name": "#%%\n"
    }
   }
  },
  {
   "cell_type": "code",
   "execution_count": 1478,
   "outputs": [
    {
     "data": {
      "text/plain": "YearBuilt                             int64\nBuildingType                       category\nPrimaryPropertyType                category\nCouncilDistrictCode                category\nNumberofFloors                        int64\nPropertyGFATotal                      int64\nPropertyGFAParking                    int64\nSecondLargestPropertyUseTypeGFA     float64\nThirdLargestPropertyUseTypeGFA      float64\ndtype: object"
     },
     "execution_count": 1478,
     "metadata": {},
     "output_type": "execute_result"
    }
   ],
   "source": [
    "X.dtypes # we check that we have categories"
   ],
   "metadata": {
    "collapsed": false,
    "pycharm": {
     "name": "#%%\n"
    }
   }
  },
  {
   "cell_type": "code",
   "execution_count": 1479,
   "outputs": [
    {
     "data": {
      "text/plain": "BuildingType            8\nPrimaryPropertyType    23\nCouncilDistrictCode     7\ndtype: int64"
     },
     "execution_count": 1479,
     "metadata": {},
     "output_type": "execute_result"
    }
   ],
   "source": [
    "X[categorical_columns].nunique()"
   ],
   "metadata": {
    "collapsed": false,
    "pycharm": {
     "name": "#%%\n"
    }
   }
  },
  {
   "cell_type": "raw",
   "source": [
    "print(\"First, we must give labels to the categorical variables.\")\n",
    "from sklearn.preprocessing import LabelEncoder\n",
    "\n",
    "label_encoder = LabelEncoder()\n",
    "label_encoder.fit(X_train_std[categorical_columns])\n",
    "\n",
    "print(\"Before\")\n",
    "display(X_train_std)\n",
    "# Assigning numerical values and storing in another column\n",
    "X_train_std[categorical_columns] = label_encoder.transform(X_train_std[categorical_columns])\n",
    "print(\"After\")\n",
    "display(X_train_std)"
   ],
   "metadata": {
    "collapsed": false,
    "pycharm": {
     "name": "#%% raw\n"
    }
   }
  },
  {
   "cell_type": "code",
   "execution_count": 1480,
   "outputs": [
    {
     "data": {
      "text/plain": "              BuildingType          PrimaryPropertyType CouncilDistrictCode\n748   Multifamily LR (1-4)         Low-Rise Multifamily                   2\n2581  Multifamily LR (1-4)         Low-Rise Multifamily                   4\n662   Multifamily LR (1-4)         Low-Rise Multifamily                   2\n480         NonResidential             Worship Facility                   1\n803   Multifamily MR (5-9)         Mid-Rise Multifamily                   7\n...                    ...                          ...                 ...\n3092        NonResidential                 Large Office                   4\n1095  Multifamily MR (5-9)         Mid-Rise Multifamily                   4\n1130  Multifamily MR (5-9)         Mid-Rise Multifamily                   6\n1294  Multifamily LR (1-4)         Low-Rise Multifamily                   6\n860         NonResidential  Supermarket / Grocery Store                   1\n\n[2209 rows x 3 columns]",
      "text/html": "<div>\n<style scoped>\n    .dataframe tbody tr th:only-of-type {\n        vertical-align: middle;\n    }\n\n    .dataframe tbody tr th {\n        vertical-align: top;\n    }\n\n    .dataframe thead th {\n        text-align: right;\n    }\n</style>\n<table border=\"1\" class=\"dataframe\">\n  <thead>\n    <tr style=\"text-align: right;\">\n      <th></th>\n      <th>BuildingType</th>\n      <th>PrimaryPropertyType</th>\n      <th>CouncilDistrictCode</th>\n    </tr>\n  </thead>\n  <tbody>\n    <tr>\n      <th>748</th>\n      <td>Multifamily LR (1-4)</td>\n      <td>Low-Rise Multifamily</td>\n      <td>2</td>\n    </tr>\n    <tr>\n      <th>2581</th>\n      <td>Multifamily LR (1-4)</td>\n      <td>Low-Rise Multifamily</td>\n      <td>4</td>\n    </tr>\n    <tr>\n      <th>662</th>\n      <td>Multifamily LR (1-4)</td>\n      <td>Low-Rise Multifamily</td>\n      <td>2</td>\n    </tr>\n    <tr>\n      <th>480</th>\n      <td>NonResidential</td>\n      <td>Worship Facility</td>\n      <td>1</td>\n    </tr>\n    <tr>\n      <th>803</th>\n      <td>Multifamily MR (5-9)</td>\n      <td>Mid-Rise Multifamily</td>\n      <td>7</td>\n    </tr>\n    <tr>\n      <th>...</th>\n      <td>...</td>\n      <td>...</td>\n      <td>...</td>\n    </tr>\n    <tr>\n      <th>3092</th>\n      <td>NonResidential</td>\n      <td>Large Office</td>\n      <td>4</td>\n    </tr>\n    <tr>\n      <th>1095</th>\n      <td>Multifamily MR (5-9)</td>\n      <td>Mid-Rise Multifamily</td>\n      <td>4</td>\n    </tr>\n    <tr>\n      <th>1130</th>\n      <td>Multifamily MR (5-9)</td>\n      <td>Mid-Rise Multifamily</td>\n      <td>6</td>\n    </tr>\n    <tr>\n      <th>1294</th>\n      <td>Multifamily LR (1-4)</td>\n      <td>Low-Rise Multifamily</td>\n      <td>6</td>\n    </tr>\n    <tr>\n      <th>860</th>\n      <td>NonResidential</td>\n      <td>Supermarket / Grocery Store</td>\n      <td>1</td>\n    </tr>\n  </tbody>\n</table>\n<p>2209 rows × 3 columns</p>\n</div>"
     },
     "execution_count": 1480,
     "metadata": {},
     "output_type": "execute_result"
    }
   ],
   "source": [
    "X_train_std[categorical_columns]"
   ],
   "metadata": {
    "collapsed": false,
    "pycharm": {
     "name": "#%%\n"
    }
   }
  },
  {
   "cell_type": "code",
   "execution_count": 1481,
   "outputs": [
    {
     "name": "stdout",
     "output_type": "stream",
     "text": [
      "Now, we can use the One Hot Encoder.\n",
      "With the one hot encoder, we will get : 38 columns to encodes the categorical features.\n",
      "We have indeed : 38 labels after encoding the categorical variables.\n"
     ]
    },
    {
     "data": {
      "text/plain": "      BuildingType_Campus  BuildingType_Multifamily HR (10+)  \\\n748                   0.0                                0.0   \n2581                  0.0                                0.0   \n662                   0.0                                0.0   \n480                   0.0                                0.0   \n803                   0.0                                0.0   \n...                   ...                                ...   \n3092                  0.0                                0.0   \n1095                  0.0                                0.0   \n1130                  0.0                                0.0   \n1294                  0.0                                0.0   \n860                   0.0                                0.0   \n\n      BuildingType_Multifamily LR (1-4)  BuildingType_Multifamily MR (5-9)  \\\n748                                 1.0                                0.0   \n2581                                1.0                                0.0   \n662                                 1.0                                0.0   \n480                                 0.0                                0.0   \n803                                 0.0                                1.0   \n...                                 ...                                ...   \n3092                                0.0                                0.0   \n1095                                0.0                                1.0   \n1130                                0.0                                1.0   \n1294                                1.0                                0.0   \n860                                 0.0                                0.0   \n\n      BuildingType_NonResidential  BuildingType_Nonresidential COS  \\\n748                           0.0                              0.0   \n2581                          0.0                              0.0   \n662                           0.0                              0.0   \n480                           1.0                              0.0   \n803                           0.0                              0.0   \n...                           ...                              ...   \n3092                          1.0                              0.0   \n1095                          0.0                              0.0   \n1130                          0.0                              0.0   \n1294                          0.0                              0.0   \n860                           1.0                              0.0   \n\n      BuildingType_Nonresidential WA  BuildingType_SPS-District K-12  \\\n748                              0.0                             0.0   \n2581                             0.0                             0.0   \n662                              0.0                             0.0   \n480                              0.0                             0.0   \n803                              0.0                             0.0   \n...                              ...                             ...   \n3092                             0.0                             0.0   \n1095                             0.0                             0.0   \n1130                             0.0                             0.0   \n1294                             0.0                             0.0   \n860                              0.0                             0.0   \n\n      PrimaryPropertyType_Distribution Center  \\\n748                                       0.0   \n2581                                      0.0   \n662                                       0.0   \n480                                       0.0   \n803                                       0.0   \n...                                       ...   \n3092                                      0.0   \n1095                                      0.0   \n1130                                      0.0   \n1294                                      0.0   \n860                                       0.0   \n\n      PrimaryPropertyType_High-Rise Multifamily  ...  \\\n748                                         0.0  ...   \n2581                                        0.0  ...   \n662                                         0.0  ...   \n480                                         0.0  ...   \n803                                         0.0  ...   \n...                                         ...  ...   \n3092                                        0.0  ...   \n1095                                        0.0  ...   \n1130                                        0.0  ...   \n1294                                        0.0  ...   \n860                                         0.0  ...   \n\n      PrimaryPropertyType_University  PrimaryPropertyType_Warehouse  \\\n748                              0.0                            0.0   \n2581                             0.0                            0.0   \n662                              0.0                            0.0   \n480                              0.0                            0.0   \n803                              0.0                            0.0   \n...                              ...                            ...   \n3092                             0.0                            0.0   \n1095                             0.0                            0.0   \n1130                             0.0                            0.0   \n1294                             0.0                            0.0   \n860                              0.0                            0.0   \n\n      PrimaryPropertyType_Worship Facility  CouncilDistrictCode_1  \\\n748                                    0.0                    0.0   \n2581                                   0.0                    0.0   \n662                                    0.0                    0.0   \n480                                    1.0                    1.0   \n803                                    0.0                    0.0   \n...                                    ...                    ...   \n3092                                   0.0                    0.0   \n1095                                   0.0                    0.0   \n1130                                   0.0                    0.0   \n1294                                   0.0                    0.0   \n860                                    0.0                    1.0   \n\n      CouncilDistrictCode_2  CouncilDistrictCode_3  CouncilDistrictCode_4  \\\n748                     1.0                    0.0                    0.0   \n2581                    0.0                    0.0                    1.0   \n662                     1.0                    0.0                    0.0   \n480                     0.0                    0.0                    0.0   \n803                     0.0                    0.0                    0.0   \n...                     ...                    ...                    ...   \n3092                    0.0                    0.0                    1.0   \n1095                    0.0                    0.0                    1.0   \n1130                    0.0                    0.0                    0.0   \n1294                    0.0                    0.0                    0.0   \n860                     0.0                    0.0                    0.0   \n\n      CouncilDistrictCode_5  CouncilDistrictCode_6  CouncilDistrictCode_7  \n748                     0.0                    0.0                    0.0  \n2581                    0.0                    0.0                    0.0  \n662                     0.0                    0.0                    0.0  \n480                     0.0                    0.0                    0.0  \n803                     0.0                    0.0                    1.0  \n...                     ...                    ...                    ...  \n3092                    0.0                    0.0                    0.0  \n1095                    0.0                    0.0                    0.0  \n1130                    0.0                    1.0                    0.0  \n1294                    0.0                    1.0                    0.0  \n860                     0.0                    0.0                    0.0  \n\n[2209 rows x 38 columns]",
      "text/html": "<div>\n<style scoped>\n    .dataframe tbody tr th:only-of-type {\n        vertical-align: middle;\n    }\n\n    .dataframe tbody tr th {\n        vertical-align: top;\n    }\n\n    .dataframe thead th {\n        text-align: right;\n    }\n</style>\n<table border=\"1\" class=\"dataframe\">\n  <thead>\n    <tr style=\"text-align: right;\">\n      <th></th>\n      <th>BuildingType_Campus</th>\n      <th>BuildingType_Multifamily HR (10+)</th>\n      <th>BuildingType_Multifamily LR (1-4)</th>\n      <th>BuildingType_Multifamily MR (5-9)</th>\n      <th>BuildingType_NonResidential</th>\n      <th>BuildingType_Nonresidential COS</th>\n      <th>BuildingType_Nonresidential WA</th>\n      <th>BuildingType_SPS-District K-12</th>\n      <th>PrimaryPropertyType_Distribution Center</th>\n      <th>PrimaryPropertyType_High-Rise Multifamily</th>\n      <th>...</th>\n      <th>PrimaryPropertyType_University</th>\n      <th>PrimaryPropertyType_Warehouse</th>\n      <th>PrimaryPropertyType_Worship Facility</th>\n      <th>CouncilDistrictCode_1</th>\n      <th>CouncilDistrictCode_2</th>\n      <th>CouncilDistrictCode_3</th>\n      <th>CouncilDistrictCode_4</th>\n      <th>CouncilDistrictCode_5</th>\n      <th>CouncilDistrictCode_6</th>\n      <th>CouncilDistrictCode_7</th>\n    </tr>\n  </thead>\n  <tbody>\n    <tr>\n      <th>748</th>\n      <td>0.0</td>\n      <td>0.0</td>\n      <td>1.0</td>\n      <td>0.0</td>\n      <td>0.0</td>\n      <td>0.0</td>\n      <td>0.0</td>\n      <td>0.0</td>\n      <td>0.0</td>\n      <td>0.0</td>\n      <td>...</td>\n      <td>0.0</td>\n      <td>0.0</td>\n      <td>0.0</td>\n      <td>0.0</td>\n      <td>1.0</td>\n      <td>0.0</td>\n      <td>0.0</td>\n      <td>0.0</td>\n      <td>0.0</td>\n      <td>0.0</td>\n    </tr>\n    <tr>\n      <th>2581</th>\n      <td>0.0</td>\n      <td>0.0</td>\n      <td>1.0</td>\n      <td>0.0</td>\n      <td>0.0</td>\n      <td>0.0</td>\n      <td>0.0</td>\n      <td>0.0</td>\n      <td>0.0</td>\n      <td>0.0</td>\n      <td>...</td>\n      <td>0.0</td>\n      <td>0.0</td>\n      <td>0.0</td>\n      <td>0.0</td>\n      <td>0.0</td>\n      <td>0.0</td>\n      <td>1.0</td>\n      <td>0.0</td>\n      <td>0.0</td>\n      <td>0.0</td>\n    </tr>\n    <tr>\n      <th>662</th>\n      <td>0.0</td>\n      <td>0.0</td>\n      <td>1.0</td>\n      <td>0.0</td>\n      <td>0.0</td>\n      <td>0.0</td>\n      <td>0.0</td>\n      <td>0.0</td>\n      <td>0.0</td>\n      <td>0.0</td>\n      <td>...</td>\n      <td>0.0</td>\n      <td>0.0</td>\n      <td>0.0</td>\n      <td>0.0</td>\n      <td>1.0</td>\n      <td>0.0</td>\n      <td>0.0</td>\n      <td>0.0</td>\n      <td>0.0</td>\n      <td>0.0</td>\n    </tr>\n    <tr>\n      <th>480</th>\n      <td>0.0</td>\n      <td>0.0</td>\n      <td>0.0</td>\n      <td>0.0</td>\n      <td>1.0</td>\n      <td>0.0</td>\n      <td>0.0</td>\n      <td>0.0</td>\n      <td>0.0</td>\n      <td>0.0</td>\n      <td>...</td>\n      <td>0.0</td>\n      <td>0.0</td>\n      <td>1.0</td>\n      <td>1.0</td>\n      <td>0.0</td>\n      <td>0.0</td>\n      <td>0.0</td>\n      <td>0.0</td>\n      <td>0.0</td>\n      <td>0.0</td>\n    </tr>\n    <tr>\n      <th>803</th>\n      <td>0.0</td>\n      <td>0.0</td>\n      <td>0.0</td>\n      <td>1.0</td>\n      <td>0.0</td>\n      <td>0.0</td>\n      <td>0.0</td>\n      <td>0.0</td>\n      <td>0.0</td>\n      <td>0.0</td>\n      <td>...</td>\n      <td>0.0</td>\n      <td>0.0</td>\n      <td>0.0</td>\n      <td>0.0</td>\n      <td>0.0</td>\n      <td>0.0</td>\n      <td>0.0</td>\n      <td>0.0</td>\n      <td>0.0</td>\n      <td>1.0</td>\n    </tr>\n    <tr>\n      <th>...</th>\n      <td>...</td>\n      <td>...</td>\n      <td>...</td>\n      <td>...</td>\n      <td>...</td>\n      <td>...</td>\n      <td>...</td>\n      <td>...</td>\n      <td>...</td>\n      <td>...</td>\n      <td>...</td>\n      <td>...</td>\n      <td>...</td>\n      <td>...</td>\n      <td>...</td>\n      <td>...</td>\n      <td>...</td>\n      <td>...</td>\n      <td>...</td>\n      <td>...</td>\n      <td>...</td>\n    </tr>\n    <tr>\n      <th>3092</th>\n      <td>0.0</td>\n      <td>0.0</td>\n      <td>0.0</td>\n      <td>0.0</td>\n      <td>1.0</td>\n      <td>0.0</td>\n      <td>0.0</td>\n      <td>0.0</td>\n      <td>0.0</td>\n      <td>0.0</td>\n      <td>...</td>\n      <td>0.0</td>\n      <td>0.0</td>\n      <td>0.0</td>\n      <td>0.0</td>\n      <td>0.0</td>\n      <td>0.0</td>\n      <td>1.0</td>\n      <td>0.0</td>\n      <td>0.0</td>\n      <td>0.0</td>\n    </tr>\n    <tr>\n      <th>1095</th>\n      <td>0.0</td>\n      <td>0.0</td>\n      <td>0.0</td>\n      <td>1.0</td>\n      <td>0.0</td>\n      <td>0.0</td>\n      <td>0.0</td>\n      <td>0.0</td>\n      <td>0.0</td>\n      <td>0.0</td>\n      <td>...</td>\n      <td>0.0</td>\n      <td>0.0</td>\n      <td>0.0</td>\n      <td>0.0</td>\n      <td>0.0</td>\n      <td>0.0</td>\n      <td>1.0</td>\n      <td>0.0</td>\n      <td>0.0</td>\n      <td>0.0</td>\n    </tr>\n    <tr>\n      <th>1130</th>\n      <td>0.0</td>\n      <td>0.0</td>\n      <td>0.0</td>\n      <td>1.0</td>\n      <td>0.0</td>\n      <td>0.0</td>\n      <td>0.0</td>\n      <td>0.0</td>\n      <td>0.0</td>\n      <td>0.0</td>\n      <td>...</td>\n      <td>0.0</td>\n      <td>0.0</td>\n      <td>0.0</td>\n      <td>0.0</td>\n      <td>0.0</td>\n      <td>0.0</td>\n      <td>0.0</td>\n      <td>0.0</td>\n      <td>1.0</td>\n      <td>0.0</td>\n    </tr>\n    <tr>\n      <th>1294</th>\n      <td>0.0</td>\n      <td>0.0</td>\n      <td>1.0</td>\n      <td>0.0</td>\n      <td>0.0</td>\n      <td>0.0</td>\n      <td>0.0</td>\n      <td>0.0</td>\n      <td>0.0</td>\n      <td>0.0</td>\n      <td>...</td>\n      <td>0.0</td>\n      <td>0.0</td>\n      <td>0.0</td>\n      <td>0.0</td>\n      <td>0.0</td>\n      <td>0.0</td>\n      <td>0.0</td>\n      <td>0.0</td>\n      <td>1.0</td>\n      <td>0.0</td>\n    </tr>\n    <tr>\n      <th>860</th>\n      <td>0.0</td>\n      <td>0.0</td>\n      <td>0.0</td>\n      <td>0.0</td>\n      <td>1.0</td>\n      <td>0.0</td>\n      <td>0.0</td>\n      <td>0.0</td>\n      <td>0.0</td>\n      <td>0.0</td>\n      <td>...</td>\n      <td>0.0</td>\n      <td>0.0</td>\n      <td>0.0</td>\n      <td>1.0</td>\n      <td>0.0</td>\n      <td>0.0</td>\n      <td>0.0</td>\n      <td>0.0</td>\n      <td>0.0</td>\n      <td>0.0</td>\n    </tr>\n  </tbody>\n</table>\n<p>2209 rows × 38 columns</p>\n</div>"
     },
     "metadata": {},
     "output_type": "display_data"
    }
   ],
   "source": [
    "print(\"Now, we can use the One Hot Encoder.\")\n",
    "print(\"With the one hot encoder, we will get :\", sum([X[categorical_columns].nunique()[i] for i in range(len(categorical_columns))]), \"columns to encodes the categorical features.\")\n",
    "\n",
    "# creating instance of one-hot-encoder\n",
    "one_hot_encoder = OneHotEncoder(handle_unknown='ignore', sparse=False) # if sparse=True (by default), we need to add .toarray() to encoded_categorical_data\n",
    "\n",
    "# 1) Fit the encoder on the training set\n",
    "one_hot_encoder.fit(X_train_std[categorical_columns])\n",
    "# 2) we get the encoded numpy array\n",
    "encoded_categorical_data = one_hot_encoder.transform(X_train_std[categorical_columns])\n",
    "# 3) we make a list of the columns names\n",
    "encoded_categorical_data_names = one_hot_encoder.get_feature_names_out().tolist()\n",
    "\n",
    "print(\"We have indeed :\", len(encoded_categorical_data_names), \"labels after encoding the categorical variables.\")\n",
    "\n",
    "# 4) we recreate a dataframe with the column names and the numpy array\n",
    "X_train_encoded = pd.DataFrame(columns=encoded_categorical_data_names,\n",
    "                               data=encoded_categorical_data,\n",
    "                               index=X_train_std.index)\n",
    "display(X_train_encoded)"
   ],
   "metadata": {
    "collapsed": false,
    "pycharm": {
     "name": "#%%\n"
    }
   }
  },
  {
   "cell_type": "code",
   "execution_count": 1482,
   "outputs": [
    {
     "data": {
      "text/plain": "['NumberofFloors',\n 'PropertyGFATotal',\n 'PropertyGFAParking',\n 'SecondLargestPropertyUseTypeGFA',\n 'ThirdLargestPropertyUseTypeGFA']"
     },
     "execution_count": 1482,
     "metadata": {},
     "output_type": "execute_result"
    }
   ],
   "source": [
    "numerical_columns.tolist()"
   ],
   "metadata": {
    "collapsed": false,
    "pycharm": {
     "name": "#%%\n"
    }
   }
  },
  {
   "cell_type": "code",
   "execution_count": 1483,
   "outputs": [
    {
     "data": {
      "text/plain": "['NumberofFloors',\n 'PropertyGFATotal',\n 'PropertyGFAParking',\n 'SecondLargestPropertyUseTypeGFA',\n 'ThirdLargestPropertyUseTypeGFA',\n 'YearBuilt']"
     },
     "execution_count": 1483,
     "metadata": {},
     "output_type": "execute_result"
    }
   ],
   "source": [
    "features_to_merge = numerical_columns.tolist().copy()\n",
    "features_to_merge.append(\"YearBuilt\")\n",
    "features_to_merge"
   ],
   "metadata": {
    "collapsed": false,
    "pycharm": {
     "name": "#%%\n"
    }
   }
  },
  {
   "cell_type": "code",
   "execution_count": 1483,
   "outputs": [],
   "source": [],
   "metadata": {
    "collapsed": false,
    "pycharm": {
     "name": "#%%\n"
    }
   }
  },
  {
   "cell_type": "code",
   "execution_count": 1484,
   "outputs": [
    {
     "data": {
      "text/plain": "      BuildingType_Campus  BuildingType_Multifamily HR (10+)  \\\n748                   0.0                                0.0   \n2581                  0.0                                0.0   \n662                   0.0                                0.0   \n480                   0.0                                0.0   \n803                   0.0                                0.0   \n...                   ...                                ...   \n3092                  0.0                                0.0   \n1095                  0.0                                0.0   \n1130                  0.0                                0.0   \n1294                  0.0                                0.0   \n860                   0.0                                0.0   \n\n      BuildingType_Multifamily LR (1-4)  BuildingType_Multifamily MR (5-9)  \\\n748                                 1.0                                0.0   \n2581                                1.0                                0.0   \n662                                 1.0                                0.0   \n480                                 0.0                                0.0   \n803                                 0.0                                1.0   \n...                                 ...                                ...   \n3092                                0.0                                0.0   \n1095                                0.0                                1.0   \n1130                                0.0                                1.0   \n1294                                1.0                                0.0   \n860                                 0.0                                0.0   \n\n      BuildingType_NonResidential  BuildingType_Nonresidential COS  \\\n748                           0.0                              0.0   \n2581                          0.0                              0.0   \n662                           0.0                              0.0   \n480                           1.0                              0.0   \n803                           0.0                              0.0   \n...                           ...                              ...   \n3092                          1.0                              0.0   \n1095                          0.0                              0.0   \n1130                          0.0                              0.0   \n1294                          0.0                              0.0   \n860                           1.0                              0.0   \n\n      BuildingType_Nonresidential WA  BuildingType_SPS-District K-12  \\\n748                              0.0                             0.0   \n2581                             0.0                             0.0   \n662                              0.0                             0.0   \n480                              0.0                             0.0   \n803                              0.0                             0.0   \n...                              ...                             ...   \n3092                             0.0                             0.0   \n1095                             0.0                             0.0   \n1130                             0.0                             0.0   \n1294                             0.0                             0.0   \n860                              0.0                             0.0   \n\n      PrimaryPropertyType_Distribution Center  \\\n748                                       0.0   \n2581                                      0.0   \n662                                       0.0   \n480                                       0.0   \n803                                       0.0   \n...                                       ...   \n3092                                      0.0   \n1095                                      0.0   \n1130                                      0.0   \n1294                                      0.0   \n860                                       0.0   \n\n      PrimaryPropertyType_High-Rise Multifamily  ...  \\\n748                                         0.0  ...   \n2581                                        0.0  ...   \n662                                         0.0  ...   \n480                                         0.0  ...   \n803                                         0.0  ...   \n...                                         ...  ...   \n3092                                        0.0  ...   \n1095                                        0.0  ...   \n1130                                        0.0  ...   \n1294                                        0.0  ...   \n860                                         0.0  ...   \n\n      PrimaryPropertyType_University  PrimaryPropertyType_Warehouse  \\\n748                              0.0                            0.0   \n2581                             0.0                            0.0   \n662                              0.0                            0.0   \n480                              0.0                            0.0   \n803                              0.0                            0.0   \n...                              ...                            ...   \n3092                             0.0                            0.0   \n1095                             0.0                            0.0   \n1130                             0.0                            0.0   \n1294                             0.0                            0.0   \n860                              0.0                            0.0   \n\n      PrimaryPropertyType_Worship Facility  CouncilDistrictCode_1  \\\n748                                    0.0                    0.0   \n2581                                   0.0                    0.0   \n662                                    0.0                    0.0   \n480                                    1.0                    1.0   \n803                                    0.0                    0.0   \n...                                    ...                    ...   \n3092                                   0.0                    0.0   \n1095                                   0.0                    0.0   \n1130                                   0.0                    0.0   \n1294                                   0.0                    0.0   \n860                                    0.0                    1.0   \n\n      CouncilDistrictCode_2  CouncilDistrictCode_3  CouncilDistrictCode_4  \\\n748                     1.0                    0.0                    0.0   \n2581                    0.0                    0.0                    1.0   \n662                     1.0                    0.0                    0.0   \n480                     0.0                    0.0                    0.0   \n803                     0.0                    0.0                    0.0   \n...                     ...                    ...                    ...   \n3092                    0.0                    0.0                    1.0   \n1095                    0.0                    0.0                    1.0   \n1130                    0.0                    0.0                    0.0   \n1294                    0.0                    0.0                    0.0   \n860                     0.0                    0.0                    0.0   \n\n      CouncilDistrictCode_5  CouncilDistrictCode_6  CouncilDistrictCode_7  \n748                     0.0                    0.0                    0.0  \n2581                    0.0                    0.0                    0.0  \n662                     0.0                    0.0                    0.0  \n480                     0.0                    0.0                    0.0  \n803                     0.0                    0.0                    1.0  \n...                     ...                    ...                    ...  \n3092                    0.0                    0.0                    0.0  \n1095                    0.0                    0.0                    0.0  \n1130                    0.0                    1.0                    0.0  \n1294                    0.0                    1.0                    0.0  \n860                     0.0                    0.0                    0.0  \n\n[2209 rows x 38 columns]",
      "text/html": "<div>\n<style scoped>\n    .dataframe tbody tr th:only-of-type {\n        vertical-align: middle;\n    }\n\n    .dataframe tbody tr th {\n        vertical-align: top;\n    }\n\n    .dataframe thead th {\n        text-align: right;\n    }\n</style>\n<table border=\"1\" class=\"dataframe\">\n  <thead>\n    <tr style=\"text-align: right;\">\n      <th></th>\n      <th>BuildingType_Campus</th>\n      <th>BuildingType_Multifamily HR (10+)</th>\n      <th>BuildingType_Multifamily LR (1-4)</th>\n      <th>BuildingType_Multifamily MR (5-9)</th>\n      <th>BuildingType_NonResidential</th>\n      <th>BuildingType_Nonresidential COS</th>\n      <th>BuildingType_Nonresidential WA</th>\n      <th>BuildingType_SPS-District K-12</th>\n      <th>PrimaryPropertyType_Distribution Center</th>\n      <th>PrimaryPropertyType_High-Rise Multifamily</th>\n      <th>...</th>\n      <th>PrimaryPropertyType_University</th>\n      <th>PrimaryPropertyType_Warehouse</th>\n      <th>PrimaryPropertyType_Worship Facility</th>\n      <th>CouncilDistrictCode_1</th>\n      <th>CouncilDistrictCode_2</th>\n      <th>CouncilDistrictCode_3</th>\n      <th>CouncilDistrictCode_4</th>\n      <th>CouncilDistrictCode_5</th>\n      <th>CouncilDistrictCode_6</th>\n      <th>CouncilDistrictCode_7</th>\n    </tr>\n  </thead>\n  <tbody>\n    <tr>\n      <th>748</th>\n      <td>0.0</td>\n      <td>0.0</td>\n      <td>1.0</td>\n      <td>0.0</td>\n      <td>0.0</td>\n      <td>0.0</td>\n      <td>0.0</td>\n      <td>0.0</td>\n      <td>0.0</td>\n      <td>0.0</td>\n      <td>...</td>\n      <td>0.0</td>\n      <td>0.0</td>\n      <td>0.0</td>\n      <td>0.0</td>\n      <td>1.0</td>\n      <td>0.0</td>\n      <td>0.0</td>\n      <td>0.0</td>\n      <td>0.0</td>\n      <td>0.0</td>\n    </tr>\n    <tr>\n      <th>2581</th>\n      <td>0.0</td>\n      <td>0.0</td>\n      <td>1.0</td>\n      <td>0.0</td>\n      <td>0.0</td>\n      <td>0.0</td>\n      <td>0.0</td>\n      <td>0.0</td>\n      <td>0.0</td>\n      <td>0.0</td>\n      <td>...</td>\n      <td>0.0</td>\n      <td>0.0</td>\n      <td>0.0</td>\n      <td>0.0</td>\n      <td>0.0</td>\n      <td>0.0</td>\n      <td>1.0</td>\n      <td>0.0</td>\n      <td>0.0</td>\n      <td>0.0</td>\n    </tr>\n    <tr>\n      <th>662</th>\n      <td>0.0</td>\n      <td>0.0</td>\n      <td>1.0</td>\n      <td>0.0</td>\n      <td>0.0</td>\n      <td>0.0</td>\n      <td>0.0</td>\n      <td>0.0</td>\n      <td>0.0</td>\n      <td>0.0</td>\n      <td>...</td>\n      <td>0.0</td>\n      <td>0.0</td>\n      <td>0.0</td>\n      <td>0.0</td>\n      <td>1.0</td>\n      <td>0.0</td>\n      <td>0.0</td>\n      <td>0.0</td>\n      <td>0.0</td>\n      <td>0.0</td>\n    </tr>\n    <tr>\n      <th>480</th>\n      <td>0.0</td>\n      <td>0.0</td>\n      <td>0.0</td>\n      <td>0.0</td>\n      <td>1.0</td>\n      <td>0.0</td>\n      <td>0.0</td>\n      <td>0.0</td>\n      <td>0.0</td>\n      <td>0.0</td>\n      <td>...</td>\n      <td>0.0</td>\n      <td>0.0</td>\n      <td>1.0</td>\n      <td>1.0</td>\n      <td>0.0</td>\n      <td>0.0</td>\n      <td>0.0</td>\n      <td>0.0</td>\n      <td>0.0</td>\n      <td>0.0</td>\n    </tr>\n    <tr>\n      <th>803</th>\n      <td>0.0</td>\n      <td>0.0</td>\n      <td>0.0</td>\n      <td>1.0</td>\n      <td>0.0</td>\n      <td>0.0</td>\n      <td>0.0</td>\n      <td>0.0</td>\n      <td>0.0</td>\n      <td>0.0</td>\n      <td>...</td>\n      <td>0.0</td>\n      <td>0.0</td>\n      <td>0.0</td>\n      <td>0.0</td>\n      <td>0.0</td>\n      <td>0.0</td>\n      <td>0.0</td>\n      <td>0.0</td>\n      <td>0.0</td>\n      <td>1.0</td>\n    </tr>\n    <tr>\n      <th>...</th>\n      <td>...</td>\n      <td>...</td>\n      <td>...</td>\n      <td>...</td>\n      <td>...</td>\n      <td>...</td>\n      <td>...</td>\n      <td>...</td>\n      <td>...</td>\n      <td>...</td>\n      <td>...</td>\n      <td>...</td>\n      <td>...</td>\n      <td>...</td>\n      <td>...</td>\n      <td>...</td>\n      <td>...</td>\n      <td>...</td>\n      <td>...</td>\n      <td>...</td>\n      <td>...</td>\n    </tr>\n    <tr>\n      <th>3092</th>\n      <td>0.0</td>\n      <td>0.0</td>\n      <td>0.0</td>\n      <td>0.0</td>\n      <td>1.0</td>\n      <td>0.0</td>\n      <td>0.0</td>\n      <td>0.0</td>\n      <td>0.0</td>\n      <td>0.0</td>\n      <td>...</td>\n      <td>0.0</td>\n      <td>0.0</td>\n      <td>0.0</td>\n      <td>0.0</td>\n      <td>0.0</td>\n      <td>0.0</td>\n      <td>1.0</td>\n      <td>0.0</td>\n      <td>0.0</td>\n      <td>0.0</td>\n    </tr>\n    <tr>\n      <th>1095</th>\n      <td>0.0</td>\n      <td>0.0</td>\n      <td>0.0</td>\n      <td>1.0</td>\n      <td>0.0</td>\n      <td>0.0</td>\n      <td>0.0</td>\n      <td>0.0</td>\n      <td>0.0</td>\n      <td>0.0</td>\n      <td>...</td>\n      <td>0.0</td>\n      <td>0.0</td>\n      <td>0.0</td>\n      <td>0.0</td>\n      <td>0.0</td>\n      <td>0.0</td>\n      <td>1.0</td>\n      <td>0.0</td>\n      <td>0.0</td>\n      <td>0.0</td>\n    </tr>\n    <tr>\n      <th>1130</th>\n      <td>0.0</td>\n      <td>0.0</td>\n      <td>0.0</td>\n      <td>1.0</td>\n      <td>0.0</td>\n      <td>0.0</td>\n      <td>0.0</td>\n      <td>0.0</td>\n      <td>0.0</td>\n      <td>0.0</td>\n      <td>...</td>\n      <td>0.0</td>\n      <td>0.0</td>\n      <td>0.0</td>\n      <td>0.0</td>\n      <td>0.0</td>\n      <td>0.0</td>\n      <td>0.0</td>\n      <td>0.0</td>\n      <td>1.0</td>\n      <td>0.0</td>\n    </tr>\n    <tr>\n      <th>1294</th>\n      <td>0.0</td>\n      <td>0.0</td>\n      <td>1.0</td>\n      <td>0.0</td>\n      <td>0.0</td>\n      <td>0.0</td>\n      <td>0.0</td>\n      <td>0.0</td>\n      <td>0.0</td>\n      <td>0.0</td>\n      <td>...</td>\n      <td>0.0</td>\n      <td>0.0</td>\n      <td>0.0</td>\n      <td>0.0</td>\n      <td>0.0</td>\n      <td>0.0</td>\n      <td>0.0</td>\n      <td>0.0</td>\n      <td>1.0</td>\n      <td>0.0</td>\n    </tr>\n    <tr>\n      <th>860</th>\n      <td>0.0</td>\n      <td>0.0</td>\n      <td>0.0</td>\n      <td>0.0</td>\n      <td>1.0</td>\n      <td>0.0</td>\n      <td>0.0</td>\n      <td>0.0</td>\n      <td>0.0</td>\n      <td>0.0</td>\n      <td>...</td>\n      <td>0.0</td>\n      <td>0.0</td>\n      <td>0.0</td>\n      <td>1.0</td>\n      <td>0.0</td>\n      <td>0.0</td>\n      <td>0.0</td>\n      <td>0.0</td>\n      <td>0.0</td>\n      <td>0.0</td>\n    </tr>\n  </tbody>\n</table>\n<p>2209 rows × 38 columns</p>\n</div>"
     },
     "execution_count": 1484,
     "metadata": {},
     "output_type": "execute_result"
    }
   ],
   "source": [
    "X_train_encoded"
   ],
   "metadata": {
    "collapsed": false,
    "pycharm": {
     "name": "#%%\n"
    }
   }
  },
  {
   "cell_type": "code",
   "execution_count": 1485,
   "outputs": [
    {
     "data": {
      "text/plain": "      NumberofFloors  PropertyGFATotal  PropertyGFAParking  \\\n1          -0.509613         -0.430126           -0.252593   \n2          -0.330868         -0.435391           -0.252593   \n3           1.814069         -0.127839           -0.252593   \n4          -0.330868         -0.364376           -0.054166   \n5          -0.152123         -0.348134           -0.252593   \n...              ...               ...                 ...   \n3148       -0.330868         -0.398499           -0.252593   \n3149       -0.330868         -0.450857           -0.252593   \n3151       -0.509613         -0.380410           -0.252593   \n3154        0.026622         -0.381040           -0.082956   \n3155       -0.509613         -0.464419           -0.252593   \n\n      SecondLargestPropertyUseTypeGFA  ThirdLargestPropertyUseTypeGFA  \\\n1                           -0.156586                        0.078421   \n2                           -0.372413                       -0.192538   \n3                           -0.372413                       -0.192538   \n4                           -0.268757                       -0.192538   \n5                           -0.372413                       -0.192538   \n...                               ...                             ...   \n3148                        -0.372413                       -0.192538   \n3149                        -0.372413                       -0.192538   \n3151                        -0.035283                       -0.065028   \n3154                        -0.156166                       -0.059715   \n3155                        -0.174973                       -0.192538   \n\n      YearBuilt  \n1          1928  \n2          1925  \n3          1971  \n4          2001  \n5          1996  \n...         ...  \n3148       1920  \n3149       1946  \n3151       1927  \n3154       2001  \n3155       1911  \n\n[2209 rows x 6 columns]",
      "text/html": "<div>\n<style scoped>\n    .dataframe tbody tr th:only-of-type {\n        vertical-align: middle;\n    }\n\n    .dataframe tbody tr th {\n        vertical-align: top;\n    }\n\n    .dataframe thead th {\n        text-align: right;\n    }\n</style>\n<table border=\"1\" class=\"dataframe\">\n  <thead>\n    <tr style=\"text-align: right;\">\n      <th></th>\n      <th>NumberofFloors</th>\n      <th>PropertyGFATotal</th>\n      <th>PropertyGFAParking</th>\n      <th>SecondLargestPropertyUseTypeGFA</th>\n      <th>ThirdLargestPropertyUseTypeGFA</th>\n      <th>YearBuilt</th>\n    </tr>\n  </thead>\n  <tbody>\n    <tr>\n      <th>1</th>\n      <td>-0.509613</td>\n      <td>-0.430126</td>\n      <td>-0.252593</td>\n      <td>-0.156586</td>\n      <td>0.078421</td>\n      <td>1928</td>\n    </tr>\n    <tr>\n      <th>2</th>\n      <td>-0.330868</td>\n      <td>-0.435391</td>\n      <td>-0.252593</td>\n      <td>-0.372413</td>\n      <td>-0.192538</td>\n      <td>1925</td>\n    </tr>\n    <tr>\n      <th>3</th>\n      <td>1.814069</td>\n      <td>-0.127839</td>\n      <td>-0.252593</td>\n      <td>-0.372413</td>\n      <td>-0.192538</td>\n      <td>1971</td>\n    </tr>\n    <tr>\n      <th>4</th>\n      <td>-0.330868</td>\n      <td>-0.364376</td>\n      <td>-0.054166</td>\n      <td>-0.268757</td>\n      <td>-0.192538</td>\n      <td>2001</td>\n    </tr>\n    <tr>\n      <th>5</th>\n      <td>-0.152123</td>\n      <td>-0.348134</td>\n      <td>-0.252593</td>\n      <td>-0.372413</td>\n      <td>-0.192538</td>\n      <td>1996</td>\n    </tr>\n    <tr>\n      <th>...</th>\n      <td>...</td>\n      <td>...</td>\n      <td>...</td>\n      <td>...</td>\n      <td>...</td>\n      <td>...</td>\n    </tr>\n    <tr>\n      <th>3148</th>\n      <td>-0.330868</td>\n      <td>-0.398499</td>\n      <td>-0.252593</td>\n      <td>-0.372413</td>\n      <td>-0.192538</td>\n      <td>1920</td>\n    </tr>\n    <tr>\n      <th>3149</th>\n      <td>-0.330868</td>\n      <td>-0.450857</td>\n      <td>-0.252593</td>\n      <td>-0.372413</td>\n      <td>-0.192538</td>\n      <td>1946</td>\n    </tr>\n    <tr>\n      <th>3151</th>\n      <td>-0.509613</td>\n      <td>-0.380410</td>\n      <td>-0.252593</td>\n      <td>-0.035283</td>\n      <td>-0.065028</td>\n      <td>1927</td>\n    </tr>\n    <tr>\n      <th>3154</th>\n      <td>0.026622</td>\n      <td>-0.381040</td>\n      <td>-0.082956</td>\n      <td>-0.156166</td>\n      <td>-0.059715</td>\n      <td>2001</td>\n    </tr>\n    <tr>\n      <th>3155</th>\n      <td>-0.509613</td>\n      <td>-0.464419</td>\n      <td>-0.252593</td>\n      <td>-0.174973</td>\n      <td>-0.192538</td>\n      <td>1911</td>\n    </tr>\n  </tbody>\n</table>\n<p>2209 rows × 6 columns</p>\n</div>"
     },
     "execution_count": 1485,
     "metadata": {},
     "output_type": "execute_result"
    }
   ],
   "source": [
    "X_train_std[features_to_merge].sort_index()"
   ],
   "metadata": {
    "collapsed": false,
    "pycharm": {
     "name": "#%%\n"
    }
   }
  },
  {
   "cell_type": "code",
   "execution_count": 1486,
   "outputs": [
    {
     "data": {
      "text/plain": "      NumberofFloors  PropertyGFATotal  PropertyGFAParking  \\\n748        -0.330868          0.173149           -0.252593   \n2581       -0.330868         -0.465258           -0.252593   \n662        -0.509613         -0.459476           -0.252593   \n480        -0.509613         -0.441040           -0.252593   \n803         0.384111          0.414037           -0.252593   \n...              ...               ...                 ...   \n3092        0.026622          0.274681            1.314047   \n1095        0.205366         -0.060506           -0.252593   \n1130        0.205366          1.249695           -0.252593   \n1294       -0.330868         -0.436652           -0.252593   \n860        -0.688357         -0.355038           -0.252593   \n\n      SecondLargestPropertyUseTypeGFA  ThirdLargestPropertyUseTypeGFA  \\\n748                         -0.372413                       -0.192538   \n2581                        -0.353459                       -0.192538   \n662                         -0.372413                       -0.192538   \n480                         -0.372413                       -0.192538   \n803                         -0.372413                       -0.192538   \n...                               ...                             ...   \n3092                         0.997429                        0.200441   \n1095                         0.113784                       -0.192538   \n1130                         0.902633                        2.383877   \n1294                        -0.372413                       -0.192538   \n860                         -0.372413                       -0.192538   \n\n      YearBuilt  BuildingType_Campus  BuildingType_Multifamily HR (10+)  \\\n748        2001                  0.0                                0.0   \n2581       1977                  0.0                                0.0   \n662        1966                  0.0                                0.0   \n480        1957                  0.0                                0.0   \n803        1908                  0.0                                0.0   \n...         ...                  ...                                ...   \n3092       1985                  0.0                                0.0   \n1095       2013                  0.0                                0.0   \n1130       2014                  0.0                                0.0   \n1294       1947                  0.0                                0.0   \n860        2008                  0.0                                0.0   \n\n      BuildingType_Multifamily LR (1-4)  BuildingType_Multifamily MR (5-9)  \\\n748                                 1.0                                0.0   \n2581                                1.0                                0.0   \n662                                 1.0                                0.0   \n480                                 0.0                                0.0   \n803                                 0.0                                1.0   \n...                                 ...                                ...   \n3092                                0.0                                0.0   \n1095                                0.0                                1.0   \n1130                                0.0                                1.0   \n1294                                1.0                                0.0   \n860                                 0.0                                0.0   \n\n      ...  PrimaryPropertyType_University  PrimaryPropertyType_Warehouse  \\\n748   ...                             0.0                            0.0   \n2581  ...                             0.0                            0.0   \n662   ...                             0.0                            0.0   \n480   ...                             0.0                            0.0   \n803   ...                             0.0                            0.0   \n...   ...                             ...                            ...   \n3092  ...                             0.0                            0.0   \n1095  ...                             0.0                            0.0   \n1130  ...                             0.0                            0.0   \n1294  ...                             0.0                            0.0   \n860   ...                             0.0                            0.0   \n\n      PrimaryPropertyType_Worship Facility  CouncilDistrictCode_1  \\\n748                                    0.0                    0.0   \n2581                                   0.0                    0.0   \n662                                    0.0                    0.0   \n480                                    1.0                    1.0   \n803                                    0.0                    0.0   \n...                                    ...                    ...   \n3092                                   0.0                    0.0   \n1095                                   0.0                    0.0   \n1130                                   0.0                    0.0   \n1294                                   0.0                    0.0   \n860                                    0.0                    1.0   \n\n      CouncilDistrictCode_2  CouncilDistrictCode_3  CouncilDistrictCode_4  \\\n748                     1.0                    0.0                    0.0   \n2581                    0.0                    0.0                    1.0   \n662                     1.0                    0.0                    0.0   \n480                     0.0                    0.0                    0.0   \n803                     0.0                    0.0                    0.0   \n...                     ...                    ...                    ...   \n3092                    0.0                    0.0                    1.0   \n1095                    0.0                    0.0                    1.0   \n1130                    0.0                    0.0                    0.0   \n1294                    0.0                    0.0                    0.0   \n860                     0.0                    0.0                    0.0   \n\n      CouncilDistrictCode_5  CouncilDistrictCode_6  CouncilDistrictCode_7  \n748                     0.0                    0.0                    0.0  \n2581                    0.0                    0.0                    0.0  \n662                     0.0                    0.0                    0.0  \n480                     0.0                    0.0                    0.0  \n803                     0.0                    0.0                    1.0  \n...                     ...                    ...                    ...  \n3092                    0.0                    0.0                    0.0  \n1095                    0.0                    0.0                    0.0  \n1130                    0.0                    1.0                    0.0  \n1294                    0.0                    1.0                    0.0  \n860                     0.0                    0.0                    0.0  \n\n[2209 rows x 44 columns]",
      "text/html": "<div>\n<style scoped>\n    .dataframe tbody tr th:only-of-type {\n        vertical-align: middle;\n    }\n\n    .dataframe tbody tr th {\n        vertical-align: top;\n    }\n\n    .dataframe thead th {\n        text-align: right;\n    }\n</style>\n<table border=\"1\" class=\"dataframe\">\n  <thead>\n    <tr style=\"text-align: right;\">\n      <th></th>\n      <th>NumberofFloors</th>\n      <th>PropertyGFATotal</th>\n      <th>PropertyGFAParking</th>\n      <th>SecondLargestPropertyUseTypeGFA</th>\n      <th>ThirdLargestPropertyUseTypeGFA</th>\n      <th>YearBuilt</th>\n      <th>BuildingType_Campus</th>\n      <th>BuildingType_Multifamily HR (10+)</th>\n      <th>BuildingType_Multifamily LR (1-4)</th>\n      <th>BuildingType_Multifamily MR (5-9)</th>\n      <th>...</th>\n      <th>PrimaryPropertyType_University</th>\n      <th>PrimaryPropertyType_Warehouse</th>\n      <th>PrimaryPropertyType_Worship Facility</th>\n      <th>CouncilDistrictCode_1</th>\n      <th>CouncilDistrictCode_2</th>\n      <th>CouncilDistrictCode_3</th>\n      <th>CouncilDistrictCode_4</th>\n      <th>CouncilDistrictCode_5</th>\n      <th>CouncilDistrictCode_6</th>\n      <th>CouncilDistrictCode_7</th>\n    </tr>\n  </thead>\n  <tbody>\n    <tr>\n      <th>748</th>\n      <td>-0.330868</td>\n      <td>0.173149</td>\n      <td>-0.252593</td>\n      <td>-0.372413</td>\n      <td>-0.192538</td>\n      <td>2001</td>\n      <td>0.0</td>\n      <td>0.0</td>\n      <td>1.0</td>\n      <td>0.0</td>\n      <td>...</td>\n      <td>0.0</td>\n      <td>0.0</td>\n      <td>0.0</td>\n      <td>0.0</td>\n      <td>1.0</td>\n      <td>0.0</td>\n      <td>0.0</td>\n      <td>0.0</td>\n      <td>0.0</td>\n      <td>0.0</td>\n    </tr>\n    <tr>\n      <th>2581</th>\n      <td>-0.330868</td>\n      <td>-0.465258</td>\n      <td>-0.252593</td>\n      <td>-0.353459</td>\n      <td>-0.192538</td>\n      <td>1977</td>\n      <td>0.0</td>\n      <td>0.0</td>\n      <td>1.0</td>\n      <td>0.0</td>\n      <td>...</td>\n      <td>0.0</td>\n      <td>0.0</td>\n      <td>0.0</td>\n      <td>0.0</td>\n      <td>0.0</td>\n      <td>0.0</td>\n      <td>1.0</td>\n      <td>0.0</td>\n      <td>0.0</td>\n      <td>0.0</td>\n    </tr>\n    <tr>\n      <th>662</th>\n      <td>-0.509613</td>\n      <td>-0.459476</td>\n      <td>-0.252593</td>\n      <td>-0.372413</td>\n      <td>-0.192538</td>\n      <td>1966</td>\n      <td>0.0</td>\n      <td>0.0</td>\n      <td>1.0</td>\n      <td>0.0</td>\n      <td>...</td>\n      <td>0.0</td>\n      <td>0.0</td>\n      <td>0.0</td>\n      <td>0.0</td>\n      <td>1.0</td>\n      <td>0.0</td>\n      <td>0.0</td>\n      <td>0.0</td>\n      <td>0.0</td>\n      <td>0.0</td>\n    </tr>\n    <tr>\n      <th>480</th>\n      <td>-0.509613</td>\n      <td>-0.441040</td>\n      <td>-0.252593</td>\n      <td>-0.372413</td>\n      <td>-0.192538</td>\n      <td>1957</td>\n      <td>0.0</td>\n      <td>0.0</td>\n      <td>0.0</td>\n      <td>0.0</td>\n      <td>...</td>\n      <td>0.0</td>\n      <td>0.0</td>\n      <td>1.0</td>\n      <td>1.0</td>\n      <td>0.0</td>\n      <td>0.0</td>\n      <td>0.0</td>\n      <td>0.0</td>\n      <td>0.0</td>\n      <td>0.0</td>\n    </tr>\n    <tr>\n      <th>803</th>\n      <td>0.384111</td>\n      <td>0.414037</td>\n      <td>-0.252593</td>\n      <td>-0.372413</td>\n      <td>-0.192538</td>\n      <td>1908</td>\n      <td>0.0</td>\n      <td>0.0</td>\n      <td>0.0</td>\n      <td>1.0</td>\n      <td>...</td>\n      <td>0.0</td>\n      <td>0.0</td>\n      <td>0.0</td>\n      <td>0.0</td>\n      <td>0.0</td>\n      <td>0.0</td>\n      <td>0.0</td>\n      <td>0.0</td>\n      <td>0.0</td>\n      <td>1.0</td>\n    </tr>\n    <tr>\n      <th>...</th>\n      <td>...</td>\n      <td>...</td>\n      <td>...</td>\n      <td>...</td>\n      <td>...</td>\n      <td>...</td>\n      <td>...</td>\n      <td>...</td>\n      <td>...</td>\n      <td>...</td>\n      <td>...</td>\n      <td>...</td>\n      <td>...</td>\n      <td>...</td>\n      <td>...</td>\n      <td>...</td>\n      <td>...</td>\n      <td>...</td>\n      <td>...</td>\n      <td>...</td>\n      <td>...</td>\n    </tr>\n    <tr>\n      <th>3092</th>\n      <td>0.026622</td>\n      <td>0.274681</td>\n      <td>1.314047</td>\n      <td>0.997429</td>\n      <td>0.200441</td>\n      <td>1985</td>\n      <td>0.0</td>\n      <td>0.0</td>\n      <td>0.0</td>\n      <td>0.0</td>\n      <td>...</td>\n      <td>0.0</td>\n      <td>0.0</td>\n      <td>0.0</td>\n      <td>0.0</td>\n      <td>0.0</td>\n      <td>0.0</td>\n      <td>1.0</td>\n      <td>0.0</td>\n      <td>0.0</td>\n      <td>0.0</td>\n    </tr>\n    <tr>\n      <th>1095</th>\n      <td>0.205366</td>\n      <td>-0.060506</td>\n      <td>-0.252593</td>\n      <td>0.113784</td>\n      <td>-0.192538</td>\n      <td>2013</td>\n      <td>0.0</td>\n      <td>0.0</td>\n      <td>0.0</td>\n      <td>1.0</td>\n      <td>...</td>\n      <td>0.0</td>\n      <td>0.0</td>\n      <td>0.0</td>\n      <td>0.0</td>\n      <td>0.0</td>\n      <td>0.0</td>\n      <td>1.0</td>\n      <td>0.0</td>\n      <td>0.0</td>\n      <td>0.0</td>\n    </tr>\n    <tr>\n      <th>1130</th>\n      <td>0.205366</td>\n      <td>1.249695</td>\n      <td>-0.252593</td>\n      <td>0.902633</td>\n      <td>2.383877</td>\n      <td>2014</td>\n      <td>0.0</td>\n      <td>0.0</td>\n      <td>0.0</td>\n      <td>1.0</td>\n      <td>...</td>\n      <td>0.0</td>\n      <td>0.0</td>\n      <td>0.0</td>\n      <td>0.0</td>\n      <td>0.0</td>\n      <td>0.0</td>\n      <td>0.0</td>\n      <td>0.0</td>\n      <td>1.0</td>\n      <td>0.0</td>\n    </tr>\n    <tr>\n      <th>1294</th>\n      <td>-0.330868</td>\n      <td>-0.436652</td>\n      <td>-0.252593</td>\n      <td>-0.372413</td>\n      <td>-0.192538</td>\n      <td>1947</td>\n      <td>0.0</td>\n      <td>0.0</td>\n      <td>1.0</td>\n      <td>0.0</td>\n      <td>...</td>\n      <td>0.0</td>\n      <td>0.0</td>\n      <td>0.0</td>\n      <td>0.0</td>\n      <td>0.0</td>\n      <td>0.0</td>\n      <td>0.0</td>\n      <td>0.0</td>\n      <td>1.0</td>\n      <td>0.0</td>\n    </tr>\n    <tr>\n      <th>860</th>\n      <td>-0.688357</td>\n      <td>-0.355038</td>\n      <td>-0.252593</td>\n      <td>-0.372413</td>\n      <td>-0.192538</td>\n      <td>2008</td>\n      <td>0.0</td>\n      <td>0.0</td>\n      <td>0.0</td>\n      <td>0.0</td>\n      <td>...</td>\n      <td>0.0</td>\n      <td>0.0</td>\n      <td>0.0</td>\n      <td>1.0</td>\n      <td>0.0</td>\n      <td>0.0</td>\n      <td>0.0</td>\n      <td>0.0</td>\n      <td>0.0</td>\n      <td>0.0</td>\n    </tr>\n  </tbody>\n</table>\n<p>2209 rows × 44 columns</p>\n</div>"
     },
     "metadata": {},
     "output_type": "display_data"
    }
   ],
   "source": [
    "X_try = pd.merge(X_train_std[features_to_merge].sort_index(), X_train_encoded.sort_index(), left_index=True, right_index=True)\n",
    "#Concatenate the two dataframes :\n",
    "data_out = pd.concat([X_train_std[features_to_merge], X_train_encoded], axis=1)\n",
    "display(data_out)"
   ],
   "metadata": {
    "collapsed": false,
    "pycharm": {
     "name": "#%%\n"
    }
   }
  },
  {
   "cell_type": "markdown",
   "source": [],
   "metadata": {
    "collapsed": false,
    "pycharm": {
     "name": "#%% md\n"
    }
   }
  },
  {
   "cell_type": "markdown",
   "source": [
    "## II) Modelisation"
   ],
   "metadata": {
    "collapsed": false,
    "pycharm": {
     "name": "#%% md\n"
    }
   }
  },
  {
   "cell_type": "code",
   "execution_count": 1487,
   "outputs": [],
   "source": [
    "from sklearn.model_selection import GridSearchCV\n",
    "from sklearn.metrics import mean_squared_error"
   ],
   "metadata": {
    "collapsed": false,
    "pycharm": {
     "name": "#%%\n"
    }
   }
  },
  {
   "cell_type": "code",
   "execution_count": 1487,
   "outputs": [],
   "source": [],
   "metadata": {
    "collapsed": false,
    "pycharm": {
     "name": "#%%\n"
    }
   }
  },
  {
   "cell_type": "markdown",
   "source": [
    "### 1) Linear modelisation : Linear Regression / Ridge Regression / Lasso / Elastic Net\n"
   ],
   "metadata": {
    "collapsed": false,
    "pycharm": {
     "name": "#%% md\n"
    }
   }
  },
  {
   "cell_type": "code",
   "execution_count": 1488,
   "outputs": [
    {
     "data": {
      "text/plain": "(2209, 9)"
     },
     "execution_count": 1488,
     "metadata": {},
     "output_type": "execute_result"
    }
   ],
   "source": [
    "X_train.shape"
   ],
   "metadata": {
    "collapsed": false,
    "pycharm": {
     "name": "#%%\n"
    }
   }
  },
  {
   "cell_type": "code",
   "execution_count": 1489,
   "outputs": [
    {
     "data": {
      "text/plain": "(948, 9)"
     },
     "execution_count": 1489,
     "metadata": {},
     "output_type": "execute_result"
    }
   ],
   "source": [
    "X_test.shape"
   ],
   "metadata": {
    "collapsed": false,
    "pycharm": {
     "name": "#%%\n"
    }
   }
  },
  {
   "cell_type": "markdown",
   "source": [
    "#### 1) Linear Regression : baseline"
   ],
   "metadata": {
    "collapsed": false,
    "pycharm": {
     "name": "#%% md\n"
    }
   }
  },
  {
   "cell_type": "code",
   "execution_count": 1490,
   "outputs": [
    {
     "ename": "ValueError",
     "evalue": "could not convert string to float: 'Multifamily LR (1-4)'",
     "output_type": "error",
     "traceback": [
      "\u001B[1;31m---------------------------------------------------------------------------\u001B[0m",
      "\u001B[1;31mValueError\u001B[0m                                Traceback (most recent call last)",
      "\u001B[1;32m~\\AppData\\Local\\Temp/ipykernel_10592/1952785795.py\u001B[0m in \u001B[0;36m<module>\u001B[1;34m\u001B[0m\n\u001B[0;32m      4\u001B[0m \u001B[0mlr\u001B[0m \u001B[1;33m=\u001B[0m \u001B[0mlinear_model\u001B[0m\u001B[1;33m.\u001B[0m\u001B[0mLinearRegression\u001B[0m\u001B[1;33m(\u001B[0m\u001B[1;33m)\u001B[0m\u001B[1;33m\u001B[0m\u001B[1;33m\u001B[0m\u001B[0m\n\u001B[0;32m      5\u001B[0m \u001B[1;31m# On entraîne ce modèle sur les données d'entrainement\u001B[0m\u001B[1;33m\u001B[0m\u001B[1;33m\u001B[0m\u001B[0m\n\u001B[1;32m----> 6\u001B[1;33m \u001B[0mlr\u001B[0m\u001B[1;33m.\u001B[0m\u001B[0mfit\u001B[0m\u001B[1;33m(\u001B[0m\u001B[0mX_train\u001B[0m\u001B[1;33m,\u001B[0m \u001B[0my_train\u001B[0m\u001B[1;33m)\u001B[0m\u001B[1;33m\u001B[0m\u001B[1;33m\u001B[0m\u001B[0m\n\u001B[0m",
      "\u001B[1;32mC:\\ProgramData\\Anaconda3\\lib\\site-packages\\sklearn\\linear_model\\_base.py\u001B[0m in \u001B[0;36mfit\u001B[1;34m(self, X, y, sample_weight)\u001B[0m\n\u001B[0;32m    690\u001B[0m         )\n\u001B[0;32m    691\u001B[0m \u001B[1;33m\u001B[0m\u001B[0m\n\u001B[1;32m--> 692\u001B[1;33m         X, y, X_offset, y_offset, X_scale = _preprocess_data(\n\u001B[0m\u001B[0;32m    693\u001B[0m             \u001B[0mX\u001B[0m\u001B[1;33m,\u001B[0m\u001B[1;33m\u001B[0m\u001B[1;33m\u001B[0m\u001B[0m\n\u001B[0;32m    694\u001B[0m             \u001B[0my\u001B[0m\u001B[1;33m,\u001B[0m\u001B[1;33m\u001B[0m\u001B[1;33m\u001B[0m\u001B[0m\n",
      "\u001B[1;32mC:\\ProgramData\\Anaconda3\\lib\\site-packages\\sklearn\\linear_model\\_base.py\u001B[0m in \u001B[0;36m_preprocess_data\u001B[1;34m(X, y, fit_intercept, normalize, copy, sample_weight, check_input)\u001B[0m\n\u001B[0;32m    260\u001B[0m \u001B[1;33m\u001B[0m\u001B[0m\n\u001B[0;32m    261\u001B[0m     \u001B[1;32mif\u001B[0m \u001B[0mcheck_input\u001B[0m\u001B[1;33m:\u001B[0m\u001B[1;33m\u001B[0m\u001B[1;33m\u001B[0m\u001B[0m\n\u001B[1;32m--> 262\u001B[1;33m         \u001B[0mX\u001B[0m \u001B[1;33m=\u001B[0m \u001B[0mcheck_array\u001B[0m\u001B[1;33m(\u001B[0m\u001B[0mX\u001B[0m\u001B[1;33m,\u001B[0m \u001B[0mcopy\u001B[0m\u001B[1;33m=\u001B[0m\u001B[0mcopy\u001B[0m\u001B[1;33m,\u001B[0m \u001B[0maccept_sparse\u001B[0m\u001B[1;33m=\u001B[0m\u001B[1;33m[\u001B[0m\u001B[1;34m\"csr\"\u001B[0m\u001B[1;33m,\u001B[0m \u001B[1;34m\"csc\"\u001B[0m\u001B[1;33m]\u001B[0m\u001B[1;33m,\u001B[0m \u001B[0mdtype\u001B[0m\u001B[1;33m=\u001B[0m\u001B[0mFLOAT_DTYPES\u001B[0m\u001B[1;33m)\u001B[0m\u001B[1;33m\u001B[0m\u001B[1;33m\u001B[0m\u001B[0m\n\u001B[0m\u001B[0;32m    263\u001B[0m     \u001B[1;32melif\u001B[0m \u001B[0mcopy\u001B[0m\u001B[1;33m:\u001B[0m\u001B[1;33m\u001B[0m\u001B[1;33m\u001B[0m\u001B[0m\n\u001B[0;32m    264\u001B[0m         \u001B[1;32mif\u001B[0m \u001B[0msp\u001B[0m\u001B[1;33m.\u001B[0m\u001B[0missparse\u001B[0m\u001B[1;33m(\u001B[0m\u001B[0mX\u001B[0m\u001B[1;33m)\u001B[0m\u001B[1;33m:\u001B[0m\u001B[1;33m\u001B[0m\u001B[1;33m\u001B[0m\u001B[0m\n",
      "\u001B[1;32mC:\\ProgramData\\Anaconda3\\lib\\site-packages\\sklearn\\utils\\validation.py\u001B[0m in \u001B[0;36mcheck_array\u001B[1;34m(array, accept_sparse, accept_large_sparse, dtype, order, copy, force_all_finite, ensure_2d, allow_nd, ensure_min_samples, ensure_min_features, estimator, input_name)\u001B[0m\n\u001B[0;32m    854\u001B[0m                     \u001B[0marray\u001B[0m \u001B[1;33m=\u001B[0m \u001B[0marray\u001B[0m\u001B[1;33m.\u001B[0m\u001B[0mastype\u001B[0m\u001B[1;33m(\u001B[0m\u001B[0mdtype\u001B[0m\u001B[1;33m,\u001B[0m \u001B[0mcasting\u001B[0m\u001B[1;33m=\u001B[0m\u001B[1;34m\"unsafe\"\u001B[0m\u001B[1;33m,\u001B[0m \u001B[0mcopy\u001B[0m\u001B[1;33m=\u001B[0m\u001B[1;32mFalse\u001B[0m\u001B[1;33m)\u001B[0m\u001B[1;33m\u001B[0m\u001B[1;33m\u001B[0m\u001B[0m\n\u001B[0;32m    855\u001B[0m                 \u001B[1;32melse\u001B[0m\u001B[1;33m:\u001B[0m\u001B[1;33m\u001B[0m\u001B[1;33m\u001B[0m\u001B[0m\n\u001B[1;32m--> 856\u001B[1;33m                     \u001B[0marray\u001B[0m \u001B[1;33m=\u001B[0m \u001B[0mnp\u001B[0m\u001B[1;33m.\u001B[0m\u001B[0masarray\u001B[0m\u001B[1;33m(\u001B[0m\u001B[0marray\u001B[0m\u001B[1;33m,\u001B[0m \u001B[0morder\u001B[0m\u001B[1;33m=\u001B[0m\u001B[0morder\u001B[0m\u001B[1;33m,\u001B[0m \u001B[0mdtype\u001B[0m\u001B[1;33m=\u001B[0m\u001B[0mdtype\u001B[0m\u001B[1;33m)\u001B[0m\u001B[1;33m\u001B[0m\u001B[1;33m\u001B[0m\u001B[0m\n\u001B[0m\u001B[0;32m    857\u001B[0m             \u001B[1;32mexcept\u001B[0m \u001B[0mComplexWarning\u001B[0m \u001B[1;32mas\u001B[0m \u001B[0mcomplex_warning\u001B[0m\u001B[1;33m:\u001B[0m\u001B[1;33m\u001B[0m\u001B[1;33m\u001B[0m\u001B[0m\n\u001B[0;32m    858\u001B[0m                 raise ValueError(\n",
      "\u001B[1;32mC:\\ProgramData\\Anaconda3\\lib\\site-packages\\numpy\\core\\_asarray.py\u001B[0m in \u001B[0;36masarray\u001B[1;34m(a, dtype, order, like)\u001B[0m\n\u001B[0;32m    100\u001B[0m         \u001B[1;32mreturn\u001B[0m \u001B[0m_asarray_with_like\u001B[0m\u001B[1;33m(\u001B[0m\u001B[0ma\u001B[0m\u001B[1;33m,\u001B[0m \u001B[0mdtype\u001B[0m\u001B[1;33m=\u001B[0m\u001B[0mdtype\u001B[0m\u001B[1;33m,\u001B[0m \u001B[0morder\u001B[0m\u001B[1;33m=\u001B[0m\u001B[0morder\u001B[0m\u001B[1;33m,\u001B[0m \u001B[0mlike\u001B[0m\u001B[1;33m=\u001B[0m\u001B[0mlike\u001B[0m\u001B[1;33m)\u001B[0m\u001B[1;33m\u001B[0m\u001B[1;33m\u001B[0m\u001B[0m\n\u001B[0;32m    101\u001B[0m \u001B[1;33m\u001B[0m\u001B[0m\n\u001B[1;32m--> 102\u001B[1;33m     \u001B[1;32mreturn\u001B[0m \u001B[0marray\u001B[0m\u001B[1;33m(\u001B[0m\u001B[0ma\u001B[0m\u001B[1;33m,\u001B[0m \u001B[0mdtype\u001B[0m\u001B[1;33m,\u001B[0m \u001B[0mcopy\u001B[0m\u001B[1;33m=\u001B[0m\u001B[1;32mFalse\u001B[0m\u001B[1;33m,\u001B[0m \u001B[0morder\u001B[0m\u001B[1;33m=\u001B[0m\u001B[0morder\u001B[0m\u001B[1;33m)\u001B[0m\u001B[1;33m\u001B[0m\u001B[1;33m\u001B[0m\u001B[0m\n\u001B[0m\u001B[0;32m    103\u001B[0m \u001B[1;33m\u001B[0m\u001B[0m\n\u001B[0;32m    104\u001B[0m \u001B[1;33m\u001B[0m\u001B[0m\n",
      "\u001B[1;31mValueError\u001B[0m: could not convert string to float: 'Multifamily LR (1-4)'"
     ]
    }
   ],
   "source": [
    "from sklearn import linear_model\n",
    "\n",
    "# On crée un modèle de régression linéaire\n",
    "lr = linear_model.LinearRegression()\n",
    "# On entraîne ce modèle sur les données d'entrainement\n",
    "lr.fit(X_train, y_train)"
   ],
   "metadata": {
    "collapsed": false,
    "pycharm": {
     "name": "#%%\n"
    }
   }
  },
  {
   "cell_type": "code",
   "execution_count": null,
   "outputs": [],
   "source": [
    "# On récupère l'erreur de norme 2 sur le jeu de données test comme baseline\n",
    "baseline_error = np.mean((lr.predict(X_test) - y_test) ** 2)\n",
    "\n",
    "#On obtient l'erreur quadratique ci-dessous\n",
    "print(baseline_error)"
   ],
   "metadata": {
    "collapsed": false,
    "pycharm": {
     "name": "#%%\n"
    }
   }
  },
  {
   "cell_type": "markdown",
   "source": [
    "#### 2) Linear Regression : Ridge"
   ],
   "metadata": {
    "collapsed": false,
    "pycharm": {
     "name": "#%% md\n"
    }
   }
  },
  {
   "cell_type": "code",
   "execution_count": null,
   "outputs": [],
   "source": [
    "n_alphas = 50 #hyperparametre alpha\n",
    "alphas = np.logspace(-5, 5, 50)\n",
    "\n",
    "ridge = linear_model.Ridge()\n",
    "\n",
    "coefs = []\n",
    "errors = []\n",
    "for a in alphas:\n",
    "    ridge.set_params(alpha=a)\n",
    "    ridge.fit(X_train)\n",
    "    coefs.append(ridge.coef_)\n",
    "    errors.append(np.mean((ridge.predict(X_test) - y_test) ** 2))"
   ],
   "metadata": {
    "collapsed": false,
    "pycharm": {
     "name": "#%%\n"
    }
   }
  },
  {
   "cell_type": "code",
   "execution_count": null,
   "outputs": [],
   "source": [
    "# observation du comportement de l'erreur\n",
    "\n",
    "ax = plt.gca()\n",
    "ax.plot(alphas, errors, [10**-5, 10**5], [baseline_error, baseline_error])\n",
    "ax.set_xscale('log')\n",
    "plt.show()"
   ],
   "metadata": {
    "collapsed": false,
    "pycharm": {
     "name": "#%%\n"
    }
   }
  },
  {
   "cell_type": "code",
   "execution_count": null,
   "outputs": [],
   "source": [
    "ax = plt.gca()\n",
    "\n",
    "ax.plot(alphas, errors)\n",
    "ax.set_xscale('log')\n",
    "plt.xlabel('alpha')\n",
    "plt.ylabel('error')\n",
    "plt.axis('tight')\n",
    "plt.show()"
   ],
   "metadata": {
    "collapsed": false,
    "pycharm": {
     "name": "#%%\n"
    }
   }
  },
  {
   "cell_type": "code",
   "execution_count": null,
   "outputs": [],
   "source": [],
   "metadata": {
    "collapsed": false,
    "pycharm": {
     "name": "#%%\n"
    }
   }
  },
  {
   "cell_type": "code",
   "execution_count": null,
   "outputs": [],
   "source": [
    "# index du min des erreurs\n",
    "np.argmin(errors)"
   ],
   "metadata": {
    "collapsed": false,
    "pycharm": {
     "name": "#%%\n"
    }
   }
  },
  {
   "cell_type": "code",
   "execution_count": null,
   "outputs": [],
   "source": [
    "# recupere l'erreur min\n",
    "errors[np.argmin(errors)]"
   ],
   "metadata": {
    "collapsed": false,
    "pycharm": {
     "name": "#%%\n"
    }
   }
  },
  {
   "cell_type": "code",
   "execution_count": null,
   "outputs": [],
   "source": [
    "# recup alpha associé à cet erreur min\n",
    "alphas[np.argmin(errors)]\n",
    "# alphas[35]"
   ],
   "metadata": {
    "collapsed": false,
    "pycharm": {
     "name": "#%%\n"
    }
   }
  },
  {
   "cell_type": "code",
   "execution_count": null,
   "outputs": [],
   "source": [
    "# chemin de régularisation\n",
    "ax = plt.gca()\n",
    "ax.plot(alphas, coefs)\n",
    "ax.set_xscale('log')\n",
    "plt.show()"
   ],
   "metadata": {
    "collapsed": false,
    "pycharm": {
     "name": "#%%\n"
    }
   }
  },
  {
   "cell_type": "code",
   "execution_count": null,
   "outputs": [],
   "source": [
    "ax = plt.gca()\n",
    "\n",
    "ax.plot(alphas, coefs)\n",
    "ax.set_xscale('log')\n",
    "plt.xlabel('alpha')\n",
    "plt.ylabel('weights')\n",
    "plt.title('Ridge coefficients as a function of the regularization')\n",
    "plt.axis('tight')\n",
    "plt.show()"
   ],
   "metadata": {
    "collapsed": false,
    "pycharm": {
     "name": "#%%\n"
    }
   }
  },
  {
   "cell_type": "code",
   "execution_count": null,
   "outputs": [],
   "source": [
    "min(errors)"
   ],
   "metadata": {
    "collapsed": false,
    "pycharm": {
     "name": "#%%\n"
    }
   }
  },
  {
   "cell_type": "code",
   "execution_count": null,
   "outputs": [],
   "source": [],
   "metadata": {
    "collapsed": false,
    "pycharm": {
     "name": "#%%\n"
    }
   }
  },
  {
   "cell_type": "markdown",
   "source": [
    "#### 3) Linear Regression : LASSO"
   ],
   "metadata": {
    "collapsed": false,
    "pycharm": {
     "name": "#%% md\n"
    }
   }
  },
  {
   "cell_type": "code",
   "execution_count": null,
   "outputs": [],
   "source": [
    "n_alphas = 50\n",
    "alphas = np.logspace(-5, 5, 50)\n",
    "\n",
    "lasso = linear_model.Lasso()\n",
    "\n",
    "coefs = []\n",
    "errors = []\n",
    "for a in alphas:\n",
    "    lasso.set_params(alpha=a)\n",
    "    lasso.fit(X_train)\n",
    "    coefs.append(lasso.coef_)\n",
    "    errors.append(np.mean((lasso.predict(X_test) - y_test) ** 2))"
   ],
   "metadata": {
    "collapsed": false,
    "pycharm": {
     "name": "#%%\n"
    }
   }
  },
  {
   "cell_type": "code",
   "execution_count": null,
   "outputs": [],
   "source": [
    "n_alphas = 300\n",
    "alphas = np.logspace(-5, 1, n_alphas)\n",
    "lasso = linear_model.Lasso(fit_intercept=False)\n",
    "\n",
    "\"\"\"\n",
    "fit_intercept : bool, default=True\n",
    "Whether to calculate the intercept for this model. If set to False, no intercept will be used in calculations (i.e. data is expected to be centered).\n",
    "\"\"\"\n",
    "\n",
    "coefs = []\n",
    "errors = []\n",
    "for a in alphas:\n",
    "    lasso.set_params(alpha=a)\n",
    "    lasso.fit(X_train, y_train)\n",
    "    coefs.append(lasso.coef_)\n",
    "    errors.append([baseline_error, np.mean((lasso.predict(X_test) - y_test) ** 2)])"
   ],
   "metadata": {
    "collapsed": false,
    "pycharm": {
     "name": "#%%\n"
    }
   }
  },
  {
   "cell_type": "code",
   "execution_count": null,
   "outputs": [],
   "source": [
    "# observation du comportement de l'erreur\n",
    "\n",
    "ax = plt.gca()\n",
    "ax.plot(alphas, errors, [10**-5, 10**5], [baseline_error, baseline_error])\n",
    "ax.set_xscale('log')\n",
    "plt.show()"
   ],
   "metadata": {
    "collapsed": false,
    "pycharm": {
     "name": "#%%\n"
    }
   }
  },
  {
   "cell_type": "code",
   "execution_count": null,
   "outputs": [],
   "source": [
    "# recupere l'erreur min\n",
    "errors[np.argmin(errors)]"
   ],
   "metadata": {
    "collapsed": false,
    "pycharm": {
     "name": "#%%\n"
    }
   }
  },
  {
   "cell_type": "code",
   "execution_count": null,
   "outputs": [],
   "source": [
    "# recup alpha associé à cet erreur min\n",
    "alphas[np.argmin(errors)]"
   ],
   "metadata": {
    "collapsed": false,
    "pycharm": {
     "name": "#%%\n"
    }
   }
  },
  {
   "cell_type": "code",
   "execution_count": null,
   "outputs": [],
   "source": [
    "# chemin de régularisation\n",
    "ax = plt.gca()\n",
    "ax.plot(alphas, coefs)\n",
    "ax.set_xscale('log')\n",
    "plt.show()"
   ],
   "metadata": {
    "collapsed": false,
    "pycharm": {
     "name": "#%%\n"
    }
   }
  },
  {
   "cell_type": "code",
   "execution_count": null,
   "outputs": [],
   "source": [
    "ax = plt.gca()\n",
    "\n",
    "ax.plot(alphas, coefs)\n",
    "ax.set_xscale('log')\n",
    "plt.xlabel('alpha')\n",
    "plt.ylabel('weights')\n",
    "plt.axis('tight')\n",
    "plt.show()"
   ],
   "metadata": {
    "collapsed": false,
    "pycharm": {
     "name": "#%%\n"
    }
   }
  },
  {
   "cell_type": "code",
   "execution_count": null,
   "outputs": [],
   "source": [
    "import numpy as np\n",
    "\n",
    "X = np.matrix([-0.78768, -1.51760513, 0.74416271, -0.62288928])\n",
    "X = X.T\n",
    "print(X)\n",
    "\n",
    "y = np.matrix([-34.59703199, -30.79543532, 19.31018182, -19.44809959])\n",
    "y = y.T\n",
    "print(y)\n",
    "print(np.linalg.inv(X.T.dot(X)).dot(X.T))\n",
    "beta = np.linalg.inv(X.T.dot(X)).dot(X.T).dot(y)\n",
    "beta"
   ],
   "metadata": {
    "collapsed": false,
    "pycharm": {
     "name": "#%%\n"
    }
   }
  },
  {
   "cell_type": "markdown",
   "source": [
    "#### Export des modèles pour réutilisation ultérieure\n"
   ],
   "metadata": {
    "collapsed": false,
    "pycharm": {
     "name": "#%% md\n"
    }
   }
  },
  {
   "cell_type": "markdown",
   "source": [
    "#### Chargement des modèles\n"
   ],
   "metadata": {
    "collapsed": false,
    "pycharm": {
     "name": "#%% md\n"
    }
   }
  },
  {
   "cell_type": "markdown",
   "source": [
    "#### Comparaison des modèles\n"
   ],
   "metadata": {
    "collapsed": false,
    "pycharm": {
     "name": "#%% md\n"
    }
   }
  },
  {
   "cell_type": "raw",
   "source": [
    "plt.figure(figsize=(10,4))\n",
    "plt.title('Comparaison des RMSE relatives des modèles (en %)')\n",
    "chart = sns.barplot(x = results['Modèle'],\n",
    "                    y = results['RMSE_%']*100)\n",
    "chart.set_xticklabels(labels = results['Modèle'],\n",
    "                      rotation=45,\n",
    "                      horizontalalignment='right',\n",
    "                      size=12,\n",
    "                      )\n",
    "ax = plt.gca()\n",
    "ax.set_ylim([0, 5])\n",
    "plt.show()"
   ],
   "metadata": {
    "collapsed": false,
    "pycharm": {
     "name": "#%% raw\n"
    }
   }
  },
  {
   "cell_type": "raw",
   "source": [
    "plt.title('Temps d\\'exécution des algorithmes pour la prédiction \\n(jeu d\\'entrainement) - échelle logarithmique')\n",
    "sns.barplot(x=nom_modeles,\n",
    "            y = [5.32, 640, 2.14, 145])\n",
    "ax = plt.gca()\n",
    "ax.set_yscale('log')"
   ],
   "metadata": {
    "collapsed": false,
    "pycharm": {
     "name": "#%% raw\n"
    }
   }
  },
  {
   "cell_type": "raw",
   "source": [
    "plt.figure(figsize=(8,6))\n",
    "sns.barplot(x = comparaison_score_melt['index'],\n",
    "            y = comparaison_score_melt['score'], hue = comparaison_score_melt['variable'])\n",
    "plt.title('Comparaison des performances des modèles (jeu de test)')"
   ],
   "metadata": {
    "collapsed": false,
    "pycharm": {
     "name": "#%% raw\n"
    }
   }
  },
  {
   "cell_type": "markdown",
   "source": [
    "### III) Evaluation"
   ],
   "metadata": {
    "collapsed": false,
    "pycharm": {
     "name": "#%% md\n"
    }
   }
  },
  {
   "cell_type": "markdown",
   "source": [
    "#### Vérification des prédictions\n"
   ],
   "metadata": {
    "collapsed": false,
    "pycharm": {
     "name": "#%% md\n"
    }
   }
  },
  {
   "cell_type": "code",
   "execution_count": null,
   "outputs": [],
   "source": [],
   "metadata": {
    "collapsed": false,
    "pycharm": {
     "name": "#%%\n"
    }
   }
  },
  {
   "cell_type": "markdown",
   "source": [
    "#### Intérêt du Energy Star Score\n"
   ],
   "metadata": {
    "collapsed": false,
    "pycharm": {
     "name": "#%% md\n"
    }
   }
  }
 ],
 "metadata": {
  "kernelspec": {
   "display_name": "Python 3",
   "language": "python",
   "name": "python3"
  },
  "language_info": {
   "codemirror_mode": {
    "name": "ipython",
    "version": 2
   },
   "file_extension": ".py",
   "mimetype": "text/x-python",
   "name": "python",
   "nbconvert_exporter": "python",
   "pygments_lexer": "ipython2",
   "version": "2.7.6"
  }
 },
 "nbformat": 4,
 "nbformat_minor": 0
}